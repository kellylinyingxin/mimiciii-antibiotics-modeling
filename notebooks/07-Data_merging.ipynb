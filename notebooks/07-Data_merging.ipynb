{
 "cells": [
  {
   "cell_type": "code",
   "execution_count": 9,
   "metadata": {},
   "outputs": [
    {
     "name": "stdout",
     "output_type": "stream",
     "text": [
      "The autotime extension is already loaded. To reload it, use:\n",
      "  %reload_ext autotime\n"
     ]
    }
   ],
   "source": [
    "import pandas as pd\n",
    "import matplotlib.pyplot as plt\n",
    "import os\n",
    "from pathlib import Path\n",
    "import seaborn as sns\n",
    "import numpy as np\n",
    "\n",
    "from sklearn.externals.joblib import Memory\n",
    "memory = Memory(cachedir='/tmp', verbose=0)\n",
    "#@memory.cache above any def fxn.\n",
    "\n",
    "%matplotlib inline\n",
    "plt.style.use('ggplot')\n",
    "\n",
    "from notebook.services.config import ConfigManager\n",
    "cm = ConfigManager()\n",
    "cm.update('livereveal', {\n",
    "        'width': 1024,\n",
    "        'height': 768,\n",
    "        'scroll': True,\n",
    "})\n",
    "\n",
    "%load_ext autotime\n",
    "%reload_ext autotime"
   ]
  },
  {
   "cell_type": "code",
   "execution_count": 2,
   "metadata": {},
   "outputs": [
    {
     "name": "stdout",
     "output_type": "stream",
     "text": [
      "time: 121 ms\n"
     ]
    }
   ],
   "source": [
    "#cohort import\n",
    "\n",
    "os.chdir('/Users/geickelb1/Documents/GitHub/mimiciii-antibiotics-modeling') #use to change working directory\n",
    "wd= os.getcwd() #'/Users/geickelb1/Documents/GitHub/mimiciii-antibiotics-modeling'\n",
    "\n",
    "\n",
    "final_pt_df2 = pd.read_csv(Path(wd + '/data/raw/csv/01102018_final_pt_df2_v.csv') , index_col=0) #only for patients with minimum vitals\n",
    "patients= list(final_pt_df2['subject_id'].unique())\n",
    "hadm_id= list(final_pt_df2['hadm_id'].unique())\n",
    "icustay_id= list(final_pt_df2['icustay_id'].unique())\n",
    "icustay_id= [int(x) for x in icustay_id]"
   ]
  },
  {
   "cell_type": "code",
   "execution_count": 100,
   "metadata": {},
   "outputs": [
    {
     "name": "stdin",
     "output_type": "stream",
     "text": [
      "Password: ·····\n"
     ]
    },
    {
     "name": "stdout",
     "output_type": "stream",
     "text": [
      "time: 2.3 s\n"
     ]
    }
   ],
   "source": [
    "#adding this in fow now, will eventually want to switch this to the 03-clinical_variables_final\n",
    "import psycopg2\n",
    "import getpass\n",
    "conn = psycopg2.connect(dbname=\"mimic\", user=\"student\", host=\"luolabwkstn01.fsm.northwestern.edu\", port=\"5432\",\n",
    "                        password=getpass.getpass(prompt='Password:'.format()))\n",
    "cur=conn.cursor()\n",
    "\n",
    "query_schema = 'SET search_path to ' + \"mimiciii\" + ';'"
   ]
  },
  {
   "cell_type": "code",
   "execution_count": 50,
   "metadata": {},
   "outputs": [
    {
     "name": "stderr",
     "output_type": "stream",
     "text": [
      "/Users/geickelb1/anaconda/envs/rpy-env/lib/python3.6/site-packages/numpy/lib/arraysetops.py:472: FutureWarning: elementwise comparison failed; returning scalar instead, but in the future will perform elementwise comparison\n",
      "  mask |= (ar1 == a)\n"
     ]
    },
    {
     "name": "stdout",
     "output_type": "stream",
     "text": [
      "time: 14.3 s\n"
     ]
    }
   ],
   "source": [
    "#reading in all of my data that is not limited to 72 hour time window between t_0 and t+72\n",
    "date= '27082018' \n",
    "\n",
    "ventcategory_df=pd.read_csv(Path(\n",
    "    wd+'/data/raw/csv/%s_ventcategory_df.csv' %(date)), index_col=0)\n",
    "\n",
    "vaso_dose_72=pd.read_csv(Path(\n",
    "    wd+'/data/raw/csv/72_hr_window/%s_vaso_dose_72.csv' %(date)), index_col=0)\n",
    "\n",
    "\n",
    "echodata_72=pd.read_csv(Path(\n",
    "    wd+'/data/raw/csv/72_hr_window/%s_echodata_72.csv' %(date)), index_col=0)\n",
    "labs_all_nosummary_72=pd.read_csv(Path(\n",
    "    wd+'/data/raw/csv/72_hr_window/%s_labs_all_nosummary_72.csv' %(date)), index_col=0)\n",
    "\n",
    "\n",
    "weightfirstday_df=pd.read_csv(Path(\n",
    "    wd+'/data/raw/csv/72_hr_window/%s_weightfirstday_df.csv' %(date)), index_col=0)\n",
    "heightfirstday_df=pd.read_csv(Path(\n",
    "    wd+'/data/raw/csv/72_hr_window/%s_heightfirstday_df.csv' %(date)), index_col=0)\n",
    "\n",
    "vitals_all_nosummary_72=pd.read_csv(Path(\n",
    "    wd+'/data/raw/csv/72_hr_window/%s_vitals_all_nosummary_72.csv' %(date)), index_col=0)\n",
    "uti_all_72=pd.read_csv(Path(\n",
    "    wd+'/data/raw/csv/72_hr_window/%s_uti_all_72.csv' %(date)), index_col=0)\n",
    "bg_all_nosummary_72=pd.read_csv(Path(\n",
    "    wd+'/data/raw/csv/72_hr_window/%s_bg_all_nosummary_72.csv' %(date)), index_col=0)\n",
    "\n",
    "rrt_merged_allpt_df=pd.read_csv(Path(\n",
    "    wd+'/data/raw/csv/72_hr_window/%s_rrt_merged_allpt_df.csv' %(date)), index_col=0)\n",
    "gcs72_df=pd.read_csv(Path(\n",
    "    wd+'/data/raw/csv/72_hr_window/%s_gcs72_df.csv' %(date)), index_col=0)\n",
    "\n",
    "sofa_df_72=pd.read_csv(Path(\n",
    "    wd+'/data/raw/csv/%s_sofa_df_72.csv' %(date)), index_col=0)"
   ]
  },
  {
   "cell_type": "code",
   "execution_count": 4,
   "metadata": {},
   "outputs": [
    {
     "name": "stdout",
     "output_type": "stream",
     "text": [
      "time: 4.67 ms\n"
     ]
    }
   ],
   "source": [
    "def df_subset(df):\n",
    "    try:\n",
    "        df = df.loc[df.loc[:,'icustay_id'].isin(icustay_id),:]\n",
    "    except KeyError or NameError:\n",
    "        try:\n",
    "            df = df.loc[df.loc[:,'hadm_id'].isin(hadm_id),:]\n",
    "        except KeyError or NameError:\n",
    "            df = df.loc[df.loc[:,'subject_id'].isin(patients),:]\n",
    "    return(df)"
   ]
  },
  {
   "cell_type": "code",
   "execution_count": 51,
   "metadata": {},
   "outputs": [
    {
     "name": "stdout",
     "output_type": "stream",
     "text": [
      "time: 1.02 s\n"
     ]
    }
   ],
   "source": [
    "# subsetting each dataframe to only patients in final_patients_df2_v:\n",
    "dataframe_list= [\n",
    "    ventcategory_df, vaso_dose_72, echodata_72,\n",
    "    labs_all_nosummary_72, weightfirstday_df,\n",
    "    heightfirstday_df, vitals_all_nosummary_72,\n",
    "    uti_all_72, bg_all_nosummary_72,\n",
    "    rrt_merged_allpt_df, gcs72_df, sofa_df_72\n",
    "]\n",
    "\n",
    "(\n",
    "ventcategory_df, vaso_dose_72, echodata_72,\n",
    "labs_all_nosummary_72, weightfirstday_df,\n",
    "heightfirstday_df, vitals_all_nosummary_72,\n",
    "uti_all_72, bg_all_nosummary_72,\n",
    "rrt_merged_allpt_df, gcs72_df, sofa_df_72\n",
    ") = (df_subset(df) for df in dataframe_list)"
   ]
  },
  {
   "cell_type": "markdown",
   "metadata": {},
   "source": [
    "#### all dataframes to melt together\n",
    "- vaso_dose_72 : \n",
    "- ventcategory_df : \n",
    "- echodata_72 : \n",
    "- labs_all_nosummary_72 : \n",
    "- weightfirstday_df : \n",
    "- heightfirstday_df : \n",
    "- vitals_all_nosummary_72 :\n",
    "- uti_all_72 :\n",
    "- bg_all_nosummary_72 :\n",
    "- rrt_merged_allpt_df :\n",
    "- gcs72_df : \n",
    "- sofa_df_72: "
   ]
  },
  {
   "cell_type": "markdown",
   "metadata": {},
   "source": [
    "10/5/18\n",
    "# Standardizing Columns in df to merge together\n",
    "### list of columns in master df:\n",
    "- subject_id\n",
    "- hadm_id\n",
    "- icustay_id\n",
    "- charttime: starttime/charttime.\n",
    "- endtime: going to be null for any value listed with only a charttime. \n",
    "- label\n",
    "- value\n",
    "- units?\n",
    "- t_0\n",
    "- delta\n",
    "- days\n",
    "- frequency\n",
    "- dtype"
   ]
  },
  {
   "cell_type": "markdown",
   "metadata": {},
   "source": [
    "### Vaso_dose"
   ]
  },
  {
   "cell_type": "code",
   "execution_count": 81,
   "metadata": {},
   "outputs": [
    {
     "name": "stdout",
     "output_type": "stream",
     "text": [
      "time: 20.6 ms\n"
     ]
    }
   ],
   "source": [
    "#vaso_dose_72.head()\n",
    "vaso_dose_72= vaso_dose_72.rename(\n",
    "    columns={'starttime':'charttime','label':'vaso_type'}\n",
    "        )#.drop(labels='endtime', axis=1) \n",
    "#renaming starttime to charttime and dropping endtime\n",
    "\n",
    "vaso_dose_72['uom']= 'mg'"
   ]
  },
  {
   "cell_type": "code",
   "execution_count": 82,
   "metadata": {},
   "outputs": [
    {
     "data": {
      "text/html": [
       "<div>\n",
       "<style scoped>\n",
       "    .dataframe tbody tr th:only-of-type {\n",
       "        vertical-align: middle;\n",
       "    }\n",
       "\n",
       "    .dataframe tbody tr th {\n",
       "        vertical-align: top;\n",
       "    }\n",
       "\n",
       "    .dataframe thead th {\n",
       "        text-align: right;\n",
       "    }\n",
       "</style>\n",
       "<table border=\"1\" class=\"dataframe\">\n",
       "  <thead>\n",
       "    <tr style=\"text-align: right;\">\n",
       "      <th></th>\n",
       "      <th>icustay_id</th>\n",
       "      <th>charttime</th>\n",
       "      <th>endtime</th>\n",
       "      <th>vaso_rate</th>\n",
       "      <th>vaso_amount</th>\n",
       "      <th>vaso_type</th>\n",
       "      <th>t_0</th>\n",
       "      <th>delta</th>\n",
       "      <th>uom</th>\n",
       "    </tr>\n",
       "  </thead>\n",
       "  <tbody>\n",
       "    <tr>\n",
       "      <th>4</th>\n",
       "      <td>200349.0</td>\n",
       "      <td>2139-06-02 16:31:00</td>\n",
       "      <td>2139-06-02 18:10:00</td>\n",
       "      <td>0.012030</td>\n",
       "      <td>0.073958</td>\n",
       "      <td>epinephrine</td>\n",
       "      <td>2139-06-02</td>\n",
       "      <td>0 days 16:31:00.000000000</td>\n",
       "      <td>mg</td>\n",
       "    </tr>\n",
       "    <tr>\n",
       "      <th>108</th>\n",
       "      <td>200952.0</td>\n",
       "      <td>2139-09-23 15:07:00</td>\n",
       "      <td>2139-09-24 06:43:00</td>\n",
       "      <td>0.020004</td>\n",
       "      <td>1.049601</td>\n",
       "      <td>epinephrine</td>\n",
       "      <td>2139-09-23</td>\n",
       "      <td>0 days 15:07:00.000000000</td>\n",
       "      <td>mg</td>\n",
       "    </tr>\n",
       "    <tr>\n",
       "      <th>109</th>\n",
       "      <td>200952.0</td>\n",
       "      <td>2139-09-25 12:00:00</td>\n",
       "      <td>2139-09-25 21:59:00</td>\n",
       "      <td>0.080068</td>\n",
       "      <td>1.962759</td>\n",
       "      <td>epinephrine</td>\n",
       "      <td>2139-09-23</td>\n",
       "      <td>2 days 12:00:00.000000000</td>\n",
       "      <td>mg</td>\n",
       "    </tr>\n",
       "    <tr>\n",
       "      <th>110</th>\n",
       "      <td>200952.0</td>\n",
       "      <td>2139-09-25 21:59:00</td>\n",
       "      <td>2139-09-26 07:38:00</td>\n",
       "      <td>0.060601</td>\n",
       "      <td>2.000000</td>\n",
       "      <td>epinephrine</td>\n",
       "      <td>2139-09-23</td>\n",
       "      <td>2 days 21:59:00.000000000</td>\n",
       "      <td>mg</td>\n",
       "    </tr>\n",
       "    <tr>\n",
       "      <th>122</th>\n",
       "      <td>200952.0</td>\n",
       "      <td>2139-09-23 23:12:00</td>\n",
       "      <td>2139-09-24 21:54:00</td>\n",
       "      <td>0.149992</td>\n",
       "      <td>7.990853</td>\n",
       "      <td>norepinephrine</td>\n",
       "      <td>2139-09-23</td>\n",
       "      <td>0 days 23:12:00.000000000</td>\n",
       "      <td>mg</td>\n",
       "    </tr>\n",
       "  </tbody>\n",
       "</table>\n",
       "</div>"
      ],
      "text/plain": [
       "     icustay_id            charttime              endtime  vaso_rate  \\\n",
       "4      200349.0  2139-06-02 16:31:00  2139-06-02 18:10:00   0.012030   \n",
       "108    200952.0  2139-09-23 15:07:00  2139-09-24 06:43:00   0.020004   \n",
       "109    200952.0  2139-09-25 12:00:00  2139-09-25 21:59:00   0.080068   \n",
       "110    200952.0  2139-09-25 21:59:00  2139-09-26 07:38:00   0.060601   \n",
       "122    200952.0  2139-09-23 23:12:00  2139-09-24 21:54:00   0.149992   \n",
       "\n",
       "     vaso_amount       vaso_type         t_0                      delta uom  \n",
       "4       0.073958     epinephrine  2139-06-02  0 days 16:31:00.000000000  mg  \n",
       "108     1.049601     epinephrine  2139-09-23  0 days 15:07:00.000000000  mg  \n",
       "109     1.962759     epinephrine  2139-09-23  2 days 12:00:00.000000000  mg  \n",
       "110     2.000000     epinephrine  2139-09-23  2 days 21:59:00.000000000  mg  \n",
       "122     7.990853  norepinephrine  2139-09-23  0 days 23:12:00.000000000  mg  "
      ]
     },
     "execution_count": 82,
     "metadata": {},
     "output_type": "execute_result"
    },
    {
     "name": "stdout",
     "output_type": "stream",
     "text": [
      "time: 14.1 ms\n"
     ]
    }
   ],
   "source": [
    "list(vaso_dose_72)\n",
    "vaso_dose_72.head()\n",
    "\n",
    "#problem: There are 6 different vaso dilators, each with a vaso_rate and vaso_amount. what is diff between vaso_rate and vaso_amount? \n",
    "# if i only need 1 of the 2 values, then i just choose that and update label to be vaso_rate/amount. if i need both, then i need to\n",
    "# make a new type label for vaso_rate and vaso_amount each vasodilator. \n",
    "\n",
    "\n",
    "#from the sql documentation:\n",
    "# vaso_amount for carevue is not accurate"
   ]
  },
  {
   "cell_type": "code",
   "execution_count": 10,
   "metadata": {},
   "outputs": [
    {
     "data": {
      "text/plain": [
       "4        0.012030\n",
       "108      0.020004\n",
       "109      0.080068\n",
       "110      0.060601\n",
       "140      0.020000\n",
       "141      0.015000\n",
       "142      0.010000\n",
       "143      0.005000\n",
       "306      0.040021\n",
       "386      0.140292\n",
       "472      0.100000\n",
       "528      0.030006\n",
       "540      0.020000\n",
       "541      0.010000\n",
       "554      0.010000\n",
       "555      0.010000\n",
       "556      0.005000\n",
       "557      0.002000\n",
       "618      0.060232\n",
       "660      0.050020\n",
       "663      0.050000\n",
       "664      0.050000\n",
       "665      0.050000\n",
       "865      0.030000\n",
       "866      0.030017\n",
       "931      0.020000\n",
       "934      0.080212\n",
       "937      0.030000\n",
       "938      0.020000\n",
       "939      0.010000\n",
       "           ...   \n",
       "16876    0.160000\n",
       "16962    0.060102\n",
       "16963    0.019868\n",
       "17055    0.020010\n",
       "17058    0.020002\n",
       "17063    0.020000\n",
       "17064    0.010000\n",
       "17069    0.400000\n",
       "17070    0.040000\n",
       "17071    0.060000\n",
       "17072    0.050000\n",
       "17073    0.040000\n",
       "17074    0.050000\n",
       "17075    0.060000\n",
       "17141    0.020010\n",
       "17211    0.010000\n",
       "17212    0.020000\n",
       "17213    0.010000\n",
       "17214    0.020000\n",
       "17215    0.010000\n",
       "17323    0.100000\n",
       "17324    0.100000\n",
       "17325    0.090000\n",
       "17326    0.100000\n",
       "17327    0.090000\n",
       "17328    0.080000\n",
       "17329    0.070000\n",
       "17330    0.060000\n",
       "17331    0.040000\n",
       "17332    0.020000\n",
       "Name: vaso_rate, Length: 1179, dtype: float64"
      ]
     },
     "execution_count": 10,
     "metadata": {},
     "output_type": "execute_result"
    },
    {
     "name": "stdout",
     "output_type": "stream",
     "text": [
      "time: 18.2 ms\n"
     ]
    }
   ],
   "source": [
    "vaso_dose_72.loc[vaso_dose_72.loc[:,'vaso_type']=='epinephrine','vaso_rate']"
   ]
  },
  {
   "cell_type": "code",
   "execution_count": 20,
   "metadata": {},
   "outputs": [
    {
     "data": {
      "text/plain": [
       "49722"
      ]
     },
     "execution_count": 20,
     "metadata": {},
     "output_type": "execute_result"
    },
    {
     "name": "stdout",
     "output_type": "stream",
     "text": [
      "time: 2.26 ms\n"
     ]
    }
   ],
   "source": [
    "len(vaso_dose_72)"
   ]
  },
  {
   "cell_type": "code",
   "execution_count": 25,
   "metadata": {},
   "outputs": [
    {
     "name": "stdout",
     "output_type": "stream",
     "text": [
      "12712\n"
     ]
    },
    {
     "data": {
      "text/html": [
       "<div>\n",
       "<style scoped>\n",
       "    .dataframe tbody tr th:only-of-type {\n",
       "        vertical-align: middle;\n",
       "    }\n",
       "\n",
       "    .dataframe tbody tr th {\n",
       "        vertical-align: top;\n",
       "    }\n",
       "\n",
       "    .dataframe thead th {\n",
       "        text-align: right;\n",
       "    }\n",
       "</style>\n",
       "<table border=\"1\" class=\"dataframe\">\n",
       "  <thead>\n",
       "    <tr style=\"text-align: right;\">\n",
       "      <th></th>\n",
       "      <th>icustay_id</th>\n",
       "      <th>charttime</th>\n",
       "      <th>vaso_rate</th>\n",
       "      <th>vaso_amount</th>\n",
       "      <th>vaso_type</th>\n",
       "      <th>t_0</th>\n",
       "      <th>delta</th>\n",
       "    </tr>\n",
       "  </thead>\n",
       "  <tbody>\n",
       "    <tr>\n",
       "      <th>144</th>\n",
       "      <td>201005.0</td>\n",
       "      <td>2169-10-25 07:30:00</td>\n",
       "      <td>0.10</td>\n",
       "      <td>NaN</td>\n",
       "      <td>norepinephrine</td>\n",
       "      <td>2169-10-25</td>\n",
       "      <td>0 days 07:30:00.000000000</td>\n",
       "    </tr>\n",
       "    <tr>\n",
       "      <th>145</th>\n",
       "      <td>201005.0</td>\n",
       "      <td>2169-10-25 07:50:00</td>\n",
       "      <td>0.05</td>\n",
       "      <td>NaN</td>\n",
       "      <td>norepinephrine</td>\n",
       "      <td>2169-10-25</td>\n",
       "      <td>0 days 07:50:00.000000000</td>\n",
       "    </tr>\n",
       "    <tr>\n",
       "      <th>148</th>\n",
       "      <td>201005.0</td>\n",
       "      <td>2169-10-25 09:30:00</td>\n",
       "      <td>0.10</td>\n",
       "      <td>NaN</td>\n",
       "      <td>norepinephrine</td>\n",
       "      <td>2169-10-25</td>\n",
       "      <td>0 days 09:30:00.000000000</td>\n",
       "    </tr>\n",
       "    <tr>\n",
       "      <th>152</th>\n",
       "      <td>201005.0</td>\n",
       "      <td>2169-10-25 13:30:00</td>\n",
       "      <td>0.50</td>\n",
       "      <td>NaN</td>\n",
       "      <td>norepinephrine</td>\n",
       "      <td>2169-10-25</td>\n",
       "      <td>0 days 13:30:00.000000000</td>\n",
       "    </tr>\n",
       "    <tr>\n",
       "      <th>156</th>\n",
       "      <td>201005.0</td>\n",
       "      <td>2169-10-26 08:00:00</td>\n",
       "      <td>0.25</td>\n",
       "      <td>NaN</td>\n",
       "      <td>norepinephrine</td>\n",
       "      <td>2169-10-25</td>\n",
       "      <td>1 days 08:00:00.000000000</td>\n",
       "    </tr>\n",
       "  </tbody>\n",
       "</table>\n",
       "</div>"
      ],
      "text/plain": [
       "     icustay_id            charttime  vaso_rate  vaso_amount       vaso_type  \\\n",
       "144    201005.0  2169-10-25 07:30:00       0.10          NaN  norepinephrine   \n",
       "145    201005.0  2169-10-25 07:50:00       0.05          NaN  norepinephrine   \n",
       "148    201005.0  2169-10-25 09:30:00       0.10          NaN  norepinephrine   \n",
       "152    201005.0  2169-10-25 13:30:00       0.50          NaN  norepinephrine   \n",
       "156    201005.0  2169-10-26 08:00:00       0.25          NaN  norepinephrine   \n",
       "\n",
       "            t_0                      delta  \n",
       "144  2169-10-25  0 days 07:30:00.000000000  \n",
       "145  2169-10-25  0 days 07:50:00.000000000  \n",
       "148  2169-10-25  0 days 09:30:00.000000000  \n",
       "152  2169-10-25  0 days 13:30:00.000000000  \n",
       "156  2169-10-25  1 days 08:00:00.000000000  "
      ]
     },
     "execution_count": 25,
     "metadata": {},
     "output_type": "execute_result"
    },
    {
     "name": "stdout",
     "output_type": "stream",
     "text": [
      "time: 17 ms\n"
     ]
    }
   ],
   "source": [
    "print(len(vaso_dose_72.loc[vaso_dose_72.loc[:,'vaso_amount'].isna(),:]))\n",
    "vaso_dose_72.loc[vaso_dose_72.loc[:,'vaso_amount'].isna(),:].head() #12712/49722 have vaso amount as NaN."
   ]
  },
  {
   "cell_type": "code",
   "execution_count": 27,
   "metadata": {},
   "outputs": [
    {
     "data": {
      "text/plain": [
       "norepinephrine    5951\n",
       "phenylephrine     4574\n",
       "dopamine          1464\n",
       "vasopressin        315\n",
       "epinephrine        214\n",
       "dobutamine         194\n",
       "Name: vaso_type, dtype: int64"
      ]
     },
     "execution_count": 27,
     "metadata": {},
     "output_type": "execute_result"
    },
    {
     "name": "stdout",
     "output_type": "stream",
     "text": [
      "time: 7.15 ms\n"
     ]
    }
   ],
   "source": [
    "vaso_dose_72.loc[vaso_dose_72.loc[:,'vaso_amount'].isna(),'vaso_type'].value_counts() "
   ]
  },
  {
   "cell_type": "code",
   "execution_count": 30,
   "metadata": {},
   "outputs": [
    {
     "data": {
      "text/plain": [
       "norepinephrine    24115\n",
       "phenylephrine     16578\n",
       "dopamine           5093\n",
       "vasopressin        1810\n",
       "epinephrine        1179\n",
       "dobutamine          947\n",
       "Name: vaso_type, dtype: int64"
      ]
     },
     "execution_count": 30,
     "metadata": {},
     "output_type": "execute_result"
    },
    {
     "name": "stdout",
     "output_type": "stream",
     "text": [
      "time: 11.3 ms\n"
     ]
    }
   ],
   "source": [
    "vaso_dose_72.loc[:,'vaso_type'].value_counts()  "
   ]
  },
  {
   "cell_type": "code",
   "execution_count": 31,
   "metadata": {},
   "outputs": [
    {
     "data": {
      "text/plain": [
       "norepinephrine    0.246776\n",
       "phenylephrine     0.275908\n",
       "dopamine          0.287453\n",
       "vasopressin       0.174033\n",
       "epinephrine       0.181510\n",
       "dobutamine        0.204857\n",
       "Name: vaso_type, dtype: float64"
      ]
     },
     "execution_count": 31,
     "metadata": {},
     "output_type": "execute_result"
    },
    {
     "name": "stdout",
     "output_type": "stream",
     "text": [
      "time: 18.6 ms\n"
     ]
    }
   ],
   "source": [
    "vaso_dose_72.loc[vaso_dose_72.loc[:,'vaso_amount'].isna(),'vaso_type'].value_counts()/ vaso_dose_72.loc[:,'vaso_type'].value_counts()\n",
    "#it looks like the vaso_amounts missingness is roughly porportional to the total number. \n",
    "#ie not a large bias towards some vasodilators having more missing vaso_amount\n",
    "#this looks like it could be a case for using just vaso_rate.\n",
    "\n",
    "#also from the SQL documentation: vaso_amount for carevue is not accurate. "
   ]
  },
  {
   "cell_type": "code",
   "execution_count": null,
   "metadata": {},
   "outputs": [],
   "source": [
    "#task 1: lets look at the vaso_rate distributions. "
   ]
  },
  {
   "cell_type": "code",
   "execution_count": 36,
   "metadata": {},
   "outputs": [
    {
     "data": {
      "text/html": [
       "<div>\n",
       "<style scoped>\n",
       "    .dataframe tbody tr th:only-of-type {\n",
       "        vertical-align: middle;\n",
       "    }\n",
       "\n",
       "    .dataframe tbody tr th {\n",
       "        vertical-align: top;\n",
       "    }\n",
       "\n",
       "    .dataframe thead th {\n",
       "        text-align: right;\n",
       "    }\n",
       "</style>\n",
       "<table border=\"1\" class=\"dataframe\">\n",
       "  <thead>\n",
       "    <tr style=\"text-align: right;\">\n",
       "      <th></th>\n",
       "      <th>count</th>\n",
       "      <th>mean</th>\n",
       "      <th>std</th>\n",
       "      <th>min</th>\n",
       "      <th>25%</th>\n",
       "      <th>50%</th>\n",
       "      <th>75%</th>\n",
       "      <th>max</th>\n",
       "    </tr>\n",
       "    <tr>\n",
       "      <th>vaso_type</th>\n",
       "      <th></th>\n",
       "      <th></th>\n",
       "      <th></th>\n",
       "      <th></th>\n",
       "      <th></th>\n",
       "      <th></th>\n",
       "      <th></th>\n",
       "      <th></th>\n",
       "    </tr>\n",
       "  </thead>\n",
       "  <tbody>\n",
       "    <tr>\n",
       "      <th>dobutamine</th>\n",
       "      <td>947.0</td>\n",
       "      <td>5.125060</td>\n",
       "      <td>4.055376</td>\n",
       "      <td>0.249004</td>\n",
       "      <td>2.500000</td>\n",
       "      <td>4.000000</td>\n",
       "      <td>6.300000</td>\n",
       "      <td>25.000000</td>\n",
       "    </tr>\n",
       "    <tr>\n",
       "      <th>dopamine</th>\n",
       "      <td>5093.0</td>\n",
       "      <td>7.355780</td>\n",
       "      <td>9.209863</td>\n",
       "      <td>0.244873</td>\n",
       "      <td>3.333333</td>\n",
       "      <td>5.250000</td>\n",
       "      <td>10.000000</td>\n",
       "      <td>523.784242</td>\n",
       "    </tr>\n",
       "    <tr>\n",
       "      <th>epinephrine</th>\n",
       "      <td>1179.0</td>\n",
       "      <td>0.092613</td>\n",
       "      <td>0.573252</td>\n",
       "      <td>0.002000</td>\n",
       "      <td>0.020000</td>\n",
       "      <td>0.036613</td>\n",
       "      <td>0.085357</td>\n",
       "      <td>19.244444</td>\n",
       "    </tr>\n",
       "    <tr>\n",
       "      <th>norepinephrine</th>\n",
       "      <td>24115.0</td>\n",
       "      <td>0.173934</td>\n",
       "      <td>0.609784</td>\n",
       "      <td>0.000113</td>\n",
       "      <td>0.050000</td>\n",
       "      <td>0.100000</td>\n",
       "      <td>0.203860</td>\n",
       "      <td>61.439027</td>\n",
       "    </tr>\n",
       "    <tr>\n",
       "      <th>phenylephrine</th>\n",
       "      <td>16578.0</td>\n",
       "      <td>1.650212</td>\n",
       "      <td>4.261559</td>\n",
       "      <td>0.010000</td>\n",
       "      <td>0.500000</td>\n",
       "      <td>1.000000</td>\n",
       "      <td>2.000000</td>\n",
       "      <td>420.168221</td>\n",
       "    </tr>\n",
       "    <tr>\n",
       "      <th>vasopressin</th>\n",
       "      <td>1810.0</td>\n",
       "      <td>1.806855</td>\n",
       "      <td>10.219186</td>\n",
       "      <td>0.000267</td>\n",
       "      <td>0.040000</td>\n",
       "      <td>2.000000</td>\n",
       "      <td>2.400000</td>\n",
       "      <td>428.571426</td>\n",
       "    </tr>\n",
       "  </tbody>\n",
       "</table>\n",
       "</div>"
      ],
      "text/plain": [
       "                  count      mean        std       min       25%       50%  \\\n",
       "vaso_type                                                                    \n",
       "dobutamine        947.0  5.125060   4.055376  0.249004  2.500000  4.000000   \n",
       "dopamine         5093.0  7.355780   9.209863  0.244873  3.333333  5.250000   \n",
       "epinephrine      1179.0  0.092613   0.573252  0.002000  0.020000  0.036613   \n",
       "norepinephrine  24115.0  0.173934   0.609784  0.000113  0.050000  0.100000   \n",
       "phenylephrine   16578.0  1.650212   4.261559  0.010000  0.500000  1.000000   \n",
       "vasopressin      1810.0  1.806855  10.219186  0.000267  0.040000  2.000000   \n",
       "\n",
       "                      75%         max  \n",
       "vaso_type                              \n",
       "dobutamine       6.300000   25.000000  \n",
       "dopamine        10.000000  523.784242  \n",
       "epinephrine      0.085357   19.244444  \n",
       "norepinephrine   0.203860   61.439027  \n",
       "phenylephrine    2.000000  420.168221  \n",
       "vasopressin      2.400000  428.571426  "
      ]
     },
     "execution_count": 36,
     "metadata": {},
     "output_type": "execute_result"
    },
    {
     "name": "stdout",
     "output_type": "stream",
     "text": [
      "time: 80.3 ms\n"
     ]
    }
   ],
   "source": [
    "vaso_dose_72.groupby('vaso_type')['vaso_rate'].describe()\n"
   ]
  },
  {
   "cell_type": "markdown",
   "metadata": {},
   "source": [
    "each of the vaso_dilators have a very large maximum value \n",
    "that is many standard deviations above the mean. I need to investigate this"
   ]
  },
  {
   "cell_type": "code",
   "execution_count": 53,
   "metadata": {},
   "outputs": [
    {
     "data": {
      "text/html": [
       "<div>\n",
       "<style scoped>\n",
       "    .dataframe tbody tr th:only-of-type {\n",
       "        vertical-align: middle;\n",
       "    }\n",
       "\n",
       "    .dataframe tbody tr th {\n",
       "        vertical-align: top;\n",
       "    }\n",
       "\n",
       "    .dataframe thead th {\n",
       "        text-align: right;\n",
       "    }\n",
       "</style>\n",
       "<table border=\"1\" class=\"dataframe\">\n",
       "  <thead>\n",
       "    <tr style=\"text-align: right;\">\n",
       "      <th></th>\n",
       "      <th>icustay_id</th>\n",
       "      <th>starttime</th>\n",
       "      <th>endtime</th>\n",
       "      <th>vaso_rate</th>\n",
       "      <th>vaso_amount</th>\n",
       "      <th>label</th>\n",
       "      <th>t_0</th>\n",
       "      <th>delta</th>\n",
       "    </tr>\n",
       "  </thead>\n",
       "  <tbody>\n",
       "    <tr>\n",
       "      <th>69993</th>\n",
       "      <td>274503.0</td>\n",
       "      <td>2181-12-14 16:12:00</td>\n",
       "      <td>2181-12-14 22:02:00</td>\n",
       "      <td>523.784242</td>\n",
       "      <td>400.000315</td>\n",
       "      <td>dopamine</td>\n",
       "      <td>2181-12-13</td>\n",
       "      <td>1 days 16:12:00.000000000</td>\n",
       "    </tr>\n",
       "  </tbody>\n",
       "</table>\n",
       "</div>"
      ],
      "text/plain": [
       "       icustay_id            starttime              endtime   vaso_rate  \\\n",
       "69993    274503.0  2181-12-14 16:12:00  2181-12-14 22:02:00  523.784242   \n",
       "\n",
       "       vaso_amount     label         t_0                      delta  \n",
       "69993   400.000315  dopamine  2181-12-13  1 days 16:12:00.000000000  "
      ]
     },
     "execution_count": 53,
     "metadata": {},
     "output_type": "execute_result"
    },
    {
     "name": "stdout",
     "output_type": "stream",
     "text": [
      "time: 12 ms\n"
     ]
    }
   ],
   "source": [
    "#finding the outlier\n",
    "dopa_outlier1= vaso_dose_72.loc[vaso_dose_72.loc[:,'vaso_rate']==523.7842421053,:] \n",
    "dopa_outlier1"
   ]
  },
  {
   "cell_type": "code",
   "execution_count": 46,
   "metadata": {},
   "outputs": [
    {
     "data": {
      "text/html": [
       "<div>\n",
       "<style scoped>\n",
       "    .dataframe tbody tr th:only-of-type {\n",
       "        vertical-align: middle;\n",
       "    }\n",
       "\n",
       "    .dataframe tbody tr th {\n",
       "        vertical-align: top;\n",
       "    }\n",
       "\n",
       "    .dataframe thead th {\n",
       "        text-align: right;\n",
       "    }\n",
       "</style>\n",
       "<table border=\"1\" class=\"dataframe\">\n",
       "  <thead>\n",
       "    <tr style=\"text-align: right;\">\n",
       "      <th></th>\n",
       "      <th>icustay_id</th>\n",
       "      <th>charttime</th>\n",
       "      <th>vaso_rate</th>\n",
       "      <th>vaso_amount</th>\n",
       "      <th>vaso_type</th>\n",
       "      <th>t_0</th>\n",
       "      <th>delta</th>\n",
       "    </tr>\n",
       "  </thead>\n",
       "  <tbody>\n",
       "    <tr>\n",
       "      <th>69986</th>\n",
       "      <td>274503.0</td>\n",
       "      <td>2181-12-14 16:12:00</td>\n",
       "      <td>0.986466</td>\n",
       "      <td>7.999642</td>\n",
       "      <td>norepinephrine</td>\n",
       "      <td>2181-12-13</td>\n",
       "      <td>1 days 16:12:00.000000000</td>\n",
       "    </tr>\n",
       "    <tr>\n",
       "      <th>69987</th>\n",
       "      <td>274503.0</td>\n",
       "      <td>2181-12-14 22:21:00</td>\n",
       "      <td>0.493142</td>\n",
       "      <td>1.827091</td>\n",
       "      <td>norepinephrine</td>\n",
       "      <td>2181-12-13</td>\n",
       "      <td>1 days 22:21:00.000000000</td>\n",
       "    </tr>\n",
       "    <tr>\n",
       "      <th>69989</th>\n",
       "      <td>274503.0</td>\n",
       "      <td>2181-12-13 10:02:00</td>\n",
       "      <td>9.967099</td>\n",
       "      <td>400.000027</td>\n",
       "      <td>dopamine</td>\n",
       "      <td>2181-12-13</td>\n",
       "      <td>0 days 10:02:00.000000000</td>\n",
       "    </tr>\n",
       "    <tr>\n",
       "      <th>69990</th>\n",
       "      <td>274503.0</td>\n",
       "      <td>2181-12-13 17:18:00</td>\n",
       "      <td>9.966993</td>\n",
       "      <td>393.120509</td>\n",
       "      <td>dopamine</td>\n",
       "      <td>2181-12-13</td>\n",
       "      <td>0 days 17:18:00.000000000</td>\n",
       "    </tr>\n",
       "    <tr>\n",
       "      <th>69991</th>\n",
       "      <td>274503.0</td>\n",
       "      <td>2181-12-14 01:50:00</td>\n",
       "      <td>7.980863</td>\n",
       "      <td>400.320080</td>\n",
       "      <td>dopamine</td>\n",
       "      <td>2181-12-13</td>\n",
       "      <td>1 days 01:50:00.000000000</td>\n",
       "    </tr>\n",
       "    <tr>\n",
       "      <th>69992</th>\n",
       "      <td>274503.0</td>\n",
       "      <td>2181-12-14 10:38:00</td>\n",
       "      <td>11.961724</td>\n",
       "      <td>161.451978</td>\n",
       "      <td>dopamine</td>\n",
       "      <td>2181-12-13</td>\n",
       "      <td>1 days 10:38:00.000000000</td>\n",
       "    </tr>\n",
       "    <tr>\n",
       "      <th>69993</th>\n",
       "      <td>274503.0</td>\n",
       "      <td>2181-12-14 16:12:00</td>\n",
       "      <td>523.784242</td>\n",
       "      <td>400.000315</td>\n",
       "      <td>dopamine</td>\n",
       "      <td>2181-12-13</td>\n",
       "      <td>1 days 16:12:00.000000000</td>\n",
       "    </tr>\n",
       "    <tr>\n",
       "      <th>69994</th>\n",
       "      <td>274503.0</td>\n",
       "      <td>2181-12-14 22:02:00</td>\n",
       "      <td>20.210527</td>\n",
       "      <td>88.320005</td>\n",
       "      <td>dopamine</td>\n",
       "      <td>2181-12-13</td>\n",
       "      <td>1 days 22:02:00.000000000</td>\n",
       "    </tr>\n",
       "    <tr>\n",
       "      <th>69995</th>\n",
       "      <td>274503.0</td>\n",
       "      <td>2181-12-14 22:48:00</td>\n",
       "      <td>20.208422</td>\n",
       "      <td>23.037601</td>\n",
       "      <td>dopamine</td>\n",
       "      <td>2181-12-13</td>\n",
       "      <td>1 days 22:48:00.000000000</td>\n",
       "    </tr>\n",
       "    <tr>\n",
       "      <th>69996</th>\n",
       "      <td>274503.0</td>\n",
       "      <td>2181-12-14 22:47:00</td>\n",
       "      <td>3.007519</td>\n",
       "      <td>3.714286</td>\n",
       "      <td>phenylephrine</td>\n",
       "      <td>2181-12-13</td>\n",
       "      <td>1 days 22:47:00.000000000</td>\n",
       "    </tr>\n",
       "  </tbody>\n",
       "</table>\n",
       "</div>"
      ],
      "text/plain": [
       "       icustay_id            charttime   vaso_rate  vaso_amount  \\\n",
       "69986    274503.0  2181-12-14 16:12:00    0.986466     7.999642   \n",
       "69987    274503.0  2181-12-14 22:21:00    0.493142     1.827091   \n",
       "69989    274503.0  2181-12-13 10:02:00    9.967099   400.000027   \n",
       "69990    274503.0  2181-12-13 17:18:00    9.966993   393.120509   \n",
       "69991    274503.0  2181-12-14 01:50:00    7.980863   400.320080   \n",
       "69992    274503.0  2181-12-14 10:38:00   11.961724   161.451978   \n",
       "69993    274503.0  2181-12-14 16:12:00  523.784242   400.000315   \n",
       "69994    274503.0  2181-12-14 22:02:00   20.210527    88.320005   \n",
       "69995    274503.0  2181-12-14 22:48:00   20.208422    23.037601   \n",
       "69996    274503.0  2181-12-14 22:47:00    3.007519     3.714286   \n",
       "\n",
       "            vaso_type         t_0                      delta  \n",
       "69986  norepinephrine  2181-12-13  1 days 16:12:00.000000000  \n",
       "69987  norepinephrine  2181-12-13  1 days 22:21:00.000000000  \n",
       "69989        dopamine  2181-12-13  0 days 10:02:00.000000000  \n",
       "69990        dopamine  2181-12-13  0 days 17:18:00.000000000  \n",
       "69991        dopamine  2181-12-13  1 days 01:50:00.000000000  \n",
       "69992        dopamine  2181-12-13  1 days 10:38:00.000000000  \n",
       "69993        dopamine  2181-12-13  1 days 16:12:00.000000000  \n",
       "69994        dopamine  2181-12-13  1 days 22:02:00.000000000  \n",
       "69995        dopamine  2181-12-13  1 days 22:48:00.000000000  \n",
       "69996   phenylephrine  2181-12-13  1 days 22:47:00.000000000  "
      ]
     },
     "execution_count": 46,
     "metadata": {},
     "output_type": "execute_result"
    },
    {
     "name": "stdout",
     "output_type": "stream",
     "text": [
      "time: 13.8 ms\n"
     ]
    }
   ],
   "source": [
    "#looking at all values from the outlier\n",
    "vaso_dose_72.loc[vaso_dose_72.loc[:,'icustay_id']==274503.0,:] "
   ]
  },
  {
   "cell_type": "code",
   "execution_count": 48,
   "metadata": {},
   "outputs": [
    {
     "data": {
      "text/html": [
       "<div>\n",
       "<style scoped>\n",
       "    .dataframe tbody tr th:only-of-type {\n",
       "        vertical-align: middle;\n",
       "    }\n",
       "\n",
       "    .dataframe tbody tr th {\n",
       "        vertical-align: top;\n",
       "    }\n",
       "\n",
       "    .dataframe thead th {\n",
       "        text-align: right;\n",
       "    }\n",
       "</style>\n",
       "<table border=\"1\" class=\"dataframe\">\n",
       "  <thead>\n",
       "    <tr style=\"text-align: right;\">\n",
       "      <th></th>\n",
       "      <th>subject_id</th>\n",
       "      <th>icustay_id</th>\n",
       "      <th>hadm_id</th>\n",
       "      <th>t_0_sc</th>\n",
       "      <th>t_end_sc</th>\n",
       "      <th>ab_course</th>\n",
       "      <th>t_0</th>\n",
       "      <th>t_end_consec</th>\n",
       "      <th>ICU_admit</th>\n",
       "      <th>dod_hosp</th>\n",
       "      <th>dod_ssn</th>\n",
       "      <th>dod_delta</th>\n",
       "      <th>org_list</th>\n",
       "      <th>spec_type_list</th>\n",
       "      <th>sc_result</th>\n",
       "      <th>final_bin</th>\n",
       "    </tr>\n",
       "  </thead>\n",
       "  <tbody>\n",
       "    <tr>\n",
       "      <th>3692</th>\n",
       "      <td>49613</td>\n",
       "      <td>274503.0</td>\n",
       "      <td>120323</td>\n",
       "      <td>2181-12-12 00:00:00</td>\n",
       "      <td>2181-12-15 00:00:00</td>\n",
       "      <td>full</td>\n",
       "      <td>2181-12-13</td>\n",
       "      <td>2181-12-15</td>\n",
       "      <td>2181-12-12 18:40:21</td>\n",
       "      <td>NaN</td>\n",
       "      <td>NaN</td>\n",
       "      <td>NaN</td>\n",
       "      <td>GRAM POSITIVE BACTERIA</td>\n",
       "      <td>URINE</td>\n",
       "      <td>positive</td>\n",
       "      <td>C_pos/A_full</td>\n",
       "    </tr>\n",
       "  </tbody>\n",
       "</table>\n",
       "</div>"
      ],
      "text/plain": [
       "      subject_id  icustay_id  hadm_id               t_0_sc  \\\n",
       "3692       49613    274503.0   120323  2181-12-12 00:00:00   \n",
       "\n",
       "                 t_end_sc ab_course         t_0 t_end_consec  \\\n",
       "3692  2181-12-15 00:00:00      full  2181-12-13   2181-12-15   \n",
       "\n",
       "                ICU_admit dod_hosp dod_ssn dod_delta                org_list  \\\n",
       "3692  2181-12-12 18:40:21      NaN     NaN       NaN  GRAM POSITIVE BACTERIA   \n",
       "\n",
       "     spec_type_list sc_result     final_bin  \n",
       "3692          URINE  positive  C_pos/A_full  "
      ]
     },
     "execution_count": 48,
     "metadata": {},
     "output_type": "execute_result"
    },
    {
     "name": "stdout",
     "output_type": "stream",
     "text": [
      "time: 16.5 ms\n"
     ]
    }
   ],
   "source": [
    "final_pt_df2.loc[final_pt_df2.loc[:,'icustay_id']==274503.0,:] \n",
    "#patient is a C_pos/A_full, makes sense why they may have had a high rate of vaso_rate"
   ]
  },
  {
   "cell_type": "code",
   "execution_count": 80,
   "metadata": {},
   "outputs": [
    {
     "data": {
      "text/plain": [
       "[Text(0,0,'epinephrine'),\n",
       " Text(0,0,'norepinephrine'),\n",
       " Text(0,0,'vasopressin'),\n",
       " Text(0,0,'phenylephrine'),\n",
       " Text(0,0,'dopamine'),\n",
       " Text(0,0,'dobutamine')]"
      ]
     },
     "execution_count": 80,
     "metadata": {},
     "output_type": "execute_result"
    },
    {
     "data": {
      "image/png": "[encoded data removed]",
      "text/plain": [
       "<Figure size 432x288 with 1 Axes>"
      ]
     },
     "metadata": {},
     "output_type": "display_data"
    },
    {
     "name": "stdout",
     "output_type": "stream",
     "text": [
      "time: 349 ms\n"
     ]
    }
   ],
   "source": [
    "import seaborn as sns\n",
    "import matplotlib.pyplot as plt\n",
    "g= sns.boxplot(x=\"vaso_type\", y=\"vaso_rate\", hue=\"vaso_type\", data=vaso_dose_72)\n",
    "g.set_xticklabels(g.get_xticklabels(), rotation=30)\n"
   ]
  },
  {
   "cell_type": "code",
   "execution_count": null,
   "metadata": {},
   "outputs": [],
   "source": [
    "#vaso_dose_72.head()\n",
    "vaso_dose_72= vaso_dose_72.rename(\n",
    "    columns={'starttime':'charttime','label':'vaso_type'}\n",
    "        )#.drop(labels='endtime', axis=1) \n",
    "#renaming starttime to charttime and dropping endtime\n",
    "\n",
    "vaso_dose_72['uom']= 'mg'"
   ]
  },
  {
   "cell_type": "code",
   "execution_count": null,
   "metadata": {},
   "outputs": [],
   "source": []
  },
  {
   "cell_type": "code",
   "execution_count": null,
   "metadata": {},
   "outputs": [],
   "source": []
  },
  {
   "cell_type": "code",
   "execution_count": null,
   "metadata": {},
   "outputs": [],
   "source": []
  },
  {
   "cell_type": "markdown",
   "metadata": {},
   "source": [
    "## formatting the vaso_dose df to meet the master df standard:"
   ]
  },
  {
   "cell_type": "code",
   "execution_count": 89,
   "metadata": {},
   "outputs": [
    {
     "ename": "AttributeError",
     "evalue": "'dict' object has no attribute 'drop'",
     "output_type": "error",
     "traceback": [
      "\u001b[0;31m---------------------------------------------------------------------------\u001b[0m",
      "\u001b[0;31mAttributeError\u001b[0m                            Traceback (most recent call last)",
      "\u001b[0;32m<ipython-input-89-d36f807ee191>\u001b[0m in \u001b[0;36m<module>\u001b[0;34m()\u001b[0m\n\u001b[1;32m      4\u001b[0m \u001b[0;34m\u001b[0m\u001b[0m\n\u001b[1;32m      5\u001b[0m vaso_dose_72= vaso_dose_72.rename(\n\u001b[0;32m----> 6\u001b[0;31m     columns={'vaso_type':'label','vaso_rate':'value'}.drop(labels='vaso_amount', axis=1))\n\u001b[0m",
      "\u001b[0;31mAttributeError\u001b[0m: 'dict' object has no attribute 'drop'"
     ]
    },
    {
     "name": "stdout",
     "output_type": "stream",
     "text": [
      "time: 74.6 ms\n"
     ]
    }
   ],
   "source": [
    "for element in list(vaso_dose_72['vaso_type'].unique()):\n",
    "    vaso_dose_72.loc[vaso_dose_72.loc[:,'vaso_type']==str(element),'vaso_type']= '%s_rate'%(element)\n",
    "    \n",
    "vaso_dose_72= vaso_dose_72.rename(\n",
    "    columns={'vaso_type':'label','vaso_rate':'value'}).drop(labels='vaso_amount', axis=1)"
   ]
  },
  {
   "cell_type": "code",
   "execution_count": 96,
   "metadata": {},
   "outputs": [
    {
     "data": {
      "text/html": [
       "<div>\n",
       "<style scoped>\n",
       "    .dataframe tbody tr th:only-of-type {\n",
       "        vertical-align: middle;\n",
       "    }\n",
       "\n",
       "    .dataframe tbody tr th {\n",
       "        vertical-align: top;\n",
       "    }\n",
       "\n",
       "    .dataframe thead th {\n",
       "        text-align: right;\n",
       "    }\n",
       "</style>\n",
       "<table border=\"1\" class=\"dataframe\">\n",
       "  <thead>\n",
       "    <tr style=\"text-align: right;\">\n",
       "      <th></th>\n",
       "      <th>icustay_id</th>\n",
       "      <th>charttime</th>\n",
       "      <th>endtime</th>\n",
       "      <th>value</th>\n",
       "      <th>label</th>\n",
       "      <th>t_0</th>\n",
       "      <th>delta</th>\n",
       "      <th>uom</th>\n",
       "    </tr>\n",
       "  </thead>\n",
       "  <tbody>\n",
       "    <tr>\n",
       "      <th>4</th>\n",
       "      <td>200349.0</td>\n",
       "      <td>2139-06-02 16:31:00</td>\n",
       "      <td>2139-06-02 18:10:00</td>\n",
       "      <td>0.012030</td>\n",
       "      <td>epinephrine_rate_rate</td>\n",
       "      <td>2139-06-02</td>\n",
       "      <td>0 days 16:31:00.000000000</td>\n",
       "      <td>mg</td>\n",
       "    </tr>\n",
       "    <tr>\n",
       "      <th>108</th>\n",
       "      <td>200952.0</td>\n",
       "      <td>2139-09-23 15:07:00</td>\n",
       "      <td>2139-09-24 06:43:00</td>\n",
       "      <td>0.020004</td>\n",
       "      <td>epinephrine_rate_rate</td>\n",
       "      <td>2139-09-23</td>\n",
       "      <td>0 days 15:07:00.000000000</td>\n",
       "      <td>mg</td>\n",
       "    </tr>\n",
       "    <tr>\n",
       "      <th>109</th>\n",
       "      <td>200952.0</td>\n",
       "      <td>2139-09-25 12:00:00</td>\n",
       "      <td>2139-09-25 21:59:00</td>\n",
       "      <td>0.080068</td>\n",
       "      <td>epinephrine_rate_rate</td>\n",
       "      <td>2139-09-23</td>\n",
       "      <td>2 days 12:00:00.000000000</td>\n",
       "      <td>mg</td>\n",
       "    </tr>\n",
       "    <tr>\n",
       "      <th>110</th>\n",
       "      <td>200952.0</td>\n",
       "      <td>2139-09-25 21:59:00</td>\n",
       "      <td>2139-09-26 07:38:00</td>\n",
       "      <td>0.060601</td>\n",
       "      <td>epinephrine_rate_rate</td>\n",
       "      <td>2139-09-23</td>\n",
       "      <td>2 days 21:59:00.000000000</td>\n",
       "      <td>mg</td>\n",
       "    </tr>\n",
       "    <tr>\n",
       "      <th>122</th>\n",
       "      <td>200952.0</td>\n",
       "      <td>2139-09-23 23:12:00</td>\n",
       "      <td>2139-09-24 21:54:00</td>\n",
       "      <td>0.149992</td>\n",
       "      <td>norepinephrine_rate_rate</td>\n",
       "      <td>2139-09-23</td>\n",
       "      <td>0 days 23:12:00.000000000</td>\n",
       "      <td>mg</td>\n",
       "    </tr>\n",
       "  </tbody>\n",
       "</table>\n",
       "</div>"
      ],
      "text/plain": [
       "     icustay_id            charttime              endtime     value  \\\n",
       "4      200349.0  2139-06-02 16:31:00  2139-06-02 18:10:00  0.012030   \n",
       "108    200952.0  2139-09-23 15:07:00  2139-09-24 06:43:00  0.020004   \n",
       "109    200952.0  2139-09-25 12:00:00  2139-09-25 21:59:00  0.080068   \n",
       "110    200952.0  2139-09-25 21:59:00  2139-09-26 07:38:00  0.060601   \n",
       "122    200952.0  2139-09-23 23:12:00  2139-09-24 21:54:00  0.149992   \n",
       "\n",
       "                        label         t_0                      delta uom  \n",
       "4       epinephrine_rate_rate  2139-06-02  0 days 16:31:00.000000000  mg  \n",
       "108     epinephrine_rate_rate  2139-09-23  0 days 15:07:00.000000000  mg  \n",
       "109     epinephrine_rate_rate  2139-09-23  2 days 12:00:00.000000000  mg  \n",
       "110     epinephrine_rate_rate  2139-09-23  2 days 21:59:00.000000000  mg  \n",
       "122  norepinephrine_rate_rate  2139-09-23  0 days 23:12:00.000000000  mg  "
      ]
     },
     "execution_count": 96,
     "metadata": {},
     "output_type": "execute_result"
    },
    {
     "name": "stdout",
     "output_type": "stream",
     "text": [
      "time: 12.1 ms\n"
     ]
    }
   ],
   "source": [
    "vaso_dose_72.head()"
   ]
  },
  {
   "cell_type": "code",
   "execution_count": null,
   "metadata": {},
   "outputs": [],
   "source": []
  },
  {
   "cell_type": "markdown",
   "metadata": {},
   "source": [
    "##### tinkering around with multi-index, maybe this can help?"
   ]
  },
  {
   "cell_type": "code",
   "execution_count": 84,
   "metadata": {},
   "outputs": [
    {
     "data": {
      "text/html": [
       "<div>\n",
       "<style scoped>\n",
       "    .dataframe tbody tr th:only-of-type {\n",
       "        vertical-align: middle;\n",
       "    }\n",
       "\n",
       "    .dataframe tbody tr th {\n",
       "        vertical-align: top;\n",
       "    }\n",
       "\n",
       "    .dataframe thead th {\n",
       "        text-align: right;\n",
       "    }\n",
       "</style>\n",
       "<table border=\"1\" class=\"dataframe\">\n",
       "  <thead>\n",
       "    <tr style=\"text-align: right;\">\n",
       "      <th></th>\n",
       "      <th>icustay_id</th>\n",
       "      <th>charttime</th>\n",
       "      <th>vaso_rate</th>\n",
       "      <th>vaso_amount</th>\n",
       "      <th>t_0</th>\n",
       "      <th>delta</th>\n",
       "    </tr>\n",
       "    <tr>\n",
       "      <th>vaso_type</th>\n",
       "      <th></th>\n",
       "      <th></th>\n",
       "      <th></th>\n",
       "      <th></th>\n",
       "      <th></th>\n",
       "      <th></th>\n",
       "    </tr>\n",
       "  </thead>\n",
       "  <tbody>\n",
       "    <tr>\n",
       "      <th>epinephrine</th>\n",
       "      <td>200349.0</td>\n",
       "      <td>2139-06-02 16:31:00</td>\n",
       "      <td>0.012030</td>\n",
       "      <td>0.073958</td>\n",
       "      <td>2139-06-02</td>\n",
       "      <td>0 days 16:31:00.000000000</td>\n",
       "    </tr>\n",
       "    <tr>\n",
       "      <th>epinephrine</th>\n",
       "      <td>200952.0</td>\n",
       "      <td>2139-09-23 15:07:00</td>\n",
       "      <td>0.020004</td>\n",
       "      <td>1.049601</td>\n",
       "      <td>2139-09-23</td>\n",
       "      <td>0 days 15:07:00.000000000</td>\n",
       "    </tr>\n",
       "    <tr>\n",
       "      <th>epinephrine</th>\n",
       "      <td>200952.0</td>\n",
       "      <td>2139-09-25 12:00:00</td>\n",
       "      <td>0.080068</td>\n",
       "      <td>1.962759</td>\n",
       "      <td>2139-09-23</td>\n",
       "      <td>2 days 12:00:00.000000000</td>\n",
       "    </tr>\n",
       "    <tr>\n",
       "      <th>epinephrine</th>\n",
       "      <td>200952.0</td>\n",
       "      <td>2139-09-25 21:59:00</td>\n",
       "      <td>0.060601</td>\n",
       "      <td>2.000000</td>\n",
       "      <td>2139-09-23</td>\n",
       "      <td>2 days 21:59:00.000000000</td>\n",
       "    </tr>\n",
       "    <tr>\n",
       "      <th>norepinephrine</th>\n",
       "      <td>200952.0</td>\n",
       "      <td>2139-09-23 23:12:00</td>\n",
       "      <td>0.149992</td>\n",
       "      <td>7.990853</td>\n",
       "      <td>2139-09-23</td>\n",
       "      <td>0 days 23:12:00.000000000</td>\n",
       "    </tr>\n",
       "  </tbody>\n",
       "</table>\n",
       "</div>"
      ],
      "text/plain": [
       "                icustay_id            charttime  vaso_rate  vaso_amount  \\\n",
       "vaso_type                                                                 \n",
       "epinephrine       200349.0  2139-06-02 16:31:00   0.012030     0.073958   \n",
       "epinephrine       200952.0  2139-09-23 15:07:00   0.020004     1.049601   \n",
       "epinephrine       200952.0  2139-09-25 12:00:00   0.080068     1.962759   \n",
       "epinephrine       200952.0  2139-09-25 21:59:00   0.060601     2.000000   \n",
       "norepinephrine    200952.0  2139-09-23 23:12:00   0.149992     7.990853   \n",
       "\n",
       "                       t_0                      delta  \n",
       "vaso_type                                              \n",
       "epinephrine     2139-06-02  0 days 16:31:00.000000000  \n",
       "epinephrine     2139-09-23  0 days 15:07:00.000000000  \n",
       "epinephrine     2139-09-23  2 days 12:00:00.000000000  \n",
       "epinephrine     2139-09-23  2 days 21:59:00.000000000  \n",
       "norepinephrine  2139-09-23  0 days 23:12:00.000000000  "
      ]
     },
     "execution_count": 84,
     "metadata": {},
     "output_type": "execute_result"
    },
    {
     "name": "stdout",
     "output_type": "stream",
     "text": [
      "time: 56.4 ms\n"
     ]
    }
   ],
   "source": [
    "# test1= vaso_dose_72.set_index(['vaso_type','icustay_id'])\n",
    "# test2= vaso_dose_72.set_index(['vaso_type','vaso_rate','vaso_amount'])\n",
    "# test3= vaso_dose_72.set_index(['vaso_type'])\n",
    "\n",
    "# #del(test)\n",
    "# test1.head(2)\n",
    "# test2.head()\n",
    "# test3.head()"
   ]
  },
  {
   "cell_type": "code",
   "execution_count": 80,
   "metadata": {},
   "outputs": [
    {
     "data": {
      "text/plain": [
       "MultiIndex(levels=[['dobutamine', 'dopamine', 'epinephrine', 'norepinephrine', 'phenylephrine', 'vasopressin'], [200030.0, 200033.0, 200059.0, 200065.0, 200078.0, 200095.0, 200102.0, 200116.0, 200136.0, 200140.0, 200141.0, 200143.0, 200199.0, 200231.0, 200269.0, 200282.0, 200294.0, 200342.0, 200345.0, 200349.0, 200375.0, 200391.0, 200438.0, 200441.0, 200454.0, 200457.0, 200474.0, 200475.0, 200489.0, 200504.0, 200586.0, 200636.0, 200639.0, 200758.0, 200805.0, 200863.0, 200891.0, 200897.0, 200918.0, 200938.0, 200952.0, 200983.0, 200985.0, 201005.0, 201039.0, 201046.0, 201062.0, 201074.0, 201076.0, 201094.0, 201098.0, 201116.0, 201121.0, 201186.0, 201197.0, 201201.0, 201220.0, 201286.0, 201291.0, 201299.0, 201318.0, 201329.0, 201357.0, 201358.0, 201360.0, 201361.0, 201387.0, 201404.0, 201420.0, 201427.0, 201483.0, 201555.0, 201559.0, 201593.0, 201596.0, 201608.0, 201641.0, 201652.0, 201659.0, 201667.0, 201671.0, 201695.0, 201696.0, 201718.0, 201738.0, 201748.0, 201776.0, 201791.0, 201820.0, 201840.0, 201850.0, 201870.0, 201883.0, 201896.0, 201902.0, 201906.0, 201913.0, 201924.0, 202005.0, 202034.0, 202040.0, 202119.0, 202124.0, 202127.0, 202141.0, 202171.0, 202190.0, 202202.0, 202211.0, 202212.0, 202214.0, 202218.0, 202253.0, 202256.0, 202280.0, 202308.0, 202338.0, 202347.0, 202352.0, 202413.0, 202424.0, 202432.0, 202448.0, 202467.0, 202529.0, 202575.0, 202616.0, 202633.0, 202639.0, 202664.0, 202667.0, 202761.0, 202768.0, 202784.0, 202805.0, 202807.0, 202837.0, 202862.0, 202904.0, 202907.0, 202954.0, 202964.0, 202993.0, 203055.0, 203061.0, 203082.0, 203105.0, 203111.0, 203154.0, 203186.0, 203194.0, 203209.0, 203222.0, 203223.0, 203260.0, 203268.0, 203284.0, 203293.0, 203341.0, 203362.0, 203407.0, 203431.0, 203433.0, 203446.0, 203454.0, 203466.0, 203471.0, 203487.0, 203501.0, 203514.0, 203543.0, 203568.0, 203583.0, 203626.0, 203629.0, 203656.0, 203664.0, 203671.0, 203682.0, 203687.0, 203702.0, 203724.0, 203732.0, 203766.0, 203771.0, 203784.0, 203791.0, 203794.0, 203801.0, 203851.0, 203862.0, 203878.0, 203888.0, 203889.0, 203890.0, 203911.0, 203921.0, 203934.0, 203974.0, 203985.0, 204047.0, 204061.0, 204120.0, 204131.0, 204135.0, 204158.0, 204169.0, 204176.0, 204202.0, 204207.0, 204214.0, 204218.0, 204234.0, 204236.0, 204243.0, 204247.0, 204300.0, 204305.0, 204366.0, 204397.0, 204399.0, 204404.0, 204407.0, 204424.0, 204427.0, 204549.0, 204613.0, 204632.0, 204686.0, 204707.0, 204716.0, 204783.0, 204784.0, 204824.0, 204842.0, 204849.0, 204882.0, 204900.0, 204906.0, 204923.0, 204924.0, 204932.0, 204948.0, 204954.0, 204955.0, 204958.0, 205007.0, 205017.0, 205036.0, 205063.0, 205170.0, 205192.0, 205262.0, 205266.0, 205316.0, 205317.0, 205353.0, 205383.0, 205391.0, 205429.0, 205462.0, 205473.0, 205636.0, 205719.0, 205734.0, 205739.0, 205756.0, 205768.0, 205774.0, 205827.0, 205844.0, 205845.0, 205849.0, 205894.0, 205907.0, 205922.0, 205950.0, 205951.0, 205992.0, 206073.0, 206077.0, 206098.0, 206161.0, 206177.0, 206181.0, 206209.0, 206229.0, 206233.0, 206253.0, 206270.0, 206306.0, 206438.0, 206448.0, 206475.0, 206476.0, 206506.0, 206525.0, 206543.0, 206547.0, 206577.0, 206602.0, 206633.0, 206760.0, 206787.0, 206830.0, 206832.0, 206851.0, 206868.0, 206909.0, 206942.0, 206979.0, 206981.0, 206997.0, 206999.0, 207012.0, 207052.0, 207142.0, 207147.0, 207149.0, 207180.0, 207278.0, 207294.0, 207317.0, 207346.0, 207383.0, 207412.0, 207477.0, 207489.0, 207525.0, 207531.0, 207533.0, 207539.0, 207582.0, 207605.0, 207629.0, 207630.0, 207648.0, 207650.0, 207684.0, 207710.0, 207718.0, 207733.0, 207743.0, 207749.0, 207758.0, 207765.0, 207773.0, 207827.0, 207835.0, 207841.0, 207849.0, 207864.0, 207873.0, 207896.0, 207902.0, 207909.0, 207913.0, 207924.0, 207928.0, 207933.0, 207965.0, 207975.0, 207995.0, 208007.0, 208030.0, 208077.0, 208090.0, 208098.0, 208156.0, 208176.0, 208181.0, 208208.0, 208220.0, 208226.0, 208236.0, 208240.0, 208241.0, 208253.0, 208257.0, 208263.0, 208284.0, 208309.0, 208344.0, 208362.0, 208376.0, 208397.0, 208400.0, 208407.0, 208426.0, 208455.0, 208480.0, 208482.0, 208500.0, 208509.0, 208616.0, 208620.0, 208635.0, 208654.0, 208671.0, 208681.0, 208704.0, 208706.0, 208761.0, 208795.0, 208801.0, 208809.0, 208810.0, 208847.0, 208889.0, 208901.0, 208934.0, 208946.0, 208990.0, 208993.0, 209018.0, 209028.0, 209060.0, 209071.0, 209078.0, 209100.0, 209136.0, 209167.0, 209221.0, 209225.0, 209245.0, 209262.0, 209280.0, 209300.0, 209311.0, 209333.0, 209352.0, 209390.0, 209452.0, 209459.0, 209460.0, 209467.0, 209490.0, 209493.0, 209495.0, 209500.0, 209513.0, 209536.0, 209627.0, 209645.0, 209663.0, 209695.0, 209739.0, 209752.0, 209759.0, 209764.0, 209775.0, 209784.0, 209791.0, 209797.0, 209798.0, 209799.0, 209815.0, 209821.0, 209893.0, 209927.0, 209934.0, 209989.0, 209997.0, 210020.0, 210032.0, 210039.0, 210041.0, 210042.0, 210058.0, 210079.0, 210108.0, 210109.0, 210153.0, 210224.0, 210242.0, 210359.0, 210368.0, 210393.0, 210399.0, 210433.0, 210458.0, 210484.0, 210599.0, 210601.0, 210612.0, 210622.0, 210642.0, 210678.0, 210679.0, 210700.0, 210715.0, 210750.0, 210772.0, 210780.0, 210825.0, 210867.0, 210901.0, 210919.0, 210947.0, 211029.0, 211032.0, 211052.0, 211081.0, 211083.0, 211101.0, 211119.0, 211151.0, 211159.0, 211184.0, 211193.0, 211206.0, 211208.0, 211240.0, 211257.0, 211283.0, 211303.0, 211336.0, 211347.0, 211350.0, 211366.0, 211376.0, 211386.0, 211396.0, 211403.0, 211414.0, 211419.0, 211435.0, 211459.0, 211489.0, 211504.0, 211523.0, 211543.0, 211568.0, 211584.0, 211603.0, 211641.0, 211660.0, 211679.0, 211680.0, 211693.0, 211700.0, 211762.0, 211792.0, 211817.0, 211857.0, 211880.0, 211915.0, 211928.0, 211936.0, 211983.0, 212029.0, 212031.0, 212050.0, 212073.0, 212087.0, 212094.0, 212123.0, 212138.0, 212139.0, 212160.0, 212183.0, 212205.0, 212219.0, 212222.0, 212271.0, 212323.0, 212329.0, 212350.0, 212385.0, 212388.0, 212407.0, 212470.0, 212532.0, 212548.0, 212571.0, 212580.0, 212587.0, 212588.0, 212597.0, 212648.0, 212677.0, 212711.0, 212744.0, 212750.0, 212853.0, 212855.0, 212860.0, 212877.0, 212886.0, 212905.0, 212945.0, 212982.0, 212987.0, 212992.0, 212996.0, 213011.0, 213018.0, 213035.0, 213050.0, 213086.0, 213113.0, 213126.0, 213129.0, 213151.0, 213155.0, 213189.0, 213214.0, 213240.0, 213259.0, 213270.0, 213299.0, 213315.0, 213323.0, 213367.0, 213373.0, 213374.0, 213376.0, 213377.0, 213382.0, 213386.0, 213391.0, 213466.0, 213496.0, 213497.0, 213540.0, 213544.0, 213575.0, 213581.0, 213619.0, 213622.0, 213637.0, 213644.0, 213652.0, 213667.0, 213668.0, 213703.0, 213729.0, 213789.0, 213808.0, 213825.0, 213843.0, 213862.0, 213863.0, 213865.0, 213869.0, 213877.0, 213885.0, 213945.0, 213948.0, 213952.0, 213974.0, 213980.0, 213987.0, 214006.0, 214038.0, 214069.0, 214087.0, 214103.0, 214106.0, 214130.0, 214154.0, 214168.0, 214170.0, 214190.0, 214194.0, 214200.0, 214210.0, 214212.0, 214219.0, 214232.0, 214241.0, 214244.0, 214245.0, 214248.0, 214286.0, 214298.0, 214308.0, 214328.0, 214355.0, 214366.0, 214425.0, 214483.0, 214522.0, 214528.0, 214529.0, 214532.0, 214543.0, 214547.0, 214605.0, 214629.0, 214675.0, 214700.0, 214707.0, 214710.0, 214723.0, 214737.0, 214768.0, 214783.0, 214802.0, 214830.0, 214843.0, 214865.0, 214877.0, 214898.0, 214909.0, 214926.0, 214950.0, 214954.0, 214959.0, 214965.0, 214968.0, 214970.0, 214975.0, 214996.0, 215003.0, 215034.0, 215085.0, 215118.0, 215119.0, 215120.0, 215138.0, 215207.0, 215229.0, 215235.0, 215245.0, 215263.0, 215333.0, 215365.0, 215393.0, 215396.0, 215408.0, 215417.0, 215451.0, 215459.0, 215500.0, 215502.0, 215532.0, 215541.0, 215563.0, 215579.0, 215590.0, 215601.0, 215645.0, 215674.0, 215687.0, 215689.0, 215690.0, 215694.0, 215756.0, 215812.0, 215814.0, 215817.0, 215823.0, 215850.0, 215879.0, 215881.0, 215912.0, 215914.0, 215931.0, 215960.0, 215984.0, 216016.0, 216094.0, 216098.0, 216104.0, 216108.0, 216145.0, 216167.0, 216192.0, 216204.0, 216225.0, 216231.0, 216264.0, 216351.0, 216365.0, 216378.0, 216420.0, 216445.0, 216461.0, 216487.0, 216505.0, 216506.0, 216526.0, 216531.0, 216560.0, 216563.0, 216596.0, 216626.0, 216627.0, 216629.0, 216642.0, 216643.0, 216709.0, 216726.0, 216749.0, 216757.0, 216777.0, 216786.0, 216803.0, 216834.0, 216852.0, 216859.0, 216986.0, 217015.0, 217017.0, 217032.0, 217069.0, 217082.0, 217090.0, 217091.0, 217162.0, 217175.0, 217191.0, 217288.0, 217291.0, 217319.0, 217338.0, 217351.0, 217352.0, 217363.0, 217440.0, 217488.0, 217508.0, 217530.0, 217543.0, 217605.0, 217631.0, 217635.0, 217657.0, 217679.0, 217680.0, 217715.0, 217724.0, 217734.0, 217790.0, 217796.0, 217867.0, 217897.0, 217923.0, 217927.0, 217965.0, 217966.0, 217992.0, 218047.0, 218050.0, 218058.0, 218069.0, 218070.0, 218099.0, 218145.0, 218175.0, 218176.0, 218178.0, 218183.0, 218190.0, 218200.0, 218217.0, 218218.0, 218266.0, 218288.0, 218289.0, 218319.0, 218322.0, 218328.0, 218334.0, 218347.0, 218387.0, 218464.0, 218583.0, 218608.0, 218641.0, 218655.0, 218669.0, 218726.0, 218732.0, 218787.0, 218811.0, 218888.0, 218910.0, 218948.0, 218951.0, 218967.0, 218990.0, 218999.0, 219024.0, 219051.0, 219068.0, 219101.0, 219127.0, 219134.0, 219136.0, 219139.0, 219166.0, 219173.0, 219183.0, 219248.0, 219249.0, 219262.0, 219267.0, 219283.0, 219288.0, 219296.0, 219326.0, 219336.0, 219355.0, 219375.0, 219383.0, 219384.0, 219462.0, 219545.0, 219569.0, 219572.0, 219580.0, 219582.0, 219585.0, 219612.0, 219628.0, 219641.0, 219695.0, 219712.0, 219728.0, 219751.0, 219790.0, 219792.0, 219826.0, 219827.0, 219831.0, 219850.0, 219872.0, 219877.0, 219918.0, 219919.0, 219945.0, 219961.0, 219978.0, 219987.0, 219992.0, 219999.0, 220027.0, 220044.0, 220056.0, 220060.0, 220107.0, 220124.0, 220167.0, 220177.0, 220188.0, 220200.0, 220207.0, 220222.0, 220237.0, 220242.0, 220257.0, 220268.0, 220275.0, 220320.0, 220330.0, 220341.0, 220344.0, 220372.0, 220394.0, 220439.0, 220441.0, 220458.0, 220485.0, 220530.0, 220597.0, 220601.0, 220604.0, 220605.0, 220625.0, 220628.0, 220655.0, 220658.0, 220698.0, 220759.0, 220768.0, 220774.0, 220786.0, 220790.0, 220816.0, 220826.0, 220853.0, 220864.0, 220917.0, 220928.0, 220948.0, 220949.0, 220990.0, 220995.0, 221007.0, 221038.0, 221051.0, 221052.0, 221062.0, 221070.0, 221072.0, 221075.0, 221076.0, 221087.0, 221099.0, 221143.0, 221161.0, 221187.0, 221191.0, 221228.0, 221273.0, 221286.0, 221300.0, 221320.0, 221336.0, 221340.0, 221365.0, 221378.0, 221399.0, 221430.0, 221474.0, 221513.0, 221593.0, 221601.0, 221656.0, 221662.0, 221675.0, 221680.0, 221720.0, 221734.0, 221739.0, 221760.0, 221776.0, 221801.0, 221804.0, 221822.0, 221832.0, 221833.0, 221843.0, 221869.0, 221907.0, 221915.0, 221937.0, 221992.0, 222035.0, 222040.0, 222064.0, 222165.0, 222166.0, 222174.0, 222216.0, 222235.0, 222248.0, 222252.0, 222266.0, 222361.0, 222371.0, 222374.0, 222381.0, 222391.0, 222393.0, 222399.0, 222432.0, 222447.0, 222450.0, 222483.0, 222500.0, 222504.0, 222530.0, 222617.0, 222636.0, 222651.0, 222663.0, 222678.0, 222727.0, 222737.0, 222749.0, 222752.0, 222770.0, 222780.0, 222825.0, 222852.0, 222863.0, 222879.0, 222926.0, 222935.0, 222973.0, 222980.0, 222984.0, 222989.0, 222992.0, 222997.0, 223046.0, 223048.0, 223073.0, 223086.0, 223097.0, 223102.0, 223177.0, 223187.0, 223191.0, 223200.0, 223205.0, 223243.0, 223278.0, 223305.0, 223350.0, 223357.0, 223461.0, 223479.0, 223502.0, 223509.0, 223510.0, 223524.0, 223525.0, 223528.0, 223552.0, 223572.0, 223602.0, 223631.0, 223661.0, 223671.0, 223681.0, 223782.0, 223788.0, 223798.0, 223832.0, 223836.0, 223850.0, 223853.0, 223887.0, 223899.0, 223903.0, 223926.0, 223928.0, 223969.0, 223970.0, 224056.0, 224059.0, 224067.0, 224083.0, 224084.0, 224093.0, 224146.0, 224166.0, 224183.0, 224187.0, 224218.0, 224225.0, 224244.0, 224247.0, 224267.0, 224281.0, 224325.0, 224327.0, 224389.0, 224402.0, 224423.0, 224428.0, 224473.0, 224474.0, 224497.0, 224511.0, 224515.0, 224516.0, 224547.0, 224559.0, 224573.0, 224574.0, 224577.0, 224583.0, 224602.0, 224627.0, 224628.0, 224659.0, 224692.0, 224721.0, 224728.0, 224730.0, 224742.0, 224750.0, 224778.0, 224788.0, 224794.0, 224798.0, 224812.0, 224813.0, 224823.0, 224824.0, 224871.0, 224886.0, 224889.0, 224892.0, 224937.0, 224942.0, 224956.0, 224995.0, 225094.0, 225125.0, 225126.0, 225230.0, 225233.0, 225288.0, 225312.0, 225319.0, 225369.0, 225375.0, 225390.0, 225402.0, 225419.0, 225492.0, 225520.0, 225521.0, 225540.0, 225541.0, 225549.0, 225558.0, 225560.0, 225580.0, 225584.0, 225587.0, 225596.0, 225600.0, 225606.0, 225643.0, 225717.0, 225730.0, 225740.0, 225774.0, 225804.0, 225815.0, 225822.0, 225835.0, 225851.0, 225857.0, 225868.0, 225886.0, 225902.0, 225909.0, 225917.0, 225937.0, 225957.0, 225985.0, 225986.0, 226012.0, 226059.0, 226070.0, 226165.0, 226167.0, 226176.0, 226217.0, 226218.0, 226261.0, 226288.0, 226349.0, 226394.0, 226412.0, 226423.0, 226435.0, 226474.0, 226492.0, 226506.0, 226512.0, 226532.0, 226535.0, 226614.0, 226625.0, 226633.0, 226637.0, 226648.0, 226660.0, 226668.0, 226691.0, 226737.0, 226738.0, 226759.0, 226766.0, 226775.0, 226799.0, 226802.0, 226807.0, 226812.0, 226818.0, 226825.0, 226842.0, 226844.0, 226849.0, 226862.0, 226877.0, 226896.0, 226917.0, 226936.0, 226944.0, 226961.0, 227000.0, 227002.0, 227013.0, 227034.0, 227041.0, 227071.0, 227083.0, 227094.0, 227133.0, 227168.0, 227178.0, 227186.0, 227244.0, 227245.0, 227304.0, 227347.0, 227349.0, 227362.0, 227366.0, 227409.0, 227430.0, 227449.0, 227455.0, 227462.0, 227492.0, 227513.0, 227524.0, 227525.0, 227536.0, 227592.0, 227608.0, 227673.0, 227677.0, 227703.0, 227722.0, 227732.0, 227767.0, 227775.0, 227778.0, 227794.0, 227809.0, 227814.0, 227822.0, 227835.0, 227849.0, 227896.0, 227966.0, 227970.0, 228013.0, 228023.0, 228096.0, 228119.0, 228132.0, 228160.0, 228162.0, 228166.0, 228183.0, 228205.0, 228207.0, 228225.0, 228281.0, 228291.0, 228313.0, 228341.0, 228347.0, 228354.0, 228357.0, 228386.0, 228407.0, 228414.0, 228517.0, 228543.0, 228560.0, 228577.0, 228580.0, 228593.0, 228596.0, 228640.0, 228650.0, 228694.0, 228707.0, 228725.0, 228774.0, 228775.0, 228789.0, 228838.0, 228848.0, 228941.0, 228970.0, 228977.0, 229007.0, 229055.0, 229078.0, 229081.0, 229141.0, 229171.0, 229201.0, 229228.0, 229236.0, 229244.0, 229255.0, 229256.0, 229273.0, 229285.0, 229297.0, 229306.0, 229339.0, 229375.0, 229381.0, 229389.0, 229390.0, 229431.0, 229468.0, 229470.0, 229478.0, 229486.0, 229487.0, 229501.0, 229517.0, 229545.0, 229560.0, 229566.0, 229593.0, 229596.0, 229618.0, 229620.0, 229621.0, 229630.0, 229649.0, 229696.0, 229706.0, 229723.0, 229730.0, 229744.0, 229766.0, 229791.0, 229809.0, 229824.0, 229860.0, 229866.0, 229873.0, 229900.0, 229917.0, 229947.0, 229972.0, 229973.0, 229992.0, 229998.0, 230000.0, 230002.0, 230003.0, 230023.0, 230026.0, 230032.0, 230051.0, 230092.0, 230144.0, 230266.0, 230267.0, 230269.0, 230305.0, 230331.0, 230335.0, 230346.0, 230347.0, 230380.0, 230386.0, 230391.0, 230424.0, 230438.0, 230448.0, 230468.0, 230469.0, 230499.0, 230501.0, 230508.0, 230509.0, 230511.0, 230537.0, 230546.0, 230557.0, 230579.0, 230594.0, 230610.0, 230611.0, 230630.0, 230637.0, 230650.0, 230661.0, 230670.0, 230683.0, 230695.0, 230719.0, 230755.0, 230775.0, 230797.0, 230802.0, 230835.0, 230856.0, 230877.0, 230885.0, 230907.0, 230915.0, 230918.0, 230933.0, 230937.0, 230967.0, 231004.0, 231014.0, 231023.0, 231047.0, 231052.0, 231059.0, 231060.0, 231085.0, 231126.0, 231148.0, 231175.0, 231185.0, 231209.0, 231234.0, 231258.0, 231280.0, 231319.0, 231328.0, 231357.0, 231360.0, 231394.0, 231455.0, 231472.0, 231476.0, 231488.0, 231495.0, 231496.0, 231640.0, 231679.0, 231795.0, 231812.0, 231840.0, 231844.0, 231890.0, 231907.0, 231926.0, 231932.0, 231958.0, 231961.0, 231963.0, 232017.0, 232038.0, 232134.0, 232140.0, 232144.0, 232164.0, 232203.0, 232243.0, 232263.0, 232291.0, 232333.0, 232341.0, 232362.0, 232372.0, 232415.0, 232528.0, 232563.0, 232585.0, 232588.0, 232608.0, 232665.0, 232686.0, 232711.0, 232744.0, 232764.0, 232769.0, 232779.0, 232817.0, 232825.0, 232875.0, 232907.0, 232913.0, 232936.0, 232947.0, 232953.0, 232957.0, 232978.0, 232989.0, 233004.0, 233021.0, 233057.0, 233085.0, 233136.0, 233138.0, 233211.0, 233235.0, 233316.0, 233322.0, 233331.0, 233344.0, 233349.0, 233351.0, 233381.0, 233386.0, 233394.0, 233430.0, 233449.0, 233456.0, 233457.0, 233470.0, 233479.0, 233506.0, 233540.0, 233541.0, 233544.0, 233547.0, 233571.0, 233587.0, 233606.0, 233634.0, 233676.0, 233715.0, 233719.0, 233725.0, 233735.0, 233794.0, 233810.0, 233846.0, 233856.0, 233872.0, 233876.0, 233883.0, 233908.0, 233942.0, 233956.0, 233965.0, 233969.0, 233981.0, 233991.0, 234003.0, 234115.0, 234116.0, 234193.0, 234196.0, 234199.0, 234235.0, 234279.0, 234284.0, 234319.0, 234335.0, 234357.0, 234406.0, 234436.0, 234455.0, 234464.0, 234478.0, 234501.0, 234515.0, 234601.0, 234641.0, 234645.0, 234650.0, 234653.0, 234655.0, 234662.0, 234715.0, 234725.0, 234734.0, 234745.0, 234763.0, 234769.0, 234776.0, 234782.0, 234797.0, 234826.0, 234843.0, 234857.0, 234865.0, 234940.0, 234961.0, 234962.0, 234984.0, 235019.0, 235083.0, 235086.0, 235111.0, 235143.0, 235148.0, 235165.0, 235178.0, 235180.0, 235215.0, 235223.0, 235236.0, 235244.0, 235261.0, 235268.0, 235304.0, 235319.0, 235331.0, 235332.0, 235351.0, 235378.0, 235385.0, 235407.0, 235441.0, 235453.0, 235465.0, 235486.0, 235524.0, 235541.0, 235554.0, 235596.0, 235636.0, 235643.0, 235671.0, 235675.0, 235707.0, 235721.0, 235734.0, 235738.0, 235794.0, 235806.0, 235838.0, 235846.0, 235868.0, 235943.0, 235957.0, 235968.0, 236004.0, 236021.0, 236024.0, 236063.0, 236097.0, 236103.0, 236122.0, 236127.0, 236156.0, 236158.0, 236164.0, 236169.0, 236182.0, 236183.0, 236228.0, 236246.0, 236260.0, 236277.0, 236290.0, 236295.0, 236306.0, 236315.0, 236325.0, 236390.0, 236495.0, 236496.0, 236501.0, 236519.0, 236560.0, 236571.0, 236575.0, 236591.0, 236623.0, 236634.0, 236665.0, 236689.0, 236696.0, 236708.0, 236722.0, 236766.0, 236796.0, 236848.0, 236874.0, 236894.0, 237003.0, 237020.0, 237048.0, 237080.0, 237104.0, 237117.0, 237125.0, 237166.0, 237179.0, 237194.0, 237196.0, 237209.0, 237215.0, 237241.0, 237256.0, 237257.0, 237272.0, 237307.0, 237330.0, 237331.0, 237343.0, 237346.0, 237353.0, 237390.0, 237423.0, 237439.0, 237483.0, 237569.0, 237596.0, 237617.0, 237638.0, 237656.0, 237664.0, 237696.0, 237702.0, 237734.0, 237754.0, 237775.0, 237777.0, 237804.0, 237812.0, 237856.0, 237881.0, 237884.0, 237901.0, 237924.0, 237936.0, 237950.0, 237952.0, 237961.0, 237963.0, 237975.0, 238017.0, 238079.0, 238093.0, 238099.0, 238100.0, 238112.0, 238121.0, 238122.0, 238212.0, 238219.0, 238234.0, 238255.0, 238292.0, 238327.0, 238346.0, 238349.0, 238404.0, 238413.0, 238436.0, 238454.0, 238463.0, 238492.0, 238518.0, 238536.0, 238548.0, 238577.0, 238584.0, 238587.0, 238598.0, 238670.0, 238675.0, 238690.0, 238724.0, 238760.0, 238823.0, 238824.0, 238825.0, 238858.0, 238861.0, 238867.0, 238925.0, 238926.0, 238937.0, 238938.0, 238939.0, 238940.0, 238943.0, 238948.0, 239006.0, 239012.0, 239034.0, 239066.0, 239072.0, 239100.0, 239102.0, 239136.0, 239145.0, 239152.0, 239161.0, 239169.0, 239175.0, 239180.0, 239237.0, 239239.0, 239249.0, 239333.0, 239346.0, 239360.0, 239380.0, 239385.0, 239396.0, 239398.0, 239402.0, 239428.0, 239468.0, 239474.0, 239475.0, 239478.0, 239481.0, 239505.0, 239521.0, 239528.0, 239530.0, 239547.0, 239553.0, 239568.0, 239608.0, 239615.0, 239658.0, 239660.0, 239691.0, 239732.0, 239790.0, 239795.0, 239837.0, 239862.0, 239874.0, 239898.0, 239900.0, 239938.0, 239950.0, 239955.0, 239960.0, 239968.0, 240013.0, 240028.0, 240037.0, 240071.0, 240086.0, 240096.0, 240120.0, 240138.0, 240183.0, 240217.0, 240236.0, 240238.0, 240247.0, 240264.0, 240276.0, 240297.0, 240301.0, 240312.0, 240351.0, 240367.0, 240391.0, 240394.0, 240402.0, 240404.0, 240407.0, 240418.0, 240436.0, 240442.0, 240477.0, 240506.0, 240507.0, 240524.0, 240544.0, 240585.0, 240641.0, 240646.0, 240684.0, 240687.0, 240707.0, 240711.0, 240724.0, 240761.0, 240789.0, 240811.0, 240819.0, 240823.0, 240827.0, 240829.0, 240857.0, 240982.0, 240989.0, 241019.0, 241023.0, 241060.0, 241076.0, 241082.0, 241084.0, 241161.0, 241198.0, 241231.0, 241236.0, 241286.0, 241302.0, 241314.0, 241336.0, 241371.0, 241418.0, 241425.0, 241459.0, 241476.0, 241536.0, 241544.0, 241551.0, 241564.0, 241577.0, 241581.0, 241591.0, 241623.0, 241652.0, 241684.0, 241688.0, 241689.0, 241691.0, 241731.0, 241825.0, 241874.0, 241899.0, 241923.0, 241956.0, 242006.0, 242038.0, 242062.0, 242086.0, 242153.0, 242174.0, 242176.0, 242204.0, 242205.0, 242231.0, 242258.0, 242290.0, 242313.0, 242323.0, 242342.0, 242350.0, 242361.0, 242393.0, 242396.0, 242397.0, 242412.0, 242437.0, 242448.0, 242455.0, 242504.0, 242510.0, 242539.0, 242545.0, 242549.0, 242551.0, 242552.0, 242592.0, 242652.0, 242677.0, 242697.0, 242698.0, 242709.0, 242733.0, 242739.0, 242743.0, 242752.0, 242757.0, 242773.0, 242781.0, 242850.0, 242939.0, 242950.0, 242961.0, 242968.0, 242972.0, 242985.0, 243007.0, 243056.0, 243067.0, 243071.0, 243138.0, 243144.0, 243152.0, 243167.0, 243190.0, 243201.0, 243233.0, 243256.0, 243281.0, 243292.0, 243338.0, 243375.0, 243406.0, 243411.0, 243414.0, 243435.0, 243490.0, 243499.0, 243502.0, 243539.0, 243560.0, 243580.0, 243600.0, 243651.0, 243659.0, 243733.0, 243742.0, 243747.0, 243804.0, 243812.0, 243820.0, 243913.0, 243977.0, 243996.0, 244001.0, 244009.0, 244011.0, 244033.0, 244053.0, 244114.0, 244147.0, 244174.0, 244183.0, 244209.0, 244227.0, 244260.0, 244278.0, 244344.0, 244388.0, 244423.0, 244438.0, 244441.0, 244469.0, 244482.0, 244494.0, 244502.0, 244530.0, 244555.0, 244571.0, 244579.0, 244594.0, 244615.0, 244625.0, 244631.0, 244636.0, 244662.0, 244683.0, 244699.0, 244722.0, 244753.0, 244766.0, 244787.0, 244828.0, 244844.0, 244884.0, 244888.0, 244907.0, 245037.0, 245054.0, 245061.0, 245065.0, 245076.0, 245088.0, 245152.0, 245196.0, 245197.0, 245200.0, 245215.0, 245225.0, 245234.0, 245236.0, 245265.0, 245305.0, 245319.0, 245320.0, 245376.0, 245388.0, 245398.0, 245403.0, 245433.0, 245467.0, 245476.0, 245496.0, 245513.0, 245517.0, 245545.0, 245555.0, 245557.0, 245595.0, 245596.0, 245608.0, 245641.0, 245696.0, 245708.0, 245716.0, 245727.0, 245740.0, 245785.0, 245788.0, 245812.0, 245825.0, 245830.0, 245868.0, 245912.0, 245952.0, 246000.0, 246007.0, 246038.0, 246051.0, 246093.0, 246141.0, 246152.0, 246247.0, 246253.0, 246261.0, 246360.0, 246419.0, 246447.0, 246472.0, 246486.0, 246493.0, 246495.0, 246501.0, 246522.0, 246529.0, 246593.0, 246596.0, 246616.0, 246620.0, 246627.0, 246641.0, 246704.0, 246716.0, 246728.0, 246730.0, 246736.0, 246748.0, 246759.0, 246768.0, 246792.0, 246794.0, 246833.0, 246872.0, 246934.0, 246956.0, 246979.0, 246982.0, 247001.0, 247013.0, 247084.0, 247111.0, 247246.0, 247257.0, 247260.0, 247286.0, 247292.0, 247313.0, 247316.0, 247363.0, 247368.0, 247375.0, 247387.0, 247407.0, 247412.0, 247486.0, 247497.0, 247512.0, 247514.0, 247539.0, 247547.0, 247575.0, 247602.0, 247607.0, 247655.0, 247704.0, 247715.0, 247730.0, 247744.0, 247794.0, 247815.0, 247834.0, 247846.0, 247848.0, 247980.0, 247999.0, 248009.0, 248050.0, 248077.0, 248079.0, 248106.0, 248116.0, 248121.0, 248128.0, 248135.0, 248164.0, 248209.0, 248259.0, 248281.0, 248284.0, 248320.0, 248362.0, 248449.0, 248466.0, 248476.0, 248493.0, 248518.0, 248561.0, 248579.0, 248590.0, 248593.0, 248596.0, 248616.0, 248622.0, 248631.0, 248653.0, 248677.0, 248741.0, 248754.0, 248755.0, 248761.0, 248773.0, 248804.0, 248883.0, 248913.0, 248937.0, 248945.0, 248964.0, 248974.0, 248989.0, 249012.0, 249026.0, 249063.0, 249093.0, 249130.0, 249138.0, 249193.0, 249230.0, 249237.0, 249287.0, 249312.0, 249314.0, 249320.0, 249349.0, 249382.0, 249395.0, 249399.0, 249415.0, 249429.0, 249432.0, 249436.0, 249454.0, 249558.0, 249571.0, 249578.0, 249608.0, 249621.0, 249694.0, 249696.0, 249746.0, 249804.0, 249814.0, 249855.0, 249892.0, 249910.0, 249913.0, 249915.0, 249918.0, 249921.0, 250048.0, 250064.0, 250090.0, 250103.0, 250107.0, 250110.0, 250117.0, 250180.0, 250275.0, 250300.0, 250319.0, 250325.0, 250345.0, 250358.0, 250364.0, 250366.0, 250393.0, 250395.0, 250402.0, 250419.0, 250473.0, 250500.0, 250509.0, 250525.0, 250553.0, 250566.0, 250589.0, 250597.0, 250626.0, 250655.0, 250666.0, 250669.0, 250671.0, 250695.0, 250699.0, 250711.0, 250712.0, 250732.0, 250736.0, 250740.0, 250762.0, 250795.0, 250809.0, 250810.0, 250823.0, 250828.0, 250858.0, 250865.0, 250871.0, 251031.0, 251047.0, 251052.0, 251078.0, 251083.0, 251118.0, 251120.0, 251139.0, 251178.0, 251187.0, 251206.0, 251212.0, 251260.0, 251279.0, 251310.0, 251320.0, 251333.0, 251335.0, 251345.0, 251364.0, 251372.0, 251385.0, 251424.0, 251461.0, 251464.0, 251480.0, 251573.0, 251584.0, 251585.0, 251618.0, 251622.0, 251654.0, 251696.0, 251708.0, 251710.0, 251713.0, 251717.0, 251729.0, 251746.0, 251750.0, 251754.0, 251770.0, 251776.0, 251788.0, 251790.0, 251798.0, 251811.0, 251817.0, 251825.0, 251834.0, 251858.0, 251869.0, 251898.0, 251904.0, 251921.0, 251930.0, 251946.0, 251959.0, 251960.0, 251964.0, 251972.0, 251992.0, 251998.0, 252028.0, 252034.0, 252043.0, 252051.0, 252062.0, 252063.0, 252071.0, 252099.0, 252105.0, 252147.0, 252182.0, 252191.0, 252193.0, 252219.0, 252242.0, 252253.0, 252281.0, 252285.0, 252287.0, 252360.0, 252362.0, 252380.0, 252382.0, 252388.0, 252478.0, 252524.0, 252547.0, 252568.0, 252601.0, 252649.0, 252659.0, 252716.0, 252724.0, 252741.0, 252752.0, 252789.0, 252827.0, 252830.0, 252836.0, 252862.0, 252886.0, 252924.0, 252960.0, 252982.0, 252989.0, 253009.0, 253025.0, 253068.0, 253086.0, 253123.0, 253145.0, 253155.0, 253159.0, 253166.0, 253176.0, 253202.0, 253212.0, 253226.0, 253242.0, 253245.0, 253274.0, 253356.0, 253379.0, 253431.0, 253432.0, 253488.0, 253514.0, 253527.0, 253555.0, 253559.0, 253584.0, 253597.0, 253611.0, 253623.0, 253682.0, 253694.0, 253720.0, 253770.0, 253781.0, 253791.0, 253794.0, 253814.0, 253821.0, 253858.0, 253898.0, 253903.0, 253917.0, 253922.0, 253931.0, 253961.0, 253962.0, 253984.0, 253995.0, 254006.0, 254008.0, 254044.0, 254051.0, 254054.0, 254075.0, 254086.0, 254088.0, 254125.0, 254149.0, 254165.0, 254179.0, 254186.0, 254200.0, 254220.0, 254235.0, 254250.0, 254291.0, 254339.0, 254384.0, 254422.0, 254434.0, 254440.0, 254448.0, 254476.0, 254478.0, 254490.0, 254545.0, 254601.0, 254615.0, 254699.0, 254767.0, 254811.0, 254859.0, 254868.0, 254942.0, 254963.0, 254981.0, 254985.0, 255000.0, 255002.0, 255010.0, 255030.0, 255065.0, 255097.0, 255102.0, 255131.0, 255154.0, 255159.0, 255182.0, 255184.0, 255189.0, 255223.0, 255228.0, 255256.0, 255286.0, 255292.0, 255299.0, 255310.0, 255341.0, 255354.0, 255370.0, 255377.0, 255409.0, 255431.0, 255464.0, 255473.0, 255479.0, 255481.0, 255483.0, 255488.0, 255508.0, 255570.0, 255597.0, 255601.0, 255605.0, 255662.0, 255668.0, 255703.0, 255764.0, 255773.0, 255784.0, 255803.0, 255822.0, 255876.0, 255925.0, 255947.0, 255979.0, 256001.0, 256004.0, 256008.0, 256010.0, 256019.0, 256024.0, 256034.0, 256050.0, 256052.0, 256060.0, 256076.0, 256079.0, 256087.0, 256101.0, 256122.0, 256143.0, 256260.0, 256267.0, 256269.0, 256310.0, 256345.0, 256347.0, 256369.0, 256377.0, 256401.0, 256412.0, 256419.0, 256460.0, 256497.0, 256516.0, 256529.0, 256550.0, 256557.0, 256586.0, 256611.0, 256624.0, 256628.0, 256634.0, 256649.0, 256653.0, 256723.0, 256778.0, 256801.0, 256825.0, 256832.0, 256840.0, 256849.0, 256853.0, 256854.0, 256899.0, 256904.0, 256909.0, 256923.0, 256924.0, 256925.0, 256951.0, 256986.0, 257000.0, 257056.0, 257070.0, 257078.0, 257094.0, 257106.0, 257119.0, 257124.0, 257141.0, 257146.0, 257175.0, 257200.0, 257214.0, 257229.0, 257277.0, 257284.0, 257286.0, 257299.0, 257315.0, 257336.0, 257394.0, 257443.0, 257445.0, 257461.0, 257472.0, 257495.0, 257504.0, 257517.0, 257527.0, 257547.0, 257583.0, 257593.0, 257624.0, 257684.0, 257693.0, 257696.0, 257702.0, 257731.0, 257735.0, 257801.0, 257803.0, 257848.0, 257871.0, 257969.0, 257978.0, 257991.0, 258005.0, 258037.0, 258050.0, 258114.0, 258204.0, 258238.0, 258258.0, 258296.0, 258326.0, 258343.0, 258347.0, 258358.0, 258410.0, 258421.0, 258428.0, 258430.0, 258466.0, 258504.0, 258531.0, 258601.0, 258610.0, 258669.0, 258749.0, 258751.0, 258763.0, 258787.0, 258829.0, 258851.0, 258866.0, 258870.0, 258943.0, 258953.0, 258959.0, 258962.0, 258978.0, 259012.0, 259027.0, 259035.0, 259063.0, 259089.0, 259100.0, 259111.0, 259112.0, 259114.0, 259136.0, 259156.0, 259169.0, 259171.0, 259186.0, 259225.0, 259259.0, 259261.0, 259308.0, 259314.0, 259328.0, 259338.0, 259379.0, 259466.0, 259504.0, 259518.0, 259532.0, 259548.0, 259570.0, 259598.0, 259631.0, 259634.0, 259695.0, 259698.0, 259773.0, 259827.0, 259902.0, 259942.0, 259960.0, 259985.0, 260021.0, 260057.0, 260122.0, 260138.0, 260174.0, 260180.0, 260184.0, 260189.0, 260192.0, 260320.0, 260332.0, 260334.0, 260355.0, 260372.0, 260388.0, 260415.0, 260416.0, 260425.0, 260460.0, 260588.0, 260608.0, 260610.0, 260620.0, 260642.0, 260662.0, 260675.0, 260676.0, 260687.0, 260713.0, 260736.0, 260744.0, 260748.0, 260758.0, 260783.0, 260814.0, 260828.0, 260834.0, 260855.0, 260871.0, 260877.0, 260882.0, 260883.0, 260887.0, 260894.0, 260895.0, 260901.0, 260915.0, 260924.0, 260928.0, 260929.0, 260982.0, 261029.0, 261037.0, 261095.0, 261099.0, 261115.0, 261127.0, 261147.0, 261150.0, 261153.0, 261156.0, 261173.0, 261203.0, 261204.0, 261218.0, 261225.0, 261259.0, 261279.0, 261315.0, 261333.0, 261342.0, 261352.0, 261376.0, 261383.0, 261398.0, 261407.0, 261422.0, 261460.0, 261483.0, 261491.0, 261493.0, 261518.0, 261541.0, 261547.0, 261563.0, 261568.0, 261576.0, 261606.0, 261622.0, 261625.0, 261629.0, 261684.0, 261694.0, 261754.0, 261766.0, 261799.0, 261808.0, 261837.0, 261861.0, 261887.0, 261910.0, 261919.0, 261935.0, 261944.0, 262011.0, 262016.0, 262017.0, 262023.0, 262031.0, 262037.0, 262054.0, 262070.0, 262084.0, 262111.0, 262154.0, 262169.0, 262171.0, 262194.0, 262204.0, 262220.0, 262226.0, 262238.0, 262259.0, 262270.0, 262282.0, 262318.0, 262343.0, 262374.0, 262385.0, 262391.0, 262393.0, 262433.0, 262436.0, 262463.0, 262477.0, 262501.0, 262514.0, 262540.0, 262545.0, 262551.0, 262554.0, 262560.0, 262562.0, 262597.0, 262636.0, 262645.0, 262655.0, 262694.0, 262749.0, 262760.0, 262808.0, 262821.0, 262850.0, 262870.0, 262920.0, 262931.0, 262983.0, 262985.0, 262996.0, 263022.0, 263034.0, 263061.0, 263123.0, 263136.0, 263138.0, 263153.0, 263212.0, 263227.0, 263257.0, 263259.0, 263265.0, 263318.0, 263330.0, 263350.0, 263353.0, 263355.0, 263362.0, 263410.0, 263430.0, 263433.0, 263435.0, 263437.0, 263452.0, 263506.0, 263530.0, 263535.0, 263541.0, 263560.0, 263583.0, 263605.0, 263608.0, 263713.0, 263740.0, 263754.0, 263755.0, 263793.0, 263839.0, 263863.0, 263891.0, 263895.0, 263907.0, 263915.0, 263940.0, 263962.0, 264003.0, 264052.0, 264086.0, 264130.0, 264136.0, 264138.0, 264145.0, 264180.0, 264203.0, 264212.0, 264214.0, 264249.0, 264255.0, 264257.0, 264332.0, 264340.0, 264446.0, 264486.0, 264495.0, 264497.0, 264505.0, 264514.0, 264553.0, 264566.0, 264596.0, 264612.0, 264619.0, 264630.0, 264664.0, 264676.0, 264683.0, 264689.0, 264693.0, 264694.0, 264699.0, 264707.0, 264708.0, 264752.0, 264831.0, 264870.0, 264872.0, 264885.0, 264898.0, 264937.0, 264965.0, 264990.0, 265022.0, 265030.0, 265037.0, 265048.0, 265056.0, 265091.0, 265115.0, 265131.0, 265134.0, 265157.0, 265214.0, 265217.0, 265239.0, 265280.0, 265287.0, 265312.0, 265352.0, 265369.0, 265376.0, 265397.0, 265419.0, 265430.0, 265446.0, 265461.0, 265481.0, 265505.0, 265506.0, 265524.0, 265561.0, 265601.0, 265625.0, 265667.0, 265669.0, 265674.0, 265689.0, 265750.0, 265787.0, 265794.0, 265795.0, 265804.0, 265817.0, 265822.0, 265824.0, 265845.0, 265868.0, 265878.0, 265897.0, 265950.0, 265959.0, 266075.0, 266086.0, 266187.0, 266201.0, 266205.0, 266250.0, 266285.0, 266294.0, 266295.0, 266308.0, 266364.0, 266402.0, 266454.0, 266510.0, 266529.0, 266538.0, 266554.0, 266556.0, 266579.0, 266587.0, 266591.0, 266594.0, 266615.0, 266621.0, 266623.0, 266642.0, 266643.0, 266652.0, 266658.0, 266694.0, 266708.0, 266709.0, 266738.0, 266739.0, 266746.0, 266749.0, 266760.0, 266763.0, 266783.0, 266788.0, 266804.0, 266816.0, 266835.0, 266849.0, 266852.0, 266903.0, 266932.0, 266934.0, 266973.0, 266989.0, 266993.0, 267000.0, 267003.0, 267007.0, 267026.0, 267088.0, 267098.0, 267118.0, 267139.0, 267172.0, 267178.0, 267227.0, 267242.0, 267246.0, 267265.0, 267364.0, 267369.0, 267381.0, 267396.0, 267443.0, 267450.0, 267452.0, 267465.0, 267482.0, 267494.0, 267539.0, 267550.0, 267638.0, 267641.0, 267653.0, 267654.0, 267664.0, 267680.0, 267705.0, 267723.0, 267728.0, 267745.0, 267757.0, 267786.0, 267841.0, 267863.0, 267868.0, 267873.0, 267887.0, 267918.0, 267932.0, 267978.0, 267980.0, 267988.0, 267991.0, 267997.0, 267998.0, 268001.0, 268006.0, 268014.0, 268029.0, 268031.0, 268063.0, 268081.0, 268090.0, 268097.0, 268125.0, 268131.0, 268150.0, 268159.0, 268170.0, 268180.0, 268215.0, 268226.0, 268238.0, 268249.0, 268285.0, 268289.0, 268307.0, 268368.0, 268380.0, 268384.0, 268440.0, 268468.0, 268470.0, 268474.0, 268480.0, 268486.0, 268509.0, 268518.0, 268525.0, 268527.0, 268543.0, 268546.0, 268552.0, 268568.0, 268572.0, 268580.0, 268605.0, 268639.0, 268657.0, 268697.0, 268715.0, 268726.0, 268744.0, 268764.0, 268805.0, 268820.0, 268845.0, 268904.0, 268916.0, 268918.0, 268932.0, 268954.0, 268972.0, 268985.0, 268988.0, 269015.0, 269040.0, 269065.0, 269084.0, 269109.0, 269182.0, 269191.0, 269229.0, 269239.0, 269311.0, 269374.0, 269378.0, 269408.0, 269413.0, 269492.0, 269516.0, 269527.0, 269528.0, 269543.0, 269549.0, 269562.0, 269623.0, 269654.0, 269667.0, 269668.0, 269684.0, 269704.0, 269711.0, 269748.0, 269758.0, 269772.0, 269775.0, 269810.0, 269856.0, 269895.0, 269960.0, 269989.0, 269997.0, 270020.0, 270022.0, 270102.0, 270129.0, 270174.0, 270194.0, 270228.0, 270242.0, 270244.0, 270289.0, 270316.0, 270359.0, 270387.0, 270484.0, 270489.0, 270500.0, 270505.0, 270509.0, 270522.0, 270546.0, 270560.0, 270567.0, 270571.0, 270587.0, 270597.0, 270633.0, 270675.0, 270705.0, 270721.0, 270722.0, 270737.0, 270760.0, 270774.0, 270779.0, 270802.0, 270804.0, 270821.0, 270823.0, 270826.0, 270828.0, 270837.0, 270854.0, 270865.0, 270909.0, 270962.0, 270963.0, 270988.0, 270994.0, 270997.0, 271038.0, 271042.0, 271051.0, 271067.0, 271135.0, 271166.0, 271219.0, 271227.0, 271229.0, 271231.0, 271234.0, 271251.0, 271277.0, 271284.0, 271305.0, 271343.0, 271359.0, 271398.0, 271448.0, 271452.0, 271516.0, 271521.0, 271597.0, 271601.0, 271619.0, 271658.0, 271667.0, 271677.0, 271680.0, 271686.0, 271715.0, 271762.0, 271775.0, 271793.0, 271794.0, 271805.0, 271817.0, 271862.0, 271867.0, 271876.0, 271900.0, 271991.0, 271997.0, 271998.0, 272043.0, 272076.0, 272080.0, 272091.0, 272102.0, 272127.0, 272216.0, 272217.0, 272247.0, 272266.0, 272300.0, 272304.0, 272306.0, 272308.0, 272315.0, 272317.0, 272331.0, 272334.0, 272340.0, 272344.0, 272346.0, 272355.0, 272380.0, 272392.0, 272407.0, 272418.0, 272420.0, 272484.0, 272508.0, 272512.0, 272528.0, 272539.0, 272546.0, 272556.0, 272569.0, 272589.0, 272606.0, 272617.0, 272625.0, 272630.0, 272660.0, 272683.0, 272694.0, 272729.0, 272764.0, 272772.0, 272779.0, 272813.0, 272840.0, 272845.0, 272893.0, 272894.0, 272933.0, 272937.0, 272951.0, 272959.0, 272965.0, 272968.0, 273013.0, 273023.0, 273067.0, 273075.0, 273078.0, 273089.0, 273092.0, 273108.0, 273110.0, 273137.0, 273146.0, 273204.0, 273215.0, 273234.0, 273241.0, 273295.0, 273299.0, 273313.0, 273316.0, 273320.0, 273347.0, 273354.0, 273376.0, 273397.0, 273412.0, 273454.0, 273456.0, 273482.0, 273491.0, 273523.0, 273571.0, 273579.0, 273632.0, 273634.0, 273663.0, 273666.0, 273676.0, 273691.0, 273698.0, 273706.0, 273744.0, 273756.0, 273763.0, 273773.0, 273803.0, 273811.0, 273831.0, 273860.0, 273876.0, 273886.0, 273891.0, 273939.0, 273946.0, 273955.0, 273964.0, 273986.0, 273993.0, 273996.0, 274003.0, 274009.0, 274038.0, 274061.0, 274072.0, 274086.0, 274114.0, 274121.0, 274141.0, 274149.0, 274150.0, 274153.0, 274190.0, 274207.0, 274216.0, 274240.0, 274256.0, 274268.0, 274326.0, 274339.0, 274346.0, 274352.0, 274354.0, 274394.0, 274404.0, 274419.0, 274421.0, 274424.0, 274433.0, 274456.0, 274481.0, 274494.0, 274503.0, 274578.0, 274587.0, 274624.0, 274628.0, 274674.0, 274687.0, 274727.0, 274748.0, 274752.0, 274758.0, 274783.0, 274836.0, 274879.0, 274955.0, 275018.0, 275038.0, 275073.0, 275085.0, 275088.0, 275113.0, 275118.0, 275146.0, 275199.0, 275202.0, 275246.0, 275273.0, 275280.0, 275318.0, 275340.0, 275427.0, 275456.0, 275466.0, 275481.0, 275498.0, 275543.0, 275555.0, 275615.0, 275620.0, 275623.0, 275628.0, 275638.0, 275657.0, 275662.0, 275673.0, 275694.0, 275706.0, 275736.0, 275766.0, 275767.0, 275776.0, 275785.0, 275819.0, 275835.0, 275841.0, 275842.0, 275873.0, 275879.0, 275974.0, 276024.0, 276027.0, 276035.0, 276041.0, 276060.0, 276105.0, 276114.0, 276145.0, 276156.0, 276181.0, 276182.0, 276189.0, 276239.0, 276243.0, 276264.0, 276279.0, 276330.0, 276349.0, 276366.0, 276378.0, 276392.0, 276395.0, 276413.0, 276501.0, 276538.0, 276586.0, 276599.0, 276661.0, 276711.0, 276724.0, 276751.0, 276757.0, 276764.0, 276770.0, 276832.0, 276854.0, 276870.0, 276886.0, 276915.0, 276921.0, 276926.0, 276931.0, 276969.0, 276973.0, 277059.0, 277095.0, 277098.0, 277112.0, 277120.0, 277165.0, 277174.0, 277186.0, 277216.0, 277248.0, 277250.0, 277252.0, 277281.0, 277323.0, 277346.0, 277347.0, 277382.0, 277415.0, 277444.0, 277580.0, 277584.0, 277622.0, 277640.0, 277675.0, 277715.0, 277724.0, 277737.0, 277761.0, 277784.0, 277817.0, 277836.0, 277885.0, 277924.0, 277997.0, 278005.0, 278019.0, 278047.0, 278048.0, 278091.0, 278100.0, 278131.0, 278137.0, 278150.0, 278204.0, 278208.0, 278223.0, 278240.0, 278242.0, 278300.0, 278305.0, 278313.0, 278320.0, 278347.0, 278350.0, 278362.0, 278380.0, 278402.0, 278419.0, 278420.0, 278436.0, 278450.0, 278456.0, 278470.0, 278472.0, 278473.0, 278490.0, 278533.0, 278541.0, 278542.0, 278548.0, 278555.0, 278560.0, 278569.0, 278609.0, 278611.0, 278626.0, 278635.0, 278642.0, 278643.0, 278674.0, 278679.0, 278708.0, 278732.0, 278741.0, 278745.0, 278755.0, 278757.0, 278758.0, 278829.0, 278834.0, 278838.0, 278840.0, 278895.0, 278917.0, 278946.0, 278951.0, 278979.0, 279038.0, 279044.0, 279082.0, 279084.0, 279089.0, 279107.0, 279115.0, 279151.0, 279172.0, 279174.0, 279230.0, 279243.0, 279261.0, 279308.0, 279337.0, 279372.0, 279380.0, 279413.0, 279438.0, 279446.0, 279460.0, 279500.0, 279508.0, 279517.0, 279529.0, 279533.0, 279566.0, 279576.0, 279582.0, 279584.0, 279596.0, 279605.0, 279627.0, 279673.0, 279680.0, 279743.0, 279785.0, 279798.0, 279804.0, 279820.0, 279840.0, 279855.0, 279857.0, 279925.0, 279951.0, 279963.0, 279976.0, 279995.0, 280006.0, 280054.0, 280095.0, 280102.0, 280137.0, 280162.0, 280169.0, 280184.0, 280185.0, 280193.0, 280213.0, 280231.0, 280242.0, 280274.0, 280310.0, 280317.0, 280321.0, 280322.0, 280325.0, 280332.0, 280335.0, 280369.0, 280372.0, 280377.0, 280383.0, 280449.0, 280451.0, 280474.0, 280497.0, 280526.0, 280594.0, 280602.0, 280608.0, 280635.0, 280682.0, 280690.0, 280694.0, 280697.0, 280700.0, 280730.0, 280765.0, 280798.0, 280812.0, 280829.0, 280836.0, 280844.0, 280900.0, 280928.0, 280951.0, 280971.0, 281000.0, 281019.0, 281098.0, 281099.0, 281104.0, 281110.0, 281127.0, 281147.0, 281188.0, 281223.0, 281228.0, 281232.0, 281284.0, 281293.0, 281298.0, 281420.0, 281443.0, 281462.0, 281494.0, 281528.0, 281572.0, 281609.0, 281626.0, 281677.0, 281690.0, 281703.0, 281721.0, 281726.0, 281729.0, 281736.0, 281742.0, 281768.0, 281790.0, 281792.0, 281839.0, 281893.0, 281905.0, 281939.0, 281974.0, 281984.0, 281990.0, 282017.0, 282018.0, 282019.0, 282029.0, 282048.0, 282050.0, 282061.0, 282068.0, 282083.0, 282098.0, 282152.0, 282170.0, 282172.0, 282218.0, 282247.0, 282252.0, 282315.0, 282382.0, 282434.0, 282442.0, 282445.0, 282469.0, 282496.0, 282497.0, 282528.0, 282529.0, 282563.0, 282600.0, 282608.0, 282613.0, 282646.0, 282648.0, 282652.0, 282693.0, 282699.0, 282702.0, 282710.0, 282711.0, 282778.0, 282804.0, 282824.0, 282836.0, 282888.0, 282891.0, 282900.0, 282950.0, 282956.0, 283003.0, 283009.0, 283041.0, 283046.0, 283067.0, 283102.0, 283110.0, 283160.0, 283202.0, 283211.0, 283238.0, 283251.0, 283260.0, 283336.0, 283338.0, 283341.0, 283362.0, 283363.0, 283366.0, 283384.0, 283389.0, 283441.0, 283447.0, 283448.0, 283468.0, 283493.0, 283552.0, 283559.0, 283564.0, 283575.0, 283588.0, 283590.0, 283612.0, 283650.0, 283651.0, 283679.0, 283706.0, 283748.0, 283776.0, 283777.0, 283783.0, 283794.0, 283819.0, 283836.0, 283845.0, 283857.0, 283859.0, 283860.0, 283889.0, 283969.0, 284019.0, 284037.0, 284044.0, 284053.0, 284072.0, 284093.0, 284106.0, 284116.0, 284131.0, 284136.0, 284182.0, 284184.0, 284192.0, 284194.0, 284210.0, 284226.0, 284238.0, 284239.0, 284268.0, 284298.0, 284321.0, 284334.0, 284353.0, 284359.0, 284381.0, 284405.0, 284413.0, 284419.0, 284424.0, 284464.0, 284487.0, 284495.0, 284503.0, 284534.0, 284541.0, 284548.0, 284591.0, 284643.0, 284649.0, 284662.0, 284690.0, 284699.0, 284700.0, 284720.0, 284757.0, 284788.0, 284828.0, 284857.0, 284866.0, 284890.0, 284899.0, 284941.0, 284955.0, 284964.0, 284976.0, 284983.0, 284993.0, 284994.0, 285033.0, 285051.0, 285090.0, 285169.0, 285170.0, 285194.0, 285205.0, 285211.0, 285234.0, 285261.0, 285264.0, 285270.0, 285272.0, 285276.0, 285299.0, 285325.0, 285333.0, 285337.0, 285340.0, 285362.0, 285422.0, 285433.0, 285442.0, 285446.0, 285466.0, 285572.0, 285599.0, 285604.0, 285654.0, 285682.0, 285709.0, 285710.0, 285717.0, 285754.0, 285762.0, 285789.0, 285828.0, 285836.0, 285890.0, 285933.0, 285959.0, 285980.0, 285981.0, 285984.0, 286057.0, 286061.0, 286062.0, 286072.0, 286092.0, 286159.0, 286167.0, 286183.0, 286204.0, 286228.0, 286248.0, 286252.0, 286295.0, 286301.0, 286324.0, 286335.0, 286346.0, 286369.0, 286387.0, 286392.0, 286393.0, 286408.0, 286415.0, 286418.0, 286433.0, 286492.0, 286518.0, 286523.0, 286563.0, 286565.0, 286586.0, 286597.0, 286628.0, 286629.0, 286632.0, 286638.0, 286660.0, 286664.0, 286687.0, 286697.0, 286706.0, 286770.0, 286773.0, 286792.0, 286803.0, 286811.0, 286859.0, 286869.0, 286876.0, 286953.0, 286962.0, 286971.0, 286984.0, 287002.0, 287008.0, 287041.0, 287052.0, 287054.0, 287059.0, 287097.0, 287110.0, 287113.0, 287119.0, 287128.0, 287156.0, 287169.0, 287191.0, 287210.0, 287221.0, 287228.0, 287229.0, 287257.0, 287290.0, 287291.0, 287296.0, 287307.0, 287314.0, 287375.0, 287424.0, 287432.0, 287434.0, 287466.0, 287546.0, 287584.0, 287592.0, 287614.0, 287667.0, 287671.0, 287697.0, 287749.0, 287757.0, 287773.0, 287778.0, 287786.0, 287804.0, 287809.0, 287827.0, 287835.0, 287870.0, 287880.0, 287929.0, 287977.0, 287980.0, 287983.0, 288007.0, 288015.0, 288086.0, 288116.0, 288166.0, 288171.0, 288216.0, 288257.0, 288268.0, 288283.0, 288288.0, 288306.0, 288308.0, 288323.0, 288353.0, 288367.0, 288410.0, 288468.0, 288481.0, 288514.0, 288577.0, 288597.0, 288605.0, 288615.0, 288655.0, 288658.0, 288685.0, 288692.0, 288715.0, 288724.0, 288768.0, 288771.0, 288772.0, 288796.0, 288798.0, 288853.0, 288861.0, 288868.0, 288884.0, 288900.0, 288906.0, 288914.0, 288929.0, 288943.0, 288945.0, 289003.0, 289018.0, 289123.0, 289153.0, 289165.0, 289180.0, 289242.0, 289311.0, 289338.0, 289389.0, 289413.0, 289414.0, 289419.0, 289427.0, 289491.0, 289494.0, 289510.0, 289568.0, 289579.0, 289627.0, 289645.0, 289667.0, 289730.0, 289797.0, 289813.0, 289877.0, 289879.0, 289885.0, 289920.0, 289933.0, 289956.0, 289971.0, 289975.0, 289980.0, 290010.0, 290057.0, 290104.0, 290105.0, 290114.0, 290167.0, 290198.0, 290227.0, 290234.0, 290241.0, 290243.0, 290244.0, 290249.0, 290264.0, 290288.0, 290290.0, 290291.0, 290354.0, 290374.0, 290389.0, 290396.0, 290411.0, 290428.0, 290444.0, 290454.0, 290485.0, 290504.0, 290510.0, 290526.0, 290565.0, 290574.0, 290577.0, 290586.0, 290588.0, 290594.0, 290601.0, 290612.0, 290624.0, 290630.0, 290636.0, 290644.0, 290736.0, 290835.0, 290836.0, 290845.0, 290855.0, 290860.0, 290897.0, 290910.0, 290918.0, 290923.0, 290933.0, 290948.0, 290949.0, 290979.0, 290983.0, 291024.0, 291034.0, 291081.0, 291092.0, 291096.0, 291115.0, 291117.0, 291142.0, 291172.0, 291179.0, 291215.0, 291225.0, 291230.0, 291314.0, 291338.0, 291361.0, 291363.0, 291406.0, 291455.0, 291487.0, 291512.0, 291546.0, 291555.0, 291567.0, 291601.0, 291604.0, 291631.0, 291660.0, 291665.0, 291731.0, 291738.0, 291770.0, 291819.0, 291825.0, 291832.0, 291833.0, 291834.0, 291858.0, 291879.0, 291911.0, 291919.0, 291993.0, 292013.0, 292027.0, 292053.0, 292064.0, 292084.0, 292098.0, 292103.0, 292118.0, 292134.0, 292140.0, 292142.0, 292180.0, 292197.0, 292256.0, 292297.0, 292341.0, 292342.0, 292355.0, 292368.0, 292399.0, 292409.0, 292431.0, 292449.0, 292491.0, 292509.0, 292515.0, 292533.0, 292553.0, 292577.0, 292591.0, 292618.0, 292627.0, 292635.0, 292637.0, 292652.0, 292655.0, 292676.0, 292713.0, 292744.0, 292761.0, 292792.0, 292842.0, 292855.0, 292870.0, 292891.0, 292954.0, 293025.0, 293056.0, 293088.0, 293130.0, 293138.0, 293184.0, 293185.0, 293189.0, 293207.0, 293223.0, 293235.0, 293246.0, 293249.0, 293269.0, 293276.0, 293295.0, 293297.0, 293309.0, 293345.0, 293392.0, 293398.0, 293457.0, 293467.0, 293474.0, 293521.0, 293565.0, 293638.0, 293646.0, 293659.0, 293718.0, 293730.0, 293734.0, 293763.0, 293775.0, 293782.0, 293806.0, 293824.0, 293894.0, 293902.0, 293909.0, 293914.0, 293947.0, 293948.0, 293956.0, 293958.0, 293962.0, 293964.0, 294013.0, 294019.0, 294035.0, 294039.0, 294060.0, 294081.0, 294101.0, 294118.0, 294193.0, 294197.0, 294198.0, 294205.0, 294213.0, 294217.0, 294219.0, 294229.0, 294245.0, 294273.0, 294278.0, 294335.0, 294340.0, 294348.0, 294369.0, 294385.0, 294402.0, 294413.0, 294420.0, 294465.0, 294479.0, 294500.0, 294503.0, 294522.0, 294539.0, 294607.0, 294627.0, 294634.0, 294644.0, 294649.0, 294654.0, 294663.0, 294691.0, 294696.0, 294729.0, 294731.0, 294778.0, 294794.0, 294845.0, 294910.0, 294915.0, 294956.0, 294962.0, 294985.0, 295007.0, 295025.0, 295041.0, 295073.0, 295076.0, 295117.0, 295133.0, 295174.0, 295185.0, 295210.0, 295275.0, 295290.0, 295331.0, 295348.0, 295395.0, 295398.0, 295429.0, 295436.0, 295446.0, 295484.0, 295498.0, 295503.0, 295511.0, 295548.0, 295557.0, 295592.0, 295619.0, 295663.0, 295684.0, 295701.0, 295722.0, 295743.0, 295754.0, 295759.0, 295799.0, 295801.0, 295834.0, 295857.0, 295859.0, 295869.0, 295886.0, 295902.0, 295922.0, 295941.0, 295951.0, 296032.0, 296098.0, 296112.0, 296126.0, 296135.0, 296178.0, 296186.0, 296199.0, 296217.0, 296225.0, 296250.0, 296265.0, 296297.0, 296304.0, 296321.0, 296361.0, 296370.0, 296417.0, 296418.0, 296423.0, 296430.0, 296472.0, 296480.0, 296494.0, 296501.0, 296517.0, 296584.0, 296621.0, 296624.0, 296633.0, 296651.0, 296658.0, 296675.0, 296706.0, 296711.0, 296719.0, 296728.0, 296743.0, 296782.0, 296835.0, 296872.0, 296901.0, 296922.0, 296933.0, 296948.0, 296952.0, 296988.0, 296992.0, 296994.0, 297013.0, 297023.0, 297030.0, 297051.0, 297092.0, 297130.0, 297131.0, 297162.0, 297198.0, 297243.0, 297263.0, 297272.0, 297273.0, 297283.0, 297301.0, 297336.0, 297354.0, 297365.0, 297400.0, 297406.0, 297417.0, 297445.0, 297446.0, 297451.0, 297454.0, 297470.0, 297480.0, 297485.0, 297506.0, 297507.0, 297544.0, 297603.0, 297628.0, 297641.0, 297676.0, 297763.0, 297766.0, 297767.0, 297771.0, 297788.0, 297809.0, 297823.0, 297824.0, 297850.0, 297862.0, 297882.0, 297885.0, 297902.0, 297923.0, 297926.0, 297928.0, 297930.0, 297940.0, 297955.0, 297970.0, 297980.0, 297982.0, 298018.0, 298020.0, 298046.0, 298072.0, 298079.0, 298098.0, 298108.0, 298144.0, 298151.0, 298164.0, 298171.0, 298177.0, 298190.0, 298225.0, 298236.0, 298255.0, 298275.0, 298309.0, 298314.0, 298366.0, 298375.0, 298424.0, 298453.0, 298456.0, 298473.0, 298481.0, 298489.0, 298514.0, 298516.0, 298603.0, 298634.0, 298772.0, 298784.0, 298820.0, 298859.0, 298864.0, 298888.0, 298898.0, 298923.0, 299002.0, 299031.0, 299044.0, 299055.0, 299077.0, 299079.0, 299112.0, 299125.0, 299132.0, 299140.0, 299151.0, 299210.0, 299221.0, 299224.0, 299275.0, 299301.0, 299382.0, 299403.0, 299439.0, 299445.0, 299482.0, 299495.0, 299540.0, 299554.0, 299557.0, 299558.0, 299581.0, 299593.0, 299614.0, 299643.0, 299645.0, 299654.0, 299678.0, 299715.0, 299728.0, 299734.0, 299751.0, 299780.0, 299791.0, 299811.0, 299852.0, 299863.0, 299888.0, 299903.0, 299948.0, 299956.0, 299961.0, 299988.0, 299992.0, 299994.0]],\n",
       "           labels=[[2, 2, 2, 2, 3, 3, 3, 5, 4, 2, 2, 2, 2, 3, 3, 3, 3, 3, 3, 3, 3, 3, 3, 3, 3, 3, 3, 3, 3, 3, 3, 3, 3, 3, 3, 3, 3, 3, 3, 3, 3, 3, 3, 3, 3, 3, 3, 3, 3, 3, 3, 5, 5, 5, 5, 5, 5, 5, 4, 4, 4, 4, 4, 4, 2, 3, 3, 3, 3, 3, 5, 5, 5, 5, 4, 2, 3, 3, 3, 3, 3, 3, 1, 1, 1, 1, 0, 5, 4, 4, 4, 4, 4, 4, 4, 4, 4, 4, 4, 4, 4, 4, 4, 4, 4, 4, 4, 4, 4, 4, 4, 4, 4, 4, 4, 4, 4, 4, 4, 4, 4, 4, 4, 4, 4, 4, 4, 4, 4, 4, 4, 4, 4, 4, 4, 4, 2, 3, 3, 3, 3, 3, 3, 3, 3, 3, 3, 3, 3, 3, 3, 3, 3, 3, 3, 3, 3, 3, 3, 3, 3, 3, 3, 3, 5, 5, 4, 4, 2, 4, 2, 2, 4, 4, 4, 4, 4, 4, 4, 4, 4, 2, 2, 2, 2, 3, 3, 3, 3, 3, 3, 3, 3, 3, 3, 3, 3, 3, 3, 3, 2, 3, 3, 3, 3, 3, 3, 3, 4, 4, 4, 2, 4, 2, 2, 2, 3, 3, 3, 3, 3, 3, 3, 3, 3, 3, 3, 3, 3, 3, 3, 3, 3, 3, 3, 3, 3, 3, 3, 3, 3, 3, 3, 3, 3, 5, 5, 5, 5, 5, 5, 2, 2, 4, 4, 4, 4, 4, 4, 4, 4, 4, 4, 4, 4, 4, 4, 4, 4, 4, 4, 4, 4, 4, 4, 4, 4, 2, 4, 2, 3, 5, 2, 2, 2, 3, 4, 4, 4, 4, 4, 4, 4, 4, 4, 4, 4, 4, 4, 4, 4, 4, 4, 4, 4, 4, 4, 4, 4, 4, 4, 4, 4, 4, 4, 4, 3, 3, 3, 3, 2, 2, 2, 2, 2, 2, 2, 2, 2, 2, 2, 2, 3, 3, 3, 3, 3, 3, 3, 3, 3, 3, 2, 2, 4, 2, 4, 4, 4, 4, 4, 4, 4, 4, 4, 4, 4, 4, 4, 4, 4, 4, 4, 4, 4, 4, 4, 4, 4, 4, 2, 2, 2, 5, 5, 5, 5, 4, 4, 4, 4, 4, 4, 4, 4, 4, 4, 4, 4, 3, 3, 1, 1, 1, 1, 1, 1, 1, 1, 1, 1, 1, 4, 4, 4, 4, 4, 4, 3, 3, 3, 3, 3, 3, 3, 3, 3, 2, 2, 4, 2, 2, 2, 3, 3, 3, 3, 3, 3, 3, 3, 3, 5, 5, 4, 4, 4, 4, 4, 4, 4, 4, 4, 4, 4, 2, 2, 2, 2, 3, 3, 4, 4, 4, 4, 4, 4, 4, 4, 4, 4, 4, 4, 4, 4, 4, 4, 4, 4, 4, 4, 4, 2, 2, 2, 2, 2, 2, 2, 2, 4, 4, 4, 4, 4, 4, 4, 4, 4, 4, 4, 4, 4, 4, 4, 4, 4, 4, 4, 4, 4, 4, 4, 4, 4, 4, 4, 4, 4, 4, 4, 4, 4, 4, 4, 4, 4, 4, 4, 4, 4, 4, 4, 4, 4, 4, 4, 4, 4, 2, 4, 2, 3, 3, 3, 3, 3, 3, 3, 3, 3, 3, 3, 3, 3, 3, 3, 3, 3, 3, 3, 3, 3, 3, 5, 5, 4, 4, 4, 4, 4, 4, 4, 4, 4, 4, 4, 4, 4, 4, 4, 4, 4, 2, 4, 2, 2, 3, 3, 3, 3, 4, 4, 4, 4, 4, 4, 4, 4, 4, 4, 4, 4, 4, 4, 4, 4, 4, 4, 4, 2, 2, 2, 2, 2, 2, 3, 3, 3, 0, 0, 0, 5, 5, 3, 3, 3, 3, 3, 3, 3, 5, 5, 5, 5, 5, 5, 5, 2, 4, 4, 4, 2, 2, 2, 2, 2, 4, 4, 4, 4, 4, 4, 4, 4, 4, 4, 4, 4, 4, 4, 4, 4, 4, 4, 4, 4, 4, 4, 4, 4, 4, 4, 4, 4, 4, 4, 4, 4, 4, 4, 2, 2, 2, 3, 3, 3, 3, 3, 3, 3, 3, 3, 3, 3, 3, 3, 4, 4, 4, 4, 4, 4, 4, 4, 4, 4, 2, 2, 2, 2, 3, 3, 5, 2, 4, 3, 5, 4, 4, 2, 2, 4, 4, 2, 2, 3, 3, 3, 3, 3, 3, 5, 5, 5, 5, 5, 4, 4, 4, 4, 4, 4, 4, 4, 4, 2, 2, 2, 2, 2, 2, 2, 3, 3, 3, 3, 5, 5, 4, 4, 4, 4, 4, 4, 4, 4, 4, 4, 4, 4, 4, 4, 4, 2, 2, 2, 2, 2, 2, 3, 3, 3, 3, 3, 3, 3, 3, 3, 1, 5, 4, 4, 4, 4, 4, 4, 2, 2, 2, 2, 2, 4, 4, 4, 4, 4, 4, 4, 4, 4, 4, 4, 4, 4, 4, 2, 2, 2, 2, 2, 2, 2, 2, 2, 2, 2, 2, 2, 2, 3, 3, 3, 3, 3, 3, 5, 5, 4, 4, 4, 4, 4, 4, 4, 4, 4, 4, 4, 4, 4, 2, 3, 5, 4, 4, 2, 2, 3, 2, 3, 3, 5, 4, 4, 4, 2, 4, 2, 2, 2, 3, 3, 3, 3, 3, 3, 3, 3, 2, 2, 2, 4, 4, 4, 4, 4, 4, 4, 4, 4, 4, 4, 2, 2, 2, 3, 3, 3, 3, 3, 3, 3, 3, 3, 3, 3, 5, 5, 5, 4, 4, 4, 4, 2, 4, 4, 4, 4, 4, 4, 4, 4, 4, 2, 2, 4, 4, 4, 4, 2, 3, 5, 4, 4, 2, 2, 2, 2, 2, 2, 2, 2, 2, 2, 2, 2, 2, 2, 2, 2, 2, 2, 2, 2, 3, 3, 3, 3, 3, 3, 0, 5, 5, 2, 2, 2, 2, 3, 3, 3, 3, 3, 3, 3, 3, 3, 3, 3, 3, 3, 3, 3, 3, 3, 3, 3, 3, 3, 3, 3, 3, 3, 3, 3, 3, 5, 5, 5, 5, 5, 3, 3, 3, 3, 3, 3, 3, 3, 3, 3, 3, 4, 4, 4, 4, 4, 4, 4, 4, 4, 4, 4, 4, 4, 2, 2, 2, 2, 4, 4, 4, 4, 4, 4, 4, 4, 4, 4, 4, 4, 4, 4, 4, 4, 4, 4, 4, 4, 4, 4, 4, 2, 2, 3, 1, 4, 4, 4, 4, 2, 2, 2, 2, 2, 2, 2, 2, 2, 2, 2, 2, 3, 3, 3, 3, 3, 3, 3, 3, 3, 3, 4, 4, 2, 2, 3, 3, 3, 1, 2, 2, 1, 1, 1, 1, 4, 4, 4, 4, 4, 4, 4, 4, 4, 2, 2, 2, 3, 3, 3, 0, 0, 0, 0, 0, 0, 0, 0, 0, 4, 4, 4, 4, 4, 4, 2, 2, 4, 4, 4, 2, 2, 2, 2, 4, 4, 4, 4, 4, 4, 4, 4, 4, 4, 4, 4, 4, 4, 4, 4, 4, 4, 4, 4, 4, 4, 4, 4, 4, 4, 4, 2, 4, 2, 2, 2, 2, 0, 0, 4, 2, 3, 2, 2, 2, 5, 5, 5, 5, 4, 4, 4, 4, 4, 4, 4, 4, 4, 4, 4, 4, 4, 4, 4, 4, 4, 4, 4, 4, 4, 4, 4, 4, 4, 4, 4, 4, 4, 4, 4, 4, 4, 4, 2, 4, 4, 4, 4, 4, 4, 4, 4, 2, 2, 2, 3, 3, 3, 3, 3, 3, 3, 3, 3, 2, 2, 2, 2, 2, 3, 3, 3, 3, 3, 3, 3, 3, 3, 3, 3, 3, 3, 3, 3, 3, 3, 3, 3, 3, 3, 3, 3, 3, 3, 3, 3, 1, 1, 1, 1, 1, 1, 1, 1, 1, 1, 1, 1, 1, 1, 1, 1, 1, 5, 5, 5, 5, 5, 4, 4, 4, 4, 2, 2, 2, 2, 2, 2, 2, 2, 2, 2, 2, 2, 3, 3, 3, 3, 3, 3, 3, 0, 0, 0, 2, 4, 4, 2, 2, 2, 2, 2, 2, 2, 2, 2, 2, 2, 2, 2, 2, 2, 2, 2, 2, 2, 2, 2, 2, 3, 3, 3, 3, 3, 3, 3, 3, 3, 3, 3, 3, 3, 3, 3, 3, 3, 3, 3, 3, 3, 3, 3, 3, 3, 3, 3, 3, 3, 3, 3, 5, 5, 5, 5, 5, 5, 5, 5, 5, 2, 3, 3, 4, 4, 4, 2, 2, 2, 2, 2, 2, 3, 3, 3, 3, 0, 4, 4, 4, 4, 4, 4, 4, 2, 2, 2, 3, 3, 3, 3, 3, 3, 3, 3, 3, 3, 3, 3, 3, 3, 3, 1, 1, 0, 0, 0, 0, 0, 4, 4, 4, 2, 3, 4, 4, 4, 4, 2, 2, 3, 3, 5, 5, 5, 4, 2, 3, 3, 3, 3, 3, 3, 3, 3, 3, 3, 3, 3, 3, 3, 3, 3, 3, 3, 3, 3, 3, 5, 5, 4, 4, 4, 4, 4, 2, 2, 2, 2, 2, 2, 3, 3, 3, 3, 3, 3, 3, 3, 3, 1, 1, 1, 1, 1, 1, 1, 1, 1, 4, 4, 4, 4, 4, 4, 4, 4, 4, 1, 1, 1, 1, 1, 1, 1, 1, 5, 4, 4, 4, 4, 4, 2, 2, 2, 2, 2, 2, 2, 2, 4, 4, 4, 4, 4, 4, 2, 2, 4, 4, 4, 2, 2, 2, 2, 3, 3, 3, 3, 3, 3, 3, 3, 3, 3, 3, 1, 0, 5, 4, 4, 4, 4, 4, 4, 4, 4, 4, 2, 2, 2, 2, 2, 2, 2, 3, 3, 3, 3, 3, 3, 3, 3, 3, 3, 3, 3, 3, 3, 3, 3, 3, 3, 3, 3, 3, 3, 5, 5, 3, 3, 3, 3, 3, 3, 3, 3, 3, 5, 5, 4, 4, 2, 2, 2, 2, 2, 2, 2, 1, 1, 1, 4, 4, 4, 4, 4, 4, 4, 4, 4, 4, 4, 4, 4, 2, 3, 5, 5, 4, 2, 2, 2, 2, 3, 3, 3, 3, 4, 4, 4, 4, 3, 3, 3, 3, 3, 5, 2, 2, 2, 2, 2, 2, 2, 2, 2, 2, 2, 2, 3, 3, 3, 3, 3, 3, 3, 3, 3, 3, 3, 3, 3, 3, 3, 3, 3, 3, 3, 2, 2, 2, 2, 2, 3, 3, 3, 3, 3, 3, 3, 3, 3, 3, 3, 3, 3, 3, 3, 3, 3, 3, 3, 3, 3, 3, 3, 3, 3, 3, 3, 3, 3, 3, 3, 3, 3, 3, 5, 3, 3, 3, 3, 0, 5, 4, 4, 4, 4, 4, 2, 2, 3, 3, 2, 2, 4, 4, 4, 4, 4, 4, 2, 2, 2, 2, 2, 2, 5, 5, 5, 5, 5, 5, 5, 5, 4, 4, 4, 4, 4, 4, 4, 4, 4, 4, 4, 2, 2, 2, 4, 4, 2, 4, 4, 2, 2, 2, 4, 4, 4, 4, 4, 4, 4, 4, 4, 4, 4, 4, 4, 4, 4, 4, 4, 4, 4, 4, 4, 4, 4, 4, 4, 4, 4, 4, 4, 4, 4, 4, 4, 4, 4, 4, 4, 4, 4, 4, 4, 4, 4, 4, 4, 4, 4, 4, 2, 2, 2, 2, 2, 2, 2, 3, 3, 3, 3, 3, 3, 3, 3, 3, 3, 3, 3, 3, 3, 3, 3, 3, 3, 3, 3, 3, 3, 3, 3, 3, 3, 5, 5, 2, 3, 3, 3, 3, 3, 3, 4, 4, 2, 4, 2, 2, 2, 3, 3, 3, 3, 3, 3, 3, 3, 3, 3, 3, 3, 3, 3, 3, 3, 3, 3, 3, 3, 3, 3, 3, 5, 5, 5, 5, 4, 2, 4, 4, 4, 2, 2, 2, 4, 4, 4, 4, 4, 2, 3, 5, 4, 4, 4, 4, 4, 4, 4, 4, 2, 2, 2, 2, 3, 3, 3, 3, 3, 3, 5, 4, 4, 4, 2, 2, 3, 3, 3, 3, 2, 2, 2, 2, 2, 2, 2, 2, 2, 2, 2, 2, 2, 3, 3, 3, 3, 4, 2, 2, 3, 3, 3, 3, 5, 4, 4, 4, 4, 2, 2, 2, 2, 2, 2, 2, 2, 3, 3, 3, 3, 3, 3, 3, 3, 3, 3, 3, 3, 3, 3, 3, 3, 3, 3, 3, 3, 3, 3, 3, 3, 3, 3, 3, 5, 5, 5, 2, 2, 2, 2, 2, 2, 2, 2, 2, 2, 3, 3, 3, 3, 3, 3, 3, 3, 3, 3, 3, 3, 3, 3, 3, 3, 3, 3, 3, 3, 3, 3, 3, 3, 3, 3, 3, 3, 3, 3, 3, 3, 3, 3, 3, 3, 3, 3, 3, 3, 3, 3, 3, 3, 3, 3, 3, 3, 1, 1, 5, 5, 5, 5, 5, 5, 5, 5, 5, 5, 5, 5, 2, 4, 4, 4, 4, 4, 4, 4, 4, 4, 4, 4, 4, 4, 4, 4, 4, 4, 4, 4, 4, 4, 4, 4, 4, 4, 4, 4, 4, 4, 4, 4, 4, 4, 4, 4, 4, 4, 4, 4, 4, 4, 4, 4, 4, 4, 2, 2, 2, 2, 2, 2, 3, 3, 3, 3, 3, 1, 1, 1, 5, 4, 4, 4, 4, 4, 4, 4, 4, 4, 4, 4, 4, 4, 4, 4, 4, 4, 4, 4, 4, 2, 3, 3, 3, 3, 3, 1, 0, 0, 5, 4, 4, 4, 4, 3, 3, 3, 3, 3, 3, 3, 3, 0, 0, 5, 5, 5, 5, 5, 5, 4, 4, 2, 4, 2, 4, 4, 4, 4, 4, 4, 4, 4, 4, 4, 4, 4, 4, 2, 2, 2, 3, 3, 3, 3, 3, 3, 3, 3, 5, 5, 5, 2, 2, 2, 3, 4, 2, 3, 3, 3, 3, 3, 3, 3, 3, 3, 3, 3, 3, 3, 3, 3, 3, 3, 5, 5, 5, 5, 5, 2, 2, 2, 2, 2, 2, 1, 1, 1, 1, 1, 1, 5, 5, 5, 5, 4, 4, 4, 4, 4, 4, 4, 4, 4, 4, 4, 4, 4, 4, 4, 4, 4, 4, 4, 4, 4, 4, 4, 4, 4, 3, 5, 2, 2, 4, 2, 2, 2, 2, 4, 4, 2, 2, 2, 2, 3, 3, 5, 4, 4, 2, 2, 2, 2, 4, 2, 2, 2, 2, 4, 4, 4, 4, 4, 4, 4, 4, 4, 4, 4, 4, 4, 4, 4, 4, 4, 4, 4, 4, 4, 4, 4, 4, 4, 4, 4, 4, 4, 4, 4, 4, 4, 4, 2, 4, 4, 3, 3, 3, 3, 3, 3, 3, 3, 3, 3, 3, 3, 3, 3, 3, 3, 3, 3, 3, 3, 3, 3, 3, 3, 3, 3, 5, 2, 2, 2, 4, 4, 4, 4, 4, 2, 3, 3, 3, 3, 3, 3, 2, 2, 2, 3, 3, 3, 3, 3, 5, 5, 4, 4, 4, 4, 4, 4, 4, 4, 4, 4, 4, 4, 4, 4, 4, 4, 4, 4, 4, 4, 4, 4, 4, 4, 4, 4, 4, 2, 2, 2, 2, 0, 0, 0, 0, 0, 5, 4, 4, 4, 4, 4, 4, 2, 4, 4, 4, 2, 2, 2, 2, 2, 3, 3, 3, 3, 3, 3, 3, 3, 3, 3, 3, 3, 3, 3, 3, 1, 1, 1, 1, 1, 1, 1, 1, 1, 1, 1, 1, 1, 1, 1, 1, 1, 1, 0, 2, 2, 4, 2, 2, 2, 2, 4, 4, 4, 4, 4, 3, 3, 5, 4, 4, 4, 4, 4, 4, 2, 4, 4, 4, 4, 4, 4, 4, 2, 2, 2, 2, 2, 2, 2, 2, 2, 2, 2, 2, 2, 2, 3, 3, 2, 2, 3, 5, 4, 4, 2, 2, 3, 3, 3, 3, 3, 3, 0, 5, 5, 4, 4, 4, 4, 4, 2, 4, 2, 2, 2, 5, 5, 5, 5, 5, 5, 5, 5, 5, 5, 5, 5, 4, 2, 2, 3, 3, 3, 3, 2, 2, 2, 2, 2, 2, 2, 2, 2, 2, 3, 2, 2, 4, 4, 4, 4, 4, 4, 4, 4, 4, 4, 4, 2, 4, 4, 4, 4, 4, 4, 4, 4, 4, 4, 4, 4, 4, 4, 4, 4, 4, 4, 4, 4, 4, 4, 4, 4, 4, 4, 4, 4, 4, 4, 4, 3, 3, 3, 3, 3, 3, 3, 3, 3, 3, 3, 3, 3, 3, 3, 3, 3, 3, 3, 3, 3, 3, 3, 3, 3, 3, 3, 3, 3, 3, 2, 4, 2, 2, 2, 2, 2, 2, 2, 2, 2, 2, 2, 2, 2, 2, 2, 2, 2, 2, 2, 3, 3, 3, 3, 3, 3, 3, 3, 3, 3, 3, 3, 3, 3, 3, 3, 3, 3, 3, 3, 3, 3, 3, 0, 0, 0, 0, 0, 0, 0, 3, 4, 4, 4, 4, 2, 2, 4, 4, 4, 4, 4, 4, 4, 4, 4, 4, 4, 4, 4, 4, 4, 4, 4, 2, 2, 2, 2, 4, 4, 4, 4, 4, 4, 4, 4, 2, 2, 2, 5, 5, 5, 5, 5, 5, 5, 5, 4, 4, 4, 4, 4, 4, 2, 4, 4, 4, 2, 3, 3, 3, 3, 3, 3, 3, 3, 3, 0, 0, 4, 4, 4, 4, 4, 4, 4, 4, 2, 4, 4, 4, 2, 3, 3, 3, 3, 3, 3, 5, 5, 4, 4, 2, 2, 4, 2, 2, 2, 2, 2, 2, 2, 2, 3, 3, 3, 4, 4, 2, 2, 2, 2, 2, 2, 2, 2, 2, 2, 2, 2, 2, 2, 2, 2, 2, 2, 2, 2, 2, 2, 2, 2, 2, 2, 2, 2, 2, 2, 2, 2, 3, 3, 3, 3, 3, 3, 3, 3, 3, 3, 3, 3, 3, 3, 3, 3, 3, 3, 3, 3, 3, 3, 3, 3, 3, 3, 3, 3, 3, 5, 5, 3, 3, 3, 3, 3, 3, 3, 3, 2, 2, 2, 2, 2, 0, 4, 4, 4, 4, 4, 4, 4, 4, 4, 4, 4, 4, 4, 4, 4, 4, 4, 4, 4, 4, 4, 4, 4, 4, 4, 4, 4, 4, 4, 4, 4, 4, 4, 4, 2, 2, 2, 2, 2, 2, 2, 2, 3, 3, 2, 2, 2, 2, 2, 0, 0, 0, 0, 0, 0, 0, 0, 4, 4, 4, 4, 4, 4, 4, 4, 4, 4, 4, 4, 4, 4, 4, 4, 4, 4, 4, 4, 4, 4, 4, 4, 2, 2, 3, 3, 3, 3, 3, 3, 3, 3, 3, 3, 3, 3, 3, 3, 3, 3, 3, 3, 3, 3, 3, 3, 3, 3, 3, 3, 3, 2, 3, 3, 3, 2, 2, 2, 2, 2, 2, 3, 3, 3, 3, 3, 3, 3, 3, 3, 3, 3, 4, 4, 4, 4, 4, 4, 4, 2, 2, 2, 2, 2, 2, 4, 4, 4, 4, 4, 4, 4, 4, 4, 4, 4, 4, 4, 4, 4, 2, 2, 2, 2, 2, 2, 2, 2, 2, 2, 2, 3, 3, 3, 3, 3, 3, 3, 3, 3, 3, 3, 3, 2, 2, 2, 2, 2, 2, 3, 3, 3, 3, 3, 3, 3, 3, 3, 3, 3, 5, 5, 5, 5, 4, 4, 4, 4, 4, 4, 4, 4, 4, 4, 4, 4, 2, 2, 2, 2, 2, 3, 3, 3, 3, 3, 3, 3, 3, 3, 3, 3, 3, 3, 3, 3, 3, 3, 3, 3, 3, 3, 3, 3, 3, 3, 3, 3, 5, 5, 5, 2, 2, 4, 4, 4, 4, 4, 4, 4, 4, 4, 4, 4, 4, 4, 4, 4, 4, 4, 4, 4, 4, 4, 4, 4, 4, 4, 4, 4, 4, 4, 4, 4, 4, 5, 5, 2, 2, 2, 2, 2, 3, 2, 4, 3, 3, 3, 3, 3, 2, 3, 3, 3, 5, 5, 3, 3, 3, 3, 3, 3, 3, 3, 3, 3, 3, 3, 1, 1, 1, 1, 1, 1, 1, 5, 4, 4, 4, 4, 2, 2, 2, 2, 2, 3, 3, 3, 3, 1, 1, 1, 1, 1, 5, 4, 4, 4, 4, 4, 4, 4, 2, 2, 2, 2, 2, 2, 2, 2, 2, 2, 2, 3, 3, 3, 3, 3, 3, 3, 3, 1, 1, 2, 2, 2, 2, 2, 3, 3, 3, 3, 3, 3, 3, 3, 3, 3, 3, 3, 3, 3, 2, 2, 2, 2, 4, 4, 4, 4, 4, 4, 4, 4, 4, 4, 4, 4, 4, 4, 4, 4, 4, 4, 4, 2, 2, 2, 1, 1, 1, 1, 1, 1, 1, 1, 2, 4, 4, 2, 3, 3, 2, 2, 2, 2, 4, 4, 4, 4, 4, 4, 4, 4, 4, 4, 4, 4, 4, 4, 4, 4, 4, 4, 4, 4, 4, 4, 4, 4, 4, 4, 2, 3, 3, 3, 3, 3, 1, 5, 4, 4, 4, 4, 2, 2, 2, 2, 2, 4, 4, 4, 4, 2, 3, 3, 3, 0, 0, 4, 4, 4, 4, 2, 5, 4, 4, 4, 2, 2, 2, 2, 2, 2, 2, 2, 2, 2, 3, 3, 3, 3, 3, 3, 3, 3, 3, 3, 3, 5, 5, 2, 2, 2, 2, 2, 2, 2, 3, 3, 3, 3, 5, 5, 2, 3, 3, 5, 4, 4, 4, 3, 3, 3, 3, 5, 4, 4, 4, 4, 4, 2, 3, 3, 3, 4, 4, 4, 4, 4, 4, 4, 4, 4, 4, 4, 4, 4, 4, 4, 4, 4, 4, 4, 4, 4, 4, 4, 4, 4, 4, 4, 4, 4, 4, 4, 2, 2, 2, 4, 2, 2, 2, 4, 4, 4, 4, 4, 4, 4, 4, 4, 4, 4, 4, 4, 4, 4, 4, 4, 4, 4, 4, 4, 4, 2, 2, 2, 2, 2, 2, 3, 3, 3, 3, 3, 3, 3, 3, 3, 3, 3, 3, 3, 3, 3, 3, 3, 3, 3, 3, 3, 3, 3, 3, 3, 3, 5, 5, 5, 5, 4, 4, 4, 4, 4, 4, 4, 4, 2, 5, 5, 4, 4, 4, 4, 4, 4, 4, 4, 4, 4, 4, 4, 4, 4, 4, 4, 4, 4, 4, 4, 4, 4, 4, 4, 4, 4, 4, 4, 4, 4, 4, 4, 4, 4, 4, 4, 4, 4, 2, 2, 2, 2, 2, 2, 2, 2, 2, 2, 2, 3, 3, 3, 3, 3, 3, 3, 3, 3, 3, 3, 3, 3, 3, 5, 4, 4, 4, 4, 4, 4, 4, 2, 2, 2, 2, 1, 1, 1, 1, 1, 1, 1, 1, 1, 4, 4, 4, 4, 4, 4, 4, 4, 4, 4, 4, 4, 4, 4, 4, 4, 4, 4, 4, 4, 4, 4, 4, 2, 2, 3, 3, 3, 1, 1, 4, 3, 3, 3, 3, 3, 3, 4, 4, 4, 4, 4, 4, 4, 4, 4, 4, 4, 4, 4, 4, 4, 4, 4, 4, 4, 4, 4, 4, 4, 4, 4, 4, 4, 4, 4, 4, 4, 4, 4, 4, 4, 4, 4, 4, 2, 2, 2, 4, 4, 4, 4, 4, 4, 4, 4, 2, 2, 2, 2, 2, 2, 2, 2, 2, 2, 2, 2, 2, 3, 3, 3, 3, 3, 3, 3, 3, 3, 3, 3, 3, 3, 3, 3, 3, 3, 3, 3, 1, 1, 1, 4, 2, 2, 3, 3, 3, 3, 3, 3, 3, 3, 3, 3, 3, 3, 3, 3, 3, 3, 3, 3, 3, 3, 3, 3, 3, 3, 3, 3, 3, 3, 3, 3, 0, 0, 5, 4, 4, 4, 4, 4, 4, 4, 4, 4, 4, 4, 4, 4, 4, 4, 4, 2, 4, 4, 4, 2, 2, 2, 2, 5, 5, 4, 4, 4, 4, 4, 4, 4, 4, 4, 4, 4, 4, 4, 4, 4, 4, 4, 4, 4, 4, 2, 2, 2, 2, 3, 3, 0, 5, 4, 4, 2, 2, 4, 4, 4, 2, 3, 3, 3, 3, 3, 3, 3, 3, 3, 3, 3, 3, 1, 1, 1, 1, 1, 1, 0, 5, 2, 4, 4, 2, 4, 2, 2, 2, 2, 2, 2, 2, 2, 2, 3, 3, 3, 3, 3, 3, 3, 3, 3, 3, 3, 3, 3, 3, 3, 3, 3, 3, 3, 3, 3, 3, 3, 3, 3, 3, 3, 0, 0, 0, 0, 0, 0, 0, 4, 4, 4, 4, 4, 4, 4, 4, 4, 4, 4, 2, 2, 2, 4, 4, 4, 4, 4, 4, 2, 4, 3, 3, 3, 3, 3, 3, 3, 3, 3, 3, 3, 3, 3, 3, 3, 3, 3, 3, 3, 3, 3, 3, 3, 3, 3, 3, 3, 3, 3, 3, 3, 3, 3, 3, 3, 3, 3, 3, 2, 3, 3, 3, 3, 3, 3, 3, 3, 3, 5, 5, 4, 4, 4, 4, 4, 4, 2, 2, 2, 2, 2, 2, 4, 4, 4, 4, 4, 4, 4, 4, 4, 4, 4, 4, 4, 4, 4, 4, 4, 4, 4, 4, 4, 4, 4, 4, 4, 4, 4, 4, 4, 4, 4, 4, 4, 4, 4, 4, 4, 2, 2, 2, 2, 2, 3, 2, 2, 2, 2, 2, 3, 3, 3, 3, 3, 3, 3, 3, 3, 3, 3, 3, 3, 3, 3, 3, 3, 3, 3, 5, 5, 2, 2, 2, 2, 2, 3, 3, 2, 2, 3, 3, 3, 3, 5, 2, 2, 2, 2, 2, 2, 2, 2, 2, 2, 2, 4, 4, 4, 4, 4, 4, 4, 4, 4, 4, 4, 4, 4, 4, 4, 4, 4, 4, 4, 4, 4, 4, 4, 4, 4, 4, 4, 4, 4, 4, 4, 4, 2, 4, 4, 2, 2, 2, 2, 2, 2, 2, 2, 2, 2, 2, 2, 2, 3, 3, 3, 3, 3, 3, 3, 3, 3, 3, 3, 0, 0, 0, 0, 0, 2, 2, 2, 2, 3, 3, 3, 3, 3, 3, 3, 3, 3, 3, 3, 3, 3, 3, 4, 4, 2, 2, 2, 2, 5, 5, 5, 5, 5, 5, 5, 4, 4, 4, 4, 4, 4, 4, 4, 4, 4, 4, 4, 4, 4, 3, 3, 3, 3, 2, 3, 2, 2, 4, 4, 4, 4, 4, 4, 4, 4, 3, 3, 4, 4, 4, 4, 4, 4, 4, 4, 4, 4, 4, 4, 4, 4, 4, 4, 3, 3, 3, 3, 3, 3, 3, 3, 3, 3, 3, 3, 5, 4, 4, 4, 4, 4, 4, 4, 4, 4, 4, 2, 2, 2, 2, 2, 2, 2, 5, 5, 2, 2, 2, 4, 4, 4, 4, 4, 4, 3, 3, 3, 3, 5, 4, 4, 4, 4, 4, 4, 4, 4, 4, 4, 2, 3, 1, 4, 4, 2, 2, 2, 2, 3, 3, 3, 3, 3, 3, 3, 3, 3, 3, 1, 1, 1, 1, 1, 1, 1, 4, 4, 4, 4, 4, 4, 4, 4, 4, 4, 2, 2, 2, 2, 2, 2, 2, 2, 2, 2, 2, 2, 2, 2, 2, 2, 2, 2, 2, 3, 3, 3, 3, 3, 3, 3, 3, 3, 3, 3, 3, 3, 3, 3, 3, 2, 2, 2, 3, 3, 3, 3, 3, 3, 3, 3, 3, 1, 1, 5, 5, 5, 5, 5, 5, 2, 2, 2, 4, 4, 4, 4, 2, 2, 2, 3, 3, 4, 4, 2, 4, 4, 4, 2, 2, 2, 4, 4, 4, 4, 4, 4, 4, 4, 4, 4, 4, 4, 4, 2, 2, 4, 4, 4, 4, 4, 4, 4, 4, 4, 4, 4, 4, 4, 4, 4, 4, 4, 4, 4, 4, 4, 4, 4, 4, 4, 4, 4, 4, 4, 4, 4, 4, 4, 4, 4, 4, 4, 2, 2, 4, 4, 4, 4, 4, 2, 2, 2, 4, 4, 4, 4, 4, 4, 4, 4, 4, 4, 4, 4, 4, 4, 4, 4, 4, 4, 4, 4, 4, 4, 4, 4, 4, 2, 2, 2, 2, 2, 2, 2, 2, 2, 2, 2, 2, 2, 2, 2, 2, 3, 3, 3, 3, 3, 3, 3, 3, 3, 3, 3, 3, 3, 3, 3, 3, 3, 3, 3, 3, 3, 3, 3, 3, 3, 3, 3, 3, 3, 3, 3, 3, 3, 3, 3, 3, 3, 0, 0, 5, 5, 5, 5, 5, 5, 5, 5, 5, 5, 5, 5, 2, 2, 2, 2, 4, 4, 2, 2, 2, 2, 2, 3, 3, 3, 3, 3, 3, 3, 3, 3, 3, 3, 5, 5, 5, 2, 2, 2, 2, 2, 4, 4, 4, 4, 4, 4, 4, 4, 4, 4, 4, 4, 4, 4, 4, 4, 4, 4, 4, 4, 4, 4, 4, 4, 4, 4, 2, 2, 2, 2, 2, 2, 4, 4, 4, 4, 4, 4, 4, 4, 4, 4, 4, 4, 4, 4, 4, 4, 4, 4, 4, 4, 4, 4, 4, 4, 4, 4, 4, 4, 4, 4, 3, 3, 3, 3, 3, 2, 3, 4, 2, 2, 2, 2, 4, 4, 4, 4, 4, 2, 2, 4, 4, 4, 4, 4, 4, 4, 4, 4, 2, 2, 2, 2, 2, 3, 3, 3, 3, 3, 3, 3, 3, 3, 3, 3, 1, 1, 1, 1, 1, 1, 0, 5, 2, 2, 2, 3, 3, 3, 1, 1, 5, 4, 4, 4, 4, 4, 2, 2, 2, 2, 4, 4, 4, 4, 4, 4, 4, 4, 4, 4, 4, 4, 4, 4, 4, 4, 4, 4, 4, 4, 4, 4, 4, 4, 4, 4, 3, 4, 4, 4, 4, 4, 4, 4, 4, 4, 4, 2, 2, 2, 3, 3, 3, 3, 3, 3, 3, 3, 3, 3, 3, 3, 3, 0, 5, 5, 4, 4, 4, 4, 4, 4, 4, 4, 4, 4, 4, 4, 4, 4, 4, 4, 4, 4, 2, 2, 2, 2, 2, 2, 2, 2, 2, 2, 2, 2, 2, 2, 2, 2, 2, 2, 2, 2, 2, 2, 2, 2, 2, 2, 2, 2, 2, 2, 2, 2, 2, 3, 3, 3, 3, 3, 3, 3, 3, 3, 3, 3, 3, 3, 3, 3, 3, 3, 3, 3, 3, 3, 3, 3, 3, 3, 0, 0, 2, 2, 3, 3, 3, 3, 3, 3, 3, 3, 3, 3, 3, 3, 3, 3, 3, 3, 3, 4, 4, 4, 4, 4, 4, 4, 4, 4, 4, 4, 4, 4, 2, 2, 2, 2, 2, 2, 2, 2, 4, 4, 4, 4, 4, 4, 4, 4, 4, 4, 4, 4, 4, 4, 4, 4, 4, 4, 4, 2, 2, 4, 4, 4, 4, 4, 4, 4, 4, 4, 4, 4, 4, 4, 4, 4, 4, 4, 4, 4, 4, 4, 4, 4, 4, 4, 4, 4, 2, 2, 3, 3, 3, 3, 3, 3, 3, 3, 3, 3, 3, 3, 3, 3, 3, 3, 3, 3, 3, 3, 3, 3, 3, 3, 3, 3, 3, 3, 3, 3, 3, 3, 5, 5, 5, 5, 5, 2, 2, 2, 2, 4, 4, 4, 4, 4, 4, 4, 4, 4, 4, 4, 4, 4, 4, 4, 4, 4, 4, 4, 2, 2, 2, 1, 1, 1, 1, 1, 1, 4, 4, 4, 4, 4, 4, 4, 4, 4, 4, 2, 2, 2, 2, 2, 2, 2, 2, 2, 2, 2, 2, 2, 2, 2, 2, 2, 2, 2, 4, 4, 4, 2, 3, 1, 4, 4, 2, 2, 2, 2, 2, 2, 2, 3, 3, 3, 3, 3, 3, 3, 3, 3, 3, 3, 3, 3, 3, 3, 3, 3, 3, 3, 3, 3, 3, 3, 3, 3, 3, 3, 2, 2, 2, 2, 2, 3, 3, 3, 3, 3, 3, 1, 1, 5, 5, 4, 4, 4, 4, 4, 4, 4, 4, 4, 4, 4, 4, 4, 4, 4, 4, 2, 2, 3, 4, 4, 4, 4, 4, 4, 2, 3, 3, 3, 3, 3, 3, 3, 5, 4, 4, 4, 4, 2, 3, 3, 3, 3, 3, 3, 3, 3, 3, 3, 3, 1, 1, 1, 1, 1, 1, 1, 1, 1, 1, 4, 4, 4, 2, 2, 2, 2, 2, 4, 4, 4, 4, 4, 4, 4, 4, 4, 4, 4, 4, 4, 4, 4, 4, 4, 4, 4, 4, 4, 4, 4, 4, 4, 4, 4, 4, 4, 4, 4, 4, 4, 4, 4, 4, 2, 2, 2, 4, 4, 3, 3, 3, 3, 3, 3, 3, 3, 3, 3, 3, 3, 3, 3, 1, 1, 1, 1, 1, 5, 4, 4, 4, 4, 4, 4, 4, 4, 4, 4, 4, 2, 5, 5, 5, 5, 5, 5, 4, 4, 4, 4, 4, 4, 4, 4, 4, 4, 4, 4, 2, 2, 2, 2, 2, 2, 2, 2, 5, 5, 5, 5, 5, 5, 5, 5, 5, 4, 4, 4, 4, 4, 4, 4, 4, 4, 4, 4, 4, 4, 4, 4, 4, 4, 4, 4, 4, 4, 4, 4, 4, 4, 4, 4, 3, 3, 3, 3, 3, 3, 3, 3, 3, 3, 3, 3, 3, 3, 3, 3, 3, 3, 3, 3, 3, 3, 1, 1, 1, 1, 1, 1, 1, 1, 1, 1, 1, 4, 2, 2, 3, 3, 3, 3, 3, 4, 4, 4, 4, 4, 4, 2, 2, 1, 1, 1, 1, 1, 2, 3, 3, 3, 3, 3, 3, 3, 3, 3, 3, 3, 3, 3, 3, 3, 3, 3, 3, 3, 3, 3, 5, 5, 2, 2, 3, 3, 5, 5, 4, 4, 4, 4, 4, 4, 4, 4, 4, 4, 4, 3, 3, 3, 3, 3, 3, 3, 3, 3, 3, 4, 4, 4, 4, 4, 4, 4, 4, 4, 4, 4, 4, 4, 4, 4, 4, 4, 4, 4, 4, 4, 4, 2, 2, 2, 3, 3, 5, 5, 5, 2, 2, 2, 3, 3, 3, 3, 3, 3, 3, 3, 3, 3, 3, 3, 3, 3, 3, 3, 3, 3, 3, 3, 3, 3, 3, 3, 3, 3, 3, 5, 2, 2, 2, 2, 3, 3, 3, 3, 3, 3, 3, 3, 3, 3, 3, 3, 1, 1, 0, 0, 5, 5, 4, 4, 4, 2, 3, 2, 2, 2, 2, 2, 2, 2, 2, 3, 3, 3, 3, 3, 3, 3, 5, 5, 4, 4, 4, 4, 4, 2, 2, 3, 2, 2, 2, 2, 3, 3, 3, 4, 2, 2, 2, 2, 2, 2, 2, 2, 2, 3, 3, 3, 3, 3, 3, 3, 3, 3, 3, 3, 3, 3, 3, 3, 3, 3, 3, 3, 3, 3, 3, 3, 3, 5, 5, 5, 4, 4, 4, 4, 4, 4, 4, 4, 4, 4, 4, 4, 4, 4, 4, 4, 4, 4, 4, 4, 4, 4, 4, 4, 4, 4, 4, 4, 4, 4, 4, 4, 4, 4, 4, 4, 4, 4, 4, 4, 4, 4, 4, 4, 4, 4, 4, 4, 4, 4, 4, 4, 4, 4, 4, 4, 4, 4, 4, 4, 4, 4, 4, 4, 4, 4, 4, 3, 3, 3, 3, 3, 3, 3, 3, 3, 3, 3, 3, 3, 3, 3, 3, 3, 3, 3, 3, 3, 0, 4, 4, 4, 4, 4, 4, 4, 4, 1, 1, 1, 1, 1, 1, 1, 1, 1, 1, 1, 1, 1, 1, 1, 1, 1, 2, 2, 2, 2, 2, 2, 2, 2, 2, 3, 3, 3, 3, 3, 3, 3, 3, 3, 3, 3, 3, 3, 3, 3, 3, 3, 3, 3, 3, 3, 3, 3, 3, 3, 3, 3, 3, 3, 3, 3, 3, 3, 3, 3, 3, 3, 3, 3, 1, 1, 1, 1, 1, 1, 1, 1, 1, 1, 1, 1, 1, 1, 1, 1, 1, 0, 0, 0, 0, 5, 5, 5, 5, 2, 4, 2, 4, 4, 4, 4, 4, 4, 4, 4, 4, 4, 4, 4, 4, 4, 4, 4, 4, 2, 4, 4, 2, 2, 2, 2, 0, 0, 0, 4, 4, 4, 4, 4, 4, 4, 4, 2, 3, 3, 3, 3, 3, 3, 3, 3, 3, 3, 3, 3, 3, 3, 3, 3, 3, 3, 3, 3, 3, 3, 3, 3, 3, 3, 3, 3, 3, 3, 3, 3, 3, 0, 0, 0, 3, 3, 3, 3, 3, 3, 3, 3, 3, 3, 3, 3, 3, 3, 3, 3, 5, 5, 2, 2, 2, 3, 3, 3, 3, 3, 3, 3, 3, 3, 3, 3, 3, 3, 3, 3, 2, 2, 2, 1, 1, 4, 4, 4, 4, 4, 4, 4, 4, 4, 4, 4, 4, 4, 4, 4, 4, 4, 4, 4, 4, 4, 4, 4, 4, 4, 4, 4, 4, 4, 4, 4, 4, 4, 4, 4, 4, 2, 2, 2, 2, 4, 4, 4, 4, 4, 4, 4, 4, 4, 4, 4, 4, 4, 4, 4, 4, 4, 4, 2, 2, 2, 2, 2, 2, 2, 2, 2, 2, 5, 5, 5, 5, 5, 4, 4, 4, 4, 4, 4, 4, 4, 4, 4, 4, 4, 4, 4, 4, 2, 4, 4, 4, 4, 4, 2, 3, 3, 3, 3, 3, 4, 4, 2, 3, 3, 3, 3, 3, 3, 3, 3, 3, 3, 3, 3, 3, 3, 3, 3, 3, 3, 5, 2, 3, 3, 3, 3, 3, 3, 3, 3, 5, 5, 4, 4, 4, 4, 4, 4, 4, 4, 4, 4, 4, 4, 4, 4, 4, 4, 4, 4, 4, 4, 2, 2, 2, 2, 2, 2, 3, 3, 3, 3, 3, 3, 3, 3, 3, 3, 3, 3, 3, 3, 3, 3, 3, 3, 3, 3, 3, 0, 0, 0, 0, 0, 0, 5, 5, 5, 5, 5, 4, 4, 4, 4, 2, 2, 2, 2, 5, 5, 5, 4, 4, 4, 4, 4, 2, 3, 3, 3, 3, 3, 5, 4, 4, 4, 4, 1, 1, 1, 2, 4, 2, 2, 2, 2, 3, 3, 3, 3, 3, 3, 3, 3, 3, 5, 5, 5, 5, 5, 5, 5, 5, 5, 5, 5, 5, 5, 5, 5, 5, 5, 5, 5, 5, 5, 5, 3, 3, 3, 3, 3, 1, 1, 1, 1, 1, 1, 1, 1, 1, 2, 2, 3, 3, 3, 4, 4, 4, 4, 4, 4, 4, 4, 4, 4, 4, 4, 4, 4, 4, 4, 4, 4, 4, 4, 4, 4, 4, 4, 4, 4, 4, 4, 4, 4, 4, 4, 4, 4, 4, 2, 4, 4, 2, 3, 3, 5, 5, 2, 2, 2, 2, 2, 2, 2, 2, 2, 3, 3, 3, 3, 3, 3, 3, 3, 3, 3, 5, 5, 5, 5, 5, 5, 5, 5, 3, 3, 4, 4, 2, 3, 3, 3, 3, 3, 3, 0, 0, 4, 4, 4, 4, 4, 4, 2, 2, 2, 2, 2, 4, 4, 4, 4, 4, 4, 4, 4, 4, 4, 4, 4, 4, 4, 4, 4, 4, 4, 4, 4, 4, 4, 4, 4, 4, 4, 4, 4, 4, 4, 4, 4, 4, 4, 4, 2, 2, 2, 2, 2, 2, 2, 2, 2, 2, 3, 3, 3, 3, 3, 3, 3, 3, 3, 3, 3, 3, 3, 3, 3, 3, 3, 3, 3, 3, 3, 3, 3, 3, 3, 3, 3, 3, 3, 3, 3, 3, 3, 3, 3, 3, 1, 5, 5, 4, 4, 4, 4, 4, 4, 4, 4, 3, 3, 3, 0, 0, 3, 3, 3, 3, 3, 3, 3, 3, 3, 3, 3, 3, 3, 3, 3, 3, 3, 3, 3, 3, 3, 3, 3, 3, 3, 3, 3, 3, 3, 3, 3, 3, 3, 3, 3, 3, 3, 3, 3, 3, 3, 3, 3, 3, 3, 3, 4, 4, 4, 4, 4, 4, 4, 4, 4, 4, 4, 4, 4, 4, 4, 4, 4, 4, 4, 4, 4, 4, 4, 4, 4, 4, 4, 4, 4, 4, 4, 4, 4, 4, 4, 4, 4, 4, 4, 4, 4, 4, 4, 4, 4, 3, 3, 3, 5, 5, 5, 5, 3, 0, 4, 4, 4, 4, 4, 4, 4, 4, 4, 4, 4, 4, 4, 4, 4, 4, 4, 1, 3, 3, 3, 3, 3, 3, 3, 3, 3, 3, 3, 3, 3, 3, 3, 3, 3, 3, 3, 3, 3, 3, 3, 3, 3, 3, 3, 3, 3, 3, 3, 3, 3, 3, 3, 3, 3, 3, 3, 0, 0, 5, 5, 5, 4, 4, 4, 4, 4, 4, 4, 4, 4, 4, 3, 3, 3, 3, 3, 3, 3, 3, 1, 1, 1, 1, 1, 1, 1, 1, 3, 3, 3, 3, 4, 4, 3, 3, 3, 3, 3, 5, 5, 5, 4, 4, 4, 4, 4, 4, 4, 4, 4, 4, 4, 4, 4, 4, 4, 4, 3, 3, 3, 3, 3, 4, 4, 4, 4, 4, 4, 4, 4, 4, 4, 4, 3, 3, 3, 3, 3, 3, 3, 3, 3, 3, 3, 3, 3, 3, 3, 4, 3, 4, 3, 3, 3, 3, 1, 1, 1, 1, 1, 1, 1, 1, 3, 3, 3, 3, 3, 3, 1, 0, 4, 4, 4, 4, 3, 3, 3, 1, 4, 3, 3, 3, 3, 3, 3, 3, 3, 3, 3, 3, 3, 3, 3, 3, 3, 3, 3, 3, 3, 3, 3, 3, 3, 3, 3, 3, 3, 3, 3, 3, 3, 3, 3, 3, 3, 3, 3, 3, 3, 3, 3, 3, 3, 3, 3, 3, 3, 3, 3, 3, 3, 3, 3, 3, 3, 3, 3, 3, 3, 3, 3, 3, 3, 3, 3, 3, 3, 3, 3, 3, 3, 3, 3, 3, 3, 3, 3, 3, 3, 3, 3, 3, 3, 3, 3, 3, 3, 3, 3, 3, 3, 3, 3, 3, 5, 3, 3, 3, 3, 3, 5, 4, 4, 4, 4, 4, 4, 4, 3, 3, 3, 3, 3, 5, 5, 5, 3, 3, 3, 3, 3, 3, 3, 3, 1, 4, 3, 3, 3, 3, 3, 3, 3, 3, 3, 3, 3, 3, 3, 3, 5, 4, 4, 4, 4, 4, 4, 4, 4, 4, 3, 3, 3, 3, 3, 3, 3, 3, 3, 3, 3, 3, 3, 3, 3, 3, 3, 3, 3, 3, 3, 3, 3, 3, 3, 3, 3, 3, 3, 3, 1, 0, 0, 0, 0, 0, 0, 0, 0, 5, 5, 4, 4, 4, 4, 4, 3, 3, 3, 3, 3, 3, 4, 3, 3, 3, 3, 3, 3, 3, 3, 3, 3, 3, 3, 3, 3, 3, 3, 3, 3, 3, 3, 3, 3, 3, 3, 3, 3, 3, 3, 3, 3, 3, 3, 3, 3, 3, 3, 3, 3, 3, 3, 1, 1, 5, 3, 3, 3, 3, 3, 3, 3, 3, 3, 3, 3, 3, 3, 3, 3, 3, 3, 3, 3, 3, 3, 3, 3, 3, 3, 3, 3, 3, 3, 3, 3, 3, 3, 3, 3, 3, 3, 3, 3, 3, 3, 3, 3, 3, 3, 3, 3, 1, 3, 3, 4, 4, 4, 4, 4, 3, 3, 3, 3, 3, 3, 3, 3, 3, 3, 3, 3, 3, 3, 3, 3, 3, 3, 3, 3, 3, 3, 3, 3, 3, 3, 3, 3, 3, 3, 3, 3, 3, 3, 3, 3, 3, 5, 4, 3, 3, 3, 3, 4, 4, 4, 4, 4, 4, 4, 4, 4, 4, 4, 4, 4, 4, 4, 4, 4, 4, 4, 4, 4, 4, 4, 4, 4, 4, 4, 4, 4, 4, 4, 4, 4, 4, 4, 4, 4, 4, 4, 4, 4, 4, 4, 4, 4, 4, 4, 4, 4, 4, 4, 4, 4, 4, 3, 1, 1, 1, 1, 4, 3, 3, 3, 3, 3, 3, 3, 1, 1, 1, 3, 3, 3, 3, 3, 3, 3, 3, 3, 3, 3, 3, 3, 3, 3, 3, 3, 3, 3, 3, 3, 3, 3, 3, 3, 3, 3, 3, 3, 3, 3, 3, 3, 3, 3, 3, 3, 5, 4, 4, 4, 4, 4, 4, 4, 3, 5, 5, 4, 4, 3, 3, 3, 3, 3, 3, 3, 3, 3, 3, 3, 3, 3, 3, 3, 3, 3, 3, 3, 3, 3, 3, 3, 3, 3, 3, 5, 5, 4, 4, 4, 4, 4, 4, 3, 3, 3, 3, 3, 3, 5, 5, 4, 4, 4, 4, 4, 4, 3, 3, 3, 3, 3, 3, 3, 3, 3, 3, 3, 3, 3, 3, 3, 3, 3, 3, 3, 3, 3, 3, 3, 3, 5, 5, 3, 3, 3, 3, 3, 3, 3, 3, 3, 3, 3, 4, 4, 3, 3, 4, 4, 4, 3, 3, 3, 3, 3, 3, 3, 5, 5, 5, 5, 5, 4, 4, 4, 4, 4, 4, 4, 4, 4, 4, 4, 4, 4, 4, 4, 4, 4, 4, 4, 4, 4, 4, 4, 4, 4, 4, 4, 4, 4, 3, 3, 3, 3, 3, 3, 3, 3, 3, 5, 4, 3, 3, 3, 3, 5, 3, 3, 4, 3, 3, 3, 3, 3, 3, 3, 3, 3, 3, 3, 3, 3, 3, 3, 3, 3, 3, 3, 3, 3, 3, 3, 3, 5, 5, 4, 4, 4, 4, 3, 3, 3, 3, 3, 3, 3, 3, 3, 3, 3, 3, 3, 3, 3, 1, 4, 4, 4, 4, 4, 4, 4, 4, 4, 4, 4, 4, 4, 4, 4, 4, 4, 4, 4, 4, 4, 4, 4, 4, 4, 4, 4, 4, 4, 4, 4, 4, 4, 4, 4, 4, 4, 4, 4, 4, 4, 4, 4, 4, 4, 4, 4, 4, 4, 4, 4, 4, 4, 4, 4, 4, 4, 4, 4, 4, 4, 4, 4, 4, 4, 4, 4, 4, 4, 4, 4, 4, 4, 4, 4, 4, 4, 4, 4, 4, 4, 4, 4, 4, 4, 4, 4, 4, 4, 4, 4, 4, 4, 4, 4, 4, 4, 4, 4, 4, 4, 4, 4, 4, 4, 4, 4, 4, 4, 4, 4, 4, 4, 4, 4, 4, 4, 4, 4, 4, 4, 4, 4, 4, 4, 4, 4, 3, 3, 3, 3, 3, 3, 3, 5, 4, 4, 4, 4, 4, 3, 3, 3, 3, 3, 3, 3, 3, 3, 3, 3, 3, 3, 3, 3, 3, 3, 3, 3, 3, 3, 3, 3, 3, 3, 3, 3, 3, 3, 1, 1, 1, 5, 3, 3, 3, 3, 3, 3, 3, 3, 3, 4, 4, 4, 4, 3, 4, 4, 4, 4, 4, 4, 4, 4, 4, 4, 4, 4, 4, 4, 4, 3, 3, 3, 3, 3, 3, 3, 3, 3, 3, 3, 3, 3, 3, 3, 3, 3, 5, 3, 3, 3, 3, 3, 3, 3, 3, 3, 3, 3, 3, 3, 3, 3, 3, 3, 3, 3, 3, 3, 3, 5, 4, 4, 4, 3, 3, 3, 3, 3, 3, 4, 3, 3, 3, 3, 1, 1, 3, 3, 3, 3, 3, 3, 3, 3, 3, 3, 3, 3, 3, 3, 3, 3, 3, 3, 3, 3, 3, 3, 3, 3, 3, 3, 3, 3, 3, 3, 3, 3, 3, 3, 3, 3, 3, 3, 3, 3, 3, 3, 3, 4, 4, 4, 3, 3, 3, 3, 3, 3, 3, 3, 3, 1, 4, 4, 4, 4, 4, 4, 4, 4, 3, 3, 3, 3, 1, 4, 4, 4, 4, 4, 4, 4, 4, 4, 4, 4, 4, 4, 4, 4, 4, 4, 4, 4, 4, 4, 3, 3, 3, 3, 3, 3, 3, 3, 3, 3, 3, 1, 1, 5, 5, 5, 3, 3, 3, 3, 3, 3, 1, 1, 1, 1, 1, 3, 3, 3, 3, 3, 3, 3, 3, 3, 1, 5, 3, 3, 3, 3, 3, 3, 1, 1, 1, 1, 1, 1, 1, 3, 3, 3, 3, 3, 3, 3, 3, 3, 3, 3, 4, 3, 3, 1, 4, 4, 4, 4, 3, 3, 3, 3, 3, 3, 3, 1, 1, 1, 1, 1, 3, 3, 4, 4, 4, 3, 3, 3, 3, 3, 3, 3, 3, 3, 3, 3, 3, 3, 3, 3, 3, 3, 3, 3, 3, 3, 3, 3, 3, 3, 3, 3, 5, 5, 5, 5, 5, 5, 5, 5, 3, 3, 3, 3, 3, 3, 3, 3, 3, 3, 3, 3, 3, 3, 3, 3, 3, 3, 3, 3, 3, 3, 3, 3, 3, 3, 3, 3, 3, 3, 3, 3, 3, 3, 3, 3, 3, 3, 3, 3, 3, 1, 1, 1, 1, 0, 3, 1, 4, 4, 4, 3, 1, 5, 3, 3, 3, 3, 3, 3, 3, 3, 3, 3, 3, 3, 3, 3, 3, 3, 3, 3, 3, 3, 3, 3, 3, 3, 3, 3, 3, 3, 3, 3, 3, 3, 3, 3, 3, 3, 3, 3, 3, 3, 3, 3, 3, 3, 3, 3, 3, 3, 3, 3, 3, 3, 3, 3, 3, 3, 3, 3, 3, 3, 3, 3, 3, 3, 3, 3, 3, 4, 4, 4, 4, 4, 4, 4, 4, 4, 4, 4, 4, 4, 4, 4, 4, 4, 4, 4, 4, 4, 4, 4, 4, 4, 4, 4, 4, 3, 3, 5, 4, 4, 3, 3, 3, 3, 4, 3, 3, 3, 3, 3, 3, 3, 3, 3, 3, 3, 3, 3, 3, 3, 3, 3, 3, 3, 3, 3, 3, 3, 3, 3, 3, 3, 3, 3, 3, 3, 3, 3, 3, 3, 3, 3, 3, 3, 3, 3, 3, 3, 3, 4, 4, 4, 4, 4, 4, 4, 4, 4, 4, 4, 4, 4, 4, 4, 4, 4, 3, 3, 3, 3, 3, 3, 3, 3, 3, 3, 3, 3, 3, 3, 3, 3, 3, 3, 3, 3, 3, 3, 3, 3, 3, 3, 3, 3, 5, 4, 3, 3, 3, 3, 3, 3, 3, 3, 3, 3, 3, 3, 3, 3, 3, 3, 3, 3, 3, 3, 3, 3, 3, 3, 3, 4, 3, 3, 3, 3, 3, 3, 3, 3, 3, 5, 5, 4, 4, 4, 4, 4, 4, 4, 4, 4, 4, 4, 4, 3, 3, 3, 3, 1, 1, 1, 1, 1, 1, 1, 1, 4, 4, 3, 3, 3, 3, 3, 3, 3, 3, 3, 3, 3, 3, 3, 3, 3, 3, 3, 3, 3, 3, 3, 3, 3, 3, 3, 3, 3, 3, 3, 3, 3, 3, 3, 3, 3, 3, 3, 3, 3, 3, 3, 3, 3, 3, 3, 3, 3, 3, 3, 3, 3, 3, 3, 3, 3, 1, 1, 1, 1, 1, 4, 4, 4, 4, 4, 4, 4, 4, 4, 4, 4, 4, 4, 4, 4, 4, 4, 4, 4, 4, 4, 3, 3, 3, 3, 3, 5, 4, 4, 4, 4, 4, 4, 4, 3, 3, 3, 3, 3, 3, 3, 3, 3, 3, 3, 3, 3, 3, 3, 5, 5, 5, 5, 5, 3, 3, 3, 3, 3, 3, 3, 3, 3, 3, 3, 3, 3, 3, 3, 3, 3, 3, 3, 3, 4, 3, 4, 4, 3, 3, 5, 4, 3, 3, 3, 3, 3, 3, 3, 3, 3, 3, 3, 3, 3, 3, 3, 3, 3, 3, 3, 3, 3, 3, 3, 3, 5, 5, 5, 5, 4, 4, 4, 4, 4, 4, 3, 3, 3, 3, 3, 3, 3, 3, 3, 3, 3, 3, 3, 3, 3, 3, 3, 3, 3, 3, 3, 3, 3, 3, 3, 3, 3, 5, 5, 5, 4, 4, 3, 3, 5, 5, 4, 4, 4, 4, 4, 4, 4, 4, 4, 4, 4, 4, 4, 4, 3, 3, 3, 3, 1, 4, 4, 4, 4, 4, 4, 4, 4, 4, 3, 3, 3, 3, 3, 3, 3, 3, 3, 3, 3, 3, 5, 4, 3, 3, 3, 3, 3, 3, 3, 3, 3, 3, 3, 3, 3, 3, 3, 3, 3, 3, 3, 3, 3, 4, 4, 4, 4, 4, 4, 4, 3, 3, 3, 3, 3, 3, 3, 3, 3, 3, 3, 3, 3, 3, 3, 3, 3, 3, 3, 3, 3, 3, 3, 3, 5, 4, 3, 3, 3, 3, 3, 3, 3, 3, 3, 3, 3, 3, 3, 3, 3, 3, 3, 3, 3, 3, 3, 3, 3, 3, 3, 3, 3, 3, 3, 3, 3, 3, 3, 3, 3, 3, 3, 3, 3, 4, 3, 3, 3, 3, 3, 3, 3, 3, 3, 3, 3, 3, 3, 3, 3, 3, 3, 3, 3, 3, 3, 3, 3, 3, 3, 3, 3, 3, 3, 3, 3, 3, 3, 3, 3, 3, 3, 3, 3, 3, 3, 3, 3, 1, 1, 1, 1, 1, 1, 1, 1, 1, 1, 1, 1, 1, 1, 1, 1, 1, 1, 1, 1, 1, 1, 1, 1, 3, 3, 3, 3, 3, 3, 3, 3, 3, 3, 3, 3, 3, 3, 3, 3, 3, 3, 3, 3, 3, 3, 3, 3, 3, 3, 3, 3, 3, 3, 3, 3, 3, 3, 3, 3, 3, 3, 3, 3, 3, 3, 3, 3, 3, 3, 3, 3, 3, 3, 3, 3, 3, 3, 3, 3, 3, 3, 3, 4, 4, 4, 4, 4, 4, 4, 4, 4, 3, 3, 3, 3, 3, 3, 3, 3, 3, 3, 3, 3, 3, 3, 3, 3, 3, 3, 3, 3, 3, 3, 3, 3, 3, 3, 3, 3, 3, 3, 1, 1, 1, 1, 1, 1, 1, 0, 0, 4, 4, 4, 3, 3, 3, 3, 3, 3, 3, 5, 3, 3, 3, 3, 3, 3, 3, 3, 3, 3, 3, 3, 1, 1, 1, 1, 1, 1, 1, 1, 1, 1, 3, 3, 3, 3, 3, 3, 3, 3, 3, 3, 3, 3, 0, 5, 4, 4, 4, 4, 3, 4, 4, 3, 3, 3, 3, 3, 3, 3, 3, 3, 3, 3, 3, 3, 3, 3, 3, 3, 3, 3, 3, 3, 5, 5, 5, 5, 5, 5, 5, 4, 4, 4, 4, 4, 4, 4, 4, 3, 3, 3, 1, 1, 1, 5, 3, 3, 3, 3, 5, 4, 4, 3, 3, 3, 3, 3, 3, 3, 3, 3, 3, 3, 3, 3, 3, 3, 3, 3, 3, 3, 3, 3, 3, 3, 3, 3, 3, 3, 3, 3, 3, 3, 3, 3, 3, 3, 4, 4, 3, 3, 3, 3, 4, 3, 3, 3, 3, 3, 3, 3, 1, 1, 1, 3, 3, 4, 4, 4, 4, 4, 4, 4, 4, 4, 4, 4, 4, 4, 4, 4, 4, 4, 4, 4, 4, 4, 4, 4, 3, 3, 4, 3, 3, 3, 3, 3, 3, 3, 5, 4, 4, 3, 3, 3, 3, 3, 3, 3, 3, 3, 5, 3, 3, 3, 3, 3, 3, 3, 3, 5, 5, 4, 3, 4, 4, 3, 3, 3, 3, 3, 3, 3, 3, 3, 3, 3, 3, 3, 3, 3, 3, 3, 3, 3, 3, 3, 3, 3, 3, 3, 3, 3, 3, 3, 3, 3, 3, 3, 3, 3, 3, 3, 3, 3, 3, 3, 3, 3, 1, 1, 5, 5, 5, 5, 4, 4, 4, 4, 4, 4, 4, 4, 4, 4, 4, 4, 4, 4, 4, 4, 3, 3, 3, 3, 3, 3, 3, 3, 3, 3, 3, 3, 3, 3, 3, 3, 3, 3, 3, 3, 3, 3, 3, 3, 3, 3, 3, 4, 4, 4, 4, 4, 4, 4, 4, 4, 4, 4, 4, 4, 4, 4, 4, 4, 4, 4, 4, 4, 4, 4, 4, 4, 4, 4, 4, 4, 3, 3, 3, 3, 1, 1, 3, 3, 3, 3, 3, 3, 3, 4, 4, 4, 4, 3, 3, 3, 3, 3, 3, 3, 3, 3, 3, 3, 3, 3, 5, 3, 3, 1, 3, 3, 3, 3, 3, 3, 3, 3, 3, 3, 3, 3, 3, 3, 3, 3, 3, 3, 3, 3, 3, 3, 3, 3, 5, 5, 3, 3, 5, 5, 5, 5, 5, 4, 4, 4, 4, 4, 4, 4, 4, 4, 4, 4, 4, 4, 4, 4, 4, 4, 3, 3, 3, 3, 1, 1, 3, 3, 1, 3, 3, 3, 3, 3, 3, 3, 3, 3, 3, 3, 3, 3, 3, 3, 3, 3, 3, 3, 1, 1, 1, 1, 1, 1, 1, 5, 3, 4, 4, 4, 4, 4, 4, 4, 4, 4, 4, 4, 4, 4, 4, 4, 4, 3, 3, 3, 3, 3, 3, 4, 4, 4, 4, 3, 3, 3, 3, 3, 3, 3, 3, 3, 3, 3, 3, 3, 3, 1, 3, 3, 3, 3, 3, 3, 3, 3, 3, 3, 3, 3, 3, 3, 3, 3, 3, 3, 3, 3, 3, 5, 5, 5, 5, 5, 5, 4, 4, 3, 1, 1, 1, 5, 4, 4, 4, 4, 4, 4, 3, 3, 3, 3, 3, 3, 3, 3, 3, 3, 3, 3, 3, 3, 3, 3, 3, 3, 1, 3, 3, 3, 3, 3, 3, 3, 3, 3, 3, 3, 3, 3, 3, 3, 3, 3, 3, 3, 3, 3, 3, 3, 3, 3, 3, 3, 1, 1, 1, 1, 1, 1, 1, 1, 1, 1, 1, 1, 1, 1, 1, 1, 1, 1, 1, 1, 3, 3, 3, 3, 3, 3, 3, 3, 3, 3, 3, 3, 3, 3, 3, 3, 3, 3, 3, 3, 3, 3, 3, 3, 3, 3, 3, 3, 3, 3, 3, 3, 3, 3, 3, 3, 3, 3, 3, 3, 3, 3, 3, 3, 3, 3, 3, 3, 3, 3, 3, 3, 3, 3, 3, 3, 3, 3, 3, 3, 3, 3, 3, 1, 3, 3, 3, 3, 3, 3, 3, 3, 3, 3, 3, 3, 3, 3, 3, 3, 3, 3, 3, 3, 1, 1, 1, 1, 1, 1, 1, 1, 1, 0, 0, 5, 4, 4, 4, 4, 4, 4, 4, 4, 4, 4, 4, 4, 4, 4, 4, 4, 4, 4, 3, 3, 3, 3, 3, 3, 3, 3, 3, 3, 3, 3, 3, 3, 3, 3, 3, 3, 3, 3, 3, 3, 3, 3, 3, 3, 3, 3, 3, 3, 3, 3, 3, 3, 3, 3, 3, 3, 3, 3, 3, 1, 1, 1, 1, 1, 3, 3, 3, 3, 3, 3, 3, 3, 3, 3, 3, 3, 3, 5, 5, 4, 4, 3, 3, 3, 3, 3, 3, 3, 0, 0, 0, 0, 0, 0, 3, 3, 3, 3, 3, 3, 3, 3, 3, 3, 3, 3, 3, 3, 3, 3, 3, 3, 3, 3, 3, 3, 3, 3, 3, 3, 3, 3, 3, 3, 3, 3, 3, 3, 3, 3, 3, 3, 3, 3, 3, 3, 3, 3, 3, 3, 3, 3, 3, 3, 3, 3, 3, 3, 3, 3, 3, 3, 3, 3, 3, 3, 3, 3, 3, 3, 3, 3, 3, 4, 3, 3, 3, 3, 3, 3, 3, 3, 3, 3, 3, 3, 3, 3, 3, 3, 3, 3, 3, 3, 3, 3, 3, 3, 3, 3, 3, 3, 3, 3, 3, 4, 4, 4, 3, 3, 3, 3, 3, 3, 3, 3, 3, 4, 4, 4, 3, 3, 3, 3, 3, 3, 3, 3, 3, 3, 3, 3, 3, 3, 3, 3, 3, 3, 3, 3, 3, 3, 3, 3, 3, 3, 3, 3, 3, 3, 3, 3, 3, 3, 3, 3, 3, 3, 3, 3, 3, 3, 3, 3, 3, 3, 3, 3, 3, 3, 5, 5, 5, 5, 5, 5, 5, 5, 3, 4, 3, 3, 3, 3, 3, 3, 1, 1, 3, 3, 3, 3, 3, 3, 3, 3, 0, 5, 4, 4, 4, 4, 4, 4, 3, 3, 3, 3, 4, 4, 4, 4, 4, 4, 4, 4, 4, 4, 4, 4, 4, 4, 4, 4, 4, 4, 4, 4, 4, 4, 4, 4, 4, 4, 4, 4, 3, 3, 3, 3, 3, 3, 3, 3, 3, 3, 3, 3, 3, 3, 5, 5, 4, 4, 4, 4, 4, 4, 4, 4, 4, 4, 4, 4, 4, 3, 3, 3, 3, 3, 3, 3, 3, 3, 3, 1, 1, 1, 1, 1, 3, 3, 3, 3, 3, 3, 3, 3, 3, 3, 3, 3, 3, 3, 3, 3, 3, 3, 3, 3, 3, 3, 3, 3, 3, 3, 3, 3, 3, 3, 3, 3, 5, 3, 3, 3, 3, 3, 3, 3, 3, 3, 3, 3, 1, 1, 1, 1, 1, 1, 1, 1, 1, 1, 1, 1, 1, 1, 1, 1, 5, 5, 5, 5, 5, 5, 5, 5, 5, 5, 5, 4, 4, 4, 4, 4, 4, 4, 4, 4, 4, 4, 4, 4, 4, 4, 3, 4, 3, 3, 5, 4, 4, 4, 4, 4, 3, 3, 3, 3, 3, 3, 3, 5, 4, 3, 3, 3, 3, 5, 3, 3, 3, 0, 0, 0, 5, 3, 3, 3, 3, 3, 3, 3, 3, 4, 4, 4, 4, 4, 4, 4, 4, 3, 3, 3, 4, 3, 3, 3, 3, 3, 3, 3, 3, 3, 3, 3, 3, 3, 3, 3, 3, 3, 3, 3, 3, 3, 3, 3, 3, 3, 3, 5, 5, 5, 5, 3, 3, 3, 3, 3, 3, 3, 3, 3, 3, 3, 3, 3, 3, 3, 3, 3, 3, 3, 3, 3, 3, 3, 1, 3, 3, 3, 3, 3, 3, 3, 3, 3, 3, 3, 3, 3, 3, 3, 3, 3, 3, 3, 3, 3, 3, 3, 3, 3, 3, 3, 3, 3, 3, 5, 5, 5, 5, 5, 3, 4, 3, 3, 1, 1, 1, 1, 1, 1, 1, 1, 1, 1, 5, 4, 4, 4, 3, 3, 3, 3, 3, 5, 4, 4, 3, 3, 3, 3, 3, 3, 3, 3, 3, 3, 3, 3, 3, 3, 3, 3, 3, 3, 3, 3, 3, 3, 3, 3, 3, 5, 5, 3, 3, 3, 3, 3, 3, 3, 5, 4, 4, 4, 4, 4, 4, 4, 4, 3, 3, 3, 3, 3, 3, 3, 3, 3, 3, 3, 3, 3, 3, 3, 3, 3, 3, 3, 4, 4, 4, 3, 3, 3, 3, 3, 0, 3, 3, 3, 3, 3, 3, 3, 3, 3, 3, 3, 3, 3, 3, 3, 3, 3, 3, 3, 3, 3, 3, 3, 3, 3, 3, 3, 3, 3, 3, 3, 3, 3, 3, 3, 3, 3, 3, 3, 3, 3, 3, 3, 3, 3, 3, 3, 3, 3, 3, 3, 3, 3, 3, 3, 3, 3, 3, 3, 3, 3, 3, 3, 3, 3, 3, 3, 3, 3, 3, 5, 5, 3, 3, 3, 3, 3, 3, 3, 3, 1, 1, 1, 1, 3, 3, 3, 3, 3, 3, 3, 3, 3, 3, 3, 3, 3, 3, 3, 3, 3, 3, 3, 3, 1, 1, 1, 1, 1, 1, 1, 1, 1, 1, 1, 4, 4, 4, 4, 4, 4, 4, 4, 4, 4, 3, 3, 3, 3, 3, 3, 1, 4, 3, 5, 3, 3, 3, 5, 4, 4, 4, 3, 3, 3, 3, 3, 3, 1, 0, 0, 4, 4, 3, 3, 3, 4, 4, 4, 4, 4, 4, 4, 4, 4, 4, 4, 4, 4, 4, 4, 4, 4, 4, 3, 3, 3, 3, 3, 3, 3, 3, 3, 3, 3, 3, 3, 3, 3, 3, 3, 3, 3, 3, 3, 3, 3, 3, 1, 3, 3, 3, 3, 3, 3, 3, 3, 3, 3, 3, 3, 3, 3, 3, 3, 3, 3, 3, 3, 3, 3, 3, 3, 3, 3, 3, 3, 3, 3, 3, 3, 3, 3, 3, 1, 1, 1, 1, 1, 1, 1, 5, 4, 4, 4, 4, 4, 3, 3, 3, 3, 3, 3, 3, 3, 3, 4, 3, 3, 3, 3, 3, 3, 3, 3, 3, 3, 3, 3, 3, 3, 3, 3, 3, 3, 3, 3, 3, 3, 3, 3, 3, 3, 5, 3, 3, 3, 3, 4, 4, 4, 4, 3, 3, 3, 3, 3, 3, 3, 3, 3, 3, 3, 3, 3, 3, 3, 3, 3, 5, 3, 3, 3, 1, 5, 5, 5, 4, 4, 4, 4, 4, 4, 3, 3, 3, 3, 3, 3, 3, 3, 3, 3, 3, 3, 3, 4, 4, 4, 4, 4, 3, 3, 3, 3, 3, 5, 5, 5, 5, 5, 4, 4, 4, 4, 4, 4, 4, 4, 4, 4, 3, 1, 1, 5, 5, 3, 3, 3, 3, 3, 3, 4, 3, 3, 3, 3, 3, 3, 3, 3, 3, 3, 3, 3, 3, 3, 3, 3, 3, 3, 3, 5, 5, 3, 3, 3, 3, 3, 3, 4, 4, 4, 4, 4, 4, 4, 4, 4, 4, 4, 4, 4, 4, 4, 4, 3, 3, 1, 1, 5, 4, 4, 4, 4, 4, 4, 3, 3, 3, 3, 3, 3, 3, 3, 3, 3, 3, 3, 3, 3, 3, 3, 3, 3, 3, 5, 5, 5, 5, 5, 5, 4, 4, 4, 4, 4, 4, 4, 4, 4, 4, 3, 3, 3, 3, 3, 3, 3, 3, 3, 3, 3, 3, 3, 3, 3, 3, 3, 3, 3, 3, 3, 3, 3, 3, 3, 3, 3, 3, 3, 3, 3, 3, 3, 3, 3, 3, 3, 3, 3, 3, 3, 3, 3, 3, 4, 4, 4, 4, 3, 3, 0, 0, 0, 0, 3, 3, 3, 3, 1, 1, 1, 1, 1, 1, 1, 1, 1, 5, 5, 5, 4, 4, 4, 4, 3, 3, 3, 3, 3, 3, 3, 3, 1, 3, 3, 3, 3, 3, 1, 1, 1, 1, 1, 1, 1, 1, 1, 1, 1, 1, 1, 1, 1, 1, 1, 1, 4, 3, 3, 3, 3, 3, 3, 3, 3, 3, 3, 3, 3, 3, 3, 3, 3, 3, 3, 3, 3, 3, 3, 4, 4, 3, 3, 3, 3, 3, 3, 3, 3, 4, 4, 4, 4, 4, 4, 4, 4, 4, 4, 4, 4, 4, 4, 3, 3, 3, 3, 3, 3, 3, 3, 3, 1, 5, 4, 4, 3, 1, 1, 1, 1, 4, 3, 3, 3, 3, 3, 3, 3, 3, 4, 3, 3, 1, 3, 3, 3, 3, 3, 3, 3, 5, 5, 3, 3, 3, 3, 3, 3, 3, 3, 3, 3, 3, 3, 3, 3, 4, 4, 4, 3, 3, 3, 3, 4, 4, 4, 3, 3, 3, 3, 3, 3, 3, 3, 3, 3, 3, 3, 3, 3, 3, 3, 3, 3, 3, 3, 3, 3, 3, 3, 3, 3, 1, 1, 1, 1, 1, 1, 1, 1, 1, 4, 4, 4, 4, 4, 4, 4, 4, 4, 4, 4, 4, 3, 3, 3, 3, 3, 3, 1, 1, 1, 1, 1, 1, 1, 5, 4, 4, 4, 4, 4, 4, 4, 3, 3, 5, 5, 5, 3, 3, 3, 1, 1, 1, 1, 1, 1, 5, 4, 4, 4, 4, 1, 1, 4, 3, 3, 3, 3, 3, 3, 3, 3, 3, 3, 3, 3, 3, 3, 3, 3, 3, 3, 3, 3, 3, 3, 3, 3, 5, 5, 5, 5, 3, 3, 3, 3, 3, 3, 3, 3, 3, 3, 3, 3, 3, 3, 3, 3, 3, 3, 3, 3, 1, 1, 5, 5, 4, 4, 4, 4, 3, 3, 3, 3, 3, 3, 3, 3, 3, 3, 3, 3, 3, 4, 3, 3, 3, 3, 3, 3, 3, 5, 5, 4, 4, 4, 4, 4, 4, 4, 4, 4, 4, 4, 4, 4, 4, 3, 3, 3, 3, 3, 3, 3, 3, 3, 3, 3, 3, 3, 3, 3, 3, 3, 3, 3, 3, 3, 3, 3, 3, 3, 3, 3, 3, 3, 4, 4, 4, 4, 4, 3, 3, 3, 4, 4, 4, 4, 4, 4, 4, 4, 4, 4, 3, 3, 3, 3, 3, 3, 3, 3, 3, 3, 3, 3, 3, 3, 3, 3, 3, 3, 3, 3, 0, 0, 0, 5, 5, 4, 4, 4, 4, 4, 4, 4, 4, 4, 4, 3, 3, 3, 3, 3, 3, 3, 3, 3, 3, 3, 3, 3, 3, 3, 3, 3, 3, 3, 3, 3, 3, 3, 3, 3, 3, 5, 4, 3, 4, 4, 3, 3, 3, 3, 3, 3, 3, 3, 3, 4, 4, 4, 4, 4, 3, 3, 3, 3, 3, 3, 5, 3, 3, 3, 3, 3, 3, 3, 3, 3, 3, 3, 4, 3, 3, 3, 3, 3, 3, 3, 3, 3, 3, 3, 3, 3, 3, 3, 3, 3, 3, 3, 1, 1, 1, 5, 3, 3, 3, 3, 4, 4, 3, 3, 3, 3, 3, 3, 3, 3, 3, 5, 5, 5, 4, 4, 4, 3, 3, 3, 3, 3, 3, 3, 3, 3, 3, 3, 3, 3, 3, 3, 3, 3, 3, 3, 3, 3, 3, 3, 3, 3, 3, 3, 3, 3, 1, 4, 4, 4, 4, 4, 4, 3, 3, 3, 3, 3, 3, 3, 3, 3, 3, 3, 3, 3, 3, 3, 3, 1, 1, 1, 1, 1, 1, 1, 1, 1, 0, 0, 0, 5, 3, 3, 3, 3, 3, 3, 3, 3, 3, 3, 3, 3, 3, 3, 3, 3, 0, 5, 5, 5, 4, 1, 4, 4, 4, 4, 4, 4, 4, 4, 4, 4, 4, 4, 3, 3, 5, 3, 3, 3, 3, 3, 3, 3, 3, 3, 3, 4, 4, 3, 3, 3, 3, 3, 3, 3, 3, 3, 3, 3, 5, 4, 3, 3, 3, 3, 3, 3, 3, 3, 3, 3, 3, 3, 3, 3, 3, 3, 3, 3, 3, 3, 3, 3, 3, 3, 3, 3, 3, 3, 3, 3, 3, 3, 3, 3, 3, 3, 3, 3, 3, 3, 3, 5, 5, 4, 4, 3, 3, 3, 3, 3, 3, 3, 3, 5, 4, 3, 3, 5, 5, 4, 4, 3, 3, 3, 3, 3, 3, 3, 3, 1, 0, 4, 4, 3, 3, 3, 3, 3, 3, 3, 3, 4, 4, 4, 4, 4, 4, 4, 4, 4, 4, 4, 4, 4, 4, 4, 4, 3, 3, 3, 3, 3, 3, 3, 3, 3, 3, 3, 3, 3, 3, 3, 3, 3, 3, 3, 3, 3, 3, 3, 3, 3, 3, 3, 3, 3, 3, 3, 3, 3, 3, 3, 3, 3, 3, 3, 3, 3, 3, 3, 3, 3, 3, 3, 5, 4, 4, 4, 4, 4, 4, 4, 4, 4, 4, 4, 4, 4, 4, 4, 4, 4, 4, 4, 4, 4, 4, 4, 3, 3, 3, 3, 3, 3, 3, 3, 3, 3, 1, 0, 0, 0, 0, 0, 0, 5, 3, 5, 3, 3, 3, 3, 3, 3, 3, 3, 3, 3, 3, 3, 3, 3, 5, 3, 3, 3, 3, 3, 1, 1, 5, 3, 3, 4, 4, 3, 3, 3, 3, 3, 3, 3, 3, 3, 3, 3, 3, 3, 3, 3, 3, 3, 3, 3, 3, 3, 3, 3, 3, 3, 3, 3, 3, 3, 3, 4, 4, 4, 4, 4, 4, 3, 3, 3, 3, 3, 3, 3, 3, 3, 3, 3, 3, 3, 3, 3, 3, 3, 3, 3, 3, 3, 3, 3, 1, 1, 3, 3, 3, 3, 3, 1, 1, 1, 1, 1, 0, 0, 5, 3, 3, 3, 3, 3, 3, 3, 3, 3, 3, 0, 5, 4, 4, 4, 4, 4, 4, 4, 4, 4, 4, 4, 4, 4, 4, 3, 3, 3, 3, 3, 3, 1, 5, 5, 4, 3, 3, 3, 3, 3, 3, 3, 3, 3, 3, 3, 3, 3, 3, 3, 3, 3, 3, 3, 3, 3, 3, 3, 3, 3, 3, 3, 3, 3, 3, 3, 3, 3, 3, 3, 3, 3, 3, 3, 3, 3, 3, 3, 3, 3, 3, 3, 3, 3, 3, 3, 5, 3, 3, 3, 3, 3, 3, 3, 3, 3, 3, 3, 3, 3, 3, 5, 5, 5, 5, 5, 5, 3, 3, 3, 3, 3, 3, 1, 1, 1, 1, 3, 3, 3, 3, 3, 3, 3, 3, 3, 3, 3, 3, 3, 3, 3, 3, 3, 3, 3, 3, 3, 4, 4, 3, 0, 0, 3, 3, 3, 0, 5, 3, 3, 3, 4, 3, 3, 3, 3, 3, 5, 4, 4, 4, 4, 1, 1, 1, 1, 1, 1, 1, 1, 1, 1, 3, 3, 3, 0, 0, 0, 0, 0, 0, 0, 3, 3, 1, 5, 3, 3, 3, 3, 3, 3, 3, 3, 3, 3, 3, 3, 3, 3, 3, 3, 3, 3, 3, 3, 3, 3, 3, 3, 3, 3, 3, 3, 3, 3, 3, 3, 3, 3, 3, 3, 3, 3, 3, 3, 3, 3, 3, 3, 3, 3, 3, 3, 3, 3, 3, 3, 3, 3, 3, 3, 3, 3, 3, 3, 3, 3, 3, 3, 3, 3, 1, 1, 1, 1, 1, 1, 1, 1, 3, 1, 1, 1, 1, 1, 1, 0, 0, 0, 0, 0, 0, 3, 3, 3, 3, 3, 3, 3, 3, 3, 3, 3, 3, 3, 5, 5, 3, 3, 3, 3, 3, 3, 3, 3, 3, 3, 3, 3, 3, 3, 3, 3, 3, 3, 3, 3, 3, 3, 3, 3, 3, 3, 3, 3, 3, 3, 3, 3, 3, 3, 3, 3, 3, 3, 3, 3, 3, 3, 3, 3, 3, 3, 3, 3, 3, 3, 3, 3, 3, 3, 3, 3, 3, 3, 3, 3, 3, 3, 3, 3, 3, 3, 3, 3, 3, 3, 3, 3, 3, 3, 3, 3, 1, 1, 1, 0, 0, 5, 5, 5, 5, 5, 5, 4, 4, 4, 3, 3, 3, 3, 3, 3, 3, 3, 3, 3, 3, 3, 3, 3, 3, 3, 3, 3, 3, 3, 3, 3, 3, 3, 3, 3, 3, 3, 3, 3, 3, 3, 3, 0, 0, 0, 0, 0, 0, 5, 5, 4, 4, 3, 1, 1, 4, 4, 4, 4, 4, 4, 4, 4, 4, 4, 4, 4, 4, 4, 4, 4, 4, 4, 3, 3, 3, 3, 3, 3, 3, 5, 4, 3, 3, 3, 3, 3, 3, 3, 3, 3, 3, 3, 3, 3, 3, 3, 3, 3, 3, 1, 0, 5, 4, 3, 3, 3, 3, 3, 4, 4, 4, 3, 3, 3, 3, 3, 3, 3, 3, 3, 3, 3, 3, 3, 3, 3, 3, 3, 3, 3, 3, 3, 3, 3, 3, 3, 3, 3, 3, 3, 3, 3, 3, 3, 3, 3, 3, 3, 3, 3, 3, 3, 3, 3, 3, 3, 3, 3, 3, 3, 3, 3, 3, 3, 3, 3, 3, 3, 3, 3, 3, 3, 1, 1, 5, 5, 5, 5, 5, 3, 3, 3, 3, 3, 3, 3, 3, 3, 3, 4, 4, 4, 4, 4, 4, 4, 4, 4, 4, 4, 4, 4, 4, 4, 4, 4, 3, 3, 3, 3, 3, 3, 3, 3, 3, 3, 3, 3, 3, 3, 3, 3, 3, 3, 3, 3, 3, 3, 3, 3, 3, 3, 3, 5, 5, 5, 4, 4, 4, 4, 4, 4, 4, 4, 4, 4, 4, 3, 3, 3, 3, 3, 3, 3, 3, 3, 3, 5, 4, 4, 4, 4, 1, 3, 3, 3, 3, 3, 3, 3, 3, 3, 3, 3, 3, 3, 3, 3, 3, 3, 3, 3, 3, 3, 3, 3, 3, 3, 3, 3, 3, 3, 3, 3, 3, 3, 3, 3, 3, 3, 3, 3, 3, 3, 3, 3, 4, 4, 4, 4, 4, 4, 3, 3, 3, 3, 1, 5, 4, 4, 3, 3, 3, 3, 3, 3, 3, 3, 3, 3, 3, 3, 4, 4, 4, 4, 4, 4, 4, 4, 4, 4, 4, 4, 4, 4, 4, 4, 4, 4, 4, 4, 4, 4, 3, 3, 3, 1, 5, 3, 3, 3, 3, 3, 3, 3, 1, 3, 3, 3, 3, 3, 3, 3, 3, 3, 3, 3, 3, 3, 3, 3, 3, 3, 3, 3, 3, 1, 1, 1, 5, 4, 4, 4, 3, 3, 3, 3, 3, 3, 3, 3, 3, 3, 3, 3, 3, 3, 3, 3, 3, 3, 3, 3, 3, 4, 4, 4, 4, 4, 4, 4, 4, 4, 4, 3, 3, 3, 5, 3, 3, 3, 3, 3, 3, 3, 3, 3, 3, 3, 3, 3, 3, 3, 3, 3, 3, 3, 3, 3, 3, 4, 4, 4, 4, 3, 3, 3, 3, 3, 3, 3, 3, 1, 1, 5, 4, 3, 3, 3, 3, 3, 3, 3, 3, 3, 3, 3, 3, 3, 3, 3, 3, 3, 1, 3, 3, 3, 3, 3, 3, 3, 3, 3, 3, 3, 3, 3, 3, 3, 3, 3, 3, 3, 3, 3, 3, 3, 3, 3, 3, 3, 3, 3, 3, 3, 3, 3, 3, 3, 3, 3, 3, 5, 5, 4, 4, 4, 4, 3, 3, 3, 3, 3, 3, 3, 3, 3, 3, 3, 4, 4, 4, 4, 4, 4, 4, 4, 4, 4, 4, 4, 4, 4, 4, 4, 4, 4, 4, 4, 4, 4, 4, 4, 4, 4, 4, 4, 4, 4, 4, 4, 4, 4, 4, 4, 4, 4, 4, 4, 4, 4, 4, 4, 4, 4, 4, 4, 4, 4, 4, 4, 4, 4, 4, 4, 4, 4, 4, 4, 4, 4, 4, 4, 4, 4, 4, 4, 4, 4, 4, 4, 4, 4, 4, 4, 4, 4, 4, 4, 4, 4, 4, 4, 4, 4, 4, 4, 3, 3, 3, 3, 3, 3, 3, 3, 3, 3, 3, 3, 3, 3, 3, 3, 3, 3, 3, 3, 3, 3, 3, 3, 3, 3, 3, 3, 3, 3, 3, 3, 3, 3, 3, 3, 3, 3, 3, 3, 5, 3, 5, 5, 4, 4, 4, 4, 4, 4, 4, 4, 3, 3, 3, 3, 3, 3, 3, 3, 3, 3, 3, 3, 3, 3, 3, 3, 5, 3, 3, 3, 3, 3, 3, 3, 3, 3, 3, 3, 3, 3, 3, 3, 3, 3, 3, 3, 3, 3, 3, 3, 4, 4, 4, 4, 4, 4, 4, 3, 3, 3, 3, 3, 3, 3, 3, 3, 3, 3, 3, 3, 3, 3, 4, 3, 3, 3, 3, 3, 3, 3, 4, 3, 3, 3, 1, 1, 1, 1, 3, 3, 3, 3, 3, 3, 3, 3, 3, 3, 5, 4, 4, 4, 4, 4, 4, 3, 3, 0, 0, 0, 0, 0, 0, 0, 0, 3, 1, 1, 1, 1, 3, 3, 3, 1, 3, 3, 3, 3, 3, 3, 3, 3, 3, 3, 3, 3, 3, 3, 3, 3, 3, 3, 3, 3, 3, 3, 3, 3, 3, 3, 1, 1, 1, 1, 1, 1, 1, 5, 3, 3, 3, 3, 3, 3, 3, 3, 3, 3, 3, 3, 3, 5, 4, 4, 4, 4, 4, 4, 4, 3, 3, 3, 3, 3, 3, 3, 3, 3, 3, 3, 3, 3, 3, 3, 3, 1, 1, 1, 1, 1, 1, 1, 1, 1, 1, 1, 1, 1, 1, 3, 3, 3, 3, 3, 3, 3, 3, 3, 3, 3, 3, 3, 4, 4, 4, 3, 3, 3, 1, 1, 1, 3, 3, 3, 3, 3, 3, 3, 3, 3, 3, 3, 3, 3, 3, 3, 3, 3, 3, 3, 3, 3, 3, 3, 3, 3, 3, 3, 3, 4, 4, 3, 3, 3, 3, 3, 3, 3, 3, 3, 3, 3, 3, 3, 3, 3, 3, 3, 5, 3, 3, 3, 3, 3, 3, 3, 3, 3, 3, 3, 3, 3, 3, 3, 3, 3, 3, 3, 3, 3, 3, 3, 4, 4, 3, 3, 3, 3, 3, 3, 3, 3, 3, 3, 3, 3, 3, 3, 3, 3, 3, 3, 3, 3, 3, 3, 3, 3, 3, 3, 3, 3, 5, 5, 5, 5, 3, 3, 3, 1, 1, 1, 1, 1, 1, 1, 1, 1, 1, 1, 1, 1, 1, 1, 1, 1, 1, 1, 1, 1, 3, 3, 3, 3, 3, 3, 3, 3, 3, 3, 3, 3, 3, 3, 3, 3, 3, 3, 3, 3, 3, 3, 5, 5, 5, 5, 5, 5, 5, 5, 5, 5, 5, 5, 5, 5, 5, 5, 5, 5, 5, 5, 5, 5, 4, 4, 4, 3, 3, 3, 3, 3, 5, 5, 5, 5, 3, 3, 3, 3, 3, 3, 3, 3, 3, 5, 3, 3, 3, 3, 3, 3, 3, 3, 3, 3, 3, 3, 3, 3, 3, 3, 3, 3, 3, 3, 3, 3, 3, 3, 3, 3, 3, 3, 3, 3, 3, 3, 3, 3, 3, 3, 3, 3, 3, 3, 4, 4, 4, 4, 4, 4, 4, 4, 4, 4, 4, 4, 4, 4, 4, 4, 4, 4, 4, 3, 3, 3, 3, 3, 3, 3, 4, 3, 4, 4, 4, 4, 4, 4, 4, 4, 3, 1, 1, 3, 3, 3, 3, 3, 3, 3, 3, 3, 3, 3, 3, 3, 3, 3, 3, 3, 3, 3, 3, 3, 3, 3, 3, 3, 5, 5, 3, 3, 3, 3, 3, 3, 3, 3, 3, 3, 3, 3, 3, 3, 3, 5, 5, 4, 4, 4, 4, 4, 4, 4, 4, 4, 4, 4, 4, 4, 4, 3, 5, 5, 5, 5, 3, 3, 3, 3, 3, 3, 3, 3, 3, 3, 3, 3, 3, 3, 3, 3, 3, 3, 3, 3, 3, 3, 3, 5, 3, 3, 3, 3, 3, 3, 3, 3, 3, 3, 3, 3, 3, 3, 3, 3, 4, 3, 3, 3, 3, 3, 3, 3, 3, 3, 3, 1, 1, 1, 1, 1, 1, 1, 1, 1, 1, 1, 1, 1, 1, 1, 1, 1, 1, 1, 3, 3, 3, 3, 3, 3, 3, 3, 3, 3, 0, 3, 5, 3, 3, 3, 3, 3, 3, 3, 4, 3, 3, 3, 1, 1, 0, 3, 3, 3, 3, 3, 3, 3, 3, 3, 3, 3, 3, 3, 3, 3, 3, 3, 3, 3, 3, 3, 3, 3, 3, 3, 3, 3, 3, 3, 3, 3, 3, 3, 3, 3, 3, 3, 3, 3, 3, 3, 3, 3, 3, 5, 5, 5, 5, 5, 5, 4, 3, 3, 3, 3, 3, 5, 4, 3, 5, 3, 3, 3, 3, 3, 3, 3, 3, 3, 3, 3, 3, 3, 3, 3, 3, 3, 3, 3, 3, 3, 3, 3, 5, 5, 5, 4, 4, 3, 3, 3, 3, 3, 3, 3, 3, 5, 3, 3, 3, 3, 3, 3, 3, 3, 3, 3, 5, 4, 4, 4, 4, 3, 3, 3, 3, 3, 3, 3, 3, 3, 3, 3, 3, 3, 3, 3, 3, 3, 3, 3, 3, 3, 3, 3, 3, 3, 3, 3, 3, 3, 3, 3, 3, 3, 3, 3, 3, 3, 3, 3, 3, 3, 3, 3, 3, 3, 3, 3, 3, 5, 3, 3, 3, 3, 3, 3, 3, 3, 3, 3, 3, 3, 3, 5, 5, 4, 4, 4, 4, 4, 4, 3, 3, 3, 1, 1, 5, 4, 4, 4, 4, 4, 4, 3, 3, 1, 1, 4, 4, 4, 4, 4, 4, 4, 4, 4, 4, 4, 4, 4, 4, 4, 4, 4, 4, 4, 4, 4, 3, 3, 3, 3, 3, 3, 3, 3, 3, 3, 3, 3, 3, 3, 3, 3, 1, 1, 1, 1, 3, 3, 3, 3, 3, 3, 3, 3, 3, 3, 3, 3, 3, 3, 3, 3, 1, 1, 1, 1, 1, 1, 1, 1, 1, 1, 1, 1, 1, 1, 1, 1, 1, 1, 1, 5, 3, 3, 3, 3, 3, 3, 3, 1, 1, 5, 3, 3, 3, 3, 3, 3, 3, 3, 3, 3, 3, 3, 3, 3, 3, 3, 3, 3, 3, 1, 1, 5, 3, 3, 3, 3, 3, 3, 1, 5, 5, 3, 4, 3, 3, 3, 3, 3, 3, 3, 3, 3, 3, 3, 3, 3, 3, 3, 3, 3, 3, 3, 3, 3, 3, 3, 3, 3, 3, 3, 3, 3, 3, 3, 3, 3, 3, 3, 3, 3, 3, 3, 3, 3, 3, 3, 3, 3, 3, 3, 3, 3, 3, 3, 3, 5, 5, 5, 3, 3, 3, 3, 3, 3, 3, 3, 3, 3, 3, 3, 3, 3, 3, 3, 3, 3, 3, 3, 3, 3, 3, 3, 3, 3, 3, 3, 3, 3, 3, 3, 1, 1, 1, 1, 5, 3, 3, 3, 3, 3, 3, 3, 3, 3, 3, 3, 3, 3, 3, 3, 3, 3, 3, 3, 3, 3, 3, 3, 3, 3, 3, 3, 3, 1, 1, 1, 1, 1, 1, 1, 1, 1, 1, 1, 1, 1, 1, 1, 1, 1, 1, 1, 1, 1, 1, 1, 1, 1, 1, 1, 1, 1, 5, 5, 5, 5, 5, 5, 5, 5, 3, 3, 3, 3, 3, 3, 3, 3, 3, 3, 3, 3, 3, 3, 3, 3, 3, 3, 3, 3, 3, 3, 3, 3, 3, 3, 3, 4, 4, 3, 3, 3, 3, 3, 3, 3, 3, 3, 3, 3, 3, 3, 3, 3, 3, 3, 3, 3, 5, 3, 3, 3, 3, 3, 3, 3, 3, 3, 3, 3, 3, 3, 3, 3, 3, 3, 3, 3, 3, 3, 3, 3, 3, 3, 3, 3, 3, 3, 3, 3, 3, 3, 3, 3, 1, 1, 1, 3, 4, 3, 3, 3, 3, 3, 3, 3, 3, 3, 3, 3, 3, 3, 3, 3, 3, 3, 3, 3, 5, 5, 4, 4, 4, 4, 3, 3, 3, 3, 3, 3, 3, 3, 3, 3, 3, 3, 3, 3, 3, 3, 3, 3, 5, 3, 3, 3, 3, 3, 3, 3, 3, 3, 3, 3, 3, 3, 1, 1, 1, 1, 1, 1, 1, 1, 1, 1, 1, 1, 1, 3, 3, 3, 3, 3, 3, 3, 3, 3, 3, 3, 3, 3, 3, 3, 3, 3, 3, 3, 3, 3, 3, 3, 3, 3, 3, 3, 3, 3, 3, 3, 3, 3, 3, 4, 4, 4, 4, 4, 4, 4, 4, 4, 4, 4, 4, 4, 4, 4, 4, 3, 3, 3, 3, 3, 3, 3, 3, 3, 3, 3, 3, 3, 3, 3, 3, 3, 3, 3, 3, 3, 3, 3, 3, 3, 3, 3, 3, 3, 3, 3, 3, 3, 3, 3, 3, 3, 3, 3, 3, 3, 3, 3, 3, 3, 3, 3, 3, 3, 3, 3, 3, 3, 3, 3, 3, 3, 3, 3, 3, 3, 3, 3, 3, 3, 1, 1, 5, 5, 4, 3, 3, 3, 1, 3, 3, 3, 3, 3, 3, 3, 3, 3, 3, 3, 3, 3, 3, 3, 3, 3, 1, 1, 1, 1, 1, 1, 1, 1, 1, 1, 1, 1, 1, 3, 3, 3, 3, 3, 3, 3, 5, 4, 4, 4, 4, 4, 4, 4, 4, 4, 4, 4, 3, 3, 3, 3, 3, 3, 3, 3, 3, 3, 3, 4, 4, 4, 4, 4, 4, 4, 3, 3, 1, 4, 4, 3, 3, 3, 3, 3, 3, 3, 3, 3, 3, 3, 3, 3, 3, 3, 3, 3, 3, 1, 0, 0, 0, 0, 3, 3, 3, 3, 3, 3, 3, 3, 1, 5, 3, 3, 3, 3, 3, 3, 3, 3, 3, 3, 3, 3, 4, 3, 3, 3, 3, 3, 3, 3, 3, 3, 3, 1, 5, 4, 4, 4, 3, 3, 3, 3, 3, 3, 3, 3, 3, 3, 3, 4, 3, 3, 4, 4, 4, 4, 4, 3, 3, 3, 3, 3, 3, 3, 3, 3, 3, 3, 3, 3, 3, 3, 3, 3, 3, 3, 3, 3, 3, 3, 3, 3, 3, 3, 3, 3, 3, 3, 3, 3, 3, 3, 3, 3, 3, 3, 3, 3, 3, 3, 3, 3, 3, 3, 3, 3, 3, 3, 3, 3, 3, 3, 3, 3, 5, 4, 4, 4, 4, 3, 3, 3, 3, 3, 5, 3, 3, 3, 3, 3, 3, 3, 3, 3, 3, 3, 3, 5, 5, 5, 4, 4, 4, 3, 3, 3, 3, 3, 3, 3, 3, 3, 3, 3, 3, 3, 3, 3, 3, 3, 3, 3, 3, 3, 3, 3, 3, 3, 3, 3, 3, 3, 3, 3, 3, 3, 3, 3, 3, 3, 1, 1, 1, 5, 5, 5, 5, 5, 4, 3, 3, 3, 3, 3, 3, 3, 3, 3, 3, 3, 3, 4, 4, 4, 3, 3, 3, 3, 1, 1, 1, 1, 1, 3, 3, 3, 5, 3, 3, 5, 3, 3, 3, 3, 3, 3, 3, 3, 3, 3, 3, 3, 3, 3, 3, 3, 3, 3, 5, 5, 5, 3, 3, 3, 3, 3, 3, 3, 3, 3, 3, 3, 5, 3, 3, 3, 3, 3, 3, 3, 3, 3, 3, 3, 3, 3, 3, 3, 1, 1, 1, 5, 5, 4, 4, 4, 4, 4, 4, 4, 4, 4, 4, 4, 3, 3, 1, 1, 4, 4, 4, 4, 4, 4, 3, 3, 3, 3, 3, 3, 4, 4, 4, 4, 4, 4, 4, 4, 4, 4, 4, 4, 4, 4, 3, 3, 3, 3, 3, 3, 3, 3, 3, 3, 3, 3, 3, 3, 3, 3, 3, 3, 3, 3, 3, 3, 3, 3, 3, 3, 3, 3, 3, 3, 3, 3, 3, 3, 3, 3, 3, 3, 1, 5, 3, 3, 3, 3, 3, 3, 3, 3, 3, 3, 3, 3, 3, 3, 3, 3, 3, 3, 3, 3, 3, 3, 3, 3, 4, 4, 4, 4, 4, 4, 4, 4, 3, 3, 4, 4, 4, 4, 4, 4, 4, 3, 3, 3, 3, 3, 3, 3, 3, 3, 4, 4, 3, 3, 3, 3, 3, 3, 3, 3, 3, 3, 3, 3, 3, 3, 3, 3, 3, 3, 3, 3, 3, 3, 3, 3, 4, 4, 4, 4, 4, 4, 3, 3, 3, 3, 3, 3, 3, 3, 3, 3, 3, 3, 3, 3, 3, 3, 3, 1, 1, 5, 3, 0, 0, 0, 0, 0, 0, 0, 0, 0, 0, 0, 3, 3, 3, 3, 3, 3, 3, 3, 3, 3, 3, 5, 4, 3, 3, 3, 3, 3, 3, 3, 3, 3, 3, 3, 3, 3, 3, 3, 3, 3, 3, 3, 3, 3, 3, 3, 3, 3, 3, 3, 3, 3, 3, 3, 3, 3, 3, 3, 3, 3, 1, 1, 3, 3, 3, 3, 3, 3, 3, 3, 3, 3, 5, 5, 4, 3, 3, 3, 3, 3, 3, 3, 3, 3, 3, 3, 3, 3, 3, 3, 3, 3, 3, 3, 3, 3, 3, 3, 3, 3, 3, 3, 4, 4, 4, 4, 4, 4, 4, 4, 4, 4, 3, 3, 3, 3, 3, 4, 4, 4, 4, 4, 4, 4, 4, 3, 3, 3, 3, 3, 3, 3, 3, 3, 3, 3, 3, 3, 3, 3, 3, 3, 4, 3, 3, 3, 3, 3, 3, 3, 3, 3, 3, 3, 3, 3, 3, 3, 3, 3, 3, 3, 3, 3, 3, 3, 3, 3, 3, 3, 3, 3, 3, 3, 5, 4, 3, 1, 4, 3, 4, 3, 3, 3, 3, 3, 3, 3, 3, 3, 0, 0, 0, 5, 4, 4, 4, 4, 4, 4, 4, 4, 3, 3, 3, 3, 3, 3, 4, 3, 3, 3, 3, 3, 3, 3, 3, 3, 3, 3, 3, 3, 3, 3, 3, 3, 3, 3, 3, 3, 3, 3, 3, 3, 3, 3, 3, 3, 3, 3, 3, 1, 1, 1, 1, 1, 1, 1, 1, 1, 1, 1, 1, 1, 1, 1, 5, 3, 1, 3, 3, 3, 1, 4, 4, 4, 4, 4, 4, 4, 4, 4, 4, 4, 4, 4, 4, 4, 4, 4, 4, 4, 4, 4, 3, 3, 3, 3, 3, 1, 1, 3, 3, 3, 3, 3, 3, 3, 3, 3, 3, 3, 3, 3, 3, 3, 3, 3, 3, 3, 3, 5, 5, 4, 3, 3, 4, 4, 3, 3, 3, 3, 3, 3, 3, 3, 3, 3, 3, 3, 3, 3, 3, 3, 3, 3, 3, 1, 1, 0, 3, 3, 3, 3, 4, 4, 4, 3, 3, 3, 3, 3, 3, 3, 3, 3, 3, 3, 5, 5, 4, 4, 4, 4, 4, 3, 3, 3, 3, 5, 4, 3, 3, 3, 3, 3, 3, 3, 3, 3, 3, 3, 3, 3, 3, 3, 3, 5, 5, 5, 5, 5, 4, 3, 3, 4, 3, 3, 3, 4, 4, 4, 4, 4, 4, 3, 3, 3, 3, 3, 3, 3, 3, 3, 3, 3, 3, 3, 3, 3, 3, 3, 3, 3, 4, 4, 4, 4, 4, 4, 4, 4, 4, 3, 3, 3, 3, 3, 3, 3, 3, 3, 3, 3, 3, 3, 3, 3, 3, 3, 3, 3, 3, 3, 3, 3, 3, 3, 3, 3, 3, 3, 3, 3, 3, 3, 3, 3, 3, 3, 3, 3, 3, 3, 3, 3, 3, 3, 3, 3, 3, 3, 3, 3, 3, 3, 4, 4, 3, 3, 3, 1, 3, 3, 3, 3, 5, 3, 3, 3, 3, 3, 3, 3, 3, 3, 3, 3, 3, 3, 3, 3, 1, 1, 1, 1, 1, 1, 1, 1, 1, 3, 1, 1, 1, 1, 1, 1, 1, 1, 1, 1, 1, 1, 1, 1, 1, 1, 1, 1, 1, 1, 1, 1, 1, 1, 1, 1, 3, 3, 3, 3, 3, 3, 3, 3, 3, 3, 3, 3, 3, 3, 3, 3, 3, 3, 3, 3, 3, 3, 3, 3, 3, 3, 3, 3, 4, 4, 3, 3, 3, 3, 3, 3, 3, 3, 3, 3, 3, 3, 3, 3, 3, 5, 5, 4, 4, 4, 4, 4, 4, 4, 4, 4, 4, 4, 3, 3, 3, 3, 3, 3, 3, 3, 3, 3, 3, 3, 3, 3, 3, 3, 3, 3, 3, 3, 3, 3, 3, 3, 3, 3, 3, 3, 3, 3, 3, 1, 1, 1, 1, 1, 1, 1, 1, 1, 1, 1, 1, 1, 1, 1, 1, 1, 1, 1, 1, 1, 1, 1, 1, 1, 1, 5, 4, 4, 4, 4, 4, 4, 4, 4, 4, 4, 3, 3, 3, 3, 3, 3, 3, 3, 3, 3, 3, 3, 3, 3, 3, 3, 3, 5, 5, 5, 3, 3, 3, 3, 3, 3, 3, 3, 3, 3, 3, 3, 3, 3, 3, 3, 3, 3, 3, 1, 1, 1, 3, 3, 5, 5, 4, 4, 4, 4, 4, 4, 4, 3, 3, 3, 5, 4, 4, 4, 4, 4, 4, 4, 4, 4, 3, 3, 3, 3, 3, 3, 5, 4, 4, 4, 4, 4, 4, 4, 4, 3, 3, 4, 4, 3, 1, 3, 3, 3, 3, 3, 3, 3, 3, 3, 3, 3, 3, 3, 3, 3, 3, 3, 3, 1, 1, 1, 1, 1, 1, 1, 1, 1, 1, 1, 1, 1, 1, 1, 1, 1, 1, 1, 5, 5, 3, 3, 3, 3, 3, 3, 5, 4, 0, 0, 0, 0, 0, 0, 0, 0, 0, 1, 3, 3, 3, 3, 3, 3, 3, 3, 3, 3, 3, 3, 3, 3, 3, 3, 3, 0, 0, 0, 0, 0, 0, 0, 5, 4, 4, 4, 4, 3, 3, 3, 3, 4, 4, 4, 4, 4, 4, 4, 4, 4, 4, 4, 4, 4, 4, 3, 3, 3, 3, 3, 3, 3, 3, 3, 3, 3, 3, 3, 3, 3, 3, 3, 3, 3, 3, 3, 3, 3, 3, 3, 3, 3, 3, 3, 3, 3, 3, 3, 3, 3, 3, 3, 3, 3, 3, 3, 3, 3, 3, 3, 1, 1, 1, 1, 4, 4, 4, 4, 4, 4, 4, 4, 4, 4, 3, 3, 1, 1, 1, 1, 1, 1, 1, 1, 1, 1, 5, 3, 5, 3, 3, 3, 3, 3, 3, 3, 3, 3, 3, 3, 3, 5, 3, 3, 1, 3, 3, 3, 3, 3, 3, 3, 3, 3, 3, 3, 3, 3, 3, 3, 3, 3, 3, 3, 3, 3, 3, 3, 5, 5, 4, 1, 1, 1, 1, 1, 1, 1, 1, 1, 1, 1, 1, 1, 1, 3, 3, 3, 3, 4, 4, 4, 4, 4, 3, 3, 3, 3, 3, 3, 3, 3, 3, 3, 3, 3, 3, 3, 3, 1, 1, 1, 1, 1, 1, 1, 1, 1, 1, 1, 1, 1, 1, 1, 1, 5, 3, 3, 3, 3, 3, 3, 3, 3, 3, 3, 3, 3, 3, 3, 4, 4, 4, 3, 5, 5, 3, 3, 3, 3, 3, 3, 3, 3, 3, 3, 3, 3, 3, 3, 3, 3, 3, 3, 3, 3, 3, 3, 3, 3, 3, 3, 3, 3, 5, 5, 5, 5, 5, 3, 3, 3, 3, 3, 3, 3, 3, 3, 3, 3, 3, 3, 3, 3, 3, 3, 3, 3, 3, 3, 3, 3, 3, 3, 3, 3, 3, 3, 3, 3, 3, 3, 3, 3, 3, 3, 3, 3, 3, 3, 3, 3, 3, 3, 3, 3, 4, 4, 4, 4, 4, 4, 4, 4, 4, 4, 4, 4, 4, 4, 4, 4, 4, 4, 4, 4, 4, 4, 4, 4, 4, 4, 4, 4, 4, 4, 4, 4, 4, 4, 4, 4, 3, 3, 3, 3, 3, 3, 3, 3, 3, 3, 3, 3, 3, 3, 3, 3, 0, 5, 3, 3, 3, 3, 3, 3, 3, 3, 3, 3, 3, 3, 3, 3, 3, 3, 3, 3, 3, 3, 3, 4, 3, 3, 3, 3, 3, 3, 5, 5, 4, 4, 4, 4, 4, 3, 3, 3, 3, 4, 3, 3, 3, 3, 3, 4, 3, 3, 3, 3, 3, 3, 3, 3, 3, 3, 3, 3, 3, 3, 3, 3, 1, 1, 1, 1, 1, 1, 1, 1, 1, 1, 1, 1, 1, 1, 1, 1, 3, 3, 3, 3, 3, 3, 3, 3, 3, 3, 3, 3, 3, 3, 3, 3, 3, 3, 3, 3, 3, 3, 3, 1, 5, 4, 4, 4, 4, 3, 3, 3, 3, 3, 3, 3, 3, 3, 3, 3, 3, 3, 3, 3, 3, 3, 3, 3, 3, 3, 3, 4, 4, 4, 4, 4, 3, 3, 3, 3, 3, 3, 3, 3, 3, 3, 3, 3, 3, 3, 3, 3, 3, 3, 3, 3, 3, 3, 3, 3, 3, 3, 3, 3, 3, 3, 3, 3, 3, 3, 3, 3, 3, 3, 3, 4, 4, 4, 4, 4, 3, 3, 1, 1, 1, 1, 1, 3, 3, 3, 3, 3, 3, 3, 3, 3, 3, 3, 3, 3, 3, 3, 3, 3, 3, 3, 4, 3, 3, 3, 3, 3, 3, 3, 3, 3, 3, 3, 3, 3, 3, 3, 3, 3, 3, 3, 3, 3, 3, 3, 3, 3, 3, 3, 3, 3, 3, 3, 3, 3, 3, 3, 3, 3, 3, 3, 3, 3, 3, 3, 0, 0, 0, 0, 5, 4, 4, 4, 4, 4, 4, 4, 4, 4, 4, 4, 4, 4, 4, 4, 4, 4, 4, 4, 4, 4, 4, 4, 4, 4, 4, 4, 4, 4, 4, 4, 4, 4, 4, 4, 3, 3, 3, 3, 3, 3, 3, 3, 3, 3, 3, 3, 3, 3, 3, 3, 3, 3, 3, 3, 3, 3, 3, 3, 3, 3, 3, 3, 3, 3, 3, 3, 3, 5, 4, 4, 4, 3, 3, 3, 3, 3, 3, 1, 1, 1, 1, 1, 1, 1, 1, 1, 1, 3, 3, 3, 3, 4, 4, 4, 3, 3, 3, 3, 3, 1, 1, 1, 1, 1, 1, 1, 4, 4, 4, 4, 4, 3, 3, 3, 3, 3, 3, 3, 4, 4, 4, 4, 4, 4, 4, 4, 3, 3, 3, 3, 3, 3, 3, 3, 3, 3, 3, 5, 5, 3, 3, 3, 3, 3, 3, 3, 3, 3, 3, 3, 3, 3, 3, 3, 3, 3, 3, 3, 3, 4, 4, 4, 3, 3, 3, 3, 3, 3, 3, 3, 3, 3, 3, 4, 4, 3, 3, 3, 3, 3, 3, 3, 3, 3, 3, 3, 3, 3, 3, 3, 3, 3, 3, 3, 3, 3, 3, 3, 3, 3, 4, 4, 4, 4, 4, 4, 4, 4, 4, 4, 4, 4, 4, 4, 4, 4, 4, 4, 4, 4, 3, 3, 5, 5, 5, 5, 5, 3, 3, 3, 3, 3, 3, 3, 3, 3, 3, 4, 4, 4, 4, 4, 4, 4, 3, 3, 3, 3, 3, 3, 3, 1, 1, 1, 1, 1, 1, 1, 1, 1, 1, 1, 5, 5, 4, 3, 3, 3, 3, 3, 3, 3, 3, 3, 3, 3, 3, 3, 3, 3, 3, 3, 3, 3, 3, 3, 4, 4, 4, 3, 3, 3, 3, 3, 3, 3, 3, 3, 3, 3, 3, 3, 3, 3, 3, 3, 3, 3, 3, 3, 3, 3, 3, 3, 3, 3, 5, 3, 3, 3, 3, 3, 3, 3, 3, 3, 3, 3, 3, 3, 3, 3, 3, 3, 3, 3, 3, 3, 3, 3, 3, 3, 3, 3, 3, 5, 3, 3, 3, 3, 1, 1, 1, 5, 3, 3, 3, 3, 3, 3, 3, 3, 3, 3, 3, 3, 3, 3, 3, 3, 3, 3, 3, 3, 3, 3, 3, 3, 3, 3, 3, 4, 4, 4, 4, 3, 3, 3, 3, 3, 3, 3, 3, 3, 3, 3, 3, 3, 3, 3, 3, 3, 3, 3, 3, 3, 3, 3, 3, 3, 3, 3, 3, 3, 3, 3, 3, 3, 3, 3, 3, 3, 3, 3, 3, 3, 3, 3, 3, 3, 4, 4, 4, 3, 3, 3, 3, 3, 3, 3, 3, 3, 3, 3, 3, 3, 3, 3, 3, 3, 3, 3, 3, 3, 3, 3, 3, 3, 3, 3, 3, 3, 3, 3, 3, 3, 3, 0, 3, 3, 3, 3, 3, 3, 3, 3, 3, 3, 3, 3, 3, 3, 3, 3, 3, 3, 3, 3, 3, 3, 3, 3, 3, 1, 1, 1, 5, 5, 4, 4, 4, 4, 3, 3, 0, 5, 4, 4, 3, 3, 3, 4, 3, 3, 4, 4, 4, 4, 4, 4, 4, 4, 4, 3, 3, 3, 3, 3, 3, 3, 3, 3, 3, 3, 3, 3, 3, 3, 3, 3, 3, 3, 3, 3, 3, 3, 3, 3, 3, 3, 3, 3, 3, 3, 3, 3, 3, 3, 3, 3, 3, 3, 3, 3, 3, 3, 3, 3, 3, 3, 3, 3, 3, 3, 3, 3, 3, 3, 3, 3, 3, 5, 5, 4, 4, 4, 4, 4, 3, 3, 3, 3, 3, 3, 5, 5, 4, 4, 4, 4, 4, 4, 4, 3, 3, 3, 3, 4, 3, 3, 3, 3, 3, 3, 3, 3, 3, 3, 3, 3, 3, 3, 3, 3, 3, 3, 3, 3, 3, 1, 1, 1, 1, 1, 1, 1, 0, 4, 4, 4, 4, 4, 4, 4, 4, 4, 4, 4, 4, 4, 4, 3, 3, 3, 3, 3, 3, 3, 3, 3, 3, 3, 3, 3, 3, 3, 3, 3, 3, 3, 3, 3, 3, 3, 3, 3, 3, 3, 5, 5, 5, 5, 5, 3, 3, 3, 3, 3, 3, 3, 3, 3, 3, 3, 3, 3, 3, 1, 1, 1, 1, 1, 1, 1, 3, 3, 3, 3, 3, 3, 3, 3, 3, 5, 5, 3, 3, 3, 5, 4, 4, 4, 4, 4, 4, 4, 4, 4, 4, 4, 4, 4, 3, 3, 3, 3, 3, 3, 3, 3, 1, 1, 3, 3, 3, 3, 3, 3, 3, 3, 3, 3, 3, 3, 4, 4, 3, 3, 4, 4, 4, 3, 3, 3, 3, 3, 3, 3, 3, 3, 3, 3, 3, 3, 3, 3, 3, 3, 3, 3, 3, 3, 3, 3, 3, 3, 3, 3, 3, 3, 3, 3, 3, 3, 3, 3, 3, 3, 3, 3, 3, 3, 1, 1, 1, 1, 1, 1, 1, 1, 1, 1, 1, 1, 1, 1, 3, 3, 3, 3, 3, 3, 3, 3, 3, 3, 3, 3, 3, 3, 3, 1, 1, 1, 1, 1, 1, 3, 3, 3, 3, 3, 3, 3, 3, 3, 3, 3, 3, 3, 3, 3, 3, 5, 5, 3, 3, 3, 5, 3, 3, 3, 3, 3, 3, 3, 3, 3, 5, 5, 5, 4, 3, 3, 3, 5, 4, 3, 3, 3, 3, 3, 3, 3, 3, 3, 3, 3, 3, 3, 3, 3, 3, 3, 3, 3, 3, 3, 3, 3, 3, 3, 3, 4, 4, 4, 4, 3, 3, 3, 3, 3, 3, 3, 3, 3, 3, 3, 3, 3, 3, 3, 3, 3, 3, 3, 3, 3, 3, 3, 3, 3, 3, 3, 3, 3, 3, 3, 3, 3, 3, 3, 3, 3, 3, 3, 3, 3, 3, 3, 3, 3, 3, 3, 3, 3, 3, 3, 3, 3, 3, 3, 3, 3, 3, 3, 3, 3, 3, 3, 3, 3, 3, 3, 3, 3, 3, 3, 3, 3, 3, 3, 3, 3, 1, 3, 3, 3, 3, 3, 3, 3, 3, 3, 3, 3, 3, 3, 3, 3, 3, 3, 3, 3, 1, 1, 0, 5, 4, 4, 4, 4, 3, 3, 3, 3, 3, 3, 4, 3, 3, 3, 3, 3, 3, 3, 3, 3, 3, 3, 3, 3, 3, 3, 3, 3, 3, 3, 3, 3, 3, 3, 3, 3, 3, 3, 3, 3, 3, 5, 4, 4, 4, 4, 4, 4, 4, 4, 4, 4, 3, 3, 3, 3, 3, 3, 3, 3, 3, 3, 3, 3, 3, 3, 3, 3, 3, 1, 1, 1, 1, 1, 1, 1, 1, 1, 1, 1, 1, 1, 1, 1, 1, 1, 1, 1, 1, 1, 1, 1, 1, 5, 5, 5, 3, 3, 3, 3, 3, 3, 3, 3, 3, 3, 3, 3, 3, 5, 5, 5, 3, 3, 3, 3, 3, 3, 3, 3, 3, 3, 3, 3, 3, 3, 3, 3, 3, 3, 3, 3, 3, 3, 3, 3, 3, 3, 5, 3, 3, 3, 3, 3, 3, 3, 3, 1, 1, 1, 3, 3, 3, 3, 3, 3, 3, 3, 3, 3, 3, 3, 3, 3, 3, 3, 4, 4, 4, 4, 4, 4, 4, 4, 3, 4, 3, 3, 3, 5, 5, 4, 3, 3, 3, 3, 3, 3, 3, 3, 3, 3, 3, 3, 3, 3, 3, 3, 3, 3, 3, 3, 3, 3, 3, 5, 3, 5, 4, 3, 3, 3, 5, 4, 4, 4, 3, 3, 3, 4, 3, 3, 3, 3, 5, 3, 3, 4, 4, 5, 3, 3, 3, 3, 3, 3, 3, 3, 3, 3, 3, 3, 3, 3, 3, 3, 3, 3, 3, 3, 3, 3, 3, 3, 3, 3, 3, 3, 3, 3, 3, 3, 3, 3, 3, 3, 3, 3, 3, 3, 4, 4, 4, 4, 4, 4, 4, 4, 4, 4, 4, 4, 4, 4, 4, 4, 4, 4, 4, 4, 4, 4, 4, 4, 4, 4, 4, 4, 4, 4, 4, 4, 4, 4, 4, 4, 4, 4, 3, 3, 3, 3, 3, 3, 3, 4, 4, 3, 3, 3, 3, 3, 3, 3, 5, 4, 4, 4, 0, 0, 0, 0, 0, 0, 0, 0, 0, 3, 3, 3, 3, 3, 4, 4, 4, 4, 4, 3, 3, 1, 1, 1, 3, 3, 3, 3, 3, 3, 3, 3, 3, 3, 3, 3, 3, 3, 3, 3, 3, 3, 3, 3, 3, 3, 3, 3, 3, 3, 3, 3, 3, 3, 3, 3, 3, 3, 3, 3, 3, 3, 5, 5, 3, 3, 3, 3, 3, 3, 3, 3, 3, 3, 3, 3, 3, 3, 3, 3, 3, 5, 3, 0, 4, 3, 3, 3, 3, 3, 3, 3, 3, 3, 3, 3, 3, 3, 3, 3, 3, 3, 3, 3, 0, 0, 4, 4, 4, 4, 4, 4, 3, 3, 3, 3, 3, 3, 4, 4, 3, 3, 3, 3, 3, 3, 3, 3, 3, 3, 3, 3, 4, 4, 4, 4, 4, 4, 4, 4, 4, 4, 3, 3, 3, 3, 3, 3, 3, 3, 3, 3, 3, 3, 3, 3, 3, 3, 3, 3, 3, 3, 3, 3, 3, 3, 3, 3, 3, 3, 3, 3, 3, 5, 5, 5, 5, 5, 5, 5, 5, 5, 5, 5, 5, 5, 5, 5, 5, 5, 4, 4, 4, 4, 4, 4, 4, 4, 4, 3, 3, 3, 3, 3, 3, 3, 3, 3, 3, 3, 3, 3, 3, 3, 3, 3, 3, 3, 3, 3, 5, 3, 3, 3, 3, 3, 3, 3, 3, 3, 1, 1, 1, 1, 1, 1, 1, 5, 5, 3, 3, 3, 3, 3, 3, 3, 3, 3, 3, 3, 3, 3, 3, 3, 3, 3, 3, 3, 3, 3, 3, 3, 3, 3, 3, 3, 3, 3, 3, 3, 3, 3, 3, 3, 3, 3, 3, 3, 3, 3, 3, 3, 4, 4, 4, 4, 4, 4, 3, 3, 3, 3, 3, 3, 3, 3, 3, 3, 3, 3, 3, 3, 5, 5, 5, 5, 5, 4, 4, 4, 4, 4, 4, 4, 4, 4, 4, 4, 4, 4, 3, 3, 3, 3, 3, 3, 3, 3, 3, 3, 3, 3, 3, 0, 5, 3, 3, 3, 3, 1, 1, 1, 1, 1, 1, 1, 1, 1, 1, 1, 1, 3, 3, 3, 3, 3, 3, 3, 3, 3, 3, 3, 3, 3, 3, 3, 3, 3, 3, 3, 3, 3, 3, 3, 3, 3, 1, 1, 1, 1, 4, 4, 4, 4, 4, 4, 4, 4, 4, 4, 4, 4, 4, 4, 4, 4, 4, 4, 4, 4, 4, 4, 4, 4, 4, 4, 4, 4, 4, 4, 4, 4, 4, 4, 3, 3, 3, 3, 3, 3, 3, 3, 3, 3, 3, 4, 4, 4, 4, 4, 4, 3, 3, 3, 3, 3, 3, 3, 3, 3, 3, 3, 3, 3, 3, 3, 3, 3, 3, 3, 3, 3, 3, 3, 3, 3, 3, 3, 4, 4, 4, 4, 3, 3, 3, 3, 3, 3, 3, 3, 3, 3, 3, 3, 3, 3, 3, 3, 3, 3, 3, 3, 3, 3, 3, 3, 3, 3, 3, 3, 3, 3, 3, 3, 3, 3, 3, 3, 3, 3, 3, 3, 3, 3, 3, 3, 3, 3, 3, 3, 3, 3, 3, 3, 3, 3, 3, 3, 3, 3, 3, 3, 3, 3, 3, 3, 3, 3, 3, 3, 3, 3, 0, 0, 0, 4, 4, 4, 3, 3, 3, 3, 3, 3, 3, 3, 3, 3, 3, 3, 3, 3, 3, 5, 5, 3, 4, 3, 3, 3, 3, 3, 3, 3, 3, 0, 5, 5, 5, 5, 5, 5, 5, 3, 3, 3, 3, 3, 3, 3, 3, 3, 3, 3, 3, 4, 3, 3, 3, 3, 0, 0, 0, 0, 0, 0, 0, 0, 0, 0, 0, 3, 3, 3, 3, 3, 3, 3, 3, 3, 3, 3, 3, 3, 3, 3, 3, 3, 3, 5, 5, 5, 5, 5, 5, 3, 3, 3, 3, 3, 3, 3, 3, 3, 3, 3, 3, 3, 3, 3, 3, 3, 3, 3, 3, 3, 3, 3, 3, 3, 3, 4, 4, 4, 3, 3, 3, 3, 3, 3, 3, 3, 3, 3, 3, 3, 3, 3, 3, 3, 3, 3, 3, 3, 3, 5, 5, 5, 5, 5, 5, 5, 5, 5, 4, 4, 4, 4, 4, 4, 4, 4, 4, 4, 3, 3, 3, 3, 3, 3, 3, 3, 4, 4, 3, 3, 3, 3, 3, 3, 3, 3, 3, 3, 3, 3, 3, 3, 3, 3, 3, 3, 5, 4, 3, 3, 3, 3, 4, 4, 4, 3, 3, 3, 3, 3, 5, 5, 5, 3, 3, 3, 3, 3, 3, 3, 3, 3, 3, 3, 3, 3, 3, 3, 1, 1, 1, 1, 1, 1, 1, 5, 5, 5, 3, 3, 3, 3, 3, 3, 3, 3, 3, 3, 3, 3, 3, 5, 3, 5, 3, 3, 3, 3, 3, 3, 3, 1, 1, 1, 1, 5, 5, 4, 4, 4, 4, 4, 4, 4, 4, 4, 4, 4, 3, 3, 3, 3, 4, 4, 4, 4, 4, 4, 4, 4, 3, 3, 3, 3, 1, 1, 1, 5, 4, 4, 3, 3, 3, 3, 3, 3, 3, 3, 3, 3, 3, 3, 3, 3, 3, 3, 3, 3, 3, 3, 3, 3, 3, 3, 3, 3, 3, 3, 3, 3, 3, 3, 4, 4, 3, 3, 1, 1, 1, 1, 5, 4, 4, 3, 3, 1, 3, 3, 3, 3, 3, 3, 3, 3, 3, 3, 3, 3, 5, 5, 4, 4, 4, 4, 4, 4, 4, 3, 3, 3, 3, 3, 3, 3, 3, 3, 3, 3, 3, 3, 3, 3, 3, 3, 3, 4, 4, 3, 3, 3, 4, 4, 4, 3, 3, 3, 3, 5, 5, 3, 3, 3, 3, 3, 5, 4, 4, 1, 1, 1, 3, 3, 4, 4, 4, 3, 3, 3, 3, 3, 3, 3, 3, 4, 4, 4, 4, 4, 4, 4, 3, 5, 4, 4, 4, 3, 3, 3, 3, 3, 3, 4, 4, 3, 3, 3, 3, 3, 3, 3, 3, 3, 3, 3, 1, 5, 5, 3, 3, 3, 4, 4, 4, 4, 4, 3, 3, 3, 3, 3, 3, 3, 3, 3, 3, 3, 3, 3, 3, 3, 3, 3, 3, 3, 3, 3, 5, 5, 5, 4, 3, 3, 3, 3, 3, 3, 3, 3, 3, 3, 3, 3, 3, 3, 3, 3, 1, 1, 1, 1, 1, 1, 1, 1, 1, 1, 1, 1, 1, 1, 1, 1, 3, 3, 3, 3, 3, 3, 3, 3, 3, 3, 3, 3, 3, 3, 3, 3, 3, 5, 5, 5, 3, 3, 3, 3, 4, 4, 3, 3, 3, 3, 3, 4, 4, 4, 4, 4, 4, 4, 4, 4, 4, 4, 4, 4, 4, 4, 4, 4, 4, 4, 4, 4, 4, 4, 4, 4, 4, 4, 4, 4, 4, 4, 4, 4, 4, 4, 4, 4, 4, 4, 4, 4, 4, 4, 4, 4, 3, 3, 3, 3, 3, 3, 3, 3, 3, 3, 3, 5, 3, 0, 4, 4, 4, 4, 3, 3, 3, 3, 3, 3, 3, 3, 3, 3, 3, 3, 3, 3, 3, 3, 3, 3, 3, 3, 3, 3, 3, 3, 3, 3, 3, 3, 3, 3, 3, 3, 3, 3, 3, 3, 3, 3, 3, 3, 3, 3, 3, 3, 3, 3, 1, 1, 0, 0, 0, 0, 5, 5, 5, 3, 3, 1, 3, 3, 3, 3, 3, 3, 3, 3, 3, 3, 3, 5, 5, 3, 3, 3, 3, 3, 3, 1, 1, 1, 1, 1, 1, 1, 1, 1, 1, 1, 1, 1, 1, 1, 1, 1, 4, 4, 4, 4, 4, 4, 4, 4, 4, 4, 4, 4, 4, 4, 3, 3, 3, 3, 4, 4, 4, 4, 4, 3, 3, 3, 3, 3, 3, 3, 3, 3, 3, 3, 3, 3, 1, 1, 1, 1, 1, 5, 3, 3, 3, 3, 3, 3, 3, 3, 3, 3, 3, 3, 3, 3, 3, 3, 3, 3, 3, 3, 3, 3, 3, 3, 3, 3, 3, 3, 3, 3, 3, 3, 3, 5, 5, 5, 3, 3, 3, 3, 3, 3, 3, 3, 3, 3, 3, 3, 3, 3, 3, 3, 3, 3, 3, 3, 3, 3, 3, 3, 4, 4, 4, 4, 4, 4, 4, 4, 4, 4, 4, 4, 4, 4, 4, 4, 4, 4, 4, 4, 4, 4, 4, 4, 4, 4, 4, 4, 4, 4, 4, 4, 4, 4, 4, 4, 4, 4, 4, 4, 4, 4, 4, 4, 4, 4, 4, 4, 4, 3, 3, 3, 3, 3, 3, 3, 3, 3, 3, 3, 3, 3, 3, 3, 3, 3, 3, 3, 3, 3, 3, 3, 3, 3, 3, 3, 3, 0, 0, 0, 0, 0, 0, 0, 5, 3, 3, 3, 3, 3, 3, 3, 3, 5, 4, 4, 4, 4, 4, 4, 4, 3, 5, 5, 3, 3, 3, 4, 3, 3, 3, 3, 3, 3, 3, 3, 3, 3, 3, 5, 5, 3, 3, 3, 3, 3, 3, 3, 3, 3, 3, 3, 3, 3, 3, 3, 3, 3, 3, 3, 3, 3, 3, 3, 3, 3, 3, 3, 3, 3, 3, 3, 3, 3, 3, 3, 3, 3, 3, 5, 5, 4, 3, 3, 3, 3, 3, 3, 3, 5, 5, 4, 4, 4, 4, 4, 3, 3, 3, 3, 3, 3, 3, 3, 3, 3, 3, 3, 3, 3, 3, 3, 3, 3, 3, 3, 3, 3, 3, 3, 3, 3, 3, 3, 3, 3, 3, 3, 3, 3, 3, 3, 3, 3, 3, 3, 3, 3, 4, 4, 4, 4, 4, 4, 4, 4, 4, 4, 3, 3, 3, 3, 3, 3, 3, 3, 3, 3, 3, 3, 3, 3, 3, 4, 4, 4, 4, 4, 4, 3, 3, 3, 3, 3, 3, 3, 3, 3, 3, 3, 5, 5, 5, 4, 4, 4, 4, 4, 4, 4, 4, 4, 4, 4, 4, 4, 4, 4, 4, 4, 4, 4, 4, 4, 4, 4, 4, 4, 4, 4, 3, 3, 3, 3, 3, 3, 3, 3, 3, 3, 3, 3, 3, 3, 3, 3, 3, 4, 4, 4, 4, 4, 3, 3, 3, 3, 3, 3, 5, 5, 4, 4, 4, 4, 4, 3, 3, 3, 3, 3, 3, 3, 3, 3, 3, 3, 3, 3, 3, 3, 3, 3, 3, 3, 3, 3, 3, 3, 3, 5, 3, 3, 3, 3, 3, 3, 3, 3, 3, 3, 3, 3, 3, 3, 3, 3, 5, 5, 5, 5, 4, 4, 4, 4, 4, 4, 4, 4, 4, 4, 4, 4, 4, 4, 4, 4, 3, 3, 3, 3, 3, 3, 3, 3, 3, 3, 3, 3, 3, 3, 3, 1, 1, 1, 1, 1, 1, 0, 5, 5, 5, 3, 1, 3, 3, 3, 3, 3, 3, 3, 3, 3, 3, 3, 3, 3, 3, 3, 3, 3, 3, 1, 1, 1, 1, 1, 1, 1, 1, 1, 1, 1, 1, 1, 1, 1, 1, 1, 1, 1, 5, 3, 3, 3, 3, 3, 3, 3, 3, 3, 3, 3, 3, 3, 3, 3, 3, 3, 3, 3, 3, 3, 3, 3, 3, 3, 3, 3, 3, 3, 3, 3, 3, 3, 3, 3, 3, 1, 1, 1, 5, 5, 5, 5, 5, 5, 5, 5, 5, 3, 3, 3, 3, 3, 3, 3, 3, 3, 3, 3, 3, 3, 3, 3, 3, 3, 3, 3, 3, 3, 3, 3, 3, 3, 3, 3, 3, 3, 3, 3, 3, 3, 3, 3, 3, 3, 3, 3, 3, 3, 3, 3, 3, 3, 3, 3, 3, 3, 3, 3, 3, 3, 3, 3, 3, 3, 3, 3, 3, 3, 3, 3, 3, 3, 3, 3, 3, 3, 3, 3, 3, 5, 4, 4, 4, 4, 4, 4, 3, 3, 3, 3, 3, 3, 5, 5, 4, 4, 4, 4, 4, 4, 3, 3, 3, 3, 3, 3, 3, 3, 3, 3, 3, 3, 3, 3, 3, 3, 1, 1, 1, 1, 1, 1, 1, 4, 4, 4, 4, 3, 3, 3, 3, 3, 3, 0, 3, 3, 3, 3, 3, 3, 3, 3, 3, 1, 5, 4, 4, 4, 4, 4, 4, 4, 4, 4, 4, 4, 4, 4, 3, 1, 1, 1, 0, 4, 4, 4, 3, 3, 3, 3, 3, 3, 3, 3, 3, 3, 3, 3, 3, 3, 3, 3, 3, 3, 3, 3, 3, 3, 3, 3, 3, 3, 3, 3, 3, 3, 3, 3, 3, 3, 3, 3, 3, 3, 3, 3, 3, 3, 3, 0, 0, 5, 5, 5, 5, 5, 3, 3, 4, 3, 3, 3, 3, 3, 3, 3, 3, 3, 3, 3, 3, 3, 3, 3, 3, 3, 3, 3, 3, 3, 3, 3, 3, 3, 3, 3, 3, 3, 3, 5, 5, 4, 4, 4, 3, 3, 3, 5, 4, 3, 3, 3, 3, 3, 3, 3, 3, 3, 3, 3, 3, 3, 3, 3, 3, 3, 3, 3, 3, 0, 0, 5, 5, 4, 4, 4, 4, 4, 4, 4, 4, 4, 3, 3, 3, 3, 3, 3, 3, 3, 3, 3, 3, 3, 3, 3, 3, 3, 3, 3, 3, 3, 3, 3, 3, 3, 3, 3, 3, 3, 3, 3, 3, 5, 5, 4, 3, 3, 3, 3, 3, 3, 3, 3, 3, 3, 3, 3, 3, 3, 3, 3, 3, 3, 3, 3, 3, 3, 3, 3, 3, 3, 3, 1, 5, 5, 3, 3, 3, 3, 3, 3, 3, 3, 5, 4, 4, 3, 3, 4, 4, 4, 3, 3, 3, 3, 3, 3, 3, 3, 3, 3, 3, 3, 3, 3, 3, 3, 3, 3, 3, 3, 3, 3, 3, 3, 3, 1, 1, 1, 1, 1, 0, 0, 0, 0, 0, 0, 0, 3, 4, 4, 4, 3, 3, 3, 3, 3, 3, 5, 4, 4, 3, 3, 3, 5, 5, 3, 5, 3, 3, 3, 1, 1, 1, 1, 1, 4, 4, 4, 4, 4, 4, 3, 3, 3, 3, 3, 3, 3, 3, 3, 3, 1, 1, 1, 1, 1, 1, 1, 1, 1, 1, 5, 5, 4, 4, 4, 4, 4, 3, 3, 3, 3, 3, 3, 3, 3, 3, 3, 3, 3, 3, 3, 3, 3, 3, 3, 3, 3, 5, 4, 4, 3, 3, 3, 3, 3, 3, 3, 3, 3, 5, 3, 3, 3, 3, 3, 3, 3, 3, 3, 3, 3, 3, 3, 3, 3, 3, 3, 3, 3, 3, 3, 3, 3, 4, 4, 4, 4, 3, 3, 3, 3, 3, 3, 3, 3, 3, 3, 3, 3, 3, 3, 3, 3, 3, 3, 3, 3, 3, 3, 3, 3, 3, 3, 3, 3, 3, 3, 3, 1, 1, 1, 1, 1, 1, 1, 5, 5, 4, 4, 4, 4, 4, 4, 4, 4, 4, 4, 4, 4, 3, 3, 3, 3, 3, 3, 3, 3, 3, 3, 4, 4, 4, 4, 4, 3, 3, 3, 3, 3, 3, 3, 3, 3, 3, 3, 3, 3, 3, 3, 3, 3, 3, 3, 3, 3, 4, 4, 4, 4, 3, 3, 5, 3, 3, 3, 3, 3, 3, 3, 3, 3, 3, 3, 3, 3, 3, 3, 3, 3, 3, 3, 3, 3, 3, 3, 3, 3, 3, 3, 5, 4, 4, 3, 3, 3, 3, 3, 3, 3, 3, 3, 4, 4, 4, 4, 4, 3, 4, 4, 4, 4, 4, 4, 4, 4, 3, 3, 3, 3, 3, 3, 3, 3, 3, 3, 3, 3, 3, 3, 3, 3, 3, 3, 3, 3, 3, 3, 3, 3, 3, 0, 0, 0, 3, 3, 3, 3, 3, 3, 3, 3, 3, 3, 3, 3, 3, 3, 3, 3, 3, 3, 3, 3, 3, 3, 3, 3, 3, 3, 4, 4, 4, 4, 4, 4, 4, 3, 3, 3, 3, 3, 3, 3, 3, 3, 4, 4, 4, 4, 3, 3, 3, 3, 3, 3, 3, 3, 3, 3, 3, 3, 3, 3, 3, 3, 3, 3, 3, 3, 3, 3, 3, 3, 3, 3, 3, 3, 3, 3, 3, 1, 1, 1, 1, 1, 1, 1, 1, 1, 1, 1, 1, 1, 1, 1, 0, 0, 0, 0, 0, 4, 4, 4, 4, 3, 3, 3, 3, 3, 3, 3, 3, 3, 3, 3, 3, 3, 3, 3, 3, 3, 3, 3, 3, 3, 3, 3, 3, 4, 4, 4, 4, 4, 4, 4, 4, 4, 4, 4, 4, 4, 4, 4, 4, 4, 4, 4, 4, 4, 4, 4, 3, 3, 3, 3, 3, 3, 3, 3, 3, 3, 3, 3, 3, 3, 3, 3, 3, 3, 3, 3, 3, 3, 3, 3, 3, 3, 3, 3, 3, 3, 3, 3, 3, 3, 3, 3, 3, 3, 3, 3, 3, 3, 3, 3, 3, 3, 3, 3, 3, 5, 3, 3, 3, 3, 3, 3, 3, 3, 3, 3, 5, 5, 5, 4, 3, 3, 3, 3, 3, 3, 3, 3, 3, 3, 3, 3, 3, 3, 3, 3, 3, 3, 3, 3, 3, 3, 3, 3, 3, 3, 3, 3, 3, 3, 3, 5, 5, 3, 3, 3, 3, 3, 3, 3, 3, 3, 3, 3, 3, 1, 5, 5, 4, 4, 4, 4, 4, 4, 4, 4, 4, 4, 4, 4, 3, 3, 3, 3, 3, 3, 3, 3, 3, 3, 3, 3, 3, 3, 3, 3, 3, 4, 4, 4, 4, 4, 4, 4, 4, 4, 4, 3, 3, 3, 3, 3, 3, 3, 3, 3, 3, 3, 3, 3, 3, 3, 3, 3, 3, 3, 3, 3, 3, 3, 3, 3, 3, 3, 3, 3, 3, 3, 3, 3, 3, 3, 3, 3, 3, 3, 3, 3, 3, 3, 3, 3, 5, 3, 3, 3, 3, 3, 3, 3, 3, 5, 5, 5, 4, 4, 4, 3, 3, 3, 3, 3, 3, 3, 3, 3, 3, 3, 3, 3, 3, 3, 3, 5, 5, 5, 3, 3, 4, 3, 3, 3, 3, 3, 3, 3, 3, 3, 3, 5, 5, 3, 3, 3, 3, 3, 3, 3, 3, 3, 3, 3, 3, 3, 3, 3, 3, 3, 3, 3, 3, 3, 3, 3, 3, 3, 3, 3, 3, 3, 3, 3, 1, 1, 5, 5, 3, 3, 3, 3, 3, 3, 3, 3, 3, 3, 3, 3, 0, 4, 4, 4, 3, 3, 5, 4, 3, 3, 3, 3, 3, 3, 3, 3, 3, 3, 3, 3, 3, 3, 5, 3, 3, 3, 3, 3, 3, 3, 3, 3, 3, 3, 3, 3, 3, 3, 3, 3, 3, 3, 3, 1, 1, 1, 1, 1, 1, 1, 1, 0, 0, 0, 0, 0, 0, 3, 3, 3, 3, 3, 3, 3, 3, 3, 3, 3, 3, 3, 3, 3, 3, 3, 3, 3, 3, 3, 3, 3, 3, 3, 3, 3, 3, 3, 3, 3, 3, 5, 4, 4, 4, 4, 4, 4, 4, 4, 4, 4, 4, 4, 4, 4, 4, 4, 4, 3, 3, 3, 3, 3, 3, 3, 3, 1, 3, 3, 3, 3, 3, 3, 3, 3, 3, 3, 3, 3, 3, 3, 3, 3, 3, 3, 3, 3, 3, 3, 3, 3, 3, 3, 3, 3, 3, 3, 3, 3, 3, 3, 3, 3, 4, 4, 4, 4, 4, 4, 4, 4, 4, 4, 4, 4, 4, 4, 4, 4, 4, 4, 4, 4, 4, 4, 4, 4, 3, 3, 3, 3, 3, 3, 3, 3, 1, 1, 1, 1, 1, 1, 1, 1, 1, 1, 1, 1, 1, 1, 1, 1, 1, 1, 1, 1, 1, 0, 0, 0, 0, 0, 0, 5, 4, 4, 4, 4, 4, 4, 4, 4, 4, 4, 4, 4, 3, 3, 3, 3, 3, 3, 3, 3, 3, 3, 3, 5, 3, 3, 3, 3, 1, 4, 3, 3, 3, 3, 3, 3, 3, 3, 3, 3, 3, 3, 3, 3, 3, 3, 3, 3, 3, 3, 3, 3, 3, 3, 3, 3, 3, 3, 3, 3, 3, 3, 3, 3, 3, 3, 3, 3, 3, 3, 3, 3, 3, 3, 3, 3, 3, 3, 3, 3, 3, 4, 4, 4, 4, 3, 3, 3, 3, 3, 3, 3, 3, 3, 3, 3, 3, 3, 3, 3, 3, 3, 3, 3, 3, 3, 3, 3, 3, 3, 3, 3, 3, 3, 3, 3, 3, 3, 5, 5, 5, 3, 3, 3, 3, 3, 3, 3, 3, 3, 3, 3, 3, 3, 3, 3, 3, 3, 3, 3, 3, 3, 1, 1, 1, 5, 5, 5, 4, 3, 3, 3, 3, 3, 3, 3, 3, 3, 3, 3, 3, 3, 3, 3, 3, 3, 3, 3, 3, 3, 3, 3, 3, 3, 3, 3, 3, 3, 3, 4, 4, 4, 3, 3, 3, 3, 1, 1, 1, 1, 1, 1, 1, 1, 1, 3, 3, 3, 3, 3, 3, 3, 3, 3, 3, 3, 3, 3, 3, 3, 3, 3, 3, 3, 3, 3, 3, 3, 3, 3, 3, 3, 3, 4, 4, 4, 4, 4, 4, 4, 3, 3, 3, 3, 3, 3, 3, 3, 3, 3, 3, 3, 3, 3, 3, 3, 3, 3, 3, 3, 3, 3, 3, 3, 3, 3, 3, 3, 3, 3, 3, 3, 3, 3, 5, 5, 5, 4, 4, 4, 3, 3, 3, 3, 3, 3, 4, 3, 3, 3, 3, 3, 3, 4, 3, 3, 3, 3, 3, 3, 3, 3, 3, 3, 3, 3, 3, 3, 3, 3, 3, 3, 3, 3, 3, 3, 3, 3, 3, 3, 3, 3, 3, 3, 3, 3, 3, 3, 3, 5, 5, 5, 3, 3, 3, 3, 3, 3, 3, 3, 3, 3, 3, 3, 3, 1, 1, 1, 3, 4, 3, 3, 3, 3, 3, 3, 3, 3, 3, 3, 3, 3, 3, 3, 3, 3, 3, 3, 3, 3, 3, 3, 3, 3, 3, 1, 1, 5, 5, 4, 4, 4, 4, 4, 4, 4, 4, 4, 4, 3, 3, 3, 3, 3, 3, 3, 3, 3, 3, 3, 5, 3, 3, 3, 3, 3, 3, 3, 3, 3, 3, 3, 3, 3, 3, 3, 3, 3, 1, 1, 1, 1, 1, 1, 0, 0, 0, 0, 0, 0, 0, 0, 0, 0, 0, 3, 3, 3, 3, 3, 3, 3, 3, 3, 3, 3, 3, 3, 3, 3, 3, 3, 3, 3, 3, 3, 3, 3, 3, 3, 3, 3, 3, 3, 3, 3, 3, 3, 3, 3, 3, 3, 3, 3, 3, 3, 3, 3, 3, 3, 3, 3, 3, 3, 3, 3, 3, 3, 3, 3, 3, 3, 5, 3, 3, 3, 3, 3, 3, 4, 4, 4, 4, 3, 3, 3, 3, 3, 3, 3, 3, 3, 3, 3, 3, 3, 3, 3, 3, 3, 3, 3, 3, 3, 3, 1, 1, 1, 1, 1, 1, 1, 0, 0, 0, 0, 0, 0, 0, 0, 0, 0, 0, 0, 0, 0, 0, 0, 0, 0, 0, 0, 0, 3, 1, 3, 3, 3, 3, 5, 5, 5, 4, 4, 4, 4, 4, 4, 4, 3, 3, 3, 3, 3, 3, 3, 3, 3, 4, 4, 4, 4, 4, 4, 4, 4, 4, 4, 4, 4, 4, 4, 3, 3, 4, 4, 4, 4, 3, 3, 3, 3, 3, 3, 3, 3, 3, 3, 3, 3, 3, 3, 3, 3, 3, 3, 3, 3, 3, 3, 3, 3, 3, 3, 4, 4, 4, 4, 4, 4, 4, 4, 4, 4, 4, 4, 3, 3, 3, 4, 4, 4, 4, 4, 4, 3, 3, 3, 3, 3, 4, 4, 4, 4, 4, 4, 4, 3, 3, 3, 3, 3, 3, 3, 3, 3, 3, 3, 3, 3, 3, 3, 3, 5, 3, 3, 3, 5, 4, 3, 3, 3, 3, 3, 3, 3, 3, 3, 3, 3, 1, 1, 1, 1, 1, 1, 1, 1, 1, 1, 1, 1, 1, 1, 1, 1, 0, 0, 0, 0, 3, 3, 3, 3, 3, 3, 3, 3, 3, 3, 3, 3, 3, 3, 3, 3, 3, 3, 3, 3, 3, 3, 3, 1, 1, 1, 1, 1, 1, 1, 1, 1, 1, 1, 0, 0, 0, 0, 0, 0, 0, 0, 0, 0, 0, 0, 0, 0, 4, 4, 4, 4, 4, 3, 3, 3, 3, 3, 3, 3, 3, 3, 3, 3, 3, 3, 3, 3, 3, 3, 3, 3, 3, 3, 3, 3, 3, 3, 3, 3, 3, 3, 3, 3, 3, 3, 3, 3, 3, 3, 3, 3, 3, 3, 3, 3, 3, 3, 3, 3, 3, 3, 3, 3, 3, 3, 3, 3, 3, 3, 4, 4, 4, 4, 4, 4, 4, 4, 4, 4, 4, 4, 4, 3, 3, 3, 3, 3, 3, 3, 3, 3, 3, 3, 3, 3, 1, 1, 1, 3, 3, 3, 3, 3, 3, 3, 3, 3, 3, 3, 1, 1, 4, 3, 3, 3, 3, 3, 3, 3, 3, 3, 3, 3, 3, 3, 3, 3, 3, 3, 3, 3, 3, 3, 3, 3, 3, 3, 3, 3, 3, 3, 3, 3, 3, 3, 3, 3, 1, 1, 1, 1, 5, 4, 4, 4, 4, 4, 3, 3, 3, 3, 3, 3, 3, 3, 3, 3, 3, 3, 3, 3, 3, 3, 3, 3, 3, 3, 3, 3, 3, 3, 5, 3, 3, 3, 3, 3, 3, 3, 3, 3, 3, 3, 3, 5, 4, 4, 4, 4, 4, 4, 4, 4, 4, 3, 1, 4, 4, 3, 3, 3, 3, 3, 3, 3, 3, 3, 3, 3, 3, 3, 3, 3, 3, 3, 3, 3, 3, 3, 3, 3, 3, 3, 3, 3, 3, 3, 3, 0, 0, 5, 5, 5, 4, 4, 4, 3, 3, 3, 3, 3, 3, 3, 3, 3, 3, 1, 1, 1, 3, 3, 3, 3, 3, 1, 3, 3, 3, 3, 3, 3, 3, 3, 3, 3, 3, 3, 3, 3, 3, 3, 1, 1, 1, 1, 1, 1, 1, 1, 1, 5, 5, 3, 3, 3, 3, 3, 3, 3, 3, 3, 3, 3, 3, 3, 3, 3, 3, 3, 3, 3, 3, 3, 3, 3, 3, 3, 3, 3, 3, 3, 5, 5, 5, 4, 4, 4, 4, 4, 4, 4, 4, 4, 4, 4, 4, 4, 4, 4, 4, 4, 4, 4, 4, 4, 4, 4, 3, 3, 3, 3, 3, 3, 3, 3, 3, 3, 3, 3, 3, 3, 3, 3, 3, 3, 3, 3, 3, 3, 3, 3, 3, 3, 3, 3, 3, 3, 3, 3, 3, 3, 5, 5, 4, 4, 4, 4, 4, 4, 3, 3, 3, 3, 3, 3, 3, 3, 3, 4, 3, 3, 3, 3, 3, 3, 3, 3, 3, 3, 3, 3, 3, 3, 3, 3, 3, 3, 3, 3, 3, 3, 3, 3, 3, 3, 3, 3, 3, 3, 3, 3, 3, 3, 3, 3, 3, 3, 3, 3, 3, 3, 3, 3, 3, 3, 3, 3, 3, 3, 3, 3, 3, 3, 3, 3, 3, 3, 3, 5, 5, 4, 4, 4, 4, 3, 3, 3, 3, 3, 3, 3, 3, 3, 3, 3, 3, 3, 3, 3, 3, 3, 3, 3, 3, 3, 3, 3, 3, 3, 3, 3, 3, 3, 3, 3, 3, 3, 3, 3, 3, 3, 3, 3, 3, 3, 3, 3, 3, 3, 3, 3, 3, 4, 4, 4, 4, 4, 4, 4, 4, 4, 4, 4, 4, 4, 4, 4, 4, 4, 4, 4, 4, 4, 4, 4, 4, 4, 4, 4, 4, 4, 4, 4, 4, 4, 4, 4, 4, 4, 4, 3, 3, 3, 3, 3, 3, 3, 3, 3, 3, 3, 3, 3, 3, 3, 3, 3, 3, 3, 3, 3, 3, 3, 3, 3, 3, 3, 3, 3, 3, 3, 3, 3, 3, 3, 3, 3, 3, 3, 3, 3, 3, 3, 3, 3, 3, 3, 3, 3, 3, 3, 3, 3, 3, 3, 3, 3, 4, 4, 4, 4, 4, 4, 4, 4, 4, 4, 3, 3, 3, 3, 3, 3, 3, 3, 3, 3, 3, 3, 3, 3, 3, 3, 3, 3, 3, 3, 3, 3, 3, 3, 3, 3, 3, 3, 3, 3, 3, 3, 3, 3, 3, 3, 3, 4, 4, 4, 4, 4, 4, 4, 4, 4, 3, 3, 3, 3, 3, 3, 3, 3, 3, 3, 3, 3, 3, 3, 3, 3, 3, 3, 3, 3, 3, 3, 3, 3, 3, 3, 3, 3, 3, 3, 3, 3, 3, 3, 3, 3, 3, 3, 3, 5, 5, 3, 3, 1, 1, 1, 3, 3, 3, 3, 3, 3, 3, 3, 3, 3, 3, 3, 3, 3, 3, 3, 3, 3, 3, 4, 4, 4, 4, 4, 3, 4, 4, 3, 3, 3, 3, 3, 5, 4, 4, 5, 3, 3, 3, 3, 3, 3, 3, 3, 3, 3, 3, 3, 3, 3, 1, 1, 1, 3, 3, 3, 3, 3, 3, 3, 3, 3, 3, 3, 3, 3, 3, 5, 4, 3, 3, 3, 3, 3, 3, 3, 3, 3, 1, 3, 3, 3, 3, 3, 1, 1, 1, 1, 1, 1, 1, 1, 1, 1, 4, 4, 4, 4, 4, 4, 4, 4, 4, 4, 3, 3, 3, 3, 3, 3, 3, 3, 3, 3, 5, 5, 3, 3, 3, 3, 3, 3, 3, 3, 3, 3, 3, 3, 3, 3, 3, 3, 3, 4, 4, 4, 4, 4, 4, 3, 3, 3, 3, 3, 3, 3, 3, 0, 0, 0, 0, 5, 4, 4, 4, 4, 3, 3, 3, 3, 3, 3, 3, 3, 3, 3, 3, 3, 3, 3, 3, 3, 3, 3, 3, 3, 3, 3, 3, 3, 3, 3, 3, 3, 3, 3, 3, 3, 3, 3, 3, 3, 3, 3, 3, 3, 3, 3, 3, 3, 3, 3, 3, 3, 3, 5, 4, 4, 4, 4, 4, 4, 4, 4, 4, 4, 4, 4, 4, 4, 4, 4, 4, 4, 4, 4, 4, 4, 3, 3, 3, 3, 3, 3, 3, 3, 3, 3, 3, 3, 3, 3, 3, 3, 1, 1, 3, 3, 3, 3, 3, 3, 3, 3, 3, 3, 3, 3, 3, 5, 4, 3, 3, 3, 3, 3, 3, 3, 3, 3, 3, 3, 3, 5, 5, 3, 3, 3, 3, 3, 3, 3, 3, 3, 3, 3, 3, 3, 3, 3, 3, 3, 3, 3, 3, 3, 3, 3, 3, 3, 1, 1, 1, 1, 1, 1, 1, 1, 1, 3, 4, 3, 3, 3, 3, 3, 3, 4, 4, 4, 4, 4, 4, 3, 3, 3, 3, 3, 3, 4, 3, 3, 3, 3, 3, 5, 5, 4, 4, 4, 3, 3, 3, 3, 3, 3, 3, 3, 3, 3, 3, 3, 3, 3, 3, 3, 4, 4, 4, 3, 3, 3, 3, 3, 3, 3, 1, 3, 3, 3, 3, 3, 3, 3, 3, 3, 3, 3, 3, 1, 1, 1, 1, 1, 1, 0, 0, 0, 5, 5, 5, 4, 3, 3, 3, 3, 3, 3, 3, 3, 3, 3, 3, 3, 3, 3, 3, 3, 3, 3, 3, 5, 4, 4, 4, 4, 3, 3, 3, 3, 3, 3, 3, 3, 3, 3, 3, 3, 3, 3, 3, 3, 3, 3, 3, 3, 3, 3, 3, 3, 3, 3, 3, 3, 3, 3, 3, 3, 3, 3, 3, 3, 3, 3, 3, 3, 3, 3, 3, 3, 3, 3, 3, 3, 3, 3, 3, 3, 3, 3, 3, 3, 3, 3, 0, 4, 4, 4, 4, 3, 3, 4, 3, 3, 3, 3, 3, 3, 3, 3, 5, 5, 4, 3, 3, 3, 3, 3, 3, 3, 3, 3, 5, 4, 4, 4, 4, 4, 4, 4, 4, 3, 3, 3, 4, 4, 3, 3, 3, 3, 3, 3, 3, 3, 3, 3, 3, 3, 3, 3, 3, 3, 3, 3, 3, 3, 3, 3, 3, 3, 3, 3, 3, 3, 3, 3, 3, 4, 3, 4, 3, 3, 3, 3, 3, 3, 3, 3, 3, 4, 4, 4, 4, 4, 4, 4, 4, 4, 4, 4, 4, 4, 3, 3, 4, 4, 3, 3, 3, 3, 3, 3, 3, 3, 3, 3, 4, 4, 4, 4, 4, 4, 4, 4, 4, 4, 4, 4, 4, 4, 4, 4, 4, 4, 4, 4, 4, 4, 4, 4, 3, 3, 3, 4, 4, 4, 4, 4, 3, 3, 3, 3, 3, 3, 3, 3, 3, 3, 3, 3, 3, 3, 3, 3, 3, 3, 3, 3, 3, 3, 3, 3, 3, 3, 3, 3, 3, 3, 3, 3, 3, 4, 4, 4, 4, 4, 4, 4, 4, 3, 3, 3, 3, 3, 5, 4, 4, 4, 4, 4, 4, 4, 4, 4, 4, 4, 3, 3, 3, 3, 0, 0, 3, 3, 3, 4, 3, 3, 3, 3, 3, 3, 3, 3, 3, 3, 3, 3, 3, 3, 3, 3, 3, 3, 3, 3, 3, 3, 3, 3, 3, 3, 3, 3, 3, 3, 3, 3, 3, 3, 3, 5, 3, 3, 3, 3, 3, 3, 3, 3, 5, 3, 3, 3, 3, 3, 3, 3, 3, 3, 3, 3, 3, 3, 3, 3, 3, 3, 3, 3, 3, 3, 3, 3, 3, 3, 3, 3, 3, 3, 3, 3, 3, 3, 3, 3, 3, 3, 3, 3, 3, 3, 3, 4, 3, 3, 3, 3, 3, 3, 3, 3, 3, 3, 3, 3, 3, 3, 3, 3, 3, 3, 3, 3, 3, 3, 3, 3, 3, 3, 3, 3, 3, 3, 3, 3, 3, 3, 3, 3, 3, 1, 1, 1, 1, 1, 1, 1, 1, 1, 1, 1, 1, 1, 1, 0, 0, 0, 0, 0, 0, 5, 5, 5, 3, 3, 3, 3, 3, 3, 3, 3, 3, 3, 3, 3, 3, 3, 3, 3, 3, 3, 4, 3, 3, 3, 3, 1, 3, 3, 3, 3, 3, 3, 3, 3, 3, 3, 3, 3, 3, 3, 3, 3, 3, 3, 3, 3, 3, 3, 3, 5, 4, 4, 4, 4, 4, 4, 4, 4, 4, 4, 3, 0, 4, 4, 4, 4, 3, 3, 3, 3, 3, 3, 3, 3, 3, 3, 3, 3, 3, 3, 3, 3, 3, 3, 3, 1, 1, 1, 3, 3, 3, 3, 3, 3, 3, 3, 3, 3, 1, 1, 1, 1, 1, 4, 4, 4, 4, 4, 4, 4, 3, 3, 3, 3, 3, 3, 3, 3, 3, 3, 3, 3, 0, 0, 0, 0, 0, 0, 0, 0, 3, 3, 3, 3, 3, 3, 3, 3, 3, 3, 3, 3, 3, 3, 3, 3, 3, 3, 3, 3, 3, 3, 3, 3, 3, 5, 4, 4, 4, 4, 4, 4, 4, 4, 3, 3, 3, 3, 3, 3, 3, 3, 3, 3, 3, 3, 3, 3, 4, 4, 4, 4, 4, 4, 4, 3, 3, 3, 3, 3, 3, 3, 3, 1, 1, 1, 1, 1, 1, 1, 1, 3, 3, 3, 3, 3, 3, 3, 3, 3, 3, 3, 3, 3, 3, 3, 3, 3, 3, 3, 3, 3, 3, 3, 5, 5, 4, 4, 4, 4, 4, 4, 4, 4, 1, 1, 1, 1, 1, 1, 5, 3, 1, 3, 3, 3, 3, 3, 3, 3, 3, 3, 3, 3, 3, 3, 3, 3, 3, 3, 3, 3, 3, 3, 3, 3, 3, 3, 3, 3, 3, 3, 3, 3, 3, 3, 3, 3, 3, 3, 3, 3, 3, 3, 3, 3, 3, 3, 3, 3, 3, 3, 3, 3, 3, 3, 3, 3, 3, 3, 3, 3, 3, 3, 3, 5, 5, 5, 5, 3, 3, 3, 3, 3, 3, 3, 3, 3, 3, 3, 3, 3, 3, 3, 3, 3, 3, 3, 1, 1, 1, 1, 1, 1, 1, 1, 1, 1, 3, 3, 3, 3, 3, 3, 3, 3, 3, 3, 3, 3, 3, 3, 3, 3, 3, 3, 3, 3, 3, 3, 3, 3, 3, 3, 3, 3, 3, 3, 3, 3, 3, 3, 3, 3, 3, 3, 3, 3, 3, 3, 3, 3, 3, 3, 3, 3, 3, 3, 3, 3, 3, 3, 3, 3, 3, 3, 3, 3, 3, 3, 3, 3, 3, 3, 3, 0, 0, 0, 0, 0, 0, 0, 0, 0, 0, 0, 0, 4, 4, 4, 4, 3, 5, 5, 4, 4, 4, 4, 4, 4, 4, 3, 3, 3, 3, 3, 3, 3, 3, 3, 3, 3, 3, 3, 3, 3, 3, 3, 3, 3, 3, 3, 3, 3, 3, 3, 3, 3, 3, 3, 3, 3, 3, 3, 3, 3, 4, 4, 4, 4, 4, 4, 4, 3, 3, 3, 3, 3, 3, 3, 3, 3, 3, 3, 3, 3, 3, 3, 3, 3, 3, 3, 0, 0, 0, 0, 0, 0, 0, 0, 5, 4, 4, 4, 4, 4, 4, 4, 4, 4, 4, 4, 4, 4, 4, 4, 4, 4, 3, 3, 3, 3, 3, 3, 3, 3, 3, 3, 3, 3, 3, 3, 3, 3, 3, 3, 3, 3, 3, 3, 3, 3, 3, 3, 3, 3, 3, 3, 3, 5, 5, 5, 5, 4, 4, 4, 4, 4, 4, 4, 4, 4, 4, 4, 4, 4, 4, 4, 4, 4, 4, 4, 4, 4, 4, 4, 3, 3, 3, 3, 5, 4, 4, 3, 3, 3, 3, 3, 3, 3, 3, 3, 3, 3, 3, 3, 3, 3, 3, 3, 3, 3, 3, 3, 3, 3, 3, 3, 3, 3, 3, 3, 3, 3, 3, 3, 3, 3, 5, 3, 3, 3, 3, 3, 3, 1, 1, 1, 1, 1, 1, 0, 0, 0, 3, 3, 3, 1, 1, 1, 5, 5, 3, 3, 4, 3, 3, 3, 3, 3, 3, 3, 3, 3, 3, 5, 5, 4, 4, 3, 3, 3, 3, 3, 3, 3, 3, 3, 3, 3, 3, 0, 0, 0, 0, 0, 0, 0, 0, 0, 0, 0, 0, 4, 4, 4, 4, 4, 4, 4, 4, 4, 4, 4, 4, 4, 4, 4, 4, 4, 4, 4, 4, 4, 4, 3, 3, 3, 3, 3, 3, 3, 3, 3, 3, 3, 5, 3, 3, 3, 3, 3, 3, 3, 3, 3, 3, 3, 3, 3, 3, 3, 3, 3, 3, 3, 3, 3, 3, 3, 3, 3, 3, 3, 3, 3, 3, 3, 3, 3, 3, 3, 3, 3, 3, 3, 3, 3, 3, 3, 3, 3, 3, 3, 3, 3, 3, 3, 3, 3, 3, 3, 3, 3, 3, 3, 3, 3, 3, 3, 5, 3, 3, 3, 3, 3, 3, 3, 3, 3, 3, 3, 3, 5, 5, 4, 4, 4, 4, 4, 4, 4, 3, 3, 3, 3, 3, 0, 0, 0, 0, 4, 4, 4, 4, 3, 3, 3, 3, 3, 3, 3, 3, 3, 3, 3, 3, 3, 3, 3, 3, 3, 3, 3, 3, 3, 3, 3, 3, 3, 3, 3, 0, 0, 3, 3, 3, 3, 3, 3, 3, 3, 3, 3, 3, 3, 3, 3, 3, 3, 3, 3, 3, 3, 3, 3, 3, 3, 3, 3, 3, 3, 3, 3, 3, 3, 3, 3, 3, 3, 3, 3, 3, 3, 4, 4, 4, 4, 4, 4, 3, 3, 4, 3, 3, 3, 3, 3, 5, 4, 4, 4, 4, 3, 1, 3, 3, 3, 3, 3, 3, 3, 3, 5, 5, 3, 3, 3, 5, 4, 4, 4, 3, 3, 3, 3, 3, 4, 4, 3, 3, 3, 3, 3, 3, 3, 3, 1, 1, 3, 3, 3, 3, 3, 3, 3, 3, 3, 3, 3, 3, 3, 3, 3, 3, 3, 3, 3, 3, 3, 3, 3, 3, 3, 3, 3, 3, 3, 3, 3, 3, 3, 3, 3, 3, 3, 3, 3, 3, 3, 3, 5, 3, 3, 3, 3, 3, 3, 1, 3, 3, 3, 3, 3, 3, 3, 3, 3, 3, 3, 3, 3, 3, 3, 3, 3, 3, 3, 3, 3, 3, 3, 4, 4, 4, 4, 4, 4, 4, 4, 3, 3, 3, 3, 3, 3, 3, 3, 3, 3, 3, 3, 3, 3, 3, 3, 3, 3, 3, 3, 3, 3, 3, 3, 3, 3, 3, 3, 3, 3, 3, 3, 3, 3, 3, 3, 3, 3, 3, 3, 3, 3, 3, 3, 3, 3, 3, 3, 3, 3, 3, 3, 3, 3, 4, 4, 4, 4, 4, 4, 4, 4, 4, 4, 3, 3, 3, 3, 3, 3, 3, 3, 3, 3, 3, 3, 3, 3, 3, 3, 3, 4, 4, 4, 4, 4, 4, 4, 4, 4, 4, 4, 4, 4, 4, 4, 4, 3, 3, 3, 1, 1, 1, 1, 1, 3, 3, 3, 3, 3, 3, 3, 3, 3, 3, 3, 3, 3, 3, 3, 3, 3, 3, 3, 3, 3, 3, 3, 3, 3, 3, 3, 3, 3, 3, 3, 3, 3, 3, 3, 3, 3, 3, 3, 3, 3, 3, 3, 4, 4, 4, 4, 4, 4, 4, 4, 4, 4, 4, 3, 3, 3, 3, 3, 3, 3, 3, 3, 3, 3, 3, 3, 3, 3, 3, 3, 3, 1, 5, 5, 3, 3, 3, 3, 3, 1, 1, 1, 1, 1, 1, 1, 1, 1, 1, 1, 5, 3, 3, 3, 3, 3, 3, 3, 3, 3, 3, 3, 3, 3, 3, 0, 0, 0, 0, 3, 3, 3, 3, 3, 3, 3, 3, 3, 3, 3, 3, 3, 1, 1, 1, 1, 1, 3, 3, 3, 3, 3, 3, 3, 3, 3, 3, 3, 3, 3, 3, 3, 3, 3, 3, 3, 3, 3, 3, 3, 3, 3, 3, 3, 3, 3, 3, 3, 3, 3, 3, 3, 3, 3, 3, 3, 3, 3, 3, 3, 3, 3, 3, 3, 4, 4, 4, 4, 4, 4, 4, 3, 3, 3, 3, 5, 5, 5, 4, 3, 3, 3, 3, 3, 3, 3, 3, 3, 3, 3, 3, 3, 3, 3, 3, 3, 3, 0, 0, 0, 0, 0, 0, 0, 0, 0, 0, 0, 5, 5, 4, 4, 4, 4, 4, 4, 4, 4, 4, 4, 4, 4, 4, 4, 4, 4, 3, 3, 3, 3, 3, 3, 3, 3, 4, 4, 3, 3, 3, 3, 3, 3, 3, 3, 3, 3, 3, 5, 5, 5, 5, 5, 4, 4, 4, 4, 4, 4, 4, 4, 4, 4, 4, 4, 4, 4, 4, 4, 4, 4, 4, 4, 4, 4, 4, 4, 3, 3, 3, 3, 0, 4, 4, 4, 4, 3, 3, 3, 3, 3, 3, 3, 3, 3, 3, 3, 3, 3, 3, 3, 3, 3, 3, 3, 3, 3, 3, 3, 3, 3, 3, 3, 3, 3, 3, 3, 3, 3, 3, 3, 3, 3, 3, 3, 3, 3, 3, 3, 3, 3, 3, 3, 3, 3, 3, 5, 3, 3, 3, 3, 3, 5, 5, 4, 4, 4, 4, 3, 3, 3, 3, 3, 3, 3, 3, 3, 3, 3, 3, 3, 3, 3, 3, 3, 3, 3, 3, 3, 3, 3, 3, 3, 3, 3, 3, 3, 3, 3, 3, 3, 3, 3, 3, 3, 3, 3, 3, 3, 3, 3, 3, 3, 3, 0, 0, 0, 0, 3, 3, 3, 3, 3, 3, 4, 4, 4, 4, 4, 4, 4, 3, 3, 3, 3, 3, 3, 3, 4, 4, 4, 4, 4, 4, 4, 4, 4, 4, 4, 4, 4, 4, 4, 4, 4, 4, 4, 4, 4, 4, 4, 4, 4, 4, 4, 3, 3, 3, 3, 3, 3, 3, 3, 3, 3, 3, 3, 3, 3, 3, 3, 3, 3, 3, 3, 3, 3, 3, 3, 3, 3, 3, 3, 3, 3, 4, 3, 3, 1, 4, 4, 4, 3, 3, 3, 3, 3, 3, 3, 3, 3, 3, 3, 3, 3, 3, 3, 3, 3, 3, 3, 3, 3, 1, 1, 1, 5, 3, 5, 3, 3, 3, 3, 3, 3, 3, 3, 3, 3, 3, 1, 1, 4, 4, 4, 3, 3, 3, 3, 0, 5, 3, 3, 3, 3, 3, 3, 3, 3, 3, 3, 3, 3, 3, 3, 3, 3, 3, 5, 5, 3, 3, 3, 3, 3, 3, 3, 3, 3, 3, 3, 3, 3, 3, 3, 3, 3, 3, 3, 3, 3, 3, 3, 3, 3, 3, 3, 3, 3, 3, 3, 3, 3, 3, 3, 3, 3, 3, 3, 3, 3, 3, 3, 4, 4, 4, 3, 3, 3, 3, 3, 3, 3, 3, 3, 3, 3, 4, 4, 4, 4, 4, 4, 3, 3, 3, 0, 0, 0, 0, 5, 5, 3, 3, 3, 3, 3, 3, 3, 3, 3, 3, 3, 3, 3, 3, 3, 3, 3, 3, 3, 3, 3, 3, 3, 3, 3, 3, 3, 3, 3, 1, 1, 1, 1, 1, 1, 1, 5, 5, 5, 5, 4, 4, 4, 4, 4, 4, 4, 4, 4, 3, 3, 3, 3, 3, 3, 5, 5, 4, 4, 4, 4, 4, 4, 4, 4, 4, 3, 3, 3, 3, 3, 3, 3, 3, 3, 3, 3, 3, 3, 3, 3, 3, 3, 3, 3, 3, 3, 3, 3, 3, 3, 3, 3, 3, 3, 3, 3, 3, 5, 4, 3, 1, 4, 3, 3, 1, 3, 3, 3, 3, 3, 3, 3, 3, 3, 3, 3, 3, 3, 3, 3, 3, 3, 3, 3, 3, 3, 3, 3, 3, 3, 3, 0, 0, 0, 0, 0, 0, 3, 3, 3, 3, 3, 3, 3, 4, 4, 4, 3, 3, 3, 3, 3, 3, 3, 4, 4, 4, 4, 4, 4, 4, 4, 4, 4, 4, 4, 4, 4, 4, 4, 4, 4, 4, 4, 4, 4, 4, 4, 4, 4, 4, 4, 4, 4, 4, 4, 4, 4, 4, 4, 4, 4, 4, 4, 4, 4, 4, 4, 4, 4, 4, 4, 4, 4, 4, 4, 4, 4, 3, 3, 3, 3, 3, 3, 3, 3, 3, 3, 3, 3, 3, 3, 3, 3, 3, 3, 3, 3, 3, 3, 3, 3, 3, 3, 3, 3, 3, 3, 3, 3, 3, 3, 3, 3, 3, 4, 4, 4, 4, 4, 4, 4, 3, 3, 4, 4, 4, 3, 3, 3, 3, 3, 3, 3, 3, 3, 3, 3, 3, 3, 3, 3, 3, 3, 3, 3, 3, 3, 3, 3, 3, 4, 3, 0, 0, 0, 0, 0, 0, 0, 0, 0, 0, 5, 4, 4, 4, 4, 4, 4, 4, 1, 1, 1, 5, 5, 5, 4, 4, 4, 4, 4, 4, 4, 4, 3, 3, 3, 3, 3, 3, 3, 3, 3, 3, 3, 3, 4, 4, 4, 3, 4, 4, 4, 4, 4, 4, 4, 4, 4, 4, 4, 4, 4, 4, 4, 4, 4, 4, 3, 3, 3, 3, 3, 3, 3, 3, 3, 3, 3, 3, 3, 3, 3, 3, 3, 3, 3, 3, 3, 3, 3, 3, 3, 3, 3, 3, 3, 3, 3, 3, 3, 3, 3, 3, 3, 3, 3, 3, 3, 3, 3, 3, 3, 3, 3, 3, 3, 3, 3, 3, 3, 3, 3, 1, 1, 1, 0, 0, 0, 0, 0, 0, 0, 0, 0, 0, 3, 4, 4, 4, 4, 4, 4, 4, 4, 4, 4, 4, 4, 4, 4, 4, 4, 4, 4, 4, 4, 4, 4, 4, 4, 4, 4, 4, 4, 3, 3, 3, 3, 3, 3, 3, 3, 3, 3, 3, 3, 3, 3, 3, 3, 3, 3, 3, 3, 3, 3, 3, 3, 3, 3, 3, 3, 3, 3, 3, 3, 3, 3, 3, 3, 3, 3, 3, 3, 3, 3, 3, 3, 3, 3, 1, 3, 3, 3, 3, 5, 4, 4, 4, 4, 4, 3, 3, 3, 3, 3, 3, 3, 3, 3, 3, 3, 3, 3, 3, 3, 3, 3, 3, 3, 3, 3, 3, 3, 3, 3, 3, 3, 5, 5, 4, 4, 4, 3, 3, 3, 5, 3, 3, 3, 3, 3, 3, 3, 3, 3, 3, 3, 3, 3, 3, 3, 3, 3, 3, 3, 3, 3, 3, 3, 3, 3, 3, 3, 3, 3, 3, 3, 3, 3, 3, 3, 3, 3, 3, 3, 3, 3, 3, 3, 3, 3, 3, 3, 3, 3, 3, 3, 3, 3, 3, 3, 3, 4, 4, 3, 3, 3, 3, 3, 3, 3, 3, 3, 3, 3, 3, 3, 3, 3, 3, 3, 3, 3, 3, 3, 3, 3, 3, 3, 3, 3, 3, 3, 3, 4, 4, 4, 4, 4, 4, 4, 4, 4, 4, 4, 4, 4, 4, 4, 4, 4, 4, 4, 3, 3, 1, 4, 4, 4, 3, 3, 3, 3, 3, 3, 3, 3, 3, 3, 3, 3, 3, 3, 3, 3, 3, 3, 4, 1, 1, 1, 1, 1, 1, 1, 3, 3, 3, 3, 3, 3, 5, 3, 3, 3, 3, 3, 3, 3, 3, 3, 3, 3, 3, 1, 1, 1, 1, 3, 3, 1, 1, 1, 3, 3, 3, 3, 3, 3, 3, 3, 3, 3, 3, 3, 3, 3, 3, 3, 3, 3, 3, 3, 3, 3, 3, 3, 3, 3, 3, 4, 3, 3, 3, 3, 3, 3, 3, 3, 1, 1, 1, 1, 1, 1, 1, 1, 1, 1, 1, 1, 1, 1, 1, 0, 0, 3, 3, 3, 3, 1, 4, 4, 4, 4, 4, 4, 3, 3, 0, 0, 3, 3, 3, 3, 3, 3, 3, 3, 3, 3, 3, 3, 3, 3, 3, 3, 3, 3, 3, 3, 3, 3, 3, 3, 3, 3, 3, 3, 4, 4, 4, 4, 4, 4, 4, 4, 4, 4, 4, 4, 4, 4, 4, 4, 3, 3, 3, 3, 1, 1, 1, 1, 1, 1, 1, 1, 1, 1, 1, 5, 5, 4, 4, 4, 4, 4, 4, 4, 4, 3, 3, 3, 3, 3, 3, 3, 1, 5, 5, 4, 3, 3, 3, 3, 3, 3, 3, 3, 3, 3, 3, 3, 3, 1, 1, 1, 1, 1, 1, 1, 1, 1, 1, 1, 1, 1, 1, 1, 1, 1, 1, 1, 1, 1, 5, 5, 3, 3, 3, 3, 3, 3, 3, 5, 3, 3, 3, 5, 4, 4, 4, 3, 4, 4, 3, 3, 3, 3, 3, 3, 3, 0, 0, 0, 0, 0, 0, 0, 0, 5, 3, 3, 3, 3, 3, 3, 3, 3, 3, 3, 3, 3, 3, 3, 3, 3, 3, 3, 3, 3, 3, 3, 3, 3, 1, 1, 1, 1, 1, 1, 1, 3, 3, 3, 3, 3, 3, 3, 3, 3, 3, 3, 3, 3, 3, 3, 3, 3, 3, 3, 3, 3, 3, 3, 3, 3, 3, 3, 3, 3, 3, 3, 3, 3, 3, 3, 3, 3, 3, 3, 3, 3, 3, 3, 3, 3, 3, 3, 5, 4, 4, 4, 4, 4, 4, 4, 4, 4, 4, 4, 4, 4, 4, 4, 4, 4, 3, 3, 4, 4, 4, 4, 4, 4, 4, 3, 3, 1, 1, 1, 1, 4, 4, 3, 3, 1, 1, 1, 1, 1, 1, 1, 5, 4, 4, 4, 4, 4, 4, 3, 1, 1, 5, 4, 3, 3, 3, 3, 3, 3, 3, 3, 3, 3, 3, 3, 3, 3, 3, 3, 5, 4, 4, 4, 4, 4, 4, 4, 4, 4, 4, 4, 4, 4, 4, 4, 4, 4, 4, 4, 4, 4, 4, 4, 4, 4, 4, 4, 4, 4, 3, 3, 3, 3, 3, 3, 1, 1, 1, 3, 3, 3, 3, 3, 3, 3, 3, 3, 3, 3, 3, 3, 3, 3, 3, 3, 3, 3, 3, 3, 3, 3, 5, 3, 3, 3, 3, 3, 3, 3, 3, 3, 3, 3, 3, 3, 3, 3, 3, 3, 3, 3, 3, 3, 3, 3, 3, 3, 3, 3, 3, 3, 3, 3, 3, 3, 3, 3, 3, 3, 3, 3, 3, 5, 5, 5, 3, 3, 4, 3, 3, 3, 3, 3, 3, 3, 3, 3, 3, 3, 3, 3, 0, 0, 0, 0, 0, 0, 0, 0, 0, 0, 0, 3, 3, 3, 3, 3, 3, 3, 3, 3, 3, 3, 3, 3, 3, 3, 3, 3, 3, 3, 3, 3, 3, 3, 3, 3, 3, 3, 3, 3, 3, 3, 3, 3, 3, 3, 3, 3, 3, 3, 3, 3, 3, 3, 3, 3, 4, 4, 4, 4, 4, 4, 3, 3, 3, 3, 3, 3, 3, 3, 3, 3, 3, 3, 3, 3, 3, 3, 3, 1, 1, 1, 1, 1, 1, 1, 1, 1, 1, 1, 1, 1, 1, 1, 1, 5, 4, 4, 4, 4, 4, 3, 3, 3, 3, 3, 3, 3, 3, 3, 3, 3, 3, 3, 3, 3, 3, 3, 3, 3, 3, 3, 3, 3, 3, 3, 3, 1, 1, 5, 3, 3, 3, 3, 3, 3, 3, 3, 3, 3, 3, 3, 3, 3, 3, 3, 3, 3, 3, 3, 3, 3, 3, 3, 3, 3, 3, 3, 3, 3, 3, 3, 3, 3, 3, 3, 3, 5, 5, 3, 3, 3, 3, 3, 3, 3, 3, 3, 3, 3, 3, 3, 3, 3, 3, 1, 1, 1, 1, 1, 1, 1, 1, 1, 1, 1, 1, 1, 1, 1, 1, 3, 3, 3, 3, 3, 3, 3, 3, 3, 3, 3, 3, 3, 3, 3, 3, 3, 3, 3, 3, 3, 3, 3, 3, 3, 3, 3, 3, 3, 3, 3, 3, 3, 3, 3, 3, 3, 3, 3, 1, 1, 1, 1, 1, 1, 1, 1, 5, 5, 5, 4, 4, 4, 4, 4, 4, 4, 4, 4, 3, 3, 3, 4, 4, 4, 3, 3, 5, 3, 3, 3, 3, 3, 1, 1, 1, 1, 1, 1, 1, 1, 1, 1, 1, 3, 3, 3, 3, 3, 3, 3, 3, 3, 3, 3, 3, 3, 3, 3, 3, 3, 3, 3, 3, 1, 1, 3, 3, 1, 4, 4, 4, 4, 4, 3, 3, 3, 3, 3, 3, 3, 3, 5, 4, 4, 4, 4, 4, 4, 3, 3, 3, 3, 3, 3, 3, 3, 3, 3, 3, 3, 3, 3, 3, 3, 3, 3, 3, 5, 5, 3, 3, 3, 3, 3, 0, 3, 3, 3, 3, 3, 3, 1, 5, 5, 4, 4, 3, 3, 3, 3, 3, 3, 3, 3, 3, 3, 3, 3, 3, 3, 3, 3, 3, 3, 3, 0, 0, 0, 0, 0, 3, 3, 3, 3, 3, 3, 3, 3, 3, 3, 3, 3, 3, 3, 5, 5, 4, 4, 4, 4, 4, 4, 4, 3, 3, 3, 3, 3, 3, 3, 3, 3, 3, 3, 3, 3, 3, 4, 4, 3, 3, 3, 3, 3, 3, 3, 3, 4, 3, 3, 3, 3, 3, 3, 3, 3, 3, 3, 3, 1, 4, 3, 3, 3, 3, 3, 3, 3, 3, 3, 3, 3, 3, 3, 3, 3, 3, 3, 3, 3, 3, 3, 3, 3, 3, 3, 3, 3, 3, 3, 3, 3, 3, 5, 5, 5, 4, 4, 4, 4, 4, 4, 4, 4, 4, 4, 4, 4, 4, 4, 4, 3, 3, 3, 1, 3, 4, 3, 3, 4, 4, 4, 3, 3, 3, 3, 3, 3, 3, 3, 3, 3, 3, 3, 3, 3, 3, 3, 3, 3, 3, 3, 3, 3, 3, 3, 3, 3, 3, 3, 3, 3, 3, 3, 3, 3, 3, 3, 3, 3, 3, 3, 3, 3, 3, 3, 3, 3, 3, 0, 0, 0, 0, 0, 0, 0, 0, 0, 0, 0, 0, 0, 4, 4, 4, 4, 4, 4, 4, 4, 4, 4, 4, 4, 4, 4, 4, 4, 4, 4, 4, 4, 3, 3, 3, 3, 3, 1, 5, 4, 3, 3, 3, 3, 3, 3, 3, 1, 1, 1, 3, 3, 3, 3, 3, 3, 3, 3, 3, 3, 3, 3, 3, 3, 3, 3, 3, 3, 3, 3, 3, 3, 3, 3, 3, 3, 3, 3, 3, 3, 3, 3, 3, 3, 3, 3, 3, 3, 1, 1, 1, 1, 1, 1, 1, 1, 4, 4, 4, 4, 4, 4, 4, 4, 4, 4, 4, 3, 3, 3, 3, 3, 3, 3, 3, 3, 3, 4, 4, 4, 4, 4, 4, 4, 4, 4, 4, 4, 4, 4, 3, 3, 3, 3, 3, 3, 3, 3, 3, 3, 3, 3, 3, 3, 3, 3, 3, 3, 3, 3, 3, 0, 5, 3, 3, 3, 3, 3, 3, 3, 3, 3, 3, 3, 3, 3, 3, 3, 3, 3, 3, 3, 3, 3, 3, 3, 3, 3, 3, 3, 3, 3, 3, 3, 3, 3, 3, 3, 3, 3, 3, 3, 3, 3, 3, 3, 3, 3, 3, 3, 3, 3, 1, 1, 5, 3, 3, 3, 3, 3, 4, 4, 3, 3, 3, 3, 5, 4, 4, 3, 5, 4, 4, 4, 4, 4, 4, 4, 4, 4, 4, 4, 4, 3, 3, 4, 3, 3, 3, 5, 5, 5, 3, 4, 4, 4, 4, 4, 4, 3, 3, 3, 3, 3, 3, 3, 3, 3, 1, 3, 3, 3, 3, 3, 3, 3, 3, 3, 3, 3, 3, 3, 3, 3, 3, 3, 3, 3, 3, 3, 3, 3, 3, 3, 3, 3, 3, 3, 3, 3, 3, 3, 3, 3, 3, 3, 3, 3, 3, 3, 3, 3, 3, 3, 3, 3, 1, 1, 1, 1, 1, 1, 1, 1, 1, 1, 1, 1, 1, 1, 1, 1, 1, 0, 0, 0, 0, 0, 0, 0, 0, 0, 0, 0, 5, 4, 4, 4, 4, 4, 4, 4, 4, 4, 4, 4, 4, 4, 4, 4, 4, 4, 4, 4, 4, 4, 4, 4, 4, 4, 4, 4, 4, 4, 4, 4, 4, 4, 4, 4, 4, 4, 4, 4, 4, 4, 4, 3, 3, 3, 3, 3, 3, 3, 3, 3, 3, 3, 3, 3, 3, 3, 3, 3, 3, 3, 3, 3, 3, 3, 3, 3, 3, 3, 3, 3, 3, 3, 3, 3, 1, 3, 3, 3, 3, 3, 3, 3, 3, 3, 3, 3, 3, 3, 3, 3, 3, 3, 3, 3, 3, 3, 3, 0, 0, 0, 0, 0, 0, 0, 0, 0, 0, 0, 0, 5, 5, 5, 5, 5, 4, 4, 4, 4, 4, 4, 4, 4, 4, 4, 4, 4, 4, 4, 4, 4, 4, 4, 3, 3, 3, 3, 3, 3, 3, 3, 3, 5, 5, 4, 4, 4, 4, 4, 4, 4, 4, 4, 3, 3, 3, 3, 3, 3, 3, 3, 3, 3, 3, 3, 3, 3, 3, 3, 3, 3, 3, 3, 3, 3, 3, 3, 5, 4, 4, 4, 4, 4, 3, 3, 3, 3, 3, 3, 3, 3, 3, 3, 3, 3, 5, 5, 5, 5, 4, 4, 3, 3, 4, 4, 4, 4, 4, 3, 3, 3, 3, 3, 3, 3, 3, 3, 3, 3, 3, 3, 3, 3, 3, 3, 3, 3, 3, 3, 3, 3, 3, 3, 3, 3, 3, 3, 3, 3, 3, 3, 3, 3, 3, 3, 3, 3, 3, 3, 3, 3, 3, 3, 3, 3, 3, 3, 3, 3, 3, 3, 3, 3, 3, 3, 3, 3, 3, 3, 3, 3, 3, 3, 3, 3, 3, 3, 5, 3, 3, 3, 3, 3, 3, 3, 3, 3, 3, 3, 3, 3, 3, 3, 3, 4, 4, 4, 4, 4, 4, 4, 4, 4, 4, 4, 4, 4, 4, 4, 4, 4, 4, 4, 4, 4, 4, 4, 4, 4, 4, 4, 4, 4, 4, 4, 4, 4, 4, 4, 4, 4, 4, 4, 4, 4, 3, 3, 3, 3, 3, 3, 3, 3, 3, 3, 3, 3, 3, 3, 3, 3, 3, 3, 3, 3, 3, 3, 3, 3, 3, 3, 3, 3, 3, 3, 3, 3, 3, 3, 3, 3, 5, 5, 5, 3, 3, 3, 3, 3, 3, 3, 3, 3, 3, 3, 3, 3, 3, 3, 3, 3, 3, 3, 3, 3, 3, 3, 3, 3, 4, 4, 4, 4, 4, 4, 4, 4, 4, 4, 4, 4, 4, 4, 4, 4, 4, 4, 4, 4, 4, 4, 4, 4, 4, 3, 4, 3, 3, 3, 3, 3, 3, 1, 1, 1, 1, 1, 1, 1, 1, 1, 1, 1, 1, 1, 4, 4, 4, 3, 3, 0, 3, 3, 3, 3, 3, 3, 3, 3, 3, 3, 3, 3, 3, 3, 3, 3, 3, 3, 3, 3, 3, 3, 3, 3, 3, 3, 3, 3, 3, 3, 3, 1, 1, 3, 3, 3, 3, 3, 3, 3, 3, 3, 3, 3, 3, 3, 3, 3, 3, 3, 3, 3, 3, 3, 3, 3, 3, 3, 1, 1, 1, 1, 1, 1, 1, 1, 1, 1, 1, 1, 1, 1, 1, 1, 1, 1, 1, 1, 1, 1, 3, 3, 3, 3, 3, 3, 3, 3, 3, 3, 3, 3, 3, 3, 3, 5, 4, 3, 3, 3, 3, 3, 3, 3, 3, 3, 3, 3, 3, 3, 3, 4, 4, 4, 4, 4, 4, 4, 4, 4, 4, 4, 4, 4, 4, 4, 4, 4, 3, 3, 3, 3, 3, 3, 3, 3, 3, 0, 3, 3, 3, 3, 3, 3, 3, 3, 3, 3, 3, 3, 3, 3, 3, 3, 4, 4, 4, 4, 4, 4, 4, 4, 4, 4, 4, 4, 4, 4, 4, 4, 4, 4, 4, 4, 4, 4, 4, 4, 4, 4, 4, 4, 3, 3, 3, 3, 3, 3, 3, 3, 3, 3, 3, 3, 3, 3, 3, 3, 3, 3, 3, 3, 4, 4, 4, 4, 4, 4, 4, 4, 4, 4, 4, 3, 3, 3, 3, 3, 3, 3, 3, 3, 3, 3, 3, 3, 3, 3, 3, 3, 3, 3, 3, 3, 3, 3, 3, 3, 3, 3, 3, 3, 3, 3, 3, 3, 3, 3, 3, 3, 3, 3, 3, 3, 3, 3, 3, 3, 3, 3, 1, 1, 1, 1, 1, 4, 4, 4, 3, 3, 3, 3, 3, 3, 3, 3, 3, 3, 3, 3, 3, 3, 3, 3, 3, 3, 3, 3, 3, 3, 3, 3, 3, 3, 3, 3, 3, 1, 5, 4, 4, 4, 3, 3, 3, 3, 3, 3, 3, 3, 3, 3, 3, 3, 3, 3, 3, 3, 3, 3, 3, 3, 3, 3, 3, 3, 3, 3, 3, 3, 3, 3, 3, 3, 3, 3, 3, 3, 4, 4, 4, 4, 4, 4, 4, 4, 4, 4, 3, 3, 3, 3, 3, 3, 3, 3, 3, 3, 3, 3, 3, 3, 4, 4, 4, 4, 4, 4, 4, 4, 4, 4, 4, 3, 3, 3, 3, 3, 3, 3, 3, 3, 3, 3, 3, 3, 3, 3, 3, 3, 3, 3, 3, 3, 3, 3, 3, 3, 3, 3, 3, 3, 3, 3, 3, 1, 1, 1, 1, 1, 5, 5, 3, 3, 3, 3, 3, 3, 3, 3, 3, 3, 3, 3, 3, 3, 3, 3, 3, 3, 3, 3, 3, 3, 3, 3, 3, 3, 3, 3, 5, 5, 5, 5, 5, 5, 5, 5, 4, 4, 4, 4, 4, 4, 4, 4, 4, 4, 3, 3, 3, 3, 3, 3, 3, 3, 3, 5, 3, 3, 3, 3, 3, 3, 3, 3, 3, 3, 3, 3, 3, 3, 3, 3, 4, 3, 3, 3, 3, 3, 3, 3, 3, 3, 3, 3, 3, 3, 3, 3, 3, 3, 3, 3, 3, 3, 3, 3, 1, 1, 1, 5, 3, 3, 3, 3, 3, 5, 5, 3, 3, 3, 3, 3, 3, 3, 3, 3, 3, 3, 3, 3, 3, 3, 3, 3, 3, 3, 3, 3, 3, 3, 3, 3, 3, 3, 3, 3, 3, 3, 3, 3, 3, 3, 3, 3, 3, 3, 3, 3, 3, 3, 3, 3, 3, 3, 3, 3, 3, 3, 3, 3, 3, 3, 3, 3, 3, 3, 3, 3, 3, 3, 3, 3, 3, 3, 3, 3, 3, 3, 3, 3, 3, 3, 3, 1, 1, 5, 3, 3, 3, 3, 3, 3, 3, 3, 3, 3, 3, 3, 4, 4, 4, 4, 4, 4, 4, 4, 4, 3, 3, 3, 3, 3, 3, 3, 3, 3, 3, 3, 1, 1, 1, 3, 3, 3, 0, 4, 4, 4, 4, 4, 4, 4, 3, 3, 5, 3, 3, 3, 3, 3, 3, 4, 4, 4, 4, 4, 4, 4, 4, 3, 3, 4, 4, 3, 3, 3, 3, 3, 3, 3, 3, 3, 3, 3, 3, 3, 3, 3, 3, 3, 3, 3, 3, 3, 3, 3, 3, 3, 3, 3, 3, 3, 3, 3, 3, 5, 3, 3, 3, 3, 3, 3, 3, 3, 3, 3, 3, 3, 3, 3, 3, 1, 1, 1, 1, 1, 1, 1, 1, 1, 1, 3, 3, 0, 0, 4, 4, 4, 4, 4, 4, 4, 3, 3, 3, 3, 3, 3, 3, 3, 3, 3, 3, 3, 3, 3, 3, 3, 3, 3, 3, 3, 3, 3, 3, 3, 3, 3, 3, 3, 3, 3, 3, 3, 3, 0, 5, 5, 5, 4, 3, 3, 3, 3, 4, 4, 4, 3, 3, 3, 3, 3, 3, 3, 3, 3, 3, 3, 3, 3, 3, 3, 3, 3, 3, 3, 3, 3, 3, 3, 3, 3, 3, 3, 3, 4, 4, 4, 4, 4, 4, 4, 4, 4, 4, 4, 4, 4, 4, 4, 3, 3, 3, 1, 1, 3, 3, 3, 3, 3, 3, 5, 4, 3, 3, 3, 3, 3, 3, 3, 3, 3, 3, 3, 3, 3, 5, 5, 4, 4, 4, 4, 4, 3, 3, 3, 3, 4, 3, 3, 3, 5, 3, 4, 4, 4, 4, 4, 4, 3, 3, 3, 3, 3, 3, 3, 3, 3, 3, 3, 3, 3, 3, 3, 3, 3, 3, 3, 3, 5, 5, 5, 5, 5, 4, 4, 4, 4, 4, 4, 4, 4, 4, 4, 4, 4, 4, 4, 4, 4, 3, 3, 3, 3, 3, 3, 3, 3, 3, 3, 3, 3, 3, 3, 3, 3, 3, 3, 3, 3, 3, 3, 3, 3, 3, 3, 3, 3, 3, 3, 3, 3, 3, 3, 3, 3, 3, 3, 1, 1, 1, 1, 1, 1, 1, 3, 3, 3, 3, 3, 3, 3, 5, 5, 3, 3, 5, 3, 3, 3, 3, 3, 3, 4, 3, 5, 5, 4, 4, 4, 4, 4, 4, 4, 3, 3, 1, 1, 1, 1, 1, 1, 1, 1, 1, 1, 1, 1, 3, 3, 3, 3, 1, 5, 3, 3, 3, 3, 3, 3, 3, 3, 3, 1, 1, 1, 1, 1, 1, 1, 1, 1, 3, 3, 3, 4, 4, 4, 4, 4, 4, 3, 3, 3, 3, 3, 3, 3, 3, 3, 3, 3, 3, 3, 3, 3, 3, 3, 3, 3, 3, 3, 3, 3, 3, 3, 3, 3, 3, 3, 4, 4, 4, 3, 3, 3, 3, 3, 3, 3, 3, 3, 3, 3, 3, 3, 3, 3, 3, 3, 3, 3, 3, 3, 3, 3, 3, 3, 3, 3, 3, 3, 3, 3, 3, 3, 3, 3, 3, 3, 3, 3, 3, 3, 3, 3, 3, 3, 3, 3, 3, 3, 3, 3, 3, 3, 3, 3, 3, 3, 3, 3, 3, 3, 3, 3, 3, 3, 3, 3, 3, 3, 3, 3, 3, 3, 3, 3, 3, 3, 3, 3, 3, 4, 4, 4, 4, 4, 4, 4, 4, 4, 4, 4, 4, 4, 3, 3, 3, 3, 3, 3, 3, 3, 3, 3, 3, 3, 3, 3, 3, 3, 3, 3, 3, 3, 3, 3, 3, 3, 3, 3, 3, 3, 3, 3, 3, 3, 3, 3, 0, 5, 5, 5, 5, 5, 4, 4, 4, 3, 3, 3, 3, 3, 3, 3, 3, 3, 3, 1, 1, 1, 3, 3, 3, 3, 3, 3, 3, 3, 3, 1, 1, 1, 1, 1, 1, 1, 1, 1, 3, 3, 3, 3, 3, 5, 4, 4, 3, 3, 4, 4, 4, 4, 4, 4, 3, 4, 4, 4, 4, 4, 4, 3, 3, 3, 4, 4, 4, 4, 4, 4, 4, 4, 4, 4, 4, 4, 4, 4, 4, 4, 4, 4, 4, 4, 4, 4, 4, 4, 4, 4, 4, 4, 4, 3, 3, 3, 3, 3, 5, 5, 4, 4, 4, 4, 4, 3, 3, 3, 3, 5, 5, 5, 3, 3, 3, 3, 3, 3, 3, 3, 3, 3, 3, 3, 3, 3, 3, 3, 3, 3, 3, 3, 3, 3, 3, 3, 3, 3, 3, 3, 5, 5, 5, 5, 5, 3, 3, 3, 3, 3, 3, 3, 3, 3, 3, 3, 3, 3, 3, 3, 3, 3, 3, 3, 3, 1, 1, 1, 3, 3, 3, 3, 3, 3, 3, 3, 3, 3, 3, 3, 3, 3, 3, 3, 3, 3, 3, 3, 3, 3, 3, 3, 3, 3, 1, 1, 1, 1, 1, 1, 1, 1, 1, 1, 1, 1, 1, 1, 1, 1, 5, 5, 4, 4, 4, 3, 3, 3, 3, 4, 4, 3, 3, 3, 3, 3, 3, 3, 3, 3, 3, 3, 3, 3, 3, 3, 3, 3, 3, 3, 3, 3, 3, 3, 3, 3, 5, 5, 5, 4, 4, 4, 4, 4, 4, 4, 4, 4, 4, 4, 4, 4, 4, 4, 4, 4, 4, 4, 4, 4, 4, 4, 4, 4, 4, 4, 4, 4, 4, 4, 4, 4, 4, 4, 4, 4, 4, 4, 3, 3, 3, 3, 3, 3, 3, 3, 3, 3, 3, 3, 3, 5, 5, 5, 4, 4, 4, 4, 4, 4, 4, 3, 3, 3, 3, 3, 4, 4, 4, 4, 4, 4, 4, 4, 3, 3, 3, 3, 3, 3, 3, 3, 3, 3, 3, 4, 4, 4, 4, 3, 3, 3, 3, 3, 3, 5, 5, 5, 4, 3, 3, 3, 3, 3, 3, 3, 3, 3, 3, 3, 3, 3, 3, 3, 3, 3, 3, 3, 3, 1, 1, 1, 1, 1, 1, 1, 1, 1, 1, 1, 1, 1, 1, 1, 1, 1, 1, 1, 1, 5, 5, 5, 3, 3, 3, 3, 3, 3, 3, 3, 3, 3, 3, 3, 3, 3, 3, 3, 3, 3, 3, 3, 3, 3, 1, 1, 1, 1, 1, 0, 0, 0, 0, 0, 5, 5, 3, 3, 3, 3, 3, 3, 3, 3, 3, 5, 5, 5, 5, 3, 3, 3, 3, 1, 1, 1, 1, 1, 1, 3, 3, 3, 3, 3, 3, 3, 3, 3, 3, 3, 3, 3, 3, 3, 3, 3, 3, 3, 3, 3, 3, 3, 3, 3, 3, 3, 3, 3, 3, 3, 3, 3, 3, 3, 5, 3, 3, 3, 3, 3, 3, 3, 3, 3, 3, 3, 3, 1, 1, 1, 1, 1, 1, 1, 1, 1, 1, 1, 1, 3, 3, 3, 3, 3, 3, 3, 3, 3, 3, 3, 3, 3, 3, 3, 3, 3, 3, 3, 3, 3, 3, 3, 3, 3, 3, 3, 3, 3, 3, 3, 3, 3, 3, 3, 3, 3, 3, 3, 3, 3, 3, 3, 3, 3, 3, 3, 3, 3, 3, 3, 3, 3, 3, 3, 3, 3, 1, 1, 1, 1, 1, 5, 3, 3, 3, 3, 3, 3, 3, 3, 3, 3, 3, 3, 3, 3, 3, 3, 3, 3, 3, 3, 3, 3, 3, 3, 3, 3, 1, 1, 1, 1, 1, 1, 1, 1, 1, 1, 1, 1, 1, 1, 1, 1, 1, 1, 1, 1, 1, 1, 1, 1, 1, 1, 1, 1, 3, 3, 3, 1, 5, 5, 4, 3, 3, 3, 3, 3, 3, 3, 3, 3, 3, 3, 3, 3, 3, 3, 3, 3, 5, 5, 4, 4, 4, 4, 4, 4, 4, 4, 3, 3, 3, 3, 3, 3, 3, 3, 3, 3, 3, 3, 3, 3, 3, 3, 3, 3, 3, 3, 3, 3, 1, 3, 3, 3, 3, 3, 3, 3, 3, 3, 3, 3, 3, 3, 3, 3, 3, 3, 3, 3, 3, 3, 3, 3, 3, 3, 3, 3, 3, 3, 3, 3, 3, 3, 3, 3, 3, 3, 3, 3, 3, 3, 3, 3, 3, 3, 3, 3, 3, 3, 3, 3, 3, 3, 3, 3, 3, 3, 3, 4, 4, 4, 4, 3, 3, 3, 3, 3, 3, 3, 3, 3, 3, 3, 3, 3, 3, 3, 3, 3, 3, 3, 3, 3, 3, 3, 5, 5, 5, 5, 5, 4, 4, 4, 4, 3, 3, 3, 3, 3, 3, 3, 3, 3, 3, 3, 3, 3, 3, 3, 3, 3, 3, 3, 3, 3, 3, 1, 1, 5, 5, 4, 4, 4, 4, 3, 3, 3, 3, 3, 3, 3, 4, 4, 3, 3, 3, 3, 5, 5, 4, 4, 4, 4, 4, 4, 4, 4, 4, 4, 4, 4, 4, 3, 3, 3, 3, 3, 3, 3, 3, 3, 3, 3, 3, 3, 3, 3, 3, 3, 4, 4, 4, 3, 3, 3, 3, 3, 3, 3, 3, 3, 3, 3, 3, 3, 3, 3, 3, 3, 4, 4, 4, 4, 4, 4, 3, 3, 3, 3, 5, 5, 3, 3, 3, 3, 3, 3, 3, 3, 3, 3, 3, 3, 3, 3, 3, 3, 3, 4, 4, 4, 4, 4, 4, 4, 4, 4, 4, 4, 4, 4, 4, 4, 4, 4, 4, 4, 4, 4, 4, 4, 4, 4, 3, 3, 3, 3, 3, 3, 3, 3, 3, 3, 3, 3, 3, 3, 3, 3, 3, 3, 3, 3, 3, 3, 3, 3, 3, 3, 3, 3, 5, 5, 5, 3, 3, 3, 3, 3, 3, 3, 3, 3, 3, 3, 3, 3, 3, 1, 1, 1, 1, 1, 1, 1, 3, 3, 3, 3, 3, 1, 3, 3, 3, 3, 3, 3, 3, 1, 5, 5, 3, 5, 3, 3, 4, 3, 3, 3, 3, 3, 3, 3, 3, 3, 3, 3, 3, 3, 3, 3, 3, 3, 3, 3, 3, 3, 3, 3, 3, 3, 3, 3, 3, 3, 3, 3, 3, 3, 3, 5, 3, 3, 3, 3, 3, 3, 3, 3, 3, 3, 3, 3, 5, 4, 4, 4, 4, 4, 4, 4, 3, 3, 3, 3, 3, 3, 3, 3, 3, 3, 3, 3, 1, 5, 3, 3, 3, 3, 3, 3, 3, 3, 3, 3, 3, 3, 3, 3, 3, 4, 4, 4, 4, 4, 4, 3, 3, 3, 3, 3, 3, 0, 0, 0, 5, 3, 3, 3, 1, 3, 3, 3, 3, 3, 3, 3, 3, 3, 1, 5, 4, 4, 4, 3, 3, 3, 3, 3, 3, 3, 3, 3, 3, 3, 3, 3, 3, 3, 3, 3, 3, 3, 3, 3, 3, 3, 3, 3, 3, 3, 3, 3, 3, 3, 3, 3, 3, 3, 3, 3, 3, 3, 3, 3, 3, 3, 3, 3, 3, 3, 3, 3, 3, 3, 3, 3, 3, 3, 3, 3, 3, 3, 3, 3, 3, 3, 1, 1, 3, 3, 3, 3, 3, 3, 3, 3, 3, 3, 3, 3, 3, 3, 3, 3, 3, 3, 3, 3, 4, 4, 4, 4, 4, 4, 4, 4, 4, 4, 4, 4, 4, 4, 3, 3, 3, 3, 3, 3, 3, 3, 3, 3, 3, 3, 3, 3, 0, 0, 0, 0, 3, 3, 3, 3, 3, 3, 3, 3, 3, 0, 0, 0, 0, 0, 0, 3, 5, 5, 4, 4, 3, 3, 3, 5, 4, 4, 4, 4, 4, 3, 3, 3, 3, 3, 3, 3, 3, 3, 3, 3, 3, 3, 3, 3, 3, 3, 3, 3, 3, 3, 3, 3, 1, 1, 1, 1, 1, 1, 1, 3, 3, 3, 5, 3, 3, 3, 3, 3, 3, 3, 3, 3, 4, 4, 4, 4, 3, 3, 3, 3, 3, 3, 3, 3, 3, 4, 3, 3, 3, 3, 3, 3, 3, 3, 3, 3, 3, 3, 3, 3, 3, 3, 3, 3, 3, 3, 3, 3, 3, 3, 3, 3, 3, 3, 3, 3, 3, 5, 5, 5, 5, 3, 3, 3, 3, 3, 3, 3, 3, 3, 3, 3, 5, 3, 3, 3, 3, 3, 3, 3, 3, 3, 3, 3, 3, 3, 3, 3, 3, 3, 3, 3, 3, 3, 3, 3, 3, 4, 4, 4, 4, 4, 4, 3, 3, 3, 3, 5, 3, 3, 3, 3, 3, 3, 3, 3, 3, 3, 3, 3, 3, 3, 3, 3, 3, 3, 3, 3, 3, 3, 5, 5, 5, 5, 3, 3, 3, 3, 3, 3, 3, 3, 3, 3, 3, 3, 3, 3, 3, 3, 3, 3, 3, 3, 3, 3, 3, 3, 3, 3, 3, 4, 4, 4, 3, 3, 3, 3, 3, 3, 3, 3, 3, 3, 3, 3, 3, 3, 3, 3, 3, 5, 5, 5, 5, 5, 4, 4, 4, 4, 4, 4, 4, 4, 4, 3, 3, 3, 3, 3, 3, 3, 3, 3, 3, 3, 3, 3, 3, 3, 3, 3, 3, 4, 4, 4, 4, 4, 4, 4, 4, 4, 4, 4, 4, 4, 4, 3, 3, 3, 3, 1, 3, 3, 3, 3, 3, 3, 3, 3, 3, 3, 3, 3, 3, 3, 3, 3, 3, 3, 3, 3, 3, 3, 3, 3, 3, 3, 3, 3, 3, 3, 3, 3, 3, 3, 3, 3, 3, 3, 1, 1, 1, 1, 1, 1, 1, 1, 1, 1, 1, 1, 1, 1, 1, 1, 1, 1, 1, 1, 1, 1, 1, 1, 1, 3, 3, 4, 4, 4, 4, 4, 4, 4, 4, 4, 4, 4, 3, 3, 3, 3, 3, 3, 3, 3, 3, 3, 3, 3, 3, 3, 3, 3, 3, 3, 3, 3, 3, 3, 3, 3, 3, 3, 3, 1, 1, 1, 1, 1, 1, 1, 1, 1, 1, 1, 3, 3, 3, 3, 3, 3, 3, 3, 3, 3, 3, 3, 4, 4, 4, 4, 4, 4, 4, 4, 3, 3, 3, 3, 3, 1, 1, 1, 1, 1, 5, 4, 4, 4, 4, 4, 4, 4, 4, 4, 4, 4, 3, 3, 4, 4, 3, 3, 3, 3, 3, 3, 3, 3, 3, 3, 3, 3, 3, 3, 3, 3, 3, 3, 3, 3, 3, 3, 3, 3, 3, 3, 3, 3, 3, 4, 4, 4, 4, 4, 4, 4, 4, 4, 4, 4, 3, 3, 4, 4, 3, 3, 4, 4, 3, 3, 3, 3, 3, 3, 3, 3, 3, 3, 3, 3, 3, 3, 3, 3, 3, 3, 3, 3, 3, 3, 3, 3, 3, 3, 3, 3, 3, 3, 3, 3, 3, 3, 3, 3, 3, 0, 0, 5, 5, 5, 3, 3, 3, 3, 3, 3, 3, 3, 3, 3, 3, 3, 3, 3, 3, 3, 3, 3, 3, 3, 3, 3, 3, 3, 3, 3, 3, 3, 3, 3, 3, 3, 3, 3, 3, 3, 3, 3, 3, 3, 3, 3, 3, 3, 3, 3, 3, 3, 3, 3, 3, 3, 3, 3, 3, 1, 1, 1, 1, 1, 1, 1, 1, 4, 4, 4, 4, 4, 4, 4, 4, 4, 4, 4, 4, 4, 4, 4, 4, 3, 3, 3, 3, 1, 1, 4, 3, 3, 3, 3, 3, 3, 3, 3, 3, 3, 3, 3, 3, 3, 5, 5, 3, 3, 3, 1, 1, 3, 3, 3, 3, 3, 3, 3, 4, 4, 4, 4, 4, 4, 4, 3, 3, 3, 3, 3, 3, 3, 3, 3, 3, 3, 3, 3, 3, 3, 3, 3, 3, 3, 3, 3, 3, 3, 3, 3, 3, 3, 5, 3, 3, 3, 3, 3, 3, 3, 3, 3, 3, 3, 3, 3, 3, 3, 3, 3, 0, 5, 5, 4, 4, 3, 3, 3, 3, 3, 4, 3, 4, 3, 3, 3, 3, 3, 3, 3, 3, 3, 5, 4, 4, 4, 4, 4, 4, 3, 3, 3, 3, 3, 3, 3, 3, 3, 3, 3, 3, 3, 3, 3, 3, 3, 3, 3, 3, 3, 3, 3, 3, 3, 3, 3, 3, 3, 3, 3, 3, 3, 1, 1, 1, 1, 1, 1, 1, 1, 1, 1, 0, 0, 0, 0, 3, 3, 3, 3, 3, 3, 3, 3, 3, 3, 3, 3, 3, 3, 3, 3, 3, 3, 3, 3, 3, 3, 3, 3, 3, 3, 3, 5, 5, 3, 3, 3, 3, 3, 3, 3, 3, 3, 3, 3, 1, 3, 3, 3, 3, 3, 3, 3, 3, 3, 3, 3, 3, 3, 3, 3, 3, 3, 3, 3, 3, 3, 3, 3, 3, 3, 3, 3, 3, 3, 3, 3, 1, 5, 4, 4, 4, 4, 4, 4, 4, 4, 4, 4, 4, 4, 4, 4, 3, 3, 3, 3, 5, 4, 4, 4, 3, 3, 5, 4, 4, 3, 3, 3, 3, 1, 4, 4, 3, 3, 3, 3, 3, 3, 3, 3, 3, 3, 3, 3, 3, 3, 1, 1, 1, 1, 1, 1, 1, 1, 1, 1, 1, 1, 1, 1, 3, 3, 3, 3, 3, 3, 3, 3, 3, 3, 3, 3, 3, 3, 3, 3, 3, 3, 3, 3, 3, 5, 5, 3, 3, 3, 3, 3, 1, 1, 4, 4, 3, 3, 4, 4, 3, 4, 3, 3, 3, 3, 3, 3, 3, 3, 3, 3, 3, 3, 3, 3, 5, 5, 4, 4, 4, 4, 4, 4, 4, 1, 1, 3, 4, 4, 4, 3, 3, 3, 3, 3, 3, 3, 3, 3, 3, 3, 3, 3, 3, 3, 3, 3, 3, 3, 3, 3, 3, 3, 3, 3, 3, 3, 3, 3, 3, 3, 3, 3, 3, 3, 3, 3, 3, 3, 3, 3, 3, 3, 3, 5, 4, 4, 4, 4, 4, 4, 4, 4, 4, 4, 4, 4, 4, 4, 3, 3, 3, 3, 3, 3, 3, 3, 3, 3, 3, 3, 3, 3, 3, 3, 3, 3, 3, 3, 3, 1, 1, 1, 1, 1, 1, 1, 4, 4, 4, 4, 3, 3, 5, 5, 3, 3, 3, 3, 3, 3, 3, 3, 3, 3, 3, 3, 3, 1, 1, 1, 1, 1, 1, 3, 3, 3, 3, 3, 3, 3, 3, 3, 3, 3, 4, 3, 3, 3, 3, 3, 3, 3, 3, 3, 3, 5, 5, 3, 3, 3, 3, 3, 3, 3, 4, 3, 3, 3, 3, 3, 3, 3, 3, 3, 3, 3, 3, 3, 3, 3, 3, 3, 3, 3, 3, 3, 3, 3, 3, 3, 3, 3, 3, 3, 5, 3, 3, 3, 3, 3, 1, 1, 1, 1, 1, 1, 1, 1, 1, 1, 1, 1, 1, 1, 1, 1, 1, 1, 4, 4, 4, 4, 4, 4, 4, 4, 4, 4, 4, 4, 4, 4, 3, 3, 3, 3, 3, 3, 3, 1, 1, 1, 1, 1, 1, 1, 5, 4, 4, 4, 4, 4, 4, 4, 4, 3, 3, 3, 3, 3, 3, 3, 3, 1, 1, 1, 1, 1, 1, 3, 3, 3, 3, 3, 3, 3, 3, 3, 3, 1, 0, 0, 0, 0, 0, 0, 0, 0, 3, 3, 3, 3, 3, 3, 3, 3, 3, 3, 1, 1, 1, 1, 1, 1, 1, 1, 1, 1, 1, 1, 1, 1, 1, 1, 1, 1, 3, 3, 1, 1, 1, 1, 1, 1, 1, 4, 3, 3, 3, 3, 3, 3, 3, 3, 3, 3, 3, 5, 5, 3, 3, 3, 3, 3, 3, 3, 3, 1, 1, 1, 1, 1, 1, 1, 1, 1, 1, 1, 1, 1, 3, 4, 4, 4, 4, 3, 3, 3, 1, 1, 1, 1, 1, 1, 4, 4, 4, 4, 4, 4, 4, 4, 4, 4, 4, 4, 4, 4, 4, 4, 4, 4, 4, 4, 3, 1, 5, 4, 4, 3, 3, 3, 3, 3, 3, 3, 3, 3, 3, 3, 3, 3, 3, 3, 3, 3, 3, 3, 3, 3, 3, 3, 3, 3, 3, 3, 3, 3, 3, 3, 3, 1, 3, 3, 3, 3, 3, 3, 3, 3, 3, 3, 3, 3, 5, 3, 3, 3, 3, 3, 3, 3, 3, 3, 1, 3, 3, 3, 3, 3, 3, 3, 3, 3, 0, 4, 5, 4, 3, 3, 3, 3, 3, 3, 3, 3, 3, 3, 3, 3, 5, 4, 4, 3, 3, 3, 3, 1, 1, 5, 3, 4, 4, 4, 4, 4, 4, 4, 4, 3, 4, 3, 3, 3, 3, 3, 3, 3, 3, 3, 3, 3, 3, 3, 3, 3, 3, 3, 3, 3, 3, 3, 3, 3, 3, 3, 3, 3, 3, 3, 3, 3, 3, 3, 3, 3, 3, 3, 3, 3, 3, 3, 3, 3, 3, 3, 3, 3, 3, 3, 3, 3, 3, 0, 5, 4, 4, 4, 4, 4, 3, 3, 3, 3, 3, 3, 3, 3, 3, 3, 4, 4, 4, 4, 4, 3, 3, 3, 3, 3, 3, 3, 3, 3, 3, 3, 3, 3, 3, 3, 3, 3, 3, 3, 3, 3, 3, 1, 1, 1, 1, 1, 1, 1, 1, 1, 1, 1, 1, 1, 1, 1, 1, 1, 1, 1, 1, 1, 4, 4, 4, 4, 4, 3, 3, 3, 3, 3, 3, 3, 3, 3, 3, 3, 3, 3, 3, 3, 5, 5, 4, 4, 4, 3, 3, 3, 3, 3, 3, 3, 3, 5, 4, 4, 3, 3, 3, 3, 3, 3, 3, 1, 1, 1, 1, 1, 4, 4, 4, 3, 3, 3, 3, 3, 3, 3, 3, 3, 3, 3, 3, 3, 3, 3, 3, 3, 3, 3, 3, 3, 3, 3, 3, 3, 3, 5, 3, 3, 3, 3, 3, 3, 3, 3, 4, 3, 3, 3, 3, 3, 3, 3, 3, 3, 5, 5, 5, 4, 4, 4, 4, 4, 4, 4, 4, 4, 4, 4, 4, 4, 4, 4, 3, 3, 3, 3, 3, 5, 5, 5, 3, 3, 3, 3, 3, 3, 3, 3, 3, 3, 3, 3, 3, 3, 3, 3, 3, 3, 3, 3, 3, 3, 3, 3, 0, 0, 0, 0, 0, 0, 0, 0, 0, 0, 0, 0, 0, 0, 0, 3, 3, 3, 3, 3, 3, 3, 3, 3, 3, 3, 3, 3, 3, 3, 3, 3, 3, 3, 3, 3, 3, 3, 3, 3, 3, 3, 3, 3, 3, 3, 3, 5, 3, 3, 3, 3, 3, 3, 3, 3, 3, 3, 3, 3, 3, 3, 3, 3, 3, 3, 3, 3, 3, 3, 3, 5, 3, 5, 4, 4, 4, 4, 4, 4, 4, 4, 4, 4, 4, 3, 3, 3, 3, 3, 3, 3, 3, 3, 3, 3, 3, 1, 1, 1, 1, 1, 1, 1, 5, 4, 4, 4, 4, 4, 4, 4, 4, 4, 3, 3, 3, 3, 3, 3, 3, 3, 3, 3, 3, 3, 3, 3, 3, 3, 3, 3, 3, 3, 3, 3, 3, 3, 3, 3, 3, 3, 3, 3, 3, 3, 4, 4, 4, 4, 3, 3, 3, 3, 3, 4, 3, 3, 3, 3, 3, 3, 3, 3, 3, 3, 3, 3, 3, 3, 1, 1, 1, 1, 1, 1, 1, 1, 1, 1, 1, 1, 1, 1, 1, 1, 1, 1, 1, 3, 3, 3, 3, 3, 3, 3, 3, 3, 3, 3, 3, 3, 3, 3, 3, 3, 3, 1, 1, 0, 0, 0, 0, 0, 0, 5, 5, 3, 3, 3, 3, 3, 3, 3, 3, 3, 3, 3, 3, 3, 3, 3, 3, 5, 4, 4, 4, 4, 4, 4, 4, 4, 4, 4, 4, 4, 4, 4, 3, 4, 3, 3, 3, 3, 3, 3, 3, 0, 0, 0, 0, 0, 0, 0, 0, 0, 0, 0, 0, 0, 0, 3, 3, 3, 3, 3, 3, 3, 3, 3, 3, 3, 5, 5, 5, 4, 4, 4, 4, 4, 4, 4, 4, 4, 4, 4, 4, 4, 4, 4, 4, 4, 4, 4, 4, 4, 4, 4, 4, 3, 3, 3, 3, 3, 3, 3, 3, 3, 3, 4, 4, 4, 4, 4, 4, 4, 4, 4, 3, 3, 3, 3, 3, 3, 3, 3, 3, 3, 3, 3, 3, 3, 4, 4, 4, 4, 4, 4, 4, 4, 4, 4, 3, 3, 3, 3, 3, 3, 3, 3, 3, 3, 3, 3, 3, 3, 3, 3, 3, 3, 1, 4, 4, 4, 4, 4, 4, 4, 4, 4, 4, 4, 4, 4, 4, 4, 4, 4, 4, 4, 3, 4, 3, 3, 3, 3, 3, 3, 3, 3, 3, 3, 3, 3, 5, 3, 3, 3, 3, 3, 3, 5, 3, 3, 3, 3, 3, 3, 3, 3, 3, 3, 5, 4, 4, 4, 4, 4, 4, 4, 4, 4, 4, 4, 4, 4, 4, 4, 4, 4, 4, 4, 4, 4, 4, 4, 4, 4, 4, 4, 4, 4, 4, 4, 4, 4, 4, 4, 4, 4, 4, 4, 4, 3, 3, 3, 3, 3, 3, 3, 3, 3, 3, 3, 3, 3, 3, 3, 3, 5, 5, 3, 3, 3, 4, 4, 4, 4, 4, 4, 4, 4, 4, 4, 4, 4, 4, 4, 4, 4, 4, 4, 4, 4, 3, 3, 3, 3, 3, 3, 3, 3, 3, 3, 3, 3, 3, 3, 3, 3, 3, 3, 3, 3, 3, 3, 3, 3, 5, 5, 5, 4, 3, 3, 3, 3, 3, 1, 1, 1, 1, 1, 1, 1, 1, 1, 1, 3, 3, 3, 3, 3, 3, 3, 3, 3, 3, 3, 3, 3, 3, 3, 0, 0, 0, 0, 0, 0, 0, 0, 0, 0, 0, 0, 0, 0, 0, 5, 5, 3, 3, 3, 3, 4, 4, 4, 4, 3, 3, 3, 3, 3, 3, 3, 3, 3, 3, 3, 3, 3, 3, 3, 3, 3, 3, 3, 3, 3, 3, 3, 3, 3, 3, 3, 5, 5, 5, 5, 5, 5, 5, 5, 5, 5, 4, 3, 3, 3, 3, 3, 3, 3, 3, 3, 3, 4, 4, 4, 4, 4, 4, 4, 4, 4, 4, 4, 4, 4, 4, 4, 4, 4, 4, 4, 4, 4, 3, 3, 3, 3, 3, 3, 4, 3, 3, 3, 3, 3, 3, 3, 3, 3, 3, 3, 3, 3, 3, 3, 3, 3, 3, 3, 5, 5, 3, 3, 3, 5, 4, 4, 4, 4, 4, 4, 3, 3, 3, 3, 3, 3, 3, 3, 3, 3, 3, 3, 3, 3, 3, 3, 3, 3, 3, 3, 3, 3, 3, 3, 3, 3, 3, 3, 3, 3, 3, 3, 3, 3, 3, 3, 3, 3, 3, 3, 3, 3, 3, 3, 3, 3, 3, 3, 3, 3, 3, 3, 3, 3, 3, 3, 3, 3, 3, 3, 3, 3, 3, 3, 1, 1, 1, 5, 5, 5, 5, 5, 4, 4, 4, 4, 4, 3, 3, 3, 3, 3, 3, 3, 3, 3, 3, 3, 3, 3, 3, 3, 3, 3, 3, 3, 3, 3, 3, 3, 3, 5, 4, 4, 4, 4, 4, 4, 4, 4, 4, 4, 4, 4, 3, 4, 3, 3, 3, 3, 3, 1, 3, 3, 3, 3, 3, 3, 3, 3, 3, 3, 3, 3, 3, 3, 3, 3, 3, 3, 3, 3, 3, 3, 3, 3, 3, 3, 3, 3, 3, 3, 3, 3, 3, 3, 3, 3, 3, 3, 3, 3, 3, 3, 5, 5, 5, 4, 4, 4, 4, 4, 4, 4, 3, 3, 3, 3, 3, 3, 3, 3, 3, 3, 3, 3, 3, 3, 3, 3, 3, 3, 3, 3, 3, 3, 3, 3, 3, 3, 3, 3, 3, 3, 3, 3, 3, 3, 3, 3, 3, 3, 3, 3, 3, 3, 3, 3, 3, 3, 3, 5, 5, 3, 3, 3, 5, 4, 3, 5, 3, 3, 3, 3, 3, 3, 3, 3, 5, 5, 5, 5, 4, 4, 4, 4, 3, 3, 3, 4, 4, 4, 3, 3, 3, 3, 3, 3, 3, 3, 3, 3, 3, 3, 1, 1, 1, 1, 1, 4, 4, 4, 4, 3, 3, 3, 3, 3, 3, 3, 3, 3, 3, 3, 3, 3, 3, 3, 3, 3, 3, 3, 1, 3, 3, 3, 3, 3, 3, 3, 3, 3, 3, 3, 3, 3, 3, 3, 3, 3, 3, 3, 3, 3, 3, 3, 3, 3, 3, 3, 3, 3, 3, 3, 3, 3, 3, 3, 3, 3, 3, 3, 3, 3, 3, 3, 3, 3, 3, 3, 3, 3, 3, 3, 3, 3, 3, 3, 3, 3, 3, 3, 3, 3, 3, 3, 3, 3, 3, 3, 3, 3, 3, 3, 3, 3, 3, 3, 3, 3, 3, 3, 3, 3, 3, 3, 3, 4, 4, 3, 3, 3, 3, 3, 3, 3, 3, 1, 1, 1, 4, 4, 3, 3, 3, 1, 1, 1, 3, 3, 3, 3, 3, 3, 3, 3, 3, 3, 3, 3, 3, 3, 3, 3, 3, 3, 3, 3, 3, 3, 3, 3, 3, 3, 3, 3, 3, 3, 3, 3, 3, 3, 5, 5, 5, 3, 3, 3, 3, 3, 3, 3, 3, 3, 3, 3, 3, 3, 3, 3, 1, 1, 1, 3, 5, 4, 4, 4, 4, 3, 3, 3, 3, 3, 3, 3, 3, 3, 3, 3, 3, 3, 3, 3, 3, 3, 3, 3, 3, 3, 3, 3, 3, 3, 3, 3, 3, 3, 3, 3, 3, 3, 3, 3, 3, 3, 4, 4, 4, 4, 4, 4, 4, 4, 3, 3, 3, 3, 3, 4, 3, 3, 3, 3, 3, 3, 3, 3, 3, 3, 3, 3, 3, 3, 3, 3, 3, 3, 3, 3, 1, 5, 4, 4, 4, 4, 4, 4, 4, 4, 3, 3, 3, 4, 3, 3, 3, 3, 3, 3, 3, 3, 3, 3, 5, 5, 3, 3, 3, 3, 3, 3, 3, 3, 3, 3, 3, 3, 3, 3, 3, 3, 3, 3, 3, 3, 3, 3, 3, 3, 3, 3, 3, 3, 3, 3, 3, 3, 3, 3, 3, 3, 3, 3, 3, 3, 3, 3, 3, 3, 3, 3, 3, 3, 3, 3, 3, 3, 3, 3, 3, 3, 3, 3, 3, 4, 4, 4, 3, 3, 3, 3, 3, 3, 3, 3, 3, 3, 3, 3, 3, 3, 3, 5, 4, 4, 4, 4, 4, 4, 4, 4, 3, 3, 3, 4, 4, 3, 3, 3, 3, 3, 5, 4, 4, 4, 4, 3, 3, 3, 3, 3, 3, 3, 3, 3, 3, 3, 1, 1, 5, 4, 4, 4, 4, 4, 4, 4, 4, 4, 4, 4, 4, 3, 3, 3, 3, 3, 3, 3, 3, 3, 3, 3, 3, 3, 3, 3, 3, 3, 3, 3, 3, 3, 3, 1, 1, 1, 1, 1, 1, 1, 1, 5, 4, 4, 4, 4, 4, 4, 4, 4, 4, 4, 4, 4, 4, 4, 4, 4, 4, 4, 4, 4, 3, 3, 3, 3, 3, 3, 3, 3, 3, 3, 3, 3, 3, 3, 3, 3, 3, 3, 3, 4, 3, 3, 3, 3, 3, 3, 3, 3, 3, 3, 3, 3, 3, 3, 3, 3, 3, 3, 3, 3, 3, 3, 3, 0, 0, 0, 0, 3, 3, 3, 3, 3, 3, 3, 3, 3, 3, 3, 3, 3, 3, 4, 4, 4, 3, 3, 3, 3, 3, 3, 3, 3, 3, 3, 3, 3, 3, 3, 3, 3, 3, 3, 3, 3, 3, 3, 3, 3, 0, 3, 3, 3, 3, 3, 3, 3, 3, 3, 3, 3, 3, 3, 3, 3, 3, 3, 3, 3, 3, 3, 3, 1, 3, 3, 0, 0, 3, 3, 3, 3, 3, 3, 3, 3, 3, 3, 3, 3, 3, 3, 3, 3, 3, 3, 3, 3, 3, 3, 3, 3, 3, 5, 5, 5, 5, 5, 3, 3, 3, 3, 3, 4, 3, 4, 4, 4, 4, 4, 4, 4, 4, 4, 4, 4, 3, 4, 4, 4, 4, 4, 4, 3, 3, 3, 3, 3, 3, 3, 3, 5, 3, 3, 3, 3, 5, 5, 4, 4, 3, 3, 3, 3, 3, 3, 3, 3, 3, 3, 3, 3, 5, 4, 4, 4, 4, 4, 4, 4, 4, 4, 4, 4, 4, 4, 3, 3, 3, 3, 3, 3, 3, 3, 3, 3, 3, 3, 3, 3, 3, 3, 3, 3, 3, 3, 3, 3, 3, 3, 3, 3, 3, 3, 3, 3, 3, 3, 3, 1, 1, 1, 1, 1, 3, 3, 3, 3, 3, 3, 3, 3, 3, 3, 5, 5, 5, 5, 5, 3, 3, 3, 3, 3, 3, 3, 3, 3, 3, 3, 3, 3, 3, 3, 3, 3, 3, 3, 3, 3, 3, 3, 3, 3, 3, 3, 3, 3, 3, 3, 3, 3, 3, 3, 3, 3, 3, 3, 3, 3, 3, 3, 3, 3, 3, 3, 3, 3, 3, 3, 3, 3, 3, 3, 3, 3, 3, 3, 3, 3, 3, 3, 3, 3, 3, 3, 3, 3, 3, 3, 3, 3, 3, 3, 3, 3, 3, 3, 1, 1, 1, 1, 1, 1, 1, 1, 5, 5, 4, 4, 3, 3, 3, 3, 3, 3, 3, 3, 3, 3, 3, 3, 3, 5, 4, 4, 4, 4, 4, 4, 4, 4, 4, 4, 4, 3, 3, 3, 3, 3, 3, 3, 3, 3, 3, 3, 3, 3, 3, 3, 3, 3, 3, 3, 3, 3, 3, 3, 3, 4, 4, 3, 3, 3, 3, 3, 3, 3, 3, 4, 3, 3, 3, 4, 4, 4, 4, 4, 3, 3, 3, 3, 3, 3, 3, 3, 3, 3, 3, 3, 3, 3, 3, 3, 3, 3, 3, 3, 3, 3, 3, 3, 3, 3, 3, 3, 3, 5, 4, 4, 4, 4, 4, 4, 4, 4, 4, 3, 3, 3, 3, 3, 3, 3, 3, 3, 3, 3, 3, 3, 3, 3, 3, 3, 3, 3, 3, 3, 3, 3, 3, 4, 4, 4, 4, 4, 4, 4, 4, 4, 4, 4, 4, 4, 4, 4, 4, 3, 3, 3, 3, 3, 3, 3, 3, 3, 3, 4, 4, 3, 1, 1, 1, 1, 1, 1, 1, 1, 1, 1, 1, 1, 1, 1, 1, 1, 1, 1, 1, 1, 1, 1, 1, 1, 1, 1, 1, 1, 1, 1, 1, 3, 4, 3, 3, 3, 3, 3, 3, 3, 3, 3, 3, 3, 3, 1, 1, 1, 1, 1, 1, 4, 4, 4, 4, 3, 3, 4, 4, 4, 4, 4, 4, 4, 4, 4, 4, 4, 3, 3, 3, 3, 3, 3, 3, 3, 3, 3, 3, 3, 3, 3, 3, 3, 3, 3, 3, 3, 3, 3, 3, 3, 4, 4, 4, 4, 3, 3, 4, 3, 3, 3, 3, 3, 5, 4, 4, 4, 4, 3, 4, 4, 4, 4, 4, 3, 3, 1, 3, 3, 3, 3, 3, 3, 4, 4, 4, 4, 4, 4, 4, 3, 3, 3, 3, 3, 3, 3, 3, 3, 3, 3, 3, 3, 3, 3, 3, 3, 3, 3, 0, 5, 5, 5, 3, 3, 3, 3, 3, 3, 3, 3, 3, 3, 3, 3, 3, 3, 3, 3, 3, 3, 3, 3, 3, 5, 4, 4, 3, 3, 3, 3, 3, 3, 3, 3, 3, 3, 3, 3, 3, 5, 5, 4, 4, 4, 4, 4, 4, 4, 4, 4, 4, 4, 4, 4, 4, 4, 4, 4, 4, 3, 3, 3, 1, 1, 1, 1, 1, 1, 1, 4, 3, 3, 3, 3, 3, 3, 3, 3, 3, 3, 3, 3, 1, 3, 3, 3, 3, 3, 3, 3, 3, 3, 3, 3, 3, 3, 3, 3, 3, 3, 3, 3, 3, 3, 3, 3, 3, 3, 3, 3, 3, 3, 3, 3, 1, 1, 1, 1, 1, 1, 1, 1, 1, 1, 1, 1, 1, 1, 1, 1, 1, 1, 1, 1, 1, 1, 5, 4, 4, 4, 4, 4, 4, 4, 4, 4, 4, 4, 4, 4, 4, 4, 4, 4, 4, 4, 3, 3, 3, 3, 5, 5, 5, 5, 4, 3, 3, 3, 3, 3, 3, 3, 3, 1, 1, 1, 1, 1, 4, 3, 3, 3, 3, 3, 3, 3, 3, 1, 4, 4, 4, 4, 4, 4, 4, 4, 3, 3, 3, 3, 3, 3, 3, 3, 3, 3, 3, 3, 3, 3, 3, 3, 3, 3, 3, 3, 3, 3, 3, 3, 3, 3, 3, 3, 3, 3, 3, 3, 3, 3, 3, 3, 3, 3, 3, 3, 3, 3, 3, 3, 3, 3, 3, 3, 3, 3, 3, 3, 3, 3, 3, 3, 3, 3, 3, 3, 3, 3, 3, 3, 3, 3, 3, 3, 3, 3, 3, 3, 3, 3, 3, 3, 3, 3, 3, 3, 3, 3, 3, 3, 0, 3, 3, 3, 4, 4, 4, 4, 4, 4, 4, 4, 4, 4, 4, 4, 3, 3, 3, 3, 3, 5, 3, 1, 3, 4, 4, 3, 3, 3, 3, 4, 4, 4, 4, 4, 4, 4, 4, 4, 4, 4, 4, 4, 3, 3, 3, 3, 3, 5, 4, 3, 3, 3, 3, 3, 3, 3, 3, 3, 3, 3, 3, 3, 3, 3, 3, 3, 0, 0, 0, 0, 0, 5, 4, 4, 4, 4, 4, 4, 4, 4, 4, 4, 4, 4, 4, 4, 4, 4, 4, 4, 4, 4, 4, 4, 4, 3, 3, 3, 3, 3, 3, 3, 3, 3, 3, 3, 3, 3, 3, 3, 3, 3, 3, 3, 3, 3, 3, 3, 3, 3, 3, 3, 3, 3, 3, 3, 3, 4, 4, 4, 4, 4, 4, 4, 4, 3, 3, 3, 3, 3, 3, 3, 3, 3, 3, 4, 4, 3, 3, 3, 3, 3, 3, 3, 3, 3, 3, 3, 3, 3, 3, 3, 3, 3, 3, 3, 3, 3, 3, 3, 3, 1, 1, 5, 3, 3, 3, 3, 3, 3, 1, 1, 1, 5, 3, 3, 3, 3, 3, 3, 3, 3, 0, 0, 0, 5, 4, 3, 3, 3, 3, 3, 3, 3, 3, 3, 3, 3, 3, 3, 3, 3, 3, 3, 0, 5, 3, 3, 3, 3, 3, 3, 3, 3, 4, 4, 4, 4, 4, 4, 3, 3, 3, 3, 3, 3, 3, 4, 4, 4, 4, 4, 4, 4, 4, 4, 4, 4, 4, 4, 4, 4, 4, 4, 4, 4, 4, 4, 4, 4, 4, 4, 4, 4, 4, 3, 4, 4, 4, 4, 4, 3, 3, 3, 3, 3, 3, 3, 3, 3, 3, 3, 3, 3, 3, 3, 3, 3, 3, 3, 3, 3, 3, 3, 3, 3, 3, 3, 3, 3, 3, 3, 3, 3, 3, 3, 3, 3, 3, 3, 5, 3, 3, 3, 3, 3, 3, 3, 3, 3, 3, 3, 3, 3, 3, 3, 3, 3, 3, 3, 3, 3, 3, 3, 3, 3, 3, 3, 3, 3, 3, 3, 3, 3, 3, 3, 3, 3, 3, 3, 3, 3, 3, 3, 3, 3, 3, 3, 3, 3, 5, 5, 5, 3, 3, 3, 3, 3, 3, 3, 3, 3, 3, 3, 3, 3, 3, 4, 4, 4, 4, 4, 4, 4, 4, 4, 4, 4, 3, 3, 3, 3, 3, 3, 3, 3, 3, 3, 3, 3, 3, 3, 3, 3, 3, 3, 3, 3, 3, 3, 3, 3, 3, 3, 3, 3, 3, 3, 3, 3, 5, 5, 4, 4, 4, 4, 4, 4, 4, 3, 3, 3, 3, 3, 3, 3, 3, 3, 3, 3, 3, 3, 3, 3, 3, 4, 4, 4, 4, 3, 3, 3, 3, 3, 3, 3, 3, 3, 4, 4, 4, 3, 3, 3, 3, 3, 3, 3, 3, 3, 3, 3, 3, 3, 3, 3, 3, 3, 3, 3, 3, 3, 3, 3, 3, 3, 3, 3, 3, 3, 3, 3, 3, 3, 3, 3, 3, 3, 3, 3, 3, 3, 3, 3, 3, 4, 3, 3, 3, 3, 3, 3, 3, 3, 3, 3, 3, 3, 3, 3, 3, 0, 0, 0, 0, 3, 3, 3, 3, 3, 3, 3, 3, 3, 3, 3, 3, 3, 3, 3, 3, 5, 4, 4, 4, 4, 3, 3, 3, 3, 3, 3, 3, 3, 1, 1, 1, 4, 4, 4, 4, 4, 4, 3, 3, 3, 3, 1, 5, 3, 3, 3, 3, 3, 3, 3, 3, 3, 3, 3, 3, 3, 0, 0, 0, 0, 3, 3, 3, 3, 3, 3, 3, 3, 3, 3, 3, 3, 3, 3, 3, 3, 3, 3, 3, 3, 3, 3, 3, 3, 3, 3, 3, 3, 3, 3, 3, 3, 3, 3, 3, 3, 3, 3, 3, 3, 3, 3, 3, 3, 3, 3, 3, 3, 5, 4, 4, 3, 3, 3, 3, 3, 3, 3, 3, 3, 3, 3, 3, 3, 3, 3, 3, 3, 3, 3, 3, 3, 4, 4, 4, 4, 4, 4, 4, 4, 4, 4, 4, 4, 3, 3, 3, 3, 3, 3, 3, 3, 3, 3, 3, 3, 3, 3, 3, 5, 5, 4, 4, 4, 4, 4, 4, 4, 4, 3, 3, 3, 3, 3, 3, 1, 1, 1, 4, 4, 4, 4, 4, 4, 4, 4, 4, 4, 4, 4, 3, 3, 3, 3, 3, 3, 3, 3, 3, 3, 1, 1, 1, 3, 3, 4, 4, 4, 4, 3, 3, 3, 3, 1, 3, 3, 3, 5, 3, 3, 3, 3, 3, 3, 3, 3, 3, 3, 3, 4, 4, 4, 4, 4, 4, 4, 4, 4, 4, 4, 4, 4, 4, 4, 4, 3, 3, 3, 3, 3, 3, 3, 3, 3, 1, 0, 0, 0, 0, 4, 4, 4, 4, 4, 4, 4, 4, 4, 4, 4, 4, 4, 4, 4, 4, 4, 4, 4, 4, 4, 4, 4, 4, 4, 4, 4, 4, 4, 4, 3, 3, 3, 5, 4, 4, 4, 3, 3, 3, 3, 3, 3, 3, 1, 1, 5, 5, 4, 3, 3, 3, 3, 3, 3, 4, 3, 3, 3, 3, 3, 3, 3, 3, 3, 3, 3, 3, 3, 3, 3, 3, 3, 3, 3, 3, 3, 3, 3, 3, 3, 3, 3, 3, 3, 3, 3, 3, 1, 3, 3, 3, 3, 3, 3, 3, 3, 3, 3, 3, 5, 5, 5, 3, 3, 3, 3, 3, 3, 3, 3, 5, 5, 4, 4, 4, 4, 4, 3, 3, 3, 3, 3, 3, 3, 3, 3, 3, 3, 3, 3, 3, 3, 3, 3, 3, 3, 3, 3, 3, 3, 3, 3, 3, 3, 3, 3, 3, 3, 3, 3, 3, 3, 3, 3, 3, 3, 3, 3, 3, 3, 3, 3, 3, 3, 3, 3, 3, 3, 1, 1, 1, 1, 3, 3, 3, 3, 3, 3, 3, 3, 3, 3, 3, 3, 3, 3, 3, 3, 3, 3, 3, 3, 3, 3, 3, 3, 3, 3, 3, 3, 0, 0, 4, 4, 3, 3, 3, 3, 3, 3, 3, 3, 3, 3, 3, 3, 3, 3, 3, 3, 3, 3, 3, 3, 3, 3, 3, 3, 3, 3, 3, 3, 1, 1, 1, 1, 3, 3, 3, 3, 3, 3, 3, 1, 1, 1, 1, 1, 1, 1, 3, 3, 3, 3, 3, 5, 3, 3, 3, 3, 3, 3, 4, 4, 4, 3, 3, 3, 3, 3, 3, 3, 3, 3, 3, 3, 3, 3, 3, 3, 3, 3, 3, 3, 3, 3, 3, 3, 3, 3, 3, 3, 3, 3, 3, 3, 3, 3, 3, 3, 3, 3, 3, 3, 3, 3, 3, 3, 3, 3, 3, 3, 3, 3, 3, 3, 3, 3, 3, 3, 3, 3, 3, 3, 3, 3, 3, 3, 3, 3, 3, 3, 3, 3, 3, 3, 3, 3, 3, 3, 3, 3, 3, 3, 3, 3, 3, 3, 3, 3, 3, 3, 3, 3, 3, 3, 3, 3, 3, 3, 3, 1, 1, 1, 1, 1, 1, 1, 3, 3, 3, 3, 3, 3, 3, 3, 3, 3, 3, 3, 3, 3, 3, 3, 3, 3, 3, 3, 3, 3, 3, 3, 3, 3, 3, 3, 3, 3, 3, 3, 3, 3, 3, 3, 3, 3, 3, 3, 3, 3, 3, 3, 3, 3, 3, 3, 3, 3, 3, 3, 3, 3, 3, 3, 3, 3, 3, 3, 3, 3, 3, 3, 3, 3, 3, 3, 3, 3, 3, 3, 3, 3, 3, 3, 0, 0, 0, 0, 0, 0, 0, 3, 3, 3, 3, 3, 3, 3, 3, 3, 3, 3, 3, 3, 3, 3, 3, 3, 4, 4, 4, 4, 4, 4, 4, 4, 4, 4, 4, 4, 4, 4, 4, 4, 4, 4, 4, 4, 4, 4, 4, 4, 4, 4, 4, 4, 4, 4, 4, 4, 4, 4, 4, 4, 4, 3, 3, 3, 3, 3, 3, 3, 3, 3, 3, 3, 3, 3, 3, 3, 3, 3, 3, 3, 3, 3, 3, 3, 3, 3, 3, 3, 3, 3, 3, 3, 3, 3, 3, 3, 3, 3, 3, 3, 3, 3, 3, 5, 5, 4, 4, 4, 4, 3, 3, 3, 3, 3, 3, 3, 3, 3, 3, 3, 3, 3, 3, 3, 3, 3, 1, 1, 4, 4, 4, 4, 4, 4, 4, 3, 3, 3, 3, 3, 3, 3, 3, 3, 3, 3, 3, 3, 3, 3, 3, 3, 3, 3, 3, 3, 3, 3, 3, 3, 3, 3, 3, 3, 4, 4, 4, 3, 3, 3, 3, 3, 3, 3, 3, 3, 3, 3, 3, 3, 3, 3, 3, 3, 3, 3, 3, 3, 3, 3, 3, 3, 3, 3, 3, 3, 3, 3, 3, 3, 3, 3, 3, 3, 3, 5, 3, 3, 3, 3, 3, 3, 3, 3, 3, 3, 3, 3, 3, 3, 3, 3, 3, 3, 3, 3, 3, 3, 3, 3, 3, 3, 3, 3, 3, 3, 3, 3, 3, 3, 3, 3, 3, 3, 3, 3, 3, 3, 3, 3, 3, 3, 3, 3, 3, 3, 3, 3, 3, 3, 3, 3, 3, 3, 3, 3, 3, 3, 3, 3, 3, 3, 3, 3, 3, 3, 3, 3, 3, 3, 3, 3, 1, 3, 3, 3, 3, 4, 4, 4, 4, 4, 4, 4, 4, 4, 3, 3, 3, 3, 3, 3, 3, 1, 1, 1, 1, 1, 1, 1, 1, 1, 4, 4, 4, 4, 4, 4, 4, 4, 4, 4, 4, 4, 4, 4, 4, 3, 3, 3, 3, 3, 3, 3, 3, 3, 3, 3, 3, 3, 3, 3, 3, 3, 3, 3, 3, 3, 3, 1, 1, 1, 1, 1, 1, 1, 1, 5, 5, 5, 5, 4, 4, 4, 4, 4, 3, 3, 3, 3, 3, 3, 3, 3, 3, 3, 1, 1, 3, 3, 3, 3, 3, 3, 3, 3, 3, 3, 3, 3, 3, 3, 3, 3, 3, 3, 3, 3, 3, 4, 4, 4, 4, 4, 4, 4, 4, 4, 4, 4, 4, 4, 4, 4, 4, 4, 4, 4, 4, 4, 4, 4, 4, 4, 4, 4, 4, 4, 4, 4, 4, 4, 4, 4, 4, 4, 4, 4, 3, 3, 3, 3, 3, 3, 3, 3, 3, 3, 3, 3, 3, 3, 3, 3, 3, 3, 3, 3, 3, 3, 3, 5, 5, 4, 4, 4, 4, 4, 3, 3, 3, 3, 3, 3, 3, 3, 3, 3, 3, 3, 3, 3, 3, 3, 3, 3, 3, 3, 3, 3, 3, 1, 1, 1, 1, 3, 3, 3, 3, 3, 3, 3, 3, 3, 3, 3, 3, 3, 3, 3, 3, 3, 3, 3, 3, 3, 3, 3, 3, 3, 3, 3, 3, 3, 3, 3, 3, 3, 3, 1, 1, 1, 1, 1, 1, 1, 1, 5, 5, 4, 4, 4, 4, 4, 4, 4, 4, 4, 4, 4, 4, 4, 4, 4, 4, 4, 4, 4, 4, 4, 4, 4, 3, 3, 3, 3, 3, 3, 3, 3, 3, 3, 3, 3, 3, 3, 3, 3, 3, 3, 3, 3, 3, 3, 3, 3, 3, 3, 3, 3, 3, 3, 3, 3, 3, 3, 3, 3, 3, 3, 3, 3, 3, 3, 5, 3, 4, 4, 4, 4, 4, 4, 3, 3, 3, 3, 3, 3, 3, 3, 3, 3, 3, 3, 3, 3, 3, 3, 3, 3, 3, 3, 3, 3, 3, 3, 3, 3, 3, 3, 3, 3, 3, 3, 3, 3, 3, 3, 3, 3, 3, 3, 3, 3, 3, 3, 3, 3, 3, 3, 3, 3, 3, 3, 3, 3, 3, 3, 3, 3, 3, 3, 3, 3, 3, 3, 3, 3, 3, 3, 3, 3, 3, 3, 3, 3, 3, 3, 3, 4, 4, 4, 4, 4, 4, 4, 4, 4, 4, 4, 4, 3, 3, 3, 3, 3, 3, 3, 1, 3, 3, 3, 3, 1, 3, 3, 3, 3, 3, 0, 0, 0, 0, 0, 0, 0, 0, 0, 0, 5, 3, 3, 3, 3, 3, 3, 3, 3, 3, 3, 3, 3, 3, 3, 3, 3, 3, 3, 3, 3, 3, 1, 1, 1, 1, 1, 1, 1, 1, 1, 1, 1, 1, 1, 1, 1, 1, 1, 1, 1, 1, 1, 5, 5, 5, 5, 5, 5, 4, 4, 4, 4, 4, 3, 3, 3, 3, 3, 3, 3, 3, 3, 3, 3, 3, 3, 3, 3, 3, 3, 3, 3, 3, 3, 5, 3, 3, 3, 3, 3, 3, 3, 3, 3, 3, 3, 3, 3, 3, 3, 3, 3, 3, 3, 3, 3, 3, 4, 4, 4, 4, 4, 3, 3, 3, 3, 5, 5, 5, 4, 4, 4, 4, 4, 4, 4, 4, 4, 3, 3, 3, 3, 3, 3, 3, 3, 3, 3, 3, 3, 3, 3, 3, 3, 3, 3, 3, 3, 3, 3, 5, 5, 3, 3, 3, 3, 3, 3, 3, 3, 3, 3, 3, 3, 3, 3, 3, 3, 3, 3, 3, 3, 3, 5, 4, 4, 4, 4, 4, 4, 4, 4, 4, 4, 4, 4, 4, 4, 4, 4, 4, 3, 3, 3, 3, 5, 4, 4, 4, 4, 4, 3, 3, 3, 3, 3, 3, 3, 3, 3, 3, 3, 3, 3, 3, 3, 5, 5, 4, 4, 4, 4, 4, 4, 4, 4, 4, 4, 4, 4, 4, 3, 3, 3, 3, 3, 3, 3, 3, 3, 3, 3, 3, 3, 3, 3, 3, 3, 3, 3, 3, 3, 3, 3, 3, 3, 3, 5, 5, 3, 3, 3, 3, 3, 3, 3, 1, 0, 0, 0, 5, 3, 3, 3, 3, 5, 5, 4, 4, 4, 4, 3, 3, 3, 3, 3, 3, 3, 3, 5, 4, 4, 4, 4, 4, 4, 3, 3, 3, 3, 3, 1, 1, 1, 5, 3, 3, 3, 3, 3, 3, 3, 3, 3, 3, 3, 3, 3, 3, 3, 3, 3, 3, 3, 3, 3, 3, 3, 3, 3, 3, 1, 1, 1, 1, 1, 3, 3, 3, 3, 3, 3, 3, 5, 4, 4, 4, 4, 3, 3, 3, 3, 3, 3, 3, 3, 3, 3, 3, 3, 3, 3, 3, 3, 3, 3, 3, 3, 3, 3, 3, 3, 3, 3, 3, 3, 3, 3, 3, 3, 3, 3, 3, 3, 3, 3, 3, 3, 3, 3, 3, 3, 3, 3, 3, 3, 3, 5, 5, 3, 3, 3, 3, 3, 3, 3, 3, 3, 3, 5, 4, 3, 3, 4, 4, 4, 4, 4, 4, 4, 4, 3, 3, 3, 3, 3, 3, 3, 3, 3, 3, 3, 3, 3, 3, 3, 3, 3, 3, 3, 3, 3, 3, 3, 3, 3, 3, 3, 3, 3, 3, 3, 3, 3, 5, 5, 5, 5, 5, 4, 4, 4, 4, 4, 4, 4, 4, 4, 4, 4, 4, 3, 4, 4, 4, 4, 4, 4, 3, 3, 3, 3, 3, 3, 3, 3, 3, 3, 3, 3, 3, 3, 3, 3, 3, 3, 3, 3, 3, 3, 3, 3, 3, 3, 3, 3, 3, 3, 3, 3, 3, 3, 3, 3, 3, 3, 3, 3, 3, 3, 3, 3, 3, 3, 3, 3, 3, 3, 3, 3, 3, 3, 3, 3, 3, 0, 0, 0, 0, 0, 0, 5, 4, 4, 4, 4, 4, 4, 4, 4, 4, 4, 4, 4, 4, 4, 3, 3, 3, 3, 1, 5, 5, 3, 3, 3, 3, 4, 4, 3, 3, 3, 3, 3, 3, 3, 3, 3, 3, 3, 3, 3, 3, 3, 3, 3, 3, 3, 3, 3, 3, 5, 5, 3, 3, 3, 1, 1, 3, 3, 3, 3, 3, 3, 3, 3, 3, 3, 3, 3, 3, 3, 3, 3, 3, 3, 3, 1, 4, 4, 4, 4, 3, 3, 3, 3, 3, 3, 3, 3, 3, 3, 3, 3, 3, 3, 3, 3, 3, 3, 3, 3, 3, 3, 3, 3, 3, 3, 3, 3, 3, 3, 3, 3, 3, 3, 3, 3, 3, 3, 0, 0, 0, 5, 5, 4, 4, 4, 4, 3, 3, 3, 3, 4, 4, 3, 1, 1, 4, 4, 4, 3, 3, 3, 3, 3, 3, 3, 3, 3, 3, 3, 3, 3, 3, 1, 1, 1, 1, 1, 3, 3, 3, 3, 3, 3, 3, 3, 3, 3, 1, 1, 1, 1, 1, 1, 1, 1, 1, 1, 1, 1, 1, 1, 1, 3, 3, 3, 3, 3, 3, 3, 3, 3, 3, 3, 3, 3, 3, 3, 3, 3, 3, 4, 3, 3, 3, 4, 3, 3, 3, 3, 3, 1, 1, 1, 5, 3, 3, 3, 3, 3, 4, 4, 4, 3, 3, 3, 3, 3, 3, 3, 3, 3, 3, 3, 3, 3, 3, 3, 3, 3, 4, 3, 3, 3, 3, 3, 3, 3, 3, 3, 3, 3, 3, 3, 3, 3, 3, 3, 3, 3, 3, 4, 4, 3, 3, 3, 3, 3, 3, 3, 3, 3, 3, 3, 3, 4, 4, 4, 3, 3, 3, 3, 3, 3, 3, 3, 3, 3, 3, 3, 3, 3, 3, 3, 3, 3, 3, 3, 3, 3, 3, 3, 3, 3, 3, 3, 3, 3, 3, 3, 3, 3, 3, 3, 3, 3, 1, 1, 1, 0, 0, 3, 3, 3, 3, 3, 5, 5, 5, 5, 5, 5, 4, 4, 4, 4, 4, 4, 4, 4, 4, 4, 3, 3, 3, 3, 3, 3, 3, 3, 3, 3, 3, 3, 3, 3, 3, 3, 3, 3, 3, 3, 3, 3, 3, 3, 3, 1, 1, 1, 1, 1, 3, 3, 3, 3, 3, 3, 3, 3, 3, 3, 3, 3, 3, 3, 3, 3, 3, 3, 3, 3, 3, 3, 3, 3, 3, 3, 3, 3, 3, 3, 3, 3, 4, 4, 4, 4, 4, 4, 4, 4, 3, 3, 3, 3, 5, 3, 3, 4, 4, 4, 3, 3, 3, 4, 4, 3, 3, 3, 3, 3, 3, 3, 3, 3, 5, 3, 3, 3, 3, 3, 3, 3, 3, 3, 3, 3, 3, 3, 3, 3, 3, 3, 3, 3, 3, 3, 3, 3, 5, 3, 3, 3, 3, 3, 3, 3, 3, 0, 0, 0, 0, 0, 0, 0, 0, 3, 3, 3, 3, 3, 3, 3, 3, 3, 3, 3, 3, 3, 3, 3, 3, 3, 3, 3, 3, 3, 3, 3, 3, 3, 3, 3, 3, 3, 3, 3, 3, 3, 3, 3, 3, 3, 3, 3, 3, 3, 3, 3, 1, 3, 3, 3, 3, 3, 3, 4, 3, 3, 3, 3, 3, 3, 3, 3, 3, 3, 3, 3, 3, 3, 3, 3, 0, 0, 0, 5, 5, 3, 3, 3, 3, 3, 3, 3, 3, 3, 5, 3, 3, 3, 3, 3, 3, 3, 3, 3, 3, 3, 3, 3, 3, 3, 3, 3, 3, 4, 4, 4, 4, 4, 4, 4, 4, 4, 4, 4, 4, 3, 3, 3, 3, 3, 3, 3, 3, 3, 3, 1, 1, 1, 3, 3, 3, 3, 3, 3, 3, 1, 5, 4, 4, 4, 4, 3, 4, 4, 4, 4, 3, 4, 4, 4, 4, 4, 4, 4, 3, 3, 3, 3, 3, 3, 3, 3, 3, 3, 3, 3, 3, 3, 3, 3, 3, 3, 1, 1, 1, 1, 1, 1, 1, 1, 1, 1, 1, 5, 4, 4, 4, 4, 4, 4, 4, 4, 4, 4, 4, 4, 4, 4, 4, 4, 4, 4, 4, 4, 4, 4, 4, 4, 4, 4, 4, 4, 4, 4, 4, 4, 3, 3, 3, 3, 3, 3, 3, 3, 3, 3, 3, 3, 3, 3, 3, 3, 3, 3, 3, 3, 3, 3, 3, 3, 3, 1, 5, 3, 3, 3, 3, 3, 3, 3, 3, 3, 5, 4, 3, 3, 3, 3, 3, 3, 3, 3, 3, 3, 1, 1, 1, 1, 1, 3, 3, 3, 3, 3, 3, 3, 3, 3, 3, 3, 3, 1, 5, 4, 4, 4, 4, 4, 4, 4, 3, 3, 3, 3, 3, 3, 3, 3, 4, 4, 4, 4, 4, 4, 4, 4, 4, 4, 4, 4, 4, 4, 4, 4, 4, 4, 4, 4, 4, 4, 4, 4, 4, 4, 4, 4, 4, 4, 3, 3, 1, 1, 1, 0, 4, 4, 3, 3, 3, 3, 3, 3, 3, 3, 3, 3, 3, 3, 1, 1, 1, 1, 1, 1, 1, 1, 1, 1, 1, 1, 1, 5, 5, 4, 4, 4, 3, 3, 3, 3, 3, 3, 3, 3, 3, 3, 3, 3, 3, 3, 3, 3, 3, 3, 3, 3, 3, 3, 3, 3, 3, 3, 3, 3, 3, 3, 3, 3, 3, 3, 3, 3, 3, 3, 4, 3, 3, 3, 3, 3, 3, 3, 3, 3, 1, 1, 1, 1, 1, 1, 5, 4, 3, 3, 3, 3, 3, 5, 3, 3, 3, 3, 3, 3, 3, 3, 3, 3, 3, 3, 3, 3, 3, 3, 3, 3, 3, 3, 3, 3, 3, 3, 3, 3, 3, 3, 3, 3, 5, 5, 3, 3, 3, 3, 3, 3, 3, 3, 3, 3, 3, 3, 3, 3, 3, 3, 3, 3, 3, 3, 3, 5, 5, 4, 3, 3, 3, 4, 4, 3, 3, 3, 3, 3, 3, 3, 4, 3, 3, 3, 3, 3, 3, 3, 3, 3, 3, 3, 3, 3, 3, 3, 3, 3, 3, 3, 3, 3, 3, 3, 3, 4, 4, 4, 4, 3, 4, 4, 4, 4, 4, 4, 4, 4, 3, 3, 3, 3, 3, 3, 3, 3, 3, 3, 3, 3, 3, 3, 3, 3, 3, 3, 3, 3, 3, 3, 3, 3, 3, 3, 3, 3, 3, 3, 3, 3, 3, 3, 3, 3, 3, 3, 3, 3, 3, 3, 3, 3, 3, 3, 3, 3, 3, 3, 3, 5, 3, 3, 3, 3, 3, 3, 3, 3, 3, 3, 3, 3, 3, 3, 4, 3, 3, 3, 3, 3, 3, 3, 3, 1, 1, 1, 4, 3, 3, 3, 3, 3, 3, 3, 3, 3, 3, 3, 3, 3, 3, 5, 4, 4, 3, 4, 3, 3, 3, 3, 3, 3, 3, 3, 3, 3, 3, 3, 3, 3, 3, 3, 1, 1, 4, 4, 4, 4, 4, 4, 4, 4, 4, 4, 4, 4, 4, 3, 4, 4, 4, 3, 3, 3, 3, 3, 3, 3, 3, 3, 3, 3, 5, 5, 5, 5, 5, 5, 5, 5, 5, 5, 5, 4, 4, 4, 4, 4, 4, 4, 4, 4, 4, 4, 4, 4, 4, 4, 4, 3, 3, 3, 3, 3, 3, 3, 3, 3, 3, 3, 3, 3, 3, 3, 3, 3, 3, 3, 3, 3, 3, 1, 1, 1, 1, 1, 4, 4, 4, 4, 4, 4, 4, 3, 3, 3, 3, 5, 4, 4, 3, 3, 3, 3, 3, 3, 3, 3, 4, 3, 3, 3, 3, 3, 3, 3, 3, 3, 3, 3, 3, 3, 3, 3, 3, 3, 3, 3, 3, 3, 3, 3, 3, 5, 4, 4, 4, 4, 4, 4, 3, 3, 3, 3, 3, 3, 3, 3, 3, 3, 3, 3, 3, 3, 3, 3, 3, 3, 3, 3, 3, 5, 5, 5, 5, 5, 3, 3, 3, 3, 3, 3, 3, 3, 3, 3, 3, 3, 3, 3, 3, 3, 3, 3, 3, 3, 3, 3, 3, 3, 3, 3, 3, 3, 3, 1, 3, 3, 3, 3, 3, 3, 3, 3, 3, 3, 3, 3, 5, 3, 3, 3, 3, 3, 3, 3, 3, 3, 3, 3, 3, 3, 3, 3, 3, 3, 3, 3, 3, 3, 3, 3, 3, 3, 3, 3, 4, 4, 4, 3, 3, 3, 4, 3, 3, 3, 3, 3, 3, 3, 3, 3, 3, 3, 3, 3, 3, 3, 4, 4, 4, 4, 4, 4, 4, 4, 3, 3, 3, 3, 3, 3, 3, 3, 3, 3, 3, 3, 3, 3, 3, 3, 3, 3, 3, 3, 3, 3, 3, 3, 3, 4, 4, 4, 4, 4, 4, 4, 4, 4, 4, 4, 4, 4, 4, 4, 4, 4, 4, 4, 4, 4, 4, 4, 4, 4, 4, 4, 4, 4, 4, 4, 4, 4, 4, 4, 4, 4, 4, 4, 4, 4, 4, 4, 4, 4, 4, 4, 4, 4, 4, 4, 4, 4, 4, 4, 4, 4, 4, 4, 4, 4, 4, 4, 4, 4, 3, 3, 3, 3, 3, 0, 0, 4, 4, 4, 4, 4, 4, 4, 4, 3, 3, 3, 3, 3, 3, 3, 3, 3, 3, 3, 3, 3, 3, 3, 3, 3, 3, 3, 3, 3, 3, 3, 3, 3, 3, 3, 3, 3, 3, 3, 3, 3, 3, 3, 3, 3, 3, 3, 3, 3, 3, 3, 3, 3, 3, 3, 1, 1, 1, 1, 1, 1, 1, 1, 1, 3, 3, 3, 3, 3, 3, 3, 5, 5, 5, 5, 1, 1, 1, 1, 1, 1, 1, 1, 1, 1, 1, 1, 1, 1, 1, 1, 1, 1, 1, 1, 1, 1, 1, 1, 1, 1, 1, 1, 1, 1, 1, 3, 3, 3, 3, 3, 3, 3, 1, 0, 0, 3, 3, 3, 3, 3, 3, 3, 3, 3, 3, 3, 4, 4, 3, 3, 3, 3, 3, 3, 3, 3, 3, 3, 3, 3, 3, 3, 3, 3, 1, 4, 4, 4, 4, 3, 3, 3, 1, 3, 3, 3, 3, 3, 1, 3, 3, 4, 4, 4, 4, 4, 4, 4, 4, 4, 4, 4, 4, 4, 4, 4, 4, 4, 4, 4, 4, 4, 4, 4, 4, 4, 4, 4, 3, 3, 3, 3, 3, 3, 3, 3, 5, 4, 4, 4, 4, 3, 3, 3, 3, 3, 3, 3, 3, 3, 3, 3, 3, 3, 3, 3, 3, 3, 3, 3, 3, 3, 3, 3, 3, 3, 3, 3, 3, 3, 3, 3, 4, 4, 4, 3, 3, 3, 3, 3, 3, 3, 3, 3, 3, 3, 3, 3, 3, 3, 3, 3, 3, 3, 3, 3, 3, 3, 3, 3, 3, 3, 3, 3, 3, 3, 3, 3, 3, 3, 3, 3, 3, 3, 3, 3, 3, 3, 3, 3, 3, 3, 3, 3, 3, 3, 3, 3, 3, 3, 3, 5, 5, 3, 3, 3, 3, 3, 3, 3, 3, 3, 3, 3, 3, 3, 3, 3, 3, 3, 3, 3, 3, 3, 3, 3, 3, 3, 3, 3, 3, 5, 5, 4, 4, 4, 4, 4, 4, 4, 4, 4, 4, 4, 4, 4, 4, 4, 4, 4, 4, 4, 4, 4, 4, 3, 3, 3, 3, 3, 3, 3, 3, 3, 3, 3, 3, 3, 3, 3, 3, 3, 3, 3, 1, 1, 1, 3, 3, 3, 3, 3, 3, 3, 3, 3, 3, 3, 3, 3, 3, 3, 3, 3, 3, 0, 0, 0, 0, 0, 0, 0, 3, 3, 3, 3, 3, 3, 3, 3, 3, 3, 3, 3, 3, 3, 3, 3, 3, 3, 3, 3, 3, 3, 3, 3, 3, 3, 3, 3, 3, 3, 3, 3, 3, 3, 3, 3, 3, 3, 3, 3, 3, 3, 3, 3, 3, 3, 5, 5, 4, 3, 3, 3, 3, 3, 3, 3, 3, 3, 3, 3, 3, 3, 5, 5, 5, 5, 5, 5, 3, 3, 3, 3, 3, 3, 3, 3, 3, 3, 3, 3, 3, 3, 3, 3, 3, 3, 3, 3, 3, 1, 1, 1, 1, 1, 1, 1, 1, 1, 1, 1, 1, 1, 1, 1, 1, 1, 1, 3, 3, 3, 3, 3, 3, 3, 3, 3, 3, 3, 3, 3, 3, 4, 4, 4, 4, 4, 4, 4, 4, 4, 4, 4, 4, 4, 4, 4, 3, 3, 3, 3, 3, 3, 3, 3, 3, 3, 3, 3, 5, 5, 4, 5, 4, 4, 3, 3, 3, 3, 3, 3, 3, 3, 3, 3, 3, 3, 3, 3, 3, 3, 3, 3, 1, 5, 4, 4, 4, 4, 3, 3, 3, 3, 3, 3, 3, 3, 4, 4, 4, 4, 3, 3, 0, 4, 4, 4, 4, 4, 4, 3, 3, 3, 3, 3, 3, 3, 3, 3, 3, 3, 3, 3, 3, 3, 3, 3, 3, 3, 3, 3, 3, 3, 3, 3, 3, 3, 3, 3, 3, 3, 3, 3, 3, 3, 3, 1, 1, 1, 5, 3, 3, 0, 3, 3, 3, 3, 3, 3, 3, 3, 3, 3, 3, 1, 3, 3, 3, 3, 3, 3, 4, 4, 4, 4, 4, 4, 4, 4, 4, 4, 4, 4, 4, 4, 3, 3, 3, 3, 3, 3, 3, 3, 3, 3, 3, 3, 3, 3, 3, 3, 1, 1, 1, 1, 1, 1, 1, 1, 1, 1, 1, 5, 5, 5, 4, 3, 3, 3, 4, 4, 4, 4, 4, 4, 4, 4, 4, 4, 4, 4, 4, 4, 3, 3, 3, 4, 3, 3, 3, 3, 3, 0, 0, 0, 0, 0, 0, 0, 0, 0, 0, 0, 5, 4, 4, 3, 3, 3, 3, 3, 3, 3, 3, 3, 3, 3, 3, 3, 3, 3, 3, 3, 1, 1, 1, 1, 1, 1, 1, 1, 1, 1, 1, 1, 3, 3, 4, 4, 4, 4, 4, 4, 4, 4, 4, 4, 4, 4, 4, 4, 4, 4, 4, 4, 4, 4, 4, 4, 4, 4, 4, 4, 4, 4, 4, 4, 4, 4, 4, 4, 4, 4, 4, 4, 4, 4, 4, 4, 4, 4, 4, 4, 4, 4, 3, 3, 3, 3, 3, 3, 3, 3, 3, 3, 3, 3, 3, 1, 1, 1, 1, 1, 1, 1, 1, 1, 1, 1, 1, 1, 1, 1, 1, 1, 1, 1, 1, 1, 1, 1, 1, 1, 1, 1, 1, 1, 1, 1, 1, 0, 0, 3, 5, 5, 4, 4, 3, 3, 3, 3, 4, 4, 4, 4, 4, 4, 4, 4, 4, 4, 4, 4, 4, 4, 4, 4, 4, 4, 4, 4, 4, 4, 4, 4, 3, 3, 3, 3, 4, 3, 3, 3, 3, 3, 3, 3, 3, 3, 3, 3, 3, 3, 3, 3, 3, 3, 3, 3, 3, 3, 3, 3, 3, 3, 3, 5, 5, 3, 3, 3, 3, 3, 3, 5, 4, 4, 4, 4, 3, 3, 3, 3, 3, 1, 1, 4, 4, 4, 4, 4, 4, 4, 4, 4, 4, 4, 4, 4, 4, 4, 4, 4, 4, 4, 4, 4, 4, 4, 4, 4, 4, 3, 5, 3, 3, 3, 4, 4, 4, 3, 3, 3, 3, 3, 3, 3, 3, 3, 3, 3, 3, 3, 1, 1, 1, 1, 1, 1, 1, 1, 1, 1, 1, 1, 1, 1, 1, 1, 1, 1, 1, 1, 1, 1, 1, 1, 1, 1, 1, 3, 3, 3, 3, 3, 3, 3, 3, 3, 4, 4, 3, 3, 3, 3, 3, 3, 3, 3, 3, 3, 3, 3, 3, 3, 3, 3, 3, 3, 3, 3, 3, 3, 3, 3, 3, 3, 3, 3, 3, 3, 3, 3, 3, 3, 3, 3, 3, 3, 3, 3, 3, 0, 0, 0, 0, 3, 3, 4, 4, 4, 3, 3, 3, 3, 3, 3, 3, 3, 3, 3, 3, 3, 3, 3, 3, 3, 3, 3, 3, 3, 0, 4, 3, 3, 3, 3, 1, 1, 1, 1, 1, 3, 3, 3, 3, 3, 3, 3, 3, 3, 3, 3, 3, 3, 3, 3, 3, 3, 3, 3, 3, 3, 3, 3, 3, 3, 3, 0, 0, 0, 0, 3, 3, 3, 3, 3, 3, 3, 3, 3, 3, 3, 3, 3, 3, 3, 3, 3, 3, 3, 3, 3, 3, 3, 3, 3, 3, 3, 3, 3, 3, 3, 3, 3, 3, 3, 3, 3, 3, 3, 3, 3, 3, 3, 3, 3, 3, 3, 3, 3, 3, 4, 4, 4, 4, 4, 4, 4, 4, 4, 4, 4, 4, 3, 3, 3, 3, 3, 3, 3, 3, 1, 1, 1, 3, 3, 3, 3, 3, 3, 3, 3, 3, 3, 3, 3, 3, 3, 3, 3, 3, 3, 3, 4, 4, 4, 4, 4, 3, 3, 3, 3, 3, 3, 3, 3, 3, 3, 3, 3, 3, 3, 3, 3, 3, 3, 3, 3, 3, 1, 1, 1, 1, 1, 1, 1, 0, 5, 5, 4, 4, 4, 4, 4, 4, 4, 4, 4, 4, 4, 4, 4, 4, 4, 4, 4, 4, 4, 4, 4, 4, 4, 4, 4, 4, 4, 4, 4, 4, 4, 4, 4, 4, 4, 3, 3, 5, 5, 4, 4, 4, 4, 4, 3, 3, 3, 3, 3, 3, 3, 3, 3, 3, 3, 3, 3, 3, 3, 3, 3, 3, 3, 3, 3, 3, 3, 3, 3, 3, 3, 3, 3, 3, 3, 3, 1, 1, 1, 3, 3, 3, 3, 3, 3, 3, 3, 3, 3, 3, 3, 3, 3, 3, 3, 3, 3, 3, 1, 1, 1, 1, 1, 1, 1, 1, 1, 1, 1, 3, 3, 3, 3, 3, 3, 3, 3, 3, 3, 3, 3, 3, 3, 5, 5, 5, 5, 4, 4, 4, 4, 4, 4, 4, 4, 4, 4, 4, 4, 4, 4, 4, 4, 4, 4, 4, 4, 4, 4, 4, 4, 4, 4, 4, 4, 3, 3, 3, 3, 3, 3, 3, 3, 3, 3, 3, 4, 4, 4, 4, 4, 4, 4, 3, 4, 4, 4, 3, 3, 3, 3, 3, 3, 3, 3, 3, 3, 3, 3, 3, 3, 3, 3, 3, 3, 3, 3, 3, 3, 3, 3, 3, 3, 3, 3, 3, 3, 3, 3, 3, 3, 3, 3, 3, 3, 3, 3, 3, 3, 3, 3, 3, 3, 3, 3, 3, 3, 3, 3, 3, 3, 3, 3, 3, 3, 3, 3, 3, 3, 3, 3, 3, 3, 4, 4, 4, 4, 4, 4, 4, 4, 4, 4, 4, 3, 3, 3, 3, 3, 3, 3, 3, 3, 3, 3, 3, 3, 3, 3, 3, 4, 4, 4, 4, 4, 1, 1, 1, 1, 1, 1, 1, 1, 1, 1, 1, 1, 1, 1, 1, 1, 1, 1, 1, 1, 1, 1, 1, 1, 1, 1, 1, 1, 1, 1, 1, 1, 1, 1, 1, 1, 1, 1, 1, 1, 1, 1, 1, 1, 1, 1, 5, 5, 5, 5, 5, 5, 5, 5, 5, 5, 5, 5, 5, 1, 1, 1, 1, 1, 1, 1, 1, 1, 1, 1, 1, 1, 1, 1, 1, 1, 1, 1, 1, 1, 1, 1, 1, 1, 1, 1, 1, 1, 1, 1, 1, 1, 1, 1, 1, 1, 1, 1, 1, 1, 1, 1, 1, 1, 1, 1, 1, 1, 1, 1, 1, 1, 1, 1, 1, 1, 1, 1, 1, 1, 1, 1, 1, 1, 4, 4, 4, 4, 4, 4, 4, 4, 4, 4, 4, 4, 1, 1, 1, 1, 1, 0, 0, 0, 5, 1, 1, 1, 1, 1, 1, 1, 1, 1, 1, 1, 1, 1, 1, 1, 1, 1, 1, 1, 1, 1, 1, 1, 1, 1, 1, 1, 1, 1, 1, 1, 4, 5, 5, 5, 5, 5, 5, 5, 4, 4, 4, 4, 4, 4, 4, 4, 4, 4, 4, 4, 4, 4, 4, 4, 4, 4, 4, 4, 4, 4, 4, 4, 4, 4, 4, 4, 4, 1, 1, 1, 1, 1, 1, 1, 1, 1, 1, 1, 1, 1, 1, 1, 1, 1, 1, 1, 1, 1, 1, 1, 1, 1, 1, 1, 1, 1, 1, 1, 1, 1, 1, 1, 1, 1, 1, 1, 1, 1, 1, 1, 1, 1, 1, 1, 1, 1, 1, 1, 1, 1, 1, 1, 1, 1, 1, 1, 1, 4, 1, 1, 1, 1, 1, 1, 1, 1, 1, 1, 1, 1, 1, 1, 1, 1, 1, 1, 1, 1, 1, 1, 0, 1, 1, 1, 1, 1, 1, 1, 1, 1, 1, 1, 1, 1, 1, 1, 1, 1, 1, 1, 1, 1, 1, 1, 1, 1, 1, 1, 4, 4, 4, 4, 1, 1, 1, 1, 1, 0, 1, 1, 1, 1, 4, 4, 4, 4, 4, 4, 4, 4, 4, 4, 4, 4, 4, 4, 4, 1, 1, 1, 1, 1, 1, 1, 1, 4, 4, 4, 4, 4, 4, 1, 1, 1, 1, 1, 1, 1, 1, 1, 1, 1, 1, 1, 1, 1, 1, 1, 1, 1, 1, 1, 1, 1, 1, 1, 1, 1, 1, 1, 1, 1, 1, 1, 1, 1, 1, 1, 1, 1, 1, 1, 1, 1, 1, 1, 1, 1, 1, 1, 1, 1, 1, 1, 1, 1, 1, 1, 1, 1, 1, 1, 1, 1, 1, 1, 1, 1, 1, 1, 1, 1, 1, 1, 1, 1, 1, 1, 1, 1, 1, 1, 1, 1, 1, 1, 1, 1, 1, 1, 1, 1, 1, 1, 1, 1, 1, 1, 1, 1, 1, 1, 1, 1, 1, 1, 1, 1, 1, 1, 1, 1, 1, 1, 1, 1, 1, 1, 1, 1, 1, 1, 1, 1, 1, 1, 4, 4, 4, 4, 4, 4, 4, 4, 4, 1, 1, 1, 1, 1, 1, 1, 1, 1, 4, 4, 4, 4, 4, 4, 4, 1, 1, 1, 1, 1, 1, 1, 5, 5, 1, 1, 1, 1, 1, 1, 4, 4, 4, 4, 4, 4, 4, 4, 4, 4, 4, 4, 4, 1, 1, 1, 1, 1, 1, 1, 1, 1, 1, 1, 1, 1, 1, 1, 1, 1, 1, 1, 1, 1, 1, 1, 1, 4, 1, 1, 1, 1, 1, 1, 1, 1, 1, 1, 1, 1, 1, 1, 1, 1, 1, 1, 1, 1, 1, 1, 1, 1, 1, 0, 0, 0, 0, 0, 0, 0, 0, 0, 0, 1, 1, 1, 1, 1, 1, 1, 1, 1, 1, 1, 1, 1, 1, 1, 1, 5, 5, 4, 4, 4, 4, 4, 4, 4, 4, 4, 4, 4, 4, 4, 4, 4, 4, 4, 4, 4, 4, 4, 4, 4, 4, 4, 4, 4, 4, 4, 1, 1, 1, 1, 1, 1, 1, 1, 1, 1, 1, 1, 1, 1, 4, 4, 4, 4, 1, 1, 1, 1, 1, 1, 1, 1, 1, 1, 1, 1, 1, 4, 4, 1, 1, 1, 1, 1, 1, 1, 1, 1, 1, 1, 1, 1, 1, 1, 1, 1, 1, 1, 1, 1, 1, 1, 1, 1, 1, 1, 1, 1, 1, 1, 1, 1, 1, 1, 4, 4, 4, 4, 4, 4, 1, 1, 1, 1, 1, 1, 1, 1, 4, 4, 4, 4, 4, 4, 4, 4, 1, 1, 1, 1, 1, 1, 1, 1, 1, 1, 4, 4, 4, 4, 4, 4, 4, 4, 4, 1, 1, 1, 5, 4, 4, 4, 4, 4, 4, 4, 4, 4, 4, 4, 4, 4, 4, 4, 4, 4, 1, 1, 4, 4, 1, 1, 1, 1, 1, 1, 1, 4, 4, 4, 4, 4, 4, 4, 4, 4, 4, 4, 4, 4, 4, 4, 4, 4, 4, 4, 4, 4, 4, 4, 4, 4, 4, 4, 4, 4, 4, 4, 4, 4, 4, 4, 4, 4, 4, 4, 4, 4, 4, 4, 4, 4, 4, 4, 4, 4, 4, 4, 4, 4, 4, 4, 1, 1, 1, 1, 1, 4, 4, 1, 1, 1, 1, 1, 1, 1, 1, 1, 1, 1, 1, 1, 1, 1, 1, 1, 1, 1, 1, 1, 1, 1, 1, 4, 4, 1, 1, 1, 1, 1, 1, 1, 1, 1, 1, 1, 1, 1, 1, 1, 1, 1, 1, 1, 1, 1, 1, 0, 0, 0, 0, 0, 1, 1, 1, 1, 1, 1, 1, 1, 1, 1, 1, 1, 1, 5, 5, 4, 4, 4, 4, 4, 4, 4, 4, 4, 4, 4, 4, 1, 1, 1, 1, 1, 1, 1, 1, 1, 1, 1, 1, 1, 1, 1, 1, 1, 1, 1, 1, 1, 1, 1, 1, 1, 1, 1, 1, 1, 1, 1, 1, 1, 1, 1, 1, 1, 1, 1, 1, 1, 1, 1, 1, 1, 1, 1, 1, 1, 4, 4, 4, 4, 4, 4, 4, 4, 4, 4, 4, 4, 4, 4, 4, 4, 4, 4, 4, 4, 4, 4, 4, 4, 4, 4, 1, 1, 1, 1, 1, 1, 4, 4, 4, 4, 4, 4, 4, 4, 4, 4, 4, 4, 1, 1, 1, 1, 1, 1, 1, 1, 1, 1, 1, 1, 1, 0, 1, 4, 4, 4, 4, 4, 4, 4, 4, 4, 4, 4, 4, 4, 4, 4, 4, 4, 4, 4, 4, 4, 4, 4, 4, 1, 1, 1, 1, 1, 1, 1, 1, 1, 1, 1, 1, 1, 1, 1, 1, 1, 1, 1, 1, 1, 1, 1, 1, 1, 1, 1, 4, 4, 4, 4, 4, 4, 4, 4, 4, 4, 4, 4, 4, 4, 4, 4, 4, 4, 4, 4, 4, 4, 4, 4, 4, 1, 1, 1, 1, 1, 1, 1, 1, 1, 1, 4, 4, 4, 4, 1, 1, 4, 4, 4, 4, 4, 4, 4, 4, 4, 4, 4, 4, 4, 4, 4, 4, 4, 4, 4, 4, 4, 4, 4, 4, 4, 4, 4, 4, 4, 4, 4, 4, 4, 4, 4, 4, 4, 4, 4, 4, 4, 4, 4, 4, 4, 4, 4, 4, 4, 4, 4, 4, 4, 4, 4, 4, 4, 4, 4, 4, 4, 4, 4, 4, 4, 4, 4, 4, 1, 1, 1, 1, 1, 1, 1, 1, 1, 1, 1, 1, 1, 1, 1, 1, 1, 1, 1, 1, 1, 1, 1, 1, 1, 1, 1, 1, 1, 4, 1, 1, 1, 1, 1, 1, 1, 1, 1, 1, 1, 1, 1, 1, 1, 1, 1, 1, 1, 1, 1, 1, 0, 0, 0, 0, 0, 0, 0, 1, 1, 1, 1, 1, 1, 1, 1, 1, 1, 1, 1, 1, 1, 1, 1, 1, 1, 1, 1, 1, 1, 1, 1, 1, 1, 1, 1, 5, 5, 5, 5, 5, 5, 5, 4, 4, 4, 4, 4, 4, 4, 4, 4, 4, 4, 4, 4, 4, 4, 4, 4, 4, 4, 4, 4, 1, 1, 1, 1, 4, 4, 4, 4, 4, 4, 4, 4, 4, 4, 4, 4, 4, 4, 4, 4, 4, 4, 4, 4, 4, 4, 4, 4, 4, 4, 4, 4, 1, 0, 4, 4, 4, 4, 4, 4, 4, 4, 4, 4, 4, 4, 4, 4, 4, 4, 4, 4, 4, 4, 4, 4, 4, 4, 1, 1, 1, 1, 1, 1, 1, 1, 1, 1, 1, 5, 1, 1, 1, 4, 4, 4, 4, 4, 4, 4, 4, 1, 1, 1, 1, 1, 1, 1, 1, 1, 4, 4, 1, 1, 1, 1, 1, 4, 4, 4, 4, 4, 4, 4, 4, 4, 4, 4, 1, 1, 1, 1, 1, 1, 1, 1, 1, 1, 1, 1, 1, 1, 1, 1, 1, 4, 4, 4, 4, 4, 4, 4, 4, 1, 1, 1, 1, 1, 1, 1, 1, 1, 1, 1, 1, 1, 1, 1, 1, 1, 1, 1, 1, 1, 1, 1, 1, 1, 1, 1, 1, 1, 1, 1, 1, 1, 1, 1, 1, 1, 1, 1, 1, 1, 1, 1, 1, 1, 1, 1, 1, 1, 1, 1, 1, 1, 1, 1, 1, 1, 1, 1, 1, 1, 1, 1, 1, 1, 4, 4, 1, 1, 4, 4, 1, 1, 1, 1, 1, 1, 1, 1, 1, 1, 1, 1, 1, 1, 1, 1, 1, 1, 1, 1, 1, 1, 0, 0, 0, 0, 0, 1, 1, 1, 1, 1, 1, 1, 1, 1, 1, 1, 1, 1, 1, 1, 1, 4, 4, 4, 4, 4, 4, 4, 4, 4, 4, 4, 4, 4, 4, 4, 4, 4, 4, 4, 4, 4, 4, 4, 4, 4, 4, 4, 4, 4, 4, 4, 4, 4, 1, 1, 1, 1, 1, 1, 1, 1, 1, 1, 1, 1, 1, 1, 1, 5, 1, 1, 1, 1, 4, 4, 4, 4, 4, 1, 1, 1, 1, 1, 5, 4, 4, 4, 4, 4, 4, 4, 4, 4, 4, 4, 4, 4, 4, 4, 4, 4, 4, 4, 4, 1, 1, 1, 1, 1, 1, 1, 1, 1, 1, 1, 1, 1, 1, 1, 1, 1, 1, 1, 1, 1, 1, 1, 1, 1, 1, 1, 1, 1, 1, 1, 1, 1, 1, 1, 1, 1, 1, 1, 1, 1, 1, 1, 1, 1, 1, 1, 1, 1, 1, 1, 1, 1, 1, 1, 1, 1, 1, 1, 1, 1, 1, 1, 1, 1, 1, 1, 1, 1, 1, 1, 1, 1, 1, 1, 1, 1, 1, 1, 4, 4, 4, 4, 4, 1, 1, 1, 1, 1, 1, 1, 1, 1, 1, 1, 1, 1, 1, 1, 1, 1, 1, 1, 1, 1, 1, 1, 1, 1, 1, 1, 1, 1, 1, 1, 1, 1, 1, 1, 1, 1, 1, 1, 1, 1, 1, 1, 1, 1, 1, 1, 1, 4, 4, 4, 4, 4, 4, 1, 1, 1, 1, 1, 1, 1, 1, 1, 1, 1, 4, 1, 1, 1, 1, 1, 1, 1, 1, 5, 5, 5, 5, 1, 1, 1, 1, 1, 1, 1, 1, 1, 1, 1, 1, 1, 1, 1, 1, 1, 1, 1, 1, 1, 4, 4, 4, 4, 4, 4, 4, 4, 4, 4, 4, 4, 4, 4, 4, 4, 4, 4, 4, 4, 4, 4, 4, 4, 4, 4, 4, 4, 1, 1, 1, 1, 1, 1, 1, 1, 1, 1, 1, 1, 1, 1, 1, 1, 5, 1, 4, 4, 1, 1, 1, 1, 1, 0, 0, 0, 0, 0, 4, 4, 1, 1, 1, 1, 1, 1, 1, 1, 1, 1, 1, 1, 1, 1, 1, 1, 1, 1, 1, 1, 1, 1, 1, 1, 1, 1, 1, 5, 1, 1, 1, 1, 1, 1, 1, 1, 1, 1, 4, 1, 1, 1, 1, 1, 1, 1, 1, 1, 1, 1, 1, 1, 1, 1, 1, 1, 1, 5, 5, 5, 5, 5, 1, 1, 1, 1, 1, 1, 1, 1, 1, 1, 1, 1, 1, 1, 1, 1, 1, 1, 1, 1, 1, 5, 5, 1, 1, 1, 1, 1, 1, 1, 1, 1, 1, 1, 1, 1, 1, 1, 1, 1, 1, 1, 1, 1, 1, 1, 1, 1, 1, 1, 1, 1, 1, 1, 1, 1, 1, 1, 1, 1, 1, 1, 1, 1, 1, 1, 1, 1, 1, 1, 1, 1, 1, 1, 1, 1, 1, 1, 1, 1, 1, 1, 4, 4, 4, 1, 1, 4, 4, 4, 4, 4, 4, 4, 4, 4, 4, 4, 4, 4, 4, 4, 1, 4, 4, 4, 4, 4, 1, 1, 1, 1, 1, 1, 1, 1, 1, 1, 1, 1, 1, 1, 1, 1, 1, 1, 1, 1, 1, 1, 1, 1, 1, 1, 1, 1, 1, 1, 1, 1, 1, 1, 1, 1, 1, 5, 5, 5, 5, 5, 5, 5, 1, 1, 1, 1, 1, 1, 1, 4, 4, 4, 4, 4, 4, 1, 1, 1, 1, 1, 1, 1, 1, 1, 1, 1, 1, 1, 1, 1, 1, 1, 1, 1, 1, 1, 1, 1, 1, 1, 1, 1, 1, 1, 1, 0, 0, 0, 0, 0, 0, 0, 0, 0, 0, 0, 1, 1, 1, 1, 1, 1, 1, 1, 1, 1, 1, 1, 1, 1, 1, 1, 1, 1, 0, 5, 4, 4, 4, 4, 4, 4, 4, 4, 4, 4, 4, 4, 4, 4, 1, 1, 1, 1, 1, 1, 1, 1, 1, 1, 1, 1, 1, 1, 1, 1, 1, 1, 1, 1, 1, 1, 1, 1, 1, 1, 1, 1, 1, 1, 1, 1, 1, 1, 1, 1, 1, 1, 1, 1, 1, 1, 1, 1, 1, 1, 1, 1, 1, 1, 1, 1, 1, 1, 1, 1, 1, 1, 1, 1, 1, 1, 1, 1, 1, 1, 1, 1, 1, 1, 1, 1, 1, 1, 1, 1, 1, 1, 1, 1, 1, 1, 1, 1, 1, 1, 1, 1, 1, 1, 1, 1, 1, 1, 1, 1, 1, 1, 1, 1, 1, 1, 1, 1, 1, 1, 1, 1, 1, 1, 1, 1, 1, 1, 1, 4, 4, 4, 4, 4, 4, 1, 4, 4, 4, 1, 1, 1, 1, 1, 1, 1, 1, 1, 1, 1, 1, 1, 1, 1, 1, 1, 1, 1, 1, 1, 0, 0, 0, 1, 1, 1, 1, 1, 1, 1, 1, 1, 1, 1, 1, 1, 1, 1, 1, 1, 1, 1, 1, 1, 1, 1, 1, 1, 1, 1, 1, 1, 1, 1, 1, 1, 1, 1, 1, 1, 1, 1, 0, 1, 1, 4, 4, 4, 4, 1, 1, 1, 1, 1, 1, 1, 1, 1, 1, 1, 1, 1, 1, 1, 1, 1, 4, 4, 4, 4, 4, 4, 1, 1, 4, 4, 4, 4, 4, 4, 4, 4, 4, 4, 4, 4, 4, 1, 1, 1, 1, 1, 1, 1, 1, 1, 1, 1, 1, 1, 1, 1, 1, 1, 1, 1, 1, 1, 1, 1, 1, 1, 1, 1, 1, 1, 1, 1, 1, 1, 1, 1, 1, 1, 1, 1, 1, 1, 1, 1, 1, 1, 1, 1, 1, 1, 1, 1, 1, 4, 1, 1, 1, 4, 4, 4, 4, 4, 1, 1, 1, 1, 1, 1, 1, 1, 1, 1, 1, 1, 1, 1, 1, 1, 1, 1, 1, 1, 1, 1, 1, 1, 1, 1, 1, 1, 1, 1, 1, 1, 1, 1, 1, 4, 1, 1, 1, 1, 1, 1, 1, 1, 1, 1, 1, 1, 1, 1, 1, 1, 1, 1, 1, 1, 1, 1, 1, 1, 1, 1, 1, 1, 1, 1, 1, 1, 1, 1, 1, 1, 1, 1, 1, 1, 1, 1, 1, 1, 1, 4, 4, 4, 4, 4, 4, 4, 4, 4, 4, 4, 4, 4, 4, 4, 1, 1, 1, 1, 1, 1, 1, 5, 5, 5, 5, 5, 5, 5, 5, 5, 5, 5, 1, 1, 1, 1, 1, 1, 1, 1, 1, 4, 4, 4, 4, 4, 4, 4, 4, 4, 4, 4, 1, 1, 1, 1, 1, 0, 0, 1, 1, 1, 1, 0, 0, 0, 0, 0, 0, 0, 4, 4, 4, 4, 4, 4, 4, 4, 4, 4, 4, 4, 4, 1, 1, 1, 1, 1, 1, 4, 1, 1, 1, 1, 1, 1, 1, 1, 1, 1, 1, 1, 1, 1, 1, 1, 1, 1, 1, 1, 1, 1, 1, 0, 0, 0, 0, 1, 1, 1, 1, 1, 1, 1, 1, 1, 1, 1, 1, 1, 1, 1, 1, 1, 1, 1, 1, 1, 1, 1, 1, 1, 1, 1, 1, 1, 1, 1, 1, 1, 1, 1, 1, 1, 1, 4, 4, 4, 4, 4, 4, 1, 1, 1, 1, 1, 1, 1, 1, 1, 1, 1, 1, 1, 1, 1, 1, 1, 1, 1, 1, 1, 1, 1, 1, 1, 1, 1, 1, 1, 1, 1, 1, 1, 1, 1, 1, 1, 1, 1, 1, 1, 1, 1, 1, 1, 1, 1, 1, 4, 4, 4, 4, 4, 4, 4, 4, 4, 4, 4, 4, 1, 1, 1, 1, 4, 4, 4, 1, 1, 1, 1, 1, 1, 1, 1, 1, 1, 1, 1, 1, 1, 1, 1, 1, 1, 1, 1, 1, 1, 1, 1, 1, 1, 1, 1, 1, 1, 1, 1, 1, 1, 4, 4, 4, 4, 4, 4, 4, 4, 4, 4, 4, 1, 1, 1, 1, 1, 1, 1, 1, 1, 1, 1, 1, 1, 1, 1, 1, 1, 1, 1, 1, 1, 1, 1, 1, 4, 4, 4, 4, 4, 4, 4, 4, 4, 4, 4, 4, 4, 4, 4, 4, 1, 1, 1, 1, 1, 1, 1, 1, 1, 1, 4, 4, 4, 4, 4, 4, 1, 1, 1, 1, 1, 1, 1, 1, 1, 1, 1, 1, 1, 1, 1, 1, 1, 1, 1, 1, 1, 1, 1, 1, 1, 1, 1, 1, 1, 1, 1, 1, 1, 1, 1, 1, 0, 0, 0, 0, 0, 0, 0, 0, 0, 0, 0, 0, 0, 0, 0, 0, 0, 0, 0, 0, 1, 1, 1, 1, 1, 1, 1, 1, 1, 1, 1, 1, 1, 1, 1, 1, 1, 1, 1, 1, 1, 0, 1, 1, 1, 1, 5, 4, 4, 1, 1, 1, 1, 1, 1, 1, 1, 1, 1, 1, 1, 1, 1, 1, 1, 1, 4, 1, 1, 0, 0, 1, 1, 1, 1, 1, 1, 1, 1, 1, 1, 1, 1, 1, 1, 1, 1, 1, 1, 1, 1, 1, 1, 1, 1, 1, 1, 1, 1, 1, 1, 1, 1, 1, 1, 1, 1, 1, 1, 1, 1, 1, 1, 1, 1, 1, 1, 1, 1, 1, 1, 1, 1, 1, 1, 5, 4, 4, 4, 4, 4, 4, 4, 4, 4, 4, 4, 4, 4, 4, 4, 4, 4, 4, 4, 4, 4, 1, 1, 1, 1, 1, 1, 1, 1, 1, 1, 1, 1, 1, 1, 1, 1, 1, 1, 1, 1, 4, 4, 4, 4, 1, 4, 4, 4, 4, 4, 4, 4, 4, 4, 4, 4, 4, 4, 4, 4, 4, 4, 4, 4, 4, 4, 4, 4, 4, 4, 4, 4, 4, 4, 4, 4, 4, 4, 4, 4, 4, 4, 4, 4, 4, 4, 4, 4, 4, 4, 4, 4, 4, 4, 4, 4, 4, 4, 4, 4, 4, 4, 4, 4, 4, 1, 1, 1, 1, 1, 1, 1, 1, 1, 1, 1, 1, 1, 1, 1, 1, 1, 1, 1, 1, 1, 1, 1, 1, 4, 4, 4, 1, 1, 1, 1, 1, 1, 1, 1, 1, 1, 1, 1, 1, 4, 4, 4, 4, 4, 4, 4, 4, 4, 4, 4, 1, 1, 1, 1, 1, 1, 1, 1, 1, 1, 1, 1, 1, 1, 1, 1, 1, 1, 1, 1, 1, 1, 1, 1, 1, 1, 1, 1, 1, 1, 1, 0, 0, 0, 0, 0, 0, 0, 0, 4, 4, 4, 4, 4, 4, 4, 4, 4, 4, 4, 4, 1, 1, 1, 1, 1, 1, 1, 4, 4, 4, 4, 4, 4, 4, 4, 1, 1, 1, 1, 1, 1, 1, 1, 1, 1, 1, 1, 1, 1, 1, 1, 1, 1, 1, 1, 1, 1, 1, 1, 1, 1, 1, 1, 1, 1, 1, 1, 1, 1, 1, 1, 1, 1, 1, 1, 1, 1, 1, 1, 1, 1, 1, 1, 1, 1, 1, 1, 1, 1, 1, 1, 1, 1, 1, 1, 1, 1, 1, 1, 1, 5, 1, 1, 1, 1, 1, 1, 1, 1, 1, 1, 5, 4, 4, 4, 4, 4, 4, 4, 4, 4, 4, 4, 4, 4, 4, 4, 4, 4, 1, 1, 1, 1, 1, 1, 1, 1, 1, 1, 1, 1, 1, 1, 1, 0, 0, 0, 0, 4, 4, 4, 4, 4, 4, 4, 4, 4, 4, 4, 4, 4, 4, 4, 4, 4, 4, 4, 4, 4, 4, 1, 1, 1, 1, 1, 1, 1, 1, 1, 1, 1, 1, 1, 1, 1, 1, 4, 4, 4, 4, 4, 4, 4, 4, 4, 4, 4, 4, 4, 4, 4, 4, 4, 4, 4, 4, 4, 4, 4, 1, 1, 1, 1, 1, 1, 1, 1, 1, 1, 1, 1, 1, 4, 4, 4, 4, 4, 4, 4, 4, 4, 1, 1, 1, 1, 1, 1, 1, 1, 1, 1, 1, 1, 1, 1, 1, 1, 1, 1, 1, 1, 1, 1, 1, 1, 1, 1, 1, 1, 1, 1, 1, 1, 1, 1, 1, 1, 1, 1, 1, 1, 1, 1, 1, 1, 1, 1, 1, 1, 1, 1, 1, 1, 1, 1, 1, 1, 1, 1, 1, 1, 1, 1, 1, 1, 1, 1, 1, 1, 1, 1, 1, 1, 1, 1, 5, 5, 5, 5, 5, 5, 5, 5, 4, 4, 4, 4, 4, 4, 4, 4, 4, 4, 4, 4, 4, 4, 4, 4, 4, 4, 4, 4, 4, 4, 4, 4, 4, 4, 4, 4, 4, 4, 4, 4, 4, 4, 4, 4, 4, 4, 4, 4, 4, 4, 4, 4, 4, 4, 4, 4, 4, 4, 4, 4, 4, 4, 4, 4, 4, 4, 4, 4, 4, 4, 4, 4, 4, 4, 4, 4, 4, 4, 4, 4, 4, 4, 4, 4, 4, 4, 4, 4, 4, 1, 1, 1, 1, 1, 1, 1, 1, 1, 1, 1, 1, 1, 1, 1, 1, 1, 1, 1, 1, 1, 1, 1, 4, 4, 4, 4, 4, 0, 0, 0, 0, 0, 0, 0, 0, 0, 0, 0, 4, 4, 4, 4, 4, 4, 4, 4, 4, 4, 4, 4, 4, 4, 4, 4, 4, 4, 4, 4, 4, 4, 4, 4, 4, 4, 4, 0, 4, 4, 4, 0, 0, 0, 0, 4, 4, 4, 4, 4, 4, 4, 4, 4, 4, 4, 4, 4, 4, 4, 4, 4, 4, 4, 4, 4, 4, 4, 4, 4, 4, 4, 0, 0, 0, 0, 0, 0, 0, 4, 4, 4, 4, 4, 4, 4, 0, 0, 0, 0, 0, 0, 4, 0, 0, 0, 0, 0, 4, 4, 4, 4, 4, 4, 4, 4, 4, 4, 4, 0, 0, 0, 0, 0, 0, 0, 0, 0, 0, 0, 0, 0, 4, 4, 4, 4, 4, 4, 4, 4, 4, 4, 4, 4, 4, 4, 4, 4, 4, 4, 4, 4, 4, 4, 4, 0, 4, 4, 4, 4, 4, 4, 4, 4, 4, 4, 4, 4, 4, 4, 4, 4, 4, 4, 0, 4, 0, 0, 0, 0, 0, 0, 0, 0, 0, 0, 0, 0, 0, 0, 0, 0, 0, 0, 0, 0, 0, 0, 0, 0, 0, 0, 0, 0, 0, 0, 0, 0, 0, 0, 0, 0, 0, 0, 0, 5, 5, 5, 4, 4, 4, 4, 4, 0, 0, 0, 4, 4, 4, 4, 4, 0, 0, 0, 0, 0, 4, 4, 4, 4, 4, 4, 4, 4, 4, 4, 4, 4, 4, 4, 4, 4, 4, 4, 4, 4, 4, 4, 4, 4, 4, 4, 4, 4, 0, 5, 5, 5, 5, 4, 4, 4, 4, 4, 4, 4, 4, 4, 4, 4, 4, 4, 4, 4, 4, 5, 4, 4, 4, 4, 5, 5, 4, 4, 4, 4, 4, 4, 4, 4, 4, 4, 4, 4, 4, 4, 4, 4, 4, 4, 4, 4, 4, 4, 4, 4, 4, 4, 5, 4, 4, 4, 4, 4, 4, 4, 4, 4, 4, 4, 4, 4, 4, 4, 4, 4, 4, 4, 4, 4, 4, 4, 4, 4, 4, 4, 4, 4, 4, 4, 4, 4, 4, 4, 4, 4, 4, 4, 4, 4, 4, 4, 4, 4, 4, 4, 4, 4, 4, 4, 4, 4, 4, 4, 4, 4, 4, 4, 4, 4, 4, 4, 4, 4, 4, 4, 4, 4, 4, 4, 4, 4, 5, 5, 4, 4, 4, 4, 4, 4, 4, 4, 4, 4, 5, 5, 5, 4, 4, 4, 4, 4, 4, 4, 4, 4, 4, 4, 4, 5, 4, 4, 4, 4, 4, 4, 4, 4, 4, 5, 5, 5, 4, 4, 4, 4, 5, 5, 5, 5, 5, 5, 5, 5, 5, 4, 4, 4, 4, 4, 4, 4, 4, 4, 4, 4, 4, 4, 4, 4, 4, 4, 4, 4, 4, 4, 4, 5, 5, 5, 5, 5, 5, 5, 5, 4, 4, 5, 4, 4, 4, 4, 5, 5, 4, 4, 4, 4, 4, 4, 4, 4, 4, 4, 4, 5, 5, 4, 4, 4, 5, 5, 4, 4, 4, 4, 4, 4, 4, 4, 4, 4, 4, 4, 4, 5, 5, 4, 4, 4, 4, 4, 4, 5, 5, 4, 4, 4, 4, 4, 4, 4, 4, 4, 4, 4, 4, 4, 4, 4, 4, 4, 4, 4, 4, 4, 4, 5, 5, 5, 5, 4, 4, 4, 4, 4, 4, 4, 4, 4, 5, 4, 4, 4, 5, 5, 5, 5, 5, 5, 5, 4, 4, 4, 4, 4, 4, 4, 4, 5, 5, 5, 4, 4, 4, 4, 4, 4, 4, 4, 4, 4, 4, 4, 4, 4, 4, 4, 4, 4, 4, 5, 4, 4, 4, 4, 4, 4, 4, 4, 5, 5, 4, 4, 4, 4, 4, 5, 4, 4, 4, 4, 4, 4, 4, 4, 4, 4, 4, 4, 4, 4, 4, 4, 4, 4, 4, 4, 4, 4, 4, 4, 4, 4, 4, 5, 5, 5, 5, 5, 5, 4, 4, 4, 4, 4, 4, 4, 5, 5, 5, 4, 4, 5, 5, 4, 4, 4, 4, 4, 4, 4, 4, 4, 4, 4, 4, 4, 4, 5, 4, 4, 4, 4, 4, 5, 5, 4, 4, 4, 4, 4, 4, 4, 4, 4, 4, 4, 4, 4, 4, 4, 4, 4, 4, 4, 4, 4, 4, 4, 5, 5, 5, 4, 4, 4, 4, 4, 4, 4, 4, 4, 4, 4, 4, 4, 4, 4, 4, 4, 4, 4, 4, 4, 4, 5, 5, 5, 5, 5, 5, 4, 4, 4, 4, 4, 4, 4, 4, 4, 4, 4, 4, 4, 4, 5, 4, 4, 4, 5, 5, 5, 5, 5, 4, 4, 4, 4, 4, 4, 4, 4, 4, 4, 4, 4, 4, 4, 4, 4, 4, 4, 4, 4, 4, 4, 5, 5, 5, 5, 4, 4, 4, 4, 4, 4, 4, 4, 4, 4, 4, 4, 4, 4, 4, 4, 4, 4, 4, 4, 4, 4, 4, 4, 4, 4, 4, 4, 4, 4, 4, 4, 5, 4, 4, 4, 4, 4, 4, 4, 4, 4, 4, 4, 4, 4, 4, 4, 4, 4, 4, 4, 4, 4, 4, 4, 4, 4, 4, 4, 4, 4, 4, 4, 4, 4, 4, 4, 4, 4, 4, 4, 4, 4, 4, 4, 4, 4, 4, 4, 4, 4, 4, 4, 4, 4, 4, 4, 4, 4, 4, 4, 4, 4, 4, 4, 4, 4, 4, 4, 4, 4, 4, 4, 4, 4, 4, 4, 4, 4, 4, 4, 4, 4, 4, 4, 4, 4, 4, 4, 4, 4, 4, 4, 4, 4, 4, 4, 4, 4, 4, 4, 4, 4, 4, 4, 4, 4, 4, 4, 4, 4, 4, 4, 4, 4, 4, 4, 4, 4, 4, 4, 4, 4, 4, 4, 4, 4, 4, 4, 4, 4, 4, 4, 4, 4, 4, 4, 4, 4, 4, 4, 4, 4, 4, 4, 4, 4, 4, 4, 4, 4, 4, 4, 4, 4, 4, 4, 4, 4, 4, 4, 4, 4, 4, 4, 4, 4, 4, 4, 4, 4, 4, 4, 4, 4, 4, 4, 4, 4, 4, 4, 4, 4, 4, 4, 4, 4, 4, 4, 4, 4, 4, 4, 4, 4, 4, 4, 4, 4, 4, 4, 4, 4, 4, 4, 4, 4, 4, 4, 4, 4, 4, 4, 4, 4, 4, 4, 4, 4, 4, 4, 4, 4, 4, 4, 4, 4, 4, 4, 4, 4, 4, 4, 4, 4, 4, 4, 4, 4, 4, 4, 4, 4, 4, 4, 4, 4, 4, 4, 4, 4, 4, 4, 4, 4, 4, 4, 4, 4, 4, 4, 4, 4, 4, 4, 4, 4, 4, 4, 4, 4, 4, 4, 4, 4, 4, 4, 4, 4, 4, 4, 4, 4, 4, 4, 4, 4, 4, 4, 4, 4, 4, 4, 4, 4, 4, 4, 4, 4, 4, 4, 4, 4, 4, 4, 4, 4, 4, 4, 4, 4, 4, 4, 4, 4, 4, 4, 4, 4, 4, 4, 4, 4, 4, 4, 4, 4, 4, 4, 4, 4, 4, 4, 4, 4, 4, 4, 4, 4, 4, 4, 4, 4, 4, 4, 4, 4, 4, 4, 4, 4, 4, 4, 4, 4, 4, 4, 4, 4, 4, 4, 4, 4, 4, 4, 4, 4, 4, 4, 4, 4, 4, 4, 4, 4, 4, 4, 4, 4, 4, 4, 4, 4, 4, 4, 4, 4, 4, 4, 4, 4, 4, 4, 4, 4, 4, 4, 4, 4, 4, 4, 4, 4, 4, 4, 4, 4, 4, 4, 4, 4, 4, 4, 4, 4, 4, 4, 4, 4, 4, 4, 4, 4, 4, 4, 4, 4, 4, 4, 4, 4, 4, 4, 4, 4, 4, 4, 4, 4, 4, 4, 4, 4, 4, 4, 4, 4, 4, 4, 4, 4, 4, 4, 4, 4, 4, 4, 4, 4, 4, 4, 4, 4, 4, 4, 4, 4, 4, 4, 4, 4, 4, 4, 4, 4, 4, 4, 4, 4, 4, 4, 4, 4, 4, 4, 4, 4, 4, 4, 4, 4, 4, 4, 4, 4, 4, 4, 4, 4, 4, 4, 4, 4, 4, 4, 4, 4, 4, 4, 4, 4, 4, 4, 4, 4, 4, 4, 4, 4, 4, 4, 4, 4, 4, 4, 4, 4, 4, 4, 4, 4, 4, 4, 4, 4, 4, 4, 4, 4, 4, 4, 4, 4, 4, 4, 4, 4, 4, 4, 4, 4, 4, 4, 4, 4, 4, 4, 4, 4, 4, 4, 4, 4, 4, 4, 4, 4, 4, 4, 4, 4, 4, 4, 4, 4, 4, 4, 4, 4, 4, 4, 4, 4, 4, 4, 4, 4, 4, 4, 4, 4, 4, 4, 4, 4, 4, 4, 4, 4, 4, 4, 4, 4, 4, 4, 4, 4, 4, 4, 4, 4, 4, 4, 4, 4, 4, 4, 4, 4, 4, 4, 4, 4, 4, 4, 4, 4, 4, 4, 4, 4, 4, 4, 4, 4, 4, 4, 4, 4, 4, 4, 4, 4, 4, 4, 4, 4, 4, 4, 4, 4, 4, 4, 4, 4, 4, 4, 4, 4, 4, 4, 4, 4, 4, 4, 4, 4, 4, 4, 4, 4, 4, 4, 4, 4, 4, 4, 4, 4, 4, 4, 4, 4, 4, 4, 4, 4, 4, 4, 4, 4, 4, 4, 4, 4, 4, 4, 4, 4, 4, 4, 4, 4, 4, 4, 4, 4, 4, 4, 4, 4, 4, 4, 4, 4, 4, 4, 4, 4, 4, 4, 4, 4, 4, 4, 4, 4, 4, 4, 4, 4, 4, 4, 4, 4, 4, 4, 4, 4, 4, 4, 4, 4, 4, 4, 4, 4, 4, 4, 4, 4, 4, 4, 4, 4, 4, 4, 4, 4, 4, 4, 4, 4, 4, 4, 4, 4, 4, 4, 4, 4, 4, 4, 4, 4, 4, 4, 4, 4, 4, 4, 4, 4, 4, 4, 4, 4, 4, 4, 4, 4, 4, 4, 4, 4, 4, 4, 4, 4, 4, 4, 4, 4, 4, 4, 4, 4, 4, 4, 4, 4, 4, 4, 4, 4, 4, 4, 4, 4, 4, 4, 4, 4, 4, 4, 4, 4, 4, 4, 4, 4, 4, 4, 4, 4, 4, 4, 4, 4, 4, 4, 4, 4, 4, 4, 4, 4, 4, 4, 4, 4, 4, 4, 4, 4, 4, 4, 4, 4, 4, 4, 4, 4, 4, 4, 4, 4, 4, 4, 4, 4, 4, 4, 4, 4, 4, 4, 4, 4, 4, 4, 4, 4, 4, 4, 4, 4, 4, 4, 4, 4, 4, 4, 4, 4, 4, 4, 4, 4, 4, 4, 4, 4, 4, 4, 4, 4, 4, 4, 4, 4, 4, 4, 4, 4, 4, 4, 4, 4, 4, 4, 4, 4, 4, 4, 4, 4, 4, 4, 4, 4, 4, 4, 4, 4, 4, 4, 4, 4, 4, 4, 4, 4, 4, 4, 4, 4, 4, 4, 4, 4, 4, 4, 4, 4, 4, 4, 4, 4, 4, 4, 4, 4, 4, 4, 4, 4, 4, 4, 4, 4, 4, 4, 4, 4, 4, 4, 4, 4, 4, 4, 4, 4, 4, 4, 4, 4, 4, 4, 4, 4, 4, 4, 4, 4, 4, 4, 4, 4, 4, 4, 4, 4, 4, 4, 4, 4, 4, 4, 4, 4, 4, 4, 4, 4, 4, 4, 4, 4, 4, 4, 4, 4, 4, 4, 4, 4, 4, 4, 4, 4, 4, 4, 4, 4, 4, 4, 4, 4, 4, 4, 4, 4, 4, 4, 4, 4, 4, 4, 4, 4, 4, 4, 4, 4, 4, 4, 4, 4, 4, 4, 4, 4, 4, 4, 4, 4, 4, 4, 4, 4, 4, 4, 4, 4, 4, 4, 4, 4, 4, 4, 4, 4, 4, 4, 4, 4, 4, 4, 4, 4, 4, 4, 4, 4, 4, 4, 4, 4, 4, 4, 4, 4, 4, 4, 4, 4, 4, 4, 4, 4, 4, 4, 4, 4, 4, 4, 4, 4, 4, 4, 4, 4, 4, 4, 4, 4, 4, 4, 4, 4, 4, 4, 4, 4, 4, 4, 4, 4, 4, 4, 4, 4, 4, 4, 4, 4, 4, 4, 4, 4, 4, 4, 4, 4, 4, 4, 4, 4, 4, 4, 4, 4, 4, 4, 4, 4, 4, 4, 4, 4, 4, 4, 4, 4, 4, 4, 4, 4, 4, 4, 4, 4, 4, 4, 4, 4, 4, 4, 4, 4, 4, 4, 4, 4, 4, 4, 4, 4, 4, 4, 4, 4, 4, 4, 4, 4, 4, 4, 4, 4, 4, 4, 4, 4, 4, 4, 4, 4, 4, 4, 4, 4, 4, 4, 4, 4, 4, 4, 4, 4, 4, 4, 4, 4, 4, 4, 4, 4, 4, 4, 4, 4, 4, 4, 4, 4, 4, 4, 4, 4, 4, 4, 4, 4, 4, 4, 4, 4, 4, 4, 4, 4, 4, 4, 4, 4, 4, 4, 4, 4, 4, 4, 4, 4, 4, 4, 4, 4, 4, 4, 4, 4, 4, 4, 4, 4, 4, 4, 4, 4, 4, 4, 4, 4, 4, 4, 4, 4, 4, 4, 4, 4, 4, 4, 4, 4, 4, 4, 4, 4, 4, 4, 4, 4, 4, 4, 4, 4, 4, 4, 4, 4, 4, 4, 4, 4, 4, 4, 4, 4, 4, 4, 4, 4, 4, 4, 4, 4, 4, 4, 4, 4, 4, 4, 4, 4, 4, 4, 4, 4, 4, 4, 4, 4, 4, 4, 4, 4, 4, 4, 4, 4, 4, 4, 4, 4, 4, 4, 4, 4, 4, 4, 4, 4, 4, 4, 4, 4, 4, 4, 4, 4, 4, 4, 4, 4, 4, 4, 4, 4, 4, 4, 4, 4, 4, 4, 4, 4, 4, 4, 4, 4, 4, 4, 4, 4, 4, 4, 4, 4, 4, 4, 4, 4, 4, 4, 4, 4, 4, 4, 4, 4, 4, 4, 4, 4, 4, 4, 4, 4, 4, 4, 4, 4, 4, 4, 4, 4, 4, 4, 4, 4, 4, 4, 4, 4, 4, 4, 4, 4, 4, 4, 4, 4, 4, 4, 4, 4, 4, 4, 4, 4, 4, 4, 4, 4, 4, 4, 4, 4, 4, 4, 4, 4, 4, 4, 4, 4, 4, 4, 4, 4, 4, 4, 4, 4, 4, 4, 4, 4, 4, 4, 4, 4, 4, 4, 4, 4, 4, 4, 4, 4, 4, 4, 4, 4, 4, 4, 4, 4, 4, 4, 4, 4, 4, 4, 4, 4, 4, 4, 4, 4, 4, 4, 4, 4, 4, 4, 4, 4, 4, 4, 4, 4, 4, 4, 4, 4, 4, 4, 4, 4, 4, 4, 4, 4, 4, 4, 4, 4, 4, 4, 4, 4, 4, 4, 4, 4, 4, 4, 4, 4, 4, 4, 4, 4, 4, 4, 4, 4, 4, 4, 4, 4, 4, 4, 4, 4, 4, 4, 4, 4, 4, 4, 4, 4, 4, 4, 4, 4, 4, 4, 4, 4, 4, 4, 4, 4, 4, 4, 4, 4, 4, 4, 4, 4, 4, 4, 4, 4, 4, 4, 4, 4, 4, 4, 4, 4, 4, 4, 4, 4, 4, 4, 4, 4, 4, 4, 4, 4, 4, 4, 4, 4, 4, 4, 4, 4, 4, 4, 4, 4, 4, 4, 4, 4, 4, 4, 4, 4, 4, 4, 4, 4, 4, 4, 4, 4, 4, 4, 4, 4, 4, 4, 4, 4, 4, 4, 4, 4, 4, 4, 4, 4, 4, 4, 4, 4, 4, 4, 4, 4, 4, 4, 4, 4, 4, 4, 4, 4, 4, 4, 4, 4, 4, 4, 4, 4, 4, 4, 4, 4, 4, 4, 4, 4, 4, 4, 4, 4, 4, 4, 4, 4, 4, 4, 4, 4, 4, 4, 4, 4, 4, 4, 4, 4, 4, 4, 4, 4, 4, 4, 4, 4, 4, 4, 4, 4, 4, 4, 4, 4, 4, 4, 4, 4, 4, 4, 4, 4, 4, 4, 4, 4, 4, 4, 4, 4, 4, 4, 4, 4, 4, 4, 4, 4, 4, 4, 4, 4, 4, 4, 4, 4, 4, 4, 4, 4, 4, 4, 4, 4, 4, 4, 4, 4, 4, 4, 4, 4, 4, 4, 4, 4, 4, 4, 4, 4, 4, 4, 4, 4, 4, 4, 4, 4, 4, 4, 4, 4, 4, 4, 4, 4, 4, 4, 4, 4, 4, 4, 4, 4, 4, 4, 4, 4, 4, 4, 4, 4, 4, 4, 4, 4, 4, 4, 4, 4, 4, 4, 4, 4, 4, 4, 4, 4, 4, 4, 4, 4, 4, 4, 4, 4, 4, 4, 4, 4, 4, 4, 4, 4, 4, 4, 4, 4, 4, 4, 4, 4, 4, 4, 4, 4, 4, 4, 4, 4, 4, 4, 4, 4, 4, 4, 4, 4, 4, 4, 4, 4, 4, 4, 4, 4, 4, 4, 4, 4, 4, 4, 4, 4, 4, 4, 4, 4, 4, 4, 4, 4, 4, 4, 4, 4, 4, 4, 4, 4, 4, 4, 4, 4, 4, 4, 4, 4, 4, 4, 4, 4, 4, 4, 4, 4, 4, 4, 4, 4, 4, 4, 4, 4, 4, 4, 4, 4, 4, 4, 4, 4, 4, 4, 4, 4, 4, 4, 4, 4, 4, 4, 4, 4, 4, 4, 4, 4, 4, 4, 4, 4, 4, 4, 4, 4, 4, 4, 4, 4, 4, 4, 4, 4, 4, 4, 4, 4, 4, 4, 4, 4, 4, 4, 4, 4, 4, 4, 4, 4, 4, 4, 4, 4, 4, 4, 4, 4, 4, 4, 4, 4, 4, 4, 4, 4, 4, 4, 4, 4, 4, 4, 4, 4, 4, 4, 4, 4, 4, 4, 4, 4, 4, 4, 4, 4, 4, 4, 4, 4, 4, 4, 4, 4, 4, 4, 4, 4, 4, 4, 4, 4, 4, 4, 4, 4, 4, 4, 4, 4, 4, 4, 4, 4, 4, 4, 4, 4, 4, 4, 4, 4, 4, 4, 4, 4, 4, 4, 4, 4, 4, 4, 4, 4, 4, 4, 4, 4, 4, 4, 4, 4, 4, 4, 4, 4, 4, 4, 4, 4, 4, 4, 4, 4, 4, 4, 4, 4, 4, 4, 4, 4, 4, 4, 4, 4, 4, 4, 4, 4, 4, 4, 4, 4, 4, 4, 4, 4, 4, 4, 4, 4, 4, 4, 4, 4, 4, 4, 4, 4, 4, 4, 4, 4, 4, 4, 4, 4, 4, 4, 4, 4, 4, 4, 4, 4, 4, 4, 4, 4, 4, 4, 4, 4, 4, 4, 4, 4, 4, 4, 4, 4, 4, 4, 4, 4, 4, 4, 4, 4, 4, 4, 4, 4, 4, 4, 4, 4, 4, 4, 4, 4, 4, 4, 4, 4, 4, 4, 4, 4, 4, 4, 4, 4, 4, 4, 4, 4, 4, 4, 4, 4, 4, 4, 4, 4, 4, 4, 4, 4, 4, 4, 4, 4, 4, 4, 4, 4, 4, 4, 4, 4, 4, 4, 4, 4, 4, 4, 4, 4, 4, 4, 4, 4, 4, 4, 4, 4, 4, 4, 4, 4, 4, 4, 4, 4, 4, 4, 4, 4, 4, 4, 4, 4, 4, 4, 4, 4, 4, 4, 4, 4, 4, 4, 4, 4, 4, 4, 4, 4, 4, 4, 4, 4, 4, 4, 4, 4, 4, 4, 4, 4, 4, 4, 4, 4, 4, 4, 4, 4, 4, 4, 4, 4, 4, 4, 4, 4, 4, 4, 4, 4, 4, 4, 4, 4, 4, 4, 4, 4, 4, 4, 4, 4, 4, 4, 4, 4, 4, 4, 4, 4, 4, 4, 4, 4, 4, 4, 4, 4, 4, 4, 4, 4, 4, 4, 4, 4, 4, 4, 4, 4, 4, 4, 4, 4, 4, 4, 4, 4, 4, 4, 4, 4, 4, 4, 4, 4, 4, 4, 4, 4, 4, 4, 4, 4, 4, 4, 4, 4, 4, 4, 4, 4, 4, 4, 4, 4, 4, 4, 4, 4, 4, 4, 4, 4, 4, 4, 4, 4, 4, 4, 4, 4, 4, 4, 4, 4, 4, 4, 4, 4, 4, 4, 4, 4, 4, 4, 4, 4, 4, 4, 4, 4, 4, 4, 4, 4, 4, 4, 4, 4, 4, 4, 4, 4, 4, 4, 4, 4, 4, 4, 4, 4, 4, 4, 4, 4, 4, 4, 4, 4, 4, 4, 4, 4, 4, 4, 4, 4, 4, 4, 4, 4, 4, 4, 4, 4, 4, 4, 4, 4, 4, 4, 4, 4, 4, 4, 4, 4, 4, 4, 4, 4, 4, 4, 4, 4, 4, 4, 4, 4, 4, 4, 4, 4, 4, 4, 4, 4, 4, 4, 4, 4, 4, 4, 4, 4, 4, 4, 4, 4, 4, 4, 4, 4, 4, 4, 4, 4, 4, 4, 4, 4, 4, 4, 4, 4, 4, 4, 4, 4, 4, 4, 4, 4, 4, 4, 4, 4, 4, 4, 4, 4, 4, 4, 4, 4, 4, 4, 4, 4, 4, 4, 4, 4, 4, 4, 4, 4, 4, 4, 4, 4, 4, 4, 4, 4, 4, 4, 4, 4, 4, 4, 4, 4, 4, 4, 4, 4, 4, 4, 4, 4, 4, 4, 4, 4, 4, 4, 4, 4, 4, 4, 4, 4, 4, 4, 4, 4, 4, 4, 4, 4, 4, 4, 4, 4, 4, 4, 4, 4, 4, 4, 4, 4, 4, 4, 4, 4, 4, 4, 4, 4, 4, 4, 4, 4, 4, 4, 4, 4, 4, 4, 4, 4, 4, 4, 4, 4, 4, 4, 4, 4, 4, 4, 4, 4, 4, 4, 4, 4, 4, 4, 4, 4, 4, 4, 4, 4, 4, 4, 4, 4, 4, 4, 4, 4, 4, 4, 4, 4, 4, 4, 4, 4, 4, 4, 4, 4, 4, 4, 4, 4, 4, 4, 4, 4, 4, 4, 4, 4, 4, 4, 4, 4, 4, 4, 4, 4, 4, 4, 4, 4, 4, 4, 4, 4, 4, 4, 4, 4, 4, 4, 4, 4, 4, 4, 4, 4, 4, 4, 4, 4, 4, 4, 4, 4, 4, 4, 4, 4, 4, 4, 4, 4, 4, 4, 4, 4, 4, 4, 4, 4, 4, 4, 4, 4, 4, 4, 4, 4, 4, 4, 4, 4, 4, 4, 4, 4, 4, 4, 4, 4, 4, 4, 4, 4, 4, 4, 4, 4, 4, 4, 4, 4, 4, 4, 4, 4, 4, 4, 4, 4, 4, 4, 4, 4, 4, 4, 4, 4, 4, 4, 4, 4, 4, 4, 4, 4, 4, 4, 4, 4, 4, 4, 4, 4, 4, 4, 4, 4, 4, 4, 4, 4, 4, 4, 4, 4, 4, 4, 4, 4, 4, 4, 4, 4, 4, 4, 4, 4, 4, 4, 4, 4, 4, 4, 4, 4, 4, 4, 4, 4, 4, 4, 4, 4, 4, 4, 4, 4, 4, 4, 4, 4, 4, 4, 4, 4, 4, 4, 4, 4, 4, 4, 4, 4, 4, 4, 4, 4, 4, 4, 4, 4, 4, 4, 4, 4, 4, 4, 4, 4, 4, 4, 4, 4, 4, 4, 4, 4, 4, 4, 4, 4, 4, 4, 4, 4, 4, 4, 4, 4, 4, 4, 4, 4, 4, 4, 4, 4, 4, 4, 4, 4, 4, 4, 4, 4, 4, 4, 4, 4, 4, 4, 4, 4, 4, 4, 4, 4, 4, 4, 4, 4, 4, 4, 4, 4, 4, 4, 4, 4, 4, 4, 4, 4, 4, 4, 4, 4, 4, 4, 4, 4, 4, 4, 4, 4, 4, 4, 4, 4, 4, 4, 4, 4, 4, 4, 4, 4, 4, 4, 4, 4, 4, 4, 4, 4, 4, 4, 4, 4, 4, 4, 4, 4, 4, 4, 4, 4, 4, 4, 4, 4, 4, 4, 4, 4, 4, 4, 4, 4, 4, 4, 4, 4, 4, 4, 4, 4, 4, 4, 4, 4, 4, 4, 4, 4, 4, 4, 4, 4, 4, 4, 4, 4, 4, 4, 4, 4, 4, 4, 4, 4, 4, 4, 4, 4, 4, 4, 4, 4, 4, 4, 4, 4, 4, 4, 4, 4, 4, 4, 4, 4, 4, 4, 4, 4, 4, 4, 4, 4, 4, 4, 4, 4, 4, 4, 4, 4, 4, 4, 4, 4, 4, 4, 4, 4, 4, 4, 4, 4, 4, 4, 4, 4, 4, 4, 4, 4, 4, 4, 4, 4, 4, 4, 4, 4, 4, 4, 4, 4, 4, 4, 4, 4, 4, 4, 4, 4, 4, 4, 4, 4, 4, 4, 4, 4, 4, 4, 4, 4, 4, 4, 4, 4, 4, 4, 4, 4, 4, 4, 4, 4, 4, 4, 4, 4, 4, 4, 4, 4, 4, 4, 4, 4, 4, 4, 4, 4, 4, 4, 4, 4, 4, 4, 4, 4, 4, 4, 4, 4, 4, 4, 4, 4, 4, 4, 4, 4, 4, 4, 4, 4, 4, 4, 4, 4, 4, 4, 4, 4, 4, 4, 4, 4, 4, 4, 4, 4, 4, 4, 4, 4, 4, 4, 4, 4, 4, 4, 4, 4, 4, 4, 4, 4, 4, 4, 4, 4, 4, 4, 4, 4, 4, 4, 4, 4, 4, 4, 4, 4, 4, 4, 4, 4, 4, 4, 4, 4, 4, 4, 4, 4, 4, 4, 4, 4, 4, 4, 4, 4, 4, 4, 4, 4, 4, 4, 4, 4, 4, 4, 4, 4, 4, 4, 4, 4, 4, 4, 4, 4, 4, 4, 4, 4, 4, 4, 4, 4, 4, 4, 4, 4, 4, 4, 4, 4, 4, 4, 4, 4, 4, 4, 4, 4, 4, 4, 4, 4, 4, 4, 4, 4, 4, 4, 4, 4, 4, 4, 4, 4, 4, 4, 4, 4, 4, 4, 4, 4, 4, 4, 4, 4, 4, 4, 4, 4, 4, 4, 4, 4, 4, 4, 4, 4, 4, 4, 4, 4, 4, 4, 4, 4, 4, 4, 4, 4, 4, 4, 4, 4, 4, 4, 4, 4, 4, 4, 4, 4, 4, 4, 4, 4, 4, 4, 4, 4, 4, 4, 4, 4, 4, 4, 4, 4, 4, 4, 4, 4, 4, 4, 4, 4, 4, 4, 4, 4, 4, 4, 4, 4, 4, 4, 4, 4, 4, 4, 4, 4, 4, 4, 4, 4, 4, 4, 4, 4, 4, 4, 4, 4, 4, 4, 4, 4, 4, 4, 4, 4, 4, 4, 4, 4, 4, 4, 4, 4, 4, 4, 4, 4, 4, 4, 4, 4, 4, 4, 4, 4, 4, 4, 4, 4, 4, 4, 4, 4, 4, 4, 4, 4, 4, 4, 4, 4, 4, 4, 4, 4, 4, 4, 4, 4, 4, 4, 4, 4, 4, 4, 4, 4, 4, 4, 4, 4, 4, 4, 4, 4, 4, 4, 4, 4, 4, 4, 4, 4, 4, 4, 4, 4, 4, 4, 4, 4, 4, 4, 4, 4, 4, 4, 4, 4, 4, 4, 4, 4, 4, 4, 4, 4, 4, 4, 4, 4, 4, 4, 4, 4, 4, 4, 4, 4, 4, 4, 4, 4, 4, 4, 4, 4, 4, 4, 4, 4, 4, 4, 4, 4, 4, 4, 4, 4, 4, 4, 4, 4, 4, 4, 4, 4, 4, 4, 4, 4, 4, 4, 4, 4, 4, 4, 4, 4, 4, 4, 4, 4, 4, 4, 4, 4, 4, 4, 4, 4, 4, 4, 4, 4, 4, 4, 4, 4, 4, 4, 4, 4, 4, 4, 4, 4, 4, 4, 4, 4, 4, 4, 4, 4, 4, 4, 4, 4, 4, 4, 4, 4, 4, 4, 4, 4, 4, 4, 4, 4, 4, 4, 4, 4, 4, 4, 4, 4, 4, 4, 4, 4, 4, 4, 4, 4, 4, 4, 4, 4, 4, 4, 4, 4, 4, 4, 4, 4, 4, 4, 4, 4, 4, 4, 4, 4, 4, 4, 4, 4, 4, 4, 4, 4, 4, 4, 4, 4, 4, 4, 4, 4, 4, 4, 4, 4, 4, 4, 4, 4, 4, 4, 4, 4, 4, 4, 4, 4, 4, 4, 4, 4, 4, 4, 4, 4, 4, 4, 4, 4, 4, 4, 4, 4, 4, 4, 4, 4, 4, 4, 4, 4, 4, 4, 4, 4, 4, 4, 4, 4, 4, 4, 4, 4, 4, 4, 4, 4, 4, 4, 4, 4, 4, 4, 4, 4, 4, 4, 4, 4, 4, 4, 4, 4, 4, 4, 4, 4, 4, 4, 4, 4, 4, 4, 4, 4, 4, 4, 4, 4, 4, 4, 4, 4, 4, 4, 4, 4, 4, 4, 4, 4, 4, 4, 4, 4, 4, 4, 4, 4, 4, 4, 4, 4, 4, 4, 4, 4, 4, 4, 4, 4, 4, 4, 4, 4, 4, 4, 4, 4, 4, 4, 4, 4, 4, 4, 4, 4, 4, 4, 4, 4, 4, 4, 4, 4, 4, 4, 4, 4, 4, 4, 4, 4, 4, 4, 4, 4, 4, 4, 4, 4, 4, 4, 4, 4, 4, 4, 4, 4, 4, 4, 4, 4, 4, 4, 4, 4, 4, 4, 4, 4, 4, 4, 4, 4, 4, 4, 4, 4, 4, 4, 4, 4, 4, 4, 4, 4, 4, 4, 4, 4, 4, 4, 4, 4, 4, 4, 4, 4, 4, 4, 4, 4, 4, 4, 4, 4, 4, 4, 4, 4, 4, 4, 4, 4, 4, 4, 4, 4, 4, 4, 4, 4, 4, 4, 4, 4, 4, 4, 4, 4, 4, 4, 4, 4, 4, 4, 4, 4, 4, 4, 4, 4, 4, 4, 4, 4, 4, 4, 4, 4, 4, 4, 4, 4, 4, 4, 4, 4, 4, 4, 4, 4, 4, 4, 4, 4, 4, 4, 4, 4, 4, 4, 4, 4, 4, 4, 4, 4, 4, 4, 4, 4, 4, 4, 4, 4, 4, 4, 4, 4, 4, 4, 4, 4, 4, 4, 4, 4, 4, 4, 4, 4, 4, 4, 4, 4, 4, 4, 4, 4, 4, 4, 4, 4, 4, 4, 4, 4, 4, 4, 4, 4, 4, 4, 4, 4, 4, 4, 4, 4, 4, 4, 4, 4, 4, 4, 4, 4, 4, 4, 4, 4, 4, 4, 4, 4, 4, 4, 4, 4, 4, 4, 4, 4, 4, 4, 4, 4, 4, 4, 4, 4, 4, 4, 4, 4, 4, 4, 4, 4, 4, 4, 4, 4, 4, 4, 4, 4, 4, 4, 4, 4, 4, 4, 4, 4, 4, 4, 4, 4, 4, 4, 4, 4, 4, 4, 4, 4, 4, 4, 4, 4, 4, 4, 4, 4, 4, 4, 4, 4, 4, 4, 4, 4, 4, 4, 4, 4, 4, 4, 4, 4, 4, 4, 4, 4, 4, 4, 4, 4, 4, 4, 4, 4, 4, 4, 4, 4, 4, 4, 4, 4, 4, 4, 4, 4, 4, 4, 4, 4, 4, 4, 4, 4, 4, 4, 4, 4, 4, 4, 4, 4, 4, 4, 4, 4, 4, 4, 4, 4, 4, 4, 4, 4, 4, 4, 4, 4, 4, 4, 4, 4, 4, 4, 4, 4, 4, 4, 4, 4, 4, 4, 4, 4, 4, 4, 4, 4, 4, 4, 4, 4, 4, 4, 4, 4, 4, 4, 4, 4, 4, 4, 4, 4, 4, 4, 4, 4, 4, 4, 4, 4, 4, 4, 4, 4, 4, 4, 4, 4, 4, 4, 4, 4, 4, 4, 4, 4, 4, 4, 4, 4, 4, 4, 4, 4, 4, 4, 4, 4, 4, 4, 4, 4, 4, 4, 4, 4, 4, 4, 4, 4, 4, 4, 4, 4, 4, 4, 4, 4, 4, 4, 4, 4, 4, 4, 4, 4, 4, 4, 4, 4, 4, 4, 4, 4, 4, 4, 4, 4, 4, 4, 4, 4, 4, 4, 4, 4, 4, 4, 4, 4, 4, 4, 4, 4, 4, 4, 4, 4, 4, 4, 4, 4, 4, 4, 4, 4, 4, 4, 4, 4, 4, 4, 4, 4, 4, 4, 4, 4, 4, 4, 4, 4, 4, 4, 4, 4, 4, 4, 4, 4, 4, 4, 4, 4, 4, 4, 4, 4, 4, 4, 4, 4, 4, 4, 4, 4, 4, 4, 4, 4, 4, 4, 4, 4, 4, 4, 4, 4, 4, 4, 4, 4, 4, 4, 4, 4, 4, 4, 4, 4, 4, 4, 4, 4, 4, 4, 4, 4, 4, 4, 4, 4, 4, 4, 4, 4, 4, 4, 4, 4, 4, 4, 4, 4, 4, 4, 4, 4, 4, 4, 4, 4, 4, 4, 4, 4, 4, 4, 4, 4, 4, 4, 4, 4, 4, 4, 4, 4, 4, 4, 4, 4, 4, 4, 4, 4, 4, 4, 4, 4, 4, 4, 4, 4, 4, 4, 4, 4, 4, 4, 4, 4, 4, 4, 4, 4, 4, 4, 4, 4, 4, 4, 4, 4, 4, 4, 4, 4, 4, 4, 4, 4, 4, 4, 4, 4, 4, 4, 4, 4, 4, 4, 4, 4, 4, 4, 4, 4, 4, 4, 4, 4, 4, 4, 4, 4, 4, 4, 4, 4, 4, 4, 4, 4, 4, 4, 4, 4, 4, 4, 4, 4, 4, 4, 4, 4, 4, 4, 4, 4, 4, 4, 4, 4, 4, 4, 4, 4, 4, 4, 4, 4, 4, 4, 4, 4, 4, 4, 4, 4, 4, 4, 4, 4, 4, 4, 4, 4, 4, 4, 4, 4, 4, 4, 4, 4, 4, 4, 4, 4, 4, 4, 4, 4, 4, 4, 4, 4, 4, 4, 4, 4, 4, 4, 4, 4, 4, 4, 4, 4, 4, 4, 4, 4, 4, 4, 4, 4, 4, 4, 4, 4, 4, 4, 4, 4, 4, 4, 4, 4, 4, 4, 4, 4, 4, 4, 4, 4, 4, 4, 4, 4, 4, 4, 4, 4, 4, 4, 4, 4, 4, 4, 4, 4, 4, 4, 4, 4, 4, 4, 4, 4, 4, 4, 4, 4, 4, 4, 4, 4, 4, 4, 4, 4, 4, 4, 4, 4, 4, 4, 4, 4, 4, 4, 4, 4, 4, 4, 4, 4, 4, 4, 4, 4, 4, 4, 4, 4, 4, 4, 4, 4, 4, 4, 4, 4, 4, 4, 4, 4, 4, 4, 4, 4, 4, 4, 4, 4, 4, 4, 4, 4, 4, 4, 4, 4, 4, 4, 4, 4, 4, 4, 4, 4, 4, 4, 4, 4, 4, 4, 4, 4, 4, 4, 4, 4, 4, 4, 4, 4, 4, 4, 4, 4, 4, 4, 4, 4, 4, 4, 4, 4, 4, 4, 4, 4, 4, 4, 4, 4, 4, 4, 4, 4, 4, 4, 4, 4, 4, 4, 4, 4, 4, 4, 4, 4, 4, 4, 4, 4, 4, 4, 4, 4, 4, 4, 4, 4, 4, 4, 4, 4, 4, 4, 4, 4, 4, 4, 4, 4, 4, 4, 4, 4, 4, 4, 4, 4, 4, 4, 4, 4, 4, 4, 4, 4, 4, 4, 4, 4, 4, 4, 4, 4, 4, 4, 4, 4, 4, 4, 4, 4, 4, 4, 4, 4, 4, 4, 4, 4, 4, 4, 4, 4, 4, 4, 4, 4, 4, 4, 4, 4, 4, 4, 4, 4, 4, 4, 4, 4, 4, 4, 4, 4, 4, 4, 4, 4, 4, 4, 4, 4, 4, 4, 4, 4, 4, 4, 4, 4, 4, 4, 4, 4, 4, 4, 4, 4, 4, 4, 4, 4, 4, 4, 4, 4, 4, 4, 4, 4, 4, 4, 4, 4, 4, 4, 4, 4, 4, 4, 4, 4, 4, 4, 4, 4, 4, 4, 4, 4, 4, 4, 4, 4, 4, 4, 4, 4, 4, 4, 4, 4, 4, 4, 4, 4, 4, 4, 4, 4, 4, 4, 4, 4, 4, 4, 4, 4, 4, 4, 4, 4, 4, 4, 4, 4, 4, 4, 4, 4, 4, 4, 4, 4, 4, 4, 4, 4, 4, 4, 4, 4, 4, 4, 4, 4, 4, 4, 4, 4, 4, 4, 4, 4, 4, 4, 4, 4, 4, 4, 4, 4, 4, 4, 4, 4, 4, 4, 4, 4, 4, 4, 4, 4, 4, 4, 4, 4, 4, 4, 4, 4, 4, 4, 4, 4, 4, 4, 4, 4, 4, 4, 4, 4, 4, 4, 4, 4, 4, 4, 4, 4, 4, 4, 4, 4, 4, 4, 4, 4, 4, 4, 4, 4, 4, 4, 4, 4, 4, 4, 4, 4, 4, 4, 4, 4, 4, 4, 4, 4, 4, 4, 4, 4, 4, 4, 4, 4, 4, 4, 4, 4, 4, 4, 4, 4, 4, 4, 4, 4, 4, 4, 4, 4, 4, 4, 4, 4, 4, 4, 4, 4, 4, 4, 4, 4, 4, 4, 4, 4, 4, 4, 4, 4, 4, 4, 4, 4, 4, 4, 4, 4, 4, 4, 4, 4, 4, 4, 4, 4, 4, 4, 4, 4, 4, 4, 4, 4, 4, 4, 4, 4, 4, 4, 4, 4, 4, 4, 4, 4, 4, 4, 4, 4, 4, 4, 4, 4, 4, 4, 4, 4, 4, 4, 4, 4, 4, 4, 4, 4, 4, 4, 4, 4, 4, 4, 4, 4, 4, 4, 4, 4, 4, 4, 4, 4, 4, 4, 4, 4, 4, 4, 4, 4, 4, 4, 4, 4, 4, 4, 4, 4, 4, 4, 4, 4, 4, 4, 4, 4, 4, 4, 4, 4, 4, 4, 4, 4, 4, 4, 4, 4, 4, 4, 4, 4, 4, 4, 4, 4, 4, 4, 4, 4, 4, 4, 4, 4, 4, 4, 4, 4, 4, 4, 4, 4, 4, 4, 4, 4, 4, 4, 4, 4, 4, 4, 4, 4, 4, 4, 4, 4, 4, 4, 4, 4, 4, 4, 4, 4, 4, 4, 4, 4, 4, 4, 4, 4, 4, 4, 4, 4, 4, 4, 4, 4, 4, 4, 4, 4, 4, 4, 4, 4, 4, 4, 4, 4, 4, 4, 4, 4, 4, 4, 4, 4, 4, 4, 4, 4, 4, 4, 4, 4, 4, 4, 4, 4, 4, 4, 4, 4, 4, 4, 4, 4, 4, 4, 4, 4, 4, 4, 4, 4, 4, 4, 4, 4, 4, 4, 4, 4, 4, 4, 4, 4, 4, 4, 4, 4, 4, 4, 4, 4, 4, 4, 4, 4, 4, 4, 4, 4, 4, 4, 4, 4, 4, 4, 4, 4, 4, 4, 4, 4, 4, 4, 4, 4, 4, 4, 4, 4, 4, 4, 4, 4, 4, 4, 4, 4, 4, 4, 4, 4, 4, 4, 4, 4, 4, 4, 4, 4, 4, 4, 4, 4, 4, 4, 4, 4, 4, 4, 4, 4, 4, 4, 4, 4, 4, 4, 4, 4, 4, 4, 4, 4, 4, 4, 4, 4, 4, 4, 4, 4, 4, 4, 4, 4, 4, 4, 4, 4, 4, 4, 4, 4, 4, 4, 4, 4, 4, 4, 4, 4, 4, 4, 4, 4, 4, 4, 4, 4, 4, 4, 4, 4, 4, 4, 4, 4, 4, 4, 4, 4, 4, 4, 4, 4, 4, 4, 4, 4, 4, 4, 4, 4, 4, 4, 4, 4, 4, 4, 4, 4, 4, 4, 4, 4, 4, 4, 4, 4, 4, 4, 4, 4, 4, 4, 4, 4, 4, 4, 4, 4, 4, 4, 4, 4, 4, 4, 4, 4, 4, 4, 4, 4, 4, 4, 4, 4, 4, 4, 4, 4, 4, 4, 4, 4, 4, 4, 4, 4, 4, 4, 4, 4, 4, 4, 4, 4, 4, 4, 4, 4, 4, 4, 4, 4, 4, 4, 4, 4, 4, 4, 4, 4, 4, 4, 4, 4, 4, 4, 4, 4, 4, 4, 4, 4, 4, 4, 4, 4, 4, 4, 4, 4, 4, 4, 4, 4, 4, 4, 4, 4, 4, 4, 4, 4, 4, 4, 4, 4, 4, 4, 4, 4, 4, 4, 4, 4, 4, 4, 4, 4, 4, 4, 4, 4, 4, 4, 4, 4, 4, 4, 4, 4, 4, 4, 4, 4, 4, 4, 4, 4, 4, 4, 4, 4, 4, 4, 4, 4, 4, 4, 4, 4, 4, 4, 4, 4, 4, 4, 4, 4, 4, 4, 4, 4, 4, 4, 4, 4, 4, 4, 4, 4, 4, 4, 4, 4, 4, 4, 4, 4, 4, 4, 4, 4, 4, 4, 4, 4, 4, 4, 4, 4, 4, 4, 4, 4, 4, 4, 4, 4, 4, 4, 4, 4, 4, 4, 4, 4, 4, 4, 4, 4, 4, 4, 4, 4, 4, 4, 4, 4, 4, 4, 4, 4, 4, 4, 4, 4, 4, 4, 4, 4, 4, 4, 4, 4, 4, 4, 4, 4, 4, 4, 4, 4, 4, 4, 4, 4, 4, 4, 4, 4, 4, 4, 4, 4, 4, 4, 4, 4, 4, 4, 4, 4, 4, 4, 4, 4, 4, 4, 4, 4, 4, 4, 4, 4, 4, 4, 4, 4, 4, 4, 4, 4, 4, 4, 4, 4, 4, 4, 4, 4, 4, 4, 4, 4, 4, 4, 4, 4, 4, 4, 4, 4, 4, 4, 4, 4, 4, 4, 4, 4, 4, 4, 4, 4, 4, 4, 4, 4, 4, 4, 4, 4, 4, 4, 4, 4, 4, 4, 4, 4, 4, 4, 4, 4, 4, 4, 4, 4, 4, 4, 4, 4, 4, 4, 4, 4, 4, 4, 4, 4, 4, 4, 4, 4, 4, 4, 4, 4, 4, 4, 4, 4, 4, 4, 4, 4, 4, 4, 4, 4, 4, 4, 4, 4, 4, 4, 4, 4, 4, 4, 4, 4, 4, 4, 4, 4, 4, 4, 4, 4, 4, 4, 4, 4, 4, 4, 4, 4, 4, 4, 4, 4, 4, 4, 4, 4, 4, 4, 4, 4, 4, 4, 4, 4, 4, 4, 4, 4, 4, 4, 4, 4, 4, 4, 4, 4, 4, 4, 4, 4, 4, 4, 4, 4, 4, 4, 4, 4, 4, 4, 4, 4, 4, 4, 4, 4, 4, 4, 4, 4, 4, 4, 4, 4, 4, 4, 4, 4, 4, 4, 4, 4, 4, 4, 4, 4, 4, 4, 4, 4, 4, 4, 4, 4, 4, 4, 4, 4, 4, 4, 4, 4, 4, 4, 4, 4, 4, 4, 4, 4, 4, 4, 4, 4, 4, 4, 4, 4, 4, 4, 4, 4, 4, 4, 4, 4, 4, 4, 4, 4, 4, 4, 4, 4, 4, 4, 4, 4, 4, 4, 4, 4, 4, 4, 4, 4, 4, 4, 4, 4, 4, 4, 4, 4, 4, 4, 4, 4, 4, 4, 4, 4, 4, 4, 4, 4, 4, 4, 4, 4, 4, 4, 4, 4, 4, 4, 4, 4, 4, 4, 4, 4, 4, 4, 4, 4, 4, 4, 4, 4, 4, 4, 4, 4, 4, 4, 4, 4, 4, 4, 4, 4, 4, 4, 4, 4, 4, 4, 4, 4, 4, 4, 4, 4, 4, 4, 4, 4, 4, 4, 4, 4, 4, 4, 4, 4, 4, 4, 4, 4, 4, 4, 4, 4, 4, 4, 4, 4, 4, 4, 4, 4, 4, 4, 4, 4, 4, 4, 4, 4, 4, 4, 4, 4, 4, 4, 4, 4, 4, 4, 4, 4, 4, 4, 4, 4, 4, 4, 4, 4, 4, 4, 4, 4, 4, 4, 4, 4, 4, 4, 4, 4, 4, 4, 4, 4, 4, 4, 4, 4, 4, 4, 4, 4, 4, 4, 4, 4, 4, 4, 4, 4, 4, 4, 4, 4, 4, 4, 4, 4, 4], [19, 40, 40, 40, 40, 40, 40, 40, 40, 43, 43, 43, 43, 43, 43, 43, 43, 43, 43, 43, 43, 43, 43, 43, 43, 43, 43, 43, 43, 43, 43, 43, 43, 43, 43, 43, 43, 43, 43, 43, 43, 43, 43, 43, 43, 43, 43, 43, 43, 43, 43, 43, 43, 43, 43, 43, 43, 43, 43, 43, 43, 43, 43, 43, 63, 63, 63, 63, 63, 63, 63, 63, 63, 63, 63, 95, 95, 95, 95, 95, 95, 95, 95, 95, 95, 95, 95, 95, 95, 95, 95, 95, 95, 95, 109, 109, 109, 109, 109, 109, 109, 109, 109, 109, 109, 109, 109, 109, 109, 109, 109, 109, 109, 109, 109, 109, 109, 109, 109, 109, 109, 109, 109, 109, 109, 109, 109, 109, 109, 109, 109, 109, 109, 109, 109, 109, 112, 112, 112, 112, 112, 112, 112, 112, 112, 112, 112, 112, 112, 112, 112, 112, 112, 112, 112, 112, 112, 112, 112, 112, 112, 112, 112, 112, 112, 112, 112, 112, 116, 116, 120, 120, 120, 120, 120, 120, 120, 120, 120, 120, 120, 126, 126, 126, 126, 126, 126, 126, 126, 126, 126, 126, 126, 126, 126, 126, 126, 126, 126, 126, 128, 128, 128, 128, 128, 128, 128, 128, 128, 128, 128, 134, 134, 148, 148, 148, 148, 148, 148, 148, 148, 148, 148, 148, 148, 148, 148, 148, 148, 148, 148, 148, 148, 148, 148, 148, 148, 148, 148, 148, 148, 148, 148, 148, 148, 148, 148, 148, 148, 148, 148, 151, 151, 163, 163, 163, 163, 163, 163, 163, 163, 163, 163, 163, 163, 163, 163, 163, 163, 163, 163, 163, 163, 163, 163, 163, 163, 174, 174, 181, 181, 181, 197, 197, 197, 197, 197, 197, 197, 197, 197, 197, 197, 197, 197, 197, 197, 197, 197, 197, 197, 197, 197, 197, 197, 197, 197, 197, 197, 197, 197, 197, 197, 197, 197, 197, 207, 207, 207, 207, 210, 210, 210, 210, 210, 210, 210, 210, 210, 210, 210, 210, 210, 210, 210, 210, 210, 210, 210, 210, 210, 210, 216, 216, 216, 229, 229, 229, 229, 229, 229, 229, 229, 229, 229, 229, 229, 229, 229, 229, 229, 229, 229, 229, 229, 229, 229, 229, 229, 229, 263, 263, 263, 263, 263, 263, 263, 263, 263, 263, 263, 263, 263, 263, 263, 263, 263, 263, 263, 267, 267, 267, 267, 267, 267, 267, 267, 267, 267, 267, 267, 267, 267, 267, 267, 267, 267, 267, 277, 277, 277, 277, 277, 277, 277, 277, 277, 292, 292, 292, 314, 314, 314, 314, 314, 314, 314, 314, 314, 314, 314, 314, 314, 314, 314, 314, 314, 314, 314, 314, 314, 314, 314, 314, 314, 331, 331, 331, 331, 331, 331, 343, 343, 343, 343, 343, 343, 343, 343, 343, 343, 343, 343, 343, 343, 343, 343, 343, 343, 343, 343, 343, 345, 345, 345, 345, 345, 345, 345, 345, 345, 345, 345, 345, 345, 345, 345, 345, 345, 345, 345, 345, 345, 345, 345, 345, 345, 345, 349, 349, 349, 349, 349, 349, 349, 349, 349, 349, 349, 349, 349, 349, 349, 349, 349, 349, 349, 349, 349, 349, 349, 349, 349, 349, 349, 349, 349, 349, 349, 369, 369, 392, 392, 392, 392, 392, 392, 392, 392, 392, 392, 392, 392, 392, 392, 392, 392, 392, 392, 392, 392, 392, 392, 392, 392, 392, 392, 392, 392, 392, 392, 392, 392, 392, 392, 392, 392, 392, 392, 392, 392, 392, 392, 398, 398, 442, 442, 442, 442, 442, 442, 442, 442, 442, 493, 493, 493, 493, 493, 493, 493, 493, 493, 493, 493, 493, 493, 493, 493, 493, 517, 517, 517, 517, 517, 517, 517, 517, 517, 517, 517, 517, 517, 517, 528, 528, 528, 528, 528, 528, 528, 528, 528, 528, 528, 528, 528, 528, 567, 567, 567, 567, 581, 581, 581, 581, 581, 581, 581, 581, 581, 581, 581, 581, 581, 581, 581, 581, 581, 581, 581, 581, 581, 581, 581, 581, 581, 581, 581, 581, 581, 581, 581, 581, 581, 581, 581, 581, 581, 581, 581, 596, 596, 596, 596, 596, 596, 596, 596, 596, 596, 596, 596, 596, 596, 596, 596, 596, 596, 596, 596, 596, 596, 596, 596, 596, 596, 608, 608, 608, 608, 608, 608, 608, 613, 613, 621, 621, 621, 621, 623, 623, 623, 623, 629, 629, 629, 629, 629, 629, 629, 629, 629, 629, 629, 629, 629, 629, 629, 629, 629, 629, 629, 629, 629, 629, 634, 634, 634, 634, 634, 634, 634, 634, 634, 634, 634, 634, 634, 634, 634, 634, 634, 634, 634, 634, 634, 634, 634, 634, 634, 634, 634, 634, 647, 647, 647, 647, 647, 647, 647, 647, 647, 647, 647, 647, 647, 647, 647, 647, 647, 647, 647, 647, 647, 647, 647, 649, 649, 649, 649, 649, 649, 649, 649, 649, 649, 649, 649, 649, 649, 649, 649, 649, 649, 659, 663, 668, 668, 668, 668, 668, 668, 668, 668, 668, 668, 668, 668, 668, 668, 668, 668, 668, 668, 668, 668, 668, 668, 668, 668, 668, 668, 668, 668, 668, 668, 668, 668, 668, 668, 678, 678, 678, 678, 678, 706, 706, 706, 712, 712, 712, 712, 712, 712, 712, 729, 729, 735, 735, 735, 735, 735, 735, 735, 735, 735, 735, 735, 741, 741, 741, 741, 741, 741, 741, 741, 741, 741, 741, 741, 741, 741, 759, 759, 759, 759, 759, 759, 759, 759, 759, 759, 759, 759, 759, 759, 759, 759, 759, 759, 759, 759, 759, 771, 771, 771, 771, 771, 771, 771, 771, 771, 771, 784, 784, 784, 784, 784, 784, 792, 792, 792, 792, 792, 807, 807, 807, 807, 807, 807, 807, 807, 807, 807, 807, 807, 807, 807, 807, 807, 807, 807, 807, 807, 807, 807, 807, 807, 807, 807, 807, 807, 807, 808, 808, 808, 808, 808, 808, 808, 808, 808, 808, 808, 808, 808, 808, 808, 808, 808, 808, 808, 808, 808, 808, 808, 808, 808, 808, 808, 808, 808, 808, 808, 808, 808, 808, 808, 808, 808, 826, 826, 826, 826, 826, 826, 826, 826, 826, 826, 826, 826, 826, 826, 826, 826, 826, 826, 826, 826, 826, 826, 826, 826, 827, 827, 827, 831, 831, 868, 868, 868, 868, 868, 868, 868, 868, 868, 868, 868, 868, 868, 868, 868, 868, 868, 868, 868, 868, 868, 868, 874, 874, 874, 874, 874, 874, 874, 874, 878, 878, 878, 878, 878, 878, 878, 878, 878, 878, 878, 878, 878, 878, 878, 878, 878, 878, 878, 878, 878, 878, 880, 880, 882, 882, 882, 882, 882, 882, 891, 891, 891, 891, 891, 891, 891, 891, 891, 891, 891, 891, 891, 891, 891, 898, 898, 898, 898, 898, 898, 898, 898, 898, 898, 898, 898, 898, 898, 898, 898, 898, 898, 898, 898, 898, 916, 916, 916, 916, 916, 937, 937, 937, 937, 937, 937, 937, 937, 937, 937, 937, 937, 937, 937, 937, 937, 937, 937, 937, 937, 937, 937, 937, 937, 937, 937, 937, 937, 937, 944, 944, 980, 980, 995, 995, 995, 995, 995, 995, 995, 997, 997, 1007, 1007, 1007, 1007, 1007, 1007, 1007, 1007, 1007, 1007, 1007, 1007, 1007, 1007, 1007, 1007, 1007, 1007, 1007, 1007, 1007, 1007, 1007, 1007, 1007, 1007, 1007, 1007, 1007, 1007, 1007, 1007, 1007, 1007, 1007, 1007, 1007, 1007, 1007, 1007, 1007, 1008, 1008, 1008, 1008, 1008, 1008, 1008, 1008, 1008, 1062, 1067, 1067, 1067, 1067, 1067, 1067, 1067, 1067, 1067, 1067, 1067, 1075, 1075, 1075, 1075, 1075, 1075, 1075, 1075, 1075, 1075, 1075, 1075, 1075, 1075, 1075, 1075, 1075, 1075, 1075, 1075, 1075, 1075, 1075, 1075, 1075, 1075, 1075, 1075, 1075, 1075, 1075, 1075, 1075, 1075, 1075, 1075, 1075, 1075, 1075, 1075, 1075, 1075, 1075, 1075, 1075, 1075, 1075, 1075, 1075, 1075, 1075, 1075, 1075, 1075, 1075, 1075, 1075, 1075, 1083, 1083, 1083, 1083, 1083, 1083, 1083, 1083, 1083, 1083, 1083, 1083, 1083, 1083, 1083, 1083, 1083, 1083, 1083, 1083, 1083, 1083, 1091, 1091, 1091, 1095, 1095, 1095, 1095, 1095, 1095, 1095, 1095, 1095, 1095, 1095, 1095, 1095, 1095, 1095, 1095, 1095, 1095, 1095, 1095, 1095, 1095, 1095, 1095, 1095, 1095, 1095, 1095, 1095, 1095, 1095, 1095, 1095, 1095, 1095, 1095, 1095, 1095, 1095, 1095, 1095, 1095, 1095, 1095, 1095, 1095, 1095, 1095, 1095, 1095, 1095, 1095, 1095, 1095, 1095, 1095, 1095, 1095, 1095, 1095, 1095, 1095, 1098, 1098, 1098, 1098, 1098, 1098, 1107, 1107, 1107, 1107, 1107, 1107, 1107, 1107, 1107, 1107, 1107, 1107, 1107, 1107, 1107, 1107, 1107, 1107, 1124, 1124, 1124, 1124, 1124, 1124, 1124, 1124, 1124, 1124, 1124, 1124, 1124, 1124, 1124, 1124, 1124, 1124, 1134, 1134, 1134, 1134, 1134, 1134, 1134, 1134, 1134, 1134, 1137, 1137, 1137, 1137, 1137, 1137, 1150, 1150, 1150, 1150, 1150, 1150, 1150, 1150, 1152, 1152, 1152, 1152, 1152, 1152, 1152, 1152, 1152, 1152, 1152, 1152, 1152, 1152, 1152, 1152, 1152, 1152, 1152, 1152, 1152, 1152, 1152, 1152, 1152, 1152, 1152, 1152, 1152, 1156, 1156, 1156, 1156, 1156, 1156, 1156, 1156, 1156, 1156, 1156, 1156, 1156, 1156, 1156, 1156, 1156, 1156, 1156, 1156, 1156, 1156, 1156, 1156, 1156, 1156, 1156, 1156, 1156, 1156, 1156, 1156, 1156, 1159, 1159, 1159, 1159, 1159, 1159, 1159, 1159, 1159, 1159, 1159, 1159, 1159, 1159, 1167, 1167, 1167, 1167, 1167, 1167, 1167, 1167, 1167, 1167, 1167, 1167, 1167, 1167, 1185, 1185, 1185, 1185, 1185, 1247, 1247, 1247, 1247, 1247, 1247, 1247, 1247, 1247, 1247, 1247, 1247, 1247, 1247, 1247, 1247, 1247, 1247, 1247, 1247, 1247, 1247, 1247, 1247, 1247, 1276, 1276, 1288, 1288, 1288, 1288, 1288, 1288, 1288, 1288, 1288, 1288, 1288, 1288, 1288, 1288, 1288, 1288, 1288, 1288, 1288, 1288, 1288, 1288, 1288, 1288, 1288, 1288, 1288, 1288, 1288, 1288, 1288, 1289, 1289, 1289, 1289, 1289, 1289, 1289, 1289, 1289, 1289, 1289, 1289, 1289, 1291, 1291, 1291, 1291, 1291, 1291, 1291, 1291, 1291, 1291, 1291, 1291, 1291, 1291, 1291, 1291, 1291, 1291, 1291, 1291, 1291, 1291, 1291, 1316, 1316, 1316, 1316, 1316, 1317, 1353, 1353, 1353, 1353, 1353, 1353, 1353, 1353, 1353, 1353, 1353, 1373, 1373, 1373, 1373, 1373, 1373, 1407, 1407, 1407, 1407, 1407, 1407, 1407, 1407, 1407, 1407, 1407, 1407, 1407, 1407, 1407, 1407, 1407, 1407, 1407, 1407, 1407, 1407, 1407, 1407, 1407, 1407, 1407, 1407, 1407, 1407, 1407, 1427, 1427, 1427, 1427, 1427, 1427, 1427, 1427, 1427, 1427, 1427, 1427, 1427, 1427, 1427, 1427, 1427, 1427, 1427, 1427, 1427, 1427, 1427, 1427, 1427, 1427, 1427, 1427, 1427, 1427, 1427, 1427, 1427, 1427, 1427, 1427, 1427, 1427, 1427, 1427, 1441, 1441, 1441, 1441, 1441, 1441, 1441, 1441, 1441, 1441, 1441, 1446, 1446, 1446, 1446, 1455, 1455, 1455, 1455, 1455, 1455, 1455, 1455, 1461, 1461, 1461, 1461, 1461, 1461, 1461, 1461, 1461, 1461, 1461, 1461, 1461, 1461, 1461, 1461, 1461, 1461, 1461, 1461, 1461, 1461, 1461, 1461, 1461, 1485, 1485, 1485, 1485, 1485, 1501, 1501, 1501, 1504, 1504, 1504, 1504, 1504, 1504, 1504, 1504, 1504, 1504, 1504, 1504, 1504, 1504, 1504, 1504, 1504, 1504, 1504, 1504, 1504, 1504, 1504, 1504, 1504, 1504, 1504, 1504, 1504, 1504, 1504, 1504, 1504, 1504, 1504, 1504, 1504, 1504, 1504, 1504, 1504, 1504, 1504, 1504, 1504, 1504, 1504, 1504, 1504, 1504, 1504, 1515, 1515, 1515, 1515, 1515, 1515, 1515, 1515, 1515, 1515, 1515, 1515, 1515, 1515, 1515, 1515, 1515, 1515, 1515, 1515, 1515, 1515, 1515, 1515, 1515, 1515, 1515, 1515, 1515, 1515, 1515, 1515, 1515, 1515, 1515, 1531, 1531, 1531, 1531, 1531, 1531, 1531, 1534, 1534, 1538, 1538, 1550, 1550, 1550, 1550, 1550, 1550, 1550, 1550, 1550, 1550, 1550, 1550, 1550, 1550, 1550, 1550, 1550, 1550, 1550, 1550, 1550, 1550, 1550, 1550, 1550, 1550, 1550, 1550, 1550, 1550, 1550, 1592, 1592, 1592, 1592, 1614, 1614, 1614, 1614, 1614, 1614, 1614, 1614, 1615, 1615, 1615, 1615, 1615, 1615, 1615, 1615, 1615, 1615, 1615, 1660, 1660, 1660, 1660, 1660, 1660, 1660, 1660, 1660, 1660, 1660, 1660, 1660, 1660, 1703, 1703, 1703, 1703, 1703, 1703, 1711, 1711, 1711, 1711, 1711, 1711, 1711, 1711, 1711, 1711, 1711, 1711, 1711, 1711, 1711, 1711, 1711, 1711, 1734, 1734, 1734, 1734, 1734, 1734, 1734, 1734, 1734, 1734, 1734, 1756, 1756, 1756, 1756, 1756, 1756, 1756, 1756, 1756, 1756, 1756, 1756, 1756, 1756, 1756, 1756, 1756, 1756, 1756, 1756, 1756, 1756, 1756, 1756, 1756, 1756, 1756, 1756, 1756, 1756, 1756, 1756, 1756, 1756, 1756, 1756, 1756, 1756, 1790, 1790, 1790, 1790, 1790, 1790, 1790, 1790, 1790, 1790, 1790, 1790, 1790, 1790, 1790, 1790, 1790, 1790, 1790, 1790, 1790, 1790, 1790, 1790, 1790, 1790, 1790, 1790, 1790, 1790, 1790, 1790, 1790, 1790, 1790, 1790, 1790, 1790, 1790, 1790, 1790, 1790, 1790, 1790, 1790, 1790, 1790, 1790, 1790, 1790, 1790, 1790, 1790, 1790, 1790, 1790, 1790, 1790, 1790, 1790, 1790, 1790, 1790, 1790, 1790, 1790, 1790, 1790, 1790, 1790, 1790, 1790, 1799, 1799, 1799, 1799, 1799, 1799, 1799, 1799, 1799, 1799, 1799, 1799, 1799, 1799, 1799, 1799, 1799, 1799, 1799, 1799, 1799, 1799, 1799, 1799, 1799, 1799, 1799, 1799, 1799, 1799, 1799, 1799, 1799, 1799, 1799, 1799, 1799, 1799, 1799, 1799, 1799, 1799, 1799, 1799, 1799, 1799, 1801, 1801, 1801, 1801, 1801, 1801, 1801, 1801, 1801, 1801, 1801, 1801, 1801, 1801, 1801, 1801, 1801, 1801, 1801, 1801, 1801, 1801, 1801, 1801, 1801, 1801, 1801, 1801, 1801, 1801, 1801, 1801, 1801, 1801, 1801, 1805, 1805, 1805, 1805, 1805, 1805, 1805, 1805, 1805, 1805, 1805, 1805, 1805, 1805, 1830, 1830, 1830, 1830, 1830, 1830, 1830, 1830, 1830, 1830, 1830, 1830, 1830, 1830, 1830, 1830, 1830, 1830, 1846, 1846, 1848, 1848, 1848, 1848, 1848, 1848, 1848, 1848, 1848, 1848, 1848, 1848, 1848, 1848, 1851, 1851, 1851, 1851, 1851, 1851, 1851, 1851, 1851, 1851, 1851, 1851, 1851, 1851, 1852, 1852, 1852, 1852, 1854, 1889, 1893, 1893, 1893, 1893, 1893, 1893, 1893, 1893, 1893, 1893, 1893, 1893, 1893, 1893, 1893, 1893, 1893, 1893, 1893, 1893, 1893, 1893, 1905, 1905, 1905, 1905, 1905, 1905, 1905, 1905, 1905, 1905, 1905, 1905, 1905, 1905, 1905, 1905, 1905, 1905, 1905, 1905, 1905, 1905, 1905, 1905, 1905, 1905, 1905, 1905, 1905, 1905, 1905, 1905, 1905, 1905, 1905, 1905, 1905, 1905, 1905, 1905, 1905, 1913, 1913, 1935, 1935, 1935, 1938, 1938, 1938, 1938, 1938, 1938, 1946, 1946, 1946, 1946, 1946, 1946, 1946, 1946, 1946, 1956, 1956, 1956, 1956, 1956, 1963, 1963, 1963, 1963, 1963, 1963, 1963, 1963, 1963, 1963, 1963, 1963, 1963, 1963, 1963, 1963, 1963, 1963, 1963, 1963, 1963, 1963, 1963, 1963, 1963, 1963, 1963, 1963, 1963, 1963, 1963, 1963, 1963, 1963, 1963, 1963, 1963, 1963, 1966, 1966, 1966, 1976, 1976, 1976, 1976, 1976, 1976, 1976, 1976, 1976, 1976, 1976, 1976, 1976, 1976, 1976, 1976, 1976, 1976, 2004, 2004, 2004, 2004, 2004, 2004, 2004, 2004, 2004, 2005, 2005, 2005, 2005, 2005, 2005, 2005, 2005, 2019, 2019, 2019, 2019, 2019, 2019, 2019, 2051, 2051, 2051, 2051, 2051, 2051, 2051, 2051, 2051, 2051, 2051, 2051, 2051, 2051, 2051, 2051, 2051, 2051, 2051, 2051, 2051, 2051, 2051, 2051, 2051, 2051, 2051, 2051, 2051, 2051, 2051, 2051, 2051, 2051, 2051, 2051, 2051, 2059, 2059, 2059, 2059, 2059, 2059, 2059, 2059, 2059, 2070, 2070, 2070, 2070, 2070, 2070, 2070, 2094, 2094, 2094, 2094, 2097, 2097, 2097, 2097, 2097, 2097, 2097, 2097, 2097, 2097, 2097, 2097, 2097, 2097, 2097, 2097, 2097, 2097, 2097, 2097, 2097, 2097, 2097, 2097, 2097, 2097, 2097, 2097, 2097, 2097, 2097, 2097, 2097, 2097, 2097, 2097, 2097, 2097, 2097, 2114, 2120, 2120, 2142, 2142, 2142, 2142, 2142, 2142, 2142, 2142, 2142, 2150, 2150, 2150, 2150, 2150, 2150, 2150, 2150, 2150, 2155, 2155, 2155, 2155, 2155, 2155, 2155, 2155, 2165, 2165, 2165, 2165, 2165, 2165, 2165, 2165, 2165, 2165, 2165, 2165, 2165, 2165, 2165, 2165, 2166, 2166, 2166, 2166, 2166, 2166, 2172, 2172, 2172, 2172, 2172, 2172, 2172, 2172, 2172, 2172, 2172, 2172, 2172, 2172, 2172, 2172, 2174, 2174, 2175, 2175, 2175, 2175, 2175, 2175, 2175, 2175, 2175, 2175, 2175, 2175, 2175, 2175, 2175, 2175, 2230, 2230, 2230, 2230, 2232, 2232, 2271, 2271, 2271, 2271, 2271, 2271, 2271, 2271, 2271, 2271, 2271, 2275, 2275, 2275, 2275, 2275, 2275, 2275, 2275, 2275, 2275, 2275, 2275, 2275, 2291, 2291, 2291, 2291, 2291, 2291, 2291, 2291, 2291, 2291, 2291, 2291, 2291, 2291, 2291, 2291, 2291, 2291, 2291, 2291, 2291, 2291, 2291, 2291, 2291, 2291, 2291, 2291, 2291, 2291, 2291, 2291, 2336, 2336, 2336, 2336, 2336, 2336, 2336, 2336, 2336, 2336, 2336, 2336, 2336, 2336, 2336, 2336, 2336, 2336, 2336, 2336, 2336, 2336, 2336, 2336, 2336, 2336, 2336, 2336, 2336, 2336, 2338, 2338, 2345, 2345, 2345, 2345, 2345, 2345, 2345, 2345, 2345, 2345, 2345, 2345, 2345, 2345, 2345, 2345, 2345, 2345, 2345, 2345, 2345, 2345, 2345, 2345, 2345, 2345, 2345, 2345, 2345, 2345, 2345, 2345, 2345, 2345, 2345, 2345, 2345, 2345, 2345, 2345, 2345, 2345, 2345, 2345, 2345, 2345, 2345, 2345, 2345, 2354, 2354, 2354, 2354, 2354, 2369, 2369, 2369, 2369, 2369, 2369, 2369, 2369, 2369, 2369, 2369, 2369, 2369, 2369, 2369, 2369, 2369, 2369, 2369, 2393, 2393, 2393, 2393, 2393, 2393, 2393, 2393, 2393, 2393, 2393, 2393, 2395, 2395, 2395, 2395, 2395, 2395, 2395, 2395, 2395, 2395, 2395, 2395, 2395, 2395, 2395, 2395, 2402, 2420, 2420, 2420, 2420, 2423, 2423, 2423, 2423, 2423, 2423, 2423, 2423, 2423, 2423, 2423, 2423, 2423, 2423, 2423, 2423, 2423, 2456, 2456, 2456, 2466, 2466, 2466, 2466, 2469, 2469, 2469, 2469, 2469, 2469, 2469, 2469, 2469, 2469, 2469, 2485, 2485, 2485, 2489, 2489, 2489, 2489, 2489, 2489, 2489, 2489, 2489, 2489, 2489, 2489, 2489, 2507, 2507, 2507, 2507, 2507, 2507, 2507, 2507, 2507, 2507, 2507, 2507, 2507, 2507, 2507, 2507, 2507, 2507, 2507, 2507, 2507, 2507, 2507, 2507, 2507, 2507, 2507, 2507, 2507, 2507, 2507, 2507, 2507, 2507, 2507, 2507, 2507, 2507, 2507, 2507, 2507, 2507, 2507, 2507, 2507, 2507, 2507, 2507, 2507, 2507, 2507, 2507, 2507, 2507, 2507, 2507, 2507, 2507, 2507, 2507, 2507, 2507, 2507, 2542, 2542, 2542, 2542, 2542, 2542, 2542, 2542, 2575, 2575, 2575, 2575, 2575, 2575, 2575, 2575, 2575, 2575, 2575, 2575, 2575, 2575, 2575, 2575, 2575, 2575, 2575, 2575, 2575, 2575, 2575, 2575, 2575, 2575, 2575, 2575, 2575, 2575, 2575, 2575, 2575, 2575, 2575, 2575, 2575, 2575, 2575, 2575, 2593, 2593, 2593, 2593, 2593, 2593, 2593, 2593, 2593, 2593, 2618, 2618, 2618, 2618, 2618, 2618, 2618, 2618, 2618, 2618, 2618, 2618, 2618, 2618, 2618, 2618, 2618, 2618, 2618, 2618, 2618, 2618, 2618, 2618, 2618, 2618, 2618, 2618, 2618, 2618, 2618, 2618, 2618, 2618, 2618, 2618, 2618, 2625, 2625, 2625, 2625, 2625, 2625, 2625, 2625, 2625, 2625, 2625, 2625, 2625, 2625, 2625, 2625, 2625, 2625, 2625, 2625, 2625, 2625, 2625, 2625, 2625, 2625, 2625, 2625, 2625, 2630, 2630, 2630, 2630, 2632, 2632, 2632, 2632, 2632, 2632, 2632, 2632, 2632, 2632, 2632, 2632, 2632, 2632, 2632, 2632, 2632, 2632, 2632, 2632, 2632, 2632, 2632, 2632, 2649, 2649, 2649, 2649, 2649, 2649, 2649, 2649, 2649, 2649, 2649, 2649, 2649, 2649, 2649, 2649, 2649, 2649, 2649, 2649, 2649, 2668, 2668, 2668, 2668, 2668, 2668, 2668, 2668, 2668, 2668, 2668, 2668, 2668, 2668, 2668, 2668, 2668, 2668, 2668, 2668, 2668, 2668, 2668, 2671, 2671, 2671, 2671, 2671, 2671, 2671, 2671, 2671, 2671, 2671, 2671, 2671, 2671, 2671, 2671, 2671, 2671, 2671, 2671, 2671, 2671, 2671, 2671, 2671, 2671, 2671, 2676, 2676, 2676, 2676, 2676, 2676, 2680, 2680, 2680, 2680, 2680, 2680, 2680, 2680, 2680, 2680, 2680, 2680, 2680, 2680, 2680, 2680, 2680, 2680, 2680, 2680, 2680, 2680, 2680, 2680, 2680, 2680, 2680, 2680, 2680, 2680, 2680, 2680, 2680, 2680, 2680, 2696, 2696, 2696, 2696, 2696, 2696, 2696, 2696, 2696, 2696, 2696, 2696, 2696, 2696, 2696, 2696, 2696, 2696, 2696, 2696, 2696, 2696, 2696, 2696, 2696, 2696, 2696, 2696, 2696, 2696, 2696, 2696, 2696, 2696, 2705, 2705, 2714, 2714, 2714, 2714, 2714, 2714, 2718, 2718, 2748, 2748, 2748, 2748, 2748, 2760, 2760, 2760, 2760, 2760, 2760, 2762, 2762, 2762, 2762, 2762, 2762, 2762, 2762, 2762, 2762, 2762, 2762, 2762, 2762, 2762, 2762, 2762, 2762, 2762, 2762, 2762, 2762, 2762, 2762, 2783, 2783, 2783, 2783, 2783, 2783, 2783, 2783, 2783, 2783, 2783, 2783, 2783, 2783, 2783, 2783, 2783, 2783, 2783, 2783, 2783, 2783, 2812, 2812, 2812, 2812, 2812, 2812, 2812, 2812, 2812, 2812, 2812, 2812, 2812, 2812, 2812, 2812, 2812, 2812, 2812, 2812, 2812, 2814, 2814, 2814, 2814, 2814, 2814, 2814, 2814, 2814, 2814, 2814, 2814, 2814, 2814, 2814, 2814, 2814, 2814, 2814, 2822, 2822, 2822, 2822, 2822, 2822, 2822, 2822, 2822, 2822, 2822, 2822, 2822, 2836, 2836, 2836, 2836, 2836, 2836, 2836, 2836, 2836, 2836, 2850, 2850, 2850, 2850, 2850, 2850, 2850, 2850, 2850, 2850, 2850, 2865, 2865, 2865, 2867, 2867, 2867, 2871, 2871, 2871, 2877, 2877, 2877, 2877, 2877, 2877, 2877, 2877, 2877, 2877, 2877, 2877, 2877, 2877, 2877, 2877, 2877, 2877, 2877, 2877, 2877, 2877, 2877, 2877, 2877, 2877, 2877, 2891, 2891, 2891, 2891, 2891, 2891, 2891, 2891, 2891, 2891, 2891, 2891, 2899, 2899, 2899, 2899, 2899, 2899, 2899, 2899, 2899, 2903, 2903, 2903, 2903, 2903, 2903, 2903, 2903, 2903, 2903, 2904, 2904, 2904, 2904, 2904, 2915, 2915, 2915, 2915, 2915, 2915, 2915, 2915, 2915, 2915, 2915, 2915, 2915, 2915, 2915, 2915, 2915, 2915, 2915, 2915, 2915, 2915, 2915, 2922, 2922, 2922, 2922, 2922, 2922, 2922, 2922, 2922, 2922, 2922, 2922, 2922, 2924, 2924, 2924, 2924, 2924, 2924, 2924, 2944, 2944, 2944, 2944, 2944, 2944, 2944, 2944, 2944, 2944, 2945, 2945, 2945, 2945, 2955, 2955, 2955, 2955, 2955, 2955, 2955, 2955, 2955, 2955, 2955, 2955, 2955, 2955, 2955, 2955, 2955, 2955, 2955, 2955, 2955, 2955, 2955, 2955, 2955, 2955, 2955, 2955, 2955, 2955, 2955, 2967, 2967, 2970, 2970, 3003, 3003, 3003, 3003, 3003, 3003, 3003, 3003, 3003, 3003, 3003, 3003, 3003, 3003, 3003, 3003, 3003, 3003, 3003, 3003, 3003, 3003, 3003, 3003, 3003, 3007, 3007, 3007, 3007, 3007, 3007, 3007, 3007, 3007, 3007, 3007, 3007, 3007, 3007, 3007, 3007, 3007, 3007, 3007, 3007, 3007, 3007, 3007, 3007, 3007, 3007, 3007, 3007, 3007, 3007, 3007, 3007, 3007, 3007, 3007, 3007, 3007, 3007, 3007, 3007, 3007, 3007, 3007, 3007, 3024, 3024, 3024, 3024, 3024, 3024, 3024, 3024, 3024, 3024, 3024, 3024, 3024, 3024, 3024, 3024, 3024, 3024, 3024, 3024, 3024, 3024, 3024, 3024, 3024, 3024, 3024, 3024, 3024, 3024, 3024, 3024, 3024, 3024, 3052, 3052, 3052, 3052, 3052, 3052, 3052, 3082, 3082, 3082, 3082, 3082, 3082, 3082, 3082, 3082, 3082, 3082, 3082, 3082, 3082, 3082, 3082, 3082, 3082, 3082, 3082, 3082, 3082, 3082, 3082, 3082, 3082, 3082, 3082, 3082, 3082, 3082, 3082, 3082, 3096, 3100, 3100, 3100, 3100, 3100, 3100, 3100, 3100, 3100, 3100, 3100, 3100, 3100, 3100, 3100, 3100, 3100, 3100, 3100, 3100, 3100, 3100, 3100, 3100, 3100, 3100, 3100, 3100, 3100, 3100, 3100, 3100, 3100, 3100, 3100, 3113, 3113, 3113, 3113, 3113, 3113, 3113, 3113, 3115, 3115, 3115, 3115, 3115, 3115, 3115, 3115, 3115, 3115, 3115, 3115, 3115, 3115, 3115, 3115, 3115, 3115, 3115, 3115, 3115, 3115, 3115, 3115, 3115, 3115, 3115, 3115, 3115, 3115, 3115, 3115, 3115, 3115, 3115, 3115, 3115, 3115, 3115, 3115, 3115, 3115, 3115, 3115, 3126, 3126, 3126, 3126, 3126, 3126, 3126, 3126, 3126, 3126, 3139, 3176, 3176, 3176, 3176, 3176, 3176, 3176, 3176, 3176, 3176, 3176, 3176, 3176, 3176, 3176, 3176, 3176, 3176, 3176, 3176, 3176, 3176, 3176, 3176, 3176, 3176, 3176, 3176, 3176, 3176, 3176, 3176, 3176, 3176, 3176, 3176, 3194, 3194, 3194, 3194, 3194, 3194, 3194, 3194, 3194, 3194, 3194, 3194, 3194, 3194, 3194, 3194, 3194, 3194, 3194, 3194, 3194, 3194, 3194, 3194, 3194, 3194, 3194, 3194, 3194, 3194, 3194, 3194, 3194, 3194, 3194, 3194, 3194, 3194, 3194, 3194, 3194, 3194, 3194, 3194, 3194, 3194, 3194, 3194, 3194, 3194, 3194, 3198, 3198, 3198, 3198, 3210, 3210, 3210, 3210, 3210, 3210, 3210, 3210, 3210, 3210, 3210, 3210, 3210, 3210, 3210, 3210, 3210, 3210, 3210, 3210, 3210, 3210, 3210, 3210, 3210, 3210, 3229, 3229, 3229, 3229, 3229, 3229, 3229, 3229, 3230, 3230, 3241, 3241, 3241, 3241, 3241, 3255, 3255, 3255, 3255, 3255, 3255, 3255, 3255, 3255, 3255, 3255, 3255, 3255, 3255, 3255, 3255, 3255, 3255, 3255, 3255, 3255, 3261, 3261, 3261, 3268, 3268, 3277, 3277, 3277, 3277, 3277, 3277, 3277, 3277, 3277, 3277, 3277, 3277, 3277, 3277, 3277, 3277, 3277, 3277, 3277, 3277, 3277, 3277, 3277, 3277, 3277, 3277, 3277, 3277, 3277, 3277, 3277, 3277, 3277, 3277, 3277, 3277, 3277, 3277, 3277, 3277, 3277, 3277, 3277, 3277, 3277, 3277, 3277, 3277, 3277, 3277, 3277, 3277, 3277, 3277, 3294, 3294, 3294, 3294, 3294, 3294, 3294, 3294, 3294, 3297, 3297, 3308, 3308, 3308, 3308, 3308, 3308, 3308, 3308, 3308, 3308, 3308, 3308, 3308, 3308, 3308, 3308, 3308, 3308, 3308, 3308, 3308, 3308, 3308, 3308, 3308, 3308, 3308, 3308, 3308, 3308, 3308, 3308, 3308, 3308, 3308, 3308, 3308, 3308, 3321, 3321, 3321, 3321, 3321, 3321, 3321, 3321, 3321, 3321, 3321, 3321, 3321, 3321, 3321, 3321, 3321, 3321, 3330, 3330, 3330, 3330, 3330, 3330, 3330, 3330, 3330, 3330, 3330, 3330, 3330, 3330, 3330, 3330, 3330, 3330, 3330, 3330, 3330, 3330, 3330, 3330, 3330, 3330, 3330, 3330, 3330, 3330, 3330, 3330, 3330, 3330, 3330, 3330, 3330, 3330, 3330, 3330, 3330, 3330, 3330, 3331, 3331, 3331, 3331, 3331, 3331, 3339, 3339, 3339, 3339, 3339, 3339, 3339, 3339, 3339, 3339, 3339, 3339, 3339, 3339, 3339, 3339, 3339, 3339, 3339, 3339, 3339, 3339, 3339, 3339, 3339, 3339, 3364, 3364, 3364, 3364, 3364, 3364, 3364, 3366, 3366, 3366, 3366, 3366, 3366, 3366, 3367, 3367, 3367, 3367, 3367, 3367, 3367, 3367, 3367, 3367, 3367, 3367, 3367, 3367, 3367, 3367, 3367, 3367, 3367, 3367, 3367, 3367, 3367, 3367, 3367, 3367, 3367, 3367, 3367, 3367, 3367, 3367, 3367, 3367, 3367, 3367, 3367, 3367, 3367, 3367, 3367, 3367, 3367, 3384, 3384, 3384, 3400, 3400, 3400, 3400, 3400, 3400, 3400, 3400, 3400, 3400, 3400, 3400, 3400, 3400, 3400, 3400, 3400, 3400, 3400, 3400, 3400, 3400, 3400, 3400, 3400, 3400, 3400, 3400, 3400, 3406, 3406, 3406, 3406, 3406, 3406, 3406, 3406, 3406, 3406, 3406, 3406, 3406, 3406, 3406, 3406, 3406, 3406, 3416, 3416, 3420, 3420, 3420, 3420, 3420, 3420, 3420, 3420, 3420, 3420, 3420, 3420, 3420, 3420, 3420, 3420, 3420, 3420, 3420, 3420, 3420, 3420, 3420, 3420, 3420, 3450, 3450, 3450, 3450, 3508, 3508, 3520, 3520, 3520, 3520, 3520, 3520, 3520, 3520, 3520, 3520, 3524, 3524, 3524, 3524, 3524, 3524, 3524, 3524, 3524, 3524, 3524, 3524, 3524, 3524, 3524, 3524, 3524, 3524, 3525, 3525, 3525, 3525, 3525, 3525, 3525, 3525, 3525, 3525, 3525, 3525, 3525, 3530, 3530, 3530, 3530, 3530, 3530, 3530, 3530, 3530, 3530, 3545, 3545, 3545, 3545, 3545, 3545, 3545, 3545, 3545, 3576, 3576, 3576, 3576, 3576, 3576, 3576, 3576, 3576, 3580, 3580, 3580, 3580, 3580, 3580, 3580, 3580, 3580, 3592, 3592, 3592, 3592, 3592, 3592, 3599, 3599, 3658, 3661, 3661, 3670, 3670, 3670, 3670, 3670, 3670, 3670, 3670, 3670, 3670, 3670, 3670, 3670, 3670, 3670, 3670, 3670, 3670, 3670, 3670, 3670, 3670, 3670, 3670, 3670, 3670, 3670, 3670, 3670, 3670, 3670, 3689, 3689, 3689, 3689, 3689, 3689, 3689, 3689, 3689, 3689, 3689, 3689, 3689, 3689, 3689, 3689, 3689, 3689, 3689, 3689, 3689, 3689, 3689, 3689, 3689, 3689, 3689, 3689, 3689, 3689, 3689, 3689, 3689, 3689, 3689, 3698, 3698, 3698, 3698, 3698, 3698, 3698, 3698, 3698, 3698, 3698, 3698, 3698, 3698, 3698, 3698, 3698, 3698, 3698, 3698, 3733, 3733, 3733, 3733, 3733, 3733, 3733, 3772, 3772, 3772, 3772, 3772, 3772, 3772, 3775, 3775, 3775, 3775, 3793, 3793, 3793, 3793, 3793, 3793, 3793, 3793, 3793, 3793, 3810, 3810, 3810, 3810, 3810, 3810, 3815, 3815, 3815, 3815, 3815, 3815, 3815, 3815, 3815, 3815, 3815, 3815, 3815, 3815, 3815, 3815, 3815, 3815, 3815, 3815, 3815, 3815, 3815, 3815, 3815, 3815, 3815, 3815, 3815, 3815, 3815, 3815, 3815, 3815, 3815, 3815, 3815, 3815, 3815, 3841, 3841, 3841, 3841, 3841, 3841, 3841, 3848, 3848, 3848, 3848, 3848, 3848, 3848, 3848, 3848, 3848, 3848, 3848, 3848, 3848, 3848, 3848, 3848, 3848, 3848, 3848, 3848, 3848, 3848, 3848, 3848, 3848, 3848, 3848, 3851, 3851, 3851, 3851, 3851, 3851, 3851, 3851, 3851, 3851, 3851, 3851, 3851, 3851, 3851, 3851, 3851, 3851, 3851, 3851, 3851, 3851, 3851, 3851, 3851, 3851, 3851, 3851, 3851, 3851, 3851, 3851, 3851, 3851, 3851, 3851, 3851, 3851, 3851, 3851, 3851, 3851, 3851, 3851, 3851, 3851, 3851, 3851, 3851, 3851, 3851, 3851, 3851, 3851, 3851, 3851, 3851, 3851, 3851, 3851, 3851, 3851, 3851, 3851, 3851, 3851, 3851, 3858, 3858, 3858, 3858, 3858, 3858, 3870, 3870, 3870, 3870, 3870, 3870, 3870, 3870, 3870, 3870, 3870, 3870, 3870, 3870, 3870, 3870, 3870, 3870, 3870, 3885, 3885, 3900, 3900, 3900, 3900, 3900, 3900, 3900, 3900, 3900, 3900, 3900, 3900, 3900, 3900, 3900, 3900, 3900, 3900, 3900, 3900, 3900, 3900, 3900, 3900, 3900, 3900, 3900, 3900, 3900, 3914, 3914, 3914, 3914, 3914, 3914, 3914, 3914, 3914, 3914, 3914, 3914, 3914, 3914, 3914, 3914, 3914, 3914, 3914, 3914, 3914, 3914, 3914, 3914, 3914, 3914, 3914, 3914, 3914, 3914, 3914, 3914, 3914, 3914, 3914, 3914, 3945, 3945, 3945, 3945, 3945, 3965, 3965, 3965, 3968, 3968, 3968, 3968, 3968, 3968, 3968, 3968, 3968, 3969, 3969, 3969, 3969, 3969, 3969, 3969, 3969, 3969, 3969, 3969, 3970, 3970, 3970, 3970, 3970, 3970, 3970, 3970, 3970, 3970, 3970, 3970, 3970, 3970, 3970, 3970, 3970, 3970, 3970, 3970, 3970, 3970, 3970, 3970, 3971, 3971, 3971, 3971, 3971, 3971, 3971, 3971, 3971, 3971, 3971, 3971, 3971, 3971, 3990, 3990, 3990, 3990, 3990, 3990, 3990, 3990, 3990, 3990, 3990, 3990, 3990, 3990, 3990, 3990, 3990, 3990, 3990, 3990, 3990, 3990, 3990, 3990, 3990, 3990, 3990, 3990, 3990, 3990, 3991, 3991, 3991, 3991, 3991, 3991, 3991, 3991, 3991, 3991, 3991, 3994, 3994, 3994, 3994, 3994, 3994, 3994, 3994, 3994, 3994, 3994, 3994, 3994, 3994, 3994, 3994, 3994, 3994, 3994, 3994, 3994, 3994, 3994, 3994, 3994, 3994, 3994, 3994, 3994, 3994, 3994, 3994, 3994, 3994, 3994, 3994, 3994, 4003, 4003, 4003, 4003, 4003, 4018, 4018, 4018, 4018, 4018, 4018, 4018, 4018, 4018, 4018, 4018, 4018, 4018, 4018, 4018, 4018, 4018, 4018, 4018, 4018, 4018, 4018, 4018, 4018, 4018, 4018, 4018, 4018, 4018, 4018, 4018, 4018, 4018, 4018, 4018, 4018, 4018, 4018, 4018, 4018, 4018, 4018, 4018, 4018, 4018, 4018, 4018, 4018, 4018, 4018, 4018, 4018, 4018, 4018, 4018, 4025, 4025, 4025, 4025, 4025, 4025, 4025, 4025, 4025, 4025, 4025, 4025, 4025, 4025, 4025, 4025, 4025, 4025, 4025, 4025, 4025, 4025, 4025, 4025, 4025, 4025, 4025, 4025, 4025, 4025, 4025, 4025, 4033, 4033, 4033, 4033, 4033, 4033, 4033, 4033, 4033, 4033, 4033, 4033, 4033, 4033, 4033, 4033, 4033, 4033, 4033, 4033, 4033, 4033, 4033, 4033, 4033, 4033, 4033, 4037, 4037, 4037, 4037, 4037, 4037, 4037, 4037, 4037, 4037, 4037, 4037, 4037, 4037, 4037, 4037, 4037, 4037, 4037, 4037, 4037, 4037, 4037, 4037, 4037, 4037, 4037, 4037, 4037, 4083, 4083, 4083, 4083, 4083, 4083, 4083, 4083, 4083, 4083, 4083, 4083, 4083, 4083, 4083, 4083, 4083, 4083, 4083, 4083, 4083, 4083, 4083, 4083, 4083, 4083, 4083, 4083, 4083, 4083, 4083, 4083, 4083, 4083, 4083, 4083, 4083, 4083, 4083, 4084, 4084, 4084, 4084, 4084, 4084, 4084, 4084, 4084, 4084, 4084, 4084, 4084, 4084, 4084, 4084, 4084, 4084, 4084, 4084, 4084, 4084, 4084, 4086, 4086, 4086, 4086, 4086, 4086, 4086, 4086, 4086, 4086, 4086, 4086, 4086, 4086, 4086, 4086, 4086, 4086, 4086, 4089, 4089, 4089, 4089, 4089, 4089, 4089, 4089, 4089, 4089, 4089, 4089, 4089, 4089, 4089, 4089, 4089, 4089, 4089, 4091, 4091, 4091, 4110, 4110, 4110, 4121, 4121, 4130, 4130, 4130, 4130, 4130, 4130, 4130, 4130, 4130, 4130, 4130, 4130, 4130, 4130, 4130, 4130, 4130, 4130, 4130, 4130, 4130, 4130, 4130, 4130, 4130, 4130, 4130, 4130, 4130, 4130, 4130, 4130, 4130, 4130, 4132, 4132, 4132, 4132, 4132, 4132, 4132, 4132, 4132, 4132, 4132, 4132, 4132, 4132, 4132, 4132, 4132, 4132, 4132, 4132, 4132, 4132, 4132, 4132, 4132, 4132, 4132, 4132, 4132, 4132, 4132, 4138, 4138, 4138, 4138, 4138, 4138, 4138, 4138, 4138, 4140, 4140, 4140, 4140, 4140, 4140, 4140, 4140, 4140, 4140, 4140, 4140, 4140, 4142, 4142, 4142, 4142, 4142, 4142, 4142, 4142, 4142, 4142, 4142, 4142, 4142, 4142, 4142, 4142, 4142, 4142, 4142, 4142, 4142, 4142, 4142, 4142, 4142, 4143, 4143, 4143, 4163, 4163, 4163, 4163, 4163, 4163, 4163, 4163, 4163, 4163, 4163, 4163, 4163, 4163, 4163, 4163, 4163, 4163, 4163, 4163, 4163, 4163, 4163, 4163, 4163, 4163, 4163, 4163, 4163, 4163, 4163, 4167, 4167, 4167, 4167, 4167, 4167, 4167, 4193, 4193, 4193, 4193, 4193, 4202, 4202, 4202, 4202, 4202, 4202, 4202, 4202, 4202, 4202, 4202, 4202, 4202, 4202, 4202, 4202, 4202, 4202, 4202, 4202, 4202, 4202, 4202, 4202, 4202, 4202, 4202, 4202, 4202, 4202, 4202, 4208, 4208, 4208, 4208, 4208, 4208, 4208, 4208, 4208, 4208, 4208, 4208, 4208, 4208, 4208, 4208, 4208, 4208, 4208, 4211, 4211, 4211, 4211, 4211, 4211, 4211, 4211, 4211, 4211, 4211, 4211, 4211, 4211, 4211, 4211, 4211, 4211, 4211, 4211, 4211, 4211, 4211, 4211, 4211, 4211, 4211, 4211, 4211, 4211, 4211, 4211, 4211, 4211, 4211, 4211, 4211, 4211, 4211, 4211, 4211, 4211, 4211, 4211, 4220, 4220, 4220, 4220, 4220, 4220, 4220, 4220, 4220, 4220, 4220, 4220, 4220, 4220, 4220, 4220, 4220, 4220, 4220, 4220, 4220, 4220, 4220, 4220, 4220, 4220, 4220, 4220, 4220, 4220, 4220, 4220, 4220, 4220, 4238, 4238, 4238, 4238, 4238, 4238, 4238, 4238, 4238, 4238, 4238, 4238, 4238, 4242, 4242, 4242, 4242, 4242, 4242, 4242, 4243, 4243, 4243, 4243, 4243, 4243, 4243, 4243, 4243, 4243, 4243, 4243, 4243, 4243, 4243, 4243, 4243, 4243, 4243, 4243, 4243, 4243, 4243, 4243, 4249, 4249, 4249, 4249, 4249, 4249, 4255, 4255, 4255, 4255, 4255, 4255, 4255, 4255, 4255, 4255, 4255, 4260, 4260, 4260, 4260, 4260, 4260, 4260, 4260, 4260, 4260, 4260, 4260, 4260, 4260, 4260, 4260, 4260, 4260, 4260, 4260, 4260, 4260, 4260, 4260, 4260, 4260, 4260, 4260, 4260, 4260, 4260, 4260, 4269, 4269, 4269, 4269, 4269, 4269, 4269, 4269, 4281, 4281, 4281, 4281, 4281, 4281, 4281, 4281, 4281, 4281, 4281, 4281, 4281, 4281, 4281, 4281, 4281, 4281, 4281, 4281, 4281, 4281, 4281, 4281, 4281, 4281, 4281, 4281, 4281, 4281, 4281, 4288, 4288, 4288, 4288, 4288, 4288, 4288, 4288, 4288, 4288, 4288, 4288, 4288, 4288, 4288, 4288, 4288, 4288, 4288, 4288, 4288, 4288, 4288, 4288, 4288, 4302, 4302, 4312, 4312, 4312, 4312, 4312, 4312, 4312, 4312, 4312, 4312, 4312, 4312, 4312, 4312, 4312, 4312, 4312, 4312, 4312, 4312, 4312, 4312, 4314, 4314, 4314, 4317, 4332, 4332, 4332, 4332, 4332, 4332, 4332, 4346, 4346, 4346, 4346, 4346, 4346, 4346, 4346, 4346, 4346, 4346, 4346, 4346, 4346, 4346, 4346, 4346, 4346, 4346, 4346, 4346, 4346, 4346, 4346, 4346, 4346, 4346, 4346, 4346, 4346, 4346, 4346, 4346, 4346, 4346, 4346, 4351, 4351, 4351, 4351, 4351, 4351, 4351, 4351, 4351, 4351, 4351, 4351, 4351, 4351, 4351, 4351, 4351, 4351, 4351, 4351, 4351, 4351, 4351, 4351, 4351, 4351, 4351, 4351, 4351, 4351, 4351, 4351, 4351, 4351, 4351, 4351, 4351, 4351, 4351, 4351, 4351, 4351, 4351, 4351, 4351, 4351, 4351, 4351, 4351, 4351, 4351, 4351, 4351, 4351, 4351, 4351, 4351, 4351, 4351, 4351, 4351, 4351, 4351, 4351, 4351, 4351, 4351, 4366, 4366, 4366, 4366, 4366, 4366, 4366, 4366, 4366, 4366, 4366, 4366, 4366, 4366, 4366, 4366, 4366, 4366, 4366, 4366, 4366, 4374, 4374, 4374, 4374, 4374, 4374, 4374, 4374, 4374, 4390, 4390, 4390, 4390, 4390, 4390, 4390, 4390, 4390, 4390, 4390, 4390, 4390, 4390, 4390, 4390, 4390, 4391, 4391, 4391, 4391, 4391, 4391, 4391, 4391, 4391, 4391, 4391, 4391, 4391, 4391, 4391, 4391, 4391, 4391, 4391, 4391, 4391, 4391, 4391, 4391, 4391, 4391, 4391, 4391, 4391, 4391, 4391, 4391, 4391, 4391, 4391, 4391, 4391, 4391, 4391, 4391, 4391, 4391, 4391, 4391, 4391, 4391, 4391, 4391, 4391, 4391, 4391, 4391, 4391, 4391, 4391, 4391, 4391, 4391, 4391, 4391, 4391, 4391, 4391, 4391, 4391, 4391, 4391, 4391, 4391, 4391, 4391, 4391, 4391, 4425, 4425, 4433, 4433, 4437, 4437, 4437, 4437, 4437, 4437, 4437, 4437, 4437, 4437, 4437, 4437, 4437, 4437, 4437, 4437, 4465, 4465, 4465, 4469, 4469, 4469, 4469, 4469, 4469, 4469, 4469, 4469, 4469, 4469, 4469, 4469, 4469, 4474, 4477, 4477, 4477, 4477, 4477, 4477, 4477, 4477, 4477, 4477, 4477, 4477, 4477, 4477, 4477, 4477, 4477, 4477, 4477, 4477, 4477, 4477, 4477, 4477, 4477, 4477, 4477, 4477, 4477, 4477, 4480, 4480, 4480, 4480, 4480, 4480, 4480, 4483, 4483, 4483, 4483, 4483, 4483, 4483, 4483, 4483, 4483, 4483, 4483, 4483, 4483, 4483, 4483, 4483, 4483, 4484, 4484, 4484, 4484, 4484, 4484, 4484, 4484, 4484, 4484, 4484, 4484, 4484, 4484, 4484, 4484, 4484, 4484, 4489, 4489, 4489, 4489, 4489, 4489, 4489, 4489, 4489, 4489, 4489, 4489, 4489, 4489, 4489, 4489, 4489, 4489, 4489, 4489, 4489, 4489, 4489, 4489, 4489, 4489, 4489, 4489, 4489, 4489, 4489, 4489, 4489, 4489, 4489, 4489, 4489, 4489, 4489, 4489, 4489, 4490, 4490, 4490, 4490, 4490, 4490, 4490, 4490, 4490, 4490, 4490, 4490, 4490, 4490, 4490, 4490, 4490, 4490, 4490, 4490, 4490, 4490, 4493, 4493, 4493, 4493, 4493, 4493, 4493, 4493, 4493, 4493, 4493, 4493, 4493, 4493, 4493, 4493, 4493, 4493, 4493, 4493, 4493, 4493, 4493, 4493, 4493, 4493, 4493, 4493, 4493, 4493, 4499, 4499, 4499, 4499, 4499, 4499, 4502, 4502, 4502, 4502, 4502, 4502, 4502, 4502, 4529, 4529, 4529, 4529, 4529, 4529, 4529, 4529, 4529, 4529, 4529, 4529, 4529, 4529, 4529, 4529, 4529, 4529, 4529, 4529, 4539, 4539, 4539, 4539, 4539, 4539, 4539, 4539, 4539, 4539, 4539, 4539, 4539, 4539, 4539, 4539, 4539, 4539, 4539, 4539, 4539, 4539, 4539, 4539, 4539, 4539, 4539, 4539, 4539, 4539, 4539, 4545, 4545, 4545, 4545, 4545, 4545, 4545, 4545, 4545, 4545, 4545, 4545, 4545, 4545, 4545, 4545, 4545, 4545, 4545, 4545, 4545, 4545, 4545, 4545, 4545, 4545, 4545, 4545, 4545, 4545, 4545, 4545, 4545, 4545, 4545, 4545, 4545, 4545, 4545, 4545, 4545, 4545, 4550, 4550, 4550, 4550, 4550, 4550, 4550, 4550, 4550, 4550, 4550, 4550, 4558, 4558, 4558, 4558, 4558, 4558, 4558, 4558, 4558, 4558, 4558, 4563, 4563, 4563, 4565, 4565, 4595, 4595, 4595, 4595, 4595, 4595, 4595, 4595, 4595, 4595, 4595, 4595, 4595, 4595, 4595, 4595, 4595, 4595, 4595, 4595, 4595, 4595, 4595, 4595, 4595, 4595, 4595, 4595, 4595, 4595, 4595, 4595, 4595, 4595, 4595, 4599, 4599, 4599, 4599, 4599, 4599, 4599, 4599, 4599, 4599, 4599, 4599, 4599, 4599, 4604, 4604, 4604, 4604, 4604, 4607, 4607, 4607, 4607, 4607, 4607, 4607, 4607, 4607, 4607, 4607, 4607, 4607, 4607, 4607, 4607, 4607, 4607, 4607, 4607, 4607, 4607, 4607, 4607, 4607, 4607, 4607, 4607, 4607, 4607, 4607, 4607, 4607, 4607, 4607, 4685, 4685, 4685, 4686, 4686, 4686, 4686, 4686, 4705, 4705, 4706, 4706, 4706, 4706, 4706, 4706, 4706, 4706, 4706, 4706, 4706, 4706, 4706, 4706, 4706, 4706, 4706, 4706, 4706, 4706, 4706, 4706, 4706, 4706, 4706, 4712, 4712, 4712, 4712, 4713, 4713, 4713, 4713, 4713, 4713, 4713, 4713, 4713, 4713, 4713, 4713, 4713, 4713, 4713, 4734, 4734, 4734, 4734, 4734, 4734, 4734, 4734, 4734, 4734, 4734, 4734, 4734, 4734, 4734, 4734, 4734, 4734, 4734, 4734, 4734, 4734, 4734, 4734, 4734, 4734, 4734, 4734, 4734, 4734, 4734, 4734, 4734, 4734, 4734, 4734, 4734, 4734, 4734, 4734, 4746, 4746, 4746, 4746, 4746, 4746, 4746, 4746, 4746, 4746, 4746, 4746, 4746, 4746, 4746, 4746, 4746, 4746, 4746, 4746, 4746, 4746, 4746, 4746, 4746, 4746, 4746, 4746, 4746, 4746, 4746, 4746, 4746, 4746, 4746, 4746, 4746, 4746, 4746, 4746, 4746, 4746, 4746, 4746, 4746, 4746, 4746, 4746, 4746, 4746, 4746, 4746, 4746, 4746, 4746, 4746, 4746, 0, 0, 0, 0, 0, 2, 2, 2, 2, 2, 2, 2, 2, 2, 2, 2, 2, 2, 2, 2, 2, 2, 2, 2, 2, 2, 2, 2, 2, 2, 2, 2, 2, 2, 2, 2, 2, 2, 2, 2, 2, 2, 2, 2, 2, 2, 2, 2, 2, 2, 2, 2, 2, 2, 2, 2, 2, 2, 2, 2, 2, 2, 2, 2, 2, 2, 2, 2, 2, 2, 2, 2, 2, 2, 2, 2, 2, 2, 2, 2, 2, 2, 2, 2, 2, 2, 2, 2, 2, 2, 2, 2, 2, 2, 2, 2, 3, 3, 3, 3, 3, 3, 3, 5, 5, 6, 6, 6, 6, 6, 6, 6, 6, 6, 6, 6, 6, 6, 6, 6, 6, 6, 7, 9, 9, 9, 9, 9, 9, 9, 9, 9, 9, 9, 9, 9, 9, 9, 9, 9, 9, 9, 9, 9, 9, 9, 9, 9, 9, 9, 9, 9, 9, 9, 9, 9, 9, 9, 9, 9, 9, 9, 9, 9, 9, 9, 9, 9, 9, 9, 9, 9, 9, 9, 9, 9, 9, 12, 12, 12, 12, 12, 12, 12, 12, 12, 12, 12, 12, 12, 12, 12, 12, 13, 13, 13, 15, 15, 15, 16, 16, 16, 16, 16, 16, 16, 16, 16, 16, 16, 16, 16, 16, 16, 16, 16, 16, 16, 16, 16, 16, 16, 16, 17, 17, 17, 17, 17, 17, 17, 17, 17, 17, 17, 17, 17, 17, 17, 17, 22, 22, 22, 22, 22, 22, 22, 22, 22, 22, 22, 22, 22, 22, 22, 23, 24, 25, 26, 26, 26, 26, 26, 26, 26, 26, 26, 26, 26, 26, 27, 27, 30, 30, 30, 30, 30, 30, 30, 30, 30, 30, 31, 31, 31, 31, 31, 32, 32, 32, 32, 32, 32, 32, 32, 32, 32, 32, 32, 32, 32, 32, 32, 32, 32, 32, 32, 32, 32, 32, 32, 32, 32, 32, 32, 32, 32, 32, 32, 32, 32, 32, 32, 32, 33, 33, 35, 35, 35, 35, 35, 35, 35, 35, 35, 35, 35, 35, 35, 36, 36, 36, 36, 36, 36, 36, 36, 36, 36, 36, 36, 36, 36, 36, 36, 36, 36, 36, 36, 36, 36, 36, 36, 36, 36, 36, 36, 36, 36, 36, 36, 36, 36, 36, 36, 36, 36, 36, 36, 36, 36, 36, 36, 37, 37, 37, 37, 37, 37, 37, 37, 37, 37, 37, 37, 37, 38, 38, 39, 39, 39, 39, 39, 39, 42, 44, 45, 45, 45, 45, 45, 45, 45, 45, 47, 47, 47, 47, 47, 47, 47, 47, 47, 47, 47, 47, 47, 47, 47, 47, 47, 47, 47, 47, 47, 47, 47, 47, 48, 48, 48, 48, 48, 48, 48, 48, 48, 48, 48, 48, 48, 48, 48, 48, 48, 48, 48, 48, 48, 48, 48, 48, 49, 50, 50, 50, 50, 50, 50, 50, 50, 50, 50, 50, 50, 50, 50, 50, 50, 50, 50, 50, 50, 50, 51, 51, 51, 51, 51, 51, 51, 52, 53, 53, 53, 53, 53, 53, 53, 53, 53, 53, 53, 53, 53, 53, 53, 53, 53, 53, 53, 53, 54, 54, 54, 54, 54, 54, 54, 54, 54, 54, 54, 55, 55, 55, 55, 55, 55, 55, 55, 55, 55, 55, 56, 57, 57, 58, 60, 61, 61, 61, 61, 61, 61, 61, 65, 65, 65, 65, 67, 67, 67, 67, 67, 67, 67, 67, 67, 67, 69, 70, 70, 70, 70, 70, 70, 70, 70, 70, 70, 70, 70, 70, 70, 70, 70, 70, 70, 71, 71, 71, 73, 73, 73, 73, 73, 73, 73, 74, 75, 75, 75, 75, 75, 75, 75, 75, 75, 75, 75, 75, 75, 75, 75, 75, 75, 75, 75, 75, 77, 77, 77, 77, 77, 78, 78, 78, 78, 78, 81, 81, 81, 81, 81, 81, 81, 81, 84, 84, 84, 84, 84, 84, 84, 84, 84, 84, 84, 84, 84, 84, 84, 84, 84, 84, 84, 84, 84, 84, 84, 84, 84, 84, 84, 84, 84, 84, 84, 84, 84, 84, 84, 84, 84, 84, 84, 84, 84, 84, 84, 84, 84, 84, 84, 84, 84, 84, 84, 84, 84, 84, 84, 84, 84, 84, 85, 85, 85, 85, 85, 85, 86, 86, 86, 86, 86, 86, 86, 86, 86, 86, 87, 87, 88, 88, 88, 88, 88, 88, 88, 88, 88, 88, 88, 88, 88, 88, 88, 88, 88, 88, 88, 88, 88, 88, 88, 88, 88, 88, 88, 88, 88, 88, 88, 88, 88, 88, 88, 88, 88, 88, 88, 88, 88, 88, 88, 90, 90, 90, 90, 90, 94, 94, 94, 94, 94, 94, 94, 94, 96, 96, 96, 97, 97, 97, 97, 97, 97, 97, 97, 97, 97, 97, 97, 97, 97, 97, 97, 97, 97, 97, 97, 97, 97, 97, 98, 98, 98, 98, 98, 98, 98, 98, 98, 98, 98, 98, 98, 98, 99, 99, 99, 99, 99, 99, 99, 99, 99, 99, 99, 99, 99, 99, 99, 99, 99, 99, 99, 99, 99, 99, 99, 99, 99, 99, 100, 100, 100, 101, 101, 101, 101, 101, 101, 101, 101, 101, 101, 102, 102, 102, 102, 102, 103, 103, 103, 103, 103, 103, 103, 103, 103, 103, 103, 103, 103, 103, 103, 103, 103, 103, 103, 103, 103, 103, 103, 103, 103, 103, 103, 103, 103, 103, 103, 103, 103, 103, 103, 103, 103, 103, 103, 103, 103, 104, 104, 104, 104, 104, 105, 105, 106, 106, 106, 106, 107, 111, 113, 113, 113, 114, 114, 114, 118, 118, 118, 118, 118, 118, 118, 118, 118, 118, 118, 118, 118, 118, 118, 118, 118, 118, 118, 118, 118, 118, 118, 118, 118, 118, 118, 118, 118, 118, 119, 119, 119, 119, 119, 119, 119, 119, 119, 119, 119, 121, 121, 121, 121, 121, 122, 122, 122, 122, 122, 122, 122, 122, 122, 122, 122, 122, 122, 122, 122, 122, 122, 122, 122, 122, 122, 122, 122, 122, 122, 122, 122, 122, 122, 122, 122, 122, 122, 122, 122, 122, 122, 122, 122, 122, 122, 122, 122, 122, 122, 122, 122, 122, 122, 122, 122, 122, 122, 122, 122, 122, 122, 122, 122, 122, 122, 122, 122, 122, 122, 122, 122, 122, 122, 122, 122, 122, 122, 122, 122, 122, 122, 122, 122, 122, 122, 122, 122, 122, 122, 122, 122, 122, 122, 122, 122, 122, 122, 122, 122, 122, 122, 122, 122, 122, 122, 122, 122, 122, 122, 122, 122, 122, 122, 122, 122, 122, 122, 122, 122, 122, 122, 122, 122, 122, 122, 122, 122, 122, 122, 122, 122, 123, 124, 124, 124, 124, 124, 124, 124, 124, 124, 124, 124, 124, 127, 127, 127, 127, 127, 127, 127, 127, 127, 127, 127, 127, 127, 127, 127, 127, 127, 127, 129, 129, 129, 129, 129, 129, 129, 129, 129, 129, 129, 129, 129, 129, 129, 131, 131, 131, 131, 131, 131, 131, 131, 131, 131, 131, 131, 131, 132, 132, 132, 132, 132, 132, 132, 132, 132, 132, 132, 132, 132, 132, 132, 132, 133, 133, 133, 133, 133, 133, 133, 133, 133, 133, 133, 133, 133, 133, 133, 133, 133, 133, 135, 135, 135, 135, 135, 135, 135, 135, 135, 135, 135, 135, 135, 135, 135, 135, 135, 135, 135, 136, 136, 136, 136, 136, 136, 136, 137, 137, 137, 137, 137, 137, 137, 138, 139, 140, 140, 140, 140, 141, 142, 142, 142, 142, 142, 142, 142, 142, 142, 142, 142, 142, 142, 142, 142, 142, 142, 142, 142, 142, 142, 142, 142, 142, 142, 142, 142, 142, 142, 142, 142, 142, 142, 142, 142, 142, 142, 142, 142, 142, 142, 142, 142, 142, 142, 143, 144, 145, 146, 146, 147, 147, 147, 147, 149, 149, 149, 149, 149, 149, 149, 149, 149, 150, 150, 150, 150, 150, 152, 152, 152, 152, 152, 152, 152, 152, 152, 152, 152, 152, 152, 152, 152, 152, 152, 152, 152, 152, 152, 153, 153, 155, 155, 155, 155, 155, 155, 155, 155, 155, 155, 155, 155, 155, 155, 156, 156, 156, 156, 156, 156, 156, 156, 156, 156, 156, 158, 158, 158, 158, 158, 159, 164, 164, 165, 165, 165, 166, 166, 166, 166, 167, 167, 167, 167, 167, 167, 167, 167, 167, 169, 170, 172, 172, 172, 172, 173, 173, 173, 173, 173, 173, 176, 176, 176, 176, 176, 176, 176, 177, 177, 177, 177, 177, 178, 178, 178, 178, 178, 178, 178, 180, 180, 180, 180, 180, 182, 182, 182, 182, 182, 182, 182, 182, 182, 182, 182, 182, 182, 182, 182, 182, 182, 182, 182, 182, 182, 182, 182, 182, 182, 182, 182, 182, 182, 182, 182, 182, 182, 182, 182, 183, 183, 183, 183, 183, 183, 183, 183, 183, 183, 183, 183, 183, 183, 183, 183, 183, 183, 183, 183, 183, 183, 183, 183, 183, 183, 183, 183, 183, 183, 183, 183, 183, 183, 183, 183, 183, 183, 183, 183, 183, 183, 183, 183, 183, 183, 185, 185, 185, 185, 185, 189, 189, 189, 190, 190, 190, 190, 190, 190, 190, 190, 190, 190, 190, 190, 190, 191, 191, 191, 191, 191, 191, 191, 191, 191, 191, 191, 191, 191, 191, 191, 191, 191, 191, 191, 191, 191, 192, 192, 192, 193, 193, 193, 193, 193, 193, 193, 193, 193, 193, 193, 193, 193, 193, 193, 193, 193, 193, 193, 193, 193, 193, 193, 193, 193, 193, 193, 193, 193, 193, 193, 193, 193, 193, 193, 193, 193, 193, 193, 193, 193, 193, 193, 193, 193, 193, 193, 193, 193, 193, 193, 193, 193, 193, 193, 193, 193, 193, 194, 194, 194, 194, 194, 195, 195, 195, 195, 195, 196, 196, 196, 196, 196, 196, 196, 199, 199, 199, 199, 199, 199, 199, 199, 199, 199, 199, 199, 199, 199, 199, 199, 199, 199, 199, 199, 199, 199, 199, 199, 199, 199, 199, 199, 199, 199, 199, 199, 199, 199, 199, 199, 199, 199, 199, 199, 199, 199, 199, 199, 199, 199, 199, 199, 199, 199, 199, 199, 199, 199, 200, 200, 200, 200, 200, 200, 200, 200, 200, 200, 200, 200, 200, 200, 200, 200, 200, 201, 201, 201, 201, 201, 201, 201, 201, 201, 201, 201, 201, 201, 202, 202, 203, 203, 203, 203, 203, 205, 205, 205, 205, 205, 205, 205, 205, 205, 205, 205, 205, 205, 205, 205, 206, 208, 208, 209, 212, 213, 213, 213, 213, 213, 217, 217, 217, 217, 217, 217, 217, 217, 217, 217, 217, 217, 217, 217, 217, 217, 217, 218, 219, 219, 219, 219, 219, 219, 219, 219, 219, 219, 219, 220, 220, 222, 222, 222, 222, 222, 222, 222, 222, 222, 222, 222, 222, 222, 222, 222, 222, 222, 222, 222, 222, 222, 223, 223, 224, 225, 225, 225, 225, 225, 225, 225, 225, 225, 225, 225, 225, 225, 225, 225, 225, 225, 225, 225, 225, 225, 225, 225, 225, 225, 225, 225, 225, 225, 225, 225, 225, 225, 225, 225, 225, 225, 225, 225, 225, 225, 225, 225, 225, 225, 225, 225, 225, 225, 225, 225, 225, 225, 225, 225, 225, 225, 227, 227, 227, 227, 227, 228, 228, 228, 228, 228, 228, 228, 228, 230, 230, 230, 230, 230, 230, 230, 230, 230, 230, 230, 230, 230, 230, 230, 230, 230, 230, 230, 230, 232, 232, 232, 232, 232, 232, 232, 232, 232, 232, 232, 232, 232, 232, 232, 233, 233, 234, 234, 234, 234, 236, 236, 236, 237, 237, 237, 237, 240, 240, 240, 240, 243, 243, 243, 243, 243, 243, 243, 243, 243, 243, 243, 243, 243, 243, 243, 243, 243, 243, 243, 243, 243, 243, 243, 243, 243, 243, 243, 243, 243, 243, 244, 244, 244, 244, 244, 244, 244, 244, 244, 244, 244, 244, 244, 244, 244, 244, 244, 244, 244, 244, 244, 244, 244, 244, 244, 244, 244, 244, 244, 244, 244, 244, 245, 245, 245, 245, 245, 245, 245, 245, 245, 245, 245, 245, 245, 245, 245, 245, 245, 245, 246, 246, 246, 246, 246, 246, 246, 246, 246, 246, 246, 246, 246, 246, 249, 249, 249, 249, 249, 249, 250, 250, 250, 252, 252, 252, 252, 252, 253, 253, 253, 253, 257, 257, 257, 257, 257, 257, 257, 257, 258, 258, 259, 259, 259, 259, 259, 259, 259, 259, 259, 259, 259, 259, 259, 259, 260, 260, 260, 260, 260, 268, 268, 268, 268, 268, 268, 268, 268, 268, 268, 268, 268, 268, 268, 268, 268, 268, 269, 269, 269, 269, 270, 270, 270, 270, 270, 270, 271, 271, 271, 271, 271, 271, 271, 271, 271, 271, 271, 271, 271, 271, 271, 271, 271, 271, 271, 271, 271, 271, 271, 271, 271, 271, 271, 271, 271, 271, 271, 271, 271, 271, 272, 272, 272, 272, 272, 272, 272, 272, 272, 272, 272, 272, 272, 272, 272, 272, 272, 272, 272, 272, 272, 272, 272, 272, 272, 272, 272, 272, 272, 272, 272, 272, 272, 272, 272, 272, 272, 272, 272, 272, 272, 272, 272, 272, 272, 272, 272, 272, 272, 272, 272, 272, 272, 272, 272, 272, 272, 272, 272, 272, 272, 272, 272, 272, 272, 272, 272, 273, 273, 273, 273, 273, 273, 273, 273, 273, 273, 273, 273, 273, 273, 273, 273, 273, 273, 275, 278, 278, 278, 278, 278, 278, 278, 278, 278, 278, 278, 278, 278, 278, 278, 278, 278, 278, 278, 278, 278, 278, 278, 278, 278, 278, 278, 278, 278, 278, 278, 278, 278, 278, 278, 278, 278, 278, 278, 278, 278, 278, 278, 278, 278, 278, 278, 278, 278, 279, 279, 279, 279, 279, 279, 279, 279, 279, 279, 279, 279, 279, 279, 279, 279, 279, 279, 279, 279, 279, 279, 279, 279, 279, 279, 279, 279, 279, 279, 279, 279, 279, 279, 279, 279, 279, 279, 279, 279, 279, 279, 280, 280, 280, 280, 280, 282, 282, 282, 283, 284, 284, 284, 285, 285, 285, 285, 285, 285, 285, 285, 285, 285, 285, 285, 285, 285, 285, 285, 285, 285, 286, 286, 286, 287, 288, 288, 288, 290, 290, 290, 290, 290, 290, 290, 290, 290, 290, 290, 291, 291, 291, 293, 293, 293, 293, 293, 293, 293, 293, 293, 293, 293, 293, 293, 293, 293, 293, 293, 293, 293, 293, 293, 293, 293, 293, 293, 293, 293, 293, 293, 293, 293, 293, 293, 293, 293, 293, 294, 294, 294, 294, 294, 294, 294, 295, 295, 295, 295, 295, 295, 295, 296, 296, 296, 296, 296, 296, 296, 296, 296, 296, 296, 296, 296, 296, 296, 296, 296, 296, 296, 296, 296, 296, 296, 296, 296, 296, 296, 296, 296, 296, 296, 296, 296, 296, 296, 296, 296, 299, 299, 299, 299, 299, 301, 301, 301, 301, 301, 301, 301, 301, 301, 301, 303, 303, 303, 303, 303, 303, 303, 303, 303, 303, 303, 303, 303, 303, 303, 303, 303, 303, 303, 303, 303, 303, 303, 303, 303, 304, 304, 304, 306, 306, 306, 306, 306, 306, 306, 306, 306, 306, 307, 307, 307, 307, 307, 307, 307, 307, 307, 307, 309, 309, 309, 309, 309, 309, 309, 309, 309, 309, 309, 315, 315, 315, 318, 318, 318, 318, 318, 318, 318, 318, 318, 318, 318, 318, 318, 318, 318, 318, 318, 318, 318, 318, 318, 318, 318, 318, 318, 318, 318, 318, 318, 318, 318, 318, 318, 318, 318, 318, 318, 318, 318, 318, 318, 318, 318, 318, 318, 318, 318, 318, 318, 318, 318, 318, 318, 318, 318, 318, 318, 318, 318, 318, 318, 318, 318, 318, 319, 320, 320, 320, 320, 320, 320, 320, 320, 320, 320, 320, 320, 320, 320, 320, 320, 320, 320, 320, 320, 320, 320, 320, 320, 320, 320, 320, 320, 320, 320, 320, 320, 320, 320, 320, 320, 320, 320, 320, 320, 320, 320, 320, 320, 320, 320, 320, 320, 320, 320, 320, 320, 320, 320, 320, 320, 323, 323, 323, 323, 323, 323, 324, 324, 325, 325, 325, 325, 325, 325, 325, 325, 325, 327, 327, 327, 327, 327, 327, 327, 327, 327, 327, 327, 327, 327, 327, 330, 330, 330, 333, 333, 333, 333, 333, 333, 333, 333, 333, 333, 333, 333, 333, 333, 333, 333, 333, 333, 333, 333, 333, 333, 333, 333, 333, 333, 334, 334, 334, 334, 334, 334, 334, 334, 334, 334, 334, 334, 334, 334, 334, 334, 334, 334, 334, 334, 334, 334, 334, 334, 335, 335, 335, 335, 335, 335, 338, 338, 338, 340, 340, 342, 342, 342, 344, 344, 344, 344, 344, 344, 344, 344, 344, 344, 344, 344, 344, 346, 346, 346, 346, 346, 346, 346, 346, 346, 347, 347, 347, 347, 347, 347, 347, 347, 347, 347, 347, 347, 347, 347, 347, 347, 347, 351, 351, 351, 351, 351, 351, 353, 353, 353, 353, 354, 354, 354, 354, 354, 354, 354, 354, 354, 354, 354, 354, 354, 354, 354, 358, 358, 358, 358, 358, 358, 358, 358, 358, 358, 358, 358, 358, 358, 358, 358, 358, 358, 358, 358, 358, 358, 358, 358, 358, 358, 358, 358, 358, 360, 361, 361, 361, 361, 361, 361, 361, 361, 361, 361, 362, 362, 362, 362, 362, 362, 362, 362, 362, 362, 362, 362, 362, 362, 362, 362, 362, 363, 363, 364, 364, 364, 364, 364, 364, 364, 364, 364, 364, 364, 364, 364, 364, 365, 365, 365, 365, 365, 365, 365, 365, 365, 365, 366, 367, 367, 367, 367, 367, 367, 367, 367, 367, 367, 367, 367, 367, 367, 367, 367, 367, 367, 367, 367, 367, 367, 371, 372, 372, 372, 372, 372, 372, 372, 372, 372, 372, 372, 372, 372, 372, 372, 373, 375, 375, 375, 375, 375, 375, 375, 375, 375, 375, 375, 375, 375, 375, 375, 375, 375, 375, 375, 375, 375, 375, 375, 375, 375, 375, 375, 375, 375, 375, 375, 375, 375, 375, 375, 375, 375, 375, 375, 375, 375, 375, 377, 377, 377, 377, 377, 378, 378, 378, 378, 378, 378, 378, 378, 378, 378, 378, 378, 378, 378, 378, 378, 378, 378, 378, 378, 378, 378, 378, 378, 378, 378, 378, 378, 378, 378, 378, 378, 378, 378, 378, 378, 378, 378, 378, 378, 378, 378, 378, 378, 378, 378, 378, 378, 378, 378, 379, 380, 380, 380, 380, 380, 380, 380, 380, 380, 380, 380, 380, 380, 380, 380, 380, 380, 380, 380, 380, 380, 380, 380, 380, 380, 380, 380, 380, 380, 380, 380, 380, 380, 380, 380, 380, 380, 380, 380, 380, 380, 380, 380, 380, 380, 381, 381, 381, 381, 381, 381, 381, 382, 382, 382, 383, 383, 383, 383, 383, 383, 383, 384, 384, 384, 384, 384, 384, 384, 384, 384, 384, 384, 384, 384, 385, 386, 386, 386, 388, 388, 388, 388, 388, 388, 388, 389, 389, 389, 389, 389, 389, 389, 389, 389, 389, 389, 389, 389, 389, 389, 389, 389, 389, 389, 389, 389, 389, 389, 389, 389, 389, 389, 389, 389, 389, 389, 389, 389, 389, 389, 389, 389, 389, 389, 389, 389, 389, 389, 389, 389, 389, 389, 389, 389, 389, 389, 389, 389, 389, 389, 389, 389, 389, 390, 393, 393, 393, 394, 397, 399, 399, 400, 401, 402, 402, 402, 402, 402, 404, 404, 404, 404, 404, 404, 404, 404, 404, 404, 404, 404, 404, 404, 404, 404, 405, 405, 405, 405, 407, 408, 408, 408, 408, 408, 408, 408, 408, 408, 408, 408, 409, 410, 410, 410, 410, 410, 410, 410, 410, 410, 410, 410, 410, 410, 410, 410, 410, 410, 410, 411, 411, 411, 411, 412, 412, 412, 412, 412, 412, 412, 412, 412, 412, 412, 412, 412, 412, 412, 412, 412, 412, 412, 412, 412, 412, 412, 412, 412, 412, 412, 412, 412, 412, 412, 412, 412, 412, 412, 413, 413, 416, 420, 420, 420, 420, 420, 420, 420, 421, 421, 421, 422, 422, 422, 422, 422, 422, 422, 422, 422, 422, 422, 422, 422, 424, 424, 427, 427, 427, 427, 427, 427, 427, 427, 427, 427, 427, 427, 427, 427, 427, 427, 427, 427, 427, 427, 427, 427, 427, 427, 427, 427, 427, 427, 427, 427, 430, 430, 430, 432, 432, 432, 432, 432, 432, 432, 432, 432, 432, 432, 432, 432, 432, 432, 432, 432, 432, 432, 432, 432, 432, 432, 432, 432, 432, 433, 433, 433, 433, 433, 433, 433, 433, 433, 433, 433, 433, 433, 433, 433, 436, 436, 436, 436, 436, 436, 436, 436, 436, 436, 436, 436, 436, 436, 436, 436, 436, 436, 436, 436, 436, 436, 436, 436, 436, 436, 436, 436, 436, 436, 438, 438, 438, 439, 439, 439, 439, 439, 439, 439, 439, 439, 439, 439, 439, 439, 439, 439, 439, 439, 439, 439, 439, 439, 439, 439, 439, 439, 439, 439, 439, 439, 439, 439, 439, 439, 439, 439, 439, 439, 439, 439, 439, 439, 439, 439, 439, 439, 439, 439, 439, 439, 439, 439, 439, 439, 440, 440, 441, 441, 441, 441, 441, 441, 441, 441, 443, 445, 445, 445, 445, 445, 445, 445, 445, 446, 446, 446, 446, 446, 447, 448, 449, 449, 449, 449, 449, 450, 450, 450, 450, 450, 450, 450, 450, 450, 450, 450, 450, 450, 450, 450, 450, 452, 452, 453, 453, 454, 454, 454, 454, 454, 454, 454, 454, 454, 454, 454, 454, 454, 454, 455, 455, 455, 455, 455, 455, 455, 455, 455, 455, 455, 455, 455, 455, 455, 455, 456, 456, 457, 457, 457, 457, 457, 457, 457, 457, 457, 457, 457, 457, 457, 457, 457, 457, 458, 458, 459, 459, 461, 461, 464, 464, 464, 464, 464, 464, 464, 464, 464, 464, 464, 464, 464, 464, 464, 464, 464, 464, 464, 464, 464, 464, 464, 464, 464, 464, 464, 464, 464, 464, 464, 464, 464, 464, 464, 466, 466, 468, 468, 468, 468, 468, 468, 468, 468, 468, 468, 468, 468, 468, 468, 468, 468, 472, 472, 472, 472, 472, 472, 472, 472, 473, 474, 474, 474, 474, 474, 474, 475, 475, 475, 475, 475, 475, 475, 475, 475, 475, 475, 475, 475, 475, 475, 475, 475, 475, 475, 475, 476, 476, 476, 476, 476, 476, 476, 476, 476, 476, 476, 476, 476, 476, 476, 476, 477, 477, 477, 477, 477, 477, 477, 477, 477, 477, 477, 477, 477, 477, 477, 477, 477, 477, 477, 478, 478, 478, 479, 479, 479, 479, 479, 479, 481, 481, 481, 481, 482, 482, 482, 482, 482, 482, 482, 482, 482, 482, 482, 482, 482, 482, 482, 482, 482, 482, 482, 482, 482, 482, 482, 482, 482, 482, 482, 482, 482, 482, 482, 482, 482, 482, 482, 482, 482, 482, 482, 482, 482, 482, 482, 482, 482, 482, 482, 482, 482, 482, 482, 482, 482, 482, 482, 482, 482, 482, 482, 482, 482, 482, 482, 482, 482, 482, 482, 482, 484, 484, 484, 484, 484, 484, 484, 484, 484, 484, 484, 484, 486, 487, 487, 487, 487, 487, 487, 487, 487, 487, 487, 487, 487, 487, 487, 487, 487, 487, 487, 487, 487, 487, 487, 487, 487, 487, 487, 487, 487, 487, 487, 487, 487, 487, 487, 487, 487, 487, 487, 487, 487, 488, 488, 489, 489, 489, 492, 492, 492, 496, 496, 497, 497, 497, 497, 497, 497, 497, 498, 499, 499, 499, 499, 500, 500, 500, 500, 500, 500, 501, 502, 502, 502, 502, 502, 502, 502, 502, 502, 502, 502, 502, 502, 502, 502, 502, 502, 502, 502, 502, 504, 505, 505, 505, 505, 506, 508, 508, 508, 508, 508, 508, 508, 508, 508, 508, 508, 508, 508, 508, 508, 508, 508, 508, 508, 509, 509, 509, 509, 509, 509, 509, 509, 509, 509, 509, 509, 509, 509, 509, 509, 509, 509, 509, 509, 509, 509, 510, 510, 510, 510, 510, 510, 510, 510, 510, 510, 510, 510, 510, 510, 510, 510, 510, 510, 510, 510, 510, 510, 510, 510, 510, 510, 511, 511, 511, 511, 511, 511, 511, 511, 511, 511, 512, 513, 513, 513, 513, 513, 513, 513, 513, 514, 514, 514, 514, 514, 514, 514, 514, 514, 514, 514, 514, 514, 514, 514, 514, 514, 514, 516, 516, 516, 516, 516, 516, 516, 516, 518, 518, 518, 518, 518, 519, 519, 519, 520, 520, 520, 520, 520, 520, 520, 520, 520, 520, 522, 522, 522, 522, 522, 522, 522, 522, 522, 522, 522, 522, 522, 523, 523, 523, 523, 523, 523, 523, 523, 523, 523, 523, 523, 523, 523, 523, 523, 523, 523, 524, 524, 524, 524, 524, 524, 524, 524, 524, 524, 524, 524, 524, 524, 524, 524, 524, 524, 524, 524, 526, 526, 526, 526, 526, 530, 530, 530, 530, 530, 534, 534, 535, 535, 535, 535, 535, 535, 535, 535, 535, 535, 535, 535, 535, 535, 535, 535, 535, 535, 535, 535, 535, 536, 536, 536, 536, 536, 536, 536, 536, 536, 536, 536, 536, 536, 536, 536, 536, 536, 536, 536, 536, 536, 536, 539, 539, 539, 539, 539, 539, 542, 542, 542, 542, 542, 543, 543, 543, 543, 543, 543, 543, 545, 545, 545, 545, 545, 545, 545, 545, 545, 545, 545, 545, 545, 545, 545, 545, 545, 545, 545, 545, 545, 545, 545, 545, 545, 545, 545, 545, 549, 549, 549, 549, 549, 549, 549, 549, 549, 549, 549, 549, 549, 549, 549, 549, 549, 549, 549, 551, 551, 551, 551, 551, 551, 551, 552, 552, 552, 552, 552, 552, 552, 552, 552, 552, 552, 552, 552, 552, 552, 552, 553, 553, 553, 553, 553, 553, 554, 554, 554, 554, 554, 554, 556, 556, 556, 556, 556, 556, 556, 556, 556, 556, 556, 556, 556, 556, 556, 556, 556, 556, 556, 556, 557, 557, 557, 557, 560, 560, 560, 560, 560, 562, 562, 562, 562, 562, 563, 563, 563, 563, 563, 563, 563, 563, 563, 563, 563, 563, 563, 563, 563, 563, 563, 563, 563, 565, 565, 565, 566, 566, 566, 566, 566, 568, 568, 568, 568, 568, 568, 568, 568, 568, 568, 568, 568, 568, 568, 568, 568, 571, 571, 572, 572, 573, 573, 573, 573, 573, 573, 573, 573, 573, 573, 573, 573, 573, 573, 573, 573, 573, 573, 575, 575, 575, 575, 578, 578, 578, 578, 578, 578, 578, 578, 578, 579, 579, 579, 579, 579, 579, 580, 580, 580, 580, 580, 580, 580, 580, 580, 586, 586, 586, 588, 588, 588, 588, 588, 588, 588, 588, 588, 589, 589, 589, 589, 589, 589, 589, 589, 589, 589, 589, 589, 589, 589, 589, 589, 589, 591, 591, 592, 592, 592, 592, 592, 594, 594, 594, 594, 594, 594, 594, 594, 594, 594, 594, 594, 594, 594, 594, 594, 594, 594, 594, 594, 594, 594, 594, 594, 594, 594, 594, 594, 594, 594, 594, 594, 594, 594, 594, 594, 594, 594, 594, 594, 594, 594, 594, 594, 594, 594, 594, 595, 595, 595, 595, 595, 595, 595, 595, 595, 595, 595, 595, 595, 595, 595, 595, 595, 595, 595, 595, 595, 597, 597, 597, 597, 597, 598, 598, 598, 598, 598, 598, 598, 598, 598, 599, 599, 599, 599, 599, 600, 600, 600, 604, 604, 604, 604, 604, 604, 604, 604, 604, 604, 604, 604, 604, 604, 604, 604, 604, 604, 604, 604, 604, 604, 604, 604, 604, 604, 604, 604, 605, 605, 605, 605, 605, 605, 605, 605, 605, 605, 605, 605, 605, 605, 605, 605, 605, 605, 605, 605, 605, 605, 605, 605, 605, 605, 605, 605, 606, 606, 606, 606, 606, 606, 606, 606, 606, 606, 606, 606, 606, 606, 607, 607, 607, 607, 607, 607, 607, 607, 607, 607, 607, 607, 607, 607, 607, 607, 607, 607, 607, 607, 607, 607, 607, 610, 610, 610, 610, 610, 610, 610, 610, 610, 610, 610, 610, 610, 610, 610, 610, 610, 610, 610, 610, 611, 615, 615, 615, 615, 615, 615, 615, 615, 615, 615, 615, 615, 615, 616, 616, 616, 616, 616, 616, 616, 616, 616, 616, 616, 616, 616, 617, 617, 617, 617, 617, 617, 619, 619, 619, 619, 619, 619, 620, 620, 620, 620, 620, 620, 620, 620, 620, 620, 620, 620, 620, 620, 620, 620, 620, 620, 620, 620, 620, 620, 620, 622, 622, 622, 622, 622, 622, 622, 622, 622, 622, 622, 622, 622, 622, 625, 630, 630, 630, 630, 630, 630, 630, 630, 630, 630, 630, 630, 630, 631, 631, 631, 633, 633, 633, 633, 633, 633, 633, 633, 633, 633, 633, 633, 633, 633, 635, 635, 635, 635, 635, 635, 635, 637, 637, 637, 637, 637, 637, 637, 637, 637, 637, 637, 637, 638, 638, 638, 638, 638, 638, 638, 639, 639, 639, 639, 639, 639, 639, 640, 640, 640, 640, 640, 640, 640, 640, 640, 641, 641, 641, 643, 643, 643, 648, 652, 652, 652, 652, 652, 652, 652, 652, 652, 652, 652, 652, 652, 652, 653, 658, 658, 658, 658, 658, 661, 661, 661, 661, 661, 661, 661, 661, 661, 661, 661, 661, 661, 661, 661, 661, 661, 661, 661, 661, 661, 661, 661, 661, 661, 661, 661, 661, 661, 662, 664, 664, 665, 665, 665, 665, 665, 665, 665, 665, 665, 665, 665, 665, 665, 665, 665, 665, 665, 665, 665, 665, 665, 665, 665, 665, 665, 665, 665, 666, 666, 666, 666, 666, 666, 667, 667, 667, 667, 667, 667, 667, 667, 667, 667, 667, 667, 667, 667, 667, 669, 669, 669, 669, 669, 669, 669, 669, 669, 669, 669, 669, 669, 671, 671, 671, 672, 672, 672, 673, 674, 674, 674, 674, 674, 674, 674, 674, 675, 681, 681, 681, 681, 681, 682, 682, 682, 682, 682, 682, 682, 683, 683, 683, 683, 685, 685, 685, 685, 685, 685, 685, 685, 685, 685, 685, 685, 685, 685, 685, 685, 685, 685, 685, 685, 685, 685, 685, 685, 685, 685, 686, 686, 686, 686, 686, 686, 686, 686, 686, 686, 686, 686, 686, 686, 686, 687, 687, 687, 687, 687, 687, 687, 687, 687, 687, 688, 688, 688, 688, 688, 688, 689, 689, 689, 689, 689, 689, 689, 689, 689, 689, 689, 689, 692, 692, 692, 692, 692, 692, 692, 692, 692, 692, 692, 692, 692, 692, 692, 692, 692, 692, 692, 692, 692, 692, 692, 692, 693, 693, 693, 693, 693, 693, 693, 693, 693, 693, 693, 693, 693, 693, 693, 693, 693, 693, 693, 695, 695, 695, 695, 695, 695, 695, 695, 695, 695, 695, 695, 695, 695, 695, 695, 695, 695, 695, 695, 695, 695, 695, 695, 695, 695, 695, 695, 695, 695, 695, 695, 695, 695, 695, 695, 695, 695, 695, 695, 695, 695, 695, 695, 695, 695, 695, 695, 695, 695, 695, 695, 696, 696, 696, 696, 696, 696, 696, 696, 696, 696, 697, 697, 697, 697, 697, 697, 697, 697, 700, 700, 702, 702, 702, 703, 704, 705, 705, 707, 707, 707, 707, 707, 707, 707, 707, 708, 708, 708, 708, 708, 708, 708, 708, 709, 709, 710, 710, 714, 714, 714, 714, 714, 714, 714, 714, 714, 714, 714, 714, 714, 714, 714, 714, 714, 714, 714, 714, 714, 714, 714, 714, 714, 714, 716, 719, 719, 722, 722, 722, 722, 722, 722, 722, 726, 726, 726, 726, 726, 727, 727, 730, 730, 730, 730, 730, 730, 730, 730, 730, 730, 730, 730, 730, 730, 730, 730, 730, 730, 732, 732, 732, 732, 732, 732, 732, 732, 732, 732, 732, 732, 732, 733, 733, 733, 733, 733, 734, 734, 737, 737, 740, 740, 740, 740, 740, 740, 740, 740, 740, 740, 740, 740, 740, 740, 740, 740, 740, 742, 742, 742, 742, 742, 742, 742, 742, 742, 742, 743, 743, 743, 743, 743, 743, 743, 743, 745, 745, 745, 745, 745, 745, 745, 745, 745, 745, 745, 745, 745, 745, 745, 745, 745, 745, 745, 745, 745, 745, 745, 745, 745, 745, 745, 745, 745, 745, 745, 745, 745, 745, 745, 745, 745, 745, 745, 745, 745, 745, 745, 745, 746, 746, 747, 747, 747, 747, 747, 747, 747, 747, 747, 747, 747, 747, 747, 747, 747, 747, 747, 747, 749, 749, 749, 749, 749, 749, 749, 749, 749, 749, 753, 753, 753, 754, 754, 754, 754, 754, 754, 754, 756, 756, 756, 758, 760, 761, 762, 762, 762, 762, 762, 766, 766, 768, 768, 768, 770, 770, 770, 770, 770, 772, 772, 772, 774, 776, 781, 781, 781, 781, 781, 781, 781, 781, 781, 782, 782, 782, 782, 782, 782, 782, 782, 782, 782, 785, 785, 785, 785, 785, 785, 785, 785, 785, 785, 787, 787, 787, 787, 790, 790, 790, 790, 790, 790, 790, 790, 790, 790, 790, 790, 790, 790, 790, 790, 790, 790, 790, 790, 790, 790, 790, 790, 790, 790, 790, 790, 790, 790, 793, 794, 794, 794, 797, 797, 797, 797, 797, 797, 797, 797, 797, 797, 797, 797, 797, 797, 797, 797, 797, 797, 797, 797, 797, 797, 797, 797, 798, 798, 798, 798, 798, 798, 798, 798, 798, 798, 798, 798, 798, 798, 798, 798, 800, 800, 800, 800, 800, 800, 800, 800, 800, 800, 800, 800, 800, 801, 801, 801, 801, 801, 801, 801, 801, 801, 801, 801, 801, 801, 801, 801, 803, 805, 805, 805, 805, 805, 805, 805, 805, 805, 805, 805, 805, 805, 805, 805, 805, 805, 805, 805, 805, 805, 805, 805, 805, 805, 805, 805, 805, 805, 805, 805, 805, 805, 805, 805, 805, 805, 805, 805, 805, 805, 805, 805, 805, 806, 806, 806, 806, 806, 806, 806, 806, 806, 806, 806, 806, 806, 806, 806, 806, 806, 806, 806, 806, 806, 806, 806, 806, 806, 806, 806, 806, 806, 809, 810, 810, 810, 810, 810, 810, 810, 810, 810, 810, 810, 810, 810, 810, 810, 811, 811, 812, 812, 812, 812, 812, 812, 812, 812, 812, 812, 812, 812, 812, 812, 812, 812, 812, 812, 812, 812, 812, 812, 812, 812, 812, 813, 814, 814, 814, 814, 814, 814, 814, 814, 814, 814, 814, 814, 814, 814, 814, 815, 815, 815, 815, 815, 815, 815, 815, 815, 815, 815, 815, 815, 815, 815, 815, 815, 815, 815, 815, 815, 818, 818, 818, 818, 818, 818, 818, 818, 818, 819, 819, 819, 819, 819, 819, 819, 819, 820, 820, 822, 822, 822, 822, 822, 822, 830, 830, 832, 832, 832, 832, 834, 834, 835, 835, 836, 836, 836, 836, 838, 838, 838, 838, 838, 838, 838, 838, 838, 838, 838, 838, 838, 838, 838, 838, 838, 838, 838, 838, 838, 838, 838, 838, 838, 838, 838, 838, 838, 838, 838, 838, 838, 838, 838, 838, 838, 838, 839, 839, 839, 839, 839, 839, 839, 839, 839, 839, 839, 839, 839, 839, 839, 839, 839, 839, 839, 839, 839, 839, 839, 839, 839, 839, 839, 839, 839, 839, 840, 840, 840, 840, 840, 840, 840, 840, 840, 840, 840, 840, 840, 840, 840, 840, 840, 840, 840, 840, 840, 840, 840, 840, 840, 840, 840, 841, 841, 841, 841, 841, 841, 841, 841, 841, 841, 841, 841, 841, 841, 841, 841, 841, 841, 841, 841, 841, 841, 841, 841, 841, 841, 841, 841, 841, 841, 841, 841, 841, 841, 841, 841, 841, 841, 841, 841, 841, 842, 842, 842, 843, 843, 843, 843, 843, 843, 843, 843, 843, 843, 843, 843, 854, 859, 859, 859, 859, 859, 859, 859, 859, 859, 859, 859, 859, 859, 859, 862, 862, 862, 862, 862, 862, 862, 862, 862, 862, 862, 862, 862, 862, 862, 862, 862, 862, 862, 862, 862, 862, 862, 862, 862, 862, 862, 862, 862, 862, 862, 862, 862, 862, 862, 863, 867, 867, 867, 867, 867, 867, 867, 869, 869, 869, 869, 869, 869, 869, 869, 869, 869, 869, 869, 869, 869, 869, 869, 869, 869, 869, 869, 869, 869, 869, 869, 869, 869, 869, 869, 869, 869, 869, 869, 869, 869, 870, 870, 870, 870, 870, 871, 871, 872, 872, 872, 872, 872, 872, 876, 876, 876, 876, 876, 876, 876, 876, 876, 876, 876, 876, 876, 876, 876, 877, 877, 877, 877, 877, 877, 877, 877, 877, 877, 877, 877, 879, 879, 879, 879, 879, 883, 883, 883, 883, 883, 883, 884, 884, 884, 884, 884, 884, 884, 884, 884, 884, 884, 884, 884, 884, 884, 884, 884, 884, 884, 884, 885, 885, 885, 885, 887, 887, 887, 888, 888, 888, 888, 888, 888, 888, 888, 888, 888, 888, 888, 888, 888, 888, 888, 888, 888, 888, 888, 888, 888, 888, 889, 890, 890, 890, 890, 890, 890, 890, 890, 890, 890, 890, 892, 892, 892, 892, 892, 892, 892, 892, 896, 896, 896, 896, 896, 896, 896, 896, 896, 896, 897, 897, 897, 897, 897, 897, 897, 899, 899, 899, 899, 899, 899, 899, 899, 899, 899, 899, 899, 899, 899, 899, 899, 899, 900, 900, 901, 901, 901, 901, 901, 901, 901, 901, 901, 901, 901, 902, 902, 902, 902, 902, 902, 902, 906, 908, 908, 908, 908, 908, 912, 912, 912, 912, 912, 913, 913, 913, 913, 913, 913, 913, 913, 913, 913, 913, 913, 913, 913, 913, 913, 913, 913, 913, 913, 913, 913, 913, 913, 913, 913, 913, 913, 913, 913, 913, 913, 913, 913, 913, 913, 913, 913, 913, 913, 913, 913, 913, 913, 913, 913, 913, 913, 913, 913, 913, 913, 913, 913, 913, 913, 913, 913, 913, 913, 913, 913, 913, 913, 913, 913, 913, 913, 913, 913, 913, 913, 913, 913, 913, 913, 913, 913, 913, 913, 913, 913, 913, 913, 913, 913, 913, 913, 918, 918, 918, 918, 918, 918, 918, 919, 919, 919, 919, 919, 919, 919, 919, 919, 920, 920, 920, 922, 922, 922, 922, 924, 924, 924, 924, 924, 924, 924, 924, 924, 924, 924, 924, 924, 924, 924, 924, 924, 924, 925, 925, 925, 925, 925, 925, 925, 925, 925, 925, 925, 929, 929, 929, 929, 929, 929, 929, 929, 929, 929, 929, 929, 929, 929, 929, 929, 929, 930, 930, 930, 930, 930, 930, 930, 930, 930, 930, 930, 930, 930, 930, 930, 930, 930, 930, 930, 930, 930, 930, 930, 930, 930, 930, 930, 930, 930, 930, 931, 932, 932, 932, 932, 932, 932, 932, 932, 932, 932, 932, 932, 932, 933, 933, 935, 935, 935, 936, 936, 936, 936, 939, 940, 940, 940, 940, 940, 940, 940, 942, 942, 942, 942, 942, 942, 942, 943, 943, 943, 943, 943, 943, 943, 943, 943, 943, 945, 945, 947, 947, 947, 947, 947, 947, 947, 947, 948, 949, 949, 949, 949, 952, 952, 952, 952, 953, 953, 953, 953, 953, 955, 955, 955, 955, 955, 955, 955, 955, 955, 955, 955, 955, 955, 955, 955, 955, 955, 955, 955, 955, 955, 955, 955, 955, 955, 955, 955, 955, 955, 958, 961, 961, 961, 962, 962, 962, 962, 962, 962, 962, 962, 962, 962, 962, 962, 962, 962, 962, 962, 962, 964, 964, 964, 964, 964, 964, 964, 964, 964, 964, 964, 964, 964, 964, 964, 964, 964, 964, 964, 964, 964, 964, 964, 964, 964, 964, 964, 964, 964, 964, 965, 965, 965, 966, 966, 966, 966, 966, 966, 966, 966, 966, 966, 966, 966, 966, 967, 967, 967, 967, 967, 967, 968, 968, 968, 968, 968, 968, 968, 968, 968, 968, 968, 968, 968, 968, 968, 968, 968, 968, 968, 968, 968, 968, 968, 968, 969, 969, 969, 969, 969, 969, 970, 970, 970, 970, 970, 970, 970, 970, 970, 970, 970, 970, 970, 970, 970, 971, 971, 971, 972, 974, 974, 976, 976, 976, 976, 976, 978, 978, 978, 978, 978, 978, 978, 978, 978, 978, 978, 978, 978, 978, 978, 979, 979, 981, 981, 981, 981, 981, 981, 981, 981, 981, 981, 981, 981, 981, 981, 981, 981, 981, 981, 981, 981, 981, 981, 981, 981, 981, 981, 981, 981, 981, 981, 981, 981, 982, 982, 982, 982, 982, 982, 982, 982, 982, 982, 982, 982, 982, 982, 982, 982, 982, 982, 982, 982, 982, 982, 982, 982, 983, 983, 983, 983, 983, 983, 983, 983, 983, 983, 983, 983, 983, 983, 983, 983, 983, 983, 983, 983, 983, 983, 984, 984, 984, 984, 984, 984, 984, 984, 984, 984, 984, 984, 984, 984, 984, 984, 984, 984, 984, 984, 984, 984, 986, 986, 986, 987, 987, 989, 989, 989, 989, 989, 989, 989, 990, 990, 990, 990, 990, 990, 990, 990, 991, 991, 992, 992, 992, 992, 992, 992, 992, 992, 992, 992, 992, 992, 992, 992, 992, 992, 993, 994, 998, 998, 998, 998, 998, 998, 998, 998, 998, 998, 998, 998, 998, 999, 999, 999, 999, 999, 999, 999, 999, 999, 999, 999, 999, 999, 999, 999, 999, 999, 999, 999, 999, 999, 999, 999, 999, 999, 999, 999, 999, 1000, 1002, 1003, 1003, 1003, 1003, 1003, 1003, 1004, 1004, 1004, 1004, 1004, 1004, 1004, 1004, 1004, 1005, 1005, 1005, 1009, 1009, 1009, 1009, 1009, 1009, 1009, 1009, 1009, 1009, 1009, 1009, 1009, 1009, 1009, 1009, 1009, 1009, 1009, 1009, 1009, 1009, 1009, 1010, 1010, 1010, 1010, 1012, 1012, 1012, 1012, 1012, 1012, 1012, 1012, 1013, 1013, 1013, 1013, 1013, 1013, 1013, 1013, 1013, 1013, 1013, 1013, 1013, 1013, 1013, 1013, 1013, 1013, 1013, 1013, 1013, 1013, 1013, 1014, 1014, 1014, 1014, 1014, 1015, 1015, 1015, 1016, 1016, 1019, 1019, 1019, 1019, 1019, 1019, 1019, 1019, 1019, 1019, 1019, 1019, 1019, 1019, 1019, 1019, 1019, 1019, 1019, 1022, 1022, 1022, 1022, 1022, 1022, 1022, 1022, 1022, 1022, 1022, 1022, 1022, 1022, 1023, 1026, 1026, 1028, 1028, 1028, 1028, 1028, 1028, 1028, 1028, 1028, 1028, 1029, 1029, 1029, 1029, 1029, 1029, 1029, 1029, 1029, 1029, 1029, 1029, 1029, 1029, 1029, 1029, 1029, 1029, 1029, 1030, 1030, 1031, 1031, 1031, 1031, 1031, 1031, 1031, 1031, 1031, 1032, 1032, 1033, 1033, 1033, 1033, 1033, 1033, 1033, 1033, 1035, 1036, 1036, 1036, 1036, 1036, 1037, 1038, 1038, 1038, 1038, 1038, 1038, 1038, 1038, 1038, 1038, 1038, 1038, 1038, 1038, 1038, 1038, 1038, 1038, 1038, 1038, 1038, 1038, 1038, 1038, 1038, 1038, 1038, 1038, 1038, 1038, 1038, 1038, 1038, 1038, 1038, 1038, 1038, 1038, 1038, 1038, 1038, 1038, 1038, 1038, 1038, 1038, 1038, 1038, 1038, 1038, 1040, 1040, 1040, 1041, 1041, 1041, 1041, 1042, 1042, 1043, 1043, 1043, 1043, 1043, 1043, 1043, 1043, 1045, 1045, 1045, 1045, 1045, 1045, 1045, 1045, 1045, 1045, 1045, 1045, 1045, 1045, 1045, 1045, 1045, 1045, 1045, 1045, 1048, 1048, 1048, 1048, 1048, 1048, 1048, 1048, 1048, 1049, 1049, 1049, 1049, 1049, 1049, 1049, 1049, 1049, 1049, 1049, 1049, 1049, 1049, 1049, 1052, 1053, 1053, 1053, 1053, 1053, 1053, 1053, 1053, 1053, 1053, 1056, 1056, 1056, 1056, 1056, 1056, 1056, 1056, 1056, 1056, 1056, 1056, 1056, 1056, 1056, 1056, 1056, 1056, 1056, 1056, 1056, 1056, 1056, 1056, 1056, 1056, 1056, 1056, 1056, 1056, 1056, 1056, 1056, 1056, 1056, 1056, 1056, 1056, 1057, 1057, 1058, 1058, 1058, 1058, 1058, 1058, 1058, 1058, 1058, 1058, 1058, 1058, 1058, 1058, 1058, 1058, 1058, 1058, 1058, 1060, 1060, 1060, 1060, 1060, 1060, 1060, 1060, 1060, 1060, 1060, 1060, 1061, 1061, 1061, 1061, 1061, 1061, 1061, 1061, 1061, 1061, 1061, 1061, 1061, 1061, 1061, 1061, 1061, 1061, 1061, 1061, 1061, 1061, 1061, 1061, 1061, 1064, 1064, 1064, 1064, 1064, 1064, 1064, 1064, 1064, 1064, 1064, 1064, 1064, 1064, 1064, 1064, 1064, 1064, 1064, 1064, 1068, 1068, 1068, 1068, 1068, 1068, 1068, 1068, 1068, 1068, 1068, 1068, 1068, 1068, 1068, 1068, 1068, 1068, 1068, 1068, 1068, 1068, 1068, 1068, 1068, 1068, 1068, 1068, 1068, 1068, 1068, 1068, 1068, 1068, 1068, 1068, 1069, 1069, 1069, 1069, 1069, 1069, 1069, 1069, 1069, 1069, 1070, 1070, 1070, 1070, 1070, 1070, 1070, 1070, 1070, 1070, 1070, 1070, 1070, 1070, 1070, 1070, 1070, 1070, 1070, 1070, 1070, 1070, 1072, 1072, 1072, 1073, 1073, 1073, 1073, 1073, 1073, 1074, 1074, 1076, 1076, 1076, 1076, 1076, 1076, 1076, 1076, 1076, 1076, 1076, 1076, 1076, 1076, 1076, 1076, 1076, 1076, 1077, 1077, 1077, 1077, 1077, 1077, 1077, 1077, 1077, 1077, 1079, 1079, 1079, 1079, 1079, 1079, 1081, 1081, 1081, 1081, 1081, 1081, 1081, 1081, 1081, 1081, 1081, 1081, 1081, 1081, 1081, 1081, 1081, 1081, 1081, 1081, 1081, 1086, 1086, 1086, 1086, 1086, 1086, 1086, 1086, 1086, 1086, 1086, 1086, 1086, 1086, 1086, 1086, 1086, 1086, 1086, 1086, 1088, 1088, 1088, 1088, 1088, 1088, 1088, 1088, 1088, 1088, 1088, 1088, 1088, 1088, 1088, 1088, 1088, 1089, 1089, 1092, 1092, 1092, 1092, 1092, 1092, 1094, 1094, 1094, 1094, 1094, 1094, 1094, 1094, 1094, 1094, 1094, 1094, 1094, 1094, 1094, 1094, 1094, 1094, 1094, 1094, 1094, 1094, 1094, 1094, 1094, 1094, 1094, 1094, 1094, 1094, 1094, 1094, 1094, 1094, 1094, 1094, 1094, 1094, 1094, 1094, 1094, 1094, 1094, 1094, 1094, 1094, 1094, 1094, 1094, 1094, 1094, 1094, 1094, 1094, 1094, 1094, 1094, 1100, 1100, 1100, 1100, 1100, 1100, 1100, 1100, 1100, 1100, 1100, 1100, 1100, 1100, 1100, 1100, 1100, 1100, 1100, 1100, 1100, 1100, 1100, 1100, 1100, 1102, 1102, 1102, 1102, 1103, 1103, 1103, 1103, 1103, 1103, 1104, 1104, 1104, 1104, 1104, 1104, 1104, 1104, 1108, 1108, 1108, 1108, 1108, 1108, 1109, 1109, 1109, 1109, 1109, 1109, 1109, 1109, 1109, 1109, 1109, 1109, 1109, 1109, 1109, 1109, 1109, 1109, 1109, 1109, 1109, 1109, 1109, 1109, 1109, 1109, 1109, 1109, 1109, 1109, 1109, 1109, 1109, 1109, 1109, 1109, 1109, 1110, 1111, 1111, 1112, 1114, 1114, 1114, 1114, 1114, 1114, 1114, 1114, 1114, 1114, 1114, 1114, 1114, 1114, 1114, 1114, 1114, 1114, 1114, 1114, 1114, 1114, 1114, 1114, 1115, 1115, 1115, 1115, 1115, 1115, 1115, 1116, 1116, 1116, 1116, 1116, 1116, 1116, 1116, 1116, 1116, 1116, 1116, 1117, 1117, 1117, 1117, 1117, 1117, 1117, 1117, 1117, 1117, 1117, 1117, 1117, 1117, 1117, 1117, 1117, 1117, 1117, 1117, 1117, 1117, 1117, 1117, 1117, 1117, 1118, 1118, 1118, 1118, 1118, 1118, 1118, 1118, 1118, 1118, 1118, 1118, 1118, 1118, 1118, 1118, 1118, 1118, 1118, 1118, 1118, 1118, 1118, 1118, 1118, 1118, 1118, 1118, 1118, 1118, 1118, 1118, 1118, 1118, 1118, 1118, 1118, 1118, 1118, 1118, 1118, 1118, 1118, 1118, 1118, 1118, 1118, 1118, 1118, 1118, 1119, 1119, 1119, 1119, 1119, 1119, 1119, 1119, 1119, 1119, 1119, 1119, 1119, 1119, 1119, 1119, 1119, 1119, 1119, 1119, 1119, 1119, 1119, 1119, 1119, 1119, 1119, 1119, 1119, 1121, 1121, 1122, 1122, 1122, 1122, 1122, 1122, 1123, 1123, 1123, 1123, 1123, 1123, 1123, 1123, 1125, 1125, 1125, 1125, 1125, 1125, 1125, 1125, 1125, 1125, 1125, 1125, 1125, 1125, 1125, 1125, 1125, 1125, 1125, 1129, 1129, 1129, 1129, 1129, 1129, 1131, 1131, 1131, 1131, 1132, 1132, 1132, 1132, 1132, 1132, 1132, 1132, 1132, 1132, 1132, 1132, 1132, 1132, 1132, 1132, 1132, 1132, 1132, 1132, 1132, 1132, 1132, 1132, 1132, 1132, 1132, 1132, 1132, 1132, 1140, 1140, 1141, 1141, 1141, 1141, 1141, 1141, 1141, 1141, 1141, 1141, 1141, 1141, 1141, 1141, 1141, 1141, 1141, 1142, 1142, 1142, 1142, 1142, 1142, 1143, 1143, 1143, 1143, 1143, 1143, 1143, 1143, 1143, 1143, 1143, 1143, 1145, 1146, 1146, 1146, 1146, 1147, 1147, 1147, 1147, 1147, 1148, 1148, 1148, 1148, 1148, 1148, 1149, 1149, 1149, 1149, 1149, 1149, 1149, 1149, 1149, 1149, 1149, 1149, 1151, 1151, 1151, 1151, 1151, 1151, 1151, 1151, 1151, 1151, 1153, 1153, 1153, 1153, 1153, 1153, 1153, 1153, 1154, 1154, 1154, 1154, 1154, 1157, 1157, 1158, 1160, 1160, 1160, 1160, 1160, 1160, 1160, 1160, 1160, 1160, 1160, 1160, 1163, 1163, 1163, 1168, 1168, 1170, 1170, 1170, 1170, 1170, 1170, 1170, 1172, 1172, 1172, 1172, 1172, 1172, 1172, 1173, 1173, 1175, 1178, 1178, 1178, 1178, 1178, 1178, 1178, 1178, 1178, 1178, 1178, 1178, 1178, 1178, 1178, 1178, 1178, 1178, 1178, 1178, 1178, 1178, 1178, 1178, 1179, 1179, 1179, 1179, 1179, 1179, 1179, 1179, 1179, 1179, 1179, 1179, 1179, 1179, 1180, 1180, 1180, 1180, 1180, 1180, 1180, 1180, 1180, 1180, 1180, 1180, 1180, 1180, 1180, 1180, 1180, 1180, 1180, 1180, 1180, 1183, 1183, 1183, 1183, 1183, 1183, 1184, 1184, 1186, 1186, 1186, 1186, 1186, 1186, 1186, 1186, 1186, 1186, 1186, 1186, 1186, 1186, 1186, 1186, 1187, 1187, 1187, 1187, 1187, 1187, 1187, 1187, 1187, 1187, 1187, 1187, 1187, 1187, 1187, 1187, 1188, 1189, 1189, 1189, 1190, 1191, 1191, 1191, 1191, 1191, 1191, 1191, 1191, 1191, 1191, 1191, 1191, 1191, 1191, 1191, 1191, 1191, 1191, 1191, 1191, 1191, 1191, 1191, 1191, 1191, 1192, 1192, 1192, 1192, 1192, 1192, 1192, 1192, 1192, 1192, 1192, 1192, 1193, 1193, 1193, 1195, 1195, 1195, 1195, 1195, 1195, 1195, 1195, 1195, 1196, 1196, 1196, 1196, 1197, 1197, 1197, 1199, 1199, 1199, 1199, 1199, 1199, 1199, 1199, 1199, 1199, 1199, 1199, 1199, 1199, 1199, 1199, 1199, 1199, 1199, 1199, 1199, 1200, 1200, 1200, 1200, 1200, 1200, 1200, 1200, 1200, 1200, 1200, 1200, 1201, 1201, 1202, 1202, 1202, 1202, 1202, 1202, 1202, 1202, 1202, 1202, 1202, 1202, 1202, 1202, 1202, 1202, 1202, 1202, 1202, 1202, 1202, 1202, 1202, 1202, 1202, 1202, 1202, 1202, 1202, 1203, 1203, 1203, 1203, 1203, 1203, 1203, 1203, 1203, 1203, 1204, 1205, 1205, 1205, 1205, 1205, 1205, 1205, 1205, 1205, 1205, 1205, 1205, 1205, 1205, 1205, 1205, 1205, 1205, 1205, 1207, 1207, 1207, 1207, 1208, 1209, 1209, 1209, 1209, 1209, 1209, 1209, 1209, 1209, 1209, 1209, 1209, 1209, 1209, 1209, 1209, 1209, 1209, 1209, 1209, 1209, 1209, 1209, 1209, 1209, 1209, 1209, 1209, 1209, 1209, 1209, 1209, 1209, 1209, 1209, 1210, 1210, 1210, 1211, 1211, 1211, 1211, 1211, 1211, 1211, 1211, 1213, 1214, 1214, 1214, 1214, 1214, 1214, 1214, 1214, 1214, 1214, 1214, 1214, 1214, 1214, 1214, 1214, 1214, 1214, 1214, 1214, 1215, 1215, 1216, 1216, 1216, 1216, 1216, 1216, 1216, 1217, 1217, 1217, 1217, 1217, 1217, 1217, 1217, 1218, 1218, 1218, 1221, 1224, 1224, 1226, 1226, 1226, 1226, 1226, 1226, 1226, 1226, 1226, 1226, 1226, 1226, 1226, 1226, 1226, 1226, 1226, 1226, 1226, 1226, 1226, 1226, 1226, 1226, 1226, 1226, 1226, 1227, 1227, 1227, 1227, 1227, 1227, 1227, 1227, 1227, 1227, 1227, 1227, 1227, 1228, 1228, 1228, 1228, 1228, 1228, 1228, 1230, 1230, 1230, 1230, 1230, 1230, 1230, 1230, 1230, 1230, 1230, 1230, 1231, 1231, 1231, 1234, 1234, 1234, 1234, 1234, 1234, 1234, 1234, 1234, 1234, 1235, 1235, 1235, 1235, 1235, 1235, 1235, 1235, 1235, 1235, 1235, 1235, 1235, 1235, 1235, 1235, 1235, 1235, 1235, 1235, 1235, 1235, 1235, 1235, 1235, 1235, 1235, 1235, 1235, 1235, 1235, 1235, 1235, 1235, 1235, 1235, 1235, 1235, 1235, 1236, 1236, 1236, 1236, 1236, 1236, 1236, 1236, 1236, 1236, 1236, 1236, 1236, 1237, 1237, 1237, 1237, 1237, 1237, 1237, 1237, 1237, 1237, 1238, 1238, 1238, 1238, 1238, 1238, 1238, 1238, 1239, 1239, 1239, 1239, 1239, 1239, 1239, 1239, 1239, 1239, 1239, 1239, 1239, 1239, 1239, 1239, 1239, 1239, 1239, 1241, 1241, 1241, 1241, 1241, 1241, 1241, 1241, 1241, 1241, 1241, 1241, 1241, 1244, 1244, 1244, 1244, 1244, 1244, 1244, 1244, 1244, 1244, 1244, 1244, 1244, 1244, 1244, 1244, 1245, 1245, 1246, 1246, 1246, 1246, 1246, 1246, 1246, 1246, 1246, 1246, 1246, 1246, 1246, 1246, 1246, 1246, 1246, 1248, 1248, 1248, 1248, 1248, 1248, 1248, 1248, 1248, 1249, 1249, 1249, 1249, 1249, 1249, 1249, 1250, 1250, 1250, 1254, 1254, 1255, 1255, 1255, 1255, 1255, 1255, 1255, 1255, 1255, 1255, 1255, 1255, 1255, 1255, 1255, 1255, 1255, 1255, 1255, 1255, 1255, 1256, 1256, 1256, 1257, 1257, 1257, 1257, 1258, 1258, 1258, 1258, 1258, 1258, 1258, 1258, 1258, 1258, 1258, 1258, 1258, 1258, 1258, 1258, 1258, 1258, 1258, 1258, 1258, 1258, 1258, 1258, 1258, 1258, 1258, 1258, 1258, 1258, 1258, 1258, 1258, 1258, 1258, 1258, 1258, 1258, 1258, 1258, 1258, 1258, 1258, 1258, 1258, 1258, 1258, 1258, 1260, 1260, 1261, 1261, 1262, 1262, 1262, 1262, 1262, 1262, 1262, 1262, 1262, 1262, 1262, 1262, 1262, 1262, 1262, 1263, 1263, 1263, 1263, 1263, 1263, 1263, 1263, 1264, 1264, 1267, 1267, 1267, 1267, 1267, 1268, 1270, 1270, 1273, 1273, 1273, 1273, 1273, 1273, 1273, 1273, 1273, 1273, 1273, 1273, 1273, 1273, 1274, 1274, 1274, 1274, 1274, 1274, 1275, 1275, 1275, 1275, 1280, 1280, 1280, 1280, 1282, 1283, 1283, 1283, 1283, 1284, 1284, 1284, 1284, 1284, 1284, 1284, 1284, 1284, 1284, 1286, 1286, 1286, 1290, 1290, 1290, 1292, 1294, 1294, 1294, 1295, 1295, 1295, 1295, 1295, 1295, 1295, 1295, 1295, 1295, 1295, 1295, 1295, 1295, 1295, 1295, 1295, 1295, 1297, 1298, 1298, 1298, 1298, 1298, 1300, 1300, 1300, 1300, 1300, 1300, 1300, 1300, 1300, 1300, 1300, 1300, 1300, 1300, 1300, 1300, 1300, 1300, 1300, 1300, 1300, 1300, 1301, 1301, 1301, 1302, 1302, 1302, 1302, 1302, 1302, 1302, 1302, 1302, 1304, 1304, 1305, 1305, 1305, 1305, 1305, 1305, 1305, 1305, 1305, 1305, 1305, 1305, 1305, 1305, 1305, 1305, 1305, 1305, 1305, 1305, 1305, 1305, 1305, 1305, 1305, 1305, 1310, 1312, 1312, 1312, 1312, 1312, 1312, 1312, 1312, 1312, 1312, 1312, 1312, 1312, 1312, 1312, 1312, 1312, 1312, 1312, 1312, 1312, 1312, 1312, 1312, 1312, 1312, 1312, 1312, 1312, 1312, 1312, 1312, 1315, 1315, 1315, 1315, 1315, 1315, 1315, 1315, 1315, 1315, 1315, 1315, 1315, 1315, 1315, 1315, 1315, 1315, 1315, 1315, 1315, 1315, 1318, 1318, 1318, 1318, 1319, 1319, 1319, 1320, 1320, 1321, 1321, 1321, 1321, 1321, 1321, 1321, 1321, 1321, 1321, 1321, 1321, 1321, 1321, 1321, 1321, 1321, 1321, 1321, 1321, 1321, 1321, 1321, 1321, 1325, 1325, 1325, 1325, 1325, 1325, 1325, 1325, 1325, 1325, 1325, 1325, 1325, 1325, 1325, 1325, 1325, 1325, 1325, 1325, 1325, 1325, 1325, 1325, 1325, 1325, 1325, 1326, 1329, 1330, 1330, 1330, 1330, 1330, 1330, 1330, 1330, 1330, 1330, 1330, 1330, 1330, 1330, 1330, 1330, 1335, 1335, 1335, 1335, 1335, 1335, 1335, 1335, 1335, 1335, 1335, 1335, 1336, 1337, 1338, 1338, 1338, 1338, 1338, 1338, 1338, 1338, 1338, 1338, 1338, 1338, 1338, 1338, 1338, 1338, 1338, 1338, 1338, 1338, 1338, 1338, 1338, 1338, 1338, 1338, 1340, 1340, 1340, 1340, 1340, 1340, 1340, 1343, 1343, 1343, 1343, 1343, 1343, 1343, 1343, 1343, 1343, 1343, 1343, 1343, 1343, 1343, 1343, 1343, 1343, 1343, 1343, 1343, 1343, 1343, 1343, 1343, 1343, 1343, 1343, 1343, 1343, 1343, 1343, 1343, 1343, 1343, 1343, 1343, 1343, 1343, 1343, 1343, 1343, 1343, 1343, 1343, 1343, 1343, 1343, 1343, 1343, 1343, 1343, 1343, 1343, 1343, 1343, 1343, 1343, 1343, 1343, 1343, 1344, 1344, 1345, 1345, 1346, 1346, 1346, 1346, 1346, 1346, 1346, 1346, 1346, 1346, 1346, 1346, 1346, 1346, 1346, 1346, 1347, 1347, 1347, 1347, 1347, 1347, 1347, 1347, 1347, 1347, 1347, 1347, 1348, 1348, 1348, 1348, 1348, 1348, 1348, 1348, 1348, 1348, 1349, 1350, 1350, 1350, 1352, 1352, 1352, 1352, 1352, 1352, 1352, 1354, 1354, 1354, 1354, 1354, 1354, 1354, 1354, 1354, 1354, 1354, 1354, 1354, 1355, 1355, 1355, 1357, 1357, 1357, 1357, 1357, 1357, 1357, 1357, 1357, 1357, 1357, 1357, 1358, 1358, 1358, 1358, 1359, 1359, 1360, 1362, 1362, 1362, 1362, 1362, 1365, 1365, 1365, 1365, 1365, 1365, 1365, 1365, 1365, 1365, 1365, 1365, 1365, 1365, 1365, 1365, 1365, 1365, 1365, 1365, 1365, 1365, 1365, 1365, 1365, 1365, 1365, 1365, 1365, 1365, 1365, 1365, 1365, 1366, 1367, 1367, 1367, 1368, 1368, 1368, 1368, 1369, 1369, 1369, 1369, 1369, 1369, 1369, 1369, 1369, 1371, 1375, 1375, 1375, 1375, 1375, 1375, 1375, 1375, 1375, 1375, 1375, 1375, 1375, 1375, 1375, 1375, 1375, 1375, 1375, 1375, 1375, 1375, 1375, 1375, 1375, 1375, 1375, 1375, 1375, 1376, 1376, 1376, 1376, 1376, 1376, 1376, 1376, 1376, 1376, 1376, 1376, 1376, 1376, 1376, 1376, 1376, 1376, 1377, 1377, 1377, 1377, 1378, 1378, 1378, 1378, 1378, 1378, 1378, 1378, 1378, 1378, 1378, 1378, 1378, 1378, 1378, 1378, 1378, 1378, 1378, 1378, 1378, 1378, 1378, 1378, 1378, 1378, 1378, 1378, 1378, 1378, 1378, 1378, 1378, 1378, 1378, 1378, 1378, 1378, 1379, 1379, 1379, 1379, 1379, 1379, 1379, 1379, 1379, 1379, 1379, 1379, 1379, 1379, 1379, 1379, 1379, 1380, 1380, 1380, 1380, 1380, 1380, 1380, 1380, 1380, 1380, 1380, 1380, 1380, 1381, 1381, 1382, 1382, 1382, 1382, 1383, 1383, 1383, 1383, 1383, 1383, 1383, 1383, 1383, 1384, 1384, 1384, 1385, 1385, 1385, 1385, 1385, 1385, 1385, 1387, 1387, 1388, 1388, 1388, 1388, 1388, 1388, 1389, 1390, 1390, 1391, 1391, 1391, 1391, 1391, 1391, 1391, 1391, 1392, 1392, 1392, 1392, 1392, 1392, 1392, 1392, 1392, 1392, 1392, 1392, 1392, 1392, 1393, 1396, 1396, 1396, 1396, 1396, 1396, 1396, 1396, 1397, 1397, 1397, 1397, 1397, 1397, 1397, 1397, 1397, 1397, 1397, 1397, 1397, 1397, 1397, 1397, 1397, 1397, 1397, 1397, 1397, 1397, 1397, 1397, 1397, 1397, 1397, 1397, 1397, 1397, 1397, 1397, 1400, 1400, 1400, 1400, 1400, 1400, 1400, 1400, 1400, 1400, 1400, 1401, 1401, 1401, 1401, 1401, 1401, 1402, 1402, 1402, 1403, 1403, 1403, 1403, 1403, 1403, 1403, 1403, 1403, 1403, 1404, 1404, 1404, 1404, 1404, 1404, 1404, 1404, 1404, 1404, 1404, 1404, 1404, 1404, 1404, 1404, 1404, 1404, 1404, 1404, 1404, 1404, 1404, 1405, 1405, 1405, 1405, 1405, 1405, 1405, 1405, 1405, 1405, 1405, 1405, 1405, 1405, 1405, 1405, 1405, 1405, 1405, 1405, 1405, 1405, 1405, 1405, 1405, 1405, 1405, 1405, 1405, 1405, 1405, 1405, 1408, 1411, 1411, 1411, 1411, 1411, 1411, 1411, 1411, 1411, 1411, 1411, 1411, 1411, 1411, 1411, 1411, 1411, 1411, 1411, 1411, 1411, 1411, 1411, 1411, 1411, 1411, 1411, 1411, 1411, 1411, 1411, 1411, 1411, 1411, 1411, 1411, 1411, 1411, 1411, 1411, 1411, 1411, 1411, 1411, 1411, 1411, 1411, 1411, 1411, 1411, 1412, 1412, 1413, 1413, 1413, 1413, 1413, 1413, 1413, 1415, 1415, 1415, 1415, 1415, 1415, 1415, 1415, 1415, 1421, 1421, 1421, 1421, 1421, 1421, 1421, 1421, 1421, 1421, 1421, 1421, 1421, 1421, 1421, 1422, 1422, 1422, 1422, 1424, 1425, 1425, 1426, 1429, 1429, 1429, 1429, 1432, 1432, 1432, 1432, 1432, 1432, 1432, 1432, 1433, 1433, 1433, 1433, 1433, 1434, 1434, 1434, 1434, 1434, 1434, 1436, 1436, 1436, 1436, 1436, 1436, 1436, 1438, 1438, 1438, 1438, 1438, 1438, 1438, 1438, 1438, 1438, 1438, 1438, 1438, 1438, 1438, 1438, 1438, 1438, 1438, 1438, 1438, 1438, 1438, 1438, 1438, 1440, 1440, 1440, 1440, 1440, 1440, 1440, 1440, 1440, 1440, 1440, 1440, 1440, 1440, 1440, 1440, 1440, 1440, 1440, 1440, 1440, 1440, 1440, 1440, 1440, 1440, 1440, 1440, 1440, 1444, 1444, 1444, 1444, 1444, 1444, 1444, 1444, 1444, 1444, 1444, 1444, 1444, 1444, 1444, 1444, 1444, 1444, 1444, 1444, 1444, 1444, 1444, 1444, 1444, 1444, 1444, 1445, 1445, 1445, 1447, 1448, 1448, 1448, 1448, 1448, 1448, 1448, 1448, 1448, 1448, 1448, 1448, 1448, 1448, 1448, 1448, 1448, 1448, 1448, 1448, 1448, 1448, 1448, 1448, 1448, 1448, 1448, 1448, 1448, 1448, 1448, 1448, 1449, 1449, 1449, 1449, 1449, 1449, 1449, 1449, 1450, 1450, 1450, 1450, 1450, 1450, 1450, 1452, 1452, 1456, 1456, 1456, 1456, 1456, 1456, 1456, 1456, 1456, 1456, 1456, 1456, 1456, 1456, 1457, 1457, 1457, 1457, 1458, 1458, 1458, 1458, 1458, 1458, 1458, 1458, 1458, 1459, 1459, 1459, 1462, 1462, 1462, 1462, 1462, 1462, 1462, 1462, 1462, 1462, 1462, 1462, 1462, 1462, 1462, 1462, 1462, 1462, 1462, 1462, 1462, 1462, 1462, 1462, 1462, 1462, 1462, 1462, 1462, 1462, 1462, 1462, 1462, 1462, 1462, 1462, 1462, 1462, 1462, 1462, 1462, 1462, 1462, 1462, 1462, 1462, 1462, 1462, 1462, 1462, 1462, 1462, 1462, 1462, 1462, 1462, 1462, 1462, 1462, 1462, 1462, 1462, 1462, 1462, 1462, 1462, 1462, 1462, 1462, 1462, 1462, 1463, 1463, 1463, 1463, 1463, 1463, 1464, 1464, 1464, 1464, 1464, 1464, 1464, 1464, 1464, 1464, 1465, 1465, 1465, 1465, 1465, 1465, 1465, 1465, 1465, 1465, 1465, 1465, 1465, 1465, 1465, 1465, 1465, 1465, 1465, 1465, 1465, 1466, 1466, 1466, 1466, 1466, 1466, 1466, 1466, 1466, 1466, 1466, 1466, 1466, 1466, 1466, 1466, 1467, 1467, 1467, 1467, 1467, 1467, 1467, 1469, 1469, 1469, 1469, 1469, 1469, 1469, 1469, 1469, 1469, 1469, 1469, 1469, 1469, 1469, 1469, 1469, 1470, 1470, 1470, 1470, 1470, 1470, 1470, 1471, 1471, 1471, 1471, 1471, 1471, 1471, 1471, 1473, 1473, 1473, 1473, 1473, 1473, 1473, 1473, 1473, 1473, 1473, 1473, 1473, 1475, 1477, 1477, 1477, 1477, 1477, 1477, 1477, 1477, 1477, 1477, 1477, 1477, 1477, 1477, 1477, 1477, 1477, 1477, 1477, 1477, 1477, 1477, 1478, 1478, 1478, 1478, 1478, 1478, 1478, 1478, 1478, 1479, 1479, 1479, 1479, 1480, 1480, 1480, 1480, 1480, 1480, 1480, 1480, 1480, 1480, 1480, 1480, 1480, 1480, 1480, 1480, 1480, 1480, 1480, 1480, 1480, 1480, 1480, 1480, 1480, 1480, 1480, 1480, 1480, 1480, 1480, 1480, 1480, 1480, 1480, 1480, 1480, 1480, 1480, 1480, 1480, 1480, 1480, 1480, 1480, 1481, 1481, 1481, 1481, 1481, 1481, 1481, 1482, 1482, 1482, 1482, 1482, 1482, 1482, 1482, 1482, 1482, 1482, 1482, 1482, 1482, 1482, 1482, 1482, 1483, 1483, 1483, 1483, 1483, 1483, 1483, 1483, 1483, 1483, 1483, 1483, 1483, 1483, 1483, 1483, 1483, 1483, 1483, 1483, 1483, 1484, 1484, 1484, 1484, 1484, 1484, 1484, 1484, 1484, 1484, 1484, 1487, 1489, 1489, 1489, 1492, 1492, 1492, 1492, 1492, 1492, 1492, 1492, 1492, 1493, 1495, 1495, 1495, 1495, 1495, 1495, 1495, 1495, 1495, 1495, 1495, 1495, 1495, 1495, 1495, 1495, 1495, 1495, 1495, 1495, 1495, 1495, 1495, 1495, 1495, 1495, 1495, 1496, 1496, 1496, 1496, 1496, 1496, 1496, 1496, 1496, 1496, 1496, 1496, 1496, 1496, 1496, 1496, 1496, 1496, 1496, 1496, 1496, 1496, 1496, 1496, 1496, 1496, 1496, 1499, 1499, 1500, 1500, 1500, 1500, 1500, 1500, 1500, 1500, 1505, 1505, 1506, 1506, 1506, 1506, 1506, 1506, 1506, 1506, 1506, 1506, 1506, 1506, 1506, 1506, 1506, 1506, 1506, 1506, 1506, 1506, 1506, 1506, 1506, 1507, 1507, 1507, 1507, 1507, 1507, 1511, 1511, 1511, 1511, 1511, 1511, 1511, 1511, 1511, 1511, 1511, 1511, 1511, 1511, 1511, 1511, 1511, 1511, 1511, 1511, 1511, 1511, 1511, 1511, 1511, 1511, 1511, 1511, 1511, 1511, 1511, 1511, 1511, 1511, 1511, 1511, 1511, 1511, 1511, 1511, 1511, 1511, 1511, 1511, 1511, 1511, 1511, 1511, 1513, 1513, 1513, 1513, 1513, 1513, 1513, 1513, 1513, 1513, 1516, 1516, 1516, 1516, 1516, 1516, 1516, 1516, 1517, 1517, 1517, 1518, 1518, 1518, 1518, 1518, 1518, 1518, 1518, 1518, 1518, 1518, 1518, 1518, 1518, 1519, 1519, 1519, 1519, 1520, 1521, 1521, 1521, 1521, 1521, 1521, 1521, 1521, 1521, 1521, 1521, 1521, 1522, 1522, 1522, 1522, 1522, 1522, 1522, 1522, 1522, 1522, 1522, 1522, 1522, 1522, 1522, 1522, 1522, 1526, 1526, 1526, 1526, 1526, 1526, 1527, 1527, 1527, 1527, 1528, 1528, 1528, 1528, 1528, 1528, 1528, 1528, 1528, 1528, 1528, 1529, 1529, 1529, 1529, 1529, 1529, 1529, 1529, 1529, 1529, 1529, 1529, 1529, 1529, 1529, 1529, 1529, 1529, 1529, 1529, 1529, 1529, 1529, 1529, 1529, 1529, 1529, 1529, 1529, 1529, 1529, 1529, 1529, 1529, 1532, 1532, 1532, 1532, 1532, 1532, 1532, 1532, 1532, 1532, 1532, 1532, 1532, 1532, 1532, 1532, 1532, 1532, 1533, 1536, 1537, 1539, 1539, 1539, 1539, 1539, 1539, 1539, 1539, 1539, 1539, 1540, 1540, 1540, 1540, 1540, 1540, 1540, 1540, 1540, 1540, 1540, 1540, 1540, 1540, 1540, 1541, 1541, 1541, 1541, 1541, 1542, 1542, 1542, 1542, 1542, 1542, 1542, 1542, 1542, 1542, 1542, 1542, 1542, 1542, 1542, 1542, 1543, 1544, 1544, 1544, 1544, 1544, 1544, 1544, 1544, 1544, 1544, 1544, 1544, 1544, 1544, 1544, 1544, 1544, 1544, 1544, 1544, 1544, 1544, 1544, 1544, 1544, 1544, 1545, 1545, 1545, 1545, 1545, 1545, 1545, 1545, 1545, 1545, 1545, 1545, 1546, 1546, 1546, 1546, 1546, 1546, 1546, 1546, 1546, 1546, 1546, 1546, 1546, 1546, 1546, 1546, 1546, 1546, 1546, 1546, 1549, 1549, 1549, 1549, 1549, 1549, 1549, 1549, 1549, 1549, 1549, 1549, 1549, 1552, 1552, 1552, 1552, 1552, 1552, 1552, 1552, 1553, 1553, 1553, 1553, 1553, 1553, 1553, 1553, 1553, 1553, 1553, 1554, 1554, 1554, 1554, 1554, 1554, 1554, 1554, 1554, 1554, 1554, 1554, 1554, 1554, 1554, 1554, 1554, 1555, 1555, 1555, 1555, 1555, 1555, 1556, 1556, 1556, 1556, 1557, 1557, 1557, 1557, 1557, 1557, 1557, 1557, 1557, 1557, 1558, 1558, 1558, 1558, 1560, 1560, 1560, 1560, 1563, 1565, 1565, 1565, 1565, 1565, 1565, 1565, 1565, 1565, 1565, 1565, 1565, 1565, 1565, 1565, 1565, 1565, 1565, 1565, 1565, 1565, 1565, 1565, 1565, 1565, 1565, 1565, 1565, 1565, 1565, 1565, 1565, 1565, 1565, 1566, 1568, 1568, 1568, 1568, 1568, 1568, 1568, 1568, 1568, 1568, 1568, 1568, 1568, 1568, 1568, 1568, 1568, 1568, 1568, 1568, 1570, 1570, 1570, 1570, 1570, 1570, 1570, 1570, 1573, 1573, 1573, 1573, 1573, 1573, 1573, 1573, 1573, 1573, 1573, 1573, 1573, 1575, 1575, 1575, 1575, 1575, 1575, 1575, 1575, 1575, 1575, 1575, 1575, 1575, 1575, 1575, 1575, 1575, 1575, 1577, 1577, 1577, 1577, 1578, 1581, 1584, 1584, 1584, 1584, 1584, 1584, 1584, 1584, 1584, 1584, 1584, 1586, 1586, 1586, 1586, 1586, 1589, 1589, 1589, 1589, 1591, 1591, 1591, 1591, 1591, 1591, 1591, 1591, 1591, 1591, 1591, 1591, 1591, 1591, 1591, 1591, 1591, 1591, 1591, 1591, 1591, 1591, 1591, 1591, 1591, 1591, 1595, 1595, 1595, 1595, 1595, 1595, 1595, 1595, 1595, 1595, 1595, 1595, 1595, 1595, 1595, 1595, 1595, 1595, 1595, 1595, 1595, 1595, 1595, 1595, 1595, 1595, 1595, 1595, 1595, 1595, 1595, 1595, 1595, 1595, 1595, 1595, 1595, 1595, 1595, 1595, 1595, 1595, 1595, 1595, 1595, 1595, 1595, 1595, 1595, 1595, 1595, 1595, 1597, 1597, 1597, 1597, 1597, 1597, 1597, 1597, 1598, 1598, 1598, 1598, 1598, 1598, 1598, 1598, 1598, 1598, 1598, 1598, 1598, 1598, 1598, 1598, 1598, 1598, 1599, 1599, 1599, 1599, 1599, 1599, 1599, 1599, 1599, 1599, 1599, 1599, 1599, 1599, 1599, 1599, 1602, 1602, 1602, 1602, 1602, 1602, 1602, 1602, 1602, 1602, 1602, 1603, 1605, 1605, 1605, 1605, 1605, 1605, 1606, 1606, 1606, 1606, 1606, 1606, 1606, 1606, 1606, 1606, 1606, 1606, 1606, 1606, 1606, 1606, 1606, 1606, 1606, 1606, 1606, 1606, 1606, 1606, 1606, 1606, 1606, 1606, 1606, 1606, 1606, 1606, 1606, 1606, 1606, 1606, 1606, 1606, 1606, 1606, 1606, 1607, 1607, 1607, 1607, 1607, 1607, 1607, 1607, 1607, 1607, 1607, 1607, 1607, 1607, 1607, 1607, 1607, 1607, 1607, 1607, 1607, 1607, 1607, 1607, 1607, 1607, 1607, 1607, 1607, 1607, 1607, 1607, 1607, 1607, 1607, 1607, 1607, 1607, 1607, 1607, 1607, 1607, 1607, 1607, 1608, 1609, 1609, 1609, 1611, 1611, 1611, 1611, 1611, 1611, 1611, 1611, 1611, 1611, 1611, 1611, 1612, 1612, 1612, 1612, 1612, 1612, 1612, 1612, 1612, 1612, 1612, 1612, 1613, 1613, 1613, 1613, 1613, 1613, 1613, 1613, 1613, 1613, 1613, 1613, 1613, 1613, 1613, 1616, 1616, 1616, 1616, 1616, 1616, 1616, 1616, 1616, 1616, 1616, 1617, 1617, 1617, 1617, 1617, 1617, 1617, 1617, 1617, 1617, 1617, 1617, 1617, 1617, 1617, 1617, 1617, 1617, 1617, 1617, 1617, 1617, 1617, 1617, 1621, 1621, 1622, 1622, 1622, 1622, 1622, 1622, 1623, 1623, 1623, 1623, 1623, 1623, 1623, 1623, 1623, 1623, 1623, 1623, 1623, 1623, 1623, 1623, 1623, 1623, 1623, 1623, 1623, 1623, 1623, 1623, 1624, 1624, 1624, 1625, 1625, 1625, 1625, 1625, 1625, 1625, 1626, 1626, 1626, 1626, 1627, 1628, 1628, 1628, 1628, 1630, 1630, 1630, 1630, 1631, 1632, 1632, 1632, 1632, 1632, 1632, 1632, 1632, 1632, 1632, 1632, 1632, 1632, 1632, 1632, 1632, 1632, 1632, 1632, 1632, 1632, 1632, 1632, 1632, 1632, 1632, 1632, 1632, 1632, 1632, 1632, 1632, 1632, 1632, 1632, 1632, 1632, 1632, 1632, 1632, 1633, 1633, 1633, 1633, 1633, 1633, 1633, 1633, 1633, 1633, 1633, 1633, 1633, 1633, 1633, 1633, 1633, 1633, 1633, 1633, 1633, 1633, 1633, 1633, 1633, 1633, 1633, 1633, 1633, 1633, 1633, 1633, 1633, 1633, 1633, 1633, 1633, 1633, 1634, 1635, 1635, 1635, 1635, 1635, 1635, 1635, 1635, 1636, 1636, 1637, 1637, 1637, 1637, 1637, 1637, 1637, 1637, 1637, 1639, 1639, 1639, 1639, 1639, 1639, 1639, 1639, 1639, 1640, 1640, 1640, 1640, 1641, 1641, 1641, 1641, 1641, 1641, 1642, 1643, 1644, 1644, 1644, 1645, 1645, 1646, 1646, 1646, 1646, 1646, 1646, 1646, 1646, 1646, 1646, 1646, 1646, 1646, 1646, 1646, 1646, 1646, 1646, 1646, 1646, 1646, 1646, 1647, 1647, 1647, 1647, 1647, 1647, 1647, 1647, 1647, 1647, 1647, 1647, 1648, 1650, 1650, 1650, 1651, 1651, 1651, 1651, 1651, 1651, 1651, 1651, 1651, 1651, 1651, 1651, 1651, 1653, 1654, 1654, 1654, 1654, 1655, 1655, 1655, 1656, 1656, 1656, 1656, 1656, 1656, 1656, 1656, 1657, 1657, 1657, 1657, 1657, 1657, 1657, 1657, 1657, 1657, 1657, 1657, 1657, 1658, 1659, 1659, 1659, 1659, 1659, 1663, 1666, 1666, 1666, 1666, 1667, 1667, 1667, 1668, 1668, 1668, 1668, 1668, 1668, 1668, 1668, 1668, 1668, 1668, 1668, 1668, 1668, 1668, 1668, 1668, 1668, 1668, 1668, 1668, 1668, 1669, 1669, 1669, 1669, 1669, 1669, 1669, 1669, 1669, 1669, 1669, 1669, 1669, 1669, 1669, 1669, 1669, 1669, 1669, 1669, 1669, 1669, 1669, 1669, 1669, 1669, 1669, 1669, 1669, 1669, 1669, 1669, 1669, 1669, 1669, 1669, 1669, 1669, 1669, 1669, 1669, 1669, 1669, 1669, 1669, 1669, 1669, 1669, 1669, 1669, 1669, 1669, 1669, 1669, 1669, 1669, 1669, 1670, 1670, 1670, 1670, 1670, 1670, 1670, 1670, 1670, 1670, 1670, 1670, 1670, 1670, 1670, 1670, 1670, 1670, 1675, 1675, 1675, 1675, 1676, 1676, 1676, 1676, 1676, 1676, 1676, 1676, 1677, 1677, 1677, 1677, 1677, 1677, 1677, 1677, 1677, 1677, 1678, 1678, 1678, 1678, 1678, 1678, 1678, 1678, 1678, 1678, 1678, 1678, 1678, 1678, 1678, 1678, 1678, 1678, 1678, 1678, 1678, 1678, 1681, 1681, 1681, 1681, 1681, 1681, 1681, 1681, 1681, 1681, 1681, 1681, 1681, 1681, 1681, 1681, 1681, 1681, 1681, 1681, 1681, 1682, 1682, 1682, 1682, 1682, 1682, 1683, 1685, 1685, 1685, 1685, 1685, 1685, 1685, 1685, 1685, 1685, 1685, 1685, 1685, 1685, 1685, 1685, 1685, 1685, 1685, 1685, 1685, 1685, 1685, 1685, 1685, 1685, 1685, 1685, 1685, 1685, 1685, 1686, 1686, 1686, 1686, 1686, 1686, 1686, 1686, 1686, 1691, 1691, 1691, 1691, 1691, 1691, 1692, 1692, 1692, 1692, 1694, 1694, 1694, 1694, 1694, 1694, 1694, 1694, 1694, 1694, 1694, 1694, 1695, 1695, 1695, 1695, 1695, 1695, 1695, 1696, 1696, 1696, 1696, 1696, 1696, 1696, 1696, 1696, 1696, 1696, 1696, 1696, 1696, 1696, 1696, 1696, 1696, 1696, 1696, 1696, 1696, 1696, 1696, 1696, 1696, 1696, 1696, 1696, 1696, 1696, 1696, 1696, 1696, 1696, 1696, 1696, 1696, 1696, 1696, 1696, 1696, 1696, 1696, 1696, 1696, 1696, 1696, 1696, 1696, 1696, 1696, 1696, 1696, 1696, 1696, 1698, 1698, 1698, 1698, 1700, 1700, 1700, 1700, 1700, 1700, 1700, 1700, 1700, 1700, 1700, 1700, 1700, 1701, 1701, 1701, 1701, 1702, 1702, 1702, 1702, 1702, 1702, 1702, 1702, 1702, 1702, 1702, 1702, 1702, 1702, 1702, 1702, 1702, 1702, 1702, 1702, 1702, 1702, 1702, 1702, 1702, 1702, 1702, 1704, 1704, 1704, 1705, 1705, 1705, 1705, 1705, 1705, 1705, 1705, 1705, 1705, 1705, 1705, 1705, 1705, 1705, 1705, 1705, 1705, 1705, 1705, 1705, 1705, 1705, 1705, 1705, 1705, 1705, 1705, 1705, 1705, 1705, 1705, 1705, 1705, 1705, 1705, 1705, 1705, 1705, 1705, 1705, 1705, 1705, 1705, 1705, 1705, 1705, 1705, 1705, 1705, 1705, 1705, 1705, 1706, 1706, 1706, 1706, 1706, 1706, 1707, 1707, 1707, 1707, 1707, 1712, 1712, 1712, 1712, 1712, 1712, 1712, 1712, 1712, 1713, 1713, 1713, 1713, 1713, 1713, 1713, 1713, 1713, 1713, 1713, 1713, 1713, 1713, 1713, 1713, 1713, 1715, 1715, 1717, 1718, 1718, 1719, 1719, 1719, 1719, 1719, 1719, 1719, 1719, 1719, 1719, 1719, 1719, 1719, 1721, 1721, 1723, 1723, 1723, 1723, 1723, 1723, 1723, 1723, 1723, 1723, 1724, 1725, 1727, 1727, 1727, 1727, 1727, 1727, 1727, 1727, 1727, 1727, 1727, 1727, 1727, 1727, 1729, 1730, 1730, 1730, 1730, 1730, 1730, 1730, 1730, 1731, 1731, 1731, 1731, 1731, 1731, 1731, 1731, 1731, 1731, 1731, 1731, 1731, 1731, 1731, 1732, 1732, 1732, 1732, 1732, 1735, 1735, 1735, 1735, 1735, 1735, 1735, 1735, 1735, 1735, 1735, 1735, 1735, 1735, 1735, 1735, 1735, 1737, 1737, 1737, 1738, 1738, 1738, 1738, 1739, 1739, 1739, 1739, 1739, 1739, 1739, 1739, 1739, 1739, 1739, 1739, 1739, 1739, 1739, 1739, 1739, 1739, 1739, 1739, 1739, 1739, 1739, 1739, 1739, 1739, 1739, 1739, 1739, 1739, 1739, 1739, 1739, 1739, 1739, 1739, 1739, 1739, 1739, 1739, 1740, 1740, 1740, 1740, 1742, 1742, 1743, 1743, 1743, 1743, 1745, 1745, 1745, 1745, 1745, 1745, 1745, 1745, 1745, 1745, 1745, 1745, 1745, 1745, 1746, 1746, 1746, 1746, 1746, 1746, 1747, 1749, 1749, 1749, 1749, 1749, 1749, 1752, 1752, 1752, 1752, 1752, 1752, 1752, 1752, 1753, 1753, 1753, 1753, 1753, 1753, 1753, 1753, 1753, 1753, 1753, 1753, 1753, 1753, 1753, 1753, 1753, 1753, 1753, 1753, 1753, 1753, 1753, 1753, 1753, 1755, 1759, 1759, 1759, 1759, 1759, 1759, 1759, 1759, 1759, 1760, 1760, 1761, 1761, 1762, 1762, 1763, 1763, 1763, 1763, 1763, 1763, 1763, 1763, 1763, 1763, 1763, 1763, 1763, 1763, 1763, 1763, 1763, 1763, 1763, 1763, 1763, 1763, 1763, 1763, 1767, 1767, 1767, 1769, 1769, 1769, 1769, 1769, 1769, 1769, 1769, 1769, 1770, 1770, 1770, 1770, 1770, 1770, 1770, 1770, 1770, 1770, 1771, 1771, 1771, 1771, 1771, 1771, 1771, 1771, 1771, 1771, 1771, 1771, 1771, 1771, 1771, 1771, 1771, 1771, 1772, 1772, 1772, 1772, 1772, 1772, 1772, 1772, 1772, 1772, 1772, 1772, 1772, 1772, 1772, 1772, 1773, 1773, 1773, 1773, 1773, 1773, 1773, 1773, 1773, 1774, 1774, 1774, 1776, 1776, 1776, 1776, 1776, 1776, 1776, 1776, 1776, 1776, 1776, 1776, 1776, 1776, 1776, 1776, 1776, 1776, 1776, 1776, 1776, 1777, 1777, 1777, 1777, 1777, 1777, 1777, 1777, 1777, 1777, 1777, 1779, 1779, 1779, 1779, 1779, 1779, 1779, 1779, 1779, 1780, 1780, 1780, 1780, 1780, 1780, 1782, 1782, 1782, 1782, 1782, 1782, 1783, 1783, 1783, 1783, 1783, 1783, 1783, 1783, 1784, 1784, 1784, 1785, 1785, 1785, 1785, 1785, 1787, 1787, 1787, 1787, 1787, 1787, 1787, 1787, 1787, 1787, 1787, 1787, 1787, 1787, 1787, 1791, 1791, 1791, 1791, 1791, 1792, 1792, 1793, 1793, 1794, 1795, 1795, 1795, 1796, 1796, 1796, 1796, 1796, 1797, 1797, 1797, 1798, 1798, 1798, 1798, 1798, 1798, 1800, 1800, 1800, 1800, 1800, 1800, 1800, 1800, 1802, 1802, 1802, 1802, 1802, 1802, 1802, 1802, 1802, 1802, 1802, 1802, 1802, 1802, 1802, 1802, 1802, 1802, 1802, 1802, 1802, 1802, 1802, 1802, 1802, 1803, 1803, 1803, 1803, 1803, 1803, 1803, 1803, 1806, 1807, 1807, 1807, 1807, 1807, 1807, 1807, 1807, 1807, 1807, 1807, 1807, 1807, 1807, 1807, 1807, 1807, 1807, 1807, 1807, 1807, 1807, 1807, 1809, 1809, 1809, 1809, 1809, 1809, 1809, 1809, 1809, 1809, 1809, 1809, 1809, 1809, 1809, 1809, 1809, 1809, 1809, 1809, 1811, 1811, 1812, 1812, 1812, 1812, 1813, 1813, 1813, 1813, 1813, 1813, 1813, 1813, 1813, 1813, 1813, 1813, 1813, 1813, 1813, 1813, 1813, 1813, 1813, 1813, 1813, 1813, 1813, 1813, 1813, 1813, 1813, 1813, 1813, 1813, 1813, 1813, 1813, 1813, 1813, 1813, 1813, 1813, 1813, 1813, 1813, 1813, 1813, 1813, 1813, 1813, 1813, 1813, 1813, 1813, 1815, 1815, 1815, 1815, 1815, 1815, 1815, 1815, 1815, 1815, 1815, 1815, 1817, 1817, 1817, 1817, 1817, 1817, 1819, 1819, 1819, 1819, 1819, 1819, 1819, 1819, 1819, 1819, 1819, 1819, 1819, 1819, 1819, 1819, 1819, 1819, 1819, 1819, 1819, 1819, 1819, 1819, 1819, 1819, 1819, 1819, 1819, 1819, 1819, 1819, 1819, 1819, 1819, 1819, 1819, 1819, 1819, 1819, 1819, 1819, 1819, 1819, 1819, 1819, 1819, 1819, 1819, 1819, 1819, 1819, 1819, 1819, 1819, 1820, 1821, 1821, 1822, 1822, 1822, 1822, 1822, 1822, 1823, 1824, 1824, 1824, 1824, 1824, 1824, 1825, 1825, 1825, 1825, 1825, 1825, 1825, 1825, 1825, 1825, 1825, 1825, 1825, 1825, 1825, 1825, 1825, 1825, 1825, 1825, 1825, 1825, 1825, 1825, 1825, 1825, 1825, 1825, 1825, 1825, 1825, 1825, 1825, 1825, 1825, 1825, 1825, 1826, 1826, 1826, 1826, 1826, 1826, 1826, 1826, 1826, 1827, 1829, 1829, 1829, 1829, 1832, 1832, 1832, 1832, 1832, 1832, 1832, 1832, 1832, 1832, 1832, 1832, 1832, 1832, 1835, 1835, 1835, 1835, 1835, 1835, 1835, 1835, 1835, 1835, 1835, 1835, 1835, 1835, 1835, 1835, 1835, 1835, 1835, 1835, 1835, 1835, 1835, 1835, 1835, 1835, 1835, 1835, 1835, 1835, 1835, 1835, 1835, 1835, 1835, 1835, 1837, 1837, 1837, 1837, 1837, 1837, 1837, 1837, 1837, 1837, 1837, 1837, 1838, 1838, 1838, 1838, 1838, 1838, 1838, 1838, 1838, 1838, 1838, 1838, 1838, 1838, 1838, 1838, 1838, 1838, 1838, 1838, 1838, 1838, 1838, 1838, 1838, 1838, 1838, 1838, 1838, 1838, 1838, 1838, 1838, 1838, 1838, 1838, 1838, 1838, 1838, 1838, 1838, 1838, 1838, 1838, 1838, 1838, 1838, 1838, 1838, 1838, 1838, 1838, 1838, 1838, 1838, 1838, 1838, 1838, 1838, 1838, 1838, 1841, 1841, 1841, 1841, 1841, 1841, 1841, 1841, 1841, 1841, 1841, 1842, 1842, 1842, 1842, 1842, 1842, 1842, 1842, 1842, 1842, 1842, 1842, 1842, 1842, 1842, 1842, 1842, 1842, 1842, 1842, 1842, 1842, 1842, 1842, 1842, 1844, 1844, 1847, 1847, 1847, 1847, 1847, 1847, 1847, 1847, 1847, 1847, 1847, 1847, 1847, 1847, 1855, 1855, 1855, 1856, 1856, 1856, 1856, 1857, 1857, 1857, 1858, 1858, 1859, 1860, 1860, 1860, 1860, 1860, 1860, 1860, 1861, 1861, 1861, 1861, 1861, 1861, 1861, 1861, 1861, 1861, 1861, 1861, 1861, 1861, 1861, 1861, 1861, 1861, 1861, 1861, 1861, 1861, 1861, 1861, 1861, 1861, 1861, 1861, 1861, 1861, 1862, 1862, 1862, 1862, 1862, 1862, 1862, 1862, 1862, 1862, 1862, 1864, 1864, 1868, 1868, 1868, 1868, 1868, 1868, 1868, 1868, 1868, 1868, 1868, 1868, 1869, 1869, 1869, 1869, 1869, 1869, 1869, 1869, 1869, 1869, 1869, 1869, 1869, 1869, 1869, 1869, 1869, 1869, 1869, 1869, 1869, 1869, 1869, 1869, 1869, 1869, 1869, 1869, 1869, 1869, 1869, 1869, 1869, 1869, 1869, 1869, 1869, 1869, 1869, 1869, 1869, 1869, 1869, 1869, 1869, 1869, 1869, 1869, 1869, 1869, 1869, 1869, 1870, 1870, 1870, 1870, 1870, 1870, 1870, 1870, 1870, 1870, 1870, 1870, 1870, 1870, 1870, 1870, 1870, 1870, 1870, 1870, 1870, 1871, 1871, 1871, 1871, 1871, 1871, 1871, 1871, 1871, 1871, 1871, 1871, 1871, 1871, 1871, 1871, 1871, 1871, 1871, 1871, 1871, 1871, 1871, 1871, 1871, 1871, 1871, 1871, 1871, 1871, 1871, 1871, 1871, 1871, 1871, 1871, 1871, 1871, 1871, 1871, 1871, 1873, 1873, 1873, 1873, 1873, 1873, 1873, 1873, 1873, 1873, 1873, 1873, 1873, 1873, 1873, 1873, 1873, 1873, 1873, 1873, 1873, 1873, 1876, 1876, 1876, 1876, 1876, 1876, 1876, 1876, 1876, 1876, 1876, 1876, 1876, 1877, 1880, 1880, 1881, 1881, 1881, 1881, 1881, 1881, 1881, 1881, 1881, 1881, 1881, 1881, 1882, 1882, 1882, 1882, 1882, 1882, 1882, 1882, 1882, 1882, 1883, 1883, 1883, 1883, 1883, 1883, 1883, 1883, 1883, 1883, 1883, 1883, 1883, 1883, 1883, 1883, 1883, 1883, 1883, 1883, 1883, 1883, 1883, 1883, 1883, 1883, 1883, 1883, 1883, 1883, 1883, 1883, 1883, 1883, 1883, 1883, 1885, 1885, 1885, 1886, 1886, 1886, 1886, 1886, 1886, 1886, 1886, 1886, 1887, 1887, 1887, 1887, 1887, 1887, 1887, 1887, 1887, 1887, 1887, 1887, 1887, 1888, 1888, 1892, 1894, 1894, 1894, 1894, 1894, 1894, 1894, 1894, 1894, 1894, 1894, 1894, 1894, 1894, 1894, 1894, 1894, 1894, 1894, 1894, 1894, 1894, 1894, 1894, 1894, 1894, 1894, 1894, 1894, 1894, 1894, 1894, 1894, 1894, 1894, 1894, 1894, 1896, 1896, 1896, 1896, 1896, 1896, 1896, 1896, 1896, 1896, 1896, 1896, 1896, 1896, 1896, 1896, 1896, 1896, 1896, 1896, 1896, 1896, 1896, 1896, 1896, 1896, 1896, 1896, 1896, 1896, 1896, 1896, 1896, 1896, 1896, 1896, 1896, 1896, 1896, 1896, 1896, 1896, 1896, 1896, 1896, 1896, 1896, 1896, 1897, 1897, 1897, 1897, 1897, 1897, 1897, 1897, 1897, 1897, 1897, 1897, 1897, 1897, 1897, 1897, 1897, 1897, 1897, 1897, 1897, 1898, 1900, 1900, 1900, 1900, 1900, 1900, 1900, 1900, 1900, 1900, 1900, 1900, 1900, 1900, 1900, 1900, 1900, 1900, 1900, 1900, 1900, 1900, 1900, 1900, 1900, 1900, 1900, 1900, 1900, 1900, 1900, 1900, 1900, 1900, 1900, 1900, 1900, 1900, 1900, 1900, 1900, 1900, 1900, 1900, 1900, 1900, 1900, 1900, 1900, 1900, 1900, 1900, 1900, 1900, 1900, 1900, 1900, 1901, 1901, 1901, 1901, 1901, 1901, 1901, 1901, 1901, 1901, 1901, 1901, 1901, 1901, 1902, 1902, 1902, 1902, 1902, 1902, 1902, 1902, 1902, 1902, 1902, 1902, 1902, 1902, 1902, 1902, 1902, 1902, 1902, 1902, 1902, 1902, 1902, 1902, 1902, 1902, 1902, 1903, 1907, 1907, 1907, 1908, 1908, 1908, 1909, 1909, 1909, 1909, 1909, 1909, 1909, 1909, 1909, 1909, 1909, 1909, 1909, 1909, 1909, 1909, 1909, 1909, 1909, 1909, 1909, 1909, 1909, 1909, 1910, 1910, 1910, 1910, 1910, 1910, 1910, 1910, 1911, 1911, 1914, 1914, 1914, 1914, 1914, 1914, 1914, 1914, 1915, 1915, 1915, 1915, 1915, 1916, 1917, 1917, 1918, 1918, 1918, 1918, 1918, 1918, 1920, 1920, 1920, 1920, 1920, 1920, 1920, 1920, 1920, 1920, 1920, 1920, 1920, 1920, 1920, 1920, 1920, 1920, 1920, 1920, 1920, 1920, 1920, 1920, 1920, 1920, 1921, 1922, 1922, 1923, 1923, 1923, 1923, 1924, 1924, 1924, 1924, 1924, 1924, 1924, 1924, 1924, 1924, 1924, 1924, 1924, 1924, 1924, 1924, 1924, 1924, 1924, 1924, 1924, 1924, 1924, 1924, 1924, 1924, 1924, 1924, 1924, 1924, 1924, 1926, 1926, 1926, 1926, 1926, 1927, 1927, 1927, 1928, 1928, 1928, 1928, 1928, 1931, 1931, 1931, 1931, 1931, 1931, 1931, 1931, 1931, 1931, 1931, 1931, 1931, 1931, 1931, 1931, 1931, 1931, 1931, 1931, 1931, 1931, 1931, 1931, 1931, 1933, 1933, 1933, 1933, 1933, 1933, 1933, 1933, 1933, 1933, 1933, 1933, 1933, 1933, 1933, 1933, 1933, 1933, 1933, 1933, 1933, 1933, 1933, 1933, 1933, 1933, 1933, 1933, 1933, 1934, 1934, 1934, 1934, 1934, 1937, 1939, 1939, 1939, 1939, 1939, 1939, 1939, 1939, 1939, 1939, 1939, 1939, 1939, 1939, 1939, 1939, 1939, 1939, 1939, 1939, 1939, 1939, 1940, 1940, 1940, 1941, 1941, 1941, 1941, 1942, 1942, 1942, 1943, 1943, 1943, 1943, 1943, 1943, 1943, 1943, 1944, 1944, 1944, 1944, 1944, 1947, 1947, 1947, 1947, 1947, 1947, 1947, 1947, 1947, 1947, 1947, 1947, 1947, 1947, 1947, 1947, 1947, 1947, 1947, 1947, 1947, 1947, 1947, 1947, 1947, 1947, 1947, 1947, 1947, 1947, 1947, 1947, 1947, 1947, 1947, 1947, 1947, 1948, 1948, 1948, 1948, 1949, 1951, 1951, 1951, 1951, 1951, 1951, 1951, 1951, 1952, 1952, 1952, 1952, 1952, 1953, 1953, 1954, 1954, 1954, 1954, 1954, 1954, 1954, 1954, 1954, 1954, 1954, 1954, 1954, 1954, 1955, 1955, 1955, 1957, 1957, 1957, 1957, 1957, 1957, 1957, 1957, 1957, 1957, 1957, 1957, 1957, 1957, 1957, 1957, 1957, 1957, 1957, 1957, 1957, 1957, 1957, 1957, 1960, 1960, 1960, 1960, 1960, 1960, 1961, 1961, 1961, 1961, 1961, 1961, 1961, 1961, 1961, 1961, 1961, 1961, 1961, 1961, 1961, 1961, 1961, 1962, 1962, 1962, 1962, 1962, 1962, 1962, 1964, 1965, 1965, 1967, 1967, 1967, 1967, 1967, 1967, 1967, 1967, 1967, 1967, 1968, 1968, 1968, 1968, 1968, 1968, 1968, 1968, 1968, 1968, 1968, 1968, 1968, 1969, 1969, 1969, 1969, 1970, 1970, 1970, 1970, 1970, 1970, 1970, 1970, 1970, 1970, 1970, 1971, 1971, 1971, 1971, 1971, 1971, 1971, 1971, 1971, 1971, 1971, 1971, 1971, 1971, 1971, 1971, 1971, 1971, 1971, 1971, 1971, 1971, 1971, 1971, 1971, 1971, 1971, 1971, 1971, 1971, 1971, 1971, 1971, 1971, 1971, 1971, 1971, 1971, 1971, 1971, 1971, 1973, 1973, 1973, 1974, 1974, 1974, 1974, 1974, 1974, 1974, 1974, 1974, 1974, 1974, 1974, 1975, 1975, 1975, 1975, 1975, 1975, 1975, 1975, 1975, 1975, 1975, 1975, 1975, 1978, 1979, 1979, 1979, 1979, 1979, 1979, 1979, 1979, 1979, 1979, 1979, 1981, 1981, 1981, 1982, 1983, 1986, 1986, 1986, 1986, 1986, 1986, 1986, 1986, 1986, 1986, 1986, 1986, 1986, 1986, 1986, 1986, 1986, 1986, 1986, 1987, 1989, 1991, 1991, 1991, 1991, 1991, 1991, 1991, 1992, 1993, 1993, 1994, 1994, 1994, 1994, 1994, 1994, 1994, 1994, 1994, 1994, 1994, 1997, 1997, 1997, 1997, 1997, 1997, 1997, 1997, 1997, 1998, 1998, 1998, 1998, 1998, 1998, 1998, 1998, 1998, 1998, 1998, 1998, 1998, 1998, 1998, 1998, 1998, 1998, 1998, 1998, 1998, 1998, 1998, 1998, 1998, 1998, 1998, 1998, 2001, 2001, 2002, 2002, 2002, 2003, 2003, 2003, 2003, 2003, 2003, 2003, 2003, 2003, 2003, 2003, 2003, 2003, 2006, 2006, 2006, 2006, 2006, 2006, 2006, 2006, 2006, 2006, 2006, 2006, 2006, 2006, 2006, 2007, 2007, 2007, 2007, 2007, 2007, 2007, 2007, 2007, 2007, 2007, 2007, 2007, 2008, 2008, 2009, 2009, 2009, 2009, 2009, 2009, 2009, 2009, 2009, 2009, 2011, 2011, 2011, 2011, 2011, 2011, 2011, 2011, 2011, 2011, 2011, 2011, 2011, 2011, 2011, 2011, 2011, 2011, 2011, 2011, 2011, 2011, 2011, 2011, 2011, 2011, 2011, 2011, 2011, 2011, 2011, 2011, 2011, 2011, 2011, 2011, 2011, 2011, 2011, 2011, 2011, 2011, 2011, 2012, 2012, 2012, 2013, 2013, 2013, 2017, 2017, 2017, 2017, 2017, 2017, 2017, 2017, 2017, 2017, 2017, 2017, 2017, 2017, 2017, 2017, 2017, 2017, 2017, 2017, 2017, 2017, 2017, 2017, 2017, 2017, 2017, 2017, 2017, 2017, 2017, 2017, 2017, 2017, 2017, 2017, 2017, 2017, 2017, 2017, 2017, 2018, 2021, 2022, 2022, 2022, 2022, 2022, 2022, 2022, 2022, 2022, 2022, 2022, 2022, 2022, 2022, 2022, 2022, 2022, 2022, 2022, 2022, 2022, 2022, 2022, 2022, 2022, 2022, 2022, 2024, 2024, 2024, 2024, 2024, 2024, 2024, 2024, 2024, 2024, 2024, 2024, 2024, 2024, 2024, 2024, 2024, 2024, 2024, 2024, 2024, 2025, 2025, 2025, 2025, 2025, 2025, 2025, 2025, 2025, 2025, 2025, 2025, 2025, 2025, 2027, 2030, 2030, 2030, 2030, 2030, 2030, 2030, 2030, 2030, 2030, 2030, 2030, 2030, 2030, 2030, 2030, 2030, 2030, 2030, 2030, 2030, 2030, 2030, 2030, 2030, 2030, 2030, 2030, 2030, 2030, 2030, 2030, 2032, 2032, 2032, 2032, 2032, 2032, 2032, 2032, 2032, 2032, 2032, 2032, 2032, 2032, 2032, 2032, 2032, 2032, 2032, 2032, 2032, 2032, 2032, 2032, 2032, 2032, 2032, 2033, 2033, 2033, 2033, 2033, 2033, 2033, 2033, 2033, 2033, 2033, 2033, 2034, 2034, 2034, 2034, 2034, 2034, 2034, 2034, 2035, 2035, 2035, 2035, 2035, 2035, 2035, 2037, 2039, 2039, 2039, 2039, 2039, 2039, 2039, 2039, 2039, 2039, 2039, 2039, 2039, 2039, 2039, 2039, 2040, 2040, 2040, 2040, 2040, 2040, 2040, 2040, 2040, 2040, 2040, 2041, 2041, 2041, 2041, 2041, 2041, 2041, 2041, 2041, 2041, 2041, 2041, 2041, 2041, 2041, 2041, 2041, 2041, 2042, 2042, 2043, 2043, 2043, 2043, 2043, 2043, 2043, 2043, 2043, 2043, 2043, 2043, 2045, 2045, 2045, 2045, 2045, 2045, 2045, 2045, 2045, 2045, 2045, 2045, 2045, 2045, 2045, 2045, 2045, 2045, 2045, 2048, 2049, 2049, 2050, 2050, 2050, 2050, 2050, 2050, 2050, 2050, 2050, 2050, 2050, 2050, 2052, 2053, 2055, 2055, 2055, 2055, 2055, 2055, 2055, 2055, 2055, 2055, 2055, 2055, 2055, 2055, 2055, 2055, 2055, 2055, 2055, 2055, 2055, 2055, 2055, 2055, 2055, 2057, 2057, 2057, 2057, 2057, 2057, 2057, 2057, 2061, 2061, 2061, 2061, 2061, 2061, 2061, 2061, 2061, 2061, 2061, 2061, 2061, 2061, 2061, 2061, 2062, 2062, 2062, 2062, 2063, 2063, 2063, 2063, 2063, 2063, 2063, 2063, 2063, 2063, 2063, 2063, 2063, 2063, 2063, 2065, 2065, 2065, 2065, 2065, 2065, 2065, 2065, 2065, 2065, 2065, 2065, 2065, 2065, 2065, 2065, 2065, 2065, 2065, 2065, 2065, 2065, 2065, 2065, 2065, 2065, 2065, 2065, 2065, 2065, 2065, 2065, 2065, 2065, 2066, 2066, 2066, 2066, 2066, 2066, 2066, 2066, 2066, 2066, 2066, 2066, 2066, 2066, 2066, 2066, 2066, 2068, 2068, 2068, 2068, 2068, 2068, 2068, 2068, 2068, 2068, 2068, 2069, 2069, 2069, 2069, 2069, 2071, 2071, 2071, 2071, 2071, 2072, 2072, 2072, 2072, 2072, 2072, 2072, 2072, 2072, 2072, 2072, 2072, 2073, 2073, 2073, 2074, 2074, 2074, 2074, 2075, 2075, 2076, 2078, 2079, 2079, 2081, 2081, 2082, 2082, 2082, 2082, 2082, 2082, 2082, 2082, 2082, 2082, 2082, 2082, 2082, 2083, 2083, 2083, 2083, 2083, 2083, 2083, 2083, 2083, 2083, 2083, 2083, 2083, 2083, 2083, 2083, 2083, 2083, 2083, 2083, 2083, 2083, 2083, 2083, 2083, 2083, 2083, 2083, 2083, 2083, 2083, 2083, 2083, 2083, 2083, 2083, 2083, 2083, 2083, 2083, 2083, 2085, 2086, 2086, 2086, 2086, 2086, 2086, 2086, 2086, 2086, 2086, 2086, 2086, 2086, 2086, 2086, 2086, 2086, 2086, 2086, 2086, 2086, 2086, 2086, 2086, 2086, 2086, 2086, 2086, 2086, 2086, 2086, 2086, 2086, 2086, 2086, 2086, 2086, 2086, 2086, 2086, 2086, 2086, 2086, 2086, 2086, 2086, 2086, 2087, 2087, 2087, 2087, 2087, 2087, 2089, 2089, 2089, 2089, 2089, 2089, 2090, 2090, 2090, 2090, 2090, 2090, 2091, 2091, 2091, 2091, 2091, 2091, 2091, 2091, 2091, 2091, 2092, 2092, 2092, 2092, 2092, 2092, 2092, 2092, 2092, 2092, 2092, 2096, 2096, 2096, 2096, 2096, 2096, 2096, 2096, 2096, 2096, 2096, 2096, 2096, 2096, 2096, 2096, 2096, 2096, 2096, 2096, 2096, 2096, 2096, 2096, 2096, 2098, 2098, 2098, 2098, 2098, 2098, 2098, 2098, 2098, 2100, 2101, 2101, 2101, 2101, 2101, 2101, 2101, 2101, 2101, 2101, 2101, 2101, 2101, 2101, 2101, 2101, 2101, 2101, 2101, 2101, 2101, 2101, 2102, 2104, 2104, 2104, 2105, 2105, 2105, 2105, 2105, 2105, 2105, 2105, 2105, 2106, 2106, 2106, 2106, 2107, 2109, 2109, 2109, 2109, 2109, 2109, 2109, 2109, 2109, 2109, 2109, 2109, 2109, 2109, 2109, 2109, 2109, 2109, 2109, 2109, 2109, 2109, 2109, 2115, 2116, 2117, 2117, 2117, 2118, 2118, 2118, 2118, 2118, 2118, 2118, 2118, 2118, 2118, 2118, 2118, 2118, 2118, 2118, 2118, 2121, 2121, 2121, 2121, 2121, 2121, 2121, 2121, 2121, 2121, 2121, 2121, 2123, 2123, 2123, 2125, 2125, 2125, 2125, 2125, 2125, 2125, 2125, 2125, 2125, 2126, 2128, 2128, 2128, 2128, 2128, 2128, 2128, 2128, 2128, 2128, 2128, 2128, 2128, 2128, 2128, 2128, 2128, 2128, 2128, 2128, 2128, 2128, 2128, 2128, 2128, 2128, 2128, 2128, 2128, 2128, 2128, 2128, 2128, 2128, 2129, 2129, 2129, 2129, 2129, 2129, 2129, 2129, 2129, 2129, 2129, 2129, 2129, 2129, 2129, 2129, 2129, 2129, 2130, 2130, 2130, 2130, 2130, 2130, 2130, 2130, 2131, 2131, 2131, 2131, 2131, 2131, 2131, 2131, 2131, 2131, 2131, 2131, 2131, 2131, 2132, 2133, 2133, 2133, 2133, 2133, 2133, 2135, 2135, 2135, 2135, 2135, 2137, 2138, 2139, 2141, 2141, 2141, 2141, 2141, 2141, 2141, 2141, 2141, 2141, 2141, 2141, 2141, 2141, 2141, 2141, 2141, 2141, 2141, 2141, 2141, 2141, 2141, 2141, 2141, 2144, 2144, 2144, 2144, 2144, 2145, 2145, 2145, 2145, 2145, 2145, 2145, 2146, 2147, 2151, 2152, 2153, 2154, 2154, 2157, 2157, 2157, 2157, 2157, 2157, 2157, 2157, 2157, 2158, 2158, 2159, 2160, 2160, 2160, 2160, 2160, 2163, 2164, 2164, 2164, 2164, 2164, 2164, 2164, 2164, 2164, 2164, 2164, 2164, 2164, 2164, 2164, 2164, 2164, 2164, 2164, 2164, 2164, 2164, 2164, 2164, 2164, 2164, 2164, 2164, 2164, 2164, 2164, 2164, 2168, 2170, 2170, 2170, 2170, 2170, 2171, 2171, 2171, 2171, 2171, 2171, 2173, 2173, 2173, 2173, 2173, 2173, 2173, 2173, 2173, 2173, 2173, 2173, 2173, 2173, 2173, 2173, 2173, 2173, 2173, 2173, 2173, 2173, 2173, 2173, 2173, 2173, 2173, 2173, 2173, 2173, 2173, 2173, 2173, 2173, 2177, 2177, 2177, 2177, 2177, 2177, 2177, 2177, 2177, 2177, 2177, 2177, 2177, 2177, 2177, 2177, 2177, 2177, 2177, 2177, 2177, 2177, 2177, 2177, 2177, 2177, 2177, 2177, 2177, 2177, 2177, 2177, 2177, 2177, 2177, 2177, 2177, 2177, 2177, 2177, 2177, 2177, 2177, 2177, 2177, 2177, 2177, 2177, 2177, 2177, 2177, 2177, 2177, 2177, 2177, 2178, 2178, 2178, 2180, 2180, 2180, 2180, 2180, 2180, 2180, 2180, 2180, 2180, 2182, 2182, 2182, 2182, 2182, 2182, 2182, 2182, 2182, 2182, 2182, 2182, 2182, 2182, 2182, 2182, 2182, 2182, 2182, 2182, 2182, 2182, 2182, 2182, 2182, 2182, 2182, 2182, 2182, 2182, 2182, 2182, 2182, 2182, 2182, 2182, 2182, 2182, 2182, 2182, 2182, 2182, 2182, 2182, 2182, 2182, 2182, 2182, 2182, 2182, 2183, 2183, 2186, 2186, 2186, 2189, 2189, 2189, 2189, 2189, 2189, 2189, 2189, 2189, 2189, 2189, 2191, 2191, 2191, 2191, 2191, 2191, 2191, 2191, 2191, 2191, 2191, 2191, 2191, 2191, 2191, 2191, 2191, 2191, 2191, 2191, 2191, 2191, 2191, 2192, 2192, 2192, 2192, 2192, 2192, 2193, 2193, 2193, 2193, 2193, 2193, 2193, 2193, 2193, 2193, 2193, 2193, 2193, 2193, 2193, 2193, 2193, 2193, 2193, 2193, 2193, 2193, 2193, 2193, 2195, 2195, 2197, 2197, 2197, 2197, 2197, 2197, 2197, 2197, 2197, 2197, 2197, 2197, 2199, 2199, 2199, 2199, 2199, 2199, 2199, 2199, 2199, 2200, 2200, 2200, 2200, 2200, 2200, 2200, 2200, 2200, 2200, 2200, 2200, 2201, 2201, 2205, 2205, 2205, 2205, 2205, 2205, 2205, 2205, 2205, 2205, 2205, 2205, 2205, 2205, 2205, 2207, 2207, 2207, 2207, 2207, 2208, 2208, 2208, 2208, 2208, 2208, 2208, 2208, 2208, 2208, 2208, 2208, 2208, 2208, 2208, 2208, 2208, 2208, 2208, 2208, 2208, 2208, 2208, 2208, 2208, 2208, 2208, 2208, 2208, 2208, 2208, 2209, 2209, 2209, 2209, 2209, 2209, 2209, 2209, 2209, 2209, 2209, 2209, 2209, 2209, 2209, 2209, 2209, 2209, 2209, 2209, 2209, 2209, 2209, 2209, 2209, 2209, 2209, 2209, 2209, 2209, 2209, 2209, 2209, 2209, 2209, 2209, 2209, 2209, 2209, 2209, 2209, 2209, 2209, 2209, 2209, 2209, 2209, 2209, 2209, 2209, 2209, 2209, 2209, 2210, 2210, 2210, 2210, 2210, 2210, 2210, 2210, 2210, 2210, 2210, 2210, 2210, 2210, 2210, 2210, 2210, 2210, 2210, 2210, 2210, 2210, 2210, 2210, 2210, 2210, 2210, 2210, 2210, 2210, 2210, 2210, 2210, 2210, 2210, 2210, 2210, 2210, 2210, 2210, 2210, 2210, 2210, 2210, 2210, 2210, 2210, 2210, 2210, 2210, 2210, 2210, 2210, 2210, 2210, 2210, 2210, 2210, 2211, 2211, 2211, 2211, 2211, 2211, 2211, 2211, 2211, 2211, 2211, 2211, 2212, 2212, 2212, 2212, 2212, 2212, 2212, 2212, 2213, 2213, 2213, 2213, 2217, 2217, 2217, 2217, 2218, 2218, 2218, 2218, 2218, 2218, 2218, 2218, 2218, 2218, 2219, 2219, 2219, 2219, 2220, 2220, 2220, 2220, 2220, 2220, 2220, 2220, 2220, 2221, 2221, 2221, 2221, 2221, 2221, 2221, 2221, 2221, 2221, 2221, 2221, 2221, 2221, 2221, 2221, 2221, 2221, 2221, 2225, 2227, 2227, 2227, 2229, 2229, 2229, 2229, 2229, 2229, 2229, 2229, 2229, 2229, 2229, 2229, 2229, 2231, 2231, 2231, 2231, 2231, 2231, 2231, 2231, 2231, 2231, 2231, 2231, 2231, 2231, 2231, 2231, 2231, 2236, 2236, 2236, 2236, 2236, 2236, 2236, 2236, 2239, 2239, 2239, 2239, 2239, 2239, 2239, 2239, 2239, 2239, 2239, 2239, 2239, 2239, 2239, 2239, 2239, 2239, 2239, 2239, 2239, 2239, 2240, 2240, 2240, 2240, 2241, 2241, 2241, 2241, 2241, 2241, 2241, 2241, 2241, 2241, 2241, 2241, 2241, 2241, 2241, 2241, 2241, 2241, 2241, 2241, 2241, 2241, 2243, 2243, 2243, 2243, 2243, 2243, 2243, 2243, 2243, 2243, 2243, 2243, 2243, 2243, 2243, 2243, 2245, 2245, 2245, 2245, 2245, 2245, 2245, 2245, 2245, 2245, 2245, 2245, 2245, 2247, 2247, 2247, 2248, 2248, 2248, 2249, 2249, 2249, 2249, 2249, 2251, 2251, 2251, 2251, 2251, 2251, 2251, 2251, 2251, 2251, 2251, 2251, 2251, 2251, 2251, 2251, 2251, 2251, 2251, 2251, 2251, 2251, 2252, 2252, 2252, 2253, 2253, 2253, 2253, 2253, 2253, 2253, 2253, 2254, 2254, 2254, 2256, 2256, 2257, 2257, 2257, 2257, 2257, 2257, 2257, 2257, 2257, 2257, 2257, 2257, 2257, 2257, 2257, 2257, 2257, 2257, 2257, 2257, 2257, 2257, 2257, 2257, 2257, 2257, 2257, 2257, 2257, 2257, 2257, 2257, 2257, 2257, 2257, 2257, 2257, 2257, 2257, 2258, 2258, 2258, 2258, 2259, 2261, 2261, 2262, 2262, 2262, 2263, 2263, 2263, 2263, 2263, 2263, 2263, 2263, 2263, 2263, 2263, 2263, 2263, 2263, 2263, 2263, 2263, 2263, 2263, 2263, 2263, 2263, 2263, 2263, 2263, 2263, 2263, 2263, 2263, 2263, 2263, 2263, 2264, 2264, 2264, 2264, 2266, 2266, 2266, 2266, 2267, 2267, 2269, 2269, 2270, 2270, 2272, 2272, 2273, 2273, 2273, 2273, 2273, 2273, 2273, 2273, 2273, 2273, 2273, 2273, 2273, 2273, 2273, 2273, 2273, 2273, 2273, 2273, 2273, 2273, 2273, 2274, 2274, 2276, 2276, 2276, 2276, 2276, 2276, 2276, 2276, 2276, 2277, 2277, 2277, 2277, 2277, 2277, 2277, 2277, 2278, 2278, 2278, 2278, 2278, 2278, 2278, 2278, 2278, 2278, 2278, 2278, 2278, 2278, 2278, 2278, 2278, 2280, 2280, 2282, 2282, 2282, 2282, 2282, 2282, 2282, 2282, 2282, 2283, 2283, 2283, 2283, 2283, 2283, 2283, 2283, 2283, 2283, 2284, 2284, 2284, 2284, 2284, 2285, 2287, 2287, 2288, 2288, 2288, 2288, 2288, 2288, 2288, 2288, 2288, 2288, 2288, 2289, 2289, 2289, 2289, 2289, 2289, 2289, 2289, 2289, 2289, 2289, 2289, 2289, 2289, 2289, 2289, 2289, 2289, 2289, 2289, 2289, 2289, 2289, 2289, 2289, 2289, 2289, 2289, 2289, 2289, 2289, 2289, 2289, 2289, 2289, 2289, 2289, 2289, 2289, 2289, 2289, 2289, 2289, 2289, 2289, 2289, 2290, 2290, 2290, 2290, 2290, 2290, 2292, 2292, 2292, 2292, 2292, 2292, 2292, 2292, 2293, 2294, 2294, 2294, 2294, 2294, 2294, 2294, 2294, 2294, 2294, 2294, 2294, 2294, 2294, 2295, 2295, 2295, 2295, 2295, 2295, 2295, 2295, 2295, 2295, 2295, 2295, 2295, 2295, 2295, 2295, 2295, 2295, 2295, 2295, 2295, 2295, 2295, 2295, 2295, 2295, 2295, 2295, 2295, 2295, 2295, 2295, 2295, 2295, 2295, 2295, 2295, 2295, 2297, 2297, 2297, 2297, 2297, 2297, 2298, 2298, 2298, 2298, 2298, 2298, 2298, 2298, 2298, 2298, 2298, 2298, 2298, 2298, 2298, 2298, 2298, 2298, 2298, 2298, 2298, 2298, 2298, 2298, 2298, 2298, 2300, 2301, 2301, 2301, 2302, 2302, 2302, 2302, 2302, 2302, 2302, 2302, 2302, 2302, 2304, 2305, 2305, 2305, 2305, 2305, 2306, 2306, 2306, 2306, 2306, 2306, 2306, 2307, 2307, 2307, 2307, 2307, 2307, 2309, 2309, 2309, 2309, 2309, 2309, 2314, 2314, 2314, 2314, 2314, 2314, 2315, 2315, 2315, 2315, 2315, 2315, 2315, 2315, 2315, 2315, 2317, 2317, 2317, 2317, 2317, 2318, 2318, 2318, 2318, 2320, 2322, 2322, 2322, 2322, 2322, 2322, 2322, 2322, 2322, 2322, 2322, 2322, 2322, 2322, 2322, 2322, 2322, 2322, 2322, 2323, 2323, 2323, 2324, 2324, 2324, 2324, 2324, 2324, 2324, 2324, 2325, 2326, 2326, 2331, 2331, 2331, 2331, 2331, 2331, 2331, 2331, 2331, 2331, 2331, 2331, 2331, 2331, 2331, 2333, 2333, 2333, 2333, 2333, 2333, 2333, 2333, 2333, 2333, 2333, 2333, 2335, 2335, 2335, 2337, 2339, 2339, 2339, 2339, 2339, 2339, 2339, 2339, 2339, 2339, 2340, 2340, 2340, 2340, 2340, 2340, 2340, 2340, 2340, 2340, 2340, 2340, 2340, 2340, 2340, 2340, 2340, 2340, 2340, 2340, 2340, 2340, 2340, 2340, 2340, 2341, 2341, 2341, 2341, 2341, 2341, 2341, 2341, 2341, 2341, 2341, 2341, 2343, 2344, 2344, 2344, 2344, 2344, 2344, 2344, 2344, 2344, 2344, 2344, 2344, 2344, 2344, 2344, 2344, 2344, 2344, 2344, 2344, 2344, 2344, 2348, 2349, 2349, 2349, 2349, 2349, 2349, 2349, 2349, 2349, 2349, 2349, 2349, 2349, 2349, 2349, 2349, 2351, 2352, 2352, 2352, 2353, 2353, 2353, 2353, 2353, 2353, 2353, 2353, 2353, 2353, 2353, 2353, 2353, 2353, 2353, 2353, 2353, 2353, 2353, 2353, 2353, 2353, 2353, 2353, 2353, 2353, 2353, 2353, 2353, 2353, 2353, 2353, 2353, 2353, 2353, 2353, 2353, 2353, 2353, 2353, 2353, 2353, 2353, 2353, 2353, 2353, 2353, 2353, 2353, 2353, 2353, 2353, 2353, 2353, 2353, 2353, 2353, 2353, 2353, 2353, 2353, 2353, 2353, 2353, 2353, 2353, 2353, 2353, 2355, 2357, 2357, 2357, 2357, 2357, 2357, 2357, 2358, 2358, 2358, 2358, 2360, 2361, 2361, 2361, 2361, 2361, 2362, 2362, 2362, 2363, 2364, 2364, 2364, 2364, 2364, 2366, 2366, 2366, 2366, 2366, 2366, 2367, 2367, 2367, 2367, 2367, 2367, 2367, 2367, 2367, 2367, 2367, 2367, 2367, 2367, 2368, 2368, 2368, 2372, 2372, 2372, 2372, 2372, 2373, 2373, 2375, 2375, 2375, 2375, 2375, 2375, 2375, 2375, 2375, 2375, 2375, 2377, 2377, 2377, 2377, 2377, 2377, 2377, 2377, 2377, 2377, 2377, 2377, 2377, 2380, 2380, 2382, 2382, 2382, 2382, 2382, 2382, 2382, 2382, 2382, 2382, 2382, 2382, 2387, 2388, 2388, 2388, 2388, 2388, 2388, 2389, 2389, 2390, 2390, 2390, 2390, 2390, 2390, 2390, 2390, 2394, 2394, 2394, 2394, 2397, 2397, 2397, 2397, 2397, 2397, 2397, 2397, 2397, 2397, 2397, 2398, 2398, 2398, 2398, 2401, 2404, 2404, 2404, 2404, 2404, 2404, 2404, 2405, 2406, 2406, 2407, 2407, 2407, 2407, 2407, 2407, 2407, 2407, 2407, 2407, 2407, 2407, 2407, 2407, 2407, 2407, 2407, 2407, 2407, 2407, 2407, 2407, 2408, 2408, 2408, 2408, 2408, 2408, 2408, 2408, 2408, 2408, 2408, 2408, 2408, 2408, 2408, 2408, 2408, 2411, 2412, 2412, 2412, 2412, 2412, 2412, 2413, 2413, 2413, 2413, 2413, 2413, 2413, 2413, 2413, 2413, 2413, 2413, 2413, 2413, 2413, 2413, 2413, 2413, 2413, 2413, 2413, 2413, 2413, 2413, 2413, 2413, 2413, 2413, 2413, 2413, 2413, 2413, 2413, 2413, 2413, 2413, 2413, 2413, 2413, 2413, 2416, 2416, 2416, 2416, 2416, 2416, 2416, 2416, 2416, 2416, 2416, 2416, 2416, 2416, 2416, 2416, 2419, 2419, 2419, 2419, 2419, 2419, 2419, 2421, 2422, 2422, 2424, 2424, 2424, 2424, 2424, 2424, 2424, 2424, 2424, 2424, 2424, 2425, 2425, 2425, 2425, 2425, 2425, 2425, 2425, 2425, 2425, 2425, 2425, 2425, 2425, 2425, 2425, 2425, 2425, 2428, 2428, 2431, 2431, 2431, 2432, 2432, 2432, 2432, 2432, 2432, 2432, 2432, 2432, 2432, 2432, 2432, 2432, 2432, 2432, 2432, 2432, 2432, 2432, 2432, 2432, 2432, 2432, 2432, 2432, 2432, 2432, 2432, 2433, 2433, 2433, 2435, 2437, 2437, 2438, 2438, 2438, 2438, 2438, 2438, 2438, 2438, 2438, 2438, 2438, 2438, 2438, 2438, 2438, 2438, 2438, 2438, 2438, 2438, 2438, 2438, 2439, 2439, 2439, 2439, 2440, 2440, 2441, 2441, 2441, 2441, 2441, 2441, 2441, 2441, 2441, 2441, 2441, 2441, 2441, 2441, 2441, 2441, 2441, 2441, 2441, 2441, 2441, 2441, 2441, 2441, 2441, 2441, 2441, 2441, 2441, 2441, 2441, 2441, 2442, 2442, 2442, 2442, 2442, 2442, 2442, 2442, 2443, 2443, 2443, 2443, 2443, 2443, 2443, 2443, 2443, 2443, 2443, 2443, 2443, 2443, 2443, 2443, 2443, 2443, 2443, 2443, 2443, 2443, 2443, 2443, 2443, 2443, 2443, 2443, 2443, 2444, 2444, 2444, 2444, 2444, 2444, 2444, 2444, 2444, 2444, 2444, 2444, 2445, 2445, 2445, 2445, 2445, 2445, 2445, 2445, 2445, 2445, 2445, 2445, 2445, 2445, 2445, 2445, 2445, 2446, 2447, 2447, 2447, 2447, 2447, 2448, 2448, 2448, 2448, 2451, 2452, 2453, 2453, 2453, 2453, 2453, 2453, 2453, 2453, 2453, 2453, 2453, 2453, 2453, 2453, 2453, 2453, 2453, 2453, 2453, 2453, 2453, 2453, 2453, 2453, 2455, 2455, 2455, 2455, 2455, 2455, 2455, 2455, 2455, 2455, 2457, 2457, 2457, 2457, 2457, 2457, 2457, 2457, 2457, 2459, 2459, 2459, 2459, 2459, 2459, 2459, 2459, 2459, 2459, 2459, 2459, 2459, 2459, 2459, 2459, 2459, 2459, 2459, 2459, 2459, 2459, 2459, 2459, 2459, 2459, 2459, 2459, 2459, 2459, 2459, 2459, 2459, 2459, 2459, 2459, 2459, 2459, 2459, 2459, 2459, 2459, 2459, 2461, 2461, 2461, 2461, 2462, 2462, 2462, 2462, 2462, 2462, 2462, 2462, 2462, 2462, 2462, 2462, 2462, 2462, 2462, 2462, 2462, 2462, 2462, 2462, 2462, 2463, 2463, 2463, 2463, 2463, 2463, 2463, 2463, 2463, 2463, 2463, 2463, 2464, 2464, 2464, 2464, 2464, 2464, 2464, 2464, 2464, 2464, 2464, 2464, 2464, 2464, 2464, 2464, 2464, 2464, 2464, 2464, 2464, 2464, 2464, 2465, 2467, 2467, 2467, 2467, 2467, 2467, 2467, 2467, 2467, 2467, 2467, 2467, 2467, 2467, 2467, 2468, 2468, 2468, 2470, 2470, 2470, 2471, 2471, 2472, 2472, 2472, 2472, 2472, 2472, 2472, 2472, 2472, 2472, 2472, 2472, 2472, 2472, 2472, 2472, 2472, 2472, 2472, 2472, 2472, 2472, 2472, 2472, 2472, 2472, 2472, 2472, 2472, 2472, 2472, 2472, 2472, 2472, 2475, 2475, 2475, 2475, 2475, 2475, 2477, 2477, 2477, 2477, 2477, 2477, 2477, 2478, 2478, 2478, 2478, 2478, 2478, 2478, 2478, 2478, 2478, 2478, 2478, 2478, 2478, 2478, 2479, 2479, 2479, 2479, 2479, 2479, 2479, 2479, 2479, 2479, 2479, 2479, 2479, 2479, 2479, 2479, 2479, 2479, 2479, 2479, 2479, 2479, 2480, 2480, 2480, 2480, 2480, 2480, 2480, 2480, 2480, 2480, 2480, 2480, 2480, 2480, 2480, 2480, 2480, 2480, 2480, 2480, 2481, 2481, 2481, 2483, 2483, 2483, 2483, 2483, 2483, 2483, 2483, 2483, 2483, 2484, 2484, 2484, 2484, 2484, 2484, 2484, 2484, 2484, 2484, 2484, 2484, 2484, 2484, 2484, 2484, 2484, 2484, 2484, 2484, 2484, 2486, 2486, 2486, 2486, 2486, 2486, 2486, 2486, 2486, 2486, 2486, 2486, 2486, 2486, 2486, 2486, 2486, 2486, 2486, 2486, 2486, 2487, 2487, 2487, 2487, 2487, 2487, 2487, 2487, 2487, 2487, 2487, 2487, 2487, 2487, 2487, 2487, 2488, 2488, 2488, 2490, 2490, 2490, 2490, 2490, 2490, 2490, 2490, 2490, 2490, 2490, 2490, 2490, 2491, 2491, 2491, 2491, 2491, 2491, 2491, 2491, 2491, 2491, 2491, 2491, 2491, 2491, 2491, 2491, 2491, 2493, 2493, 2493, 2493, 2493, 2493, 2493, 2494, 2494, 2495, 2495, 2495, 2495, 2495, 2495, 2495, 2495, 2495, 2495, 2495, 2495, 2495, 2495, 2495, 2495, 2495, 2495, 2495, 2496, 2496, 2498, 2499, 2499, 2499, 2499, 2501, 2502, 2504, 2504, 2504, 2504, 2504, 2504, 2504, 2504, 2504, 2504, 2504, 2504, 2504, 2504, 2504, 2504, 2504, 2504, 2504, 2504, 2504, 2505, 2505, 2505, 2505, 2505, 2505, 2505, 2505, 2505, 2505, 2505, 2505, 2505, 2505, 2505, 2505, 2505, 2506, 2506, 2506, 2506, 2506, 2506, 2506, 2506, 2506, 2506, 2506, 2506, 2506, 2506, 2506, 2506, 2506, 2506, 2506, 2508, 2508, 2508, 2508, 2508, 2508, 2508, 2508, 2508, 2508, 2509, 2510, 2510, 2510, 2510, 2510, 2510, 2510, 2510, 2510, 2510, 2510, 2510, 2510, 2510, 2510, 2510, 2510, 2510, 2510, 2510, 2510, 2510, 2510, 2510, 2510, 2510, 2510, 2510, 2510, 2510, 2510, 2510, 2510, 2510, 2510, 2510, 2510, 2510, 2510, 2510, 2510, 2510, 2510, 2510, 2510, 2510, 2510, 2510, 2510, 2510, 2510, 2510, 2510, 2510, 2510, 2510, 2510, 2510, 2510, 2510, 2510, 2510, 2510, 2510, 2510, 2510, 2510, 2510, 2510, 2510, 2510, 2510, 2510, 2510, 2510, 2510, 2510, 2510, 2510, 2510, 2510, 2510, 2511, 2511, 2511, 2511, 2511, 2511, 2511, 2511, 2511, 2511, 2514, 2514, 2514, 2514, 2514, 2514, 2514, 2514, 2514, 2514, 2514, 2514, 2514, 2514, 2514, 2514, 2514, 2514, 2514, 2514, 2514, 2514, 2514, 2514, 2514, 2516, 2516, 2516, 2516, 2517, 2517, 2517, 2517, 2517, 2518, 2518, 2518, 2518, 2518, 2518, 2518, 2518, 2519, 2519, 2519, 2519, 2519, 2519, 2519, 2519, 2519, 2519, 2519, 2519, 2519, 2519, 2519, 2519, 2519, 2519, 2519, 2519, 2519, 2519, 2519, 2519, 2519, 2519, 2519, 2519, 2519, 2519, 2519, 2519, 2519, 2519, 2519, 2519, 2519, 2519, 2519, 2519, 2519, 2519, 2519, 2519, 2519, 2520, 2520, 2520, 2520, 2520, 2520, 2520, 2520, 2520, 2520, 2520, 2520, 2520, 2520, 2520, 2520, 2520, 2520, 2520, 2520, 2520, 2520, 2520, 2520, 2520, 2520, 2520, 2520, 2520, 2520, 2520, 2520, 2520, 2520, 2520, 2520, 2520, 2520, 2520, 2520, 2520, 2520, 2520, 2520, 2520, 2520, 2520, 2520, 2520, 2520, 2520, 2520, 2520, 2520, 2520, 2520, 2520, 2520, 2521, 2521, 2521, 2521, 2521, 2521, 2521, 2523, 2523, 2523, 2523, 2523, 2523, 2523, 2523, 2523, 2523, 2523, 2523, 2523, 2523, 2523, 2523, 2523, 2523, 2523, 2523, 2523, 2523, 2523, 2523, 2523, 2523, 2523, 2523, 2523, 2523, 2523, 2523, 2523, 2523, 2523, 2523, 2524, 2524, 2524, 2524, 2524, 2524, 2524, 2524, 2524, 2524, 2524, 2524, 2524, 2524, 2524, 2525, 2525, 2525, 2525, 2525, 2525, 2525, 2525, 2526, 2527, 2527, 2528, 2528, 2530, 2530, 2530, 2530, 2530, 2530, 2530, 2530, 2530, 2530, 2530, 2530, 2531, 2531, 2531, 2531, 2531, 2531, 2531, 2531, 2531, 2531, 2531, 2531, 2532, 2532, 2532, 2532, 2532, 2532, 2532, 2532, 2532, 2532, 2532, 2532, 2532, 2532, 2532, 2532, 2532, 2532, 2532, 2532, 2532, 2532, 2532, 2532, 2532, 2532, 2532, 2532, 2532, 2532, 2532, 2532, 2532, 2532, 2533, 2534, 2534, 2534, 2534, 2534, 2534, 2534, 2534, 2534, 2534, 2534, 2535, 2536, 2536, 2538, 2538, 2538, 2538, 2538, 2538, 2538, 2538, 2538, 2538, 2538, 2538, 2538, 2538, 2538, 2538, 2539, 2543, 2543, 2543, 2543, 2543, 2543, 2543, 2543, 2543, 2543, 2543, 2543, 2543, 2544, 2544, 2544, 2544, 2544, 2544, 2544, 2544, 2544, 2544, 2544, 2544, 2544, 2544, 2544, 2544, 2544, 2544, 2544, 2544, 2544, 2544, 2544, 2544, 2544, 2544, 2544, 2545, 2545, 2545, 2545, 2548, 2549, 2549, 2550, 2550, 2550, 2550, 2550, 2550, 2550, 2550, 2550, 2550, 2550, 2550, 2550, 2550, 2550, 2550, 2550, 2550, 2552, 2552, 2552, 2552, 2552, 2552, 2552, 2552, 2552, 2552, 2552, 2552, 2552, 2556, 2556, 2556, 2556, 2556, 2556, 2556, 2556, 2556, 2556, 2556, 2556, 2556, 2556, 2556, 2556, 2556, 2556, 2556, 2556, 2556, 2556, 2556, 2556, 2556, 2556, 2556, 2556, 2556, 2558, 2558, 2558, 2559, 2559, 2559, 2559, 2559, 2559, 2559, 2559, 2559, 2559, 2559, 2559, 2559, 2559, 2559, 2559, 2559, 2559, 2559, 2559, 2559, 2559, 2559, 2559, 2559, 2559, 2559, 2559, 2559, 2559, 2559, 2559, 2559, 2559, 2559, 2559, 2559, 2559, 2559, 2559, 2559, 2559, 2559, 2560, 2560, 2560, 2561, 2561, 2561, 2561, 2561, 2561, 2561, 2561, 2561, 2561, 2564, 2564, 2565, 2565, 2565, 2565, 2565, 2565, 2565, 2565, 2565, 2565, 2566, 2566, 2566, 2566, 2566, 2566, 2566, 2569, 2570, 2570, 2570, 2570, 2570, 2570, 2572, 2572, 2572, 2572, 2572, 2572, 2572, 2572, 2572, 2572, 2574, 2574, 2574, 2574, 2574, 2574, 2574, 2574, 2574, 2574, 2574, 2574, 2574, 2574, 2574, 2574, 2574, 2574, 2574, 2574, 2574, 2574, 2574, 2574, 2574, 2574, 2574, 2574, 2574, 2574, 2574, 2574, 2574, 2574, 2574, 2574, 2574, 2574, 2574, 2574, 2574, 2574, 2574, 2576, 2577, 2577, 2577, 2577, 2577, 2577, 2578, 2578, 2578, 2578, 2578, 2578, 2578, 2578, 2578, 2578, 2578, 2578, 2578, 2578, 2580, 2583, 2583, 2583, 2583, 2583, 2583, 2583, 2583, 2586, 2586, 2586, 2586, 2586, 2586, 2586, 2586, 2588, 2588, 2588, 2588, 2588, 2588, 2588, 2588, 2588, 2588, 2588, 2589, 2589, 2589, 2589, 2589, 2589, 2589, 2589, 2589, 2589, 2589, 2590, 2590, 2590, 2590, 2590, 2590, 2590, 2590, 2590, 2590, 2590, 2590, 2590, 2590, 2590, 2590, 2590, 2590, 2590, 2590, 2590, 2590, 2590, 2590, 2590, 2590, 2590, 2590, 2590, 2590, 2590, 2590, 2590, 2590, 2590, 2590, 2590, 2590, 2590, 2590, 2590, 2590, 2591, 2591, 2591, 2591, 2591, 2591, 2592, 2592, 2592, 2592, 2592, 2592, 2592, 2592, 2592, 2592, 2592, 2592, 2592, 2592, 2592, 2592, 2592, 2592, 2592, 2592, 2592, 2592, 2592, 2592, 2592, 2592, 2592, 2595, 2595, 2595, 2595, 2595, 2595, 2595, 2595, 2596, 2596, 2596, 2596, 2596, 2596, 2596, 2596, 2596, 2596, 2596, 2596, 2596, 2596, 2596, 2596, 2596, 2596, 2596, 2596, 2596, 2596, 2596, 2596, 2596, 2596, 2596, 2596, 2596, 2596, 2596, 2596, 2596, 2596, 2596, 2596, 2596, 2596, 2596, 2596, 2596, 2596, 2596, 2596, 2596, 2596, 2596, 2596, 2596, 2596, 2596, 2596, 2596, 2596, 2598, 2598, 2600, 2600, 2601, 2601, 2601, 2601, 2601, 2601, 2601, 2603, 2603, 2603, 2603, 2603, 2603, 2603, 2603, 2603, 2603, 2605, 2606, 2606, 2606, 2606, 2606, 2606, 2606, 2606, 2606, 2606, 2606, 2606, 2606, 2606, 2606, 2606, 2610, 2610, 2610, 2610, 2610, 2613, 2613, 2613, 2613, 2613, 2613, 2613, 2613, 2613, 2613, 2613, 2613, 2613, 2615, 2615, 2615, 2615, 2615, 2619, 2619, 2619, 2619, 2619, 2619, 2619, 2619, 2619, 2619, 2619, 2619, 2619, 2620, 2620, 2621, 2621, 2621, 2621, 2622, 2622, 2622, 2622, 2622, 2622, 2622, 2622, 2622, 2622, 2623, 2623, 2624, 2624, 2624, 2624, 2624, 2624, 2624, 2624, 2624, 2624, 2624, 2624, 2624, 2624, 2624, 2624, 2624, 2624, 2624, 2624, 2624, 2624, 2624, 2624, 2626, 2627, 2631, 2631, 2637, 2637, 2637, 2637, 2637, 2637, 2637, 2637, 2640, 2641, 2641, 2641, 2641, 2641, 2641, 2641, 2642, 2642, 2642, 2642, 2642, 2642, 2642, 2642, 2642, 2642, 2642, 2642, 2642, 2642, 2642, 2642, 2642, 2642, 2642, 2642, 2642, 2642, 2642, 2642, 2642, 2642, 2642, 2642, 2642, 2642, 2642, 2642, 2642, 2642, 2642, 2642, 2642, 2642, 2642, 2642, 2642, 2642, 2642, 2642, 2642, 2642, 2642, 2643, 2643, 2643, 2643, 2643, 2643, 2643, 2643, 2643, 2643, 2644, 2644, 2644, 2644, 2644, 2644, 2644, 2646, 2647, 2648, 2648, 2648, 2648, 2648, 2648, 2648, 2648, 2648, 2648, 2648, 2648, 2648, 2648, 2648, 2648, 2648, 2648, 2648, 2648, 2648, 2648, 2648, 2648, 2648, 2648, 2648, 2648, 2648, 2648, 2648, 2651, 2652, 2653, 2653, 2653, 2653, 2653, 2653, 2653, 2654, 2655, 2655, 2655, 2655, 2655, 2655, 2655, 2655, 2655, 2655, 2655, 2655, 2655, 2655, 2655, 2655, 2655, 2655, 2655, 2655, 2655, 2655, 2655, 2655, 2655, 2657, 2657, 2657, 2657, 2657, 2657, 2657, 2657, 2657, 2657, 2657, 2657, 2657, 2657, 2657, 2657, 2657, 2657, 2657, 2657, 2657, 2657, 2657, 2657, 2657, 2658, 2658, 2658, 2658, 2658, 2658, 2658, 2658, 2658, 2658, 2658, 2659, 2659, 2659, 2660, 2660, 2660, 2660, 2661, 2661, 2662, 2662, 2662, 2662, 2662, 2663, 2663, 2663, 2663, 2663, 2663, 2663, 2663, 2663, 2663, 2663, 2663, 2663, 2663, 2663, 2663, 2663, 2663, 2663, 2663, 2663, 2663, 2663, 2663, 2663, 2663, 2663, 2663, 2663, 2663, 2663, 2663, 2663, 2663, 2663, 2663, 2664, 2664, 2664, 2664, 2664, 2664, 2664, 2664, 2664, 2664, 2664, 2664, 2664, 2665, 2665, 2665, 2665, 2665, 2666, 2666, 2666, 2666, 2666, 2666, 2666, 2666, 2666, 2666, 2666, 2666, 2666, 2666, 2666, 2666, 2666, 2666, 2666, 2666, 2666, 2666, 2666, 2666, 2666, 2666, 2666, 2666, 2666, 2667, 2667, 2667, 2667, 2667, 2667, 2667, 2669, 2669, 2669, 2669, 2669, 2669, 2669, 2669, 2669, 2669, 2669, 2669, 2669, 2669, 2669, 2669, 2669, 2669, 2669, 2669, 2669, 2669, 2669, 2670, 2672, 2672, 2672, 2672, 2672, 2672, 2674, 2674, 2674, 2674, 2674, 2674, 2674, 2674, 2674, 2674, 2674, 2674, 2674, 2674, 2674, 2674, 2674, 2674, 2674, 2674, 2674, 2674, 2674, 2674, 2674, 2675, 2675, 2677, 2677, 2677, 2677, 2677, 2677, 2678, 2678, 2678, 2678, 2678, 2678, 2678, 2679, 2679, 2679, 2682, 2682, 2682, 2682, 2682, 2682, 2683, 2683, 2683, 2683, 2683, 2683, 2683, 2683, 2683, 2685, 2686, 2686, 2686, 2686, 2686, 2687, 2688, 2688, 2688, 2689, 2689, 2689, 2689, 2689, 2689, 2689, 2690, 2690, 2692, 2692, 2692, 2692, 2692, 2692, 2692, 2692, 2692, 2692, 2692, 2692, 2692, 2692, 2692, 2692, 2692, 2692, 2692, 2692, 2692, 2692, 2692, 2692, 2692, 2692, 2692, 2692, 2692, 2692, 2693, 2693, 2693, 2693, 2693, 2693, 2693, 2695, 2695, 2695, 2695, 2695, 2695, 2695, 2697, 2698, 2698, 2698, 2698, 2698, 2698, 2698, 2698, 2698, 2701, 2702, 2702, 2702, 2702, 2702, 2702, 2702, 2702, 2707, 2709, 2709, 2709, 2709, 2709, 2709, 2709, 2709, 2709, 2709, 2709, 2709, 2709, 2709, 2709, 2709, 2711, 2711, 2711, 2711, 2715, 2715, 2715, 2715, 2715, 2715, 2715, 2715, 2715, 2715, 2715, 2715, 2715, 2715, 2715, 2715, 2715, 2715, 2715, 2715, 2715, 2715, 2715, 2715, 2715, 2715, 2715, 2715, 2716, 2716, 2716, 2716, 2716, 2716, 2717, 2717, 2717, 2717, 2717, 2717, 2717, 2717, 2717, 2717, 2717, 2719, 2719, 2719, 2719, 2719, 2719, 2719, 2719, 2719, 2719, 2719, 2719, 2719, 2719, 2719, 2719, 2719, 2719, 2719, 2719, 2719, 2719, 2719, 2719, 2719, 2719, 2719, 2719, 2719, 2719, 2719, 2719, 2719, 2719, 2720, 2720, 2720, 2721, 2722, 2722, 2723, 2723, 2725, 2725, 2725, 2725, 2725, 2725, 2725, 2725, 2725, 2725, 2725, 2725, 2725, 2725, 2725, 2725, 2725, 2725, 2726, 2728, 2729, 2729, 2729, 2729, 2729, 2729, 2729, 2729, 2729, 2729, 2730, 2730, 2730, 2730, 2730, 2730, 2730, 2730, 2730, 2730, 2731, 2733, 2733, 2733, 2734, 2734, 2734, 2734, 2734, 2734, 2734, 2734, 2734, 2734, 2734, 2734, 2734, 2734, 2734, 2734, 2734, 2734, 2734, 2734, 2734, 2734, 2734, 2734, 2734, 2734, 2734, 2734, 2734, 2734, 2734, 2734, 2734, 2734, 2734, 2734, 2734, 2734, 2734, 2734, 2734, 2734, 2734, 2734, 2734, 2734, 2734, 2734, 2734, 2734, 2734, 2734, 2734, 2734, 2734, 2734, 2734, 2735, 2735, 2735, 2735, 2735, 2735, 2735, 2735, 2735, 2736, 2736, 2736, 2736, 2736, 2736, 2736, 2736, 2736, 2736, 2736, 2736, 2736, 2736, 2736, 2736, 2736, 2736, 2736, 2736, 2736, 2738, 2738, 2738, 2738, 2738, 2738, 2738, 2738, 2738, 2738, 2738, 2738, 2738, 2738, 2740, 2740, 2741, 2741, 2741, 2742, 2742, 2742, 2742, 2742, 2742, 2742, 2742, 2742, 2742, 2742, 2742, 2742, 2742, 2742, 2743, 2744, 2746, 2746, 2747, 2750, 2750, 2750, 2750, 2750, 2751, 2751, 2751, 2751, 2751, 2751, 2751, 2751, 2751, 2751, 2751, 2751, 2751, 2751, 2751, 2751, 2751, 2751, 2751, 2752, 2752, 2752, 2752, 2752, 2752, 2752, 2752, 2752, 2752, 2753, 2753, 2753, 2753, 2754, 2755, 2755, 2755, 2755, 2756, 2756, 2756, 2756, 2756, 2757, 2757, 2759, 2759, 2759, 2761, 2764, 2764, 2764, 2764, 2764, 2764, 2764, 2764, 2764, 2764, 2764, 2764, 2764, 2764, 2764, 2764, 2764, 2764, 2765, 2765, 2765, 2765, 2766, 2766, 2766, 2766, 2766, 2766, 2766, 2766, 2766, 2766, 2766, 2766, 2766, 2766, 2766, 2766, 2767, 2767, 2767, 2767, 2767, 2767, 2767, 2767, 2767, 2767, 2767, 2767, 2767, 2767, 2767, 2767, 2767, 2767, 2767, 2767, 2767, 2767, 2767, 2767, 2767, 2767, 2767, 2767, 2767, 2767, 2767, 2767, 2767, 2767, 2767, 2767, 2767, 2767, 2767, 2767, 2767, 2767, 2767, 2767, 2767, 2767, 2767, 2767, 2768, 2768, 2768, 2768, 2768, 2768, 2769, 2769, 2769, 2769, 2769, 2769, 2769, 2769, 2769, 2769, 2769, 2769, 2769, 2769, 2769, 2769, 2769, 2769, 2769, 2769, 2769, 2769, 2769, 2770, 2770, 2770, 2770, 2770, 2770, 2773, 2773, 2773, 2773, 2773, 2773, 2773, 2773, 2773, 2773, 2773, 2774, 2774, 2774, 2774, 2774, 2774, 2774, 2774, 2774, 2774, 2774, 2774, 2774, 2774, 2774, 2774, 2774, 2774, 2774, 2774, 2774, 2774, 2774, 2774, 2774, 2774, 2774, 2775, 2775, 2775, 2776, 2776, 2776, 2776, 2776, 2776, 2776, 2776, 2776, 2776, 2777, 2777, 2779, 2779, 2779, 2779, 2779, 2779, 2779, 2779, 2779, 2779, 2779, 2779, 2779, 2779, 2779, 2779, 2779, 2779, 2779, 2779, 2779, 2779, 2780, 2780, 2780, 2780, 2780, 2780, 2780, 2780, 2785, 2785, 2785, 2785, 2787, 2787, 2787, 2787, 2787, 2787, 2787, 2788, 2788, 2788, 2788, 2788, 2788, 2788, 2788, 2788, 2788, 2788, 2788, 2788, 2788, 2788, 2788, 2788, 2788, 2788, 2788, 2788, 2788, 2788, 2788, 2788, 2788, 2788, 2788, 2788, 2788, 2788, 2788, 2788, 2788, 2788, 2788, 2788, 2788, 2788, 2788, 2788, 2788, 2789, 2789, 2789, 2789, 2789, 2789, 2789, 2789, 2789, 2790, 2790, 2790, 2791, 2791, 2791, 2791, 2791, 2791, 2791, 2791, 2791, 2791, 2791, 2791, 2791, 2791, 2791, 2791, 2791, 2791, 2791, 2791, 2791, 2791, 2791, 2791, 2791, 2791, 2791, 2791, 2791, 2791, 2791, 2791, 2791, 2791, 2791, 2791, 2791, 2791, 2791, 2791, 2791, 2791, 2791, 2791, 2791, 2791, 2792, 2792, 2792, 2792, 2792, 2792, 2793, 2793, 2793, 2793, 2793, 2793, 2793, 2793, 2793, 2793, 2793, 2793, 2793, 2793, 2793, 2793, 2793, 2793, 2793, 2795, 2795, 2795, 2795, 2795, 2795, 2795, 2796, 2797, 2797, 2797, 2797, 2797, 2797, 2799, 2799, 2799, 2799, 2799, 2799, 2799, 2799, 2799, 2799, 2799, 2799, 2799, 2799, 2799, 2799, 2800, 2800, 2800, 2800, 2800, 2801, 2801, 2801, 2801, 2801, 2801, 2801, 2801, 2801, 2801, 2801, 2801, 2801, 2801, 2801, 2801, 2801, 2801, 2801, 2801, 2802, 2802, 2802, 2802, 2802, 2802, 2802, 2802, 2803, 2803, 2803, 2803, 2803, 2803, 2803, 2803, 2803, 2803, 2803, 2803, 2803, 2803, 2803, 2803, 2803, 2803, 2803, 2803, 2803, 2803, 2803, 2803, 2803, 2804, 2804, 2804, 2804, 2804, 2804, 2804, 2804, 2804, 2804, 2804, 2805, 2805, 2805, 2805, 2807, 2807, 2807, 2807, 2807, 2807, 2807, 2807, 2807, 2807, 2807, 2807, 2807, 2807, 2807, 2807, 2807, 2807, 2807, 2807, 2807, 2807, 2807, 2807, 2807, 2807, 2807, 2807, 2807, 2807, 2807, 2807, 2807, 2807, 2807, 2807, 2807, 2807, 2807, 2807, 2807, 2807, 2807, 2807, 2808, 2808, 2808, 2808, 2808, 2808, 2808, 2808, 2808, 2808, 2808, 2808, 2808, 2808, 2808, 2808, 2808, 2808, 2808, 2808, 2808, 2808, 2808, 2808, 2808, 2809, 2809, 2809, 2809, 2809, 2809, 2809, 2809, 2809, 2809, 2809, 2810, 2810, 2810, 2810, 2810, 2810, 2810, 2810, 2810, 2810, 2810, 2810, 2810, 2810, 2810, 2810, 2810, 2810, 2810, 2810, 2810, 2810, 2810, 2810, 2810, 2810, 2810, 2810, 2810, 2810, 2810, 2810, 2810, 2810, 2810, 2810, 2811, 2811, 2811, 2811, 2811, 2811, 2811, 2811, 2816, 2816, 2816, 2816, 2816, 2816, 2816, 2817, 2817, 2817, 2818, 2818, 2818, 2818, 2818, 2818, 2818, 2818, 2818, 2818, 2818, 2818, 2818, 2818, 2818, 2818, 2819, 2819, 2819, 2819, 2819, 2819, 2819, 2819, 2819, 2819, 2819, 2819, 2819, 2819, 2819, 2819, 2819, 2819, 2819, 2819, 2819, 2819, 2819, 2819, 2819, 2819, 2819, 2819, 2819, 2819, 2819, 2823, 2823, 2823, 2823, 2823, 2823, 2823, 2823, 2823, 2823, 2823, 2823, 2823, 2823, 2823, 2823, 2823, 2823, 2823, 2823, 2823, 2823, 2823, 2824, 2824, 2824, 2824, 2824, 2824, 2824, 2824, 2824, 2824, 2824, 2824, 2824, 2824, 2824, 2824, 2824, 2824, 2824, 2824, 2824, 2824, 2824, 2824, 2824, 2824, 2824, 2824, 2824, 2824, 2824, 2824, 2824, 2824, 2824, 2824, 2824, 2824, 2824, 2824, 2824, 2824, 2825, 2825, 2825, 2825, 2825, 2825, 2825, 2825, 2825, 2827, 2827, 2827, 2827, 2827, 2827, 2827, 2827, 2828, 2828, 2828, 2828, 2828, 2828, 2828, 2828, 2828, 2828, 2828, 2828, 2828, 2828, 2828, 2828, 2831, 2831, 2831, 2831, 2831, 2832, 2832, 2832, 2832, 2832, 2833, 2833, 2833, 2833, 2833, 2835, 2835, 2835, 2835, 2835, 2835, 2835, 2837, 2837, 2837, 2837, 2837, 2837, 2837, 2837, 2837, 2837, 2837, 2837, 2837, 2837, 2837, 2837, 2837, 2837, 2837, 2837, 2837, 2837, 2837, 2837, 2837, 2837, 2837, 2837, 2837, 2838, 2838, 2838, 2838, 2838, 2838, 2838, 2838, 2838, 2839, 2842, 2842, 2842, 2843, 2843, 2843, 2843, 2843, 2843, 2843, 2843, 2843, 2843, 2843, 2843, 2843, 2843, 2843, 2843, 2843, 2843, 2843, 2843, 2847, 2847, 2847, 2847, 2847, 2847, 2847, 2847, 2847, 2847, 2847, 2847, 2847, 2847, 2847, 2847, 2847, 2847, 2847, 2847, 2847, 2847, 2847, 2847, 2847, 2847, 2847, 2847, 2847, 2847, 2847, 2847, 2847, 2847, 2847, 2847, 2847, 2847, 2847, 2847, 2847, 2847, 2847, 2848, 2849, 2852, 2853, 2853, 2853, 2853, 2853, 2853, 2853, 2853, 2853, 2853, 2853, 2853, 2853, 2853, 2853, 2853, 2853, 2853, 2853, 2853, 2853, 2853, 2853, 2853, 2855, 2855, 2855, 2856, 2856, 2856, 2856, 2856, 2856, 2856, 2858, 2858, 2858, 2858, 2858, 2858, 2858, 2858, 2858, 2858, 2858, 2858, 2858, 2858, 2858, 2858, 2858, 2858, 2858, 2858, 2858, 2858, 2858, 2858, 2858, 2858, 2858, 2858, 2859, 2859, 2859, 2859, 2859, 2859, 2863, 2863, 2863, 2863, 2863, 2863, 2863, 2864, 2864, 2864, 2864, 2864, 2864, 2864, 2864, 2864, 2864, 2864, 2864, 2864, 2864, 2864, 2864, 2864, 2864, 2864, 2864, 2864, 2864, 2864, 2864, 2864, 2864, 2864, 2864, 2864, 2864, 2864, 2864, 2864, 2864, 2864, 2864, 2864, 2864, 2864, 2869, 2869, 2869, 2869, 2869, 2869, 2869, 2869, 2869, 2869, 2869, 2869, 2869, 2869, 2869, 2869, 2869, 2869, 2869, 2869, 2869, 2869, 2869, 2869, 2869, 2869, 2869, 2869, 2869, 2870, 2870, 2870, 2870, 2870, 2870, 2870, 2870, 2870, 2870, 2870, 2870, 2870, 2870, 2870, 2870, 2870, 2870, 2870, 2870, 2870, 2870, 2870, 2870, 2870, 2870, 2870, 2870, 2870, 2870, 2870, 2870, 2870, 2870, 2870, 2870, 2870, 2870, 2870, 2872, 2872, 2872, 2872, 2872, 2872, 2872, 2872, 2872, 2872, 2872, 2872, 2872, 2872, 2872, 2872, 2872, 2872, 2872, 2872, 2872, 2872, 2872, 2872, 2872, 2872, 2872, 2872, 2872, 2872, 2872, 2872, 2874, 2874, 2876, 2876, 2876, 2876, 2876, 2876, 2876, 2876, 2876, 2876, 2876, 2876, 2876, 2876, 2876, 2876, 2876, 2876, 2876, 2876, 2876, 2876, 2878, 2878, 2878, 2878, 2878, 2878, 2878, 2878, 2878, 2878, 2878, 2878, 2878, 2878, 2878, 2878, 2878, 2878, 2878, 2878, 2878, 2878, 2878, 2878, 2878, 2878, 2878, 2878, 2878, 2878, 2878, 2878, 2878, 2878, 2878, 2879, 2880, 2880, 2880, 2880, 2880, 2881, 2881, 2881, 2883, 2883, 2883, 2883, 2883, 2883, 2883, 2883, 2883, 2883, 2883, 2883, 2883, 2883, 2883, 2883, 2884, 2884, 2884, 2884, 2884, 2884, 2884, 2884, 2884, 2884, 2884, 2884, 2884, 2884, 2884, 2884, 2884, 2885, 2885, 2885, 2885, 2885, 2886, 2886, 2886, 2886, 2886, 2886, 2886, 2886, 2887, 2887, 2887, 2887, 2887, 2887, 2887, 2887, 2887, 2887, 2887, 2887, 2887, 2887, 2887, 2888, 2890, 2890, 2890, 2890, 2890, 2890, 2893, 2893, 2893, 2893, 2893, 2893, 2893, 2893, 2893, 2893, 2893, 2893, 2893, 2893, 2896, 2896, 2896, 2896, 2896, 2896, 2897, 2897, 2897, 2897, 2897, 2897, 2897, 2897, 2897, 2897, 2897, 2898, 2900, 2900, 2901, 2901, 2902, 2902, 2906, 2906, 2906, 2906, 2906, 2906, 2906, 2906, 2906, 2906, 2906, 2906, 2906, 2906, 2906, 2906, 2906, 2907, 2907, 2907, 2907, 2907, 2907, 2907, 2909, 2909, 2909, 2909, 2909, 2909, 2909, 2909, 2909, 2909, 2909, 2909, 2909, 2909, 2909, 2909, 2910, 2910, 2910, 2910, 2910, 2910, 2910, 2910, 2910, 2910, 2911, 2911, 2911, 2911, 2911, 2911, 2912, 2912, 2912, 2914, 2914, 2914, 2916, 2917, 2917, 2919, 2919, 2919, 2919, 2919, 2919, 2919, 2919, 2919, 2919, 2919, 2919, 2919, 2921, 2921, 2921, 2921, 2921, 2921, 2921, 2921, 2921, 2921, 2921, 2921, 2921, 2921, 2921, 2921, 2921, 2921, 2921, 2921, 2921, 2921, 2921, 2921, 2921, 2921, 2921, 2921, 2921, 2921, 2921, 2921, 2921, 2921, 2921, 2921, 2921, 2921, 2921, 2921, 2921, 2921, 2921, 2921, 2921, 2921, 2921, 2921, 2921, 2921, 2925, 2925, 2925, 2925, 2930, 2930, 2931, 2932, 2932, 2932, 2932, 2933, 2933, 2933, 2933, 2933, 2933, 2933, 2933, 2933, 2933, 2933, 2933, 2933, 2933, 2933, 2933, 2933, 2933, 2933, 2933, 2933, 2933, 2933, 2933, 2933, 2933, 2933, 2933, 2933, 2933, 2933, 2933, 2933, 2933, 2933, 2933, 2933, 2933, 2933, 2933, 2933, 2933, 2933, 2933, 2933, 2933, 2933, 2933, 2933, 2933, 2933, 2933, 2933, 2933, 2933, 2933, 2933, 2933, 2933, 2933, 2933, 2933, 2933, 2933, 2933, 2933, 2933, 2933, 2933, 2933, 2933, 2933, 2933, 2933, 2933, 2933, 2933, 2933, 2933, 2933, 2937, 2939, 2939, 2939, 2939, 2939, 2939, 2939, 2942, 2942, 2942, 2942, 2942, 2942, 2942, 2942, 2942, 2942, 2946, 2946, 2946, 2946, 2946, 2946, 2946, 2946, 2946, 2946, 2946, 2946, 2946, 2946, 2946, 2947, 2947, 2947, 2947, 2947, 2947, 2947, 2947, 2947, 2947, 2947, 2947, 2947, 2947, 2947, 2947, 2947, 2947, 2947, 2947, 2947, 2947, 2947, 2947, 2947, 2947, 2947, 2947, 2947, 2947, 2947, 2947, 2947, 2947, 2947, 2947, 2947, 2947, 2947, 2947, 2947, 2947, 2948, 2950, 2950, 2950, 2950, 2950, 2950, 2950, 2950, 2950, 2950, 2950, 2950, 2950, 2950, 2950, 2950, 2950, 2950, 2950, 2950, 2950, 2950, 2952, 2952, 2952, 2952, 2952, 2952, 2952, 2952, 2952, 2952, 2952, 2952, 2952, 2952, 2952, 2952, 2952, 2952, 2952, 2953, 2954, 2954, 2954, 2956, 2956, 2956, 2956, 2956, 2958, 2958, 2958, 2958, 2958, 2958, 2958, 2958, 2959, 2959, 2960, 2960, 2960, 2960, 2960, 2960, 2960, 2960, 2960, 2960, 2960, 2960, 2960, 2960, 2960, 2960, 2960, 2960, 2960, 2960, 2961, 2961, 2961, 2961, 2961, 2961, 2961, 2961, 2961, 2961, 2961, 2961, 2961, 2961, 2961, 2961, 2961, 2965, 2968, 2969, 2971, 2971, 2971, 2971, 2973, 2973, 2973, 2973, 2973, 2973, 2973, 2977, 2977, 2977, 2977, 2977, 2977, 2977, 2977, 2977, 2977, 2977, 2977, 2977, 2977, 2978, 2978, 2979, 2980, 2980, 2980, 2980, 2980, 2980, 2981, 2981, 2981, 2981, 2981, 2981, 2981, 2984, 2985, 2985, 2985, 2985, 2985, 2985, 2985, 2985, 2985, 2987, 2987, 2987, 2987, 2987, 2989, 2989, 2993, 2993, 2993, 2993, 2993, 2993, 2993, 2993, 2993, 2993, 2993, 2993, 2993, 2993, 2993, 2993, 2993, 2993, 2993, 2993, 2993, 2994, 2994, 2994, 2994, 2994, 2994, 2994, 2994, 2994, 2994, 2994, 2994, 2994, 2994, 2994, 2994, 2994, 2994, 2994, 2994, 2994, 2994, 2994, 2994, 2994, 2994, 2994, 2994, 2994, 2994, 2994, 2994, 2994, 2994, 2994, 2994, 2994, 2994, 2994, 2994, 2994, 2994, 2994, 2994, 2994, 2994, 2994, 2994, 2994, 2994, 2994, 2994, 2994, 2994, 2994, 2994, 2994, 2994, 2994, 2994, 2994, 2994, 2994, 2994, 2994, 2994, 2994, 2994, 2994, 2994, 2994, 2994, 2994, 2994, 2994, 2994, 2994, 2994, 2994, 2994, 2994, 2994, 2994, 2994, 2994, 2994, 2994, 2994, 2994, 2994, 2996, 2996, 2996, 2996, 2996, 2996, 2996, 2996, 2996, 2996, 2996, 2996, 2996, 2996, 2996, 2996, 2996, 2996, 2996, 2996, 2996, 2996, 2996, 2996, 2996, 2996, 2996, 2996, 2996, 2996, 2996, 2996, 2997, 2997, 2998, 2999, 3000, 3000, 3000, 3000, 3000, 3000, 3000, 3000, 3000, 3000, 3000, 3000, 3000, 3000, 3000, 3000, 3000, 3000, 3000, 3000, 3000, 3000, 3000, 3000, 3000, 3000, 3000, 3000, 3000, 3000, 3000, 3000, 3000, 3000, 3000, 3000, 3000, 3000, 3000, 3000, 3000, 3000, 3000, 3000, 3000, 3000, 3000, 3000, 3000, 3000, 3000, 3000, 3000, 3000, 3000, 3001, 3001, 3004, 3004, 3004, 3004, 3004, 3004, 3004, 3004, 3004, 3004, 3004, 3004, 3004, 3004, 3004, 3004, 3004, 3004, 3005, 3005, 3005, 3005, 3005, 3005, 3005, 3005, 3005, 3005, 3006, 3010, 3010, 3010, 3010, 3010, 3010, 3010, 3010, 3011, 3011, 3011, 3011, 3011, 3011, 3011, 3011, 3011, 3011, 3011, 3012, 3012, 3012, 3012, 3012, 3012, 3012, 3012, 3013, 3013, 3013, 3013, 3013, 3013, 3013, 3013, 3013, 3013, 3015, 3015, 3015, 3015, 3015, 3015, 3015, 3016, 3016, 3016, 3016, 3016, 3016, 3016, 3016, 3016, 3016, 3016, 3016, 3016, 3016, 3016, 3016, 3016, 3016, 3016, 3016, 3016, 3016, 3016, 3016, 3016, 3016, 3016, 3016, 3016, 3016, 3016, 3016, 3016, 3016, 3016, 3016, 3016, 3016, 3016, 3016, 3016, 3016, 3016, 3016, 3016, 3016, 3018, 3018, 3018, 3018, 3018, 3019, 3019, 3019, 3020, 3020, 3020, 3020, 3020, 3020, 3020, 3020, 3020, 3020, 3020, 3020, 3020, 3020, 3020, 3020, 3021, 3022, 3022, 3022, 3022, 3022, 3022, 3022, 3022, 3022, 3022, 3022, 3022, 3022, 3022, 3022, 3023, 3023, 3023, 3023, 3023, 3023, 3023, 3023, 3023, 3023, 3023, 3023, 3023, 3023, 3023, 3023, 3023, 3023, 3023, 3023, 3023, 3023, 3023, 3023, 3023, 3023, 3023, 3023, 3023, 3023, 3023, 3023, 3023, 3023, 3023, 3023, 3023, 3023, 3023, 3023, 3023, 3026, 3026, 3026, 3026, 3026, 3026, 3026, 3026, 3026, 3026, 3026, 3026, 3026, 3026, 3026, 3026, 3026, 3026, 3026, 3026, 3026, 3026, 3026, 3026, 3026, 3026, 3026, 3026, 3026, 3026, 3027, 3027, 3027, 3027, 3027, 3027, 3027, 3027, 3027, 3031, 3031, 3031, 3031, 3031, 3031, 3031, 3031, 3031, 3031, 3031, 3031, 3031, 3031, 3031, 3031, 3031, 3031, 3032, 3032, 3032, 3032, 3032, 3032, 3032, 3033, 3033, 3033, 3033, 3033, 3033, 3033, 3033, 3033, 3033, 3033, 3033, 3033, 3033, 3033, 3033, 3033, 3033, 3033, 3033, 3033, 3033, 3033, 3033, 3033, 3036, 3036, 3037, 3037, 3037, 3037, 3037, 3037, 3037, 3037, 3037, 3037, 3037, 3037, 3037, 3037, 3037, 3037, 3037, 3037, 3037, 3037, 3037, 3037, 3039, 3039, 3039, 3041, 3041, 3041, 3041, 3041, 3041, 3041, 3041, 3041, 3041, 3041, 3041, 3041, 3041, 3043, 3043, 3043, 3043, 3043, 3043, 3043, 3043, 3043, 3043, 3043, 3043, 3043, 3043, 3043, 3043, 3043, 3043, 3043, 3047, 3047, 3047, 3047, 3047, 3047, 3047, 3047, 3047, 3047, 3047, 3047, 3047, 3047, 3047, 3047, 3047, 3047, 3047, 3047, 3047, 3047, 3047, 3047, 3047, 3047, 3047, 3047, 3047, 3047, 3047, 3047, 3047, 3047, 3047, 3047, 3047, 3047, 3047, 3047, 3047, 3047, 3047, 3047, 3047, 3047, 3047, 3048, 3048, 3048, 3048, 3048, 3051, 3051, 3051, 3053, 3053, 3053, 3059, 3059, 3059, 3059, 3059, 3059, 3061, 3061, 3061, 3061, 3061, 3061, 3061, 3061, 3061, 3061, 3061, 3061, 3061, 3061, 3061, 3061, 3061, 3061, 3061, 3061, 3061, 3061, 3061, 3061, 3061, 3061, 3061, 3061, 3061, 3061, 3061, 3062, 3062, 3062, 3062, 3062, 3062, 3062, 3062, 3062, 3062, 3063, 3063, 3063, 3063, 3063, 3063, 3063, 3063, 3063, 3063, 3063, 3063, 3065, 3065, 3065, 3065, 3065, 3065, 3065, 3065, 3065, 3065, 3065, 3065, 3065, 3065, 3065, 3065, 3065, 3065, 3065, 3065, 3065, 3065, 3065, 3065, 3065, 3065, 3065, 3065, 3065, 3065, 3065, 3065, 3068, 3068, 3068, 3068, 3068, 3068, 3068, 3068, 3068, 3068, 3068, 3068, 3068, 3068, 3068, 3068, 3068, 3068, 3068, 3068, 3068, 3068, 3068, 3068, 3068, 3068, 3068, 3068, 3068, 3068, 3068, 3069, 3069, 3069, 3069, 3069, 3069, 3069, 3069, 3070, 3070, 3070, 3070, 3070, 3072, 3073, 3073, 3073, 3073, 3073, 3073, 3073, 3073, 3073, 3073, 3073, 3073, 3073, 3073, 3073, 3073, 3073, 3073, 3075, 3075, 3075, 3076, 3076, 3076, 3076, 3076, 3076, 3076, 3076, 3076, 3076, 3076, 3076, 3076, 3076, 3076, 3077, 3077, 3077, 3077, 3077, 3078, 3078, 3078, 3078, 3078, 3078, 3078, 3078, 3078, 3078, 3078, 3078, 3078, 3078, 3078, 3078, 3078, 3078, 3078, 3079, 3079, 3080, 3080, 3080, 3083, 3083, 3083, 3083, 3083, 3083, 3083, 3083, 3083, 3083, 3085, 3085, 3085, 3085, 3085, 3085, 3085, 3086, 3086, 3086, 3086, 3086, 3086, 3087, 3087, 3087, 3087, 3087, 3087, 3087, 3087, 3087, 3087, 3087, 3087, 3087, 3087, 3087, 3087, 3087, 3087, 3087, 3087, 3087, 3087, 3087, 3088, 3088, 3088, 3088, 3088, 3088, 3088, 3088, 3088, 3088, 3090, 3090, 3091, 3091, 3091, 3091, 3091, 3091, 3091, 3093, 3093, 3094, 3094, 3094, 3097, 3097, 3097, 3097, 3097, 3097, 3097, 3097, 3097, 3097, 3097, 3098, 3098, 3099, 3099, 3099, 3101, 3101, 3101, 3101, 3101, 3101, 3101, 3101, 3101, 3101, 3101, 3101, 3101, 3101, 3101, 3101, 3101, 3101, 3101, 3101, 3101, 3101, 3101, 3101, 3101, 3101, 3101, 3101, 3101, 3101, 3101, 3101, 3101, 3101, 3102, 3103, 3103, 3103, 3103, 3103, 3103, 3103, 3103, 3103, 3103, 3103, 3103, 3103, 3103, 3103, 3103, 3103, 3103, 3103, 3103, 3103, 3103, 3103, 3103, 3103, 3103, 3103, 3103, 3103, 3103, 3103, 3103, 3103, 3103, 3103, 3103, 3103, 3103, 3103, 3103, 3103, 3103, 3103, 3103, 3103, 3104, 3104, 3104, 3104, 3104, 3104, 3104, 3104, 3104, 3104, 3105, 3105, 3105, 3105, 3105, 3105, 3105, 3105, 3105, 3105, 3105, 3105, 3107, 3107, 3107, 3107, 3107, 3109, 3109, 3109, 3109, 3109, 3109, 3109, 3109, 3109, 3109, 3109, 3109, 3109, 3109, 3109, 3109, 3109, 3109, 3109, 3109, 3109, 3109, 3109, 3109, 3109, 3109, 3109, 3112, 3112, 3112, 3112, 3112, 3112, 3112, 3114, 3114, 3114, 3114, 3114, 3114, 3114, 3114, 3114, 3114, 3114, 3114, 3114, 3114, 3114, 3117, 3117, 3117, 3117, 3117, 3117, 3117, 3117, 3117, 3117, 3117, 3117, 3117, 3117, 3117, 3117, 3117, 3117, 3117, 3117, 3117, 3117, 3117, 3117, 3117, 3117, 3117, 3117, 3117, 3117, 3117, 3117, 3117, 3117, 3117, 3117, 3117, 3117, 3117, 3117, 3117, 3117, 3117, 3117, 3117, 3117, 3117, 3117, 3117, 3117, 3117, 3117, 3117, 3117, 3117, 3117, 3117, 3117, 3117, 3117, 3117, 3117, 3117, 3117, 3118, 3120, 3120, 3120, 3120, 3120, 3120, 3120, 3120, 3120, 3121, 3121, 3121, 3122, 3122, 3122, 3122, 3122, 3122, 3122, 3122, 3123, 3123, 3123, 3123, 3123, 3123, 3123, 3123, 3123, 3123, 3123, 3123, 3123, 3123, 3124, 3124, 3124, 3124, 3124, 3124, 3124, 3124, 3124, 3124, 3124, 3127, 3127, 3127, 3128, 3128, 3128, 3128, 3128, 3128, 3128, 3128, 3128, 3128, 3128, 3128, 3128, 3128, 3130, 3130, 3130, 3130, 3132, 3132, 3132, 3132, 3132, 3132, 3132, 3132, 3132, 3132, 3132, 3132, 3132, 3132, 3132, 3133, 3133, 3135, 3135, 3135, 3135, 3136, 3136, 3136, 3136, 3136, 3136, 3136, 3136, 3136, 3136, 3136, 3136, 3138, 3138, 3138, 3138, 3138, 3138, 3138, 3138, 3138, 3138, 3138, 3138, 3138, 3138, 3138, 3138, 3138, 3138, 3138, 3138, 3138, 3138, 3138, 3138, 3138, 3141, 3141, 3142, 3142, 3142, 3142, 3142, 3142, 3142, 3142, 3142, 3143, 3143, 3143, 3143, 3143, 3143, 3143, 3143, 3143, 3143, 3143, 3143, 3143, 3143, 3143, 3143, 3143, 3143, 3143, 3143, 3143, 3143, 3143, 3143, 3143, 3143, 3143, 3143, 3143, 3143, 3143, 3143, 3143, 3143, 3143, 3143, 3143, 3143, 3145, 3145, 3145, 3145, 3145, 3145, 3145, 3147, 3147, 3147, 3147, 3147, 3147, 3147, 3147, 3147, 3147, 3147, 3147, 3147, 3147, 3147, 3147, 3147, 3147, 3147, 3147, 3147, 3147, 3147, 3147, 3147, 3147, 3147, 3147, 3147, 3147, 3147, 3147, 3147, 3147, 3147, 3147, 3147, 3147, 3147, 3147, 3147, 3147, 3147, 3149, 3149, 3150, 3150, 3150, 3152, 3153, 3153, 3153, 3153, 3153, 3153, 3153, 3154, 3154, 3154, 3154, 3154, 3154, 3154, 3154, 3154, 3154, 3154, 3156, 3156, 3156, 3156, 3156, 3156, 3156, 3156, 3156, 3157, 3158, 3158, 3158, 3159, 3160, 3160, 3162, 3162, 3165, 3165, 3165, 3165, 3165, 3165, 3165, 3166, 3166, 3166, 3166, 3166, 3166, 3166, 3166, 3166, 3166, 3166, 3166, 3166, 3166, 3166, 3166, 3166, 3166, 3166, 3166, 3166, 3166, 3166, 3166, 3166, 3166, 3166, 3166, 3166, 3166, 3166, 3166, 3166, 3166, 3166, 3166, 3166, 3166, 3166, 3166, 3166, 3167, 3167, 3167, 3169, 3169, 3169, 3169, 3169, 3169, 3169, 3169, 3169, 3169, 3169, 3169, 3169, 3169, 3169, 3169, 3169, 3169, 3169, 3169, 3169, 3169, 3169, 3169, 3169, 3169, 3169, 3169, 3169, 3169, 3169, 3169, 3169, 3169, 3169, 3169, 3169, 3169, 3169, 3169, 3169, 3169, 3170, 3170, 3170, 3170, 3170, 3170, 3170, 3170, 3170, 3172, 3172, 3172, 3173, 3173, 3173, 3173, 3173, 3173, 3173, 3177, 3177, 3177, 3177, 3177, 3177, 3177, 3177, 3177, 3177, 3178, 3178, 3179, 3179, 3179, 3179, 3179, 3179, 3179, 3179, 3179, 3179, 3179, 3179, 3180, 3181, 3182, 3182, 3182, 3182, 3185, 3185, 3185, 3185, 3185, 3185, 3185, 3185, 3185, 3185, 3185, 3185, 3185, 3185, 3185, 3185, 3185, 3185, 3187, 3187, 3187, 3187, 3187, 3187, 3187, 3187, 3187, 3188, 3188, 3188, 3188, 3189, 3189, 3189, 3192, 3192, 3192, 3192, 3192, 3192, 3192, 3192, 3192, 3192, 3192, 3192, 3192, 3192, 3192, 3193, 3193, 3196, 3196, 3197, 3197, 3197, 3197, 3197, 3197, 3199, 3200, 3200, 3200, 3200, 3200, 3200, 3200, 3200, 3200, 3200, 3200, 3200, 3200, 3200, 3200, 3200, 3200, 3200, 3200, 3200, 3200, 3200, 3200, 3200, 3200, 3200, 3200, 3200, 3200, 3200, 3200, 3200, 3200, 3202, 3202, 3202, 3202, 3202, 3202, 3202, 3202, 3202, 3202, 3202, 3203, 3203, 3203, 3203, 3203, 3205, 3205, 3205, 3205, 3205, 3205, 3205, 3205, 3205, 3205, 3205, 3205, 3205, 3205, 3205, 3205, 3205, 3205, 3205, 3205, 3205, 3205, 3205, 3205, 3205, 3205, 3205, 3205, 3205, 3205, 3205, 3205, 3205, 3205, 3205, 3205, 3205, 3205, 3205, 3205, 3205, 3205, 3205, 3206, 3206, 3206, 3206, 3206, 3206, 3206, 3206, 3206, 3206, 3206, 3206, 3206, 3206, 3206, 3206, 3206, 3206, 3206, 3206, 3206, 3206, 3206, 3206, 3206, 3206, 3206, 3206, 3208, 3208, 3208, 3208, 3208, 3208, 3208, 3208, 3208, 3208, 3208, 3208, 3208, 3208, 3208, 3209, 3209, 3209, 3209, 3209, 3209, 3209, 3209, 3209, 3209, 3209, 3209, 3209, 3211, 3211, 3211, 3211, 3211, 3211, 3211, 3211, 3211, 3211, 3211, 3211, 3211, 3211, 3211, 3211, 3211, 3211, 3212, 3212, 3212, 3212, 3212, 3212, 3212, 3212, 3213, 3213, 3213, 3213, 3213, 3213, 3213, 3213, 3215, 3215, 3215, 3215, 3215, 3215, 3215, 3216, 3216, 3216, 3216, 3216, 3216, 3216, 3216, 3216, 3216, 3216, 3216, 3216, 3216, 3216, 3216, 3216, 3216, 3216, 3216, 3216, 3216, 3216, 3216, 3216, 3216, 3216, 3216, 3216, 3216, 3216, 3216, 3217, 3217, 3217, 3217, 3217, 3217, 3217, 3217, 3217, 3217, 3217, 3217, 3218, 3218, 3218, 3218, 3218, 3218, 3218, 3219, 3220, 3220, 3220, 3220, 3220, 3220, 3220, 3220, 3222, 3222, 3222, 3222, 3222, 3222, 3222, 3222, 3222, 3222, 3222, 3222, 3222, 3222, 3222, 3222, 3222, 3222, 3222, 3222, 3222, 3222, 3222, 3222, 3224, 3224, 3224, 3224, 3224, 3224, 3224, 3224, 3224, 3224, 3224, 3224, 3224, 3224, 3224, 3224, 3224, 3224, 3224, 3224, 3224, 3224, 3224, 3226, 3226, 3226, 3226, 3226, 3226, 3226, 3226, 3226, 3226, 3226, 3226, 3226, 3226, 3227, 3227, 3227, 3227, 3227, 3227, 3227, 3227, 3227, 3227, 3227, 3227, 3227, 3227, 3227, 3227, 3227, 3227, 3227, 3227, 3227, 3227, 3227, 3227, 3227, 3227, 3227, 3227, 3227, 3227, 3227, 3227, 3227, 3228, 3228, 3228, 3228, 3228, 3228, 3232, 3232, 3232, 3232, 3232, 3232, 3232, 3232, 3232, 3232, 3232, 3232, 3232, 3232, 3232, 3232, 3232, 3232, 3232, 3232, 3232, 3232, 3232, 3232, 3232, 3232, 3232, 3232, 3232, 3232, 3232, 3232, 3232, 3232, 3232, 3232, 3232, 3232, 3232, 3232, 3232, 3232, 3232, 3232, 3232, 3232, 3232, 3232, 3232, 3232, 3232, 3232, 3232, 3232, 3232, 3232, 3232, 3232, 3232, 3232, 3232, 3232, 3232, 3232, 3232, 3232, 3232, 3233, 3233, 3233, 3233, 3233, 3233, 3233, 3233, 3233, 3233, 3233, 3233, 3233, 3233, 3233, 3233, 3233, 3233, 3233, 3233, 3233, 3233, 3233, 3237, 3237, 3237, 3237, 3237, 3237, 3237, 3237, 3237, 3237, 3237, 3237, 3237, 3238, 3238, 3242, 3244, 3244, 3244, 3244, 3244, 3245, 3245, 3246, 3246, 3246, 3246, 3246, 3247, 3247, 3247, 3247, 3247, 3247, 3247, 3247, 3247, 3247, 3248, 3248, 3248, 3248, 3248, 3248, 3248, 3248, 3248, 3248, 3248, 3248, 3248, 3248, 3248, 3248, 3248, 3248, 3248, 3248, 3248, 3248, 3248, 3248, 3248, 3248, 3248, 3248, 3248, 3248, 3248, 3248, 3248, 3248, 3248, 3248, 3248, 3248, 3248, 3248, 3248, 3248, 3248, 3249, 3249, 3249, 3249, 3249, 3249, 3249, 3249, 3249, 3249, 3249, 3249, 3249, 3249, 3249, 3249, 3249, 3249, 3249, 3249, 3249, 3249, 3249, 3249, 3249, 3249, 3249, 3249, 3249, 3249, 3249, 3249, 3249, 3249, 3252, 3252, 3252, 3252, 3252, 3252, 3252, 3252, 3252, 3252, 3252, 3252, 3252, 3254, 3254, 3254, 3254, 3256, 3256, 3256, 3256, 3256, 3256, 3258, 3258, 3258, 3265, 3265, 3265, 3265, 3265, 3265, 3265, 3266, 3266, 3266, 3267, 3267, 3267, 3267, 3267, 3267, 3267, 3267, 3267, 3267, 3267, 3267, 3267, 3267, 3267, 3267, 3267, 3267, 3267, 3267, 3267, 3267, 3267, 3270, 3270, 3270, 3270, 3270, 3270, 3270, 3270, 3270, 3270, 3270, 3270, 3270, 3270, 3270, 3270, 3270, 3270, 3270, 3270, 3270, 3270, 3270, 3270, 3271, 3271, 3271, 3271, 3271, 3274, 3274, 3274, 3274, 3274, 3274, 3274, 3274, 3274, 3274, 3275, 3275, 3275, 3275, 3276, 3276, 3276, 3276, 3276, 3276, 3276, 3276, 3276, 3279, 3279, 3279, 3279, 3279, 3279, 3279, 3279, 3279, 3279, 3279, 3279, 3279, 3279, 3279, 3279, 3279, 3279, 3280, 3280, 3280, 3280, 3280, 3280, 3280, 3280, 3280, 3280, 3280, 3280, 3280, 3280, 3280, 3280, 3280, 3283, 3283, 3283, 3283, 3283, 3283, 3283, 3283, 3283, 3283, 3283, 3283, 3283, 3283, 3283, 3283, 3283, 3283, 3283, 3283, 3283, 3283, 3283, 3283, 3283, 3283, 3283, 3283, 3283, 3283, 3283, 3283, 3283, 3283, 3283, 3283, 3283, 3283, 3283, 3283, 3283, 3283, 3283, 3283, 3283, 3283, 3283, 3283, 3283, 3283, 3283, 3283, 3283, 3283, 3289, 3289, 3289, 3289, 3289, 3289, 3289, 3290, 3290, 3290, 3291, 3291, 3291, 3291, 3291, 3291, 3291, 3291, 3291, 3291, 3291, 3291, 3291, 3291, 3291, 3291, 3291, 3291, 3291, 3291, 3291, 3291, 3291, 3291, 3292, 3292, 3292, 3292, 3292, 3292, 3292, 3292, 3292, 3292, 3292, 3292, 3292, 3292, 3292, 3292, 3292, 3292, 3292, 3292, 3292, 3292, 3292, 3293, 3293, 3293, 3293, 3293, 3293, 3293, 3296, 3296, 3296, 3296, 3296, 3296, 3296, 3296, 3296, 3296, 3296, 3296, 3296, 3296, 3296, 3296, 3296, 3296, 3296, 3296, 3296, 3296, 3296, 3296, 3296, 3296, 3296, 3296, 3296, 3296, 3296, 3296, 3296, 3296, 3296, 3296, 3296, 3296, 3296, 3296, 3296, 3296, 3296, 3296, 3298, 3298, 3298, 3298, 3298, 3298, 3298, 3300, 3300, 3300, 3300, 3301, 3301, 3301, 3301, 3301, 3301, 3301, 3301, 3301, 3301, 3301, 3301, 3301, 3301, 3301, 3301, 3301, 3301, 3301, 3301, 3301, 3301, 3301, 3301, 3301, 3301, 3301, 3301, 3302, 3302, 3303, 3303, 3304, 3304, 3304, 3304, 3304, 3304, 3304, 3304, 3304, 3304, 3304, 3304, 3304, 3304, 3304, 3304, 3304, 3304, 3304, 3304, 3304, 3304, 3304, 3304, 3304, 3304, 3304, 3304, 3304, 3304, 3305, 3305, 3306, 3307, 3307, 3307, 3307, 3307, 3307, 3309, 3309, 3309, 3309, 3309, 3309, 3309, 3309, 3309, 3309, 3309, 3309, 3309, 3309, 3309, 3309, 3309, 3309, 3309, 3310, 3311, 3311, 3311, 3311, 3311, 3311, 3311, 3311, 3311, 3311, 3311, 3311, 3311, 3311, 3311, 3311, 3311, 3311, 3311, 3313, 3313, 3313, 3314, 3314, 3316, 3316, 3316, 3316, 3318, 3318, 3318, 3318, 3320, 3320, 3320, 3320, 3320, 3320, 3320, 3320, 3320, 3320, 3322, 3322, 3322, 3322, 3322, 3322, 3323, 3323, 3323, 3323, 3323, 3323, 3323, 3323, 3323, 3323, 3323, 3323, 3323, 3323, 3326, 3326, 3326, 3326, 3326, 3326, 3326, 3326, 3326, 3326, 3326, 3326, 3326, 3326, 3326, 3326, 3326, 3326, 3326, 3326, 3326, 3326, 3326, 3326, 3326, 3326, 3326, 3326, 3327, 3327, 3327, 3328, 3328, 3328, 3328, 3328, 3328, 3328, 3328, 3328, 3328, 3328, 3328, 3328, 3328, 3328, 3328, 3328, 3328, 3329, 3329, 3329, 3329, 3329, 3329, 3329, 3329, 3329, 3329, 3332, 3332, 3332, 3332, 3332, 3332, 3332, 3332, 3332, 3332, 3332, 3332, 3332, 3337, 3337, 3337, 3337, 3337, 3337, 3337, 3337, 3338, 3338, 3338, 3338, 3340, 3340, 3341, 3342, 3342, 3342, 3342, 3342, 3342, 3342, 3342, 3342, 3343, 3343, 3345, 3345, 3345, 3346, 3346, 3346, 3347, 3347, 3347, 3347, 3347, 3347, 3347, 3347, 3347, 3347, 3347, 3347, 3347, 3347, 3347, 3349, 3350, 3350, 3350, 3350, 3350, 3352, 3352, 3352, 3352, 3352, 3352, 3352, 3352, 3352, 3352, 3352, 3354, 3354, 3354, 3354, 3354, 3354, 3354, 3354, 3354, 3354, 3354, 3354, 3354, 3354, 3354, 3354, 3354, 3354, 3354, 3354, 3355, 3355, 3355, 3355, 3355, 3355, 3355, 3355, 3355, 3355, 3355, 3355, 3355, 3355, 3356, 3356, 3356, 3356, 3356, 3356, 3356, 3356, 3356, 3356, 3356, 3356, 3356, 3356, 3356, 3356, 3356, 3356, 3356, 3356, 3356, 3357, 3357, 3357, 3357, 3357, 3357, 3357, 3357, 3357, 3357, 3358, 3358, 3358, 3358, 3359, 3359, 3359, 3361, 3361, 3361, 3361, 3361, 3361, 3361, 3361, 3361, 3361, 3361, 3362, 3362, 3362, 3362, 3362, 3362, 3362, 3362, 3362, 3362, 3362, 3362, 3362, 3362, 3362, 3362, 3362, 3362, 3362, 3362, 3362, 3362, 3362, 3362, 3362, 3362, 3362, 3362, 3362, 3362, 3362, 3362, 3362, 3362, 3362, 3362, 3362, 3362, 3362, 3362, 3362, 3362, 3362, 3362, 3362, 3362, 3363, 3363, 3363, 3363, 3363, 3363, 3363, 3363, 3363, 3363, 3363, 3363, 3363, 3363, 3363, 3363, 3363, 3363, 3363, 3368, 3369, 3369, 3369, 3369, 3369, 3369, 3369, 3369, 3369, 3369, 3369, 3369, 3369, 3369, 3369, 3369, 3369, 3369, 3369, 3370, 3370, 3370, 3370, 3370, 3370, 3370, 3370, 3370, 3370, 3370, 3370, 3370, 3370, 3371, 3371, 3371, 3371, 3371, 3371, 3371, 3371, 3371, 3371, 3371, 3371, 3371, 3371, 3371, 3371, 3371, 3371, 3372, 3374, 3374, 3374, 3374, 3374, 3374, 3374, 3374, 3374, 3374, 3374, 3374, 3374, 3374, 3376, 3378, 3378, 3378, 3378, 3379, 3380, 3380, 3380, 3380, 3380, 3380, 3380, 3380, 3382, 3382, 3382, 3382, 3382, 3382, 3382, 3382, 3382, 3382, 3383, 3385, 3385, 3385, 3385, 3385, 3385, 3385, 3385, 3385, 3385, 3385, 3387, 3387, 3387, 3387, 3387, 3387, 3387, 3387, 3388, 3388, 3388, 3388, 3389, 3389, 3389, 3389, 3389, 3389, 3389, 3389, 3389, 3389, 3389, 3389, 3389, 3390, 3391, 3391, 3391, 3394, 3395, 3395, 3395, 3396, 3396, 3397, 3397, 3397, 3397, 3397, 3397, 3397, 3397, 3397, 3397, 3397, 3397, 3397, 3397, 3397, 3397, 3397, 3397, 3397, 3397, 3397, 3397, 3397, 3397, 3397, 3397, 3397, 3397, 3397, 3397, 3397, 3397, 3397, 3397, 3397, 3401, 3401, 3401, 3401, 3401, 3401, 3401, 3401, 3401, 3401, 3401, 3401, 3402, 3402, 3402, 3402, 3402, 3402, 3402, 3402, 3402, 3402, 3402, 3402, 3402, 3402, 3402, 3402, 3402, 3402, 3402, 3402, 3402, 3402, 3402, 3402, 3402, 3402, 3402, 3402, 3402, 3402, 3404, 3405, 3405, 3405, 3405, 3409, 3410, 3410, 3410, 3410, 3410, 3410, 3410, 3410, 3410, 3410, 3410, 3410, 3410, 3410, 3410, 3410, 3410, 3410, 3410, 3410, 3410, 3410, 3410, 3410, 3410, 3412, 3412, 3412, 3412, 3412, 3412, 3412, 3412, 3412, 3412, 3412, 3413, 3413, 3413, 3413, 3413, 3413, 3413, 3413, 3413, 3413, 3413, 3413, 3413, 3413, 3413, 3415, 3415, 3415, 3415, 3417, 3417, 3417, 3417, 3417, 3417, 3417, 3417, 3417, 3417, 3417, 3417, 3417, 3417, 3417, 3417, 3417, 3417, 3417, 3417, 3417, 3417, 3417, 3417, 3417, 3417, 3417, 3417, 3417, 3417, 3417, 3418, 3418, 3418, 3418, 3418, 3418, 3418, 3418, 3418, 3418, 3418, 3418, 3418, 3418, 3418, 3418, 3418, 3418, 3418, 3418, 3418, 3418, 3418, 3418, 3418, 3418, 3418, 3418, 3418, 3418, 3418, 3418, 3419, 3419, 3419, 3419, 3419, 3421, 3421, 3421, 3421, 3422, 3422, 3422, 3422, 3422, 3422, 3422, 3422, 3422, 3422, 3422, 3422, 3422, 3423, 3423, 3423, 3423, 3423, 3423, 3423, 3423, 3423, 3423, 3423, 3423, 3423, 3423, 3423, 3423, 3423, 3423, 3423, 3423, 3423, 3423, 3423, 3423, 3423, 3423, 3423, 3423, 3423, 3423, 3423, 3423, 3423, 3423, 3423, 3423, 3423, 3423, 3423, 3423, 3423, 3423, 3423, 3423, 3423, 3423, 3424, 3424, 3425, 3425, 3425, 3425, 3425, 3425, 3425, 3425, 3425, 3425, 3425, 3426, 3426, 3426, 3426, 3426, 3426, 3426, 3426, 3426, 3426, 3428, 3428, 3428, 3428, 3429, 3429, 3429, 3429, 3429, 3429, 3429, 3429, 3429, 3429, 3429, 3429, 3429, 3429, 3429, 3429, 3429, 3429, 3429, 3429, 3429, 3429, 3429, 3429, 3430, 3430, 3430, 3433, 3433, 3433, 3433, 3433, 3433, 3433, 3433, 3433, 3433, 3433, 3433, 3433, 3433, 3433, 3433, 3433, 3434, 3434, 3434, 3434, 3434, 3434, 3434, 3434, 3434, 3434, 3434, 3434, 3434, 3434, 3434, 3434, 3434, 3434, 3434, 3434, 3434, 3434, 3435, 3435, 3435, 3435, 3437, 3437, 3437, 3437, 3437, 3437, 3437, 3437, 3437, 3437, 3437, 3437, 3437, 3437, 3437, 3437, 3437, 3437, 3437, 3437, 3437, 3437, 3437, 3437, 3437, 3437, 3437, 3437, 3437, 3437, 3437, 3437, 3437, 3437, 3437, 3437, 3437, 3437, 3437, 3437, 3438, 3440, 3440, 3440, 3442, 3442, 3442, 3442, 3444, 3444, 3444, 3444, 3444, 3444, 3444, 3444, 3444, 3444, 3445, 3445, 3445, 3445, 3445, 3445, 3445, 3445, 3445, 3445, 3445, 3445, 3445, 3445, 3445, 3445, 3446, 3446, 3446, 3446, 3446, 3446, 3446, 3446, 3446, 3446, 3446, 3446, 3446, 3446, 3446, 3446, 3447, 3447, 3447, 3447, 3447, 3447, 3451, 3451, 3451, 3451, 3451, 3451, 3451, 3451, 3451, 3451, 3451, 3451, 3451, 3451, 3451, 3451, 3451, 3451, 3451, 3451, 3451, 3451, 3451, 3451, 3451, 3451, 3451, 3451, 3451, 3451, 3451, 3452, 3452, 3452, 3452, 3452, 3452, 3452, 3452, 3452, 3452, 3453, 3453, 3453, 3453, 3453, 3453, 3453, 3453, 3453, 3453, 3453, 3453, 3453, 3453, 3453, 3453, 3453, 3453, 3453, 3453, 3453, 3453, 3453, 3453, 3453, 3453, 3453, 3453, 3453, 3453, 3453, 3453, 3454, 3454, 3454, 3454, 3454, 3454, 3454, 3456, 3456, 3456, 3456, 3458, 3458, 3458, 3461, 3461, 3461, 3461, 3461, 3461, 3461, 3461, 3461, 3463, 3463, 3463, 3463, 3463, 3465, 3465, 3465, 3465, 3465, 3465, 3465, 3465, 3465, 3465, 3465, 3465, 3465, 3465, 3466, 3466, 3466, 3466, 3466, 3466, 3466, 3466, 3466, 3466, 3466, 3466, 3466, 3466, 3466, 3466, 3466, 3466, 3466, 3466, 3466, 3466, 3466, 3466, 3466, 3471, 3471, 3471, 3472, 3472, 3472, 3472, 3472, 3472, 3472, 3472, 3472, 3472, 3472, 3472, 3472, 3472, 3472, 3472, 3472, 3472, 3472, 3472, 3472, 3472, 3474, 3474, 3474, 3474, 3474, 3474, 3475, 3475, 3477, 3477, 3477, 3477, 3477, 3477, 3477, 3477, 3477, 3477, 3477, 3477, 3477, 3477, 3477, 3477, 3478, 3478, 3478, 3478, 3478, 3478, 3478, 3478, 3478, 3478, 3478, 3478, 3478, 3478, 3478, 3478, 3478, 3478, 3478, 3478, 3479, 3479, 3479, 3479, 3479, 3479, 3479, 3479, 3479, 3479, 3479, 3479, 3479, 3479, 3479, 3479, 3479, 3479, 3479, 3479, 3479, 3479, 3479, 3479, 3479, 3479, 3479, 3483, 3483, 3483, 3483, 3483, 3484, 3484, 3485, 3485, 3485, 3485, 3485, 3485, 3485, 3485, 3485, 3485, 3485, 3485, 3485, 3485, 3485, 3485, 3485, 3485, 3485, 3485, 3485, 3485, 3486, 3486, 3486, 3486, 3486, 3486, 3486, 3486, 3486, 3486, 3486, 3486, 3487, 3487, 3487, 3487, 3488, 3488, 3488, 3488, 3488, 3488, 3488, 3488, 3488, 3488, 3488, 3488, 3488, 3488, 3488, 3488, 3488, 3488, 3488, 3488, 3488, 3488, 3488, 3488, 3488, 3488, 3488, 3488, 3488, 3489, 3489, 3489, 3489, 3489, 3489, 3489, 3489, 3489, 3489, 3489, 3489, 3489, 3489, 3491, 3491, 3491, 3491, 3491, 3491, 3491, 3491, 3492, 3492, 3492, 3492, 3492, 3493, 3493, 3494, 3494, 3494, 3494, 3494, 3496, 3496, 3496, 3496, 3496, 3496, 3496, 3496, 3496, 3496, 3496, 3496, 3496, 3496, 3496, 3496, 3496, 3496, 3496, 3496, 3496, 3496, 3496, 3496, 3496, 3496, 3496, 3496, 3498, 3498, 3498, 3498, 3498, 3498, 3498, 3498, 3498, 3498, 3498, 3498, 3498, 3498, 3498, 3498, 3498, 3498, 3498, 3498, 3498, 3498, 3498, 3499, 3499, 3499, 3499, 3499, 3499, 3499, 3499, 3499, 3500, 3500, 3500, 3500, 3501, 3501, 3502, 3502, 3503, 3504, 3504, 3504, 3504, 3504, 3504, 3504, 3504, 3504, 3504, 3504, 3504, 3504, 3504, 3504, 3504, 3504, 3504, 3504, 3504, 3505, 3505, 3506, 3506, 3506, 3506, 3507, 3507, 3510, 3510, 3510, 3510, 3510, 3510, 3510, 3510, 3517, 3517, 3517, 3517, 3517, 3517, 3517, 3517, 3517, 3517, 3517, 3517, 3517, 3517, 3517, 3517, 3517, 3517, 3517, 3517, 3517, 3517, 3517, 3517, 3517, 3517, 3517, 3517, 3517, 3517, 3517, 3517, 3517, 3517, 3517, 3517, 3517, 3517, 3517, 3517, 3517, 3517, 3517, 3517, 3517, 3517, 3517, 3517, 3517, 3518, 3518, 3519, 3521, 3521, 3521, 3521, 3521, 3521, 3521, 3521, 3521, 3521, 3521, 3521, 3521, 3521, 3521, 3521, 3521, 3521, 3521, 3521, 3521, 3521, 3521, 3521, 3521, 3522, 3522, 3522, 3522, 3526, 3526, 3526, 3526, 3527, 3527, 3527, 3527, 3527, 3527, 3529, 3529, 3529, 3529, 3529, 3529, 3529, 3529, 3529, 3529, 3529, 3529, 3529, 3531, 3531, 3531, 3531, 3531, 3531, 3531, 3531, 3531, 3531, 3531, 3531, 3532, 3532, 3532, 3532, 3532, 3532, 3532, 3532, 3532, 3532, 3532, 3532, 3533, 3535, 3535, 3537, 3537, 3537, 3537, 3537, 3539, 3539, 3539, 3539, 3539, 3539, 3539, 3539, 3539, 3539, 3542, 3542, 3543, 3543, 3543, 3543, 3543, 3543, 3543, 3543, 3543, 3544, 3544, 3544, 3544, 3544, 3544, 3544, 3544, 3544, 3547, 3547, 3547, 3547, 3547, 3547, 3547, 3547, 3547, 3547, 3547, 3547, 3547, 3547, 3547, 3547, 3547, 3547, 3547, 3547, 3547, 3547, 3547, 3547, 3547, 3547, 3547, 3547, 3547, 3547, 3547, 3547, 3547, 3547, 3547, 3547, 3547, 3548, 3548, 3548, 3548, 3548, 3548, 3548, 3548, 3548, 3548, 3548, 3548, 3548, 3548, 3548, 3548, 3548, 3548, 3548, 3548, 3548, 3548, 3548, 3551, 3551, 3551, 3551, 3551, 3551, 3551, 3552, 3553, 3553, 3553, 3553, 3553, 3553, 3554, 3554, 3554, 3554, 3554, 3554, 3554, 3554, 3554, 3554, 3554, 3554, 3554, 3554, 3554, 3554, 3554, 3554, 3554, 3557, 3557, 3557, 3557, 3557, 3557, 3557, 3557, 3557, 3557, 3557, 3557, 3557, 3557, 3557, 3557, 3557, 3557, 3557, 3557, 3557, 3557, 3557, 3557, 3557, 3557, 3557, 3557, 3558, 3558, 3558, 3558, 3558, 3558, 3558, 3558, 3558, 3558, 3560, 3560, 3560, 3560, 3560, 3560, 3560, 3560, 3560, 3560, 3560, 3560, 3560, 3562, 3562, 3562, 3562, 3562, 3562, 3562, 3562, 3562, 3562, 3562, 3562, 3562, 3562, 3562, 3562, 3562, 3562, 3562, 3562, 3562, 3563, 3565, 3565, 3565, 3565, 3567, 3570, 3570, 3570, 3570, 3570, 3570, 3570, 3570, 3570, 3570, 3570, 3570, 3570, 3570, 3570, 3570, 3570, 3570, 3570, 3570, 3570, 3570, 3570, 3570, 3570, 3570, 3570, 3570, 3573, 3573, 3573, 3573, 3573, 3574, 3574, 3574, 3574, 3574, 3574, 3574, 3574, 3574, 3574, 3574, 3574, 3574, 3574, 3574, 3574, 3574, 3574, 3574, 3574, 3574, 3574, 3574, 3574, 3574, 3574, 3574, 3574, 3574, 3574, 3574, 3574, 3574, 3575, 3575, 3575, 3575, 3575, 3575, 3575, 3575, 3575, 3575, 3575, 3575, 3575, 3578, 3578, 3578, 3578, 3578, 3578, 3578, 3578, 3578, 3578, 3579, 3579, 3579, 3579, 3579, 3581, 3581, 3581, 3581, 3581, 3581, 3582, 3582, 3583, 3583, 3583, 3583, 3583, 3583, 3583, 3584, 3584, 3584, 3584, 3584, 3584, 3584, 3584, 3587, 3587, 3587, 3587, 3587, 3587, 3587, 3589, 3589, 3589, 3589, 3589, 3589, 3589, 3589, 3589, 3590, 3590, 3594, 3594, 3594, 3594, 3594, 3594, 3594, 3594, 3594, 3594, 3594, 3594, 3594, 3594, 3594, 3594, 3594, 3594, 3594, 3594, 3594, 3594, 3594, 3595, 3595, 3595, 3595, 3595, 3595, 3595, 3595, 3595, 3595, 3595, 3595, 3595, 3596, 3596, 3596, 3596, 3596, 3596, 3596, 3596, 3596, 3596, 3596, 3596, 3596, 3596, 3596, 3596, 3596, 3596, 3596, 3596, 3596, 3596, 3596, 3597, 3597, 3597, 3597, 3597, 3598, 3598, 3598, 3602, 3602, 3602, 3602, 3604, 3604, 3604, 3605, 3605, 3605, 3605, 3607, 3607, 3607, 3607, 3607, 3608, 3608, 3608, 3608, 3608, 3608, 3608, 3610, 3610, 3610, 3611, 3611, 3611, 3611, 3611, 3611, 3611, 3611, 3611, 3611, 3611, 3611, 3611, 3611, 3611, 3611, 3611, 3611, 3611, 3611, 3611, 3611, 3611, 3611, 3611, 3611, 3611, 3611, 3611, 3612, 3612, 3612, 3612, 3612, 3612, 3612, 3612, 3612, 3612, 3612, 3612, 3612, 3612, 3612, 3612, 3612, 3612, 3612, 3612, 3616, 3617, 3617, 3617, 3617, 3617, 3617, 3617, 3617, 3617, 3617, 3618, 3618, 3618, 3618, 3618, 3618, 3618, 3618, 3618, 3618, 3618, 3618, 3618, 3618, 3618, 3619, 3619, 3619, 3619, 3619, 3619, 3619, 3619, 3619, 3619, 3619, 3619, 3619, 3619, 3619, 3619, 3619, 3619, 3619, 3619, 3619, 3619, 3619, 3619, 3619, 3619, 3619, 3621, 3621, 3621, 3621, 3621, 3621, 3622, 3622, 3624, 3628, 3628, 3628, 3628, 3628, 3628, 3628, 3628, 3628, 3628, 3628, 3628, 3628, 3628, 3628, 3628, 3628, 3628, 3628, 3628, 3628, 3628, 3628, 3628, 3628, 3628, 3628, 3629, 3629, 3629, 3629, 3629, 3629, 3629, 3629, 3630, 3630, 3630, 3630, 3630, 3630, 3630, 3630, 3630, 3630, 3630, 3630, 3630, 3630, 3630, 3630, 3630, 3630, 3630, 3630, 3630, 3630, 3630, 3630, 3630, 3630, 3630, 3630, 3630, 3630, 3630, 3630, 3630, 3630, 3630, 3630, 3630, 3630, 3630, 3631, 3631, 3631, 3631, 3631, 3631, 3631, 3631, 3631, 3631, 3631, 3631, 3631, 3631, 3632, 3632, 3632, 3632, 3632, 3632, 3632, 3632, 3632, 3632, 3632, 3632, 3632, 3632, 3632, 3632, 3633, 3633, 3633, 3636, 3636, 3636, 3637, 3637, 3637, 3637, 3637, 3637, 3637, 3637, 3637, 3637, 3637, 3637, 3637, 3637, 3637, 3637, 3637, 3637, 3637, 3637, 3637, 3639, 3639, 3639, 3639, 3639, 3639, 3639, 3639, 3639, 3639, 3639, 3639, 3639, 3640, 3640, 3640, 3640, 3640, 3640, 3640, 3640, 3640, 3640, 3640, 3640, 3640, 3640, 3640, 3640, 3640, 3640, 3640, 3640, 3640, 3640, 3640, 3640, 3640, 3640, 3640, 3640, 3640, 3641, 3641, 3641, 3641, 3641, 3641, 3643, 3643, 3643, 3643, 3643, 3643, 3643, 3643, 3643, 3643, 3643, 3643, 3643, 3643, 3643, 3644, 3644, 3644, 3644, 3644, 3644, 3644, 3644, 3644, 3644, 3644, 3644, 3644, 3644, 3645, 3646, 3646, 3646, 3646, 3646, 3646, 3650, 3650, 3650, 3650, 3650, 3650, 3650, 3650, 3650, 3650, 3650, 3650, 3650, 3650, 3650, 3650, 3650, 3650, 3650, 3650, 3650, 3650, 3650, 3650, 3650, 3650, 3650, 3650, 3650, 3650, 3650, 3650, 3650, 3651, 3651, 3651, 3654, 3654, 3654, 3654, 3654, 3654, 3654, 3654, 3654, 3654, 3654, 3654, 3654, 3654, 3654, 3654, 3654, 3654, 3654, 3654, 3654, 3654, 3654, 3654, 3654, 3655, 3655, 3655, 3655, 3655, 3655, 3655, 3655, 3655, 3655, 3655, 3655, 3655, 3655, 3655, 3655, 3655, 3655, 3655, 3655, 3655, 3655, 3655, 3655, 3655, 3655, 3655, 3655, 3655, 3655, 3655, 3656, 3656, 3657, 3657, 3657, 3657, 3657, 3657, 3657, 3657, 3657, 3657, 3657, 3657, 3657, 3657, 3657, 3657, 3657, 3657, 3657, 3657, 3657, 3660, 3660, 3660, 3660, 3660, 3660, 3660, 3660, 3660, 3660, 3660, 3660, 3660, 3660, 3660, 3660, 3660, 3660, 3660, 3660, 3660, 3660, 3660, 3660, 3660, 3660, 3660, 3660, 3660, 3660, 3660, 3660, 3660, 3660, 3660, 3660, 3660, 3660, 3664, 3664, 3664, 3664, 3664, 3664, 3664, 3664, 3664, 3664, 3664, 3664, 3664, 3664, 3664, 3664, 3664, 3664, 3664, 3666, 3667, 3668, 3668, 3669, 3669, 3669, 3669, 3669, 3669, 3669, 3669, 3669, 3669, 3669, 3669, 3669, 3669, 3669, 3669, 3669, 3669, 3669, 3669, 3672, 3673, 3673, 3673, 3673, 3673, 3673, 3673, 3673, 3673, 3673, 3673, 3673, 3673, 3673, 3673, 3673, 3673, 3673, 3673, 3673, 3673, 3673, 3673, 3673, 3673, 3673, 3673, 3673, 3673, 3673, 3673, 3673, 3673, 3673, 3673, 3673, 3673, 3675, 3675, 3676, 3677, 3677, 3677, 3677, 3678, 3678, 3678, 3678, 3678, 3678, 3679, 3679, 3680, 3680, 3680, 3680, 3680, 3680, 3680, 3681, 3681, 3681, 3681, 3683, 3683, 3684, 3684, 3684, 3684, 3684, 3684, 3684, 3684, 3684, 3684, 3684, 3684, 3684, 3684, 3684, 3684, 3684, 3684, 3684, 3684, 3684, 3684, 3684, 3684, 3684, 3684, 3684, 3684, 3684, 3684, 3684, 3684, 3684, 3684, 3684, 3684, 3684, 3684, 3684, 3684, 3684, 3684, 3684, 3684, 3684, 3685, 3685, 3686, 3686, 3686, 3686, 3687, 3688, 3688, 3688, 3688, 3688, 3688, 3688, 3691, 3691, 3691, 3691, 3692, 3692, 3693, 3693, 3693, 3693, 3693, 3693, 3693, 3693, 3693, 3693, 3693, 3693, 3693, 3693, 3693, 3693, 3693, 3693, 3693, 3693, 3693, 3694, 3694, 3694, 3694, 3694, 3695, 3696, 3696, 3696, 3696, 3696, 3696, 3696, 3696, 3696, 3696, 3696, 3696, 3696, 3696, 3696, 3696, 3696, 3696, 3696, 3696, 3696, 3696, 3697, 3697, 3697, 3699, 3699, 3699, 3699, 3699, 3699, 3699, 3699, 3699, 3699, 3699, 3699, 3700, 3700, 3700, 3703, 3703, 3703, 3703, 3703, 3703, 3703, 3703, 3703, 3703, 3703, 3703, 3703, 3703, 3703, 3703, 3703, 3703, 3703, 3703, 3703, 3703, 3703, 3703, 3703, 3703, 3703, 3703, 3703, 3704, 3704, 3704, 3705, 3705, 3705, 3705, 3705, 3706, 3706, 3706, 3706, 3706, 3706, 3706, 3706, 3706, 3706, 3706, 3706, 3706, 3706, 3706, 3706, 3706, 3706, 3706, 3706, 3706, 3706, 3706, 3706, 3706, 3706, 3706, 3706, 3706, 3706, 3706, 3706, 3706, 3706, 3706, 3706, 3706, 3706, 3707, 3708, 3708, 3708, 3708, 3708, 3708, 3708, 3708, 3708, 3708, 3708, 3708, 3708, 3708, 3708, 3708, 3708, 3708, 3708, 3708, 3708, 3708, 3708, 3708, 3708, 3708, 3708, 3708, 3708, 3708, 3710, 3710, 3710, 3711, 3711, 3711, 3711, 3712, 3712, 3712, 3712, 3712, 3712, 3712, 3712, 3712, 3712, 3712, 3712, 3712, 3712, 3712, 3712, 3712, 3712, 3712, 3712, 3712, 3713, 3713, 3713, 3713, 3713, 3713, 3713, 3713, 3713, 3713, 3714, 3714, 3714, 3718, 3718, 3718, 3718, 3718, 3718, 3718, 3718, 3718, 3718, 3718, 3718, 3718, 3718, 3718, 3718, 3718, 3718, 3718, 3718, 3718, 3718, 3718, 3718, 3718, 3718, 3718, 3720, 3720, 3721, 3722, 3722, 3722, 3727, 3728, 3728, 3728, 3728, 3728, 3728, 3728, 3728, 3728, 3728, 3728, 3728, 3728, 3728, 3729, 3729, 3730, 3730, 3730, 3730, 3731, 3731, 3731, 3731, 3731, 3731, 3731, 3731, 3731, 3731, 3731, 3731, 3731, 3731, 3731, 3731, 3731, 3731, 3731, 3731, 3732, 3732, 3732, 3732, 3732, 3732, 3732, 3732, 3732, 3732, 3732, 3732, 3732, 3734, 3735, 3737, 3737, 3737, 3737, 3737, 3737, 3737, 3737, 3737, 3737, 3737, 3737, 3737, 3737, 3737, 3737, 3737, 3738, 3738, 3738, 3738, 3738, 3739, 3739, 3741, 3741, 3741, 3741, 3741, 3741, 3743, 3743, 3744, 3744, 3744, 3744, 3744, 3744, 3744, 3744, 3744, 3744, 3744, 3744, 3744, 3744, 3744, 3744, 3744, 3744, 3744, 3744, 3745, 3745, 3745, 3745, 3745, 3745, 3745, 3745, 3745, 3745, 3745, 3745, 3745, 3745, 3745, 3745, 3745, 3745, 3745, 3745, 3745, 3745, 3745, 3745, 3745, 3745, 3745, 3745, 3745, 3745, 3746, 3746, 3746, 3746, 3746, 3746, 3746, 3746, 3746, 3746, 3746, 3746, 3746, 3746, 3746, 3746, 3746, 3746, 3746, 3746, 3746, 3746, 3746, 3746, 3746, 3746, 3746, 3746, 3746, 3746, 3746, 3746, 3746, 3746, 3746, 3746, 3746, 3746, 3746, 3746, 3746, 3746, 3746, 3746, 3748, 3748, 3748, 3748, 3748, 3749, 3749, 3749, 3749, 3749, 3750, 3750, 3751, 3751, 3751, 3751, 3751, 3751, 3751, 3751, 3751, 3751, 3751, 3751, 3751, 3751, 3751, 3751, 3752, 3752, 3752, 3752, 3752, 3752, 3754, 3754, 3754, 3754, 3754, 3754, 3754, 3754, 3754, 3754, 3754, 3754, 3754, 3754, 3754, 3754, 3754, 3754, 3754, 3754, 3754, 3756, 3756, 3756, 3756, 3756, 3756, 3756, 3756, 3756, 3756, 3756, 3758, 3759, 3759, 3760, 3760, 3760, 3760, 3761, 3761, 3762, 3762, 3762, 3762, 3762, 3762, 3762, 3762, 3762, 3762, 3762, 3762, 3762, 3762, 3762, 3762, 3762, 3762, 3762, 3762, 3762, 3762, 3762, 3762, 3762, 3762, 3762, 3762, 3762, 3762, 3763, 3763, 3763, 3763, 3763, 3763, 3763, 3763, 3763, 3763, 3763, 3763, 3763, 3763, 3763, 3763, 3764, 3764, 3764, 3764, 3764, 3764, 3764, 3764, 3765, 3765, 3765, 3765, 3765, 3766, 3766, 3766, 3766, 3766, 3766, 3766, 3766, 3766, 3766, 3766, 3766, 3766, 3766, 3766, 3766, 3766, 3766, 3766, 3766, 3766, 3766, 3766, 3766, 3766, 3766, 3766, 3769, 3769, 3769, 3769, 3769, 3769, 3769, 3769, 3769, 3769, 3769, 3769, 3769, 3773, 3773, 3773, 3773, 3773, 3773, 3774, 3774, 3774, 3774, 3774, 3774, 3774, 3774, 3774, 3774, 3774, 3774, 3774, 3774, 3774, 3774, 3774, 3774, 3774, 3774, 3774, 3774, 3774, 3774, 3774, 3774, 3774, 3774, 3774, 3774, 3774, 3774, 3774, 3774, 3774, 3774, 3774, 3778, 3778, 3780, 3780, 3780, 3780, 3780, 3780, 3780, 3780, 3780, 3780, 3780, 3780, 3780, 3780, 3780, 3780, 3783, 3783, 3783, 3783, 3783, 3783, 3785, 3785, 3785, 3785, 3785, 3785, 3785, 3785, 3785, 3785, 3785, 3785, 3788, 3788, 3788, 3788, 3788, 3788, 3788, 3788, 3788, 3788, 3789, 3790, 3790, 3790, 3790, 3790, 3790, 3790, 3790, 3790, 3790, 3790, 3790, 3790, 3790, 3790, 3790, 3790, 3790, 3790, 3790, 3790, 3790, 3791, 3791, 3791, 3791, 3791, 3791, 3794, 3796, 3796, 3796, 3796, 3796, 3796, 3796, 3796, 3796, 3796, 3796, 3796, 3796, 3796, 3796, 3796, 3796, 3796, 3796, 3796, 3796, 3796, 3796, 3796, 3796, 3796, 3796, 3796, 3796, 3798, 3798, 3798, 3798, 3799, 3799, 3801, 3801, 3801, 3801, 3801, 3801, 3801, 3801, 3801, 3801, 3802, 3803, 3803, 3803, 3803, 3803, 3803, 3803, 3803, 3803, 3803, 3803, 3803, 3803, 3803, 3803, 3803, 3803, 3803, 3803, 3803, 3803, 3803, 3803, 3803, 3803, 3803, 3803, 3803, 3803, 3803, 3803, 3803, 3803, 3803, 3804, 3804, 3804, 3804, 3804, 3804, 3804, 3804, 3804, 3804, 3804, 3804, 3804, 3804, 3804, 3804, 3804, 3804, 3804, 3804, 3804, 3805, 3805, 3805, 3805, 3805, 3805, 3806, 3808, 3808, 3808, 3808, 3808, 3808, 3808, 3808, 3808, 3808, 3808, 3808, 3808, 3808, 3808, 3808, 3808, 3808, 3808, 3808, 3808, 3808, 3808, 3809, 3809, 3809, 3809, 3809, 3812, 3812, 3812, 3812, 3812, 3812, 3812, 3812, 3812, 3812, 3813, 3814, 3818, 3818, 3818, 3818, 3818, 3818, 3818, 3818, 3818, 3818, 3818, 3818, 3818, 3818, 3818, 3818, 3818, 3818, 3818, 3818, 3818, 3818, 3818, 3818, 3820, 3820, 3820, 3820, 3820, 3820, 3820, 3820, 3820, 3820, 3820, 3820, 3820, 3820, 3820, 3820, 3820, 3820, 3820, 3820, 3820, 3820, 3820, 3820, 3820, 3820, 3820, 3820, 3820, 3820, 3821, 3821, 3821, 3821, 3821, 3821, 3821, 3821, 3821, 3821, 3821, 3821, 3821, 3821, 3821, 3821, 3821, 3821, 3821, 3821, 3821, 3822, 3822, 3822, 3823, 3823, 3823, 3823, 3824, 3824, 3824, 3824, 3824, 3824, 3824, 3824, 3824, 3824, 3824, 3826, 3826, 3827, 3827, 3827, 3827, 3827, 3827, 3827, 3827, 3827, 3827, 3827, 3827, 3827, 3827, 3827, 3827, 3827, 3827, 3827, 3827, 3827, 3827, 3827, 3827, 3827, 3827, 3827, 3830, 3831, 3831, 3832, 3832, 3832, 3832, 3832, 3832, 3832, 3832, 3832, 3832, 3834, 3834, 3834, 3834, 3835, 3835, 3835, 3835, 3835, 3835, 3835, 3835, 3835, 3835, 3835, 3835, 3835, 3835, 3835, 3835, 3835, 3835, 3835, 3835, 3835, 3835, 3835, 3836, 3836, 3838, 3838, 3838, 3838, 3838, 3838, 3838, 3838, 3838, 3838, 3838, 3838, 3838, 3838, 3838, 3838, 3838, 3838, 3838, 3838, 3840, 3844, 3844, 3845, 3845, 3845, 3845, 3846, 3846, 3846, 3846, 3846, 3846, 3846, 3846, 3846, 3846, 3846, 3846, 3846, 3846, 3849, 3850, 3850, 3850, 3850, 3850, 3850, 3850, 3850, 3850, 3850, 3850, 3852, 3852, 3852, 3852, 3853, 3853, 3853, 3853, 3853, 3853, 3854, 3855, 3855, 3855, 3855, 3855, 3855, 3855, 3855, 3855, 3855, 3855, 3856, 3857, 3857, 3857, 3857, 3857, 3857, 3860, 3860, 3860, 3860, 3860, 3860, 3860, 3860, 3860, 3861, 3861, 3861, 3862, 3862, 3862, 3862, 3862, 3865, 3865, 3865, 3865, 3866, 3866, 3866, 3866, 3866, 3866, 3866, 3866, 3866, 3867, 3867, 3867, 3867, 3867, 3867, 3867, 3867, 3867, 3867, 3867, 3867, 3867, 3868, 3872, 3872, 3872, 3872, 3873, 3873, 3873, 3873, 3873, 3873, 3873, 3873, 3873, 3873, 3875, 3875, 3875, 3875, 3875, 3875, 3875, 3875, 3875, 3875, 3875, 3875, 3875, 3875, 3875, 3875, 3875, 3875, 3875, 3875, 3875, 3875, 3875, 3876, 3876, 3876, 3876, 3876, 3876, 3876, 3876, 3876, 3876, 3876, 3876, 3876, 3876, 3876, 3877, 3877, 3878, 3878, 3878, 3878, 3879, 3879, 3879, 3879, 3879, 3879, 3879, 3879, 3879, 3879, 3879, 3879, 3879, 3879, 3879, 3879, 3879, 3879, 3879, 3879, 3879, 3879, 3879, 3879, 3879, 3879, 3879, 3879, 3879, 3879, 3879, 3879, 3879, 3879, 3879, 3879, 3879, 3879, 3879, 3879, 3879, 3879, 3879, 3879, 3879, 3879, 3879, 3879, 3879, 3879, 3879, 3879, 3879, 3879, 3879, 3879, 3879, 3879, 3879, 3879, 3879, 3879, 3879, 3879, 3879, 3879, 3879, 3879, 3879, 3879, 3879, 3879, 3879, 3879, 3879, 3879, 3879, 3879, 3879, 3879, 3879, 3879, 3879, 3879, 3879, 3880, 3880, 3880, 3880, 3880, 3880, 3880, 3880, 3880, 3880, 3880, 3880, 3880, 3880, 3880, 3880, 3880, 3880, 3880, 3880, 3880, 3880, 3880, 3880, 3880, 3881, 3881, 3881, 3881, 3881, 3881, 3881, 3881, 3881, 3881, 3881, 3881, 3881, 3881, 3881, 3881, 3881, 3881, 3881, 3882, 3883, 3883, 3884, 3884, 3884, 3884, 3886, 3886, 3886, 3886, 3886, 3886, 3886, 3887, 3887, 3888, 3888, 3888, 3888, 3888, 3888, 3888, 3888, 3889, 3889, 3889, 3889, 3889, 3889, 3889, 3889, 3889, 3889, 3889, 3889, 3889, 3889, 3889, 3889, 3889, 3889, 3889, 3889, 3889, 3889, 3889, 3889, 3889, 3889, 3889, 3889, 3889, 3889, 3889, 3889, 3889, 3889, 3889, 3889, 3889, 3889, 3889, 3893, 3893, 3894, 3894, 3894, 3895, 3895, 3895, 3895, 3895, 3895, 3895, 3895, 3895, 3895, 3895, 3895, 3895, 3895, 3895, 3895, 3895, 3895, 3895, 3895, 3895, 3895, 3895, 3895, 3895, 3895, 3895, 3895, 3895, 3895, 3895, 3895, 3895, 3895, 3895, 3896, 3896, 3896, 3897, 3897, 3898, 3898, 3898, 3898, 3898, 3898, 3898, 3902, 3903, 3903, 3903, 3903, 3903, 3903, 3903, 3903, 3903, 3903, 3903, 3903, 3903, 3903, 3903, 3903, 3903, 3903, 3903, 3903, 3903, 3903, 3903, 3903, 3903, 3903, 3903, 3903, 3903, 3903, 3903, 3905, 3905, 3909, 3909, 3909, 3909, 3909, 3910, 3910, 3910, 3910, 3910, 3910, 3910, 3910, 3910, 3910, 3910, 3912, 3912, 3912, 3912, 3912, 3912, 3913, 3913, 3913, 3913, 3913, 3915, 3915, 3915, 3915, 3915, 3915, 3915, 3915, 3916, 3916, 3916, 3916, 3916, 3916, 3916, 3916, 3916, 3916, 3916, 3916, 3916, 3916, 3916, 3916, 3916, 3916, 3916, 3916, 3916, 3916, 3916, 3916, 3916, 3916, 3916, 3916, 3917, 3918, 3919, 3920, 3920, 3920, 3920, 3920, 3920, 3920, 3920, 3920, 3920, 3922, 3922, 3922, 3922, 3922, 3922, 3923, 3923, 3923, 3924, 3925, 3925, 3925, 3926, 3926, 3926, 3926, 3926, 3926, 3926, 3926, 3926, 3930, 3930, 3930, 3930, 3930, 3930, 3930, 3930, 3930, 3930, 3930, 3930, 3930, 3930, 3930, 3930, 3930, 3930, 3930, 3930, 3930, 3930, 3930, 3931, 3931, 3931, 3931, 3931, 3931, 3931, 3931, 3931, 3931, 3931, 3931, 3931, 3931, 3931, 3934, 3934, 3934, 3934, 3934, 3934, 3934, 3934, 3934, 3935, 3935, 3936, 3936, 3936, 3936, 3936, 3936, 3938, 3938, 3938, 3938, 3938, 3938, 3938, 3938, 3938, 3938, 3938, 3938, 3938, 3938, 3938, 3938, 3938, 3938, 3938, 3938, 3938, 3938, 3938, 3938, 3938, 3939, 3939, 3939, 3939, 3939, 3939, 3939, 3939, 3939, 3939, 3939, 3940, 3940, 3940, 3940, 3940, 3940, 3940, 3940, 3940, 3940, 3940, 3940, 3940, 3941, 3941, 3943, 3944, 3944, 3944, 3944, 3944, 3944, 3944, 3944, 3944, 3944, 3944, 3944, 3944, 3944, 3944, 3944, 3944, 3944, 3944, 3944, 3944, 3944, 3944, 3944, 3944, 3944, 3944, 3944, 3944, 3944, 3944, 3944, 3944, 3944, 3944, 3944, 3944, 3944, 3944, 3944, 3944, 3944, 3944, 3944, 3944, 3944, 3944, 3944, 3944, 3944, 3944, 3944, 3944, 3944, 3944, 3944, 3944, 3944, 3944, 3944, 3944, 3944, 3944, 3944, 3944, 3944, 3944, 3944, 3944, 3944, 3949, 3949, 3949, 3949, 3949, 3949, 3949, 3949, 3949, 3950, 3950, 3950, 3950, 3951, 3951, 3951, 3951, 3953, 3953, 3953, 3953, 3953, 3953, 3955, 3955, 3955, 3955, 3956, 3956, 3956, 3956, 3956, 3956, 3956, 3956, 3956, 3956, 3956, 3956, 3956, 3957, 3957, 3957, 3957, 3957, 3957, 3957, 3957, 3957, 3957, 3957, 3957, 3957, 3957, 3957, 3957, 3957, 3957, 3957, 3957, 3957, 3957, 3957, 3957, 3959, 3960, 3960, 3960, 3960, 3960, 3960, 3960, 3960, 3960, 3960, 3960, 3960, 3960, 3960, 3960, 3960, 3960, 3960, 3960, 3960, 3960, 3961, 3961, 3961, 3961, 3961, 3961, 3962, 3962, 3962, 3962, 3962, 3962, 3962, 3962, 3962, 3962, 3962, 3962, 3962, 3962, 3962, 3962, 3962, 3962, 3962, 3962, 3962, 3962, 3962, 3962, 3962, 3962, 3962, 3962, 3962, 3963, 3963, 3963, 3963, 3964, 3964, 3964, 3964, 3964, 3964, 3964, 3964, 3964, 3964, 3964, 3964, 3964, 3964, 3964, 3966, 3966, 3966, 3966, 3966, 3966, 3967, 3967, 3972, 3972, 3972, 3976, 3976, 3977, 3977, 3977, 3977, 3977, 3977, 3977, 3977, 3977, 3977, 3977, 3977, 3977, 3977, 3977, 3978, 3978, 3978, 3978, 3979, 3979, 3979, 3984, 3984, 3984, 3984, 3984, 3984, 3984, 3984, 3984, 3984, 3984, 3984, 3984, 3984, 3984, 3984, 3984, 3984, 3984, 3984, 3984, 3984, 3984, 3984, 3984, 3984, 3984, 3984, 3984, 3984, 3984, 3984, 3984, 3984, 3984, 3984, 3984, 3984, 3984, 3984, 3984, 3984, 3984, 3984, 3984, 3984, 3985, 3985, 3985, 3985, 3985, 3985, 3985, 3985, 3985, 3985, 3985, 3985, 3985, 3985, 3985, 3985, 3985, 3985, 3985, 3985, 3985, 3985, 3985, 3985, 3985, 3985, 3985, 3985, 3985, 3985, 3985, 3985, 3985, 3985, 3985, 3985, 3985, 3985, 3985, 3985, 3989, 3989, 3989, 3989, 3989, 3989, 3989, 3989, 3989, 3989, 3989, 3989, 3992, 3992, 3992, 3992, 3997, 3997, 3997, 3997, 3997, 3997, 3997, 3997, 3997, 3997, 3997, 3997, 3997, 3997, 3997, 3997, 3997, 3997, 3997, 3997, 3997, 3997, 3997, 3998, 3998, 3998, 3998, 3998, 3998, 3998, 3998, 3998, 3998, 4001, 4001, 4001, 4001, 4001, 4001, 4001, 4001, 4001, 4001, 4001, 4001, 4001, 4005, 4005, 4005, 4005, 4005, 4005, 4005, 4005, 4005, 4005, 4005, 4005, 4005, 4005, 4005, 4006, 4006, 4006, 4006, 4007, 4007, 4007, 4008, 4008, 4008, 4008, 4008, 4008, 4008, 4008, 4008, 4008, 4008, 4009, 4010, 4010, 4010, 4010, 4010, 4010, 4010, 4010, 4010, 4010, 4010, 4010, 4010, 4010, 4010, 4010, 4010, 4010, 4010, 4010, 4010, 4010, 4010, 4010, 4010, 4010, 4010, 4010, 4010, 4010, 4010, 4010, 4010, 4010, 4011, 4011, 4011, 4011, 4011, 4011, 4015, 4016, 4016, 4016, 4017, 4017, 4017, 4017, 4017, 4017, 4017, 4017, 4017, 4017, 4017, 4017, 4017, 4017, 4017, 4017, 4017, 4017, 4017, 4017, 4017, 4017, 4017, 4019, 4019, 4019, 4019, 4019, 4019, 4019, 4019, 4019, 4019, 4019, 4019, 4019, 4023, 4023, 4023, 4023, 4023, 4023, 4023, 4023, 4023, 4023, 4023, 4023, 4023, 4023, 4023, 4023, 4023, 4023, 4023, 4023, 4023, 4023, 4023, 4023, 4023, 4023, 4023, 4023, 4023, 4023, 4023, 4023, 4023, 4023, 4023, 4023, 4023, 4023, 4023, 4023, 4023, 4023, 4023, 4023, 4023, 4023, 4023, 4023, 4023, 4023, 4023, 4023, 4024, 4024, 4024, 4024, 4024, 4024, 4024, 4024, 4024, 4024, 4024, 4024, 4024, 4024, 4026, 4026, 4026, 4026, 4026, 4026, 4026, 4026, 4026, 4026, 4026, 4027, 4027, 4027, 4027, 4027, 4027, 4027, 4027, 4027, 4027, 4027, 4027, 4027, 4027, 4028, 4030, 4030, 4030, 4030, 4030, 4030, 4030, 4030, 4030, 4030, 4030, 4030, 4030, 4030, 4030, 4030, 4030, 4030, 4030, 4030, 4030, 4030, 4030, 4030, 4030, 4030, 4031, 4031, 4031, 4031, 4031, 4031, 4031, 4031, 4031, 4031, 4031, 4031, 4031, 4031, 4031, 4031, 4031, 4031, 4031, 4031, 4035, 4035, 4035, 4035, 4035, 4035, 4035, 4035, 4035, 4035, 4035, 4035, 4036, 4036, 4036, 4036, 4036, 4036, 4036, 4036, 4036, 4036, 4036, 4036, 4036, 4036, 4036, 4036, 4036, 4036, 4036, 4036, 4036, 4036, 4036, 4036, 4036, 4036, 4036, 4036, 4036, 4036, 4036, 4038, 4038, 4038, 4038, 4038, 4039, 4039, 4039, 4039, 4039, 4039, 4039, 4039, 4039, 4042, 4042, 4042, 4042, 4042, 4042, 4042, 4042, 4042, 4042, 4042, 4042, 4042, 4042, 4042, 4042, 4042, 4042, 4042, 4044, 4044, 4044, 4044, 4044, 4044, 4044, 4044, 4044, 4044, 4044, 4044, 4044, 4045, 4045, 4045, 4045, 4045, 4045, 4045, 4045, 4047, 4047, 4047, 4047, 4047, 4047, 4047, 4047, 4047, 4047, 4047, 4047, 4047, 4047, 4047, 4047, 4047, 4048, 4048, 4048, 4048, 4048, 4048, 4051, 4051, 4051, 4051, 4051, 4051, 4051, 4051, 4051, 4051, 4051, 4051, 4051, 4051, 4051, 4051, 4051, 4053, 4053, 4053, 4053, 4053, 4053, 4053, 4053, 4053, 4053, 4053, 4053, 4053, 4053, 4053, 4053, 4053, 4053, 4053, 4053, 4053, 4053, 4053, 4053, 4053, 4053, 4053, 4053, 4053, 4053, 4053, 4053, 4053, 4053, 4053, 4053, 4053, 4053, 4053, 4053, 4053, 4053, 4053, 4053, 4053, 4053, 4057, 4057, 4057, 4057, 4057, 4059, 4059, 4060, 4060, 4060, 4060, 4060, 4060, 4060, 4060, 4061, 4061, 4061, 4061, 4061, 4061, 4061, 4061, 4061, 4066, 4068, 4068, 4068, 4068, 4068, 4068, 4068, 4068, 4068, 4068, 4068, 4068, 4068, 4073, 4075, 4075, 4075, 4075, 4075, 4075, 4075, 4075, 4075, 4075, 4075, 4075, 4075, 4075, 4075, 4075, 4075, 4075, 4075, 4075, 4075, 4075, 4075, 4075, 4076, 4076, 4076, 4076, 4076, 4076, 4076, 4076, 4076, 4076, 4076, 4076, 4076, 4076, 4076, 4076, 4076, 4076, 4076, 4076, 4076, 4078, 4079, 4079, 4079, 4079, 4079, 4079, 4080, 4081, 4082, 4082, 4082, 4082, 4088, 4090, 4090, 4090, 4090, 4090, 4092, 4092, 4092, 4092, 4092, 4093, 4093, 4093, 4093, 4094, 4094, 4094, 4094, 4094, 4094, 4094, 4094, 4094, 4094, 4094, 4095, 4095, 4095, 4095, 4095, 4095, 4095, 4095, 4095, 4095, 4095, 4095, 4095, 4095, 4095, 4095, 4097, 4097, 4097, 4097, 4097, 4097, 4097, 4097, 4098, 4098, 4098, 4098, 4098, 4098, 4098, 4098, 4098, 4098, 4098, 4098, 4098, 4098, 4098, 4098, 4098, 4098, 4098, 4098, 4098, 4098, 4098, 4098, 4098, 4098, 4098, 4098, 4098, 4098, 4098, 4098, 4098, 4098, 4098, 4098, 4099, 4099, 4099, 4099, 4099, 4099, 4099, 4100, 4100, 4100, 4100, 4100, 4100, 4100, 4100, 4100, 4100, 4100, 4100, 4102, 4102, 4102, 4102, 4102, 4102, 4102, 4103, 4103, 4103, 4103, 4103, 4103, 4103, 4103, 4103, 4103, 4103, 4103, 4103, 4103, 4103, 4103, 4103, 4103, 4103, 4103, 4103, 4103, 4103, 4103, 4103, 4103, 4103, 4103, 4103, 4103, 4103, 4105, 4105, 4106, 4106, 4106, 4106, 4106, 4108, 4108, 4108, 4108, 4108, 4108, 4108, 4108, 4108, 4109, 4109, 4109, 4109, 4109, 4109, 4109, 4109, 4109, 4109, 4109, 4109, 4109, 4109, 4109, 4111, 4112, 4112, 4112, 4112, 4112, 4112, 4112, 4112, 4112, 4115, 4115, 4115, 4115, 4115, 4115, 4115, 4117, 4117, 4117, 4117, 4117, 4117, 4117, 4117, 4117, 4117, 4117, 4119, 4119, 4119, 4119, 4119, 4119, 4119, 4119, 4119, 4119, 4119, 4119, 4119, 4119, 4119, 4119, 4119, 4119, 4119, 4119, 4119, 4119, 4119, 4119, 4119, 4119, 4119, 4122, 4124, 4124, 4124, 4125, 4125, 4125, 4125, 4125, 4125, 4125, 4125, 4125, 4125, 4125, 4125, 4125, 4125, 4125, 4125, 4125, 4125, 4125, 4125, 4125, 4125, 4126, 4126, 4126, 4126, 4126, 4126, 4131, 4134, 4136, 4136, 4136, 4136, 4136, 4136, 4136, 4136, 4136, 4136, 4136, 4136, 4136, 4136, 4136, 4136, 4136, 4136, 4136, 4136, 4136, 4136, 4136, 4136, 4136, 4136, 4136, 4136, 4136, 4136, 4137, 4137, 4137, 4137, 4137, 4137, 4137, 4137, 4137, 4137, 4137, 4137, 4137, 4137, 4139, 4141, 4141, 4141, 4141, 4141, 4147, 4149, 4151, 4151, 4151, 4151, 4151, 4151, 4151, 4152, 4152, 4152, 4152, 4152, 4152, 4152, 4152, 4152, 4152, 4152, 4152, 4152, 4154, 4154, 4154, 4155, 4155, 4155, 4155, 4158, 4158, 4158, 4158, 4158, 4158, 4158, 4158, 4158, 4158, 4158, 4158, 4158, 4158, 4158, 4158, 4158, 4158, 4158, 4158, 4158, 4158, 4158, 4158, 4158, 4158, 4158, 4158, 4158, 4158, 4158, 4158, 4158, 4158, 4158, 4158, 4158, 4158, 4158, 4158, 4158, 4158, 4158, 4158, 4158, 4158, 4158, 4158, 4158, 4158, 4158, 4158, 4158, 4158, 4160, 4160, 4160, 4160, 4160, 4160, 4160, 4161, 4161, 4161, 4161, 4161, 4161, 4161, 4161, 4161, 4161, 4161, 4161, 4161, 4161, 4161, 4161, 4161, 4161, 4161, 4161, 4161, 4161, 4162, 4162, 4162, 4162, 4162, 4162, 4162, 4171, 4171, 4171, 4171, 4171, 4171, 4171, 4171, 4171, 4171, 4171, 4171, 4171, 4171, 4171, 4171, 4171, 4171, 4171, 4171, 4171, 4171, 4171, 4171, 4171, 4171, 4171, 4171, 4171, 4171, 4171, 4171, 4171, 4171, 4171, 4171, 4171, 4171, 4171, 4171, 4171, 4171, 4171, 4171, 4171, 4171, 4171, 4171, 4171, 4171, 4171, 4171, 4171, 4171, 4171, 4171, 4171, 4171, 4171, 4171, 4171, 4173, 4173, 4178, 4183, 4185, 4185, 4185, 4185, 4185, 4185, 4185, 4185, 4185, 4185, 4185, 4186, 4186, 4186, 4186, 4186, 4186, 4186, 4186, 4186, 4186, 4186, 4186, 4186, 4186, 4186, 4186, 4186, 4186, 4186, 4186, 4186, 4186, 4186, 4186, 4186, 4186, 4186, 4186, 4186, 4186, 4186, 4186, 4186, 4186, 4186, 4186, 4186, 4186, 4186, 4186, 4186, 4186, 4186, 4186, 4186, 4186, 4186, 4186, 4186, 4186, 4186, 4186, 4186, 4186, 4187, 4187, 4187, 4187, 4188, 4189, 4189, 4194, 4196, 4196, 4196, 4196, 4196, 4196, 4196, 4196, 4196, 4196, 4196, 4196, 4196, 4197, 4197, 4197, 4197, 4197, 4197, 4197, 4197, 4198, 4200, 4203, 4203, 4203, 4203, 4203, 4203, 4203, 4203, 4203, 4203, 4203, 4203, 4203, 4203, 4203, 4203, 4203, 4205, 4205, 4205, 4205, 4205, 4205, 4205, 4205, 4205, 4205, 4205, 4207, 4207, 4207, 4207, 4207, 4207, 4207, 4207, 4207, 4207, 4207, 4207, 4207, 4207, 4207, 4210, 4210, 4210, 4213, 4213, 4213, 4213, 4213, 4213, 4213, 4213, 4213, 4213, 4213, 4213, 4213, 4213, 4213, 4213, 4213, 4213, 4213, 4213, 4213, 4213, 4213, 4213, 4213, 4213, 4213, 4213, 4213, 4216, 4216, 4216, 4217, 4217, 4217, 4217, 4217, 4217, 4217, 4217, 4217, 4217, 4217, 4217, 4217, 4217, 4217, 4217, 4217, 4217, 4217, 4217, 4217, 4217, 4217, 4217, 4217, 4217, 4217, 4217, 4217, 4217, 4217, 4217, 4217, 4217, 4217, 4217, 4218, 4218, 4218, 4218, 4219, 4219, 4219, 4219, 4219, 4219, 4219, 4219, 4219, 4219, 4219, 4219, 4219, 4219, 4219, 4219, 4219, 4219, 4219, 4219, 4219, 4219, 4219, 4219, 4219, 4219, 4219, 4219, 4219, 4219, 4219, 4219, 4219, 4219, 4219, 4219, 4219, 4219, 4219, 4219, 4219, 4219, 4219, 4219, 4219, 4219, 4219, 4219, 4219, 4219, 4219, 4219, 4219, 4219, 4219, 4219, 4219, 4219, 4219, 4219, 4219, 4219, 4219, 4221, 4221, 4221, 4221, 4221, 4221, 4221, 4221, 4221, 4221, 4223, 4223, 4223, 4223, 4223, 4223, 4223, 4223, 4223, 4223, 4223, 4223, 4223, 4226, 4226, 4226, 4226, 4226, 4226, 4226, 4226, 4226, 4226, 4226, 4226, 4226, 4226, 4226, 4226, 4226, 4226, 4226, 4226, 4226, 4226, 4226, 4226, 4226, 4226, 4226, 4227, 4227, 4227, 4227, 4230, 4230, 4230, 4231, 4231, 4231, 4231, 4231, 4231, 4231, 4231, 4231, 4231, 4231, 4231, 4231, 4231, 4231, 4231, 4231, 4231, 4231, 4231, 4231, 4231, 4231, 4231, 4231, 4231, 4231, 4231, 4231, 4231, 4231, 4231, 4231, 4231, 4231, 4231, 4232, 4234, 4234, 4234, 4234, 4234, 4234, 4234, 4234, 4234, 4234, 4234, 4235, 4235, 4235, 4235, 4235, 4235, 4237, 4237, 4237, 4237, 4237, 4237, 4237, 4237, 4237, 4237, 4237, 4237, 4237, 4237, 4239, 4239, 4241, 4241, 4241, 4241, 4241, 4241, 4241, 4241, 4241, 4241, 4241, 4241, 4241, 4241, 4241, 4241, 4241, 4241, 4241, 4241, 4241, 4241, 4241, 4241, 4241, 4241, 4241, 4241, 4241, 4241, 4241, 4241, 4241, 4241, 4241, 4241, 4241, 4241, 4244, 4244, 4244, 4244, 4244, 4244, 4244, 4244, 4244, 4244, 4244, 4244, 4244, 4244, 4244, 4244, 4244, 4244, 4244, 4244, 4244, 4244, 4244, 4244, 4244, 4244, 4244, 4244, 4244, 4244, 4245, 4245, 4245, 4245, 4245, 4245, 4245, 4245, 4245, 4245, 4245, 4245, 4245, 4245, 4245, 4245, 4246, 4246, 4246, 4246, 4246, 4247, 4247, 4247, 4247, 4247, 4247, 4248, 4248, 4248, 4251, 4251, 4251, 4251, 4251, 4251, 4251, 4251, 4251, 4251, 4251, 4251, 4251, 4251, 4251, 4251, 4251, 4251, 4251, 4251, 4251, 4251, 4251, 4251, 4251, 4251, 4251, 4251, 4251, 4251, 4251, 4251, 4251, 4251, 4251, 4251, 4251, 4251, 4251, 4251, 4251, 4251, 4251, 4251, 4251, 4251, 4251, 4251, 4251, 4251, 4251, 4251, 4251, 4251, 4251, 4251, 4251, 4251, 4251, 4251, 4251, 4251, 4251, 4251, 4252, 4252, 4252, 4252, 4252, 4252, 4252, 4252, 4252, 4252, 4252, 4252, 4252, 4252, 4252, 4252, 4252, 4252, 4252, 4252, 4252, 4252, 4252, 4252, 4252, 4252, 4252, 4252, 4252, 4252, 4252, 4252, 4252, 4252, 4252, 4252, 4252, 4252, 4252, 4252, 4252, 4252, 4252, 4253, 4253, 4253, 4253, 4253, 4253, 4253, 4254, 4254, 4256, 4256, 4256, 4256, 4256, 4256, 4256, 4256, 4256, 4256, 4256, 4258, 4262, 4262, 4264, 4266, 4266, 4267, 4267, 4267, 4267, 4267, 4267, 4267, 4267, 4267, 4267, 4267, 4267, 4267, 4267, 4267, 4267, 4267, 4267, 4267, 4267, 4268, 4268, 4268, 4268, 4268, 4268, 4268, 4268, 4268, 4268, 4268, 4268, 4268, 4268, 4268, 4268, 4268, 4268, 4268, 4268, 4268, 4268, 4268, 4268, 4268, 4268, 4268, 4271, 4271, 4271, 4271, 4271, 4271, 4271, 4271, 4271, 4271, 4271, 4271, 4271, 4271, 4271, 4271, 4271, 4271, 4271, 4271, 4271, 4271, 4271, 4272, 4275, 4275, 4275, 4275, 4275, 4275, 4275, 4276, 4276, 4276, 4276, 4276, 4277, 4277, 4278, 4278, 4278, 4278, 4278, 4278, 4278, 4278, 4278, 4278, 4278, 4278, 4278, 4278, 4279, 4279, 4279, 4279, 4279, 4279, 4279, 4279, 4280, 4280, 4280, 4280, 4280, 4280, 4280, 4280, 4280, 4280, 4282, 4282, 4282, 4282, 4282, 4282, 4282, 4282, 4282, 4282, 4282, 4282, 4282, 4282, 4282, 4282, 4282, 4282, 4282, 4282, 4282, 4282, 4282, 4282, 4282, 4282, 4282, 4282, 4282, 4282, 4282, 4282, 4282, 4282, 4282, 4283, 4283, 4283, 4283, 4283, 4283, 4283, 4283, 4283, 4283, 4283, 4283, 4283, 4283, 4283, 4286, 4286, 4286, 4286, 4286, 4286, 4286, 4287, 4287, 4287, 4287, 4287, 4287, 4287, 4287, 4287, 4287, 4287, 4287, 4287, 4287, 4287, 4287, 4287, 4287, 4287, 4287, 4290, 4290, 4290, 4290, 4290, 4290, 4290, 4292, 4292, 4292, 4292, 4292, 4292, 4292, 4292, 4292, 4292, 4292, 4292, 4292, 4292, 4292, 4292, 4293, 4293, 4293, 4294, 4297, 4297, 4297, 4297, 4297, 4297, 4297, 4297, 4297, 4297, 4297, 4297, 4297, 4297, 4297, 4297, 4297, 4297, 4297, 4297, 4299, 4299, 4299, 4299, 4299, 4299, 4299, 4299, 4299, 4299, 4299, 4299, 4299, 4299, 4299, 4299, 4299, 4299, 4299, 4299, 4299, 4299, 4299, 4299, 4299, 4299, 4299, 4299, 4299, 4299, 4299, 4299, 4299, 4299, 4299, 4299, 4299, 4299, 4299, 4300, 4300, 4300, 4300, 4300, 4300, 4300, 4300, 4300, 4300, 4304, 4304, 4305, 4305, 4305, 4305, 4305, 4305, 4305, 4305, 4305, 4305, 4305, 4305, 4305, 4305, 4305, 4305, 4305, 4305, 4305, 4305, 4305, 4305, 4305, 4305, 4305, 4305, 4305, 4305, 4306, 4306, 4306, 4306, 4306, 4306, 4306, 4306, 4306, 4306, 4306, 4306, 4306, 4306, 4306, 4306, 4306, 4306, 4306, 4306, 4306, 4306, 4306, 4306, 4306, 4306, 4306, 4306, 4307, 4307, 4307, 4307, 4307, 4307, 4307, 4307, 4307, 4307, 4307, 4307, 4308, 4308, 4308, 4308, 4308, 4308, 4308, 4308, 4308, 4308, 4310, 4310, 4310, 4310, 4310, 4310, 4310, 4310, 4310, 4310, 4310, 4310, 4310, 4310, 4310, 4311, 4311, 4311, 4311, 4311, 4311, 4311, 4311, 4311, 4313, 4313, 4313, 4313, 4313, 4318, 4318, 4318, 4318, 4318, 4318, 4318, 4318, 4318, 4318, 4318, 4318, 4318, 4318, 4318, 4318, 4318, 4318, 4318, 4318, 4318, 4318, 4318, 4318, 4318, 4318, 4320, 4320, 4320, 4322, 4322, 4322, 4322, 4322, 4322, 4322, 4322, 4322, 4330, 4330, 4330, 4330, 4330, 4330, 4330, 4330, 4330, 4330, 4330, 4330, 4330, 4330, 4330, 4330, 4330, 4330, 4330, 4330, 4330, 4330, 4330, 4330, 4330, 4330, 4330, 4330, 4330, 4330, 4330, 4330, 4330, 4330, 4330, 4330, 4330, 4330, 4330, 4330, 4330, 4330, 4330, 4330, 4330, 4330, 4330, 4330, 4330, 4330, 4330, 4331, 4331, 4331, 4331, 4331, 4331, 4333, 4334, 4334, 4334, 4334, 4334, 4335, 4335, 4335, 4335, 4335, 4335, 4335, 4335, 4335, 4335, 4336, 4336, 4336, 4336, 4336, 4336, 4336, 4336, 4336, 4336, 4336, 4336, 4336, 4336, 4336, 4336, 4336, 4336, 4336, 4336, 4336, 4336, 4336, 4336, 4336, 4336, 4336, 4336, 4336, 4336, 4336, 4336, 4336, 4336, 4336, 4336, 4336, 4336, 4336, 4336, 4336, 4336, 4336, 4336, 4336, 4336, 4336, 4336, 4336, 4336, 4337, 4337, 4337, 4337, 4337, 4337, 4337, 4338, 4338, 4338, 4338, 4338, 4338, 4338, 4338, 4338, 4338, 4338, 4338, 4338, 4338, 4338, 4338, 4338, 4338, 4338, 4338, 4338, 4338, 4338, 4338, 4338, 4338, 4338, 4338, 4338, 4341, 4341, 4341, 4341, 4341, 4341, 4341, 4341, 4341, 4341, 4341, 4341, 4341, 4343, 4343, 4343, 4343, 4343, 4343, 4343, 4343, 4343, 4343, 4343, 4343, 4343, 4343, 4343, 4343, 4343, 4343, 4343, 4343, 4343, 4343, 4343, 4343, 4343, 4343, 4343, 4343, 4343, 4343, 4343, 4343, 4343, 4343, 4343, 4343, 4345, 4347, 4347, 4347, 4347, 4347, 4347, 4348, 4348, 4350, 4350, 4350, 4350, 4352, 4352, 4352, 4352, 4352, 4352, 4352, 4352, 4352, 4352, 4352, 4352, 4352, 4352, 4352, 4352, 4352, 4352, 4352, 4352, 4352, 4352, 4352, 4352, 4354, 4354, 4355, 4355, 4355, 4357, 4357, 4357, 4357, 4357, 4357, 4357, 4357, 4357, 4357, 4358, 4358, 4358, 4358, 4360, 4360, 4360, 4360, 4360, 4360, 4360, 4360, 4360, 4360, 4363, 4363, 4363, 4363, 4363, 4363, 4365, 4365, 4365, 4365, 4365, 4365, 4365, 4365, 4365, 4365, 4365, 4365, 4365, 4365, 4365, 4365, 4365, 4365, 4365, 4365, 4365, 4365, 4365, 4365, 4365, 4365, 4365, 4365, 4365, 4365, 4365, 4365, 4365, 4365, 4365, 4365, 4365, 4365, 4365, 4365, 4365, 4367, 4367, 4367, 4367, 4367, 4367, 4368, 4368, 4368, 4368, 4368, 4368, 4369, 4369, 4369, 4369, 4369, 4369, 4369, 4369, 4369, 4369, 4369, 4369, 4369, 4369, 4369, 4369, 4369, 4369, 4369, 4370, 4370, 4370, 4370, 4372, 4372, 4372, 4372, 4372, 4372, 4372, 4372, 4372, 4372, 4372, 4372, 4372, 4372, 4372, 4372, 4372, 4372, 4372, 4372, 4372, 4377, 4377, 4377, 4377, 4377, 4377, 4377, 4377, 4377, 4377, 4377, 4377, 4377, 4377, 4377, 4377, 4377, 4377, 4377, 4378, 4378, 4378, 4378, 4379, 4379, 4379, 4379, 4379, 4379, 4379, 4379, 4379, 4381, 4381, 4381, 4381, 4381, 4381, 4381, 4381, 4382, 4382, 4383, 4383, 4383, 4384, 4384, 4384, 4384, 4384, 4384, 4384, 4384, 4384, 4384, 4384, 4384, 4384, 4388, 4388, 4388, 4388, 4388, 4389, 4392, 4392, 4392, 4392, 4393, 4394, 4394, 4394, 4394, 4394, 4394, 4394, 4394, 4394, 4394, 4394, 4395, 4395, 4395, 4395, 4395, 4395, 4395, 4395, 4395, 4395, 4395, 4397, 4397, 4397, 4397, 4399, 4399, 4399, 4399, 4399, 4399, 4399, 4399, 4399, 4399, 4399, 4399, 4399, 4399, 4399, 4399, 4399, 4399, 4399, 4399, 4399, 4399, 4399, 4399, 4399, 4399, 4399, 4399, 4399, 4399, 4399, 4399, 4399, 4399, 4399, 4399, 4399, 4399, 4399, 4399, 4399, 4399, 4399, 4400, 4400, 4400, 4400, 4400, 4400, 4400, 4400, 4400, 4400, 4400, 4400, 4400, 4400, 4400, 4400, 4400, 4400, 4400, 4400, 4400, 4401, 4401, 4401, 4401, 4401, 4401, 4401, 4401, 4401, 4401, 4401, 4401, 4401, 4401, 4401, 4401, 4401, 4401, 4401, 4401, 4401, 4401, 4401, 4401, 4401, 4401, 4401, 4401, 4401, 4401, 4402, 4402, 4402, 4404, 4404, 4404, 4404, 4405, 4405, 4405, 4405, 4405, 4405, 4405, 4405, 4405, 4405, 4405, 4405, 4405, 4405, 4405, 4405, 4405, 4405, 4405, 4405, 4405, 4405, 4405, 4405, 4405, 4405, 4405, 4405, 4405, 4405, 4405, 4405, 4405, 4407, 4407, 4407, 4407, 4407, 4409, 4409, 4409, 4409, 4409, 4412, 4412, 4412, 4412, 4412, 4414, 4414, 4414, 4414, 4414, 4414, 4415, 4416, 4416, 4416, 4417, 4417, 4417, 4417, 4417, 4417, 4417, 4417, 4417, 4417, 4417, 4417, 4418, 4418, 4418, 4418, 4418, 4418, 4418, 4418, 4418, 4418, 4418, 4418, 4419, 4419, 4419, 4419, 4419, 4419, 4419, 4419, 4420, 4420, 4420, 4420, 4420, 4420, 4420, 4420, 4421, 4421, 4421, 4421, 4421, 4421, 4421, 4421, 4421, 4421, 4421, 4421, 4421, 4421, 4421, 4422, 4422, 4422, 4422, 4422, 4422, 4422, 4422, 4422, 4422, 4422, 4422, 4422, 4422, 4422, 4422, 4422, 4426, 4426, 4426, 4426, 4426, 4426, 4426, 4426, 4426, 4426, 4426, 4426, 4427, 4427, 4427, 4427, 4427, 4428, 4428, 4430, 4430, 4430, 4430, 4430, 4430, 4430, 4430, 4430, 4430, 4430, 4430, 4430, 4430, 4430, 4430, 4430, 4430, 4430, 4430, 4430, 4431, 4431, 4431, 4432, 4434, 4434, 4434, 4438, 4438, 4438, 4440, 4440, 4441, 4441, 4441, 4441, 4442, 4442, 4442, 4442, 4442, 4443, 4444, 4444, 4444, 4444, 4444, 4444, 4444, 4444, 4444, 4444, 4444, 4444, 4444, 4444, 4444, 4444, 4444, 4444, 4447, 4447, 4447, 4447, 4447, 4447, 4447, 4447, 4447, 4447, 4447, 4447, 4447, 4450, 4450, 4450, 4450, 4451, 4451, 4451, 4451, 4451, 4451, 4451, 4451, 4451, 4453, 4453, 4453, 4453, 4453, 4454, 4454, 4454, 4454, 4454, 4454, 4454, 4454, 4455, 4455, 4457, 4457, 4457, 4457, 4457, 4457, 4457, 4457, 4457, 4457, 4457, 4457, 4457, 4457, 4457, 4457, 4457, 4457, 4457, 4457, 4457, 4457, 4457, 4457, 4457, 4457, 4457, 4457, 4457, 4457, 4457, 4457, 4457, 4457, 4457, 4457, 4457, 4457, 4457, 4457, 4457, 4457, 4457, 4457, 4457, 4457, 4457, 4457, 4457, 4457, 4457, 4457, 4457, 4457, 4457, 4457, 4457, 4457, 4457, 4457, 4458, 4458, 4458, 4458, 4458, 4458, 4458, 4458, 4458, 4458, 4458, 4459, 4459, 4459, 4459, 4459, 4459, 4459, 4459, 4459, 4459, 4459, 4459, 4459, 4460, 4460, 4460, 4461, 4461, 4461, 4461, 4461, 4461, 4461, 4461, 4461, 4461, 4461, 4462, 4462, 4462, 4463, 4463, 4463, 4463, 4463, 4463, 4463, 4463, 4463, 4463, 4463, 4463, 4464, 4464, 4464, 4464, 4464, 4464, 4464, 4464, 4466, 4466, 4466, 4466, 4466, 4466, 4466, 4466, 4466, 4466, 4466, 4466, 4466, 4468, 4468, 4468, 4468, 4468, 4468, 4468, 4468, 4468, 4468, 4468, 4468, 4468, 4468, 4468, 4468, 4468, 4468, 4468, 4468, 4468, 4468, 4468, 4468, 4468, 4468, 4468, 4468, 4468, 4468, 4468, 4468, 4468, 4468, 4468, 4468, 4468, 4468, 4470, 4470, 4470, 4470, 4470, 4470, 4471, 4471, 4472, 4472, 4472, 4472, 4472, 4472, 4472, 4472, 4472, 4472, 4472, 4472, 4472, 4472, 4472, 4472, 4472, 4472, 4472, 4472, 4472, 4472, 4472, 4472, 4472, 4472, 4472, 4472, 4472, 4472, 4473, 4473, 4473, 4473, 4473, 4473, 4473, 4473, 4473, 4473, 4473, 4473, 4473, 4473, 4473, 4473, 4473, 4473, 4473, 4473, 4473, 4473, 4473, 4473, 4473, 4473, 4473, 4473, 4473, 4473, 4473, 4473, 4473, 4473, 4473, 4473, 4473, 4473, 4473, 4475, 4478, 4478, 4478, 4478, 4478, 4478, 4478, 4478, 4478, 4478, 4478, 4478, 4478, 4478, 4478, 4478, 4479, 4479, 4479, 4479, 4479, 4479, 4482, 4482, 4482, 4482, 4482, 4482, 4482, 4482, 4482, 4482, 4482, 4482, 4482, 4482, 4482, 4482, 4482, 4482, 4482, 4482, 4482, 4482, 4482, 4482, 4482, 4482, 4482, 4482, 4482, 4482, 4482, 4482, 4485, 4485, 4485, 4485, 4485, 4485, 4485, 4485, 4485, 4485, 4485, 4485, 4485, 4485, 4485, 4485, 4485, 4485, 4485, 4485, 4485, 4485, 4485, 4485, 4486, 4486, 4486, 4486, 4486, 4487, 4487, 4488, 4488, 4488, 4488, 4488, 4488, 4491, 4491, 4491, 4491, 4491, 4491, 4491, 4491, 4491, 4491, 4491, 4491, 4491, 4491, 4491, 4491, 4491, 4491, 4491, 4491, 4491, 4491, 4491, 4491, 4491, 4491, 4491, 4491, 4495, 4495, 4495, 4495, 4495, 4495, 4495, 4495, 4495, 4496, 4496, 4496, 4496, 4496, 4496, 4496, 4496, 4496, 4496, 4496, 4496, 4496, 4496, 4496, 4496, 4496, 4496, 4498, 4498, 4498, 4498, 4498, 4498, 4498, 4498, 4498, 4498, 4498, 4498, 4498, 4498, 4498, 4498, 4498, 4498, 4498, 4498, 4498, 4498, 4498, 4498, 4498, 4498, 4498, 4498, 4498, 4498, 4498, 4498, 4498, 4498, 4501, 4501, 4501, 4501, 4501, 4501, 4501, 4501, 4501, 4501, 4501, 4501, 4501, 4504, 4504, 4506, 4506, 4506, 4506, 4506, 4506, 4506, 4506, 4506, 4506, 4506, 4506, 4509, 4509, 4509, 4509, 4509, 4509, 4509, 4509, 4509, 4509, 4509, 4509, 4509, 4509, 4509, 4509, 4509, 4510, 4510, 4513, 4513, 4513, 4513, 4513, 4514, 4516, 4516, 4516, 4516, 4516, 4516, 4516, 4516, 4516, 4516, 4516, 4516, 4516, 4516, 4516, 4516, 4516, 4516, 4516, 4516, 4516, 4516, 4516, 4516, 4516, 4517, 4517, 4517, 4517, 4518, 4518, 4518, 4518, 4518, 4518, 4518, 4519, 4519, 4519, 4519, 4519, 4519, 4519, 4519, 4519, 4519, 4519, 4519, 4519, 4519, 4519, 4519, 4519, 4519, 4519, 4519, 4519, 4519, 4519, 4519, 4519, 4519, 4519, 4519, 4519, 4519, 4519, 4520, 4520, 4520, 4520, 4520, 4520, 4520, 4520, 4520, 4520, 4520, 4520, 4520, 4520, 4520, 4520, 4520, 4520, 4520, 4520, 4520, 4520, 4520, 4520, 4520, 4520, 4520, 4520, 4520, 4520, 4520, 4520, 4520, 4520, 4523, 4527, 4527, 4527, 4527, 4527, 4527, 4528, 4528, 4528, 4528, 4528, 4528, 4528, 4528, 4530, 4531, 4533, 4533, 4533, 4533, 4534, 4534, 4534, 4534, 4534, 4534, 4535, 4535, 4535, 4535, 4535, 4535, 4535, 4535, 4535, 4535, 4535, 4535, 4535, 4535, 4535, 4535, 4535, 4535, 4535, 4535, 4536, 4536, 4536, 4536, 4536, 4536, 4536, 4536, 4536, 4536, 4536, 4536, 4536, 4536, 4536, 4536, 4536, 4536, 4536, 4536, 4536, 4536, 4536, 4536, 4536, 4536, 4537, 4537, 4537, 4537, 4537, 4538, 4538, 4538, 4538, 4538, 4538, 4538, 4538, 4538, 4538, 4538, 4538, 4538, 4538, 4538, 4541, 4544, 4546, 4546, 4546, 4546, 4547, 4548, 4549, 4549, 4551, 4551, 4552, 4552, 4552, 4552, 4552, 4552, 4552, 4552, 4552, 4552, 4552, 4553, 4553, 4553, 4553, 4553, 4553, 4553, 4553, 4553, 4553, 4553, 4553, 4553, 4553, 4553, 4553, 4553, 4553, 4553, 4553, 4553, 4553, 4553, 4553, 4553, 4553, 4553, 4553, 4553, 4553, 4554, 4554, 4554, 4554, 4556, 4556, 4556, 4556, 4556, 4556, 4556, 4556, 4556, 4557, 4557, 4557, 4557, 4557, 4557, 4557, 4557, 4557, 4557, 4557, 4557, 4557, 4557, 4559, 4559, 4559, 4560, 4560, 4560, 4560, 4560, 4560, 4560, 4560, 4560, 4560, 4560, 4560, 4560, 4560, 4560, 4560, 4560, 4560, 4560, 4560, 4560, 4560, 4560, 4560, 4560, 4560, 4560, 4560, 4560, 4560, 4560, 4560, 4560, 4560, 4560, 4560, 4560, 4560, 4560, 4560, 4560, 4560, 4560, 4560, 4560, 4560, 4560, 4560, 4560, 4560, 4560, 4560, 4560, 4560, 4560, 4560, 4560, 4560, 4560, 4560, 4560, 4560, 4560, 4560, 4560, 4560, 4560, 4560, 4560, 4560, 4560, 4560, 4560, 4560, 4560, 4560, 4560, 4560, 4560, 4560, 4560, 4560, 4560, 4560, 4560, 4560, 4560, 4561, 4561, 4561, 4561, 4561, 4561, 4561, 4561, 4561, 4561, 4561, 4561, 4561, 4561, 4561, 4564, 4566, 4566, 4567, 4567, 4567, 4567, 4567, 4567, 4567, 4567, 4567, 4567, 4567, 4567, 4567, 4567, 4567, 4567, 4567, 4567, 4567, 4567, 4567, 4567, 4567, 4567, 4567, 4567, 4567, 4567, 4567, 4567, 4567, 4567, 4567, 4567, 4567, 4567, 4567, 4567, 4567, 4567, 4567, 4567, 4567, 4567, 4567, 4567, 4567, 4567, 4567, 4567, 4567, 4567, 4567, 4568, 4568, 4568, 4568, 4568, 4568, 4568, 4568, 4568, 4568, 4568, 4569, 4569, 4569, 4569, 4569, 4569, 4569, 4569, 4569, 4569, 4569, 4569, 4569, 4569, 4569, 4569, 4569, 4569, 4569, 4569, 4569, 4569, 4569, 4569, 4569, 4569, 4569, 4569, 4569, 4569, 4569, 4570, 4572, 4572, 4572, 4572, 4572, 4572, 4572, 4572, 4572, 4573, 4573, 4573, 4573, 4575, 4576, 4576, 4576, 4576, 4576, 4576, 4578, 4578, 4584, 4584, 4584, 4584, 4584, 4584, 4584, 4584, 4584, 4584, 4584, 4584, 4584, 4584, 4584, 4584, 4584, 4584, 4584, 4584, 4584, 4585, 4585, 4585, 4585, 4589, 4589, 4589, 4589, 4590, 4590, 4593, 4593, 4593, 4593, 4593, 4593, 4593, 4593, 4593, 4593, 4593, 4593, 4593, 4593, 4593, 4593, 4593, 4593, 4593, 4593, 4593, 4593, 4593, 4593, 4593, 4593, 4593, 4593, 4593, 4594, 4596, 4596, 4597, 4597, 4597, 4597, 4597, 4597, 4597, 4597, 4597, 4597, 4600, 4600, 4600, 4600, 4600, 4600, 4600, 4600, 4600, 4600, 4600, 4600, 4600, 4600, 4600, 4600, 4600, 4600, 4600, 4602, 4602, 4602, 4602, 4602, 4603, 4603, 4603, 4603, 4603, 4603, 4603, 4603, 4603, 4603, 4605, 4605, 4605, 4605, 4605, 4605, 4605, 4605, 4606, 4606, 4606, 4606, 4606, 4606, 4606, 4606, 4606, 4606, 4606, 4606, 4606, 4606, 4606, 4608, 4609, 4609, 4609, 4609, 4609, 4609, 4609, 4609, 4611, 4611, 4611, 4611, 4611, 4611, 4611, 4611, 4611, 4611, 4611, 4611, 4611, 4611, 4611, 4611, 4612, 4612, 4612, 4612, 4612, 4612, 4612, 4612, 4612, 4612, 4613, 4613, 4613, 4613, 4613, 4613, 4613, 4613, 4613, 4613, 4613, 4613, 4613, 4613, 4613, 4613, 4613, 4613, 4613, 4613, 4613, 4613, 4613, 4613, 4613, 4613, 4613, 4613, 4613, 4613, 4613, 4613, 4613, 4613, 4613, 4613, 4613, 4613, 4613, 4613, 4613, 4613, 4613, 4613, 4613, 4613, 4613, 4613, 4613, 4613, 4613, 4613, 4614, 4614, 4614, 4614, 4614, 4614, 4614, 4614, 4614, 4615, 4616, 4616, 4616, 4616, 4616, 4616, 4616, 4616, 4616, 4617, 4617, 4617, 4621, 4621, 4621, 4621, 4621, 4621, 4621, 4621, 4621, 4621, 4621, 4621, 4621, 4621, 4621, 4621, 4621, 4621, 4621, 4621, 4621, 4621, 4621, 4621, 4621, 4622, 4627, 4627, 4627, 4627, 4627, 4627, 4627, 4627, 4627, 4627, 4627, 4627, 4627, 4627, 4627, 4627, 4627, 4627, 4627, 4627, 4627, 4627, 4627, 4627, 4627, 4627, 4627, 4627, 4627, 4627, 4627, 4627, 4627, 4627, 4627, 4627, 4627, 4627, 4627, 4627, 4627, 4627, 4627, 4627, 4627, 4627, 4627, 4627, 4628, 4628, 4628, 4628, 4628, 4628, 4628, 4628, 4628, 4628, 4628, 4628, 4628, 4628, 4628, 4628, 4628, 4628, 4628, 4629, 4629, 4629, 4629, 4630, 4630, 4631, 4631, 4631, 4631, 4631, 4632, 4632, 4632, 4632, 4632, 4632, 4633, 4633, 4636, 4636, 4637, 4637, 4637, 4637, 4637, 4637, 4637, 4637, 4637, 4637, 4637, 4637, 4637, 4637, 4637, 4637, 4637, 4637, 4638, 4639, 4639, 4639, 4639, 4639, 4639, 4639, 4639, 4639, 4639, 4639, 4639, 4639, 4639, 4639, 4639, 4639, 4639, 4639, 4639, 4639, 4639, 4639, 4639, 4639, 4639, 4639, 4639, 4640, 4640, 4640, 4640, 4640, 4640, 4640, 4640, 4640, 4642, 4642, 4642, 4642, 4642, 4642, 4643, 4643, 4643, 4644, 4644, 4644, 4644, 4644, 4644, 4644, 4644, 4644, 4644, 4644, 4644, 4645, 4645, 4645, 4645, 4645, 4645, 4645, 4645, 4645, 4645, 4645, 4645, 4647, 4647, 4647, 4647, 4647, 4647, 4647, 4647, 4647, 4647, 4647, 4647, 4648, 4648, 4648, 4648, 4648, 4648, 4648, 4648, 4648, 4651, 4651, 4652, 4652, 4652, 4652, 4652, 4652, 4652, 4652, 4652, 4652, 4652, 4652, 4653, 4653, 4653, 4653, 4653, 4654, 4654, 4654, 4654, 4654, 4654, 4654, 4654, 4654, 4654, 4654, 4654, 4654, 4654, 4654, 4654, 4654, 4654, 4654, 4654, 4654, 4656, 4656, 4656, 4660, 4661, 4661, 4661, 4661, 4661, 4663, 4663, 4663, 4663, 4663, 4663, 4664, 4664, 4664, 4664, 4664, 4664, 4664, 4664, 4664, 4664, 4664, 4664, 4664, 4664, 4664, 4664, 4664, 4664, 4664, 4664, 4665, 4665, 4665, 4665, 4665, 4665, 4665, 4665, 4665, 4665, 4665, 4665, 4665, 4665, 4665, 4665, 4665, 4665, 4665, 4665, 4665, 4665, 4665, 4665, 4665, 4665, 4665, 4665, 4665, 4665, 4665, 4666, 4668, 4669, 4669, 4669, 4669, 4669, 4669, 4669, 4669, 4669, 4669, 4669, 4669, 4669, 4669, 4669, 4670, 4670, 4670, 4670, 4672, 4672, 4672, 4672, 4672, 4672, 4672, 4672, 4672, 4672, 4672, 4672, 4672, 4672, 4672, 4672, 4672, 4672, 4672, 4674, 4674, 4674, 4674, 4674, 4674, 4674, 4674, 4674, 4674, 4674, 4674, 4674, 4674, 4674, 4674, 4674, 4674, 4674, 4674, 4674, 4674, 4674, 4674, 4674, 4674, 4674, 4674, 4674, 4675, 4675, 4676, 4676, 4676, 4676, 4676, 4676, 4676, 4676, 4676, 4676, 4676, 4676, 4676, 4676, 4676, 4676, 4676, 4676, 4676, 4676, 4676, 4676, 4676, 4676, 4676, 4676, 4676, 4676, 4676, 4676, 4676, 4676, 4676, 4676, 4676, 4676, 4676, 4676, 4676, 4676, 4676, 4676, 4676, 4676, 4676, 4676, 4676, 4676, 4677, 4677, 4677, 4677, 4677, 4677, 4677, 4677, 4677, 4680, 4680, 4680, 4680, 4681, 4681, 4681, 4681, 4681, 4681, 4681, 4681, 4681, 4681, 4681, 4681, 4681, 4681, 4681, 4681, 4681, 4681, 4681, 4681, 4681, 4681, 4681, 4681, 4681, 4681, 4681, 4681, 4681, 4681, 4681, 4681, 4681, 4681, 4682, 4682, 4682, 4682, 4682, 4683, 4683, 4683, 4683, 4683, 4683, 4683, 4683, 4683, 4683, 4683, 4683, 4683, 4683, 4683, 4683, 4683, 4683, 4683, 4683, 4683, 4683, 4683, 4683, 4683, 4683, 4683, 4683, 4684, 4687, 4688, 4688, 4688, 4691, 4691, 4691, 4691, 4691, 4691, 4691, 4694, 4694, 4694, 4695, 4695, 4695, 4696, 4696, 4696, 4696, 4696, 4696, 4696, 4696, 4696, 4696, 4696, 4696, 4696, 4696, 4696, 4698, 4700, 4700, 4700, 4700, 4700, 4700, 4700, 4700, 4700, 4700, 4701, 4701, 4701, 4701, 4701, 4701, 4701, 4701, 4701, 4701, 4701, 4701, 4702, 4702, 4702, 4702, 4702, 4702, 4702, 4702, 4702, 4702, 4702, 4702, 4702, 4702, 4702, 4702, 4702, 4702, 4702, 4702, 4702, 4703, 4704, 4707, 4707, 4707, 4707, 4707, 4707, 4709, 4709, 4709, 4709, 4709, 4709, 4709, 4709, 4709, 4709, 4709, 4709, 4709, 4709, 4709, 4709, 4709, 4709, 4709, 4709, 4709, 4709, 4709, 4709, 4709, 4709, 4709, 4709, 4709, 4709, 4709, 4709, 4709, 4709, 4709, 4709, 4709, 4709, 4709, 4709, 4710, 4710, 4710, 4714, 4716, 4716, 4716, 4716, 4716, 4716, 4716, 4720, 4720, 4720, 4720, 4720, 4720, 4720, 4720, 4720, 4720, 4720, 4720, 4720, 4720, 4720, 4720, 4720, 4720, 4720, 4720, 4720, 4720, 4720, 4720, 4720, 4720, 4720, 4720, 4720, 4720, 4720, 4720, 4720, 4720, 4720, 4720, 4720, 4720, 4720, 4720, 4720, 4720, 4720, 4720, 4720, 4721, 4721, 4721, 4721, 4721, 4722, 4723, 4723, 4723, 4723, 4723, 4723, 4723, 4723, 4723, 4723, 4723, 4723, 4723, 4723, 4724, 4724, 4724, 4724, 4724, 4725, 4725, 4726, 4726, 4726, 4727, 4728, 4728, 4728, 4728, 4728, 4730, 4730, 4730, 4730, 4730, 4730, 4730, 4730, 4730, 4730, 4730, 4730, 4730, 4730, 4730, 4730, 4730, 4730, 4730, 4730, 4730, 4730, 4730, 4730, 4730, 4730, 4730, 4730, 4730, 4730, 4733, 4733, 4733, 4733, 4733, 4733, 4733, 4733, 4733, 4733, 4733, 4733, 4733, 4733, 4733, 4733, 4733, 4733, 4733, 4733, 4733, 4733, 4733, 4733, 4733, 4733, 4733, 4733, 4733, 4733, 4733, 4733, 4733, 4733, 4733, 4733, 4733, 4733, 4733, 4733, 4733, 4733, 4733, 4733, 4735, 4736, 4736, 4736, 4736, 4736, 4736, 4736, 4736, 4736, 4736, 4736, 4736, 4736, 4736, 4736, 4736, 4736, 4737, 4737, 4737, 4737, 4737, 4737, 4737, 4737, 4737, 4737, 4737, 4738, 4738, 4738, 4738, 4738, 4738, 4738, 4738, 4738, 4738, 4738, 4738, 4738, 4738, 4738, 4738, 4738, 4738, 4738, 4738, 4738, 4738, 4738, 4738, 4743, 4743, 4743, 4743, 4743, 4743, 4743, 4743, 4743, 4743, 4743, 4743, 4743, 4743, 4743, 4743, 4743, 4743, 4743, 4743, 4743, 4743, 4743, 4743, 4743, 4743, 4743, 4743, 4743, 4743, 4743, 4743, 4743, 4743, 4743, 4743, 4743, 4743, 4743, 4743, 4743, 4743, 4743, 4743, 4743, 4743, 4743, 4743, 4743, 4743, 4743, 4743, 4743, 4743, 4743, 4743, 4743, 4743, 4743, 4743, 4743, 4743, 4743, 4743, 4743, 4743, 4744, 4744, 4744, 4744, 4744, 4744, 4744, 4744, 4744, 4745, 4745, 4745, 4745, 4745, 4745, 4745, 4745, 4745, 4745, 4748, 4748, 4748, 4748, 4748, 4748, 4748, 4748, 4748, 4748, 4748, 4748, 4748, 4748, 4748, 4748, 4748, 4748, 4748, 4748, 4748, 4748, 4748, 4748, 4748, 4750, 4750, 4751, 4752, 4752, 4752, 4752, 4752, 4752, 4752, 4752, 4752, 4752, 4752, 4752, 4752, 4752, 4752, 4752, 4752, 4752, 4752, 4752, 4752, 4752, 4752, 4752, 4752, 4752, 4752, 4753, 4753, 4753, 4753, 4753, 4753, 4753, 4753, 4753, 4753, 4753, 4753, 4753, 4753, 4753, 4753, 4753, 4753, 4753, 4753, 4753, 4753, 4753, 4753, 4753, 4753, 4753, 4753, 4753, 4753, 4753, 4753, 4753, 4753, 4753, 4753, 4753, 4753, 4753, 4753, 4753, 4753, 4753, 4753, 4753, 4753, 4754, 4754, 4754, 4754, 4754, 4754, 4754, 4754, 4754, 4754, 4754, 4754, 4754, 4754, 4754, 4754, 4754, 4754, 4757, 4757, 4757, 4757, 4758, 4758, 4758, 4758, 4758, 4758, 4758, 4758, 4760, 4760, 4760, 4760, 4760, 4760, 4760, 4760, 4760, 4760, 4760, 4760, 4760, 4760, 4760, 4760, 4760, 4760, 4760, 4760, 4760, 4760, 4760, 4760, 4760, 4760, 4760, 4760, 4760, 4760, 4760, 4760, 4760, 4760, 4760, 4760, 4760, 4760, 4760, 4760, 4760, 4760, 4760, 4760, 4760, 4760, 4760, 4760, 4760, 4760, 4760, 4760, 4760, 4760, 4760, 4760, 4760, 4760, 4760, 4760, 4760, 4760, 4760, 4760, 4760, 4760, 4760, 4760, 4760, 4761, 4761, 4761, 4761, 4761, 4761, 4761, 4761, 4761, 4761, 4761, 4761, 4761, 4761, 4761, 4761, 4761, 4761, 4761, 4761, 4761, 14, 20, 20, 20, 20, 20, 20, 20, 20, 20, 20, 20, 20, 20, 20, 20, 20, 29, 29, 29, 66, 66, 66, 66, 66, 66, 66, 66, 66, 66, 68, 68, 76, 76, 76, 76, 76, 76, 76, 76, 76, 76, 76, 76, 76, 76, 76, 76, 76, 76, 76, 76, 76, 76, 76, 76, 76, 76, 76, 83, 83, 83, 83, 83, 93, 93, 93, 93, 93, 93, 93, 93, 93, 93, 93, 93, 93, 93, 93, 93, 93, 93, 93, 93, 93, 93, 93, 93, 93, 93, 93, 93, 93, 93, 93, 93, 93, 93, 110, 110, 110, 110, 110, 110, 110, 110, 110, 110, 110, 110, 110, 110, 110, 110, 110, 110, 110, 110, 110, 154, 154, 154, 157, 157, 157, 157, 157, 157, 157, 157, 157, 157, 157, 157, 157, 157, 171, 171, 171, 171, 171, 171, 171, 171, 171, 184, 184, 184, 184, 184, 184, 184, 184, 184, 184, 184, 184, 184, 184, 184, 184, 204, 204, 204, 204, 204, 214, 214, 214, 214, 214, 214, 215, 215, 226, 226, 226, 235, 235, 235, 235, 235, 235, 235, 235, 235, 235, 235, 235, 235, 235, 235, 235, 235, 235, 235, 235, 235, 235, 235, 235, 235, 235, 235, 235, 235, 235, 235, 235, 235, 235, 235, 235, 247, 247, 247, 247, 248, 248, 248, 248, 248, 248, 248, 248, 248, 248, 248, 248, 248, 248, 248, 248, 264, 265, 265, 265, 265, 274, 298, 298, 298, 298, 298, 298, 305, 305, 305, 305, 305, 308, 308, 308, 308, 308, 308, 308, 308, 308, 308, 310, 310, 310, 312, 312, 317, 321, 321, 321, 321, 329, 329, 329, 329, 337, 337, 337, 337, 337, 337, 337, 337, 337, 337, 337, 339, 339, 339, 339, 339, 339, 339, 339, 339, 339, 341, 341, 352, 352, 352, 352, 352, 352, 352, 352, 352, 352, 352, 352, 352, 352, 352, 352, 352, 352, 352, 352, 352, 352, 352, 368, 368, 370, 370, 370, 370, 370, 370, 395, 395, 395, 395, 396, 396, 415, 415, 415, 415, 415, 415, 415, 415, 415, 415, 415, 415, 415, 415, 415, 415, 415, 415, 415, 419, 428, 451, 451, 465, 465, 465, 465, 465, 465, 465, 465, 465, 465, 469, 469, 469, 469, 469, 469, 469, 469, 469, 469, 469, 485, 485, 490, 495, 495, 495, 507, 507, 507, 507, 507, 507, 507, 507, 507, 507, 507, 507, 507, 507, 507, 507, 507, 507, 507, 507, 507, 507, 507, 507, 507, 507, 507, 507, 507, 507, 507, 507, 507, 507, 507, 507, 507, 507, 507, 507, 507, 507, 507, 527, 527, 527, 527, 527, 527, 537, 537, 547, 548, 548, 548, 548, 550, 550, 550, 550, 558, 569, 569, 569, 583, 584, 584, 584, 584, 584, 584, 584, 584, 584, 584, 584, 584, 584, 584, 624, 627, 627, 644, 644, 644, 646, 646, 646, 646, 646, 646, 646, 646, 646, 646, 646, 646, 646, 646, 646, 646, 646, 646, 646, 646, 646, 646, 646, 646, 646, 646, 646, 646, 646, 646, 646, 646, 691, 691, 691, 691, 701, 701, 711, 711, 711, 711, 711, 711, 711, 711, 711, 711, 718, 724, 724, 724, 724, 724, 724, 724, 724, 728, 731, 731, 731, 731, 750, 750, 750, 750, 750, 750, 750, 750, 750, 750, 750, 750, 750, 750, 767, 767, 767, 767, 767, 767, 767, 767, 767, 767, 767, 767, 786, 786, 786, 786, 786, 786, 786, 786, 786, 786, 789, 789, 789, 791, 791, 791, 791, 791, 791, 791, 816, 816, 816, 816, 816, 816, 816, 816, 816, 816, 816, 816, 816, 816, 816, 816, 816, 816, 816, 816, 816, 816, 816, 816, 816, 816, 816, 816, 821, 821, 821, 821, 821, 821, 821, 821, 821, 821, 821, 821, 821, 821, 821, 821, 821, 821, 821, 821, 821, 821, 821, 821, 821, 821, 821, 821, 821, 821, 821, 821, 821, 821, 821, 821, 821, 821, 821, 821, 821, 821, 821, 821, 821, 821, 821, 824, 824, 824, 824, 824, 824, 824, 824, 824, 829, 829, 829, 829, 829, 829, 829, 829, 829, 847, 847, 847, 847, 847, 847, 847, 847, 847, 847, 851, 851, 855, 855, 855, 856, 856, 856, 856, 856, 856, 856, 856, 856, 856, 856, 856, 856, 856, 856, 856, 856, 856, 856, 856, 856, 856, 856, 856, 856, 856, 856, 856, 856, 856, 856, 856, 856, 856, 857, 857, 857, 857, 857, 857, 857, 858, 858, 858, 858, 860, 860, 864, 864, 864, 864, 864, 864, 864, 864, 864, 864, 865, 875, 875, 875, 875, 875, 875, 875, 875, 875, 875, 875, 875, 875, 875, 875, 875, 875, 875, 886, 894, 894, 894, 894, 894, 894, 894, 894, 894, 894, 894, 894, 894, 894, 894, 894, 894, 894, 894, 894, 923, 928, 928, 928, 946, 946, 946, 946, 946, 946, 946, 946, 946, 946, 946, 946, 946, 946, 946, 946, 946, 946, 946, 946, 946, 946, 946, 946, 946, 946, 946, 946, 946, 946, 946, 946, 946, 946, 946, 946, 946, 946, 946, 946, 946, 946, 946, 946, 946, 946, 946, 946, 946, 946, 946, 946, 946, 946, 946, 946, 946, 946, 946, 946, 946, 946, 950, 954, 957, 957, 957, 957, 957, 959, 959, 1011, 1011, 1011, 1017, 1017, 1017, 1039, 1039, 1039, 1039, 1039, 1039, 1039, 1039, 1039, 1039, 1039, 1039, 1039, 1039, 1039, 1078, 1078, 1078, 1084, 1084, 1084, 1084, 1084, 1084, 1084, 1084, 1085, 1085, 1085, 1085, 1085, 1085, 1085, 1085, 1085, 1085, 1085, 1085, 1085, 1085, 1085, 1085, 1085, 1085, 1085, 1093, 1093, 1093, 1093, 1093, 1093, 1093, 1093, 1093, 1101, 1106, 1106, 1113, 1113, 1113, 1113, 1113, 1113, 1113, 1113, 1113, 1113, 1113, 1113, 1113, 1113, 1113, 1126, 1126, 1126, 1126, 1126, 1130, 1130, 1130, 1130, 1130, 1130, 1130, 1130, 1130, 1130, 1130, 1130, 1130, 1130, 1130, 1130, 1130, 1130, 1136, 1136, 1136, 1136, 1136, 1136, 1136, 1136, 1136, 1136, 1136, 1136, 1136, 1155, 1155, 1155, 1155, 1164, 1164, 1164, 1176, 1176, 1176, 1176, 1176, 1176, 1182, 1182, 1182, 1182, 1182, 1182, 1182, 1182, 1182, 1182, 1182, 1182, 1182, 1182, 1182, 1182, 1182, 1182, 1182, 1182, 1182, 1182, 1182, 1182, 1182, 1182, 1198, 1212, 1212, 1212, 1212, 1212, 1212, 1212, 1212, 1212, 1212, 1212, 1212, 1212, 1212, 1212, 1212, 1212, 1220, 1220, 1220, 1220, 1220, 1220, 1223, 1223, 1223, 1223, 1223, 1223, 1223, 1223, 1225, 1225, 1225, 1225, 1225, 1225, 1225, 1225, 1225, 1225, 1225, 1225, 1225, 1225, 1225, 1225, 1225, 1225, 1225, 1225, 1225, 1225, 1225, 1225, 1225, 1279, 1279, 1296, 1296, 1296, 1296, 1296, 1296, 1296, 1296, 1296, 1296, 1296, 1296, 1296, 1296, 1306, 1306, 1306, 1306, 1306, 1306, 1306, 1306, 1313, 1313, 1313, 1313, 1313, 1313, 1313, 1313, 1313, 1313, 1313, 1313, 1313, 1313, 1313, 1313, 1313, 1313, 1313, 1313, 1313, 1313, 1313, 1313, 1313, 1313, 1313, 1313, 1342, 1342, 1386, 1386, 1386, 1386, 1386, 1386, 1386, 1386, 1398, 1406, 1406, 1406, 1420, 1420, 1431, 1431, 1431, 1431, 1431, 1431, 1431, 1435, 1435, 1435, 1435, 1435, 1435, 1435, 1435, 1435, 1435, 1435, 1435, 1435, 1435, 1435, 1435, 1435, 1435, 1435, 1435, 1435, 1435, 1435, 1435, 1435, 1435, 1435, 1435, 1435, 1435, 1435, 1435, 1435, 1435, 1435, 1435, 1435, 1435, 1435, 1435, 1435, 1435, 1435, 1435, 1435, 1435, 1435, 1435, 1435, 1435, 1435, 1435, 1435, 1435, 1435, 1435, 1435, 1435, 1435, 1435, 1435, 1497, 1498, 1498, 1498, 1498, 1498, 1498, 1498, 1498, 1498, 1498, 1498, 1498, 1498, 1498, 1498, 1498, 1498, 1498, 1510, 1510, 1510, 1510, 1510, 1510, 1510, 1510, 1514, 1514, 1514, 1548, 1548, 1548, 1548, 1548, 1548, 1548, 1548, 1548, 1548, 1548, 1548, 1548, 1548, 1548, 1548, 1548, 1548, 1548, 1548, 1548, 1548, 1548, 1548, 1548, 1548, 1548, 1548, 1548, 1559, 1562, 1562, 1562, 1562, 1562, 1562, 1572, 1572, 1572, 1572, 1572, 1572, 1572, 1572, 1572, 1572, 1572, 1572, 1572, 1572, 1572, 1572, 1572, 1572, 1572, 1572, 1572, 1572, 1572, 1572, 1572, 1572, 1572, 1572, 1572, 1572, 1572, 1572, 1572, 1572, 1572, 1572, 1572, 1572, 1572, 1572, 1572, 1572, 1572, 1572, 1572, 1572, 1572, 1572, 1572, 1576, 1576, 1576, 1576, 1576, 1576, 1576, 1576, 1576, 1576, 1576, 1576, 1576, 1576, 1576, 1576, 1576, 1576, 1576, 1576, 1576, 1576, 1576, 1576, 1576, 1576, 1576, 1576, 1576, 1576, 1576, 1576, 1580, 1580, 1580, 1580, 1580, 1580, 1580, 1580, 1580, 1580, 1580, 1580, 1580, 1580, 1580, 1580, 1580, 1580, 1580, 1580, 1580, 1580, 1580, 1580, 1580, 1580, 1594, 1594, 1618, 1618, 1618, 1618, 1618, 1672, 1679, 1679, 1679, 1679, 1680, 1680, 1680, 1680, 1680, 1680, 1680, 1680, 1680, 1680, 1680, 1687, 1687, 1687, 1687, 1687, 1687, 1688, 1697, 1697, 1697, 1697, 1699, 1699, 1699, 1699, 1699, 1741, 1741, 1741, 1741, 1741, 1741, 1741, 1741, 1741, 1741, 1741, 1751, 1751, 1751, 1751, 1751, 1751, 1751, 1751, 1751, 1751, 1751, 1751, 1768, 1768, 1768, 1768, 1768, 1768, 1768, 1768, 1768, 1768, 1768, 1768, 1768, 1786, 1786, 1786, 1786, 1786, 1786, 1786, 1786, 1786, 1786, 1786, 1786, 1786, 1786, 1786, 1786, 1786, 1786, 1786, 1786, 1786, 1786, 1804, 1804, 1804, 1804, 1804, 1808, 1808, 1818, 1818, 1818, 1831, 1831, 1831, 1831, 1831, 1831, 1831, 1831, 1831, 1831, 1831, 1831, 1831, 1831, 1831, 1839, 1839, 1853, 1853, 1853, 1853, 1853, 1853, 1853, 1853, 1853, 1853, 1853, 1853, 1853, 1853, 1853, 1863, 1863, 1863, 1865, 1865, 1865, 1865, 1874, 1874, 1874, 1874, 1874, 1884, 1884, 1884, 1884, 1884, 1884, 1884, 1884, 1884, 1884, 1884, 1884, 1884, 1884, 1912, 1912, 1912, 1925, 1925, 1925, 1925, 1925, 1930, 1930, 1930, 1930, 1930, 1930, 1930, 1959, 1959, 1959, 1972, 1972, 1972, 1972, 1972, 1972, 1972, 1972, 1972, 1972, 1972, 1972, 1972, 1972, 1972, 1972, 1972, 1972, 1972, 1972, 1972, 1972, 1972, 1972, 1972, 1972, 1972, 1972, 1972, 1972, 1972, 1972, 1972, 1972, 1972, 1972, 1972, 1972, 1972, 1996, 1996, 1996, 1996, 1996, 1996, 1996, 1996, 1996, 1996, 1996, 1996, 1996, 1996, 2010, 2010, 2026, 2026, 2028, 2028, 2056, 2056, 2056, 2056, 2056, 2060, 2060, 2060, 2060, 2060, 2060, 2060, 2060, 2060, 2060, 2060, 2060, 2060, 2060, 2060, 2060, 2060, 2060, 2060, 2060, 2060, 2060, 2060, 2060, 2060, 2060, 2064, 2064, 2064, 2064, 2064, 2064, 2064, 2064, 2064, 2064, 2064, 2064, 2064, 2064, 2064, 2088, 2095, 2110, 2110, 2111, 2111, 2111, 2111, 2122, 2122, 2122, 2122, 2122, 2122, 2122, 2122, 2136, 2136, 2136, 2149, 2149, 2149, 2149, 2149, 2149, 2149, 2149, 2149, 2169, 2169, 2169, 2169, 2169, 2169, 2169, 2169, 2169, 2198, 2198, 2198, 2198, 2198, 2198, 2233, 2233, 2233, 2233, 2233, 2233, 2235, 2235, 2235, 2235, 2235, 2235, 2235, 2235, 2235, 2235, 2235, 2235, 2238, 2238, 2238, 2238, 2238, 2238, 2238, 2238, 2250, 2281, 2281, 2281, 2281, 2281, 2303, 2303, 2303, 2303, 2303, 2303, 2327, 2327, 2327, 2327, 2327, 2327, 2328, 2328, 2328, 2329, 2342, 2342, 2342, 2342, 2342, 2342, 2342, 2342, 2342, 2350, 2350, 2350, 2350, 2350, 2385, 2385, 2385, 2385, 2385, 2385, 2385, 2385, 2392, 2392, 2392, 2403, 2415, 2415, 2418, 2418, 2418, 2418, 2436, 2436, 2436, 2436, 2436, 2436, 2436, 2436, 2436, 2436, 2449, 2450, 2497, 2497, 2497, 2513, 2513, 2513, 2513, 2513, 2513, 2513, 2513, 2513, 2529, 2529, 2529, 2529, 2529, 2529, 2529, 2529, 2529, 2529, 2529, 2529, 2529, 2529, 2529, 2529, 2553, 2553, 2553, 2553, 2553, 2553, 2553, 2553, 2553, 2553, 2553, 2553, 2553, 2553, 2553, 2553, 2553, 2553, 2553, 2553, 2553, 2553, 2553, 2553, 2553, 2553, 2553, 2553, 2553, 2553, 2553, 2553, 2553, 2557, 2562, 2582, 2582, 2582, 2582, 2582, 2582, 2582, 2587, 2587, 2587, 2587, 2587, 2587, 2587, 2587, 2594, 2594, 2594, 2638, 2638, 2700, 2700, 2700, 2708, 2708, 2708, 2708, 2708, 2708, 2708, 2737, 2737, 2737, 2737, 2737, 2737, 2737, 2739, 2739, 2739, 2739, 2739, 2739, 2739, 2739, 2739, 2739, 2739, 2772, 2772, 2772, 2782, 2782, 2782, 2782, 2782, 2782, 2782, 2813, 2821, 2821, 2826, 2826, 2826, 2826, 2826, 2826, 2826, 2826, 2829, 2829, 2829, 2829, 2829, 2829, 2829, 2829, 2829, 2829, 2829, 2829, 2829, 2829, 2829, 2829, 2829, 2829, 2829, 2829, 2829, 2829, 2829, 2834, 2834, 2834, 2834, 2834, 2844, 2844, 2844, 2844, 2844, 2844, 2844, 2844, 2844, 2844, 2844, 2844, 2844, 2844, 2844, 2844, 2844, 2844, 2846, 2846, 2846, 2846, 2846, 2846, 2846, 2846, 2846, 2846, 2851, 2851, 2851, 2851, 2866, 2866, 2866, 2866, 2868, 2868, 2868, 2868, 2868, 2868, 2868, 2868, 2868, 2868, 2868, 2868, 2868, 2868, 2868, 2868, 2868, 2868, 2868, 2868, 2868, 2868, 2868, 2868, 2868, 2868, 2868, 2868, 2868, 2913, 2913, 2913, 2913, 2913, 2913, 2913, 2913, 2913, 2913, 2913, 2913, 2923, 2926, 2926, 2927, 2927, 2927, 2927, 2927, 2927, 2927, 2927, 2927, 2927, 2927, 2927, 2927, 2927, 2927, 2927, 2927, 2935, 2935, 2935, 2935, 2935, 2935, 2938, 2938, 2938, 2938, 2938, 2938, 2938, 2938, 2938, 2938, 2938, 2949, 2949, 2949, 2949, 2949, 2949, 2949, 2949, 2949, 2949, 2949, 2949, 2949, 2949, 2949, 2949, 2957, 2957, 2957, 2957, 2957, 2957, 2957, 2957, 2957, 2957, 2957, 2957, 2957, 2957, 2957, 2957, 2957, 2963, 2963, 2963, 2963, 2974, 2974, 2974, 2976, 2976, 2976, 2976, 2976, 2976, 2983, 2991, 3002, 3002, 3002, 3002, 3002, 3002, 3002, 3028, 3028, 3028, 3028, 3030, 3034, 3034, 3034, 3034, 3034, 3034, 3034, 3034, 3034, 3034, 3034, 3034, 3034, 3034, 3034, 3034, 3034, 3034, 3034, 3034, 3034, 3034, 3034, 3034, 3034, 3034, 3034, 3035, 3035, 3035, 3035, 3035, 3035, 3035, 3038, 3038, 3038, 3038, 3038, 3038, 3038, 3038, 3038, 3038, 3038, 3038, 3038, 3038, 3038, 3038, 3038, 3038, 3038, 3038, 3038, 3038, 3038, 3038, 3038, 3038, 3038, 3040, 3040, 3040, 3040, 3040, 3044, 3044, 3044, 3044, 3044, 3044, 3044, 3044, 3044, 3044, 3044, 3044, 3044, 3044, 3044, 3044, 3044, 3044, 3044, 3044, 3044, 3044, 3050, 3050, 3050, 3050, 3067, 3067, 3067, 3067, 3074, 3074, 3074, 3074, 3074, 3081, 3081, 3081, 3081, 3081, 3081, 3081, 3081, 3081, 3081, 3081, 3081, 3081, 3081, 3081, 3081, 3081, 3081, 3081, 3081, 3081, 3081, 3081, 3081, 3081, 3081, 3089, 3110, 3110, 3151, 3151, 3151, 3151, 3151, 3151, 3155, 3155, 3155, 3155, 3183, 3183, 3183, 3183, 3183, 3183, 3183, 3183, 3183, 3183, 3183, 3183, 3184, 3184, 3184, 3184, 3184, 3184, 3184, 3184, 3184, 3184, 3184, 3184, 3184, 3184, 3186, 3186, 3186, 3186, 3186, 3186, 3186, 3186, 3201, 3221, 3221, 3221, 3221, 3221, 3221, 3221, 3235, 3235, 3235, 3235, 3236, 3240, 3240, 3240, 3240, 3240, 3240, 3240, 3240, 3240, 3240, 3240, 3240, 3240, 3240, 3240, 3240, 3240, 3240, 3240, 3240, 3240, 3240, 3240, 3253, 3253, 3253, 3253, 3253, 3284, 3284, 3284, 3284, 3284, 3285, 3288, 3288, 3288, 3288, 3288, 3315, 3315, 3315, 3315, 3315, 3315, 3315, 3315, 3315, 3315, 3315, 3315, 3315, 3315, 3315, 3324, 3324, 3324, 3324, 3373, 3414, 3414, 3432, 3432, 3436, 3436, 3436, 3436, 3436, 3436, 3455, 3455, 3455, 3455, 3455, 3455, 3455, 3455, 3455, 3455, 3455, 3455, 3455, 3482, 3482, 3482, 3482, 3482, 3482, 3482, 3482, 3482, 3482, 3490, 3509, 3509, 3509, 3509, 3509, 3509, 3509, 3509, 3509, 3509, 3509, 3509, 3509, 3509, 3515, 3515, 3515, 3515, 3515, 3515, 3515, 3515, 3515, 3515, 3515, 3515, 3523, 3523, 3523, 3523, 3523, 3523, 3523, 3523, 3523, 3523, 3523, 3523, 3523, 3523, 3549, 3549, 3549, 3549, 3549, 3549, 3549, 3549, 3549, 3549, 3549, 3550, 3550, 3550, 3550, 3550, 3550, 3555, 3555, 3555, 3556, 3556, 3564, 3566, 3566, 3566, 3566, 3588, 3606, 3606, 3606, 3606, 3606, 3606, 3606, 3613, 3613, 3613, 3613, 3613, 3613, 3613, 3613, 3613, 3613, 3613, 3613, 3613, 3613, 3613, 3613, 3613, 3613, 3613, 3613, 3613, 3613, 3613, 3613, 3613, 3613, 3613, 3613, 3613, 3642, 3642, 3642, 3642, 3642, 3642, 3647, 3662, 3662, 3662, 3662, 3662, 3662, 3662, 3662, 3662, 3663, 3663, 3663, 3663, 3663, 3663, 3663, 3663, 3663, 3663, 3663, 3663, 3663, 3663, 3663, 3663, 3663, 3663, 3663, 3663, 3663, 3663, 3663, 3663, 3663, 3663, 3663, 3663, 3663, 3663, 3665, 3665, 3665, 3665, 3665, 3665, 3665, 3665, 3665, 3665, 3665, 3665, 3665, 3665, 3665, 3665, 3665, 3665, 3665, 3665, 3665, 3709, 3709, 3709, 3709, 3709, 3709, 3709, 3709, 3709, 3709, 3709, 3709, 3709, 3709, 3709, 3709, 3709, 3709, 3715, 3715, 3716, 3716, 3716, 3716, 3717, 3717, 3717, 3726, 3726, 3726, 3726, 3726, 3726, 3726, 3726, 3726, 3726, 3726, 3742, 3742, 3742, 3742, 3742, 3742, 3742, 3770, 3777, 3777, 3777, 3777, 3777, 3777, 3777, 3777, 3777, 3777, 3777, 3777, 3777, 3777, 3777, 3777, 3777, 3777, 3777, 3777, 3777, 3777, 3777, 3781, 3781, 3781, 3781, 3781, 3782, 3782, 3784, 3784, 3784, 3807, 3807, 3807, 3811, 3811, 3811, 3811, 3811, 3816, 3816, 3816, 3816, 3816, 3816, 3816, 3816, 3816, 3816, 3817, 3817, 3817, 3817, 3817, 3817, 3825, 3825, 3843, 3843, 3843, 3843, 3843, 3843, 3843, 3843, 3843, 3843, 3843, 3843, 3843, 3843, 3843, 3843, 3843, 3843, 3843, 3843, 3843, 3843, 3864, 3864, 3864, 3864, 3864, 3864, 3864, 3864, 3864, 3864, 3864, 3864, 3864, 3864, 3864, 3864, 3864, 3864, 3864, 3864, 3891, 3891, 3891, 3891, 3891, 3891, 3891, 3891, 3891, 3891, 3891, 3891, 3891, 3891, 3891, 3891, 3891, 3891, 3891, 3891, 3891, 3891, 3891, 3891, 3891, 3892, 3892, 3892, 3892, 3892, 3892, 3892, 3892, 3892, 3892, 3892, 3892, 3892, 3892, 3892, 3899, 3899, 3907, 3932, 3932, 3932, 3932, 3933, 3933, 3933, 3933, 3933, 3933, 3933, 3933, 3933, 3933, 3933, 3933, 3933, 3937, 3937, 3937, 3937, 3937, 3937, 3937, 3948, 3948, 3948, 3948, 3948, 3952, 3952, 3954, 3954, 3973, 3975, 3980, 3980, 3980, 3980, 3980, 3980, 3980, 3981, 3981, 3981, 3981, 3981, 3981, 3981, 3981, 3981, 3981, 3981, 3981, 3981, 3981, 3981, 3981, 3981, 3981, 3981, 3981, 3981, 3981, 3981, 3981, 3981, 3981, 3981, 3983, 3983, 3983, 3983, 3983, 3983, 3983, 3983, 3983, 3983, 3983, 3983, 3983, 3983, 3996, 4021, 4022, 4022, 4058, 4058, 4058, 4058, 4058, 4058, 4058, 4058, 4058, 4058, 4058, 4058, 4058, 4058, 4058, 4058, 4058, 4058, 4058, 4058, 4058, 4058, 4067, 4067, 4067, 4077, 4077, 4077, 4077, 4077, 4077, 4077, 4077, 4077, 4077, 4077, 4077, 4077, 4107, 4107, 4107, 4107, 4107, 4107, 4114, 4114, 4114, 4114, 4114, 4114, 4114, 4114, 4114, 4114, 4114, 4116, 4116, 4116, 4127, 4128, 4128, 4128, 4128, 4129, 4129, 4129, 4129, 4144, 4144, 4144, 4144, 4144, 4144, 4144, 4144, 4144, 4144, 4144, 4144, 4144, 4144, 4144, 4144, 4144, 4144, 4144, 4144, 4144, 4144, 4144, 4144, 4144, 4144, 4144, 4145, 4145, 4145, 4145, 4145, 4145, 4145, 4146, 4146, 4146, 4148, 4148, 4148, 4148, 4148, 4148, 4148, 4148, 4148, 4148, 4150, 4150, 4159, 4159, 4159, 4168, 4172, 4172, 4172, 4174, 4176, 4176, 4176, 4176, 4176, 4176, 4176, 4176, 4176, 4177, 4177, 4177, 4177, 4177, 4177, 4179, 4179, 4181, 4184, 4191, 4191, 4195, 4214, 4214, 4214, 4214, 4214, 4214, 4214, 4214, 4214, 4214, 4214, 4214, 4214, 4214, 4214, 4214, 4214, 4214, 4214, 4214, 4214, 4214, 4214, 4214, 4214, 4214, 4214, 4214, 4214, 4214, 4214, 4214, 4214, 4214, 4214, 4214, 4233, 4233, 4233, 4233, 4233, 4233, 4233, 4233, 4233, 4233, 4233, 4233, 4233, 4233, 4233, 4233, 4233, 4233, 4233, 4233, 4233, 4233, 4233, 4233, 4233, 4233, 4233, 4233, 4233, 4233, 4233, 4233, 4233, 4233, 4233, 4233, 4233, 4233, 4233, 4240, 4240, 4240, 4240, 4240, 4240, 4240, 4240, 4240, 4240, 4240, 4257, 4257, 4257, 4257, 4257, 4257, 4257, 4257, 4257, 4257, 4257, 4257, 4257, 4284, 4284, 4284, 4284, 4284, 4284, 4284, 4284, 4284, 4284, 4284, 4284, 4284, 4284, 4284, 4284, 4284, 4284, 4284, 4284, 4284, 4284, 4284, 4284, 4284, 4284, 4284, 4284, 4284, 4284, 4284, 4284, 4284, 4284, 4284, 4284, 4284, 4284, 4284, 4284, 4284, 4284, 4284, 4284, 4284, 4284, 4284, 4284, 4284, 4284, 4284, 4284, 4284, 4284, 4284, 4284, 4284, 4284, 4284, 4284, 4284, 4291, 4291, 4291, 4301, 4301, 4301, 4301, 4301, 4301, 4301, 4301, 4301, 4301, 4301, 4301, 4301, 4301, 4301, 4301, 4301, 4301, 4301, 4301, 4301, 4303, 4303, 4303, 4309, 4309, 4309, 4309, 4309, 4309, 4309, 4309, 4309, 4309, 4309, 4309, 4309, 4309, 4309, 4309, 4309, 4309, 4309, 4309, 4309, 4309, 4309, 4309, 4315, 4315, 4315, 4315, 4315, 4315, 4315, 4315, 4315, 4316, 4316, 4316, 4316, 4316, 4316, 4316, 4316, 4340, 4340, 4340, 4340, 4340, 4340, 4340, 4340, 4340, 4340, 4340, 4340, 4340, 4340, 4340, 4340, 4340, 4340, 4340, 4340, 4340, 4340, 4340, 4340, 4340, 4340, 4340, 4340, 4340, 4340, 4340, 4340, 4340, 4340, 4342, 4342, 4342, 4344, 4344, 4344, 4344, 4344, 4344, 4353, 4353, 4353, 4353, 4353, 4353, 4362, 4408, 4408, 4408, 4408, 4408, 4408, 4408, 4408, 4408, 4408, 4408, 4408, 4408, 4408, 4408, 4408, 4408, 4410, 4410, 4410, 4410, 4410, 4410, 4410, 4413, 4413, 4413, 4413, 4413, 4413, 4413, 4413, 4445, 4445, 4445, 4445, 4449, 4449, 4449, 4449, 4449, 4449, 4467, 4476, 4476, 4476, 4476, 4476, 4476, 4476, 4476, 4481, 4481, 4481, 4481, 4481, 4481, 4481, 4481, 4481, 4481, 4481, 4481, 4481, 4481, 4492, 4492, 4492, 4492, 4492, 4492, 4492, 4500, 4500, 4500, 4500, 4500, 4500, 4500, 4500, 4500, 4500, 4500, 4500, 4500, 4500, 4500, 4500, 4500, 4500, 4500, 4500, 4500, 4505, 4508, 4508, 4508, 4508, 4508, 4508, 4508, 4508, 4508, 4508, 4508, 4508, 4508, 4508, 4574, 4574, 4574, 4574, 4574, 4574, 4574, 4574, 4574, 4574, 4574, 4574, 4574, 4574, 4574, 4574, 4574, 4574, 4574, 4574, 4574, 4574, 4574, 4574, 4574, 4574, 4592, 4592, 4592, 4592, 4592, 4592, 4592, 4592, 4601, 4601, 4601, 4601, 4601, 4601, 4601, 4601, 4601, 4601, 4601, 4601, 4601, 4601, 4601, 4601, 4601, 4601, 4601, 4601, 4601, 4601, 4601, 4601, 4601, 4601, 4601, 4601, 4601, 4601, 4601, 4619, 4619, 4619, 4619, 4619, 4619, 4619, 4619, 4619, 4619, 4619, 4619, 4619, 4634, 4634, 4634, 4634, 4634, 4634, 4634, 4634, 4634, 4646, 4655, 4655, 4655, 4655, 4655, 4655, 4655, 4655, 4655, 4655, 4655, 4655, 4655, 4655, 4655, 4659, 4659, 4659, 4659, 4659, 4659, 4659, 4659, 4659, 4659, 4692, 4692, 4692, 4692, 4692, 4692, 4699, 4699, 4718, 4718, 4718, 4718, 4718, 4718, 4718, 4718, 4718, 4718, 4718, 4718, 4718, 4718, 4718, 4718, 4718, 4718, 4718, 4718, 4729, 4729, 4729, 4729, 4729, 4729, 4729, 4729, 4729, 4729, 4729, 4729, 4729, 4729, 4729, 4729, 4729, 4729, 4729, 4729, 4731, 4731, 4731, 4731, 4731, 4731, 4731, 4731, 4731, 4731, 4731, 4731, 4731, 4731, 4731, 4731, 4731, 4731, 4731, 4731, 4731, 4731, 4731, 4731, 4731, 4731, 4731, 4731, 4731, 4731, 4731, 4731, 4731, 4731, 4731, 4731, 4731, 4731, 4731, 4731, 4731, 4731, 4731, 4731, 4731, 4731, 4731, 4731, 4731, 4731, 4731, 4731, 4731, 4731, 4731, 4731, 4731, 4731, 4731, 4731, 4731, 4731, 4731, 4731, 4731, 4731, 4731, 4731, 4731, 4731, 4731, 4731, 4731, 4731, 4731, 4731, 4731, 4731, 4731, 4731, 4731, 4731, 4731, 4731, 4731, 4731, 4731, 4731, 4731, 4732, 4749, 4749, 4749, 4749, 4749, 4749, 4749, 4749, 4755, 4755, 4755, 4755, 4755, 4755, 4755, 4755, 4755, 4755, 4755, 4755, 4755, 4755, 160, 160, 160, 160, 160, 187, 187, 187, 187, 187, 187, 187, 187, 187, 187, 435, 521, 521, 521, 521, 521, 521, 521, 521, 521, 521, 521, 521, 521, 521, 521, 521, 521, 521, 521, 521, 521, 521, 521, 521, 521, 521, 521, 538, 538, 538, 614, 651, 1034, 1034, 1034, 1034, 1034, 1034, 1034, 1034, 1034, 1034, 1034, 1034, 1034, 1034, 1034, 1162, 1162, 1162, 1162, 1162, 1162, 1162, 1162, 1162, 1162, 1162, 1162, 1162, 1162, 1162, 1174, 1174, 1174, 1174, 1174, 1272, 1272, 1311, 1311, 1311, 1311, 1311, 1311, 1311, 1328, 1328, 1328, 1328, 1585, 1585, 1585, 1673, 1673, 1673, 1673, 1673, 1673, 1673, 1673, 1673, 1673, 1673, 1673, 1673, 1673, 1673, 1673, 2029, 2029, 2029, 2029, 2029, 2029, 2029, 2029, 2029, 2214, 2214, 2554, 2554, 2554, 2554, 2554, 2554, 2554, 2554, 2554, 2554, 2554, 2554, 2554, 2554, 2554, 2554, 2554, 2554, 2554, 2554, 2554, 2554, 2554, 2554, 2554, 2706, 2706, 2706, 2706, 2706, 2706, 2706, 2706, 2706, 2706, 2706, 2706, 2706, 2706, 2706, 2706, 2706, 2706, 2706, 2862, 2862, 2920, 2920, 2920, 2920, 2920, 2920, 2920, 2920, 2920, 3025, 3025, 3025, 3025, 3025, 3025, 3214, 3214, 3214, 3214, 3214, 3649, 3649, 3842, 3842, 3842, 3842, 3842, 3842, 3842, 3929, 3929, 3929, 3929, 3929, 3929, 3929, 4063, 4063, 4063, 4063, 4063, 4063, 4063, 4063, 4063, 4063, 4063, 4224, 4270, 4270, 4270, 4270, 4270, 4270, 4270, 4387, 4387, 4387, 4387, 4387, 4387, 4387, 4387, 4387, 4387, 4387, 4387, 4387, 4387, 4387, 4387, 4387, 4708, 4708, 4708, 4708, 4708, 4708, 4708, 4708, 4708, 4708, 4708, 4708, 4708, 4708, 4708, 4708, 4741, 34, 34, 34, 175, 175, 175, 175, 251, 251, 251, 251, 251, 251, 251, 251, 251, 251, 251, 251, 251, 417, 417, 417, 417, 417, 423, 423, 423, 423, 423, 423, 423, 423, 423, 423, 423, 423, 423, 423, 423, 423, 423, 423, 423, 423, 423, 423, 680, 680, 680, 680, 680, 680, 788, 788, 788, 788, 788, 788, 853, 853, 853, 853, 853, 853, 853, 853, 853, 853, 853, 853, 853, 853, 853, 853, 853, 853, 853, 853, 853, 853, 853, 853, 853, 853, 853, 853, 853, 853, 853, 853, 853, 853, 853, 853, 853, 853, 853, 853, 853, 853, 853, 853, 853, 853, 853, 853, 853, 853, 853, 853, 853, 853, 853, 853, 853, 853, 853, 853, 853, 853, 853, 853, 853, 853, 853, 853, 1025, 1025, 1025, 1025, 1025, 1025, 1025, 1025, 1054, 1054, 1054, 1054, 1139, 1139, 1139, 1139, 1139, 1139, 1139, 1139, 1139, 1139, 1139, 1139, 1139, 1139, 1139, 1177, 1177, 1177, 1177, 1177, 1177, 1177, 1177, 1177, 1177, 1281, 1281, 1281, 1281, 1281, 1281, 1281, 1535, 1535, 1535, 1535, 1535, 1535, 1535, 1535, 1535, 1535, 1535, 1535, 1535, 1535, 1535, 1535, 1535, 1535, 1535, 1535, 1535, 1535, 1535, 1535, 1535, 1535, 1535, 1535, 1535, 1535, 1535, 1547, 1547, 1547, 1547, 1547, 1547, 1547, 1547, 1547, 1547, 1596, 1596, 1596, 1596, 1596, 1662, 1665, 1665, 1665, 1665, 1665, 1665, 1665, 1665, 1866, 1866, 1866, 1866, 1932, 1945, 1945, 1945, 1945, 1977, 1977, 1977, 1977, 1977, 1977, 1977, 1977, 1977, 1977, 1977, 1977, 1977, 1977, 1977, 2020, 2020, 2020, 2020, 2020, 2020, 2020, 2020, 2046, 2046, 2046, 2046, 2046, 2046, 2046, 2046, 2046, 2046, 2046, 2046, 2046, 2046, 2046, 2046, 2046, 2046, 2046, 2046, 2046, 2046, 2046, 2046, 2099, 2113, 2113, 2113, 2113, 2113, 2113, 2113, 2113, 2113, 2113, 2113, 2113, 2161, 2161, 2161, 2161, 2203, 2203, 2203, 2203, 2224, 2347, 2347, 2347, 2347, 2347, 2347, 2347, 2347, 2347, 2347, 2371, 2371, 2371, 2371, 2371, 2371, 2371, 2371, 2371, 2371, 2371, 2371, 2371, 2371, 2371, 2371, 2371, 2371, 2371, 2371, 2371, 2371, 2616, 2616, 2616, 2673, 3009, 3009, 3054, 3054, 3054, 3144, 3144, 3144, 3144, 3144, 3144, 3144, 3585, 3585, 3585, 3585, 3585, 3585, 3585, 3585, 3585, 3585, 3585, 3585, 3585, 3585, 3585, 3585, 3585, 3585, 3585, 3585, 3585, 3585, 3585, 3585, 3585, 3585, 3585, 3585, 3586, 3586, 3586, 3586, 3586, 3753, 3753, 3753, 3901, 3901, 3901, 3901, 3901, 3904, 3904, 4069, 4069, 4069, 4071, 4071, 4071, 4071, 4071, 4071, 4071, 4071, 4071, 4071, 4071, 4071, 4071, 4071, 4071, 4071, 4164, 4164, 4164, 4164, 4164, 4164, 4212, 4212, 4212, 4212, 4212, 4212, 4222, 4222, 4222, 4222, 4222, 4222, 4222, 4222, 4222, 4222, 4222, 4222, 4222, 4222, 4222, 4222, 4222, 4222, 4222, 4356, 4356, 4356, 4356, 4356, 4356, 4356, 4356, 4356, 4356, 4356, 4356, 4356, 4356, 4356, 4356, 4356, 4356, 4356, 4356, 4356, 4356, 4356, 4356, 4356, 4373, 4398, 4398, 4398, 4398, 4398, 4398, 4398, 4398, 4398, 4398, 4398, 4398, 4398, 4398, 4398, 4398, 4398, 4398, 4398, 4424, 4424, 4424, 4424, 4439, 4439, 4439, 4439, 4439, 4439, 4439, 4439, 4439, 4439, 4439, 4439, 4439, 4439, 4439, 4439, 4439, 4439, 4439, 4439, 4439, 4439, 4439, 4439, 4439, 4439, 4525, 4579, 4579, 4579, 4579, 4579, 4579, 4579, 4579, 4579, 4579, 4579, 4579, 4579, 4579, 4579, 4579, 4579, 4579, 4579, 4579, 4579, 4579, 4579, 4579, 4579, 4579, 4579, 4579, 4579, 4579, 4579, 4579, 4579, 4579, 4588, 4588, 4719, 1, 1, 4, 4, 4, 8, 8, 8, 8, 8, 8, 8, 8, 8, 8, 8, 8, 10, 11, 11, 18, 18, 18, 18, 18, 18, 18, 18, 18, 18, 18, 18, 18, 21, 21, 21, 21, 21, 21, 28, 28, 41, 46, 46, 46, 46, 46, 46, 46, 46, 46, 46, 46, 46, 46, 46, 46, 59, 59, 59, 62, 62, 64, 72, 79, 79, 79, 80, 80, 82, 82, 89, 89, 89, 89, 89, 89, 89, 89, 89, 89, 89, 89, 89, 91, 91, 91, 91, 91, 91, 91, 91, 91, 91, 91, 91, 91, 91, 91, 91, 91, 91, 91, 91, 91, 91, 92, 92, 92, 92, 92, 92, 92, 92, 92, 92, 92, 108, 115, 115, 117, 117, 125, 125, 130, 130, 130, 130, 130, 130, 130, 130, 130, 130, 130, 130, 130, 161, 161, 162, 168, 179, 186, 186, 188, 188, 198, 198, 211, 211, 211, 211, 221, 221, 221, 221, 231, 231, 231, 231, 231, 231, 231, 231, 231, 231, 231, 231, 231, 231, 231, 231, 231, 231, 231, 231, 231, 231, 231, 231, 231, 231, 231, 231, 231, 238, 238, 239, 239, 239, 239, 239, 239, 239, 239, 239, 239, 239, 239, 241, 242, 254, 254, 254, 254, 255, 255, 255, 255, 255, 255, 255, 255, 255, 255, 255, 255, 256, 256, 256, 256, 256, 256, 256, 256, 256, 256, 256, 256, 256, 256, 256, 261, 261, 261, 262, 262, 262, 262, 262, 262, 262, 262, 266, 266, 266, 266, 276, 281, 281, 281, 281, 281, 281, 281, 281, 281, 289, 289, 297, 297, 297, 300, 300, 300, 300, 300, 302, 311, 311, 311, 311, 311, 311, 311, 313, 313, 313, 316, 316, 316, 316, 316, 322, 326, 326, 328, 332, 332, 336, 336, 336, 336, 336, 348, 348, 348, 348, 348, 348, 348, 348, 348, 348, 348, 348, 348, 348, 348, 348, 348, 348, 348, 348, 350, 350, 350, 350, 355, 355, 355, 355, 355, 355, 355, 355, 355, 355, 355, 355, 355, 355, 355, 355, 355, 355, 355, 355, 355, 355, 355, 355, 355, 355, 355, 356, 357, 357, 357, 357, 357, 357, 357, 357, 357, 357, 357, 357, 357, 357, 357, 357, 357, 357, 357, 357, 357, 357, 357, 357, 357, 357, 357, 357, 357, 359, 359, 359, 374, 376, 387, 387, 387, 391, 391, 391, 391, 391, 391, 391, 403, 403, 403, 403, 403, 403, 403, 406, 406, 406, 406, 406, 406, 414, 414, 414, 414, 418, 425, 425, 425, 426, 426, 426, 426, 426, 426, 429, 429, 431, 431, 431, 431, 431, 431, 431, 431, 431, 431, 431, 434, 434, 434, 437, 437, 437, 437, 437, 437, 444, 460, 460, 460, 460, 460, 460, 460, 460, 460, 460, 460, 460, 460, 460, 460, 462, 463, 467, 467, 467, 467, 467, 470, 470, 471, 471, 471, 471, 471, 471, 480, 480, 483, 483, 483, 483, 483, 483, 491, 494, 494, 494, 503, 503, 515, 525, 529, 529, 529, 529, 529, 529, 529, 529, 529, 529, 531, 531, 531, 531, 531, 531, 531, 531, 531, 531, 531, 531, 531, 531, 532, 532, 532, 532, 533, 533, 533, 533, 533, 533, 533, 533, 533, 533, 533, 533, 533, 533, 533, 533, 533, 533, 533, 540, 540, 540, 540, 541, 541, 541, 541, 541, 541, 541, 541, 541, 541, 541, 544, 544, 546, 546, 546, 546, 546, 546, 546, 546, 546, 546, 546, 546, 546, 546, 555, 555, 555, 559, 559, 559, 559, 559, 559, 559, 559, 559, 561, 561, 561, 561, 561, 561, 561, 561, 561, 564, 570, 574, 574, 574, 574, 574, 574, 574, 574, 574, 574, 574, 574, 574, 574, 574, 574, 574, 574, 574, 574, 574, 574, 574, 576, 576, 577, 577, 577, 577, 577, 577, 577, 577, 577, 577, 577, 577, 577, 582, 582, 582, 585, 587, 587, 587, 587, 587, 587, 587, 590, 590, 593, 593, 593, 593, 593, 593, 593, 593, 593, 593, 593, 593, 593, 593, 593, 593, 593, 593, 593, 593, 593, 601, 601, 601, 601, 601, 601, 602, 602, 602, 602, 602, 603, 609, 609, 612, 612, 612, 612, 612, 612, 612, 618, 618, 618, 618, 618, 618, 618, 618, 618, 618, 626, 626, 626, 628, 628, 628, 632, 632, 632, 636, 642, 642, 642, 642, 642, 642, 642, 642, 645, 645, 645, 645, 645, 650, 650, 650, 650, 650, 650, 650, 650, 650, 650, 654, 654, 655, 655, 655, 655, 656, 656, 656, 657, 657, 657, 657, 657, 657, 657, 657, 657, 657, 657, 657, 657, 657, 657, 657, 657, 657, 657, 657, 657, 660, 660, 660, 660, 660, 660, 660, 660, 660, 670, 670, 670, 676, 677, 677, 677, 677, 677, 677, 679, 684, 684, 684, 684, 684, 684, 684, 690, 690, 690, 690, 690, 690, 690, 690, 690, 690, 690, 694, 698, 698, 698, 699, 699, 699, 699, 713, 713, 715, 715, 715, 715, 717, 720, 720, 720, 720, 720, 720, 720, 720, 720, 720, 720, 720, 720, 720, 720, 720, 720, 720, 720, 720, 720, 720, 720, 720, 720, 721, 723, 723, 723, 723, 723, 723, 723, 723, 725, 725, 725, 725, 725, 725, 725, 725, 725, 725, 725, 725, 725, 725, 736, 738, 738, 738, 738, 738, 738, 738, 738, 738, 738, 738, 738, 738, 738, 738, 738, 738, 738, 738, 739, 744, 744, 744, 744, 744, 744, 744, 744, 744, 744, 744, 744, 744, 744, 744, 744, 744, 744, 744, 748, 748, 748, 748, 748, 748, 748, 748, 748, 748, 748, 748, 751, 752, 752, 755, 757, 757, 757, 763, 763, 764, 765, 765, 765, 765, 769, 773, 773, 773, 775, 775, 775, 775, 775, 775, 777, 778, 778, 778, 778, 778, 778, 778, 778, 778, 779, 780, 780, 780, 780, 783, 795, 795, 795, 796, 796, 796, 796, 796, 796, 796, 796, 796, 796, 796, 796, 799, 799, 799, 802, 802, 802, 802, 802, 802, 802, 802, 802, 802, 802, 802, 802, 802, 802, 802, 802, 802, 802, 802, 802, 802, 802, 802, 802, 802, 802, 802, 802, 804, 817, 817, 823, 825, 825, 825, 825, 825, 825, 825, 825, 825, 825, 825, 825, 825, 828, 828, 833, 833, 837, 837, 837, 837, 837, 837, 837, 837, 837, 837, 837, 837, 837, 837, 837, 844, 844, 844, 844, 844, 844, 844, 844, 844, 844, 844, 844, 845, 845, 845, 846, 846, 846, 848, 849, 849, 849, 849, 850, 852, 852, 852, 852, 852, 852, 852, 852, 852, 852, 852, 852, 852, 852, 852, 852, 852, 861, 866, 866, 866, 866, 866, 873, 881, 881, 881, 881, 881, 881, 881, 881, 881, 881, 881, 881, 881, 881, 881, 881, 881, 881, 881, 881, 881, 881, 881, 881, 881, 881, 881, 881, 881, 881, 881, 881, 881, 881, 881, 881, 881, 881, 881, 881, 881, 881, 881, 881, 881, 881, 881, 881, 881, 881, 881, 881, 893, 893, 893, 895, 895, 895, 895, 895, 895, 895, 895, 895, 895, 895, 895, 895, 895, 895, 895, 895, 895, 895, 895, 895, 895, 895, 895, 895, 895, 895, 895, 895, 895, 903, 904, 904, 904, 904, 904, 904, 904, 905, 907, 909, 910, 910, 910, 911, 911, 911, 911, 911, 911, 911, 911, 914, 914, 914, 914, 914, 915, 915, 917, 921, 921, 926, 927, 927, 927, 934, 934, 934, 934, 938, 941, 951, 956, 956, 956, 960, 960, 960, 960, 960, 960, 960, 960, 960, 960, 960, 960, 960, 960, 963, 963, 963, 963, 963, 963, 963, 963, 963, 963, 973, 975, 975, 975, 975, 975, 977, 977, 977, 977, 977, 977, 977, 977, 977, 977, 977, 977, 977, 977, 977, 977, 977, 977, 977, 977, 977, 985, 985, 985, 988, 988, 988, 988, 988, 988, 988, 988, 988, 988, 988, 996, 1001, 1006, 1006, 1006, 1006, 1006, 1018, 1018, 1018, 1018, 1018, 1018, 1018, 1018, 1018, 1018, 1018, 1018, 1018, 1020, 1021, 1024, 1024, 1027, 1044, 1044, 1044, 1046, 1046, 1047, 1047, 1047, 1047, 1047, 1047, 1047, 1047, 1047, 1047, 1047, 1047, 1047, 1050, 1050, 1051, 1051, 1051, 1051, 1051, 1051, 1051, 1051, 1051, 1051, 1051, 1055, 1059, 1059, 1059, 1059, 1059, 1059, 1059, 1059, 1063, 1065, 1065, 1065, 1065, 1066, 1066, 1066, 1066, 1066, 1066, 1066, 1066, 1066, 1066, 1066, 1066, 1071, 1071, 1071, 1071, 1071, 1080, 1082, 1082, 1082, 1082, 1082, 1082, 1082, 1082, 1082, 1082, 1082, 1082, 1087, 1090, 1096, 1097, 1097, 1097, 1097, 1097, 1097, 1097, 1097, 1099, 1105, 1120, 1120, 1120, 1120, 1120, 1120, 1120, 1120, 1120, 1120, 1120, 1120, 1127, 1127, 1127, 1127, 1127, 1128, 1128, 1128, 1128, 1128, 1133, 1133, 1133, 1133, 1133, 1135, 1138, 1138, 1138, 1138, 1138, 1138, 1144, 1144, 1144, 1144, 1144, 1144, 1144, 1144, 1144, 1144, 1144, 1144, 1144, 1144, 1144, 1144, 1144, 1144, 1144, 1144, 1144, 1144, 1144, 1144, 1144, 1144, 1144, 1144, 1144, 1144, 1144, 1144, 1144, 1144, 1144, 1144, 1144, 1144, 1144, 1144, 1144, 1144, 1144, 1144, 1144, 1144, 1144, 1161, 1161, 1161, 1165, 1165, 1165, 1165, 1166, 1166, 1166, 1166, 1169, 1169, 1169, 1169, 1169, 1169, 1169, 1169, 1169, 1169, 1169, 1169, 1169, 1169, 1169, 1169, 1169, 1169, 1169, 1169, 1171, 1171, 1171, 1171, 1171, 1171, 1181, 1181, 1181, 1194, 1206, 1219, 1219, 1219, 1219, 1219, 1219, 1219, 1219, 1219, 1219, 1222, 1222, 1222, 1222, 1222, 1222, 1222, 1222, 1222, 1222, 1222, 1222, 1222, 1222, 1222, 1222, 1222, 1222, 1222, 1222, 1222, 1222, 1222, 1222, 1222, 1222, 1222, 1222, 1222, 1222, 1229, 1232, 1232, 1232, 1233, 1233, 1233, 1233, 1233, 1233, 1233, 1233, 1233, 1233, 1233, 1233, 1233, 1233, 1233, 1233, 1233, 1240, 1242, 1243, 1243, 1243, 1243, 1251, 1252, 1252, 1252, 1253, 1253, 1253, 1253, 1253, 1253, 1253, 1253, 1253, 1253, 1253, 1253, 1253, 1253, 1253, 1253, 1253, 1253, 1253, 1253, 1253, 1253, 1253, 1253, 1253, 1253, 1253, 1253, 1253, 1253, 1253, 1253, 1253, 1253, 1253, 1253, 1253, 1253, 1253, 1253, 1259, 1259, 1259, 1259, 1259, 1259, 1259, 1259, 1259, 1259, 1259, 1259, 1259, 1259, 1259, 1259, 1259, 1259, 1259, 1259, 1259, 1259, 1259, 1259, 1259, 1259, 1259, 1259, 1259, 1259, 1259, 1259, 1259, 1259, 1265, 1266, 1266, 1266, 1266, 1266, 1266, 1266, 1269, 1269, 1269, 1269, 1269, 1269, 1269, 1269, 1271, 1271, 1277, 1278, 1285, 1285, 1285, 1287, 1287, 1287, 1287, 1287, 1287, 1287, 1287, 1287, 1287, 1287, 1287, 1287, 1287, 1287, 1287, 1287, 1287, 1287, 1293, 1293, 1299, 1303, 1303, 1303, 1303, 1303, 1303, 1303, 1303, 1303, 1303, 1303, 1303, 1307, 1308, 1309, 1314, 1314, 1314, 1314, 1314, 1314, 1314, 1314, 1314, 1322, 1322, 1322, 1323, 1324, 1324, 1324, 1324, 1324, 1324, 1324, 1324, 1324, 1324, 1327, 1327, 1331, 1331, 1331, 1331, 1331, 1331, 1332, 1332, 1332, 1333, 1334, 1334, 1334, 1334, 1334, 1334, 1334, 1334, 1334, 1334, 1334, 1334, 1334, 1334, 1334, 1339, 1341, 1351, 1351, 1351, 1351, 1351, 1351, 1356, 1361, 1363, 1364, 1364, 1364, 1364, 1364, 1364, 1364, 1364, 1370, 1370, 1372, 1372, 1372, 1372, 1372, 1372, 1372, 1372, 1372, 1372, 1372, 1372, 1372, 1372, 1372, 1372, 1372, 1372, 1372, 1372, 1372, 1372, 1372, 1372, 1372, 1372, 1372, 1372, 1372, 1372, 1372, 1372, 1372, 1372, 1372, 1374, 1374, 1374, 1374, 1374, 1374, 1374, 1374, 1374, 1374, 1374, 1374, 1394, 1394, 1394, 1394, 1394, 1394, 1394, 1395, 1395, 1395, 1395, 1399, 1399, 1399, 1399, 1409, 1409, 1409, 1409, 1409, 1409, 1409, 1409, 1409, 1409, 1409, 1409, 1409, 1409, 1409, 1409, 1409, 1409, 1409, 1409, 1409, 1409, 1409, 1409, 1409, 1409, 1409, 1409, 1409, 1409, 1409, 1409, 1409, 1409, 1409, 1409, 1409, 1409, 1409, 1409, 1409, 1409, 1409, 1409, 1409, 1409, 1409, 1409, 1409, 1410, 1414, 1416, 1417, 1417, 1417, 1417, 1417, 1417, 1417, 1417, 1417, 1417, 1417, 1417, 1417, 1417, 1417, 1417, 1417, 1417, 1417, 1417, 1417, 1417, 1417, 1417, 1417, 1417, 1417, 1417, 1417, 1417, 1417, 1417, 1417, 1417, 1417, 1417, 1417, 1417, 1417, 1417, 1417, 1417, 1417, 1417, 1417, 1417, 1417, 1417, 1417, 1417, 1417, 1417, 1417, 1417, 1417, 1417, 1417, 1417, 1417, 1417, 1418, 1419, 1419, 1419, 1419, 1419, 1419, 1419, 1419, 1419, 1419, 1419, 1419, 1419, 1419, 1419, 1419, 1419, 1419, 1419, 1419, 1419, 1423, 1423, 1423, 1423, 1423, 1423, 1423, 1423, 1423, 1423, 1423, 1423, 1423, 1423, 1423, 1423, 1423, 1423, 1423, 1423, 1423, 1428, 1428, 1430, 1430, 1430, 1430, 1437, 1437, 1439, 1439, 1439, 1439, 1439, 1439, 1439, 1439, 1439, 1439, 1439, 1439, 1439, 1439, 1439, 1439, 1439, 1439, 1439, 1439, 1439, 1442, 1442, 1443, 1443, 1443, 1443, 1443, 1443, 1451, 1451, 1451, 1451, 1453, 1454, 1460, 1468, 1468, 1468, 1468, 1468, 1468, 1472, 1474, 1476, 1486, 1486, 1486, 1486, 1486, 1486, 1486, 1488, 1488, 1488, 1488, 1488, 1488, 1488, 1488, 1488, 1488, 1488, 1488, 1488, 1488, 1488, 1488, 1488, 1488, 1488, 1488, 1488, 1488, 1488, 1488, 1488, 1488, 1488, 1488, 1490, 1490, 1490, 1490, 1490, 1491, 1491, 1494, 1494, 1494, 1494, 1494, 1494, 1502, 1503, 1503, 1503, 1503, 1503, 1508, 1509, 1512, 1523, 1523, 1523, 1523, 1523, 1523, 1523, 1523, 1523, 1523, 1523, 1523, 1523, 1523, 1523, 1523, 1523, 1523, 1523, 1524, 1524, 1524, 1524, 1524, 1524, 1524, 1524, 1524, 1524, 1524, 1524, 1524, 1524, 1524, 1524, 1524, 1525, 1530, 1551, 1551, 1551, 1551, 1551, 1551, 1561, 1561, 1564, 1564, 1564, 1564, 1564, 1564, 1567, 1569, 1569, 1569, 1569, 1569, 1569, 1569, 1569, 1569, 1569, 1569, 1569, 1569, 1569, 1569, 1569, 1569, 1569, 1569, 1569, 1569, 1569, 1569, 1571, 1574, 1579, 1582, 1582, 1582, 1582, 1582, 1582, 1582, 1582, 1582, 1582, 1582, 1582, 1582, 1583, 1583, 1587, 1588, 1588, 1588, 1588, 1588, 1588, 1588, 1590, 1590, 1590, 1590, 1593, 1593, 1593, 1593, 1593, 1593, 1593, 1593, 1593, 1593, 1593, 1593, 1593, 1593, 1593, 1593, 1593, 1593, 1593, 1593, 1600, 1600, 1600, 1600, 1600, 1601, 1601, 1601, 1601, 1601, 1601, 1601, 1601, 1601, 1601, 1601, 1601, 1601, 1601, 1601, 1601, 1601, 1604, 1610, 1610, 1610, 1610, 1619, 1619, 1619, 1619, 1619, 1619, 1619, 1619, 1619, 1619, 1619, 1619, 1620, 1629, 1638, 1649, 1649, 1649, 1652, 1652, 1661, 1664, 1664, 1664, 1664, 1664, 1664, 1664, 1664, 1664, 1664, 1664, 1664, 1671, 1671, 1674, 1674, 1674, 1684, 1689, 1689, 1690, 1690, 1690, 1693, 1693, 1693, 1693, 1693, 1693, 1708, 1708, 1708, 1708, 1708, 1708, 1708, 1709, 1709, 1709, 1709, 1709, 1709, 1709, 1709, 1709, 1709, 1710, 1714, 1714, 1714, 1714, 1714, 1714, 1714, 1714, 1714, 1714, 1714, 1714, 1714, 1714, 1714, 1714, 1714, 1714, 1716, 1720, 1722, 1722, 1726, 1728, 1728, 1728, 1733, 1736, 1736, 1736, 1736, 1736, 1736, 1736, 1736, 1736, 1736, 1736, 1736, 1736, 1736, 1736, 1736, 1736, 1736, 1736, 1736, 1736, 1736, 1736, 1736, 1736, 1736, 1736, 1736, 1736, 1736, 1736, 1736, 1736, 1736, 1736, 1736, 1736, 1736, 1736, 1744, 1744, 1744, 1744, 1744, 1744, 1744, 1748, 1750, 1750, 1750, 1750, 1750, 1750, 1750, 1750, 1750, 1750, 1750, 1750, 1750, 1750, 1750, 1750, 1750, 1750, 1750, 1750, 1750, 1750, 1754, 1754, 1757, 1758, 1764, 1764, 1764, 1764, 1764, 1764, 1764, 1764, 1764, 1765, 1765, 1765, 1765, 1765, 1765, 1765, 1765, 1765, 1766, 1766, 1766, 1766, 1766, 1766, 1766, 1766, 1766, 1766, 1766, 1766, 1766, 1766, 1766, 1766, 1766, 1766, 1766, 1766, 1766, 1766, 1766, 1766, 1775, 1775, 1775, 1775, 1775, 1775, 1775, 1775, 1775, 1775, 1775, 1778, 1781, 1788, 1788, 1788, 1788, 1788, 1788, 1788, 1788, 1788, 1788, 1788, 1788, 1788, 1788, 1788, 1788, 1788, 1788, 1788, 1788, 1789, 1810, 1814, 1814, 1814, 1814, 1814, 1814, 1814, 1814, 1814, 1814, 1814, 1814, 1816, 1828, 1833, 1834, 1834, 1836, 1840, 1840, 1840, 1840, 1840, 1840, 1840, 1840, 1843, 1843, 1843, 1845, 1849, 1849, 1849, 1849, 1849, 1849, 1849, 1849, 1849, 1850, 1867, 1872, 1872, 1875, 1878, 1878, 1878, 1878, 1878, 1878, 1878, 1878, 1878, 1878, 1878, 1879, 1890, 1891, 1895, 1899, 1899, 1899, 1899, 1899, 1899, 1899, 1899, 1904, 1904, 1906, 1906, 1906, 1906, 1906, 1906, 1906, 1906, 1906, 1906, 1919, 1919, 1919, 1919, 1919, 1919, 1919, 1919, 1919, 1919, 1919, 1919, 1919, 1929, 1929, 1929, 1929, 1929, 1929, 1929, 1929, 1929, 1929, 1929, 1929, 1929, 1929, 1929, 1929, 1929, 1929, 1929, 1929, 1929, 1936, 1936, 1936, 1936, 1936, 1936, 1936, 1936, 1936, 1936, 1936, 1936, 1936, 1936, 1936, 1936, 1950, 1950, 1958, 1958, 1958, 1958, 1958, 1958, 1958, 1958, 1958, 1958, 1958, 1958, 1958, 1958, 1958, 1958, 1958, 1958, 1958, 1958, 1958, 1958, 1958, 1958, 1958, 1958, 1958, 1958, 1958, 1958, 1958, 1958, 1958, 1958, 1958, 1958, 1958, 1958, 1958, 1958, 1958, 1958, 1958, 1958, 1958, 1958, 1958, 1958, 1958, 1958, 1958, 1958, 1958, 1980, 1984, 1984, 1984, 1985, 1988, 1988, 1990, 1995, 1995, 1995, 1995, 1995, 1995, 1995, 1995, 1999, 1999, 1999, 1999, 1999, 1999, 1999, 1999, 1999, 1999, 1999, 1999, 1999, 1999, 1999, 1999, 1999, 1999, 1999, 1999, 1999, 1999, 1999, 1999, 1999, 1999, 1999, 1999, 1999, 1999, 1999, 1999, 1999, 1999, 1999, 1999, 2000, 2000, 2000, 2000, 2000, 2014, 2015, 2015, 2015, 2016, 2016, 2016, 2016, 2016, 2023, 2031, 2036, 2038, 2038, 2038, 2038, 2038, 2044, 2044, 2044, 2044, 2047, 2047, 2054, 2058, 2058, 2058, 2067, 2067, 2067, 2067, 2067, 2077, 2080, 2084, 2093, 2103, 2103, 2103, 2108, 2108, 2108, 2108, 2108, 2108, 2108, 2112, 2112, 2112, 2112, 2119, 2124, 2127, 2127, 2127, 2134, 2140, 2140, 2140, 2140, 2140, 2143, 2143, 2143, 2143, 2143, 2143, 2143, 2143, 2148, 2148, 2156, 2156, 2162, 2162, 2167, 2176, 2179, 2179, 2179, 2179, 2179, 2179, 2179, 2179, 2179, 2179, 2179, 2179, 2179, 2179, 2179, 2179, 2179, 2181, 2184, 2184, 2184, 2184, 2185, 2187, 2187, 2187, 2187, 2187, 2187, 2187, 2188, 2188, 2188, 2188, 2188, 2188, 2188, 2188, 2188, 2190, 2194, 2194, 2196, 2196, 2196, 2196, 2196, 2196, 2202, 2202, 2202, 2202, 2202, 2202, 2202, 2202, 2202, 2202, 2202, 2204, 2204, 2204, 2204, 2204, 2204, 2206, 2206, 2206, 2206, 2206, 2206, 2206, 2206, 2206, 2206, 2206, 2206, 2206, 2206, 2215, 2216, 2216, 2222, 2222, 2222, 2222, 2223, 2223, 2223, 2226, 2226, 2228, 2234, 2234, 2234, 2234, 2234, 2234, 2237, 2237, 2237, 2242, 2242, 2242, 2242, 2242, 2242, 2242, 2242, 2242, 2242, 2244, 2246, 2246, 2246, 2255, 2260, 2260, 2260, 2260, 2260, 2260, 2265, 2265, 2265, 2265, 2265, 2265, 2265, 2265, 2265, 2268, 2268, 2268, 2279, 2286, 2286, 2286, 2286, 2286, 2286, 2286, 2296, 2296, 2296, 2296, 2296, 2299, 2299, 2299, 2299, 2299, 2299, 2299, 2299, 2299, 2299, 2299, 2299, 2299, 2299, 2299, 2299, 2299, 2299, 2299, 2299, 2299, 2299, 2299, 2299, 2299, 2299, 2299, 2308, 2308, 2308, 2308, 2308, 2308, 2308, 2308, 2308, 2310, 2310, 2310, 2310, 2311, 2311, 2311, 2311, 2311, 2311, 2311, 2311, 2311, 2311, 2311, 2311, 2311, 2311, 2311, 2311, 2311, 2311, 2311, 2311, 2311, 2311, 2311, 2311, 2311, 2311, 2311, 2311, 2312, 2313, 2313, 2313, 2313, 2313, 2316, 2316, 2316, 2319, 2319, 2321, 2321, 2321, 2321, 2321, 2321, 2321, 2321, 2330, 2330, 2330, 2330, 2330, 2330, 2330, 2330, 2330, 2330, 2330, 2332, 2332, 2334, 2346, 2346, 2356, 2356, 2359, 2359, 2359, 2359, 2359, 2359, 2359, 2359, 2359, 2359, 2359, 2359, 2359, 2359, 2365, 2370, 2370, 2370, 2374, 2374, 2374, 2374, 2374, 2376, 2378, 2378, 2379, 2379, 2379, 2379, 2381, 2381, 2383, 2383, 2383, 2383, 2383, 2383, 2383, 2384, 2384, 2386, 2386, 2386, 2386, 2391, 2396, 2396, 2396, 2396, 2396, 2396, 2396, 2396, 2399, 2400, 2400, 2400, 2400, 2400, 2400, 2400, 2409, 2409, 2410, 2414, 2414, 2414, 2414, 2414, 2414, 2414, 2417, 2426, 2427, 2429, 2429, 2430, 2430, 2434, 2434, 2434, 2434, 2434, 2434, 2434, 2434, 2434, 2434, 2434, 2434, 2434, 2434, 2434, 2434, 2434, 2434, 2434, 2434, 2434, 2434, 2434, 2434, 2434, 2434, 2434, 2434, 2434, 2434, 2434, 2434, 2434, 2434, 2434, 2434, 2434, 2434, 2434, 2454, 2458, 2458, 2458, 2458, 2460, 2460, 2473, 2473, 2474, 2474, 2474, 2474, 2474, 2474, 2474, 2474, 2476, 2482, 2482, 2482, 2482, 2482, 2482, 2482, 2482, 2482, 2482, 2482, 2482, 2482, 2482, 2482, 2482, 2482, 2482, 2482, 2482, 2482, 2492, 2492, 2500, 2500, 2503, 2503, 2503, 2512, 2515, 2515, 2515, 2515, 2515, 2515, 2515, 2515, 2515, 2515, 2515, 2522, 2522, 2522, 2522, 2537, 2537, 2537, 2537, 2537, 2537, 2537, 2540, 2540, 2540, 2540, 2540, 2541, 2541, 2541, 2541, 2546, 2547, 2547, 2547, 2547, 2547, 2547, 2547, 2551, 2555, 2555, 2563, 2567, 2567, 2568, 2568, 2568, 2568, 2568, 2568, 2568, 2568, 2568, 2568, 2568, 2568, 2568, 2568, 2568, 2568, 2568, 2568, 2568, 2568, 2568, 2568, 2568, 2568, 2568, 2568, 2568, 2568, 2568, 2568, 2571, 2573, 2573, 2579, 2579, 2581, 2584, 2584, 2585, 2597, 2597, 2599, 2599, 2599, 2599, 2599, 2599, 2599, 2599, 2599, 2599, 2599, 2599, 2599, 2599, 2599, 2599, 2602, 2604, 2604, 2607, 2608, 2608, 2609, 2611, 2611, 2612, 2612, 2612, 2612, 2612, 2612, 2612, 2612, 2612, 2612, 2612, 2612, 2612, 2612, 2612, 2612, 2612, 2614, 2614, 2614, 2614, 2614, 2617, 2617, 2617, 2617, 2617, 2617, 2617, 2628, 2628, 2628, 2629, 2629, 2629, 2629, 2629, 2629, 2629, 2629, 2629, 2629, 2629, 2629, 2629, 2633, 2634, 2635, 2636, 2639, 2639, 2639, 2645, 2645, 2650, 2650, 2650, 2650, 2656, 2656, 2656, 2656, 2656, 2656, 2656, 2656, 2681, 2681, 2681, 2681, 2684, 2684, 2684, 2684, 2684, 2684, 2684, 2684, 2691, 2691, 2694, 2694, 2694, 2694, 2694, 2694, 2694, 2694, 2694, 2694, 2694, 2694, 2694, 2694, 2694, 2694, 2694, 2699, 2703, 2704, 2704, 2704, 2710, 2710, 2710, 2710, 2710, 2712, 2712, 2712, 2712, 2712, 2712, 2712, 2712, 2712, 2712, 2712, 2712, 2712, 2712, 2712, 2712, 2712, 2712, 2712, 2712, 2712, 2712, 2712, 2712, 2712, 2712, 2712, 2712, 2713, 2713, 2713, 2713, 2713, 2713, 2713, 2713, 2713, 2713, 2713, 2713, 2713, 2713, 2713, 2713, 2713, 2713, 2713, 2713, 2713, 2713, 2713, 2713, 2713, 2713, 2713, 2713, 2713, 2724, 2724, 2727, 2727, 2727, 2727, 2727, 2727, 2727, 2727, 2727, 2727, 2727, 2727, 2727, 2727, 2727, 2727, 2727, 2727, 2727, 2727, 2727, 2727, 2727, 2727, 2727, 2727, 2727, 2727, 2727, 2727, 2727, 2727, 2727, 2727, 2727, 2727, 2727, 2727, 2727, 2727, 2727, 2727, 2727, 2727, 2727, 2727, 2727, 2727, 2727, 2727, 2727, 2727, 2727, 2727, 2727, 2727, 2727, 2727, 2727, 2727, 2727, 2727, 2727, 2727, 2727, 2732, 2732, 2732, 2745, 2749, 2758, 2758, 2758, 2758, 2758, 2758, 2758, 2758, 2758, 2758, 2758, 2758, 2758, 2758, 2758, 2758, 2758, 2758, 2758, 2758, 2758, 2758, 2758, 2758, 2758, 2758, 2763, 2771, 2778, 2778, 2778, 2781, 2781, 2781, 2784, 2784, 2784, 2784, 2784, 2784, 2784, 2784, 2784, 2784, 2784, 2784, 2784, 2784, 2784, 2784, 2786, 2786, 2786, 2786, 2786, 2786, 2794, 2794, 2794, 2794, 2794, 2794, 2794, 2794, 2794, 2794, 2794, 2794, 2794, 2794, 2794, 2798, 2798, 2798, 2798, 2798, 2798, 2806, 2815, 2815, 2815, 2815, 2815, 2815, 2815, 2815, 2815, 2815, 2815, 2815, 2815, 2815, 2815, 2815, 2815, 2815, 2815, 2815, 2815, 2815, 2815, 2815, 2815, 2815, 2815, 2815, 2815, 2820, 2820, 2830, 2830, 2830, 2840, 2840, 2840, 2840, 2840, 2840, 2840, 2840, 2841, 2841, 2841, 2845, 2845, 2854, 2854, 2857, 2857, 2857, 2857, 2857, 2857, 2857, 2857, 2857, 2860, 2861, 2861, 2861, 2861, 2861, 2873, 2873, 2875, 2875, 2875, 2875, 2875, 2875, 2875, 2882, 2882, 2882, 2882, 2882, 2882, 2882, 2882, 2882, 2882, 2882, 2882, 2882, 2882, 2889, 2889, 2889, 2892, 2894, 2895, 2895, 2905, 2908, 2908, 2908, 2908, 2908, 2908, 2908, 2908, 2908, 2908, 2908, 2908, 2908, 2908, 2908, 2908, 2918, 2928, 2928, 2928, 2928, 2928, 2929, 2929, 2934, 2934, 2936, 2940, 2940, 2941, 2941, 2941, 2941, 2943, 2943, 2943, 2943, 2943, 2943, 2943, 2943, 2943, 2943, 2943, 2943, 2943, 2943, 2951, 2962, 2962, 2962, 2962, 2962, 2962, 2964, 2964, 2964, 2964, 2966, 2966, 2966, 2966, 2966, 2972, 2972, 2972, 2972, 2975, 2982, 2982, 2982, 2982, 2986, 2988, 2990, 2990, 2992, 2992, 2995, 2995, 2995, 2995, 2995, 2995, 2995, 2995, 2995, 2995, 2995, 2995, 2995, 2995, 2995, 2995, 2995, 2995, 3008, 3008, 3008, 3008, 3008, 3014, 3017, 3017, 3017, 3017, 3017, 3017, 3017, 3017, 3017, 3017, 3017, 3017, 3017, 3017, 3029, 3029, 3029, 3029, 3029, 3029, 3029, 3029, 3029, 3029, 3029, 3029, 3029, 3029, 3029, 3029, 3042, 3042, 3042, 3042, 3042, 3042, 3042, 3042, 3045, 3045, 3045, 3046, 3046, 3046, 3046, 3046, 3046, 3046, 3046, 3049, 3055, 3055, 3055, 3055, 3055, 3055, 3055, 3055, 3055, 3055, 3055, 3055, 3055, 3055, 3055, 3055, 3055, 3055, 3055, 3055, 3055, 3055, 3055, 3055, 3055, 3056, 3056, 3056, 3056, 3057, 3057, 3057, 3058, 3058, 3060, 3060, 3060, 3060, 3060, 3060, 3060, 3060, 3060, 3060, 3060, 3060, 3060, 3060, 3060, 3060, 3060, 3060, 3060, 3060, 3060, 3060, 3064, 3064, 3064, 3064, 3064, 3066, 3071, 3084, 3084, 3084, 3084, 3084, 3092, 3092, 3095, 3095, 3095, 3106, 3106, 3106, 3106, 3106, 3108, 3111, 3111, 3111, 3111, 3111, 3111, 3111, 3111, 3111, 3111, 3111, 3116, 3116, 3116, 3116, 3119, 3125, 3129, 3131, 3131, 3131, 3131, 3134, 3134, 3134, 3134, 3134, 3134, 3134, 3134, 3134, 3134, 3134, 3134, 3134, 3134, 3134, 3134, 3134, 3134, 3134, 3134, 3134, 3134, 3134, 3134, 3134, 3137, 3137, 3137, 3137, 3137, 3137, 3137, 3137, 3137, 3137, 3137, 3137, 3137, 3137, 3137, 3137, 3137, 3137, 3137, 3137, 3137, 3137, 3137, 3137, 3137, 3137, 3137, 3137, 3137, 3137, 3137, 3137, 3137, 3137, 3137, 3137, 3137, 3137, 3137, 3137, 3137, 3137, 3137, 3137, 3137, 3137, 3137, 3140, 3140, 3140, 3140, 3140, 3140, 3140, 3140, 3140, 3140, 3140, 3146, 3146, 3146, 3146, 3148, 3148, 3148, 3161, 3161, 3163, 3164, 3164, 3164, 3164, 3168, 3168, 3168, 3168, 3171, 3171, 3171, 3171, 3171, 3171, 3171, 3171, 3171, 3171, 3171, 3171, 3171, 3171, 3171, 3171, 3171, 3171, 3171, 3171, 3171, 3171, 3171, 3171, 3171, 3171, 3171, 3171, 3171, 3174, 3174, 3174, 3174, 3174, 3175, 3190, 3190, 3190, 3190, 3190, 3190, 3191, 3191, 3191, 3191, 3191, 3191, 3191, 3191, 3191, 3191, 3191, 3191, 3191, 3191, 3191, 3191, 3191, 3191, 3191, 3191, 3195, 3195, 3204, 3207, 3207, 3207, 3223, 3225, 3231, 3231, 3231, 3234, 3234, 3234, 3234, 3234, 3234, 3234, 3234, 3234, 3234, 3234, 3234, 3239, 3239, 3243, 3250, 3250, 3251, 3257, 3257, 3257, 3257, 3257, 3257, 3257, 3257, 3257, 3257, 3257, 3257, 3257, 3257, 3257, 3257, 3259, 3260, 3260, 3260, 3260, 3260, 3260, 3260, 3260, 3262, 3262, 3263, 3263, 3264, 3264, 3269, 3272, 3272, 3273, 3273, 3273, 3273, 3278, 3278, 3278, 3278, 3278, 3278, 3278, 3278, 3278, 3278, 3278, 3278, 3278, 3278, 3278, 3281, 3281, 3281, 3281, 3281, 3281, 3281, 3281, 3281, 3281, 3281, 3281, 3281, 3281, 3281, 3281, 3281, 3281, 3282, 3282, 3286, 3286, 3286, 3286, 3286, 3287, 3295, 3299, 3299, 3299, 3299, 3312, 3312, 3312, 3312, 3312, 3312, 3312, 3312, 3312, 3312, 3312, 3312, 3312, 3312, 3317, 3317, 3317, 3317, 3317, 3317, 3317, 3319, 3325, 3333, 3333, 3334, 3334, 3334, 3334, 3334, 3334, 3334, 3334, 3334, 3334, 3334, 3334, 3334, 3334, 3334, 3334, 3334, 3334, 3334, 3334, 3334, 3334, 3334, 3334, 3334, 3335, 3335, 3335, 3335, 3335, 3335, 3335, 3335, 3335, 3335, 3335, 3335, 3335, 3335, 3335, 3335, 3335, 3335, 3335, 3335, 3335, 3335, 3335, 3335, 3335, 3335, 3335, 3335, 3335, 3335, 3335, 3335, 3335, 3335, 3335, 3335, 3335, 3335, 3335, 3335, 3335, 3336, 3336, 3336, 3336, 3336, 3344, 3348, 3348, 3348, 3348, 3348, 3348, 3348, 3351, 3351, 3351, 3351, 3353, 3353, 3353, 3360, 3360, 3360, 3365, 3365, 3365, 3375, 3377, 3377, 3381, 3381, 3381, 3386, 3386, 3386, 3386, 3386, 3386, 3386, 3386, 3392, 3393, 3393, 3398, 3398, 3399, 3399, 3403, 3403, 3403, 3403, 3403, 3403, 3403, 3407, 3407, 3407, 3407, 3407, 3407, 3407, 3407, 3407, 3407, 3407, 3407, 3407, 3407, 3407, 3407, 3407, 3407, 3407, 3408, 3408, 3408, 3408, 3408, 3411, 3411, 3427, 3431, 3439, 3439, 3439, 3439, 3439, 3439, 3439, 3439, 3439, 3439, 3439, 3439, 3439, 3439, 3439, 3439, 3439, 3439, 3439, 3439, 3439, 3441, 3441, 3443, 3443, 3448, 3448, 3449, 3449, 3449, 3449, 3449, 3457, 3457, 3457, 3457, 3457, 3457, 3457, 3457, 3459, 3460, 3460, 3460, 3460, 3460, 3460, 3460, 3460, 3462, 3462, 3462, 3462, 3462, 3462, 3462, 3462, 3462, 3462, 3462, 3462, 3462, 3462, 3462, 3462, 3462, 3462, 3462, 3464, 3464, 3464, 3464, 3464, 3464, 3464, 3464, 3464, 3464, 3464, 3464, 3464, 3464, 3464, 3464, 3464, 3464, 3464, 3464, 3464, 3464, 3464, 3464, 3464, 3464, 3464, 3464, 3464, 3464, 3464, 3467, 3468, 3469, 3470, 3473, 3473, 3476, 3476, 3476, 3476, 3476, 3476, 3476, 3476, 3476, 3476, 3476, 3476, 3476, 3476, 3476, 3480, 3480, 3480, 3480, 3480, 3480, 3480, 3480, 3480, 3480, 3480, 3480, 3480, 3480, 3480, 3480, 3480, 3481, 3481, 3481, 3481, 3481, 3481, 3481, 3481, 3481, 3481, 3481, 3481, 3481, 3481, 3481, 3481, 3481, 3481, 3481, 3481, 3481, 3481, 3481, 3495, 3495, 3495, 3495, 3495, 3495, 3495, 3495, 3495, 3495, 3495, 3497, 3511, 3511, 3511, 3511, 3511, 3511, 3512, 3512, 3512, 3513, 3513, 3513, 3513, 3513, 3513, 3513, 3513, 3513, 3513, 3513, 3514, 3516, 3516, 3516, 3516, 3516, 3516, 3528, 3528, 3528, 3528, 3528, 3528, 3528, 3528, 3534, 3534, 3534, 3534, 3534, 3534, 3534, 3534, 3534, 3534, 3534, 3534, 3534, 3534, 3534, 3534, 3534, 3534, 3534, 3534, 3534, 3534, 3534, 3534, 3534, 3534, 3534, 3534, 3534, 3534, 3534, 3534, 3534, 3534, 3534, 3536, 3536, 3536, 3536, 3536, 3536, 3536, 3536, 3536, 3538, 3538, 3538, 3538, 3538, 3538, 3538, 3538, 3538, 3538, 3538, 3540, 3540, 3540, 3540, 3540, 3540, 3540, 3540, 3541, 3541, 3546, 3546, 3546, 3546, 3559, 3559, 3561, 3561, 3561, 3568, 3568, 3568, 3569, 3569, 3569, 3569, 3569, 3569, 3569, 3569, 3569, 3569, 3569, 3569, 3569, 3569, 3569, 3569, 3569, 3569, 3569, 3571, 3571, 3571, 3571, 3572, 3577, 3591, 3593, 3600, 3600, 3600, 3600, 3601, 3601, 3601, 3601, 3601, 3601, 3603, 3609, 3609, 3614, 3615, 3615, 3615, 3615, 3615, 3615, 3620, 3620, 3620, 3623, 3623, 3623, 3623, 3623, 3623, 3623, 3623, 3623, 3623, 3623, 3623, 3623, 3623, 3623, 3623, 3623, 3623, 3623, 3623, 3623, 3623, 3623, 3623, 3623, 3623, 3623, 3623, 3623, 3623, 3623, 3623, 3623, 3623, 3623, 3623, 3623, 3623, 3623, 3623, 3625, 3626, 3626, 3626, 3626, 3626, 3626, 3626, 3626, 3626, 3626, 3626, 3626, 3626, 3626, 3626, 3626, 3626, 3626, 3626, 3626, 3626, 3626, 3626, 3626, 3627, 3627, 3627, 3627, 3634, 3634, 3634, 3634, 3635, 3638, 3638, 3638, 3638, 3638, 3638, 3638, 3638, 3638, 3638, 3638, 3638, 3638, 3638, 3638, 3638, 3638, 3638, 3638, 3648, 3652, 3652, 3652, 3652, 3652, 3652, 3652, 3652, 3652, 3652, 3652, 3653, 3653, 3653, 3653, 3659, 3659, 3659, 3659, 3659, 3659, 3659, 3659, 3659, 3659, 3659, 3659, 3659, 3659, 3659, 3659, 3659, 3659, 3659, 3659, 3659, 3659, 3659, 3659, 3659, 3659, 3659, 3659, 3659, 3659, 3659, 3659, 3659, 3659, 3659, 3671, 3671, 3671, 3674, 3682, 3682, 3682, 3682, 3682, 3690, 3690, 3690, 3690, 3690, 3690, 3690, 3690, 3690, 3690, 3690, 3690, 3690, 3690, 3690, 3690, 3690, 3690, 3690, 3690, 3690, 3690, 3690, 3690, 3690, 3690, 3701, 3701, 3701, 3701, 3701, 3701, 3701, 3701, 3701, 3702, 3702, 3702, 3702, 3702, 3702, 3702, 3702, 3702, 3719, 3723, 3723, 3724, 3724, 3724, 3724, 3724, 3724, 3724, 3724, 3724, 3725, 3725, 3725, 3725, 3725, 3725, 3725, 3725, 3725, 3725, 3725, 3725, 3725, 3725, 3725, 3725, 3725, 3725, 3725, 3725, 3725, 3725, 3725, 3725, 3725, 3725, 3725, 3725, 3725, 3725, 3725, 3736, 3736, 3736, 3740, 3740, 3740, 3747, 3755, 3757, 3757, 3757, 3757, 3767, 3767, 3767, 3767, 3768, 3771, 3776, 3779, 3779, 3779, 3779, 3779, 3779, 3779, 3779, 3779, 3786, 3787, 3787, 3787, 3792, 3795, 3797, 3797, 3797, 3797, 3797, 3797, 3797, 3797, 3797, 3797, 3797, 3800, 3819, 3819, 3828, 3828, 3829, 3833, 3837, 3837, 3837, 3839, 3839, 3839, 3839, 3839, 3839, 3839, 3839, 3847, 3847, 3847, 3847, 3859, 3859, 3859, 3859, 3859, 3859, 3859, 3859, 3859, 3859, 3859, 3859, 3859, 3859, 3859, 3859, 3859, 3859, 3859, 3863, 3863, 3863, 3869, 3869, 3869, 3869, 3869, 3869, 3869, 3869, 3869, 3869, 3869, 3869, 3869, 3869, 3869, 3869, 3869, 3869, 3869, 3869, 3869, 3869, 3871, 3871, 3874, 3874, 3890, 3890, 3890, 3890, 3906, 3906, 3908, 3908, 3908, 3908, 3908, 3908, 3908, 3908, 3911, 3911, 3921, 3921, 3921, 3921, 3921, 3921, 3921, 3921, 3927, 3928, 3928, 3928, 3942, 3946, 3947, 3947, 3958, 3958, 3974, 3974, 3982, 3982, 3982, 3982, 3982, 3982, 3982, 3982, 3982, 3982, 3982, 3982, 3982, 3982, 3986, 3986, 3986, 3986, 3986, 3986, 3986, 3986, 3986, 3986, 3987, 3988, 3993, 3993, 3995, 3999, 3999, 4000, 4002, 4004, 4012, 4012, 4012, 4013, 4013, 4014, 4020, 4020, 4020, 4020, 4020, 4020, 4020, 4020, 4020, 4020, 4020, 4020, 4029, 4032, 4032, 4032, 4032, 4034, 4034, 4040, 4040, 4040, 4040, 4040, 4040, 4041, 4041, 4041, 4043, 4043, 4043, 4043, 4043, 4046, 4046, 4046, 4046, 4049, 4049, 4049, 4050, 4050, 4050, 4050, 4050, 4050, 4052, 4052, 4052, 4052, 4052, 4052, 4052, 4052, 4052, 4052, 4052, 4052, 4052, 4052, 4052, 4052, 4052, 4052, 4052, 4052, 4052, 4052, 4052, 4052, 4052, 4052, 4052, 4052, 4052, 4052, 4052, 4052, 4052, 4054, 4054, 4055, 4056, 4056, 4056, 4056, 4056, 4056, 4056, 4056, 4056, 4056, 4056, 4056, 4056, 4056, 4056, 4062, 4062, 4062, 4062, 4062, 4062, 4064, 4065, 4065, 4070, 4070, 4070, 4070, 4070, 4070, 4070, 4070, 4070, 4070, 4070, 4070, 4070, 4070, 4072, 4074, 4074, 4074, 4074, 4074, 4074, 4074, 4074, 4074, 4074, 4074, 4074, 4085, 4087, 4087, 4087, 4087, 4087, 4096, 4096, 4096, 4101, 4101, 4101, 4101, 4101, 4101, 4104, 4104, 4104, 4104, 4113, 4118, 4118, 4118, 4118, 4118, 4118, 4118, 4118, 4118, 4120, 4120, 4120, 4120, 4120, 4120, 4120, 4120, 4120, 4120, 4123, 4133, 4135, 4135, 4135, 4135, 4135, 4153, 4153, 4156, 4156, 4156, 4156, 4156, 4156, 4157, 4157, 4165, 4165, 4165, 4166, 4166, 4166, 4169, 4169, 4169, 4169, 4169, 4169, 4169, 4169, 4170, 4175, 4175, 4175, 4180, 4180, 4180, 4180, 4182, 4190, 4190, 4190, 4192, 4192, 4192, 4192, 4192, 4192, 4192, 4192, 4192, 4192, 4192, 4192, 4192, 4192, 4192, 4192, 4192, 4192, 4192, 4192, 4192, 4192, 4192, 4192, 4192, 4192, 4192, 4192, 4192, 4192, 4192, 4192, 4192, 4192, 4192, 4192, 4199, 4201, 4204, 4204, 4204, 4206, 4209, 4209, 4209, 4209, 4209, 4209, 4209, 4209, 4209, 4209, 4209, 4209, 4209, 4215, 4215, 4215, 4215, 4215, 4215, 4215, 4215, 4215, 4215, 4215, 4215, 4215, 4215, 4215, 4215, 4215, 4215, 4215, 4215, 4215, 4215, 4215, 4215, 4215, 4215, 4215, 4225, 4225, 4228, 4228, 4228, 4228, 4228, 4228, 4228, 4228, 4228, 4228, 4228, 4228, 4228, 4228, 4228, 4228, 4228, 4228, 4228, 4228, 4228, 4228, 4228, 4228, 4228, 4228, 4228, 4229, 4229, 4229, 4229, 4229, 4229, 4229, 4229, 4229, 4229, 4229, 4229, 4229, 4229, 4229, 4229, 4229, 4229, 4229, 4229, 4229, 4229, 4229, 4229, 4229, 4229, 4229, 4229, 4229, 4229, 4229, 4236, 4236, 4236, 4236, 4236, 4236, 4236, 4236, 4236, 4236, 4236, 4236, 4236, 4236, 4236, 4236, 4236, 4236, 4236, 4236, 4236, 4236, 4236, 4236, 4236, 4236, 4236, 4236, 4236, 4236, 4236, 4236, 4236, 4250, 4259, 4259, 4259, 4259, 4259, 4259, 4259, 4259, 4259, 4259, 4259, 4259, 4259, 4259, 4259, 4259, 4259, 4259, 4259, 4259, 4259, 4259, 4259, 4259, 4259, 4259, 4259, 4259, 4259, 4259, 4259, 4259, 4259, 4259, 4259, 4259, 4259, 4259, 4259, 4259, 4261, 4261, 4261, 4261, 4261, 4261, 4261, 4261, 4261, 4261, 4263, 4265, 4273, 4273, 4274, 4285, 4285, 4285, 4285, 4285, 4285, 4285, 4285, 4285, 4285, 4285, 4285, 4285, 4289, 4289, 4289, 4289, 4289, 4289, 4289, 4289, 4295, 4295, 4295, 4295, 4296, 4298, 4298, 4319, 4321, 4323, 4323, 4323, 4323, 4323, 4324, 4324, 4325, 4325, 4325, 4326, 4327, 4328, 4329, 4329, 4329, 4329, 4329, 4329, 4329, 4329, 4339, 4349, 4359, 4359, 4361, 4361, 4361, 4361, 4364, 4364, 4364, 4371, 4371, 4375, 4376, 4376, 4380, 4380, 4380, 4380, 4380, 4380, 4380, 4380, 4380, 4380, 4380, 4380, 4380, 4380, 4380, 4385, 4386, 4386, 4396, 4396, 4396, 4396, 4396, 4396, 4396, 4396, 4396, 4396, 4396, 4396, 4396, 4396, 4396, 4396, 4396, 4396, 4396, 4396, 4396, 4396, 4396, 4396, 4396, 4396, 4396, 4396, 4396, 4396, 4396, 4396, 4396, 4403, 4403, 4403, 4403, 4403, 4403, 4403, 4403, 4403, 4406, 4411, 4411, 4411, 4411, 4411, 4411, 4411, 4411, 4411, 4411, 4411, 4411, 4423, 4429, 4429, 4429, 4435, 4435, 4435, 4435, 4435, 4435, 4435, 4435, 4435, 4436, 4436, 4446, 4446, 4446, 4448, 4448, 4448, 4448, 4452, 4452, 4456, 4494, 4494, 4497, 4503, 4507, 4507, 4511, 4511, 4511, 4512, 4512, 4512, 4512, 4515, 4515, 4515, 4515, 4515, 4521, 4522, 4522, 4524, 4526, 4526, 4526, 4526, 4526, 4526, 4526, 4526, 4526, 4532, 4532, 4532, 4532, 4532, 4532, 4540, 4540, 4542, 4542, 4542, 4542, 4543, 4543, 4543, 4543, 4543, 4543, 4543, 4543, 4543, 4543, 4543, 4543, 4543, 4543, 4543, 4543, 4543, 4543, 4543, 4543, 4543, 4543, 4543, 4555, 4555, 4555, 4555, 4555, 4555, 4555, 4562, 4562, 4562, 4562, 4562, 4571, 4577, 4580, 4580, 4581, 4582, 4582, 4582, 4582, 4582, 4582, 4582, 4582, 4582, 4582, 4582, 4582, 4583, 4586, 4586, 4587, 4587, 4587, 4591, 4598, 4598, 4598, 4598, 4598, 4598, 4598, 4598, 4598, 4598, 4610, 4610, 4610, 4610, 4610, 4610, 4618, 4618, 4618, 4618, 4618, 4618, 4618, 4618, 4618, 4618, 4618, 4618, 4618, 4618, 4618, 4618, 4618, 4620, 4620, 4620, 4620, 4620, 4620, 4620, 4620, 4620, 4620, 4620, 4620, 4620, 4620, 4620, 4620, 4620, 4623, 4623, 4623, 4623, 4623, 4623, 4624, 4625, 4625, 4625, 4626, 4626, 4626, 4626, 4626, 4626, 4626, 4626, 4626, 4626, 4626, 4626, 4626, 4626, 4626, 4635, 4635, 4635, 4635, 4635, 4635, 4635, 4641, 4641, 4649, 4649, 4649, 4649, 4649, 4649, 4649, 4649, 4649, 4649, 4649, 4649, 4650, 4657, 4657, 4657, 4657, 4658, 4658, 4662, 4662, 4662, 4662, 4662, 4662, 4662, 4662, 4662, 4662, 4662, 4662, 4662, 4667, 4667, 4667, 4671, 4671, 4671, 4671, 4671, 4671, 4671, 4671, 4671, 4671, 4671, 4671, 4671, 4671, 4671, 4671, 4673, 4678, 4678, 4678, 4679, 4679, 4679, 4679, 4679, 4679, 4679, 4689, 4689, 4689, 4689, 4689, 4689, 4689, 4690, 4690, 4690, 4690, 4690, 4690, 4690, 4690, 4690, 4690, 4693, 4693, 4697, 4711, 4711, 4711, 4711, 4711, 4715, 4717, 4739, 4740, 4740, 4742, 4747, 4756, 4759, 4759, 4759]],\n",
       "           names=['vaso_type', 'icustay_id'])"
      ]
     },
     "execution_count": 80,
     "metadata": {},
     "output_type": "execute_result"
    },
    {
     "name": "stdout",
     "output_type": "stream",
     "text": [
      "time: 502 ms\n"
     ]
    }
   ],
   "source": [
    "test1.index"
   ]
  },
  {
   "cell_type": "code",
   "execution_count": null,
   "metadata": {},
   "outputs": [],
   "source": []
  },
  {
   "cell_type": "code",
   "execution_count": 60,
   "metadata": {},
   "outputs": [
    {
     "data": {
      "text/html": [
       "<div>\n",
       "<style scoped>\n",
       "    .dataframe tbody tr th:only-of-type {\n",
       "        vertical-align: middle;\n",
       "    }\n",
       "\n",
       "    .dataframe tbody tr th {\n",
       "        vertical-align: top;\n",
       "    }\n",
       "\n",
       "    .dataframe thead th {\n",
       "        text-align: right;\n",
       "    }\n",
       "</style>\n",
       "<table border=\"1\" class=\"dataframe\">\n",
       "  <thead>\n",
       "    <tr style=\"text-align: right;\">\n",
       "      <th></th>\n",
       "      <th>charttime</th>\n",
       "      <th>delta</th>\n",
       "      <th>t_0</th>\n",
       "      <th>label</th>\n",
       "      <th>value</th>\n",
       "    </tr>\n",
       "  </thead>\n",
       "  <tbody>\n",
       "    <tr>\n",
       "      <th>0</th>\n",
       "      <td>2139-06-02 16:31:00</td>\n",
       "      <td>0 days 16:31:00.000000000</td>\n",
       "      <td>2139-06-02</td>\n",
       "      <td>vaso_rate</td>\n",
       "      <td>0.012030</td>\n",
       "    </tr>\n",
       "    <tr>\n",
       "      <th>1</th>\n",
       "      <td>2139-09-23 15:07:00</td>\n",
       "      <td>0 days 15:07:00.000000000</td>\n",
       "      <td>2139-09-23</td>\n",
       "      <td>vaso_rate</td>\n",
       "      <td>0.020004</td>\n",
       "    </tr>\n",
       "    <tr>\n",
       "      <th>2</th>\n",
       "      <td>2139-09-25 12:00:00</td>\n",
       "      <td>2 days 12:00:00.000000000</td>\n",
       "      <td>2139-09-23</td>\n",
       "      <td>vaso_rate</td>\n",
       "      <td>0.080068</td>\n",
       "    </tr>\n",
       "    <tr>\n",
       "      <th>3</th>\n",
       "      <td>2139-09-25 21:59:00</td>\n",
       "      <td>2 days 21:59:00.000000000</td>\n",
       "      <td>2139-09-23</td>\n",
       "      <td>vaso_rate</td>\n",
       "      <td>0.060601</td>\n",
       "    </tr>\n",
       "    <tr>\n",
       "      <th>4</th>\n",
       "      <td>2139-09-23 23:12:00</td>\n",
       "      <td>0 days 23:12:00.000000000</td>\n",
       "      <td>2139-09-23</td>\n",
       "      <td>vaso_rate</td>\n",
       "      <td>0.149992</td>\n",
       "    </tr>\n",
       "  </tbody>\n",
       "</table>\n",
       "</div>"
      ],
      "text/plain": [
       "             charttime                      delta         t_0      label  \\\n",
       "0  2139-06-02 16:31:00  0 days 16:31:00.000000000  2139-06-02  vaso_rate   \n",
       "1  2139-09-23 15:07:00  0 days 15:07:00.000000000  2139-09-23  vaso_rate   \n",
       "2  2139-09-25 12:00:00  2 days 12:00:00.000000000  2139-09-23  vaso_rate   \n",
       "3  2139-09-25 21:59:00  2 days 21:59:00.000000000  2139-09-23  vaso_rate   \n",
       "4  2139-09-23 23:12:00  0 days 23:12:00.000000000  2139-09-23  vaso_rate   \n",
       "\n",
       "      value  \n",
       "0  0.012030  \n",
       "1  0.020004  \n",
       "2  0.080068  \n",
       "3  0.060601  \n",
       "4  0.149992  "
      ]
     },
     "execution_count": 60,
     "metadata": {},
     "output_type": "execute_result"
    },
    {
     "name": "stdout",
     "output_type": "stream",
     "text": [
      "time: 27.4 ms\n"
     ]
    }
   ],
   "source": [
    "# pd.melt(test1, col_level=0, id_vars=['charttime','delta','t_0'], var_name='label').head()\n",
    "# ###hmm how does melt deal with multiindex"
   ]
  },
  {
   "cell_type": "code",
   "execution_count": 69,
   "metadata": {},
   "outputs": [
    {
     "ename": "KeyError",
     "evalue": "('vaso_type', 'icustay_id')",
     "output_type": "error",
     "traceback": [
      "\u001b[0;31m---------------------------------------------------------------------------\u001b[0m",
      "\u001b[0;31mKeyError\u001b[0m                                  Traceback (most recent call last)",
      "\u001b[0;32m~/anaconda/envs/rpy-env/lib/python3.6/site-packages/pandas/core/indexes/base.py\u001b[0m in \u001b[0;36mget_loc\u001b[0;34m(self, key, method, tolerance)\u001b[0m\n\u001b[1;32m   2524\u001b[0m             \u001b[0;32mtry\u001b[0m\u001b[0;34m:\u001b[0m\u001b[0;34m\u001b[0m\u001b[0m\n\u001b[0;32m-> 2525\u001b[0;31m                 \u001b[0;32mreturn\u001b[0m \u001b[0mself\u001b[0m\u001b[0;34m.\u001b[0m\u001b[0m_engine\u001b[0m\u001b[0;34m.\u001b[0m\u001b[0mget_loc\u001b[0m\u001b[0;34m(\u001b[0m\u001b[0mkey\u001b[0m\u001b[0;34m)\u001b[0m\u001b[0;34m\u001b[0m\u001b[0m\n\u001b[0m\u001b[1;32m   2526\u001b[0m             \u001b[0;32mexcept\u001b[0m \u001b[0mKeyError\u001b[0m\u001b[0;34m:\u001b[0m\u001b[0;34m\u001b[0m\u001b[0m\n",
      "\u001b[0;32mpandas/_libs/index.pyx\u001b[0m in \u001b[0;36mpandas._libs.index.IndexEngine.get_loc\u001b[0;34m()\u001b[0m\n",
      "\u001b[0;32mpandas/_libs/index.pyx\u001b[0m in \u001b[0;36mpandas._libs.index.IndexEngine.get_loc\u001b[0;34m()\u001b[0m\n",
      "\u001b[0;32mpandas/_libs/hashtable_class_helper.pxi\u001b[0m in \u001b[0;36mpandas._libs.hashtable.PyObjectHashTable.get_item\u001b[0;34m()\u001b[0m\n",
      "\u001b[0;32mpandas/_libs/hashtable_class_helper.pxi\u001b[0m in \u001b[0;36mpandas._libs.hashtable.PyObjectHashTable.get_item\u001b[0;34m()\u001b[0m\n",
      "\u001b[0;31mKeyError\u001b[0m: ('vaso_type', 'icustay_id')",
      "\nDuring handling of the above exception, another exception occurred:\n",
      "\u001b[0;31mKeyError\u001b[0m                                  Traceback (most recent call last)",
      "\u001b[0;32m<ipython-input-69-6ec6e14efb40>\u001b[0m in \u001b[0;36m<module>\u001b[0;34m()\u001b[0m\n\u001b[1;32m      1\u001b[0m \u001b[0;31m#pd.melt(test1, col_level=1, id_vars=[('vaso_type','icustay_id'),'charttime','delta','t_0'], var_name='label')\u001b[0m\u001b[0;34m\u001b[0m\u001b[0;34m\u001b[0m\u001b[0m\n\u001b[0;32m----> 2\u001b[0;31m \u001b[0mpd\u001b[0m\u001b[0;34m.\u001b[0m\u001b[0mmelt\u001b[0m\u001b[0;34m(\u001b[0m\u001b[0mtest1\u001b[0m\u001b[0;34m,\u001b[0m \u001b[0mid_vars\u001b[0m\u001b[0;34m=\u001b[0m\u001b[0;34m[\u001b[0m\u001b[0;34m(\u001b[0m\u001b[0;34m'vaso_type'\u001b[0m\u001b[0;34m,\u001b[0m\u001b[0;34m'icustay_id'\u001b[0m\u001b[0;34m)\u001b[0m\u001b[0;34m]\u001b[0m\u001b[0;34m,\u001b[0m \u001b[0mvar_name\u001b[0m\u001b[0;34m=\u001b[0m\u001b[0;34m'label'\u001b[0m\u001b[0;34m)\u001b[0m\u001b[0;34m\u001b[0m\u001b[0m\n\u001b[0m",
      "\u001b[0;32m~/anaconda/envs/rpy-env/lib/python3.6/site-packages/pandas/core/reshape/reshape.py\u001b[0m in \u001b[0;36mmelt\u001b[0;34m(frame, id_vars, value_vars, var_name, value_name, col_level)\u001b[0m\n\u001b[1;32m    755\u001b[0m     \u001b[0mmdata\u001b[0m \u001b[0;34m=\u001b[0m \u001b[0;34m{\u001b[0m\u001b[0;34m}\u001b[0m\u001b[0;34m\u001b[0m\u001b[0m\n\u001b[1;32m    756\u001b[0m     \u001b[0;32mfor\u001b[0m \u001b[0mcol\u001b[0m \u001b[0;32min\u001b[0m \u001b[0mid_vars\u001b[0m\u001b[0;34m:\u001b[0m\u001b[0;34m\u001b[0m\u001b[0m\n\u001b[0;32m--> 757\u001b[0;31m         \u001b[0mmdata\u001b[0m\u001b[0;34m[\u001b[0m\u001b[0mcol\u001b[0m\u001b[0;34m]\u001b[0m \u001b[0;34m=\u001b[0m \u001b[0mnp\u001b[0m\u001b[0;34m.\u001b[0m\u001b[0mtile\u001b[0m\u001b[0;34m(\u001b[0m\u001b[0mframe\u001b[0m\u001b[0;34m.\u001b[0m\u001b[0mpop\u001b[0m\u001b[0;34m(\u001b[0m\u001b[0mcol\u001b[0m\u001b[0;34m)\u001b[0m\u001b[0;34m.\u001b[0m\u001b[0mvalues\u001b[0m\u001b[0;34m,\u001b[0m \u001b[0mK\u001b[0m\u001b[0;34m)\u001b[0m\u001b[0;34m\u001b[0m\u001b[0m\n\u001b[0m\u001b[1;32m    758\u001b[0m \u001b[0;34m\u001b[0m\u001b[0m\n\u001b[1;32m    759\u001b[0m     \u001b[0mmcolumns\u001b[0m \u001b[0;34m=\u001b[0m \u001b[0mid_vars\u001b[0m \u001b[0;34m+\u001b[0m \u001b[0mvar_name\u001b[0m \u001b[0;34m+\u001b[0m \u001b[0;34m[\u001b[0m\u001b[0mvalue_name\u001b[0m\u001b[0;34m]\u001b[0m\u001b[0;34m\u001b[0m\u001b[0m\n",
      "\u001b[0;32m~/anaconda/envs/rpy-env/lib/python3.6/site-packages/pandas/core/generic.py\u001b[0m in \u001b[0;36mpop\u001b[0;34m(self, item)\u001b[0m\n\u001b[1;32m    671\u001b[0m         \u001b[0;36m3\u001b[0m  \u001b[0mmonkey\u001b[0m        \u001b[0mNaN\u001b[0m\u001b[0;34m\u001b[0m\u001b[0m\n\u001b[1;32m    672\u001b[0m         \"\"\"\n\u001b[0;32m--> 673\u001b[0;31m         \u001b[0mresult\u001b[0m \u001b[0;34m=\u001b[0m \u001b[0mself\u001b[0m\u001b[0;34m[\u001b[0m\u001b[0mitem\u001b[0m\u001b[0;34m]\u001b[0m\u001b[0;34m\u001b[0m\u001b[0m\n\u001b[0m\u001b[1;32m    674\u001b[0m         \u001b[0;32mdel\u001b[0m \u001b[0mself\u001b[0m\u001b[0;34m[\u001b[0m\u001b[0mitem\u001b[0m\u001b[0;34m]\u001b[0m\u001b[0;34m\u001b[0m\u001b[0m\n\u001b[1;32m    675\u001b[0m         \u001b[0;32mtry\u001b[0m\u001b[0;34m:\u001b[0m\u001b[0;34m\u001b[0m\u001b[0m\n",
      "\u001b[0;32m~/anaconda/envs/rpy-env/lib/python3.6/site-packages/pandas/core/frame.py\u001b[0m in \u001b[0;36m__getitem__\u001b[0;34m(self, key)\u001b[0m\n\u001b[1;32m   2137\u001b[0m             \u001b[0;32mreturn\u001b[0m \u001b[0mself\u001b[0m\u001b[0;34m.\u001b[0m\u001b[0m_getitem_multilevel\u001b[0m\u001b[0;34m(\u001b[0m\u001b[0mkey\u001b[0m\u001b[0;34m)\u001b[0m\u001b[0;34m\u001b[0m\u001b[0m\n\u001b[1;32m   2138\u001b[0m         \u001b[0;32melse\u001b[0m\u001b[0;34m:\u001b[0m\u001b[0;34m\u001b[0m\u001b[0m\n\u001b[0;32m-> 2139\u001b[0;31m             \u001b[0;32mreturn\u001b[0m \u001b[0mself\u001b[0m\u001b[0;34m.\u001b[0m\u001b[0m_getitem_column\u001b[0m\u001b[0;34m(\u001b[0m\u001b[0mkey\u001b[0m\u001b[0;34m)\u001b[0m\u001b[0;34m\u001b[0m\u001b[0m\n\u001b[0m\u001b[1;32m   2140\u001b[0m \u001b[0;34m\u001b[0m\u001b[0m\n\u001b[1;32m   2141\u001b[0m     \u001b[0;32mdef\u001b[0m \u001b[0m_getitem_column\u001b[0m\u001b[0;34m(\u001b[0m\u001b[0mself\u001b[0m\u001b[0;34m,\u001b[0m \u001b[0mkey\u001b[0m\u001b[0;34m)\u001b[0m\u001b[0;34m:\u001b[0m\u001b[0;34m\u001b[0m\u001b[0m\n",
      "\u001b[0;32m~/anaconda/envs/rpy-env/lib/python3.6/site-packages/pandas/core/frame.py\u001b[0m in \u001b[0;36m_getitem_column\u001b[0;34m(self, key)\u001b[0m\n\u001b[1;32m   2144\u001b[0m         \u001b[0;31m# get column\u001b[0m\u001b[0;34m\u001b[0m\u001b[0;34m\u001b[0m\u001b[0m\n\u001b[1;32m   2145\u001b[0m         \u001b[0;32mif\u001b[0m \u001b[0mself\u001b[0m\u001b[0;34m.\u001b[0m\u001b[0mcolumns\u001b[0m\u001b[0;34m.\u001b[0m\u001b[0mis_unique\u001b[0m\u001b[0;34m:\u001b[0m\u001b[0;34m\u001b[0m\u001b[0m\n\u001b[0;32m-> 2146\u001b[0;31m             \u001b[0;32mreturn\u001b[0m \u001b[0mself\u001b[0m\u001b[0;34m.\u001b[0m\u001b[0m_get_item_cache\u001b[0m\u001b[0;34m(\u001b[0m\u001b[0mkey\u001b[0m\u001b[0;34m)\u001b[0m\u001b[0;34m\u001b[0m\u001b[0m\n\u001b[0m\u001b[1;32m   2147\u001b[0m \u001b[0;34m\u001b[0m\u001b[0m\n\u001b[1;32m   2148\u001b[0m         \u001b[0;31m# duplicate columns & possible reduce dimensionality\u001b[0m\u001b[0;34m\u001b[0m\u001b[0;34m\u001b[0m\u001b[0m\n",
      "\u001b[0;32m~/anaconda/envs/rpy-env/lib/python3.6/site-packages/pandas/core/generic.py\u001b[0m in \u001b[0;36m_get_item_cache\u001b[0;34m(self, item)\u001b[0m\n\u001b[1;32m   1840\u001b[0m         \u001b[0mres\u001b[0m \u001b[0;34m=\u001b[0m \u001b[0mcache\u001b[0m\u001b[0;34m.\u001b[0m\u001b[0mget\u001b[0m\u001b[0;34m(\u001b[0m\u001b[0mitem\u001b[0m\u001b[0;34m)\u001b[0m\u001b[0;34m\u001b[0m\u001b[0m\n\u001b[1;32m   1841\u001b[0m         \u001b[0;32mif\u001b[0m \u001b[0mres\u001b[0m \u001b[0;32mis\u001b[0m \u001b[0;32mNone\u001b[0m\u001b[0;34m:\u001b[0m\u001b[0;34m\u001b[0m\u001b[0m\n\u001b[0;32m-> 1842\u001b[0;31m             \u001b[0mvalues\u001b[0m \u001b[0;34m=\u001b[0m \u001b[0mself\u001b[0m\u001b[0;34m.\u001b[0m\u001b[0m_data\u001b[0m\u001b[0;34m.\u001b[0m\u001b[0mget\u001b[0m\u001b[0;34m(\u001b[0m\u001b[0mitem\u001b[0m\u001b[0;34m)\u001b[0m\u001b[0;34m\u001b[0m\u001b[0m\n\u001b[0m\u001b[1;32m   1843\u001b[0m             \u001b[0mres\u001b[0m \u001b[0;34m=\u001b[0m \u001b[0mself\u001b[0m\u001b[0;34m.\u001b[0m\u001b[0m_box_item_values\u001b[0m\u001b[0;34m(\u001b[0m\u001b[0mitem\u001b[0m\u001b[0;34m,\u001b[0m \u001b[0mvalues\u001b[0m\u001b[0;34m)\u001b[0m\u001b[0;34m\u001b[0m\u001b[0m\n\u001b[1;32m   1844\u001b[0m             \u001b[0mcache\u001b[0m\u001b[0;34m[\u001b[0m\u001b[0mitem\u001b[0m\u001b[0;34m]\u001b[0m \u001b[0;34m=\u001b[0m \u001b[0mres\u001b[0m\u001b[0;34m\u001b[0m\u001b[0m\n",
      "\u001b[0;32m~/anaconda/envs/rpy-env/lib/python3.6/site-packages/pandas/core/internals.py\u001b[0m in \u001b[0;36mget\u001b[0;34m(self, item, fastpath)\u001b[0m\n\u001b[1;32m   3841\u001b[0m \u001b[0;34m\u001b[0m\u001b[0m\n\u001b[1;32m   3842\u001b[0m             \u001b[0;32mif\u001b[0m \u001b[0;32mnot\u001b[0m \u001b[0misna\u001b[0m\u001b[0;34m(\u001b[0m\u001b[0mitem\u001b[0m\u001b[0;34m)\u001b[0m\u001b[0;34m:\u001b[0m\u001b[0;34m\u001b[0m\u001b[0m\n\u001b[0;32m-> 3843\u001b[0;31m                 \u001b[0mloc\u001b[0m \u001b[0;34m=\u001b[0m \u001b[0mself\u001b[0m\u001b[0;34m.\u001b[0m\u001b[0mitems\u001b[0m\u001b[0;34m.\u001b[0m\u001b[0mget_loc\u001b[0m\u001b[0;34m(\u001b[0m\u001b[0mitem\u001b[0m\u001b[0;34m)\u001b[0m\u001b[0;34m\u001b[0m\u001b[0m\n\u001b[0m\u001b[1;32m   3844\u001b[0m             \u001b[0;32melse\u001b[0m\u001b[0;34m:\u001b[0m\u001b[0;34m\u001b[0m\u001b[0m\n\u001b[1;32m   3845\u001b[0m                 \u001b[0mindexer\u001b[0m \u001b[0;34m=\u001b[0m \u001b[0mnp\u001b[0m\u001b[0;34m.\u001b[0m\u001b[0marange\u001b[0m\u001b[0;34m(\u001b[0m\u001b[0mlen\u001b[0m\u001b[0;34m(\u001b[0m\u001b[0mself\u001b[0m\u001b[0;34m.\u001b[0m\u001b[0mitems\u001b[0m\u001b[0;34m)\u001b[0m\u001b[0;34m)\u001b[0m\u001b[0;34m[\u001b[0m\u001b[0misna\u001b[0m\u001b[0;34m(\u001b[0m\u001b[0mself\u001b[0m\u001b[0;34m.\u001b[0m\u001b[0mitems\u001b[0m\u001b[0;34m)\u001b[0m\u001b[0;34m]\u001b[0m\u001b[0;34m\u001b[0m\u001b[0m\n",
      "\u001b[0;32m~/anaconda/envs/rpy-env/lib/python3.6/site-packages/pandas/core/indexes/base.py\u001b[0m in \u001b[0;36mget_loc\u001b[0;34m(self, key, method, tolerance)\u001b[0m\n\u001b[1;32m   2525\u001b[0m                 \u001b[0;32mreturn\u001b[0m \u001b[0mself\u001b[0m\u001b[0;34m.\u001b[0m\u001b[0m_engine\u001b[0m\u001b[0;34m.\u001b[0m\u001b[0mget_loc\u001b[0m\u001b[0;34m(\u001b[0m\u001b[0mkey\u001b[0m\u001b[0;34m)\u001b[0m\u001b[0;34m\u001b[0m\u001b[0m\n\u001b[1;32m   2526\u001b[0m             \u001b[0;32mexcept\u001b[0m \u001b[0mKeyError\u001b[0m\u001b[0;34m:\u001b[0m\u001b[0;34m\u001b[0m\u001b[0m\n\u001b[0;32m-> 2527\u001b[0;31m                 \u001b[0;32mreturn\u001b[0m \u001b[0mself\u001b[0m\u001b[0;34m.\u001b[0m\u001b[0m_engine\u001b[0m\u001b[0;34m.\u001b[0m\u001b[0mget_loc\u001b[0m\u001b[0;34m(\u001b[0m\u001b[0mself\u001b[0m\u001b[0;34m.\u001b[0m\u001b[0m_maybe_cast_indexer\u001b[0m\u001b[0;34m(\u001b[0m\u001b[0mkey\u001b[0m\u001b[0;34m)\u001b[0m\u001b[0;34m)\u001b[0m\u001b[0;34m\u001b[0m\u001b[0m\n\u001b[0m\u001b[1;32m   2528\u001b[0m \u001b[0;34m\u001b[0m\u001b[0m\n\u001b[1;32m   2529\u001b[0m         \u001b[0mindexer\u001b[0m \u001b[0;34m=\u001b[0m \u001b[0mself\u001b[0m\u001b[0;34m.\u001b[0m\u001b[0mget_indexer\u001b[0m\u001b[0;34m(\u001b[0m\u001b[0;34m[\u001b[0m\u001b[0mkey\u001b[0m\u001b[0;34m]\u001b[0m\u001b[0;34m,\u001b[0m \u001b[0mmethod\u001b[0m\u001b[0;34m=\u001b[0m\u001b[0mmethod\u001b[0m\u001b[0;34m,\u001b[0m \u001b[0mtolerance\u001b[0m\u001b[0;34m=\u001b[0m\u001b[0mtolerance\u001b[0m\u001b[0;34m)\u001b[0m\u001b[0;34m\u001b[0m\u001b[0m\n",
      "\u001b[0;32mpandas/_libs/index.pyx\u001b[0m in \u001b[0;36mpandas._libs.index.IndexEngine.get_loc\u001b[0;34m()\u001b[0m\n",
      "\u001b[0;32mpandas/_libs/index.pyx\u001b[0m in \u001b[0;36mpandas._libs.index.IndexEngine.get_loc\u001b[0;34m()\u001b[0m\n",
      "\u001b[0;32mpandas/_libs/hashtable_class_helper.pxi\u001b[0m in \u001b[0;36mpandas._libs.hashtable.PyObjectHashTable.get_item\u001b[0;34m()\u001b[0m\n",
      "\u001b[0;32mpandas/_libs/hashtable_class_helper.pxi\u001b[0m in \u001b[0;36mpandas._libs.hashtable.PyObjectHashTable.get_item\u001b[0;34m()\u001b[0m\n",
      "\u001b[0;31mKeyError\u001b[0m: ('vaso_type', 'icustay_id')"
     ]
    },
    {
     "name": "stdout",
     "output_type": "stream",
     "text": [
      "time: 52.5 ms\n"
     ]
    }
   ],
   "source": [
    "# #pd.melt(test1, col_level=1, id_vars=[('vaso_type','icustay_id'),'charttime','delta','t_0'], var_name='label')\n",
    "# pd.melt(test1, id_vars=[('vaso_type','icustay_id')], var_name='label')\n"
   ]
  },
  {
   "cell_type": "code",
   "execution_count": null,
   "metadata": {},
   "outputs": [],
   "source": [
    "# problem: i need to make a vaso_rate and vaso_amount for each vaso_type"
   ]
  },
  {
   "cell_type": "code",
   "execution_count": 44,
   "metadata": {},
   "outputs": [
    {
     "data": {
      "text/plain": [
       "array(['epinephrine', 'norepinephrine', 'vasopressin', 'phenylephrine',\n",
       "       'dopamine', 'dobutamine'], dtype=object)"
      ]
     },
     "execution_count": 44,
     "metadata": {},
     "output_type": "execute_result"
    },
    {
     "name": "stdout",
     "output_type": "stream",
     "text": [
      "time: 4.25 ms\n"
     ]
    }
   ],
   "source": [
    "# vaso_dose_72['vaso_type'].unique()"
   ]
  },
  {
   "cell_type": "code",
   "execution_count": null,
   "metadata": {},
   "outputs": [],
   "source": []
  },
  {
   "cell_type": "code",
   "execution_count": null,
   "metadata": {},
   "outputs": [],
   "source": []
  },
  {
   "cell_type": "markdown",
   "metadata": {},
   "source": [
    "# labs_all_nosummary_72\n",
    "- subject_id\n",
    "- hadm_id\n",
    "- icustay_id\n",
    "- charttime: starttime/charttime.\n",
    "- endtime: going to be null for any value listed with only a charttime. \n",
    "- label\n",
    "- value\n",
    "- units?\n",
    "- t_0\n",
    "- delta\n",
    "- days\n",
    "- frequency\n",
    "- dtype"
   ]
  },
  {
   "cell_type": "code",
   "execution_count": 97,
   "metadata": {},
   "outputs": [
    {
     "data": {
      "text/html": [
       "<div>\n",
       "<style scoped>\n",
       "    .dataframe tbody tr th:only-of-type {\n",
       "        vertical-align: middle;\n",
       "    }\n",
       "\n",
       "    .dataframe tbody tr th {\n",
       "        vertical-align: top;\n",
       "    }\n",
       "\n",
       "    .dataframe thead th {\n",
       "        text-align: right;\n",
       "    }\n",
       "</style>\n",
       "<table border=\"1\" class=\"dataframe\">\n",
       "  <thead>\n",
       "    <tr style=\"text-align: right;\">\n",
       "      <th></th>\n",
       "      <th>subject_id</th>\n",
       "      <th>hadm_id</th>\n",
       "      <th>icustay_id</th>\n",
       "      <th>charttime</th>\n",
       "      <th>label</th>\n",
       "      <th>valuenum</th>\n",
       "      <th>t_0</th>\n",
       "      <th>delta</th>\n",
       "    </tr>\n",
       "  </thead>\n",
       "  <tbody>\n",
       "    <tr>\n",
       "      <th>0</th>\n",
       "      <td>9</td>\n",
       "      <td>150750</td>\n",
       "      <td>220597</td>\n",
       "      <td>2149-11-14 07:47:00</td>\n",
       "      <td>SODIUM</td>\n",
       "      <td>137.0</td>\n",
       "      <td>2149-11-13</td>\n",
       "      <td>1 days 07:47:00.000000000</td>\n",
       "    </tr>\n",
       "    <tr>\n",
       "      <th>81</th>\n",
       "      <td>9</td>\n",
       "      <td>150750</td>\n",
       "      <td>220597</td>\n",
       "      <td>2149-11-13 03:20:00</td>\n",
       "      <td>ALBUMIN</td>\n",
       "      <td>3.0</td>\n",
       "      <td>2149-11-13</td>\n",
       "      <td>0 days 03:20:00.000000000</td>\n",
       "    </tr>\n",
       "    <tr>\n",
       "      <th>82</th>\n",
       "      <td>9</td>\n",
       "      <td>150750</td>\n",
       "      <td>220597</td>\n",
       "      <td>2149-11-13 03:20:00</td>\n",
       "      <td>ANION GAP</td>\n",
       "      <td>13.0</td>\n",
       "      <td>2149-11-13</td>\n",
       "      <td>0 days 03:20:00.000000000</td>\n",
       "    </tr>\n",
       "    <tr>\n",
       "      <th>83</th>\n",
       "      <td>9</td>\n",
       "      <td>150750</td>\n",
       "      <td>220597</td>\n",
       "      <td>2149-11-13 03:20:00</td>\n",
       "      <td>BICARBONATE</td>\n",
       "      <td>22.0</td>\n",
       "      <td>2149-11-13</td>\n",
       "      <td>0 days 03:20:00.000000000</td>\n",
       "    </tr>\n",
       "    <tr>\n",
       "      <th>84</th>\n",
       "      <td>9</td>\n",
       "      <td>150750</td>\n",
       "      <td>220597</td>\n",
       "      <td>2149-11-13 03:20:00</td>\n",
       "      <td>CHLORIDE</td>\n",
       "      <td>99.0</td>\n",
       "      <td>2149-11-13</td>\n",
       "      <td>0 days 03:20:00.000000000</td>\n",
       "    </tr>\n",
       "  </tbody>\n",
       "</table>\n",
       "</div>"
      ],
      "text/plain": [
       "    subject_id  hadm_id  icustay_id            charttime        label  \\\n",
       "0            9   150750      220597  2149-11-14 07:47:00       SODIUM   \n",
       "81           9   150750      220597  2149-11-13 03:20:00      ALBUMIN   \n",
       "82           9   150750      220597  2149-11-13 03:20:00    ANION GAP   \n",
       "83           9   150750      220597  2149-11-13 03:20:00  BICARBONATE   \n",
       "84           9   150750      220597  2149-11-13 03:20:00     CHLORIDE   \n",
       "\n",
       "    valuenum         t_0                      delta  \n",
       "0      137.0  2149-11-13  1 days 07:47:00.000000000  \n",
       "81       3.0  2149-11-13  0 days 03:20:00.000000000  \n",
       "82      13.0  2149-11-13  0 days 03:20:00.000000000  \n",
       "83      22.0  2149-11-13  0 days 03:20:00.000000000  \n",
       "84      99.0  2149-11-13  0 days 03:20:00.000000000  "
      ]
     },
     "execution_count": 97,
     "metadata": {},
     "output_type": "execute_result"
    },
    {
     "name": "stdout",
     "output_type": "stream",
     "text": [
      "time: 19.8 ms\n"
     ]
    }
   ],
   "source": [
    "#labs_all_nosummary_72\n",
    "labs_all_nosummary_72.head()"
   ]
  },
  {
   "cell_type": "markdown",
   "metadata": {},
   "source": [
    "#### adding in UOM into labs"
   ]
  },
  {
   "cell_type": "code",
   "execution_count": 107,
   "metadata": {},
   "outputs": [
    {
     "name": "stdout",
     "output_type": "stream",
     "text": [
      "time: 4.95 ms\n"
     ]
    }
   ],
   "source": [
    "#importing unit of mesurements:\n",
    "def uom_sql_import(file_path):\n",
    "    if isinstance(file_path, str)== True:\n",
    "        f = open(Path(file_path), 'r')\n",
    "    else:\n",
    "        f = open(Path(str(file_path)), 'r')\n",
    "\n",
    "    SQL = open(file_path,'r').read()\n",
    "    SQL_df= pd.read_sql_query(SQL,conn)   \n",
    "    return(SQL_df)"
   ]
  },
  {
   "cell_type": "code",
   "execution_count": 129,
   "metadata": {},
   "outputs": [
    {
     "name": "stdout",
     "output_type": "stream",
     "text": [
      "time: 22.2 s\n"
     ]
    }
   ],
   "source": [
    "lab_uom= uom_sql_import(Path(wd+'/data/raw/clinical_var_sql/unit_of_mesurement/labs_uom.sql'))\n"
   ]
  },
  {
   "cell_type": "code",
   "execution_count": 130,
   "metadata": {},
   "outputs": [
    {
     "data": {
      "text/html": [
       "<div>\n",
       "<style scoped>\n",
       "    .dataframe tbody tr th:only-of-type {\n",
       "        vertical-align: middle;\n",
       "    }\n",
       "\n",
       "    .dataframe tbody tr th {\n",
       "        vertical-align: top;\n",
       "    }\n",
       "\n",
       "    .dataframe thead th {\n",
       "        text-align: right;\n",
       "    }\n",
       "</style>\n",
       "<table border=\"1\" class=\"dataframe\">\n",
       "  <thead>\n",
       "    <tr style=\"text-align: right;\">\n",
       "      <th></th>\n",
       "      <th>uom</th>\n",
       "      <th>label</th>\n",
       "    </tr>\n",
       "  </thead>\n",
       "  <tbody>\n",
       "    <tr>\n",
       "      <th>0</th>\n",
       "      <td>g/dL</td>\n",
       "      <td>ALBUMIN</td>\n",
       "    </tr>\n",
       "    <tr>\n",
       "      <th>1</th>\n",
       "      <td>mEq/L</td>\n",
       "      <td>ANION GAP</td>\n",
       "    </tr>\n",
       "    <tr>\n",
       "      <th>2</th>\n",
       "      <td>%</td>\n",
       "      <td>BANDS</td>\n",
       "    </tr>\n",
       "    <tr>\n",
       "      <th>3</th>\n",
       "      <td>mEq/L</td>\n",
       "      <td>BICARBONATE</td>\n",
       "    </tr>\n",
       "    <tr>\n",
       "      <th>4</th>\n",
       "      <td>mg/dL</td>\n",
       "      <td>BILIRUBIN</td>\n",
       "    </tr>\n",
       "    <tr>\n",
       "      <th>5</th>\n",
       "      <td>mg/dL</td>\n",
       "      <td>BUN</td>\n",
       "    </tr>\n",
       "    <tr>\n",
       "      <th>6</th>\n",
       "      <td>mEq/L</td>\n",
       "      <td>CHLORIDE</td>\n",
       "    </tr>\n",
       "    <tr>\n",
       "      <th>7</th>\n",
       "      <td>mg/dL</td>\n",
       "      <td>CREATININE</td>\n",
       "    </tr>\n",
       "    <tr>\n",
       "      <th>8</th>\n",
       "      <td>mg/dL</td>\n",
       "      <td>GLUCOSE</td>\n",
       "    </tr>\n",
       "    <tr>\n",
       "      <th>9</th>\n",
       "      <td>%</td>\n",
       "      <td>HEMATOCRIT</td>\n",
       "    </tr>\n",
       "    <tr>\n",
       "      <th>10</th>\n",
       "      <td>g/dL</td>\n",
       "      <td>HEMOGLOBIN</td>\n",
       "    </tr>\n",
       "    <tr>\n",
       "      <th>11</th>\n",
       "      <td>None</td>\n",
       "      <td>INR</td>\n",
       "    </tr>\n",
       "    <tr>\n",
       "      <th>12</th>\n",
       "      <td>mmol/L</td>\n",
       "      <td>LACTATE</td>\n",
       "    </tr>\n",
       "    <tr>\n",
       "      <th>13</th>\n",
       "      <td>K/uL</td>\n",
       "      <td>PLATELET</td>\n",
       "    </tr>\n",
       "    <tr>\n",
       "      <th>14</th>\n",
       "      <td>mEq/L</td>\n",
       "      <td>POTASSIUM</td>\n",
       "    </tr>\n",
       "    <tr>\n",
       "      <th>15</th>\n",
       "      <td>SECONDS</td>\n",
       "      <td>PT</td>\n",
       "    </tr>\n",
       "    <tr>\n",
       "      <th>16</th>\n",
       "      <td>sec</td>\n",
       "      <td>PTT</td>\n",
       "    </tr>\n",
       "    <tr>\n",
       "      <th>17</th>\n",
       "      <td>mEq/L</td>\n",
       "      <td>SODIUM</td>\n",
       "    </tr>\n",
       "    <tr>\n",
       "      <th>18</th>\n",
       "      <td>K/uL</td>\n",
       "      <td>WBC</td>\n",
       "    </tr>\n",
       "  </tbody>\n",
       "</table>\n",
       "</div>"
      ],
      "text/plain": [
       "        uom        label\n",
       "0      g/dL      ALBUMIN\n",
       "1     mEq/L    ANION GAP\n",
       "2         %        BANDS\n",
       "3     mEq/L  BICARBONATE\n",
       "4     mg/dL    BILIRUBIN\n",
       "5     mg/dL          BUN\n",
       "6     mEq/L     CHLORIDE\n",
       "7     mg/dL   CREATININE\n",
       "8     mg/dL      GLUCOSE\n",
       "9         %   HEMATOCRIT\n",
       "10     g/dL   HEMOGLOBIN\n",
       "11     None          INR\n",
       "12   mmol/L      LACTATE\n",
       "13     K/uL     PLATELET\n",
       "14    mEq/L    POTASSIUM\n",
       "15  SECONDS           PT\n",
       "16      sec          PTT\n",
       "17    mEq/L       SODIUM\n",
       "18     K/uL          WBC"
      ]
     },
     "execution_count": 130,
     "metadata": {},
     "output_type": "execute_result"
    },
    {
     "name": "stdout",
     "output_type": "stream",
     "text": [
      "time: 7.97 ms\n"
     ]
    }
   ],
   "source": [
    "lab_uom"
   ]
  },
  {
   "cell_type": "code",
   "execution_count": 124,
   "metadata": {},
   "outputs": [
    {
     "name": "stdout",
     "output_type": "stream",
     "text": [
      "time: 365 ms\n"
     ]
    }
   ],
   "source": [
    "labs_all_nosummary_72 = pd.merge(labs_all_nosummary_72, lab_uom, left_on='label', right_on='label')"
   ]
  },
  {
   "cell_type": "code",
   "execution_count": 131,
   "metadata": {},
   "outputs": [
    {
     "name": "stdout",
     "output_type": "stream",
     "text": [
      "time: 704 µs\n"
     ]
    }
   ],
   "source": [
    "del(lab_uom)"
   ]
  },
  {
   "cell_type": "code",
   "execution_count": 137,
   "metadata": {},
   "outputs": [
    {
     "data": {
      "text/html": [
       "<div>\n",
       "<style scoped>\n",
       "    .dataframe tbody tr th:only-of-type {\n",
       "        vertical-align: middle;\n",
       "    }\n",
       "\n",
       "    .dataframe tbody tr th {\n",
       "        vertical-align: top;\n",
       "    }\n",
       "\n",
       "    .dataframe thead th {\n",
       "        text-align: right;\n",
       "    }\n",
       "</style>\n",
       "<table border=\"1\" class=\"dataframe\">\n",
       "  <thead>\n",
       "    <tr style=\"text-align: right;\">\n",
       "      <th></th>\n",
       "      <th>subject_id</th>\n",
       "      <th>hadm_id</th>\n",
       "      <th>icustay_id</th>\n",
       "      <th>charttime</th>\n",
       "      <th>label</th>\n",
       "      <th>value</th>\n",
       "      <th>t_0</th>\n",
       "      <th>delta</th>\n",
       "      <th>uom</th>\n",
       "      <th>endtime</th>\n",
       "    </tr>\n",
       "  </thead>\n",
       "  <tbody>\n",
       "    <tr>\n",
       "      <th>0</th>\n",
       "      <td>9</td>\n",
       "      <td>150750</td>\n",
       "      <td>220597</td>\n",
       "      <td>2149-11-14 07:47:00</td>\n",
       "      <td>SODIUM</td>\n",
       "      <td>137.0</td>\n",
       "      <td>2149-11-13</td>\n",
       "      <td>1 days 07:47:00.000000000</td>\n",
       "      <td>mEq/L</td>\n",
       "      <td>NaN</td>\n",
       "    </tr>\n",
       "    <tr>\n",
       "      <th>1</th>\n",
       "      <td>9</td>\n",
       "      <td>150750</td>\n",
       "      <td>220597</td>\n",
       "      <td>2149-11-13 03:20:00</td>\n",
       "      <td>SODIUM</td>\n",
       "      <td>130.0</td>\n",
       "      <td>2149-11-13</td>\n",
       "      <td>0 days 03:20:00.000000000</td>\n",
       "      <td>mEq/L</td>\n",
       "      <td>NaN</td>\n",
       "    </tr>\n",
       "    <tr>\n",
       "      <th>2</th>\n",
       "      <td>9</td>\n",
       "      <td>150750</td>\n",
       "      <td>220597</td>\n",
       "      <td>2149-11-13 16:04:00</td>\n",
       "      <td>SODIUM</td>\n",
       "      <td>129.0</td>\n",
       "      <td>2149-11-13</td>\n",
       "      <td>0 days 16:04:00.000000000</td>\n",
       "      <td>mEq/L</td>\n",
       "      <td>NaN</td>\n",
       "    </tr>\n",
       "    <tr>\n",
       "      <th>3</th>\n",
       "      <td>9</td>\n",
       "      <td>150750</td>\n",
       "      <td>220597</td>\n",
       "      <td>2149-11-13 19:30:00</td>\n",
       "      <td>SODIUM</td>\n",
       "      <td>131.0</td>\n",
       "      <td>2149-11-13</td>\n",
       "      <td>0 days 19:30:00.000000000</td>\n",
       "      <td>mEq/L</td>\n",
       "      <td>NaN</td>\n",
       "    </tr>\n",
       "    <tr>\n",
       "      <th>4</th>\n",
       "      <td>9</td>\n",
       "      <td>150750</td>\n",
       "      <td>220597</td>\n",
       "      <td>2149-11-14 01:48:00</td>\n",
       "      <td>SODIUM</td>\n",
       "      <td>133.0</td>\n",
       "      <td>2149-11-13</td>\n",
       "      <td>1 days 01:48:00.000000000</td>\n",
       "      <td>mEq/L</td>\n",
       "      <td>NaN</td>\n",
       "    </tr>\n",
       "  </tbody>\n",
       "</table>\n",
       "</div>"
      ],
      "text/plain": [
       "   subject_id  hadm_id  icustay_id            charttime   label  value  \\\n",
       "0           9   150750      220597  2149-11-14 07:47:00  SODIUM  137.0   \n",
       "1           9   150750      220597  2149-11-13 03:20:00  SODIUM  130.0   \n",
       "2           9   150750      220597  2149-11-13 16:04:00  SODIUM  129.0   \n",
       "3           9   150750      220597  2149-11-13 19:30:00  SODIUM  131.0   \n",
       "4           9   150750      220597  2149-11-14 01:48:00  SODIUM  133.0   \n",
       "\n",
       "          t_0                      delta    uom  endtime  \n",
       "0  2149-11-13  1 days 07:47:00.000000000  mEq/L      NaN  \n",
       "1  2149-11-13  0 days 03:20:00.000000000  mEq/L      NaN  \n",
       "2  2149-11-13  0 days 16:04:00.000000000  mEq/L      NaN  \n",
       "3  2149-11-13  0 days 19:30:00.000000000  mEq/L      NaN  \n",
       "4  2149-11-13  1 days 01:48:00.000000000  mEq/L      NaN  "
      ]
     },
     "execution_count": 137,
     "metadata": {},
     "output_type": "execute_result"
    },
    {
     "name": "stdout",
     "output_type": "stream",
     "text": [
      "time: 13.1 ms\n"
     ]
    }
   ],
   "source": [
    "labs_all_nosummary_72.head()"
   ]
  },
  {
   "cell_type": "markdown",
   "metadata": {},
   "source": [
    "## formatting the labs_all_nosummary_72 df to meet the master df standard:\n"
   ]
  },
  {
   "cell_type": "code",
   "execution_count": 134,
   "metadata": {},
   "outputs": [
    {
     "name": "stdout",
     "output_type": "stream",
     "text": [
      "time: 6.85 ms\n"
     ]
    }
   ],
   "source": [
    "labs_all_nosummary_72['endtime']= np.nan #adding in null endtimes"
   ]
  },
  {
   "cell_type": "code",
   "execution_count": 136,
   "metadata": {},
   "outputs": [
    {
     "name": "stdout",
     "output_type": "stream",
     "text": [
      "time: 516 ms\n"
     ]
    }
   ],
   "source": [
    "labs_all_nosummary_72= labs_all_nosummary_72.rename(\n",
    "    columns={'valuenum':'value'}) #changing valuenum to value"
   ]
  },
  {
   "cell_type": "code",
   "execution_count": null,
   "metadata": {},
   "outputs": [],
   "source": [
    "#missing days, may or may not keep this"
   ]
  },
  {
   "cell_type": "code",
   "execution_count": 139,
   "metadata": {},
   "outputs": [
    {
     "data": {
      "text/html": [
       "<div>\n",
       "<style scoped>\n",
       "    .dataframe tbody tr th:only-of-type {\n",
       "        vertical-align: middle;\n",
       "    }\n",
       "\n",
       "    .dataframe tbody tr th {\n",
       "        vertical-align: top;\n",
       "    }\n",
       "\n",
       "    .dataframe thead th {\n",
       "        text-align: right;\n",
       "    }\n",
       "</style>\n",
       "<table border=\"1\" class=\"dataframe\">\n",
       "  <thead>\n",
       "    <tr style=\"text-align: right;\">\n",
       "      <th></th>\n",
       "      <th>subject_id</th>\n",
       "      <th>hadm_id</th>\n",
       "      <th>icustay_id</th>\n",
       "      <th>charttime</th>\n",
       "      <th>label</th>\n",
       "      <th>value</th>\n",
       "      <th>t_0</th>\n",
       "      <th>delta</th>\n",
       "      <th>uom</th>\n",
       "      <th>endtime</th>\n",
       "    </tr>\n",
       "  </thead>\n",
       "  <tbody>\n",
       "    <tr>\n",
       "      <th>0</th>\n",
       "      <td>9</td>\n",
       "      <td>150750</td>\n",
       "      <td>220597</td>\n",
       "      <td>2149-11-14 07:47:00</td>\n",
       "      <td>SODIUM</td>\n",
       "      <td>137.0</td>\n",
       "      <td>2149-11-13</td>\n",
       "      <td>1 days 07:47:00.000000000</td>\n",
       "      <td>mEq/L</td>\n",
       "      <td>NaN</td>\n",
       "    </tr>\n",
       "    <tr>\n",
       "      <th>1</th>\n",
       "      <td>9</td>\n",
       "      <td>150750</td>\n",
       "      <td>220597</td>\n",
       "      <td>2149-11-13 03:20:00</td>\n",
       "      <td>SODIUM</td>\n",
       "      <td>130.0</td>\n",
       "      <td>2149-11-13</td>\n",
       "      <td>0 days 03:20:00.000000000</td>\n",
       "      <td>mEq/L</td>\n",
       "      <td>NaN</td>\n",
       "    </tr>\n",
       "    <tr>\n",
       "      <th>2</th>\n",
       "      <td>9</td>\n",
       "      <td>150750</td>\n",
       "      <td>220597</td>\n",
       "      <td>2149-11-13 16:04:00</td>\n",
       "      <td>SODIUM</td>\n",
       "      <td>129.0</td>\n",
       "      <td>2149-11-13</td>\n",
       "      <td>0 days 16:04:00.000000000</td>\n",
       "      <td>mEq/L</td>\n",
       "      <td>NaN</td>\n",
       "    </tr>\n",
       "    <tr>\n",
       "      <th>3</th>\n",
       "      <td>9</td>\n",
       "      <td>150750</td>\n",
       "      <td>220597</td>\n",
       "      <td>2149-11-13 19:30:00</td>\n",
       "      <td>SODIUM</td>\n",
       "      <td>131.0</td>\n",
       "      <td>2149-11-13</td>\n",
       "      <td>0 days 19:30:00.000000000</td>\n",
       "      <td>mEq/L</td>\n",
       "      <td>NaN</td>\n",
       "    </tr>\n",
       "    <tr>\n",
       "      <th>4</th>\n",
       "      <td>9</td>\n",
       "      <td>150750</td>\n",
       "      <td>220597</td>\n",
       "      <td>2149-11-14 01:48:00</td>\n",
       "      <td>SODIUM</td>\n",
       "      <td>133.0</td>\n",
       "      <td>2149-11-13</td>\n",
       "      <td>1 days 01:48:00.000000000</td>\n",
       "      <td>mEq/L</td>\n",
       "      <td>NaN</td>\n",
       "    </tr>\n",
       "  </tbody>\n",
       "</table>\n",
       "</div>"
      ],
      "text/plain": [
       "   subject_id  hadm_id  icustay_id            charttime   label  value  \\\n",
       "0           9   150750      220597  2149-11-14 07:47:00  SODIUM  137.0   \n",
       "1           9   150750      220597  2149-11-13 03:20:00  SODIUM  130.0   \n",
       "2           9   150750      220597  2149-11-13 16:04:00  SODIUM  129.0   \n",
       "3           9   150750      220597  2149-11-13 19:30:00  SODIUM  131.0   \n",
       "4           9   150750      220597  2149-11-14 01:48:00  SODIUM  133.0   \n",
       "\n",
       "          t_0                      delta    uom  endtime  \n",
       "0  2149-11-13  1 days 07:47:00.000000000  mEq/L      NaN  \n",
       "1  2149-11-13  0 days 03:20:00.000000000  mEq/L      NaN  \n",
       "2  2149-11-13  0 days 16:04:00.000000000  mEq/L      NaN  \n",
       "3  2149-11-13  0 days 19:30:00.000000000  mEq/L      NaN  \n",
       "4  2149-11-13  1 days 01:48:00.000000000  mEq/L      NaN  "
      ]
     },
     "execution_count": 139,
     "metadata": {},
     "output_type": "execute_result"
    },
    {
     "name": "stdout",
     "output_type": "stream",
     "text": [
      "time: 21.1 ms\n"
     ]
    }
   ],
   "source": [
    "labs_all_nosummary_72.head()"
   ]
  },
  {
   "cell_type": "code",
   "execution_count": null,
   "metadata": {},
   "outputs": [],
   "source": []
  },
  {
   "cell_type": "markdown",
   "metadata": {},
   "source": [
    "# ventcategory_df_melt\n",
    "- subject_id\n",
    "- hadm_id\n",
    "- icustay_id\n",
    "- charttime: starttime/charttime.\n",
    "- endtime: going to be null for any value listed with only a charttime. \n",
    "- label\n",
    "- value\n",
    "- units?\n",
    "- t_0\n",
    "- delta\n",
    "- days\n",
    "- frequency\n",
    "- dtype"
   ]
  },
  {
   "cell_type": "code",
   "execution_count": 140,
   "metadata": {},
   "outputs": [
    {
     "data": {
      "text/html": [
       "<div>\n",
       "<style scoped>\n",
       "    .dataframe tbody tr th:only-of-type {\n",
       "        vertical-align: middle;\n",
       "    }\n",
       "\n",
       "    .dataframe tbody tr th {\n",
       "        vertical-align: top;\n",
       "    }\n",
       "\n",
       "    .dataframe thead th {\n",
       "        text-align: right;\n",
       "    }\n",
       "</style>\n",
       "<table border=\"1\" class=\"dataframe\">\n",
       "  <thead>\n",
       "    <tr style=\"text-align: right;\">\n",
       "      <th></th>\n",
       "      <th>icustay_id</th>\n",
       "      <th>t_0</th>\n",
       "      <th>label</th>\n",
       "      <th>value</th>\n",
       "    </tr>\n",
       "  </thead>\n",
       "  <tbody>\n",
       "    <tr>\n",
       "      <th>0</th>\n",
       "      <td>267059.0</td>\n",
       "      <td>2182-11-12</td>\n",
       "      <td>vent_day1</td>\n",
       "      <td>Mech</td>\n",
       "    </tr>\n",
       "    <tr>\n",
       "      <th>1</th>\n",
       "      <td>278729.0</td>\n",
       "      <td>2159-11-08</td>\n",
       "      <td>vent_day1</td>\n",
       "      <td>Oxygen</td>\n",
       "    </tr>\n",
       "    <tr>\n",
       "      <th>2</th>\n",
       "      <td>219670.0</td>\n",
       "      <td>2190-08-01</td>\n",
       "      <td>vent_day1</td>\n",
       "      <td>Oxygen</td>\n",
       "    </tr>\n",
       "    <tr>\n",
       "      <th>3</th>\n",
       "      <td>295185.0</td>\n",
       "      <td>2154-11-11</td>\n",
       "      <td>vent_day1</td>\n",
       "      <td>Oxygen</td>\n",
       "    </tr>\n",
       "    <tr>\n",
       "      <th>4</th>\n",
       "      <td>211472.0</td>\n",
       "      <td>2193-12-11</td>\n",
       "      <td>vent_day1</td>\n",
       "      <td>None</td>\n",
       "    </tr>\n",
       "  </tbody>\n",
       "</table>\n",
       "</div>"
      ],
      "text/plain": [
       "   icustay_id         t_0      label   value\n",
       "0    267059.0  2182-11-12  vent_day1    Mech\n",
       "1    278729.0  2159-11-08  vent_day1  Oxygen\n",
       "2    219670.0  2190-08-01  vent_day1  Oxygen\n",
       "3    295185.0  2154-11-11  vent_day1  Oxygen\n",
       "4    211472.0  2193-12-11  vent_day1    None"
      ]
     },
     "execution_count": 140,
     "metadata": {},
     "output_type": "execute_result"
    },
    {
     "name": "stdout",
     "output_type": "stream",
     "text": [
      "time: 23.2 ms\n"
     ]
    }
   ],
   "source": [
    "ventcategory_df_melt = pd.melt(ventcategory_df, id_vars=['icustay_id','t_0'], var_name='label')\n",
    "ventcategory_df_melt.head()"
   ]
  },
  {
   "cell_type": "code",
   "execution_count": 161,
   "metadata": {},
   "outputs": [
    {
     "name": "stdout",
     "output_type": "stream",
     "text": [
      "time: 35.4 ms\n"
     ]
    }
   ],
   "source": [
    "ventcategory_df_melt['uom']='category'\n",
    "ventcategory_df_melt['frequency']= 'once_per_day'\n",
    "ventcategory_df_melt['dtype']= 'factor'\n",
    "ventcategory_df_melt['endtime']=np.NaN\n",
    "ventcategory_df_melt['charttime']=np.NaN\n",
    "ventcategory_df_melt['days']=np.NaN\n",
    "ventcategory_df_melt.loc[ventcategory_df_melt.loc[:,'label']=='vent_day1','days']=1\n",
    "ventcategory_df_melt.loc[ventcategory_df_melt.loc[:,'label']=='vent_day2','days']=2\n",
    "ventcategory_df_melt.loc[ventcategory_df_melt.loc[:,'label']=='vent_day3','days']=3"
   ]
  },
  {
   "cell_type": "code",
   "execution_count": 162,
   "metadata": {},
   "outputs": [
    {
     "name": "stdout",
     "output_type": "stream",
     "text": [
      "time: 113 ms\n"
     ]
    }
   ],
   "source": [
    "#adding in charttime\n",
    "\n",
    "ventcategory_df_melt.loc[ventcategory_df_melt.loc[:,'label']=='vent_day1','charttime']=(\n",
    "    pd.to_datetime(\n",
    "        ventcategory_df_melt.loc[ventcategory_df_melt.loc[:,'label']=='vent_day1','t_0'])\n",
    "            +pd.Timedelta(days=1))\n",
    "\n",
    "ventcategory_df_melt.loc[ventcategory_df_melt.loc[:,'label']=='vent_day2','charttime']=(\n",
    "    pd.to_datetime(\n",
    "        ventcategory_df_melt.loc[ventcategory_df_melt.loc[:,'label']=='vent_day2','t_0'])\n",
    "            +pd.Timedelta(days=2))\n",
    "\n",
    "ventcategory_df_melt.loc[ventcategory_df_melt.loc[:,'label']=='vent_day3','charttime']=(\n",
    "    pd.to_datetime(\n",
    "        ventcategory_df_melt.loc[ventcategory_df_melt.loc[:,'label']=='vent_day3','t_0'])\n",
    "            +pd.Timedelta(days=3))\n",
    "\n",
    "ventcategory_df_melt['charttime']= pd.to_datetime(ventcategory_df_melt['charttime'])"
   ]
  },
  {
   "cell_type": "code",
   "execution_count": 165,
   "metadata": {},
   "outputs": [
    {
     "data": {
      "text/html": [
       "<div>\n",
       "<style scoped>\n",
       "    .dataframe tbody tr th:only-of-type {\n",
       "        vertical-align: middle;\n",
       "    }\n",
       "\n",
       "    .dataframe tbody tr th {\n",
       "        vertical-align: top;\n",
       "    }\n",
       "\n",
       "    .dataframe thead th {\n",
       "        text-align: right;\n",
       "    }\n",
       "</style>\n",
       "<table border=\"1\" class=\"dataframe\">\n",
       "  <thead>\n",
       "    <tr style=\"text-align: right;\">\n",
       "      <th></th>\n",
       "      <th>icustay_id</th>\n",
       "      <th>t_0</th>\n",
       "      <th>label</th>\n",
       "      <th>value</th>\n",
       "      <th>uom</th>\n",
       "      <th>frequency</th>\n",
       "      <th>dtype</th>\n",
       "      <th>endtime</th>\n",
       "      <th>charttime</th>\n",
       "      <th>days</th>\n",
       "    </tr>\n",
       "  </thead>\n",
       "  <tbody>\n",
       "    <tr>\n",
       "      <th>0</th>\n",
       "      <td>267059.0</td>\n",
       "      <td>2182-11-12</td>\n",
       "      <td>vent_day1</td>\n",
       "      <td>Mech</td>\n",
       "      <td>category</td>\n",
       "      <td>once_per_day</td>\n",
       "      <td>factor</td>\n",
       "      <td>NaN</td>\n",
       "      <td>2182-11-13</td>\n",
       "      <td>1.0</td>\n",
       "    </tr>\n",
       "    <tr>\n",
       "      <th>1</th>\n",
       "      <td>278729.0</td>\n",
       "      <td>2159-11-08</td>\n",
       "      <td>vent_day1</td>\n",
       "      <td>Oxygen</td>\n",
       "      <td>category</td>\n",
       "      <td>once_per_day</td>\n",
       "      <td>factor</td>\n",
       "      <td>NaN</td>\n",
       "      <td>2159-11-09</td>\n",
       "      <td>1.0</td>\n",
       "    </tr>\n",
       "    <tr>\n",
       "      <th>2</th>\n",
       "      <td>219670.0</td>\n",
       "      <td>2190-08-01</td>\n",
       "      <td>vent_day1</td>\n",
       "      <td>Oxygen</td>\n",
       "      <td>category</td>\n",
       "      <td>once_per_day</td>\n",
       "      <td>factor</td>\n",
       "      <td>NaN</td>\n",
       "      <td>2190-08-02</td>\n",
       "      <td>1.0</td>\n",
       "    </tr>\n",
       "    <tr>\n",
       "      <th>3</th>\n",
       "      <td>295185.0</td>\n",
       "      <td>2154-11-11</td>\n",
       "      <td>vent_day1</td>\n",
       "      <td>Oxygen</td>\n",
       "      <td>category</td>\n",
       "      <td>once_per_day</td>\n",
       "      <td>factor</td>\n",
       "      <td>NaN</td>\n",
       "      <td>2154-11-12</td>\n",
       "      <td>1.0</td>\n",
       "    </tr>\n",
       "    <tr>\n",
       "      <th>4</th>\n",
       "      <td>211472.0</td>\n",
       "      <td>2193-12-11</td>\n",
       "      <td>vent_day1</td>\n",
       "      <td>None</td>\n",
       "      <td>category</td>\n",
       "      <td>once_per_day</td>\n",
       "      <td>factor</td>\n",
       "      <td>NaN</td>\n",
       "      <td>2193-12-12</td>\n",
       "      <td>1.0</td>\n",
       "    </tr>\n",
       "  </tbody>\n",
       "</table>\n",
       "</div>"
      ],
      "text/plain": [
       "   icustay_id         t_0      label   value       uom     frequency   dtype  \\\n",
       "0    267059.0  2182-11-12  vent_day1    Mech  category  once_per_day  factor   \n",
       "1    278729.0  2159-11-08  vent_day1  Oxygen  category  once_per_day  factor   \n",
       "2    219670.0  2190-08-01  vent_day1  Oxygen  category  once_per_day  factor   \n",
       "3    295185.0  2154-11-11  vent_day1  Oxygen  category  once_per_day  factor   \n",
       "4    211472.0  2193-12-11  vent_day1    None  category  once_per_day  factor   \n",
       "\n",
       "   endtime  charttime  days  \n",
       "0      NaN 2182-11-13   1.0  \n",
       "1      NaN 2159-11-09   1.0  \n",
       "2      NaN 2190-08-02   1.0  \n",
       "3      NaN 2154-11-12   1.0  \n",
       "4      NaN 2193-12-12   1.0  "
      ]
     },
     "execution_count": 165,
     "metadata": {},
     "output_type": "execute_result"
    },
    {
     "name": "stdout",
     "output_type": "stream",
     "text": [
      "time: 13 ms\n"
     ]
    }
   ],
   "source": [
    "ventcategory_df_melt.head()"
   ]
  },
  {
   "cell_type": "code",
   "execution_count": null,
   "metadata": {},
   "outputs": [],
   "source": []
  },
  {
   "cell_type": "markdown",
   "metadata": {},
   "source": [
    "# weightfirstday_df_melt\n",
    "- subject_id\n",
    "- hadm_id\n",
    "- icustay_id\n",
    "- charttime: starttime/charttime.\n",
    "- endtime: going to be null for any value listed with only a charttime. \n",
    "- label\n",
    "- value\n",
    "- units?\n",
    "- t_0\n",
    "- delta\n",
    "- days\n",
    "- frequency\n",
    "- dtype"
   ]
  },
  {
   "cell_type": "code",
   "execution_count": 166,
   "metadata": {},
   "outputs": [
    {
     "data": {
      "text/html": [
       "<div>\n",
       "<style scoped>\n",
       "    .dataframe tbody tr th:only-of-type {\n",
       "        vertical-align: middle;\n",
       "    }\n",
       "\n",
       "    .dataframe tbody tr th {\n",
       "        vertical-align: top;\n",
       "    }\n",
       "\n",
       "    .dataframe thead th {\n",
       "        text-align: right;\n",
       "    }\n",
       "</style>\n",
       "<table border=\"1\" class=\"dataframe\">\n",
       "  <thead>\n",
       "    <tr style=\"text-align: right;\">\n",
       "      <th></th>\n",
       "      <th>icustay_id</th>\n",
       "      <th>label</th>\n",
       "      <th>value</th>\n",
       "    </tr>\n",
       "  </thead>\n",
       "  <tbody>\n",
       "    <tr>\n",
       "      <th>0</th>\n",
       "      <td>200012</td>\n",
       "      <td>weight</td>\n",
       "      <td>51.2</td>\n",
       "    </tr>\n",
       "    <tr>\n",
       "      <th>1</th>\n",
       "      <td>200014</td>\n",
       "      <td>weight</td>\n",
       "      <td>62.0</td>\n",
       "    </tr>\n",
       "    <tr>\n",
       "      <th>2</th>\n",
       "      <td>200019</td>\n",
       "      <td>weight</td>\n",
       "      <td>65.0</td>\n",
       "    </tr>\n",
       "    <tr>\n",
       "      <th>3</th>\n",
       "      <td>200030</td>\n",
       "      <td>weight</td>\n",
       "      <td>113.6</td>\n",
       "    </tr>\n",
       "    <tr>\n",
       "      <th>4</th>\n",
       "      <td>200033</td>\n",
       "      <td>weight</td>\n",
       "      <td>74.0</td>\n",
       "    </tr>\n",
       "  </tbody>\n",
       "</table>\n",
       "</div>"
      ],
      "text/plain": [
       "   icustay_id   label  value\n",
       "0      200012  weight   51.2\n",
       "1      200014  weight   62.0\n",
       "2      200019  weight   65.0\n",
       "3      200030  weight  113.6\n",
       "4      200033  weight   74.0"
      ]
     },
     "execution_count": 166,
     "metadata": {},
     "output_type": "execute_result"
    },
    {
     "name": "stdout",
     "output_type": "stream",
     "text": [
      "time: 15 ms\n"
     ]
    }
   ],
   "source": [
    "weightfirstday_df_melt= pd.melt(weightfirstday_df, id_vars='icustay_id', var_name='label')\n",
    "weightfirstday_df_melt.head()"
   ]
  },
  {
   "cell_type": "code",
   "execution_count": 167,
   "metadata": {},
   "outputs": [
    {
     "name": "stdout",
     "output_type": "stream",
     "text": [
      "time: 12.5 ms\n"
     ]
    }
   ],
   "source": [
    "weightfirstday_df_melt['uom']='category'\n",
    "weightfirstday_df_melt['frequency']= 'once_per_stay'\n",
    "weightfirstday_df_melt['dtype']= 'float'\n",
    "weightfirstday_df_melt['endtime']=np.NaN\n",
    "weightfirstday_df_melt['charttime']=np.NaN\n",
    "weightfirstday_df_melt['days']=1.0\n",
    "weightfirstday_df_melt['delta']= np.NaN\n"
   ]
  },
  {
   "cell_type": "code",
   "execution_count": 169,
   "metadata": {},
   "outputs": [
    {
     "name": "stdout",
     "output_type": "stream",
     "text": [
      "time: 58.4 ms\n"
     ]
    }
   ],
   "source": [
    "weightfirstday_df_melt= (\n",
    "        pd.merge(weightfirstday_df_melt, \n",
    "         final_pt_df2[['icustay_id','hadm_id','t_0']], \n",
    "         left_on='icustay_id',\n",
    "         right_on='icustay_id')\n",
    ")"
   ]
  },
  {
   "cell_type": "code",
   "execution_count": 171,
   "metadata": {},
   "outputs": [
    {
     "data": {
      "text/html": [
       "<div>\n",
       "<style scoped>\n",
       "    .dataframe tbody tr th:only-of-type {\n",
       "        vertical-align: middle;\n",
       "    }\n",
       "\n",
       "    .dataframe tbody tr th {\n",
       "        vertical-align: top;\n",
       "    }\n",
       "\n",
       "    .dataframe thead th {\n",
       "        text-align: right;\n",
       "    }\n",
       "</style>\n",
       "<table border=\"1\" class=\"dataframe\">\n",
       "  <thead>\n",
       "    <tr style=\"text-align: right;\">\n",
       "      <th></th>\n",
       "      <th>icustay_id</th>\n",
       "      <th>label</th>\n",
       "      <th>value</th>\n",
       "      <th>uom</th>\n",
       "      <th>frequency</th>\n",
       "      <th>dtype</th>\n",
       "      <th>endtime</th>\n",
       "      <th>charttime</th>\n",
       "      <th>days</th>\n",
       "      <th>delta</th>\n",
       "      <th>hadm_id</th>\n",
       "      <th>t_0</th>\n",
       "    </tr>\n",
       "  </thead>\n",
       "  <tbody>\n",
       "    <tr>\n",
       "      <th>0</th>\n",
       "      <td>200012</td>\n",
       "      <td>weight</td>\n",
       "      <td>51.200000</td>\n",
       "      <td>category</td>\n",
       "      <td>once_per_stay</td>\n",
       "      <td>float</td>\n",
       "      <td>NaN</td>\n",
       "      <td>NaN</td>\n",
       "      <td>1.0</td>\n",
       "      <td>NaN</td>\n",
       "      <td>177527</td>\n",
       "      <td>2153-12-23</td>\n",
       "    </tr>\n",
       "    <tr>\n",
       "      <th>1</th>\n",
       "      <td>200012</td>\n",
       "      <td>weight_admit</td>\n",
       "      <td>51.200001</td>\n",
       "      <td>category</td>\n",
       "      <td>once_per_stay</td>\n",
       "      <td>float</td>\n",
       "      <td>NaN</td>\n",
       "      <td>NaN</td>\n",
       "      <td>1.0</td>\n",
       "      <td>NaN</td>\n",
       "      <td>177527</td>\n",
       "      <td>2153-12-23</td>\n",
       "    </tr>\n",
       "    <tr>\n",
       "      <th>2</th>\n",
       "      <td>200012</td>\n",
       "      <td>weight_daily</td>\n",
       "      <td>51.200001</td>\n",
       "      <td>category</td>\n",
       "      <td>once_per_stay</td>\n",
       "      <td>float</td>\n",
       "      <td>NaN</td>\n",
       "      <td>NaN</td>\n",
       "      <td>1.0</td>\n",
       "      <td>NaN</td>\n",
       "      <td>177527</td>\n",
       "      <td>2153-12-23</td>\n",
       "    </tr>\n",
       "    <tr>\n",
       "      <th>3</th>\n",
       "      <td>200012</td>\n",
       "      <td>weight_echoinhosp</td>\n",
       "      <td>NaN</td>\n",
       "      <td>category</td>\n",
       "      <td>once_per_stay</td>\n",
       "      <td>float</td>\n",
       "      <td>NaN</td>\n",
       "      <td>NaN</td>\n",
       "      <td>1.0</td>\n",
       "      <td>NaN</td>\n",
       "      <td>177527</td>\n",
       "      <td>2153-12-23</td>\n",
       "    </tr>\n",
       "    <tr>\n",
       "      <th>4</th>\n",
       "      <td>200012</td>\n",
       "      <td>weight_echoprehosp</td>\n",
       "      <td>NaN</td>\n",
       "      <td>category</td>\n",
       "      <td>once_per_stay</td>\n",
       "      <td>float</td>\n",
       "      <td>NaN</td>\n",
       "      <td>NaN</td>\n",
       "      <td>1.0</td>\n",
       "      <td>NaN</td>\n",
       "      <td>177527</td>\n",
       "      <td>2153-12-23</td>\n",
       "    </tr>\n",
       "  </tbody>\n",
       "</table>\n",
       "</div>"
      ],
      "text/plain": [
       "  icustay_id               label      value       uom      frequency  dtype  \\\n",
       "0     200012              weight  51.200000  category  once_per_stay  float   \n",
       "1     200012        weight_admit  51.200001  category  once_per_stay  float   \n",
       "2     200012        weight_daily  51.200001  category  once_per_stay  float   \n",
       "3     200012   weight_echoinhosp        NaN  category  once_per_stay  float   \n",
       "4     200012  weight_echoprehosp        NaN  category  once_per_stay  float   \n",
       "\n",
       "   endtime  charttime  days  delta  hadm_id         t_0  \n",
       "0      NaN        NaN   1.0    NaN   177527  2153-12-23  \n",
       "1      NaN        NaN   1.0    NaN   177527  2153-12-23  \n",
       "2      NaN        NaN   1.0    NaN   177527  2153-12-23  \n",
       "3      NaN        NaN   1.0    NaN   177527  2153-12-23  \n",
       "4      NaN        NaN   1.0    NaN   177527  2153-12-23  "
      ]
     },
     "execution_count": 171,
     "metadata": {},
     "output_type": "execute_result"
    },
    {
     "name": "stdout",
     "output_type": "stream",
     "text": [
      "time: 14.7 ms\n"
     ]
    }
   ],
   "source": [
    "weightfirstday_df_melt.head()"
   ]
  },
  {
   "cell_type": "markdown",
   "metadata": {},
   "source": [
    "# heightfirstday_df_melt\n",
    "- subject_id\n",
    "- hadm_id\n",
    "- icustay_id\n",
    "- charttime: starttime/charttime.\n",
    "- endtime: going to be null for any value listed with only a charttime. \n",
    "- label\n",
    "- value\n",
    "- units?\n",
    "- t_0\n",
    "- delta\n",
    "- days\n",
    "- frequency\n",
    "- dtype"
   ]
  },
  {
   "cell_type": "code",
   "execution_count": null,
   "metadata": {},
   "outputs": [],
   "source": [
    "heightfirstday_df_melt= pd.melt(heightfirstday_df, id_vars='icustay_id', var_name='label')\n",
    "heightfirstday_df_melt.head()"
   ]
  },
  {
   "cell_type": "code",
   "execution_count": null,
   "metadata": {},
   "outputs": [],
   "source": []
  },
  {
   "cell_type": "markdown",
   "metadata": {},
   "source": [
    "# vitals_all_nosummary_nonull\n",
    "- subject_id\n",
    "- hadm_id\n",
    "- icustay_id\n",
    "- charttime: starttime/charttime.\n",
    "- endtime: going to be null for any value listed with only a charttime. \n",
    "- label\n",
    "- value\n",
    "- units?\n",
    "- t_0\n",
    "- delta\n",
    "- days\n",
    "- frequency\n",
    "- dtype"
   ]
  },
  {
   "cell_type": "code",
   "execution_count": null,
   "metadata": {},
   "outputs": [],
   "source": [
    "vitals_all_nosummary_nonull= vitals_all_nosummary_72.loc[vitals_all_nosummary_72['vitalid'].notnull(),:]#.count() #6930 NULL values\n",
    "vitals_all_nosummary_nonull.head()"
   ]
  },
  {
   "cell_type": "code",
   "execution_count": null,
   "metadata": {},
   "outputs": [],
   "source": []
  },
  {
   "cell_type": "markdown",
   "metadata": {},
   "source": [
    "# uti_all_72_melt_notnull\n",
    "- subject_id\n",
    "- hadm_id\n",
    "- icustay_id\n",
    "- charttime: starttime/charttime.\n",
    "- endtime: going to be null for any value listed with only a charttime. \n",
    "- label\n",
    "- value\n",
    "- units?\n",
    "- t_0\n",
    "- delta\n",
    "- days\n",
    "- frequency\n",
    "- dtype"
   ]
  },
  {
   "cell_type": "code",
   "execution_count": null,
   "metadata": {},
   "outputs": [],
   "source": [
    "uti_all_72_melt= pd.melt(\n",
    "    uti_all_72[['hadm_id','charttime','value','valuenum','valueuom','label','fluid']],\n",
    "    id_vars=['hadm_id','charttime'], var_name='label')\n",
    "\n",
    "uti_all_72_melt_notnull= uti_all_72_melt[uti_all_72_melt['value'].notnull()] #1320954\n",
    "\n",
    "uti_all_72_melt_notnull= uti_all_72_melt_notnull.drop_duplicates(subset=['hadm_id','label','charttime']) #drops the duplicated rows\n",
    "#n=7796 rows"
   ]
  },
  {
   "cell_type": "code",
   "execution_count": null,
   "metadata": {},
   "outputs": [],
   "source": []
  },
  {
   "cell_type": "markdown",
   "metadata": {},
   "source": [
    "# bg_all_nosummary_72\n",
    "- subject_id\n",
    "- hadm_id\n",
    "- icustay_id\n",
    "- charttime: starttime/charttime.\n",
    "- endtime: going to be null for any value listed with only a charttime. \n",
    "- label\n",
    "- value\n",
    "- units?\n",
    "- t_0\n",
    "- delta\n",
    "- days\n",
    "- frequency\n",
    "- dtype"
   ]
  },
  {
   "cell_type": "code",
   "execution_count": null,
   "metadata": {},
   "outputs": [],
   "source": [
    "#na values- removing all null values from value.\n",
    "bg_all_nosummary_72= bg_all_nosummary_72.loc[bg_all_nosummary_72['value'].notnull(),:]\n",
    "bg_all_nosummary_72.head()"
   ]
  },
  {
   "cell_type": "code",
   "execution_count": null,
   "metadata": {},
   "outputs": [],
   "source": []
  },
  {
   "cell_type": "markdown",
   "metadata": {},
   "source": [
    "# rrt_merged_allpt_df_notnull\n",
    "- subject_id\n",
    "- hadm_id\n",
    "- icustay_id\n",
    "- charttime: starttime/charttime.\n",
    "- endtime: going to be null for any value listed with only a charttime. \n",
    "- label\n",
    "- value\n",
    "- units?\n",
    "- t_0\n",
    "- delta\n",
    "- days\n",
    "- frequency\n",
    "- dtype"
   ]
  },
  {
   "cell_type": "code",
   "execution_count": null,
   "metadata": {},
   "outputs": [],
   "source": [
    "#na values\n",
    "rrt_merged_allpt_df_notnull = rrt_merged_allpt_df.loc[rrt_merged_allpt_df['rrt'].notnull(),:]\n",
    "rrt_merged_allpt_df_notnull"
   ]
  },
  {
   "cell_type": "code",
   "execution_count": null,
   "metadata": {},
   "outputs": [],
   "source": []
  },
  {
   "cell_type": "markdown",
   "metadata": {},
   "source": [
    "# gcs72_df_melt_notnull\n",
    "- subject_id\n",
    "- hadm_id\n",
    "- icustay_id\n",
    "- charttime: starttime/charttime.\n",
    "- endtime: going to be null for any value listed with only a charttime. \n",
    "- label\n",
    "- value\n",
    "- units?\n",
    "- t_0\n",
    "- delta\n",
    "- days\n",
    "- frequency\n",
    "- dtype"
   ]
  },
  {
   "cell_type": "code",
   "execution_count": null,
   "metadata": {},
   "outputs": [],
   "source": [
    "#need to reshape the dataframe\n",
    "gcs72_df_melt = pd.melt(gcs72_df, id_vars=['subject_id','hadm_id','icustay_id','t_0','ICU_admit','admit_plus_day','delta'], var_name='label')\n",
    "\n",
    "gcs72_df_melt_notnull= gcs72_df_melt[gcs72_df_melt['value'].notnull()] #62772 ->62650\n",
    "gcs72_df_melt_notnull.head()"
   ]
  },
  {
   "cell_type": "code",
   "execution_count": null,
   "metadata": {},
   "outputs": [],
   "source": []
  },
  {
   "cell_type": "markdown",
   "metadata": {},
   "source": [
    "# sofa_df_melt_notnull\n",
    "- subject_id\n",
    "- hadm_id\n",
    "- icustay_id\n",
    "- charttime: starttime/charttime.\n",
    "- endtime: going to be null for any value listed with only a charttime. \n",
    "- label\n",
    "- value\n",
    "- units?\n",
    "- t_0\n",
    "- delta\n",
    "- days\n",
    "- frequency\n",
    "- dtype"
   ]
  },
  {
   "cell_type": "code",
   "execution_count": null,
   "metadata": {},
   "outputs": [],
   "source": [
    "#need to reshape the dataframe\n",
    "sofa_df_melt = pd.melt(sofa_df_72, id_vars=['subject_id','hadm_id','icustay_id','t_0','day','ICU_admit','approx_charttime','floor_charttime'], var_name='label')\n",
    "\n",
    "sofa_df_melt_notnull= sofa_df_melt[sofa_df_melt['value'].notnull()] #606651 ->302459\n",
    "sofa_df_melt_notnull.head()"
   ]
  },
  {
   "cell_type": "code",
   "execution_count": null,
   "metadata": {},
   "outputs": [],
   "source": []
  },
  {
   "cell_type": "code",
   "execution_count": null,
   "metadata": {},
   "outputs": [],
   "source": []
  }
 ],
 "metadata": {
  "kernelspec": {
   "display_name": "Python 3",
   "language": "python",
   "name": "python3"
  },
  "language_info": {
   "codemirror_mode": {
    "name": "ipython",
    "version": 3
   },
   "file_extension": ".py",
   "mimetype": "text/x-python",
   "name": "python",
   "nbconvert_exporter": "python",
   "pygments_lexer": "ipython3",
   "version": "3.6.4"
  }
 },
 "nbformat": 4,
 "nbformat_minor": 2
}
