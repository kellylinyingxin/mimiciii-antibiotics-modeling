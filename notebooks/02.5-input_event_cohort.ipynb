{
 "cells": [
  {
   "cell_type": "code",
   "execution_count": 2,
   "metadata": {},
   "outputs": [
    {
     "name": "stderr",
     "output_type": "stream",
     "text": [
      "/Users/geickelb1/anaconda/envs/rpy-env/lib/python3.6/site-packages/psycopg2/__init__.py:144: UserWarning: The psycopg2 wheel package will be renamed from release 2.8; in order to keep installing from binary please use \"pip install psycopg2-binary\" instead. For details see: <http://initd.org/psycopg/docs/install.html#binary-install-from-pypi>.\n",
      "  \"\"\")\n"
     ]
    }
   ],
   "source": [
    "#libraries\n",
    "import numpy as np\n",
    "import pandas as pd\n",
    "import matplotlib.pyplot as plt\n",
    "import psycopg2\n",
    "import collections\n",
    "import asyncio\n",
    "import getpass\n",
    "import re\n",
    "from datetime import datetime as dt\n",
    "import os,sys,re\n",
    "import urllib3\n",
    "import prettytable\n",
    "from collections import Counter\n",
    "import seaborn as sns\n",
    "import random\n",
    "from datetime import timedelta\n",
    "\n",
    "from sklearn.externals.joblib import Memory\n",
    "memory = Memory(cachedir='/tmp', verbose=0)\n",
    "#@memory.cache above any def fxn.\n",
    "\n",
    "%matplotlib inline\n",
    "plt.style.use('ggplot')\n",
    "\n",
    "from notebook.services.config import ConfigManager\n",
    "cm = ConfigManager()\n",
    "cm.update('livereveal', {\n",
    "        'width': 1024,\n",
    "        'height': 768,\n",
    "        'scroll': True,\n",
    "})\n",
    "\n",
    "%load_ext autotime"
   ]
  },
  {
   "cell_type": "code",
   "execution_count": 3,
   "metadata": {},
   "outputs": [
    {
     "name": "stdout",
     "output_type": "stream",
     "text": [
      "time: 2.55 s\n"
     ]
    }
   ],
   "source": [
    "#code used to ping the postgres mimic server. \n",
    "\n",
    "conn = psycopg2.connect(dbname=\"mimic\", user=\"student\", host=\"luolabwkstn01.fsm.northwestern.edu\", port=\"5432\",\n",
    "                        password=getpass.getpass(prompt='Password:'.format()))\n",
    "cur=conn.cursor()\n",
    "\n",
    "query_schema = 'SET search_path to ' + \"mimiciii\" + ';'"
   ]
  },
  {
   "cell_type": "code",
   "execution_count": 6,
   "metadata": {},
   "outputs": [
    {
     "name": "stdout",
     "output_type": "stream",
     "text": [
      "time: 859 ms\n"
     ]
    }
   ],
   "source": [
    "ABrx = pd.read_csv('/Users/geickelb1/Documents/GitHub/mimiciii-antibiotics-modeling/data/raw/csv/02082018_ABrx_updated.csv')\n"
   ]
  },
  {
   "cell_type": "code",
   "execution_count": 11,
   "metadata": {},
   "outputs": [
    {
     "data": {
      "text/html": [
       "<div>\n",
       "<style scoped>\n",
       "    .dataframe tbody tr th:only-of-type {\n",
       "        vertical-align: middle;\n",
       "    }\n",
       "\n",
       "    .dataframe tbody tr th {\n",
       "        vertical-align: top;\n",
       "    }\n",
       "\n",
       "    .dataframe thead th {\n",
       "        text-align: right;\n",
       "    }\n",
       "</style>\n",
       "<table border=\"1\" class=\"dataframe\">\n",
       "  <thead>\n",
       "    <tr style=\"text-align: right;\">\n",
       "      <th></th>\n",
       "      <th>Unnamed: 0</th>\n",
       "      <th>row_id</th>\n",
       "      <th>subject_id</th>\n",
       "      <th>hadm_id</th>\n",
       "      <th>icustay_id</th>\n",
       "      <th>startdate</th>\n",
       "      <th>enddate</th>\n",
       "      <th>drug_type</th>\n",
       "      <th>drug</th>\n",
       "      <th>drug_name_poe</th>\n",
       "      <th>...</th>\n",
       "      <th>gsn</th>\n",
       "      <th>ndc</th>\n",
       "      <th>prod_strength</th>\n",
       "      <th>dose_val_rx</th>\n",
       "      <th>dose_unit_rx</th>\n",
       "      <th>form_val_disp</th>\n",
       "      <th>form_unit_disp</th>\n",
       "      <th>route</th>\n",
       "      <th>rxcui</th>\n",
       "      <th>Antibiotics</th>\n",
       "    </tr>\n",
       "  </thead>\n",
       "  <tbody>\n",
       "    <tr>\n",
       "      <th>0</th>\n",
       "      <td>16</td>\n",
       "      <td>2366833</td>\n",
       "      <td>24915</td>\n",
       "      <td>194424</td>\n",
       "      <td>267059.0</td>\n",
       "      <td>2182-12-10</td>\n",
       "      <td>2182-12-10</td>\n",
       "      <td>MAIN</td>\n",
       "      <td>Daptomycin</td>\n",
       "      <td>NaN</td>\n",
       "      <td>...</td>\n",
       "      <td>53190.0</td>\n",
       "      <td>6.791900e+10</td>\n",
       "      <td>500mg Vial</td>\n",
       "      <td>350</td>\n",
       "      <td>mg</td>\n",
       "      <td>0.7</td>\n",
       "      <td>VIAL</td>\n",
       "      <td>IV</td>\n",
       "      <td>404652.0</td>\n",
       "      <td>True</td>\n",
       "    </tr>\n",
       "    <tr>\n",
       "      <th>1</th>\n",
       "      <td>28</td>\n",
       "      <td>1867722</td>\n",
       "      <td>24922</td>\n",
       "      <td>165593</td>\n",
       "      <td>268898.0</td>\n",
       "      <td>2165-01-02</td>\n",
       "      <td>2165-01-08</td>\n",
       "      <td>MAIN</td>\n",
       "      <td>Ceftazidime</td>\n",
       "      <td>NaN</td>\n",
       "      <td>...</td>\n",
       "      <td>15538.0</td>\n",
       "      <td>1.730412e+08</td>\n",
       "      <td>1GM FROZ. BAG</td>\n",
       "      <td>1</td>\n",
       "      <td>gm</td>\n",
       "      <td>1</td>\n",
       "      <td>BAG</td>\n",
       "      <td>IV</td>\n",
       "      <td>NaN</td>\n",
       "      <td>False</td>\n",
       "    </tr>\n",
       "    <tr>\n",
       "      <th>2</th>\n",
       "      <td>75</td>\n",
       "      <td>2804000</td>\n",
       "      <td>24942</td>\n",
       "      <td>178112</td>\n",
       "      <td>278729.0</td>\n",
       "      <td>2159-11-08</td>\n",
       "      <td>2159-11-10</td>\n",
       "      <td>MAIN</td>\n",
       "      <td>Vancomycin HCl</td>\n",
       "      <td>NaN</td>\n",
       "      <td>...</td>\n",
       "      <td>43952.0</td>\n",
       "      <td>3.383552e+08</td>\n",
       "      <td>1g Frozen Bag</td>\n",
       "      <td>1000</td>\n",
       "      <td>mg</td>\n",
       "      <td>1</td>\n",
       "      <td>BAG</td>\n",
       "      <td>IV</td>\n",
       "      <td>1807508.0</td>\n",
       "      <td>True</td>\n",
       "    </tr>\n",
       "    <tr>\n",
       "      <th>3</th>\n",
       "      <td>98</td>\n",
       "      <td>993369</td>\n",
       "      <td>24955</td>\n",
       "      <td>154989</td>\n",
       "      <td>NaN</td>\n",
       "      <td>2142-09-21</td>\n",
       "      <td>2142-10-08</td>\n",
       "      <td>MAIN</td>\n",
       "      <td>Sulfameth/Trimethoprim SS</td>\n",
       "      <td>Sulfameth/Trimethoprim SS</td>\n",
       "      <td>...</td>\n",
       "      <td>9395.0</td>\n",
       "      <td>9.300880e+07</td>\n",
       "      <td>1 TAB</td>\n",
       "      <td>1</td>\n",
       "      <td>TAB</td>\n",
       "      <td>1</td>\n",
       "      <td>TAB</td>\n",
       "      <td>PO</td>\n",
       "      <td>198334.0</td>\n",
       "      <td>True</td>\n",
       "    </tr>\n",
       "    <tr>\n",
       "      <th>4</th>\n",
       "      <td>117</td>\n",
       "      <td>2338288</td>\n",
       "      <td>24968</td>\n",
       "      <td>127995</td>\n",
       "      <td>NaN</td>\n",
       "      <td>2190-07-14</td>\n",
       "      <td>2190-07-15</td>\n",
       "      <td>MAIN</td>\n",
       "      <td>NEO*IV*Gentamicin</td>\n",
       "      <td>NaN</td>\n",
       "      <td>...</td>\n",
       "      <td>9298.0</td>\n",
       "      <td>6.410394e+08</td>\n",
       "      <td>10mg/mL-2mL</td>\n",
       "      <td>5</td>\n",
       "      <td>mg</td>\n",
       "      <td>0.5</td>\n",
       "      <td>ml</td>\n",
       "      <td>VT</td>\n",
       "      <td>NaN</td>\n",
       "      <td>False</td>\n",
       "    </tr>\n",
       "  </tbody>\n",
       "</table>\n",
       "<p>5 rows × 22 columns</p>\n",
       "</div>"
      ],
      "text/plain": [
       "   Unnamed: 0   row_id  subject_id  hadm_id  icustay_id   startdate  \\\n",
       "0          16  2366833       24915   194424    267059.0  2182-12-10   \n",
       "1          28  1867722       24922   165593    268898.0  2165-01-02   \n",
       "2          75  2804000       24942   178112    278729.0  2159-11-08   \n",
       "3          98   993369       24955   154989         NaN  2142-09-21   \n",
       "4         117  2338288       24968   127995         NaN  2190-07-14   \n",
       "\n",
       "      enddate drug_type                       drug              drug_name_poe  \\\n",
       "0  2182-12-10      MAIN                 Daptomycin                        NaN   \n",
       "1  2165-01-08      MAIN                Ceftazidime                        NaN   \n",
       "2  2159-11-10      MAIN             Vancomycin HCl                        NaN   \n",
       "3  2142-10-08      MAIN  Sulfameth/Trimethoprim SS  Sulfameth/Trimethoprim SS   \n",
       "4  2190-07-15      MAIN          NEO*IV*Gentamicin                        NaN   \n",
       "\n",
       "      ...          gsn           ndc  prod_strength  dose_val_rx dose_unit_rx  \\\n",
       "0     ...      53190.0  6.791900e+10     500mg Vial          350           mg   \n",
       "1     ...      15538.0  1.730412e+08  1GM FROZ. BAG            1           gm   \n",
       "2     ...      43952.0  3.383552e+08  1g Frozen Bag         1000           mg   \n",
       "3     ...       9395.0  9.300880e+07          1 TAB            1          TAB   \n",
       "4     ...       9298.0  6.410394e+08    10mg/mL-2mL            5           mg   \n",
       "\n",
       "  form_val_disp form_unit_disp route      rxcui Antibiotics  \n",
       "0           0.7           VIAL    IV   404652.0        True  \n",
       "1             1            BAG    IV        NaN       False  \n",
       "2             1            BAG    IV  1807508.0        True  \n",
       "3             1            TAB    PO   198334.0        True  \n",
       "4           0.5             ml    VT        NaN       False  \n",
       "\n",
       "[5 rows x 22 columns]"
      ]
     },
     "execution_count": 11,
     "metadata": {},
     "output_type": "execute_result"
    },
    {
     "name": "stdout",
     "output_type": "stream",
     "text": [
      "time: 24.7 ms\n"
     ]
    }
   ],
   "source": [
    "ABrx.head()"
   ]
  },
  {
   "cell_type": "code",
   "execution_count": 24,
   "metadata": {},
   "outputs": [
    {
     "name": "stdout",
     "output_type": "stream",
     "text": [
      "time: 14.2 ms\n"
     ]
    }
   ],
   "source": [
    "ABrx_Drug = pd.DataFrame(ABrx.loc[ABrx['Antibiotics'] == True, 'drug'].unique())\n",
    "\n",
    "ABrx_Drug_list = list(ABrx_Drug[0])\n",
    "len(ABrx_Drug_list)#202"
   ]
  },
  {
   "cell_type": "markdown",
   "metadata": {},
   "source": [
    "# Generating antibiotic list from inputevents_mv table\n",
    "\n",
    "## making a clean list of AB labels from ATC and D_items\n",
    "\n",
    "note the code in this section was generated for the purpose of comparing antibiotic event lists from inputevents vs prescriptions. the prescription table was chosen as the best source for this (see below \n",
    "Problem:\n",
    "\n",
    "    MIMICIII doesn't have a comprehensive list of antibiotics annotated.\n",
    "\n",
    "\n",
    "solution strategy:\n",
    "\n",
    "1)make a list of antibiotic names from two different sources and combine them:\n",
    "\n",
    "    d_item list annotated with Antibiotic column\n",
    "    \n",
    "    prescription table annotated with ATC antibiotic info\n",
    "    \n",
    "2)use the list of antibiotics to find all the item id's in d_item list. \n",
    "    "
   ]
  },
  {
   "cell_type": "code",
   "execution_count": 7,
   "metadata": {},
   "outputs": [
    {
     "name": "stdout",
     "output_type": "stream",
     "text": [
      "time: 289 ms\n"
     ]
    }
   ],
   "source": [
    "#d_item_microbio_list generation\n",
    "#the caviot list is due to antivirals and antibacterials being present in the antibiotic list\n",
    "d_items_sql = query_schema + \"\"\"\n",
    "select itemid, label, dbsource, linksto, category, unitname, param_type, conceptid \n",
    "from mimiciii.d_items\n",
    "WHERE (category = 'Antibiotics' or category = 'ANTIBACTERIUM') and lower(label) not like '%fung%' \n",
    "and lower(label) not in ('voriconazole','valgancyclovir','chloroquine','tamiflu','mefloquine','foscarnet','fluconazole','vorconazole','quinine',\n",
    "'ribavirin','gancyclovir','chloroquine','atovaquone','ambisome', 'acyclovir', 'Acyclovir')\n",
    "order by category, label desc;\n",
    "\"\"\"\n",
    "\n",
    "d_items_df=pd.read_sql_query(d_items_sql,conn)\n",
    "d_item_microbio_list=d_items_df['label'].unique().tolist()\n",
    "d_item_microbio_list=[str(x).lower() for x in d_item_microbio_list]\n",
    "\n"
   ]
  },
  {
   "cell_type": "code",
   "execution_count": 8,
   "metadata": {},
   "outputs": [
    {
     "name": "stdout",
     "output_type": "stream",
     "text": [
      "time: 16.5 ms\n"
     ]
    }
   ],
   "source": [
    "#d_item_microbio_list generation\n",
    "#the caviot list is due to antivirals and antibacterials being present in the antibiotic list\n",
    "d_items_sql = query_schema + \"\"\"\n",
    "select itemid, label, dbsource, linksto, category, unitname, param_type, conceptid \n",
    "from mimiciii.d_items\n",
    "WHERE (category = 'Antibiotics' or category = 'ANTIBACTERIUM') and lower(label) not like '%fung%' \n",
    "and lower(label) not in ('voriconazole','valgancyclovir','chloroquine','tamiflu','mefloquine','foscarnet','fluconazole','vorconazole','quinine',\n",
    "'ribavirin','gancyclovir','chloroquine','atovaquone','ambisome', 'acyclovir', 'Acyclovir')\n",
    "order by category, label desc;\n",
    "\"\"\"\n",
    "\n",
    "d_items_df=pd.read_sql_query(d_items_sql,conn)\n",
    "d_item_microbio_list=d_items_df['label'].unique().tolist()\n",
    "d_item_microbio_list=[str(x).lower() for x in d_item_microbio_list]"
   ]
  },
  {
   "cell_type": "code",
   "execution_count": 9,
   "metadata": {},
   "outputs": [
    {
     "name": "stdout",
     "output_type": "stream",
     "text": [
      "time: 24.6 ms\n"
     ]
    }
   ],
   "source": [
    "#function to parse out ABrx_Drug_list\n",
    "#uses regular esxpressions and rule based parsing\n",
    "\n",
    "i=0\n",
    "replace_list= [\n",
    "    'sodium','hcl','potassium','sulfate','potassium','monohydrate', \n",
    "    'oral susp.','ophthalmic oint', 'desensitization', r'% solution',\n",
    "    'hippurate','suspension','ointment','phosphate', 'soln', 'solution',\n",
    "    'ophth.','ophth.','*nf*']\n",
    "    \n",
    "@memory.cache\n",
    "def parsingfxn(element):\n",
    "    element = r'%s'%(element)\n",
    "    element = re.sub(r'\\b\\w{1,3}\\b', r\"\", element)\n",
    "    element= element.strip(r\" \")\n",
    "    for j in replace_list:\n",
    "        element= element.replace(j, r'')   \n",
    "    element= element.strip(r\" \")\n",
    "    if r\"**\" == str(element)[0:2]:\n",
    "        element = str(element)[2:]\n",
    "    element = element.split(r\".%\")[0]\n",
    "    element = element.split(r\". %\")[0]\n",
    "    element = element.split(r\"ophth*\")[0]\n",
    "    element = element.split(r\"-\")[0]\n",
    "    element = element.split(r\"(\")[0]\n",
    "    element = element.split(' ',1)[0]\n",
    "    return(element)    "
   ]
  },
  {
   "cell_type": "code",
   "execution_count": 27,
   "metadata": {},
   "outputs": [
    {
     "name": "stdout",
     "output_type": "stream",
     "text": [
      "time: 258 ms\n"
     ]
    }
   ],
   "source": [
    "ABrx_Drug_list3 =[parsingfxn(x) for x in ABrx_Drug_list]\n",
    "ABrx_Drug_list3= list(set(ABrx_Drug_list3))\n",
    "ABrx_Drug_list3.remove('')"
   ]
  },
  {
   "cell_type": "code",
   "execution_count": 28,
   "metadata": {},
   "outputs": [
    {
     "name": "stdout",
     "output_type": "stream",
     "text": [
      "142\n",
      "time: 6.79 ms\n"
     ]
    }
   ],
   "source": [
    "#final consensus list coding\n",
    "Combo_AB_name_list=[]\n",
    "Combo_AB_name_list = ABrx_Drug_list3 + d_item_microbio_list\n",
    "Combo_AB_name_list= list(set(Combo_AB_name_list))\n",
    "\n",
    "#cleaning\n",
    "#Combo_AB_name_list.remove('none')\n",
    "Combo_AB_name_list.remove('poly')\n",
    "Combo_AB_name_list.remove('eryth')\n",
    "Combo_AB_name_list.remove('gent')\n",
    "Combo_AB_name_list.remove('sulfa')\n",
    "#Combo_AB_name_list.remove('genta')\n",
    "Combo_AB_name_list.remove('bact')\n",
    "\n",
    "print(len(Combo_AB_name_list))"
   ]
  },
  {
   "cell_type": "code",
   "execution_count": null,
   "metadata": {},
   "outputs": [],
   "source": []
  },
  {
   "cell_type": "code",
   "execution_count": 29,
   "metadata": {},
   "outputs": [
    {
     "name": "stdout",
     "output_type": "stream",
     "text": [
      "time: 8.42 ms\n"
     ]
    }
   ],
   "source": [
    "kishore_list= ['amikacin',\n",
    " 'amoxicillin','ampicillin','avelox','azithromycin','aztreonam','bacitracin','bactrim','benzathine',\n",
    " 'cefazolin','cefepime','cefixime','cefotaxime','cefotetan', 'cefpodo',\n",
    " 'cefpodoxime', 'ceftaroline',\n",
    " 'ceftazidime','ceftriaxone','cephalexin','chloramphenicol','cilastatin',\n",
    " 'ciprofloxacin','clarithromycin','clavulanic',\n",
    " 'clindamycin','colistimethate','colistin','daptomycin',\n",
    " 'demeclocycline','desensitization','dexamethasone','dicloxacillin',\n",
    " 'doxycycline','ertapenem','erythromycin','ethylsuccinate','flagyl','fortified','fosfomycin','furosemide',\n",
    " 'gentamic','gentamicin','gramicidin','hippurate',\n",
    " 'imipenem','levofloxacin','linezolid','macrobid',\n",
    " 'macrocrystal','macrodantin','meropenem','methenamine',\n",
    " 'metronidazole','moxifloxacin','nafcillin','neomycin',\n",
    " 'nffloxin','nitrofurantoin','ocuflox','ofloxacin','ophthalmic','oxacillin',\n",
    " 'penicillin','piperacillin','polymyxin','polysporin',\n",
    " 'proxetil','streptomycin','sulbactam',\n",
    " 'sulfadiazine','sulfame','sulfamet','sulfameth','sulfamethoxazole',\n",
    " 'tazobactam','tigecycline','tobramycin','trimeth',\n",
    " 'trimetho','trimethopri','trimethoprim',\n",
    " 'tromethamine','unasyn','vancomycin','vigamox','zithromax','zosyn']"
   ]
  },
  {
   "cell_type": "code",
   "execution_count": 30,
   "metadata": {},
   "outputs": [
    {
     "data": {
      "text/plain": [
       "194"
      ]
     },
     "execution_count": 30,
     "metadata": {},
     "output_type": "execute_result"
    },
    {
     "name": "stdout",
     "output_type": "stream",
     "text": [
      "time: 3.88 ms\n"
     ]
    }
   ],
   "source": [
    "consensus_kishore_mylist = []\n",
    "consensus_kishore_mylist= kishore_list + Combo_AB_name_list\n",
    "consensus_kishore_mylist= list(set(consensus_kishore_mylist))\n",
    "len(consensus_kishore_mylist) \n",
    "#95->120 after removing antivirals/fungals on march 11. was at 135 before removing all erronious ab"
   ]
  },
  {
   "cell_type": "code",
   "execution_count": 31,
   "metadata": {},
   "outputs": [
    {
     "name": "stdout",
     "output_type": "stream",
     "text": [
      "163\n",
      "time: 4.94 s\n"
     ]
    }
   ],
   "source": [
    "#algorithm to loop through our consensus ab list of labels and \n",
    "#input them into a like command to find associated d_item id's\n",
    "\n",
    "abid_test_list=[]\n",
    "for element in consensus_kishore_mylist:\n",
    "\n",
    "    d_items_sql2 = query_schema + \"\"\"\n",
    "    select itemid, label, dbsource, linksto, category, unitname, param_type, conceptid \n",
    "    from mimiciii.d_items\n",
    "    WHERE lower(label) like '%{}%'\n",
    "    order by itemid desc;\n",
    "    \"\"\".format(element.strip())\n",
    "\n",
    "    d_items_df2=pd.read_sql_query(d_items_sql2,conn)\n",
    "    abid_test_list= abid_test_list +d_items_df2['itemid'].unique().tolist()\n",
    "    abid_test_list= list(set(abid_test_list))\n",
    "\n",
    "#using getting all d_item info from ab list    \n",
    "d_items_sql3 = query_schema + \"\"\"\n",
    "    select itemid, label, dbsource, linksto, category, unitname, param_type, conceptid \n",
    "    from mimiciii.d_items\n",
    "    WHERE itemid in {}\n",
    "    order by itemid desc;\n",
    "    \"\"\".format(tuple(abid_test_list))\n",
    "    \n",
    "d_items_df3=pd.read_sql_query(d_items_sql3,conn)    \n",
    "\n",
    "len(abid_test_list) #163\n",
    "print(len(d_items_df3['itemid'].unique()),len(abid_test_list) ) #both should be 163"
   ]
  },
  {
   "cell_type": "code",
   "execution_count": 34,
   "metadata": {},
   "outputs": [
    {
     "name": "stdout",
     "output_type": "stream",
     "text": [
      "time: 27.1 ms\n"
     ]
    }
   ],
   "source": [
    "#QC\n",
    "#making a list of item id's that were recruited in query, but are not antibiotics\n",
    "#these will be removed from the antibiotic list going forward\n",
    "@memory.cache\n",
    "def d_item_list_generation_fxn(ablist_input):\n",
    "    morphine_list= [1813,5613,7424,30153,30126,225154]\n",
    "    lasix_list=[3439,228340,221794]\n",
    "    magnesium_list = [6133, 30027, 222011, 227523, 227524]\n",
    "\n",
    "    misc_list= [42565, 30024, 42041 ]\n",
    "    #examples:\n",
    "    #Tromethamine  - NOT AN AB -42565\n",
    "    #ferrous sulfate - NOT AN AB-30024\n",
    "    #barium sulfate- NOT AN AB- 42041\n",
    "\n",
    "    all_rm_list= morphine_list + lasix_list + magnesium_list + misc_list\n",
    "    \n",
    "    EVENT_DITEM_ABLIST= list(ablist_input) \n",
    "    EVENT_DITEM_ABLIST = [x for x in EVENT_DITEM_ABLIST if x not in all_rm_list]\n",
    "    return(EVENT_DITEM_ABLIST)\n",
    "\n",
    "EVENT_DITEM_ABLIST= d_item_list_generation_fxn(d_items_df3['itemid'].unique())\n",
    "\n"
   ]
  },
  {
   "cell_type": "markdown",
   "metadata": {},
   "source": [
    "# generating EVENT patient list\n",
    "goal: now that we have ab list, need to generate list of all patients who have ever been prescribed ab\n",
    "\n",
    "strategy: use series of sql like joins"
   ]
  },
  {
   "cell_type": "code",
   "execution_count": null,
   "metadata": {},
   "outputs": [],
   "source": [
    "#on 4-17-18 made this outdated by generating a much more comprehensive patient info dataframe: ptinfo_ICUsterile_16_pt\n",
    "\n",
    "#on 4/20 found a bug where pt 85 is not in ptinfo_ICUsterile_16. saving and regenerating\n",
    "#update: was fixed after rerunnign the code...\n",
    "#pd.DataFrame(ptinfo_ICUsterile_16).to_csv('ptinfo_ICUsterile_16_04-20-18.csv')"
   ]
  },
  {
   "cell_type": "code",
   "execution_count": null,
   "metadata": {},
   "outputs": [],
   "source": [
    "#generating inputevents table \n",
    "\n",
    "###CV patients\n",
    "####chart events\n",
    "chartevents_sql = query_schema + \"\"\"\n",
    "select * from chartevents\n",
    "WHERE itemid in {}\"\"\".format(tuple(FINAL_DITEM_ABLIST))\n",
    "\n",
    "chartevents_df=pd.read_sql_query(chartevents_sql,conn)\n",
    "\n",
    "####inputevents_cv\n",
    "inputevents_cv_sql = query_schema + \"\"\"\n",
    "select * from inputevents_cv\n",
    "WHERE itemid in {}\"\"\".format(tuple(FINAL_DITEM_ABLIST))\n",
    "\n",
    "inputevents_cv_df=pd.read_sql_query(inputevents_cv_sql,conn)\n",
    "\n",
    "####inputevents_mv\n",
    "inputevents_mv_sql = query_schema + \"\"\"\n",
    "select * from mimiciii.inputevents_mv mv\n",
    "left join (SELECT di.itemid, di.label from mimiciii.d_items di) di on di.itemid= mv.itemid\n",
    "WHERE mv.itemid in {}\"\"\".format(tuple(FINAL_DITEM_ABLIST))\n",
    "\n",
    "\n",
    "inputevents_mv_df=pd.read_sql_query(inputevents_mv_sql,conn) "
   ]
  },
  {
   "cell_type": "code",
   "execution_count": null,
   "metadata": {},
   "outputs": [],
   "source": [
    "inputevents_mv_sql = query_schema + \"\"\"\n",
    "select * from mimiciii.inputevents_mv mv\n",
    "left join (SELECT di.itemid, di.label from mimiciii.d_items di) di on di.itemid= mv.itemid\n",
    "WHERE mv.itemid in {}\"\"\".format(tuple(FINAL_DITEM_ABLIST))\n",
    "\n",
    "\n",
    "inputevents_mv_df=pd.read_sql_query(inputevents_mv_sql,conn) \n",
    "inputevents_mv_df= inputevents_mv_df.ix[:,~inputevents_mv_df.columns.duplicated()] #removing the extra itemid"
   ]
  },
  {
   "cell_type": "code",
   "execution_count": null,
   "metadata": {},
   "outputs": [],
   "source": []
  }
 ],
 "metadata": {
  "kernelspec": {
   "display_name": "Python 3",
   "language": "python",
   "name": "python3"
  },
  "language_info": {
   "codemirror_mode": {
    "name": "ipython",
    "version": 3
   },
   "file_extension": ".py",
   "mimetype": "text/x-python",
   "name": "python",
   "nbconvert_exporter": "python",
   "pygments_lexer": "ipython3",
   "version": "3.6.4"
  }
 },
 "nbformat": 4,
 "nbformat_minor": 2
}
