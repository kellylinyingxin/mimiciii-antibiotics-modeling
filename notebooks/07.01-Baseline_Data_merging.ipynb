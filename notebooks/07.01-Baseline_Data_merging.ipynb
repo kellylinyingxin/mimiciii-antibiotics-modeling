{
 "cells": [
  {
   "cell_type": "markdown",
   "metadata": {},
   "source": [
    "# making an aggregate master dataframe for baseline model  10/22/18 -11/6/18\n",
    "this notebook is going to make standardized longformat dataframes for each dataframe that i will adjust for each model to. \n",
    "\n",
    "for my first pass, i will work to establish a baseline model by using:\n",
    "the single \"worst\", or value that most indicates poor clinical outcomes, for each variable so each variable only has one row per patient. \n",
    "\n",
    "\n",
    "- make a long format table(ie variable, patient, time, value)\n",
    " - step1:Standardize all columns, format, etc. \n",
    " - step2: Maybe make a long format table for each dataframe\n",
    " - step3: Impute\n",
    " \n",
    "- combine features from each long table for 1 wide table (ie each patient has a row, each parameter has a column). \n",
    " - feature select for \"Clinical worst case\" \n",
    "\n",
    "\n",
    "\n",
    "- Establish a baseline (ie train model initially), using an obvious baseline: last valid mesurement of a particular variable.   Will hope that it doesn’t perform too good or too bad. Second would be to pick an aggregate within a time window (over 3 days, or of each day, ie can change graunlarity).\n",
    "\n",
    "- Next try temporal trend, maybe vector autoregression. \n",
    "\n",
    "So my first step would be to pick either the last recorded value for each variable or the ‘worst’ value, or ones that we might expect to indicate poor outcome (NEED TO CHOOSE)\n"
   ]
  },
  {
   "cell_type": "code",
   "execution_count": 1,
   "metadata": {},
   "outputs": [],
   "source": [
    "import pandas as pd\n",
    "import matplotlib.pyplot as plt\n",
    "import os\n",
    "from pathlib import Path\n",
    "import seaborn as sns\n",
    "import numpy as np\n",
    "import glob\n",
    "\n",
    "from sklearn.externals.joblib import Memory\n",
    "memory = Memory(cachedir='/tmp', verbose=0)\n",
    "#@memory.cache above any def fxn.\n",
    "\n",
    "%matplotlib inline\n",
    "plt.style.use('ggplot')\n",
    "\n",
    "from notebook.services.config import ConfigManager\n",
    "cm = ConfigManager()\n",
    "cm.update('livereveal', {\n",
    "        'width': 1024,\n",
    "        'height': 768,\n",
    "        'scroll': True,\n",
    "})\n",
    "\n",
    "%load_ext autotime"
   ]
  },
  {
   "cell_type": "code",
   "execution_count": 2,
   "metadata": {},
   "outputs": [
    {
     "name": "stdout",
     "output_type": "stream",
     "text": [
      "time: 91.2 ms\n"
     ]
    }
   ],
   "source": [
    "#cohort import\n",
    "\n",
    "os.chdir('/Users/geickelb1/Documents/GitHub/mimiciii-antibiotics-modeling') #use to change working directory\n",
    "wd= os.getcwd() #'/Users/geickelb1/Documents/GitHub/mimiciii-antibiotics-modeling'\n",
    "\n",
    "\n",
    "final_pt_df2 = pd.read_csv(Path(wd + '/data/raw/csv/01102018_final_pt_df2_v.csv') , index_col=0) #only for patients with minimum vitals\n",
    "patients= list(final_pt_df2['subject_id'].unique())\n",
    "hadm_id= list(final_pt_df2['hadm_id'].unique())\n",
    "icustay_id= list(final_pt_df2['icustay_id'].unique())\n",
    "icustay_id= [int(x) for x in icustay_id]"
   ]
  },
  {
   "cell_type": "code",
   "execution_count": null,
   "metadata": {},
   "outputs": [],
   "source": []
  },
  {
   "cell_type": "code",
   "execution_count": 3,
   "metadata": {},
   "outputs": [
    {
     "name": "stdout",
     "output_type": "stream",
     "text": [
      "time: 1.57 ms\n"
     ]
    }
   ],
   "source": [
    "# #adding this in fow now, will eventually want to switch this to the 03-clinical_variables_final\n",
    "# import psycopg2\n",
    "# import getpass\n",
    "# conn = psycopg2.connect(dbname=\"mimic\", user=\"student\", host=\"luolabwkstn01.fsm.northwestern.edu\", port=\"5432\",\n",
    "#                         password=getpass.getpass(prompt='Password:'.format()))\n",
    "# cur=conn.cursor()\n",
    "\n",
    "# query_schema = 'SET search_path to ' + \"mimiciii\" + ';'"
   ]
  },
  {
   "cell_type": "code",
   "execution_count": 4,
   "metadata": {},
   "outputs": [
    {
     "name": "stdout",
     "output_type": "stream",
     "text": [
      "time: 749 µs\n"
     ]
    }
   ],
   "source": [
    "#import all clinical variables\n",
    "##ensure they are the versions with UOM"
   ]
  },
  {
   "cell_type": "code",
   "execution_count": 5,
   "metadata": {},
   "outputs": [
    {
     "name": "stdout",
     "output_type": "stream",
     "text": [
      "time: 2.82 ms\n"
     ]
    }
   ],
   "source": [
    "#importing in all clinical_variable files\n",
    "date= '14112018'\n",
    "os.chdir(r'/Users/geickelb1/Documents/GitHub/mimiciii-antibiotics-modeling/data/processed/')\n",
    "allFiles = glob.glob(os.getcwd() + \"/{}_*.csv\".format(date))"
   ]
  },
  {
   "cell_type": "code",
   "execution_count": 6,
   "metadata": {},
   "outputs": [
    {
     "data": {
      "text/plain": [
       "'/Users/geickelb1/Documents/GitHub/mimiciii-antibiotics-modeling/data/processed'"
      ]
     },
     "execution_count": 6,
     "metadata": {},
     "output_type": "execute_result"
    },
    {
     "name": "stdout",
     "output_type": "stream",
     "text": [
      "time: 3.05 ms\n"
     ]
    }
   ],
   "source": [
    "os.getcwd()"
   ]
  },
  {
   "cell_type": "code",
   "execution_count": 7,
   "metadata": {},
   "outputs": [
    {
     "data": {
      "text/plain": [
       "['/Users/geickelb1/Documents/GitHub/mimiciii-antibiotics-modeling/data/processed/14112018_rrt_prepped.csv',\n",
       " '/Users/geickelb1/Documents/GitHub/mimiciii-antibiotics-modeling/data/processed/14112018_pafaRatio_prepped.csv',\n",
       " '/Users/geickelb1/Documents/GitHub/mimiciii-antibiotics-modeling/data/processed/14112018_vitals_prepped.csv',\n",
       " '/Users/geickelb1/Documents/GitHub/mimiciii-antibiotics-modeling/data/processed/14112018_ventcategory_prepped.csv',\n",
       " '/Users/geickelb1/Documents/GitHub/mimiciii-antibiotics-modeling/data/processed/14112018_sofa_prepped.csv',\n",
       " '/Users/geickelb1/Documents/GitHub/mimiciii-antibiotics-modeling/data/processed/14112018_bg_all_prepped.csv',\n",
       " '/Users/geickelb1/Documents/GitHub/mimiciii-antibiotics-modeling/data/processed/14112018_gcs_prepped.csv',\n",
       " '/Users/geickelb1/Documents/GitHub/mimiciii-antibiotics-modeling/data/processed/14112018_phenylephrine_prepped.csv',\n",
       " '/Users/geickelb1/Documents/GitHub/mimiciii-antibiotics-modeling/data/processed/14112018_epinephrine_prepped.csv',\n",
       " '/Users/geickelb1/Documents/GitHub/mimiciii-antibiotics-modeling/data/processed/14112018_bg_ART_prepped.csv',\n",
       " '/Users/geickelb1/Documents/GitHub/mimiciii-antibiotics-modeling/data/processed/14112018_nit_prepped.csv',\n",
       " '/Users/geickelb1/Documents/GitHub/mimiciii-antibiotics-modeling/data/processed/14112018_norepinephrine_prepped.csv',\n",
       " '/Users/geickelb1/Documents/GitHub/mimiciii-antibiotics-modeling/data/processed/14112018_o2_flow_prepped.csv',\n",
       " '/Users/geickelb1/Documents/GitHub/mimiciii-antibiotics-modeling/data/processed/14112018_labs_prepped.csv',\n",
       " '/Users/geickelb1/Documents/GitHub/mimiciii-antibiotics-modeling/data/processed/14112018_vasopressin_prepped.csv',\n",
       " '/Users/geickelb1/Documents/GitHub/mimiciii-antibiotics-modeling/data/processed/14112018_leuk_prepped.csv',\n",
       " '/Users/geickelb1/Documents/GitHub/mimiciii-antibiotics-modeling/data/processed/14112018_dopamine_prepped.csv',\n",
       " '/Users/geickelb1/Documents/GitHub/mimiciii-antibiotics-modeling/data/processed/14112018_dobutamine_prepped.csv',\n",
       " '/Users/geickelb1/Documents/GitHub/mimiciii-antibiotics-modeling/data/processed/14112018_weight_prepped.csv']"
      ]
     },
     "execution_count": 7,
     "metadata": {},
     "output_type": "execute_result"
    },
    {
     "name": "stdout",
     "output_type": "stream",
     "text": [
      "time: 2.03 ms\n"
     ]
    }
   ],
   "source": [
    "allFiles  #need to rerun 03.1-clinical_variables and have a new date to make it easier. "
   ]
  },
  {
   "cell_type": "code",
   "execution_count": 8,
   "metadata": {},
   "outputs": [
    {
     "name": "stderr",
     "output_type": "stream",
     "text": [
      "/Users/geickelb1/anaconda/envs/rpy-env/lib/python3.6/site-packages/numpy/lib/arraysetops.py:472: FutureWarning: elementwise comparison failed; returning scalar instead, but in the future will perform elementwise comparison\n",
      "  mask |= (ar1 == a)\n"
     ]
    },
    {
     "name": "stdout",
     "output_type": "stream",
     "text": [
      "time: 13.4 s\n"
     ]
    }
   ],
   "source": [
    "#making a dictionary of all my dataframes for easier cycling through\n",
    "\n",
    "df_list=[]\n",
    "for element in allFiles:\n",
    "    df_list.append(element.split('{}_'.format(date))[1].split('_prepped.csv')[0]) #making an list of all my dataframes in order they appear in file\n",
    "\n",
    "dfs = {}\n",
    "i=0\n",
    "for name in df_list:\n",
    "    dfs[name] = pd.read_csv(allFiles[i],  index_col=0)\n",
    "    i+=1"
   ]
  },
  {
   "cell_type": "code",
   "execution_count": 9,
   "metadata": {},
   "outputs": [
    {
     "name": "stdout",
     "output_type": "stream",
     "text": [
      "rrt : ['icustay_id', 't_0', 'value', 'label', 'uom', 'delta']\n",
      "pafaRatio : ['icustay_id', 'hadm_id', 't_0', 'value', 'delta', 'uom', 'label']\n",
      "vitals : ['subject_id', 'hadm_id', 'icustay_id', 'charttime', 'uom', 'label', 'value', 't_0', 'delta']\n",
      "ventcategory : ['icustay_id', 'uom', 't_0', 'label', 'value', 'delta']\n",
      "sofa : ['subject_id', 'hadm_id', 'icustay_id', 'delta', 'label', 'value', 't_0', 'uom']\n",
      "bg_all : ['subject_id', 'hadm_id', 'icustay_id', 'charttime', 'delta', 't_0', 'label', 'valuenum', 'uom']\n",
      "gcs : ['subject_id', 'hadm_id', 'icustay_id', 'delta', 'label', 'value', 't_0', 'uom']\n",
      "phenylephrine : ['icustay_id', 't_0', 'value', 'label', 'uom', 'delta']\n",
      "epinephrine : ['icustay_id', 't_0', 'value', 'label', 'uom', 'delta']\n",
      "bg_ART : ['subject_id', 'hadm_id', 'icustay_id', 'charttime', 'delta', 't_0', 'label', 'valuenum', 'uom']\n",
      "nit : ['subject_id', 'hadm_id', 't_0', 'label', 'value', 'delta', 'icustay_id', 'uom']\n",
      "norepinephrine : ['icustay_id', 't_0', 'value', 'label', 'uom', 'delta']\n",
      "o2_flow : ['icustay_id', 'hadm_id', 't_0', 'value', 'delta', 'uom', 'label']\n",
      "labs : ['subject_id', 'hadm_id', 'icustay_id', 'charttime', 'label', 'value', 't_0', 'delta', 'uom']\n",
      "vasopressin : ['icustay_id', 't_0', 'value', 'label', 'uom', 'delta']\n",
      "leuk : ['subject_id', 'hadm_id', 't_0', 'label', 'value', 'delta', 'icustay_id', 'uom']\n",
      "dopamine : ['icustay_id', 't_0', 'value', 'label', 'uom', 'delta']\n",
      "dobutamine : ['icustay_id', 't_0', 'value', 'label', 'uom', 'delta']\n",
      "weight : ['icustay_id', 'value', 'uom', 'label', 'delta', 't_0']\n",
      "time: 5.59 ms\n"
     ]
    }
   ],
   "source": [
    "#all of the column names \n",
    "for element in df_list:\n",
    "    print(element,':',list(dfs[element]))"
   ]
  },
  {
   "cell_type": "markdown",
   "metadata": {},
   "source": [
    "## standardizing columns"
   ]
  },
  {
   "cell_type": "markdown",
   "metadata": {},
   "source": [
    "#### adding icustay_id, dropping hadm_id"
   ]
  },
  {
   "cell_type": "code",
   "execution_count": 10,
   "metadata": {},
   "outputs": [
    {
     "name": "stdout",
     "output_type": "stream",
     "text": [
      "time: 626 ms\n"
     ]
    }
   ],
   "source": [
    "##dropping hadm_id from all:\n",
    "list1=[]\n",
    "for element in df_list:\n",
    "    if 'hadm_id' in (list(dfs[element])):\n",
    "        list1.append(element)\n",
    "\n",
    "for element in list1:\n",
    "    dfs[element]= dfs[element].drop('hadm_id', axis=1)"
   ]
  },
  {
   "cell_type": "code",
   "execution_count": 11,
   "metadata": {},
   "outputs": [
    {
     "name": "stdout",
     "output_type": "stream",
     "text": [
      "time: 505 ms\n"
     ]
    }
   ],
   "source": [
    "##dropping subject_id from all:\n",
    "list1=[]\n",
    "for element in df_list:\n",
    "    if 'subject_id' in (list(dfs[element])):\n",
    "        list1.append(element)\n",
    "\n",
    "for element in list1:\n",
    "    dfs[element]= dfs[element].drop('subject_id', axis=1)"
   ]
  },
  {
   "cell_type": "code",
   "execution_count": 12,
   "metadata": {},
   "outputs": [
    {
     "name": "stdout",
     "output_type": "stream",
     "text": [
      "rrt : ['delta', 'icustay_id', 'label', 't_0', 'uom', 'value']\n",
      "pafaRatio : ['delta', 'icustay_id', 'label', 't_0', 'uom', 'value']\n",
      "vitals : ['charttime', 'delta', 'icustay_id', 'label', 't_0', 'uom', 'value']\n",
      "ventcategory : ['delta', 'icustay_id', 'label', 't_0', 'uom', 'value']\n",
      "sofa : ['delta', 'icustay_id', 'label', 't_0', 'uom', 'value']\n",
      "bg_all : ['charttime', 'delta', 'icustay_id', 'label', 't_0', 'uom', 'valuenum']\n",
      "gcs : ['delta', 'icustay_id', 'label', 't_0', 'uom', 'value']\n",
      "phenylephrine : ['delta', 'icustay_id', 'label', 't_0', 'uom', 'value']\n",
      "epinephrine : ['delta', 'icustay_id', 'label', 't_0', 'uom', 'value']\n",
      "bg_ART : ['charttime', 'delta', 'icustay_id', 'label', 't_0', 'uom', 'valuenum']\n",
      "nit : ['delta', 'icustay_id', 'label', 't_0', 'uom', 'value']\n",
      "norepinephrine : ['delta', 'icustay_id', 'label', 't_0', 'uom', 'value']\n",
      "o2_flow : ['delta', 'icustay_id', 'label', 't_0', 'uom', 'value']\n",
      "labs : ['charttime', 'delta', 'icustay_id', 'label', 't_0', 'uom', 'value']\n",
      "vasopressin : ['delta', 'icustay_id', 'label', 't_0', 'uom', 'value']\n",
      "leuk : ['delta', 'icustay_id', 'label', 't_0', 'uom', 'value']\n",
      "dopamine : ['delta', 'icustay_id', 'label', 't_0', 'uom', 'value']\n",
      "dobutamine : ['delta', 'icustay_id', 'label', 't_0', 'uom', 'value']\n",
      "weight : ['delta', 'icustay_id', 'label', 't_0', 'uom', 'value']\n",
      "time: 11.6 ms\n"
     ]
    }
   ],
   "source": [
    "#all of the column names \n",
    "for element in df_list:\n",
    "    print(element,':',sorted(list(dfs[element])))"
   ]
  },
  {
   "cell_type": "code",
   "execution_count": 13,
   "metadata": {},
   "outputs": [
    {
     "name": "stdout",
     "output_type": "stream",
     "text": [
      "time: 498 ms\n"
     ]
    }
   ],
   "source": [
    "#dropping charttime, endtime and first_charttime\n",
    "\n",
    "list1=[]\n",
    "list2=[]\n",
    "for element in df_list:\n",
    "    if 'charttime' in (list(dfs[element])):\n",
    "        list1.append(element)\n",
    "    if 'endtime' in (list(dfs[element])):\n",
    "        list2.append(element)\n",
    "\n",
    "for element in list1:\n",
    "    dfs[element]= dfs[element].drop('charttime', axis=1)\n",
    "\n",
    "for element in list2:\n",
    "    dfs[element]= dfs[element].drop('endtime', axis=1)\n",
    "    \n",
    "#dfs['rrt']= dfs['rrt'].drop('first_charttime', axis=1)"
   ]
  },
  {
   "cell_type": "code",
   "execution_count": 14,
   "metadata": {},
   "outputs": [
    {
     "name": "stdout",
     "output_type": "stream",
     "text": [
      "time: 152 ms\n"
     ]
    }
   ],
   "source": [
    "#converting valuenum and value to same label\n",
    "list1=[]\n",
    "\n",
    "for element in df_list:\n",
    "    if 'valuenum' in (list(dfs[element])):\n",
    "        list1.append(element)\n",
    "\n",
    "for element in list1:\n",
    "    dfs[element]= dfs[element].rename(index=str, columns={'valuenum':'value'})\n"
   ]
  },
  {
   "cell_type": "code",
   "execution_count": 15,
   "metadata": {},
   "outputs": [
    {
     "name": "stdout",
     "output_type": "stream",
     "text": [
      "time: 1.1 ms\n"
     ]
    }
   ],
   "source": [
    "def label_lower(df_name):\n",
    "    dfs[df_name]['label']= dfs[df_name]['label'].apply(lambda x: x.lower())"
   ]
  },
  {
   "cell_type": "code",
   "execution_count": 16,
   "metadata": {},
   "outputs": [
    {
     "name": "stdout",
     "output_type": "stream",
     "text": [
      "time: 2.63 s\n"
     ]
    }
   ],
   "source": [
    "#turning all labels to lowercase\n",
    "for element in df_list:\n",
    "    label_lower(element)\n"
   ]
  },
  {
   "cell_type": "code",
   "execution_count": 17,
   "metadata": {},
   "outputs": [
    {
     "name": "stdout",
     "output_type": "stream",
     "text": [
      "time: 3.12 s\n"
     ]
    }
   ],
   "source": [
    "#adding a df source table label to each df. \n",
    "for element in df_list:\n",
    "    dfs[element]['source']=element\n",
    "\n",
    "#adding a patient id to each\n",
    "\n",
    "for element in df_list:\n",
    "    dfs[element]= pd.merge(dfs[element], final_pt_df2[['icustay_id','subject_id']], how='left')\n",
    "    "
   ]
  },
  {
   "cell_type": "code",
   "execution_count": 18,
   "metadata": {},
   "outputs": [
    {
     "name": "stdout",
     "output_type": "stream",
     "text": [
      "rrt : ['delta', 'icustay_id', 'label', 'source', 'subject_id', 't_0', 'uom', 'value']\n",
      "pafaRatio : ['delta', 'icustay_id', 'label', 'source', 'subject_id', 't_0', 'uom', 'value']\n",
      "vitals : ['delta', 'icustay_id', 'label', 'source', 'subject_id', 't_0', 'uom', 'value']\n",
      "ventcategory : ['delta', 'icustay_id', 'label', 'source', 'subject_id', 't_0', 'uom', 'value']\n",
      "sofa : ['delta', 'icustay_id', 'label', 'source', 'subject_id', 't_0', 'uom', 'value']\n",
      "bg_all : ['delta', 'icustay_id', 'label', 'source', 'subject_id', 't_0', 'uom', 'value']\n",
      "gcs : ['delta', 'icustay_id', 'label', 'source', 'subject_id', 't_0', 'uom', 'value']\n",
      "phenylephrine : ['delta', 'icustay_id', 'label', 'source', 'subject_id', 't_0', 'uom', 'value']\n",
      "epinephrine : ['delta', 'icustay_id', 'label', 'source', 'subject_id', 't_0', 'uom', 'value']\n",
      "bg_ART : ['delta', 'icustay_id', 'label', 'source', 'subject_id', 't_0', 'uom', 'value']\n",
      "nit : ['delta', 'icustay_id', 'label', 'source', 'subject_id', 't_0', 'uom', 'value']\n",
      "norepinephrine : ['delta', 'icustay_id', 'label', 'source', 'subject_id', 't_0', 'uom', 'value']\n",
      "o2_flow : ['delta', 'icustay_id', 'label', 'source', 'subject_id', 't_0', 'uom', 'value']\n",
      "labs : ['delta', 'icustay_id', 'label', 'source', 'subject_id', 't_0', 'uom', 'value']\n",
      "vasopressin : ['delta', 'icustay_id', 'label', 'source', 'subject_id', 't_0', 'uom', 'value']\n",
      "leuk : ['delta', 'icustay_id', 'label', 'source', 'subject_id', 't_0', 'uom', 'value']\n",
      "dopamine : ['delta', 'icustay_id', 'label', 'source', 'subject_id', 't_0', 'uom', 'value']\n",
      "dobutamine : ['delta', 'icustay_id', 'label', 'source', 'subject_id', 't_0', 'uom', 'value']\n",
      "weight : ['delta', 'icustay_id', 'label', 'source', 'subject_id', 't_0', 'uom', 'value']\n",
      "time: 6.04 ms\n"
     ]
    }
   ],
   "source": [
    "#all of the column names \n",
    "for element in df_list:\n",
    "    print(element,':',sorted(list(dfs[element])))"
   ]
  },
  {
   "cell_type": "markdown",
   "metadata": {},
   "source": [
    "# converting data formats"
   ]
  },
  {
   "cell_type": "code",
   "execution_count": 19,
   "metadata": {},
   "outputs": [
    {
     "name": "stdout",
     "output_type": "stream",
     "text": [
      "time: 662 µs\n"
     ]
    }
   ],
   "source": [
    "#na"
   ]
  },
  {
   "cell_type": "markdown",
   "metadata": {},
   "source": [
    "# looking at measured values"
   ]
  },
  {
   "cell_type": "code",
   "execution_count": 20,
   "metadata": {},
   "outputs": [
    {
     "data": {
      "text/plain": [
       "['rrt',\n",
       " 'pafaRatio',\n",
       " 'vitals',\n",
       " 'ventcategory',\n",
       " 'sofa',\n",
       " 'bg_all',\n",
       " 'gcs',\n",
       " 'phenylephrine',\n",
       " 'epinephrine',\n",
       " 'bg_ART',\n",
       " 'nit',\n",
       " 'norepinephrine',\n",
       " 'o2_flow',\n",
       " 'labs',\n",
       " 'vasopressin',\n",
       " 'leuk',\n",
       " 'dopamine',\n",
       " 'dobutamine',\n",
       " 'weight']"
      ]
     },
     "execution_count": 20,
     "metadata": {},
     "output_type": "execute_result"
    },
    {
     "name": "stdout",
     "output_type": "stream",
     "text": [
      "time: 2.25 ms\n"
     ]
    }
   ],
   "source": [
    "df_list"
   ]
  },
  {
   "cell_type": "code",
   "execution_count": 21,
   "metadata": {},
   "outputs": [
    {
     "name": "stdout",
     "output_type": "stream",
     "text": [
      "time: 1.38 ms\n"
     ]
    }
   ],
   "source": [
    "def value_viewer(df_name):\n",
    "    return(dfs[df_name]['label'].unique())"
   ]
  },
  {
   "cell_type": "code",
   "execution_count": 22,
   "metadata": {},
   "outputs": [
    {
     "data": {
      "text/plain": [
       "array(['pco2'], dtype=object)"
      ]
     },
     "execution_count": 22,
     "metadata": {},
     "output_type": "execute_result"
    },
    {
     "name": "stdout",
     "output_type": "stream",
     "text": [
      "time: 4.74 ms\n"
     ]
    }
   ],
   "source": [
    "value_viewer('bg_ART')"
   ]
  },
  {
   "cell_type": "code",
   "execution_count": 23,
   "metadata": {},
   "outputs": [
    {
     "data": {
      "text/plain": [
       "array(['calcium', 'lactate', 'ph', 'temperature', 'hemoglobin',\n",
       "       'potassium', 'glucose', 'chloride', 'sodium', 'bicarbonate'],\n",
       "      dtype=object)"
      ]
     },
     "execution_count": 23,
     "metadata": {},
     "output_type": "execute_result"
    },
    {
     "name": "stdout",
     "output_type": "stream",
     "text": [
      "time: 14 ms\n"
     ]
    }
   ],
   "source": [
    "value_viewer('bg_all')"
   ]
  },
  {
   "cell_type": "code",
   "execution_count": 24,
   "metadata": {},
   "outputs": [
    {
     "name": "stdout",
     "output_type": "stream",
     "text": [
      "time: 596 µs\n"
     ]
    }
   ],
   "source": [
    "#value_viewer('uti')"
   ]
  },
  {
   "cell_type": "code",
   "execution_count": 25,
   "metadata": {},
   "outputs": [
    {
     "data": {
      "text/plain": [
       "array(['sodium', 'bicarbonate', 'chloride', 'creatinine', 'glucose',\n",
       "       'potassium', 'bun', 'hemoglobin', 'platelet', 'wbc', 'lactate',\n",
       "       'inr', 'ptt', 'bilirubin', 'bands'], dtype=object)"
      ]
     },
     "execution_count": 25,
     "metadata": {},
     "output_type": "execute_result"
    },
    {
     "name": "stdout",
     "output_type": "stream",
     "text": [
      "time: 49.8 ms\n"
     ]
    }
   ],
   "source": [
    "value_viewer('labs')\n"
   ]
  },
  {
   "cell_type": "code",
   "execution_count": 26,
   "metadata": {},
   "outputs": [
    {
     "data": {
      "text/plain": [
       "array(['meanartpress', 'sysbp', 'heartrate', 'resprate', 'spo2',\n",
       "       'temperature', 'glucose', 'diasbp'], dtype=object)"
      ]
     },
     "execution_count": 26,
     "metadata": {},
     "output_type": "execute_result"
    },
    {
     "name": "stdout",
     "output_type": "stream",
     "text": [
      "time: 288 ms\n"
     ]
    }
   ],
   "source": [
    "value_viewer('vitals')"
   ]
  },
  {
   "cell_type": "code",
   "execution_count": 27,
   "metadata": {},
   "outputs": [
    {
     "data": {
      "text/plain": [
       "['rrt',\n",
       " 'pafaRatio',\n",
       " 'vitals',\n",
       " 'ventcategory',\n",
       " 'sofa',\n",
       " 'bg_all',\n",
       " 'gcs',\n",
       " 'phenylephrine',\n",
       " 'epinephrine',\n",
       " 'bg_ART',\n",
       " 'nit',\n",
       " 'norepinephrine',\n",
       " 'o2_flow',\n",
       " 'labs',\n",
       " 'vasopressin',\n",
       " 'leuk',\n",
       " 'dopamine',\n",
       " 'dobutamine',\n",
       " 'weight']"
      ]
     },
     "execution_count": 27,
     "metadata": {},
     "output_type": "execute_result"
    },
    {
     "name": "stdout",
     "output_type": "stream",
     "text": [
      "time: 1.81 ms\n"
     ]
    }
   ],
   "source": [
    "list(dfs)"
   ]
  },
  {
   "cell_type": "markdown",
   "metadata": {},
   "source": [
    "# combining data"
   ]
  },
  {
   "cell_type": "code",
   "execution_count": 28,
   "metadata": {},
   "outputs": [
    {
     "data": {
      "text/plain": [
       "{'bicarbonate',\n",
       " 'chloride',\n",
       " 'glucose',\n",
       " 'hemoglobin',\n",
       " 'lactate',\n",
       " 'potassium',\n",
       " 'sodium'}"
      ]
     },
     "execution_count": 28,
     "metadata": {},
     "output_type": "execute_result"
    },
    {
     "name": "stdout",
     "output_type": "stream",
     "text": [
      "time: 47.3 ms\n"
     ]
    }
   ],
   "source": [
    "set(value_viewer('labs')) & set(value_viewer('bg_all'))"
   ]
  },
  {
   "cell_type": "code",
   "execution_count": 29,
   "metadata": {},
   "outputs": [
    {
     "data": {
      "text/plain": [
       "{'glucose'}"
      ]
     },
     "execution_count": 29,
     "metadata": {},
     "output_type": "execute_result"
    },
    {
     "name": "stdout",
     "output_type": "stream",
     "text": [
      "time: 338 ms\n"
     ]
    }
   ],
   "source": [
    "set(value_viewer('labs')) & set(value_viewer('vitals'))"
   ]
  },
  {
   "cell_type": "code",
   "execution_count": 30,
   "metadata": {},
   "outputs": [
    {
     "data": {
      "text/plain": [
       "{'glucose', 'temperature'}"
      ]
     },
     "execution_count": 30,
     "metadata": {},
     "output_type": "execute_result"
    },
    {
     "name": "stdout",
     "output_type": "stream",
     "text": [
      "time: 290 ms\n"
     ]
    }
   ],
   "source": [
    "set(value_viewer('bg_all')) & set(value_viewer('vitals'))"
   ]
  },
  {
   "cell_type": "code",
   "execution_count": 31,
   "metadata": {},
   "outputs": [
    {
     "name": "stdout",
     "output_type": "stream",
     "text": [
      "time: 914 µs\n"
     ]
    }
   ],
   "source": [
    "# (dfs['labs'].loc[\n",
    "#     dfs['labs'].loc[:,'label']=='glucose', ['label','value']\n",
    "# ]\n",
    "#      .groupby(['label'])\n",
    "#          .describe(percentiles=[.25, .5, .75,.95, .99])\n",
    "#               )"
   ]
  },
  {
   "cell_type": "code",
   "execution_count": 32,
   "metadata": {},
   "outputs": [
    {
     "name": "stdout",
     "output_type": "stream",
     "text": [
      "time: 1.54 ms\n"
     ]
    }
   ],
   "source": [
    "# (dfs['vitals'].loc[\n",
    "#     dfs['vitals'].loc[:,'label']=='glucose', ['label','value']\n",
    "# ]\n",
    "#      .groupby(['label'])\n",
    "#          .describe(percentiles=[.25, .5, .75,.95, .99])\n",
    "#               )"
   ]
  },
  {
   "cell_type": "code",
   "execution_count": 33,
   "metadata": {},
   "outputs": [
    {
     "name": "stdout",
     "output_type": "stream",
     "text": [
      "time: 1 ms\n"
     ]
    }
   ],
   "source": [
    "# (dfs['bg_all'].loc[\n",
    "#     dfs['bg_all'].loc[:,'label']=='glucose', ['label','valuenum']\n",
    "# ]\n",
    "#      .groupby(['label'])\n",
    "#          .describe(percentiles=[.25, .5, .75,.95, .99])\n",
    "#               )"
   ]
  },
  {
   "cell_type": "markdown",
   "metadata": {},
   "source": [
    "### merging labs together"
   ]
  },
  {
   "cell_type": "code",
   "execution_count": 34,
   "metadata": {},
   "outputs": [
    {
     "name": "stdout",
     "output_type": "stream",
     "text": [
      "time: 494 µs\n"
     ]
    }
   ],
   "source": [
    "# lab_bg_vital= pd.concat([dfs['labs'],dfs['bg_all'],dfs['vitals']], sort=False).sort_values(['icustay_id','delta','label','source'], ascending=True)"
   ]
  },
  {
   "cell_type": "code",
   "execution_count": 35,
   "metadata": {},
   "outputs": [
    {
     "name": "stdout",
     "output_type": "stream",
     "text": [
      "time: 487 µs\n"
     ]
    }
   ],
   "source": [
    "# lab_bg_vital.head()"
   ]
  },
  {
   "cell_type": "code",
   "execution_count": 36,
   "metadata": {},
   "outputs": [
    {
     "name": "stdout",
     "output_type": "stream",
     "text": [
      "time: 1.02 ms\n"
     ]
    }
   ],
   "source": [
    "# #rounding timedeltas to the 2 minute mark. \n",
    "# #pd.to_datetime(lab_bg_vital['delta'])#.dt.round('m')\n",
    "# lab_bg_vital['delta']= pd.to_timedelta(lab_bg_vital['delta'])\n",
    "# lab_bg_vital['delta']= pd.to_datetime(lab_bg_vital['delta']).dt.round('2min')\n",
    "# lab_bg_vital['delta']= pd.to_timedelta(lab_bg_vital['delta'])\n",
    "\n",
    "\n",
    "# #note this is more efficient than rounding timedeltas for some reason. "
   ]
  },
  {
   "cell_type": "code",
   "execution_count": 37,
   "metadata": {},
   "outputs": [
    {
     "name": "stdout",
     "output_type": "stream",
     "text": [
      "time: 424 µs\n"
     ]
    }
   ],
   "source": [
    "# lab_bg_vital.drop_duplicates(subset=['icustay_id','label','value','delta',], keep='last', inplace=False) #n=7001349 at 1 min, 6913527 at 2min rounding,  vs 7222647 without. "
   ]
  },
  {
   "cell_type": "code",
   "execution_count": 38,
   "metadata": {},
   "outputs": [
    {
     "name": "stdout",
     "output_type": "stream",
     "text": [
      "time: 386 µs\n"
     ]
    }
   ],
   "source": [
    "# list(lab_bg_vital['label'].unique())"
   ]
  },
  {
   "cell_type": "markdown",
   "metadata": {},
   "source": [
    "# combining all df"
   ]
  },
  {
   "cell_type": "code",
   "execution_count": 39,
   "metadata": {},
   "outputs": [
    {
     "name": "stdout",
     "output_type": "stream",
     "text": [
      "time: 517 µs\n"
     ]
    }
   ],
   "source": [
    "#testing combining all df's\n",
    "##this may not be a useful exercise, but experimenting. "
   ]
  },
  {
   "cell_type": "code",
   "execution_count": 40,
   "metadata": {},
   "outputs": [
    {
     "name": "stdout",
     "output_type": "stream",
     "text": [
      "time: 469 µs\n"
     ]
    }
   ],
   "source": [
    "#big_df= pd.concat([dfs['labs'],dfs['bg_all'],dfs['vitals']], sort=False).sort_values(['icustay_id','delta','label','source'], ascending=True)"
   ]
  },
  {
   "cell_type": "code",
   "execution_count": 41,
   "metadata": {},
   "outputs": [
    {
     "name": "stdout",
     "output_type": "stream",
     "text": [
      "time: 58.9 s\n"
     ]
    }
   ],
   "source": [
    "# making one big dataframe via pd. concat\n",
    "big_df= pd.concat(dfs.values(), sort=False).sort_values(['icustay_id','delta','label','source'], ascending=True)\n",
    "#converting delta to time delta, to datetime rounded to 2 minutes, and back to time delta (more efficient than rounding timedeltas)\n",
    "big_df['delta']= pd.to_timedelta(big_df['delta'])\n",
    "big_df['delta']= pd.to_datetime(big_df['delta']).dt.round('2min')\n",
    "big_df['delta']= pd.to_timedelta(big_df['delta'])"
   ]
  },
  {
   "cell_type": "code",
   "execution_count": 42,
   "metadata": {},
   "outputs": [
    {
     "data": {
      "text/plain": [
       "7541351"
      ]
     },
     "execution_count": 42,
     "metadata": {},
     "output_type": "execute_result"
    },
    {
     "name": "stdout",
     "output_type": "stream",
     "text": [
      "time: 2.58 ms\n"
     ]
    }
   ],
   "source": [
    "len(big_df)"
   ]
  },
  {
   "cell_type": "code",
   "execution_count": 43,
   "metadata": {},
   "outputs": [
    {
     "name": "stdout",
     "output_type": "stream",
     "text": [
      "time: 4.24 s\n"
     ]
    }
   ],
   "source": [
    "big_df= big_df.drop_duplicates(subset=['icustay_id','label','value','delta',], keep='last', inplace=False) #7638425  -> 7315304 at 2 min. "
   ]
  },
  {
   "cell_type": "code",
   "execution_count": 44,
   "metadata": {},
   "outputs": [
    {
     "data": {
      "text/plain": [
       "7217534"
      ]
     },
     "execution_count": 44,
     "metadata": {},
     "output_type": "execute_result"
    },
    {
     "name": "stdout",
     "output_type": "stream",
     "text": [
      "time: 2.47 ms\n"
     ]
    }
   ],
   "source": [
    "len(big_df)"
   ]
  },
  {
   "cell_type": "code",
   "execution_count": 45,
   "metadata": {},
   "outputs": [
    {
     "data": {
      "text/html": [
       "<div>\n",
       "<style scoped>\n",
       "    .dataframe tbody tr th:only-of-type {\n",
       "        vertical-align: middle;\n",
       "    }\n",
       "\n",
       "    .dataframe tbody tr th {\n",
       "        vertical-align: top;\n",
       "    }\n",
       "\n",
       "    .dataframe thead th {\n",
       "        text-align: right;\n",
       "    }\n",
       "</style>\n",
       "<table border=\"1\" class=\"dataframe\">\n",
       "  <thead>\n",
       "    <tr style=\"text-align: right;\">\n",
       "      <th></th>\n",
       "      <th>icustay_id</th>\n",
       "      <th>t_0</th>\n",
       "      <th>value</th>\n",
       "      <th>label</th>\n",
       "      <th>uom</th>\n",
       "      <th>delta</th>\n",
       "      <th>source</th>\n",
       "      <th>subject_id</th>\n",
       "    </tr>\n",
       "  </thead>\n",
       "  <tbody>\n",
       "    <tr>\n",
       "      <th>0</th>\n",
       "      <td>200012.0</td>\n",
       "      <td>2153-12-23</td>\n",
       "      <td>Neg/Not_tested</td>\n",
       "      <td>leukocyte</td>\n",
       "      <td>pos/neg category</td>\n",
       "      <td>0 days</td>\n",
       "      <td>leuk</td>\n",
       "      <td>28448</td>\n",
       "    </tr>\n",
       "    <tr>\n",
       "      <th>0</th>\n",
       "      <td>200012.0</td>\n",
       "      <td>2153-12-23</td>\n",
       "      <td>Neg/Not_tested</td>\n",
       "      <td>nitrite</td>\n",
       "      <td>pos/neg category</td>\n",
       "      <td>0 days</td>\n",
       "      <td>nit</td>\n",
       "      <td>28448</td>\n",
       "    </tr>\n",
       "    <tr>\n",
       "      <th>0</th>\n",
       "      <td>200012.0</td>\n",
       "      <td>2153-12-23</td>\n",
       "      <td>None</td>\n",
       "      <td>vent_recieved</td>\n",
       "      <td>mech/O2/none category</td>\n",
       "      <td>0 days</td>\n",
       "      <td>ventcategory</td>\n",
       "      <td>28448</td>\n",
       "    </tr>\n",
       "    <tr>\n",
       "      <th>24406</th>\n",
       "      <td>200012.0</td>\n",
       "      <td>2153-12-23</td>\n",
       "      <td>1</td>\n",
       "      <td>daily_sofa</td>\n",
       "      <td>daily_sofa_score</td>\n",
       "      <td>0 days</td>\n",
       "      <td>sofa</td>\n",
       "      <td>28448</td>\n",
       "    </tr>\n",
       "    <tr>\n",
       "      <th>1646</th>\n",
       "      <td>200012.0</td>\n",
       "      <td>2153-12-23</td>\n",
       "      <td>0</td>\n",
       "      <td>dobutamine</td>\n",
       "      <td>y/n</td>\n",
       "      <td>0 days</td>\n",
       "      <td>dobutamine</td>\n",
       "      <td>28448</td>\n",
       "    </tr>\n",
       "  </tbody>\n",
       "</table>\n",
       "</div>"
      ],
      "text/plain": [
       "       icustay_id         t_0           value          label  \\\n",
       "0        200012.0  2153-12-23  Neg/Not_tested      leukocyte   \n",
       "0        200012.0  2153-12-23  Neg/Not_tested        nitrite   \n",
       "0        200012.0  2153-12-23            None  vent_recieved   \n",
       "24406    200012.0  2153-12-23               1     daily_sofa   \n",
       "1646     200012.0  2153-12-23               0     dobutamine   \n",
       "\n",
       "                         uom  delta        source  subject_id  \n",
       "0           pos/neg category 0 days          leuk       28448  \n",
       "0           pos/neg category 0 days           nit       28448  \n",
       "0      mech/O2/none category 0 days  ventcategory       28448  \n",
       "24406       daily_sofa_score 0 days          sofa       28448  \n",
       "1646                     y/n 0 days    dobutamine       28448  "
      ]
     },
     "execution_count": 45,
     "metadata": {},
     "output_type": "execute_result"
    },
    {
     "name": "stdout",
     "output_type": "stream",
     "text": [
      "time: 17 ms\n"
     ]
    }
   ],
   "source": [
    "big_df.head()"
   ]
  },
  {
   "cell_type": "code",
   "execution_count": 46,
   "metadata": {},
   "outputs": [
    {
     "data": {
      "text/html": [
       "<div>\n",
       "<style scoped>\n",
       "    .dataframe tbody tr th:only-of-type {\n",
       "        vertical-align: middle;\n",
       "    }\n",
       "\n",
       "    .dataframe tbody tr th {\n",
       "        vertical-align: top;\n",
       "    }\n",
       "\n",
       "    .dataframe thead th {\n",
       "        text-align: right;\n",
       "    }\n",
       "</style>\n",
       "<table border=\"1\" class=\"dataframe\">\n",
       "  <thead>\n",
       "    <tr style=\"text-align: right;\">\n",
       "      <th></th>\n",
       "      <th>count</th>\n",
       "      <th>unique</th>\n",
       "      <th>top</th>\n",
       "      <th>freq</th>\n",
       "    </tr>\n",
       "    <tr>\n",
       "      <th>label</th>\n",
       "      <th></th>\n",
       "      <th></th>\n",
       "      <th></th>\n",
       "      <th></th>\n",
       "    </tr>\n",
       "  </thead>\n",
       "  <tbody>\n",
       "    <tr>\n",
       "      <th>bands</th>\n",
       "      <td>3516</td>\n",
       "      <td>96</td>\n",
       "      <td>1</td>\n",
       "      <td>472</td>\n",
       "    </tr>\n",
       "    <tr>\n",
       "      <th>bicarbonate</th>\n",
       "      <td>63305</td>\n",
       "      <td>56</td>\n",
       "      <td>24</td>\n",
       "      <td>5233</td>\n",
       "    </tr>\n",
       "    <tr>\n",
       "      <th>bilirubin</th>\n",
       "      <td>17814</td>\n",
       "      <td>407</td>\n",
       "      <td>0.4</td>\n",
       "      <td>1477</td>\n",
       "    </tr>\n",
       "    <tr>\n",
       "      <th>bun</th>\n",
       "      <td>63048</td>\n",
       "      <td>195</td>\n",
       "      <td>14</td>\n",
       "      <td>1909</td>\n",
       "    </tr>\n",
       "    <tr>\n",
       "      <th>calcium</th>\n",
       "      <td>29926</td>\n",
       "      <td>170</td>\n",
       "      <td>1.13</td>\n",
       "      <td>1560</td>\n",
       "    </tr>\n",
       "    <tr>\n",
       "      <th>chloride</th>\n",
       "      <td>68805</td>\n",
       "      <td>84</td>\n",
       "      <td>106</td>\n",
       "      <td>4442</td>\n",
       "    </tr>\n",
       "    <tr>\n",
       "      <th>creatinine</th>\n",
       "      <td>63315</td>\n",
       "      <td>185</td>\n",
       "      <td>0.7</td>\n",
       "      <td>5450</td>\n",
       "    </tr>\n",
       "    <tr>\n",
       "      <th>daily_sofa</th>\n",
       "      <td>31545</td>\n",
       "      <td>24</td>\n",
       "      <td>1</td>\n",
       "      <td>5934</td>\n",
       "    </tr>\n",
       "    <tr>\n",
       "      <th>diasbp</th>\n",
       "      <td>910423</td>\n",
       "      <td>203</td>\n",
       "      <td>56</td>\n",
       "      <td>28790</td>\n",
       "    </tr>\n",
       "    <tr>\n",
       "      <th>dobutamine</th>\n",
       "      <td>16003</td>\n",
       "      <td>2</td>\n",
       "      <td>0</td>\n",
       "      <td>14430</td>\n",
       "    </tr>\n",
       "    <tr>\n",
       "      <th>dopamine</th>\n",
       "      <td>19501</td>\n",
       "      <td>2</td>\n",
       "      <td>0</td>\n",
       "      <td>13803</td>\n",
       "    </tr>\n",
       "    <tr>\n",
       "      <th>epinephrine</th>\n",
       "      <td>16414</td>\n",
       "      <td>2</td>\n",
       "      <td>0</td>\n",
       "      <td>14363</td>\n",
       "    </tr>\n",
       "    <tr>\n",
       "      <th>glucose</th>\n",
       "      <td>224294</td>\n",
       "      <td>719</td>\n",
       "      <td>120</td>\n",
       "      <td>2478</td>\n",
       "    </tr>\n",
       "    <tr>\n",
       "      <th>heartrate</th>\n",
       "      <td>937471</td>\n",
       "      <td>208</td>\n",
       "      <td>80</td>\n",
       "      <td>24453</td>\n",
       "    </tr>\n",
       "    <tr>\n",
       "      <th>hemoglobin</th>\n",
       "      <td>64903</td>\n",
       "      <td>167</td>\n",
       "      <td>9.6</td>\n",
       "      <td>1603</td>\n",
       "    </tr>\n",
       "    <tr>\n",
       "      <th>inr</th>\n",
       "      <td>39667</td>\n",
       "      <td>181</td>\n",
       "      <td>1.2</td>\n",
       "      <td>6021</td>\n",
       "    </tr>\n",
       "    <tr>\n",
       "      <th>lactate</th>\n",
       "      <td>34488</td>\n",
       "      <td>294</td>\n",
       "      <td>1.2</td>\n",
       "      <td>1662</td>\n",
       "    </tr>\n",
       "    <tr>\n",
       "      <th>leukocyte</th>\n",
       "      <td>14668</td>\n",
       "      <td>2</td>\n",
       "      <td>Neg/Not_tested</td>\n",
       "      <td>12449</td>\n",
       "    </tr>\n",
       "    <tr>\n",
       "      <th>meanartpress</th>\n",
       "      <td>925073</td>\n",
       "      <td>589</td>\n",
       "      <td>72</td>\n",
       "      <td>24415</td>\n",
       "    </tr>\n",
       "    <tr>\n",
       "      <th>mingcs</th>\n",
       "      <td>10405</td>\n",
       "      <td>13</td>\n",
       "      <td>15</td>\n",
       "      <td>4199</td>\n",
       "    </tr>\n",
       "    <tr>\n",
       "      <th>nitrite</th>\n",
       "      <td>14668</td>\n",
       "      <td>2</td>\n",
       "      <td>Neg/Not_tested</td>\n",
       "      <td>14247</td>\n",
       "    </tr>\n",
       "    <tr>\n",
       "      <th>norepinephrine</th>\n",
       "      <td>35398</td>\n",
       "      <td>2</td>\n",
       "      <td>1</td>\n",
       "      <td>23637</td>\n",
       "    </tr>\n",
       "    <tr>\n",
       "      <th>pao2/fio2</th>\n",
       "      <td>14668</td>\n",
       "      <td>1010</td>\n",
       "      <td>476</td>\n",
       "      <td>9063</td>\n",
       "    </tr>\n",
       "    <tr>\n",
       "      <th>pco2</th>\n",
       "      <td>41796</td>\n",
       "      <td>133</td>\n",
       "      <td>40</td>\n",
       "      <td>2037</td>\n",
       "    </tr>\n",
       "    <tr>\n",
       "      <th>ph</th>\n",
       "      <td>70813</td>\n",
       "      <td>102</td>\n",
       "      <td>7.4</td>\n",
       "      <td>3751</td>\n",
       "    </tr>\n",
       "    <tr>\n",
       "      <th>phenylephrine</th>\n",
       "      <td>28124</td>\n",
       "      <td>2</td>\n",
       "      <td>1</td>\n",
       "      <td>15776</td>\n",
       "    </tr>\n",
       "    <tr>\n",
       "      <th>platelet</th>\n",
       "      <td>58060</td>\n",
       "      <td>910</td>\n",
       "      <td>151</td>\n",
       "      <td>254</td>\n",
       "    </tr>\n",
       "    <tr>\n",
       "      <th>potassium</th>\n",
       "      <td>86440</td>\n",
       "      <td>103</td>\n",
       "      <td>4</td>\n",
       "      <td>6387</td>\n",
       "    </tr>\n",
       "    <tr>\n",
       "      <th>ptt</th>\n",
       "      <td>41760</td>\n",
       "      <td>1241</td>\n",
       "      <td>150</td>\n",
       "      <td>943</td>\n",
       "    </tr>\n",
       "    <tr>\n",
       "      <th>resprate</th>\n",
       "      <td>990136</td>\n",
       "      <td>76</td>\n",
       "      <td>20</td>\n",
       "      <td>78559</td>\n",
       "    </tr>\n",
       "    <tr>\n",
       "      <th>rrt</th>\n",
       "      <td>14668</td>\n",
       "      <td>2</td>\n",
       "      <td>0</td>\n",
       "      <td>13448</td>\n",
       "    </tr>\n",
       "    <tr>\n",
       "      <th>sodium</th>\n",
       "      <td>71892</td>\n",
       "      <td>81</td>\n",
       "      <td>139</td>\n",
       "      <td>6437</td>\n",
       "    </tr>\n",
       "    <tr>\n",
       "      <th>spo2</th>\n",
       "      <td>898875</td>\n",
       "      <td>103</td>\n",
       "      <td>100</td>\n",
       "      <td>202423</td>\n",
       "    </tr>\n",
       "    <tr>\n",
       "      <th>sysbp</th>\n",
       "      <td>915044</td>\n",
       "      <td>235</td>\n",
       "      <td>110</td>\n",
       "      <td>16641</td>\n",
       "    </tr>\n",
       "    <tr>\n",
       "      <th>temperature</th>\n",
       "      <td>278084</td>\n",
       "      <td>597</td>\n",
       "      <td>36.6667</td>\n",
       "      <td>7598</td>\n",
       "    </tr>\n",
       "    <tr>\n",
       "      <th>vasopressin</th>\n",
       "      <td>18146</td>\n",
       "      <td>2</td>\n",
       "      <td>0</td>\n",
       "      <td>14240</td>\n",
       "    </tr>\n",
       "    <tr>\n",
       "      <th>vent_recieved</th>\n",
       "      <td>14668</td>\n",
       "      <td>3</td>\n",
       "      <td>None</td>\n",
       "      <td>8387</td>\n",
       "    </tr>\n",
       "    <tr>\n",
       "      <th>wbc</th>\n",
       "      <td>56306</td>\n",
       "      <td>802</td>\n",
       "      <td>8.8</td>\n",
       "      <td>486</td>\n",
       "    </tr>\n",
       "    <tr>\n",
       "      <th>weight</th>\n",
       "      <td>13325</td>\n",
       "      <td>1408</td>\n",
       "      <td>70</td>\n",
       "      <td>265</td>\n",
       "    </tr>\n",
       "  </tbody>\n",
       "</table>\n",
       "</div>"
      ],
      "text/plain": [
       "                 count unique             top    freq\n",
       "label                                                \n",
       "bands             3516     96               1     472\n",
       "bicarbonate      63305     56              24    5233\n",
       "bilirubin        17814    407             0.4    1477\n",
       "bun              63048    195              14    1909\n",
       "calcium          29926    170            1.13    1560\n",
       "chloride         68805     84             106    4442\n",
       "creatinine       63315    185             0.7    5450\n",
       "daily_sofa       31545     24               1    5934\n",
       "diasbp          910423    203              56   28790\n",
       "dobutamine       16003      2               0   14430\n",
       "dopamine         19501      2               0   13803\n",
       "epinephrine      16414      2               0   14363\n",
       "glucose         224294    719             120    2478\n",
       "heartrate       937471    208              80   24453\n",
       "hemoglobin       64903    167             9.6    1603\n",
       "inr              39667    181             1.2    6021\n",
       "lactate          34488    294             1.2    1662\n",
       "leukocyte        14668      2  Neg/Not_tested   12449\n",
       "meanartpress    925073    589              72   24415\n",
       "mingcs           10405     13              15    4199\n",
       "nitrite          14668      2  Neg/Not_tested   14247\n",
       "norepinephrine   35398      2               1   23637\n",
       "pao2/fio2        14668   1010             476    9063\n",
       "pco2             41796    133              40    2037\n",
       "ph               70813    102             7.4    3751\n",
       "phenylephrine    28124      2               1   15776\n",
       "platelet         58060    910             151     254\n",
       "potassium        86440    103               4    6387\n",
       "ptt              41760   1241             150     943\n",
       "resprate        990136     76              20   78559\n",
       "rrt              14668      2               0   13448\n",
       "sodium           71892     81             139    6437\n",
       "spo2            898875    103             100  202423\n",
       "sysbp           915044    235             110   16641\n",
       "temperature     278084    597         36.6667    7598\n",
       "vasopressin      18146      2               0   14240\n",
       "vent_recieved    14668      3            None    8387\n",
       "wbc              56306    802             8.8     486\n",
       "weight           13325   1408              70     265"
      ]
     },
     "execution_count": 46,
     "metadata": {},
     "output_type": "execute_result"
    },
    {
     "name": "stdout",
     "output_type": "stream",
     "text": [
      "time: 2.72 s\n"
     ]
    }
   ],
   "source": [
    "big_df.groupby('label')['value'].describe()"
   ]
  },
  {
   "cell_type": "code",
   "execution_count": 47,
   "metadata": {},
   "outputs": [
    {
     "data": {
      "text/html": [
       "<div>\n",
       "<style scoped>\n",
       "    .dataframe tbody tr th:only-of-type {\n",
       "        vertical-align: middle;\n",
       "    }\n",
       "\n",
       "    .dataframe tbody tr th {\n",
       "        vertical-align: top;\n",
       "    }\n",
       "\n",
       "    .dataframe thead th {\n",
       "        text-align: right;\n",
       "    }\n",
       "</style>\n",
       "<table border=\"1\" class=\"dataframe\">\n",
       "  <thead>\n",
       "    <tr style=\"text-align: right;\">\n",
       "      <th></th>\n",
       "      <th>icustay_id</th>\n",
       "      <th>t_0</th>\n",
       "      <th>value</th>\n",
       "      <th>label</th>\n",
       "      <th>uom</th>\n",
       "      <th>delta</th>\n",
       "      <th>source</th>\n",
       "      <th>subject_id</th>\n",
       "    </tr>\n",
       "  </thead>\n",
       "  <tbody>\n",
       "    <tr>\n",
       "      <th>0</th>\n",
       "      <td>200012.0</td>\n",
       "      <td>2153-12-23</td>\n",
       "      <td>Neg/Not_tested</td>\n",
       "      <td>leukocyte</td>\n",
       "      <td>pos/neg category</td>\n",
       "      <td>0 days</td>\n",
       "      <td>leuk</td>\n",
       "      <td>28448</td>\n",
       "    </tr>\n",
       "    <tr>\n",
       "      <th>1</th>\n",
       "      <td>200014.0</td>\n",
       "      <td>2105-02-17</td>\n",
       "      <td>Neg/Not_tested</td>\n",
       "      <td>leukocyte</td>\n",
       "      <td>pos/neg category</td>\n",
       "      <td>0 days</td>\n",
       "      <td>leuk</td>\n",
       "      <td>9514</td>\n",
       "    </tr>\n",
       "    <tr>\n",
       "      <th>2</th>\n",
       "      <td>200019.0</td>\n",
       "      <td>2178-07-09</td>\n",
       "      <td>Neg/Not_tested</td>\n",
       "      <td>leukocyte</td>\n",
       "      <td>pos/neg category</td>\n",
       "      <td>0 days</td>\n",
       "      <td>leuk</td>\n",
       "      <td>21789</td>\n",
       "    </tr>\n",
       "    <tr>\n",
       "      <th>3</th>\n",
       "      <td>200030.0</td>\n",
       "      <td>2150-11-14</td>\n",
       "      <td>Neg/Not_tested</td>\n",
       "      <td>leukocyte</td>\n",
       "      <td>pos/neg category</td>\n",
       "      <td>0 days</td>\n",
       "      <td>leuk</td>\n",
       "      <td>14987</td>\n",
       "    </tr>\n",
       "    <tr>\n",
       "      <th>4</th>\n",
       "      <td>200033.0</td>\n",
       "      <td>2198-08-11</td>\n",
       "      <td>Neg/Not_tested</td>\n",
       "      <td>leukocyte</td>\n",
       "      <td>pos/neg category</td>\n",
       "      <td>0 days</td>\n",
       "      <td>leuk</td>\n",
       "      <td>56369</td>\n",
       "    </tr>\n",
       "  </tbody>\n",
       "</table>\n",
       "</div>"
      ],
      "text/plain": [
       "   icustay_id         t_0           value      label               uom  delta  \\\n",
       "0    200012.0  2153-12-23  Neg/Not_tested  leukocyte  pos/neg category 0 days   \n",
       "1    200014.0  2105-02-17  Neg/Not_tested  leukocyte  pos/neg category 0 days   \n",
       "2    200019.0  2178-07-09  Neg/Not_tested  leukocyte  pos/neg category 0 days   \n",
       "3    200030.0  2150-11-14  Neg/Not_tested  leukocyte  pos/neg category 0 days   \n",
       "4    200033.0  2198-08-11  Neg/Not_tested  leukocyte  pos/neg category 0 days   \n",
       "\n",
       "  source  subject_id  \n",
       "0   leuk       28448  \n",
       "1   leuk        9514  \n",
       "2   leuk       21789  \n",
       "3   leuk       14987  \n",
       "4   leuk       56369  "
      ]
     },
     "execution_count": 47,
     "metadata": {},
     "output_type": "execute_result"
    },
    {
     "name": "stdout",
     "output_type": "stream",
     "text": [
      "time: 720 ms\n"
     ]
    }
   ],
   "source": [
    "big_df[big_df['label']=='leukocyte'].head() #odd, lots of source=nit"
   ]
  },
  {
   "cell_type": "code",
   "execution_count": 48,
   "metadata": {},
   "outputs": [
    {
     "data": {
      "text/plain": [
       "14668"
      ]
     },
     "execution_count": 48,
     "metadata": {},
     "output_type": "execute_result"
    },
    {
     "name": "stdout",
     "output_type": "stream",
     "text": [
      "time: 51 ms\n"
     ]
    }
   ],
   "source": [
    "big_df['icustay_id'].nunique() #also odd this is not 14668"
   ]
  },
  {
   "cell_type": "code",
   "execution_count": null,
   "metadata": {},
   "outputs": [
    {
     "data": {
      "text/plain": [
       "'/Users/geickelb1/Documents/GitHub/mimiciii-antibiotics-modeling'"
      ]
     },
     "execution_count": 49,
     "metadata": {},
     "output_type": "execute_result"
    },
    {
     "name": "stdout",
     "output_type": "stream",
     "text": [
      "time: 1.95 ms\n"
     ]
    }
   ],
   "source": [
    "wd"
   ]
  },
  {
   "cell_type": "code",
   "execution_count": null,
   "metadata": {},
   "outputs": [],
   "source": [
    "date= '22112018'\n",
    "pd.DataFrame(big_df).to_csv(Path(\n",
    "    wd+'/data/processed/%s_longdf_preImp.csv' %(date)))"
   ]
  },
  {
   "cell_type": "code",
   "execution_count": null,
   "metadata": {},
   "outputs": [],
   "source": [
    "final_pt_df2.head()"
   ]
  },
  {
   "cell_type": "code",
   "execution_count": null,
   "metadata": {},
   "outputs": [],
   "source": []
  },
  {
   "cell_type": "code",
   "execution_count": null,
   "metadata": {},
   "outputs": [],
   "source": []
  },
  {
   "cell_type": "markdown",
   "metadata": {},
   "source": [
    "#### making a patient missingness visualization"
   ]
  },
  {
   "cell_type": "code",
   "execution_count": null,
   "metadata": {},
   "outputs": [],
   "source": [
    "#big_agg= big_df.groupby(['icustay_id','label'], as_index=False)['value'].agg(['min'])\n",
    "big_agg= big_df.groupby(['icustay_id','label'], as_index=False)['value'].size()\n",
    "big_agg_count= big_agg.reset_index().pivot(index='icustay_id',columns='label', values=0)#, levels='icustay_id')"
   ]
  },
  {
   "cell_type": "code",
   "execution_count": null,
   "metadata": {},
   "outputs": [],
   "source": [
    "big_agg_count= big_agg.reset_index().pivot(index='icustay_id',columns='label', values=0)#, levels='icustay_id')"
   ]
  },
  {
   "cell_type": "code",
   "execution_count": null,
   "metadata": {},
   "outputs": [],
   "source": [
    "big_agg_count"
   ]
  },
  {
   "cell_type": "code",
   "execution_count": null,
   "metadata": {},
   "outputs": [],
   "source": [
    "sns.set(rc={'figure.figsize':(25,15)})"
   ]
  },
  {
   "cell_type": "code",
   "execution_count": null,
   "metadata": {},
   "outputs": [],
   "source": [
    "#big_agg_min\n",
    "\n",
    "#%matplotlib inline\n",
    "\n",
    "# Index= ['aaa', 'bbb', 'ccc', 'ddd', 'eee']\n",
    "# Cols = ['A', 'B', 'C', 'D']\n",
    "# df = DataFrame(abs(np.random.randn(5, 4)), index=Index, columns=Cols)\n",
    "\n",
    "sns.set(rc={'figure.figsize':(25,15)})\n",
    "big_agg_count= big_agg_count.fillna(0)\n",
    "big_agg_count = big_agg_count[big_agg_count.columns].astype(float) \n",
    "\n",
    "\n",
    "sns.heatmap(big_agg_count,vmin=0, vmax=1, cmap=sns.color_palette(\"RdBu_r\", 5))"
   ]
  },
  {
   "cell_type": "code",
   "execution_count": null,
   "metadata": {},
   "outputs": [],
   "source": [
    "len(list(big_agg_count)) #38 columns. "
   ]
  },
  {
   "cell_type": "code",
   "execution_count": null,
   "metadata": {},
   "outputs": [],
   "source": [
    "big_agg_count"
   ]
  },
  {
   "cell_type": "code",
   "execution_count": null,
   "metadata": {},
   "outputs": [],
   "source": [
    "big_agg_count[big_agg_count>0] =1\n",
    "big_agg_pt_missing= big_agg_count.T.apply(lambda x:100*(len(list(big_agg_count))-sum(x))/len(list(big_agg_count)))\n",
    "big_agg_pt_missing= pd.DataFrame(big_agg_pt_missing).rename(index=str, columns={0:'%_of_values_missing'})"
   ]
  },
  {
   "cell_type": "code",
   "execution_count": null,
   "metadata": {},
   "outputs": [],
   "source": [
    "big_agg_pt_missing.sort_values('%_of_values_missing',ascending=False).plot()"
   ]
  },
  {
   "cell_type": "code",
   "execution_count": null,
   "metadata": {},
   "outputs": [],
   "source": [
    "len(big_agg_pt_missing)"
   ]
  },
  {
   "cell_type": "code",
   "execution_count": null,
   "metadata": {},
   "outputs": [],
   "source": [
    "big_agg_pt_missing.describe()"
   ]
  },
  {
   "cell_type": "code",
   "execution_count": null,
   "metadata": {},
   "outputs": [],
   "source": [
    "# def sum_(x):\n",
    "#     try:\n",
    "#         return np.sum(x)\n",
    "#     except:\n",
    "#         return np.nan\n",
    "\n",
    "# def max_(x):\n",
    "#     try:\n",
    "#         return np.max(x)\n",
    "#     except:\n",
    "#         return np.nan"
   ]
  },
  {
   "cell_type": "code",
   "execution_count": null,
   "metadata": {},
   "outputs": [],
   "source": []
  },
  {
   "cell_type": "markdown",
   "metadata": {},
   "source": [
    "## data typews"
   ]
  },
  {
   "cell_type": "code",
   "execution_count": null,
   "metadata": {},
   "outputs": [],
   "source": [
    "# list1=[]\n",
    "# list2=[]\n",
    "# for element in df_list:\n",
    "#     if 'value' in (list(dfs[element])):\n",
    "#         list1.append(element)\n",
    "#     if 'valuenum' in (list(dfs[element])):\n",
    "#         list2.append(element)\n",
    "\n",
    "\n"
   ]
  },
  {
   "cell_type": "code",
   "execution_count": null,
   "metadata": {},
   "outputs": [],
   "source": [
    "# for element in list2:\n",
    "#     print(dfs[element].groupby('label')['valuenum'].describe())"
   ]
  },
  {
   "cell_type": "code",
   "execution_count": null,
   "metadata": {},
   "outputs": [],
   "source": [
    "# for element in list1:\n",
    "#     print(dfs[element].groupby('label')['value'].describe())"
   ]
  },
  {
   "cell_type": "code",
   "execution_count": null,
   "metadata": {},
   "outputs": [],
   "source": [
    "# dfs['bg_ART'].groupby('label')['valuenum'].apply(lambda x: type(x))"
   ]
  },
  {
   "cell_type": "code",
   "execution_count": null,
   "metadata": {},
   "outputs": [],
   "source": []
  },
  {
   "cell_type": "code",
   "execution_count": null,
   "metadata": {},
   "outputs": [],
   "source": []
  },
  {
   "cell_type": "code",
   "execution_count": null,
   "metadata": {},
   "outputs": [],
   "source": []
  },
  {
   "cell_type": "code",
   "execution_count": null,
   "metadata": {},
   "outputs": [],
   "source": []
  },
  {
   "cell_type": "code",
   "execution_count": null,
   "metadata": {},
   "outputs": [],
   "source": []
  }
 ],
 "metadata": {
  "kernelspec": {
   "display_name": "Python 3",
   "language": "python",
   "name": "python3"
  },
  "language_info": {
   "codemirror_mode": {
    "name": "ipython",
    "version": 3
   },
   "file_extension": ".py",
   "mimetype": "text/x-python",
   "name": "python",
   "nbconvert_exporter": "python",
   "pygments_lexer": "ipython3",
   "version": "3.6.4"
  }
 },
 "nbformat": 4,
 "nbformat_minor": 2
}
