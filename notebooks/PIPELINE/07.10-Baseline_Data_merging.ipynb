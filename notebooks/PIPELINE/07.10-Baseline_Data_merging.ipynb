{
 "cells": [
  {
   "cell_type": "markdown",
   "metadata": {},
   "source": [
    "# making an aggregate master dataframe for baseline model  10/22/18 -11/6/18\n",
    "this notebook is going to make standardized longformat dataframes for each dataframe that i will adjust for each model to. \n",
    "\n",
    "for my first pass, i will work to establish a baseline model by using:\n",
    "the single \"worst\", or value that most indicates poor clinical outcomes, for each variable so each variable only has one row per patient. \n",
    "\n",
    "\n",
    "- make a long format table(ie variable, patient, time, value)\n",
    " - step1:Standardize all columns, format, etc. \n",
    " - step2: Maybe make a long format table for each dataframe\n",
    " - step3: Impute\n",
    " \n",
    "- combine features from each long table for 1 wide table (ie each patient has a row, each parameter has a column). \n",
    " - feature select for \"Clinical worst case\" \n",
    "\n",
    "\n",
    "\n",
    "- Establish a baseline (ie train model initially), using an obvious baseline: last valid mesurement of a particular variable.   Will hope that it doesn’t perform too good or too bad. Second would be to pick an aggregate within a time window (over 3 days, or of each day, ie can change graunlarity).\n",
    "\n",
    "- Next try temporal trend, maybe vector autoregression. \n",
    "\n",
    "So my first step would be to pick either the last recorded value for each variable or the ‘worst’ value, or ones that we might expect to indicate poor outcome (NEED TO CHOOSE)\n"
   ]
  },
  {
   "cell_type": "markdown",
   "metadata": {},
   "source": [
    "## last run: \n",
    "* (1) 6/9/19: sensitivity analysis 1day timewindow\n",
    "* (2) 11/9/19: rerun 72day timewindow because 72hr has low patients on "
   ]
  },
  {
   "cell_type": "code",
   "execution_count": 57,
   "metadata": {},
   "outputs": [
    {
     "name": "stdout",
     "output_type": "stream",
     "text": [
      "The autotime extension is already loaded. To reload it, use:\n",
      "  %reload_ext autotime\n",
      "time: 15.2 ms\n"
     ]
    },
    {
     "name": "stderr",
     "output_type": "stream",
     "text": [
      "/Users/geickelb1/anaconda/envs/rpy-env/lib/python3.6/site-packages/ipykernel_launcher.py:10: DeprecationWarning: The 'cachedir' parameter has been deprecated in version 0.12 and will be removed in version 0.14.\n",
      "You provided \"cachedir='/tmp'\", use \"location='/tmp'\" instead.\n",
      "  # Remove the CWD from sys.path while we load stuff.\n"
     ]
    }
   ],
   "source": [
    "import pandas as pd\n",
    "import matplotlib.pyplot as plt\n",
    "import os\n",
    "from pathlib import Path\n",
    "import seaborn as sns\n",
    "import numpy as np\n",
    "import glob\n",
    "\n",
    "from sklearn.externals.joblib import Memory\n",
    "memory = Memory(cachedir='/tmp', verbose=0)\n",
    "#@memory.cache above any def fxn.\n",
    "\n",
    "%matplotlib inline\n",
    "plt.style.use('ggplot')\n",
    "\n",
    "from notebook.services.config import ConfigManager\n",
    "cm = ConfigManager()\n",
    "cm.update('livereveal', {\n",
    "        'width': 1024,\n",
    "        'height': 768,\n",
    "        'scroll': True,\n",
    "})\n",
    "\n",
    "%load_ext autotime"
   ]
  },
  {
   "cell_type": "code",
   "execution_count": 58,
   "metadata": {},
   "outputs": [
    {
     "name": "stdout",
     "output_type": "stream",
     "text": [
      "time: 93.7 ms\n"
     ]
    }
   ],
   "source": [
    "#cohort import\n",
    "\n",
    "os.chdir('/Users/geickelb1/Documents/GitHub/mimiciii-antibiotics-modeling') #use to change working directory\n",
    "wd= os.getcwd() #'/Users/geickelb1/Documents/GitHub/mimiciii-antibiotics-modeling'\n",
    "\n",
    "most_updated_patient_df= \"04042019\"\n",
    "final_pt_df2 = pd.read_csv('/Users/geickelb1/Documents/GitHub/mimiciii-antibiotics-modeling/data/raw/csv/%s_final_pt_df2.csv'%(most_updated_patient_df), index_col=0) #only for patients with minimum vitals\n",
    "patients= list(final_pt_df2['subject_id'].unique())\n",
    "hadm_id= list(final_pt_df2['hadm_id'].unique())\n",
    "icustay_id= list(final_pt_df2['icustay_id'].unique())\n",
    "icustay_id= [int(x) for x in icustay_id]"
   ]
  },
  {
   "cell_type": "code",
   "execution_count": 59,
   "metadata": {},
   "outputs": [
    {
     "data": {
      "text/plain": [
       "14181"
      ]
     },
     "execution_count": 59,
     "metadata": {},
     "output_type": "execute_result"
    },
    {
     "name": "stdout",
     "output_type": "stream",
     "text": [
      "time: 4.15 ms\n"
     ]
    }
   ],
   "source": [
    "final_pt_df2['icustay_id'].nunique() #14478"
   ]
  },
  {
   "cell_type": "code",
   "execution_count": 60,
   "metadata": {},
   "outputs": [
    {
     "name": "stdout",
     "output_type": "stream",
     "text": [
      "time: 444 µs\n"
     ]
    }
   ],
   "source": [
    "#import all clinical variables\n",
    "##ensure they are the versions with UOM"
   ]
  },
  {
   "cell_type": "code",
   "execution_count": 133,
   "metadata": {},
   "outputs": [
    {
     "name": "stdout",
     "output_type": "stream",
     "text": [
      "time: 12 ms\n"
     ]
    }
   ],
   "source": [
    "#importing in all clinical_variable files\n",
    "\n",
    "# ##24 hr sensitivity\n",
    "# #importing in all clinical_variable files\n",
    "lower_window=0\n",
    "upper_window=1\n",
    "time_col=\"charttime\"\n",
    "time_var=\"t_0\"\n",
    "folder=\"24_hr_window\"\n",
    "timewindowdays=\"24\"\n",
    "date= '09062019'\n",
    "patient_df= final_pt_df2\n",
    "\n",
    "# #48 hr sensitivity\n",
    "# lower_window=0\n",
    "# upper_window=2\n",
    "# time_var=\"t_0\"\n",
    "# folder=\"48_hr_window\"\n",
    "# timewindowdays=\"48\"\n",
    "# date='16052019'\n",
    "# time_col=\"charttime\"\n",
    "# time_var= 't_0'\n",
    "# patient_df= final_pt_df2\n",
    "\n",
    "\n",
    "# # 24 hr sensitivity\n",
    "# lower_window=0\n",
    "# upper_window=1\n",
    "# time_var=\"t_0\"\n",
    "# folder=\"24_hr_window\"\n",
    "# date='04042019'\n",
    "# timewindowdays=\"24\"\n",
    "\n",
    "# # # 48 hr sensitivity\n",
    "# lower_window=0\n",
    "# upper_window=2\n",
    "# time_var=\"t_0\"\n",
    "# folder=\"48_hr_window\"\n",
    "# date='16052019'\n",
    "# timewindowdays=\"48\"\n",
    "\n",
    "\n",
    "# # # 78 hr elixhauser-redo \n",
    "# lower_window=0\n",
    "# upper_window=3\n",
    "# folder=\"72_hr_window\"\n",
    "# date='11062019'\n",
    "# time_col=\"charttime\"\n",
    "# time_var= 't_0'\n",
    "# timewindowdays=\"72\"\n",
    "\n",
    "\n",
    "os.chdir(r'/Users/geickelb1/Documents/GitHub/mimiciii-antibiotics-modeling/data/processed/') #folder with all prepped clinical data stored in date_file_prepped.csv format\n",
    "allFiles = glob.glob(os.getcwd() + \"/{}_*.csv\".format(date))"
   ]
  },
  {
   "cell_type": "code",
   "execution_count": 62,
   "metadata": {},
   "outputs": [
    {
     "data": {
      "text/plain": [
       "'/Users/geickelb1/Documents/GitHub/mimiciii-antibiotics-modeling/data/processed'"
      ]
     },
     "execution_count": 62,
     "metadata": {},
     "output_type": "execute_result"
    },
    {
     "name": "stdout",
     "output_type": "stream",
     "text": [
      "time: 2.14 ms\n"
     ]
    }
   ],
   "source": [
    "os.getcwd()"
   ]
  },
  {
   "cell_type": "code",
   "execution_count": 63,
   "metadata": {},
   "outputs": [
    {
     "data": {
      "text/plain": [
       "['/Users/geickelb1/Documents/GitHub/mimiciii-antibiotics-modeling/data/processed/16052019_leuk_prepped.csv',\n",
       " '/Users/geickelb1/Documents/GitHub/mimiciii-antibiotics-modeling/data/processed/16052019_vasopressin_prepped.csv',\n",
       " '/Users/geickelb1/Documents/GitHub/mimiciii-antibiotics-modeling/data/processed/16052019_bg_ART_prepped.csv',\n",
       " '/Users/geickelb1/Documents/GitHub/mimiciii-antibiotics-modeling/data/processed/16052019_rrt_prepped.csv',\n",
       " '/Users/geickelb1/Documents/GitHub/mimiciii-antibiotics-modeling/data/processed/16052019_epinephrine_prepped.csv',\n",
       " '/Users/geickelb1/Documents/GitHub/mimiciii-antibiotics-modeling/data/processed/16052019_pt_info_prepped.csv',\n",
       " '/Users/geickelb1/Documents/GitHub/mimiciii-antibiotics-modeling/data/processed/16052019_ventcategory_prepped.csv',\n",
       " '/Users/geickelb1/Documents/GitHub/mimiciii-antibiotics-modeling/data/processed/16052019_height_prepped.csv',\n",
       " '/Users/geickelb1/Documents/GitHub/mimiciii-antibiotics-modeling/data/processed/16052019_norepinephrine_prepped.csv',\n",
       " '/Users/geickelb1/Documents/GitHub/mimiciii-antibiotics-modeling/data/processed/16052019_weight_prepped.csv',\n",
       " '/Users/geickelb1/Documents/GitHub/mimiciii-antibiotics-modeling/data/processed/16052019_gcs_prepped.csv',\n",
       " '/Users/geickelb1/Documents/GitHub/mimiciii-antibiotics-modeling/data/processed/16052019_labs_prepped.csv',\n",
       " '/Users/geickelb1/Documents/GitHub/mimiciii-antibiotics-modeling/data/processed/16052019_dobutamine_prepped.csv',\n",
       " '/Users/geickelb1/Documents/GitHub/mimiciii-antibiotics-modeling/data/processed/16052019_vitals_prepped.csv',\n",
       " '/Users/geickelb1/Documents/GitHub/mimiciii-antibiotics-modeling/data/processed/16052019_phenylephrine_prepped.csv',\n",
       " '/Users/geickelb1/Documents/GitHub/mimiciii-antibiotics-modeling/data/processed/16052019_dopamine_prepped.csv',\n",
       " '/Users/geickelb1/Documents/GitHub/mimiciii-antibiotics-modeling/data/processed/16052019_o2_flow_prepped.csv',\n",
       " '/Users/geickelb1/Documents/GitHub/mimiciii-antibiotics-modeling/data/processed/16052019_nit_prepped.csv',\n",
       " '/Users/geickelb1/Documents/GitHub/mimiciii-antibiotics-modeling/data/processed/16052019_pafaRatio_prepped.csv',\n",
       " '/Users/geickelb1/Documents/GitHub/mimiciii-antibiotics-modeling/data/processed/16052019_cancer_elix_prepped.csv',\n",
       " '/Users/geickelb1/Documents/GitHub/mimiciii-antibiotics-modeling/data/processed/16052019_sofa_prepped.csv',\n",
       " '/Users/geickelb1/Documents/GitHub/mimiciii-antibiotics-modeling/data/processed/16052019_bg_all_prepped.csv',\n",
       " '/Users/geickelb1/Documents/GitHub/mimiciii-antibiotics-modeling/data/processed/16052019_sum_elix_prepped.csv']"
      ]
     },
     "execution_count": 63,
     "metadata": {},
     "output_type": "execute_result"
    },
    {
     "name": "stdout",
     "output_type": "stream",
     "text": [
      "time: 2.54 ms\n"
     ]
    }
   ],
   "source": [
    "allFiles  #need to rerun 03.1-clinical_variables and have a new date to make it easier. "
   ]
  },
  {
   "cell_type": "code",
   "execution_count": 64,
   "metadata": {},
   "outputs": [
    {
     "name": "stderr",
     "output_type": "stream",
     "text": [
      "/Users/geickelb1/anaconda/envs/rpy-env/lib/python3.6/site-packages/IPython/core/interactiveshell.py:2728: DtypeWarning: Columns (8) have mixed types. Specify dtype option on import or set low_memory=False.\n",
      "  interactivity=interactivity, compiler=compiler, result=result)\n",
      "/Users/geickelb1/anaconda/envs/rpy-env/lib/python3.6/site-packages/numpy/lib/arraysetops.py:569: FutureWarning: elementwise comparison failed; returning scalar instead, but in the future will perform elementwise comparison\n",
      "  mask |= (ar1 == a)\n"
     ]
    },
    {
     "name": "stdout",
     "output_type": "stream",
     "text": [
      "time: 9.62 s\n"
     ]
    }
   ],
   "source": [
    "#making a dictionary of all my dataframes for easier cycling through\n",
    "\n",
    "df_list=[]\n",
    "for element in allFiles:\n",
    "    df_list.append(element.split('{}_'.format(date))[1].split('_prepped.csv')[0]) #making an list of all my dataframes in order they appear in file\n",
    "\n",
    "dfs = {}\n",
    "i=0\n",
    "for name in df_list:\n",
    "    dfs[name] = pd.read_csv(allFiles[i],  index_col=0)\n",
    "    i+=1"
   ]
  },
  {
   "cell_type": "code",
   "execution_count": 65,
   "metadata": {},
   "outputs": [
    {
     "name": "stdout",
     "output_type": "stream",
     "text": [
      "leuk : ['hadm_id', 'icustay_id', 'subject_id', 't_0', 'delta', 'value', 'label', 'uom']\n",
      "vasopressin : ['icustay_id', 't_0', 'value', 'label', 'uom', 'delta']\n",
      "bg_ART : ['delta', 'hadm_id', 'icustay_id', 'label', 'subject_id', 't_0', 'uom', 'value']\n",
      "rrt : ['icustay_id', 't_0', 'value', 'label', 'uom', 'delta']\n",
      "epinephrine : ['icustay_id', 't_0', 'value', 'label', 'uom', 'delta']\n",
      "pt_info : ['icustay_id', 'subject_id', 't_0', 'label', 'value', 'delta', 'uom']\n",
      "ventcategory : ['icustay_id', 'delta', 'value', 'uom', 't_0', 'label']\n",
      "height : ['icustay_id', 'value', 'uom', 'label', 'delta', 't_0']\n",
      "norepinephrine : ['icustay_id', 't_0', 'value', 'label', 'uom', 'delta']\n",
      "weight : ['icustay_id', 'value', 'uom', 'label', 'delta', 't_0']\n",
      "gcs : ['subject_id', 'hadm_id', 'icustay_id', 'delta', 'label', 'value', 't_0', 'uom']\n",
      "labs : ['delta', 'hadm_id', 'icustay_id', 'label', 'subject_id', 't_0', 'uom', 'value']\n",
      "dobutamine : ['icustay_id', 't_0', 'value', 'label', 'uom', 'delta']\n",
      "vitals : ['subject_id', 'hadm_id', 'icustay_id', 'charttime', 'uom', 'label', 'value', 't_0', 'delta']\n",
      "phenylephrine : ['icustay_id', 't_0', 'value', 'label', 'uom', 'delta']\n",
      "dopamine : ['icustay_id', 't_0', 'value', 'label', 'uom', 'delta']\n",
      "o2_flow : ['icustay_id', 't_0', 'value', 'label', 'uom', 'delta']\n",
      "nit : ['hadm_id', 'icustay_id', 'subject_id', 't_0', 'delta', 'value', 'label', 'uom']\n",
      "pafaRatio : ['icustay_id', 'hadm_id', 't_0', 'value', 'delta', 'uom', 'label']\n",
      "cancer_elix : ['icustay_id', 't_0', 'value', 'label', 'uom', 'delta']\n",
      "sofa : ['subject_id', 'hadm_id', 'icustay_id', 'delta', 'label', 'value', 't_0', 'uom']\n",
      "bg_all : ['subject_id', 'hadm_id', 'icustay_id', 'charttime', 'delta', 't_0', 'label', 'valuenum', 'uom']\n",
      "sum_elix : ['subject_id', 'hadm_id', 'icustay_id', 'value', 'label', 'delta', 'uom', 't_0']\n",
      "time: 4.55 ms\n"
     ]
    }
   ],
   "source": [
    "#all of the column names \n",
    "for element in df_list:\n",
    "    print(element,':',list(dfs[element]))"
   ]
  },
  {
   "cell_type": "markdown",
   "metadata": {},
   "source": [
    "## standardizing columns"
   ]
  },
  {
   "cell_type": "markdown",
   "metadata": {},
   "source": [
    "#### adding icustay_id, dropping hadm_id"
   ]
  },
  {
   "cell_type": "code",
   "execution_count": 66,
   "metadata": {},
   "outputs": [
    {
     "name": "stdout",
     "output_type": "stream",
     "text": [
      "time: 401 ms\n"
     ]
    }
   ],
   "source": [
    "##dropping hadm_id from all:\n",
    "list1=[]\n",
    "for element in df_list:\n",
    "    if 'hadm_id' in (list(dfs[element])):\n",
    "        list1.append(element)\n",
    "\n",
    "for element in list1:\n",
    "    dfs[element]= dfs[element].drop('hadm_id', axis=1)"
   ]
  },
  {
   "cell_type": "code",
   "execution_count": 67,
   "metadata": {},
   "outputs": [
    {
     "name": "stdout",
     "output_type": "stream",
     "text": [
      "time: 363 ms\n"
     ]
    }
   ],
   "source": [
    "##dropping subject_id from all:\n",
    "list1=[]\n",
    "for element in df_list:\n",
    "    if 'subject_id' in (list(dfs[element])):\n",
    "        list1.append(element)\n",
    "\n",
    "for element in list1:\n",
    "    dfs[element]= dfs[element].drop('subject_id', axis=1)"
   ]
  },
  {
   "cell_type": "code",
   "execution_count": 68,
   "metadata": {},
   "outputs": [
    {
     "name": "stdout",
     "output_type": "stream",
     "text": [
      "leuk : ['delta', 'icustay_id', 'label', 't_0', 'uom', 'value']\n",
      "vasopressin : ['delta', 'icustay_id', 'label', 't_0', 'uom', 'value']\n",
      "bg_ART : ['delta', 'icustay_id', 'label', 't_0', 'uom', 'value']\n",
      "rrt : ['delta', 'icustay_id', 'label', 't_0', 'uom', 'value']\n",
      "epinephrine : ['delta', 'icustay_id', 'label', 't_0', 'uom', 'value']\n",
      "pt_info : ['delta', 'icustay_id', 'label', 't_0', 'uom', 'value']\n",
      "ventcategory : ['delta', 'icustay_id', 'label', 't_0', 'uom', 'value']\n",
      "height : ['delta', 'icustay_id', 'label', 't_0', 'uom', 'value']\n",
      "norepinephrine : ['delta', 'icustay_id', 'label', 't_0', 'uom', 'value']\n",
      "weight : ['delta', 'icustay_id', 'label', 't_0', 'uom', 'value']\n",
      "gcs : ['delta', 'icustay_id', 'label', 't_0', 'uom', 'value']\n",
      "labs : ['delta', 'icustay_id', 'label', 't_0', 'uom', 'value']\n",
      "dobutamine : ['delta', 'icustay_id', 'label', 't_0', 'uom', 'value']\n",
      "vitals : ['charttime', 'delta', 'icustay_id', 'label', 't_0', 'uom', 'value']\n",
      "phenylephrine : ['delta', 'icustay_id', 'label', 't_0', 'uom', 'value']\n",
      "dopamine : ['delta', 'icustay_id', 'label', 't_0', 'uom', 'value']\n",
      "o2_flow : ['delta', 'icustay_id', 'label', 't_0', 'uom', 'value']\n",
      "nit : ['delta', 'icustay_id', 'label', 't_0', 'uom', 'value']\n",
      "pafaRatio : ['delta', 'icustay_id', 'label', 't_0', 'uom', 'value']\n",
      "cancer_elix : ['delta', 'icustay_id', 'label', 't_0', 'uom', 'value']\n",
      "sofa : ['delta', 'icustay_id', 'label', 't_0', 'uom', 'value']\n",
      "bg_all : ['charttime', 'delta', 'icustay_id', 'label', 't_0', 'uom', 'valuenum']\n",
      "sum_elix : ['delta', 'icustay_id', 'label', 't_0', 'uom', 'value']\n",
      "time: 8.32 ms\n"
     ]
    }
   ],
   "source": [
    "#all of the column names \n",
    "for element in df_list:\n",
    "    print(element,':',sorted(list(dfs[element])))"
   ]
  },
  {
   "cell_type": "code",
   "execution_count": 69,
   "metadata": {},
   "outputs": [
    {
     "name": "stdout",
     "output_type": "stream",
     "text": [
      "time: 333 ms\n"
     ]
    }
   ],
   "source": [
    "#dropping charttime, endtime and first_charttime\n",
    "\n",
    "list1=[]\n",
    "list2=[]\n",
    "for element in df_list:\n",
    "    if 'charttime' in (list(dfs[element])):\n",
    "        list1.append(element)\n",
    "    if 'endtime' in (list(dfs[element])):\n",
    "        list2.append(element)\n",
    "\n",
    "for element in list1:\n",
    "    dfs[element]= dfs[element].drop('charttime', axis=1)\n",
    "\n",
    "for element in list2:\n",
    "    dfs[element]= dfs[element].drop('endtime', axis=1)\n",
    "    \n",
    "#dfs['rrt']= dfs['rrt'].drop('first_charttime', axis=1)"
   ]
  },
  {
   "cell_type": "code",
   "execution_count": 70,
   "metadata": {},
   "outputs": [
    {
     "name": "stdout",
     "output_type": "stream",
     "text": [
      "time: 120 ms\n"
     ]
    }
   ],
   "source": [
    "#converting valuenum and value to same label\n",
    "list1=[]\n",
    "\n",
    "for element in df_list:\n",
    "    if 'valuenum' in (list(dfs[element])):\n",
    "        list1.append(element)\n",
    "\n",
    "for element in list1:\n",
    "    dfs[element]= dfs[element].rename(index=str, columns={'valuenum':'value'})\n"
   ]
  },
  {
   "cell_type": "code",
   "execution_count": 71,
   "metadata": {},
   "outputs": [
    {
     "name": "stdout",
     "output_type": "stream",
     "text": [
      "time: 592 µs\n"
     ]
    }
   ],
   "source": [
    "del(list1,list2)"
   ]
  },
  {
   "cell_type": "code",
   "execution_count": 72,
   "metadata": {},
   "outputs": [
    {
     "name": "stdout",
     "output_type": "stream",
     "text": [
      "time: 999 µs\n"
     ]
    }
   ],
   "source": [
    "def label_lower(df_name):\n",
    "    dfs[df_name]['label']= dfs[df_name]['label'].apply(lambda x: x.lower())"
   ]
  },
  {
   "cell_type": "code",
   "execution_count": 73,
   "metadata": {},
   "outputs": [
    {
     "name": "stdout",
     "output_type": "stream",
     "text": [
      "time: 1.82 s\n"
     ]
    }
   ],
   "source": [
    "#turning all labels to lowercase\n",
    "for element in df_list:\n",
    "    label_lower(element)\n"
   ]
  },
  {
   "cell_type": "code",
   "execution_count": 74,
   "metadata": {},
   "outputs": [
    {
     "name": "stdout",
     "output_type": "stream",
     "text": [
      "time: 2.64 s\n"
     ]
    }
   ],
   "source": [
    "#adding a df source table label to each df. \n",
    "for element in df_list:\n",
    "    dfs[element]['source']=element\n",
    "\n",
    "#adding a patient id to each\n",
    "\n",
    "for element in df_list:\n",
    "    dfs[element]= pd.merge(dfs[element], final_pt_df2[['icustay_id','subject_id']], how='left')\n",
    "    "
   ]
  },
  {
   "cell_type": "code",
   "execution_count": 75,
   "metadata": {},
   "outputs": [
    {
     "name": "stdout",
     "output_type": "stream",
     "text": [
      "leuk : ['delta', 'icustay_id', 'label', 'source', 'subject_id', 't_0', 'uom', 'value']\n",
      "vasopressin : ['delta', 'icustay_id', 'label', 'source', 'subject_id', 't_0', 'uom', 'value']\n",
      "bg_ART : ['delta', 'icustay_id', 'label', 'source', 'subject_id', 't_0', 'uom', 'value']\n",
      "rrt : ['delta', 'icustay_id', 'label', 'source', 'subject_id', 't_0', 'uom', 'value']\n",
      "epinephrine : ['delta', 'icustay_id', 'label', 'source', 'subject_id', 't_0', 'uom', 'value']\n",
      "pt_info : ['delta', 'icustay_id', 'label', 'source', 'subject_id', 't_0', 'uom', 'value']\n",
      "ventcategory : ['delta', 'icustay_id', 'label', 'source', 'subject_id', 't_0', 'uom', 'value']\n",
      "height : ['delta', 'icustay_id', 'label', 'source', 'subject_id', 't_0', 'uom', 'value']\n",
      "norepinephrine : ['delta', 'icustay_id', 'label', 'source', 'subject_id', 't_0', 'uom', 'value']\n",
      "weight : ['delta', 'icustay_id', 'label', 'source', 'subject_id', 't_0', 'uom', 'value']\n",
      "gcs : ['delta', 'icustay_id', 'label', 'source', 'subject_id', 't_0', 'uom', 'value']\n",
      "labs : ['delta', 'icustay_id', 'label', 'source', 'subject_id', 't_0', 'uom', 'value']\n",
      "dobutamine : ['delta', 'icustay_id', 'label', 'source', 'subject_id', 't_0', 'uom', 'value']\n",
      "vitals : ['delta', 'icustay_id', 'label', 'source', 'subject_id', 't_0', 'uom', 'value']\n",
      "phenylephrine : ['delta', 'icustay_id', 'label', 'source', 'subject_id', 't_0', 'uom', 'value']\n",
      "dopamine : ['delta', 'icustay_id', 'label', 'source', 'subject_id', 't_0', 'uom', 'value']\n",
      "o2_flow : ['delta', 'icustay_id', 'label', 'source', 'subject_id', 't_0', 'uom', 'value']\n",
      "nit : ['delta', 'icustay_id', 'label', 'source', 'subject_id', 't_0', 'uom', 'value']\n",
      "pafaRatio : ['delta', 'icustay_id', 'label', 'source', 'subject_id', 't_0', 'uom', 'value']\n",
      "cancer_elix : ['delta', 'icustay_id', 'label', 'source', 'subject_id', 't_0', 'uom', 'value']\n",
      "sofa : ['delta', 'icustay_id', 'label', 'source', 'subject_id', 't_0', 'uom', 'value']\n",
      "bg_all : ['delta', 'icustay_id', 'label', 'source', 'subject_id', 't_0', 'uom', 'value']\n",
      "sum_elix : ['delta', 'icustay_id', 'label', 'source', 'subject_id', 't_0', 'uom', 'value']\n",
      "time: 4.99 ms\n"
     ]
    }
   ],
   "source": [
    "#all of the column names \n",
    "for element in df_list:\n",
    "    print(element,':',sorted(list(dfs[element])))"
   ]
  },
  {
   "cell_type": "code",
   "execution_count": 76,
   "metadata": {},
   "outputs": [
    {
     "data": {
      "text/plain": [
       "count                     30231\n",
       "mean     0 days 12:56:34.480500\n",
       "std      0 days 14:25:15.030672\n",
       "min             0 days 00:00:00\n",
       "25%             0 days 00:00:00\n",
       "50%             0 days 08:13:00\n",
       "75%             0 days 23:15:00\n",
       "max             2 days 00:00:00\n",
       "Name: delta, dtype: object"
      ]
     },
     "execution_count": 76,
     "metadata": {},
     "output_type": "execute_result"
    },
    {
     "name": "stdout",
     "output_type": "stream",
     "text": [
      "time: 116 ms\n"
     ]
    }
   ],
   "source": [
    "pd.to_timedelta(dfs['norepinephrine']['delta']).describe()"
   ]
  },
  {
   "cell_type": "markdown",
   "metadata": {},
   "source": [
    "# converting data formats"
   ]
  },
  {
   "cell_type": "markdown",
   "metadata": {},
   "source": [
    "# looking at measured values"
   ]
  },
  {
   "cell_type": "code",
   "execution_count": 78,
   "metadata": {},
   "outputs": [
    {
     "data": {
      "text/plain": [
       "['leuk',\n",
       " 'vasopressin',\n",
       " 'bg_ART',\n",
       " 'rrt',\n",
       " 'epinephrine',\n",
       " 'pt_info',\n",
       " 'ventcategory',\n",
       " 'height',\n",
       " 'norepinephrine',\n",
       " 'weight',\n",
       " 'gcs',\n",
       " 'labs',\n",
       " 'dobutamine',\n",
       " 'vitals',\n",
       " 'phenylephrine',\n",
       " 'dopamine',\n",
       " 'o2_flow',\n",
       " 'nit',\n",
       " 'pafaRatio',\n",
       " 'cancer_elix',\n",
       " 'sofa',\n",
       " 'bg_all',\n",
       " 'sum_elix']"
      ]
     },
     "execution_count": 78,
     "metadata": {},
     "output_type": "execute_result"
    },
    {
     "name": "stdout",
     "output_type": "stream",
     "text": [
      "time: 1.95 ms\n"
     ]
    }
   ],
   "source": [
    "df_list"
   ]
  },
  {
   "cell_type": "code",
   "execution_count": 79,
   "metadata": {},
   "outputs": [
    {
     "name": "stdout",
     "output_type": "stream",
     "text": [
      "time: 1.25 ms\n"
     ]
    }
   ],
   "source": [
    "def value_viewer(df_name):\n",
    "    return(dfs[df_name]['label'].unique())"
   ]
  },
  {
   "cell_type": "code",
   "execution_count": 80,
   "metadata": {},
   "outputs": [
    {
     "data": {
      "text/plain": [
       "array(['pco2'], dtype=object)"
      ]
     },
     "execution_count": 80,
     "metadata": {},
     "output_type": "execute_result"
    },
    {
     "name": "stdout",
     "output_type": "stream",
     "text": [
      "time: 3.39 ms\n"
     ]
    }
   ],
   "source": [
    "value_viewer('bg_ART')"
   ]
  },
  {
   "cell_type": "code",
   "execution_count": 81,
   "metadata": {},
   "outputs": [
    {
     "data": {
      "text/plain": [
       "array(['calcium', 'lactate', 'ph', 'temperature', 'hemoglobin',\n",
       "       'potassium', 'chloride', 'glucose', 'sodium', 'bicarbonate'],\n",
       "      dtype=object)"
      ]
     },
     "execution_count": 81,
     "metadata": {},
     "output_type": "execute_result"
    },
    {
     "name": "stdout",
     "output_type": "stream",
     "text": [
      "time: 9.32 ms\n"
     ]
    }
   ],
   "source": [
    "value_viewer('bg_all')"
   ]
  },
  {
   "cell_type": "code",
   "execution_count": 82,
   "metadata": {},
   "outputs": [
    {
     "name": "stdout",
     "output_type": "stream",
     "text": [
      "time: 485 µs\n"
     ]
    }
   ],
   "source": [
    "#value_viewer('uti')"
   ]
  },
  {
   "cell_type": "code",
   "execution_count": 83,
   "metadata": {},
   "outputs": [
    {
     "data": {
      "text/plain": [
       "array(['sodium', 'bicarbonate', 'chloride', 'creatinine', 'glucose',\n",
       "       'potassium', 'bun', 'hemoglobin', 'inr', 'platelet', 'ptt', 'wbc',\n",
       "       'lactate', 'bilirubin', 'bands'], dtype=object)"
      ]
     },
     "execution_count": 83,
     "metadata": {},
     "output_type": "execute_result"
    },
    {
     "name": "stdout",
     "output_type": "stream",
     "text": [
      "time: 29.9 ms\n"
     ]
    }
   ],
   "source": [
    "value_viewer('labs')\n"
   ]
  },
  {
   "cell_type": "code",
   "execution_count": 84,
   "metadata": {},
   "outputs": [
    {
     "data": {
      "text/plain": [
       "array(['meanartpress', 'sysbp', 'heartrate', 'resprate', 'spo2',\n",
       "       'temperature', 'glucose', 'diasbp'], dtype=object)"
      ]
     },
     "execution_count": 84,
     "metadata": {},
     "output_type": "execute_result"
    },
    {
     "name": "stdout",
     "output_type": "stream",
     "text": [
      "time: 214 ms\n"
     ]
    }
   ],
   "source": [
    "value_viewer('vitals')"
   ]
  },
  {
   "cell_type": "code",
   "execution_count": 112,
   "metadata": {},
   "outputs": [
    {
     "data": {
      "text/plain": [
       "array(['first_admit_age', 'ethnicity', 'gender'], dtype=object)"
      ]
     },
     "execution_count": 112,
     "metadata": {},
     "output_type": "execute_result"
    },
    {
     "name": "stdout",
     "output_type": "stream",
     "text": [
      "time: 5.47 ms\n"
     ]
    }
   ],
   "source": [
    "value_viewer('pt_info')"
   ]
  },
  {
   "cell_type": "code",
   "execution_count": 85,
   "metadata": {},
   "outputs": [
    {
     "data": {
      "text/plain": [
       "['leuk',\n",
       " 'vasopressin',\n",
       " 'bg_ART',\n",
       " 'rrt',\n",
       " 'epinephrine',\n",
       " 'pt_info',\n",
       " 'ventcategory',\n",
       " 'height',\n",
       " 'norepinephrine',\n",
       " 'weight',\n",
       " 'gcs',\n",
       " 'labs',\n",
       " 'dobutamine',\n",
       " 'vitals',\n",
       " 'phenylephrine',\n",
       " 'dopamine',\n",
       " 'o2_flow',\n",
       " 'nit',\n",
       " 'pafaRatio',\n",
       " 'cancer_elix',\n",
       " 'sofa',\n",
       " 'bg_all',\n",
       " 'sum_elix']"
      ]
     },
     "execution_count": 85,
     "metadata": {},
     "output_type": "execute_result"
    },
    {
     "name": "stdout",
     "output_type": "stream",
     "text": [
      "time: 1.98 ms\n"
     ]
    }
   ],
   "source": [
    "list(dfs)"
   ]
  },
  {
   "cell_type": "markdown",
   "metadata": {},
   "source": [
    "# combining data"
   ]
  },
  {
   "cell_type": "code",
   "execution_count": 86,
   "metadata": {},
   "outputs": [
    {
     "data": {
      "text/plain": [
       "{'bicarbonate',\n",
       " 'chloride',\n",
       " 'glucose',\n",
       " 'hemoglobin',\n",
       " 'lactate',\n",
       " 'potassium',\n",
       " 'sodium'}"
      ]
     },
     "execution_count": 86,
     "metadata": {},
     "output_type": "execute_result"
    },
    {
     "name": "stdout",
     "output_type": "stream",
     "text": [
      "time: 38 ms\n"
     ]
    }
   ],
   "source": [
    "set(value_viewer('labs')) & set(value_viewer('bg_all'))"
   ]
  },
  {
   "cell_type": "code",
   "execution_count": 87,
   "metadata": {},
   "outputs": [
    {
     "data": {
      "text/plain": [
       "{'glucose'}"
      ]
     },
     "execution_count": 87,
     "metadata": {},
     "output_type": "execute_result"
    },
    {
     "name": "stdout",
     "output_type": "stream",
     "text": [
      "time: 240 ms\n"
     ]
    }
   ],
   "source": [
    "set(value_viewer('labs')) & set(value_viewer('vitals'))"
   ]
  },
  {
   "cell_type": "code",
   "execution_count": 88,
   "metadata": {},
   "outputs": [
    {
     "data": {
      "text/plain": [
       "{'glucose', 'temperature'}"
      ]
     },
     "execution_count": 88,
     "metadata": {},
     "output_type": "execute_result"
    },
    {
     "name": "stdout",
     "output_type": "stream",
     "text": [
      "time: 203 ms\n"
     ]
    }
   ],
   "source": [
    "set(value_viewer('bg_all')) & set(value_viewer('vitals'))"
   ]
  },
  {
   "cell_type": "code",
   "execution_count": 89,
   "metadata": {},
   "outputs": [
    {
     "name": "stdout",
     "output_type": "stream",
     "text": [
      "time: 813 µs\n"
     ]
    }
   ],
   "source": [
    "# (dfs['labs'].loc[\n",
    "#     dfs['labs'].loc[:,'label']=='glucose', ['label','value']\n",
    "# ]\n",
    "#      .groupby(['label'])\n",
    "#          .describe(percentiles=[.25, .5, .75,.95, .99])\n",
    "#               )"
   ]
  },
  {
   "cell_type": "code",
   "execution_count": 90,
   "metadata": {},
   "outputs": [
    {
     "name": "stdout",
     "output_type": "stream",
     "text": [
      "time: 899 µs\n"
     ]
    }
   ],
   "source": [
    "# (dfs['vitals'].loc[\n",
    "#     dfs['vitals'].loc[:,'label']=='glucose', ['label','value']\n",
    "# ]\n",
    "#      .groupby(['label'])\n",
    "#          .describe(percentiles=[.25, .5, .75,.95, .99])\n",
    "#               )"
   ]
  },
  {
   "cell_type": "code",
   "execution_count": 91,
   "metadata": {},
   "outputs": [
    {
     "name": "stdout",
     "output_type": "stream",
     "text": [
      "time: 1.06 ms\n"
     ]
    }
   ],
   "source": [
    "# (dfs['bg_all'].loc[\n",
    "#     dfs['bg_all'].loc[:,'label']=='glucose', ['label','valuenum']\n",
    "# ]\n",
    "#      .groupby(['label'])\n",
    "#          .describe(percentiles=[.25, .5, .75,.95, .99])\n",
    "#               )"
   ]
  },
  {
   "cell_type": "markdown",
   "metadata": {},
   "source": [
    "### merging labs together"
   ]
  },
  {
   "cell_type": "code",
   "execution_count": 92,
   "metadata": {},
   "outputs": [
    {
     "name": "stdout",
     "output_type": "stream",
     "text": [
      "time: 505 µs\n"
     ]
    }
   ],
   "source": [
    "# lab_bg_vital= pd.concat([dfs['labs'],dfs['bg_all'],dfs['vitals']], sort=False).sort_values(['icustay_id','delta','label','source'], ascending=True)"
   ]
  },
  {
   "cell_type": "code",
   "execution_count": 93,
   "metadata": {},
   "outputs": [
    {
     "name": "stdout",
     "output_type": "stream",
     "text": [
      "time: 531 µs\n"
     ]
    }
   ],
   "source": [
    "# lab_bg_vital.head()"
   ]
  },
  {
   "cell_type": "code",
   "execution_count": 94,
   "metadata": {},
   "outputs": [
    {
     "name": "stdout",
     "output_type": "stream",
     "text": [
      "time: 1.95 ms\n"
     ]
    }
   ],
   "source": [
    "# #rounding timedeltas to the 2 minute mark. \n",
    "# #pd.to_datetime(lab_bg_vital['delta'])#.dt.round('m')\n",
    "# lab_bg_vital['delta']= pd.to_timedelta(lab_bg_vital['delta'])\n",
    "# lab_bg_vital['delta']= pd.to_datetime(lab_bg_vital['delta']).dt.round('2min')\n",
    "# lab_bg_vital['delta']= pd.to_timedelta(lab_bg_vital['delta'])\n",
    "\n",
    "\n",
    "# #note this is more efficient than rounding timedeltas for some reason. "
   ]
  },
  {
   "cell_type": "code",
   "execution_count": 95,
   "metadata": {},
   "outputs": [
    {
     "name": "stdout",
     "output_type": "stream",
     "text": [
      "time: 503 µs\n"
     ]
    }
   ],
   "source": [
    "# lab_bg_vital.drop_duplicates(subset=['icustay_id','label','value','delta',], keep='last', inplace=False) #n=7001349 at 1 min, 6913527 at 2min rounding,  vs 7222647 without. "
   ]
  },
  {
   "cell_type": "code",
   "execution_count": 96,
   "metadata": {},
   "outputs": [
    {
     "name": "stdout",
     "output_type": "stream",
     "text": [
      "time: 394 µs\n"
     ]
    }
   ],
   "source": [
    "# list(lab_bg_vital['label'].unique())"
   ]
  },
  {
   "cell_type": "markdown",
   "metadata": {},
   "source": [
    "# combining all df"
   ]
  },
  {
   "cell_type": "code",
   "execution_count": 97,
   "metadata": {},
   "outputs": [
    {
     "name": "stdout",
     "output_type": "stream",
     "text": [
      "time: 569 µs\n"
     ]
    }
   ],
   "source": [
    "#testing combining all df's\n",
    "##this may not be a useful exercise, but experimenting. "
   ]
  },
  {
   "cell_type": "code",
   "execution_count": 98,
   "metadata": {},
   "outputs": [
    {
     "name": "stdout",
     "output_type": "stream",
     "text": [
      "time: 460 µs\n"
     ]
    }
   ],
   "source": [
    "#big_df= pd.concat([dfs['labs'],dfs['bg_all'],dfs['vitals']], sort=False).sort_values(['icustay_id','delta','label','source'], ascending=True)"
   ]
  },
  {
   "cell_type": "code",
   "execution_count": 99,
   "metadata": {},
   "outputs": [
    {
     "name": "stderr",
     "output_type": "stream",
     "text": [
      "/Users/geickelb1/anaconda/envs/rpy-env/lib/python3.6/site-packages/IPython/core/interactiveshell.py:2910: FutureWarning: Passing timedelta64-dtype data is deprecated, will raise a TypeError in a future version\n",
      "  exec(code_obj, self.user_global_ns, self.user_ns)\n"
     ]
    },
    {
     "name": "stdout",
     "output_type": "stream",
     "text": [
      "time: 29.5 s\n"
     ]
    },
    {
     "name": "stderr",
     "output_type": "stream",
     "text": [
      "/Users/geickelb1/anaconda/envs/rpy-env/lib/python3.6/site-packages/ipykernel_launcher.py:6: FutureWarning: Passing datetime64-dtype data to TimedeltaIndex is deprecated, will raise a TypeError in a future version\n",
      "  \n"
     ]
    }
   ],
   "source": [
    "# making one big dataframe via pd. concat\n",
    "big_df= pd.concat(dfs.values(), sort=False).sort_values(['icustay_id','delta','label','source'], ascending=True)\n",
    "#converting delta to time delta, to datetime rounded to 2 minutes, and back to time delta (more efficient than rounding timedeltas)\n",
    "big_df['delta']= pd.to_timedelta(big_df['delta'])\n",
    "big_df['delta']= pd.to_datetime(big_df['delta']).dt.round('2min')\n",
    "big_df['delta']= pd.to_timedelta(big_df['delta'])"
   ]
  },
  {
   "cell_type": "code",
   "execution_count": 100,
   "metadata": {},
   "outputs": [
    {
     "data": {
      "text/plain": [
       "5663255"
      ]
     },
     "execution_count": 100,
     "metadata": {},
     "output_type": "execute_result"
    },
    {
     "name": "stdout",
     "output_type": "stream",
     "text": [
      "time: 2.3 ms\n"
     ]
    }
   ],
   "source": [
    "len(big_df)"
   ]
  },
  {
   "cell_type": "code",
   "execution_count": 101,
   "metadata": {},
   "outputs": [
    {
     "name": "stdout",
     "output_type": "stream",
     "text": [
      "time: 2.63 s\n"
     ]
    }
   ],
   "source": [
    "big_df= big_df.drop_duplicates(subset=['icustay_id','label','value','delta',], keep='last', inplace=False) #7638425  -> 7315304 at 2 min. "
   ]
  },
  {
   "cell_type": "code",
   "execution_count": 102,
   "metadata": {},
   "outputs": [
    {
     "data": {
      "text/plain": [
       "5427646"
      ]
     },
     "execution_count": 102,
     "metadata": {},
     "output_type": "execute_result"
    },
    {
     "name": "stdout",
     "output_type": "stream",
     "text": [
      "time: 2.13 ms\n"
     ]
    }
   ],
   "source": [
    "len(big_df)"
   ]
  },
  {
   "cell_type": "code",
   "execution_count": 103,
   "metadata": {},
   "outputs": [
    {
     "name": "stdout",
     "output_type": "stream",
     "text": [
      "time: 727 µs\n"
     ]
    }
   ],
   "source": [
    "#big_df['sum_elix']"
   ]
  },
  {
   "cell_type": "code",
   "execution_count": 104,
   "metadata": {},
   "outputs": [
    {
     "data": {
      "text/html": [
       "<div>\n",
       "<style scoped>\n",
       "    .dataframe tbody tr th:only-of-type {\n",
       "        vertical-align: middle;\n",
       "    }\n",
       "\n",
       "    .dataframe tbody tr th {\n",
       "        vertical-align: top;\n",
       "    }\n",
       "\n",
       "    .dataframe thead th {\n",
       "        text-align: right;\n",
       "    }\n",
       "</style>\n",
       "<table border=\"1\" class=\"dataframe\">\n",
       "  <thead>\n",
       "    <tr style=\"text-align: right;\">\n",
       "      <th></th>\n",
       "      <th>count</th>\n",
       "      <th>unique</th>\n",
       "      <th>top</th>\n",
       "      <th>freq</th>\n",
       "    </tr>\n",
       "    <tr>\n",
       "      <th>label</th>\n",
       "      <th></th>\n",
       "      <th></th>\n",
       "      <th></th>\n",
       "      <th></th>\n",
       "    </tr>\n",
       "  </thead>\n",
       "  <tbody>\n",
       "    <tr>\n",
       "      <th>bands</th>\n",
       "      <td>14181</td>\n",
       "      <td>3</td>\n",
       "      <td>absent</td>\n",
       "      <td>11919</td>\n",
       "    </tr>\n",
       "    <tr>\n",
       "      <th>bicarbonate</th>\n",
       "      <td>45045</td>\n",
       "      <td>56</td>\n",
       "      <td>23</td>\n",
       "      <td>3720</td>\n",
       "    </tr>\n",
       "    <tr>\n",
       "      <th>bilirubin</th>\n",
       "      <td>13459</td>\n",
       "      <td>370</td>\n",
       "      <td>0.4</td>\n",
       "      <td>1163</td>\n",
       "    </tr>\n",
       "    <tr>\n",
       "      <th>bun</th>\n",
       "      <td>44760</td>\n",
       "      <td>198</td>\n",
       "      <td>14</td>\n",
       "      <td>1345</td>\n",
       "    </tr>\n",
       "    <tr>\n",
       "      <th>calcium</th>\n",
       "      <td>22687</td>\n",
       "      <td>167</td>\n",
       "      <td>1.13</td>\n",
       "      <td>1158</td>\n",
       "    </tr>\n",
       "    <tr>\n",
       "      <th>cancer_elix</th>\n",
       "      <td>14181</td>\n",
       "      <td>2</td>\n",
       "      <td>0</td>\n",
       "      <td>12439</td>\n",
       "    </tr>\n",
       "    <tr>\n",
       "      <th>chloride</th>\n",
       "      <td>49703</td>\n",
       "      <td>86</td>\n",
       "      <td>106</td>\n",
       "      <td>3183</td>\n",
       "    </tr>\n",
       "    <tr>\n",
       "      <th>creatinine</th>\n",
       "      <td>44947</td>\n",
       "      <td>182</td>\n",
       "      <td>0.7</td>\n",
       "      <td>3699</td>\n",
       "    </tr>\n",
       "    <tr>\n",
       "      <th>daily_sofa</th>\n",
       "      <td>30669</td>\n",
       "      <td>23</td>\n",
       "      <td>1</td>\n",
       "      <td>5664</td>\n",
       "    </tr>\n",
       "    <tr>\n",
       "      <th>diasbp</th>\n",
       "      <td>666148</td>\n",
       "      <td>193</td>\n",
       "      <td>56</td>\n",
       "      <td>21109</td>\n",
       "    </tr>\n",
       "    <tr>\n",
       "      <th>dobutamine</th>\n",
       "      <td>15143</td>\n",
       "      <td>2</td>\n",
       "      <td>0</td>\n",
       "      <td>13970</td>\n",
       "    </tr>\n",
       "    <tr>\n",
       "      <th>dopamine</th>\n",
       "      <td>18114</td>\n",
       "      <td>2</td>\n",
       "      <td>0</td>\n",
       "      <td>13363</td>\n",
       "    </tr>\n",
       "    <tr>\n",
       "      <th>epinephrine</th>\n",
       "      <td>15517</td>\n",
       "      <td>2</td>\n",
       "      <td>0</td>\n",
       "      <td>13903</td>\n",
       "    </tr>\n",
       "    <tr>\n",
       "      <th>ethnicity</th>\n",
       "      <td>14181</td>\n",
       "      <td>5</td>\n",
       "      <td>white/nonhispanic</td>\n",
       "      <td>10330</td>\n",
       "    </tr>\n",
       "    <tr>\n",
       "      <th>first_admit_age</th>\n",
       "      <td>14181</td>\n",
       "      <td>5008</td>\n",
       "      <td>300.0</td>\n",
       "      <td>890</td>\n",
       "    </tr>\n",
       "    <tr>\n",
       "      <th>gender</th>\n",
       "      <td>14181</td>\n",
       "      <td>2</td>\n",
       "      <td>M</td>\n",
       "      <td>7776</td>\n",
       "    </tr>\n",
       "    <tr>\n",
       "      <th>glucose</th>\n",
       "      <td>164088</td>\n",
       "      <td>699</td>\n",
       "      <td>117</td>\n",
       "      <td>1755</td>\n",
       "    </tr>\n",
       "    <tr>\n",
       "      <th>heartrate</th>\n",
       "      <td>689493</td>\n",
       "      <td>202</td>\n",
       "      <td>80</td>\n",
       "      <td>18098</td>\n",
       "    </tr>\n",
       "    <tr>\n",
       "      <th>height</th>\n",
       "      <td>9339</td>\n",
       "      <td>126</td>\n",
       "      <td>177.8</td>\n",
       "      <td>607</td>\n",
       "    </tr>\n",
       "    <tr>\n",
       "      <th>hemoglobin</th>\n",
       "      <td>47377</td>\n",
       "      <td>170</td>\n",
       "      <td>10.1</td>\n",
       "      <td>1103</td>\n",
       "    </tr>\n",
       "    <tr>\n",
       "      <th>inr</th>\n",
       "      <td>29405</td>\n",
       "      <td>172</td>\n",
       "      <td>1.2</td>\n",
       "      <td>4376</td>\n",
       "    </tr>\n",
       "    <tr>\n",
       "      <th>lactate</th>\n",
       "      <td>29062</td>\n",
       "      <td>276</td>\n",
       "      <td>1.2</td>\n",
       "      <td>1352</td>\n",
       "    </tr>\n",
       "    <tr>\n",
       "      <th>leukocyte</th>\n",
       "      <td>14181</td>\n",
       "      <td>2</td>\n",
       "      <td>Neg/Not_tested</td>\n",
       "      <td>12288</td>\n",
       "    </tr>\n",
       "    <tr>\n",
       "      <th>meanartpress</th>\n",
       "      <td>676749</td>\n",
       "      <td>581</td>\n",
       "      <td>72</td>\n",
       "      <td>18092</td>\n",
       "    </tr>\n",
       "    <tr>\n",
       "      <th>mingcs</th>\n",
       "      <td>5782</td>\n",
       "      <td>13</td>\n",
       "      <td>15</td>\n",
       "      <td>2188</td>\n",
       "    </tr>\n",
       "    <tr>\n",
       "      <th>nitrite</th>\n",
       "      <td>14181</td>\n",
       "      <td>2</td>\n",
       "      <td>Neg/Not_tested</td>\n",
       "      <td>13816</td>\n",
       "    </tr>\n",
       "    <tr>\n",
       "      <th>norepinephrine</th>\n",
       "      <td>30223</td>\n",
       "      <td>2</td>\n",
       "      <td>1</td>\n",
       "      <td>18782</td>\n",
       "    </tr>\n",
       "    <tr>\n",
       "      <th>o2_flow</th>\n",
       "      <td>14363</td>\n",
       "      <td>2</td>\n",
       "      <td>0</td>\n",
       "      <td>13582</td>\n",
       "    </tr>\n",
       "    <tr>\n",
       "      <th>pao2fio2ratio</th>\n",
       "      <td>14181</td>\n",
       "      <td>998</td>\n",
       "      <td>476</td>\n",
       "      <td>8968</td>\n",
       "    </tr>\n",
       "    <tr>\n",
       "      <th>pco2</th>\n",
       "      <td>14181</td>\n",
       "      <td>3</td>\n",
       "      <td>absent</td>\n",
       "      <td>8967</td>\n",
       "    </tr>\n",
       "    <tr>\n",
       "      <th>ph</th>\n",
       "      <td>54062</td>\n",
       "      <td>101</td>\n",
       "      <td>7.4</td>\n",
       "      <td>2828</td>\n",
       "    </tr>\n",
       "    <tr>\n",
       "      <th>phenylephrine</th>\n",
       "      <td>23938</td>\n",
       "      <td>2</td>\n",
       "      <td>0</td>\n",
       "      <td>12074</td>\n",
       "    </tr>\n",
       "    <tr>\n",
       "      <th>platelet</th>\n",
       "      <td>41168</td>\n",
       "      <td>863</td>\n",
       "      <td>162</td>\n",
       "      <td>186</td>\n",
       "    </tr>\n",
       "    <tr>\n",
       "      <th>potassium</th>\n",
       "      <td>62987</td>\n",
       "      <td>103</td>\n",
       "      <td>4</td>\n",
       "      <td>4419</td>\n",
       "    </tr>\n",
       "    <tr>\n",
       "      <th>ptt</th>\n",
       "      <td>30822</td>\n",
       "      <td>1188</td>\n",
       "      <td>150</td>\n",
       "      <td>779</td>\n",
       "    </tr>\n",
       "    <tr>\n",
       "      <th>resprate</th>\n",
       "      <td>724349</td>\n",
       "      <td>69</td>\n",
       "      <td>20</td>\n",
       "      <td>57711</td>\n",
       "    </tr>\n",
       "    <tr>\n",
       "      <th>rrt</th>\n",
       "      <td>14181</td>\n",
       "      <td>2</td>\n",
       "      <td>0</td>\n",
       "      <td>13094</td>\n",
       "    </tr>\n",
       "    <tr>\n",
       "      <th>sodium</th>\n",
       "      <td>52043</td>\n",
       "      <td>82</td>\n",
       "      <td>139</td>\n",
       "      <td>4675</td>\n",
       "    </tr>\n",
       "    <tr>\n",
       "      <th>spo2</th>\n",
       "      <td>660468</td>\n",
       "      <td>101</td>\n",
       "      <td>100</td>\n",
       "      <td>153639</td>\n",
       "    </tr>\n",
       "    <tr>\n",
       "      <th>sum_elix</th>\n",
       "      <td>15226</td>\n",
       "      <td>13</td>\n",
       "      <td>0</td>\n",
       "      <td>10058</td>\n",
       "    </tr>\n",
       "    <tr>\n",
       "      <th>sysbp</th>\n",
       "      <td>669313</td>\n",
       "      <td>232</td>\n",
       "      <td>108</td>\n",
       "      <td>12576</td>\n",
       "    </tr>\n",
       "    <tr>\n",
       "      <th>temperature</th>\n",
       "      <td>206107</td>\n",
       "      <td>559</td>\n",
       "      <td>36.6667</td>\n",
       "      <td>5589</td>\n",
       "    </tr>\n",
       "    <tr>\n",
       "      <th>vasopressin</th>\n",
       "      <td>16485</td>\n",
       "      <td>2</td>\n",
       "      <td>0</td>\n",
       "      <td>13808</td>\n",
       "    </tr>\n",
       "    <tr>\n",
       "      <th>vent_recieved</th>\n",
       "      <td>14049</td>\n",
       "      <td>3</td>\n",
       "      <td>Mech</td>\n",
       "      <td>7026</td>\n",
       "    </tr>\n",
       "    <tr>\n",
       "      <th>wbc</th>\n",
       "      <td>39791</td>\n",
       "      <td>754</td>\n",
       "      <td>8.8</td>\n",
       "      <td>326</td>\n",
       "    </tr>\n",
       "    <tr>\n",
       "      <th>weight</th>\n",
       "      <td>12895</td>\n",
       "      <td>1400</td>\n",
       "      <td>70</td>\n",
       "      <td>246</td>\n",
       "    </tr>\n",
       "  </tbody>\n",
       "</table>\n",
       "</div>"
      ],
      "text/plain": [
       "                  count unique                top    freq\n",
       "label                                                    \n",
       "bands             14181      3             absent   11919\n",
       "bicarbonate       45045     56                 23    3720\n",
       "bilirubin         13459    370                0.4    1163\n",
       "bun               44760    198                 14    1345\n",
       "calcium           22687    167               1.13    1158\n",
       "cancer_elix       14181      2                  0   12439\n",
       "chloride          49703     86                106    3183\n",
       "creatinine        44947    182                0.7    3699\n",
       "daily_sofa        30669     23                  1    5664\n",
       "diasbp           666148    193                 56   21109\n",
       "dobutamine        15143      2                  0   13970\n",
       "dopamine          18114      2                  0   13363\n",
       "epinephrine       15517      2                  0   13903\n",
       "ethnicity         14181      5  white/nonhispanic   10330\n",
       "first_admit_age   14181   5008              300.0     890\n",
       "gender            14181      2                  M    7776\n",
       "glucose          164088    699                117    1755\n",
       "heartrate        689493    202                 80   18098\n",
       "height             9339    126              177.8     607\n",
       "hemoglobin        47377    170               10.1    1103\n",
       "inr               29405    172                1.2    4376\n",
       "lactate           29062    276                1.2    1352\n",
       "leukocyte         14181      2     Neg/Not_tested   12288\n",
       "meanartpress     676749    581                 72   18092\n",
       "mingcs             5782     13                 15    2188\n",
       "nitrite           14181      2     Neg/Not_tested   13816\n",
       "norepinephrine    30223      2                  1   18782\n",
       "o2_flow           14363      2                  0   13582\n",
       "pao2fio2ratio     14181    998                476    8968\n",
       "pco2              14181      3             absent    8967\n",
       "ph                54062    101                7.4    2828\n",
       "phenylephrine     23938      2                  0   12074\n",
       "platelet          41168    863                162     186\n",
       "potassium         62987    103                  4    4419\n",
       "ptt               30822   1188                150     779\n",
       "resprate         724349     69                 20   57711\n",
       "rrt               14181      2                  0   13094\n",
       "sodium            52043     82                139    4675\n",
       "spo2             660468    101                100  153639\n",
       "sum_elix          15226     13                  0   10058\n",
       "sysbp            669313    232                108   12576\n",
       "temperature      206107    559            36.6667    5589\n",
       "vasopressin       16485      2                  0   13808\n",
       "vent_recieved     14049      3               Mech    7026\n",
       "wbc               39791    754                8.8     326\n",
       "weight            12895   1400                 70     246"
      ]
     },
     "execution_count": 104,
     "metadata": {},
     "output_type": "execute_result"
    },
    {
     "name": "stdout",
     "output_type": "stream",
     "text": [
      "time: 1.93 s\n"
     ]
    }
   ],
   "source": [
    "big_df.groupby('label')['value'].describe() #14478 icustay_id's"
   ]
  },
  {
   "cell_type": "code",
   "execution_count": 105,
   "metadata": {},
   "outputs": [
    {
     "data": {
      "text/plain": [
       "array(['cancer_elix', 'daily_sofa', 'dobutamine', 'dopamine',\n",
       "       'epinephrine', 'ethnicity', 'first_admit_age', 'gender',\n",
       "       'norepinephrine', 'o2_flow', 'pao2fio2ratio', 'pco2',\n",
       "       'phenylephrine', 'rrt', 'sum_elix', 'vasopressin', 'vent_recieved',\n",
       "       'weight', 'lactate', 'mingcs', 'diasbp', 'heartrate',\n",
       "       'meanartpress', 'resprate', 'spo2', 'sysbp', 'temperature',\n",
       "       'bands', 'hemoglobin', 'platelet', 'wbc', 'leukocyte', 'nitrite',\n",
       "       'height', 'calcium', 'glucose', 'ph', 'bicarbonate', 'bun',\n",
       "       'chloride', 'creatinine', 'inr', 'potassium', 'ptt', 'sodium',\n",
       "       'bilirubin'], dtype=object)"
      ]
     },
     "execution_count": 105,
     "metadata": {},
     "output_type": "execute_result"
    },
    {
     "name": "stdout",
     "output_type": "stream",
     "text": [
      "time: 470 ms\n"
     ]
    }
   ],
   "source": [
    "big_df['label'].unique()"
   ]
  },
  {
   "cell_type": "code",
   "execution_count": 106,
   "metadata": {},
   "outputs": [
    {
     "data": {
      "text/html": [
       "<div>\n",
       "<style scoped>\n",
       "    .dataframe tbody tr th:only-of-type {\n",
       "        vertical-align: middle;\n",
       "    }\n",
       "\n",
       "    .dataframe tbody tr th {\n",
       "        vertical-align: top;\n",
       "    }\n",
       "\n",
       "    .dataframe thead th {\n",
       "        text-align: right;\n",
       "    }\n",
       "</style>\n",
       "<table border=\"1\" class=\"dataframe\">\n",
       "  <thead>\n",
       "    <tr style=\"text-align: right;\">\n",
       "      <th></th>\n",
       "      <th>icustay_id</th>\n",
       "      <th>t_0</th>\n",
       "      <th>delta</th>\n",
       "      <th>value</th>\n",
       "      <th>label</th>\n",
       "      <th>uom</th>\n",
       "      <th>source</th>\n",
       "      <th>subject_id</th>\n",
       "    </tr>\n",
       "  </thead>\n",
       "  <tbody>\n",
       "    <tr>\n",
       "      <th>6198</th>\n",
       "      <td>200012.0</td>\n",
       "      <td>2153-12-23</td>\n",
       "      <td>1 days</td>\n",
       "      <td>Neg/Not_tested</td>\n",
       "      <td>leukocyte</td>\n",
       "      <td>pos/neg category</td>\n",
       "      <td>leuk</td>\n",
       "      <td>28448</td>\n",
       "    </tr>\n",
       "    <tr>\n",
       "      <th>1525</th>\n",
       "      <td>200014.0</td>\n",
       "      <td>2105-02-17</td>\n",
       "      <td>1 days</td>\n",
       "      <td>Neg/Not_tested</td>\n",
       "      <td>leukocyte</td>\n",
       "      <td>pos/neg category</td>\n",
       "      <td>leuk</td>\n",
       "      <td>9514</td>\n",
       "    </tr>\n",
       "    <tr>\n",
       "      <th>4469</th>\n",
       "      <td>200019.0</td>\n",
       "      <td>2178-07-09</td>\n",
       "      <td>1 days</td>\n",
       "      <td>Neg/Not_tested</td>\n",
       "      <td>leukocyte</td>\n",
       "      <td>pos/neg category</td>\n",
       "      <td>leuk</td>\n",
       "      <td>21789</td>\n",
       "    </tr>\n",
       "    <tr>\n",
       "      <th>2820</th>\n",
       "      <td>200030.0</td>\n",
       "      <td>2150-11-14</td>\n",
       "      <td>1 days</td>\n",
       "      <td>Neg/Not_tested</td>\n",
       "      <td>leukocyte</td>\n",
       "      <td>pos/neg category</td>\n",
       "      <td>leuk</td>\n",
       "      <td>14987</td>\n",
       "    </tr>\n",
       "    <tr>\n",
       "      <th>9256</th>\n",
       "      <td>200033.0</td>\n",
       "      <td>2198-08-11</td>\n",
       "      <td>1 days</td>\n",
       "      <td>Neg/Not_tested</td>\n",
       "      <td>leukocyte</td>\n",
       "      <td>pos/neg category</td>\n",
       "      <td>leuk</td>\n",
       "      <td>56369</td>\n",
       "    </tr>\n",
       "  </tbody>\n",
       "</table>\n",
       "</div>"
      ],
      "text/plain": [
       "      icustay_id         t_0  delta           value      label  \\\n",
       "6198    200012.0  2153-12-23 1 days  Neg/Not_tested  leukocyte   \n",
       "1525    200014.0  2105-02-17 1 days  Neg/Not_tested  leukocyte   \n",
       "4469    200019.0  2178-07-09 1 days  Neg/Not_tested  leukocyte   \n",
       "2820    200030.0  2150-11-14 1 days  Neg/Not_tested  leukocyte   \n",
       "9256    200033.0  2198-08-11 1 days  Neg/Not_tested  leukocyte   \n",
       "\n",
       "                   uom source  subject_id  \n",
       "6198  pos/neg category   leuk       28448  \n",
       "1525  pos/neg category   leuk        9514  \n",
       "4469  pos/neg category   leuk       21789  \n",
       "2820  pos/neg category   leuk       14987  \n",
       "9256  pos/neg category   leuk       56369  "
      ]
     },
     "execution_count": 106,
     "metadata": {},
     "output_type": "execute_result"
    },
    {
     "name": "stdout",
     "output_type": "stream",
     "text": [
      "time: 387 ms\n"
     ]
    }
   ],
   "source": [
    "big_df[big_df['label']=='leukocyte'].head()"
   ]
  },
  {
   "cell_type": "code",
   "execution_count": 107,
   "metadata": {},
   "outputs": [
    {
     "data": {
      "text/plain": [
       "14181"
      ]
     },
     "execution_count": 107,
     "metadata": {},
     "output_type": "execute_result"
    },
    {
     "name": "stdout",
     "output_type": "stream",
     "text": [
      "time: 41.3 ms\n"
     ]
    }
   ],
   "source": [
    "big_df['icustay_id'].nunique() #also odd this is not 14668"
   ]
  },
  {
   "cell_type": "markdown",
   "metadata": {},
   "source": [
    "## last minute data cleaning"
   ]
  },
  {
   "cell_type": "code",
   "execution_count": 108,
   "metadata": {},
   "outputs": [
    {
     "name": "stdout",
     "output_type": "stream",
     "text": [
      "time: 542 ms\n"
     ]
    }
   ],
   "source": [
    "#removing firstpos else neg ssc col\n",
    "big_df=big_df.loc[:,list(big_df.columns!=\"first_pos_else_neg_ssc\")]"
   ]
  },
  {
   "cell_type": "code",
   "execution_count": 109,
   "metadata": {},
   "outputs": [
    {
     "data": {
      "text/plain": [
       "'/Users/geickelb1/Documents/GitHub/mimiciii-antibiotics-modeling'"
      ]
     },
     "execution_count": 109,
     "metadata": {},
     "output_type": "execute_result"
    },
    {
     "name": "stdout",
     "output_type": "stream",
     "text": [
      "time: 1.96 ms\n"
     ]
    }
   ],
   "source": [
    "wd"
   ]
  },
  {
   "cell_type": "code",
   "execution_count": 110,
   "metadata": {},
   "outputs": [
    {
     "data": {
      "text/plain": [
       "'16052019'"
      ]
     },
     "execution_count": 110,
     "metadata": {},
     "output_type": "execute_result"
    },
    {
     "name": "stdout",
     "output_type": "stream",
     "text": [
      "time: 2.74 ms\n"
     ]
    }
   ],
   "source": [
    "date"
   ]
  },
  {
   "cell_type": "code",
   "execution_count": 111,
   "metadata": {},
   "outputs": [
    {
     "name": "stdout",
     "output_type": "stream",
     "text": [
      "time: 1min 49s\n"
     ]
    }
   ],
   "source": [
    "pd.DataFrame(big_df).to_csv(Path(\n",
    "    wd+'/data/processed/merged/{}_longdf_preImp_{}.csv'.format(date,timewindowdays)))"
   ]
  },
  {
   "cell_type": "code",
   "execution_count": 56,
   "metadata": {},
   "outputs": [
    {
     "name": "stdout",
     "output_type": "stream",
     "text": [
      "time: 272 ms\n"
     ]
    }
   ],
   "source": [
    "del big_df\n",
    "del dfs"
   ]
  },
  {
   "cell_type": "markdown",
   "metadata": {},
   "source": [
    "#### making a patient missingness visualization"
   ]
  },
  {
   "cell_type": "code",
   "execution_count": 57,
   "metadata": {},
   "outputs": [
    {
     "name": "stdout",
     "output_type": "stream",
     "text": [
      "time: 778 µs\n"
     ]
    }
   ],
   "source": [
    "# #big_agg= big_df.groupby(['icustay_id','label'], as_index=False)['value'].agg(['min'])\n",
    "# big_agg= big_df.groupby(['icustay_id','label'], as_index=False)['value'].size()\n",
    "# big_agg_count= big_agg.reset_index().pivot(index='icustay_id',columns='label', values=0)#, levels='icustay_id')"
   ]
  },
  {
   "cell_type": "code",
   "execution_count": 58,
   "metadata": {},
   "outputs": [
    {
     "name": "stdout",
     "output_type": "stream",
     "text": [
      "time: 473 µs\n"
     ]
    }
   ],
   "source": [
    "# big_agg_count= big_agg.reset_index().pivot(index='icustay_id',columns='label', values=0)#, levels='icustay_id')"
   ]
  },
  {
   "cell_type": "code",
   "execution_count": 59,
   "metadata": {},
   "outputs": [
    {
     "name": "stdout",
     "output_type": "stream",
     "text": [
      "time: 437 µs\n"
     ]
    }
   ],
   "source": [
    "# big_agg_count"
   ]
  },
  {
   "cell_type": "code",
   "execution_count": 60,
   "metadata": {},
   "outputs": [
    {
     "name": "stdout",
     "output_type": "stream",
     "text": [
      "time: 434 µs\n"
     ]
    }
   ],
   "source": [
    "# sns.set(rc={'figure.figsize':(25,15)})"
   ]
  },
  {
   "cell_type": "code",
   "execution_count": 61,
   "metadata": {},
   "outputs": [
    {
     "name": "stdout",
     "output_type": "stream",
     "text": [
      "time: 1.1 ms\n"
     ]
    }
   ],
   "source": [
    "# #big_agg_min\n",
    "\n",
    "# #%matplotlib inline\n",
    "# sns.set(rc={'figure.figsize':(25,15)})\n",
    "# big_agg_count= big_agg_count.fillna(0)\n",
    "# big_agg_count = big_agg_count[big_agg_count.columns].astype(float) \n",
    "\n",
    "\n",
    "# sns.heatmap(big_agg_count,vmin=0, vmax=1, cmap=sns.color_palette(\"RdBu_r\", 5))"
   ]
  },
  {
   "cell_type": "code",
   "execution_count": 62,
   "metadata": {},
   "outputs": [
    {
     "name": "stdout",
     "output_type": "stream",
     "text": [
      "time: 475 µs\n"
     ]
    }
   ],
   "source": [
    "###f"
   ]
  },
  {
   "cell_type": "code",
   "execution_count": null,
   "metadata": {},
   "outputs": [],
   "source": []
  },
  {
   "cell_type": "code",
   "execution_count": 63,
   "metadata": {},
   "outputs": [
    {
     "name": "stdout",
     "output_type": "stream",
     "text": [
      "time: 422 µs\n"
     ]
    }
   ],
   "source": [
    "# len(list(big_agg_count)) #38 columns. "
   ]
  },
  {
   "cell_type": "code",
   "execution_count": 64,
   "metadata": {},
   "outputs": [
    {
     "name": "stdout",
     "output_type": "stream",
     "text": [
      "time: 441 µs\n"
     ]
    }
   ],
   "source": [
    "# big_agg_count"
   ]
  },
  {
   "cell_type": "code",
   "execution_count": 65,
   "metadata": {},
   "outputs": [
    {
     "name": "stdout",
     "output_type": "stream",
     "text": [
      "time: 713 µs\n"
     ]
    }
   ],
   "source": [
    "# big_agg_count[big_agg_count>0] =1\n",
    "# big_agg_pt_missing= big_agg_count.T.apply(lambda x:100*(len(list(big_agg_count))-sum(x))/len(list(big_agg_count)))\n",
    "# big_agg_pt_missing= pd.DataFrame(big_agg_pt_missing).rename(index=str, columns={0:'%_of_values_missing'})"
   ]
  },
  {
   "cell_type": "code",
   "execution_count": 66,
   "metadata": {},
   "outputs": [
    {
     "name": "stdout",
     "output_type": "stream",
     "text": [
      "time: 464 µs\n"
     ]
    }
   ],
   "source": [
    "# big_agg_pt_missing.sort_values('%_of_values_missing',ascending=False).plot()"
   ]
  },
  {
   "cell_type": "code",
   "execution_count": 67,
   "metadata": {},
   "outputs": [
    {
     "name": "stdout",
     "output_type": "stream",
     "text": [
      "time: 646 µs\n"
     ]
    }
   ],
   "source": [
    "# len(big_agg_pt_missing)"
   ]
  },
  {
   "cell_type": "code",
   "execution_count": 68,
   "metadata": {},
   "outputs": [
    {
     "name": "stdout",
     "output_type": "stream",
     "text": [
      "time: 596 µs\n"
     ]
    }
   ],
   "source": [
    "# big_agg_pt_missing.describe()"
   ]
  },
  {
   "cell_type": "code",
   "execution_count": null,
   "metadata": {},
   "outputs": [],
   "source": []
  },
  {
   "cell_type": "markdown",
   "metadata": {},
   "source": [
    "# 04-08-19: need to visualize current data. need to see matrix of patient by time. \n",
    "\n",
    "see 07.X-PatientTime for this"
   ]
  },
  {
   "cell_type": "code",
   "execution_count": 69,
   "metadata": {},
   "outputs": [
    {
     "name": "stdout",
     "output_type": "stream",
     "text": [
      "time: 1.16 ms\n"
     ]
    }
   ],
   "source": [
    "# list1=[]\n",
    "# list2=[]\n",
    "# for element in df_list:\n",
    "#     if 'value' in (list(dfs[element])):\n",
    "#         list1.append(element)\n",
    "#     if 'valuenum' in (list(dfs[element])):\n",
    "#         list2.append(element)\n",
    "\n",
    "\n"
   ]
  },
  {
   "cell_type": "code",
   "execution_count": 70,
   "metadata": {},
   "outputs": [
    {
     "name": "stdout",
     "output_type": "stream",
     "text": [
      "time: 464 µs\n"
     ]
    }
   ],
   "source": [
    "# for element in list2:\n",
    "#     print(dfs[element].groupby('label')['valuenum'].describe())"
   ]
  },
  {
   "cell_type": "code",
   "execution_count": 71,
   "metadata": {},
   "outputs": [
    {
     "name": "stdout",
     "output_type": "stream",
     "text": [
      "time: 829 µs\n"
     ]
    }
   ],
   "source": [
    "# for element in list1:\n",
    "#     print(dfs[element].groupby('label')['value'].describe())"
   ]
  },
  {
   "cell_type": "code",
   "execution_count": 72,
   "metadata": {},
   "outputs": [
    {
     "name": "stdout",
     "output_type": "stream",
     "text": [
      "time: 833 µs\n"
     ]
    }
   ],
   "source": [
    "# dfs['bg_ART'].groupby('label')['valuenum'].apply(lambda x: type(x))"
   ]
  },
  {
   "cell_type": "code",
   "execution_count": null,
   "metadata": {},
   "outputs": [],
   "source": []
  },
  {
   "cell_type": "code",
   "execution_count": null,
   "metadata": {},
   "outputs": [],
   "source": []
  },
  {
   "cell_type": "code",
   "execution_count": null,
   "metadata": {},
   "outputs": [],
   "source": []
  },
  {
   "cell_type": "code",
   "execution_count": null,
   "metadata": {},
   "outputs": [],
   "source": []
  },
  {
   "cell_type": "code",
   "execution_count": null,
   "metadata": {},
   "outputs": [],
   "source": []
  }
 ],
 "metadata": {
  "kernelspec": {
   "display_name": "Python 3",
   "language": "python",
   "name": "python3"
  },
  "language_info": {
   "codemirror_mode": {
    "name": "ipython",
    "version": 3
   },
   "file_extension": ".py",
   "mimetype": "text/x-python",
   "name": "python",
   "nbconvert_exporter": "python",
   "pygments_lexer": "ipython3",
   "version": "3.6.8"
  }
 },
 "nbformat": 4,
 "nbformat_minor": 4
}
