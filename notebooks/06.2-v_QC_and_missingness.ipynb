{
 "cells": [
  {
   "cell_type": "markdown",
   "metadata": {},
   "source": [
    "in 06.1 i defined cohort with atleast 1 SpO2 reading present. This will be the missingness analysis performed on this subset of patients. "
   ]
  },
  {
   "cell_type": "code",
   "execution_count": 1,
   "metadata": {},
   "outputs": [],
   "source": [
    "import pandas as pd\n",
    "import matplotlib.pyplot as plt\n",
    "import os\n",
    "\n",
    "from sklearn.externals.joblib import Memory\n",
    "memory = Memory(cachedir='/tmp', verbose=0)\n",
    "#@memory.cache above any def fxn.\n",
    "\n",
    "%matplotlib inline\n",
    "plt.style.use('ggplot')\n",
    "\n",
    "from notebook.services.config import ConfigManager\n",
    "cm = ConfigManager()\n",
    "cm.update('livereveal', {\n",
    "        'width': 1024,\n",
    "        'height': 768,\n",
    "        'scroll': True,\n",
    "})\n",
    "\n",
    "%load_ext autotime\n",
    "%reload_ext autotime"
   ]
  },
  {
   "cell_type": "code",
   "execution_count": 2,
   "metadata": {},
   "outputs": [
    {
     "name": "stdout",
     "output_type": "stream",
     "text": [
      "time: 86.7 ms\n"
     ]
    }
   ],
   "source": [
    "#cohort import\n",
    "\n",
    "os.chdir('/Users/geickelb1/Documents/GitHub/mimiciii-antibiotics-modeling') #use to change working directory\n",
    "wd= os.getcwd() #'/Users/geickelb1/Documents/GitHub/mimiciii-antibiotics-modeling'\n",
    "\n",
    "\n",
    "final_pt_df2 = pd.read_csv(wd + '/data/raw/csv/01102018_final_pt_df2_v.csv' , index_col=0)\n",
    "patients= list(final_pt_df2['subject_id'].unique())\n",
    "hadm_id= list(final_pt_df2['hadm_id'].unique())\n",
    "icustay_id= list(final_pt_df2['icustay_id'].unique())\n",
    "icustay_id= [int(x) for x in icustay_id]"
   ]
  },
  {
   "cell_type": "code",
   "execution_count": 3,
   "metadata": {},
   "outputs": [
    {
     "data": {
      "text/plain": [
       "12403"
      ]
     },
     "execution_count": 3,
     "metadata": {},
     "output_type": "execute_result"
    },
    {
     "name": "stdout",
     "output_type": "stream",
     "text": [
      "time: 4.01 ms\n"
     ]
    }
   ],
   "source": [
    "len(patients)"
   ]
  },
  {
   "cell_type": "code",
   "execution_count": 4,
   "metadata": {},
   "outputs": [
    {
     "name": "stderr",
     "output_type": "stream",
     "text": [
      "/Users/geickelb1/anaconda/envs/rpy-env/lib/python3.6/site-packages/numpy/lib/arraysetops.py:472: FutureWarning: elementwise comparison failed; returning scalar instead, but in the future will perform elementwise comparison\n",
      "  mask |= (ar1 == a)\n"
     ]
    },
    {
     "name": "stdout",
     "output_type": "stream",
     "text": [
      "time: 14 s\n"
     ]
    }
   ],
   "source": [
    "#reading in all of my data that is not limited to 72 hour time window between t_0 and t+72\n",
    "date= '27082018' \n",
    "\n",
    "vaso_dose_72=pd.read_csv(\n",
    "    wd+'/data/raw/csv/72_hr_window/%s_vaso_dose_72.csv' %(date), index_col=0)\n",
    "#ventsettings_72=pd.read_csv(\n",
    "#    wd+'/data/raw/csv/72_hr_window/%s_ventsettings_72.csv' %(date), index_col=0)\n",
    "\n",
    "ventcategory_df=pd.read_csv(\n",
    "    wd+'/data/raw/csv/%s_ventcategory_df.csv' %(date), index_col=0)\n",
    "\n",
    "echodata_72=pd.read_csv(\n",
    "    wd+'/data/raw/csv/72_hr_window/%s_echodata_72.csv' %(date), index_col=0)\n",
    "labs_all_nosummary_72=pd.read_csv(\n",
    "    wd+'/data/raw/csv/72_hr_window/%s_labs_all_nosummary_72.csv' %(date), index_col=0)\n",
    "\n",
    "\n",
    "weightfirstday_df=pd.read_csv(\n",
    "    wd+'/data/raw/csv/72_hr_window/%s_weightfirstday_df.csv' %(date), index_col=0)\n",
    "heightfirstday_df=pd.read_csv(\n",
    "    wd+'/data/raw/csv/72_hr_window/%s_heightfirstday_df.csv' %(date), index_col=0)\n",
    "\n",
    "vitals_all_nosummary_72=pd.read_csv(\n",
    "    wd+'/data/raw/csv/72_hr_window/%s_vitals_all_nosummary_72.csv' %(date), index_col=0)\n",
    "uti_all_72=pd.read_csv(\n",
    "    wd+'/data/raw/csv/72_hr_window/%s_uti_all_72.csv' %(date), index_col=0)\n",
    "bg_all_nosummary_72=pd.read_csv(\n",
    "    wd+'/data/raw/csv/72_hr_window/%s_bg_all_nosummary_72.csv' %(date), index_col=0)\n",
    "\n",
    "rrt_merged_allpt_df=pd.read_csv(\n",
    "    wd+'/data/raw/csv/72_hr_window/%s_rrt_merged_allpt_df.csv' %(date), index_col=0)\n",
    "gcs72_df=pd.read_csv(\n",
    "    wd+'/data/raw/csv/72_hr_window/%s_gcs72_df.csv' %(date), index_col=0)\n",
    "\n",
    "sofa_df_72=pd.read_csv(\n",
    "    wd+'/data/raw/csv/%s_sofa_df_72.csv' %(date), index_col=0)"
   ]
  },
  {
   "cell_type": "code",
   "execution_count": null,
   "metadata": {},
   "outputs": [],
   "source": [
    "final_pt_df2.head()"
   ]
  },
  {
   "cell_type": "code",
   "execution_count": null,
   "metadata": {},
   "outputs": [],
   "source": [
    "vaso_dose_72.head(20)"
   ]
  },
  {
   "cell_type": "markdown",
   "metadata": {},
   "source": [
    "# task 1: % MISSINGNESS table\n",
    "need to look for the amount of patients who are missing any value in any of the categories. want to aggregate all variables and % missingness and source into 1 dataframe"
   ]
  },
  {
   "cell_type": "code",
   "execution_count": null,
   "metadata": {},
   "outputs": [],
   "source": [
    "print(\n",
    "    labs_all_nosummary_72['hadm_id'].nunique(), #15142/15207 unique hadm_id/icustay_id\n",
    "    labs_all_nosummary_72['subject_id'].nunique() #12744/12801 unique patients in this\n",
    ")"
   ]
  },
  {
   "cell_type": "code",
   "execution_count": null,
   "metadata": {},
   "outputs": [],
   "source": [
    "def missingness_fxn(df,name, groupby,filteron):\n",
    "    \n",
    "    \"\"\"\n",
    "    input: dataframe w/ clinical data we want to assess the % missing values on.\n",
    "    output: a dataframe grouped by the different clinical variables with \n",
    "        associated % missingnss (ie how many icustays do not have this value)\n",
    "        \n",
    "    \"\"\"\n",
    "\n",
    "    missing_df= pd.DataFrame(\n",
    "        100* (1-(df.groupby(groupby)[filteron].nunique()/ len(hadm_id)))) #number of unique icustays with data /total # icustay\n",
    "    missing_df.reset_index(inplace=True)\n",
    "    missing_df= missing_df.rename(index=str, columns={\"label\":'label', filteron:'%missingness'})\n",
    "    missing_df['source']= name\n",
    "    missing_df['data_label']=groupby\n",
    "    return(missing_df)"
   ]
  },
  {
   "cell_type": "markdown",
   "metadata": {},
   "source": [
    "#### all dataframes to do %missingness on (add x when complete)\n",
    "- vaso_dose_72 : x\n",
    "- ventcategory_df : x\n",
    "- echodata_72 : ?\n",
    "- labs_all_nosummary_72 : x\n",
    "- weightfirstday_df : x\n",
    "- heightfirstday_df : x\n",
    "- vitals_all_nosummary_72 :x\n",
    "- uti_all_72 :x\n",
    "- bg_all_nosummary_72 :x\n",
    "- rrt_merged_allpt_df :x\n",
    "- gcs72_df : x\n",
    "- sofa_df_72: "
   ]
  },
  {
   "cell_type": "code",
   "execution_count": null,
   "metadata": {},
   "outputs": [],
   "source": [
    "missingness_df= pd.DataFrame()"
   ]
  },
  {
   "cell_type": "markdown",
   "metadata": {},
   "source": [
    "### labs x"
   ]
  },
  {
   "cell_type": "code",
   "execution_count": null,
   "metadata": {},
   "outputs": [],
   "source": [
    "print(\n",
    "    labs_all_nosummary_72['hadm_id'].nunique(), #15142/15207 unique hadm_id/icustay_id\n",
    "    labs_all_nosummary_72['subject_id'].nunique() #12744/12801 unique patients in this\n",
    ")"
   ]
  },
  {
   "cell_type": "code",
   "execution_count": null,
   "metadata": {},
   "outputs": [],
   "source": [
    "#na values\n",
    "labs_all_nosummary_72.loc[labs_all_nosummary_72['valuenum'].isna(),:]"
   ]
  },
  {
   "cell_type": "code",
   "execution_count": null,
   "metadata": {},
   "outputs": [],
   "source": [
    "missingness_df = pd.concat(\n",
    "    [missingness_df,\n",
    "        missingness_fxn(labs_all_nosummary_72,'labs_all_nosummary_72', 'label','icustay_id')]\n",
    ")"
   ]
  },
  {
   "cell_type": "markdown",
   "metadata": {},
   "source": [
    "### vaso_dose x"
   ]
  },
  {
   "cell_type": "code",
   "execution_count": null,
   "metadata": {},
   "outputs": [],
   "source": [
    "print(\n",
    "    vaso_dose_72['icustay_id'].nunique(), #4777/15207 unique icustay_id/icustay_id\n",
    ")"
   ]
  },
  {
   "cell_type": "code",
   "execution_count": null,
   "metadata": {},
   "outputs": [],
   "source": [
    "vaso_dose_72.head(2)"
   ]
  },
  {
   "cell_type": "code",
   "execution_count": null,
   "metadata": {},
   "outputs": [],
   "source": [
    "vaso_dose_72.loc[vaso_dose_72['vaso_rate'].isna(),:]"
   ]
  },
  {
   "cell_type": "code",
   "execution_count": null,
   "metadata": {},
   "outputs": [],
   "source": [
    "missingness_df = pd.concat(\n",
    "    [missingness_df,\n",
    "        missingness_fxn(vaso_dose_72,'vaso_dose_72', 'label','icustay_id')]\n",
    ")"
   ]
  },
  {
   "cell_type": "markdown",
   "metadata": {},
   "source": [
    "### ventcategory_df x"
   ]
  },
  {
   "cell_type": "code",
   "execution_count": null,
   "metadata": {},
   "outputs": [],
   "source": [
    "ventcategory_df.head()"
   ]
  },
  {
   "cell_type": "code",
   "execution_count": null,
   "metadata": {},
   "outputs": [],
   "source": [
    "#need to reshape the dataframe\n",
    "ventcategory_df_melt = pd.melt(ventcategory_df, id_vars=['icustay_id','t_0'], var_name='label')\n",
    "\n",
    "print(\n",
    "    ventcategory_df_melt['icustay_id'].nunique(), #15207/15207 unique icustay_id/icustay_id\n",
    ")"
   ]
  },
  {
   "cell_type": "code",
   "execution_count": null,
   "metadata": {},
   "outputs": [],
   "source": [
    "ventcategory_df_melt.head(2)"
   ]
  },
  {
   "cell_type": "code",
   "execution_count": null,
   "metadata": {},
   "outputs": [],
   "source": [
    "#na values\n",
    "ventcategory_df_melt.loc[ventcategory_df_melt['value'].isnull()]"
   ]
  },
  {
   "cell_type": "code",
   "execution_count": null,
   "metadata": {},
   "outputs": [],
   "source": [
    "missingness_df = pd.concat(\n",
    "    [missingness_df,\n",
    "        missingness_fxn(ventcategory_df_melt,'ventcategory_df', 'label','icustay_id')]\n",
    ")"
   ]
  },
  {
   "cell_type": "markdown",
   "metadata": {},
   "source": [
    "### echodata_72"
   ]
  },
  {
   "cell_type": "code",
   "execution_count": null,
   "metadata": {},
   "outputs": [],
   "source": [
    "echodata_72.head(2)"
   ]
  },
  {
   "cell_type": "code",
   "execution_count": null,
   "metadata": {},
   "outputs": [],
   "source": [
    "#num of icustay_id/hadm_id\n",
    "print(\n",
    "    echodata_72['hadm_id'].nunique(), #5421/15207 unique hadm_id/icustay_id\n",
    ")"
   ]
  },
  {
   "cell_type": "code",
   "execution_count": null,
   "metadata": {},
   "outputs": [],
   "source": [
    "#number of na values\n",
    "\n",
    "pd.DataFrame(\n",
    "    {\n",
    "    'bsa':[echodata_72.loc[echodata_72['bsa'].isna(),'hadm_id'].count()], \n",
    "    'bp': [echodata_72.loc[echodata_72['bp'].isna(),'hadm_id'].count()], \n",
    "    'bpsys': [echodata_72.loc[echodata_72['bpsys'].isna(),'hadm_id'].count()], \n",
    "    'bpdias': [echodata_72.loc[echodata_72['bpdias'].isna(),'hadm_id'].count()],\n",
    "    'hr': [echodata_72.loc[echodata_72['hr'].isna(),'hadm_id'].count()],\n",
    "    'test': [echodata_72.loc[echodata_72['test'].isna(),'hadm_id'].count()]\n",
    "             }\n",
    "            )"
   ]
  },
  {
   "cell_type": "markdown",
   "metadata": {},
   "source": [
    "# NEED TO ASK ABOUT WHICH VALUES ARE MOST IMPORTANT IN THIS"
   ]
  },
  {
   "cell_type": "code",
   "execution_count": null,
   "metadata": {},
   "outputs": [],
   "source": [
    "# missingness_df = pd.concat(\n",
    "#     [missingness_df,\n",
    "#         missingness_fxn(labs_all_nosummary_72,'labs_all_nosummary_72', 'label','icustay_id')]\n",
    "# )"
   ]
  },
  {
   "cell_type": "markdown",
   "metadata": {},
   "source": [
    "### weightfirstday_df x"
   ]
  },
  {
   "cell_type": "code",
   "execution_count": null,
   "metadata": {},
   "outputs": [],
   "source": [
    "#delete once done debugging\n",
    "weightfirstday_df=pd.read_csv(\n",
    "    '/Users/geickelb1/Documents/GitHub/mimiciii-antibiotics-modeling/data/raw/csv/72_hr_window/%s_weightfirstday_df.csv' %(date), index_col=0)"
   ]
  },
  {
   "cell_type": "code",
   "execution_count": null,
   "metadata": {},
   "outputs": [],
   "source": [
    "#need to reshape the df\n",
    "\n",
    "weightfirstday_df_melt= pd.melt(weightfirstday_df, id_vars='icustay_id', var_name='label')\n",
    "#weightfirstday_df_melt"
   ]
  },
  {
   "cell_type": "code",
   "execution_count": null,
   "metadata": {},
   "outputs": [],
   "source": [
    "print(\n",
    "    weightfirstday_df_melt['icustay_id'].nunique(), #15207/15207 unique icustay_id/icustay_id\n",
    ")"
   ]
  },
  {
   "cell_type": "code",
   "execution_count": null,
   "metadata": {},
   "outputs": [],
   "source": [
    "#na values\n",
    "weightfirstday_df_melt.loc[weightfirstday_df_melt['value'].isna(),'icustay_id'].count() #1522/15207 do not have any weight, 39522 total null rows."
   ]
  },
  {
   "cell_type": "code",
   "execution_count": null,
   "metadata": {},
   "outputs": [],
   "source": [
    "#missingness df\n",
    "missingness_df = pd.concat(\n",
    "    [missingness_df,\n",
    "        missingness_fxn(weightfirstday_df_melt.loc[weightfirstday_df_melt['value'].notnull(),:],'weightfirstday_df', 'label','icustay_id')]\n",
    ")"
   ]
  },
  {
   "cell_type": "code",
   "execution_count": null,
   "metadata": {},
   "outputs": [],
   "source": [
    "missingness_df"
   ]
  },
  {
   "cell_type": "markdown",
   "metadata": {},
   "source": [
    "### heightfirstday_df x"
   ]
  },
  {
   "cell_type": "code",
   "execution_count": null,
   "metadata": {},
   "outputs": [],
   "source": [
    "heightfirstday_df.head(2)"
   ]
  },
  {
   "cell_type": "code",
   "execution_count": null,
   "metadata": {},
   "outputs": [],
   "source": [
    "#need to reshape the df\n",
    "heightfirstday_df_melt= pd.melt(heightfirstday_df, id_vars='icustay_id', var_name='label')"
   ]
  },
  {
   "cell_type": "code",
   "execution_count": null,
   "metadata": {},
   "outputs": [],
   "source": [
    "print(\n",
    "    heightfirstday_df_melt['icustay_id'].nunique(), #15207/15207 unique icustay_id/icustay_id\n",
    ")"
   ]
  },
  {
   "cell_type": "code",
   "execution_count": null,
   "metadata": {},
   "outputs": [],
   "source": [
    "#na values\n",
    "print(\n",
    "    heightfirstday_df_melt.loc[heightfirstday_df_melt['value'].isna(),'icustay_id'].count(), #22776 total null rows.\n",
    "    heightfirstday_df.loc[heightfirstday_df['height'].isna(),'icustay_id'].count() #5212/15207 do not have any weight,\n",
    ")"
   ]
  },
  {
   "cell_type": "code",
   "execution_count": null,
   "metadata": {},
   "outputs": [],
   "source": [
    "#missingness df\n",
    "missingness_df = pd.concat(\n",
    "    [missingness_df,\n",
    "        missingness_fxn(heightfirstday_df_melt.loc[heightfirstday_df_melt['value'].notnull(),:],'heightfirstday_df', 'label','icustay_id')]\n",
    ")"
   ]
  },
  {
   "cell_type": "code",
   "execution_count": null,
   "metadata": {},
   "outputs": [],
   "source": [
    "missingness_df"
   ]
  },
  {
   "cell_type": "markdown",
   "metadata": {},
   "source": [
    "### vitals_all_nosummary_72 x"
   ]
  },
  {
   "cell_type": "code",
   "execution_count": null,
   "metadata": {},
   "outputs": [],
   "source": [
    "vitals_all_nosummary_72.head(2)"
   ]
  },
  {
   "cell_type": "code",
   "execution_count": null,
   "metadata": {},
   "outputs": [],
   "source": [
    "#na values\n",
    "vitals_all_nosummary_72.loc[vitals_all_nosummary_72['vitalid'].notnull(),:]#.count() #6930 NULL values\n",
    "\n",
    "vitals_all_nosummary_nonull= vitals_all_nosummary_72.loc[vitals_all_nosummary_72['vitalid'].notnull(),:]#.count() #6930 NULL values\n",
    "\n",
    "#why do i have null vitalid's with actual values? need to dive into the sql.\n",
    "###it looks like it may just extract a lot of values as null that are not relevant, can filter these out"
   ]
  },
  {
   "cell_type": "code",
   "execution_count": null,
   "metadata": {},
   "outputs": [],
   "source": [
    "print(\n",
    "    vitals_all_nosummary_nonull['icustay_id'].nunique(), #14714/15207 unique icustay_id/icustay_id\n",
    ")"
   ]
  },
  {
   "cell_type": "code",
   "execution_count": null,
   "metadata": {},
   "outputs": [],
   "source": [
    "vitals_all_nosummary_nonull"
   ]
  },
  {
   "cell_type": "code",
   "execution_count": null,
   "metadata": {},
   "outputs": [],
   "source": [
    "missingness_df = pd.concat(\n",
    "    [missingness_df,\n",
    "        missingness_fxn(vitals_all_nosummary_nonull.rename(index=str, columns={'vitalid':'label'}),'vitals_all_nosummary_72', 'label','icustay_id')]\n",
    ")"
   ]
  },
  {
   "cell_type": "markdown",
   "metadata": {},
   "source": [
    "### uti_all_72 x"
   ]
  },
  {
   "cell_type": "code",
   "execution_count": null,
   "metadata": {},
   "outputs": [],
   "source": [
    "uti_all_72=pd.read_csv(\n",
    "    '/Users/geickelb1/Documents/GitHub/mimiciii-antibiotics-modeling/data/raw/csv/72_hr_window/%s_uti_all_72.csv' %(date), index_col=0)"
   ]
  },
  {
   "cell_type": "code",
   "execution_count": null,
   "metadata": {},
   "outputs": [],
   "source": [
    "uti_all_72.head(2)"
   ]
  },
  {
   "cell_type": "code",
   "execution_count": null,
   "metadata": {},
   "outputs": [],
   "source": [
    "#uti_all_72_melt= pd.melt(uti_all_72, id_vars=['subject_id','hadm_id','itemid','charttime','t_0','delta'], var_name='label')"
   ]
  },
  {
   "cell_type": "code",
   "execution_count": null,
   "metadata": {},
   "outputs": [],
   "source": [
    "uti_all_72_melt= pd.melt(\n",
    "    uti_all_72[['hadm_id','charttime','value','valuenum','valueuom','label','fluid']],\n",
    "    id_vars=['hadm_id','charttime'], var_name='label')"
   ]
  },
  {
   "cell_type": "code",
   "execution_count": null,
   "metadata": {},
   "outputs": [],
   "source": []
  },
  {
   "cell_type": "code",
   "execution_count": null,
   "metadata": {},
   "outputs": [],
   "source": [
    "uti_all_72_melt_notnull= uti_all_72_melt[uti_all_72_melt['value'].notnull()] #1320954"
   ]
  },
  {
   "cell_type": "code",
   "execution_count": null,
   "metadata": {},
   "outputs": [],
   "source": []
  },
  {
   "cell_type": "code",
   "execution_count": null,
   "metadata": {},
   "outputs": [],
   "source": [
    "uti_all_72_melt_notnull['label'].value_counts()"
   ]
  },
  {
   "cell_type": "code",
   "execution_count": null,
   "metadata": {},
   "outputs": [],
   "source": [
    "print(\n",
    "    uti_all_72_melt_notnull.nunique(), #6145/15207 unique hadm_id/hadm_id\n",
    ")"
   ]
  },
  {
   "cell_type": "code",
   "execution_count": null,
   "metadata": {},
   "outputs": [],
   "source": [
    "#na values\n",
    "#uti_all_72_melt.loc[uti_all_72_melt['value'].isna(),:]#.count() #220159 na valuenum, 440318 when melted\n",
    "#uti_all_72_melt[uti_all_72_melt['value'].isnull()]['hadm_id'].count() #440318"
   ]
  },
  {
   "cell_type": "code",
   "execution_count": null,
   "metadata": {},
   "outputs": [],
   "source": [
    "#uti_all_72_melt[uti_all_72_melt['value'].notnull()]"
   ]
  },
  {
   "cell_type": "code",
   "execution_count": null,
   "metadata": {},
   "outputs": [],
   "source": [
    "missingness_fxn(uti_all_72_melt_notnull,'uti_all_72_melt', 'label','hadm_id')"
   ]
  },
  {
   "cell_type": "code",
   "execution_count": null,
   "metadata": {},
   "outputs": [],
   "source": [
    "missingness_df = pd.concat(\n",
    "    [missingness_df,\n",
    "        missingness_fxn(uti_all_72_melt_notnull,'uti_all_72_melt', 'label','hadm_id')]\n",
    ")"
   ]
  },
  {
   "cell_type": "markdown",
   "metadata": {},
   "source": [
    "### bg_all_nosummary_72 x"
   ]
  },
  {
   "cell_type": "code",
   "execution_count": null,
   "metadata": {},
   "outputs": [],
   "source": [
    "bg_all_nosummary_72=pd.read_csv(\n",
    "    '/Users/geickelb1/Documents/GitHub/mimiciii-antibiotics-modeling/data/raw/csv/72_hr_window/%s_bg_all_nosummary_72.csv' %(date), index_col=0)"
   ]
  },
  {
   "cell_type": "code",
   "execution_count": null,
   "metadata": {},
   "outputs": [],
   "source": [
    "#na values- removing all null values from value.\n",
    "bg_all_nosummary_72= bg_all_nosummary_72.loc[bg_all_nosummary_72['value'].notnull(),:]\n",
    "\n",
    "bg_all_nosummary_72.head(2)"
   ]
  },
  {
   "cell_type": "code",
   "execution_count": null,
   "metadata": {},
   "outputs": [],
   "source": [
    "print(\n",
    "    bg_all_nosummary_72['icustay_id'].nunique(), #11244/15207 unique icustay_id/icustay_id\n",
    ")"
   ]
  },
  {
   "cell_type": "code",
   "execution_count": null,
   "metadata": {},
   "outputs": [],
   "source": [
    "missingness_df = pd.concat(\n",
    "    [missingness_df,\n",
    "        missingness_fxn(bg_all_nosummary_72,'bg_all_nosummary_72', 'label','icustay_id')]\n",
    ")"
   ]
  },
  {
   "cell_type": "code",
   "execution_count": null,
   "metadata": {},
   "outputs": [],
   "source": [
    "#missingness_fxn(bg_all_nosummary_72,'bg_all_nosummary_72', 'label','icustay_id')"
   ]
  },
  {
   "cell_type": "markdown",
   "metadata": {},
   "source": [
    "### rrt_merged_allpt_df x"
   ]
  },
  {
   "cell_type": "code",
   "execution_count": null,
   "metadata": {},
   "outputs": [],
   "source": [
    "rrt_merged_allpt_df.head(10)"
   ]
  },
  {
   "cell_type": "code",
   "execution_count": null,
   "metadata": {},
   "outputs": [],
   "source": [
    "#na values\n",
    "rrt_merged_allpt_df_notnull = rrt_merged_allpt_df.loc[rrt_merged_allpt_df['rrt'].notnull(),:]"
   ]
  },
  {
   "cell_type": "code",
   "execution_count": null,
   "metadata": {},
   "outputs": [],
   "source": [
    "print(\n",
    "    rrt_merged_allpt_df_notnull['icustay_id'].nunique(), #1223/15207 unique icustay_id/icustay_id\n",
    ")"
   ]
  },
  {
   "cell_type": "code",
   "execution_count": null,
   "metadata": {},
   "outputs": [],
   "source": [
    "#missingness_fxn(rrt_merged_allpt_df_notnull.rename(index=str,columns={'rrt':\"label\"}),'rrt_merged_allpt_df_notnull', 'label','icustay_id')"
   ]
  },
  {
   "cell_type": "code",
   "execution_count": null,
   "metadata": {},
   "outputs": [],
   "source": [
    "missingness_df = pd.concat(\n",
    "    [missingness_df,\n",
    "        missingness_fxn(rrt_merged_allpt_df_notnull.rename(index=str,columns={'rrt':\"label\"}),'rrt_merged_allpt_df_notnull', 'label','icustay_id')]\n",
    ")"
   ]
  },
  {
   "cell_type": "markdown",
   "metadata": {},
   "source": [
    "### gcs72_df x"
   ]
  },
  {
   "cell_type": "code",
   "execution_count": null,
   "metadata": {},
   "outputs": [],
   "source": [
    "gcs72_df.head(2)"
   ]
  },
  {
   "cell_type": "code",
   "execution_count": null,
   "metadata": {},
   "outputs": [],
   "source": [
    "#need to reshape the dataframe\n",
    "gcs72_df_melt = pd.melt(gcs72_df, id_vars=['subject_id','hadm_id','icustay_id','t_0','ICU_admit','admit_plus_day','delta'], var_name='label')"
   ]
  },
  {
   "cell_type": "code",
   "execution_count": null,
   "metadata": {},
   "outputs": [],
   "source": [
    "gcs72_df_melt_notnull= gcs72_df_melt[gcs72_df_melt['value'].notnull()] #62772 ->62650"
   ]
  },
  {
   "cell_type": "code",
   "execution_count": null,
   "metadata": {},
   "outputs": [],
   "source": [
    "print(\n",
    "    gcs72_df_melt_notnull['icustay_id'].nunique(), #10462/15207 unique icustay_id/icustay_id\n",
    ")"
   ]
  },
  {
   "cell_type": "code",
   "execution_count": null,
   "metadata": {},
   "outputs": [],
   "source": [
    "missingness_fxn(gcs72_df_melt_notnull,'gcs72_df_melt_notnull', 'label','icustay_id')"
   ]
  },
  {
   "cell_type": "code",
   "execution_count": null,
   "metadata": {},
   "outputs": [],
   "source": [
    "missingness_df = pd.concat(\n",
    "    [missingness_df,\n",
    "        missingness_fxn(gcs72_df_melt_notnull,'gcs72_df_melt_notnull', 'label','icustay_id')]\n",
    ")"
   ]
  },
  {
   "cell_type": "markdown",
   "metadata": {},
   "source": [
    "### sofa_df_72"
   ]
  },
  {
   "cell_type": "code",
   "execution_count": null,
   "metadata": {},
   "outputs": [],
   "source": [
    "sofa_df_72.head(2)"
   ]
  },
  {
   "cell_type": "code",
   "execution_count": null,
   "metadata": {},
   "outputs": [],
   "source": [
    "#need to reshape the dataframe\n",
    "sofa_df_melt = pd.melt(sofa_df_72, id_vars=['subject_id','hadm_id','icustay_id','t_0','day','ICU_admit','approx_charttime','floor_charttime'], var_name='label')"
   ]
  },
  {
   "cell_type": "code",
   "execution_count": null,
   "metadata": {},
   "outputs": [],
   "source": [
    "sofa_df_melt_notnull= sofa_df_melt[sofa_df_melt['value'].notnull()] #606651 ->302459"
   ]
  },
  {
   "cell_type": "code",
   "execution_count": null,
   "metadata": {},
   "outputs": [],
   "source": [
    "len(sofa_df_melt_notnull)"
   ]
  },
  {
   "cell_type": "code",
   "execution_count": null,
   "metadata": {},
   "outputs": [],
   "source": [
    "print(\n",
    "    sofa_df_melt_notnull['icustay_id'].nunique(), #13323/15207 unique icustay_id/icustay_id\n",
    ")"
   ]
  },
  {
   "cell_type": "code",
   "execution_count": null,
   "metadata": {},
   "outputs": [],
   "source": [
    "missingness_df = pd.concat(\n",
    "    [missingness_df,\n",
    "        missingness_fxn(sofa_df_melt_notnull,'sofa_df_melt_notnull', 'label','icustay_id')]\n",
    ")"
   ]
  },
  {
   "cell_type": "code",
   "execution_count": null,
   "metadata": {},
   "outputs": [],
   "source": [
    "missingness_df_v = missingness_df.sort_values('%missingness', ascending=False)\n",
    "\n",
    "date= '01102018'\n",
    "\n",
    "pd.DataFrame(missingness_df_v).to_csv(\n",
    "    '/Users/geickelb1/Documents/GitHub/mimiciii-antibiotics-modeling/data/interim/%s_missingness_df_v.csv' %(date))"
   ]
  },
  {
   "cell_type": "code",
   "execution_count": null,
   "metadata": {},
   "outputs": [],
   "source": [
    "missingness_df"
   ]
  },
  {
   "cell_type": "markdown",
   "metadata": {},
   "source": [
    "### visualizations"
   ]
  },
  {
   "cell_type": "code",
   "execution_count": null,
   "metadata": {},
   "outputs": [],
   "source": [
    "\"\"\"\n",
    "    get the # of filled vs missign values for each variable for our cohort.\n",
    "    Args:\n",
    "    -----\n",
    "    df: dataframe\n",
    "        name of dataframe initialized in this workbook\n",
    "    valuenum_col: string\n",
    "        name of column with the numerical or text variable in question\n",
    "    label_col: string\n",
    "        name of column with the lab value label in question\n",
    "    Returns:\n",
    "    -----\n",
    "    filled_summary: df\n",
    "        list of all variables with # filled values\n",
    "    missing_summary: df\n",
    "        list of all variables with # missing values\n",
    "    percent_summary: df\n",
    "        list of all variables with # filled values/ # total patients\n",
    "    \"\"\"\n",
    "\n",
    "def missing_fxn(df, valuenum_col, label_col):\n",
    "    if 'icustay_id' in list(df):\n",
    "        df= df[df['icustay_id'].isin(list(cohort_df['icustay_id'].unique()))] #good\n",
    "    else:\n",
    "        df= df[df['subject_id'].isin(\n",
    "            list(cohort_df['subject_id'].unique()))] \n",
    "\n",
    "    df_notnull = df[df[valuenum_col].notnull()]\n",
    "    df_null = df[df[valuenum_col].isnull()]\n",
    "    df_filtered = df.drop_duplicates(['subject_id',label_col])[label_col].value_counts()\n",
    "    \n",
    "    filled_summary= df_notnull.drop_duplicates(['subject_id',label_col])[label_col].value_counts()\n",
    "    missing_summary = df_null.drop_duplicates(['subject_id',label_col])[label_col].value_counts()\n",
    "    percent_summary = 100*(filled_summary / df_filtered)\n",
    "    \n",
    "    #missing_plot=(missing_summary.sort_index().plot.bar(title = f'# of missing values in {df}'))\n",
    "    \n",
    "    #filled_summary, missing_summary, percent_summary, \n",
    "    return(filled_summary, missing_summary, percent_summary)"
   ]
  },
  {
   "cell_type": "code",
   "execution_count": null,
   "metadata": {},
   "outputs": [],
   "source": [
    "var1, var2, var3,  = missing_fxn(labs_all48, 'valuenum', 'label')\n",
    "fig, axs = plt.subplots(1,2,figsize=(10,4))\n",
    "ax1= (var2.sort_index().plot.bar(ax=axs[0], title = '# of missing values in labs_all48'))\n",
    "ax2= (var3.sort_index().plot.bar(color='grey',\n",
    "                                ax=axs[1],\n",
    "                                ylim=(min(var3)-10 ,100),\n",
    "                                title = '% of values filled in labs_all48'))"
   ]
  },
  {
   "cell_type": "markdown",
   "metadata": {},
   "source": [
    "#### histogram of frequency over each hour."
   ]
  },
  {
   "cell_type": "code",
   "execution_count": null,
   "metadata": {},
   "outputs": [],
   "source": []
  },
  {
   "cell_type": "code",
   "execution_count": null,
   "metadata": {},
   "outputs": [],
   "source": [
    "def hours_fxn(td):\n",
    "    return ((td.days*24*3600) + td.seconds)//3600\n",
    "\n",
    "def days_fxn(td):\n",
    "    return td.days"
   ]
  },
  {
   "cell_type": "code",
   "execution_count": null,
   "metadata": {},
   "outputs": [],
   "source": [
    "pd.to_timedelta(vaso_dose_72['delta'].head())"
   ]
  },
  {
   "cell_type": "code",
   "execution_count": null,
   "metadata": {},
   "outputs": [],
   "source": [
    "for element in vaso_dose_72['label'].unique():\n",
    "    print(element)"
   ]
  },
  {
   "cell_type": "code",
   "execution_count": null,
   "metadata": {},
   "outputs": [],
   "source": [
    "size=11\n",
    "fig=plt.figure(figsize=(size, size*(2/3)), dpi= 80, facecolor='w')\n",
    "ax = plt.axes()\n",
    "\n",
    "vaso_dose_72['hours']=pd.to_timedelta(vaso_dose_72['delta']).map(hours_fxn) #good\n",
    "\n",
    "for element in vaso_dose_72['label'].unique():    \n",
    "    (vaso_dose_72.loc[vaso_dose_72.loc[:,'label']==element, 'hours']\n",
    "         .value_counts(sort=False)\n",
    "         .sort_index()\n",
    "         .plot(kind='bar', sort_columns=True))"
   ]
  },
  {
   "cell_type": "code",
   "execution_count": null,
   "metadata": {},
   "outputs": [],
   "source": [
    "for element in vaso_dose_72['label'].unique():\n",
    "    size=9\n",
    "    fig=plt.figure(figsize=(size, size*(2/3)), dpi= 80, facecolor='w')\n",
    "    ax = plt.axes()\n",
    "    (vaso_dose_72.loc[vaso_dose_72.loc[:,'label']==element, 'hours']\n",
    "         .value_counts(sort=False)\n",
    "         .sort_index()\n",
    "         .plot(kind='bar', sort_columns=True,color='blue'))\n",
    "    print(element)\n",
    "    ax.set_ylabel('frequency_for_all_pt', fontsize='large')\n",
    "    ax.set_xlabel('hours_after_t_0', fontsize='large')\n",
    "    ax.set_title('%s'%(element), fontsize='large')\n",
    "    plt.show()"
   ]
  },
  {
   "cell_type": "code",
   "execution_count": null,
   "metadata": {},
   "outputs": [],
   "source": [
    "# #looking at overall missingness\n",
    "\n",
    "# for element in vaso_dose_72['label'].unique():\n",
    "#     print(element)\n",
    "#     print(vaso_dose_72.loc[vaso_dose_72.loc[:,'label']==element, 'icustay_id']\n",
    "#          .nunique())\n",
    "#     print(((vaso_dose_72.loc[vaso_dose_72.loc[:,'label']==element, 'icustay_id']\n",
    "#          .nunique())/len(icustay_id))*100,\"% of icustay_id's with any value\") "
   ]
  },
  {
   "cell_type": "code",
   "execution_count": null,
   "metadata": {},
   "outputs": [],
   "source": [
    "# print(vaso_dose_72['icustay_id'].nunique())"
   ]
  },
  {
   "cell_type": "code",
   "execution_count": null,
   "metadata": {},
   "outputs": [],
   "source": [
    "# len(icustay_id)"
   ]
  },
  {
   "cell_type": "code",
   "execution_count": null,
   "metadata": {},
   "outputs": [],
   "source": [
    "\n",
    "11/1/18: After looking at the missingness % of patients without a given reading of each data over first 3 days of icustay, we decided that patients without an single SpO2 reading are disqualified from study. \n",
    "\n",
    "\n",
    "\n",
    " \n",
    "Total: 14668\n"
   ]
  },
  {
   "cell_type": "code",
   "execution_count": null,
   "metadata": {},
   "outputs": [],
   "source": []
  },
  {
   "cell_type": "markdown",
   "metadata": {},
   "source": [
    "10/28/18:\n",
    "\n",
    "# Goal: to make a new icustay_id cohort with the added criteria that patients have at minimum one Sp02 reading during their first 3 days of suspected infection.\n",
    "### The idea is that this should be the bare minimum amount of data for a patient, and without it, it's likely the physicians did not suspect an infection in these patients. "
   ]
  },
  {
   "cell_type": "code",
   "execution_count": null,
   "metadata": {},
   "outputs": [],
   "source": [
    "vitals_all_nosummary_72.head(2)"
   ]
  },
  {
   "cell_type": "code",
   "execution_count": null,
   "metadata": {},
   "outputs": [],
   "source": [
    "#na values\n",
    "vitals_all_nosummary_72.loc[\n",
    "    vitals_all_nosummary_72['vitalid'].notnull(),:]#.count() #6930 NULL values\n",
    "\n",
    "vitals_all_nosummary_nonull= vitals_all_nosummary_72.loc[\n",
    "    vitals_all_nosummary_72['vitalid'].notnull(),:]#.count() #6930 NULL values\n"
   ]
  },
  {
   "cell_type": "code",
   "execution_count": null,
   "metadata": {},
   "outputs": [],
   "source": [
    "print(\n",
    "    vitals_all_nosummary_nonull['icustay_id'].nunique(), #14714/15207 unique icustay_id/icustay_id\n",
    ")"
   ]
  },
  {
   "cell_type": "code",
   "execution_count": null,
   "metadata": {},
   "outputs": [],
   "source": [
    "vitals_all_nosummary_nonull.loc[vitals_all_nosummary_nonull.loc[:,'vitalid']=='SpO2',:]\n",
    "\n",
    "#missingness_df.loc[missingness_df.loc[:,'label']=='SpO2',:]"
   ]
  },
  {
   "cell_type": "code",
   "execution_count": null,
   "metadata": {},
   "outputs": [],
   "source": [
    "print((vitals_all_nosummary_nonull.loc[\n",
    "    vitals_all_nosummary_nonull.loc[:,'vitalid']=='SpO2','icustay_id'\n",
    "        ].nunique()), #n=14668\n",
    "    len(icustay_id)\n",
    "     ) #15207\n",
    "\n",
    "#print(14668/15207)\n",
    "\n",
    "icustay_id_vitals = (vitals_all_nosummary_nonull.loc[\n",
    "    vitals_all_nosummary_nonull.loc[:,'vitalid']=='SpO2','icustay_id'\n",
    "        ].unique())"
   ]
  },
  {
   "cell_type": "code",
   "execution_count": null,
   "metadata": {},
   "outputs": [],
   "source": [
    "\n",
    "vitals_all_nosummary_nonull_v=(vitals_all_nosummary_nonull.loc[\n",
    "    vitals_all_nosummary_nonull.loc[:,'icustay_id']\n",
    "    .isin(icustay_id_vitals),:]\n",
    ")"
   ]
  },
  {
   "cell_type": "code",
   "execution_count": null,
   "metadata": {},
   "outputs": [],
   "source": [
    "#lists and df with _v will be for patients who have atleast 1 SpO2 reading in first 3 days post t_0. \n",
    "vitals_all_nosummary_nonull_v\n",
    "icustay_id_v= list(vitals_all_nosummary_nonull_v['icustay_id'].unique())\n",
    "icustay_id_v= [int(x) for x in icustay_id_v]"
   ]
  },
  {
   "cell_type": "code",
   "execution_count": null,
   "metadata": {},
   "outputs": [],
   "source": [
    "#updated final_pt_df2 for patients who have atleast 1 SpO2 reading in first 3 days post t_0. \n",
    "final_pt_df2_v = (\n",
    "    final_pt_df2.loc[final_pt_df2.loc[:,'icustay_id'].isin(icustay_id_v),:]\n",
    ")"
   ]
  },
  {
   "cell_type": "code",
   "execution_count": null,
   "metadata": {},
   "outputs": [],
   "source": [
    "final_pt_df2_v.head()"
   ]
  },
  {
   "cell_type": "code",
   "execution_count": null,
   "metadata": {},
   "outputs": [],
   "source": [
    "pd.crosstab(final_pt_df2['ab_course'], final_pt_df2['sc_result'])"
   ]
  },
  {
   "cell_type": "code",
   "execution_count": null,
   "metadata": {},
   "outputs": [],
   "source": [
    "#todo, crosstab table of pts in new icustay_id_v\n",
    "pd.crosstab(final_pt_df2_v['ab_course'], final_pt_df2_v['sc_result']) #n= 14668"
   ]
  }
 ],
 "metadata": {
  "kernelspec": {
   "display_name": "Python 3",
   "language": "python",
   "name": "python3"
  },
  "language_info": {
   "codemirror_mode": {
    "name": "ipython",
    "version": 3
   },
   "file_extension": ".py",
   "mimetype": "text/x-python",
   "name": "python",
   "nbconvert_exporter": "python",
   "pygments_lexer": "ipython3",
   "version": "3.6.4"
  }
 },
 "nbformat": 4,
 "nbformat_minor": 2
}
