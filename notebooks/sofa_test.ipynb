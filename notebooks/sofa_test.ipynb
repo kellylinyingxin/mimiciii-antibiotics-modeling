{
 "cells": [
  {
   "cell_type": "markdown",
   "metadata": {},
   "source": [
    "# testing mimic sofa sql code"
   ]
  },
  {
   "cell_type": "code",
   "execution_count": null,
   "metadata": {},
   "outputs": [],
   "source": []
  },
  {
   "cell_type": "code",
   "execution_count": 1,
   "metadata": {},
   "outputs": [
    {
     "name": "stderr",
     "output_type": "stream",
     "text": [
      "/Users/geickelb1/anaconda/envs/rpy-env/lib/python3.6/site-packages/psycopg2/__init__.py:144: UserWarning: The psycopg2 wheel package will be renamed from release 2.8; in order to keep installing from binary please use \"pip install psycopg2-binary\" instead. For details see: <http://initd.org/psycopg/docs/install.html#binary-install-from-pypi>.\n",
      "  \"\"\")\n"
     ]
    }
   ],
   "source": [
    "import requests\n",
    "import numpy as np\n",
    "import pandas as pd\n",
    "import matplotlib.pyplot as plt\n",
    "import psycopg2\n",
    "import collections\n",
    "import asyncio\n",
    "import getpass\n",
    "import re\n",
    "from datetime import datetime as dt\n",
    "import os,sys,re\n",
    "import urllib3\n",
    "import prettytable\n",
    "from collections import Counter\n",
    "import seaborn as sns\n",
    "import random\n",
    "\n",
    "from sklearn.externals.joblib import Memory\n",
    "memory = Memory(cachedir='/tmp', verbose=0)\n",
    "#@memory.cache above any def fxn.\n",
    "\n",
    "%matplotlib inline\n",
    "plt.style.use('ggplot')\n",
    "\n",
    "from notebook.services.config import ConfigManager\n",
    "cm = ConfigManager()\n",
    "cm.update('livereveal', {\n",
    "        'width': 1024,\n",
    "        'height': 768,\n",
    "        'scroll': True,\n",
    "})\n",
    "\n",
    "%load_ext autotime"
   ]
  },
  {
   "cell_type": "code",
   "execution_count": 25,
   "metadata": {},
   "outputs": [
    {
     "name": "stdout",
     "output_type": "stream",
     "text": [
      "time: 109 ms\n"
     ]
    }
   ],
   "source": [
    "final_pt_df2 = pd.read_csv('/Users/geickelb1/Desktop/PhD_Misc/HSIP_442_Yuan_Lao/final_pt_df2_5-04-18.csv', index_col=0)\n",
    "\n",
    "final_pt_df2 = pd.read_csv('/Users/geickelb1/Desktop/PhD_Misc/HSIP_442_Yuan_Lao/final_pt_df2_5-04-18.csv', index_col=0)\n",
    "\n",
    "patients= list(final_pt_df2['subject_id'].unique())\n",
    "icustay_id= list(final_pt_df2['icustay_id'].unique())"
   ]
  },
  {
   "cell_type": "code",
   "execution_count": 11,
   "metadata": {},
   "outputs": [
    {
     "name": "stdout",
     "output_type": "stream",
     "text": [
      "time: 2.13 s\n"
     ]
    }
   ],
   "source": [
    "import psycopg2\n",
    "# conn = psycopg2.connect(dbname=\"mimic\", user=\"student\", password=\"lipup\", host=\"luolabwkstn01.fsm.northwestern.edu\", port=\"5432\")\n",
    "# cur=conn.cursor()\n",
    "\n",
    "conn = psycopg2.connect(dbname=\"mimic\", user=\"student\", host=\"luolabwkstn01.fsm.northwestern.edu\", port=\"5432\",\n",
    "                        password=getpass.getpass(prompt='Password:'.format()))\n",
    "cur=conn.cursor()\n",
    "\n",
    "query_schema = 'SET search_path to ' + \"mimiciii\" + ';'"
   ]
  },
  {
   "cell_type": "code",
   "execution_count": 14,
   "metadata": {},
   "outputs": [
    {
     "name": "stdout",
     "output_type": "stream",
     "text": [
      "time: 3.8 ms\n"
     ]
    }
   ],
   "source": [
    "def sql_exe_show(sql_sentence):\n",
    "    cur.execute(sql_sentence)\n",
    "    rows = cur.fetchall()\n",
    "    col = []\n",
    "    for i in range(len(cur.description)):\n",
    "        col.append(cur.description[i][0])\n",
    "    table = pd.DataFrame(rows,columns=col)\n",
    "    return table"
   ]
  },
  {
   "cell_type": "code",
   "execution_count": 4,
   "metadata": {},
   "outputs": [
    {
     "name": "stdout",
     "output_type": "stream",
     "text": [
      "time: 5.17 ms\n"
     ]
    }
   ],
   "source": [
    "#input the sql_exe_show object and get dataframe for only patients in patient list out. \n",
    "def sql_to_df_icu(sql_exe_show_obj):\n",
    "    sql_exe_show_df= pd.DataFrame(data=sql_exe_show_obj)\n",
    "    sql_exe_show_df=sql_exe_show_df[sql_exe_show_df['icustay_id'].isin(icustay_id)]\n",
    "    return sql_exe_show_df\n",
    "\n",
    "def sql_to_df_patients(sql_exe_show_obj):\n",
    "    sql_exe_show_df= pd.DataFrame(data=sql_exe_show_obj)\n",
    "    sql_exe_show_df=sql_exe_show_df[sql_exe_show_df['subject_id'].isin(patients)]\n",
    "    return sql_exe_show_df"
   ]
  },
  {
   "cell_type": "code",
   "execution_count": null,
   "metadata": {},
   "outputs": [],
   "source": [
    "labs_all48=  pd.read_csv('/Users/geickelb1/Documents/GitHub/mimiciii-antibiotics-modeling/data/wrangled/labs_all48_df.csv', index_col=0)\n",
    "\n",
    "/Users/geickelb1/Documents/GitHub/mimic-code/concepts/firstday"
   ]
  },
  {
   "cell_type": "markdown",
   "metadata": {},
   "source": [
    "-- The following views required to run this query:\n",
    "--  1) uofirstday - generated by urine-output-first-day.sql\n",
    "--  2) vitalsfirstday - generated by vitals-first-day.sql\n",
    "--  3) gcsfirstday - generated by gcs-first-day.sql\n",
    "--  4) labsfirstday - generated by labs-first-day.sql\n",
    "--  5) bloodgasfirstdayarterial - generated by blood-gas-first-day-arterial.sql\n",
    "--  6) echodata - generated by echo-data.sql\n",
    "--  7) ventdurations - generated by ventilation-durations.sql"
   ]
  },
  {
   "cell_type": "code",
   "execution_count": 3,
   "metadata": {},
   "outputs": [
    {
     "ename": "DatabaseError",
     "evalue": "Execution failed on sql 'SET search_path to mimiciii;\n--DROP MATERIALIZED VIEW IF EXISTS labsfirstday CASCADE;\nCREATE materialized VIEW labsfirstday AS\nSELECT\n  pvt.subject_id, pvt.hadm_id, pvt.icustay_id\n\n  , min(CASE WHEN label = 'ANION GAP' THEN valuenum ELSE null END) as ANIONGAP_min\n  , max(CASE WHEN label = 'ANION GAP' THEN valuenum ELSE null END) as ANIONGAP_max\n  , min(CASE WHEN label = 'ALBUMIN' THEN valuenum ELSE null END) as ALBUMIN_min\n  , max(CASE WHEN label = 'ALBUMIN' THEN valuenum ELSE null END) as ALBUMIN_max\n  , min(CASE WHEN label = 'BANDS' THEN valuenum ELSE null END) as BANDS_min\n  , max(CASE WHEN label = 'BANDS' THEN valuenum ELSE null END) as BANDS_max\n  , min(CASE WHEN label = 'BICARBONATE' THEN valuenum ELSE null END) as BICARBONATE_min\n  , max(CASE WHEN label = 'BICARBONATE' THEN valuenum ELSE null END) as BICARBONATE_max\n  , min(CASE WHEN label = 'BILIRUBIN' THEN valuenum ELSE null END) as BILIRUBIN_min\n  , max(CASE WHEN label = 'BILIRUBIN' THEN valuenum ELSE null END) as BILIRUBIN_max\n  , min(CASE WHEN label = 'CREATININE' THEN valuenum ELSE null END) as CREATININE_min\n  , max(CASE WHEN label = 'CREATININE' THEN valuenum ELSE null END) as CREATININE_max\n  , min(CASE WHEN label = 'CHLORIDE' THEN valuenum ELSE null END) as CHLORIDE_min\n  , max(CASE WHEN label = 'CHLORIDE' THEN valuenum ELSE null END) as CHLORIDE_max\n  , min(CASE WHEN label = 'GLUCOSE' THEN valuenum ELSE null END) as GLUCOSE_min\n  , max(CASE WHEN label = 'GLUCOSE' THEN valuenum ELSE null END) as GLUCOSE_max\n  , min(CASE WHEN label = 'HEMATOCRIT' THEN valuenum ELSE null END) as HEMATOCRIT_min\n  , max(CASE WHEN label = 'HEMATOCRIT' THEN valuenum ELSE null END) as HEMATOCRIT_max\n  , min(CASE WHEN label = 'HEMOGLOBIN' THEN valuenum ELSE null END) as HEMOGLOBIN_min\n  , max(CASE WHEN label = 'HEMOGLOBIN' THEN valuenum ELSE null END) as HEMOGLOBIN_max\n  , min(CASE WHEN label = 'LACTATE' THEN valuenum ELSE null END) as LACTATE_min\n  , max(CASE WHEN label = 'LACTATE' THEN valuenum ELSE null END) as LACTATE_max\n  , min(CASE WHEN label = 'PLATELET' THEN valuenum ELSE null END) as PLATELET_min\n  , max(CASE WHEN label = 'PLATELET' THEN valuenum ELSE null END) as PLATELET_max\n  , min(CASE WHEN label = 'POTASSIUM' THEN valuenum ELSE null END) as POTASSIUM_min\n  , max(CASE WHEN label = 'POTASSIUM' THEN valuenum ELSE null END) as POTASSIUM_max\n  , min(CASE WHEN label = 'PTT' THEN valuenum ELSE null END) as PTT_min\n  , max(CASE WHEN label = 'PTT' THEN valuenum ELSE null END) as PTT_max\n  , min(CASE WHEN label = 'INR' THEN valuenum ELSE null END) as INR_min\n  , max(CASE WHEN label = 'INR' THEN valuenum ELSE null END) as INR_max\n  , min(CASE WHEN label = 'PT' THEN valuenum ELSE null END) as PT_min\n  , max(CASE WHEN label = 'PT' THEN valuenum ELSE null END) as PT_max\n  , min(CASE WHEN label = 'SODIUM' THEN valuenum ELSE null END) as SODIUM_min\n  , max(CASE WHEN label = 'SODIUM' THEN valuenum ELSE null end) as SODIUM_max\n  , min(CASE WHEN label = 'BUN' THEN valuenum ELSE null end) as BUN_min\n  , max(CASE WHEN label = 'BUN' THEN valuenum ELSE null end) as BUN_max\n  , min(CASE WHEN label = 'WBC' THEN valuenum ELSE null end) as WBC_min\n  , max(CASE WHEN label = 'WBC' THEN valuenum ELSE null end) as WBC_max\n\n\nFROM\n( -- begin query that extracts the data\n  SELECT ie.subject_id, ie.hadm_id, ie.icustay_id\n  -- here we assign labels to ITEMIDs\n  -- this also fuses together multiple ITEMIDs containing the same data\n  , CASE\n        WHEN itemid = 50868 THEN 'ANION GAP'\n        WHEN itemid = 50862 THEN 'ALBUMIN'\n        WHEN itemid = 51144 THEN 'BANDS'\n        WHEN itemid = 50882 THEN 'BICARBONATE'\n        WHEN itemid = 50885 THEN 'BILIRUBIN'\n        WHEN itemid = 50912 THEN 'CREATININE'\n        WHEN itemid = 50806 THEN 'CHLORIDE'\n        WHEN itemid = 50902 THEN 'CHLORIDE'\n        WHEN itemid = 50809 THEN 'GLUCOSE'\n        WHEN itemid = 50931 THEN 'GLUCOSE'\n        WHEN itemid = 50810 THEN 'HEMATOCRIT'\n        WHEN itemid = 51221 THEN 'HEMATOCRIT'\n        WHEN itemid = 50811 THEN 'HEMOGLOBIN'\n        WHEN itemid = 51222 THEN 'HEMOGLOBIN'\n        WHEN itemid = 50813 THEN 'LACTATE'\n        WHEN itemid = 51265 THEN 'PLATELET'\n        WHEN itemid = 50822 THEN 'POTASSIUM'\n        WHEN itemid = 50971 THEN 'POTASSIUM'\n        WHEN itemid = 51275 THEN 'PTT'\n        WHEN itemid = 51237 THEN 'INR'\n        WHEN itemid = 51274 THEN 'PT'\n        WHEN itemid = 50824 THEN 'SODIUM'\n        WHEN itemid = 50983 THEN 'SODIUM'\n        WHEN itemid = 51006 THEN 'BUN'\n        WHEN itemid = 51300 THEN 'WBC'\n        WHEN itemid = 51301 THEN 'WBC'\n      ELSE null\n    END AS label\n  , -- add in some sanity checks on the values\n  -- the where clause below requires all valuenum to be > 0, so these are only upper limit checks\n    CASE\n      WHEN itemid = 50862 and valuenum >    10 THEN null -- g/dL 'ALBUMIN'\n      WHEN itemid = 50868 and valuenum > 10000 THEN null -- mEq/L 'ANION GAP'\n      WHEN itemid = 51144 and valuenum <     0 THEN null -- immature band forms, %\n      WHEN itemid = 51144 and valuenum >   100 THEN null -- immature band forms, %\n      WHEN itemid = 50882 and valuenum > 10000 THEN null -- mEq/L 'BICARBONATE'\n      WHEN itemid = 50885 and valuenum >   150 THEN null -- mg/dL 'BILIRUBIN'\n      WHEN itemid = 50806 and valuenum > 10000 THEN null -- mEq/L 'CHLORIDE'\n      WHEN itemid = 50902 and valuenum > 10000 THEN null -- mEq/L 'CHLORIDE'\n      WHEN itemid = 50912 and valuenum >   150 THEN null -- mg/dL 'CREATININE'\n      WHEN itemid = 50809 and valuenum > 10000 THEN null -- mg/dL 'GLUCOSE'\n      WHEN itemid = 50931 and valuenum > 10000 THEN null -- mg/dL 'GLUCOSE'\n      WHEN itemid = 50810 and valuenum >   100 THEN null -- % 'HEMATOCRIT'\n      WHEN itemid = 51221 and valuenum >   100 THEN null -- % 'HEMATOCRIT'\n      WHEN itemid = 50811 and valuenum >    50 THEN null -- g/dL 'HEMOGLOBIN'\n      WHEN itemid = 51222 and valuenum >    50 THEN null -- g/dL 'HEMOGLOBIN'\n      WHEN itemid = 50813 and valuenum >    50 THEN null -- mmol/L 'LACTATE'\n      WHEN itemid = 51265 and valuenum > 10000 THEN null -- K/uL 'PLATELET'\n      WHEN itemid = 50822 and valuenum >    30 THEN null -- mEq/L 'POTASSIUM'\n      WHEN itemid = 50971 and valuenum >    30 THEN null -- mEq/L 'POTASSIUM'\n      WHEN itemid = 51275 and valuenum >   150 THEN null -- sec 'PTT'\n      WHEN itemid = 51237 and valuenum >    50 THEN null -- 'INR'\n      WHEN itemid = 51274 and valuenum >   150 THEN null -- sec 'PT'\n      WHEN itemid = 50824 and valuenum >   200 THEN null -- mEq/L == mmol/L 'SODIUM'\n      WHEN itemid = 50983 and valuenum >   200 THEN null -- mEq/L == mmol/L 'SODIUM'\n      WHEN itemid = 51006 and valuenum >   300 THEN null -- 'BUN'\n      WHEN itemid = 51300 and valuenum >  1000 THEN null -- 'WBC'\n      WHEN itemid = 51301 and valuenum >  1000 THEN null -- 'WBC'\n    ELSE le.valuenum\n    END AS valuenum\n\n  FROM icustays ie\n\n  LEFT JOIN labevents le\n    ON le.subject_id = ie.subject_id AND le.hadm_id = ie.hadm_id\n    AND le.charttime BETWEEN (ie.intime - interval '6' hour) AND (ie.intime + interval '1' day)\n    AND le.ITEMID in\n    (\n      -- comment is: LABEL | CATEGORY | FLUID | NUMBER OF ROWS IN LABEVENTS\n      50868, -- ANION GAP | CHEMISTRY | BLOOD | 769895\n      50862, -- ALBUMIN | CHEMISTRY | BLOOD | 146697\n      51144, -- BANDS - hematology\n      50882, -- BICARBONATE | CHEMISTRY | BLOOD | 780733\n      50885, -- BILIRUBIN, TOTAL | CHEMISTRY | BLOOD | 238277\n      50912, -- CREATININE | CHEMISTRY | BLOOD | 797476\n      50902, -- CHLORIDE | CHEMISTRY | BLOOD | 795568\n      50806, -- CHLORIDE, WHOLE BLOOD | BLOOD GAS | BLOOD | 48187\n      50931, -- GLUCOSE | CHEMISTRY | BLOOD | 748981\n      50809, -- GLUCOSE | BLOOD GAS | BLOOD | 196734\n      51221, -- HEMATOCRIT | HEMATOLOGY | BLOOD | 881846\n      50810, -- HEMATOCRIT, CALCULATED | BLOOD GAS | BLOOD | 89715\n      51222, -- HEMOGLOBIN | HEMATOLOGY | BLOOD | 752523\n      50811, -- HEMOGLOBIN | BLOOD GAS | BLOOD | 89712\n      50813, -- LACTATE | BLOOD GAS | BLOOD | 187124\n      51265, -- PLATELET COUNT | HEMATOLOGY | BLOOD | 778444\n      50971, -- POTASSIUM | CHEMISTRY | BLOOD | 845825\n      50822, -- POTASSIUM, WHOLE BLOOD | BLOOD GAS | BLOOD | 192946\n      51275, -- PTT | HEMATOLOGY | BLOOD | 474937\n      51237, -- INR(PT) | HEMATOLOGY | BLOOD | 471183\n      51274, -- PT | HEMATOLOGY | BLOOD | 469090\n      50983, -- SODIUM | CHEMISTRY | BLOOD | 808489\n      50824, -- SODIUM, WHOLE BLOOD | BLOOD GAS | BLOOD | 71503\n      51006, -- UREA NITROGEN | CHEMISTRY | BLOOD | 791925\n      51301, -- WHITE BLOOD CELLS | HEMATOLOGY | BLOOD | 753301\n      51300  -- WBC COUNT | HEMATOLOGY | BLOOD | 2371\n    )\n    AND valuenum IS NOT null AND valuenum > 0 -- lab values cannot be 0 and cannot be negative\n) pvt\nGROUP BY pvt.subject_id, pvt.hadm_id, pvt.icustay_id\nORDER BY pvt.subject_id, pvt.hadm_id, pvt.icustay_id;\n': permission denied for schema mimiciii\n",
     "traceback": [
      "\u001b[0;31m---------------------------------------------------------------------------\u001b[0m",
      "\u001b[0;31mProgrammingError\u001b[0m                          Traceback (most recent call last)",
      "\u001b[0;32m~/anaconda/envs/rpy-env/lib/python3.6/site-packages/pandas/io/sql.py\u001b[0m in \u001b[0;36mexecute\u001b[0;34m(self, *args, **kwargs)\u001b[0m\n\u001b[1;32m   1408\u001b[0m             \u001b[0;32melse\u001b[0m\u001b[0;34m:\u001b[0m\u001b[0;34m\u001b[0m\u001b[0m\n\u001b[0;32m-> 1409\u001b[0;31m                 \u001b[0mcur\u001b[0m\u001b[0;34m.\u001b[0m\u001b[0mexecute\u001b[0m\u001b[0;34m(\u001b[0m\u001b[0;34m*\u001b[0m\u001b[0margs\u001b[0m\u001b[0;34m)\u001b[0m\u001b[0;34m\u001b[0m\u001b[0m\n\u001b[0m\u001b[1;32m   1410\u001b[0m             \u001b[0;32mreturn\u001b[0m \u001b[0mcur\u001b[0m\u001b[0;34m\u001b[0m\u001b[0m\n",
      "\u001b[0;31mProgrammingError\u001b[0m: permission denied for schema mimiciii\n",
      "\nDuring handling of the above exception, another exception occurred:\n",
      "\u001b[0;31mDatabaseError\u001b[0m                             Traceback (most recent call last)",
      "\u001b[0;32m<ipython-input-3-3e96e1355ad3>\u001b[0m in \u001b[0;36m<module>\u001b[0;34m()\u001b[0m\n\u001b[1;32m    155\u001b[0m \u001b[0;34m\u001b[0m\u001b[0m\n\u001b[1;32m    156\u001b[0m \u001b[0;34m\u001b[0m\u001b[0m\n\u001b[0;32m--> 157\u001b[0;31m \u001b[0msofa_test_df\u001b[0m\u001b[0;34m=\u001b[0m\u001b[0mpd\u001b[0m\u001b[0;34m.\u001b[0m\u001b[0mread_sql_query\u001b[0m\u001b[0;34m(\u001b[0m\u001b[0msofa_test_sql\u001b[0m\u001b[0;34m,\u001b[0m\u001b[0mconn\u001b[0m\u001b[0;34m)\u001b[0m\u001b[0;34m\u001b[0m\u001b[0m\n\u001b[0m",
      "\u001b[0;32m~/anaconda/envs/rpy-env/lib/python3.6/site-packages/pandas/io/sql.py\u001b[0m in \u001b[0;36mread_sql_query\u001b[0;34m(sql, con, index_col, coerce_float, params, parse_dates, chunksize)\u001b[0m\n\u001b[1;32m    330\u001b[0m     return pandas_sql.read_query(\n\u001b[1;32m    331\u001b[0m         \u001b[0msql\u001b[0m\u001b[0;34m,\u001b[0m \u001b[0mindex_col\u001b[0m\u001b[0;34m=\u001b[0m\u001b[0mindex_col\u001b[0m\u001b[0;34m,\u001b[0m \u001b[0mparams\u001b[0m\u001b[0;34m=\u001b[0m\u001b[0mparams\u001b[0m\u001b[0;34m,\u001b[0m \u001b[0mcoerce_float\u001b[0m\u001b[0;34m=\u001b[0m\u001b[0mcoerce_float\u001b[0m\u001b[0;34m,\u001b[0m\u001b[0;34m\u001b[0m\u001b[0m\n\u001b[0;32m--> 332\u001b[0;31m         parse_dates=parse_dates, chunksize=chunksize)\n\u001b[0m\u001b[1;32m    333\u001b[0m \u001b[0;34m\u001b[0m\u001b[0m\n\u001b[1;32m    334\u001b[0m \u001b[0;34m\u001b[0m\u001b[0m\n",
      "\u001b[0;32m~/anaconda/envs/rpy-env/lib/python3.6/site-packages/pandas/io/sql.py\u001b[0m in \u001b[0;36mread_query\u001b[0;34m(self, sql, index_col, coerce_float, params, parse_dates, chunksize)\u001b[0m\n\u001b[1;32m   1442\u001b[0m \u001b[0;34m\u001b[0m\u001b[0m\n\u001b[1;32m   1443\u001b[0m         \u001b[0margs\u001b[0m \u001b[0;34m=\u001b[0m \u001b[0m_convert_params\u001b[0m\u001b[0;34m(\u001b[0m\u001b[0msql\u001b[0m\u001b[0;34m,\u001b[0m \u001b[0mparams\u001b[0m\u001b[0;34m)\u001b[0m\u001b[0;34m\u001b[0m\u001b[0m\n\u001b[0;32m-> 1444\u001b[0;31m         \u001b[0mcursor\u001b[0m \u001b[0;34m=\u001b[0m \u001b[0mself\u001b[0m\u001b[0;34m.\u001b[0m\u001b[0mexecute\u001b[0m\u001b[0;34m(\u001b[0m\u001b[0;34m*\u001b[0m\u001b[0margs\u001b[0m\u001b[0;34m)\u001b[0m\u001b[0;34m\u001b[0m\u001b[0m\n\u001b[0m\u001b[1;32m   1445\u001b[0m         \u001b[0mcolumns\u001b[0m \u001b[0;34m=\u001b[0m \u001b[0;34m[\u001b[0m\u001b[0mcol_desc\u001b[0m\u001b[0;34m[\u001b[0m\u001b[0;36m0\u001b[0m\u001b[0;34m]\u001b[0m \u001b[0;32mfor\u001b[0m \u001b[0mcol_desc\u001b[0m \u001b[0;32min\u001b[0m \u001b[0mcursor\u001b[0m\u001b[0;34m.\u001b[0m\u001b[0mdescription\u001b[0m\u001b[0;34m]\u001b[0m\u001b[0;34m\u001b[0m\u001b[0m\n\u001b[1;32m   1446\u001b[0m \u001b[0;34m\u001b[0m\u001b[0m\n",
      "\u001b[0;32m~/anaconda/envs/rpy-env/lib/python3.6/site-packages/pandas/io/sql.py\u001b[0m in \u001b[0;36mexecute\u001b[0;34m(self, *args, **kwargs)\u001b[0m\n\u001b[1;32m   1419\u001b[0m             ex = DatabaseError(\n\u001b[1;32m   1420\u001b[0m                 \"Execution failed on sql '%s': %s\" % (args[0], exc))\n\u001b[0;32m-> 1421\u001b[0;31m             \u001b[0mraise_with_traceback\u001b[0m\u001b[0;34m(\u001b[0m\u001b[0mex\u001b[0m\u001b[0;34m)\u001b[0m\u001b[0;34m\u001b[0m\u001b[0m\n\u001b[0m\u001b[1;32m   1422\u001b[0m \u001b[0;34m\u001b[0m\u001b[0m\n\u001b[1;32m   1423\u001b[0m     \u001b[0;34m@\u001b[0m\u001b[0mstaticmethod\u001b[0m\u001b[0;34m\u001b[0m\u001b[0m\n",
      "\u001b[0;32m~/anaconda/envs/rpy-env/lib/python3.6/site-packages/pandas/compat/__init__.py\u001b[0m in \u001b[0;36mraise_with_traceback\u001b[0;34m(exc, traceback)\u001b[0m\n\u001b[1;32m    383\u001b[0m         \u001b[0;32mif\u001b[0m \u001b[0mtraceback\u001b[0m \u001b[0;34m==\u001b[0m \u001b[0mEllipsis\u001b[0m\u001b[0;34m:\u001b[0m\u001b[0;34m\u001b[0m\u001b[0m\n\u001b[1;32m    384\u001b[0m             \u001b[0m_\u001b[0m\u001b[0;34m,\u001b[0m \u001b[0m_\u001b[0m\u001b[0;34m,\u001b[0m \u001b[0mtraceback\u001b[0m \u001b[0;34m=\u001b[0m \u001b[0msys\u001b[0m\u001b[0;34m.\u001b[0m\u001b[0mexc_info\u001b[0m\u001b[0;34m(\u001b[0m\u001b[0;34m)\u001b[0m\u001b[0;34m\u001b[0m\u001b[0m\n\u001b[0;32m--> 385\u001b[0;31m         \u001b[0;32mraise\u001b[0m \u001b[0mexc\u001b[0m\u001b[0;34m.\u001b[0m\u001b[0mwith_traceback\u001b[0m\u001b[0;34m(\u001b[0m\u001b[0mtraceback\u001b[0m\u001b[0;34m)\u001b[0m\u001b[0;34m\u001b[0m\u001b[0m\n\u001b[0m\u001b[1;32m    386\u001b[0m \u001b[0;32melse\u001b[0m\u001b[0;34m:\u001b[0m\u001b[0;34m\u001b[0m\u001b[0m\n\u001b[1;32m    387\u001b[0m     \u001b[0;31m# this version of raise is a syntax error in Python 3\u001b[0m\u001b[0;34m\u001b[0m\u001b[0;34m\u001b[0m\u001b[0m\n",
      "\u001b[0;32m~/anaconda/envs/rpy-env/lib/python3.6/site-packages/pandas/io/sql.py\u001b[0m in \u001b[0;36mexecute\u001b[0;34m(self, *args, **kwargs)\u001b[0m\n\u001b[1;32m   1407\u001b[0m                 \u001b[0mcur\u001b[0m\u001b[0;34m.\u001b[0m\u001b[0mexecute\u001b[0m\u001b[0;34m(\u001b[0m\u001b[0;34m*\u001b[0m\u001b[0margs\u001b[0m\u001b[0;34m,\u001b[0m \u001b[0;34m**\u001b[0m\u001b[0mkwargs\u001b[0m\u001b[0;34m)\u001b[0m\u001b[0;34m\u001b[0m\u001b[0m\n\u001b[1;32m   1408\u001b[0m             \u001b[0;32melse\u001b[0m\u001b[0;34m:\u001b[0m\u001b[0;34m\u001b[0m\u001b[0m\n\u001b[0;32m-> 1409\u001b[0;31m                 \u001b[0mcur\u001b[0m\u001b[0;34m.\u001b[0m\u001b[0mexecute\u001b[0m\u001b[0;34m(\u001b[0m\u001b[0;34m*\u001b[0m\u001b[0margs\u001b[0m\u001b[0;34m)\u001b[0m\u001b[0;34m\u001b[0m\u001b[0m\n\u001b[0m\u001b[1;32m   1410\u001b[0m             \u001b[0;32mreturn\u001b[0m \u001b[0mcur\u001b[0m\u001b[0;34m\u001b[0m\u001b[0m\n\u001b[1;32m   1411\u001b[0m         \u001b[0;32mexcept\u001b[0m \u001b[0mException\u001b[0m \u001b[0;32mas\u001b[0m \u001b[0mexc\u001b[0m\u001b[0;34m:\u001b[0m\u001b[0;34m\u001b[0m\u001b[0m\n",
      "\u001b[0;31mDatabaseError\u001b[0m: Execution failed on sql 'SET search_path to mimiciii;\n--DROP MATERIALIZED VIEW IF EXISTS labsfirstday CASCADE;\nCREATE materialized VIEW labsfirstday AS\nSELECT\n  pvt.subject_id, pvt.hadm_id, pvt.icustay_id\n\n  , min(CASE WHEN label = 'ANION GAP' THEN valuenum ELSE null END) as ANIONGAP_min\n  , max(CASE WHEN label = 'ANION GAP' THEN valuenum ELSE null END) as ANIONGAP_max\n  , min(CASE WHEN label = 'ALBUMIN' THEN valuenum ELSE null END) as ALBUMIN_min\n  , max(CASE WHEN label = 'ALBUMIN' THEN valuenum ELSE null END) as ALBUMIN_max\n  , min(CASE WHEN label = 'BANDS' THEN valuenum ELSE null END) as BANDS_min\n  , max(CASE WHEN label = 'BANDS' THEN valuenum ELSE null END) as BANDS_max\n  , min(CASE WHEN label = 'BICARBONATE' THEN valuenum ELSE null END) as BICARBONATE_min\n  , max(CASE WHEN label = 'BICARBONATE' THEN valuenum ELSE null END) as BICARBONATE_max\n  , min(CASE WHEN label = 'BILIRUBIN' THEN valuenum ELSE null END) as BILIRUBIN_min\n  , max(CASE WHEN label = 'BILIRUBIN' THEN valuenum ELSE null END) as BILIRUBIN_max\n  , min(CASE WHEN label = 'CREATININE' THEN valuenum ELSE null END) as CREATININE_min\n  , max(CASE WHEN label = 'CREATININE' THEN valuenum ELSE null END) as CREATININE_max\n  , min(CASE WHEN label = 'CHLORIDE' THEN valuenum ELSE null END) as CHLORIDE_min\n  , max(CASE WHEN label = 'CHLORIDE' THEN valuenum ELSE null END) as CHLORIDE_max\n  , min(CASE WHEN label = 'GLUCOSE' THEN valuenum ELSE null END) as GLUCOSE_min\n  , max(CASE WHEN label = 'GLUCOSE' THEN valuenum ELSE null END) as GLUCOSE_max\n  , min(CASE WHEN label = 'HEMATOCRIT' THEN valuenum ELSE null END) as HEMATOCRIT_min\n  , max(CASE WHEN label = 'HEMATOCRIT' THEN valuenum ELSE null END) as HEMATOCRIT_max\n  , min(CASE WHEN label = 'HEMOGLOBIN' THEN valuenum ELSE null END) as HEMOGLOBIN_min\n  , max(CASE WHEN label = 'HEMOGLOBIN' THEN valuenum ELSE null END) as HEMOGLOBIN_max\n  , min(CASE WHEN label = 'LACTATE' THEN valuenum ELSE null END) as LACTATE_min\n  , max(CASE WHEN label = 'LACTATE' THEN valuenum ELSE null END) as LACTATE_max\n  , min(CASE WHEN label = 'PLATELET' THEN valuenum ELSE null END) as PLATELET_min\n  , max(CASE WHEN label = 'PLATELET' THEN valuenum ELSE null END) as PLATELET_max\n  , min(CASE WHEN label = 'POTASSIUM' THEN valuenum ELSE null END) as POTASSIUM_min\n  , max(CASE WHEN label = 'POTASSIUM' THEN valuenum ELSE null END) as POTASSIUM_max\n  , min(CASE WHEN label = 'PTT' THEN valuenum ELSE null END) as PTT_min\n  , max(CASE WHEN label = 'PTT' THEN valuenum ELSE null END) as PTT_max\n  , min(CASE WHEN label = 'INR' THEN valuenum ELSE null END) as INR_min\n  , max(CASE WHEN label = 'INR' THEN valuenum ELSE null END) as INR_max\n  , min(CASE WHEN label = 'PT' THEN valuenum ELSE null END) as PT_min\n  , max(CASE WHEN label = 'PT' THEN valuenum ELSE null END) as PT_max\n  , min(CASE WHEN label = 'SODIUM' THEN valuenum ELSE null END) as SODIUM_min\n  , max(CASE WHEN label = 'SODIUM' THEN valuenum ELSE null end) as SODIUM_max\n  , min(CASE WHEN label = 'BUN' THEN valuenum ELSE null end) as BUN_min\n  , max(CASE WHEN label = 'BUN' THEN valuenum ELSE null end) as BUN_max\n  , min(CASE WHEN label = 'WBC' THEN valuenum ELSE null end) as WBC_min\n  , max(CASE WHEN label = 'WBC' THEN valuenum ELSE null end) as WBC_max\n\n\nFROM\n( -- begin query that extracts the data\n  SELECT ie.subject_id, ie.hadm_id, ie.icustay_id\n  -- here we assign labels to ITEMIDs\n  -- this also fuses together multiple ITEMIDs containing the same data\n  , CASE\n        WHEN itemid = 50868 THEN 'ANION GAP'\n        WHEN itemid = 50862 THEN 'ALBUMIN'\n        WHEN itemid = 51144 THEN 'BANDS'\n        WHEN itemid = 50882 THEN 'BICARBONATE'\n        WHEN itemid = 50885 THEN 'BILIRUBIN'\n        WHEN itemid = 50912 THEN 'CREATININE'\n        WHEN itemid = 50806 THEN 'CHLORIDE'\n        WHEN itemid = 50902 THEN 'CHLORIDE'\n        WHEN itemid = 50809 THEN 'GLUCOSE'\n        WHEN itemid = 50931 THEN 'GLUCOSE'\n        WHEN itemid = 50810 THEN 'HEMATOCRIT'\n        WHEN itemid = 51221 THEN 'HEMATOCRIT'\n        WHEN itemid = 50811 THEN 'HEMOGLOBIN'\n        WHEN itemid = 51222 THEN 'HEMOGLOBIN'\n        WHEN itemid = 50813 THEN 'LACTATE'\n        WHEN itemid = 51265 THEN 'PLATELET'\n        WHEN itemid = 50822 THEN 'POTASSIUM'\n        WHEN itemid = 50971 THEN 'POTASSIUM'\n        WHEN itemid = 51275 THEN 'PTT'\n        WHEN itemid = 51237 THEN 'INR'\n        WHEN itemid = 51274 THEN 'PT'\n        WHEN itemid = 50824 THEN 'SODIUM'\n        WHEN itemid = 50983 THEN 'SODIUM'\n        WHEN itemid = 51006 THEN 'BUN'\n        WHEN itemid = 51300 THEN 'WBC'\n        WHEN itemid = 51301 THEN 'WBC'\n      ELSE null\n    END AS label\n  , -- add in some sanity checks on the values\n  -- the where clause below requires all valuenum to be > 0, so these are only upper limit checks\n    CASE\n      WHEN itemid = 50862 and valuenum >    10 THEN null -- g/dL 'ALBUMIN'\n      WHEN itemid = 50868 and valuenum > 10000 THEN null -- mEq/L 'ANION GAP'\n      WHEN itemid = 51144 and valuenum <     0 THEN null -- immature band forms, %\n      WHEN itemid = 51144 and valuenum >   100 THEN null -- immature band forms, %\n      WHEN itemid = 50882 and valuenum > 10000 THEN null -- mEq/L 'BICARBONATE'\n      WHEN itemid = 50885 and valuenum >   150 THEN null -- mg/dL 'BILIRUBIN'\n      WHEN itemid = 50806 and valuenum > 10000 THEN null -- mEq/L 'CHLORIDE'\n      WHEN itemid = 50902 and valuenum > 10000 THEN null -- mEq/L 'CHLORIDE'\n      WHEN itemid = 50912 and valuenum >   150 THEN null -- mg/dL 'CREATININE'\n      WHEN itemid = 50809 and valuenum > 10000 THEN null -- mg/dL 'GLUCOSE'\n      WHEN itemid = 50931 and valuenum > 10000 THEN null -- mg/dL 'GLUCOSE'\n      WHEN itemid = 50810 and valuenum >   100 THEN null -- % 'HEMATOCRIT'\n      WHEN itemid = 51221 and valuenum >   100 THEN null -- % 'HEMATOCRIT'\n      WHEN itemid = 50811 and valuenum >    50 THEN null -- g/dL 'HEMOGLOBIN'\n      WHEN itemid = 51222 and valuenum >    50 THEN null -- g/dL 'HEMOGLOBIN'\n      WHEN itemid = 50813 and valuenum >    50 THEN null -- mmol/L 'LACTATE'\n      WHEN itemid = 51265 and valuenum > 10000 THEN null -- K/uL 'PLATELET'\n      WHEN itemid = 50822 and valuenum >    30 THEN null -- mEq/L 'POTASSIUM'\n      WHEN itemid = 50971 and valuenum >    30 THEN null -- mEq/L 'POTASSIUM'\n      WHEN itemid = 51275 and valuenum >   150 THEN null -- sec 'PTT'\n      WHEN itemid = 51237 and valuenum >    50 THEN null -- 'INR'\n      WHEN itemid = 51274 and valuenum >   150 THEN null -- sec 'PT'\n      WHEN itemid = 50824 and valuenum >   200 THEN null -- mEq/L == mmol/L 'SODIUM'\n      WHEN itemid = 50983 and valuenum >   200 THEN null -- mEq/L == mmol/L 'SODIUM'\n      WHEN itemid = 51006 and valuenum >   300 THEN null -- 'BUN'\n      WHEN itemid = 51300 and valuenum >  1000 THEN null -- 'WBC'\n      WHEN itemid = 51301 and valuenum >  1000 THEN null -- 'WBC'\n    ELSE le.valuenum\n    END AS valuenum\n\n  FROM icustays ie\n\n  LEFT JOIN labevents le\n    ON le.subject_id = ie.subject_id AND le.hadm_id = ie.hadm_id\n    AND le.charttime BETWEEN (ie.intime - interval '6' hour) AND (ie.intime + interval '1' day)\n    AND le.ITEMID in\n    (\n      -- comment is: LABEL | CATEGORY | FLUID | NUMBER OF ROWS IN LABEVENTS\n      50868, -- ANION GAP | CHEMISTRY | BLOOD | 769895\n      50862, -- ALBUMIN | CHEMISTRY | BLOOD | 146697\n      51144, -- BANDS - hematology\n      50882, -- BICARBONATE | CHEMISTRY | BLOOD | 780733\n      50885, -- BILIRUBIN, TOTAL | CHEMISTRY | BLOOD | 238277\n      50912, -- CREATININE | CHEMISTRY | BLOOD | 797476\n      50902, -- CHLORIDE | CHEMISTRY | BLOOD | 795568\n      50806, -- CHLORIDE, WHOLE BLOOD | BLOOD GAS | BLOOD | 48187\n      50931, -- GLUCOSE | CHEMISTRY | BLOOD | 748981\n      50809, -- GLUCOSE | BLOOD GAS | BLOOD | 196734\n      51221, -- HEMATOCRIT | HEMATOLOGY | BLOOD | 881846\n      50810, -- HEMATOCRIT, CALCULATED | BLOOD GAS | BLOOD | 89715\n      51222, -- HEMOGLOBIN | HEMATOLOGY | BLOOD | 752523\n      50811, -- HEMOGLOBIN | BLOOD GAS | BLOOD | 89712\n      50813, -- LACTATE | BLOOD GAS | BLOOD | 187124\n      51265, -- PLATELET COUNT | HEMATOLOGY | BLOOD | 778444\n      50971, -- POTASSIUM | CHEMISTRY | BLOOD | 845825\n      50822, -- POTASSIUM, WHOLE BLOOD | BLOOD GAS | BLOOD | 192946\n      51275, -- PTT | HEMATOLOGY | BLOOD | 474937\n      51237, -- INR(PT) | HEMATOLOGY | BLOOD | 471183\n      51274, -- PT | HEMATOLOGY | BLOOD | 469090\n      50983, -- SODIUM | CHEMISTRY | BLOOD | 808489\n      50824, -- SODIUM, WHOLE BLOOD | BLOOD GAS | BLOOD | 71503\n      51006, -- UREA NITROGEN | CHEMISTRY | BLOOD | 791925\n      51301, -- WHITE BLOOD CELLS | HEMATOLOGY | BLOOD | 753301\n      51300  -- WBC COUNT | HEMATOLOGY | BLOOD | 2371\n    )\n    AND valuenum IS NOT null AND valuenum > 0 -- lab values cannot be 0 and cannot be negative\n) pvt\nGROUP BY pvt.subject_id, pvt.hadm_id, pvt.icustay_id\nORDER BY pvt.subject_id, pvt.hadm_id, pvt.icustay_id;\n': permission denied for schema mimiciii\n"
     ],
     "output_type": "error"
    },
    {
     "name": "stdout",
     "output_type": "stream",
     "text": [
      "time: 325 ms\n"
     ]
    }
   ],
   "source": [
    "\n",
    "sofa_test_sql = query_schema + \"\"\"\n",
    "--DROP MATERIALIZED VIEW IF EXISTS labsfirstday CASCADE;\n",
    "CREATE materialized VIEW labsfirstday AS\n",
    "SELECT\n",
    "  pvt.subject_id, pvt.hadm_id, pvt.icustay_id\n",
    "\n",
    "  , min(CASE WHEN label = 'ANION GAP' THEN valuenum ELSE null END) as ANIONGAP_min\n",
    "  , max(CASE WHEN label = 'ANION GAP' THEN valuenum ELSE null END) as ANIONGAP_max\n",
    "  , min(CASE WHEN label = 'ALBUMIN' THEN valuenum ELSE null END) as ALBUMIN_min\n",
    "  , max(CASE WHEN label = 'ALBUMIN' THEN valuenum ELSE null END) as ALBUMIN_max\n",
    "  , min(CASE WHEN label = 'BANDS' THEN valuenum ELSE null END) as BANDS_min\n",
    "  , max(CASE WHEN label = 'BANDS' THEN valuenum ELSE null END) as BANDS_max\n",
    "  , min(CASE WHEN label = 'BICARBONATE' THEN valuenum ELSE null END) as BICARBONATE_min\n",
    "  , max(CASE WHEN label = 'BICARBONATE' THEN valuenum ELSE null END) as BICARBONATE_max\n",
    "  , min(CASE WHEN label = 'BILIRUBIN' THEN valuenum ELSE null END) as BILIRUBIN_min\n",
    "  , max(CASE WHEN label = 'BILIRUBIN' THEN valuenum ELSE null END) as BILIRUBIN_max\n",
    "  , min(CASE WHEN label = 'CREATININE' THEN valuenum ELSE null END) as CREATININE_min\n",
    "  , max(CASE WHEN label = 'CREATININE' THEN valuenum ELSE null END) as CREATININE_max\n",
    "  , min(CASE WHEN label = 'CHLORIDE' THEN valuenum ELSE null END) as CHLORIDE_min\n",
    "  , max(CASE WHEN label = 'CHLORIDE' THEN valuenum ELSE null END) as CHLORIDE_max\n",
    "  , min(CASE WHEN label = 'GLUCOSE' THEN valuenum ELSE null END) as GLUCOSE_min\n",
    "  , max(CASE WHEN label = 'GLUCOSE' THEN valuenum ELSE null END) as GLUCOSE_max\n",
    "  , min(CASE WHEN label = 'HEMATOCRIT' THEN valuenum ELSE null END) as HEMATOCRIT_min\n",
    "  , max(CASE WHEN label = 'HEMATOCRIT' THEN valuenum ELSE null END) as HEMATOCRIT_max\n",
    "  , min(CASE WHEN label = 'HEMOGLOBIN' THEN valuenum ELSE null END) as HEMOGLOBIN_min\n",
    "  , max(CASE WHEN label = 'HEMOGLOBIN' THEN valuenum ELSE null END) as HEMOGLOBIN_max\n",
    "  , min(CASE WHEN label = 'LACTATE' THEN valuenum ELSE null END) as LACTATE_min\n",
    "  , max(CASE WHEN label = 'LACTATE' THEN valuenum ELSE null END) as LACTATE_max\n",
    "  , min(CASE WHEN label = 'PLATELET' THEN valuenum ELSE null END) as PLATELET_min\n",
    "  , max(CASE WHEN label = 'PLATELET' THEN valuenum ELSE null END) as PLATELET_max\n",
    "  , min(CASE WHEN label = 'POTASSIUM' THEN valuenum ELSE null END) as POTASSIUM_min\n",
    "  , max(CASE WHEN label = 'POTASSIUM' THEN valuenum ELSE null END) as POTASSIUM_max\n",
    "  , min(CASE WHEN label = 'PTT' THEN valuenum ELSE null END) as PTT_min\n",
    "  , max(CASE WHEN label = 'PTT' THEN valuenum ELSE null END) as PTT_max\n",
    "  , min(CASE WHEN label = 'INR' THEN valuenum ELSE null END) as INR_min\n",
    "  , max(CASE WHEN label = 'INR' THEN valuenum ELSE null END) as INR_max\n",
    "  , min(CASE WHEN label = 'PT' THEN valuenum ELSE null END) as PT_min\n",
    "  , max(CASE WHEN label = 'PT' THEN valuenum ELSE null END) as PT_max\n",
    "  , min(CASE WHEN label = 'SODIUM' THEN valuenum ELSE null END) as SODIUM_min\n",
    "  , max(CASE WHEN label = 'SODIUM' THEN valuenum ELSE null end) as SODIUM_max\n",
    "  , min(CASE WHEN label = 'BUN' THEN valuenum ELSE null end) as BUN_min\n",
    "  , max(CASE WHEN label = 'BUN' THEN valuenum ELSE null end) as BUN_max\n",
    "  , min(CASE WHEN label = 'WBC' THEN valuenum ELSE null end) as WBC_min\n",
    "  , max(CASE WHEN label = 'WBC' THEN valuenum ELSE null end) as WBC_max\n",
    "\n",
    "\n",
    "FROM\n",
    "( -- begin query that extracts the data\n",
    "  SELECT ie.subject_id, ie.hadm_id, ie.icustay_id\n",
    "  -- here we assign labels to ITEMIDs\n",
    "  -- this also fuses together multiple ITEMIDs containing the same data\n",
    "  , CASE\n",
    "        WHEN itemid = 50868 THEN 'ANION GAP'\n",
    "        WHEN itemid = 50862 THEN 'ALBUMIN'\n",
    "        WHEN itemid = 51144 THEN 'BANDS'\n",
    "        WHEN itemid = 50882 THEN 'BICARBONATE'\n",
    "        WHEN itemid = 50885 THEN 'BILIRUBIN'\n",
    "        WHEN itemid = 50912 THEN 'CREATININE'\n",
    "        WHEN itemid = 50806 THEN 'CHLORIDE'\n",
    "        WHEN itemid = 50902 THEN 'CHLORIDE'\n",
    "        WHEN itemid = 50809 THEN 'GLUCOSE'\n",
    "        WHEN itemid = 50931 THEN 'GLUCOSE'\n",
    "        WHEN itemid = 50810 THEN 'HEMATOCRIT'\n",
    "        WHEN itemid = 51221 THEN 'HEMATOCRIT'\n",
    "        WHEN itemid = 50811 THEN 'HEMOGLOBIN'\n",
    "        WHEN itemid = 51222 THEN 'HEMOGLOBIN'\n",
    "        WHEN itemid = 50813 THEN 'LACTATE'\n",
    "        WHEN itemid = 51265 THEN 'PLATELET'\n",
    "        WHEN itemid = 50822 THEN 'POTASSIUM'\n",
    "        WHEN itemid = 50971 THEN 'POTASSIUM'\n",
    "        WHEN itemid = 51275 THEN 'PTT'\n",
    "        WHEN itemid = 51237 THEN 'INR'\n",
    "        WHEN itemid = 51274 THEN 'PT'\n",
    "        WHEN itemid = 50824 THEN 'SODIUM'\n",
    "        WHEN itemid = 50983 THEN 'SODIUM'\n",
    "        WHEN itemid = 51006 THEN 'BUN'\n",
    "        WHEN itemid = 51300 THEN 'WBC'\n",
    "        WHEN itemid = 51301 THEN 'WBC'\n",
    "      ELSE null\n",
    "    END AS label\n",
    "  , -- add in some sanity checks on the values\n",
    "  -- the where clause below requires all valuenum to be > 0, so these are only upper limit checks\n",
    "    CASE\n",
    "      WHEN itemid = 50862 and valuenum >    10 THEN null -- g/dL 'ALBUMIN'\n",
    "      WHEN itemid = 50868 and valuenum > 10000 THEN null -- mEq/L 'ANION GAP'\n",
    "      WHEN itemid = 51144 and valuenum <     0 THEN null -- immature band forms, %\n",
    "      WHEN itemid = 51144 and valuenum >   100 THEN null -- immature band forms, %\n",
    "      WHEN itemid = 50882 and valuenum > 10000 THEN null -- mEq/L 'BICARBONATE'\n",
    "      WHEN itemid = 50885 and valuenum >   150 THEN null -- mg/dL 'BILIRUBIN'\n",
    "      WHEN itemid = 50806 and valuenum > 10000 THEN null -- mEq/L 'CHLORIDE'\n",
    "      WHEN itemid = 50902 and valuenum > 10000 THEN null -- mEq/L 'CHLORIDE'\n",
    "      WHEN itemid = 50912 and valuenum >   150 THEN null -- mg/dL 'CREATININE'\n",
    "      WHEN itemid = 50809 and valuenum > 10000 THEN null -- mg/dL 'GLUCOSE'\n",
    "      WHEN itemid = 50931 and valuenum > 10000 THEN null -- mg/dL 'GLUCOSE'\n",
    "      WHEN itemid = 50810 and valuenum >   100 THEN null -- % 'HEMATOCRIT'\n",
    "      WHEN itemid = 51221 and valuenum >   100 THEN null -- % 'HEMATOCRIT'\n",
    "      WHEN itemid = 50811 and valuenum >    50 THEN null -- g/dL 'HEMOGLOBIN'\n",
    "      WHEN itemid = 51222 and valuenum >    50 THEN null -- g/dL 'HEMOGLOBIN'\n",
    "      WHEN itemid = 50813 and valuenum >    50 THEN null -- mmol/L 'LACTATE'\n",
    "      WHEN itemid = 51265 and valuenum > 10000 THEN null -- K/uL 'PLATELET'\n",
    "      WHEN itemid = 50822 and valuenum >    30 THEN null -- mEq/L 'POTASSIUM'\n",
    "      WHEN itemid = 50971 and valuenum >    30 THEN null -- mEq/L 'POTASSIUM'\n",
    "      WHEN itemid = 51275 and valuenum >   150 THEN null -- sec 'PTT'\n",
    "      WHEN itemid = 51237 and valuenum >    50 THEN null -- 'INR'\n",
    "      WHEN itemid = 51274 and valuenum >   150 THEN null -- sec 'PT'\n",
    "      WHEN itemid = 50824 and valuenum >   200 THEN null -- mEq/L == mmol/L 'SODIUM'\n",
    "      WHEN itemid = 50983 and valuenum >   200 THEN null -- mEq/L == mmol/L 'SODIUM'\n",
    "      WHEN itemid = 51006 and valuenum >   300 THEN null -- 'BUN'\n",
    "      WHEN itemid = 51300 and valuenum >  1000 THEN null -- 'WBC'\n",
    "      WHEN itemid = 51301 and valuenum >  1000 THEN null -- 'WBC'\n",
    "    ELSE le.valuenum\n",
    "    END AS valuenum\n",
    "\n",
    "  FROM icustays ie\n",
    "\n",
    "  LEFT JOIN labevents le\n",
    "    ON le.subject_id = ie.subject_id AND le.hadm_id = ie.hadm_id\n",
    "    AND le.charttime BETWEEN (ie.intime - interval '6' hour) AND (ie.intime + interval '1' day)\n",
    "    AND le.ITEMID in\n",
    "    (\n",
    "      -- comment is: LABEL | CATEGORY | FLUID | NUMBER OF ROWS IN LABEVENTS\n",
    "      50868, -- ANION GAP | CHEMISTRY | BLOOD | 769895\n",
    "      50862, -- ALBUMIN | CHEMISTRY | BLOOD | 146697\n",
    "      51144, -- BANDS - hematology\n",
    "      50882, -- BICARBONATE | CHEMISTRY | BLOOD | 780733\n",
    "      50885, -- BILIRUBIN, TOTAL | CHEMISTRY | BLOOD | 238277\n",
    "      50912, -- CREATININE | CHEMISTRY | BLOOD | 797476\n",
    "      50902, -- CHLORIDE | CHEMISTRY | BLOOD | 795568\n",
    "      50806, -- CHLORIDE, WHOLE BLOOD | BLOOD GAS | BLOOD | 48187\n",
    "      50931, -- GLUCOSE | CHEMISTRY | BLOOD | 748981\n",
    "      50809, -- GLUCOSE | BLOOD GAS | BLOOD | 196734\n",
    "      51221, -- HEMATOCRIT | HEMATOLOGY | BLOOD | 881846\n",
    "      50810, -- HEMATOCRIT, CALCULATED | BLOOD GAS | BLOOD | 89715\n",
    "      51222, -- HEMOGLOBIN | HEMATOLOGY | BLOOD | 752523\n",
    "      50811, -- HEMOGLOBIN | BLOOD GAS | BLOOD | 89712\n",
    "      50813, -- LACTATE | BLOOD GAS | BLOOD | 187124\n",
    "      51265, -- PLATELET COUNT | HEMATOLOGY | BLOOD | 778444\n",
    "      50971, -- POTASSIUM | CHEMISTRY | BLOOD | 845825\n",
    "      50822, -- POTASSIUM, WHOLE BLOOD | BLOOD GAS | BLOOD | 192946\n",
    "      51275, -- PTT | HEMATOLOGY | BLOOD | 474937\n",
    "      51237, -- INR(PT) | HEMATOLOGY | BLOOD | 471183\n",
    "      51274, -- PT | HEMATOLOGY | BLOOD | 469090\n",
    "      50983, -- SODIUM | CHEMISTRY | BLOOD | 808489\n",
    "      50824, -- SODIUM, WHOLE BLOOD | BLOOD GAS | BLOOD | 71503\n",
    "      51006, -- UREA NITROGEN | CHEMISTRY | BLOOD | 791925\n",
    "      51301, -- WHITE BLOOD CELLS | HEMATOLOGY | BLOOD | 753301\n",
    "      51300  -- WBC COUNT | HEMATOLOGY | BLOOD | 2371\n",
    "    )\n",
    "    AND valuenum IS NOT null AND valuenum > 0 -- lab values cannot be 0 and cannot be negative\n",
    ") pvt\n",
    "GROUP BY pvt.subject_id, pvt.hadm_id, pvt.icustay_id\n",
    "ORDER BY pvt.subject_id, pvt.hadm_id, pvt.icustay_id;\n",
    "\"\"\"\n",
    "\n",
    "    \n",
    "sofa_test_df=pd.read_sql_query(sofa_test_sql,conn) "
   ]
  },
  {
   "cell_type": "code",
   "execution_count": 18,
   "metadata": {},
   "outputs": [
    {
     "ename": "NameError",
     "evalue": "name 'patients' is not defined",
     "traceback": [
      "\u001b[0;31m---------------------------------------------------------------------------\u001b[0m",
      "\u001b[0;31mNameError\u001b[0m                                 Traceback (most recent call last)",
      "\u001b[0;32m<ipython-input-18-b4ea1b6b8d4a>\u001b[0m in \u001b[0;36m<module>\u001b[0;34m()\u001b[0m\n\u001b[1;32m      4\u001b[0m \u001b[0mcur\u001b[0m\u001b[0;34m.\u001b[0m\u001b[0mexecute\u001b[0m\u001b[0;34m(\u001b[0m\u001b[0muofirstdaydata\u001b[0m\u001b[0;34m)\u001b[0m\u001b[0;34m\u001b[0m\u001b[0m\n\u001b[1;32m      5\u001b[0m \u001b[0muofirstdayTable\u001b[0m \u001b[0;34m=\u001b[0m \u001b[0msql_exe_show\u001b[0m\u001b[0;34m(\u001b[0m\u001b[0;34m'select * from uofirstday;'\u001b[0m\u001b[0;34m)\u001b[0m\u001b[0;34m\u001b[0m\u001b[0m\n\u001b[0;32m----> 6\u001b[0;31m \u001b[0muofirstday\u001b[0m\u001b[0;34m=\u001b[0m \u001b[0msql_to_df_patients\u001b[0m\u001b[0;34m(\u001b[0m\u001b[0muofirstdayTable\u001b[0m\u001b[0;34m)\u001b[0m\u001b[0;34m\u001b[0m\u001b[0m\n\u001b[0m\u001b[1;32m      7\u001b[0m \u001b[0mechoDf\u001b[0m\u001b[0;34m[\u001b[0m\u001b[0;36m0\u001b[0m\u001b[0;34m:\u001b[0m\u001b[0;36m500\u001b[0m\u001b[0;34m]\u001b[0m\u001b[0;34m\u001b[0m\u001b[0m\n",
      "\u001b[0;32m<ipython-input-4-e1e8b828a40e>\u001b[0m in \u001b[0;36msql_to_df_patients\u001b[0;34m(sql_exe_show_obj)\u001b[0m\n\u001b[1;32m      7\u001b[0m \u001b[0;32mdef\u001b[0m \u001b[0msql_to_df_patients\u001b[0m\u001b[0;34m(\u001b[0m\u001b[0msql_exe_show_obj\u001b[0m\u001b[0;34m)\u001b[0m\u001b[0;34m:\u001b[0m\u001b[0;34m\u001b[0m\u001b[0m\n\u001b[1;32m      8\u001b[0m     \u001b[0msql_exe_show_df\u001b[0m\u001b[0;34m=\u001b[0m \u001b[0mpd\u001b[0m\u001b[0;34m.\u001b[0m\u001b[0mDataFrame\u001b[0m\u001b[0;34m(\u001b[0m\u001b[0mdata\u001b[0m\u001b[0;34m=\u001b[0m\u001b[0msql_exe_show_obj\u001b[0m\u001b[0;34m)\u001b[0m\u001b[0;34m\u001b[0m\u001b[0m\n\u001b[0;32m----> 9\u001b[0;31m     \u001b[0msql_exe_show_df\u001b[0m\u001b[0;34m=\u001b[0m\u001b[0msql_exe_show_df\u001b[0m\u001b[0;34m[\u001b[0m\u001b[0msql_exe_show_df\u001b[0m\u001b[0;34m[\u001b[0m\u001b[0;34m'subject_id'\u001b[0m\u001b[0;34m]\u001b[0m\u001b[0;34m.\u001b[0m\u001b[0misin\u001b[0m\u001b[0;34m(\u001b[0m\u001b[0mpatients\u001b[0m\u001b[0;34m)\u001b[0m\u001b[0;34m]\u001b[0m\u001b[0;34m\u001b[0m\u001b[0m\n\u001b[0m\u001b[1;32m     10\u001b[0m     \u001b[0;32mreturn\u001b[0m \u001b[0msql_exe_show_df\u001b[0m\u001b[0;34m\u001b[0m\u001b[0m\n",
      "\u001b[0;31mNameError\u001b[0m: name 'patients' is not defined"
     ],
     "output_type": "error"
    },
    {
     "name": "stdout",
     "output_type": "stream",
     "text": [
      "time: 4.31 s\n"
     ]
    }
   ],
   "source": [
    "f = open('/Users/geickelb1/Documents/GitHub/mimiciii-antibiotics-modeling/data/raw/urine.sql', 'r') \n",
    "uofirstdaydata = f.read()\n",
    "#cur.execute('rollback')\n",
    "cur.execute(uofirstdaydata)\n",
    "uofirstdayTable = sql_exe_show('select * from uofirstday;')\n",
    "uofirstday= sql_to_df_patients(uofirstdayTable)\n",
    "echoDf[0:500]"
   ]
  },
  {
   "cell_type": "code",
   "execution_count": null,
   "metadata": {},
   "outputs": [],
   "source": [
    "f = open('/Users/geickelb1/Desktop/PhD_Misc/HSIP_442_Yuan_Lao/project/sql/urine.sql', 'r')\n",
    "urineSQL = f.read()\n",
    "cur.execute('rollback')\n",
    "cur.execute(urineSQL)\n",
    "urineFirstDayTable = sql_exe_show('select * from uofirstday;')"
   ]
  },
  {
   "cell_type": "code",
   "execution_count": 24,
   "metadata": {},
   "outputs": [
    {
     "ename": "NameError",
     "evalue": "name 'patients' is not defined",
     "traceback": [
      "\u001b[0;31m---------------------------------------------------------------------------\u001b[0m",
      "\u001b[0;31mNameError\u001b[0m                                 Traceback (most recent call last)",
      "\u001b[0;32m<ipython-input-24-d24a4e5e36b8>\u001b[0m in \u001b[0;36m<module>\u001b[0;34m()\u001b[0m\n\u001b[1;32m      5\u001b[0m \u001b[0mcur\u001b[0m\u001b[0;34m.\u001b[0m\u001b[0mexecute\u001b[0m\u001b[0;34m(\u001b[0m\u001b[0mBGASQL\u001b[0m\u001b[0;34m)\u001b[0m\u001b[0;34m\u001b[0m\u001b[0m\n\u001b[1;32m      6\u001b[0m \u001b[0mBGATable\u001b[0m \u001b[0;34m=\u001b[0m \u001b[0msql_exe_show\u001b[0m\u001b[0;34m(\u001b[0m\u001b[0;34m'select * from bloodgasfirstdayarterial;'\u001b[0m\u001b[0;34m)\u001b[0m\u001b[0;34m\u001b[0m\u001b[0m\n\u001b[0;32m----> 7\u001b[0;31m \u001b[0mBGAdf\u001b[0m\u001b[0;34m=\u001b[0m \u001b[0msql_to_df_patients\u001b[0m\u001b[0;34m(\u001b[0m\u001b[0mBGATable\u001b[0m\u001b[0;34m)\u001b[0m\u001b[0;34m\u001b[0m\u001b[0m\n\u001b[0m\u001b[1;32m      8\u001b[0m \u001b[0;31m#bloodgasfirstdayarterial\u001b[0m\u001b[0;34m\u001b[0m\u001b[0;34m\u001b[0m\u001b[0m\n",
      "\u001b[0;32m<ipython-input-4-e1e8b828a40e>\u001b[0m in \u001b[0;36msql_to_df_patients\u001b[0;34m(sql_exe_show_obj)\u001b[0m\n\u001b[1;32m      7\u001b[0m \u001b[0;32mdef\u001b[0m \u001b[0msql_to_df_patients\u001b[0m\u001b[0;34m(\u001b[0m\u001b[0msql_exe_show_obj\u001b[0m\u001b[0;34m)\u001b[0m\u001b[0;34m:\u001b[0m\u001b[0;34m\u001b[0m\u001b[0m\n\u001b[1;32m      8\u001b[0m     \u001b[0msql_exe_show_df\u001b[0m\u001b[0;34m=\u001b[0m \u001b[0mpd\u001b[0m\u001b[0;34m.\u001b[0m\u001b[0mDataFrame\u001b[0m\u001b[0;34m(\u001b[0m\u001b[0mdata\u001b[0m\u001b[0;34m=\u001b[0m\u001b[0msql_exe_show_obj\u001b[0m\u001b[0;34m)\u001b[0m\u001b[0;34m\u001b[0m\u001b[0m\n\u001b[0;32m----> 9\u001b[0;31m     \u001b[0msql_exe_show_df\u001b[0m\u001b[0;34m=\u001b[0m\u001b[0msql_exe_show_df\u001b[0m\u001b[0;34m[\u001b[0m\u001b[0msql_exe_show_df\u001b[0m\u001b[0;34m[\u001b[0m\u001b[0;34m'subject_id'\u001b[0m\u001b[0;34m]\u001b[0m\u001b[0;34m.\u001b[0m\u001b[0misin\u001b[0m\u001b[0;34m(\u001b[0m\u001b[0mpatients\u001b[0m\u001b[0;34m)\u001b[0m\u001b[0;34m]\u001b[0m\u001b[0;34m\u001b[0m\u001b[0m\n\u001b[0m\u001b[1;32m     10\u001b[0m     \u001b[0;32mreturn\u001b[0m \u001b[0msql_exe_show_df\u001b[0m\u001b[0;34m\u001b[0m\u001b[0m\n",
      "\u001b[0;31mNameError\u001b[0m: name 'patients' is not defined"
     ],
     "output_type": "error"
    },
    {
     "name": "stdout",
     "output_type": "stream",
     "text": [
      "time: 1min 12s\n"
     ]
    }
   ],
   "source": [
    "#/Users/geickelb1/Documents/GitHub/mimic-code/concepts/firstday/blood-gas-first-day-arterial.sql\n",
    "f = open('/Users/geickelb1/Documents/GitHub/mimic-code/concepts/firstday/blood-gas-first-day-arterial.sql', 'r')\n",
    "BGASQL = f.read()\n",
    "cur.execute('rollback')\n",
    "cur.execute(BGASQL)\n",
    "BGATable = sql_exe_show('select * from bloodgasfirstdayarterial;')\n",
    "BGAdf= sql_to_df_patients(BGATable)\n",
    "#bloodgasfirstdayarterial"
   ]
  },
  {
   "cell_type": "code",
   "execution_count": 26,
   "metadata": {},
   "outputs": [
    {
     "name": "stdout",
     "output_type": "stream",
     "text": [
      "time: 40.9 s\n"
     ]
    }
   ],
   "source": [
    "BGATable = sql_exe_show('select * from bloodgasfirstdayarterial;')\n",
    "BGAdf= sql_to_df_patients(BGATable)"
   ]
  },
  {
   "cell_type": "code",
   "execution_count": 30,
   "metadata": {},
   "outputs": [
    {
     "data": {
      "text/plain": [
       "['subject_id',\n",
       " 'hadm_id',\n",
       " 'icustay_id',\n",
       " 'charttime',\n",
       " 'specimen',\n",
       " 'specimen_pred',\n",
       " 'specimen_prob',\n",
       " 'so2',\n",
       " 'spo2',\n",
       " 'po2',\n",
       " 'pco2',\n",
       " 'fio2_chartevents',\n",
       " 'fio2',\n",
       " 'aado2',\n",
       " 'aado2_calc',\n",
       " 'pao2fio2',\n",
       " 'ph',\n",
       " 'baseexcess',\n",
       " 'bicarbonate',\n",
       " 'totalco2',\n",
       " 'hematocrit',\n",
       " 'hemoglobin',\n",
       " 'carboxyhemoglobin',\n",
       " 'methemoglobin',\n",
       " 'chloride',\n",
       " 'calcium',\n",
       " 'temperature',\n",
       " 'potassium',\n",
       " 'sodium',\n",
       " 'lactate',\n",
       " 'glucose',\n",
       " 'intubated',\n",
       " 'tidalvolume',\n",
       " 'ventilationrate',\n",
       " 'ventilator',\n",
       " 'peep',\n",
       " 'o2flow',\n",
       " 'requiredo2']"
      ]
     },
     "execution_count": 30,
     "metadata": {},
     "output_type": "execute_result"
    },
    {
     "name": "stdout",
     "output_type": "stream",
     "text": [
      "time: 2.8 ms\n"
     ]
    }
   ],
   "source": [
    "list(BGAdf)"
   ]
  },
  {
   "cell_type": "code",
   "execution_count": null,
   "metadata": {},
   "outputs": [],
   "source": [
    "#this is super confusing how to run all the sql queries, \n",
    "#would be nice to ask someone how to organize and run this in a more efficient way."
   ]
  },
  {
   "cell_type": "code",
   "execution_count": null,
   "metadata": {},
   "outputs": [],
   "source": [
    "f = open('/Users/geickelb1/Documents/GitHub/mimiciii-antibiotics-modeling/data/raw/urine.sql', 'r') \n",
    "uofirstdaydata = f.read()\n",
    "#cur.execute('rollback')\n",
    "cur.execute(uofirstdaydata)\n",
    "uofirstdayTable = sql_exe_show('select * from uofirstday;')\n",
    "uofirstday= sql_to_df_patients(uofirstdayTable)\n",
    "echoDf[0:500]"
   ]
  }
 ],
 "metadata": {
  "kernelspec": {
   "display_name": "Python 3",
   "language": "python",
   "name": "python3"
  },
  "language_info": {
   "codemirror_mode": {
    "name": "ipython",
    "version": 3
   },
   "file_extension": ".py",
   "mimetype": "text/x-python",
   "name": "python",
   "nbconvert_exporter": "python",
   "pygments_lexer": "ipython3",
   "version": "3.6.4"
  }
 },
 "nbformat": 4,
 "nbformat_minor": 2
}
