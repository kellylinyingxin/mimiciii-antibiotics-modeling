{
 "cells": [
  {
   "cell_type": "markdown",
   "metadata": {},
   "source": [
    "the purpose of this notebook is to take the big dataframe created in 07.01-baseline_data_merging, and make an aggregate we can use for our baseline \"worst case\" scenario model. This will then be fed into R, where we will use the MICE package to impute data"
   ]
  },
  {
   "cell_type": "markdown",
   "metadata": {},
   "source": [
    "changelog:\n",
    "\n",
    "* 4/16/19: added newagg\n",
    "* 4/17/19: reformatted the ordering of how code runs, and variable names. added aggregation #3.\n",
    "* 4/19/19: changed the standardizing so that log(x+1) is now applied prior to standardization. also removed ordinal variables from standardizing algorithm and concat them in later with median 0 and iqr 1 so standardize value is either 0 or 1. values from ordinal are not log transformed.\n"
   ]
  },
  {
   "cell_type": "markdown",
   "metadata": {},
   "source": [
    "## last run: 6/9/19: sensitivity analysis 1day timewindow"
   ]
  },
  {
   "cell_type": "code",
   "execution_count": 1,
   "metadata": {},
   "outputs": [
    {
     "name": "stderr",
     "output_type": "stream",
     "text": [
      "/Users/geickelb1/anaconda/envs/rpy-env/lib/python3.6/site-packages/ipykernel_launcher.py:10: DeprecationWarning: The 'cachedir' parameter has been deprecated in version 0.12 and will be removed in version 0.14.\n",
      "You provided \"cachedir='/tmp'\", use \"location='/tmp'\" instead.\n",
      "  # Remove the CWD from sys.path while we load stuff.\n"
     ]
    }
   ],
   "source": [
    "import pandas as pd\n",
    "import matplotlib.pyplot as plt\n",
    "import os\n",
    "from pathlib import Path\n",
    "import seaborn as sns\n",
    "import numpy as np\n",
    "import glob\n",
    "\n",
    "from sklearn.externals.joblib import Memory\n",
    "memory = Memory(cachedir='/tmp', verbose=0)\n",
    "#@memory.cache above any def fxn.\n",
    "\n",
    "%matplotlib inline\n",
    "plt.style.use('ggplot')\n",
    "\n",
    "from notebook.services.config import ConfigManager\n",
    "cm = ConfigManager()\n",
    "cm.update('livereveal', {\n",
    "        'width': 1024,\n",
    "        'height': 768,\n",
    "        'scroll': True,\n",
    "})\n",
    "\n",
    "%load_ext autotime"
   ]
  },
  {
   "cell_type": "code",
   "execution_count": 2,
   "metadata": {},
   "outputs": [
    {
     "name": "stdout",
     "output_type": "stream",
     "text": [
      "time: 111 ms\n"
     ]
    }
   ],
   "source": [
    "#cohort import\n",
    "\n",
    "os.chdir('/Users/geickelb1/Documents/GitHub/mimiciii-antibiotics-modeling') #use to change working directory\n",
    "wd= os.getcwd() #'/Users/geickelb1/Documents/GitHub/mimiciii-antibiotics-modeling'\n",
    "\n",
    "\n",
    "final_pt_df2 = pd.read_csv(Path(wd + '/data/raw/csv/04042019_final_pt_df2_v.csv') , index_col=0) #only for patients with minimum vitals, 14478 icustay_id\n",
    "patients= list(final_pt_df2['subject_id'].unique())\n",
    "hadm_id= list(final_pt_df2['hadm_id'].unique())\n",
    "icustay_id= list(final_pt_df2['icustay_id'].unique())\n",
    "icustay_id= [int(x) for x in icustay_id]"
   ]
  },
  {
   "cell_type": "code",
   "execution_count": 3,
   "metadata": {},
   "outputs": [
    {
     "data": {
      "text/plain": [
       "11987"
      ]
     },
     "execution_count": 3,
     "metadata": {},
     "output_type": "execute_result"
    },
    {
     "name": "stdout",
     "output_type": "stream",
     "text": [
      "time: 7.11 ms\n"
     ]
    }
   ],
   "source": [
    "len(patients)"
   ]
  },
  {
   "cell_type": "code",
   "execution_count": 4,
   "metadata": {},
   "outputs": [
    {
     "name": "stdout",
     "output_type": "stream",
     "text": [
      "time: 12.8 s\n"
     ]
    }
   ],
   "source": [
    "##24 hr sensitivity\n",
    "# #importing in all clinical_variable files\n",
    "# timewindowdays=\"_24\"\n",
    "# # date= '04042019'\n",
    "# date='09062019'\n",
    "\n",
    "# # 78 hr elixhauser-redo \n",
    "#importing in all clinical_variable files\n",
    "timewindowdays=\"_72\"\n",
    "date='11062019'\n",
    "\n",
    "os.chdir(r'/Users/geickelb1/Documents/GitHub/mimiciii-antibiotics-modeling/data/processed/')\n",
    "big_df= pd.read_csv(Path(wd+'/data/processed/merged/{}_longdf_preImp{}.csv'.format(date,timewindowdays),  index_col=0))\n",
    "big_df= big_df.reset_index(drop=True).iloc[:,1:]\n"
   ]
  },
  {
   "cell_type": "code",
   "execution_count": 5,
   "metadata": {},
   "outputs": [
    {
     "name": "stdout",
     "output_type": "stream",
     "text": [
      "time: 1.91 ms\n"
     ]
    }
   ],
   "source": [
    "## last minute data cleaning/formatting\n",
    "\n",
    "# #removing firstpos else neg ssc col\n",
    "# big_df=big_df.loc[:,list(big_df.columns!=\"first_pos_else_neg_ssc\")]\n",
    "# #changing pao2/fio2 ratio label\n",
    "# big_df.loc[big_df['label']==\"pao2/fio2\",'label']=\"pao2fio2Ratio\""
   ]
  },
  {
   "cell_type": "code",
   "execution_count": 6,
   "metadata": {},
   "outputs": [
    {
     "data": {
      "text/html": [
       "<div>\n",
       "<style scoped>\n",
       "    .dataframe tbody tr th:only-of-type {\n",
       "        vertical-align: middle;\n",
       "    }\n",
       "\n",
       "    .dataframe tbody tr th {\n",
       "        vertical-align: top;\n",
       "    }\n",
       "\n",
       "    .dataframe thead th {\n",
       "        text-align: right;\n",
       "    }\n",
       "</style>\n",
       "<table border=\"1\" class=\"dataframe\">\n",
       "  <thead>\n",
       "    <tr style=\"text-align: right;\">\n",
       "      <th></th>\n",
       "      <th>count</th>\n",
       "      <th>unique</th>\n",
       "      <th>top</th>\n",
       "      <th>freq</th>\n",
       "    </tr>\n",
       "    <tr>\n",
       "      <th>label</th>\n",
       "      <th></th>\n",
       "      <th></th>\n",
       "      <th></th>\n",
       "      <th></th>\n",
       "    </tr>\n",
       "  </thead>\n",
       "  <tbody>\n",
       "    <tr>\n",
       "      <th>leukocyte</th>\n",
       "      <td>14181</td>\n",
       "      <td>2</td>\n",
       "      <td>Neg/Not_tested</td>\n",
       "      <td>12042</td>\n",
       "    </tr>\n",
       "    <tr>\n",
       "      <th>vasopressin</th>\n",
       "      <td>17425</td>\n",
       "      <td>2</td>\n",
       "      <td>0.0</td>\n",
       "      <td>13778</td>\n",
       "    </tr>\n",
       "    <tr>\n",
       "      <th>rrt</th>\n",
       "      <td>14181</td>\n",
       "      <td>2</td>\n",
       "      <td>0.0</td>\n",
       "      <td>13018</td>\n",
       "    </tr>\n",
       "    <tr>\n",
       "      <th>phenylephrine</th>\n",
       "      <td>26338</td>\n",
       "      <td>2</td>\n",
       "      <td>1.0</td>\n",
       "      <td>14377</td>\n",
       "    </tr>\n",
       "    <tr>\n",
       "      <th>cancer_elix</th>\n",
       "      <td>14181</td>\n",
       "      <td>2</td>\n",
       "      <td>0.0</td>\n",
       "      <td>12439</td>\n",
       "    </tr>\n",
       "    <tr>\n",
       "      <th>o2_flow</th>\n",
       "      <td>14433</td>\n",
       "      <td>2</td>\n",
       "      <td>0.0</td>\n",
       "      <td>13442</td>\n",
       "    </tr>\n",
       "    <tr>\n",
       "      <th>norepinephrine</th>\n",
       "      <td>34103</td>\n",
       "      <td>2</td>\n",
       "      <td>1.0</td>\n",
       "      <td>22755</td>\n",
       "    </tr>\n",
       "    <tr>\n",
       "      <th>nitrite</th>\n",
       "      <td>14181</td>\n",
       "      <td>2</td>\n",
       "      <td>Neg/Not_tested</td>\n",
       "      <td>13783</td>\n",
       "    </tr>\n",
       "    <tr>\n",
       "      <th>dobutamine</th>\n",
       "      <td>15470</td>\n",
       "      <td>2</td>\n",
       "      <td>0.0</td>\n",
       "      <td>13951</td>\n",
       "    </tr>\n",
       "    <tr>\n",
       "      <th>dopamine</th>\n",
       "      <td>18923</td>\n",
       "      <td>2</td>\n",
       "      <td>0.0</td>\n",
       "      <td>13329</td>\n",
       "    </tr>\n",
       "    <tr>\n",
       "      <th>epinephrine</th>\n",
       "      <td>15783</td>\n",
       "      <td>2</td>\n",
       "      <td>0.0</td>\n",
       "      <td>13892</td>\n",
       "    </tr>\n",
       "    <tr>\n",
       "      <th>gender</th>\n",
       "      <td>14181</td>\n",
       "      <td>2</td>\n",
       "      <td>M</td>\n",
       "      <td>7776</td>\n",
       "    </tr>\n",
       "    <tr>\n",
       "      <th>vent_recieved</th>\n",
       "      <td>14060</td>\n",
       "      <td>3</td>\n",
       "      <td>Mech</td>\n",
       "      <td>7139</td>\n",
       "    </tr>\n",
       "    <tr>\n",
       "      <th>pco2</th>\n",
       "      <td>14181</td>\n",
       "      <td>3</td>\n",
       "      <td>absent</td>\n",
       "      <td>8856</td>\n",
       "    </tr>\n",
       "    <tr>\n",
       "      <th>bands</th>\n",
       "      <td>14181</td>\n",
       "      <td>3</td>\n",
       "      <td>absent</td>\n",
       "      <td>11726</td>\n",
       "    </tr>\n",
       "    <tr>\n",
       "      <th>ethnicity</th>\n",
       "      <td>14181</td>\n",
       "      <td>5</td>\n",
       "      <td>white/nonhispanic</td>\n",
       "      <td>10330</td>\n",
       "    </tr>\n",
       "    <tr>\n",
       "      <th>sum_elix</th>\n",
       "      <td>15226</td>\n",
       "      <td>13</td>\n",
       "      <td>0.0</td>\n",
       "      <td>10058</td>\n",
       "    </tr>\n",
       "    <tr>\n",
       "      <th>mingcs</th>\n",
       "      <td>6749</td>\n",
       "      <td>13</td>\n",
       "      <td>15.0</td>\n",
       "      <td>2429</td>\n",
       "    </tr>\n",
       "    <tr>\n",
       "      <th>daily_sofa</th>\n",
       "      <td>36384</td>\n",
       "      <td>23</td>\n",
       "      <td>1</td>\n",
       "      <td>6799</td>\n",
       "    </tr>\n",
       "    <tr>\n",
       "      <th>bicarbonate</th>\n",
       "      <td>61434</td>\n",
       "      <td>55</td>\n",
       "      <td>24.0</td>\n",
       "      <td>5052</td>\n",
       "    </tr>\n",
       "    <tr>\n",
       "      <th>resprate</th>\n",
       "      <td>946727</td>\n",
       "      <td>74</td>\n",
       "      <td>20.0</td>\n",
       "      <td>75197</td>\n",
       "    </tr>\n",
       "    <tr>\n",
       "      <th>sodium</th>\n",
       "      <td>70286</td>\n",
       "      <td>81</td>\n",
       "      <td>139.0</td>\n",
       "      <td>6298</td>\n",
       "    </tr>\n",
       "    <tr>\n",
       "      <th>chloride</th>\n",
       "      <td>67264</td>\n",
       "      <td>84</td>\n",
       "      <td>106.0</td>\n",
       "      <td>4372</td>\n",
       "    </tr>\n",
       "    <tr>\n",
       "      <th>spo2</th>\n",
       "      <td>863268</td>\n",
       "      <td>102</td>\n",
       "      <td>100.0</td>\n",
       "      <td>193857</td>\n",
       "    </tr>\n",
       "    <tr>\n",
       "      <th>potassium</th>\n",
       "      <td>84665</td>\n",
       "      <td>102</td>\n",
       "      <td>4.0</td>\n",
       "      <td>6180</td>\n",
       "    </tr>\n",
       "    <tr>\n",
       "      <th>ph</th>\n",
       "      <td>67677</td>\n",
       "      <td>102</td>\n",
       "      <td>7.4</td>\n",
       "      <td>3558</td>\n",
       "    </tr>\n",
       "    <tr>\n",
       "      <th>height</th>\n",
       "      <td>9339</td>\n",
       "      <td>126</td>\n",
       "      <td>177.8</td>\n",
       "      <td>607</td>\n",
       "    </tr>\n",
       "    <tr>\n",
       "      <th>hemoglobin</th>\n",
       "      <td>63629</td>\n",
       "      <td>166</td>\n",
       "      <td>10.1</td>\n",
       "      <td>1553</td>\n",
       "    </tr>\n",
       "    <tr>\n",
       "      <th>calcium</th>\n",
       "      <td>28342</td>\n",
       "      <td>170</td>\n",
       "      <td>1.13</td>\n",
       "      <td>1455</td>\n",
       "    </tr>\n",
       "    <tr>\n",
       "      <th>inr</th>\n",
       "      <td>38542</td>\n",
       "      <td>180</td>\n",
       "      <td>1.2</td>\n",
       "      <td>5821</td>\n",
       "    </tr>\n",
       "    <tr>\n",
       "      <th>creatinine</th>\n",
       "      <td>61440</td>\n",
       "      <td>185</td>\n",
       "      <td>0.7</td>\n",
       "      <td>5270</td>\n",
       "    </tr>\n",
       "    <tr>\n",
       "      <th>bun</th>\n",
       "      <td>61175</td>\n",
       "      <td>195</td>\n",
       "      <td>14.0</td>\n",
       "      <td>1864</td>\n",
       "    </tr>\n",
       "    <tr>\n",
       "      <th>diasbp</th>\n",
       "      <td>870767</td>\n",
       "      <td>202</td>\n",
       "      <td>56.0</td>\n",
       "      <td>27577</td>\n",
       "    </tr>\n",
       "    <tr>\n",
       "      <th>heartrate</th>\n",
       "      <td>900507</td>\n",
       "      <td>207</td>\n",
       "      <td>80.0</td>\n",
       "      <td>23469</td>\n",
       "    </tr>\n",
       "    <tr>\n",
       "      <th>sysbp</th>\n",
       "      <td>875023</td>\n",
       "      <td>235</td>\n",
       "      <td>108.0</td>\n",
       "      <td>16069</td>\n",
       "    </tr>\n",
       "    <tr>\n",
       "      <th>lactate</th>\n",
       "      <td>36443</td>\n",
       "      <td>292</td>\n",
       "      <td>1.2</td>\n",
       "      <td>1763</td>\n",
       "    </tr>\n",
       "    <tr>\n",
       "      <th>bilirubin</th>\n",
       "      <td>17423</td>\n",
       "      <td>399</td>\n",
       "      <td>0.4</td>\n",
       "      <td>1451</td>\n",
       "    </tr>\n",
       "    <tr>\n",
       "      <th>meanartpress</th>\n",
       "      <td>885090</td>\n",
       "      <td>589</td>\n",
       "      <td>72.0</td>\n",
       "      <td>23459</td>\n",
       "    </tr>\n",
       "    <tr>\n",
       "      <th>temperature</th>\n",
       "      <td>266753</td>\n",
       "      <td>593</td>\n",
       "      <td>36.6666666666667</td>\n",
       "      <td>7388</td>\n",
       "    </tr>\n",
       "    <tr>\n",
       "      <th>glucose</th>\n",
       "      <td>218922</td>\n",
       "      <td>712</td>\n",
       "      <td>118.0</td>\n",
       "      <td>2378</td>\n",
       "    </tr>\n",
       "    <tr>\n",
       "      <th>wbc</th>\n",
       "      <td>54589</td>\n",
       "      <td>799</td>\n",
       "      <td>8.8</td>\n",
       "      <td>474</td>\n",
       "    </tr>\n",
       "    <tr>\n",
       "      <th>platelet</th>\n",
       "      <td>56303</td>\n",
       "      <td>907</td>\n",
       "      <td>151.0</td>\n",
       "      <td>244</td>\n",
       "    </tr>\n",
       "    <tr>\n",
       "      <th>pao2fio2ratio</th>\n",
       "      <td>14181</td>\n",
       "      <td>997</td>\n",
       "      <td>476.0</td>\n",
       "      <td>8857</td>\n",
       "    </tr>\n",
       "    <tr>\n",
       "      <th>ptt</th>\n",
       "      <td>40501</td>\n",
       "      <td>1236</td>\n",
       "      <td>150.0</td>\n",
       "      <td>925</td>\n",
       "    </tr>\n",
       "    <tr>\n",
       "      <th>weight</th>\n",
       "      <td>12895</td>\n",
       "      <td>1400</td>\n",
       "      <td>70.0</td>\n",
       "      <td>246</td>\n",
       "    </tr>\n",
       "    <tr>\n",
       "      <th>first_admit_age</th>\n",
       "      <td>14181</td>\n",
       "      <td>5008</td>\n",
       "      <td>300.0</td>\n",
       "      <td>890</td>\n",
       "    </tr>\n",
       "  </tbody>\n",
       "</table>\n",
       "</div>"
      ],
      "text/plain": [
       "                  count unique                top    freq\n",
       "label                                                    \n",
       "leukocyte         14181      2     Neg/Not_tested   12042\n",
       "vasopressin       17425      2                0.0   13778\n",
       "rrt               14181      2                0.0   13018\n",
       "phenylephrine     26338      2                1.0   14377\n",
       "cancer_elix       14181      2                0.0   12439\n",
       "o2_flow           14433      2                0.0   13442\n",
       "norepinephrine    34103      2                1.0   22755\n",
       "nitrite           14181      2     Neg/Not_tested   13783\n",
       "dobutamine        15470      2                0.0   13951\n",
       "dopamine          18923      2                0.0   13329\n",
       "epinephrine       15783      2                0.0   13892\n",
       "gender            14181      2                  M    7776\n",
       "vent_recieved     14060      3               Mech    7139\n",
       "pco2              14181      3             absent    8856\n",
       "bands             14181      3             absent   11726\n",
       "ethnicity         14181      5  white/nonhispanic   10330\n",
       "sum_elix          15226     13                0.0   10058\n",
       "mingcs             6749     13               15.0    2429\n",
       "daily_sofa        36384     23                  1    6799\n",
       "bicarbonate       61434     55               24.0    5052\n",
       "resprate         946727     74               20.0   75197\n",
       "sodium            70286     81              139.0    6298\n",
       "chloride          67264     84              106.0    4372\n",
       "spo2             863268    102              100.0  193857\n",
       "potassium         84665    102                4.0    6180\n",
       "ph                67677    102                7.4    3558\n",
       "height             9339    126              177.8     607\n",
       "hemoglobin        63629    166               10.1    1553\n",
       "calcium           28342    170               1.13    1455\n",
       "inr               38542    180                1.2    5821\n",
       "creatinine        61440    185                0.7    5270\n",
       "bun               61175    195               14.0    1864\n",
       "diasbp           870767    202               56.0   27577\n",
       "heartrate        900507    207               80.0   23469\n",
       "sysbp            875023    235              108.0   16069\n",
       "lactate           36443    292                1.2    1763\n",
       "bilirubin         17423    399                0.4    1451\n",
       "meanartpress     885090    589               72.0   23459\n",
       "temperature      266753    593   36.6666666666667    7388\n",
       "glucose          218922    712              118.0    2378\n",
       "wbc               54589    799                8.8     474\n",
       "platelet          56303    907              151.0     244\n",
       "pao2fio2ratio     14181    997              476.0    8857\n",
       "ptt               40501   1236              150.0     925\n",
       "weight            12895   1400               70.0     246\n",
       "first_admit_age   14181   5008              300.0     890"
      ]
     },
     "execution_count": 6,
     "metadata": {},
     "output_type": "execute_result"
    },
    {
     "name": "stdout",
     "output_type": "stream",
     "text": [
      "time: 1.88 s\n"
     ]
    }
   ],
   "source": [
    "#overview of all variables and formats\n",
    "big_df.groupby('label')['value'].describe().sort_values('unique')"
   ]
  },
  {
   "cell_type": "markdown",
   "metadata": {},
   "source": [
    "## initial data prep"
   ]
  },
  {
   "cell_type": "code",
   "execution_count": 7,
   "metadata": {},
   "outputs": [
    {
     "name": "stdout",
     "output_type": "stream",
     "text": [
      "time: 1.79 ms\n"
     ]
    }
   ],
   "source": [
    "# #converting venttype to category\n",
    "# big_df.loc[big_df.loc[:,'label']=='vent_recieved','value']= big_df.loc[big_df.loc[:,'label']=='vent_recieved','value'].astype('category')\n",
    "# #big_df.loc[big_df.loc[:,'label']=='vent_recieved','value'].apply(astype('category'))\n",
    "# big_df.loc[big_df.loc[:,'label']=='vent_recieved','value'] = pd.Categorical(big_df.loc[big_df.loc[:,'label']=='vent_recieved','value'])"
   ]
  },
  {
   "cell_type": "code",
   "execution_count": 8,
   "metadata": {},
   "outputs": [
    {
     "name": "stdout",
     "output_type": "stream",
     "text": [
      "time: 4.22 s\n"
     ]
    }
   ],
   "source": [
    "#converting categories to integers\n",
    "mapper={'Mech':2 , 'Oxygen': 1, 'None': 0}\n",
    "big_df.loc[big_df.loc[:,'label']=='vent_recieved','value']=big_df.loc[big_df.loc[:,'label']=='vent_recieved','value'].replace(mapper)\n",
    "\n",
    "#gender_index=pd.factorize(big_df.loc[big_df.loc[:,'label']=='gender','value'])[1]\n",
    "mapper={'F':0 , 'M': 1}\n",
    "big_df.loc[big_df.loc[:,'label']=='gender','value']=big_df.loc[big_df.loc[:,'label']=='gender','value'].replace(mapper)\n",
    "\n",
    "#leukocyte_index=pd.factorize(big_df.loc[big_df.loc[:,'label']=='leukocyte','value'])[1]\n",
    "mapper={'Neg/Not_tested':0 , 'pos': 1}\n",
    "big_df.loc[big_df.loc[:,'label']=='leukocyte','value']=big_df.loc[big_df.loc[:,'label']=='leukocyte','value'].replace(mapper)\n",
    "#     pd.factorize(big_df.loc[big_df.loc[:,'label']=='leukocyte','value'])[0] \n",
    "\n",
    "#nitrite_index=pd.factorize(big_df.loc[big_df.loc[:,'label']=='nitrite','value'])[1]\n",
    "mapper={'Neg/Not_tested':0 , 'pos': 1}\n",
    "big_df.loc[big_df.loc[:,'label']=='nitrite','value']=big_df.loc[big_df.loc[:,'label']=='nitrite','value'].replace(mapper)\n",
    "#     pd.factorize(big_df.loc[big_df.loc[:,'label']=='nitrite','value'])[0] \n"
   ]
  },
  {
   "cell_type": "code",
   "execution_count": 9,
   "metadata": {},
   "outputs": [
    {
     "data": {
      "text/plain": [
       "2    7139\n",
       "1    6175\n",
       "0     746\n",
       "Name: value, dtype: int64"
      ]
     },
     "execution_count": 9,
     "metadata": {},
     "output_type": "execute_result"
    },
    {
     "name": "stdout",
     "output_type": "stream",
     "text": [
      "time: 300 ms\n"
     ]
    }
   ],
   "source": [
    "big_df.loc[big_df.loc[:,'label']=='vent_recieved','value'].value_counts()"
   ]
  },
  {
   "cell_type": "code",
   "execution_count": 10,
   "metadata": {},
   "outputs": [
    {
     "data": {
      "text/plain": [
       "2    7139\n",
       "1    6175\n",
       "0     746\n",
       "Name: value, dtype: int64"
      ]
     },
     "execution_count": 10,
     "metadata": {},
     "output_type": "execute_result"
    },
    {
     "name": "stdout",
     "output_type": "stream",
     "text": [
      "time: 297 ms\n"
     ]
    }
   ],
   "source": [
    "big_df.loc[big_df.loc[:,'label']=='vent_recieved','value'].value_counts()"
   ]
  },
  {
   "cell_type": "markdown",
   "metadata": {},
   "source": [
    "#exploring alternative "
   ]
  },
  {
   "cell_type": "markdown",
   "metadata": {},
   "source": [
    "# changing pao2/fio2 ratio to a category\n",
    "A PaO2/FiO2 ratio less than or equal to 200 is necessary for the diagnosis of acute respiratory distress syndrome by the AECC criteria.[6] \n",
    "The more recent Berlin criteria defines mild ARDS at a ratio of <300.\n",
    "\n",
    "A PaO2/FiO2 ratio less than or equal to 250 is one of the minor criteria for severe community acquired pneumonia (i.e., possible indication for inpatient treatment).\n",
    "\n",
    "A PaO2/FiO2 ratio less than or equal to 333 is one of the variables in the SMART-COP risk score for intensive respiratory or vasopressor support in community-acquired pneumonia.\n",
    "\n"
   ]
  },
  {
   "cell_type": "code",
   "execution_count": 11,
   "metadata": {},
   "outputs": [
    {
     "data": {
      "text/plain": [
       "(475, 3000]    9634\n",
       "(0, 200]       1878\n",
       "(200, 333]     1417\n",
       "(333, 475]     1252\n",
       "Name: value, dtype: int64"
      ]
     },
     "execution_count": 11,
     "metadata": {},
     "output_type": "execute_result"
    },
    {
     "name": "stdout",
     "output_type": "stream",
     "text": [
      "time: 1.8 s\n"
     ]
    }
   ],
   "source": [
    "pd.to_numeric(big_df[big_df['label']==\"pao2fio2ratio\"]['value'])\n",
    "labels= ['0-200', '201-333', \"334-475\",\"476+\"]\n",
    "bins = pd.IntervalIndex.from_tuples([(0, 200), (200, 333), (333, 475),(475,3000)])\n",
    "\n",
    "big_df.loc[big_df['label']==\"pao2fio2ratio\",'value']=pd.cut(pd.to_numeric(big_df.loc[big_df['label']==\"pao2fio2ratio\",'value']), bins,right=False, labels=labels)\n",
    "big_df.loc[big_df['label']==\"pao2fio2ratio\",'value'].value_counts()\n"
   ]
  },
  {
   "cell_type": "code",
   "execution_count": null,
   "metadata": {},
   "outputs": [],
   "source": []
  },
  {
   "cell_type": "markdown",
   "metadata": {},
   "source": [
    "## calc median/iqr for standardization\n",
    "take all non-categorical variables for HEALTHY PATIENTS and calculate the median and IQR for them. then will use this to make z scores via: x-median/IQR"
   ]
  },
  {
   "cell_type": "markdown",
   "metadata": {},
   "source": [
    "### june 13: changed sparse to catgorical"
   ]
  },
  {
   "cell_type": "code",
   "execution_count": 12,
   "metadata": {},
   "outputs": [
    {
     "name": "stdout",
     "output_type": "stream",
     "text": [
      "time: 23.8 ms\n"
     ]
    }
   ],
   "source": [
    "continuous=['daily_sofa',\n",
    "            'lactate',\n",
    "            'mingcs',\n",
    "            'diasbp',\n",
    "            'heartrate',\n",
    "            'meanartpress',\n",
    "            'resprate',\n",
    "            'sysbp',\n",
    "            'temperature',\n",
    "            'hemoglobin',\n",
    "            'platelet',\n",
    "            'wbc',\n",
    "            'calcium',\n",
    "            'glucose',\n",
    "            'ph',\n",
    "            'bicarbonate',\n",
    "            'bun',\n",
    "            'chloride',\n",
    "            'creatinine',\n",
    "            'inr',\n",
    "            'potassium',\n",
    "            'ptt',\n",
    "            'sodium',\n",
    "            'bilirubin',\n",
    "            'spo2',\n",
    "            'sum_elix']\n",
    "\n",
    "\n",
    "onetime=['first_admit_age','height','weight']\n",
    "\n",
    "vaso_active=['phenylephrine',\n",
    "            'norepinephrine',\n",
    "            'vasopressin',\n",
    "            'dobutamine',\n",
    "            'dopamine',\n",
    "            'epinephrine'] \n",
    "\n",
    "ordinal=[\n",
    "            'leukocyte',\n",
    "            'nitrite',\n",
    "            'vent_recieved',\n",
    "            'o2_flow',\n",
    "            'rrt',\n",
    "            'pao2fio2ratio',\n",
    "            'cancer_elix',\n",
    "            \"all_vasoactives\",\n",
    "            'bands', #added 6/13/19\n",
    "            'pco2' #added 6/13/19\n",
    "]\n",
    "\n",
    "categorical=[\n",
    "            \"ethnicity\",\n",
    "            'gender'\n",
    "]\n"
   ]
  },
  {
   "cell_type": "code",
   "execution_count": 13,
   "metadata": {},
   "outputs": [
    {
     "name": "stdout",
     "output_type": "stream",
     "text": [
      "time: 11.8 ms\n"
     ]
    }
   ],
   "source": [
    "final_bin=final_pt_df2[['icustay_id',\"final_bin\"]].copy()\n",
    "#list of healthy pt\n",
    "healthy_pt=list(final_bin[final_bin['final_bin']==\"C_neg/A_partial\"]['icustay_id'])\n",
    "del(final_bin)"
   ]
  },
  {
   "cell_type": "code",
   "execution_count": 14,
   "metadata": {},
   "outputs": [
    {
     "name": "stdout",
     "output_type": "stream",
     "text": [
      "time: 5.74 s\n"
     ]
    }
   ],
   "source": [
    "#splitting big_df, making a copy and restricting it to all values that will be usd in standardizing\n",
    "healthy_df=big_df.copy()\n",
    "healthy_df=healthy_df[healthy_df['label'].isin(continuous+onetime)]\n",
    "\n",
    "healthy_df['value']= pd.to_numeric(healthy_df['value']) #converting to numeric \n",
    "\n",
    "#filter to only healthy patients filter\n",
    "healthy_df=healthy_df[healthy_df['icustay_id'].isin(healthy_pt)].copy() #only numerical values for cneg/ab partial pt"
   ]
  },
  {
   "cell_type": "code",
   "execution_count": 15,
   "metadata": {},
   "outputs": [
    {
     "data": {
      "text/html": [
       "<div>\n",
       "<style scoped>\n",
       "    .dataframe tbody tr th:only-of-type {\n",
       "        vertical-align: middle;\n",
       "    }\n",
       "\n",
       "    .dataframe tbody tr th {\n",
       "        vertical-align: top;\n",
       "    }\n",
       "\n",
       "    .dataframe thead th {\n",
       "        text-align: right;\n",
       "    }\n",
       "</style>\n",
       "<table border=\"1\" class=\"dataframe\">\n",
       "  <thead>\n",
       "    <tr style=\"text-align: right;\">\n",
       "      <th></th>\n",
       "      <th>icustay_id</th>\n",
       "      <th>uom</th>\n",
       "      <th>label</th>\n",
       "      <th>value</th>\n",
       "      <th>t_0</th>\n",
       "      <th>delta</th>\n",
       "      <th>source</th>\n",
       "      <th>subject_id</th>\n",
       "      <th>end</th>\n",
       "      <th>start</th>\n",
       "    </tr>\n",
       "  </thead>\n",
       "  <tbody>\n",
       "    <tr>\n",
       "      <th>0</th>\n",
       "      <td>200012.0</td>\n",
       "      <td>daily_sofa_score</td>\n",
       "      <td>daily_sofa</td>\n",
       "      <td>1.00</td>\n",
       "      <td>2153-12-23</td>\n",
       "      <td>0 days 00:00:00.000000000</td>\n",
       "      <td>sofa</td>\n",
       "      <td>28448</td>\n",
       "      <td>0 days 15:00:00.000000000</td>\n",
       "      <td>-1 days +15:00:00</td>\n",
       "    </tr>\n",
       "    <tr>\n",
       "      <th>1</th>\n",
       "      <td>200012.0</td>\n",
       "      <td>years</td>\n",
       "      <td>first_admit_age</td>\n",
       "      <td>32.99</td>\n",
       "      <td>2153-12-23</td>\n",
       "      <td>0 days 00:00:00.000000000</td>\n",
       "      <td>pt_info</td>\n",
       "      <td>28448</td>\n",
       "      <td>0 days 15:00:00.000000000</td>\n",
       "      <td>-1 days +15:00:00</td>\n",
       "    </tr>\n",
       "    <tr>\n",
       "      <th>2</th>\n",
       "      <td>200012.0</td>\n",
       "      <td>elixhauser_comorb_sum</td>\n",
       "      <td>sum_elix</td>\n",
       "      <td>0.00</td>\n",
       "      <td>2153-12-23</td>\n",
       "      <td>0 days 00:00:00.000000000</td>\n",
       "      <td>sum_elix</td>\n",
       "      <td>28448</td>\n",
       "      <td>0 days 15:00:00.000000000</td>\n",
       "      <td>-1 days +15:00:00</td>\n",
       "    </tr>\n",
       "    <tr>\n",
       "      <th>3</th>\n",
       "      <td>200012.0</td>\n",
       "      <td>kg</td>\n",
       "      <td>weight</td>\n",
       "      <td>51.20</td>\n",
       "      <td>2153-12-23</td>\n",
       "      <td>0 days 00:00:00.000000000</td>\n",
       "      <td>weight</td>\n",
       "      <td>28448</td>\n",
       "      <td>0 days 15:00:00.000000000</td>\n",
       "      <td>-1 days +15:00:00</td>\n",
       "    </tr>\n",
       "    <tr>\n",
       "      <th>4</th>\n",
       "      <td>200012.0</td>\n",
       "      <td>mmol/L</td>\n",
       "      <td>lactate</td>\n",
       "      <td>1.30</td>\n",
       "      <td>2153-12-23</td>\n",
       "      <td>0 days 02:36:00.000000000</td>\n",
       "      <td>labs</td>\n",
       "      <td>28448</td>\n",
       "      <td>0 days 15:00:00.000000000</td>\n",
       "      <td>-1 days +15:00:00</td>\n",
       "    </tr>\n",
       "  </tbody>\n",
       "</table>\n",
       "</div>"
      ],
      "text/plain": [
       "   icustay_id                    uom            label  value         t_0  \\\n",
       "0    200012.0       daily_sofa_score       daily_sofa   1.00  2153-12-23   \n",
       "1    200012.0                  years  first_admit_age  32.99  2153-12-23   \n",
       "2    200012.0  elixhauser_comorb_sum         sum_elix   0.00  2153-12-23   \n",
       "3    200012.0                     kg           weight  51.20  2153-12-23   \n",
       "4    200012.0                 mmol/L          lactate   1.30  2153-12-23   \n",
       "\n",
       "                       delta    source  subject_id                        end  \\\n",
       "0  0 days 00:00:00.000000000      sofa       28448  0 days 15:00:00.000000000   \n",
       "1  0 days 00:00:00.000000000   pt_info       28448  0 days 15:00:00.000000000   \n",
       "2  0 days 00:00:00.000000000  sum_elix       28448  0 days 15:00:00.000000000   \n",
       "3  0 days 00:00:00.000000000    weight       28448  0 days 15:00:00.000000000   \n",
       "4  0 days 02:36:00.000000000      labs       28448  0 days 15:00:00.000000000   \n",
       "\n",
       "              start  \n",
       "0 -1 days +15:00:00  \n",
       "1 -1 days +15:00:00  \n",
       "2 -1 days +15:00:00  \n",
       "3 -1 days +15:00:00  \n",
       "4 -1 days +15:00:00  "
      ]
     },
     "execution_count": 15,
     "metadata": {},
     "output_type": "execute_result"
    },
    {
     "name": "stdout",
     "output_type": "stream",
     "text": [
      "time: 2.26 s\n"
     ]
    }
   ],
   "source": [
    "#finding the last 24 hours of each healthy patient.\n",
    "healthy_pt_end=pd.DataFrame(healthy_df.groupby(\"icustay_id\")['delta'].max())\n",
    "\n",
    "healthy_pt_end[\"start\"]=healthy_pt_end['delta']- pd.to_timedelta(\"1 day 00:00:00\")\n",
    "healthy_pt_end=healthy_pt_end.rename(columns={\"delta\":\"end\"}).reset_index()\n",
    "\n",
    "healthy_df= pd.merge(healthy_df,healthy_pt_end, left_on=\"icustay_id\", right_on=\"icustay_id\", how=\"left\" ) #now have the last 24 hours annotated for each patient as start and end.\n",
    "healthy_df.head()"
   ]
  },
  {
   "cell_type": "code",
   "execution_count": 16,
   "metadata": {},
   "outputs": [
    {
     "name": "stdout",
     "output_type": "stream",
     "text": [
      "time: 1.68 s\n"
     ]
    }
   ],
   "source": [
    "#calculating medians and iqr for each label based on healthy patient's last 24 hours in icu\n",
    "median_label=pd.DataFrame((healthy_df.groupby(\"label\")['value'].median())).reset_index()\n",
    "median_label=median_label.rename(columns={'value':\"median\"})\n",
    "iqr_label=pd.DataFrame((healthy_df.groupby(\"label\")['value'].quantile(0.75)-healthy_df.groupby(\"label\")['value'].quantile(0.25))).reset_index()\n",
    "iqr_label=iqr_label.rename(columns={'value':\"iqr\"})\n",
    "median_label=pd.merge(median_label,iqr_label)  #final median df\n",
    "del(iqr_label)\n",
    "        \n",
    "#saving the median label for standardization, will be used later on in teh notebook\n",
    "# pd.DataFrame(median_label).to_csv(Path(\n",
    "#     wd+'/data/processed/merged/%s_healthy_medians.csv' %(date)),index=False)"
   ]
  },
  {
   "cell_type": "code",
   "execution_count": 17,
   "metadata": {},
   "outputs": [
    {
     "data": {
      "text/html": [
       "<div>\n",
       "<style scoped>\n",
       "    .dataframe tbody tr th:only-of-type {\n",
       "        vertical-align: middle;\n",
       "    }\n",
       "\n",
       "    .dataframe tbody tr th {\n",
       "        vertical-align: top;\n",
       "    }\n",
       "\n",
       "    .dataframe thead th {\n",
       "        text-align: right;\n",
       "    }\n",
       "</style>\n",
       "<table border=\"1\" class=\"dataframe\">\n",
       "  <thead>\n",
       "    <tr style=\"text-align: right;\">\n",
       "      <th></th>\n",
       "      <th>label</th>\n",
       "      <th>median</th>\n",
       "      <th>iqr</th>\n",
       "    </tr>\n",
       "  </thead>\n",
       "  <tbody>\n",
       "    <tr>\n",
       "      <th>0</th>\n",
       "      <td>bicarbonate</td>\n",
       "      <td>24.00</td>\n",
       "      <td>5.000000</td>\n",
       "    </tr>\n",
       "    <tr>\n",
       "      <th>1</th>\n",
       "      <td>bilirubin</td>\n",
       "      <td>0.80</td>\n",
       "      <td>1.600000</td>\n",
       "    </tr>\n",
       "    <tr>\n",
       "      <th>2</th>\n",
       "      <td>bun</td>\n",
       "      <td>20.00</td>\n",
       "      <td>21.000000</td>\n",
       "    </tr>\n",
       "    <tr>\n",
       "      <th>3</th>\n",
       "      <td>calcium</td>\n",
       "      <td>1.14</td>\n",
       "      <td>0.110000</td>\n",
       "    </tr>\n",
       "    <tr>\n",
       "      <th>4</th>\n",
       "      <td>chloride</td>\n",
       "      <td>105.00</td>\n",
       "      <td>8.000000</td>\n",
       "    </tr>\n",
       "    <tr>\n",
       "      <th>5</th>\n",
       "      <td>creatinine</td>\n",
       "      <td>1.00</td>\n",
       "      <td>0.900000</td>\n",
       "    </tr>\n",
       "    <tr>\n",
       "      <th>6</th>\n",
       "      <td>daily_sofa</td>\n",
       "      <td>3.00</td>\n",
       "      <td>3.000000</td>\n",
       "    </tr>\n",
       "    <tr>\n",
       "      <th>7</th>\n",
       "      <td>diasbp</td>\n",
       "      <td>59.00</td>\n",
       "      <td>18.000000</td>\n",
       "    </tr>\n",
       "    <tr>\n",
       "      <th>8</th>\n",
       "      <td>first_admit_age</td>\n",
       "      <td>65.15</td>\n",
       "      <td>26.085000</td>\n",
       "    </tr>\n",
       "    <tr>\n",
       "      <th>9</th>\n",
       "      <td>glucose</td>\n",
       "      <td>127.00</td>\n",
       "      <td>56.000000</td>\n",
       "    </tr>\n",
       "    <tr>\n",
       "      <th>10</th>\n",
       "      <td>heartrate</td>\n",
       "      <td>85.00</td>\n",
       "      <td>23.000000</td>\n",
       "    </tr>\n",
       "    <tr>\n",
       "      <th>11</th>\n",
       "      <td>height</td>\n",
       "      <td>170.00</td>\n",
       "      <td>15.240000</td>\n",
       "    </tr>\n",
       "    <tr>\n",
       "      <th>12</th>\n",
       "      <td>hemoglobin</td>\n",
       "      <td>10.20</td>\n",
       "      <td>2.400000</td>\n",
       "    </tr>\n",
       "    <tr>\n",
       "      <th>13</th>\n",
       "      <td>inr</td>\n",
       "      <td>1.30</td>\n",
       "      <td>0.500000</td>\n",
       "    </tr>\n",
       "    <tr>\n",
       "      <th>14</th>\n",
       "      <td>lactate</td>\n",
       "      <td>1.70</td>\n",
       "      <td>1.400000</td>\n",
       "    </tr>\n",
       "    <tr>\n",
       "      <th>15</th>\n",
       "      <td>meanartpress</td>\n",
       "      <td>76.00</td>\n",
       "      <td>20.000000</td>\n",
       "    </tr>\n",
       "    <tr>\n",
       "      <th>16</th>\n",
       "      <td>mingcs</td>\n",
       "      <td>14.00</td>\n",
       "      <td>2.000000</td>\n",
       "    </tr>\n",
       "    <tr>\n",
       "      <th>17</th>\n",
       "      <td>ph</td>\n",
       "      <td>7.39</td>\n",
       "      <td>0.090000</td>\n",
       "    </tr>\n",
       "    <tr>\n",
       "      <th>18</th>\n",
       "      <td>platelet</td>\n",
       "      <td>188.00</td>\n",
       "      <td>130.000000</td>\n",
       "    </tr>\n",
       "    <tr>\n",
       "      <th>19</th>\n",
       "      <td>potassium</td>\n",
       "      <td>4.00</td>\n",
       "      <td>0.800000</td>\n",
       "    </tr>\n",
       "    <tr>\n",
       "      <th>20</th>\n",
       "      <td>ptt</td>\n",
       "      <td>32.80</td>\n",
       "      <td>14.700000</td>\n",
       "    </tr>\n",
       "    <tr>\n",
       "      <th>21</th>\n",
       "      <td>resprate</td>\n",
       "      <td>19.00</td>\n",
       "      <td>7.000000</td>\n",
       "    </tr>\n",
       "    <tr>\n",
       "      <th>22</th>\n",
       "      <td>sodium</td>\n",
       "      <td>139.00</td>\n",
       "      <td>5.000000</td>\n",
       "    </tr>\n",
       "    <tr>\n",
       "      <th>23</th>\n",
       "      <td>spo2</td>\n",
       "      <td>97.00</td>\n",
       "      <td>4.000000</td>\n",
       "    </tr>\n",
       "    <tr>\n",
       "      <th>24</th>\n",
       "      <td>sum_elix</td>\n",
       "      <td>0.00</td>\n",
       "      <td>3.000000</td>\n",
       "    </tr>\n",
       "    <tr>\n",
       "      <th>25</th>\n",
       "      <td>sysbp</td>\n",
       "      <td>118.00</td>\n",
       "      <td>30.000000</td>\n",
       "    </tr>\n",
       "    <tr>\n",
       "      <th>26</th>\n",
       "      <td>temperature</td>\n",
       "      <td>36.90</td>\n",
       "      <td>1.044444</td>\n",
       "    </tr>\n",
       "    <tr>\n",
       "      <th>27</th>\n",
       "      <td>wbc</td>\n",
       "      <td>9.80</td>\n",
       "      <td>6.200000</td>\n",
       "    </tr>\n",
       "    <tr>\n",
       "      <th>28</th>\n",
       "      <td>weight</td>\n",
       "      <td>77.00</td>\n",
       "      <td>26.000000</td>\n",
       "    </tr>\n",
       "  </tbody>\n",
       "</table>\n",
       "</div>"
      ],
      "text/plain": [
       "              label  median         iqr\n",
       "0       bicarbonate   24.00    5.000000\n",
       "1         bilirubin    0.80    1.600000\n",
       "2               bun   20.00   21.000000\n",
       "3           calcium    1.14    0.110000\n",
       "4          chloride  105.00    8.000000\n",
       "5        creatinine    1.00    0.900000\n",
       "6        daily_sofa    3.00    3.000000\n",
       "7            diasbp   59.00   18.000000\n",
       "8   first_admit_age   65.15   26.085000\n",
       "9           glucose  127.00   56.000000\n",
       "10        heartrate   85.00   23.000000\n",
       "11           height  170.00   15.240000\n",
       "12       hemoglobin   10.20    2.400000\n",
       "13              inr    1.30    0.500000\n",
       "14          lactate    1.70    1.400000\n",
       "15     meanartpress   76.00   20.000000\n",
       "16           mingcs   14.00    2.000000\n",
       "17               ph    7.39    0.090000\n",
       "18         platelet  188.00  130.000000\n",
       "19        potassium    4.00    0.800000\n",
       "20              ptt   32.80   14.700000\n",
       "21         resprate   19.00    7.000000\n",
       "22           sodium  139.00    5.000000\n",
       "23             spo2   97.00    4.000000\n",
       "24         sum_elix    0.00    3.000000\n",
       "25            sysbp  118.00   30.000000\n",
       "26      temperature   36.90    1.044444\n",
       "27              wbc    9.80    6.200000\n",
       "28           weight   77.00   26.000000"
      ]
     },
     "execution_count": 17,
     "metadata": {},
     "output_type": "execute_result"
    },
    {
     "name": "stdout",
     "output_type": "stream",
     "text": [
      "time: 18.4 ms\n"
     ]
    }
   ],
   "source": [
    "median_label"
   ]
  },
  {
   "cell_type": "markdown",
   "metadata": {},
   "source": [
    "# Standardizing data"
   ]
  },
  {
   "cell_type": "markdown",
   "metadata": {},
   "source": [
    "### dataformatting: convert all dtypes to a numeric type that pereserves nan. "
   ]
  },
  {
   "cell_type": "code",
   "execution_count": 18,
   "metadata": {},
   "outputs": [
    {
     "name": "stdout",
     "output_type": "stream",
     "text": [
      "time: 2min 56s\n"
     ]
    }
   ],
   "source": [
    "#splitting categorical, ordinal and continuous\n",
    "big_categorical= big_df.loc[big_df.loc[:,'label'].isin(categorical),:].copy() \n",
    "\n",
    "#continuous and ordinal variables\n",
    "big_noCat1= big_df.loc[big_df.loc[:,'label'].isin(continuous),:].copy() \n",
    "big_noCat1['value']= big_noCat1['value'].apply(pd.to_numeric, args=('coerce',)) #instead of convert to float, may preserve nan's better. "
   ]
  },
  {
   "cell_type": "markdown",
   "metadata": {},
   "source": [
    "### adding a standardized value (x-median)/iqr  where median is of the last 24 hours in time window for culture neg/ ab partial patients "
   ]
  },
  {
   "cell_type": "code",
   "execution_count": 19,
   "metadata": {},
   "outputs": [
    {
     "name": "stdout",
     "output_type": "stream",
     "text": [
      "time: 2.42 s\n"
     ]
    }
   ],
   "source": [
    "big_noCat=pd.merge(big_noCat1, median_label, how=\"left\") #\n",
    "\n",
    "#loging values\n",
    "big_noCat['median']= np.log(big_noCat['median']+1.0)\n",
    "big_noCat['iqr']= np.log(big_noCat['iqr']+1.0)\n",
    "big_noCat['raw_value']=big_noCat['value']\n",
    "big_noCat['value']=np.log(big_noCat['value']+1.0)\n",
    "##"
   ]
  },
  {
   "cell_type": "code",
   "execution_count": 20,
   "metadata": {},
   "outputs": [
    {
     "data": {
      "text/html": [
       "<div>\n",
       "<style scoped>\n",
       "    .dataframe tbody tr th:only-of-type {\n",
       "        vertical-align: middle;\n",
       "    }\n",
       "\n",
       "    .dataframe tbody tr th {\n",
       "        vertical-align: top;\n",
       "    }\n",
       "\n",
       "    .dataframe thead th {\n",
       "        text-align: right;\n",
       "    }\n",
       "</style>\n",
       "<table border=\"1\" class=\"dataframe\">\n",
       "  <thead>\n",
       "    <tr style=\"text-align: right;\">\n",
       "      <th></th>\n",
       "      <th>icustay_id</th>\n",
       "      <th>uom</th>\n",
       "      <th>label</th>\n",
       "      <th>value</th>\n",
       "      <th>t_0</th>\n",
       "      <th>delta</th>\n",
       "      <th>source</th>\n",
       "      <th>subject_id</th>\n",
       "      <th>median</th>\n",
       "      <th>iqr</th>\n",
       "      <th>raw_value</th>\n",
       "      <th>standardize</th>\n",
       "    </tr>\n",
       "  </thead>\n",
       "  <tbody>\n",
       "    <tr>\n",
       "      <th>0</th>\n",
       "      <td>200012.0</td>\n",
       "      <td>daily_sofa_score</td>\n",
       "      <td>daily_sofa</td>\n",
       "      <td>0.693147</td>\n",
       "      <td>2153-12-23</td>\n",
       "      <td>0 days 00:00:00.000000000</td>\n",
       "      <td>sofa</td>\n",
       "      <td>28448</td>\n",
       "      <td>1.38629</td>\n",
       "      <td>1.38629</td>\n",
       "      <td>1</td>\n",
       "      <td>-0.5</td>\n",
       "    </tr>\n",
       "    <tr>\n",
       "      <th>1</th>\n",
       "      <td>200012.0</td>\n",
       "      <td>elixhauser_comorb_sum</td>\n",
       "      <td>sum_elix</td>\n",
       "      <td>0</td>\n",
       "      <td>2153-12-23</td>\n",
       "      <td>0 days 00:00:00.000000000</td>\n",
       "      <td>sum_elix</td>\n",
       "      <td>28448</td>\n",
       "      <td>0</td>\n",
       "      <td>1.38629</td>\n",
       "      <td>0</td>\n",
       "      <td>0</td>\n",
       "    </tr>\n",
       "    <tr>\n",
       "      <th>2</th>\n",
       "      <td>200012.0</td>\n",
       "      <td>mmol/L</td>\n",
       "      <td>lactate</td>\n",
       "      <td>0.832909</td>\n",
       "      <td>2153-12-23</td>\n",
       "      <td>0 days 02:36:00.000000000</td>\n",
       "      <td>labs</td>\n",
       "      <td>28448</td>\n",
       "      <td>0.993252</td>\n",
       "      <td>0.875469</td>\n",
       "      <td>1.3</td>\n",
       "      <td>-0.183151</td>\n",
       "    </tr>\n",
       "    <tr>\n",
       "      <th>3</th>\n",
       "      <td>200012.0</td>\n",
       "      <td>gcs_score</td>\n",
       "      <td>mingcs</td>\n",
       "      <td>2.77259</td>\n",
       "      <td>2153-12-23</td>\n",
       "      <td>0 days 05:12:00.000000000</td>\n",
       "      <td>gcs</td>\n",
       "      <td>28448</td>\n",
       "      <td>2.70805</td>\n",
       "      <td>1.09861</td>\n",
       "      <td>15</td>\n",
       "      <td>0.0587455</td>\n",
       "    </tr>\n",
       "    <tr>\n",
       "      <th>4</th>\n",
       "      <td>200012.0</td>\n",
       "      <td>mmHg</td>\n",
       "      <td>diasbp</td>\n",
       "      <td>4.38203</td>\n",
       "      <td>2153-12-23</td>\n",
       "      <td>0 days 06:16:00.000000000</td>\n",
       "      <td>vitals</td>\n",
       "      <td>28448</td>\n",
       "      <td>4.09434</td>\n",
       "      <td>2.94444</td>\n",
       "      <td>79</td>\n",
       "      <td>0.0977035</td>\n",
       "    </tr>\n",
       "  </tbody>\n",
       "</table>\n",
       "</div>"
      ],
      "text/plain": [
       "   icustay_id                    uom       label     value         t_0  \\\n",
       "0    200012.0       daily_sofa_score  daily_sofa  0.693147  2153-12-23   \n",
       "1    200012.0  elixhauser_comorb_sum    sum_elix         0  2153-12-23   \n",
       "2    200012.0                 mmol/L     lactate  0.832909  2153-12-23   \n",
       "3    200012.0              gcs_score      mingcs   2.77259  2153-12-23   \n",
       "4    200012.0                   mmHg      diasbp   4.38203  2153-12-23   \n",
       "\n",
       "                       delta    source  subject_id    median       iqr  \\\n",
       "0  0 days 00:00:00.000000000      sofa       28448   1.38629   1.38629   \n",
       "1  0 days 00:00:00.000000000  sum_elix       28448         0   1.38629   \n",
       "2  0 days 02:36:00.000000000      labs       28448  0.993252  0.875469   \n",
       "3  0 days 05:12:00.000000000       gcs       28448   2.70805   1.09861   \n",
       "4  0 days 06:16:00.000000000    vitals       28448   4.09434   2.94444   \n",
       "\n",
       "  raw_value standardize  \n",
       "0         1        -0.5  \n",
       "1         0           0  \n",
       "2       1.3   -0.183151  \n",
       "3        15   0.0587455  \n",
       "4        79   0.0977035  "
      ]
     },
     "execution_count": 20,
     "metadata": {},
     "output_type": "execute_result"
    },
    {
     "name": "stdout",
     "output_type": "stream",
     "text": [
      "time: 9.88 s\n"
     ]
    }
   ],
   "source": [
    "big_noCat['standardize']=((big_noCat['value']-big_noCat['median'])/big_noCat['iqr']).fillna(0) #standardize is log standardized\n",
    "\n",
    "#making an ordinal df to concat on\n",
    "ord_df=big_df.loc[big_df.loc[:,'label'].isin(ordinal+vaso_active),:].copy()\n",
    "ord_df['raw_value']=ord_df['value']\n",
    "ord_df['standardize']=ord_df['value']\n",
    "ord_df['median']=None\n",
    "ord_df['iqr']=None\n",
    "\n",
    "big_noCat=pd.concat([big_noCat,ord_df], sort=False)\n",
    "del(ord_df)\n",
    "\n",
    "#making all ordinal values in standardize equal to unstandardized\n",
    "big_noCat.loc[big_noCat['label'].isin(ordinal+vaso_active),'standardize']=big_noCat.loc[big_noCat['label'].isin(ordinal+vaso_active),'value']  #do i need to add sparse?\n",
    "big_noCat.head()"
   ]
  },
  {
   "cell_type": "code",
   "execution_count": 21,
   "metadata": {},
   "outputs": [
    {
     "name": "stdout",
     "output_type": "stream",
     "text": [
      "time: 32.8 s\n"
     ]
    }
   ],
   "source": [
    "big_noCat['standardize']= big_noCat['standardize'].apply(pd.to_numeric, args=('coerce',)) #errors occuring downstream due to not having numeric, trying this 4/18/19"
   ]
  },
  {
   "cell_type": "markdown",
   "metadata": {},
   "source": [
    "# aggregation1:\n",
    "### clincally guided min/max"
   ]
  },
  {
   "cell_type": "code",
   "execution_count": 22,
   "metadata": {},
   "outputs": [
    {
     "name": "stdout",
     "output_type": "stream",
     "text": [
      "time: 14.6 ms\n"
     ]
    }
   ],
   "source": [
    "hi_value= ['bands',\n",
    "'bilirubin',\n",
    "'bun',\n",
    "'chloride',\n",
    "'creatinine',\n",
    "'daily_sofa',\n",
    "'glucose',\n",
    "'heartrate',\n",
    "'inr',\n",
    "'lactate',\n",
    "'pco2',\n",
    "'potassium',\n",
    "'ptt',\n",
    "'resprate',\n",
    "'temperature',\n",
    "'weight', 'rrt', \n",
    "'phenylephrine', 'norepinephrine', 'vasopressin', 'dobutamine', 'dopamine', 'epinephrine',  #added this and removed individual vasoactive 5/3/19\n",
    "'first_admit_age','leukocyte','nitrite','vent_recieved','o2_flow', \n",
    "'any_vasoactive', #added this and removed individual vasoactive 5/3/19\n",
    "'sum_elix', #added 6/4/19\n",
    "'cancer_elix'  ]#added 6/4/19\n",
    "\n",
    "low_value=['bicarbonate',\n",
    "'diasbp',\n",
    "'hemoglobin',\n",
    "'meanartpress',\n",
    "'mingcs',\n",
    "'ph',\n",
    "'platelet',\n",
    "'spo2',\n",
    "'sysbp']\n",
    "\n",
    "both_value=['calcium',\n",
    "'sodium',\n",
    "'wbc']\n",
    "\n",
    "#important_ordinal=[\"any_vasoactive\"]\n",
    "important_onetime=['first_admit_age','weight','pao2fio2ratio']\n"
   ]
  },
  {
   "cell_type": "code",
   "execution_count": 23,
   "metadata": {},
   "outputs": [
    {
     "name": "stderr",
     "output_type": "stream",
     "text": [
      "/Users/geickelb1/anaconda/envs/rpy-env/lib/python3.6/site-packages/ipykernel_launcher.py:9: FutureWarning: Passing integers to fillna is deprecated, will raise a TypeError in a future version.  To retain the old behavior, pass pd.Timedelta(seconds=n) instead.\n",
      "  if __name__ == '__main__':\n"
     ]
    },
    {
     "name": "stdout",
     "output_type": "stream",
     "text": [
      "time: 5.13 s\n"
     ]
    }
   ],
   "source": [
    "##combining vasoactives\n",
    "vaso_active_df=big_noCat[big_noCat['label'].isin(vaso_active)].groupby('icustay_id')['value'].max().reset_index()\n",
    "vaso_active_df['uom']=\"y/n\"\n",
    "vaso_active_df['label']=\"any_vasoactive\"\n",
    "vaso_active_df['delta']=pd.to_timedelta(\"0days\")\n",
    "vaso_active_df['source']=\"all_vasoactives\"\n",
    "\n",
    "vaso_active_df=pd.merge(vaso_active_df, final_pt_df2[[\"icustay_id\",'subject_id',\"t_0\"]], how=\"left\", left_on=\"icustay_id\", right_on=\"icustay_id\")\n",
    "vaso_active_df=pd.merge(vaso_active_df, median_label, how=\"left\").fillna(0)\n",
    "vaso_active_df['standardize']=vaso_active_df['value']\n",
    "vaso_active_df['raw_value']=vaso_active_df['value']\n",
    "vaso_active_df.head()\n",
    "\n",
    "# # #grabing the rest of the variables not suitable for range or mean/std\n",
    "big_noCat=pd.concat([big_noCat, vaso_active_df], sort=False)"
   ]
  },
  {
   "cell_type": "markdown",
   "metadata": {},
   "source": [
    "### running the min/max aggregations.\n",
    "\n"
   ]
  },
  {
   "cell_type": "code",
   "execution_count": 24,
   "metadata": {},
   "outputs": [
    {
     "name": "stdout",
     "output_type": "stream",
     "text": [
      "time: 641 µs\n"
     ]
    }
   ],
   "source": [
    "##choose here if wanna use standardization or raw values.\n",
    "values=\"standardize\""
   ]
  },
  {
   "cell_type": "code",
   "execution_count": 25,
   "metadata": {},
   "outputs": [
    {
     "data": {
      "text/plain": [
       "array(['daily_sofa', 'sum_elix', 'lactate', 'mingcs', 'diasbp',\n",
       "       'heartrate', 'meanartpress', 'resprate', 'spo2', 'sysbp',\n",
       "       'temperature', 'hemoglobin', 'platelet', 'wbc', 'calcium',\n",
       "       'glucose', 'ph', 'bicarbonate', 'bun', 'chloride', 'creatinine',\n",
       "       'inr', 'potassium', 'ptt', 'sodium', 'bilirubin', 'cancer_elix',\n",
       "       'dobutamine', 'dopamine', 'epinephrine', 'norepinephrine',\n",
       "       'o2_flow', 'pao2fio2ratio', 'pco2', 'phenylephrine', 'rrt',\n",
       "       'vasopressin', 'vent_recieved', 'bands', 'leukocyte', 'nitrite',\n",
       "       'any_vasoactive'], dtype=object)"
      ]
     },
     "execution_count": 25,
     "metadata": {},
     "output_type": "execute_result"
    },
    {
     "name": "stdout",
     "output_type": "stream",
     "text": [
      "time: 312 ms\n"
     ]
    }
   ],
   "source": [
    "big_noCat.loc[:,'label'].unique()"
   ]
  },
  {
   "cell_type": "code",
   "execution_count": 26,
   "metadata": {},
   "outputs": [
    {
     "name": "stdout",
     "output_type": "stream",
     "text": [
      "time: 1min 36s\n"
     ]
    }
   ],
   "source": [
    "big_max= big_noCat.loc[big_noCat.loc[:,'label'].isin(hi_value),:]\n",
    "table = pd.pivot_table(big_max, values=values, columns='label', index=['icustay_id'],aggfunc=max, dropna=False)"
   ]
  },
  {
   "cell_type": "code",
   "execution_count": 27,
   "metadata": {},
   "outputs": [
    {
     "data": {
      "text/plain": [
       "array(['daily_sofa', 'sum_elix', 'lactate', 'heartrate', 'resprate',\n",
       "       'temperature', 'glucose', 'bun', 'chloride', 'creatinine', 'inr',\n",
       "       'potassium', 'ptt', 'bilirubin', 'cancer_elix', 'dobutamine',\n",
       "       'dopamine', 'epinephrine', 'norepinephrine', 'o2_flow', 'pco2',\n",
       "       'phenylephrine', 'rrt', 'vasopressin', 'vent_recieved', 'bands',\n",
       "       'leukocyte', 'nitrite', 'any_vasoactive'], dtype=object)"
      ]
     },
     "execution_count": 27,
     "metadata": {},
     "output_type": "execute_result"
    },
    {
     "name": "stdout",
     "output_type": "stream",
     "text": [
      "time: 131 ms\n"
     ]
    }
   ],
   "source": [
    "big_max.loc[:,'label'].unique()"
   ]
  },
  {
   "cell_type": "code",
   "execution_count": 28,
   "metadata": {},
   "outputs": [
    {
     "data": {
      "text/plain": [
       "count     14181\n",
       "unique        2\n",
       "top           0\n",
       "freq      12042\n",
       "Name: value, dtype: int64"
      ]
     },
     "execution_count": 28,
     "metadata": {},
     "output_type": "execute_result"
    },
    {
     "name": "stdout",
     "output_type": "stream",
     "text": [
      "time: 153 ms\n"
     ]
    }
   ],
   "source": [
    "big_max[big_max['label']=='leukocyte']['value'].describe() #good the categorical stuff worked"
   ]
  },
  {
   "cell_type": "code",
   "execution_count": 29,
   "metadata": {},
   "outputs": [
    {
     "name": "stdout",
     "output_type": "stream",
     "text": [
      "time: 28.6 s\n"
     ]
    }
   ],
   "source": [
    "big_min= big_noCat.loc[big_noCat.loc[:,'label'].isin(low_value),:]\n",
    "table2 = pd.pivot_table(big_min, values=values, columns='label', index=['icustay_id'],aggfunc=min, dropna=False)"
   ]
  },
  {
   "cell_type": "code",
   "execution_count": null,
   "metadata": {},
   "outputs": [],
   "source": []
  },
  {
   "cell_type": "markdown",
   "metadata": {},
   "source": [
    "# qc why pao2fiotRatio isn't working --Fixed"
   ]
  },
  {
   "cell_type": "code",
   "execution_count": 30,
   "metadata": {},
   "outputs": [
    {
     "data": {
      "text/plain": [
       "array(['daily_sofa', 'sum_elix', 'lactate', 'mingcs', 'diasbp',\n",
       "       'heartrate', 'meanartpress', 'resprate', 'spo2', 'sysbp',\n",
       "       'temperature', 'hemoglobin', 'platelet', 'wbc', 'calcium',\n",
       "       'glucose', 'ph', 'bicarbonate', 'bun', 'chloride', 'creatinine',\n",
       "       'inr', 'potassium', 'ptt', 'sodium', 'bilirubin', 'cancer_elix',\n",
       "       'dobutamine', 'dopamine', 'epinephrine', 'norepinephrine',\n",
       "       'o2_flow', 'pao2fio2ratio', 'pco2', 'phenylephrine', 'rrt',\n",
       "       'vasopressin', 'vent_recieved', 'bands', 'leukocyte', 'nitrite',\n",
       "       'any_vasoactive'], dtype=object)"
      ]
     },
     "execution_count": 30,
     "metadata": {},
     "output_type": "execute_result"
    },
    {
     "name": "stdout",
     "output_type": "stream",
     "text": [
      "time: 306 ms\n"
     ]
    }
   ],
   "source": [
    "big_noCat['label'].unique()"
   ]
  },
  {
   "cell_type": "code",
   "execution_count": 31,
   "metadata": {},
   "outputs": [
    {
     "name": "stdout",
     "output_type": "stream",
     "text": [
      "time: 16.9 s\n"
     ]
    }
   ],
   "source": [
    "#table3 is aggregating for min and max\n",
    "big_both= big_noCat.loc[big_noCat.loc[:,'label'].isin(both_value),:]\n",
    "table3 = pd.pivot_table(big_both, values=values, columns='label', index=['icustay_id'],aggfunc=[max,min], dropna=False)"
   ]
  },
  {
   "cell_type": "code",
   "execution_count": 32,
   "metadata": {},
   "outputs": [
    {
     "name": "stdout",
     "output_type": "stream",
     "text": [
      "14181 14181 14131\n",
      "time: 1.7 ms\n"
     ]
    }
   ],
   "source": [
    "print(len(table),len(table2),len(table3)) #14668 14668 14618"
   ]
  },
  {
   "cell_type": "code",
   "execution_count": 33,
   "metadata": {},
   "outputs": [
    {
     "name": "stderr",
     "output_type": "stream",
     "text": [
      "/Users/geickelb1/anaconda/envs/rpy-env/lib/python3.6/site-packages/pandas/core/reshape/merge.py:522: UserWarning: merging between different levels can give an unintended result (1 levels on the left, 2 on the right)\n",
      "  warnings.warn(msg, UserWarning)\n",
      "/Users/geickelb1/anaconda/envs/rpy-env/lib/python3.6/site-packages/pandas/core/generic.py:3812: PerformanceWarning: dropping on a non-lexsorted multi-index without a level parameter may impact performance.\n",
      "  new_axis = axis.drop(labels, errors=errors)\n"
     ]
    },
    {
     "data": {
      "text/html": [
       "<div>\n",
       "<style scoped>\n",
       "    .dataframe tbody tr th:only-of-type {\n",
       "        vertical-align: middle;\n",
       "    }\n",
       "\n",
       "    .dataframe tbody tr th {\n",
       "        vertical-align: top;\n",
       "    }\n",
       "\n",
       "    .dataframe thead th {\n",
       "        text-align: right;\n",
       "    }\n",
       "</style>\n",
       "<table border=\"1\" class=\"dataframe\">\n",
       "  <thead>\n",
       "    <tr style=\"text-align: right;\">\n",
       "      <th></th>\n",
       "      <th>icustay_id</th>\n",
       "      <th>any_vasoactive</th>\n",
       "      <th>bands</th>\n",
       "      <th>bilirubin</th>\n",
       "      <th>bun</th>\n",
       "      <th>cancer_elix</th>\n",
       "      <th>chloride</th>\n",
       "      <th>creatinine</th>\n",
       "      <th>daily_sofa</th>\n",
       "      <th>dobutamine</th>\n",
       "      <th>...</th>\n",
       "      <th>ph</th>\n",
       "      <th>platelet</th>\n",
       "      <th>spo2</th>\n",
       "      <th>sysbp</th>\n",
       "      <th>(max, calcium)</th>\n",
       "      <th>(max, sodium)</th>\n",
       "      <th>(max, wbc)</th>\n",
       "      <th>(min, calcium)</th>\n",
       "      <th>(min, sodium)</th>\n",
       "      <th>(min, wbc)</th>\n",
       "    </tr>\n",
       "  </thead>\n",
       "  <tbody>\n",
       "    <tr>\n",
       "      <th>0</th>\n",
       "      <td>200012.0</td>\n",
       "      <td>0.0</td>\n",
       "      <td>NaN</td>\n",
       "      <td>NaN</td>\n",
       "      <td>NaN</td>\n",
       "      <td>0</td>\n",
       "      <td>NaN</td>\n",
       "      <td>NaN</td>\n",
       "      <td>-0.5</td>\n",
       "      <td>0</td>\n",
       "      <td>...</td>\n",
       "      <td>NaN</td>\n",
       "      <td>-0.076758</td>\n",
       "      <td>-0.012811</td>\n",
       "      <td>-0.062544</td>\n",
       "      <td>NaN</td>\n",
       "      <td>NaN</td>\n",
       "      <td>-0.306266</td>\n",
       "      <td>NaN</td>\n",
       "      <td>NaN</td>\n",
       "      <td>-0.306266</td>\n",
       "    </tr>\n",
       "    <tr>\n",
       "      <th>1</th>\n",
       "      <td>200014.0</td>\n",
       "      <td>0.0</td>\n",
       "      <td>NaN</td>\n",
       "      <td>NaN</td>\n",
       "      <td>0.056406</td>\n",
       "      <td>0</td>\n",
       "      <td>0.0370891</td>\n",
       "      <td>-0.16415</td>\n",
       "      <td>-0.207519</td>\n",
       "      <td>0</td>\n",
       "      <td>...</td>\n",
       "      <td>-0.027694</td>\n",
       "      <td>-0.103698</td>\n",
       "      <td>-0.012811</td>\n",
       "      <td>-0.150392</td>\n",
       "      <td>0.437620</td>\n",
       "      <td>0.015722</td>\n",
       "      <td>0.176440</td>\n",
       "      <td>-0.044882</td>\n",
       "      <td>-0.004001</td>\n",
       "      <td>0.040547</td>\n",
       "    </tr>\n",
       "    <tr>\n",
       "      <th>2</th>\n",
       "      <td>200019.0</td>\n",
       "      <td>0.0</td>\n",
       "      <td>NaN</td>\n",
       "      <td>NaN</td>\n",
       "      <td>0.056406</td>\n",
       "      <td>0</td>\n",
       "      <td>0.0168582</td>\n",
       "      <td>0</td>\n",
       "      <td>0.403677</td>\n",
       "      <td>0</td>\n",
       "      <td>...</td>\n",
       "      <td>-0.013839</td>\n",
       "      <td>-0.066001</td>\n",
       "      <td>-0.274526</td>\n",
       "      <td>-0.154522</td>\n",
       "      <td>NaN</td>\n",
       "      <td>0.003972</td>\n",
       "      <td>0.149235</td>\n",
       "      <td>NaN</td>\n",
       "      <td>0.003972</td>\n",
       "      <td>0.124170</td>\n",
       "    </tr>\n",
       "    <tr>\n",
       "      <th>3</th>\n",
       "      <td>200030.0</td>\n",
       "      <td>1.0</td>\n",
       "      <td>NaN</td>\n",
       "      <td>2.2533</td>\n",
       "      <td>0.104422</td>\n",
       "      <td>0</td>\n",
       "      <td>0.0250588</td>\n",
       "      <td>0</td>\n",
       "      <td>0.292481</td>\n",
       "      <td>1</td>\n",
       "      <td>...</td>\n",
       "      <td>-0.013839</td>\n",
       "      <td>-0.035454</td>\n",
       "      <td>-0.032538</td>\n",
       "      <td>-0.028245</td>\n",
       "      <td>0.815086</td>\n",
       "      <td>0.007917</td>\n",
       "      <td>0.163020</td>\n",
       "      <td>0.044672</td>\n",
       "      <td>-0.004001</td>\n",
       "      <td>0.113037</td>\n",
       "    </tr>\n",
       "    <tr>\n",
       "      <th>4</th>\n",
       "      <td>200033.0</td>\n",
       "      <td>1.0</td>\n",
       "      <td>NaN</td>\n",
       "      <td>NaN</td>\n",
       "      <td>-0.0683618</td>\n",
       "      <td>1</td>\n",
       "      <td>0.0127018</td>\n",
       "      <td>-0.253202</td>\n",
       "      <td>-0.5</td>\n",
       "      <td>0</td>\n",
       "      <td>...</td>\n",
       "      <td>0.110121</td>\n",
       "      <td>-0.109168</td>\n",
       "      <td>-0.006373</td>\n",
       "      <td>-0.050656</td>\n",
       "      <td>-0.365081</td>\n",
       "      <td>0.023421</td>\n",
       "      <td>-0.109531</td>\n",
       "      <td>-0.505654</td>\n",
       "      <td>-0.024447</td>\n",
       "      <td>-0.205394</td>\n",
       "    </tr>\n",
       "  </tbody>\n",
       "</table>\n",
       "<p>5 rows × 45 columns</p>\n",
       "</div>"
      ],
      "text/plain": [
       "   icustay_id any_vasoactive bands bilirubin        bun cancer_elix  \\\n",
       "0    200012.0            0.0   NaN       NaN        NaN           0   \n",
       "1    200014.0            0.0   NaN       NaN   0.056406           0   \n",
       "2    200019.0            0.0   NaN       NaN   0.056406           0   \n",
       "3    200030.0            1.0   NaN    2.2533   0.104422           0   \n",
       "4    200033.0            1.0   NaN       NaN -0.0683618           1   \n",
       "\n",
       "    chloride creatinine daily_sofa dobutamine  ...        ph  platelet  \\\n",
       "0        NaN        NaN       -0.5          0  ...       NaN -0.076758   \n",
       "1  0.0370891   -0.16415  -0.207519          0  ... -0.027694 -0.103698   \n",
       "2  0.0168582          0   0.403677          0  ... -0.013839 -0.066001   \n",
       "3  0.0250588          0   0.292481          1  ... -0.013839 -0.035454   \n",
       "4  0.0127018  -0.253202       -0.5          0  ...  0.110121 -0.109168   \n",
       "\n",
       "       spo2     sysbp (max, calcium) (max, sodium) (max, wbc) (min, calcium)  \\\n",
       "0 -0.012811 -0.062544            NaN           NaN  -0.306266            NaN   \n",
       "1 -0.012811 -0.150392       0.437620      0.015722   0.176440      -0.044882   \n",
       "2 -0.274526 -0.154522            NaN      0.003972   0.149235            NaN   \n",
       "3 -0.032538 -0.028245       0.815086      0.007917   0.163020       0.044672   \n",
       "4 -0.006373 -0.050656      -0.365081      0.023421  -0.109531      -0.505654   \n",
       "\n",
       "  (min, sodium) (min, wbc)  \n",
       "0           NaN  -0.306266  \n",
       "1     -0.004001   0.040547  \n",
       "2      0.003972   0.124170  \n",
       "3     -0.004001   0.113037  \n",
       "4     -0.024447  -0.205394  \n",
       "\n",
       "[5 rows x 45 columns]"
      ]
     },
     "execution_count": 33,
     "metadata": {},
     "output_type": "execute_result"
    },
    {
     "name": "stdout",
     "output_type": "stream",
     "text": [
      "time: 181 ms\n"
     ]
    }
   ],
   "source": [
    "#first left join all different continuous aggregations together. \n",
    "worst_df=pd.merge(table.reset_index(), table2.reset_index(), how='left')\n",
    "worst_df=pd.merge(worst_df, table3.reset_index(), left_on='icustay_id', right_on='icustay_id',how='left')\n",
    "worst_df.head()"
   ]
  },
  {
   "cell_type": "code",
   "execution_count": 34,
   "metadata": {},
   "outputs": [
    {
     "name": "stdout",
     "output_type": "stream",
     "text": [
      "time: 36.3 ms\n"
     ]
    }
   ],
   "source": [
    "### formatting categorical to wide format to match the tables/worst_df\n",
    "big_categorical= big_categorical.pivot(\n",
    "    index='icustay_id',\n",
    "    values='value',\n",
    "    columns='label').reset_index() #need to convert to wide format. should be one row per patient per time. "
   ]
  },
  {
   "cell_type": "code",
   "execution_count": 35,
   "metadata": {},
   "outputs": [
    {
     "name": "stdout",
     "output_type": "stream",
     "text": [
      "time: 21.7 ms\n"
     ]
    }
   ],
   "source": [
    "def merge_cat_agg(num_df, cat_df, twoclass=False):\n",
    "    \"\"\"\n",
    "    merges the categorical and aggregated dataframes together. if twoclass=True (default=False), returns just the truepos trueneg twoclass patients.\n",
    "    \"\"\"\n",
    "    \n",
    "    worst_df=pd.merge(num_df, cat_df, left_on='icustay_id', right_on='icustay_id',how='left')\n",
    "#     worst_df['leukocyte']=worst_df['leukocyte'].astype(\"category\")\n",
    "#     worst_df['nitrite']=worst_df['nitrite'].astype(\"category\")\n",
    "#     worst_df['vent_recieved']=worst_df['vent_recieved'].astype(\"category\")\n",
    "    worst_df['ethnicity']=worst_df['ethnicity'].astype(\"category\")\n",
    "    worst_df['gender']=worst_df['gender'].astype(\"category\")\n",
    "    \n",
    "    baselinePts= final_pt_df2.loc[final_pt_df2.loc[:,'final_bin'].isin([\"C_pos/A_full\",\"C_neg/A_partial\"]),\"icustay_id\"]\n",
    "    \n",
    "    if twoclass==True:\n",
    "        worst_df= worst_df.loc[worst_df.loc[:,'icustay_id'].isin(baselinePts),:]\n",
    "    return(worst_df)\n"
   ]
  },
  {
   "cell_type": "code",
   "execution_count": null,
   "metadata": {},
   "outputs": [],
   "source": []
  },
  {
   "cell_type": "code",
   "execution_count": 36,
   "metadata": {},
   "outputs": [
    {
     "name": "stdout",
     "output_type": "stream",
     "text": [
      "time: 50.3 ms\n"
     ]
    }
   ],
   "source": [
    "worst_df=merge_cat_agg(worst_df, big_categorical, twoclass=False) #using max/min aggregates \n"
   ]
  },
  {
   "cell_type": "code",
   "execution_count": 37,
   "metadata": {},
   "outputs": [
    {
     "name": "stdout",
     "output_type": "stream",
     "text": [
      "time: 9.65 s\n"
     ]
    }
   ],
   "source": [
    "#adding important one_times to final aggregated\n",
    "agg_remaining= big_df.loc[big_df.loc[:,'label'].isin(important_onetime),:]\n",
    "agg_table2 = pd.pivot_table(agg_remaining, values='value', columns='label', index=['icustay_id'],aggfunc=[max], dropna=False) \n",
    "agg_table2.columns = agg_table2.columns.get_level_values(1)\n",
    "agg_table2=agg_table2.reset_index()\n",
    "agg_table2.head()#.rename(columns={})\n",
    "\n",
    "worst_df=pd.merge(worst_df, agg_table2, how='left')"
   ]
  },
  {
   "cell_type": "code",
   "execution_count": 38,
   "metadata": {},
   "outputs": [
    {
     "data": {
      "text/plain": [
       "count           14181\n",
       "unique              4\n",
       "top       (475, 3000]\n",
       "freq             9634\n",
       "Name: pao2fio2ratio, dtype: object"
      ]
     },
     "execution_count": 38,
     "metadata": {},
     "output_type": "execute_result"
    },
    {
     "name": "stdout",
     "output_type": "stream",
     "text": [
      "time: 24.6 ms\n"
     ]
    }
   ],
   "source": [
    "worst_df['pao2fio2ratio'].describe()"
   ]
  },
  {
   "cell_type": "code",
   "execution_count": 39,
   "metadata": {},
   "outputs": [
    {
     "data": {
      "text/plain": [
       "['icustay_id',\n",
       " 'any_vasoactive',\n",
       " 'bands',\n",
       " 'bilirubin',\n",
       " 'bun',\n",
       " 'cancer_elix',\n",
       " 'chloride',\n",
       " 'creatinine',\n",
       " 'daily_sofa',\n",
       " 'dobutamine',\n",
       " 'dopamine',\n",
       " 'epinephrine',\n",
       " 'glucose',\n",
       " 'heartrate',\n",
       " 'inr',\n",
       " 'lactate',\n",
       " 'leukocyte',\n",
       " 'nitrite',\n",
       " 'norepinephrine',\n",
       " 'o2_flow',\n",
       " 'pco2',\n",
       " 'phenylephrine',\n",
       " 'potassium',\n",
       " 'ptt',\n",
       " 'resprate',\n",
       " 'rrt',\n",
       " 'sum_elix',\n",
       " 'temperature',\n",
       " 'vasopressin',\n",
       " 'vent_recieved',\n",
       " 'bicarbonate',\n",
       " 'diasbp',\n",
       " 'hemoglobin',\n",
       " 'meanartpress',\n",
       " 'mingcs',\n",
       " 'ph',\n",
       " 'platelet',\n",
       " 'spo2',\n",
       " 'sysbp',\n",
       " ('max', 'calcium'),\n",
       " ('max', 'sodium'),\n",
       " ('max', 'wbc'),\n",
       " ('min', 'calcium'),\n",
       " ('min', 'sodium'),\n",
       " ('min', 'wbc'),\n",
       " 'ethnicity',\n",
       " 'gender',\n",
       " 'first_admit_age',\n",
       " 'pao2fio2ratio',\n",
       " 'weight']"
      ]
     },
     "execution_count": 39,
     "metadata": {},
     "output_type": "execute_result"
    },
    {
     "name": "stdout",
     "output_type": "stream",
     "text": [
      "time: 4.69 ms\n"
     ]
    }
   ],
   "source": [
    "list(worst_df)"
   ]
  },
  {
   "cell_type": "code",
   "execution_count": 40,
   "metadata": {},
   "outputs": [
    {
     "data": {
      "text/plain": [
       "0.0    13778\n",
       "1.0      403\n",
       "Name: vasopressin, dtype: int64"
      ]
     },
     "execution_count": 40,
     "metadata": {},
     "output_type": "execute_result"
    },
    {
     "name": "stdout",
     "output_type": "stream",
     "text": [
      "time: 8.69 ms\n"
     ]
    }
   ],
   "source": [
    "worst_df['vasopressin'].value_counts()"
   ]
  },
  {
   "cell_type": "code",
   "execution_count": 41,
   "metadata": {},
   "outputs": [
    {
     "data": {
      "text/plain": [
       "'11062019'"
      ]
     },
     "execution_count": 41,
     "metadata": {},
     "output_type": "execute_result"
    },
    {
     "name": "stdout",
     "output_type": "stream",
     "text": [
      "time: 3.86 ms\n"
     ]
    }
   ],
   "source": [
    "date"
   ]
  },
  {
   "cell_type": "code",
   "execution_count": 43,
   "metadata": {},
   "outputs": [
    {
     "name": "stdout",
     "output_type": "stream",
     "text": [
      "time: 936 ms\n"
     ]
    }
   ],
   "source": [
    "##saving\n",
    "pd.DataFrame(worst_df).to_csv(Path(\n",
    "    wd+'/data/processed/merged/{}_worstdf_preImp{}.csv'.format(date,timewindowdays)),index=False)"
   ]
  },
  {
   "cell_type": "code",
   "execution_count": null,
   "metadata": {},
   "outputs": [],
   "source": [
    "print(wd+'/data/processed/merged/{}_worstdf_preImp{}.csv'.format(date,timewindowdays))"
   ]
  },
  {
   "cell_type": "markdown",
   "metadata": {},
   "source": [
    "# aggregation 2:\n",
    "## 4-11-19: range, mean and stdev aggregations (newagg)"
   ]
  },
  {
   "cell_type": "markdown",
   "metadata": {},
   "source": [
    "np.ptp = difference btween min and max\n"
   ]
  },
  {
   "cell_type": "code",
   "execution_count": null,
   "metadata": {},
   "outputs": [],
   "source": [
    "##choose here if wanna use standardization or raw values.\n",
    "values=\"standardize\""
   ]
  },
  {
   "cell_type": "code",
   "execution_count": null,
   "metadata": {},
   "outputs": [],
   "source": [
    "big_range= big_noCat.loc[big_noCat.loc[:,'label'].isin(continuous),:]\n",
    "table4 = pd.pivot_table(big_range, values=values, columns='label', index=['icustay_id'],aggfunc=[np.ptp, np.median, np.std], dropna=[False,False,False]) \n",
    "table4.columns=['_'.join(col).strip() for col in table4.columns.values]\n",
    "table4=table4.reset_index()"
   ]
  },
  {
   "cell_type": "code",
   "execution_count": null,
   "metadata": {},
   "outputs": [],
   "source": [
    "#grabing the rest of the variables not suitable for range or mean/std\n",
    "remaining= big_noCat.loc[big_noCat.loc[:,'label'].isin(onetime+ordinal),:]\n",
    "table5 = pd.pivot_table(remaining, values='value', columns='label', index=['icustay_id'],aggfunc=[max], dropna=False) "
   ]
  },
  {
   "cell_type": "code",
   "execution_count": null,
   "metadata": {},
   "outputs": [],
   "source": [
    "#table5.columns\n",
    "table5.columns = table5.columns.get_level_values(1)\n",
    "table5=table5.reset_index()"
   ]
  },
  {
   "cell_type": "code",
   "execution_count": null,
   "metadata": {},
   "outputs": [],
   "source": [
    "table4.head()#.rename(columns={})"
   ]
  },
  {
   "cell_type": "code",
   "execution_count": null,
   "metadata": {},
   "outputs": [],
   "source": [
    "## merging aggregations together\n",
    "#first left join all different newagg together. \n",
    "table4=pd.merge(table4, table5, how='left')"
   ]
  },
  {
   "cell_type": "code",
   "execution_count": null,
   "metadata": {},
   "outputs": [],
   "source": [
    "list(table4)[1:20]"
   ]
  },
  {
   "cell_type": "code",
   "execution_count": null,
   "metadata": {},
   "outputs": [],
   "source": [
    "### formatting categorical to wide format to match the aggregated numerical\n",
    "big_categorical= big_df.loc[big_df.loc[:,'label'].isin(categorical),:].copy()\n",
    "big_categorical= big_categorical.pivot(\n",
    "    index='icustay_id',\n",
    "    values='value',\n",
    "    columns='label').reset_index() #need to convert to wide format. should be one row per patient per time. "
   ]
  },
  {
   "cell_type": "markdown",
   "metadata": {},
   "source": [
    "### merging categorical with aggregated"
   ]
  },
  {
   "cell_type": "code",
   "execution_count": null,
   "metadata": {},
   "outputs": [],
   "source": [
    "#using fxn written for worst_df to make newagg_df\n",
    "newagg_df=merge_cat_agg(table4, big_categorical, twoclass=False) #using range/mean/stdev aggregates \n"
   ]
  },
  {
   "cell_type": "code",
   "execution_count": null,
   "metadata": {},
   "outputs": [],
   "source": [
    "newagg_df.head()"
   ]
  },
  {
   "cell_type": "code",
   "execution_count": null,
   "metadata": {},
   "outputs": [],
   "source": [
    "list(newagg_df)"
   ]
  },
  {
   "cell_type": "code",
   "execution_count": null,
   "metadata": {},
   "outputs": [],
   "source": [
    "pd.DataFrame(newagg_df).to_csv(Path(\n",
    "    wd+'/data/processed/merged/%s_newaggdf_std.csv' %(date)),index=False)"
   ]
  },
  {
   "cell_type": "code",
   "execution_count": null,
   "metadata": {},
   "outputs": [],
   "source": [
    "newagg_df['leukocyte']"
   ]
  },
  {
   "cell_type": "code",
   "execution_count": null,
   "metadata": {},
   "outputs": [],
   "source": [
    "wd+'/data/processed/merged/%s_newaggdf_std.csv'"
   ]
  },
  {
   "cell_type": "markdown",
   "metadata": {},
   "source": [
    "# aggregation 3:\n",
    "# grabbing min/max/median/sd for only values found to be important from combining variable importance for random forest, boosted trees, and logistic regression on the baseline clinical max/min data.\n"
   ]
  },
  {
   "cell_type": "code",
   "execution_count": null,
   "metadata": {},
   "outputs": [],
   "source": [
    "# important_variables=[\"temperature\",\"sysbp\",\"daily_sofa\",\"meanartpress\",\"bun\",\"platelet\",\"ptt\",\"heartrate\",\"pao2fio2ratio\",\"creatinine\",\"first_admit_age\"]\n",
    "important_continuous=[\"temperature\",\"sysbp\",\"daily_sofa\",\"meanartpress\",\"bun\",\"platelet\",\"ptt\",\"heartrate\",\"creatinine\"]\n",
    "important_ordinal=[\"any_vasoactive\", 'vent_recieved', \"leukocyte\",\"pao2fio2ratio\"]\n",
    "important_onetime=['first_admit_age','weight']\n",
    "\n"
   ]
  },
  {
   "cell_type": "code",
   "execution_count": null,
   "metadata": {},
   "outputs": [],
   "source": [
    "# #continuous and ordinal variables\n",
    "# big_noCat= big_df.loc[big_df.loc[:,'label'].isin(continuous+ordinal),:].copy()\n",
    "# big_noCat['value']= big_noCat['value'].apply(pd.to_numeric, args=('coerce',)) #instead of convert to float, may preserve nan's better. "
   ]
  },
  {
   "cell_type": "code",
   "execution_count": null,
   "metadata": {},
   "outputs": [],
   "source": [
    "big_noCat[big_noCat['label'].isin(vaso_active)].groupby('icustay_id')['value'].max().reset_index()"
   ]
  },
  {
   "cell_type": "code",
   "execution_count": null,
   "metadata": {},
   "outputs": [],
   "source": [
    "##combining vasoactives\n",
    "vaso_active_df=big_noCat[big_noCat['label'].isin(vaso_active)].groupby('icustay_id')['value'].max().reset_index()\n",
    "vaso_active_df['uom']=\"y/n\"\n",
    "vaso_active_df['label']=\"any_vasoactive\"\n",
    "vaso_active_df['delta']=pd.to_timedelta(\"0days\")\n",
    "vaso_active_df['source']=\"all_vasoactives\"\n",
    "\n",
    "vaso_active_df=pd.merge(vaso_active_df, final_pt_df2[[\"icustay_id\",'subject_id',\"t_0\"]], how=\"left\", left_on=\"icustay_id\", right_on=\"icustay_id\")\n",
    "vaso_active_df=pd.merge(vaso_active_df, median_label, how=\"left\").fillna(0)\n",
    "vaso_active_df['standardize']=vaso_active_df['value']\n",
    "vaso_active_df['raw_value']=vaso_active_df['value']\n",
    "vaso_active_df.head()"
   ]
  },
  {
   "cell_type": "code",
   "execution_count": null,
   "metadata": {},
   "outputs": [],
   "source": [
    "vaso_active_df.iloc[3,1]"
   ]
  },
  {
   "cell_type": "code",
   "execution_count": null,
   "metadata": {},
   "outputs": [],
   "source": [
    "big_noCat.head()"
   ]
  },
  {
   "cell_type": "code",
   "execution_count": null,
   "metadata": {},
   "outputs": [],
   "source": [
    "big_noCat['label'].unique()\n",
    "#big_noCat=pd.concat([big_noCat, vaso_active_df], sort=False)"
   ]
  },
  {
   "cell_type": "code",
   "execution_count": null,
   "metadata": {},
   "outputs": [],
   "source": [
    "big_noCat[big_noCat['label']==\"any_vasoactive\"].head() #so this works"
   ]
  },
  {
   "cell_type": "code",
   "execution_count": null,
   "metadata": {},
   "outputs": [],
   "source": [
    "##choose here if wanna use standardization or raw values.\n",
    "values=\"standardize\"\n",
    "#big_noCat[values]= big_noCat[values].apply(pd.to_numeric, args=('coerce',)) #instead of convert to float, may preserve nan's better."
   ]
  },
  {
   "cell_type": "code",
   "execution_count": null,
   "metadata": {},
   "outputs": [],
   "source": [
    "# big_df2=pd.concat([big_df, vaso_active_df], sort=False)\n",
    "\n",
    "# #splitting categorical, ordinal and continuous\n",
    "# big_categorical= big_df.loc[big_df.loc[:,'label'].isin(important_ordinal+important_onetime),:].copy()\n",
    "\n",
    "# #continuous and ordinal variables\n",
    "# df_continuous= big_df.loc[big_df.loc[:,'label'].isin(important_continuous+ordinal),:].copy()\n",
    "# big_noCat['value']= big_noCat['value'].apply(pd.to_numeric, args=('coerce',)) #instead of convert to float, may preserve nan's better. "
   ]
  },
  {
   "cell_type": "code",
   "execution_count": null,
   "metadata": {},
   "outputs": [],
   "source": [
    "df_continuous= big_noCat.loc[big_noCat.loc[:,'label'].isin(important_continuous),:]\n",
    "agg_table1 = pd.pivot_table(df_continuous, values=values, columns='label', index=['icustay_id'],aggfunc=[np.max, np.min, np.median, np.std], dropna=[False,False,False, False]) \n",
    "agg_table1.columns=['_'.join(col).strip() for col in agg_table1.columns.values]\n",
    "agg_table1=agg_table1.reset_index()"
   ]
  },
  {
   "cell_type": "code",
   "execution_count": null,
   "metadata": {},
   "outputs": [],
   "source": [
    "#code above is not "
   ]
  },
  {
   "cell_type": "code",
   "execution_count": null,
   "metadata": {},
   "outputs": [],
   "source": [
    "#grabing the rest of the variables not suitable for range or mean/std\n",
    "big_df2=pd.concat([big_df, vaso_active_df], sort=False)\n",
    "\n",
    "agg_remaining= big_df2.loc[big_df2.loc[:,'label'].isin(important_onetime+important_ordinal),:]\n",
    "agg_table2 = pd.pivot_table(agg_remaining, values='value', columns='label', index=['icustay_id'],aggfunc=[max], dropna=False) \n",
    "agg_table2.columns = agg_table2.columns.get_level_values(1)\n",
    "agg_table2=agg_table2.reset_index()\n",
    "agg_table2.head()#.rename(columns={})\n",
    "\n",
    "agg_cont_cat=pd.merge(agg_table1, agg_table2, how='left')"
   ]
  },
  {
   "cell_type": "code",
   "execution_count": null,
   "metadata": {},
   "outputs": [],
   "source": [
    "## merging aggregations together\n",
    "#first left join all different newagg together. \n",
    "agg_cont_cat=pd.merge(agg_table1, agg_table2, how='left')"
   ]
  },
  {
   "cell_type": "code",
   "execution_count": null,
   "metadata": {},
   "outputs": [],
   "source": [
    "list(agg_cont_cat)"
   ]
  },
  {
   "cell_type": "code",
   "execution_count": null,
   "metadata": {},
   "outputs": [],
   "source": [
    "agg_cont_cat['pao2fio2ratio'].value_counts() "
   ]
  },
  {
   "cell_type": "code",
   "execution_count": null,
   "metadata": {},
   "outputs": [],
   "source": [
    "agg_cont_cat['any_vasoactive'].value_counts() "
   ]
  },
  {
   "cell_type": "code",
   "execution_count": null,
   "metadata": {},
   "outputs": [],
   "source": [
    "agg_cont_cat.head()"
   ]
  },
  {
   "cell_type": "code",
   "execution_count": null,
   "metadata": {},
   "outputs": [],
   "source": [
    "pd.DataFrame(agg_cont_cat).to_csv(Path(\n",
    "    wd+'/data/processed/merged/%s_newaggdf2_std.csv' %(date)),index=False)"
   ]
  },
  {
   "cell_type": "code",
   "execution_count": null,
   "metadata": {},
   "outputs": [],
   "source": [
    "#YUS, got this reprocessed using a few of the top variables  4-16-19"
   ]
  },
  {
   "cell_type": "code",
   "execution_count": null,
   "metadata": {},
   "outputs": [],
   "source": [
    "        "
   ]
  },
  {
   "cell_type": "code",
   "execution_count": null,
   "metadata": {},
   "outputs": [],
   "source": []
  },
  {
   "cell_type": "code",
   "execution_count": null,
   "metadata": {},
   "outputs": [],
   "source": [
    "# big_categorical[\"icustay_id\"].isin(icustay_id)"
   ]
  },
  {
   "cell_type": "code",
   "execution_count": null,
   "metadata": {},
   "outputs": [],
   "source": [
    "#big_noCat['value']=big_noCat['value'].astype(float, copy=False)\n",
    "#big_noCat.groupby(['icustay_id','label'], as_index=False)['value'].agg(dict1) #"
   ]
  },
  {
   "cell_type": "code",
   "execution_count": null,
   "metadata": {},
   "outputs": [],
   "source": [
    "# test= big_noCat.groupby(['icustay_id'], as_index=False)['value'].agg(dict1)\n",
    "# table = pd.pivot_table(big_noCat, values='value', columns='label', index=['icustay_id'],aggfunc=max, dropna=False)\n",
    "# table\n",
    "\n",
    "# pd.pivot_table(df,index=[\"Manager\",\"Status\"],columns=[\"Product\"],values=[\"Quantity\",\"Price\"],\n",
    "#                aggfunc={\"Quantity\":len,\"Price\":np.sum},fill_value=0)"
   ]
  },
  {
   "cell_type": "code",
   "execution_count": null,
   "metadata": {},
   "outputs": [],
   "source": [
    "# #table = pivot_table(df, values=['D', 'E'], index=['A', 'C'],aggfunc={})\n",
    "# ##don't know why this doesn't work. \n",
    "# table = pd.pivot_table(big_noCat, values='value',columns='label', index='icustay_id',aggfunc=dict1, dropna=False)\n",
    "# table\n"
   ]
  },
  {
   "cell_type": "code",
   "execution_count": null,
   "metadata": {},
   "outputs": [],
   "source": [
    "# big_agg= big_df.loc[big_df.loc[:,'label'].isin(non_category),:].groupby(['icustay_id','label'], as_index=False)['value'].apply(lambda x: float(x))\n",
    "\n",
    "    #.agg({str(x):['max'] for x in hi_value})\n",
    "#big_agg_count= big_agg.reset_index().pivot(index='icustay_id',columns='label', values=0)#, levels='icustay_id')"
   ]
  },
  {
   "cell_type": "code",
   "execution_count": null,
   "metadata": {},
   "outputs": [],
   "source": [
    "# hi_df= big_df.loc[big_df.loc[:,'label'].isin(hi_value),:]\n",
    "# hi_df['value']=hi_df['value'].astype(float, copy=False)\n",
    "# hi_df.groupby(['icustay_id','label'], as_index=False)['value'].agg('max') #this works"
   ]
  },
  {
   "cell_type": "code",
   "execution_count": null,
   "metadata": {},
   "outputs": [],
   "source": [
    "# %whos\n",
    "\n",
    "# del big_agg\n",
    "# del hi_df\n",
    "# del final_pt_df2"
   ]
  },
  {
   "cell_type": "code",
   "execution_count": null,
   "metadata": {},
   "outputs": [],
   "source": []
  },
  {
   "cell_type": "code",
   "execution_count": null,
   "metadata": {},
   "outputs": [],
   "source": []
  },
  {
   "cell_type": "code",
   "execution_count": null,
   "metadata": {},
   "outputs": [],
   "source": []
  }
 ],
 "metadata": {
  "kernelspec": {
   "display_name": "Python 3",
   "language": "python",
   "name": "python3"
  },
  "language_info": {
   "codemirror_mode": {
    "name": "ipython",
    "version": 3
   },
   "file_extension": ".py",
   "mimetype": "text/x-python",
   "name": "python",
   "nbconvert_exporter": "python",
   "pygments_lexer": "ipython3",
   "version": "3.6.8"
  }
 },
 "nbformat": 4,
 "nbformat_minor": 2
}
