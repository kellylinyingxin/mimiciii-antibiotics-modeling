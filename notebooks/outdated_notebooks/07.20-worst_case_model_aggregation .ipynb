{
 "cells": [
  {
   "cell_type": "markdown",
   "metadata": {},
   "source": [
    "the purpose of this notebook is to take the big dataframe created in 07.01-baseline_data_merging, and make an aggregate we can use for our baseline \"worst case\" scenario model. This will then be fed into R, where we will use the MICE package to impute data"
   ]
  },
  {
   "cell_type": "markdown",
   "metadata": {},
   "source": [
    "changelog:\n",
    "\n",
    "* 4/16/19: added newagg\n",
    "* 4/17/19: reformatted the ordering of how code runs, and variable names. added aggregation #3.\n",
    "* 4/19/19: changed the standardizing so that log(x+1) is now applied prior to standardization. also removed ordinal variables from standardizing algorithm and concat them in later with median 0 and iqr 1 so standardize value is either 0 or 1. values from ordinal are not log transformed.\n"
   ]
  },
  {
   "cell_type": "code",
   "execution_count": 15,
   "metadata": {},
   "outputs": [
    {
     "name": "stdout",
     "output_type": "stream",
     "text": [
      "The autotime extension is already loaded. To reload it, use:\n",
      "  %reload_ext autotime\n",
      "time: 15.5 ms\n"
     ]
    },
    {
     "name": "stderr",
     "output_type": "stream",
     "text": [
      "/Users/geickelb1/anaconda/envs/rpy-env/lib/python3.6/site-packages/ipykernel_launcher.py:10: DeprecationWarning: The 'cachedir' parameter has been deprecated in version 0.12 and will be removed in version 0.14.\n",
      "You provided \"cachedir='/tmp'\", use \"location='/tmp'\" instead.\n",
      "  # Remove the CWD from sys.path while we load stuff.\n"
     ]
    }
   ],
   "source": [
    "import pandas as pd\n",
    "import matplotlib.pyplot as plt\n",
    "import os\n",
    "from pathlib import Path\n",
    "import seaborn as sns\n",
    "import numpy as np\n",
    "import glob\n",
    "\n",
    "from sklearn.externals.joblib import Memory\n",
    "memory = Memory(cachedir='/tmp', verbose=0)\n",
    "#@memory.cache above any def fxn.\n",
    "\n",
    "%matplotlib inline\n",
    "plt.style.use('ggplot')\n",
    "\n",
    "from notebook.services.config import ConfigManager\n",
    "cm = ConfigManager()\n",
    "cm.update('livereveal', {\n",
    "        'width': 1024,\n",
    "        'height': 768,\n",
    "        'scroll': True,\n",
    "})\n",
    "\n",
    "%load_ext autotime"
   ]
  },
  {
   "cell_type": "code",
   "execution_count": 16,
   "metadata": {},
   "outputs": [
    {
     "name": "stdout",
     "output_type": "stream",
     "text": [
      "time: 89.5 ms\n"
     ]
    }
   ],
   "source": [
    "#cohort import\n",
    "\n",
    "os.chdir('/Users/geickelb1/Documents/GitHub/mimiciii-antibiotics-modeling') #use to change working directory\n",
    "wd= os.getcwd() #'/Users/geickelb1/Documents/GitHub/mimiciii-antibiotics-modeling'\n",
    "\n",
    "\n",
    "final_pt_df2 = pd.read_csv(Path(wd + '/data/raw/csv/04042019_final_pt_df2_v.csv') , index_col=0) #only for patients with minimum vitals, 14478 icustay_id\n",
    "patients= list(final_pt_df2['subject_id'].unique())\n",
    "hadm_id= list(final_pt_df2['hadm_id'].unique())\n",
    "icustay_id= list(final_pt_df2['icustay_id'].unique())\n",
    "icustay_id= [int(x) for x in icustay_id]"
   ]
  },
  {
   "cell_type": "code",
   "execution_count": 17,
   "metadata": {},
   "outputs": [
    {
     "data": {
      "text/plain": [
       "count                     14181\n",
       "mean     0 days 02:00:28.618574\n",
       "std      0 days 09:54:34.173867\n",
       "min           -1 days +00:00:00\n",
       "25%           -1 days +19:47:00\n",
       "50%             0 days 02:50:00\n",
       "75%             0 days 08:40:00\n",
       "max             1 days 00:00:00\n",
       "dtype: object"
      ]
     },
     "execution_count": 17,
     "metadata": {},
     "output_type": "execute_result"
    },
    {
     "name": "stdout",
     "output_type": "stream",
     "text": [
      "time: 15.9 ms\n"
     ]
    }
   ],
   "source": [
    "#pd.to_datetime(final_pt_df2['t_0'])- pd.to_datetime(final_pt_df2['t_0'])\n",
    "#final_pt_df2\n",
    "(pd.to_datetime(final_pt_df2['t_0'])-pd.to_datetime(final_pt_df2['t_0_sc'])).describe() #ssc time - ab time\n",
    "#(pd.to_datetime(final_pt_df2['ICU_admit'])-pd.to_datetime(final_pt_df2['t_0'])).describe()"
   ]
  },
  {
   "cell_type": "code",
   "execution_count": 18,
   "metadata": {},
   "outputs": [
    {
     "data": {
      "text/plain": [
       "count                     14181\n",
       "mean     0 days 06:06:40.936746\n",
       "std      0 days 16:47:54.666735\n",
       "min           -1 days +12:00:21\n",
       "25%           -1 days +21:35:16\n",
       "50%             0 days 02:46:43\n",
       "75%             0 days 07:40:22\n",
       "max             3 days 23:46:07\n",
       "dtype: object"
      ]
     },
     "execution_count": 18,
     "metadata": {},
     "output_type": "execute_result"
    },
    {
     "name": "stdout",
     "output_type": "stream",
     "text": [
      "time: 17.5 ms\n"
     ]
    }
   ],
   "source": [
    "#final_pt_df2\n",
    "(pd.to_datetime(final_pt_df2['t_0'])-pd.to_datetime(final_pt_df2['ICU_admit'])).describe() #icu admit time - ab time"
   ]
  },
  {
   "cell_type": "code",
   "execution_count": 19,
   "metadata": {},
   "outputs": [
    {
     "data": {
      "text/plain": [
       "count                     14181\n",
       "mean     0 days 04:06:12.318172\n",
       "std      0 days 19:01:45.216221\n",
       "min           -2 days +12:08:23\n",
       "25%           -1 days +20:10:59\n",
       "50%           -1 days +22:58:58\n",
       "75%             0 days 04:30:47\n",
       "max             4 days 21:07:19\n",
       "dtype: object"
      ]
     },
     "execution_count": 19,
     "metadata": {},
     "output_type": "execute_result"
    },
    {
     "name": "stdout",
     "output_type": "stream",
     "text": [
      "time: 16.8 ms\n"
     ]
    }
   ],
   "source": [
    "(pd.to_datetime(final_pt_df2['t_0_sc'])-pd.to_datetime(final_pt_df2['ICU_admit'])).describe() #icu admit time - ssc time"
   ]
  },
  {
   "cell_type": "code",
   "execution_count": 20,
   "metadata": {},
   "outputs": [
    {
     "name": "stdout",
     "output_type": "stream",
     "text": [
      "time: 9.04 s\n"
     ]
    }
   ],
   "source": [
    "#importing in all clinical_variable files\n",
    "timewindowdays=\"_24\"\n",
    "# date= '04042019'\n",
    "date='16052019'\n",
    "os.chdir(r'/Users/geickelb1/Documents/GitHub/mimiciii-antibiotics-modeling/data/processed/')\n",
    "big_df= pd.read_csv(Path(wd+'/data/processed/merged/{}_longdf_preImp{}.csv'.format(date,timewindowdays),  index_col=0))\n",
    "big_df= big_df.reset_index(drop=True).iloc[:,1:]\n",
    "\n",
    "# date= '03062019'"
   ]
  },
  {
   "cell_type": "code",
   "execution_count": 21,
   "metadata": {},
   "outputs": [
    {
     "name": "stdout",
     "output_type": "stream",
     "text": [
      "time: 960 ms\n"
     ]
    }
   ],
   "source": [
    "#removing firstpos else neg ssc col\n",
    "big_df=big_df.loc[:,list(big_df.columns!=\"first_pos_else_neg_ssc\")]\n",
    "#changing pao2/fio2 ratio label\n",
    "big_df.loc[big_df['label']==\"pao2/fio2\",'label']=\"pao2fio2Ratio\""
   ]
  },
  {
   "cell_type": "code",
   "execution_count": 22,
   "metadata": {},
   "outputs": [
    {
     "data": {
      "text/html": [
       "<div>\n",
       "<style scoped>\n",
       "    .dataframe tbody tr th:only-of-type {\n",
       "        vertical-align: middle;\n",
       "    }\n",
       "\n",
       "    .dataframe tbody tr th {\n",
       "        vertical-align: top;\n",
       "    }\n",
       "\n",
       "    .dataframe thead th {\n",
       "        text-align: right;\n",
       "    }\n",
       "</style>\n",
       "<table border=\"1\" class=\"dataframe\">\n",
       "  <thead>\n",
       "    <tr style=\"text-align: right;\">\n",
       "      <th></th>\n",
       "      <th>count</th>\n",
       "      <th>unique</th>\n",
       "      <th>top</th>\n",
       "      <th>freq</th>\n",
       "    </tr>\n",
       "    <tr>\n",
       "      <th>label</th>\n",
       "      <th></th>\n",
       "      <th></th>\n",
       "      <th></th>\n",
       "      <th></th>\n",
       "    </tr>\n",
       "  </thead>\n",
       "  <tbody>\n",
       "    <tr>\n",
       "      <th>leukocyte</th>\n",
       "      <td>14181</td>\n",
       "      <td>2</td>\n",
       "      <td>Neg/Not_tested</td>\n",
       "      <td>12288</td>\n",
       "    </tr>\n",
       "    <tr>\n",
       "      <th>norepinephrine</th>\n",
       "      <td>30223</td>\n",
       "      <td>2</td>\n",
       "      <td>1.0</td>\n",
       "      <td>18782</td>\n",
       "    </tr>\n",
       "    <tr>\n",
       "      <th>o2_flow</th>\n",
       "      <td>14363</td>\n",
       "      <td>2</td>\n",
       "      <td>0.0</td>\n",
       "      <td>13582</td>\n",
       "    </tr>\n",
       "    <tr>\n",
       "      <th>phenylephrine</th>\n",
       "      <td>23938</td>\n",
       "      <td>2</td>\n",
       "      <td>0.0</td>\n",
       "      <td>12074</td>\n",
       "    </tr>\n",
       "    <tr>\n",
       "      <th>gender</th>\n",
       "      <td>14181</td>\n",
       "      <td>2</td>\n",
       "      <td>M</td>\n",
       "      <td>7776</td>\n",
       "    </tr>\n",
       "    <tr>\n",
       "      <th>epinephrine</th>\n",
       "      <td>15517</td>\n",
       "      <td>2</td>\n",
       "      <td>0.0</td>\n",
       "      <td>13903</td>\n",
       "    </tr>\n",
       "    <tr>\n",
       "      <th>dopamine</th>\n",
       "      <td>18114</td>\n",
       "      <td>2</td>\n",
       "      <td>0.0</td>\n",
       "      <td>13363</td>\n",
       "    </tr>\n",
       "    <tr>\n",
       "      <th>nitrite</th>\n",
       "      <td>14181</td>\n",
       "      <td>2</td>\n",
       "      <td>Neg/Not_tested</td>\n",
       "      <td>13816</td>\n",
       "    </tr>\n",
       "    <tr>\n",
       "      <th>rrt</th>\n",
       "      <td>14181</td>\n",
       "      <td>2</td>\n",
       "      <td>0.0</td>\n",
       "      <td>13094</td>\n",
       "    </tr>\n",
       "    <tr>\n",
       "      <th>dobutamine</th>\n",
       "      <td>15143</td>\n",
       "      <td>2</td>\n",
       "      <td>0.0</td>\n",
       "      <td>13970</td>\n",
       "    </tr>\n",
       "    <tr>\n",
       "      <th>cancer_elix</th>\n",
       "      <td>14181</td>\n",
       "      <td>2</td>\n",
       "      <td>0.0</td>\n",
       "      <td>12439</td>\n",
       "    </tr>\n",
       "    <tr>\n",
       "      <th>vasopressin</th>\n",
       "      <td>16485</td>\n",
       "      <td>2</td>\n",
       "      <td>0.0</td>\n",
       "      <td>13808</td>\n",
       "    </tr>\n",
       "    <tr>\n",
       "      <th>vent_recieved</th>\n",
       "      <td>14049</td>\n",
       "      <td>3</td>\n",
       "      <td>Mech</td>\n",
       "      <td>7026</td>\n",
       "    </tr>\n",
       "    <tr>\n",
       "      <th>ethnicity</th>\n",
       "      <td>14181</td>\n",
       "      <td>5</td>\n",
       "      <td>white/nonhispanic</td>\n",
       "      <td>10330</td>\n",
       "    </tr>\n",
       "    <tr>\n",
       "      <th>sum_elix</th>\n",
       "      <td>15226</td>\n",
       "      <td>13</td>\n",
       "      <td>0.0</td>\n",
       "      <td>10058</td>\n",
       "    </tr>\n",
       "    <tr>\n",
       "      <th>mingcs</th>\n",
       "      <td>5782</td>\n",
       "      <td>13</td>\n",
       "      <td>15.0</td>\n",
       "      <td>2188</td>\n",
       "    </tr>\n",
       "    <tr>\n",
       "      <th>daily_sofa</th>\n",
       "      <td>30669</td>\n",
       "      <td>23</td>\n",
       "      <td>1</td>\n",
       "      <td>5664</td>\n",
       "    </tr>\n",
       "    <tr>\n",
       "      <th>bicarbonate</th>\n",
       "      <td>45045</td>\n",
       "      <td>55</td>\n",
       "      <td>23.0</td>\n",
       "      <td>3720</td>\n",
       "    </tr>\n",
       "    <tr>\n",
       "      <th>resprate</th>\n",
       "      <td>724349</td>\n",
       "      <td>69</td>\n",
       "      <td>20.0</td>\n",
       "      <td>57711</td>\n",
       "    </tr>\n",
       "    <tr>\n",
       "      <th>sodium</th>\n",
       "      <td>52043</td>\n",
       "      <td>80</td>\n",
       "      <td>139.0</td>\n",
       "      <td>4675</td>\n",
       "    </tr>\n",
       "    <tr>\n",
       "      <th>chloride</th>\n",
       "      <td>49703</td>\n",
       "      <td>84</td>\n",
       "      <td>106.0</td>\n",
       "      <td>3183</td>\n",
       "    </tr>\n",
       "    <tr>\n",
       "      <th>bands</th>\n",
       "      <td>2954</td>\n",
       "      <td>91</td>\n",
       "      <td>1.0</td>\n",
       "      <td>341</td>\n",
       "    </tr>\n",
       "    <tr>\n",
       "      <th>potassium</th>\n",
       "      <td>62987</td>\n",
       "      <td>100</td>\n",
       "      <td>4.0</td>\n",
       "      <td>4420</td>\n",
       "    </tr>\n",
       "    <tr>\n",
       "      <th>spo2</th>\n",
       "      <td>660468</td>\n",
       "      <td>101</td>\n",
       "      <td>100.0</td>\n",
       "      <td>153639</td>\n",
       "    </tr>\n",
       "    <tr>\n",
       "      <th>ph</th>\n",
       "      <td>54062</td>\n",
       "      <td>101</td>\n",
       "      <td>7.4</td>\n",
       "      <td>2828</td>\n",
       "    </tr>\n",
       "    <tr>\n",
       "      <th>height</th>\n",
       "      <td>9339</td>\n",
       "      <td>126</td>\n",
       "      <td>177.8</td>\n",
       "      <td>607</td>\n",
       "    </tr>\n",
       "    <tr>\n",
       "      <th>pco2</th>\n",
       "      <td>31151</td>\n",
       "      <td>132</td>\n",
       "      <td>40.0</td>\n",
       "      <td>1532</td>\n",
       "    </tr>\n",
       "    <tr>\n",
       "      <th>hemoglobin</th>\n",
       "      <td>47377</td>\n",
       "      <td>166</td>\n",
       "      <td>10.1</td>\n",
       "      <td>1103</td>\n",
       "    </tr>\n",
       "    <tr>\n",
       "      <th>calcium</th>\n",
       "      <td>22687</td>\n",
       "      <td>167</td>\n",
       "      <td>1.13</td>\n",
       "      <td>1158</td>\n",
       "    </tr>\n",
       "    <tr>\n",
       "      <th>inr</th>\n",
       "      <td>29405</td>\n",
       "      <td>171</td>\n",
       "      <td>1.2</td>\n",
       "      <td>4376</td>\n",
       "    </tr>\n",
       "    <tr>\n",
       "      <th>creatinine</th>\n",
       "      <td>44947</td>\n",
       "      <td>180</td>\n",
       "      <td>0.7</td>\n",
       "      <td>3700</td>\n",
       "    </tr>\n",
       "    <tr>\n",
       "      <th>diasbp</th>\n",
       "      <td>666148</td>\n",
       "      <td>193</td>\n",
       "      <td>56.0</td>\n",
       "      <td>21109</td>\n",
       "    </tr>\n",
       "    <tr>\n",
       "      <th>bun</th>\n",
       "      <td>44760</td>\n",
       "      <td>195</td>\n",
       "      <td>14.0</td>\n",
       "      <td>1346</td>\n",
       "    </tr>\n",
       "    <tr>\n",
       "      <th>heartrate</th>\n",
       "      <td>689493</td>\n",
       "      <td>202</td>\n",
       "      <td>80.0</td>\n",
       "      <td>18098</td>\n",
       "    </tr>\n",
       "    <tr>\n",
       "      <th>sysbp</th>\n",
       "      <td>669313</td>\n",
       "      <td>232</td>\n",
       "      <td>108.0</td>\n",
       "      <td>12576</td>\n",
       "    </tr>\n",
       "    <tr>\n",
       "      <th>lactate</th>\n",
       "      <td>29061</td>\n",
       "      <td>275</td>\n",
       "      <td>1.2</td>\n",
       "      <td>1352</td>\n",
       "    </tr>\n",
       "    <tr>\n",
       "      <th>bilirubin</th>\n",
       "      <td>13459</td>\n",
       "      <td>370</td>\n",
       "      <td>0.4</td>\n",
       "      <td>1163</td>\n",
       "    </tr>\n",
       "    <tr>\n",
       "      <th>temperature</th>\n",
       "      <td>206107</td>\n",
       "      <td>559</td>\n",
       "      <td>36.6666666666667</td>\n",
       "      <td>5589</td>\n",
       "    </tr>\n",
       "    <tr>\n",
       "      <th>meanartpress</th>\n",
       "      <td>676749</td>\n",
       "      <td>581</td>\n",
       "      <td>72.0</td>\n",
       "      <td>18092</td>\n",
       "    </tr>\n",
       "    <tr>\n",
       "      <th>glucose</th>\n",
       "      <td>164088</td>\n",
       "      <td>696</td>\n",
       "      <td>117.0</td>\n",
       "      <td>1755</td>\n",
       "    </tr>\n",
       "    <tr>\n",
       "      <th>wbc</th>\n",
       "      <td>39791</td>\n",
       "      <td>750</td>\n",
       "      <td>8.8</td>\n",
       "      <td>326</td>\n",
       "    </tr>\n",
       "    <tr>\n",
       "      <th>platelet</th>\n",
       "      <td>41168</td>\n",
       "      <td>859</td>\n",
       "      <td>162.0</td>\n",
       "      <td>186</td>\n",
       "    </tr>\n",
       "    <tr>\n",
       "      <th>pao2fio2Ratio</th>\n",
       "      <td>14181</td>\n",
       "      <td>998</td>\n",
       "      <td>476.0</td>\n",
       "      <td>8968</td>\n",
       "    </tr>\n",
       "    <tr>\n",
       "      <th>ptt</th>\n",
       "      <td>30822</td>\n",
       "      <td>1187</td>\n",
       "      <td>150.0</td>\n",
       "      <td>779</td>\n",
       "    </tr>\n",
       "    <tr>\n",
       "      <th>weight</th>\n",
       "      <td>12895</td>\n",
       "      <td>1400</td>\n",
       "      <td>70.0</td>\n",
       "      <td>246</td>\n",
       "    </tr>\n",
       "    <tr>\n",
       "      <th>first_admit_age</th>\n",
       "      <td>14181</td>\n",
       "      <td>5008</td>\n",
       "      <td>300.0</td>\n",
       "      <td>890</td>\n",
       "    </tr>\n",
       "  </tbody>\n",
       "</table>\n",
       "</div>"
      ],
      "text/plain": [
       "                  count unique                top    freq\n",
       "label                                                    \n",
       "leukocyte         14181      2     Neg/Not_tested   12288\n",
       "norepinephrine    30223      2                1.0   18782\n",
       "o2_flow           14363      2                0.0   13582\n",
       "phenylephrine     23938      2                0.0   12074\n",
       "gender            14181      2                  M    7776\n",
       "epinephrine       15517      2                0.0   13903\n",
       "dopamine          18114      2                0.0   13363\n",
       "nitrite           14181      2     Neg/Not_tested   13816\n",
       "rrt               14181      2                0.0   13094\n",
       "dobutamine        15143      2                0.0   13970\n",
       "cancer_elix       14181      2                0.0   12439\n",
       "vasopressin       16485      2                0.0   13808\n",
       "vent_recieved     14049      3               Mech    7026\n",
       "ethnicity         14181      5  white/nonhispanic   10330\n",
       "sum_elix          15226     13                0.0   10058\n",
       "mingcs             5782     13               15.0    2188\n",
       "daily_sofa        30669     23                  1    5664\n",
       "bicarbonate       45045     55               23.0    3720\n",
       "resprate         724349     69               20.0   57711\n",
       "sodium            52043     80              139.0    4675\n",
       "chloride          49703     84              106.0    3183\n",
       "bands              2954     91                1.0     341\n",
       "potassium         62987    100                4.0    4420\n",
       "spo2             660468    101              100.0  153639\n",
       "ph                54062    101                7.4    2828\n",
       "height             9339    126              177.8     607\n",
       "pco2              31151    132               40.0    1532\n",
       "hemoglobin        47377    166               10.1    1103\n",
       "calcium           22687    167               1.13    1158\n",
       "inr               29405    171                1.2    4376\n",
       "creatinine        44947    180                0.7    3700\n",
       "diasbp           666148    193               56.0   21109\n",
       "bun               44760    195               14.0    1346\n",
       "heartrate        689493    202               80.0   18098\n",
       "sysbp            669313    232              108.0   12576\n",
       "lactate           29061    275                1.2    1352\n",
       "bilirubin         13459    370                0.4    1163\n",
       "temperature      206107    559   36.6666666666667    5589\n",
       "meanartpress     676749    581               72.0   18092\n",
       "glucose          164088    696              117.0    1755\n",
       "wbc               39791    750                8.8     326\n",
       "platelet          41168    859              162.0     186\n",
       "pao2fio2Ratio     14181    998              476.0    8968\n",
       "ptt               30822   1187              150.0     779\n",
       "weight            12895   1400               70.0     246\n",
       "first_admit_age   14181   5008              300.0     890"
      ]
     },
     "execution_count": 22,
     "metadata": {},
     "output_type": "execute_result"
    },
    {
     "name": "stdout",
     "output_type": "stream",
     "text": [
      "time: 1.32 s\n"
     ]
    }
   ],
   "source": [
    "big_df.groupby('label')['value'].describe().sort_values('unique')\n",
    "##categorical variables:\n",
    "#rrt, phenylephrine, norepinephrine, vasopressin, dobutamine, dopamine, epinephrine, leukocyte, vent_recieved\n"
   ]
  },
  {
   "cell_type": "code",
   "execution_count": 27,
   "metadata": {},
   "outputs": [
    {
     "name": "stdout",
     "output_type": "stream",
     "text": [
      "time: 3.84 s\n"
     ]
    }
   ],
   "source": [
    "#converting categories to integers\n",
    "vent_index=pd.factorize(big_df.loc[big_df.loc[:,'label']=='vent_recieved','value'])[1]\n",
    "big_df.loc[big_df.loc[:,'label']=='vent_recieved','value']=pd.factorize(big_df.loc[big_df.loc[:,'label']=='vent_recieved','value'])[0]#= big_df.loc[big_df.loc[:,'label']=='vent_recieved','value'].astype('category')\n",
    "\n",
    "gender_index=pd.factorize(big_df.loc[big_df.loc[:,'label']=='gender','value'])[1]\n",
    "big_df.loc[big_df.loc[:,'label']=='gender','value']=pd.factorize(big_df.loc[big_df.loc[:,'label']=='gender','value'])[0] #male=1\n",
    "\n",
    "leukocyte_index=pd.factorize(big_df.loc[big_df.loc[:,'label']=='leukocyte','value'])[1]\n",
    "big_df.loc[big_df.loc[:,'label']=='leukocyte','value']=pd.factorize(big_df.loc[big_df.loc[:,'label']=='leukocyte','value'])[0] \n",
    "\n",
    "nitrite_index=pd.factorize(big_df.loc[big_df.loc[:,'label']=='nitrite','value'])[1]\n",
    "big_df.loc[big_df.loc[:,'label']=='nitrite','value']=pd.factorize(big_df.loc[big_df.loc[:,'label']=='nitrite','value'])[0] \n"
   ]
  },
  {
   "cell_type": "markdown",
   "metadata": {},
   "source": [
    "# changing pao2/fio2 ratio to a category\n",
    "A PaO2/FiO2 ratio less than or equal to 200 is necessary for the diagnosis of acute respiratory distress syndrome by the AECC criteria.[6] \n",
    "The more recent Berlin criteria defines mild ARDS at a ratio of <300.\n",
    "\n",
    "A PaO2/FiO2 ratio less than or equal to 250 is one of the minor criteria for severe community acquired pneumonia (i.e., possible indication for inpatient treatment).\n",
    "\n",
    "A PaO2/FiO2 ratio less than or equal to 333 is one of the variables in the SMART-COP risk score for intensive respiratory or vasopressor support in community-acquired pneumonia.\n",
    "\n"
   ]
  },
  {
   "cell_type": "code",
   "execution_count": 28,
   "metadata": {},
   "outputs": [
    {
     "data": {
      "text/plain": [
       "(475, 3000]    9827\n",
       "(0, 200]       1708\n",
       "(200, 333]     1352\n",
       "(333, 475]     1294\n",
       "Name: value, dtype: int64"
      ]
     },
     "execution_count": 28,
     "metadata": {},
     "output_type": "execute_result"
    },
    {
     "name": "stdout",
     "output_type": "stream",
     "text": [
      "time: 1.33 s\n"
     ]
    }
   ],
   "source": [
    "pd.to_numeric(big_df[big_df['label']==\"pao2fio2Ratio\"]['value'])\n",
    "labels= ['0-200', '201-333', \"334-475\",\"476+\"]\n",
    "bins = pd.IntervalIndex.from_tuples([(0, 200), (200, 333), (333, 475),(475,3000)])\n",
    "\n",
    "big_df.loc[big_df['label']==\"pao2fio2Ratio\",'value']=pd.cut(pd.to_numeric(big_df.loc[big_df['label']==\"pao2fio2Ratio\",'value']), bins,right=False, labels=labels)\n",
    "big_df.loc[big_df['label']==\"pao2fio2Ratio\",'value'].value_counts()\n"
   ]
  },
  {
   "cell_type": "markdown",
   "metadata": {},
   "source": [
    "## calc median/iqr for standardization"
   ]
  },
  {
   "cell_type": "code",
   "execution_count": 29,
   "metadata": {},
   "outputs": [
    {
     "name": "stdout",
     "output_type": "stream",
     "text": [
      "time: 14.6 ms\n"
     ]
    }
   ],
   "source": [
    "continuous=['daily_sofa',\n",
    "            'lactate',\n",
    "            'mingcs',\n",
    "            'diasbp',\n",
    "            'heartrate',\n",
    "            'meanartpress',\n",
    "            'resprate',\n",
    "            'sysbp',\n",
    "            'temperature',\n",
    "            'hemoglobin',\n",
    "            'platelet',\n",
    "            'wbc',\n",
    "            'calcium',\n",
    "            'glucose',\n",
    "            'ph',\n",
    "            'bicarbonate',\n",
    "            'bun',\n",
    "            'chloride',\n",
    "            'creatinine',\n",
    "            'inr',\n",
    "            'potassium',\n",
    "            'ptt',\n",
    "            'sodium',\n",
    "            'bilirubin',\n",
    "            'spo2',\n",
    "            'sum_elix']\n",
    "\n",
    "sparse=['bands','pco2']\n",
    "\n",
    "onetime=['first_admit_age','height','weight']\n",
    "\n",
    "vaso_active=['phenylephrine',\n",
    "            'norepinephrine',\n",
    "            'vasopressin',\n",
    "            'dobutamine',\n",
    "            'dopamine',\n",
    "            'epinephrine'] \n",
    "\n",
    "ordinal=[\n",
    "            'leukocyte',\n",
    "            'nitrite',\n",
    "            'vent_recieved',\n",
    "            'o2_flow',\n",
    "            'rrt',\n",
    "            'pao2fio2Ratio',\n",
    "            'cancer_elix',\n",
    "            \"all_vasoactives\"\n",
    "]\n",
    "\n",
    "categorical=[\n",
    "            \"ethnicity\",\n",
    "            'gender'\n",
    "]\n"
   ]
  },
  {
   "cell_type": "code",
   "execution_count": 30,
   "metadata": {},
   "outputs": [
    {
     "name": "stdout",
     "output_type": "stream",
     "text": [
      "time: 8.24 ms\n"
     ]
    }
   ],
   "source": [
    "final_bin=final_pt_df2[['icustay_id',\"final_bin\"]].copy()\n",
    "#list of healthy pt\n",
    "healthy_pt=list(final_bin[final_bin['final_bin']==\"C_neg/A_partial\"]['icustay_id'])\n",
    "del(final_bin)"
   ]
  },
  {
   "cell_type": "code",
   "execution_count": 31,
   "metadata": {},
   "outputs": [
    {
     "name": "stdout",
     "output_type": "stream",
     "text": [
      "time: 4.19 s\n"
     ]
    }
   ],
   "source": [
    "#formatting big_df to be limited to only numeric columns\n",
    "#norm_df=big_df[big_df['label'].isin(label_list)].copy() #limiting to numerical variables\n",
    "norm_df=big_df.copy()\n",
    "\n",
    "categorical_dropped= ['ethnicity'] #dropping ethnicity from model\n",
    "norm_df=norm_df[norm_df['label'].isin(continuous+onetime+sparse)]\n",
    "\n",
    "norm_df['value']= pd.to_numeric(norm_df['value']) #converting to numeric \n",
    "\n",
    "#healthy patients filter\n",
    "healthy_df=norm_df[norm_df['icustay_id'].isin(healthy_pt)].copy() #only numerical values for cneg/ab partial pt"
   ]
  },
  {
   "cell_type": "code",
   "execution_count": 32,
   "metadata": {},
   "outputs": [
    {
     "data": {
      "text/html": [
       "<div>\n",
       "<style scoped>\n",
       "    .dataframe tbody tr th:only-of-type {\n",
       "        vertical-align: middle;\n",
       "    }\n",
       "\n",
       "    .dataframe tbody tr th {\n",
       "        vertical-align: top;\n",
       "    }\n",
       "\n",
       "    .dataframe thead th {\n",
       "        text-align: right;\n",
       "    }\n",
       "</style>\n",
       "<table border=\"1\" class=\"dataframe\">\n",
       "  <thead>\n",
       "    <tr style=\"text-align: right;\">\n",
       "      <th></th>\n",
       "      <th>icustay_id</th>\n",
       "      <th>t_0</th>\n",
       "      <th>delta</th>\n",
       "      <th>value</th>\n",
       "      <th>label</th>\n",
       "      <th>uom</th>\n",
       "      <th>source</th>\n",
       "      <th>subject_id</th>\n",
       "      <th>end</th>\n",
       "      <th>start</th>\n",
       "    </tr>\n",
       "  </thead>\n",
       "  <tbody>\n",
       "    <tr>\n",
       "      <th>0</th>\n",
       "      <td>200012.0</td>\n",
       "      <td>2153-12-23</td>\n",
       "      <td>0 days 00:00:00.000000000</td>\n",
       "      <td>1.00</td>\n",
       "      <td>daily_sofa</td>\n",
       "      <td>daily_sofa_score</td>\n",
       "      <td>sofa</td>\n",
       "      <td>28448</td>\n",
       "      <td>0 days 15:00:00.000000000</td>\n",
       "      <td>-1 days +15:00:00</td>\n",
       "    </tr>\n",
       "    <tr>\n",
       "      <th>1</th>\n",
       "      <td>200012.0</td>\n",
       "      <td>2153-12-23</td>\n",
       "      <td>0 days 00:00:00.000000000</td>\n",
       "      <td>32.99</td>\n",
       "      <td>first_admit_age</td>\n",
       "      <td>years</td>\n",
       "      <td>pt_info</td>\n",
       "      <td>28448</td>\n",
       "      <td>0 days 15:00:00.000000000</td>\n",
       "      <td>-1 days +15:00:00</td>\n",
       "    </tr>\n",
       "    <tr>\n",
       "      <th>2</th>\n",
       "      <td>200012.0</td>\n",
       "      <td>2153-12-23</td>\n",
       "      <td>0 days 00:00:00.000000000</td>\n",
       "      <td>0.00</td>\n",
       "      <td>sum_elix</td>\n",
       "      <td>elixhauser_comorb_sum</td>\n",
       "      <td>sum_elix</td>\n",
       "      <td>28448</td>\n",
       "      <td>0 days 15:00:00.000000000</td>\n",
       "      <td>-1 days +15:00:00</td>\n",
       "    </tr>\n",
       "    <tr>\n",
       "      <th>3</th>\n",
       "      <td>200012.0</td>\n",
       "      <td>2153-12-23</td>\n",
       "      <td>0 days 00:00:00.000000000</td>\n",
       "      <td>51.20</td>\n",
       "      <td>weight</td>\n",
       "      <td>kg</td>\n",
       "      <td>weight</td>\n",
       "      <td>28448</td>\n",
       "      <td>0 days 15:00:00.000000000</td>\n",
       "      <td>-1 days +15:00:00</td>\n",
       "    </tr>\n",
       "    <tr>\n",
       "      <th>4</th>\n",
       "      <td>200012.0</td>\n",
       "      <td>2153-12-23</td>\n",
       "      <td>0 days 02:36:00.000000000</td>\n",
       "      <td>1.30</td>\n",
       "      <td>lactate</td>\n",
       "      <td>mmol/L</td>\n",
       "      <td>labs</td>\n",
       "      <td>28448</td>\n",
       "      <td>0 days 15:00:00.000000000</td>\n",
       "      <td>-1 days +15:00:00</td>\n",
       "    </tr>\n",
       "  </tbody>\n",
       "</table>\n",
       "</div>"
      ],
      "text/plain": [
       "   icustay_id         t_0                      delta  value            label  \\\n",
       "0    200012.0  2153-12-23  0 days 00:00:00.000000000   1.00       daily_sofa   \n",
       "1    200012.0  2153-12-23  0 days 00:00:00.000000000  32.99  first_admit_age   \n",
       "2    200012.0  2153-12-23  0 days 00:00:00.000000000   0.00         sum_elix   \n",
       "3    200012.0  2153-12-23  0 days 00:00:00.000000000  51.20           weight   \n",
       "4    200012.0  2153-12-23  0 days 02:36:00.000000000   1.30          lactate   \n",
       "\n",
       "                     uom    source  subject_id                        end  \\\n",
       "0       daily_sofa_score      sofa       28448  0 days 15:00:00.000000000   \n",
       "1                  years   pt_info       28448  0 days 15:00:00.000000000   \n",
       "2  elixhauser_comorb_sum  sum_elix       28448  0 days 15:00:00.000000000   \n",
       "3                     kg    weight       28448  0 days 15:00:00.000000000   \n",
       "4                 mmol/L      labs       28448  0 days 15:00:00.000000000   \n",
       "\n",
       "              start  \n",
       "0 -1 days +15:00:00  \n",
       "1 -1 days +15:00:00  \n",
       "2 -1 days +15:00:00  \n",
       "3 -1 days +15:00:00  \n",
       "4 -1 days +15:00:00  "
      ]
     },
     "execution_count": 32,
     "metadata": {},
     "output_type": "execute_result"
    },
    {
     "name": "stdout",
     "output_type": "stream",
     "text": [
      "time: 1.95 s\n"
     ]
    }
   ],
   "source": [
    "#finding the last 24 hours of each healthy patient.\n",
    "healthy_pt_end=pd.DataFrame(healthy_df.groupby(\"icustay_id\")['delta'].max())\n",
    "\n",
    "healthy_pt_end[\"start\"]=healthy_pt_end['delta']- pd.to_timedelta(\"1 day 00:00:00\")\n",
    "healthy_pt_end=healthy_pt_end.rename(columns={\"delta\":\"end\"}).reset_index()\n",
    "\n",
    "healthy_df= pd.merge(healthy_df,healthy_pt_end, left_on=\"icustay_id\", right_on=\"icustay_id\", how=\"left\" ) #now have the last 24 hours annotated for each patient as start and end.\n",
    "healthy_df.head()"
   ]
  },
  {
   "cell_type": "code",
   "execution_count": 33,
   "metadata": {},
   "outputs": [
    {
     "name": "stderr",
     "output_type": "stream",
     "text": [
      "/Users/geickelb1/anaconda/envs/rpy-env/lib/python3.6/site-packages/ipykernel_launcher.py:2: RuntimeWarning: divide by zero encountered in log\n",
      "  \n"
     ]
    },
    {
     "data": {
      "text/html": [
       "<div>\n",
       "<style scoped>\n",
       "    .dataframe tbody tr th:only-of-type {\n",
       "        vertical-align: middle;\n",
       "    }\n",
       "\n",
       "    .dataframe tbody tr th {\n",
       "        vertical-align: top;\n",
       "    }\n",
       "\n",
       "    .dataframe thead th {\n",
       "        text-align: right;\n",
       "    }\n",
       "</style>\n",
       "<table border=\"1\" class=\"dataframe\">\n",
       "  <thead>\n",
       "    <tr style=\"text-align: right;\">\n",
       "      <th></th>\n",
       "      <th>label</th>\n",
       "      <th>value</th>\n",
       "    </tr>\n",
       "  </thead>\n",
       "  <tbody>\n",
       "    <tr>\n",
       "      <th>0</th>\n",
       "      <td>bands</td>\n",
       "      <td>1.609438</td>\n",
       "    </tr>\n",
       "    <tr>\n",
       "      <th>1</th>\n",
       "      <td>bicarbonate</td>\n",
       "      <td>3.178054</td>\n",
       "    </tr>\n",
       "    <tr>\n",
       "      <th>2</th>\n",
       "      <td>bilirubin</td>\n",
       "      <td>-0.223144</td>\n",
       "    </tr>\n",
       "    <tr>\n",
       "      <th>3</th>\n",
       "      <td>bun</td>\n",
       "      <td>3.044522</td>\n",
       "    </tr>\n",
       "    <tr>\n",
       "      <th>4</th>\n",
       "      <td>calcium</td>\n",
       "      <td>0.131028</td>\n",
       "    </tr>\n",
       "    <tr>\n",
       "      <th>5</th>\n",
       "      <td>chloride</td>\n",
       "      <td>4.653960</td>\n",
       "    </tr>\n",
       "    <tr>\n",
       "      <th>6</th>\n",
       "      <td>creatinine</td>\n",
       "      <td>0.000000</td>\n",
       "    </tr>\n",
       "    <tr>\n",
       "      <th>7</th>\n",
       "      <td>daily_sofa</td>\n",
       "      <td>1.098612</td>\n",
       "    </tr>\n",
       "    <tr>\n",
       "      <th>8</th>\n",
       "      <td>diasbp</td>\n",
       "      <td>4.077537</td>\n",
       "    </tr>\n",
       "    <tr>\n",
       "      <th>9</th>\n",
       "      <td>first_admit_age</td>\n",
       "      <td>4.176692</td>\n",
       "    </tr>\n",
       "    <tr>\n",
       "      <th>10</th>\n",
       "      <td>glucose</td>\n",
       "      <td>4.852030</td>\n",
       "    </tr>\n",
       "    <tr>\n",
       "      <th>11</th>\n",
       "      <td>heartrate</td>\n",
       "      <td>4.442651</td>\n",
       "    </tr>\n",
       "    <tr>\n",
       "      <th>12</th>\n",
       "      <td>height</td>\n",
       "      <td>5.135798</td>\n",
       "    </tr>\n",
       "    <tr>\n",
       "      <th>13</th>\n",
       "      <td>hemoglobin</td>\n",
       "      <td>2.332144</td>\n",
       "    </tr>\n",
       "    <tr>\n",
       "      <th>14</th>\n",
       "      <td>inr</td>\n",
       "      <td>0.262364</td>\n",
       "    </tr>\n",
       "    <tr>\n",
       "      <th>15</th>\n",
       "      <td>lactate</td>\n",
       "      <td>0.530628</td>\n",
       "    </tr>\n",
       "    <tr>\n",
       "      <th>16</th>\n",
       "      <td>meanartpress</td>\n",
       "      <td>4.330733</td>\n",
       "    </tr>\n",
       "    <tr>\n",
       "      <th>17</th>\n",
       "      <td>mingcs</td>\n",
       "      <td>2.639057</td>\n",
       "    </tr>\n",
       "    <tr>\n",
       "      <th>18</th>\n",
       "      <td>pco2</td>\n",
       "      <td>3.688879</td>\n",
       "    </tr>\n",
       "    <tr>\n",
       "      <th>19</th>\n",
       "      <td>ph</td>\n",
       "      <td>2.000128</td>\n",
       "    </tr>\n",
       "    <tr>\n",
       "      <th>20</th>\n",
       "      <td>platelet</td>\n",
       "      <td>5.236442</td>\n",
       "    </tr>\n",
       "    <tr>\n",
       "      <th>21</th>\n",
       "      <td>potassium</td>\n",
       "      <td>1.410987</td>\n",
       "    </tr>\n",
       "    <tr>\n",
       "      <th>22</th>\n",
       "      <td>ptt</td>\n",
       "      <td>3.487375</td>\n",
       "    </tr>\n",
       "    <tr>\n",
       "      <th>23</th>\n",
       "      <td>resprate</td>\n",
       "      <td>2.944439</td>\n",
       "    </tr>\n",
       "    <tr>\n",
       "      <th>24</th>\n",
       "      <td>sodium</td>\n",
       "      <td>4.927254</td>\n",
       "    </tr>\n",
       "    <tr>\n",
       "      <th>25</th>\n",
       "      <td>spo2</td>\n",
       "      <td>4.574711</td>\n",
       "    </tr>\n",
       "    <tr>\n",
       "      <th>26</th>\n",
       "      <td>sum_elix</td>\n",
       "      <td>-inf</td>\n",
       "    </tr>\n",
       "    <tr>\n",
       "      <th>27</th>\n",
       "      <td>sysbp</td>\n",
       "      <td>4.762174</td>\n",
       "    </tr>\n",
       "    <tr>\n",
       "      <th>28</th>\n",
       "      <td>temperature</td>\n",
       "      <td>3.608212</td>\n",
       "    </tr>\n",
       "    <tr>\n",
       "      <th>29</th>\n",
       "      <td>wbc</td>\n",
       "      <td>2.312535</td>\n",
       "    </tr>\n",
       "    <tr>\n",
       "      <th>30</th>\n",
       "      <td>weight</td>\n",
       "      <td>4.343805</td>\n",
       "    </tr>\n",
       "  </tbody>\n",
       "</table>\n",
       "</div>"
      ],
      "text/plain": [
       "              label     value\n",
       "0             bands  1.609438\n",
       "1       bicarbonate  3.178054\n",
       "2         bilirubin -0.223144\n",
       "3               bun  3.044522\n",
       "4           calcium  0.131028\n",
       "5          chloride  4.653960\n",
       "6        creatinine  0.000000\n",
       "7        daily_sofa  1.098612\n",
       "8            diasbp  4.077537\n",
       "9   first_admit_age  4.176692\n",
       "10          glucose  4.852030\n",
       "11        heartrate  4.442651\n",
       "12           height  5.135798\n",
       "13       hemoglobin  2.332144\n",
       "14              inr  0.262364\n",
       "15          lactate  0.530628\n",
       "16     meanartpress  4.330733\n",
       "17           mingcs  2.639057\n",
       "18             pco2  3.688879\n",
       "19               ph  2.000128\n",
       "20         platelet  5.236442\n",
       "21        potassium  1.410987\n",
       "22              ptt  3.487375\n",
       "23         resprate  2.944439\n",
       "24           sodium  4.927254\n",
       "25             spo2  4.574711\n",
       "26         sum_elix      -inf\n",
       "27            sysbp  4.762174\n",
       "28      temperature  3.608212\n",
       "29              wbc  2.312535\n",
       "30           weight  4.343805"
      ]
     },
     "execution_count": 33,
     "metadata": {},
     "output_type": "execute_result"
    },
    {
     "name": "stdout",
     "output_type": "stream",
     "text": [
      "time: 727 ms\n"
     ]
    }
   ],
   "source": [
    "##qc, trying to log before standardization\n",
    "pd.DataFrame(np.log(healthy_df.groupby(\"label\")['value'].median())).reset_index()"
   ]
  },
  {
   "cell_type": "code",
   "execution_count": 34,
   "metadata": {},
   "outputs": [
    {
     "name": "stdout",
     "output_type": "stream",
     "text": [
      "time: 835 ms\n"
     ]
    }
   ],
   "source": [
    "#calculating medians and iqr for each label based on healthy patient's last 24 hours in icu\n",
    "median_label=pd.DataFrame((healthy_df.groupby(\"label\")['value'].median())).reset_index()\n",
    "median_label=median_label.rename(columns={'value':\"median\"})\n",
    "iqr_label=pd.DataFrame((healthy_df.groupby(\"label\")['value'].quantile(0.75)-healthy_df.groupby(\"label\")['value'].quantile(0.25))).reset_index()\n",
    "iqr_label=iqr_label.rename(columns={'value':\"iqr\"})\n",
    "median_label=pd.merge(median_label,iqr_label)  #final median df\n",
    "del(iqr_label)\n",
    "        \n",
    "#saving the median label for standardization, will be used later on in teh notebook\n",
    "# pd.DataFrame(median_label).to_csv(Path(\n",
    "#     wd+'/data/processed/merged/%s_healthy_medians.csv' %(date)),index=False)"
   ]
  },
  {
   "cell_type": "code",
   "execution_count": 35,
   "metadata": {},
   "outputs": [
    {
     "data": {
      "text/html": [
       "<div>\n",
       "<style scoped>\n",
       "    .dataframe tbody tr th:only-of-type {\n",
       "        vertical-align: middle;\n",
       "    }\n",
       "\n",
       "    .dataframe tbody tr th {\n",
       "        vertical-align: top;\n",
       "    }\n",
       "\n",
       "    .dataframe thead th {\n",
       "        text-align: right;\n",
       "    }\n",
       "</style>\n",
       "<table border=\"1\" class=\"dataframe\">\n",
       "  <thead>\n",
       "    <tr style=\"text-align: right;\">\n",
       "      <th></th>\n",
       "      <th>label</th>\n",
       "      <th>median</th>\n",
       "      <th>iqr</th>\n",
       "    </tr>\n",
       "  </thead>\n",
       "  <tbody>\n",
       "    <tr>\n",
       "      <th>0</th>\n",
       "      <td>bands</td>\n",
       "      <td>5.00</td>\n",
       "      <td>9.000</td>\n",
       "    </tr>\n",
       "    <tr>\n",
       "      <th>1</th>\n",
       "      <td>bicarbonate</td>\n",
       "      <td>24.00</td>\n",
       "      <td>6.000</td>\n",
       "    </tr>\n",
       "    <tr>\n",
       "      <th>2</th>\n",
       "      <td>bilirubin</td>\n",
       "      <td>0.80</td>\n",
       "      <td>1.500</td>\n",
       "    </tr>\n",
       "    <tr>\n",
       "      <th>3</th>\n",
       "      <td>bun</td>\n",
       "      <td>21.00</td>\n",
       "      <td>22.000</td>\n",
       "    </tr>\n",
       "    <tr>\n",
       "      <th>4</th>\n",
       "      <td>calcium</td>\n",
       "      <td>1.14</td>\n",
       "      <td>0.110</td>\n",
       "    </tr>\n",
       "    <tr>\n",
       "      <th>5</th>\n",
       "      <td>chloride</td>\n",
       "      <td>105.00</td>\n",
       "      <td>8.000</td>\n",
       "    </tr>\n",
       "    <tr>\n",
       "      <th>6</th>\n",
       "      <td>creatinine</td>\n",
       "      <td>1.00</td>\n",
       "      <td>1.000</td>\n",
       "    </tr>\n",
       "    <tr>\n",
       "      <th>7</th>\n",
       "      <td>daily_sofa</td>\n",
       "      <td>3.00</td>\n",
       "      <td>4.000</td>\n",
       "    </tr>\n",
       "    <tr>\n",
       "      <th>8</th>\n",
       "      <td>diasbp</td>\n",
       "      <td>59.00</td>\n",
       "      <td>18.000</td>\n",
       "    </tr>\n",
       "    <tr>\n",
       "      <th>9</th>\n",
       "      <td>first_admit_age</td>\n",
       "      <td>65.15</td>\n",
       "      <td>26.085</td>\n",
       "    </tr>\n",
       "    <tr>\n",
       "      <th>10</th>\n",
       "      <td>glucose</td>\n",
       "      <td>128.00</td>\n",
       "      <td>57.000</td>\n",
       "    </tr>\n",
       "    <tr>\n",
       "      <th>11</th>\n",
       "      <td>heartrate</td>\n",
       "      <td>85.00</td>\n",
       "      <td>23.000</td>\n",
       "    </tr>\n",
       "    <tr>\n",
       "      <th>12</th>\n",
       "      <td>height</td>\n",
       "      <td>170.00</td>\n",
       "      <td>15.240</td>\n",
       "    </tr>\n",
       "    <tr>\n",
       "      <th>13</th>\n",
       "      <td>hemoglobin</td>\n",
       "      <td>10.30</td>\n",
       "      <td>2.500</td>\n",
       "    </tr>\n",
       "    <tr>\n",
       "      <th>14</th>\n",
       "      <td>inr</td>\n",
       "      <td>1.30</td>\n",
       "      <td>0.400</td>\n",
       "    </tr>\n",
       "    <tr>\n",
       "      <th>15</th>\n",
       "      <td>lactate</td>\n",
       "      <td>1.70</td>\n",
       "      <td>1.400</td>\n",
       "    </tr>\n",
       "    <tr>\n",
       "      <th>16</th>\n",
       "      <td>meanartpress</td>\n",
       "      <td>76.00</td>\n",
       "      <td>20.000</td>\n",
       "    </tr>\n",
       "    <tr>\n",
       "      <th>17</th>\n",
       "      <td>mingcs</td>\n",
       "      <td>14.00</td>\n",
       "      <td>2.000</td>\n",
       "    </tr>\n",
       "    <tr>\n",
       "      <th>18</th>\n",
       "      <td>pco2</td>\n",
       "      <td>40.00</td>\n",
       "      <td>11.000</td>\n",
       "    </tr>\n",
       "    <tr>\n",
       "      <th>19</th>\n",
       "      <td>ph</td>\n",
       "      <td>7.39</td>\n",
       "      <td>0.090</td>\n",
       "    </tr>\n",
       "    <tr>\n",
       "      <th>20</th>\n",
       "      <td>platelet</td>\n",
       "      <td>188.00</td>\n",
       "      <td>130.000</td>\n",
       "    </tr>\n",
       "    <tr>\n",
       "      <th>21</th>\n",
       "      <td>potassium</td>\n",
       "      <td>4.10</td>\n",
       "      <td>0.800</td>\n",
       "    </tr>\n",
       "    <tr>\n",
       "      <th>22</th>\n",
       "      <td>ptt</td>\n",
       "      <td>32.70</td>\n",
       "      <td>14.400</td>\n",
       "    </tr>\n",
       "    <tr>\n",
       "      <th>23</th>\n",
       "      <td>resprate</td>\n",
       "      <td>19.00</td>\n",
       "      <td>7.000</td>\n",
       "    </tr>\n",
       "    <tr>\n",
       "      <th>24</th>\n",
       "      <td>sodium</td>\n",
       "      <td>138.00</td>\n",
       "      <td>5.000</td>\n",
       "    </tr>\n",
       "    <tr>\n",
       "      <th>25</th>\n",
       "      <td>spo2</td>\n",
       "      <td>97.00</td>\n",
       "      <td>4.000</td>\n",
       "    </tr>\n",
       "    <tr>\n",
       "      <th>26</th>\n",
       "      <td>sum_elix</td>\n",
       "      <td>0.00</td>\n",
       "      <td>3.000</td>\n",
       "    </tr>\n",
       "    <tr>\n",
       "      <th>27</th>\n",
       "      <td>sysbp</td>\n",
       "      <td>117.00</td>\n",
       "      <td>31.000</td>\n",
       "    </tr>\n",
       "    <tr>\n",
       "      <th>28</th>\n",
       "      <td>temperature</td>\n",
       "      <td>36.90</td>\n",
       "      <td>1.100</td>\n",
       "    </tr>\n",
       "    <tr>\n",
       "      <th>29</th>\n",
       "      <td>wbc</td>\n",
       "      <td>10.10</td>\n",
       "      <td>6.700</td>\n",
       "    </tr>\n",
       "    <tr>\n",
       "      <th>30</th>\n",
       "      <td>weight</td>\n",
       "      <td>77.00</td>\n",
       "      <td>26.000</td>\n",
       "    </tr>\n",
       "  </tbody>\n",
       "</table>\n",
       "</div>"
      ],
      "text/plain": [
       "              label  median      iqr\n",
       "0             bands    5.00    9.000\n",
       "1       bicarbonate   24.00    6.000\n",
       "2         bilirubin    0.80    1.500\n",
       "3               bun   21.00   22.000\n",
       "4           calcium    1.14    0.110\n",
       "5          chloride  105.00    8.000\n",
       "6        creatinine    1.00    1.000\n",
       "7        daily_sofa    3.00    4.000\n",
       "8            diasbp   59.00   18.000\n",
       "9   first_admit_age   65.15   26.085\n",
       "10          glucose  128.00   57.000\n",
       "11        heartrate   85.00   23.000\n",
       "12           height  170.00   15.240\n",
       "13       hemoglobin   10.30    2.500\n",
       "14              inr    1.30    0.400\n",
       "15          lactate    1.70    1.400\n",
       "16     meanartpress   76.00   20.000\n",
       "17           mingcs   14.00    2.000\n",
       "18             pco2   40.00   11.000\n",
       "19               ph    7.39    0.090\n",
       "20         platelet  188.00  130.000\n",
       "21        potassium    4.10    0.800\n",
       "22              ptt   32.70   14.400\n",
       "23         resprate   19.00    7.000\n",
       "24           sodium  138.00    5.000\n",
       "25             spo2   97.00    4.000\n",
       "26         sum_elix    0.00    3.000\n",
       "27            sysbp  117.00   31.000\n",
       "28      temperature   36.90    1.100\n",
       "29              wbc   10.10    6.700\n",
       "30           weight   77.00   26.000"
      ]
     },
     "execution_count": 35,
     "metadata": {},
     "output_type": "execute_result"
    },
    {
     "name": "stdout",
     "output_type": "stream",
     "text": [
      "time: 10.6 ms\n"
     ]
    }
   ],
   "source": [
    "median_label"
   ]
  },
  {
   "cell_type": "code",
   "execution_count": 36,
   "metadata": {},
   "outputs": [
    {
     "name": "stdout",
     "output_type": "stream",
     "text": [
      "time: 1.06 ms\n"
     ]
    }
   ],
   "source": [
    "# #making a test df of one patient so i can mess around with it\n",
    "# test_df=norm_df[norm_df['icustay_id']==200095.0].copy() #299995 \n",
    "\n",
    "# #merging in medians/iqr\n",
    "# test_df=pd.merge(test_df, median_label)\n",
    "# test_df.head()\n",
    "# test_df['standardize']=((test_df['value']-test_df['median'])/test_df['iqr']).fillna(0)\n",
    "# #normalizing"
   ]
  },
  {
   "cell_type": "code",
   "execution_count": 37,
   "metadata": {},
   "outputs": [
    {
     "name": "stdout",
     "output_type": "stream",
     "text": [
      "time: 8.32 ms\n"
     ]
    }
   ],
   "source": [
    "# continuous=['daily_sofa',\n",
    "#             'lactate',\n",
    "#             'mingcs',\n",
    "#             'diasbp',\n",
    "#             'heartrate',\n",
    "#             'meanartpress',\n",
    "#             'resprate',\n",
    "#             'sysbp',\n",
    "#             'temperature',\n",
    "#             'hemoglobin',\n",
    "#             'platelet',\n",
    "#             'wbc',\n",
    "#             'calcium',\n",
    "#             'glucose',\n",
    "#             'ph',\n",
    "#             'bicarbonate',\n",
    "#             'bun',\n",
    "#             'chloride',\n",
    "#             'creatinine',\n",
    "#             'inr',\n",
    "#             'potassium',\n",
    "#             'ptt',\n",
    "#             'sodium',\n",
    "#             'bilirubin',\n",
    "#             'spo2',\n",
    "#             'pao2fio2Ratio']\n",
    "\n",
    "# sparse=['bands','pco2' ]\n",
    "# onetime=['first_admit_age','height','weight']\n",
    "# vaso_active=['phenylephrine',\n",
    "#             'norepinephrine',\n",
    "#             'vasopressin',\n",
    "#             'dobutamine',\n",
    "#             'dopamine',\n",
    "#             'epinephrine']  #used to be in ordinal, seperated out so i could combine them into all_vasoactives\n",
    "\n",
    "# ordinal=[\n",
    "#             'leukocyte',\n",
    "#             'nitrite',\n",
    "#             'vent_recieved',\n",
    "#             'o2_flow',\n",
    "#             'rrt', \n",
    "#             \"all_vasoactives\",\n",
    "#             'pao2fio2Ratio'\n",
    "# ]\n"
   ]
  },
  {
   "cell_type": "markdown",
   "metadata": {},
   "source": [
    "# Standardizing data"
   ]
  },
  {
   "cell_type": "markdown",
   "metadata": {},
   "source": [
    "### dataformatting: convert all dtypes to a numeric type that pereserves nan. "
   ]
  },
  {
   "cell_type": "code",
   "execution_count": 38,
   "metadata": {},
   "outputs": [
    {
     "name": "stdout",
     "output_type": "stream",
     "text": [
      "time: 2min 7s\n"
     ]
    }
   ],
   "source": [
    "#splitting categorical, ordinal and continuous\n",
    "big_categorical= big_df.loc[big_df.loc[:,'label'].isin(categorical),:].copy() \n",
    "\n",
    "#continuous and ordinal variables\n",
    "big_noCat1= big_df.loc[big_df.loc[:,'label'].isin(continuous+sparse),:].copy() # do i need to add sparse?\n",
    "big_noCat1['value']= big_noCat1['value'].apply(pd.to_numeric, args=('coerce',)) #instead of convert to float, may preserve nan's better. "
   ]
  },
  {
   "cell_type": "markdown",
   "metadata": {},
   "source": [
    "### adding a standardized value (x-median)/iqr  where median is of the last 24 hours in time window for culture neg/ ab partial patients "
   ]
  },
  {
   "cell_type": "code",
   "execution_count": 39,
   "metadata": {},
   "outputs": [
    {
     "name": "stdout",
     "output_type": "stream",
     "text": [
      "time: 1.76 s\n"
     ]
    }
   ],
   "source": [
    "big_noCat=pd.merge(big_noCat1, median_label, how=\"left\") #\n",
    "\n",
    "#loging values\n",
    "big_noCat['median']= np.log(big_noCat['median']+1.0)\n",
    "big_noCat['iqr']= np.log(big_noCat['iqr']+1.0)\n",
    "big_noCat['raw_value']=big_noCat['value']\n",
    "big_noCat['value']=np.log(big_noCat['value']+1.0)\n",
    "##"
   ]
  },
  {
   "cell_type": "code",
   "execution_count": 40,
   "metadata": {},
   "outputs": [
    {
     "data": {
      "text/html": [
       "<div>\n",
       "<style scoped>\n",
       "    .dataframe tbody tr th:only-of-type {\n",
       "        vertical-align: middle;\n",
       "    }\n",
       "\n",
       "    .dataframe tbody tr th {\n",
       "        vertical-align: top;\n",
       "    }\n",
       "\n",
       "    .dataframe thead th {\n",
       "        text-align: right;\n",
       "    }\n",
       "</style>\n",
       "<table border=\"1\" class=\"dataframe\">\n",
       "  <thead>\n",
       "    <tr style=\"text-align: right;\">\n",
       "      <th></th>\n",
       "      <th>icustay_id</th>\n",
       "      <th>t_0</th>\n",
       "      <th>delta</th>\n",
       "      <th>value</th>\n",
       "      <th>label</th>\n",
       "      <th>uom</th>\n",
       "      <th>source</th>\n",
       "      <th>subject_id</th>\n",
       "      <th>median</th>\n",
       "      <th>iqr</th>\n",
       "      <th>raw_value</th>\n",
       "      <th>standardize</th>\n",
       "    </tr>\n",
       "  </thead>\n",
       "  <tbody>\n",
       "    <tr>\n",
       "      <th>0</th>\n",
       "      <td>200012.0</td>\n",
       "      <td>2153-12-23</td>\n",
       "      <td>0 days 00:00:00.000000000</td>\n",
       "      <td>0.693147</td>\n",
       "      <td>daily_sofa</td>\n",
       "      <td>daily_sofa_score</td>\n",
       "      <td>sofa</td>\n",
       "      <td>28448</td>\n",
       "      <td>1.38629</td>\n",
       "      <td>1.60944</td>\n",
       "      <td>1</td>\n",
       "      <td>-0.430677</td>\n",
       "    </tr>\n",
       "    <tr>\n",
       "      <th>1</th>\n",
       "      <td>200012.0</td>\n",
       "      <td>2153-12-23</td>\n",
       "      <td>0 days 00:00:00.000000000</td>\n",
       "      <td>0</td>\n",
       "      <td>sum_elix</td>\n",
       "      <td>elixhauser_comorb_sum</td>\n",
       "      <td>sum_elix</td>\n",
       "      <td>28448</td>\n",
       "      <td>0</td>\n",
       "      <td>1.38629</td>\n",
       "      <td>0</td>\n",
       "      <td>0</td>\n",
       "    </tr>\n",
       "    <tr>\n",
       "      <th>2</th>\n",
       "      <td>200012.0</td>\n",
       "      <td>2153-12-23</td>\n",
       "      <td>0 days 02:36:00.000000000</td>\n",
       "      <td>0.832909</td>\n",
       "      <td>lactate</td>\n",
       "      <td>mmol/L</td>\n",
       "      <td>labs</td>\n",
       "      <td>28448</td>\n",
       "      <td>0.993252</td>\n",
       "      <td>0.875469</td>\n",
       "      <td>1.3</td>\n",
       "      <td>-0.183151</td>\n",
       "    </tr>\n",
       "    <tr>\n",
       "      <th>3</th>\n",
       "      <td>200012.0</td>\n",
       "      <td>2153-12-23</td>\n",
       "      <td>0 days 05:12:00.000000000</td>\n",
       "      <td>2.77259</td>\n",
       "      <td>mingcs</td>\n",
       "      <td>gcs_score</td>\n",
       "      <td>gcs</td>\n",
       "      <td>28448</td>\n",
       "      <td>2.70805</td>\n",
       "      <td>1.09861</td>\n",
       "      <td>15</td>\n",
       "      <td>0.0587455</td>\n",
       "    </tr>\n",
       "    <tr>\n",
       "      <th>4</th>\n",
       "      <td>200012.0</td>\n",
       "      <td>2153-12-23</td>\n",
       "      <td>0 days 06:16:00.000000000</td>\n",
       "      <td>4.38203</td>\n",
       "      <td>diasbp</td>\n",
       "      <td>mmHg</td>\n",
       "      <td>vitals</td>\n",
       "      <td>28448</td>\n",
       "      <td>4.09434</td>\n",
       "      <td>2.94444</td>\n",
       "      <td>79</td>\n",
       "      <td>0.0977035</td>\n",
       "    </tr>\n",
       "  </tbody>\n",
       "</table>\n",
       "</div>"
      ],
      "text/plain": [
       "   icustay_id         t_0                      delta     value       label  \\\n",
       "0    200012.0  2153-12-23  0 days 00:00:00.000000000  0.693147  daily_sofa   \n",
       "1    200012.0  2153-12-23  0 days 00:00:00.000000000         0    sum_elix   \n",
       "2    200012.0  2153-12-23  0 days 02:36:00.000000000  0.832909     lactate   \n",
       "3    200012.0  2153-12-23  0 days 05:12:00.000000000   2.77259      mingcs   \n",
       "4    200012.0  2153-12-23  0 days 06:16:00.000000000   4.38203      diasbp   \n",
       "\n",
       "                     uom    source  subject_id    median       iqr raw_value  \\\n",
       "0       daily_sofa_score      sofa       28448   1.38629   1.60944         1   \n",
       "1  elixhauser_comorb_sum  sum_elix       28448         0   1.38629         0   \n",
       "2                 mmol/L      labs       28448  0.993252  0.875469       1.3   \n",
       "3              gcs_score       gcs       28448   2.70805   1.09861        15   \n",
       "4                   mmHg    vitals       28448   4.09434   2.94444        79   \n",
       "\n",
       "  standardize  \n",
       "0   -0.430677  \n",
       "1           0  \n",
       "2   -0.183151  \n",
       "3   0.0587455  \n",
       "4   0.0977035  "
      ]
     },
     "execution_count": 40,
     "metadata": {},
     "output_type": "execute_result"
    },
    {
     "name": "stdout",
     "output_type": "stream",
     "text": [
      "time: 6.98 s\n"
     ]
    }
   ],
   "source": [
    "big_noCat['standardize']=((big_noCat['value']-big_noCat['median'])/big_noCat['iqr']).fillna(0) #standardize is log standardized\n",
    "\n",
    "#making an ordinal df to concat on\n",
    "ord_df=big_df.loc[big_df.loc[:,'label'].isin(ordinal+vaso_active),:].copy()\n",
    "ord_df['raw_value']=ord_df['value']\n",
    "ord_df['standardize']=ord_df['value']\n",
    "ord_df['median']=None\n",
    "ord_df['iqr']=None\n",
    "\n",
    "big_noCat=pd.concat([big_noCat,ord_df], sort=False)\n",
    "del(ord_df)\n",
    "\n",
    "#making all ordinal values in standardize equal to unstandardized\n",
    "big_noCat.loc[big_noCat['label'].isin(ordinal+vaso_active),'standardize']=big_noCat.loc[big_noCat['label'].isin(ordinal+vaso_active),'value']  #do i need to add sparse?\n",
    "big_noCat.head()"
   ]
  },
  {
   "cell_type": "code",
   "execution_count": 41,
   "metadata": {},
   "outputs": [
    {
     "name": "stdout",
     "output_type": "stream",
     "text": [
      "time: 25 s\n"
     ]
    }
   ],
   "source": [
    "big_noCat['standardize']= big_noCat['standardize'].apply(pd.to_numeric, args=('coerce',)) #errors occuring downstream due to not having numeric, trying this 4/18/19"
   ]
  },
  {
   "cell_type": "markdown",
   "metadata": {},
   "source": [
    "# aggregation1:\n",
    "### clincally guided min/max"
   ]
  },
  {
   "cell_type": "code",
   "execution_count": 42,
   "metadata": {},
   "outputs": [
    {
     "name": "stdout",
     "output_type": "stream",
     "text": [
      "time: 645 µs\n"
     ]
    }
   ],
   "source": [
    "#big_noCat[big_noCat['label']=='pao2fio2Ratio']['icustay_id'].value_counts().max() #good each person has 1 pao2fio2"
   ]
  },
  {
   "cell_type": "code",
   "execution_count": 43,
   "metadata": {},
   "outputs": [
    {
     "name": "stdout",
     "output_type": "stream",
     "text": [
      "time: 11.8 ms\n"
     ]
    }
   ],
   "source": [
    "hi_value= ['bands',\n",
    "'bilirubin',\n",
    "'bun',\n",
    "'chloride',\n",
    "'creatinine',\n",
    "'daily_sofa',\n",
    "'glucose',\n",
    "'heartrate',\n",
    "'inr',\n",
    "'lactate',\n",
    "'pco2',\n",
    "'potassium',\n",
    "'ptt',\n",
    "'resprate',\n",
    "'temperature',\n",
    "'weight', 'rrt', \n",
    "'phenylephrine', 'norepinephrine', 'vasopressin', 'dobutamine', 'dopamine', 'epinephrine',  #added this and removed individual vasoactive 5/3/19\n",
    "'first_admit_age','leukocyte','nitrite','vent_recieved','o2_flow', \n",
    "'any_vasoactive', #added this and removed individual vasoactive 5/3/19\n",
    "'sum_elix', #added 6/4/19\n",
    "'cancer_elix'  ]#added 6/4/19\n",
    "\n",
    "low_value=['bicarbonate',\n",
    "'diasbp',\n",
    "'hemoglobin',\n",
    "'meanartpress',\n",
    "'mingcs',\n",
    "'ph',\n",
    "'platelet',\n",
    "'spo2',\n",
    "'sysbp']\n",
    "\n",
    "both_value=['calcium',\n",
    "'sodium',\n",
    "'wbc']\n",
    "\n",
    "#important_ordinal=[\"any_vasoactive\"]\n",
    "important_onetime=['first_admit_age','weight','pao2fio2Ratio']\n"
   ]
  },
  {
   "cell_type": "code",
   "execution_count": 44,
   "metadata": {},
   "outputs": [
    {
     "name": "stderr",
     "output_type": "stream",
     "text": [
      "/Users/geickelb1/anaconda/envs/rpy-env/lib/python3.6/site-packages/ipykernel_launcher.py:9: FutureWarning: Passing integers to fillna is deprecated, will raise a TypeError in a future version.  To retain the old behavior, pass pd.Timedelta(seconds=n) instead.\n",
      "  if __name__ == '__main__':\n"
     ]
    },
    {
     "name": "stdout",
     "output_type": "stream",
     "text": [
      "time: 4.33 s\n"
     ]
    }
   ],
   "source": [
    "##combining vasoactives\n",
    "vaso_active_df=big_noCat[big_noCat['label'].isin(vaso_active)].groupby('icustay_id')['value'].max().reset_index()\n",
    "vaso_active_df['uom']=\"y/n\"\n",
    "vaso_active_df['label']=\"any_vasoactive\"\n",
    "vaso_active_df['delta']=pd.to_timedelta(\"0days\")\n",
    "vaso_active_df['source']=\"all_vasoactives\"\n",
    "\n",
    "vaso_active_df=pd.merge(vaso_active_df, final_pt_df2[[\"icustay_id\",'subject_id',\"t_0\"]], how=\"left\", left_on=\"icustay_id\", right_on=\"icustay_id\")\n",
    "vaso_active_df=pd.merge(vaso_active_df, median_label, how=\"left\").fillna(0)\n",
    "vaso_active_df['standardize']=vaso_active_df['value']\n",
    "vaso_active_df['raw_value']=vaso_active_df['value']\n",
    "vaso_active_df.head()\n",
    "\n",
    "# # #grabing the rest of the variables not suitable for range or mean/std\n",
    "big_noCat=pd.concat([big_noCat, vaso_active_df], sort=False)"
   ]
  },
  {
   "cell_type": "code",
   "execution_count": 45,
   "metadata": {},
   "outputs": [
    {
     "name": "stdout",
     "output_type": "stream",
     "text": [
      "time: 7.49 ms\n"
     ]
    }
   ],
   "source": [
    "# #lambda x: x if not np.isnan(x) else -1\n",
    "\n",
    "# dict1={str(x):max for x in hi_value}\n",
    "# dict2={str(x):min for x in low_value } #dict2={str(x):min for x in low_value }\n",
    "# dict3={str(x):[max,min] for x in both_value }\n",
    "\n",
    "\n",
    "# def merge_two_dicts(x, y):\n",
    "#     z = x.copy()   # start with x's keys and values\n",
    "#     z.update(y)    # modifies z with y's keys and values & returns None\n",
    "#     return z\n",
    "\n",
    "# dict1 = merge_two_dicts(dict1, dict2)\n",
    "# dict1 = merge_two_dicts(dict1, dict3)"
   ]
  },
  {
   "cell_type": "markdown",
   "metadata": {},
   "source": [
    "### running the min/max aggregations.\n",
    "\n"
   ]
  },
  {
   "cell_type": "code",
   "execution_count": 46,
   "metadata": {},
   "outputs": [
    {
     "name": "stdout",
     "output_type": "stream",
     "text": [
      "time: 629 µs\n"
     ]
    }
   ],
   "source": [
    "##choose here if wanna use standardization or raw values.\n",
    "values=\"standardize\""
   ]
  },
  {
   "cell_type": "code",
   "execution_count": 47,
   "metadata": {},
   "outputs": [
    {
     "data": {
      "text/plain": [
       "array(['daily_sofa', 'sum_elix', 'lactate', 'mingcs', 'diasbp',\n",
       "       'heartrate', 'meanartpress', 'resprate', 'spo2', 'sysbp',\n",
       "       'temperature', 'bands', 'hemoglobin', 'platelet', 'wbc', 'calcium',\n",
       "       'glucose', 'pco2', 'ph', 'bicarbonate', 'bun', 'chloride',\n",
       "       'creatinine', 'inr', 'potassium', 'ptt', 'sodium', 'bilirubin',\n",
       "       'cancer_elix', 'dobutamine', 'dopamine', 'epinephrine',\n",
       "       'norepinephrine', 'o2_flow', 'pao2fio2Ratio', 'phenylephrine',\n",
       "       'rrt', 'vasopressin', 'vent_recieved', 'leukocyte', 'nitrite',\n",
       "       'any_vasoactive'], dtype=object)"
      ]
     },
     "execution_count": 47,
     "metadata": {},
     "output_type": "execute_result"
    },
    {
     "name": "stdout",
     "output_type": "stream",
     "text": [
      "time: 271 ms\n"
     ]
    }
   ],
   "source": [
    "big_noCat.loc[:,'label'].unique()"
   ]
  },
  {
   "cell_type": "code",
   "execution_count": 48,
   "metadata": {},
   "outputs": [
    {
     "name": "stdout",
     "output_type": "stream",
     "text": [
      "time: 1min 26s\n"
     ]
    }
   ],
   "source": [
    "big_max= big_noCat.loc[big_noCat.loc[:,'label'].isin(hi_value),:]\n",
    "table = pd.pivot_table(big_max, values=values, columns='label', index=['icustay_id'],aggfunc=max, dropna=False)"
   ]
  },
  {
   "cell_type": "code",
   "execution_count": 49,
   "metadata": {},
   "outputs": [
    {
     "data": {
      "text/plain": [
       "array(['daily_sofa', 'sum_elix', 'lactate', 'heartrate', 'resprate',\n",
       "       'temperature', 'bands', 'glucose', 'pco2', 'bun', 'chloride',\n",
       "       'creatinine', 'inr', 'potassium', 'ptt', 'bilirubin',\n",
       "       'cancer_elix', 'dobutamine', 'dopamine', 'epinephrine',\n",
       "       'norepinephrine', 'o2_flow', 'phenylephrine', 'rrt', 'vasopressin',\n",
       "       'vent_recieved', 'leukocyte', 'nitrite', 'any_vasoactive'],\n",
       "      dtype=object)"
      ]
     },
     "execution_count": 49,
     "metadata": {},
     "output_type": "execute_result"
    },
    {
     "name": "stdout",
     "output_type": "stream",
     "text": [
      "time: 106 ms\n"
     ]
    }
   ],
   "source": [
    "big_max.loc[:,'label'].unique()"
   ]
  },
  {
   "cell_type": "code",
   "execution_count": 50,
   "metadata": {},
   "outputs": [
    {
     "data": {
      "text/plain": [
       "count     14181\n",
       "unique        2\n",
       "top           0\n",
       "freq      12288\n",
       "Name: value, dtype: int64"
      ]
     },
     "execution_count": 50,
     "metadata": {},
     "output_type": "execute_result"
    },
    {
     "name": "stdout",
     "output_type": "stream",
     "text": [
      "time: 124 ms\n"
     ]
    }
   ],
   "source": [
    "big_max[big_max['label']=='leukocyte']['value'].describe() #good the categorical stuff worked"
   ]
  },
  {
   "cell_type": "code",
   "execution_count": 51,
   "metadata": {},
   "outputs": [
    {
     "name": "stdout",
     "output_type": "stream",
     "text": [
      "time: 28.8 s\n"
     ]
    }
   ],
   "source": [
    "big_min= big_noCat.loc[big_noCat.loc[:,'label'].isin(low_value),:]\n",
    "table2 = pd.pivot_table(big_min, values=values, columns='label', index=['icustay_id'],aggfunc=min, dropna=False)"
   ]
  },
  {
   "cell_type": "code",
   "execution_count": null,
   "metadata": {},
   "outputs": [],
   "source": []
  },
  {
   "cell_type": "markdown",
   "metadata": {},
   "source": [
    "# qc why pao2fiotRatio isn't working"
   ]
  },
  {
   "cell_type": "code",
   "execution_count": 52,
   "metadata": {},
   "outputs": [
    {
     "data": {
      "text/plain": [
       "array(['daily_sofa', 'sum_elix', 'lactate', 'mingcs', 'diasbp',\n",
       "       'heartrate', 'meanartpress', 'resprate', 'spo2', 'sysbp',\n",
       "       'temperature', 'bands', 'hemoglobin', 'platelet', 'wbc', 'calcium',\n",
       "       'glucose', 'pco2', 'ph', 'bicarbonate', 'bun', 'chloride',\n",
       "       'creatinine', 'inr', 'potassium', 'ptt', 'sodium', 'bilirubin',\n",
       "       'cancer_elix', 'dobutamine', 'dopamine', 'epinephrine',\n",
       "       'norepinephrine', 'o2_flow', 'pao2fio2Ratio', 'phenylephrine',\n",
       "       'rrt', 'vasopressin', 'vent_recieved', 'leukocyte', 'nitrite',\n",
       "       'any_vasoactive'], dtype=object)"
      ]
     },
     "execution_count": 52,
     "metadata": {},
     "output_type": "execute_result"
    },
    {
     "name": "stdout",
     "output_type": "stream",
     "text": [
      "time: 542 ms\n"
     ]
    }
   ],
   "source": [
    "big_noCat['label'].unique()"
   ]
  },
  {
   "cell_type": "code",
   "execution_count": 53,
   "metadata": {},
   "outputs": [
    {
     "data": {
      "text/html": [
       "<div>\n",
       "<style scoped>\n",
       "    .dataframe tbody tr th:only-of-type {\n",
       "        vertical-align: middle;\n",
       "    }\n",
       "\n",
       "    .dataframe tbody tr th {\n",
       "        vertical-align: top;\n",
       "    }\n",
       "\n",
       "    .dataframe thead th {\n",
       "        text-align: right;\n",
       "    }\n",
       "</style>\n",
       "<table border=\"1\" class=\"dataframe\">\n",
       "  <thead>\n",
       "    <tr style=\"text-align: right;\">\n",
       "      <th>label</th>\n",
       "      <th>bicarbonate</th>\n",
       "      <th>diasbp</th>\n",
       "      <th>hemoglobin</th>\n",
       "      <th>meanartpress</th>\n",
       "      <th>mingcs</th>\n",
       "      <th>ph</th>\n",
       "      <th>platelet</th>\n",
       "      <th>spo2</th>\n",
       "      <th>sysbp</th>\n",
       "    </tr>\n",
       "    <tr>\n",
       "      <th>icustay_id</th>\n",
       "      <th></th>\n",
       "      <th></th>\n",
       "      <th></th>\n",
       "      <th></th>\n",
       "      <th></th>\n",
       "      <th></th>\n",
       "      <th></th>\n",
       "      <th></th>\n",
       "      <th></th>\n",
       "    </tr>\n",
       "  </thead>\n",
       "  <tbody>\n",
       "    <tr>\n",
       "      <th>200012.0</th>\n",
       "      <td>NaN</td>\n",
       "      <td>0.000000</td>\n",
       "      <td>0.007033</td>\n",
       "      <td>-0.026646</td>\n",
       "      <td>0.058745</td>\n",
       "      <td>NaN</td>\n",
       "      <td>-0.076758</td>\n",
       "      <td>-0.012811</td>\n",
       "      <td>-0.059536</td>\n",
       "    </tr>\n",
       "    <tr>\n",
       "      <th>200014.0</th>\n",
       "      <td>-0.020978</td>\n",
       "      <td>-0.105336</td>\n",
       "      <td>0.000000</td>\n",
       "      <td>-0.122684</td>\n",
       "      <td>-0.062800</td>\n",
       "      <td>-0.027694</td>\n",
       "      <td>-0.103698</td>\n",
       "      <td>-0.012811</td>\n",
       "      <td>-0.146579</td>\n",
       "    </tr>\n",
       "    <tr>\n",
       "      <th>200019.0</th>\n",
       "      <td>-0.065693</td>\n",
       "      <td>-0.271192</td>\n",
       "      <td>0.034561</td>\n",
       "      <td>-0.199091</td>\n",
       "      <td>-0.693730</td>\n",
       "      <td>-0.013839</td>\n",
       "      <td>-0.066001</td>\n",
       "      <td>-0.274526</td>\n",
       "      <td>-0.142544</td>\n",
       "    </tr>\n",
       "    <tr>\n",
       "      <th>200030.0</th>\n",
       "      <td>-0.141033</td>\n",
       "      <td>-0.011514</td>\n",
       "      <td>-0.089616</td>\n",
       "      <td>0.004238</td>\n",
       "      <td>NaN</td>\n",
       "      <td>0.027628</td>\n",
       "      <td>-0.024160</td>\n",
       "      <td>-0.025893</td>\n",
       "      <td>-0.009951</td>\n",
       "    </tr>\n",
       "    <tr>\n",
       "      <th>200033.0</th>\n",
       "      <td>-0.065693</td>\n",
       "      <td>-0.023432</td>\n",
       "      <td>0.067688</td>\n",
       "      <td>0.004238</td>\n",
       "      <td>NaN</td>\n",
       "      <td>0.110121</td>\n",
       "      <td>-0.109168</td>\n",
       "      <td>0.000000</td>\n",
       "      <td>-0.047757</td>\n",
       "    </tr>\n",
       "  </tbody>\n",
       "</table>\n",
       "</div>"
      ],
      "text/plain": [
       "label       bicarbonate    diasbp  hemoglobin  meanartpress    mingcs  \\\n",
       "icustay_id                                                              \n",
       "200012.0            NaN  0.000000    0.007033     -0.026646  0.058745   \n",
       "200014.0      -0.020978 -0.105336    0.000000     -0.122684 -0.062800   \n",
       "200019.0      -0.065693 -0.271192    0.034561     -0.199091 -0.693730   \n",
       "200030.0      -0.141033 -0.011514   -0.089616      0.004238       NaN   \n",
       "200033.0      -0.065693 -0.023432    0.067688      0.004238       NaN   \n",
       "\n",
       "label             ph  platelet      spo2     sysbp  \n",
       "icustay_id                                          \n",
       "200012.0         NaN -0.076758 -0.012811 -0.059536  \n",
       "200014.0   -0.027694 -0.103698 -0.012811 -0.146579  \n",
       "200019.0   -0.013839 -0.066001 -0.274526 -0.142544  \n",
       "200030.0    0.027628 -0.024160 -0.025893 -0.009951  \n",
       "200033.0    0.110121 -0.109168  0.000000 -0.047757  "
      ]
     },
     "execution_count": 53,
     "metadata": {},
     "output_type": "execute_result"
    },
    {
     "name": "stdout",
     "output_type": "stream",
     "text": [
      "time: 29.8 ms\n"
     ]
    }
   ],
   "source": [
    "table2.head() #ok pao2fio2Ratio isn't working."
   ]
  },
  {
   "cell_type": "code",
   "execution_count": 54,
   "metadata": {},
   "outputs": [
    {
     "data": {
      "text/plain": [
       "array(['daily_sofa', 'sum_elix', 'lactate', 'mingcs', 'diasbp',\n",
       "       'heartrate', 'meanartpress', 'resprate', 'spo2', 'sysbp',\n",
       "       'temperature', 'bands', 'hemoglobin', 'platelet', 'wbc', 'calcium',\n",
       "       'glucose', 'pco2', 'ph', 'bicarbonate', 'bun', 'chloride',\n",
       "       'creatinine', 'inr', 'potassium', 'ptt', 'sodium', 'bilirubin',\n",
       "       'cancer_elix', 'dobutamine', 'dopamine', 'epinephrine',\n",
       "       'norepinephrine', 'o2_flow', 'pao2fio2Ratio', 'phenylephrine',\n",
       "       'rrt', 'vasopressin', 'vent_recieved', 'leukocyte', 'nitrite',\n",
       "       'any_vasoactive'], dtype=object)"
      ]
     },
     "execution_count": 54,
     "metadata": {},
     "output_type": "execute_result"
    },
    {
     "name": "stdout",
     "output_type": "stream",
     "text": [
      "time: 299 ms\n"
     ]
    }
   ],
   "source": [
    "big_noCat['label'].unique()"
   ]
  },
  {
   "cell_type": "code",
   "execution_count": 55,
   "metadata": {},
   "outputs": [
    {
     "name": "stdout",
     "output_type": "stream",
     "text": [
      "time: 18.5 s\n"
     ]
    }
   ],
   "source": [
    "big_both= big_noCat.loc[big_noCat.loc[:,'label'].isin(both_value),:]\n",
    "table3 = pd.pivot_table(big_both, values=values, columns='label', index=['icustay_id'],aggfunc=[max,min], dropna=False)"
   ]
  },
  {
   "cell_type": "code",
   "execution_count": 56,
   "metadata": {},
   "outputs": [
    {
     "name": "stdout",
     "output_type": "stream",
     "text": [
      "14181 14181 14129\n",
      "time: 11.4 ms\n"
     ]
    }
   ],
   "source": [
    "print(len(table),len(table2),len(table3)) #14668 14668 14618"
   ]
  },
  {
   "cell_type": "code",
   "execution_count": 57,
   "metadata": {},
   "outputs": [
    {
     "name": "stderr",
     "output_type": "stream",
     "text": [
      "/Users/geickelb1/anaconda/envs/rpy-env/lib/python3.6/site-packages/pandas/core/reshape/merge.py:522: UserWarning: merging between different levels can give an unintended result (1 levels on the left, 2 on the right)\n",
      "  warnings.warn(msg, UserWarning)\n",
      "/Users/geickelb1/anaconda/envs/rpy-env/lib/python3.6/site-packages/pandas/core/generic.py:3812: PerformanceWarning: dropping on a non-lexsorted multi-index without a level parameter may impact performance.\n",
      "  new_axis = axis.drop(labels, errors=errors)\n"
     ]
    },
    {
     "data": {
      "text/html": [
       "<div>\n",
       "<style scoped>\n",
       "    .dataframe tbody tr th:only-of-type {\n",
       "        vertical-align: middle;\n",
       "    }\n",
       "\n",
       "    .dataframe tbody tr th {\n",
       "        vertical-align: top;\n",
       "    }\n",
       "\n",
       "    .dataframe thead th {\n",
       "        text-align: right;\n",
       "    }\n",
       "</style>\n",
       "<table border=\"1\" class=\"dataframe\">\n",
       "  <thead>\n",
       "    <tr style=\"text-align: right;\">\n",
       "      <th></th>\n",
       "      <th>icustay_id</th>\n",
       "      <th>any_vasoactive</th>\n",
       "      <th>bands</th>\n",
       "      <th>bilirubin</th>\n",
       "      <th>bun</th>\n",
       "      <th>cancer_elix</th>\n",
       "      <th>chloride</th>\n",
       "      <th>creatinine</th>\n",
       "      <th>daily_sofa</th>\n",
       "      <th>dobutamine</th>\n",
       "      <th>...</th>\n",
       "      <th>ph</th>\n",
       "      <th>platelet</th>\n",
       "      <th>spo2</th>\n",
       "      <th>sysbp</th>\n",
       "      <th>(max, calcium)</th>\n",
       "      <th>(max, sodium)</th>\n",
       "      <th>(max, wbc)</th>\n",
       "      <th>(min, calcium)</th>\n",
       "      <th>(min, sodium)</th>\n",
       "      <th>(min, wbc)</th>\n",
       "    </tr>\n",
       "  </thead>\n",
       "  <tbody>\n",
       "    <tr>\n",
       "      <th>0</th>\n",
       "      <td>200012.0</td>\n",
       "      <td>0.0</td>\n",
       "      <td>0.30103</td>\n",
       "      <td>NaN</td>\n",
       "      <td>NaN</td>\n",
       "      <td>0</td>\n",
       "      <td>NaN</td>\n",
       "      <td>NaN</td>\n",
       "      <td>-0.430677</td>\n",
       "      <td>0</td>\n",
       "      <td>...</td>\n",
       "      <td>NaN</td>\n",
       "      <td>-0.076758</td>\n",
       "      <td>-0.012811</td>\n",
       "      <td>-0.059536</td>\n",
       "      <td>NaN</td>\n",
       "      <td>NaN</td>\n",
       "      <td>-0.309615</td>\n",
       "      <td>NaN</td>\n",
       "      <td>NaN</td>\n",
       "      <td>-0.309615</td>\n",
       "    </tr>\n",
       "    <tr>\n",
       "      <th>1</th>\n",
       "      <td>200014.0</td>\n",
       "      <td>0.0</td>\n",
       "      <td>NaN</td>\n",
       "      <td>NaN</td>\n",
       "      <td>0.0407698</td>\n",
       "      <td>0</td>\n",
       "      <td>0.0370891</td>\n",
       "      <td>-0.234465</td>\n",
       "      <td>-0.178747</td>\n",
       "      <td>0</td>\n",
       "      <td>...</td>\n",
       "      <td>-0.027694</td>\n",
       "      <td>-0.103698</td>\n",
       "      <td>-0.012811</td>\n",
       "      <td>-0.146579</td>\n",
       "      <td>0.437620</td>\n",
       "      <td>0.015834</td>\n",
       "      <td>0.157214</td>\n",
       "      <td>-0.044882</td>\n",
       "      <td>0.000000</td>\n",
       "      <td>0.025790</td>\n",
       "    </tr>\n",
       "    <tr>\n",
       "      <th>2</th>\n",
       "      <td>200019.0</td>\n",
       "      <td>0.0</td>\n",
       "      <td>NaN</td>\n",
       "      <td>NaN</td>\n",
       "      <td>0.0407698</td>\n",
       "      <td>0</td>\n",
       "      <td>0.0168582</td>\n",
       "      <td>0</td>\n",
       "      <td>0.347709</td>\n",
       "      <td>0</td>\n",
       "      <td>...</td>\n",
       "      <td>-0.013839</td>\n",
       "      <td>-0.066001</td>\n",
       "      <td>-0.274526</td>\n",
       "      <td>-0.142544</td>\n",
       "      <td>NaN</td>\n",
       "      <td>0.007973</td>\n",
       "      <td>0.130904</td>\n",
       "      <td>NaN</td>\n",
       "      <td>0.007973</td>\n",
       "      <td>0.106663</td>\n",
       "    </tr>\n",
       "    <tr>\n",
       "      <th>3</th>\n",
       "      <td>200030.0</td>\n",
       "      <td>1.0</td>\n",
       "      <td>NaN</td>\n",
       "      <td>NaN</td>\n",
       "      <td>0.0881052</td>\n",
       "      <td>0</td>\n",
       "      <td>0.0250588</td>\n",
       "      <td>0</td>\n",
       "      <td>0.138647</td>\n",
       "      <td>1</td>\n",
       "      <td>...</td>\n",
       "      <td>0.027628</td>\n",
       "      <td>-0.024160</td>\n",
       "      <td>-0.025893</td>\n",
       "      <td>-0.009951</td>\n",
       "      <td>0.044672</td>\n",
       "      <td>0.011917</td>\n",
       "      <td>0.144235</td>\n",
       "      <td>0.044672</td>\n",
       "      <td>0.007973</td>\n",
       "      <td>0.110201</td>\n",
       "    </tr>\n",
       "    <tr>\n",
       "      <th>4</th>\n",
       "      <td>200033.0</td>\n",
       "      <td>1.0</td>\n",
       "      <td>NaN</td>\n",
       "      <td>NaN</td>\n",
       "      <td>-0.0822292</td>\n",
       "      <td>1</td>\n",
       "      <td>0.00850716</td>\n",
       "      <td>-0.234465</td>\n",
       "      <td>-0.430677</td>\n",
       "      <td>0</td>\n",
       "      <td>...</td>\n",
       "      <td>0.110121</td>\n",
       "      <td>-0.109168</td>\n",
       "      <td>0.000000</td>\n",
       "      <td>-0.047757</td>\n",
       "      <td>-0.365081</td>\n",
       "      <td>0.007973</td>\n",
       "      <td>-0.179170</td>\n",
       "      <td>-0.505654</td>\n",
       "      <td>-0.020446</td>\n",
       "      <td>-0.212061</td>\n",
       "    </tr>\n",
       "  </tbody>\n",
       "</table>\n",
       "<p>5 rows × 45 columns</p>\n",
       "</div>"
      ],
      "text/plain": [
       "   icustay_id any_vasoactive    bands bilirubin        bun cancer_elix  \\\n",
       "0    200012.0            0.0  0.30103       NaN        NaN           0   \n",
       "1    200014.0            0.0      NaN       NaN  0.0407698           0   \n",
       "2    200019.0            0.0      NaN       NaN  0.0407698           0   \n",
       "3    200030.0            1.0      NaN       NaN  0.0881052           0   \n",
       "4    200033.0            1.0      NaN       NaN -0.0822292           1   \n",
       "\n",
       "     chloride creatinine daily_sofa dobutamine  ...        ph  platelet  \\\n",
       "0         NaN        NaN  -0.430677          0  ...       NaN -0.076758   \n",
       "1   0.0370891  -0.234465  -0.178747          0  ... -0.027694 -0.103698   \n",
       "2   0.0168582          0   0.347709          0  ... -0.013839 -0.066001   \n",
       "3   0.0250588          0   0.138647          1  ...  0.027628 -0.024160   \n",
       "4  0.00850716  -0.234465  -0.430677          0  ...  0.110121 -0.109168   \n",
       "\n",
       "       spo2     sysbp (max, calcium) (max, sodium) (max, wbc) (min, calcium)  \\\n",
       "0 -0.012811 -0.059536            NaN           NaN  -0.309615            NaN   \n",
       "1 -0.012811 -0.146579       0.437620      0.015834   0.157214      -0.044882   \n",
       "2 -0.274526 -0.142544            NaN      0.007973   0.130904            NaN   \n",
       "3 -0.025893 -0.009951       0.044672      0.011917   0.144235       0.044672   \n",
       "4  0.000000 -0.047757      -0.365081      0.007973  -0.179170      -0.505654   \n",
       "\n",
       "  (min, sodium) (min, wbc)  \n",
       "0           NaN  -0.309615  \n",
       "1      0.000000   0.025790  \n",
       "2      0.007973   0.106663  \n",
       "3      0.007973   0.110201  \n",
       "4     -0.020446  -0.212061  \n",
       "\n",
       "[5 rows x 45 columns]"
      ]
     },
     "execution_count": 57,
     "metadata": {},
     "output_type": "execute_result"
    },
    {
     "name": "stdout",
     "output_type": "stream",
     "text": [
      "time: 234 ms\n"
     ]
    }
   ],
   "source": [
    "#first left join all different aggregations together. \n",
    "worst_df=pd.merge(table.reset_index(), table2.reset_index(), how='left')\n",
    "worst_df=pd.merge(worst_df, table3.reset_index(), left_on='icustay_id', right_on='icustay_id',how='left')\n",
    "worst_df.head()"
   ]
  },
  {
   "cell_type": "code",
   "execution_count": 58,
   "metadata": {},
   "outputs": [
    {
     "name": "stdout",
     "output_type": "stream",
     "text": [
      "time: 38.9 ms\n"
     ]
    }
   ],
   "source": [
    "### formatting categorical to wide format to match the tables/worst_df\n",
    "#big_categorical= big_df.loc[big_df.loc[:,'label'].isin(categorical),:].copy()\n",
    "big_categorical= big_categorical.pivot(\n",
    "    index='icustay_id',\n",
    "    values='value',\n",
    "    columns='label').reset_index() #need to convert to wide format. should be one row per patient per time. "
   ]
  },
  {
   "cell_type": "code",
   "execution_count": 59,
   "metadata": {},
   "outputs": [
    {
     "name": "stdout",
     "output_type": "stream",
     "text": [
      "time: 30.3 ms\n"
     ]
    }
   ],
   "source": [
    "def merge_cat_agg(num_df, cat_df, twoclass=False):\n",
    "    \"\"\"\n",
    "    merges the categorical and aggregated dataframes together. if twoclass=True (default=False), returns just the truepos trueneg twoclass patients.\n",
    "    \"\"\"\n",
    "    \n",
    "    worst_df=pd.merge(num_df, cat_df, left_on='icustay_id', right_on='icustay_id',how='left')\n",
    "#     worst_df['leukocyte']=worst_df['leukocyte'].astype(\"category\")\n",
    "#     worst_df['nitrite']=worst_df['nitrite'].astype(\"category\")\n",
    "#     worst_df['vent_recieved']=worst_df['vent_recieved'].astype(\"category\")\n",
    "    worst_df['ethnicity']=worst_df['ethnicity'].astype(\"category\")\n",
    "    worst_df['gender']=worst_df['gender'].astype(\"category\")\n",
    "    \n",
    "    baselinePts= final_pt_df2.loc[final_pt_df2.loc[:,'final_bin'].isin([\"C_pos/A_full\",\"C_neg/A_partial\"]),\"icustay_id\"]\n",
    "    \n",
    "    if twoclass==True:\n",
    "        worst_df= worst_df.loc[worst_df.loc[:,'icustay_id'].isin(baselinePts),:]\n",
    "    return(worst_df)\n"
   ]
  },
  {
   "cell_type": "code",
   "execution_count": null,
   "metadata": {},
   "outputs": [],
   "source": []
  },
  {
   "cell_type": "code",
   "execution_count": 60,
   "metadata": {},
   "outputs": [
    {
     "name": "stdout",
     "output_type": "stream",
     "text": [
      "time: 52.6 ms\n"
     ]
    }
   ],
   "source": [
    "worst_df=merge_cat_agg(worst_df, big_categorical, twoclass=False) #using max/min aggregates \n"
   ]
  },
  {
   "cell_type": "code",
   "execution_count": 61,
   "metadata": {},
   "outputs": [
    {
     "name": "stdout",
     "output_type": "stream",
     "text": [
      "time: 13.3 s\n"
     ]
    }
   ],
   "source": [
    "#adding important one_times to final aggregated\n",
    "agg_remaining= big_df.loc[big_df.loc[:,'label'].isin(important_onetime),:]\n",
    "agg_table2 = pd.pivot_table(agg_remaining, values='value', columns='label', index=['icustay_id'],aggfunc=[max], dropna=False) \n",
    "agg_table2.columns = agg_table2.columns.get_level_values(1)\n",
    "agg_table2=agg_table2.reset_index()\n",
    "agg_table2.head()#.rename(columns={})\n",
    "\n",
    "worst_df=pd.merge(worst_df, agg_table2, how='left')"
   ]
  },
  {
   "cell_type": "code",
   "execution_count": 62,
   "metadata": {},
   "outputs": [
    {
     "data": {
      "text/plain": [
       "count           14181\n",
       "unique              4\n",
       "top       (475, 3000]\n",
       "freq             9827\n",
       "Name: pao2fio2Ratio, dtype: object"
      ]
     },
     "execution_count": 62,
     "metadata": {},
     "output_type": "execute_result"
    },
    {
     "name": "stdout",
     "output_type": "stream",
     "text": [
      "time: 19.7 ms\n"
     ]
    }
   ],
   "source": [
    "worst_df['pao2fio2Ratio'].describe()"
   ]
  },
  {
   "cell_type": "code",
   "execution_count": 68,
   "metadata": {},
   "outputs": [
    {
     "data": {
      "text/plain": [
       "['icustay_id',\n",
       " 'any_vasoactive',\n",
       " 'bands',\n",
       " 'bilirubin',\n",
       " 'bun',\n",
       " 'cancer_elix',\n",
       " 'chloride',\n",
       " 'creatinine',\n",
       " 'daily_sofa',\n",
       " 'dobutamine',\n",
       " 'dopamine',\n",
       " 'epinephrine',\n",
       " 'glucose',\n",
       " 'heartrate',\n",
       " 'inr',\n",
       " 'lactate',\n",
       " 'leukocyte',\n",
       " 'nitrite',\n",
       " 'norepinephrine',\n",
       " 'o2_flow',\n",
       " 'pco2',\n",
       " 'phenylephrine',\n",
       " 'potassium',\n",
       " 'ptt',\n",
       " 'resprate',\n",
       " 'rrt',\n",
       " 'sum_elix',\n",
       " 'temperature',\n",
       " 'vasopressin',\n",
       " 'vent_recieved',\n",
       " 'bicarbonate',\n",
       " 'diasbp',\n",
       " 'hemoglobin',\n",
       " 'meanartpress',\n",
       " 'mingcs',\n",
       " 'ph',\n",
       " 'platelet',\n",
       " 'spo2',\n",
       " 'sysbp',\n",
       " ('max', 'calcium'),\n",
       " ('max', 'sodium'),\n",
       " ('max', 'wbc'),\n",
       " ('min', 'calcium'),\n",
       " ('min', 'sodium'),\n",
       " ('min', 'wbc'),\n",
       " 'ethnicity',\n",
       " 'gender',\n",
       " 'first_admit_age',\n",
       " 'pao2fio2Ratio',\n",
       " 'weight']"
      ]
     },
     "execution_count": 68,
     "metadata": {},
     "output_type": "execute_result"
    },
    {
     "name": "stdout",
     "output_type": "stream",
     "text": [
      "time: 4.72 ms\n"
     ]
    }
   ],
   "source": [
    "list(worst_df)"
   ]
  },
  {
   "cell_type": "code",
   "execution_count": 69,
   "metadata": {},
   "outputs": [
    {
     "data": {
      "text/plain": [
       "0.0    13808\n",
       "1.0      373\n",
       "Name: vasopressin, dtype: int64"
      ]
     },
     "execution_count": 69,
     "metadata": {},
     "output_type": "execute_result"
    },
    {
     "name": "stdout",
     "output_type": "stream",
     "text": [
      "time: 14.2 ms\n"
     ]
    }
   ],
   "source": [
    "worst_df['vasopressin'].value_counts()"
   ]
  },
  {
   "cell_type": "code",
   "execution_count": 67,
   "metadata": {},
   "outputs": [
    {
     "data": {
      "text/plain": [
       "'16052019'"
      ]
     },
     "execution_count": 67,
     "metadata": {},
     "output_type": "execute_result"
    },
    {
     "name": "stdout",
     "output_type": "stream",
     "text": [
      "time: 2.58 ms\n"
     ]
    }
   ],
   "source": [
    "date"
   ]
  },
  {
   "cell_type": "code",
   "execution_count": 66,
   "metadata": {},
   "outputs": [
    {
     "name": "stdout",
     "output_type": "stream",
     "text": [
      "time: 855 ms\n"
     ]
    }
   ],
   "source": [
    "##saving\n",
    "pd.DataFrame(worst_df).to_csv(Path(\n",
    "    wd+'/data/processed/merged/{}_worstdf_preImp{}.csv'.format(date,timewindowdays)),index=False)"
   ]
  },
  {
   "cell_type": "markdown",
   "metadata": {},
   "source": [
    "# aggregation 2:\n",
    "## 4-11-19: range, mean and stdev aggregations (newagg)"
   ]
  },
  {
   "cell_type": "markdown",
   "metadata": {},
   "source": [
    "np.ptp = difference btween min and max\n"
   ]
  },
  {
   "cell_type": "code",
   "execution_count": 48,
   "metadata": {},
   "outputs": [
    {
     "name": "stdout",
     "output_type": "stream",
     "text": [
      "time: 1.09 ms\n"
     ]
    }
   ],
   "source": [
    "##choose here if wanna use standardization or raw values.\n",
    "values=\"standardize\""
   ]
  },
  {
   "cell_type": "code",
   "execution_count": 49,
   "metadata": {},
   "outputs": [
    {
     "name": "stdout",
     "output_type": "stream",
     "text": [
      "time: 52.9 s\n"
     ]
    }
   ],
   "source": [
    "big_range= big_noCat.loc[big_noCat.loc[:,'label'].isin(continuous),:]\n",
    "table4 = pd.pivot_table(big_range, values=values, columns='label', index=['icustay_id'],aggfunc=[np.ptp, np.median, np.std], dropna=[False,False,False]) \n",
    "table4.columns=['_'.join(col).strip() for col in table4.columns.values]\n",
    "table4=table4.reset_index()"
   ]
  },
  {
   "cell_type": "code",
   "execution_count": 50,
   "metadata": {},
   "outputs": [
    {
     "name": "stdout",
     "output_type": "stream",
     "text": [
      "time: 638 ms\n"
     ]
    }
   ],
   "source": [
    "#grabing the rest of the variables not suitable for range or mean/std\n",
    "remaining= big_noCat.loc[big_noCat.loc[:,'label'].isin(onetime+ordinal+sparse),:]\n",
    "table5 = pd.pivot_table(remaining, values='value', columns='label', index=['icustay_id'],aggfunc=[max], dropna=False) "
   ]
  },
  {
   "cell_type": "code",
   "execution_count": 51,
   "metadata": {},
   "outputs": [
    {
     "name": "stdout",
     "output_type": "stream",
     "text": [
      "time: 3.37 ms\n"
     ]
    }
   ],
   "source": [
    "#table5.columns\n",
    "table5.columns = table5.columns.get_level_values(1)\n",
    "table5=table5.reset_index()"
   ]
  },
  {
   "cell_type": "code",
   "execution_count": 52,
   "metadata": {},
   "outputs": [
    {
     "data": {
      "text/html": [
       "<div>\n",
       "<style scoped>\n",
       "    .dataframe tbody tr th:only-of-type {\n",
       "        vertical-align: middle;\n",
       "    }\n",
       "\n",
       "    .dataframe tbody tr th {\n",
       "        vertical-align: top;\n",
       "    }\n",
       "\n",
       "    .dataframe thead th {\n",
       "        text-align: right;\n",
       "    }\n",
       "</style>\n",
       "<table border=\"1\" class=\"dataframe\">\n",
       "  <thead>\n",
       "    <tr style=\"text-align: right;\">\n",
       "      <th></th>\n",
       "      <th>icustay_id</th>\n",
       "      <th>ptp_bicarbonate</th>\n",
       "      <th>ptp_bilirubin</th>\n",
       "      <th>ptp_bun</th>\n",
       "      <th>ptp_calcium</th>\n",
       "      <th>ptp_chloride</th>\n",
       "      <th>ptp_creatinine</th>\n",
       "      <th>ptp_daily_sofa</th>\n",
       "      <th>ptp_diasbp</th>\n",
       "      <th>ptp_glucose</th>\n",
       "      <th>...</th>\n",
       "      <th>std_ph</th>\n",
       "      <th>std_platelet</th>\n",
       "      <th>std_potassium</th>\n",
       "      <th>std_ptt</th>\n",
       "      <th>std_resprate</th>\n",
       "      <th>std_sodium</th>\n",
       "      <th>std_spo2</th>\n",
       "      <th>std_sysbp</th>\n",
       "      <th>std_temperature</th>\n",
       "      <th>std_wbc</th>\n",
       "    </tr>\n",
       "  </thead>\n",
       "  <tbody>\n",
       "    <tr>\n",
       "      <th>0</th>\n",
       "      <td>200012.0</td>\n",
       "      <td>NaN</td>\n",
       "      <td>NaN</td>\n",
       "      <td>NaN</td>\n",
       "      <td>NaN</td>\n",
       "      <td>NaN</td>\n",
       "      <td>NaN</td>\n",
       "      <td>0.000000</td>\n",
       "      <td>1.277778</td>\n",
       "      <td>NaN</td>\n",
       "      <td>...</td>\n",
       "      <td>NaN</td>\n",
       "      <td>NaN</td>\n",
       "      <td>NaN</td>\n",
       "      <td>NaN</td>\n",
       "      <td>0.503421</td>\n",
       "      <td>NaN</td>\n",
       "      <td>0.355157</td>\n",
       "      <td>0.129624</td>\n",
       "      <td>0.337811</td>\n",
       "      <td>NaN</td>\n",
       "    </tr>\n",
       "    <tr>\n",
       "      <th>1</th>\n",
       "      <td>200014.0</td>\n",
       "      <td>1.0</td>\n",
       "      <td>NaN</td>\n",
       "      <td>0.476190</td>\n",
       "      <td>1.000000</td>\n",
       "      <td>0.875</td>\n",
       "      <td>0.222222</td>\n",
       "      <td>0.000000</td>\n",
       "      <td>2.777778</td>\n",
       "      <td>0.250000</td>\n",
       "      <td>...</td>\n",
       "      <td>0.299544</td>\n",
       "      <td>0.085800</td>\n",
       "      <td>0.164957</td>\n",
       "      <td>0.076444</td>\n",
       "      <td>1.000079</td>\n",
       "      <td>0.529150</td>\n",
       "      <td>0.349257</td>\n",
       "      <td>0.862796</td>\n",
       "      <td>0.706647</td>\n",
       "      <td>0.335236</td>\n",
       "    </tr>\n",
       "    <tr>\n",
       "      <th>2</th>\n",
       "      <td>200019.0</td>\n",
       "      <td>0.0</td>\n",
       "      <td>NaN</td>\n",
       "      <td>0.000000</td>\n",
       "      <td>NaN</td>\n",
       "      <td>0.000</td>\n",
       "      <td>0.111111</td>\n",
       "      <td>0.333333</td>\n",
       "      <td>3.833333</td>\n",
       "      <td>0.803571</td>\n",
       "      <td>...</td>\n",
       "      <td>NaN</td>\n",
       "      <td>0.043182</td>\n",
       "      <td>0.202031</td>\n",
       "      <td>NaN</td>\n",
       "      <td>0.871901</td>\n",
       "      <td>0.000000</td>\n",
       "      <td>1.886965</td>\n",
       "      <td>1.038963</td>\n",
       "      <td>0.435482</td>\n",
       "      <td>0.079835</td>\n",
       "    </tr>\n",
       "    <tr>\n",
       "      <th>3</th>\n",
       "      <td>200030.0</td>\n",
       "      <td>0.4</td>\n",
       "      <td>0.0</td>\n",
       "      <td>0.333333</td>\n",
       "      <td>1.636364</td>\n",
       "      <td>0.125</td>\n",
       "      <td>0.222222</td>\n",
       "      <td>1.666667</td>\n",
       "      <td>2.611111</td>\n",
       "      <td>3.571429</td>\n",
       "      <td>...</td>\n",
       "      <td>0.189758</td>\n",
       "      <td>0.076463</td>\n",
       "      <td>0.884485</td>\n",
       "      <td>0.131076</td>\n",
       "      <td>0.542263</td>\n",
       "      <td>0.251661</td>\n",
       "      <td>0.326499</td>\n",
       "      <td>0.442354</td>\n",
       "      <td>0.599855</td>\n",
       "      <td>0.116308</td>\n",
       "    </tr>\n",
       "    <tr>\n",
       "      <th>4</th>\n",
       "      <td>200033.0</td>\n",
       "      <td>1.2</td>\n",
       "      <td>NaN</td>\n",
       "      <td>0.285714</td>\n",
       "      <td>0.272727</td>\n",
       "      <td>1.000</td>\n",
       "      <td>0.333333</td>\n",
       "      <td>0.333333</td>\n",
       "      <td>2.388889</td>\n",
       "      <td>5.250000</td>\n",
       "      <td>...</td>\n",
       "      <td>0.129630</td>\n",
       "      <td>0.110884</td>\n",
       "      <td>0.321753</td>\n",
       "      <td>0.089977</td>\n",
       "      <td>0.754394</td>\n",
       "      <td>0.783156</td>\n",
       "      <td>0.279803</td>\n",
       "      <td>0.444738</td>\n",
       "      <td>0.730230</td>\n",
       "      <td>0.123188</td>\n",
       "    </tr>\n",
       "  </tbody>\n",
       "</table>\n",
       "<p>5 rows × 77 columns</p>\n",
       "</div>"
      ],
      "text/plain": [
       "   icustay_id  ptp_bicarbonate  ptp_bilirubin   ptp_bun  ptp_calcium  \\\n",
       "0    200012.0              NaN            NaN       NaN          NaN   \n",
       "1    200014.0              1.0            NaN  0.476190     1.000000   \n",
       "2    200019.0              0.0            NaN  0.000000          NaN   \n",
       "3    200030.0              0.4            0.0  0.333333     1.636364   \n",
       "4    200033.0              1.2            NaN  0.285714     0.272727   \n",
       "\n",
       "   ptp_chloride  ptp_creatinine  ptp_daily_sofa  ptp_diasbp  ptp_glucose  \\\n",
       "0           NaN             NaN        0.000000    1.277778          NaN   \n",
       "1         0.875        0.222222        0.000000    2.777778     0.250000   \n",
       "2         0.000        0.111111        0.333333    3.833333     0.803571   \n",
       "3         0.125        0.222222        1.666667    2.611111     3.571429   \n",
       "4         1.000        0.333333        0.333333    2.388889     5.250000   \n",
       "\n",
       "     ...       std_ph  std_platelet  std_potassium   std_ptt  std_resprate  \\\n",
       "0    ...          NaN           NaN            NaN       NaN      0.503421   \n",
       "1    ...     0.299544      0.085800       0.164957  0.076444      1.000079   \n",
       "2    ...          NaN      0.043182       0.202031       NaN      0.871901   \n",
       "3    ...     0.189758      0.076463       0.884485  0.131076      0.542263   \n",
       "4    ...     0.129630      0.110884       0.321753  0.089977      0.754394   \n",
       "\n",
       "   std_sodium  std_spo2  std_sysbp  std_temperature   std_wbc  \n",
       "0         NaN  0.355157   0.129624         0.337811       NaN  \n",
       "1    0.529150  0.349257   0.862796         0.706647  0.335236  \n",
       "2    0.000000  1.886965   1.038963         0.435482  0.079835  \n",
       "3    0.251661  0.326499   0.442354         0.599855  0.116308  \n",
       "4    0.783156  0.279803   0.444738         0.730230  0.123188  \n",
       "\n",
       "[5 rows x 77 columns]"
      ]
     },
     "execution_count": 52,
     "metadata": {},
     "output_type": "execute_result"
    },
    {
     "name": "stdout",
     "output_type": "stream",
     "text": [
      "time: 56.9 ms\n"
     ]
    }
   ],
   "source": [
    "table4.head()#.rename(columns={})"
   ]
  },
  {
   "cell_type": "code",
   "execution_count": 53,
   "metadata": {},
   "outputs": [
    {
     "name": "stdout",
     "output_type": "stream",
     "text": [
      "time: 37.8 ms\n"
     ]
    }
   ],
   "source": [
    "## merging aggregations together\n",
    "#first left join all different newagg together. \n",
    "table4=pd.merge(table4, table5, how='left')"
   ]
  },
  {
   "cell_type": "code",
   "execution_count": 54,
   "metadata": {},
   "outputs": [
    {
     "data": {
      "text/plain": [
       "['ptp_bicarbonate',\n",
       " 'ptp_bilirubin',\n",
       " 'ptp_bun',\n",
       " 'ptp_calcium',\n",
       " 'ptp_chloride',\n",
       " 'ptp_creatinine',\n",
       " 'ptp_daily_sofa',\n",
       " 'ptp_diasbp',\n",
       " 'ptp_glucose',\n",
       " 'ptp_heartrate',\n",
       " 'ptp_hemoglobin',\n",
       " 'ptp_inr',\n",
       " 'ptp_lactate',\n",
       " 'ptp_meanartpress',\n",
       " 'ptp_mingcs',\n",
       " 'ptp_pao2fio2Ratio',\n",
       " 'ptp_ph',\n",
       " 'ptp_platelet',\n",
       " 'ptp_potassium']"
      ]
     },
     "execution_count": 54,
     "metadata": {},
     "output_type": "execute_result"
    },
    {
     "name": "stdout",
     "output_type": "stream",
     "text": [
      "time: 3.8 ms\n"
     ]
    }
   ],
   "source": [
    "list(table4)[1:20]"
   ]
  },
  {
   "cell_type": "code",
   "execution_count": 55,
   "metadata": {},
   "outputs": [
    {
     "name": "stdout",
     "output_type": "stream",
     "text": [
      "time: 275 ms\n"
     ]
    }
   ],
   "source": [
    "### formatting categorical to wide format to match the aggregated numerical\n",
    "big_categorical= big_df.loc[big_df.loc[:,'label'].isin(categorical),:].copy()\n",
    "big_categorical= big_categorical.pivot(\n",
    "    index='icustay_id',\n",
    "    values='value',\n",
    "    columns='label').reset_index() #need to convert to wide format. should be one row per patient per time. "
   ]
  },
  {
   "cell_type": "markdown",
   "metadata": {},
   "source": [
    "### merging categorical with aggregated"
   ]
  },
  {
   "cell_type": "code",
   "execution_count": 56,
   "metadata": {},
   "outputs": [
    {
     "name": "stdout",
     "output_type": "stream",
     "text": [
      "time: 66.2 ms\n"
     ]
    }
   ],
   "source": [
    "#using fxn written for worst_df to make newagg_df\n",
    "newagg_df=merge_cat_agg(table4, big_categorical, twoclass=False) #using range/mean/stdev aggregates \n"
   ]
  },
  {
   "cell_type": "code",
   "execution_count": 57,
   "metadata": {},
   "outputs": [
    {
     "data": {
      "text/html": [
       "<div>\n",
       "<style scoped>\n",
       "    .dataframe tbody tr th:only-of-type {\n",
       "        vertical-align: middle;\n",
       "    }\n",
       "\n",
       "    .dataframe tbody tr th {\n",
       "        vertical-align: top;\n",
       "    }\n",
       "\n",
       "    .dataframe thead th {\n",
       "        text-align: right;\n",
       "    }\n",
       "</style>\n",
       "<table border=\"1\" class=\"dataframe\">\n",
       "  <thead>\n",
       "    <tr style=\"text-align: right;\">\n",
       "      <th></th>\n",
       "      <th>icustay_id</th>\n",
       "      <th>ptp_bicarbonate</th>\n",
       "      <th>ptp_bilirubin</th>\n",
       "      <th>ptp_bun</th>\n",
       "      <th>ptp_calcium</th>\n",
       "      <th>ptp_chloride</th>\n",
       "      <th>ptp_creatinine</th>\n",
       "      <th>ptp_daily_sofa</th>\n",
       "      <th>ptp_diasbp</th>\n",
       "      <th>ptp_glucose</th>\n",
       "      <th>...</th>\n",
       "      <th>leukocyte</th>\n",
       "      <th>nitrite</th>\n",
       "      <th>norepinephrine</th>\n",
       "      <th>o2_flow</th>\n",
       "      <th>phenylephrine</th>\n",
       "      <th>rrt</th>\n",
       "      <th>vasopressin</th>\n",
       "      <th>vent_recieved</th>\n",
       "      <th>ethnicity</th>\n",
       "      <th>gender</th>\n",
       "    </tr>\n",
       "  </thead>\n",
       "  <tbody>\n",
       "    <tr>\n",
       "      <th>0</th>\n",
       "      <td>200012.0</td>\n",
       "      <td>NaN</td>\n",
       "      <td>NaN</td>\n",
       "      <td>NaN</td>\n",
       "      <td>NaN</td>\n",
       "      <td>NaN</td>\n",
       "      <td>NaN</td>\n",
       "      <td>0.000000</td>\n",
       "      <td>1.277778</td>\n",
       "      <td>NaN</td>\n",
       "      <td>...</td>\n",
       "      <td>0.0</td>\n",
       "      <td>0.0</td>\n",
       "      <td>0.0</td>\n",
       "      <td>0.0</td>\n",
       "      <td>0.0</td>\n",
       "      <td>0.0</td>\n",
       "      <td>0.0</td>\n",
       "      <td>0.0</td>\n",
       "      <td>asian</td>\n",
       "      <td>0</td>\n",
       "    </tr>\n",
       "    <tr>\n",
       "      <th>1</th>\n",
       "      <td>200014.0</td>\n",
       "      <td>1.0</td>\n",
       "      <td>NaN</td>\n",
       "      <td>0.476190</td>\n",
       "      <td>1.000000</td>\n",
       "      <td>0.875</td>\n",
       "      <td>0.222222</td>\n",
       "      <td>0.000000</td>\n",
       "      <td>2.777778</td>\n",
       "      <td>0.250000</td>\n",
       "      <td>...</td>\n",
       "      <td>0.0</td>\n",
       "      <td>0.0</td>\n",
       "      <td>0.0</td>\n",
       "      <td>0.0</td>\n",
       "      <td>0.0</td>\n",
       "      <td>0.0</td>\n",
       "      <td>0.0</td>\n",
       "      <td>1.0</td>\n",
       "      <td>unknown/other</td>\n",
       "      <td>1</td>\n",
       "    </tr>\n",
       "    <tr>\n",
       "      <th>2</th>\n",
       "      <td>200019.0</td>\n",
       "      <td>0.0</td>\n",
       "      <td>NaN</td>\n",
       "      <td>0.000000</td>\n",
       "      <td>NaN</td>\n",
       "      <td>0.000</td>\n",
       "      <td>0.111111</td>\n",
       "      <td>0.333333</td>\n",
       "      <td>3.833333</td>\n",
       "      <td>0.803571</td>\n",
       "      <td>...</td>\n",
       "      <td>0.0</td>\n",
       "      <td>0.0</td>\n",
       "      <td>0.0</td>\n",
       "      <td>0.0</td>\n",
       "      <td>0.0</td>\n",
       "      <td>0.0</td>\n",
       "      <td>0.0</td>\n",
       "      <td>1.0</td>\n",
       "      <td>white/nonhispanic</td>\n",
       "      <td>0</td>\n",
       "    </tr>\n",
       "    <tr>\n",
       "      <th>3</th>\n",
       "      <td>200030.0</td>\n",
       "      <td>0.4</td>\n",
       "      <td>0.0</td>\n",
       "      <td>0.333333</td>\n",
       "      <td>1.636364</td>\n",
       "      <td>0.125</td>\n",
       "      <td>0.222222</td>\n",
       "      <td>1.666667</td>\n",
       "      <td>2.611111</td>\n",
       "      <td>3.571429</td>\n",
       "      <td>...</td>\n",
       "      <td>0.0</td>\n",
       "      <td>0.0</td>\n",
       "      <td>0.0</td>\n",
       "      <td>1.0</td>\n",
       "      <td>0.0</td>\n",
       "      <td>0.0</td>\n",
       "      <td>0.0</td>\n",
       "      <td>0.0</td>\n",
       "      <td>black</td>\n",
       "      <td>1</td>\n",
       "    </tr>\n",
       "    <tr>\n",
       "      <th>4</th>\n",
       "      <td>200033.0</td>\n",
       "      <td>1.2</td>\n",
       "      <td>NaN</td>\n",
       "      <td>0.285714</td>\n",
       "      <td>0.272727</td>\n",
       "      <td>1.000</td>\n",
       "      <td>0.333333</td>\n",
       "      <td>0.333333</td>\n",
       "      <td>2.388889</td>\n",
       "      <td>5.250000</td>\n",
       "      <td>...</td>\n",
       "      <td>0.0</td>\n",
       "      <td>0.0</td>\n",
       "      <td>0.0</td>\n",
       "      <td>0.0</td>\n",
       "      <td>1.0</td>\n",
       "      <td>0.0</td>\n",
       "      <td>0.0</td>\n",
       "      <td>1.0</td>\n",
       "      <td>white/nonhispanic</td>\n",
       "      <td>1</td>\n",
       "    </tr>\n",
       "  </tbody>\n",
       "</table>\n",
       "<p>5 rows × 90 columns</p>\n",
       "</div>"
      ],
      "text/plain": [
       "   icustay_id  ptp_bicarbonate  ptp_bilirubin   ptp_bun  ptp_calcium  \\\n",
       "0    200012.0              NaN            NaN       NaN          NaN   \n",
       "1    200014.0              1.0            NaN  0.476190     1.000000   \n",
       "2    200019.0              0.0            NaN  0.000000          NaN   \n",
       "3    200030.0              0.4            0.0  0.333333     1.636364   \n",
       "4    200033.0              1.2            NaN  0.285714     0.272727   \n",
       "\n",
       "   ptp_chloride  ptp_creatinine  ptp_daily_sofa  ptp_diasbp  ptp_glucose  \\\n",
       "0           NaN             NaN        0.000000    1.277778          NaN   \n",
       "1         0.875        0.222222        0.000000    2.777778     0.250000   \n",
       "2         0.000        0.111111        0.333333    3.833333     0.803571   \n",
       "3         0.125        0.222222        1.666667    2.611111     3.571429   \n",
       "4         1.000        0.333333        0.333333    2.388889     5.250000   \n",
       "\n",
       "    ...    leukocyte  nitrite  norepinephrine  o2_flow  phenylephrine  rrt  \\\n",
       "0   ...          0.0      0.0             0.0      0.0            0.0  0.0   \n",
       "1   ...          0.0      0.0             0.0      0.0            0.0  0.0   \n",
       "2   ...          0.0      0.0             0.0      0.0            0.0  0.0   \n",
       "3   ...          0.0      0.0             0.0      1.0            0.0  0.0   \n",
       "4   ...          0.0      0.0             0.0      0.0            1.0  0.0   \n",
       "\n",
       "   vasopressin  vent_recieved          ethnicity  gender  \n",
       "0          0.0            0.0              asian       0  \n",
       "1          0.0            1.0      unknown/other       1  \n",
       "2          0.0            1.0  white/nonhispanic       0  \n",
       "3          0.0            0.0              black       1  \n",
       "4          0.0            1.0  white/nonhispanic       1  \n",
       "\n",
       "[5 rows x 90 columns]"
      ]
     },
     "execution_count": 57,
     "metadata": {},
     "output_type": "execute_result"
    },
    {
     "name": "stdout",
     "output_type": "stream",
     "text": [
      "time: 56.1 ms\n"
     ]
    }
   ],
   "source": [
    "newagg_df.head()"
   ]
  },
  {
   "cell_type": "code",
   "execution_count": 58,
   "metadata": {},
   "outputs": [
    {
     "data": {
      "text/plain": [
       "['icustay_id',\n",
       " 'ptp_bicarbonate',\n",
       " 'ptp_bilirubin',\n",
       " 'ptp_bun',\n",
       " 'ptp_calcium',\n",
       " 'ptp_chloride',\n",
       " 'ptp_creatinine',\n",
       " 'ptp_daily_sofa',\n",
       " 'ptp_diasbp',\n",
       " 'ptp_glucose',\n",
       " 'ptp_heartrate',\n",
       " 'ptp_hemoglobin',\n",
       " 'ptp_inr',\n",
       " 'ptp_lactate',\n",
       " 'ptp_meanartpress',\n",
       " 'ptp_mingcs',\n",
       " 'ptp_pao2fio2Ratio',\n",
       " 'ptp_ph',\n",
       " 'ptp_platelet',\n",
       " 'ptp_potassium',\n",
       " 'ptp_ptt',\n",
       " 'ptp_resprate',\n",
       " 'ptp_sodium',\n",
       " 'ptp_spo2',\n",
       " 'ptp_sysbp',\n",
       " 'ptp_temperature',\n",
       " 'ptp_wbc',\n",
       " 'median_bicarbonate',\n",
       " 'median_bilirubin',\n",
       " 'median_bun',\n",
       " 'median_calcium',\n",
       " 'median_chloride',\n",
       " 'median_creatinine',\n",
       " 'median_daily_sofa',\n",
       " 'median_diasbp',\n",
       " 'median_glucose',\n",
       " 'median_heartrate',\n",
       " 'median_hemoglobin',\n",
       " 'median_inr',\n",
       " 'median_lactate',\n",
       " 'median_meanartpress',\n",
       " 'median_mingcs',\n",
       " 'median_pao2fio2Ratio',\n",
       " 'median_ph',\n",
       " 'median_platelet',\n",
       " 'median_potassium',\n",
       " 'median_ptt',\n",
       " 'median_resprate',\n",
       " 'median_sodium',\n",
       " 'median_spo2',\n",
       " 'median_sysbp',\n",
       " 'median_temperature',\n",
       " 'median_wbc',\n",
       " 'std_bicarbonate',\n",
       " 'std_bilirubin',\n",
       " 'std_bun',\n",
       " 'std_calcium',\n",
       " 'std_chloride',\n",
       " 'std_creatinine',\n",
       " 'std_daily_sofa',\n",
       " 'std_diasbp',\n",
       " 'std_glucose',\n",
       " 'std_heartrate',\n",
       " 'std_hemoglobin',\n",
       " 'std_inr',\n",
       " 'std_lactate',\n",
       " 'std_meanartpress',\n",
       " 'std_ph',\n",
       " 'std_platelet',\n",
       " 'std_potassium',\n",
       " 'std_ptt',\n",
       " 'std_resprate',\n",
       " 'std_sodium',\n",
       " 'std_spo2',\n",
       " 'std_sysbp',\n",
       " 'std_temperature',\n",
       " 'std_wbc',\n",
       " 'dobutamine',\n",
       " 'dopamine',\n",
       " 'epinephrine',\n",
       " 'leukocyte',\n",
       " 'nitrite',\n",
       " 'norepinephrine',\n",
       " 'o2_flow',\n",
       " 'phenylephrine',\n",
       " 'rrt',\n",
       " 'vasopressin',\n",
       " 'vent_recieved',\n",
       " 'ethnicity',\n",
       " 'gender']"
      ]
     },
     "execution_count": 58,
     "metadata": {},
     "output_type": "execute_result"
    },
    {
     "name": "stdout",
     "output_type": "stream",
     "text": [
      "time: 4.71 ms\n"
     ]
    }
   ],
   "source": [
    "list(newagg_df)"
   ]
  },
  {
   "cell_type": "code",
   "execution_count": 59,
   "metadata": {},
   "outputs": [
    {
     "name": "stdout",
     "output_type": "stream",
     "text": [
      "time: 3.17 s\n"
     ]
    }
   ],
   "source": [
    "pd.DataFrame(newagg_df).to_csv(Path(\n",
    "    wd+'/data/processed/merged/%s_newaggdf_std.csv' %(date)),index=False)"
   ]
  },
  {
   "cell_type": "code",
   "execution_count": 60,
   "metadata": {},
   "outputs": [
    {
     "data": {
      "text/plain": [
       "0        0.0\n",
       "1        0.0\n",
       "2        0.0\n",
       "3        0.0\n",
       "4        0.0\n",
       "5        0.0\n",
       "6        0.0\n",
       "7        0.0\n",
       "8        0.0\n",
       "9        0.0\n",
       "10       0.0\n",
       "11       0.0\n",
       "12       0.0\n",
       "13       0.0\n",
       "14       0.0\n",
       "15       0.0\n",
       "16       0.0\n",
       "17       0.0\n",
       "18       1.0\n",
       "19       0.0\n",
       "20       0.0\n",
       "21       0.0\n",
       "22       0.0\n",
       "23       0.0\n",
       "24       1.0\n",
       "25       0.0\n",
       "26       1.0\n",
       "27       0.0\n",
       "28       0.0\n",
       "29       0.0\n",
       "        ... \n",
       "14448    0.0\n",
       "14449    0.0\n",
       "14450    1.0\n",
       "14451    0.0\n",
       "14452    0.0\n",
       "14453    0.0\n",
       "14454    0.0\n",
       "14455    0.0\n",
       "14456    0.0\n",
       "14457    0.0\n",
       "14458    0.0\n",
       "14459    0.0\n",
       "14460    0.0\n",
       "14461    0.0\n",
       "14462    0.0\n",
       "14463    0.0\n",
       "14464    0.0\n",
       "14465    0.0\n",
       "14466    0.0\n",
       "14467    0.0\n",
       "14468    1.0\n",
       "14469    0.0\n",
       "14470    0.0\n",
       "14471    0.0\n",
       "14472    0.0\n",
       "14473    0.0\n",
       "14474    0.0\n",
       "14475    0.0\n",
       "14476    0.0\n",
       "14477    0.0\n",
       "Name: leukocyte, Length: 14478, dtype: float64"
      ]
     },
     "execution_count": 60,
     "metadata": {},
     "output_type": "execute_result"
    },
    {
     "name": "stdout",
     "output_type": "stream",
     "text": [
      "time: 6.3 ms\n"
     ]
    }
   ],
   "source": [
    "newagg_df['leukocyte']"
   ]
  },
  {
   "cell_type": "code",
   "execution_count": 61,
   "metadata": {},
   "outputs": [
    {
     "data": {
      "text/plain": [
       "'/Users/geickelb1/Documents/GitHub/mimiciii-antibiotics-modeling/data/processed/merged/%s_newaggdf_std.csv'"
      ]
     },
     "execution_count": 61,
     "metadata": {},
     "output_type": "execute_result"
    },
    {
     "name": "stdout",
     "output_type": "stream",
     "text": [
      "time: 4.13 ms\n"
     ]
    }
   ],
   "source": [
    "wd+'/data/processed/merged/%s_newaggdf_std.csv'"
   ]
  },
  {
   "cell_type": "markdown",
   "metadata": {},
   "source": [
    "# aggregation 3:\n",
    "# grabbing min/max/median/sd for only values found to be important from combining variable importance for random forest, boosted trees, and logistic regression on the baseline clinical max/min data.\n"
   ]
  },
  {
   "cell_type": "code",
   "execution_count": 194,
   "metadata": {},
   "outputs": [
    {
     "name": "stdout",
     "output_type": "stream",
     "text": [
      "time: 2.73 ms\n"
     ]
    }
   ],
   "source": [
    "# important_variables=[\"temperature\",\"sysbp\",\"daily_sofa\",\"meanartpress\",\"bun\",\"platelet\",\"ptt\",\"heartrate\",\"pao2fio2Ratio\",\"creatinine\",\"first_admit_age\"]\n",
    "important_continuous=[\"temperature\",\"sysbp\",\"daily_sofa\",\"meanartpress\",\"bun\",\"platelet\",\"ptt\",\"heartrate\",\"creatinine\"]\n",
    "important_ordinal=[\"any_vasoactive\", 'vent_recieved', \"leukocyte\",\"pao2fio2Ratio\"]\n",
    "important_onetime=['first_admit_age','weight']\n",
    "\n"
   ]
  },
  {
   "cell_type": "code",
   "execution_count": 195,
   "metadata": {},
   "outputs": [
    {
     "name": "stdout",
     "output_type": "stream",
     "text": [
      "time: 580 µs\n"
     ]
    }
   ],
   "source": [
    "# #continuous and ordinal variables\n",
    "# big_noCat= big_df.loc[big_df.loc[:,'label'].isin(continuous+ordinal),:].copy()\n",
    "# big_noCat['value']= big_noCat['value'].apply(pd.to_numeric, args=('coerce',)) #instead of convert to float, may preserve nan's better. "
   ]
  },
  {
   "cell_type": "code",
   "execution_count": 196,
   "metadata": {},
   "outputs": [
    {
     "data": {
      "text/html": [
       "<div>\n",
       "<style scoped>\n",
       "    .dataframe tbody tr th:only-of-type {\n",
       "        vertical-align: middle;\n",
       "    }\n",
       "\n",
       "    .dataframe tbody tr th {\n",
       "        vertical-align: top;\n",
       "    }\n",
       "\n",
       "    .dataframe thead th {\n",
       "        text-align: right;\n",
       "    }\n",
       "</style>\n",
       "<table border=\"1\" class=\"dataframe\">\n",
       "  <thead>\n",
       "    <tr style=\"text-align: right;\">\n",
       "      <th></th>\n",
       "      <th>icustay_id</th>\n",
       "      <th>value</th>\n",
       "    </tr>\n",
       "  </thead>\n",
       "  <tbody>\n",
       "    <tr>\n",
       "      <th>0</th>\n",
       "      <td>200012.0</td>\n",
       "      <td>0.0</td>\n",
       "    </tr>\n",
       "    <tr>\n",
       "      <th>1</th>\n",
       "      <td>200014.0</td>\n",
       "      <td>0.0</td>\n",
       "    </tr>\n",
       "    <tr>\n",
       "      <th>2</th>\n",
       "      <td>200019.0</td>\n",
       "      <td>0.0</td>\n",
       "    </tr>\n",
       "    <tr>\n",
       "      <th>3</th>\n",
       "      <td>200030.0</td>\n",
       "      <td>1.0</td>\n",
       "    </tr>\n",
       "    <tr>\n",
       "      <th>4</th>\n",
       "      <td>200033.0</td>\n",
       "      <td>1.0</td>\n",
       "    </tr>\n",
       "    <tr>\n",
       "      <th>5</th>\n",
       "      <td>200036.0</td>\n",
       "      <td>0.0</td>\n",
       "    </tr>\n",
       "    <tr>\n",
       "      <th>6</th>\n",
       "      <td>200055.0</td>\n",
       "      <td>0.0</td>\n",
       "    </tr>\n",
       "    <tr>\n",
       "      <th>7</th>\n",
       "      <td>200059.0</td>\n",
       "      <td>1.0</td>\n",
       "    </tr>\n",
       "    <tr>\n",
       "      <th>8</th>\n",
       "      <td>200061.0</td>\n",
       "      <td>0.0</td>\n",
       "    </tr>\n",
       "    <tr>\n",
       "      <th>9</th>\n",
       "      <td>200063.0</td>\n",
       "      <td>0.0</td>\n",
       "    </tr>\n",
       "    <tr>\n",
       "      <th>10</th>\n",
       "      <td>200065.0</td>\n",
       "      <td>1.0</td>\n",
       "    </tr>\n",
       "    <tr>\n",
       "      <th>11</th>\n",
       "      <td>200075.0</td>\n",
       "      <td>0.0</td>\n",
       "    </tr>\n",
       "    <tr>\n",
       "      <th>12</th>\n",
       "      <td>200078.0</td>\n",
       "      <td>1.0</td>\n",
       "    </tr>\n",
       "    <tr>\n",
       "      <th>13</th>\n",
       "      <td>200091.0</td>\n",
       "      <td>0.0</td>\n",
       "    </tr>\n",
       "    <tr>\n",
       "      <th>14</th>\n",
       "      <td>200095.0</td>\n",
       "      <td>1.0</td>\n",
       "    </tr>\n",
       "    <tr>\n",
       "      <th>15</th>\n",
       "      <td>200099.0</td>\n",
       "      <td>0.0</td>\n",
       "    </tr>\n",
       "    <tr>\n",
       "      <th>16</th>\n",
       "      <td>200102.0</td>\n",
       "      <td>1.0</td>\n",
       "    </tr>\n",
       "    <tr>\n",
       "      <th>17</th>\n",
       "      <td>200108.0</td>\n",
       "      <td>0.0</td>\n",
       "    </tr>\n",
       "    <tr>\n",
       "      <th>18</th>\n",
       "      <td>200112.0</td>\n",
       "      <td>0.0</td>\n",
       "    </tr>\n",
       "    <tr>\n",
       "      <th>19</th>\n",
       "      <td>200116.0</td>\n",
       "      <td>1.0</td>\n",
       "    </tr>\n",
       "    <tr>\n",
       "      <th>20</th>\n",
       "      <td>200124.0</td>\n",
       "      <td>0.0</td>\n",
       "    </tr>\n",
       "    <tr>\n",
       "      <th>21</th>\n",
       "      <td>200126.0</td>\n",
       "      <td>0.0</td>\n",
       "    </tr>\n",
       "    <tr>\n",
       "      <th>22</th>\n",
       "      <td>200135.0</td>\n",
       "      <td>0.0</td>\n",
       "    </tr>\n",
       "    <tr>\n",
       "      <th>23</th>\n",
       "      <td>200136.0</td>\n",
       "      <td>1.0</td>\n",
       "    </tr>\n",
       "    <tr>\n",
       "      <th>24</th>\n",
       "      <td>200140.0</td>\n",
       "      <td>1.0</td>\n",
       "    </tr>\n",
       "    <tr>\n",
       "      <th>25</th>\n",
       "      <td>200141.0</td>\n",
       "      <td>1.0</td>\n",
       "    </tr>\n",
       "    <tr>\n",
       "      <th>26</th>\n",
       "      <td>200143.0</td>\n",
       "      <td>1.0</td>\n",
       "    </tr>\n",
       "    <tr>\n",
       "      <th>27</th>\n",
       "      <td>200150.0</td>\n",
       "      <td>0.0</td>\n",
       "    </tr>\n",
       "    <tr>\n",
       "      <th>28</th>\n",
       "      <td>200173.0</td>\n",
       "      <td>0.0</td>\n",
       "    </tr>\n",
       "    <tr>\n",
       "      <th>29</th>\n",
       "      <td>200188.0</td>\n",
       "      <td>0.0</td>\n",
       "    </tr>\n",
       "    <tr>\n",
       "      <th>...</th>\n",
       "      <td>...</td>\n",
       "      <td>...</td>\n",
       "    </tr>\n",
       "    <tr>\n",
       "      <th>14448</th>\n",
       "      <td>299791.0</td>\n",
       "      <td>1.0</td>\n",
       "    </tr>\n",
       "    <tr>\n",
       "      <th>14449</th>\n",
       "      <td>299800.0</td>\n",
       "      <td>0.0</td>\n",
       "    </tr>\n",
       "    <tr>\n",
       "      <th>14450</th>\n",
       "      <td>299806.0</td>\n",
       "      <td>0.0</td>\n",
       "    </tr>\n",
       "    <tr>\n",
       "      <th>14451</th>\n",
       "      <td>299811.0</td>\n",
       "      <td>1.0</td>\n",
       "    </tr>\n",
       "    <tr>\n",
       "      <th>14452</th>\n",
       "      <td>299826.0</td>\n",
       "      <td>0.0</td>\n",
       "    </tr>\n",
       "    <tr>\n",
       "      <th>14453</th>\n",
       "      <td>299828.0</td>\n",
       "      <td>0.0</td>\n",
       "    </tr>\n",
       "    <tr>\n",
       "      <th>14454</th>\n",
       "      <td>299832.0</td>\n",
       "      <td>0.0</td>\n",
       "    </tr>\n",
       "    <tr>\n",
       "      <th>14455</th>\n",
       "      <td>299853.0</td>\n",
       "      <td>0.0</td>\n",
       "    </tr>\n",
       "    <tr>\n",
       "      <th>14456</th>\n",
       "      <td>299858.0</td>\n",
       "      <td>0.0</td>\n",
       "    </tr>\n",
       "    <tr>\n",
       "      <th>14457</th>\n",
       "      <td>299863.0</td>\n",
       "      <td>1.0</td>\n",
       "    </tr>\n",
       "    <tr>\n",
       "      <th>14458</th>\n",
       "      <td>299880.0</td>\n",
       "      <td>0.0</td>\n",
       "    </tr>\n",
       "    <tr>\n",
       "      <th>14459</th>\n",
       "      <td>299881.0</td>\n",
       "      <td>0.0</td>\n",
       "    </tr>\n",
       "    <tr>\n",
       "      <th>14460</th>\n",
       "      <td>299883.0</td>\n",
       "      <td>0.0</td>\n",
       "    </tr>\n",
       "    <tr>\n",
       "      <th>14461</th>\n",
       "      <td>299886.0</td>\n",
       "      <td>0.0</td>\n",
       "    </tr>\n",
       "    <tr>\n",
       "      <th>14462</th>\n",
       "      <td>299888.0</td>\n",
       "      <td>1.0</td>\n",
       "    </tr>\n",
       "    <tr>\n",
       "      <th>14463</th>\n",
       "      <td>299901.0</td>\n",
       "      <td>0.0</td>\n",
       "    </tr>\n",
       "    <tr>\n",
       "      <th>14464</th>\n",
       "      <td>299903.0</td>\n",
       "      <td>1.0</td>\n",
       "    </tr>\n",
       "    <tr>\n",
       "      <th>14465</th>\n",
       "      <td>299913.0</td>\n",
       "      <td>0.0</td>\n",
       "    </tr>\n",
       "    <tr>\n",
       "      <th>14466</th>\n",
       "      <td>299914.0</td>\n",
       "      <td>0.0</td>\n",
       "    </tr>\n",
       "    <tr>\n",
       "      <th>14467</th>\n",
       "      <td>299917.0</td>\n",
       "      <td>0.0</td>\n",
       "    </tr>\n",
       "    <tr>\n",
       "      <th>14468</th>\n",
       "      <td>299919.0</td>\n",
       "      <td>0.0</td>\n",
       "    </tr>\n",
       "    <tr>\n",
       "      <th>14469</th>\n",
       "      <td>299948.0</td>\n",
       "      <td>1.0</td>\n",
       "    </tr>\n",
       "    <tr>\n",
       "      <th>14470</th>\n",
       "      <td>299950.0</td>\n",
       "      <td>0.0</td>\n",
       "    </tr>\n",
       "    <tr>\n",
       "      <th>14471</th>\n",
       "      <td>299955.0</td>\n",
       "      <td>0.0</td>\n",
       "    </tr>\n",
       "    <tr>\n",
       "      <th>14472</th>\n",
       "      <td>299956.0</td>\n",
       "      <td>1.0</td>\n",
       "    </tr>\n",
       "    <tr>\n",
       "      <th>14473</th>\n",
       "      <td>299961.0</td>\n",
       "      <td>1.0</td>\n",
       "    </tr>\n",
       "    <tr>\n",
       "      <th>14474</th>\n",
       "      <td>299988.0</td>\n",
       "      <td>1.0</td>\n",
       "    </tr>\n",
       "    <tr>\n",
       "      <th>14475</th>\n",
       "      <td>299992.0</td>\n",
       "      <td>1.0</td>\n",
       "    </tr>\n",
       "    <tr>\n",
       "      <th>14476</th>\n",
       "      <td>299994.0</td>\n",
       "      <td>1.0</td>\n",
       "    </tr>\n",
       "    <tr>\n",
       "      <th>14477</th>\n",
       "      <td>299995.0</td>\n",
       "      <td>0.0</td>\n",
       "    </tr>\n",
       "  </tbody>\n",
       "</table>\n",
       "<p>14478 rows × 2 columns</p>\n",
       "</div>"
      ],
      "text/plain": [
       "       icustay_id value\n",
       "0        200012.0   0.0\n",
       "1        200014.0   0.0\n",
       "2        200019.0   0.0\n",
       "3        200030.0   1.0\n",
       "4        200033.0   1.0\n",
       "5        200036.0   0.0\n",
       "6        200055.0   0.0\n",
       "7        200059.0   1.0\n",
       "8        200061.0   0.0\n",
       "9        200063.0   0.0\n",
       "10       200065.0   1.0\n",
       "11       200075.0   0.0\n",
       "12       200078.0   1.0\n",
       "13       200091.0   0.0\n",
       "14       200095.0   1.0\n",
       "15       200099.0   0.0\n",
       "16       200102.0   1.0\n",
       "17       200108.0   0.0\n",
       "18       200112.0   0.0\n",
       "19       200116.0   1.0\n",
       "20       200124.0   0.0\n",
       "21       200126.0   0.0\n",
       "22       200135.0   0.0\n",
       "23       200136.0   1.0\n",
       "24       200140.0   1.0\n",
       "25       200141.0   1.0\n",
       "26       200143.0   1.0\n",
       "27       200150.0   0.0\n",
       "28       200173.0   0.0\n",
       "29       200188.0   0.0\n",
       "...           ...   ...\n",
       "14448    299791.0   1.0\n",
       "14449    299800.0   0.0\n",
       "14450    299806.0   0.0\n",
       "14451    299811.0   1.0\n",
       "14452    299826.0   0.0\n",
       "14453    299828.0   0.0\n",
       "14454    299832.0   0.0\n",
       "14455    299853.0   0.0\n",
       "14456    299858.0   0.0\n",
       "14457    299863.0   1.0\n",
       "14458    299880.0   0.0\n",
       "14459    299881.0   0.0\n",
       "14460    299883.0   0.0\n",
       "14461    299886.0   0.0\n",
       "14462    299888.0   1.0\n",
       "14463    299901.0   0.0\n",
       "14464    299903.0   1.0\n",
       "14465    299913.0   0.0\n",
       "14466    299914.0   0.0\n",
       "14467    299917.0   0.0\n",
       "14468    299919.0   0.0\n",
       "14469    299948.0   1.0\n",
       "14470    299950.0   0.0\n",
       "14471    299955.0   0.0\n",
       "14472    299956.0   1.0\n",
       "14473    299961.0   1.0\n",
       "14474    299988.0   1.0\n",
       "14475    299992.0   1.0\n",
       "14476    299994.0   1.0\n",
       "14477    299995.0   0.0\n",
       "\n",
       "[14478 rows x 2 columns]"
      ]
     },
     "execution_count": 196,
     "metadata": {},
     "output_type": "execute_result"
    },
    {
     "name": "stdout",
     "output_type": "stream",
     "text": [
      "time: 1.62 s\n"
     ]
    }
   ],
   "source": [
    "big_noCat[big_noCat['label'].isin(vaso_active)].groupby('icustay_id')['value'].max().reset_index()"
   ]
  },
  {
   "cell_type": "code",
   "execution_count": 197,
   "metadata": {},
   "outputs": [
    {
     "data": {
      "text/html": [
       "<div>\n",
       "<style scoped>\n",
       "    .dataframe tbody tr th:only-of-type {\n",
       "        vertical-align: middle;\n",
       "    }\n",
       "\n",
       "    .dataframe tbody tr th {\n",
       "        vertical-align: top;\n",
       "    }\n",
       "\n",
       "    .dataframe thead th {\n",
       "        text-align: right;\n",
       "    }\n",
       "</style>\n",
       "<table border=\"1\" class=\"dataframe\">\n",
       "  <thead>\n",
       "    <tr style=\"text-align: right;\">\n",
       "      <th></th>\n",
       "      <th>icustay_id</th>\n",
       "      <th>value</th>\n",
       "      <th>uom</th>\n",
       "      <th>label</th>\n",
       "      <th>delta</th>\n",
       "      <th>source</th>\n",
       "      <th>subject_id</th>\n",
       "      <th>t_0</th>\n",
       "      <th>median</th>\n",
       "      <th>iqr</th>\n",
       "      <th>standardize</th>\n",
       "      <th>raw_value</th>\n",
       "    </tr>\n",
       "  </thead>\n",
       "  <tbody>\n",
       "    <tr>\n",
       "      <th>0</th>\n",
       "      <td>200012.0</td>\n",
       "      <td>0.0</td>\n",
       "      <td>y/n</td>\n",
       "      <td>any_vasoactive</td>\n",
       "      <td>0 days</td>\n",
       "      <td>all_vasoactives</td>\n",
       "      <td>28448</td>\n",
       "      <td>2153-12-23</td>\n",
       "      <td>0.0</td>\n",
       "      <td>0.0</td>\n",
       "      <td>0.0</td>\n",
       "      <td>0.0</td>\n",
       "    </tr>\n",
       "    <tr>\n",
       "      <th>1</th>\n",
       "      <td>200014.0</td>\n",
       "      <td>0.0</td>\n",
       "      <td>y/n</td>\n",
       "      <td>any_vasoactive</td>\n",
       "      <td>0 days</td>\n",
       "      <td>all_vasoactives</td>\n",
       "      <td>9514</td>\n",
       "      <td>2105-02-17</td>\n",
       "      <td>0.0</td>\n",
       "      <td>0.0</td>\n",
       "      <td>0.0</td>\n",
       "      <td>0.0</td>\n",
       "    </tr>\n",
       "    <tr>\n",
       "      <th>2</th>\n",
       "      <td>200019.0</td>\n",
       "      <td>0.0</td>\n",
       "      <td>y/n</td>\n",
       "      <td>any_vasoactive</td>\n",
       "      <td>0 days</td>\n",
       "      <td>all_vasoactives</td>\n",
       "      <td>21789</td>\n",
       "      <td>2178-07-09</td>\n",
       "      <td>0.0</td>\n",
       "      <td>0.0</td>\n",
       "      <td>0.0</td>\n",
       "      <td>0.0</td>\n",
       "    </tr>\n",
       "    <tr>\n",
       "      <th>3</th>\n",
       "      <td>200030.0</td>\n",
       "      <td>1.0</td>\n",
       "      <td>y/n</td>\n",
       "      <td>any_vasoactive</td>\n",
       "      <td>0 days</td>\n",
       "      <td>all_vasoactives</td>\n",
       "      <td>14987</td>\n",
       "      <td>2150-11-14</td>\n",
       "      <td>0.0</td>\n",
       "      <td>0.0</td>\n",
       "      <td>1.0</td>\n",
       "      <td>1.0</td>\n",
       "    </tr>\n",
       "    <tr>\n",
       "      <th>4</th>\n",
       "      <td>200033.0</td>\n",
       "      <td>1.0</td>\n",
       "      <td>y/n</td>\n",
       "      <td>any_vasoactive</td>\n",
       "      <td>0 days</td>\n",
       "      <td>all_vasoactives</td>\n",
       "      <td>56369</td>\n",
       "      <td>2198-08-11</td>\n",
       "      <td>0.0</td>\n",
       "      <td>0.0</td>\n",
       "      <td>1.0</td>\n",
       "      <td>1.0</td>\n",
       "    </tr>\n",
       "  </tbody>\n",
       "</table>\n",
       "</div>"
      ],
      "text/plain": [
       "   icustay_id value  uom           label  delta           source  subject_id  \\\n",
       "0    200012.0   0.0  y/n  any_vasoactive 0 days  all_vasoactives       28448   \n",
       "1    200014.0   0.0  y/n  any_vasoactive 0 days  all_vasoactives        9514   \n",
       "2    200019.0   0.0  y/n  any_vasoactive 0 days  all_vasoactives       21789   \n",
       "3    200030.0   1.0  y/n  any_vasoactive 0 days  all_vasoactives       14987   \n",
       "4    200033.0   1.0  y/n  any_vasoactive 0 days  all_vasoactives       56369   \n",
       "\n",
       "          t_0  median  iqr standardize raw_value  \n",
       "0  2153-12-23     0.0  0.0         0.0       0.0  \n",
       "1  2105-02-17     0.0  0.0         0.0       0.0  \n",
       "2  2178-07-09     0.0  0.0         0.0       0.0  \n",
       "3  2150-11-14     0.0  0.0         1.0       1.0  \n",
       "4  2198-08-11     0.0  0.0         1.0       1.0  "
      ]
     },
     "execution_count": 197,
     "metadata": {},
     "output_type": "execute_result"
    },
    {
     "name": "stdout",
     "output_type": "stream",
     "text": [
      "time: 1.56 s\n"
     ]
    }
   ],
   "source": [
    "##combining vasoactives\n",
    "vaso_active_df=big_noCat[big_noCat['label'].isin(vaso_active)].groupby('icustay_id')['value'].max().reset_index()\n",
    "vaso_active_df['uom']=\"y/n\"\n",
    "vaso_active_df['label']=\"any_vasoactive\"\n",
    "vaso_active_df['delta']=pd.to_timedelta(\"0days\")\n",
    "vaso_active_df['source']=\"all_vasoactives\"\n",
    "\n",
    "vaso_active_df=pd.merge(vaso_active_df, final_pt_df2[[\"icustay_id\",'subject_id',\"t_0\"]], how=\"left\", left_on=\"icustay_id\", right_on=\"icustay_id\")\n",
    "vaso_active_df=pd.merge(vaso_active_df, median_label, how=\"left\").fillna(0)\n",
    "vaso_active_df['standardize']=vaso_active_df['value']\n",
    "vaso_active_df['raw_value']=vaso_active_df['value']\n",
    "vaso_active_df.head()"
   ]
  },
  {
   "cell_type": "code",
   "execution_count": 198,
   "metadata": {},
   "outputs": [
    {
     "data": {
      "text/plain": [
       "'1.0'"
      ]
     },
     "execution_count": 198,
     "metadata": {},
     "output_type": "execute_result"
    },
    {
     "name": "stdout",
     "output_type": "stream",
     "text": [
      "time: 2.47 ms\n"
     ]
    }
   ],
   "source": [
    "vaso_active_df.iloc[3,1]"
   ]
  },
  {
   "cell_type": "code",
   "execution_count": 199,
   "metadata": {},
   "outputs": [
    {
     "data": {
      "text/html": [
       "<div>\n",
       "<style scoped>\n",
       "    .dataframe tbody tr th:only-of-type {\n",
       "        vertical-align: middle;\n",
       "    }\n",
       "\n",
       "    .dataframe tbody tr th {\n",
       "        vertical-align: top;\n",
       "    }\n",
       "\n",
       "    .dataframe thead th {\n",
       "        text-align: right;\n",
       "    }\n",
       "</style>\n",
       "<table border=\"1\" class=\"dataframe\">\n",
       "  <thead>\n",
       "    <tr style=\"text-align: right;\">\n",
       "      <th></th>\n",
       "      <th>icustay_id</th>\n",
       "      <th>value</th>\n",
       "      <th>uom</th>\n",
       "      <th>label</th>\n",
       "      <th>delta</th>\n",
       "      <th>t_0</th>\n",
       "      <th>source</th>\n",
       "      <th>subject_id</th>\n",
       "      <th>median</th>\n",
       "      <th>iqr</th>\n",
       "      <th>raw_value</th>\n",
       "      <th>standardize</th>\n",
       "    </tr>\n",
       "  </thead>\n",
       "  <tbody>\n",
       "    <tr>\n",
       "      <th>0</th>\n",
       "      <td>200012.0</td>\n",
       "      <td>0.693147</td>\n",
       "      <td>daily_sofa_score</td>\n",
       "      <td>daily_sofa</td>\n",
       "      <td>0 days 00:00:00.000000000</td>\n",
       "      <td>2153-12-23</td>\n",
       "      <td>sofa</td>\n",
       "      <td>28448</td>\n",
       "      <td>1.38629</td>\n",
       "      <td>1.38629</td>\n",
       "      <td>1</td>\n",
       "      <td>-0.500000</td>\n",
       "    </tr>\n",
       "    <tr>\n",
       "      <th>1</th>\n",
       "      <td>200012.0</td>\n",
       "      <td>0.832909</td>\n",
       "      <td>mmol/L</td>\n",
       "      <td>lactate</td>\n",
       "      <td>0 days 02:36:00.000000000</td>\n",
       "      <td>2153-12-23</td>\n",
       "      <td>labs</td>\n",
       "      <td>28448</td>\n",
       "      <td>0.993252</td>\n",
       "      <td>0.875469</td>\n",
       "      <td>1.3</td>\n",
       "      <td>-0.183151</td>\n",
       "    </tr>\n",
       "    <tr>\n",
       "      <th>2</th>\n",
       "      <td>200012.0</td>\n",
       "      <td>2.77259</td>\n",
       "      <td>gcs_score</td>\n",
       "      <td>mingcs</td>\n",
       "      <td>0 days 05:12:00.000000000</td>\n",
       "      <td>2153-12-23</td>\n",
       "      <td>gcs</td>\n",
       "      <td>28448</td>\n",
       "      <td>2.70805</td>\n",
       "      <td>1.09861</td>\n",
       "      <td>15</td>\n",
       "      <td>0.058745</td>\n",
       "    </tr>\n",
       "    <tr>\n",
       "      <th>3</th>\n",
       "      <td>200012.0</td>\n",
       "      <td>4.38203</td>\n",
       "      <td>mmHg</td>\n",
       "      <td>diasbp</td>\n",
       "      <td>0 days 06:16:00.000000000</td>\n",
       "      <td>2153-12-23</td>\n",
       "      <td>vitals</td>\n",
       "      <td>28448</td>\n",
       "      <td>4.09434</td>\n",
       "      <td>2.94444</td>\n",
       "      <td>79</td>\n",
       "      <td>0.097704</td>\n",
       "    </tr>\n",
       "    <tr>\n",
       "      <th>4</th>\n",
       "      <td>200012.0</td>\n",
       "      <td>4.70048</td>\n",
       "      <td>bpm</td>\n",
       "      <td>heartrate</td>\n",
       "      <td>0 days 06:16:00.000000000</td>\n",
       "      <td>2153-12-23</td>\n",
       "      <td>vitals</td>\n",
       "      <td>28448</td>\n",
       "      <td>4.45435</td>\n",
       "      <td>3.17805</td>\n",
       "      <td>109</td>\n",
       "      <td>0.077448</td>\n",
       "    </tr>\n",
       "  </tbody>\n",
       "</table>\n",
       "</div>"
      ],
      "text/plain": [
       "   icustay_id     value               uom       label  \\\n",
       "0    200012.0  0.693147  daily_sofa_score  daily_sofa   \n",
       "1    200012.0  0.832909            mmol/L     lactate   \n",
       "2    200012.0   2.77259         gcs_score      mingcs   \n",
       "3    200012.0   4.38203              mmHg      diasbp   \n",
       "4    200012.0   4.70048               bpm   heartrate   \n",
       "\n",
       "                       delta         t_0  source  subject_id    median  \\\n",
       "0  0 days 00:00:00.000000000  2153-12-23    sofa       28448   1.38629   \n",
       "1  0 days 02:36:00.000000000  2153-12-23    labs       28448  0.993252   \n",
       "2  0 days 05:12:00.000000000  2153-12-23     gcs       28448   2.70805   \n",
       "3  0 days 06:16:00.000000000  2153-12-23  vitals       28448   4.09434   \n",
       "4  0 days 06:16:00.000000000  2153-12-23  vitals       28448   4.45435   \n",
       "\n",
       "        iqr raw_value  standardize  \n",
       "0   1.38629         1    -0.500000  \n",
       "1  0.875469       1.3    -0.183151  \n",
       "2   1.09861        15     0.058745  \n",
       "3   2.94444        79     0.097704  \n",
       "4   3.17805       109     0.077448  "
      ]
     },
     "execution_count": 199,
     "metadata": {},
     "output_type": "execute_result"
    },
    {
     "name": "stdout",
     "output_type": "stream",
     "text": [
      "time: 19.4 ms\n"
     ]
    }
   ],
   "source": [
    "big_noCat.head()"
   ]
  },
  {
   "cell_type": "code",
   "execution_count": 200,
   "metadata": {},
   "outputs": [
    {
     "data": {
      "text/plain": [
       "array(['daily_sofa', 'lactate', 'mingcs', 'diasbp', 'heartrate',\n",
       "       'meanartpress', 'resprate', 'spo2', 'sysbp', 'temperature',\n",
       "       'bands', 'hemoglobin', 'platelet', 'wbc', 'calcium', 'glucose',\n",
       "       'pco2', 'ph', 'bicarbonate', 'bun', 'chloride', 'creatinine',\n",
       "       'inr', 'potassium', 'ptt', 'sodium', 'bilirubin', 'dobutamine',\n",
       "       'dopamine', 'epinephrine', 'norepinephrine', 'o2_flow',\n",
       "       'pao2fio2Ratio', 'phenylephrine', 'rrt', 'vasopressin',\n",
       "       'vent_recieved', 'leukocyte', 'nitrite', 'any_vasoactive'],\n",
       "      dtype=object)"
      ]
     },
     "execution_count": 200,
     "metadata": {},
     "output_type": "execute_result"
    },
    {
     "name": "stdout",
     "output_type": "stream",
     "text": [
      "time: 301 ms\n"
     ]
    }
   ],
   "source": [
    "big_noCat['label'].unique()\n",
    "#big_noCat=pd.concat([big_noCat, vaso_active_df], sort=False)"
   ]
  },
  {
   "cell_type": "code",
   "execution_count": 201,
   "metadata": {},
   "outputs": [
    {
     "data": {
      "text/html": [
       "<div>\n",
       "<style scoped>\n",
       "    .dataframe tbody tr th:only-of-type {\n",
       "        vertical-align: middle;\n",
       "    }\n",
       "\n",
       "    .dataframe tbody tr th {\n",
       "        vertical-align: top;\n",
       "    }\n",
       "\n",
       "    .dataframe thead th {\n",
       "        text-align: right;\n",
       "    }\n",
       "</style>\n",
       "<table border=\"1\" class=\"dataframe\">\n",
       "  <thead>\n",
       "    <tr style=\"text-align: right;\">\n",
       "      <th></th>\n",
       "      <th>icustay_id</th>\n",
       "      <th>value</th>\n",
       "      <th>uom</th>\n",
       "      <th>label</th>\n",
       "      <th>delta</th>\n",
       "      <th>t_0</th>\n",
       "      <th>source</th>\n",
       "      <th>subject_id</th>\n",
       "      <th>median</th>\n",
       "      <th>iqr</th>\n",
       "      <th>raw_value</th>\n",
       "      <th>standardize</th>\n",
       "    </tr>\n",
       "  </thead>\n",
       "  <tbody>\n",
       "    <tr>\n",
       "      <th>0</th>\n",
       "      <td>200012.0</td>\n",
       "      <td>0.0</td>\n",
       "      <td>y/n</td>\n",
       "      <td>any_vasoactive</td>\n",
       "      <td>0 days 00:00:00</td>\n",
       "      <td>2153-12-23</td>\n",
       "      <td>all_vasoactives</td>\n",
       "      <td>28448</td>\n",
       "      <td>0</td>\n",
       "      <td>0</td>\n",
       "      <td>0.0</td>\n",
       "      <td>0.0</td>\n",
       "    </tr>\n",
       "    <tr>\n",
       "      <th>1</th>\n",
       "      <td>200014.0</td>\n",
       "      <td>0.0</td>\n",
       "      <td>y/n</td>\n",
       "      <td>any_vasoactive</td>\n",
       "      <td>0 days 00:00:00</td>\n",
       "      <td>2105-02-17</td>\n",
       "      <td>all_vasoactives</td>\n",
       "      <td>9514</td>\n",
       "      <td>0</td>\n",
       "      <td>0</td>\n",
       "      <td>0.0</td>\n",
       "      <td>0.0</td>\n",
       "    </tr>\n",
       "    <tr>\n",
       "      <th>2</th>\n",
       "      <td>200019.0</td>\n",
       "      <td>0.0</td>\n",
       "      <td>y/n</td>\n",
       "      <td>any_vasoactive</td>\n",
       "      <td>0 days 00:00:00</td>\n",
       "      <td>2178-07-09</td>\n",
       "      <td>all_vasoactives</td>\n",
       "      <td>21789</td>\n",
       "      <td>0</td>\n",
       "      <td>0</td>\n",
       "      <td>0.0</td>\n",
       "      <td>0.0</td>\n",
       "    </tr>\n",
       "    <tr>\n",
       "      <th>3</th>\n",
       "      <td>200030.0</td>\n",
       "      <td>1.0</td>\n",
       "      <td>y/n</td>\n",
       "      <td>any_vasoactive</td>\n",
       "      <td>0 days 00:00:00</td>\n",
       "      <td>2150-11-14</td>\n",
       "      <td>all_vasoactives</td>\n",
       "      <td>14987</td>\n",
       "      <td>0</td>\n",
       "      <td>0</td>\n",
       "      <td>1.0</td>\n",
       "      <td>1.0</td>\n",
       "    </tr>\n",
       "    <tr>\n",
       "      <th>4</th>\n",
       "      <td>200033.0</td>\n",
       "      <td>1.0</td>\n",
       "      <td>y/n</td>\n",
       "      <td>any_vasoactive</td>\n",
       "      <td>0 days 00:00:00</td>\n",
       "      <td>2198-08-11</td>\n",
       "      <td>all_vasoactives</td>\n",
       "      <td>56369</td>\n",
       "      <td>0</td>\n",
       "      <td>0</td>\n",
       "      <td>1.0</td>\n",
       "      <td>1.0</td>\n",
       "    </tr>\n",
       "  </tbody>\n",
       "</table>\n",
       "</div>"
      ],
      "text/plain": [
       "   icustay_id value  uom           label            delta         t_0  \\\n",
       "0    200012.0   0.0  y/n  any_vasoactive  0 days 00:00:00  2153-12-23   \n",
       "1    200014.0   0.0  y/n  any_vasoactive  0 days 00:00:00  2105-02-17   \n",
       "2    200019.0   0.0  y/n  any_vasoactive  0 days 00:00:00  2178-07-09   \n",
       "3    200030.0   1.0  y/n  any_vasoactive  0 days 00:00:00  2150-11-14   \n",
       "4    200033.0   1.0  y/n  any_vasoactive  0 days 00:00:00  2198-08-11   \n",
       "\n",
       "            source  subject_id median iqr raw_value  standardize  \n",
       "0  all_vasoactives       28448      0   0       0.0          0.0  \n",
       "1  all_vasoactives        9514      0   0       0.0          0.0  \n",
       "2  all_vasoactives       21789      0   0       0.0          0.0  \n",
       "3  all_vasoactives       14987      0   0       1.0          1.0  \n",
       "4  all_vasoactives       56369      0   0       1.0          1.0  "
      ]
     },
     "execution_count": 201,
     "metadata": {},
     "output_type": "execute_result"
    },
    {
     "name": "stdout",
     "output_type": "stream",
     "text": [
      "time: 446 ms\n"
     ]
    }
   ],
   "source": [
    "big_noCat[big_noCat['label']==\"any_vasoactive\"].head() #so this works"
   ]
  },
  {
   "cell_type": "code",
   "execution_count": 202,
   "metadata": {},
   "outputs": [
    {
     "name": "stdout",
     "output_type": "stream",
     "text": [
      "time: 932 µs\n"
     ]
    }
   ],
   "source": [
    "##choose here if wanna use standardization or raw values.\n",
    "values=\"standardize\"\n",
    "#big_noCat[values]= big_noCat[values].apply(pd.to_numeric, args=('coerce',)) #instead of convert to float, may preserve nan's better."
   ]
  },
  {
   "cell_type": "code",
   "execution_count": 203,
   "metadata": {},
   "outputs": [
    {
     "name": "stdout",
     "output_type": "stream",
     "text": [
      "time: 3.36 ms\n"
     ]
    }
   ],
   "source": [
    "# big_df2=pd.concat([big_df, vaso_active_df], sort=False)\n",
    "\n",
    "# #splitting categorical, ordinal and continuous\n",
    "# big_categorical= big_df.loc[big_df.loc[:,'label'].isin(important_ordinal+important_onetime),:].copy()\n",
    "\n",
    "# #continuous and ordinal variables\n",
    "# df_continuous= big_df.loc[big_df.loc[:,'label'].isin(important_continuous+ordinal),:].copy()\n",
    "# big_noCat['value']= big_noCat['value'].apply(pd.to_numeric, args=('coerce',)) #instead of convert to float, may preserve nan's better. "
   ]
  },
  {
   "cell_type": "code",
   "execution_count": 204,
   "metadata": {},
   "outputs": [
    {
     "name": "stdout",
     "output_type": "stream",
     "text": [
      "time: 2.64 s\n"
     ]
    }
   ],
   "source": [
    "df_continuous= big_noCat.loc[big_noCat.loc[:,'label'].isin(important_continuous),:]\n",
    "agg_table1 = pd.pivot_table(df_continuous, values=values, columns='label', index=['icustay_id'],aggfunc=[np.max, np.min, np.median, np.std], dropna=[False,False,False, False]) \n",
    "agg_table1.columns=['_'.join(col).strip() for col in agg_table1.columns.values]\n",
    "agg_table1=agg_table1.reset_index()"
   ]
  },
  {
   "cell_type": "code",
   "execution_count": 205,
   "metadata": {},
   "outputs": [
    {
     "name": "stdout",
     "output_type": "stream",
     "text": [
      "time: 772 µs\n"
     ]
    }
   ],
   "source": [
    "#code above is not "
   ]
  },
  {
   "cell_type": "code",
   "execution_count": 206,
   "metadata": {},
   "outputs": [
    {
     "data": {
      "text/html": [
       "<div>\n",
       "<style scoped>\n",
       "    .dataframe tbody tr th:only-of-type {\n",
       "        vertical-align: middle;\n",
       "    }\n",
       "\n",
       "    .dataframe tbody tr th {\n",
       "        vertical-align: top;\n",
       "    }\n",
       "\n",
       "    .dataframe thead th {\n",
       "        text-align: right;\n",
       "    }\n",
       "</style>\n",
       "<table border=\"1\" class=\"dataframe\">\n",
       "  <thead>\n",
       "    <tr style=\"text-align: right;\">\n",
       "      <th>label</th>\n",
       "      <th>icustay_id</th>\n",
       "      <th>any_vasoactive</th>\n",
       "      <th>first_admit_age</th>\n",
       "      <th>leukocyte</th>\n",
       "      <th>pao2fio2Ratio</th>\n",
       "      <th>vent_recieved</th>\n",
       "      <th>weight</th>\n",
       "    </tr>\n",
       "  </thead>\n",
       "  <tbody>\n",
       "    <tr>\n",
       "      <th>0</th>\n",
       "      <td>200012.0</td>\n",
       "      <td>0.0</td>\n",
       "      <td>32.99</td>\n",
       "      <td>0</td>\n",
       "      <td>(475, 3000]</td>\n",
       "      <td>0</td>\n",
       "      <td>51.2</td>\n",
       "    </tr>\n",
       "    <tr>\n",
       "      <th>1</th>\n",
       "      <td>200014.0</td>\n",
       "      <td>0.0</td>\n",
       "      <td>84.73</td>\n",
       "      <td>0</td>\n",
       "      <td>(200, 333]</td>\n",
       "      <td>1</td>\n",
       "      <td>62.0</td>\n",
       "    </tr>\n",
       "    <tr>\n",
       "      <th>2</th>\n",
       "      <td>200019.0</td>\n",
       "      <td>0.0</td>\n",
       "      <td>82.88</td>\n",
       "      <td>0</td>\n",
       "      <td>(333, 475]</td>\n",
       "      <td>1</td>\n",
       "      <td>65.0</td>\n",
       "    </tr>\n",
       "    <tr>\n",
       "      <th>3</th>\n",
       "      <td>200030.0</td>\n",
       "      <td>1.0</td>\n",
       "      <td>54.19</td>\n",
       "      <td>0</td>\n",
       "      <td>(333, 475]</td>\n",
       "      <td>0</td>\n",
       "      <td>113.6</td>\n",
       "    </tr>\n",
       "    <tr>\n",
       "      <th>4</th>\n",
       "      <td>200033.0</td>\n",
       "      <td>1.0</td>\n",
       "      <td>67.14</td>\n",
       "      <td>0</td>\n",
       "      <td>(475, 3000]</td>\n",
       "      <td>1</td>\n",
       "      <td>74.0</td>\n",
       "    </tr>\n",
       "  </tbody>\n",
       "</table>\n",
       "</div>"
      ],
      "text/plain": [
       "label  icustay_id any_vasoactive first_admit_age leukocyte pao2fio2Ratio  \\\n",
       "0        200012.0            0.0           32.99         0   (475, 3000]   \n",
       "1        200014.0            0.0           84.73         0    (200, 333]   \n",
       "2        200019.0            0.0           82.88         0    (333, 475]   \n",
       "3        200030.0            1.0           54.19         0    (333, 475]   \n",
       "4        200033.0            1.0           67.14         0   (475, 3000]   \n",
       "\n",
       "label vent_recieved weight  \n",
       "0                 0   51.2  \n",
       "1                 1   62.0  \n",
       "2                 1   65.0  \n",
       "3                 0  113.6  \n",
       "4                 1   74.0  "
      ]
     },
     "execution_count": 206,
     "metadata": {},
     "output_type": "execute_result"
    },
    {
     "name": "stdout",
     "output_type": "stream",
     "text": [
      "time: 25.8 s\n"
     ]
    }
   ],
   "source": [
    "#grabing the rest of the variables not suitable for range or mean/std\n",
    "big_df2=pd.concat([big_df, vaso_active_df], sort=False)\n",
    "\n",
    "agg_remaining= big_df2.loc[big_df2.loc[:,'label'].isin(important_onetime+important_ordinal),:]\n",
    "agg_table2 = pd.pivot_table(agg_remaining, values='value', columns='label', index=['icustay_id'],aggfunc=[max], dropna=False) \n",
    "agg_table2.columns = agg_table2.columns.get_level_values(1)\n",
    "agg_table2=agg_table2.reset_index()\n",
    "agg_table2.head()#.rename(columns={})\n",
    "\n",
    "agg_cont_cat=pd.merge(agg_table1, agg_table2, how='left')"
   ]
  },
  {
   "cell_type": "code",
   "execution_count": 207,
   "metadata": {},
   "outputs": [
    {
     "name": "stdout",
     "output_type": "stream",
     "text": [
      "time: 20.2 ms\n"
     ]
    }
   ],
   "source": [
    "## merging aggregations together\n",
    "#first left join all different newagg together. \n",
    "agg_cont_cat=pd.merge(agg_table1, agg_table2, how='left')"
   ]
  },
  {
   "cell_type": "code",
   "execution_count": 208,
   "metadata": {},
   "outputs": [
    {
     "data": {
      "text/plain": [
       "['icustay_id',\n",
       " 'amax_bun',\n",
       " 'amax_creatinine',\n",
       " 'amax_daily_sofa',\n",
       " 'amax_heartrate',\n",
       " 'amax_meanartpress',\n",
       " 'amax_platelet',\n",
       " 'amax_ptt',\n",
       " 'amax_sysbp',\n",
       " 'amax_temperature',\n",
       " 'amin_bun',\n",
       " 'amin_creatinine',\n",
       " 'amin_daily_sofa',\n",
       " 'amin_heartrate',\n",
       " 'amin_meanartpress',\n",
       " 'amin_platelet',\n",
       " 'amin_ptt',\n",
       " 'amin_sysbp',\n",
       " 'amin_temperature',\n",
       " 'median_bun',\n",
       " 'median_creatinine',\n",
       " 'median_daily_sofa',\n",
       " 'median_heartrate',\n",
       " 'median_meanartpress',\n",
       " 'median_platelet',\n",
       " 'median_ptt',\n",
       " 'median_sysbp',\n",
       " 'median_temperature',\n",
       " 'std_bun',\n",
       " 'std_creatinine',\n",
       " 'std_daily_sofa',\n",
       " 'std_heartrate',\n",
       " 'std_meanartpress',\n",
       " 'std_platelet',\n",
       " 'std_ptt',\n",
       " 'std_sysbp',\n",
       " 'std_temperature',\n",
       " 'any_vasoactive',\n",
       " 'first_admit_age',\n",
       " 'leukocyte',\n",
       " 'pao2fio2Ratio',\n",
       " 'vent_recieved',\n",
       " 'weight']"
      ]
     },
     "execution_count": 208,
     "metadata": {},
     "output_type": "execute_result"
    },
    {
     "name": "stdout",
     "output_type": "stream",
     "text": [
      "time: 1.79 ms\n"
     ]
    }
   ],
   "source": [
    "list(agg_cont_cat)"
   ]
  },
  {
   "cell_type": "code",
   "execution_count": 209,
   "metadata": {},
   "outputs": [
    {
     "data": {
      "text/plain": [
       "(475, 3000]    9903\n",
       "(0, 200]       1885\n",
       "(200, 333]     1422\n",
       "(333, 475]     1260\n",
       "Name: pao2fio2Ratio, dtype: int64"
      ]
     },
     "execution_count": 209,
     "metadata": {},
     "output_type": "execute_result"
    },
    {
     "name": "stdout",
     "output_type": "stream",
     "text": [
      "time: 7.83 ms\n"
     ]
    }
   ],
   "source": [
    "agg_cont_cat['pao2fio2Ratio'].value_counts() "
   ]
  },
  {
   "cell_type": "code",
   "execution_count": 210,
   "metadata": {},
   "outputs": [
    {
     "data": {
      "text/plain": [
       "0.0    9880\n",
       "1.0    4590\n",
       "Name: any_vasoactive, dtype: int64"
      ]
     },
     "execution_count": 210,
     "metadata": {},
     "output_type": "execute_result"
    },
    {
     "name": "stdout",
     "output_type": "stream",
     "text": [
      "time: 5.69 ms\n"
     ]
    }
   ],
   "source": [
    "agg_cont_cat['any_vasoactive'].value_counts() "
   ]
  },
  {
   "cell_type": "code",
   "execution_count": 211,
   "metadata": {},
   "outputs": [
    {
     "data": {
      "text/html": [
       "<div>\n",
       "<style scoped>\n",
       "    .dataframe tbody tr th:only-of-type {\n",
       "        vertical-align: middle;\n",
       "    }\n",
       "\n",
       "    .dataframe tbody tr th {\n",
       "        vertical-align: top;\n",
       "    }\n",
       "\n",
       "    .dataframe thead th {\n",
       "        text-align: right;\n",
       "    }\n",
       "</style>\n",
       "<table border=\"1\" class=\"dataframe\">\n",
       "  <thead>\n",
       "    <tr style=\"text-align: right;\">\n",
       "      <th></th>\n",
       "      <th>icustay_id</th>\n",
       "      <th>amax_bun</th>\n",
       "      <th>amax_creatinine</th>\n",
       "      <th>amax_daily_sofa</th>\n",
       "      <th>amax_heartrate</th>\n",
       "      <th>amax_meanartpress</th>\n",
       "      <th>amax_platelet</th>\n",
       "      <th>amax_ptt</th>\n",
       "      <th>amax_sysbp</th>\n",
       "      <th>amax_temperature</th>\n",
       "      <th>...</th>\n",
       "      <th>std_platelet</th>\n",
       "      <th>std_ptt</th>\n",
       "      <th>std_sysbp</th>\n",
       "      <th>std_temperature</th>\n",
       "      <th>any_vasoactive</th>\n",
       "      <th>first_admit_age</th>\n",
       "      <th>leukocyte</th>\n",
       "      <th>pao2fio2Ratio</th>\n",
       "      <th>vent_recieved</th>\n",
       "      <th>weight</th>\n",
       "    </tr>\n",
       "  </thead>\n",
       "  <tbody>\n",
       "    <tr>\n",
       "      <th>0</th>\n",
       "      <td>200012.0</td>\n",
       "      <td>NaN</td>\n",
       "      <td>NaN</td>\n",
       "      <td>-0.500000</td>\n",
       "      <td>0.077448</td>\n",
       "      <td>0.047571</td>\n",
       "      <td>-0.076639</td>\n",
       "      <td>NaN</td>\n",
       "      <td>-0.022901</td>\n",
       "      <td>0.021964</td>\n",
       "      <td>...</td>\n",
       "      <td>NaN</td>\n",
       "      <td>NaN</td>\n",
       "      <td>0.011027</td>\n",
       "      <td>0.012918</td>\n",
       "      <td>0.0</td>\n",
       "      <td>32.99</td>\n",
       "      <td>0</td>\n",
       "      <td>(475, 3000]</td>\n",
       "      <td>0</td>\n",
       "      <td>51.2</td>\n",
       "    </tr>\n",
       "    <tr>\n",
       "      <th>1</th>\n",
       "      <td>200014.0</td>\n",
       "      <td>0.056406</td>\n",
       "      <td>-0.164150</td>\n",
       "      <td>-0.207519</td>\n",
       "      <td>0.021221</td>\n",
       "      <td>0.263979</td>\n",
       "      <td>-0.067398</td>\n",
       "      <td>-0.030164</td>\n",
       "      <td>0.118889</td>\n",
       "      <td>0.003685</td>\n",
       "      <td>...</td>\n",
       "      <td>0.018384</td>\n",
       "      <td>0.013532</td>\n",
       "      <td>0.061265</td>\n",
       "      <td>0.028030</td>\n",
       "      <td>0.0</td>\n",
       "      <td>84.73</td>\n",
       "      <td>0</td>\n",
       "      <td>(200, 333]</td>\n",
       "      <td>1</td>\n",
       "      <td>62.0</td>\n",
       "    </tr>\n",
       "    <tr>\n",
       "      <th>2</th>\n",
       "      <td>200019.0</td>\n",
       "      <td>0.056406</td>\n",
       "      <td>0.000000</td>\n",
       "      <td>0.403677</td>\n",
       "      <td>-0.064773</td>\n",
       "      <td>0.150264</td>\n",
       "      <td>-0.054275</td>\n",
       "      <td>-0.020962</td>\n",
       "      <td>0.161211</td>\n",
       "      <td>0.032017</td>\n",
       "      <td>...</td>\n",
       "      <td>0.008219</td>\n",
       "      <td>NaN</td>\n",
       "      <td>0.069096</td>\n",
       "      <td>0.016760</td>\n",
       "      <td>0.0</td>\n",
       "      <td>82.88</td>\n",
       "      <td>0</td>\n",
       "      <td>(333, 475]</td>\n",
       "      <td>1</td>\n",
       "      <td>65.0</td>\n",
       "    </tr>\n",
       "    <tr>\n",
       "      <th>3</th>\n",
       "      <td>200030.0</td>\n",
       "      <td>0.104422</td>\n",
       "      <td>0.000000</td>\n",
       "      <td>0.292481</td>\n",
       "      <td>0.132424</td>\n",
       "      <td>0.316786</td>\n",
       "      <td>-0.011133</td>\n",
       "      <td>-0.022099</td>\n",
       "      <td>0.125324</td>\n",
       "      <td>0.043589</td>\n",
       "      <td>...</td>\n",
       "      <td>0.012143</td>\n",
       "      <td>0.023367</td>\n",
       "      <td>0.027687</td>\n",
       "      <td>0.023041</td>\n",
       "      <td>1.0</td>\n",
       "      <td>54.19</td>\n",
       "      <td>0</td>\n",
       "      <td>(333, 475]</td>\n",
       "      <td>0</td>\n",
       "      <td>113.6</td>\n",
       "    </tr>\n",
       "    <tr>\n",
       "      <th>4</th>\n",
       "      <td>200033.0</td>\n",
       "      <td>-0.068362</td>\n",
       "      <td>-0.253202</td>\n",
       "      <td>-0.500000</td>\n",
       "      <td>0.122666</td>\n",
       "      <td>0.125991</td>\n",
       "      <td>-0.061462</td>\n",
       "      <td>-0.034854</td>\n",
       "      <td>0.084386</td>\n",
       "      <td>0.061749</td>\n",
       "      <td>...</td>\n",
       "      <td>0.023777</td>\n",
       "      <td>0.016384</td>\n",
       "      <td>0.030143</td>\n",
       "      <td>0.027794</td>\n",
       "      <td>1.0</td>\n",
       "      <td>67.14</td>\n",
       "      <td>0</td>\n",
       "      <td>(475, 3000]</td>\n",
       "      <td>1</td>\n",
       "      <td>74.0</td>\n",
       "    </tr>\n",
       "  </tbody>\n",
       "</table>\n",
       "<p>5 rows × 43 columns</p>\n",
       "</div>"
      ],
      "text/plain": [
       "   icustay_id  amax_bun  amax_creatinine  amax_daily_sofa  amax_heartrate  \\\n",
       "0    200012.0       NaN              NaN        -0.500000        0.077448   \n",
       "1    200014.0  0.056406        -0.164150        -0.207519        0.021221   \n",
       "2    200019.0  0.056406         0.000000         0.403677       -0.064773   \n",
       "3    200030.0  0.104422         0.000000         0.292481        0.132424   \n",
       "4    200033.0 -0.068362        -0.253202        -0.500000        0.122666   \n",
       "\n",
       "   amax_meanartpress  amax_platelet  amax_ptt  amax_sysbp  amax_temperature  \\\n",
       "0           0.047571      -0.076639       NaN   -0.022901          0.021964   \n",
       "1           0.263979      -0.067398 -0.030164    0.118889          0.003685   \n",
       "2           0.150264      -0.054275 -0.020962    0.161211          0.032017   \n",
       "3           0.316786      -0.011133 -0.022099    0.125324          0.043589   \n",
       "4           0.125991      -0.061462 -0.034854    0.084386          0.061749   \n",
       "\n",
       "    ...    std_platelet   std_ptt  std_sysbp  std_temperature  any_vasoactive  \\\n",
       "0   ...             NaN       NaN   0.011027         0.012918             0.0   \n",
       "1   ...        0.018384  0.013532   0.061265         0.028030             0.0   \n",
       "2   ...        0.008219       NaN   0.069096         0.016760             0.0   \n",
       "3   ...        0.012143  0.023367   0.027687         0.023041             1.0   \n",
       "4   ...        0.023777  0.016384   0.030143         0.027794             1.0   \n",
       "\n",
       "   first_admit_age  leukocyte  pao2fio2Ratio  vent_recieved  weight  \n",
       "0            32.99          0    (475, 3000]              0    51.2  \n",
       "1            84.73          0     (200, 333]              1    62.0  \n",
       "2            82.88          0     (333, 475]              1    65.0  \n",
       "3            54.19          0     (333, 475]              0   113.6  \n",
       "4            67.14          0    (475, 3000]              1    74.0  \n",
       "\n",
       "[5 rows x 43 columns]"
      ]
     },
     "execution_count": 211,
     "metadata": {},
     "output_type": "execute_result"
    },
    {
     "name": "stdout",
     "output_type": "stream",
     "text": [
      "time: 21.2 ms\n"
     ]
    }
   ],
   "source": [
    "agg_cont_cat.head()"
   ]
  },
  {
   "cell_type": "code",
   "execution_count": 212,
   "metadata": {},
   "outputs": [
    {
     "name": "stdout",
     "output_type": "stream",
     "text": [
      "time: 1.01 s\n"
     ]
    }
   ],
   "source": [
    "pd.DataFrame(agg_cont_cat).to_csv(Path(\n",
    "    wd+'/data/processed/merged/%s_newaggdf2_std.csv' %(date)),index=False)"
   ]
  },
  {
   "cell_type": "code",
   "execution_count": null,
   "metadata": {},
   "outputs": [],
   "source": [
    "#YUS, got this reprocessed using a few of the top variables  4-16-19"
   ]
  },
  {
   "cell_type": "code",
   "execution_count": 174,
   "metadata": {},
   "outputs": [
    {
     "data": {
      "text/plain": [
       "'04042019'"
      ]
     },
     "execution_count": 174,
     "metadata": {},
     "output_type": "execute_result"
    },
    {
     "name": "stdout",
     "output_type": "stream",
     "text": [
      "time: 2.33 ms\n"
     ]
    }
   ],
   "source": [
    "        "
   ]
  },
  {
   "cell_type": "code",
   "execution_count": null,
   "metadata": {},
   "outputs": [],
   "source": []
  },
  {
   "cell_type": "code",
   "execution_count": null,
   "metadata": {},
   "outputs": [],
   "source": [
    "# big_categorical[\"icustay_id\"].isin(icustay_id)"
   ]
  },
  {
   "cell_type": "code",
   "execution_count": null,
   "metadata": {},
   "outputs": [],
   "source": [
    "#big_noCat['value']=big_noCat['value'].astype(float, copy=False)\n",
    "#big_noCat.groupby(['icustay_id','label'], as_index=False)['value'].agg(dict1) #"
   ]
  },
  {
   "cell_type": "code",
   "execution_count": null,
   "metadata": {},
   "outputs": [],
   "source": [
    "# test= big_noCat.groupby(['icustay_id'], as_index=False)['value'].agg(dict1)\n",
    "# table = pd.pivot_table(big_noCat, values='value', columns='label', index=['icustay_id'],aggfunc=max, dropna=False)\n",
    "# table\n",
    "\n",
    "# pd.pivot_table(df,index=[\"Manager\",\"Status\"],columns=[\"Product\"],values=[\"Quantity\",\"Price\"],\n",
    "#                aggfunc={\"Quantity\":len,\"Price\":np.sum},fill_value=0)"
   ]
  },
  {
   "cell_type": "code",
   "execution_count": null,
   "metadata": {},
   "outputs": [],
   "source": [
    "# #table = pivot_table(df, values=['D', 'E'], index=['A', 'C'],aggfunc={})\n",
    "# ##don't know why this doesn't work. \n",
    "# table = pd.pivot_table(big_noCat, values='value',columns='label', index='icustay_id',aggfunc=dict1, dropna=False)\n",
    "# table\n"
   ]
  },
  {
   "cell_type": "code",
   "execution_count": null,
   "metadata": {},
   "outputs": [],
   "source": [
    "# big_agg= big_df.loc[big_df.loc[:,'label'].isin(non_category),:].groupby(['icustay_id','label'], as_index=False)['value'].apply(lambda x: float(x))\n",
    "\n",
    "    #.agg({str(x):['max'] for x in hi_value})\n",
    "#big_agg_count= big_agg.reset_index().pivot(index='icustay_id',columns='label', values=0)#, levels='icustay_id')"
   ]
  },
  {
   "cell_type": "code",
   "execution_count": null,
   "metadata": {},
   "outputs": [],
   "source": [
    "# hi_df= big_df.loc[big_df.loc[:,'label'].isin(hi_value),:]\n",
    "# hi_df['value']=hi_df['value'].astype(float, copy=False)\n",
    "# hi_df.groupby(['icustay_id','label'], as_index=False)['value'].agg('max') #this works"
   ]
  },
  {
   "cell_type": "code",
   "execution_count": null,
   "metadata": {},
   "outputs": [],
   "source": [
    "# %whos\n",
    "\n",
    "# del big_agg\n",
    "# del hi_df\n",
    "# del final_pt_df2"
   ]
  },
  {
   "cell_type": "code",
   "execution_count": null,
   "metadata": {},
   "outputs": [],
   "source": []
  },
  {
   "cell_type": "code",
   "execution_count": null,
   "metadata": {},
   "outputs": [],
   "source": []
  },
  {
   "cell_type": "code",
   "execution_count": null,
   "metadata": {},
   "outputs": [],
   "source": []
  }
 ],
 "metadata": {
  "kernelspec": {
   "display_name": "Python 3",
   "language": "python",
   "name": "python3"
  },
  "language_info": {
   "codemirror_mode": {
    "name": "ipython",
    "version": 3
   },
   "file_extension": ".py",
   "mimetype": "text/x-python",
   "name": "python",
   "nbconvert_exporter": "python",
   "pygments_lexer": "ipython3",
   "version": "3.6.8"
  }
 },
 "nbformat": 4,
 "nbformat_minor": 2
}
