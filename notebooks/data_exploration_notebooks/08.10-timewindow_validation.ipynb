{
 "cells": [
  {
   "cell_type": "markdown",
   "metadata": {},
   "source": [
    "the purpose of this notebook is to take the big dataframe created in 07.01-baseline_data_merging, and make an aggregate we can use for our baseline \"worst case\" scenario model. This will then be fed into R, where we will use the MICE package to impute data"
   ]
  },
  {
   "cell_type": "markdown",
   "metadata": {},
   "source": [
    "changelog:\n",
    "\n",
    "* 4/16/19: added newagg\n",
    "* 4/17/19: reformatted the ordering of how code runs, and variable names. added aggregation #3.\n",
    "* 4/19/19: changed the standardizing so that log(x+1) is now applied prior to standardization. also removed ordinal variables from standardizing algorithm and concat them in later with median 0 and iqr 1 so standardize value is either 0 or 1. values from ordinal are not log transformed.\n"
   ]
  },
  {
   "cell_type": "markdown",
   "metadata": {},
   "source": [
    "## last run: 6/9/19: sensitivity analysis 1day timewindow"
   ]
  },
  {
   "cell_type": "code",
   "execution_count": 1,
   "metadata": {},
   "outputs": [
    {
     "name": "stderr",
     "output_type": "stream",
     "text": [
      "/Users/geickelb1/anaconda/envs/rpy-env/lib/python3.6/site-packages/ipykernel_launcher.py:10: DeprecationWarning: The 'cachedir' parameter has been deprecated in version 0.12 and will be removed in version 0.14.\n",
      "You provided \"cachedir='/tmp'\", use \"location='/tmp'\" instead.\n",
      "  # Remove the CWD from sys.path while we load stuff.\n"
     ]
    }
   ],
   "source": [
    "import pandas as pd\n",
    "import matplotlib.pyplot as plt\n",
    "import os\n",
    "from pathlib import Path\n",
    "import seaborn as sns\n",
    "import numpy as np\n",
    "import glob\n",
    "\n",
    "from sklearn.externals.joblib import Memory\n",
    "memory = Memory(cachedir='/tmp', verbose=0)\n",
    "#@memory.cache above any def fxn.\n",
    "\n",
    "%matplotlib inline\n",
    "plt.style.use('ggplot')\n",
    "\n",
    "from notebook.services.config import ConfigManager\n",
    "cm = ConfigManager()\n",
    "cm.update('livereveal', {\n",
    "        'width': 1024,\n",
    "        'height': 768,\n",
    "        'scroll': True,\n",
    "})\n",
    "\n",
    "%load_ext autotime"
   ]
  },
  {
   "cell_type": "code",
   "execution_count": 2,
   "metadata": {},
   "outputs": [
    {
     "name": "stdout",
     "output_type": "stream",
     "text": [
      "time: 92.1 ms\n"
     ]
    }
   ],
   "source": [
    "#cohort import\n",
    "\n",
    "os.chdir('/Users/geickelb1/Documents/GitHub/mimiciii-antibiotics-modeling') #use to change working directory\n",
    "wd= os.getcwd() #'/Users/geickelb1/Documents/GitHub/mimiciii-antibiotics-modeling'\n",
    "\n",
    "\n",
    "final_pt_df2 = pd.read_csv(Path(wd + '/data/raw/csv/04042019_final_pt_df2_v.csv') , index_col=0) #only for patients with minimum vitals, 14478 icustay_id\n",
    "patients= list(final_pt_df2['subject_id'].unique())\n",
    "hadm_id= list(final_pt_df2['hadm_id'].unique())\n",
    "icustay_id= list(final_pt_df2['icustay_id'].unique())\n",
    "icustay_id= [int(x) for x in icustay_id]"
   ]
  },
  {
   "cell_type": "code",
   "execution_count": 3,
   "metadata": {},
   "outputs": [
    {
     "name": "stdout",
     "output_type": "stream",
     "text": [
      "time: 5.15 s\n"
     ]
    }
   ],
   "source": [
    "#importing in all clinical_variable files\n",
    "timewindowdays=\"_24\"\n",
    "# date= '04042019'\n",
    "date='09062019'\n",
    "os.chdir(r'/Users/geickelb1/Documents/GitHub/mimiciii-antibiotics-modeling/data/processed/')\n",
    "big_df= pd.read_csv(Path(wd+'/data/processed/merged/{}_longdf_preImp{}.csv'.format(date,timewindowdays),  index_col=0))\n",
    "big_df= big_df.reset_index(drop=True).iloc[:,1:]\n"
   ]
  },
  {
   "cell_type": "code",
   "execution_count": 4,
   "metadata": {},
   "outputs": [
    {
     "name": "stdout",
     "output_type": "stream",
     "text": [
      "time: 882 µs\n"
     ]
    }
   ],
   "source": [
    "## last minute data cleaning/formatting\n",
    "\n",
    "# #removing firstpos else neg ssc col\n",
    "# big_df=big_df.loc[:,list(big_df.columns!=\"first_pos_else_neg_ssc\")]\n",
    "# #changing pao2/fio2 ratio label\n",
    "# big_df.loc[big_df['label']==\"pao2/fio2\",'label']=\"pao2fio2Ratio\""
   ]
  },
  {
   "cell_type": "code",
   "execution_count": 5,
   "metadata": {},
   "outputs": [
    {
     "data": {
      "text/html": [
       "<div>\n",
       "<style scoped>\n",
       "    .dataframe tbody tr th:only-of-type {\n",
       "        vertical-align: middle;\n",
       "    }\n",
       "\n",
       "    .dataframe tbody tr th {\n",
       "        vertical-align: top;\n",
       "    }\n",
       "\n",
       "    .dataframe thead th {\n",
       "        text-align: right;\n",
       "    }\n",
       "</style>\n",
       "<table border=\"1\" class=\"dataframe\">\n",
       "  <thead>\n",
       "    <tr style=\"text-align: right;\">\n",
       "      <th></th>\n",
       "      <th>count</th>\n",
       "      <th>unique</th>\n",
       "      <th>top</th>\n",
       "      <th>freq</th>\n",
       "    </tr>\n",
       "    <tr>\n",
       "      <th>label</th>\n",
       "      <th></th>\n",
       "      <th></th>\n",
       "      <th></th>\n",
       "      <th></th>\n",
       "    </tr>\n",
       "  </thead>\n",
       "  <tbody>\n",
       "    <tr>\n",
       "      <th>leukocyte</th>\n",
       "      <td>14181</td>\n",
       "      <td>2</td>\n",
       "      <td>Neg/Not_tested</td>\n",
       "      <td>12594</td>\n",
       "    </tr>\n",
       "    <tr>\n",
       "      <th>norepinephrine</th>\n",
       "      <td>23243</td>\n",
       "      <td>2</td>\n",
       "      <td>0.0</td>\n",
       "      <td>11710</td>\n",
       "    </tr>\n",
       "    <tr>\n",
       "      <th>vasopressin</th>\n",
       "      <td>15180</td>\n",
       "      <td>2</td>\n",
       "      <td>0.0</td>\n",
       "      <td>13889</td>\n",
       "    </tr>\n",
       "    <tr>\n",
       "      <th>o2_flow</th>\n",
       "      <td>14277</td>\n",
       "      <td>2</td>\n",
       "      <td>0.0</td>\n",
       "      <td>13766</td>\n",
       "    </tr>\n",
       "    <tr>\n",
       "      <th>cancer_elix</th>\n",
       "      <td>14181</td>\n",
       "      <td>2</td>\n",
       "      <td>0.0</td>\n",
       "      <td>12439</td>\n",
       "    </tr>\n",
       "    <tr>\n",
       "      <th>gender</th>\n",
       "      <td>14181</td>\n",
       "      <td>2</td>\n",
       "      <td>M</td>\n",
       "      <td>7776</td>\n",
       "    </tr>\n",
       "    <tr>\n",
       "      <th>rrt</th>\n",
       "      <td>14181</td>\n",
       "      <td>2</td>\n",
       "      <td>0.0</td>\n",
       "      <td>13235</td>\n",
       "    </tr>\n",
       "    <tr>\n",
       "      <th>phenylephrine</th>\n",
       "      <td>19830</td>\n",
       "      <td>2</td>\n",
       "      <td>0.0</td>\n",
       "      <td>12317</td>\n",
       "    </tr>\n",
       "    <tr>\n",
       "      <th>nitrite</th>\n",
       "      <td>14181</td>\n",
       "      <td>2</td>\n",
       "      <td>Neg/Not_tested</td>\n",
       "      <td>13858</td>\n",
       "    </tr>\n",
       "    <tr>\n",
       "      <th>dobutamine</th>\n",
       "      <td>14634</td>\n",
       "      <td>2</td>\n",
       "      <td>0.0</td>\n",
       "      <td>14015</td>\n",
       "    </tr>\n",
       "    <tr>\n",
       "      <th>dopamine</th>\n",
       "      <td>16648</td>\n",
       "      <td>2</td>\n",
       "      <td>0.0</td>\n",
       "      <td>13435</td>\n",
       "    </tr>\n",
       "    <tr>\n",
       "      <th>epinephrine</th>\n",
       "      <td>14889</td>\n",
       "      <td>2</td>\n",
       "      <td>0.0</td>\n",
       "      <td>13932</td>\n",
       "    </tr>\n",
       "    <tr>\n",
       "      <th>vent_recieved</th>\n",
       "      <td>13991</td>\n",
       "      <td>3</td>\n",
       "      <td>Mech</td>\n",
       "      <td>6772</td>\n",
       "    </tr>\n",
       "    <tr>\n",
       "      <th>ethnicity</th>\n",
       "      <td>14181</td>\n",
       "      <td>5</td>\n",
       "      <td>white/nonhispanic</td>\n",
       "      <td>10330</td>\n",
       "    </tr>\n",
       "    <tr>\n",
       "      <th>mingcs</th>\n",
       "      <td>4052</td>\n",
       "      <td>13</td>\n",
       "      <td>15.0</td>\n",
       "      <td>1561</td>\n",
       "    </tr>\n",
       "    <tr>\n",
       "      <th>sum_elix</th>\n",
       "      <td>15226</td>\n",
       "      <td>13</td>\n",
       "      <td>0.0</td>\n",
       "      <td>10058</td>\n",
       "    </tr>\n",
       "    <tr>\n",
       "      <th>daily_sofa</th>\n",
       "      <td>23147</td>\n",
       "      <td>23</td>\n",
       "      <td>1</td>\n",
       "      <td>4143</td>\n",
       "    </tr>\n",
       "    <tr>\n",
       "      <th>bicarbonate</th>\n",
       "      <td>25921</td>\n",
       "      <td>53</td>\n",
       "      <td>23.0</td>\n",
       "      <td>2110</td>\n",
       "    </tr>\n",
       "    <tr>\n",
       "      <th>resprate</th>\n",
       "      <td>407522</td>\n",
       "      <td>68</td>\n",
       "      <td>20.0</td>\n",
       "      <td>32246</td>\n",
       "    </tr>\n",
       "    <tr>\n",
       "      <th>sodium</th>\n",
       "      <td>31147</td>\n",
       "      <td>80</td>\n",
       "      <td>138.0</td>\n",
       "      <td>2802</td>\n",
       "    </tr>\n",
       "    <tr>\n",
       "      <th>bands</th>\n",
       "      <td>2176</td>\n",
       "      <td>82</td>\n",
       "      <td>1.0</td>\n",
       "      <td>247</td>\n",
       "    </tr>\n",
       "    <tr>\n",
       "      <th>chloride</th>\n",
       "      <td>29547</td>\n",
       "      <td>83</td>\n",
       "      <td>107.0</td>\n",
       "      <td>1819</td>\n",
       "    </tr>\n",
       "    <tr>\n",
       "      <th>potassium</th>\n",
       "      <td>38316</td>\n",
       "      <td>97</td>\n",
       "      <td>4.0</td>\n",
       "      <td>2498</td>\n",
       "    </tr>\n",
       "    <tr>\n",
       "      <th>spo2</th>\n",
       "      <td>371310</td>\n",
       "      <td>100</td>\n",
       "      <td>100.0</td>\n",
       "      <td>93996</td>\n",
       "    </tr>\n",
       "    <tr>\n",
       "      <th>ph</th>\n",
       "      <td>34369</td>\n",
       "      <td>101</td>\n",
       "      <td>7.4</td>\n",
       "      <td>1678</td>\n",
       "    </tr>\n",
       "    <tr>\n",
       "      <th>pco2</th>\n",
       "      <td>19355</td>\n",
       "      <td>123</td>\n",
       "      <td>40.0</td>\n",
       "      <td>956</td>\n",
       "    </tr>\n",
       "    <tr>\n",
       "      <th>height</th>\n",
       "      <td>9339</td>\n",
       "      <td>126</td>\n",
       "      <td>177.8</td>\n",
       "      <td>607</td>\n",
       "    </tr>\n",
       "    <tr>\n",
       "      <th>inr</th>\n",
       "      <td>17900</td>\n",
       "      <td>146</td>\n",
       "      <td>1.2</td>\n",
       "      <td>2600</td>\n",
       "    </tr>\n",
       "    <tr>\n",
       "      <th>calcium</th>\n",
       "      <td>14388</td>\n",
       "      <td>160</td>\n",
       "      <td>1.13</td>\n",
       "      <td>703</td>\n",
       "    </tr>\n",
       "    <tr>\n",
       "      <th>hemoglobin</th>\n",
       "      <td>28954</td>\n",
       "      <td>164</td>\n",
       "      <td>10.2</td>\n",
       "      <td>642</td>\n",
       "    </tr>\n",
       "    <tr>\n",
       "      <th>creatinine</th>\n",
       "      <td>25742</td>\n",
       "      <td>166</td>\n",
       "      <td>0.7</td>\n",
       "      <td>2007</td>\n",
       "    </tr>\n",
       "    <tr>\n",
       "      <th>diasbp</th>\n",
       "      <td>373645</td>\n",
       "      <td>180</td>\n",
       "      <td>56.0</td>\n",
       "      <td>11904</td>\n",
       "    </tr>\n",
       "    <tr>\n",
       "      <th>bun</th>\n",
       "      <td>25625</td>\n",
       "      <td>194</td>\n",
       "      <td>15.0</td>\n",
       "      <td>770</td>\n",
       "    </tr>\n",
       "    <tr>\n",
       "      <th>heartrate</th>\n",
       "      <td>387408</td>\n",
       "      <td>197</td>\n",
       "      <td>80.0</td>\n",
       "      <td>10371</td>\n",
       "    </tr>\n",
       "    <tr>\n",
       "      <th>sysbp</th>\n",
       "      <td>375364</td>\n",
       "      <td>223</td>\n",
       "      <td>103.0</td>\n",
       "      <td>7211</td>\n",
       "    </tr>\n",
       "    <tr>\n",
       "      <th>lactate</th>\n",
       "      <td>20927</td>\n",
       "      <td>255</td>\n",
       "      <td>1.2</td>\n",
       "      <td>894</td>\n",
       "    </tr>\n",
       "    <tr>\n",
       "      <th>bilirubin</th>\n",
       "      <td>8251</td>\n",
       "      <td>300</td>\n",
       "      <td>0.4</td>\n",
       "      <td>774</td>\n",
       "    </tr>\n",
       "    <tr>\n",
       "      <th>temperature</th>\n",
       "      <td>118052</td>\n",
       "      <td>514</td>\n",
       "      <td>36.6666666666667</td>\n",
       "      <td>3126</td>\n",
       "    </tr>\n",
       "    <tr>\n",
       "      <th>meanartpress</th>\n",
       "      <td>379442</td>\n",
       "      <td>565</td>\n",
       "      <td>71.0</td>\n",
       "      <td>9907</td>\n",
       "    </tr>\n",
       "    <tr>\n",
       "      <th>wbc</th>\n",
       "      <td>22699</td>\n",
       "      <td>663</td>\n",
       "      <td>9.9</td>\n",
       "      <td>183</td>\n",
       "    </tr>\n",
       "    <tr>\n",
       "      <th>glucose</th>\n",
       "      <td>93085</td>\n",
       "      <td>668</td>\n",
       "      <td>110.0</td>\n",
       "      <td>960</td>\n",
       "    </tr>\n",
       "    <tr>\n",
       "      <th>platelet</th>\n",
       "      <td>23592</td>\n",
       "      <td>795</td>\n",
       "      <td>142.0</td>\n",
       "      <td>109</td>\n",
       "    </tr>\n",
       "    <tr>\n",
       "      <th>pao2fio2ratio</th>\n",
       "      <td>14181</td>\n",
       "      <td>993</td>\n",
       "      <td>476.0</td>\n",
       "      <td>9273</td>\n",
       "    </tr>\n",
       "    <tr>\n",
       "      <th>ptt</th>\n",
       "      <td>18540</td>\n",
       "      <td>1073</td>\n",
       "      <td>150.0</td>\n",
       "      <td>505</td>\n",
       "    </tr>\n",
       "    <tr>\n",
       "      <th>weight</th>\n",
       "      <td>12895</td>\n",
       "      <td>1400</td>\n",
       "      <td>70.0</td>\n",
       "      <td>246</td>\n",
       "    </tr>\n",
       "    <tr>\n",
       "      <th>first_admit_age</th>\n",
       "      <td>14181</td>\n",
       "      <td>5008</td>\n",
       "      <td>300.0</td>\n",
       "      <td>890</td>\n",
       "    </tr>\n",
       "  </tbody>\n",
       "</table>\n",
       "</div>"
      ],
      "text/plain": [
       "                  count unique                top   freq\n",
       "label                                                   \n",
       "leukocyte         14181      2     Neg/Not_tested  12594\n",
       "norepinephrine    23243      2                0.0  11710\n",
       "vasopressin       15180      2                0.0  13889\n",
       "o2_flow           14277      2                0.0  13766\n",
       "cancer_elix       14181      2                0.0  12439\n",
       "gender            14181      2                  M   7776\n",
       "rrt               14181      2                0.0  13235\n",
       "phenylephrine     19830      2                0.0  12317\n",
       "nitrite           14181      2     Neg/Not_tested  13858\n",
       "dobutamine        14634      2                0.0  14015\n",
       "dopamine          16648      2                0.0  13435\n",
       "epinephrine       14889      2                0.0  13932\n",
       "vent_recieved     13991      3               Mech   6772\n",
       "ethnicity         14181      5  white/nonhispanic  10330\n",
       "mingcs             4052     13               15.0   1561\n",
       "sum_elix          15226     13                0.0  10058\n",
       "daily_sofa        23147     23                  1   4143\n",
       "bicarbonate       25921     53               23.0   2110\n",
       "resprate         407522     68               20.0  32246\n",
       "sodium            31147     80              138.0   2802\n",
       "bands              2176     82                1.0    247\n",
       "chloride          29547     83              107.0   1819\n",
       "potassium         38316     97                4.0   2498\n",
       "spo2             371310    100              100.0  93996\n",
       "ph                34369    101                7.4   1678\n",
       "pco2              19355    123               40.0    956\n",
       "height             9339    126              177.8    607\n",
       "inr               17900    146                1.2   2600\n",
       "calcium           14388    160               1.13    703\n",
       "hemoglobin        28954    164               10.2    642\n",
       "creatinine        25742    166                0.7   2007\n",
       "diasbp           373645    180               56.0  11904\n",
       "bun               25625    194               15.0    770\n",
       "heartrate        387408    197               80.0  10371\n",
       "sysbp            375364    223              103.0   7211\n",
       "lactate           20927    255                1.2    894\n",
       "bilirubin          8251    300                0.4    774\n",
       "temperature      118052    514   36.6666666666667   3126\n",
       "meanartpress     379442    565               71.0   9907\n",
       "wbc               22699    663                9.9    183\n",
       "glucose           93085    668              110.0    960\n",
       "platelet          23592    795              142.0    109\n",
       "pao2fio2ratio     14181    993              476.0   9273\n",
       "ptt               18540   1073              150.0    505\n",
       "weight            12895   1400               70.0    246\n",
       "first_admit_age   14181   5008              300.0    890"
      ]
     },
     "execution_count": 5,
     "metadata": {},
     "output_type": "execute_result"
    },
    {
     "name": "stdout",
     "output_type": "stream",
     "text": [
      "time: 792 ms\n"
     ]
    }
   ],
   "source": [
    "#overview of all variables and formats\n",
    "big_df.groupby('label')['value'].describe().sort_values('unique')"
   ]
  },
  {
   "cell_type": "markdown",
   "metadata": {},
   "source": [
    "## initial data prep"
   ]
  },
  {
   "cell_type": "code",
   "execution_count": 6,
   "metadata": {},
   "outputs": [
    {
     "name": "stdout",
     "output_type": "stream",
     "text": [
      "time: 790 µs\n"
     ]
    }
   ],
   "source": [
    "# #converting venttype to category\n",
    "# big_df.loc[big_df.loc[:,'label']=='vent_recieved','value']= big_df.loc[big_df.loc[:,'label']=='vent_recieved','value'].astype('category')\n",
    "# #big_df.loc[big_df.loc[:,'label']=='vent_recieved','value'].apply(astype('category'))\n",
    "# big_df.loc[big_df.loc[:,'label']=='vent_recieved','value'] = pd.Categorical(big_df.loc[big_df.loc[:,'label']=='vent_recieved','value'])"
   ]
  },
  {
   "cell_type": "code",
   "execution_count": 7,
   "metadata": {},
   "outputs": [
    {
     "name": "stdout",
     "output_type": "stream",
     "text": [
      "time: 1.65 s\n"
     ]
    }
   ],
   "source": [
    "#converting categories to integers\n",
    "mapper={'Mech':2 , 'Oxygen': 1, 'None': 0}\n",
    "big_df.loc[big_df.loc[:,'label']=='vent_recieved','value']=big_df.loc[big_df.loc[:,'label']=='vent_recieved','value'].replace(mapper)\n",
    "\n",
    "#gender_index=pd.factorize(big_df.loc[big_df.loc[:,'label']=='gender','value'])[1]\n",
    "mapper={'F':0 , 'M': 1}\n",
    "big_df.loc[big_df.loc[:,'label']=='gender','value']=big_df.loc[big_df.loc[:,'label']=='gender','value'].replace(mapper)\n",
    "\n",
    "#leukocyte_index=pd.factorize(big_df.loc[big_df.loc[:,'label']=='leukocyte','value'])[1]\n",
    "mapper={'Neg/Not_tested':0 , 'pos': 1}\n",
    "big_df.loc[big_df.loc[:,'label']=='leukocyte','value']=big_df.loc[big_df.loc[:,'label']=='leukocyte','value'].replace(mapper)\n",
    "#     pd.factorize(big_df.loc[big_df.loc[:,'label']=='leukocyte','value'])[0] \n",
    "\n",
    "#nitrite_index=pd.factorize(big_df.loc[big_df.loc[:,'label']=='nitrite','value'])[1]\n",
    "mapper={'Neg/Not_tested':0 , 'pos': 1}\n",
    "big_df.loc[big_df.loc[:,'label']=='nitrite','value']=big_df.loc[big_df.loc[:,'label']=='nitrite','value'].replace(mapper)\n",
    "#     pd.factorize(big_df.loc[big_df.loc[:,'label']=='nitrite','value'])[0] \n"
   ]
  },
  {
   "cell_type": "code",
   "execution_count": 8,
   "metadata": {},
   "outputs": [
    {
     "data": {
      "text/plain": [
       "2    6772\n",
       "1    6417\n",
       "0     802\n",
       "Name: value, dtype: int64"
      ]
     },
     "execution_count": 8,
     "metadata": {},
     "output_type": "execute_result"
    },
    {
     "name": "stdout",
     "output_type": "stream",
     "text": [
      "time: 132 ms\n"
     ]
    }
   ],
   "source": [
    "big_df.loc[big_df.loc[:,'label']=='vent_recieved','value'].value_counts()"
   ]
  },
  {
   "cell_type": "code",
   "execution_count": 9,
   "metadata": {},
   "outputs": [
    {
     "data": {
      "text/plain": [
       "2    6772\n",
       "1    6417\n",
       "0     802\n",
       "Name: value, dtype: int64"
      ]
     },
     "execution_count": 9,
     "metadata": {},
     "output_type": "execute_result"
    },
    {
     "name": "stdout",
     "output_type": "stream",
     "text": [
      "time: 129 ms\n"
     ]
    }
   ],
   "source": [
    "big_df.loc[big_df.loc[:,'label']=='vent_recieved','value'].value_counts()"
   ]
  },
  {
   "cell_type": "markdown",
   "metadata": {},
   "source": [
    "#exploring alternative "
   ]
  },
  {
   "cell_type": "markdown",
   "metadata": {},
   "source": [
    "# changing pao2/fio2 ratio to a category\n",
    "A PaO2/FiO2 ratio less than or equal to 200 is necessary for the diagnosis of acute respiratory distress syndrome by the AECC criteria.[6] \n",
    "The more recent Berlin criteria defines mild ARDS at a ratio of <300.\n",
    "\n",
    "A PaO2/FiO2 ratio less than or equal to 250 is one of the minor criteria for severe community acquired pneumonia (i.e., possible indication for inpatient treatment).\n",
    "\n",
    "A PaO2/FiO2 ratio less than or equal to 333 is one of the variables in the SMART-COP risk score for intensive respiratory or vasopressor support in community-acquired pneumonia.\n",
    "\n"
   ]
  },
  {
   "cell_type": "code",
   "execution_count": 10,
   "metadata": {},
   "outputs": [
    {
     "data": {
      "text/plain": [
       "(475, 3000]    10378\n",
       "(0, 200]        1364\n",
       "(333, 475]      1267\n",
       "(200, 333]      1172\n",
       "Name: value, dtype: int64"
      ]
     },
     "execution_count": 10,
     "metadata": {},
     "output_type": "execute_result"
    },
    {
     "name": "stdout",
     "output_type": "stream",
     "text": [
      "time: 818 ms\n"
     ]
    }
   ],
   "source": [
    "pd.to_numeric(big_df[big_df['label']==\"pao2fio2ratio\"]['value'])\n",
    "labels= ['0-200', '201-333', \"334-475\",\"476+\"]\n",
    "bins = pd.IntervalIndex.from_tuples([(0, 200), (200, 333), (333, 475),(475,3000)])\n",
    "\n",
    "big_df.loc[big_df['label']==\"pao2fio2ratio\",'value']=pd.cut(pd.to_numeric(big_df.loc[big_df['label']==\"pao2fio2ratio\",'value']), bins,right=False, labels=labels)\n",
    "big_df.loc[big_df['label']==\"pao2fio2ratio\",'value'].value_counts()\n"
   ]
  },
  {
   "cell_type": "code",
   "execution_count": null,
   "metadata": {},
   "outputs": [],
   "source": []
  },
  {
   "cell_type": "code",
   "execution_count": null,
   "metadata": {},
   "outputs": [],
   "source": []
  },
  {
   "cell_type": "markdown",
   "metadata": {},
   "source": [
    "# investigating the dataframe time window between t_0 and t_0 + w, \n",
    "* where w is the window length. default was 72, with 48 and 24 being used in the sensitivity analysis"
   ]
  },
  {
   "cell_type": "code",
   "execution_count": 11,
   "metadata": {},
   "outputs": [
    {
     "data": {
      "text/html": [
       "<div>\n",
       "<style scoped>\n",
       "    .dataframe tbody tr th:only-of-type {\n",
       "        vertical-align: middle;\n",
       "    }\n",
       "\n",
       "    .dataframe tbody tr th {\n",
       "        vertical-align: top;\n",
       "    }\n",
       "\n",
       "    .dataframe thead th {\n",
       "        text-align: right;\n",
       "    }\n",
       "</style>\n",
       "<table border=\"1\" class=\"dataframe\">\n",
       "  <thead>\n",
       "    <tr style=\"text-align: right;\">\n",
       "      <th></th>\n",
       "      <th>icustay_id</th>\n",
       "      <th>delta</th>\n",
       "      <th>value</th>\n",
       "      <th>uom</th>\n",
       "      <th>t_0</th>\n",
       "      <th>label</th>\n",
       "      <th>source</th>\n",
       "      <th>subject_id</th>\n",
       "    </tr>\n",
       "  </thead>\n",
       "  <tbody>\n",
       "    <tr>\n",
       "      <th>0</th>\n",
       "      <td>200012.0</td>\n",
       "      <td>0 days 00:00:00.000000000</td>\n",
       "      <td>0.0</td>\n",
       "      <td>y/n</td>\n",
       "      <td>2153-12-23</td>\n",
       "      <td>cancer_elix</td>\n",
       "      <td>cancer_elix</td>\n",
       "      <td>28448</td>\n",
       "    </tr>\n",
       "    <tr>\n",
       "      <th>1</th>\n",
       "      <td>200012.0</td>\n",
       "      <td>0 days 00:00:00.000000000</td>\n",
       "      <td>1</td>\n",
       "      <td>daily_sofa_score</td>\n",
       "      <td>2153-12-23</td>\n",
       "      <td>daily_sofa</td>\n",
       "      <td>sofa</td>\n",
       "      <td>28448</td>\n",
       "    </tr>\n",
       "    <tr>\n",
       "      <th>2</th>\n",
       "      <td>200012.0</td>\n",
       "      <td>0 days 00:00:00.000000000</td>\n",
       "      <td>0.0</td>\n",
       "      <td>y/n</td>\n",
       "      <td>2153-12-23</td>\n",
       "      <td>dobutamine</td>\n",
       "      <td>dobutamine</td>\n",
       "      <td>28448</td>\n",
       "    </tr>\n",
       "    <tr>\n",
       "      <th>3</th>\n",
       "      <td>200012.0</td>\n",
       "      <td>0 days 00:00:00.000000000</td>\n",
       "      <td>0.0</td>\n",
       "      <td>y/n</td>\n",
       "      <td>2153-12-23</td>\n",
       "      <td>dopamine</td>\n",
       "      <td>dopamine</td>\n",
       "      <td>28448</td>\n",
       "    </tr>\n",
       "    <tr>\n",
       "      <th>4</th>\n",
       "      <td>200012.0</td>\n",
       "      <td>0 days 00:00:00.000000000</td>\n",
       "      <td>0.0</td>\n",
       "      <td>y/n</td>\n",
       "      <td>2153-12-23</td>\n",
       "      <td>epinephrine</td>\n",
       "      <td>epinephrine</td>\n",
       "      <td>28448</td>\n",
       "    </tr>\n",
       "  </tbody>\n",
       "</table>\n",
       "</div>"
      ],
      "text/plain": [
       "   icustay_id                      delta value               uom         t_0  \\\n",
       "0    200012.0  0 days 00:00:00.000000000   0.0               y/n  2153-12-23   \n",
       "1    200012.0  0 days 00:00:00.000000000     1  daily_sofa_score  2153-12-23   \n",
       "2    200012.0  0 days 00:00:00.000000000   0.0               y/n  2153-12-23   \n",
       "3    200012.0  0 days 00:00:00.000000000   0.0               y/n  2153-12-23   \n",
       "4    200012.0  0 days 00:00:00.000000000   0.0               y/n  2153-12-23   \n",
       "\n",
       "         label       source  subject_id  \n",
       "0  cancer_elix  cancer_elix       28448  \n",
       "1   daily_sofa         sofa       28448  \n",
       "2   dobutamine   dobutamine       28448  \n",
       "3     dopamine     dopamine       28448  \n",
       "4  epinephrine  epinephrine       28448  "
      ]
     },
     "execution_count": 11,
     "metadata": {},
     "output_type": "execute_result"
    },
    {
     "name": "stdout",
     "output_type": "stream",
     "text": [
      "time: 9.77 ms\n"
     ]
    }
   ],
   "source": [
    "big_df.head()"
   ]
  },
  {
   "cell_type": "code",
   "execution_count": 13,
   "metadata": {},
   "outputs": [
    {
     "data": {
      "text/plain": [
       "count                   3204122\n",
       "mean     0 days 11:05:57.807424\n",
       "std      0 days 07:25:15.262627\n",
       "min             0 days 00:00:00\n",
       "25%             0 days 04:20:00\n",
       "50%             0 days 11:00:00\n",
       "75%             0 days 17:00:00\n",
       "max             2 days 00:00:00\n",
       "Name: delta, dtype: object"
      ]
     },
     "execution_count": 13,
     "metadata": {},
     "output_type": "execute_result"
    },
    {
     "name": "stdout",
     "output_type": "stream",
     "text": [
      "time: 10.5 s\n"
     ]
    }
   ],
   "source": [
    "pd.to_timedelta(big_df['delta']).describe()"
   ]
  },
  {
   "cell_type": "code",
   "execution_count": null,
   "metadata": {},
   "outputs": [],
   "source": [
    "(pd.to_datetime(final_pt_df2['t_0_sc'])-pd.to_datetime(final_pt_df2['ICU_admit'])).describe() #icu admit time - ssc time"
   ]
  },
  {
   "cell_type": "code",
   "execution_count": 14,
   "metadata": {},
   "outputs": [
    {
     "data": {
      "text/plain": [
       "14181"
      ]
     },
     "execution_count": 14,
     "metadata": {},
     "output_type": "execute_result"
    },
    {
     "name": "stdout",
     "output_type": "stream",
     "text": [
      "time: 1.81 ms\n"
     ]
    }
   ],
   "source": [
    "len(final_pt_df2)"
   ]
  },
  {
   "cell_type": "code",
   "execution_count": null,
   "metadata": {},
   "outputs": [],
   "source": []
  },
  {
   "cell_type": "code",
   "execution_count": null,
   "metadata": {},
   "outputs": [],
   "source": []
  },
  {
   "cell_type": "code",
   "execution_count": null,
   "metadata": {},
   "outputs": [],
   "source": []
  }
 ],
 "metadata": {
  "kernelspec": {
   "display_name": "Python 3",
   "language": "python",
   "name": "python3"
  },
  "language_info": {
   "codemirror_mode": {
    "name": "ipython",
    "version": 3
   },
   "file_extension": ".py",
   "mimetype": "text/x-python",
   "name": "python",
   "nbconvert_exporter": "python",
   "pygments_lexer": "ipython3",
   "version": "3.6.8"
  }
 },
 "nbformat": 4,
 "nbformat_minor": 2
}
