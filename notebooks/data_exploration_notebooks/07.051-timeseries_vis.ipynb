{
 "cells": [
  {
   "cell_type": "code",
   "execution_count": 192,
   "metadata": {},
   "outputs": [
    {
     "name": "stdout",
     "output_type": "stream",
     "text": [
      "The autotime extension is already loaded. To reload it, use:\n",
      "  %reload_ext autotime\n",
      "time: 23.7 ms\n"
     ]
    },
    {
     "name": "stderr",
     "output_type": "stream",
     "text": [
      "/Users/geickelb1/anaconda/envs/rpy-env/lib/python3.6/site-packages/ipykernel_launcher.py:11: DeprecationWarning: The 'cachedir' parameter has been deprecated in version 0.12 and will be removed in version 0.14.\n",
      "You provided \"cachedir='/tmp'\", use \"location='/tmp'\" instead.\n",
      "  # This is added back by InteractiveShellApp.init_path()\n"
     ]
    }
   ],
   "source": [
    "import pandas as pd\n",
    "import matplotlib.pyplot as plt\n",
    "import os\n",
    "from pathlib import Path\n",
    "import seaborn as sns\n",
    "import numpy as np\n",
    "import glob\n",
    "\n",
    "from sklearn.model_selection import train_test_split\n",
    "\n",
    "#@memory.cache above any def fxn.\n",
    "\n",
    "%matplotlib inline\n",
    "plt.style.use('ggplot')\n",
    "\n",
    "from notebook.services.config import ConfigManager\n",
    "cm = ConfigManager()\n",
    "cm.update('livereveal', {\n",
    "        'width': 1024,\n",
    "        'height': 768,\n",
    "        'scroll': True,\n",
    "})\n",
    "\n",
    "#datavis magic\n",
    "\n",
    "plt.rcParams['figure.figsize'] = [15, 10]\n",
    "\n",
    "%load_ext autotime"
   ]
  },
  {
   "cell_type": "code",
   "execution_count": 193,
   "metadata": {},
   "outputs": [
    {
     "name": "stdout",
     "output_type": "stream",
     "text": [
      "time: 111 ms\n"
     ]
    }
   ],
   "source": [
    "#cohort import\n",
    "\n",
    "os.chdir('/Users/geickelb1/Documents/GitHub/mimiciii-antibiotics-modeling') #use to change working directory\n",
    "wd= os.getcwd() #'/Users/geickelb1/Documents/GitHub/mimiciii-antibiotics-modeling'\n",
    "\n",
    "\n",
    "final_pt_df2 = pd.read_csv(Path(wd + '/data/raw/csv/04042019_final_pt_df2_v.csv') , index_col=0) #only for patients with minimum vitals, 14478 icustay_id\n",
    "patients= list(final_pt_df2['subject_id'].unique())\n",
    "hadm_id= list(final_pt_df2['hadm_id'].unique())\n",
    "icustay_id= list(final_pt_df2['icustay_id'].unique())\n",
    "icustay_id= [int(x) for x in icustay_id]"
   ]
  },
  {
   "cell_type": "code",
   "execution_count": 194,
   "metadata": {},
   "outputs": [
    {
     "data": {
      "text/plain": [
       "11987"
      ]
     },
     "execution_count": 194,
     "metadata": {},
     "output_type": "execute_result"
    },
    {
     "name": "stdout",
     "output_type": "stream",
     "text": [
      "time: 2.57 ms\n"
     ]
    }
   ],
   "source": [
    "len(patients)"
   ]
  },
  {
   "cell_type": "code",
   "execution_count": 195,
   "metadata": {},
   "outputs": [
    {
     "name": "stdout",
     "output_type": "stream",
     "text": [
      "time: 13.3 s\n"
     ]
    }
   ],
   "source": [
    "\n",
    "# # ##24 hr sensitivity\n",
    "# # #importing in all clinical_variable files\n",
    "# lower_window=0\n",
    "# upper_window=1\n",
    "# time_col=\"charttime\"\n",
    "# time_var=\"t_0\"\n",
    "# folder=\"24_hr_window\"\n",
    "# timewindowdays=\"24\"\n",
    "# date= '09062019'\n",
    "# patient_df= final_pt_df2\n",
    "\n",
    "# #48 hr sensitivity\n",
    "# lower_window=0\n",
    "# upper_window=2\n",
    "# time_var=\"t_0\"\n",
    "# folder=\"48_hr_window\"\n",
    "# timewindowdays=\"48\"\n",
    "# date='16052019'\n",
    "# time_col=\"charttime\"\n",
    "# time_var= 't_0'\n",
    "# patient_df= final_pt_df2\n",
    "\n",
    "#72 hr elixhauser-redo\n",
    "date='11062019'\n",
    "lower_window=0\n",
    "upper_window=3\n",
    "timewindowdays=\"72\"\n",
    "folder=\"{}_hr_window\".format(timewindowdays)\n",
    "time_col=\"charttime\"\n",
    "time_var= 't_0'\n",
    "patient_df= final_pt_df2\n",
    "\n",
    "os.chdir(r'/Users/geickelb1/Documents/GitHub/mimiciii-antibiotics-modeling/data/processed/')\n",
    "big_df= pd.read_csv(Path(wd+'/data/processed/merged/{}_longdf_preImp_{}.csv'.format(date,timewindowdays),  index_col=0))\n",
    "big_df= big_df.reset_index(drop=True).iloc[:,1:]\n",
    "\n",
    "#quick housekeeping addition to accomidate older generated data\n",
    "if len(big_df.loc[big_df['label']==\"pao2/fio2\",'label'])>1:\n",
    "    big_df.loc[big_df['label']==\"pao2/fio2\",'label']=\"pao2fio2ratio\""
   ]
  },
  {
   "cell_type": "code",
   "execution_count": 196,
   "metadata": {},
   "outputs": [
    {
     "data": {
      "text/plain": [
       "False"
      ]
     },
     "execution_count": 196,
     "metadata": {},
     "output_type": "execute_result"
    },
    {
     "name": "stdout",
     "output_type": "stream",
     "text": [
      "time: 309 ms\n"
     ]
    }
   ],
   "source": [
    "## last minute data cleaning/formatting\n",
    "\n",
    "# #removing firstpos else neg ssc col\n",
    "# big_df=big_df.loc[:,list(big_df.columns!=\"first_pos_else_neg_ssc\")]\n",
    "# #changing pao2/fio2 ratio label\n",
    "\n",
    "len(big_df.loc[big_df['label']==\"pao2/fio2\",'label'])>1"
   ]
  },
  {
   "cell_type": "code",
   "execution_count": 197,
   "metadata": {},
   "outputs": [
    {
     "data": {
      "text/html": [
       "<div>\n",
       "<style scoped>\n",
       "    .dataframe tbody tr th:only-of-type {\n",
       "        vertical-align: middle;\n",
       "    }\n",
       "\n",
       "    .dataframe tbody tr th {\n",
       "        vertical-align: top;\n",
       "    }\n",
       "\n",
       "    .dataframe thead th {\n",
       "        text-align: right;\n",
       "    }\n",
       "</style>\n",
       "<table border=\"1\" class=\"dataframe\">\n",
       "  <thead>\n",
       "    <tr style=\"text-align: right;\">\n",
       "      <th></th>\n",
       "      <th>count</th>\n",
       "      <th>unique</th>\n",
       "      <th>top</th>\n",
       "      <th>freq</th>\n",
       "    </tr>\n",
       "    <tr>\n",
       "      <th>label</th>\n",
       "      <th></th>\n",
       "      <th></th>\n",
       "      <th></th>\n",
       "      <th></th>\n",
       "    </tr>\n",
       "  </thead>\n",
       "  <tbody>\n",
       "    <tr>\n",
       "      <th>leukocyte</th>\n",
       "      <td>14181</td>\n",
       "      <td>2</td>\n",
       "      <td>Neg/Not_tested</td>\n",
       "      <td>12042</td>\n",
       "    </tr>\n",
       "    <tr>\n",
       "      <th>vasopressin</th>\n",
       "      <td>17425</td>\n",
       "      <td>2</td>\n",
       "      <td>0.0</td>\n",
       "      <td>13778</td>\n",
       "    </tr>\n",
       "    <tr>\n",
       "      <th>rrt</th>\n",
       "      <td>14181</td>\n",
       "      <td>2</td>\n",
       "      <td>0.0</td>\n",
       "      <td>13018</td>\n",
       "    </tr>\n",
       "    <tr>\n",
       "      <th>phenylephrine</th>\n",
       "      <td>26338</td>\n",
       "      <td>2</td>\n",
       "      <td>1.0</td>\n",
       "      <td>14377</td>\n",
       "    </tr>\n",
       "    <tr>\n",
       "      <th>cancer_elix</th>\n",
       "      <td>14181</td>\n",
       "      <td>2</td>\n",
       "      <td>0.0</td>\n",
       "      <td>12439</td>\n",
       "    </tr>\n",
       "    <tr>\n",
       "      <th>o2_flow</th>\n",
       "      <td>14433</td>\n",
       "      <td>2</td>\n",
       "      <td>0.0</td>\n",
       "      <td>13442</td>\n",
       "    </tr>\n",
       "    <tr>\n",
       "      <th>norepinephrine</th>\n",
       "      <td>34103</td>\n",
       "      <td>2</td>\n",
       "      <td>1.0</td>\n",
       "      <td>22755</td>\n",
       "    </tr>\n",
       "    <tr>\n",
       "      <th>nitrite</th>\n",
       "      <td>14181</td>\n",
       "      <td>2</td>\n",
       "      <td>Neg/Not_tested</td>\n",
       "      <td>13783</td>\n",
       "    </tr>\n",
       "    <tr>\n",
       "      <th>dobutamine</th>\n",
       "      <td>15470</td>\n",
       "      <td>2</td>\n",
       "      <td>0.0</td>\n",
       "      <td>13951</td>\n",
       "    </tr>\n",
       "    <tr>\n",
       "      <th>dopamine</th>\n",
       "      <td>18923</td>\n",
       "      <td>2</td>\n",
       "      <td>0.0</td>\n",
       "      <td>13329</td>\n",
       "    </tr>\n",
       "    <tr>\n",
       "      <th>epinephrine</th>\n",
       "      <td>15783</td>\n",
       "      <td>2</td>\n",
       "      <td>0.0</td>\n",
       "      <td>13892</td>\n",
       "    </tr>\n",
       "    <tr>\n",
       "      <th>gender</th>\n",
       "      <td>14181</td>\n",
       "      <td>2</td>\n",
       "      <td>M</td>\n",
       "      <td>7776</td>\n",
       "    </tr>\n",
       "    <tr>\n",
       "      <th>vent_recieved</th>\n",
       "      <td>14060</td>\n",
       "      <td>3</td>\n",
       "      <td>Mech</td>\n",
       "      <td>7139</td>\n",
       "    </tr>\n",
       "    <tr>\n",
       "      <th>pco2</th>\n",
       "      <td>14181</td>\n",
       "      <td>3</td>\n",
       "      <td>absent</td>\n",
       "      <td>8856</td>\n",
       "    </tr>\n",
       "    <tr>\n",
       "      <th>bands</th>\n",
       "      <td>14181</td>\n",
       "      <td>3</td>\n",
       "      <td>absent</td>\n",
       "      <td>11726</td>\n",
       "    </tr>\n",
       "    <tr>\n",
       "      <th>ethnicity</th>\n",
       "      <td>14181</td>\n",
       "      <td>5</td>\n",
       "      <td>white/nonhispanic</td>\n",
       "      <td>10330</td>\n",
       "    </tr>\n",
       "    <tr>\n",
       "      <th>sum_elix</th>\n",
       "      <td>15226</td>\n",
       "      <td>13</td>\n",
       "      <td>0.0</td>\n",
       "      <td>10058</td>\n",
       "    </tr>\n",
       "    <tr>\n",
       "      <th>mingcs</th>\n",
       "      <td>6749</td>\n",
       "      <td>13</td>\n",
       "      <td>15.0</td>\n",
       "      <td>2429</td>\n",
       "    </tr>\n",
       "    <tr>\n",
       "      <th>daily_sofa</th>\n",
       "      <td>36384</td>\n",
       "      <td>23</td>\n",
       "      <td>1</td>\n",
       "      <td>6799</td>\n",
       "    </tr>\n",
       "    <tr>\n",
       "      <th>bicarbonate</th>\n",
       "      <td>61434</td>\n",
       "      <td>55</td>\n",
       "      <td>24.0</td>\n",
       "      <td>5052</td>\n",
       "    </tr>\n",
       "    <tr>\n",
       "      <th>resprate</th>\n",
       "      <td>946727</td>\n",
       "      <td>74</td>\n",
       "      <td>20.0</td>\n",
       "      <td>75197</td>\n",
       "    </tr>\n",
       "    <tr>\n",
       "      <th>sodium</th>\n",
       "      <td>70286</td>\n",
       "      <td>81</td>\n",
       "      <td>139.0</td>\n",
       "      <td>6298</td>\n",
       "    </tr>\n",
       "    <tr>\n",
       "      <th>chloride</th>\n",
       "      <td>67264</td>\n",
       "      <td>84</td>\n",
       "      <td>106.0</td>\n",
       "      <td>4372</td>\n",
       "    </tr>\n",
       "    <tr>\n",
       "      <th>spo2</th>\n",
       "      <td>863268</td>\n",
       "      <td>102</td>\n",
       "      <td>100.0</td>\n",
       "      <td>193857</td>\n",
       "    </tr>\n",
       "    <tr>\n",
       "      <th>potassium</th>\n",
       "      <td>84665</td>\n",
       "      <td>102</td>\n",
       "      <td>4.0</td>\n",
       "      <td>6180</td>\n",
       "    </tr>\n",
       "    <tr>\n",
       "      <th>ph</th>\n",
       "      <td>67677</td>\n",
       "      <td>102</td>\n",
       "      <td>7.4</td>\n",
       "      <td>3558</td>\n",
       "    </tr>\n",
       "    <tr>\n",
       "      <th>height</th>\n",
       "      <td>9339</td>\n",
       "      <td>126</td>\n",
       "      <td>177.8</td>\n",
       "      <td>607</td>\n",
       "    </tr>\n",
       "    <tr>\n",
       "      <th>hemoglobin</th>\n",
       "      <td>63629</td>\n",
       "      <td>166</td>\n",
       "      <td>10.1</td>\n",
       "      <td>1553</td>\n",
       "    </tr>\n",
       "    <tr>\n",
       "      <th>calcium</th>\n",
       "      <td>28342</td>\n",
       "      <td>170</td>\n",
       "      <td>1.13</td>\n",
       "      <td>1455</td>\n",
       "    </tr>\n",
       "    <tr>\n",
       "      <th>inr</th>\n",
       "      <td>38542</td>\n",
       "      <td>180</td>\n",
       "      <td>1.2</td>\n",
       "      <td>5821</td>\n",
       "    </tr>\n",
       "    <tr>\n",
       "      <th>creatinine</th>\n",
       "      <td>61440</td>\n",
       "      <td>185</td>\n",
       "      <td>0.7</td>\n",
       "      <td>5270</td>\n",
       "    </tr>\n",
       "    <tr>\n",
       "      <th>bun</th>\n",
       "      <td>61175</td>\n",
       "      <td>195</td>\n",
       "      <td>14.0</td>\n",
       "      <td>1864</td>\n",
       "    </tr>\n",
       "    <tr>\n",
       "      <th>diasbp</th>\n",
       "      <td>870767</td>\n",
       "      <td>202</td>\n",
       "      <td>56.0</td>\n",
       "      <td>27577</td>\n",
       "    </tr>\n",
       "    <tr>\n",
       "      <th>heartrate</th>\n",
       "      <td>900507</td>\n",
       "      <td>207</td>\n",
       "      <td>80.0</td>\n",
       "      <td>23469</td>\n",
       "    </tr>\n",
       "    <tr>\n",
       "      <th>sysbp</th>\n",
       "      <td>875023</td>\n",
       "      <td>235</td>\n",
       "      <td>108.0</td>\n",
       "      <td>16069</td>\n",
       "    </tr>\n",
       "    <tr>\n",
       "      <th>lactate</th>\n",
       "      <td>36443</td>\n",
       "      <td>292</td>\n",
       "      <td>1.2</td>\n",
       "      <td>1763</td>\n",
       "    </tr>\n",
       "    <tr>\n",
       "      <th>bilirubin</th>\n",
       "      <td>17423</td>\n",
       "      <td>399</td>\n",
       "      <td>0.4</td>\n",
       "      <td>1451</td>\n",
       "    </tr>\n",
       "    <tr>\n",
       "      <th>meanartpress</th>\n",
       "      <td>885090</td>\n",
       "      <td>589</td>\n",
       "      <td>72.0</td>\n",
       "      <td>23459</td>\n",
       "    </tr>\n",
       "    <tr>\n",
       "      <th>temperature</th>\n",
       "      <td>266753</td>\n",
       "      <td>593</td>\n",
       "      <td>36.6666666666667</td>\n",
       "      <td>7388</td>\n",
       "    </tr>\n",
       "    <tr>\n",
       "      <th>glucose</th>\n",
       "      <td>218922</td>\n",
       "      <td>712</td>\n",
       "      <td>118.0</td>\n",
       "      <td>2378</td>\n",
       "    </tr>\n",
       "    <tr>\n",
       "      <th>wbc</th>\n",
       "      <td>54589</td>\n",
       "      <td>799</td>\n",
       "      <td>8.8</td>\n",
       "      <td>474</td>\n",
       "    </tr>\n",
       "    <tr>\n",
       "      <th>platelet</th>\n",
       "      <td>56303</td>\n",
       "      <td>907</td>\n",
       "      <td>151.0</td>\n",
       "      <td>244</td>\n",
       "    </tr>\n",
       "    <tr>\n",
       "      <th>pao2fio2ratio</th>\n",
       "      <td>14181</td>\n",
       "      <td>997</td>\n",
       "      <td>476.0</td>\n",
       "      <td>8857</td>\n",
       "    </tr>\n",
       "    <tr>\n",
       "      <th>ptt</th>\n",
       "      <td>40501</td>\n",
       "      <td>1236</td>\n",
       "      <td>150.0</td>\n",
       "      <td>925</td>\n",
       "    </tr>\n",
       "    <tr>\n",
       "      <th>weight</th>\n",
       "      <td>12895</td>\n",
       "      <td>1400</td>\n",
       "      <td>70.0</td>\n",
       "      <td>246</td>\n",
       "    </tr>\n",
       "    <tr>\n",
       "      <th>first_admit_age</th>\n",
       "      <td>14181</td>\n",
       "      <td>5008</td>\n",
       "      <td>300.0</td>\n",
       "      <td>890</td>\n",
       "    </tr>\n",
       "  </tbody>\n",
       "</table>\n",
       "</div>"
      ],
      "text/plain": [
       "                  count unique                top    freq\n",
       "label                                                    \n",
       "leukocyte         14181      2     Neg/Not_tested   12042\n",
       "vasopressin       17425      2                0.0   13778\n",
       "rrt               14181      2                0.0   13018\n",
       "phenylephrine     26338      2                1.0   14377\n",
       "cancer_elix       14181      2                0.0   12439\n",
       "o2_flow           14433      2                0.0   13442\n",
       "norepinephrine    34103      2                1.0   22755\n",
       "nitrite           14181      2     Neg/Not_tested   13783\n",
       "dobutamine        15470      2                0.0   13951\n",
       "dopamine          18923      2                0.0   13329\n",
       "epinephrine       15783      2                0.0   13892\n",
       "gender            14181      2                  M    7776\n",
       "vent_recieved     14060      3               Mech    7139\n",
       "pco2              14181      3             absent    8856\n",
       "bands             14181      3             absent   11726\n",
       "ethnicity         14181      5  white/nonhispanic   10330\n",
       "sum_elix          15226     13                0.0   10058\n",
       "mingcs             6749     13               15.0    2429\n",
       "daily_sofa        36384     23                  1    6799\n",
       "bicarbonate       61434     55               24.0    5052\n",
       "resprate         946727     74               20.0   75197\n",
       "sodium            70286     81              139.0    6298\n",
       "chloride          67264     84              106.0    4372\n",
       "spo2             863268    102              100.0  193857\n",
       "potassium         84665    102                4.0    6180\n",
       "ph                67677    102                7.4    3558\n",
       "height             9339    126              177.8     607\n",
       "hemoglobin        63629    166               10.1    1553\n",
       "calcium           28342    170               1.13    1455\n",
       "inr               38542    180                1.2    5821\n",
       "creatinine        61440    185                0.7    5270\n",
       "bun               61175    195               14.0    1864\n",
       "diasbp           870767    202               56.0   27577\n",
       "heartrate        900507    207               80.0   23469\n",
       "sysbp            875023    235              108.0   16069\n",
       "lactate           36443    292                1.2    1763\n",
       "bilirubin         17423    399                0.4    1451\n",
       "meanartpress     885090    589               72.0   23459\n",
       "temperature      266753    593   36.6666666666667    7388\n",
       "glucose          218922    712              118.0    2378\n",
       "wbc               54589    799                8.8     474\n",
       "platelet          56303    907              151.0     244\n",
       "pao2fio2ratio     14181    997              476.0    8857\n",
       "ptt               40501   1236              150.0     925\n",
       "weight            12895   1400               70.0     246\n",
       "first_admit_age   14181   5008              300.0     890"
      ]
     },
     "execution_count": 197,
     "metadata": {},
     "output_type": "execute_result"
    },
    {
     "name": "stdout",
     "output_type": "stream",
     "text": [
      "time: 1.61 s\n"
     ]
    }
   ],
   "source": [
    "#overview of all variables and formats\n",
    "big_df.groupby('label')['value'].describe().sort_values('unique')"
   ]
  },
  {
   "cell_type": "markdown",
   "metadata": {},
   "source": [
    "## initial data prep"
   ]
  },
  {
   "cell_type": "code",
   "execution_count": 198,
   "metadata": {},
   "outputs": [
    {
     "name": "stdout",
     "output_type": "stream",
     "text": [
      "time: 7.37 ms\n"
     ]
    }
   ],
   "source": [
    "#convert to two class\n",
    "\n",
    "final_pt_df2['final_bin'].unique()\n",
    "two_classes=['C_neg/A_partial','C_pos/A_full']\n",
    "two_class_icu=final_pt_df2.loc[final_pt_df2.loc[:,\"final_bin\"].isin(two_classes),['icustay_id','subject_id','final_bin']]"
   ]
  },
  {
   "cell_type": "code",
   "execution_count": 199,
   "metadata": {},
   "outputs": [
    {
     "name": "stdout",
     "output_type": "stream",
     "text": [
      "time: 1.29 s\n"
     ]
    }
   ],
   "source": [
    "big_df=big_df.loc[big_df['icustay_id'].isin(list(two_class_icu['icustay_id'])),:].copy()"
   ]
  },
  {
   "cell_type": "code",
   "execution_count": 200,
   "metadata": {},
   "outputs": [
    {
     "data": {
      "text/plain": [
       "7588"
      ]
     },
     "execution_count": 200,
     "metadata": {},
     "output_type": "execute_result"
    },
    {
     "name": "stdout",
     "output_type": "stream",
     "text": [
      "time: 30 ms\n"
     ]
    }
   ],
   "source": [
    "len(big_df)#7015776 -> ~3000000\n",
    "big_df['icustay_id'].nunique() #14181 ->7588"
   ]
  },
  {
   "cell_type": "markdown",
   "metadata": {},
   "source": [
    "### roundabout way of sampling train/test set so that each subject is only in either train or test:"
   ]
  },
  {
   "cell_type": "code",
   "execution_count": 201,
   "metadata": {},
   "outputs": [
    {
     "name": "stdout",
     "output_type": "stream",
     "text": [
      "time: 1.49 s\n"
     ]
    }
   ],
   "source": [
    "# label each subject_id with the max of the two classes. \n",
    "two_class_pt=two_class_icu.copy()\n",
    "two_class_pt['final_bin']=pd.factorize(two_class_pt['final_bin'])[0]\n",
    "two_class_maxsub=two_class_pt.loc[two_class_pt.groupby('subject_id')['final_bin'].idxmax(),:]"
   ]
  },
  {
   "cell_type": "code",
   "execution_count": 202,
   "metadata": {},
   "outputs": [
    {
     "name": "stdout",
     "output_type": "stream",
     "text": [
      "time: 1.68 s\n"
     ]
    }
   ],
   "source": [
    "# 70/30 train/test set split with 12345=seed, splitting on max final bin of each SUBJECT_ID\n",
    "train, test = train_test_split(two_class_maxsub, test_size=0.3, random_state=12345, \n",
    "                               stratify=two_class_maxsub['final_bin'])\n",
    "# generate list of each SUBJECT_ID in each split\n",
    "train_subject=list(train['subject_id'])\n",
    "test_subject=list(test['subject_id'])\n",
    "\n",
    "#filtering big_df on train subjects and test subjects to get my train/test splits.\n",
    "big_df_train= big_df.loc[big_df.loc[:,'subject_id'].isin(train_subject),:].copy()\n",
    "big_df_test= big_df.loc[big_df.loc[:,'subject_id'].isin(test_subject),:].copy()\n",
    "del big_df"
   ]
  },
  {
   "cell_type": "code",
   "execution_count": 203,
   "metadata": {},
   "outputs": [
    {
     "name": "stdout",
     "output_type": "stream",
     "text": [
      "time: 1.05 ms\n"
     ]
    }
   ],
   "source": [
    "# #converting venttype to category\n",
    "# big_df.loc[big_df.loc[:,'label']=='vent_recieved','value']= big_df.loc[big_df.loc[:,'label']=='vent_recieved','value'].astype('category')\n",
    "# #big_df.loc[big_df.loc[:,'label']=='vent_recieved','value'].apply(astype('category'))\n",
    "# big_df.loc[big_df.loc[:,'label']=='vent_recieved','value'] = pd.Categorical(big_df.loc[big_df.loc[:,'label']=='vent_recieved','value'])"
   ]
  },
  {
   "cell_type": "code",
   "execution_count": 204,
   "metadata": {},
   "outputs": [
    {
     "name": "stdout",
     "output_type": "stream",
     "text": [
      "time: 124 ms\n"
     ]
    }
   ],
   "source": [
    "def category_mapper(big_df):\n",
    "    #converting categories to integers\n",
    "    mapper={'Mech':2 , 'Oxygen': 1, 'None': 0}\n",
    "    big_df.loc[big_df.loc[:,'label']=='vent_recieved','value']=big_df.loc[big_df.loc[:,'label']=='vent_recieved','value'].replace(mapper).copy()\n",
    "\n",
    "    #gender_index=pd.factorize(big_df.loc[big_df.loc[:,'label']=='gender','value'])[1]\n",
    "    mapper={'F':0 , 'M': 1}\n",
    "    big_df.loc[big_df.loc[:,'label']=='gender','value']=big_df.loc[big_df.loc[:,'label']=='gender','value'].replace(mapper).copy()\n",
    "\n",
    "    #leukocyte_index=pd.factorize(big_df.loc[big_df.loc[:,'label']=='leukocyte','value'])[1]\n",
    "    mapper={'Neg/Not_tested':0 , 'pos': 1}\n",
    "    big_df.loc[big_df.loc[:,'label']=='leukocyte','value']=big_df.loc[big_df.loc[:,'label']=='leukocyte','value'].replace(mapper).copy()\n",
    "    #     pd.factorize(big_df.loc[big_df.loc[:,'label']=='leukocyte','value'])[0] \n",
    "\n",
    "    #nitrite_index=pd.factorize(big_df.loc[big_df.loc[:,'label']=='nitrite','value'])[1]\n",
    "    mapper={'Neg/Not_tested':0 , 'pos': 1}\n",
    "    big_df.loc[big_df.loc[:,'label']=='nitrite','value']=big_df.loc[big_df.loc[:,'label']=='nitrite','value'].replace(mapper).copy()\n",
    "    #     pd.factorize(big_df.loc[big_df.loc[:,'label']=='nitrite','value'])[0] \n",
    "    \n",
    "    \n",
    "    # changing pao2/fio2 ratio to a category\n",
    "    \"\"\"\n",
    "    A PaO2/FiO2 ratio less than or equal to 200 is necessary for the diagnosis of acute respiratory distress syndrome by the AECC criteria.[6] \n",
    "    The more recent Berlin criteria defines mild ARDS at a ratio of <300.\n",
    "\n",
    "    A PaO2/FiO2 ratio less than or equal to 250 is one of the minor criteria for severe community acquired pneumonia (i.e., possible indication for inpatient treatment).\n",
    "\n",
    "    A PaO2/FiO2 ratio less than or equal to 333 is one of the variables in the SMART-COP risk score for intensive respiratory or vasopressor support in community-acquired pneumonia.\n",
    "    \"\"\"\n",
    "\n",
    "    \n",
    "    pd.to_numeric(big_df[big_df['label']==\"pao2fio2ratio\"]['value'])\n",
    "    labels= ['0-200', '201-333', \"334-475\",\"476+\"]\n",
    "    bins = pd.IntervalIndex.from_tuples([(0, 200), (200, 333), (333, 475),(475,3000)])\n",
    "\n",
    "    big_df.loc[big_df['label']==\"pao2fio2ratio\",'value']=pd.cut(pd.to_numeric(big_df.loc[big_df['label']==\"pao2fio2ratio\",'value']), bins,right=False, labels=labels)\n",
    "    big_df.loc[big_df['label']==\"pao2fio2ratio\",'value'].value_counts()\n",
    "\n",
    "    \n",
    "    return(big_df)\n"
   ]
  },
  {
   "cell_type": "code",
   "execution_count": 205,
   "metadata": {},
   "outputs": [
    {
     "name": "stdout",
     "output_type": "stream",
     "text": [
      "time: 3.73 s\n"
     ]
    }
   ],
   "source": [
    "big_df_train=category_mapper(big_df_train)\n",
    "big_df_test=category_mapper(big_df_test)"
   ]
  },
  {
   "cell_type": "markdown",
   "metadata": {},
   "source": [
    "## calc median/iqr for standardization\n",
    "take all non-categorical variables for HEALTHY PATIENTS and calculate the median and IQR for them. then will use this to make z scores via: x-median/IQR"
   ]
  },
  {
   "cell_type": "markdown",
   "metadata": {},
   "source": [
    "### june 13: changed sparse to catgorical"
   ]
  },
  {
   "cell_type": "code",
   "execution_count": 213,
   "metadata": {},
   "outputs": [
    {
     "name": "stdout",
     "output_type": "stream",
     "text": [
      "time: 20 ms\n"
     ]
    }
   ],
   "source": [
    "continuous=['daily_sofa',\n",
    "            'lactate',\n",
    "            'mingcs',\n",
    "            'diasbp',\n",
    "            'heartrate',\n",
    "            'meanartpress',\n",
    "            'resprate',\n",
    "            'sysbp',\n",
    "            'temperature',\n",
    "            'hemoglobin',\n",
    "            'platelet',\n",
    "            'wbc',\n",
    "            'calcium',\n",
    "            'glucose',\n",
    "            'ph',\n",
    "            'bicarbonate',\n",
    "            'bun',\n",
    "            'chloride',\n",
    "            'creatinine',\n",
    "            'inr',\n",
    "            'potassium',\n",
    "            'ptt',\n",
    "            'sodium',\n",
    "            'bilirubin',\n",
    "            'spo2',\n",
    "            'sum_elix']\n",
    "\n",
    "\n",
    "onetime=['first_admit_age','height','weight']\n",
    "\n",
    "vaso_active=['phenylephrine',\n",
    "            'norepinephrine',\n",
    "            'vasopressin',\n",
    "            'dobutamine',\n",
    "            'dopamine',\n",
    "            'epinephrine'] \n",
    "\n",
    "ordinal=[\n",
    "            'leukocyte',\n",
    "            'nitrite',\n",
    "            'vent_recieved',\n",
    "            'o2_flow',\n",
    "            'rrt',\n",
    "            'pao2fio2ratio',\n",
    "            'cancer_elix',\n",
    "            \"any_vasoactives\",\n",
    "            'bands', #added 6/13/19\n",
    "            'pco2' #added 6/13/19\n",
    "]\n",
    "\n",
    "categorical=[\n",
    "            \"ethnicity\",\n",
    "            'gender'\n",
    "]\n"
   ]
  },
  {
   "cell_type": "code",
   "execution_count": 214,
   "metadata": {},
   "outputs": [
    {
     "name": "stdout",
     "output_type": "stream",
     "text": [
      "time: 394 ms\n"
     ]
    }
   ],
   "source": [
    "def median_label_fxn(big_df):\n",
    "    global final_pt_df2\n",
    "    \n",
    "    healthy_pt=list(final_pt_df2[final_pt_df2['final_bin']==\"C_neg/A_partial\"]['icustay_id'])\n",
    "\n",
    "    #filter to only healthy patients filter\n",
    "    ##splitting big_df, making a copy and restricting it to all values that will be usd in standardizing\n",
    "    healthy_df=big_df[big_df['label'].isin(continuous+onetime)].copy()\n",
    "    healthy_df['value']= pd.to_numeric(healthy_df['value']) #converting to numeric \n",
    "    healthy_df=healthy_df[healthy_df['icustay_id'].isin(healthy_pt)].copy() #only numerical values for cneg/ab partial pt\n",
    "    \n",
    "    #finding the last 24 hours of each healthy patient.\n",
    "    healthy_pt_end=pd.DataFrame(healthy_df.groupby(\"icustay_id\")['delta'].max())\n",
    "    healthy_pt_end[\"start\"]=healthy_pt_end['delta']- pd.to_timedelta(\"1 day 00:00:00\")\n",
    "    healthy_pt_end=healthy_pt_end.rename(columns={\"delta\":\"end\"}).reset_index()\n",
    "    healthy_df= pd.merge(healthy_df,healthy_pt_end, left_on=\"icustay_id\", right_on=\"icustay_id\", how=\"left\" ) #now have the last 24 hours annotated for each patient as start and end.\n",
    "    \n",
    "    #calculating medians and iqr for each label based on healthy patient's last 24 hours in icu\n",
    "    median_label=pd.DataFrame((healthy_df.groupby(\"label\")['value'].median())).reset_index()\n",
    "    median_label=median_label.rename(columns={'value':\"median\"})\n",
    "    iqr_label=pd.DataFrame((healthy_df.groupby(\"label\")['value'].quantile(0.75)-healthy_df.groupby(\"label\")['value'].quantile(0.25))).reset_index()\n",
    "    iqr_label=iqr_label.rename(columns={'value':\"iqr\"})\n",
    "    median_label=pd.merge(median_label,iqr_label)  #final median df\n",
    "    return(median_label)\n",
    "\n",
    "def combine_vasoactives(big_noCat, median_label):\n",
    "    global vaso_active\n",
    "    ##combining vasoactives\n",
    "    vaso_active_df=big_noCat[big_noCat['label'].isin(vaso_active)].groupby('icustay_id')['value'].max().reset_index()\n",
    "    vaso_active_df['uom']=\"y/n\"\n",
    "    vaso_active_df['label']=\"any_vasoactives\"\n",
    "    vaso_active_df['delta']=pd.to_timedelta(\"0days\")\n",
    "    vaso_active_df['source']=\"any_vasoactives\"\n",
    "\n",
    "    vaso_active_df=pd.merge(vaso_active_df, final_pt_df2[[\"icustay_id\",'subject_id',\"t_0\"]], how=\"left\", left_on=\"icustay_id\", right_on=\"icustay_id\")\n",
    "    vaso_active_df=pd.merge(vaso_active_df, median_label, how=\"left\").fillna(0)\n",
    "    vaso_active_df['standardize']=vaso_active_df['value']\n",
    "    vaso_active_df['raw_value']=vaso_active_df['value']\n",
    "    vaso_active_df.head()\n",
    "\n",
    "    # # #grabing the rest of the variables not suitable for range or mean/std\n",
    "    big_noCat=pd.concat([big_noCat, vaso_active_df], sort=False)\n",
    "    return(big_noCat)\n",
    "\n",
    "def standardization_fxn(big_df):\n",
    "    global continuous, onetime, vaso_active, ordinal, categorical\n",
    "    \n",
    "    median_label=median_label_fxn(big_df)\n",
    "    median_label\n",
    "    median_label_nocat=median_label.loc[median_label.loc[:,'label'].isin(continuous),:].copy()\n",
    "    median_label_cat=median_label.loc[median_label.loc[:,'label'].isin(continuous),:].copy()\n",
    "    \n",
    "    ### dataformatting: convert all dtypes to a numeric type that pereserves nan. \n",
    "    #splitting categorical, ordinal and continuous\n",
    "    big_categorical= big_df.loc[big_df.loc[:,'label'].isin(categorical),:].copy() \n",
    "\n",
    "    #continuous and ordinal variables\n",
    "    big_noCat= big_df.loc[big_df.loc[:,'label'].isin(continuous),:].copy() \n",
    "    big_noCat['value']= big_noCat['value'].apply(pd.to_numeric, args=('coerce',)) #instead of convert to float, may preserve nan's better. \n",
    "    \n",
    "    ### adding a standardized value (x-median)/iqr  where median is of the last 24 hours in time window for culture neg/ ab partial patients \n",
    "    big_noCat=pd.merge(big_noCat, median_label, how=\"left\") \n",
    "    #loging values\n",
    "    big_noCat['median']= np.log(big_noCat['median']+1.0)\n",
    "    big_noCat['iqr']= np.log(big_noCat['iqr']+1.0)\n",
    "    big_noCat['raw_value']=big_noCat['value']\n",
    "    big_noCat['value']=np.log(big_noCat['value']+1.0)\n",
    "    \n",
    "    big_noCat['standardize']=((big_noCat['value']-big_noCat['median'])/big_noCat['iqr']).fillna(0) #standardize is log standardized\n",
    "\n",
    "    #making an ordinal df to concat on\n",
    "    ord_df=big_df.loc[big_df.loc[:,'label'].isin(ordinal+vaso_active),:].copy()\n",
    "    ord_df['raw_value']=ord_df['value']\n",
    "    ord_df['standardize']=ord_df['value']\n",
    "    ord_df['median']=None\n",
    "    ord_df['iqr']=None\n",
    "\n",
    "    big_noCat=pd.concat([big_noCat,ord_df], sort=False)\n",
    "    \n",
    "    #making all ordinal values in standardize equal to unstandardized\n",
    "    big_noCat.loc[big_noCat['label'].isin(ordinal+vaso_active),'standardize']=big_noCat.loc[big_noCat['label'].isin(ordinal+vaso_active),'value']  #do i need to add sparse?\n",
    "    #ig_noCat.head()\n",
    "    \n",
    "    big_noCat['standardize']= big_noCat['standardize'].apply(pd.to_numeric, args=('coerce',)) #errors occuring downstream due to not having numeric, trying this 4/18/19\n",
    "    \n",
    "    ##last step, combining vasoactives into 1 feature\n",
    "    big_noCat=combine_vasoactives(big_noCat, median_label)  \n",
    "\n",
    "    return(big_noCat, big_categorical)"
   ]
  },
  {
   "cell_type": "code",
   "execution_count": 233,
   "metadata": {},
   "outputs": [
    {
     "data": {
      "text/html": [
       "<div>\n",
       "<style scoped>\n",
       "    .dataframe tbody tr th:only-of-type {\n",
       "        vertical-align: middle;\n",
       "    }\n",
       "\n",
       "    .dataframe tbody tr th {\n",
       "        vertical-align: top;\n",
       "    }\n",
       "\n",
       "    .dataframe thead th {\n",
       "        text-align: right;\n",
       "    }\n",
       "</style>\n",
       "<table border=\"1\" class=\"dataframe\">\n",
       "  <thead>\n",
       "    <tr style=\"text-align: right;\">\n",
       "      <th></th>\n",
       "      <th>label</th>\n",
       "      <th>median</th>\n",
       "      <th>iqr</th>\n",
       "    </tr>\n",
       "  </thead>\n",
       "  <tbody>\n",
       "    <tr>\n",
       "      <th>0</th>\n",
       "      <td>bicarbonate</td>\n",
       "      <td>24.000000</td>\n",
       "      <td>5.000000</td>\n",
       "    </tr>\n",
       "    <tr>\n",
       "      <th>1</th>\n",
       "      <td>bilirubin</td>\n",
       "      <td>0.800000</td>\n",
       "      <td>1.700000</td>\n",
       "    </tr>\n",
       "    <tr>\n",
       "      <th>2</th>\n",
       "      <td>bun</td>\n",
       "      <td>20.000000</td>\n",
       "      <td>21.000000</td>\n",
       "    </tr>\n",
       "    <tr>\n",
       "      <th>3</th>\n",
       "      <td>calcium</td>\n",
       "      <td>1.130000</td>\n",
       "      <td>0.100000</td>\n",
       "    </tr>\n",
       "    <tr>\n",
       "      <th>4</th>\n",
       "      <td>chloride</td>\n",
       "      <td>105.000000</td>\n",
       "      <td>8.000000</td>\n",
       "    </tr>\n",
       "    <tr>\n",
       "      <th>5</th>\n",
       "      <td>creatinine</td>\n",
       "      <td>1.000000</td>\n",
       "      <td>0.900000</td>\n",
       "    </tr>\n",
       "    <tr>\n",
       "      <th>6</th>\n",
       "      <td>daily_sofa</td>\n",
       "      <td>3.000000</td>\n",
       "      <td>4.000000</td>\n",
       "    </tr>\n",
       "    <tr>\n",
       "      <th>7</th>\n",
       "      <td>diasbp</td>\n",
       "      <td>59.000000</td>\n",
       "      <td>18.000000</td>\n",
       "    </tr>\n",
       "    <tr>\n",
       "      <th>8</th>\n",
       "      <td>first_admit_age</td>\n",
       "      <td>65.370000</td>\n",
       "      <td>26.080000</td>\n",
       "    </tr>\n",
       "    <tr>\n",
       "      <th>9</th>\n",
       "      <td>glucose</td>\n",
       "      <td>127.000000</td>\n",
       "      <td>56.000000</td>\n",
       "    </tr>\n",
       "    <tr>\n",
       "      <th>10</th>\n",
       "      <td>heartrate</td>\n",
       "      <td>85.000000</td>\n",
       "      <td>23.000000</td>\n",
       "    </tr>\n",
       "    <tr>\n",
       "      <th>11</th>\n",
       "      <td>height</td>\n",
       "      <td>170.000000</td>\n",
       "      <td>16.510000</td>\n",
       "    </tr>\n",
       "    <tr>\n",
       "      <th>12</th>\n",
       "      <td>hemoglobin</td>\n",
       "      <td>10.200000</td>\n",
       "      <td>2.300000</td>\n",
       "    </tr>\n",
       "    <tr>\n",
       "      <th>13</th>\n",
       "      <td>inr</td>\n",
       "      <td>1.300000</td>\n",
       "      <td>0.400000</td>\n",
       "    </tr>\n",
       "    <tr>\n",
       "      <th>14</th>\n",
       "      <td>lactate</td>\n",
       "      <td>1.700000</td>\n",
       "      <td>1.400000</td>\n",
       "    </tr>\n",
       "    <tr>\n",
       "      <th>15</th>\n",
       "      <td>meanartpress</td>\n",
       "      <td>76.666702</td>\n",
       "      <td>19.666702</td>\n",
       "    </tr>\n",
       "    <tr>\n",
       "      <th>16</th>\n",
       "      <td>mingcs</td>\n",
       "      <td>14.000000</td>\n",
       "      <td>2.000000</td>\n",
       "    </tr>\n",
       "    <tr>\n",
       "      <th>17</th>\n",
       "      <td>ph</td>\n",
       "      <td>7.390000</td>\n",
       "      <td>0.090000</td>\n",
       "    </tr>\n",
       "    <tr>\n",
       "      <th>18</th>\n",
       "      <td>platelet</td>\n",
       "      <td>188.000000</td>\n",
       "      <td>132.000000</td>\n",
       "    </tr>\n",
       "    <tr>\n",
       "      <th>19</th>\n",
       "      <td>potassium</td>\n",
       "      <td>4.000000</td>\n",
       "      <td>0.800000</td>\n",
       "    </tr>\n",
       "    <tr>\n",
       "      <th>20</th>\n",
       "      <td>ptt</td>\n",
       "      <td>32.800000</td>\n",
       "      <td>14.800000</td>\n",
       "    </tr>\n",
       "    <tr>\n",
       "      <th>21</th>\n",
       "      <td>resprate</td>\n",
       "      <td>19.000000</td>\n",
       "      <td>7.000000</td>\n",
       "    </tr>\n",
       "    <tr>\n",
       "      <th>22</th>\n",
       "      <td>sodium</td>\n",
       "      <td>139.000000</td>\n",
       "      <td>5.000000</td>\n",
       "    </tr>\n",
       "    <tr>\n",
       "      <th>23</th>\n",
       "      <td>spo2</td>\n",
       "      <td>97.000000</td>\n",
       "      <td>4.000000</td>\n",
       "    </tr>\n",
       "    <tr>\n",
       "      <th>24</th>\n",
       "      <td>sum_elix</td>\n",
       "      <td>0.000000</td>\n",
       "      <td>3.000000</td>\n",
       "    </tr>\n",
       "    <tr>\n",
       "      <th>25</th>\n",
       "      <td>sysbp</td>\n",
       "      <td>118.000000</td>\n",
       "      <td>31.000000</td>\n",
       "    </tr>\n",
       "    <tr>\n",
       "      <th>26</th>\n",
       "      <td>temperature</td>\n",
       "      <td>36.888890</td>\n",
       "      <td>1.044445</td>\n",
       "    </tr>\n",
       "    <tr>\n",
       "      <th>27</th>\n",
       "      <td>wbc</td>\n",
       "      <td>9.800000</td>\n",
       "      <td>6.300000</td>\n",
       "    </tr>\n",
       "    <tr>\n",
       "      <th>28</th>\n",
       "      <td>weight</td>\n",
       "      <td>77.200000</td>\n",
       "      <td>26.000000</td>\n",
       "    </tr>\n",
       "  </tbody>\n",
       "</table>\n",
       "</div>"
      ],
      "text/plain": [
       "              label      median         iqr\n",
       "0       bicarbonate   24.000000    5.000000\n",
       "1         bilirubin    0.800000    1.700000\n",
       "2               bun   20.000000   21.000000\n",
       "3           calcium    1.130000    0.100000\n",
       "4          chloride  105.000000    8.000000\n",
       "5        creatinine    1.000000    0.900000\n",
       "6        daily_sofa    3.000000    4.000000\n",
       "7            diasbp   59.000000   18.000000\n",
       "8   first_admit_age   65.370000   26.080000\n",
       "9           glucose  127.000000   56.000000\n",
       "10        heartrate   85.000000   23.000000\n",
       "11           height  170.000000   16.510000\n",
       "12       hemoglobin   10.200000    2.300000\n",
       "13              inr    1.300000    0.400000\n",
       "14          lactate    1.700000    1.400000\n",
       "15     meanartpress   76.666702   19.666702\n",
       "16           mingcs   14.000000    2.000000\n",
       "17               ph    7.390000    0.090000\n",
       "18         platelet  188.000000  132.000000\n",
       "19        potassium    4.000000    0.800000\n",
       "20              ptt   32.800000   14.800000\n",
       "21         resprate   19.000000    7.000000\n",
       "22           sodium  139.000000    5.000000\n",
       "23             spo2   97.000000    4.000000\n",
       "24         sum_elix    0.000000    3.000000\n",
       "25            sysbp  118.000000   31.000000\n",
       "26      temperature   36.888890    1.044445\n",
       "27              wbc    9.800000    6.300000\n",
       "28           weight   77.200000   26.000000"
      ]
     },
     "execution_count": 233,
     "metadata": {},
     "output_type": "execute_result"
    },
    {
     "name": "stdout",
     "output_type": "stream",
     "text": [
      "time: 4.54 s\n"
     ]
    }
   ],
   "source": [
    "median_label_fxn(big_df_train)"
   ]
  },
  {
   "cell_type": "code",
   "execution_count": null,
   "metadata": {},
   "outputs": [],
   "source": []
  },
  {
   "cell_type": "code",
   "execution_count": 492,
   "metadata": {},
   "outputs": [
    {
     "name": "stderr",
     "output_type": "stream",
     "text": [
      "/Users/geickelb1/anaconda/envs/rpy-env/lib/python3.6/site-packages/ipykernel_launcher.py:36: FutureWarning: Passing integers to fillna is deprecated, will raise a TypeError in a future version.  To retain the old behavior, pass pd.Timedelta(seconds=n) instead.\n"
     ]
    },
    {
     "name": "stdout",
     "output_type": "stream",
     "text": [
      "time: 2min 19s\n"
     ]
    }
   ],
   "source": [
    "\n",
    "##standardizing and train/test splitting data\n",
    "\n",
    "noCat_df_train, cat_df_train = standardization_fxn(big_df_train)\n",
    "noCat_df_train['delta']= pd.to_timedelta(noCat_df_train['delta'])\n",
    "\n",
    "noCat_df_test, cat_df_test = standardization_fxn(big_df_test)\n",
    "noCat_df_test['delta']= pd.to_timedelta(noCat_df_test['delta'])\n",
    "\n",
    "#fixing one patient with delta=4 sofa\n",
    "noCat_df_train.loc[noCat_df_train['delta']==pd.Timedelta(\"4 days\"), 'delta']=pd.Timedelta(\"3 days\")\n",
    "#fixing one patient with delta=4 sofa\n",
    "noCat_df_test.loc[noCat_df_test['delta']==pd.Timedelta(\"4 days\"), 'delta']=pd.Timedelta(\"3 days\")"
   ]
  },
  {
   "cell_type": "code",
   "execution_count": 216,
   "metadata": {},
   "outputs": [
    {
     "data": {
      "text/html": [
       "<div>\n",
       "<style scoped>\n",
       "    .dataframe tbody tr th:only-of-type {\n",
       "        vertical-align: middle;\n",
       "    }\n",
       "\n",
       "    .dataframe tbody tr th {\n",
       "        vertical-align: top;\n",
       "    }\n",
       "\n",
       "    .dataframe thead th {\n",
       "        text-align: right;\n",
       "    }\n",
       "</style>\n",
       "<table border=\"1\" class=\"dataframe\">\n",
       "  <thead>\n",
       "    <tr style=\"text-align: right;\">\n",
       "      <th></th>\n",
       "      <th>icustay_id</th>\n",
       "      <th>uom</th>\n",
       "      <th>label</th>\n",
       "      <th>value</th>\n",
       "      <th>t_0</th>\n",
       "      <th>delta</th>\n",
       "      <th>source</th>\n",
       "      <th>subject_id</th>\n",
       "      <th>median</th>\n",
       "      <th>iqr</th>\n",
       "      <th>raw_value</th>\n",
       "      <th>standardize</th>\n",
       "    </tr>\n",
       "  </thead>\n",
       "  <tbody>\n",
       "    <tr>\n",
       "      <th>0</th>\n",
       "      <td>200030.0</td>\n",
       "      <td>daily_sofa_score</td>\n",
       "      <td>daily_sofa</td>\n",
       "      <td>1.09861</td>\n",
       "      <td>2150-11-14</td>\n",
       "      <td>0 days 00:00:00.000000000</td>\n",
       "      <td>sofa</td>\n",
       "      <td>14987</td>\n",
       "      <td>1.38629</td>\n",
       "      <td>1.60944</td>\n",
       "      <td>2</td>\n",
       "      <td>-0.178747</td>\n",
       "    </tr>\n",
       "    <tr>\n",
       "      <th>1</th>\n",
       "      <td>200030.0</td>\n",
       "      <td>mmHg</td>\n",
       "      <td>diasbp</td>\n",
       "      <td>4.17439</td>\n",
       "      <td>2150-11-14</td>\n",
       "      <td>0 days 00:00:00.000000000</td>\n",
       "      <td>vitals</td>\n",
       "      <td>14987</td>\n",
       "      <td>4.09434</td>\n",
       "      <td>2.94444</td>\n",
       "      <td>64</td>\n",
       "      <td>0.0271844</td>\n",
       "    </tr>\n",
       "    <tr>\n",
       "      <th>2</th>\n",
       "      <td>200030.0</td>\n",
       "      <td>mmHg</td>\n",
       "      <td>diasbp</td>\n",
       "      <td>4.09434</td>\n",
       "      <td>2150-11-14</td>\n",
       "      <td>0 days 00:00:00.000000000</td>\n",
       "      <td>vitals</td>\n",
       "      <td>14987</td>\n",
       "      <td>4.09434</td>\n",
       "      <td>2.94444</td>\n",
       "      <td>59</td>\n",
       "      <td>0</td>\n",
       "    </tr>\n",
       "    <tr>\n",
       "      <th>3</th>\n",
       "      <td>200030.0</td>\n",
       "      <td>NaN</td>\n",
       "      <td>glucose</td>\n",
       "      <td>5.32301</td>\n",
       "      <td>2150-11-14</td>\n",
       "      <td>0 days 00:00:00.000000000</td>\n",
       "      <td>vitals</td>\n",
       "      <td>14987</td>\n",
       "      <td>4.85203</td>\n",
       "      <td>4.04305</td>\n",
       "      <td>204</td>\n",
       "      <td>0.116491</td>\n",
       "    </tr>\n",
       "    <tr>\n",
       "      <th>4</th>\n",
       "      <td>200030.0</td>\n",
       "      <td>bpm</td>\n",
       "      <td>heartrate</td>\n",
       "      <td>4.57471</td>\n",
       "      <td>2150-11-14</td>\n",
       "      <td>0 days 00:00:00.000000000</td>\n",
       "      <td>vitals</td>\n",
       "      <td>14987</td>\n",
       "      <td>4.45435</td>\n",
       "      <td>3.17805</td>\n",
       "      <td>96</td>\n",
       "      <td>0.0378734</td>\n",
       "    </tr>\n",
       "  </tbody>\n",
       "</table>\n",
       "</div>"
      ],
      "text/plain": [
       "   icustay_id               uom       label    value         t_0  \\\n",
       "0    200030.0  daily_sofa_score  daily_sofa  1.09861  2150-11-14   \n",
       "1    200030.0              mmHg      diasbp  4.17439  2150-11-14   \n",
       "2    200030.0              mmHg      diasbp  4.09434  2150-11-14   \n",
       "3    200030.0               NaN     glucose  5.32301  2150-11-14   \n",
       "4    200030.0               bpm   heartrate  4.57471  2150-11-14   \n",
       "\n",
       "                       delta  source  subject_id   median      iqr raw_value  \\\n",
       "0  0 days 00:00:00.000000000    sofa       14987  1.38629  1.60944         2   \n",
       "1  0 days 00:00:00.000000000  vitals       14987  4.09434  2.94444        64   \n",
       "2  0 days 00:00:00.000000000  vitals       14987  4.09434  2.94444        59   \n",
       "3  0 days 00:00:00.000000000  vitals       14987  4.85203  4.04305       204   \n",
       "4  0 days 00:00:00.000000000  vitals       14987  4.45435  3.17805        96   \n",
       "\n",
       "  standardize  \n",
       "0   -0.178747  \n",
       "1   0.0271844  \n",
       "2           0  \n",
       "3    0.116491  \n",
       "4   0.0378734  "
      ]
     },
     "execution_count": 216,
     "metadata": {},
     "output_type": "execute_result"
    },
    {
     "name": "stdout",
     "output_type": "stream",
     "text": [
      "time: 17.6 ms\n"
     ]
    }
   ],
   "source": [
    "noCat_df_train.head()"
   ]
  },
  {
   "cell_type": "code",
   "execution_count": 364,
   "metadata": {},
   "outputs": [
    {
     "data": {
      "text/html": [
       "<div>\n",
       "<style scoped>\n",
       "    .dataframe tbody tr th:only-of-type {\n",
       "        vertical-align: middle;\n",
       "    }\n",
       "\n",
       "    .dataframe tbody tr th {\n",
       "        vertical-align: top;\n",
       "    }\n",
       "\n",
       "    .dataframe thead th {\n",
       "        text-align: right;\n",
       "    }\n",
       "</style>\n",
       "<table border=\"1\" class=\"dataframe\">\n",
       "  <thead>\n",
       "    <tr style=\"text-align: right;\">\n",
       "      <th></th>\n",
       "      <th>icustay_id</th>\n",
       "      <th>uom</th>\n",
       "      <th>label</th>\n",
       "      <th>value</th>\n",
       "      <th>t_0</th>\n",
       "      <th>delta</th>\n",
       "      <th>source</th>\n",
       "      <th>subject_id</th>\n",
       "      <th>median</th>\n",
       "      <th>iqr</th>\n",
       "      <th>raw_value</th>\n",
       "      <th>standardize</th>\n",
       "    </tr>\n",
       "  </thead>\n",
       "  <tbody>\n",
       "    <tr>\n",
       "      <th>9</th>\n",
       "      <td>200030.0</td>\n",
       "      <td>elixhauser_comorb_sum</td>\n",
       "      <td>sum_elix</td>\n",
       "      <td>0</td>\n",
       "      <td>2150-11-14</td>\n",
       "      <td>0 days</td>\n",
       "      <td>sum_elix</td>\n",
       "      <td>14987</td>\n",
       "      <td>0</td>\n",
       "      <td>1.38629</td>\n",
       "      <td>0</td>\n",
       "      <td>0</td>\n",
       "    </tr>\n",
       "    <tr>\n",
       "      <th>610</th>\n",
       "      <td>200033.0</td>\n",
       "      <td>elixhauser_comorb_sum</td>\n",
       "      <td>sum_elix</td>\n",
       "      <td>0</td>\n",
       "      <td>2198-08-11</td>\n",
       "      <td>0 days</td>\n",
       "      <td>sum_elix</td>\n",
       "      <td>56369</td>\n",
       "      <td>0</td>\n",
       "      <td>1.38629</td>\n",
       "      <td>0</td>\n",
       "      <td>0</td>\n",
       "    </tr>\n",
       "    <tr>\n",
       "      <th>1230</th>\n",
       "      <td>200036.0</td>\n",
       "      <td>elixhauser_comorb_sum</td>\n",
       "      <td>sum_elix</td>\n",
       "      <td>0</td>\n",
       "      <td>2181-08-27</td>\n",
       "      <td>0 days</td>\n",
       "      <td>sum_elix</td>\n",
       "      <td>9960</td>\n",
       "      <td>0</td>\n",
       "      <td>1.38629</td>\n",
       "      <td>0</td>\n",
       "      <td>0</td>\n",
       "    </tr>\n",
       "    <tr>\n",
       "      <th>1608</th>\n",
       "      <td>200061.0</td>\n",
       "      <td>elixhauser_comorb_sum</td>\n",
       "      <td>sum_elix</td>\n",
       "      <td>0</td>\n",
       "      <td>2134-01-24</td>\n",
       "      <td>0 days</td>\n",
       "      <td>sum_elix</td>\n",
       "      <td>74282</td>\n",
       "      <td>0</td>\n",
       "      <td>1.38629</td>\n",
       "      <td>0</td>\n",
       "      <td>0</td>\n",
       "    </tr>\n",
       "    <tr>\n",
       "      <th>1918</th>\n",
       "      <td>200063.0</td>\n",
       "      <td>elixhauser_comorb_sum</td>\n",
       "      <td>sum_elix</td>\n",
       "      <td>0</td>\n",
       "      <td>2141-03-12</td>\n",
       "      <td>0 days</td>\n",
       "      <td>sum_elix</td>\n",
       "      <td>99052</td>\n",
       "      <td>0</td>\n",
       "      <td>1.38629</td>\n",
       "      <td>0</td>\n",
       "      <td>0</td>\n",
       "    </tr>\n",
       "    <tr>\n",
       "      <th>2727</th>\n",
       "      <td>200075.0</td>\n",
       "      <td>elixhauser_comorb_sum</td>\n",
       "      <td>sum_elix</td>\n",
       "      <td>0</td>\n",
       "      <td>2159-09-24</td>\n",
       "      <td>0 days</td>\n",
       "      <td>sum_elix</td>\n",
       "      <td>67800</td>\n",
       "      <td>0</td>\n",
       "      <td>1.38629</td>\n",
       "      <td>0</td>\n",
       "      <td>0</td>\n",
       "    </tr>\n",
       "    <tr>\n",
       "      <th>2942</th>\n",
       "      <td>200078.0</td>\n",
       "      <td>elixhauser_comorb_sum</td>\n",
       "      <td>sum_elix</td>\n",
       "      <td>0</td>\n",
       "      <td>2131-08-02</td>\n",
       "      <td>0 days</td>\n",
       "      <td>sum_elix</td>\n",
       "      <td>27961</td>\n",
       "      <td>0</td>\n",
       "      <td>1.38629</td>\n",
       "      <td>0</td>\n",
       "      <td>0</td>\n",
       "    </tr>\n",
       "    <tr>\n",
       "      <th>2943</th>\n",
       "      <td>200078.0</td>\n",
       "      <td>elixhauser_comorb_sum</td>\n",
       "      <td>sum_elix</td>\n",
       "      <td>1.38629</td>\n",
       "      <td>2131-08-02</td>\n",
       "      <td>0 days</td>\n",
       "      <td>sum_elix</td>\n",
       "      <td>27961</td>\n",
       "      <td>0</td>\n",
       "      <td>1.38629</td>\n",
       "      <td>3</td>\n",
       "      <td>1</td>\n",
       "    </tr>\n",
       "    <tr>\n",
       "      <th>3106</th>\n",
       "      <td>200091.0</td>\n",
       "      <td>elixhauser_comorb_sum</td>\n",
       "      <td>sum_elix</td>\n",
       "      <td>0</td>\n",
       "      <td>2185-08-15</td>\n",
       "      <td>0 days</td>\n",
       "      <td>sum_elix</td>\n",
       "      <td>31854</td>\n",
       "      <td>0</td>\n",
       "      <td>1.38629</td>\n",
       "      <td>0</td>\n",
       "      <td>0</td>\n",
       "    </tr>\n",
       "    <tr>\n",
       "      <th>3693</th>\n",
       "      <td>200108.0</td>\n",
       "      <td>elixhauser_comorb_sum</td>\n",
       "      <td>sum_elix</td>\n",
       "      <td>1.79176</td>\n",
       "      <td>2110-12-10</td>\n",
       "      <td>0 days</td>\n",
       "      <td>sum_elix</td>\n",
       "      <td>50772</td>\n",
       "      <td>0</td>\n",
       "      <td>1.38629</td>\n",
       "      <td>5</td>\n",
       "      <td>1.29248</td>\n",
       "    </tr>\n",
       "    <tr>\n",
       "      <th>3972</th>\n",
       "      <td>200136.0</td>\n",
       "      <td>elixhauser_comorb_sum</td>\n",
       "      <td>sum_elix</td>\n",
       "      <td>0</td>\n",
       "      <td>2174-03-26</td>\n",
       "      <td>0 days</td>\n",
       "      <td>sum_elix</td>\n",
       "      <td>6338</td>\n",
       "      <td>0</td>\n",
       "      <td>1.38629</td>\n",
       "      <td>0</td>\n",
       "      <td>0</td>\n",
       "    </tr>\n",
       "    <tr>\n",
       "      <th>4491</th>\n",
       "      <td>200141.0</td>\n",
       "      <td>elixhauser_comorb_sum</td>\n",
       "      <td>sum_elix</td>\n",
       "      <td>0</td>\n",
       "      <td>2143-10-15</td>\n",
       "      <td>0 days</td>\n",
       "      <td>sum_elix</td>\n",
       "      <td>93071</td>\n",
       "      <td>0</td>\n",
       "      <td>1.38629</td>\n",
       "      <td>0</td>\n",
       "      <td>0</td>\n",
       "    </tr>\n",
       "    <tr>\n",
       "      <th>5020</th>\n",
       "      <td>200188.0</td>\n",
       "      <td>elixhauser_comorb_sum</td>\n",
       "      <td>sum_elix</td>\n",
       "      <td>1.38629</td>\n",
       "      <td>2160-03-14</td>\n",
       "      <td>0 days</td>\n",
       "      <td>sum_elix</td>\n",
       "      <td>13835</td>\n",
       "      <td>0</td>\n",
       "      <td>1.38629</td>\n",
       "      <td>3</td>\n",
       "      <td>1</td>\n",
       "    </tr>\n",
       "    <tr>\n",
       "      <th>5572</th>\n",
       "      <td>200197.0</td>\n",
       "      <td>elixhauser_comorb_sum</td>\n",
       "      <td>sum_elix</td>\n",
       "      <td>0</td>\n",
       "      <td>2177-09-07</td>\n",
       "      <td>0 days</td>\n",
       "      <td>sum_elix</td>\n",
       "      <td>27480</td>\n",
       "      <td>0</td>\n",
       "      <td>1.38629</td>\n",
       "      <td>0</td>\n",
       "      <td>0</td>\n",
       "    </tr>\n",
       "    <tr>\n",
       "      <th>5636</th>\n",
       "      <td>200215.0</td>\n",
       "      <td>elixhauser_comorb_sum</td>\n",
       "      <td>sum_elix</td>\n",
       "      <td>2.07944</td>\n",
       "      <td>2183-02-23</td>\n",
       "      <td>0 days</td>\n",
       "      <td>sum_elix</td>\n",
       "      <td>91802</td>\n",
       "      <td>0</td>\n",
       "      <td>1.38629</td>\n",
       "      <td>7</td>\n",
       "      <td>1.5</td>\n",
       "    </tr>\n",
       "    <tr>\n",
       "      <th>5637</th>\n",
       "      <td>200215.0</td>\n",
       "      <td>elixhauser_comorb_sum</td>\n",
       "      <td>sum_elix</td>\n",
       "      <td>1.94591</td>\n",
       "      <td>2183-02-23</td>\n",
       "      <td>0 days</td>\n",
       "      <td>sum_elix</td>\n",
       "      <td>91802</td>\n",
       "      <td>0</td>\n",
       "      <td>1.38629</td>\n",
       "      <td>6</td>\n",
       "      <td>1.40368</td>\n",
       "    </tr>\n",
       "    <tr>\n",
       "      <th>6181</th>\n",
       "      <td>200231.0</td>\n",
       "      <td>elixhauser_comorb_sum</td>\n",
       "      <td>sum_elix</td>\n",
       "      <td>0</td>\n",
       "      <td>2127-03-10</td>\n",
       "      <td>0 days</td>\n",
       "      <td>sum_elix</td>\n",
       "      <td>87253</td>\n",
       "      <td>0</td>\n",
       "      <td>1.38629</td>\n",
       "      <td>0</td>\n",
       "      <td>0</td>\n",
       "    </tr>\n",
       "    <tr>\n",
       "      <th>6747</th>\n",
       "      <td>200249.0</td>\n",
       "      <td>elixhauser_comorb_sum</td>\n",
       "      <td>sum_elix</td>\n",
       "      <td>0</td>\n",
       "      <td>2146-07-04</td>\n",
       "      <td>0 days</td>\n",
       "      <td>sum_elix</td>\n",
       "      <td>29401</td>\n",
       "      <td>0</td>\n",
       "      <td>1.38629</td>\n",
       "      <td>0</td>\n",
       "      <td>0</td>\n",
       "    </tr>\n",
       "    <tr>\n",
       "      <th>7447</th>\n",
       "      <td>200252.0</td>\n",
       "      <td>elixhauser_comorb_sum</td>\n",
       "      <td>sum_elix</td>\n",
       "      <td>0</td>\n",
       "      <td>2158-10-09</td>\n",
       "      <td>0 days</td>\n",
       "      <td>sum_elix</td>\n",
       "      <td>28865</td>\n",
       "      <td>0</td>\n",
       "      <td>1.38629</td>\n",
       "      <td>0</td>\n",
       "      <td>0</td>\n",
       "    </tr>\n",
       "    <tr>\n",
       "      <th>7624</th>\n",
       "      <td>200265.0</td>\n",
       "      <td>elixhauser_comorb_sum</td>\n",
       "      <td>sum_elix</td>\n",
       "      <td>0</td>\n",
       "      <td>2128-09-25</td>\n",
       "      <td>0 days</td>\n",
       "      <td>sum_elix</td>\n",
       "      <td>94072</td>\n",
       "      <td>0</td>\n",
       "      <td>1.38629</td>\n",
       "      <td>0</td>\n",
       "      <td>0</td>\n",
       "    </tr>\n",
       "    <tr>\n",
       "      <th>8145</th>\n",
       "      <td>200312.0</td>\n",
       "      <td>elixhauser_comorb_sum</td>\n",
       "      <td>sum_elix</td>\n",
       "      <td>0</td>\n",
       "      <td>2105-11-24</td>\n",
       "      <td>0 days</td>\n",
       "      <td>sum_elix</td>\n",
       "      <td>971</td>\n",
       "      <td>0</td>\n",
       "      <td>1.38629</td>\n",
       "      <td>0</td>\n",
       "      <td>0</td>\n",
       "    </tr>\n",
       "    <tr>\n",
       "      <th>8251</th>\n",
       "      <td>200321.0</td>\n",
       "      <td>elixhauser_comorb_sum</td>\n",
       "      <td>sum_elix</td>\n",
       "      <td>0.693147</td>\n",
       "      <td>2145-08-18</td>\n",
       "      <td>0 days</td>\n",
       "      <td>sum_elix</td>\n",
       "      <td>3516</td>\n",
       "      <td>0</td>\n",
       "      <td>1.38629</td>\n",
       "      <td>1</td>\n",
       "      <td>0.5</td>\n",
       "    </tr>\n",
       "    <tr>\n",
       "      <th>8547</th>\n",
       "      <td>200325.0</td>\n",
       "      <td>elixhauser_comorb_sum</td>\n",
       "      <td>sum_elix</td>\n",
       "      <td>0</td>\n",
       "      <td>2142-06-03</td>\n",
       "      <td>0 days</td>\n",
       "      <td>sum_elix</td>\n",
       "      <td>82257</td>\n",
       "      <td>0</td>\n",
       "      <td>1.38629</td>\n",
       "      <td>0</td>\n",
       "      <td>0</td>\n",
       "    </tr>\n",
       "    <tr>\n",
       "      <th>8548</th>\n",
       "      <td>200325.0</td>\n",
       "      <td>elixhauser_comorb_sum</td>\n",
       "      <td>sum_elix</td>\n",
       "      <td>1.94591</td>\n",
       "      <td>2142-06-03</td>\n",
       "      <td>0 days</td>\n",
       "      <td>sum_elix</td>\n",
       "      <td>82257</td>\n",
       "      <td>0</td>\n",
       "      <td>1.38629</td>\n",
       "      <td>6</td>\n",
       "      <td>1.40368</td>\n",
       "    </tr>\n",
       "    <tr>\n",
       "      <th>9257</th>\n",
       "      <td>200328.0</td>\n",
       "      <td>elixhauser_comorb_sum</td>\n",
       "      <td>sum_elix</td>\n",
       "      <td>0</td>\n",
       "      <td>2129-06-27</td>\n",
       "      <td>0 days</td>\n",
       "      <td>sum_elix</td>\n",
       "      <td>21891</td>\n",
       "      <td>0</td>\n",
       "      <td>1.38629</td>\n",
       "      <td>0</td>\n",
       "      <td>0</td>\n",
       "    </tr>\n",
       "    <tr>\n",
       "      <th>9616</th>\n",
       "      <td>200343.0</td>\n",
       "      <td>elixhauser_comorb_sum</td>\n",
       "      <td>sum_elix</td>\n",
       "      <td>1.09861</td>\n",
       "      <td>2116-09-14</td>\n",
       "      <td>0 days</td>\n",
       "      <td>sum_elix</td>\n",
       "      <td>8471</td>\n",
       "      <td>0</td>\n",
       "      <td>1.38629</td>\n",
       "      <td>2</td>\n",
       "      <td>0.792481</td>\n",
       "    </tr>\n",
       "    <tr>\n",
       "      <th>9939</th>\n",
       "      <td>200345.0</td>\n",
       "      <td>elixhauser_comorb_sum</td>\n",
       "      <td>sum_elix</td>\n",
       "      <td>0</td>\n",
       "      <td>2182-12-02</td>\n",
       "      <td>0 days</td>\n",
       "      <td>sum_elix</td>\n",
       "      <td>21008</td>\n",
       "      <td>0</td>\n",
       "      <td>1.38629</td>\n",
       "      <td>0</td>\n",
       "      <td>0</td>\n",
       "    </tr>\n",
       "    <tr>\n",
       "      <th>10732</th>\n",
       "      <td>200352.0</td>\n",
       "      <td>elixhauser_comorb_sum</td>\n",
       "      <td>sum_elix</td>\n",
       "      <td>1.79176</td>\n",
       "      <td>2171-09-28</td>\n",
       "      <td>0 days</td>\n",
       "      <td>sum_elix</td>\n",
       "      <td>97181</td>\n",
       "      <td>0</td>\n",
       "      <td>1.38629</td>\n",
       "      <td>5</td>\n",
       "      <td>1.29248</td>\n",
       "    </tr>\n",
       "    <tr>\n",
       "      <th>10984</th>\n",
       "      <td>200368.0</td>\n",
       "      <td>elixhauser_comorb_sum</td>\n",
       "      <td>sum_elix</td>\n",
       "      <td>0</td>\n",
       "      <td>2194-05-15</td>\n",
       "      <td>0 days</td>\n",
       "      <td>sum_elix</td>\n",
       "      <td>69672</td>\n",
       "      <td>0</td>\n",
       "      <td>1.38629</td>\n",
       "      <td>0</td>\n",
       "      <td>0</td>\n",
       "    </tr>\n",
       "    <tr>\n",
       "      <th>11235</th>\n",
       "      <td>200398.0</td>\n",
       "      <td>elixhauser_comorb_sum</td>\n",
       "      <td>sum_elix</td>\n",
       "      <td>0</td>\n",
       "      <td>2118-03-10</td>\n",
       "      <td>0 days</td>\n",
       "      <td>sum_elix</td>\n",
       "      <td>20457</td>\n",
       "      <td>0</td>\n",
       "      <td>1.38629</td>\n",
       "      <td>0</td>\n",
       "      <td>0</td>\n",
       "    </tr>\n",
       "    <tr>\n",
       "      <th>...</th>\n",
       "      <td>...</td>\n",
       "      <td>...</td>\n",
       "      <td>...</td>\n",
       "      <td>...</td>\n",
       "      <td>...</td>\n",
       "      <td>...</td>\n",
       "      <td>...</td>\n",
       "      <td>...</td>\n",
       "      <td>...</td>\n",
       "      <td>...</td>\n",
       "      <td>...</td>\n",
       "      <td>...</td>\n",
       "    </tr>\n",
       "    <tr>\n",
       "      <th>2300181</th>\n",
       "      <td>299557.0</td>\n",
       "      <td>elixhauser_comorb_sum</td>\n",
       "      <td>sum_elix</td>\n",
       "      <td>0</td>\n",
       "      <td>2178-06-23</td>\n",
       "      <td>0 days</td>\n",
       "      <td>sum_elix</td>\n",
       "      <td>91819</td>\n",
       "      <td>0</td>\n",
       "      <td>1.38629</td>\n",
       "      <td>0</td>\n",
       "      <td>0</td>\n",
       "    </tr>\n",
       "    <tr>\n",
       "      <th>2300182</th>\n",
       "      <td>299557.0</td>\n",
       "      <td>elixhauser_comorb_sum</td>\n",
       "      <td>sum_elix</td>\n",
       "      <td>1.38629</td>\n",
       "      <td>2178-06-23</td>\n",
       "      <td>0 days</td>\n",
       "      <td>sum_elix</td>\n",
       "      <td>91819</td>\n",
       "      <td>0</td>\n",
       "      <td>1.38629</td>\n",
       "      <td>3</td>\n",
       "      <td>1</td>\n",
       "    </tr>\n",
       "    <tr>\n",
       "      <th>2300961</th>\n",
       "      <td>299581.0</td>\n",
       "      <td>elixhauser_comorb_sum</td>\n",
       "      <td>sum_elix</td>\n",
       "      <td>0</td>\n",
       "      <td>2145-10-07</td>\n",
       "      <td>0 days</td>\n",
       "      <td>sum_elix</td>\n",
       "      <td>25454</td>\n",
       "      <td>0</td>\n",
       "      <td>1.38629</td>\n",
       "      <td>0</td>\n",
       "      <td>0</td>\n",
       "    </tr>\n",
       "    <tr>\n",
       "      <th>2301648</th>\n",
       "      <td>299593.0</td>\n",
       "      <td>elixhauser_comorb_sum</td>\n",
       "      <td>sum_elix</td>\n",
       "      <td>1.38629</td>\n",
       "      <td>2155-07-10</td>\n",
       "      <td>0 days</td>\n",
       "      <td>sum_elix</td>\n",
       "      <td>92873</td>\n",
       "      <td>0</td>\n",
       "      <td>1.38629</td>\n",
       "      <td>3</td>\n",
       "      <td>1</td>\n",
       "    </tr>\n",
       "    <tr>\n",
       "      <th>2301768</th>\n",
       "      <td>299614.0</td>\n",
       "      <td>elixhauser_comorb_sum</td>\n",
       "      <td>sum_elix</td>\n",
       "      <td>0</td>\n",
       "      <td>2192-01-04</td>\n",
       "      <td>0 days</td>\n",
       "      <td>sum_elix</td>\n",
       "      <td>76927</td>\n",
       "      <td>0</td>\n",
       "      <td>1.38629</td>\n",
       "      <td>0</td>\n",
       "      <td>0</td>\n",
       "    </tr>\n",
       "    <tr>\n",
       "      <th>2302324</th>\n",
       "      <td>299629.0</td>\n",
       "      <td>elixhauser_comorb_sum</td>\n",
       "      <td>sum_elix</td>\n",
       "      <td>1.94591</td>\n",
       "      <td>2106-11-14</td>\n",
       "      <td>0 days</td>\n",
       "      <td>sum_elix</td>\n",
       "      <td>13330</td>\n",
       "      <td>0</td>\n",
       "      <td>1.38629</td>\n",
       "      <td>6</td>\n",
       "      <td>1.40368</td>\n",
       "    </tr>\n",
       "    <tr>\n",
       "      <th>2302883</th>\n",
       "      <td>299630.0</td>\n",
       "      <td>elixhauser_comorb_sum</td>\n",
       "      <td>sum_elix</td>\n",
       "      <td>1.79176</td>\n",
       "      <td>2141-10-15</td>\n",
       "      <td>0 days</td>\n",
       "      <td>sum_elix</td>\n",
       "      <td>81543</td>\n",
       "      <td>0</td>\n",
       "      <td>1.38629</td>\n",
       "      <td>5</td>\n",
       "      <td>1.29248</td>\n",
       "    </tr>\n",
       "    <tr>\n",
       "      <th>2303226</th>\n",
       "      <td>299645.0</td>\n",
       "      <td>elixhauser_comorb_sum</td>\n",
       "      <td>sum_elix</td>\n",
       "      <td>0</td>\n",
       "      <td>2162-11-18</td>\n",
       "      <td>0 days</td>\n",
       "      <td>sum_elix</td>\n",
       "      <td>54154</td>\n",
       "      <td>0</td>\n",
       "      <td>1.38629</td>\n",
       "      <td>0</td>\n",
       "      <td>0</td>\n",
       "    </tr>\n",
       "    <tr>\n",
       "      <th>2303626</th>\n",
       "      <td>299654.0</td>\n",
       "      <td>elixhauser_comorb_sum</td>\n",
       "      <td>sum_elix</td>\n",
       "      <td>0</td>\n",
       "      <td>2149-12-23</td>\n",
       "      <td>0 days</td>\n",
       "      <td>sum_elix</td>\n",
       "      <td>25952</td>\n",
       "      <td>0</td>\n",
       "      <td>1.38629</td>\n",
       "      <td>0</td>\n",
       "      <td>0</td>\n",
       "    </tr>\n",
       "    <tr>\n",
       "      <th>2305046</th>\n",
       "      <td>299655.0</td>\n",
       "      <td>elixhauser_comorb_sum</td>\n",
       "      <td>sum_elix</td>\n",
       "      <td>0</td>\n",
       "      <td>2199-08-15</td>\n",
       "      <td>0 days</td>\n",
       "      <td>sum_elix</td>\n",
       "      <td>91033</td>\n",
       "      <td>0</td>\n",
       "      <td>1.38629</td>\n",
       "      <td>0</td>\n",
       "      <td>0</td>\n",
       "    </tr>\n",
       "    <tr>\n",
       "      <th>2305342</th>\n",
       "      <td>299666.0</td>\n",
       "      <td>elixhauser_comorb_sum</td>\n",
       "      <td>sum_elix</td>\n",
       "      <td>0</td>\n",
       "      <td>2173-04-06</td>\n",
       "      <td>0 days</td>\n",
       "      <td>sum_elix</td>\n",
       "      <td>422</td>\n",
       "      <td>0</td>\n",
       "      <td>1.38629</td>\n",
       "      <td>0</td>\n",
       "      <td>0</td>\n",
       "    </tr>\n",
       "    <tr>\n",
       "      <th>2305691</th>\n",
       "      <td>299685.0</td>\n",
       "      <td>elixhauser_comorb_sum</td>\n",
       "      <td>sum_elix</td>\n",
       "      <td>0</td>\n",
       "      <td>2143-08-21</td>\n",
       "      <td>0 days</td>\n",
       "      <td>sum_elix</td>\n",
       "      <td>53896</td>\n",
       "      <td>0</td>\n",
       "      <td>1.38629</td>\n",
       "      <td>0</td>\n",
       "      <td>0</td>\n",
       "    </tr>\n",
       "    <tr>\n",
       "      <th>2305999</th>\n",
       "      <td>299695.0</td>\n",
       "      <td>elixhauser_comorb_sum</td>\n",
       "      <td>sum_elix</td>\n",
       "      <td>0</td>\n",
       "      <td>2183-12-13</td>\n",
       "      <td>0 days</td>\n",
       "      <td>sum_elix</td>\n",
       "      <td>5991</td>\n",
       "      <td>0</td>\n",
       "      <td>1.38629</td>\n",
       "      <td>0</td>\n",
       "      <td>0</td>\n",
       "    </tr>\n",
       "    <tr>\n",
       "      <th>2306434</th>\n",
       "      <td>299715.0</td>\n",
       "      <td>elixhauser_comorb_sum</td>\n",
       "      <td>sum_elix</td>\n",
       "      <td>0</td>\n",
       "      <td>2183-01-02</td>\n",
       "      <td>0 days</td>\n",
       "      <td>sum_elix</td>\n",
       "      <td>10057</td>\n",
       "      <td>0</td>\n",
       "      <td>1.38629</td>\n",
       "      <td>0</td>\n",
       "      <td>0</td>\n",
       "    </tr>\n",
       "    <tr>\n",
       "      <th>2307523</th>\n",
       "      <td>299728.0</td>\n",
       "      <td>elixhauser_comorb_sum</td>\n",
       "      <td>sum_elix</td>\n",
       "      <td>0</td>\n",
       "      <td>2172-06-28</td>\n",
       "      <td>0 days</td>\n",
       "      <td>sum_elix</td>\n",
       "      <td>25904</td>\n",
       "      <td>0</td>\n",
       "      <td>1.38629</td>\n",
       "      <td>0</td>\n",
       "      <td>0</td>\n",
       "    </tr>\n",
       "    <tr>\n",
       "      <th>2308553</th>\n",
       "      <td>299734.0</td>\n",
       "      <td>elixhauser_comorb_sum</td>\n",
       "      <td>sum_elix</td>\n",
       "      <td>0</td>\n",
       "      <td>2103-11-14</td>\n",
       "      <td>0 days</td>\n",
       "      <td>sum_elix</td>\n",
       "      <td>78674</td>\n",
       "      <td>0</td>\n",
       "      <td>1.38629</td>\n",
       "      <td>0</td>\n",
       "      <td>0</td>\n",
       "    </tr>\n",
       "    <tr>\n",
       "      <th>2308857</th>\n",
       "      <td>299736.0</td>\n",
       "      <td>elixhauser_comorb_sum</td>\n",
       "      <td>sum_elix</td>\n",
       "      <td>0</td>\n",
       "      <td>2137-06-08</td>\n",
       "      <td>0 days</td>\n",
       "      <td>sum_elix</td>\n",
       "      <td>68426</td>\n",
       "      <td>0</td>\n",
       "      <td>1.38629</td>\n",
       "      <td>0</td>\n",
       "      <td>0</td>\n",
       "    </tr>\n",
       "    <tr>\n",
       "      <th>2309446</th>\n",
       "      <td>299751.0</td>\n",
       "      <td>elixhauser_comorb_sum</td>\n",
       "      <td>sum_elix</td>\n",
       "      <td>0</td>\n",
       "      <td>2141-03-20</td>\n",
       "      <td>0 days</td>\n",
       "      <td>sum_elix</td>\n",
       "      <td>12058</td>\n",
       "      <td>0</td>\n",
       "      <td>1.38629</td>\n",
       "      <td>0</td>\n",
       "      <td>0</td>\n",
       "    </tr>\n",
       "    <tr>\n",
       "      <th>2309992</th>\n",
       "      <td>299765.0</td>\n",
       "      <td>elixhauser_comorb_sum</td>\n",
       "      <td>sum_elix</td>\n",
       "      <td>1.79176</td>\n",
       "      <td>2119-11-27</td>\n",
       "      <td>0 days</td>\n",
       "      <td>sum_elix</td>\n",
       "      <td>3100</td>\n",
       "      <td>0</td>\n",
       "      <td>1.38629</td>\n",
       "      <td>5</td>\n",
       "      <td>1.29248</td>\n",
       "    </tr>\n",
       "    <tr>\n",
       "      <th>2310545</th>\n",
       "      <td>299811.0</td>\n",
       "      <td>elixhauser_comorb_sum</td>\n",
       "      <td>sum_elix</td>\n",
       "      <td>0</td>\n",
       "      <td>2123-02-20</td>\n",
       "      <td>0 days</td>\n",
       "      <td>sum_elix</td>\n",
       "      <td>69604</td>\n",
       "      <td>0</td>\n",
       "      <td>1.38629</td>\n",
       "      <td>0</td>\n",
       "      <td>0</td>\n",
       "    </tr>\n",
       "    <tr>\n",
       "      <th>2310898</th>\n",
       "      <td>299826.0</td>\n",
       "      <td>elixhauser_comorb_sum</td>\n",
       "      <td>sum_elix</td>\n",
       "      <td>0</td>\n",
       "      <td>2172-02-27</td>\n",
       "      <td>0 days</td>\n",
       "      <td>sum_elix</td>\n",
       "      <td>45460</td>\n",
       "      <td>0</td>\n",
       "      <td>1.38629</td>\n",
       "      <td>0</td>\n",
       "      <td>0</td>\n",
       "    </tr>\n",
       "    <tr>\n",
       "      <th>2311217</th>\n",
       "      <td>299853.0</td>\n",
       "      <td>elixhauser_comorb_sum</td>\n",
       "      <td>sum_elix</td>\n",
       "      <td>0</td>\n",
       "      <td>2101-01-16</td>\n",
       "      <td>0 days</td>\n",
       "      <td>sum_elix</td>\n",
       "      <td>95830</td>\n",
       "      <td>0</td>\n",
       "      <td>1.38629</td>\n",
       "      <td>0</td>\n",
       "      <td>0</td>\n",
       "    </tr>\n",
       "    <tr>\n",
       "      <th>2311806</th>\n",
       "      <td>299858.0</td>\n",
       "      <td>elixhauser_comorb_sum</td>\n",
       "      <td>sum_elix</td>\n",
       "      <td>0</td>\n",
       "      <td>2129-03-19</td>\n",
       "      <td>0 days</td>\n",
       "      <td>sum_elix</td>\n",
       "      <td>68941</td>\n",
       "      <td>0</td>\n",
       "      <td>1.38629</td>\n",
       "      <td>0</td>\n",
       "      <td>0</td>\n",
       "    </tr>\n",
       "    <tr>\n",
       "      <th>2312090</th>\n",
       "      <td>299863.0</td>\n",
       "      <td>elixhauser_comorb_sum</td>\n",
       "      <td>sum_elix</td>\n",
       "      <td>0</td>\n",
       "      <td>2154-12-15</td>\n",
       "      <td>0 days</td>\n",
       "      <td>sum_elix</td>\n",
       "      <td>31011</td>\n",
       "      <td>0</td>\n",
       "      <td>1.38629</td>\n",
       "      <td>0</td>\n",
       "      <td>0</td>\n",
       "    </tr>\n",
       "    <tr>\n",
       "      <th>2312978</th>\n",
       "      <td>299880.0</td>\n",
       "      <td>elixhauser_comorb_sum</td>\n",
       "      <td>sum_elix</td>\n",
       "      <td>0</td>\n",
       "      <td>2159-06-03</td>\n",
       "      <td>0 days</td>\n",
       "      <td>sum_elix</td>\n",
       "      <td>66165</td>\n",
       "      <td>0</td>\n",
       "      <td>1.38629</td>\n",
       "      <td>0</td>\n",
       "      <td>0</td>\n",
       "    </tr>\n",
       "    <tr>\n",
       "      <th>2313326</th>\n",
       "      <td>299883.0</td>\n",
       "      <td>elixhauser_comorb_sum</td>\n",
       "      <td>sum_elix</td>\n",
       "      <td>0</td>\n",
       "      <td>2165-05-25</td>\n",
       "      <td>0 days</td>\n",
       "      <td>sum_elix</td>\n",
       "      <td>42148</td>\n",
       "      <td>0</td>\n",
       "      <td>1.38629</td>\n",
       "      <td>0</td>\n",
       "      <td>0</td>\n",
       "    </tr>\n",
       "    <tr>\n",
       "      <th>2313598</th>\n",
       "      <td>299913.0</td>\n",
       "      <td>elixhauser_comorb_sum</td>\n",
       "      <td>sum_elix</td>\n",
       "      <td>2.19722</td>\n",
       "      <td>2121-07-21</td>\n",
       "      <td>0 days</td>\n",
       "      <td>sum_elix</td>\n",
       "      <td>54247</td>\n",
       "      <td>0</td>\n",
       "      <td>1.38629</td>\n",
       "      <td>8</td>\n",
       "      <td>1.58496</td>\n",
       "    </tr>\n",
       "    <tr>\n",
       "      <th>2314072</th>\n",
       "      <td>299914.0</td>\n",
       "      <td>elixhauser_comorb_sum</td>\n",
       "      <td>sum_elix</td>\n",
       "      <td>1.79176</td>\n",
       "      <td>2141-08-17</td>\n",
       "      <td>0 days</td>\n",
       "      <td>sum_elix</td>\n",
       "      <td>42919</td>\n",
       "      <td>0</td>\n",
       "      <td>1.38629</td>\n",
       "      <td>5</td>\n",
       "      <td>1.29248</td>\n",
       "    </tr>\n",
       "    <tr>\n",
       "      <th>2314236</th>\n",
       "      <td>299950.0</td>\n",
       "      <td>elixhauser_comorb_sum</td>\n",
       "      <td>sum_elix</td>\n",
       "      <td>0</td>\n",
       "      <td>2122-06-21</td>\n",
       "      <td>0 days</td>\n",
       "      <td>sum_elix</td>\n",
       "      <td>98649</td>\n",
       "      <td>0</td>\n",
       "      <td>1.38629</td>\n",
       "      <td>0</td>\n",
       "      <td>0</td>\n",
       "    </tr>\n",
       "    <tr>\n",
       "      <th>2314532</th>\n",
       "      <td>299955.0</td>\n",
       "      <td>elixhauser_comorb_sum</td>\n",
       "      <td>sum_elix</td>\n",
       "      <td>1.38629</td>\n",
       "      <td>2113-05-02</td>\n",
       "      <td>0 days</td>\n",
       "      <td>sum_elix</td>\n",
       "      <td>14330</td>\n",
       "      <td>0</td>\n",
       "      <td>1.38629</td>\n",
       "      <td>3</td>\n",
       "      <td>1</td>\n",
       "    </tr>\n",
       "  </tbody>\n",
       "</table>\n",
       "<p>5655 rows × 12 columns</p>\n",
       "</div>"
      ],
      "text/plain": [
       "         icustay_id                    uom     label     value         t_0  \\\n",
       "9          200030.0  elixhauser_comorb_sum  sum_elix         0  2150-11-14   \n",
       "610        200033.0  elixhauser_comorb_sum  sum_elix         0  2198-08-11   \n",
       "1230       200036.0  elixhauser_comorb_sum  sum_elix         0  2181-08-27   \n",
       "1608       200061.0  elixhauser_comorb_sum  sum_elix         0  2134-01-24   \n",
       "1918       200063.0  elixhauser_comorb_sum  sum_elix         0  2141-03-12   \n",
       "2727       200075.0  elixhauser_comorb_sum  sum_elix         0  2159-09-24   \n",
       "2942       200078.0  elixhauser_comorb_sum  sum_elix         0  2131-08-02   \n",
       "2943       200078.0  elixhauser_comorb_sum  sum_elix   1.38629  2131-08-02   \n",
       "3106       200091.0  elixhauser_comorb_sum  sum_elix         0  2185-08-15   \n",
       "3693       200108.0  elixhauser_comorb_sum  sum_elix   1.79176  2110-12-10   \n",
       "3972       200136.0  elixhauser_comorb_sum  sum_elix         0  2174-03-26   \n",
       "4491       200141.0  elixhauser_comorb_sum  sum_elix         0  2143-10-15   \n",
       "5020       200188.0  elixhauser_comorb_sum  sum_elix   1.38629  2160-03-14   \n",
       "5572       200197.0  elixhauser_comorb_sum  sum_elix         0  2177-09-07   \n",
       "5636       200215.0  elixhauser_comorb_sum  sum_elix   2.07944  2183-02-23   \n",
       "5637       200215.0  elixhauser_comorb_sum  sum_elix   1.94591  2183-02-23   \n",
       "6181       200231.0  elixhauser_comorb_sum  sum_elix         0  2127-03-10   \n",
       "6747       200249.0  elixhauser_comorb_sum  sum_elix         0  2146-07-04   \n",
       "7447       200252.0  elixhauser_comorb_sum  sum_elix         0  2158-10-09   \n",
       "7624       200265.0  elixhauser_comorb_sum  sum_elix         0  2128-09-25   \n",
       "8145       200312.0  elixhauser_comorb_sum  sum_elix         0  2105-11-24   \n",
       "8251       200321.0  elixhauser_comorb_sum  sum_elix  0.693147  2145-08-18   \n",
       "8547       200325.0  elixhauser_comorb_sum  sum_elix         0  2142-06-03   \n",
       "8548       200325.0  elixhauser_comorb_sum  sum_elix   1.94591  2142-06-03   \n",
       "9257       200328.0  elixhauser_comorb_sum  sum_elix         0  2129-06-27   \n",
       "9616       200343.0  elixhauser_comorb_sum  sum_elix   1.09861  2116-09-14   \n",
       "9939       200345.0  elixhauser_comorb_sum  sum_elix         0  2182-12-02   \n",
       "10732      200352.0  elixhauser_comorb_sum  sum_elix   1.79176  2171-09-28   \n",
       "10984      200368.0  elixhauser_comorb_sum  sum_elix         0  2194-05-15   \n",
       "11235      200398.0  elixhauser_comorb_sum  sum_elix         0  2118-03-10   \n",
       "...             ...                    ...       ...       ...         ...   \n",
       "2300181    299557.0  elixhauser_comorb_sum  sum_elix         0  2178-06-23   \n",
       "2300182    299557.0  elixhauser_comorb_sum  sum_elix   1.38629  2178-06-23   \n",
       "2300961    299581.0  elixhauser_comorb_sum  sum_elix         0  2145-10-07   \n",
       "2301648    299593.0  elixhauser_comorb_sum  sum_elix   1.38629  2155-07-10   \n",
       "2301768    299614.0  elixhauser_comorb_sum  sum_elix         0  2192-01-04   \n",
       "2302324    299629.0  elixhauser_comorb_sum  sum_elix   1.94591  2106-11-14   \n",
       "2302883    299630.0  elixhauser_comorb_sum  sum_elix   1.79176  2141-10-15   \n",
       "2303226    299645.0  elixhauser_comorb_sum  sum_elix         0  2162-11-18   \n",
       "2303626    299654.0  elixhauser_comorb_sum  sum_elix         0  2149-12-23   \n",
       "2305046    299655.0  elixhauser_comorb_sum  sum_elix         0  2199-08-15   \n",
       "2305342    299666.0  elixhauser_comorb_sum  sum_elix         0  2173-04-06   \n",
       "2305691    299685.0  elixhauser_comorb_sum  sum_elix         0  2143-08-21   \n",
       "2305999    299695.0  elixhauser_comorb_sum  sum_elix         0  2183-12-13   \n",
       "2306434    299715.0  elixhauser_comorb_sum  sum_elix         0  2183-01-02   \n",
       "2307523    299728.0  elixhauser_comorb_sum  sum_elix         0  2172-06-28   \n",
       "2308553    299734.0  elixhauser_comorb_sum  sum_elix         0  2103-11-14   \n",
       "2308857    299736.0  elixhauser_comorb_sum  sum_elix         0  2137-06-08   \n",
       "2309446    299751.0  elixhauser_comorb_sum  sum_elix         0  2141-03-20   \n",
       "2309992    299765.0  elixhauser_comorb_sum  sum_elix   1.79176  2119-11-27   \n",
       "2310545    299811.0  elixhauser_comorb_sum  sum_elix         0  2123-02-20   \n",
       "2310898    299826.0  elixhauser_comorb_sum  sum_elix         0  2172-02-27   \n",
       "2311217    299853.0  elixhauser_comorb_sum  sum_elix         0  2101-01-16   \n",
       "2311806    299858.0  elixhauser_comorb_sum  sum_elix         0  2129-03-19   \n",
       "2312090    299863.0  elixhauser_comorb_sum  sum_elix         0  2154-12-15   \n",
       "2312978    299880.0  elixhauser_comorb_sum  sum_elix         0  2159-06-03   \n",
       "2313326    299883.0  elixhauser_comorb_sum  sum_elix         0  2165-05-25   \n",
       "2313598    299913.0  elixhauser_comorb_sum  sum_elix   2.19722  2121-07-21   \n",
       "2314072    299914.0  elixhauser_comorb_sum  sum_elix   1.79176  2141-08-17   \n",
       "2314236    299950.0  elixhauser_comorb_sum  sum_elix         0  2122-06-21   \n",
       "2314532    299955.0  elixhauser_comorb_sum  sum_elix   1.38629  2113-05-02   \n",
       "\n",
       "         delta    source  subject_id median      iqr raw_value standardize  \n",
       "9       0 days  sum_elix       14987      0  1.38629         0           0  \n",
       "610     0 days  sum_elix       56369      0  1.38629         0           0  \n",
       "1230    0 days  sum_elix        9960      0  1.38629         0           0  \n",
       "1608    0 days  sum_elix       74282      0  1.38629         0           0  \n",
       "1918    0 days  sum_elix       99052      0  1.38629         0           0  \n",
       "2727    0 days  sum_elix       67800      0  1.38629         0           0  \n",
       "2942    0 days  sum_elix       27961      0  1.38629         0           0  \n",
       "2943    0 days  sum_elix       27961      0  1.38629         3           1  \n",
       "3106    0 days  sum_elix       31854      0  1.38629         0           0  \n",
       "3693    0 days  sum_elix       50772      0  1.38629         5     1.29248  \n",
       "3972    0 days  sum_elix        6338      0  1.38629         0           0  \n",
       "4491    0 days  sum_elix       93071      0  1.38629         0           0  \n",
       "5020    0 days  sum_elix       13835      0  1.38629         3           1  \n",
       "5572    0 days  sum_elix       27480      0  1.38629         0           0  \n",
       "5636    0 days  sum_elix       91802      0  1.38629         7         1.5  \n",
       "5637    0 days  sum_elix       91802      0  1.38629         6     1.40368  \n",
       "6181    0 days  sum_elix       87253      0  1.38629         0           0  \n",
       "6747    0 days  sum_elix       29401      0  1.38629         0           0  \n",
       "7447    0 days  sum_elix       28865      0  1.38629         0           0  \n",
       "7624    0 days  sum_elix       94072      0  1.38629         0           0  \n",
       "8145    0 days  sum_elix         971      0  1.38629         0           0  \n",
       "8251    0 days  sum_elix        3516      0  1.38629         1         0.5  \n",
       "8547    0 days  sum_elix       82257      0  1.38629         0           0  \n",
       "8548    0 days  sum_elix       82257      0  1.38629         6     1.40368  \n",
       "9257    0 days  sum_elix       21891      0  1.38629         0           0  \n",
       "9616    0 days  sum_elix        8471      0  1.38629         2    0.792481  \n",
       "9939    0 days  sum_elix       21008      0  1.38629         0           0  \n",
       "10732   0 days  sum_elix       97181      0  1.38629         5     1.29248  \n",
       "10984   0 days  sum_elix       69672      0  1.38629         0           0  \n",
       "11235   0 days  sum_elix       20457      0  1.38629         0           0  \n",
       "...        ...       ...         ...    ...      ...       ...         ...  \n",
       "2300181 0 days  sum_elix       91819      0  1.38629         0           0  \n",
       "2300182 0 days  sum_elix       91819      0  1.38629         3           1  \n",
       "2300961 0 days  sum_elix       25454      0  1.38629         0           0  \n",
       "2301648 0 days  sum_elix       92873      0  1.38629         3           1  \n",
       "2301768 0 days  sum_elix       76927      0  1.38629         0           0  \n",
       "2302324 0 days  sum_elix       13330      0  1.38629         6     1.40368  \n",
       "2302883 0 days  sum_elix       81543      0  1.38629         5     1.29248  \n",
       "2303226 0 days  sum_elix       54154      0  1.38629         0           0  \n",
       "2303626 0 days  sum_elix       25952      0  1.38629         0           0  \n",
       "2305046 0 days  sum_elix       91033      0  1.38629         0           0  \n",
       "2305342 0 days  sum_elix         422      0  1.38629         0           0  \n",
       "2305691 0 days  sum_elix       53896      0  1.38629         0           0  \n",
       "2305999 0 days  sum_elix        5991      0  1.38629         0           0  \n",
       "2306434 0 days  sum_elix       10057      0  1.38629         0           0  \n",
       "2307523 0 days  sum_elix       25904      0  1.38629         0           0  \n",
       "2308553 0 days  sum_elix       78674      0  1.38629         0           0  \n",
       "2308857 0 days  sum_elix       68426      0  1.38629         0           0  \n",
       "2309446 0 days  sum_elix       12058      0  1.38629         0           0  \n",
       "2309992 0 days  sum_elix        3100      0  1.38629         5     1.29248  \n",
       "2310545 0 days  sum_elix       69604      0  1.38629         0           0  \n",
       "2310898 0 days  sum_elix       45460      0  1.38629         0           0  \n",
       "2311217 0 days  sum_elix       95830      0  1.38629         0           0  \n",
       "2311806 0 days  sum_elix       68941      0  1.38629         0           0  \n",
       "2312090 0 days  sum_elix       31011      0  1.38629         0           0  \n",
       "2312978 0 days  sum_elix       66165      0  1.38629         0           0  \n",
       "2313326 0 days  sum_elix       42148      0  1.38629         0           0  \n",
       "2313598 0 days  sum_elix       54247      0  1.38629         8     1.58496  \n",
       "2314072 0 days  sum_elix       42919      0  1.38629         5     1.29248  \n",
       "2314236 0 days  sum_elix       98649      0  1.38629         0           0  \n",
       "2314532 0 days  sum_elix       14330      0  1.38629         3           1  \n",
       "\n",
       "[5655 rows x 12 columns]"
      ]
     },
     "execution_count": 364,
     "metadata": {},
     "output_type": "execute_result"
    },
    {
     "name": "stdout",
     "output_type": "stream",
     "text": [
      "time: 150 ms\n"
     ]
    }
   ],
   "source": [
    "noCat_df_train[noCat_df_train['label']=='sum_elix']"
   ]
  },
  {
   "cell_type": "code",
   "execution_count": 235,
   "metadata": {},
   "outputs": [
    {
     "data": {
      "text/plain": [
       "42"
      ]
     },
     "execution_count": 235,
     "metadata": {},
     "output_type": "execute_result"
    },
    {
     "name": "stdout",
     "output_type": "stream",
     "text": [
      "time: 95.5 ms\n"
     ]
    }
   ],
   "source": [
    "len(noCat_df_train['label'].unique()) #42, should be 28"
   ]
  },
  {
   "cell_type": "code",
   "execution_count": 217,
   "metadata": {},
   "outputs": [
    {
     "data": {
      "text/plain": [
       "200033.0"
      ]
     },
     "execution_count": 217,
     "metadata": {},
     "output_type": "execute_result"
    },
    {
     "name": "stdout",
     "output_type": "stream",
     "text": [
      "time: 37.3 ms\n"
     ]
    }
   ],
   "source": [
    "noCat_df_train['icustay_id'].unique()[1]"
   ]
  },
  {
   "cell_type": "code",
   "execution_count": 491,
   "metadata": {},
   "outputs": [
    {
     "name": "stdout",
     "output_type": "stream",
     "text": [
      "time: 857 ms\n"
     ]
    }
   ],
   "source": [
    "#fixing one patient with delta=4 sofa\n",
    "noCat_df_train.loc[noCat_df_train['delta']==pd.Timedelta(\"4 days\"), 'delta']=pd.Timedelta(\"3 days\")\n",
    "#fixing one patient with delta=4 sofa\n",
    "noCat_df_test.loc[noCat_df_test['delta']==pd.Timedelta(\"4 days\"), 'delta']=pd.Timedelta(\"3 days\")"
   ]
  },
  {
   "cell_type": "markdown",
   "metadata": {},
   "source": [
    "# messing with timeseries vis\n",
    "* resampling different time windows\n",
    "* forward fill \n",
    "* cat vs nocat\n",
    "* visualization"
   ]
  },
  {
   "cell_type": "code",
   "execution_count": 221,
   "metadata": {},
   "outputs": [
    {
     "data": {
      "text/plain": [
       "count                   2412975\n",
       "mean     1 days 04:36:55.890392\n",
       "std      0 days 19:57:13.453162\n",
       "min             0 days 00:00:00\n",
       "25%             0 days 12:00:00\n",
       "50%             1 days 02:00:00\n",
       "75%             1 days 20:00:00\n",
       "max             4 days 00:00:00\n",
       "Name: delta, dtype: object"
      ]
     },
     "execution_count": 221,
     "metadata": {},
     "output_type": "execute_result"
    },
    {
     "name": "stdout",
     "output_type": "stream",
     "text": [
      "time: 111 ms\n"
     ]
    }
   ],
   "source": [
    "noCat_df_train['delta'].describe()"
   ]
  },
  {
   "cell_type": "code",
   "execution_count": 222,
   "metadata": {},
   "outputs": [
    {
     "data": {
      "text/html": [
       "<div>\n",
       "<style scoped>\n",
       "    .dataframe tbody tr th:only-of-type {\n",
       "        vertical-align: middle;\n",
       "    }\n",
       "\n",
       "    .dataframe tbody tr th {\n",
       "        vertical-align: top;\n",
       "    }\n",
       "\n",
       "    .dataframe thead th {\n",
       "        text-align: right;\n",
       "    }\n",
       "</style>\n",
       "<table border=\"1\" class=\"dataframe\">\n",
       "  <thead>\n",
       "    <tr style=\"text-align: right;\">\n",
       "      <th></th>\n",
       "      <th>delta</th>\n",
       "    </tr>\n",
       "  </thead>\n",
       "  <tbody>\n",
       "    <tr>\n",
       "      <th>count</th>\n",
       "      <td>232</td>\n",
       "    </tr>\n",
       "    <tr>\n",
       "      <th>mean</th>\n",
       "      <td>0 days 16:21:35.689655</td>\n",
       "    </tr>\n",
       "    <tr>\n",
       "      <th>std</th>\n",
       "      <td>0 days 15:41:56.585486</td>\n",
       "    </tr>\n",
       "    <tr>\n",
       "      <th>min</th>\n",
       "      <td>0 days 00:00:00</td>\n",
       "    </tr>\n",
       "    <tr>\n",
       "      <th>25%</th>\n",
       "      <td>0 days 04:00:00</td>\n",
       "    </tr>\n",
       "    <tr>\n",
       "      <th>50%</th>\n",
       "      <td>0 days 14:23:00</td>\n",
       "    </tr>\n",
       "    <tr>\n",
       "      <th>75%</th>\n",
       "      <td>0 days 23:00:00</td>\n",
       "    </tr>\n",
       "    <tr>\n",
       "      <th>max</th>\n",
       "      <td>2 days 16:44:00</td>\n",
       "    </tr>\n",
       "  </tbody>\n",
       "</table>\n",
       "</div>"
      ],
      "text/plain": [
       "                        delta\n",
       "count                     232\n",
       "mean   0 days 16:21:35.689655\n",
       "std    0 days 15:41:56.585486\n",
       "min           0 days 00:00:00\n",
       "25%           0 days 04:00:00\n",
       "50%           0 days 14:23:00\n",
       "75%           0 days 23:00:00\n",
       "max           2 days 16:44:00"
      ]
     },
     "execution_count": 222,
     "metadata": {},
     "output_type": "execute_result"
    },
    {
     "name": "stdout",
     "output_type": "stream",
     "text": [
      "time: 34.9 ms\n"
     ]
    }
   ],
   "source": [
    "#trying to find a patient without a 0:00:00 and 3day time\n",
    "noCat_df_train.loc[(noCat_df_train.loc[:,'icustay_id']==noCat_df_train['icustay_id'].unique()[5]),['delta']].describe()"
   ]
  },
  {
   "cell_type": "code",
   "execution_count": 223,
   "metadata": {},
   "outputs": [
    {
     "data": {
      "text/plain": [
       "Timedelta('0 days 00:00:00')"
      ]
     },
     "execution_count": 223,
     "metadata": {},
     "output_type": "execute_result"
    },
    {
     "name": "stdout",
     "output_type": "stream",
     "text": [
      "time: 44.4 ms\n"
     ]
    }
   ],
   "source": [
    "(noCat_df_train.groupby('icustay_id')['delta'].min()).min()\n",
    "#Good news, everyone has atleast a 0:00:00 timepoint"
   ]
  },
  {
   "cell_type": "code",
   "execution_count": 224,
   "metadata": {},
   "outputs": [
    {
     "data": {
      "text/plain": [
       "Timedelta('0 days 14:00:00')"
      ]
     },
     "execution_count": 224,
     "metadata": {},
     "output_type": "execute_result"
    },
    {
     "name": "stdout",
     "output_type": "stream",
     "text": [
      "time: 48.3 ms\n"
     ]
    }
   ],
   "source": [
    "(noCat_df_train.groupby('icustay_id')['delta'].max()).min()\n",
    "#but not everyone has a 3day timepoint."
   ]
  },
  {
   "cell_type": "markdown",
   "metadata": {},
   "source": [
    "### trying to pivot table before any resample"
   ]
  },
  {
   "cell_type": "code",
   "execution_count": 102,
   "metadata": {},
   "outputs": [
    {
     "name": "stdout",
     "output_type": "stream",
     "text": [
      "time: 143 ms\n"
     ]
    }
   ],
   "source": [
    "#one patient and all variable\n",
    "test_df1=noCat_df_train.loc[(noCat_df_train.loc[:,'icustay_id']==200030.0),['delta','value','label']].copy()\n",
    "\n",
    "#one patient and one variable\n",
    "test_df2=noCat_df_train.loc[(noCat_df_train.loc[:,'label']=='diasbp')&(noCat_df_train.loc[:,'icustay_id']==200030.0),['delta','value']].copy()\n",
    "\n",
    "hourly=test_df2.set_index('delta').resample(\"H\").max().fillna(method=\"ffill\") #max and \n",
    "#hourly=test_df2.resample(\"H\",on='delta').count() #same as above but don't need to set delta to index."
   ]
  },
  {
   "cell_type": "code",
   "execution_count": 103,
   "metadata": {},
   "outputs": [
    {
     "data": {
      "text/html": [
       "<div>\n",
       "<style scoped>\n",
       "    .dataframe tbody tr th:only-of-type {\n",
       "        vertical-align: middle;\n",
       "    }\n",
       "\n",
       "    .dataframe tbody tr th {\n",
       "        vertical-align: top;\n",
       "    }\n",
       "\n",
       "    .dataframe thead th {\n",
       "        text-align: right;\n",
       "    }\n",
       "</style>\n",
       "<table border=\"1\" class=\"dataframe\">\n",
       "  <thead>\n",
       "    <tr style=\"text-align: right;\">\n",
       "      <th></th>\n",
       "      <th>delta</th>\n",
       "      <th>value</th>\n",
       "      <th>label</th>\n",
       "    </tr>\n",
       "  </thead>\n",
       "  <tbody>\n",
       "    <tr>\n",
       "      <th>0</th>\n",
       "      <td>0 days</td>\n",
       "      <td>1.09861</td>\n",
       "      <td>daily_sofa</td>\n",
       "    </tr>\n",
       "    <tr>\n",
       "      <th>1</th>\n",
       "      <td>0 days</td>\n",
       "      <td>4.17439</td>\n",
       "      <td>diasbp</td>\n",
       "    </tr>\n",
       "    <tr>\n",
       "      <th>2</th>\n",
       "      <td>0 days</td>\n",
       "      <td>4.09434</td>\n",
       "      <td>diasbp</td>\n",
       "    </tr>\n",
       "    <tr>\n",
       "      <th>3</th>\n",
       "      <td>0 days</td>\n",
       "      <td>5.32301</td>\n",
       "      <td>glucose</td>\n",
       "    </tr>\n",
       "    <tr>\n",
       "      <th>4</th>\n",
       "      <td>0 days</td>\n",
       "      <td>4.57471</td>\n",
       "      <td>heartrate</td>\n",
       "    </tr>\n",
       "  </tbody>\n",
       "</table>\n",
       "</div>"
      ],
      "text/plain": [
       "   delta    value       label\n",
       "0 0 days  1.09861  daily_sofa\n",
       "1 0 days  4.17439      diasbp\n",
       "2 0 days  4.09434      diasbp\n",
       "3 0 days  5.32301     glucose\n",
       "4 0 days  4.57471   heartrate"
      ]
     },
     "execution_count": 103,
     "metadata": {},
     "output_type": "execute_result"
    },
    {
     "name": "stdout",
     "output_type": "stream",
     "text": [
      "time: 6.73 ms\n"
     ]
    }
   ],
   "source": [
    "test_df1.head()"
   ]
  },
  {
   "cell_type": "code",
   "execution_count": 98,
   "metadata": {},
   "outputs": [
    {
     "data": {
      "text/html": [
       "<div>\n",
       "<style scoped>\n",
       "    .dataframe tbody tr th:only-of-type {\n",
       "        vertical-align: middle;\n",
       "    }\n",
       "\n",
       "    .dataframe tbody tr th {\n",
       "        vertical-align: top;\n",
       "    }\n",
       "\n",
       "    .dataframe thead th {\n",
       "        text-align: right;\n",
       "    }\n",
       "</style>\n",
       "<table border=\"1\" class=\"dataframe\">\n",
       "  <thead>\n",
       "    <tr style=\"text-align: right;\">\n",
       "      <th></th>\n",
       "      <th>delta</th>\n",
       "      <th>value</th>\n",
       "    </tr>\n",
       "  </thead>\n",
       "  <tbody>\n",
       "    <tr>\n",
       "      <th>1</th>\n",
       "      <td>00:00:00</td>\n",
       "      <td>4.17439</td>\n",
       "    </tr>\n",
       "    <tr>\n",
       "      <th>2</th>\n",
       "      <td>00:00:00</td>\n",
       "      <td>4.09434</td>\n",
       "    </tr>\n",
       "    <tr>\n",
       "      <th>12</th>\n",
       "      <td>01:00:00</td>\n",
       "      <td>4.20469</td>\n",
       "    </tr>\n",
       "    <tr>\n",
       "      <th>19</th>\n",
       "      <td>02:00:00</td>\n",
       "      <td>4.12713</td>\n",
       "    </tr>\n",
       "    <tr>\n",
       "      <th>20</th>\n",
       "      <td>02:00:00</td>\n",
       "      <td>4.14313</td>\n",
       "    </tr>\n",
       "  </tbody>\n",
       "</table>\n",
       "</div>"
      ],
      "text/plain": [
       "      delta    value\n",
       "1  00:00:00  4.17439\n",
       "2  00:00:00  4.09434\n",
       "12 01:00:00  4.20469\n",
       "19 02:00:00  4.12713\n",
       "20 02:00:00  4.14313"
      ]
     },
     "execution_count": 98,
     "metadata": {},
     "output_type": "execute_result"
    },
    {
     "name": "stdout",
     "output_type": "stream",
     "text": [
      "time: 6.29 ms\n"
     ]
    }
   ],
   "source": [
    "test_df2.head()"
   ]
  },
  {
   "cell_type": "code",
   "execution_count": 99,
   "metadata": {},
   "outputs": [
    {
     "data": {
      "text/html": [
       "<div>\n",
       "<style scoped>\n",
       "    .dataframe tbody tr th:only-of-type {\n",
       "        vertical-align: middle;\n",
       "    }\n",
       "\n",
       "    .dataframe tbody tr th {\n",
       "        vertical-align: top;\n",
       "    }\n",
       "\n",
       "    .dataframe thead th {\n",
       "        text-align: right;\n",
       "    }\n",
       "</style>\n",
       "<table border=\"1\" class=\"dataframe\">\n",
       "  <thead>\n",
       "    <tr style=\"text-align: right;\">\n",
       "      <th></th>\n",
       "      <th>value</th>\n",
       "    </tr>\n",
       "    <tr>\n",
       "      <th>delta</th>\n",
       "      <th></th>\n",
       "    </tr>\n",
       "  </thead>\n",
       "  <tbody>\n",
       "    <tr>\n",
       "      <th>00:00:00</th>\n",
       "      <td>4.174387</td>\n",
       "    </tr>\n",
       "    <tr>\n",
       "      <th>01:00:00</th>\n",
       "      <td>4.204693</td>\n",
       "    </tr>\n",
       "    <tr>\n",
       "      <th>02:00:00</th>\n",
       "      <td>4.143135</td>\n",
       "    </tr>\n",
       "    <tr>\n",
       "      <th>03:00:00</th>\n",
       "      <td>4.219508</td>\n",
       "    </tr>\n",
       "    <tr>\n",
       "      <th>04:00:00</th>\n",
       "      <td>4.189655</td>\n",
       "    </tr>\n",
       "  </tbody>\n",
       "</table>\n",
       "</div>"
      ],
      "text/plain": [
       "             value\n",
       "delta             \n",
       "00:00:00  4.174387\n",
       "01:00:00  4.204693\n",
       "02:00:00  4.143135\n",
       "03:00:00  4.219508\n",
       "04:00:00  4.189655"
      ]
     },
     "execution_count": 99,
     "metadata": {},
     "output_type": "execute_result"
    },
    {
     "name": "stdout",
     "output_type": "stream",
     "text": [
      "time: 7.44 ms\n"
     ]
    }
   ],
   "source": [
    "hourly.head()"
   ]
  },
  {
   "cell_type": "code",
   "execution_count": 89,
   "metadata": {},
   "outputs": [
    {
     "data": {
      "text/plain": [
       "<matplotlib.axes._subplots.AxesSubplot at 0x1a58025c18>"
      ]
     },
     "execution_count": 89,
     "metadata": {},
     "output_type": "execute_result"
    },
    {
     "data": {
      "image/png": "[encoded data removed]",
      "text/plain": [
       "<Figure size 1080x720 with 1 Axes>"
      ]
     },
     "metadata": {},
     "output_type": "display_data"
    },
    {
     "name": "stdout",
     "output_type": "stream",
     "text": [
      "time: 226 ms\n"
     ]
    }
   ],
   "source": [
    "hourly['value'].plot(style=[':','--','-']) #work"
   ]
  },
  {
   "cell_type": "code",
   "execution_count": null,
   "metadata": {},
   "outputs": [],
   "source": []
  },
  {
   "cell_type": "code",
   "execution_count": null,
   "metadata": {},
   "outputs": [],
   "source": []
  },
  {
   "cell_type": "markdown",
   "metadata": {},
   "source": [
    "### step2: write fxn to standardize timeframe to 0:00:00 to 2days 23:00:00 for hourly after resampling. (this code isn't used in final). "
   ]
  },
  {
   "cell_type": "code",
   "execution_count": 93,
   "metadata": {},
   "outputs": [
    {
     "name": "stdout",
     "output_type": "stream",
     "text": [
      "time: 17.2 ms\n"
     ]
    }
   ],
   "source": [
    "def timeframe_fix_fxn(df):\n",
    "    \"\"\"\n",
    "    this fxn appends a starting and ending time onto dataframe.\n",
    "    df is a dataframe with delta and value for a specific label.\n",
    "    \"\"\"\n",
    "    ##don't need this because eveyrone has atleast 1 0:00:00 timepoint.\n",
    "#     #adding in start time of 0:00:00: \n",
    "#     ##making a df with 0:00 timedelta with none value and appending this to first row\n",
    "#     if (df.sort_values(\"delta\")['delta'].iloc[0] != pd.Timedelta(\"00:00:00\")):\n",
    "#         df2=pd.DataFrame([[pd.Timedelta('00:00:00'),None]], columns=['delta','value'])\n",
    "#         df=df.append(df2) \n",
    "#         ##alternative way of doing it:\n",
    "# #         df.loc[-1] = [pd.Timedelta(\"00:00:00\"), None]  # adding a row\n",
    "# #         df.index = df.index + 1  # shifting index\n",
    "# #         df = df.sort_index()  # sorting by index\n",
    "#     else:\n",
    "#         pass\n",
    "    \n",
    "    #adding in end time of '2 days 23:00:00'\n",
    "    if (df.sort_values(\"delta\")['delta'].iloc[-1] != pd.Timedelta('3 days 00:00:00')):\n",
    "        df3=pd.DataFrame([[pd.Timedelta('3 days 00:00:00'),None]], columns=['delta','value'])\n",
    "        df=df.append(df3)\n",
    "    else:\n",
    "        pass\n",
    "    \n",
    "    df= df.sort_values('delta')\n",
    "    return(df)\n"
   ]
  },
  {
   "cell_type": "code",
   "execution_count": 94,
   "metadata": {},
   "outputs": [
    {
     "name": "stdout",
     "output_type": "stream",
     "text": [
      "time: 5.8 ms\n"
     ]
    }
   ],
   "source": [
    "#adding start and endtime if not already there. works for single variable and single patient.\n",
    "test_df3=timeframe_fix_fxn(test_df2) #adding on 0:00:00 start and 2day 23:00:00 end. "
   ]
  },
  {
   "cell_type": "code",
   "execution_count": 95,
   "metadata": {},
   "outputs": [
    {
     "data": {
      "text/html": [
       "<div>\n",
       "<style scoped>\n",
       "    .dataframe tbody tr th:only-of-type {\n",
       "        vertical-align: middle;\n",
       "    }\n",
       "\n",
       "    .dataframe tbody tr th {\n",
       "        vertical-align: top;\n",
       "    }\n",
       "\n",
       "    .dataframe thead th {\n",
       "        text-align: right;\n",
       "    }\n",
       "</style>\n",
       "<table border=\"1\" class=\"dataframe\">\n",
       "  <thead>\n",
       "    <tr style=\"text-align: right;\">\n",
       "      <th></th>\n",
       "      <th>delta</th>\n",
       "      <th>value</th>\n",
       "    </tr>\n",
       "  </thead>\n",
       "  <tbody>\n",
       "    <tr>\n",
       "      <th>1</th>\n",
       "      <td>00:00:00</td>\n",
       "      <td>4.17439</td>\n",
       "    </tr>\n",
       "    <tr>\n",
       "      <th>2</th>\n",
       "      <td>00:00:00</td>\n",
       "      <td>4.09434</td>\n",
       "    </tr>\n",
       "    <tr>\n",
       "      <th>12</th>\n",
       "      <td>01:00:00</td>\n",
       "      <td>4.20469</td>\n",
       "    </tr>\n",
       "    <tr>\n",
       "      <th>19</th>\n",
       "      <td>02:00:00</td>\n",
       "      <td>4.12713</td>\n",
       "    </tr>\n",
       "    <tr>\n",
       "      <th>20</th>\n",
       "      <td>02:00:00</td>\n",
       "      <td>4.14313</td>\n",
       "    </tr>\n",
       "  </tbody>\n",
       "</table>\n",
       "</div>"
      ],
      "text/plain": [
       "      delta    value\n",
       "1  00:00:00  4.17439\n",
       "2  00:00:00  4.09434\n",
       "12 01:00:00  4.20469\n",
       "19 02:00:00  4.12713\n",
       "20 02:00:00  4.14313"
      ]
     },
     "execution_count": 95,
     "metadata": {},
     "output_type": "execute_result"
    },
    {
     "name": "stdout",
     "output_type": "stream",
     "text": [
      "time: 6.37 ms\n"
     ]
    }
   ],
   "source": [
    "test_df3.head()"
   ]
  },
  {
   "cell_type": "markdown",
   "metadata": {},
   "source": [
    "### problem: only works for single variable, doesn't work with many variables.\n",
    "### solution: i'll just add a delta value to the initial dataset. (currently only works for this single patient, need to expand if i go to all patients)\n",
    "note, by adding a Null bicarbonate value at t_0+72 it records a value there and is thus is used as the endpoint to the resampling fxn. if there is infact a value there, then it will be taken instead of the null (due to the max fxn). "
   ]
  },
  {
   "cell_type": "code",
   "execution_count": 106,
   "metadata": {},
   "outputs": [
    {
     "name": "stdout",
     "output_type": "stream",
     "text": [
      "time: 8.5 ms\n"
     ]
    }
   ],
   "source": [
    "# #adding a row with null values and final timepoint\n",
    "# df= pd.DataFrame(test_df1.iloc[-1].T)\n",
    "# df.iloc[:,0]=None\n",
    "# df=pd.DataFrame(df).T\n",
    "# df['delta']=pd.Timedelta(\"2 days 23:00:00\")\n",
    "# df['label']=\"bicarbonate\"\n",
    "\n",
    "# test_df=test_df1.append(df)"
   ]
  },
  {
   "cell_type": "code",
   "execution_count": 109,
   "metadata": {},
   "outputs": [
    {
     "data": {
      "text/plain": [
       "count                       631\n",
       "mean     1 days 10:28:41.458003\n",
       "std      0 days 22:47:35.947002\n",
       "min             0 days 00:00:00\n",
       "25%             0 days 15:00:00\n",
       "50%             1 days 08:00:00\n",
       "75%             2 days 06:00:00\n",
       "max             3 days 00:00:00\n",
       "Name: delta, dtype: object"
      ]
     },
     "execution_count": 109,
     "metadata": {},
     "output_type": "execute_result"
    },
    {
     "name": "stdout",
     "output_type": "stream",
     "text": [
      "time: 6.86 ms\n"
     ]
    }
   ],
   "source": [
    "# test_df1['delta'].describe()"
   ]
  },
  {
   "cell_type": "code",
   "execution_count": 133,
   "metadata": {},
   "outputs": [
    {
     "data": {
      "text/html": [
       "<div>\n",
       "<style scoped>\n",
       "    .dataframe tbody tr th:only-of-type {\n",
       "        vertical-align: middle;\n",
       "    }\n",
       "\n",
       "    .dataframe tbody tr th {\n",
       "        vertical-align: top;\n",
       "    }\n",
       "\n",
       "    .dataframe thead th {\n",
       "        text-align: right;\n",
       "    }\n",
       "</style>\n",
       "<table border=\"1\" class=\"dataframe\">\n",
       "  <thead>\n",
       "    <tr style=\"text-align: right;\">\n",
       "      <th></th>\n",
       "      <th>icustay_id</th>\n",
       "      <th>uom</th>\n",
       "      <th>label</th>\n",
       "      <th>value</th>\n",
       "      <th>t_0</th>\n",
       "      <th>delta</th>\n",
       "      <th>source</th>\n",
       "      <th>subject_id</th>\n",
       "      <th>median</th>\n",
       "      <th>iqr</th>\n",
       "      <th>raw_value</th>\n",
       "      <th>standardize</th>\n",
       "    </tr>\n",
       "  </thead>\n",
       "  <tbody>\n",
       "    <tr>\n",
       "      <th>30</th>\n",
       "      <td>200030.0</td>\n",
       "      <td>mEq/L</td>\n",
       "      <td>bicarbonate</td>\n",
       "      <td>2.99573</td>\n",
       "      <td>2150-11-14</td>\n",
       "      <td>02:46:00</td>\n",
       "      <td>labs</td>\n",
       "      <td>14987</td>\n",
       "      <td>3.21888</td>\n",
       "      <td>1.79176</td>\n",
       "      <td>19</td>\n",
       "      <td>-0.124539</td>\n",
       "    </tr>\n",
       "    <tr>\n",
       "      <th>144</th>\n",
       "      <td>200030.0</td>\n",
       "      <td>mEq/L</td>\n",
       "      <td>bicarbonate</td>\n",
       "      <td>2.94444</td>\n",
       "      <td>2150-11-14</td>\n",
       "      <td>15:10:00</td>\n",
       "      <td>labs</td>\n",
       "      <td>14987</td>\n",
       "      <td>3.21888</td>\n",
       "      <td>1.79176</td>\n",
       "      <td>18</td>\n",
       "      <td>-0.153166</td>\n",
       "    </tr>\n",
       "  </tbody>\n",
       "</table>\n",
       "</div>"
      ],
      "text/plain": [
       "     icustay_id    uom        label    value         t_0    delta source  \\\n",
       "30     200030.0  mEq/L  bicarbonate  2.99573  2150-11-14 02:46:00   labs   \n",
       "144    200030.0  mEq/L  bicarbonate  2.94444  2150-11-14 15:10:00   labs   \n",
       "\n",
       "     subject_id   median      iqr raw_value standardize  \n",
       "30        14987  3.21888  1.79176        19   -0.124539  \n",
       "144       14987  3.21888  1.79176        18   -0.153166  "
      ]
     },
     "execution_count": 133,
     "metadata": {},
     "output_type": "execute_result"
    },
    {
     "name": "stdout",
     "output_type": "stream",
     "text": [
      "time: 126 ms\n"
     ]
    }
   ],
   "source": [
    "noCat_df_train[noCat_df_train['label']=='bicarbonate'].head(2)"
   ]
  },
  {
   "cell_type": "code",
   "execution_count": 326,
   "metadata": {},
   "outputs": [
    {
     "data": {
      "text/plain": [
       "Timedelta('3 days 00:00:00')"
      ]
     },
     "execution_count": 326,
     "metadata": {},
     "output_type": "execute_result"
    },
    {
     "name": "stdout",
     "output_type": "stream",
     "text": [
      "time: 2.99 s\n"
     ]
    }
   ],
   "source": [
    "#first getting a row with bicarbonate from noCat_df\n",
    "bicarb=noCat_df_train.loc[noCat_df_train['label']=='bicarbonate',:].head(1)\n",
    "\n",
    "#making a df for each icustay and adding appropriate values for a 3day final timepoint with None values.\n",
    "df= pd.DataFrame(noCat_df_train.drop_duplicates('icustay_id'))#.iloc[-1].T)\n",
    "\n",
    "df['uom']=bicarb['uom'].values[0]\n",
    "df['label']=bicarb['label'].values[0]\n",
    "df['value']=None\n",
    "df['delta']=pd.Timedelta(\"3 days\")\n",
    "df['source']=bicarb['source'].values[0]\n",
    "df['median']=bicarb['median'].values[0]\n",
    "df['iqr']=bicarb['iqr'].values[0]\n",
    "df['raw_value']=None\n",
    "df['standardize']=None\n",
    "#df\n",
    "\n",
    "# appending this onto nocat dataset with ONLY continuous (removed ordinal)\n",
    "noCat_df_train2= noCat_df_train[noCat_df_train['label'].isin(continuous)].copy()\n",
    "noCat_df_train2=noCat_df_train2.append(df)\n",
    "\n",
    "#testing the minimum  of all icustays max deltas. \n",
    "(noCat_df_train2.groupby('icustay_id')['delta'].max()).min()"
   ]
  },
  {
   "cell_type": "code",
   "execution_count": 237,
   "metadata": {},
   "outputs": [
    {
     "data": {
      "text/plain": [
       "5316"
      ]
     },
     "execution_count": 237,
     "metadata": {},
     "output_type": "execute_result"
    },
    {
     "name": "stdout",
     "output_type": "stream",
     "text": [
      "time: 20.9 ms\n"
     ]
    }
   ],
   "source": [
    "noCat_df_train2['icustay_id'].nunique() #2418291 rows.\n",
    "#5316 icustay_ids"
   ]
  },
  {
   "cell_type": "code",
   "execution_count": 238,
   "metadata": {},
   "outputs": [
    {
     "data": {
      "text/html": [
       "<div>\n",
       "<style scoped>\n",
       "    .dataframe tbody tr th:only-of-type {\n",
       "        vertical-align: middle;\n",
       "    }\n",
       "\n",
       "    .dataframe tbody tr th {\n",
       "        vertical-align: top;\n",
       "    }\n",
       "\n",
       "    .dataframe thead th {\n",
       "        text-align: right;\n",
       "    }\n",
       "</style>\n",
       "<table border=\"1\" class=\"dataframe\">\n",
       "  <thead>\n",
       "    <tr style=\"text-align: right;\">\n",
       "      <th></th>\n",
       "      <th>icustay_id</th>\n",
       "      <th>uom</th>\n",
       "      <th>label</th>\n",
       "      <th>value</th>\n",
       "      <th>t_0</th>\n",
       "      <th>delta</th>\n",
       "      <th>source</th>\n",
       "      <th>subject_id</th>\n",
       "      <th>median</th>\n",
       "      <th>iqr</th>\n",
       "      <th>raw_value</th>\n",
       "      <th>standardize</th>\n",
       "    </tr>\n",
       "  </thead>\n",
       "  <tbody>\n",
       "    <tr>\n",
       "      <th>0</th>\n",
       "      <td>200030.0</td>\n",
       "      <td>daily_sofa_score</td>\n",
       "      <td>daily_sofa</td>\n",
       "      <td>1.09861</td>\n",
       "      <td>2150-11-14</td>\n",
       "      <td>0 days</td>\n",
       "      <td>sofa</td>\n",
       "      <td>14987</td>\n",
       "      <td>1.38629</td>\n",
       "      <td>1.60944</td>\n",
       "      <td>2</td>\n",
       "      <td>-0.178747</td>\n",
       "    </tr>\n",
       "    <tr>\n",
       "      <th>1</th>\n",
       "      <td>200030.0</td>\n",
       "      <td>mmHg</td>\n",
       "      <td>diasbp</td>\n",
       "      <td>4.17439</td>\n",
       "      <td>2150-11-14</td>\n",
       "      <td>0 days</td>\n",
       "      <td>vitals</td>\n",
       "      <td>14987</td>\n",
       "      <td>4.09434</td>\n",
       "      <td>2.94444</td>\n",
       "      <td>64</td>\n",
       "      <td>0.0271844</td>\n",
       "    </tr>\n",
       "    <tr>\n",
       "      <th>2</th>\n",
       "      <td>200030.0</td>\n",
       "      <td>mmHg</td>\n",
       "      <td>diasbp</td>\n",
       "      <td>4.09434</td>\n",
       "      <td>2150-11-14</td>\n",
       "      <td>0 days</td>\n",
       "      <td>vitals</td>\n",
       "      <td>14987</td>\n",
       "      <td>4.09434</td>\n",
       "      <td>2.94444</td>\n",
       "      <td>59</td>\n",
       "      <td>0</td>\n",
       "    </tr>\n",
       "    <tr>\n",
       "      <th>3</th>\n",
       "      <td>200030.0</td>\n",
       "      <td>NaN</td>\n",
       "      <td>glucose</td>\n",
       "      <td>5.32301</td>\n",
       "      <td>2150-11-14</td>\n",
       "      <td>0 days</td>\n",
       "      <td>vitals</td>\n",
       "      <td>14987</td>\n",
       "      <td>4.85203</td>\n",
       "      <td>4.04305</td>\n",
       "      <td>204</td>\n",
       "      <td>0.116491</td>\n",
       "    </tr>\n",
       "    <tr>\n",
       "      <th>4</th>\n",
       "      <td>200030.0</td>\n",
       "      <td>bpm</td>\n",
       "      <td>heartrate</td>\n",
       "      <td>4.57471</td>\n",
       "      <td>2150-11-14</td>\n",
       "      <td>0 days</td>\n",
       "      <td>vitals</td>\n",
       "      <td>14987</td>\n",
       "      <td>4.45435</td>\n",
       "      <td>3.17805</td>\n",
       "      <td>96</td>\n",
       "      <td>0.0378734</td>\n",
       "    </tr>\n",
       "  </tbody>\n",
       "</table>\n",
       "</div>"
      ],
      "text/plain": [
       "   icustay_id               uom       label    value         t_0  delta  \\\n",
       "0    200030.0  daily_sofa_score  daily_sofa  1.09861  2150-11-14 0 days   \n",
       "1    200030.0              mmHg      diasbp  4.17439  2150-11-14 0 days   \n",
       "2    200030.0              mmHg      diasbp  4.09434  2150-11-14 0 days   \n",
       "3    200030.0               NaN     glucose  5.32301  2150-11-14 0 days   \n",
       "4    200030.0               bpm   heartrate  4.57471  2150-11-14 0 days   \n",
       "\n",
       "   source  subject_id   median      iqr raw_value standardize  \n",
       "0    sofa       14987  1.38629  1.60944         2   -0.178747  \n",
       "1  vitals       14987  4.09434  2.94444        64   0.0271844  \n",
       "2  vitals       14987  4.09434  2.94444        59           0  \n",
       "3  vitals       14987  4.85203  4.04305       204    0.116491  \n",
       "4  vitals       14987  4.45435  3.17805        96   0.0378734  "
      ]
     },
     "execution_count": 238,
     "metadata": {},
     "output_type": "execute_result"
    },
    {
     "name": "stdout",
     "output_type": "stream",
     "text": [
      "time: 14.5 ms\n"
     ]
    }
   ],
   "source": [
    "noCat_df_train2.head()"
   ]
  },
  {
   "cell_type": "code",
   "execution_count": 468,
   "metadata": {},
   "outputs": [
    {
     "data": {
      "text/plain": [
       "array(['daily_sofa', 'diasbp', 'glucose', 'heartrate', 'meanartpress',\n",
       "       'resprate', 'spo2', 'sum_elix', 'sysbp', 'temperature',\n",
       "       'bicarbonate', 'bun', 'chloride', 'creatinine', 'hemoglobin',\n",
       "       'inr', 'platelet', 'potassium', 'ptt', 'sodium', 'wbc', 'calcium',\n",
       "       'lactate', 'ph', 'bilirubin', 'mingcs'], dtype=object)"
      ]
     },
     "execution_count": 468,
     "metadata": {},
     "output_type": "execute_result"
    },
    {
     "name": "stdout",
     "output_type": "stream",
     "text": [
      "time: 103 ms\n"
     ]
    }
   ],
   "source": [
    "noCat_df_train2['label'].unique()"
   ]
  },
  {
   "cell_type": "markdown",
   "metadata": {},
   "source": [
    "### step3: visualize the resampled variables for a single patient"
   ]
  },
  {
   "cell_type": "code",
   "execution_count": 286,
   "metadata": {},
   "outputs": [
    {
     "name": "stdout",
     "output_type": "stream",
     "text": [
      "time: 1.49 ms\n"
     ]
    }
   ],
   "source": [
    "maxCol=lambda x: max(x.min(), x.max(), key=abs)\n",
    "#df.apply(maxCol,axis=1)"
   ]
  },
  {
   "cell_type": "code",
   "execution_count": 469,
   "metadata": {},
   "outputs": [
    {
     "name": "stdout",
     "output_type": "stream",
     "text": [
      "time: 907 ms\n"
     ]
    }
   ],
   "source": [
    "grouper = noCat_df_train2[['delta','standardize','label','icustay_id']].groupby(['icustay_id',pd.Grouper(key=\"delta\",freq='4H'), 'label'])\n"
   ]
  },
  {
   "cell_type": "code",
   "execution_count": 470,
   "metadata": {},
   "outputs": [
    {
     "ename": "KeyboardInterrupt",
     "evalue": "",
     "output_type": "error",
     "traceback": [
      "\u001b[0;31m---------------------------------------------------------------------------\u001b[0m",
      "\u001b[0;31mKeyboardInterrupt\u001b[0m                         Traceback (most recent call last)",
      "\u001b[0;32m<ipython-input-470-b84e2c10132e>\u001b[0m in \u001b[0;36m<module>\u001b[0;34m()\u001b[0m\n\u001b[0;32m----> 1\u001b[0;31m \u001b[0mgrouper\u001b[0m\u001b[0;34m[\u001b[0m\u001b[0;34m'standardize'\u001b[0m\u001b[0;34m]\u001b[0m\u001b[0;34m.\u001b[0m\u001b[0mapply\u001b[0m\u001b[0;34m(\u001b[0m\u001b[0mmaxCol\u001b[0m\u001b[0;34m)\u001b[0m\u001b[0;34m.\u001b[0m\u001b[0munstack\u001b[0m\u001b[0;34m(\u001b[0m\u001b[0;34m[\u001b[0m\u001b[0;34m\"label\"\u001b[0m\u001b[0;34m]\u001b[0m\u001b[0;34m)\u001b[0m\u001b[0;34m.\u001b[0m\u001b[0mhead\u001b[0m\u001b[0;34m(\u001b[0m\u001b[0;36m5\u001b[0m\u001b[0;34m)\u001b[0m\u001b[0;34m\u001b[0m\u001b[0;34m\u001b[0m\u001b[0m\n\u001b[0m",
      "\u001b[0;32m~/anaconda/envs/rpy-env/lib/python3.6/site-packages/pandas/core/groupby/generic.py\u001b[0m in \u001b[0;36mapply\u001b[0;34m(self, func, *args, **kwargs)\u001b[0m\n\u001b[1;32m    747\u001b[0m                       examples=_apply_docs['series_examples']))\n\u001b[1;32m    748\u001b[0m     \u001b[0;32mdef\u001b[0m \u001b[0mapply\u001b[0m\u001b[0;34m(\u001b[0m\u001b[0mself\u001b[0m\u001b[0;34m,\u001b[0m \u001b[0mfunc\u001b[0m\u001b[0;34m,\u001b[0m \u001b[0;34m*\u001b[0m\u001b[0margs\u001b[0m\u001b[0;34m,\u001b[0m \u001b[0;34m**\u001b[0m\u001b[0mkwargs\u001b[0m\u001b[0;34m)\u001b[0m\u001b[0;34m:\u001b[0m\u001b[0;34m\u001b[0m\u001b[0;34m\u001b[0m\u001b[0m\n\u001b[0;32m--> 749\u001b[0;31m         \u001b[0;32mreturn\u001b[0m \u001b[0msuper\u001b[0m\u001b[0;34m(\u001b[0m\u001b[0mSeriesGroupBy\u001b[0m\u001b[0;34m,\u001b[0m \u001b[0mself\u001b[0m\u001b[0;34m)\u001b[0m\u001b[0;34m.\u001b[0m\u001b[0mapply\u001b[0m\u001b[0;34m(\u001b[0m\u001b[0mfunc\u001b[0m\u001b[0;34m,\u001b[0m \u001b[0;34m*\u001b[0m\u001b[0margs\u001b[0m\u001b[0;34m,\u001b[0m \u001b[0;34m**\u001b[0m\u001b[0mkwargs\u001b[0m\u001b[0;34m)\u001b[0m\u001b[0;34m\u001b[0m\u001b[0;34m\u001b[0m\u001b[0m\n\u001b[0m\u001b[1;32m    750\u001b[0m \u001b[0;34m\u001b[0m\u001b[0m\n\u001b[1;32m    751\u001b[0m     @Substitution(see_also=_agg_see_also_doc,\n",
      "\u001b[0;32m~/anaconda/envs/rpy-env/lib/python3.6/site-packages/pandas/core/groupby/groupby.py\u001b[0m in \u001b[0;36mapply\u001b[0;34m(self, func, *args, **kwargs)\u001b[0m\n\u001b[1;32m    687\u001b[0m         \u001b[0;32mwith\u001b[0m \u001b[0moption_context\u001b[0m\u001b[0;34m(\u001b[0m\u001b[0;34m'mode.chained_assignment'\u001b[0m\u001b[0;34m,\u001b[0m \u001b[0;32mNone\u001b[0m\u001b[0;34m)\u001b[0m\u001b[0;34m:\u001b[0m\u001b[0;34m\u001b[0m\u001b[0;34m\u001b[0m\u001b[0m\n\u001b[1;32m    688\u001b[0m             \u001b[0;32mtry\u001b[0m\u001b[0;34m:\u001b[0m\u001b[0;34m\u001b[0m\u001b[0;34m\u001b[0m\u001b[0m\n\u001b[0;32m--> 689\u001b[0;31m                 \u001b[0mresult\u001b[0m \u001b[0;34m=\u001b[0m \u001b[0mself\u001b[0m\u001b[0;34m.\u001b[0m\u001b[0m_python_apply_general\u001b[0m\u001b[0;34m(\u001b[0m\u001b[0mf\u001b[0m\u001b[0;34m)\u001b[0m\u001b[0;34m\u001b[0m\u001b[0;34m\u001b[0m\u001b[0m\n\u001b[0m\u001b[1;32m    690\u001b[0m             \u001b[0;32mexcept\u001b[0m \u001b[0mException\u001b[0m\u001b[0;34m:\u001b[0m\u001b[0;34m\u001b[0m\u001b[0;34m\u001b[0m\u001b[0m\n\u001b[1;32m    691\u001b[0m \u001b[0;34m\u001b[0m\u001b[0m\n",
      "\u001b[0;32m~/anaconda/envs/rpy-env/lib/python3.6/site-packages/pandas/core/groupby/groupby.py\u001b[0m in \u001b[0;36m_python_apply_general\u001b[0;34m(self, f)\u001b[0m\n\u001b[1;32m    705\u001b[0m     \u001b[0;32mdef\u001b[0m \u001b[0m_python_apply_general\u001b[0m\u001b[0;34m(\u001b[0m\u001b[0mself\u001b[0m\u001b[0;34m,\u001b[0m \u001b[0mf\u001b[0m\u001b[0;34m)\u001b[0m\u001b[0;34m:\u001b[0m\u001b[0;34m\u001b[0m\u001b[0;34m\u001b[0m\u001b[0m\n\u001b[1;32m    706\u001b[0m         keys, values, mutated = self.grouper.apply(f, self._selected_obj,\n\u001b[0;32m--> 707\u001b[0;31m                                                    self.axis)\n\u001b[0m\u001b[1;32m    708\u001b[0m \u001b[0;34m\u001b[0m\u001b[0m\n\u001b[1;32m    709\u001b[0m         return self._wrap_applied_output(\n",
      "\u001b[0;32m~/anaconda/envs/rpy-env/lib/python3.6/site-packages/pandas/core/groupby/ops.py\u001b[0m in \u001b[0;36mapply\u001b[0;34m(self, f, data, axis)\u001b[0m\n\u001b[1;32m    183\u001b[0m \u001b[0;34m\u001b[0m\u001b[0m\n\u001b[1;32m    184\u001b[0m         \u001b[0mresult_values\u001b[0m \u001b[0;34m=\u001b[0m \u001b[0;34m[\u001b[0m\u001b[0;34m]\u001b[0m\u001b[0;34m\u001b[0m\u001b[0;34m\u001b[0m\u001b[0m\n\u001b[0;32m--> 185\u001b[0;31m         \u001b[0;32mfor\u001b[0m \u001b[0mkey\u001b[0m\u001b[0;34m,\u001b[0m \u001b[0;34m(\u001b[0m\u001b[0mi\u001b[0m\u001b[0;34m,\u001b[0m \u001b[0mgroup\u001b[0m\u001b[0;34m)\u001b[0m \u001b[0;32min\u001b[0m \u001b[0mzip\u001b[0m\u001b[0;34m(\u001b[0m\u001b[0mgroup_keys\u001b[0m\u001b[0;34m,\u001b[0m \u001b[0msplitter\u001b[0m\u001b[0;34m)\u001b[0m\u001b[0;34m:\u001b[0m\u001b[0;34m\u001b[0m\u001b[0;34m\u001b[0m\u001b[0m\n\u001b[0m\u001b[1;32m    186\u001b[0m             \u001b[0mobject\u001b[0m\u001b[0;34m.\u001b[0m\u001b[0m__setattr__\u001b[0m\u001b[0;34m(\u001b[0m\u001b[0mgroup\u001b[0m\u001b[0;34m,\u001b[0m \u001b[0;34m'name'\u001b[0m\u001b[0;34m,\u001b[0m \u001b[0mkey\u001b[0m\u001b[0;34m)\u001b[0m\u001b[0;34m\u001b[0m\u001b[0;34m\u001b[0m\u001b[0m\n\u001b[1;32m    187\u001b[0m \u001b[0;34m\u001b[0m\u001b[0m\n",
      "\u001b[0;32m~/anaconda/envs/rpy-env/lib/python3.6/site-packages/pandas/core/groupby/ops.py\u001b[0m in \u001b[0;36m__iter__\u001b[0;34m(self)\u001b[0m\n\u001b[1;32m    826\u001b[0m             \u001b[0;31m#     raise AssertionError('Start %s must be less than end %s'\u001b[0m\u001b[0;34m\u001b[0m\u001b[0;34m\u001b[0m\u001b[0;34m\u001b[0m\u001b[0m\n\u001b[1;32m    827\u001b[0m             \u001b[0;31m#                          % (str(start), str(end)))\u001b[0m\u001b[0;34m\u001b[0m\u001b[0;34m\u001b[0m\u001b[0;34m\u001b[0m\u001b[0m\n\u001b[0;32m--> 828\u001b[0;31m             \u001b[0;32myield\u001b[0m \u001b[0mi\u001b[0m\u001b[0;34m,\u001b[0m \u001b[0mself\u001b[0m\u001b[0;34m.\u001b[0m\u001b[0m_chop\u001b[0m\u001b[0;34m(\u001b[0m\u001b[0msdata\u001b[0m\u001b[0;34m,\u001b[0m \u001b[0mslice\u001b[0m\u001b[0;34m(\u001b[0m\u001b[0mstart\u001b[0m\u001b[0;34m,\u001b[0m \u001b[0mend\u001b[0m\u001b[0;34m)\u001b[0m\u001b[0;34m)\u001b[0m\u001b[0;34m\u001b[0m\u001b[0;34m\u001b[0m\u001b[0m\n\u001b[0m\u001b[1;32m    829\u001b[0m \u001b[0;34m\u001b[0m\u001b[0m\n\u001b[1;32m    830\u001b[0m     \u001b[0;32mdef\u001b[0m \u001b[0m_get_sorted_data\u001b[0m\u001b[0;34m(\u001b[0m\u001b[0mself\u001b[0m\u001b[0;34m)\u001b[0m\u001b[0;34m:\u001b[0m\u001b[0;34m\u001b[0m\u001b[0;34m\u001b[0m\u001b[0m\n",
      "\u001b[0;32m~/anaconda/envs/rpy-env/lib/python3.6/site-packages/pandas/core/groupby/ops.py\u001b[0m in \u001b[0;36m_chop\u001b[0;34m(self, sdata, slice_obj)\u001b[0m\n\u001b[1;32m    841\u001b[0m \u001b[0;34m\u001b[0m\u001b[0m\n\u001b[1;32m    842\u001b[0m     \u001b[0;32mdef\u001b[0m \u001b[0m_chop\u001b[0m\u001b[0;34m(\u001b[0m\u001b[0mself\u001b[0m\u001b[0;34m,\u001b[0m \u001b[0msdata\u001b[0m\u001b[0;34m,\u001b[0m \u001b[0mslice_obj\u001b[0m\u001b[0;34m)\u001b[0m\u001b[0;34m:\u001b[0m\u001b[0;34m\u001b[0m\u001b[0;34m\u001b[0m\u001b[0m\n\u001b[0;32m--> 843\u001b[0;31m         \u001b[0;32mreturn\u001b[0m \u001b[0msdata\u001b[0m\u001b[0;34m.\u001b[0m\u001b[0m_get_values\u001b[0m\u001b[0;34m(\u001b[0m\u001b[0mslice_obj\u001b[0m\u001b[0;34m)\u001b[0m\u001b[0;34m.\u001b[0m\u001b[0mto_dense\u001b[0m\u001b[0;34m(\u001b[0m\u001b[0;34m)\u001b[0m\u001b[0;34m\u001b[0m\u001b[0;34m\u001b[0m\u001b[0m\n\u001b[0m\u001b[1;32m    844\u001b[0m \u001b[0;34m\u001b[0m\u001b[0m\n\u001b[1;32m    845\u001b[0m \u001b[0;34m\u001b[0m\u001b[0m\n",
      "\u001b[0;32m~/anaconda/envs/rpy-env/lib/python3.6/site-packages/pandas/core/series.py\u001b[0m in \u001b[0;36m_get_values\u001b[0;34m(self, indexer)\u001b[0m\n\u001b[1;32m    975\u001b[0m     \u001b[0;32mdef\u001b[0m \u001b[0m_get_values\u001b[0m\u001b[0;34m(\u001b[0m\u001b[0mself\u001b[0m\u001b[0;34m,\u001b[0m \u001b[0mindexer\u001b[0m\u001b[0;34m)\u001b[0m\u001b[0;34m:\u001b[0m\u001b[0;34m\u001b[0m\u001b[0;34m\u001b[0m\u001b[0m\n\u001b[1;32m    976\u001b[0m         \u001b[0;32mtry\u001b[0m\u001b[0;34m:\u001b[0m\u001b[0;34m\u001b[0m\u001b[0;34m\u001b[0m\u001b[0m\n\u001b[0;32m--> 977\u001b[0;31m             return self._constructor(self._data.get_slice(indexer),\n\u001b[0m\u001b[1;32m    978\u001b[0m                                      fastpath=True).__finalize__(self)\n\u001b[1;32m    979\u001b[0m         \u001b[0;32mexcept\u001b[0m \u001b[0mException\u001b[0m\u001b[0;34m:\u001b[0m\u001b[0;34m\u001b[0m\u001b[0;34m\u001b[0m\u001b[0m\n",
      "\u001b[0;32m~/anaconda/envs/rpy-env/lib/python3.6/site-packages/pandas/core/internals/managers.py\u001b[0m in \u001b[0;36mget_slice\u001b[0;34m(self, slobj, axis)\u001b[0m\n\u001b[1;32m   1509\u001b[0m \u001b[0;34m\u001b[0m\u001b[0m\n\u001b[1;32m   1510\u001b[0m         return self.__class__(self._block._slice(slobj),\n\u001b[0;32m-> 1511\u001b[0;31m                               self.index[slobj], fastpath=True)\n\u001b[0m\u001b[1;32m   1512\u001b[0m \u001b[0;34m\u001b[0m\u001b[0m\n\u001b[1;32m   1513\u001b[0m     \u001b[0;34m@\u001b[0m\u001b[0mproperty\u001b[0m\u001b[0;34m\u001b[0m\u001b[0;34m\u001b[0m\u001b[0m\n",
      "\u001b[0;31mKeyboardInterrupt\u001b[0m: "
     ]
    },
    {
     "name": "stdout",
     "output_type": "stream",
     "text": [
      "time: 17.6 s\n"
     ]
    }
   ],
   "source": [
    "grouper['standardize'].apply(maxCol).unstack([\"label\"]).head(5)"
   ]
  },
  {
   "cell_type": "code",
   "execution_count": 184,
   "metadata": {},
   "outputs": [
    {
     "data": {
      "text/plain": [
       "label\n",
       "any_vasoactive    73177\n",
       "bands             73177\n",
       "bicarbonate       56956\n",
       "bilirubin         72648\n",
       "bun               56851\n",
       "calcium           70273\n",
       "cancer_elix       73177\n",
       "chloride          55703\n",
       "creatinine        56779\n",
       "daily_sofa        66148\n",
       "diasbp            12872\n",
       "dobutamine        73021\n",
       "dopamine          72588\n",
       "epinephrine       72890\n",
       "glucose           33624\n",
       "heartrate         11709\n",
       "hemoglobin        57956\n",
       "inr               65504\n",
       "lactate           69526\n",
       "leukocyte         73177\n",
       "meanartpress      12630\n",
       "mingcs            75895\n",
       "nitrite           73177\n",
       "norepinephrine    70257\n",
       "o2_flow           73121\n",
       "pao2fio2ratio     73177\n",
       "pco2              73177\n",
       "ph                62836\n",
       "phenylephrine     71266\n",
       "platelet          58630\n",
       "potassium         52067\n",
       "ptt               64954\n",
       "resprate          12177\n",
       "rrt               73177\n",
       "sodium            55046\n",
       "spo2              12482\n",
       "sum_elix          73177\n",
       "sysbp             12866\n",
       "temperature       19590\n",
       "vasopressin       72661\n",
       "vent_recieved     73235\n",
       "wbc               59082\n",
       "dtype: int64"
      ]
     },
     "execution_count": 184,
     "metadata": {},
     "output_type": "execute_result"
    },
    {
     "name": "stdout",
     "output_type": "stream",
     "text": [
      "time: 1min 31s\n"
     ]
    }
   ],
   "source": [
    "#grouper['standardize'].max().unstack([\"label\"]).isna().sum()"
   ]
  },
  {
   "cell_type": "code",
   "execution_count": 285,
   "metadata": {},
   "outputs": [
    {
     "name": "stdout",
     "output_type": "stream",
     "text": [
      "time: 1min 29s\n"
     ]
    }
   ],
   "source": [
    "#test_unstacked=grouper['standardize'].max().unstack(\"label\")"
   ]
  },
  {
   "cell_type": "code",
   "execution_count": 471,
   "metadata": {},
   "outputs": [
    {
     "ename": "KeyboardInterrupt",
     "evalue": "",
     "output_type": "error",
     "traceback": [
      "\u001b[0;31m---------------------------------------------------------------------------\u001b[0m",
      "\u001b[0;31mKeyboardInterrupt\u001b[0m                         Traceback (most recent call last)",
      "\u001b[0;32m~/anaconda/envs/rpy-env/lib/python3.6/abc.py\u001b[0m in \u001b[0;36m__instancecheck__\u001b[0;34m(cls, instance)\u001b[0m\n\u001b[1;32m    182\u001b[0m         \u001b[0;31m# Inline the cache checking\u001b[0m\u001b[0;34m\u001b[0m\u001b[0;34m\u001b[0m\u001b[0;34m\u001b[0m\u001b[0m\n\u001b[0;32m--> 183\u001b[0;31m         \u001b[0msubclass\u001b[0m \u001b[0;34m=\u001b[0m \u001b[0minstance\u001b[0m\u001b[0;34m.\u001b[0m\u001b[0m__class__\u001b[0m\u001b[0;34m\u001b[0m\u001b[0;34m\u001b[0m\u001b[0m\n\u001b[0m\u001b[1;32m    184\u001b[0m         \u001b[0;32mif\u001b[0m \u001b[0msubclass\u001b[0m \u001b[0;32min\u001b[0m \u001b[0mcls\u001b[0m\u001b[0;34m.\u001b[0m\u001b[0m_abc_cache\u001b[0m\u001b[0;34m:\u001b[0m\u001b[0;34m\u001b[0m\u001b[0;34m\u001b[0m\u001b[0m\n",
      "\u001b[0;31mKeyboardInterrupt\u001b[0m: ",
      "\nThe above exception was the direct cause of the following exception:\n",
      "\u001b[0;31mSystemError\u001b[0m                               Traceback (most recent call last)",
      "\u001b[0;32m~/anaconda/envs/rpy-env/lib/python3.6/site-packages/pandas/core/groupby/groupby.py\u001b[0m in \u001b[0;36mapply\u001b[0;34m(self, func, *args, **kwargs)\u001b[0m\n\u001b[1;32m    688\u001b[0m             \u001b[0;32mtry\u001b[0m\u001b[0;34m:\u001b[0m\u001b[0;34m\u001b[0m\u001b[0;34m\u001b[0m\u001b[0m\n\u001b[0;32m--> 689\u001b[0;31m                 \u001b[0mresult\u001b[0m \u001b[0;34m=\u001b[0m \u001b[0mself\u001b[0m\u001b[0;34m.\u001b[0m\u001b[0m_python_apply_general\u001b[0m\u001b[0;34m(\u001b[0m\u001b[0mf\u001b[0m\u001b[0;34m)\u001b[0m\u001b[0;34m\u001b[0m\u001b[0;34m\u001b[0m\u001b[0m\n\u001b[0m\u001b[1;32m    690\u001b[0m             \u001b[0;32mexcept\u001b[0m \u001b[0mException\u001b[0m\u001b[0;34m:\u001b[0m\u001b[0;34m\u001b[0m\u001b[0;34m\u001b[0m\u001b[0m\n",
      "\u001b[0;32m~/anaconda/envs/rpy-env/lib/python3.6/site-packages/pandas/core/groupby/groupby.py\u001b[0m in \u001b[0;36m_python_apply_general\u001b[0;34m(self, f)\u001b[0m\n\u001b[1;32m    706\u001b[0m         keys, values, mutated = self.grouper.apply(f, self._selected_obj,\n\u001b[0;32m--> 707\u001b[0;31m                                                    self.axis)\n\u001b[0m\u001b[1;32m    708\u001b[0m \u001b[0;34m\u001b[0m\u001b[0m\n",
      "\u001b[0;32m~/anaconda/envs/rpy-env/lib/python3.6/site-packages/pandas/core/groupby/ops.py\u001b[0m in \u001b[0;36mapply\u001b[0;34m(self, f, data, axis)\u001b[0m\n\u001b[1;32m    166\u001b[0m         \u001b[0msplitter\u001b[0m \u001b[0;34m=\u001b[0m \u001b[0mself\u001b[0m\u001b[0;34m.\u001b[0m\u001b[0m_get_splitter\u001b[0m\u001b[0;34m(\u001b[0m\u001b[0mdata\u001b[0m\u001b[0;34m,\u001b[0m \u001b[0maxis\u001b[0m\u001b[0;34m=\u001b[0m\u001b[0maxis\u001b[0m\u001b[0;34m)\u001b[0m\u001b[0;34m\u001b[0m\u001b[0;34m\u001b[0m\u001b[0m\n\u001b[0;32m--> 167\u001b[0;31m         \u001b[0mgroup_keys\u001b[0m \u001b[0;34m=\u001b[0m \u001b[0mself\u001b[0m\u001b[0;34m.\u001b[0m\u001b[0m_get_group_keys\u001b[0m\u001b[0;34m(\u001b[0m\u001b[0;34m)\u001b[0m\u001b[0;34m\u001b[0m\u001b[0;34m\u001b[0m\u001b[0m\n\u001b[0m\u001b[1;32m    168\u001b[0m \u001b[0;34m\u001b[0m\u001b[0m\n",
      "\u001b[0;32m~/anaconda/envs/rpy-env/lib/python3.6/site-packages/pandas/core/groupby/ops.py\u001b[0m in \u001b[0;36m_get_group_keys\u001b[0;34m(self)\u001b[0m\n\u001b[1;32m    161\u001b[0m                                           \u001b[0mself\u001b[0m\u001b[0;34m.\u001b[0m\u001b[0mlevels\u001b[0m\u001b[0;34m,\u001b[0m\u001b[0;34m\u001b[0m\u001b[0;34m\u001b[0m\u001b[0m\n\u001b[0;32m--> 162\u001b[0;31m                                           self.labels)\n\u001b[0m\u001b[1;32m    163\u001b[0m \u001b[0;34m\u001b[0m\u001b[0m\n",
      "\u001b[0;32m~/anaconda/envs/rpy-env/lib/python3.6/site-packages/pandas/core/sorting.py\u001b[0m in \u001b[0;36mget_flattened_iterator\u001b[0;34m(comp_ids, ngroups, levels, labels)\u001b[0m\n\u001b[1;32m    315\u001b[0m     \u001b[0mmapper\u001b[0m \u001b[0;34m=\u001b[0m \u001b[0m_KeyMapper\u001b[0m\u001b[0;34m(\u001b[0m\u001b[0mcomp_ids\u001b[0m\u001b[0;34m,\u001b[0m \u001b[0mngroups\u001b[0m\u001b[0;34m,\u001b[0m \u001b[0mlevels\u001b[0m\u001b[0;34m,\u001b[0m \u001b[0mlabels\u001b[0m\u001b[0;34m)\u001b[0m\u001b[0;34m\u001b[0m\u001b[0;34m\u001b[0m\u001b[0m\n\u001b[0;32m--> 316\u001b[0;31m     \u001b[0;32mreturn\u001b[0m \u001b[0;34m[\u001b[0m\u001b[0mmapper\u001b[0m\u001b[0;34m.\u001b[0m\u001b[0mget_key\u001b[0m\u001b[0;34m(\u001b[0m\u001b[0mi\u001b[0m\u001b[0;34m)\u001b[0m \u001b[0;32mfor\u001b[0m \u001b[0mi\u001b[0m \u001b[0;32min\u001b[0m \u001b[0mrange\u001b[0m\u001b[0;34m(\u001b[0m\u001b[0mngroups\u001b[0m\u001b[0;34m)\u001b[0m\u001b[0;34m]\u001b[0m\u001b[0;34m\u001b[0m\u001b[0;34m\u001b[0m\u001b[0m\n\u001b[0m\u001b[1;32m    317\u001b[0m \u001b[0;34m\u001b[0m\u001b[0m\n",
      "\u001b[0;32m~/anaconda/envs/rpy-env/lib/python3.6/site-packages/pandas/core/sorting.py\u001b[0m in \u001b[0;36m<listcomp>\u001b[0;34m(.0)\u001b[0m\n\u001b[1;32m    315\u001b[0m     \u001b[0mmapper\u001b[0m \u001b[0;34m=\u001b[0m \u001b[0m_KeyMapper\u001b[0m\u001b[0;34m(\u001b[0m\u001b[0mcomp_ids\u001b[0m\u001b[0;34m,\u001b[0m \u001b[0mngroups\u001b[0m\u001b[0;34m,\u001b[0m \u001b[0mlevels\u001b[0m\u001b[0;34m,\u001b[0m \u001b[0mlabels\u001b[0m\u001b[0;34m)\u001b[0m\u001b[0;34m\u001b[0m\u001b[0;34m\u001b[0m\u001b[0m\n\u001b[0;32m--> 316\u001b[0;31m     \u001b[0;32mreturn\u001b[0m \u001b[0;34m[\u001b[0m\u001b[0mmapper\u001b[0m\u001b[0;34m.\u001b[0m\u001b[0mget_key\u001b[0m\u001b[0;34m(\u001b[0m\u001b[0mi\u001b[0m\u001b[0;34m)\u001b[0m \u001b[0;32mfor\u001b[0m \u001b[0mi\u001b[0m \u001b[0;32min\u001b[0m \u001b[0mrange\u001b[0m\u001b[0;34m(\u001b[0m\u001b[0mngroups\u001b[0m\u001b[0;34m)\u001b[0m\u001b[0;34m]\u001b[0m\u001b[0;34m\u001b[0m\u001b[0;34m\u001b[0m\u001b[0m\n\u001b[0m\u001b[1;32m    317\u001b[0m \u001b[0;34m\u001b[0m\u001b[0m\n",
      "\u001b[0;32m~/anaconda/envs/rpy-env/lib/python3.6/site-packages/pandas/core/sorting.py\u001b[0m in \u001b[0;36mget_key\u001b[0;34m(self, comp_id)\u001b[0m\n\u001b[1;32m    309\u001b[0m         return tuple(level[table.get_item(comp_id)]\n\u001b[0;32m--> 310\u001b[0;31m                      for table, level in zip(self.tables, self.levels))\n\u001b[0m\u001b[1;32m    311\u001b[0m \u001b[0;34m\u001b[0m\u001b[0m\n",
      "\u001b[0;32m~/anaconda/envs/rpy-env/lib/python3.6/site-packages/pandas/core/sorting.py\u001b[0m in \u001b[0;36m<genexpr>\u001b[0;34m(.0)\u001b[0m\n\u001b[1;32m    309\u001b[0m         return tuple(level[table.get_item(comp_id)]\n\u001b[0;32m--> 310\u001b[0;31m                      for table, level in zip(self.tables, self.levels))\n\u001b[0m\u001b[1;32m    311\u001b[0m \u001b[0;34m\u001b[0m\u001b[0m\n",
      "\u001b[0;32m~/anaconda/envs/rpy-env/lib/python3.6/site-packages/pandas/core/indexes/timedeltas.py\u001b[0m in \u001b[0;36m__getitem__\u001b[0;34m(self, key)\u001b[0m\n\u001b[1;32m    311\u001b[0m         \u001b[0mresult\u001b[0m \u001b[0;34m=\u001b[0m \u001b[0mself\u001b[0m\u001b[0;34m.\u001b[0m\u001b[0m_data\u001b[0m\u001b[0;34m.\u001b[0m\u001b[0m__getitem__\u001b[0m\u001b[0;34m(\u001b[0m\u001b[0mkey\u001b[0m\u001b[0;34m)\u001b[0m\u001b[0;34m\u001b[0m\u001b[0;34m\u001b[0m\u001b[0m\n\u001b[0;32m--> 312\u001b[0;31m         \u001b[0;32mif\u001b[0m \u001b[0mis_scalar\u001b[0m\u001b[0;34m(\u001b[0m\u001b[0mresult\u001b[0m\u001b[0;34m)\u001b[0m\u001b[0;34m:\u001b[0m\u001b[0;34m\u001b[0m\u001b[0;34m\u001b[0m\u001b[0m\n\u001b[0m\u001b[1;32m    313\u001b[0m             \u001b[0;32mreturn\u001b[0m \u001b[0mresult\u001b[0m\u001b[0;34m\u001b[0m\u001b[0;34m\u001b[0m\u001b[0m\n",
      "\u001b[0;31mSystemError\u001b[0m: <built-in function is_scalar> returned a result with an error set",
      "\nDuring handling of the above exception, another exception occurred:\n",
      "\u001b[0;31mKeyboardInterrupt\u001b[0m                         Traceback (most recent call last)",
      "\u001b[0;32m<ipython-input-471-114dd414912a>\u001b[0m in \u001b[0;36m<module>\u001b[0;34m()\u001b[0m\n\u001b[0;32m----> 1\u001b[0;31m \u001b[0mtest_unstacked\u001b[0m\u001b[0;34m=\u001b[0m\u001b[0mgrouper\u001b[0m\u001b[0;34m[\u001b[0m\u001b[0;34m'standardize'\u001b[0m\u001b[0;34m]\u001b[0m\u001b[0;34m.\u001b[0m\u001b[0mapply\u001b[0m\u001b[0;34m(\u001b[0m\u001b[0mmaxCol\u001b[0m\u001b[0;34m)\u001b[0m\u001b[0;34m.\u001b[0m\u001b[0munstack\u001b[0m\u001b[0;34m(\u001b[0m\u001b[0;34m\"label\"\u001b[0m\u001b[0;34m)\u001b[0m\u001b[0;34m\u001b[0m\u001b[0;34m\u001b[0m\u001b[0m\n\u001b[0m",
      "\u001b[0;32m~/anaconda/envs/rpy-env/lib/python3.6/site-packages/pandas/core/groupby/generic.py\u001b[0m in \u001b[0;36mapply\u001b[0;34m(self, func, *args, **kwargs)\u001b[0m\n\u001b[1;32m    747\u001b[0m                       examples=_apply_docs['series_examples']))\n\u001b[1;32m    748\u001b[0m     \u001b[0;32mdef\u001b[0m \u001b[0mapply\u001b[0m\u001b[0;34m(\u001b[0m\u001b[0mself\u001b[0m\u001b[0;34m,\u001b[0m \u001b[0mfunc\u001b[0m\u001b[0;34m,\u001b[0m \u001b[0;34m*\u001b[0m\u001b[0margs\u001b[0m\u001b[0;34m,\u001b[0m \u001b[0;34m**\u001b[0m\u001b[0mkwargs\u001b[0m\u001b[0;34m)\u001b[0m\u001b[0;34m:\u001b[0m\u001b[0;34m\u001b[0m\u001b[0;34m\u001b[0m\u001b[0m\n\u001b[0;32m--> 749\u001b[0;31m         \u001b[0;32mreturn\u001b[0m \u001b[0msuper\u001b[0m\u001b[0;34m(\u001b[0m\u001b[0mSeriesGroupBy\u001b[0m\u001b[0;34m,\u001b[0m \u001b[0mself\u001b[0m\u001b[0;34m)\u001b[0m\u001b[0;34m.\u001b[0m\u001b[0mapply\u001b[0m\u001b[0;34m(\u001b[0m\u001b[0mfunc\u001b[0m\u001b[0;34m,\u001b[0m \u001b[0;34m*\u001b[0m\u001b[0margs\u001b[0m\u001b[0;34m,\u001b[0m \u001b[0;34m**\u001b[0m\u001b[0mkwargs\u001b[0m\u001b[0;34m)\u001b[0m\u001b[0;34m\u001b[0m\u001b[0;34m\u001b[0m\u001b[0m\n\u001b[0m\u001b[1;32m    750\u001b[0m \u001b[0;34m\u001b[0m\u001b[0m\n\u001b[1;32m    751\u001b[0m     @Substitution(see_also=_agg_see_also_doc,\n",
      "\u001b[0;32m~/anaconda/envs/rpy-env/lib/python3.6/site-packages/pandas/core/groupby/groupby.py\u001b[0m in \u001b[0;36mapply\u001b[0;34m(self, func, *args, **kwargs)\u001b[0m\n\u001b[1;32m    699\u001b[0m \u001b[0;34m\u001b[0m\u001b[0m\n\u001b[1;32m    700\u001b[0m                 \u001b[0;32mwith\u001b[0m \u001b[0m_group_selection_context\u001b[0m\u001b[0;34m(\u001b[0m\u001b[0mself\u001b[0m\u001b[0;34m)\u001b[0m\u001b[0;34m:\u001b[0m\u001b[0;34m\u001b[0m\u001b[0;34m\u001b[0m\u001b[0m\n\u001b[0;32m--> 701\u001b[0;31m                     \u001b[0;32mreturn\u001b[0m \u001b[0mself\u001b[0m\u001b[0;34m.\u001b[0m\u001b[0m_python_apply_general\u001b[0m\u001b[0;34m(\u001b[0m\u001b[0mf\u001b[0m\u001b[0;34m)\u001b[0m\u001b[0;34m\u001b[0m\u001b[0;34m\u001b[0m\u001b[0m\n\u001b[0m\u001b[1;32m    702\u001b[0m \u001b[0;34m\u001b[0m\u001b[0m\n\u001b[1;32m    703\u001b[0m         \u001b[0;32mreturn\u001b[0m \u001b[0mresult\u001b[0m\u001b[0;34m\u001b[0m\u001b[0;34m\u001b[0m\u001b[0m\n",
      "\u001b[0;32m~/anaconda/envs/rpy-env/lib/python3.6/site-packages/pandas/core/groupby/groupby.py\u001b[0m in \u001b[0;36m_python_apply_general\u001b[0;34m(self, f)\u001b[0m\n\u001b[1;32m    705\u001b[0m     \u001b[0;32mdef\u001b[0m \u001b[0m_python_apply_general\u001b[0m\u001b[0;34m(\u001b[0m\u001b[0mself\u001b[0m\u001b[0;34m,\u001b[0m \u001b[0mf\u001b[0m\u001b[0;34m)\u001b[0m\u001b[0;34m:\u001b[0m\u001b[0;34m\u001b[0m\u001b[0;34m\u001b[0m\u001b[0m\n\u001b[1;32m    706\u001b[0m         keys, values, mutated = self.grouper.apply(f, self._selected_obj,\n\u001b[0;32m--> 707\u001b[0;31m                                                    self.axis)\n\u001b[0m\u001b[1;32m    708\u001b[0m \u001b[0;34m\u001b[0m\u001b[0m\n\u001b[1;32m    709\u001b[0m         return self._wrap_applied_output(\n",
      "\u001b[0;32m~/anaconda/envs/rpy-env/lib/python3.6/site-packages/pandas/core/groupby/ops.py\u001b[0m in \u001b[0;36mapply\u001b[0;34m(self, f, data, axis)\u001b[0m\n\u001b[1;32m    165\u001b[0m         \u001b[0mmutated\u001b[0m \u001b[0;34m=\u001b[0m \u001b[0mself\u001b[0m\u001b[0;34m.\u001b[0m\u001b[0mmutated\u001b[0m\u001b[0;34m\u001b[0m\u001b[0;34m\u001b[0m\u001b[0m\n\u001b[1;32m    166\u001b[0m         \u001b[0msplitter\u001b[0m \u001b[0;34m=\u001b[0m \u001b[0mself\u001b[0m\u001b[0;34m.\u001b[0m\u001b[0m_get_splitter\u001b[0m\u001b[0;34m(\u001b[0m\u001b[0mdata\u001b[0m\u001b[0;34m,\u001b[0m \u001b[0maxis\u001b[0m\u001b[0;34m=\u001b[0m\u001b[0maxis\u001b[0m\u001b[0;34m)\u001b[0m\u001b[0;34m\u001b[0m\u001b[0;34m\u001b[0m\u001b[0m\n\u001b[0;32m--> 167\u001b[0;31m         \u001b[0mgroup_keys\u001b[0m \u001b[0;34m=\u001b[0m \u001b[0mself\u001b[0m\u001b[0;34m.\u001b[0m\u001b[0m_get_group_keys\u001b[0m\u001b[0;34m(\u001b[0m\u001b[0;34m)\u001b[0m\u001b[0;34m\u001b[0m\u001b[0;34m\u001b[0m\u001b[0m\n\u001b[0m\u001b[1;32m    168\u001b[0m \u001b[0;34m\u001b[0m\u001b[0m\n\u001b[1;32m    169\u001b[0m         \u001b[0;31m# oh boy\u001b[0m\u001b[0;34m\u001b[0m\u001b[0;34m\u001b[0m\u001b[0;34m\u001b[0m\u001b[0m\n",
      "\u001b[0;32m~/anaconda/envs/rpy-env/lib/python3.6/site-packages/pandas/core/groupby/ops.py\u001b[0m in \u001b[0;36m_get_group_keys\u001b[0;34m(self)\u001b[0m\n\u001b[1;32m    160\u001b[0m                                           \u001b[0mngroups\u001b[0m\u001b[0;34m,\u001b[0m\u001b[0;34m\u001b[0m\u001b[0;34m\u001b[0m\u001b[0m\n\u001b[1;32m    161\u001b[0m                                           \u001b[0mself\u001b[0m\u001b[0;34m.\u001b[0m\u001b[0mlevels\u001b[0m\u001b[0;34m,\u001b[0m\u001b[0;34m\u001b[0m\u001b[0;34m\u001b[0m\u001b[0m\n\u001b[0;32m--> 162\u001b[0;31m                                           self.labels)\n\u001b[0m\u001b[1;32m    163\u001b[0m \u001b[0;34m\u001b[0m\u001b[0m\n\u001b[1;32m    164\u001b[0m     \u001b[0;32mdef\u001b[0m \u001b[0mapply\u001b[0m\u001b[0;34m(\u001b[0m\u001b[0mself\u001b[0m\u001b[0;34m,\u001b[0m \u001b[0mf\u001b[0m\u001b[0;34m,\u001b[0m \u001b[0mdata\u001b[0m\u001b[0;34m,\u001b[0m \u001b[0maxis\u001b[0m\u001b[0;34m=\u001b[0m\u001b[0;36m0\u001b[0m\u001b[0;34m)\u001b[0m\u001b[0;34m:\u001b[0m\u001b[0;34m\u001b[0m\u001b[0;34m\u001b[0m\u001b[0m\n",
      "\u001b[0;32m~/anaconda/envs/rpy-env/lib/python3.6/site-packages/pandas/core/sorting.py\u001b[0m in \u001b[0;36mget_flattened_iterator\u001b[0;34m(comp_ids, ngroups, levels, labels)\u001b[0m\n\u001b[1;32m    314\u001b[0m     \u001b[0;31m# provide \"flattened\" iterator for multi-group setting\u001b[0m\u001b[0;34m\u001b[0m\u001b[0;34m\u001b[0m\u001b[0;34m\u001b[0m\u001b[0m\n\u001b[1;32m    315\u001b[0m     \u001b[0mmapper\u001b[0m \u001b[0;34m=\u001b[0m \u001b[0m_KeyMapper\u001b[0m\u001b[0;34m(\u001b[0m\u001b[0mcomp_ids\u001b[0m\u001b[0;34m,\u001b[0m \u001b[0mngroups\u001b[0m\u001b[0;34m,\u001b[0m \u001b[0mlevels\u001b[0m\u001b[0;34m,\u001b[0m \u001b[0mlabels\u001b[0m\u001b[0;34m)\u001b[0m\u001b[0;34m\u001b[0m\u001b[0;34m\u001b[0m\u001b[0m\n\u001b[0;32m--> 316\u001b[0;31m     \u001b[0;32mreturn\u001b[0m \u001b[0;34m[\u001b[0m\u001b[0mmapper\u001b[0m\u001b[0;34m.\u001b[0m\u001b[0mget_key\u001b[0m\u001b[0;34m(\u001b[0m\u001b[0mi\u001b[0m\u001b[0;34m)\u001b[0m \u001b[0;32mfor\u001b[0m \u001b[0mi\u001b[0m \u001b[0;32min\u001b[0m \u001b[0mrange\u001b[0m\u001b[0;34m(\u001b[0m\u001b[0mngroups\u001b[0m\u001b[0;34m)\u001b[0m\u001b[0;34m]\u001b[0m\u001b[0;34m\u001b[0m\u001b[0;34m\u001b[0m\u001b[0m\n\u001b[0m\u001b[1;32m    317\u001b[0m \u001b[0;34m\u001b[0m\u001b[0m\n\u001b[1;32m    318\u001b[0m \u001b[0;34m\u001b[0m\u001b[0m\n",
      "\u001b[0;32m~/anaconda/envs/rpy-env/lib/python3.6/site-packages/pandas/core/sorting.py\u001b[0m in \u001b[0;36m<listcomp>\u001b[0;34m(.0)\u001b[0m\n\u001b[1;32m    314\u001b[0m     \u001b[0;31m# provide \"flattened\" iterator for multi-group setting\u001b[0m\u001b[0;34m\u001b[0m\u001b[0;34m\u001b[0m\u001b[0;34m\u001b[0m\u001b[0m\n\u001b[1;32m    315\u001b[0m     \u001b[0mmapper\u001b[0m \u001b[0;34m=\u001b[0m \u001b[0m_KeyMapper\u001b[0m\u001b[0;34m(\u001b[0m\u001b[0mcomp_ids\u001b[0m\u001b[0;34m,\u001b[0m \u001b[0mngroups\u001b[0m\u001b[0;34m,\u001b[0m \u001b[0mlevels\u001b[0m\u001b[0;34m,\u001b[0m \u001b[0mlabels\u001b[0m\u001b[0;34m)\u001b[0m\u001b[0;34m\u001b[0m\u001b[0;34m\u001b[0m\u001b[0m\n\u001b[0;32m--> 316\u001b[0;31m     \u001b[0;32mreturn\u001b[0m \u001b[0;34m[\u001b[0m\u001b[0mmapper\u001b[0m\u001b[0;34m.\u001b[0m\u001b[0mget_key\u001b[0m\u001b[0;34m(\u001b[0m\u001b[0mi\u001b[0m\u001b[0;34m)\u001b[0m \u001b[0;32mfor\u001b[0m \u001b[0mi\u001b[0m \u001b[0;32min\u001b[0m \u001b[0mrange\u001b[0m\u001b[0;34m(\u001b[0m\u001b[0mngroups\u001b[0m\u001b[0;34m)\u001b[0m\u001b[0;34m]\u001b[0m\u001b[0;34m\u001b[0m\u001b[0;34m\u001b[0m\u001b[0m\n\u001b[0m\u001b[1;32m    317\u001b[0m \u001b[0;34m\u001b[0m\u001b[0m\n\u001b[1;32m    318\u001b[0m \u001b[0;34m\u001b[0m\u001b[0m\n",
      "\u001b[0;32m~/anaconda/envs/rpy-env/lib/python3.6/site-packages/pandas/core/sorting.py\u001b[0m in \u001b[0;36mget_key\u001b[0;34m(self, comp_id)\u001b[0m\n\u001b[1;32m    308\u001b[0m     \u001b[0;32mdef\u001b[0m \u001b[0mget_key\u001b[0m\u001b[0;34m(\u001b[0m\u001b[0mself\u001b[0m\u001b[0;34m,\u001b[0m \u001b[0mcomp_id\u001b[0m\u001b[0;34m)\u001b[0m\u001b[0;34m:\u001b[0m\u001b[0;34m\u001b[0m\u001b[0;34m\u001b[0m\u001b[0m\n\u001b[1;32m    309\u001b[0m         return tuple(level[table.get_item(comp_id)]\n\u001b[0;32m--> 310\u001b[0;31m                      for table, level in zip(self.tables, self.levels))\n\u001b[0m\u001b[1;32m    311\u001b[0m \u001b[0;34m\u001b[0m\u001b[0m\n\u001b[1;32m    312\u001b[0m \u001b[0;34m\u001b[0m\u001b[0m\n",
      "\u001b[0;32m~/anaconda/envs/rpy-env/lib/python3.6/site-packages/pandas/core/sorting.py\u001b[0m in \u001b[0;36m<genexpr>\u001b[0;34m(.0)\u001b[0m\n\u001b[1;32m    308\u001b[0m     \u001b[0;32mdef\u001b[0m \u001b[0mget_key\u001b[0m\u001b[0;34m(\u001b[0m\u001b[0mself\u001b[0m\u001b[0;34m,\u001b[0m \u001b[0mcomp_id\u001b[0m\u001b[0;34m)\u001b[0m\u001b[0;34m:\u001b[0m\u001b[0;34m\u001b[0m\u001b[0;34m\u001b[0m\u001b[0m\n\u001b[1;32m    309\u001b[0m         return tuple(level[table.get_item(comp_id)]\n\u001b[0;32m--> 310\u001b[0;31m                      for table, level in zip(self.tables, self.levels))\n\u001b[0m\u001b[1;32m    311\u001b[0m \u001b[0;34m\u001b[0m\u001b[0m\n\u001b[1;32m    312\u001b[0m \u001b[0;34m\u001b[0m\u001b[0m\n",
      "\u001b[0;32m~/anaconda/envs/rpy-env/lib/python3.6/site-packages/pandas/core/indexes/base.py\u001b[0m in \u001b[0;36m__getitem__\u001b[0;34m(self, key)\u001b[0m\n\u001b[1;32m   3955\u001b[0m \u001b[0;34m\u001b[0m\u001b[0m\n\u001b[1;32m   3956\u001b[0m         \u001b[0;32mif\u001b[0m \u001b[0mis_scalar\u001b[0m\u001b[0;34m(\u001b[0m\u001b[0mkey\u001b[0m\u001b[0;34m)\u001b[0m\u001b[0;34m:\u001b[0m\u001b[0;34m\u001b[0m\u001b[0;34m\u001b[0m\u001b[0m\n\u001b[0;32m-> 3957\u001b[0;31m             \u001b[0mkey\u001b[0m \u001b[0;34m=\u001b[0m \u001b[0mcom\u001b[0m\u001b[0;34m.\u001b[0m\u001b[0mcast_scalar_indexer\u001b[0m\u001b[0;34m(\u001b[0m\u001b[0mkey\u001b[0m\u001b[0;34m)\u001b[0m\u001b[0;34m\u001b[0m\u001b[0;34m\u001b[0m\u001b[0m\n\u001b[0m\u001b[1;32m   3958\u001b[0m             \u001b[0;32mreturn\u001b[0m \u001b[0mgetitem\u001b[0m\u001b[0;34m(\u001b[0m\u001b[0mkey\u001b[0m\u001b[0;34m)\u001b[0m\u001b[0;34m\u001b[0m\u001b[0;34m\u001b[0m\u001b[0m\n\u001b[1;32m   3959\u001b[0m \u001b[0;34m\u001b[0m\u001b[0m\n",
      "\u001b[0;31mKeyboardInterrupt\u001b[0m: "
     ]
    },
    {
     "name": "stdout",
     "output_type": "stream",
     "text": [
      "time: 18.5 s\n"
     ]
    }
   ],
   "source": [
    "test_unstacked=grouper['standardize'].apply(maxCol).unstack(\"label\")"
   ]
  },
  {
   "cell_type": "code",
   "execution_count": 291,
   "metadata": {},
   "outputs": [
    {
     "data": {
      "text/html": [
       "<div>\n",
       "<style scoped>\n",
       "    .dataframe tbody tr th:only-of-type {\n",
       "        vertical-align: middle;\n",
       "    }\n",
       "\n",
       "    .dataframe tbody tr th {\n",
       "        vertical-align: top;\n",
       "    }\n",
       "\n",
       "    .dataframe thead th {\n",
       "        text-align: right;\n",
       "    }\n",
       "</style>\n",
       "<table border=\"1\" class=\"dataframe\">\n",
       "  <thead>\n",
       "    <tr style=\"text-align: right;\">\n",
       "      <th></th>\n",
       "      <th>label</th>\n",
       "      <th>bicarbonate</th>\n",
       "      <th>bilirubin</th>\n",
       "      <th>bun</th>\n",
       "      <th>calcium</th>\n",
       "      <th>chloride</th>\n",
       "      <th>creatinine</th>\n",
       "      <th>daily_sofa</th>\n",
       "      <th>diasbp</th>\n",
       "      <th>glucose</th>\n",
       "      <th>heartrate</th>\n",
       "      <th>...</th>\n",
       "      <th>platelet</th>\n",
       "      <th>potassium</th>\n",
       "      <th>ptt</th>\n",
       "      <th>resprate</th>\n",
       "      <th>sodium</th>\n",
       "      <th>spo2</th>\n",
       "      <th>sum_elix</th>\n",
       "      <th>sysbp</th>\n",
       "      <th>temperature</th>\n",
       "      <th>wbc</th>\n",
       "    </tr>\n",
       "    <tr>\n",
       "      <th>icustay_id</th>\n",
       "      <th>delta</th>\n",
       "      <th></th>\n",
       "      <th></th>\n",
       "      <th></th>\n",
       "      <th></th>\n",
       "      <th></th>\n",
       "      <th></th>\n",
       "      <th></th>\n",
       "      <th></th>\n",
       "      <th></th>\n",
       "      <th></th>\n",
       "      <th></th>\n",
       "      <th></th>\n",
       "      <th></th>\n",
       "      <th></th>\n",
       "      <th></th>\n",
       "      <th></th>\n",
       "      <th></th>\n",
       "      <th></th>\n",
       "      <th></th>\n",
       "      <th></th>\n",
       "      <th></th>\n",
       "    </tr>\n",
       "  </thead>\n",
       "  <tbody>\n",
       "    <tr>\n",
       "      <th rowspan=\"19\" valign=\"top\">200030.0</th>\n",
       "      <th>0 days 00:00:00</th>\n",
       "      <td>-0.124539</td>\n",
       "      <td>NaN</td>\n",
       "      <td>0.104422</td>\n",
       "      <td>0.098057</td>\n",
       "      <td>0.025059</td>\n",
       "      <td>0.000000</td>\n",
       "      <td>-0.178747</td>\n",
       "      <td>0.042508</td>\n",
       "      <td>0.154446</td>\n",
       "      <td>0.053689</td>\n",
       "      <td>...</td>\n",
       "      <td>-0.024085</td>\n",
       "      <td>-0.379634</td>\n",
       "      <td>-0.064347</td>\n",
       "      <td>0.126171</td>\n",
       "      <td>0.003972</td>\n",
       "      <td>-0.012811</td>\n",
       "      <td>0.0</td>\n",
       "      <td>0.059001</td>\n",
       "      <td>0.022374</td>\n",
       "      <td>0.161889</td>\n",
       "    </tr>\n",
       "    <tr>\n",
       "      <th>0 days 04:00:00</th>\n",
       "      <td>NaN</td>\n",
       "      <td>NaN</td>\n",
       "      <td>NaN</td>\n",
       "      <td>NaN</td>\n",
       "      <td>NaN</td>\n",
       "      <td>NaN</td>\n",
       "      <td>NaN</td>\n",
       "      <td>0.032370</td>\n",
       "      <td>0.055192</td>\n",
       "      <td>0.062810</td>\n",
       "      <td>...</td>\n",
       "      <td>NaN</td>\n",
       "      <td>NaN</td>\n",
       "      <td>NaN</td>\n",
       "      <td>-0.050668</td>\n",
       "      <td>NaN</td>\n",
       "      <td>-0.019318</td>\n",
       "      <td>NaN</td>\n",
       "      <td>0.050986</td>\n",
       "      <td>-0.008226</td>\n",
       "      <td>NaN</td>\n",
       "    </tr>\n",
       "    <tr>\n",
       "      <th>0 days 08:00:00</th>\n",
       "      <td>NaN</td>\n",
       "      <td>NaN</td>\n",
       "      <td>NaN</td>\n",
       "      <td>NaN</td>\n",
       "      <td>NaN</td>\n",
       "      <td>NaN</td>\n",
       "      <td>NaN</td>\n",
       "      <td>0.066605</td>\n",
       "      <td>-0.026489</td>\n",
       "      <td>0.094159</td>\n",
       "      <td>...</td>\n",
       "      <td>NaN</td>\n",
       "      <td>NaN</td>\n",
       "      <td>NaN</td>\n",
       "      <td>0.126171</td>\n",
       "      <td>NaN</td>\n",
       "      <td>-0.019318</td>\n",
       "      <td>NaN</td>\n",
       "      <td>0.042741</td>\n",
       "      <td>-0.004107</td>\n",
       "      <td>NaN</td>\n",
       "    </tr>\n",
       "    <tr>\n",
       "      <th>0 days 12:00:00</th>\n",
       "      <td>-0.153166</td>\n",
       "      <td>NaN</td>\n",
       "      <td>0.081304</td>\n",
       "      <td>NaN</td>\n",
       "      <td>0.020977</td>\n",
       "      <td>-0.079914</td>\n",
       "      <td>NaN</td>\n",
       "      <td>0.037477</td>\n",
       "      <td>0.032544</td>\n",
       "      <td>0.107438</td>\n",
       "      <td>...</td>\n",
       "      <td>NaN</td>\n",
       "      <td>-0.466899</td>\n",
       "      <td>NaN</td>\n",
       "      <td>0.107309</td>\n",
       "      <td>0.007917</td>\n",
       "      <td>-0.019318</td>\n",
       "      <td>NaN</td>\n",
       "      <td>0.011876</td>\n",
       "      <td>0.008178</td>\n",
       "      <td>NaN</td>\n",
       "    </tr>\n",
       "    <tr>\n",
       "      <th>0 days 16:00:00</th>\n",
       "      <td>NaN</td>\n",
       "      <td>NaN</td>\n",
       "      <td>NaN</td>\n",
       "      <td>NaN</td>\n",
       "      <td>NaN</td>\n",
       "      <td>NaN</td>\n",
       "      <td>NaN</td>\n",
       "      <td>0.061921</td>\n",
       "      <td>-0.076362</td>\n",
       "      <td>0.132424</td>\n",
       "      <td>...</td>\n",
       "      <td>NaN</td>\n",
       "      <td>NaN</td>\n",
       "      <td>NaN</td>\n",
       "      <td>0.194988</td>\n",
       "      <td>NaN</td>\n",
       "      <td>-0.025893</td>\n",
       "      <td>NaN</td>\n",
       "      <td>0.050986</td>\n",
       "      <td>0.014279</td>\n",
       "      <td>NaN</td>\n",
       "    </tr>\n",
       "    <tr>\n",
       "      <th>0 days 20:00:00</th>\n",
       "      <td>NaN</td>\n",
       "      <td>NaN</td>\n",
       "      <td>NaN</td>\n",
       "      <td>NaN</td>\n",
       "      <td>NaN</td>\n",
       "      <td>NaN</td>\n",
       "      <td>NaN</td>\n",
       "      <td>0.061921</td>\n",
       "      <td>0.061299</td>\n",
       "      <td>0.132424</td>\n",
       "      <td>...</td>\n",
       "      <td>NaN</td>\n",
       "      <td>NaN</td>\n",
       "      <td>NaN</td>\n",
       "      <td>0.255178</td>\n",
       "      <td>NaN</td>\n",
       "      <td>-0.019318</td>\n",
       "      <td>NaN</td>\n",
       "      <td>0.038529</td>\n",
       "      <td>0.040418</td>\n",
       "      <td>NaN</td>\n",
       "    </tr>\n",
       "    <tr>\n",
       "      <th>1 days 00:00:00</th>\n",
       "      <td>-0.153166</td>\n",
       "      <td>NaN</td>\n",
       "      <td>0.043199</td>\n",
       "      <td>NaN</td>\n",
       "      <td>0.025059</td>\n",
       "      <td>-0.079914</td>\n",
       "      <td>-0.861353</td>\n",
       "      <td>0.075785</td>\n",
       "      <td>-0.063544</td>\n",
       "      <td>0.112596</td>\n",
       "      <td>...</td>\n",
       "      <td>-0.011116</td>\n",
       "      <td>-0.217483</td>\n",
       "      <td>-0.022099</td>\n",
       "      <td>0.226024</td>\n",
       "      <td>0.003972</td>\n",
       "      <td>-0.019318</td>\n",
       "      <td>NaN</td>\n",
       "      <td>0.040643</td>\n",
       "      <td>0.043999</td>\n",
       "      <td>0.126941</td>\n",
       "    </tr>\n",
       "    <tr>\n",
       "      <th>1 days 04:00:00</th>\n",
       "      <td>NaN</td>\n",
       "      <td>NaN</td>\n",
       "      <td>NaN</td>\n",
       "      <td>NaN</td>\n",
       "      <td>NaN</td>\n",
       "      <td>NaN</td>\n",
       "      <td>NaN</td>\n",
       "      <td>0.061921</td>\n",
       "      <td>0.085694</td>\n",
       "      <td>0.120179</td>\n",
       "      <td>...</td>\n",
       "      <td>NaN</td>\n",
       "      <td>NaN</td>\n",
       "      <td>NaN</td>\n",
       "      <td>0.178684</td>\n",
       "      <td>NaN</td>\n",
       "      <td>-0.012811</td>\n",
       "      <td>NaN</td>\n",
       "      <td>0.032093</td>\n",
       "      <td>0.022374</td>\n",
       "      <td>NaN</td>\n",
       "    </tr>\n",
       "    <tr>\n",
       "      <th>1 days 08:00:00</th>\n",
       "      <td>NaN</td>\n",
       "      <td>NaN</td>\n",
       "      <td>NaN</td>\n",
       "      <td>NaN</td>\n",
       "      <td>NaN</td>\n",
       "      <td>NaN</td>\n",
       "      <td>NaN</td>\n",
       "      <td>0.133911</td>\n",
       "      <td>0.044127</td>\n",
       "      <td>0.099538</td>\n",
       "      <td>...</td>\n",
       "      <td>NaN</td>\n",
       "      <td>NaN</td>\n",
       "      <td>NaN</td>\n",
       "      <td>0.178684</td>\n",
       "      <td>NaN</td>\n",
       "      <td>-0.006373</td>\n",
       "      <td>NaN</td>\n",
       "      <td>0.094301</td>\n",
       "      <td>-0.045852</td>\n",
       "      <td>NaN</td>\n",
       "    </tr>\n",
       "    <tr>\n",
       "      <th>1 days 12:00:00</th>\n",
       "      <td>NaN</td>\n",
       "      <td>NaN</td>\n",
       "      <td>NaN</td>\n",
       "      <td>NaN</td>\n",
       "      <td>NaN</td>\n",
       "      <td>NaN</td>\n",
       "      <td>NaN</td>\n",
       "      <td>0.106090</td>\n",
       "      <td>NaN</td>\n",
       "      <td>0.102193</td>\n",
       "      <td>...</td>\n",
       "      <td>NaN</td>\n",
       "      <td>NaN</td>\n",
       "      <td>NaN</td>\n",
       "      <td>0.194988</td>\n",
       "      <td>NaN</td>\n",
       "      <td>-0.012811</td>\n",
       "      <td>NaN</td>\n",
       "      <td>0.066800</td>\n",
       "      <td>-0.016500</td>\n",
       "      <td>NaN</td>\n",
       "    </tr>\n",
       "    <tr>\n",
       "      <th>1 days 16:00:00</th>\n",
       "      <td>NaN</td>\n",
       "      <td>NaN</td>\n",
       "      <td>NaN</td>\n",
       "      <td>NaN</td>\n",
       "      <td>NaN</td>\n",
       "      <td>NaN</td>\n",
       "      <td>NaN</td>\n",
       "      <td>0.071226</td>\n",
       "      <td>0.162590</td>\n",
       "      <td>0.083117</td>\n",
       "      <td>...</td>\n",
       "      <td>NaN</td>\n",
       "      <td>NaN</td>\n",
       "      <td>NaN</td>\n",
       "      <td>0.161809</td>\n",
       "      <td>NaN</td>\n",
       "      <td>-0.006373</td>\n",
       "      <td>NaN</td>\n",
       "      <td>0.032093</td>\n",
       "      <td>0.038424</td>\n",
       "      <td>NaN</td>\n",
       "    </tr>\n",
       "    <tr>\n",
       "      <th>1 days 20:00:00</th>\n",
       "      <td>NaN</td>\n",
       "      <td>NaN</td>\n",
       "      <td>NaN</td>\n",
       "      <td>NaN</td>\n",
       "      <td>NaN</td>\n",
       "      <td>NaN</td>\n",
       "      <td>NaN</td>\n",
       "      <td>0.089105</td>\n",
       "      <td>NaN</td>\n",
       "      <td>0.091435</td>\n",
       "      <td>...</td>\n",
       "      <td>NaN</td>\n",
       "      <td>NaN</td>\n",
       "      <td>NaN</td>\n",
       "      <td>0.226024</td>\n",
       "      <td>NaN</td>\n",
       "      <td>-0.006373</td>\n",
       "      <td>NaN</td>\n",
       "      <td>0.057018</td>\n",
       "      <td>0.030422</td>\n",
       "      <td>NaN</td>\n",
       "    </tr>\n",
       "    <tr>\n",
       "      <th>2 days 00:00:00</th>\n",
       "      <td>-0.183342</td>\n",
       "      <td>NaN</td>\n",
       "      <td>0.015050</td>\n",
       "      <td>NaN</td>\n",
       "      <td>0.020977</td>\n",
       "      <td>-0.164150</td>\n",
       "      <td>0.138647</td>\n",
       "      <td>0.097704</td>\n",
       "      <td>0.177172</td>\n",
       "      <td>0.091435</td>\n",
       "      <td>...</td>\n",
       "      <td>-0.035344</td>\n",
       "      <td>0.066726</td>\n",
       "      <td>NaN</td>\n",
       "      <td>0.178684</td>\n",
       "      <td>-0.004001</td>\n",
       "      <td>-0.019318</td>\n",
       "      <td>NaN</td>\n",
       "      <td>0.066800</td>\n",
       "      <td>0.040418</td>\n",
       "      <td>0.112252</td>\n",
       "    </tr>\n",
       "    <tr>\n",
       "      <th>2 days 04:00:00</th>\n",
       "      <td>NaN</td>\n",
       "      <td>NaN</td>\n",
       "      <td>NaN</td>\n",
       "      <td>NaN</td>\n",
       "      <td>NaN</td>\n",
       "      <td>NaN</td>\n",
       "      <td>NaN</td>\n",
       "      <td>0.190059</td>\n",
       "      <td>NaN</td>\n",
       "      <td>0.077448</td>\n",
       "      <td>...</td>\n",
       "      <td>NaN</td>\n",
       "      <td>NaN</td>\n",
       "      <td>NaN</td>\n",
       "      <td>0.107309</td>\n",
       "      <td>NaN</td>\n",
       "      <td>-0.025893</td>\n",
       "      <td>NaN</td>\n",
       "      <td>0.124176</td>\n",
       "      <td>0.018333</td>\n",
       "      <td>NaN</td>\n",
       "    </tr>\n",
       "    <tr>\n",
       "      <th>2 days 08:00:00</th>\n",
       "      <td>NaN</td>\n",
       "      <td>NaN</td>\n",
       "      <td>NaN</td>\n",
       "      <td>NaN</td>\n",
       "      <td>NaN</td>\n",
       "      <td>NaN</td>\n",
       "      <td>NaN</td>\n",
       "      <td>0.101923</td>\n",
       "      <td>NaN</td>\n",
       "      <td>0.088687</td>\n",
       "      <td>...</td>\n",
       "      <td>NaN</td>\n",
       "      <td>NaN</td>\n",
       "      <td>NaN</td>\n",
       "      <td>0.240822</td>\n",
       "      <td>NaN</td>\n",
       "      <td>-0.006373</td>\n",
       "      <td>NaN</td>\n",
       "      <td>0.074394</td>\n",
       "      <td>0.012248</td>\n",
       "      <td>NaN</td>\n",
       "    </tr>\n",
       "    <tr>\n",
       "      <th>2 days 12:00:00</th>\n",
       "      <td>NaN</td>\n",
       "      <td>NaN</td>\n",
       "      <td>NaN</td>\n",
       "      <td>NaN</td>\n",
       "      <td>NaN</td>\n",
       "      <td>NaN</td>\n",
       "      <td>NaN</td>\n",
       "      <td>0.097704</td>\n",
       "      <td>0.185525</td>\n",
       "      <td>0.096860</td>\n",
       "      <td>...</td>\n",
       "      <td>NaN</td>\n",
       "      <td>NaN</td>\n",
       "      <td>NaN</td>\n",
       "      <td>0.161809</td>\n",
       "      <td>NaN</td>\n",
       "      <td>-0.019318</td>\n",
       "      <td>NaN</td>\n",
       "      <td>0.085422</td>\n",
       "      <td>0.020355</td>\n",
       "      <td>NaN</td>\n",
       "    </tr>\n",
       "    <tr>\n",
       "      <th>2 days 16:00:00</th>\n",
       "      <td>NaN</td>\n",
       "      <td>NaN</td>\n",
       "      <td>NaN</td>\n",
       "      <td>NaN</td>\n",
       "      <td>NaN</td>\n",
       "      <td>NaN</td>\n",
       "      <td>NaN</td>\n",
       "      <td>0.093431</td>\n",
       "      <td>-0.084384</td>\n",
       "      <td>0.102193</td>\n",
       "      <td>...</td>\n",
       "      <td>NaN</td>\n",
       "      <td>NaN</td>\n",
       "      <td>-0.060527</td>\n",
       "      <td>0.210756</td>\n",
       "      <td>NaN</td>\n",
       "      <td>-0.012811</td>\n",
       "      <td>NaN</td>\n",
       "      <td>0.085422</td>\n",
       "      <td>0.024390</td>\n",
       "      <td>NaN</td>\n",
       "    </tr>\n",
       "    <tr>\n",
       "      <th>2 days 20:00:00</th>\n",
       "      <td>NaN</td>\n",
       "      <td>2.167681</td>\n",
       "      <td>NaN</td>\n",
       "      <td>0.941623</td>\n",
       "      <td>NaN</td>\n",
       "      <td>NaN</td>\n",
       "      <td>NaN</td>\n",
       "      <td>0.101923</td>\n",
       "      <td>-0.145769</td>\n",
       "      <td>0.071674</td>\n",
       "      <td>...</td>\n",
       "      <td>NaN</td>\n",
       "      <td>NaN</td>\n",
       "      <td>NaN</td>\n",
       "      <td>0.194988</td>\n",
       "      <td>NaN</td>\n",
       "      <td>-0.032538</td>\n",
       "      <td>NaN</td>\n",
       "      <td>0.076261</td>\n",
       "      <td>-0.029004</td>\n",
       "      <td>NaN</td>\n",
       "    </tr>\n",
       "    <tr>\n",
       "      <th>3 days 00:00:00</th>\n",
       "      <td>NaN</td>\n",
       "      <td>NaN</td>\n",
       "      <td>NaN</td>\n",
       "      <td>NaN</td>\n",
       "      <td>NaN</td>\n",
       "      <td>NaN</td>\n",
       "      <td>0.251930</td>\n",
       "      <td>0.042508</td>\n",
       "      <td>NaN</td>\n",
       "      <td>0.024623</td>\n",
       "      <td>...</td>\n",
       "      <td>NaN</td>\n",
       "      <td>NaN</td>\n",
       "      <td>NaN</td>\n",
       "      <td>0.107309</td>\n",
       "      <td>NaN</td>\n",
       "      <td>0.000000</td>\n",
       "      <td>NaN</td>\n",
       "      <td>0.034254</td>\n",
       "      <td>NaN</td>\n",
       "      <td>NaN</td>\n",
       "    </tr>\n",
       "  </tbody>\n",
       "</table>\n",
       "<p>19 rows × 26 columns</p>\n",
       "</div>"
      ],
      "text/plain": [
       "label                       bicarbonate  bilirubin       bun   calcium  \\\n",
       "icustay_id delta                                                         \n",
       "200030.0   0 days 00:00:00    -0.124539        NaN  0.104422  0.098057   \n",
       "           0 days 04:00:00          NaN        NaN       NaN       NaN   \n",
       "           0 days 08:00:00          NaN        NaN       NaN       NaN   \n",
       "           0 days 12:00:00    -0.153166        NaN  0.081304       NaN   \n",
       "           0 days 16:00:00          NaN        NaN       NaN       NaN   \n",
       "           0 days 20:00:00          NaN        NaN       NaN       NaN   \n",
       "           1 days 00:00:00    -0.153166        NaN  0.043199       NaN   \n",
       "           1 days 04:00:00          NaN        NaN       NaN       NaN   \n",
       "           1 days 08:00:00          NaN        NaN       NaN       NaN   \n",
       "           1 days 12:00:00          NaN        NaN       NaN       NaN   \n",
       "           1 days 16:00:00          NaN        NaN       NaN       NaN   \n",
       "           1 days 20:00:00          NaN        NaN       NaN       NaN   \n",
       "           2 days 00:00:00    -0.183342        NaN  0.015050       NaN   \n",
       "           2 days 04:00:00          NaN        NaN       NaN       NaN   \n",
       "           2 days 08:00:00          NaN        NaN       NaN       NaN   \n",
       "           2 days 12:00:00          NaN        NaN       NaN       NaN   \n",
       "           2 days 16:00:00          NaN        NaN       NaN       NaN   \n",
       "           2 days 20:00:00          NaN   2.167681       NaN  0.941623   \n",
       "           3 days 00:00:00          NaN        NaN       NaN       NaN   \n",
       "\n",
       "label                       chloride  creatinine  daily_sofa    diasbp  \\\n",
       "icustay_id delta                                                         \n",
       "200030.0   0 days 00:00:00  0.025059    0.000000   -0.178747  0.042508   \n",
       "           0 days 04:00:00       NaN         NaN         NaN  0.032370   \n",
       "           0 days 08:00:00       NaN         NaN         NaN  0.066605   \n",
       "           0 days 12:00:00  0.020977   -0.079914         NaN  0.037477   \n",
       "           0 days 16:00:00       NaN         NaN         NaN  0.061921   \n",
       "           0 days 20:00:00       NaN         NaN         NaN  0.061921   \n",
       "           1 days 00:00:00  0.025059   -0.079914   -0.861353  0.075785   \n",
       "           1 days 04:00:00       NaN         NaN         NaN  0.061921   \n",
       "           1 days 08:00:00       NaN         NaN         NaN  0.133911   \n",
       "           1 days 12:00:00       NaN         NaN         NaN  0.106090   \n",
       "           1 days 16:00:00       NaN         NaN         NaN  0.071226   \n",
       "           1 days 20:00:00       NaN         NaN         NaN  0.089105   \n",
       "           2 days 00:00:00  0.020977   -0.164150    0.138647  0.097704   \n",
       "           2 days 04:00:00       NaN         NaN         NaN  0.190059   \n",
       "           2 days 08:00:00       NaN         NaN         NaN  0.101923   \n",
       "           2 days 12:00:00       NaN         NaN         NaN  0.097704   \n",
       "           2 days 16:00:00       NaN         NaN         NaN  0.093431   \n",
       "           2 days 20:00:00       NaN         NaN         NaN  0.101923   \n",
       "           3 days 00:00:00       NaN         NaN    0.251930  0.042508   \n",
       "\n",
       "label                        glucose  heartrate  ...  platelet  potassium  \\\n",
       "icustay_id delta                                 ...                        \n",
       "200030.0   0 days 00:00:00  0.154446   0.053689  ... -0.024085  -0.379634   \n",
       "           0 days 04:00:00  0.055192   0.062810  ...       NaN        NaN   \n",
       "           0 days 08:00:00 -0.026489   0.094159  ...       NaN        NaN   \n",
       "           0 days 12:00:00  0.032544   0.107438  ...       NaN  -0.466899   \n",
       "           0 days 16:00:00 -0.076362   0.132424  ...       NaN        NaN   \n",
       "           0 days 20:00:00  0.061299   0.132424  ...       NaN        NaN   \n",
       "           1 days 00:00:00 -0.063544   0.112596  ... -0.011116  -0.217483   \n",
       "           1 days 04:00:00  0.085694   0.120179  ...       NaN        NaN   \n",
       "           1 days 08:00:00  0.044127   0.099538  ...       NaN        NaN   \n",
       "           1 days 12:00:00       NaN   0.102193  ...       NaN        NaN   \n",
       "           1 days 16:00:00  0.162590   0.083117  ...       NaN        NaN   \n",
       "           1 days 20:00:00       NaN   0.091435  ...       NaN        NaN   \n",
       "           2 days 00:00:00  0.177172   0.091435  ... -0.035344   0.066726   \n",
       "           2 days 04:00:00       NaN   0.077448  ...       NaN        NaN   \n",
       "           2 days 08:00:00       NaN   0.088687  ...       NaN        NaN   \n",
       "           2 days 12:00:00  0.185525   0.096860  ...       NaN        NaN   \n",
       "           2 days 16:00:00 -0.084384   0.102193  ...       NaN        NaN   \n",
       "           2 days 20:00:00 -0.145769   0.071674  ...       NaN        NaN   \n",
       "           3 days 00:00:00       NaN   0.024623  ...       NaN        NaN   \n",
       "\n",
       "label                            ptt  resprate    sodium      spo2  sum_elix  \\\n",
       "icustay_id delta                                                               \n",
       "200030.0   0 days 00:00:00 -0.064347  0.126171  0.003972 -0.012811       0.0   \n",
       "           0 days 04:00:00       NaN -0.050668       NaN -0.019318       NaN   \n",
       "           0 days 08:00:00       NaN  0.126171       NaN -0.019318       NaN   \n",
       "           0 days 12:00:00       NaN  0.107309  0.007917 -0.019318       NaN   \n",
       "           0 days 16:00:00       NaN  0.194988       NaN -0.025893       NaN   \n",
       "           0 days 20:00:00       NaN  0.255178       NaN -0.019318       NaN   \n",
       "           1 days 00:00:00 -0.022099  0.226024  0.003972 -0.019318       NaN   \n",
       "           1 days 04:00:00       NaN  0.178684       NaN -0.012811       NaN   \n",
       "           1 days 08:00:00       NaN  0.178684       NaN -0.006373       NaN   \n",
       "           1 days 12:00:00       NaN  0.194988       NaN -0.012811       NaN   \n",
       "           1 days 16:00:00       NaN  0.161809       NaN -0.006373       NaN   \n",
       "           1 days 20:00:00       NaN  0.226024       NaN -0.006373       NaN   \n",
       "           2 days 00:00:00       NaN  0.178684 -0.004001 -0.019318       NaN   \n",
       "           2 days 04:00:00       NaN  0.107309       NaN -0.025893       NaN   \n",
       "           2 days 08:00:00       NaN  0.240822       NaN -0.006373       NaN   \n",
       "           2 days 12:00:00       NaN  0.161809       NaN -0.019318       NaN   \n",
       "           2 days 16:00:00 -0.060527  0.210756       NaN -0.012811       NaN   \n",
       "           2 days 20:00:00       NaN  0.194988       NaN -0.032538       NaN   \n",
       "           3 days 00:00:00       NaN  0.107309       NaN  0.000000       NaN   \n",
       "\n",
       "label                          sysbp  temperature       wbc  \n",
       "icustay_id delta                                             \n",
       "200030.0   0 days 00:00:00  0.059001     0.022374  0.161889  \n",
       "           0 days 04:00:00  0.050986    -0.008226       NaN  \n",
       "           0 days 08:00:00  0.042741    -0.004107       NaN  \n",
       "           0 days 12:00:00  0.011876     0.008178       NaN  \n",
       "           0 days 16:00:00  0.050986     0.014279       NaN  \n",
       "           0 days 20:00:00  0.038529     0.040418       NaN  \n",
       "           1 days 00:00:00  0.040643     0.043999  0.126941  \n",
       "           1 days 04:00:00  0.032093     0.022374       NaN  \n",
       "           1 days 08:00:00  0.094301    -0.045852       NaN  \n",
       "           1 days 12:00:00  0.066800    -0.016500       NaN  \n",
       "           1 days 16:00:00  0.032093     0.038424       NaN  \n",
       "           1 days 20:00:00  0.057018     0.030422       NaN  \n",
       "           2 days 00:00:00  0.066800     0.040418  0.112252  \n",
       "           2 days 04:00:00  0.124176     0.018333       NaN  \n",
       "           2 days 08:00:00  0.074394     0.012248       NaN  \n",
       "           2 days 12:00:00  0.085422     0.020355       NaN  \n",
       "           2 days 16:00:00  0.085422     0.024390       NaN  \n",
       "           2 days 20:00:00  0.076261    -0.029004       NaN  \n",
       "           3 days 00:00:00  0.034254          NaN       NaN  \n",
       "\n",
       "[19 rows x 26 columns]"
      ]
     },
     "execution_count": 291,
     "metadata": {},
     "output_type": "execute_result"
    },
    {
     "name": "stdout",
     "output_type": "stream",
     "text": [
      "time: 34.5 ms\n"
     ]
    }
   ],
   "source": [
    "test_unstacked.head(19) #19 delta values"
   ]
  },
  {
   "cell_type": "code",
   "execution_count": null,
   "metadata": {},
   "outputs": [],
   "source": [
    "##takes 10 minutes to run, resamples the data in 4 hour blocks and puts na for values unfilled. every icustay_id now has a row for every 4 hour block. \n",
    "restacked=test_unstacked.groupby('icustay_id').resample('4H',level=-1).apply(maxCol) #level =-1 : corresponds to the delta multiindex. "
   ]
  },
  {
   "cell_type": "code",
   "execution_count": null,
   "metadata": {},
   "outputs": [],
   "source": [
    "restacked_ffilled=restacked.groupby('icustay_id').fillna(method='ffill') #fills in na using feed forward. \n",
    "##issue is, if there is no value previously seen, then na still exists. for these na before a value is seen, a 0 is filled in, to represent healthy median value. \n",
    "restacked_ffilled=restacked_ffilled.fillna(0)# "
   ]
  },
  {
   "cell_type": "code",
   "execution_count": 368,
   "metadata": {},
   "outputs": [
    {
     "data": {
      "text/html": [
       "<div>\n",
       "<style scoped>\n",
       "    .dataframe tbody tr th:only-of-type {\n",
       "        vertical-align: middle;\n",
       "    }\n",
       "\n",
       "    .dataframe tbody tr th {\n",
       "        vertical-align: top;\n",
       "    }\n",
       "\n",
       "    .dataframe thead th {\n",
       "        text-align: right;\n",
       "    }\n",
       "</style>\n",
       "<table border=\"1\" class=\"dataframe\">\n",
       "  <thead>\n",
       "    <tr style=\"text-align: right;\">\n",
       "      <th></th>\n",
       "      <th>label</th>\n",
       "      <th>bicarbonate</th>\n",
       "      <th>bilirubin</th>\n",
       "      <th>bun</th>\n",
       "      <th>calcium</th>\n",
       "      <th>chloride</th>\n",
       "      <th>creatinine</th>\n",
       "      <th>daily_sofa</th>\n",
       "      <th>diasbp</th>\n",
       "      <th>glucose</th>\n",
       "      <th>heartrate</th>\n",
       "      <th>...</th>\n",
       "      <th>platelet</th>\n",
       "      <th>potassium</th>\n",
       "      <th>ptt</th>\n",
       "      <th>resprate</th>\n",
       "      <th>sodium</th>\n",
       "      <th>spo2</th>\n",
       "      <th>sum_elix</th>\n",
       "      <th>sysbp</th>\n",
       "      <th>temperature</th>\n",
       "      <th>wbc</th>\n",
       "    </tr>\n",
       "    <tr>\n",
       "      <th>icustay_id</th>\n",
       "      <th>delta</th>\n",
       "      <th></th>\n",
       "      <th></th>\n",
       "      <th></th>\n",
       "      <th></th>\n",
       "      <th></th>\n",
       "      <th></th>\n",
       "      <th></th>\n",
       "      <th></th>\n",
       "      <th></th>\n",
       "      <th></th>\n",
       "      <th></th>\n",
       "      <th></th>\n",
       "      <th></th>\n",
       "      <th></th>\n",
       "      <th></th>\n",
       "      <th></th>\n",
       "      <th></th>\n",
       "      <th></th>\n",
       "      <th></th>\n",
       "      <th></th>\n",
       "      <th></th>\n",
       "    </tr>\n",
       "  </thead>\n",
       "  <tbody>\n",
       "    <tr>\n",
       "      <th rowspan=\"5\" valign=\"top\">200030.0</th>\n",
       "      <th>00:00:00</th>\n",
       "      <td>-0.124539</td>\n",
       "      <td>0.0</td>\n",
       "      <td>0.104422</td>\n",
       "      <td>0.098057</td>\n",
       "      <td>0.025059</td>\n",
       "      <td>0.000000</td>\n",
       "      <td>-0.178747</td>\n",
       "      <td>0.042508</td>\n",
       "      <td>0.154446</td>\n",
       "      <td>0.053689</td>\n",
       "      <td>...</td>\n",
       "      <td>-0.024085</td>\n",
       "      <td>-0.379634</td>\n",
       "      <td>-0.064347</td>\n",
       "      <td>0.126171</td>\n",
       "      <td>0.003972</td>\n",
       "      <td>-0.012811</td>\n",
       "      <td>0.0</td>\n",
       "      <td>0.059001</td>\n",
       "      <td>0.022374</td>\n",
       "      <td>0.161889</td>\n",
       "    </tr>\n",
       "    <tr>\n",
       "      <th>04:00:00</th>\n",
       "      <td>-0.124539</td>\n",
       "      <td>0.0</td>\n",
       "      <td>0.104422</td>\n",
       "      <td>0.098057</td>\n",
       "      <td>0.025059</td>\n",
       "      <td>0.000000</td>\n",
       "      <td>-0.178747</td>\n",
       "      <td>0.032370</td>\n",
       "      <td>0.055192</td>\n",
       "      <td>0.062810</td>\n",
       "      <td>...</td>\n",
       "      <td>-0.024085</td>\n",
       "      <td>-0.379634</td>\n",
       "      <td>-0.064347</td>\n",
       "      <td>-0.050668</td>\n",
       "      <td>0.003972</td>\n",
       "      <td>-0.019318</td>\n",
       "      <td>0.0</td>\n",
       "      <td>0.050986</td>\n",
       "      <td>-0.008226</td>\n",
       "      <td>0.161889</td>\n",
       "    </tr>\n",
       "    <tr>\n",
       "      <th>08:00:00</th>\n",
       "      <td>-0.124539</td>\n",
       "      <td>0.0</td>\n",
       "      <td>0.104422</td>\n",
       "      <td>0.098057</td>\n",
       "      <td>0.025059</td>\n",
       "      <td>0.000000</td>\n",
       "      <td>-0.178747</td>\n",
       "      <td>0.066605</td>\n",
       "      <td>-0.026489</td>\n",
       "      <td>0.094159</td>\n",
       "      <td>...</td>\n",
       "      <td>-0.024085</td>\n",
       "      <td>-0.379634</td>\n",
       "      <td>-0.064347</td>\n",
       "      <td>0.126171</td>\n",
       "      <td>0.003972</td>\n",
       "      <td>-0.019318</td>\n",
       "      <td>0.0</td>\n",
       "      <td>0.042741</td>\n",
       "      <td>-0.004107</td>\n",
       "      <td>0.161889</td>\n",
       "    </tr>\n",
       "    <tr>\n",
       "      <th>12:00:00</th>\n",
       "      <td>-0.153166</td>\n",
       "      <td>0.0</td>\n",
       "      <td>0.081304</td>\n",
       "      <td>0.098057</td>\n",
       "      <td>0.020977</td>\n",
       "      <td>-0.079914</td>\n",
       "      <td>-0.178747</td>\n",
       "      <td>0.037477</td>\n",
       "      <td>0.032544</td>\n",
       "      <td>0.107438</td>\n",
       "      <td>...</td>\n",
       "      <td>-0.024085</td>\n",
       "      <td>-0.466899</td>\n",
       "      <td>-0.064347</td>\n",
       "      <td>0.107309</td>\n",
       "      <td>0.007917</td>\n",
       "      <td>-0.019318</td>\n",
       "      <td>0.0</td>\n",
       "      <td>0.011876</td>\n",
       "      <td>0.008178</td>\n",
       "      <td>0.161889</td>\n",
       "    </tr>\n",
       "    <tr>\n",
       "      <th>16:00:00</th>\n",
       "      <td>-0.153166</td>\n",
       "      <td>0.0</td>\n",
       "      <td>0.081304</td>\n",
       "      <td>0.098057</td>\n",
       "      <td>0.020977</td>\n",
       "      <td>-0.079914</td>\n",
       "      <td>-0.178747</td>\n",
       "      <td>0.061921</td>\n",
       "      <td>-0.076362</td>\n",
       "      <td>0.132424</td>\n",
       "      <td>...</td>\n",
       "      <td>-0.024085</td>\n",
       "      <td>-0.466899</td>\n",
       "      <td>-0.064347</td>\n",
       "      <td>0.194988</td>\n",
       "      <td>0.007917</td>\n",
       "      <td>-0.025893</td>\n",
       "      <td>0.0</td>\n",
       "      <td>0.050986</td>\n",
       "      <td>0.014279</td>\n",
       "      <td>0.161889</td>\n",
       "    </tr>\n",
       "  </tbody>\n",
       "</table>\n",
       "<p>5 rows × 26 columns</p>\n",
       "</div>"
      ],
      "text/plain": [
       "label                bicarbonate  bilirubin       bun   calcium  chloride  \\\n",
       "icustay_id delta                                                            \n",
       "200030.0   00:00:00    -0.124539        0.0  0.104422  0.098057  0.025059   \n",
       "           04:00:00    -0.124539        0.0  0.104422  0.098057  0.025059   \n",
       "           08:00:00    -0.124539        0.0  0.104422  0.098057  0.025059   \n",
       "           12:00:00    -0.153166        0.0  0.081304  0.098057  0.020977   \n",
       "           16:00:00    -0.153166        0.0  0.081304  0.098057  0.020977   \n",
       "\n",
       "label                creatinine  daily_sofa    diasbp   glucose  heartrate  \\\n",
       "icustay_id delta                                                             \n",
       "200030.0   00:00:00    0.000000   -0.178747  0.042508  0.154446   0.053689   \n",
       "           04:00:00    0.000000   -0.178747  0.032370  0.055192   0.062810   \n",
       "           08:00:00    0.000000   -0.178747  0.066605 -0.026489   0.094159   \n",
       "           12:00:00   -0.079914   -0.178747  0.037477  0.032544   0.107438   \n",
       "           16:00:00   -0.079914   -0.178747  0.061921 -0.076362   0.132424   \n",
       "\n",
       "label                ...  platelet  potassium       ptt  resprate    sodium  \\\n",
       "icustay_id delta     ...                                                      \n",
       "200030.0   00:00:00  ... -0.024085  -0.379634 -0.064347  0.126171  0.003972   \n",
       "           04:00:00  ... -0.024085  -0.379634 -0.064347 -0.050668  0.003972   \n",
       "           08:00:00  ... -0.024085  -0.379634 -0.064347  0.126171  0.003972   \n",
       "           12:00:00  ... -0.024085  -0.466899 -0.064347  0.107309  0.007917   \n",
       "           16:00:00  ... -0.024085  -0.466899 -0.064347  0.194988  0.007917   \n",
       "\n",
       "label                    spo2  sum_elix     sysbp  temperature       wbc  \n",
       "icustay_id delta                                                          \n",
       "200030.0   00:00:00 -0.012811       0.0  0.059001     0.022374  0.161889  \n",
       "           04:00:00 -0.019318       0.0  0.050986    -0.008226  0.161889  \n",
       "           08:00:00 -0.019318       0.0  0.042741    -0.004107  0.161889  \n",
       "           12:00:00 -0.019318       0.0  0.011876     0.008178  0.161889  \n",
       "           16:00:00 -0.025893       0.0  0.050986     0.014279  0.161889  \n",
       "\n",
       "[5 rows x 26 columns]"
      ]
     },
     "execution_count": 368,
     "metadata": {},
     "output_type": "execute_result"
    },
    {
     "name": "stdout",
     "output_type": "stream",
     "text": [
      "time: 24.2 ms\n"
     ]
    }
   ],
   "source": [
    "-restacked_ffilled.head()"
   ]
  },
  {
   "cell_type": "code",
   "execution_count": 355,
   "metadata": {},
   "outputs": [
    {
     "name": "stdout",
     "output_type": "stream",
     "text": [
      "time: 11min 34s\n"
     ]
    }
   ],
   "source": [
    "###code graveyard\n",
    "\n",
    "# #test_unstacked.reset_index().groupby('icustay_id').resample(\"4H\").max().fillna(method='ffill')\n",
    "# #test_unstacked.groupby(pd.Grouper(freq='4H', level=1)).max()\n",
    "# #test_unstacked.loc[299914.0,:]#.groupby(['icustay_id',pd.Grouper(pd.Grouper(freq='4H', level=1))])\n",
    "# #test_unstacked.groupby(['icustay_id',pd.Grouper(freq='4H', level=-1)]).resample(\"4H\").max().fillna(method='ffill')#.max()\n",
    "\n",
    "# # def using_reset_index(df):\n",
    "# #     df = df.reset_index(level=[0, 1])\n",
    "# #     return df.groupby(['icustay_id','delta']).resample('4H').max().fillna(method='ffill').max()\n",
    "\n",
    "# #test_unstacked.reset_index(level=[0, 1]).groupby('icustay_id').resample\n",
    "\n",
    "# #test_unstacked.groupby('icustay_id').resample('4H',level=-1).max().fillna(method='ffill').max()\n",
    "\n",
    "# #test_unstacked.groupby('icustay_id').resample('4H',level=-1).apply(maxCol).fillna(method='ffill').apply(maxCol)\n",
    "\n",
    "# ##takes 10 minutes to run, resamples the data in 4 hour blocks and \n",
    "# restacked=test_unstacked.groupby('icustay_id').resample('4H',level=-1).apply(maxCol) #level =-1 : corresponds to the delta multiindex. \n",
    "\n",
    "\n",
    "# #.apply(maxCol)\n",
    "\n",
    "# #using_reset_index(test_unstacked)\n",
    "# #test_unstacked.resample(\"4H\").max().fillna(method='ffill')#.max()"
   ]
  },
  {
   "cell_type": "markdown",
   "metadata": {},
   "source": [
    "## now need to turn into a tensor and get a y label for each icustay_id.\n",
    "* [samples, timesteps, features]: 5316, 26, 19"
   ]
  },
  {
   "cell_type": "code",
   "execution_count": 434,
   "metadata": {},
   "outputs": [
    {
     "name": "stdout",
     "output_type": "stream",
     "text": [
      "time: 20.8 ms\n"
     ]
    }
   ],
   "source": [
    "m,n = len(restacked_ffilled.index.levels[0]), len(restacked_ffilled.index.levels[1])\n",
    "xtrain = restacked_ffilled.values.reshape(m,n,-1).swapaxes(1,2)"
   ]
  },
  {
   "cell_type": "code",
   "execution_count": 441,
   "metadata": {},
   "outputs": [
    {
     "data": {
      "text/plain": [
       "(5316, 19, 26)"
      ]
     },
     "execution_count": 441,
     "metadata": {},
     "output_type": "execute_result"
    },
    {
     "name": "stdout",
     "output_type": "stream",
     "text": [
      "time: 2.31 ms\n"
     ]
    }
   ],
   "source": [
    "xtrain.shape"
   ]
  },
  {
   "cell_type": "code",
   "execution_count": 451,
   "metadata": {},
   "outputs": [
    {
     "name": "stdout",
     "output_type": "stream",
     "text": [
      "time: 247 ms\n"
     ]
    }
   ],
   "source": [
    "np.save(\"rnn/lstm_xtrain\", xtrain, allow_pickle=True, fix_imports=True)\n",
    "np.save(\"rnn/lstm_ytrain\", ytrain, allow_pickle=True, fix_imports=True)"
   ]
  },
  {
   "cell_type": "code",
   "execution_count": null,
   "metadata": {},
   "outputs": [],
   "source": []
  },
  {
   "cell_type": "code",
   "execution_count": null,
   "metadata": {},
   "outputs": [],
   "source": []
  },
  {
   "cell_type": "markdown",
   "metadata": {},
   "source": [
    "# wrapping it all in functions"
   ]
  },
  {
   "cell_type": "code",
   "execution_count": 486,
   "metadata": {},
   "outputs": [
    {
     "name": "stdout",
     "output_type": "stream",
     "text": [
      "time: 79.8 ms\n"
     ]
    }
   ],
   "source": [
    "def prep_for_resample(noCat_df):\n",
    "    #first getting a row with bicarbonate from noCat_df\n",
    "    bicarb=noCat_df.loc[noCat_df['label']=='bicarbonate',:].head(1)\n",
    "\n",
    "    #making a df for each icustay and adding appropriate values for a 3day final timepoint with None values.\n",
    "    df= pd.DataFrame(noCat_df.drop_duplicates('icustay_id'))#.iloc[-1].T)\n",
    "\n",
    "    df['uom']=bicarb['uom'].values[0]\n",
    "    df['label']=bicarb['label'].values[0]\n",
    "    df['value']=None\n",
    "    df['delta']=pd.Timedelta(\"3 days\")\n",
    "    df['source']=bicarb['source'].values[0]\n",
    "    df['median']=bicarb['median'].values[0]\n",
    "    df['iqr']=bicarb['iqr'].values[0]\n",
    "    df['raw_value']=None\n",
    "    df['standardize']=None\n",
    "\n",
    "    # appending this onto nocat dataset with ONLY continuous (removed ordinal)\n",
    "    noCat_df= noCat_df[noCat_df['label'].isin(continuous)].copy()\n",
    "    noCat_df=noCat_df.append(df)\n",
    "    return(noCat_df)\n",
    "\n",
    "def resampler(df2):\n",
    "    maxCol=lambda x: max(x.min(), x.max(), key=abs)\n",
    "    \n",
    "    grouper = df2[['delta','standardize','label','icustay_id']].groupby(['icustay_id',pd.Grouper(key=\"delta\",freq='4H'), 'label'])\n",
    "    test_unstacked=grouper['standardize'].apply(maxCol).unstack(\"label\")\n",
    "\n",
    "    ##takes 10 minutes to run, resamples the data in 4 hour blocks and puts na for values unfilled. every icustay_id now has a row for every 4 hour block. \n",
    "    restacked=test_unstacked.groupby('icustay_id').resample('4H',level=-1).apply(maxCol) #level =-1 : corresponds to the delta multiindex. \n",
    "\n",
    "    restacked_ffilled=restacked.groupby('icustay_id').fillna(method='ffill') #fills in na using feed forward. \n",
    "    ##issue is, if there is no value previously seen, then na still exists. for these na before a value is seen, a 0 is filled in, to represent healthy median value. \n",
    "    restacked_ffilled=restacked_ffilled.fillna(0)# \n",
    "    \n",
    "    return(restacked_ffilled)\n"
   ]
  },
  {
   "cell_type": "code",
   "execution_count": 691,
   "metadata": {},
   "outputs": [
    {
     "name": "stdout",
     "output_type": "stream",
     "text": [
      "time: 148 ms\n"
     ]
    }
   ],
   "source": [
    "def main(test):\n",
    "    if test==True:\n",
    "        df2=prep_for_resample(noCat_df_test)    \n",
    "        restacked_df=resampler(df2)\n",
    "        \n",
    "        m,n = len(restacked_df.index.levels[0]), len(restacked_df.index.levels[1]) #(n_patients, n_timepoints)\n",
    "        x_test = restacked_df.values.reshape(m,n,-1)#restacked_ffilled_df2.values.reshape(m,-1,n)#.swapaxes(1,2)\n",
    "        \n",
    "        #\n",
    "        y_test= pd.merge(pd.DataFrame({'icustay_id':restacked_df.index.levels[0]}), final_pt_df2[['icustay_id','final_bin']])\n",
    "        y_test.loc[y_test['final_bin']=='C_pos/A_full','final_bin']=1\n",
    "        y_test.loc[y_test['final_bin']=='C_neg/A_partial','final_bin']=0\n",
    "        y_test=y_test['final_bin'].values\n",
    "        \n",
    "        return(restacked_df, x_test, y_test)\n",
    "\n",
    "    else:\n",
    "        df2=prep_for_resample(noCat_df_train)    \n",
    "        restacked_df=resampler(df2)\n",
    "        \n",
    "        \n",
    "        train_patients=final_pt_df2.loc[final_pt_df2.loc[:,\"subject_id\"].isin(train_subject),['icustay_id','subject_id','final_bin']]\n",
    "        train_patients['final_bin']=pd.factorize(train_patients['final_bin'])[0]\n",
    "        train_patients_maxsub=train_patients.loc[train_patients.groupby('subject_id')['final_bin'].idxmax(),:]\n",
    "\n",
    "        # 70/30 train/test set split with 12345=seed, splitting on max final bin of each SUBJECT_ID\n",
    "        train_val, val = train_test_split(train_patients_maxsub, test_size=0.2, random_state=12345, \n",
    "                                       stratify=train_patients_maxsub['final_bin'])\n",
    "        # generate list of each SUBJECT_ID in each split\n",
    "        train_val_subject=list(train_val['subject_id'])\n",
    "        val_subject=list(val['subject_id'])\n",
    "\n",
    "        train_val_icu=list(two_class_icu.loc[two_class_icu['subject_id'].isin(train_val_subject),'icustay_id'] )\n",
    "        val_icu=list(two_class_icu.loc[two_class_icu['subject_id'].isin(val_subject),'icustay_id'] )\n",
    "        # # #filtering big_df on train subjects and test subjects to get my train/test splits.\n",
    "        restacked_train= restacked_df[restacked_df.index.get_level_values('icustay_id').isin(train_val_icu)]\n",
    "        restacked_val= restacked_df[restacked_df.index.get_level_values('icustay_id').isin(val_icu)]\n",
    "\n",
    "        ###filtering x\n",
    "        m,n = restacked_train.reset_index()['icustay_id'].nunique(), restacked_train.reset_index()['delta'].nunique() #(n_patients, n_timepoints)\n",
    "        x_train = restacked_train.values.reshape(m,n,-1)#restacked_ffilled_df2.values.reshape(m,-1,n)#.swapaxes(1,2)\n",
    "\n",
    "        m,n = restacked_val.reset_index()['icustay_id'].nunique(), restacked_val.reset_index()['delta'].nunique()\n",
    "        #len(restacked_val.index.levels[0]), len(restacked_val.index.levels[1]) #(n_patients, n_timepoints)\n",
    "        x_val = restacked_val.values.reshape(m,n,-1)#restacked_ffilled_df2.values.reshape(m,-1,n)#.swapaxes(1,2)\n",
    "             \n",
    "        y_train= pd.merge(pd.DataFrame({'icustay_id':list(restacked_train.reset_index()['icustay_id'].unique())}), final_pt_df2[['icustay_id','final_bin']])\n",
    "        y_train.loc[y_train['final_bin']=='C_pos/A_full','final_bin']=1\n",
    "        y_train.loc[y_train['final_bin']=='C_neg/A_partial','final_bin']=0\n",
    "        y_train=y_train['final_bin'].values\n",
    "\n",
    "        y_val= pd.merge(pd.DataFrame({'icustay_id':list(restacked_val.reset_index()['icustay_id'].unique())}), final_pt_df2[['icustay_id','final_bin']])\n",
    "        y_val.loc[y_val['final_bin']=='C_pos/A_full','final_bin']=1\n",
    "        y_val.loc[y_val['final_bin']=='C_neg/A_partial','final_bin']=0\n",
    "        y_val=y_val['final_bin'].values\n",
    "\n",
    "        return(restacked_df, x_train, x_val, y_train, y_val )"
   ]
  },
  {
   "cell_type": "code",
   "execution_count": 548,
   "metadata": {},
   "outputs": [
    {
     "name": "stdout",
     "output_type": "stream",
     "text": [
      "time: 19min 31s\n"
     ]
    }
   ],
   "source": [
    "restacked_df, xtrain_1, ytrain_1= main(test=False)"
   ]
  },
  {
   "cell_type": "code",
   "execution_count": null,
   "metadata": {},
   "outputs": [],
   "source": []
  },
  {
   "cell_type": "markdown",
   "metadata": {},
   "source": [
    "# qc and inline code running"
   ]
  },
  {
   "cell_type": "code",
   "execution_count": 681,
   "metadata": {},
   "outputs": [
    {
     "name": "stdout",
     "output_type": "stream",
     "text": [
      "time: 920 ms\n"
     ]
    }
   ],
   "source": [
    "\n",
    "# train_patients=final_pt_df2.loc[final_pt_df2.loc[:,\"subject_id\"].isin(train_subject),['icustay_id','subject_id','final_bin']]\n",
    "# train_patients['final_bin']=pd.factorize(train_patients['final_bin'])[0]\n",
    "# train_patients_maxsub=train_patients.loc[train_patients.groupby('subject_id')['final_bin'].idxmax(),:]\n",
    "\n",
    "# # 70/30 train/test set split with 12345=seed, splitting on max final bin of each SUBJECT_ID\n",
    "# train_val, val = train_test_split(train_patients_maxsub, test_size=0.2, random_state=12345, \n",
    "#                                stratify=train_patients_maxsub['final_bin'])\n",
    "# # generate list of each SUBJECT_ID in each split\n",
    "# train_val_subject=list(train_val['subject_id'])\n",
    "# val_subject=list(val['subject_id'])\n",
    "\n",
    "# train_val_icu=list(two_class_icu.loc[two_class_icu['subject_id'].isin(train_val_subject),'icustay_id'] )\n",
    "# val_icu=list(two_class_icu.loc[two_class_icu['subject_id'].isin(val_subject),'icustay_id'] )\n",
    "# # # #filtering big_df on train subjects and test subjects to get my train/test splits.\n",
    "# restacked_train= restacked_df[restacked_df.index.get_level_values('icustay_id').isin(train_val_icu)]\n",
    "# restacked_val= restacked_df[restacked_df.index.get_level_values('icustay_id').isin(val_icu)]\n",
    "# # restacked_train= restacked_df.loc[train_val_icu,:].copy()#restacked_df.loc[restacked_df.loc[:,'icustay_id'].isin(train_val_icu),:].copy()\n",
    "# # restacked_val= restacked_df.loc[val_icu,:].copy()#restacked_df.loc[restacked_df.loc[:,'icustay_id'].isin(val_icu),:].copy()\n"
   ]
  },
  {
   "cell_type": "code",
   "execution_count": 587,
   "metadata": {},
   "outputs": [
    {
     "name": "stdout",
     "output_type": "stream",
     "text": [
      "7588 6824\n",
      "time: 7.91 ms\n"
     ]
    }
   ],
   "source": [
    "print(two_class_icu['icustay_id'].nunique(), two_class_icu['subject_id'].nunique()) #7588 icustay\n",
    "print(5316+2272, 4776+2048)"
   ]
  },
  {
   "cell_type": "code",
   "execution_count": 608,
   "metadata": {},
   "outputs": [
    {
     "data": {
      "text/plain": [
       "2272"
      ]
     },
     "execution_count": 608,
     "metadata": {},
     "output_type": "execute_result"
    },
    {
     "name": "stdout",
     "output_type": "stream",
     "text": [
      "time: 5.03 ms\n"
     ]
    }
   ],
   "source": [
    "# two_class_icu.loc[two_class_icu['subject_id'].isin(train_subject),'subject_id'].nunique()  #4776 subject_id\n",
    "# two_class_icu.loc[two_class_icu['subject_id'].isin(test_subject),'subject_id'].nunique() #2048 subject_id\n",
    "# two_class_icu.loc[two_class_icu['subject_id'].isin(train_subject),'icustay_id'].nunique() #5316 icustay_ids\n",
    "# two_class_icu.loc[two_class_icu['subject_id'].isin(test_subject),'icustay_id'].nunique() #2272 icustay_ids\n",
    "\n",
    "len(train_val_icu) + len(val_icu) #4776= 956 + 3820\n",
    "#5316= 4263+1053"
   ]
  },
  {
   "cell_type": "code",
   "execution_count": 678,
   "metadata": {},
   "outputs": [
    {
     "name": "stdout",
     "output_type": "stream",
     "text": [
      "5316 5316\n",
      "time: 2.65 ms\n"
     ]
    }
   ],
   "source": [
    "# print(len(list(output_df.index.levels[0])), len(set(output_df.index.levels[0])))\n",
    "# restacked_train.reset_index()['delta'].nunique()"
   ]
  },
  {
   "cell_type": "code",
   "execution_count": 697,
   "metadata": {},
   "outputs": [
    {
     "name": "stdout",
     "output_type": "stream",
     "text": [
      "time: 105 ms\n"
     ]
    }
   ],
   "source": [
    "m,n = restacked_train.reset_index()['icustay_id'].nunique(), restacked_train.reset_index()['delta'].nunique() #(n_patients, n_timepoints)\n",
    "xtrain_2 = restacked_train.values.reshape(m,n,-1)#restacked_ffilled_df2.values.reshape(m,-1,n)#.swapaxes(1,2)\n",
    "\n",
    "m,n = restacked_val.reset_index()['icustay_id'].nunique(), restacked_val.reset_index()['delta'].nunique()\n",
    "#len(restacked_val.index.levels[0]), len(restacked_val.index.levels[1]) #(n_patients, n_timepoints)\n",
    "xval_2 = restacked_val.values.reshape(m,n,-1)#restacked_ffilled_df2.values.reshape(m,-1,n)#.swapaxes(1,2)\n",
    "\n",
    "y_train= pd.merge(pd.DataFrame({'icustay_id':list(restacked_train.reset_index()['icustay_id'].unique())}), final_pt_df2[['icustay_id','final_bin']])\n",
    "y_train.loc[y_train['final_bin']=='C_pos/A_full','final_bin']=1\n",
    "y_train.loc[y_train['final_bin']=='C_neg/A_partial','final_bin']=0\n",
    "y_train=y_train['final_bin'].values\n",
    "\n",
    "y_val= pd.merge(pd.DataFrame({'icustay_id':list(restacked_val.reset_index()['icustay_id'].unique())}), final_pt_df2[['icustay_id','final_bin']])\n",
    "y_val.loc[y_val['final_bin']=='C_pos/A_full','final_bin']=1\n",
    "y_val.loc[y_val['final_bin']=='C_neg/A_partial','final_bin']=0\n",
    "y_val=y_val['final_bin'].values"
   ]
  },
  {
   "cell_type": "code",
   "execution_count": 699,
   "metadata": {},
   "outputs": [
    {
     "name": "stdout",
     "output_type": "stream",
     "text": [
      "time: 216 ms\n"
     ]
    }
   ],
   "source": [
    "np.save(\"rnn/lstm_xtrain\", xtrain_2, allow_pickle=True, fix_imports=True)\n",
    "np.save(\"rnn/lstm_xval\", xval_2, allow_pickle=True, fix_imports=True)\n",
    "np.save(\"rnn/lstm_ytrain\", y_train, allow_pickle=True, fix_imports=True)\n",
    "np.save(\"rnn/lstm_yval\", y_val, allow_pickle=True, fix_imports=True)"
   ]
  },
  {
   "cell_type": "code",
   "execution_count": 698,
   "metadata": {},
   "outputs": [
    {
     "data": {
      "text/plain": [
       "(1053,)"
      ]
     },
     "execution_count": 698,
     "metadata": {},
     "output_type": "execute_result"
    },
    {
     "name": "stdout",
     "output_type": "stream",
     "text": [
      "time: 2.33 ms\n"
     ]
    }
   ],
   "source": [
    "y_val.shape"
   ]
  },
  {
   "cell_type": "code",
   "execution_count": null,
   "metadata": {},
   "outputs": [],
   "source": []
  },
  {
   "cell_type": "code",
   "execution_count": null,
   "metadata": {},
   "outputs": [],
   "source": []
  },
  {
   "cell_type": "code",
   "execution_count": null,
   "metadata": {},
   "outputs": [],
   "source": []
  },
  {
   "cell_type": "code",
   "execution_count": 693,
   "metadata": {},
   "outputs": [
    {
     "name": "stdout",
     "output_type": "stream",
     "text": [
      "time: 115 ms\n"
     ]
    }
   ],
   "source": [
    "np.save(\"rnn/lstm_xtest\", xtest3, allow_pickle=True, fix_imports=True)\n",
    "np.save(\"rnn/lstm_ytest\", ytest, allow_pickle=True, fix_imports=True)"
   ]
  },
  {
   "cell_type": "markdown",
   "metadata": {},
   "source": [
    "# visualizing data"
   ]
  },
  {
   "cell_type": "code",
   "execution_count": 432,
   "metadata": {},
   "outputs": [
    {
     "name": "stdout",
     "output_type": "stream",
     "text": [
      "time: 30.6 ms\n"
     ]
    }
   ],
   "source": [
    "#\n",
    "y= pd.merge(pd.DataFrame({'icustay_id':restacked_ffilled.index.levels[0]}), final_pt_df2[['icustay_id','final_bin']])\n",
    "y.loc[y['final_bin']=='C_pos/A_full','final_bin']=1\n",
    "y.loc[y['final_bin']=='C_neg/A_partial','final_bin']=0\n",
    "ytrain=y['final_bin'].values"
   ]
  },
  {
   "cell_type": "code",
   "execution_count": 442,
   "metadata": {},
   "outputs": [
    {
     "data": {
      "text/plain": [
       "array([1, 1, 0, ..., 0, 0, 0])"
      ]
     },
     "execution_count": 442,
     "metadata": {},
     "output_type": "execute_result"
    },
    {
     "name": "stdout",
     "output_type": "stream",
     "text": [
      "time: 2.37 ms\n"
     ]
    }
   ],
   "source": [
    "ytrain"
   ]
  },
  {
   "cell_type": "code",
   "execution_count": 509,
   "metadata": {},
   "outputs": [
    {
     "data": {
      "text/plain": [
       "array([[-0.12453879,  0.12617054, -0.13453711,  0.        , -0.00410686,\n",
       "        -0.46689873, -0.00751194,  0.09805734,  0.        ,  0.041418  ,\n",
       "         0.08569438,  0.        ,  0.00397233,  0.09321451, -0.86135312,\n",
       "         0.12694097, -0.02209938,  0.36437575,  0.02097697,  0.12417641,\n",
       "        -0.03534366,  0.09686011,  0.01504994, -0.01281148,  0.        ,\n",
       "         0.04250832],\n",
       "       [ 0.        ,  0.00397233,  0.04373675, -0.17874692,  0.16188904,\n",
       "        -0.06434723,  0.47654051,  0.02097697,  0.03852902, -0.01111602,\n",
       "         0.12017877,  0.04319947, -0.00637272,  0.        ,  0.07122597,\n",
       "        -0.15316612,  0.22602397, -0.13453711, -0.16415031,  0.01833268,\n",
       "         0.0667261 , -0.12911281,  0.09805734,  0.        ,  0.01382243,\n",
       "        -0.14576871],\n",
       "       [ 0.10442218, -0.01281148,  0.        ,  0.06660518, -0.15316612,\n",
       "         0.10730936,  0.08162366, -0.07991428,  0.04041767, -0.2174826 ,\n",
       "        -0.08658716,  0.09805734,  0.        ,  0.041418  ,  0.1625896 ,\n",
       "         0.        ,  0.00397233,  0.08999308,  0.13864688,  0.11225234,\n",
       "        -0.02209938,  0.36437575,  0.02097697,  0.08542207, -0.03534366,\n",
       "         0.02462268],\n",
       "       [ 0.09805734,  0.        ,  0.02762842, -0.02648943,  0.        ,\n",
       "         0.0079166 ,  0.05592228, -0.17874692,  0.16188904, -0.02209938,\n",
       "         0.36437575,  0.02505878,  0.09430089, -0.01111602,  0.0831174 ,\n",
       "         0.04319947, -0.00637272,  0.        ,  0.19005854, -0.18334161,\n",
       "         0.24082201, -0.13453711, -0.16415031,  0.02439045,  0.0667261 ,\n",
       "        -0.12911281],\n",
       "       [ 0.02505878,  0.05900136, -0.02408479,  0.09415916,  0.0813041 ,\n",
       "        -0.01931767,  0.        ,  0.06192064, -0.15316612,  0.22602397,\n",
       "        -0.13453711, -0.07991428, -0.04585188, -0.2174826 , -0.08658716,\n",
       "         0.09805734,  0.        , -0.01383892,  0.17717169,  0.        ,\n",
       "        -0.00400081,  0.09640481,  0.13864688,  0.11225234, -0.06052662,\n",
       "         0.36437575],\n",
       "       [ 0.        ,  0.02237411, -0.37963357, -0.00751194,  0.09805734,\n",
       "         0.        ,  0.02762842,  0.06129929,  0.        ,  0.00397233,\n",
       "         0.04497562, -0.86135312,  0.12694097, -0.02209938,  0.36437575,\n",
       "         0.02505878,  0.05701827, -0.03534366,  0.07744773,  0.01504994,\n",
       "        -0.00637272,  0.        ,  0.09343148, -0.18334161,  0.1949875 ,\n",
       "        -0.28706271],\n",
       "       [-0.17874692,  0.16188904, -0.06434723,  0.47654051,  0.02097697,\n",
       "         0.01187571, -0.02408479,  0.13242382,  0.04319947, -0.01931767,\n",
       "         0.        ,  0.13391067, -0.15316612,  0.1949875 , -0.13453711,\n",
       "        -0.07991428,  0.03042224,  0.0667261 , -0.12911281,  0.09805734,\n",
       "         0.        , -0.01383892, -0.08438447,  2.16768136, -0.00400081,\n",
       "         0.04866498],\n",
       "       [ 0.04250832, -0.12453879, -0.0506677 ,  0.26331455, -0.07991428,\n",
       "         0.00817756, -0.46689873, -0.00751194,  0.09805734,  0.        ,\n",
       "         0.041418  ,  0.04412698,  0.        ,  0.00397233,  0.13246175,\n",
       "        -0.86135312,  0.12694097, -0.02209938,  0.36437575,  0.02097697,\n",
       "         0.07439376, -0.03534366,  0.10219342,  0.01504994, -0.03253806,\n",
       "         0.        ],\n",
       "       [ 0.15444605,  0.        ,  0.00397233,  0.04866498, -0.17874692,\n",
       "         0.16188904, -0.06434723,  0.47654051,  0.02505878,  0.04064286,\n",
       "        -0.01111602,  0.09953806,  0.04319947, -0.01281148,  0.        ,\n",
       "         0.08910501, -0.18334161,  0.1786843 , -0.13453711, -0.16415031,\n",
       "         0.0122484 ,  0.0667261 , -0.12911281,  0.94162332,  0.        ,\n",
       "         0.01382243],\n",
       "       [ 0.05368868,  0.10442218, -0.01931767,  0.        ,  0.03747677,\n",
       "        -0.15316612,  0.1949875 ,  0.08162366, -0.07991428,  0.04399857,\n",
       "        -0.2174826 , -0.08658716,  0.09805734,  0.        ,  0.041418  ,\n",
       "         0.1625896 ,  0.        , -0.00400081,  0.19455544,  0.13864688,\n",
       "         0.11225234, -0.02209938,  0.36437575,  0.02097697,  0.07626133,\n",
       "        -0.03534366],\n",
       "       [-0.00751194,  0.09805734,  0.        ,  0.02762842,  0.03254383,\n",
       "         0.        ,  0.0079166 ,  0.05231357, -0.86135312,  0.12694097,\n",
       "        -0.02209938,  0.36437575,  0.02505878,  0.06680019, -0.01111602,\n",
       "         0.09143484,  0.01504994, -0.01931767,  0.        ,  0.1019225 ,\n",
       "        -0.18334161,  0.16180894, -0.13453711, -0.16415031, -0.02900397,\n",
       "         0.0667261 ],\n",
       "       [ 0.47654051,  0.02505878,  0.05098587, -0.02408479,  0.10743784,\n",
       "         0.0813041 , -0.0258927 ,  0.        ,  0.07578474, -0.15316612,\n",
       "         0.1786843 , -0.13453711, -0.07991428, -0.01650001, -0.2174826 ,\n",
       "        -0.08658716,  0.09805734,  0.        , -0.01383892,  0.17717169,\n",
       "         0.        , -0.00400081,  0.31561286,  0.13864688,  0.11225234,\n",
       "        -0.06052662],\n",
       "       [ 0.04154077,  0.        , -0.00822567, -0.37963357, -0.00751194,\n",
       "         0.09805734,  0.        ,  0.02762842, -0.06354369,  0.        ,\n",
       "         0.00397233,  0.12380989, -0.86135312,  0.12694097, -0.02209938,\n",
       "         0.36437575,  0.02097697,  0.06680019, -0.03534366,  0.08868671,\n",
       "         0.01504994, -0.01931767,  0.        ,  0.1019225 , -0.18334161,\n",
       "         0.10730936],\n",
       "       [ 0.04497562, -0.17874692,  0.16188904, -0.06434723,  0.47654051,\n",
       "         0.02097697,  0.05098587, -0.02408479,  0.11259629,  0.04319947,\n",
       "        -0.01281148,  0.        ,  0.10608971, -0.15316612,  0.16180894,\n",
       "        -0.13453711, -0.16415031,  0.04041764,  0.0667261 , -0.12911281,\n",
       "         0.09805734,  0.        , -0.01383892, -0.14576871,  2.16768136,\n",
       "        -0.00400081],\n",
       "       [ 0.        ,  0.03236956, -0.12453879,  0.12617054,  0.        ,\n",
       "        -0.07991428,  0.01427939, -0.46689873, -0.08658716,  0.09805734,\n",
       "         0.        ,  0.041418  ,  0.04412698,  0.        ,  0.00397233,\n",
       "         0.08013582,  0.13864688,  0.11225234, -0.02209938,  0.36437575,\n",
       "         0.02097697,  0.08542207, -0.03534366,  0.07167403,  0.01504994,\n",
       "         0.        ],\n",
       "       [ 0.02762842,  0.05519187,  0.        ,  0.00397233,  0.02588396,\n",
       "        -0.17874692,  0.16188904, -0.06434723,  0.36437575,  0.02505878,\n",
       "         0.03209293, -0.01111602,  0.10219342,  0.04319947, -0.00637272,\n",
       "         0.        ,  0.09770353, -0.18334161,  0.10730936, -0.13453711,\n",
       "        -0.16415031,  0.02035486,  0.0667261 , -0.12911281,  0.94162332,\n",
       "         0.        ],\n",
       "       [-0.02408479,  0.06280984,  0.10442218, -0.01931767,  0.        ,\n",
       "         0.06192064, -0.15316612,  0.25517825, -0.13453711, -0.07991428,\n",
       "         0.02237411, -0.2174826 , -0.08658716,  0.09805734,  0.        ,\n",
       "         0.041418  ,  0.17717169,  0.        , -0.00400081,  0.09956459,\n",
       "         0.13864688,  0.11225234, -0.06052662,  0.36437575,  0.02097697,\n",
       "         0.03425429],\n",
       "       [-0.37963357, -0.00751194,  0.09805734,  0.        ,  0.02762842,\n",
       "        -0.076362  ,  0.        ,  0.0079166 ,  0.05949198, -0.86135312,\n",
       "         0.12694097, -0.02209938,  0.36437575,  0.02505878,  0.03209293,\n",
       "        -0.01111602,  0.09143484,  0.01504994, -0.0258927 ,  0.        ,\n",
       "         0.09770353, -0.18334161,  0.21075607, -0.28706271, -0.16415031,\n",
       "        -0.02900397],\n",
       "       [-0.06434723,  0.47654051,  0.02505878,  0.04274134, -0.02408479,\n",
       "         0.13242382,  0.0813041 , -0.01931767,  0.        ,  0.06192064,\n",
       "        -0.15316612,  0.1786843 , -0.13453711, -0.07991428,  0.03842432,\n",
       "        -0.2174826 , -0.12911281,  0.09805734,  0.        , -0.01383892,\n",
       "         0.18552536,  0.        , -0.00400081,  0.09956459,  0.25192964,\n",
       "         0.11225234]])"
      ]
     },
     "execution_count": 509,
     "metadata": {},
     "output_type": "execute_result"
    },
    {
     "name": "stdout",
     "output_type": "stream",
     "text": [
      "time: 14.6 ms\n"
     ]
    }
   ],
   "source": [
    "xtrain[0]"
   ]
  },
  {
   "cell_type": "code",
   "execution_count": 508,
   "metadata": {},
   "outputs": [
    {
     "data": {
      "text/plain": [
       "array([-0.12453879,  0.12617054, -0.13453711,  0.        , -0.00410686,\n",
       "       -0.46689873, -0.00751194,  0.09805734,  0.        ,  0.041418  ,\n",
       "        0.08569438,  0.        ,  0.00397233,  0.09321451, -0.86135312,\n",
       "        0.12694097, -0.02209938,  0.36437575,  0.02097697,  0.12417641,\n",
       "       -0.03534366,  0.09686011,  0.01504994, -0.01281148,  0.        ,\n",
       "        0.04250832])"
      ]
     },
     "execution_count": 508,
     "metadata": {},
     "output_type": "execute_result"
    },
    {
     "name": "stdout",
     "output_type": "stream",
     "text": [
      "time: 5.88 ms\n"
     ]
    }
   ],
   "source": [
    "xtrain[0,0,:]"
   ]
  },
  {
   "cell_type": "code",
   "execution_count": 440,
   "metadata": {},
   "outputs": [
    {
     "data": {
      "text/plain": [
       "array([-0.12453879,  0.        ,  0.10442218,  0.09805734,  0.02505878,\n",
       "        0.        , -0.17874692,  0.04250832,  0.15444605,  0.05368868,\n",
       "       -0.00751194,  0.47654051,  0.04154077,  0.04497562,  0.        ,\n",
       "        0.02762842, -0.02408479, -0.37963357, -0.06434723])"
      ]
     },
     "execution_count": 440,
     "metadata": {},
     "output_type": "execute_result"
    },
    {
     "name": "stdout",
     "output_type": "stream",
     "text": [
      "time: 2.84 ms\n"
     ]
    }
   ],
   "source": [
    "xtrain[0, :,0] #timestep 0 for first patient: "
   ]
  },
  {
   "cell_type": "code",
   "execution_count": 541,
   "metadata": {},
   "outputs": [
    {
     "data": {
      "image/png": "[encoded data removed]",
      "text/plain": [
       "<Figure size 1080x720 with 1 Axes>"
      ]
     },
     "metadata": {},
     "output_type": "display_data"
    },
    {
     "name": "stdout",
     "output_type": "stream",
     "text": [
      "time: 277 ms\n"
     ]
    }
   ],
   "source": [
    "xtrain[0, :,0] #timestep 0 for first patient: \n",
    "# print(i)\n",
    "# print(Y_test[i])\n",
    "plt.imshow(xtest3[1])\n",
    "#plt.imshow(arr[1])\n",
    "plt.show()"
   ]
  },
  {
   "cell_type": "code",
   "execution_count": 403,
   "metadata": {},
   "outputs": [
    {
     "data": {
      "image/png": "[encoded data removed]",
      "text/plain": [
       "<Figure size 1080x720 with 1 Axes>"
      ]
     },
     "metadata": {},
     "output_type": "display_data"
    },
    {
     "name": "stdout",
     "output_type": "stream",
     "text": [
      "time: 192 ms\n"
     ]
    }
   ],
   "source": [
    "plt.imshow(arr[2])\n",
    "plt.show()"
   ]
  },
  {
   "cell_type": "code",
   "execution_count": 401,
   "metadata": {},
   "outputs": [
    {
     "data": {
      "text/plain": [
       "(26, 19)"
      ]
     },
     "execution_count": 401,
     "metadata": {},
     "output_type": "execute_result"
    },
    {
     "name": "stdout",
     "output_type": "stream",
     "text": [
      "time: 2.33 ms\n"
     ]
    }
   ],
   "source": [
    "arr[1].shape"
   ]
  },
  {
   "cell_type": "code",
   "execution_count": null,
   "metadata": {},
   "outputs": [],
   "source": []
  },
  {
   "cell_type": "code",
   "execution_count": 264,
   "metadata": {},
   "outputs": [
    {
     "data": {
      "text/plain": [
       "2013960"
      ]
     },
     "execution_count": 264,
     "metadata": {},
     "output_type": "execute_result"
    },
    {
     "name": "stdout",
     "output_type": "stream",
     "text": [
      "time: 2.54 ms\n"
     ]
    }
   ],
   "source": [
    "# #test_unstacked.fillna(value=0).count()#.count()#.sum()\n",
    "# test_unstacked.shape[0]*test_unstacked.shape[1]"
   ]
  },
  {
   "cell_type": "code",
   "execution_count": 279,
   "metadata": {},
   "outputs": [
    {
     "data": {
      "text/plain": [
       "2162"
      ]
     },
     "execution_count": 279,
     "metadata": {},
     "output_type": "execute_result"
    },
    {
     "name": "stdout",
     "output_type": "stream",
     "text": [
      "time: 16.6 ms\n"
     ]
    }
   ],
   "source": [
    "#noCat_df_train2['delta'].nunique()"
   ]
  },
  {
   "cell_type": "code",
   "execution_count": 276,
   "metadata": {},
   "outputs": [
    {
     "data": {
      "text/plain": [
       "14.571106094808126"
      ]
     },
     "execution_count": 276,
     "metadata": {},
     "output_type": "execute_result"
    },
    {
     "name": "stdout",
     "output_type": "stream",
     "text": [
      "time: 19.9 ms\n"
     ]
    }
   ],
   "source": [
    "#test_unstacked.shape[0]/noCat_df_train2['icustay_id'].nunique()"
   ]
  },
  {
   "cell_type": "code",
   "execution_count": 265,
   "metadata": {},
   "outputs": [
    {
     "data": {
      "text/plain": [
       "1231122"
      ]
     },
     "execution_count": 265,
     "metadata": {},
     "output_type": "execute_result"
    },
    {
     "name": "stdout",
     "output_type": "stream",
     "text": [
      "time: 28 ms\n"
     ]
    }
   ],
   "source": [
    "#test_unstacked.isna().sum().sum()"
   ]
  },
  {
   "cell_type": "code",
   "execution_count": 266,
   "metadata": {},
   "outputs": [
    {
     "data": {
      "text/plain": [
       "0.6112941667163201"
      ]
     },
     "execution_count": 266,
     "metadata": {},
     "output_type": "execute_result"
    },
    {
     "name": "stdout",
     "output_type": "stream",
     "text": [
      "time: 2.15 ms\n"
     ]
    }
   ],
   "source": [
    "#1231122/2013960"
   ]
  },
  {
   "cell_type": "markdown",
   "metadata": {},
   "source": [
    "### need to find the best resampling timepoint:\n",
    "* get the % null values over a few resampling periods. "
   ]
  },
  {
   "cell_type": "code",
   "execution_count": 186,
   "metadata": {},
   "outputs": [
    {
     "data": {
      "text/plain": [
       "879582"
      ]
     },
     "execution_count": 186,
     "metadata": {},
     "output_type": "execute_result"
    },
    {
     "name": "stdout",
     "output_type": "stream",
     "text": [
      "time: 1min 30s\n"
     ]
    }
   ],
   "source": [
    "len(grouper['value'].max())"
   ]
  },
  {
   "cell_type": "code",
   "execution_count": 232,
   "metadata": {},
   "outputs": [
    {
     "data": {
      "text/plain": [
       "icustay_id  delta            label          \n",
       "200030.0    0 days 00:00:00  any_vasoactives         1.0\n",
       "                             bands                absent\n",
       "                             bicarbonate         2.99573\n",
       "                             bun                  3.3673\n",
       "                             calcium            0.765468\n",
       "                             cancer_elix             0.0\n",
       "                             chloride             4.7185\n",
       "                             creatinine         0.693147\n",
       "                             daily_sofa          1.09861\n",
       "                             diasbp              4.21951\n",
       "                             dobutamine              1.0\n",
       "                             dopamine                0.0\n",
       "                             epinephrine             0.0\n",
       "                             glucose             5.47646\n",
       "                             heartrate           4.62497\n",
       "                             hemoglobin          2.40695\n",
       "                             inr                0.993252\n",
       "                             lactate             1.02962\n",
       "                             meanartpress        4.48864\n",
       "                             norepinephrine          0.0\n",
       "                             o2_flow                 1.0\n",
       "                             ph                  2.12942\n",
       "                             phenylephrine           0.0\n",
       "                             platelet            5.12396\n",
       "                             potassium           1.38629\n",
       "                             ptt                 3.34286\n",
       "                             resprate             3.2581\n",
       "                             rrt                     0.0\n",
       "                             sodium              4.94876\n",
       "                             spo2                4.59512\n",
       "                                                  ...   \n",
       "299955.0    1 days 04:00:00  meanartpress        4.13783\n",
       "                             resprate            3.09104\n",
       "                             spo2                4.60517\n",
       "                             sysbp               4.49981\n",
       "                             temperature         3.62582\n",
       "            1 days 08:00:00  diasbp              4.14313\n",
       "                             heartrate            4.5326\n",
       "                             meanartpress        4.28128\n",
       "                             resprate             3.2581\n",
       "                             spo2                4.60517\n",
       "                             sysbp               4.51086\n",
       "                             temperature         3.62878\n",
       "            1 days 12:00:00  diasbp              3.80666\n",
       "                             heartrate           4.57471\n",
       "                             meanartpress        4.12713\n",
       "                             resprate            3.04452\n",
       "                             sysbp               4.56435\n",
       "            2 days 08:00:00  bicarbonate         3.13549\n",
       "                             bun                  3.3673\n",
       "                             chloride            4.69135\n",
       "                             creatinine          1.77495\n",
       "                             glucose             4.77912\n",
       "                             hemoglobin          2.41591\n",
       "                             inr                0.875469\n",
       "                             platelet            5.48894\n",
       "                             potassium           1.54756\n",
       "                             ptt                 3.55249\n",
       "                             sodium              4.96981\n",
       "                             wbc                 2.33214\n",
       "            3 days 00:00:00  bicarbonate             NaN\n",
       "Name: value, Length: 879583, dtype: object"
      ]
     },
     "execution_count": 232,
     "metadata": {},
     "output_type": "execute_result"
    },
    {
     "name": "stdout",
     "output_type": "stream",
     "text": [
      "time: 1min 45s\n"
     ]
    }
   ],
   "source": [
    "grouper['value'].max()#.isna().sum()"
   ]
  },
  {
   "cell_type": "code",
   "execution_count": 230,
   "metadata": {},
   "outputs": [
    {
     "name": "stdout",
     "output_type": "stream",
     "text": [
      "time: 5.21 ms\n"
     ]
    }
   ],
   "source": [
    "# def percent_na(grouper):\n",
    "#     grouped_max=grouper['value'].max()\n",
    "#     sum_na=grouped_max.isna().sum()\n",
    "#     total_val=grouped_max.count()\n",
    "#     print(\"sumna:{}, total_values:{}, percent:{}\".format(sum_na, total_val, 100*(sum_na/total_val)))\n"
   ]
  },
  {
   "cell_type": "code",
   "execution_count": 231,
   "metadata": {},
   "outputs": [
    {
     "name": "stdout",
     "output_type": "stream",
     "text": [
      "sumna:5312, total_values:874271, percent:0.6075919251582175\n",
      "time: 1min 49s\n"
     ]
    }
   ],
   "source": [
    "# percent_na(grouper)"
   ]
  },
  {
   "cell_type": "code",
   "execution_count": null,
   "metadata": {},
   "outputs": [],
   "source": []
  },
  {
   "cell_type": "code",
   "execution_count": null,
   "metadata": {},
   "outputs": [],
   "source": []
  },
  {
   "cell_type": "code",
   "execution_count": null,
   "metadata": {},
   "outputs": [],
   "source": []
  },
  {
   "cell_type": "code",
   "execution_count": null,
   "metadata": {},
   "outputs": [],
   "source": []
  },
  {
   "cell_type": "code",
   "execution_count": null,
   "metadata": {},
   "outputs": [],
   "source": []
  }
 ],
 "metadata": {
  "kernelspec": {
   "display_name": "Python 3",
   "language": "python",
   "name": "python3"
  },
  "language_info": {
   "codemirror_mode": {
    "name": "ipython",
    "version": 3
   },
   "file_extension": ".py",
   "mimetype": "text/x-python",
   "name": "python",
   "nbconvert_exporter": "python",
   "pygments_lexer": "ipython3",
   "version": "3.6.8"
  }
 },
 "nbformat": 4,
 "nbformat_minor": 4
}
