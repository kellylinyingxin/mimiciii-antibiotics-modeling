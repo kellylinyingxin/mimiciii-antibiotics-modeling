{
 "cells": [
  {
   "cell_type": "code",
   "execution_count": 1,
   "metadata": {},
   "outputs": [],
   "source": [
    "import pandas as pd\n",
    "import matplotlib.pyplot as plt\n",
    "import os\n",
    "\n",
    "from sklearn.externals.joblib import Memory\n",
    "memory = Memory(cachedir='/tmp', verbose=0)\n",
    "#@memory.cache above any def fxn.\n",
    "\n",
    "%matplotlib inline\n",
    "plt.style.use('ggplot')\n",
    "\n",
    "from notebook.services.config import ConfigManager\n",
    "cm = ConfigManager()\n",
    "cm.update('livereveal', {\n",
    "        'width': 1024,\n",
    "        'height': 768,\n",
    "        'scroll': True,\n",
    "})\n",
    "\n",
    "%load_ext autotime\n",
    "%reload_ext autotime"
   ]
  },
  {
   "cell_type": "code",
   "execution_count": 2,
   "metadata": {},
   "outputs": [
    {
     "name": "stdout",
     "output_type": "stream",
     "text": [
      "time: 106 ms\n"
     ]
    }
   ],
   "source": [
    "#cohort import\n",
    "\n",
    "os.chdir('/Users/geickelb1/Documents/GitHub/mimiciii-antibiotics-modeling') #use to change working directory\n",
    "wd= os.getcwd() #'/Users/geickelb1/Documents/GitHub/mimiciii-antibiotics-modeling'\n",
    "\n",
    "final_pt_df2 = pd.read_csv(wd + '/data/raw/csv/16082018_final_pt_df2.csv' , index_col=0)\n",
    "patients= list(final_pt_df2['subject_id'].unique())\n",
    "hadm_id= list(final_pt_df2['hadm_id'].unique())\n",
    "icustay_id= list(final_pt_df2['icustay_id'].unique())\n",
    "icustay_id= [int(x) for x in icustay_id]"
   ]
  },
  {
   "cell_type": "code",
   "execution_count": 3,
   "metadata": {},
   "outputs": [
    {
     "name": "stderr",
     "output_type": "stream",
     "text": [
      "/Users/geickelb1/anaconda/envs/rpy-env/lib/python3.6/site-packages/numpy/lib/arraysetops.py:472: FutureWarning: elementwise comparison failed; returning scalar instead, but in the future will perform elementwise comparison\n",
      "  mask |= (ar1 == a)\n"
     ]
    },
    {
     "name": "stdout",
     "output_type": "stream",
     "text": [
      "time: 13.4 s\n"
     ]
    }
   ],
   "source": [
    "#reading in all of my data that is not limited to 72 hour time window between t_0 and t+72\n",
    "date= '27082018' \n",
    "\n",
    "vaso_dose_72=pd.read_csv(\n",
    "    wd+'/data/raw/csv/72_hr_window/%s_vaso_dose_72.csv' %(date), index_col=0)\n",
    "#ventsettings_72=pd.read_csv(\n",
    "#    wd+'/data/raw/csv/72_hr_window/%s_ventsettings_72.csv' %(date), index_col=0)\n",
    "\n",
    "ventcategory_df=pd.read_csv(\n",
    "    wd+'/data/raw/csv/%s_ventcategory_df.csv' %(date), index_col=0)\n",
    "\n",
    "echodata_72=pd.read_csv(\n",
    "    wd+'/data/raw/csv/72_hr_window/%s_echodata_72.csv' %(date), index_col=0)\n",
    "labs_all_nosummary_72=pd.read_csv(\n",
    "    wd+'/data/raw/csv/72_hr_window/%s_labs_all_nosummary_72.csv' %(date), index_col=0)\n",
    "\n",
    "\n",
    "weightfirstday_df=pd.read_csv(\n",
    "    wd+'/data/raw/csv/72_hr_window/%s_weightfirstday_df.csv' %(date), index_col=0)\n",
    "heightfirstday_df=pd.read_csv(\n",
    "    wd+'/data/raw/csv/72_hr_window/%s_heightfirstday_df.csv' %(date), index_col=0)\n",
    "\n",
    "vitals_all_nosummary_72=pd.read_csv(\n",
    "    wd+'/data/raw/csv/72_hr_window/%s_vitals_all_nosummary_72.csv' %(date), index_col=0)\n",
    "uti_all_72=pd.read_csv(\n",
    "    wd+'/data/raw/csv/72_hr_window/%s_uti_all_72.csv' %(date), index_col=0)\n",
    "bg_all_nosummary_72=pd.read_csv(\n",
    "    wd+'/data/raw/csv/72_hr_window/%s_bg_all_nosummary_72.csv' %(date), index_col=0)\n",
    "\n",
    "rrt_merged_allpt_df=pd.read_csv(\n",
    "    wd+'/data/raw/csv/72_hr_window/%s_rrt_merged_allpt_df.csv' %(date), index_col=0)\n",
    "gcs72_df=pd.read_csv(\n",
    "    wd+'/data/raw/csv/72_hr_window/%s_gcs72_df.csv' %(date), index_col=0)\n",
    "\n",
    "sofa_df_72=pd.read_csv(\n",
    "    wd+'/data/raw/csv/%s_sofa_df_72.csv' %(date), index_col=0)"
   ]
  },
  {
   "cell_type": "code",
   "execution_count": 4,
   "metadata": {},
   "outputs": [
    {
     "data": {
      "text/html": [
       "<div>\n",
       "<style scoped>\n",
       "    .dataframe tbody tr th:only-of-type {\n",
       "        vertical-align: middle;\n",
       "    }\n",
       "\n",
       "    .dataframe tbody tr th {\n",
       "        vertical-align: top;\n",
       "    }\n",
       "\n",
       "    .dataframe thead th {\n",
       "        text-align: right;\n",
       "    }\n",
       "</style>\n",
       "<table border=\"1\" class=\"dataframe\">\n",
       "  <thead>\n",
       "    <tr style=\"text-align: right;\">\n",
       "      <th></th>\n",
       "      <th>subject_id</th>\n",
       "      <th>icustay_id</th>\n",
       "      <th>hadm_id</th>\n",
       "      <th>t_0_sc</th>\n",
       "      <th>t_end_sc</th>\n",
       "      <th>ab_course</th>\n",
       "      <th>t_0</th>\n",
       "      <th>t_end_consec</th>\n",
       "      <th>ICU_admit</th>\n",
       "      <th>dod_hosp</th>\n",
       "      <th>dod_ssn</th>\n",
       "      <th>dod_delta</th>\n",
       "      <th>org_list</th>\n",
       "      <th>spec_type_list</th>\n",
       "      <th>sc_result</th>\n",
       "      <th>final_bin</th>\n",
       "    </tr>\n",
       "  </thead>\n",
       "  <tbody>\n",
       "    <tr>\n",
       "      <th>0</th>\n",
       "      <td>24915</td>\n",
       "      <td>267059.0</td>\n",
       "      <td>194424</td>\n",
       "      <td>2182-11-12 01:50:00</td>\n",
       "      <td>2182-11-14 00:00:00</td>\n",
       "      <td>full</td>\n",
       "      <td>2182-11-12</td>\n",
       "      <td>2183-01-15</td>\n",
       "      <td>2182-11-11 20:02:17</td>\n",
       "      <td>2183-01-15 00:00:00</td>\n",
       "      <td>2183-01-15 00:00:00</td>\n",
       "      <td>0 days 00:00:00.000000000</td>\n",
       "      <td>NaN</td>\n",
       "      <td>NaN</td>\n",
       "      <td>negative</td>\n",
       "      <td>C_neg/A_full</td>\n",
       "    </tr>\n",
       "    <tr>\n",
       "      <th>1</th>\n",
       "      <td>24942</td>\n",
       "      <td>278729.0</td>\n",
       "      <td>178112</td>\n",
       "      <td>2159-11-07 16:57:00</td>\n",
       "      <td>2159-11-10 00:00:00</td>\n",
       "      <td>partial</td>\n",
       "      <td>2159-11-08</td>\n",
       "      <td>2159-11-10</td>\n",
       "      <td>2159-11-06 11:15:58</td>\n",
       "      <td>NaN</td>\n",
       "      <td>NaN</td>\n",
       "      <td>NaN</td>\n",
       "      <td>NaN</td>\n",
       "      <td>NaN</td>\n",
       "      <td>negative</td>\n",
       "      <td>C_neg/A_partial</td>\n",
       "    </tr>\n",
       "    <tr>\n",
       "      <th>2</th>\n",
       "      <td>24968</td>\n",
       "      <td>219670.0</td>\n",
       "      <td>120350</td>\n",
       "      <td>2190-07-31 21:40:00</td>\n",
       "      <td>2190-08-03 00:00:00</td>\n",
       "      <td>partial</td>\n",
       "      <td>2190-08-01</td>\n",
       "      <td>2190-08-02</td>\n",
       "      <td>2190-07-31 20:49:51</td>\n",
       "      <td>2190-08-05 00:00:00</td>\n",
       "      <td>2190-08-05 00:00:00</td>\n",
       "      <td>0 days 00:00:00.000000000</td>\n",
       "      <td>NaN</td>\n",
       "      <td>NaN</td>\n",
       "      <td>negative</td>\n",
       "      <td>C_neg/A_partial</td>\n",
       "    </tr>\n",
       "    <tr>\n",
       "      <th>3</th>\n",
       "      <td>24776</td>\n",
       "      <td>295185.0</td>\n",
       "      <td>139951</td>\n",
       "      <td>2154-11-10 23:04:00</td>\n",
       "      <td>2154-11-13 00:00:00</td>\n",
       "      <td>full</td>\n",
       "      <td>2154-11-11</td>\n",
       "      <td>2154-11-19</td>\n",
       "      <td>2154-11-07 20:16:08</td>\n",
       "      <td>2154-11-23 00:00:00</td>\n",
       "      <td>2154-11-23 00:00:00</td>\n",
       "      <td>0 days 00:00:00.000000000</td>\n",
       "      <td>ESCHERICHIA COLI</td>\n",
       "      <td>URINE</td>\n",
       "      <td>positive</td>\n",
       "      <td>C_pos/A_full</td>\n",
       "    </tr>\n",
       "    <tr>\n",
       "      <th>4</th>\n",
       "      <td>24714</td>\n",
       "      <td>211472.0</td>\n",
       "      <td>163632</td>\n",
       "      <td>2193-12-11 04:00:00</td>\n",
       "      <td>2193-12-13 00:00:00</td>\n",
       "      <td>full</td>\n",
       "      <td>2193-12-11</td>\n",
       "      <td>2193-12-26</td>\n",
       "      <td>2193-12-11 00:20:56</td>\n",
       "      <td>NaN</td>\n",
       "      <td>NaN</td>\n",
       "      <td>NaN</td>\n",
       "      <td>NaN</td>\n",
       "      <td>NaN</td>\n",
       "      <td>negative</td>\n",
       "      <td>C_neg/A_full</td>\n",
       "    </tr>\n",
       "  </tbody>\n",
       "</table>\n",
       "</div>"
      ],
      "text/plain": [
       "   subject_id  icustay_id  hadm_id               t_0_sc             t_end_sc  \\\n",
       "0       24915    267059.0   194424  2182-11-12 01:50:00  2182-11-14 00:00:00   \n",
       "1       24942    278729.0   178112  2159-11-07 16:57:00  2159-11-10 00:00:00   \n",
       "2       24968    219670.0   120350  2190-07-31 21:40:00  2190-08-03 00:00:00   \n",
       "3       24776    295185.0   139951  2154-11-10 23:04:00  2154-11-13 00:00:00   \n",
       "4       24714    211472.0   163632  2193-12-11 04:00:00  2193-12-13 00:00:00   \n",
       "\n",
       "  ab_course         t_0 t_end_consec            ICU_admit  \\\n",
       "0      full  2182-11-12   2183-01-15  2182-11-11 20:02:17   \n",
       "1   partial  2159-11-08   2159-11-10  2159-11-06 11:15:58   \n",
       "2   partial  2190-08-01   2190-08-02  2190-07-31 20:49:51   \n",
       "3      full  2154-11-11   2154-11-19  2154-11-07 20:16:08   \n",
       "4      full  2193-12-11   2193-12-26  2193-12-11 00:20:56   \n",
       "\n",
       "              dod_hosp              dod_ssn                  dod_delta  \\\n",
       "0  2183-01-15 00:00:00  2183-01-15 00:00:00  0 days 00:00:00.000000000   \n",
       "1                  NaN                  NaN                        NaN   \n",
       "2  2190-08-05 00:00:00  2190-08-05 00:00:00  0 days 00:00:00.000000000   \n",
       "3  2154-11-23 00:00:00  2154-11-23 00:00:00  0 days 00:00:00.000000000   \n",
       "4                  NaN                  NaN                        NaN   \n",
       "\n",
       "           org_list spec_type_list sc_result        final_bin  \n",
       "0               NaN            NaN  negative     C_neg/A_full  \n",
       "1               NaN            NaN  negative  C_neg/A_partial  \n",
       "2               NaN            NaN  negative  C_neg/A_partial  \n",
       "3  ESCHERICHIA COLI          URINE  positive     C_pos/A_full  \n",
       "4               NaN            NaN  negative     C_neg/A_full  "
      ]
     },
     "execution_count": 4,
     "metadata": {},
     "output_type": "execute_result"
    },
    {
     "name": "stdout",
     "output_type": "stream",
     "text": [
      "time: 20.6 ms\n"
     ]
    }
   ],
   "source": [
    "final_pt_df2.head()"
   ]
  },
  {
   "cell_type": "code",
   "execution_count": 5,
   "metadata": {},
   "outputs": [
    {
     "data": {
      "text/html": [
       "<div>\n",
       "<style scoped>\n",
       "    .dataframe tbody tr th:only-of-type {\n",
       "        vertical-align: middle;\n",
       "    }\n",
       "\n",
       "    .dataframe tbody tr th {\n",
       "        vertical-align: top;\n",
       "    }\n",
       "\n",
       "    .dataframe thead th {\n",
       "        text-align: right;\n",
       "    }\n",
       "</style>\n",
       "<table border=\"1\" class=\"dataframe\">\n",
       "  <thead>\n",
       "    <tr style=\"text-align: right;\">\n",
       "      <th></th>\n",
       "      <th>icustay_id</th>\n",
       "      <th>starttime</th>\n",
       "      <th>endtime</th>\n",
       "      <th>vaso_rate</th>\n",
       "      <th>vaso_amount</th>\n",
       "      <th>label</th>\n",
       "      <th>t_0</th>\n",
       "      <th>delta</th>\n",
       "    </tr>\n",
       "  </thead>\n",
       "  <tbody>\n",
       "    <tr>\n",
       "      <th>4</th>\n",
       "      <td>200349.0</td>\n",
       "      <td>2139-06-02 16:31:00</td>\n",
       "      <td>2139-06-02 18:10:00</td>\n",
       "      <td>0.012030</td>\n",
       "      <td>0.073958</td>\n",
       "      <td>epinephrine</td>\n",
       "      <td>2139-06-02</td>\n",
       "      <td>0 days 16:31:00.000000000</td>\n",
       "    </tr>\n",
       "    <tr>\n",
       "      <th>108</th>\n",
       "      <td>200952.0</td>\n",
       "      <td>2139-09-23 15:07:00</td>\n",
       "      <td>2139-09-24 06:43:00</td>\n",
       "      <td>0.020004</td>\n",
       "      <td>1.049601</td>\n",
       "      <td>epinephrine</td>\n",
       "      <td>2139-09-23</td>\n",
       "      <td>0 days 15:07:00.000000000</td>\n",
       "    </tr>\n",
       "    <tr>\n",
       "      <th>109</th>\n",
       "      <td>200952.0</td>\n",
       "      <td>2139-09-25 12:00:00</td>\n",
       "      <td>2139-09-25 21:59:00</td>\n",
       "      <td>0.080068</td>\n",
       "      <td>1.962759</td>\n",
       "      <td>epinephrine</td>\n",
       "      <td>2139-09-23</td>\n",
       "      <td>2 days 12:00:00.000000000</td>\n",
       "    </tr>\n",
       "    <tr>\n",
       "      <th>110</th>\n",
       "      <td>200952.0</td>\n",
       "      <td>2139-09-25 21:59:00</td>\n",
       "      <td>2139-09-26 07:38:00</td>\n",
       "      <td>0.060601</td>\n",
       "      <td>2.000000</td>\n",
       "      <td>epinephrine</td>\n",
       "      <td>2139-09-23</td>\n",
       "      <td>2 days 21:59:00.000000000</td>\n",
       "    </tr>\n",
       "    <tr>\n",
       "      <th>122</th>\n",
       "      <td>200952.0</td>\n",
       "      <td>2139-09-23 23:12:00</td>\n",
       "      <td>2139-09-24 21:54:00</td>\n",
       "      <td>0.149992</td>\n",
       "      <td>7.990853</td>\n",
       "      <td>norepinephrine</td>\n",
       "      <td>2139-09-23</td>\n",
       "      <td>0 days 23:12:00.000000000</td>\n",
       "    </tr>\n",
       "    <tr>\n",
       "      <th>123</th>\n",
       "      <td>200952.0</td>\n",
       "      <td>2139-09-24 21:54:00</td>\n",
       "      <td>2139-09-25 13:17:00</td>\n",
       "      <td>0.201337</td>\n",
       "      <td>7.325205</td>\n",
       "      <td>norepinephrine</td>\n",
       "      <td>2139-09-23</td>\n",
       "      <td>1 days 21:54:00.000000000</td>\n",
       "    </tr>\n",
       "    <tr>\n",
       "      <th>124</th>\n",
       "      <td>200952.0</td>\n",
       "      <td>2139-09-25 13:17:00</td>\n",
       "      <td>2139-09-26 03:45:00</td>\n",
       "      <td>0.351255</td>\n",
       "      <td>7.958630</td>\n",
       "      <td>norepinephrine</td>\n",
       "      <td>2139-09-23</td>\n",
       "      <td>2 days 13:17:00.000000000</td>\n",
       "    </tr>\n",
       "    <tr>\n",
       "      <th>134</th>\n",
       "      <td>200952.0</td>\n",
       "      <td>2139-09-25 09:24:00</td>\n",
       "      <td>2139-09-26 21:27:00</td>\n",
       "      <td>4.800000</td>\n",
       "      <td>99.999663</td>\n",
       "      <td>vasopressin</td>\n",
       "      <td>2139-09-23</td>\n",
       "      <td>2 days 09:24:00.000000000</td>\n",
       "    </tr>\n",
       "    <tr>\n",
       "      <th>138</th>\n",
       "      <td>200952.0</td>\n",
       "      <td>2139-09-23 15:06:00</td>\n",
       "      <td>2139-09-24 00:51:00</td>\n",
       "      <td>2.509001</td>\n",
       "      <td>43.660095</td>\n",
       "      <td>phenylephrine</td>\n",
       "      <td>2139-09-23</td>\n",
       "      <td>0 days 15:06:00.000000000</td>\n",
       "    </tr>\n",
       "    <tr>\n",
       "      <th>140</th>\n",
       "      <td>201005.0</td>\n",
       "      <td>2169-10-25 17:25:00</td>\n",
       "      <td>2169-10-26 00:00:00</td>\n",
       "      <td>0.020000</td>\n",
       "      <td>0.604800</td>\n",
       "      <td>epinephrine</td>\n",
       "      <td>2169-10-25</td>\n",
       "      <td>0 days 17:25:00.000000000</td>\n",
       "    </tr>\n",
       "    <tr>\n",
       "      <th>141</th>\n",
       "      <td>201005.0</td>\n",
       "      <td>2169-10-26 00:00:00</td>\n",
       "      <td>2169-10-26 01:00:00</td>\n",
       "      <td>0.015000</td>\n",
       "      <td>0.076000</td>\n",
       "      <td>epinephrine</td>\n",
       "      <td>2169-10-25</td>\n",
       "      <td>1 days 00:00:00.000000000</td>\n",
       "    </tr>\n",
       "    <tr>\n",
       "      <th>142</th>\n",
       "      <td>201005.0</td>\n",
       "      <td>2169-10-26 01:00:00</td>\n",
       "      <td>2169-10-26 02:00:00</td>\n",
       "      <td>0.010000</td>\n",
       "      <td>0.050400</td>\n",
       "      <td>epinephrine</td>\n",
       "      <td>2169-10-25</td>\n",
       "      <td>1 days 01:00:00.000000000</td>\n",
       "    </tr>\n",
       "    <tr>\n",
       "      <th>143</th>\n",
       "      <td>201005.0</td>\n",
       "      <td>2169-10-26 02:00:00</td>\n",
       "      <td>2169-10-26 03:00:00</td>\n",
       "      <td>0.005000</td>\n",
       "      <td>0.025600</td>\n",
       "      <td>epinephrine</td>\n",
       "      <td>2169-10-25</td>\n",
       "      <td>1 days 02:00:00.000000000</td>\n",
       "    </tr>\n",
       "    <tr>\n",
       "      <th>144</th>\n",
       "      <td>201005.0</td>\n",
       "      <td>2169-10-25 07:30:00</td>\n",
       "      <td>2169-10-25 07:50:00</td>\n",
       "      <td>0.100000</td>\n",
       "      <td>NaN</td>\n",
       "      <td>norepinephrine</td>\n",
       "      <td>2169-10-25</td>\n",
       "      <td>0 days 07:30:00.000000000</td>\n",
       "    </tr>\n",
       "    <tr>\n",
       "      <th>145</th>\n",
       "      <td>201005.0</td>\n",
       "      <td>2169-10-25 07:50:00</td>\n",
       "      <td>2169-10-25 08:00:00</td>\n",
       "      <td>0.050000</td>\n",
       "      <td>NaN</td>\n",
       "      <td>norepinephrine</td>\n",
       "      <td>2169-10-25</td>\n",
       "      <td>0 days 07:50:00.000000000</td>\n",
       "    </tr>\n",
       "    <tr>\n",
       "      <th>146</th>\n",
       "      <td>201005.0</td>\n",
       "      <td>2169-10-25 08:00:00</td>\n",
       "      <td>2169-10-25 08:45:00</td>\n",
       "      <td>0.030000</td>\n",
       "      <td>0.150400</td>\n",
       "      <td>norepinephrine</td>\n",
       "      <td>2169-10-25</td>\n",
       "      <td>0 days 08:00:00.000000000</td>\n",
       "    </tr>\n",
       "    <tr>\n",
       "      <th>147</th>\n",
       "      <td>201005.0</td>\n",
       "      <td>2169-10-25 08:45:00</td>\n",
       "      <td>2169-10-25 09:30:00</td>\n",
       "      <td>0.050000</td>\n",
       "      <td>0.176400</td>\n",
       "      <td>norepinephrine</td>\n",
       "      <td>2169-10-25</td>\n",
       "      <td>0 days 08:45:00.000000000</td>\n",
       "    </tr>\n",
       "    <tr>\n",
       "      <th>148</th>\n",
       "      <td>201005.0</td>\n",
       "      <td>2169-10-25 09:30:00</td>\n",
       "      <td>2169-10-25 10:00:00</td>\n",
       "      <td>0.100000</td>\n",
       "      <td>NaN</td>\n",
       "      <td>norepinephrine</td>\n",
       "      <td>2169-10-25</td>\n",
       "      <td>0 days 09:30:00.000000000</td>\n",
       "    </tr>\n",
       "    <tr>\n",
       "      <th>149</th>\n",
       "      <td>201005.0</td>\n",
       "      <td>2169-10-25 10:00:00</td>\n",
       "      <td>2169-10-25 11:00:00</td>\n",
       "      <td>0.200000</td>\n",
       "      <td>0.378000</td>\n",
       "      <td>norepinephrine</td>\n",
       "      <td>2169-10-25</td>\n",
       "      <td>0 days 10:00:00.000000000</td>\n",
       "    </tr>\n",
       "    <tr>\n",
       "      <th>150</th>\n",
       "      <td>201005.0</td>\n",
       "      <td>2169-10-25 11:00:00</td>\n",
       "      <td>2169-10-25 12:00:00</td>\n",
       "      <td>0.150000</td>\n",
       "      <td>1.008000</td>\n",
       "      <td>norepinephrine</td>\n",
       "      <td>2169-10-25</td>\n",
       "      <td>0 days 11:00:00.000000000</td>\n",
       "    </tr>\n",
       "  </tbody>\n",
       "</table>\n",
       "</div>"
      ],
      "text/plain": [
       "     icustay_id            starttime              endtime  vaso_rate  \\\n",
       "4      200349.0  2139-06-02 16:31:00  2139-06-02 18:10:00   0.012030   \n",
       "108    200952.0  2139-09-23 15:07:00  2139-09-24 06:43:00   0.020004   \n",
       "109    200952.0  2139-09-25 12:00:00  2139-09-25 21:59:00   0.080068   \n",
       "110    200952.0  2139-09-25 21:59:00  2139-09-26 07:38:00   0.060601   \n",
       "122    200952.0  2139-09-23 23:12:00  2139-09-24 21:54:00   0.149992   \n",
       "123    200952.0  2139-09-24 21:54:00  2139-09-25 13:17:00   0.201337   \n",
       "124    200952.0  2139-09-25 13:17:00  2139-09-26 03:45:00   0.351255   \n",
       "134    200952.0  2139-09-25 09:24:00  2139-09-26 21:27:00   4.800000   \n",
       "138    200952.0  2139-09-23 15:06:00  2139-09-24 00:51:00   2.509001   \n",
       "140    201005.0  2169-10-25 17:25:00  2169-10-26 00:00:00   0.020000   \n",
       "141    201005.0  2169-10-26 00:00:00  2169-10-26 01:00:00   0.015000   \n",
       "142    201005.0  2169-10-26 01:00:00  2169-10-26 02:00:00   0.010000   \n",
       "143    201005.0  2169-10-26 02:00:00  2169-10-26 03:00:00   0.005000   \n",
       "144    201005.0  2169-10-25 07:30:00  2169-10-25 07:50:00   0.100000   \n",
       "145    201005.0  2169-10-25 07:50:00  2169-10-25 08:00:00   0.050000   \n",
       "146    201005.0  2169-10-25 08:00:00  2169-10-25 08:45:00   0.030000   \n",
       "147    201005.0  2169-10-25 08:45:00  2169-10-25 09:30:00   0.050000   \n",
       "148    201005.0  2169-10-25 09:30:00  2169-10-25 10:00:00   0.100000   \n",
       "149    201005.0  2169-10-25 10:00:00  2169-10-25 11:00:00   0.200000   \n",
       "150    201005.0  2169-10-25 11:00:00  2169-10-25 12:00:00   0.150000   \n",
       "\n",
       "     vaso_amount           label         t_0                      delta  \n",
       "4       0.073958     epinephrine  2139-06-02  0 days 16:31:00.000000000  \n",
       "108     1.049601     epinephrine  2139-09-23  0 days 15:07:00.000000000  \n",
       "109     1.962759     epinephrine  2139-09-23  2 days 12:00:00.000000000  \n",
       "110     2.000000     epinephrine  2139-09-23  2 days 21:59:00.000000000  \n",
       "122     7.990853  norepinephrine  2139-09-23  0 days 23:12:00.000000000  \n",
       "123     7.325205  norepinephrine  2139-09-23  1 days 21:54:00.000000000  \n",
       "124     7.958630  norepinephrine  2139-09-23  2 days 13:17:00.000000000  \n",
       "134    99.999663     vasopressin  2139-09-23  2 days 09:24:00.000000000  \n",
       "138    43.660095   phenylephrine  2139-09-23  0 days 15:06:00.000000000  \n",
       "140     0.604800     epinephrine  2169-10-25  0 days 17:25:00.000000000  \n",
       "141     0.076000     epinephrine  2169-10-25  1 days 00:00:00.000000000  \n",
       "142     0.050400     epinephrine  2169-10-25  1 days 01:00:00.000000000  \n",
       "143     0.025600     epinephrine  2169-10-25  1 days 02:00:00.000000000  \n",
       "144          NaN  norepinephrine  2169-10-25  0 days 07:30:00.000000000  \n",
       "145          NaN  norepinephrine  2169-10-25  0 days 07:50:00.000000000  \n",
       "146     0.150400  norepinephrine  2169-10-25  0 days 08:00:00.000000000  \n",
       "147     0.176400  norepinephrine  2169-10-25  0 days 08:45:00.000000000  \n",
       "148          NaN  norepinephrine  2169-10-25  0 days 09:30:00.000000000  \n",
       "149     0.378000  norepinephrine  2169-10-25  0 days 10:00:00.000000000  \n",
       "150     1.008000  norepinephrine  2169-10-25  0 days 11:00:00.000000000  "
      ]
     },
     "execution_count": 5,
     "metadata": {},
     "output_type": "execute_result"
    },
    {
     "name": "stdout",
     "output_type": "stream",
     "text": [
      "time: 15.8 ms\n"
     ]
    }
   ],
   "source": [
    "vaso_dose_72.head(20)"
   ]
  },
  {
   "cell_type": "markdown",
   "metadata": {},
   "source": [
    "# task 1: % MISSINGNESS table\n",
    "need to look for the amount of patients who are missing any value in any of the categories. want to aggregate all variables and % missingness and source into 1 dataframe"
   ]
  },
  {
   "cell_type": "code",
   "execution_count": 6,
   "metadata": {},
   "outputs": [
    {
     "name": "stdout",
     "output_type": "stream",
     "text": [
      "15142 12744\n",
      "time: 19.3 ms\n"
     ]
    }
   ],
   "source": [
    "print(\n",
    "    labs_all_nosummary_72['hadm_id'].nunique(), #15142/15207 unique hadm_id/icustay_id\n",
    "    labs_all_nosummary_72['subject_id'].nunique() #12744/12801 unique patients in this\n",
    ")"
   ]
  },
  {
   "cell_type": "code",
   "execution_count": 7,
   "metadata": {},
   "outputs": [
    {
     "name": "stdout",
     "output_type": "stream",
     "text": [
      "time: 10.5 ms\n"
     ]
    }
   ],
   "source": [
    "def missingness_fxn(df,name, groupby,filteron):\n",
    "    \n",
    "    \"\"\"\n",
    "    input: dataframe w/ clinical data we want to assess the % missing values on.\n",
    "    output: a dataframe grouped by the different clinical variables with \n",
    "        associated % missingnss (ie how many icustays do not have this value)\n",
    "        \n",
    "    \"\"\"\n",
    "\n",
    "    missing_df= pd.DataFrame(\n",
    "        100* (1-(df.groupby(groupby)[filteron].nunique()/ len(hadm_id)))) #number of unique icustays with data /total # icustay\n",
    "    missing_df.reset_index(inplace=True)\n",
    "    missing_df= missing_df.rename(index=str, columns={\"label\":'label', filteron:'%missingness'})\n",
    "    missing_df['source']= name\n",
    "    missing_df['data_label']=groupby\n",
    "    return(missing_df)"
   ]
  },
  {
   "cell_type": "markdown",
   "metadata": {},
   "source": [
    "#### all dataframes to do %missingness on (add x when complete)\n",
    "- vaso_dose_72 : x\n",
    "- ventcategory_df : x\n",
    "- echodata_72 : ?\n",
    "- labs_all_nosummary_72 : x\n",
    "- weightfirstday_df : x\n",
    "- heightfirstday_df : x\n",
    "- vitals_all_nosummary_72 :x\n",
    "- uti_all_72 :x\n",
    "- bg_all_nosummary_72 :x\n",
    "- rrt_merged_allpt_df :x\n",
    "- gcs72_df : x\n",
    "- sofa_df_72: "
   ]
  },
  {
   "cell_type": "code",
   "execution_count": 8,
   "metadata": {},
   "outputs": [
    {
     "name": "stdout",
     "output_type": "stream",
     "text": [
      "time: 1.08 ms\n"
     ]
    }
   ],
   "source": [
    "missingness_df= pd.DataFrame()"
   ]
  },
  {
   "cell_type": "markdown",
   "metadata": {},
   "source": [
    "### labs x"
   ]
  },
  {
   "cell_type": "code",
   "execution_count": 9,
   "metadata": {},
   "outputs": [
    {
     "name": "stdout",
     "output_type": "stream",
     "text": [
      "15142 12744\n",
      "time: 13.2 ms\n"
     ]
    }
   ],
   "source": [
    "print(\n",
    "    labs_all_nosummary_72['hadm_id'].nunique(), #15142/15207 unique hadm_id/icustay_id\n",
    "    labs_all_nosummary_72['subject_id'].nunique() #12744/12801 unique patients in this\n",
    ")"
   ]
  },
  {
   "cell_type": "code",
   "execution_count": 10,
   "metadata": {},
   "outputs": [
    {
     "data": {
      "text/html": [
       "<div>\n",
       "<style scoped>\n",
       "    .dataframe tbody tr th:only-of-type {\n",
       "        vertical-align: middle;\n",
       "    }\n",
       "\n",
       "    .dataframe tbody tr th {\n",
       "        vertical-align: top;\n",
       "    }\n",
       "\n",
       "    .dataframe thead th {\n",
       "        text-align: right;\n",
       "    }\n",
       "</style>\n",
       "<table border=\"1\" class=\"dataframe\">\n",
       "  <thead>\n",
       "    <tr style=\"text-align: right;\">\n",
       "      <th></th>\n",
       "      <th>subject_id</th>\n",
       "      <th>hadm_id</th>\n",
       "      <th>icustay_id</th>\n",
       "      <th>charttime</th>\n",
       "      <th>label</th>\n",
       "      <th>valuenum</th>\n",
       "      <th>t_0</th>\n",
       "      <th>delta</th>\n",
       "    </tr>\n",
       "  </thead>\n",
       "  <tbody>\n",
       "    <tr>\n",
       "      <th>839176</th>\n",
       "      <td>13940</td>\n",
       "      <td>137769</td>\n",
       "      <td>298457</td>\n",
       "      <td>2192-12-12 02:20:00</td>\n",
       "      <td>INR</td>\n",
       "      <td>NaN</td>\n",
       "      <td>2192-12-12</td>\n",
       "      <td>0 days 02:20:00.000000000</td>\n",
       "    </tr>\n",
       "  </tbody>\n",
       "</table>\n",
       "</div>"
      ],
      "text/plain": [
       "        subject_id  hadm_id  icustay_id            charttime label  valuenum  \\\n",
       "839176       13940   137769      298457  2192-12-12 02:20:00   INR       NaN   \n",
       "\n",
       "               t_0                      delta  \n",
       "839176  2192-12-12  0 days 02:20:00.000000000  "
      ]
     },
     "execution_count": 10,
     "metadata": {},
     "output_type": "execute_result"
    },
    {
     "name": "stdout",
     "output_type": "stream",
     "text": [
      "time: 10.9 ms\n"
     ]
    }
   ],
   "source": [
    "#na values\n",
    "labs_all_nosummary_72.loc[labs_all_nosummary_72['valuenum'].isna(),:]"
   ]
  },
  {
   "cell_type": "code",
   "execution_count": 11,
   "metadata": {},
   "outputs": [
    {
     "name": "stdout",
     "output_type": "stream",
     "text": [
      "time: 162 ms\n"
     ]
    }
   ],
   "source": [
    "missingness_df = pd.concat(\n",
    "    [missingness_df,\n",
    "        missingness_fxn(labs_all_nosummary_72,'labs_all_nosummary_72', 'label','icustay_id')]\n",
    ")"
   ]
  },
  {
   "cell_type": "markdown",
   "metadata": {},
   "source": [
    "### vaso_dose x"
   ]
  },
  {
   "cell_type": "code",
   "execution_count": 12,
   "metadata": {},
   "outputs": [
    {
     "name": "stdout",
     "output_type": "stream",
     "text": [
      "4777\n",
      "time: 1.81 ms\n"
     ]
    }
   ],
   "source": [
    "print(\n",
    "    vaso_dose_72['icustay_id'].nunique(), #4777/15207 unique icustay_id/icustay_id\n",
    ")"
   ]
  },
  {
   "cell_type": "code",
   "execution_count": 13,
   "metadata": {},
   "outputs": [
    {
     "data": {
      "text/html": [
       "<div>\n",
       "<style scoped>\n",
       "    .dataframe tbody tr th:only-of-type {\n",
       "        vertical-align: middle;\n",
       "    }\n",
       "\n",
       "    .dataframe tbody tr th {\n",
       "        vertical-align: top;\n",
       "    }\n",
       "\n",
       "    .dataframe thead th {\n",
       "        text-align: right;\n",
       "    }\n",
       "</style>\n",
       "<table border=\"1\" class=\"dataframe\">\n",
       "  <thead>\n",
       "    <tr style=\"text-align: right;\">\n",
       "      <th></th>\n",
       "      <th>icustay_id</th>\n",
       "      <th>starttime</th>\n",
       "      <th>endtime</th>\n",
       "      <th>vaso_rate</th>\n",
       "      <th>vaso_amount</th>\n",
       "      <th>label</th>\n",
       "      <th>t_0</th>\n",
       "      <th>delta</th>\n",
       "    </tr>\n",
       "  </thead>\n",
       "  <tbody>\n",
       "    <tr>\n",
       "      <th>4</th>\n",
       "      <td>200349.0</td>\n",
       "      <td>2139-06-02 16:31:00</td>\n",
       "      <td>2139-06-02 18:10:00</td>\n",
       "      <td>0.012030</td>\n",
       "      <td>0.073958</td>\n",
       "      <td>epinephrine</td>\n",
       "      <td>2139-06-02</td>\n",
       "      <td>0 days 16:31:00.000000000</td>\n",
       "    </tr>\n",
       "    <tr>\n",
       "      <th>108</th>\n",
       "      <td>200952.0</td>\n",
       "      <td>2139-09-23 15:07:00</td>\n",
       "      <td>2139-09-24 06:43:00</td>\n",
       "      <td>0.020004</td>\n",
       "      <td>1.049601</td>\n",
       "      <td>epinephrine</td>\n",
       "      <td>2139-09-23</td>\n",
       "      <td>0 days 15:07:00.000000000</td>\n",
       "    </tr>\n",
       "  </tbody>\n",
       "</table>\n",
       "</div>"
      ],
      "text/plain": [
       "     icustay_id            starttime              endtime  vaso_rate  \\\n",
       "4      200349.0  2139-06-02 16:31:00  2139-06-02 18:10:00   0.012030   \n",
       "108    200952.0  2139-09-23 15:07:00  2139-09-24 06:43:00   0.020004   \n",
       "\n",
       "     vaso_amount        label         t_0                      delta  \n",
       "4       0.073958  epinephrine  2139-06-02  0 days 16:31:00.000000000  \n",
       "108     1.049601  epinephrine  2139-09-23  0 days 15:07:00.000000000  "
      ]
     },
     "execution_count": 13,
     "metadata": {},
     "output_type": "execute_result"
    },
    {
     "name": "stdout",
     "output_type": "stream",
     "text": [
      "time: 18.1 ms\n"
     ]
    }
   ],
   "source": [
    "vaso_dose_72.head(2)"
   ]
  },
  {
   "cell_type": "code",
   "execution_count": 14,
   "metadata": {},
   "outputs": [
    {
     "data": {
      "text/html": [
       "<div>\n",
       "<style scoped>\n",
       "    .dataframe tbody tr th:only-of-type {\n",
       "        vertical-align: middle;\n",
       "    }\n",
       "\n",
       "    .dataframe tbody tr th {\n",
       "        vertical-align: top;\n",
       "    }\n",
       "\n",
       "    .dataframe thead th {\n",
       "        text-align: right;\n",
       "    }\n",
       "</style>\n",
       "<table border=\"1\" class=\"dataframe\">\n",
       "  <thead>\n",
       "    <tr style=\"text-align: right;\">\n",
       "      <th></th>\n",
       "      <th>icustay_id</th>\n",
       "      <th>starttime</th>\n",
       "      <th>endtime</th>\n",
       "      <th>vaso_rate</th>\n",
       "      <th>vaso_amount</th>\n",
       "      <th>label</th>\n",
       "      <th>t_0</th>\n",
       "      <th>delta</th>\n",
       "    </tr>\n",
       "  </thead>\n",
       "  <tbody>\n",
       "  </tbody>\n",
       "</table>\n",
       "</div>"
      ],
      "text/plain": [
       "Empty DataFrame\n",
       "Columns: [icustay_id, starttime, endtime, vaso_rate, vaso_amount, label, t_0, delta]\n",
       "Index: []"
      ]
     },
     "execution_count": 14,
     "metadata": {},
     "output_type": "execute_result"
    },
    {
     "name": "stdout",
     "output_type": "stream",
     "text": [
      "time: 6.93 ms\n"
     ]
    }
   ],
   "source": [
    "vaso_dose_72.loc[vaso_dose_72['vaso_rate'].isna(),:]"
   ]
  },
  {
   "cell_type": "code",
   "execution_count": 15,
   "metadata": {},
   "outputs": [
    {
     "name": "stdout",
     "output_type": "stream",
     "text": [
      "time: 10.3 ms\n"
     ]
    }
   ],
   "source": [
    "missingness_df = pd.concat(\n",
    "    [missingness_df,\n",
    "        missingness_fxn(vaso_dose_72,'vaso_dose_72', 'label','icustay_id')]\n",
    ")"
   ]
  },
  {
   "cell_type": "markdown",
   "metadata": {},
   "source": [
    "### ventcategory_df x"
   ]
  },
  {
   "cell_type": "code",
   "execution_count": 16,
   "metadata": {},
   "outputs": [
    {
     "data": {
      "text/html": [
       "<div>\n",
       "<style scoped>\n",
       "    .dataframe tbody tr th:only-of-type {\n",
       "        vertical-align: middle;\n",
       "    }\n",
       "\n",
       "    .dataframe tbody tr th {\n",
       "        vertical-align: top;\n",
       "    }\n",
       "\n",
       "    .dataframe thead th {\n",
       "        text-align: right;\n",
       "    }\n",
       "</style>\n",
       "<table border=\"1\" class=\"dataframe\">\n",
       "  <thead>\n",
       "    <tr style=\"text-align: right;\">\n",
       "      <th></th>\n",
       "      <th>icustay_id</th>\n",
       "      <th>t_0</th>\n",
       "      <th>vent_day1</th>\n",
       "      <th>vent_day2</th>\n",
       "      <th>vent_day3</th>\n",
       "    </tr>\n",
       "  </thead>\n",
       "  <tbody>\n",
       "    <tr>\n",
       "      <th>0</th>\n",
       "      <td>267059.0</td>\n",
       "      <td>2182-11-12</td>\n",
       "      <td>Mech</td>\n",
       "      <td>None</td>\n",
       "      <td>None</td>\n",
       "    </tr>\n",
       "    <tr>\n",
       "      <th>1</th>\n",
       "      <td>278729.0</td>\n",
       "      <td>2159-11-08</td>\n",
       "      <td>Oxygen</td>\n",
       "      <td>Mech</td>\n",
       "      <td>None</td>\n",
       "    </tr>\n",
       "    <tr>\n",
       "      <th>2</th>\n",
       "      <td>219670.0</td>\n",
       "      <td>2190-08-01</td>\n",
       "      <td>Oxygen</td>\n",
       "      <td>None</td>\n",
       "      <td>None</td>\n",
       "    </tr>\n",
       "    <tr>\n",
       "      <th>3</th>\n",
       "      <td>295185.0</td>\n",
       "      <td>2154-11-11</td>\n",
       "      <td>Oxygen</td>\n",
       "      <td>None</td>\n",
       "      <td>None</td>\n",
       "    </tr>\n",
       "    <tr>\n",
       "      <th>4</th>\n",
       "      <td>211472.0</td>\n",
       "      <td>2193-12-11</td>\n",
       "      <td>None</td>\n",
       "      <td>None</td>\n",
       "      <td>None</td>\n",
       "    </tr>\n",
       "  </tbody>\n",
       "</table>\n",
       "</div>"
      ],
      "text/plain": [
       "   icustay_id         t_0 vent_day1 vent_day2 vent_day3\n",
       "0    267059.0  2182-11-12      Mech      None      None\n",
       "1    278729.0  2159-11-08    Oxygen      Mech      None\n",
       "2    219670.0  2190-08-01    Oxygen      None      None\n",
       "3    295185.0  2154-11-11    Oxygen      None      None\n",
       "4    211472.0  2193-12-11      None      None      None"
      ]
     },
     "execution_count": 16,
     "metadata": {},
     "output_type": "execute_result"
    },
    {
     "name": "stdout",
     "output_type": "stream",
     "text": [
      "time: 8.46 ms\n"
     ]
    }
   ],
   "source": [
    "ventcategory_df.head()"
   ]
  },
  {
   "cell_type": "code",
   "execution_count": 17,
   "metadata": {},
   "outputs": [
    {
     "name": "stdout",
     "output_type": "stream",
     "text": [
      "15207\n",
      "time: 11.5 ms\n"
     ]
    }
   ],
   "source": [
    "#need to reshape the dataframe\n",
    "ventcategory_df_melt = pd.melt(ventcategory_df, id_vars=['icustay_id','t_0'], var_name='label')\n",
    "\n",
    "print(\n",
    "    ventcategory_df_melt['icustay_id'].nunique(), #15207/15207 unique icustay_id/icustay_id\n",
    ")"
   ]
  },
  {
   "cell_type": "code",
   "execution_count": 18,
   "metadata": {},
   "outputs": [
    {
     "data": {
      "text/html": [
       "<div>\n",
       "<style scoped>\n",
       "    .dataframe tbody tr th:only-of-type {\n",
       "        vertical-align: middle;\n",
       "    }\n",
       "\n",
       "    .dataframe tbody tr th {\n",
       "        vertical-align: top;\n",
       "    }\n",
       "\n",
       "    .dataframe thead th {\n",
       "        text-align: right;\n",
       "    }\n",
       "</style>\n",
       "<table border=\"1\" class=\"dataframe\">\n",
       "  <thead>\n",
       "    <tr style=\"text-align: right;\">\n",
       "      <th></th>\n",
       "      <th>icustay_id</th>\n",
       "      <th>t_0</th>\n",
       "      <th>label</th>\n",
       "      <th>value</th>\n",
       "    </tr>\n",
       "  </thead>\n",
       "  <tbody>\n",
       "    <tr>\n",
       "      <th>0</th>\n",
       "      <td>267059.0</td>\n",
       "      <td>2182-11-12</td>\n",
       "      <td>vent_day1</td>\n",
       "      <td>Mech</td>\n",
       "    </tr>\n",
       "    <tr>\n",
       "      <th>1</th>\n",
       "      <td>278729.0</td>\n",
       "      <td>2159-11-08</td>\n",
       "      <td>vent_day1</td>\n",
       "      <td>Oxygen</td>\n",
       "    </tr>\n",
       "  </tbody>\n",
       "</table>\n",
       "</div>"
      ],
      "text/plain": [
       "   icustay_id         t_0      label   value\n",
       "0    267059.0  2182-11-12  vent_day1    Mech\n",
       "1    278729.0  2159-11-08  vent_day1  Oxygen"
      ]
     },
     "execution_count": 18,
     "metadata": {},
     "output_type": "execute_result"
    },
    {
     "name": "stdout",
     "output_type": "stream",
     "text": [
      "time: 6.69 ms\n"
     ]
    }
   ],
   "source": [
    "ventcategory_df_melt.head(2)"
   ]
  },
  {
   "cell_type": "code",
   "execution_count": 19,
   "metadata": {},
   "outputs": [
    {
     "data": {
      "text/html": [
       "<div>\n",
       "<style scoped>\n",
       "    .dataframe tbody tr th:only-of-type {\n",
       "        vertical-align: middle;\n",
       "    }\n",
       "\n",
       "    .dataframe tbody tr th {\n",
       "        vertical-align: top;\n",
       "    }\n",
       "\n",
       "    .dataframe thead th {\n",
       "        text-align: right;\n",
       "    }\n",
       "</style>\n",
       "<table border=\"1\" class=\"dataframe\">\n",
       "  <thead>\n",
       "    <tr style=\"text-align: right;\">\n",
       "      <th></th>\n",
       "      <th>icustay_id</th>\n",
       "      <th>t_0</th>\n",
       "      <th>label</th>\n",
       "      <th>value</th>\n",
       "    </tr>\n",
       "  </thead>\n",
       "  <tbody>\n",
       "  </tbody>\n",
       "</table>\n",
       "</div>"
      ],
      "text/plain": [
       "Empty DataFrame\n",
       "Columns: [icustay_id, t_0, label, value]\n",
       "Index: []"
      ]
     },
     "execution_count": 19,
     "metadata": {},
     "output_type": "execute_result"
    },
    {
     "name": "stdout",
     "output_type": "stream",
     "text": [
      "time: 7.41 ms\n"
     ]
    }
   ],
   "source": [
    "#na values\n",
    "ventcategory_df_melt.loc[ventcategory_df_melt['value'].isnull()]"
   ]
  },
  {
   "cell_type": "code",
   "execution_count": 20,
   "metadata": {},
   "outputs": [
    {
     "name": "stdout",
     "output_type": "stream",
     "text": [
      "time: 12.1 ms\n"
     ]
    }
   ],
   "source": [
    "missingness_df = pd.concat(\n",
    "    [missingness_df,\n",
    "        missingness_fxn(ventcategory_df_melt,'ventcategory_df', 'label','icustay_id')]\n",
    ")"
   ]
  },
  {
   "cell_type": "markdown",
   "metadata": {},
   "source": [
    "### echodata_72"
   ]
  },
  {
   "cell_type": "code",
   "execution_count": 21,
   "metadata": {},
   "outputs": [
    {
     "data": {
      "text/html": [
       "<div>\n",
       "<style scoped>\n",
       "    .dataframe tbody tr th:only-of-type {\n",
       "        vertical-align: middle;\n",
       "    }\n",
       "\n",
       "    .dataframe tbody tr th {\n",
       "        vertical-align: top;\n",
       "    }\n",
       "\n",
       "    .dataframe thead th {\n",
       "        text-align: right;\n",
       "    }\n",
       "</style>\n",
       "<table border=\"1\" class=\"dataframe\">\n",
       "  <thead>\n",
       "    <tr style=\"text-align: right;\">\n",
       "      <th></th>\n",
       "      <th>row_id</th>\n",
       "      <th>subject_id</th>\n",
       "      <th>hadm_id</th>\n",
       "      <th>chartdate</th>\n",
       "      <th>charttime</th>\n",
       "      <th>indication</th>\n",
       "      <th>height</th>\n",
       "      <th>weight</th>\n",
       "      <th>bsa</th>\n",
       "      <th>bp</th>\n",
       "      <th>bpsys</th>\n",
       "      <th>bpdias</th>\n",
       "      <th>hr</th>\n",
       "      <th>status</th>\n",
       "      <th>test</th>\n",
       "      <th>doppler</th>\n",
       "      <th>contrast</th>\n",
       "      <th>technicalquality</th>\n",
       "      <th>t_0</th>\n",
       "      <th>delta</th>\n",
       "    </tr>\n",
       "  </thead>\n",
       "  <tbody>\n",
       "    <tr>\n",
       "      <th>0</th>\n",
       "      <td>59653</td>\n",
       "      <td>31038</td>\n",
       "      <td>174978.0</td>\n",
       "      <td>2102-06-14 00:00:00</td>\n",
       "      <td>2102-06-14 13:30:00</td>\n",
       "      <td>Endocarditis.</td>\n",
       "      <td>74.0</td>\n",
       "      <td>165.0</td>\n",
       "      <td>2.00</td>\n",
       "      <td>102/72</td>\n",
       "      <td>102.0</td>\n",
       "      <td>72.0</td>\n",
       "      <td>86.0</td>\n",
       "      <td>Inpatient</td>\n",
       "      <td>Portable TTE (Complete)</td>\n",
       "      <td>Full Doppler and color Doppler</td>\n",
       "      <td>None</td>\n",
       "      <td>Adequate</td>\n",
       "      <td>2102-06-13</td>\n",
       "      <td>1 days 13:30:00.000000000</td>\n",
       "    </tr>\n",
       "    <tr>\n",
       "      <th>1</th>\n",
       "      <td>59654</td>\n",
       "      <td>70150</td>\n",
       "      <td>156140.0</td>\n",
       "      <td>2191-05-10 00:00:00</td>\n",
       "      <td>2191-05-10 15:08:00</td>\n",
       "      <td>CHF, A-FIB</td>\n",
       "      <td>66.0</td>\n",
       "      <td>263.0</td>\n",
       "      <td>2.25</td>\n",
       "      <td>107/81</td>\n",
       "      <td>107.0</td>\n",
       "      <td>81.0</td>\n",
       "      <td>95.0</td>\n",
       "      <td>Outpatient</td>\n",
       "      <td>TTE (Complete)</td>\n",
       "      <td>Full Doppler and color Doppler</td>\n",
       "      <td>None</td>\n",
       "      <td>Suboptimal</td>\n",
       "      <td>2191-05-10</td>\n",
       "      <td>0 days 15:08:00.000000000</td>\n",
       "    </tr>\n",
       "  </tbody>\n",
       "</table>\n",
       "</div>"
      ],
      "text/plain": [
       "   row_id  subject_id   hadm_id            chartdate            charttime  \\\n",
       "0   59653       31038  174978.0  2102-06-14 00:00:00  2102-06-14 13:30:00   \n",
       "1   59654       70150  156140.0  2191-05-10 00:00:00  2191-05-10 15:08:00   \n",
       "\n",
       "      indication  height  weight   bsa      bp  bpsys  bpdias    hr  \\\n",
       "0  Endocarditis.    74.0   165.0  2.00  102/72  102.0    72.0  86.0   \n",
       "1     CHF, A-FIB    66.0   263.0  2.25  107/81  107.0    81.0  95.0   \n",
       "\n",
       "       status                     test                         doppler  \\\n",
       "0   Inpatient  Portable TTE (Complete)  Full Doppler and color Doppler   \n",
       "1  Outpatient           TTE (Complete)  Full Doppler and color Doppler   \n",
       "\n",
       "  contrast technicalquality         t_0                      delta  \n",
       "0     None         Adequate  2102-06-13  1 days 13:30:00.000000000  \n",
       "1     None       Suboptimal  2191-05-10  0 days 15:08:00.000000000  "
      ]
     },
     "execution_count": 21,
     "metadata": {},
     "output_type": "execute_result"
    },
    {
     "name": "stdout",
     "output_type": "stream",
     "text": [
      "time: 21.5 ms\n"
     ]
    }
   ],
   "source": [
    "echodata_72.head(2)"
   ]
  },
  {
   "cell_type": "code",
   "execution_count": 22,
   "metadata": {},
   "outputs": [
    {
     "name": "stdout",
     "output_type": "stream",
     "text": [
      "5421\n",
      "time: 1.86 ms\n"
     ]
    }
   ],
   "source": [
    "#num of icustay_id/hadm_id\n",
    "print(\n",
    "    echodata_72['hadm_id'].nunique(), #5421/15207 unique hadm_id/icustay_id\n",
    ")"
   ]
  },
  {
   "cell_type": "code",
   "execution_count": 23,
   "metadata": {},
   "outputs": [
    {
     "data": {
      "text/html": [
       "<div>\n",
       "<style scoped>\n",
       "    .dataframe tbody tr th:only-of-type {\n",
       "        vertical-align: middle;\n",
       "    }\n",
       "\n",
       "    .dataframe tbody tr th {\n",
       "        vertical-align: top;\n",
       "    }\n",
       "\n",
       "    .dataframe thead th {\n",
       "        text-align: right;\n",
       "    }\n",
       "</style>\n",
       "<table border=\"1\" class=\"dataframe\">\n",
       "  <thead>\n",
       "    <tr style=\"text-align: right;\">\n",
       "      <th></th>\n",
       "      <th>bp</th>\n",
       "      <th>bpdias</th>\n",
       "      <th>bpsys</th>\n",
       "      <th>bsa</th>\n",
       "      <th>hr</th>\n",
       "      <th>test</th>\n",
       "    </tr>\n",
       "  </thead>\n",
       "  <tbody>\n",
       "    <tr>\n",
       "      <th>0</th>\n",
       "      <td>512</td>\n",
       "      <td>524</td>\n",
       "      <td>524</td>\n",
       "      <td>1110</td>\n",
       "      <td>707</td>\n",
       "      <td>0</td>\n",
       "    </tr>\n",
       "  </tbody>\n",
       "</table>\n",
       "</div>"
      ],
      "text/plain": [
       "    bp  bpdias  bpsys   bsa   hr  test\n",
       "0  512     524    524  1110  707     0"
      ]
     },
     "execution_count": 23,
     "metadata": {},
     "output_type": "execute_result"
    },
    {
     "name": "stdout",
     "output_type": "stream",
     "text": [
      "time: 15 ms\n"
     ]
    }
   ],
   "source": [
    "#number of na values\n",
    "\n",
    "pd.DataFrame(\n",
    "    {\n",
    "    'bsa':[echodata_72.loc[echodata_72['bsa'].isna(),'hadm_id'].count()], \n",
    "    'bp': [echodata_72.loc[echodata_72['bp'].isna(),'hadm_id'].count()], \n",
    "    'bpsys': [echodata_72.loc[echodata_72['bpsys'].isna(),'hadm_id'].count()], \n",
    "    'bpdias': [echodata_72.loc[echodata_72['bpdias'].isna(),'hadm_id'].count()],\n",
    "    'hr': [echodata_72.loc[echodata_72['hr'].isna(),'hadm_id'].count()],\n",
    "    'test': [echodata_72.loc[echodata_72['test'].isna(),'hadm_id'].count()]\n",
    "             }\n",
    "            )"
   ]
  },
  {
   "cell_type": "markdown",
   "metadata": {},
   "source": [
    "# NEED TO ASK ABOUT WHICH VALUES ARE MOST IMPORTANT IN THIS"
   ]
  },
  {
   "cell_type": "code",
   "execution_count": 24,
   "metadata": {},
   "outputs": [
    {
     "name": "stdout",
     "output_type": "stream",
     "text": [
      "time: 706 µs\n"
     ]
    }
   ],
   "source": [
    "# missingness_df = pd.concat(\n",
    "#     [missingness_df,\n",
    "#         missingness_fxn(labs_all_nosummary_72,'labs_all_nosummary_72', 'label','icustay_id')]\n",
    "# )"
   ]
  },
  {
   "cell_type": "markdown",
   "metadata": {},
   "source": [
    "### weightfirstday_df x"
   ]
  },
  {
   "cell_type": "code",
   "execution_count": 25,
   "metadata": {},
   "outputs": [
    {
     "name": "stdout",
     "output_type": "stream",
     "text": [
      "time: 19.2 ms\n"
     ]
    }
   ],
   "source": [
    "#delete once done debugging\n",
    "weightfirstday_df=pd.read_csv(\n",
    "    '/Users/geickelb1/Documents/GitHub/mimiciii-antibiotics-modeling/data/raw/csv/72_hr_window/%s_weightfirstday_df.csv' %(date), index_col=0)"
   ]
  },
  {
   "cell_type": "code",
   "execution_count": 26,
   "metadata": {},
   "outputs": [
    {
     "name": "stdout",
     "output_type": "stream",
     "text": [
      "time: 8.89 ms\n"
     ]
    }
   ],
   "source": [
    "#need to reshape the df\n",
    "\n",
    "weightfirstday_df_melt= pd.melt(weightfirstday_df, id_vars='icustay_id', var_name='label')\n",
    "#weightfirstday_df_melt"
   ]
  },
  {
   "cell_type": "code",
   "execution_count": 27,
   "metadata": {},
   "outputs": [
    {
     "name": "stdout",
     "output_type": "stream",
     "text": [
      "15207\n",
      "time: 2.4 ms\n"
     ]
    }
   ],
   "source": [
    "print(\n",
    "    weightfirstday_df_melt['icustay_id'].nunique(), #15207/15207 unique icustay_id/icustay_id\n",
    ")"
   ]
  },
  {
   "cell_type": "code",
   "execution_count": 28,
   "metadata": {},
   "outputs": [
    {
     "data": {
      "text/plain": [
       "39522"
      ]
     },
     "execution_count": 28,
     "metadata": {},
     "output_type": "execute_result"
    },
    {
     "name": "stdout",
     "output_type": "stream",
     "text": [
      "time: 3.91 ms\n"
     ]
    }
   ],
   "source": [
    "#na values\n",
    "weightfirstday_df_melt.loc[weightfirstday_df_melt['value'].isna(),'icustay_id'].count() #1522/15207 do not have any weight, 39522 total null rows."
   ]
  },
  {
   "cell_type": "code",
   "execution_count": 29,
   "metadata": {},
   "outputs": [
    {
     "name": "stdout",
     "output_type": "stream",
     "text": [
      "time: 14.5 ms\n"
     ]
    }
   ],
   "source": [
    "#missingness df\n",
    "missingness_df = pd.concat(\n",
    "    [missingness_df,\n",
    "        missingness_fxn(weightfirstday_df_melt.loc[weightfirstday_df_melt['value'].notnull(),:],'weightfirstday_df', 'label','icustay_id')]\n",
    ")"
   ]
  },
  {
   "cell_type": "code",
   "execution_count": 30,
   "metadata": {},
   "outputs": [
    {
     "data": {
      "text/html": [
       "<div>\n",
       "<style scoped>\n",
       "    .dataframe tbody tr th:only-of-type {\n",
       "        vertical-align: middle;\n",
       "    }\n",
       "\n",
       "    .dataframe tbody tr th {\n",
       "        vertical-align: top;\n",
       "    }\n",
       "\n",
       "    .dataframe thead th {\n",
       "        text-align: right;\n",
       "    }\n",
       "</style>\n",
       "<table border=\"1\" class=\"dataframe\">\n",
       "  <thead>\n",
       "    <tr style=\"text-align: right;\">\n",
       "      <th></th>\n",
       "      <th>label</th>\n",
       "      <th>%missingness</th>\n",
       "      <th>source</th>\n",
       "      <th>data_label</th>\n",
       "    </tr>\n",
       "  </thead>\n",
       "  <tbody>\n",
       "    <tr>\n",
       "      <th>0</th>\n",
       "      <td>ALBUMIN</td>\n",
       "      <td>54.060630</td>\n",
       "      <td>labs_all_nosummary_72</td>\n",
       "      <td>label</td>\n",
       "    </tr>\n",
       "    <tr>\n",
       "      <th>1</th>\n",
       "      <td>ANION GAP</td>\n",
       "      <td>0.710199</td>\n",
       "      <td>labs_all_nosummary_72</td>\n",
       "      <td>label</td>\n",
       "    </tr>\n",
       "    <tr>\n",
       "      <th>2</th>\n",
       "      <td>BANDS</td>\n",
       "      <td>83.231407</td>\n",
       "      <td>labs_all_nosummary_72</td>\n",
       "      <td>label</td>\n",
       "    </tr>\n",
       "    <tr>\n",
       "      <th>3</th>\n",
       "      <td>BICARBONATE</td>\n",
       "      <td>0.637864</td>\n",
       "      <td>labs_all_nosummary_72</td>\n",
       "      <td>label</td>\n",
       "    </tr>\n",
       "    <tr>\n",
       "      <th>4</th>\n",
       "      <td>BILIRUBIN</td>\n",
       "      <td>44.933254</td>\n",
       "      <td>labs_all_nosummary_72</td>\n",
       "      <td>label</td>\n",
       "    </tr>\n",
       "    <tr>\n",
       "      <th>5</th>\n",
       "      <td>BUN</td>\n",
       "      <td>0.611560</td>\n",
       "      <td>labs_all_nosummary_72</td>\n",
       "      <td>label</td>\n",
       "    </tr>\n",
       "    <tr>\n",
       "      <th>6</th>\n",
       "      <td>CHLORIDE</td>\n",
       "      <td>0.598409</td>\n",
       "      <td>labs_all_nosummary_72</td>\n",
       "      <td>label</td>\n",
       "    </tr>\n",
       "    <tr>\n",
       "      <th>7</th>\n",
       "      <td>CREATININE</td>\n",
       "      <td>0.598409</td>\n",
       "      <td>labs_all_nosummary_72</td>\n",
       "      <td>label</td>\n",
       "    </tr>\n",
       "    <tr>\n",
       "      <th>8</th>\n",
       "      <td>GLUCOSE</td>\n",
       "      <td>0.585257</td>\n",
       "      <td>labs_all_nosummary_72</td>\n",
       "      <td>label</td>\n",
       "    </tr>\n",
       "    <tr>\n",
       "      <th>9</th>\n",
       "      <td>HEMATOCRIT</td>\n",
       "      <td>0.624712</td>\n",
       "      <td>labs_all_nosummary_72</td>\n",
       "      <td>label</td>\n",
       "    </tr>\n",
       "    <tr>\n",
       "      <th>10</th>\n",
       "      <td>HEMOGLOBIN</td>\n",
       "      <td>0.670744</td>\n",
       "      <td>labs_all_nosummary_72</td>\n",
       "      <td>label</td>\n",
       "    </tr>\n",
       "    <tr>\n",
       "      <th>11</th>\n",
       "      <td>INR</td>\n",
       "      <td>13.125534</td>\n",
       "      <td>labs_all_nosummary_72</td>\n",
       "      <td>label</td>\n",
       "    </tr>\n",
       "    <tr>\n",
       "      <th>12</th>\n",
       "      <td>LACTATE</td>\n",
       "      <td>39.376603</td>\n",
       "      <td>labs_all_nosummary_72</td>\n",
       "      <td>label</td>\n",
       "    </tr>\n",
       "    <tr>\n",
       "      <th>13</th>\n",
       "      <td>PLATELET</td>\n",
       "      <td>0.690471</td>\n",
       "      <td>labs_all_nosummary_72</td>\n",
       "      <td>label</td>\n",
       "    </tr>\n",
       "    <tr>\n",
       "      <th>14</th>\n",
       "      <td>POTASSIUM</td>\n",
       "      <td>0.552377</td>\n",
       "      <td>labs_all_nosummary_72</td>\n",
       "      <td>label</td>\n",
       "    </tr>\n",
       "    <tr>\n",
       "      <th>15</th>\n",
       "      <td>PT</td>\n",
       "      <td>13.105807</td>\n",
       "      <td>labs_all_nosummary_72</td>\n",
       "      <td>label</td>\n",
       "    </tr>\n",
       "    <tr>\n",
       "      <th>16</th>\n",
       "      <td>PTT</td>\n",
       "      <td>13.533241</td>\n",
       "      <td>labs_all_nosummary_72</td>\n",
       "      <td>label</td>\n",
       "    </tr>\n",
       "    <tr>\n",
       "      <th>17</th>\n",
       "      <td>SODIUM</td>\n",
       "      <td>0.585257</td>\n",
       "      <td>labs_all_nosummary_72</td>\n",
       "      <td>label</td>\n",
       "    </tr>\n",
       "    <tr>\n",
       "      <th>18</th>\n",
       "      <td>WBC</td>\n",
       "      <td>0.657592</td>\n",
       "      <td>labs_all_nosummary_72</td>\n",
       "      <td>label</td>\n",
       "    </tr>\n",
       "    <tr>\n",
       "      <th>0</th>\n",
       "      <td>dobutamine</td>\n",
       "      <td>98.421779</td>\n",
       "      <td>vaso_dose_72</td>\n",
       "      <td>label</td>\n",
       "    </tr>\n",
       "    <tr>\n",
       "      <th>1</th>\n",
       "      <td>dopamine</td>\n",
       "      <td>94.226343</td>\n",
       "      <td>vaso_dose_72</td>\n",
       "      <td>label</td>\n",
       "    </tr>\n",
       "    <tr>\n",
       "      <th>2</th>\n",
       "      <td>epinephrine</td>\n",
       "      <td>97.968041</td>\n",
       "      <td>vaso_dose_72</td>\n",
       "      <td>label</td>\n",
       "    </tr>\n",
       "    <tr>\n",
       "      <th>3</th>\n",
       "      <td>norepinephrine</td>\n",
       "      <td>80.686526</td>\n",
       "      <td>vaso_dose_72</td>\n",
       "      <td>label</td>\n",
       "    </tr>\n",
       "    <tr>\n",
       "      <th>4</th>\n",
       "      <td>phenylephrine</td>\n",
       "      <td>84.540014</td>\n",
       "      <td>vaso_dose_72</td>\n",
       "      <td>label</td>\n",
       "    </tr>\n",
       "    <tr>\n",
       "      <th>5</th>\n",
       "      <td>vasopressin</td>\n",
       "      <td>94.456500</td>\n",
       "      <td>vaso_dose_72</td>\n",
       "      <td>label</td>\n",
       "    </tr>\n",
       "    <tr>\n",
       "      <th>0</th>\n",
       "      <td>vent_day1</td>\n",
       "      <td>0.000000</td>\n",
       "      <td>ventcategory_df</td>\n",
       "      <td>label</td>\n",
       "    </tr>\n",
       "    <tr>\n",
       "      <th>1</th>\n",
       "      <td>vent_day2</td>\n",
       "      <td>0.000000</td>\n",
       "      <td>ventcategory_df</td>\n",
       "      <td>label</td>\n",
       "    </tr>\n",
       "    <tr>\n",
       "      <th>2</th>\n",
       "      <td>vent_day3</td>\n",
       "      <td>0.000000</td>\n",
       "      <td>ventcategory_df</td>\n",
       "      <td>label</td>\n",
       "    </tr>\n",
       "    <tr>\n",
       "      <th>0</th>\n",
       "      <td>weight</td>\n",
       "      <td>10.008549</td>\n",
       "      <td>weightfirstday_df</td>\n",
       "      <td>label</td>\n",
       "    </tr>\n",
       "    <tr>\n",
       "      <th>1</th>\n",
       "      <td>weight_admit</td>\n",
       "      <td>24.738607</td>\n",
       "      <td>weightfirstday_df</td>\n",
       "      <td>label</td>\n",
       "    </tr>\n",
       "    <tr>\n",
       "      <th>2</th>\n",
       "      <td>weight_daily</td>\n",
       "      <td>53.015059</td>\n",
       "      <td>weightfirstday_df</td>\n",
       "      <td>label</td>\n",
       "    </tr>\n",
       "    <tr>\n",
       "      <th>3</th>\n",
       "      <td>weight_echoinhosp</td>\n",
       "      <td>75.688828</td>\n",
       "      <td>weightfirstday_df</td>\n",
       "      <td>label</td>\n",
       "    </tr>\n",
       "    <tr>\n",
       "      <th>4</th>\n",
       "      <td>weight_echoprehosp</td>\n",
       "      <td>96.442428</td>\n",
       "      <td>weightfirstday_df</td>\n",
       "      <td>label</td>\n",
       "    </tr>\n",
       "  </tbody>\n",
       "</table>\n",
       "</div>"
      ],
      "text/plain": [
       "                 label  %missingness                 source data_label\n",
       "0              ALBUMIN     54.060630  labs_all_nosummary_72      label\n",
       "1            ANION GAP      0.710199  labs_all_nosummary_72      label\n",
       "2                BANDS     83.231407  labs_all_nosummary_72      label\n",
       "3          BICARBONATE      0.637864  labs_all_nosummary_72      label\n",
       "4            BILIRUBIN     44.933254  labs_all_nosummary_72      label\n",
       "5                  BUN      0.611560  labs_all_nosummary_72      label\n",
       "6             CHLORIDE      0.598409  labs_all_nosummary_72      label\n",
       "7           CREATININE      0.598409  labs_all_nosummary_72      label\n",
       "8              GLUCOSE      0.585257  labs_all_nosummary_72      label\n",
       "9           HEMATOCRIT      0.624712  labs_all_nosummary_72      label\n",
       "10          HEMOGLOBIN      0.670744  labs_all_nosummary_72      label\n",
       "11                 INR     13.125534  labs_all_nosummary_72      label\n",
       "12             LACTATE     39.376603  labs_all_nosummary_72      label\n",
       "13            PLATELET      0.690471  labs_all_nosummary_72      label\n",
       "14           POTASSIUM      0.552377  labs_all_nosummary_72      label\n",
       "15                  PT     13.105807  labs_all_nosummary_72      label\n",
       "16                 PTT     13.533241  labs_all_nosummary_72      label\n",
       "17              SODIUM      0.585257  labs_all_nosummary_72      label\n",
       "18                 WBC      0.657592  labs_all_nosummary_72      label\n",
       "0           dobutamine     98.421779           vaso_dose_72      label\n",
       "1             dopamine     94.226343           vaso_dose_72      label\n",
       "2          epinephrine     97.968041           vaso_dose_72      label\n",
       "3       norepinephrine     80.686526           vaso_dose_72      label\n",
       "4        phenylephrine     84.540014           vaso_dose_72      label\n",
       "5          vasopressin     94.456500           vaso_dose_72      label\n",
       "0            vent_day1      0.000000        ventcategory_df      label\n",
       "1            vent_day2      0.000000        ventcategory_df      label\n",
       "2            vent_day3      0.000000        ventcategory_df      label\n",
       "0               weight     10.008549      weightfirstday_df      label\n",
       "1         weight_admit     24.738607      weightfirstday_df      label\n",
       "2         weight_daily     53.015059      weightfirstday_df      label\n",
       "3    weight_echoinhosp     75.688828      weightfirstday_df      label\n",
       "4   weight_echoprehosp     96.442428      weightfirstday_df      label"
      ]
     },
     "execution_count": 30,
     "metadata": {},
     "output_type": "execute_result"
    },
    {
     "name": "stdout",
     "output_type": "stream",
     "text": [
      "time: 12.8 ms\n"
     ]
    }
   ],
   "source": [
    "missingness_df"
   ]
  },
  {
   "cell_type": "markdown",
   "metadata": {},
   "source": [
    "### heightfirstday_df x"
   ]
  },
  {
   "cell_type": "code",
   "execution_count": 31,
   "metadata": {},
   "outputs": [
    {
     "data": {
      "text/html": [
       "<div>\n",
       "<style scoped>\n",
       "    .dataframe tbody tr th:only-of-type {\n",
       "        vertical-align: middle;\n",
       "    }\n",
       "\n",
       "    .dataframe tbody tr th {\n",
       "        vertical-align: top;\n",
       "    }\n",
       "\n",
       "    .dataframe thead th {\n",
       "        text-align: right;\n",
       "    }\n",
       "</style>\n",
       "<table border=\"1\" class=\"dataframe\">\n",
       "  <thead>\n",
       "    <tr style=\"text-align: right;\">\n",
       "      <th></th>\n",
       "      <th>icustay_id</th>\n",
       "      <th>height</th>\n",
       "      <th>height_chart</th>\n",
       "      <th>height_echo</th>\n",
       "    </tr>\n",
       "  </thead>\n",
       "  <tbody>\n",
       "    <tr>\n",
       "      <th>4</th>\n",
       "      <td>216859</td>\n",
       "      <td>172.72</td>\n",
       "      <td>NaN</td>\n",
       "      <td>172.72</td>\n",
       "    </tr>\n",
       "    <tr>\n",
       "      <th>5</th>\n",
       "      <td>203487</td>\n",
       "      <td>185.42</td>\n",
       "      <td>185.42</td>\n",
       "      <td>182.88</td>\n",
       "    </tr>\n",
       "  </tbody>\n",
       "</table>\n",
       "</div>"
      ],
      "text/plain": [
       "   icustay_id  height  height_chart  height_echo\n",
       "4      216859  172.72           NaN       172.72\n",
       "5      203487  185.42        185.42       182.88"
      ]
     },
     "execution_count": 31,
     "metadata": {},
     "output_type": "execute_result"
    },
    {
     "name": "stdout",
     "output_type": "stream",
     "text": [
      "time: 7.2 ms\n"
     ]
    }
   ],
   "source": [
    "heightfirstday_df.head(2)"
   ]
  },
  {
   "cell_type": "code",
   "execution_count": 32,
   "metadata": {},
   "outputs": [
    {
     "name": "stdout",
     "output_type": "stream",
     "text": [
      "time: 4.35 ms\n"
     ]
    }
   ],
   "source": [
    "#need to reshape the df\n",
    "heightfirstday_df_melt= pd.melt(heightfirstday_df, id_vars='icustay_id', var_name='label')"
   ]
  },
  {
   "cell_type": "code",
   "execution_count": 33,
   "metadata": {},
   "outputs": [
    {
     "name": "stdout",
     "output_type": "stream",
     "text": [
      "15207\n",
      "time: 2.31 ms\n"
     ]
    }
   ],
   "source": [
    "print(\n",
    "    heightfirstday_df_melt['icustay_id'].nunique(), #15207/15207 unique icustay_id/icustay_id\n",
    ")"
   ]
  },
  {
   "cell_type": "code",
   "execution_count": 34,
   "metadata": {},
   "outputs": [
    {
     "name": "stdout",
     "output_type": "stream",
     "text": [
      "22776 5212\n",
      "time: 3.69 ms\n"
     ]
    }
   ],
   "source": [
    "#na values\n",
    "print(\n",
    "    heightfirstday_df_melt.loc[heightfirstday_df_melt['value'].isna(),'icustay_id'].count(), #22776 total null rows.\n",
    "    heightfirstday_df.loc[heightfirstday_df['height'].isna(),'icustay_id'].count() #5212/15207 do not have any weight,\n",
    ")"
   ]
  },
  {
   "cell_type": "code",
   "execution_count": 35,
   "metadata": {},
   "outputs": [
    {
     "name": "stdout",
     "output_type": "stream",
     "text": [
      "time: 11.8 ms\n"
     ]
    }
   ],
   "source": [
    "#missingness df\n",
    "missingness_df = pd.concat(\n",
    "    [missingness_df,\n",
    "        missingness_fxn(heightfirstday_df_melt.loc[heightfirstday_df_melt['value'].notnull(),:],'heightfirstday_df', 'label','icustay_id')]\n",
    ")"
   ]
  },
  {
   "cell_type": "code",
   "execution_count": 36,
   "metadata": {},
   "outputs": [
    {
     "data": {
      "text/html": [
       "<div>\n",
       "<style scoped>\n",
       "    .dataframe tbody tr th:only-of-type {\n",
       "        vertical-align: middle;\n",
       "    }\n",
       "\n",
       "    .dataframe tbody tr th {\n",
       "        vertical-align: top;\n",
       "    }\n",
       "\n",
       "    .dataframe thead th {\n",
       "        text-align: right;\n",
       "    }\n",
       "</style>\n",
       "<table border=\"1\" class=\"dataframe\">\n",
       "  <thead>\n",
       "    <tr style=\"text-align: right;\">\n",
       "      <th></th>\n",
       "      <th>label</th>\n",
       "      <th>%missingness</th>\n",
       "      <th>source</th>\n",
       "      <th>data_label</th>\n",
       "    </tr>\n",
       "  </thead>\n",
       "  <tbody>\n",
       "    <tr>\n",
       "      <th>0</th>\n",
       "      <td>ALBUMIN</td>\n",
       "      <td>54.060630</td>\n",
       "      <td>labs_all_nosummary_72</td>\n",
       "      <td>label</td>\n",
       "    </tr>\n",
       "    <tr>\n",
       "      <th>1</th>\n",
       "      <td>ANION GAP</td>\n",
       "      <td>0.710199</td>\n",
       "      <td>labs_all_nosummary_72</td>\n",
       "      <td>label</td>\n",
       "    </tr>\n",
       "    <tr>\n",
       "      <th>2</th>\n",
       "      <td>BANDS</td>\n",
       "      <td>83.231407</td>\n",
       "      <td>labs_all_nosummary_72</td>\n",
       "      <td>label</td>\n",
       "    </tr>\n",
       "    <tr>\n",
       "      <th>3</th>\n",
       "      <td>BICARBONATE</td>\n",
       "      <td>0.637864</td>\n",
       "      <td>labs_all_nosummary_72</td>\n",
       "      <td>label</td>\n",
       "    </tr>\n",
       "    <tr>\n",
       "      <th>4</th>\n",
       "      <td>BILIRUBIN</td>\n",
       "      <td>44.933254</td>\n",
       "      <td>labs_all_nosummary_72</td>\n",
       "      <td>label</td>\n",
       "    </tr>\n",
       "    <tr>\n",
       "      <th>5</th>\n",
       "      <td>BUN</td>\n",
       "      <td>0.611560</td>\n",
       "      <td>labs_all_nosummary_72</td>\n",
       "      <td>label</td>\n",
       "    </tr>\n",
       "    <tr>\n",
       "      <th>6</th>\n",
       "      <td>CHLORIDE</td>\n",
       "      <td>0.598409</td>\n",
       "      <td>labs_all_nosummary_72</td>\n",
       "      <td>label</td>\n",
       "    </tr>\n",
       "    <tr>\n",
       "      <th>7</th>\n",
       "      <td>CREATININE</td>\n",
       "      <td>0.598409</td>\n",
       "      <td>labs_all_nosummary_72</td>\n",
       "      <td>label</td>\n",
       "    </tr>\n",
       "    <tr>\n",
       "      <th>8</th>\n",
       "      <td>GLUCOSE</td>\n",
       "      <td>0.585257</td>\n",
       "      <td>labs_all_nosummary_72</td>\n",
       "      <td>label</td>\n",
       "    </tr>\n",
       "    <tr>\n",
       "      <th>9</th>\n",
       "      <td>HEMATOCRIT</td>\n",
       "      <td>0.624712</td>\n",
       "      <td>labs_all_nosummary_72</td>\n",
       "      <td>label</td>\n",
       "    </tr>\n",
       "    <tr>\n",
       "      <th>10</th>\n",
       "      <td>HEMOGLOBIN</td>\n",
       "      <td>0.670744</td>\n",
       "      <td>labs_all_nosummary_72</td>\n",
       "      <td>label</td>\n",
       "    </tr>\n",
       "    <tr>\n",
       "      <th>11</th>\n",
       "      <td>INR</td>\n",
       "      <td>13.125534</td>\n",
       "      <td>labs_all_nosummary_72</td>\n",
       "      <td>label</td>\n",
       "    </tr>\n",
       "    <tr>\n",
       "      <th>12</th>\n",
       "      <td>LACTATE</td>\n",
       "      <td>39.376603</td>\n",
       "      <td>labs_all_nosummary_72</td>\n",
       "      <td>label</td>\n",
       "    </tr>\n",
       "    <tr>\n",
       "      <th>13</th>\n",
       "      <td>PLATELET</td>\n",
       "      <td>0.690471</td>\n",
       "      <td>labs_all_nosummary_72</td>\n",
       "      <td>label</td>\n",
       "    </tr>\n",
       "    <tr>\n",
       "      <th>14</th>\n",
       "      <td>POTASSIUM</td>\n",
       "      <td>0.552377</td>\n",
       "      <td>labs_all_nosummary_72</td>\n",
       "      <td>label</td>\n",
       "    </tr>\n",
       "    <tr>\n",
       "      <th>15</th>\n",
       "      <td>PT</td>\n",
       "      <td>13.105807</td>\n",
       "      <td>labs_all_nosummary_72</td>\n",
       "      <td>label</td>\n",
       "    </tr>\n",
       "    <tr>\n",
       "      <th>16</th>\n",
       "      <td>PTT</td>\n",
       "      <td>13.533241</td>\n",
       "      <td>labs_all_nosummary_72</td>\n",
       "      <td>label</td>\n",
       "    </tr>\n",
       "    <tr>\n",
       "      <th>17</th>\n",
       "      <td>SODIUM</td>\n",
       "      <td>0.585257</td>\n",
       "      <td>labs_all_nosummary_72</td>\n",
       "      <td>label</td>\n",
       "    </tr>\n",
       "    <tr>\n",
       "      <th>18</th>\n",
       "      <td>WBC</td>\n",
       "      <td>0.657592</td>\n",
       "      <td>labs_all_nosummary_72</td>\n",
       "      <td>label</td>\n",
       "    </tr>\n",
       "    <tr>\n",
       "      <th>0</th>\n",
       "      <td>dobutamine</td>\n",
       "      <td>98.421779</td>\n",
       "      <td>vaso_dose_72</td>\n",
       "      <td>label</td>\n",
       "    </tr>\n",
       "    <tr>\n",
       "      <th>1</th>\n",
       "      <td>dopamine</td>\n",
       "      <td>94.226343</td>\n",
       "      <td>vaso_dose_72</td>\n",
       "      <td>label</td>\n",
       "    </tr>\n",
       "    <tr>\n",
       "      <th>2</th>\n",
       "      <td>epinephrine</td>\n",
       "      <td>97.968041</td>\n",
       "      <td>vaso_dose_72</td>\n",
       "      <td>label</td>\n",
       "    </tr>\n",
       "    <tr>\n",
       "      <th>3</th>\n",
       "      <td>norepinephrine</td>\n",
       "      <td>80.686526</td>\n",
       "      <td>vaso_dose_72</td>\n",
       "      <td>label</td>\n",
       "    </tr>\n",
       "    <tr>\n",
       "      <th>4</th>\n",
       "      <td>phenylephrine</td>\n",
       "      <td>84.540014</td>\n",
       "      <td>vaso_dose_72</td>\n",
       "      <td>label</td>\n",
       "    </tr>\n",
       "    <tr>\n",
       "      <th>5</th>\n",
       "      <td>vasopressin</td>\n",
       "      <td>94.456500</td>\n",
       "      <td>vaso_dose_72</td>\n",
       "      <td>label</td>\n",
       "    </tr>\n",
       "    <tr>\n",
       "      <th>0</th>\n",
       "      <td>vent_day1</td>\n",
       "      <td>0.000000</td>\n",
       "      <td>ventcategory_df</td>\n",
       "      <td>label</td>\n",
       "    </tr>\n",
       "    <tr>\n",
       "      <th>1</th>\n",
       "      <td>vent_day2</td>\n",
       "      <td>0.000000</td>\n",
       "      <td>ventcategory_df</td>\n",
       "      <td>label</td>\n",
       "    </tr>\n",
       "    <tr>\n",
       "      <th>2</th>\n",
       "      <td>vent_day3</td>\n",
       "      <td>0.000000</td>\n",
       "      <td>ventcategory_df</td>\n",
       "      <td>label</td>\n",
       "    </tr>\n",
       "    <tr>\n",
       "      <th>0</th>\n",
       "      <td>weight</td>\n",
       "      <td>10.008549</td>\n",
       "      <td>weightfirstday_df</td>\n",
       "      <td>label</td>\n",
       "    </tr>\n",
       "    <tr>\n",
       "      <th>1</th>\n",
       "      <td>weight_admit</td>\n",
       "      <td>24.738607</td>\n",
       "      <td>weightfirstday_df</td>\n",
       "      <td>label</td>\n",
       "    </tr>\n",
       "    <tr>\n",
       "      <th>2</th>\n",
       "      <td>weight_daily</td>\n",
       "      <td>53.015059</td>\n",
       "      <td>weightfirstday_df</td>\n",
       "      <td>label</td>\n",
       "    </tr>\n",
       "    <tr>\n",
       "      <th>3</th>\n",
       "      <td>weight_echoinhosp</td>\n",
       "      <td>75.688828</td>\n",
       "      <td>weightfirstday_df</td>\n",
       "      <td>label</td>\n",
       "    </tr>\n",
       "    <tr>\n",
       "      <th>4</th>\n",
       "      <td>weight_echoprehosp</td>\n",
       "      <td>96.442428</td>\n",
       "      <td>weightfirstday_df</td>\n",
       "      <td>label</td>\n",
       "    </tr>\n",
       "    <tr>\n",
       "      <th>0</th>\n",
       "      <td>height</td>\n",
       "      <td>34.273690</td>\n",
       "      <td>heightfirstday_df</td>\n",
       "      <td>label</td>\n",
       "    </tr>\n",
       "    <tr>\n",
       "      <th>1</th>\n",
       "      <td>height_chart</td>\n",
       "      <td>65.772342</td>\n",
       "      <td>heightfirstday_df</td>\n",
       "      <td>label</td>\n",
       "    </tr>\n",
       "    <tr>\n",
       "      <th>2</th>\n",
       "      <td>height_echo</td>\n",
       "      <td>49.727099</td>\n",
       "      <td>heightfirstday_df</td>\n",
       "      <td>label</td>\n",
       "    </tr>\n",
       "  </tbody>\n",
       "</table>\n",
       "</div>"
      ],
      "text/plain": [
       "                 label  %missingness                 source data_label\n",
       "0              ALBUMIN     54.060630  labs_all_nosummary_72      label\n",
       "1            ANION GAP      0.710199  labs_all_nosummary_72      label\n",
       "2                BANDS     83.231407  labs_all_nosummary_72      label\n",
       "3          BICARBONATE      0.637864  labs_all_nosummary_72      label\n",
       "4            BILIRUBIN     44.933254  labs_all_nosummary_72      label\n",
       "5                  BUN      0.611560  labs_all_nosummary_72      label\n",
       "6             CHLORIDE      0.598409  labs_all_nosummary_72      label\n",
       "7           CREATININE      0.598409  labs_all_nosummary_72      label\n",
       "8              GLUCOSE      0.585257  labs_all_nosummary_72      label\n",
       "9           HEMATOCRIT      0.624712  labs_all_nosummary_72      label\n",
       "10          HEMOGLOBIN      0.670744  labs_all_nosummary_72      label\n",
       "11                 INR     13.125534  labs_all_nosummary_72      label\n",
       "12             LACTATE     39.376603  labs_all_nosummary_72      label\n",
       "13            PLATELET      0.690471  labs_all_nosummary_72      label\n",
       "14           POTASSIUM      0.552377  labs_all_nosummary_72      label\n",
       "15                  PT     13.105807  labs_all_nosummary_72      label\n",
       "16                 PTT     13.533241  labs_all_nosummary_72      label\n",
       "17              SODIUM      0.585257  labs_all_nosummary_72      label\n",
       "18                 WBC      0.657592  labs_all_nosummary_72      label\n",
       "0           dobutamine     98.421779           vaso_dose_72      label\n",
       "1             dopamine     94.226343           vaso_dose_72      label\n",
       "2          epinephrine     97.968041           vaso_dose_72      label\n",
       "3       norepinephrine     80.686526           vaso_dose_72      label\n",
       "4        phenylephrine     84.540014           vaso_dose_72      label\n",
       "5          vasopressin     94.456500           vaso_dose_72      label\n",
       "0            vent_day1      0.000000        ventcategory_df      label\n",
       "1            vent_day2      0.000000        ventcategory_df      label\n",
       "2            vent_day3      0.000000        ventcategory_df      label\n",
       "0               weight     10.008549      weightfirstday_df      label\n",
       "1         weight_admit     24.738607      weightfirstday_df      label\n",
       "2         weight_daily     53.015059      weightfirstday_df      label\n",
       "3    weight_echoinhosp     75.688828      weightfirstday_df      label\n",
       "4   weight_echoprehosp     96.442428      weightfirstday_df      label\n",
       "0               height     34.273690      heightfirstday_df      label\n",
       "1         height_chart     65.772342      heightfirstday_df      label\n",
       "2          height_echo     49.727099      heightfirstday_df      label"
      ]
     },
     "execution_count": 36,
     "metadata": {},
     "output_type": "execute_result"
    },
    {
     "name": "stdout",
     "output_type": "stream",
     "text": [
      "time: 12.6 ms\n"
     ]
    }
   ],
   "source": [
    "missingness_df"
   ]
  },
  {
   "cell_type": "markdown",
   "metadata": {},
   "source": [
    "### vitals_all_nosummary_72 x"
   ]
  },
  {
   "cell_type": "code",
   "execution_count": 37,
   "metadata": {},
   "outputs": [
    {
     "data": {
      "text/html": [
       "<div>\n",
       "<style scoped>\n",
       "    .dataframe tbody tr th:only-of-type {\n",
       "        vertical-align: middle;\n",
       "    }\n",
       "\n",
       "    .dataframe tbody tr th {\n",
       "        vertical-align: top;\n",
       "    }\n",
       "\n",
       "    .dataframe thead th {\n",
       "        text-align: right;\n",
       "    }\n",
       "</style>\n",
       "<table border=\"1\" class=\"dataframe\">\n",
       "  <thead>\n",
       "    <tr style=\"text-align: right;\">\n",
       "      <th></th>\n",
       "      <th>subject_id</th>\n",
       "      <th>hadm_id</th>\n",
       "      <th>icustay_id</th>\n",
       "      <th>charttime</th>\n",
       "      <th>vitalid</th>\n",
       "      <th>valuenum</th>\n",
       "      <th>t_0</th>\n",
       "      <th>delta</th>\n",
       "    </tr>\n",
       "  </thead>\n",
       "  <tbody>\n",
       "    <tr>\n",
       "      <th>5</th>\n",
       "      <td>9</td>\n",
       "      <td>150750</td>\n",
       "      <td>220597</td>\n",
       "      <td>2149-11-13 15:20:00</td>\n",
       "      <td>MeanArtPress</td>\n",
       "      <td>61.0</td>\n",
       "      <td>2149-11-13</td>\n",
       "      <td>0 days 15:20:00.000000000</td>\n",
       "    </tr>\n",
       "    <tr>\n",
       "      <th>6</th>\n",
       "      <td>9</td>\n",
       "      <td>150750</td>\n",
       "      <td>220597</td>\n",
       "      <td>2149-11-14 11:00:00</td>\n",
       "      <td>MeanArtPress</td>\n",
       "      <td>103.0</td>\n",
       "      <td>2149-11-13</td>\n",
       "      <td>1 days 11:00:00.000000000</td>\n",
       "    </tr>\n",
       "  </tbody>\n",
       "</table>\n",
       "</div>"
      ],
      "text/plain": [
       "   subject_id  hadm_id  icustay_id            charttime       vitalid  \\\n",
       "5           9   150750      220597  2149-11-13 15:20:00  MeanArtPress   \n",
       "6           9   150750      220597  2149-11-14 11:00:00  MeanArtPress   \n",
       "\n",
       "   valuenum         t_0                      delta  \n",
       "5      61.0  2149-11-13  0 days 15:20:00.000000000  \n",
       "6     103.0  2149-11-13  1 days 11:00:00.000000000  "
      ]
     },
     "execution_count": 37,
     "metadata": {},
     "output_type": "execute_result"
    },
    {
     "name": "stdout",
     "output_type": "stream",
     "text": [
      "time: 9.59 ms\n"
     ]
    }
   ],
   "source": [
    "vitals_all_nosummary_72.head(2)"
   ]
  },
  {
   "cell_type": "code",
   "execution_count": 38,
   "metadata": {},
   "outputs": [
    {
     "name": "stdout",
     "output_type": "stream",
     "text": [
      "time: 1.36 s\n"
     ]
    }
   ],
   "source": [
    "#na values\n",
    "vitals_all_nosummary_72.loc[vitals_all_nosummary_72['vitalid'].notnull(),:]#.count() #6930 NULL values\n",
    "\n",
    "vitals_all_nosummary_nonull= vitals_all_nosummary_72.loc[vitals_all_nosummary_72['vitalid'].notnull(),:]#.count() #6930 NULL values\n",
    "\n",
    "#why do i have null vitalid's with actual values? need to dive into the sql.\n",
    "###it looks like it may just extract a lot of values as null that are not relevant, can filter these out"
   ]
  },
  {
   "cell_type": "code",
   "execution_count": 39,
   "metadata": {},
   "outputs": [
    {
     "name": "stdout",
     "output_type": "stream",
     "text": [
      "14714\n",
      "time: 35.8 ms\n"
     ]
    }
   ],
   "source": [
    "print(\n",
    "    vitals_all_nosummary_nonull['icustay_id'].nunique(), #14714/15207 unique icustay_id/icustay_id\n",
    ")"
   ]
  },
  {
   "cell_type": "code",
   "execution_count": 40,
   "metadata": {},
   "outputs": [
    {
     "data": {
      "text/html": [
       "<div>\n",
       "<style scoped>\n",
       "    .dataframe tbody tr th:only-of-type {\n",
       "        vertical-align: middle;\n",
       "    }\n",
       "\n",
       "    .dataframe tbody tr th {\n",
       "        vertical-align: top;\n",
       "    }\n",
       "\n",
       "    .dataframe thead th {\n",
       "        text-align: right;\n",
       "    }\n",
       "</style>\n",
       "<table border=\"1\" class=\"dataframe\">\n",
       "  <thead>\n",
       "    <tr style=\"text-align: right;\">\n",
       "      <th></th>\n",
       "      <th>subject_id</th>\n",
       "      <th>hadm_id</th>\n",
       "      <th>icustay_id</th>\n",
       "      <th>charttime</th>\n",
       "      <th>vitalid</th>\n",
       "      <th>valuenum</th>\n",
       "      <th>t_0</th>\n",
       "      <th>delta</th>\n",
       "    </tr>\n",
       "  </thead>\n",
       "  <tbody>\n",
       "    <tr>\n",
       "      <th>5</th>\n",
       "      <td>9</td>\n",
       "      <td>150750</td>\n",
       "      <td>220597</td>\n",
       "      <td>2149-11-13 15:20:00</td>\n",
       "      <td>MeanArtPress</td>\n",
       "      <td>61.0</td>\n",
       "      <td>2149-11-13</td>\n",
       "      <td>0 days 15:20:00.000000000</td>\n",
       "    </tr>\n",
       "    <tr>\n",
       "      <th>6</th>\n",
       "      <td>9</td>\n",
       "      <td>150750</td>\n",
       "      <td>220597</td>\n",
       "      <td>2149-11-14 11:00:00</td>\n",
       "      <td>MeanArtPress</td>\n",
       "      <td>103.0</td>\n",
       "      <td>2149-11-13</td>\n",
       "      <td>1 days 11:00:00.000000000</td>\n",
       "    </tr>\n",
       "    <tr>\n",
       "      <th>7</th>\n",
       "      <td>9</td>\n",
       "      <td>150750</td>\n",
       "      <td>220597</td>\n",
       "      <td>2149-11-14 12:00:00</td>\n",
       "      <td>MeanArtPress</td>\n",
       "      <td>134.0</td>\n",
       "      <td>2149-11-13</td>\n",
       "      <td>1 days 12:00:00.000000000</td>\n",
       "    </tr>\n",
       "    <tr>\n",
       "      <th>12</th>\n",
       "      <td>9</td>\n",
       "      <td>150750</td>\n",
       "      <td>220597</td>\n",
       "      <td>2149-11-13 07:00:00</td>\n",
       "      <td>MeanArtPress</td>\n",
       "      <td>85.0</td>\n",
       "      <td>2149-11-13</td>\n",
       "      <td>0 days 07:00:00.000000000</td>\n",
       "    </tr>\n",
       "    <tr>\n",
       "      <th>13</th>\n",
       "      <td>9</td>\n",
       "      <td>150750</td>\n",
       "      <td>220597</td>\n",
       "      <td>2149-11-14 02:00:00</td>\n",
       "      <td>MeanArtPress</td>\n",
       "      <td>96.0</td>\n",
       "      <td>2149-11-13</td>\n",
       "      <td>1 days 02:00:00.000000000</td>\n",
       "    </tr>\n",
       "    <tr>\n",
       "      <th>16</th>\n",
       "      <td>9</td>\n",
       "      <td>150750</td>\n",
       "      <td>220597</td>\n",
       "      <td>2149-11-13 10:00:00</td>\n",
       "      <td>MeanArtPress</td>\n",
       "      <td>92.0</td>\n",
       "      <td>2149-11-13</td>\n",
       "      <td>0 days 10:00:00.000000000</td>\n",
       "    </tr>\n",
       "    <tr>\n",
       "      <th>18</th>\n",
       "      <td>9</td>\n",
       "      <td>150750</td>\n",
       "      <td>220597</td>\n",
       "      <td>2149-11-13 00:30:00</td>\n",
       "      <td>MeanArtPress</td>\n",
       "      <td>104.0</td>\n",
       "      <td>2149-11-13</td>\n",
       "      <td>0 days 00:30:00.000000000</td>\n",
       "    </tr>\n",
       "    <tr>\n",
       "      <th>19</th>\n",
       "      <td>9</td>\n",
       "      <td>150750</td>\n",
       "      <td>220597</td>\n",
       "      <td>2149-11-13 17:00:00</td>\n",
       "      <td>MeanArtPress</td>\n",
       "      <td>84.0</td>\n",
       "      <td>2149-11-13</td>\n",
       "      <td>0 days 17:00:00.000000000</td>\n",
       "    </tr>\n",
       "    <tr>\n",
       "      <th>29</th>\n",
       "      <td>9</td>\n",
       "      <td>150750</td>\n",
       "      <td>220597</td>\n",
       "      <td>2149-11-13 18:00:00</td>\n",
       "      <td>MeanArtPress</td>\n",
       "      <td>93.0</td>\n",
       "      <td>2149-11-13</td>\n",
       "      <td>0 days 18:00:00.000000000</td>\n",
       "    </tr>\n",
       "    <tr>\n",
       "      <th>46</th>\n",
       "      <td>9</td>\n",
       "      <td>150750</td>\n",
       "      <td>220597</td>\n",
       "      <td>2149-11-13 04:00:00</td>\n",
       "      <td>MeanArtPress</td>\n",
       "      <td>104.0</td>\n",
       "      <td>2149-11-13</td>\n",
       "      <td>0 days 04:00:00.000000000</td>\n",
       "    </tr>\n",
       "    <tr>\n",
       "      <th>47</th>\n",
       "      <td>9</td>\n",
       "      <td>150750</td>\n",
       "      <td>220597</td>\n",
       "      <td>2149-11-13 20:30:00</td>\n",
       "      <td>MeanArtPress</td>\n",
       "      <td>102.0</td>\n",
       "      <td>2149-11-13</td>\n",
       "      <td>0 days 20:30:00.000000000</td>\n",
       "    </tr>\n",
       "    <tr>\n",
       "      <th>48</th>\n",
       "      <td>9</td>\n",
       "      <td>150750</td>\n",
       "      <td>220597</td>\n",
       "      <td>2149-11-13 21:00:00</td>\n",
       "      <td>MeanArtPress</td>\n",
       "      <td>97.0</td>\n",
       "      <td>2149-11-13</td>\n",
       "      <td>0 days 21:00:00.000000000</td>\n",
       "    </tr>\n",
       "    <tr>\n",
       "      <th>49</th>\n",
       "      <td>9</td>\n",
       "      <td>150750</td>\n",
       "      <td>220597</td>\n",
       "      <td>2149-11-13 22:00:00</td>\n",
       "      <td>MeanArtPress</td>\n",
       "      <td>94.0</td>\n",
       "      <td>2149-11-13</td>\n",
       "      <td>0 days 22:00:00.000000000</td>\n",
       "    </tr>\n",
       "    <tr>\n",
       "      <th>59</th>\n",
       "      <td>9</td>\n",
       "      <td>150750</td>\n",
       "      <td>220597</td>\n",
       "      <td>2149-11-13 13:00:00</td>\n",
       "      <td>MeanArtPress</td>\n",
       "      <td>104.0</td>\n",
       "      <td>2149-11-13</td>\n",
       "      <td>0 days 13:00:00.000000000</td>\n",
       "    </tr>\n",
       "    <tr>\n",
       "      <th>60</th>\n",
       "      <td>9</td>\n",
       "      <td>150750</td>\n",
       "      <td>220597</td>\n",
       "      <td>2149-11-13 14:00:00</td>\n",
       "      <td>MeanArtPress</td>\n",
       "      <td>111.0</td>\n",
       "      <td>2149-11-13</td>\n",
       "      <td>0 days 14:00:00.000000000</td>\n",
       "    </tr>\n",
       "    <tr>\n",
       "      <th>61</th>\n",
       "      <td>9</td>\n",
       "      <td>150750</td>\n",
       "      <td>220597</td>\n",
       "      <td>2149-11-14 09:00:00</td>\n",
       "      <td>MeanArtPress</td>\n",
       "      <td>106.0</td>\n",
       "      <td>2149-11-13</td>\n",
       "      <td>1 days 09:00:00.000000000</td>\n",
       "    </tr>\n",
       "    <tr>\n",
       "      <th>64</th>\n",
       "      <td>9</td>\n",
       "      <td>150750</td>\n",
       "      <td>220597</td>\n",
       "      <td>2149-11-13 05:00:00</td>\n",
       "      <td>MeanArtPress</td>\n",
       "      <td>105.0</td>\n",
       "      <td>2149-11-13</td>\n",
       "      <td>0 days 05:00:00.000000000</td>\n",
       "    </tr>\n",
       "    <tr>\n",
       "      <th>73</th>\n",
       "      <td>9</td>\n",
       "      <td>150750</td>\n",
       "      <td>220597</td>\n",
       "      <td>2149-11-14 10:00:00</td>\n",
       "      <td>MeanArtPress</td>\n",
       "      <td>80.0</td>\n",
       "      <td>2149-11-13</td>\n",
       "      <td>1 days 10:00:00.000000000</td>\n",
       "    </tr>\n",
       "    <tr>\n",
       "      <th>79</th>\n",
       "      <td>9</td>\n",
       "      <td>150750</td>\n",
       "      <td>220597</td>\n",
       "      <td>2149-11-14 01:00:00</td>\n",
       "      <td>MeanArtPress</td>\n",
       "      <td>96.0</td>\n",
       "      <td>2149-11-13</td>\n",
       "      <td>1 days 01:00:00.000000000</td>\n",
       "    </tr>\n",
       "    <tr>\n",
       "      <th>85</th>\n",
       "      <td>9</td>\n",
       "      <td>150750</td>\n",
       "      <td>220597</td>\n",
       "      <td>2149-11-13 00:00:00</td>\n",
       "      <td>MeanArtPress</td>\n",
       "      <td>102.0</td>\n",
       "      <td>2149-11-13</td>\n",
       "      <td>0 days 00:00:00.000000000</td>\n",
       "    </tr>\n",
       "    <tr>\n",
       "      <th>89</th>\n",
       "      <td>9</td>\n",
       "      <td>150750</td>\n",
       "      <td>220597</td>\n",
       "      <td>2149-11-13 09:00:00</td>\n",
       "      <td>MeanArtPress</td>\n",
       "      <td>97.0</td>\n",
       "      <td>2149-11-13</td>\n",
       "      <td>0 days 09:00:00.000000000</td>\n",
       "    </tr>\n",
       "    <tr>\n",
       "      <th>90</th>\n",
       "      <td>9</td>\n",
       "      <td>150750</td>\n",
       "      <td>220597</td>\n",
       "      <td>2149-11-14 05:00:00</td>\n",
       "      <td>MeanArtPress</td>\n",
       "      <td>89.0</td>\n",
       "      <td>2149-11-13</td>\n",
       "      <td>1 days 05:00:00.000000000</td>\n",
       "    </tr>\n",
       "    <tr>\n",
       "      <th>97</th>\n",
       "      <td>9</td>\n",
       "      <td>150750</td>\n",
       "      <td>220597</td>\n",
       "      <td>2149-11-13 02:00:00</td>\n",
       "      <td>MeanArtPress</td>\n",
       "      <td>107.0</td>\n",
       "      <td>2149-11-13</td>\n",
       "      <td>0 days 02:00:00.000000000</td>\n",
       "    </tr>\n",
       "    <tr>\n",
       "      <th>101</th>\n",
       "      <td>9</td>\n",
       "      <td>150750</td>\n",
       "      <td>220597</td>\n",
       "      <td>2149-11-13 03:00:00</td>\n",
       "      <td>MeanArtPress</td>\n",
       "      <td>101.0</td>\n",
       "      <td>2149-11-13</td>\n",
       "      <td>0 days 03:00:00.000000000</td>\n",
       "    </tr>\n",
       "    <tr>\n",
       "      <th>102</th>\n",
       "      <td>9</td>\n",
       "      <td>150750</td>\n",
       "      <td>220597</td>\n",
       "      <td>2149-11-13 03:15:00</td>\n",
       "      <td>MeanArtPress</td>\n",
       "      <td>101.0</td>\n",
       "      <td>2149-11-13</td>\n",
       "      <td>0 days 03:15:00.000000000</td>\n",
       "    </tr>\n",
       "    <tr>\n",
       "      <th>115</th>\n",
       "      <td>9</td>\n",
       "      <td>150750</td>\n",
       "      <td>220597</td>\n",
       "      <td>2149-11-13 15:30:00</td>\n",
       "      <td>MeanArtPress</td>\n",
       "      <td>59.0</td>\n",
       "      <td>2149-11-13</td>\n",
       "      <td>0 days 15:30:00.000000000</td>\n",
       "    </tr>\n",
       "    <tr>\n",
       "      <th>126</th>\n",
       "      <td>9</td>\n",
       "      <td>150750</td>\n",
       "      <td>220597</td>\n",
       "      <td>2149-11-13 15:45:00</td>\n",
       "      <td>MeanArtPress</td>\n",
       "      <td>70.0</td>\n",
       "      <td>2149-11-13</td>\n",
       "      <td>0 days 15:45:00.000000000</td>\n",
       "    </tr>\n",
       "    <tr>\n",
       "      <th>127</th>\n",
       "      <td>9</td>\n",
       "      <td>150750</td>\n",
       "      <td>220597</td>\n",
       "      <td>2149-11-13 15:50:00</td>\n",
       "      <td>MeanArtPress</td>\n",
       "      <td>68.0</td>\n",
       "      <td>2149-11-13</td>\n",
       "      <td>0 days 15:50:00.000000000</td>\n",
       "    </tr>\n",
       "    <tr>\n",
       "      <th>128</th>\n",
       "      <td>9</td>\n",
       "      <td>150750</td>\n",
       "      <td>220597</td>\n",
       "      <td>2149-11-13 15:55:00</td>\n",
       "      <td>MeanArtPress</td>\n",
       "      <td>124.0</td>\n",
       "      <td>2149-11-13</td>\n",
       "      <td>0 days 15:55:00.000000000</td>\n",
       "    </tr>\n",
       "    <tr>\n",
       "      <th>129</th>\n",
       "      <td>9</td>\n",
       "      <td>150750</td>\n",
       "      <td>220597</td>\n",
       "      <td>2149-11-14 13:00:00</td>\n",
       "      <td>MeanArtPress</td>\n",
       "      <td>92.0</td>\n",
       "      <td>2149-11-13</td>\n",
       "      <td>1 days 13:00:00.000000000</td>\n",
       "    </tr>\n",
       "    <tr>\n",
       "      <th>...</th>\n",
       "      <td>...</td>\n",
       "      <td>...</td>\n",
       "      <td>...</td>\n",
       "      <td>...</td>\n",
       "      <td>...</td>\n",
       "      <td>...</td>\n",
       "      <td>...</td>\n",
       "      <td>...</td>\n",
       "    </tr>\n",
       "    <tr>\n",
       "      <th>16269121</th>\n",
       "      <td>53466</td>\n",
       "      <td>185052</td>\n",
       "      <td>262521</td>\n",
       "      <td>2198-04-05 11:55:00</td>\n",
       "      <td>Glucose</td>\n",
       "      <td>125.0</td>\n",
       "      <td>2198-04-05</td>\n",
       "      <td>0 days 11:55:00.000000000</td>\n",
       "    </tr>\n",
       "    <tr>\n",
       "      <th>16269122</th>\n",
       "      <td>53466</td>\n",
       "      <td>185052</td>\n",
       "      <td>262521</td>\n",
       "      <td>2198-04-06 02:20:00</td>\n",
       "      <td>Glucose</td>\n",
       "      <td>122.0</td>\n",
       "      <td>2198-04-05</td>\n",
       "      <td>1 days 02:20:00.000000000</td>\n",
       "    </tr>\n",
       "    <tr>\n",
       "      <th>16269123</th>\n",
       "      <td>53466</td>\n",
       "      <td>185052</td>\n",
       "      <td>262521</td>\n",
       "      <td>2198-04-06 11:53:00</td>\n",
       "      <td>Glucose</td>\n",
       "      <td>111.0</td>\n",
       "      <td>2198-04-05</td>\n",
       "      <td>1 days 11:53:00.000000000</td>\n",
       "    </tr>\n",
       "    <tr>\n",
       "      <th>16269125</th>\n",
       "      <td>53466</td>\n",
       "      <td>185052</td>\n",
       "      <td>262521</td>\n",
       "      <td>2198-04-06 14:14:00</td>\n",
       "      <td>Glucose</td>\n",
       "      <td>108.0</td>\n",
       "      <td>2198-04-05</td>\n",
       "      <td>1 days 14:14:00.000000000</td>\n",
       "    </tr>\n",
       "    <tr>\n",
       "      <th>16269126</th>\n",
       "      <td>53466</td>\n",
       "      <td>185052</td>\n",
       "      <td>262521</td>\n",
       "      <td>2198-04-07 02:14:00</td>\n",
       "      <td>Glucose</td>\n",
       "      <td>109.0</td>\n",
       "      <td>2198-04-05</td>\n",
       "      <td>2 days 02:14:00.000000000</td>\n",
       "    </tr>\n",
       "    <tr>\n",
       "      <th>16269127</th>\n",
       "      <td>53466</td>\n",
       "      <td>185052</td>\n",
       "      <td>262521</td>\n",
       "      <td>2198-04-07 14:13:00</td>\n",
       "      <td>Glucose</td>\n",
       "      <td>106.0</td>\n",
       "      <td>2198-04-05</td>\n",
       "      <td>2 days 14:13:00.000000000</td>\n",
       "    </tr>\n",
       "    <tr>\n",
       "      <th>16269131</th>\n",
       "      <td>53466</td>\n",
       "      <td>185052</td>\n",
       "      <td>262521</td>\n",
       "      <td>2198-04-05 01:45:00</td>\n",
       "      <td>Glucose</td>\n",
       "      <td>128.0</td>\n",
       "      <td>2198-04-05</td>\n",
       "      <td>0 days 01:45:00.000000000</td>\n",
       "    </tr>\n",
       "    <tr>\n",
       "      <th>16269137</th>\n",
       "      <td>73223</td>\n",
       "      <td>135039</td>\n",
       "      <td>278629</td>\n",
       "      <td>2174-05-04 02:09:00</td>\n",
       "      <td>Glucose</td>\n",
       "      <td>89.0</td>\n",
       "      <td>2174-05-04</td>\n",
       "      <td>0 days 02:09:00.000000000</td>\n",
       "    </tr>\n",
       "    <tr>\n",
       "      <th>16269138</th>\n",
       "      <td>73223</td>\n",
       "      <td>135039</td>\n",
       "      <td>278629</td>\n",
       "      <td>2174-05-04 12:33:00</td>\n",
       "      <td>Glucose</td>\n",
       "      <td>73.0</td>\n",
       "      <td>2174-05-04</td>\n",
       "      <td>0 days 12:33:00.000000000</td>\n",
       "    </tr>\n",
       "    <tr>\n",
       "      <th>16269139</th>\n",
       "      <td>73223</td>\n",
       "      <td>135039</td>\n",
       "      <td>278629</td>\n",
       "      <td>2174-05-05 03:22:00</td>\n",
       "      <td>Glucose</td>\n",
       "      <td>160.0</td>\n",
       "      <td>2174-05-04</td>\n",
       "      <td>1 days 03:22:00.000000000</td>\n",
       "    </tr>\n",
       "    <tr>\n",
       "      <th>16269140</th>\n",
       "      <td>75257</td>\n",
       "      <td>114666</td>\n",
       "      <td>237645</td>\n",
       "      <td>2151-06-14 11:15:00</td>\n",
       "      <td>Glucose</td>\n",
       "      <td>227.0</td>\n",
       "      <td>2151-06-14</td>\n",
       "      <td>0 days 11:15:00.000000000</td>\n",
       "    </tr>\n",
       "    <tr>\n",
       "      <th>16269141</th>\n",
       "      <td>75257</td>\n",
       "      <td>114666</td>\n",
       "      <td>237645</td>\n",
       "      <td>2151-06-14 16:20:00</td>\n",
       "      <td>Glucose</td>\n",
       "      <td>96.0</td>\n",
       "      <td>2151-06-14</td>\n",
       "      <td>0 days 16:20:00.000000000</td>\n",
       "    </tr>\n",
       "    <tr>\n",
       "      <th>16269142</th>\n",
       "      <td>75257</td>\n",
       "      <td>114666</td>\n",
       "      <td>237645</td>\n",
       "      <td>2151-06-14 18:11:00</td>\n",
       "      <td>Glucose</td>\n",
       "      <td>110.0</td>\n",
       "      <td>2151-06-14</td>\n",
       "      <td>0 days 18:11:00.000000000</td>\n",
       "    </tr>\n",
       "    <tr>\n",
       "      <th>16269143</th>\n",
       "      <td>75257</td>\n",
       "      <td>114666</td>\n",
       "      <td>237645</td>\n",
       "      <td>2151-06-14 22:27:00</td>\n",
       "      <td>Glucose</td>\n",
       "      <td>130.0</td>\n",
       "      <td>2151-06-14</td>\n",
       "      <td>0 days 22:27:00.000000000</td>\n",
       "    </tr>\n",
       "    <tr>\n",
       "      <th>16269144</th>\n",
       "      <td>75257</td>\n",
       "      <td>114666</td>\n",
       "      <td>237645</td>\n",
       "      <td>2151-06-15 02:25:00</td>\n",
       "      <td>Glucose</td>\n",
       "      <td>151.0</td>\n",
       "      <td>2151-06-14</td>\n",
       "      <td>1 days 02:25:00.000000000</td>\n",
       "    </tr>\n",
       "    <tr>\n",
       "      <th>16269145</th>\n",
       "      <td>89327</td>\n",
       "      <td>163844</td>\n",
       "      <td>206931</td>\n",
       "      <td>2124-08-07 11:01:00</td>\n",
       "      <td>Glucose</td>\n",
       "      <td>151.0</td>\n",
       "      <td>2124-08-07</td>\n",
       "      <td>0 days 11:01:00.000000000</td>\n",
       "    </tr>\n",
       "    <tr>\n",
       "      <th>16269146</th>\n",
       "      <td>89327</td>\n",
       "      <td>163844</td>\n",
       "      <td>206931</td>\n",
       "      <td>2124-08-07 11:33:00</td>\n",
       "      <td>Glucose</td>\n",
       "      <td>145.0</td>\n",
       "      <td>2124-08-07</td>\n",
       "      <td>0 days 11:33:00.000000000</td>\n",
       "    </tr>\n",
       "    <tr>\n",
       "      <th>16269147</th>\n",
       "      <td>89327</td>\n",
       "      <td>163844</td>\n",
       "      <td>206931</td>\n",
       "      <td>2124-08-07 12:26:00</td>\n",
       "      <td>Glucose</td>\n",
       "      <td>145.0</td>\n",
       "      <td>2124-08-07</td>\n",
       "      <td>0 days 12:26:00.000000000</td>\n",
       "    </tr>\n",
       "    <tr>\n",
       "      <th>16269148</th>\n",
       "      <td>89327</td>\n",
       "      <td>163844</td>\n",
       "      <td>206931</td>\n",
       "      <td>2124-08-07 14:04:00</td>\n",
       "      <td>Glucose</td>\n",
       "      <td>78.0</td>\n",
       "      <td>2124-08-07</td>\n",
       "      <td>0 days 14:04:00.000000000</td>\n",
       "    </tr>\n",
       "    <tr>\n",
       "      <th>16269149</th>\n",
       "      <td>89327</td>\n",
       "      <td>163844</td>\n",
       "      <td>206931</td>\n",
       "      <td>2124-08-07 22:28:00</td>\n",
       "      <td>Glucose</td>\n",
       "      <td>113.0</td>\n",
       "      <td>2124-08-07</td>\n",
       "      <td>0 days 22:28:00.000000000</td>\n",
       "    </tr>\n",
       "    <tr>\n",
       "      <th>16269150</th>\n",
       "      <td>89327</td>\n",
       "      <td>163844</td>\n",
       "      <td>206931</td>\n",
       "      <td>2124-08-08 03:25:00</td>\n",
       "      <td>Glucose</td>\n",
       "      <td>112.0</td>\n",
       "      <td>2124-08-07</td>\n",
       "      <td>1 days 03:25:00.000000000</td>\n",
       "    </tr>\n",
       "    <tr>\n",
       "      <th>16269155</th>\n",
       "      <td>93571</td>\n",
       "      <td>183904</td>\n",
       "      <td>296383</td>\n",
       "      <td>2122-07-21 03:36:00</td>\n",
       "      <td>Glucose</td>\n",
       "      <td>94.0</td>\n",
       "      <td>2122-07-21</td>\n",
       "      <td>0 days 03:36:00.000000000</td>\n",
       "    </tr>\n",
       "    <tr>\n",
       "      <th>16269156</th>\n",
       "      <td>93571</td>\n",
       "      <td>183904</td>\n",
       "      <td>296383</td>\n",
       "      <td>2122-07-21 15:53:00</td>\n",
       "      <td>Glucose</td>\n",
       "      <td>111.0</td>\n",
       "      <td>2122-07-21</td>\n",
       "      <td>0 days 15:53:00.000000000</td>\n",
       "    </tr>\n",
       "    <tr>\n",
       "      <th>16269157</th>\n",
       "      <td>93571</td>\n",
       "      <td>183904</td>\n",
       "      <td>296383</td>\n",
       "      <td>2122-07-22 04:11:00</td>\n",
       "      <td>Glucose</td>\n",
       "      <td>122.0</td>\n",
       "      <td>2122-07-21</td>\n",
       "      <td>1 days 04:11:00.000000000</td>\n",
       "    </tr>\n",
       "    <tr>\n",
       "      <th>16269158</th>\n",
       "      <td>93571</td>\n",
       "      <td>183904</td>\n",
       "      <td>296383</td>\n",
       "      <td>2122-07-23 04:16:00</td>\n",
       "      <td>Glucose</td>\n",
       "      <td>112.0</td>\n",
       "      <td>2122-07-21</td>\n",
       "      <td>2 days 04:16:00.000000000</td>\n",
       "    </tr>\n",
       "    <tr>\n",
       "      <th>16269161</th>\n",
       "      <td>94998</td>\n",
       "      <td>117228</td>\n",
       "      <td>294773</td>\n",
       "      <td>2128-07-01 02:20:00</td>\n",
       "      <td>Glucose</td>\n",
       "      <td>130.0</td>\n",
       "      <td>2128-07-01</td>\n",
       "      <td>0 days 02:20:00.000000000</td>\n",
       "    </tr>\n",
       "    <tr>\n",
       "      <th>16269162</th>\n",
       "      <td>94998</td>\n",
       "      <td>117228</td>\n",
       "      <td>294773</td>\n",
       "      <td>2128-07-01 17:41:00</td>\n",
       "      <td>Glucose</td>\n",
       "      <td>162.0</td>\n",
       "      <td>2128-07-01</td>\n",
       "      <td>0 days 17:41:00.000000000</td>\n",
       "    </tr>\n",
       "    <tr>\n",
       "      <th>16269163</th>\n",
       "      <td>94998</td>\n",
       "      <td>117228</td>\n",
       "      <td>294773</td>\n",
       "      <td>2128-07-02 01:46:00</td>\n",
       "      <td>Glucose</td>\n",
       "      <td>130.0</td>\n",
       "      <td>2128-07-01</td>\n",
       "      <td>1 days 01:46:00.000000000</td>\n",
       "    </tr>\n",
       "    <tr>\n",
       "      <th>16269164</th>\n",
       "      <td>94998</td>\n",
       "      <td>117228</td>\n",
       "      <td>294773</td>\n",
       "      <td>2128-07-02 12:44:00</td>\n",
       "      <td>Glucose</td>\n",
       "      <td>131.0</td>\n",
       "      <td>2128-07-01</td>\n",
       "      <td>1 days 12:44:00.000000000</td>\n",
       "    </tr>\n",
       "    <tr>\n",
       "      <th>16269165</th>\n",
       "      <td>94998</td>\n",
       "      <td>117228</td>\n",
       "      <td>294773</td>\n",
       "      <td>2128-07-03 02:17:00</td>\n",
       "      <td>Glucose</td>\n",
       "      <td>156.0</td>\n",
       "      <td>2128-07-01</td>\n",
       "      <td>2 days 02:17:00.000000000</td>\n",
       "    </tr>\n",
       "  </tbody>\n",
       "</table>\n",
       "<p>6191812 rows × 8 columns</p>\n",
       "</div>"
      ],
      "text/plain": [
       "          subject_id  hadm_id  icustay_id            charttime       vitalid  \\\n",
       "5                  9   150750      220597  2149-11-13 15:20:00  MeanArtPress   \n",
       "6                  9   150750      220597  2149-11-14 11:00:00  MeanArtPress   \n",
       "7                  9   150750      220597  2149-11-14 12:00:00  MeanArtPress   \n",
       "12                 9   150750      220597  2149-11-13 07:00:00  MeanArtPress   \n",
       "13                 9   150750      220597  2149-11-14 02:00:00  MeanArtPress   \n",
       "16                 9   150750      220597  2149-11-13 10:00:00  MeanArtPress   \n",
       "18                 9   150750      220597  2149-11-13 00:30:00  MeanArtPress   \n",
       "19                 9   150750      220597  2149-11-13 17:00:00  MeanArtPress   \n",
       "29                 9   150750      220597  2149-11-13 18:00:00  MeanArtPress   \n",
       "46                 9   150750      220597  2149-11-13 04:00:00  MeanArtPress   \n",
       "47                 9   150750      220597  2149-11-13 20:30:00  MeanArtPress   \n",
       "48                 9   150750      220597  2149-11-13 21:00:00  MeanArtPress   \n",
       "49                 9   150750      220597  2149-11-13 22:00:00  MeanArtPress   \n",
       "59                 9   150750      220597  2149-11-13 13:00:00  MeanArtPress   \n",
       "60                 9   150750      220597  2149-11-13 14:00:00  MeanArtPress   \n",
       "61                 9   150750      220597  2149-11-14 09:00:00  MeanArtPress   \n",
       "64                 9   150750      220597  2149-11-13 05:00:00  MeanArtPress   \n",
       "73                 9   150750      220597  2149-11-14 10:00:00  MeanArtPress   \n",
       "79                 9   150750      220597  2149-11-14 01:00:00  MeanArtPress   \n",
       "85                 9   150750      220597  2149-11-13 00:00:00  MeanArtPress   \n",
       "89                 9   150750      220597  2149-11-13 09:00:00  MeanArtPress   \n",
       "90                 9   150750      220597  2149-11-14 05:00:00  MeanArtPress   \n",
       "97                 9   150750      220597  2149-11-13 02:00:00  MeanArtPress   \n",
       "101                9   150750      220597  2149-11-13 03:00:00  MeanArtPress   \n",
       "102                9   150750      220597  2149-11-13 03:15:00  MeanArtPress   \n",
       "115                9   150750      220597  2149-11-13 15:30:00  MeanArtPress   \n",
       "126                9   150750      220597  2149-11-13 15:45:00  MeanArtPress   \n",
       "127                9   150750      220597  2149-11-13 15:50:00  MeanArtPress   \n",
       "128                9   150750      220597  2149-11-13 15:55:00  MeanArtPress   \n",
       "129                9   150750      220597  2149-11-14 13:00:00  MeanArtPress   \n",
       "...              ...      ...         ...                  ...           ...   \n",
       "16269121       53466   185052      262521  2198-04-05 11:55:00       Glucose   \n",
       "16269122       53466   185052      262521  2198-04-06 02:20:00       Glucose   \n",
       "16269123       53466   185052      262521  2198-04-06 11:53:00       Glucose   \n",
       "16269125       53466   185052      262521  2198-04-06 14:14:00       Glucose   \n",
       "16269126       53466   185052      262521  2198-04-07 02:14:00       Glucose   \n",
       "16269127       53466   185052      262521  2198-04-07 14:13:00       Glucose   \n",
       "16269131       53466   185052      262521  2198-04-05 01:45:00       Glucose   \n",
       "16269137       73223   135039      278629  2174-05-04 02:09:00       Glucose   \n",
       "16269138       73223   135039      278629  2174-05-04 12:33:00       Glucose   \n",
       "16269139       73223   135039      278629  2174-05-05 03:22:00       Glucose   \n",
       "16269140       75257   114666      237645  2151-06-14 11:15:00       Glucose   \n",
       "16269141       75257   114666      237645  2151-06-14 16:20:00       Glucose   \n",
       "16269142       75257   114666      237645  2151-06-14 18:11:00       Glucose   \n",
       "16269143       75257   114666      237645  2151-06-14 22:27:00       Glucose   \n",
       "16269144       75257   114666      237645  2151-06-15 02:25:00       Glucose   \n",
       "16269145       89327   163844      206931  2124-08-07 11:01:00       Glucose   \n",
       "16269146       89327   163844      206931  2124-08-07 11:33:00       Glucose   \n",
       "16269147       89327   163844      206931  2124-08-07 12:26:00       Glucose   \n",
       "16269148       89327   163844      206931  2124-08-07 14:04:00       Glucose   \n",
       "16269149       89327   163844      206931  2124-08-07 22:28:00       Glucose   \n",
       "16269150       89327   163844      206931  2124-08-08 03:25:00       Glucose   \n",
       "16269155       93571   183904      296383  2122-07-21 03:36:00       Glucose   \n",
       "16269156       93571   183904      296383  2122-07-21 15:53:00       Glucose   \n",
       "16269157       93571   183904      296383  2122-07-22 04:11:00       Glucose   \n",
       "16269158       93571   183904      296383  2122-07-23 04:16:00       Glucose   \n",
       "16269161       94998   117228      294773  2128-07-01 02:20:00       Glucose   \n",
       "16269162       94998   117228      294773  2128-07-01 17:41:00       Glucose   \n",
       "16269163       94998   117228      294773  2128-07-02 01:46:00       Glucose   \n",
       "16269164       94998   117228      294773  2128-07-02 12:44:00       Glucose   \n",
       "16269165       94998   117228      294773  2128-07-03 02:17:00       Glucose   \n",
       "\n",
       "          valuenum         t_0                      delta  \n",
       "5             61.0  2149-11-13  0 days 15:20:00.000000000  \n",
       "6            103.0  2149-11-13  1 days 11:00:00.000000000  \n",
       "7            134.0  2149-11-13  1 days 12:00:00.000000000  \n",
       "12            85.0  2149-11-13  0 days 07:00:00.000000000  \n",
       "13            96.0  2149-11-13  1 days 02:00:00.000000000  \n",
       "16            92.0  2149-11-13  0 days 10:00:00.000000000  \n",
       "18           104.0  2149-11-13  0 days 00:30:00.000000000  \n",
       "19            84.0  2149-11-13  0 days 17:00:00.000000000  \n",
       "29            93.0  2149-11-13  0 days 18:00:00.000000000  \n",
       "46           104.0  2149-11-13  0 days 04:00:00.000000000  \n",
       "47           102.0  2149-11-13  0 days 20:30:00.000000000  \n",
       "48            97.0  2149-11-13  0 days 21:00:00.000000000  \n",
       "49            94.0  2149-11-13  0 days 22:00:00.000000000  \n",
       "59           104.0  2149-11-13  0 days 13:00:00.000000000  \n",
       "60           111.0  2149-11-13  0 days 14:00:00.000000000  \n",
       "61           106.0  2149-11-13  1 days 09:00:00.000000000  \n",
       "64           105.0  2149-11-13  0 days 05:00:00.000000000  \n",
       "73            80.0  2149-11-13  1 days 10:00:00.000000000  \n",
       "79            96.0  2149-11-13  1 days 01:00:00.000000000  \n",
       "85           102.0  2149-11-13  0 days 00:00:00.000000000  \n",
       "89            97.0  2149-11-13  0 days 09:00:00.000000000  \n",
       "90            89.0  2149-11-13  1 days 05:00:00.000000000  \n",
       "97           107.0  2149-11-13  0 days 02:00:00.000000000  \n",
       "101          101.0  2149-11-13  0 days 03:00:00.000000000  \n",
       "102          101.0  2149-11-13  0 days 03:15:00.000000000  \n",
       "115           59.0  2149-11-13  0 days 15:30:00.000000000  \n",
       "126           70.0  2149-11-13  0 days 15:45:00.000000000  \n",
       "127           68.0  2149-11-13  0 days 15:50:00.000000000  \n",
       "128          124.0  2149-11-13  0 days 15:55:00.000000000  \n",
       "129           92.0  2149-11-13  1 days 13:00:00.000000000  \n",
       "...            ...         ...                        ...  \n",
       "16269121     125.0  2198-04-05  0 days 11:55:00.000000000  \n",
       "16269122     122.0  2198-04-05  1 days 02:20:00.000000000  \n",
       "16269123     111.0  2198-04-05  1 days 11:53:00.000000000  \n",
       "16269125     108.0  2198-04-05  1 days 14:14:00.000000000  \n",
       "16269126     109.0  2198-04-05  2 days 02:14:00.000000000  \n",
       "16269127     106.0  2198-04-05  2 days 14:13:00.000000000  \n",
       "16269131     128.0  2198-04-05  0 days 01:45:00.000000000  \n",
       "16269137      89.0  2174-05-04  0 days 02:09:00.000000000  \n",
       "16269138      73.0  2174-05-04  0 days 12:33:00.000000000  \n",
       "16269139     160.0  2174-05-04  1 days 03:22:00.000000000  \n",
       "16269140     227.0  2151-06-14  0 days 11:15:00.000000000  \n",
       "16269141      96.0  2151-06-14  0 days 16:20:00.000000000  \n",
       "16269142     110.0  2151-06-14  0 days 18:11:00.000000000  \n",
       "16269143     130.0  2151-06-14  0 days 22:27:00.000000000  \n",
       "16269144     151.0  2151-06-14  1 days 02:25:00.000000000  \n",
       "16269145     151.0  2124-08-07  0 days 11:01:00.000000000  \n",
       "16269146     145.0  2124-08-07  0 days 11:33:00.000000000  \n",
       "16269147     145.0  2124-08-07  0 days 12:26:00.000000000  \n",
       "16269148      78.0  2124-08-07  0 days 14:04:00.000000000  \n",
       "16269149     113.0  2124-08-07  0 days 22:28:00.000000000  \n",
       "16269150     112.0  2124-08-07  1 days 03:25:00.000000000  \n",
       "16269155      94.0  2122-07-21  0 days 03:36:00.000000000  \n",
       "16269156     111.0  2122-07-21  0 days 15:53:00.000000000  \n",
       "16269157     122.0  2122-07-21  1 days 04:11:00.000000000  \n",
       "16269158     112.0  2122-07-21  2 days 04:16:00.000000000  \n",
       "16269161     130.0  2128-07-01  0 days 02:20:00.000000000  \n",
       "16269162     162.0  2128-07-01  0 days 17:41:00.000000000  \n",
       "16269163     130.0  2128-07-01  1 days 01:46:00.000000000  \n",
       "16269164     131.0  2128-07-01  1 days 12:44:00.000000000  \n",
       "16269165     156.0  2128-07-01  2 days 02:17:00.000000000  \n",
       "\n",
       "[6191812 rows x 8 columns]"
      ]
     },
     "execution_count": 40,
     "metadata": {},
     "output_type": "execute_result"
    },
    {
     "name": "stdout",
     "output_type": "stream",
     "text": [
      "time: 35.7 ms\n"
     ]
    }
   ],
   "source": [
    "vitals_all_nosummary_nonull"
   ]
  },
  {
   "cell_type": "code",
   "execution_count": 41,
   "metadata": {},
   "outputs": [
    {
     "name": "stdout",
     "output_type": "stream",
     "text": [
      "time: 4.84 s\n"
     ]
    }
   ],
   "source": [
    "missingness_df = pd.concat(\n",
    "    [missingness_df,\n",
    "        missingness_fxn(vitals_all_nosummary_nonull.rename(index=str, columns={'vitalid':'label'}),'vitals_all_nosummary_72', 'label','icustay_id')]\n",
    ")"
   ]
  },
  {
   "cell_type": "markdown",
   "metadata": {},
   "source": [
    "### uti_all_72 x"
   ]
  },
  {
   "cell_type": "code",
   "execution_count": 42,
   "metadata": {},
   "outputs": [
    {
     "name": "stdout",
     "output_type": "stream",
     "text": [
      "time: 544 ms\n"
     ]
    }
   ],
   "source": [
    "uti_all_72=pd.read_csv(\n",
    "    '/Users/geickelb1/Documents/GitHub/mimiciii-antibiotics-modeling/data/raw/csv/72_hr_window/%s_uti_all_72.csv' %(date), index_col=0)"
   ]
  },
  {
   "cell_type": "code",
   "execution_count": 43,
   "metadata": {},
   "outputs": [
    {
     "data": {
      "text/html": [
       "<div>\n",
       "<style scoped>\n",
       "    .dataframe tbody tr th:only-of-type {\n",
       "        vertical-align: middle;\n",
       "    }\n",
       "\n",
       "    .dataframe tbody tr th {\n",
       "        vertical-align: top;\n",
       "    }\n",
       "\n",
       "    .dataframe thead th {\n",
       "        text-align: right;\n",
       "    }\n",
       "</style>\n",
       "<table border=\"1\" class=\"dataframe\">\n",
       "  <thead>\n",
       "    <tr style=\"text-align: right;\">\n",
       "      <th></th>\n",
       "      <th>subject_id</th>\n",
       "      <th>hadm_id</th>\n",
       "      <th>itemid</th>\n",
       "      <th>charttime</th>\n",
       "      <th>value</th>\n",
       "      <th>valuenum</th>\n",
       "      <th>valueuom</th>\n",
       "      <th>label</th>\n",
       "      <th>fluid</th>\n",
       "      <th>category</th>\n",
       "      <th>loinc_code</th>\n",
       "      <th>icd9_code</th>\n",
       "      <th>t_0</th>\n",
       "      <th>delta</th>\n",
       "    </tr>\n",
       "  </thead>\n",
       "  <tbody>\n",
       "    <tr>\n",
       "      <th>42</th>\n",
       "      <td>26</td>\n",
       "      <td>197661.0</td>\n",
       "      <td>51486</td>\n",
       "      <td>2126-05-10 14:59:00</td>\n",
       "      <td>NEG</td>\n",
       "      <td>NaN</td>\n",
       "      <td>NaN</td>\n",
       "      <td>Leukocytes</td>\n",
       "      <td>Urine</td>\n",
       "      <td>Hematology</td>\n",
       "      <td>5799-2</td>\n",
       "      <td>99604</td>\n",
       "      <td>2126-05-10</td>\n",
       "      <td>0 days 14:59:00.000000000</td>\n",
       "    </tr>\n",
       "    <tr>\n",
       "      <th>43</th>\n",
       "      <td>26</td>\n",
       "      <td>197661.0</td>\n",
       "      <td>51486</td>\n",
       "      <td>2126-05-10 14:59:00</td>\n",
       "      <td>NEG</td>\n",
       "      <td>NaN</td>\n",
       "      <td>NaN</td>\n",
       "      <td>Leukocytes</td>\n",
       "      <td>Urine</td>\n",
       "      <td>Hematology</td>\n",
       "      <td>5799-2</td>\n",
       "      <td>4271</td>\n",
       "      <td>2126-05-10</td>\n",
       "      <td>0 days 14:59:00.000000000</td>\n",
       "    </tr>\n",
       "  </tbody>\n",
       "</table>\n",
       "</div>"
      ],
      "text/plain": [
       "    subject_id   hadm_id  itemid            charttime value  valuenum  \\\n",
       "42          26  197661.0   51486  2126-05-10 14:59:00   NEG       NaN   \n",
       "43          26  197661.0   51486  2126-05-10 14:59:00   NEG       NaN   \n",
       "\n",
       "    valueuom       label  fluid    category loinc_code icd9_code         t_0  \\\n",
       "42       NaN  Leukocytes  Urine  Hematology     5799-2     99604  2126-05-10   \n",
       "43       NaN  Leukocytes  Urine  Hematology     5799-2      4271  2126-05-10   \n",
       "\n",
       "                        delta  \n",
       "42  0 days 14:59:00.000000000  \n",
       "43  0 days 14:59:00.000000000  "
      ]
     },
     "execution_count": 43,
     "metadata": {},
     "output_type": "execute_result"
    },
    {
     "name": "stdout",
     "output_type": "stream",
     "text": [
      "time: 13.7 ms\n"
     ]
    }
   ],
   "source": [
    "uti_all_72.head(2)"
   ]
  },
  {
   "cell_type": "code",
   "execution_count": 44,
   "metadata": {},
   "outputs": [
    {
     "name": "stdout",
     "output_type": "stream",
     "text": [
      "time: 433 µs\n"
     ]
    }
   ],
   "source": [
    "#uti_all_72_melt= pd.melt(uti_all_72, id_vars=['subject_id','hadm_id','itemid','charttime','t_0','delta'], var_name='label')"
   ]
  },
  {
   "cell_type": "code",
   "execution_count": 45,
   "metadata": {},
   "outputs": [
    {
     "name": "stdout",
     "output_type": "stream",
     "text": [
      "time: 242 ms\n"
     ]
    }
   ],
   "source": [
    "uti_all_72_melt= pd.melt(\n",
    "    uti_all_72[['hadm_id','charttime','value','valuenum','valueuom','label','fluid']],\n",
    "    id_vars=['hadm_id','charttime'], var_name='label')"
   ]
  },
  {
   "cell_type": "code",
   "execution_count": null,
   "metadata": {},
   "outputs": [],
   "source": []
  },
  {
   "cell_type": "code",
   "execution_count": 46,
   "metadata": {},
   "outputs": [
    {
     "name": "stdout",
     "output_type": "stream",
     "text": [
      "time: 97 ms\n"
     ]
    }
   ],
   "source": [
    "uti_all_72_melt_notnull= uti_all_72_melt[uti_all_72_melt['value'].notnull()] #1320954"
   ]
  },
  {
   "cell_type": "code",
   "execution_count": null,
   "metadata": {},
   "outputs": [],
   "source": []
  },
  {
   "cell_type": "code",
   "execution_count": 47,
   "metadata": {},
   "outputs": [
    {
     "data": {
      "text/plain": [
       "value    220159\n",
       "label    220159\n",
       "fluid    220159\n",
       "Name: label, dtype: int64"
      ]
     },
     "execution_count": 47,
     "metadata": {},
     "output_type": "execute_result"
    },
    {
     "name": "stdout",
     "output_type": "stream",
     "text": [
      "time: 92.2 ms\n"
     ]
    }
   ],
   "source": [
    "uti_all_72_melt_notnull['label'].value_counts()"
   ]
  },
  {
   "cell_type": "code",
   "execution_count": 48,
   "metadata": {},
   "outputs": [
    {
     "name": "stdout",
     "output_type": "stream",
     "text": [
      "hadm_id      6145\n",
      "charttime    7795\n",
      "label           3\n",
      "value          11\n",
      "dtype: int64\n",
      "time: 276 ms\n"
     ]
    }
   ],
   "source": [
    "print(\n",
    "    uti_all_72_melt_notnull.nunique(), #6145/15207 unique hadm_id/hadm_id\n",
    ")"
   ]
  },
  {
   "cell_type": "code",
   "execution_count": 49,
   "metadata": {},
   "outputs": [
    {
     "name": "stdout",
     "output_type": "stream",
     "text": [
      "time: 660 µs\n"
     ]
    }
   ],
   "source": [
    "#na values\n",
    "#uti_all_72_melt.loc[uti_all_72_melt['value'].isna(),:]#.count() #220159 na valuenum, 440318 when melted\n",
    "#uti_all_72_melt[uti_all_72_melt['value'].isnull()]['hadm_id'].count() #440318"
   ]
  },
  {
   "cell_type": "code",
   "execution_count": 50,
   "metadata": {},
   "outputs": [
    {
     "name": "stdout",
     "output_type": "stream",
     "text": [
      "time: 525 µs\n"
     ]
    }
   ],
   "source": [
    "#uti_all_72_melt[uti_all_72_melt['value'].notnull()]"
   ]
  },
  {
   "cell_type": "code",
   "execution_count": 51,
   "metadata": {},
   "outputs": [
    {
     "data": {
      "text/html": [
       "<div>\n",
       "<style scoped>\n",
       "    .dataframe tbody tr th:only-of-type {\n",
       "        vertical-align: middle;\n",
       "    }\n",
       "\n",
       "    .dataframe tbody tr th {\n",
       "        vertical-align: top;\n",
       "    }\n",
       "\n",
       "    .dataframe thead th {\n",
       "        text-align: right;\n",
       "    }\n",
       "</style>\n",
       "<table border=\"1\" class=\"dataframe\">\n",
       "  <thead>\n",
       "    <tr style=\"text-align: right;\">\n",
       "      <th></th>\n",
       "      <th>label</th>\n",
       "      <th>%missingness</th>\n",
       "      <th>source</th>\n",
       "      <th>data_label</th>\n",
       "    </tr>\n",
       "  </thead>\n",
       "  <tbody>\n",
       "    <tr>\n",
       "      <th>0</th>\n",
       "      <td>fluid</td>\n",
       "      <td>59.590978</td>\n",
       "      <td>uti_all_72_melt</td>\n",
       "      <td>label</td>\n",
       "    </tr>\n",
       "    <tr>\n",
       "      <th>1</th>\n",
       "      <td>label</td>\n",
       "      <td>59.590978</td>\n",
       "      <td>uti_all_72_melt</td>\n",
       "      <td>label</td>\n",
       "    </tr>\n",
       "    <tr>\n",
       "      <th>2</th>\n",
       "      <td>value</td>\n",
       "      <td>59.590978</td>\n",
       "      <td>uti_all_72_melt</td>\n",
       "      <td>label</td>\n",
       "    </tr>\n",
       "  </tbody>\n",
       "</table>\n",
       "</div>"
      ],
      "text/plain": [
       "   label  %missingness           source data_label\n",
       "0  fluid     59.590978  uti_all_72_melt      label\n",
       "1  label     59.590978  uti_all_72_melt      label\n",
       "2  value     59.590978  uti_all_72_melt      label"
      ]
     },
     "execution_count": 51,
     "metadata": {},
     "output_type": "execute_result"
    },
    {
     "name": "stdout",
     "output_type": "stream",
     "text": [
      "time: 106 ms\n"
     ]
    }
   ],
   "source": [
    "missingness_fxn(uti_all_72_melt_notnull,'uti_all_72_melt', 'label','hadm_id')"
   ]
  },
  {
   "cell_type": "code",
   "execution_count": 52,
   "metadata": {},
   "outputs": [
    {
     "name": "stdout",
     "output_type": "stream",
     "text": [
      "time: 80.3 ms\n"
     ]
    }
   ],
   "source": [
    "missingness_df = pd.concat(\n",
    "    [missingness_df,\n",
    "        missingness_fxn(uti_all_72_melt_notnull,'uti_all_72_melt', 'label','hadm_id')]\n",
    ")"
   ]
  },
  {
   "cell_type": "markdown",
   "metadata": {},
   "source": [
    "### bg_all_nosummary_72 x"
   ]
  },
  {
   "cell_type": "code",
   "execution_count": 53,
   "metadata": {},
   "outputs": [
    {
     "name": "stdout",
     "output_type": "stream",
     "text": [
      "time: 1.45 s\n"
     ]
    }
   ],
   "source": [
    "bg_all_nosummary_72=pd.read_csv(\n",
    "    '/Users/geickelb1/Documents/GitHub/mimiciii-antibiotics-modeling/data/raw/csv/72_hr_window/%s_bg_all_nosummary_72.csv' %(date), index_col=0)"
   ]
  },
  {
   "cell_type": "code",
   "execution_count": 54,
   "metadata": {},
   "outputs": [
    {
     "data": {
      "text/html": [
       "<div>\n",
       "<style scoped>\n",
       "    .dataframe tbody tr th:only-of-type {\n",
       "        vertical-align: middle;\n",
       "    }\n",
       "\n",
       "    .dataframe tbody tr th {\n",
       "        vertical-align: top;\n",
       "    }\n",
       "\n",
       "    .dataframe thead th {\n",
       "        text-align: right;\n",
       "    }\n",
       "</style>\n",
       "<table border=\"1\" class=\"dataframe\">\n",
       "  <thead>\n",
       "    <tr style=\"text-align: right;\">\n",
       "      <th></th>\n",
       "      <th>subject_id</th>\n",
       "      <th>hadm_id</th>\n",
       "      <th>icustay_id</th>\n",
       "      <th>charttime</th>\n",
       "      <th>label</th>\n",
       "      <th>valuenum</th>\n",
       "      <th>value</th>\n",
       "      <th>unique_var</th>\n",
       "      <th>t_0</th>\n",
       "      <th>delta</th>\n",
       "    </tr>\n",
       "  </thead>\n",
       "  <tbody>\n",
       "    <tr>\n",
       "      <th>82</th>\n",
       "      <td>9</td>\n",
       "      <td>150750</td>\n",
       "      <td>220597</td>\n",
       "      <td>2149-11-13 03:34:00</td>\n",
       "      <td>BASEEXCESS</td>\n",
       "      <td>NaN</td>\n",
       "      <td>-1</td>\n",
       "      <td>2205972149-11-13 03:34:00</td>\n",
       "      <td>2149-11-13</td>\n",
       "      <td>0 days 03:34:00.000000000</td>\n",
       "    </tr>\n",
       "    <tr>\n",
       "      <th>83</th>\n",
       "      <td>9</td>\n",
       "      <td>150750</td>\n",
       "      <td>220597</td>\n",
       "      <td>2149-11-13 03:34:00</td>\n",
       "      <td>CALCIUM</td>\n",
       "      <td>1.05</td>\n",
       "      <td>1.05</td>\n",
       "      <td>2205972149-11-13 03:34:00</td>\n",
       "      <td>2149-11-13</td>\n",
       "      <td>0 days 03:34:00.000000000</td>\n",
       "    </tr>\n",
       "  </tbody>\n",
       "</table>\n",
       "</div>"
      ],
      "text/plain": [
       "    subject_id  hadm_id  icustay_id            charttime       label  \\\n",
       "82           9   150750      220597  2149-11-13 03:34:00  BASEEXCESS   \n",
       "83           9   150750      220597  2149-11-13 03:34:00     CALCIUM   \n",
       "\n",
       "    valuenum value                 unique_var         t_0  \\\n",
       "82       NaN    -1  2205972149-11-13 03:34:00  2149-11-13   \n",
       "83      1.05  1.05  2205972149-11-13 03:34:00  2149-11-13   \n",
       "\n",
       "                        delta  \n",
       "82  0 days 03:34:00.000000000  \n",
       "83  0 days 03:34:00.000000000  "
      ]
     },
     "execution_count": 54,
     "metadata": {},
     "output_type": "execute_result"
    },
    {
     "name": "stdout",
     "output_type": "stream",
     "text": [
      "time: 98.9 ms\n"
     ]
    }
   ],
   "source": [
    "#na values- removing all null values from value.\n",
    "bg_all_nosummary_72= bg_all_nosummary_72.loc[bg_all_nosummary_72['value'].notnull(),:]\n",
    "\n",
    "bg_all_nosummary_72.head(2)"
   ]
  },
  {
   "cell_type": "code",
   "execution_count": 55,
   "metadata": {},
   "outputs": [
    {
     "name": "stdout",
     "output_type": "stream",
     "text": [
      "11244\n",
      "time: 12.8 ms\n"
     ]
    }
   ],
   "source": [
    "print(\n",
    "    bg_all_nosummary_72['icustay_id'].nunique(), #11244/15207 unique icustay_id/icustay_id\n",
    ")"
   ]
  },
  {
   "cell_type": "code",
   "execution_count": 56,
   "metadata": {},
   "outputs": [
    {
     "name": "stdout",
     "output_type": "stream",
     "text": [
      "time: 108 ms\n"
     ]
    }
   ],
   "source": [
    "missingness_df = pd.concat(\n",
    "    [missingness_df,\n",
    "        missingness_fxn(bg_all_nosummary_72,'bg_all_nosummary_72', 'label','icustay_id')]\n",
    ")"
   ]
  },
  {
   "cell_type": "code",
   "execution_count": 57,
   "metadata": {},
   "outputs": [
    {
     "name": "stdout",
     "output_type": "stream",
     "text": [
      "time: 544 µs\n"
     ]
    }
   ],
   "source": [
    "#missingness_fxn(bg_all_nosummary_72,'bg_all_nosummary_72', 'label','icustay_id')"
   ]
  },
  {
   "cell_type": "markdown",
   "metadata": {},
   "source": [
    "### rrt_merged_allpt_df x"
   ]
  },
  {
   "cell_type": "code",
   "execution_count": 58,
   "metadata": {},
   "outputs": [
    {
     "data": {
      "text/html": [
       "<div>\n",
       "<style scoped>\n",
       "    .dataframe tbody tr th:only-of-type {\n",
       "        vertical-align: middle;\n",
       "    }\n",
       "\n",
       "    .dataframe tbody tr th {\n",
       "        vertical-align: top;\n",
       "    }\n",
       "\n",
       "    .dataframe thead th {\n",
       "        text-align: right;\n",
       "    }\n",
       "</style>\n",
       "<table border=\"1\" class=\"dataframe\">\n",
       "  <thead>\n",
       "    <tr style=\"text-align: right;\">\n",
       "      <th></th>\n",
       "      <th>icustay_id</th>\n",
       "      <th>t_0</th>\n",
       "      <th>first_charttime</th>\n",
       "      <th>rrt</th>\n",
       "    </tr>\n",
       "  </thead>\n",
       "  <tbody>\n",
       "    <tr>\n",
       "      <th>0</th>\n",
       "      <td>267059.0</td>\n",
       "      <td>2182-11-12</td>\n",
       "      <td>NaN</td>\n",
       "      <td>NaN</td>\n",
       "    </tr>\n",
       "    <tr>\n",
       "      <th>1</th>\n",
       "      <td>278729.0</td>\n",
       "      <td>2159-11-08</td>\n",
       "      <td>NaN</td>\n",
       "      <td>NaN</td>\n",
       "    </tr>\n",
       "    <tr>\n",
       "      <th>2</th>\n",
       "      <td>219670.0</td>\n",
       "      <td>2190-08-01</td>\n",
       "      <td>NaN</td>\n",
       "      <td>NaN</td>\n",
       "    </tr>\n",
       "    <tr>\n",
       "      <th>3</th>\n",
       "      <td>295185.0</td>\n",
       "      <td>2154-11-11</td>\n",
       "      <td>NaN</td>\n",
       "      <td>NaN</td>\n",
       "    </tr>\n",
       "    <tr>\n",
       "      <th>4</th>\n",
       "      <td>211472.0</td>\n",
       "      <td>2193-12-11</td>\n",
       "      <td>NaN</td>\n",
       "      <td>NaN</td>\n",
       "    </tr>\n",
       "    <tr>\n",
       "      <th>5</th>\n",
       "      <td>259012.0</td>\n",
       "      <td>2120-05-24</td>\n",
       "      <td>NaN</td>\n",
       "      <td>NaN</td>\n",
       "    </tr>\n",
       "    <tr>\n",
       "      <th>6</th>\n",
       "      <td>231735.0</td>\n",
       "      <td>2186-04-13</td>\n",
       "      <td>NaN</td>\n",
       "      <td>NaN</td>\n",
       "    </tr>\n",
       "    <tr>\n",
       "      <th>7</th>\n",
       "      <td>252135.0</td>\n",
       "      <td>2166-04-13</td>\n",
       "      <td>2166-04-13 00:00:00</td>\n",
       "      <td>1.0</td>\n",
       "    </tr>\n",
       "    <tr>\n",
       "      <th>8</th>\n",
       "      <td>293255.0</td>\n",
       "      <td>2167-10-21</td>\n",
       "      <td>2167-10-21 04:31:00</td>\n",
       "      <td>1.0</td>\n",
       "    </tr>\n",
       "    <tr>\n",
       "      <th>9</th>\n",
       "      <td>261279.0</td>\n",
       "      <td>2167-10-26</td>\n",
       "      <td>2167-10-26 01:00:00</td>\n",
       "      <td>1.0</td>\n",
       "    </tr>\n",
       "  </tbody>\n",
       "</table>\n",
       "</div>"
      ],
      "text/plain": [
       "   icustay_id         t_0      first_charttime  rrt\n",
       "0    267059.0  2182-11-12                  NaN  NaN\n",
       "1    278729.0  2159-11-08                  NaN  NaN\n",
       "2    219670.0  2190-08-01                  NaN  NaN\n",
       "3    295185.0  2154-11-11                  NaN  NaN\n",
       "4    211472.0  2193-12-11                  NaN  NaN\n",
       "5    259012.0  2120-05-24                  NaN  NaN\n",
       "6    231735.0  2186-04-13                  NaN  NaN\n",
       "7    252135.0  2166-04-13  2166-04-13 00:00:00  1.0\n",
       "8    293255.0  2167-10-21  2167-10-21 04:31:00  1.0\n",
       "9    261279.0  2167-10-26  2167-10-26 01:00:00  1.0"
      ]
     },
     "execution_count": 58,
     "metadata": {},
     "output_type": "execute_result"
    },
    {
     "name": "stdout",
     "output_type": "stream",
     "text": [
      "time: 9.09 ms\n"
     ]
    }
   ],
   "source": [
    "rrt_merged_allpt_df.head(10)"
   ]
  },
  {
   "cell_type": "code",
   "execution_count": 59,
   "metadata": {},
   "outputs": [
    {
     "name": "stdout",
     "output_type": "stream",
     "text": [
      "time: 1.83 ms\n"
     ]
    }
   ],
   "source": [
    "#na values\n",
    "rrt_merged_allpt_df_notnull = rrt_merged_allpt_df.loc[rrt_merged_allpt_df['rrt'].notnull(),:]"
   ]
  },
  {
   "cell_type": "code",
   "execution_count": 60,
   "metadata": {},
   "outputs": [
    {
     "name": "stdout",
     "output_type": "stream",
     "text": [
      "1223\n",
      "time: 1.28 ms\n"
     ]
    }
   ],
   "source": [
    "print(\n",
    "    rrt_merged_allpt_df_notnull['icustay_id'].nunique(), #1223/15207 unique icustay_id/icustay_id\n",
    ")"
   ]
  },
  {
   "cell_type": "code",
   "execution_count": 61,
   "metadata": {},
   "outputs": [
    {
     "name": "stdout",
     "output_type": "stream",
     "text": [
      "time: 475 µs\n"
     ]
    }
   ],
   "source": [
    "#missingness_fxn(rrt_merged_allpt_df_notnull.rename(index=str,columns={'rrt':\"label\"}),'rrt_merged_allpt_df_notnull', 'label','icustay_id')"
   ]
  },
  {
   "cell_type": "code",
   "execution_count": 62,
   "metadata": {},
   "outputs": [
    {
     "name": "stdout",
     "output_type": "stream",
     "text": [
      "time: 18.9 ms\n"
     ]
    }
   ],
   "source": [
    "missingness_df = pd.concat(\n",
    "    [missingness_df,\n",
    "        missingness_fxn(rrt_merged_allpt_df_notnull.rename(index=str,columns={'rrt':\"label\"}),'rrt_merged_allpt_df_notnull', 'label','icustay_id')]\n",
    ")"
   ]
  },
  {
   "cell_type": "markdown",
   "metadata": {},
   "source": [
    "### gcs72_df x"
   ]
  },
  {
   "cell_type": "code",
   "execution_count": 63,
   "metadata": {},
   "outputs": [
    {
     "data": {
      "text/html": [
       "<div>\n",
       "<style scoped>\n",
       "    .dataframe tbody tr th:only-of-type {\n",
       "        vertical-align: middle;\n",
       "    }\n",
       "\n",
       "    .dataframe tbody tr th {\n",
       "        vertical-align: top;\n",
       "    }\n",
       "\n",
       "    .dataframe thead th {\n",
       "        text-align: right;\n",
       "    }\n",
       "</style>\n",
       "<table border=\"1\" class=\"dataframe\">\n",
       "  <thead>\n",
       "    <tr style=\"text-align: right;\">\n",
       "      <th></th>\n",
       "      <th>subject_id</th>\n",
       "      <th>hadm_id</th>\n",
       "      <th>icustay_id</th>\n",
       "      <th>day</th>\n",
       "      <th>mingcs</th>\n",
       "      <th>gcsmotor</th>\n",
       "      <th>gcsverbal</th>\n",
       "      <th>gcseyes</th>\n",
       "      <th>endotrachflag</th>\n",
       "      <th>ICU_admit</th>\n",
       "      <th>t_0</th>\n",
       "      <th>admit_plus_day</th>\n",
       "      <th>delta</th>\n",
       "    </tr>\n",
       "  </thead>\n",
       "  <tbody>\n",
       "    <tr>\n",
       "      <th>0</th>\n",
       "      <td>28448</td>\n",
       "      <td>177527</td>\n",
       "      <td>200012</td>\n",
       "      <td>1.0</td>\n",
       "      <td>15.0</td>\n",
       "      <td>6.0</td>\n",
       "      <td>5.0</td>\n",
       "      <td>4.0</td>\n",
       "      <td>0.0</td>\n",
       "      <td>2153-12-23 05:12:55</td>\n",
       "      <td>2153-12-23</td>\n",
       "      <td>2153-12-24 05:12:55</td>\n",
       "      <td>1 days 05:12:55.000000000</td>\n",
       "    </tr>\n",
       "    <tr>\n",
       "      <th>1</th>\n",
       "      <td>9514</td>\n",
       "      <td>127229</td>\n",
       "      <td>200014</td>\n",
       "      <td>2.0</td>\n",
       "      <td>13.0</td>\n",
       "      <td>6.0</td>\n",
       "      <td>3.0</td>\n",
       "      <td>4.0</td>\n",
       "      <td>0.0</td>\n",
       "      <td>2105-02-16 23:16:48</td>\n",
       "      <td>2105-02-17</td>\n",
       "      <td>2105-02-18 23:16:48</td>\n",
       "      <td>1 days 23:16:48.000000000</td>\n",
       "    </tr>\n",
       "  </tbody>\n",
       "</table>\n",
       "</div>"
      ],
      "text/plain": [
       "   subject_id  hadm_id  icustay_id  day  mingcs  gcsmotor  gcsverbal  gcseyes  \\\n",
       "0       28448   177527      200012  1.0    15.0       6.0        5.0      4.0   \n",
       "1        9514   127229      200014  2.0    13.0       6.0        3.0      4.0   \n",
       "\n",
       "   endotrachflag            ICU_admit         t_0       admit_plus_day  \\\n",
       "0            0.0  2153-12-23 05:12:55  2153-12-23  2153-12-24 05:12:55   \n",
       "1            0.0  2105-02-16 23:16:48  2105-02-17  2105-02-18 23:16:48   \n",
       "\n",
       "                       delta  \n",
       "0  1 days 05:12:55.000000000  \n",
       "1  1 days 23:16:48.000000000  "
      ]
     },
     "execution_count": 63,
     "metadata": {},
     "output_type": "execute_result"
    },
    {
     "name": "stdout",
     "output_type": "stream",
     "text": [
      "time: 17.7 ms\n"
     ]
    }
   ],
   "source": [
    "gcs72_df.head(2)"
   ]
  },
  {
   "cell_type": "code",
   "execution_count": 64,
   "metadata": {},
   "outputs": [
    {
     "name": "stdout",
     "output_type": "stream",
     "text": [
      "time: 23.2 ms\n"
     ]
    }
   ],
   "source": [
    "#need to reshape the dataframe\n",
    "gcs72_df_melt = pd.melt(gcs72_df, id_vars=['subject_id','hadm_id','icustay_id','t_0','ICU_admit','admit_plus_day','delta'], var_name='label')"
   ]
  },
  {
   "cell_type": "code",
   "execution_count": 65,
   "metadata": {},
   "outputs": [
    {
     "name": "stdout",
     "output_type": "stream",
     "text": [
      "time: 6.65 ms\n"
     ]
    }
   ],
   "source": [
    "gcs72_df_melt_notnull= gcs72_df_melt[gcs72_df_melt['value'].notnull()] #62772 ->62650"
   ]
  },
  {
   "cell_type": "code",
   "execution_count": 66,
   "metadata": {},
   "outputs": [
    {
     "name": "stdout",
     "output_type": "stream",
     "text": [
      "10462\n",
      "time: 2.42 ms\n"
     ]
    }
   ],
   "source": [
    "print(\n",
    "    gcs72_df_melt_notnull['icustay_id'].nunique(), #10462/15207 unique icustay_id/icustay_id\n",
    ")"
   ]
  },
  {
   "cell_type": "code",
   "execution_count": 67,
   "metadata": {},
   "outputs": [
    {
     "data": {
      "text/html": [
       "<div>\n",
       "<style scoped>\n",
       "    .dataframe tbody tr th:only-of-type {\n",
       "        vertical-align: middle;\n",
       "    }\n",
       "\n",
       "    .dataframe tbody tr th {\n",
       "        vertical-align: top;\n",
       "    }\n",
       "\n",
       "    .dataframe thead th {\n",
       "        text-align: right;\n",
       "    }\n",
       "</style>\n",
       "<table border=\"1\" class=\"dataframe\">\n",
       "  <thead>\n",
       "    <tr style=\"text-align: right;\">\n",
       "      <th></th>\n",
       "      <th>label</th>\n",
       "      <th>%missingness</th>\n",
       "      <th>source</th>\n",
       "      <th>data_label</th>\n",
       "    </tr>\n",
       "  </thead>\n",
       "  <tbody>\n",
       "    <tr>\n",
       "      <th>0</th>\n",
       "      <td>day</td>\n",
       "      <td>31.202736</td>\n",
       "      <td>gcs72_df_melt_notnull</td>\n",
       "      <td>label</td>\n",
       "    </tr>\n",
       "    <tr>\n",
       "      <th>1</th>\n",
       "      <td>endotrachflag</td>\n",
       "      <td>31.202736</td>\n",
       "      <td>gcs72_df_melt_notnull</td>\n",
       "      <td>label</td>\n",
       "    </tr>\n",
       "    <tr>\n",
       "      <th>2</th>\n",
       "      <td>gcseyes</td>\n",
       "      <td>31.301374</td>\n",
       "      <td>gcs72_df_melt_notnull</td>\n",
       "      <td>label</td>\n",
       "    </tr>\n",
       "    <tr>\n",
       "      <th>3</th>\n",
       "      <td>gcsmotor</td>\n",
       "      <td>31.538107</td>\n",
       "      <td>gcs72_df_melt_notnull</td>\n",
       "      <td>label</td>\n",
       "    </tr>\n",
       "    <tr>\n",
       "      <th>4</th>\n",
       "      <td>gcsverbal</td>\n",
       "      <td>31.570987</td>\n",
       "      <td>gcs72_df_melt_notnull</td>\n",
       "      <td>label</td>\n",
       "    </tr>\n",
       "    <tr>\n",
       "      <th>5</th>\n",
       "      <td>mingcs</td>\n",
       "      <td>31.202736</td>\n",
       "      <td>gcs72_df_melt_notnull</td>\n",
       "      <td>label</td>\n",
       "    </tr>\n",
       "  </tbody>\n",
       "</table>\n",
       "</div>"
      ],
      "text/plain": [
       "           label  %missingness                 source data_label\n",
       "0            day     31.202736  gcs72_df_melt_notnull      label\n",
       "1  endotrachflag     31.202736  gcs72_df_melt_notnull      label\n",
       "2        gcseyes     31.301374  gcs72_df_melt_notnull      label\n",
       "3       gcsmotor     31.538107  gcs72_df_melt_notnull      label\n",
       "4      gcsverbal     31.570987  gcs72_df_melt_notnull      label\n",
       "5         mingcs     31.202736  gcs72_df_melt_notnull      label"
      ]
     },
     "execution_count": 67,
     "metadata": {},
     "output_type": "execute_result"
    },
    {
     "name": "stdout",
     "output_type": "stream",
     "text": [
      "time: 17.3 ms\n"
     ]
    }
   ],
   "source": [
    "missingness_fxn(gcs72_df_melt_notnull,'gcs72_df_melt_notnull', 'label','icustay_id')"
   ]
  },
  {
   "cell_type": "code",
   "execution_count": 68,
   "metadata": {},
   "outputs": [
    {
     "name": "stdout",
     "output_type": "stream",
     "text": [
      "time: 9.51 ms\n"
     ]
    }
   ],
   "source": [
    "missingness_df = pd.concat(\n",
    "    [missingness_df,\n",
    "        missingness_fxn(gcs72_df_melt_notnull,'gcs72_df_melt_notnull', 'label','icustay_id')]\n",
    ")"
   ]
  },
  {
   "cell_type": "markdown",
   "metadata": {},
   "source": [
    "### sofa_df_72"
   ]
  },
  {
   "cell_type": "code",
   "execution_count": 69,
   "metadata": {},
   "outputs": [
    {
     "data": {
      "text/html": [
       "<div>\n",
       "<style scoped>\n",
       "    .dataframe tbody tr th:only-of-type {\n",
       "        vertical-align: middle;\n",
       "    }\n",
       "\n",
       "    .dataframe tbody tr th {\n",
       "        vertical-align: top;\n",
       "    }\n",
       "\n",
       "    .dataframe thead th {\n",
       "        text-align: right;\n",
       "    }\n",
       "</style>\n",
       "<table border=\"1\" class=\"dataframe\">\n",
       "  <thead>\n",
       "    <tr style=\"text-align: right;\">\n",
       "      <th></th>\n",
       "      <th>subject_id</th>\n",
       "      <th>hadm_id</th>\n",
       "      <th>icustay_id</th>\n",
       "      <th>day</th>\n",
       "      <th>sofa</th>\n",
       "      <th>respiration</th>\n",
       "      <th>pao2fio2_vent_min</th>\n",
       "      <th>pao2fio2_novent_min</th>\n",
       "      <th>coagulation</th>\n",
       "      <th>platelet_min</th>\n",
       "      <th>...</th>\n",
       "      <th>meanbp_min</th>\n",
       "      <th>cns</th>\n",
       "      <th>mingcs</th>\n",
       "      <th>renal</th>\n",
       "      <th>creatinine_max</th>\n",
       "      <th>urineoutput</th>\n",
       "      <th>t_0</th>\n",
       "      <th>ICU_admit</th>\n",
       "      <th>approx_charttime</th>\n",
       "      <th>floor_charttime</th>\n",
       "    </tr>\n",
       "  </thead>\n",
       "  <tbody>\n",
       "    <tr>\n",
       "      <th>4</th>\n",
       "      <td>9</td>\n",
       "      <td>150750</td>\n",
       "      <td>220597</td>\n",
       "      <td>4.0</td>\n",
       "      <td>6</td>\n",
       "      <td>0.0</td>\n",
       "      <td>204.0</td>\n",
       "      <td>NaN</td>\n",
       "      <td>0.0</td>\n",
       "      <td>306.0</td>\n",
       "      <td>...</td>\n",
       "      <td>54.0</td>\n",
       "      <td>NaN</td>\n",
       "      <td>NaN</td>\n",
       "      <td>2.0</td>\n",
       "      <td>2.0</td>\n",
       "      <td>6020.0</td>\n",
       "      <td>2149-11-13</td>\n",
       "      <td>2149-11-09 13:07:02</td>\n",
       "      <td>2149-11-13 13:07:02</td>\n",
       "      <td>2149-11-13 00:00:00</td>\n",
       "    </tr>\n",
       "    <tr>\n",
       "      <th>5</th>\n",
       "      <td>9</td>\n",
       "      <td>150750</td>\n",
       "      <td>220597</td>\n",
       "      <td>5.0</td>\n",
       "      <td>7</td>\n",
       "      <td>NaN</td>\n",
       "      <td>NaN</td>\n",
       "      <td>NaN</td>\n",
       "      <td>NaN</td>\n",
       "      <td>NaN</td>\n",
       "      <td>...</td>\n",
       "      <td>91.0</td>\n",
       "      <td>NaN</td>\n",
       "      <td>NaN</td>\n",
       "      <td>4.0</td>\n",
       "      <td>NaN</td>\n",
       "      <td>100.0</td>\n",
       "      <td>2149-11-13</td>\n",
       "      <td>2149-11-09 13:07:02</td>\n",
       "      <td>2149-11-14 13:07:02</td>\n",
       "      <td>2149-11-14 00:00:00</td>\n",
       "    </tr>\n",
       "  </tbody>\n",
       "</table>\n",
       "<p>2 rows × 27 columns</p>\n",
       "</div>"
      ],
      "text/plain": [
       "   subject_id  hadm_id  icustay_id  day  sofa  respiration  pao2fio2_vent_min  \\\n",
       "4           9   150750      220597  4.0     6          0.0              204.0   \n",
       "5           9   150750      220597  5.0     7          NaN                NaN   \n",
       "\n",
       "   pao2fio2_novent_min  coagulation  platelet_min         ...           \\\n",
       "4                  NaN          0.0         306.0         ...            \n",
       "5                  NaN          NaN           NaN         ...            \n",
       "\n",
       "   meanbp_min  cns  mingcs  renal  creatinine_max  urineoutput         t_0  \\\n",
       "4        54.0  NaN     NaN    2.0             2.0       6020.0  2149-11-13   \n",
       "5        91.0  NaN     NaN    4.0             NaN        100.0  2149-11-13   \n",
       "\n",
       "             ICU_admit     approx_charttime      floor_charttime  \n",
       "4  2149-11-09 13:07:02  2149-11-13 13:07:02  2149-11-13 00:00:00  \n",
       "5  2149-11-09 13:07:02  2149-11-14 13:07:02  2149-11-14 00:00:00  \n",
       "\n",
       "[2 rows x 27 columns]"
      ]
     },
     "execution_count": 69,
     "metadata": {},
     "output_type": "execute_result"
    },
    {
     "name": "stdout",
     "output_type": "stream",
     "text": [
      "time: 20.7 ms\n"
     ]
    }
   ],
   "source": [
    "sofa_df_72.head(2)"
   ]
  },
  {
   "cell_type": "code",
   "execution_count": 70,
   "metadata": {},
   "outputs": [
    {
     "name": "stdout",
     "output_type": "stream",
     "text": [
      "time: 144 ms\n"
     ]
    }
   ],
   "source": [
    "#need to reshape the dataframe\n",
    "sofa_df_melt = pd.melt(sofa_df_72, id_vars=['subject_id','hadm_id','icustay_id','t_0','day','ICU_admit','approx_charttime','floor_charttime'], var_name='label')"
   ]
  },
  {
   "cell_type": "code",
   "execution_count": 72,
   "metadata": {},
   "outputs": [
    {
     "name": "stdout",
     "output_type": "stream",
     "text": [
      "time: 27.6 ms\n"
     ]
    }
   ],
   "source": [
    "sofa_df_melt_notnull= sofa_df_melt[sofa_df_melt['value'].notnull()] #606651 ->302459"
   ]
  },
  {
   "cell_type": "code",
   "execution_count": 73,
   "metadata": {},
   "outputs": [
    {
     "data": {
      "text/plain": [
       "302459"
      ]
     },
     "execution_count": 73,
     "metadata": {},
     "output_type": "execute_result"
    },
    {
     "name": "stdout",
     "output_type": "stream",
     "text": [
      "time: 1.77 ms\n"
     ]
    }
   ],
   "source": [
    "len(sofa_df_melt_notnull)"
   ]
  },
  {
   "cell_type": "code",
   "execution_count": 74,
   "metadata": {},
   "outputs": [
    {
     "name": "stdout",
     "output_type": "stream",
     "text": [
      "13323\n",
      "time: 3.52 ms\n"
     ]
    }
   ],
   "source": [
    "print(\n",
    "    sofa_df_melt_notnull['icustay_id'].nunique(), #13323/15207 unique icustay_id/icustay_id\n",
    ")"
   ]
  },
  {
   "cell_type": "code",
   "execution_count": 75,
   "metadata": {},
   "outputs": [
    {
     "name": "stdout",
     "output_type": "stream",
     "text": [
      "time: 60.8 ms\n"
     ]
    }
   ],
   "source": [
    "missingness_df = pd.concat(\n",
    "    [missingness_df,\n",
    "        missingness_fxn(sofa_df_melt_notnull,'sofa_df_melt_notnull', 'label','icustay_id')]\n",
    ")"
   ]
  },
  {
   "cell_type": "code",
   "execution_count": null,
   "metadata": {},
   "outputs": [],
   "source": [
    "missingness_df = missingness_df.sort_values('%missingness', ascending=False)\n",
    "\n",
    "date= '27082018'\n",
    "\n",
    "pd.DataFrame(missingness_df).to_csv(\n",
    "    '/Users/geickelb1/Documents/GitHub/mimiciii-antibiotics-modeling/data/interim/%s_missingness_df.csv' %(date))"
   ]
  },
  {
   "cell_type": "code",
   "execution_count": 77,
   "metadata": {},
   "outputs": [
    {
     "data": {
      "text/html": [
       "<div>\n",
       "<style scoped>\n",
       "    .dataframe tbody tr th:only-of-type {\n",
       "        vertical-align: middle;\n",
       "    }\n",
       "\n",
       "    .dataframe tbody tr th {\n",
       "        vertical-align: top;\n",
       "    }\n",
       "\n",
       "    .dataframe thead th {\n",
       "        text-align: right;\n",
       "    }\n",
       "</style>\n",
       "<table border=\"1\" class=\"dataframe\">\n",
       "  <thead>\n",
       "    <tr style=\"text-align: right;\">\n",
       "      <th></th>\n",
       "      <th>label</th>\n",
       "      <th>%missingness</th>\n",
       "      <th>source</th>\n",
       "      <th>data_label</th>\n",
       "    </tr>\n",
       "  </thead>\n",
       "  <tbody>\n",
       "    <tr>\n",
       "      <th>0</th>\n",
       "      <td>ALBUMIN</td>\n",
       "      <td>54.060630</td>\n",
       "      <td>labs_all_nosummary_72</td>\n",
       "      <td>label</td>\n",
       "    </tr>\n",
       "    <tr>\n",
       "      <th>1</th>\n",
       "      <td>ANION GAP</td>\n",
       "      <td>0.710199</td>\n",
       "      <td>labs_all_nosummary_72</td>\n",
       "      <td>label</td>\n",
       "    </tr>\n",
       "    <tr>\n",
       "      <th>2</th>\n",
       "      <td>BANDS</td>\n",
       "      <td>83.231407</td>\n",
       "      <td>labs_all_nosummary_72</td>\n",
       "      <td>label</td>\n",
       "    </tr>\n",
       "    <tr>\n",
       "      <th>3</th>\n",
       "      <td>BICARBONATE</td>\n",
       "      <td>0.637864</td>\n",
       "      <td>labs_all_nosummary_72</td>\n",
       "      <td>label</td>\n",
       "    </tr>\n",
       "    <tr>\n",
       "      <th>4</th>\n",
       "      <td>BILIRUBIN</td>\n",
       "      <td>44.933254</td>\n",
       "      <td>labs_all_nosummary_72</td>\n",
       "      <td>label</td>\n",
       "    </tr>\n",
       "    <tr>\n",
       "      <th>5</th>\n",
       "      <td>BUN</td>\n",
       "      <td>0.611560</td>\n",
       "      <td>labs_all_nosummary_72</td>\n",
       "      <td>label</td>\n",
       "    </tr>\n",
       "    <tr>\n",
       "      <th>6</th>\n",
       "      <td>CHLORIDE</td>\n",
       "      <td>0.598409</td>\n",
       "      <td>labs_all_nosummary_72</td>\n",
       "      <td>label</td>\n",
       "    </tr>\n",
       "    <tr>\n",
       "      <th>7</th>\n",
       "      <td>CREATININE</td>\n",
       "      <td>0.598409</td>\n",
       "      <td>labs_all_nosummary_72</td>\n",
       "      <td>label</td>\n",
       "    </tr>\n",
       "    <tr>\n",
       "      <th>8</th>\n",
       "      <td>GLUCOSE</td>\n",
       "      <td>0.585257</td>\n",
       "      <td>labs_all_nosummary_72</td>\n",
       "      <td>label</td>\n",
       "    </tr>\n",
       "    <tr>\n",
       "      <th>9</th>\n",
       "      <td>HEMATOCRIT</td>\n",
       "      <td>0.624712</td>\n",
       "      <td>labs_all_nosummary_72</td>\n",
       "      <td>label</td>\n",
       "    </tr>\n",
       "    <tr>\n",
       "      <th>10</th>\n",
       "      <td>HEMOGLOBIN</td>\n",
       "      <td>0.670744</td>\n",
       "      <td>labs_all_nosummary_72</td>\n",
       "      <td>label</td>\n",
       "    </tr>\n",
       "    <tr>\n",
       "      <th>11</th>\n",
       "      <td>INR</td>\n",
       "      <td>13.125534</td>\n",
       "      <td>labs_all_nosummary_72</td>\n",
       "      <td>label</td>\n",
       "    </tr>\n",
       "    <tr>\n",
       "      <th>12</th>\n",
       "      <td>LACTATE</td>\n",
       "      <td>39.376603</td>\n",
       "      <td>labs_all_nosummary_72</td>\n",
       "      <td>label</td>\n",
       "    </tr>\n",
       "    <tr>\n",
       "      <th>13</th>\n",
       "      <td>PLATELET</td>\n",
       "      <td>0.690471</td>\n",
       "      <td>labs_all_nosummary_72</td>\n",
       "      <td>label</td>\n",
       "    </tr>\n",
       "    <tr>\n",
       "      <th>14</th>\n",
       "      <td>POTASSIUM</td>\n",
       "      <td>0.552377</td>\n",
       "      <td>labs_all_nosummary_72</td>\n",
       "      <td>label</td>\n",
       "    </tr>\n",
       "    <tr>\n",
       "      <th>15</th>\n",
       "      <td>PT</td>\n",
       "      <td>13.105807</td>\n",
       "      <td>labs_all_nosummary_72</td>\n",
       "      <td>label</td>\n",
       "    </tr>\n",
       "    <tr>\n",
       "      <th>16</th>\n",
       "      <td>PTT</td>\n",
       "      <td>13.533241</td>\n",
       "      <td>labs_all_nosummary_72</td>\n",
       "      <td>label</td>\n",
       "    </tr>\n",
       "    <tr>\n",
       "      <th>17</th>\n",
       "      <td>SODIUM</td>\n",
       "      <td>0.585257</td>\n",
       "      <td>labs_all_nosummary_72</td>\n",
       "      <td>label</td>\n",
       "    </tr>\n",
       "    <tr>\n",
       "      <th>18</th>\n",
       "      <td>WBC</td>\n",
       "      <td>0.657592</td>\n",
       "      <td>labs_all_nosummary_72</td>\n",
       "      <td>label</td>\n",
       "    </tr>\n",
       "    <tr>\n",
       "      <th>0</th>\n",
       "      <td>dobutamine</td>\n",
       "      <td>98.421779</td>\n",
       "      <td>vaso_dose_72</td>\n",
       "      <td>label</td>\n",
       "    </tr>\n",
       "    <tr>\n",
       "      <th>1</th>\n",
       "      <td>dopamine</td>\n",
       "      <td>94.226343</td>\n",
       "      <td>vaso_dose_72</td>\n",
       "      <td>label</td>\n",
       "    </tr>\n",
       "    <tr>\n",
       "      <th>2</th>\n",
       "      <td>epinephrine</td>\n",
       "      <td>97.968041</td>\n",
       "      <td>vaso_dose_72</td>\n",
       "      <td>label</td>\n",
       "    </tr>\n",
       "    <tr>\n",
       "      <th>3</th>\n",
       "      <td>norepinephrine</td>\n",
       "      <td>80.686526</td>\n",
       "      <td>vaso_dose_72</td>\n",
       "      <td>label</td>\n",
       "    </tr>\n",
       "    <tr>\n",
       "      <th>4</th>\n",
       "      <td>phenylephrine</td>\n",
       "      <td>84.540014</td>\n",
       "      <td>vaso_dose_72</td>\n",
       "      <td>label</td>\n",
       "    </tr>\n",
       "    <tr>\n",
       "      <th>5</th>\n",
       "      <td>vasopressin</td>\n",
       "      <td>94.456500</td>\n",
       "      <td>vaso_dose_72</td>\n",
       "      <td>label</td>\n",
       "    </tr>\n",
       "    <tr>\n",
       "      <th>0</th>\n",
       "      <td>vent_day1</td>\n",
       "      <td>0.000000</td>\n",
       "      <td>ventcategory_df</td>\n",
       "      <td>label</td>\n",
       "    </tr>\n",
       "    <tr>\n",
       "      <th>1</th>\n",
       "      <td>vent_day2</td>\n",
       "      <td>0.000000</td>\n",
       "      <td>ventcategory_df</td>\n",
       "      <td>label</td>\n",
       "    </tr>\n",
       "    <tr>\n",
       "      <th>2</th>\n",
       "      <td>vent_day3</td>\n",
       "      <td>0.000000</td>\n",
       "      <td>ventcategory_df</td>\n",
       "      <td>label</td>\n",
       "    </tr>\n",
       "    <tr>\n",
       "      <th>0</th>\n",
       "      <td>weight</td>\n",
       "      <td>10.008549</td>\n",
       "      <td>weightfirstday_df</td>\n",
       "      <td>label</td>\n",
       "    </tr>\n",
       "    <tr>\n",
       "      <th>1</th>\n",
       "      <td>weight_admit</td>\n",
       "      <td>24.738607</td>\n",
       "      <td>weightfirstday_df</td>\n",
       "      <td>label</td>\n",
       "    </tr>\n",
       "    <tr>\n",
       "      <th>...</th>\n",
       "      <td>...</td>\n",
       "      <td>...</td>\n",
       "      <td>...</td>\n",
       "      <td>...</td>\n",
       "    </tr>\n",
       "    <tr>\n",
       "      <th>25</th>\n",
       "      <td>TIDALVOLUME</td>\n",
       "      <td>73.933057</td>\n",
       "      <td>bg_all_nosummary_72</td>\n",
       "      <td>label</td>\n",
       "    </tr>\n",
       "    <tr>\n",
       "      <th>26</th>\n",
       "      <td>TOTALCO2</td>\n",
       "      <td>37.088183</td>\n",
       "      <td>bg_all_nosummary_72</td>\n",
       "      <td>label</td>\n",
       "    </tr>\n",
       "    <tr>\n",
       "      <th>27</th>\n",
       "      <td>VENTILATIONRATE</td>\n",
       "      <td>80.173604</td>\n",
       "      <td>bg_all_nosummary_72</td>\n",
       "      <td>label</td>\n",
       "    </tr>\n",
       "    <tr>\n",
       "      <th>28</th>\n",
       "      <td>VENTILATOR</td>\n",
       "      <td>83.211679</td>\n",
       "      <td>bg_all_nosummary_72</td>\n",
       "      <td>label</td>\n",
       "    </tr>\n",
       "    <tr>\n",
       "      <th>0</th>\n",
       "      <td>1</td>\n",
       "      <td>91.957651</td>\n",
       "      <td>rrt_merged_allpt_df_notnull</td>\n",
       "      <td>label</td>\n",
       "    </tr>\n",
       "    <tr>\n",
       "      <th>0</th>\n",
       "      <td>day</td>\n",
       "      <td>31.202736</td>\n",
       "      <td>gcs72_df_melt_notnull</td>\n",
       "      <td>label</td>\n",
       "    </tr>\n",
       "    <tr>\n",
       "      <th>1</th>\n",
       "      <td>endotrachflag</td>\n",
       "      <td>31.202736</td>\n",
       "      <td>gcs72_df_melt_notnull</td>\n",
       "      <td>label</td>\n",
       "    </tr>\n",
       "    <tr>\n",
       "      <th>2</th>\n",
       "      <td>gcseyes</td>\n",
       "      <td>31.301374</td>\n",
       "      <td>gcs72_df_melt_notnull</td>\n",
       "      <td>label</td>\n",
       "    </tr>\n",
       "    <tr>\n",
       "      <th>3</th>\n",
       "      <td>gcsmotor</td>\n",
       "      <td>31.538107</td>\n",
       "      <td>gcs72_df_melt_notnull</td>\n",
       "      <td>label</td>\n",
       "    </tr>\n",
       "    <tr>\n",
       "      <th>4</th>\n",
       "      <td>gcsverbal</td>\n",
       "      <td>31.570987</td>\n",
       "      <td>gcs72_df_melt_notnull</td>\n",
       "      <td>label</td>\n",
       "    </tr>\n",
       "    <tr>\n",
       "      <th>5</th>\n",
       "      <td>mingcs</td>\n",
       "      <td>31.202736</td>\n",
       "      <td>gcs72_df_melt_notnull</td>\n",
       "      <td>label</td>\n",
       "    </tr>\n",
       "    <tr>\n",
       "      <th>0</th>\n",
       "      <td>bilirubin_max</td>\n",
       "      <td>62.096403</td>\n",
       "      <td>sofa_df_melt_notnull</td>\n",
       "      <td>label</td>\n",
       "    </tr>\n",
       "    <tr>\n",
       "      <th>1</th>\n",
       "      <td>cardiovascular</td>\n",
       "      <td>15.223252</td>\n",
       "      <td>sofa_df_melt_notnull</td>\n",
       "      <td>label</td>\n",
       "    </tr>\n",
       "    <tr>\n",
       "      <th>2</th>\n",
       "      <td>cns</td>\n",
       "      <td>55.079897</td>\n",
       "      <td>sofa_df_melt_notnull</td>\n",
       "      <td>label</td>\n",
       "    </tr>\n",
       "    <tr>\n",
       "      <th>3</th>\n",
       "      <td>coagulation</td>\n",
       "      <td>20.260406</td>\n",
       "      <td>sofa_df_melt_notnull</td>\n",
       "      <td>label</td>\n",
       "    </tr>\n",
       "    <tr>\n",
       "      <th>4</th>\n",
       "      <td>creatinine_max</td>\n",
       "      <td>19.767212</td>\n",
       "      <td>sofa_df_melt_notnull</td>\n",
       "      <td>label</td>\n",
       "    </tr>\n",
       "    <tr>\n",
       "      <th>5</th>\n",
       "      <td>liver</td>\n",
       "      <td>62.096403</td>\n",
       "      <td>sofa_df_melt_notnull</td>\n",
       "      <td>label</td>\n",
       "    </tr>\n",
       "    <tr>\n",
       "      <th>6</th>\n",
       "      <td>meanbp_min</td>\n",
       "      <td>15.256132</td>\n",
       "      <td>sofa_df_melt_notnull</td>\n",
       "      <td>label</td>\n",
       "    </tr>\n",
       "    <tr>\n",
       "      <th>7</th>\n",
       "      <td>mingcs</td>\n",
       "      <td>55.079897</td>\n",
       "      <td>sofa_df_melt_notnull</td>\n",
       "      <td>label</td>\n",
       "    </tr>\n",
       "    <tr>\n",
       "      <th>8</th>\n",
       "      <td>pao2fio2_novent_min</td>\n",
       "      <td>81.903071</td>\n",
       "      <td>sofa_df_melt_notnull</td>\n",
       "      <td>label</td>\n",
       "    </tr>\n",
       "    <tr>\n",
       "      <th>9</th>\n",
       "      <td>pao2fio2_vent_min</td>\n",
       "      <td>64.720195</td>\n",
       "      <td>sofa_df_melt_notnull</td>\n",
       "      <td>label</td>\n",
       "    </tr>\n",
       "    <tr>\n",
       "      <th>10</th>\n",
       "      <td>platelet_min</td>\n",
       "      <td>20.260406</td>\n",
       "      <td>sofa_df_melt_notnull</td>\n",
       "      <td>label</td>\n",
       "    </tr>\n",
       "    <tr>\n",
       "      <th>11</th>\n",
       "      <td>rate_dobutamine</td>\n",
       "      <td>98.651937</td>\n",
       "      <td>sofa_df_melt_notnull</td>\n",
       "      <td>label</td>\n",
       "    </tr>\n",
       "    <tr>\n",
       "      <th>12</th>\n",
       "      <td>rate_dopamine</td>\n",
       "      <td>95.528375</td>\n",
       "      <td>sofa_df_melt_notnull</td>\n",
       "      <td>label</td>\n",
       "    </tr>\n",
       "    <tr>\n",
       "      <th>13</th>\n",
       "      <td>rate_epinephrine</td>\n",
       "      <td>98.106135</td>\n",
       "      <td>sofa_df_melt_notnull</td>\n",
       "      <td>label</td>\n",
       "    </tr>\n",
       "    <tr>\n",
       "      <th>14</th>\n",
       "      <td>rate_norepinephrine</td>\n",
       "      <td>83.665417</td>\n",
       "      <td>sofa_df_melt_notnull</td>\n",
       "      <td>label</td>\n",
       "    </tr>\n",
       "    <tr>\n",
       "      <th>15</th>\n",
       "      <td>renal</td>\n",
       "      <td>15.124614</td>\n",
       "      <td>sofa_df_melt_notnull</td>\n",
       "      <td>label</td>\n",
       "    </tr>\n",
       "    <tr>\n",
       "      <th>16</th>\n",
       "      <td>respiration</td>\n",
       "      <td>58.821595</td>\n",
       "      <td>sofa_df_melt_notnull</td>\n",
       "      <td>label</td>\n",
       "    </tr>\n",
       "    <tr>\n",
       "      <th>17</th>\n",
       "      <td>sofa</td>\n",
       "      <td>12.389031</td>\n",
       "      <td>sofa_df_melt_notnull</td>\n",
       "      <td>label</td>\n",
       "    </tr>\n",
       "    <tr>\n",
       "      <th>18</th>\n",
       "      <td>urineoutput</td>\n",
       "      <td>19.267443</td>\n",
       "      <td>sofa_df_melt_notnull</td>\n",
       "      <td>label</td>\n",
       "    </tr>\n",
       "  </tbody>\n",
       "</table>\n",
       "<p>103 rows × 4 columns</p>\n",
       "</div>"
      ],
      "text/plain": [
       "                  label  %missingness                       source data_label\n",
       "0               ALBUMIN     54.060630        labs_all_nosummary_72      label\n",
       "1             ANION GAP      0.710199        labs_all_nosummary_72      label\n",
       "2                 BANDS     83.231407        labs_all_nosummary_72      label\n",
       "3           BICARBONATE      0.637864        labs_all_nosummary_72      label\n",
       "4             BILIRUBIN     44.933254        labs_all_nosummary_72      label\n",
       "5                   BUN      0.611560        labs_all_nosummary_72      label\n",
       "6              CHLORIDE      0.598409        labs_all_nosummary_72      label\n",
       "7            CREATININE      0.598409        labs_all_nosummary_72      label\n",
       "8               GLUCOSE      0.585257        labs_all_nosummary_72      label\n",
       "9            HEMATOCRIT      0.624712        labs_all_nosummary_72      label\n",
       "10           HEMOGLOBIN      0.670744        labs_all_nosummary_72      label\n",
       "11                  INR     13.125534        labs_all_nosummary_72      label\n",
       "12              LACTATE     39.376603        labs_all_nosummary_72      label\n",
       "13             PLATELET      0.690471        labs_all_nosummary_72      label\n",
       "14            POTASSIUM      0.552377        labs_all_nosummary_72      label\n",
       "15                   PT     13.105807        labs_all_nosummary_72      label\n",
       "16                  PTT     13.533241        labs_all_nosummary_72      label\n",
       "17               SODIUM      0.585257        labs_all_nosummary_72      label\n",
       "18                  WBC      0.657592        labs_all_nosummary_72      label\n",
       "0            dobutamine     98.421779                 vaso_dose_72      label\n",
       "1              dopamine     94.226343                 vaso_dose_72      label\n",
       "2           epinephrine     97.968041                 vaso_dose_72      label\n",
       "3        norepinephrine     80.686526                 vaso_dose_72      label\n",
       "4         phenylephrine     84.540014                 vaso_dose_72      label\n",
       "5           vasopressin     94.456500                 vaso_dose_72      label\n",
       "0             vent_day1      0.000000              ventcategory_df      label\n",
       "1             vent_day2      0.000000              ventcategory_df      label\n",
       "2             vent_day3      0.000000              ventcategory_df      label\n",
       "0                weight     10.008549            weightfirstday_df      label\n",
       "1          weight_admit     24.738607            weightfirstday_df      label\n",
       "..                  ...           ...                          ...        ...\n",
       "25          TIDALVOLUME     73.933057          bg_all_nosummary_72      label\n",
       "26             TOTALCO2     37.088183          bg_all_nosummary_72      label\n",
       "27      VENTILATIONRATE     80.173604          bg_all_nosummary_72      label\n",
       "28           VENTILATOR     83.211679          bg_all_nosummary_72      label\n",
       "0                     1     91.957651  rrt_merged_allpt_df_notnull      label\n",
       "0                   day     31.202736        gcs72_df_melt_notnull      label\n",
       "1         endotrachflag     31.202736        gcs72_df_melt_notnull      label\n",
       "2               gcseyes     31.301374        gcs72_df_melt_notnull      label\n",
       "3              gcsmotor     31.538107        gcs72_df_melt_notnull      label\n",
       "4             gcsverbal     31.570987        gcs72_df_melt_notnull      label\n",
       "5                mingcs     31.202736        gcs72_df_melt_notnull      label\n",
       "0         bilirubin_max     62.096403         sofa_df_melt_notnull      label\n",
       "1        cardiovascular     15.223252         sofa_df_melt_notnull      label\n",
       "2                   cns     55.079897         sofa_df_melt_notnull      label\n",
       "3           coagulation     20.260406         sofa_df_melt_notnull      label\n",
       "4        creatinine_max     19.767212         sofa_df_melt_notnull      label\n",
       "5                 liver     62.096403         sofa_df_melt_notnull      label\n",
       "6            meanbp_min     15.256132         sofa_df_melt_notnull      label\n",
       "7                mingcs     55.079897         sofa_df_melt_notnull      label\n",
       "8   pao2fio2_novent_min     81.903071         sofa_df_melt_notnull      label\n",
       "9     pao2fio2_vent_min     64.720195         sofa_df_melt_notnull      label\n",
       "10         platelet_min     20.260406         sofa_df_melt_notnull      label\n",
       "11      rate_dobutamine     98.651937         sofa_df_melt_notnull      label\n",
       "12        rate_dopamine     95.528375         sofa_df_melt_notnull      label\n",
       "13     rate_epinephrine     98.106135         sofa_df_melt_notnull      label\n",
       "14  rate_norepinephrine     83.665417         sofa_df_melt_notnull      label\n",
       "15                renal     15.124614         sofa_df_melt_notnull      label\n",
       "16          respiration     58.821595         sofa_df_melt_notnull      label\n",
       "17                 sofa     12.389031         sofa_df_melt_notnull      label\n",
       "18          urineoutput     19.267443         sofa_df_melt_notnull      label\n",
       "\n",
       "[103 rows x 4 columns]"
      ]
     },
     "execution_count": 77,
     "metadata": {},
     "output_type": "execute_result"
    },
    {
     "name": "stdout",
     "output_type": "stream",
     "text": [
      "time: 20 ms\n"
     ]
    }
   ],
   "source": [
    "missingness_df"
   ]
  },
  {
   "cell_type": "markdown",
   "metadata": {},
   "source": [
    "### visualizations"
   ]
  },
  {
   "cell_type": "code",
   "execution_count": null,
   "metadata": {},
   "outputs": [],
   "source": [
    "\"\"\"\n",
    "    get the # of filled vs missign values for each variable for our cohort.\n",
    "    Args:\n",
    "    -----\n",
    "    df: dataframe\n",
    "        name of dataframe initialized in this workbook\n",
    "    valuenum_col: string\n",
    "        name of column with the numerical or text variable in question\n",
    "    label_col: string\n",
    "        name of column with the lab value label in question\n",
    "    Returns:\n",
    "    -----\n",
    "    filled_summary: df\n",
    "        list of all variables with # filled values\n",
    "    missing_summary: df\n",
    "        list of all variables with # missing values\n",
    "    percent_summary: df\n",
    "        list of all variables with # filled values/ # total patients\n",
    "    \"\"\"\n",
    "\n",
    "def missing_fxn(df, valuenum_col, label_col):\n",
    "    if 'icustay_id' in list(df):\n",
    "        df= df[df['icustay_id'].isin(list(cohort_df['icustay_id'].unique()))] #good\n",
    "    else:\n",
    "        df= df[df['subject_id'].isin(\n",
    "            list(cohort_df['subject_id'].unique()))] \n",
    "\n",
    "    df_notnull = df[df[valuenum_col].notnull()]\n",
    "    df_null = df[df[valuenum_col].isnull()]\n",
    "    df_filtered = df.drop_duplicates(['subject_id',label_col])[label_col].value_counts()\n",
    "    \n",
    "    filled_summary= df_notnull.drop_duplicates(['subject_id',label_col])[label_col].value_counts()\n",
    "    missing_summary = df_null.drop_duplicates(['subject_id',label_col])[label_col].value_counts()\n",
    "    percent_summary = 100*(filled_summary / df_filtered)\n",
    "    \n",
    "    #missing_plot=(missing_summary.sort_index().plot.bar(title = f'# of missing values in {df}'))\n",
    "    \n",
    "    #filled_summary, missing_summary, percent_summary, \n",
    "    return(filled_summary, missing_summary, percent_summary)"
   ]
  },
  {
   "cell_type": "code",
   "execution_count": null,
   "metadata": {},
   "outputs": [],
   "source": [
    "var1, var2, var3,  = missing_fxn(labs_all48, 'valuenum', 'label')\n",
    "fig, axs = plt.subplots(1,2,figsize=(10,4))\n",
    "ax1= (var2.sort_index().plot.bar(ax=axs[0], title = '# of missing values in labs_all48'))\n",
    "ax2= (var3.sort_index().plot.bar(color='grey',\n",
    "                                ax=axs[1],\n",
    "                                ylim=(min(var3)-10 ,100),\n",
    "                                title = '% of values filled in labs_all48'))"
   ]
  },
  {
   "cell_type": "markdown",
   "metadata": {},
   "source": [
    "#### histogram of frequency over each hour."
   ]
  },
  {
   "cell_type": "code",
   "execution_count": null,
   "metadata": {},
   "outputs": [],
   "source": []
  },
  {
   "cell_type": "code",
   "execution_count": 10,
   "metadata": {},
   "outputs": [
    {
     "name": "stdout",
     "output_type": "stream",
     "text": [
      "time: 2.48 ms\n"
     ]
    }
   ],
   "source": [
    "def hours_fxn(td):\n",
    "    return ((td.days*24*3600) + td.seconds)//3600\n",
    "\n",
    "def days_fxn(td):\n",
    "    return td.days"
   ]
  },
  {
   "cell_type": "code",
   "execution_count": 18,
   "metadata": {},
   "outputs": [
    {
     "data": {
      "text/plain": [
       "4     0 days 16:31:00\n",
       "108   0 days 15:07:00\n",
       "109   2 days 12:00:00\n",
       "110   2 days 21:59:00\n",
       "122   0 days 23:12:00\n",
       "Name: delta, dtype: timedelta64[ns]"
      ]
     },
     "execution_count": 18,
     "metadata": {},
     "output_type": "execute_result"
    },
    {
     "name": "stdout",
     "output_type": "stream",
     "text": [
      "time: 4.6 ms\n"
     ]
    }
   ],
   "source": [
    "pd.to_timedelta(vaso_dose_72['delta'].head())"
   ]
  },
  {
   "cell_type": "code",
   "execution_count": 21,
   "metadata": {},
   "outputs": [
    {
     "name": "stdout",
     "output_type": "stream",
     "text": [
      "epinephrine\n",
      "norepinephrine\n",
      "vasopressin\n",
      "phenylephrine\n",
      "dopamine\n",
      "dobutamine\n",
      "time: 3.31 ms\n"
     ]
    }
   ],
   "source": [
    "for element in vaso_dose_72['label'].unique():\n",
    "    print(element)"
   ]
  },
  {
   "cell_type": "code",
   "execution_count": 22,
   "metadata": {},
   "outputs": [
    {
     "data": {
      "image/png": "[encoded data removed]",
      "text/plain": [
       "<Figure size 880x586.667 with 1 Axes>"
      ]
     },
     "metadata": {},
     "output_type": "display_data"
    },
    {
     "name": "stdout",
     "output_type": "stream",
     "text": [
      "time: 2.01 s\n"
     ]
    }
   ],
   "source": [
    "size=11\n",
    "fig=plt.figure(figsize=(size, size*(2/3)), dpi= 80, facecolor='w')\n",
    "ax = plt.axes()\n",
    "\n",
    "vaso_dose_72['hours']=pd.to_timedelta(vaso_dose_72['delta']).map(hours_fxn) #good\n",
    "\n",
    "for element in vaso_dose_72['label'].unique():    \n",
    "    (vaso_dose_72.loc[vaso_dose_72.loc[:,'label']==element, 'hours']\n",
    "         .value_counts(sort=False)\n",
    "         .sort_index()\n",
    "         .plot(kind='bar', sort_columns=True))"
   ]
  },
  {
   "cell_type": "code",
   "execution_count": 30,
   "metadata": {},
   "outputs": [
    {
     "name": "stdout",
     "output_type": "stream",
     "text": [
      "epinephrine\n"
     ]
    },
    {
     "data": {
      "image/png": "[encoded data removed]",
      "text/plain": [
       "<Figure size 720x480 with 1 Axes>"
      ]
     },
     "metadata": {},
     "output_type": "display_data"
    },
    {
     "name": "stdout",
     "output_type": "stream",
     "text": [
      "norepinephrine\n"
     ]
    },
    {
     "data": {
      "image/png": "[encoded data removed]",
      "text/plain": [
       "<Figure size 720x480 with 1 Axes>"
      ]
     },
     "metadata": {},
     "output_type": "display_data"
    },
    {
     "name": "stdout",
     "output_type": "stream",
     "text": [
      "vasopressin\n"
     ]
    },
    {
     "data": {
      "image/png": "[encoded data removed]",
      "text/plain": [
       "<Figure size 720x480 with 1 Axes>"
      ]
     },
     "metadata": {},
     "output_type": "display_data"
    },
    {
     "name": "stdout",
     "output_type": "stream",
     "text": [
      "phenylephrine\n"
     ]
    },
    {
     "data": {
      "image/png": "[encoded data removed]",
      "text/plain": [
       "<Figure size 720x480 with 1 Axes>"
      ]
     },
     "metadata": {},
     "output_type": "display_data"
    },
    {
     "name": "stdout",
     "output_type": "stream",
     "text": [
      "dopamine\n"
     ]
    },
    {
     "data": {
      "image/png": "[encoded data removed]",
      "text/plain": [
       "<Figure size 720x480 with 1 Axes>"
      ]
     },
     "metadata": {},
     "output_type": "display_data"
    },
    {
     "name": "stdout",
     "output_type": "stream",
     "text": [
      "dobutamine\n"
     ]
    },
    {
     "data": {
      "image/png": "[encoded data removed]",
      "text/plain": [
       "<Figure size 720x480 with 1 Axes>"
      ]
     },
     "metadata": {},
     "output_type": "display_data"
    },
    {
     "name": "stdout",
     "output_type": "stream",
     "text": [
      "time: 3.61 s\n"
     ]
    }
   ],
   "source": [
    "for element in vaso_dose_72['label'].unique():\n",
    "    size=9\n",
    "    fig=plt.figure(figsize=(size, size*(2/3)), dpi= 80, facecolor='w')\n",
    "    ax = plt.axes()\n",
    "    (vaso_dose_72.loc[vaso_dose_72.loc[:,'label']==element, 'hours']\n",
    "         .value_counts(sort=False)\n",
    "         .sort_index()\n",
    "         .plot(kind='bar', sort_columns=True,color='blue'))\n",
    "    print(element)\n",
    "    ax.set_ylabel('frequency_for_all_pt', fontsize='large')\n",
    "    ax.set_xlabel('hours_after_t_0', fontsize='large')\n",
    "    ax.set_title('%s'%(element), fontsize='large')\n",
    "    plt.show()"
   ]
  },
  {
   "cell_type": "code",
   "execution_count": 42,
   "metadata": {},
   "outputs": [
    {
     "name": "stdout",
     "output_type": "stream",
     "text": [
      "epinephrine\n",
      "309\n",
      "2.0319589662655355 % of icustay_id's with any value\n",
      "norepinephrine\n",
      "2937\n",
      "19.313474057999606 % of icustay_id's with any value\n",
      "vasopressin\n",
      "843\n",
      "5.543499704083646 % of icustay_id's with any value\n",
      "phenylephrine\n",
      "2351\n",
      "15.459985532978235 % of icustay_id's with any value\n",
      "dopamine\n",
      "878\n",
      "5.77365686854738 % of icustay_id's with any value\n",
      "dobutamine\n",
      "240\n",
      "1.5782205563227463 % of icustay_id's with any value\n",
      "time: 57.4 ms\n"
     ]
    }
   ],
   "source": [
    "# #looking at overall missingness\n",
    "\n",
    "# for element in vaso_dose_72['label'].unique():\n",
    "#     print(element)\n",
    "#     print(vaso_dose_72.loc[vaso_dose_72.loc[:,'label']==element, 'icustay_id']\n",
    "#          .nunique())\n",
    "#     print(((vaso_dose_72.loc[vaso_dose_72.loc[:,'label']==element, 'icustay_id']\n",
    "#          .nunique())/len(icustay_id))*100,\"% of icustay_id's with any value\") "
   ]
  },
  {
   "cell_type": "code",
   "execution_count": 33,
   "metadata": {},
   "outputs": [
    {
     "name": "stdout",
     "output_type": "stream",
     "text": [
      "4777\n",
      "time: 1.98 ms\n"
     ]
    }
   ],
   "source": [
    "# print(vaso_dose_72['icustay_id'].nunique())"
   ]
  },
  {
   "cell_type": "code",
   "execution_count": 36,
   "metadata": {},
   "outputs": [
    {
     "data": {
      "text/plain": [
       "15207"
      ]
     },
     "execution_count": 36,
     "metadata": {},
     "output_type": "execute_result"
    },
    {
     "name": "stdout",
     "output_type": "stream",
     "text": [
      "time: 1.88 ms\n"
     ]
    }
   ],
   "source": [
    "# len(icustay_id)"
   ]
  }
 ],
 "metadata": {
  "kernelspec": {
   "display_name": "Python 3",
   "language": "python",
   "name": "python3"
  },
  "language_info": {
   "codemirror_mode": {
    "name": "ipython",
    "version": 3
   },
   "file_extension": ".py",
   "mimetype": "text/x-python",
   "name": "python",
   "nbconvert_exporter": "python",
   "pygments_lexer": "ipython3",
   "version": "3.6.4"
  }
 },
 "nbformat": 4,
 "nbformat_minor": 2
}
