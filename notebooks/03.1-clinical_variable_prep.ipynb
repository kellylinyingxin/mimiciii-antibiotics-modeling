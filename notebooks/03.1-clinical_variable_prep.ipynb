{
 "cells": [
  {
   "cell_type": "code",
   "execution_count": 52,
   "metadata": {},
   "outputs": [
    {
     "name": "stdout",
     "output_type": "stream",
     "text": [
      "The autotime extension is already loaded. To reload it, use:\n",
      "  %reload_ext autotime\n"
     ]
    }
   ],
   "source": [
    "import pandas as pd\n",
    "import matplotlib.pyplot as plt\n",
    "import os\n",
    "from pathlib import Path\n",
    "import seaborn as sns\n",
    "import numpy as np\n",
    "\n",
    "from sklearn.externals.joblib import Memory\n",
    "memory = Memory(cachedir='/tmp', verbose=0)\n",
    "#@memory.cache above any def fxn.\n",
    "\n",
    "%matplotlib inline\n",
    "plt.style.use('ggplot')\n",
    "\n",
    "from notebook.services.config import ConfigManager\n",
    "cm = ConfigManager()\n",
    "cm.update('livereveal', {\n",
    "        'width': 1024,\n",
    "        'height': 768,\n",
    "        'scroll': True,\n",
    "})\n",
    "\n",
    "%load_ext autotime\n",
    "%reload_ext autotime"
   ]
  },
  {
   "cell_type": "code",
   "execution_count": 53,
   "metadata": {},
   "outputs": [
    {
     "name": "stdout",
     "output_type": "stream",
     "text": [
      "time: 199 ms\n"
     ]
    }
   ],
   "source": [
    "#cohort import\n",
    "\n",
    "os.chdir('/Users/geickelb1/Documents/GitHub/mimiciii-antibiotics-modeling') #use to change working directory\n",
    "wd= os.getcwd() #'/Users/geickelb1/Documents/GitHub/mimiciii-antibiotics-modeling'\n",
    "\n",
    "\n",
    "final_pt_df2 = pd.read_csv(Path(wd + '/data/raw/csv/01102018_final_pt_df2_v.csv') , index_col=0) #only for patients with minimum vitals\n",
    "patients= list(final_pt_df2['subject_id'].unique())\n",
    "hadm_id= list(final_pt_df2['hadm_id'].unique())\n",
    "icustay_id= list(final_pt_df2['icustay_id'].unique())\n",
    "icustay_id= [int(x) for x in icustay_id]"
   ]
  },
  {
   "cell_type": "code",
   "execution_count": 95,
   "metadata": {},
   "outputs": [
    {
     "name": "stderr",
     "output_type": "stream",
     "text": [
      "/Users/geickelb1/anaconda/envs/rpy-env/lib/python3.6/site-packages/psycopg2/__init__.py:144: UserWarning: The psycopg2 wheel package will be renamed from release 2.8; in order to keep installing from binary please use \"pip install psycopg2-binary\" instead. For details see: <http://initd.org/psycopg/docs/install.html#binary-install-from-pypi>.\n",
      "  \"\"\")\n"
     ]
    },
    {
     "name": "stdin",
     "output_type": "stream",
     "text": [
      "Password: ·····\n"
     ]
    },
    {
     "name": "stdout",
     "output_type": "stream",
     "text": [
      "time: 3.16 s\n"
     ]
    }
   ],
   "source": [
    "#adding this in fow now, will eventually want to switch this to the 03-clinical_variables_final\n",
    "import psycopg2\n",
    "import getpass\n",
    "conn = psycopg2.connect(dbname=\"mimic\", user=\"student\", host=\"luolabwkstn01.fsm.northwestern.edu\", port=\"5432\",\n",
    "                        password=getpass.getpass(prompt='Password:'.format()))\n",
    "cur=conn.cursor()\n",
    "\n",
    "query_schema = 'SET search_path to ' + \"mimiciii\" + ';'"
   ]
  },
  {
   "cell_type": "code",
   "execution_count": 76,
   "metadata": {},
   "outputs": [
    {
     "name": "stderr",
     "output_type": "stream",
     "text": [
      "/Users/geickelb1/anaconda/envs/rpy-env/lib/python3.6/site-packages/numpy/lib/arraysetops.py:472: FutureWarning: elementwise comparison failed; returning scalar instead, but in the future will perform elementwise comparison\n",
      "  mask |= (ar1 == a)\n"
     ]
    },
    {
     "name": "stdout",
     "output_type": "stream",
     "text": [
      "time: 14.9 s\n"
     ]
    }
   ],
   "source": [
    "#reading in all of my data that is not limited to 72 hour time window between t_0 and t+72\n",
    "date= '27082018' \n",
    "\n",
    "ventcategory_df=pd.read_csv(Path(\n",
    "    wd+'/data/raw/csv/%s_ventcategory_df.csv' %(date)), index_col=0)\n",
    "\n",
    "vaso_dose_72=pd.read_csv(Path(\n",
    "    wd+'/data/raw/csv/72_hr_window/%s_vaso_dose_72.csv' %(date)), index_col=0)\n",
    "\n",
    "\n",
    "echodata_72=pd.read_csv(Path(\n",
    "    wd+'/data/raw/csv/72_hr_window/%s_echodata_72.csv' %(date)), index_col=0)\n",
    "\n",
    "labs_all_nosummary_72=pd.read_csv(Path(\n",
    "    wd+'/data/raw/csv/72_hr_window/%s_labs_all_nosummary_72.csv' %(date)), index_col=0)\n",
    "\n",
    "\n",
    "weightfirstday_df=pd.read_csv(Path(\n",
    "    wd+'/data/raw/csv/72_hr_window/%s_weightfirstday_df.csv' %(date)), index_col=0)\n",
    "heightfirstday_df=pd.read_csv(Path(\n",
    "    wd+'/data/raw/csv/72_hr_window/%s_heightfirstday_df.csv' %(date)), index_col=0)\n",
    "\n",
    "vitals_all_nosummary_72=pd.read_csv(Path(\n",
    "    wd+'/data/raw/csv/72_hr_window/%s_vitals_all_nosummary_72.csv' %(date)), index_col=0)\n",
    "uti_all_72=pd.read_csv(Path(\n",
    "    wd+'/data/raw/csv/72_hr_window/%s_uti_all_72.csv' %(date)), index_col=0)\n",
    "bg_all_nosummary_72=pd.read_csv(Path(\n",
    "    wd+'/data/raw/csv/72_hr_window/%s_bg_all_nosummary_72.csv' %(date)), index_col=0)\n",
    "\n",
    "rrt_merged_allpt_df=pd.read_csv(Path(\n",
    "    wd+'/data/raw/csv/72_hr_window/%s_rrt_merged_allpt_df.csv' %(date)), index_col=0)\n",
    "gcs72_df=pd.read_csv(Path(\n",
    "    wd+'/data/raw/csv/72_hr_window/%s_gcs72_df.csv' %(date)), index_col=0)\n",
    "\n",
    "sofa_df_72=pd.read_csv(Path(\n",
    "    wd+'/data/raw/csv/%s_sofa_df_72.csv' %(date)), index_col=0)"
   ]
  },
  {
   "cell_type": "code",
   "execution_count": 77,
   "metadata": {},
   "outputs": [
    {
     "name": "stdout",
     "output_type": "stream",
     "text": [
      "time: 4.73 ms\n"
     ]
    }
   ],
   "source": [
    "def df_subset(df):\n",
    "    try:\n",
    "        df = df.loc[df.loc[:,'icustay_id'].isin(icustay_id),:]\n",
    "    except KeyError or NameError:\n",
    "        try:\n",
    "            df = df.loc[df.loc[:,'hadm_id'].isin(hadm_id),:]\n",
    "        except KeyError or NameError:\n",
    "            df = df.loc[df.loc[:,'subject_id'].isin(patients),:]\n",
    "    return(df)"
   ]
  },
  {
   "cell_type": "code",
   "execution_count": 78,
   "metadata": {},
   "outputs": [
    {
     "name": "stdout",
     "output_type": "stream",
     "text": [
      "time: 1.03 s\n"
     ]
    }
   ],
   "source": [
    "# subsetting each dataframe to only patients in final_patients_df2_v:\n",
    "dataframe_list= [\n",
    "    ventcategory_df, vaso_dose_72, echodata_72,\n",
    "    labs_all_nosummary_72, weightfirstday_df,\n",
    "    heightfirstday_df, vitals_all_nosummary_72,\n",
    "    uti_all_72, bg_all_nosummary_72,\n",
    "    rrt_merged_allpt_df, gcs72_df, sofa_df_72\n",
    "]\n",
    "\n",
    "(\n",
    "ventcategory_df, vaso_dose_72, echodata_72,\n",
    "labs_all_nosummary_72, weightfirstday_df,\n",
    "heightfirstday_df, vitals_all_nosummary_72,\n",
    "uti_all_72, bg_all_nosummary_72,\n",
    "rrt_merged_allpt_df, gcs72_df, sofa_df_72\n",
    ") = (df_subset(df) for df in dataframe_list)"
   ]
  },
  {
   "cell_type": "code",
   "execution_count": null,
   "metadata": {},
   "outputs": [],
   "source": []
  },
  {
   "cell_type": "markdown",
   "metadata": {},
   "source": [
    "## vaso dose"
   ]
  },
  {
   "cell_type": "code",
   "execution_count": 79,
   "metadata": {},
   "outputs": [
    {
     "name": "stdout",
     "output_type": "stream",
     "text": [
      "time: 43.5 ms\n"
     ]
    }
   ],
   "source": [
    "#vaso_dose_72.head()\n",
    "vaso_dose_72= vaso_dose_72.rename(\n",
    "    columns={'starttime':'charttime','label':'vaso_type'}\n",
    "        )#.drop(labels='endtime', axis=1) \n",
    "#renaming starttime to charttime and dropping endtime"
   ]
  },
  {
   "cell_type": "code",
   "execution_count": 80,
   "metadata": {},
   "outputs": [
    {
     "data": {
      "text/plain": [
       "53786"
      ]
     },
     "execution_count": 80,
     "metadata": {},
     "output_type": "execute_result"
    },
    {
     "name": "stdout",
     "output_type": "stream",
     "text": [
      "time: 3.66 ms\n"
     ]
    }
   ],
   "source": [
    "len(vaso_dose_72)"
   ]
  },
  {
   "cell_type": "code",
   "execution_count": 81,
   "metadata": {},
   "outputs": [
    {
     "data": {
      "text/html": [
       "<div>\n",
       "<style scoped>\n",
       "    .dataframe tbody tr th:only-of-type {\n",
       "        vertical-align: middle;\n",
       "    }\n",
       "\n",
       "    .dataframe tbody tr th {\n",
       "        vertical-align: top;\n",
       "    }\n",
       "\n",
       "    .dataframe thead th {\n",
       "        text-align: right;\n",
       "    }\n",
       "</style>\n",
       "<table border=\"1\" class=\"dataframe\">\n",
       "  <thead>\n",
       "    <tr style=\"text-align: right;\">\n",
       "      <th></th>\n",
       "      <th>icustay_id</th>\n",
       "      <th>charttime</th>\n",
       "      <th>endtime</th>\n",
       "      <th>vaso_rate</th>\n",
       "      <th>vaso_amount</th>\n",
       "      <th>amount_uom</th>\n",
       "      <th>rate_uom</th>\n",
       "      <th>vaso_type</th>\n",
       "      <th>t_0</th>\n",
       "      <th>delta</th>\n",
       "    </tr>\n",
       "  </thead>\n",
       "  <tbody>\n",
       "    <tr>\n",
       "      <th>4</th>\n",
       "      <td>200349.0</td>\n",
       "      <td>2139-06-02 16:31:00</td>\n",
       "      <td>2139-06-02 18:10:00</td>\n",
       "      <td>0.012030</td>\n",
       "      <td>0.073958</td>\n",
       "      <td>mg</td>\n",
       "      <td>mcg/kg/min</td>\n",
       "      <td>epinephrine</td>\n",
       "      <td>2139-06-02</td>\n",
       "      <td>0 days 16:31:00.000000000</td>\n",
       "    </tr>\n",
       "    <tr>\n",
       "      <th>92</th>\n",
       "      <td>200952.0</td>\n",
       "      <td>2139-09-23 15:07:00</td>\n",
       "      <td>2139-09-24 06:43:00</td>\n",
       "      <td>0.020004</td>\n",
       "      <td>1.049601</td>\n",
       "      <td>mg</td>\n",
       "      <td>mcg/kg/min</td>\n",
       "      <td>epinephrine</td>\n",
       "      <td>2139-09-23</td>\n",
       "      <td>0 days 15:07:00.000000000</td>\n",
       "    </tr>\n",
       "    <tr>\n",
       "      <th>93</th>\n",
       "      <td>200952.0</td>\n",
       "      <td>2139-09-25 12:00:00</td>\n",
       "      <td>2139-09-25 21:59:00</td>\n",
       "      <td>0.080068</td>\n",
       "      <td>1.962759</td>\n",
       "      <td>mg</td>\n",
       "      <td>mcg/kg/min</td>\n",
       "      <td>epinephrine</td>\n",
       "      <td>2139-09-23</td>\n",
       "      <td>2 days 12:00:00.000000000</td>\n",
       "    </tr>\n",
       "    <tr>\n",
       "      <th>94</th>\n",
       "      <td>200952.0</td>\n",
       "      <td>2139-09-25 21:59:00</td>\n",
       "      <td>2139-09-26 07:38:00</td>\n",
       "      <td>0.060601</td>\n",
       "      <td>2.000000</td>\n",
       "      <td>mg</td>\n",
       "      <td>mcg/kg/min</td>\n",
       "      <td>epinephrine</td>\n",
       "      <td>2139-09-23</td>\n",
       "      <td>2 days 21:59:00.000000000</td>\n",
       "    </tr>\n",
       "    <tr>\n",
       "      <th>106</th>\n",
       "      <td>200952.0</td>\n",
       "      <td>2139-09-23 23:12:00</td>\n",
       "      <td>2139-09-24 21:54:00</td>\n",
       "      <td>0.149992</td>\n",
       "      <td>7.990853</td>\n",
       "      <td>mg</td>\n",
       "      <td>mcg/kg/min</td>\n",
       "      <td>norepinephrine</td>\n",
       "      <td>2139-09-23</td>\n",
       "      <td>0 days 23:12:00.000000000</td>\n",
       "    </tr>\n",
       "  </tbody>\n",
       "</table>\n",
       "</div>"
      ],
      "text/plain": [
       "     icustay_id            charttime              endtime  vaso_rate  \\\n",
       "4      200349.0  2139-06-02 16:31:00  2139-06-02 18:10:00   0.012030   \n",
       "92     200952.0  2139-09-23 15:07:00  2139-09-24 06:43:00   0.020004   \n",
       "93     200952.0  2139-09-25 12:00:00  2139-09-25 21:59:00   0.080068   \n",
       "94     200952.0  2139-09-25 21:59:00  2139-09-26 07:38:00   0.060601   \n",
       "106    200952.0  2139-09-23 23:12:00  2139-09-24 21:54:00   0.149992   \n",
       "\n",
       "     vaso_amount amount_uom    rate_uom       vaso_type         t_0  \\\n",
       "4       0.073958         mg  mcg/kg/min     epinephrine  2139-06-02   \n",
       "92      1.049601         mg  mcg/kg/min     epinephrine  2139-09-23   \n",
       "93      1.962759         mg  mcg/kg/min     epinephrine  2139-09-23   \n",
       "94      2.000000         mg  mcg/kg/min     epinephrine  2139-09-23   \n",
       "106     7.990853         mg  mcg/kg/min  norepinephrine  2139-09-23   \n",
       "\n",
       "                         delta  \n",
       "4    0 days 16:31:00.000000000  \n",
       "92   0 days 15:07:00.000000000  \n",
       "93   2 days 12:00:00.000000000  \n",
       "94   2 days 21:59:00.000000000  \n",
       "106  0 days 23:12:00.000000000  "
      ]
     },
     "execution_count": 81,
     "metadata": {},
     "output_type": "execute_result"
    },
    {
     "name": "stdout",
     "output_type": "stream",
     "text": [
      "time: 32.2 ms\n"
     ]
    }
   ],
   "source": [
    "vaso_dose_72.head()"
   ]
  },
  {
   "cell_type": "code",
   "execution_count": 82,
   "metadata": {},
   "outputs": [
    {
     "name": "stdout",
     "output_type": "stream",
     "text": [
      "time: 36.6 ms\n"
     ]
    }
   ],
   "source": [
    "#removing units/hour because that is a different use of vasopressin\n",
    "vaso_dose_72 = vaso_dose_72.loc[vaso_dose_72.loc[:,'rate_uom']!= 'units/hour',:]\n",
    "vaso_dose_72 = vaso_dose_72.loc[vaso_dose_72.loc[:,'rate_uom']!= 'Uhr',:]"
   ]
  },
  {
   "cell_type": "code",
   "execution_count": 83,
   "metadata": {},
   "outputs": [
    {
     "data": {
      "text/plain": [
       "52976"
      ]
     },
     "execution_count": 83,
     "metadata": {},
     "output_type": "execute_result"
    },
    {
     "name": "stdout",
     "output_type": "stream",
     "text": [
      "time: 2.79 ms\n"
     ]
    }
   ],
   "source": [
    "len(vaso_dose_72)"
   ]
  },
  {
   "cell_type": "code",
   "execution_count": 84,
   "metadata": {},
   "outputs": [
    {
     "data": {
      "text/plain": [
       "array(['mcg/kg/min', 'mcgkgmin', 'Umin'], dtype=object)"
      ]
     },
     "execution_count": 84,
     "metadata": {},
     "output_type": "execute_result"
    },
    {
     "name": "stdout",
     "output_type": "stream",
     "text": [
      "time: 4.51 ms\n"
     ]
    }
   ],
   "source": [
    "vaso_dose_72['rate_uom'].unique()"
   ]
  },
  {
   "cell_type": "markdown",
   "metadata": {},
   "source": [
    "#### removing outliers"
   ]
  },
  {
   "cell_type": "code",
   "execution_count": 86,
   "metadata": {},
   "outputs": [
    {
     "name": "stdout",
     "output_type": "stream",
     "text": [
      "time: 142 ms\n"
     ]
    }
   ],
   "source": [
    "# Use transform to add a column back to the orig df from a groupby aggregation, transform returns a Series with its index aligned to the orig df:\n",
    "\n",
    "test_group=(vaso_dose_72[['vaso_rate','rate_uom','amount_uom','vaso_type']]#.groupby('vaso_type', as_index=False)\n",
    "     .groupby(['vaso_type','rate_uom'])\n",
    "         )\n",
    "\n",
    "vaso_dose_72['std']=test_group.transform(lambda x : x.std())\n",
    "vaso_dose_72['mean']=test_group.transform(lambda x : x.mean())\n",
    "\n",
    "normal_high_value= pd.DataFrame({\n",
    "    'vaso_type' : ['dobutamine','dopamine','epinephrine','norepinephrine','vasopressin','phenylephrine'],\n",
    "    'high_value': [40, 20, 0.5, 1, 0.1, 2]\n",
    "}) #found from literature, see notes\n",
    "\n",
    "vaso_dose_72 = pd.merge(vaso_dose_72, normal_high_value, left_on='vaso_type', right_on='vaso_type')\n",
    "\n",
    "vaso_dose_72_rmout =(vaso_dose_72[\n",
    "    ~((vaso_dose_72['vaso_rate'] > vaso_dose_72['high_value']) & ((vaso_dose_72['vaso_rate']-vaso_dose_72['mean'])>= (3*vaso_dose_72['std'])))\n",
    "    ])\n",
    "#ie vaso_dose_72_rmout is a dataframe of all rows that excludes rows where vaso rate > literature high value and where vaso_rate >3sd from teh mean"
   ]
  },
  {
   "cell_type": "code",
   "execution_count": 88,
   "metadata": {},
   "outputs": [
    {
     "data": {
      "text/plain": [
       "52976"
      ]
     },
     "execution_count": 88,
     "metadata": {},
     "output_type": "execute_result"
    },
    {
     "name": "stdout",
     "output_type": "stream",
     "text": [
      "time: 2.23 ms\n"
     ]
    }
   ],
   "source": [
    "len(vaso_dose_72) #52976"
   ]
  },
  {
   "cell_type": "code",
   "execution_count": 89,
   "metadata": {},
   "outputs": [
    {
     "data": {
      "text/plain": [
       "array(['epinephrine', 'norepinephrine', 'phenylephrine', 'vasopressin',\n",
       "       'dopamine', 'dobutamine'], dtype=object)"
      ]
     },
     "execution_count": 89,
     "metadata": {},
     "output_type": "execute_result"
    },
    {
     "name": "stdout",
     "output_type": "stream",
     "text": [
      "time: 4.09 ms\n"
     ]
    }
   ],
   "source": [
    "vaso_dose_72['vaso_type'].unique()"
   ]
  },
  {
   "cell_type": "code",
   "execution_count": 90,
   "metadata": {},
   "outputs": [
    {
     "name": "stdout",
     "output_type": "stream",
     "text": [
      "52662 52976\n",
      "time: 1.7 ms\n"
     ]
    }
   ],
   "source": [
    "print(len(vaso_dose_72_rmout), len(vaso_dose_72)) #works, only excluded ~300/52662 for outliers. \n"
   ]
  },
  {
   "cell_type": "code",
   "execution_count": 34,
   "metadata": {},
   "outputs": [
    {
     "data": {
      "text/plain": [
       "array(['mcg/kg/min', 'mcgkgmin', 'Umin'], dtype=object)"
      ]
     },
     "execution_count": 34,
     "metadata": {},
     "output_type": "execute_result"
    },
    {
     "name": "stdout",
     "output_type": "stream",
     "text": [
      "time: 3.07 ms\n"
     ]
    }
   ],
   "source": [
    "vaso_dose_72_rmout['rate_uom'].unique()"
   ]
  },
  {
   "cell_type": "code",
   "execution_count": 144,
   "metadata": {},
   "outputs": [
    {
     "name": "stdout",
     "output_type": "stream",
     "text": [
      "time: 652 ms\n"
     ]
    }
   ],
   "source": [
    "date= '22102018'\n",
    "pd.DataFrame(vaso_dose_72_rmout).to_csv(Path(\n",
    "    wd+'/data/processed/%s_vaso_dose_72_rmout.csv' %(date)))\n"
   ]
  },
  {
   "cell_type": "code",
   "execution_count": null,
   "metadata": {},
   "outputs": [],
   "source": []
  },
  {
   "cell_type": "code",
   "execution_count": null,
   "metadata": {},
   "outputs": [],
   "source": []
  },
  {
   "cell_type": "code",
   "execution_count": null,
   "metadata": {},
   "outputs": [],
   "source": []
  },
  {
   "cell_type": "markdown",
   "metadata": {},
   "source": [
    "## vitals"
   ]
  },
  {
   "cell_type": "code",
   "execution_count": 20,
   "metadata": {},
   "outputs": [
    {
     "name": "stderr",
     "output_type": "stream",
     "text": [
      "/Users/geickelb1/anaconda/envs/rpy-env/lib/python3.6/site-packages/pandas/core/indexing.py:537: SettingWithCopyWarning: \n",
      "A value is trying to be set on a copy of a slice from a DataFrame.\n",
      "Try using .loc[row_indexer,col_indexer] = value instead\n",
      "\n",
      "See the caveats in the documentation: http://pandas.pydata.org/pandas-docs/stable/indexing.html#indexing-view-versus-copy\n",
      "  self.obj[item] = s\n"
     ]
    },
    {
     "name": "stdout",
     "output_type": "stream",
     "text": [
      "time: 12.6 s\n"
     ]
    }
   ],
   "source": [
    "vitals_all_nosummary_72 = vitals_all_nosummary_72.rename(index=str, columns={\"valueuom\":\"uom\"}) #change valueom to uom\n",
    "vitals_all_nosummary_nonull = vitals_all_nosummary_72.loc[vitals_all_nosummary_72['vitalid'].notnull(),:]#.count() #6930 NULL values\n",
    "\n",
    "vitals_all_nosummary_nonull.loc[vitals_all_nosummary_nonull.loc[:,'uom']=='BPM','uom']='bpm'\n",
    "\n",
    "#overall the values are extremely similar and are likely the same thing\n",
    "#i will combine them.\n",
    "vitals_all_nosummary_nonull.loc[\n",
    "    (vitals_all_nosummary_nonull['vitalid']=='RespRate') & \n",
    "    (vitals_all_nosummary_nonull['uom']=='bpm'),'uom']='insp/min'\n",
    "\n",
    "vitals_all_nosummary_nonull.loc[\n",
    "    (vitals_all_nosummary_nonull['vitalid']=='TempC') & \n",
    "    (vitals_all_nosummary_nonull['uom']=='?C'),'uom']='Deg. C'\n",
    "\n",
    "vitals_all_nosummary_nonull.loc[\n",
    "    (vitals_all_nosummary_nonull['vitalid']=='TempF') & \n",
    "    (vitals_all_nosummary_nonull['uom']=='Deg. F'),'uom']='Deg. C'\n",
    "\n",
    "vitals_all_nosummary_nonull.loc[\n",
    "    (vitals_all_nosummary_nonull['vitalid']=='TempF') & \n",
    "    (vitals_all_nosummary_nonull['uom']=='?F'),'uom']='Deg. C'\n",
    "\n",
    "\n",
    "vitals_all_nosummary_nonull.loc[\n",
    "    (vitals_all_nosummary_nonull['vitalid']=='TempF'),'vitalid']='TempC'"
   ]
  },
  {
   "cell_type": "code",
   "execution_count": 21,
   "metadata": {},
   "outputs": [
    {
     "data": {
      "text/html": [
       "<div>\n",
       "<style scoped>\n",
       "    .dataframe tbody tr th:only-of-type {\n",
       "        vertical-align: middle;\n",
       "    }\n",
       "\n",
       "    .dataframe tbody tr th {\n",
       "        vertical-align: top;\n",
       "    }\n",
       "\n",
       "    .dataframe thead th {\n",
       "        text-align: right;\n",
       "    }\n",
       "</style>\n",
       "<table border=\"1\" class=\"dataframe\">\n",
       "  <thead>\n",
       "    <tr style=\"text-align: right;\">\n",
       "      <th></th>\n",
       "      <th>subject_id</th>\n",
       "      <th>hadm_id</th>\n",
       "      <th>icustay_id</th>\n",
       "      <th>charttime</th>\n",
       "      <th>uom</th>\n",
       "      <th>vitalid</th>\n",
       "      <th>valuenum</th>\n",
       "      <th>t_0</th>\n",
       "      <th>delta</th>\n",
       "    </tr>\n",
       "  </thead>\n",
       "  <tbody>\n",
       "    <tr>\n",
       "      <th>5</th>\n",
       "      <td>9</td>\n",
       "      <td>150750</td>\n",
       "      <td>220597</td>\n",
       "      <td>2149-11-13 15:20:00</td>\n",
       "      <td>mmHg</td>\n",
       "      <td>MeanArtPress</td>\n",
       "      <td>61.0</td>\n",
       "      <td>2149-11-13</td>\n",
       "      <td>0 days 15:20:00.000000000</td>\n",
       "    </tr>\n",
       "    <tr>\n",
       "      <th>6</th>\n",
       "      <td>9</td>\n",
       "      <td>150750</td>\n",
       "      <td>220597</td>\n",
       "      <td>2149-11-14 11:00:00</td>\n",
       "      <td>mmHg</td>\n",
       "      <td>MeanArtPress</td>\n",
       "      <td>103.0</td>\n",
       "      <td>2149-11-13</td>\n",
       "      <td>1 days 11:00:00.000000000</td>\n",
       "    </tr>\n",
       "    <tr>\n",
       "      <th>7</th>\n",
       "      <td>9</td>\n",
       "      <td>150750</td>\n",
       "      <td>220597</td>\n",
       "      <td>2149-11-14 12:00:00</td>\n",
       "      <td>mmHg</td>\n",
       "      <td>MeanArtPress</td>\n",
       "      <td>134.0</td>\n",
       "      <td>2149-11-13</td>\n",
       "      <td>1 days 12:00:00.000000000</td>\n",
       "    </tr>\n",
       "    <tr>\n",
       "      <th>12</th>\n",
       "      <td>9</td>\n",
       "      <td>150750</td>\n",
       "      <td>220597</td>\n",
       "      <td>2149-11-13 07:00:00</td>\n",
       "      <td>mmHg</td>\n",
       "      <td>MeanArtPress</td>\n",
       "      <td>85.0</td>\n",
       "      <td>2149-11-13</td>\n",
       "      <td>0 days 07:00:00.000000000</td>\n",
       "    </tr>\n",
       "    <tr>\n",
       "      <th>13</th>\n",
       "      <td>9</td>\n",
       "      <td>150750</td>\n",
       "      <td>220597</td>\n",
       "      <td>2149-11-14 02:00:00</td>\n",
       "      <td>mmHg</td>\n",
       "      <td>MeanArtPress</td>\n",
       "      <td>96.0</td>\n",
       "      <td>2149-11-13</td>\n",
       "      <td>1 days 02:00:00.000000000</td>\n",
       "    </tr>\n",
       "    <tr>\n",
       "      <th>16</th>\n",
       "      <td>9</td>\n",
       "      <td>150750</td>\n",
       "      <td>220597</td>\n",
       "      <td>2149-11-13 10:00:00</td>\n",
       "      <td>mmHg</td>\n",
       "      <td>MeanArtPress</td>\n",
       "      <td>92.0</td>\n",
       "      <td>2149-11-13</td>\n",
       "      <td>0 days 10:00:00.000000000</td>\n",
       "    </tr>\n",
       "    <tr>\n",
       "      <th>18</th>\n",
       "      <td>9</td>\n",
       "      <td>150750</td>\n",
       "      <td>220597</td>\n",
       "      <td>2149-11-13 00:30:00</td>\n",
       "      <td>mmHg</td>\n",
       "      <td>MeanArtPress</td>\n",
       "      <td>104.0</td>\n",
       "      <td>2149-11-13</td>\n",
       "      <td>0 days 00:30:00.000000000</td>\n",
       "    </tr>\n",
       "    <tr>\n",
       "      <th>19</th>\n",
       "      <td>9</td>\n",
       "      <td>150750</td>\n",
       "      <td>220597</td>\n",
       "      <td>2149-11-13 17:00:00</td>\n",
       "      <td>mmHg</td>\n",
       "      <td>MeanArtPress</td>\n",
       "      <td>84.0</td>\n",
       "      <td>2149-11-13</td>\n",
       "      <td>0 days 17:00:00.000000000</td>\n",
       "    </tr>\n",
       "    <tr>\n",
       "      <th>29</th>\n",
       "      <td>9</td>\n",
       "      <td>150750</td>\n",
       "      <td>220597</td>\n",
       "      <td>2149-11-13 18:00:00</td>\n",
       "      <td>mmHg</td>\n",
       "      <td>MeanArtPress</td>\n",
       "      <td>93.0</td>\n",
       "      <td>2149-11-13</td>\n",
       "      <td>0 days 18:00:00.000000000</td>\n",
       "    </tr>\n",
       "    <tr>\n",
       "      <th>46</th>\n",
       "      <td>9</td>\n",
       "      <td>150750</td>\n",
       "      <td>220597</td>\n",
       "      <td>2149-11-13 04:00:00</td>\n",
       "      <td>mmHg</td>\n",
       "      <td>MeanArtPress</td>\n",
       "      <td>104.0</td>\n",
       "      <td>2149-11-13</td>\n",
       "      <td>0 days 04:00:00.000000000</td>\n",
       "    </tr>\n",
       "    <tr>\n",
       "      <th>47</th>\n",
       "      <td>9</td>\n",
       "      <td>150750</td>\n",
       "      <td>220597</td>\n",
       "      <td>2149-11-13 20:30:00</td>\n",
       "      <td>mmHg</td>\n",
       "      <td>MeanArtPress</td>\n",
       "      <td>102.0</td>\n",
       "      <td>2149-11-13</td>\n",
       "      <td>0 days 20:30:00.000000000</td>\n",
       "    </tr>\n",
       "    <tr>\n",
       "      <th>48</th>\n",
       "      <td>9</td>\n",
       "      <td>150750</td>\n",
       "      <td>220597</td>\n",
       "      <td>2149-11-13 21:00:00</td>\n",
       "      <td>mmHg</td>\n",
       "      <td>MeanArtPress</td>\n",
       "      <td>97.0</td>\n",
       "      <td>2149-11-13</td>\n",
       "      <td>0 days 21:00:00.000000000</td>\n",
       "    </tr>\n",
       "    <tr>\n",
       "      <th>49</th>\n",
       "      <td>9</td>\n",
       "      <td>150750</td>\n",
       "      <td>220597</td>\n",
       "      <td>2149-11-13 22:00:00</td>\n",
       "      <td>mmHg</td>\n",
       "      <td>MeanArtPress</td>\n",
       "      <td>94.0</td>\n",
       "      <td>2149-11-13</td>\n",
       "      <td>0 days 22:00:00.000000000</td>\n",
       "    </tr>\n",
       "    <tr>\n",
       "      <th>59</th>\n",
       "      <td>9</td>\n",
       "      <td>150750</td>\n",
       "      <td>220597</td>\n",
       "      <td>2149-11-13 13:00:00</td>\n",
       "      <td>mmHg</td>\n",
       "      <td>MeanArtPress</td>\n",
       "      <td>104.0</td>\n",
       "      <td>2149-11-13</td>\n",
       "      <td>0 days 13:00:00.000000000</td>\n",
       "    </tr>\n",
       "    <tr>\n",
       "      <th>60</th>\n",
       "      <td>9</td>\n",
       "      <td>150750</td>\n",
       "      <td>220597</td>\n",
       "      <td>2149-11-13 14:00:00</td>\n",
       "      <td>mmHg</td>\n",
       "      <td>MeanArtPress</td>\n",
       "      <td>111.0</td>\n",
       "      <td>2149-11-13</td>\n",
       "      <td>0 days 14:00:00.000000000</td>\n",
       "    </tr>\n",
       "    <tr>\n",
       "      <th>61</th>\n",
       "      <td>9</td>\n",
       "      <td>150750</td>\n",
       "      <td>220597</td>\n",
       "      <td>2149-11-14 09:00:00</td>\n",
       "      <td>mmHg</td>\n",
       "      <td>MeanArtPress</td>\n",
       "      <td>106.0</td>\n",
       "      <td>2149-11-13</td>\n",
       "      <td>1 days 09:00:00.000000000</td>\n",
       "    </tr>\n",
       "    <tr>\n",
       "      <th>64</th>\n",
       "      <td>9</td>\n",
       "      <td>150750</td>\n",
       "      <td>220597</td>\n",
       "      <td>2149-11-13 05:00:00</td>\n",
       "      <td>mmHg</td>\n",
       "      <td>MeanArtPress</td>\n",
       "      <td>105.0</td>\n",
       "      <td>2149-11-13</td>\n",
       "      <td>0 days 05:00:00.000000000</td>\n",
       "    </tr>\n",
       "    <tr>\n",
       "      <th>73</th>\n",
       "      <td>9</td>\n",
       "      <td>150750</td>\n",
       "      <td>220597</td>\n",
       "      <td>2149-11-14 10:00:00</td>\n",
       "      <td>mmHg</td>\n",
       "      <td>MeanArtPress</td>\n",
       "      <td>80.0</td>\n",
       "      <td>2149-11-13</td>\n",
       "      <td>1 days 10:00:00.000000000</td>\n",
       "    </tr>\n",
       "    <tr>\n",
       "      <th>79</th>\n",
       "      <td>9</td>\n",
       "      <td>150750</td>\n",
       "      <td>220597</td>\n",
       "      <td>2149-11-14 01:00:00</td>\n",
       "      <td>mmHg</td>\n",
       "      <td>MeanArtPress</td>\n",
       "      <td>96.0</td>\n",
       "      <td>2149-11-13</td>\n",
       "      <td>1 days 01:00:00.000000000</td>\n",
       "    </tr>\n",
       "    <tr>\n",
       "      <th>85</th>\n",
       "      <td>9</td>\n",
       "      <td>150750</td>\n",
       "      <td>220597</td>\n",
       "      <td>2149-11-13 00:00:00</td>\n",
       "      <td>mmHg</td>\n",
       "      <td>MeanArtPress</td>\n",
       "      <td>102.0</td>\n",
       "      <td>2149-11-13</td>\n",
       "      <td>0 days 00:00:00.000000000</td>\n",
       "    </tr>\n",
       "    <tr>\n",
       "      <th>89</th>\n",
       "      <td>9</td>\n",
       "      <td>150750</td>\n",
       "      <td>220597</td>\n",
       "      <td>2149-11-13 09:00:00</td>\n",
       "      <td>mmHg</td>\n",
       "      <td>MeanArtPress</td>\n",
       "      <td>97.0</td>\n",
       "      <td>2149-11-13</td>\n",
       "      <td>0 days 09:00:00.000000000</td>\n",
       "    </tr>\n",
       "    <tr>\n",
       "      <th>90</th>\n",
       "      <td>9</td>\n",
       "      <td>150750</td>\n",
       "      <td>220597</td>\n",
       "      <td>2149-11-14 05:00:00</td>\n",
       "      <td>mmHg</td>\n",
       "      <td>MeanArtPress</td>\n",
       "      <td>89.0</td>\n",
       "      <td>2149-11-13</td>\n",
       "      <td>1 days 05:00:00.000000000</td>\n",
       "    </tr>\n",
       "    <tr>\n",
       "      <th>97</th>\n",
       "      <td>9</td>\n",
       "      <td>150750</td>\n",
       "      <td>220597</td>\n",
       "      <td>2149-11-13 02:00:00</td>\n",
       "      <td>mmHg</td>\n",
       "      <td>MeanArtPress</td>\n",
       "      <td>107.0</td>\n",
       "      <td>2149-11-13</td>\n",
       "      <td>0 days 02:00:00.000000000</td>\n",
       "    </tr>\n",
       "    <tr>\n",
       "      <th>101</th>\n",
       "      <td>9</td>\n",
       "      <td>150750</td>\n",
       "      <td>220597</td>\n",
       "      <td>2149-11-13 03:00:00</td>\n",
       "      <td>mmHg</td>\n",
       "      <td>MeanArtPress</td>\n",
       "      <td>101.0</td>\n",
       "      <td>2149-11-13</td>\n",
       "      <td>0 days 03:00:00.000000000</td>\n",
       "    </tr>\n",
       "    <tr>\n",
       "      <th>102</th>\n",
       "      <td>9</td>\n",
       "      <td>150750</td>\n",
       "      <td>220597</td>\n",
       "      <td>2149-11-13 03:15:00</td>\n",
       "      <td>mmHg</td>\n",
       "      <td>MeanArtPress</td>\n",
       "      <td>101.0</td>\n",
       "      <td>2149-11-13</td>\n",
       "      <td>0 days 03:15:00.000000000</td>\n",
       "    </tr>\n",
       "    <tr>\n",
       "      <th>115</th>\n",
       "      <td>9</td>\n",
       "      <td>150750</td>\n",
       "      <td>220597</td>\n",
       "      <td>2149-11-13 15:30:00</td>\n",
       "      <td>mmHg</td>\n",
       "      <td>MeanArtPress</td>\n",
       "      <td>59.0</td>\n",
       "      <td>2149-11-13</td>\n",
       "      <td>0 days 15:30:00.000000000</td>\n",
       "    </tr>\n",
       "    <tr>\n",
       "      <th>126</th>\n",
       "      <td>9</td>\n",
       "      <td>150750</td>\n",
       "      <td>220597</td>\n",
       "      <td>2149-11-13 15:45:00</td>\n",
       "      <td>mmHg</td>\n",
       "      <td>MeanArtPress</td>\n",
       "      <td>70.0</td>\n",
       "      <td>2149-11-13</td>\n",
       "      <td>0 days 15:45:00.000000000</td>\n",
       "    </tr>\n",
       "    <tr>\n",
       "      <th>127</th>\n",
       "      <td>9</td>\n",
       "      <td>150750</td>\n",
       "      <td>220597</td>\n",
       "      <td>2149-11-13 15:50:00</td>\n",
       "      <td>mmHg</td>\n",
       "      <td>MeanArtPress</td>\n",
       "      <td>68.0</td>\n",
       "      <td>2149-11-13</td>\n",
       "      <td>0 days 15:50:00.000000000</td>\n",
       "    </tr>\n",
       "    <tr>\n",
       "      <th>128</th>\n",
       "      <td>9</td>\n",
       "      <td>150750</td>\n",
       "      <td>220597</td>\n",
       "      <td>2149-11-13 15:55:00</td>\n",
       "      <td>mmHg</td>\n",
       "      <td>MeanArtPress</td>\n",
       "      <td>124.0</td>\n",
       "      <td>2149-11-13</td>\n",
       "      <td>0 days 15:55:00.000000000</td>\n",
       "    </tr>\n",
       "    <tr>\n",
       "      <th>129</th>\n",
       "      <td>9</td>\n",
       "      <td>150750</td>\n",
       "      <td>220597</td>\n",
       "      <td>2149-11-14 13:00:00</td>\n",
       "      <td>mmHg</td>\n",
       "      <td>MeanArtPress</td>\n",
       "      <td>92.0</td>\n",
       "      <td>2149-11-13</td>\n",
       "      <td>1 days 13:00:00.000000000</td>\n",
       "    </tr>\n",
       "    <tr>\n",
       "      <th>...</th>\n",
       "      <td>...</td>\n",
       "      <td>...</td>\n",
       "      <td>...</td>\n",
       "      <td>...</td>\n",
       "      <td>...</td>\n",
       "      <td>...</td>\n",
       "      <td>...</td>\n",
       "      <td>...</td>\n",
       "      <td>...</td>\n",
       "    </tr>\n",
       "    <tr>\n",
       "      <th>16269121</th>\n",
       "      <td>53466</td>\n",
       "      <td>185052</td>\n",
       "      <td>262521</td>\n",
       "      <td>2198-04-05 11:55:00</td>\n",
       "      <td>mg/dL</td>\n",
       "      <td>Glucose</td>\n",
       "      <td>125.0</td>\n",
       "      <td>2198-04-05</td>\n",
       "      <td>0 days 11:55:00.000000000</td>\n",
       "    </tr>\n",
       "    <tr>\n",
       "      <th>16269122</th>\n",
       "      <td>53466</td>\n",
       "      <td>185052</td>\n",
       "      <td>262521</td>\n",
       "      <td>2198-04-06 02:20:00</td>\n",
       "      <td>mg/dL</td>\n",
       "      <td>Glucose</td>\n",
       "      <td>122.0</td>\n",
       "      <td>2198-04-05</td>\n",
       "      <td>1 days 02:20:00.000000000</td>\n",
       "    </tr>\n",
       "    <tr>\n",
       "      <th>16269123</th>\n",
       "      <td>53466</td>\n",
       "      <td>185052</td>\n",
       "      <td>262521</td>\n",
       "      <td>2198-04-06 11:53:00</td>\n",
       "      <td>mg/dL</td>\n",
       "      <td>Glucose</td>\n",
       "      <td>111.0</td>\n",
       "      <td>2198-04-05</td>\n",
       "      <td>1 days 11:53:00.000000000</td>\n",
       "    </tr>\n",
       "    <tr>\n",
       "      <th>16269125</th>\n",
       "      <td>53466</td>\n",
       "      <td>185052</td>\n",
       "      <td>262521</td>\n",
       "      <td>2198-04-06 14:14:00</td>\n",
       "      <td>mg/dL</td>\n",
       "      <td>Glucose</td>\n",
       "      <td>108.0</td>\n",
       "      <td>2198-04-05</td>\n",
       "      <td>1 days 14:14:00.000000000</td>\n",
       "    </tr>\n",
       "    <tr>\n",
       "      <th>16269126</th>\n",
       "      <td>53466</td>\n",
       "      <td>185052</td>\n",
       "      <td>262521</td>\n",
       "      <td>2198-04-07 02:14:00</td>\n",
       "      <td>mg/dL</td>\n",
       "      <td>Glucose</td>\n",
       "      <td>109.0</td>\n",
       "      <td>2198-04-05</td>\n",
       "      <td>2 days 02:14:00.000000000</td>\n",
       "    </tr>\n",
       "    <tr>\n",
       "      <th>16269127</th>\n",
       "      <td>53466</td>\n",
       "      <td>185052</td>\n",
       "      <td>262521</td>\n",
       "      <td>2198-04-07 14:13:00</td>\n",
       "      <td>mg/dL</td>\n",
       "      <td>Glucose</td>\n",
       "      <td>106.0</td>\n",
       "      <td>2198-04-05</td>\n",
       "      <td>2 days 14:13:00.000000000</td>\n",
       "    </tr>\n",
       "    <tr>\n",
       "      <th>16269131</th>\n",
       "      <td>53466</td>\n",
       "      <td>185052</td>\n",
       "      <td>262521</td>\n",
       "      <td>2198-04-05 01:45:00</td>\n",
       "      <td>mg/dL</td>\n",
       "      <td>Glucose</td>\n",
       "      <td>128.0</td>\n",
       "      <td>2198-04-05</td>\n",
       "      <td>0 days 01:45:00.000000000</td>\n",
       "    </tr>\n",
       "    <tr>\n",
       "      <th>16269137</th>\n",
       "      <td>73223</td>\n",
       "      <td>135039</td>\n",
       "      <td>278629</td>\n",
       "      <td>2174-05-04 02:09:00</td>\n",
       "      <td>mg/dL</td>\n",
       "      <td>Glucose</td>\n",
       "      <td>89.0</td>\n",
       "      <td>2174-05-04</td>\n",
       "      <td>0 days 02:09:00.000000000</td>\n",
       "    </tr>\n",
       "    <tr>\n",
       "      <th>16269138</th>\n",
       "      <td>73223</td>\n",
       "      <td>135039</td>\n",
       "      <td>278629</td>\n",
       "      <td>2174-05-04 12:33:00</td>\n",
       "      <td>mg/dL</td>\n",
       "      <td>Glucose</td>\n",
       "      <td>73.0</td>\n",
       "      <td>2174-05-04</td>\n",
       "      <td>0 days 12:33:00.000000000</td>\n",
       "    </tr>\n",
       "    <tr>\n",
       "      <th>16269139</th>\n",
       "      <td>73223</td>\n",
       "      <td>135039</td>\n",
       "      <td>278629</td>\n",
       "      <td>2174-05-05 03:22:00</td>\n",
       "      <td>mg/dL</td>\n",
       "      <td>Glucose</td>\n",
       "      <td>160.0</td>\n",
       "      <td>2174-05-04</td>\n",
       "      <td>1 days 03:22:00.000000000</td>\n",
       "    </tr>\n",
       "    <tr>\n",
       "      <th>16269140</th>\n",
       "      <td>75257</td>\n",
       "      <td>114666</td>\n",
       "      <td>237645</td>\n",
       "      <td>2151-06-14 11:15:00</td>\n",
       "      <td>mg/dL</td>\n",
       "      <td>Glucose</td>\n",
       "      <td>227.0</td>\n",
       "      <td>2151-06-14</td>\n",
       "      <td>0 days 11:15:00.000000000</td>\n",
       "    </tr>\n",
       "    <tr>\n",
       "      <th>16269141</th>\n",
       "      <td>75257</td>\n",
       "      <td>114666</td>\n",
       "      <td>237645</td>\n",
       "      <td>2151-06-14 16:20:00</td>\n",
       "      <td>mg/dL</td>\n",
       "      <td>Glucose</td>\n",
       "      <td>96.0</td>\n",
       "      <td>2151-06-14</td>\n",
       "      <td>0 days 16:20:00.000000000</td>\n",
       "    </tr>\n",
       "    <tr>\n",
       "      <th>16269142</th>\n",
       "      <td>75257</td>\n",
       "      <td>114666</td>\n",
       "      <td>237645</td>\n",
       "      <td>2151-06-14 18:11:00</td>\n",
       "      <td>mg/dL</td>\n",
       "      <td>Glucose</td>\n",
       "      <td>110.0</td>\n",
       "      <td>2151-06-14</td>\n",
       "      <td>0 days 18:11:00.000000000</td>\n",
       "    </tr>\n",
       "    <tr>\n",
       "      <th>16269143</th>\n",
       "      <td>75257</td>\n",
       "      <td>114666</td>\n",
       "      <td>237645</td>\n",
       "      <td>2151-06-14 22:27:00</td>\n",
       "      <td>mg/dL</td>\n",
       "      <td>Glucose</td>\n",
       "      <td>130.0</td>\n",
       "      <td>2151-06-14</td>\n",
       "      <td>0 days 22:27:00.000000000</td>\n",
       "    </tr>\n",
       "    <tr>\n",
       "      <th>16269144</th>\n",
       "      <td>75257</td>\n",
       "      <td>114666</td>\n",
       "      <td>237645</td>\n",
       "      <td>2151-06-15 02:25:00</td>\n",
       "      <td>mg/dL</td>\n",
       "      <td>Glucose</td>\n",
       "      <td>151.0</td>\n",
       "      <td>2151-06-14</td>\n",
       "      <td>1 days 02:25:00.000000000</td>\n",
       "    </tr>\n",
       "    <tr>\n",
       "      <th>16269145</th>\n",
       "      <td>89327</td>\n",
       "      <td>163844</td>\n",
       "      <td>206931</td>\n",
       "      <td>2124-08-07 11:01:00</td>\n",
       "      <td>mg/dL</td>\n",
       "      <td>Glucose</td>\n",
       "      <td>151.0</td>\n",
       "      <td>2124-08-07</td>\n",
       "      <td>0 days 11:01:00.000000000</td>\n",
       "    </tr>\n",
       "    <tr>\n",
       "      <th>16269146</th>\n",
       "      <td>89327</td>\n",
       "      <td>163844</td>\n",
       "      <td>206931</td>\n",
       "      <td>2124-08-07 11:33:00</td>\n",
       "      <td>mg/dL</td>\n",
       "      <td>Glucose</td>\n",
       "      <td>145.0</td>\n",
       "      <td>2124-08-07</td>\n",
       "      <td>0 days 11:33:00.000000000</td>\n",
       "    </tr>\n",
       "    <tr>\n",
       "      <th>16269147</th>\n",
       "      <td>89327</td>\n",
       "      <td>163844</td>\n",
       "      <td>206931</td>\n",
       "      <td>2124-08-07 12:26:00</td>\n",
       "      <td>mg/dL</td>\n",
       "      <td>Glucose</td>\n",
       "      <td>145.0</td>\n",
       "      <td>2124-08-07</td>\n",
       "      <td>0 days 12:26:00.000000000</td>\n",
       "    </tr>\n",
       "    <tr>\n",
       "      <th>16269148</th>\n",
       "      <td>89327</td>\n",
       "      <td>163844</td>\n",
       "      <td>206931</td>\n",
       "      <td>2124-08-07 14:04:00</td>\n",
       "      <td>mg/dL</td>\n",
       "      <td>Glucose</td>\n",
       "      <td>78.0</td>\n",
       "      <td>2124-08-07</td>\n",
       "      <td>0 days 14:04:00.000000000</td>\n",
       "    </tr>\n",
       "    <tr>\n",
       "      <th>16269149</th>\n",
       "      <td>89327</td>\n",
       "      <td>163844</td>\n",
       "      <td>206931</td>\n",
       "      <td>2124-08-07 22:28:00</td>\n",
       "      <td>mg/dL</td>\n",
       "      <td>Glucose</td>\n",
       "      <td>113.0</td>\n",
       "      <td>2124-08-07</td>\n",
       "      <td>0 days 22:28:00.000000000</td>\n",
       "    </tr>\n",
       "    <tr>\n",
       "      <th>16269150</th>\n",
       "      <td>89327</td>\n",
       "      <td>163844</td>\n",
       "      <td>206931</td>\n",
       "      <td>2124-08-08 03:25:00</td>\n",
       "      <td>mg/dL</td>\n",
       "      <td>Glucose</td>\n",
       "      <td>112.0</td>\n",
       "      <td>2124-08-07</td>\n",
       "      <td>1 days 03:25:00.000000000</td>\n",
       "    </tr>\n",
       "    <tr>\n",
       "      <th>16269155</th>\n",
       "      <td>93571</td>\n",
       "      <td>183904</td>\n",
       "      <td>296383</td>\n",
       "      <td>2122-07-21 03:36:00</td>\n",
       "      <td>mg/dL</td>\n",
       "      <td>Glucose</td>\n",
       "      <td>94.0</td>\n",
       "      <td>2122-07-21</td>\n",
       "      <td>0 days 03:36:00.000000000</td>\n",
       "    </tr>\n",
       "    <tr>\n",
       "      <th>16269156</th>\n",
       "      <td>93571</td>\n",
       "      <td>183904</td>\n",
       "      <td>296383</td>\n",
       "      <td>2122-07-21 15:53:00</td>\n",
       "      <td>mg/dL</td>\n",
       "      <td>Glucose</td>\n",
       "      <td>111.0</td>\n",
       "      <td>2122-07-21</td>\n",
       "      <td>0 days 15:53:00.000000000</td>\n",
       "    </tr>\n",
       "    <tr>\n",
       "      <th>16269157</th>\n",
       "      <td>93571</td>\n",
       "      <td>183904</td>\n",
       "      <td>296383</td>\n",
       "      <td>2122-07-22 04:11:00</td>\n",
       "      <td>mg/dL</td>\n",
       "      <td>Glucose</td>\n",
       "      <td>122.0</td>\n",
       "      <td>2122-07-21</td>\n",
       "      <td>1 days 04:11:00.000000000</td>\n",
       "    </tr>\n",
       "    <tr>\n",
       "      <th>16269158</th>\n",
       "      <td>93571</td>\n",
       "      <td>183904</td>\n",
       "      <td>296383</td>\n",
       "      <td>2122-07-23 04:16:00</td>\n",
       "      <td>mg/dL</td>\n",
       "      <td>Glucose</td>\n",
       "      <td>112.0</td>\n",
       "      <td>2122-07-21</td>\n",
       "      <td>2 days 04:16:00.000000000</td>\n",
       "    </tr>\n",
       "    <tr>\n",
       "      <th>16269161</th>\n",
       "      <td>94998</td>\n",
       "      <td>117228</td>\n",
       "      <td>294773</td>\n",
       "      <td>2128-07-01 02:20:00</td>\n",
       "      <td>mg/dL</td>\n",
       "      <td>Glucose</td>\n",
       "      <td>130.0</td>\n",
       "      <td>2128-07-01</td>\n",
       "      <td>0 days 02:20:00.000000000</td>\n",
       "    </tr>\n",
       "    <tr>\n",
       "      <th>16269162</th>\n",
       "      <td>94998</td>\n",
       "      <td>117228</td>\n",
       "      <td>294773</td>\n",
       "      <td>2128-07-01 17:41:00</td>\n",
       "      <td>mg/dL</td>\n",
       "      <td>Glucose</td>\n",
       "      <td>162.0</td>\n",
       "      <td>2128-07-01</td>\n",
       "      <td>0 days 17:41:00.000000000</td>\n",
       "    </tr>\n",
       "    <tr>\n",
       "      <th>16269163</th>\n",
       "      <td>94998</td>\n",
       "      <td>117228</td>\n",
       "      <td>294773</td>\n",
       "      <td>2128-07-02 01:46:00</td>\n",
       "      <td>mg/dL</td>\n",
       "      <td>Glucose</td>\n",
       "      <td>130.0</td>\n",
       "      <td>2128-07-01</td>\n",
       "      <td>1 days 01:46:00.000000000</td>\n",
       "    </tr>\n",
       "    <tr>\n",
       "      <th>16269164</th>\n",
       "      <td>94998</td>\n",
       "      <td>117228</td>\n",
       "      <td>294773</td>\n",
       "      <td>2128-07-02 12:44:00</td>\n",
       "      <td>mg/dL</td>\n",
       "      <td>Glucose</td>\n",
       "      <td>131.0</td>\n",
       "      <td>2128-07-01</td>\n",
       "      <td>1 days 12:44:00.000000000</td>\n",
       "    </tr>\n",
       "    <tr>\n",
       "      <th>16269165</th>\n",
       "      <td>94998</td>\n",
       "      <td>117228</td>\n",
       "      <td>294773</td>\n",
       "      <td>2128-07-03 02:17:00</td>\n",
       "      <td>mg/dL</td>\n",
       "      <td>Glucose</td>\n",
       "      <td>156.0</td>\n",
       "      <td>2128-07-01</td>\n",
       "      <td>2 days 02:17:00.000000000</td>\n",
       "    </tr>\n",
       "  </tbody>\n",
       "</table>\n",
       "<p>6191812 rows × 9 columns</p>\n",
       "</div>"
      ],
      "text/plain": [
       "          subject_id  hadm_id  icustay_id            charttime    uom  \\\n",
       "5                  9   150750      220597  2149-11-13 15:20:00   mmHg   \n",
       "6                  9   150750      220597  2149-11-14 11:00:00   mmHg   \n",
       "7                  9   150750      220597  2149-11-14 12:00:00   mmHg   \n",
       "12                 9   150750      220597  2149-11-13 07:00:00   mmHg   \n",
       "13                 9   150750      220597  2149-11-14 02:00:00   mmHg   \n",
       "16                 9   150750      220597  2149-11-13 10:00:00   mmHg   \n",
       "18                 9   150750      220597  2149-11-13 00:30:00   mmHg   \n",
       "19                 9   150750      220597  2149-11-13 17:00:00   mmHg   \n",
       "29                 9   150750      220597  2149-11-13 18:00:00   mmHg   \n",
       "46                 9   150750      220597  2149-11-13 04:00:00   mmHg   \n",
       "47                 9   150750      220597  2149-11-13 20:30:00   mmHg   \n",
       "48                 9   150750      220597  2149-11-13 21:00:00   mmHg   \n",
       "49                 9   150750      220597  2149-11-13 22:00:00   mmHg   \n",
       "59                 9   150750      220597  2149-11-13 13:00:00   mmHg   \n",
       "60                 9   150750      220597  2149-11-13 14:00:00   mmHg   \n",
       "61                 9   150750      220597  2149-11-14 09:00:00   mmHg   \n",
       "64                 9   150750      220597  2149-11-13 05:00:00   mmHg   \n",
       "73                 9   150750      220597  2149-11-14 10:00:00   mmHg   \n",
       "79                 9   150750      220597  2149-11-14 01:00:00   mmHg   \n",
       "85                 9   150750      220597  2149-11-13 00:00:00   mmHg   \n",
       "89                 9   150750      220597  2149-11-13 09:00:00   mmHg   \n",
       "90                 9   150750      220597  2149-11-14 05:00:00   mmHg   \n",
       "97                 9   150750      220597  2149-11-13 02:00:00   mmHg   \n",
       "101                9   150750      220597  2149-11-13 03:00:00   mmHg   \n",
       "102                9   150750      220597  2149-11-13 03:15:00   mmHg   \n",
       "115                9   150750      220597  2149-11-13 15:30:00   mmHg   \n",
       "126                9   150750      220597  2149-11-13 15:45:00   mmHg   \n",
       "127                9   150750      220597  2149-11-13 15:50:00   mmHg   \n",
       "128                9   150750      220597  2149-11-13 15:55:00   mmHg   \n",
       "129                9   150750      220597  2149-11-14 13:00:00   mmHg   \n",
       "...              ...      ...         ...                  ...    ...   \n",
       "16269121       53466   185052      262521  2198-04-05 11:55:00  mg/dL   \n",
       "16269122       53466   185052      262521  2198-04-06 02:20:00  mg/dL   \n",
       "16269123       53466   185052      262521  2198-04-06 11:53:00  mg/dL   \n",
       "16269125       53466   185052      262521  2198-04-06 14:14:00  mg/dL   \n",
       "16269126       53466   185052      262521  2198-04-07 02:14:00  mg/dL   \n",
       "16269127       53466   185052      262521  2198-04-07 14:13:00  mg/dL   \n",
       "16269131       53466   185052      262521  2198-04-05 01:45:00  mg/dL   \n",
       "16269137       73223   135039      278629  2174-05-04 02:09:00  mg/dL   \n",
       "16269138       73223   135039      278629  2174-05-04 12:33:00  mg/dL   \n",
       "16269139       73223   135039      278629  2174-05-05 03:22:00  mg/dL   \n",
       "16269140       75257   114666      237645  2151-06-14 11:15:00  mg/dL   \n",
       "16269141       75257   114666      237645  2151-06-14 16:20:00  mg/dL   \n",
       "16269142       75257   114666      237645  2151-06-14 18:11:00  mg/dL   \n",
       "16269143       75257   114666      237645  2151-06-14 22:27:00  mg/dL   \n",
       "16269144       75257   114666      237645  2151-06-15 02:25:00  mg/dL   \n",
       "16269145       89327   163844      206931  2124-08-07 11:01:00  mg/dL   \n",
       "16269146       89327   163844      206931  2124-08-07 11:33:00  mg/dL   \n",
       "16269147       89327   163844      206931  2124-08-07 12:26:00  mg/dL   \n",
       "16269148       89327   163844      206931  2124-08-07 14:04:00  mg/dL   \n",
       "16269149       89327   163844      206931  2124-08-07 22:28:00  mg/dL   \n",
       "16269150       89327   163844      206931  2124-08-08 03:25:00  mg/dL   \n",
       "16269155       93571   183904      296383  2122-07-21 03:36:00  mg/dL   \n",
       "16269156       93571   183904      296383  2122-07-21 15:53:00  mg/dL   \n",
       "16269157       93571   183904      296383  2122-07-22 04:11:00  mg/dL   \n",
       "16269158       93571   183904      296383  2122-07-23 04:16:00  mg/dL   \n",
       "16269161       94998   117228      294773  2128-07-01 02:20:00  mg/dL   \n",
       "16269162       94998   117228      294773  2128-07-01 17:41:00  mg/dL   \n",
       "16269163       94998   117228      294773  2128-07-02 01:46:00  mg/dL   \n",
       "16269164       94998   117228      294773  2128-07-02 12:44:00  mg/dL   \n",
       "16269165       94998   117228      294773  2128-07-03 02:17:00  mg/dL   \n",
       "\n",
       "               vitalid  valuenum         t_0                      delta  \n",
       "5         MeanArtPress      61.0  2149-11-13  0 days 15:20:00.000000000  \n",
       "6         MeanArtPress     103.0  2149-11-13  1 days 11:00:00.000000000  \n",
       "7         MeanArtPress     134.0  2149-11-13  1 days 12:00:00.000000000  \n",
       "12        MeanArtPress      85.0  2149-11-13  0 days 07:00:00.000000000  \n",
       "13        MeanArtPress      96.0  2149-11-13  1 days 02:00:00.000000000  \n",
       "16        MeanArtPress      92.0  2149-11-13  0 days 10:00:00.000000000  \n",
       "18        MeanArtPress     104.0  2149-11-13  0 days 00:30:00.000000000  \n",
       "19        MeanArtPress      84.0  2149-11-13  0 days 17:00:00.000000000  \n",
       "29        MeanArtPress      93.0  2149-11-13  0 days 18:00:00.000000000  \n",
       "46        MeanArtPress     104.0  2149-11-13  0 days 04:00:00.000000000  \n",
       "47        MeanArtPress     102.0  2149-11-13  0 days 20:30:00.000000000  \n",
       "48        MeanArtPress      97.0  2149-11-13  0 days 21:00:00.000000000  \n",
       "49        MeanArtPress      94.0  2149-11-13  0 days 22:00:00.000000000  \n",
       "59        MeanArtPress     104.0  2149-11-13  0 days 13:00:00.000000000  \n",
       "60        MeanArtPress     111.0  2149-11-13  0 days 14:00:00.000000000  \n",
       "61        MeanArtPress     106.0  2149-11-13  1 days 09:00:00.000000000  \n",
       "64        MeanArtPress     105.0  2149-11-13  0 days 05:00:00.000000000  \n",
       "73        MeanArtPress      80.0  2149-11-13  1 days 10:00:00.000000000  \n",
       "79        MeanArtPress      96.0  2149-11-13  1 days 01:00:00.000000000  \n",
       "85        MeanArtPress     102.0  2149-11-13  0 days 00:00:00.000000000  \n",
       "89        MeanArtPress      97.0  2149-11-13  0 days 09:00:00.000000000  \n",
       "90        MeanArtPress      89.0  2149-11-13  1 days 05:00:00.000000000  \n",
       "97        MeanArtPress     107.0  2149-11-13  0 days 02:00:00.000000000  \n",
       "101       MeanArtPress     101.0  2149-11-13  0 days 03:00:00.000000000  \n",
       "102       MeanArtPress     101.0  2149-11-13  0 days 03:15:00.000000000  \n",
       "115       MeanArtPress      59.0  2149-11-13  0 days 15:30:00.000000000  \n",
       "126       MeanArtPress      70.0  2149-11-13  0 days 15:45:00.000000000  \n",
       "127       MeanArtPress      68.0  2149-11-13  0 days 15:50:00.000000000  \n",
       "128       MeanArtPress     124.0  2149-11-13  0 days 15:55:00.000000000  \n",
       "129       MeanArtPress      92.0  2149-11-13  1 days 13:00:00.000000000  \n",
       "...                ...       ...         ...                        ...  \n",
       "16269121       Glucose     125.0  2198-04-05  0 days 11:55:00.000000000  \n",
       "16269122       Glucose     122.0  2198-04-05  1 days 02:20:00.000000000  \n",
       "16269123       Glucose     111.0  2198-04-05  1 days 11:53:00.000000000  \n",
       "16269125       Glucose     108.0  2198-04-05  1 days 14:14:00.000000000  \n",
       "16269126       Glucose     109.0  2198-04-05  2 days 02:14:00.000000000  \n",
       "16269127       Glucose     106.0  2198-04-05  2 days 14:13:00.000000000  \n",
       "16269131       Glucose     128.0  2198-04-05  0 days 01:45:00.000000000  \n",
       "16269137       Glucose      89.0  2174-05-04  0 days 02:09:00.000000000  \n",
       "16269138       Glucose      73.0  2174-05-04  0 days 12:33:00.000000000  \n",
       "16269139       Glucose     160.0  2174-05-04  1 days 03:22:00.000000000  \n",
       "16269140       Glucose     227.0  2151-06-14  0 days 11:15:00.000000000  \n",
       "16269141       Glucose      96.0  2151-06-14  0 days 16:20:00.000000000  \n",
       "16269142       Glucose     110.0  2151-06-14  0 days 18:11:00.000000000  \n",
       "16269143       Glucose     130.0  2151-06-14  0 days 22:27:00.000000000  \n",
       "16269144       Glucose     151.0  2151-06-14  1 days 02:25:00.000000000  \n",
       "16269145       Glucose     151.0  2124-08-07  0 days 11:01:00.000000000  \n",
       "16269146       Glucose     145.0  2124-08-07  0 days 11:33:00.000000000  \n",
       "16269147       Glucose     145.0  2124-08-07  0 days 12:26:00.000000000  \n",
       "16269148       Glucose      78.0  2124-08-07  0 days 14:04:00.000000000  \n",
       "16269149       Glucose     113.0  2124-08-07  0 days 22:28:00.000000000  \n",
       "16269150       Glucose     112.0  2124-08-07  1 days 03:25:00.000000000  \n",
       "16269155       Glucose      94.0  2122-07-21  0 days 03:36:00.000000000  \n",
       "16269156       Glucose     111.0  2122-07-21  0 days 15:53:00.000000000  \n",
       "16269157       Glucose     122.0  2122-07-21  1 days 04:11:00.000000000  \n",
       "16269158       Glucose     112.0  2122-07-21  2 days 04:16:00.000000000  \n",
       "16269161       Glucose     130.0  2128-07-01  0 days 02:20:00.000000000  \n",
       "16269162       Glucose     162.0  2128-07-01  0 days 17:41:00.000000000  \n",
       "16269163       Glucose     130.0  2128-07-01  1 days 01:46:00.000000000  \n",
       "16269164       Glucose     131.0  2128-07-01  1 days 12:44:00.000000000  \n",
       "16269165       Glucose     156.0  2128-07-01  2 days 02:17:00.000000000  \n",
       "\n",
       "[6191812 rows x 9 columns]"
      ]
     },
     "execution_count": 21,
     "metadata": {},
     "output_type": "execute_result"
    },
    {
     "name": "stdout",
     "output_type": "stream",
     "text": [
      "time: 32.7 ms\n"
     ]
    }
   ],
   "source": [
    "vitals_all_nosummary_nonull.head()"
   ]
  },
  {
   "cell_type": "code",
   "execution_count": 92,
   "metadata": {},
   "outputs": [
    {
     "data": {
      "text/plain": [
       "vitalid       uom     \n",
       "DiasBP        mmHg         920800\n",
       "Glucose       mg/dL         38696\n",
       "HeartRate     bpm          955108\n",
       "MeanArtPress  mmHg         933617\n",
       "RespRate      insp/min    1043762\n",
       "SpO2          %            929932\n",
       "SysBP         mmHg         921226\n",
       "TempC         Deg. C       255419\n",
       "Name: uom, dtype: int64"
      ]
     },
     "execution_count": 92,
     "metadata": {},
     "output_type": "execute_result"
    },
    {
     "name": "stdout",
     "output_type": "stream",
     "text": [
      "time: 1.62 s\n"
     ]
    }
   ],
   "source": [
    "vitals_all_nosummary_nonull.groupby('vitalid')['uom'].value_counts() #looks good"
   ]
  },
  {
   "cell_type": "code",
   "execution_count": 93,
   "metadata": {},
   "outputs": [
    {
     "name": "stdout",
     "output_type": "stream",
     "text": [
      "time: 41.1 s\n"
     ]
    }
   ],
   "source": [
    "pd.DataFrame(vitals_all_nosummary_nonull).to_csv(Path(\n",
    "    wd+'/data/processed/%s_vitals_all_nosummary_nonull.csv' %(date)))\n"
   ]
  },
  {
   "cell_type": "markdown",
   "metadata": {},
   "source": [
    "# labs"
   ]
  },
  {
   "cell_type": "code",
   "execution_count": 96,
   "metadata": {},
   "outputs": [
    {
     "name": "stdout",
     "output_type": "stream",
     "text": [
      "time: 7.04 ms\n"
     ]
    }
   ],
   "source": [
    "#importing unit of mesurements:\n",
    "def uom_sql_import(file_path):\n",
    "    if isinstance(file_path, str)== True:\n",
    "        f = open(Path(file_path), 'r')\n",
    "    else:\n",
    "        f = open(Path(str(file_path)), 'r')\n",
    "\n",
    "    SQL = open(file_path,'r').read()\n",
    "    SQL_df= pd.read_sql_query(SQL,conn)   \n",
    "    return(SQL_df)"
   ]
  },
  {
   "cell_type": "code",
   "execution_count": 97,
   "metadata": {},
   "outputs": [
    {
     "name": "stdout",
     "output_type": "stream",
     "text": [
      "time: 22.1 s\n"
     ]
    }
   ],
   "source": [
    "lab_uom= uom_sql_import(Path(wd+'/data/raw/clinical_var_sql/unit_of_mesurement/labs_uom.sql'))\n",
    "labs_all_nosummary_72 = pd.merge(labs_all_nosummary_72, lab_uom, left_on='label', right_on='label')\n",
    "del(lab_uom)"
   ]
  },
  {
   "cell_type": "code",
   "execution_count": 99,
   "metadata": {},
   "outputs": [
    {
     "data": {
      "text/plain": [
       "label        uom    \n",
       "ALBUMIN      g/dL       10756\n",
       "ANION GAP    mEq/L      61650\n",
       "BANDS        %           3516\n",
       "BICARBONATE  mEq/L      62606\n",
       "BILIRUBIN    mg/dL      17814\n",
       "BUN          mg/dL      63051\n",
       "CHLORIDE     mEq/L      68812\n",
       "CREATININE   mg/dL      63315\n",
       "GLUCOSE      mg/dL      81925\n",
       "HEMATOCRIT   %          78508\n",
       "HEMOGLOBIN   g/dL       64940\n",
       "LACTATE      mmol/L     34490\n",
       "PLATELET     K/uL       58060\n",
       "POTASSIUM    mEq/L      86455\n",
       "PT           SECONDS    39677\n",
       "PTT          sec        41760\n",
       "SODIUM       mEq/L      71894\n",
       "WBC          K/uL       56390\n",
       "Name: uom, dtype: int64"
      ]
     },
     "execution_count": 99,
     "metadata": {},
     "output_type": "execute_result"
    },
    {
     "name": "stdout",
     "output_type": "stream",
     "text": [
      "time: 485 ms\n"
     ]
    }
   ],
   "source": [
    "labs_all_nosummary_72.groupby('label')['uom'].value_counts() #looks good"
   ]
  },
  {
   "cell_type": "code",
   "execution_count": null,
   "metadata": {},
   "outputs": [],
   "source": [
    "#outliers"
   ]
  },
  {
   "cell_type": "code",
   "execution_count": null,
   "metadata": {},
   "outputs": [],
   "source": []
  },
  {
   "cell_type": "code",
   "execution_count": 104,
   "metadata": {},
   "outputs": [
    {
     "name": "stdout",
     "output_type": "stream",
     "text": [
      "time: 7.32 s\n"
     ]
    }
   ],
   "source": [
    "pd.DataFrame(labs_all_nosummary_72).to_csv(Path(\n",
    "    wd+'/data/processed/%s_labs_all_nosummary_72.csv' %(date)))"
   ]
  },
  {
   "cell_type": "code",
   "execution_count": null,
   "metadata": {},
   "outputs": [],
   "source": []
  },
  {
   "cell_type": "markdown",
   "metadata": {},
   "source": [
    "## vent category"
   ]
  },
  {
   "cell_type": "code",
   "execution_count": 101,
   "metadata": {},
   "outputs": [
    {
     "name": "stderr",
     "output_type": "stream",
     "text": [
      "/Users/geickelb1/anaconda/envs/rpy-env/lib/python3.6/site-packages/ipykernel_launcher.py:1: SettingWithCopyWarning: \n",
      "A value is trying to be set on a copy of a slice from a DataFrame.\n",
      "Try using .loc[row_indexer,col_indexer] = value instead\n",
      "\n",
      "See the caveats in the documentation: http://pandas.pydata.org/pandas-docs/stable/indexing.html#indexing-view-versus-copy\n",
      "  \"\"\"Entry point for launching an IPython kernel.\n",
      "/Users/geickelb1/anaconda/envs/rpy-env/lib/python3.6/site-packages/ipykernel_launcher.py:2: SettingWithCopyWarning: \n",
      "A value is trying to be set on a copy of a slice from a DataFrame.\n",
      "Try using .loc[row_indexer,col_indexer] = value instead\n",
      "\n",
      "See the caveats in the documentation: http://pandas.pydata.org/pandas-docs/stable/indexing.html#indexing-view-versus-copy\n",
      "  \n"
     ]
    },
    {
     "data": {
      "text/html": [
       "<div>\n",
       "<style scoped>\n",
       "    .dataframe tbody tr th:only-of-type {\n",
       "        vertical-align: middle;\n",
       "    }\n",
       "\n",
       "    .dataframe tbody tr th {\n",
       "        vertical-align: top;\n",
       "    }\n",
       "\n",
       "    .dataframe thead th {\n",
       "        text-align: right;\n",
       "    }\n",
       "</style>\n",
       "<table border=\"1\" class=\"dataframe\">\n",
       "  <thead>\n",
       "    <tr style=\"text-align: right;\">\n",
       "      <th></th>\n",
       "      <th>icustay_id</th>\n",
       "      <th>t_0</th>\n",
       "      <th>vent_day1</th>\n",
       "      <th>vent_day2</th>\n",
       "      <th>vent_day3</th>\n",
       "      <th>uom</th>\n",
       "      <th>dtype</th>\n",
       "    </tr>\n",
       "  </thead>\n",
       "  <tbody>\n",
       "    <tr>\n",
       "      <th>0</th>\n",
       "      <td>267059.0</td>\n",
       "      <td>2182-11-12</td>\n",
       "      <td>Mech</td>\n",
       "      <td>None</td>\n",
       "      <td>None</td>\n",
       "      <td>category</td>\n",
       "      <td>factor</td>\n",
       "    </tr>\n",
       "    <tr>\n",
       "      <th>1</th>\n",
       "      <td>278729.0</td>\n",
       "      <td>2159-11-08</td>\n",
       "      <td>Oxygen</td>\n",
       "      <td>Mech</td>\n",
       "      <td>None</td>\n",
       "      <td>category</td>\n",
       "      <td>factor</td>\n",
       "    </tr>\n",
       "    <tr>\n",
       "      <th>2</th>\n",
       "      <td>219670.0</td>\n",
       "      <td>2190-08-01</td>\n",
       "      <td>Oxygen</td>\n",
       "      <td>None</td>\n",
       "      <td>None</td>\n",
       "      <td>category</td>\n",
       "      <td>factor</td>\n",
       "    </tr>\n",
       "    <tr>\n",
       "      <th>3</th>\n",
       "      <td>295185.0</td>\n",
       "      <td>2154-11-11</td>\n",
       "      <td>Oxygen</td>\n",
       "      <td>None</td>\n",
       "      <td>None</td>\n",
       "      <td>category</td>\n",
       "      <td>factor</td>\n",
       "    </tr>\n",
       "    <tr>\n",
       "      <th>4</th>\n",
       "      <td>211472.0</td>\n",
       "      <td>2193-12-11</td>\n",
       "      <td>None</td>\n",
       "      <td>None</td>\n",
       "      <td>None</td>\n",
       "      <td>category</td>\n",
       "      <td>factor</td>\n",
       "    </tr>\n",
       "  </tbody>\n",
       "</table>\n",
       "</div>"
      ],
      "text/plain": [
       "   icustay_id         t_0 vent_day1 vent_day2 vent_day3       uom   dtype\n",
       "0    267059.0  2182-11-12      Mech      None      None  category  factor\n",
       "1    278729.0  2159-11-08    Oxygen      Mech      None  category  factor\n",
       "2    219670.0  2190-08-01    Oxygen      None      None  category  factor\n",
       "3    295185.0  2154-11-11    Oxygen      None      None  category  factor\n",
       "4    211472.0  2193-12-11      None      None      None  category  factor"
      ]
     },
     "execution_count": 101,
     "metadata": {},
     "output_type": "execute_result"
    },
    {
     "name": "stdout",
     "output_type": "stream",
     "text": [
      "time: 137 ms\n"
     ]
    }
   ],
   "source": [
    "ventcategory_df['uom']='category'\n",
    "ventcategory_df['dtype']= 'factor'\n",
    "ventcategory_df.head()"
   ]
  },
  {
   "cell_type": "code",
   "execution_count": 103,
   "metadata": {},
   "outputs": [
    {
     "name": "stdout",
     "output_type": "stream",
     "text": [
      "time: 67.5 ms\n"
     ]
    }
   ],
   "source": [
    "pd.DataFrame(ventcategory_df).to_csv(Path(\n",
    "    wd+'/data/processed/%s_ventcategory_df.csv' %(date)))"
   ]
  },
  {
   "cell_type": "markdown",
   "metadata": {},
   "source": [
    "## weight and height firstday\n",
    "i explored weightdurations and it had more missing values than weightfirstday, so i will use that. we can revisit this if we need longitudinal weights"
   ]
  },
  {
   "cell_type": "code",
   "execution_count": 105,
   "metadata": {},
   "outputs": [
    {
     "name": "stdout",
     "output_type": "stream",
     "text": [
      "time: 53.9 ms\n"
     ]
    },
    {
     "name": "stderr",
     "output_type": "stream",
     "text": [
      "/Users/geickelb1/anaconda/envs/rpy-env/lib/python3.6/site-packages/ipykernel_launcher.py:1: SettingWithCopyWarning: \n",
      "A value is trying to be set on a copy of a slice from a DataFrame.\n",
      "Try using .loc[row_indexer,col_indexer] = value instead\n",
      "\n",
      "See the caveats in the documentation: http://pandas.pydata.org/pandas-docs/stable/indexing.html#indexing-view-versus-copy\n",
      "  \"\"\"Entry point for launching an IPython kernel.\n"
     ]
    }
   ],
   "source": [
    "weightfirstday_df['uom']='kg'"
   ]
  },
  {
   "cell_type": "code",
   "execution_count": 106,
   "metadata": {},
   "outputs": [
    {
     "data": {
      "text/html": [
       "<div>\n",
       "<style scoped>\n",
       "    .dataframe tbody tr th:only-of-type {\n",
       "        vertical-align: middle;\n",
       "    }\n",
       "\n",
       "    .dataframe tbody tr th {\n",
       "        vertical-align: top;\n",
       "    }\n",
       "\n",
       "    .dataframe thead th {\n",
       "        text-align: right;\n",
       "    }\n",
       "</style>\n",
       "<table border=\"1\" class=\"dataframe\">\n",
       "  <thead>\n",
       "    <tr style=\"text-align: right;\">\n",
       "      <th></th>\n",
       "      <th>icustay_id</th>\n",
       "      <th>weight</th>\n",
       "      <th>weight_admit</th>\n",
       "      <th>weight_daily</th>\n",
       "      <th>weight_echoinhosp</th>\n",
       "      <th>weight_echoprehosp</th>\n",
       "      <th>uom</th>\n",
       "    </tr>\n",
       "  </thead>\n",
       "  <tbody>\n",
       "    <tr>\n",
       "      <th>7</th>\n",
       "      <td>200012</td>\n",
       "      <td>51.20</td>\n",
       "      <td>51.200001</td>\n",
       "      <td>51.200001</td>\n",
       "      <td>NaN</td>\n",
       "      <td>NaN</td>\n",
       "      <td>kg</td>\n",
       "    </tr>\n",
       "    <tr>\n",
       "      <th>8</th>\n",
       "      <td>200014</td>\n",
       "      <td>62.00</td>\n",
       "      <td>62.000000</td>\n",
       "      <td>NaN</td>\n",
       "      <td>NaN</td>\n",
       "      <td>NaN</td>\n",
       "      <td>kg</td>\n",
       "    </tr>\n",
       "    <tr>\n",
       "      <th>10</th>\n",
       "      <td>200019</td>\n",
       "      <td>65.00</td>\n",
       "      <td>65.000000</td>\n",
       "      <td>NaN</td>\n",
       "      <td>NaN</td>\n",
       "      <td>NaN</td>\n",
       "      <td>kg</td>\n",
       "    </tr>\n",
       "    <tr>\n",
       "      <th>16</th>\n",
       "      <td>200030</td>\n",
       "      <td>113.60</td>\n",
       "      <td>113.599998</td>\n",
       "      <td>113.599998</td>\n",
       "      <td>NaN</td>\n",
       "      <td>NaN</td>\n",
       "      <td>kg</td>\n",
       "    </tr>\n",
       "    <tr>\n",
       "      <th>18</th>\n",
       "      <td>200033</td>\n",
       "      <td>74.00</td>\n",
       "      <td>74.000000</td>\n",
       "      <td>NaN</td>\n",
       "      <td>NaN</td>\n",
       "      <td>NaN</td>\n",
       "      <td>kg</td>\n",
       "    </tr>\n",
       "    <tr>\n",
       "      <th>21</th>\n",
       "      <td>200036</td>\n",
       "      <td>79.00</td>\n",
       "      <td>NaN</td>\n",
       "      <td>79.000000</td>\n",
       "      <td>NaN</td>\n",
       "      <td>NaN</td>\n",
       "      <td>kg</td>\n",
       "    </tr>\n",
       "    <tr>\n",
       "      <th>33</th>\n",
       "      <td>200055</td>\n",
       "      <td>56.00</td>\n",
       "      <td>56.000000</td>\n",
       "      <td>NaN</td>\n",
       "      <td>NaN</td>\n",
       "      <td>NaN</td>\n",
       "      <td>kg</td>\n",
       "    </tr>\n",
       "    <tr>\n",
       "      <th>34</th>\n",
       "      <td>200059</td>\n",
       "      <td>54.00</td>\n",
       "      <td>54.000000</td>\n",
       "      <td>60.000000</td>\n",
       "      <td>NaN</td>\n",
       "      <td>NaN</td>\n",
       "      <td>kg</td>\n",
       "    </tr>\n",
       "    <tr>\n",
       "      <th>35</th>\n",
       "      <td>200061</td>\n",
       "      <td>250.00</td>\n",
       "      <td>250.000000</td>\n",
       "      <td>NaN</td>\n",
       "      <td>NaN</td>\n",
       "      <td>NaN</td>\n",
       "      <td>kg</td>\n",
       "    </tr>\n",
       "    <tr>\n",
       "      <th>37</th>\n",
       "      <td>200063</td>\n",
       "      <td>NaN</td>\n",
       "      <td>NaN</td>\n",
       "      <td>NaN</td>\n",
       "      <td>NaN</td>\n",
       "      <td>NaN</td>\n",
       "      <td>kg</td>\n",
       "    </tr>\n",
       "    <tr>\n",
       "      <th>38</th>\n",
       "      <td>200065</td>\n",
       "      <td>120.00</td>\n",
       "      <td>120.000000</td>\n",
       "      <td>NaN</td>\n",
       "      <td>108.862080</td>\n",
       "      <td>NaN</td>\n",
       "      <td>kg</td>\n",
       "    </tr>\n",
       "    <tr>\n",
       "      <th>45</th>\n",
       "      <td>200075</td>\n",
       "      <td>58.10</td>\n",
       "      <td>58.100000</td>\n",
       "      <td>58.100000</td>\n",
       "      <td>NaN</td>\n",
       "      <td>NaN</td>\n",
       "      <td>kg</td>\n",
       "    </tr>\n",
       "    <tr>\n",
       "      <th>47</th>\n",
       "      <td>200078</td>\n",
       "      <td>71.50</td>\n",
       "      <td>71.500000</td>\n",
       "      <td>71.500000</td>\n",
       "      <td>72.574720</td>\n",
       "      <td>NaN</td>\n",
       "      <td>kg</td>\n",
       "    </tr>\n",
       "    <tr>\n",
       "      <th>52</th>\n",
       "      <td>200091</td>\n",
       "      <td>90.70</td>\n",
       "      <td>90.699997</td>\n",
       "      <td>92.500000</td>\n",
       "      <td>NaN</td>\n",
       "      <td>NaN</td>\n",
       "      <td>kg</td>\n",
       "    </tr>\n",
       "    <tr>\n",
       "      <th>54</th>\n",
       "      <td>200095</td>\n",
       "      <td>NaN</td>\n",
       "      <td>NaN</td>\n",
       "      <td>NaN</td>\n",
       "      <td>NaN</td>\n",
       "      <td>NaN</td>\n",
       "      <td>kg</td>\n",
       "    </tr>\n",
       "    <tr>\n",
       "      <th>57</th>\n",
       "      <td>200102</td>\n",
       "      <td>155.00</td>\n",
       "      <td>155.000000</td>\n",
       "      <td>NaN</td>\n",
       "      <td>149.685360</td>\n",
       "      <td>NaN</td>\n",
       "      <td>kg</td>\n",
       "    </tr>\n",
       "    <tr>\n",
       "      <th>62</th>\n",
       "      <td>200108</td>\n",
       "      <td>74.00</td>\n",
       "      <td>74.000000</td>\n",
       "      <td>74.000000</td>\n",
       "      <td>NaN</td>\n",
       "      <td>NaN</td>\n",
       "      <td>kg</td>\n",
       "    </tr>\n",
       "    <tr>\n",
       "      <th>64</th>\n",
       "      <td>200112</td>\n",
       "      <td>167.20</td>\n",
       "      <td>NaN</td>\n",
       "      <td>167.199997</td>\n",
       "      <td>167.829040</td>\n",
       "      <td>NaN</td>\n",
       "      <td>kg</td>\n",
       "    </tr>\n",
       "    <tr>\n",
       "      <th>66</th>\n",
       "      <td>200116</td>\n",
       "      <td>113.40</td>\n",
       "      <td>113.400000</td>\n",
       "      <td>NaN</td>\n",
       "      <td>113.398000</td>\n",
       "      <td>NaN</td>\n",
       "      <td>kg</td>\n",
       "    </tr>\n",
       "    <tr>\n",
       "      <th>70</th>\n",
       "      <td>200124</td>\n",
       "      <td>46.50</td>\n",
       "      <td>46.500000</td>\n",
       "      <td>72.750000</td>\n",
       "      <td>NaN</td>\n",
       "      <td>NaN</td>\n",
       "      <td>kg</td>\n",
       "    </tr>\n",
       "    <tr>\n",
       "      <th>72</th>\n",
       "      <td>200126</td>\n",
       "      <td>78.00</td>\n",
       "      <td>78.000000</td>\n",
       "      <td>NaN</td>\n",
       "      <td>NaN</td>\n",
       "      <td>NaN</td>\n",
       "      <td>kg</td>\n",
       "    </tr>\n",
       "    <tr>\n",
       "      <th>77</th>\n",
       "      <td>200135</td>\n",
       "      <td>59.90</td>\n",
       "      <td>59.900000</td>\n",
       "      <td>59.900000</td>\n",
       "      <td>NaN</td>\n",
       "      <td>NaN</td>\n",
       "      <td>kg</td>\n",
       "    </tr>\n",
       "    <tr>\n",
       "      <th>78</th>\n",
       "      <td>200136</td>\n",
       "      <td>100.00</td>\n",
       "      <td>100.000000</td>\n",
       "      <td>99.500000</td>\n",
       "      <td>NaN</td>\n",
       "      <td>NaN</td>\n",
       "      <td>kg</td>\n",
       "    </tr>\n",
       "    <tr>\n",
       "      <th>81</th>\n",
       "      <td>200140</td>\n",
       "      <td>80.00</td>\n",
       "      <td>80.000000</td>\n",
       "      <td>NaN</td>\n",
       "      <td>79.832192</td>\n",
       "      <td>NaN</td>\n",
       "      <td>kg</td>\n",
       "    </tr>\n",
       "    <tr>\n",
       "      <th>82</th>\n",
       "      <td>200141</td>\n",
       "      <td>70.70</td>\n",
       "      <td>70.700000</td>\n",
       "      <td>85.200000</td>\n",
       "      <td>NaN</td>\n",
       "      <td>NaN</td>\n",
       "      <td>kg</td>\n",
       "    </tr>\n",
       "    <tr>\n",
       "      <th>83</th>\n",
       "      <td>200143</td>\n",
       "      <td>NaN</td>\n",
       "      <td>NaN</td>\n",
       "      <td>NaN</td>\n",
       "      <td>NaN</td>\n",
       "      <td>NaN</td>\n",
       "      <td>kg</td>\n",
       "    </tr>\n",
       "    <tr>\n",
       "      <th>86</th>\n",
       "      <td>200150</td>\n",
       "      <td>67.20</td>\n",
       "      <td>67.200000</td>\n",
       "      <td>68.100000</td>\n",
       "      <td>NaN</td>\n",
       "      <td>70.30676</td>\n",
       "      <td>kg</td>\n",
       "    </tr>\n",
       "    <tr>\n",
       "      <th>98</th>\n",
       "      <td>200173</td>\n",
       "      <td>NaN</td>\n",
       "      <td>NaN</td>\n",
       "      <td>NaN</td>\n",
       "      <td>NaN</td>\n",
       "      <td>NaN</td>\n",
       "      <td>kg</td>\n",
       "    </tr>\n",
       "    <tr>\n",
       "      <th>107</th>\n",
       "      <td>200188</td>\n",
       "      <td>NaN</td>\n",
       "      <td>NaN</td>\n",
       "      <td>NaN</td>\n",
       "      <td>NaN</td>\n",
       "      <td>NaN</td>\n",
       "      <td>kg</td>\n",
       "    </tr>\n",
       "    <tr>\n",
       "      <th>108</th>\n",
       "      <td>200191</td>\n",
       "      <td>86.20</td>\n",
       "      <td>86.200000</td>\n",
       "      <td>NaN</td>\n",
       "      <td>NaN</td>\n",
       "      <td>NaN</td>\n",
       "      <td>kg</td>\n",
       "    </tr>\n",
       "    <tr>\n",
       "      <th>...</th>\n",
       "      <td>...</td>\n",
       "      <td>...</td>\n",
       "      <td>...</td>\n",
       "      <td>...</td>\n",
       "      <td>...</td>\n",
       "      <td>...</td>\n",
       "      <td>...</td>\n",
       "    </tr>\n",
       "    <tr>\n",
       "      <th>53330</th>\n",
       "      <td>299806</td>\n",
       "      <td>85.00</td>\n",
       "      <td>85.000000</td>\n",
       "      <td>85.500000</td>\n",
       "      <td>NaN</td>\n",
       "      <td>NaN</td>\n",
       "      <td>kg</td>\n",
       "    </tr>\n",
       "    <tr>\n",
       "      <th>53332</th>\n",
       "      <td>299811</td>\n",
       "      <td>63.70</td>\n",
       "      <td>63.700000</td>\n",
       "      <td>NaN</td>\n",
       "      <td>NaN</td>\n",
       "      <td>NaN</td>\n",
       "      <td>kg</td>\n",
       "    </tr>\n",
       "    <tr>\n",
       "      <th>53340</th>\n",
       "      <td>299826</td>\n",
       "      <td>68.80</td>\n",
       "      <td>68.800000</td>\n",
       "      <td>NaN</td>\n",
       "      <td>68.492392</td>\n",
       "      <td>NaN</td>\n",
       "      <td>kg</td>\n",
       "    </tr>\n",
       "    <tr>\n",
       "      <th>53341</th>\n",
       "      <td>299828</td>\n",
       "      <td>NaN</td>\n",
       "      <td>NaN</td>\n",
       "      <td>NaN</td>\n",
       "      <td>NaN</td>\n",
       "      <td>NaN</td>\n",
       "      <td>kg</td>\n",
       "    </tr>\n",
       "    <tr>\n",
       "      <th>53342</th>\n",
       "      <td>299832</td>\n",
       "      <td>73.90</td>\n",
       "      <td>73.900000</td>\n",
       "      <td>NaN</td>\n",
       "      <td>NaN</td>\n",
       "      <td>NaN</td>\n",
       "      <td>kg</td>\n",
       "    </tr>\n",
       "    <tr>\n",
       "      <th>53343</th>\n",
       "      <td>299833</td>\n",
       "      <td>NaN</td>\n",
       "      <td>NaN</td>\n",
       "      <td>NaN</td>\n",
       "      <td>NaN</td>\n",
       "      <td>NaN</td>\n",
       "      <td>kg</td>\n",
       "    </tr>\n",
       "    <tr>\n",
       "      <th>53345</th>\n",
       "      <td>299840</td>\n",
       "      <td>56.30</td>\n",
       "      <td>NaN</td>\n",
       "      <td>56.299999</td>\n",
       "      <td>50.802304</td>\n",
       "      <td>NaN</td>\n",
       "      <td>kg</td>\n",
       "    </tr>\n",
       "    <tr>\n",
       "      <th>53351</th>\n",
       "      <td>299852</td>\n",
       "      <td>78.33</td>\n",
       "      <td>78.330002</td>\n",
       "      <td>NaN</td>\n",
       "      <td>NaN</td>\n",
       "      <td>NaN</td>\n",
       "      <td>kg</td>\n",
       "    </tr>\n",
       "    <tr>\n",
       "      <th>53352</th>\n",
       "      <td>299853</td>\n",
       "      <td>81.00</td>\n",
       "      <td>81.000000</td>\n",
       "      <td>86.000000</td>\n",
       "      <td>NaN</td>\n",
       "      <td>NaN</td>\n",
       "      <td>kg</td>\n",
       "    </tr>\n",
       "    <tr>\n",
       "      <th>53355</th>\n",
       "      <td>299858</td>\n",
       "      <td>82.30</td>\n",
       "      <td>82.300000</td>\n",
       "      <td>NaN</td>\n",
       "      <td>NaN</td>\n",
       "      <td>NaN</td>\n",
       "      <td>kg</td>\n",
       "    </tr>\n",
       "    <tr>\n",
       "      <th>53358</th>\n",
       "      <td>299863</td>\n",
       "      <td>74.30</td>\n",
       "      <td>74.300003</td>\n",
       "      <td>74.300003</td>\n",
       "      <td>NaN</td>\n",
       "      <td>NaN</td>\n",
       "      <td>kg</td>\n",
       "    </tr>\n",
       "    <tr>\n",
       "      <th>53367</th>\n",
       "      <td>299880</td>\n",
       "      <td>75.70</td>\n",
       "      <td>75.700000</td>\n",
       "      <td>NaN</td>\n",
       "      <td>NaN</td>\n",
       "      <td>NaN</td>\n",
       "      <td>kg</td>\n",
       "    </tr>\n",
       "    <tr>\n",
       "      <th>53370</th>\n",
       "      <td>299883</td>\n",
       "      <td>79.70</td>\n",
       "      <td>79.700000</td>\n",
       "      <td>NaN</td>\n",
       "      <td>NaN</td>\n",
       "      <td>NaN</td>\n",
       "      <td>kg</td>\n",
       "    </tr>\n",
       "    <tr>\n",
       "      <th>53371</th>\n",
       "      <td>299886</td>\n",
       "      <td>100.00</td>\n",
       "      <td>100.000000</td>\n",
       "      <td>NaN</td>\n",
       "      <td>NaN</td>\n",
       "      <td>NaN</td>\n",
       "      <td>kg</td>\n",
       "    </tr>\n",
       "    <tr>\n",
       "      <th>53372</th>\n",
       "      <td>299888</td>\n",
       "      <td>72.00</td>\n",
       "      <td>72.000000</td>\n",
       "      <td>72.000000</td>\n",
       "      <td>NaN</td>\n",
       "      <td>NaN</td>\n",
       "      <td>kg</td>\n",
       "    </tr>\n",
       "    <tr>\n",
       "      <th>53380</th>\n",
       "      <td>299901</td>\n",
       "      <td>68.50</td>\n",
       "      <td>68.500000</td>\n",
       "      <td>NaN</td>\n",
       "      <td>NaN</td>\n",
       "      <td>NaN</td>\n",
       "      <td>kg</td>\n",
       "    </tr>\n",
       "    <tr>\n",
       "      <th>53381</th>\n",
       "      <td>299903</td>\n",
       "      <td>78.00</td>\n",
       "      <td>78.000000</td>\n",
       "      <td>78.000000</td>\n",
       "      <td>NaN</td>\n",
       "      <td>NaN</td>\n",
       "      <td>kg</td>\n",
       "    </tr>\n",
       "    <tr>\n",
       "      <th>53386</th>\n",
       "      <td>299913</td>\n",
       "      <td>NaN</td>\n",
       "      <td>NaN</td>\n",
       "      <td>NaN</td>\n",
       "      <td>NaN</td>\n",
       "      <td>NaN</td>\n",
       "      <td>kg</td>\n",
       "    </tr>\n",
       "    <tr>\n",
       "      <th>53387</th>\n",
       "      <td>299914</td>\n",
       "      <td>113.00</td>\n",
       "      <td>113.000000</td>\n",
       "      <td>NaN</td>\n",
       "      <td>NaN</td>\n",
       "      <td>NaN</td>\n",
       "      <td>kg</td>\n",
       "    </tr>\n",
       "    <tr>\n",
       "      <th>53388</th>\n",
       "      <td>299917</td>\n",
       "      <td>74.90</td>\n",
       "      <td>74.900002</td>\n",
       "      <td>74.900002</td>\n",
       "      <td>NaN</td>\n",
       "      <td>NaN</td>\n",
       "      <td>kg</td>\n",
       "    </tr>\n",
       "    <tr>\n",
       "      <th>53389</th>\n",
       "      <td>299919</td>\n",
       "      <td>73.00</td>\n",
       "      <td>73.000000</td>\n",
       "      <td>72.849998</td>\n",
       "      <td>81.646560</td>\n",
       "      <td>NaN</td>\n",
       "      <td>kg</td>\n",
       "    </tr>\n",
       "    <tr>\n",
       "      <th>53401</th>\n",
       "      <td>299948</td>\n",
       "      <td>68.95</td>\n",
       "      <td>NaN</td>\n",
       "      <td>NaN</td>\n",
       "      <td>68.945984</td>\n",
       "      <td>NaN</td>\n",
       "      <td>kg</td>\n",
       "    </tr>\n",
       "    <tr>\n",
       "      <th>53403</th>\n",
       "      <td>299950</td>\n",
       "      <td>62.10</td>\n",
       "      <td>62.100000</td>\n",
       "      <td>NaN</td>\n",
       "      <td>NaN</td>\n",
       "      <td>NaN</td>\n",
       "      <td>kg</td>\n",
       "    </tr>\n",
       "    <tr>\n",
       "      <th>53406</th>\n",
       "      <td>299955</td>\n",
       "      <td>65.70</td>\n",
       "      <td>65.699997</td>\n",
       "      <td>65.349998</td>\n",
       "      <td>65.770840</td>\n",
       "      <td>72.57472</td>\n",
       "      <td>kg</td>\n",
       "    </tr>\n",
       "    <tr>\n",
       "      <th>53407</th>\n",
       "      <td>299956</td>\n",
       "      <td>116.60</td>\n",
       "      <td>116.600000</td>\n",
       "      <td>NaN</td>\n",
       "      <td>NaN</td>\n",
       "      <td>NaN</td>\n",
       "      <td>kg</td>\n",
       "    </tr>\n",
       "    <tr>\n",
       "      <th>53411</th>\n",
       "      <td>299961</td>\n",
       "      <td>80.00</td>\n",
       "      <td>80.000000</td>\n",
       "      <td>80.000000</td>\n",
       "      <td>NaN</td>\n",
       "      <td>NaN</td>\n",
       "      <td>kg</td>\n",
       "    </tr>\n",
       "    <tr>\n",
       "      <th>53425</th>\n",
       "      <td>299988</td>\n",
       "      <td>90.00</td>\n",
       "      <td>90.000000</td>\n",
       "      <td>NaN</td>\n",
       "      <td>NaN</td>\n",
       "      <td>NaN</td>\n",
       "      <td>kg</td>\n",
       "    </tr>\n",
       "    <tr>\n",
       "      <th>53426</th>\n",
       "      <td>299992</td>\n",
       "      <td>90.00</td>\n",
       "      <td>90.000000</td>\n",
       "      <td>90.000000</td>\n",
       "      <td>NaN</td>\n",
       "      <td>NaN</td>\n",
       "      <td>kg</td>\n",
       "    </tr>\n",
       "    <tr>\n",
       "      <th>53428</th>\n",
       "      <td>299994</td>\n",
       "      <td>72.60</td>\n",
       "      <td>72.599998</td>\n",
       "      <td>72.000000</td>\n",
       "      <td>NaN</td>\n",
       "      <td>NaN</td>\n",
       "      <td>kg</td>\n",
       "    </tr>\n",
       "    <tr>\n",
       "      <th>53429</th>\n",
       "      <td>299995</td>\n",
       "      <td>70.40</td>\n",
       "      <td>70.400002</td>\n",
       "      <td>NaN</td>\n",
       "      <td>NaN</td>\n",
       "      <td>NaN</td>\n",
       "      <td>kg</td>\n",
       "    </tr>\n",
       "  </tbody>\n",
       "</table>\n",
       "<p>14668 rows × 7 columns</p>\n",
       "</div>"
      ],
      "text/plain": [
       "       icustay_id  weight  weight_admit  weight_daily  weight_echoinhosp  \\\n",
       "7          200012   51.20     51.200001     51.200001                NaN   \n",
       "8          200014   62.00     62.000000           NaN                NaN   \n",
       "10         200019   65.00     65.000000           NaN                NaN   \n",
       "16         200030  113.60    113.599998    113.599998                NaN   \n",
       "18         200033   74.00     74.000000           NaN                NaN   \n",
       "21         200036   79.00           NaN     79.000000                NaN   \n",
       "33         200055   56.00     56.000000           NaN                NaN   \n",
       "34         200059   54.00     54.000000     60.000000                NaN   \n",
       "35         200061  250.00    250.000000           NaN                NaN   \n",
       "37         200063     NaN           NaN           NaN                NaN   \n",
       "38         200065  120.00    120.000000           NaN         108.862080   \n",
       "45         200075   58.10     58.100000     58.100000                NaN   \n",
       "47         200078   71.50     71.500000     71.500000          72.574720   \n",
       "52         200091   90.70     90.699997     92.500000                NaN   \n",
       "54         200095     NaN           NaN           NaN                NaN   \n",
       "57         200102  155.00    155.000000           NaN         149.685360   \n",
       "62         200108   74.00     74.000000     74.000000                NaN   \n",
       "64         200112  167.20           NaN    167.199997         167.829040   \n",
       "66         200116  113.40    113.400000           NaN         113.398000   \n",
       "70         200124   46.50     46.500000     72.750000                NaN   \n",
       "72         200126   78.00     78.000000           NaN                NaN   \n",
       "77         200135   59.90     59.900000     59.900000                NaN   \n",
       "78         200136  100.00    100.000000     99.500000                NaN   \n",
       "81         200140   80.00     80.000000           NaN          79.832192   \n",
       "82         200141   70.70     70.700000     85.200000                NaN   \n",
       "83         200143     NaN           NaN           NaN                NaN   \n",
       "86         200150   67.20     67.200000     68.100000                NaN   \n",
       "98         200173     NaN           NaN           NaN                NaN   \n",
       "107        200188     NaN           NaN           NaN                NaN   \n",
       "108        200191   86.20     86.200000           NaN                NaN   \n",
       "...           ...     ...           ...           ...                ...   \n",
       "53330      299806   85.00     85.000000     85.500000                NaN   \n",
       "53332      299811   63.70     63.700000           NaN                NaN   \n",
       "53340      299826   68.80     68.800000           NaN          68.492392   \n",
       "53341      299828     NaN           NaN           NaN                NaN   \n",
       "53342      299832   73.90     73.900000           NaN                NaN   \n",
       "53343      299833     NaN           NaN           NaN                NaN   \n",
       "53345      299840   56.30           NaN     56.299999          50.802304   \n",
       "53351      299852   78.33     78.330002           NaN                NaN   \n",
       "53352      299853   81.00     81.000000     86.000000                NaN   \n",
       "53355      299858   82.30     82.300000           NaN                NaN   \n",
       "53358      299863   74.30     74.300003     74.300003                NaN   \n",
       "53367      299880   75.70     75.700000           NaN                NaN   \n",
       "53370      299883   79.70     79.700000           NaN                NaN   \n",
       "53371      299886  100.00    100.000000           NaN                NaN   \n",
       "53372      299888   72.00     72.000000     72.000000                NaN   \n",
       "53380      299901   68.50     68.500000           NaN                NaN   \n",
       "53381      299903   78.00     78.000000     78.000000                NaN   \n",
       "53386      299913     NaN           NaN           NaN                NaN   \n",
       "53387      299914  113.00    113.000000           NaN                NaN   \n",
       "53388      299917   74.90     74.900002     74.900002                NaN   \n",
       "53389      299919   73.00     73.000000     72.849998          81.646560   \n",
       "53401      299948   68.95           NaN           NaN          68.945984   \n",
       "53403      299950   62.10     62.100000           NaN                NaN   \n",
       "53406      299955   65.70     65.699997     65.349998          65.770840   \n",
       "53407      299956  116.60    116.600000           NaN                NaN   \n",
       "53411      299961   80.00     80.000000     80.000000                NaN   \n",
       "53425      299988   90.00     90.000000           NaN                NaN   \n",
       "53426      299992   90.00     90.000000     90.000000                NaN   \n",
       "53428      299994   72.60     72.599998     72.000000                NaN   \n",
       "53429      299995   70.40     70.400002           NaN                NaN   \n",
       "\n",
       "       weight_echoprehosp uom  \n",
       "7                     NaN  kg  \n",
       "8                     NaN  kg  \n",
       "10                    NaN  kg  \n",
       "16                    NaN  kg  \n",
       "18                    NaN  kg  \n",
       "21                    NaN  kg  \n",
       "33                    NaN  kg  \n",
       "34                    NaN  kg  \n",
       "35                    NaN  kg  \n",
       "37                    NaN  kg  \n",
       "38                    NaN  kg  \n",
       "45                    NaN  kg  \n",
       "47                    NaN  kg  \n",
       "52                    NaN  kg  \n",
       "54                    NaN  kg  \n",
       "57                    NaN  kg  \n",
       "62                    NaN  kg  \n",
       "64                    NaN  kg  \n",
       "66                    NaN  kg  \n",
       "70                    NaN  kg  \n",
       "72                    NaN  kg  \n",
       "77                    NaN  kg  \n",
       "78                    NaN  kg  \n",
       "81                    NaN  kg  \n",
       "82                    NaN  kg  \n",
       "83                    NaN  kg  \n",
       "86               70.30676  kg  \n",
       "98                    NaN  kg  \n",
       "107                   NaN  kg  \n",
       "108                   NaN  kg  \n",
       "...                   ...  ..  \n",
       "53330                 NaN  kg  \n",
       "53332                 NaN  kg  \n",
       "53340                 NaN  kg  \n",
       "53341                 NaN  kg  \n",
       "53342                 NaN  kg  \n",
       "53343                 NaN  kg  \n",
       "53345                 NaN  kg  \n",
       "53351                 NaN  kg  \n",
       "53352                 NaN  kg  \n",
       "53355                 NaN  kg  \n",
       "53358                 NaN  kg  \n",
       "53367                 NaN  kg  \n",
       "53370                 NaN  kg  \n",
       "53371                 NaN  kg  \n",
       "53372                 NaN  kg  \n",
       "53380                 NaN  kg  \n",
       "53381                 NaN  kg  \n",
       "53386                 NaN  kg  \n",
       "53387                 NaN  kg  \n",
       "53388                 NaN  kg  \n",
       "53389                 NaN  kg  \n",
       "53401                 NaN  kg  \n",
       "53403                 NaN  kg  \n",
       "53406            72.57472  kg  \n",
       "53407                 NaN  kg  \n",
       "53411                 NaN  kg  \n",
       "53425                 NaN  kg  \n",
       "53426                 NaN  kg  \n",
       "53428                 NaN  kg  \n",
       "53429                 NaN  kg  \n",
       "\n",
       "[14668 rows x 7 columns]"
      ]
     },
     "execution_count": 106,
     "metadata": {},
     "output_type": "execute_result"
    },
    {
     "name": "stdout",
     "output_type": "stream",
     "text": [
      "time: 25.4 ms\n"
     ]
    }
   ],
   "source": [
    "weightfirstday_df"
   ]
  },
  {
   "cell_type": "code",
   "execution_count": 107,
   "metadata": {},
   "outputs": [
    {
     "name": "stdout",
     "output_type": "stream",
     "text": [
      "time: 112 ms\n"
     ]
    }
   ],
   "source": [
    "pd.DataFrame(weightfirstday_df).to_csv(Path(\n",
    "    wd+'/data/processed/%s_weightfirstday_df.csv' %(date)))"
   ]
  },
  {
   "cell_type": "code",
   "execution_count": 108,
   "metadata": {},
   "outputs": [
    {
     "name": "stdout",
     "output_type": "stream",
     "text": [
      "time: 48.4 ms\n"
     ]
    },
    {
     "name": "stderr",
     "output_type": "stream",
     "text": [
      "/Users/geickelb1/anaconda/envs/rpy-env/lib/python3.6/site-packages/ipykernel_launcher.py:1: SettingWithCopyWarning: \n",
      "A value is trying to be set on a copy of a slice from a DataFrame.\n",
      "Try using .loc[row_indexer,col_indexer] = value instead\n",
      "\n",
      "See the caveats in the documentation: http://pandas.pydata.org/pandas-docs/stable/indexing.html#indexing-view-versus-copy\n",
      "  \"\"\"Entry point for launching an IPython kernel.\n"
     ]
    }
   ],
   "source": [
    "heightfirstday_df['uom']='cm'"
   ]
  },
  {
   "cell_type": "code",
   "execution_count": 109,
   "metadata": {},
   "outputs": [
    {
     "name": "stdout",
     "output_type": "stream",
     "text": [
      "time: 84.4 ms\n"
     ]
    }
   ],
   "source": [
    "pd.DataFrame(heightfirstday_df).to_csv(Path(\n",
    "    wd+'/data/processed/%s_heightfirstday_df.csv' %(date)))"
   ]
  },
  {
   "cell_type": "markdown",
   "metadata": {},
   "source": [
    "# UTI"
   ]
  },
  {
   "cell_type": "code",
   "execution_count": 123,
   "metadata": {},
   "outputs": [
    {
     "name": "stdout",
     "output_type": "stream",
     "text": [
      "time: 104 ms\n"
     ]
    }
   ],
   "source": [
    "uti_all_72_notnull= uti_all_72.loc[uti_all_72.loc[:,'value'].notnull(),:] #has uom attached, but is irrelevant because all null\n",
    "uti_all_72_notnull= uti_all_72_notnull.loc[uti_all_72_notnull.loc[:,'value']!=' ',:]"
   ]
  },
  {
   "cell_type": "code",
   "execution_count": 124,
   "metadata": {},
   "outputs": [
    {
     "data": {
      "text/html": [
       "<div>\n",
       "<style scoped>\n",
       "    .dataframe tbody tr th:only-of-type {\n",
       "        vertical-align: middle;\n",
       "    }\n",
       "\n",
       "    .dataframe tbody tr th {\n",
       "        vertical-align: top;\n",
       "    }\n",
       "\n",
       "    .dataframe thead th {\n",
       "        text-align: right;\n",
       "    }\n",
       "</style>\n",
       "<table border=\"1\" class=\"dataframe\">\n",
       "  <thead>\n",
       "    <tr style=\"text-align: right;\">\n",
       "      <th></th>\n",
       "      <th>subject_id</th>\n",
       "      <th>hadm_id</th>\n",
       "      <th>itemid</th>\n",
       "      <th>charttime</th>\n",
       "      <th>value</th>\n",
       "      <th>valuenum</th>\n",
       "      <th>valueuom</th>\n",
       "      <th>label</th>\n",
       "      <th>fluid</th>\n",
       "      <th>category</th>\n",
       "      <th>loinc_code</th>\n",
       "      <th>icd9_code</th>\n",
       "      <th>t_0</th>\n",
       "      <th>delta</th>\n",
       "    </tr>\n",
       "  </thead>\n",
       "  <tbody>\n",
       "    <tr>\n",
       "      <th>60</th>\n",
       "      <td>36</td>\n",
       "      <td>122659.0</td>\n",
       "      <td>51486</td>\n",
       "      <td>2131-05-21 01:33:00</td>\n",
       "      <td>NEG</td>\n",
       "      <td>NaN</td>\n",
       "      <td>NaN</td>\n",
       "      <td>Leukocytes</td>\n",
       "      <td>Urine</td>\n",
       "      <td>Hematology</td>\n",
       "      <td>5799-2</td>\n",
       "      <td>99831</td>\n",
       "      <td>2131-05-21</td>\n",
       "      <td>0 days 01:33:00.000000000</td>\n",
       "    </tr>\n",
       "    <tr>\n",
       "      <th>61</th>\n",
       "      <td>36</td>\n",
       "      <td>122659.0</td>\n",
       "      <td>51486</td>\n",
       "      <td>2131-05-21 01:33:00</td>\n",
       "      <td>NEG</td>\n",
       "      <td>NaN</td>\n",
       "      <td>NaN</td>\n",
       "      <td>Leukocytes</td>\n",
       "      <td>Urine</td>\n",
       "      <td>Hematology</td>\n",
       "      <td>5799-2</td>\n",
       "      <td>99811</td>\n",
       "      <td>2131-05-21</td>\n",
       "      <td>0 days 01:33:00.000000000</td>\n",
       "    </tr>\n",
       "    <tr>\n",
       "      <th>62</th>\n",
       "      <td>36</td>\n",
       "      <td>122659.0</td>\n",
       "      <td>51486</td>\n",
       "      <td>2131-05-21 01:33:00</td>\n",
       "      <td>NEG</td>\n",
       "      <td>NaN</td>\n",
       "      <td>NaN</td>\n",
       "      <td>Leukocytes</td>\n",
       "      <td>Urine</td>\n",
       "      <td>Hematology</td>\n",
       "      <td>5799-2</td>\n",
       "      <td>41511</td>\n",
       "      <td>2131-05-21</td>\n",
       "      <td>0 days 01:33:00.000000000</td>\n",
       "    </tr>\n",
       "    <tr>\n",
       "      <th>63</th>\n",
       "      <td>36</td>\n",
       "      <td>122659.0</td>\n",
       "      <td>51486</td>\n",
       "      <td>2131-05-21 01:33:00</td>\n",
       "      <td>NEG</td>\n",
       "      <td>NaN</td>\n",
       "      <td>NaN</td>\n",
       "      <td>Leukocytes</td>\n",
       "      <td>Urine</td>\n",
       "      <td>Hematology</td>\n",
       "      <td>5799-2</td>\n",
       "      <td>4538</td>\n",
       "      <td>2131-05-21</td>\n",
       "      <td>0 days 01:33:00.000000000</td>\n",
       "    </tr>\n",
       "    <tr>\n",
       "      <th>64</th>\n",
       "      <td>36</td>\n",
       "      <td>122659.0</td>\n",
       "      <td>51486</td>\n",
       "      <td>2131-05-21 01:33:00</td>\n",
       "      <td>NEG</td>\n",
       "      <td>NaN</td>\n",
       "      <td>NaN</td>\n",
       "      <td>Leukocytes</td>\n",
       "      <td>Urine</td>\n",
       "      <td>Hematology</td>\n",
       "      <td>5799-2</td>\n",
       "      <td>99672</td>\n",
       "      <td>2131-05-21</td>\n",
       "      <td>0 days 01:33:00.000000000</td>\n",
       "    </tr>\n",
       "  </tbody>\n",
       "</table>\n",
       "</div>"
      ],
      "text/plain": [
       "    subject_id   hadm_id  itemid            charttime value  valuenum  \\\n",
       "60          36  122659.0   51486  2131-05-21 01:33:00   NEG       NaN   \n",
       "61          36  122659.0   51486  2131-05-21 01:33:00   NEG       NaN   \n",
       "62          36  122659.0   51486  2131-05-21 01:33:00   NEG       NaN   \n",
       "63          36  122659.0   51486  2131-05-21 01:33:00   NEG       NaN   \n",
       "64          36  122659.0   51486  2131-05-21 01:33:00   NEG       NaN   \n",
       "\n",
       "    valueuom       label  fluid    category loinc_code icd9_code         t_0  \\\n",
       "60       NaN  Leukocytes  Urine  Hematology     5799-2     99831  2131-05-21   \n",
       "61       NaN  Leukocytes  Urine  Hematology     5799-2     99811  2131-05-21   \n",
       "62       NaN  Leukocytes  Urine  Hematology     5799-2     41511  2131-05-21   \n",
       "63       NaN  Leukocytes  Urine  Hematology     5799-2      4538  2131-05-21   \n",
       "64       NaN  Leukocytes  Urine  Hematology     5799-2     99672  2131-05-21   \n",
       "\n",
       "                        delta  \n",
       "60  0 days 01:33:00.000000000  \n",
       "61  0 days 01:33:00.000000000  \n",
       "62  0 days 01:33:00.000000000  \n",
       "63  0 days 01:33:00.000000000  \n",
       "64  0 days 01:33:00.000000000  "
      ]
     },
     "execution_count": 124,
     "metadata": {},
     "output_type": "execute_result"
    },
    {
     "name": "stdout",
     "output_type": "stream",
     "text": [
      "time: 16 ms\n"
     ]
    }
   ],
   "source": [
    "uti_all_72_notnull.head()"
   ]
  },
  {
   "cell_type": "code",
   "execution_count": 125,
   "metadata": {},
   "outputs": [
    {
     "data": {
      "text/plain": [
       "array(['Leukocytes', 'Nitrite'], dtype=object)"
      ]
     },
     "execution_count": 125,
     "metadata": {},
     "output_type": "execute_result"
    },
    {
     "name": "stdout",
     "output_type": "stream",
     "text": [
      "time: 7.64 ms\n"
     ]
    }
   ],
   "source": [
    "uti_all_72_notnull['label'].unique()"
   ]
  },
  {
   "cell_type": "code",
   "execution_count": 126,
   "metadata": {},
   "outputs": [
    {
     "data": {
      "text/plain": [
       "array(['Hematology'], dtype=object)"
      ]
     },
     "execution_count": 126,
     "metadata": {},
     "output_type": "execute_result"
    },
    {
     "name": "stdout",
     "output_type": "stream",
     "text": [
      "time: 8.77 ms\n"
     ]
    }
   ],
   "source": [
    "uti_all_72_notnull['category'].unique()"
   ]
  },
  {
   "cell_type": "code",
   "execution_count": 128,
   "metadata": {},
   "outputs": [
    {
     "data": {
      "text/plain": [
       "array(['NEG', 'MOD', 'TR', 'POS', 'SM', 'LG', 'SMALL'], dtype=object)"
      ]
     },
     "execution_count": 128,
     "metadata": {},
     "output_type": "execute_result"
    },
    {
     "name": "stdout",
     "output_type": "stream",
     "text": [
      "time: 6.84 ms\n"
     ]
    }
   ],
   "source": [
    "uti_all_72_notnull['value'].unique()#seems good"
   ]
  },
  {
   "cell_type": "code",
   "execution_count": 129,
   "metadata": {},
   "outputs": [
    {
     "name": "stdout",
     "output_type": "stream",
     "text": [
      "time: 1.87 s\n"
     ]
    }
   ],
   "source": [
    "pd.DataFrame(uti_all_72_notnull).to_csv(Path(\n",
    "    wd+'/data/processed/%s_uti_all_72_notnull.csv' %(date)))"
   ]
  },
  {
   "cell_type": "code",
   "execution_count": null,
   "metadata": {},
   "outputs": [],
   "source": []
  },
  {
   "cell_type": "markdown",
   "metadata": {},
   "source": [
    "# bloodgas"
   ]
  },
  {
   "cell_type": "code",
   "execution_count": null,
   "metadata": {},
   "outputs": [],
   "source": [
    "bg_all_nosummary_72= bg_all_nosummary_72.loc[bg_all_nosummary_72['value'].notnull(),:]\n",
    "bg_all_nosummary_72 = bg_all_nosummary_72.rename(index=str, columns={'valueuom':'uom'})\n",
    "bg_all_nosummary_72= bg_all_nosummary_72.loc[~(bg_all_nosummary_72.loc[:,'value']=='.'),:] #removing value= ' .'\n",
    "\n",
    "#may need to remove outliers, haven't done as of 10/22/18\n",
    "bg_all_nosummary_72.head()"
   ]
  },
  {
   "cell_type": "code",
   "execution_count": 130,
   "metadata": {},
   "outputs": [
    {
     "name": "stdout",
     "output_type": "stream",
     "text": [
      "time: 5.63 s\n"
     ]
    }
   ],
   "source": [
    "pd.DataFrame(bg_all_nosummary_72).to_csv(Path(\n",
    "    wd+'/data/processed/%s_bg_all_nosummary_72.csv' %(date)))"
   ]
  },
  {
   "cell_type": "code",
   "execution_count": null,
   "metadata": {},
   "outputs": [],
   "source": [
    "#may need to "
   ]
  },
  {
   "cell_type": "markdown",
   "metadata": {},
   "source": [
    "# RRT"
   ]
  },
  {
   "cell_type": "code",
   "execution_count": 132,
   "metadata": {},
   "outputs": [
    {
     "name": "stderr",
     "output_type": "stream",
     "text": [
      "/Users/geickelb1/anaconda/envs/rpy-env/lib/python3.6/site-packages/ipykernel_launcher.py:2: SettingWithCopyWarning: \n",
      "A value is trying to be set on a copy of a slice from a DataFrame.\n",
      "Try using .loc[row_indexer,col_indexer] = value instead\n",
      "\n",
      "See the caveats in the documentation: http://pandas.pydata.org/pandas-docs/stable/indexing.html#indexing-view-versus-copy\n",
      "  \n"
     ]
    },
    {
     "data": {
      "text/html": [
       "<div>\n",
       "<style scoped>\n",
       "    .dataframe tbody tr th:only-of-type {\n",
       "        vertical-align: middle;\n",
       "    }\n",
       "\n",
       "    .dataframe tbody tr th {\n",
       "        vertical-align: top;\n",
       "    }\n",
       "\n",
       "    .dataframe thead th {\n",
       "        text-align: right;\n",
       "    }\n",
       "</style>\n",
       "<table border=\"1\" class=\"dataframe\">\n",
       "  <thead>\n",
       "    <tr style=\"text-align: right;\">\n",
       "      <th></th>\n",
       "      <th>icustay_id</th>\n",
       "      <th>t_0</th>\n",
       "      <th>first_charttime</th>\n",
       "      <th>rrt</th>\n",
       "      <th>uom</th>\n",
       "    </tr>\n",
       "  </thead>\n",
       "  <tbody>\n",
       "    <tr>\n",
       "      <th>7</th>\n",
       "      <td>252135.0</td>\n",
       "      <td>2166-04-13</td>\n",
       "      <td>2166-04-13 00:00:00</td>\n",
       "      <td>1.0</td>\n",
       "      <td>category</td>\n",
       "    </tr>\n",
       "    <tr>\n",
       "      <th>8</th>\n",
       "      <td>293255.0</td>\n",
       "      <td>2167-10-21</td>\n",
       "      <td>2167-10-21 04:31:00</td>\n",
       "      <td>1.0</td>\n",
       "      <td>category</td>\n",
       "    </tr>\n",
       "    <tr>\n",
       "      <th>9</th>\n",
       "      <td>261279.0</td>\n",
       "      <td>2167-10-26</td>\n",
       "      <td>2167-10-26 01:00:00</td>\n",
       "      <td>1.0</td>\n",
       "      <td>category</td>\n",
       "    </tr>\n",
       "    <tr>\n",
       "      <th>20</th>\n",
       "      <td>251526.0</td>\n",
       "      <td>2129-12-20</td>\n",
       "      <td>2129-12-20 09:32:00</td>\n",
       "      <td>1.0</td>\n",
       "      <td>category</td>\n",
       "    </tr>\n",
       "    <tr>\n",
       "      <th>31</th>\n",
       "      <td>255314.0</td>\n",
       "      <td>2181-10-11</td>\n",
       "      <td>2181-10-11 01:00:00</td>\n",
       "      <td>1.0</td>\n",
       "      <td>category</td>\n",
       "    </tr>\n",
       "  </tbody>\n",
       "</table>\n",
       "</div>"
      ],
      "text/plain": [
       "    icustay_id         t_0      first_charttime  rrt       uom\n",
       "7     252135.0  2166-04-13  2166-04-13 00:00:00  1.0  category\n",
       "8     293255.0  2167-10-21  2167-10-21 04:31:00  1.0  category\n",
       "9     261279.0  2167-10-26  2167-10-26 01:00:00  1.0  category\n",
       "20    251526.0  2129-12-20  2129-12-20 09:32:00  1.0  category\n",
       "31    255314.0  2181-10-11  2181-10-11 01:00:00  1.0  category"
      ]
     },
     "execution_count": 132,
     "metadata": {},
     "output_type": "execute_result"
    },
    {
     "name": "stdout",
     "output_type": "stream",
     "text": [
      "time: 390 ms\n"
     ]
    }
   ],
   "source": [
    "rrt_merged_allpt_df_notnull = rrt_merged_allpt_df.loc[rrt_merged_allpt_df['rrt'].notnull(),:]\n",
    "rrt_merged_allpt_df_notnull['uom']='category'\n",
    "rrt_merged_allpt_df_notnull.head()"
   ]
  },
  {
   "cell_type": "code",
   "execution_count": 133,
   "metadata": {},
   "outputs": [
    {
     "name": "stdout",
     "output_type": "stream",
     "text": [
      "time: 9.56 ms\n"
     ]
    }
   ],
   "source": [
    "pd.DataFrame(rrt_merged_allpt_df_notnull).to_csv(Path(\n",
    "    wd+'/data/processed/%s_rrt_merged_allpt_df_notnull.csv' %(date)))"
   ]
  },
  {
   "cell_type": "code",
   "execution_count": null,
   "metadata": {},
   "outputs": [],
   "source": []
  },
  {
   "cell_type": "code",
   "execution_count": null,
   "metadata": {},
   "outputs": [],
   "source": []
  },
  {
   "cell_type": "markdown",
   "metadata": {},
   "source": [
    "# GCS_72"
   ]
  },
  {
   "cell_type": "code",
   "execution_count": 136,
   "metadata": {},
   "outputs": [
    {
     "name": "stdout",
     "output_type": "stream",
     "text": [
      "time: 48.7 ms\n"
     ]
    },
    {
     "name": "stderr",
     "output_type": "stream",
     "text": [
      "/Users/geickelb1/anaconda/envs/rpy-env/lib/python3.6/site-packages/ipykernel_launcher.py:1: SettingWithCopyWarning: \n",
      "A value is trying to be set on a copy of a slice from a DataFrame.\n",
      "Try using .loc[row_indexer,col_indexer] = value instead\n",
      "\n",
      "See the caveats in the documentation: http://pandas.pydata.org/pandas-docs/stable/indexing.html#indexing-view-versus-copy\n",
      "  \"\"\"Entry point for launching an IPython kernel.\n"
     ]
    }
   ],
   "source": [
    "gcs72_df['uom']='GCS_score'"
   ]
  },
  {
   "cell_type": "code",
   "execution_count": 137,
   "metadata": {},
   "outputs": [
    {
     "name": "stdout",
     "output_type": "stream",
     "text": [
      "time: 148 ms\n"
     ]
    }
   ],
   "source": [
    "pd.DataFrame(gcs72_df).to_csv(Path(\n",
    "    wd+'/data/processed/%s_gcs72_df.csv' %(date)))"
   ]
  },
  {
   "cell_type": "code",
   "execution_count": null,
   "metadata": {},
   "outputs": [],
   "source": []
  },
  {
   "cell_type": "code",
   "execution_count": null,
   "metadata": {},
   "outputs": [],
   "source": []
  },
  {
   "cell_type": "markdown",
   "metadata": {},
   "source": [
    "# SOFA_72\n",
    "i'm going to remove all sofa variables except daily score, as we have other markers for those in our above data\n",
    "i may later use this as qc check."
   ]
  },
  {
   "cell_type": "code",
   "execution_count": 140,
   "metadata": {},
   "outputs": [
    {
     "name": "stdout",
     "output_type": "stream",
     "text": [
      "time: 6.81 ms\n"
     ]
    }
   ],
   "source": [
    "sofa_score_72= sofa_df_72[['subject_id','hadm_id','icustay_id','day','sofa','t_0']]"
   ]
  },
  {
   "cell_type": "code",
   "execution_count": 142,
   "metadata": {},
   "outputs": [
    {
     "name": "stdout",
     "output_type": "stream",
     "text": [
      "time: 58.3 ms\n"
     ]
    },
    {
     "name": "stderr",
     "output_type": "stream",
     "text": [
      "/Users/geickelb1/anaconda/envs/rpy-env/lib/python3.6/site-packages/ipykernel_launcher.py:1: SettingWithCopyWarning: \n",
      "A value is trying to be set on a copy of a slice from a DataFrame.\n",
      "Try using .loc[row_indexer,col_indexer] = value instead\n",
      "\n",
      "See the caveats in the documentation: http://pandas.pydata.org/pandas-docs/stable/indexing.html#indexing-view-versus-copy\n",
      "  \"\"\"Entry point for launching an IPython kernel.\n"
     ]
    }
   ],
   "source": [
    "sofa_score_72['uom']='daily_sofa_score'"
   ]
  },
  {
   "cell_type": "code",
   "execution_count": 143,
   "metadata": {},
   "outputs": [
    {
     "name": "stdout",
     "output_type": "stream",
     "text": [
      "time: 220 ms\n"
     ]
    }
   ],
   "source": [
    "pd.DataFrame(sofa_score_72).to_csv(Path(\n",
    "    wd+'/data/processed/%s_sofa_score_72.csv' %(date)))"
   ]
  },
  {
   "cell_type": "code",
   "execution_count": null,
   "metadata": {},
   "outputs": [],
   "source": []
  },
  {
   "cell_type": "markdown",
   "metadata": {},
   "source": [
    "# echo data"
   ]
  },
  {
   "cell_type": "code",
   "execution_count": 146,
   "metadata": {},
   "outputs": [
    {
     "data": {
      "text/html": [
       "<div>\n",
       "<style scoped>\n",
       "    .dataframe tbody tr th:only-of-type {\n",
       "        vertical-align: middle;\n",
       "    }\n",
       "\n",
       "    .dataframe tbody tr th {\n",
       "        vertical-align: top;\n",
       "    }\n",
       "\n",
       "    .dataframe thead th {\n",
       "        text-align: right;\n",
       "    }\n",
       "</style>\n",
       "<table border=\"1\" class=\"dataframe\">\n",
       "  <thead>\n",
       "    <tr style=\"text-align: right;\">\n",
       "      <th></th>\n",
       "      <th>row_id</th>\n",
       "      <th>subject_id</th>\n",
       "      <th>hadm_id</th>\n",
       "      <th>chartdate</th>\n",
       "      <th>charttime</th>\n",
       "      <th>indication</th>\n",
       "      <th>height</th>\n",
       "      <th>weight</th>\n",
       "      <th>bsa</th>\n",
       "      <th>bp</th>\n",
       "      <th>bpsys</th>\n",
       "      <th>bpdias</th>\n",
       "      <th>hr</th>\n",
       "      <th>status</th>\n",
       "      <th>test</th>\n",
       "      <th>doppler</th>\n",
       "      <th>contrast</th>\n",
       "      <th>technicalquality</th>\n",
       "      <th>t_0</th>\n",
       "      <th>delta</th>\n",
       "    </tr>\n",
       "  </thead>\n",
       "  <tbody>\n",
       "    <tr>\n",
       "      <th>0</th>\n",
       "      <td>59653</td>\n",
       "      <td>31038</td>\n",
       "      <td>174978.0</td>\n",
       "      <td>2102-06-14 00:00:00</td>\n",
       "      <td>2102-06-14 13:30:00</td>\n",
       "      <td>Endocarditis.</td>\n",
       "      <td>74.0</td>\n",
       "      <td>165.0</td>\n",
       "      <td>2.00</td>\n",
       "      <td>102/72</td>\n",
       "      <td>102.0</td>\n",
       "      <td>72.0</td>\n",
       "      <td>86.0</td>\n",
       "      <td>Inpatient</td>\n",
       "      <td>Portable TTE (Complete)</td>\n",
       "      <td>Full Doppler and color Doppler</td>\n",
       "      <td>None</td>\n",
       "      <td>Adequate</td>\n",
       "      <td>2102-06-13</td>\n",
       "      <td>1 days 13:30:00.000000000</td>\n",
       "    </tr>\n",
       "    <tr>\n",
       "      <th>1</th>\n",
       "      <td>59654</td>\n",
       "      <td>70150</td>\n",
       "      <td>156140.0</td>\n",
       "      <td>2191-05-10 00:00:00</td>\n",
       "      <td>2191-05-10 15:08:00</td>\n",
       "      <td>CHF, A-FIB</td>\n",
       "      <td>66.0</td>\n",
       "      <td>263.0</td>\n",
       "      <td>2.25</td>\n",
       "      <td>107/81</td>\n",
       "      <td>107.0</td>\n",
       "      <td>81.0</td>\n",
       "      <td>95.0</td>\n",
       "      <td>Outpatient</td>\n",
       "      <td>TTE (Complete)</td>\n",
       "      <td>Full Doppler and color Doppler</td>\n",
       "      <td>None</td>\n",
       "      <td>Suboptimal</td>\n",
       "      <td>2191-05-10</td>\n",
       "      <td>0 days 15:08:00.000000000</td>\n",
       "    </tr>\n",
       "    <tr>\n",
       "      <th>2</th>\n",
       "      <td>59655</td>\n",
       "      <td>54190</td>\n",
       "      <td>188571.0</td>\n",
       "      <td>2158-02-16 00:00:00</td>\n",
       "      <td>2158-02-16 13:48:00</td>\n",
       "      <td>Cerebrovascular event/TIA. Streptococcal bacte...</td>\n",
       "      <td>72.0</td>\n",
       "      <td>187.0</td>\n",
       "      <td>2.07</td>\n",
       "      <td>147/87</td>\n",
       "      <td>147.0</td>\n",
       "      <td>87.0</td>\n",
       "      <td>90.0</td>\n",
       "      <td>Inpatient</td>\n",
       "      <td>Portable TEE (Complete)</td>\n",
       "      <td>Full Doppler and color Doppler</td>\n",
       "      <td>None</td>\n",
       "      <td>Adequate</td>\n",
       "      <td>2158-02-15</td>\n",
       "      <td>1 days 13:48:00.000000000</td>\n",
       "    </tr>\n",
       "    <tr>\n",
       "      <th>3</th>\n",
       "      <td>59657</td>\n",
       "      <td>80030</td>\n",
       "      <td>100442.0</td>\n",
       "      <td>2119-06-07 00:00:00</td>\n",
       "      <td>2119-06-07 14:59:00</td>\n",
       "      <td>Left ventricular function.</td>\n",
       "      <td>63.0</td>\n",
       "      <td>126.0</td>\n",
       "      <td>1.59</td>\n",
       "      <td>88/53</td>\n",
       "      <td>88.0</td>\n",
       "      <td>53.0</td>\n",
       "      <td>115.0</td>\n",
       "      <td>Inpatient</td>\n",
       "      <td>Portable TTE (Complete)</td>\n",
       "      <td>Full Doppler and color Doppler</td>\n",
       "      <td>None</td>\n",
       "      <td>Adequate</td>\n",
       "      <td>2119-06-07</td>\n",
       "      <td>0 days 14:59:00.000000000</td>\n",
       "    </tr>\n",
       "    <tr>\n",
       "      <th>4</th>\n",
       "      <td>59659</td>\n",
       "      <td>82208</td>\n",
       "      <td>188268.0</td>\n",
       "      <td>2200-10-22 00:00:00</td>\n",
       "      <td>2200-10-22 15:14:00</td>\n",
       "      <td>Acute MR worsening,ESRD, on HD, NSLS lung Ca, ...</td>\n",
       "      <td>59.0</td>\n",
       "      <td>136.0</td>\n",
       "      <td>1.57</td>\n",
       "      <td>126/61</td>\n",
       "      <td>126.0</td>\n",
       "      <td>61.0</td>\n",
       "      <td>95.0</td>\n",
       "      <td>Inpatient</td>\n",
       "      <td>Portable TTE (Complete)</td>\n",
       "      <td>Full Doppler and color Doppler</td>\n",
       "      <td>None</td>\n",
       "      <td>Adequate</td>\n",
       "      <td>2200-10-22</td>\n",
       "      <td>0 days 15:14:00.000000000</td>\n",
       "    </tr>\n",
       "  </tbody>\n",
       "</table>\n",
       "</div>"
      ],
      "text/plain": [
       "   row_id  subject_id   hadm_id            chartdate            charttime  \\\n",
       "0   59653       31038  174978.0  2102-06-14 00:00:00  2102-06-14 13:30:00   \n",
       "1   59654       70150  156140.0  2191-05-10 00:00:00  2191-05-10 15:08:00   \n",
       "2   59655       54190  188571.0  2158-02-16 00:00:00  2158-02-16 13:48:00   \n",
       "3   59657       80030  100442.0  2119-06-07 00:00:00  2119-06-07 14:59:00   \n",
       "4   59659       82208  188268.0  2200-10-22 00:00:00  2200-10-22 15:14:00   \n",
       "\n",
       "                                          indication  height  weight   bsa  \\\n",
       "0                                      Endocarditis.    74.0   165.0  2.00   \n",
       "1                                         CHF, A-FIB    66.0   263.0  2.25   \n",
       "2  Cerebrovascular event/TIA. Streptococcal bacte...    72.0   187.0  2.07   \n",
       "3                         Left ventricular function.    63.0   126.0  1.59   \n",
       "4  Acute MR worsening,ESRD, on HD, NSLS lung Ca, ...    59.0   136.0  1.57   \n",
       "\n",
       "       bp  bpsys  bpdias     hr      status                     test  \\\n",
       "0  102/72  102.0    72.0   86.0   Inpatient  Portable TTE (Complete)   \n",
       "1  107/81  107.0    81.0   95.0  Outpatient           TTE (Complete)   \n",
       "2  147/87  147.0    87.0   90.0   Inpatient  Portable TEE (Complete)   \n",
       "3   88/53   88.0    53.0  115.0   Inpatient  Portable TTE (Complete)   \n",
       "4  126/61  126.0    61.0   95.0   Inpatient  Portable TTE (Complete)   \n",
       "\n",
       "                          doppler contrast technicalquality         t_0  \\\n",
       "0  Full Doppler and color Doppler     None         Adequate  2102-06-13   \n",
       "1  Full Doppler and color Doppler     None       Suboptimal  2191-05-10   \n",
       "2  Full Doppler and color Doppler     None         Adequate  2158-02-15   \n",
       "3  Full Doppler and color Doppler     None         Adequate  2119-06-07   \n",
       "4  Full Doppler and color Doppler     None         Adequate  2200-10-22   \n",
       "\n",
       "                       delta  \n",
       "0  1 days 13:30:00.000000000  \n",
       "1  0 days 15:08:00.000000000  \n",
       "2  1 days 13:48:00.000000000  \n",
       "3  0 days 14:59:00.000000000  \n",
       "4  0 days 15:14:00.000000000  "
      ]
     },
     "execution_count": 146,
     "metadata": {},
     "output_type": "execute_result"
    },
    {
     "name": "stdout",
     "output_type": "stream",
     "text": [
      "time: 24.2 ms\n"
     ]
    }
   ],
   "source": [
    "echodata_72.head()"
   ]
  },
  {
   "cell_type": "code",
   "execution_count": 147,
   "metadata": {},
   "outputs": [
    {
     "data": {
      "text/html": [
       "<div>\n",
       "<style scoped>\n",
       "    .dataframe tbody tr th:only-of-type {\n",
       "        vertical-align: middle;\n",
       "    }\n",
       "\n",
       "    .dataframe tbody tr th {\n",
       "        vertical-align: top;\n",
       "    }\n",
       "\n",
       "    .dataframe thead th {\n",
       "        text-align: right;\n",
       "    }\n",
       "</style>\n",
       "<table border=\"1\" class=\"dataframe\">\n",
       "  <thead>\n",
       "    <tr style=\"text-align: right;\">\n",
       "      <th></th>\n",
       "      <th>bp</th>\n",
       "      <th>bpdias</th>\n",
       "      <th>bpsys</th>\n",
       "      <th>bsa</th>\n",
       "      <th>hr</th>\n",
       "      <th>test</th>\n",
       "    </tr>\n",
       "  </thead>\n",
       "  <tbody>\n",
       "    <tr>\n",
       "      <th>0</th>\n",
       "      <td>506</td>\n",
       "      <td>518</td>\n",
       "      <td>518</td>\n",
       "      <td>1088</td>\n",
       "      <td>700</td>\n",
       "      <td>0</td>\n",
       "    </tr>\n",
       "  </tbody>\n",
       "</table>\n",
       "</div>"
      ],
      "text/plain": [
       "    bp  bpdias  bpsys   bsa   hr  test\n",
       "0  506     518    518  1088  700     0"
      ]
     },
     "execution_count": 147,
     "metadata": {},
     "output_type": "execute_result"
    },
    {
     "name": "stdout",
     "output_type": "stream",
     "text": [
      "time: 68.7 ms\n"
     ]
    }
   ],
   "source": [
    "#null values:\n",
    "pd.DataFrame(\n",
    "    {\n",
    "    'bsa':[echodata_72.loc[echodata_72['bsa'].isna(),'hadm_id'].count()], \n",
    "    'bp': [echodata_72.loc[echodata_72['bp'].isna(),'hadm_id'].count()], \n",
    "    'bpsys': [echodata_72.loc[echodata_72['bpsys'].isna(),'hadm_id'].count()], \n",
    "    'bpdias': [echodata_72.loc[echodata_72['bpdias'].isna(),'hadm_id'].count()],\n",
    "    'hr': [echodata_72.loc[echodata_72['hr'].isna(),'hadm_id'].count()],\n",
    "    'test': [echodata_72.loc[echodata_72['test'].isna(),'hadm_id'].count()]\n",
    "             }\n",
    "            )"
   ]
  },
  {
   "cell_type": "code",
   "execution_count": 148,
   "metadata": {},
   "outputs": [
    {
     "data": {
      "text/html": [
       "<div>\n",
       "<style scoped>\n",
       "    .dataframe tbody tr th:only-of-type {\n",
       "        vertical-align: middle;\n",
       "    }\n",
       "\n",
       "    .dataframe tbody tr th {\n",
       "        vertical-align: top;\n",
       "    }\n",
       "\n",
       "    .dataframe thead th {\n",
       "        text-align: right;\n",
       "    }\n",
       "</style>\n",
       "<table border=\"1\" class=\"dataframe\">\n",
       "  <thead>\n",
       "    <tr style=\"text-align: right;\">\n",
       "      <th></th>\n",
       "      <th>bp</th>\n",
       "      <th>bpdias</th>\n",
       "      <th>bpsys</th>\n",
       "      <th>bsa</th>\n",
       "      <th>hr</th>\n",
       "      <th>test</th>\n",
       "    </tr>\n",
       "  </thead>\n",
       "  <tbody>\n",
       "    <tr>\n",
       "      <th>0</th>\n",
       "      <td>5438</td>\n",
       "      <td>5426</td>\n",
       "      <td>5426</td>\n",
       "      <td>4856</td>\n",
       "      <td>5244</td>\n",
       "      <td>5944</td>\n",
       "    </tr>\n",
       "  </tbody>\n",
       "</table>\n",
       "</div>"
      ],
      "text/plain": [
       "     bp  bpdias  bpsys   bsa    hr  test\n",
       "0  5438    5426   5426  4856  5244  5944"
      ]
     },
     "execution_count": 148,
     "metadata": {},
     "output_type": "execute_result"
    },
    {
     "name": "stdout",
     "output_type": "stream",
     "text": [
      "time: 20.4 ms\n"
     ]
    }
   ],
   "source": [
    "pd.DataFrame(\n",
    "    {\n",
    "    'bsa':[echodata_72.loc[echodata_72['bsa'].notna(),'hadm_id'].count()], \n",
    "    'bp': [echodata_72.loc[echodata_72['bp'].notna(),'hadm_id'].count()], \n",
    "    'bpsys': [echodata_72.loc[echodata_72['bpsys'].notna(),'hadm_id'].count()], \n",
    "    'bpdias': [echodata_72.loc[echodata_72['bpdias'].notna(),'hadm_id'].count()],\n",
    "    'hr': [echodata_72.loc[echodata_72['hr'].notna(),'hadm_id'].count()],\n",
    "    'test': [echodata_72.loc[echodata_72['test'].notna(),'hadm_id'].count()]\n",
    "             }\n",
    "            )"
   ]
  },
  {
   "cell_type": "code",
   "execution_count": 150,
   "metadata": {},
   "outputs": [
    {
     "name": "stdout",
     "output_type": "stream",
     "text": [
      "time: 284 ms\n"
     ]
    },
    {
     "name": "stderr",
     "output_type": "stream",
     "text": [
      "/Users/geickelb1/anaconda/envs/rpy-env/lib/python3.6/site-packages/pandas/core/indexing.py:537: SettingWithCopyWarning: \n",
      "A value is trying to be set on a copy of a slice from a DataFrame.\n",
      "Try using .loc[row_indexer,col_indexer] = value instead\n",
      "\n",
      "See the caveats in the documentation: http://pandas.pydata.org/pandas-docs/stable/indexing.html#indexing-view-versus-copy\n",
      "  self.obj[item] = s\n"
     ]
    }
   ],
   "source": [
    "echodata_72.loc[echodata_72.loc[:,'doppler']=='No doppler','doppler']='No Doppler'\n",
    "echodata_72.loc[echodata_72.loc[:,'doppler']=='Color doppler only','doppler']='Color Doppler only'\n",
    "echodata_72.loc[echodata_72.loc[:,'doppler']=='Full doppler and color doppler','doppler']='Full Doppler and color Doppler'\n",
    "echodata_72.loc[echodata_72.loc[:,'doppler']=='Limited doppler and no color doppler','doppler']='Limited Doppler and no color Doppler'\n",
    "echodata_72.loc[echodata_72.loc[:,'doppler']=='Limited doppler and color doppler','doppler']='Limited Doppler and color Doppler'\n",
    "\n",
    "echodata_72['doppler'].unique()"
   ]
  },
  {
   "cell_type": "code",
   "execution_count": 152,
   "metadata": {},
   "outputs": [
    {
     "data": {
      "text/plain": [
       "array(['Full Doppler and color Doppler', 'Complete pulse and color flow',\n",
       "       'Limited Doppler and color Doppler',\n",
       "       'Limited Doppler and no color Doppler', 'Color Doppler only',\n",
       "       'Focused pulse and color flow', 'No Doppler'], dtype=object)"
      ]
     },
     "execution_count": 152,
     "metadata": {},
     "output_type": "execute_result"
    },
    {
     "name": "stdout",
     "output_type": "stream",
     "text": [
      "time: 4.38 ms\n"
     ]
    }
   ],
   "source": [
    "echodata_72['doppler'].unique()"
   ]
  },
  {
   "cell_type": "code",
   "execution_count": 155,
   "metadata": {},
   "outputs": [
    {
     "data": {
      "text/plain": [
       "Full Doppler and color Doppler          4716\n",
       "Complete pulse and color flow            478\n",
       "Limited Doppler and color Doppler        445\n",
       "No Doppler                               125\n",
       "Focused pulse and color flow              66\n",
       "Limited Doppler and no color Doppler      62\n",
       "Color Doppler only                        52\n",
       "Name: doppler, dtype: int64"
      ]
     },
     "execution_count": 155,
     "metadata": {},
     "output_type": "execute_result"
    },
    {
     "name": "stdout",
     "output_type": "stream",
     "text": [
      "time: 4.73 ms\n"
     ]
    }
   ],
   "source": [
    "echodata_72['doppler'].value_counts()"
   ]
  },
  {
   "cell_type": "code",
   "execution_count": 158,
   "metadata": {},
   "outputs": [
    {
     "name": "stdout",
     "output_type": "stream",
     "text": [
      "time: 3.42 ms\n"
     ]
    }
   ],
   "source": [
    "echodata_72_df= echodata_72[['subject_id','hadm_id','charttime','bsa','bp','bpsys','bpdias','test','doppler']]"
   ]
  },
  {
   "cell_type": "code",
   "execution_count": 159,
   "metadata": {},
   "outputs": [
    {
     "name": "stdout",
     "output_type": "stream",
     "text": [
      "time: 58.8 ms\n"
     ]
    }
   ],
   "source": [
    "pd.DataFrame(echodata_72_df).to_csv(Path(\n",
    "    wd+'/data/processed/%s_echodata_72_df.csv' %(date)))"
   ]
  },
  {
   "cell_type": "code",
   "execution_count": null,
   "metadata": {},
   "outputs": [],
   "source": []
  }
 ],
 "metadata": {
  "kernelspec": {
   "display_name": "Python 3",
   "language": "python",
   "name": "python3"
  },
  "language_info": {
   "codemirror_mode": {
    "name": "ipython",
    "version": 3
   },
   "file_extension": ".py",
   "mimetype": "text/x-python",
   "name": "python",
   "nbconvert_exporter": "python",
   "pygments_lexer": "ipython3",
   "version": "3.6.4"
  }
 },
 "nbformat": 4,
 "nbformat_minor": 2
}
