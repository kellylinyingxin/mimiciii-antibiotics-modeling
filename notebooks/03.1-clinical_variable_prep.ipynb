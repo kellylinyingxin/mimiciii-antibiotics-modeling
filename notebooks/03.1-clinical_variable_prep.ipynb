{
 "cells": [
  {
   "cell_type": "code",
   "execution_count": 6,
   "metadata": {},
   "outputs": [],
   "source": [
    "import pandas as pd\n",
    "import matplotlib.pyplot as plt\n",
    "import os\n",
    "from pathlib import Path\n",
    "import seaborn as sns\n",
    "import numpy as np\n",
    "\n",
    "from sklearn.externals.joblib import Memory\n",
    "memory = Memory(cachedir='/tmp', verbose=0)\n",
    "#@memory.cache above any def fxn.\n",
    "\n",
    "%matplotlib inline\n",
    "plt.style.use('ggplot')\n",
    "\n",
    "from notebook.services.config import ConfigManager\n",
    "cm = ConfigManager()\n",
    "cm.update('livereveal', {\n",
    "        'width': 1024,\n",
    "        'height': 768,\n",
    "        'scroll': True,\n",
    "})\n",
    "\n",
    "%load_ext autotime\n",
    "%reload_ext autotime"
   ]
  },
  {
   "cell_type": "code",
   "execution_count": 7,
   "metadata": {},
   "outputs": [
    {
     "name": "stdout",
     "output_type": "stream",
     "text": [
      "time: 94.6 ms\n"
     ]
    }
   ],
   "source": [
    "#cohort import\n",
    "\n",
    "os.chdir('/Users/geickelb1/Documents/GitHub/mimiciii-antibiotics-modeling') #use to change working directory\n",
    "wd= os.getcwd() #'/Users/geickelb1/Documents/GitHub/mimiciii-antibiotics-modeling'\n",
    "\n",
    "\n",
    "final_pt_df2 = pd.read_csv(Path(wd + '/data/raw/csv/01102018_final_pt_df2_v.csv') , index_col=0) #only for patients with minimum vitals\n",
    "patients= list(final_pt_df2['subject_id'].unique())\n",
    "hadm_id= list(final_pt_df2['hadm_id'].unique())\n",
    "icustay_id= list(final_pt_df2['icustay_id'].unique())\n",
    "icustay_id= [int(x) for x in icustay_id]"
   ]
  },
  {
   "cell_type": "code",
   "execution_count": 95,
   "metadata": {},
   "outputs": [
    {
     "name": "stderr",
     "output_type": "stream",
     "text": [
      "/Users/geickelb1/anaconda/envs/rpy-env/lib/python3.6/site-packages/psycopg2/__init__.py:144: UserWarning: The psycopg2 wheel package will be renamed from release 2.8; in order to keep installing from binary please use \"pip install psycopg2-binary\" instead. For details see: <http://initd.org/psycopg/docs/install.html#binary-install-from-pypi>.\n",
      "  \"\"\")\n"
     ]
    },
    {
     "name": "stdin",
     "output_type": "stream",
     "text": [
      "Password: ·····\n"
     ]
    },
    {
     "name": "stdout",
     "output_type": "stream",
     "text": [
      "time: 3.16 s\n"
     ]
    }
   ],
   "source": [
    "#adding this in fow now, will eventually want to switch this to the 03-clinical_variables_final\n",
    "import psycopg2\n",
    "import getpass\n",
    "conn = psycopg2.connect(dbname=\"mimic\", user=\"student\", host=\"luolabwkstn01.fsm.northwestern.edu\", port=\"5432\",\n",
    "                        password=getpass.getpass(prompt='Password:'.format()))\n",
    "cur=conn.cursor()\n",
    "\n",
    "query_schema = 'SET search_path to ' + \"mimiciii\" + ';'"
   ]
  },
  {
   "cell_type": "markdown",
   "metadata": {},
   "source": [
    "#### Note: Nelson has said we do not need to incorporate Echo data, so this has been removed 10/22/18"
   ]
  },
  {
   "cell_type": "code",
   "execution_count": 8,
   "metadata": {},
   "outputs": [
    {
     "name": "stderr",
     "output_type": "stream",
     "text": [
      "/Users/geickelb1/anaconda/envs/rpy-env/lib/python3.6/site-packages/numpy/lib/arraysetops.py:472: FutureWarning: elementwise comparison failed; returning scalar instead, but in the future will perform elementwise comparison\n",
      "  mask |= (ar1 == a)\n"
     ]
    },
    {
     "name": "stdout",
     "output_type": "stream",
     "text": [
      "time: 14.2 s\n"
     ]
    }
   ],
   "source": [
    "#reading in all of my data that is not limited to 72 hour time window between t_0 and t+72\n",
    "date= '27082018' \n",
    "\n",
    "ventcategory_df=pd.read_csv(Path(\n",
    "    wd+'/data/raw/csv/%s_ventcategory_df.csv' %(date)), index_col=0)\n",
    "\n",
    "vaso_dose_72=pd.read_csv(Path(\n",
    "    wd+'/data/raw/csv/72_hr_window/%s_vaso_dose_72.csv' %(date)), index_col=0)\n",
    "\n",
    "\n",
    "# echodata_72=pd.read_csv(Path(\n",
    "#     wd+'/data/raw/csv/72_hr_window/%s_echodata_72.csv' %(date)), index_col=0)\n",
    "\n",
    "labs_all_nosummary_72=pd.read_csv(Path(\n",
    "    wd+'/data/raw/csv/72_hr_window/%s_labs_all_nosummary_72.csv' %(date)), index_col=0)\n",
    "\n",
    "\n",
    "weightfirstday_df=pd.read_csv(Path(\n",
    "    wd+'/data/raw/csv/72_hr_window/%s_weightfirstday_df.csv' %(date)), index_col=0)\n",
    "heightfirstday_df=pd.read_csv(Path(\n",
    "    wd+'/data/raw/csv/72_hr_window/%s_heightfirstday_df.csv' %(date)), index_col=0)\n",
    "\n",
    "vitals_all_nosummary_72=pd.read_csv(Path(\n",
    "    wd+'/data/raw/csv/72_hr_window/%s_vitals_all_nosummary_72.csv' %(date)), index_col=0)\n",
    "uti_all_72=pd.read_csv(Path(\n",
    "    wd+'/data/raw/csv/72_hr_window/%s_uti_all_72.csv' %(date)), index_col=0)\n",
    "bg_all_nosummary_72=pd.read_csv(Path(\n",
    "    wd+'/data/raw/csv/72_hr_window/%s_bg_all_nosummary_72.csv' %(date)), index_col=0)\n",
    "\n",
    "rrt_merged_allpt_df=pd.read_csv(Path(\n",
    "    wd+'/data/raw/csv/72_hr_window/%s_rrt_merged_allpt_df.csv' %(date)), index_col=0)\n",
    "gcs72_df=pd.read_csv(Path(\n",
    "    wd+'/data/raw/csv/72_hr_window/%s_gcs72_df.csv' %(date)), index_col=0)\n",
    "\n",
    "sofa_df_72=pd.read_csv(Path(\n",
    "    wd+'/data/raw/csv/%s_sofa_df_72.csv' %(date)), index_col=0)"
   ]
  },
  {
   "cell_type": "code",
   "execution_count": 9,
   "metadata": {},
   "outputs": [
    {
     "name": "stdout",
     "output_type": "stream",
     "text": [
      "time: 5.37 ms\n"
     ]
    }
   ],
   "source": [
    "def df_subset(df):\n",
    "    try:\n",
    "        df = df.loc[df.loc[:,'icustay_id'].isin(icustay_id),:]\n",
    "    except KeyError or NameError:\n",
    "        try:\n",
    "            df = df.loc[df.loc[:,'hadm_id'].isin(hadm_id),:]\n",
    "        except KeyError or NameError:\n",
    "            df = df.loc[df.loc[:,'subject_id'].isin(patients),:]\n",
    "    return(df)"
   ]
  },
  {
   "cell_type": "code",
   "execution_count": 10,
   "metadata": {},
   "outputs": [
    {
     "name": "stdout",
     "output_type": "stream",
     "text": [
      "time: 983 ms\n"
     ]
    }
   ],
   "source": [
    "# subsetting each dataframe to only patients in final_patients_df2_v:\n",
    "dataframe_list= [\n",
    "    ventcategory_df, vaso_dose_72, #echodata_72,\n",
    "    labs_all_nosummary_72, weightfirstday_df,\n",
    "    heightfirstday_df, vitals_all_nosummary_72,\n",
    "    uti_all_72, bg_all_nosummary_72,\n",
    "    rrt_merged_allpt_df, gcs72_df, sofa_df_72\n",
    "]\n",
    "\n",
    "(\n",
    "ventcategory_df, vaso_dose_72, #echodata_72,\n",
    "labs_all_nosummary_72, weightfirstday_df,\n",
    "heightfirstday_df, vitals_all_nosummary_72,\n",
    "uti_all_72, bg_all_nosummary_72,\n",
    "rrt_merged_allpt_df, gcs72_df, sofa_df_72\n",
    ") = (df_subset(df) for df in dataframe_list)"
   ]
  },
  {
   "cell_type": "code",
   "execution_count": null,
   "metadata": {},
   "outputs": [],
   "source": []
  },
  {
   "cell_type": "markdown",
   "metadata": {},
   "source": [
    "## vaso dose"
   ]
  },
  {
   "cell_type": "code",
   "execution_count": 79,
   "metadata": {},
   "outputs": [
    {
     "name": "stdout",
     "output_type": "stream",
     "text": [
      "time: 43.5 ms\n"
     ]
    }
   ],
   "source": [
    "#vaso_dose_72.head()\n",
    "vaso_dose_72= vaso_dose_72.rename(\n",
    "    columns={'starttime':'charttime','label':'vaso_type'}\n",
    "        )#.drop(labels='endtime', axis=1) \n",
    "#renaming starttime to charttime and dropping endtime"
   ]
  },
  {
   "cell_type": "code",
   "execution_count": 80,
   "metadata": {},
   "outputs": [
    {
     "data": {
      "text/plain": [
       "53786"
      ]
     },
     "execution_count": 80,
     "metadata": {},
     "output_type": "execute_result"
    },
    {
     "name": "stdout",
     "output_type": "stream",
     "text": [
      "time: 3.66 ms\n"
     ]
    }
   ],
   "source": [
    "len(vaso_dose_72)"
   ]
  },
  {
   "cell_type": "code",
   "execution_count": 81,
   "metadata": {},
   "outputs": [
    {
     "data": {
      "text/html": [
       "<div>\n",
       "<style scoped>\n",
       "    .dataframe tbody tr th:only-of-type {\n",
       "        vertical-align: middle;\n",
       "    }\n",
       "\n",
       "    .dataframe tbody tr th {\n",
       "        vertical-align: top;\n",
       "    }\n",
       "\n",
       "    .dataframe thead th {\n",
       "        text-align: right;\n",
       "    }\n",
       "</style>\n",
       "<table border=\"1\" class=\"dataframe\">\n",
       "  <thead>\n",
       "    <tr style=\"text-align: right;\">\n",
       "      <th></th>\n",
       "      <th>icustay_id</th>\n",
       "      <th>charttime</th>\n",
       "      <th>endtime</th>\n",
       "      <th>vaso_rate</th>\n",
       "      <th>vaso_amount</th>\n",
       "      <th>amount_uom</th>\n",
       "      <th>rate_uom</th>\n",
       "      <th>vaso_type</th>\n",
       "      <th>t_0</th>\n",
       "      <th>delta</th>\n",
       "    </tr>\n",
       "  </thead>\n",
       "  <tbody>\n",
       "    <tr>\n",
       "      <th>4</th>\n",
       "      <td>200349.0</td>\n",
       "      <td>2139-06-02 16:31:00</td>\n",
       "      <td>2139-06-02 18:10:00</td>\n",
       "      <td>0.012030</td>\n",
       "      <td>0.073958</td>\n",
       "      <td>mg</td>\n",
       "      <td>mcg/kg/min</td>\n",
       "      <td>epinephrine</td>\n",
       "      <td>2139-06-02</td>\n",
       "      <td>0 days 16:31:00.000000000</td>\n",
       "    </tr>\n",
       "    <tr>\n",
       "      <th>92</th>\n",
       "      <td>200952.0</td>\n",
       "      <td>2139-09-23 15:07:00</td>\n",
       "      <td>2139-09-24 06:43:00</td>\n",
       "      <td>0.020004</td>\n",
       "      <td>1.049601</td>\n",
       "      <td>mg</td>\n",
       "      <td>mcg/kg/min</td>\n",
       "      <td>epinephrine</td>\n",
       "      <td>2139-09-23</td>\n",
       "      <td>0 days 15:07:00.000000000</td>\n",
       "    </tr>\n",
       "    <tr>\n",
       "      <th>93</th>\n",
       "      <td>200952.0</td>\n",
       "      <td>2139-09-25 12:00:00</td>\n",
       "      <td>2139-09-25 21:59:00</td>\n",
       "      <td>0.080068</td>\n",
       "      <td>1.962759</td>\n",
       "      <td>mg</td>\n",
       "      <td>mcg/kg/min</td>\n",
       "      <td>epinephrine</td>\n",
       "      <td>2139-09-23</td>\n",
       "      <td>2 days 12:00:00.000000000</td>\n",
       "    </tr>\n",
       "    <tr>\n",
       "      <th>94</th>\n",
       "      <td>200952.0</td>\n",
       "      <td>2139-09-25 21:59:00</td>\n",
       "      <td>2139-09-26 07:38:00</td>\n",
       "      <td>0.060601</td>\n",
       "      <td>2.000000</td>\n",
       "      <td>mg</td>\n",
       "      <td>mcg/kg/min</td>\n",
       "      <td>epinephrine</td>\n",
       "      <td>2139-09-23</td>\n",
       "      <td>2 days 21:59:00.000000000</td>\n",
       "    </tr>\n",
       "    <tr>\n",
       "      <th>106</th>\n",
       "      <td>200952.0</td>\n",
       "      <td>2139-09-23 23:12:00</td>\n",
       "      <td>2139-09-24 21:54:00</td>\n",
       "      <td>0.149992</td>\n",
       "      <td>7.990853</td>\n",
       "      <td>mg</td>\n",
       "      <td>mcg/kg/min</td>\n",
       "      <td>norepinephrine</td>\n",
       "      <td>2139-09-23</td>\n",
       "      <td>0 days 23:12:00.000000000</td>\n",
       "    </tr>\n",
       "  </tbody>\n",
       "</table>\n",
       "</div>"
      ],
      "text/plain": [
       "     icustay_id            charttime              endtime  vaso_rate  \\\n",
       "4      200349.0  2139-06-02 16:31:00  2139-06-02 18:10:00   0.012030   \n",
       "92     200952.0  2139-09-23 15:07:00  2139-09-24 06:43:00   0.020004   \n",
       "93     200952.0  2139-09-25 12:00:00  2139-09-25 21:59:00   0.080068   \n",
       "94     200952.0  2139-09-25 21:59:00  2139-09-26 07:38:00   0.060601   \n",
       "106    200952.0  2139-09-23 23:12:00  2139-09-24 21:54:00   0.149992   \n",
       "\n",
       "     vaso_amount amount_uom    rate_uom       vaso_type         t_0  \\\n",
       "4       0.073958         mg  mcg/kg/min     epinephrine  2139-06-02   \n",
       "92      1.049601         mg  mcg/kg/min     epinephrine  2139-09-23   \n",
       "93      1.962759         mg  mcg/kg/min     epinephrine  2139-09-23   \n",
       "94      2.000000         mg  mcg/kg/min     epinephrine  2139-09-23   \n",
       "106     7.990853         mg  mcg/kg/min  norepinephrine  2139-09-23   \n",
       "\n",
       "                         delta  \n",
       "4    0 days 16:31:00.000000000  \n",
       "92   0 days 15:07:00.000000000  \n",
       "93   2 days 12:00:00.000000000  \n",
       "94   2 days 21:59:00.000000000  \n",
       "106  0 days 23:12:00.000000000  "
      ]
     },
     "execution_count": 81,
     "metadata": {},
     "output_type": "execute_result"
    },
    {
     "name": "stdout",
     "output_type": "stream",
     "text": [
      "time: 32.2 ms\n"
     ]
    }
   ],
   "source": [
    "vaso_dose_72.head()"
   ]
  },
  {
   "cell_type": "code",
   "execution_count": 82,
   "metadata": {},
   "outputs": [
    {
     "name": "stdout",
     "output_type": "stream",
     "text": [
      "time: 36.6 ms\n"
     ]
    }
   ],
   "source": [
    "#removing units/hour because that is a different use of vasopressin\n",
    "vaso_dose_72 = vaso_dose_72.loc[vaso_dose_72.loc[:,'rate_uom']!= 'units/hour',:]\n",
    "vaso_dose_72 = vaso_dose_72.loc[vaso_dose_72.loc[:,'rate_uom']!= 'Uhr',:]"
   ]
  },
  {
   "cell_type": "code",
   "execution_count": 83,
   "metadata": {},
   "outputs": [
    {
     "data": {
      "text/plain": [
       "52976"
      ]
     },
     "execution_count": 83,
     "metadata": {},
     "output_type": "execute_result"
    },
    {
     "name": "stdout",
     "output_type": "stream",
     "text": [
      "time: 2.79 ms\n"
     ]
    }
   ],
   "source": [
    "len(vaso_dose_72)"
   ]
  },
  {
   "cell_type": "code",
   "execution_count": 84,
   "metadata": {},
   "outputs": [
    {
     "data": {
      "text/plain": [
       "array(['mcg/kg/min', 'mcgkgmin', 'Umin'], dtype=object)"
      ]
     },
     "execution_count": 84,
     "metadata": {},
     "output_type": "execute_result"
    },
    {
     "name": "stdout",
     "output_type": "stream",
     "text": [
      "time: 4.51 ms\n"
     ]
    }
   ],
   "source": [
    "vaso_dose_72['rate_uom'].unique()"
   ]
  },
  {
   "cell_type": "markdown",
   "metadata": {},
   "source": [
    "#### removing outliers/extreme values"
   ]
  },
  {
   "cell_type": "code",
   "execution_count": 86,
   "metadata": {},
   "outputs": [
    {
     "name": "stdout",
     "output_type": "stream",
     "text": [
      "time: 142 ms\n"
     ]
    }
   ],
   "source": [
    "# Use transform to add a column back to the orig df from a groupby aggregation, transform returns a Series with its index aligned to the orig df:\n",
    "\n",
    "test_group=(vaso_dose_72[['vaso_rate','rate_uom','amount_uom','vaso_type']]#.groupby('vaso_type', as_index=False)\n",
    "     .groupby(['vaso_type','rate_uom'])\n",
    "         )\n",
    "\n",
    "vaso_dose_72['std']=test_group.transform(lambda x : x.std())\n",
    "vaso_dose_72['mean']=test_group.transform(lambda x : x.mean())\n",
    "\n",
    "normal_high_value= pd.DataFrame({\n",
    "    'vaso_type' : ['dobutamine','dopamine','epinephrine','norepinephrine','vasopressin','phenylephrine'],\n",
    "    'high_value': [40, 20, 0.5, 1, 0.1, 2]\n",
    "}) #found from literature, see notes\n",
    "\n",
    "vaso_dose_72 = pd.merge(vaso_dose_72, normal_high_value, left_on='vaso_type', right_on='vaso_type')\n",
    "\n",
    "vaso_dose_72_rmout =(vaso_dose_72[\n",
    "    ~((vaso_dose_72['vaso_rate'] > vaso_dose_72['high_value']) & ((vaso_dose_72['vaso_rate']-vaso_dose_72['mean'])>= (3*vaso_dose_72['std'])))\n",
    "    ])\n",
    "#ie vaso_dose_72_rmout is a dataframe of all rows that excludes rows where vaso rate > literature high value and where vaso_rate >3sd from teh mean"
   ]
  },
  {
   "cell_type": "code",
   "execution_count": 1,
   "metadata": {},
   "outputs": [
    {
     "ename": "NameError",
     "evalue": "name 'vaso_dose_72' is not defined",
     "output_type": "error",
     "traceback": [
      "\u001b[0;31m---------------------------------------------------------------------------\u001b[0m",
      "\u001b[0;31mNameError\u001b[0m                                 Traceback (most recent call last)",
      "\u001b[0;32m<ipython-input-1-52473288222f>\u001b[0m in \u001b[0;36m<module>\u001b[0;34m()\u001b[0m\n\u001b[0;32m----> 1\u001b[0;31m \u001b[0mlen\u001b[0m\u001b[0;34m(\u001b[0m\u001b[0mvaso_dose_72\u001b[0m\u001b[0;34m)\u001b[0m \u001b[0;31m#52976\u001b[0m\u001b[0;34m\u001b[0m\u001b[0m\n\u001b[0m",
      "\u001b[0;31mNameError\u001b[0m: name 'vaso_dose_72' is not defined"
     ]
    }
   ],
   "source": [
    "len(vaso_dose_72) #52976"
   ]
  },
  {
   "cell_type": "code",
   "execution_count": 89,
   "metadata": {},
   "outputs": [
    {
     "data": {
      "text/plain": [
       "array(['epinephrine', 'norepinephrine', 'phenylephrine', 'vasopressin',\n",
       "       'dopamine', 'dobutamine'], dtype=object)"
      ]
     },
     "execution_count": 89,
     "metadata": {},
     "output_type": "execute_result"
    },
    {
     "name": "stdout",
     "output_type": "stream",
     "text": [
      "time: 4.09 ms\n"
     ]
    }
   ],
   "source": [
    "vaso_dose_72['vaso_type'].unique()"
   ]
  },
  {
   "cell_type": "code",
   "execution_count": 90,
   "metadata": {},
   "outputs": [
    {
     "name": "stdout",
     "output_type": "stream",
     "text": [
      "52662 52976\n",
      "time: 1.7 ms\n"
     ]
    }
   ],
   "source": [
    "print(len(vaso_dose_72_rmout), len(vaso_dose_72)) #works, only excluded ~300/52662 for outliers. \n"
   ]
  },
  {
   "cell_type": "code",
   "execution_count": 34,
   "metadata": {},
   "outputs": [
    {
     "data": {
      "text/plain": [
       "array(['mcg/kg/min', 'mcgkgmin', 'Umin'], dtype=object)"
      ]
     },
     "execution_count": 34,
     "metadata": {},
     "output_type": "execute_result"
    },
    {
     "name": "stdout",
     "output_type": "stream",
     "text": [
      "time: 3.07 ms\n"
     ]
    }
   ],
   "source": [
    "vaso_dose_72_rmout['rate_uom'].unique()"
   ]
  },
  {
   "cell_type": "code",
   "execution_count": 144,
   "metadata": {},
   "outputs": [
    {
     "name": "stdout",
     "output_type": "stream",
     "text": [
      "time: 652 ms\n"
     ]
    }
   ],
   "source": [
    "date= '22102018'\n",
    "pd.DataFrame(vaso_dose_72_rmout).to_csv(Path(\n",
    "    wd+'/data/processed/%s_vaso_dose_72_rmout.csv' %(date)))\n"
   ]
  },
  {
   "cell_type": "code",
   "execution_count": null,
   "metadata": {},
   "outputs": [],
   "source": []
  },
  {
   "cell_type": "code",
   "execution_count": null,
   "metadata": {},
   "outputs": [],
   "source": []
  },
  {
   "cell_type": "code",
   "execution_count": null,
   "metadata": {},
   "outputs": [],
   "source": []
  },
  {
   "cell_type": "markdown",
   "metadata": {},
   "source": [
    "## vitals -"
   ]
  },
  {
   "cell_type": "code",
   "execution_count": 20,
   "metadata": {},
   "outputs": [
    {
     "name": "stderr",
     "output_type": "stream",
     "text": [
      "/Users/geickelb1/anaconda/envs/rpy-env/lib/python3.6/site-packages/pandas/core/indexing.py:537: SettingWithCopyWarning: \n",
      "A value is trying to be set on a copy of a slice from a DataFrame.\n",
      "Try using .loc[row_indexer,col_indexer] = value instead\n",
      "\n",
      "See the caveats in the documentation: http://pandas.pydata.org/pandas-docs/stable/indexing.html#indexing-view-versus-copy\n",
      "  self.obj[item] = s\n"
     ]
    },
    {
     "name": "stdout",
     "output_type": "stream",
     "text": [
      "time: 12.6 s\n"
     ]
    }
   ],
   "source": [
    "vitals_all_nosummary_72 = vitals_all_nosummary_72.rename(index=str, columns={\"valueuom\":\"uom\"}) #change valueom to uom\n",
    "vitals_all_nosummary_nonull = vitals_all_nosummary_72.loc[vitals_all_nosummary_72['vitalid'].notnull(),:]#.count() #6930 NULL values\n",
    "\n",
    "vitals_all_nosummary_nonull.loc[vitals_all_nosummary_nonull.loc[:,'uom']=='BPM','uom']='bpm'\n",
    "\n",
    "#overall the values are extremely similar and are likely the same thing\n",
    "#i will combine them.\n",
    "vitals_all_nosummary_nonull.loc[\n",
    "    (vitals_all_nosummary_nonull['vitalid']=='RespRate') & \n",
    "    (vitals_all_nosummary_nonull['uom']=='bpm'),'uom']='insp/min'\n",
    "\n",
    "vitals_all_nosummary_nonull.loc[\n",
    "    (vitals_all_nosummary_nonull['vitalid']=='TempC') & \n",
    "    (vitals_all_nosummary_nonull['uom']=='?C'),'uom']='Deg. C'\n",
    "\n",
    "vitals_all_nosummary_nonull.loc[\n",
    "    (vitals_all_nosummary_nonull['vitalid']=='TempF') & \n",
    "    (vitals_all_nosummary_nonull['uom']=='Deg. F'),'uom']='Deg. C'\n",
    "\n",
    "vitals_all_nosummary_nonull.loc[\n",
    "    (vitals_all_nosummary_nonull['vitalid']=='TempF') & \n",
    "    (vitals_all_nosummary_nonull['uom']=='?F'),'uom']='Deg. C'\n",
    "\n",
    "vitals_all_nosummary_nonull.loc[\n",
    "    (vitals_all_nosummary_nonull['vitalid']=='TempF'),'vitalid']='TempC'"
   ]
  },
  {
   "cell_type": "code",
   "execution_count": 21,
   "metadata": {},
   "outputs": [
    {
     "data": {
      "text/html": [
       "<div>\n",
       "<style scoped>\n",
       "    .dataframe tbody tr th:only-of-type {\n",
       "        vertical-align: middle;\n",
       "    }\n",
       "\n",
       "    .dataframe tbody tr th {\n",
       "        vertical-align: top;\n",
       "    }\n",
       "\n",
       "    .dataframe thead th {\n",
       "        text-align: right;\n",
       "    }\n",
       "</style>\n",
       "<table border=\"1\" class=\"dataframe\">\n",
       "  <thead>\n",
       "    <tr style=\"text-align: right;\">\n",
       "      <th></th>\n",
       "      <th>subject_id</th>\n",
       "      <th>hadm_id</th>\n",
       "      <th>icustay_id</th>\n",
       "      <th>charttime</th>\n",
       "      <th>uom</th>\n",
       "      <th>vitalid</th>\n",
       "      <th>valuenum</th>\n",
       "      <th>t_0</th>\n",
       "      <th>delta</th>\n",
       "    </tr>\n",
       "  </thead>\n",
       "  <tbody>\n",
       "    <tr>\n",
       "      <th>5</th>\n",
       "      <td>9</td>\n",
       "      <td>150750</td>\n",
       "      <td>220597</td>\n",
       "      <td>2149-11-13 15:20:00</td>\n",
       "      <td>mmHg</td>\n",
       "      <td>MeanArtPress</td>\n",
       "      <td>61.0</td>\n",
       "      <td>2149-11-13</td>\n",
       "      <td>0 days 15:20:00.000000000</td>\n",
       "    </tr>\n",
       "    <tr>\n",
       "      <th>6</th>\n",
       "      <td>9</td>\n",
       "      <td>150750</td>\n",
       "      <td>220597</td>\n",
       "      <td>2149-11-14 11:00:00</td>\n",
       "      <td>mmHg</td>\n",
       "      <td>MeanArtPress</td>\n",
       "      <td>103.0</td>\n",
       "      <td>2149-11-13</td>\n",
       "      <td>1 days 11:00:00.000000000</td>\n",
       "    </tr>\n",
       "    <tr>\n",
       "      <th>7</th>\n",
       "      <td>9</td>\n",
       "      <td>150750</td>\n",
       "      <td>220597</td>\n",
       "      <td>2149-11-14 12:00:00</td>\n",
       "      <td>mmHg</td>\n",
       "      <td>MeanArtPress</td>\n",
       "      <td>134.0</td>\n",
       "      <td>2149-11-13</td>\n",
       "      <td>1 days 12:00:00.000000000</td>\n",
       "    </tr>\n",
       "    <tr>\n",
       "      <th>12</th>\n",
       "      <td>9</td>\n",
       "      <td>150750</td>\n",
       "      <td>220597</td>\n",
       "      <td>2149-11-13 07:00:00</td>\n",
       "      <td>mmHg</td>\n",
       "      <td>MeanArtPress</td>\n",
       "      <td>85.0</td>\n",
       "      <td>2149-11-13</td>\n",
       "      <td>0 days 07:00:00.000000000</td>\n",
       "    </tr>\n",
       "    <tr>\n",
       "      <th>13</th>\n",
       "      <td>9</td>\n",
       "      <td>150750</td>\n",
       "      <td>220597</td>\n",
       "      <td>2149-11-14 02:00:00</td>\n",
       "      <td>mmHg</td>\n",
       "      <td>MeanArtPress</td>\n",
       "      <td>96.0</td>\n",
       "      <td>2149-11-13</td>\n",
       "      <td>1 days 02:00:00.000000000</td>\n",
       "    </tr>\n",
       "    <tr>\n",
       "      <th>16</th>\n",
       "      <td>9</td>\n",
       "      <td>150750</td>\n",
       "      <td>220597</td>\n",
       "      <td>2149-11-13 10:00:00</td>\n",
       "      <td>mmHg</td>\n",
       "      <td>MeanArtPress</td>\n",
       "      <td>92.0</td>\n",
       "      <td>2149-11-13</td>\n",
       "      <td>0 days 10:00:00.000000000</td>\n",
       "    </tr>\n",
       "    <tr>\n",
       "      <th>18</th>\n",
       "      <td>9</td>\n",
       "      <td>150750</td>\n",
       "      <td>220597</td>\n",
       "      <td>2149-11-13 00:30:00</td>\n",
       "      <td>mmHg</td>\n",
       "      <td>MeanArtPress</td>\n",
       "      <td>104.0</td>\n",
       "      <td>2149-11-13</td>\n",
       "      <td>0 days 00:30:00.000000000</td>\n",
       "    </tr>\n",
       "    <tr>\n",
       "      <th>19</th>\n",
       "      <td>9</td>\n",
       "      <td>150750</td>\n",
       "      <td>220597</td>\n",
       "      <td>2149-11-13 17:00:00</td>\n",
       "      <td>mmHg</td>\n",
       "      <td>MeanArtPress</td>\n",
       "      <td>84.0</td>\n",
       "      <td>2149-11-13</td>\n",
       "      <td>0 days 17:00:00.000000000</td>\n",
       "    </tr>\n",
       "    <tr>\n",
       "      <th>29</th>\n",
       "      <td>9</td>\n",
       "      <td>150750</td>\n",
       "      <td>220597</td>\n",
       "      <td>2149-11-13 18:00:00</td>\n",
       "      <td>mmHg</td>\n",
       "      <td>MeanArtPress</td>\n",
       "      <td>93.0</td>\n",
       "      <td>2149-11-13</td>\n",
       "      <td>0 days 18:00:00.000000000</td>\n",
       "    </tr>\n",
       "    <tr>\n",
       "      <th>46</th>\n",
       "      <td>9</td>\n",
       "      <td>150750</td>\n",
       "      <td>220597</td>\n",
       "      <td>2149-11-13 04:00:00</td>\n",
       "      <td>mmHg</td>\n",
       "      <td>MeanArtPress</td>\n",
       "      <td>104.0</td>\n",
       "      <td>2149-11-13</td>\n",
       "      <td>0 days 04:00:00.000000000</td>\n",
       "    </tr>\n",
       "    <tr>\n",
       "      <th>47</th>\n",
       "      <td>9</td>\n",
       "      <td>150750</td>\n",
       "      <td>220597</td>\n",
       "      <td>2149-11-13 20:30:00</td>\n",
       "      <td>mmHg</td>\n",
       "      <td>MeanArtPress</td>\n",
       "      <td>102.0</td>\n",
       "      <td>2149-11-13</td>\n",
       "      <td>0 days 20:30:00.000000000</td>\n",
       "    </tr>\n",
       "    <tr>\n",
       "      <th>48</th>\n",
       "      <td>9</td>\n",
       "      <td>150750</td>\n",
       "      <td>220597</td>\n",
       "      <td>2149-11-13 21:00:00</td>\n",
       "      <td>mmHg</td>\n",
       "      <td>MeanArtPress</td>\n",
       "      <td>97.0</td>\n",
       "      <td>2149-11-13</td>\n",
       "      <td>0 days 21:00:00.000000000</td>\n",
       "    </tr>\n",
       "    <tr>\n",
       "      <th>49</th>\n",
       "      <td>9</td>\n",
       "      <td>150750</td>\n",
       "      <td>220597</td>\n",
       "      <td>2149-11-13 22:00:00</td>\n",
       "      <td>mmHg</td>\n",
       "      <td>MeanArtPress</td>\n",
       "      <td>94.0</td>\n",
       "      <td>2149-11-13</td>\n",
       "      <td>0 days 22:00:00.000000000</td>\n",
       "    </tr>\n",
       "    <tr>\n",
       "      <th>59</th>\n",
       "      <td>9</td>\n",
       "      <td>150750</td>\n",
       "      <td>220597</td>\n",
       "      <td>2149-11-13 13:00:00</td>\n",
       "      <td>mmHg</td>\n",
       "      <td>MeanArtPress</td>\n",
       "      <td>104.0</td>\n",
       "      <td>2149-11-13</td>\n",
       "      <td>0 days 13:00:00.000000000</td>\n",
       "    </tr>\n",
       "    <tr>\n",
       "      <th>60</th>\n",
       "      <td>9</td>\n",
       "      <td>150750</td>\n",
       "      <td>220597</td>\n",
       "      <td>2149-11-13 14:00:00</td>\n",
       "      <td>mmHg</td>\n",
       "      <td>MeanArtPress</td>\n",
       "      <td>111.0</td>\n",
       "      <td>2149-11-13</td>\n",
       "      <td>0 days 14:00:00.000000000</td>\n",
       "    </tr>\n",
       "    <tr>\n",
       "      <th>61</th>\n",
       "      <td>9</td>\n",
       "      <td>150750</td>\n",
       "      <td>220597</td>\n",
       "      <td>2149-11-14 09:00:00</td>\n",
       "      <td>mmHg</td>\n",
       "      <td>MeanArtPress</td>\n",
       "      <td>106.0</td>\n",
       "      <td>2149-11-13</td>\n",
       "      <td>1 days 09:00:00.000000000</td>\n",
       "    </tr>\n",
       "    <tr>\n",
       "      <th>64</th>\n",
       "      <td>9</td>\n",
       "      <td>150750</td>\n",
       "      <td>220597</td>\n",
       "      <td>2149-11-13 05:00:00</td>\n",
       "      <td>mmHg</td>\n",
       "      <td>MeanArtPress</td>\n",
       "      <td>105.0</td>\n",
       "      <td>2149-11-13</td>\n",
       "      <td>0 days 05:00:00.000000000</td>\n",
       "    </tr>\n",
       "    <tr>\n",
       "      <th>73</th>\n",
       "      <td>9</td>\n",
       "      <td>150750</td>\n",
       "      <td>220597</td>\n",
       "      <td>2149-11-14 10:00:00</td>\n",
       "      <td>mmHg</td>\n",
       "      <td>MeanArtPress</td>\n",
       "      <td>80.0</td>\n",
       "      <td>2149-11-13</td>\n",
       "      <td>1 days 10:00:00.000000000</td>\n",
       "    </tr>\n",
       "    <tr>\n",
       "      <th>79</th>\n",
       "      <td>9</td>\n",
       "      <td>150750</td>\n",
       "      <td>220597</td>\n",
       "      <td>2149-11-14 01:00:00</td>\n",
       "      <td>mmHg</td>\n",
       "      <td>MeanArtPress</td>\n",
       "      <td>96.0</td>\n",
       "      <td>2149-11-13</td>\n",
       "      <td>1 days 01:00:00.000000000</td>\n",
       "    </tr>\n",
       "    <tr>\n",
       "      <th>85</th>\n",
       "      <td>9</td>\n",
       "      <td>150750</td>\n",
       "      <td>220597</td>\n",
       "      <td>2149-11-13 00:00:00</td>\n",
       "      <td>mmHg</td>\n",
       "      <td>MeanArtPress</td>\n",
       "      <td>102.0</td>\n",
       "      <td>2149-11-13</td>\n",
       "      <td>0 days 00:00:00.000000000</td>\n",
       "    </tr>\n",
       "    <tr>\n",
       "      <th>89</th>\n",
       "      <td>9</td>\n",
       "      <td>150750</td>\n",
       "      <td>220597</td>\n",
       "      <td>2149-11-13 09:00:00</td>\n",
       "      <td>mmHg</td>\n",
       "      <td>MeanArtPress</td>\n",
       "      <td>97.0</td>\n",
       "      <td>2149-11-13</td>\n",
       "      <td>0 days 09:00:00.000000000</td>\n",
       "    </tr>\n",
       "    <tr>\n",
       "      <th>90</th>\n",
       "      <td>9</td>\n",
       "      <td>150750</td>\n",
       "      <td>220597</td>\n",
       "      <td>2149-11-14 05:00:00</td>\n",
       "      <td>mmHg</td>\n",
       "      <td>MeanArtPress</td>\n",
       "      <td>89.0</td>\n",
       "      <td>2149-11-13</td>\n",
       "      <td>1 days 05:00:00.000000000</td>\n",
       "    </tr>\n",
       "    <tr>\n",
       "      <th>97</th>\n",
       "      <td>9</td>\n",
       "      <td>150750</td>\n",
       "      <td>220597</td>\n",
       "      <td>2149-11-13 02:00:00</td>\n",
       "      <td>mmHg</td>\n",
       "      <td>MeanArtPress</td>\n",
       "      <td>107.0</td>\n",
       "      <td>2149-11-13</td>\n",
       "      <td>0 days 02:00:00.000000000</td>\n",
       "    </tr>\n",
       "    <tr>\n",
       "      <th>101</th>\n",
       "      <td>9</td>\n",
       "      <td>150750</td>\n",
       "      <td>220597</td>\n",
       "      <td>2149-11-13 03:00:00</td>\n",
       "      <td>mmHg</td>\n",
       "      <td>MeanArtPress</td>\n",
       "      <td>101.0</td>\n",
       "      <td>2149-11-13</td>\n",
       "      <td>0 days 03:00:00.000000000</td>\n",
       "    </tr>\n",
       "    <tr>\n",
       "      <th>102</th>\n",
       "      <td>9</td>\n",
       "      <td>150750</td>\n",
       "      <td>220597</td>\n",
       "      <td>2149-11-13 03:15:00</td>\n",
       "      <td>mmHg</td>\n",
       "      <td>MeanArtPress</td>\n",
       "      <td>101.0</td>\n",
       "      <td>2149-11-13</td>\n",
       "      <td>0 days 03:15:00.000000000</td>\n",
       "    </tr>\n",
       "    <tr>\n",
       "      <th>115</th>\n",
       "      <td>9</td>\n",
       "      <td>150750</td>\n",
       "      <td>220597</td>\n",
       "      <td>2149-11-13 15:30:00</td>\n",
       "      <td>mmHg</td>\n",
       "      <td>MeanArtPress</td>\n",
       "      <td>59.0</td>\n",
       "      <td>2149-11-13</td>\n",
       "      <td>0 days 15:30:00.000000000</td>\n",
       "    </tr>\n",
       "    <tr>\n",
       "      <th>126</th>\n",
       "      <td>9</td>\n",
       "      <td>150750</td>\n",
       "      <td>220597</td>\n",
       "      <td>2149-11-13 15:45:00</td>\n",
       "      <td>mmHg</td>\n",
       "      <td>MeanArtPress</td>\n",
       "      <td>70.0</td>\n",
       "      <td>2149-11-13</td>\n",
       "      <td>0 days 15:45:00.000000000</td>\n",
       "    </tr>\n",
       "    <tr>\n",
       "      <th>127</th>\n",
       "      <td>9</td>\n",
       "      <td>150750</td>\n",
       "      <td>220597</td>\n",
       "      <td>2149-11-13 15:50:00</td>\n",
       "      <td>mmHg</td>\n",
       "      <td>MeanArtPress</td>\n",
       "      <td>68.0</td>\n",
       "      <td>2149-11-13</td>\n",
       "      <td>0 days 15:50:00.000000000</td>\n",
       "    </tr>\n",
       "    <tr>\n",
       "      <th>128</th>\n",
       "      <td>9</td>\n",
       "      <td>150750</td>\n",
       "      <td>220597</td>\n",
       "      <td>2149-11-13 15:55:00</td>\n",
       "      <td>mmHg</td>\n",
       "      <td>MeanArtPress</td>\n",
       "      <td>124.0</td>\n",
       "      <td>2149-11-13</td>\n",
       "      <td>0 days 15:55:00.000000000</td>\n",
       "    </tr>\n",
       "    <tr>\n",
       "      <th>129</th>\n",
       "      <td>9</td>\n",
       "      <td>150750</td>\n",
       "      <td>220597</td>\n",
       "      <td>2149-11-14 13:00:00</td>\n",
       "      <td>mmHg</td>\n",
       "      <td>MeanArtPress</td>\n",
       "      <td>92.0</td>\n",
       "      <td>2149-11-13</td>\n",
       "      <td>1 days 13:00:00.000000000</td>\n",
       "    </tr>\n",
       "    <tr>\n",
       "      <th>...</th>\n",
       "      <td>...</td>\n",
       "      <td>...</td>\n",
       "      <td>...</td>\n",
       "      <td>...</td>\n",
       "      <td>...</td>\n",
       "      <td>...</td>\n",
       "      <td>...</td>\n",
       "      <td>...</td>\n",
       "      <td>...</td>\n",
       "    </tr>\n",
       "    <tr>\n",
       "      <th>16269121</th>\n",
       "      <td>53466</td>\n",
       "      <td>185052</td>\n",
       "      <td>262521</td>\n",
       "      <td>2198-04-05 11:55:00</td>\n",
       "      <td>mg/dL</td>\n",
       "      <td>Glucose</td>\n",
       "      <td>125.0</td>\n",
       "      <td>2198-04-05</td>\n",
       "      <td>0 days 11:55:00.000000000</td>\n",
       "    </tr>\n",
       "    <tr>\n",
       "      <th>16269122</th>\n",
       "      <td>53466</td>\n",
       "      <td>185052</td>\n",
       "      <td>262521</td>\n",
       "      <td>2198-04-06 02:20:00</td>\n",
       "      <td>mg/dL</td>\n",
       "      <td>Glucose</td>\n",
       "      <td>122.0</td>\n",
       "      <td>2198-04-05</td>\n",
       "      <td>1 days 02:20:00.000000000</td>\n",
       "    </tr>\n",
       "    <tr>\n",
       "      <th>16269123</th>\n",
       "      <td>53466</td>\n",
       "      <td>185052</td>\n",
       "      <td>262521</td>\n",
       "      <td>2198-04-06 11:53:00</td>\n",
       "      <td>mg/dL</td>\n",
       "      <td>Glucose</td>\n",
       "      <td>111.0</td>\n",
       "      <td>2198-04-05</td>\n",
       "      <td>1 days 11:53:00.000000000</td>\n",
       "    </tr>\n",
       "    <tr>\n",
       "      <th>16269125</th>\n",
       "      <td>53466</td>\n",
       "      <td>185052</td>\n",
       "      <td>262521</td>\n",
       "      <td>2198-04-06 14:14:00</td>\n",
       "      <td>mg/dL</td>\n",
       "      <td>Glucose</td>\n",
       "      <td>108.0</td>\n",
       "      <td>2198-04-05</td>\n",
       "      <td>1 days 14:14:00.000000000</td>\n",
       "    </tr>\n",
       "    <tr>\n",
       "      <th>16269126</th>\n",
       "      <td>53466</td>\n",
       "      <td>185052</td>\n",
       "      <td>262521</td>\n",
       "      <td>2198-04-07 02:14:00</td>\n",
       "      <td>mg/dL</td>\n",
       "      <td>Glucose</td>\n",
       "      <td>109.0</td>\n",
       "      <td>2198-04-05</td>\n",
       "      <td>2 days 02:14:00.000000000</td>\n",
       "    </tr>\n",
       "    <tr>\n",
       "      <th>16269127</th>\n",
       "      <td>53466</td>\n",
       "      <td>185052</td>\n",
       "      <td>262521</td>\n",
       "      <td>2198-04-07 14:13:00</td>\n",
       "      <td>mg/dL</td>\n",
       "      <td>Glucose</td>\n",
       "      <td>106.0</td>\n",
       "      <td>2198-04-05</td>\n",
       "      <td>2 days 14:13:00.000000000</td>\n",
       "    </tr>\n",
       "    <tr>\n",
       "      <th>16269131</th>\n",
       "      <td>53466</td>\n",
       "      <td>185052</td>\n",
       "      <td>262521</td>\n",
       "      <td>2198-04-05 01:45:00</td>\n",
       "      <td>mg/dL</td>\n",
       "      <td>Glucose</td>\n",
       "      <td>128.0</td>\n",
       "      <td>2198-04-05</td>\n",
       "      <td>0 days 01:45:00.000000000</td>\n",
       "    </tr>\n",
       "    <tr>\n",
       "      <th>16269137</th>\n",
       "      <td>73223</td>\n",
       "      <td>135039</td>\n",
       "      <td>278629</td>\n",
       "      <td>2174-05-04 02:09:00</td>\n",
       "      <td>mg/dL</td>\n",
       "      <td>Glucose</td>\n",
       "      <td>89.0</td>\n",
       "      <td>2174-05-04</td>\n",
       "      <td>0 days 02:09:00.000000000</td>\n",
       "    </tr>\n",
       "    <tr>\n",
       "      <th>16269138</th>\n",
       "      <td>73223</td>\n",
       "      <td>135039</td>\n",
       "      <td>278629</td>\n",
       "      <td>2174-05-04 12:33:00</td>\n",
       "      <td>mg/dL</td>\n",
       "      <td>Glucose</td>\n",
       "      <td>73.0</td>\n",
       "      <td>2174-05-04</td>\n",
       "      <td>0 days 12:33:00.000000000</td>\n",
       "    </tr>\n",
       "    <tr>\n",
       "      <th>16269139</th>\n",
       "      <td>73223</td>\n",
       "      <td>135039</td>\n",
       "      <td>278629</td>\n",
       "      <td>2174-05-05 03:22:00</td>\n",
       "      <td>mg/dL</td>\n",
       "      <td>Glucose</td>\n",
       "      <td>160.0</td>\n",
       "      <td>2174-05-04</td>\n",
       "      <td>1 days 03:22:00.000000000</td>\n",
       "    </tr>\n",
       "    <tr>\n",
       "      <th>16269140</th>\n",
       "      <td>75257</td>\n",
       "      <td>114666</td>\n",
       "      <td>237645</td>\n",
       "      <td>2151-06-14 11:15:00</td>\n",
       "      <td>mg/dL</td>\n",
       "      <td>Glucose</td>\n",
       "      <td>227.0</td>\n",
       "      <td>2151-06-14</td>\n",
       "      <td>0 days 11:15:00.000000000</td>\n",
       "    </tr>\n",
       "    <tr>\n",
       "      <th>16269141</th>\n",
       "      <td>75257</td>\n",
       "      <td>114666</td>\n",
       "      <td>237645</td>\n",
       "      <td>2151-06-14 16:20:00</td>\n",
       "      <td>mg/dL</td>\n",
       "      <td>Glucose</td>\n",
       "      <td>96.0</td>\n",
       "      <td>2151-06-14</td>\n",
       "      <td>0 days 16:20:00.000000000</td>\n",
       "    </tr>\n",
       "    <tr>\n",
       "      <th>16269142</th>\n",
       "      <td>75257</td>\n",
       "      <td>114666</td>\n",
       "      <td>237645</td>\n",
       "      <td>2151-06-14 18:11:00</td>\n",
       "      <td>mg/dL</td>\n",
       "      <td>Glucose</td>\n",
       "      <td>110.0</td>\n",
       "      <td>2151-06-14</td>\n",
       "      <td>0 days 18:11:00.000000000</td>\n",
       "    </tr>\n",
       "    <tr>\n",
       "      <th>16269143</th>\n",
       "      <td>75257</td>\n",
       "      <td>114666</td>\n",
       "      <td>237645</td>\n",
       "      <td>2151-06-14 22:27:00</td>\n",
       "      <td>mg/dL</td>\n",
       "      <td>Glucose</td>\n",
       "      <td>130.0</td>\n",
       "      <td>2151-06-14</td>\n",
       "      <td>0 days 22:27:00.000000000</td>\n",
       "    </tr>\n",
       "    <tr>\n",
       "      <th>16269144</th>\n",
       "      <td>75257</td>\n",
       "      <td>114666</td>\n",
       "      <td>237645</td>\n",
       "      <td>2151-06-15 02:25:00</td>\n",
       "      <td>mg/dL</td>\n",
       "      <td>Glucose</td>\n",
       "      <td>151.0</td>\n",
       "      <td>2151-06-14</td>\n",
       "      <td>1 days 02:25:00.000000000</td>\n",
       "    </tr>\n",
       "    <tr>\n",
       "      <th>16269145</th>\n",
       "      <td>89327</td>\n",
       "      <td>163844</td>\n",
       "      <td>206931</td>\n",
       "      <td>2124-08-07 11:01:00</td>\n",
       "      <td>mg/dL</td>\n",
       "      <td>Glucose</td>\n",
       "      <td>151.0</td>\n",
       "      <td>2124-08-07</td>\n",
       "      <td>0 days 11:01:00.000000000</td>\n",
       "    </tr>\n",
       "    <tr>\n",
       "      <th>16269146</th>\n",
       "      <td>89327</td>\n",
       "      <td>163844</td>\n",
       "      <td>206931</td>\n",
       "      <td>2124-08-07 11:33:00</td>\n",
       "      <td>mg/dL</td>\n",
       "      <td>Glucose</td>\n",
       "      <td>145.0</td>\n",
       "      <td>2124-08-07</td>\n",
       "      <td>0 days 11:33:00.000000000</td>\n",
       "    </tr>\n",
       "    <tr>\n",
       "      <th>16269147</th>\n",
       "      <td>89327</td>\n",
       "      <td>163844</td>\n",
       "      <td>206931</td>\n",
       "      <td>2124-08-07 12:26:00</td>\n",
       "      <td>mg/dL</td>\n",
       "      <td>Glucose</td>\n",
       "      <td>145.0</td>\n",
       "      <td>2124-08-07</td>\n",
       "      <td>0 days 12:26:00.000000000</td>\n",
       "    </tr>\n",
       "    <tr>\n",
       "      <th>16269148</th>\n",
       "      <td>89327</td>\n",
       "      <td>163844</td>\n",
       "      <td>206931</td>\n",
       "      <td>2124-08-07 14:04:00</td>\n",
       "      <td>mg/dL</td>\n",
       "      <td>Glucose</td>\n",
       "      <td>78.0</td>\n",
       "      <td>2124-08-07</td>\n",
       "      <td>0 days 14:04:00.000000000</td>\n",
       "    </tr>\n",
       "    <tr>\n",
       "      <th>16269149</th>\n",
       "      <td>89327</td>\n",
       "      <td>163844</td>\n",
       "      <td>206931</td>\n",
       "      <td>2124-08-07 22:28:00</td>\n",
       "      <td>mg/dL</td>\n",
       "      <td>Glucose</td>\n",
       "      <td>113.0</td>\n",
       "      <td>2124-08-07</td>\n",
       "      <td>0 days 22:28:00.000000000</td>\n",
       "    </tr>\n",
       "    <tr>\n",
       "      <th>16269150</th>\n",
       "      <td>89327</td>\n",
       "      <td>163844</td>\n",
       "      <td>206931</td>\n",
       "      <td>2124-08-08 03:25:00</td>\n",
       "      <td>mg/dL</td>\n",
       "      <td>Glucose</td>\n",
       "      <td>112.0</td>\n",
       "      <td>2124-08-07</td>\n",
       "      <td>1 days 03:25:00.000000000</td>\n",
       "    </tr>\n",
       "    <tr>\n",
       "      <th>16269155</th>\n",
       "      <td>93571</td>\n",
       "      <td>183904</td>\n",
       "      <td>296383</td>\n",
       "      <td>2122-07-21 03:36:00</td>\n",
       "      <td>mg/dL</td>\n",
       "      <td>Glucose</td>\n",
       "      <td>94.0</td>\n",
       "      <td>2122-07-21</td>\n",
       "      <td>0 days 03:36:00.000000000</td>\n",
       "    </tr>\n",
       "    <tr>\n",
       "      <th>16269156</th>\n",
       "      <td>93571</td>\n",
       "      <td>183904</td>\n",
       "      <td>296383</td>\n",
       "      <td>2122-07-21 15:53:00</td>\n",
       "      <td>mg/dL</td>\n",
       "      <td>Glucose</td>\n",
       "      <td>111.0</td>\n",
       "      <td>2122-07-21</td>\n",
       "      <td>0 days 15:53:00.000000000</td>\n",
       "    </tr>\n",
       "    <tr>\n",
       "      <th>16269157</th>\n",
       "      <td>93571</td>\n",
       "      <td>183904</td>\n",
       "      <td>296383</td>\n",
       "      <td>2122-07-22 04:11:00</td>\n",
       "      <td>mg/dL</td>\n",
       "      <td>Glucose</td>\n",
       "      <td>122.0</td>\n",
       "      <td>2122-07-21</td>\n",
       "      <td>1 days 04:11:00.000000000</td>\n",
       "    </tr>\n",
       "    <tr>\n",
       "      <th>16269158</th>\n",
       "      <td>93571</td>\n",
       "      <td>183904</td>\n",
       "      <td>296383</td>\n",
       "      <td>2122-07-23 04:16:00</td>\n",
       "      <td>mg/dL</td>\n",
       "      <td>Glucose</td>\n",
       "      <td>112.0</td>\n",
       "      <td>2122-07-21</td>\n",
       "      <td>2 days 04:16:00.000000000</td>\n",
       "    </tr>\n",
       "    <tr>\n",
       "      <th>16269161</th>\n",
       "      <td>94998</td>\n",
       "      <td>117228</td>\n",
       "      <td>294773</td>\n",
       "      <td>2128-07-01 02:20:00</td>\n",
       "      <td>mg/dL</td>\n",
       "      <td>Glucose</td>\n",
       "      <td>130.0</td>\n",
       "      <td>2128-07-01</td>\n",
       "      <td>0 days 02:20:00.000000000</td>\n",
       "    </tr>\n",
       "    <tr>\n",
       "      <th>16269162</th>\n",
       "      <td>94998</td>\n",
       "      <td>117228</td>\n",
       "      <td>294773</td>\n",
       "      <td>2128-07-01 17:41:00</td>\n",
       "      <td>mg/dL</td>\n",
       "      <td>Glucose</td>\n",
       "      <td>162.0</td>\n",
       "      <td>2128-07-01</td>\n",
       "      <td>0 days 17:41:00.000000000</td>\n",
       "    </tr>\n",
       "    <tr>\n",
       "      <th>16269163</th>\n",
       "      <td>94998</td>\n",
       "      <td>117228</td>\n",
       "      <td>294773</td>\n",
       "      <td>2128-07-02 01:46:00</td>\n",
       "      <td>mg/dL</td>\n",
       "      <td>Glucose</td>\n",
       "      <td>130.0</td>\n",
       "      <td>2128-07-01</td>\n",
       "      <td>1 days 01:46:00.000000000</td>\n",
       "    </tr>\n",
       "    <tr>\n",
       "      <th>16269164</th>\n",
       "      <td>94998</td>\n",
       "      <td>117228</td>\n",
       "      <td>294773</td>\n",
       "      <td>2128-07-02 12:44:00</td>\n",
       "      <td>mg/dL</td>\n",
       "      <td>Glucose</td>\n",
       "      <td>131.0</td>\n",
       "      <td>2128-07-01</td>\n",
       "      <td>1 days 12:44:00.000000000</td>\n",
       "    </tr>\n",
       "    <tr>\n",
       "      <th>16269165</th>\n",
       "      <td>94998</td>\n",
       "      <td>117228</td>\n",
       "      <td>294773</td>\n",
       "      <td>2128-07-03 02:17:00</td>\n",
       "      <td>mg/dL</td>\n",
       "      <td>Glucose</td>\n",
       "      <td>156.0</td>\n",
       "      <td>2128-07-01</td>\n",
       "      <td>2 days 02:17:00.000000000</td>\n",
       "    </tr>\n",
       "  </tbody>\n",
       "</table>\n",
       "<p>6191812 rows × 9 columns</p>\n",
       "</div>"
      ],
      "text/plain": [
       "          subject_id  hadm_id  icustay_id            charttime    uom  \\\n",
       "5                  9   150750      220597  2149-11-13 15:20:00   mmHg   \n",
       "6                  9   150750      220597  2149-11-14 11:00:00   mmHg   \n",
       "7                  9   150750      220597  2149-11-14 12:00:00   mmHg   \n",
       "12                 9   150750      220597  2149-11-13 07:00:00   mmHg   \n",
       "13                 9   150750      220597  2149-11-14 02:00:00   mmHg   \n",
       "16                 9   150750      220597  2149-11-13 10:00:00   mmHg   \n",
       "18                 9   150750      220597  2149-11-13 00:30:00   mmHg   \n",
       "19                 9   150750      220597  2149-11-13 17:00:00   mmHg   \n",
       "29                 9   150750      220597  2149-11-13 18:00:00   mmHg   \n",
       "46                 9   150750      220597  2149-11-13 04:00:00   mmHg   \n",
       "47                 9   150750      220597  2149-11-13 20:30:00   mmHg   \n",
       "48                 9   150750      220597  2149-11-13 21:00:00   mmHg   \n",
       "49                 9   150750      220597  2149-11-13 22:00:00   mmHg   \n",
       "59                 9   150750      220597  2149-11-13 13:00:00   mmHg   \n",
       "60                 9   150750      220597  2149-11-13 14:00:00   mmHg   \n",
       "61                 9   150750      220597  2149-11-14 09:00:00   mmHg   \n",
       "64                 9   150750      220597  2149-11-13 05:00:00   mmHg   \n",
       "73                 9   150750      220597  2149-11-14 10:00:00   mmHg   \n",
       "79                 9   150750      220597  2149-11-14 01:00:00   mmHg   \n",
       "85                 9   150750      220597  2149-11-13 00:00:00   mmHg   \n",
       "89                 9   150750      220597  2149-11-13 09:00:00   mmHg   \n",
       "90                 9   150750      220597  2149-11-14 05:00:00   mmHg   \n",
       "97                 9   150750      220597  2149-11-13 02:00:00   mmHg   \n",
       "101                9   150750      220597  2149-11-13 03:00:00   mmHg   \n",
       "102                9   150750      220597  2149-11-13 03:15:00   mmHg   \n",
       "115                9   150750      220597  2149-11-13 15:30:00   mmHg   \n",
       "126                9   150750      220597  2149-11-13 15:45:00   mmHg   \n",
       "127                9   150750      220597  2149-11-13 15:50:00   mmHg   \n",
       "128                9   150750      220597  2149-11-13 15:55:00   mmHg   \n",
       "129                9   150750      220597  2149-11-14 13:00:00   mmHg   \n",
       "...              ...      ...         ...                  ...    ...   \n",
       "16269121       53466   185052      262521  2198-04-05 11:55:00  mg/dL   \n",
       "16269122       53466   185052      262521  2198-04-06 02:20:00  mg/dL   \n",
       "16269123       53466   185052      262521  2198-04-06 11:53:00  mg/dL   \n",
       "16269125       53466   185052      262521  2198-04-06 14:14:00  mg/dL   \n",
       "16269126       53466   185052      262521  2198-04-07 02:14:00  mg/dL   \n",
       "16269127       53466   185052      262521  2198-04-07 14:13:00  mg/dL   \n",
       "16269131       53466   185052      262521  2198-04-05 01:45:00  mg/dL   \n",
       "16269137       73223   135039      278629  2174-05-04 02:09:00  mg/dL   \n",
       "16269138       73223   135039      278629  2174-05-04 12:33:00  mg/dL   \n",
       "16269139       73223   135039      278629  2174-05-05 03:22:00  mg/dL   \n",
       "16269140       75257   114666      237645  2151-06-14 11:15:00  mg/dL   \n",
       "16269141       75257   114666      237645  2151-06-14 16:20:00  mg/dL   \n",
       "16269142       75257   114666      237645  2151-06-14 18:11:00  mg/dL   \n",
       "16269143       75257   114666      237645  2151-06-14 22:27:00  mg/dL   \n",
       "16269144       75257   114666      237645  2151-06-15 02:25:00  mg/dL   \n",
       "16269145       89327   163844      206931  2124-08-07 11:01:00  mg/dL   \n",
       "16269146       89327   163844      206931  2124-08-07 11:33:00  mg/dL   \n",
       "16269147       89327   163844      206931  2124-08-07 12:26:00  mg/dL   \n",
       "16269148       89327   163844      206931  2124-08-07 14:04:00  mg/dL   \n",
       "16269149       89327   163844      206931  2124-08-07 22:28:00  mg/dL   \n",
       "16269150       89327   163844      206931  2124-08-08 03:25:00  mg/dL   \n",
       "16269155       93571   183904      296383  2122-07-21 03:36:00  mg/dL   \n",
       "16269156       93571   183904      296383  2122-07-21 15:53:00  mg/dL   \n",
       "16269157       93571   183904      296383  2122-07-22 04:11:00  mg/dL   \n",
       "16269158       93571   183904      296383  2122-07-23 04:16:00  mg/dL   \n",
       "16269161       94998   117228      294773  2128-07-01 02:20:00  mg/dL   \n",
       "16269162       94998   117228      294773  2128-07-01 17:41:00  mg/dL   \n",
       "16269163       94998   117228      294773  2128-07-02 01:46:00  mg/dL   \n",
       "16269164       94998   117228      294773  2128-07-02 12:44:00  mg/dL   \n",
       "16269165       94998   117228      294773  2128-07-03 02:17:00  mg/dL   \n",
       "\n",
       "               vitalid  valuenum         t_0                      delta  \n",
       "5         MeanArtPress      61.0  2149-11-13  0 days 15:20:00.000000000  \n",
       "6         MeanArtPress     103.0  2149-11-13  1 days 11:00:00.000000000  \n",
       "7         MeanArtPress     134.0  2149-11-13  1 days 12:00:00.000000000  \n",
       "12        MeanArtPress      85.0  2149-11-13  0 days 07:00:00.000000000  \n",
       "13        MeanArtPress      96.0  2149-11-13  1 days 02:00:00.000000000  \n",
       "16        MeanArtPress      92.0  2149-11-13  0 days 10:00:00.000000000  \n",
       "18        MeanArtPress     104.0  2149-11-13  0 days 00:30:00.000000000  \n",
       "19        MeanArtPress      84.0  2149-11-13  0 days 17:00:00.000000000  \n",
       "29        MeanArtPress      93.0  2149-11-13  0 days 18:00:00.000000000  \n",
       "46        MeanArtPress     104.0  2149-11-13  0 days 04:00:00.000000000  \n",
       "47        MeanArtPress     102.0  2149-11-13  0 days 20:30:00.000000000  \n",
       "48        MeanArtPress      97.0  2149-11-13  0 days 21:00:00.000000000  \n",
       "49        MeanArtPress      94.0  2149-11-13  0 days 22:00:00.000000000  \n",
       "59        MeanArtPress     104.0  2149-11-13  0 days 13:00:00.000000000  \n",
       "60        MeanArtPress     111.0  2149-11-13  0 days 14:00:00.000000000  \n",
       "61        MeanArtPress     106.0  2149-11-13  1 days 09:00:00.000000000  \n",
       "64        MeanArtPress     105.0  2149-11-13  0 days 05:00:00.000000000  \n",
       "73        MeanArtPress      80.0  2149-11-13  1 days 10:00:00.000000000  \n",
       "79        MeanArtPress      96.0  2149-11-13  1 days 01:00:00.000000000  \n",
       "85        MeanArtPress     102.0  2149-11-13  0 days 00:00:00.000000000  \n",
       "89        MeanArtPress      97.0  2149-11-13  0 days 09:00:00.000000000  \n",
       "90        MeanArtPress      89.0  2149-11-13  1 days 05:00:00.000000000  \n",
       "97        MeanArtPress     107.0  2149-11-13  0 days 02:00:00.000000000  \n",
       "101       MeanArtPress     101.0  2149-11-13  0 days 03:00:00.000000000  \n",
       "102       MeanArtPress     101.0  2149-11-13  0 days 03:15:00.000000000  \n",
       "115       MeanArtPress      59.0  2149-11-13  0 days 15:30:00.000000000  \n",
       "126       MeanArtPress      70.0  2149-11-13  0 days 15:45:00.000000000  \n",
       "127       MeanArtPress      68.0  2149-11-13  0 days 15:50:00.000000000  \n",
       "128       MeanArtPress     124.0  2149-11-13  0 days 15:55:00.000000000  \n",
       "129       MeanArtPress      92.0  2149-11-13  1 days 13:00:00.000000000  \n",
       "...                ...       ...         ...                        ...  \n",
       "16269121       Glucose     125.0  2198-04-05  0 days 11:55:00.000000000  \n",
       "16269122       Glucose     122.0  2198-04-05  1 days 02:20:00.000000000  \n",
       "16269123       Glucose     111.0  2198-04-05  1 days 11:53:00.000000000  \n",
       "16269125       Glucose     108.0  2198-04-05  1 days 14:14:00.000000000  \n",
       "16269126       Glucose     109.0  2198-04-05  2 days 02:14:00.000000000  \n",
       "16269127       Glucose     106.0  2198-04-05  2 days 14:13:00.000000000  \n",
       "16269131       Glucose     128.0  2198-04-05  0 days 01:45:00.000000000  \n",
       "16269137       Glucose      89.0  2174-05-04  0 days 02:09:00.000000000  \n",
       "16269138       Glucose      73.0  2174-05-04  0 days 12:33:00.000000000  \n",
       "16269139       Glucose     160.0  2174-05-04  1 days 03:22:00.000000000  \n",
       "16269140       Glucose     227.0  2151-06-14  0 days 11:15:00.000000000  \n",
       "16269141       Glucose      96.0  2151-06-14  0 days 16:20:00.000000000  \n",
       "16269142       Glucose     110.0  2151-06-14  0 days 18:11:00.000000000  \n",
       "16269143       Glucose     130.0  2151-06-14  0 days 22:27:00.000000000  \n",
       "16269144       Glucose     151.0  2151-06-14  1 days 02:25:00.000000000  \n",
       "16269145       Glucose     151.0  2124-08-07  0 days 11:01:00.000000000  \n",
       "16269146       Glucose     145.0  2124-08-07  0 days 11:33:00.000000000  \n",
       "16269147       Glucose     145.0  2124-08-07  0 days 12:26:00.000000000  \n",
       "16269148       Glucose      78.0  2124-08-07  0 days 14:04:00.000000000  \n",
       "16269149       Glucose     113.0  2124-08-07  0 days 22:28:00.000000000  \n",
       "16269150       Glucose     112.0  2124-08-07  1 days 03:25:00.000000000  \n",
       "16269155       Glucose      94.0  2122-07-21  0 days 03:36:00.000000000  \n",
       "16269156       Glucose     111.0  2122-07-21  0 days 15:53:00.000000000  \n",
       "16269157       Glucose     122.0  2122-07-21  1 days 04:11:00.000000000  \n",
       "16269158       Glucose     112.0  2122-07-21  2 days 04:16:00.000000000  \n",
       "16269161       Glucose     130.0  2128-07-01  0 days 02:20:00.000000000  \n",
       "16269162       Glucose     162.0  2128-07-01  0 days 17:41:00.000000000  \n",
       "16269163       Glucose     130.0  2128-07-01  1 days 01:46:00.000000000  \n",
       "16269164       Glucose     131.0  2128-07-01  1 days 12:44:00.000000000  \n",
       "16269165       Glucose     156.0  2128-07-01  2 days 02:17:00.000000000  \n",
       "\n",
       "[6191812 rows x 9 columns]"
      ]
     },
     "execution_count": 21,
     "metadata": {},
     "output_type": "execute_result"
    },
    {
     "name": "stdout",
     "output_type": "stream",
     "text": [
      "time: 32.7 ms\n"
     ]
    }
   ],
   "source": [
    "vitals_all_nosummary_nonull.head()"
   ]
  },
  {
   "cell_type": "code",
   "execution_count": 92,
   "metadata": {},
   "outputs": [
    {
     "data": {
      "text/plain": [
       "vitalid       uom     \n",
       "DiasBP        mmHg         920800\n",
       "Glucose       mg/dL         38696\n",
       "HeartRate     bpm          955108\n",
       "MeanArtPress  mmHg         933617\n",
       "RespRate      insp/min    1043762\n",
       "SpO2          %            929932\n",
       "SysBP         mmHg         921226\n",
       "TempC         Deg. C       255419\n",
       "Name: uom, dtype: int64"
      ]
     },
     "execution_count": 92,
     "metadata": {},
     "output_type": "execute_result"
    },
    {
     "name": "stdout",
     "output_type": "stream",
     "text": [
      "time: 1.62 s\n"
     ]
    }
   ],
   "source": [
    "vitals_all_nosummary_nonull.groupby('vitalid')['uom'].value_counts() #looks good"
   ]
  },
  {
   "cell_type": "code",
   "execution_count": 93,
   "metadata": {},
   "outputs": [
    {
     "name": "stdout",
     "output_type": "stream",
     "text": [
      "time: 41.1 s\n"
     ]
    }
   ],
   "source": [
    "pd.DataFrame(vitals_all_nosummary_nonull).to_csv(Path(\n",
    "    wd+'/data/processed/%s_vitals_all_nosummary_nonull.csv' %(date)))\n"
   ]
  },
  {
   "cell_type": "markdown",
   "metadata": {},
   "source": [
    "# labs -"
   ]
  },
  {
   "cell_type": "code",
   "execution_count": 96,
   "metadata": {},
   "outputs": [
    {
     "name": "stdout",
     "output_type": "stream",
     "text": [
      "time: 7.04 ms\n"
     ]
    }
   ],
   "source": [
    "#importing unit of mesurements:\n",
    "def uom_sql_import(file_path):\n",
    "    if isinstance(file_path, str)== True:\n",
    "        f = open(Path(file_path), 'r')\n",
    "    else:\n",
    "        f = open(Path(str(file_path)), 'r')\n",
    "\n",
    "    SQL = open(file_path,'r').read()\n",
    "    SQL_df= pd.read_sql_query(SQL,conn)   \n",
    "    return(SQL_df)"
   ]
  },
  {
   "cell_type": "code",
   "execution_count": 97,
   "metadata": {},
   "outputs": [
    {
     "name": "stdout",
     "output_type": "stream",
     "text": [
      "time: 22.1 s\n"
     ]
    }
   ],
   "source": [
    "lab_uom= uom_sql_import(Path(wd+'/data/raw/clinical_var_sql/unit_of_mesurement/labs_uom.sql'))\n",
    "labs_all_nosummary_72 = pd.merge(labs_all_nosummary_72, lab_uom, left_on='label', right_on='label')\n",
    "del(lab_uom)"
   ]
  },
  {
   "cell_type": "code",
   "execution_count": 99,
   "metadata": {},
   "outputs": [
    {
     "data": {
      "text/plain": [
       "label        uom    \n",
       "ALBUMIN      g/dL       10756\n",
       "ANION GAP    mEq/L      61650\n",
       "BANDS        %           3516\n",
       "BICARBONATE  mEq/L      62606\n",
       "BILIRUBIN    mg/dL      17814\n",
       "BUN          mg/dL      63051\n",
       "CHLORIDE     mEq/L      68812\n",
       "CREATININE   mg/dL      63315\n",
       "GLUCOSE      mg/dL      81925\n",
       "HEMATOCRIT   %          78508\n",
       "HEMOGLOBIN   g/dL       64940\n",
       "LACTATE      mmol/L     34490\n",
       "PLATELET     K/uL       58060\n",
       "POTASSIUM    mEq/L      86455\n",
       "PT           SECONDS    39677\n",
       "PTT          sec        41760\n",
       "SODIUM       mEq/L      71894\n",
       "WBC          K/uL       56390\n",
       "Name: uom, dtype: int64"
      ]
     },
     "execution_count": 99,
     "metadata": {},
     "output_type": "execute_result"
    },
    {
     "name": "stdout",
     "output_type": "stream",
     "text": [
      "time: 485 ms\n"
     ]
    }
   ],
   "source": [
    "labs_all_nosummary_72.groupby('label')['uom'].value_counts() #looks good"
   ]
  },
  {
   "cell_type": "code",
   "execution_count": null,
   "metadata": {},
   "outputs": [],
   "source": [
    "#outliers"
   ]
  },
  {
   "cell_type": "code",
   "execution_count": null,
   "metadata": {},
   "outputs": [],
   "source": [
    "#summary value removal\n",
    "(labs_all_nosummary_72.loc[\n",
    "    (labs_all_nosummary_72.loc[:,'icustay_id']==261887) & \n",
    "    (labs_all_nosummary_72.loc[:,'label']=='CHLORIDE')\n",
    "    & (labs_all_nosummary_72.loc[:,'value']==3.4),'value'])=np.nan\n",
    "\n",
    "(labs_all_nosummary_72.loc[\n",
    "    (labs_all_nosummary_72.loc[:,'icustay_id']==236290) & \n",
    "    (labs_all_nosummary_72.loc[:,'label']=='CHLORIDE')\n",
    "    & (labs_all_nosummary_72.loc[:,'value']==11.0),'value'])=np.nan\n",
    "\n",
    "(labs_all_nosummary_72.loc[\n",
    "    (labs_all_nosummary_72.loc[:,'icustay_id']==292769) & \n",
    "    (labs_all_nosummary_72.loc[:,'label']=='INR')\n",
    "    & (labs_all_nosummary_72.loc[:,'value']==28.1),'value'])=np.nan\n",
    "\n",
    "(labs_all_nosummary_72.loc[\n",
    "    (labs_all_nosummary_72.loc[:,'icustay_id']==298457) & \n",
    "    (labs_all_nosummary_72.loc[:,'label']=='INR')\n",
    "    & (labs_all_nosummary_72.loc[:,'value']==48.8),'value'])=np.nan\n",
    "\n",
    "(labs_all_nosummary_72.loc[\n",
    "    (labs_all_nosummary_72.loc[:,'icustay_id']==234174) & \n",
    "    (labs_all_nosummary_72.loc[:,'label']=='INR')\n",
    "    & (labs_all_nosummary_72.loc[:,'value']==48.7),'value'])=np.nan\n",
    "\n",
    "(labs_all_nosummary_72.loc[\n",
    "    (labs_all_nosummary_72.loc[:,'icustay_id']==290264) & \n",
    "    (labs_all_nosummary_72.loc[:,'label']=='INR')\n",
    "    & (labs_all_nosummary_72.loc[:,'value']==42.0),'value'])=np.nan\n",
    "\n",
    "(labs_all_nosummary_72.loc[\n",
    "    (labs_all_nosummary_72.loc[:,'icustay_id']==290264) & \n",
    "    (labs_all_nosummary_72.loc[:,'label']=='INR')\n",
    "    & (labs_all_nosummary_72.loc[:,'value']==22.8),'value'])=np.nan"
   ]
  },
  {
   "cell_type": "code",
   "execution_count": 104,
   "metadata": {},
   "outputs": [
    {
     "name": "stdout",
     "output_type": "stream",
     "text": [
      "time: 7.32 s\n"
     ]
    }
   ],
   "source": [
    "labs_all_nosummary_72= labs_all_nosummary_72.loc[labs_all_nosummary_72.loc[:,'value'].notnull(),:]\n",
    "\n",
    "\n",
    "pd.DataFrame(labs_all_nosummary_72).to_csv(Path(\n",
    "    wd+'/data/processed/%s_labs_all_nosummary_72.csv' %(date)))"
   ]
  },
  {
   "cell_type": "markdown",
   "metadata": {},
   "source": [
    "## vent category -"
   ]
  },
  {
   "cell_type": "code",
   "execution_count": 101,
   "metadata": {},
   "outputs": [
    {
     "name": "stderr",
     "output_type": "stream",
     "text": [
      "/Users/geickelb1/anaconda/envs/rpy-env/lib/python3.6/site-packages/ipykernel_launcher.py:1: SettingWithCopyWarning: \n",
      "A value is trying to be set on a copy of a slice from a DataFrame.\n",
      "Try using .loc[row_indexer,col_indexer] = value instead\n",
      "\n",
      "See the caveats in the documentation: http://pandas.pydata.org/pandas-docs/stable/indexing.html#indexing-view-versus-copy\n",
      "  \"\"\"Entry point for launching an IPython kernel.\n",
      "/Users/geickelb1/anaconda/envs/rpy-env/lib/python3.6/site-packages/ipykernel_launcher.py:2: SettingWithCopyWarning: \n",
      "A value is trying to be set on a copy of a slice from a DataFrame.\n",
      "Try using .loc[row_indexer,col_indexer] = value instead\n",
      "\n",
      "See the caveats in the documentation: http://pandas.pydata.org/pandas-docs/stable/indexing.html#indexing-view-versus-copy\n",
      "  \n"
     ]
    },
    {
     "data": {
      "text/html": [
       "<div>\n",
       "<style scoped>\n",
       "    .dataframe tbody tr th:only-of-type {\n",
       "        vertical-align: middle;\n",
       "    }\n",
       "\n",
       "    .dataframe tbody tr th {\n",
       "        vertical-align: top;\n",
       "    }\n",
       "\n",
       "    .dataframe thead th {\n",
       "        text-align: right;\n",
       "    }\n",
       "</style>\n",
       "<table border=\"1\" class=\"dataframe\">\n",
       "  <thead>\n",
       "    <tr style=\"text-align: right;\">\n",
       "      <th></th>\n",
       "      <th>icustay_id</th>\n",
       "      <th>t_0</th>\n",
       "      <th>vent_day1</th>\n",
       "      <th>vent_day2</th>\n",
       "      <th>vent_day3</th>\n",
       "      <th>uom</th>\n",
       "      <th>dtype</th>\n",
       "    </tr>\n",
       "  </thead>\n",
       "  <tbody>\n",
       "    <tr>\n",
       "      <th>0</th>\n",
       "      <td>267059.0</td>\n",
       "      <td>2182-11-12</td>\n",
       "      <td>Mech</td>\n",
       "      <td>None</td>\n",
       "      <td>None</td>\n",
       "      <td>category</td>\n",
       "      <td>factor</td>\n",
       "    </tr>\n",
       "    <tr>\n",
       "      <th>1</th>\n",
       "      <td>278729.0</td>\n",
       "      <td>2159-11-08</td>\n",
       "      <td>Oxygen</td>\n",
       "      <td>Mech</td>\n",
       "      <td>None</td>\n",
       "      <td>category</td>\n",
       "      <td>factor</td>\n",
       "    </tr>\n",
       "    <tr>\n",
       "      <th>2</th>\n",
       "      <td>219670.0</td>\n",
       "      <td>2190-08-01</td>\n",
       "      <td>Oxygen</td>\n",
       "      <td>None</td>\n",
       "      <td>None</td>\n",
       "      <td>category</td>\n",
       "      <td>factor</td>\n",
       "    </tr>\n",
       "    <tr>\n",
       "      <th>3</th>\n",
       "      <td>295185.0</td>\n",
       "      <td>2154-11-11</td>\n",
       "      <td>Oxygen</td>\n",
       "      <td>None</td>\n",
       "      <td>None</td>\n",
       "      <td>category</td>\n",
       "      <td>factor</td>\n",
       "    </tr>\n",
       "    <tr>\n",
       "      <th>4</th>\n",
       "      <td>211472.0</td>\n",
       "      <td>2193-12-11</td>\n",
       "      <td>None</td>\n",
       "      <td>None</td>\n",
       "      <td>None</td>\n",
       "      <td>category</td>\n",
       "      <td>factor</td>\n",
       "    </tr>\n",
       "  </tbody>\n",
       "</table>\n",
       "</div>"
      ],
      "text/plain": [
       "   icustay_id         t_0 vent_day1 vent_day2 vent_day3       uom   dtype\n",
       "0    267059.0  2182-11-12      Mech      None      None  category  factor\n",
       "1    278729.0  2159-11-08    Oxygen      Mech      None  category  factor\n",
       "2    219670.0  2190-08-01    Oxygen      None      None  category  factor\n",
       "3    295185.0  2154-11-11    Oxygen      None      None  category  factor\n",
       "4    211472.0  2193-12-11      None      None      None  category  factor"
      ]
     },
     "execution_count": 101,
     "metadata": {},
     "output_type": "execute_result"
    },
    {
     "name": "stdout",
     "output_type": "stream",
     "text": [
      "time: 137 ms\n"
     ]
    }
   ],
   "source": [
    "ventcategory_df['uom']='category'\n",
    "#ventcategory_df['dtype']= 'factor'\n",
    "ventcategory_df.head()"
   ]
  },
  {
   "cell_type": "code",
   "execution_count": 103,
   "metadata": {},
   "outputs": [
    {
     "name": "stdout",
     "output_type": "stream",
     "text": [
      "time: 67.5 ms\n"
     ]
    }
   ],
   "source": [
    "pd.DataFrame(ventcategory_df).to_csv(Path(\n",
    "    wd+'/data/processed/%s_ventcategory_df.csv' %(date)))"
   ]
  },
  {
   "cell_type": "markdown",
   "metadata": {},
   "source": [
    "## weight and height firstday -\n",
    "i explored weightdurations and it had more missing values than weightfirstday, so i will use that. we can revisit this if we need longitudinal weights"
   ]
  },
  {
   "cell_type": "code",
   "execution_count": 105,
   "metadata": {},
   "outputs": [
    {
     "name": "stdout",
     "output_type": "stream",
     "text": [
      "time: 53.9 ms\n"
     ]
    },
    {
     "name": "stderr",
     "output_type": "stream",
     "text": [
      "/Users/geickelb1/anaconda/envs/rpy-env/lib/python3.6/site-packages/ipykernel_launcher.py:1: SettingWithCopyWarning: \n",
      "A value is trying to be set on a copy of a slice from a DataFrame.\n",
      "Try using .loc[row_indexer,col_indexer] = value instead\n",
      "\n",
      "See the caveats in the documentation: http://pandas.pydata.org/pandas-docs/stable/indexing.html#indexing-view-versus-copy\n",
      "  \"\"\"Entry point for launching an IPython kernel.\n"
     ]
    }
   ],
   "source": [
    "weightfirstday_df['uom']='kg'"
   ]
  },
  {
   "cell_type": "code",
   "execution_count": 3,
   "metadata": {},
   "outputs": [
    {
     "ename": "NameError",
     "evalue": "name 'weightfirstday_df' is not defined",
     "output_type": "error",
     "traceback": [
      "\u001b[0;31m---------------------------------------------------------------------------\u001b[0m",
      "\u001b[0;31mNameError\u001b[0m                                 Traceback (most recent call last)",
      "\u001b[0;32m<ipython-input-3-0af3f5c31bfd>\u001b[0m in \u001b[0;36m<module>\u001b[0;34m()\u001b[0m\n\u001b[0;32m----> 1\u001b[0;31m \u001b[0mweightfirstday_df\u001b[0m\u001b[0;34m.\u001b[0m\u001b[0mhead\u001b[0m\u001b[0;34m(\u001b[0m\u001b[0;34m)\u001b[0m\u001b[0;34m\u001b[0m\u001b[0m\n\u001b[0m",
      "\u001b[0;31mNameError\u001b[0m: name 'weightfirstday_df' is not defined"
     ]
    }
   ],
   "source": [
    "weightfirstday_df.head()"
   ]
  },
  {
   "cell_type": "code",
   "execution_count": 107,
   "metadata": {},
   "outputs": [
    {
     "name": "stdout",
     "output_type": "stream",
     "text": [
      "time: 112 ms\n"
     ]
    }
   ],
   "source": [
    "pd.DataFrame(weightfirstday_df).to_csv(Path(\n",
    "    wd+'/data/processed/%s_weightfirstday_df.csv' %(date)))"
   ]
  },
  {
   "cell_type": "code",
   "execution_count": 108,
   "metadata": {},
   "outputs": [
    {
     "name": "stdout",
     "output_type": "stream",
     "text": [
      "time: 48.4 ms\n"
     ]
    },
    {
     "name": "stderr",
     "output_type": "stream",
     "text": [
      "/Users/geickelb1/anaconda/envs/rpy-env/lib/python3.6/site-packages/ipykernel_launcher.py:1: SettingWithCopyWarning: \n",
      "A value is trying to be set on a copy of a slice from a DataFrame.\n",
      "Try using .loc[row_indexer,col_indexer] = value instead\n",
      "\n",
      "See the caveats in the documentation: http://pandas.pydata.org/pandas-docs/stable/indexing.html#indexing-view-versus-copy\n",
      "  \"\"\"Entry point for launching an IPython kernel.\n"
     ]
    }
   ],
   "source": [
    "heightfirstday_df['uom']='cm'"
   ]
  },
  {
   "cell_type": "code",
   "execution_count": 109,
   "metadata": {},
   "outputs": [
    {
     "name": "stdout",
     "output_type": "stream",
     "text": [
      "time: 84.4 ms\n"
     ]
    }
   ],
   "source": [
    "pd.DataFrame(heightfirstday_df).to_csv(Path(\n",
    "    wd+'/data/processed/%s_heightfirstday_df.csv' %(date)))"
   ]
  },
  {
   "cell_type": "markdown",
   "metadata": {},
   "source": [
    "# UTI"
   ]
  },
  {
   "cell_type": "code",
   "execution_count": null,
   "metadata": {},
   "outputs": [],
   "source": []
  },
  {
   "cell_type": "code",
   "execution_count": 125,
   "metadata": {},
   "outputs": [
    {
     "data": {
      "text/plain": [
       "array(['Leukocytes', 'Nitrite'], dtype=object)"
      ]
     },
     "execution_count": 125,
     "metadata": {},
     "output_type": "execute_result"
    },
    {
     "name": "stdout",
     "output_type": "stream",
     "text": [
      "time: 7.64 ms\n"
     ]
    }
   ],
   "source": [
    "uti_all_72_notnull['label'].unique()"
   ]
  },
  {
   "cell_type": "code",
   "execution_count": 126,
   "metadata": {},
   "outputs": [
    {
     "data": {
      "text/plain": [
       "array(['Hematology'], dtype=object)"
      ]
     },
     "execution_count": 126,
     "metadata": {},
     "output_type": "execute_result"
    },
    {
     "name": "stdout",
     "output_type": "stream",
     "text": [
      "time: 8.77 ms\n"
     ]
    }
   ],
   "source": [
    "uti_all_72_notnull['category'].unique()"
   ]
  },
  {
   "cell_type": "code",
   "execution_count": 128,
   "metadata": {},
   "outputs": [
    {
     "data": {
      "text/plain": [
       "array(['NEG', 'MOD', 'TR', 'POS', 'SM', 'LG', 'SMALL'], dtype=object)"
      ]
     },
     "execution_count": 128,
     "metadata": {},
     "output_type": "execute_result"
    },
    {
     "name": "stdout",
     "output_type": "stream",
     "text": [
      "time: 6.84 ms\n"
     ]
    }
   ],
   "source": [
    "uti_all_72_notnull['value'].unique()#seems good"
   ]
  },
  {
   "cell_type": "code",
   "execution_count": 11,
   "metadata": {},
   "outputs": [
    {
     "name": "stdout",
     "output_type": "stream",
     "text": [
      "time: 52 ms\n"
     ]
    }
   ],
   "source": [
    "uti_all_72_pos= uti_all_72.loc[(uti_all_72.loc[:,'value']!='NEG')&\n",
    "               uti_all_72.loc[:,'value'].notnull(),:]\n",
    "uti_all_72_pos= uti_all_72_pos.drop_duplicates(subset=['hadm_id','value','charttime'])"
   ]
  },
  {
   "cell_type": "code",
   "execution_count": 16,
   "metadata": {},
   "outputs": [
    {
     "name": "stdout",
     "output_type": "stream",
     "text": [
      "time: 14.3 ms\n"
     ]
    }
   ],
   "source": [
    "###coding any positive leukocyte or nitrate between day 1,2 or 3 for all patients. if time granularity is later needed for models, need to revisit this data to get the exact delta value\n",
    "\n",
    "def uti_categorization(final_pt_df2, uti_all_72_pos):\n",
    "    \n",
    "    uti_df_3dayannotation= final_pt_df2[['subject_id','hadm_id','t_0']]\n",
    "    uti_df_3dayannotation['uti_day1']='Neg/Not_tested'\n",
    "    uti_df_3dayannotation['uti_day2']='Neg/Not_tested' \n",
    "    uti_df_3dayannotation['uti_day3']='Neg/Not_tested' \n",
    "\n",
    "    pos_1= uti_all_72_pos.loc[uti_all_72_pos['delta'].between('0 days','1 days'),'hadm_id'].tolist()\n",
    "    pos_2= uti_all_72_pos.loc[uti_all_72_pos['delta'].between('1 days','2 days'),'hadm_id'].tolist()\n",
    "    pos_3= uti_all_72_pos.loc[uti_all_72_pos['delta'].between('2 days','3 days'),'hadm_id'].tolist()\n",
    "\n",
    "    uti_df_3dayannotation.loc[uti_df_3dayannotation.loc[:,'hadm_id'].isin(pos_1),'uti_day1']='Pos'\n",
    "    uti_df_3dayannotation.loc[uti_df_3dayannotation.loc[:,'hadm_id'].isin(pos_2),'uti_day2']='Pos'\n",
    "    uti_df_3dayannotation.loc[uti_df_3dayannotation.loc[:,'hadm_id'].isin(pos_3),'uti_day3']='Pos'\n",
    "    \n",
    "    return(uti_df_3dayannotation)"
   ]
  },
  {
   "cell_type": "code",
   "execution_count": 17,
   "metadata": {},
   "outputs": [
    {
     "name": "stdout",
     "output_type": "stream",
     "text": [
      "time: 167 ms\n"
     ]
    },
    {
     "name": "stderr",
     "output_type": "stream",
     "text": [
      "/Users/geickelb1/anaconda/envs/rpy-env/lib/python3.6/site-packages/ipykernel_launcher.py:6: SettingWithCopyWarning: \n",
      "A value is trying to be set on a copy of a slice from a DataFrame.\n",
      "Try using .loc[row_indexer,col_indexer] = value instead\n",
      "\n",
      "See the caveats in the documentation: http://pandas.pydata.org/pandas-docs/stable/indexing.html#indexing-view-versus-copy\n",
      "  \n",
      "/Users/geickelb1/anaconda/envs/rpy-env/lib/python3.6/site-packages/ipykernel_launcher.py:7: SettingWithCopyWarning: \n",
      "A value is trying to be set on a copy of a slice from a DataFrame.\n",
      "Try using .loc[row_indexer,col_indexer] = value instead\n",
      "\n",
      "See the caveats in the documentation: http://pandas.pydata.org/pandas-docs/stable/indexing.html#indexing-view-versus-copy\n",
      "  import sys\n",
      "/Users/geickelb1/anaconda/envs/rpy-env/lib/python3.6/site-packages/ipykernel_launcher.py:8: SettingWithCopyWarning: \n",
      "A value is trying to be set on a copy of a slice from a DataFrame.\n",
      "Try using .loc[row_indexer,col_indexer] = value instead\n",
      "\n",
      "See the caveats in the documentation: http://pandas.pydata.org/pandas-docs/stable/indexing.html#indexing-view-versus-copy\n",
      "  \n",
      "/Users/geickelb1/anaconda/envs/rpy-env/lib/python3.6/site-packages/pandas/core/indexing.py:543: SettingWithCopyWarning: \n",
      "A value is trying to be set on a copy of a slice from a DataFrame.\n",
      "Try using .loc[row_indexer,col_indexer] = value instead\n",
      "\n",
      "See the caveats in the documentation: http://pandas.pydata.org/pandas-docs/stable/indexing.html#indexing-view-versus-copy\n",
      "  self.obj[item] = s\n"
     ]
    }
   ],
   "source": [
    "uti_categorization= uti_categorization(final_pt_df2, uti_all_72_pos)"
   ]
  },
  {
   "cell_type": "code",
   "execution_count": 19,
   "metadata": {},
   "outputs": [
    {
     "name": "stdout",
     "output_type": "stream",
     "text": [
      "time: 74 ms\n"
     ]
    }
   ],
   "source": [
    "# pd.DataFrame(uti_all_72_notnull).to_csv(Path(\n",
    "#     wd+'/data/processed/%s_uti_all_72_notnull.csv' %(date)))\n",
    "\n",
    "pd.DataFrame(uti_categorization).to_csv(Path(\n",
    "    wd+'/data/processed/%s_uti_categorization.csv' %(date)))"
   ]
  },
  {
   "cell_type": "markdown",
   "metadata": {},
   "source": [
    "# bloodgas"
   ]
  },
  {
   "cell_type": "code",
   "execution_count": null,
   "metadata": {},
   "outputs": [],
   "source": [
    "bg_all_nosummary_72= bg_all_nosummary_72.loc[bg_all_nosummary_72['value'].notnull(),:]\n",
    "bg_all_nosummary_72 = bg_all_nosummary_72.rename(index=str, columns={'valueuom':'uom'})\n",
    "bg_all_nosummary_72= bg_all_nosummary_72.loc[~(bg_all_nosummary_72.loc[:,'value']=='.'),:] #removing value= ' .'\n",
    "\n",
    "#may need to remove outliers, haven't done as of 10/22/18\n",
    "bg_all_nosummary_72.head()"
   ]
  },
  {
   "cell_type": "code",
   "execution_count": 130,
   "metadata": {},
   "outputs": [
    {
     "name": "stdout",
     "output_type": "stream",
     "text": [
      "time: 5.63 s\n"
     ]
    }
   ],
   "source": [
    "pd.DataFrame(bg_all_nosummary_72).to_csv(Path(\n",
    "    wd+'/data/processed/%s_bg_all_nosummary_72.csv' %(date)))"
   ]
  },
  {
   "cell_type": "code",
   "execution_count": null,
   "metadata": {},
   "outputs": [],
   "source": [
    "#may need to "
   ]
  },
  {
   "cell_type": "markdown",
   "metadata": {},
   "source": [
    "#### outlier removal\n",
    "\n",
    "NOTE: these are hard coded to positioning. if anything in the bg_all_nosummary is changed than these positions need to be updated. "
   ]
  },
  {
   "cell_type": "code",
   "execution_count": null,
   "metadata": {},
   "outputs": [],
   "source": [
    "##calcium\n",
    "\n",
    "#fixing the calcium errors w/o hard coding\n",
    "(bg_all_nosummary_72.loc[\n",
    "    (bg_all_nosummary_72.loc[:,'icustay_id']==249571) & \n",
    "    (bg_all_nosummary_72.loc[:,'label']=='CALCIUM')\n",
    "    & (bg_all_nosummary_72.loc[:,'valuenum']==94.00),'valuenum'])=0.94#.where('valuenum'==94.00))\n",
    "\n",
    "(bg_all_nosummary_72.loc[\n",
    "    (bg_all_nosummary_72.loc[:,'icustay_id']==249571) & \n",
    "    (bg_all_nosummary_72.loc[:,'label']=='CALCIUM')\n",
    "    & (bg_all_nosummary_72.loc[:,'value']=='094'),'value'])=0.94#.where('valuenum'==94.00))\n",
    "\n",
    "\n",
    "(bg_all_nosummary_72.loc[\n",
    "    (bg_all_nosummary_72.loc[:,'icustay_id']==219600) & \n",
    "    (bg_all_nosummary_72.loc[:,'label']=='CALCIUM')\n",
    "    & (bg_all_nosummary_72.loc[:,'valuenum']==97.00),'valuenum'])=0.97#.where('valuenum'==94.00))\n",
    "\n",
    "(bg_all_nosummary_72.loc[\n",
    "    (bg_all_nosummary_72.loc[:,'icustay_id']==219600) & \n",
    "    (bg_all_nosummary_72.loc[:,'label']=='CALCIUM')\n",
    "    & (bg_all_nosummary_72.loc[:,'value']=='097'),'value'])=0.97#.where('valuenum'==94.00))\n"
   ]
  },
  {
   "cell_type": "code",
   "execution_count": null,
   "metadata": {},
   "outputs": [],
   "source": [
    "##min chloride\n",
    "\n",
    "#converting it to a null value without hard coding\n",
    "(bg_all_nosummary_72.loc[(bg_all_nosummary_72.loc[:,'icustay_id']==261887.0) &\n",
    "                         (bg_all_nosummary_72.loc[:,'label']=='CHLORIDE') &\n",
    "                         (bg_all_nosummary_72.loc[:,'valuenum']==3.4),:])=np.nan #will need to remove this row with a not null. \n",
    "#changing the values without hard coding. \n",
    "(bg_all_nosummary_72.loc[(bg_all_nosummary_72.loc[:,'icustay_id']==236290.0) &\n",
    "                         (bg_all_nosummary_72.loc[:,'label']=='CHLORIDE') &\n",
    "                         (bg_all_nosummary_72.loc[:,'valuenum']==11.0),'valuenum'])=110.0\n",
    "\n",
    "(bg_all_nosummary_72.loc[(bg_all_nosummary_72.loc[:,'icustay_id']==236290.0) &\n",
    "                         (bg_all_nosummary_72.loc[:,'label']=='CHLORIDE') &\n",
    "                         (bg_all_nosummary_72.loc[:,'value']==11),'value'])=110"
   ]
  },
  {
   "cell_type": "code",
   "execution_count": null,
   "metadata": {},
   "outputs": [],
   "source": []
  },
  {
   "cell_type": "markdown",
   "metadata": {},
   "source": [
    "# RRT"
   ]
  },
  {
   "cell_type": "code",
   "execution_count": 132,
   "metadata": {},
   "outputs": [
    {
     "name": "stderr",
     "output_type": "stream",
     "text": [
      "/Users/geickelb1/anaconda/envs/rpy-env/lib/python3.6/site-packages/ipykernel_launcher.py:2: SettingWithCopyWarning: \n",
      "A value is trying to be set on a copy of a slice from a DataFrame.\n",
      "Try using .loc[row_indexer,col_indexer] = value instead\n",
      "\n",
      "See the caveats in the documentation: http://pandas.pydata.org/pandas-docs/stable/indexing.html#indexing-view-versus-copy\n",
      "  \n"
     ]
    },
    {
     "data": {
      "text/html": [
       "<div>\n",
       "<style scoped>\n",
       "    .dataframe tbody tr th:only-of-type {\n",
       "        vertical-align: middle;\n",
       "    }\n",
       "\n",
       "    .dataframe tbody tr th {\n",
       "        vertical-align: top;\n",
       "    }\n",
       "\n",
       "    .dataframe thead th {\n",
       "        text-align: right;\n",
       "    }\n",
       "</style>\n",
       "<table border=\"1\" class=\"dataframe\">\n",
       "  <thead>\n",
       "    <tr style=\"text-align: right;\">\n",
       "      <th></th>\n",
       "      <th>icustay_id</th>\n",
       "      <th>t_0</th>\n",
       "      <th>first_charttime</th>\n",
       "      <th>rrt</th>\n",
       "      <th>uom</th>\n",
       "    </tr>\n",
       "  </thead>\n",
       "  <tbody>\n",
       "    <tr>\n",
       "      <th>7</th>\n",
       "      <td>252135.0</td>\n",
       "      <td>2166-04-13</td>\n",
       "      <td>2166-04-13 00:00:00</td>\n",
       "      <td>1.0</td>\n",
       "      <td>category</td>\n",
       "    </tr>\n",
       "    <tr>\n",
       "      <th>8</th>\n",
       "      <td>293255.0</td>\n",
       "      <td>2167-10-21</td>\n",
       "      <td>2167-10-21 04:31:00</td>\n",
       "      <td>1.0</td>\n",
       "      <td>category</td>\n",
       "    </tr>\n",
       "    <tr>\n",
       "      <th>9</th>\n",
       "      <td>261279.0</td>\n",
       "      <td>2167-10-26</td>\n",
       "      <td>2167-10-26 01:00:00</td>\n",
       "      <td>1.0</td>\n",
       "      <td>category</td>\n",
       "    </tr>\n",
       "    <tr>\n",
       "      <th>20</th>\n",
       "      <td>251526.0</td>\n",
       "      <td>2129-12-20</td>\n",
       "      <td>2129-12-20 09:32:00</td>\n",
       "      <td>1.0</td>\n",
       "      <td>category</td>\n",
       "    </tr>\n",
       "    <tr>\n",
       "      <th>31</th>\n",
       "      <td>255314.0</td>\n",
       "      <td>2181-10-11</td>\n",
       "      <td>2181-10-11 01:00:00</td>\n",
       "      <td>1.0</td>\n",
       "      <td>category</td>\n",
       "    </tr>\n",
       "  </tbody>\n",
       "</table>\n",
       "</div>"
      ],
      "text/plain": [
       "    icustay_id         t_0      first_charttime  rrt       uom\n",
       "7     252135.0  2166-04-13  2166-04-13 00:00:00  1.0  category\n",
       "8     293255.0  2167-10-21  2167-10-21 04:31:00  1.0  category\n",
       "9     261279.0  2167-10-26  2167-10-26 01:00:00  1.0  category\n",
       "20    251526.0  2129-12-20  2129-12-20 09:32:00  1.0  category\n",
       "31    255314.0  2181-10-11  2181-10-11 01:00:00  1.0  category"
      ]
     },
     "execution_count": 132,
     "metadata": {},
     "output_type": "execute_result"
    },
    {
     "name": "stdout",
     "output_type": "stream",
     "text": [
      "time: 390 ms\n"
     ]
    }
   ],
   "source": [
    "rrt_merged_allpt_df_notnull = rrt_merged_allpt_df.loc[rrt_merged_allpt_df['rrt'].notnull(),:]\n",
    "rrt_merged_allpt_df_notnull['uom']='category'\n",
    "rrt_merged_allpt_df_notnull.head()"
   ]
  },
  {
   "cell_type": "code",
   "execution_count": 133,
   "metadata": {},
   "outputs": [
    {
     "name": "stdout",
     "output_type": "stream",
     "text": [
      "time: 9.56 ms\n"
     ]
    }
   ],
   "source": [
    "pd.DataFrame(rrt_merged_allpt_df_notnull).to_csv(Path(\n",
    "    wd+'/data/processed/%s_rrt_merged_allpt_df_notnull.csv' %(date)))"
   ]
  },
  {
   "cell_type": "code",
   "execution_count": null,
   "metadata": {},
   "outputs": [],
   "source": []
  },
  {
   "cell_type": "code",
   "execution_count": null,
   "metadata": {},
   "outputs": [],
   "source": []
  },
  {
   "cell_type": "markdown",
   "metadata": {},
   "source": [
    "# GCS_72"
   ]
  },
  {
   "cell_type": "code",
   "execution_count": 136,
   "metadata": {},
   "outputs": [
    {
     "name": "stdout",
     "output_type": "stream",
     "text": [
      "time: 48.7 ms\n"
     ]
    },
    {
     "name": "stderr",
     "output_type": "stream",
     "text": [
      "/Users/geickelb1/anaconda/envs/rpy-env/lib/python3.6/site-packages/ipykernel_launcher.py:1: SettingWithCopyWarning: \n",
      "A value is trying to be set on a copy of a slice from a DataFrame.\n",
      "Try using .loc[row_indexer,col_indexer] = value instead\n",
      "\n",
      "See the caveats in the documentation: http://pandas.pydata.org/pandas-docs/stable/indexing.html#indexing-view-versus-copy\n",
      "  \"\"\"Entry point for launching an IPython kernel.\n"
     ]
    }
   ],
   "source": [
    "gcs72_df['uom']='GCS_score'"
   ]
  },
  {
   "cell_type": "code",
   "execution_count": 137,
   "metadata": {},
   "outputs": [
    {
     "name": "stdout",
     "output_type": "stream",
     "text": [
      "time: 148 ms\n"
     ]
    }
   ],
   "source": [
    "pd.DataFrame(gcs72_df).to_csv(Path(\n",
    "    wd+'/data/processed/%s_gcs72_df.csv' %(date)))"
   ]
  },
  {
   "cell_type": "code",
   "execution_count": null,
   "metadata": {},
   "outputs": [],
   "source": []
  },
  {
   "cell_type": "markdown",
   "metadata": {},
   "source": [
    "# SOFA_72\n",
    "i'm going to remove all sofa variables except daily score, as we have other markers for those in our above data\n",
    "i may later use this as qc check."
   ]
  },
  {
   "cell_type": "code",
   "execution_count": 140,
   "metadata": {},
   "outputs": [
    {
     "name": "stdout",
     "output_type": "stream",
     "text": [
      "time: 6.81 ms\n"
     ]
    }
   ],
   "source": [
    "sofa_score_72= sofa_df_72[['subject_id','hadm_id','icustay_id','day','sofa','t_0']]"
   ]
  },
  {
   "cell_type": "code",
   "execution_count": 142,
   "metadata": {},
   "outputs": [
    {
     "name": "stdout",
     "output_type": "stream",
     "text": [
      "time: 58.3 ms\n"
     ]
    },
    {
     "name": "stderr",
     "output_type": "stream",
     "text": [
      "/Users/geickelb1/anaconda/envs/rpy-env/lib/python3.6/site-packages/ipykernel_launcher.py:1: SettingWithCopyWarning: \n",
      "A value is trying to be set on a copy of a slice from a DataFrame.\n",
      "Try using .loc[row_indexer,col_indexer] = value instead\n",
      "\n",
      "See the caveats in the documentation: http://pandas.pydata.org/pandas-docs/stable/indexing.html#indexing-view-versus-copy\n",
      "  \"\"\"Entry point for launching an IPython kernel.\n"
     ]
    }
   ],
   "source": [
    "sofa_score_72['uom']='daily_sofa_score'"
   ]
  },
  {
   "cell_type": "code",
   "execution_count": 143,
   "metadata": {},
   "outputs": [
    {
     "name": "stdout",
     "output_type": "stream",
     "text": [
      "time: 220 ms\n"
     ]
    }
   ],
   "source": [
    "pd.DataFrame(sofa_score_72).to_csv(Path(\n",
    "    wd+'/data/processed/%s_sofa_score_72.csv' %(date)))"
   ]
  }
 ],
 "metadata": {
  "kernelspec": {
   "display_name": "Python 3",
   "language": "python",
   "name": "python3"
  },
  "language_info": {
   "codemirror_mode": {
    "name": "ipython",
    "version": 3
   },
   "file_extension": ".py",
   "mimetype": "text/x-python",
   "name": "python",
   "nbconvert_exporter": "python",
   "pygments_lexer": "ipython3",
   "version": "3.6.4"
  }
 },
 "nbformat": 4,
 "nbformat_minor": 2
}
