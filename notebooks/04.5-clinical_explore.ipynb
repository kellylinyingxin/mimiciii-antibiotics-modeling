---
title: "Untitled"
output: html_document
---

```{r setup, include=FALSE}
knitr::opts_chunk$set(echo = TRUE, error= FALSE, warning = FALSE) #check message or error = FALSE

library(readxl)
library(doBy)
library(knitr)
library(magrittr)
library(ggplot2)
library(gridExtra)
library(dplyr)
library(alr4)
library(effects)
library(GGally)
library(lsmeans)
library(MASS)
library(Rlab)
library(BlandAltmanLeh)
library(psych)
library(plyr)
library(biomaRt)
library(Biobase)
library(reshape2)
library(tidyverse)
library(mosaic)
library(ggpmisc)
library(cowplot)
library(ggpubr)
library(stargazer)
options(width = 100)

###file locations for github
#vaso_df <- read.csv('/Users/geickelb1/Documents/GitHub/mimiciii-antibiotics-modeling/data/raw/csv/10072018_vaso_all_df.csv', stringsAsFactors=FALSE, fileEncoding="latin1")

#labs_all48<- read.csv('/Users/geickelb1/Documents/GitHub/mimiciii-antibiotics-modeling/data/wrangled/labs_all48_df.csv', stringsAsFactors=FALSE, fileEncoding="latin1")

#bg_all48<- read.csv('/Users/geickelb1/Documents/GitHub/mimiciii-antibiotics-modeling/data/wrangled/labs_all48_df.csv', stringsAsFactors=FALSE, fileEncoding="latin1")

#vital_all48<- read.csv('/Users/geickelb1/Documents/GitHub/mimiciii-antibiotics-modeling/data/wrangled/vital_all48_df.csv', stringsAsFactors=FALSE, fileEncoding="latin1")

```

## R Markdown

This is an R Markdown document. Markdown is a simple formatting syntax for authoring HTML, PDF, and MS Word documents. For more details on using R Markdown see <http://rmarkdown.rstudio.com>.

When you click the **Knit** button a document will be generated that includes both content as well as the output of any embedded R code chunks within the document. You can embed an R code chunk like this:

```{r}
#vaso_<- read.csv('/Users/geickelb1/Documents/GitHub/mimiciii-antibiotics-modeling/data/wrangled/labs_all48_df.csv', stringsAsFactors=FALSE, fileEncoding="latin1")

final_pt_df2 <- read.csv('/Users/geickelb1/Documents/GitHub/mimiciii-antibiotics-modeling/data/raw/csv/16082018_final_pt_df2.csv', stringsAsFactors=FALSE, fileEncoding="latin1")


labs_all48<- read.csv('/Users/geickelb1/Documents/GitHub/mimiciii-antibiotics-modeling/data/raw/csv/72_hr_window/27082018_labs_all_nosummary_72.csv', stringsAsFactors=FALSE, fileEncoding="latin1")
```


```{python}
import pandas as pd
```



```{r}
test<-labs_72[,c('label','valuenum')]

a<- ggplot(test, aes(x=valuenum)) #+ geom_density()
a + facet_wrap(~ label, ncol = 3, scales = "free_y") + geom_density(aes(color = label)) # 
```

```{r cars}
#a <- ggplot(wdata, aes(x = weight))

a<- ggplot(labs_all48, aes(x=valuenum)) #+ geom_density()

a + facet_wrap(~ label, scales = "free") + geom_density(aes(color = label)) # 


# library(ggplot2)
# d %>%
#   keep(is.numeric) %>%                     # Keep only numeric columns
#   gather() %>%                             # Convert to key-value pairs
#   ggplot(aes(value)) +                     # Plot the values
#     facet_wrap(~ key, scales = "free") +   # In separate panels
#     geom_density()                         # as density
```
```{r}
library(ggplot2)
d %>%
  keep(is.numeric) %>%                     # Keep only numeric columns
  gather() %>%                             # Convert to key-value pairs
  ggplot(aes(value)) +                     # Plot the values
    facet_wrap(~ key, scales = "free") +   # In separate panels
    geom_density()                         # as density
```

## Including Plots

You can also embed plots, for example:

```{r pressure, echo=FALSE}
plot(pressure)
```

Note that the `echo = FALSE` parameter was added to the code chunk to prevent printing of the R code that generated the plot.
