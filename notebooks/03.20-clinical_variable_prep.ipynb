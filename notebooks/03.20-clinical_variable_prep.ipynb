{
 "cells": [
  {
   "cell_type": "code",
   "execution_count": 1,
   "metadata": {},
   "outputs": [],
   "source": [
    "# designed to be run after 03-clinical_variables_final. this notebook does some data cleaning/processing. run before -___ notebook."
   ]
  },
  {
   "cell_type": "code",
   "execution_count": 1,
   "metadata": {},
   "outputs": [
    {
     "name": "stderr",
     "output_type": "stream",
     "text": [
      "/Users/geickelb1/anaconda/envs/rpy-env/lib/python3.6/site-packages/ipykernel_launcher.py:10: DeprecationWarning: The 'cachedir' parameter has been deprecated in version 0.12 and will be removed in version 0.14.\n",
      "You provided \"cachedir='/tmp'\", use \"location='/tmp'\" instead.\n",
      "  # Remove the CWD from sys.path while we load stuff.\n"
     ]
    }
   ],
   "source": [
    "import pandas as pd\n",
    "import matplotlib.pyplot as plt\n",
    "import os\n",
    "from pathlib import Path\n",
    "import seaborn as sns\n",
    "import numpy as np\n",
    "import glob\n",
    "\n",
    "from sklearn.externals.joblib import Memory\n",
    "memory = Memory(cachedir='/tmp', verbose=0)\n",
    "#@memory.cache above any def fxn.\n",
    "\n",
    "%matplotlib inline\n",
    "plt.style.use('ggplot')\n",
    "\n",
    "from notebook.services.config import ConfigManager\n",
    "cm = ConfigManager()\n",
    "cm.update('livereveal', {\n",
    "        'width': 1024,\n",
    "        'height': 768,\n",
    "        'scroll': True,\n",
    "})\n",
    "\n",
    "%load_ext autotime\n",
    "%reload_ext autotime"
   ]
  },
  {
   "cell_type": "code",
   "execution_count": 2,
   "metadata": {},
   "outputs": [
    {
     "name": "stdout",
     "output_type": "stream",
     "text": [
      "time: 112 ms\n"
     ]
    }
   ],
   "source": [
    "#cohort import\n",
    "from pathlib import Path\n",
    "os.chdir('/Users/geickelb1/Documents/GitHub/mimiciii-antibiotics-modeling') #use to change working directory\n",
    "wd= os.getcwd() #'/Users/geickelb1/Documents/GitHub/mimiciii-antibiotics-modeling'\n",
    "\n",
    "final_pt_df2 = pd.read_csv('/Users/geickelb1/Documents/GitHub/mimiciii-antibiotics-modeling/data/raw/csv/04042019_final_pt_df2_v.csv', index_col=0) #final cohort for PA \n",
    "\n",
    "patients= list(final_pt_df2['subject_id'].unique())\n",
    "hadm_id= list(final_pt_df2['hadm_id'].unique())\n",
    "icustay_id= list(final_pt_df2['icustay_id'].unique())\n",
    "icustay_id= [int(x) for x in icustay_id]"
   ]
  },
  {
   "cell_type": "code",
   "execution_count": null,
   "metadata": {},
   "outputs": [],
   "source": []
  },
  {
   "cell_type": "markdown",
   "metadata": {},
   "source": [
    "# extracting clinical data for our patients\n",
    "## IMPORTANT, USE THIS TO TUNE TIMEWINDOW OF EXTRACTION AND FOLDER TO SAVE IN"
   ]
  },
  {
   "cell_type": "code",
   "execution_count": 3,
   "metadata": {},
   "outputs": [
    {
     "name": "stdout",
     "output_type": "stream",
     "text": [
      "time: 2.98 ms\n"
     ]
    }
   ],
   "source": [
    "lower_window=0\n",
    "upper_window=2\n",
    "time_var=\"t_0\"\n",
    "#folder=\"48_hr_window\"\n",
    "date='16052019'\n",
    "\n",
    "# date='04042019'\n",
    "# lower_window=0\n",
    "# upper_window=3\n",
    "# time_var=\"t_0\"\n",
    "# folder=\"72_hr_window\"\n",
    "\n",
    "'/Users/geickelb1/Documents/GitHub/mimiciii-antibiotics-modeling/data/raw/csv/%s/%s_weightfirstday_df.csv'"
   ]
  },
  {
   "cell_type": "markdown",
   "metadata": {},
   "source": [
    "### begin pipeline:"
   ]
  },
  {
   "cell_type": "markdown",
   "metadata": {},
   "source": [
    "# changing my code structure to be a dictionary of dataframes"
   ]
  },
  {
   "cell_type": "code",
   "execution_count": 4,
   "metadata": {},
   "outputs": [
    {
     "name": "stdout",
     "output_type": "stream",
     "text": [
      "time: 10.1 ms\n"
     ]
    }
   ],
   "source": [
    "#folder to save files to:\n",
    "save_path= wd+'/data/processed'\n",
    "#folder=None\n",
    "\n",
    "\n",
    "def save_df(df, df_name='default', save_path=save_path, add_subfolder=False):\n",
    "    global folder ##if bug here than need to try except\n",
    "    #uses the date and supplied df name and saves to the savepath specified above.\n",
    "    if df_name == 'default':\n",
    "        df_name= \"%s\"%(df)\n",
    "    \n",
    "    if add_subfolder==True:\n",
    "        save_file=Path(save_path+'/%s/%s_%s_prepped.csv' %(folder,date, df_name))\n",
    "        \n",
    "        \n",
    "    pd.DataFrame(df).to_csv(Path(save_path+'/%s_%s_prepped.csv' %(date, df_name)))\n",
    "    del(df)"
   ]
  },
  {
   "cell_type": "code",
   "execution_count": 5,
   "metadata": {},
   "outputs": [
    {
     "name": "stdout",
     "output_type": "stream",
     "text": [
      "time: 921 µs\n"
     ]
    }
   ],
   "source": [
    "time_var='t_0' #for origional project time_var = 't_0', pa_project: 'first_pos_else_neg_ssc'"
   ]
  },
  {
   "cell_type": "code",
   "execution_count": 6,
   "metadata": {},
   "outputs": [
    {
     "name": "stdout",
     "output_type": "stream",
     "text": [
      "time: 2.83 ms\n"
     ]
    }
   ],
   "source": [
    "\n",
    "\n",
    "os.chdir(r'/Users/geickelb1/Documents/GitHub/mimiciii-antibiotics-modeling/data/raw/csv/%s/'%(folder))\n",
    "allFiles = glob.glob(os.getcwd() + \"/{}_*.csv\".format(date))"
   ]
  },
  {
   "cell_type": "code",
   "execution_count": 7,
   "metadata": {},
   "outputs": [
    {
     "data": {
      "text/plain": [
       "['/Users/geickelb1/Documents/GitHub/mimiciii-antibiotics-modeling/data/raw/csv/72_hr_window/04042019_bg_all_nosummary_72.csv',\n",
       " '/Users/geickelb1/Documents/GitHub/mimiciii-antibiotics-modeling/data/raw/csv/72_hr_window/04042019_uti_all_72.csv',\n",
       " '/Users/geickelb1/Documents/GitHub/mimiciii-antibiotics-modeling/data/raw/csv/72_hr_window/04042019_sofa_df_72.csv',\n",
       " '/Users/geickelb1/Documents/GitHub/mimiciii-antibiotics-modeling/data/raw/csv/72_hr_window/04042019_pt_info_df.csv',\n",
       " '/Users/geickelb1/Documents/GitHub/mimiciii-antibiotics-modeling/data/raw/csv/72_hr_window/04042019_vitals_all_nosummary_72.csv',\n",
       " '/Users/geickelb1/Documents/GitHub/mimiciii-antibiotics-modeling/data/raw/csv/72_hr_window/04042019_ventsettings_df.csv',\n",
       " '/Users/geickelb1/Documents/GitHub/mimiciii-antibiotics-modeling/data/raw/csv/72_hr_window/04042019_gcs72_df.csv',\n",
       " '/Users/geickelb1/Documents/GitHub/mimiciii-antibiotics-modeling/data/raw/csv/72_hr_window/04042019_labs_all_nosummary_72.csv',\n",
       " '/Users/geickelb1/Documents/GitHub/mimiciii-antibiotics-modeling/data/raw/csv/72_hr_window/04042019_weightfirstday_df.csv',\n",
       " '/Users/geickelb1/Documents/GitHub/mimiciii-antibiotics-modeling/data/raw/csv/72_hr_window/04042019_ventcategory_df.csv',\n",
       " '/Users/geickelb1/Documents/GitHub/mimiciii-antibiotics-modeling/data/raw/csv/72_hr_window/04042019_vaso_dose_72.csv',\n",
       " '/Users/geickelb1/Documents/GitHub/mimiciii-antibiotics-modeling/data/raw/csv/72_hr_window/04042019_ventsettings_72.csv',\n",
       " '/Users/geickelb1/Documents/GitHub/mimiciii-antibiotics-modeling/data/raw/csv/72_hr_window/04042019_rrt_merged_allpt_df.csv',\n",
       " '/Users/geickelb1/Documents/GitHub/mimiciii-antibiotics-modeling/data/raw/csv/72_hr_window/04042019_heightfirstday_df.csv']"
      ]
     },
     "execution_count": 7,
     "metadata": {},
     "output_type": "execute_result"
    },
    {
     "name": "stdout",
     "output_type": "stream",
     "text": [
      "time: 2.71 ms\n"
     ]
    }
   ],
   "source": [
    "allFiles"
   ]
  },
  {
   "cell_type": "code",
   "execution_count": 8,
   "metadata": {},
   "outputs": [
    {
     "name": "stderr",
     "output_type": "stream",
     "text": [
      "/Users/geickelb1/anaconda/envs/rpy-env/lib/python3.6/site-packages/numpy/lib/arraysetops.py:522: FutureWarning: elementwise comparison failed; returning scalar instead, but in the future will perform elementwise comparison\n",
      "  mask |= (ar1 == a)\n"
     ]
    },
    {
     "name": "stdout",
     "output_type": "stream",
     "text": [
      "time: 15.6 s\n"
     ]
    }
   ],
   "source": [
    "#making a dictionary of all my dataframes for easier cycling through\n",
    "\n",
    "df_list=[]\n",
    "for element in allFiles:\n",
    "    df_list.append(element.split('{}_'.format(date))[1].split('.csv')[0]) #making an list of all my dataframes in order they appear in file\n",
    "\n",
    "dfs = {}\n",
    "i=0\n",
    "for name in df_list:\n",
    "    dfs[name] = pd.read_csv(allFiles[i],  index_col=0)\n",
    "    i+=1"
   ]
  },
  {
   "cell_type": "code",
   "execution_count": 9,
   "metadata": {},
   "outputs": [
    {
     "name": "stdout",
     "output_type": "stream",
     "text": [
      "false\n",
      "false\n",
      "false\n",
      "false\n",
      "false\n",
      "false\n",
      "false\n",
      "false\n",
      "false\n",
      "false\n",
      "false\n",
      "time: 377 ms\n"
     ]
    }
   ],
   "source": [
    "#adding a t_0 to each df that doesn't currently have it\n",
    "\n",
    "for element in df_list:\n",
    "    #print(element,':',list(dfs[element]))\n",
    "    if ('t_0' in list(dfs[element]))==False and 'icustay_id' in list(dfs[element]) :\n",
    "        #print(\"true\")\n",
    "        dfs[element]= pd.merge(dfs[element], final_pt_df2[['icustay_id','t_0']], how='left')\n",
    "    elif ('t_0' in list(dfs[element]))==False and 'hadm_id' in list(dfs[element]) :\n",
    "        #print(\"true\")\n",
    "        dfs[element]= pd.merge(dfs[element], final_pt_df2[['hadm_id','t_0']], how='left')\n",
    "    else:\n",
    "        print(\"false\")\n"
   ]
  },
  {
   "cell_type": "code",
   "execution_count": 10,
   "metadata": {},
   "outputs": [
    {
     "name": "stdout",
     "output_type": "stream",
     "text": [
      "bg_all_nosummary_72 : ['subject_id', 'hadm_id', 'icustay_id', 'charttime', 'label', 'valuenum', 'value', 'valueuom', 'unique_var', 't_0', 'delta']\n",
      "uti_all_72 : ['subject_id', 'hadm_id', 'itemid', 'charttime', 'value', 'valuenum', 'valueuom', 'label', 'fluid', 'category', 'loinc_code', 'icd9_code', 't_0', 'delta']\n",
      "sofa_df_72 : ['subject_id', 'hadm_id', 'icustay_id', 'day', 'sofa', 'respiration', 'pao2fio2_vent_min', 'pao2fio2_novent_min', 'coagulation', 'platelet_min', 'liver', 'bilirubin_max', 'cardiovascular', 'rate_dopamine', 'rate_epinephrine', 'rate_norepinephrine', 'rate_dobutamine', 'meanbp_min', 'cns', 'mingcs', 'renal', 'creatinine_max', 'urineoutput', 't_0', 'ICU_admit', 'approx_charttime']\n",
      "pt_info_df : ['icustay_id', 'subject_id', 't_0', 'label', 'value', 'delta', 'uom']\n",
      "vitals_all_nosummary_72 : ['subject_id', 'hadm_id', 'icustay_id', 'charttime', 'valueuom', 'vitalid', 'valuenum', 't_0', 'delta']\n",
      "ventsettings_df : ['icustay_id', 'charttime', 'mechvent', 'oxygentherapy', 'extubated', 'selfextubated', 't_0']\n",
      "gcs72_df : ['subject_id', 'hadm_id', 'icustay_id', 'day', 'mingcs', 'gcsmotor', 'gcsverbal', 'gcseyes', 'endotrachflag', 'ICU_admit', 't_0', 'approx_charttime', 'admit_plus_day', 'delta', 'uom']\n",
      "labs_all_nosummary_72 : ['subject_id', 'hadm_id', 'icustay_id', 'charttime', 'label', 'valuenum', 'uom', 't_0', 'delta']\n",
      "weightfirstday_df : ['icustay_id', 'weight', 'weight_admit', 'weight_daily', 'weight_echoinhosp', 'weight_echoprehosp', 'uom', 't_0']\n",
      "ventcategory_df : ['icustay_id', 'day', 'value', 'uom', 't_0']\n",
      "vaso_dose_72 : ['icustay_id', 'starttime', 'endtime', 'vaso_rate', 'vaso_amount', 'amount_uom', 'rate_uom', 'label', 't_0', 'delta']\n",
      "ventsettings_72 : ['icustay_id', 'charttime', 'mechvent', 'oxygentherapy', 'extubated', 'selfextubated', 't_0', 'delta']\n",
      "rrt_merged_allpt_df : ['icustay_id', 't_0', 'first_charttime', 'rrt', 'uom']\n",
      "heightfirstday_df : ['icustay_id', 'height', 'height_chart', 'height_echo', 'uom', 't_0']\n",
      "time: 13.4 ms\n"
     ]
    }
   ],
   "source": [
    "for element in df_list:\n",
    "    print(element,':',list(dfs[element]))"
   ]
  },
  {
   "cell_type": "code",
   "execution_count": 11,
   "metadata": {},
   "outputs": [
    {
     "name": "stdout",
     "output_type": "stream",
     "text": [
      "time: 28.9 ms\n"
     ]
    }
   ],
   "source": [
    "def yn_convert(df, #df in format where each row corresponds to a test, and a patient can have many rows\n",
    "               label_fill, # value that will be filled to na's\n",
    "               pt= final_pt_df2,\n",
    "               time_var='t_0', #\n",
    "               value_fill=0,\n",
    "               delta_fill=pd.to_timedelta('0 days'),\n",
    "               uom_fill='y/n'):\n",
    "\n",
    "    \"\"\"\n",
    "    description: collapses (binarizes) a dataframe where each row corresponds to a test, and a patient can have many rows -> \n",
    "    1 row per patient where value is binary variable yes or no a patient has any value within the timewindow (specified in data collection).\n",
    "    said a different way, for patient this fxn collapses values down to does pt have a non NA value in the clinical time window y/n? \n",
    "    \n",
    "    label_fill: the variable name in the label column of the specified dataframe that will considered for y/n value within timewindow. if any non NA value is present\n",
    "        it will be considered positive.\n",
    "    pt: the by patient spreadsheet be be used to supply patient information.\n",
    "    time_var: the variable used to create the time window of interest.\n",
    "    value_fill: the variable value that missing values will be filled if the value is not present (default =0) in the origional dataset\n",
    "    delta_fill: the time delta value that will be filled in if a patient doesn't have any instances of the label_fill.  \n",
    "    uom_fill: fills in the unit of measurement to this for missing values.\n",
    "    \n",
    "    returns a flat 1 row per icustay_id of 1 or 0 if any value was present for the patient.\n",
    "    \"\"\"\n",
    "    \n",
    "    yn_df = pd.merge(pt[['icustay_id', time_var]],\n",
    "                      df[['icustay_id','value','label','uom','delta']],\n",
    "                     left_on= 'icustay_id',\n",
    "                     right_on= 'icustay_id',\n",
    "                      how='left') #merging all icustay_id's with time_var, where value,label,uom, and delta are nan's if no value exists for that icustay. \n",
    "    #the idea is that if any value exists then it is pos.\n",
    "\n",
    "    yn_df['value']= yn_df['value'].fillna(value_fill) #converts na to 0 in above na rows.\n",
    "    yn_df.loc[yn_df.loc[:,'value']!=value_fill, 'value']= 1 #squashes all other values into a binary 1 = yes\n",
    "    yn_df['delta']= yn_df['delta'].fillna(delta_fill)\n",
    "    yn_df['delta']= pd.to_timedelta(yn_df['delta']) #filling in the time delta to time =0 for filled rows\n",
    "    yn_df['uom']= yn_df['uom'].fillna(uom_fill)\n",
    "    yn_df.loc[yn_df.loc[:,'uom']!=uom_fill, 'uom']= uom_fill\n",
    "    yn_df['label']= yn_df['label'].fillna(label_fill)\n",
    "    \n",
    "    return(yn_df)\n"
   ]
  },
  {
   "cell_type": "markdown",
   "metadata": {},
   "source": [
    "## vaso dose"
   ]
  },
  {
   "cell_type": "code",
   "execution_count": 13,
   "metadata": {},
   "outputs": [
    {
     "name": "stdout",
     "output_type": "stream",
     "text": [
      "time: 34.5 ms\n"
     ]
    }
   ],
   "source": [
    "# #vaso_dose_72.head()\n",
    "# vaso_dose_72= vaso_dose_72.rename(\n",
    "#     columns={'starttime':'charttime','label':'vaso_type'}\n",
    "#         )#.drop(labels='endtime', axis=1) \n",
    "# #renaming starttime to charttime and dropping endtime\n",
    "\n",
    "dfs['vaso_dose_72']= dfs['vaso_dose_72'].rename(\n",
    "    columns={'starttime':'charttime','label':'vaso_type'})"
   ]
  },
  {
   "cell_type": "code",
   "execution_count": 14,
   "metadata": {},
   "outputs": [
    {
     "data": {
      "text/plain": [
       "50146"
      ]
     },
     "execution_count": 14,
     "metadata": {},
     "output_type": "execute_result"
    },
    {
     "name": "stdout",
     "output_type": "stream",
     "text": [
      "time: 1.85 ms\n"
     ]
    }
   ],
   "source": [
    "len(dfs['vaso_dose_72'])"
   ]
  },
  {
   "cell_type": "code",
   "execution_count": 15,
   "metadata": {},
   "outputs": [
    {
     "data": {
      "text/html": [
       "<div>\n",
       "<style scoped>\n",
       "    .dataframe tbody tr th:only-of-type {\n",
       "        vertical-align: middle;\n",
       "    }\n",
       "\n",
       "    .dataframe tbody tr th {\n",
       "        vertical-align: top;\n",
       "    }\n",
       "\n",
       "    .dataframe thead th {\n",
       "        text-align: right;\n",
       "    }\n",
       "</style>\n",
       "<table border=\"1\" class=\"dataframe\">\n",
       "  <thead>\n",
       "    <tr style=\"text-align: right;\">\n",
       "      <th></th>\n",
       "      <th>icustay_id</th>\n",
       "      <th>charttime</th>\n",
       "      <th>endtime</th>\n",
       "      <th>vaso_rate</th>\n",
       "      <th>vaso_amount</th>\n",
       "      <th>amount_uom</th>\n",
       "      <th>rate_uom</th>\n",
       "      <th>vaso_type</th>\n",
       "      <th>t_0</th>\n",
       "      <th>delta</th>\n",
       "    </tr>\n",
       "  </thead>\n",
       "  <tbody>\n",
       "    <tr>\n",
       "      <th>4</th>\n",
       "      <td>200349.0</td>\n",
       "      <td>2139-06-02 16:31:00</td>\n",
       "      <td>2139-06-02 18:10:00</td>\n",
       "      <td>0.012030</td>\n",
       "      <td>0.073958</td>\n",
       "      <td>mg</td>\n",
       "      <td>mcg/kg/min</td>\n",
       "      <td>epinephrine</td>\n",
       "      <td>2139-06-02</td>\n",
       "      <td>0 days 16:31:00.000000000</td>\n",
       "    </tr>\n",
       "    <tr>\n",
       "      <th>8</th>\n",
       "      <td>200952.0</td>\n",
       "      <td>2139-09-23 15:07:00</td>\n",
       "      <td>2139-09-24 06:43:00</td>\n",
       "      <td>0.020004</td>\n",
       "      <td>1.049601</td>\n",
       "      <td>mg</td>\n",
       "      <td>mcg/kg/min</td>\n",
       "      <td>epinephrine</td>\n",
       "      <td>2139-09-23</td>\n",
       "      <td>0 days 15:07:00.000000000</td>\n",
       "    </tr>\n",
       "    <tr>\n",
       "      <th>9</th>\n",
       "      <td>200952.0</td>\n",
       "      <td>2139-09-25 12:00:00</td>\n",
       "      <td>2139-09-25 21:59:00</td>\n",
       "      <td>0.080068</td>\n",
       "      <td>1.962759</td>\n",
       "      <td>mg</td>\n",
       "      <td>mcg/kg/min</td>\n",
       "      <td>epinephrine</td>\n",
       "      <td>2139-09-23</td>\n",
       "      <td>2 days 12:00:00.000000000</td>\n",
       "    </tr>\n",
       "    <tr>\n",
       "      <th>10</th>\n",
       "      <td>200952.0</td>\n",
       "      <td>2139-09-25 21:59:00</td>\n",
       "      <td>2139-09-26 07:38:00</td>\n",
       "      <td>0.060601</td>\n",
       "      <td>2.000000</td>\n",
       "      <td>mg</td>\n",
       "      <td>mcg/kg/min</td>\n",
       "      <td>epinephrine</td>\n",
       "      <td>2139-09-23</td>\n",
       "      <td>2 days 21:59:00.000000000</td>\n",
       "    </tr>\n",
       "    <tr>\n",
       "      <th>22</th>\n",
       "      <td>200952.0</td>\n",
       "      <td>2139-09-23 23:12:00</td>\n",
       "      <td>2139-09-24 21:54:00</td>\n",
       "      <td>0.149992</td>\n",
       "      <td>7.990853</td>\n",
       "      <td>mg</td>\n",
       "      <td>mcg/kg/min</td>\n",
       "      <td>norepinephrine</td>\n",
       "      <td>2139-09-23</td>\n",
       "      <td>0 days 23:12:00.000000000</td>\n",
       "    </tr>\n",
       "  </tbody>\n",
       "</table>\n",
       "</div>"
      ],
      "text/plain": [
       "    icustay_id            charttime              endtime  vaso_rate  \\\n",
       "4     200349.0  2139-06-02 16:31:00  2139-06-02 18:10:00   0.012030   \n",
       "8     200952.0  2139-09-23 15:07:00  2139-09-24 06:43:00   0.020004   \n",
       "9     200952.0  2139-09-25 12:00:00  2139-09-25 21:59:00   0.080068   \n",
       "10    200952.0  2139-09-25 21:59:00  2139-09-26 07:38:00   0.060601   \n",
       "22    200952.0  2139-09-23 23:12:00  2139-09-24 21:54:00   0.149992   \n",
       "\n",
       "    vaso_amount amount_uom    rate_uom       vaso_type         t_0  \\\n",
       "4      0.073958         mg  mcg/kg/min     epinephrine  2139-06-02   \n",
       "8      1.049601         mg  mcg/kg/min     epinephrine  2139-09-23   \n",
       "9      1.962759         mg  mcg/kg/min     epinephrine  2139-09-23   \n",
       "10     2.000000         mg  mcg/kg/min     epinephrine  2139-09-23   \n",
       "22     7.990853         mg  mcg/kg/min  norepinephrine  2139-09-23   \n",
       "\n",
       "                        delta  \n",
       "4   0 days 16:31:00.000000000  \n",
       "8   0 days 15:07:00.000000000  \n",
       "9   2 days 12:00:00.000000000  \n",
       "10  2 days 21:59:00.000000000  \n",
       "22  0 days 23:12:00.000000000  "
      ]
     },
     "execution_count": 15,
     "metadata": {},
     "output_type": "execute_result"
    },
    {
     "name": "stdout",
     "output_type": "stream",
     "text": [
      "time: 30.7 ms\n"
     ]
    }
   ],
   "source": [
    "dfs['vaso_dose_72'].head()"
   ]
  },
  {
   "cell_type": "code",
   "execution_count": 16,
   "metadata": {},
   "outputs": [
    {
     "name": "stdout",
     "output_type": "stream",
     "text": [
      "time: 27.8 ms\n"
     ]
    }
   ],
   "source": [
    "#removing units/hour because that is a different use of vasopressin\n",
    "dfs['vaso_dose_72'] = dfs['vaso_dose_72'].loc[dfs['vaso_dose_72'].loc[:,'rate_uom']!= 'units/hour',:]\n",
    "dfs['vaso_dose_72'] = dfs['vaso_dose_72'].loc[dfs['vaso_dose_72'].loc[:,'rate_uom']!= 'Uhr',:]"
   ]
  },
  {
   "cell_type": "code",
   "execution_count": 17,
   "metadata": {},
   "outputs": [
    {
     "data": {
      "text/plain": [
       "50146"
      ]
     },
     "execution_count": 17,
     "metadata": {},
     "output_type": "execute_result"
    },
    {
     "name": "stdout",
     "output_type": "stream",
     "text": [
      "time: 3.81 ms\n"
     ]
    }
   ],
   "source": [
    "len(dfs['vaso_dose_72'])"
   ]
  },
  {
   "cell_type": "code",
   "execution_count": 18,
   "metadata": {},
   "outputs": [
    {
     "data": {
      "text/plain": [
       "array(['mcg/kg/min', 'mcgkgmin', 'Umin'], dtype=object)"
      ]
     },
     "execution_count": 18,
     "metadata": {},
     "output_type": "execute_result"
    },
    {
     "name": "stdout",
     "output_type": "stream",
     "text": [
      "time: 13.3 ms\n"
     ]
    }
   ],
   "source": [
    "dfs['vaso_dose_72']['rate_uom'].unique()"
   ]
  },
  {
   "cell_type": "markdown",
   "metadata": {},
   "source": [
    "#### removing outliers/extreme values"
   ]
  },
  {
   "cell_type": "code",
   "execution_count": 19,
   "metadata": {},
   "outputs": [
    {
     "name": "stdout",
     "output_type": "stream",
     "text": [
      "time: 18.4 ms\n"
     ]
    }
   ],
   "source": [
    "# Use transform to add a column back to the orig df from a groupby aggregation, transform returns a Series with its index aligned to the orig df:\n",
    "def vaso_outlier_removal(df):\n",
    "    test_group=(dfs['vaso_dose_72'][['vaso_rate','rate_uom','amount_uom','vaso_type']]#.groupby('vaso_type', as_index=False)\n",
    "         .groupby(['vaso_type','rate_uom'])\n",
    "             )\n",
    "\n",
    "    dfs['vaso_dose_72']['std']=test_group.transform(lambda x : x.std())\n",
    "    dfs['vaso_dose_72']['mean']=test_group.transform(lambda x : x.mean())\n",
    "\n",
    "    normal_high_value= pd.DataFrame({\n",
    "        'vaso_type' : ['dobutamine','dopamine','epinephrine','norepinephrine','vasopressin','phenylephrine'],\n",
    "        'high_value': [40, 20, 0.5, 1, 0.1, 2] #highest values one might expect to see in a clinic, ie above this is likely erroneous\n",
    "    }) #found from literature, see notes\n",
    "\n",
    "    dfs['vaso_dose_72'] = pd.merge(dfs['vaso_dose_72'], normal_high_value, left_on='vaso_type', right_on='vaso_type')\n",
    "\n",
    "    vaso_dose_72_rmout =(dfs['vaso_dose_72'][\n",
    "        ~((dfs['vaso_dose_72']['vaso_rate'] > dfs['vaso_dose_72']['high_value']) & ((dfs['vaso_dose_72']['vaso_rate']-dfs['vaso_dose_72']['mean'])>= (3*dfs['vaso_dose_72']['std'])))\n",
    "        ])\n",
    "    #ie vaso_dose_72_rmout is a dataframe of all rows that excludes rows where vaso rate > literature high value and where vaso_rate >3sd from teh mean\n",
    "    return(vaso_dose_72_rmout)"
   ]
  },
  {
   "cell_type": "code",
   "execution_count": 20,
   "metadata": {},
   "outputs": [
    {
     "data": {
      "text/plain": [
       "49855"
      ]
     },
     "execution_count": 20,
     "metadata": {},
     "output_type": "execute_result"
    },
    {
     "name": "stdout",
     "output_type": "stream",
     "text": [
      "time: 124 ms\n"
     ]
    }
   ],
   "source": [
    "dfs['vaso_dose_72']= vaso_outlier_removal(dfs['vaso_dose_72'])\n",
    "len(dfs['vaso_dose_72']) #52976 ->49340"
   ]
  },
  {
   "cell_type": "code",
   "execution_count": 21,
   "metadata": {},
   "outputs": [
    {
     "data": {
      "text/plain": [
       "array(['epinephrine', 'norepinephrine', 'phenylephrine', 'vasopressin',\n",
       "       'dopamine', 'dobutamine'], dtype=object)"
      ]
     },
     "execution_count": 21,
     "metadata": {},
     "output_type": "execute_result"
    },
    {
     "name": "stdout",
     "output_type": "stream",
     "text": [
      "time: 9.68 ms\n"
     ]
    }
   ],
   "source": [
    "dfs['vaso_dose_72']['vaso_type'].unique()"
   ]
  },
  {
   "cell_type": "code",
   "execution_count": 22,
   "metadata": {},
   "outputs": [
    {
     "data": {
      "text/plain": [
       "array(['epinephrine', 'norepinephrine', 'phenylephrine', 'vasopressin',\n",
       "       'dopamine', 'dobutamine'], dtype=object)"
      ]
     },
     "execution_count": 22,
     "metadata": {},
     "output_type": "execute_result"
    },
    {
     "name": "stdout",
     "output_type": "stream",
     "text": [
      "time: 51 ms\n"
     ]
    }
   ],
   "source": [
    "#standardizing names, dropping unneeded columns for analysis\n",
    "dfs['vaso_dose_72']= dfs['vaso_dose_72'].drop(['vaso_amount', 'amount_uom','std','mean','high_value'], axis=1)\n",
    "dfs['vaso_dose_72']= dfs['vaso_dose_72'].rename(index=str, columns={'vaso_rate': 'value', 'rate_uom':'uom','vaso_type':'label'})\n",
    "dfs['vaso_dose_72']['label'].unique()"
   ]
  },
  {
   "cell_type": "code",
   "execution_count": 23,
   "metadata": {},
   "outputs": [
    {
     "data": {
      "text/html": [
       "<div>\n",
       "<style scoped>\n",
       "    .dataframe tbody tr th:only-of-type {\n",
       "        vertical-align: middle;\n",
       "    }\n",
       "\n",
       "    .dataframe tbody tr th {\n",
       "        vertical-align: top;\n",
       "    }\n",
       "\n",
       "    .dataframe thead th {\n",
       "        text-align: right;\n",
       "    }\n",
       "</style>\n",
       "<table border=\"1\" class=\"dataframe\">\n",
       "  <thead>\n",
       "    <tr style=\"text-align: right;\">\n",
       "      <th></th>\n",
       "      <th>icustay_id</th>\n",
       "      <th>charttime</th>\n",
       "      <th>endtime</th>\n",
       "      <th>value</th>\n",
       "      <th>uom</th>\n",
       "      <th>label</th>\n",
       "      <th>t_0</th>\n",
       "      <th>delta</th>\n",
       "    </tr>\n",
       "  </thead>\n",
       "  <tbody>\n",
       "    <tr>\n",
       "      <th>0</th>\n",
       "      <td>200349.0</td>\n",
       "      <td>2139-06-02 16:31:00</td>\n",
       "      <td>2139-06-02 18:10:00</td>\n",
       "      <td>0.012030</td>\n",
       "      <td>mcg/kg/min</td>\n",
       "      <td>epinephrine</td>\n",
       "      <td>2139-06-02</td>\n",
       "      <td>0 days 16:31:00.000000000</td>\n",
       "    </tr>\n",
       "    <tr>\n",
       "      <th>1</th>\n",
       "      <td>200952.0</td>\n",
       "      <td>2139-09-23 15:07:00</td>\n",
       "      <td>2139-09-24 06:43:00</td>\n",
       "      <td>0.020004</td>\n",
       "      <td>mcg/kg/min</td>\n",
       "      <td>epinephrine</td>\n",
       "      <td>2139-09-23</td>\n",
       "      <td>0 days 15:07:00.000000000</td>\n",
       "    </tr>\n",
       "    <tr>\n",
       "      <th>2</th>\n",
       "      <td>200952.0</td>\n",
       "      <td>2139-09-25 12:00:00</td>\n",
       "      <td>2139-09-25 21:59:00</td>\n",
       "      <td>0.080068</td>\n",
       "      <td>mcg/kg/min</td>\n",
       "      <td>epinephrine</td>\n",
       "      <td>2139-09-23</td>\n",
       "      <td>2 days 12:00:00.000000000</td>\n",
       "    </tr>\n",
       "    <tr>\n",
       "      <th>3</th>\n",
       "      <td>200952.0</td>\n",
       "      <td>2139-09-25 21:59:00</td>\n",
       "      <td>2139-09-26 07:38:00</td>\n",
       "      <td>0.060601</td>\n",
       "      <td>mcg/kg/min</td>\n",
       "      <td>epinephrine</td>\n",
       "      <td>2139-09-23</td>\n",
       "      <td>2 days 21:59:00.000000000</td>\n",
       "    </tr>\n",
       "    <tr>\n",
       "      <th>4</th>\n",
       "      <td>201005.0</td>\n",
       "      <td>2169-10-25 17:25:00</td>\n",
       "      <td>2169-10-25 18:00:00</td>\n",
       "      <td>0.020000</td>\n",
       "      <td>mcgkgmin</td>\n",
       "      <td>epinephrine</td>\n",
       "      <td>2169-10-25</td>\n",
       "      <td>0 days 17:25:00.000000000</td>\n",
       "    </tr>\n",
       "  </tbody>\n",
       "</table>\n",
       "</div>"
      ],
      "text/plain": [
       "   icustay_id            charttime              endtime     value         uom  \\\n",
       "0    200349.0  2139-06-02 16:31:00  2139-06-02 18:10:00  0.012030  mcg/kg/min   \n",
       "1    200952.0  2139-09-23 15:07:00  2139-09-24 06:43:00  0.020004  mcg/kg/min   \n",
       "2    200952.0  2139-09-25 12:00:00  2139-09-25 21:59:00  0.080068  mcg/kg/min   \n",
       "3    200952.0  2139-09-25 21:59:00  2139-09-26 07:38:00  0.060601  mcg/kg/min   \n",
       "4    201005.0  2169-10-25 17:25:00  2169-10-25 18:00:00  0.020000    mcgkgmin   \n",
       "\n",
       "         label         t_0                      delta  \n",
       "0  epinephrine  2139-06-02  0 days 16:31:00.000000000  \n",
       "1  epinephrine  2139-09-23  0 days 15:07:00.000000000  \n",
       "2  epinephrine  2139-09-23  2 days 12:00:00.000000000  \n",
       "3  epinephrine  2139-09-23  2 days 21:59:00.000000000  \n",
       "4  epinephrine  2169-10-25  0 days 17:25:00.000000000  "
      ]
     },
     "execution_count": 23,
     "metadata": {},
     "output_type": "execute_result"
    },
    {
     "name": "stdout",
     "output_type": "stream",
     "text": [
      "time: 30.6 ms\n"
     ]
    }
   ],
   "source": [
    "dfs['vaso_dose_72'].head()"
   ]
  },
  {
   "cell_type": "code",
   "execution_count": 24,
   "metadata": {},
   "outputs": [
    {
     "name": "stdout",
     "output_type": "stream",
     "text": [
      "time: 48.7 ms\n"
     ]
    }
   ],
   "source": [
    "epinephrine_df= dfs['vaso_dose_72'][dfs['vaso_dose_72']['label']=='epinephrine']\n",
    "norepinephrine_df= dfs['vaso_dose_72'][dfs['vaso_dose_72']['label']=='norepinephrine']\n",
    "phenylephrine_df= dfs['vaso_dose_72'][dfs['vaso_dose_72']['label']=='phenylephrine']\n",
    "vasopressin_df= dfs['vaso_dose_72'][dfs['vaso_dose_72']['label']=='vasopressin']\n",
    "dopamine_df= dfs['vaso_dose_72'][dfs['vaso_dose_72']['label']=='dopamine']\n",
    "dobutamine_df= dfs['vaso_dose_72'][dfs['vaso_dose_72']['label']=='dobutamine']\n"
   ]
  },
  {
   "cell_type": "code",
   "execution_count": 25,
   "metadata": {},
   "outputs": [
    {
     "name": "stdout",
     "output_type": "stream",
     "text": [
      "time: 750 ms\n"
     ]
    }
   ],
   "source": [
    "#(could be transfered to a different spdsheet for collapsing values)\n",
    "#y/n convert, seperating out vaso_dose into 6 constitutient dataframes, and for each am collapsing values down to does pt have in time window y/n? \n",
    "\n",
    "epinephrine_df=yn_convert(epinephrine_df, label_fill='epinephrine', pt= final_pt_df2, value_fill=0, delta_fill=0, uom_fill='y/n', time_var=time_var)\n",
    "norepinephrine_df=yn_convert(norepinephrine_df, label_fill='norepinephrine', pt= final_pt_df2, value_fill=0, delta_fill=0, uom_fill='y/n', time_var=time_var)\n",
    "phenylephrine_df=yn_convert(phenylephrine_df, label_fill='phenylephrine', pt= final_pt_df2, value_fill=0, delta_fill=0, uom_fill='y/n', time_var=time_var)\n",
    "vasopressin_df=yn_convert(vasopressin_df, label_fill='vasopressin', pt= final_pt_df2, value_fill=0, delta_fill=0, uom_fill='y/n', time_var=time_var)\n",
    "dopamine_df=yn_convert(dopamine_df, label_fill='dopamine', pt= final_pt_df2, value_fill=0, delta_fill=0, uom_fill='y/n', time_var=time_var)\n",
    "dobutamine_df=yn_convert(dobutamine_df, label_fill='dobutamine', pt= final_pt_df2, value_fill=0, delta_fill=0, uom_fill='y/n', time_var=time_var)"
   ]
  },
  {
   "cell_type": "code",
   "execution_count": 26,
   "metadata": {},
   "outputs": [
    {
     "data": {
      "text/plain": [
       "'/Users/geickelb1/Documents/GitHub/mimiciii-antibiotics-modeling/data/processed'"
      ]
     },
     "execution_count": 26,
     "metadata": {},
     "output_type": "execute_result"
    },
    {
     "name": "stdout",
     "output_type": "stream",
     "text": [
      "time: 2.77 ms\n"
     ]
    }
   ],
   "source": [
    "save_path"
   ]
  },
  {
   "cell_type": "code",
   "execution_count": 27,
   "metadata": {},
   "outputs": [
    {
     "name": "stdout",
     "output_type": "stream",
     "text": [
      "time: 2.28 s\n"
     ]
    }
   ],
   "source": [
    "pd.DataFrame(epinephrine_df).to_csv(Path(\n",
    "    save_path+ '/%s_epinephrine_prepped.csv' %(date)))\n",
    "del(epinephrine_df)\n",
    "\n",
    "pd.DataFrame(norepinephrine_df).to_csv(Path(\n",
    "    save_path+'/%s_norepinephrine_prepped.csv' %(date)))\n",
    "del(norepinephrine_df)\n",
    "\n",
    "pd.DataFrame(phenylephrine_df).to_csv(Path(\n",
    "    save_path+'/%s_phenylephrine_prepped.csv' %(date)))\n",
    "del(phenylephrine_df)\n",
    "\n",
    "pd.DataFrame(vasopressin_df).to_csv(Path(\n",
    "    save_path+'/%s_vasopressin_prepped.csv' %(date)))\n",
    "del(vasopressin_df)\n",
    "\n",
    "pd.DataFrame(dopamine_df).to_csv(Path(\n",
    "    save_path+'/%s_dopamine_prepped.csv' %(date)))\n",
    "del(dopamine_df)\n",
    "\n",
    "pd.DataFrame(dobutamine_df).to_csv(Path(\n",
    "    save_path+'/%s_dobutamine_prepped.csv' %(date)))\n",
    "del(dobutamine_df)\n",
    "\n",
    "del( dfs['vaso_dose_72'])\n"
   ]
  },
  {
   "cell_type": "markdown",
   "metadata": {},
   "source": [
    "## vitals -"
   ]
  },
  {
   "cell_type": "code",
   "execution_count": 28,
   "metadata": {},
   "outputs": [
    {
     "name": "stdout",
     "output_type": "stream",
     "text": [
      "time: 13.5 s\n"
     ]
    }
   ],
   "source": [
    "dfs['vitals_all_nosummary_72'] = dfs['vitals_all_nosummary_72'].rename(index=str, columns={\"valueuom\":\"uom\",\"vitalid\":'label', 'valuenum':'value'}) #change valueom to uom\n",
    "dfs['vitals_all_nosummary_72'] = dfs['vitals_all_nosummary_72'].loc[dfs['vitals_all_nosummary_72']['label'].notnull(),:]#.count() #removing null values\n",
    "\n",
    "dfs['vitals_all_nosummary_72'].loc[dfs['vitals_all_nosummary_72'].loc[:,'uom']=='BPM','uom']='bpm'\n",
    "\n",
    "#overall the values are extremely similar and are likely the same thing\n",
    "#i will combine them.\n",
    "dfs['vitals_all_nosummary_72'].loc[\n",
    "    (dfs['vitals_all_nosummary_72']['label']=='RespRate') & \n",
    "    (dfs['vitals_all_nosummary_72']['uom']=='bpm'),'uom']='insp/min'\n",
    "\n",
    "dfs['vitals_all_nosummary_72'].loc[\n",
    "    (dfs['vitals_all_nosummary_72']['label']=='TempC') & \n",
    "    (dfs['vitals_all_nosummary_72']['uom']=='?C'),'uom']='Deg. C'\n",
    "\n",
    "dfs['vitals_all_nosummary_72'].loc[\n",
    "    (dfs['vitals_all_nosummary_72']['label']=='TempF') & \n",
    "    (dfs['vitals_all_nosummary_72']['uom']=='Deg. F'),'uom']='Deg. C'\n",
    "\n",
    "dfs['vitals_all_nosummary_72'].loc[\n",
    "    (dfs['vitals_all_nosummary_72']['label']=='TempF') & \n",
    "    (dfs['vitals_all_nosummary_72']['uom']=='?F'),'uom']='Deg. C'\n",
    "\n",
    "dfs['vitals_all_nosummary_72'].loc[\n",
    "    (dfs['vitals_all_nosummary_72']['label']=='TempF'),'label']='temperature'\n",
    "\n",
    "dfs['vitals_all_nosummary_72'].loc[\n",
    "    (dfs['vitals_all_nosummary_72']['label']=='TempC'),'label']='temperature'"
   ]
  },
  {
   "cell_type": "markdown",
   "metadata": {},
   "source": [
    "- glucose max\n",
    "- glucose min\n",
    "- diasBP min\n",
    "- heartrate min\n",
    "- meanart pressure min\n",
    "- RespRate min\n",
    "- SYSbp min\n",
    "- TEMPC min"
   ]
  },
  {
   "cell_type": "code",
   "execution_count": 29,
   "metadata": {},
   "outputs": [
    {
     "name": "stdout",
     "output_type": "stream",
     "text": [
      "time: 3.44 s\n"
     ]
    }
   ],
   "source": [
    "#erroneous value cutoff summary\n",
    "## setting a conservative threshold for erroneous values to not skew my data.\n",
    "\n",
    "(dfs['vitals_all_nosummary_72'].loc[(dfs['vitals_all_nosummary_72'].loc[:,'icustay_id']==228393.0) &\n",
    "                         (dfs['vitals_all_nosummary_72'].loc[:,'label']=='Glucose') &\n",
    "                         (dfs['vitals_all_nosummary_72'].loc[:,'value']>99999), 'value'])=np.nan\n",
    "\n",
    "(dfs['vitals_all_nosummary_72'].loc[(dfs['vitals_all_nosummary_72'].loc[:,'label']=='Glucose') &\n",
    "                         (dfs['vitals_all_nosummary_72'].loc[:,'value']>99998), 'value'])=np.nan\n",
    "\n",
    "(dfs['vitals_all_nosummary_72'].loc[(dfs['vitals_all_nosummary_72'].loc[:,'label']=='Glucose') &\n",
    "                         (dfs['vitals_all_nosummary_72'].loc[:,'value']<15), 'value'])=np.nan\n",
    "\n",
    "(dfs['vitals_all_nosummary_72'].loc[(dfs['vitals_all_nosummary_72'].loc[:,'label']=='DiasBP') &\n",
    "                         (dfs['vitals_all_nosummary_72'].loc[:,'value']<15), 'value'])=np.nan\n",
    "\n",
    "(dfs['vitals_all_nosummary_72'].loc[(dfs['vitals_all_nosummary_72'].loc[:,'label']=='HeartRate') &\n",
    "                         (dfs['vitals_all_nosummary_72'].loc[:,'value'].between(1,29)), 'value'])=np.nan\n",
    "\n",
    "(dfs['vitals_all_nosummary_72'].loc[(dfs['vitals_all_nosummary_72'].loc[:,'label']=='RespRate') &\n",
    "                         (dfs['vitals_all_nosummary_72'].loc[:,'value']<4), 'value'])=np.nan\n",
    "\n",
    "(dfs['vitals_all_nosummary_72'].loc[(dfs['vitals_all_nosummary_72'].loc[:,'label']=='SysBP') &\n",
    "                         (dfs['vitals_all_nosummary_72'].loc[:,'value']<40), 'value'])=np.nan\n",
    "\n",
    "(dfs['vitals_all_nosummary_72'].loc[(dfs['vitals_all_nosummary_72'].loc[:,'label']=='TempC') &\n",
    "                         (dfs['vitals_all_nosummary_72'].loc[:,'value']<28), 'value'])=np.nan"
   ]
  },
  {
   "cell_type": "code",
   "execution_count": 30,
   "metadata": {},
   "outputs": [
    {
     "name": "stdout",
     "output_type": "stream",
     "text": [
      "time: 1.77 s\n"
     ]
    }
   ],
   "source": [
    "dfs['vitals_all_nosummary_72'] = dfs['vitals_all_nosummary_72'].loc[dfs['vitals_all_nosummary_72']['value'].notnull(),:]#.count() #6930 NULL values\n"
   ]
  },
  {
   "cell_type": "code",
   "execution_count": 31,
   "metadata": {},
   "outputs": [
    {
     "name": "stdout",
     "output_type": "stream",
     "text": [
      "time: 38.5 s\n"
     ]
    }
   ],
   "source": [
    "save_df(dfs['vitals_all_nosummary_72'], 'vitals')\n",
    "del(dfs['vitals_all_nosummary_72'])\n"
   ]
  },
  {
   "cell_type": "markdown",
   "metadata": {},
   "source": [
    "# labs -"
   ]
  },
  {
   "cell_type": "code",
   "execution_count": 12,
   "metadata": {},
   "outputs": [
    {
     "name": "stdout",
     "output_type": "stream",
     "text": [
      "time: 378 ms\n"
     ]
    }
   ],
   "source": [
    "dfs['labs_all_nosummary_72']= dfs['labs_all_nosummary_72'].rename(\n",
    "    columns={'valuenum':'value'}) #changing valuenum to value"
   ]
  },
  {
   "cell_type": "code",
   "execution_count": 13,
   "metadata": {},
   "outputs": [
    {
     "data": {
      "text/plain": [
       "label        uom    \n",
       "ALBUMIN      g/dL       10555\n",
       "ANION GAP    mEq/L      60646\n",
       "BANDS        %           3468\n",
       "BICARBONATE  mEq/L      61537\n",
       "BILIRUBIN    mg/dL      17577\n",
       "BUN          mg/dL      61976\n",
       "CHLORIDE     mEq/L      67645\n",
       "CREATININE   mg/dL      62241\n",
       "GLUCOSE      mg/dL      79790\n",
       "HEMATOCRIT   %          77302\n",
       "HEMOGLOBIN   g/dL       63891\n",
       "LACTATE      mmol/L     33788\n",
       "PLATELET     K/uL       57124\n",
       "POTASSIUM    mEq/L      84229\n",
       "PT           SECONDS    38948\n",
       "PTT          sec        40960\n",
       "SODIUM       mEq/L      70562\n",
       "WBC          K/uL       55480\n",
       "Name: uom, dtype: int64"
      ]
     },
     "execution_count": 13,
     "metadata": {},
     "output_type": "execute_result"
    },
    {
     "name": "stdout",
     "output_type": "stream",
     "text": [
      "time: 329 ms\n"
     ]
    }
   ],
   "source": [
    "dfs['labs_all_nosummary_72'].groupby('label')['uom'].value_counts() #looks good"
   ]
  },
  {
   "cell_type": "code",
   "execution_count": 14,
   "metadata": {},
   "outputs": [
    {
     "name": "stdout",
     "output_type": "stream",
     "text": [
      "time: 496 µs\n"
     ]
    }
   ],
   "source": [
    "#outliers"
   ]
  },
  {
   "cell_type": "code",
   "execution_count": 15,
   "metadata": {},
   "outputs": [
    {
     "name": "stdout",
     "output_type": "stream",
     "text": [
      "time: 642 ms\n"
     ]
    }
   ],
   "source": [
    "#summary value removal- was explored and coded adhoc, difficult to automate\n",
    "(dfs['labs_all_nosummary_72'].loc[\n",
    "    (dfs['labs_all_nosummary_72'].loc[:,'icustay_id']==261887) & \n",
    "    (dfs['labs_all_nosummary_72'].loc[:,'label']=='CHLORIDE')\n",
    "    & (dfs['labs_all_nosummary_72'].loc[:,'value']==3.4),'value'])=np.nan\n",
    "\n",
    "(dfs['labs_all_nosummary_72'].loc[\n",
    "    (dfs['labs_all_nosummary_72'].loc[:,'icustay_id']==236290) & \n",
    "    (dfs['labs_all_nosummary_72'].loc[:,'label']=='CHLORIDE')\n",
    "    & (dfs['labs_all_nosummary_72'].loc[:,'value']==11.0),'value'])=np.nan\n",
    "\n",
    "(dfs['labs_all_nosummary_72'].loc[\n",
    "    (dfs['labs_all_nosummary_72'].loc[:,'icustay_id']==292769) & \n",
    "    (dfs['labs_all_nosummary_72'].loc[:,'label']=='INR')\n",
    "    & (dfs['labs_all_nosummary_72'].loc[:,'value']==28.1),'value'])=np.nan\n",
    "\n",
    "(dfs['labs_all_nosummary_72'].loc[\n",
    "    (dfs['labs_all_nosummary_72'].loc[:,'icustay_id']==298457) & \n",
    "    (dfs['labs_all_nosummary_72'].loc[:,'label']=='INR')\n",
    "    & (dfs['labs_all_nosummary_72'].loc[:,'value']==48.8),'value'])=np.nan\n",
    "\n",
    "(dfs['labs_all_nosummary_72'].loc[\n",
    "    (dfs['labs_all_nosummary_72'].loc[:,'icustay_id']==234174) & \n",
    "    (dfs['labs_all_nosummary_72'].loc[:,'label']=='INR')\n",
    "    & (dfs['labs_all_nosummary_72'].loc[:,'value']==48.7),'value'])=np.nan\n",
    "\n",
    "(dfs['labs_all_nosummary_72'].loc[\n",
    "    (dfs['labs_all_nosummary_72'].loc[:,'icustay_id']==290264) & \n",
    "    (dfs['labs_all_nosummary_72'].loc[:,'label']=='INR')\n",
    "    & (dfs['labs_all_nosummary_72'].loc[:,'value']==42.0),'value'])=np.nan\n",
    "\n",
    "(dfs['labs_all_nosummary_72'].loc[\n",
    "    (dfs['labs_all_nosummary_72'].loc[:,'icustay_id']==290264) & \n",
    "    (dfs['labs_all_nosummary_72'].loc[:,'label']=='INR')\n",
    "    & (dfs['labs_all_nosummary_72'].loc[:,'value']==22.8),'value'])=np.nan"
   ]
  },
  {
   "cell_type": "code",
   "execution_count": 16,
   "metadata": {},
   "outputs": [
    {
     "name": "stdout",
     "output_type": "stream",
     "text": [
      "time: 105 ms\n"
     ]
    }
   ],
   "source": [
    "dfs['labs_all_nosummary_72']= dfs['labs_all_nosummary_72'].loc[dfs['labs_all_nosummary_72'].loc[:,'value'].notnull(),:] #removing null values\n"
   ]
  },
  {
   "cell_type": "code",
   "execution_count": 17,
   "metadata": {},
   "outputs": [
    {
     "data": {
      "text/html": [
       "<div>\n",
       "<style scoped>\n",
       "    .dataframe tbody tr th:only-of-type {\n",
       "        vertical-align: middle;\n",
       "    }\n",
       "\n",
       "    .dataframe tbody tr th {\n",
       "        vertical-align: top;\n",
       "    }\n",
       "\n",
       "    .dataframe thead th {\n",
       "        text-align: right;\n",
       "    }\n",
       "</style>\n",
       "<table border=\"1\" class=\"dataframe\">\n",
       "  <thead>\n",
       "    <tr style=\"text-align: right;\">\n",
       "      <th></th>\n",
       "      <th>subject_id</th>\n",
       "      <th>hadm_id</th>\n",
       "      <th>icustay_id</th>\n",
       "      <th>charttime</th>\n",
       "      <th>label</th>\n",
       "      <th>value</th>\n",
       "      <th>uom</th>\n",
       "      <th>t_0</th>\n",
       "      <th>delta</th>\n",
       "    </tr>\n",
       "  </thead>\n",
       "  <tbody>\n",
       "    <tr>\n",
       "      <th>0</th>\n",
       "      <td>9</td>\n",
       "      <td>150750</td>\n",
       "      <td>220597</td>\n",
       "      <td>2149-11-14 07:47:00</td>\n",
       "      <td>SODIUM</td>\n",
       "      <td>137.0</td>\n",
       "      <td>mEq/L</td>\n",
       "      <td>2149-11-13</td>\n",
       "      <td>1 days 07:47:00.000000000</td>\n",
       "    </tr>\n",
       "    <tr>\n",
       "      <th>6</th>\n",
       "      <td>9</td>\n",
       "      <td>150750</td>\n",
       "      <td>220597</td>\n",
       "      <td>2149-11-13 03:20:00</td>\n",
       "      <td>SODIUM</td>\n",
       "      <td>130.0</td>\n",
       "      <td>mEq/L</td>\n",
       "      <td>2149-11-13</td>\n",
       "      <td>0 days 03:20:00.000000000</td>\n",
       "    </tr>\n",
       "    <tr>\n",
       "      <th>7</th>\n",
       "      <td>9</td>\n",
       "      <td>150750</td>\n",
       "      <td>220597</td>\n",
       "      <td>2149-11-13 16:04:00</td>\n",
       "      <td>SODIUM</td>\n",
       "      <td>129.0</td>\n",
       "      <td>mEq/L</td>\n",
       "      <td>2149-11-13</td>\n",
       "      <td>0 days 16:04:00.000000000</td>\n",
       "    </tr>\n",
       "    <tr>\n",
       "      <th>8</th>\n",
       "      <td>9</td>\n",
       "      <td>150750</td>\n",
       "      <td>220597</td>\n",
       "      <td>2149-11-13 19:30:00</td>\n",
       "      <td>SODIUM</td>\n",
       "      <td>131.0</td>\n",
       "      <td>mEq/L</td>\n",
       "      <td>2149-11-13</td>\n",
       "      <td>0 days 19:30:00.000000000</td>\n",
       "    </tr>\n",
       "    <tr>\n",
       "      <th>9</th>\n",
       "      <td>9</td>\n",
       "      <td>150750</td>\n",
       "      <td>220597</td>\n",
       "      <td>2149-11-14 01:48:00</td>\n",
       "      <td>SODIUM</td>\n",
       "      <td>133.0</td>\n",
       "      <td>mEq/L</td>\n",
       "      <td>2149-11-13</td>\n",
       "      <td>1 days 01:48:00.000000000</td>\n",
       "    </tr>\n",
       "  </tbody>\n",
       "</table>\n",
       "</div>"
      ],
      "text/plain": [
       "   subject_id  hadm_id  icustay_id            charttime   label  value    uom  \\\n",
       "0           9   150750      220597  2149-11-14 07:47:00  SODIUM  137.0  mEq/L   \n",
       "6           9   150750      220597  2149-11-13 03:20:00  SODIUM  130.0  mEq/L   \n",
       "7           9   150750      220597  2149-11-13 16:04:00  SODIUM  129.0  mEq/L   \n",
       "8           9   150750      220597  2149-11-13 19:30:00  SODIUM  131.0  mEq/L   \n",
       "9           9   150750      220597  2149-11-14 01:48:00  SODIUM  133.0  mEq/L   \n",
       "\n",
       "          t_0                      delta  \n",
       "0  2149-11-13  1 days 07:47:00.000000000  \n",
       "6  2149-11-13  0 days 03:20:00.000000000  \n",
       "7  2149-11-13  0 days 16:04:00.000000000  \n",
       "8  2149-11-13  0 days 19:30:00.000000000  \n",
       "9  2149-11-13  1 days 01:48:00.000000000  "
      ]
     },
     "execution_count": 17,
     "metadata": {},
     "output_type": "execute_result"
    },
    {
     "name": "stdout",
     "output_type": "stream",
     "text": [
      "time: 32.2 ms\n"
     ]
    }
   ],
   "source": [
    "dfs['labs_all_nosummary_72'].head()"
   ]
  },
  {
   "cell_type": "code",
   "execution_count": 18,
   "metadata": {},
   "outputs": [
    {
     "name": "stdout",
     "output_type": "stream",
     "text": [
      "time: 110 ms\n"
     ]
    }
   ],
   "source": [
    "#removing unwanted values\n",
    "unwanted_values= ['HEMATOCRIT','ANION GAP','PT','ALBUMIN']\n",
    "dfs['labs_all_nosummary_72']= dfs['labs_all_nosummary_72'].loc[~dfs['labs_all_nosummary_72'].loc[:,'label'].isin(unwanted_values),:]"
   ]
  },
  {
   "cell_type": "code",
   "execution_count": null,
   "metadata": {},
   "outputs": [],
   "source": []
  },
  {
   "cell_type": "code",
   "execution_count": 36,
   "metadata": {},
   "outputs": [
    {
     "name": "stdout",
     "output_type": "stream",
     "text": [
      "time: 32.6 ms\n"
     ]
    }
   ],
   "source": [
    "def extreme_value_vis(df, label_values=None,value='valuenum', Min=True, Max=True, std_num=3):  \n",
    "    \"\"\"\n",
    "    takes in a dataframe and list of value_labels and will return a list of all values that \n",
    "    lie outside of +/- 3 sd range for these groups \n",
    "    \"\"\"\n",
    "    cond_1= df.loc[:,value].notna()\n",
    "    \n",
    "    if label_values == None:\n",
    "        \n",
    "        cond_2= df.loc[:,'label']\n",
    "    else:\n",
    "        cond_2= df.loc[:,'label'].isin(label_values)\n",
    "        \n",
    "    cond_3= df.loc[:,value]> df.loc[:,value].mean()+ df.loc[:,value].std()\n",
    "\n",
    "    df_outlier_explore= df[cond_1& cond_2].copy() #need to use .copy() to avoid valueset error\n",
    "    df_outlier_explore['mean']=df_outlier_explore.groupby(['label'])[value].transform(lambda x : x.mean())\n",
    "    df_outlier_explore['std']=df_outlier_explore.groupby(['label'])[value].transform(lambda x : x.std())\n",
    "\n",
    "    df_outlier_explore['mean']=df_outlier_explore.groupby(['label'])[value].transform(lambda x : x.mean())\n",
    "\n",
    "    if Max == True:\n",
    "        cond4= (df_outlier_explore.loc[:,'value'].astype(float)>\n",
    "                    (df_outlier_explore.loc[:,'mean'].astype(float)+std_num*df_outlier_explore.loc[:,'std'].astype(float)))\n",
    "    else: cond4= False\n",
    "    \n",
    "    if Min == True:\n",
    "        cond5= (df_outlier_explore.loc[:,'value'].astype(float)<\n",
    "                    (df_outlier_explore.loc[:,'mean'].astype(float)-std_num*df_outlier_explore.loc[:,'std'].astype(float)))\n",
    "    else: cond5= False\n",
    "    return(df_outlier_explore.loc[cond4^cond5,:]) #rows that meet either condition but not both. "
   ]
  },
  {
   "cell_type": "code",
   "execution_count": 37,
   "metadata": {},
   "outputs": [
    {
     "name": "stdout",
     "output_type": "stream",
     "text": [
      "time: 93.5 ms\n"
     ]
    }
   ],
   "source": [
    "dfs['labs_all_nosummary_72']\n",
    "wbc_explore=extreme_value_vis(df=dfs['labs_all_nosummary_72'], label_values=['WBC'], value='value')"
   ]
  },
  {
   "cell_type": "code",
   "execution_count": 47,
   "metadata": {},
   "outputs": [
    {
     "name": "stdout",
     "output_type": "stream",
     "text": [
      "time: 3.94 ms\n"
     ]
    }
   ],
   "source": [
    "wbc_explore.sort_values(by='value', ascending=False) #wow 540 rows...\n",
    "\n",
    "large_wbc=list(\n",
    "    set(\n",
    "        list(wbc_explore[wbc_explore['value']>100]['icustay_id']\n",
    "            )\n",
    "    )\n",
    ") #96 rows above 100."
   ]
  },
  {
   "cell_type": "code",
   "execution_count": 50,
   "metadata": {},
   "outputs": [
    {
     "data": {
      "text/plain": [
       "C_neg/A_full       19\n",
       "C_pos/A_full        3\n",
       "C_neg/A_partial     2\n",
       "Name: final_bin, dtype: int64"
      ]
     },
     "execution_count": 50,
     "metadata": {},
     "output_type": "execute_result"
    },
    {
     "name": "stdout",
     "output_type": "stream",
     "text": [
      "time: 5.49 ms\n"
     ]
    }
   ],
   "source": [
    "final_pt_df2[final_pt_df2['icustay_id'].isin(large_wbc)]['final_bin'].value_counts()"
   ]
  },
  {
   "cell_type": "code",
   "execution_count": null,
   "metadata": {},
   "outputs": [],
   "source": []
  },
  {
   "cell_type": "code",
   "execution_count": null,
   "metadata": {},
   "outputs": [],
   "source": []
  },
  {
   "cell_type": "code",
   "execution_count": 39,
   "metadata": {},
   "outputs": [
    {
     "name": "stdout",
     "output_type": "stream",
     "text": [
      "time: 5.94 s\n"
     ]
    }
   ],
   "source": [
    "pd.DataFrame(dfs['labs_all_nosummary_72']).to_csv(Path(\n",
    "    save_path+'/%s_labs_prepped.csv' %(date)))\n",
    "del(dfs['labs_all_nosummary_72'])"
   ]
  },
  {
   "cell_type": "markdown",
   "metadata": {},
   "source": [
    "## vent category -"
   ]
  },
  {
   "cell_type": "code",
   "execution_count": 40,
   "metadata": {},
   "outputs": [
    {
     "data": {
      "text/plain": [
       "14068"
      ]
     },
     "execution_count": 40,
     "metadata": {},
     "output_type": "execute_result"
    },
    {
     "name": "stdout",
     "output_type": "stream",
     "text": [
      "time: 25.7 ms\n"
     ]
    }
   ],
   "source": [
    "dfs['ventcategory_df']['icustay_id'].nunique()\n",
    "#13978 patients with someform of vent data. "
   ]
  },
  {
   "cell_type": "code",
   "execution_count": 41,
   "metadata": {},
   "outputs": [
    {
     "data": {
      "text/html": [
       "<div>\n",
       "<style scoped>\n",
       "    .dataframe tbody tr th:only-of-type {\n",
       "        vertical-align: middle;\n",
       "    }\n",
       "\n",
       "    .dataframe tbody tr th {\n",
       "        vertical-align: top;\n",
       "    }\n",
       "\n",
       "    .dataframe thead th {\n",
       "        text-align: right;\n",
       "    }\n",
       "</style>\n",
       "<table border=\"1\" class=\"dataframe\">\n",
       "  <thead>\n",
       "    <tr style=\"text-align: right;\">\n",
       "      <th></th>\n",
       "      <th>icustay_id</th>\n",
       "      <th>day</th>\n",
       "      <th>value</th>\n",
       "      <th>uom</th>\n",
       "      <th>t_0</th>\n",
       "    </tr>\n",
       "  </thead>\n",
       "  <tbody>\n",
       "    <tr>\n",
       "      <th>0</th>\n",
       "      <td>200012.0</td>\n",
       "      <td>0</td>\n",
       "      <td>Oxygen</td>\n",
       "      <td>mech/O2/none category</td>\n",
       "      <td>2153-12-23</td>\n",
       "    </tr>\n",
       "    <tr>\n",
       "      <th>1</th>\n",
       "      <td>200014.0</td>\n",
       "      <td>0</td>\n",
       "      <td>Mech</td>\n",
       "      <td>mech/O2/none category</td>\n",
       "      <td>2105-02-17</td>\n",
       "    </tr>\n",
       "    <tr>\n",
       "      <th>2</th>\n",
       "      <td>200014.0</td>\n",
       "      <td>1</td>\n",
       "      <td>Oxygen</td>\n",
       "      <td>mech/O2/none category</td>\n",
       "      <td>2105-02-17</td>\n",
       "    </tr>\n",
       "    <tr>\n",
       "      <th>3</th>\n",
       "      <td>200019.0</td>\n",
       "      <td>0</td>\n",
       "      <td>Mech</td>\n",
       "      <td>mech/O2/none category</td>\n",
       "      <td>2178-07-09</td>\n",
       "    </tr>\n",
       "    <tr>\n",
       "      <th>4</th>\n",
       "      <td>200019.0</td>\n",
       "      <td>1</td>\n",
       "      <td>Oxygen</td>\n",
       "      <td>mech/O2/none category</td>\n",
       "      <td>2178-07-09</td>\n",
       "    </tr>\n",
       "  </tbody>\n",
       "</table>\n",
       "</div>"
      ],
      "text/plain": [
       "   icustay_id  day   value                    uom         t_0\n",
       "0    200012.0    0  Oxygen  mech/O2/none category  2153-12-23\n",
       "1    200014.0    0    Mech  mech/O2/none category  2105-02-17\n",
       "2    200014.0    1  Oxygen  mech/O2/none category  2105-02-17\n",
       "3    200019.0    0    Mech  mech/O2/none category  2178-07-09\n",
       "4    200019.0    1  Oxygen  mech/O2/none category  2178-07-09"
      ]
     },
     "execution_count": 41,
     "metadata": {},
     "output_type": "execute_result"
    },
    {
     "name": "stdout",
     "output_type": "stream",
     "text": [
      "time: 33.5 ms\n"
     ]
    }
   ],
   "source": [
    "dfs['ventcategory_df']['uom']='mech/O2/none category'\n",
    "dfs['ventcategory_df'].head()"
   ]
  },
  {
   "cell_type": "code",
   "execution_count": 42,
   "metadata": {},
   "outputs": [
    {
     "name": "stdout",
     "output_type": "stream",
     "text": [
      "time: 44.9 ms\n"
     ]
    }
   ],
   "source": [
    "dfs['ventcategory_df']=dfs['ventcategory_df'].rename(index=str, columns={'day':'delta'})\n",
    "dfs['ventcategory_df']['label']='vent_recieved'\n",
    "dfs['ventcategory_df']['delta']=pd.to_timedelta(dfs['ventcategory_df']['delta'], unit='d')\n",
    "#dfs['ventcategory_df']= dfs['ventcategory_df'].drop(columns=['day'], axis=1) #removing day column"
   ]
  },
  {
   "cell_type": "code",
   "execution_count": 43,
   "metadata": {},
   "outputs": [
    {
     "data": {
      "text/html": [
       "<div>\n",
       "<style scoped>\n",
       "    .dataframe tbody tr th:only-of-type {\n",
       "        vertical-align: middle;\n",
       "    }\n",
       "\n",
       "    .dataframe tbody tr th {\n",
       "        vertical-align: top;\n",
       "    }\n",
       "\n",
       "    .dataframe thead th {\n",
       "        text-align: right;\n",
       "    }\n",
       "</style>\n",
       "<table border=\"1\" class=\"dataframe\">\n",
       "  <thead>\n",
       "    <tr style=\"text-align: right;\">\n",
       "      <th></th>\n",
       "      <th>icustay_id</th>\n",
       "      <th>delta</th>\n",
       "      <th>value</th>\n",
       "      <th>uom</th>\n",
       "      <th>t_0</th>\n",
       "      <th>label</th>\n",
       "    </tr>\n",
       "  </thead>\n",
       "  <tbody>\n",
       "    <tr>\n",
       "      <th>0</th>\n",
       "      <td>200012.0</td>\n",
       "      <td>0 days</td>\n",
       "      <td>Oxygen</td>\n",
       "      <td>mech/O2/none category</td>\n",
       "      <td>2153-12-23</td>\n",
       "      <td>vent_recieved</td>\n",
       "    </tr>\n",
       "    <tr>\n",
       "      <th>1</th>\n",
       "      <td>200014.0</td>\n",
       "      <td>0 days</td>\n",
       "      <td>Mech</td>\n",
       "      <td>mech/O2/none category</td>\n",
       "      <td>2105-02-17</td>\n",
       "      <td>vent_recieved</td>\n",
       "    </tr>\n",
       "    <tr>\n",
       "      <th>2</th>\n",
       "      <td>200014.0</td>\n",
       "      <td>1 days</td>\n",
       "      <td>Oxygen</td>\n",
       "      <td>mech/O2/none category</td>\n",
       "      <td>2105-02-17</td>\n",
       "      <td>vent_recieved</td>\n",
       "    </tr>\n",
       "    <tr>\n",
       "      <th>3</th>\n",
       "      <td>200019.0</td>\n",
       "      <td>0 days</td>\n",
       "      <td>Mech</td>\n",
       "      <td>mech/O2/none category</td>\n",
       "      <td>2178-07-09</td>\n",
       "      <td>vent_recieved</td>\n",
       "    </tr>\n",
       "    <tr>\n",
       "      <th>4</th>\n",
       "      <td>200019.0</td>\n",
       "      <td>1 days</td>\n",
       "      <td>Oxygen</td>\n",
       "      <td>mech/O2/none category</td>\n",
       "      <td>2178-07-09</td>\n",
       "      <td>vent_recieved</td>\n",
       "    </tr>\n",
       "  </tbody>\n",
       "</table>\n",
       "</div>"
      ],
      "text/plain": [
       "   icustay_id  delta   value                    uom         t_0          label\n",
       "0    200012.0 0 days  Oxygen  mech/O2/none category  2153-12-23  vent_recieved\n",
       "1    200014.0 0 days    Mech  mech/O2/none category  2105-02-17  vent_recieved\n",
       "2    200014.0 1 days  Oxygen  mech/O2/none category  2105-02-17  vent_recieved\n",
       "3    200019.0 0 days    Mech  mech/O2/none category  2178-07-09  vent_recieved\n",
       "4    200019.0 1 days  Oxygen  mech/O2/none category  2178-07-09  vent_recieved"
      ]
     },
     "execution_count": 43,
     "metadata": {},
     "output_type": "execute_result"
    },
    {
     "name": "stdout",
     "output_type": "stream",
     "text": [
      "time: 33 ms\n"
     ]
    }
   ],
   "source": [
    "dfs['ventcategory_df'].head()"
   ]
  },
  {
   "cell_type": "code",
   "execution_count": 44,
   "metadata": {},
   "outputs": [
    {
     "name": "stdout",
     "output_type": "stream",
     "text": [
      "time: 695 µs\n"
     ]
    }
   ],
   "source": [
    "#collapsing into 1 column for 3 days"
   ]
  },
  {
   "cell_type": "code",
   "execution_count": 45,
   "metadata": {},
   "outputs": [
    {
     "name": "stdout",
     "output_type": "stream",
     "text": [
      "time: 15.1 ms\n"
     ]
    }
   ],
   "source": [
    "def vent_day_collapser(x):\n",
    "    if 'Mech' in list(x.unique()):\n",
    "        x= 'Mech'\n",
    "    elif 'Oxygen' in list(x.unique()):\n",
    "        x= 'Oxygen'\n",
    "    else:\n",
    "        x='None'\n",
    "        \n",
    "    return(x)\n"
   ]
  },
  {
   "cell_type": "code",
   "execution_count": 46,
   "metadata": {},
   "outputs": [
    {
     "data": {
      "text/html": [
       "<div>\n",
       "<style scoped>\n",
       "    .dataframe tbody tr th:only-of-type {\n",
       "        vertical-align: middle;\n",
       "    }\n",
       "\n",
       "    .dataframe tbody tr th {\n",
       "        vertical-align: top;\n",
       "    }\n",
       "\n",
       "    .dataframe thead th {\n",
       "        text-align: right;\n",
       "    }\n",
       "</style>\n",
       "<table border=\"1\" class=\"dataframe\">\n",
       "  <thead>\n",
       "    <tr style=\"text-align: right;\">\n",
       "      <th></th>\n",
       "      <th>icustay_id</th>\n",
       "      <th>delta</th>\n",
       "      <th>value</th>\n",
       "      <th>uom</th>\n",
       "      <th>t_0</th>\n",
       "      <th>label</th>\n",
       "    </tr>\n",
       "  </thead>\n",
       "  <tbody>\n",
       "    <tr>\n",
       "      <th>0</th>\n",
       "      <td>200012.0</td>\n",
       "      <td>0 days</td>\n",
       "      <td>Oxygen</td>\n",
       "      <td>mech/O2/none category</td>\n",
       "      <td>2153-12-23</td>\n",
       "      <td>vent_recieved</td>\n",
       "    </tr>\n",
       "    <tr>\n",
       "      <th>1</th>\n",
       "      <td>200014.0</td>\n",
       "      <td>0 days</td>\n",
       "      <td>Mech</td>\n",
       "      <td>mech/O2/none category</td>\n",
       "      <td>2105-02-17</td>\n",
       "      <td>vent_recieved</td>\n",
       "    </tr>\n",
       "    <tr>\n",
       "      <th>3</th>\n",
       "      <td>200019.0</td>\n",
       "      <td>0 days</td>\n",
       "      <td>Mech</td>\n",
       "      <td>mech/O2/none category</td>\n",
       "      <td>2178-07-09</td>\n",
       "      <td>vent_recieved</td>\n",
       "    </tr>\n",
       "    <tr>\n",
       "      <th>6</th>\n",
       "      <td>200030.0</td>\n",
       "      <td>0 days</td>\n",
       "      <td>Oxygen</td>\n",
       "      <td>mech/O2/none category</td>\n",
       "      <td>2150-11-14</td>\n",
       "      <td>vent_recieved</td>\n",
       "    </tr>\n",
       "    <tr>\n",
       "      <th>9</th>\n",
       "      <td>200033.0</td>\n",
       "      <td>0 days</td>\n",
       "      <td>Mech</td>\n",
       "      <td>mech/O2/none category</td>\n",
       "      <td>2198-08-11</td>\n",
       "      <td>vent_recieved</td>\n",
       "    </tr>\n",
       "  </tbody>\n",
       "</table>\n",
       "</div>"
      ],
      "text/plain": [
       "   icustay_id  delta   value                    uom         t_0          label\n",
       "0    200012.0 0 days  Oxygen  mech/O2/none category  2153-12-23  vent_recieved\n",
       "1    200014.0 0 days    Mech  mech/O2/none category  2105-02-17  vent_recieved\n",
       "3    200019.0 0 days    Mech  mech/O2/none category  2178-07-09  vent_recieved\n",
       "6    200030.0 0 days  Oxygen  mech/O2/none category  2150-11-14  vent_recieved\n",
       "9    200033.0 0 days    Mech  mech/O2/none category  2198-08-11  vent_recieved"
      ]
     },
     "execution_count": 46,
     "metadata": {},
     "output_type": "execute_result"
    },
    {
     "name": "stdout",
     "output_type": "stream",
     "text": [
      "time: 16.5 s\n"
     ]
    }
   ],
   "source": [
    "#collapsing all days into the worst day. (could be transfered to a different spdsheet)\n",
    "ventcategory_1day_df= dfs['ventcategory_df'].copy()\n",
    "ventcategory_1day_df['value']=ventcategory_1day_df.groupby('icustay_id',as_index=False)['value'].transform(vent_day_collapser)\n",
    "ventcategory_1day_df= ventcategory_1day_df.drop_duplicates(['icustay_id','value']).sort_values('icustay_id') #\n",
    "ventcategory_1day_df= ventcategory_1day_df.loc[ventcategory_1day_df.loc[:,'icustay_id'].isin(icustay_id),:] #had icustay ids not in final cohort, fail safe mesure\n",
    "#ventcategory_1day_df['label']= 'vent_recieved'\n",
    "ventcategory_1day_df.head()"
   ]
  },
  {
   "cell_type": "code",
   "execution_count": 47,
   "metadata": {},
   "outputs": [
    {
     "name": "stdout",
     "output_type": "stream",
     "text": [
      "time: 267 ms\n"
     ]
    }
   ],
   "source": [
    "pd.DataFrame(ventcategory_1day_df).to_csv(Path(\n",
    "    save_path+'/%s_ventcategory_prepped.csv' %(date)))\n",
    "del(ventcategory_1day_df,dfs['ventcategory_df'] )"
   ]
  },
  {
   "cell_type": "markdown",
   "metadata": {},
   "source": [
    "## weight and height firstday -\n",
    "i explored weightdurations and it had more missing values than weightfirstday, so i will use that. we can revisit this if we need longitudinal weights"
   ]
  },
  {
   "cell_type": "code",
   "execution_count": 48,
   "metadata": {},
   "outputs": [
    {
     "name": "stdout",
     "output_type": "stream",
     "text": [
      "time: 1.44 ms\n"
     ]
    }
   ],
   "source": [
    "dfs['weightfirstday_df']['uom']='kg'"
   ]
  },
  {
   "cell_type": "code",
   "execution_count": 49,
   "metadata": {},
   "outputs": [
    {
     "data": {
      "text/html": [
       "<div>\n",
       "<style scoped>\n",
       "    .dataframe tbody tr th:only-of-type {\n",
       "        vertical-align: middle;\n",
       "    }\n",
       "\n",
       "    .dataframe tbody tr th {\n",
       "        vertical-align: top;\n",
       "    }\n",
       "\n",
       "    .dataframe thead th {\n",
       "        text-align: right;\n",
       "    }\n",
       "</style>\n",
       "<table border=\"1\" class=\"dataframe\">\n",
       "  <thead>\n",
       "    <tr style=\"text-align: right;\">\n",
       "      <th></th>\n",
       "      <th>icustay_id</th>\n",
       "      <th>weight</th>\n",
       "      <th>weight_admit</th>\n",
       "      <th>weight_daily</th>\n",
       "      <th>weight_echoinhosp</th>\n",
       "      <th>weight_echoprehosp</th>\n",
       "      <th>uom</th>\n",
       "      <th>t_0</th>\n",
       "    </tr>\n",
       "  </thead>\n",
       "  <tbody>\n",
       "    <tr>\n",
       "      <th>0</th>\n",
       "      <td>200012</td>\n",
       "      <td>51.2</td>\n",
       "      <td>51.200001</td>\n",
       "      <td>51.200001</td>\n",
       "      <td>NaN</td>\n",
       "      <td>NaN</td>\n",
       "      <td>kg</td>\n",
       "      <td>2153-12-23</td>\n",
       "    </tr>\n",
       "    <tr>\n",
       "      <th>1</th>\n",
       "      <td>200014</td>\n",
       "      <td>62.0</td>\n",
       "      <td>62.000000</td>\n",
       "      <td>NaN</td>\n",
       "      <td>NaN</td>\n",
       "      <td>NaN</td>\n",
       "      <td>kg</td>\n",
       "      <td>2105-02-17</td>\n",
       "    </tr>\n",
       "    <tr>\n",
       "      <th>2</th>\n",
       "      <td>200019</td>\n",
       "      <td>65.0</td>\n",
       "      <td>65.000000</td>\n",
       "      <td>NaN</td>\n",
       "      <td>NaN</td>\n",
       "      <td>NaN</td>\n",
       "      <td>kg</td>\n",
       "      <td>2178-07-09</td>\n",
       "    </tr>\n",
       "    <tr>\n",
       "      <th>3</th>\n",
       "      <td>200030</td>\n",
       "      <td>113.6</td>\n",
       "      <td>113.599998</td>\n",
       "      <td>113.599998</td>\n",
       "      <td>NaN</td>\n",
       "      <td>NaN</td>\n",
       "      <td>kg</td>\n",
       "      <td>2150-11-14</td>\n",
       "    </tr>\n",
       "    <tr>\n",
       "      <th>4</th>\n",
       "      <td>200033</td>\n",
       "      <td>74.0</td>\n",
       "      <td>74.000000</td>\n",
       "      <td>NaN</td>\n",
       "      <td>NaN</td>\n",
       "      <td>NaN</td>\n",
       "      <td>kg</td>\n",
       "      <td>2198-08-11</td>\n",
       "    </tr>\n",
       "  </tbody>\n",
       "</table>\n",
       "</div>"
      ],
      "text/plain": [
       "   icustay_id  weight  weight_admit  weight_daily  weight_echoinhosp  \\\n",
       "0      200012    51.2     51.200001     51.200001                NaN   \n",
       "1      200014    62.0     62.000000           NaN                NaN   \n",
       "2      200019    65.0     65.000000           NaN                NaN   \n",
       "3      200030   113.6    113.599998    113.599998                NaN   \n",
       "4      200033    74.0     74.000000           NaN                NaN   \n",
       "\n",
       "   weight_echoprehosp uom         t_0  \n",
       "0                 NaN  kg  2153-12-23  \n",
       "1                 NaN  kg  2105-02-17  \n",
       "2                 NaN  kg  2178-07-09  \n",
       "3                 NaN  kg  2150-11-14  \n",
       "4                 NaN  kg  2198-08-11  "
      ]
     },
     "execution_count": 49,
     "metadata": {},
     "output_type": "execute_result"
    },
    {
     "name": "stdout",
     "output_type": "stream",
     "text": [
      "time: 17.8 ms\n"
     ]
    }
   ],
   "source": [
    "dfs['weightfirstday_df'].head()  \n",
    "#weight column is the conglomerate of weight_admin>weight_daily> weight_echoinhosp> weight_echoprehosp"
   ]
  },
  {
   "cell_type": "code",
   "execution_count": 50,
   "metadata": {},
   "outputs": [
    {
     "name": "stdout",
     "output_type": "stream",
     "text": [
      "time: 11.1 ms\n"
     ]
    }
   ],
   "source": [
    "dfs['weightfirstday_df']= dfs['weightfirstday_df'][dfs['weightfirstday_df']['weight'].notnull()]\n",
    "dfs['weightfirstday_df']= dfs['weightfirstday_df'][['icustay_id','weight','uom']]"
   ]
  },
  {
   "cell_type": "code",
   "execution_count": 51,
   "metadata": {},
   "outputs": [
    {
     "name": "stdout",
     "output_type": "stream",
     "text": [
      "time: 69.7 ms\n"
     ]
    }
   ],
   "source": [
    "dfs['weightfirstday_df']['label']= 'weight'\n",
    "dfs['weightfirstday_df']=dfs['weightfirstday_df'].rename(index=str, columns={'weight':'value'})\n",
    "\n",
    "#adding the assumed first day delta column to standardize all columns\n",
    "dfs['weightfirstday_df']['delta']=pd.to_timedelta(0,'days')\n",
    "\n",
    "#adding t_0\n",
    "dfs['weightfirstday_df']= pd.merge(dfs['weightfirstday_df'], final_pt_df2[['icustay_id',time_var]], left_on='icustay_id', right_on='icustay_id')"
   ]
  },
  {
   "cell_type": "code",
   "execution_count": 52,
   "metadata": {},
   "outputs": [
    {
     "name": "stdout",
     "output_type": "stream",
     "text": [
      "time: 310 ms\n"
     ]
    }
   ],
   "source": [
    "pd.DataFrame(dfs['weightfirstday_df']).to_csv(Path(\n",
    "    save_path+'/%s_weight_prepped.csv' %(date)))\n",
    "del(dfs['weightfirstday_df'])"
   ]
  },
  {
   "cell_type": "code",
   "execution_count": 53,
   "metadata": {},
   "outputs": [
    {
     "name": "stdout",
     "output_type": "stream",
     "text": [
      "time: 15.9 ms\n"
     ]
    }
   ],
   "source": [
    "dfs['heightfirstday_df']['uom']='cm'"
   ]
  },
  {
   "cell_type": "code",
   "execution_count": 54,
   "metadata": {},
   "outputs": [
    {
     "name": "stdout",
     "output_type": "stream",
     "text": [
      "time: 25.3 ms\n"
     ]
    }
   ],
   "source": [
    "dfs['heightfirstday_df']= dfs['heightfirstday_df'][dfs['heightfirstday_df']['height'].notnull()]\n",
    "dfs['heightfirstday_df']= dfs['heightfirstday_df'][['icustay_id','height','uom']]"
   ]
  },
  {
   "cell_type": "code",
   "execution_count": 55,
   "metadata": {},
   "outputs": [
    {
     "name": "stdout",
     "output_type": "stream",
     "text": [
      "time: 79.8 ms\n"
     ]
    }
   ],
   "source": [
    "dfs['heightfirstday_df']['label']= 'height'\n",
    "dfs['heightfirstday_df']=dfs['heightfirstday_df'].rename(index=str, columns={'height':'value'})\n",
    "\n",
    "#adding the assumed first day delta column to standardize all columns\n",
    "dfs['heightfirstday_df']['delta']=pd.to_timedelta(0,'days')\n",
    "#adding t_0\n",
    "dfs['heightfirstday_df']= pd.merge(dfs['heightfirstday_df'], final_pt_df2[['icustay_id',time_var]], left_on='icustay_id', right_on='icustay_id')"
   ]
  },
  {
   "cell_type": "code",
   "execution_count": 56,
   "metadata": {},
   "outputs": [
    {
     "name": "stdout",
     "output_type": "stream",
     "text": [
      "time: 229 ms\n"
     ]
    }
   ],
   "source": [
    "# pd.DataFrame(dfs['heightfirstday_df']).to_csv(Path(\n",
    "#     save_path+'/%s_height_prepped.csv' %(date)))\n",
    "# del(dfs['heightfirstday_df'])\n",
    "\n",
    "#heightfirstday\n",
    "save_df(dfs['heightfirstday_df'], 'height')\n",
    "del(dfs['heightfirstday_df'])"
   ]
  },
  {
   "cell_type": "markdown",
   "metadata": {},
   "source": [
    "# UTI"
   ]
  },
  {
   "cell_type": "code",
   "execution_count": 57,
   "metadata": {},
   "outputs": [
    {
     "data": {
      "text/plain": [
       "array(['NEG', 'MOD', 'SM', 'TR', 'POS', 'LG', 'SMALL', ' '], dtype=object)"
      ]
     },
     "execution_count": 57,
     "metadata": {},
     "output_type": "execute_result"
    },
    {
     "name": "stdout",
     "output_type": "stream",
     "text": [
      "time: 15.8 ms\n"
     ]
    }
   ],
   "source": [
    "dfs['uti_all_72']['value'].unique()#seems good #all uti within clinical timewindow"
   ]
  },
  {
   "cell_type": "code",
   "execution_count": 58,
   "metadata": {},
   "outputs": [
    {
     "name": "stdout",
     "output_type": "stream",
     "text": [
      "time: 125 ms\n"
     ]
    }
   ],
   "source": [
    "dfs['uti_all_72']= dfs['uti_all_72'].loc[(dfs['uti_all_72'].loc[:,'value']!='NEG')&\n",
    "               dfs['uti_all_72'].loc[:,'value'].notnull(),:] #filter to only pos rows\n",
    "\n",
    "dfs['uti_all_72']= dfs['uti_all_72'].loc[(dfs['uti_all_72'].loc[:,'value']!='COMPUTER NETWORK FAILURE. TEST NOT RESULTED.')&\n",
    "               dfs['uti_all_72'].loc[:,'value'].notnull(),:] #filter to only pos rows\n",
    "dfs['uti_all_72']= dfs['uti_all_72'].drop_duplicates(subset=['hadm_id','value','charttime'])\n",
    "\n",
    "dfs['uti_all_72'].loc[dfs['uti_all_72'].loc[:,'value'].notnull(),'value']= 1\n",
    "dfs['uti_all_72'].loc[dfs['uti_all_72'].loc[:,'value'].isna(),'value']= 0 "
   ]
  },
  {
   "cell_type": "code",
   "execution_count": 59,
   "metadata": {},
   "outputs": [
    {
     "data": {
      "text/html": [
       "<div>\n",
       "<style scoped>\n",
       "    .dataframe tbody tr th:only-of-type {\n",
       "        vertical-align: middle;\n",
       "    }\n",
       "\n",
       "    .dataframe tbody tr th {\n",
       "        vertical-align: top;\n",
       "    }\n",
       "\n",
       "    .dataframe thead th {\n",
       "        text-align: right;\n",
       "    }\n",
       "</style>\n",
       "<table border=\"1\" class=\"dataframe\">\n",
       "  <thead>\n",
       "    <tr style=\"text-align: right;\">\n",
       "      <th></th>\n",
       "      <th>subject_id</th>\n",
       "      <th>hadm_id</th>\n",
       "      <th>itemid</th>\n",
       "      <th>charttime</th>\n",
       "      <th>value</th>\n",
       "      <th>valuenum</th>\n",
       "      <th>valueuom</th>\n",
       "      <th>label</th>\n",
       "      <th>fluid</th>\n",
       "      <th>category</th>\n",
       "      <th>loinc_code</th>\n",
       "      <th>icd9_code</th>\n",
       "      <th>t_0</th>\n",
       "      <th>delta</th>\n",
       "    </tr>\n",
       "  </thead>\n",
       "  <tbody>\n",
       "    <tr>\n",
       "      <th>412</th>\n",
       "      <td>109</td>\n",
       "      <td>139061.0</td>\n",
       "      <td>51486</td>\n",
       "      <td>2141-09-11 09:15:00</td>\n",
       "      <td>1</td>\n",
       "      <td>NaN</td>\n",
       "      <td>NaN</td>\n",
       "      <td>Leukocytes</td>\n",
       "      <td>Urine</td>\n",
       "      <td>Hematology</td>\n",
       "      <td>5799-2</td>\n",
       "      <td>40301</td>\n",
       "      <td>2141-09-11</td>\n",
       "      <td>0 days 09:15:00.000000000</td>\n",
       "    </tr>\n",
       "    <tr>\n",
       "      <th>869</th>\n",
       "      <td>191</td>\n",
       "      <td>136614.0</td>\n",
       "      <td>51486</td>\n",
       "      <td>2196-04-12 19:15:00</td>\n",
       "      <td>1</td>\n",
       "      <td>NaN</td>\n",
       "      <td>NaN</td>\n",
       "      <td>Leukocytes</td>\n",
       "      <td>Urine</td>\n",
       "      <td>Hematology</td>\n",
       "      <td>5799-2</td>\n",
       "      <td>51881</td>\n",
       "      <td>2196-04-12</td>\n",
       "      <td>0 days 19:15:00.000000000</td>\n",
       "    </tr>\n",
       "    <tr>\n",
       "      <th>1024</th>\n",
       "      <td>202</td>\n",
       "      <td>108295.0</td>\n",
       "      <td>51486</td>\n",
       "      <td>2145-10-22 05:39:00</td>\n",
       "      <td>1</td>\n",
       "      <td>NaN</td>\n",
       "      <td>NaN</td>\n",
       "      <td>Leukocytes</td>\n",
       "      <td>Urine</td>\n",
       "      <td>Hematology</td>\n",
       "      <td>5799-2</td>\n",
       "      <td>0389</td>\n",
       "      <td>2145-10-22</td>\n",
       "      <td>0 days 05:39:00.000000000</td>\n",
       "    </tr>\n",
       "    <tr>\n",
       "      <th>1649</th>\n",
       "      <td>256</td>\n",
       "      <td>153771.0</td>\n",
       "      <td>51486</td>\n",
       "      <td>2166-07-22 08:06:00</td>\n",
       "      <td>1</td>\n",
       "      <td>NaN</td>\n",
       "      <td>NaN</td>\n",
       "      <td>Leukocytes</td>\n",
       "      <td>Urine</td>\n",
       "      <td>Hematology</td>\n",
       "      <td>5799-2</td>\n",
       "      <td>00845</td>\n",
       "      <td>2166-07-22</td>\n",
       "      <td>0 days 08:06:00.000000000</td>\n",
       "    </tr>\n",
       "    <tr>\n",
       "      <th>1812</th>\n",
       "      <td>307</td>\n",
       "      <td>132807.0</td>\n",
       "      <td>51486</td>\n",
       "      <td>2162-11-28 12:46:00</td>\n",
       "      <td>1</td>\n",
       "      <td>NaN</td>\n",
       "      <td>NaN</td>\n",
       "      <td>Leukocytes</td>\n",
       "      <td>Urine</td>\n",
       "      <td>Hematology</td>\n",
       "      <td>5799-2</td>\n",
       "      <td>5845</td>\n",
       "      <td>2162-11-28</td>\n",
       "      <td>0 days 12:46:00.000000000</td>\n",
       "    </tr>\n",
       "  </tbody>\n",
       "</table>\n",
       "</div>"
      ],
      "text/plain": [
       "      subject_id   hadm_id  itemid            charttime  value  valuenum  \\\n",
       "412          109  139061.0   51486  2141-09-11 09:15:00      1       NaN   \n",
       "869          191  136614.0   51486  2196-04-12 19:15:00      1       NaN   \n",
       "1024         202  108295.0   51486  2145-10-22 05:39:00      1       NaN   \n",
       "1649         256  153771.0   51486  2166-07-22 08:06:00      1       NaN   \n",
       "1812         307  132807.0   51486  2162-11-28 12:46:00      1       NaN   \n",
       "\n",
       "      valueuom       label  fluid    category loinc_code icd9_code  \\\n",
       "412        NaN  Leukocytes  Urine  Hematology     5799-2     40301   \n",
       "869        NaN  Leukocytes  Urine  Hematology     5799-2     51881   \n",
       "1024       NaN  Leukocytes  Urine  Hematology     5799-2      0389   \n",
       "1649       NaN  Leukocytes  Urine  Hematology     5799-2     00845   \n",
       "1812       NaN  Leukocytes  Urine  Hematology     5799-2      5845   \n",
       "\n",
       "             t_0                      delta  \n",
       "412   2141-09-11  0 days 09:15:00.000000000  \n",
       "869   2196-04-12  0 days 19:15:00.000000000  \n",
       "1024  2145-10-22  0 days 05:39:00.000000000  \n",
       "1649  2166-07-22  0 days 08:06:00.000000000  \n",
       "1812  2162-11-28  0 days 12:46:00.000000000  "
      ]
     },
     "execution_count": 59,
     "metadata": {},
     "output_type": "execute_result"
    },
    {
     "name": "stdout",
     "output_type": "stream",
     "text": [
      "time: 36.9 ms\n"
     ]
    }
   ],
   "source": [
    "dfs['uti_all_72'].head()"
   ]
  },
  {
   "cell_type": "code",
   "execution_count": 60,
   "metadata": {},
   "outputs": [
    {
     "name": "stdout",
     "output_type": "stream",
     "text": [
      "time: 65.9 ms\n"
     ]
    }
   ],
   "source": [
    "def uti_categorizer(uti_df):\n",
    "    \"useful to get all rows of days with positive values for patients (if multiple pos in a day there will be only 1 row for that day). ie more longitudinal format \"\n",
    "    \n",
    "    #gives the max pos or neg value per day for \n",
    "    df_timewindow_perday=uti_df.groupby(['hadm_id','delta'], as_index=False)['value'].agg({'value':'max'})  \n",
    "    df_timewindow_perday= pd.merge(df_timewindow_perday,final_pt_df2[['icustay_id','hadm_id', time_var]], left_on='hadm_id', right_on='hadm_id', how='left')\n",
    "    df_timewindow_perday=df_timewindow_perday.sort_values(['hadm_id','value','delta'], ascending=[True,False,True])\n",
    "    return(df_timewindow_perday)\n",
    "\n",
    "def uti_collapser(uti_df, label):\n",
    "    \"collapsing longitudinal data into 1 value. will return pos or neg if patient has a positive uti in their stay. one row per icustay_id\"\n",
    "    \n",
    "    df_timewindow_perday=uti_df.groupby(['hadm_id','delta'], as_index=False)['value'].agg({'value':'max'})\n",
    "    first_pos= df_timewindow_perday.drop_duplicates(['hadm_id'])\n",
    "    collapsed= pd.merge(final_pt_df2[['hadm_id','icustay_id','subject_id', time_var]],first_pos, left_on='hadm_id', right_on='hadm_id', how='left')\n",
    "    \n",
    "    collapsed['value']= collapsed['value'].fillna(0)\n",
    "    collapsed.loc[collapsed.loc[:,'value']==1,'value']= 'pos'\n",
    "    collapsed.loc[collapsed.loc[:,'value']==0,'value']= 'Neg/Not_tested'\n",
    "    \n",
    "    collapsed['delta']= collapsed['delta'].fillna(pd.Timedelta(1, unit='d'))\n",
    "    \n",
    "    collapsed['label']= label\n",
    "    \n",
    "    collapsed['uom']='pos/neg category'\n",
    "    return(collapsed)"
   ]
  },
  {
   "cell_type": "code",
   "execution_count": 61,
   "metadata": {},
   "outputs": [
    {
     "name": "stdout",
     "output_type": "stream",
     "text": [
      "time: 105 ms\n"
     ]
    }
   ],
   "source": [
    "uti_nit_pos= dfs['uti_all_72'][dfs['uti_all_72']['label']==\"Nitrite\"]\n",
    "uti_leuk_pos= dfs['uti_all_72'][dfs['uti_all_72']['label']==\"Leukocytes\"]\n",
    "\n",
    "leuk_collapsed= uti_collapser(uti_leuk_pos, 'leukocyte')\n",
    "nit_collapsed= uti_collapser(uti_nit_pos, 'nitrite')\n"
   ]
  },
  {
   "cell_type": "code",
   "execution_count": 62,
   "metadata": {},
   "outputs": [
    {
     "name": "stdout",
     "output_type": "stream",
     "text": [
      "time: 434 ms\n"
     ]
    }
   ],
   "source": [
    "save_df(leuk_collapsed, 'leuk')\n",
    "del(leuk_collapsed)\n",
    "\n",
    "save_df(nit_collapsed, 'nit')\n",
    "del(nit_collapsed)\n",
    "del(dfs['uti_all_72'])"
   ]
  },
  {
   "cell_type": "markdown",
   "metadata": {},
   "source": [
    "# bloodgas"
   ]
  },
  {
   "cell_type": "code",
   "execution_count": 11,
   "metadata": {},
   "outputs": [
    {
     "data": {
      "text/html": [
       "<div>\n",
       "<style scoped>\n",
       "    .dataframe tbody tr th:only-of-type {\n",
       "        vertical-align: middle;\n",
       "    }\n",
       "\n",
       "    .dataframe tbody tr th {\n",
       "        vertical-align: top;\n",
       "    }\n",
       "\n",
       "    .dataframe thead th {\n",
       "        text-align: right;\n",
       "    }\n",
       "</style>\n",
       "<table border=\"1\" class=\"dataframe\">\n",
       "  <thead>\n",
       "    <tr style=\"text-align: right;\">\n",
       "      <th></th>\n",
       "      <th>subject_id</th>\n",
       "      <th>hadm_id</th>\n",
       "      <th>icustay_id</th>\n",
       "      <th>charttime</th>\n",
       "      <th>label</th>\n",
       "      <th>valuenum</th>\n",
       "      <th>value</th>\n",
       "      <th>uom</th>\n",
       "      <th>unique_var</th>\n",
       "      <th>t_0</th>\n",
       "      <th>delta</th>\n",
       "    </tr>\n",
       "  </thead>\n",
       "  <tbody>\n",
       "    <tr>\n",
       "      <th>82</th>\n",
       "      <td>9</td>\n",
       "      <td>150750</td>\n",
       "      <td>220597</td>\n",
       "      <td>2149-11-13 03:34:00</td>\n",
       "      <td>BASEEXCESS</td>\n",
       "      <td>NaN</td>\n",
       "      <td>-1</td>\n",
       "      <td>mEq/L</td>\n",
       "      <td>2205972149-11-13 03:34:00</td>\n",
       "      <td>2149-11-13</td>\n",
       "      <td>0 days 03:34:00.000000000</td>\n",
       "    </tr>\n",
       "    <tr>\n",
       "      <th>83</th>\n",
       "      <td>9</td>\n",
       "      <td>150750</td>\n",
       "      <td>220597</td>\n",
       "      <td>2149-11-13 03:34:00</td>\n",
       "      <td>CALCIUM</td>\n",
       "      <td>1.05</td>\n",
       "      <td>1.05</td>\n",
       "      <td>mmol/L</td>\n",
       "      <td>2205972149-11-13 03:34:00</td>\n",
       "      <td>2149-11-13</td>\n",
       "      <td>0 days 03:34:00.000000000</td>\n",
       "    </tr>\n",
       "    <tr>\n",
       "      <th>84</th>\n",
       "      <td>9</td>\n",
       "      <td>150750</td>\n",
       "      <td>220597</td>\n",
       "      <td>2149-11-13 03:34:00</td>\n",
       "      <td>LACTATE</td>\n",
       "      <td>1.80</td>\n",
       "      <td>1.8</td>\n",
       "      <td>mmol/L</td>\n",
       "      <td>2205972149-11-13 03:34:00</td>\n",
       "      <td>2149-11-13</td>\n",
       "      <td>0 days 03:34:00.000000000</td>\n",
       "    </tr>\n",
       "    <tr>\n",
       "      <th>85</th>\n",
       "      <td>9</td>\n",
       "      <td>150750</td>\n",
       "      <td>220597</td>\n",
       "      <td>2149-11-13 03:34:00</td>\n",
       "      <td>PCO2</td>\n",
       "      <td>34.00</td>\n",
       "      <td>34</td>\n",
       "      <td>mm Hg</td>\n",
       "      <td>2205972149-11-13 03:34:00</td>\n",
       "      <td>2149-11-13</td>\n",
       "      <td>0 days 03:34:00.000000000</td>\n",
       "    </tr>\n",
       "    <tr>\n",
       "      <th>86</th>\n",
       "      <td>9</td>\n",
       "      <td>150750</td>\n",
       "      <td>220597</td>\n",
       "      <td>2149-11-13 03:34:00</td>\n",
       "      <td>PH</td>\n",
       "      <td>7.42</td>\n",
       "      <td>7.42</td>\n",
       "      <td>units</td>\n",
       "      <td>2205972149-11-13 03:34:00</td>\n",
       "      <td>2149-11-13</td>\n",
       "      <td>0 days 03:34:00.000000000</td>\n",
       "    </tr>\n",
       "  </tbody>\n",
       "</table>\n",
       "</div>"
      ],
      "text/plain": [
       "    subject_id  hadm_id  icustay_id            charttime       label  \\\n",
       "82           9   150750      220597  2149-11-13 03:34:00  BASEEXCESS   \n",
       "83           9   150750      220597  2149-11-13 03:34:00     CALCIUM   \n",
       "84           9   150750      220597  2149-11-13 03:34:00     LACTATE   \n",
       "85           9   150750      220597  2149-11-13 03:34:00        PCO2   \n",
       "86           9   150750      220597  2149-11-13 03:34:00          PH   \n",
       "\n",
       "    valuenum value     uom                 unique_var         t_0  \\\n",
       "82       NaN    -1   mEq/L  2205972149-11-13 03:34:00  2149-11-13   \n",
       "83      1.05  1.05  mmol/L  2205972149-11-13 03:34:00  2149-11-13   \n",
       "84      1.80   1.8  mmol/L  2205972149-11-13 03:34:00  2149-11-13   \n",
       "85     34.00    34   mm Hg  2205972149-11-13 03:34:00  2149-11-13   \n",
       "86      7.42  7.42   units  2205972149-11-13 03:34:00  2149-11-13   \n",
       "\n",
       "                        delta  \n",
       "82  0 days 03:34:00.000000000  \n",
       "83  0 days 03:34:00.000000000  \n",
       "84  0 days 03:34:00.000000000  \n",
       "85  0 days 03:34:00.000000000  \n",
       "86  0 days 03:34:00.000000000  "
      ]
     },
     "execution_count": 11,
     "metadata": {},
     "output_type": "execute_result"
    },
    {
     "name": "stdout",
     "output_type": "stream",
     "text": [
      "time: 1.05 s\n"
     ]
    }
   ],
   "source": [
    "\n",
    "dfs['bg_all_nosummary_72']= dfs['bg_all_nosummary_72'].loc[dfs['bg_all_nosummary_72']['value'].notnull(),:]\n",
    "dfs['bg_all_nosummary_72'] = dfs['bg_all_nosummary_72'].rename(index=str, columns={'valueuom':'uom'})\n",
    "dfs['bg_all_nosummary_72']= dfs['bg_all_nosummary_72'].loc[~(dfs['bg_all_nosummary_72'].loc[:,'value']=='.'),:]\n",
    "\n",
    "#may need to remove outliers, haven't done as of 10/22/18\n",
    "dfs['bg_all_nosummary_72'].head()"
   ]
  },
  {
   "cell_type": "markdown",
   "metadata": {},
   "source": [
    "#### erroneous value removal\n",
    "\n",
    "NOTE: these are hard coded to positioning. if anything in the bg_all_nosummary is changed than these positions need to be updated. "
   ]
  },
  {
   "cell_type": "code",
   "execution_count": 12,
   "metadata": {},
   "outputs": [
    {
     "name": "stdout",
     "output_type": "stream",
     "text": [
      "time: 476 ms\n"
     ]
    }
   ],
   "source": [
    "##calcium\n",
    "#fixing the calcium errors w/o hard coding\n",
    "(dfs['bg_all_nosummary_72'].loc[\n",
    "    (dfs['bg_all_nosummary_72'].loc[:,'icustay_id']==249571) & \n",
    "    (dfs['bg_all_nosummary_72'].loc[:,'label']=='CALCIUM')\n",
    "    & (dfs['bg_all_nosummary_72'].loc[:,'valuenum']==94.00),'valuenum'])=0.94#.where('valuenum'==94.00))\n",
    "\n",
    "(dfs['bg_all_nosummary_72'].loc[\n",
    "    (dfs['bg_all_nosummary_72'].loc[:,'icustay_id']==249571) & \n",
    "    (dfs['bg_all_nosummary_72'].loc[:,'label']=='CALCIUM')\n",
    "    & (dfs['bg_all_nosummary_72'].loc[:,'value']=='094'),'value'])=0.94#.where('valuenum'==94.00))\n",
    "\n",
    "\n",
    "(dfs['bg_all_nosummary_72'].loc[\n",
    "    (dfs['bg_all_nosummary_72'].loc[:,'icustay_id']==219600) & \n",
    "    (dfs['bg_all_nosummary_72'].loc[:,'label']=='CALCIUM')\n",
    "    & (dfs['bg_all_nosummary_72'].loc[:,'valuenum']==97.00),'valuenum'])=0.97#.where('valuenum'==94.00))\n",
    "\n",
    "(dfs['bg_all_nosummary_72'].loc[\n",
    "    (dfs['bg_all_nosummary_72'].loc[:,'icustay_id']==219600) & \n",
    "    (dfs['bg_all_nosummary_72'].loc[:,'label']=='CALCIUM')\n",
    "    & (dfs['bg_all_nosummary_72'].loc[:,'value']=='097'),'value'])=0.97#.where('valuenum'==94.00))\n"
   ]
  },
  {
   "cell_type": "code",
   "execution_count": 13,
   "metadata": {},
   "outputs": [
    {
     "name": "stdout",
     "output_type": "stream",
     "text": [
      "time: 303 ms\n"
     ]
    }
   ],
   "source": [
    "##min chloride\n",
    "#converting it to a null value without hard coding\n",
    "(dfs['bg_all_nosummary_72'].loc[(dfs['bg_all_nosummary_72'].loc[:,'icustay_id']==261887.0) &\n",
    "                         (dfs['bg_all_nosummary_72'].loc[:,'label']=='CHLORIDE') &\n",
    "                         (dfs['bg_all_nosummary_72'].loc[:,'valuenum']==3.4),'value'])=np.nan\n",
    "#converting it to a null value without hard coding\n",
    "(dfs['bg_all_nosummary_72'].loc[(dfs['bg_all_nosummary_72'].loc[:,'icustay_id']==261887.0) &\n",
    "                         (dfs['bg_all_nosummary_72'].loc[:,'label']=='CHLORIDE') &\n",
    "                         (dfs['bg_all_nosummary_72'].loc[:,'valuenum']==3.4),'valuenum'])=np.nan\n",
    "\n",
    "#changing the values without hard coding. \n",
    "(dfs['bg_all_nosummary_72'].loc[(dfs['bg_all_nosummary_72'].loc[:,'icustay_id']==236290.0) &\n",
    "                         (dfs['bg_all_nosummary_72'].loc[:,'label']=='CHLORIDE') &\n",
    "                         (dfs['bg_all_nosummary_72'].loc[:,'valuenum']==11.0),'valuenum'])=np.nan\n",
    "\n",
    "(dfs['bg_all_nosummary_72'].loc[(dfs['bg_all_nosummary_72'].loc[:,'icustay_id']==236290.0) &\n",
    "                         (dfs['bg_all_nosummary_72'].loc[:,'label']=='CHLORIDE') &\n",
    "                         (dfs['bg_all_nosummary_72'].loc[:,'valuenum']==11.0),'value'])=np.nan"
   ]
  },
  {
   "cell_type": "code",
   "execution_count": 14,
   "metadata": {},
   "outputs": [
    {
     "name": "stdout",
     "output_type": "stream",
     "text": [
      "time: 68.8 ms\n"
     ]
    }
   ],
   "source": [
    "#peep changes summary: \n",
    "dfs['bg_all_nosummary_72'].loc[(dfs['bg_all_nosummary_72'].loc[:,'label']=='PEEP')&\n",
    "                        (dfs['bg_all_nosummary_72']['valuenum']>38),'valuenum']=np.nan #remove this or set to 50?"
   ]
  },
  {
   "cell_type": "code",
   "execution_count": 15,
   "metadata": {},
   "outputs": [
    {
     "name": "stdout",
     "output_type": "stream",
     "text": [
      "time: 329 ms\n"
     ]
    }
   ],
   "source": [
    "#temp changes summary:\n",
    "\n",
    "dfs['bg_all_nosummary_72'].loc[(dfs['bg_all_nosummary_72'].loc[:,'label']=='TEMPERATURE')&\n",
    "                        (dfs['bg_all_nosummary_72']['icustay_id']==253821)&\n",
    "                        (dfs['bg_all_nosummary_72']['valuenum']==18.9),\n",
    "                        'value']= np.nan\n",
    "\n",
    "dfs['bg_all_nosummary_72'].loc[(dfs['bg_all_nosummary_72'].loc[:,'label']=='TEMPERATURE')&\n",
    "                        (dfs['bg_all_nosummary_72']['icustay_id']==253821)&\n",
    "                        (dfs['bg_all_nosummary_72']['valuenum']==18.9),\n",
    "                        'valuenum']= np.nan\n",
    "\n",
    "dfs['bg_all_nosummary_72'].loc[(dfs['bg_all_nosummary_72'].loc[:,'label']=='TEMPERATURE')&\n",
    "                        (dfs['bg_all_nosummary_72']['icustay_id']==251788)&\n",
    "                        (dfs['bg_all_nosummary_72']['valuenum']==10.0),\n",
    "                        'value']= np.nan\n",
    "\n",
    "dfs['bg_all_nosummary_72'].loc[(dfs['bg_all_nosummary_72'].loc[:,'label']=='TEMPERATURE')&\n",
    "                        (dfs['bg_all_nosummary_72']['icustay_id']==251788)&\n",
    "                        (dfs['bg_all_nosummary_72']['valuenum']==10.0),\n",
    "                        'valuenum']= np.nan"
   ]
  },
  {
   "cell_type": "code",
   "execution_count": 16,
   "metadata": {},
   "outputs": [
    {
     "name": "stdout",
     "output_type": "stream",
     "text": [
      "time: 425 ms\n"
     ]
    }
   ],
   "source": [
    "#fio2 changes summary:\n",
    "\n",
    "##converting a few values to null, thus removing them from the dataset\n",
    "dfs['bg_all_nosummary_72'].loc[(dfs['bg_all_nosummary_72'].loc[:,'label']=='FIO2') &\n",
    "                        (dfs['bg_all_nosummary_72'].loc[:,'value']=='0'),'value']=np.nan\n",
    "\n",
    "dfs['bg_all_nosummary_72'].loc[(dfs['bg_all_nosummary_72'].loc[:,'label']=='FIO2') &\n",
    "                        (dfs['bg_all_nosummary_72'].loc[:,'value']=='-'),'value']=np.nan\n",
    "\n",
    "\n",
    "##removing all fio2 values between 1-20.9\n",
    "\n",
    "dfs['bg_all_nosummary_72'].loc[(dfs['bg_all_nosummary_72'].loc[:,'label'].isin(['FIO2']))&\n",
    "                        (dfs['bg_all_nosummary_72']['valuenum'].between(1.0,20.9)),'valuenum']=np.nan\n",
    "\n",
    "\n",
    "##values between 0-1 were found to be ratios, not %, so converting these to % \n",
    "\n",
    "dfs['bg_all_nosummary_72'].loc[(dfs['bg_all_nosummary_72'].loc[:,'label'].isin(['FIO2']))&\n",
    "                        (dfs['bg_all_nosummary_72']['valuenum'].between(1.0,20.9)),'valuenum']=np.nan\n",
    "\n",
    "fio2_dec= dfs['bg_all_nosummary_72'].loc[(dfs['bg_all_nosummary_72'].loc[:,'label'].isin(['FIO2']))&\n",
    "                        (dfs['bg_all_nosummary_72']['valuenum'].between(0.0,1.0)),'valuenum']\n",
    "\n",
    "dfs['bg_all_nosummary_72'].loc[(dfs['bg_all_nosummary_72'].loc[:,'label'].isin(['FIO2']))&\n",
    "                        (dfs['bg_all_nosummary_72']['valuenum'].between(0.0,1.0)),'valuenum'] = fio2_dec *100\n",
    "\n",
    "del(fio2_dec)"
   ]
  },
  {
   "cell_type": "markdown",
   "metadata": {},
   "source": [
    "#### removing null values annotated abov"
   ]
  },
  {
   "cell_type": "code",
   "execution_count": 17,
   "metadata": {},
   "outputs": [
    {
     "name": "stdout",
     "output_type": "stream",
     "text": [
      "time: 77.3 ms\n"
     ]
    }
   ],
   "source": [
    "dfs['bg_all_nosummary_72']= dfs['bg_all_nosummary_72'].loc[dfs['bg_all_nosummary_72']['value'].notnull(),:]"
   ]
  },
  {
   "cell_type": "markdown",
   "metadata": {},
   "source": [
    "### splitting specimen out for vent vs non-vent bg data"
   ]
  },
  {
   "cell_type": "code",
   "execution_count": 18,
   "metadata": {},
   "outputs": [
    {
     "name": "stdout",
     "output_type": "stream",
     "text": [
      "time: 698 ms\n"
     ]
    }
   ],
   "source": [
    "#adding specimen tag to filter only arterial samples for vent data. \n",
    "specimen_df= dfs['bg_all_nosummary_72'].loc[dfs['bg_all_nosummary_72'].loc[:,'label']=='SPECIMEN',['unique_var','label','value']]#unique()\n",
    "specimen_df=specimen_df.rename(index=str, columns={'value':'specimen'})\n",
    "specimen_df=specimen_df.loc[specimen_df.loc[:,\"specimen\"]=='ART',:]\n",
    "\n",
    "dfs['bg_all_nosummary_72']= pd.merge(dfs['bg_all_nosummary_72'],specimen_df[['unique_var','specimen']], left_on='unique_var', right_on='unique_var', how='left')\n",
    "bg_ART_nosummary_72=dfs['bg_all_nosummary_72'].loc[dfs['bg_all_nosummary_72'].loc[:,'specimen']=='ART',:]\n",
    "del(specimen_df)"
   ]
  },
  {
   "cell_type": "code",
   "execution_count": 19,
   "metadata": {},
   "outputs": [
    {
     "name": "stdout",
     "output_type": "stream",
     "text": [
      "time: 1.3 ms\n"
     ]
    }
   ],
   "source": [
    "bg_labels=['PH','LACTATE','CALCIUM','TEMPERATURE','POTASSIUM',\n",
    "           'GLUCOSE','HEMOGLOBIN','SODIUM','CHLORIDE','BICARBONATE']\n",
    "bg_vent_labels=['PCO2','PaO2','PO2','FIO2','PEEP','O2FLOW']"
   ]
  },
  {
   "cell_type": "code",
   "execution_count": 20,
   "metadata": {},
   "outputs": [
    {
     "name": "stdout",
     "output_type": "stream",
     "text": [
      "time: 106 ms\n"
     ]
    }
   ],
   "source": [
    "#restricting to tests that were chosen to be analysed based on %missingness and clinical relevance\n",
    "dfs['bg_all_nosummary_72']= dfs['bg_all_nosummary_72'].loc[dfs['bg_all_nosummary_72'].loc[:,'label'].isin(bg_labels),:]\n",
    "bg_ART_nosummary_72= bg_ART_nosummary_72.loc[bg_ART_nosummary_72.loc[:,'label'].isin(bg_vent_labels),:]"
   ]
  },
  {
   "cell_type": "code",
   "execution_count": 21,
   "metadata": {},
   "outputs": [
    {
     "data": {
      "text/html": [
       "<div>\n",
       "<style scoped>\n",
       "    .dataframe tbody tr th:only-of-type {\n",
       "        vertical-align: middle;\n",
       "    }\n",
       "\n",
       "    .dataframe tbody tr th {\n",
       "        vertical-align: top;\n",
       "    }\n",
       "\n",
       "    .dataframe thead th {\n",
       "        text-align: right;\n",
       "    }\n",
       "</style>\n",
       "<table border=\"1\" class=\"dataframe\">\n",
       "  <thead>\n",
       "    <tr style=\"text-align: right;\">\n",
       "      <th></th>\n",
       "      <th>subject_id</th>\n",
       "      <th>hadm_id</th>\n",
       "      <th>icustay_id</th>\n",
       "      <th>charttime</th>\n",
       "      <th>label</th>\n",
       "      <th>valuenum</th>\n",
       "      <th>value</th>\n",
       "      <th>uom</th>\n",
       "      <th>unique_var</th>\n",
       "      <th>t_0</th>\n",
       "      <th>delta</th>\n",
       "      <th>specimen</th>\n",
       "    </tr>\n",
       "  </thead>\n",
       "  <tbody>\n",
       "    <tr>\n",
       "      <th>1</th>\n",
       "      <td>9</td>\n",
       "      <td>150750</td>\n",
       "      <td>220597</td>\n",
       "      <td>2149-11-13 03:34:00</td>\n",
       "      <td>CALCIUM</td>\n",
       "      <td>1.05</td>\n",
       "      <td>1.05</td>\n",
       "      <td>mmol/L</td>\n",
       "      <td>2205972149-11-13 03:34:00</td>\n",
       "      <td>2149-11-13</td>\n",
       "      <td>0 days 03:34:00.000000000</td>\n",
       "      <td>ART</td>\n",
       "    </tr>\n",
       "    <tr>\n",
       "      <th>2</th>\n",
       "      <td>9</td>\n",
       "      <td>150750</td>\n",
       "      <td>220597</td>\n",
       "      <td>2149-11-13 03:34:00</td>\n",
       "      <td>LACTATE</td>\n",
       "      <td>1.80</td>\n",
       "      <td>1.8</td>\n",
       "      <td>mmol/L</td>\n",
       "      <td>2205972149-11-13 03:34:00</td>\n",
       "      <td>2149-11-13</td>\n",
       "      <td>0 days 03:34:00.000000000</td>\n",
       "      <td>ART</td>\n",
       "    </tr>\n",
       "    <tr>\n",
       "      <th>4</th>\n",
       "      <td>9</td>\n",
       "      <td>150750</td>\n",
       "      <td>220597</td>\n",
       "      <td>2149-11-13 03:34:00</td>\n",
       "      <td>PH</td>\n",
       "      <td>7.42</td>\n",
       "      <td>7.42</td>\n",
       "      <td>units</td>\n",
       "      <td>2205972149-11-13 03:34:00</td>\n",
       "      <td>2149-11-13</td>\n",
       "      <td>0 days 03:34:00.000000000</td>\n",
       "      <td>ART</td>\n",
       "    </tr>\n",
       "    <tr>\n",
       "      <th>7</th>\n",
       "      <td>9</td>\n",
       "      <td>150750</td>\n",
       "      <td>220597</td>\n",
       "      <td>2149-11-13 03:34:00</td>\n",
       "      <td>TEMPERATURE</td>\n",
       "      <td>37.20</td>\n",
       "      <td>37.2</td>\n",
       "      <td>NaN</td>\n",
       "      <td>2205972149-11-13 03:34:00</td>\n",
       "      <td>2149-11-13</td>\n",
       "      <td>0 days 03:34:00.000000000</td>\n",
       "      <td>ART</td>\n",
       "    </tr>\n",
       "    <tr>\n",
       "      <th>14</th>\n",
       "      <td>9</td>\n",
       "      <td>150750</td>\n",
       "      <td>220597</td>\n",
       "      <td>2149-11-13 08:07:00</td>\n",
       "      <td>PH</td>\n",
       "      <td>7.42</td>\n",
       "      <td>7.42</td>\n",
       "      <td>units</td>\n",
       "      <td>2205972149-11-13 08:07:00</td>\n",
       "      <td>2149-11-13</td>\n",
       "      <td>0 days 08:07:00.000000000</td>\n",
       "      <td>ART</td>\n",
       "    </tr>\n",
       "  </tbody>\n",
       "</table>\n",
       "</div>"
      ],
      "text/plain": [
       "    subject_id  hadm_id  icustay_id            charttime        label  \\\n",
       "1            9   150750      220597  2149-11-13 03:34:00      CALCIUM   \n",
       "2            9   150750      220597  2149-11-13 03:34:00      LACTATE   \n",
       "4            9   150750      220597  2149-11-13 03:34:00           PH   \n",
       "7            9   150750      220597  2149-11-13 03:34:00  TEMPERATURE   \n",
       "14           9   150750      220597  2149-11-13 08:07:00           PH   \n",
       "\n",
       "    valuenum value     uom                 unique_var         t_0  \\\n",
       "1       1.05  1.05  mmol/L  2205972149-11-13 03:34:00  2149-11-13   \n",
       "2       1.80   1.8  mmol/L  2205972149-11-13 03:34:00  2149-11-13   \n",
       "4       7.42  7.42   units  2205972149-11-13 03:34:00  2149-11-13   \n",
       "7      37.20  37.2     NaN  2205972149-11-13 03:34:00  2149-11-13   \n",
       "14      7.42  7.42   units  2205972149-11-13 08:07:00  2149-11-13   \n",
       "\n",
       "                        delta specimen  \n",
       "1   0 days 03:34:00.000000000      ART  \n",
       "2   0 days 03:34:00.000000000      ART  \n",
       "4   0 days 03:34:00.000000000      ART  \n",
       "7   0 days 03:34:00.000000000      ART  \n",
       "14  0 days 08:07:00.000000000      ART  "
      ]
     },
     "execution_count": 21,
     "metadata": {},
     "output_type": "execute_result"
    },
    {
     "name": "stdout",
     "output_type": "stream",
     "text": [
      "time: 18.3 ms\n"
     ]
    }
   ],
   "source": [
    "dfs['bg_all_nosummary_72'].head()"
   ]
  },
  {
   "cell_type": "code",
   "execution_count": 22,
   "metadata": {},
   "outputs": [
    {
     "name": "stdout",
     "output_type": "stream",
     "text": [
      "time: 25.8 ms\n"
     ]
    }
   ],
   "source": [
    "bg_col=['subject_id','hadm_id','icustay_id','charttime','delta',time_var,'label','valuenum','uom']\n",
    "bg_ART_nosummary_72= bg_ART_nosummary_72[bg_col]\n",
    "dfs['bg_all_nosummary_72']= dfs['bg_all_nosummary_72'][bg_col]\n",
    "del(bg_col)"
   ]
  },
  {
   "cell_type": "code",
   "execution_count": 23,
   "metadata": {},
   "outputs": [
    {
     "data": {
      "text/plain": [
       "array(['PCO2', 'PaO2', 'FIO2', 'PEEP', 'O2FLOW'], dtype=object)"
      ]
     },
     "execution_count": 23,
     "metadata": {},
     "output_type": "execute_result"
    },
    {
     "name": "stdout",
     "output_type": "stream",
     "text": [
      "time: 14 ms\n"
     ]
    }
   ],
   "source": [
    "bg_ART_nosummary_72['label'].unique()"
   ]
  },
  {
   "cell_type": "code",
   "execution_count": 24,
   "metadata": {},
   "outputs": [
    {
     "name": "stdout",
     "output_type": "stream",
     "text": [
      "time: 178 ms\n"
     ]
    }
   ],
   "source": [
    "#converting O2 to y/n\n",
    "o2_flow_df= bg_ART_nosummary_72.loc[bg_ART_nosummary_72.loc[:,'label']=='O2FLOW',:]\n",
    "o2_flow_df=o2_flow_df.rename(index=str, columns={'valuenum':'value'})\n",
    "o2_flow_df= yn_convert(o2_flow_df, label_fill='o2_flow', time_var=time_var)\n",
    "o2_flow_df['label']=\"o2_flow\" #fixing label\n",
    "\n",
    "#removing o2_flow from bg_ART\n",
    "bg_ART_nosummary_72= bg_ART_nosummary_72.loc[bg_ART_nosummary_72.loc[:,'label']!='O2FLOW',:]"
   ]
  },
  {
   "cell_type": "code",
   "execution_count": 25,
   "metadata": {},
   "outputs": [
    {
     "name": "stdout",
     "output_type": "stream",
     "text": [
      "time: 26.6 ms\n"
     ]
    }
   ],
   "source": [
    "bg_ART_nosummary_72= bg_ART_nosummary_72.loc[bg_ART_nosummary_72.loc[:,'label']!='PEEP',:]"
   ]
  },
  {
   "cell_type": "markdown",
   "metadata": {},
   "source": [
    "The PaO2/FiO2 ratio should be calculated using values that are recorded either at the same time stamp, or when the FIO2 occurs within 2 hours BEFORE the PaO2, not the other way around.\n",
    "For those with no FiO2 recorded within that time frame, you can assume it’s 0.21 (=21%). The worse ratio will be the lowest PaO2 recorded with FiO2 of 1.0 (=100%). So if that is 12, then it will be 12/1 = 12."
   ]
  },
  {
   "cell_type": "code",
   "execution_count": 26,
   "metadata": {},
   "outputs": [
    {
     "name": "stdout",
     "output_type": "stream",
     "text": [
      "time: 266 ms\n"
     ]
    }
   ],
   "source": [
    "#need to groupby icustay_id and charttime for both. pan\n",
    "\n",
    "pao2= bg_ART_nosummary_72.loc[bg_ART_nosummary_72.loc[:,'label']=='PaO2',:].copy() #n=41799 non-null\n",
    "fio2= bg_ART_nosummary_72.loc[bg_ART_nosummary_72.loc[:,'label']=='FIO2',:].copy() #n=12311 non-null\n",
    "pao2['delta']=pd.to_timedelta(pao2['delta'])\n",
    "fio2['delta']=pd.to_timedelta(fio2['delta'])\n",
    "#fio2['offset']=fio2['delta'] + pd.to_timedelta(2, unit='h')\n",
    "pao2['offset']=pao2['delta'] - pd.to_timedelta(2, unit='h') #pao2 should have the offset, not fio2\n",
    "#pafi_merge=pd.merge(pao2, fio2[['icustay_id','delta','valuenum','uom']], on=['icustay_id','delta'], how='left')\n",
    "\n",
    "#pafi_merge.loc[pafi_merge.loc[:,'valuenum_y'].notnull(),:] #12310 fio2 values merged over. this is great news, all but 1 have an associated PAO2.\n",
    "#now need to find teh pao2 values without exact match and find the fio2 within 2 hr.\n",
    "#if the row is within 2 hours of another row, merge.\n"
   ]
  },
  {
   "cell_type": "code",
   "execution_count": 27,
   "metadata": {},
   "outputs": [
    {
     "name": "stdout",
     "output_type": "stream",
     "text": [
      "time: 34.8 ms\n"
     ]
    }
   ],
   "source": [
    "#removing pao2 and fio2 from bg_ART_nosummary_72\n",
    "bg_ART_nosummary_72= bg_ART_nosummary_72.loc[bg_ART_nosummary_72.loc[:,'label']!='PaO2',:]\n",
    "bg_ART_nosummary_72= bg_ART_nosummary_72.loc[bg_ART_nosummary_72.loc[:,'label']!='FIO2',:]\n",
    "\n"
   ]
  },
  {
   "cell_type": "code",
   "execution_count": 28,
   "metadata": {},
   "outputs": [
    {
     "name": "stderr",
     "output_type": "stream",
     "text": [
      "/Users/geickelb1/anaconda/envs/rpy-env/lib/python3.6/site-packages/pandasql/sqldf.py:121: UserWarning: the 'timedelta' type is not supported, and will be written as integer values (ns frequency) to the database.\n",
      "  index=not any(name is None for name in df.index.names))  # load index into db if all levels are named\n",
      "/Users/geickelb1/anaconda/envs/rpy-env/lib/python3.6/site-packages/pandasql/sqldf.py:121: UserWarning: the 'timedelta' type is not supported, and will be written as integer values (ns frequency) to the database.\n",
      "  index=not any(name is None for name in df.index.names))  # load index into db if all levels are named\n",
      "/Users/geickelb1/anaconda/envs/rpy-env/lib/python3.6/site-packages/pandasql/sqldf.py:121: UserWarning: the 'timedelta' type is not supported, and will be written as integer values (ns frequency) to the database.\n",
      "  index=not any(name is None for name in df.index.names))  # load index into db if all levels are named\n"
     ]
    },
    {
     "name": "stdout",
     "output_type": "stream",
     "text": [
      "time: 890 ms\n"
     ]
    }
   ],
   "source": [
    "import pandasql as ps\n",
    "\n",
    "sqlcode = '''\n",
    "SELECT A.*, B.valuenum as valuenum2, B.label as label2, B.charttime as charttime2\n",
    "FROM pao2 as A --grabs from both merged and non-merged as is, or jsut from notmerged if chagned to pao2_notmerged\n",
    "LEFT JOIN fio2 AS B on A.icustay_id = B.icustay_id\n",
    "WHERE B.delta BETWEEN A.offset and A.delta;\n",
    "'''\n",
    "\n",
    "newdf = ps.sqldf(sqlcode,locals())\n",
    "\n",
    "#(test_rows.delta >= fio2.delta and test_rows.delta<= fio2.offset)"
   ]
  },
  {
   "cell_type": "code",
   "execution_count": 29,
   "metadata": {},
   "outputs": [
    {
     "name": "stdout",
     "output_type": "stream",
     "text": [
      "time: 27.8 ms\n"
     ]
    }
   ],
   "source": [
    "#newdf #15196\n",
    "#1040 rows from notmerged. \n",
    "#grabes from both\n",
    "newdf['delta']=pd.to_timedelta(newdf['delta'])\n",
    "newdf['offset']=pd.to_timedelta(newdf['delta'])\n",
    "ratio_df= pd.merge(pao2, newdf[['icustay_id','delta','valuenum2', 'charttime2']], on=['icustay_id','delta'], how='left')\n",
    "del(newdf, pao2,fio2)\n"
   ]
  },
  {
   "cell_type": "code",
   "execution_count": 30,
   "metadata": {},
   "outputs": [
    {
     "name": "stdout",
     "output_type": "stream",
     "text": [
      "time: 77.8 ms\n"
     ]
    }
   ],
   "source": [
    "#i merged in all rows that matched the 2hr criteria\n",
    "## For those with no FiO2 recorded within that time frame, you can assume it’s 0.21 (=21%). \n",
    "ratio_df.loc[ratio_df.loc[:,'valuenum2'].isnull(),'valuenum2']= 21\n",
    "ratio_df['ratio']= ratio_df['valuenum']/(ratio_df['valuenum2']/100)\n",
    "ratio_df.loc[ratio_df['charttime2'].isnull(),'charttime2']= ratio_df.loc[ratio_df['charttime2'].isnull(),'charttime']\n",
    "ratio_df['deltadelta']=pd.to_datetime(ratio_df['charttime'])-pd.to_datetime(ratio_df['charttime2'])\n"
   ]
  },
  {
   "cell_type": "code",
   "execution_count": 31,
   "metadata": {},
   "outputs": [
    {
     "data": {
      "text/plain": [
       "count    41324.000000\n",
       "mean       497.368856\n",
       "std        377.415510\n",
       "min         22.000000\n",
       "10%        150.000000\n",
       "25%        260.000000\n",
       "50%        412.000000\n",
       "75%        600.000000\n",
       "99%       1995.238095\n",
       "max       3690.476190\n",
       "Name: ratio, dtype: float64"
      ]
     },
     "execution_count": 31,
     "metadata": {},
     "output_type": "execute_result"
    },
    {
     "name": "stdout",
     "output_type": "stream",
     "text": [
      "time: 12.8 ms\n"
     ]
    }
   ],
   "source": [
    "ratio_df['ratio'].describe(percentiles=[0.1, 0.25, 0.5, 0.75, 0.99])\n"
   ]
  },
  {
   "cell_type": "code",
   "execution_count": 32,
   "metadata": {},
   "outputs": [
    {
     "data": {
      "text/plain": [
       "count    41324.000000\n",
       "mean       131.441729\n",
       "std         76.914515\n",
       "min         15.000000\n",
       "10%         69.000000\n",
       "25%         84.000000\n",
       "50%        109.000000\n",
       "75%        149.000000\n",
       "99%        436.000000\n",
       "max        775.000000\n",
       "Name: valuenum, dtype: float64"
      ]
     },
     "execution_count": 32,
     "metadata": {},
     "output_type": "execute_result"
    },
    {
     "name": "stdout",
     "output_type": "stream",
     "text": [
      "time: 11.3 ms\n"
     ]
    }
   ],
   "source": [
    "ratio_df['valuenum'].describe(percentiles=[0.1, 0.25, 0.5, 0.75, 0.99])\n"
   ]
  },
  {
   "cell_type": "code",
   "execution_count": 33,
   "metadata": {},
   "outputs": [
    {
     "name": "stdout",
     "output_type": "stream",
     "text": [
      "time: 32.4 ms\n"
     ]
    }
   ],
   "source": [
    "### all of the duplicate PaO2 with different FIo2. if a pao2 value has 2 fio2 values that match the 2 hour window, then the one closest time to the fio2 value is chosen. \n",
    "ratio_df=ratio_df.sort_values(['icustay_id','delta','deltadelta']).drop_duplicates(['icustay_id','delta','ratio'])\n",
    "#43715 ->42455"
   ]
  },
  {
   "cell_type": "code",
   "execution_count": 34,
   "metadata": {},
   "outputs": [
    {
     "data": {
      "text/plain": [
       "count    40126.000000\n",
       "mean       506.060795\n",
       "std        379.019545\n",
       "min         22.000000\n",
       "10%        156.000000\n",
       "25%        271.428571\n",
       "50%        419.047619\n",
       "75%        609.523810\n",
       "99%       2004.761905\n",
       "max       3690.476190\n",
       "Name: ratio, dtype: float64"
      ]
     },
     "execution_count": 34,
     "metadata": {},
     "output_type": "execute_result"
    },
    {
     "name": "stdout",
     "output_type": "stream",
     "text": [
      "time: 11.1 ms\n"
     ]
    }
   ],
   "source": [
    "ratio_df['ratio'].describe(percentiles=[0.1, 0.25, 0.5, 0.75, 0.99])"
   ]
  },
  {
   "cell_type": "code",
   "execution_count": 35,
   "metadata": {},
   "outputs": [
    {
     "data": {
      "text/plain": [
       "count    40126.000000\n",
       "mean       131.801949\n",
       "std         77.198487\n",
       "min         15.000000\n",
       "10%         69.000000\n",
       "25%         84.000000\n",
       "50%        109.000000\n",
       "75%        150.000000\n",
       "99%        437.750000\n",
       "max        775.000000\n",
       "Name: valuenum, dtype: float64"
      ]
     },
     "execution_count": 35,
     "metadata": {},
     "output_type": "execute_result"
    },
    {
     "name": "stdout",
     "output_type": "stream",
     "text": [
      "time: 12.3 ms\n"
     ]
    }
   ],
   "source": [
    "ratio_df['valuenum'].describe(percentiles=[0.1, 0.25, 0.5, 0.75, 0.99])\n"
   ]
  },
  {
   "cell_type": "code",
   "execution_count": 36,
   "metadata": {},
   "outputs": [
    {
     "name": "stdout",
     "output_type": "stream",
     "text": [
      "time: 538 µs\n"
     ]
    }
   ],
   "source": [
    "#finding worst value:"
   ]
  },
  {
   "cell_type": "code",
   "execution_count": 37,
   "metadata": {},
   "outputs": [
    {
     "data": {
      "text/html": [
       "<div>\n",
       "<style scoped>\n",
       "    .dataframe tbody tr th:only-of-type {\n",
       "        vertical-align: middle;\n",
       "    }\n",
       "\n",
       "    .dataframe tbody tr th {\n",
       "        vertical-align: top;\n",
       "    }\n",
       "\n",
       "    .dataframe thead th {\n",
       "        text-align: right;\n",
       "    }\n",
       "</style>\n",
       "<table border=\"1\" class=\"dataframe\">\n",
       "  <thead>\n",
       "    <tr style=\"text-align: right;\">\n",
       "      <th></th>\n",
       "      <th>subject_id</th>\n",
       "      <th>hadm_id</th>\n",
       "      <th>icustay_id</th>\n",
       "      <th>charttime</th>\n",
       "      <th>delta</th>\n",
       "      <th>t_0</th>\n",
       "      <th>label</th>\n",
       "      <th>valuenum</th>\n",
       "      <th>uom</th>\n",
       "      <th>offset</th>\n",
       "      <th>valuenum2</th>\n",
       "      <th>charttime2</th>\n",
       "      <th>ratio</th>\n",
       "      <th>deltadelta</th>\n",
       "    </tr>\n",
       "  </thead>\n",
       "  <tbody>\n",
       "    <tr>\n",
       "      <th>8263</th>\n",
       "      <td>9514</td>\n",
       "      <td>127229</td>\n",
       "      <td>200014</td>\n",
       "      <td>2105-02-17 01:08:00</td>\n",
       "      <td>0 days 01:08:00</td>\n",
       "      <td>2105-02-17</td>\n",
       "      <td>PaO2</td>\n",
       "      <td>179.0</td>\n",
       "      <td>mm Hg</td>\n",
       "      <td>-1 days +23:08:00</td>\n",
       "      <td>21.0</td>\n",
       "      <td>2105-02-17 01:08:00</td>\n",
       "      <td>852.380952</td>\n",
       "      <td>00:00:00</td>\n",
       "    </tr>\n",
       "    <tr>\n",
       "      <th>8264</th>\n",
       "      <td>9514</td>\n",
       "      <td>127229</td>\n",
       "      <td>200014</td>\n",
       "      <td>2105-02-17 04:35:00</td>\n",
       "      <td>0 days 04:35:00</td>\n",
       "      <td>2105-02-17</td>\n",
       "      <td>PaO2</td>\n",
       "      <td>183.0</td>\n",
       "      <td>mm Hg</td>\n",
       "      <td>0 days 02:35:00</td>\n",
       "      <td>21.0</td>\n",
       "      <td>2105-02-17 04:35:00</td>\n",
       "      <td>871.428571</td>\n",
       "      <td>00:00:00</td>\n",
       "    </tr>\n",
       "    <tr>\n",
       "      <th>8265</th>\n",
       "      <td>9514</td>\n",
       "      <td>127229</td>\n",
       "      <td>200014</td>\n",
       "      <td>2105-02-17 11:18:00</td>\n",
       "      <td>0 days 11:18:00</td>\n",
       "      <td>2105-02-17</td>\n",
       "      <td>PaO2</td>\n",
       "      <td>142.0</td>\n",
       "      <td>mm Hg</td>\n",
       "      <td>0 days 09:18:00</td>\n",
       "      <td>21.0</td>\n",
       "      <td>2105-02-17 11:18:00</td>\n",
       "      <td>676.190476</td>\n",
       "      <td>00:00:00</td>\n",
       "    </tr>\n",
       "    <tr>\n",
       "      <th>8266</th>\n",
       "      <td>9514</td>\n",
       "      <td>127229</td>\n",
       "      <td>200014</td>\n",
       "      <td>2105-02-17 15:28:00</td>\n",
       "      <td>0 days 15:28:00</td>\n",
       "      <td>2105-02-17</td>\n",
       "      <td>PaO2</td>\n",
       "      <td>155.0</td>\n",
       "      <td>mm Hg</td>\n",
       "      <td>0 days 13:28:00</td>\n",
       "      <td>40.0</td>\n",
       "      <td>2105-02-17 15:28:00</td>\n",
       "      <td>387.500000</td>\n",
       "      <td>00:00:00</td>\n",
       "    </tr>\n",
       "    <tr>\n",
       "      <th>8268</th>\n",
       "      <td>9514</td>\n",
       "      <td>127229</td>\n",
       "      <td>200014</td>\n",
       "      <td>2105-02-17 17:11:00</td>\n",
       "      <td>0 days 17:11:00</td>\n",
       "      <td>2105-02-17</td>\n",
       "      <td>PaO2</td>\n",
       "      <td>96.0</td>\n",
       "      <td>mm Hg</td>\n",
       "      <td>0 days 15:11:00</td>\n",
       "      <td>28.0</td>\n",
       "      <td>2105-02-17 17:11:00</td>\n",
       "      <td>342.857143</td>\n",
       "      <td>00:00:00</td>\n",
       "    </tr>\n",
       "    <tr>\n",
       "      <th>8267</th>\n",
       "      <td>9514</td>\n",
       "      <td>127229</td>\n",
       "      <td>200014</td>\n",
       "      <td>2105-02-17 17:11:00</td>\n",
       "      <td>0 days 17:11:00</td>\n",
       "      <td>2105-02-17</td>\n",
       "      <td>PaO2</td>\n",
       "      <td>96.0</td>\n",
       "      <td>mm Hg</td>\n",
       "      <td>0 days 15:11:00</td>\n",
       "      <td>40.0</td>\n",
       "      <td>2105-02-17 15:28:00</td>\n",
       "      <td>240.000000</td>\n",
       "      <td>01:43:00</td>\n",
       "    </tr>\n",
       "    <tr>\n",
       "      <th>8269</th>\n",
       "      <td>9514</td>\n",
       "      <td>127229</td>\n",
       "      <td>200014</td>\n",
       "      <td>2105-02-17 20:53:00</td>\n",
       "      <td>0 days 20:53:00</td>\n",
       "      <td>2105-02-17</td>\n",
       "      <td>PaO2</td>\n",
       "      <td>95.0</td>\n",
       "      <td>mm Hg</td>\n",
       "      <td>0 days 18:53:00</td>\n",
       "      <td>21.0</td>\n",
       "      <td>2105-02-17 20:53:00</td>\n",
       "      <td>452.380952</td>\n",
       "      <td>00:00:00</td>\n",
       "    </tr>\n",
       "    <tr>\n",
       "      <th>8270</th>\n",
       "      <td>9514</td>\n",
       "      <td>127229</td>\n",
       "      <td>200014</td>\n",
       "      <td>2105-02-18 04:01:00</td>\n",
       "      <td>1 days 04:01:00</td>\n",
       "      <td>2105-02-17</td>\n",
       "      <td>PaO2</td>\n",
       "      <td>101.0</td>\n",
       "      <td>mm Hg</td>\n",
       "      <td>1 days 02:01:00</td>\n",
       "      <td>21.0</td>\n",
       "      <td>2105-02-18 04:01:00</td>\n",
       "      <td>480.952381</td>\n",
       "      <td>00:00:00</td>\n",
       "    </tr>\n",
       "  </tbody>\n",
       "</table>\n",
       "</div>"
      ],
      "text/plain": [
       "      subject_id  hadm_id  icustay_id            charttime           delta  \\\n",
       "8263        9514   127229      200014  2105-02-17 01:08:00 0 days 01:08:00   \n",
       "8264        9514   127229      200014  2105-02-17 04:35:00 0 days 04:35:00   \n",
       "8265        9514   127229      200014  2105-02-17 11:18:00 0 days 11:18:00   \n",
       "8266        9514   127229      200014  2105-02-17 15:28:00 0 days 15:28:00   \n",
       "8268        9514   127229      200014  2105-02-17 17:11:00 0 days 17:11:00   \n",
       "8267        9514   127229      200014  2105-02-17 17:11:00 0 days 17:11:00   \n",
       "8269        9514   127229      200014  2105-02-17 20:53:00 0 days 20:53:00   \n",
       "8270        9514   127229      200014  2105-02-18 04:01:00 1 days 04:01:00   \n",
       "\n",
       "             t_0 label  valuenum    uom            offset  valuenum2  \\\n",
       "8263  2105-02-17  PaO2     179.0  mm Hg -1 days +23:08:00       21.0   \n",
       "8264  2105-02-17  PaO2     183.0  mm Hg   0 days 02:35:00       21.0   \n",
       "8265  2105-02-17  PaO2     142.0  mm Hg   0 days 09:18:00       21.0   \n",
       "8266  2105-02-17  PaO2     155.0  mm Hg   0 days 13:28:00       40.0   \n",
       "8268  2105-02-17  PaO2      96.0  mm Hg   0 days 15:11:00       28.0   \n",
       "8267  2105-02-17  PaO2      96.0  mm Hg   0 days 15:11:00       40.0   \n",
       "8269  2105-02-17  PaO2      95.0  mm Hg   0 days 18:53:00       21.0   \n",
       "8270  2105-02-17  PaO2     101.0  mm Hg   1 days 02:01:00       21.0   \n",
       "\n",
       "               charttime2       ratio deltadelta  \n",
       "8263  2105-02-17 01:08:00  852.380952   00:00:00  \n",
       "8264  2105-02-17 04:35:00  871.428571   00:00:00  \n",
       "8265  2105-02-17 11:18:00  676.190476   00:00:00  \n",
       "8266  2105-02-17 15:28:00  387.500000   00:00:00  \n",
       "8268  2105-02-17 17:11:00  342.857143   00:00:00  \n",
       "8267  2105-02-17 15:28:00  240.000000   01:43:00  \n",
       "8269  2105-02-17 20:53:00  452.380952   00:00:00  \n",
       "8270  2105-02-18 04:01:00  480.952381   00:00:00  "
      ]
     },
     "execution_count": 37,
     "metadata": {},
     "output_type": "execute_result"
    },
    {
     "name": "stdout",
     "output_type": "stream",
     "text": [
      "time: 30.3 ms\n"
     ]
    }
   ],
   "source": [
    "ratio_df[ratio_df['icustay_id']==200014]"
   ]
  },
  {
   "cell_type": "code",
   "execution_count": 38,
   "metadata": {},
   "outputs": [
    {
     "name": "stdout",
     "output_type": "stream",
     "text": [
      "time: 35.6 ms\n"
     ]
    }
   ],
   "source": [
    "# ratio_df.groupby(['icustay_id'], as_index=False)['ratio'].min() #is this what i want for my pao2/fio2 ratio?\n",
    "\n",
    "\n",
    "f = {'ratio': 'min','delta':'first'}\n",
    "ratio_min_df=ratio_df.sort_values(['icustay_id','ratio'],ascending=True).groupby('icustay_id', as_index=False).agg(f)\n",
    "\n",
    "##it's likely that this variable will not explain any additional variation in y than the ventilation category variable we already have. \n",
    "##maybe we can stratify patients with a few categories:\n",
    "\n",
    "##not on vent\n",
    "##being on vent with normal pao2/fio2 ratio\n",
    "## being on vent with low pao2/fio2 ratio"
   ]
  },
  {
   "cell_type": "code",
   "execution_count": 39,
   "metadata": {},
   "outputs": [
    {
     "data": {
      "text/html": [
       "<div>\n",
       "<style scoped>\n",
       "    .dataframe tbody tr th:only-of-type {\n",
       "        vertical-align: middle;\n",
       "    }\n",
       "\n",
       "    .dataframe tbody tr th {\n",
       "        vertical-align: top;\n",
       "    }\n",
       "\n",
       "    .dataframe thead th {\n",
       "        text-align: right;\n",
       "    }\n",
       "</style>\n",
       "<table border=\"1\" class=\"dataframe\">\n",
       "  <thead>\n",
       "    <tr style=\"text-align: right;\">\n",
       "      <th></th>\n",
       "      <th>icustay_id</th>\n",
       "      <th>ratio</th>\n",
       "      <th>delta</th>\n",
       "    </tr>\n",
       "  </thead>\n",
       "  <tbody>\n",
       "    <tr>\n",
       "      <th>0</th>\n",
       "      <td>200014</td>\n",
       "      <td>240.000000</td>\n",
       "      <td>0 days 17:11:00</td>\n",
       "    </tr>\n",
       "    <tr>\n",
       "      <th>1</th>\n",
       "      <td>200019</td>\n",
       "      <td>447.619048</td>\n",
       "      <td>1 days 05:28:00</td>\n",
       "    </tr>\n",
       "    <tr>\n",
       "      <th>2</th>\n",
       "      <td>200030</td>\n",
       "      <td>357.142857</td>\n",
       "      <td>2 days 22:34:00</td>\n",
       "    </tr>\n",
       "    <tr>\n",
       "      <th>3</th>\n",
       "      <td>200059</td>\n",
       "      <td>312.000000</td>\n",
       "      <td>0 days 07:41:00</td>\n",
       "    </tr>\n",
       "    <tr>\n",
       "      <th>4</th>\n",
       "      <td>200065</td>\n",
       "      <td>98.000000</td>\n",
       "      <td>0 days 08:27:00</td>\n",
       "    </tr>\n",
       "  </tbody>\n",
       "</table>\n",
       "</div>"
      ],
      "text/plain": [
       "   icustay_id       ratio           delta\n",
       "0      200014  240.000000 0 days 17:11:00\n",
       "1      200019  447.619048 1 days 05:28:00\n",
       "2      200030  357.142857 2 days 22:34:00\n",
       "3      200059  312.000000 0 days 07:41:00\n",
       "4      200065   98.000000 0 days 08:27:00"
      ]
     },
     "execution_count": 39,
     "metadata": {},
     "output_type": "execute_result"
    },
    {
     "name": "stdout",
     "output_type": "stream",
     "text": [
      "time: 7.28 ms\n"
     ]
    }
   ],
   "source": [
    "ratio_min_df.head()"
   ]
  },
  {
   "cell_type": "code",
   "execution_count": 40,
   "metadata": {},
   "outputs": [
    {
     "data": {
      "text/html": [
       "<div>\n",
       "<style scoped>\n",
       "    .dataframe tbody tr th:only-of-type {\n",
       "        vertical-align: middle;\n",
       "    }\n",
       "\n",
       "    .dataframe tbody tr th {\n",
       "        vertical-align: top;\n",
       "    }\n",
       "\n",
       "    .dataframe thead th {\n",
       "        text-align: right;\n",
       "    }\n",
       "</style>\n",
       "<table border=\"1\" class=\"dataframe\">\n",
       "  <thead>\n",
       "    <tr style=\"text-align: right;\">\n",
       "      <th></th>\n",
       "      <th>subject_id</th>\n",
       "      <th>hadm_id</th>\n",
       "      <th>t_0_sc</th>\n",
       "      <th>icustay_id</th>\n",
       "      <th>ab_course</th>\n",
       "      <th>t_0</th>\n",
       "      <th>t_end_consec</th>\n",
       "      <th>ICU_admit</th>\n",
       "      <th>dod_hosp</th>\n",
       "      <th>dod_ssn</th>\n",
       "      <th>dod_delta</th>\n",
       "      <th>org_list</th>\n",
       "      <th>spec_type_list</th>\n",
       "      <th>first_pos_else_neg_ssc</th>\n",
       "      <th>sc_result</th>\n",
       "      <th>final_bin</th>\n",
       "    </tr>\n",
       "  </thead>\n",
       "  <tbody>\n",
       "    <tr>\n",
       "      <th>0</th>\n",
       "      <td>3301</td>\n",
       "      <td>194119</td>\n",
       "      <td>2116-06-27 00:00:00</td>\n",
       "      <td>222957.0</td>\n",
       "      <td>full</td>\n",
       "      <td>2116-06-28</td>\n",
       "      <td>2116-06-28</td>\n",
       "      <td>2116-06-26 20:05:51</td>\n",
       "      <td>NaN</td>\n",
       "      <td>NaN</td>\n",
       "      <td>NaN</td>\n",
       "      <td>NaN</td>\n",
       "      <td>NaN</td>\n",
       "      <td>2116-06-27 00:00:00</td>\n",
       "      <td>negative</td>\n",
       "      <td>C_neg/A_full</td>\n",
       "    </tr>\n",
       "    <tr>\n",
       "      <th>1</th>\n",
       "      <td>3281</td>\n",
       "      <td>113868</td>\n",
       "      <td>2115-09-14 19:25:00</td>\n",
       "      <td>240363.0</td>\n",
       "      <td>partial</td>\n",
       "      <td>2115-09-14</td>\n",
       "      <td>2115-09-16</td>\n",
       "      <td>2115-09-13 23:16:50</td>\n",
       "      <td>2116-03-06 00:00:00</td>\n",
       "      <td>2116-03-06 00:00:00</td>\n",
       "      <td>0 days 00:00:00.000000000</td>\n",
       "      <td>NaN</td>\n",
       "      <td>NaN</td>\n",
       "      <td>2115-09-14 19:25:00</td>\n",
       "      <td>negative</td>\n",
       "      <td>C_neg/A_partial</td>\n",
       "    </tr>\n",
       "    <tr>\n",
       "      <th>2</th>\n",
       "      <td>3277</td>\n",
       "      <td>163302</td>\n",
       "      <td>2123-07-24 09:30:00</td>\n",
       "      <td>220265.0</td>\n",
       "      <td>full</td>\n",
       "      <td>2123-07-24</td>\n",
       "      <td>2123-08-06</td>\n",
       "      <td>2123-07-21 13:04:46</td>\n",
       "      <td>NaN</td>\n",
       "      <td>NaN</td>\n",
       "      <td>NaN</td>\n",
       "      <td>NaN</td>\n",
       "      <td>NaN</td>\n",
       "      <td>2123-07-24 09:30:00</td>\n",
       "      <td>negative</td>\n",
       "      <td>C_neg/A_full</td>\n",
       "    </tr>\n",
       "    <tr>\n",
       "      <th>3</th>\n",
       "      <td>3276</td>\n",
       "      <td>111860</td>\n",
       "      <td>2168-08-31 00:00:00</td>\n",
       "      <td>224362.0</td>\n",
       "      <td>partial</td>\n",
       "      <td>2168-08-30</td>\n",
       "      <td>2168-08-30</td>\n",
       "      <td>2168-08-26 21:21:59</td>\n",
       "      <td>NaN</td>\n",
       "      <td>NaN</td>\n",
       "      <td>NaN</td>\n",
       "      <td>NaN</td>\n",
       "      <td>NaN</td>\n",
       "      <td>2168-08-31 00:00:00</td>\n",
       "      <td>negative</td>\n",
       "      <td>C_neg/A_partial</td>\n",
       "    </tr>\n",
       "    <tr>\n",
       "      <th>6</th>\n",
       "      <td>3272</td>\n",
       "      <td>105931</td>\n",
       "      <td>2114-11-20 15:50:00</td>\n",
       "      <td>296728.0</td>\n",
       "      <td>partial</td>\n",
       "      <td>2114-11-21</td>\n",
       "      <td>2114-11-23</td>\n",
       "      <td>2114-11-20 19:51:15</td>\n",
       "      <td>NaN</td>\n",
       "      <td>NaN</td>\n",
       "      <td>NaN</td>\n",
       "      <td>NaN</td>\n",
       "      <td>NaN</td>\n",
       "      <td>2114-11-20 15:50:00</td>\n",
       "      <td>negative</td>\n",
       "      <td>C_neg/A_partial</td>\n",
       "    </tr>\n",
       "  </tbody>\n",
       "</table>\n",
       "</div>"
      ],
      "text/plain": [
       "   subject_id  hadm_id               t_0_sc  icustay_id ab_course         t_0  \\\n",
       "0        3301   194119  2116-06-27 00:00:00    222957.0      full  2116-06-28   \n",
       "1        3281   113868  2115-09-14 19:25:00    240363.0   partial  2115-09-14   \n",
       "2        3277   163302  2123-07-24 09:30:00    220265.0      full  2123-07-24   \n",
       "3        3276   111860  2168-08-31 00:00:00    224362.0   partial  2168-08-30   \n",
       "6        3272   105931  2114-11-20 15:50:00    296728.0   partial  2114-11-21   \n",
       "\n",
       "  t_end_consec            ICU_admit             dod_hosp              dod_ssn  \\\n",
       "0   2116-06-28  2116-06-26 20:05:51                  NaN                  NaN   \n",
       "1   2115-09-16  2115-09-13 23:16:50  2116-03-06 00:00:00  2116-03-06 00:00:00   \n",
       "2   2123-08-06  2123-07-21 13:04:46                  NaN                  NaN   \n",
       "3   2168-08-30  2168-08-26 21:21:59                  NaN                  NaN   \n",
       "6   2114-11-23  2114-11-20 19:51:15                  NaN                  NaN   \n",
       "\n",
       "                   dod_delta org_list spec_type_list first_pos_else_neg_ssc  \\\n",
       "0                        NaN      NaN            NaN    2116-06-27 00:00:00   \n",
       "1  0 days 00:00:00.000000000      NaN            NaN    2115-09-14 19:25:00   \n",
       "2                        NaN      NaN            NaN    2123-07-24 09:30:00   \n",
       "3                        NaN      NaN            NaN    2168-08-31 00:00:00   \n",
       "6                        NaN      NaN            NaN    2114-11-20 15:50:00   \n",
       "\n",
       "  sc_result        final_bin  \n",
       "0  negative     C_neg/A_full  \n",
       "1  negative  C_neg/A_partial  \n",
       "2  negative     C_neg/A_full  \n",
       "3  negative  C_neg/A_partial  \n",
       "6  negative  C_neg/A_partial  "
      ]
     },
     "execution_count": 40,
     "metadata": {},
     "output_type": "execute_result"
    },
    {
     "name": "stdout",
     "output_type": "stream",
     "text": [
      "time: 17.4 ms\n"
     ]
    }
   ],
   "source": [
    "final_pt_df2.head()"
   ]
  },
  {
   "cell_type": "code",
   "execution_count": 41,
   "metadata": {},
   "outputs": [
    {
     "data": {
      "text/plain": [
       "5352"
      ]
     },
     "execution_count": 41,
     "metadata": {},
     "output_type": "execute_result"
    },
    {
     "name": "stdout",
     "output_type": "stream",
     "text": [
      "time: 1.92 ms\n"
     ]
    }
   ],
   "source": [
    "len(ratio_min_df)"
   ]
  },
  {
   "cell_type": "code",
   "execution_count": 42,
   "metadata": {},
   "outputs": [
    {
     "name": "stdout",
     "output_type": "stream",
     "text": [
      "time: 31.4 ms\n"
     ]
    }
   ],
   "source": [
    "ratio_min_df= pd.merge(final_pt_df2[['icustay_id','hadm_id','t_0',]],ratio_min_df, left_on='icustay_id',right_on='icustay_id', how='left')\n",
    "ratio_min_df= ratio_min_df.rename(index=str, columns={'ratio':'value'})\n",
    "\n",
    "ratio_min_df.loc[ratio_min_df.loc[:,'value'].isnull(),'value']=476\n",
    "\n",
    "ratio_min_df['uom']= 'PaO2/FIO2 ratio'\n",
    "ratio_min_df['label']= 'PaO2/FIO2'"
   ]
  },
  {
   "cell_type": "code",
   "execution_count": 43,
   "metadata": {},
   "outputs": [
    {
     "name": "stdout",
     "output_type": "stream",
     "text": [
      "time: 9.8 ms\n"
     ]
    }
   ],
   "source": [
    "ratio_min_df.loc[:,'delta']=ratio_min_df.loc[:,'delta'].fillna(pd.to_timedelta('0 days'))"
   ]
  },
  {
   "cell_type": "code",
   "execution_count": 44,
   "metadata": {},
   "outputs": [
    {
     "data": {
      "text/plain": [
       "count    14478.000000\n",
       "mean       413.712727\n",
       "std        154.096198\n",
       "min         22.000000\n",
       "25%        357.142857\n",
       "50%        476.000000\n",
       "75%        476.000000\n",
       "max       2490.476190\n",
       "Name: value, dtype: float64"
      ]
     },
     "execution_count": 44,
     "metadata": {},
     "output_type": "execute_result"
    },
    {
     "name": "stdout",
     "output_type": "stream",
     "text": [
      "time: 7.25 ms\n"
     ]
    }
   ],
   "source": [
    "ratio_min_df['value'].describe()#100 PaO2 on 21% FiO2 = 476 ratio"
   ]
  },
  {
   "cell_type": "code",
   "execution_count": 45,
   "metadata": {},
   "outputs": [
    {
     "data": {
      "text/html": [
       "<div>\n",
       "<style scoped>\n",
       "    .dataframe tbody tr th:only-of-type {\n",
       "        vertical-align: middle;\n",
       "    }\n",
       "\n",
       "    .dataframe tbody tr th {\n",
       "        vertical-align: top;\n",
       "    }\n",
       "\n",
       "    .dataframe thead th {\n",
       "        text-align: right;\n",
       "    }\n",
       "</style>\n",
       "<table border=\"1\" class=\"dataframe\">\n",
       "  <thead>\n",
       "    <tr style=\"text-align: right;\">\n",
       "      <th></th>\n",
       "      <th>icustay_id</th>\n",
       "      <th>hadm_id</th>\n",
       "      <th>t_0</th>\n",
       "      <th>value</th>\n",
       "      <th>delta</th>\n",
       "      <th>uom</th>\n",
       "      <th>label</th>\n",
       "    </tr>\n",
       "  </thead>\n",
       "  <tbody>\n",
       "    <tr>\n",
       "      <th>0</th>\n",
       "      <td>222957.0</td>\n",
       "      <td>194119</td>\n",
       "      <td>2116-06-28</td>\n",
       "      <td>438.095238</td>\n",
       "      <td>0 days 02:39:00</td>\n",
       "      <td>PaO2/FIO2 ratio</td>\n",
       "      <td>PaO2/FIO2</td>\n",
       "    </tr>\n",
       "    <tr>\n",
       "      <th>1</th>\n",
       "      <td>240363.0</td>\n",
       "      <td>113868</td>\n",
       "      <td>2115-09-14</td>\n",
       "      <td>476.000000</td>\n",
       "      <td>0 days 00:00:00</td>\n",
       "      <td>PaO2/FIO2 ratio</td>\n",
       "      <td>PaO2/FIO2</td>\n",
       "    </tr>\n",
       "    <tr>\n",
       "      <th>2</th>\n",
       "      <td>220265.0</td>\n",
       "      <td>163302</td>\n",
       "      <td>2123-07-24</td>\n",
       "      <td>390.476190</td>\n",
       "      <td>0 days 11:07:00</td>\n",
       "      <td>PaO2/FIO2 ratio</td>\n",
       "      <td>PaO2/FIO2</td>\n",
       "    </tr>\n",
       "    <tr>\n",
       "      <th>3</th>\n",
       "      <td>224362.0</td>\n",
       "      <td>111860</td>\n",
       "      <td>2168-08-30</td>\n",
       "      <td>476.000000</td>\n",
       "      <td>0 days 00:00:00</td>\n",
       "      <td>PaO2/FIO2 ratio</td>\n",
       "      <td>PaO2/FIO2</td>\n",
       "    </tr>\n",
       "    <tr>\n",
       "      <th>4</th>\n",
       "      <td>296728.0</td>\n",
       "      <td>105931</td>\n",
       "      <td>2114-11-21</td>\n",
       "      <td>476.000000</td>\n",
       "      <td>0 days 00:00:00</td>\n",
       "      <td>PaO2/FIO2 ratio</td>\n",
       "      <td>PaO2/FIO2</td>\n",
       "    </tr>\n",
       "    <tr>\n",
       "      <th>5</th>\n",
       "      <td>278829.0</td>\n",
       "      <td>134370</td>\n",
       "      <td>2193-08-28</td>\n",
       "      <td>400.000000</td>\n",
       "      <td>0 days 10:25:00</td>\n",
       "      <td>PaO2/FIO2 ratio</td>\n",
       "      <td>PaO2/FIO2</td>\n",
       "    </tr>\n",
       "    <tr>\n",
       "      <th>6</th>\n",
       "      <td>271485.0</td>\n",
       "      <td>156533</td>\n",
       "      <td>2137-04-04</td>\n",
       "      <td>476.000000</td>\n",
       "      <td>0 days 00:00:00</td>\n",
       "      <td>PaO2/FIO2 ratio</td>\n",
       "      <td>PaO2/FIO2</td>\n",
       "    </tr>\n",
       "    <tr>\n",
       "      <th>7</th>\n",
       "      <td>206821.0</td>\n",
       "      <td>155346</td>\n",
       "      <td>2169-10-08</td>\n",
       "      <td>140.000000</td>\n",
       "      <td>1 days 13:06:00</td>\n",
       "      <td>PaO2/FIO2 ratio</td>\n",
       "      <td>PaO2/FIO2</td>\n",
       "    </tr>\n",
       "    <tr>\n",
       "      <th>8</th>\n",
       "      <td>257253.0</td>\n",
       "      <td>155197</td>\n",
       "      <td>2130-07-20</td>\n",
       "      <td>585.714286</td>\n",
       "      <td>0 days 00:42:00</td>\n",
       "      <td>PaO2/FIO2 ratio</td>\n",
       "      <td>PaO2/FIO2</td>\n",
       "    </tr>\n",
       "    <tr>\n",
       "      <th>9</th>\n",
       "      <td>275841.0</td>\n",
       "      <td>146611</td>\n",
       "      <td>2150-04-06</td>\n",
       "      <td>51.000000</td>\n",
       "      <td>1 days 08:06:00</td>\n",
       "      <td>PaO2/FIO2 ratio</td>\n",
       "      <td>PaO2/FIO2</td>\n",
       "    </tr>\n",
       "    <tr>\n",
       "      <th>10</th>\n",
       "      <td>297417.0</td>\n",
       "      <td>131082</td>\n",
       "      <td>2196-05-22</td>\n",
       "      <td>333.333333</td>\n",
       "      <td>2 days 00:38:00</td>\n",
       "      <td>PaO2/FIO2 ratio</td>\n",
       "      <td>PaO2/FIO2</td>\n",
       "    </tr>\n",
       "    <tr>\n",
       "      <th>11</th>\n",
       "      <td>287365.0</td>\n",
       "      <td>167867</td>\n",
       "      <td>2128-07-19</td>\n",
       "      <td>476.000000</td>\n",
       "      <td>0 days 00:00:00</td>\n",
       "      <td>PaO2/FIO2 ratio</td>\n",
       "      <td>PaO2/FIO2</td>\n",
       "    </tr>\n",
       "    <tr>\n",
       "      <th>12</th>\n",
       "      <td>287757.0</td>\n",
       "      <td>132516</td>\n",
       "      <td>2196-06-10</td>\n",
       "      <td>447.619048</td>\n",
       "      <td>0 days 11:10:00</td>\n",
       "      <td>PaO2/FIO2 ratio</td>\n",
       "      <td>PaO2/FIO2</td>\n",
       "    </tr>\n",
       "    <tr>\n",
       "      <th>13</th>\n",
       "      <td>280095.0</td>\n",
       "      <td>135362</td>\n",
       "      <td>2116-10-16</td>\n",
       "      <td>200.000000</td>\n",
       "      <td>2 days 15:37:00</td>\n",
       "      <td>PaO2/FIO2 ratio</td>\n",
       "      <td>PaO2/FIO2</td>\n",
       "    </tr>\n",
       "    <tr>\n",
       "      <th>14</th>\n",
       "      <td>209500.0</td>\n",
       "      <td>137892</td>\n",
       "      <td>2112-03-23</td>\n",
       "      <td>53.000000</td>\n",
       "      <td>1 days 09:51:00</td>\n",
       "      <td>PaO2/FIO2 ratio</td>\n",
       "      <td>PaO2/FIO2</td>\n",
       "    </tr>\n",
       "    <tr>\n",
       "      <th>15</th>\n",
       "      <td>273606.0</td>\n",
       "      <td>188863</td>\n",
       "      <td>2161-03-22</td>\n",
       "      <td>476.000000</td>\n",
       "      <td>0 days 00:00:00</td>\n",
       "      <td>PaO2/FIO2 ratio</td>\n",
       "      <td>PaO2/FIO2</td>\n",
       "    </tr>\n",
       "    <tr>\n",
       "      <th>16</th>\n",
       "      <td>245726.0</td>\n",
       "      <td>109944</td>\n",
       "      <td>2111-01-06</td>\n",
       "      <td>423.809524</td>\n",
       "      <td>0 days 15:29:00</td>\n",
       "      <td>PaO2/FIO2 ratio</td>\n",
       "      <td>PaO2/FIO2</td>\n",
       "    </tr>\n",
       "    <tr>\n",
       "      <th>17</th>\n",
       "      <td>211292.0</td>\n",
       "      <td>131757</td>\n",
       "      <td>2163-04-07</td>\n",
       "      <td>476.000000</td>\n",
       "      <td>0 days 00:00:00</td>\n",
       "      <td>PaO2/FIO2 ratio</td>\n",
       "      <td>PaO2/FIO2</td>\n",
       "    </tr>\n",
       "    <tr>\n",
       "      <th>18</th>\n",
       "      <td>265221.0</td>\n",
       "      <td>106068</td>\n",
       "      <td>2160-07-02</td>\n",
       "      <td>309.523810</td>\n",
       "      <td>0 days 07:02:00</td>\n",
       "      <td>PaO2/FIO2 ratio</td>\n",
       "      <td>PaO2/FIO2</td>\n",
       "    </tr>\n",
       "    <tr>\n",
       "      <th>19</th>\n",
       "      <td>280124.0</td>\n",
       "      <td>161207</td>\n",
       "      <td>2101-01-27</td>\n",
       "      <td>476.000000</td>\n",
       "      <td>0 days 00:00:00</td>\n",
       "      <td>PaO2/FIO2 ratio</td>\n",
       "      <td>PaO2/FIO2</td>\n",
       "    </tr>\n",
       "    <tr>\n",
       "      <th>20</th>\n",
       "      <td>206868.0</td>\n",
       "      <td>143281</td>\n",
       "      <td>2180-04-30</td>\n",
       "      <td>476.000000</td>\n",
       "      <td>0 days 00:00:00</td>\n",
       "      <td>PaO2/FIO2 ratio</td>\n",
       "      <td>PaO2/FIO2</td>\n",
       "    </tr>\n",
       "    <tr>\n",
       "      <th>21</th>\n",
       "      <td>206179.0</td>\n",
       "      <td>197798</td>\n",
       "      <td>2197-05-04</td>\n",
       "      <td>476.000000</td>\n",
       "      <td>0 days 00:00:00</td>\n",
       "      <td>PaO2/FIO2 ratio</td>\n",
       "      <td>PaO2/FIO2</td>\n",
       "    </tr>\n",
       "    <tr>\n",
       "      <th>22</th>\n",
       "      <td>206522.0</td>\n",
       "      <td>181476</td>\n",
       "      <td>2138-07-26</td>\n",
       "      <td>533.333333</td>\n",
       "      <td>0 days 06:23:00</td>\n",
       "      <td>PaO2/FIO2 ratio</td>\n",
       "      <td>PaO2/FIO2</td>\n",
       "    </tr>\n",
       "    <tr>\n",
       "      <th>23</th>\n",
       "      <td>288257.0</td>\n",
       "      <td>169807</td>\n",
       "      <td>2114-12-29</td>\n",
       "      <td>476.000000</td>\n",
       "      <td>0 days 00:00:00</td>\n",
       "      <td>PaO2/FIO2 ratio</td>\n",
       "      <td>PaO2/FIO2</td>\n",
       "    </tr>\n",
       "    <tr>\n",
       "      <th>24</th>\n",
       "      <td>285138.0</td>\n",
       "      <td>121973</td>\n",
       "      <td>2102-06-16</td>\n",
       "      <td>457.142857</td>\n",
       "      <td>0 days 17:10:00</td>\n",
       "      <td>PaO2/FIO2 ratio</td>\n",
       "      <td>PaO2/FIO2</td>\n",
       "    </tr>\n",
       "    <tr>\n",
       "      <th>25</th>\n",
       "      <td>225804.0</td>\n",
       "      <td>186628</td>\n",
       "      <td>2168-06-30</td>\n",
       "      <td>323.809524</td>\n",
       "      <td>2 days 02:42:00</td>\n",
       "      <td>PaO2/FIO2 ratio</td>\n",
       "      <td>PaO2/FIO2</td>\n",
       "    </tr>\n",
       "    <tr>\n",
       "      <th>26</th>\n",
       "      <td>215654.0</td>\n",
       "      <td>157135</td>\n",
       "      <td>2116-05-27</td>\n",
       "      <td>476.000000</td>\n",
       "      <td>0 days 00:00:00</td>\n",
       "      <td>PaO2/FIO2 ratio</td>\n",
       "      <td>PaO2/FIO2</td>\n",
       "    </tr>\n",
       "    <tr>\n",
       "      <th>27</th>\n",
       "      <td>298212.0</td>\n",
       "      <td>167830</td>\n",
       "      <td>2116-05-06</td>\n",
       "      <td>476.000000</td>\n",
       "      <td>0 days 00:00:00</td>\n",
       "      <td>PaO2/FIO2 ratio</td>\n",
       "      <td>PaO2/FIO2</td>\n",
       "    </tr>\n",
       "    <tr>\n",
       "      <th>28</th>\n",
       "      <td>216430.0</td>\n",
       "      <td>149954</td>\n",
       "      <td>2200-01-24</td>\n",
       "      <td>333.333333</td>\n",
       "      <td>0 days 03:30:00</td>\n",
       "      <td>PaO2/FIO2 ratio</td>\n",
       "      <td>PaO2/FIO2</td>\n",
       "    </tr>\n",
       "    <tr>\n",
       "      <th>29</th>\n",
       "      <td>263868.0</td>\n",
       "      <td>146062</td>\n",
       "      <td>2120-10-13</td>\n",
       "      <td>476.000000</td>\n",
       "      <td>0 days 00:00:00</td>\n",
       "      <td>PaO2/FIO2 ratio</td>\n",
       "      <td>PaO2/FIO2</td>\n",
       "    </tr>\n",
       "    <tr>\n",
       "      <th>...</th>\n",
       "      <td>...</td>\n",
       "      <td>...</td>\n",
       "      <td>...</td>\n",
       "      <td>...</td>\n",
       "      <td>...</td>\n",
       "      <td>...</td>\n",
       "      <td>...</td>\n",
       "    </tr>\n",
       "    <tr>\n",
       "      <th>14448</th>\n",
       "      <td>290079.0</td>\n",
       "      <td>164405</td>\n",
       "      <td>2176-09-28</td>\n",
       "      <td>476.000000</td>\n",
       "      <td>0 days 00:00:00</td>\n",
       "      <td>PaO2/FIO2 ratio</td>\n",
       "      <td>PaO2/FIO2</td>\n",
       "    </tr>\n",
       "    <tr>\n",
       "      <th>14449</th>\n",
       "      <td>252789.0</td>\n",
       "      <td>176764</td>\n",
       "      <td>2184-01-25</td>\n",
       "      <td>300.000000</td>\n",
       "      <td>1 days 04:54:00</td>\n",
       "      <td>PaO2/FIO2 ratio</td>\n",
       "      <td>PaO2/FIO2</td>\n",
       "    </tr>\n",
       "    <tr>\n",
       "      <th>14450</th>\n",
       "      <td>271863.0</td>\n",
       "      <td>128219</td>\n",
       "      <td>2105-01-24</td>\n",
       "      <td>847.619048</td>\n",
       "      <td>0 days 00:50:00</td>\n",
       "      <td>PaO2/FIO2 ratio</td>\n",
       "      <td>PaO2/FIO2</td>\n",
       "    </tr>\n",
       "    <tr>\n",
       "      <th>14451</th>\n",
       "      <td>247247.0</td>\n",
       "      <td>170252</td>\n",
       "      <td>2170-10-04</td>\n",
       "      <td>476.000000</td>\n",
       "      <td>0 days 00:00:00</td>\n",
       "      <td>PaO2/FIO2 ratio</td>\n",
       "      <td>PaO2/FIO2</td>\n",
       "    </tr>\n",
       "    <tr>\n",
       "      <th>14452</th>\n",
       "      <td>264885.0</td>\n",
       "      <td>107880</td>\n",
       "      <td>2106-06-18</td>\n",
       "      <td>82.500000</td>\n",
       "      <td>0 days 03:53:00</td>\n",
       "      <td>PaO2/FIO2 ratio</td>\n",
       "      <td>PaO2/FIO2</td>\n",
       "    </tr>\n",
       "    <tr>\n",
       "      <th>14453</th>\n",
       "      <td>234668.0</td>\n",
       "      <td>168006</td>\n",
       "      <td>2140-11-06</td>\n",
       "      <td>247.619048</td>\n",
       "      <td>0 days 18:40:00</td>\n",
       "      <td>PaO2/FIO2 ratio</td>\n",
       "      <td>PaO2/FIO2</td>\n",
       "    </tr>\n",
       "    <tr>\n",
       "      <th>14454</th>\n",
       "      <td>296584.0</td>\n",
       "      <td>113323</td>\n",
       "      <td>2119-11-15</td>\n",
       "      <td>409.523810</td>\n",
       "      <td>0 days 17:17:00</td>\n",
       "      <td>PaO2/FIO2 ratio</td>\n",
       "      <td>PaO2/FIO2</td>\n",
       "    </tr>\n",
       "    <tr>\n",
       "      <th>14455</th>\n",
       "      <td>238431.0</td>\n",
       "      <td>164174</td>\n",
       "      <td>2157-03-27</td>\n",
       "      <td>476.000000</td>\n",
       "      <td>0 days 00:00:00</td>\n",
       "      <td>PaO2/FIO2 ratio</td>\n",
       "      <td>PaO2/FIO2</td>\n",
       "    </tr>\n",
       "    <tr>\n",
       "      <th>14456</th>\n",
       "      <td>211700.0</td>\n",
       "      <td>140784</td>\n",
       "      <td>2133-04-09</td>\n",
       "      <td>476.000000</td>\n",
       "      <td>0 days 00:00:00</td>\n",
       "      <td>PaO2/FIO2 ratio</td>\n",
       "      <td>PaO2/FIO2</td>\n",
       "    </tr>\n",
       "    <tr>\n",
       "      <th>14457</th>\n",
       "      <td>224661.0</td>\n",
       "      <td>109976</td>\n",
       "      <td>2140-12-13</td>\n",
       "      <td>786.666667</td>\n",
       "      <td>1 days 17:02:00</td>\n",
       "      <td>PaO2/FIO2 ratio</td>\n",
       "      <td>PaO2/FIO2</td>\n",
       "    </tr>\n",
       "    <tr>\n",
       "      <th>14458</th>\n",
       "      <td>251972.0</td>\n",
       "      <td>173177</td>\n",
       "      <td>2196-09-28</td>\n",
       "      <td>476.000000</td>\n",
       "      <td>0 days 00:00:00</td>\n",
       "      <td>PaO2/FIO2 ratio</td>\n",
       "      <td>PaO2/FIO2</td>\n",
       "    </tr>\n",
       "    <tr>\n",
       "      <th>14459</th>\n",
       "      <td>232807.0</td>\n",
       "      <td>102024</td>\n",
       "      <td>2142-06-03</td>\n",
       "      <td>476.000000</td>\n",
       "      <td>0 days 00:00:00</td>\n",
       "      <td>PaO2/FIO2 ratio</td>\n",
       "      <td>PaO2/FIO2</td>\n",
       "    </tr>\n",
       "    <tr>\n",
       "      <th>14460</th>\n",
       "      <td>256504.0</td>\n",
       "      <td>176760</td>\n",
       "      <td>2142-01-21</td>\n",
       "      <td>476.000000</td>\n",
       "      <td>0 days 00:00:00</td>\n",
       "      <td>PaO2/FIO2 ratio</td>\n",
       "      <td>PaO2/FIO2</td>\n",
       "    </tr>\n",
       "    <tr>\n",
       "      <th>14461</th>\n",
       "      <td>257134.0</td>\n",
       "      <td>125288</td>\n",
       "      <td>2141-11-19</td>\n",
       "      <td>476.000000</td>\n",
       "      <td>0 days 00:00:00</td>\n",
       "      <td>PaO2/FIO2 ratio</td>\n",
       "      <td>PaO2/FIO2</td>\n",
       "    </tr>\n",
       "    <tr>\n",
       "      <th>14462</th>\n",
       "      <td>262652.0</td>\n",
       "      <td>172335</td>\n",
       "      <td>2141-09-21</td>\n",
       "      <td>476.000000</td>\n",
       "      <td>0 days 00:00:00</td>\n",
       "      <td>PaO2/FIO2 ratio</td>\n",
       "      <td>PaO2/FIO2</td>\n",
       "    </tr>\n",
       "    <tr>\n",
       "      <th>14463</th>\n",
       "      <td>257358.0</td>\n",
       "      <td>139061</td>\n",
       "      <td>2141-09-11</td>\n",
       "      <td>476.000000</td>\n",
       "      <td>0 days 00:00:00</td>\n",
       "      <td>PaO2/FIO2 ratio</td>\n",
       "      <td>PaO2/FIO2</td>\n",
       "    </tr>\n",
       "    <tr>\n",
       "      <th>14464</th>\n",
       "      <td>253139.0</td>\n",
       "      <td>147469</td>\n",
       "      <td>2141-06-13</td>\n",
       "      <td>476.000000</td>\n",
       "      <td>0 days 00:00:00</td>\n",
       "      <td>PaO2/FIO2 ratio</td>\n",
       "      <td>PaO2/FIO2</td>\n",
       "    </tr>\n",
       "    <tr>\n",
       "      <th>14465</th>\n",
       "      <td>272890.0</td>\n",
       "      <td>128744</td>\n",
       "      <td>2189-02-21</td>\n",
       "      <td>476.000000</td>\n",
       "      <td>0 days 00:00:00</td>\n",
       "      <td>PaO2/FIO2 ratio</td>\n",
       "      <td>PaO2/FIO2</td>\n",
       "    </tr>\n",
       "    <tr>\n",
       "      <th>14466</th>\n",
       "      <td>294980.0</td>\n",
       "      <td>161160</td>\n",
       "      <td>2189-01-29</td>\n",
       "      <td>476.000000</td>\n",
       "      <td>0 days 00:00:00</td>\n",
       "      <td>PaO2/FIO2 ratio</td>\n",
       "      <td>PaO2/FIO2</td>\n",
       "    </tr>\n",
       "    <tr>\n",
       "      <th>14467</th>\n",
       "      <td>229012.0</td>\n",
       "      <td>183686</td>\n",
       "      <td>2176-02-26</td>\n",
       "      <td>476.000000</td>\n",
       "      <td>0 days 00:00:00</td>\n",
       "      <td>PaO2/FIO2 ratio</td>\n",
       "      <td>PaO2/FIO2</td>\n",
       "    </tr>\n",
       "    <tr>\n",
       "      <th>14468</th>\n",
       "      <td>256068.0</td>\n",
       "      <td>115385</td>\n",
       "      <td>2148-11-12</td>\n",
       "      <td>476.000000</td>\n",
       "      <td>0 days 00:00:00</td>\n",
       "      <td>PaO2/FIO2 ratio</td>\n",
       "      <td>PaO2/FIO2</td>\n",
       "    </tr>\n",
       "    <tr>\n",
       "      <th>14469</th>\n",
       "      <td>284305.0</td>\n",
       "      <td>194730</td>\n",
       "      <td>2170-12-23</td>\n",
       "      <td>476.000000</td>\n",
       "      <td>0 days 00:00:00</td>\n",
       "      <td>PaO2/FIO2 ratio</td>\n",
       "      <td>PaO2/FIO2</td>\n",
       "    </tr>\n",
       "    <tr>\n",
       "      <th>14470</th>\n",
       "      <td>272667.0</td>\n",
       "      <td>108329</td>\n",
       "      <td>2174-01-12</td>\n",
       "      <td>438.095238</td>\n",
       "      <td>0 days 06:45:00</td>\n",
       "      <td>PaO2/FIO2 ratio</td>\n",
       "      <td>PaO2/FIO2</td>\n",
       "    </tr>\n",
       "    <tr>\n",
       "      <th>14471</th>\n",
       "      <td>216609.0</td>\n",
       "      <td>116009</td>\n",
       "      <td>2113-02-18</td>\n",
       "      <td>476.000000</td>\n",
       "      <td>0 days 00:00:00</td>\n",
       "      <td>PaO2/FIO2 ratio</td>\n",
       "      <td>PaO2/FIO2</td>\n",
       "    </tr>\n",
       "    <tr>\n",
       "      <th>14472</th>\n",
       "      <td>252348.0</td>\n",
       "      <td>176332</td>\n",
       "      <td>2118-07-13</td>\n",
       "      <td>476.000000</td>\n",
       "      <td>0 days 00:00:00</td>\n",
       "      <td>PaO2/FIO2 ratio</td>\n",
       "      <td>PaO2/FIO2</td>\n",
       "    </tr>\n",
       "    <tr>\n",
       "      <th>14473</th>\n",
       "      <td>296681.0</td>\n",
       "      <td>176176</td>\n",
       "      <td>2116-12-24</td>\n",
       "      <td>476.000000</td>\n",
       "      <td>0 days 00:00:00</td>\n",
       "      <td>PaO2/FIO2 ratio</td>\n",
       "      <td>PaO2/FIO2</td>\n",
       "    </tr>\n",
       "    <tr>\n",
       "      <th>14474</th>\n",
       "      <td>244882.0</td>\n",
       "      <td>197661</td>\n",
       "      <td>2126-05-10</td>\n",
       "      <td>476.000000</td>\n",
       "      <td>0 days 00:00:00</td>\n",
       "      <td>PaO2/FIO2 ratio</td>\n",
       "      <td>PaO2/FIO2</td>\n",
       "    </tr>\n",
       "    <tr>\n",
       "      <th>14475</th>\n",
       "      <td>203487.0</td>\n",
       "      <td>129635</td>\n",
       "      <td>2160-11-02</td>\n",
       "      <td>152.380952</td>\n",
       "      <td>0 days 12:57:00</td>\n",
       "      <td>PaO2/FIO2 ratio</td>\n",
       "      <td>PaO2/FIO2</td>\n",
       "    </tr>\n",
       "    <tr>\n",
       "      <th>14476</th>\n",
       "      <td>273430.0</td>\n",
       "      <td>109235</td>\n",
       "      <td>2108-08-06</td>\n",
       "      <td>552.380952</td>\n",
       "      <td>1 days 06:11:00</td>\n",
       "      <td>PaO2/FIO2 ratio</td>\n",
       "      <td>PaO2/FIO2</td>\n",
       "    </tr>\n",
       "    <tr>\n",
       "      <th>14477</th>\n",
       "      <td>220597.0</td>\n",
       "      <td>150750</td>\n",
       "      <td>2149-11-13</td>\n",
       "      <td>136.000000</td>\n",
       "      <td>0 days 08:07:00</td>\n",
       "      <td>PaO2/FIO2 ratio</td>\n",
       "      <td>PaO2/FIO2</td>\n",
       "    </tr>\n",
       "  </tbody>\n",
       "</table>\n",
       "<p>14478 rows × 7 columns</p>\n",
       "</div>"
      ],
      "text/plain": [
       "       icustay_id  hadm_id         t_0       value           delta  \\\n",
       "0        222957.0   194119  2116-06-28  438.095238 0 days 02:39:00   \n",
       "1        240363.0   113868  2115-09-14  476.000000 0 days 00:00:00   \n",
       "2        220265.0   163302  2123-07-24  390.476190 0 days 11:07:00   \n",
       "3        224362.0   111860  2168-08-30  476.000000 0 days 00:00:00   \n",
       "4        296728.0   105931  2114-11-21  476.000000 0 days 00:00:00   \n",
       "5        278829.0   134370  2193-08-28  400.000000 0 days 10:25:00   \n",
       "6        271485.0   156533  2137-04-04  476.000000 0 days 00:00:00   \n",
       "7        206821.0   155346  2169-10-08  140.000000 1 days 13:06:00   \n",
       "8        257253.0   155197  2130-07-20  585.714286 0 days 00:42:00   \n",
       "9        275841.0   146611  2150-04-06   51.000000 1 days 08:06:00   \n",
       "10       297417.0   131082  2196-05-22  333.333333 2 days 00:38:00   \n",
       "11       287365.0   167867  2128-07-19  476.000000 0 days 00:00:00   \n",
       "12       287757.0   132516  2196-06-10  447.619048 0 days 11:10:00   \n",
       "13       280095.0   135362  2116-10-16  200.000000 2 days 15:37:00   \n",
       "14       209500.0   137892  2112-03-23   53.000000 1 days 09:51:00   \n",
       "15       273606.0   188863  2161-03-22  476.000000 0 days 00:00:00   \n",
       "16       245726.0   109944  2111-01-06  423.809524 0 days 15:29:00   \n",
       "17       211292.0   131757  2163-04-07  476.000000 0 days 00:00:00   \n",
       "18       265221.0   106068  2160-07-02  309.523810 0 days 07:02:00   \n",
       "19       280124.0   161207  2101-01-27  476.000000 0 days 00:00:00   \n",
       "20       206868.0   143281  2180-04-30  476.000000 0 days 00:00:00   \n",
       "21       206179.0   197798  2197-05-04  476.000000 0 days 00:00:00   \n",
       "22       206522.0   181476  2138-07-26  533.333333 0 days 06:23:00   \n",
       "23       288257.0   169807  2114-12-29  476.000000 0 days 00:00:00   \n",
       "24       285138.0   121973  2102-06-16  457.142857 0 days 17:10:00   \n",
       "25       225804.0   186628  2168-06-30  323.809524 2 days 02:42:00   \n",
       "26       215654.0   157135  2116-05-27  476.000000 0 days 00:00:00   \n",
       "27       298212.0   167830  2116-05-06  476.000000 0 days 00:00:00   \n",
       "28       216430.0   149954  2200-01-24  333.333333 0 days 03:30:00   \n",
       "29       263868.0   146062  2120-10-13  476.000000 0 days 00:00:00   \n",
       "...           ...      ...         ...         ...             ...   \n",
       "14448    290079.0   164405  2176-09-28  476.000000 0 days 00:00:00   \n",
       "14449    252789.0   176764  2184-01-25  300.000000 1 days 04:54:00   \n",
       "14450    271863.0   128219  2105-01-24  847.619048 0 days 00:50:00   \n",
       "14451    247247.0   170252  2170-10-04  476.000000 0 days 00:00:00   \n",
       "14452    264885.0   107880  2106-06-18   82.500000 0 days 03:53:00   \n",
       "14453    234668.0   168006  2140-11-06  247.619048 0 days 18:40:00   \n",
       "14454    296584.0   113323  2119-11-15  409.523810 0 days 17:17:00   \n",
       "14455    238431.0   164174  2157-03-27  476.000000 0 days 00:00:00   \n",
       "14456    211700.0   140784  2133-04-09  476.000000 0 days 00:00:00   \n",
       "14457    224661.0   109976  2140-12-13  786.666667 1 days 17:02:00   \n",
       "14458    251972.0   173177  2196-09-28  476.000000 0 days 00:00:00   \n",
       "14459    232807.0   102024  2142-06-03  476.000000 0 days 00:00:00   \n",
       "14460    256504.0   176760  2142-01-21  476.000000 0 days 00:00:00   \n",
       "14461    257134.0   125288  2141-11-19  476.000000 0 days 00:00:00   \n",
       "14462    262652.0   172335  2141-09-21  476.000000 0 days 00:00:00   \n",
       "14463    257358.0   139061  2141-09-11  476.000000 0 days 00:00:00   \n",
       "14464    253139.0   147469  2141-06-13  476.000000 0 days 00:00:00   \n",
       "14465    272890.0   128744  2189-02-21  476.000000 0 days 00:00:00   \n",
       "14466    294980.0   161160  2189-01-29  476.000000 0 days 00:00:00   \n",
       "14467    229012.0   183686  2176-02-26  476.000000 0 days 00:00:00   \n",
       "14468    256068.0   115385  2148-11-12  476.000000 0 days 00:00:00   \n",
       "14469    284305.0   194730  2170-12-23  476.000000 0 days 00:00:00   \n",
       "14470    272667.0   108329  2174-01-12  438.095238 0 days 06:45:00   \n",
       "14471    216609.0   116009  2113-02-18  476.000000 0 days 00:00:00   \n",
       "14472    252348.0   176332  2118-07-13  476.000000 0 days 00:00:00   \n",
       "14473    296681.0   176176  2116-12-24  476.000000 0 days 00:00:00   \n",
       "14474    244882.0   197661  2126-05-10  476.000000 0 days 00:00:00   \n",
       "14475    203487.0   129635  2160-11-02  152.380952 0 days 12:57:00   \n",
       "14476    273430.0   109235  2108-08-06  552.380952 1 days 06:11:00   \n",
       "14477    220597.0   150750  2149-11-13  136.000000 0 days 08:07:00   \n",
       "\n",
       "                   uom      label  \n",
       "0      PaO2/FIO2 ratio  PaO2/FIO2  \n",
       "1      PaO2/FIO2 ratio  PaO2/FIO2  \n",
       "2      PaO2/FIO2 ratio  PaO2/FIO2  \n",
       "3      PaO2/FIO2 ratio  PaO2/FIO2  \n",
       "4      PaO2/FIO2 ratio  PaO2/FIO2  \n",
       "5      PaO2/FIO2 ratio  PaO2/FIO2  \n",
       "6      PaO2/FIO2 ratio  PaO2/FIO2  \n",
       "7      PaO2/FIO2 ratio  PaO2/FIO2  \n",
       "8      PaO2/FIO2 ratio  PaO2/FIO2  \n",
       "9      PaO2/FIO2 ratio  PaO2/FIO2  \n",
       "10     PaO2/FIO2 ratio  PaO2/FIO2  \n",
       "11     PaO2/FIO2 ratio  PaO2/FIO2  \n",
       "12     PaO2/FIO2 ratio  PaO2/FIO2  \n",
       "13     PaO2/FIO2 ratio  PaO2/FIO2  \n",
       "14     PaO2/FIO2 ratio  PaO2/FIO2  \n",
       "15     PaO2/FIO2 ratio  PaO2/FIO2  \n",
       "16     PaO2/FIO2 ratio  PaO2/FIO2  \n",
       "17     PaO2/FIO2 ratio  PaO2/FIO2  \n",
       "18     PaO2/FIO2 ratio  PaO2/FIO2  \n",
       "19     PaO2/FIO2 ratio  PaO2/FIO2  \n",
       "20     PaO2/FIO2 ratio  PaO2/FIO2  \n",
       "21     PaO2/FIO2 ratio  PaO2/FIO2  \n",
       "22     PaO2/FIO2 ratio  PaO2/FIO2  \n",
       "23     PaO2/FIO2 ratio  PaO2/FIO2  \n",
       "24     PaO2/FIO2 ratio  PaO2/FIO2  \n",
       "25     PaO2/FIO2 ratio  PaO2/FIO2  \n",
       "26     PaO2/FIO2 ratio  PaO2/FIO2  \n",
       "27     PaO2/FIO2 ratio  PaO2/FIO2  \n",
       "28     PaO2/FIO2 ratio  PaO2/FIO2  \n",
       "29     PaO2/FIO2 ratio  PaO2/FIO2  \n",
       "...                ...        ...  \n",
       "14448  PaO2/FIO2 ratio  PaO2/FIO2  \n",
       "14449  PaO2/FIO2 ratio  PaO2/FIO2  \n",
       "14450  PaO2/FIO2 ratio  PaO2/FIO2  \n",
       "14451  PaO2/FIO2 ratio  PaO2/FIO2  \n",
       "14452  PaO2/FIO2 ratio  PaO2/FIO2  \n",
       "14453  PaO2/FIO2 ratio  PaO2/FIO2  \n",
       "14454  PaO2/FIO2 ratio  PaO2/FIO2  \n",
       "14455  PaO2/FIO2 ratio  PaO2/FIO2  \n",
       "14456  PaO2/FIO2 ratio  PaO2/FIO2  \n",
       "14457  PaO2/FIO2 ratio  PaO2/FIO2  \n",
       "14458  PaO2/FIO2 ratio  PaO2/FIO2  \n",
       "14459  PaO2/FIO2 ratio  PaO2/FIO2  \n",
       "14460  PaO2/FIO2 ratio  PaO2/FIO2  \n",
       "14461  PaO2/FIO2 ratio  PaO2/FIO2  \n",
       "14462  PaO2/FIO2 ratio  PaO2/FIO2  \n",
       "14463  PaO2/FIO2 ratio  PaO2/FIO2  \n",
       "14464  PaO2/FIO2 ratio  PaO2/FIO2  \n",
       "14465  PaO2/FIO2 ratio  PaO2/FIO2  \n",
       "14466  PaO2/FIO2 ratio  PaO2/FIO2  \n",
       "14467  PaO2/FIO2 ratio  PaO2/FIO2  \n",
       "14468  PaO2/FIO2 ratio  PaO2/FIO2  \n",
       "14469  PaO2/FIO2 ratio  PaO2/FIO2  \n",
       "14470  PaO2/FIO2 ratio  PaO2/FIO2  \n",
       "14471  PaO2/FIO2 ratio  PaO2/FIO2  \n",
       "14472  PaO2/FIO2 ratio  PaO2/FIO2  \n",
       "14473  PaO2/FIO2 ratio  PaO2/FIO2  \n",
       "14474  PaO2/FIO2 ratio  PaO2/FIO2  \n",
       "14475  PaO2/FIO2 ratio  PaO2/FIO2  \n",
       "14476  PaO2/FIO2 ratio  PaO2/FIO2  \n",
       "14477  PaO2/FIO2 ratio  PaO2/FIO2  \n",
       "\n",
       "[14478 rows x 7 columns]"
      ]
     },
     "execution_count": 45,
     "metadata": {},
     "output_type": "execute_result"
    },
    {
     "name": "stdout",
     "output_type": "stream",
     "text": [
      "time: 30.5 ms\n"
     ]
    }
   ],
   "source": [
    "ratio_min_df #100 PaO2 on 21% FiO2 = 476 ratio"
   ]
  },
  {
   "cell_type": "code",
   "execution_count": 49,
   "metadata": {},
   "outputs": [
    {
     "name": "stdout",
     "output_type": "stream",
     "text": [
      "time: 2.51 s\n"
     ]
    }
   ],
   "source": [
    "save_df(ratio_min_df,'pafaRatio') # minimum pao2:fio2 ratio during a stay\n",
    "del(ratio_min_df)\n",
    "\n",
    "save_df(dfs['bg_all_nosummary_72'],'bg_all') #all bloodgas\n",
    "del(dfs['bg_all_nosummary_72'])\n",
    "\n",
    "save_df(bg_ART_nosummary_72,'bg_ART') #only ARTERIAL bloodgas\n",
    "del(bg_ART_nosummary_72)\n",
    "\n",
    "save_df(o2_flow_df,'o2_flow') #need to investigate this more\n",
    "del(o2_flow_df)"
   ]
  },
  {
   "cell_type": "code",
   "execution_count": null,
   "metadata": {},
   "outputs": [],
   "source": []
  },
  {
   "cell_type": "code",
   "execution_count": null,
   "metadata": {},
   "outputs": [],
   "source": []
  },
  {
   "cell_type": "markdown",
   "metadata": {},
   "source": [
    "# RRT"
   ]
  },
  {
   "cell_type": "code",
   "execution_count": 99,
   "metadata": {},
   "outputs": [
    {
     "name": "stdout",
     "output_type": "stream",
     "text": [
      "time: 39.2 ms\n"
     ]
    }
   ],
   "source": [
    "#removing null values\n",
    "dfs['rrt_merged_allpt_df'] = dfs['rrt_merged_allpt_df'].loc[dfs['rrt_merged_allpt_df']['rrt'].notnull(),:]\n",
    "dfs['rrt_merged_allpt_df']['uom']='category'\n",
    "dfs['rrt_merged_allpt_df']['delta']=pd.to_timedelta(\n",
    "    pd.to_datetime(dfs['rrt_merged_allpt_df']['first_charttime'])-\n",
    "    pd.to_datetime(dfs['rrt_merged_allpt_df'][time_var]),\n",
    "    'days')\n",
    "dfs['rrt_merged_allpt_df']['label']= 'rrt'\n",
    "dfs['rrt_merged_allpt_df']=dfs['rrt_merged_allpt_df'].rename(index=str, columns={'rrt':'value'})"
   ]
  },
  {
   "cell_type": "markdown",
   "metadata": {},
   "source": [
    "### converting to yes/no"
   ]
  },
  {
   "cell_type": "code",
   "execution_count": 100,
   "metadata": {},
   "outputs": [
    {
     "data": {
      "text/html": [
       "<div>\n",
       "<style scoped>\n",
       "    .dataframe tbody tr th:only-of-type {\n",
       "        vertical-align: middle;\n",
       "    }\n",
       "\n",
       "    .dataframe tbody tr th {\n",
       "        vertical-align: top;\n",
       "    }\n",
       "\n",
       "    .dataframe thead th {\n",
       "        text-align: right;\n",
       "    }\n",
       "</style>\n",
       "<table border=\"1\" class=\"dataframe\">\n",
       "  <thead>\n",
       "    <tr style=\"text-align: right;\">\n",
       "      <th></th>\n",
       "      <th>icustay_id</th>\n",
       "      <th>t_0</th>\n",
       "      <th>first_charttime</th>\n",
       "      <th>value</th>\n",
       "      <th>uom</th>\n",
       "      <th>delta</th>\n",
       "      <th>label</th>\n",
       "    </tr>\n",
       "  </thead>\n",
       "  <tbody>\n",
       "    <tr>\n",
       "      <th>0</th>\n",
       "      <td>222957.0</td>\n",
       "      <td>2116-06-28</td>\n",
       "      <td>NaN</td>\n",
       "      <td>0.0</td>\n",
       "      <td>category</td>\n",
       "      <td>NaT</td>\n",
       "      <td>rrt</td>\n",
       "    </tr>\n",
       "    <tr>\n",
       "      <th>1</th>\n",
       "      <td>240363.0</td>\n",
       "      <td>2115-09-14</td>\n",
       "      <td>NaN</td>\n",
       "      <td>0.0</td>\n",
       "      <td>category</td>\n",
       "      <td>NaT</td>\n",
       "      <td>rrt</td>\n",
       "    </tr>\n",
       "    <tr>\n",
       "      <th>2</th>\n",
       "      <td>220265.0</td>\n",
       "      <td>2123-07-24</td>\n",
       "      <td>NaN</td>\n",
       "      <td>0.0</td>\n",
       "      <td>category</td>\n",
       "      <td>NaT</td>\n",
       "      <td>rrt</td>\n",
       "    </tr>\n",
       "    <tr>\n",
       "      <th>3</th>\n",
       "      <td>224362.0</td>\n",
       "      <td>2168-08-30</td>\n",
       "      <td>NaN</td>\n",
       "      <td>0.0</td>\n",
       "      <td>category</td>\n",
       "      <td>NaT</td>\n",
       "      <td>rrt</td>\n",
       "    </tr>\n",
       "    <tr>\n",
       "      <th>4</th>\n",
       "      <td>296728.0</td>\n",
       "      <td>2114-11-21</td>\n",
       "      <td>NaN</td>\n",
       "      <td>0.0</td>\n",
       "      <td>category</td>\n",
       "      <td>NaT</td>\n",
       "      <td>rrt</td>\n",
       "    </tr>\n",
       "  </tbody>\n",
       "</table>\n",
       "</div>"
      ],
      "text/plain": [
       "   icustay_id         t_0 first_charttime  value       uom delta label\n",
       "0    222957.0  2116-06-28             NaN    0.0  category   NaT   rrt\n",
       "1    240363.0  2115-09-14             NaN    0.0  category   NaT   rrt\n",
       "2    220265.0  2123-07-24             NaN    0.0  category   NaT   rrt\n",
       "3    224362.0  2168-08-30             NaN    0.0  category   NaT   rrt\n",
       "4    296728.0  2114-11-21             NaN    0.0  category   NaT   rrt"
      ]
     },
     "execution_count": 100,
     "metadata": {},
     "output_type": "execute_result"
    },
    {
     "name": "stdout",
     "output_type": "stream",
     "text": [
      "time: 17.2 ms\n"
     ]
    }
   ],
   "source": [
    "dfs['rrt_merged_allpt_df'].head()"
   ]
  },
  {
   "cell_type": "code",
   "execution_count": 101,
   "metadata": {},
   "outputs": [
    {
     "data": {
      "text/plain": [
       "14478"
      ]
     },
     "execution_count": 101,
     "metadata": {},
     "output_type": "execute_result"
    },
    {
     "name": "stdout",
     "output_type": "stream",
     "text": [
      "time: 27.1 ms\n"
     ]
    }
   ],
   "source": [
    "dfs['rrt_merged_allpt_df']['icustay_id'].nunique() #"
   ]
  },
  {
   "cell_type": "code",
   "execution_count": 102,
   "metadata": {},
   "outputs": [
    {
     "name": "stdout",
     "output_type": "stream",
     "text": [
      "time: 41.8 ms\n"
     ]
    }
   ],
   "source": [
    "rrt_yn= yn_convert(dfs['rrt_merged_allpt_df'],label_fill='rrt', time_var=time_var)"
   ]
  },
  {
   "cell_type": "code",
   "execution_count": 103,
   "metadata": {},
   "outputs": [
    {
     "name": "stdout",
     "output_type": "stream",
     "text": [
      "time: 321 ms\n"
     ]
    }
   ],
   "source": [
    "save_df(rrt_yn, 'rrt')\n",
    "del(rrt_yn, dfs['rrt_merged_allpt_df'])"
   ]
  },
  {
   "cell_type": "markdown",
   "metadata": {},
   "source": [
    "# GCS_72"
   ]
  },
  {
   "cell_type": "code",
   "execution_count": 104,
   "metadata": {},
   "outputs": [
    {
     "name": "stdout",
     "output_type": "stream",
     "text": [
      "time: 1.84 ms\n"
     ]
    }
   ],
   "source": [
    "dfs['gcs72_df']['uom']='GCS_score'"
   ]
  },
  {
   "cell_type": "code",
   "execution_count": 105,
   "metadata": {},
   "outputs": [
    {
     "data": {
      "text/plain": [
       "['subject_id',\n",
       " 'hadm_id',\n",
       " 'icustay_id',\n",
       " 'day',\n",
       " 'mingcs',\n",
       " 'gcsmotor',\n",
       " 'gcsverbal',\n",
       " 'gcseyes',\n",
       " 'endotrachflag',\n",
       " 'ICU_admit',\n",
       " 't_0',\n",
       " 'approx_charttime',\n",
       " 'admit_plus_day',\n",
       " 'delta',\n",
       " 'uom']"
      ]
     },
     "execution_count": 105,
     "metadata": {},
     "output_type": "execute_result"
    },
    {
     "name": "stdout",
     "output_type": "stream",
     "text": [
      "time: 3.29 ms\n"
     ]
    }
   ],
   "source": [
    "list(dfs['gcs72_df'])"
   ]
  },
  {
   "cell_type": "code",
   "execution_count": 106,
   "metadata": {},
   "outputs": [
    {
     "name": "stdout",
     "output_type": "stream",
     "text": [
      "time: 20.1 ms\n"
     ]
    }
   ],
   "source": [
    "dfs['gcs72_df']['label']= 'mingcs'\n",
    "dfs['gcs72_df']['uom']='gcs_score'\n",
    "dfs['gcs72_df']=dfs['gcs72_df'].rename(index=str, columns={'mingcs':'value'})"
   ]
  },
  {
   "cell_type": "code",
   "execution_count": 107,
   "metadata": {},
   "outputs": [
    {
     "name": "stdout",
     "output_type": "stream",
     "text": [
      "time: 3.74 ms\n"
     ]
    }
   ],
   "source": [
    "dfs['gcs72_df']=dfs['gcs72_df'][['subject_id','hadm_id','icustay_id','delta','label','value',time_var,'uom']]"
   ]
  },
  {
   "cell_type": "code",
   "execution_count": 108,
   "metadata": {},
   "outputs": [
    {
     "name": "stdout",
     "output_type": "stream",
     "text": [
      "time: 73 ms\n"
     ]
    }
   ],
   "source": [
    "save_df(dfs['gcs72_df'], 'gcs')\n",
    "del(dfs['gcs72_df'])"
   ]
  },
  {
   "cell_type": "markdown",
   "metadata": {},
   "source": [
    "# SOFA_72\n",
    "i'm going to remove all sofa variables except daily score, as we have other markers for those in our above data\n",
    "i may later use this as qc check.\n",
    "also added delta"
   ]
  },
  {
   "cell_type": "code",
   "execution_count": 109,
   "metadata": {},
   "outputs": [
    {
     "name": "stdout",
     "output_type": "stream",
     "text": [
      "time: 203 ms\n"
     ]
    }
   ],
   "source": [
    "dfs['sofa_df_72']['uom']='daily_sofa_score'\n",
    "\n",
    "#adding day delta column\n",
    "dfs['sofa_df_72']=dfs['sofa_df_72'].sort_values(['hadm_id','day',time_var]) #good\n",
    "dfs['sofa_df_72']['day_rank']=dfs['sofa_df_72'].groupby('icustay_id')['day'].rank()\n",
    "dfs['sofa_df_72']['delta']=pd.to_timedelta((dfs['sofa_df_72']['day_rank']-1), 'days')"
   ]
  },
  {
   "cell_type": "code",
   "execution_count": 110,
   "metadata": {},
   "outputs": [
    {
     "name": "stdout",
     "output_type": "stream",
     "text": [
      "time: 76.2 ms\n"
     ]
    }
   ],
   "source": [
    "dfs['sofa_df_72']['label']= 'daily_sofa'\n",
    "dfs['sofa_df_72']=dfs['sofa_df_72'].rename(index=str, columns={'sofa':'value'})"
   ]
  },
  {
   "cell_type": "code",
   "execution_count": 111,
   "metadata": {},
   "outputs": [
    {
     "name": "stdout",
     "output_type": "stream",
     "text": [
      "time: 24.5 ms\n"
     ]
    }
   ],
   "source": [
    "dfs['sofa_df_72']= dfs['sofa_df_72'][['subject_id','hadm_id','icustay_id','delta','label','value',time_var,'uom']]"
   ]
  },
  {
   "cell_type": "code",
   "execution_count": 112,
   "metadata": {},
   "outputs": [
    {
     "data": {
      "text/html": [
       "<div>\n",
       "<style scoped>\n",
       "    .dataframe tbody tr th:only-of-type {\n",
       "        vertical-align: middle;\n",
       "    }\n",
       "\n",
       "    .dataframe tbody tr th {\n",
       "        vertical-align: top;\n",
       "    }\n",
       "\n",
       "    .dataframe thead th {\n",
       "        text-align: right;\n",
       "    }\n",
       "</style>\n",
       "<table border=\"1\" class=\"dataframe\">\n",
       "  <thead>\n",
       "    <tr style=\"text-align: right;\">\n",
       "      <th></th>\n",
       "      <th>subject_id</th>\n",
       "      <th>hadm_id</th>\n",
       "      <th>icustay_id</th>\n",
       "      <th>delta</th>\n",
       "      <th>label</th>\n",
       "      <th>value</th>\n",
       "      <th>t_0</th>\n",
       "      <th>uom</th>\n",
       "    </tr>\n",
       "  </thead>\n",
       "  <tbody>\n",
       "    <tr>\n",
       "      <th>57823</th>\n",
       "      <td>54610</td>\n",
       "      <td>100003</td>\n",
       "      <td>209281</td>\n",
       "      <td>0 days</td>\n",
       "      <td>daily_sofa</td>\n",
       "      <td>4</td>\n",
       "      <td>2150-04-18</td>\n",
       "      <td>daily_sofa_score</td>\n",
       "    </tr>\n",
       "    <tr>\n",
       "      <th>32233</th>\n",
       "      <td>23018</td>\n",
       "      <td>100007</td>\n",
       "      <td>217937</td>\n",
       "      <td>0 days</td>\n",
       "      <td>daily_sofa</td>\n",
       "      <td>1</td>\n",
       "      <td>2145-03-31</td>\n",
       "      <td>daily_sofa_score</td>\n",
       "    </tr>\n",
       "    <tr>\n",
       "      <th>32234</th>\n",
       "      <td>23018</td>\n",
       "      <td>100007</td>\n",
       "      <td>217937</td>\n",
       "      <td>1 days</td>\n",
       "      <td>daily_sofa</td>\n",
       "      <td>4</td>\n",
       "      <td>2145-03-31</td>\n",
       "      <td>daily_sofa_score</td>\n",
       "    </tr>\n",
       "    <tr>\n",
       "      <th>32235</th>\n",
       "      <td>23018</td>\n",
       "      <td>100007</td>\n",
       "      <td>217937</td>\n",
       "      <td>2 days</td>\n",
       "      <td>daily_sofa</td>\n",
       "      <td>0</td>\n",
       "      <td>2145-03-31</td>\n",
       "      <td>daily_sofa_score</td>\n",
       "    </tr>\n",
       "    <tr>\n",
       "      <th>32236</th>\n",
       "      <td>23018</td>\n",
       "      <td>100007</td>\n",
       "      <td>217937</td>\n",
       "      <td>3 days</td>\n",
       "      <td>daily_sofa</td>\n",
       "      <td>3</td>\n",
       "      <td>2145-03-31</td>\n",
       "      <td>daily_sofa_score</td>\n",
       "    </tr>\n",
       "  </tbody>\n",
       "</table>\n",
       "</div>"
      ],
      "text/plain": [
       "       subject_id  hadm_id  icustay_id  delta       label  value         t_0  \\\n",
       "57823       54610   100003      209281 0 days  daily_sofa      4  2150-04-18   \n",
       "32233       23018   100007      217937 0 days  daily_sofa      1  2145-03-31   \n",
       "32234       23018   100007      217937 1 days  daily_sofa      4  2145-03-31   \n",
       "32235       23018   100007      217937 2 days  daily_sofa      0  2145-03-31   \n",
       "32236       23018   100007      217937 3 days  daily_sofa      3  2145-03-31   \n",
       "\n",
       "                    uom  \n",
       "57823  daily_sofa_score  \n",
       "32233  daily_sofa_score  \n",
       "32234  daily_sofa_score  \n",
       "32235  daily_sofa_score  \n",
       "32236  daily_sofa_score  "
      ]
     },
     "execution_count": 112,
     "metadata": {},
     "output_type": "execute_result"
    },
    {
     "name": "stdout",
     "output_type": "stream",
     "text": [
      "time: 37.8 ms\n"
     ]
    }
   ],
   "source": [
    "dfs['sofa_df_72'].head()"
   ]
  },
  {
   "cell_type": "code",
   "execution_count": 113,
   "metadata": {},
   "outputs": [
    {
     "name": "stdout",
     "output_type": "stream",
     "text": [
      "time: 889 ms\n"
     ]
    }
   ],
   "source": [
    "save_df(dfs['sofa_df_72'], 'sofa')\n",
    "del(dfs['sofa_df_72'])"
   ]
  },
  {
   "cell_type": "code",
   "execution_count": null,
   "metadata": {},
   "outputs": [],
   "source": []
  },
  {
   "cell_type": "markdown",
   "metadata": {},
   "source": [
    "# patient Demographic variables"
   ]
  },
  {
   "cell_type": "markdown",
   "metadata": {},
   "source": [
    "#completed in 03.01 clinical_variable"
   ]
  },
  {
   "cell_type": "code",
   "execution_count": 114,
   "metadata": {},
   "outputs": [
    {
     "data": {
      "text/html": [
       "<div>\n",
       "<style scoped>\n",
       "    .dataframe tbody tr th:only-of-type {\n",
       "        vertical-align: middle;\n",
       "    }\n",
       "\n",
       "    .dataframe tbody tr th {\n",
       "        vertical-align: top;\n",
       "    }\n",
       "\n",
       "    .dataframe thead th {\n",
       "        text-align: right;\n",
       "    }\n",
       "</style>\n",
       "<table border=\"1\" class=\"dataframe\">\n",
       "  <thead>\n",
       "    <tr style=\"text-align: right;\">\n",
       "      <th></th>\n",
       "      <th>icustay_id</th>\n",
       "      <th>subject_id</th>\n",
       "      <th>t_0</th>\n",
       "      <th>label</th>\n",
       "      <th>value</th>\n",
       "      <th>delta</th>\n",
       "      <th>uom</th>\n",
       "    </tr>\n",
       "  </thead>\n",
       "  <tbody>\n",
       "    <tr>\n",
       "      <th>0</th>\n",
       "      <td>220597.0</td>\n",
       "      <td>9</td>\n",
       "      <td>2149-11-13</td>\n",
       "      <td>first_admit_age</td>\n",
       "      <td>41.79</td>\n",
       "      <td>0 days 00:00:00.000000000</td>\n",
       "      <td>years</td>\n",
       "    </tr>\n",
       "    <tr>\n",
       "      <th>1</th>\n",
       "      <td>273430.0</td>\n",
       "      <td>19</td>\n",
       "      <td>2108-08-06</td>\n",
       "      <td>first_admit_age</td>\n",
       "      <td>300.0</td>\n",
       "      <td>0 days 00:00:00.000000000</td>\n",
       "      <td>years</td>\n",
       "    </tr>\n",
       "    <tr>\n",
       "      <th>2</th>\n",
       "      <td>203487.0</td>\n",
       "      <td>25</td>\n",
       "      <td>2160-11-02</td>\n",
       "      <td>first_admit_age</td>\n",
       "      <td>58.95</td>\n",
       "      <td>0 days 00:00:00.000000000</td>\n",
       "      <td>years</td>\n",
       "    </tr>\n",
       "    <tr>\n",
       "      <th>3</th>\n",
       "      <td>244882.0</td>\n",
       "      <td>26</td>\n",
       "      <td>2126-05-10</td>\n",
       "      <td>first_admit_age</td>\n",
       "      <td>72.0</td>\n",
       "      <td>0 days 00:00:00.000000000</td>\n",
       "      <td>years</td>\n",
       "    </tr>\n",
       "    <tr>\n",
       "      <th>4</th>\n",
       "      <td>296681.0</td>\n",
       "      <td>33</td>\n",
       "      <td>2116-12-24</td>\n",
       "      <td>first_admit_age</td>\n",
       "      <td>82.39</td>\n",
       "      <td>0 days 00:00:00.000000000</td>\n",
       "      <td>years</td>\n",
       "    </tr>\n",
       "    <tr>\n",
       "      <th>5</th>\n",
       "      <td>252348.0</td>\n",
       "      <td>61</td>\n",
       "      <td>2118-07-13</td>\n",
       "      <td>first_admit_age</td>\n",
       "      <td>54.65</td>\n",
       "      <td>0 days 00:00:00.000000000</td>\n",
       "      <td>years</td>\n",
       "    </tr>\n",
       "    <tr>\n",
       "      <th>6</th>\n",
       "      <td>216609.0</td>\n",
       "      <td>62</td>\n",
       "      <td>2113-02-18</td>\n",
       "      <td>first_admit_age</td>\n",
       "      <td>68.77</td>\n",
       "      <td>0 days 00:00:00.000000000</td>\n",
       "      <td>years</td>\n",
       "    </tr>\n",
       "    <tr>\n",
       "      <th>7</th>\n",
       "      <td>272667.0</td>\n",
       "      <td>68</td>\n",
       "      <td>2174-01-12</td>\n",
       "      <td>first_admit_age</td>\n",
       "      <td>41.79</td>\n",
       "      <td>0 days 00:00:00.000000000</td>\n",
       "      <td>years</td>\n",
       "    </tr>\n",
       "    <tr>\n",
       "      <th>8</th>\n",
       "      <td>284305.0</td>\n",
       "      <td>73</td>\n",
       "      <td>2170-12-23</td>\n",
       "      <td>first_admit_age</td>\n",
       "      <td>57.59</td>\n",
       "      <td>0 days 00:00:00.000000000</td>\n",
       "      <td>years</td>\n",
       "    </tr>\n",
       "    <tr>\n",
       "      <th>9</th>\n",
       "      <td>256068.0</td>\n",
       "      <td>80</td>\n",
       "      <td>2148-11-12</td>\n",
       "      <td>first_admit_age</td>\n",
       "      <td>43.91</td>\n",
       "      <td>0 days 00:00:00.000000000</td>\n",
       "      <td>years</td>\n",
       "    </tr>\n",
       "    <tr>\n",
       "      <th>10</th>\n",
       "      <td>229012.0</td>\n",
       "      <td>94</td>\n",
       "      <td>2176-02-26</td>\n",
       "      <td>first_admit_age</td>\n",
       "      <td>74.43</td>\n",
       "      <td>0 days 00:00:00.000000000</td>\n",
       "      <td>years</td>\n",
       "    </tr>\n",
       "    <tr>\n",
       "      <th>11</th>\n",
       "      <td>294980.0</td>\n",
       "      <td>105</td>\n",
       "      <td>2189-01-29</td>\n",
       "      <td>first_admit_age</td>\n",
       "      <td>35.34</td>\n",
       "      <td>0 days 00:00:00.000000000</td>\n",
       "      <td>years</td>\n",
       "    </tr>\n",
       "    <tr>\n",
       "      <th>12</th>\n",
       "      <td>272890.0</td>\n",
       "      <td>105</td>\n",
       "      <td>2189-02-21</td>\n",
       "      <td>first_admit_age</td>\n",
       "      <td>35.34</td>\n",
       "      <td>0 days 00:00:00.000000000</td>\n",
       "      <td>years</td>\n",
       "    </tr>\n",
       "    <tr>\n",
       "      <th>13</th>\n",
       "      <td>253139.0</td>\n",
       "      <td>109</td>\n",
       "      <td>2141-06-13</td>\n",
       "      <td>first_admit_age</td>\n",
       "      <td>20.24</td>\n",
       "      <td>0 days 00:00:00.000000000</td>\n",
       "      <td>years</td>\n",
       "    </tr>\n",
       "    <tr>\n",
       "      <th>14</th>\n",
       "      <td>257358.0</td>\n",
       "      <td>109</td>\n",
       "      <td>2141-09-11</td>\n",
       "      <td>first_admit_age</td>\n",
       "      <td>20.24</td>\n",
       "      <td>0 days 00:00:00.000000000</td>\n",
       "      <td>years</td>\n",
       "    </tr>\n",
       "    <tr>\n",
       "      <th>15</th>\n",
       "      <td>262652.0</td>\n",
       "      <td>109</td>\n",
       "      <td>2141-09-21</td>\n",
       "      <td>first_admit_age</td>\n",
       "      <td>20.24</td>\n",
       "      <td>0 days 00:00:00.000000000</td>\n",
       "      <td>years</td>\n",
       "    </tr>\n",
       "    <tr>\n",
       "      <th>16</th>\n",
       "      <td>257134.0</td>\n",
       "      <td>109</td>\n",
       "      <td>2141-11-19</td>\n",
       "      <td>first_admit_age</td>\n",
       "      <td>20.24</td>\n",
       "      <td>0 days 00:00:00.000000000</td>\n",
       "      <td>years</td>\n",
       "    </tr>\n",
       "    <tr>\n",
       "      <th>17</th>\n",
       "      <td>256504.0</td>\n",
       "      <td>109</td>\n",
       "      <td>2142-01-21</td>\n",
       "      <td>first_admit_age</td>\n",
       "      <td>20.24</td>\n",
       "      <td>0 days 00:00:00.000000000</td>\n",
       "      <td>years</td>\n",
       "    </tr>\n",
       "    <tr>\n",
       "      <th>18</th>\n",
       "      <td>232807.0</td>\n",
       "      <td>109</td>\n",
       "      <td>2142-06-03</td>\n",
       "      <td>first_admit_age</td>\n",
       "      <td>20.24</td>\n",
       "      <td>0 days 00:00:00.000000000</td>\n",
       "      <td>years</td>\n",
       "    </tr>\n",
       "    <tr>\n",
       "      <th>20</th>\n",
       "      <td>251972.0</td>\n",
       "      <td>112</td>\n",
       "      <td>2196-09-28</td>\n",
       "      <td>first_admit_age</td>\n",
       "      <td>300.0</td>\n",
       "      <td>0 days 00:00:00.000000000</td>\n",
       "      <td>years</td>\n",
       "    </tr>\n",
       "    <tr>\n",
       "      <th>21</th>\n",
       "      <td>224661.0</td>\n",
       "      <td>113</td>\n",
       "      <td>2140-12-13</td>\n",
       "      <td>first_admit_age</td>\n",
       "      <td>35.84</td>\n",
       "      <td>0 days 00:00:00.000000000</td>\n",
       "      <td>years</td>\n",
       "    </tr>\n",
       "    <tr>\n",
       "      <th>22</th>\n",
       "      <td>211700.0</td>\n",
       "      <td>117</td>\n",
       "      <td>2133-04-09</td>\n",
       "      <td>first_admit_age</td>\n",
       "      <td>49.27</td>\n",
       "      <td>0 days 00:00:00.000000000</td>\n",
       "      <td>years</td>\n",
       "    </tr>\n",
       "    <tr>\n",
       "      <th>23</th>\n",
       "      <td>238431.0</td>\n",
       "      <td>129</td>\n",
       "      <td>2157-03-27</td>\n",
       "      <td>first_admit_age</td>\n",
       "      <td>36.54</td>\n",
       "      <td>0 days 00:00:00.000000000</td>\n",
       "      <td>years</td>\n",
       "    </tr>\n",
       "    <tr>\n",
       "      <th>24</th>\n",
       "      <td>296584.0</td>\n",
       "      <td>130</td>\n",
       "      <td>2119-11-15</td>\n",
       "      <td>first_admit_age</td>\n",
       "      <td>61.4</td>\n",
       "      <td>0 days 00:00:00.000000000</td>\n",
       "      <td>years</td>\n",
       "    </tr>\n",
       "    <tr>\n",
       "      <th>25</th>\n",
       "      <td>234668.0</td>\n",
       "      <td>141</td>\n",
       "      <td>2140-11-06</td>\n",
       "      <td>first_admit_age</td>\n",
       "      <td>80.51</td>\n",
       "      <td>0 days 00:00:00.000000000</td>\n",
       "      <td>years</td>\n",
       "    </tr>\n",
       "    <tr>\n",
       "      <th>26</th>\n",
       "      <td>264885.0</td>\n",
       "      <td>157</td>\n",
       "      <td>2106-06-18</td>\n",
       "      <td>first_admit_age</td>\n",
       "      <td>80.45</td>\n",
       "      <td>0 days 00:00:00.000000000</td>\n",
       "      <td>years</td>\n",
       "    </tr>\n",
       "    <tr>\n",
       "      <th>27</th>\n",
       "      <td>247247.0</td>\n",
       "      <td>165</td>\n",
       "      <td>2170-10-04</td>\n",
       "      <td>first_admit_age</td>\n",
       "      <td>86.48</td>\n",
       "      <td>0 days 00:00:00.000000000</td>\n",
       "      <td>years</td>\n",
       "    </tr>\n",
       "    <tr>\n",
       "      <th>28</th>\n",
       "      <td>271863.0</td>\n",
       "      <td>166</td>\n",
       "      <td>2105-01-24</td>\n",
       "      <td>first_admit_age</td>\n",
       "      <td>300.0</td>\n",
       "      <td>0 days 00:00:00.000000000</td>\n",
       "      <td>years</td>\n",
       "    </tr>\n",
       "    <tr>\n",
       "      <th>29</th>\n",
       "      <td>252789.0</td>\n",
       "      <td>175</td>\n",
       "      <td>2184-01-25</td>\n",
       "      <td>first_admit_age</td>\n",
       "      <td>300.0</td>\n",
       "      <td>0 days 00:00:00.000000000</td>\n",
       "      <td>years</td>\n",
       "    </tr>\n",
       "    <tr>\n",
       "      <th>30</th>\n",
       "      <td>290079.0</td>\n",
       "      <td>186</td>\n",
       "      <td>2176-09-28</td>\n",
       "      <td>first_admit_age</td>\n",
       "      <td>75.81</td>\n",
       "      <td>0 days 00:00:00.000000000</td>\n",
       "      <td>years</td>\n",
       "    </tr>\n",
       "    <tr>\n",
       "      <th>...</th>\n",
       "      <td>...</td>\n",
       "      <td>...</td>\n",
       "      <td>...</td>\n",
       "      <td>...</td>\n",
       "      <td>...</td>\n",
       "      <td>...</td>\n",
       "      <td>...</td>\n",
       "    </tr>\n",
       "    <tr>\n",
       "      <th>43973</th>\n",
       "      <td>279308.0</td>\n",
       "      <td>99708</td>\n",
       "      <td>2133-06-26</td>\n",
       "      <td>gender</td>\n",
       "      <td>M</td>\n",
       "      <td>0 days 00:00:00.000000000</td>\n",
       "      <td>NaN</td>\n",
       "    </tr>\n",
       "    <tr>\n",
       "      <th>43975</th>\n",
       "      <td>206547.0</td>\n",
       "      <td>99714</td>\n",
       "      <td>2125-06-10</td>\n",
       "      <td>gender</td>\n",
       "      <td>M</td>\n",
       "      <td>0 days 00:00:00.000000000</td>\n",
       "      <td>NaN</td>\n",
       "    </tr>\n",
       "    <tr>\n",
       "      <th>43976</th>\n",
       "      <td>252641.0</td>\n",
       "      <td>99747</td>\n",
       "      <td>2103-11-24</td>\n",
       "      <td>gender</td>\n",
       "      <td>F</td>\n",
       "      <td>0 days 00:00:00.000000000</td>\n",
       "      <td>NaN</td>\n",
       "    </tr>\n",
       "    <tr>\n",
       "      <th>43977</th>\n",
       "      <td>295834.0</td>\n",
       "      <td>99756</td>\n",
       "      <td>2191-12-23</td>\n",
       "      <td>gender</td>\n",
       "      <td>M</td>\n",
       "      <td>0 days 00:00:00.000000000</td>\n",
       "      <td>NaN</td>\n",
       "    </tr>\n",
       "    <tr>\n",
       "      <th>43978</th>\n",
       "      <td>276070.0</td>\n",
       "      <td>99768</td>\n",
       "      <td>2122-02-21</td>\n",
       "      <td>gender</td>\n",
       "      <td>M</td>\n",
       "      <td>0 days 00:00:00.000000000</td>\n",
       "      <td>NaN</td>\n",
       "    </tr>\n",
       "    <tr>\n",
       "      <th>43979</th>\n",
       "      <td>262109.0</td>\n",
       "      <td>99776</td>\n",
       "      <td>2171-07-08</td>\n",
       "      <td>gender</td>\n",
       "      <td>M</td>\n",
       "      <td>0 days 00:00:00.000000000</td>\n",
       "      <td>NaN</td>\n",
       "    </tr>\n",
       "    <tr>\n",
       "      <th>43980</th>\n",
       "      <td>200664.0</td>\n",
       "      <td>99781</td>\n",
       "      <td>2133-08-02</td>\n",
       "      <td>gender</td>\n",
       "      <td>M</td>\n",
       "      <td>0 days 00:00:00.000000000</td>\n",
       "      <td>NaN</td>\n",
       "    </tr>\n",
       "    <tr>\n",
       "      <th>43981</th>\n",
       "      <td>267661.0</td>\n",
       "      <td>99785</td>\n",
       "      <td>2122-10-11</td>\n",
       "      <td>gender</td>\n",
       "      <td>F</td>\n",
       "      <td>0 days 00:00:00.000000000</td>\n",
       "      <td>NaN</td>\n",
       "    </tr>\n",
       "    <tr>\n",
       "      <th>43982</th>\n",
       "      <td>297406.0</td>\n",
       "      <td>99817</td>\n",
       "      <td>2166-10-15</td>\n",
       "      <td>gender</td>\n",
       "      <td>M</td>\n",
       "      <td>0 days 00:00:00.000000000</td>\n",
       "      <td>NaN</td>\n",
       "    </tr>\n",
       "    <tr>\n",
       "      <th>43983</th>\n",
       "      <td>214366.0</td>\n",
       "      <td>99819</td>\n",
       "      <td>2136-03-28</td>\n",
       "      <td>gender</td>\n",
       "      <td>M</td>\n",
       "      <td>0 days 00:00:00.000000000</td>\n",
       "      <td>NaN</td>\n",
       "    </tr>\n",
       "    <tr>\n",
       "      <th>43984</th>\n",
       "      <td>220334.0</td>\n",
       "      <td>99822</td>\n",
       "      <td>2197-06-16</td>\n",
       "      <td>gender</td>\n",
       "      <td>M</td>\n",
       "      <td>0 days 00:00:00.000000000</td>\n",
       "      <td>NaN</td>\n",
       "    </tr>\n",
       "    <tr>\n",
       "      <th>43985</th>\n",
       "      <td>211489.0</td>\n",
       "      <td>99830</td>\n",
       "      <td>2187-08-23</td>\n",
       "      <td>gender</td>\n",
       "      <td>M</td>\n",
       "      <td>0 days 00:00:00.000000000</td>\n",
       "      <td>NaN</td>\n",
       "    </tr>\n",
       "    <tr>\n",
       "      <th>43986</th>\n",
       "      <td>253877.0</td>\n",
       "      <td>99837</td>\n",
       "      <td>2184-04-05</td>\n",
       "      <td>gender</td>\n",
       "      <td>M</td>\n",
       "      <td>0 days 00:00:00.000000000</td>\n",
       "      <td>NaN</td>\n",
       "    </tr>\n",
       "    <tr>\n",
       "      <th>43987</th>\n",
       "      <td>219261.0</td>\n",
       "      <td>99847</td>\n",
       "      <td>2191-04-13</td>\n",
       "      <td>gender</td>\n",
       "      <td>F</td>\n",
       "      <td>0 days 00:00:00.000000000</td>\n",
       "      <td>NaN</td>\n",
       "    </tr>\n",
       "    <tr>\n",
       "      <th>43988</th>\n",
       "      <td>253685.0</td>\n",
       "      <td>99862</td>\n",
       "      <td>2171-04-03</td>\n",
       "      <td>gender</td>\n",
       "      <td>F</td>\n",
       "      <td>0 days 00:00:00.000000000</td>\n",
       "      <td>NaN</td>\n",
       "    </tr>\n",
       "    <tr>\n",
       "      <th>43989</th>\n",
       "      <td>216757.0</td>\n",
       "      <td>99863</td>\n",
       "      <td>2142-04-04</td>\n",
       "      <td>gender</td>\n",
       "      <td>M</td>\n",
       "      <td>0 days 00:00:00.000000000</td>\n",
       "      <td>NaN</td>\n",
       "    </tr>\n",
       "    <tr>\n",
       "      <th>43990</th>\n",
       "      <td>206270.0</td>\n",
       "      <td>99873</td>\n",
       "      <td>2103-12-20</td>\n",
       "      <td>gender</td>\n",
       "      <td>M</td>\n",
       "      <td>0 days 00:00:00.000000000</td>\n",
       "      <td>NaN</td>\n",
       "    </tr>\n",
       "    <tr>\n",
       "      <th>43991</th>\n",
       "      <td>214377.0</td>\n",
       "      <td>99881</td>\n",
       "      <td>2174-01-21</td>\n",
       "      <td>gender</td>\n",
       "      <td>M</td>\n",
       "      <td>0 days 00:00:00.000000000</td>\n",
       "      <td>NaN</td>\n",
       "    </tr>\n",
       "    <tr>\n",
       "      <th>43992</th>\n",
       "      <td>293088.0</td>\n",
       "      <td>99883</td>\n",
       "      <td>2132-09-16</td>\n",
       "      <td>gender</td>\n",
       "      <td>M</td>\n",
       "      <td>0 days 00:00:00.000000000</td>\n",
       "      <td>NaN</td>\n",
       "    </tr>\n",
       "    <tr>\n",
       "      <th>43993</th>\n",
       "      <td>204236.0</td>\n",
       "      <td>99894</td>\n",
       "      <td>2129-07-05</td>\n",
       "      <td>gender</td>\n",
       "      <td>F</td>\n",
       "      <td>0 days 00:00:00.000000000</td>\n",
       "      <td>NaN</td>\n",
       "    </tr>\n",
       "    <tr>\n",
       "      <th>43994</th>\n",
       "      <td>236183.0</td>\n",
       "      <td>99912</td>\n",
       "      <td>2153-04-14</td>\n",
       "      <td>gender</td>\n",
       "      <td>M</td>\n",
       "      <td>0 days 00:00:00.000000000</td>\n",
       "      <td>NaN</td>\n",
       "    </tr>\n",
       "    <tr>\n",
       "      <th>43995</th>\n",
       "      <td>292375.0</td>\n",
       "      <td>99913</td>\n",
       "      <td>2141-05-12</td>\n",
       "      <td>gender</td>\n",
       "      <td>M</td>\n",
       "      <td>0 days 00:00:00.000000000</td>\n",
       "      <td>NaN</td>\n",
       "    </tr>\n",
       "    <tr>\n",
       "      <th>43996</th>\n",
       "      <td>202505.0</td>\n",
       "      <td>99923</td>\n",
       "      <td>2201-02-24</td>\n",
       "      <td>gender</td>\n",
       "      <td>M</td>\n",
       "      <td>0 days 00:00:00.000000000</td>\n",
       "      <td>NaN</td>\n",
       "    </tr>\n",
       "    <tr>\n",
       "      <th>43997</th>\n",
       "      <td>298857.0</td>\n",
       "      <td>99923</td>\n",
       "      <td>2201-05-16</td>\n",
       "      <td>gender</td>\n",
       "      <td>M</td>\n",
       "      <td>0 days 00:00:00.000000000</td>\n",
       "      <td>NaN</td>\n",
       "    </tr>\n",
       "    <tr>\n",
       "      <th>43998</th>\n",
       "      <td>291007.0</td>\n",
       "      <td>99934</td>\n",
       "      <td>2110-02-28</td>\n",
       "      <td>gender</td>\n",
       "      <td>M</td>\n",
       "      <td>0 days 00:00:00.000000000</td>\n",
       "      <td>NaN</td>\n",
       "    </tr>\n",
       "    <tr>\n",
       "      <th>43999</th>\n",
       "      <td>243255.0</td>\n",
       "      <td>99955</td>\n",
       "      <td>2139-07-15</td>\n",
       "      <td>gender</td>\n",
       "      <td>M</td>\n",
       "      <td>0 days 00:00:00.000000000</td>\n",
       "      <td>NaN</td>\n",
       "    </tr>\n",
       "    <tr>\n",
       "      <th>44000</th>\n",
       "      <td>257127.0</td>\n",
       "      <td>99957</td>\n",
       "      <td>2157-02-21</td>\n",
       "      <td>gender</td>\n",
       "      <td>M</td>\n",
       "      <td>0 days 00:00:00.000000000</td>\n",
       "      <td>NaN</td>\n",
       "    </tr>\n",
       "    <tr>\n",
       "      <th>44001</th>\n",
       "      <td>252173.0</td>\n",
       "      <td>99966</td>\n",
       "      <td>2191-08-24</td>\n",
       "      <td>gender</td>\n",
       "      <td>M</td>\n",
       "      <td>0 days 00:00:00.000000000</td>\n",
       "      <td>NaN</td>\n",
       "    </tr>\n",
       "    <tr>\n",
       "      <th>44002</th>\n",
       "      <td>275083.0</td>\n",
       "      <td>99973</td>\n",
       "      <td>2180-11-29</td>\n",
       "      <td>gender</td>\n",
       "      <td>F</td>\n",
       "      <td>0 days 00:00:00.000000000</td>\n",
       "      <td>NaN</td>\n",
       "    </tr>\n",
       "    <tr>\n",
       "      <th>44003</th>\n",
       "      <td>229633.0</td>\n",
       "      <td>99995</td>\n",
       "      <td>2147-02-09</td>\n",
       "      <td>gender</td>\n",
       "      <td>F</td>\n",
       "      <td>0 days 00:00:00.000000000</td>\n",
       "      <td>NaN</td>\n",
       "    </tr>\n",
       "  </tbody>\n",
       "</table>\n",
       "<p>43434 rows × 7 columns</p>\n",
       "</div>"
      ],
      "text/plain": [
       "       icustay_id  subject_id         t_0            label  value  \\\n",
       "0        220597.0           9  2149-11-13  first_admit_age  41.79   \n",
       "1        273430.0          19  2108-08-06  first_admit_age  300.0   \n",
       "2        203487.0          25  2160-11-02  first_admit_age  58.95   \n",
       "3        244882.0          26  2126-05-10  first_admit_age   72.0   \n",
       "4        296681.0          33  2116-12-24  first_admit_age  82.39   \n",
       "5        252348.0          61  2118-07-13  first_admit_age  54.65   \n",
       "6        216609.0          62  2113-02-18  first_admit_age  68.77   \n",
       "7        272667.0          68  2174-01-12  first_admit_age  41.79   \n",
       "8        284305.0          73  2170-12-23  first_admit_age  57.59   \n",
       "9        256068.0          80  2148-11-12  first_admit_age  43.91   \n",
       "10       229012.0          94  2176-02-26  first_admit_age  74.43   \n",
       "11       294980.0         105  2189-01-29  first_admit_age  35.34   \n",
       "12       272890.0         105  2189-02-21  first_admit_age  35.34   \n",
       "13       253139.0         109  2141-06-13  first_admit_age  20.24   \n",
       "14       257358.0         109  2141-09-11  first_admit_age  20.24   \n",
       "15       262652.0         109  2141-09-21  first_admit_age  20.24   \n",
       "16       257134.0         109  2141-11-19  first_admit_age  20.24   \n",
       "17       256504.0         109  2142-01-21  first_admit_age  20.24   \n",
       "18       232807.0         109  2142-06-03  first_admit_age  20.24   \n",
       "20       251972.0         112  2196-09-28  first_admit_age  300.0   \n",
       "21       224661.0         113  2140-12-13  first_admit_age  35.84   \n",
       "22       211700.0         117  2133-04-09  first_admit_age  49.27   \n",
       "23       238431.0         129  2157-03-27  first_admit_age  36.54   \n",
       "24       296584.0         130  2119-11-15  first_admit_age   61.4   \n",
       "25       234668.0         141  2140-11-06  first_admit_age  80.51   \n",
       "26       264885.0         157  2106-06-18  first_admit_age  80.45   \n",
       "27       247247.0         165  2170-10-04  first_admit_age  86.48   \n",
       "28       271863.0         166  2105-01-24  first_admit_age  300.0   \n",
       "29       252789.0         175  2184-01-25  first_admit_age  300.0   \n",
       "30       290079.0         186  2176-09-28  first_admit_age  75.81   \n",
       "...           ...         ...         ...              ...    ...   \n",
       "43973    279308.0       99708  2133-06-26           gender      M   \n",
       "43975    206547.0       99714  2125-06-10           gender      M   \n",
       "43976    252641.0       99747  2103-11-24           gender      F   \n",
       "43977    295834.0       99756  2191-12-23           gender      M   \n",
       "43978    276070.0       99768  2122-02-21           gender      M   \n",
       "43979    262109.0       99776  2171-07-08           gender      M   \n",
       "43980    200664.0       99781  2133-08-02           gender      M   \n",
       "43981    267661.0       99785  2122-10-11           gender      F   \n",
       "43982    297406.0       99817  2166-10-15           gender      M   \n",
       "43983    214366.0       99819  2136-03-28           gender      M   \n",
       "43984    220334.0       99822  2197-06-16           gender      M   \n",
       "43985    211489.0       99830  2187-08-23           gender      M   \n",
       "43986    253877.0       99837  2184-04-05           gender      M   \n",
       "43987    219261.0       99847  2191-04-13           gender      F   \n",
       "43988    253685.0       99862  2171-04-03           gender      F   \n",
       "43989    216757.0       99863  2142-04-04           gender      M   \n",
       "43990    206270.0       99873  2103-12-20           gender      M   \n",
       "43991    214377.0       99881  2174-01-21           gender      M   \n",
       "43992    293088.0       99883  2132-09-16           gender      M   \n",
       "43993    204236.0       99894  2129-07-05           gender      F   \n",
       "43994    236183.0       99912  2153-04-14           gender      M   \n",
       "43995    292375.0       99913  2141-05-12           gender      M   \n",
       "43996    202505.0       99923  2201-02-24           gender      M   \n",
       "43997    298857.0       99923  2201-05-16           gender      M   \n",
       "43998    291007.0       99934  2110-02-28           gender      M   \n",
       "43999    243255.0       99955  2139-07-15           gender      M   \n",
       "44000    257127.0       99957  2157-02-21           gender      M   \n",
       "44001    252173.0       99966  2191-08-24           gender      M   \n",
       "44002    275083.0       99973  2180-11-29           gender      F   \n",
       "44003    229633.0       99995  2147-02-09           gender      F   \n",
       "\n",
       "                           delta    uom  \n",
       "0      0 days 00:00:00.000000000  years  \n",
       "1      0 days 00:00:00.000000000  years  \n",
       "2      0 days 00:00:00.000000000  years  \n",
       "3      0 days 00:00:00.000000000  years  \n",
       "4      0 days 00:00:00.000000000  years  \n",
       "5      0 days 00:00:00.000000000  years  \n",
       "6      0 days 00:00:00.000000000  years  \n",
       "7      0 days 00:00:00.000000000  years  \n",
       "8      0 days 00:00:00.000000000  years  \n",
       "9      0 days 00:00:00.000000000  years  \n",
       "10     0 days 00:00:00.000000000  years  \n",
       "11     0 days 00:00:00.000000000  years  \n",
       "12     0 days 00:00:00.000000000  years  \n",
       "13     0 days 00:00:00.000000000  years  \n",
       "14     0 days 00:00:00.000000000  years  \n",
       "15     0 days 00:00:00.000000000  years  \n",
       "16     0 days 00:00:00.000000000  years  \n",
       "17     0 days 00:00:00.000000000  years  \n",
       "18     0 days 00:00:00.000000000  years  \n",
       "20     0 days 00:00:00.000000000  years  \n",
       "21     0 days 00:00:00.000000000  years  \n",
       "22     0 days 00:00:00.000000000  years  \n",
       "23     0 days 00:00:00.000000000  years  \n",
       "24     0 days 00:00:00.000000000  years  \n",
       "25     0 days 00:00:00.000000000  years  \n",
       "26     0 days 00:00:00.000000000  years  \n",
       "27     0 days 00:00:00.000000000  years  \n",
       "28     0 days 00:00:00.000000000  years  \n",
       "29     0 days 00:00:00.000000000  years  \n",
       "30     0 days 00:00:00.000000000  years  \n",
       "...                          ...    ...  \n",
       "43973  0 days 00:00:00.000000000    NaN  \n",
       "43975  0 days 00:00:00.000000000    NaN  \n",
       "43976  0 days 00:00:00.000000000    NaN  \n",
       "43977  0 days 00:00:00.000000000    NaN  \n",
       "43978  0 days 00:00:00.000000000    NaN  \n",
       "43979  0 days 00:00:00.000000000    NaN  \n",
       "43980  0 days 00:00:00.000000000    NaN  \n",
       "43981  0 days 00:00:00.000000000    NaN  \n",
       "43982  0 days 00:00:00.000000000    NaN  \n",
       "43983  0 days 00:00:00.000000000    NaN  \n",
       "43984  0 days 00:00:00.000000000    NaN  \n",
       "43985  0 days 00:00:00.000000000    NaN  \n",
       "43986  0 days 00:00:00.000000000    NaN  \n",
       "43987  0 days 00:00:00.000000000    NaN  \n",
       "43988  0 days 00:00:00.000000000    NaN  \n",
       "43989  0 days 00:00:00.000000000    NaN  \n",
       "43990  0 days 00:00:00.000000000    NaN  \n",
       "43991  0 days 00:00:00.000000000    NaN  \n",
       "43992  0 days 00:00:00.000000000    NaN  \n",
       "43993  0 days 00:00:00.000000000    NaN  \n",
       "43994  0 days 00:00:00.000000000    NaN  \n",
       "43995  0 days 00:00:00.000000000    NaN  \n",
       "43996  0 days 00:00:00.000000000    NaN  \n",
       "43997  0 days 00:00:00.000000000    NaN  \n",
       "43998  0 days 00:00:00.000000000    NaN  \n",
       "43999  0 days 00:00:00.000000000    NaN  \n",
       "44000  0 days 00:00:00.000000000    NaN  \n",
       "44001  0 days 00:00:00.000000000    NaN  \n",
       "44002  0 days 00:00:00.000000000    NaN  \n",
       "44003  0 days 00:00:00.000000000    NaN  \n",
       "\n",
       "[43434 rows x 7 columns]"
      ]
     },
     "execution_count": 114,
     "metadata": {},
     "output_type": "execute_result"
    },
    {
     "name": "stdout",
     "output_type": "stream",
     "text": [
      "time: 35 ms\n"
     ]
    }
   ],
   "source": [
    "dfs['pt_info_df']"
   ]
  },
  {
   "cell_type": "code",
   "execution_count": 115,
   "metadata": {},
   "outputs": [
    {
     "name": "stdout",
     "output_type": "stream",
     "text": [
      "time: 284 ms\n"
     ]
    }
   ],
   "source": [
    "#date= '22102018'\n",
    "save_df(dfs['pt_info_df'], 'pt_info')\n",
    "\n",
    "del(dfs['pt_info_df'] )"
   ]
  },
  {
   "cell_type": "code",
   "execution_count": null,
   "metadata": {},
   "outputs": [],
   "source": []
  }
 ],
 "metadata": {
  "kernelspec": {
   "display_name": "Python 3",
   "language": "python",
   "name": "python3"
  },
  "language_info": {
   "codemirror_mode": {
    "name": "ipython",
    "version": 3
   },
   "file_extension": ".py",
   "mimetype": "text/x-python",
   "name": "python",
   "nbconvert_exporter": "python",
   "pygments_lexer": "ipython3",
   "version": "3.6.8"
  }
 },
 "nbformat": 4,
 "nbformat_minor": 2
}
