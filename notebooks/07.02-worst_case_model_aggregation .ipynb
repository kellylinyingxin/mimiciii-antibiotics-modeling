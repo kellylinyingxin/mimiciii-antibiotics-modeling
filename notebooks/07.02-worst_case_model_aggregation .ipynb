{
 "cells": [
  {
   "cell_type": "markdown",
   "metadata": {},
   "source": [
    "the purpose of this notebook is to take the big dataframe created in 07.01-baseline_data_merging, and make an aggregate we can use for our baseline \"worst case\" scenario model. This will then be fed into R, where we will use the MICE package to impute data"
   ]
  },
  {
   "cell_type": "code",
   "execution_count": 1,
   "metadata": {},
   "outputs": [],
   "source": [
    "import pandas as pd\n",
    "import matplotlib.pyplot as plt\n",
    "import os\n",
    "from pathlib import Path\n",
    "import seaborn as sns\n",
    "import numpy as np\n",
    "import glob\n",
    "\n",
    "from sklearn.externals.joblib import Memory\n",
    "memory = Memory(cachedir='/tmp', verbose=0)\n",
    "#@memory.cache above any def fxn.\n",
    "\n",
    "%matplotlib inline\n",
    "plt.style.use('ggplot')\n",
    "\n",
    "from notebook.services.config import ConfigManager\n",
    "cm = ConfigManager()\n",
    "cm.update('livereveal', {\n",
    "        'width': 1024,\n",
    "        'height': 768,\n",
    "        'scroll': True,\n",
    "})\n",
    "\n",
    "%load_ext autotime"
   ]
  },
  {
   "cell_type": "code",
   "execution_count": 2,
   "metadata": {},
   "outputs": [
    {
     "name": "stdout",
     "output_type": "stream",
     "text": [
      "time: 114 ms\n"
     ]
    }
   ],
   "source": [
    "#cohort import\n",
    "\n",
    "os.chdir('/Users/geickelb1/Documents/GitHub/mimiciii-antibiotics-modeling') #use to change working directory\n",
    "wd= os.getcwd() #'/Users/geickelb1/Documents/GitHub/mimiciii-antibiotics-modeling'\n",
    "\n",
    "\n",
    "final_pt_df2 = pd.read_csv(Path(wd + '/data/raw/csv/01102018_final_pt_df2_v.csv') , index_col=0) #only for patients with minimum vitals\n",
    "patients= list(final_pt_df2['subject_id'].unique())\n",
    "hadm_id= list(final_pt_df2['hadm_id'].unique())\n",
    "icustay_id= list(final_pt_df2['icustay_id'].unique())\n",
    "icustay_id= [int(x) for x in icustay_id]"
   ]
  },
  {
   "cell_type": "code",
   "execution_count": 3,
   "metadata": {},
   "outputs": [
    {
     "name": "stdout",
     "output_type": "stream",
     "text": [
      "time: 12 s\n"
     ]
    }
   ],
   "source": [
    "#importing in all clinical_variable files\n",
    "date= '22112018'\n",
    "os.chdir(r'/Users/geickelb1/Documents/GitHub/mimiciii-antibiotics-modeling/data/processed/')\n",
    "big_df= pd.read_csv(Path(wd+'/data/processed/%s_longdf_preImp.csv' %(date),  index_col=0))\n",
    "big_df= big_df.reset_index(drop=True).iloc[:,1:]"
   ]
  },
  {
   "cell_type": "code",
   "execution_count": 4,
   "metadata": {},
   "outputs": [
    {
     "data": {
      "text/html": [
       "<div>\n",
       "<style scoped>\n",
       "    .dataframe tbody tr th:only-of-type {\n",
       "        vertical-align: middle;\n",
       "    }\n",
       "\n",
       "    .dataframe tbody tr th {\n",
       "        vertical-align: top;\n",
       "    }\n",
       "\n",
       "    .dataframe thead th {\n",
       "        text-align: right;\n",
       "    }\n",
       "</style>\n",
       "<table border=\"1\" class=\"dataframe\">\n",
       "  <thead>\n",
       "    <tr style=\"text-align: right;\">\n",
       "      <th></th>\n",
       "      <th>icustay_id</th>\n",
       "      <th>t_0</th>\n",
       "      <th>value</th>\n",
       "      <th>label</th>\n",
       "      <th>uom</th>\n",
       "      <th>delta</th>\n",
       "      <th>source</th>\n",
       "      <th>subject_id</th>\n",
       "    </tr>\n",
       "  </thead>\n",
       "  <tbody>\n",
       "    <tr>\n",
       "      <th>0</th>\n",
       "      <td>200012.0</td>\n",
       "      <td>2153-12-23</td>\n",
       "      <td>Neg/Not_tested</td>\n",
       "      <td>leukocyte</td>\n",
       "      <td>pos/neg category</td>\n",
       "      <td>0 days 00:00:00.000000000</td>\n",
       "      <td>leuk</td>\n",
       "      <td>28448</td>\n",
       "    </tr>\n",
       "    <tr>\n",
       "      <th>1</th>\n",
       "      <td>200012.0</td>\n",
       "      <td>2153-12-23</td>\n",
       "      <td>Neg/Not_tested</td>\n",
       "      <td>nitrite</td>\n",
       "      <td>pos/neg category</td>\n",
       "      <td>0 days 00:00:00.000000000</td>\n",
       "      <td>nit</td>\n",
       "      <td>28448</td>\n",
       "    </tr>\n",
       "    <tr>\n",
       "      <th>2</th>\n",
       "      <td>200012.0</td>\n",
       "      <td>2153-12-23</td>\n",
       "      <td>None</td>\n",
       "      <td>vent_recieved</td>\n",
       "      <td>mech/O2/none category</td>\n",
       "      <td>0 days 00:00:00.000000000</td>\n",
       "      <td>ventcategory</td>\n",
       "      <td>28448</td>\n",
       "    </tr>\n",
       "    <tr>\n",
       "      <th>3</th>\n",
       "      <td>200012.0</td>\n",
       "      <td>2153-12-23</td>\n",
       "      <td>1</td>\n",
       "      <td>daily_sofa</td>\n",
       "      <td>daily_sofa_score</td>\n",
       "      <td>0 days 00:00:00.000000000</td>\n",
       "      <td>sofa</td>\n",
       "      <td>28448</td>\n",
       "    </tr>\n",
       "    <tr>\n",
       "      <th>4</th>\n",
       "      <td>200012.0</td>\n",
       "      <td>2153-12-23</td>\n",
       "      <td>0.0</td>\n",
       "      <td>dobutamine</td>\n",
       "      <td>y/n</td>\n",
       "      <td>0 days 00:00:00.000000000</td>\n",
       "      <td>dobutamine</td>\n",
       "      <td>28448</td>\n",
       "    </tr>\n",
       "  </tbody>\n",
       "</table>\n",
       "</div>"
      ],
      "text/plain": [
       "   icustay_id         t_0           value          label  \\\n",
       "0    200012.0  2153-12-23  Neg/Not_tested      leukocyte   \n",
       "1    200012.0  2153-12-23  Neg/Not_tested        nitrite   \n",
       "2    200012.0  2153-12-23            None  vent_recieved   \n",
       "3    200012.0  2153-12-23               1     daily_sofa   \n",
       "4    200012.0  2153-12-23             0.0     dobutamine   \n",
       "\n",
       "                     uom                      delta        source  subject_id  \n",
       "0       pos/neg category  0 days 00:00:00.000000000          leuk       28448  \n",
       "1       pos/neg category  0 days 00:00:00.000000000           nit       28448  \n",
       "2  mech/O2/none category  0 days 00:00:00.000000000  ventcategory       28448  \n",
       "3       daily_sofa_score  0 days 00:00:00.000000000          sofa       28448  \n",
       "4                    y/n  0 days 00:00:00.000000000    dobutamine       28448  "
      ]
     },
     "execution_count": 4,
     "metadata": {},
     "output_type": "execute_result"
    },
    {
     "name": "stdout",
     "output_type": "stream",
     "text": [
      "time: 18.1 ms\n"
     ]
    }
   ],
   "source": [
    "big_df.head()"
   ]
  },
  {
   "cell_type": "code",
   "execution_count": 5,
   "metadata": {},
   "outputs": [
    {
     "data": {
      "text/html": [
       "<div>\n",
       "<style scoped>\n",
       "    .dataframe tbody tr th:only-of-type {\n",
       "        vertical-align: middle;\n",
       "    }\n",
       "\n",
       "    .dataframe tbody tr th {\n",
       "        vertical-align: top;\n",
       "    }\n",
       "\n",
       "    .dataframe thead th {\n",
       "        text-align: right;\n",
       "    }\n",
       "</style>\n",
       "<table border=\"1\" class=\"dataframe\">\n",
       "  <thead>\n",
       "    <tr style=\"text-align: right;\">\n",
       "      <th></th>\n",
       "      <th>count</th>\n",
       "      <th>unique</th>\n",
       "      <th>top</th>\n",
       "      <th>freq</th>\n",
       "    </tr>\n",
       "    <tr>\n",
       "      <th>label</th>\n",
       "      <th></th>\n",
       "      <th></th>\n",
       "      <th></th>\n",
       "      <th></th>\n",
       "    </tr>\n",
       "  </thead>\n",
       "  <tbody>\n",
       "    <tr>\n",
       "      <th>leukocyte</th>\n",
       "      <td>14668</td>\n",
       "      <td>2</td>\n",
       "      <td>Neg/Not_tested</td>\n",
       "      <td>12449</td>\n",
       "    </tr>\n",
       "    <tr>\n",
       "      <th>norepinephrine</th>\n",
       "      <td>35398</td>\n",
       "      <td>2</td>\n",
       "      <td>1.0</td>\n",
       "      <td>23637</td>\n",
       "    </tr>\n",
       "    <tr>\n",
       "      <th>vasopressin</th>\n",
       "      <td>18146</td>\n",
       "      <td>2</td>\n",
       "      <td>0.0</td>\n",
       "      <td>14240</td>\n",
       "    </tr>\n",
       "    <tr>\n",
       "      <th>gender</th>\n",
       "      <td>14668</td>\n",
       "      <td>2</td>\n",
       "      <td>M</td>\n",
       "      <td>8033</td>\n",
       "    </tr>\n",
       "    <tr>\n",
       "      <th>phenylephrine</th>\n",
       "      <td>28124</td>\n",
       "      <td>2</td>\n",
       "      <td>1.0</td>\n",
       "      <td>15776</td>\n",
       "    </tr>\n",
       "    <tr>\n",
       "      <th>rrt</th>\n",
       "      <td>14668</td>\n",
       "      <td>2</td>\n",
       "      <td>0.0</td>\n",
       "      <td>13448</td>\n",
       "    </tr>\n",
       "    <tr>\n",
       "      <th>nitrite</th>\n",
       "      <td>14668</td>\n",
       "      <td>2</td>\n",
       "      <td>Neg/Not_tested</td>\n",
       "      <td>14247</td>\n",
       "    </tr>\n",
       "    <tr>\n",
       "      <th>dobutamine</th>\n",
       "      <td>16003</td>\n",
       "      <td>2</td>\n",
       "      <td>0.0</td>\n",
       "      <td>14430</td>\n",
       "    </tr>\n",
       "    <tr>\n",
       "      <th>dopamine</th>\n",
       "      <td>19501</td>\n",
       "      <td>2</td>\n",
       "      <td>0.0</td>\n",
       "      <td>13803</td>\n",
       "    </tr>\n",
       "    <tr>\n",
       "      <th>epinephrine</th>\n",
       "      <td>16414</td>\n",
       "      <td>2</td>\n",
       "      <td>0.0</td>\n",
       "      <td>14363</td>\n",
       "    </tr>\n",
       "    <tr>\n",
       "      <th>vent_recieved</th>\n",
       "      <td>14668</td>\n",
       "      <td>3</td>\n",
       "      <td>None</td>\n",
       "      <td>8387</td>\n",
       "    </tr>\n",
       "    <tr>\n",
       "      <th>ethnicity</th>\n",
       "      <td>14668</td>\n",
       "      <td>5</td>\n",
       "      <td>white/nonhispanic</td>\n",
       "      <td>10691</td>\n",
       "    </tr>\n",
       "    <tr>\n",
       "      <th>mingcs</th>\n",
       "      <td>10405</td>\n",
       "      <td>13</td>\n",
       "      <td>15.0</td>\n",
       "      <td>4199</td>\n",
       "    </tr>\n",
       "    <tr>\n",
       "      <th>daily_sofa</th>\n",
       "      <td>31545</td>\n",
       "      <td>24</td>\n",
       "      <td>1</td>\n",
       "      <td>5934</td>\n",
       "    </tr>\n",
       "    <tr>\n",
       "      <th>bicarbonate</th>\n",
       "      <td>63305</td>\n",
       "      <td>56</td>\n",
       "      <td>24.0</td>\n",
       "      <td>5233</td>\n",
       "    </tr>\n",
       "    <tr>\n",
       "      <th>resprate</th>\n",
       "      <td>990136</td>\n",
       "      <td>76</td>\n",
       "      <td>20.0</td>\n",
       "      <td>78559</td>\n",
       "    </tr>\n",
       "    <tr>\n",
       "      <th>sodium</th>\n",
       "      <td>71892</td>\n",
       "      <td>81</td>\n",
       "      <td>139.0</td>\n",
       "      <td>6437</td>\n",
       "    </tr>\n",
       "    <tr>\n",
       "      <th>chloride</th>\n",
       "      <td>68805</td>\n",
       "      <td>84</td>\n",
       "      <td>106.0</td>\n",
       "      <td>4442</td>\n",
       "    </tr>\n",
       "    <tr>\n",
       "      <th>bands</th>\n",
       "      <td>3516</td>\n",
       "      <td>96</td>\n",
       "      <td>1.0</td>\n",
       "      <td>472</td>\n",
       "    </tr>\n",
       "    <tr>\n",
       "      <th>ph</th>\n",
       "      <td>70813</td>\n",
       "      <td>102</td>\n",
       "      <td>7.4</td>\n",
       "      <td>3751</td>\n",
       "    </tr>\n",
       "    <tr>\n",
       "      <th>potassium</th>\n",
       "      <td>86440</td>\n",
       "      <td>103</td>\n",
       "      <td>4.0</td>\n",
       "      <td>6387</td>\n",
       "    </tr>\n",
       "    <tr>\n",
       "      <th>spo2</th>\n",
       "      <td>898875</td>\n",
       "      <td>103</td>\n",
       "      <td>100.0</td>\n",
       "      <td>202423</td>\n",
       "    </tr>\n",
       "    <tr>\n",
       "      <th>pco2</th>\n",
       "      <td>41796</td>\n",
       "      <td>133</td>\n",
       "      <td>40.0</td>\n",
       "      <td>2037</td>\n",
       "    </tr>\n",
       "    <tr>\n",
       "      <th>hemoglobin</th>\n",
       "      <td>64903</td>\n",
       "      <td>167</td>\n",
       "      <td>9.6</td>\n",
       "      <td>1603</td>\n",
       "    </tr>\n",
       "    <tr>\n",
       "      <th>calcium</th>\n",
       "      <td>29926</td>\n",
       "      <td>170</td>\n",
       "      <td>1.13</td>\n",
       "      <td>1560</td>\n",
       "    </tr>\n",
       "    <tr>\n",
       "      <th>inr</th>\n",
       "      <td>39667</td>\n",
       "      <td>181</td>\n",
       "      <td>1.2</td>\n",
       "      <td>6021</td>\n",
       "    </tr>\n",
       "    <tr>\n",
       "      <th>creatinine</th>\n",
       "      <td>63315</td>\n",
       "      <td>185</td>\n",
       "      <td>0.7</td>\n",
       "      <td>5450</td>\n",
       "    </tr>\n",
       "    <tr>\n",
       "      <th>bun</th>\n",
       "      <td>63048</td>\n",
       "      <td>195</td>\n",
       "      <td>14.0</td>\n",
       "      <td>1909</td>\n",
       "    </tr>\n",
       "    <tr>\n",
       "      <th>diasbp</th>\n",
       "      <td>910423</td>\n",
       "      <td>203</td>\n",
       "      <td>56.0</td>\n",
       "      <td>28790</td>\n",
       "    </tr>\n",
       "    <tr>\n",
       "      <th>heartrate</th>\n",
       "      <td>937471</td>\n",
       "      <td>208</td>\n",
       "      <td>80.0</td>\n",
       "      <td>24453</td>\n",
       "    </tr>\n",
       "    <tr>\n",
       "      <th>sysbp</th>\n",
       "      <td>915044</td>\n",
       "      <td>235</td>\n",
       "      <td>110.0</td>\n",
       "      <td>16641</td>\n",
       "    </tr>\n",
       "    <tr>\n",
       "      <th>lactate</th>\n",
       "      <td>34488</td>\n",
       "      <td>294</td>\n",
       "      <td>1.2</td>\n",
       "      <td>1662</td>\n",
       "    </tr>\n",
       "    <tr>\n",
       "      <th>bilirubin</th>\n",
       "      <td>17814</td>\n",
       "      <td>407</td>\n",
       "      <td>0.4</td>\n",
       "      <td>1477</td>\n",
       "    </tr>\n",
       "    <tr>\n",
       "      <th>meanartpress</th>\n",
       "      <td>925073</td>\n",
       "      <td>589</td>\n",
       "      <td>72.0</td>\n",
       "      <td>24415</td>\n",
       "    </tr>\n",
       "    <tr>\n",
       "      <th>temperature</th>\n",
       "      <td>278084</td>\n",
       "      <td>597</td>\n",
       "      <td>36.6666666666667</td>\n",
       "      <td>7598</td>\n",
       "    </tr>\n",
       "    <tr>\n",
       "      <th>glucose</th>\n",
       "      <td>224294</td>\n",
       "      <td>719</td>\n",
       "      <td>120.0</td>\n",
       "      <td>2478</td>\n",
       "    </tr>\n",
       "    <tr>\n",
       "      <th>wbc</th>\n",
       "      <td>56306</td>\n",
       "      <td>802</td>\n",
       "      <td>8.8</td>\n",
       "      <td>486</td>\n",
       "    </tr>\n",
       "    <tr>\n",
       "      <th>platelet</th>\n",
       "      <td>58060</td>\n",
       "      <td>910</td>\n",
       "      <td>151.0</td>\n",
       "      <td>254</td>\n",
       "    </tr>\n",
       "    <tr>\n",
       "      <th>pao2/fio2</th>\n",
       "      <td>14668</td>\n",
       "      <td>1010</td>\n",
       "      <td>476.0</td>\n",
       "      <td>9063</td>\n",
       "    </tr>\n",
       "    <tr>\n",
       "      <th>ptt</th>\n",
       "      <td>41760</td>\n",
       "      <td>1241</td>\n",
       "      <td>150.0</td>\n",
       "      <td>943</td>\n",
       "    </tr>\n",
       "    <tr>\n",
       "      <th>weight</th>\n",
       "      <td>13325</td>\n",
       "      <td>1408</td>\n",
       "      <td>70.0</td>\n",
       "      <td>265</td>\n",
       "    </tr>\n",
       "    <tr>\n",
       "      <th>first_admit_age</th>\n",
       "      <td>14668</td>\n",
       "      <td>5074</td>\n",
       "      <td>300.0</td>\n",
       "      <td>900</td>\n",
       "    </tr>\n",
       "  </tbody>\n",
       "</table>\n",
       "</div>"
      ],
      "text/plain": [
       "                  count unique                top    freq\n",
       "label                                                    \n",
       "leukocyte         14668      2     Neg/Not_tested   12449\n",
       "norepinephrine    35398      2                1.0   23637\n",
       "vasopressin       18146      2                0.0   14240\n",
       "gender            14668      2                  M    8033\n",
       "phenylephrine     28124      2                1.0   15776\n",
       "rrt               14668      2                0.0   13448\n",
       "nitrite           14668      2     Neg/Not_tested   14247\n",
       "dobutamine        16003      2                0.0   14430\n",
       "dopamine          19501      2                0.0   13803\n",
       "epinephrine       16414      2                0.0   14363\n",
       "vent_recieved     14668      3               None    8387\n",
       "ethnicity         14668      5  white/nonhispanic   10691\n",
       "mingcs            10405     13               15.0    4199\n",
       "daily_sofa        31545     24                  1    5934\n",
       "bicarbonate       63305     56               24.0    5233\n",
       "resprate         990136     76               20.0   78559\n",
       "sodium            71892     81              139.0    6437\n",
       "chloride          68805     84              106.0    4442\n",
       "bands              3516     96                1.0     472\n",
       "ph                70813    102                7.4    3751\n",
       "potassium         86440    103                4.0    6387\n",
       "spo2             898875    103              100.0  202423\n",
       "pco2              41796    133               40.0    2037\n",
       "hemoglobin        64903    167                9.6    1603\n",
       "calcium           29926    170               1.13    1560\n",
       "inr               39667    181                1.2    6021\n",
       "creatinine        63315    185                0.7    5450\n",
       "bun               63048    195               14.0    1909\n",
       "diasbp           910423    203               56.0   28790\n",
       "heartrate        937471    208               80.0   24453\n",
       "sysbp            915044    235              110.0   16641\n",
       "lactate           34488    294                1.2    1662\n",
       "bilirubin         17814    407                0.4    1477\n",
       "meanartpress     925073    589               72.0   24415\n",
       "temperature      278084    597   36.6666666666667    7598\n",
       "glucose          224294    719              120.0    2478\n",
       "wbc               56306    802                8.8     486\n",
       "platelet          58060    910              151.0     254\n",
       "pao2/fio2         14668   1010              476.0    9063\n",
       "ptt               41760   1241              150.0     943\n",
       "weight            13325   1408               70.0     265\n",
       "first_admit_age   14668   5074              300.0     900"
      ]
     },
     "execution_count": 5,
     "metadata": {},
     "output_type": "execute_result"
    },
    {
     "name": "stdout",
     "output_type": "stream",
     "text": [
      "time: 1.93 s\n"
     ]
    }
   ],
   "source": [
    "big_df.groupby('label')['value'].describe().sort_values('unique')\n",
    "##categorical variables:\n",
    "#rrt, phenylephrine, norepinephrine, vasopressin, dobutamine, dopamine, epinephrine, leukocyte, vent_recieved\n"
   ]
  },
  {
   "cell_type": "code",
   "execution_count": 6,
   "metadata": {},
   "outputs": [
    {
     "data": {
      "text/plain": [
       "None      8387\n",
       "Oxygen    3986\n",
       "Mech      2295\n",
       "Name: value, dtype: int64"
      ]
     },
     "execution_count": 6,
     "metadata": {},
     "output_type": "execute_result"
    },
    {
     "name": "stdout",
     "output_type": "stream",
     "text": [
      "time: 516 ms\n"
     ]
    }
   ],
   "source": [
    "big_df[big_df['label']=='vent_recieved']['value'].value_counts() #\n",
    "#df[\"B\"] = df[\"A\"].astype('category')"
   ]
  },
  {
   "cell_type": "code",
   "execution_count": 7,
   "metadata": {},
   "outputs": [
    {
     "name": "stdout",
     "output_type": "stream",
     "text": [
      "time: 1.48 s\n"
     ]
    }
   ],
   "source": [
    "big_df.loc[big_df.loc[:,'label']=='vent_recieved','value']= big_df.loc[big_df.loc[:,'label']=='vent_recieved','value'].astype('category')"
   ]
  },
  {
   "cell_type": "code",
   "execution_count": 8,
   "metadata": {},
   "outputs": [
    {
     "name": "stdout",
     "output_type": "stream",
     "text": [
      "time: 1.47 s\n"
     ]
    }
   ],
   "source": [
    "#big_df.loc[big_df.loc[:,'label']=='vent_recieved','value'].apply(astype('category'))\n",
    "big_df.loc[big_df.loc[:,'label']=='vent_recieved','value'] = pd.Categorical(big_df.loc[big_df.loc[:,'label']=='vent_recieved','value'])"
   ]
  },
  {
   "cell_type": "code",
   "execution_count": 9,
   "metadata": {},
   "outputs": [
    {
     "data": {
      "text/plain": [
       "count     14668\n",
       "unique        3\n",
       "top        None\n",
       "freq       8387\n",
       "Name: value, dtype: object"
      ]
     },
     "execution_count": 9,
     "metadata": {},
     "output_type": "execute_result"
    },
    {
     "name": "stdout",
     "output_type": "stream",
     "text": [
      "time: 470 ms\n"
     ]
    }
   ],
   "source": [
    "big_df.loc[big_df.loc[:,'label']=='vent_recieved','value'].describe()"
   ]
  },
  {
   "cell_type": "code",
   "execution_count": 10,
   "metadata": {},
   "outputs": [
    {
     "name": "stdout",
     "output_type": "stream",
     "text": [
      "time: 6.48 ms\n"
     ]
    }
   ],
   "source": [
    "hi_value= ['bands',\n",
    "'bilirubin',\n",
    "'bun',\n",
    "'chloride',\n",
    "'creatinine',\n",
    "'daily_sofa',\n",
    "'glucose',\n",
    "'heartrate',\n",
    "'inr',\n",
    "'lactate',\n",
    "'pco2',\n",
    "'potassium',\n",
    "'ptt',\n",
    "'resprate',\n",
    "'temperature',\n",
    "'weight', 'rrt', 'phenylephrine', 'norepinephrine', 'vasopressin', 'dobutamine', 'dopamine', 'epinephrine',\n",
    "           'first_admit_age']\n",
    "\n",
    "low_value=['bicarbonate',\n",
    "'diasbp',\n",
    "'hemoglobin',\n",
    "'meanartpress',\n",
    "'mingcs',\n",
    "'ph',\n",
    "'platelet',\n",
    "'spo2',\n",
    "'sysbp',\n",
    "'pao2/fio2']\n",
    "\n",
    "both_value=['calcium',\n",
    "'sodium',\n",
    "'wbc']"
   ]
  },
  {
   "cell_type": "code",
   "execution_count": 11,
   "metadata": {},
   "outputs": [
    {
     "name": "stdout",
     "output_type": "stream",
     "text": [
      "time: 3.48 ms\n"
     ]
    }
   ],
   "source": [
    "#lambda x: x if not np.isnan(x) else -1\n",
    "\n",
    "dict1={str(x):max for x in hi_value}\n",
    "dict2={str(x):min for x in low_value } #dict2={str(x):min for x in low_value }\n",
    "dict3={str(x):[max,min] for x in both_value }"
   ]
  },
  {
   "cell_type": "code",
   "execution_count": 12,
   "metadata": {},
   "outputs": [
    {
     "name": "stdout",
     "output_type": "stream",
     "text": [
      "time: 4.46 ms\n"
     ]
    }
   ],
   "source": [
    "def merge_two_dicts(x, y):\n",
    "    z = x.copy()   # start with x's keys and values\n",
    "    z.update(y)    # modifies z with y's keys and values & returns None\n",
    "    return z\n",
    "\n",
    "dict1 = merge_two_dicts(dict1, dict2)\n",
    "dict1 = merge_two_dicts(dict1, dict3)"
   ]
  },
  {
   "cell_type": "code",
   "execution_count": 13,
   "metadata": {},
   "outputs": [
    {
     "data": {
      "text/plain": [
       "37"
      ]
     },
     "execution_count": 13,
     "metadata": {},
     "output_type": "execute_result"
    },
    {
     "name": "stdout",
     "output_type": "stream",
     "text": [
      "time: 3.95 ms\n"
     ]
    }
   ],
   "source": [
    "len(dict1.keys())"
   ]
  },
  {
   "cell_type": "markdown",
   "metadata": {},
   "source": [
    "### to do: need to convert all dtypes to a numeric type taht pereserves nan. "
   ]
  },
  {
   "cell_type": "code",
   "execution_count": 14,
   "metadata": {},
   "outputs": [
    {
     "name": "stdout",
     "output_type": "stream",
     "text": [
      "time: 2min 46s\n"
     ]
    },
    {
     "name": "stderr",
     "output_type": "stream",
     "text": [
      "/Users/geickelb1/anaconda/envs/rpy-env/lib/python3.6/site-packages/ipykernel_launcher.py:5: SettingWithCopyWarning: \n",
      "A value is trying to be set on a copy of a slice from a DataFrame.\n",
      "Try using .loc[row_indexer,col_indexer] = value instead\n",
      "\n",
      "See the caveats in the documentation: http://pandas.pydata.org/pandas-docs/stable/indexing.html#indexing-view-versus-copy\n",
      "  \"\"\"\n"
     ]
    }
   ],
   "source": [
    "categorical=['leukocyte','nitrite','vent_recieved', 'ethnicity','gender']\n",
    "\n",
    "big_categorical= big_df.loc[big_df.loc[:,'label'].isin(categorical),:]\n",
    "big_noCat= big_df.loc[big_df.loc[:,'label'].isin(dict1.keys()),:]\n",
    "big_noCat['value']= big_noCat['value'].apply(pd.to_numeric, args=('coerce',)) #instead of convert to float, may preserve nan's better. \n"
   ]
  },
  {
   "cell_type": "code",
   "execution_count": null,
   "metadata": {},
   "outputs": [],
   "source": []
  },
  {
   "cell_type": "code",
   "execution_count": 15,
   "metadata": {},
   "outputs": [
    {
     "name": "stdout",
     "output_type": "stream",
     "text": [
      "time: 1.19 s\n"
     ]
    }
   ],
   "source": [
    "big_max= big_noCat.loc[big_noCat.loc[:,'label'].isin(hi_value),:]\n",
    "table = pd.pivot_table(big_max, values='value', columns='label', index=['icustay_id'],aggfunc=max, dropna=False)"
   ]
  },
  {
   "cell_type": "code",
   "execution_count": 16,
   "metadata": {},
   "outputs": [
    {
     "name": "stdout",
     "output_type": "stream",
     "text": [
      "time: 1.22 s\n"
     ]
    }
   ],
   "source": [
    "big_min= big_noCat.loc[big_noCat.loc[:,'label'].isin(low_value),:]\n",
    "table2 = pd.pivot_table(big_min, values='value', columns='label', index=['icustay_id'],aggfunc=min, dropna=False)"
   ]
  },
  {
   "cell_type": "code",
   "execution_count": 17,
   "metadata": {},
   "outputs": [
    {
     "name": "stdout",
     "output_type": "stream",
     "text": [
      "time: 343 ms\n"
     ]
    }
   ],
   "source": [
    "big_both= big_noCat.loc[big_noCat.loc[:,'label'].isin(both_value),:]\n",
    "table3 = pd.pivot_table(big_both, values='value', columns='label', index=['icustay_id'],aggfunc=[max,min], dropna=False)"
   ]
  },
  {
   "cell_type": "code",
   "execution_count": 18,
   "metadata": {},
   "outputs": [
    {
     "name": "stdout",
     "output_type": "stream",
     "text": [
      "14668 14668 14618\n",
      "time: 1.12 ms\n"
     ]
    }
   ],
   "source": [
    "print(len(table),len(table2),len(table3))"
   ]
  },
  {
   "cell_type": "code",
   "execution_count": 19,
   "metadata": {},
   "outputs": [
    {
     "name": "stdout",
     "output_type": "stream",
     "text": [
      "time: 37.6 ms\n"
     ]
    },
    {
     "name": "stderr",
     "output_type": "stream",
     "text": [
      "/Users/geickelb1/anaconda/envs/rpy-env/lib/python3.6/site-packages/pandas/core/reshape/merge.py:544: UserWarning: merging between different levels can give an unintended result (1 levels on the left, 2 on the right)\n",
      "  warnings.warn(msg, UserWarning)\n",
      "/Users/geickelb1/anaconda/envs/rpy-env/lib/python3.6/site-packages/pandas/core/generic.py:3111: PerformanceWarning: dropping on a non-lexsorted multi-index without a level parameter may impact performance.\n",
      "  obj = obj._drop_axis(labels, axis, level=level, errors=errors)\n"
     ]
    }
   ],
   "source": [
    "worst_df=pd.merge(table.reset_index(), table2.reset_index(), how='left')\n",
    "worst_df=pd.merge(worst_df, table3.reset_index(), left_on='icustay_id', right_on='icustay_id',how='left')"
   ]
  },
  {
   "cell_type": "code",
   "execution_count": 20,
   "metadata": {},
   "outputs": [
    {
     "name": "stdout",
     "output_type": "stream",
     "text": [
      "41 42 {'leukocyte', 'sodium', 'gender', 'ethnicity', 'wbc', 'calcium', 'vent_recieved', 'nitrite'}\n",
      "time: 625 ms\n"
     ]
    }
   ],
   "source": [
    "print(len(list(worst_df)), #40- icustay_id - label = 38. with \n",
    "\n",
    "big_df['label'].nunique(),\n",
    "     \n",
    "set(big_df['label'].unique())- set(worst_df)   )\n"
   ]
  },
  {
   "cell_type": "code",
   "execution_count": 21,
   "metadata": {},
   "outputs": [
    {
     "name": "stdout",
     "output_type": "stream",
     "text": [
      "time: 672 ms\n"
     ]
    }
   ],
   "source": [
    "big_max= big_df.loc[big_df.loc[:,'label'].isin(hi_value),:]"
   ]
  },
  {
   "cell_type": "code",
   "execution_count": 22,
   "metadata": {},
   "outputs": [
    {
     "data": {
      "text/html": [
       "<div>\n",
       "<style scoped>\n",
       "    .dataframe tbody tr th:only-of-type {\n",
       "        vertical-align: middle;\n",
       "    }\n",
       "\n",
       "    .dataframe tbody tr th {\n",
       "        vertical-align: top;\n",
       "    }\n",
       "\n",
       "    .dataframe thead th {\n",
       "        text-align: right;\n",
       "    }\n",
       "</style>\n",
       "<table border=\"1\" class=\"dataframe\">\n",
       "  <thead>\n",
       "    <tr style=\"text-align: right;\">\n",
       "      <th></th>\n",
       "      <th>icustay_id</th>\n",
       "      <th>t_0</th>\n",
       "      <th>value</th>\n",
       "      <th>label</th>\n",
       "      <th>uom</th>\n",
       "      <th>delta</th>\n",
       "      <th>source</th>\n",
       "      <th>subject_id</th>\n",
       "    </tr>\n",
       "  </thead>\n",
       "  <tbody>\n",
       "    <tr>\n",
       "      <th>0</th>\n",
       "      <td>200012.0</td>\n",
       "      <td>2153-12-23</td>\n",
       "      <td>Neg/Not_tested</td>\n",
       "      <td>leukocyte</td>\n",
       "      <td>pos/neg category</td>\n",
       "      <td>0 days 00:00:00.000000000</td>\n",
       "      <td>leuk</td>\n",
       "      <td>28448</td>\n",
       "    </tr>\n",
       "    <tr>\n",
       "      <th>1</th>\n",
       "      <td>200012.0</td>\n",
       "      <td>2153-12-23</td>\n",
       "      <td>Neg/Not_tested</td>\n",
       "      <td>nitrite</td>\n",
       "      <td>pos/neg category</td>\n",
       "      <td>0 days 00:00:00.000000000</td>\n",
       "      <td>nit</td>\n",
       "      <td>28448</td>\n",
       "    </tr>\n",
       "    <tr>\n",
       "      <th>2</th>\n",
       "      <td>200012.0</td>\n",
       "      <td>2153-12-23</td>\n",
       "      <td>None</td>\n",
       "      <td>vent_recieved</td>\n",
       "      <td>mech/O2/none category</td>\n",
       "      <td>0 days 00:00:00.000000000</td>\n",
       "      <td>ventcategory</td>\n",
       "      <td>28448</td>\n",
       "    </tr>\n",
       "    <tr>\n",
       "      <th>7</th>\n",
       "      <td>200012.0</td>\n",
       "      <td>2153-12-23</td>\n",
       "      <td>asian</td>\n",
       "      <td>ethnicity</td>\n",
       "      <td>NaN</td>\n",
       "      <td>0 days 00:00:00.000000000</td>\n",
       "      <td>pt_info</td>\n",
       "      <td>28448</td>\n",
       "    </tr>\n",
       "    <tr>\n",
       "      <th>9</th>\n",
       "      <td>200012.0</td>\n",
       "      <td>2153-12-23</td>\n",
       "      <td>F</td>\n",
       "      <td>gender</td>\n",
       "      <td>NaN</td>\n",
       "      <td>0 days 00:00:00.000000000</td>\n",
       "      <td>pt_info</td>\n",
       "      <td>28448</td>\n",
       "    </tr>\n",
       "  </tbody>\n",
       "</table>\n",
       "</div>"
      ],
      "text/plain": [
       "   icustay_id         t_0           value          label  \\\n",
       "0    200012.0  2153-12-23  Neg/Not_tested      leukocyte   \n",
       "1    200012.0  2153-12-23  Neg/Not_tested        nitrite   \n",
       "2    200012.0  2153-12-23            None  vent_recieved   \n",
       "7    200012.0  2153-12-23           asian      ethnicity   \n",
       "9    200012.0  2153-12-23               F         gender   \n",
       "\n",
       "                     uom                      delta        source  subject_id  \n",
       "0       pos/neg category  0 days 00:00:00.000000000          leuk       28448  \n",
       "1       pos/neg category  0 days 00:00:00.000000000           nit       28448  \n",
       "2  mech/O2/none category  0 days 00:00:00.000000000  ventcategory       28448  \n",
       "7                    NaN  0 days 00:00:00.000000000       pt_info       28448  \n",
       "9                    NaN  0 days 00:00:00.000000000       pt_info       28448  "
      ]
     },
     "execution_count": 22,
     "metadata": {},
     "output_type": "execute_result"
    },
    {
     "name": "stdout",
     "output_type": "stream",
     "text": [
      "time: 11 ms\n"
     ]
    }
   ],
   "source": [
    "big_categorical.head()"
   ]
  },
  {
   "cell_type": "code",
   "execution_count": 23,
   "metadata": {},
   "outputs": [
    {
     "name": "stdout",
     "output_type": "stream",
     "text": [
      "time: 51.3 ms\n"
     ]
    }
   ],
   "source": [
    "big_categorical= big_categorical.pivot(\n",
    "    index='icustay_id',\n",
    "    values='value',\n",
    "    columns='label') #need to convert to long format. should be one row per patient per time. "
   ]
  },
  {
   "cell_type": "code",
   "execution_count": 24,
   "metadata": {},
   "outputs": [
    {
     "name": "stdout",
     "output_type": "stream",
     "text": [
      "time: 30.7 ms\n"
     ]
    }
   ],
   "source": [
    "worst_df=pd.merge(worst_df, big_categorical, left_on='icustay_id', right_on='icustay_id',how='left')"
   ]
  },
  {
   "cell_type": "code",
   "execution_count": 25,
   "metadata": {},
   "outputs": [
    {
     "name": "stdout",
     "output_type": "stream",
     "text": [
      "time: 15.2 ms\n"
     ]
    }
   ],
   "source": [
    "worst_df['leukocyte']=worst_df['leukocyte'].astype(\"category\")\n",
    "worst_df['nitrite']=worst_df['nitrite'].astype(\"category\")\n",
    "worst_df['vent_recieved']=worst_df['vent_recieved'].astype(\"category\")\n",
    "worst_df['ethnicity']=worst_df['ethnicity'].astype(\"category\")\n",
    "worst_df['gender']=worst_df['gender'].astype(\"category\")"
   ]
  },
  {
   "cell_type": "code",
   "execution_count": 26,
   "metadata": {},
   "outputs": [
    {
     "data": {
      "text/plain": [
       "['icustay_id',\n",
       " 'bands',\n",
       " 'bilirubin',\n",
       " 'bun',\n",
       " 'chloride',\n",
       " 'creatinine',\n",
       " 'daily_sofa',\n",
       " 'dobutamine',\n",
       " 'dopamine',\n",
       " 'epinephrine',\n",
       " 'first_admit_age',\n",
       " 'glucose',\n",
       " 'heartrate',\n",
       " 'inr',\n",
       " 'lactate',\n",
       " 'norepinephrine',\n",
       " 'pco2',\n",
       " 'phenylephrine',\n",
       " 'potassium',\n",
       " 'ptt',\n",
       " 'resprate',\n",
       " 'rrt',\n",
       " 'temperature',\n",
       " 'vasopressin',\n",
       " 'weight',\n",
       " 'bicarbonate',\n",
       " 'diasbp',\n",
       " 'hemoglobin',\n",
       " 'meanartpress',\n",
       " 'mingcs',\n",
       " 'pao2/fio2',\n",
       " 'ph',\n",
       " 'platelet',\n",
       " 'spo2',\n",
       " 'sysbp',\n",
       " ('max', 'calcium'),\n",
       " ('max', 'sodium'),\n",
       " ('max', 'wbc'),\n",
       " ('min', 'calcium'),\n",
       " ('min', 'sodium'),\n",
       " ('min', 'wbc'),\n",
       " 'ethnicity',\n",
       " 'gender',\n",
       " 'leukocyte',\n",
       " 'nitrite',\n",
       " 'vent_recieved']"
      ]
     },
     "execution_count": 26,
     "metadata": {},
     "output_type": "execute_result"
    },
    {
     "name": "stdout",
     "output_type": "stream",
     "text": [
      "time: 2.72 ms\n"
     ]
    }
   ],
   "source": [
    "list(worst_df)"
   ]
  },
  {
   "cell_type": "code",
   "execution_count": 27,
   "metadata": {},
   "outputs": [
    {
     "name": "stdout",
     "output_type": "stream",
     "text": [
      "time: 14 ms\n"
     ]
    }
   ],
   "source": [
    "baselinePts= final_pt_df2.loc[final_pt_df2.loc[:,'final_bin'].isin([\"C_pos/A_full\",\"C_neg/A_partial\"]),\"icustay_id\"]\n",
    "worst_df2= worst_df.loc[worst_df.loc[:,'icustay_id'].isin(baselinePts),:]"
   ]
  },
  {
   "cell_type": "code",
   "execution_count": 28,
   "metadata": {},
   "outputs": [
    {
     "name": "stdout",
     "output_type": "stream",
     "text": [
      "time: 859 ms\n"
     ]
    }
   ],
   "source": [
    "date= '22112018'\n",
    "pd.DataFrame(worst_df).to_csv(Path(\n",
    "    wd+'/data/processed/%s_worstdf_preImp.csv' %(date)),index=False)\n",
    "\n",
    "pd.DataFrame(worst_df2).to_csv(Path(\n",
    "    wd+'/data/processed/%s_worstdf2_preImp.csv' %(date)),index=False)"
   ]
  },
  {
   "cell_type": "code",
   "execution_count": 29,
   "metadata": {},
   "outputs": [
    {
     "data": {
      "text/plain": [
       "7778"
      ]
     },
     "execution_count": 29,
     "metadata": {},
     "output_type": "execute_result"
    },
    {
     "name": "stdout",
     "output_type": "stream",
     "text": [
      "time: 2.63 ms\n"
     ]
    }
   ],
   "source": [
    "len(worst_df2)"
   ]
  },
  {
   "cell_type": "code",
   "execution_count": 30,
   "metadata": {},
   "outputs": [
    {
     "name": "stdout",
     "output_type": "stream",
     "text": [
      "time: 680 µs\n"
     ]
    }
   ],
   "source": [
    "# big_categorical[\"icustay_id\"].isin(icustay_id)"
   ]
  },
  {
   "cell_type": "code",
   "execution_count": 31,
   "metadata": {},
   "outputs": [
    {
     "name": "stdout",
     "output_type": "stream",
     "text": [
      "time: 635 µs\n"
     ]
    }
   ],
   "source": [
    "#big_noCat['value']=big_noCat['value'].astype(float, copy=False)\n",
    "#big_noCat.groupby(['icustay_id','label'], as_index=False)['value'].agg(dict1) #"
   ]
  },
  {
   "cell_type": "code",
   "execution_count": 32,
   "metadata": {},
   "outputs": [
    {
     "name": "stdout",
     "output_type": "stream",
     "text": [
      "time: 879 µs\n"
     ]
    }
   ],
   "source": [
    "# test= big_noCat.groupby(['icustay_id'], as_index=False)['value'].agg(dict1)\n",
    "# table = pd.pivot_table(big_noCat, values='value', columns='label', index=['icustay_id'],aggfunc=max, dropna=False)\n",
    "# table\n",
    "\n",
    "# pd.pivot_table(df,index=[\"Manager\",\"Status\"],columns=[\"Product\"],values=[\"Quantity\",\"Price\"],\n",
    "#                aggfunc={\"Quantity\":len,\"Price\":np.sum},fill_value=0)"
   ]
  },
  {
   "cell_type": "code",
   "execution_count": 33,
   "metadata": {},
   "outputs": [
    {
     "name": "stdout",
     "output_type": "stream",
     "text": [
      "time: 1.15 ms\n"
     ]
    }
   ],
   "source": [
    "# #table = pivot_table(df, values=['D', 'E'], index=['A', 'C'],aggfunc={})\n",
    "# ##don't know why this doesn't work. \n",
    "# table = pd.pivot_table(big_noCat, values='value',columns='label', index='icustay_id',aggfunc=dict1, dropna=False)\n",
    "# table\n"
   ]
  },
  {
   "cell_type": "code",
   "execution_count": 34,
   "metadata": {},
   "outputs": [
    {
     "name": "stdout",
     "output_type": "stream",
     "text": [
      "time: 713 µs\n"
     ]
    }
   ],
   "source": [
    "# big_agg= big_df.loc[big_df.loc[:,'label'].isin(non_category),:].groupby(['icustay_id','label'], as_index=False)['value'].apply(lambda x: float(x))\n",
    "\n",
    "    #.agg({str(x):['max'] for x in hi_value})\n",
    "#big_agg_count= big_agg.reset_index().pivot(index='icustay_id',columns='label', values=0)#, levels='icustay_id')"
   ]
  },
  {
   "cell_type": "code",
   "execution_count": 35,
   "metadata": {},
   "outputs": [
    {
     "name": "stdout",
     "output_type": "stream",
     "text": [
      "time: 801 µs\n"
     ]
    }
   ],
   "source": [
    "# hi_df= big_df.loc[big_df.loc[:,'label'].isin(hi_value),:]\n",
    "# hi_df['value']=hi_df['value'].astype(float, copy=False)\n",
    "# hi_df.groupby(['icustay_id','label'], as_index=False)['value'].agg('max') #this works"
   ]
  },
  {
   "cell_type": "code",
   "execution_count": 36,
   "metadata": {},
   "outputs": [
    {
     "name": "stdout",
     "output_type": "stream",
     "text": [
      "time: 673 µs\n"
     ]
    }
   ],
   "source": [
    "# %whos\n",
    "\n",
    "# del big_agg\n",
    "# del hi_df\n",
    "# del final_pt_df2"
   ]
  },
  {
   "cell_type": "code",
   "execution_count": null,
   "metadata": {},
   "outputs": [],
   "source": []
  },
  {
   "cell_type": "code",
   "execution_count": null,
   "metadata": {},
   "outputs": [],
   "source": []
  },
  {
   "cell_type": "code",
   "execution_count": null,
   "metadata": {},
   "outputs": [],
   "source": []
  }
 ],
 "metadata": {
  "kernelspec": {
   "display_name": "Python 3",
   "language": "python",
   "name": "python3"
  },
  "language_info": {
   "codemirror_mode": {
    "name": "ipython",
    "version": 3
   },
   "file_extension": ".py",
   "mimetype": "text/x-python",
   "name": "python",
   "nbconvert_exporter": "python",
   "pygments_lexer": "ipython3",
   "version": "3.6.4"
  }
 },
 "nbformat": 4,
 "nbformat_minor": 2
}
