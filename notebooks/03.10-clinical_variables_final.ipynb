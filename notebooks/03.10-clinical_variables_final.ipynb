{
 "cells": [
  {
   "cell_type": "markdown",
   "metadata": {},
   "source": [
    "## clinical variable retrieval codebase.\n",
    "each querey is referencing a sql querey linked in my github for ALL patients in the database, then generating a dataframe, then paring that dataframe down to only the patients/icustay_id in our cohort. \n",
    "* 5-16-19 heavily streamlined, can now change global variables at top of page which will correspond to all variables. added all code into functions and made a composite function to run each variable. \n",
    "* each variable is also deleted to reduce rolling memory usage"
   ]
  },
  {
   "cell_type": "code",
   "execution_count": 1,
   "metadata": {},
   "outputs": [],
   "source": [
    "#7-15-18\n",
    "#the final version of this notebook seeks to accomplish a few tasks:\n",
    "#organize and standardize all sql code so that i am running a .sql file rather than typing sql code into jupyter\n",
    "#change all filepaths to match the github linked directory to ensure better version control\n",
    "#extract all of the structured clinical variables we need for our project\n",
    "\n",
    "\n",
    "##1/28/19: updated final version to be more generalizable and adjustable for the datewindow. \n",
    "##could be cleaned up as some variabls are time-windowed in line and some are time windowed at the end, but all is accounted for and cleaned up and optimized."
   ]
  },
  {
   "cell_type": "code",
   "execution_count": 1,
   "metadata": {},
   "outputs": [
    {
     "name": "stderr",
     "output_type": "stream",
     "text": [
      "/Users/geickelb1/anaconda/envs/rpy-env/lib/python3.6/site-packages/ipykernel_launcher.py:19: DeprecationWarning: The 'cachedir' parameter has been deprecated in version 0.12 and will be removed in version 0.14.\n",
      "You provided \"cachedir='/tmp'\", use \"location='/tmp'\" instead.\n"
     ]
    }
   ],
   "source": [
    "import requests\n",
    "import numpy as np\n",
    "import pandas as pd\n",
    "import matplotlib.pyplot as plt\n",
    "import psycopg2\n",
    "import collections\n",
    "import asyncio\n",
    "import getpass\n",
    "import re\n",
    "from datetime import datetime as dt\n",
    "import os,sys,re\n",
    "import urllib3\n",
    "import prettytable\n",
    "from collections import Counter\n",
    "import seaborn as sns\n",
    "import random\n",
    "\n",
    "from sklearn.externals.joblib import Memory\n",
    "memory = Memory(cachedir='/tmp', verbose=0)\n",
    "#@memory.cache above any def fxn.\n",
    "\n",
    "%matplotlib inline\n",
    "plt.style.use('ggplot')\n",
    "\n",
    "from notebook.services.config import ConfigManager\n",
    "cm = ConfigManager()\n",
    "cm.update('livereveal', {\n",
    "        'width': 1024,\n",
    "        'height': 768,\n",
    "        'scroll': True,\n",
    "})\n",
    "\n",
    "%load_ext autotime"
   ]
  },
  {
   "cell_type": "code",
   "execution_count": 2,
   "metadata": {},
   "outputs": [
    {
     "name": "stdout",
     "output_type": "stream",
     "text": [
      "time: 1.59 ms\n"
     ]
    }
   ],
   "source": [
    "from pathlib import Path\n",
    "os.chdir('/Users/geickelb1/Documents/GitHub/mimiciii-antibiotics-modeling') #use to change working directory\n",
    "wd= os.getcwd() #'/Users/geickelb1/Documents/GitHub/mimiciii-antibiotics-modeling'\n"
   ]
  },
  {
   "cell_type": "code",
   "execution_count": 27,
   "metadata": {},
   "outputs": [
    {
     "name": "stdout",
     "output_type": "stream",
     "text": [
      "time: 140 ms\n"
     ]
    }
   ],
   "source": [
    "#patients of interest from rotation_cohort_generation\n",
    "\n",
    "final_pt_df2 = pd.read_csv('/Users/geickelb1/Documents/GitHub/mimiciii-antibiotics-modeling/data/raw/csv/04042019_final_pt_df2.csv', index_col=0)\n",
    "\n",
    "patients= list(final_pt_df2['subject_id'].unique())\n",
    "hadm_id= list(final_pt_df2['hadm_id'].unique())\n",
    "icustay_id= list(final_pt_df2['icustay_id'].unique())\n",
    "icustay_id= [int(x) for x in icustay_id]"
   ]
  },
  {
   "cell_type": "markdown",
   "metadata": {},
   "source": [
    "## Access MIMIC database and convert it to dataframe in Pandas"
   ]
  },
  {
   "cell_type": "code",
   "execution_count": 122,
   "metadata": {},
   "outputs": [
    {
     "name": "stdin",
     "output_type": "stream",
     "text": [
      "Password: ·····\n"
     ]
    },
    {
     "name": "stdout",
     "output_type": "stream",
     "text": [
      "time: 2.57 s\n"
     ]
    }
   ],
   "source": [
    "import psycopg2\n",
    "conn = psycopg2.connect(dbname=\"mimic\", user=\"student\", host=\"luolabwkstn01.fsm.northwestern.edu\", port=\"5432\",\n",
    "                        password=getpass.getpass(prompt='Password:'.format()))\n",
    "cur=conn.cursor()\n",
    "\n",
    "query_schema = 'SET search_path to ' + \"mimiciii\" + ';'"
   ]
  },
  {
   "cell_type": "code",
   "execution_count": 5,
   "metadata": {},
   "outputs": [
    {
     "name": "stdout",
     "output_type": "stream",
     "text": [
      "time: 45.9 ms\n"
     ]
    }
   ],
   "source": [
    "#input the sql_exe_show object and get dataframe for only patients in patient list out. \n",
    "def sql_exe_show(sql_sentence):\n",
    "    cur.execute(sql_sentence)\n",
    "    rows = cur.fetchall()\n",
    "    col = []\n",
    "    for i in range(len(cur.description)):\n",
    "        col.append(cur.description[i][0])\n",
    "    table = pd.DataFrame(rows,columns=col)\n",
    "    return table\n",
    "\n",
    "def sql_to_df_icu(sql_exe_show_obj):\n",
    "    sql_exe_show_df= pd.DataFrame(data=sql_exe_show_obj)\n",
    "    sql_exe_show_df=sql_exe_show_df[sql_exe_show_df['icustay_id'].isin(icustay_id)]\n",
    "    return sql_exe_show_df\n",
    "\n",
    "def sql_to_df_patients(sql_exe_show_obj):\n",
    "    sql_exe_show_df= pd.DataFrame(data=sql_exe_show_obj)\n",
    "    sql_exe_show_df=sql_exe_show_df[sql_exe_show_df['subject_id'].isin(patients)]\n",
    "    return sql_exe_show_df\n",
    "\n",
    "def sql_to_df_hadm(sql_exe_show_obj):\n",
    "    sql_exe_show_df= pd.DataFrame(data=sql_exe_show_obj)\n",
    "    sql_exe_show_df=sql_exe_show_df[sql_exe_show_df['hadm_id'].isin(hadm_id)]\n",
    "    return sql_exe_show_df\n",
    "\n",
    "def clinvar_fxn(var_name, path):\n",
    "    f= open(path, 'r')\n",
    "    var = f.read()\n",
    "    cur.execute('rollback')\n",
    "    cur.execute(var)\n",
    "    try:\n",
    "        df= sql_to_df_icu(sql_exe_show('select * from %s;' %(var_name)))\n",
    "    except KeyError or NameError:\n",
    "        try:      \n",
    "            df= sql_to_df_hadm(sql_exe_show('select * from %s;' %(var_name)))\n",
    "        except KeyError or NameError:\n",
    "            df= sql_to_df_patients(sql_exe_show('select * from %s;' %(var_name)))\n",
    "\n",
    "    print(df.shape)\n",
    "    return(df)\n"
   ]
  },
  {
   "cell_type": "markdown",
   "metadata": {},
   "source": [
    "# extracting clinical data for our patients\n",
    "## IMPORTANT, USE THIS TO TUNE TIMEWINDOW OF EXTRACTION AND FOLDER TO SAVE IN"
   ]
  },
  {
   "cell_type": "code",
   "execution_count": 39,
   "metadata": {},
   "outputs": [
    {
     "name": "stdout",
     "output_type": "stream",
     "text": [
      "time: 9.38 ms\n"
     ]
    }
   ],
   "source": [
    "lower_window=0\n",
    "upper_window=2\n",
    "time_var=\"t_0\"\n",
    "folder=\"48_hr_window\"\n",
    "date='16052019'\n",
    "\n",
    "time_col=\"charttime\"\n",
    "time_var= 't_0'\n",
    "patient_df= final_pt_df2\n",
    "\n",
    "# def filter_subset_save(df):\n",
    "#     def time_window_filter(df, final_pt_df2,timecol,upper_window, lower_window, time_var='t_0'):\n",
    "#     global lower_window, upper_window, time_var, timecol, time_var\n",
    "#     vitals_all_nosummary_72 = time_window_filter(vitals_all_nosummary_df, final_pt_df2, \"charttime\",time_var=time_var, lower_window=lower_window, upper_window=upper_window)\n",
    "\n",
    "\n",
    "# date='04042019'\n",
    "# lower_window=0\n",
    "# upper_window=3\n",
    "# time_var=\"t_0\"\n",
    "# folder=\"72_hr_window\"\n"
   ]
  },
  {
   "cell_type": "code",
   "execution_count": 8,
   "metadata": {},
   "outputs": [
    {
     "name": "stdout",
     "output_type": "stream",
     "text": [
      "time: 449 µs\n"
     ]
    }
   ],
   "source": [
    "###### PIPELINE BELOW #######"
   ]
  },
  {
   "cell_type": "markdown",
   "metadata": {},
   "source": [
    "# rearranging pipeline so it can \n",
    "* extract vitals first, then will limit patients to those with appropriate vitals going forward. \n",
    "* save and delete after extracting to reduce unnescessary memory load\n",
    "\n",
    "### for all variables:\n",
    "* extract variable for only patients in minimum vitals list (will  be new final_pt_df)\n",
    "* "
   ]
  },
  {
   "cell_type": "code",
   "execution_count": null,
   "metadata": {},
   "outputs": [],
   "source": []
  },
  {
   "cell_type": "markdown",
   "metadata": {},
   "source": [
    "# important functions"
   ]
  },
  {
   "cell_type": "code",
   "execution_count": 19,
   "metadata": {},
   "outputs": [
    {
     "name": "stdout",
     "output_type": "stream",
     "text": [
      "time: 23.8 ms\n"
     ]
    }
   ],
   "source": [
    "def time_window_filter(df, final_pt_df2,timecol,upper_window, lower_window, time_var='t_0'):\n",
    "    \"\"\"\n",
    "    will take in any df and filter to only values between lower_window and upper_window. \n",
    "    \"\"\"\n",
    "    #global upper_window, lower_window \n",
    "    \n",
    "    try:\n",
    "        df= pd.merge(df, final_pt_df2[['icustay_id',time_var]], left_on= 'icustay_id', right_on = 'icustay_id') #n=240317\n",
    "        df['delta']= pd.to_datetime(df[timecol]) - pd.to_datetime(df[time_var])\n",
    "        df_after_t0= df.loc[df.loc[:,'delta']>= pd.Timedelta(days=lower_window),:]\n",
    "        df_after_t0= df_after_t0.loc[df_after_t0.loc[:,'delta']<= pd.Timedelta(days=upper_window),:]\n",
    "    except KeyError or NameError:\n",
    "        df= pd.merge(df, final_pt_df2[['hadm_id',time_var]], left_on= 'hadm_id', right_on = 'hadm_id') #n=240317\n",
    "        df['delta']= pd.to_datetime(df[timecol]) - pd.to_datetime(df[time_var])\n",
    "        df_after_t0= df.loc[df.loc[:,'delta']>= pd.Timedelta(days=lower_window),:]\n",
    "        df_after_t0= df_after_t0.loc[df_after_t0.loc[:,'delta']<= pd.Timedelta(days=upper_window),:]\n",
    "    return(df_after_t0)"
   ]
  },
  {
   "cell_type": "code",
   "execution_count": null,
   "metadata": {},
   "outputs": [],
   "source": []
  },
  {
   "cell_type": "markdown",
   "metadata": {},
   "source": [
    "## Vital Sign"
   ]
  },
  {
   "cell_type": "code",
   "execution_count": 7,
   "metadata": {
    "scrolled": true
   },
   "outputs": [
    {
     "name": "stdout",
     "output_type": "stream",
     "text": [
      "(14609367, 7)\n",
      "time: 14min 11s\n"
     ]
    }
   ],
   "source": [
    "##-- This query pivots the vital signs for the first 24 hours of a patient's stay\n",
    "##-- Vital signs include heart rate, blood pressure, respiration rate, and temperature\n",
    "\n",
    "vitals_all_nosummary_df= clinvar_fxn(\n",
    "    'vitals_all_nosummary',\n",
    "    '/Users/geickelb1/Documents/GitHub/mimiciii-antibiotics-modeling/data/raw/clinical_var_sql/all/no_summary/vitals_all_nosummary.sql' \n",
    ")"
   ]
  },
  {
   "cell_type": "code",
   "execution_count": 8,
   "metadata": {},
   "outputs": [
    {
     "data": {
      "text/html": [
       "<div>\n",
       "<style scoped>\n",
       "    .dataframe tbody tr th:only-of-type {\n",
       "        vertical-align: middle;\n",
       "    }\n",
       "\n",
       "    .dataframe tbody tr th {\n",
       "        vertical-align: top;\n",
       "    }\n",
       "\n",
       "    .dataframe thead th {\n",
       "        text-align: right;\n",
       "    }\n",
       "</style>\n",
       "<table border=\"1\" class=\"dataframe\">\n",
       "  <thead>\n",
       "    <tr style=\"text-align: right;\">\n",
       "      <th></th>\n",
       "      <th>subject_id</th>\n",
       "      <th>hadm_id</th>\n",
       "      <th>icustay_id</th>\n",
       "      <th>charttime</th>\n",
       "      <th>valueuom</th>\n",
       "      <th>vitalid</th>\n",
       "      <th>valuenum</th>\n",
       "    </tr>\n",
       "  </thead>\n",
       "  <tbody>\n",
       "    <tr>\n",
       "      <th>3</th>\n",
       "      <td>9</td>\n",
       "      <td>150750</td>\n",
       "      <td>220597</td>\n",
       "      <td>2149-11-11 00:00:00</td>\n",
       "      <td>mmHg</td>\n",
       "      <td>MeanArtPress</td>\n",
       "      <td>81.0</td>\n",
       "    </tr>\n",
       "    <tr>\n",
       "      <th>4</th>\n",
       "      <td>9</td>\n",
       "      <td>150750</td>\n",
       "      <td>220597</td>\n",
       "      <td>2149-11-11 19:00:00</td>\n",
       "      <td>mmHg</td>\n",
       "      <td>MeanArtPress</td>\n",
       "      <td>72.0</td>\n",
       "    </tr>\n",
       "    <tr>\n",
       "      <th>5</th>\n",
       "      <td>9</td>\n",
       "      <td>150750</td>\n",
       "      <td>220597</td>\n",
       "      <td>2149-11-11 19:45:00</td>\n",
       "      <td>mmHg</td>\n",
       "      <td>MeanArtPress</td>\n",
       "      <td>76.0</td>\n",
       "    </tr>\n",
       "    <tr>\n",
       "      <th>6</th>\n",
       "      <td>9</td>\n",
       "      <td>150750</td>\n",
       "      <td>220597</td>\n",
       "      <td>2149-11-11 20:00:00</td>\n",
       "      <td>mmHg</td>\n",
       "      <td>MeanArtPress</td>\n",
       "      <td>99.0</td>\n",
       "    </tr>\n",
       "    <tr>\n",
       "      <th>17</th>\n",
       "      <td>25</td>\n",
       "      <td>129635</td>\n",
       "      <td>203487</td>\n",
       "      <td>2160-11-02 15:00:00</td>\n",
       "      <td>mmHg</td>\n",
       "      <td>MeanArtPress</td>\n",
       "      <td>82.0</td>\n",
       "    </tr>\n",
       "  </tbody>\n",
       "</table>\n",
       "</div>"
      ],
      "text/plain": [
       "    subject_id  hadm_id  icustay_id           charttime valueuom  \\\n",
       "3            9   150750      220597 2149-11-11 00:00:00     mmHg   \n",
       "4            9   150750      220597 2149-11-11 19:00:00     mmHg   \n",
       "5            9   150750      220597 2149-11-11 19:45:00     mmHg   \n",
       "6            9   150750      220597 2149-11-11 20:00:00     mmHg   \n",
       "17          25   129635      203487 2160-11-02 15:00:00     mmHg   \n",
       "\n",
       "         vitalid  valuenum  \n",
       "3   MeanArtPress      81.0  \n",
       "4   MeanArtPress      72.0  \n",
       "5   MeanArtPress      76.0  \n",
       "6   MeanArtPress      99.0  \n",
       "17  MeanArtPress      82.0  "
      ]
     },
     "execution_count": 8,
     "metadata": {},
     "output_type": "execute_result"
    },
    {
     "name": "stdout",
     "output_type": "stream",
     "text": [
      "time: 186 ms\n"
     ]
    }
   ],
   "source": [
    "vitals_all_nosummary_df.head()"
   ]
  },
  {
   "cell_type": "code",
   "execution_count": null,
   "metadata": {},
   "outputs": [],
   "source": []
  },
  {
   "cell_type": "markdown",
   "metadata": {},
   "source": [
    "# filtering to patients with bare minimum vital numbers\n",
    "06.1-QC_and_missingness found that 3% or so of patients don't have baseline vitals counts. this is filtering the patients to only those who have this baseline value.\n",
    "\n",
    "as of 10/12/18, this code has not been implemented in here and is performed after importing. (updated below to be self contained in 1/28/19)"
   ]
  },
  {
   "cell_type": "code",
   "execution_count": null,
   "metadata": {},
   "outputs": [],
   "source": [
    "#using origional criteria to find pts who have atleast 1 spo2 reading within 3 days of t_0\n",
    "\n",
    "#The idea is that this should be the bare minimum amount of data for a patient, and without it, it's likely the physicians did not suspect an infection in these patients. \n",
    "##NOTE: this should not change when the clinical timewindow of analysis interest changes. \n",
    "\n",
    "\n",
    "vitals_filter = time_window_filter(vitals_all_nosummary_df, final_pt_df2, \"charttime\",time_var='t_0', lower_window=0,upper_window=3 )\n",
    "\n",
    "vitals_filter= vitals_filter.loc[\n",
    "    vitals_filter['vitalid'].notnull(),:]#.count() #6930 NULL values\n",
    "\n",
    "icustay_id_vitals = (vitals_filter.loc[\n",
    "    vitals_filter.loc[:,'vitalid']=='SpO2','icustay_id'\n",
    "        ].unique())\n",
    "\n",
    "len(icustay_id) #8731\n",
    "len(icustay_id_vitals) #8629\n",
    "subject_id_vitals=list(final_pt_df2.loc[final_pt_df2.loc[:,'icustay_id'].isin(icustay_id_vitals),'subject_id'])\n",
    "hadm_id_vitals= list(final_pt_df2.loc[final_pt_df2.loc[:,'icustay_id'].isin(icustay_id_vitals),'hadm_id'])\n",
    "icustay_id_vitals= list(final_pt_df2.loc[final_pt_df2.loc[:,'icustay_id'].isin(icustay_id_vitals),'icustay_id'])\n",
    "del(vitals_filter)\n",
    "\n",
    "##saving the patient database and reassigning patient set to the patient set with minimum vitals\n",
    "final_pt_df2_v=final_pt_df2.loc[final_pt_df2.loc[:,'icustay_id'].isin(icustay_id_vitals),:]\n",
    "pd.DataFrame(final_pt_df2_v).to_csv(\"/Users/geickelb1/Documents/GitHub/mimiciii-antibiotics-modeling/data/raw/csv/%s_final_pt_df2_v.csv\" %date) #final cohort database n=11493 subject_id’s (7/6/18)\n",
    "final_pt_df2=final_pt_df2_v.copy()\n"
   ]
  },
  {
   "cell_type": "markdown",
   "metadata": {},
   "source": [
    "## filtering, subset, and composite functions to be used for the rest of the notebook"
   ]
  },
  {
   "cell_type": "code",
   "execution_count": 33,
   "metadata": {},
   "outputs": [
    {
     "name": "stdout",
     "output_type": "stream",
     "text": [
      "time: 7.59 ms\n"
     ]
    }
   ],
   "source": [
    "def df_subset(df):\n",
    "    \"\"\"\n",
    "    was origionally how I was ensuring all df were on the minimum vitals cohort, but now this may not be needed since i reassigned the final_pt_df2 as the minimum vitals cohort.\n",
    "    \"\"\"\n",
    "    \n",
    "    try:\n",
    "        df = df.loc[df.loc[:,'icustay_id'].isin(icustay_id_vitals),:]\n",
    "    except KeyError or NameError:\n",
    "        try:\n",
    "            df = df.loc[df.loc[:,'hadm_id'].isin(hadm_id_vitals),:]\n",
    "        except KeyError or NameError:\n",
    "            df = df.loc[df.loc[:,'subject_id'].isin(subject_id_vitals),:]\n",
    "    return(df)"
   ]
  },
  {
   "cell_type": "code",
   "execution_count": 89,
   "metadata": {},
   "outputs": [
    {
     "name": "stdout",
     "output_type": "stream",
     "text": [
      "time: 33.9 ms\n"
     ]
    }
   ],
   "source": [
    "def filter_subset_save(df, savename=None, return_df=False, save=False, time_filter_override=False):\n",
    "    \n",
    "    \"\"\"\n",
    "    composite function, performs 1: time_window_filter() and 2:df_subset() to the input dataframe. this function links them together for simplifying code needed after each sql and formatting query. \n",
    "    return_df specifies if any output is spit out.\n",
    "    save specifies if the file will be saved with teh savename.\n",
    "    \n",
    "    fxn was created on 5/16/19 and validated against the normal pipeline.\n",
    "    \"\"\"\n",
    "    \n",
    "    global date,folder, patient_df,lower_window, upper_window, time_var, timecol, time_var\n",
    "    \n",
    "    if time_filter_override==False:\n",
    "        time_filtered= time_window_filter(df, patient_df, timecol=time_col ,time_var=time_var, lower_window=lower_window, upper_window=upper_window)\n",
    "    else:\n",
    "        time_filtered=df\n",
    "        \n",
    "    time_and_subseted= df_subset(time_filtered)\n",
    "    \n",
    "    if save==True:\n",
    "        os.chdir('/Users/geickelb1/Documents/GitHub/mimiciii-antibiotics-modeling')\n",
    "        if folder != None:\n",
    "             address=os.getcwd()+'/data/raw/csv/%s/'%(folder)\n",
    "        else:\n",
    "            address = os.getcwd()+'/data/raw/csv/'\n",
    "        if not os.path.exists(address):\n",
    "            print(address)\n",
    "            os.makedirs(address)\n",
    "            \n",
    "        pd.DataFrame(time_and_subseted).to_csv(address+'/%s_%s.csv' %(date, savename))       \n",
    "    else: pass\n",
    "\n",
    "    \n",
    "    if return_df==False:\n",
    "        del(df, time_filtered, time_and_subseted)\n",
    "    \n",
    "    else:\n",
    "        return(time_and_subseted)\n",
    "    "
   ]
  },
  {
   "cell_type": "code",
   "execution_count": 69,
   "metadata": {},
   "outputs": [
    {
     "name": "stdout",
     "output_type": "stream",
     "text": [
      "time: 2min 30s\n"
     ]
    }
   ],
   "source": [
    "filter_subset_save(vitals_all_nosummary_df, savename=\"vitals_all_nosummary\", save=True, return_df=False)\n",
    "del(vitals_all_nosummary_df)"
   ]
  },
  {
   "cell_type": "markdown",
   "metadata": {},
   "source": [
    "# demographics"
   ]
  },
  {
   "cell_type": "code",
   "execution_count": 9,
   "metadata": {},
   "outputs": [
    {
     "name": "stdout",
     "output_type": "stream",
     "text": [
      "time: 639 ms\n"
     ]
    }
   ],
   "source": [
    "#gender & race\n",
    "\n",
    "pt_info_sql = query_schema + \"\"\"\n",
    "SELECT SUBJECT_ID, INSURANCE, LANGUAGE, RELIGION, MARITAL_STATUS, ETHNICITY\n",
    "from mimiciii.admissions\n",
    "ORDER BY subject_id DESC\n",
    "\"\"\"\n",
    "\n",
    "pt_info_df=pd.read_sql_query(pt_info_sql,conn) #361711 patients with sterile culture -> 374643 with addn of bal and broncho... 7/16/18\n"
   ]
  },
  {
   "cell_type": "code",
   "execution_count": 83,
   "metadata": {},
   "outputs": [
    {
     "name": "stdout",
     "output_type": "stream",
     "text": [
      "time: 118 ms\n"
     ]
    }
   ],
   "source": [
    "def demographics():\n",
    "    \"\"\"\n",
    "    wrapping demographics code into a fxn. basically combines ethinicity, age, gender and race into one df. \n",
    "    note: age is read from a csv, and i need to look back at where the csv comes from (i believe it's from cohort selection in pipeline). \n",
    "    \"\"\"\n",
    "    global final_pt_df2\n",
    "    pt_info_sql = query_schema + \"\"\"\n",
    "    SELECT SUBJECT_ID, INSURANCE, LANGUAGE, RELIGION, MARITAL_STATUS, ETHNICITY\n",
    "    from mimiciii.admissions\n",
    "    ORDER BY subject_id DESC\n",
    "    \"\"\"\n",
    "\n",
    "    pt_info_df=pd.read_sql_query(pt_info_sql,conn) #361711 patients with sterile culture -> 374643 with addn of bal and broncho... 7/16/18\n",
    "    \n",
    "    ethnicity_df=(pt_info_df.loc[\n",
    "    pt_info_df.loc[:,\"subject_id\"].isin(\n",
    "        final_pt_df2['subject_id'].tolist()),:]).drop_duplicates(['subject_id','ethnicity'])\n",
    "    ethnicity_df= ethnicity_df[['subject_id','ethnicity']].sort_values('ethnicity', ascending=False).groupby('subject_id', as_index=False).first()\n",
    "    \n",
    "    #gender\n",
    "    pt_info_sql = query_schema + \"\"\"\n",
    "    SELECT SUBJECT_ID, GENDER\n",
    "    from mimiciii.patients\n",
    "    ORDER BY subject_id DESC\n",
    "    \"\"\"\n",
    "    #admissions\n",
    "    # \n",
    "\n",
    "    pt_info_df=pd.read_sql_query(pt_info_sql,conn) #361711 patients with sterile culture -> 374643 with addn of bal and broncho... 7/16/18\n",
    "    \n",
    "    #combining gender, race\n",
    "    pt_info_df=(pt_info_df.loc[\n",
    "        pt_info_df.loc[:,\"subject_id\"].isin(\n",
    "            final_pt_df2['subject_id'].tolist()),:]).drop_duplicates(['subject_id','gender'])\n",
    "    pt_info_df= pd.merge(ethnicity_df, pt_info_df)\n",
    "    \n",
    "    #age- read from csv. \n",
    "    age_df= pd.read_csv(Path(wd+'/data/processed/22112018_pt_age.csv'))\n",
    "    age_df=(age_df.loc[\n",
    "        age_df.loc[:,\"hadm_id\"].isin(\n",
    "            hadm_id),:])\n",
    "\n",
    "    #combining age, gender and race. \n",
    "    age_df=pd.merge(age_df, final_pt_df2[['hadm_id','icustay_id','t_0']])\n",
    "    age_df=pd.merge(age_df[['subject_id','icustay_id','first_admit_age','t_0']],pt_info_df)\n",
    "\n",
    "    age_df[age_df['first_admit_age']>89]['first_admit_age']=90\n",
    "    \n",
    "    age_df=pd.melt(age_df, id_vars=['icustay_id','subject_id','t_0'])\n",
    "    age_df=age_df.rename(index=str, columns={'variable':'label'})\n",
    "\n",
    "    age_df['delta']=pd.to_timedelta('0 days')\n",
    "    age_df['uom']=\"N/A\"\n",
    "    age_df.loc[age_df.loc[:,'label']=='first_admit_age','uom']='years'\n",
    "\n",
    "    age_df= age_df.loc[age_df.loc[:,\"icustay_id\"].isin(icustay_id),:]\n",
    "\n",
    "    ###using regular expressions to reduce the # of ethinicities\n",
    "    age_df.loc[(age_df.loc[:,\"label\"]=='ethnicity') & (age_df.loc[:,\"value\"].str.contains(r'.*?BLACK')),'value']=\"black\"\n",
    "    age_df.loc[(age_df.loc[:,\"label\"]=='ethnicity') & (age_df.loc[:,\"value\"].str.contains(r'.*?HISPANIC|PORTUGUESE')),'value']=\"hispanic\"\n",
    "    age_df.loc[(age_df.loc[:,\"label\"]=='ethnicity') & (age_df.loc[:,\"value\"].str.contains(r'.*?WHITE')),'value']=\"white/nonhispanic\"\n",
    "    age_df.loc[(age_df.loc[:,\"label\"]=='ethnicity') & (age_df.loc[:,\"value\"].str.contains(r'.*?ASIAN')),'value']='asian'\n",
    "    age_df.loc[(age_df.loc[:,\"label\"]=='ethnicity') & (age_df.loc[:,\"value\"].str.contains(r'(UNKNOWN|MULTI|UNABLE|DECLINE|OTHER)')),'value']='unknown/other'\n",
    "    age_df.loc[(age_df.loc[:,\"label\"]=='ethnicity') & (age_df.loc[:,\"value\"].str.contains(r'[AZ]+')),'value']=\"unknown/other\" #lumping all other low n values into other\n",
    "\n",
    "    #age_df.loc[age_df.loc[:,\"label\"]=='ethnicity','value'].value_counts()\n",
    "    return(age_df)\n",
    "\n"
   ]
  },
  {
   "cell_type": "code",
   "execution_count": 84,
   "metadata": {},
   "outputs": [
    {
     "name": "stderr",
     "output_type": "stream",
     "text": [
      "/Users/geickelb1/anaconda/envs/rpy-env/lib/python3.6/site-packages/ipykernel_launcher.py:43: SettingWithCopyWarning: \n",
      "A value is trying to be set on a copy of a slice from a DataFrame.\n",
      "Try using .loc[row_indexer,col_indexer] = value instead\n",
      "\n",
      "See the caveats in the documentation: http://pandas.pydata.org/pandas-docs/stable/indexing.html#indexing-view-versus-copy\n"
     ]
    },
    {
     "name": "stdout",
     "output_type": "stream",
     "text": [
      "time: 51 s\n"
     ]
    },
    {
     "name": "stderr",
     "output_type": "stream",
     "text": [
      "/Users/geickelb1/anaconda/envs/rpy-env/lib/python3.6/site-packages/ipykernel_launcher.py:59: UserWarning: This pattern has match groups. To actually get the groups, use str.extract.\n"
     ]
    }
   ],
   "source": [
    "age_df= demographics()"
   ]
  },
  {
   "cell_type": "code",
   "execution_count": 90,
   "metadata": {},
   "outputs": [
    {
     "name": "stdout",
     "output_type": "stream",
     "text": [
      "time: 777 ms\n"
     ]
    }
   ],
   "source": [
    "filter_subset_save(age_df, savename=\"pt_info\", save=True, return_df=False, time_filter_override=True)\n",
    "del(age_df)"
   ]
  },
  {
   "cell_type": "markdown",
   "metadata": {},
   "source": [
    "## Echodata in Noteevents- sense removed"
   ]
  },
  {
   "cell_type": "code",
   "execution_count": 21,
   "metadata": {},
   "outputs": [
    {
     "name": "stdout",
     "output_type": "stream",
     "text": [
      "time: 1.12 ms\n"
     ]
    }
   ],
   "source": [
    "# echodata_df= clinvar_fxn(\n",
    "#     'echodata',\n",
    "#     '/Users/geickelb1/Documents/GitHub/mimiciii-antibiotics-modeling/data/raw/clinical_var_sql/all/echodata.sql' \n",
    "# )"
   ]
  },
  {
   "cell_type": "markdown",
   "metadata": {},
   "source": [
    "## Weight"
   ]
  },
  {
   "cell_type": "code",
   "execution_count": 92,
   "metadata": {
    "scrolled": true
   },
   "outputs": [
    {
     "name": "stdout",
     "output_type": "stream",
     "text": [
      "(14668, 6)\n",
      "time: 2.71 s\n"
     ]
    }
   ],
   "source": [
    "# -- This query extracts weights for adult ICU patients on their first ICU day.\n",
    "# -- It does *not* use any information after the first ICU day, as weight is\n",
    "# -- sometimes used to monitor fluid balance.\n",
    "\n",
    "weightfirstday_df= clinvar_fxn(\n",
    "    'weightfirstday',\n",
    "    '/Users/geickelb1/Documents/GitHub/mimiciii-antibiotics-modeling/data/raw/clinical_var_sql/all/weightfirstday.sql' \n",
    ")\n",
    "weightfirstday_df['uom']='kg'"
   ]
  },
  {
   "cell_type": "code",
   "execution_count": 95,
   "metadata": {},
   "outputs": [
    {
     "name": "stdout",
     "output_type": "stream",
     "text": [
      "time: 94.3 ms\n"
     ]
    }
   ],
   "source": [
    "filter_subset_save(weightfirstday_df, savename=\"weightfirstday\", save=True, return_df=False, time_filter_override=True)\n",
    "del(weightfirstday_df)"
   ]
  },
  {
   "cell_type": "markdown",
   "metadata": {},
   "source": [
    "## Height"
   ]
  },
  {
   "cell_type": "code",
   "execution_count": 97,
   "metadata": {
    "scrolled": true
   },
   "outputs": [
    {
     "name": "stdout",
     "output_type": "stream",
     "text": [
      "(14668, 4)\n",
      "time: 1.35 s\n"
     ]
    }
   ],
   "source": [
    "# -- This query extracts heights for adult ICU patients.\n",
    "# -- It uses all information from the patient's first ICU day.\n",
    "# -- This is done for consistency with other queries - it's not necessarily needed.\n",
    "# -- Height is unlikely to change throughout a patient's stay.\n",
    "heightfirstday_df= clinvar_fxn(\n",
    "    'heightfirstday',\n",
    "    '/Users/geickelb1/Documents/GitHub/mimiciii-antibiotics-modeling/data/raw/clinical_var_sql/all/heightfirstday.sql' \n",
    ")\n",
    "\n",
    "heightfirstday_df['uom']='cm'"
   ]
  },
  {
   "cell_type": "code",
   "execution_count": 98,
   "metadata": {},
   "outputs": [
    {
     "name": "stdout",
     "output_type": "stream",
     "text": [
      "time: 83.1 ms\n"
     ]
    }
   ],
   "source": [
    "filter_subset_save(heightfirstday_df, savename=\"heightfirstday\", save=True, return_df=False, time_filter_override=True)\n",
    "del(heightfirstday_df)"
   ]
  },
  {
   "cell_type": "markdown",
   "metadata": {},
   "source": [
    "# Labs"
   ]
  },
  {
   "cell_type": "code",
   "execution_count": 99,
   "metadata": {
    "scrolled": true
   },
   "outputs": [
    {
     "name": "stdout",
     "output_type": "stream",
     "text": [
      "(3267301, 6)\n",
      "time: 3min 4s\n"
     ]
    }
   ],
   "source": [
    "# -- This query pivots lab values for all patients, then filtered to those in my cohort.\n",
    "# -- Have already confirmed that the unit of measurement is always the same: null or the correct unit\n",
    "\n",
    "labs_all_nosummary_df= clinvar_fxn(\n",
    "    'labs_all_nosummary',\n",
    "    '/Users/geickelb1/Documents/GitHub/mimiciii-antibiotics-modeling/data/raw/clinical_var_sql/all/no_summary/labs_all_nosummary.sql' \n",
    ")"
   ]
  },
  {
   "cell_type": "code",
   "execution_count": 100,
   "metadata": {},
   "outputs": [
    {
     "name": "stdout",
     "output_type": "stream",
     "text": [
      "time: 35.6 ms\n"
     ]
    }
   ],
   "source": [
    "#importing unit of mesurements:\n",
    "def uom_sql_import(file_path):\n",
    "    if isinstance(file_path, str)== True:\n",
    "        f = open(Path(file_path), 'r')\n",
    "    else:\n",
    "        f = open(Path(str(file_path)), 'r')\n",
    "\n",
    "    SQL = open(file_path,'r').read()\n",
    "    SQL_df= pd.read_sql_query(SQL,conn)   \n",
    "    return(SQL_df)"
   ]
  },
  {
   "cell_type": "code",
   "execution_count": 101,
   "metadata": {},
   "outputs": [
    {
     "data": {
      "text/plain": [
       "count    192280.000000\n",
       "mean         11.847600\n",
       "std           8.971701\n",
       "min           0.090000\n",
       "25%           7.300000\n",
       "50%          10.300000\n",
       "75%          14.400000\n",
       "max         471.700000\n",
       "Name: valuenum, dtype: float64"
      ]
     },
     "execution_count": 101,
     "metadata": {},
     "output_type": "execute_result"
    },
    {
     "name": "stdout",
     "output_type": "stream",
     "text": [
      "time: 25 s\n"
     ]
    }
   ],
   "source": [
    "lab_uom= uom_sql_import(Path(wd+'/data/raw/clinical_var_sql/unit_of_mesurement/labs_uom.sql'))\n",
    "labs_all_nosummary_df = pd.merge(labs_all_nosummary_df, lab_uom, left_on='label', right_on='label')\n",
    "\n",
    "labs_all_nosummary_df[labs_all_nosummary_df['label']=='LYMPHO%']#.value_counts() #4-15-19: what is this, is this exploring absolute lymphocyte %?\n",
    "#labs_all_nosummary_df['label'].value_counts()\n",
    "\n",
    "labs_all_nosummary_df[labs_all_nosummary_df['label']=='WBC']['valuenum'].describe()\n",
    "#labs_all_nosummary_df[labs_all_nosummary_df['label']=='PLATELET']['valuenum'].describe()\n"
   ]
  },
  {
   "cell_type": "code",
   "execution_count": 102,
   "metadata": {},
   "outputs": [
    {
     "ename": "NameError",
     "evalue": "name 'labs_all_nosummary' is not defined",
     "output_type": "error",
     "traceback": [
      "\u001b[0;31m-----------------------------------------------------------------------\u001b[0m",
      "\u001b[0;31mNameError\u001b[0m                             Traceback (most recent call last)",
      "\u001b[0;32m<ipython-input-102-9d8b7860b09e>\u001b[0m in \u001b[0;36m<module>\u001b[0;34m()\u001b[0m\n\u001b[1;32m      1\u001b[0m \u001b[0mfilter_subset_save\u001b[0m\u001b[0;34m(\u001b[0m\u001b[0mlabs_all_nosummary_df\u001b[0m\u001b[0;34m,\u001b[0m \u001b[0msavename\u001b[0m\u001b[0;34m=\u001b[0m\u001b[0;34m\"labs_all_nosummary\"\u001b[0m\u001b[0;34m,\u001b[0m \u001b[0msave\u001b[0m\u001b[0;34m=\u001b[0m\u001b[0;32mTrue\u001b[0m\u001b[0;34m,\u001b[0m \u001b[0mreturn_df\u001b[0m\u001b[0;34m=\u001b[0m\u001b[0;32mFalse\u001b[0m\u001b[0;34m,\u001b[0m \u001b[0mtime_filter_override\u001b[0m\u001b[0;34m=\u001b[0m\u001b[0;32mFalse\u001b[0m\u001b[0;34m)\u001b[0m\u001b[0;34m\u001b[0m\u001b[0;34m\u001b[0m\u001b[0m\n\u001b[0;32m----> 2\u001b[0;31m \u001b[0;32mdel\u001b[0m\u001b[0;34m(\u001b[0m\u001b[0mlabs_all_nosummary\u001b[0m\u001b[0;34m)\u001b[0m\u001b[0;34m\u001b[0m\u001b[0;34m\u001b[0m\u001b[0m\n\u001b[0m\u001b[1;32m      3\u001b[0m \u001b[0;32mdel\u001b[0m\u001b[0;34m(\u001b[0m\u001b[0mlab_uom\u001b[0m\u001b[0;34m)\u001b[0m\u001b[0;34m\u001b[0m\u001b[0;34m\u001b[0m\u001b[0m\n",
      "\u001b[0;31mNameError\u001b[0m: name 'labs_all_nosummary' is not defined"
     ]
    },
    {
     "name": "stdout",
     "output_type": "stream",
     "text": [
      "time: 19.1 s\n"
     ]
    }
   ],
   "source": [
    "filter_subset_save(labs_all_nosummary_df, savename=\"labs_all_nosummary\", save=True, return_df=False, time_filter_override=False)\n",
    "del(labs_all_nosummary_df)\n",
    "del(lab_uom)"
   ]
  },
  {
   "cell_type": "markdown",
   "metadata": {},
   "source": [
    "## Glasgow Coma Scale"
   ]
  },
  {
   "cell_type": "code",
   "execution_count": 105,
   "metadata": {
    "scrolled": true
   },
   "outputs": [
    {
     "name": "stdout",
     "output_type": "stream",
     "text": [
      "(14668, 8)\n",
      "time: 56.8 s\n"
     ]
    }
   ],
   "source": [
    "##depreciated 08/28/18\n",
    "# gcsall_df= clinvar_fxn(\n",
    "#     'gcsall',\n",
    "#     '/Users/geickelb1/Documents/GitHub/mimiciii-antibiotics-modeling/data/raw/clinical_var_sql/all/gcsall.sql' \n",
    "# )"
   ]
  },
  {
   "cell_type": "code",
   "execution_count": 123,
   "metadata": {},
   "outputs": [
    {
     "name": "stdout",
     "output_type": "stream",
     "text": [
      "(14668, 9)\n",
      "time: 54.2 s\n"
     ]
    }
   ],
   "source": [
    "#modified on 8/28/18 to have the days annotation.\n",
    "##--8/28/18: added in epoch as days, in order to help determine btwn t_0 and 72 hour for pts.\n",
    "gcsall_days_df= clinvar_fxn(\n",
    "    'gcsall_days',\n",
    "    '/Users/geickelb1/Documents/GitHub/mimiciii-antibiotics-modeling/data/raw/clinical_var_sql/all/gcsall_days.sql' \n",
    ")"
   ]
  },
  {
   "cell_type": "code",
   "execution_count": 124,
   "metadata": {},
   "outputs": [
    {
     "name": "stdout",
     "output_type": "stream",
     "text": [
      "time: 23.6 ms\n"
     ]
    }
   ],
   "source": [
    "#adding in icu_admit time and filtereing time_var to time window.\n",
    "def gcs_72(gcsall_days_df,final_pt_df2, time_var='t_0', lower_window=0, upper_window=3):\n",
    "    \"\"\"\n",
    "    written a while back, aims to adding in icu_admit time and filtereing time_var to time window. will use this with time_filter_override=True in my filter_subset_save()\n",
    "    \"\"\"\n",
    "    \n",
    "    \n",
    "    ##merging gcsall_days_df with final_pt df in order to append on icustay_id, the time var, and ICU_admit\n",
    "    gcsall_days_df_merge= pd.merge(\n",
    "    gcsall_days_df,\n",
    "    final_pt_df2[['icustay_id','ICU_admit',time_var]],\n",
    "    left_on='icustay_id',\n",
    "    right_on='icustay_id')\n",
    "\n",
    "    gcsall_days_df_merge['day'] = gcsall_days_df_merge['day']-1 #putting the epoch days so that 0 = the first day\n",
    "    \n",
    "    #approximating the charttime of the time associated with each gcs score\n",
    "    gcsall_days_df_merge['approx_charttime']=pd.to_timedelta((gcsall_days_df_merge['day'])*24, unit='h') + pd.to_datetime(gcsall_days_df_merge['ICU_admit'])\n",
    "    \n",
    "    # day # + ICU_admission day.\n",
    "    gcsall_days_df_merge['admit_plus_day']= (\n",
    "        pd.to_datetime(gcsall_days_df_merge['ICU_admit'])\n",
    "        + pd.to_timedelta(gcsall_days_df_merge['day'], unit='D')\n",
    "    )\n",
    "    \n",
    "    #difference between the admission+epoch day - time_var.\n",
    "    gcsall_days_df_merge['delta']= (\n",
    "        pd.to_datetime(gcsall_days_df_merge['admit_plus_day']) - pd.to_datetime(gcsall_days_df_merge[time_var])\n",
    "    )\n",
    "    \n",
    "    #filtering day windows\n",
    "    gcsall_days_df_merge_72= (\n",
    "        gcsall_days_df_merge.loc[gcsall_days_df_merge.loc[:,'delta']>= pd.Timedelta(days=lower_window),:])\n",
    "    gcsall_days_df_merge_72= (\n",
    "        gcsall_days_df_merge_72.loc[gcsall_days_df_merge_72.loc[:,'delta']<= pd.Timedelta(days=upper_window),:])\n",
    "    return(gcsall_days_df_merge_72)"
   ]
  },
  {
   "cell_type": "code",
   "execution_count": 125,
   "metadata": {},
   "outputs": [
    {
     "name": "stdout",
     "output_type": "stream",
     "text": [
      "time: 109 ms\n"
     ]
    }
   ],
   "source": [
    "gcs72_df = gcs_72(gcsall_days_df,final_pt_df2, time_var=time_var, lower_window=lower_window,upper_window=upper_window )\n",
    "gcs72_df['uom']='GCS_score' #adding in uom\n"
   ]
  },
  {
   "cell_type": "code",
   "execution_count": 126,
   "metadata": {},
   "outputs": [
    {
     "name": "stdout",
     "output_type": "stream",
     "text": [
      "time: 171 ms\n"
     ]
    }
   ],
   "source": [
    "filter_subset_save(gcs72_df, savename=\"gcs\", save=True, return_df=False, time_filter_override=True)\n",
    "del(gcs72_df)"
   ]
  },
  {
   "cell_type": "markdown",
   "metadata": {},
   "source": [
    "## Renal replacement therapy"
   ]
  },
  {
   "cell_type": "markdown",
   "metadata": {},
   "source": [
    "the sql code for this was not equipped to join all of the charttimes together. so i decided to do it in python below.\n",
    "the rrt_all_df code above was only a 1 or 0 if patient had RRT during their entire icu stay. \n",
    "\n",
    "- step 1: run all sql codes\n",
    "- 2: filter on only the t_0 to t_72 hour rows\n",
    "- 3: filter on the 1223 patients who have a positive value\n",
    "- 4: get the earliest incidence of rrt for each 1223 patients. "
   ]
  },
  {
   "cell_type": "code",
   "execution_count": 118,
   "metadata": {},
   "outputs": [
    {
     "name": "stdout",
     "output_type": "stream",
     "text": [
      "time: 196 ms\n"
     ]
    }
   ],
   "source": [
    "def rrt_runmerge():\n",
    "    \"\"\"\n",
    "    wrapping a lot of scripting into a function. grabs the 5 different rrt datas, filters them to timewindow, and merges them into 1 dataframe.\n",
    "    \"\"\"\n",
    "    global date,folder, patient_df,lower_window, upper_window, time_var, time_var, time_col\n",
    "    \n",
    "    ###5 sql queries to grab raw data\n",
    "    \n",
    "    #mv_ce\n",
    "    f = open('/Users/geickelb1/Documents/GitHub/mimiciii-antibiotics-modeling/data/raw/clinical_var_sql/all/no_summary/rtt_mv_ce.sql', 'r')\n",
    "    rrtSQL_mv_ce = f.read()\n",
    "    rrtSQL_mv_ce_sql = query_schema + rrtSQL_mv_ce.format(tuple(patients))\n",
    "    rrtSQL_mv_ce_df=pd.read_sql_query(rrtSQL_mv_ce_sql,conn)    \n",
    "    #cv\n",
    "    f = open('/Users/geickelb1/Documents/GitHub/mimiciii-antibiotics-modeling/data/raw/clinical_var_sql/all/no_summary/rtt_cv.sql', 'r')\n",
    "    rrtSQL_cv = f.read()\n",
    "    rrtSQL_cv_sql = query_schema + rrtSQL_cv.format(tuple(patients))\n",
    "    rrtSQL_cv_df=pd.read_sql_query(rrtSQL_cv_sql,conn)          \n",
    "    #mv_ie\n",
    "    f = open('/Users/geickelb1/Documents/GitHub/mimiciii-antibiotics-modeling/data/raw/clinical_var_sql/all/no_summary/rtt_mv_ie.sql', 'r')\n",
    "    rrtSQL_mv_ie = f.read()\n",
    "    rrtSQL_mv_ie_sql = query_schema + rrtSQL_mv_ie.format(tuple(patients))\n",
    "    rrtSQL_mv_ie_df=pd.read_sql_query(rrtSQL_mv_ie_sql,conn)      \n",
    "    rrtSQL_mv_ie_df['charttime']= rrtSQL_mv_ie_df['starttime']\n",
    "    rrtSQL_mv_ie_df=rrtSQL_mv_ie_df.drop('starttime', axis=1)\n",
    "    #mv_de\n",
    "    f = open('/Users/geickelb1/Documents/GitHub/mimiciii-antibiotics-modeling/data/raw/clinical_var_sql/all/no_summary/rtt_mv_de.sql', 'r')\n",
    "    rrtSQL_mv_de = f.read()\n",
    "    rrtSQL_mv_de_sql = query_schema + rrtSQL_mv_de.format(tuple(patients))\n",
    "    rrtSQL_mv_de_df=pd.read_sql_query(rrtSQL_mv_de_sql,conn)      \n",
    "    #mv_pe\n",
    "    f = open('/Users/geickelb1/Documents/GitHub/mimiciii-antibiotics-modeling/data/raw/clinical_var_sql/all/no_summary/rtt_mv_pe.sql', 'r')\n",
    "    rrtSQL_mv_pe = f.read()\n",
    "    rrtSQL_mv_pe_sql = query_schema + rrtSQL_mv_pe.format(tuple(patients))\n",
    "    rrtSQL_mv_pe_df=pd.read_sql_query(rrtSQL_mv_pe_sql,conn)          \n",
    "    rrtSQL_mv_pe_df['charttime']= rrtSQL_mv_pe_df['starttime']\n",
    "    rrtSQL_mv_pe_df=rrtSQL_mv_pe_df.drop('starttime', axis=1)\n",
    "    \n",
    "    ### timewindow filtering\n",
    "\n",
    "    def hour_72_window_rrt(df, final_pt_df2,timecol='charttime',time_var='t_0', lower_window=0, upper_window=3 ):\n",
    "        ##modified to make more generalizable to easily accomidate PA cohort but default to my origional cohort.\n",
    "        ##filters rrt to within timewindow  between timecol- time_var\n",
    "\n",
    "        df= pd.merge(final_pt_df2[['icustay_id',time_var]], df, left_on= 'icustay_id', right_on = 'icustay_id', how='left') #n=240317\n",
    "        df['delta']= pd.to_datetime(df[timecol]) - pd.to_datetime(df[time_var])\n",
    "        df_after_t0= df.loc[df.loc[:,'delta']>= pd.Timedelta(days=lower_window),:]\n",
    "        df_after_t0= df_after_t0.loc[df_after_t0.loc[:,'delta']<= pd.Timedelta(days=upper_window),:] \n",
    "        #df_after_t0= df_after_t0.loc[df_after_t0.loc[:,'rrt']==1,:].groupby('icustay_id')['charttime'].min()\n",
    "        return(pd.DataFrame(df_after_t0))#.reset_index())\n",
    "    \n",
    "    rrtSQL_mv_ce_pt =hour_72_window_rrt(rrtSQL_mv_ce_df, patient_df, timecol=time_col,time_var=time_var, lower_window=lower_window,upper_window=upper_window)\n",
    "    rrtSQL_cv_pt =hour_72_window_rrt(rrtSQL_cv_df, patient_df, timecol=time_col,time_var=time_var, lower_window=lower_window,upper_window=upper_window)\n",
    "    rrtSQL_mv_ie_pt =hour_72_window_rrt(rrtSQL_mv_ie_df, patient_df, timecol=time_col,time_var=time_var, lower_window=lower_window,upper_window=upper_window)\n",
    "    rrtSQL_mv_de_pt =hour_72_window_rrt(rrtSQL_mv_de_df, patient_df, timecol=time_col,time_var=time_var, lower_window=lower_window,upper_window=upper_window)\n",
    "    rrtSQL_mv_pe_pt =hour_72_window_rrt(rrtSQL_mv_pe_df, patient_df, timecol=time_col,time_var=time_var, lower_window=lower_window,upper_window=upper_window)\n",
    "    \n",
    "    ### merging all 5 filtered rrt_df together\n",
    "    \n",
    "    def rrt_merging(rrtSQL_mv_ce_pt, rrtSQL_cv_pt, rrtSQL_mv_ie_pt, rrtSQL_mv_de_pt, rrtSQL_mv_pe_pt, timecol='charttime',time_var='t_0'):\n",
    "        ###returns an aggregate y/n of if patient had positive rrt within timewindow. \n",
    "\n",
    "        rrt_merged_pt= pd.concat([rrtSQL_mv_ce_pt, rrtSQL_cv_pt, rrtSQL_mv_ie_pt, rrtSQL_mv_de_pt, rrtSQL_mv_pe_pt])\n",
    "\n",
    "        #making a 1 if has positive rrt within timewindow:\n",
    "        rrt_merged_pt= pd.DataFrame(rrt_merged_pt.loc[rrt_merged_pt.loc[:,'rrt']==1,:].groupby('icustay_id')[timecol].min().reset_index())\n",
    "        rrt_merged_pt['rrt']=1\n",
    "\n",
    "        rrt_merged_allpt_df= pd.merge(final_pt_df2[['icustay_id',time_var]], rrt_merged_pt, left_on= 'icustay_id', right_on = 'icustay_id', how='left') #n=240317\n",
    "        rrt_merged_allpt_df=rrt_merged_allpt_df.rename(index=str, columns={timecol:\"first_charttime\"})\n",
    "\n",
    "        rrt_merged_allpt_df['uom']='category' #adding a uom category\n",
    "        rrt_merged_allpt_df.loc[rrt_merged_allpt_df.loc[:,'rrt'].isnull(),'rrt']='0'\n",
    "\n",
    "        return(rrt_merged_allpt_df)\n",
    "\n",
    "\n",
    "    rrt_merged_allpt_df= rrt_merging(rrtSQL_mv_ce_pt, rrtSQL_cv_pt, rrtSQL_mv_ie_pt, rrtSQL_mv_de_pt, rrtSQL_mv_pe_pt, timecol=time_col,time_var=time_var)\n",
    "    return(rrt_merged_allpt_df)"
   ]
  },
  {
   "cell_type": "code",
   "execution_count": 120,
   "metadata": {},
   "outputs": [
    {
     "name": "stdout",
     "output_type": "stream",
     "text": [
      "time: 51.3 ms\n"
     ]
    }
   ],
   "source": [
    "rrt_merged_allpt_df= rrt_runmerge()\n",
    "filter_subset_save(rrt_merged_allpt_df, savename=\"rrt_merged\", save=True, return_df=False, time_filter_override=True)\n",
    "del(rrt_merged_allpt_df)"
   ]
  },
  {
   "cell_type": "markdown",
   "metadata": {},
   "source": [
    "## Urine Output"
   ]
  },
  {
   "cell_type": "code",
   "execution_count": null,
   "metadata": {
    "scrolled": true
   },
   "outputs": [],
   "source": [
    "##depreciated\n",
    "# urine_output_all_df= clinvar_fxn(\n",
    "#     'urine_output_all',\n",
    "#     '/Users/geickelb1/Documents/GitHub/mimiciii-antibiotics-modeling/data/raw/clinical_var_sql/all/urine_output_all.sql' \n",
    "# )"
   ]
  },
  {
   "cell_type": "markdown",
   "metadata": {},
   "source": [
    "# UTI related variables"
   ]
  },
  {
   "cell_type": "code",
   "execution_count": 127,
   "metadata": {},
   "outputs": [
    {
     "name": "stdout",
     "output_type": "stream",
     "text": [
      "(708156, 12)\n",
      "time: 57.1 s\n"
     ]
    }
   ],
   "source": [
    "uti_all_df= clinvar_fxn(\n",
    "    'uti_all',\n",
    "    '/Users/geickelb1/Documents/GitHub/mimiciii-antibiotics-modeling/data/raw/clinical_var_sql/all/uti_all.sql' \n",
    ")"
   ]
  },
  {
   "cell_type": "code",
   "execution_count": 128,
   "metadata": {},
   "outputs": [
    {
     "name": "stdout",
     "output_type": "stream",
     "text": [
      "time: 6.35 s\n"
     ]
    }
   ],
   "source": [
    "filter_subset_save(uti_all_df, savename=\"uti\", save=True, return_df=False, time_filter_override=False)\n",
    "del(uti_all_df)"
   ]
  },
  {
   "cell_type": "markdown",
   "metadata": {},
   "source": [
    "## Blood Gas Test"
   ]
  },
  {
   "cell_type": "code",
   "execution_count": 129,
   "metadata": {},
   "outputs": [
    {
     "name": "stdout",
     "output_type": "stream",
     "text": [
      "time: 20.1 ms\n"
     ]
    }
   ],
   "source": [
    "def PaO2(bg_all_nosummary_df):\n",
    "    \"\"\"\n",
    "    overview: replaces the PO2 label with PaO2 on all instances (defined as sharing icustay_id and charttime being equal)\n",
    "        where the specimen label == 'ART'\n",
    "        \n",
    "    input: bloodgas dataframe with values annotated. \n",
    "    output: bloodgas dataframe with values annotated where PO2 label is replaced with PaO2 according to above criteria\n",
    "    \"\"\"\n",
    "    \n",
    "    #making a unique varaible to search for and mark all rows where time and icustay_id has an art flag\n",
    "    bg_all_nosummary_df['unique_var']= bg_all_nosummary_df['icustay_id'].map(str) +  bg_all_nosummary_df['charttime'].map(str)\n",
    "\n",
    "    #making subset dataframe for label == SPECIMEN \n",
    "    bg_all_nosummary_specimen= bg_all_nosummary_df.loc[bg_all_nosummary_df.loc[:,'label']=='SPECIMEN',:]\n",
    "    \n",
    "    #all ART related rows: unique_var for all rows where label== SPECIMEN\n",
    "    bg_all_nosummary_ART = bg_all_nosummary_specimen[bg_all_nosummary_specimen['value']=='ART'] \n",
    "    bg_all_nosummary_ART_list= list(bg_all_nosummary_ART['unique_var'].unique())\n",
    "\n",
    "    #two criteria needed to change the PO2 to PaO2 label.\n",
    "    criteria1=(bg_all_nosummary_df['label'] == 'PO2')\n",
    "    criteria2=(bg_all_nosummary_df['unique_var'].isin(bg_all_nosummary_ART_list))\n",
    "    \n",
    "    #making changes\n",
    "    bg_all_nosummary_df.loc[(criteria2 & criteria1),'label']= 'PaO2'\n",
    "    \n",
    "    return(bg_all_nosummary_df)"
   ]
  },
  {
   "cell_type": "code",
   "execution_count": 130,
   "metadata": {
    "collapsed": true
   },
   "outputs": [
    {
     "name": "stdout",
     "output_type": "stream",
     "text": [
      "(1664578, 8)\n",
      "time: 1min 34s\n"
     ]
    }
   ],
   "source": [
    "bg_all_nosummary_df= clinvar_fxn(\n",
    "    'bg_all_nosummary',\n",
    "    '/Users/geickelb1/Documents/GitHub/mimiciii-antibiotics-modeling/data/raw/clinical_var_sql/all/no_summary/bg_all_nosummary.sql' \n",
    ") \n",
    "bg_all_nosummary_df = PaO2(bg_all_nosummary_df)\n"
   ]
  },
  {
   "cell_type": "code",
   "execution_count": 131,
   "metadata": {},
   "outputs": [
    {
     "name": "stdout",
     "output_type": "stream",
     "text": [
      "time: 13.9 s\n"
     ]
    }
   ],
   "source": [
    "filter_subset_save(bg_all_nosummary_df, savename=\"bg_nosummary\", save=True, return_df=False, time_filter_override=False)\n",
    "del(bg_all_nosummary_df)"
   ]
  },
  {
   "cell_type": "code",
   "execution_count": null,
   "metadata": {},
   "outputs": [],
   "source": [
    "#bg_all_nosummary_df.head()"
   ]
  },
  {
   "cell_type": "markdown",
   "metadata": {},
   "source": [
    "## Vaso_active therapies"
   ]
  },
  {
   "cell_type": "code",
   "execution_count": 132,
   "metadata": {},
   "outputs": [
    {
     "name": "stdout",
     "output_type": "stream",
     "text": [
      "(46991, 4)\n",
      "(3637, 7)\n",
      "(44522, 7)\n",
      "(9941, 7)\n",
      "(3199, 7)\n",
      "(9280, 7)\n",
      "(31665, 7)\n",
      "time: 1min 16s\n"
     ]
    }
   ],
   "source": [
    "# 10/12/18 added amountuom as amount_uom, rateuom as rate_uom to many lines of the sql code.\n",
    "\n",
    "weightdurations_df= clinvar_fxn(\n",
    "    'weightdurations',\n",
    "    '/Users/geickelb1/Documents/GitHub/mimiciii-antibiotics-modeling/data/raw/clinical_var_sql/weightdurations.sql'\n",
    ")\n",
    "#\n",
    "epi_dose_df= clinvar_fxn(\n",
    "    'epinephrine_dose',\n",
    "    '/Users/geickelb1/Documents/GitHub/mimiciii-antibiotics-modeling/data/raw/clinical_var_sql/epinephrine_dose.sql'\n",
    ")\n",
    "#\n",
    "norepi_dose_df= clinvar_fxn(\n",
    "    'norepinephrine_dose',\n",
    "    '/Users/geickelb1/Documents/GitHub/mimiciii-antibiotics-modeling/data/raw/clinical_var_sql/norepinephrine_dose.sql'\n",
    ")\n",
    "#\n",
    "dopamine_dose_df= clinvar_fxn(\n",
    "    'dopamine_dose',\n",
    "    '/Users/geickelb1/Documents/GitHub/mimiciii-antibiotics-modeling/data/raw/clinical_var_sql/dopamine_dose.sql'\n",
    ")\n",
    "#\n",
    "dobutamine_dose_df= clinvar_fxn(\n",
    "    'dobutamine_dose',\n",
    "    '/Users/geickelb1/Documents/GitHub/mimiciii-antibiotics-modeling/data/raw/clinical_var_sql/dobutamine_dose.sql'\n",
    ")\n",
    "#\n",
    "vasopressin_dose_df= clinvar_fxn(\n",
    "    'vasopressin_dose',\n",
    "    '/Users/geickelb1/Documents/GitHub/mimiciii-antibiotics-modeling/data/raw/clinical_var_sql/vasopressin_dose.sql'\n",
    ")\n",
    "\n",
    "#removing units/hour, as these are not appropriate\n",
    "vasopressin_dose_df= vasopressin_dose_df.loc[~vasopressin_dose_df.loc[:,'rate_uom'].isin(['Uhr','units/hour']),:]\n",
    "#\n",
    "phenylephrine_dose_df= clinvar_fxn(\n",
    "    'phenylephrine_dose',\n",
    "    '/Users/geickelb1/Documents/GitHub/mimiciii-antibiotics-modeling/data/raw/clinical_var_sql/phenylephrine_dose.sql'\n",
    ")"
   ]
  },
  {
   "cell_type": "code",
   "execution_count": 133,
   "metadata": {},
   "outputs": [
    {
     "name": "stdout",
     "output_type": "stream",
     "text": [
      "(46991, 4)\n",
      "time: 4.26 s\n"
     ]
    }
   ],
   "source": [
    "weightdurations_df= clinvar_fxn(\n",
    "    'weightdurations',\n",
    "    '/Users/geickelb1/Documents/GitHub/mimiciii-antibiotics-modeling/data/raw/clinical_var_sql/weightdurations.sql'\n",
    ")"
   ]
  },
  {
   "cell_type": "code",
   "execution_count": 134,
   "metadata": {},
   "outputs": [
    {
     "name": "stdout",
     "output_type": "stream",
     "text": [
      "time: 302 ms\n"
     ]
    }
   ],
   "source": [
    "#adding an identification label column and merging them into 1 df. \n",
    "epi_dose_df['label']='epinephrine'\n",
    "norepi_dose_df['label']='norepinephrine'\n",
    "dopamine_dose_df['label']='dopamine'\n",
    "dobutamine_dose_df['label']='dobutamine'\n",
    "vasopressin_dose_df['label']='vasopressin'\n",
    "phenylephrine_dose_df['label']='phenylephrine'\n",
    "vaso_dose_df = pd.concat([epi_dose_df, norepi_dose_df, dopamine_dose_df, dobutamine_dose_df, vasopressin_dose_df,phenylephrine_dose_df ])\n"
   ]
  },
  {
   "cell_type": "code",
   "execution_count": 136,
   "metadata": {},
   "outputs": [
    {
     "name": "stdout",
     "output_type": "stream",
     "text": [
      "time: 888 ms\n"
     ]
    }
   ],
   "source": [
    "filter_subset_save(vaso_dose_df, savename=\"vaso_dose\", save=True, return_df=False, time_filter_override=True)\n",
    "del(vaso_dose_df)\n",
    "del(epi_dose_df, norepi_dose_df, dopamine_dose_df, dobutamine_dose_df, vasopressin_dose_df,phenylephrine_dose_df)"
   ]
  },
  {
   "cell_type": "markdown",
   "metadata": {},
   "source": [
    "# ventilator settings and categorization"
   ]
  },
  {
   "cell_type": "code",
   "execution_count": 142,
   "metadata": {},
   "outputs": [
    {
     "name": "stdout",
     "output_type": "stream",
     "text": [
      "(710323, 6)\n",
      "time: 2min 36s\n"
     ]
    }
   ],
   "source": [
    "#ventsettings_df = pd.read_csv('/Users/geickelb1/Documents/GitHub/mimiciii-antibiotics-modeling/data/raw/csv/15082018_ventsettings_df.csv', index_col=0)\n",
    "ventsettings_df= clinvar_fxn(\n",
    "    'ventsettings',\n",
    "    '/Users/geickelb1/Documents/GitHub/mimiciii-antibiotics-modeling/data/raw/clinical_var_sql/all/ventsettings.sql'\n",
    ")\n",
    "#going from wide format to long:\n",
    "#pd.melt(ventsettings_df, id_vars=['icustay_id','charttime'])"
   ]
  },
  {
   "cell_type": "code",
   "execution_count": 141,
   "metadata": {},
   "outputs": [
    {
     "name": "stdout",
     "output_type": "stream",
     "text": [
      "time: 5.87 s\n"
     ]
    }
   ],
   "source": [
    "# filter_subset_save(ventsettings_df, savename=\"ventsettings\", save=True, return_df=False, time_filter_override=False)\n",
    "# del(ventsettings_df)"
   ]
  },
  {
   "cell_type": "code",
   "execution_count": 143,
   "metadata": {},
   "outputs": [
    {
     "name": "stdout",
     "output_type": "stream",
     "text": [
      "time: 49.8 ms\n"
     ]
    }
   ],
   "source": [
    "def vent_data(vent_df,time_var='t_0', lower_window=0, upper_window=3 ):\n",
    "    df= pd.merge(vent_df,\n",
    "                final_pt_df2[['icustay_id',time_var]],\n",
    "                left_on='icustay_id',\n",
    "                right_on= 'icustay_id',\n",
    "                how='left')\n",
    "    df['delta']= pd.to_datetime(df['charttime']) - pd.to_datetime(df[time_var])\n",
    "    df_timewindow= df.loc[df.loc[:,'delta']>= pd.Timedelta(days=lower_window),:]\n",
    "    df_timewindow= df_timewindow.loc[df_timewindow.loc[:,'delta']<= pd.Timedelta(days=upper_window),:] \n",
    "    df_timewindow['day']= df_timewindow['delta'].apply(lambda x: pd.to_timedelta(x,unit='d').days) #day #\n",
    "      \n",
    "    return(df_timewindow)\n",
    "\n",
    "#df_timewindow =vent_data(ventsettings_df,time_var='first_pos_else_neg_ssc', lower_window=-1, upper_window=1 )\n",
    "\n",
    "def vent_day_categorizer(vent_df,time_var='t_0', lower_window=0, upper_window=3 ):\n",
    "    \n",
    "    df_timewindow =vent_data(vent_df,time_var=time_var, lower_window=lower_window, upper_window=upper_window)\n",
    "    \n",
    "    df_timewindow_perday=df_timewindow.groupby(['icustay_id','day'], as_index=False)[['mechvent','oxygentherapy']].agg({'mechvent':'max', 'oxygentherapy':'max'})\n",
    "\n",
    "    conditions= [\n",
    "        (df_timewindow_perday['mechvent']==1),\n",
    "        ((df_timewindow_perday['oxygentherapy']==1) & (df_timewindow_perday['mechvent']==0)),\n",
    "        (df_timewindow_perday['oxygentherapy']==0 & (df_timewindow_perday['mechvent']==0))]\n",
    "\n",
    "    choices=['Mech', 'Oxygen', 'None']\n",
    "    #\n",
    "    df_timewindow_perday['value']= np.select(conditions, choices, default='error:no_value_filled')\n",
    "    df_timewindow_perday['value']\n",
    "    df_timewindow_perday=df_timewindow_perday.reset_index()\n",
    "    df_timewindow_perday['uom']= 'mech/O2/none category'\n",
    "    df_timewindow_perday= df_timewindow_perday.drop(['mechvent','oxygentherapy','index'], axis=1)\n",
    "    df_timewindow_perday=pd.merge(df_timewindow_perday, final_pt_df2[['icustay_id',time_var]] )\n",
    "    return(df_timewindow_perday)\n"
   ]
  },
  {
   "cell_type": "code",
   "execution_count": 144,
   "metadata": {},
   "outputs": [
    {
     "name": "stdout",
     "output_type": "stream",
     "text": [
      "time: 3.52 s\n"
     ]
    }
   ],
   "source": [
    "#ventcategory_df = vent_categorization(final_pt_df2, ventsettings_df, time_var='first_pos_else_neg_ssc' )\n",
    "ventcategory_df= vent_day_categorizer(ventsettings_df,time_var=time_var, lower_window=lower_window, upper_window=upper_window)\n",
    "#ventcount_df = vent_count(final_pt_df2,ventsettings_df, time_var='first_pos_else_neg_ssc')"
   ]
  },
  {
   "cell_type": "code",
   "execution_count": 146,
   "metadata": {},
   "outputs": [
    {
     "name": "stdout",
     "output_type": "stream",
     "text": [
      "time: 331 ms\n"
     ]
    }
   ],
   "source": [
    "filter_subset_save(ventcategory_df, savename=\"ventcategory\", save=True, return_df=False, time_filter_override=True)\n",
    "#del(ventcategory_df)"
   ]
  },
  {
   "cell_type": "code",
   "execution_count": null,
   "metadata": {},
   "outputs": [],
   "source": [
    "ventcategory_df.head()"
   ]
  },
  {
   "cell_type": "markdown",
   "metadata": {},
   "source": [
    "# daily SOFA score"
   ]
  },
  {
   "cell_type": "markdown",
   "metadata": {},
   "source": [
    "### running yiheng's sql codes to capture daily sofa_score. ideally i coulda just used my data above but she had this written already so i'll use this.\n",
    "\n",
    "link to her github: https://github.com/yihengpan/fluid_management/tree/master/sofa"
   ]
  },
  {
   "cell_type": "markdown",
   "metadata": {},
   "source": [
    "###requirements for sofa_pan\n",
    "sofa <- scorecalc <- scorecomp <- vaso_cv   \n",
    "                                 <-wt      \n",
    "                                 <-echo2\n",
    "\n",
    "                   <- vaso_mv    \n",
    "                   <- pafi2      <-bloodgas_pan_aterial <- bloodgas_pan  \n",
    "                                 <-ventelurations\n",
    "                   <- vitals_pan \n",
    "                   <- labs_pan   \n",
    "                   <- uo_pan     \n",
    "                   <- gcs_pan    \n",
    "                                \n",
    "                                "
   ]
  },
  {
   "cell_type": "code",
   "execution_count": 147,
   "metadata": {},
   "outputs": [
    {
     "name": "stdout",
     "output_type": "stream",
     "text": [
      "(22488, 3)\n",
      "(14668, 2)\n",
      "(188079, 33)\n",
      "(152414, 39)\n",
      "time: 3min 11s\n"
     ]
    }
   ],
   "source": [
    "sofa_path= '/Users/geickelb1/Documents/GitHub/fluid_management/sofa'\n",
    "var='wt'\n",
    "wt_df= clinvar_fxn(\n",
    "    var,\n",
    "    Path(sofa_path+'/%s.sql' %(var))\n",
    ")\n",
    "\n",
    "var='echo2'\n",
    "echo2_df= clinvar_fxn(\n",
    "    var,\n",
    "    Path(sofa_path+'/%s.sql' %(var))\n",
    ")\n",
    "\n",
    "\n",
    "var='bloodgas_pan'\n",
    "bloodgas_pan_df= clinvar_fxn(\n",
    "    var,\n",
    "    Path(sofa_path+'/%s.sql' %(var))\n",
    ")\n",
    "\n",
    "var='bloodgas_pan_arterial'\n",
    "bloodgas_pan_art_df= clinvar_fxn(\n",
    "    var,\n",
    "    Path(sofa_path+'/%s.sql' %(var))\n",
    ")"
   ]
  },
  {
   "cell_type": "code",
   "execution_count": 148,
   "metadata": {},
   "outputs": [
    {
     "name": "stdout",
     "output_type": "stream",
     "text": [
      "(5732, 6)\n",
      "(5732, 6)\n",
      "(6883, 6)\n",
      "(152414, 5)\n",
      "(48461, 4)\n",
      "(76926, 42)\n",
      "(75721, 5)\n",
      "(14486, 9)\n",
      "(87899, 14)\n",
      "(87899, 20)\n",
      "(83629, 23)\n",
      "time: 7min 58s\n"
     ]
    }
   ],
   "source": [
    "#vaso_mv, vaso_cv,pafi2, vitals_pan, labs_pan, uo_pan, gcs_pan\n",
    "sofa_path= '/Users/geickelb1/Documents/GitHub/fluid_management/sofa'\n",
    "var='vaso_mv'\n",
    "vaso_mv_df= clinvar_fxn(\n",
    "    var,\n",
    "    Path(sofa_path+'/%s.sql' %(var))\n",
    ")\n",
    "\n",
    "var='vaso_mv'\n",
    "vaso_mv_df= clinvar_fxn(\n",
    "    var,\n",
    "    Path(sofa_path+'/%s.sql' %(var))\n",
    ")\n",
    "\n",
    "var='vaso_cv'\n",
    "vaso_cv_df= clinvar_fxn(\n",
    "    var,\n",
    "    Path(sofa_path+'/%s.sql' %(var))\n",
    ")\n",
    "\n",
    "var='pafi1'\n",
    "pafi1_df= clinvar_fxn(\n",
    "    var,\n",
    "    Path(sofa_path+'/%s.sql' %(var))\n",
    ")\n",
    "\n",
    "var='pafi2'\n",
    "pafi2_df= clinvar_fxn(\n",
    "    var,\n",
    "    Path(sofa_path+'/%s.sql' %(var))\n",
    ")\n",
    "\n",
    "\n",
    "var='labs_pan'\n",
    "labs_pan_df= clinvar_fxn(\n",
    "    var,\n",
    "    Path(sofa_path+'/%s.sql' %(var))\n",
    ")\n",
    "\n",
    "var='uo_pan'\n",
    "uo_pan_df= clinvar_fxn(\n",
    "    var,\n",
    "    Path(sofa_path+'/%s.sql' %(var))\n",
    ")\n",
    "\n",
    "var='gcs_pan'\n",
    "gcs_pan_df= clinvar_fxn(\n",
    "    var,\n",
    "    Path(sofa_path+'/%s.sql' %(var))\n",
    ")\n",
    "\n",
    "###\n",
    "\n",
    "var='scorecomp'\n",
    "scorecomp_df= clinvar_fxn(\n",
    "    var,\n",
    "    Path(sofa_path+'/%s.sql' %(var))\n",
    ")\n",
    "\n",
    "var='scorecalc'\n",
    "scorecalc_df= clinvar_fxn(\n",
    "    var,\n",
    "    Path(sofa_path+'/%s.sql' %(var))\n",
    ")\n",
    "\n",
    "var='sofa_pan'\n",
    "sofa_pan_df= clinvar_fxn(\n",
    "    var,\n",
    "    Path(sofa_path+'/%s.sql' %(var))\n",
    ")"
   ]
  },
  {
   "cell_type": "code",
   "execution_count": 149,
   "metadata": {},
   "outputs": [
    {
     "name": "stdout",
     "output_type": "stream",
     "text": [
      "time: 44.3 ms\n"
     ]
    }
   ],
   "source": [
    "#deleting these to clear up memory \n",
    "\n",
    "del(vaso_cv_df, vaso_mv_df, labs_pan_df, gcs_pan_df, scorecalc_df, scorecomp_df, uo_pan_df, pafi1_df, pafi2_df, bloodgas_pan_art_df, echo2_df, wt_df)"
   ]
  },
  {
   "cell_type": "code",
   "execution_count": 150,
   "metadata": {},
   "outputs": [
    {
     "data": {
      "text/plain": [
       "14181"
      ]
     },
     "execution_count": 150,
     "metadata": {},
     "output_type": "execute_result"
    },
    {
     "name": "stdout",
     "output_type": "stream",
     "text": [
      "time: 39.1 ms\n"
     ]
    }
   ],
   "source": [
    "sofa_pan_df['hadm_id'].nunique() #8707\n",
    "final_pt_df2['hadm_id'].nunique() #8731"
   ]
  },
  {
   "cell_type": "code",
   "execution_count": 208,
   "metadata": {},
   "outputs": [
    {
     "name": "stdout",
     "output_type": "stream",
     "text": [
      "time: 35.4 ms\n"
     ]
    }
   ],
   "source": [
    "#adding in t_0 & icuadmit date\n",
    "def sofa_day_window_filter(sofa_pan_df, time_var= 't_0', lower_window= 0, upper_window=3): #'t_0'):\n",
    "    import datetime\n",
    "    '''\n",
    "    #Yihangpan wrote a sql script and materialized view \"sofa_pan\" which gives the sofa score for each day in icu for each patient. \n",
    "    #since the sofa_pan has days after admission but not chartdates, I need to use day # to find the associated t_0 to t_0+72 for each patient. \n",
    "    # the challenge was that I had to relate day# in sofa_pan to my t_0 date. the day # was based on the days after icu admission, where day1 = the first day (0 to 24 hours post admission). this was changed so day 0= 0 to 24 hours.\n",
    "    #To do this, I added day# (where day 0 is the first day) to icu admission date. \n",
    "    #I then filtered on only the rows where this icuadmin + day# was between t_0 and t_0 + 72 hours. \n",
    "\n",
    "    #since t_0 has only day resolution, and for that I ignored hours and only took the date (rounded down all hours/minutes/seconds). this is similar to how i made the t_0 date. \n",
    "    #the problem this creates is that it widens the potential time window, so it theoretically can contain up to 95.99 hours, since hours on day 1 were collapsed to 0. \n",
    "\n",
    "    \n",
    "    input: \n",
    "        sofa_pan_df: daily sofa scores captured from sofa_pan_sql.\n",
    "        optional:\n",
    "            time_var: the time variable we want to base the window off of\n",
    "            window_bottom= 0, time_var- window_bottom (days + time_var) = first daily sofa score to capture\n",
    "            window_top= 0, time_var- window_top (days + time_var) = last daily sofa score to capture \n",
    "    \n",
    "    output: sofa_pan_sql annotated with days and filtered to time window set by window_bottom and window_top. \n",
    "    '''\n",
    "    #reducing to minimum vital patients\n",
    "    sofa_pan_df=sofa_pan_df.loc[sofa_pan_df.loc[:,\"icustay_id\"].isin(icustay_id_vitals),:]\n",
    "\n",
    "    ##merging sofa_pan with final_pt df in order to append on icustay_id, the time var, and ICU_admit\n",
    "    \n",
    "    sofa_df_merged= pd.merge(sofa_pan_df,\n",
    "                             final_pt_df2[['icustay_id',time_var,'ICU_admit']],\n",
    "                             left_on= 'icustay_id',\n",
    "                             right_on = 'icustay_id',\n",
    "                             how='left') #n=240317\n",
    "\n",
    "    #sofa_df_merged['admit_t0_rounded'] = pd.to_datetime(sofa_df_merged['ICU_admit']).dt.round('1440min')\n",
    "    \n",
    "    sofa_df_merged['day'] = sofa_df_merged['day']-1 #putting the epoch days so that 0 = the first day\n",
    "    \n",
    "    #approximating the charttime of the time associated with each sofa score. adding on days to icuadmit. \n",
    "    sofa_df_merged['approx_charttime']=pd.to_timedelta((sofa_df_merged['day'])*24, unit='h') + pd.to_datetime(sofa_df_merged['ICU_admit'])\n",
    "\n",
    "    #rounding down the charttime to the day, so hours and minutes are ignored (just like t_0)\n",
    "    sofa_df_merged['floor_charttime'] = sofa_df_merged['approx_charttime'].apply(lambda dt: datetime.datetime(dt.year, dt.month, dt.day, 24*(dt.hour//24))) \n",
    "    \n",
    "    sofa_df_merged['floor_time_var'] = pd.to_datetime(sofa_df_merged[time_var]).apply(lambda dt: datetime.datetime(dt.year, dt.month, dt.day, 24*(dt.hour//24))) \n",
    "    \n",
    "    sofa_df_72= sofa_df_merged.loc[\n",
    "        (sofa_df_merged['floor_charttime'].between(\n",
    "            (pd.to_datetime(sofa_df_merged['floor_time_var'])+ pd.to_timedelta(lower_window, unit='d')),\n",
    "            (pd.to_datetime(sofa_df_merged['floor_time_var'])+ pd.to_timedelta(upper_window, unit='d')+ pd.to_timedelta(1, unit='h')) #added 1hr timebuffer incase between is set as less than greater than\n",
    "        )),:]\n",
    "    \n",
    "    return(sofa_df_72.drop(['floor_time_var','floor_charttime'], axis=1))\n"
   ]
  },
  {
   "cell_type": "code",
   "execution_count": 209,
   "metadata": {},
   "outputs": [
    {
     "name": "stdout",
     "output_type": "stream",
     "text": [
      "time: 856 ms\n"
     ]
    }
   ],
   "source": [
    "sofa_df_72= sofa_day_window_filter(sofa_pan_df, time_var= time_var, lower_window= lower_window, upper_window=upper_window)"
   ]
  },
  {
   "cell_type": "code",
   "execution_count": 210,
   "metadata": {},
   "outputs": [
    {
     "name": "stdout",
     "output_type": "stream",
     "text": [
      "time: 697 ms\n"
     ]
    }
   ],
   "source": [
    "sofa_df_72= sofa_day_window_filter(sofa_pan_df, time_var= time_var, lower_window= lower_window, upper_window=upper_window)\n",
    "filter_subset_save(sofa_df_72, savename=\"sofa\", save=True, return_df=False, time_filter_override=True)\n",
    "del(sofa_df_72)"
   ]
  },
  {
   "cell_type": "markdown",
   "metadata": {},
   "source": [
    "# saving as csv\n",
    "## everything below is Depreciated as of 5/16/19: \n",
    "haven't need to save the data pretimewindow filtering for a year. this isn't being used anywhere and is just wasting space. "
   ]
  },
  {
   "cell_type": "code",
   "execution_count": null,
   "metadata": {},
   "outputs": [],
   "source": [
    "# #####NEED TO CLEAN UP PATHWAY CODING\n",
    "\n",
    "# pd.DataFrame(vaso_dose_df).to_csv(\n",
    "#     '/Users/geickelb1/Documents/GitHub/mimiciii-antibiotics-modeling/data/raw/csv/%s_vaso_dose_df.csv' %(date))\n",
    "# pd.DataFrame(ventsettings_df).to_csv(\n",
    "#     '/Users/geickelb1/Documents/GitHub/mimiciii-antibiotics-modeling/data/raw/csv/%s_ventsettings_df.csv' %(date))\n",
    "# # pd.DataFrame(ventcount_df).to_csv(\n",
    "# #     '/Users/geickelb1/Documents/GitHub/mimiciii-antibiotics-modeling/data/raw/csv/%s_ventcount_df.csv' %(date)) #not useful\n",
    "\n",
    "# # pd.DataFrame(echodata_df).to_csv(\n",
    "# #     '/Users/geickelb1/Documents/GitHub/mimiciii-antibiotics-modeling/data/raw/csv/%s_echodata_df.csv' %(date))\n",
    "# pd.DataFrame(weightfirstday_df).to_csv(\n",
    "#     '/Users/geickelb1/Documents/GitHub/mimiciii-antibiotics-modeling/data/raw/csv/%s_weightfirstday_df.csv' %(date))\n",
    "# pd.DataFrame(heightfirstday_df).to_csv(\n",
    "#     '/Users/geickelb1/Documents/GitHub/mimiciii-antibiotics-modeling/data/raw/csv/%s_heightfirstday_df.csv' %(date))\n",
    "# pd.DataFrame(labs_all_nosummary_df).to_csv(\n",
    "#     '/Users/geickelb1/Documents/GitHub/mimiciii-antibiotics-modeling/data/raw/csv/%s_labs_all_nosummary_df.csv' %(date))\n",
    "\n",
    "# pd.DataFrame(vitals_all_nosummary_df).to_csv(\n",
    "#     '/Users/geickelb1/Documents/GitHub/mimiciii-antibiotics-modeling/data/raw/csv/%s_vitals_all_nosummary_df.csv' %(date))\n",
    "\n",
    "# # pd.DataFrame(gcsall_df).to_csv(\n",
    "# #     '/Users/geickelb1/Documents/GitHub/mimiciii-antibiotics-modeling/data/raw/csv/%s_gcsall_df.csv' %(date))\n",
    "\n",
    "# pd.DataFrame(urine_output_all_df).to_csv(\n",
    "#     '/Users/geickelb1/Documents/GitHub/mimiciii-antibiotics-modeling/data/raw/csv/%s_urine_output_all_df.csv' %(date))\n",
    "# pd.DataFrame(uti_all_df).to_csv(\n",
    "#     '/Users/geickelb1/Documents/GitHub/mimiciii-antibiotics-modeling/data/raw/csv/%s_uti_all_df.csv' %(date))\n",
    "# pd.DataFrame(bg_all_nosummary_df).to_csv(\n",
    "#     '/Users/geickelb1/Documents/GitHub/mimiciii-antibiotics-modeling/data/raw/csv/%s_bg_all_nosummary_df.csv' %(date))\n",
    "\n",
    "# #timewindowed\n",
    "# pd.DataFrame(ventcategory_df).to_csv(\n",
    "#     '/Users/geickelb1/Documents/GitHub/mimiciii-antibiotics-modeling/data/raw/csv/%s_ventcategory_df.csv' %(date))\n",
    "# pd.DataFrame(rrt_merged_allpt_df).to_csv( \n",
    "#     '/Users/geickelb1/Documents/GitHub/mimiciii-antibiotics-modeling/data/raw/csv/%s_rrt_all_df.csv' %(date)) #timewindowed\n",
    "# pd.DataFrame(gcs72_df).to_csv(\n",
    "#     '/Users/geickelb1/Documents/GitHub/mimiciii-antibiotics-modeling/data/raw/csv/%s_gcs72_df.csv' %(date)) #gcs within time window here\n",
    "# pd.DataFrame(sofa_df_72).to_csv(\n",
    "#     '/Users/geickelb1/Documents/GitHub/mimiciii-antibiotics-modeling/data/raw/csv/%s_sofa_df_72.csv' %(date))"
   ]
  },
  {
   "cell_type": "markdown",
   "metadata": {},
   "source": [
    "# time window filtering 8/28/18  (updated 1/28/19)\n",
    "saving a new version of each clincal variable dataframe that is filtered to only 72 hour window after t_0 for each icustay_id \n",
    "\n",
    "- need to organize this better "
   ]
  },
  {
   "cell_type": "markdown",
   "metadata": {},
   "source": [
    "### reading in data if needed"
   ]
  },
  {
   "cell_type": "code",
   "execution_count": null,
   "metadata": {},
   "outputs": [],
   "source": [
    "# #final_pt_df2 = pd.read_csv('/Users/geickelb1/Documents/GitHub/mimiciii-antibiotics-modeling/data/raw/csv/16082018_final_pt_df2.csv', index_col=0)\n",
    "\n",
    "# #large import of all data \n",
    "\n",
    "# date= '27082018'\n",
    "\n",
    "# vaso_dose_df =pd.read_csv(\n",
    "#     '/Users/geickelb1/Documents/GitHub/mimiciii-antibiotics-modeling/data/raw/csv/%s_vaso_dose_df.csv' %(date), index_col=0)\n",
    "# ventsettings_df=pd.read_csv(\n",
    "#     '/Users/geickelb1/Documents/GitHub/mimiciii-antibiotics-modeling/data/raw/csv/%s_ventsettings_df.csv' %(date), index_col=0)\n",
    "# ventcategory_df=pd.read_csv(\n",
    "#     '/Users/geickelb1/Documents/GitHub/mimiciii-antibiotics-modeling/data/raw/csv/%s_ventcategory_df.csv' %(date), index_col=0)\n",
    "# ventcount_df=pd.read_csv(\n",
    "#     '/Users/geickelb1/Documents/GitHub/mimiciii-antibiotics-modeling/data/raw/csv/%s_ventcount_df.csv' %(date), index_col=0)\n",
    "\n",
    "# echodata_df=pd.read_csv(\n",
    "#     '/Users/geickelb1/Documents/GitHub/mimiciii-antibiotics-modeling/data/raw/csv/%s_echodata_df.csv' %(date), index_col=0)\n",
    "# weightfirstday_df=pd.read_csv(\n",
    "#     '/Users/geickelb1/Documents/GitHub/mimiciii-antibiotics-modeling/data/raw/csv/%s_weightfirstday_df.csv' %(date), index_col=0)\n",
    "# heightfirstday_df=pd.read_csv(\n",
    "#     '/Users/geickelb1/Documents/GitHub/mimiciii-antibiotics-modeling/data/raw/csv/%s_heightfirstday_df.csv' %(date), index_col=0)\n",
    "# labs_all_nosummary_df=pd.read_csv(\n",
    "#     '/Users/geickelb1/Documents/GitHub/mimiciii-antibiotics-modeling/data/raw/csv/%s_labs_all_nosummary_df.csv' %(date), index_col=0)\n",
    "# vitals_all_nosummary_df=pd.read_csv(\n",
    "#     '/Users/geickelb1/Documents/GitHub/mimiciii-antibiotics-modeling/data/raw/csv/%s_vitals_all_nosummary_df.csv' %(date), index_col=0)\n",
    "# gcsall_df=pd.read_csv(\n",
    "#     '/Users/geickelb1/Documents/GitHub/mimiciii-antibiotics-modeling/data/raw/csv/%s_gcsall_df.csv' %(date), index_col=0)\n",
    "# rrt_all_df=pd.read_csv(\n",
    "#     '/Users/geickelb1/Documents/GitHub/mimiciii-antibiotics-modeling/data/raw/csv/%s_rrt_all_df.csv' %(date), index_col=0)\n",
    "# urine_output_all_df=pd.read_csv(\n",
    "#     '/Users/geickelb1/Documents/GitHub/mimiciii-antibiotics-modeling/data/raw/csv/%s_urine_output_all_df.csv' %(date), index_col=0)\n",
    "# uti_all_df=pd.read_csv(\n",
    "#     '/Users/geickelb1/Documents/GitHub/mimiciii-antibiotics-modeling/data/raw/csv/%s_uti_all_df.csv' %(date), index_col=0)\n",
    "# bg_all_nosummary_df=pd.read_csv(\n",
    "#     '/Users/geickelb1/Documents/GitHub/mimiciii-antibiotics-modeling/data/raw/csv/%s_bg_all_nosummary_df.csv' %(date), index_col=0)\n"
   ]
  },
  {
   "cell_type": "code",
   "execution_count": null,
   "metadata": {},
   "outputs": [],
   "source": [
    "# def time_window_filter(df, final_pt_df2,timecol,time_var='t_0', lower_window=0, upper_window=3):\n",
    "#     try:\n",
    "#         df= pd.merge(df, final_pt_df2[['icustay_id',time_var]], left_on= 'icustay_id', right_on = 'icustay_id') #n=240317\n",
    "#         df['delta']= pd.to_datetime(df[timecol]) - pd.to_datetime(df[time_var])\n",
    "#         df_after_t0= df.loc[df.loc[:,'delta']>= pd.Timedelta(days=lower_window),:]\n",
    "#         df_after_t0= df_after_t0.loc[df_after_t0.loc[:,'delta']<= pd.Timedelta(days=upper_window),:]\n",
    "#     except KeyError or NameError:\n",
    "#         df= pd.merge(df, final_pt_df2[['hadm_id',time_var]], left_on= 'hadm_id', right_on = 'hadm_id') #n=240317\n",
    "#         df['delta']= pd.to_datetime(df[timecol]) - pd.to_datetime(df[time_var])\n",
    "#         df_after_t0= df.loc[df.loc[:,'delta']>= pd.Timedelta(days=lower_window),:]\n",
    "#         df_after_t0= df_after_t0.loc[df_after_t0.loc[:,'delta']<= pd.Timedelta(days=upper_window),:]\n",
    "#     return(df_after_t0)"
   ]
  },
  {
   "cell_type": "code",
   "execution_count": null,
   "metadata": {},
   "outputs": [],
   "source": [
    "# ###list of data w/ 72 hour adjustments\n",
    "# #vaso_dose_df - vaso_dose_72 -\n",
    "# #ventsettings_df - ventsettings_72 -\n",
    "# #ventcategory_df - ventcategory_df - \n",
    "# #echodata_df - echodata_72 -\n",
    "# #labs_all_nosummary_df- labs_all_nosummary_72 -\n",
    "# #vitals_all_nosummary_df - vitals_all_nosummary_72 -\n",
    "# #gcsall_df - Gcs72_df **modified the gcs in python above. within 72 hour window. -\n",
    "# #rrt_all_df - rrt_merged_allpt_df *modified the rrt in python above. within 72 hour window.  -\n",
    "# #uti_all_df - uti_all_72 -\n",
    "# #bg_all_nosummary_df - bg_all_nosummary_72\n",
    "# #sofa_df_72 #already within 72hour window\n",
    "\n",
    "# #urine_output_all_df - . xxx this also doesn't have times, but this won't be used much so i didn't bother editing.\n",
    "\n",
    "# vaso_dose_72= time_window_filter(vaso_dose_df, final_pt_df2, 'starttime',time_var=time_var, lower_window=lower_window, upper_window=upper_window)\n",
    "# ventsettings_72= time_window_filter(ventsettings_df, final_pt_df2, \"charttime\",time_var=time_var, lower_window=lower_window, upper_window=upper_window)\n",
    "# # echodata_72= time_window_filter(echodata_df, final_pt_df2, 'charttime',time_var=time_var, lower_window=lower_window, upper_window=upper_window)\n",
    "# labs_all_nosummary_72= time_window_filter(labs_all_nosummary_df, final_pt_df2, \"charttime\",time_var=time_var, lower_window=lower_window, upper_window=upper_window)\n",
    "# vitals_all_nosummary_72 = time_window_filter(vitals_all_nosummary_df, final_pt_df2, \"charttime\",time_var=time_var, lower_window=lower_window, upper_window=upper_window)\n",
    "# uti_all_72 = time_window_filter(uti_all_df, final_pt_df2, 'charttime',time_var=time_var, lower_window=lower_window, upper_window=upper_window)\n",
    "# bg_all_nosummary_72 = time_window_filter(bg_all_nosummary_df, final_pt_df2, 'charttime',time_var=time_var, lower_window=lower_window, upper_window=upper_window)"
   ]
  },
  {
   "cell_type": "markdown",
   "metadata": {},
   "source": [
    "# filtering to patients with bare minimum vital numbers\n",
    "06.1-QC_and_missingness found that 3% or so of patients don't have baseline vitals counts. this is filtering the patients to only those who have this baseline value.\n",
    "\n",
    "as of 10/12/18, this code has not been implemented in here and is performed after importing. (updated below to be self contained in 1/28/19)"
   ]
  },
  {
   "cell_type": "code",
   "execution_count": null,
   "metadata": {},
   "outputs": [],
   "source": [
    "# date= '25012019'\n",
    "\n",
    "# vitals_all_nosummary_df =pd.read_csv(\n",
    "#      Path('/Users/geickelb1/Documents/GitHub/mimiciii-antibiotics-modeling/data/raw/csv/%s_vitals_all_nosummary_df.csv' %(date)), index_col=0)\n"
   ]
  },
  {
   "cell_type": "code",
   "execution_count": null,
   "metadata": {},
   "outputs": [],
   "source": [
    "# #using origional criteria to find pts who have atleast 1 spo2 reading within 3 days of t_0\n",
    "\n",
    "# #The idea is that this should be the bare minimum amount of data for a patient, and without it, it's likely the physicians did not suspect an infection in these patients.\n",
    "\n",
    "# vitals_filter = time_window_filter(vitals_all_nosummary_df, final_pt_df2, \"charttime\",time_var='t_0', lower_window=-1, upper_window=3)\n",
    "\n",
    "# vitals_filter= vitals_filter.loc[\n",
    "#     vitals_filter['vitalid'].notnull(),:]#.count() #6930 NULL values\n",
    "\n",
    "# icustay_id_vitals = (vitals_filter.loc[\n",
    "#     vitals_filter.loc[:,'vitalid']=='SpO2','icustay_id'\n",
    "#         ].unique())\n",
    "\n",
    "# len(icustay_id) #8731\n",
    "# len(icustay_id_vitals) #8629\n",
    "# subject_id_vitals=list(final_pt_df2.loc[final_pt_df2.loc[:,'icustay_id'].isin(icustay_id_vitals),'subject_id'])\n",
    "# hadm_id_vitals= list(final_pt_df2.loc[final_pt_df2.loc[:,'icustay_id'].isin(icustay_id_vitals),'hadm_id'])\n",
    "# icustay_id_vitals= list(final_pt_df2.loc[final_pt_df2.loc[:,'icustay_id'].isin(icustay_id_vitals),'icustay_id'])\n",
    "# del(vitals_filter)"
   ]
  },
  {
   "cell_type": "code",
   "execution_count": null,
   "metadata": {},
   "outputs": [],
   "source": [
    "# vitals_all_nosummary_72= df_subset(vitals_all_nosummary_72)\n",
    "# pd.DataFrame(vitals_all_nosummary_72).to_csv(\"/Users/geickelb1/Documents/GitHub/mimiciii-antibiotics-modeling/data/raw/csv/%s_vitals_all_nosummary_72.csv\" %date) #final cohort database n=11493 subject_id’s (7/6/18)\n"
   ]
  },
  {
   "cell_type": "code",
   "execution_count": null,
   "metadata": {},
   "outputs": [],
   "source": [
    "# #saving this slightly reduced cohort for those who have sufficient vitals\n",
    "# # date= '25012019'\n",
    "# final_pt_df2_v=final_pt_df2.loc[final_pt_df2.loc[:,'icustay_id'].isin(icustay_id_vitals),:]\n",
    "# pd.DataFrame(final_pt_df2_v).to_csv(\"/Users/geickelb1/Documents/GitHub/mimiciii-antibiotics-modeling/data/raw/csv/%s_final_pt_df2_v.csv\" %date) #final cohort database n=11493 subject_id’s (7/6/18)\n"
   ]
  },
  {
   "cell_type": "code",
   "execution_count": null,
   "metadata": {},
   "outputs": [],
   "source": [
    "# def df_subset(df):\n",
    "#     try:\n",
    "#         df = df.loc[df.loc[:,'icustay_id'].isin(icustay_id_vitals),:]\n",
    "#     except KeyError or NameError:\n",
    "#         try:\n",
    "#             df = df.loc[df.loc[:,'hadm_id'].isin(hadm_id_vitals),:]\n",
    "#         except KeyError or NameError:\n",
    "#             df = df.loc[df.loc[:,'subject_id'].isin(subject_id_vitals),:]\n",
    "#     return(df)"
   ]
  },
  {
   "cell_type": "code",
   "execution_count": null,
   "metadata": {},
   "outputs": [],
   "source": [
    "# # subsetting each dataframe to only patients in final_patients_df2_v:\n",
    "# dataframe_list= [\n",
    "#     age_df, ventcategory_df, vaso_dose_72, #echodata_72,\n",
    "#     labs_all_nosummary_72, weightfirstday_df,\n",
    "#     heightfirstday_df, vitals_all_nosummary_72,\n",
    "#     uti_all_72, bg_all_nosummary_72,\n",
    "#     rrt_merged_allpt_df, gcs72_df, sofa_df_72\n",
    "# ]\n",
    "\n",
    "# (\n",
    "# age_df, ventcategory_df, vaso_dose_72, #echodata_72,\n",
    "# labs_all_nosummary_72, weightfirstday_df,\n",
    "# heightfirstday_df, vitals_all_nosummary_72,\n",
    "# uti_all_72, bg_all_nosummary_72,\n",
    "# rrt_merged_allpt_df, gcs72_df, sofa_df_72\n",
    "# ) = (df_subset(df) for df in dataframe_list)"
   ]
  },
  {
   "cell_type": "code",
   "execution_count": null,
   "metadata": {},
   "outputs": [],
   "source": [
    "# bg_all_nosummary_72"
   ]
  },
  {
   "cell_type": "code",
   "execution_count": null,
   "metadata": {},
   "outputs": [],
   "source": [
    "# #date= '27082018'\n",
    "# # date= '25012019'\n",
    "\n",
    "# folder=\"48_hr_window\"#\"72_hr_window\"\n",
    "\n",
    "# pd.DataFrame(age_df).to_csv(\n",
    "#     '/Users/geickelb1/Documents/GitHub/mimiciii-antibiotics-modeling/data/raw/csv/%s/%s_pt_info_df.csv' %(folder,date))\n",
    "# pd.DataFrame(vaso_dose_72).to_csv(\n",
    "#     '/Users/geickelb1/Documents/GitHub/mimiciii-antibiotics-modeling/data/raw/csv/%s/%s_vaso_dose_72.csv' %(folder,date))\n",
    "\n",
    "# pd.DataFrame(vaso_dose_72).to_csv(\n",
    "#     '/Users/geickelb1/Documents/GitHub/mimiciii-antibiotics-modeling/data/raw/csv/%s/%s_vaso_dose_72.csv' %(folder,date))\n",
    "# pd.DataFrame(ventsettings_72).to_csv(\n",
    "#     '/Users/geickelb1/Documents/GitHub/mimiciii-antibiotics-modeling/data/raw/csv/%s/%s_ventsettings_72.csv' %(folder,date))\n",
    "\n",
    "# #vent category and count are already 72hour\n",
    "# pd.DataFrame(ventsettings_df).to_csv(\n",
    "#     '/Users/geickelb1/Documents/GitHub/mimiciii-antibiotics-modeling/data/raw/csv/%s/%s_ventsettings_df.csv' %(folder,date))\n",
    "# pd.DataFrame(ventcategory_df).to_csv(\n",
    "#     '/Users/geickelb1/Documents/GitHub/mimiciii-antibiotics-modeling/data/raw/csv/%s/%s_ventcategory_df.csv' %(folder,date))\n",
    "\n",
    "# # pd.DataFrame(echodata_72).to_csv(\n",
    "# #     '/Users/geickelb1/Documents/GitHub/mimiciii-antibiotics-modeling/data/raw/csv/72_hr_window/%s_echodata_72.csv' %(date))\n",
    "# pd.DataFrame(labs_all_nosummary_72).to_csv(\n",
    "#     '/Users/geickelb1/Documents/GitHub/mimiciii-antibiotics-modeling/data/raw/csv/%s/%s_labs_all_nosummary_72.csv' %(folder,date))\n",
    "\n",
    "# #vent category and count are already limited to first day\n",
    "# pd.DataFrame(weightfirstday_df).to_csv(\n",
    "#     '/Users/geickelb1/Documents/GitHub/mimiciii-antibiotics-modeling/data/raw/csv/%s/%s_weightfirstday_df.csv' %(folder,date))\n",
    "# pd.DataFrame(heightfirstday_df).to_csv(\n",
    "#     '/Users/geickelb1/Documents/GitHub/mimiciii-antibiotics-modeling/data/raw/csv/%s/%s_heightfirstday_df.csv' %(folder,date))\n",
    "\n",
    "# pd.DataFrame(vitals_all_nosummary_72).to_csv(\n",
    "#     '/Users/geickelb1/Documents/GitHub/mimiciii-antibiotics-modeling/data/raw/csv/%s/%s_vitals_all_nosummary_72.csv' %(folder,date))\n",
    "# pd.DataFrame(uti_all_72).to_csv(\n",
    "#     '/Users/geickelb1/Documents/GitHub/mimiciii-antibiotics-modeling/data/raw/csv/%s/%s_uti_all_72.csv' %(folder,date))\n",
    "# pd.DataFrame(bg_all_nosummary_72).to_csv(\n",
    "#     '/Users/geickelb1/Documents/GitHub/mimiciii-antibiotics-modeling/data/raw/csv/%s/%s_bg_all_nosummary_72.csv' %(folder,date))\n",
    "\n",
    "# pd.DataFrame(rrt_merged_allpt_df).to_csv(\n",
    "#     '/Users/geickelb1/Documents/GitHub/mimiciii-antibiotics-modeling/data/raw/csv/%s/%s_rrt_merged_allpt_df.csv' %(folder,date))\n",
    "# pd.DataFrame(gcs72_df).to_csv(\n",
    "#     '/Users/geickelb1/Documents/GitHub/mimiciii-antibiotics-modeling/data/raw/csv/%s/%s_gcs72_df.csv' %(folder,date))\n",
    "\n",
    "# pd.DataFrame(sofa_df_72).to_csv(\n",
    "#     '/Users/geickelb1/Documents/GitHub/mimiciii-antibiotics-modeling/data/raw/csv/%s/%s_sofa_df_72.csv' %(folder,date))\n"
   ]
  },
  {
   "cell_type": "code",
   "execution_count": null,
   "metadata": {},
   "outputs": [],
   "source": []
  }
 ],
 "metadata": {
  "kernelspec": {
   "display_name": "Python 3",
   "language": "python",
   "name": "python3"
  },
  "language_info": {
   "codemirror_mode": {
    "name": "ipython",
    "version": 3
   },
   "file_extension": ".py",
   "mimetype": "text/x-python",
   "name": "python",
   "nbconvert_exporter": "python",
   "pygments_lexer": "ipython3",
   "version": "3.6.8"
  }
 },
 "nbformat": 4,
 "nbformat_minor": 2
}
