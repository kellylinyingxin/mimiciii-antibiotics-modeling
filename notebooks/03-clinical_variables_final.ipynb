{
 "cells": [
  {
   "cell_type": "markdown",
   "metadata": {},
   "source": [
    "## clinical variable retrieval codebase.\n",
    "each querey is referencing a sql querey on my computer for ALL patients in the database, then generating a dataframe, then paring that dataframe down to only the patients/icustay_id in our cohort. it's inefficient but works. "
   ]
  },
  {
   "cell_type": "code",
   "execution_count": 11,
   "metadata": {},
   "outputs": [
    {
     "name": "stdout",
     "output_type": "stream",
     "text": [
      "time: 816 µs\n"
     ]
    }
   ],
   "source": [
    "#6-25-18\n",
    "#the streamlined version of this notebook seeks to accomplish a few tasks:\n",
    "#organize and standardize all sql code so that i am running a .sql file rather than typing sql code into jupyter\n",
    "#change all filepaths to match the github linked directory to ensure better version control\n",
    "###THIS IS STILL A WORK IN PROGRESS"
   ]
  },
  {
   "cell_type": "code",
   "execution_count": 2,
   "metadata": {},
   "outputs": [
    {
     "name": "stderr",
     "output_type": "stream",
     "text": [
      "/Users/geickelb1/anaconda/envs/rpy-env/lib/python3.6/site-packages/psycopg2/__init__.py:144: UserWarning: The psycopg2 wheel package will be renamed from release 2.8; in order to keep installing from binary please use \"pip install psycopg2-binary\" instead. For details see: <http://initd.org/psycopg/docs/install.html#binary-install-from-pypi>.\n",
      "  \"\"\")\n"
     ]
    }
   ],
   "source": [
    "import requests\n",
    "import numpy as np\n",
    "import pandas as pd\n",
    "import matplotlib.pyplot as plt\n",
    "import psycopg2\n",
    "import collections\n",
    "import asyncio\n",
    "import getpass\n",
    "import re\n",
    "from datetime import datetime as dt\n",
    "import os,sys,re\n",
    "import urllib3\n",
    "import prettytable\n",
    "from collections import Counter\n",
    "import seaborn as sns\n",
    "import random\n",
    "\n",
    "from sklearn.externals.joblib import Memory\n",
    "memory = Memory(cachedir='/tmp', verbose=0)\n",
    "#@memory.cache above any def fxn.\n",
    "\n",
    "%matplotlib inline\n",
    "plt.style.use('ggplot')\n",
    "\n",
    "from notebook.services.config import ConfigManager\n",
    "cm = ConfigManager()\n",
    "cm.update('livereveal', {\n",
    "        'width': 1024,\n",
    "        'height': 768,\n",
    "        'scroll': True,\n",
    "})\n",
    "\n",
    "%load_ext autotime"
   ]
  },
  {
   "cell_type": "code",
   "execution_count": 3,
   "metadata": {},
   "outputs": [
    {
     "name": "stdout",
     "output_type": "stream",
     "text": [
      "time: 86.1 ms\n"
     ]
    }
   ],
   "source": [
    "#patients of interest from rotation_cohort_generation\n",
    "\n",
    "final_pt_df2 = pd.read_csv('/Users/geickelb1/Documents/GitHub/mimiciii-antibiotics-modeling/data/raw/csv/16072018_final_pt_df2.csv', index_col=0)\n",
    "\n",
    "patients= list(final_pt_df2['subject_id'].unique())\n",
    "hadm_id= list(final_pt_df2['hadm_id'].unique())\n",
    "icustay_id= list(final_pt_df2['icustay_id'].unique())\n",
    "icustay_id= [int(x) for x in icustay_id]"
   ]
  },
  {
   "cell_type": "markdown",
   "metadata": {},
   "source": [
    "## Access MIMIC database and convert it to dataframe in Pandas"
   ]
  },
  {
   "cell_type": "code",
   "execution_count": 4,
   "metadata": {},
   "outputs": [
    {
     "name": "stdout",
     "output_type": "stream",
     "text": [
      "time: 3.88 s\n"
     ]
    }
   ],
   "source": [
    "import psycopg2\n",
    "conn = psycopg2.connect(dbname=\"mimic\", user=\"student\", host=\"luolabwkstn01.fsm.northwestern.edu\", port=\"5432\",\n",
    "                        password=getpass.getpass(prompt='Password:'.format()))\n",
    "cur=conn.cursor()\n",
    "\n",
    "query_schema = 'SET search_path to ' + \"mimiciii\" + ';'"
   ]
  },
  {
   "cell_type": "code",
   "execution_count": 5,
   "metadata": {},
   "outputs": [
    {
     "name": "stdout",
     "output_type": "stream",
     "text": [
      "time: 49.9 ms\n"
     ]
    }
   ],
   "source": [
    "#input the sql_exe_show object and get dataframe for only patients in patient list out. \n",
    "def sql_exe_show(sql_sentence):\n",
    "    cur.execute(sql_sentence)\n",
    "    rows = cur.fetchall()\n",
    "    col = []\n",
    "    for i in range(len(cur.description)):\n",
    "        col.append(cur.description[i][0])\n",
    "    table = pd.DataFrame(rows,columns=col)\n",
    "    return table\n",
    "\n",
    "def sql_to_df_icu(sql_exe_show_obj):\n",
    "    sql_exe_show_df= pd.DataFrame(data=sql_exe_show_obj)\n",
    "    sql_exe_show_df=sql_exe_show_df[sql_exe_show_df['icustay_id'].isin(icustay_id)]\n",
    "    return sql_exe_show_df\n",
    "\n",
    "def sql_to_df_patients(sql_exe_show_obj):\n",
    "    sql_exe_show_df= pd.DataFrame(data=sql_exe_show_obj)\n",
    "    sql_exe_show_df=sql_exe_show_df[sql_exe_show_df['subject_id'].isin(patients)]\n",
    "    return sql_exe_show_df\n",
    "\n",
    "def sql_to_df_hadm(sql_exe_show_obj):\n",
    "    sql_exe_show_df= pd.DataFrame(data=sql_exe_show_obj)\n",
    "    sql_exe_show_df=sql_exe_show_df[sql_exe_show_df['hadm_id'].isin(hadm_id)]\n",
    "    return sql_exe_show_df\n",
    "\n",
    "def clinvar_fxn(var_name, path):\n",
    "    f= open(path, 'r')\n",
    "    var = f.read()\n",
    "    cur.execute('rollback')\n",
    "    cur.execute(var)\n",
    "    try:\n",
    "        df= sql_to_df_icu(sql_exe_show('select * from %s;' %(var_name)))\n",
    "    except KeyError or NameError:\n",
    "        try:      \n",
    "            df= sql_to_df_hadm(sql_exe_show('select * from %s;' %(var_name)))\n",
    "        except KeyError or NameError:\n",
    "            df= sql_to_df_patients(sql_exe_show('select * from %s;' %(var_name)))\n",
    "\n",
    "    print(df.shape)\n",
    "    return(df)\n"
   ]
  },
  {
   "cell_type": "markdown",
   "metadata": {},
   "source": [
    "## Results in .csv"
   ]
  },
  {
   "cell_type": "code",
   "execution_count": null,
   "metadata": {},
   "outputs": [],
   "source": [
    "#where are these tables? i don't see any code generating this? "
   ]
  },
  {
   "cell_type": "code",
   "execution_count": 95,
   "metadata": {},
   "outputs": [
    {
     "ename": "NameError",
     "evalue": "name 'vitalsFirstDay' is not defined",
     "output_type": "error",
     "traceback": [
      "\u001b[0;31m---------------------------------------------------------------------------\u001b[0m",
      "\u001b[0;31mNameError\u001b[0m                                 Traceback (most recent call last)",
      "\u001b[0;32m<ipython-input-95-7b26532d95d9>\u001b[0m in \u001b[0;36m<module>\u001b[0;34m()\u001b[0m\n\u001b[1;32m      3\u001b[0m \u001b[0mindex\u001b[0m\u001b[0;34m.\u001b[0m\u001b[0mappend\u001b[0m\u001b[0;34m(\u001b[0m\u001b[0mheightFirstDay\u001b[0m\u001b[0;34m.\u001b[0m\u001b[0mcolumns\u001b[0m\u001b[0;34m)\u001b[0m\u001b[0;34m\u001b[0m\u001b[0m\n\u001b[1;32m      4\u001b[0m \u001b[0mindex\u001b[0m\u001b[0;34m.\u001b[0m\u001b[0mappend\u001b[0m\u001b[0;34m(\u001b[0m\u001b[0mweightFirstDay\u001b[0m\u001b[0;34m.\u001b[0m\u001b[0mcolumns\u001b[0m\u001b[0;34m)\u001b[0m\u001b[0;34m\u001b[0m\u001b[0m\n\u001b[0;32m----> 5\u001b[0;31m \u001b[0mindex\u001b[0m\u001b[0;34m.\u001b[0m\u001b[0mappend\u001b[0m\u001b[0;34m(\u001b[0m\u001b[0mvitalsFirstDay\u001b[0m\u001b[0;34m.\u001b[0m\u001b[0mcolumns\u001b[0m\u001b[0;34m)\u001b[0m\u001b[0;34m\u001b[0m\u001b[0m\n\u001b[0m\u001b[1;32m      6\u001b[0m \u001b[0mindex\u001b[0m\u001b[0;34m.\u001b[0m\u001b[0mappend\u001b[0m\u001b[0;34m(\u001b[0m\u001b[0mlabsFirstDay\u001b[0m\u001b[0;34m.\u001b[0m\u001b[0mcolumns\u001b[0m\u001b[0;34m)\u001b[0m\u001b[0;34m\u001b[0m\u001b[0m\n\u001b[1;32m      7\u001b[0m \u001b[0mindex\u001b[0m\u001b[0;34m.\u001b[0m\u001b[0mappend\u001b[0m\u001b[0;34m(\u001b[0m\u001b[0mbgFirstDay\u001b[0m\u001b[0;34m.\u001b[0m\u001b[0mcolumns\u001b[0m\u001b[0;34m)\u001b[0m\u001b[0;34m\u001b[0m\u001b[0m\n",
      "\u001b[0;31mNameError\u001b[0m: name 'vitalsFirstDay' is not defined"
     ]
    },
    {
     "name": "stdout",
     "output_type": "stream",
     "text": [
      "time: 46.7 ms\n"
     ]
    }
   ],
   "source": [
    "# index = [] \n",
    "# index.append(echoTable.columns)\n",
    "# index.append(heightFirstDayTable.columns)\n",
    "# index.append(weightFirstDayTable.columns)\n",
    "# index.append(vitalsFirstDayTable.columns)\n",
    "# index.append(labsFirstDayTable.columns)\n",
    "# index.append(bgFirstDayTable.columns)\n",
    "# index.append(gcsFirstDayTable.columns)\n",
    "# index.append(rrtFirstDayTable.columns)\n",
    "# index.append(urineFirstDayTable.columns)\n",
    "# pd.DataFrame(index).to_csv('index.csv')\n"
   ]
  },
  {
   "cell_type": "code",
   "execution_count": 99,
   "metadata": {},
   "outputs": [
    {
     "name": "stdout",
     "output_type": "stream",
     "text": [
      "time: 2.75 s\n"
     ]
    }
   ],
   "source": [
    "# # index = [] \n",
    "# # index.append(echoDf.columns)\n",
    "# # index.append(heightFirstDayDf.columns)\n",
    "# # index.append(weightFirstDayDf.columns)\n",
    "# # index.append(vitalsFirstDayDf.columns)\n",
    "# # index.append(labsFirstDayDf.columns)\n",
    "# # index.append(bgFirstDayDf.columns)\n",
    "# # index.append(gcsFirstDayDf.columns)\n",
    "# # index.append(rrtFirstDayDf.columns)\n",
    "# # index.append(urineFirstDayDf.columns)\n",
    "# pd.DataFrame(echoDf).to_csv('clinical_csv/echoDf.csv')\n",
    "# pd.DataFrame(heightFirstDayDf).to_csv('clinical_csv/heightFirstDayDf.csv')\n",
    "# pd.DataFrame(weightFirstDayDf).to_csv('clinical_csv/weightFirstDayDf.csv')\n",
    "# pd.DataFrame(vitalsFirstDayDf).to_csv('clinical_csv/vitalsFirstDayDf.csv')\n",
    "# pd.DataFrame(labsFirstDayDf).to_csv('clinical_csv/labsFirstDayDf.csv')\n",
    "# pd.DataFrame(bgFirstDayDf).to_csv('clinical_csv/bgFirstDayDf.csv')\n",
    "# pd.DataFrame(gcsFirstDayDf).to_csv('clinical_csv/gcsFirstDayDf.csv')\n",
    "# pd.DataFrame(rrtFirstDayDf).to_csv('clinical_csv/rrtFirstDayDf.csv')\n",
    "# pd.DataFrame(urineFirstDayDf).to_csv('clinical_csv/urineFirstDayDf.csv')\n"
   ]
  },
  {
   "cell_type": "markdown",
   "metadata": {},
   "source": [
    "# extracting clinical data for our patients"
   ]
  },
  {
   "cell_type": "markdown",
   "metadata": {},
   "source": [
    "## Echodata in Noteevents"
   ]
  },
  {
   "cell_type": "code",
   "execution_count": 5,
   "metadata": {},
   "outputs": [
    {
     "name": "stdout",
     "output_type": "stream",
     "text": [
      "(10137, 18)\n",
      "time: 34 s\n"
     ]
    }
   ],
   "source": [
    "echodata_df= clinvar_fxn(\n",
    "    'echodata',\n",
    "    '/Users/geickelb1/Documents/GitHub/mimiciii-antibiotics-modeling/data/raw/clinical_var_sql/all/echodata.sql' \n",
    ")"
   ]
  },
  {
   "cell_type": "markdown",
   "metadata": {},
   "source": [
    "## Weight"
   ]
  },
  {
   "cell_type": "code",
   "execution_count": 19,
   "metadata": {
    "scrolled": true
   },
   "outputs": [
    {
     "name": "stdout",
     "output_type": "stream",
     "text": [
      "(12801, 6)\n",
      "time: 7.19 s\n"
     ]
    }
   ],
   "source": [
    "# -- This query extracts weights for adult ICU patients on their first ICU day.\n",
    "# -- It does *not* use any information after the first ICU day, as weight is\n",
    "# -- sometimes used to monitor fluid balance.\n",
    "\n",
    "weightfirstday_df= clinvar_fxn(\n",
    "    'weightfirstday',\n",
    "    '/Users/geickelb1/Documents/GitHub/mimiciii-antibiotics-modeling/data/raw/clinical_var_sql/all/weightfirstday.sql' \n",
    ")\n"
   ]
  },
  {
   "cell_type": "markdown",
   "metadata": {},
   "source": [
    "## Height"
   ]
  },
  {
   "cell_type": "code",
   "execution_count": 7,
   "metadata": {
    "scrolled": true
   },
   "outputs": [
    {
     "name": "stdout",
     "output_type": "stream",
     "text": [
      "(12801, 4)\n",
      "time: 2.52 s\n"
     ]
    }
   ],
   "source": [
    "# -- This query extracts heights for adult ICU patients.\n",
    "# -- It uses all information from the patient's first ICU day.\n",
    "# -- This is done for consistency with other queries - it's not necessarily needed.\n",
    "# -- Height is unlikely to change throughout a patient's stay.\n",
    "heightfirstday_df= clinvar_fxn(\n",
    "    'heightfirstday',\n",
    "    '/Users/geickelb1/Documents/GitHub/mimiciii-antibiotics-modeling/data/raw/clinical_var_sql/all/heightfirstday.sql' \n",
    ")"
   ]
  },
  {
   "cell_type": "markdown",
   "metadata": {},
   "source": [
    "# Labs"
   ]
  },
  {
   "cell_type": "code",
   "execution_count": 8,
   "metadata": {
    "scrolled": true
   },
   "outputs": [
    {
     "name": "stdout",
     "output_type": "stream",
     "text": [
      "(3036173, 6)\n",
      "time: 6min 26s\n"
     ]
    }
   ],
   "source": [
    "# -- This query pivots lab values taken in the first 24 hours of a patient's stay\n",
    "# -- Have already confirmed that the unit of measurement is always the same: null or the correct unit\n",
    "\n",
    "labs_all_nosummary_df= clinvar_fxn(\n",
    "    'labs_all_nosummary',\n",
    "    '/Users/geickelb1/Documents/GitHub/mimiciii-antibiotics-modeling/data/raw/clinical_var_sql/all/no_summary/labs_all_nosummary.sql' \n",
    ")\n"
   ]
  },
  {
   "cell_type": "markdown",
   "metadata": {},
   "source": [
    "## Vital Sign"
   ]
  },
  {
   "cell_type": "code",
   "execution_count": 9,
   "metadata": {
    "scrolled": true
   },
   "outputs": [
    {
     "name": "stdout",
     "output_type": "stream",
     "text": [
      "(14028103, 6)\n",
      "time: 19min 44s\n"
     ]
    }
   ],
   "source": [
    "##-- This query pivots the vital signs for the first 24 hours of a patient's stay\n",
    "##-- Vital signs include heart rate, blood pressure, respiration rate, and temperature\n",
    "\n",
    "vitals_all_nosummary_df= clinvar_fxn(\n",
    "    'vitals_all_nosummary',\n",
    "    '/Users/geickelb1/Documents/GitHub/mimiciii-antibiotics-modeling/data/raw/clinical_var_sql/all/no_summary/vitals_all_nosummary.sql' \n",
    ")"
   ]
  },
  {
   "cell_type": "markdown",
   "metadata": {},
   "source": [
    "## Glasgow Coma Scale"
   ]
  },
  {
   "cell_type": "code",
   "execution_count": 10,
   "metadata": {
    "scrolled": true
   },
   "outputs": [
    {
     "name": "stdout",
     "output_type": "stream",
     "text": [
      "(12801, 8)\n",
      "time: 2min 13s\n"
     ]
    }
   ],
   "source": [
    "gcsall_df= clinvar_fxn(\n",
    "    'gcsall',\n",
    "    '/Users/geickelb1/Documents/GitHub/mimiciii-antibiotics-modeling/data/raw/clinical_var_sql/all/gcsall.sql' \n",
    ")"
   ]
  },
  {
   "cell_type": "markdown",
   "metadata": {},
   "source": [
    "## Renal replacement therapy"
   ]
  },
  {
   "cell_type": "code",
   "execution_count": 11,
   "metadata": {
    "scrolled": true
   },
   "outputs": [
    {
     "name": "stdout",
     "output_type": "stream",
     "text": [
      "(12801, 4)\n",
      "time: 9.48 s\n"
     ]
    }
   ],
   "source": [
    "rrt_all_df= clinvar_fxn(\n",
    "    'rrt_all',\n",
    "    '/Users/geickelb1/Documents/GitHub/mimiciii-antibiotics-modeling/data/raw/clinical_var_sql/all/no_summary/rrt_all.sql' \n",
    ")"
   ]
  },
  {
   "cell_type": "markdown",
   "metadata": {},
   "source": [
    "## Urine Output"
   ]
  },
  {
   "cell_type": "code",
   "execution_count": 12,
   "metadata": {
    "scrolled": true
   },
   "outputs": [
    {
     "name": "stdout",
     "output_type": "stream",
     "text": [
      "(73302, 5)\n",
      "time: 15.8 s\n"
     ]
    }
   ],
   "source": [
    "urine_output_all_df= clinvar_fxn(\n",
    "    'urine_output_all',\n",
    "    '/Users/geickelb1/Documents/GitHub/mimiciii-antibiotics-modeling/data/raw/clinical_var_sql/all/urine_output_all.sql' \n",
    ")"
   ]
  },
  {
   "cell_type": "markdown",
   "metadata": {},
   "source": [
    "# UTI related variables"
   ]
  },
  {
   "cell_type": "code",
   "execution_count": 6,
   "metadata": {},
   "outputs": [
    {
     "name": "stdout",
     "output_type": "stream",
     "text": [
      "(645133, 12)\n",
      "time: 15min 23s\n"
     ]
    }
   ],
   "source": [
    "uti_all_df= clinvar_fxn(\n",
    "    'uti_all',\n",
    "    '/Users/geickelb1/Documents/GitHub/mimiciii-antibiotics-modeling/data/raw/clinical_var_sql/all/uti_all.sql' \n",
    ")"
   ]
  },
  {
   "cell_type": "code",
   "execution_count": 10,
   "metadata": {},
   "outputs": [
    {
     "data": {
      "text/html": [
       "<div>\n",
       "<style scoped>\n",
       "    .dataframe tbody tr th:only-of-type {\n",
       "        vertical-align: middle;\n",
       "    }\n",
       "\n",
       "    .dataframe tbody tr th {\n",
       "        vertical-align: top;\n",
       "    }\n",
       "\n",
       "    .dataframe thead th {\n",
       "        text-align: right;\n",
       "    }\n",
       "</style>\n",
       "<table border=\"1\" class=\"dataframe\">\n",
       "  <thead>\n",
       "    <tr style=\"text-align: right;\">\n",
       "      <th></th>\n",
       "      <th>subject_id</th>\n",
       "      <th>hadm_id</th>\n",
       "      <th>itemid</th>\n",
       "      <th>charttime</th>\n",
       "      <th>value</th>\n",
       "      <th>valuenum</th>\n",
       "      <th>valueuom</th>\n",
       "      <th>label</th>\n",
       "      <th>fluid</th>\n",
       "      <th>category</th>\n",
       "      <th>loinc_code</th>\n",
       "      <th>icd9_code</th>\n",
       "    </tr>\n",
       "  </thead>\n",
       "  <tbody>\n",
       "    <tr>\n",
       "      <th>78</th>\n",
       "      <td>9</td>\n",
       "      <td>150750.0</td>\n",
       "      <td>51486</td>\n",
       "      <td>2149-11-09 11:32:00</td>\n",
       "      <td>NEG</td>\n",
       "      <td>NaN</td>\n",
       "      <td>None</td>\n",
       "      <td>Leukocytes</td>\n",
       "      <td>Urine</td>\n",
       "      <td>Hematology</td>\n",
       "      <td>5799-2</td>\n",
       "      <td>431</td>\n",
       "    </tr>\n",
       "    <tr>\n",
       "      <th>79</th>\n",
       "      <td>9</td>\n",
       "      <td>150750.0</td>\n",
       "      <td>51486</td>\n",
       "      <td>2149-11-09 11:32:00</td>\n",
       "      <td>NEG</td>\n",
       "      <td>NaN</td>\n",
       "      <td>None</td>\n",
       "      <td>Leukocytes</td>\n",
       "      <td>Urine</td>\n",
       "      <td>Hematology</td>\n",
       "      <td>5799-2</td>\n",
       "      <td>5070</td>\n",
       "    </tr>\n",
       "    <tr>\n",
       "      <th>80</th>\n",
       "      <td>9</td>\n",
       "      <td>150750.0</td>\n",
       "      <td>51486</td>\n",
       "      <td>2149-11-09 11:32:00</td>\n",
       "      <td>NEG</td>\n",
       "      <td>NaN</td>\n",
       "      <td>None</td>\n",
       "      <td>Leukocytes</td>\n",
       "      <td>Urine</td>\n",
       "      <td>Hematology</td>\n",
       "      <td>5799-2</td>\n",
       "      <td>4280</td>\n",
       "    </tr>\n",
       "    <tr>\n",
       "      <th>81</th>\n",
       "      <td>9</td>\n",
       "      <td>150750.0</td>\n",
       "      <td>51486</td>\n",
       "      <td>2149-11-09 11:32:00</td>\n",
       "      <td>NEG</td>\n",
       "      <td>NaN</td>\n",
       "      <td>None</td>\n",
       "      <td>Leukocytes</td>\n",
       "      <td>Urine</td>\n",
       "      <td>Hematology</td>\n",
       "      <td>5799-2</td>\n",
       "      <td>5849</td>\n",
       "    </tr>\n",
       "    <tr>\n",
       "      <th>82</th>\n",
       "      <td>9</td>\n",
       "      <td>150750.0</td>\n",
       "      <td>51486</td>\n",
       "      <td>2149-11-09 11:32:00</td>\n",
       "      <td>NEG</td>\n",
       "      <td>NaN</td>\n",
       "      <td>None</td>\n",
       "      <td>Leukocytes</td>\n",
       "      <td>Urine</td>\n",
       "      <td>Hematology</td>\n",
       "      <td>5799-2</td>\n",
       "      <td>2765</td>\n",
       "    </tr>\n",
       "    <tr>\n",
       "      <th>83</th>\n",
       "      <td>9</td>\n",
       "      <td>150750.0</td>\n",
       "      <td>51486</td>\n",
       "      <td>2149-11-09 11:32:00</td>\n",
       "      <td>NEG</td>\n",
       "      <td>NaN</td>\n",
       "      <td>None</td>\n",
       "      <td>Leukocytes</td>\n",
       "      <td>Urine</td>\n",
       "      <td>Hematology</td>\n",
       "      <td>5799-2</td>\n",
       "      <td>4019</td>\n",
       "    </tr>\n",
       "    <tr>\n",
       "      <th>89</th>\n",
       "      <td>9</td>\n",
       "      <td>150750.0</td>\n",
       "      <td>51486</td>\n",
       "      <td>2149-11-10 09:24:00</td>\n",
       "      <td>NEG</td>\n",
       "      <td>NaN</td>\n",
       "      <td>None</td>\n",
       "      <td>Leukocytes</td>\n",
       "      <td>Urine</td>\n",
       "      <td>Hematology</td>\n",
       "      <td>5799-2</td>\n",
       "      <td>431</td>\n",
       "    </tr>\n",
       "    <tr>\n",
       "      <th>90</th>\n",
       "      <td>9</td>\n",
       "      <td>150750.0</td>\n",
       "      <td>51486</td>\n",
       "      <td>2149-11-10 09:24:00</td>\n",
       "      <td>NEG</td>\n",
       "      <td>NaN</td>\n",
       "      <td>None</td>\n",
       "      <td>Leukocytes</td>\n",
       "      <td>Urine</td>\n",
       "      <td>Hematology</td>\n",
       "      <td>5799-2</td>\n",
       "      <td>5070</td>\n",
       "    </tr>\n",
       "    <tr>\n",
       "      <th>91</th>\n",
       "      <td>9</td>\n",
       "      <td>150750.0</td>\n",
       "      <td>51486</td>\n",
       "      <td>2149-11-10 09:24:00</td>\n",
       "      <td>NEG</td>\n",
       "      <td>NaN</td>\n",
       "      <td>None</td>\n",
       "      <td>Leukocytes</td>\n",
       "      <td>Urine</td>\n",
       "      <td>Hematology</td>\n",
       "      <td>5799-2</td>\n",
       "      <td>4280</td>\n",
       "    </tr>\n",
       "    <tr>\n",
       "      <th>92</th>\n",
       "      <td>9</td>\n",
       "      <td>150750.0</td>\n",
       "      <td>51486</td>\n",
       "      <td>2149-11-10 09:24:00</td>\n",
       "      <td>NEG</td>\n",
       "      <td>NaN</td>\n",
       "      <td>None</td>\n",
       "      <td>Leukocytes</td>\n",
       "      <td>Urine</td>\n",
       "      <td>Hematology</td>\n",
       "      <td>5799-2</td>\n",
       "      <td>5849</td>\n",
       "    </tr>\n",
       "  </tbody>\n",
       "</table>\n",
       "</div>"
      ],
      "text/plain": [
       "    subject_id   hadm_id  itemid           charttime value  valuenum valueuom  \\\n",
       "78           9  150750.0   51486 2149-11-09 11:32:00   NEG       NaN     None   \n",
       "79           9  150750.0   51486 2149-11-09 11:32:00   NEG       NaN     None   \n",
       "80           9  150750.0   51486 2149-11-09 11:32:00   NEG       NaN     None   \n",
       "81           9  150750.0   51486 2149-11-09 11:32:00   NEG       NaN     None   \n",
       "82           9  150750.0   51486 2149-11-09 11:32:00   NEG       NaN     None   \n",
       "83           9  150750.0   51486 2149-11-09 11:32:00   NEG       NaN     None   \n",
       "89           9  150750.0   51486 2149-11-10 09:24:00   NEG       NaN     None   \n",
       "90           9  150750.0   51486 2149-11-10 09:24:00   NEG       NaN     None   \n",
       "91           9  150750.0   51486 2149-11-10 09:24:00   NEG       NaN     None   \n",
       "92           9  150750.0   51486 2149-11-10 09:24:00   NEG       NaN     None   \n",
       "\n",
       "         label  fluid    category loinc_code icd9_code  \n",
       "78  Leukocytes  Urine  Hematology     5799-2       431  \n",
       "79  Leukocytes  Urine  Hematology     5799-2      5070  \n",
       "80  Leukocytes  Urine  Hematology     5799-2      4280  \n",
       "81  Leukocytes  Urine  Hematology     5799-2      5849  \n",
       "82  Leukocytes  Urine  Hematology     5799-2      2765  \n",
       "83  Leukocytes  Urine  Hematology     5799-2      4019  \n",
       "89  Leukocytes  Urine  Hematology     5799-2       431  \n",
       "90  Leukocytes  Urine  Hematology     5799-2      5070  \n",
       "91  Leukocytes  Urine  Hematology     5799-2      4280  \n",
       "92  Leukocytes  Urine  Hematology     5799-2      5849  "
      ]
     },
     "execution_count": 10,
     "metadata": {},
     "output_type": "execute_result"
    },
    {
     "name": "stdout",
     "output_type": "stream",
     "text": [
      "time: 25.2 ms\n"
     ]
    }
   ],
   "source": [
    "uti_all_df.head(10)"
   ]
  },
  {
   "cell_type": "markdown",
   "metadata": {},
   "source": [
    "## Blood Gas Test"
   ]
  },
  {
   "cell_type": "code",
   "execution_count": 13,
   "metadata": {
    "collapsed": true
   },
   "outputs": [
    {
     "name": "stdout",
     "output_type": "stream",
     "text": [
      "(1705168, 6)\n",
      "time: 3min 25s\n"
     ]
    }
   ],
   "source": [
    "bg_all_nosummary_df= clinvar_fxn(\n",
    "    'bg_all_nosummary',\n",
    "    '/Users/geickelb1/Documents/GitHub/mimiciii-antibiotics-modeling/data/raw/clinical_var_sql/all/no_summary/bg_all_nosummary.sql' \n",
    ")"
   ]
  },
  {
   "cell_type": "markdown",
   "metadata": {},
   "source": [
    "## Vasodil"
   ]
  },
  {
   "cell_type": "code",
   "execution_count": 27,
   "metadata": {},
   "outputs": [
    {
     "name": "stdout",
     "output_type": "stream",
     "text": [
      "(45448, 4)\n",
      "(2397, 5)\n",
      "(44371, 5)\n",
      "(8900, 5)\n",
      "(1922, 5)\n",
      "(3472, 5)\n",
      "(36608, 5)\n",
      "time: 52.8 s\n"
     ]
    }
   ],
   "source": [
    "\n",
    "weightdurations_df= clinvar_fxn(\n",
    "    'weightdurations',\n",
    "    '/Users/geickelb1/Documents/GitHub/mimiciii-antibiotics-modeling/data/raw/clinical_var_sql/weightdurations.sql'\n",
    ")\n",
    "\n",
    "epi_dose_df= clinvar_fxn(\n",
    "    'epinephrine_dose',\n",
    "    '/Users/geickelb1/Documents/GitHub/mimiciii-antibiotics-modeling/data/raw/clinical_var_sql/epinephrine_dose.sql'\n",
    ")\n",
    "norepi_dose_df= clinvar_fxn(\n",
    "    'norepinephrine_dose',\n",
    "    '/Users/geickelb1/Documents/GitHub/mimiciii-antibiotics-modeling/data/raw/clinical_var_sql/norepinephrine_dose.sql'\n",
    ")\n",
    "dopamine_dose_df= clinvar_fxn(\n",
    "    'dopamine_dose',\n",
    "    '/Users/geickelb1/Documents/GitHub/mimiciii-antibiotics-modeling/data/raw/clinical_var_sql/dopamine_dose.sql'\n",
    ")\n",
    "dobutamine_dose_df= clinvar_fxn(\n",
    "    'dobutamine_dose',\n",
    "    '/Users/geickelb1/Documents/GitHub/mimiciii-antibiotics-modeling/data/raw/clinical_var_sql/dobutamine_dose.sql'\n",
    ")\n",
    "vasopressin_dose_df= clinvar_fxn(\n",
    "    'vasopressin_dose',\n",
    "    '/Users/geickelb1/Documents/GitHub/mimiciii-antibiotics-modeling/data/raw/clinical_var_sql/vasopressin_dose.sql'\n",
    ")\n",
    "phenylephrine_dose_df= clinvar_fxn(\n",
    "    'phenylephrine_dose',\n",
    "    '/Users/geickelb1/Documents/GitHub/mimiciii-antibiotics-modeling/data/raw/clinical_var_sql/phenylephrine_dose.sql'\n",
    ")"
   ]
  },
  {
   "cell_type": "code",
   "execution_count": 33,
   "metadata": {},
   "outputs": [
    {
     "name": "stdout",
     "output_type": "stream",
     "text": [
      "(688532, 6)\n",
      "time: 4min 11s\n"
     ]
    }
   ],
   "source": [
    "ventsettings_df= clinvar_fxn(\n",
    "    'ventsettings',\n",
    "    '/Users/geickelb1/Documents/GitHub/mimiciii-antibiotics-modeling/data/raw/clinical_var_sql/ventsettings.sql'\n",
    ")\n",
    "#going from wide format to long:\n",
    "#pd.melt(ventsettings_df, id_vars=['icustay_id','charttime'])"
   ]
  },
  {
   "cell_type": "code",
   "execution_count": 58,
   "metadata": {},
   "outputs": [
    {
     "data": {
      "text/html": [
       "<div>\n",
       "<style scoped>\n",
       "    .dataframe tbody tr th:only-of-type {\n",
       "        vertical-align: middle;\n",
       "    }\n",
       "\n",
       "    .dataframe tbody tr th {\n",
       "        vertical-align: top;\n",
       "    }\n",
       "\n",
       "    .dataframe thead th {\n",
       "        text-align: right;\n",
       "    }\n",
       "</style>\n",
       "<table border=\"1\" class=\"dataframe\">\n",
       "  <thead>\n",
       "    <tr style=\"text-align: right;\">\n",
       "      <th></th>\n",
       "      <th>icustay_id</th>\n",
       "      <th>charttime</th>\n",
       "      <th>variable</th>\n",
       "      <th>value</th>\n",
       "    </tr>\n",
       "  </thead>\n",
       "  <tbody>\n",
       "    <tr>\n",
       "      <th>0</th>\n",
       "      <td>292972.0</td>\n",
       "      <td>2178-03-14 22:00:00</td>\n",
       "      <td>mechvent</td>\n",
       "      <td>0</td>\n",
       "    </tr>\n",
       "    <tr>\n",
       "      <th>1</th>\n",
       "      <td>255356.0</td>\n",
       "      <td>2156-04-26 18:00:00</td>\n",
       "      <td>mechvent</td>\n",
       "      <td>0</td>\n",
       "    </tr>\n",
       "    <tr>\n",
       "      <th>2</th>\n",
       "      <td>295273.0</td>\n",
       "      <td>2195-09-23 18:26:00</td>\n",
       "      <td>mechvent</td>\n",
       "      <td>1</td>\n",
       "    </tr>\n",
       "    <tr>\n",
       "      <th>3</th>\n",
       "      <td>288354.0</td>\n",
       "      <td>2103-11-04 09:40:00</td>\n",
       "      <td>mechvent</td>\n",
       "      <td>0</td>\n",
       "    </tr>\n",
       "    <tr>\n",
       "      <th>4</th>\n",
       "      <td>226799.0</td>\n",
       "      <td>2153-08-06 11:03:00</td>\n",
       "      <td>mechvent</td>\n",
       "      <td>1</td>\n",
       "    </tr>\n",
       "    <tr>\n",
       "      <th>5</th>\n",
       "      <td>232333.0</td>\n",
       "      <td>2120-08-22 12:00:00</td>\n",
       "      <td>mechvent</td>\n",
       "      <td>0</td>\n",
       "    </tr>\n",
       "    <tr>\n",
       "      <th>6</th>\n",
       "      <td>215903.0</td>\n",
       "      <td>2175-06-10 12:59:00</td>\n",
       "      <td>mechvent</td>\n",
       "      <td>1</td>\n",
       "    </tr>\n",
       "    <tr>\n",
       "      <th>7</th>\n",
       "      <td>258962.0</td>\n",
       "      <td>2134-08-29 00:33:00</td>\n",
       "      <td>mechvent</td>\n",
       "      <td>1</td>\n",
       "    </tr>\n",
       "    <tr>\n",
       "      <th>8</th>\n",
       "      <td>269856.0</td>\n",
       "      <td>2119-02-07 10:00:00</td>\n",
       "      <td>mechvent</td>\n",
       "      <td>0</td>\n",
       "    </tr>\n",
       "    <tr>\n",
       "      <th>9</th>\n",
       "      <td>252836.0</td>\n",
       "      <td>2191-08-24 17:23:00</td>\n",
       "      <td>mechvent</td>\n",
       "      <td>1</td>\n",
       "    </tr>\n",
       "    <tr>\n",
       "      <th>10</th>\n",
       "      <td>231847.0</td>\n",
       "      <td>2176-03-30 11:00:00</td>\n",
       "      <td>mechvent</td>\n",
       "      <td>1</td>\n",
       "    </tr>\n",
       "    <tr>\n",
       "      <th>11</th>\n",
       "      <td>226799.0</td>\n",
       "      <td>2153-08-22 02:43:00</td>\n",
       "      <td>mechvent</td>\n",
       "      <td>1</td>\n",
       "    </tr>\n",
       "    <tr>\n",
       "      <th>12</th>\n",
       "      <td>268249.0</td>\n",
       "      <td>2103-07-18 11:00:00</td>\n",
       "      <td>mechvent</td>\n",
       "      <td>1</td>\n",
       "    </tr>\n",
       "    <tr>\n",
       "      <th>13</th>\n",
       "      <td>236665.0</td>\n",
       "      <td>2174-10-01 03:00:00</td>\n",
       "      <td>mechvent</td>\n",
       "      <td>0</td>\n",
       "    </tr>\n",
       "    <tr>\n",
       "      <th>14</th>\n",
       "      <td>258343.0</td>\n",
       "      <td>2189-08-25 08:00:00</td>\n",
       "      <td>mechvent</td>\n",
       "      <td>1</td>\n",
       "    </tr>\n",
       "    <tr>\n",
       "      <th>15</th>\n",
       "      <td>235148.0</td>\n",
       "      <td>2141-12-11 03:49:00</td>\n",
       "      <td>mechvent</td>\n",
       "      <td>1</td>\n",
       "    </tr>\n",
       "    <tr>\n",
       "      <th>16</th>\n",
       "      <td>293635.0</td>\n",
       "      <td>2130-01-02 16:12:00</td>\n",
       "      <td>mechvent</td>\n",
       "      <td>1</td>\n",
       "    </tr>\n",
       "    <tr>\n",
       "      <th>17</th>\n",
       "      <td>201318.0</td>\n",
       "      <td>2200-11-22 20:00:00</td>\n",
       "      <td>mechvent</td>\n",
       "      <td>0</td>\n",
       "    </tr>\n",
       "    <tr>\n",
       "      <th>18</th>\n",
       "      <td>235268.0</td>\n",
       "      <td>2146-09-14 05:00:00</td>\n",
       "      <td>mechvent</td>\n",
       "      <td>1</td>\n",
       "    </tr>\n",
       "    <tr>\n",
       "      <th>19</th>\n",
       "      <td>296738.0</td>\n",
       "      <td>2157-04-28 18:00:00</td>\n",
       "      <td>mechvent</td>\n",
       "      <td>0</td>\n",
       "    </tr>\n",
       "    <tr>\n",
       "      <th>20</th>\n",
       "      <td>246000.0</td>\n",
       "      <td>2195-03-26 17:00:00</td>\n",
       "      <td>mechvent</td>\n",
       "      <td>1</td>\n",
       "    </tr>\n",
       "    <tr>\n",
       "      <th>21</th>\n",
       "      <td>235083.0</td>\n",
       "      <td>2142-08-06 00:00:00</td>\n",
       "      <td>mechvent</td>\n",
       "      <td>0</td>\n",
       "    </tr>\n",
       "    <tr>\n",
       "      <th>22</th>\n",
       "      <td>257517.0</td>\n",
       "      <td>2188-09-25 07:00:00</td>\n",
       "      <td>mechvent</td>\n",
       "      <td>1</td>\n",
       "    </tr>\n",
       "    <tr>\n",
       "      <th>23</th>\n",
       "      <td>237812.0</td>\n",
       "      <td>2125-12-20 20:00:00</td>\n",
       "      <td>mechvent</td>\n",
       "      <td>1</td>\n",
       "    </tr>\n",
       "    <tr>\n",
       "      <th>24</th>\n",
       "      <td>224655.0</td>\n",
       "      <td>2181-10-23 17:00:00</td>\n",
       "      <td>mechvent</td>\n",
       "      <td>1</td>\n",
       "    </tr>\n",
       "    <tr>\n",
       "      <th>25</th>\n",
       "      <td>289579.0</td>\n",
       "      <td>2129-09-26 23:53:00</td>\n",
       "      <td>mechvent</td>\n",
       "      <td>1</td>\n",
       "    </tr>\n",
       "    <tr>\n",
       "      <th>26</th>\n",
       "      <td>264052.0</td>\n",
       "      <td>2201-05-16 03:21:00</td>\n",
       "      <td>mechvent</td>\n",
       "      <td>1</td>\n",
       "    </tr>\n",
       "    <tr>\n",
       "      <th>27</th>\n",
       "      <td>279582.0</td>\n",
       "      <td>2144-01-07 15:00:00</td>\n",
       "      <td>mechvent</td>\n",
       "      <td>1</td>\n",
       "    </tr>\n",
       "    <tr>\n",
       "      <th>28</th>\n",
       "      <td>295273.0</td>\n",
       "      <td>2195-09-24 03:51:00</td>\n",
       "      <td>mechvent</td>\n",
       "      <td>1</td>\n",
       "    </tr>\n",
       "    <tr>\n",
       "      <th>29</th>\n",
       "      <td>239152.0</td>\n",
       "      <td>2142-07-10 04:00:00</td>\n",
       "      <td>mechvent</td>\n",
       "      <td>1</td>\n",
       "    </tr>\n",
       "    <tr>\n",
       "      <th>...</th>\n",
       "      <td>...</td>\n",
       "      <td>...</td>\n",
       "      <td>...</td>\n",
       "      <td>...</td>\n",
       "    </tr>\n",
       "    <tr>\n",
       "      <th>2754098</th>\n",
       "      <td>294018.0</td>\n",
       "      <td>2167-09-06 08:00:00</td>\n",
       "      <td>selfextubated</td>\n",
       "      <td>0</td>\n",
       "    </tr>\n",
       "    <tr>\n",
       "      <th>2754099</th>\n",
       "      <td>292460.0</td>\n",
       "      <td>2132-10-23 08:35:00</td>\n",
       "      <td>selfextubated</td>\n",
       "      <td>0</td>\n",
       "    </tr>\n",
       "    <tr>\n",
       "      <th>2754100</th>\n",
       "      <td>226799.0</td>\n",
       "      <td>2153-08-09 13:43:00</td>\n",
       "      <td>selfextubated</td>\n",
       "      <td>0</td>\n",
       "    </tr>\n",
       "    <tr>\n",
       "      <th>2754101</th>\n",
       "      <td>252836.0</td>\n",
       "      <td>2191-08-23 13:26:00</td>\n",
       "      <td>selfextubated</td>\n",
       "      <td>0</td>\n",
       "    </tr>\n",
       "    <tr>\n",
       "      <th>2754102</th>\n",
       "      <td>206856.0</td>\n",
       "      <td>2131-05-10 22:24:00</td>\n",
       "      <td>selfextubated</td>\n",
       "      <td>0</td>\n",
       "    </tr>\n",
       "    <tr>\n",
       "      <th>2754103</th>\n",
       "      <td>294193.0</td>\n",
       "      <td>2153-08-13 16:45:00</td>\n",
       "      <td>selfextubated</td>\n",
       "      <td>0</td>\n",
       "    </tr>\n",
       "    <tr>\n",
       "      <th>2754104</th>\n",
       "      <td>226648.0</td>\n",
       "      <td>2148-10-17 04:49:00</td>\n",
       "      <td>selfextubated</td>\n",
       "      <td>0</td>\n",
       "    </tr>\n",
       "    <tr>\n",
       "      <th>2754105</th>\n",
       "      <td>269895.0</td>\n",
       "      <td>2143-11-16 17:00:00</td>\n",
       "      <td>selfextubated</td>\n",
       "      <td>0</td>\n",
       "    </tr>\n",
       "    <tr>\n",
       "      <th>2754106</th>\n",
       "      <td>214038.0</td>\n",
       "      <td>2184-03-12 11:00:00</td>\n",
       "      <td>selfextubated</td>\n",
       "      <td>0</td>\n",
       "    </tr>\n",
       "    <tr>\n",
       "      <th>2754107</th>\n",
       "      <td>294193.0</td>\n",
       "      <td>2153-08-20 01:16:00</td>\n",
       "      <td>selfextubated</td>\n",
       "      <td>0</td>\n",
       "    </tr>\n",
       "    <tr>\n",
       "      <th>2754108</th>\n",
       "      <td>267897.0</td>\n",
       "      <td>2137-07-22 20:00:00</td>\n",
       "      <td>selfextubated</td>\n",
       "      <td>0</td>\n",
       "    </tr>\n",
       "    <tr>\n",
       "      <th>2754109</th>\n",
       "      <td>283164.0</td>\n",
       "      <td>2114-02-03 13:00:00</td>\n",
       "      <td>selfextubated</td>\n",
       "      <td>0</td>\n",
       "    </tr>\n",
       "    <tr>\n",
       "      <th>2754110</th>\n",
       "      <td>287343.0</td>\n",
       "      <td>2106-05-24 17:30:00</td>\n",
       "      <td>selfextubated</td>\n",
       "      <td>0</td>\n",
       "    </tr>\n",
       "    <tr>\n",
       "      <th>2754111</th>\n",
       "      <td>271516.0</td>\n",
       "      <td>2124-03-02 15:00:00</td>\n",
       "      <td>selfextubated</td>\n",
       "      <td>0</td>\n",
       "    </tr>\n",
       "    <tr>\n",
       "      <th>2754112</th>\n",
       "      <td>227809.0</td>\n",
       "      <td>2105-08-02 23:00:00</td>\n",
       "      <td>selfextubated</td>\n",
       "      <td>0</td>\n",
       "    </tr>\n",
       "    <tr>\n",
       "      <th>2754113</th>\n",
       "      <td>220655.0</td>\n",
       "      <td>2137-12-10 20:00:00</td>\n",
       "      <td>selfextubated</td>\n",
       "      <td>0</td>\n",
       "    </tr>\n",
       "    <tr>\n",
       "      <th>2754114</th>\n",
       "      <td>268286.0</td>\n",
       "      <td>2187-07-20 15:03:00</td>\n",
       "      <td>selfextubated</td>\n",
       "      <td>0</td>\n",
       "    </tr>\n",
       "    <tr>\n",
       "      <th>2754115</th>\n",
       "      <td>226799.0</td>\n",
       "      <td>2153-08-16 07:48:00</td>\n",
       "      <td>selfextubated</td>\n",
       "      <td>0</td>\n",
       "    </tr>\n",
       "    <tr>\n",
       "      <th>2754116</th>\n",
       "      <td>265030.0</td>\n",
       "      <td>2185-02-02 00:00:00</td>\n",
       "      <td>selfextubated</td>\n",
       "      <td>0</td>\n",
       "    </tr>\n",
       "    <tr>\n",
       "      <th>2754117</th>\n",
       "      <td>239239.0</td>\n",
       "      <td>2143-02-05 07:00:00</td>\n",
       "      <td>selfextubated</td>\n",
       "      <td>0</td>\n",
       "    </tr>\n",
       "    <tr>\n",
       "      <th>2754118</th>\n",
       "      <td>294193.0</td>\n",
       "      <td>2153-08-14 10:35:00</td>\n",
       "      <td>selfextubated</td>\n",
       "      <td>0</td>\n",
       "    </tr>\n",
       "    <tr>\n",
       "      <th>2754119</th>\n",
       "      <td>223510.0</td>\n",
       "      <td>2198-06-27 12:21:00</td>\n",
       "      <td>selfextubated</td>\n",
       "      <td>0</td>\n",
       "    </tr>\n",
       "    <tr>\n",
       "      <th>2754120</th>\n",
       "      <td>211886.0</td>\n",
       "      <td>2179-01-15 20:00:00</td>\n",
       "      <td>selfextubated</td>\n",
       "      <td>0</td>\n",
       "    </tr>\n",
       "    <tr>\n",
       "      <th>2754121</th>\n",
       "      <td>258343.0</td>\n",
       "      <td>2189-08-14 09:00:00</td>\n",
       "      <td>selfextubated</td>\n",
       "      <td>0</td>\n",
       "    </tr>\n",
       "    <tr>\n",
       "      <th>2754122</th>\n",
       "      <td>266126.0</td>\n",
       "      <td>2184-10-03 16:00:00</td>\n",
       "      <td>selfextubated</td>\n",
       "      <td>0</td>\n",
       "    </tr>\n",
       "    <tr>\n",
       "      <th>2754123</th>\n",
       "      <td>272300.0</td>\n",
       "      <td>2123-10-26 03:10:00</td>\n",
       "      <td>selfextubated</td>\n",
       "      <td>0</td>\n",
       "    </tr>\n",
       "    <tr>\n",
       "      <th>2754124</th>\n",
       "      <td>257696.0</td>\n",
       "      <td>2141-01-31 11:00:00</td>\n",
       "      <td>selfextubated</td>\n",
       "      <td>0</td>\n",
       "    </tr>\n",
       "    <tr>\n",
       "      <th>2754125</th>\n",
       "      <td>239396.0</td>\n",
       "      <td>2123-11-26 06:00:00</td>\n",
       "      <td>selfextubated</td>\n",
       "      <td>0</td>\n",
       "    </tr>\n",
       "    <tr>\n",
       "      <th>2754126</th>\n",
       "      <td>264303.0</td>\n",
       "      <td>2151-07-22 15:00:00</td>\n",
       "      <td>selfextubated</td>\n",
       "      <td>0</td>\n",
       "    </tr>\n",
       "    <tr>\n",
       "      <th>2754127</th>\n",
       "      <td>218058.0</td>\n",
       "      <td>2181-10-11 11:00:00</td>\n",
       "      <td>selfextubated</td>\n",
       "      <td>0</td>\n",
       "    </tr>\n",
       "  </tbody>\n",
       "</table>\n",
       "<p>2754128 rows × 4 columns</p>\n",
       "</div>"
      ],
      "text/plain": [
       "         icustay_id           charttime       variable  value\n",
       "0          292972.0 2178-03-14 22:00:00       mechvent      0\n",
       "1          255356.0 2156-04-26 18:00:00       mechvent      0\n",
       "2          295273.0 2195-09-23 18:26:00       mechvent      1\n",
       "3          288354.0 2103-11-04 09:40:00       mechvent      0\n",
       "4          226799.0 2153-08-06 11:03:00       mechvent      1\n",
       "5          232333.0 2120-08-22 12:00:00       mechvent      0\n",
       "6          215903.0 2175-06-10 12:59:00       mechvent      1\n",
       "7          258962.0 2134-08-29 00:33:00       mechvent      1\n",
       "8          269856.0 2119-02-07 10:00:00       mechvent      0\n",
       "9          252836.0 2191-08-24 17:23:00       mechvent      1\n",
       "10         231847.0 2176-03-30 11:00:00       mechvent      1\n",
       "11         226799.0 2153-08-22 02:43:00       mechvent      1\n",
       "12         268249.0 2103-07-18 11:00:00       mechvent      1\n",
       "13         236665.0 2174-10-01 03:00:00       mechvent      0\n",
       "14         258343.0 2189-08-25 08:00:00       mechvent      1\n",
       "15         235148.0 2141-12-11 03:49:00       mechvent      1\n",
       "16         293635.0 2130-01-02 16:12:00       mechvent      1\n",
       "17         201318.0 2200-11-22 20:00:00       mechvent      0\n",
       "18         235268.0 2146-09-14 05:00:00       mechvent      1\n",
       "19         296738.0 2157-04-28 18:00:00       mechvent      0\n",
       "20         246000.0 2195-03-26 17:00:00       mechvent      1\n",
       "21         235083.0 2142-08-06 00:00:00       mechvent      0\n",
       "22         257517.0 2188-09-25 07:00:00       mechvent      1\n",
       "23         237812.0 2125-12-20 20:00:00       mechvent      1\n",
       "24         224655.0 2181-10-23 17:00:00       mechvent      1\n",
       "25         289579.0 2129-09-26 23:53:00       mechvent      1\n",
       "26         264052.0 2201-05-16 03:21:00       mechvent      1\n",
       "27         279582.0 2144-01-07 15:00:00       mechvent      1\n",
       "28         295273.0 2195-09-24 03:51:00       mechvent      1\n",
       "29         239152.0 2142-07-10 04:00:00       mechvent      1\n",
       "...             ...                 ...            ...    ...\n",
       "2754098    294018.0 2167-09-06 08:00:00  selfextubated      0\n",
       "2754099    292460.0 2132-10-23 08:35:00  selfextubated      0\n",
       "2754100    226799.0 2153-08-09 13:43:00  selfextubated      0\n",
       "2754101    252836.0 2191-08-23 13:26:00  selfextubated      0\n",
       "2754102    206856.0 2131-05-10 22:24:00  selfextubated      0\n",
       "2754103    294193.0 2153-08-13 16:45:00  selfextubated      0\n",
       "2754104    226648.0 2148-10-17 04:49:00  selfextubated      0\n",
       "2754105    269895.0 2143-11-16 17:00:00  selfextubated      0\n",
       "2754106    214038.0 2184-03-12 11:00:00  selfextubated      0\n",
       "2754107    294193.0 2153-08-20 01:16:00  selfextubated      0\n",
       "2754108    267897.0 2137-07-22 20:00:00  selfextubated      0\n",
       "2754109    283164.0 2114-02-03 13:00:00  selfextubated      0\n",
       "2754110    287343.0 2106-05-24 17:30:00  selfextubated      0\n",
       "2754111    271516.0 2124-03-02 15:00:00  selfextubated      0\n",
       "2754112    227809.0 2105-08-02 23:00:00  selfextubated      0\n",
       "2754113    220655.0 2137-12-10 20:00:00  selfextubated      0\n",
       "2754114    268286.0 2187-07-20 15:03:00  selfextubated      0\n",
       "2754115    226799.0 2153-08-16 07:48:00  selfextubated      0\n",
       "2754116    265030.0 2185-02-02 00:00:00  selfextubated      0\n",
       "2754117    239239.0 2143-02-05 07:00:00  selfextubated      0\n",
       "2754118    294193.0 2153-08-14 10:35:00  selfextubated      0\n",
       "2754119    223510.0 2198-06-27 12:21:00  selfextubated      0\n",
       "2754120    211886.0 2179-01-15 20:00:00  selfextubated      0\n",
       "2754121    258343.0 2189-08-14 09:00:00  selfextubated      0\n",
       "2754122    266126.0 2184-10-03 16:00:00  selfextubated      0\n",
       "2754123    272300.0 2123-10-26 03:10:00  selfextubated      0\n",
       "2754124    257696.0 2141-01-31 11:00:00  selfextubated      0\n",
       "2754125    239396.0 2123-11-26 06:00:00  selfextubated      0\n",
       "2754126    264303.0 2151-07-22 15:00:00  selfextubated      0\n",
       "2754127    218058.0 2181-10-11 11:00:00  selfextubated      0\n",
       "\n",
       "[2754128 rows x 4 columns]"
      ]
     },
     "execution_count": 58,
     "metadata": {},
     "output_type": "execute_result"
    },
    {
     "name": "stdout",
     "output_type": "stream",
     "text": [
      "time: 229 ms\n"
     ]
    }
   ],
   "source": []
  },
  {
   "cell_type": "code",
   "execution_count": 39,
   "metadata": {},
   "outputs": [
    {
     "name": "stdout",
     "output_type": "stream",
     "text": [
      "time: 5.56 s\n"
     ]
    }
   ],
   "source": [
    "pd.DataFrame(ventsettings_df).to_csv(\n",
    "    '/Users/geickelb1/Documents/GitHub/mimiciii-antibiotics-modeling/data/raw/csv/%s_ventsettings_df.csv' %(date))"
   ]
  },
  {
   "cell_type": "code",
   "execution_count": 38,
   "metadata": {},
   "outputs": [
    {
     "data": {
      "text/html": [
       "<div>\n",
       "<style scoped>\n",
       "    .dataframe tbody tr th:only-of-type {\n",
       "        vertical-align: middle;\n",
       "    }\n",
       "\n",
       "    .dataframe tbody tr th {\n",
       "        vertical-align: top;\n",
       "    }\n",
       "\n",
       "    .dataframe thead th {\n",
       "        text-align: right;\n",
       "    }\n",
       "</style>\n",
       "<table border=\"1\" class=\"dataframe\">\n",
       "  <thead>\n",
       "    <tr style=\"text-align: right;\">\n",
       "      <th></th>\n",
       "      <th>icustay_id</th>\n",
       "      <th>charttime</th>\n",
       "      <th>mechvent</th>\n",
       "      <th>oxygentherapy</th>\n",
       "      <th>extubated</th>\n",
       "      <th>selfextubated</th>\n",
       "    </tr>\n",
       "  </thead>\n",
       "  <tbody>\n",
       "    <tr>\n",
       "      <th>5</th>\n",
       "      <td>292972.0</td>\n",
       "      <td>2178-03-14 22:00:00</td>\n",
       "      <td>0</td>\n",
       "      <td>1</td>\n",
       "      <td>0</td>\n",
       "      <td>0</td>\n",
       "    </tr>\n",
       "    <tr>\n",
       "      <th>6</th>\n",
       "      <td>255356.0</td>\n",
       "      <td>2156-04-26 18:00:00</td>\n",
       "      <td>0</td>\n",
       "      <td>1</td>\n",
       "      <td>0</td>\n",
       "      <td>0</td>\n",
       "    </tr>\n",
       "    <tr>\n",
       "      <th>9</th>\n",
       "      <td>295273.0</td>\n",
       "      <td>2195-09-23 18:26:00</td>\n",
       "      <td>1</td>\n",
       "      <td>0</td>\n",
       "      <td>0</td>\n",
       "      <td>0</td>\n",
       "    </tr>\n",
       "    <tr>\n",
       "      <th>14</th>\n",
       "      <td>288354.0</td>\n",
       "      <td>2103-11-04 09:40:00</td>\n",
       "      <td>0</td>\n",
       "      <td>1</td>\n",
       "      <td>0</td>\n",
       "      <td>0</td>\n",
       "    </tr>\n",
       "    <tr>\n",
       "      <th>20</th>\n",
       "      <td>226799.0</td>\n",
       "      <td>2153-08-06 11:03:00</td>\n",
       "      <td>1</td>\n",
       "      <td>0</td>\n",
       "      <td>0</td>\n",
       "      <td>0</td>\n",
       "    </tr>\n",
       "  </tbody>\n",
       "</table>\n",
       "</div>"
      ],
      "text/plain": [
       "    icustay_id           charttime  mechvent  oxygentherapy  extubated  \\\n",
       "5     292972.0 2178-03-14 22:00:00         0              1          0   \n",
       "6     255356.0 2156-04-26 18:00:00         0              1          0   \n",
       "9     295273.0 2195-09-23 18:26:00         1              0          0   \n",
       "14    288354.0 2103-11-04 09:40:00         0              1          0   \n",
       "20    226799.0 2153-08-06 11:03:00         1              0          0   \n",
       "\n",
       "    selfextubated  \n",
       "5               0  \n",
       "6               0  \n",
       "9               0  \n",
       "14              0  \n",
       "20              0  "
      ]
     },
     "execution_count": 38,
     "metadata": {},
     "output_type": "execute_result"
    },
    {
     "name": "stdout",
     "output_type": "stream",
     "text": [
      "time: 9.14 ms\n"
     ]
    }
   ],
   "source": [
    "ventsettings_df.head()\n",
    "#ventsettings_df.loc[ventsettings_df.loc[:,'icustay_id']==267059.0,'charttime'].describe()"
   ]
  },
  {
   "cell_type": "code",
   "execution_count": 28,
   "metadata": {},
   "outputs": [
    {
     "name": "stdout",
     "output_type": "stream",
     "text": [
      "time: 1.15 s\n"
     ]
    }
   ],
   "source": [
    "#adding an identification label column and merging them into 1 df. \n",
    "epi_dose_df['label']='epinephrine'\n",
    "norepi_dose_df['label']='norepinephrine'\n",
    "dopamine_dose_df['label']='dopamine'\n",
    "dobutamine_dose_df['label']='dobutamine'\n",
    "vasopressin_dose_df['label']='vasopressin'\n",
    "phenylephrine_dose_df['label']='phenylephrine'\n",
    "vaso_dose_df = pd.concat([epi_dose_df, norepi_dose_df, dopamine_dose_df, dobutamine_dose_df, vasopressin_dose_df,phenylephrine_dose_df ])"
   ]
  },
  {
   "cell_type": "markdown",
   "metadata": {},
   "source": [
    "# saving as csv"
   ]
  },
  {
   "cell_type": "code",
   "execution_count": 29,
   "metadata": {},
   "outputs": [
    {
     "name": "stdout",
     "output_type": "stream",
     "text": [
      "time: 2min 21s\n"
     ]
    }
   ],
   "source": [
    "date= '03082018'\n",
    "\n",
    "pd.DataFrame(vaso_dose_df).to_csv(\n",
    "    '/Users/geickelb1/Documents/GitHub/mimiciii-antibiotics-modeling/data/raw/csv/%s_vaso_dose_df.csv' %(date))\n",
    "pd.DataFrame(ventsettings_df).to_csv(\n",
    "    '/Users/geickelb1/Documents/GitHub/mimiciii-antibiotics-modeling/data/raw/csv/%s_ventsettings_df.csv' %(date))\n",
    "\n",
    "pd.DataFrame(echodata_df).to_csv(\n",
    "    '/Users/geickelb1/Documents/GitHub/mimiciii-antibiotics-modeling/data/raw/csv/%s_echodata_df.csv' %(date))\n",
    "pd.DataFrame(weightfirstday_df).to_csv(\n",
    "    '/Users/geickelb1/Documents/GitHub/mimiciii-antibiotics-modeling/data/raw/csv/%s_weightfirstday_df.csv' %(date))\n",
    "pd.DataFrame(heightfirstday_df).to_csv(\n",
    "    '/Users/geickelb1/Documents/GitHub/mimiciii-antibiotics-modeling/data/raw/csv/%s_heightfirstday_df.csv' %(date))\n",
    "pd.DataFrame(labs_all_nosummary_df).to_csv(\n",
    "    '/Users/geickelb1/Documents/GitHub/mimiciii-antibiotics-modeling/data/raw/csv/%s_labs_all_nosummary_df.csv' %(date))\n",
    "pd.DataFrame(vitals_all_nosummary_df).to_csv(\n",
    "    '/Users/geickelb1/Documents/GitHub/mimiciii-antibiotics-modeling/data/raw/csv/%s_vitals_all_nosummary_df.csv' %(date))\n",
    "pd.DataFrame(gcsall_df).to_csv(\n",
    "    '/Users/geickelb1/Documents/GitHub/mimiciii-antibiotics-modeling/data/raw/csv/%s_gcsall_df.csv' %(date))\n",
    "pd.DataFrame(rrt_all_df).to_csv(\n",
    "    '/Users/geickelb1/Documents/GitHub/mimiciii-antibiotics-modeling/data/raw/csv/%s_rrt_all_df.csv' %(date))\n",
    "pd.DataFrame(urine_output_all_df).to_csv(\n",
    "    '/Users/geickelb1/Documents/GitHub/mimiciii-antibiotics-modeling/data/raw/csv/%s_urine_output_all_df.csv' %(date))\n",
    "pd.DataFrame(uti_all_df).to_csv(\n",
    "    '/Users/geickelb1/Documents/GitHub/mimiciii-antibiotics-modeling/data/raw/csv/%s_uti_all_df.csv' %(date))\n",
    "pd.DataFrame(bg_all_nosummary_df).to_csv(\n",
    "    '/Users/geickelb1/Documents/GitHub/mimiciii-antibiotics-modeling/data/raw/csv/%s_bg_all_nosummary_df.csv' %(date))"
   ]
  },
  {
   "cell_type": "code",
   "execution_count": 11,
   "metadata": {},
   "outputs": [
    {
     "name": "stdout",
     "output_type": "stream",
     "text": [
      "time: 5.08 s\n"
     ]
    }
   ],
   "source": []
  },
  {
   "cell_type": "markdown",
   "metadata": {},
   "source": [
    "#### ventilator data qc"
   ]
  },
  {
   "cell_type": "code",
   "execution_count": 55,
   "metadata": {},
   "outputs": [
    {
     "data": {
      "text/plain": [
       "count                     116\n",
       "unique                    106\n",
       "top       2183-01-15 04:00:00\n",
       "freq                        3\n",
       "first     2182-11-19 20:55:00\n",
       "last      2183-01-15 04:00:00\n",
       "Name: starttime, dtype: object"
      ]
     },
     "execution_count": 55,
     "metadata": {},
     "output_type": "execute_result"
    },
    {
     "name": "stdout",
     "output_type": "stream",
     "text": [
      "time: 8.8 ms\n"
     ]
    }
   ],
   "source": [
    "#icustay_id: 267059.0  test case\n",
    "#t_0= 2182-11-12\n",
    "#t_0+72 = 2182-11-15\n",
    "#t_end_consec = 2183-11-15\n",
    "\n",
    "#vaso_dose_df.loc[vaso_dose_df.loc[:,'icustay_id']==267059.0,:].sort_values('starttime')\n",
    "vaso_dose_df.loc[vaso_dose_df.loc[:,'icustay_id']==267059.0,'starttime'].describe() #Timestamp('2182-11-19 20:55:00')\n",
    "#Timestamp('2182-11-19 20:55:00')\n",
    "#Timestamp('2183-01-15 04:00:00)\n",
    "\n",
    "###takeaway: looks like ventilator data is in proper format where we are getting all instances of administration throughout a patient's icustay. "
   ]
  },
  {
   "cell_type": "code",
   "execution_count": null,
   "metadata": {},
   "outputs": [],
   "source": []
  },
  {
   "cell_type": "markdown",
   "metadata": {},
   "source": [
    "## updated here through 08/03/18"
   ]
  },
  {
   "cell_type": "code",
   "execution_count": null,
   "metadata": {},
   "outputs": [],
   "source": []
  },
  {
   "cell_type": "code",
   "execution_count": null,
   "metadata": {},
   "outputs": [],
   "source": []
  },
  {
   "cell_type": "code",
   "execution_count": null,
   "metadata": {},
   "outputs": [],
   "source": []
  },
  {
   "cell_type": "code",
   "execution_count": null,
   "metadata": {},
   "outputs": [],
   "source": []
  },
  {
   "cell_type": "code",
   "execution_count": null,
   "metadata": {},
   "outputs": [],
   "source": []
  },
  {
   "cell_type": "code",
   "execution_count": null,
   "metadata": {},
   "outputs": [],
   "source": []
  },
  {
   "cell_type": "markdown",
   "metadata": {},
   "source": [
    "# clinical variable QC"
   ]
  },
  {
   "cell_type": "code",
   "execution_count": 103,
   "metadata": {},
   "outputs": [
    {
     "name": "stdout",
     "output_type": "stream",
     "text": [
      "time: 22.1 ms\n"
     ]
    }
   ],
   "source": [
    "lab_bg_overlap_list=list(labsFirstDayDf[labsFirstDayDf['subject_id'].isin(list(\n",
    "    bgFirstDayDf['subject_id'].unique()))]['subject_id'].unique())"
   ]
  },
  {
   "cell_type": "code",
   "execution_count": 131,
   "metadata": {
    "scrolled": true
   },
   "outputs": [
    {
     "data": {
      "text/html": [
       "<div>\n",
       "<style scoped>\n",
       "    .dataframe tbody tr th:only-of-type {\n",
       "        vertical-align: middle;\n",
       "    }\n",
       "\n",
       "    .dataframe tbody tr th {\n",
       "        vertical-align: top;\n",
       "    }\n",
       "\n",
       "    .dataframe thead th {\n",
       "        text-align: right;\n",
       "    }\n",
       "</style>\n",
       "<table border=\"1\" class=\"dataframe\">\n",
       "  <thead>\n",
       "    <tr style=\"text-align: right;\">\n",
       "      <th></th>\n",
       "      <th>potassium_min</th>\n",
       "      <th>potassium_max</th>\n",
       "      <th>icustay_id</th>\n",
       "      <th>subject_id</th>\n",
       "      <th>hadm_id</th>\n",
       "    </tr>\n",
       "  </thead>\n",
       "  <tbody>\n",
       "    <tr>\n",
       "      <th>61504</th>\n",
       "      <td>3.9</td>\n",
       "      <td>4.6</td>\n",
       "      <td>236183</td>\n",
       "      <td>99912</td>\n",
       "      <td>189380</td>\n",
       "    </tr>\n",
       "  </tbody>\n",
       "</table>\n",
       "</div>"
      ],
      "text/plain": [
       "       potassium_min  potassium_max  icustay_id  subject_id  hadm_id\n",
       "61504            3.9            4.6      236183       99912   189380"
      ]
     },
     "execution_count": 131,
     "metadata": {},
     "output_type": "execute_result"
    },
    {
     "name": "stdout",
     "output_type": "stream",
     "text": [
      "time: 10.1 ms\n"
     ]
    }
   ],
   "source": [
    "#bgFirstDayDf\n",
    "#(labsFirstDayDf[labsFirstDayDf['subject_id'].isin(lab_bg_overlap_list)])\n",
    "(labsFirstDayDf[labsFirstDayDf['subject_id']==99912])[['potassium_min','potassium_max','icustay_id','subject_id','hadm_id']]"
   ]
  },
  {
   "cell_type": "code",
   "execution_count": 130,
   "metadata": {},
   "outputs": [
    {
     "data": {
      "text/html": [
       "<div>\n",
       "<style scoped>\n",
       "    .dataframe tbody tr th:only-of-type {\n",
       "        vertical-align: middle;\n",
       "    }\n",
       "\n",
       "    .dataframe tbody tr th {\n",
       "        vertical-align: top;\n",
       "    }\n",
       "\n",
       "    .dataframe thead th {\n",
       "        text-align: right;\n",
       "    }\n",
       "</style>\n",
       "<table border=\"1\" class=\"dataframe\">\n",
       "  <thead>\n",
       "    <tr style=\"text-align: right;\">\n",
       "      <th></th>\n",
       "      <th>potassium</th>\n",
       "      <th>specimen</th>\n",
       "      <th>charttime</th>\n",
       "      <th>icustay_id</th>\n",
       "      <th>subject_id</th>\n",
       "      <th>hadm_id</th>\n",
       "    </tr>\n",
       "  </thead>\n",
       "  <tbody>\n",
       "    <tr>\n",
       "      <th>243343</th>\n",
       "      <td>4.4</td>\n",
       "      <td>None</td>\n",
       "      <td>2153-04-13 13:37:00</td>\n",
       "      <td>236183</td>\n",
       "      <td>99912</td>\n",
       "      <td>189380</td>\n",
       "    </tr>\n",
       "    <tr>\n",
       "      <th>243344</th>\n",
       "      <td>NaN</td>\n",
       "      <td>None</td>\n",
       "      <td>2153-04-13 16:26:00</td>\n",
       "      <td>236183</td>\n",
       "      <td>99912</td>\n",
       "      <td>189380</td>\n",
       "    </tr>\n",
       "    <tr>\n",
       "      <th>243345</th>\n",
       "      <td>NaN</td>\n",
       "      <td>None</td>\n",
       "      <td>2153-04-13 16:50:00</td>\n",
       "      <td>236183</td>\n",
       "      <td>99912</td>\n",
       "      <td>189380</td>\n",
       "    </tr>\n",
       "    <tr>\n",
       "      <th>243346</th>\n",
       "      <td>NaN</td>\n",
       "      <td>None</td>\n",
       "      <td>2153-04-13 18:36:00</td>\n",
       "      <td>236183</td>\n",
       "      <td>99912</td>\n",
       "      <td>189380</td>\n",
       "    </tr>\n",
       "    <tr>\n",
       "      <th>243347</th>\n",
       "      <td>NaN</td>\n",
       "      <td>None</td>\n",
       "      <td>2153-04-13 20:53:00</td>\n",
       "      <td>236183</td>\n",
       "      <td>99912</td>\n",
       "      <td>189380</td>\n",
       "    </tr>\n",
       "    <tr>\n",
       "      <th>243348</th>\n",
       "      <td>NaN</td>\n",
       "      <td>None</td>\n",
       "      <td>2153-04-13 21:54:00</td>\n",
       "      <td>236183</td>\n",
       "      <td>99912</td>\n",
       "      <td>189380</td>\n",
       "    </tr>\n",
       "    <tr>\n",
       "      <th>243349</th>\n",
       "      <td>NaN</td>\n",
       "      <td>None</td>\n",
       "      <td>2153-04-14 00:20:00</td>\n",
       "      <td>236183</td>\n",
       "      <td>99912</td>\n",
       "      <td>189380</td>\n",
       "    </tr>\n",
       "    <tr>\n",
       "      <th>243350</th>\n",
       "      <td>NaN</td>\n",
       "      <td>None</td>\n",
       "      <td>2153-04-14 01:50:00</td>\n",
       "      <td>236183</td>\n",
       "      <td>99912</td>\n",
       "      <td>189380</td>\n",
       "    </tr>\n",
       "    <tr>\n",
       "      <th>243351</th>\n",
       "      <td>NaN</td>\n",
       "      <td>None</td>\n",
       "      <td>2153-04-14 04:32:00</td>\n",
       "      <td>236183</td>\n",
       "      <td>99912</td>\n",
       "      <td>189380</td>\n",
       "    </tr>\n",
       "    <tr>\n",
       "      <th>243352</th>\n",
       "      <td>NaN</td>\n",
       "      <td>None</td>\n",
       "      <td>2153-04-14 06:38:00</td>\n",
       "      <td>236183</td>\n",
       "      <td>99912</td>\n",
       "      <td>189380</td>\n",
       "    </tr>\n",
       "  </tbody>\n",
       "</table>\n",
       "</div>"
      ],
      "text/plain": [
       "        potassium specimen           charttime  icustay_id  subject_id  \\\n",
       "243343        4.4     None 2153-04-13 13:37:00      236183       99912   \n",
       "243344        NaN     None 2153-04-13 16:26:00      236183       99912   \n",
       "243345        NaN     None 2153-04-13 16:50:00      236183       99912   \n",
       "243346        NaN     None 2153-04-13 18:36:00      236183       99912   \n",
       "243347        NaN     None 2153-04-13 20:53:00      236183       99912   \n",
       "243348        NaN     None 2153-04-13 21:54:00      236183       99912   \n",
       "243349        NaN     None 2153-04-14 00:20:00      236183       99912   \n",
       "243350        NaN     None 2153-04-14 01:50:00      236183       99912   \n",
       "243351        NaN     None 2153-04-14 04:32:00      236183       99912   \n",
       "243352        NaN     None 2153-04-14 06:38:00      236183       99912   \n",
       "\n",
       "        hadm_id  \n",
       "243343   189380  \n",
       "243344   189380  \n",
       "243345   189380  \n",
       "243346   189380  \n",
       "243347   189380  \n",
       "243348   189380  \n",
       "243349   189380  \n",
       "243350   189380  \n",
       "243351   189380  \n",
       "243352   189380  "
      ]
     },
     "execution_count": 130,
     "metadata": {},
     "output_type": "execute_result"
    },
    {
     "name": "stdout",
     "output_type": "stream",
     "text": [
      "time: 19.2 ms\n"
     ]
    }
   ],
   "source": [
    "#5-9-18\n",
    "#(bgFirstDayDf[bgFirstDayDf['subject_id']==(lab_bg_overlap_list)])\n",
    "#(bgFirstDayDf[bgFirstDayDf['subject_id']==4])[['bicarbonate','specimen','charttime']]\n",
    "(bgFirstDayDf[bgFirstDayDf['subject_id']==99912])[['potassium','specimen','charttime','icustay_id','subject_id','hadm_id']]\n",
    "#bgFirstDayDf\n",
    "#99966 and 99912 subject id has potassium\n",
    "\n",
    "\n",
    "#qc, checking overlapping categories between bgFirstDayDf and labsFirstDatDf\n",
    "#subject_id has potassium 4.7 on 2191-08-23 21:38:00 in bgFirstDayDf \n",
    "#subject_id has potassium 4.4-4.9 in labsFirstDayDf. \n",
    "\n",
    "\n",
    "(ie.intime - interval '6' hour) AND (ie.intime + interval '1' day)\n",
    "\n",
    "\n",
    "#labs: # -- This query pivots lab values taken in the first 24 hours of a patient's stay\n",
    "# -- Have already confirmed that the unit of measurement is always the same: null or the correct unit.\n",
    "#these are from labevents\n",
    "#labs taken between 6 hours prior to admin and 1 day after admission. \n",
    "\n",
    "#bloodgas: # -- The aim of this query is to pivot entries related to blood gases and\n",
    "# -- chemistry values which were found in LABEVENTS\n",
    "#labs taken between 6 hours prior to admin and 1 day after admission. \n",
    "\n",
    "#ok so labs uses itemid of either 50822 & 50971 where as bloodgas only uses 50822. \n",
    "#50822 is postassium, whole blood (category bloodgas) while 50971 is potassium in blood (category chemistry)"
   ]
  }
 ],
 "metadata": {
  "kernelspec": {
   "display_name": "Python 3",
   "language": "python",
   "name": "python3"
  },
  "language_info": {
   "codemirror_mode": {
    "name": "ipython",
    "version": 3
   },
   "file_extension": ".py",
   "mimetype": "text/x-python",
   "name": "python",
   "nbconvert_exporter": "python",
   "pygments_lexer": "ipython3",
   "version": "3.6.4"
  }
 },
 "nbformat": 4,
 "nbformat_minor": 2
}
