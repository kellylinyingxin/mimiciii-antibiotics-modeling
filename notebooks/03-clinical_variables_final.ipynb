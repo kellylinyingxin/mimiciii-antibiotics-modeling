{
 "cells": [
  {
   "cell_type": "markdown",
   "metadata": {},
   "source": [
    "## clinical variable retrieval codebase.\n",
    "each querey is referencing a sql querey on my computer for ALL patients in the database, then generating a dataframe, then paring that dataframe down to only the patients/icustay_id in our cohort. it's inefficient but works. "
   ]
  },
  {
   "cell_type": "code",
   "execution_count": 11,
   "metadata": {},
   "outputs": [
    {
     "name": "stdout",
     "output_type": "stream",
     "text": [
      "time: 816 µs\n"
     ]
    }
   ],
   "source": [
    "#6-25-18\n",
    "#the streamlined version of this notebook seeks to accomplish a few tasks:\n",
    "#organize and standardize all sql code so that i am running a .sql file rather than typing sql code into jupyter\n",
    "#change all filepaths to match the github linked directory to ensure better version control\n",
    "###THIS IS STILL A WORK IN PROGRESS"
   ]
  },
  {
   "cell_type": "code",
   "execution_count": 33,
   "metadata": {},
   "outputs": [
    {
     "name": "stdout",
     "output_type": "stream",
     "text": [
      "The autotime extension is already loaded. To reload it, use:\n",
      "  %reload_ext autotime\n",
      "time: 108 ms\n"
     ]
    }
   ],
   "source": [
    "import requests\n",
    "import numpy as np\n",
    "import pandas as pd\n",
    "import matplotlib.pyplot as plt\n",
    "import psycopg2\n",
    "import collections\n",
    "import asyncio\n",
    "import getpass\n",
    "import re\n",
    "from datetime import datetime as dt\n",
    "import os,sys,re\n",
    "import urllib3\n",
    "import prettytable\n",
    "from collections import Counter\n",
    "import seaborn as sns\n",
    "import random\n",
    "\n",
    "from sklearn.externals.joblib import Memory\n",
    "memory = Memory(cachedir='/tmp', verbose=0)\n",
    "#@memory.cache above any def fxn.\n",
    "\n",
    "%matplotlib inline\n",
    "plt.style.use('ggplot')\n",
    "\n",
    "from notebook.services.config import ConfigManager\n",
    "cm = ConfigManager()\n",
    "cm.update('livereveal', {\n",
    "        'width': 1024,\n",
    "        'height': 768,\n",
    "        'scroll': True,\n",
    "})\n",
    "\n",
    "%load_ext autotime"
   ]
  },
  {
   "cell_type": "code",
   "execution_count": 34,
   "metadata": {},
   "outputs": [
    {
     "name": "stdout",
     "output_type": "stream",
     "text": [
      "time: 381 ms\n"
     ]
    }
   ],
   "source": [
    "#patients of interest from rotation_cohort_generation\n",
    "\n",
    "final_pt_df2 = pd.read_csv('/Users/geickelb1/Documents/GitHub/mimiciii-antibiotics-modeling/data/raw/csv/16082018_final_pt_df2.csv', index_col=0)\n",
    "\n",
    "patients= list(final_pt_df2['subject_id'].unique())\n",
    "hadm_id= list(final_pt_df2['hadm_id'].unique())\n",
    "icustay_id= list(final_pt_df2['icustay_id'].unique())\n",
    "icustay_id= [int(x) for x in icustay_id]"
   ]
  },
  {
   "cell_type": "markdown",
   "metadata": {},
   "source": [
    "## Access MIMIC database and convert it to dataframe in Pandas"
   ]
  },
  {
   "cell_type": "code",
   "execution_count": 35,
   "metadata": {},
   "outputs": [
    {
     "name": "stdin",
     "output_type": "stream",
     "text": [
      "Password: ·····\n"
     ]
    },
    {
     "name": "stdout",
     "output_type": "stream",
     "text": [
      "time: 2.65 s\n"
     ]
    }
   ],
   "source": [
    "import psycopg2\n",
    "conn = psycopg2.connect(dbname=\"mimic\", user=\"student\", host=\"luolabwkstn01.fsm.northwestern.edu\", port=\"5432\",\n",
    "                        password=getpass.getpass(prompt='Password:'.format()))\n",
    "cur=conn.cursor()\n",
    "\n",
    "query_schema = 'SET search_path to ' + \"mimiciii\" + ';'"
   ]
  },
  {
   "cell_type": "code",
   "execution_count": 36,
   "metadata": {},
   "outputs": [
    {
     "name": "stdout",
     "output_type": "stream",
     "text": [
      "time: 57.8 ms\n"
     ]
    }
   ],
   "source": [
    "#input the sql_exe_show object and get dataframe for only patients in patient list out. \n",
    "def sql_exe_show(sql_sentence):\n",
    "    cur.execute(sql_sentence)\n",
    "    rows = cur.fetchall()\n",
    "    col = []\n",
    "    for i in range(len(cur.description)):\n",
    "        col.append(cur.description[i][0])\n",
    "    table = pd.DataFrame(rows,columns=col)\n",
    "    return table\n",
    "\n",
    "def sql_to_df_icu(sql_exe_show_obj):\n",
    "    sql_exe_show_df= pd.DataFrame(data=sql_exe_show_obj)\n",
    "    sql_exe_show_df=sql_exe_show_df[sql_exe_show_df['icustay_id'].isin(icustay_id)]\n",
    "    return sql_exe_show_df\n",
    "\n",
    "def sql_to_df_patients(sql_exe_show_obj):\n",
    "    sql_exe_show_df= pd.DataFrame(data=sql_exe_show_obj)\n",
    "    sql_exe_show_df=sql_exe_show_df[sql_exe_show_df['subject_id'].isin(patients)]\n",
    "    return sql_exe_show_df\n",
    "\n",
    "def sql_to_df_hadm(sql_exe_show_obj):\n",
    "    sql_exe_show_df= pd.DataFrame(data=sql_exe_show_obj)\n",
    "    sql_exe_show_df=sql_exe_show_df[sql_exe_show_df['hadm_id'].isin(hadm_id)]\n",
    "    return sql_exe_show_df\n",
    "\n",
    "def clinvar_fxn(var_name, path):\n",
    "    f= open(path, 'r')\n",
    "    var = f.read()\n",
    "    cur.execute('rollback')\n",
    "    cur.execute(var)\n",
    "    try:\n",
    "        df= sql_to_df_icu(sql_exe_show('select * from %s;' %(var_name)))\n",
    "    except KeyError or NameError:\n",
    "        try:      \n",
    "            df= sql_to_df_hadm(sql_exe_show('select * from %s;' %(var_name)))\n",
    "        except KeyError or NameError:\n",
    "            df= sql_to_df_patients(sql_exe_show('select * from %s;' %(var_name)))\n",
    "\n",
    "    print(df.shape)\n",
    "    return(df)\n"
   ]
  },
  {
   "cell_type": "markdown",
   "metadata": {},
   "source": [
    "# extracting clinical data for our patients"
   ]
  },
  {
   "cell_type": "markdown",
   "metadata": {},
   "source": [
    "## Echodata in Noteevents"
   ]
  },
  {
   "cell_type": "code",
   "execution_count": 5,
   "metadata": {},
   "outputs": [
    {
     "name": "stdout",
     "output_type": "stream",
     "text": [
      "(11494, 18)\n",
      "time: 52.4 s\n"
     ]
    }
   ],
   "source": [
    "echodata_df= clinvar_fxn(\n",
    "    'echodata',\n",
    "    '/Users/geickelb1/Documents/GitHub/mimiciii-antibiotics-modeling/data/raw/clinical_var_sql/all/echodata.sql' \n",
    ") #took 34 seconds origionally. took 54 just now"
   ]
  },
  {
   "cell_type": "markdown",
   "metadata": {},
   "source": [
    "## Weight"
   ]
  },
  {
   "cell_type": "code",
   "execution_count": 19,
   "metadata": {
    "scrolled": true
   },
   "outputs": [
    {
     "name": "stdout",
     "output_type": "stream",
     "text": [
      "(12801, 6)\n",
      "time: 7.19 s\n"
     ]
    }
   ],
   "source": [
    "# -- This query extracts weights for adult ICU patients on their first ICU day.\n",
    "# -- It does *not* use any information after the first ICU day, as weight is\n",
    "# -- sometimes used to monitor fluid balance.\n",
    "\n",
    "weightfirstday_df= clinvar_fxn(\n",
    "    'weightfirstday',\n",
    "    '/Users/geickelb1/Documents/GitHub/mimiciii-antibiotics-modeling/data/raw/clinical_var_sql/all/weightfirstday.sql' \n",
    ")\n"
   ]
  },
  {
   "cell_type": "markdown",
   "metadata": {},
   "source": [
    "## Height"
   ]
  },
  {
   "cell_type": "code",
   "execution_count": 7,
   "metadata": {
    "scrolled": true
   },
   "outputs": [
    {
     "name": "stdout",
     "output_type": "stream",
     "text": [
      "(12801, 4)\n",
      "time: 2.52 s\n"
     ]
    }
   ],
   "source": [
    "# -- This query extracts heights for adult ICU patients.\n",
    "# -- It uses all information from the patient's first ICU day.\n",
    "# -- This is done for consistency with other queries - it's not necessarily needed.\n",
    "# -- Height is unlikely to change throughout a patient's stay.\n",
    "heightfirstday_df= clinvar_fxn(\n",
    "    'heightfirstday',\n",
    "    '/Users/geickelb1/Documents/GitHub/mimiciii-antibiotics-modeling/data/raw/clinical_var_sql/all/heightfirstday.sql' \n",
    ")"
   ]
  },
  {
   "cell_type": "markdown",
   "metadata": {},
   "source": [
    "# Labs"
   ]
  },
  {
   "cell_type": "code",
   "execution_count": 8,
   "metadata": {
    "scrolled": true
   },
   "outputs": [
    {
     "name": "stdout",
     "output_type": "stream",
     "text": [
      "(3036173, 6)\n",
      "time: 6min 26s\n"
     ]
    }
   ],
   "source": [
    "# -- This query pivots lab values taken in the first 24 hours of a patient's stay\n",
    "# -- Have already confirmed that the unit of measurement is always the same: null or the correct unit\n",
    "\n",
    "labs_all_nosummary_df= clinvar_fxn(\n",
    "    'labs_all_nosummary',\n",
    "    '/Users/geickelb1/Documents/GitHub/mimiciii-antibiotics-modeling/data/raw/clinical_var_sql/all/no_summary/labs_all_nosummary.sql' \n",
    ")\n"
   ]
  },
  {
   "cell_type": "markdown",
   "metadata": {},
   "source": [
    "## Vital Sign"
   ]
  },
  {
   "cell_type": "code",
   "execution_count": 9,
   "metadata": {
    "scrolled": true
   },
   "outputs": [
    {
     "name": "stdout",
     "output_type": "stream",
     "text": [
      "(14028103, 6)\n",
      "time: 19min 44s\n"
     ]
    }
   ],
   "source": [
    "##-- This query pivots the vital signs for the first 24 hours of a patient's stay\n",
    "##-- Vital signs include heart rate, blood pressure, respiration rate, and temperature\n",
    "\n",
    "vitals_all_nosummary_df= clinvar_fxn(\n",
    "    'vitals_all_nosummary',\n",
    "    '/Users/geickelb1/Documents/GitHub/mimiciii-antibiotics-modeling/data/raw/clinical_var_sql/all/no_summary/vitals_all_nosummary.sql' \n",
    ")"
   ]
  },
  {
   "cell_type": "markdown",
   "metadata": {},
   "source": [
    "## Glasgow Coma Scale"
   ]
  },
  {
   "cell_type": "code",
   "execution_count": 10,
   "metadata": {
    "scrolled": true
   },
   "outputs": [
    {
     "name": "stdout",
     "output_type": "stream",
     "text": [
      "(12801, 8)\n",
      "time: 2min 13s\n"
     ]
    }
   ],
   "source": [
    "gcsall_df= clinvar_fxn(\n",
    "    'gcsall',\n",
    "    '/Users/geickelb1/Documents/GitHub/mimiciii-antibiotics-modeling/data/raw/clinical_var_sql/all/gcsall.sql' \n",
    ")"
   ]
  },
  {
   "cell_type": "markdown",
   "metadata": {},
   "source": [
    "## Renal replacement therapy"
   ]
  },
  {
   "cell_type": "code",
   "execution_count": 11,
   "metadata": {
    "scrolled": true
   },
   "outputs": [
    {
     "name": "stdout",
     "output_type": "stream",
     "text": [
      "(12801, 4)\n",
      "time: 9.48 s\n"
     ]
    }
   ],
   "source": [
    "rrt_all_df= clinvar_fxn(\n",
    "    'rrt_all',\n",
    "    '/Users/geickelb1/Documents/GitHub/mimiciii-antibiotics-modeling/data/raw/clinical_var_sql/all/no_summary/rrt_all.sql' \n",
    ")"
   ]
  },
  {
   "cell_type": "markdown",
   "metadata": {},
   "source": [
    "## Urine Output"
   ]
  },
  {
   "cell_type": "code",
   "execution_count": 12,
   "metadata": {
    "scrolled": true
   },
   "outputs": [
    {
     "name": "stdout",
     "output_type": "stream",
     "text": [
      "(73302, 5)\n",
      "time: 15.8 s\n"
     ]
    }
   ],
   "source": [
    "urine_output_all_df= clinvar_fxn(\n",
    "    'urine_output_all',\n",
    "    '/Users/geickelb1/Documents/GitHub/mimiciii-antibiotics-modeling/data/raw/clinical_var_sql/all/urine_output_all.sql' \n",
    ")"
   ]
  },
  {
   "cell_type": "markdown",
   "metadata": {},
   "source": [
    "# UTI related variables"
   ]
  },
  {
   "cell_type": "code",
   "execution_count": 6,
   "metadata": {},
   "outputs": [
    {
     "name": "stdout",
     "output_type": "stream",
     "text": [
      "(645133, 12)\n",
      "time: 15min 23s\n"
     ]
    }
   ],
   "source": [
    "uti_all_df= clinvar_fxn(\n",
    "    'uti_all',\n",
    "    '/Users/geickelb1/Documents/GitHub/mimiciii-antibiotics-modeling/data/raw/clinical_var_sql/all/uti_all.sql' \n",
    ")"
   ]
  },
  {
   "cell_type": "code",
   "execution_count": 10,
   "metadata": {},
   "outputs": [
    {
     "data": {
      "text/html": [
       "<div>\n",
       "<style scoped>\n",
       "    .dataframe tbody tr th:only-of-type {\n",
       "        vertical-align: middle;\n",
       "    }\n",
       "\n",
       "    .dataframe tbody tr th {\n",
       "        vertical-align: top;\n",
       "    }\n",
       "\n",
       "    .dataframe thead th {\n",
       "        text-align: right;\n",
       "    }\n",
       "</style>\n",
       "<table border=\"1\" class=\"dataframe\">\n",
       "  <thead>\n",
       "    <tr style=\"text-align: right;\">\n",
       "      <th></th>\n",
       "      <th>subject_id</th>\n",
       "      <th>hadm_id</th>\n",
       "      <th>itemid</th>\n",
       "      <th>charttime</th>\n",
       "      <th>value</th>\n",
       "      <th>valuenum</th>\n",
       "      <th>valueuom</th>\n",
       "      <th>label</th>\n",
       "      <th>fluid</th>\n",
       "      <th>category</th>\n",
       "      <th>loinc_code</th>\n",
       "      <th>icd9_code</th>\n",
       "    </tr>\n",
       "  </thead>\n",
       "  <tbody>\n",
       "    <tr>\n",
       "      <th>78</th>\n",
       "      <td>9</td>\n",
       "      <td>150750.0</td>\n",
       "      <td>51486</td>\n",
       "      <td>2149-11-09 11:32:00</td>\n",
       "      <td>NEG</td>\n",
       "      <td>NaN</td>\n",
       "      <td>None</td>\n",
       "      <td>Leukocytes</td>\n",
       "      <td>Urine</td>\n",
       "      <td>Hematology</td>\n",
       "      <td>5799-2</td>\n",
       "      <td>431</td>\n",
       "    </tr>\n",
       "    <tr>\n",
       "      <th>79</th>\n",
       "      <td>9</td>\n",
       "      <td>150750.0</td>\n",
       "      <td>51486</td>\n",
       "      <td>2149-11-09 11:32:00</td>\n",
       "      <td>NEG</td>\n",
       "      <td>NaN</td>\n",
       "      <td>None</td>\n",
       "      <td>Leukocytes</td>\n",
       "      <td>Urine</td>\n",
       "      <td>Hematology</td>\n",
       "      <td>5799-2</td>\n",
       "      <td>5070</td>\n",
       "    </tr>\n",
       "    <tr>\n",
       "      <th>80</th>\n",
       "      <td>9</td>\n",
       "      <td>150750.0</td>\n",
       "      <td>51486</td>\n",
       "      <td>2149-11-09 11:32:00</td>\n",
       "      <td>NEG</td>\n",
       "      <td>NaN</td>\n",
       "      <td>None</td>\n",
       "      <td>Leukocytes</td>\n",
       "      <td>Urine</td>\n",
       "      <td>Hematology</td>\n",
       "      <td>5799-2</td>\n",
       "      <td>4280</td>\n",
       "    </tr>\n",
       "    <tr>\n",
       "      <th>81</th>\n",
       "      <td>9</td>\n",
       "      <td>150750.0</td>\n",
       "      <td>51486</td>\n",
       "      <td>2149-11-09 11:32:00</td>\n",
       "      <td>NEG</td>\n",
       "      <td>NaN</td>\n",
       "      <td>None</td>\n",
       "      <td>Leukocytes</td>\n",
       "      <td>Urine</td>\n",
       "      <td>Hematology</td>\n",
       "      <td>5799-2</td>\n",
       "      <td>5849</td>\n",
       "    </tr>\n",
       "    <tr>\n",
       "      <th>82</th>\n",
       "      <td>9</td>\n",
       "      <td>150750.0</td>\n",
       "      <td>51486</td>\n",
       "      <td>2149-11-09 11:32:00</td>\n",
       "      <td>NEG</td>\n",
       "      <td>NaN</td>\n",
       "      <td>None</td>\n",
       "      <td>Leukocytes</td>\n",
       "      <td>Urine</td>\n",
       "      <td>Hematology</td>\n",
       "      <td>5799-2</td>\n",
       "      <td>2765</td>\n",
       "    </tr>\n",
       "    <tr>\n",
       "      <th>83</th>\n",
       "      <td>9</td>\n",
       "      <td>150750.0</td>\n",
       "      <td>51486</td>\n",
       "      <td>2149-11-09 11:32:00</td>\n",
       "      <td>NEG</td>\n",
       "      <td>NaN</td>\n",
       "      <td>None</td>\n",
       "      <td>Leukocytes</td>\n",
       "      <td>Urine</td>\n",
       "      <td>Hematology</td>\n",
       "      <td>5799-2</td>\n",
       "      <td>4019</td>\n",
       "    </tr>\n",
       "    <tr>\n",
       "      <th>89</th>\n",
       "      <td>9</td>\n",
       "      <td>150750.0</td>\n",
       "      <td>51486</td>\n",
       "      <td>2149-11-10 09:24:00</td>\n",
       "      <td>NEG</td>\n",
       "      <td>NaN</td>\n",
       "      <td>None</td>\n",
       "      <td>Leukocytes</td>\n",
       "      <td>Urine</td>\n",
       "      <td>Hematology</td>\n",
       "      <td>5799-2</td>\n",
       "      <td>431</td>\n",
       "    </tr>\n",
       "    <tr>\n",
       "      <th>90</th>\n",
       "      <td>9</td>\n",
       "      <td>150750.0</td>\n",
       "      <td>51486</td>\n",
       "      <td>2149-11-10 09:24:00</td>\n",
       "      <td>NEG</td>\n",
       "      <td>NaN</td>\n",
       "      <td>None</td>\n",
       "      <td>Leukocytes</td>\n",
       "      <td>Urine</td>\n",
       "      <td>Hematology</td>\n",
       "      <td>5799-2</td>\n",
       "      <td>5070</td>\n",
       "    </tr>\n",
       "    <tr>\n",
       "      <th>91</th>\n",
       "      <td>9</td>\n",
       "      <td>150750.0</td>\n",
       "      <td>51486</td>\n",
       "      <td>2149-11-10 09:24:00</td>\n",
       "      <td>NEG</td>\n",
       "      <td>NaN</td>\n",
       "      <td>None</td>\n",
       "      <td>Leukocytes</td>\n",
       "      <td>Urine</td>\n",
       "      <td>Hematology</td>\n",
       "      <td>5799-2</td>\n",
       "      <td>4280</td>\n",
       "    </tr>\n",
       "    <tr>\n",
       "      <th>92</th>\n",
       "      <td>9</td>\n",
       "      <td>150750.0</td>\n",
       "      <td>51486</td>\n",
       "      <td>2149-11-10 09:24:00</td>\n",
       "      <td>NEG</td>\n",
       "      <td>NaN</td>\n",
       "      <td>None</td>\n",
       "      <td>Leukocytes</td>\n",
       "      <td>Urine</td>\n",
       "      <td>Hematology</td>\n",
       "      <td>5799-2</td>\n",
       "      <td>5849</td>\n",
       "    </tr>\n",
       "  </tbody>\n",
       "</table>\n",
       "</div>"
      ],
      "text/plain": [
       "    subject_id   hadm_id  itemid           charttime value  valuenum valueuom  \\\n",
       "78           9  150750.0   51486 2149-11-09 11:32:00   NEG       NaN     None   \n",
       "79           9  150750.0   51486 2149-11-09 11:32:00   NEG       NaN     None   \n",
       "80           9  150750.0   51486 2149-11-09 11:32:00   NEG       NaN     None   \n",
       "81           9  150750.0   51486 2149-11-09 11:32:00   NEG       NaN     None   \n",
       "82           9  150750.0   51486 2149-11-09 11:32:00   NEG       NaN     None   \n",
       "83           9  150750.0   51486 2149-11-09 11:32:00   NEG       NaN     None   \n",
       "89           9  150750.0   51486 2149-11-10 09:24:00   NEG       NaN     None   \n",
       "90           9  150750.0   51486 2149-11-10 09:24:00   NEG       NaN     None   \n",
       "91           9  150750.0   51486 2149-11-10 09:24:00   NEG       NaN     None   \n",
       "92           9  150750.0   51486 2149-11-10 09:24:00   NEG       NaN     None   \n",
       "\n",
       "         label  fluid    category loinc_code icd9_code  \n",
       "78  Leukocytes  Urine  Hematology     5799-2       431  \n",
       "79  Leukocytes  Urine  Hematology     5799-2      5070  \n",
       "80  Leukocytes  Urine  Hematology     5799-2      4280  \n",
       "81  Leukocytes  Urine  Hematology     5799-2      5849  \n",
       "82  Leukocytes  Urine  Hematology     5799-2      2765  \n",
       "83  Leukocytes  Urine  Hematology     5799-2      4019  \n",
       "89  Leukocytes  Urine  Hematology     5799-2       431  \n",
       "90  Leukocytes  Urine  Hematology     5799-2      5070  \n",
       "91  Leukocytes  Urine  Hematology     5799-2      4280  \n",
       "92  Leukocytes  Urine  Hematology     5799-2      5849  "
      ]
     },
     "execution_count": 10,
     "metadata": {},
     "output_type": "execute_result"
    },
    {
     "name": "stdout",
     "output_type": "stream",
     "text": [
      "time: 25.2 ms\n"
     ]
    }
   ],
   "source": [
    "uti_all_df.head(10)"
   ]
  },
  {
   "cell_type": "markdown",
   "metadata": {},
   "source": [
    "## Blood Gas Test"
   ]
  },
  {
   "cell_type": "code",
   "execution_count": 27,
   "metadata": {},
   "outputs": [
    {
     "name": "stdout",
     "output_type": "stream",
     "text": [
      "time: 21.4 ms\n"
     ]
    }
   ],
   "source": [
    "def PaO2(bg_all_nosummary_df):\n",
    "    \"\"\"\n",
    "    overview: replaces the PO2 label with PaO2 on all instances (defined as sharing icustay_id and charttime being equal)\n",
    "        where the specimen label == 'ART'\n",
    "        \n",
    "    input: bloodgas dataframe with values annotated. \n",
    "    output: bloodgas dataframe with values annotated where PO2 label is replaced with PaO2 according to above criteria\n",
    "    \"\"\"\n",
    "    \n",
    "    #making a unique varaible to search for and mark all rows where time and icustay_id has an art flag\n",
    "    bg_all_nosummary_df['unique_var']= bg_all_nosummary_df['icustay_id'].map(str) +  bg_all_nosummary_df['charttime'].map(str)\n",
    "\n",
    "    #making subset dataframe for label == SPECIMEN \n",
    "    bg_all_nosummary_specimen= bg_all_nosummary_df.loc[bg_all_nosummary_df.loc[:,'label']=='SPECIMEN',:]\n",
    "    \n",
    "    #all ART related rows: unique_var for all rows where label== SPECIMEN\n",
    "    bg_all_nosummary_ART = bg_all_nosummary_specimen[bg_all_nosummary_specimen['value']=='ART'] \n",
    "    bg_all_nosummary_ART_list= list(bg_all_nosummary_ART['unique_var'].unique())\n",
    "\n",
    "    #two criteria needed to change the PO2 to PaO2 label.\n",
    "    criteria1=(bg_all_nosummary_df['label'] == 'PO2')\n",
    "    criteria2=(bg_all_nosummary_df['unique_var'].isin(bg_all_nosummary_ART_list))\n",
    "    \n",
    "    #making changes\n",
    "    bg_all_nosummary_df.loc[(criteria2 & criteria1),'label']= 'PaO2'\n",
    "    \n",
    "    return(bg_all_nosummary_df)"
   ]
  },
  {
   "cell_type": "code",
   "execution_count": 28,
   "metadata": {
    "collapsed": true
   },
   "outputs": [
    {
     "name": "stdout",
     "output_type": "stream",
     "text": [
      "time: 25 s\n"
     ]
    }
   ],
   "source": [
    "bg_all_nosummary_df= clinvar_fxn(\n",
    "    'bg_all_nosummary',\n",
    "    '/Users/geickelb1/Documents/GitHub/mimiciii-antibiotics-modeling/data/raw/clinical_var_sql/all/no_summary/bg_all_nosummary.sql' \n",
    ") #3min, 25 seconds origionally, took 14 minutes on friday...\n",
    "bg_all_nosummary_df = PaO2(bg_all_nosummary_df)\n",
    "\n",
    "date= '24082018'\n",
    "\n",
    "pd.DataFrame(bg_all_nosummary_df).to_csv(\n",
    "    '/Users/geickelb1/Documents/GitHub/mimiciii-antibiotics-modeling/data/raw/csv/%s_bg_all_nosummary_df.csv' %(date))"
   ]
  },
  {
   "cell_type": "code",
   "execution_count": 29,
   "metadata": {},
   "outputs": [
    {
     "data": {
      "text/plain": [
       "PH                   203226\n",
       "TOTALCO2             191908\n",
       "BASEEXCESS           191908\n",
       "PCO2                 191885\n",
       "SPECIMEN             147405\n",
       "PaO2                 127161\n",
       "CALCIUM               90573\n",
       "LACTATE               84499\n",
       "SO2                   67456\n",
       "PO2                   64738\n",
       "TEMPERATURE           64714\n",
       "GLUCOSE               59895\n",
       "POTASSIUM             57970\n",
       "INTUBATED             54755\n",
       "FIO2                  51425\n",
       "PEEP                  41820\n",
       "TIDALVOLUME           38378\n",
       "VENTILATIONRATE       30668\n",
       "HEMATOCRIT            22278\n",
       "HEMOGLOBIN            22278\n",
       "SODIUM                19813\n",
       "VENTILATOR            18325\n",
       "CHLORIDE              14487\n",
       "REQUIREDO2             8698\n",
       "AADO2                  8677\n",
       "O2FLOW                 4461\n",
       "BICARBONATE            2847\n",
       "METHEMOGLOBIN           745\n",
       "CARBOXYHEMOGLOBIN       714\n",
       "Name: label, dtype: int64"
      ]
     },
     "execution_count": 29,
     "metadata": {},
     "output_type": "execute_result"
    },
    {
     "name": "stdout",
     "output_type": "stream",
     "text": [
      "time: 322 ms\n"
     ]
    }
   ],
   "source": [
    "bg_all_nosummary_df['label'].value_counts()"
   ]
  },
  {
   "cell_type": "code",
   "execution_count": 18,
   "metadata": {},
   "outputs": [
    {
     "name": "stdout",
     "output_type": "stream",
     "text": [
      "(1884684, 7)\n",
      "time: 5min 29s\n"
     ]
    }
   ],
   "source": [
    "# bg_all_nosummary2_df= clinvar_fxn(\n",
    "#     'bg_all_nosummary2',\n",
    "#     '/Users/geickelb1/Documents/GitHub/mimiciii-antibiotics-modeling/data/raw/clinical_var_sql/all/no_summary/bg_all_nosummary2.sql' \n",
    "# )\n",
    "# bg_all_nosummary2_df = PaO2(bg_all_nosummary2_df)"
   ]
  },
  {
   "cell_type": "code",
   "execution_count": null,
   "metadata": {},
   "outputs": [],
   "source": [
    "#my goal was to debug bg_all_nosummary2 and see how many rows we have that correspond to the vent count and catgories above, but the sql server is being really slow. "
   ]
  },
  {
   "cell_type": "code",
   "execution_count": 22,
   "metadata": {},
   "outputs": [
    {
     "name": "stdout",
     "output_type": "stream",
     "text": [
      "time: 16 s\n"
     ]
    }
   ],
   "source": [
    "date= '24082018'\n",
    "\n",
    "pd.DataFrame(bg_all_nosummary_df).to_csv(\n",
    "    '/Users/geickelb1/Documents/GitHub/mimiciii-antibiotics-modeling/data/raw/csv/%s_bg_all_nosummary_df.csv' %(date))"
   ]
  },
  {
   "cell_type": "markdown",
   "metadata": {},
   "source": [
    "## Vasodil"
   ]
  },
  {
   "cell_type": "code",
   "execution_count": 27,
   "metadata": {},
   "outputs": [
    {
     "name": "stdout",
     "output_type": "stream",
     "text": [
      "(45448, 4)\n",
      "(2397, 5)\n",
      "(44371, 5)\n",
      "(8900, 5)\n",
      "(1922, 5)\n",
      "(3472, 5)\n",
      "(36608, 5)\n",
      "time: 52.8 s\n"
     ]
    }
   ],
   "source": [
    "\n",
    "weightdurations_df= clinvar_fxn(\n",
    "    'weightdurations',\n",
    "    '/Users/geickelb1/Documents/GitHub/mimiciii-antibiotics-modeling/data/raw/clinical_var_sql/weightdurations.sql'\n",
    ")\n",
    "\n",
    "epi_dose_df= clinvar_fxn(\n",
    "    'epinephrine_dose',\n",
    "    '/Users/geickelb1/Documents/GitHub/mimiciii-antibiotics-modeling/data/raw/clinical_var_sql/epinephrine_dose.sql'\n",
    ")\n",
    "norepi_dose_df= clinvar_fxn(\n",
    "    'norepinephrine_dose',\n",
    "    '/Users/geickelb1/Documents/GitHub/mimiciii-antibiotics-modeling/data/raw/clinical_var_sql/norepinephrine_dose.sql'\n",
    ")\n",
    "dopamine_dose_df= clinvar_fxn(\n",
    "    'dopamine_dose',\n",
    "    '/Users/geickelb1/Documents/GitHub/mimiciii-antibiotics-modeling/data/raw/clinical_var_sql/dopamine_dose.sql'\n",
    ")\n",
    "dobutamine_dose_df= clinvar_fxn(\n",
    "    'dobutamine_dose',\n",
    "    '/Users/geickelb1/Documents/GitHub/mimiciii-antibiotics-modeling/data/raw/clinical_var_sql/dobutamine_dose.sql'\n",
    ")\n",
    "vasopressin_dose_df= clinvar_fxn(\n",
    "    'vasopressin_dose',\n",
    "    '/Users/geickelb1/Documents/GitHub/mimiciii-antibiotics-modeling/data/raw/clinical_var_sql/vasopressin_dose.sql'\n",
    ")\n",
    "phenylephrine_dose_df= clinvar_fxn(\n",
    "    'phenylephrine_dose',\n",
    "    '/Users/geickelb1/Documents/GitHub/mimiciii-antibiotics-modeling/data/raw/clinical_var_sql/phenylephrine_dose.sql'\n",
    ")"
   ]
  },
  {
   "cell_type": "code",
   "execution_count": null,
   "metadata": {},
   "outputs": [],
   "source": [
    "#adding an identification label column and merging them into 1 df. \n",
    "epi_dose_df['label']='epinephrine'\n",
    "norepi_dose_df['label']='norepinephrine'\n",
    "dopamine_dose_df['label']='dopamine'\n",
    "dobutamine_dose_df['label']='dobutamine'\n",
    "vasopressin_dose_df['label']='vasopressin'\n",
    "phenylephrine_dose_df['label']='phenylephrine'\n",
    "vaso_dose_df = pd.concat([epi_dose_df, norepi_dose_df, dopamine_dose_df, dobutamine_dose_df, vasopressin_dose_df,phenylephrine_dose_df ])"
   ]
  },
  {
   "cell_type": "markdown",
   "metadata": {},
   "source": [
    "# ventilator settings and categorization"
   ]
  },
  {
   "cell_type": "code",
   "execution_count": 31,
   "metadata": {},
   "outputs": [
    {
     "ename": "OperationalError",
     "evalue": "could not receive data from server: Operation timed out\n",
     "output_type": "error",
     "traceback": [
      "\u001b[0;31m-----------------------------------------------------------------\u001b[0m",
      "\u001b[0;31mOperationalError\u001b[0m                Traceback (most recent call last)",
      "\u001b[0;32m<ipython-input-31-01c35394c304>\u001b[0m in \u001b[0;36m<module>\u001b[0;34m()\u001b[0m\n\u001b[1;32m      1\u001b[0m ventsettings_df= clinvar_fxn(\n\u001b[1;32m      2\u001b[0m     \u001b[0;34m'ventsettings'\u001b[0m\u001b[0;34m,\u001b[0m\u001b[0;34m\u001b[0m\u001b[0m\n\u001b[0;32m----> 3\u001b[0;31m     \u001b[0;34m'/Users/geickelb1/Documents/GitHub/mimiciii-antibiotics-modeling/data/raw/clinical_var_sql/all/ventsettings.sql'\u001b[0m\u001b[0;34m\u001b[0m\u001b[0m\n\u001b[0m\u001b[1;32m      4\u001b[0m )\n\u001b[1;32m      5\u001b[0m \u001b[0;31m#going from wide format to long:\u001b[0m\u001b[0;34m\u001b[0m\u001b[0;34m\u001b[0m\u001b[0m\n",
      "\u001b[0;32m<ipython-input-4-d2b43eb7e15c>\u001b[0m in \u001b[0;36mclinvar_fxn\u001b[0;34m(var_name, path)\u001b[0m\n\u001b[1;32m     27\u001b[0m     \u001b[0mf\u001b[0m\u001b[0;34m=\u001b[0m \u001b[0mopen\u001b[0m\u001b[0;34m(\u001b[0m\u001b[0mpath\u001b[0m\u001b[0;34m,\u001b[0m \u001b[0;34m'r'\u001b[0m\u001b[0;34m)\u001b[0m\u001b[0;34m\u001b[0m\u001b[0m\n\u001b[1;32m     28\u001b[0m     \u001b[0mvar\u001b[0m \u001b[0;34m=\u001b[0m \u001b[0mf\u001b[0m\u001b[0;34m.\u001b[0m\u001b[0mread\u001b[0m\u001b[0;34m(\u001b[0m\u001b[0;34m)\u001b[0m\u001b[0;34m\u001b[0m\u001b[0m\n\u001b[0;32m---> 29\u001b[0;31m     \u001b[0mcur\u001b[0m\u001b[0;34m.\u001b[0m\u001b[0mexecute\u001b[0m\u001b[0;34m(\u001b[0m\u001b[0;34m'rollback'\u001b[0m\u001b[0;34m)\u001b[0m\u001b[0;34m\u001b[0m\u001b[0m\n\u001b[0m\u001b[1;32m     30\u001b[0m     \u001b[0mcur\u001b[0m\u001b[0;34m.\u001b[0m\u001b[0mexecute\u001b[0m\u001b[0;34m(\u001b[0m\u001b[0mvar\u001b[0m\u001b[0;34m)\u001b[0m\u001b[0;34m\u001b[0m\u001b[0m\n\u001b[1;32m     31\u001b[0m     \u001b[0;32mtry\u001b[0m\u001b[0;34m:\u001b[0m\u001b[0;34m\u001b[0m\u001b[0m\n",
      "\u001b[0;31mOperationalError\u001b[0m: could not receive data from server: Operation timed out\n"
     ]
    },
    {
     "name": "stdout",
     "output_type": "stream",
     "text": [
      "time: 7.75 s\n"
     ]
    }
   ],
   "source": [
    "#ventsettings_df = pd.read_csv('/Users/geickelb1/Documents/GitHub/mimiciii-antibiotics-modeling/data/raw/csv/15082018_ventsettings_df.csv', index_col=0)\n",
    "ventsettings_df= clinvar_fxn(\n",
    "    'ventsettings',\n",
    "    '/Users/geickelb1/Documents/GitHub/mimiciii-antibiotics-modeling/data/raw/clinical_var_sql/all/ventsettings.sql'\n",
    ")\n",
    "#going from wide format to long:\n",
    "#pd.melt(ventsettings_df, id_vars=['icustay_id','charttime'])"
   ]
  },
  {
   "cell_type": "code",
   "execution_count": 37,
   "metadata": {},
   "outputs": [
    {
     "name": "stdout",
     "output_type": "stream",
     "text": [
      "time: 118 ms\n"
     ]
    }
   ],
   "source": [
    "\n",
    "def vent_categorization(final_pt_df2, ventsettings_df):\n",
    "    \"\"\"\n",
    "    overview: provides 3 variables, one for each 24 hour peroid following first ab administration, that codes vent status during that 24 hr peroid.\n",
    "    ventilation data is based upon the ventsettings.sql file output. \n",
    "       categories: \n",
    "        - Vent- had mech vent within 24hr period\n",
    "        - Oxygen- had only oxygentherapy within 24hr period\n",
    "        - None- had neither within 24hr period.\n",
    "        - Not_coded= data was not present\n",
    "        \n",
    "    input: final cohort dataframe (by icustay_id/hadm_id) annotated with t_0\n",
    "    output: a dataframe with every icustay_id as a row, and a categorization for each of the first 3 days based on ventilation recieved:\n",
    "    \"\"\"\n",
    "    \n",
    "    ventsettings_merge_df= pd.merge(ventsettings_df,\n",
    "                                final_pt_df2[['icustay_id','t_0']],\n",
    "                                left_on='icustay_id',\n",
    "                                right_on= 'icustay_id',\n",
    "                                how='left')\n",
    " \n",
    "    ventsettings_df_3dayannotation= final_pt_df2[['icustay_id','t_0']]\n",
    "    \n",
    "    #origionally coded as: Not_coded as the default. changed to none at Nelson's request\n",
    "    ventsettings_df_3dayannotation['vent_day1']='None' #coding Not_coded as the default. must be sure to code over this to None to ensure I capture everyone\n",
    "    ventsettings_df_3dayannotation['vent_day2']='None' #coding Not_coded as the default. must be sure to code over this to None to ensure I capture everyone\n",
    "    ventsettings_df_3dayannotation['vent_day3']='None' #coding Not_coded as the default. must be sure to code over this to None to ensure I capture everyone\n",
    "    ventsettings_df_3dayannotation.head()\n",
    "\n",
    "    day1= (\n",
    "        (pd.to_datetime(ventsettings_merge_df['t_0'])-pd.to_datetime(ventsettings_merge_df['charttime']))\n",
    "           .between('00:00:00','23:59:59'))\n",
    "    day2= (\n",
    "        (pd.to_datetime(ventsettings_merge_df['t_0'])-pd.to_datetime(ventsettings_merge_df['charttime']))\n",
    "           .between('24:00:00','47:59:59'))\n",
    "    day3= (\n",
    "        (pd.to_datetime(ventsettings_merge_df['t_0'])-pd.to_datetime(ventsettings_merge_df['charttime']))\n",
    "           .between('48:00:00','71:59:59'))\n",
    "\n",
    "    mech_1= list(ventsettings_merge_df.loc[day1 & ventsettings_merge_df['mechvent']==1 ,'icustay_id'])\n",
    "    mech_2= list(ventsettings_merge_df.loc[day2 & ventsettings_merge_df['mechvent']==1 ,'icustay_id'])\n",
    "    mech_3= list(ventsettings_merge_df.loc[day3 & ventsettings_merge_df['mechvent']==1 ,'icustay_id'])\n",
    "    O2_1= list(ventsettings_merge_df.loc[day1 & ventsettings_merge_df['oxygentherapy']==1 ,'icustay_id'])\n",
    "    O2_2= list(ventsettings_merge_df.loc[day2 & ventsettings_merge_df['oxygentherapy']==1 ,'icustay_id'])\n",
    "    O2_3= list(ventsettings_merge_df.loc[day3 & ventsettings_merge_df['oxygentherapy']==1 ,'icustay_id'])\n",
    "    None_1= list(ventsettings_merge_df[(day1) & (ventsettings_merge_df['mechvent']==0) & (ventsettings_merge_df['oxygentherapy']==0) ]['icustay_id'])\n",
    "    None_2= list(ventsettings_merge_df[(day2) & (ventsettings_merge_df['mechvent']==0) & (ventsettings_merge_df['oxygentherapy']==0) ]['icustay_id'])\n",
    "    None_3= list(ventsettings_merge_df[(day3) & (ventsettings_merge_df['mechvent']==0) & (ventsettings_merge_df['oxygentherapy']==0) ]['icustay_id'])\n",
    "\n",
    "    ventsettings_df_3dayannotation.loc[ventsettings_df_3dayannotation.loc[:,'icustay_id'].isin(mech_1),'vent_day1']='Mech'\n",
    "    ventsettings_df_3dayannotation.loc[ventsettings_df_3dayannotation.loc[:,'icustay_id'].isin(mech_2),'vent_day2']='Mech'\n",
    "    ventsettings_df_3dayannotation.loc[ventsettings_df_3dayannotation.loc[:,'icustay_id'].isin(mech_3),'vent_day3']='Mech'\n",
    "\n",
    "    ventsettings_df_3dayannotation.loc[ventsettings_df_3dayannotation.loc[:,'icustay_id'].isin(O2_1),'vent_day1']='Oxygen'\n",
    "    ventsettings_df_3dayannotation.loc[ventsettings_df_3dayannotation.loc[:,'icustay_id'].isin(O2_2),'vent_day2']='Oxygen'\n",
    "    ventsettings_df_3dayannotation.loc[ventsettings_df_3dayannotation.loc[:,'icustay_id'].isin(O2_3),'vent_day3']='Oxygen'\n",
    "\n",
    "    ventsettings_df_3dayannotation.loc[ventsettings_df_3dayannotation.loc[:,'icustay_id'].isin(None_1),'vent_day1']='None'\n",
    "    ventsettings_df_3dayannotation.loc[ventsettings_df_3dayannotation.loc[:,'icustay_id'].isin(None_2),'vent_day2']='None'\n",
    "    ventsettings_df_3dayannotation.loc[ventsettings_df_3dayannotation.loc[:,'icustay_id'].isin(None_3),'vent_day3']='None'\n",
    "\n",
    "    return(ventsettings_df_3dayannotation)"
   ]
  },
  {
   "cell_type": "code",
   "execution_count": 39,
   "metadata": {},
   "outputs": [
    {
     "name": "stdout",
     "output_type": "stream",
     "text": [
      "time: 161 ms\n"
     ]
    }
   ],
   "source": [
    "#the following code is an alternative method to vent_categorization fxn written above. the output gives the # of vent events in a given timeframe\n",
    "#for each icustay_id\n",
    "def vent_count(final_pt_df2,ventsettings_df):\n",
    "    \"\"\"\n",
    "    overview: quantifies the # of ventilation events related to mechanical ventilation and oxygen therapy for each 24 hr window after first ab dose \n",
    "       categories: \n",
    "        - Vent- had mech vent within 24hr period\n",
    "        - Oxygen- had only oxygentherapy within 24hr period\n",
    "        \n",
    "    input: final cohort dataframe (by icustay_id/hadm_id) annotated with t_0, ventsettings_df\n",
    "    output: a dataframe with every icustay_id as a row, and a count for each of the first 3 days based on ventilation recieved:\n",
    "    \"\"\"\n",
    "    ventsettings_merge_df= pd.merge(ventsettings_df,\n",
    "                                    final_pt_df2[['icustay_id','t_0']],\n",
    "                                    left_on='icustay_id',\n",
    "                                    right_on= 'icustay_id',\n",
    "                                    how='left')\n",
    "\n",
    "    day1= (\n",
    "        (pd.to_datetime(ventsettings_merge_df['t_0'])-pd.to_datetime(ventsettings_merge_df['charttime']))\n",
    "           .between('00:00:00','23:59:59'))\n",
    "    day2= (\n",
    "        (pd.to_datetime(ventsettings_merge_df['t_0'])-pd.to_datetime(ventsettings_merge_df['charttime']))\n",
    "           .between('24:00:00','47:59:59'))\n",
    "    day3= (\n",
    "        (pd.to_datetime(ventsettings_merge_df['t_0'])-pd.to_datetime(ventsettings_merge_df['charttime']))\n",
    "           .between('48:00:00','71:59:59'))\n",
    "\n",
    "\n",
    "    #0-1\n",
    "    icu_O2count1= (\n",
    "        ventsettings_merge_df.loc[day1 & ventsettings_merge_df['oxygentherapy']==1 ,:]\n",
    "                  .groupby('icustay_id')['oxygentherapy']\n",
    "                  .value_counts())\n",
    "    icu_mechcount1= (\n",
    "        ventsettings_merge_df.loc[day1 & ventsettings_merge_df['mechvent']==1 ,:]\n",
    "                .groupby('icustay_id')['mechvent']\n",
    "                .value_counts())\n",
    "\n",
    "    #1-2\n",
    "    icu_O2count2= (\n",
    "        ventsettings_merge_df.loc[day2 & ventsettings_merge_df['oxygentherapy']==1 ,:]\n",
    "                  .groupby('icustay_id')['oxygentherapy']\n",
    "                  .value_counts())\n",
    "\n",
    "    icu_mechcount2= (\n",
    "        ventsettings_merge_df.loc[day2 & ventsettings_merge_df['mechvent']==1 ,:]\n",
    "                .groupby('icustay_id')['mechvent']\n",
    "                .value_counts())\n",
    "\n",
    "    #2-3\n",
    "    icu_O2count3= (\n",
    "        ventsettings_merge_df.loc[day3 & ventsettings_merge_df['oxygentherapy']==1 ,:]\n",
    "                  .groupby('icustay_id')['oxygentherapy']\n",
    "                  .value_counts())\n",
    "\n",
    "    icu_mechcount3= (\n",
    "        ventsettings_merge_df.loc[day3 & ventsettings_merge_df['mechvent']==1 ,:]\n",
    "                .groupby('icustay_id')['mechvent']\n",
    "                .value_counts())\n",
    "\n",
    "    #0-1\n",
    "    icu_O2count_df1= pd.DataFrame(icu_O2count1)\n",
    "    icu_O2count_df1.columns = ['O2_count1']\n",
    "    icu_O2count_df1= icu_O2count_df1.reset_index()\n",
    "\n",
    "    icu_mechcount_df1= pd.DataFrame(icu_mechcount1)\n",
    "    icu_mechcount_df1.columns = ['mech_count1']\n",
    "    icu_mechcount_df1= icu_mechcount_df1.reset_index()\n",
    "\n",
    "    #1-2\n",
    "    icu_O2count_df2= pd.DataFrame(icu_O2count2)\n",
    "    icu_O2count_df2.columns = ['O2_count2']\n",
    "    icu_O2count_df2= icu_O2count_df2.reset_index()\n",
    "\n",
    "    icu_mechcount_df2= pd.DataFrame(icu_mechcount2)\n",
    "    icu_mechcount_df2.columns = ['mech_count2']\n",
    "    icu_mechcount_df2= icu_mechcount_df2.reset_index()\n",
    "\n",
    "    #2-3\n",
    "    icu_O2count_df3= pd.DataFrame(icu_O2count3)\n",
    "    icu_O2count_df3.columns = ['O2_count_3']\n",
    "    icu_O2count_df3= icu_O2count_df3.reset_index()\n",
    "\n",
    "    icu_mechcount_df3= pd.DataFrame(icu_mechcount3)\n",
    "    icu_mechcount_df3.columns = ['mech_count_3']\n",
    "    icu_mechcount_df3= icu_mechcount_df3.reset_index()\n",
    "\n",
    "    #merging all together\n",
    "    icu_vent_status= pd.merge(icu_O2count_df1,icu_O2count_df2, how='outer')\n",
    "    icu_vent_status= pd.merge(icu_vent_status,icu_O2count_df3,  how='outer')\n",
    "    icu_vent_status= pd.merge(icu_vent_status,icu_mechcount_df1,  how='outer')\n",
    "    icu_vent_status= pd.merge(icu_vent_status,icu_mechcount_df2,  how='outer')\n",
    "    icu_vent_status= pd.merge(icu_vent_status,icu_mechcount_df3,  how='outer')\n",
    "    \n",
    "    return(icu_vent_status.drop(['oxygentherapy','mechvent'], axis=1))"
   ]
  },
  {
   "cell_type": "code",
   "execution_count": 42,
   "metadata": {},
   "outputs": [
    {
     "name": "stderr",
     "output_type": "stream",
     "text": [
      "/Users/geickelb1/anaconda/envs/rpy-env/lib/python3.6/site-packages/ipykernel_launcher.py:25: SettingWithCopyWarning: \n",
      "A value is trying to be set on a copy of a slice from a DataFrame.\n",
      "Try using .loc[row_indexer,col_indexer] = value instead\n",
      "\n",
      "See the caveats in the documentation: http://pandas.pydata.org/pandas-docs/stable/indexing.html#indexing-view-versus-copy\n",
      "/Users/geickelb1/anaconda/envs/rpy-env/lib/python3.6/site-packages/ipykernel_launcher.py:26: SettingWithCopyWarning: \n",
      "A value is trying to be set on a copy of a slice from a DataFrame.\n",
      "Try using .loc[row_indexer,col_indexer] = value instead\n",
      "\n",
      "See the caveats in the documentation: http://pandas.pydata.org/pandas-docs/stable/indexing.html#indexing-view-versus-copy\n",
      "/Users/geickelb1/anaconda/envs/rpy-env/lib/python3.6/site-packages/ipykernel_launcher.py:27: SettingWithCopyWarning: \n",
      "A value is trying to be set on a copy of a slice from a DataFrame.\n",
      "Try using .loc[row_indexer,col_indexer] = value instead\n",
      "\n",
      "See the caveats in the documentation: http://pandas.pydata.org/pandas-docs/stable/indexing.html#indexing-view-versus-copy\n",
      "/Users/geickelb1/anaconda/envs/rpy-env/lib/python3.6/site-packages/pandas/core/indexing.py:537: SettingWithCopyWarning: \n",
      "A value is trying to be set on a copy of a slice from a DataFrame.\n",
      "Try using .loc[row_indexer,col_indexer] = value instead\n",
      "\n",
      "See the caveats in the documentation: http://pandas.pydata.org/pandas-docs/stable/indexing.html#indexing-view-versus-copy\n",
      "  self.obj[item] = s\n"
     ]
    },
    {
     "name": "stdout",
     "output_type": "stream",
     "text": [
      "time: 3.72 s\n"
     ]
    }
   ],
   "source": [
    "ventcategory_df = vent_categorization(final_pt_df2, ventsettings_df)\n",
    "ventcount_df = vent_count(final_pt_df2,ventsettings_df)"
   ]
  },
  {
   "cell_type": "code",
   "execution_count": 8,
   "metadata": {},
   "outputs": [
    {
     "name": "stdout",
     "output_type": "stream",
     "text": [
      "time: 6 s\n"
     ]
    }
   ],
   "source": [
    "\n"
   ]
  },
  {
   "cell_type": "markdown",
   "metadata": {},
   "source": [
    "# saving as csv"
   ]
  },
  {
   "cell_type": "code",
   "execution_count": 29,
   "metadata": {},
   "outputs": [
    {
     "name": "stdout",
     "output_type": "stream",
     "text": [
      "time: 2min 21s\n"
     ]
    }
   ],
   "source": [
    "date= '16082018'\n",
    "\n",
    "pd.DataFrame(vaso_dose_df).to_csv(\n",
    "    '/Users/geickelb1/Documents/GitHub/mimiciii-antibiotics-modeling/data/raw/csv/%s_vaso_dose_df.csv' %(date))\n",
    "pd.DataFrame(ventsettings_df).to_csv(\n",
    "    '/Users/geickelb1/Documents/GitHub/mimiciii-antibiotics-modeling/data/raw/csv/%s_ventsettings_df.csv' %(date))\n",
    "pd.DataFrame(ventcategory_df).to_csv(\n",
    "    '/Users/geickelb1/Documents/GitHub/mimiciii-antibiotics-modeling/data/raw/csv/%s_ventcategory_df.csv' %(date))\n",
    "pd.DataFrame(ventcount_df).to_csv(\n",
    "    '/Users/geickelb1/Documents/GitHub/mimiciii-antibiotics-modeling/data/raw/csv/%s_ventcount_df.csv' %(date))\n",
    "\n",
    "\n",
    "pd.DataFrame(echodata_df).to_csv(\n",
    "    '/Users/geickelb1/Documents/GitHub/mimiciii-antibiotics-modeling/data/raw/csv/%s_echodata_df.csv' %(date))\n",
    "pd.DataFrame(weightfirstday_df).to_csv(\n",
    "    '/Users/geickelb1/Documents/GitHub/mimiciii-antibiotics-modeling/data/raw/csv/%s_weightfirstday_df.csv' %(date))\n",
    "pd.DataFrame(heightfirstday_df).to_csv(\n",
    "    '/Users/geickelb1/Documents/GitHub/mimiciii-antibiotics-modeling/data/raw/csv/%s_heightfirstday_df.csv' %(date))\n",
    "pd.DataFrame(labs_all_nosummary_df).to_csv(\n",
    "    '/Users/geickelb1/Documents/GitHub/mimiciii-antibiotics-modeling/data/raw/csv/%s_labs_all_nosummary_df.csv' %(date))\n",
    "pd.DataFrame(vitals_all_nosummary_df).to_csv(\n",
    "    '/Users/geickelb1/Documents/GitHub/mimiciii-antibiotics-modeling/data/raw/csv/%s_vitals_all_nosummary_df.csv' %(date))\n",
    "pd.DataFrame(gcsall_df).to_csv(\n",
    "    '/Users/geickelb1/Documents/GitHub/mimiciii-antibiotics-modeling/data/raw/csv/%s_gcsall_df.csv' %(date))\n",
    "pd.DataFrame(rrt_all_df).to_csv(\n",
    "    '/Users/geickelb1/Documents/GitHub/mimiciii-antibiotics-modeling/data/raw/csv/%s_rrt_all_df.csv' %(date))\n",
    "pd.DataFrame(urine_output_all_df).to_csv(\n",
    "    '/Users/geickelb1/Documents/GitHub/mimiciii-antibiotics-modeling/data/raw/csv/%s_urine_output_all_df.csv' %(date))\n",
    "pd.DataFrame(uti_all_df).to_csv(\n",
    "    '/Users/geickelb1/Documents/GitHub/mimiciii-antibiotics-modeling/data/raw/csv/%s_uti_all_df.csv' %(date))\n",
    "pd.DataFrame(bg_all_nosummary2_df).to_csv(\n",
    "    '/Users/geickelb1/Documents/GitHub/mimiciii-antibiotics-modeling/data/raw/csv/%s_bg_all_nosummary2_df.csv' %(date))"
   ]
  },
  {
   "cell_type": "code",
   "execution_count": 11,
   "metadata": {},
   "outputs": [
    {
     "name": "stdout",
     "output_type": "stream",
     "text": [
      "time: 5.08 s\n"
     ]
    }
   ],
   "source": []
  },
  {
   "cell_type": "markdown",
   "metadata": {},
   "source": [
    "#### ventilator data qc"
   ]
  },
  {
   "cell_type": "code",
   "execution_count": 55,
   "metadata": {},
   "outputs": [
    {
     "data": {
      "text/plain": [
       "count                     116\n",
       "unique                    106\n",
       "top       2183-01-15 04:00:00\n",
       "freq                        3\n",
       "first     2182-11-19 20:55:00\n",
       "last      2183-01-15 04:00:00\n",
       "Name: starttime, dtype: object"
      ]
     },
     "execution_count": 55,
     "metadata": {},
     "output_type": "execute_result"
    },
    {
     "name": "stdout",
     "output_type": "stream",
     "text": [
      "time: 8.8 ms\n"
     ]
    }
   ],
   "source": [
    "#icustay_id: 267059.0  test case\n",
    "#t_0= 2182-11-12\n",
    "#t_0+72 = 2182-11-15\n",
    "#t_end_consec = 2183-11-15\n",
    "\n",
    "#vaso_dose_df.loc[vaso_dose_df.loc[:,'icustay_id']==267059.0,:].sort_values('starttime')\n",
    "vaso_dose_df.loc[vaso_dose_df.loc[:,'icustay_id']==267059.0,'starttime'].describe() #Timestamp('2182-11-19 20:55:00')\n",
    "#Timestamp('2182-11-19 20:55:00')\n",
    "#Timestamp('2183-01-15 04:00:00)\n",
    "\n",
    "###takeaway: looks like ventilator data is in proper format where we are getting all instances of administration throughout a patient's icustay. "
   ]
  },
  {
   "cell_type": "code",
   "execution_count": null,
   "metadata": {},
   "outputs": [],
   "source": []
  },
  {
   "cell_type": "markdown",
   "metadata": {},
   "source": [
    "## updated here through 08/03/18"
   ]
  },
  {
   "cell_type": "code",
   "execution_count": null,
   "metadata": {},
   "outputs": [],
   "source": []
  },
  {
   "cell_type": "code",
   "execution_count": null,
   "metadata": {},
   "outputs": [],
   "source": []
  },
  {
   "cell_type": "code",
   "execution_count": null,
   "metadata": {},
   "outputs": [],
   "source": []
  },
  {
   "cell_type": "code",
   "execution_count": null,
   "metadata": {},
   "outputs": [],
   "source": []
  },
  {
   "cell_type": "code",
   "execution_count": null,
   "metadata": {},
   "outputs": [],
   "source": []
  },
  {
   "cell_type": "code",
   "execution_count": null,
   "metadata": {},
   "outputs": [],
   "source": []
  },
  {
   "cell_type": "markdown",
   "metadata": {},
   "source": [
    "# clinical variable QC"
   ]
  },
  {
   "cell_type": "code",
   "execution_count": 103,
   "metadata": {},
   "outputs": [
    {
     "name": "stdout",
     "output_type": "stream",
     "text": [
      "time: 22.1 ms\n"
     ]
    }
   ],
   "source": [
    "lab_bg_overlap_list=list(labsFirstDayDf[labsFirstDayDf['subject_id'].isin(list(\n",
    "    bgFirstDayDf['subject_id'].unique()))]['subject_id'].unique())"
   ]
  },
  {
   "cell_type": "code",
   "execution_count": 131,
   "metadata": {
    "scrolled": true
   },
   "outputs": [
    {
     "data": {
      "text/html": [
       "<div>\n",
       "<style scoped>\n",
       "    .dataframe tbody tr th:only-of-type {\n",
       "        vertical-align: middle;\n",
       "    }\n",
       "\n",
       "    .dataframe tbody tr th {\n",
       "        vertical-align: top;\n",
       "    }\n",
       "\n",
       "    .dataframe thead th {\n",
       "        text-align: right;\n",
       "    }\n",
       "</style>\n",
       "<table border=\"1\" class=\"dataframe\">\n",
       "  <thead>\n",
       "    <tr style=\"text-align: right;\">\n",
       "      <th></th>\n",
       "      <th>potassium_min</th>\n",
       "      <th>potassium_max</th>\n",
       "      <th>icustay_id</th>\n",
       "      <th>subject_id</th>\n",
       "      <th>hadm_id</th>\n",
       "    </tr>\n",
       "  </thead>\n",
       "  <tbody>\n",
       "    <tr>\n",
       "      <th>61504</th>\n",
       "      <td>3.9</td>\n",
       "      <td>4.6</td>\n",
       "      <td>236183</td>\n",
       "      <td>99912</td>\n",
       "      <td>189380</td>\n",
       "    </tr>\n",
       "  </tbody>\n",
       "</table>\n",
       "</div>"
      ],
      "text/plain": [
       "       potassium_min  potassium_max  icustay_id  subject_id  hadm_id\n",
       "61504            3.9            4.6      236183       99912   189380"
      ]
     },
     "execution_count": 131,
     "metadata": {},
     "output_type": "execute_result"
    },
    {
     "name": "stdout",
     "output_type": "stream",
     "text": [
      "time: 10.1 ms\n"
     ]
    }
   ],
   "source": [
    "#bgFirstDayDf\n",
    "#(labsFirstDayDf[labsFirstDayDf['subject_id'].isin(lab_bg_overlap_list)])\n",
    "(labsFirstDayDf[labsFirstDayDf['subject_id']==99912])[['potassium_min','potassium_max','icustay_id','subject_id','hadm_id']]"
   ]
  },
  {
   "cell_type": "code",
   "execution_count": 130,
   "metadata": {},
   "outputs": [
    {
     "data": {
      "text/html": [
       "<div>\n",
       "<style scoped>\n",
       "    .dataframe tbody tr th:only-of-type {\n",
       "        vertical-align: middle;\n",
       "    }\n",
       "\n",
       "    .dataframe tbody tr th {\n",
       "        vertical-align: top;\n",
       "    }\n",
       "\n",
       "    .dataframe thead th {\n",
       "        text-align: right;\n",
       "    }\n",
       "</style>\n",
       "<table border=\"1\" class=\"dataframe\">\n",
       "  <thead>\n",
       "    <tr style=\"text-align: right;\">\n",
       "      <th></th>\n",
       "      <th>potassium</th>\n",
       "      <th>specimen</th>\n",
       "      <th>charttime</th>\n",
       "      <th>icustay_id</th>\n",
       "      <th>subject_id</th>\n",
       "      <th>hadm_id</th>\n",
       "    </tr>\n",
       "  </thead>\n",
       "  <tbody>\n",
       "    <tr>\n",
       "      <th>243343</th>\n",
       "      <td>4.4</td>\n",
       "      <td>None</td>\n",
       "      <td>2153-04-13 13:37:00</td>\n",
       "      <td>236183</td>\n",
       "      <td>99912</td>\n",
       "      <td>189380</td>\n",
       "    </tr>\n",
       "    <tr>\n",
       "      <th>243344</th>\n",
       "      <td>NaN</td>\n",
       "      <td>None</td>\n",
       "      <td>2153-04-13 16:26:00</td>\n",
       "      <td>236183</td>\n",
       "      <td>99912</td>\n",
       "      <td>189380</td>\n",
       "    </tr>\n",
       "    <tr>\n",
       "      <th>243345</th>\n",
       "      <td>NaN</td>\n",
       "      <td>None</td>\n",
       "      <td>2153-04-13 16:50:00</td>\n",
       "      <td>236183</td>\n",
       "      <td>99912</td>\n",
       "      <td>189380</td>\n",
       "    </tr>\n",
       "    <tr>\n",
       "      <th>243346</th>\n",
       "      <td>NaN</td>\n",
       "      <td>None</td>\n",
       "      <td>2153-04-13 18:36:00</td>\n",
       "      <td>236183</td>\n",
       "      <td>99912</td>\n",
       "      <td>189380</td>\n",
       "    </tr>\n",
       "    <tr>\n",
       "      <th>243347</th>\n",
       "      <td>NaN</td>\n",
       "      <td>None</td>\n",
       "      <td>2153-04-13 20:53:00</td>\n",
       "      <td>236183</td>\n",
       "      <td>99912</td>\n",
       "      <td>189380</td>\n",
       "    </tr>\n",
       "    <tr>\n",
       "      <th>243348</th>\n",
       "      <td>NaN</td>\n",
       "      <td>None</td>\n",
       "      <td>2153-04-13 21:54:00</td>\n",
       "      <td>236183</td>\n",
       "      <td>99912</td>\n",
       "      <td>189380</td>\n",
       "    </tr>\n",
       "    <tr>\n",
       "      <th>243349</th>\n",
       "      <td>NaN</td>\n",
       "      <td>None</td>\n",
       "      <td>2153-04-14 00:20:00</td>\n",
       "      <td>236183</td>\n",
       "      <td>99912</td>\n",
       "      <td>189380</td>\n",
       "    </tr>\n",
       "    <tr>\n",
       "      <th>243350</th>\n",
       "      <td>NaN</td>\n",
       "      <td>None</td>\n",
       "      <td>2153-04-14 01:50:00</td>\n",
       "      <td>236183</td>\n",
       "      <td>99912</td>\n",
       "      <td>189380</td>\n",
       "    </tr>\n",
       "    <tr>\n",
       "      <th>243351</th>\n",
       "      <td>NaN</td>\n",
       "      <td>None</td>\n",
       "      <td>2153-04-14 04:32:00</td>\n",
       "      <td>236183</td>\n",
       "      <td>99912</td>\n",
       "      <td>189380</td>\n",
       "    </tr>\n",
       "    <tr>\n",
       "      <th>243352</th>\n",
       "      <td>NaN</td>\n",
       "      <td>None</td>\n",
       "      <td>2153-04-14 06:38:00</td>\n",
       "      <td>236183</td>\n",
       "      <td>99912</td>\n",
       "      <td>189380</td>\n",
       "    </tr>\n",
       "  </tbody>\n",
       "</table>\n",
       "</div>"
      ],
      "text/plain": [
       "        potassium specimen           charttime  icustay_id  subject_id  \\\n",
       "243343        4.4     None 2153-04-13 13:37:00      236183       99912   \n",
       "243344        NaN     None 2153-04-13 16:26:00      236183       99912   \n",
       "243345        NaN     None 2153-04-13 16:50:00      236183       99912   \n",
       "243346        NaN     None 2153-04-13 18:36:00      236183       99912   \n",
       "243347        NaN     None 2153-04-13 20:53:00      236183       99912   \n",
       "243348        NaN     None 2153-04-13 21:54:00      236183       99912   \n",
       "243349        NaN     None 2153-04-14 00:20:00      236183       99912   \n",
       "243350        NaN     None 2153-04-14 01:50:00      236183       99912   \n",
       "243351        NaN     None 2153-04-14 04:32:00      236183       99912   \n",
       "243352        NaN     None 2153-04-14 06:38:00      236183       99912   \n",
       "\n",
       "        hadm_id  \n",
       "243343   189380  \n",
       "243344   189380  \n",
       "243345   189380  \n",
       "243346   189380  \n",
       "243347   189380  \n",
       "243348   189380  \n",
       "243349   189380  \n",
       "243350   189380  \n",
       "243351   189380  \n",
       "243352   189380  "
      ]
     },
     "execution_count": 130,
     "metadata": {},
     "output_type": "execute_result"
    },
    {
     "name": "stdout",
     "output_type": "stream",
     "text": [
      "time: 19.2 ms\n"
     ]
    }
   ],
   "source": [
    "#5-9-18\n",
    "#(bgFirstDayDf[bgFirstDayDf['subject_id']==(lab_bg_overlap_list)])\n",
    "#(bgFirstDayDf[bgFirstDayDf['subject_id']==4])[['bicarbonate','specimen','charttime']]\n",
    "(bgFirstDayDf[bgFirstDayDf['subject_id']==99912])[['potassium','specimen','charttime','icustay_id','subject_id','hadm_id']]\n",
    "#bgFirstDayDf\n",
    "#99966 and 99912 subject id has potassium\n",
    "\n",
    "\n",
    "#qc, checking overlapping categories between bgFirstDayDf and labsFirstDatDf\n",
    "#subject_id has potassium 4.7 on 2191-08-23 21:38:00 in bgFirstDayDf \n",
    "#subject_id has potassium 4.4-4.9 in labsFirstDayDf. \n",
    "\n",
    "\n",
    "(ie.intime - interval '6' hour) AND (ie.intime + interval '1' day)\n",
    "\n",
    "\n",
    "#labs: # -- This query pivots lab values taken in the first 24 hours of a patient's stay\n",
    "# -- Have already confirmed that the unit of measurement is always the same: null or the correct unit.\n",
    "#these are from labevents\n",
    "#labs taken between 6 hours prior to admin and 1 day after admission. \n",
    "\n",
    "#bloodgas: # -- The aim of this query is to pivot entries related to blood gases and\n",
    "# -- chemistry values which were found in LABEVENTS\n",
    "#labs taken between 6 hours prior to admin and 1 day after admission. \n",
    "\n",
    "#ok so labs uses itemid of either 50822 & 50971 where as bloodgas only uses 50822. \n",
    "#50822 is postassium, whole blood (category bloodgas) while 50971 is potassium in blood (category chemistry)"
   ]
  }
 ],
 "metadata": {
  "kernelspec": {
   "display_name": "Python 3",
   "language": "python",
   "name": "python3"
  },
  "language_info": {
   "codemirror_mode": {
    "name": "ipython",
    "version": 3
   },
   "file_extension": ".py",
   "mimetype": "text/x-python",
   "name": "python",
   "nbconvert_exporter": "python",
   "pygments_lexer": "ipython3",
   "version": "3.6.4"
  }
 },
 "nbformat": 4,
 "nbformat_minor": 2
}
