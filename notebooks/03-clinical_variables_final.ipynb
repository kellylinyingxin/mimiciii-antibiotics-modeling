{
 "cells": [
  {
   "cell_type": "markdown",
   "metadata": {},
   "source": [
    "## clinical variable retrieval codebase.\n",
    "each querey is referencing a sql querey linked in my github for ALL patients in the database, then generating a dataframe, then paring that dataframe down to only the patients/icustay_id in our cohort. "
   ]
  },
  {
   "cell_type": "code",
   "execution_count": 3,
   "metadata": {},
   "outputs": [
    {
     "name": "stdout",
     "output_type": "stream",
     "text": [
      "time: 889 µs\n"
     ]
    }
   ],
   "source": [
    "#7-15-18\n",
    "#the final version of this notebook seeks to accomplish a few tasks:\n",
    "#organize and standardize all sql code so that i am running a .sql file rather than typing sql code into jupyter\n",
    "#change all filepaths to match the github linked directory to ensure better version control\n",
    "#extract all of the structured clinical variables we need for our project"
   ]
  },
  {
   "cell_type": "code",
   "execution_count": 2,
   "metadata": {},
   "outputs": [
    {
     "name": "stderr",
     "output_type": "stream",
     "text": [
      "/Users/geickelb1/anaconda/envs/rpy-env/lib/python3.6/site-packages/psycopg2/__init__.py:144: UserWarning: The psycopg2 wheel package will be renamed from release 2.8; in order to keep installing from binary please use \"pip install psycopg2-binary\" instead. For details see: <http://initd.org/psycopg/docs/install.html#binary-install-from-pypi>.\n",
      "  \"\"\")\n"
     ]
    }
   ],
   "source": [
    "import requests\n",
    "import numpy as np\n",
    "import pandas as pd\n",
    "import matplotlib.pyplot as plt\n",
    "import psycopg2\n",
    "import collections\n",
    "import asyncio\n",
    "import getpass\n",
    "import re\n",
    "from datetime import datetime as dt\n",
    "import os,sys,re\n",
    "import urllib3\n",
    "import prettytable\n",
    "from collections import Counter\n",
    "import seaborn as sns\n",
    "import random\n",
    "\n",
    "from sklearn.externals.joblib import Memory\n",
    "memory = Memory(cachedir='/tmp', verbose=0)\n",
    "#@memory.cache above any def fxn.\n",
    "\n",
    "%matplotlib inline\n",
    "plt.style.use('ggplot')\n",
    "\n",
    "from notebook.services.config import ConfigManager\n",
    "cm = ConfigManager()\n",
    "cm.update('livereveal', {\n",
    "        'width': 1024,\n",
    "        'height': 768,\n",
    "        'scroll': True,\n",
    "})\n",
    "\n",
    "%load_ext autotime"
   ]
  },
  {
   "cell_type": "code",
   "execution_count": 3,
   "metadata": {},
   "outputs": [
    {
     "name": "stdout",
     "output_type": "stream",
     "text": [
      "time: 103 ms\n"
     ]
    }
   ],
   "source": [
    "#patients of interest from rotation_cohort_generation\n",
    "\n",
    "final_pt_df2 = pd.read_csv('/Users/geickelb1/Documents/GitHub/mimiciii-antibiotics-modeling/data/raw/csv/16082018_final_pt_df2.csv', index_col=0)\n",
    "\n",
    "patients= list(final_pt_df2['subject_id'].unique())\n",
    "hadm_id= list(final_pt_df2['hadm_id'].unique())\n",
    "icustay_id= list(final_pt_df2['icustay_id'].unique())\n",
    "icustay_id= [int(x) for x in icustay_id]"
   ]
  },
  {
   "cell_type": "markdown",
   "metadata": {},
   "source": [
    "## Access MIMIC database and convert it to dataframe in Pandas"
   ]
  },
  {
   "cell_type": "code",
   "execution_count": 4,
   "metadata": {},
   "outputs": [
    {
     "name": "stdin",
     "output_type": "stream",
     "text": [
      "Password: ·····\n"
     ]
    },
    {
     "name": "stdout",
     "output_type": "stream",
     "text": [
      "time: 24.7 s\n"
     ]
    }
   ],
   "source": [
    "import psycopg2\n",
    "conn = psycopg2.connect(dbname=\"mimic\", user=\"student\", host=\"luolabwkstn01.fsm.northwestern.edu\", port=\"5432\",\n",
    "                        password=getpass.getpass(prompt='Password:'.format()))\n",
    "cur=conn.cursor()\n",
    "\n",
    "query_schema = 'SET search_path to ' + \"mimiciii\" + ';'"
   ]
  },
  {
   "cell_type": "code",
   "execution_count": 5,
   "metadata": {},
   "outputs": [
    {
     "name": "stdout",
     "output_type": "stream",
     "text": [
      "time: 47.2 ms\n"
     ]
    }
   ],
   "source": [
    "#input the sql_exe_show object and get dataframe for only patients in patient list out. \n",
    "def sql_exe_show(sql_sentence):\n",
    "    cur.execute(sql_sentence)\n",
    "    rows = cur.fetchall()\n",
    "    col = []\n",
    "    for i in range(len(cur.description)):\n",
    "        col.append(cur.description[i][0])\n",
    "    table = pd.DataFrame(rows,columns=col)\n",
    "    return table\n",
    "\n",
    "def sql_to_df_icu(sql_exe_show_obj):\n",
    "    sql_exe_show_df= pd.DataFrame(data=sql_exe_show_obj)\n",
    "    sql_exe_show_df=sql_exe_show_df[sql_exe_show_df['icustay_id'].isin(icustay_id)]\n",
    "    return sql_exe_show_df\n",
    "\n",
    "def sql_to_df_patients(sql_exe_show_obj):\n",
    "    sql_exe_show_df= pd.DataFrame(data=sql_exe_show_obj)\n",
    "    sql_exe_show_df=sql_exe_show_df[sql_exe_show_df['subject_id'].isin(patients)]\n",
    "    return sql_exe_show_df\n",
    "\n",
    "def sql_to_df_hadm(sql_exe_show_obj):\n",
    "    sql_exe_show_df= pd.DataFrame(data=sql_exe_show_obj)\n",
    "    sql_exe_show_df=sql_exe_show_df[sql_exe_show_df['hadm_id'].isin(hadm_id)]\n",
    "    return sql_exe_show_df\n",
    "\n",
    "def clinvar_fxn(var_name, path):\n",
    "    f= open(path, 'r')\n",
    "    var = f.read()\n",
    "    cur.execute('rollback')\n",
    "    cur.execute(var)\n",
    "    try:\n",
    "        df= sql_to_df_icu(sql_exe_show('select * from %s;' %(var_name)))\n",
    "    except KeyError or NameError:\n",
    "        try:      \n",
    "            df= sql_to_df_hadm(sql_exe_show('select * from %s;' %(var_name)))\n",
    "        except KeyError or NameError:\n",
    "            df= sql_to_df_patients(sql_exe_show('select * from %s;' %(var_name)))\n",
    "\n",
    "    print(df.shape)\n",
    "    return(df)\n"
   ]
  },
  {
   "cell_type": "markdown",
   "metadata": {},
   "source": [
    "# extracting clinical data for our patients"
   ]
  },
  {
   "cell_type": "markdown",
   "metadata": {},
   "source": [
    "## Echodata in Noteevents"
   ]
  },
  {
   "cell_type": "code",
   "execution_count": 8,
   "metadata": {},
   "outputs": [
    {
     "name": "stdout",
     "output_type": "stream",
     "text": [
      "(11494, 18)\n",
      "time: 34 s\n"
     ]
    }
   ],
   "source": [
    "echodata_df= clinvar_fxn(\n",
    "    'echodata',\n",
    "    '/Users/geickelb1/Documents/GitHub/mimiciii-antibiotics-modeling/data/raw/clinical_var_sql/all/echodata.sql' \n",
    ") #took 34 seconds origionally. took 54 just now"
   ]
  },
  {
   "cell_type": "markdown",
   "metadata": {},
   "source": [
    "## Weight"
   ]
  },
  {
   "cell_type": "code",
   "execution_count": 9,
   "metadata": {
    "scrolled": true
   },
   "outputs": [
    {
     "name": "stdout",
     "output_type": "stream",
     "text": [
      "(15207, 6)\n",
      "time: 2.11 s\n"
     ]
    }
   ],
   "source": [
    "# -- This query extracts weights for adult ICU patients on their first ICU day.\n",
    "# -- It does *not* use any information after the first ICU day, as weight is\n",
    "# -- sometimes used to monitor fluid balance.\n",
    "\n",
    "weightfirstday_df= clinvar_fxn(\n",
    "    'weightfirstday',\n",
    "    '/Users/geickelb1/Documents/GitHub/mimiciii-antibiotics-modeling/data/raw/clinical_var_sql/all/weightfirstday.sql' \n",
    ")\n",
    "weightfirstday_df['uom']='kg'"
   ]
  },
  {
   "cell_type": "markdown",
   "metadata": {},
   "source": [
    "## Height"
   ]
  },
  {
   "cell_type": "code",
   "execution_count": 10,
   "metadata": {
    "scrolled": true
   },
   "outputs": [
    {
     "name": "stdout",
     "output_type": "stream",
     "text": [
      "(15207, 4)\n",
      "time: 1.41 s\n"
     ]
    }
   ],
   "source": [
    "# -- This query extracts heights for adult ICU patients.\n",
    "# -- It uses all information from the patient's first ICU day.\n",
    "# -- This is done for consistency with other queries - it's not necessarily needed.\n",
    "# -- Height is unlikely to change throughout a patient's stay.\n",
    "heightfirstday_df= clinvar_fxn(\n",
    "    'heightfirstday',\n",
    "    '/Users/geickelb1/Documents/GitHub/mimiciii-antibiotics-modeling/data/raw/clinical_var_sql/all/heightfirstday.sql' \n",
    ")\n",
    "\n",
    "heightfirstday_df['uom']='cm'"
   ]
  },
  {
   "cell_type": "markdown",
   "metadata": {},
   "source": [
    "# Labs"
   ]
  },
  {
   "cell_type": "code",
   "execution_count": 11,
   "metadata": {
    "scrolled": true
   },
   "outputs": [
    {
     "name": "stdout",
     "output_type": "stream",
     "text": [
      "(3523293, 6)\n",
      "time: 5min 38s\n"
     ]
    }
   ],
   "source": [
    "# -- This query pivots lab values taken in the t_0 to t_0 + 72hr\n",
    "# -- Have already confirmed that the unit of measurement is always the same: null or the correct unit\n",
    "\n",
    "labs_all_nosummary_df= clinvar_fxn(\n",
    "    'labs_all_nosummary',\n",
    "    '/Users/geickelb1/Documents/GitHub/mimiciii-antibiotics-modeling/data/raw/clinical_var_sql/all/no_summary/labs_all_nosummary.sql' \n",
    ")\n"
   ]
  },
  {
   "cell_type": "code",
   "execution_count": 11,
   "metadata": {},
   "outputs": [
    {
     "name": "stdout",
     "output_type": "stream",
     "text": [
      "time: 5.76 ms\n"
     ]
    }
   ],
   "source": [
    "#importing unit of mesurements:\n",
    "def uom_sql_import(file_path):\n",
    "    if isinstance(file_path, str)== True:\n",
    "        f = open(Path(file_path), 'r')\n",
    "    else:\n",
    "        f = open(Path(str(file_path)), 'r')\n",
    "\n",
    "    SQL = open(file_path,'r').read()\n",
    "    SQL_df= pd.read_sql_query(SQL,conn)   \n",
    "    return(SQL_df)"
   ]
  },
  {
   "cell_type": "code",
   "execution_count": 12,
   "metadata": {},
   "outputs": [
    {
     "name": "stdout",
     "output_type": "stream",
     "text": [
      "time: 23.6 s\n"
     ]
    }
   ],
   "source": [
    "lab_uom= uom_sql_import(Path(wd+'/data/raw/clinical_var_sql/unit_of_mesurement/labs_uom.sql'))\n",
    "labs_all_nosummary_df = pd.merge(labs_all_nosummary_df, lab_uom, left_on='label', right_on='label')"
   ]
  },
  {
   "cell_type": "markdown",
   "metadata": {},
   "source": [
    "## Vital Sign"
   ]
  },
  {
   "cell_type": "code",
   "execution_count": 21,
   "metadata": {
    "scrolled": true
   },
   "outputs": [
    {
     "name": "stdout",
     "output_type": "stream",
     "text": [
      "(16269166, 7)\n",
      "time: 33min 8s\n"
     ]
    }
   ],
   "source": [
    "##-- This query pivots the vital signs for the first 24 hours of a patient's stay\n",
    "##-- Vital signs include heart rate, blood pressure, respiration rate, and temperature\n",
    "\n",
    "vitals_all_nosummary_df= clinvar_fxn(\n",
    "    'vitals_all_nosummary',\n",
    "    '/Users/geickelb1/Documents/GitHub/mimiciii-antibiotics-modeling/data/raw/clinical_var_sql/all/no_summary/vitals_all_nosummary.sql' \n",
    ")"
   ]
  },
  {
   "cell_type": "code",
   "execution_count": 24,
   "metadata": {},
   "outputs": [
    {
     "data": {
      "text/html": [
       "<div>\n",
       "<style scoped>\n",
       "    .dataframe tbody tr th:only-of-type {\n",
       "        vertical-align: middle;\n",
       "    }\n",
       "\n",
       "    .dataframe tbody tr th {\n",
       "        vertical-align: top;\n",
       "    }\n",
       "\n",
       "    .dataframe thead th {\n",
       "        text-align: right;\n",
       "    }\n",
       "</style>\n",
       "<table border=\"1\" class=\"dataframe\">\n",
       "  <thead>\n",
       "    <tr style=\"text-align: right;\">\n",
       "      <th></th>\n",
       "      <th>subject_id</th>\n",
       "      <th>hadm_id</th>\n",
       "      <th>icustay_id</th>\n",
       "      <th>charttime</th>\n",
       "      <th>valueuom</th>\n",
       "      <th>vitalid</th>\n",
       "      <th>valuenum</th>\n",
       "    </tr>\n",
       "  </thead>\n",
       "  <tbody>\n",
       "    <tr>\n",
       "      <th>3</th>\n",
       "      <td>9</td>\n",
       "      <td>150750</td>\n",
       "      <td>220597</td>\n",
       "      <td>2149-11-11 00:00:00</td>\n",
       "      <td>mmHg</td>\n",
       "      <td>MeanArtPress</td>\n",
       "      <td>81.0</td>\n",
       "    </tr>\n",
       "    <tr>\n",
       "      <th>4</th>\n",
       "      <td>9</td>\n",
       "      <td>150750</td>\n",
       "      <td>220597</td>\n",
       "      <td>2149-11-11 19:00:00</td>\n",
       "      <td>mmHg</td>\n",
       "      <td>MeanArtPress</td>\n",
       "      <td>72.0</td>\n",
       "    </tr>\n",
       "    <tr>\n",
       "      <th>5</th>\n",
       "      <td>9</td>\n",
       "      <td>150750</td>\n",
       "      <td>220597</td>\n",
       "      <td>2149-11-11 19:45:00</td>\n",
       "      <td>mmHg</td>\n",
       "      <td>MeanArtPress</td>\n",
       "      <td>76.0</td>\n",
       "    </tr>\n",
       "    <tr>\n",
       "      <th>6</th>\n",
       "      <td>9</td>\n",
       "      <td>150750</td>\n",
       "      <td>220597</td>\n",
       "      <td>2149-11-11 20:00:00</td>\n",
       "      <td>mmHg</td>\n",
       "      <td>MeanArtPress</td>\n",
       "      <td>99.0</td>\n",
       "    </tr>\n",
       "    <tr>\n",
       "      <th>9</th>\n",
       "      <td>21</td>\n",
       "      <td>111970</td>\n",
       "      <td>216859</td>\n",
       "      <td>2135-02-01 15:30:00</td>\n",
       "      <td>mmHg</td>\n",
       "      <td>MeanArtPress</td>\n",
       "      <td>61.0</td>\n",
       "    </tr>\n",
       "  </tbody>\n",
       "</table>\n",
       "</div>"
      ],
      "text/plain": [
       "   subject_id  hadm_id  icustay_id           charttime valueuom       vitalid  \\\n",
       "3           9   150750      220597 2149-11-11 00:00:00     mmHg  MeanArtPress   \n",
       "4           9   150750      220597 2149-11-11 19:00:00     mmHg  MeanArtPress   \n",
       "5           9   150750      220597 2149-11-11 19:45:00     mmHg  MeanArtPress   \n",
       "6           9   150750      220597 2149-11-11 20:00:00     mmHg  MeanArtPress   \n",
       "9          21   111970      216859 2135-02-01 15:30:00     mmHg  MeanArtPress   \n",
       "\n",
       "   valuenum  \n",
       "3      81.0  \n",
       "4      72.0  \n",
       "5      76.0  \n",
       "6      99.0  \n",
       "9      61.0  "
      ]
     },
     "execution_count": 24,
     "metadata": {},
     "output_type": "execute_result"
    },
    {
     "name": "stdout",
     "output_type": "stream",
     "text": [
      "time: 20 ms\n"
     ]
    }
   ],
   "source": [
    "vitals_all_nosummary_df.head()"
   ]
  },
  {
   "cell_type": "code",
   "execution_count": 25,
   "metadata": {},
   "outputs": [
    {
     "data": {
      "text/html": [
       "<div>\n",
       "<style scoped>\n",
       "    .dataframe tbody tr th:only-of-type {\n",
       "        vertical-align: middle;\n",
       "    }\n",
       "\n",
       "    .dataframe tbody tr th {\n",
       "        vertical-align: top;\n",
       "    }\n",
       "\n",
       "    .dataframe thead th {\n",
       "        text-align: right;\n",
       "    }\n",
       "</style>\n",
       "<table border=\"1\" class=\"dataframe\">\n",
       "  <thead>\n",
       "    <tr style=\"text-align: right;\">\n",
       "      <th></th>\n",
       "      <th>subject_id</th>\n",
       "      <th>hadm_id</th>\n",
       "      <th>icustay_id</th>\n",
       "      <th>charttime</th>\n",
       "      <th>valueuom</th>\n",
       "      <th>vitalid</th>\n",
       "      <th>valuenum</th>\n",
       "    </tr>\n",
       "  </thead>\n",
       "  <tbody>\n",
       "    <tr>\n",
       "      <th>3</th>\n",
       "      <td>9</td>\n",
       "      <td>150750</td>\n",
       "      <td>220597</td>\n",
       "      <td>2149-11-11 00:00:00</td>\n",
       "      <td>mmHg</td>\n",
       "      <td>MeanArtPress</td>\n",
       "      <td>81.0</td>\n",
       "    </tr>\n",
       "    <tr>\n",
       "      <th>4</th>\n",
       "      <td>9</td>\n",
       "      <td>150750</td>\n",
       "      <td>220597</td>\n",
       "      <td>2149-11-11 19:00:00</td>\n",
       "      <td>mmHg</td>\n",
       "      <td>MeanArtPress</td>\n",
       "      <td>72.0</td>\n",
       "    </tr>\n",
       "    <tr>\n",
       "      <th>5</th>\n",
       "      <td>9</td>\n",
       "      <td>150750</td>\n",
       "      <td>220597</td>\n",
       "      <td>2149-11-11 19:45:00</td>\n",
       "      <td>mmHg</td>\n",
       "      <td>MeanArtPress</td>\n",
       "      <td>76.0</td>\n",
       "    </tr>\n",
       "    <tr>\n",
       "      <th>6</th>\n",
       "      <td>9</td>\n",
       "      <td>150750</td>\n",
       "      <td>220597</td>\n",
       "      <td>2149-11-11 20:00:00</td>\n",
       "      <td>mmHg</td>\n",
       "      <td>MeanArtPress</td>\n",
       "      <td>99.0</td>\n",
       "    </tr>\n",
       "    <tr>\n",
       "      <th>9</th>\n",
       "      <td>21</td>\n",
       "      <td>111970</td>\n",
       "      <td>216859</td>\n",
       "      <td>2135-02-01 15:30:00</td>\n",
       "      <td>mmHg</td>\n",
       "      <td>MeanArtPress</td>\n",
       "      <td>61.0</td>\n",
       "    </tr>\n",
       "  </tbody>\n",
       "</table>\n",
       "</div>"
      ],
      "text/plain": [
       "   subject_id  hadm_id  icustay_id           charttime valueuom       vitalid  \\\n",
       "3           9   150750      220597 2149-11-11 00:00:00     mmHg  MeanArtPress   \n",
       "4           9   150750      220597 2149-11-11 19:00:00     mmHg  MeanArtPress   \n",
       "5           9   150750      220597 2149-11-11 19:45:00     mmHg  MeanArtPress   \n",
       "6           9   150750      220597 2149-11-11 20:00:00     mmHg  MeanArtPress   \n",
       "9          21   111970      216859 2135-02-01 15:30:00     mmHg  MeanArtPress   \n",
       "\n",
       "   valuenum  \n",
       "3      81.0  \n",
       "4      72.0  \n",
       "5      76.0  \n",
       "6      99.0  \n",
       "9      61.0  "
      ]
     },
     "execution_count": 25,
     "metadata": {},
     "output_type": "execute_result"
    },
    {
     "name": "stdout",
     "output_type": "stream",
     "text": [
      "time: 16.4 ms\n"
     ]
    }
   ],
   "source": [
    "vitals_all_nosummary_df.head()"
   ]
  },
  {
   "cell_type": "code",
   "execution_count": null,
   "metadata": {},
   "outputs": [],
   "source": [
    "# vitals_all_nosummary_df = vitals_all_nosummary_df.rename(index=str, columns={\"valueuom\":\"uom\"}) #change valueom to uom\n",
    "# vitals_all_nosummary_nonull = vitals_all_nosummary_df.loc[vitals_all_nosummary_df['vitalid'].notnull(),:]#.count() #6930 NULL values\n",
    "\n",
    "# vitals_all_nosummary_nonull.loc[vitals_all_nosummary_nonull.loc[:,'uom']=='BPM','uom']='bpm'\n",
    "\n",
    "# #overall the values are extremely similar and are likely the same thing\n",
    "# #i will combine them.\n",
    "# vitals_all_nosummary_nonull.loc[\n",
    "#     (vitals_all_nosummary_nonull['vitalid']=='RespRate') & \n",
    "#     (vitals_all_nosummary_nonull['uom']=='bpm'),'uom']='insp/min'\n",
    "\n",
    "# vitals_all_nosummary_nonull.loc[\n",
    "#     (vitals_all_nosummary_nonull['vitalid']=='TempC') & \n",
    "#     (vitals_all_nosummary_nonull['uom']=='?C'),'uom']='Deg. C'\n",
    "\n",
    "# vitals_all_nosummary_nonull.loc[\n",
    "#     (vitals_all_nosummary_nonull['vitalid']=='TempF') & \n",
    "#     (vitals_all_nosummary_nonull['uom']=='Deg. F'),'uom']='Deg. C'\n",
    "\n",
    "# vitals_all_nosummary_nonull.loc[\n",
    "#     (vitals_all_nosummary_nonull['vitalid']=='TempF') & \n",
    "#     (vitals_all_nosummary_nonull['uom']=='?F'),'uom']='Deg. C'\n",
    "\n",
    "\n",
    "# vitals_all_nosummary_nonull.loc[\n",
    "#     (vitals_all_nosummary_nonull['vitalid']=='TempF'),'vitalid']='TempC'"
   ]
  },
  {
   "cell_type": "markdown",
   "metadata": {},
   "source": [
    "## Glasgow Coma Scale"
   ]
  },
  {
   "cell_type": "code",
   "execution_count": 13,
   "metadata": {
    "scrolled": true
   },
   "outputs": [
    {
     "name": "stdout",
     "output_type": "stream",
     "text": [
      "(15207, 8)\n",
      "time: 1min 34s\n"
     ]
    }
   ],
   "source": [
    "gcsall_df= clinvar_fxn(\n",
    "    'gcsall',\n",
    "    '/Users/geickelb1/Documents/GitHub/mimiciii-antibiotics-modeling/data/raw/clinical_var_sql/all/gcsall.sql' \n",
    ")"
   ]
  },
  {
   "cell_type": "code",
   "execution_count": 218,
   "metadata": {},
   "outputs": [
    {
     "name": "stdout",
     "output_type": "stream",
     "text": [
      "(15207, 9)\n",
      "time: 1min\n"
     ]
    }
   ],
   "source": [
    "#modified on 8/28/18 to have the days annotation.\n",
    "##--8/28/18: added in epoch as days, in order to help determine btwn t_0 and 72 hour for pts.\n",
    "gcsall_days_df= clinvar_fxn(\n",
    "    'gcsall_days',\n",
    "    '/Users/geickelb1/Documents/GitHub/mimiciii-antibiotics-modeling/data/raw/clinical_var_sql/all/gcsall_days.sql' \n",
    ")\n",
    "\n"
   ]
  },
  {
   "cell_type": "code",
   "execution_count": 252,
   "metadata": {},
   "outputs": [
    {
     "name": "stdout",
     "output_type": "stream",
     "text": [
      "time: 8.63 ms\n"
     ]
    }
   ],
   "source": [
    "#need to add in admit time to pts\n",
    "def gcs_72(gcsall_days_df,final_pt_df2):\n",
    "    gcsall_days_df_merge= pd.merge(\n",
    "    gcsall_days_df,\n",
    "    final_pt_df2[['icustay_id','ICU_admit','t_0']],\n",
    "    left_on='icustay_id',\n",
    "    right_on='icustay_id')\n",
    "\n",
    "    gcsall_days_df_merge['admit_plus_day']= (\n",
    "        pd.to_datetime(gcsall_days_df_merge['ICU_admit'])\n",
    "        + pd.to_timedelta(gcsall_days_df_merge['day'], unit='D')\n",
    "    )\n",
    "\n",
    "    gcsall_days_df_merge['delta']= (\n",
    "        pd.to_datetime(gcsall_days_df_merge['admit_plus_day']) - pd.to_datetime(gcsall_days_df_merge['t_0'])\n",
    "    )\n",
    "    gcsall_days_df_merge_72= (\n",
    "        gcsall_days_df_merge.loc[gcsall_days_df_merge.loc[:,'delta']>= pd.Timedelta(days=0),:])\n",
    "    gcsall_days_df_merge_72= (\n",
    "        gcsall_days_df_merge_72.loc[gcsall_days_df_merge_72.loc[:,'delta']<= pd.Timedelta(days=3),:])\n",
    "    return(gcsall_days_df_merge_72)"
   ]
  },
  {
   "cell_type": "code",
   "execution_count": 253,
   "metadata": {},
   "outputs": [
    {
     "name": "stdout",
     "output_type": "stream",
     "text": [
      "time: 89.2 ms\n"
     ]
    }
   ],
   "source": [
    "gcs72_df = gcs_72(gcsall_days_df,final_pt_df2)\n",
    "\n",
    "gcs72_df['uom']='GCS_score' #adding in uom"
   ]
  },
  {
   "cell_type": "code",
   "execution_count": 254,
   "metadata": {},
   "outputs": [
    {
     "name": "stdout",
     "output_type": "stream",
     "text": [
      "time: 199 ms\n"
     ]
    }
   ],
   "source": [
    "# date= '27082018'\n",
    "\n",
    "# pd.DataFrame(gcs72_df).to_csv(\n",
    "#     '/Users/geickelb1/Documents/GitHub/mimiciii-antibiotics-modeling/data/raw/csv/%s_gcs72_df.csv' %(date))"
   ]
  },
  {
   "cell_type": "markdown",
   "metadata": {},
   "source": [
    "## Renal replacement therapy"
   ]
  },
  {
   "cell_type": "code",
   "execution_count": null,
   "metadata": {},
   "outputs": [],
   "source": []
  },
  {
   "cell_type": "code",
   "execution_count": 14,
   "metadata": {
    "scrolled": true
   },
   "outputs": [
    {
     "name": "stdout",
     "output_type": "stream",
     "text": [
      "(15207, 4)\n",
      "time: 12.4 s\n"
     ]
    }
   ],
   "source": [
    "# rrt_all_df= clinvar_fxn(\n",
    "#     'rrt_all',\n",
    "#     '/Users/geickelb1/Documents/GitHub/mimiciii-antibiotics-modeling/data/raw/clinical_var_sql/all/rrt_all.sql' \n",
    "# )"
   ]
  },
  {
   "cell_type": "markdown",
   "metadata": {},
   "source": [
    "the sql code for this was not equipped to join all of the charttimes together. so i decided to do it in python below.\n",
    "the rrt_all_df code above was only a 1 or 0 if patient had RRT during their entire icu stay. \n",
    "\n",
    "- step 1: run all sql codes\n",
    "- 2: filter on only the t_0 to t_72 hour rows\n",
    "- 3: filter on the 1223 patients who have a positive value\n",
    "- 4: get the earliest incidence of rrt for each 1223 patients. "
   ]
  },
  {
   "cell_type": "code",
   "execution_count": 165,
   "metadata": {},
   "outputs": [
    {
     "name": "stdout",
     "output_type": "stream",
     "text": [
      "time: 56.6 s\n"
     ]
    }
   ],
   "source": [
    "#mv_ce\n",
    "f = open('/Users/geickelb1/Documents/GitHub/mimiciii-antibiotics-modeling/data/raw/clinical_var_sql/all/no_summary/rtt_mv_ce.sql', 'r')\n",
    "rrtSQL_mv_ce = f.read()\n",
    "rrtSQL_mv_ce_sql = query_schema + rrtSQL_mv_ce.format(tuple(patients))\n",
    "rrtSQL_mv_ce_df=pd.read_sql_query(rrtSQL_mv_ce_sql,conn)            "
   ]
  },
  {
   "cell_type": "code",
   "execution_count": 166,
   "metadata": {},
   "outputs": [
    {
     "name": "stdout",
     "output_type": "stream",
     "text": [
      "time: 3min 20s\n"
     ]
    }
   ],
   "source": [
    "#cv\n",
    "f = open('/Users/geickelb1/Documents/GitHub/mimiciii-antibiotics-modeling/data/raw/clinical_var_sql/all/no_summary/rtt_cv.sql', 'r')\n",
    "rrtSQL_cv = f.read()\n",
    "rrtSQL_cv_sql = query_schema + rrtSQL_cv.format(tuple(patients))\n",
    "rrtSQL_cv_df=pd.read_sql_query(rrtSQL_cv_sql,conn)          "
   ]
  },
  {
   "cell_type": "code",
   "execution_count": 167,
   "metadata": {},
   "outputs": [
    {
     "name": "stdout",
     "output_type": "stream",
     "text": [
      "time: 939 ms\n"
     ]
    }
   ],
   "source": [
    "#mv_ie\n",
    "f = open('/Users/geickelb1/Documents/GitHub/mimiciii-antibiotics-modeling/data/raw/clinical_var_sql/all/no_summary/rtt_mv_ie.sql', 'r')\n",
    "rrtSQL_mv_ie = f.read()\n",
    "rrtSQL_mv_ie_sql = query_schema + rrtSQL_mv_ie.format(tuple(patients))\n",
    "rrtSQL_mv_ie_df=pd.read_sql_query(rrtSQL_mv_ie_sql,conn)      \n",
    "rrtSQL_mv_ie_df['charttime']= rrtSQL_mv_ie_df['starttime']\n",
    "rrtSQL_mv_ie_df=rrtSQL_mv_ie_df.drop('starttime', axis=1)"
   ]
  },
  {
   "cell_type": "code",
   "execution_count": 168,
   "metadata": {},
   "outputs": [
    {
     "name": "stdout",
     "output_type": "stream",
     "text": [
      "time: 8.62 s\n"
     ]
    }
   ],
   "source": [
    "#mv_de\n",
    "f = open('/Users/geickelb1/Documents/GitHub/mimiciii-antibiotics-modeling/data/raw/clinical_var_sql/all/no_summary/rtt_mv_de.sql', 'r')\n",
    "rrtSQL_mv_de = f.read()\n",
    "rrtSQL_mv_de_sql = query_schema + rrtSQL_mv_de.format(tuple(patients))\n",
    "rrtSQL_mv_de_df=pd.read_sql_query(rrtSQL_mv_de_sql,conn)          "
   ]
  },
  {
   "cell_type": "code",
   "execution_count": 169,
   "metadata": {},
   "outputs": [
    {
     "name": "stdout",
     "output_type": "stream",
     "text": [
      "time: 101 ms\n"
     ]
    }
   ],
   "source": [
    "#mv_pe\n",
    "f = open('/Users/geickelb1/Documents/GitHub/mimiciii-antibiotics-modeling/data/raw/clinical_var_sql/all/no_summary/rtt_mv_pe.sql', 'r')\n",
    "rrtSQL_mv_pe = f.read()\n",
    "rrtSQL_mv_pe_sql = query_schema + rrtSQL_mv_pe.format(tuple(patients))\n",
    "rrtSQL_mv_pe_df=pd.read_sql_query(rrtSQL_mv_pe_sql,conn)          \n",
    "rrtSQL_mv_pe_df['charttime']= rrtSQL_mv_pe_df['starttime']\n",
    "rrtSQL_mv_pe_df=rrtSQL_mv_pe_df.drop('starttime', axis=1)"
   ]
  },
  {
   "cell_type": "code",
   "execution_count": 187,
   "metadata": {},
   "outputs": [
    {
     "name": "stdout",
     "output_type": "stream",
     "text": [
      "time: 12.2 ms\n"
     ]
    }
   ],
   "source": [
    "def hour_72_window_rrt(df, final_pt_df2,timevar):\n",
    "\n",
    "    df= pd.merge(final_pt_df2[['icustay_id','t_0']], df, left_on= 'icustay_id', right_on = 'icustay_id', how='left') #n=240317\n",
    "    df['delta']= pd.to_datetime(df[timevar]) - pd.to_datetime(df['t_0'])\n",
    "    df_after_t0= df.loc[df.loc[:,'delta']>= pd.Timedelta(days=0),:]\n",
    "    df_after_t0= df_after_t0.loc[df_after_t0.loc[:,'delta']<= pd.Timedelta(days=3),:] \n",
    "    #df_after_t0= df_after_t0.loc[df_after_t0.loc[:,'rrt']==1,:].groupby('icustay_id')['charttime'].min()\n",
    "\n",
    "    return(pd.DataFrame(df_after_t0))#.reset_index())"
   ]
  },
  {
   "cell_type": "code",
   "execution_count": 188,
   "metadata": {},
   "outputs": [
    {
     "name": "stdout",
     "output_type": "stream",
     "text": [
      "time: 967 ms\n"
     ]
    }
   ],
   "source": [
    "rrtSQL_mv_ce_pt =hour_72_window_rrt(rrtSQL_mv_ce_df, final_pt_df2, 'charttime')\n",
    "rrtSQL_cv_pt =hour_72_window_rrt(rrtSQL_cv_df, final_pt_df2, 'charttime')\n",
    "rrtSQL_mv_ie_pt =hour_72_window_rrt(rrtSQL_mv_ie_df, final_pt_df2, 'charttime')\n",
    "rrtSQL_mv_de_pt =hour_72_window_rrt(rrtSQL_mv_de_df, final_pt_df2, 'charttime')\n",
    "rrtSQL_mv_pe_pt =hour_72_window_rrt(rrtSQL_mv_pe_df, final_pt_df2, 'charttime')"
   ]
  },
  {
   "cell_type": "code",
   "execution_count": 211,
   "metadata": {},
   "outputs": [
    {
     "name": "stdout",
     "output_type": "stream",
     "text": [
      "time: 76.7 ms\n"
     ]
    }
   ],
   "source": [
    "rrt_merged_pt= pd.concat([rrtSQL_mv_ce_pt, rrtSQL_cv_pt, rrtSQL_mv_ie_pt, rrtSQL_mv_de_pt, rrtSQL_mv_pe_pt])\n",
    "rrt_merged_pt= pd.DataFrame(rrt_merged.loc[rrt_merged.loc[:,'rrt']==1,:].groupby('icustay_id')['charttime'].min().reset_index())\n",
    "rrt_merged_pt['rrt']=1\n",
    "\n",
    "rrt_merged_allpt_df= pd.merge(final_pt_df2[['icustay_id','t_0']], rrt_merged_pt, left_on= 'icustay_id', right_on = 'icustay_id', how='left') #n=240317\n",
    "rrt_merged_allpt_df=rrt_merged_allpt_df.rename(index=str, columns={\"charttime\":\"first_charttime\"})\n",
    "\n",
    "rrt_merged_allpt_df['uom']='category' #adding a uom category\n"
   ]
  },
  {
   "cell_type": "code",
   "execution_count": null,
   "metadata": {},
   "outputs": [],
   "source": [
    "rrt_merged_allpt_df_notnull = rrt_merged_allpt_df.loc[rrt_merged_allpt_df['rrt'].notnull(),:]"
   ]
  },
  {
   "cell_type": "code",
   "execution_count": 212,
   "metadata": {},
   "outputs": [
    {
     "data": {
      "text/html": [
       "<div>\n",
       "<style scoped>\n",
       "    .dataframe tbody tr th:only-of-type {\n",
       "        vertical-align: middle;\n",
       "    }\n",
       "\n",
       "    .dataframe tbody tr th {\n",
       "        vertical-align: top;\n",
       "    }\n",
       "\n",
       "    .dataframe thead th {\n",
       "        text-align: right;\n",
       "    }\n",
       "</style>\n",
       "<table border=\"1\" class=\"dataframe\">\n",
       "  <thead>\n",
       "    <tr style=\"text-align: right;\">\n",
       "      <th></th>\n",
       "      <th>icustay_id</th>\n",
       "      <th>t_0</th>\n",
       "      <th>first_charttime</th>\n",
       "      <th>rrt</th>\n",
       "    </tr>\n",
       "  </thead>\n",
       "  <tbody>\n",
       "    <tr>\n",
       "      <th>0</th>\n",
       "      <td>267059.0</td>\n",
       "      <td>2182-11-12</td>\n",
       "      <td>NaT</td>\n",
       "      <td>NaN</td>\n",
       "    </tr>\n",
       "    <tr>\n",
       "      <th>1</th>\n",
       "      <td>278729.0</td>\n",
       "      <td>2159-11-08</td>\n",
       "      <td>NaT</td>\n",
       "      <td>NaN</td>\n",
       "    </tr>\n",
       "    <tr>\n",
       "      <th>2</th>\n",
       "      <td>219670.0</td>\n",
       "      <td>2190-08-01</td>\n",
       "      <td>NaT</td>\n",
       "      <td>NaN</td>\n",
       "    </tr>\n",
       "    <tr>\n",
       "      <th>3</th>\n",
       "      <td>295185.0</td>\n",
       "      <td>2154-11-11</td>\n",
       "      <td>NaT</td>\n",
       "      <td>NaN</td>\n",
       "    </tr>\n",
       "    <tr>\n",
       "      <th>4</th>\n",
       "      <td>211472.0</td>\n",
       "      <td>2193-12-11</td>\n",
       "      <td>NaT</td>\n",
       "      <td>NaN</td>\n",
       "    </tr>\n",
       "    <tr>\n",
       "      <th>5</th>\n",
       "      <td>259012.0</td>\n",
       "      <td>2120-05-24</td>\n",
       "      <td>NaT</td>\n",
       "      <td>NaN</td>\n",
       "    </tr>\n",
       "    <tr>\n",
       "      <th>6</th>\n",
       "      <td>231735.0</td>\n",
       "      <td>2186-04-13</td>\n",
       "      <td>NaT</td>\n",
       "      <td>NaN</td>\n",
       "    </tr>\n",
       "    <tr>\n",
       "      <th>7</th>\n",
       "      <td>252135.0</td>\n",
       "      <td>2166-04-13</td>\n",
       "      <td>2166-04-13 00:00:00</td>\n",
       "      <td>1.0</td>\n",
       "    </tr>\n",
       "    <tr>\n",
       "      <th>8</th>\n",
       "      <td>293255.0</td>\n",
       "      <td>2167-10-21</td>\n",
       "      <td>2167-10-21 04:31:00</td>\n",
       "      <td>1.0</td>\n",
       "    </tr>\n",
       "    <tr>\n",
       "      <th>9</th>\n",
       "      <td>261279.0</td>\n",
       "      <td>2167-10-26</td>\n",
       "      <td>2167-10-26 01:00:00</td>\n",
       "      <td>1.0</td>\n",
       "    </tr>\n",
       "    <tr>\n",
       "      <th>10</th>\n",
       "      <td>274352.0</td>\n",
       "      <td>2132-07-28</td>\n",
       "      <td>NaT</td>\n",
       "      <td>NaN</td>\n",
       "    </tr>\n",
       "    <tr>\n",
       "      <th>11</th>\n",
       "      <td>273581.0</td>\n",
       "      <td>2182-02-03</td>\n",
       "      <td>NaT</td>\n",
       "      <td>NaN</td>\n",
       "    </tr>\n",
       "    <tr>\n",
       "      <th>12</th>\n",
       "      <td>290264.0</td>\n",
       "      <td>2187-03-02</td>\n",
       "      <td>NaT</td>\n",
       "      <td>NaN</td>\n",
       "    </tr>\n",
       "    <tr>\n",
       "      <th>13</th>\n",
       "      <td>226877.0</td>\n",
       "      <td>2181-10-13</td>\n",
       "      <td>NaT</td>\n",
       "      <td>NaN</td>\n",
       "    </tr>\n",
       "    <tr>\n",
       "      <th>14</th>\n",
       "      <td>233208.0</td>\n",
       "      <td>2151-10-05</td>\n",
       "      <td>NaT</td>\n",
       "      <td>NaN</td>\n",
       "    </tr>\n",
       "    <tr>\n",
       "      <th>15</th>\n",
       "      <td>299132.0</td>\n",
       "      <td>2168-10-21</td>\n",
       "      <td>NaT</td>\n",
       "      <td>NaN</td>\n",
       "    </tr>\n",
       "    <tr>\n",
       "      <th>16</th>\n",
       "      <td>230775.0</td>\n",
       "      <td>2143-03-10</td>\n",
       "      <td>NaT</td>\n",
       "      <td>NaN</td>\n",
       "    </tr>\n",
       "    <tr>\n",
       "      <th>17</th>\n",
       "      <td>294366.0</td>\n",
       "      <td>2119-09-29</td>\n",
       "      <td>NaT</td>\n",
       "      <td>NaN</td>\n",
       "    </tr>\n",
       "    <tr>\n",
       "      <th>18</th>\n",
       "      <td>221510.0</td>\n",
       "      <td>2126-06-14</td>\n",
       "      <td>NaT</td>\n",
       "      <td>NaN</td>\n",
       "    </tr>\n",
       "    <tr>\n",
       "      <th>19</th>\n",
       "      <td>237561.0</td>\n",
       "      <td>2107-01-22</td>\n",
       "      <td>NaT</td>\n",
       "      <td>NaN</td>\n",
       "    </tr>\n",
       "    <tr>\n",
       "      <th>20</th>\n",
       "      <td>251526.0</td>\n",
       "      <td>2129-12-20</td>\n",
       "      <td>2129-12-20 09:32:00</td>\n",
       "      <td>1.0</td>\n",
       "    </tr>\n",
       "    <tr>\n",
       "      <th>21</th>\n",
       "      <td>262800.0</td>\n",
       "      <td>2136-10-04</td>\n",
       "      <td>NaT</td>\n",
       "      <td>NaN</td>\n",
       "    </tr>\n",
       "    <tr>\n",
       "      <th>22</th>\n",
       "      <td>242513.0</td>\n",
       "      <td>2176-04-22</td>\n",
       "      <td>NaT</td>\n",
       "      <td>NaN</td>\n",
       "    </tr>\n",
       "    <tr>\n",
       "      <th>23</th>\n",
       "      <td>277353.0</td>\n",
       "      <td>2111-12-12</td>\n",
       "      <td>NaT</td>\n",
       "      <td>NaN</td>\n",
       "    </tr>\n",
       "    <tr>\n",
       "      <th>24</th>\n",
       "      <td>294503.0</td>\n",
       "      <td>2169-05-26</td>\n",
       "      <td>NaT</td>\n",
       "      <td>NaN</td>\n",
       "    </tr>\n",
       "    <tr>\n",
       "      <th>25</th>\n",
       "      <td>286106.0</td>\n",
       "      <td>2166-12-24</td>\n",
       "      <td>NaT</td>\n",
       "      <td>NaN</td>\n",
       "    </tr>\n",
       "    <tr>\n",
       "      <th>26</th>\n",
       "      <td>273661.0</td>\n",
       "      <td>2186-05-04</td>\n",
       "      <td>NaT</td>\n",
       "      <td>NaN</td>\n",
       "    </tr>\n",
       "    <tr>\n",
       "      <th>27</th>\n",
       "      <td>205636.0</td>\n",
       "      <td>2144-06-08</td>\n",
       "      <td>NaT</td>\n",
       "      <td>NaN</td>\n",
       "    </tr>\n",
       "    <tr>\n",
       "      <th>28</th>\n",
       "      <td>299961.0</td>\n",
       "      <td>2108-10-07</td>\n",
       "      <td>NaT</td>\n",
       "      <td>NaN</td>\n",
       "    </tr>\n",
       "    <tr>\n",
       "      <th>29</th>\n",
       "      <td>226842.0</td>\n",
       "      <td>2189-06-23</td>\n",
       "      <td>NaT</td>\n",
       "      <td>NaN</td>\n",
       "    </tr>\n",
       "    <tr>\n",
       "      <th>...</th>\n",
       "      <td>...</td>\n",
       "      <td>...</td>\n",
       "      <td>...</td>\n",
       "      <td>...</td>\n",
       "    </tr>\n",
       "    <tr>\n",
       "      <th>15177</th>\n",
       "      <td>223816.0</td>\n",
       "      <td>2147-07-11</td>\n",
       "      <td>NaT</td>\n",
       "      <td>NaN</td>\n",
       "    </tr>\n",
       "    <tr>\n",
       "      <th>15178</th>\n",
       "      <td>275132.0</td>\n",
       "      <td>2175-03-08</td>\n",
       "      <td>2175-03-08 00:00:00</td>\n",
       "      <td>1.0</td>\n",
       "    </tr>\n",
       "    <tr>\n",
       "      <th>15179</th>\n",
       "      <td>284258.0</td>\n",
       "      <td>2198-09-23</td>\n",
       "      <td>NaT</td>\n",
       "      <td>NaN</td>\n",
       "    </tr>\n",
       "    <tr>\n",
       "      <th>15180</th>\n",
       "      <td>275542.0</td>\n",
       "      <td>2108-06-16</td>\n",
       "      <td>NaT</td>\n",
       "      <td>NaN</td>\n",
       "    </tr>\n",
       "    <tr>\n",
       "      <th>15181</th>\n",
       "      <td>294453.0</td>\n",
       "      <td>2133-11-10</td>\n",
       "      <td>NaT</td>\n",
       "      <td>NaN</td>\n",
       "    </tr>\n",
       "    <tr>\n",
       "      <th>15182</th>\n",
       "      <td>214103.0</td>\n",
       "      <td>2101-05-12</td>\n",
       "      <td>NaT</td>\n",
       "      <td>NaN</td>\n",
       "    </tr>\n",
       "    <tr>\n",
       "      <th>15183</th>\n",
       "      <td>279108.0</td>\n",
       "      <td>2195-02-12</td>\n",
       "      <td>NaT</td>\n",
       "      <td>NaN</td>\n",
       "    </tr>\n",
       "    <tr>\n",
       "      <th>15184</th>\n",
       "      <td>236571.0</td>\n",
       "      <td>2151-08-20</td>\n",
       "      <td>NaT</td>\n",
       "      <td>NaN</td>\n",
       "    </tr>\n",
       "    <tr>\n",
       "      <th>15185</th>\n",
       "      <td>271107.0</td>\n",
       "      <td>2138-04-30</td>\n",
       "      <td>NaT</td>\n",
       "      <td>NaN</td>\n",
       "    </tr>\n",
       "    <tr>\n",
       "      <th>15186</th>\n",
       "      <td>298923.0</td>\n",
       "      <td>2155-07-28</td>\n",
       "      <td>2155-07-29 14:00:00</td>\n",
       "      <td>1.0</td>\n",
       "    </tr>\n",
       "    <tr>\n",
       "      <th>15187</th>\n",
       "      <td>288216.0</td>\n",
       "      <td>2183-01-09</td>\n",
       "      <td>NaT</td>\n",
       "      <td>NaN</td>\n",
       "    </tr>\n",
       "    <tr>\n",
       "      <th>15188</th>\n",
       "      <td>270500.0</td>\n",
       "      <td>2198-05-11</td>\n",
       "      <td>2198-05-11 11:00:00</td>\n",
       "      <td>1.0</td>\n",
       "    </tr>\n",
       "    <tr>\n",
       "      <th>15189</th>\n",
       "      <td>239891.0</td>\n",
       "      <td>2151-06-05</td>\n",
       "      <td>NaT</td>\n",
       "      <td>NaN</td>\n",
       "    </tr>\n",
       "    <tr>\n",
       "      <th>15190</th>\n",
       "      <td>257200.0</td>\n",
       "      <td>2168-12-05</td>\n",
       "      <td>NaT</td>\n",
       "      <td>NaN</td>\n",
       "    </tr>\n",
       "    <tr>\n",
       "      <th>15191</th>\n",
       "      <td>293249.0</td>\n",
       "      <td>2169-04-05</td>\n",
       "      <td>NaT</td>\n",
       "      <td>NaN</td>\n",
       "    </tr>\n",
       "    <tr>\n",
       "      <th>15192</th>\n",
       "      <td>286243.0</td>\n",
       "      <td>2146-01-17</td>\n",
       "      <td>NaT</td>\n",
       "      <td>NaN</td>\n",
       "    </tr>\n",
       "    <tr>\n",
       "      <th>15193</th>\n",
       "      <td>278806.0</td>\n",
       "      <td>2108-02-03</td>\n",
       "      <td>NaT</td>\n",
       "      <td>NaN</td>\n",
       "    </tr>\n",
       "    <tr>\n",
       "      <th>15194</th>\n",
       "      <td>266579.0</td>\n",
       "      <td>2149-08-19</td>\n",
       "      <td>NaT</td>\n",
       "      <td>NaN</td>\n",
       "    </tr>\n",
       "    <tr>\n",
       "      <th>15195</th>\n",
       "      <td>235223.0</td>\n",
       "      <td>2196-05-09</td>\n",
       "      <td>NaT</td>\n",
       "      <td>NaN</td>\n",
       "    </tr>\n",
       "    <tr>\n",
       "      <th>15196</th>\n",
       "      <td>247313.0</td>\n",
       "      <td>2199-01-30</td>\n",
       "      <td>NaT</td>\n",
       "      <td>NaN</td>\n",
       "    </tr>\n",
       "    <tr>\n",
       "      <th>15197</th>\n",
       "      <td>231926.0</td>\n",
       "      <td>2165-10-14</td>\n",
       "      <td>NaT</td>\n",
       "      <td>NaN</td>\n",
       "    </tr>\n",
       "    <tr>\n",
       "      <th>15198</th>\n",
       "      <td>211386.0</td>\n",
       "      <td>2184-05-23</td>\n",
       "      <td>NaT</td>\n",
       "      <td>NaN</td>\n",
       "    </tr>\n",
       "    <tr>\n",
       "      <th>15199</th>\n",
       "      <td>219792.0</td>\n",
       "      <td>2167-03-06</td>\n",
       "      <td>NaT</td>\n",
       "      <td>NaN</td>\n",
       "    </tr>\n",
       "    <tr>\n",
       "      <th>15200</th>\n",
       "      <td>210204.0</td>\n",
       "      <td>2163-03-18</td>\n",
       "      <td>NaT</td>\n",
       "      <td>NaN</td>\n",
       "    </tr>\n",
       "    <tr>\n",
       "      <th>15201</th>\n",
       "      <td>298751.0</td>\n",
       "      <td>2104-10-27</td>\n",
       "      <td>NaT</td>\n",
       "      <td>NaN</td>\n",
       "    </tr>\n",
       "    <tr>\n",
       "      <th>15202</th>\n",
       "      <td>272407.0</td>\n",
       "      <td>2139-04-19</td>\n",
       "      <td>NaT</td>\n",
       "      <td>NaN</td>\n",
       "    </tr>\n",
       "    <tr>\n",
       "      <th>15203</th>\n",
       "      <td>264035.0</td>\n",
       "      <td>2127-01-16</td>\n",
       "      <td>NaT</td>\n",
       "      <td>NaN</td>\n",
       "    </tr>\n",
       "    <tr>\n",
       "      <th>15204</th>\n",
       "      <td>209756.0</td>\n",
       "      <td>2192-12-06</td>\n",
       "      <td>2192-12-06 00:00:00</td>\n",
       "      <td>1.0</td>\n",
       "    </tr>\n",
       "    <tr>\n",
       "      <th>15205</th>\n",
       "      <td>263506.0</td>\n",
       "      <td>2149-11-22</td>\n",
       "      <td>NaT</td>\n",
       "      <td>NaN</td>\n",
       "    </tr>\n",
       "    <tr>\n",
       "      <th>15206</th>\n",
       "      <td>275774.0</td>\n",
       "      <td>2126-03-21</td>\n",
       "      <td>NaT</td>\n",
       "      <td>NaN</td>\n",
       "    </tr>\n",
       "  </tbody>\n",
       "</table>\n",
       "<p>15207 rows × 4 columns</p>\n",
       "</div>"
      ],
      "text/plain": [
       "       icustay_id         t_0     first_charttime  rrt\n",
       "0        267059.0  2182-11-12                 NaT  NaN\n",
       "1        278729.0  2159-11-08                 NaT  NaN\n",
       "2        219670.0  2190-08-01                 NaT  NaN\n",
       "3        295185.0  2154-11-11                 NaT  NaN\n",
       "4        211472.0  2193-12-11                 NaT  NaN\n",
       "5        259012.0  2120-05-24                 NaT  NaN\n",
       "6        231735.0  2186-04-13                 NaT  NaN\n",
       "7        252135.0  2166-04-13 2166-04-13 00:00:00  1.0\n",
       "8        293255.0  2167-10-21 2167-10-21 04:31:00  1.0\n",
       "9        261279.0  2167-10-26 2167-10-26 01:00:00  1.0\n",
       "10       274352.0  2132-07-28                 NaT  NaN\n",
       "11       273581.0  2182-02-03                 NaT  NaN\n",
       "12       290264.0  2187-03-02                 NaT  NaN\n",
       "13       226877.0  2181-10-13                 NaT  NaN\n",
       "14       233208.0  2151-10-05                 NaT  NaN\n",
       "15       299132.0  2168-10-21                 NaT  NaN\n",
       "16       230775.0  2143-03-10                 NaT  NaN\n",
       "17       294366.0  2119-09-29                 NaT  NaN\n",
       "18       221510.0  2126-06-14                 NaT  NaN\n",
       "19       237561.0  2107-01-22                 NaT  NaN\n",
       "20       251526.0  2129-12-20 2129-12-20 09:32:00  1.0\n",
       "21       262800.0  2136-10-04                 NaT  NaN\n",
       "22       242513.0  2176-04-22                 NaT  NaN\n",
       "23       277353.0  2111-12-12                 NaT  NaN\n",
       "24       294503.0  2169-05-26                 NaT  NaN\n",
       "25       286106.0  2166-12-24                 NaT  NaN\n",
       "26       273661.0  2186-05-04                 NaT  NaN\n",
       "27       205636.0  2144-06-08                 NaT  NaN\n",
       "28       299961.0  2108-10-07                 NaT  NaN\n",
       "29       226842.0  2189-06-23                 NaT  NaN\n",
       "...           ...         ...                 ...  ...\n",
       "15177    223816.0  2147-07-11                 NaT  NaN\n",
       "15178    275132.0  2175-03-08 2175-03-08 00:00:00  1.0\n",
       "15179    284258.0  2198-09-23                 NaT  NaN\n",
       "15180    275542.0  2108-06-16                 NaT  NaN\n",
       "15181    294453.0  2133-11-10                 NaT  NaN\n",
       "15182    214103.0  2101-05-12                 NaT  NaN\n",
       "15183    279108.0  2195-02-12                 NaT  NaN\n",
       "15184    236571.0  2151-08-20                 NaT  NaN\n",
       "15185    271107.0  2138-04-30                 NaT  NaN\n",
       "15186    298923.0  2155-07-28 2155-07-29 14:00:00  1.0\n",
       "15187    288216.0  2183-01-09                 NaT  NaN\n",
       "15188    270500.0  2198-05-11 2198-05-11 11:00:00  1.0\n",
       "15189    239891.0  2151-06-05                 NaT  NaN\n",
       "15190    257200.0  2168-12-05                 NaT  NaN\n",
       "15191    293249.0  2169-04-05                 NaT  NaN\n",
       "15192    286243.0  2146-01-17                 NaT  NaN\n",
       "15193    278806.0  2108-02-03                 NaT  NaN\n",
       "15194    266579.0  2149-08-19                 NaT  NaN\n",
       "15195    235223.0  2196-05-09                 NaT  NaN\n",
       "15196    247313.0  2199-01-30                 NaT  NaN\n",
       "15197    231926.0  2165-10-14                 NaT  NaN\n",
       "15198    211386.0  2184-05-23                 NaT  NaN\n",
       "15199    219792.0  2167-03-06                 NaT  NaN\n",
       "15200    210204.0  2163-03-18                 NaT  NaN\n",
       "15201    298751.0  2104-10-27                 NaT  NaN\n",
       "15202    272407.0  2139-04-19                 NaT  NaN\n",
       "15203    264035.0  2127-01-16                 NaT  NaN\n",
       "15204    209756.0  2192-12-06 2192-12-06 00:00:00  1.0\n",
       "15205    263506.0  2149-11-22                 NaT  NaN\n",
       "15206    275774.0  2126-03-21                 NaT  NaN\n",
       "\n",
       "[15207 rows x 4 columns]"
      ]
     },
     "execution_count": 212,
     "metadata": {},
     "output_type": "execute_result"
    },
    {
     "name": "stdout",
     "output_type": "stream",
     "text": [
      "time: 19.1 ms\n"
     ]
    }
   ],
   "source": [
    "#rrt_merged_allpt_df #n=1223 patients with positive rrt. charttime listed in this sheet is the first instance in t_0:t_72"
   ]
  },
  {
   "cell_type": "code",
   "execution_count": 213,
   "metadata": {},
   "outputs": [
    {
     "name": "stdout",
     "output_type": "stream",
     "text": [
      "time: 41 ms\n"
     ]
    }
   ],
   "source": [
    "date= '27082018'\n",
    "\n",
    "pd.DataFrame(rrt_merged_allpt_df).to_csv(\n",
    "    '/Users/geickelb1/Documents/GitHub/mimiciii-antibiotics-modeling/data/raw/csv/%s_rrt_merged_allpt_df.csv' %(date))"
   ]
  },
  {
   "cell_type": "markdown",
   "metadata": {},
   "source": [
    "## Urine Output"
   ]
  },
  {
   "cell_type": "code",
   "execution_count": 15,
   "metadata": {
    "scrolled": true
   },
   "outputs": [
    {
     "name": "stdout",
     "output_type": "stream",
     "text": [
      "(83815, 5)\n",
      "time: 12 s\n"
     ]
    }
   ],
   "source": [
    "urine_output_all_df= clinvar_fxn(\n",
    "    'urine_output_all',\n",
    "    '/Users/geickelb1/Documents/GitHub/mimiciii-antibiotics-modeling/data/raw/clinical_var_sql/all/urine_output_all.sql' \n",
    ")"
   ]
  },
  {
   "cell_type": "markdown",
   "metadata": {},
   "source": [
    "# UTI related variables"
   ]
  },
  {
   "cell_type": "code",
   "execution_count": 16,
   "metadata": {},
   "outputs": [
    {
     "name": "stdout",
     "output_type": "stream",
     "text": [
      "(749857, 12)\n",
      "time: 2min 39s\n"
     ]
    }
   ],
   "source": [
    "uti_all_df= clinvar_fxn(\n",
    "    'uti_all',\n",
    "    '/Users/geickelb1/Documents/GitHub/mimiciii-antibiotics-modeling/data/raw/clinical_var_sql/all/uti_all.sql' \n",
    ")"
   ]
  },
  {
   "cell_type": "markdown",
   "metadata": {},
   "source": [
    "## Blood Gas Test"
   ]
  },
  {
   "cell_type": "code",
   "execution_count": 6,
   "metadata": {},
   "outputs": [
    {
     "name": "stdout",
     "output_type": "stream",
     "text": [
      "time: 15.7 ms\n"
     ]
    }
   ],
   "source": [
    "def PaO2(bg_all_nosummary_df):\n",
    "    \"\"\"\n",
    "    overview: replaces the PO2 label with PaO2 on all instances (defined as sharing icustay_id and charttime being equal)\n",
    "        where the specimen label == 'ART'\n",
    "        \n",
    "    input: bloodgas dataframe with values annotated. \n",
    "    output: bloodgas dataframe with values annotated where PO2 label is replaced with PaO2 according to above criteria\n",
    "    \"\"\"\n",
    "    \n",
    "    #making a unique varaible to search for and mark all rows where time and icustay_id has an art flag\n",
    "    bg_all_nosummary_df['unique_var']= bg_all_nosummary_df['icustay_id'].map(str) +  bg_all_nosummary_df['charttime'].map(str)\n",
    "\n",
    "    #making subset dataframe for label == SPECIMEN \n",
    "    bg_all_nosummary_specimen= bg_all_nosummary_df.loc[bg_all_nosummary_df.loc[:,'label']=='SPECIMEN',:]\n",
    "    \n",
    "    #all ART related rows: unique_var for all rows where label== SPECIMEN\n",
    "    bg_all_nosummary_ART = bg_all_nosummary_specimen[bg_all_nosummary_specimen['value']=='ART'] \n",
    "    bg_all_nosummary_ART_list= list(bg_all_nosummary_ART['unique_var'].unique())\n",
    "\n",
    "    #two criteria needed to change the PO2 to PaO2 label.\n",
    "    criteria1=(bg_all_nosummary_df['label'] == 'PO2')\n",
    "    criteria2=(bg_all_nosummary_df['unique_var'].isin(bg_all_nosummary_ART_list))\n",
    "    \n",
    "    #making changes\n",
    "    bg_all_nosummary_df.loc[(criteria2 & criteria1),'label']= 'PaO2'\n",
    "    \n",
    "    return(bg_all_nosummary_df)"
   ]
  },
  {
   "cell_type": "code",
   "execution_count": 7,
   "metadata": {
    "collapsed": true
   },
   "outputs": [
    {
     "name": "stdout",
     "output_type": "stream",
     "text": [
      "(1884684, 8)\n",
      "time: 4min 39s\n"
     ]
    }
   ],
   "source": [
    "bg_all_nosummary_df= clinvar_fxn(\n",
    "    'bg_all_nosummary',\n",
    "    '/Users/geickelb1/Documents/GitHub/mimiciii-antibiotics-modeling/data/raw/clinical_var_sql/all/no_summary/bg_all_nosummary.sql' \n",
    ") \n",
    "bg_all_nosummary_df = PaO2(bg_all_nosummary_df)\n"
   ]
  },
  {
   "cell_type": "code",
   "execution_count": 11,
   "metadata": {},
   "outputs": [
    {
     "data": {
      "text/html": [
       "<div>\n",
       "<style scoped>\n",
       "    .dataframe tbody tr th:only-of-type {\n",
       "        vertical-align: middle;\n",
       "    }\n",
       "\n",
       "    .dataframe tbody tr th {\n",
       "        vertical-align: top;\n",
       "    }\n",
       "\n",
       "    .dataframe thead th {\n",
       "        text-align: right;\n",
       "    }\n",
       "</style>\n",
       "<table border=\"1\" class=\"dataframe\">\n",
       "  <thead>\n",
       "    <tr style=\"text-align: right;\">\n",
       "      <th></th>\n",
       "      <th>subject_id</th>\n",
       "      <th>hadm_id</th>\n",
       "      <th>icustay_id</th>\n",
       "      <th>charttime</th>\n",
       "      <th>label</th>\n",
       "      <th>valuenum</th>\n",
       "      <th>value</th>\n",
       "      <th>valueuom</th>\n",
       "      <th>unique_var</th>\n",
       "    </tr>\n",
       "  </thead>\n",
       "  <tbody>\n",
       "    <tr>\n",
       "      <th>607</th>\n",
       "      <td>9</td>\n",
       "      <td>150750</td>\n",
       "      <td>220597</td>\n",
       "      <td>2149-11-09 17:47:00</td>\n",
       "      <td>BASEEXCESS</td>\n",
       "      <td>1.0</td>\n",
       "      <td>1</td>\n",
       "      <td>mEq/L</td>\n",
       "      <td>2205972149-11-09 17:47:00</td>\n",
       "    </tr>\n",
       "    <tr>\n",
       "      <th>608</th>\n",
       "      <td>9</td>\n",
       "      <td>150750</td>\n",
       "      <td>220597</td>\n",
       "      <td>2149-11-09 17:47:00</td>\n",
       "      <td>CHLORIDE</td>\n",
       "      <td>103.0</td>\n",
       "      <td>103</td>\n",
       "      <td>mEq/L</td>\n",
       "      <td>2205972149-11-09 17:47:00</td>\n",
       "    </tr>\n",
       "    <tr>\n",
       "      <th>609</th>\n",
       "      <td>9</td>\n",
       "      <td>150750</td>\n",
       "      <td>220597</td>\n",
       "      <td>2149-11-09 17:47:00</td>\n",
       "      <td>FIO2</td>\n",
       "      <td>60.0</td>\n",
       "      <td>60</td>\n",
       "      <td>None</td>\n",
       "      <td>2205972149-11-09 17:47:00</td>\n",
       "    </tr>\n",
       "    <tr>\n",
       "      <th>610</th>\n",
       "      <td>9</td>\n",
       "      <td>150750</td>\n",
       "      <td>220597</td>\n",
       "      <td>2149-11-09 17:47:00</td>\n",
       "      <td>GLUCOSE</td>\n",
       "      <td>178.0</td>\n",
       "      <td>178</td>\n",
       "      <td>mg/dL</td>\n",
       "      <td>2205972149-11-09 17:47:00</td>\n",
       "    </tr>\n",
       "    <tr>\n",
       "      <th>611</th>\n",
       "      <td>9</td>\n",
       "      <td>150750</td>\n",
       "      <td>220597</td>\n",
       "      <td>2149-11-09 17:47:00</td>\n",
       "      <td>HEMATOCRIT</td>\n",
       "      <td>42.0</td>\n",
       "      <td>42</td>\n",
       "      <td>%</td>\n",
       "      <td>2205972149-11-09 17:47:00</td>\n",
       "    </tr>\n",
       "  </tbody>\n",
       "</table>\n",
       "</div>"
      ],
      "text/plain": [
       "     subject_id  hadm_id  icustay_id           charttime       label  \\\n",
       "607           9   150750      220597 2149-11-09 17:47:00  BASEEXCESS   \n",
       "608           9   150750      220597 2149-11-09 17:47:00    CHLORIDE   \n",
       "609           9   150750      220597 2149-11-09 17:47:00        FIO2   \n",
       "610           9   150750      220597 2149-11-09 17:47:00     GLUCOSE   \n",
       "611           9   150750      220597 2149-11-09 17:47:00  HEMATOCRIT   \n",
       "\n",
       "     valuenum value valueuom                 unique_var  \n",
       "607       1.0     1    mEq/L  2205972149-11-09 17:47:00  \n",
       "608     103.0   103    mEq/L  2205972149-11-09 17:47:00  \n",
       "609      60.0    60     None  2205972149-11-09 17:47:00  \n",
       "610     178.0   178    mg/dL  2205972149-11-09 17:47:00  \n",
       "611      42.0    42        %  2205972149-11-09 17:47:00  "
      ]
     },
     "execution_count": 11,
     "metadata": {},
     "output_type": "execute_result"
    },
    {
     "name": "stdout",
     "output_type": "stream",
     "text": [
      "time: 10.6 ms\n"
     ]
    }
   ],
   "source": [
    "bg_all_nosummary_df.head()"
   ]
  },
  {
   "cell_type": "markdown",
   "metadata": {},
   "source": [
    "## Vaso_active therapies"
   ]
  },
  {
   "cell_type": "code",
   "execution_count": 51,
   "metadata": {},
   "outputs": [
    {
     "name": "stdout",
     "output_type": "stream",
     "text": [
      "(52194, 4)\n",
      "(4726, 7)\n",
      "(50227, 7)\n",
      "(11306, 7)\n",
      "(3569, 7)\n",
      "(11012, 7)\n",
      "(37707, 7)\n",
      "time: 1min 31s\n"
     ]
    }
   ],
   "source": [
    "# 10/12/18 added amountuom as amount_uom, rateuom as rate_uom to many lines of the sql code.\n",
    "\n",
    "weightdurations_df= clinvar_fxn(\n",
    "    'weightdurations',\n",
    "    '/Users/geickelb1/Documents/GitHub/mimiciii-antibiotics-modeling/data/raw/clinical_var_sql/weightdurations.sql'\n",
    ")\n",
    "#\n",
    "epi_dose_df= clinvar_fxn(\n",
    "    'epinephrine_dose',\n",
    "    '/Users/geickelb1/Documents/GitHub/mimiciii-antibiotics-modeling/data/raw/clinical_var_sql/epinephrine_dose.sql'\n",
    ")\n",
    "#\n",
    "norepi_dose_df= clinvar_fxn(\n",
    "    'norepinephrine_dose',\n",
    "    '/Users/geickelb1/Documents/GitHub/mimiciii-antibiotics-modeling/data/raw/clinical_var_sql/norepinephrine_dose.sql'\n",
    ")\n",
    "#\n",
    "dopamine_dose_df= clinvar_fxn(\n",
    "    'dopamine_dose',\n",
    "    '/Users/geickelb1/Documents/GitHub/mimiciii-antibiotics-modeling/data/raw/clinical_var_sql/dopamine_dose.sql'\n",
    ")\n",
    "#\n",
    "dobutamine_dose_df= clinvar_fxn(\n",
    "    'dobutamine_dose',\n",
    "    '/Users/geickelb1/Documents/GitHub/mimiciii-antibiotics-modeling/data/raw/clinical_var_sql/dobutamine_dose.sql'\n",
    ")\n",
    "#\n",
    "vasopressin_dose_df= clinvar_fxn(\n",
    "    'vasopressin_dose',\n",
    "    '/Users/geickelb1/Documents/GitHub/mimiciii-antibiotics-modeling/data/raw/clinical_var_sql/vasopressin_dose.sql'\n",
    ")\n",
    "\n",
    "#removing units/hour, as these are not appropriate\n",
    "vasopressin_dose_df= vasopressin_dose_df.loc[~vasopressin_dose_df.loc[:,'rate_uom'].isin(['Uhr','units/hour']),:]\n",
    "#\n",
    "phenylephrine_dose_df= clinvar_fxn(\n",
    "    'phenylephrine_dose',\n",
    "    '/Users/geickelb1/Documents/GitHub/mimiciii-antibiotics-modeling/data/raw/clinical_var_sql/phenylephrine_dose.sql'\n",
    ")"
   ]
  },
  {
   "cell_type": "markdown",
   "metadata": {},
   "source": [
    "### uom testing"
   ]
  },
  {
   "cell_type": "code",
   "execution_count": 52,
   "metadata": {},
   "outputs": [
    {
     "data": {
      "text/html": [
       "<div>\n",
       "<style scoped>\n",
       "    .dataframe tbody tr th:only-of-type {\n",
       "        vertical-align: middle;\n",
       "    }\n",
       "\n",
       "    .dataframe tbody tr th {\n",
       "        vertical-align: top;\n",
       "    }\n",
       "\n",
       "    .dataframe thead th {\n",
       "        text-align: right;\n",
       "    }\n",
       "</style>\n",
       "<table border=\"1\" class=\"dataframe\">\n",
       "  <thead>\n",
       "    <tr style=\"text-align: right;\">\n",
       "      <th></th>\n",
       "      <th>icustay_id</th>\n",
       "      <th>starttime</th>\n",
       "      <th>endtime</th>\n",
       "      <th>vaso_rate</th>\n",
       "      <th>vaso_amount</th>\n",
       "      <th>amount_uom</th>\n",
       "      <th>rate_uom</th>\n",
       "    </tr>\n",
       "  </thead>\n",
       "  <tbody>\n",
       "    <tr>\n",
       "      <th>36</th>\n",
       "      <td>200116</td>\n",
       "      <td>2198-03-20 00:48:00</td>\n",
       "      <td>2198-03-20 09:01:00</td>\n",
       "      <td>7.005200</td>\n",
       "      <td>356.813038</td>\n",
       "      <td>mg</td>\n",
       "      <td>mcg/kg/min</td>\n",
       "    </tr>\n",
       "    <tr>\n",
       "      <th>54</th>\n",
       "      <td>200199</td>\n",
       "      <td>2186-05-28 02:20:00</td>\n",
       "      <td>2186-05-28 02:42:00</td>\n",
       "      <td>11.594203</td>\n",
       "      <td>NaN</td>\n",
       "      <td>None</td>\n",
       "      <td>mcgkgmin</td>\n",
       "    </tr>\n",
       "    <tr>\n",
       "      <th>55</th>\n",
       "      <td>200199</td>\n",
       "      <td>2186-05-28 02:42:00</td>\n",
       "      <td>2186-05-28 03:00:00</td>\n",
       "      <td>2.898551</td>\n",
       "      <td>NaN</td>\n",
       "      <td>None</td>\n",
       "      <td>mcgkgmin</td>\n",
       "    </tr>\n",
       "    <tr>\n",
       "      <th>56</th>\n",
       "      <td>200199</td>\n",
       "      <td>2186-05-28 03:05:00</td>\n",
       "      <td>2186-05-28 03:20:00</td>\n",
       "      <td>5.797101</td>\n",
       "      <td>NaN</td>\n",
       "      <td>None</td>\n",
       "      <td>mcgkgmin</td>\n",
       "    </tr>\n",
       "    <tr>\n",
       "      <th>57</th>\n",
       "      <td>200199</td>\n",
       "      <td>2186-05-28 03:20:00</td>\n",
       "      <td>2186-05-28 04:00:00</td>\n",
       "      <td>2.898551</td>\n",
       "      <td>NaN</td>\n",
       "      <td>None</td>\n",
       "      <td>mcgkgmin</td>\n",
       "    </tr>\n",
       "  </tbody>\n",
       "</table>\n",
       "</div>"
      ],
      "text/plain": [
       "    icustay_id           starttime             endtime  vaso_rate  \\\n",
       "36      200116 2198-03-20 00:48:00 2198-03-20 09:01:00   7.005200   \n",
       "54      200199 2186-05-28 02:20:00 2186-05-28 02:42:00  11.594203   \n",
       "55      200199 2186-05-28 02:42:00 2186-05-28 03:00:00   2.898551   \n",
       "56      200199 2186-05-28 03:05:00 2186-05-28 03:20:00   5.797101   \n",
       "57      200199 2186-05-28 03:20:00 2186-05-28 04:00:00   2.898551   \n",
       "\n",
       "    vaso_amount amount_uom    rate_uom  \n",
       "36   356.813038         mg  mcg/kg/min  \n",
       "54          NaN       None    mcgkgmin  \n",
       "55          NaN       None    mcgkgmin  \n",
       "56          NaN       None    mcgkgmin  \n",
       "57          NaN       None    mcgkgmin  "
      ]
     },
     "execution_count": 52,
     "metadata": {},
     "output_type": "execute_result"
    },
    {
     "name": "stdout",
     "output_type": "stream",
     "text": [
      "time: 10.2 ms\n"
     ]
    }
   ],
   "source": [
    "dopamine_dose_df.head()"
   ]
  },
  {
   "cell_type": "code",
   "execution_count": null,
   "metadata": {},
   "outputs": [],
   "source": [
    "dopamine_dose_df['rate_uom'].value_counts()"
   ]
  },
  {
   "cell_type": "code",
   "execution_count": 56,
   "metadata": {},
   "outputs": [
    {
     "data": {
      "text/html": [
       "<div>\n",
       "<style scoped>\n",
       "    .dataframe tbody tr th:only-of-type {\n",
       "        vertical-align: middle;\n",
       "    }\n",
       "\n",
       "    .dataframe tbody tr th {\n",
       "        vertical-align: top;\n",
       "    }\n",
       "\n",
       "    .dataframe thead th {\n",
       "        text-align: right;\n",
       "    }\n",
       "</style>\n",
       "<table border=\"1\" class=\"dataframe\">\n",
       "  <thead>\n",
       "    <tr style=\"text-align: right;\">\n",
       "      <th></th>\n",
       "      <th>icustay_id</th>\n",
       "      <th>starttime</th>\n",
       "      <th>endtime</th>\n",
       "      <th>vaso_rate</th>\n",
       "      <th>vaso_amount</th>\n",
       "      <th>amount_uom</th>\n",
       "      <th>rate_uom</th>\n",
       "    </tr>\n",
       "  </thead>\n",
       "  <tbody>\n",
       "    <tr>\n",
       "      <th>4</th>\n",
       "      <td>200030.0</td>\n",
       "      <td>2150-11-13 15:00:00</td>\n",
       "      <td>2150-11-13 16:00:00</td>\n",
       "      <td>0.08</td>\n",
       "      <td>NaN</td>\n",
       "      <td>None</td>\n",
       "      <td>mcgkgmin</td>\n",
       "    </tr>\n",
       "    <tr>\n",
       "      <th>5</th>\n",
       "      <td>200030.0</td>\n",
       "      <td>2150-11-13 19:30:00</td>\n",
       "      <td>2150-11-13 20:00:00</td>\n",
       "      <td>0.08</td>\n",
       "      <td>NaN</td>\n",
       "      <td>None</td>\n",
       "      <td>mcgkgmin</td>\n",
       "    </tr>\n",
       "    <tr>\n",
       "      <th>6</th>\n",
       "      <td>200030.0</td>\n",
       "      <td>2150-11-13 21:30:00</td>\n",
       "      <td>2150-11-13 22:00:00</td>\n",
       "      <td>0.05</td>\n",
       "      <td>NaN</td>\n",
       "      <td>None</td>\n",
       "      <td>mcgkgmin</td>\n",
       "    </tr>\n",
       "    <tr>\n",
       "      <th>7</th>\n",
       "      <td>200059.0</td>\n",
       "      <td>2198-02-11 00:55:00</td>\n",
       "      <td>2198-02-11 01:00:00</td>\n",
       "      <td>0.05</td>\n",
       "      <td>NaN</td>\n",
       "      <td>None</td>\n",
       "      <td>mcgkgmin</td>\n",
       "    </tr>\n",
       "    <tr>\n",
       "      <th>8</th>\n",
       "      <td>200059.0</td>\n",
       "      <td>2198-02-11 01:30:00</td>\n",
       "      <td>2198-02-11 01:35:00</td>\n",
       "      <td>0.20</td>\n",
       "      <td>NaN</td>\n",
       "      <td>None</td>\n",
       "      <td>mcgkgmin</td>\n",
       "    </tr>\n",
       "  </tbody>\n",
       "</table>\n",
       "</div>"
      ],
      "text/plain": [
       "   icustay_id           starttime             endtime  vaso_rate  vaso_amount  \\\n",
       "4    200030.0 2150-11-13 15:00:00 2150-11-13 16:00:00       0.08          NaN   \n",
       "5    200030.0 2150-11-13 19:30:00 2150-11-13 20:00:00       0.08          NaN   \n",
       "6    200030.0 2150-11-13 21:30:00 2150-11-13 22:00:00       0.05          NaN   \n",
       "7    200059.0 2198-02-11 00:55:00 2198-02-11 01:00:00       0.05          NaN   \n",
       "8    200059.0 2198-02-11 01:30:00 2198-02-11 01:35:00       0.20          NaN   \n",
       "\n",
       "  amount_uom  rate_uom  \n",
       "4       None  mcgkgmin  \n",
       "5       None  mcgkgmin  \n",
       "6       None  mcgkgmin  \n",
       "7       None  mcgkgmin  \n",
       "8       None  mcgkgmin  "
      ]
     },
     "execution_count": 56,
     "metadata": {},
     "output_type": "execute_result"
    },
    {
     "name": "stdout",
     "output_type": "stream",
     "text": [
      "time: 10 ms\n"
     ]
    }
   ],
   "source": [
    "norepi_dose_df.head()"
   ]
  },
  {
   "cell_type": "code",
   "execution_count": 57,
   "metadata": {},
   "outputs": [
    {
     "data": {
      "text/plain": [
       "mcgkgmin      41849\n",
       "mcg/kg/min     8378\n",
       "Name: rate_uom, dtype: int64"
      ]
     },
     "execution_count": 57,
     "metadata": {},
     "output_type": "execute_result"
    },
    {
     "name": "stdout",
     "output_type": "stream",
     "text": [
      "time: 12.9 ms\n"
     ]
    }
   ],
   "source": [
    "norepi_dose_df['rate_uom'].value_counts()"
   ]
  },
  {
   "cell_type": "code",
   "execution_count": null,
   "metadata": {},
   "outputs": [],
   "source": []
  },
  {
   "cell_type": "code",
   "execution_count": 55,
   "metadata": {},
   "outputs": [
    {
     "data": {
      "text/html": [
       "<div>\n",
       "<style scoped>\n",
       "    .dataframe tbody tr th:only-of-type {\n",
       "        vertical-align: middle;\n",
       "    }\n",
       "\n",
       "    .dataframe tbody tr th {\n",
       "        vertical-align: top;\n",
       "    }\n",
       "\n",
       "    .dataframe thead th {\n",
       "        text-align: right;\n",
       "    }\n",
       "</style>\n",
       "<table border=\"1\" class=\"dataframe\">\n",
       "  <thead>\n",
       "    <tr style=\"text-align: right;\">\n",
       "      <th></th>\n",
       "      <th>icustay_id</th>\n",
       "      <th>starttime</th>\n",
       "      <th>endtime</th>\n",
       "      <th>vaso_rate</th>\n",
       "      <th>vaso_amount</th>\n",
       "      <th>amount_uom</th>\n",
       "      <th>rate_uom</th>\n",
       "    </tr>\n",
       "  </thead>\n",
       "  <tbody>\n",
       "    <tr>\n",
       "      <th>0</th>\n",
       "      <td>200030</td>\n",
       "      <td>2150-11-13 19:30:00</td>\n",
       "      <td>2150-11-13 20:00:00</td>\n",
       "      <td>8.0</td>\n",
       "      <td>NaN</td>\n",
       "      <td>None</td>\n",
       "      <td>mcgkgmin</td>\n",
       "    </tr>\n",
       "    <tr>\n",
       "      <th>1</th>\n",
       "      <td>200030</td>\n",
       "      <td>2150-11-13 21:30:00</td>\n",
       "      <td>2150-11-14 00:00:00</td>\n",
       "      <td>5.0</td>\n",
       "      <td>NaN</td>\n",
       "      <td>None</td>\n",
       "      <td>mcgkgmin</td>\n",
       "    </tr>\n",
       "    <tr>\n",
       "      <th>2</th>\n",
       "      <td>200030</td>\n",
       "      <td>2150-11-14 02:00:00</td>\n",
       "      <td>2150-11-14 03:00:00</td>\n",
       "      <td>5.0</td>\n",
       "      <td>NaN</td>\n",
       "      <td>None</td>\n",
       "      <td>mcgkgmin</td>\n",
       "    </tr>\n",
       "    <tr>\n",
       "      <th>3</th>\n",
       "      <td>200030</td>\n",
       "      <td>2150-11-14 05:00:00</td>\n",
       "      <td>2150-11-14 08:00:00</td>\n",
       "      <td>5.0</td>\n",
       "      <td>NaN</td>\n",
       "      <td>None</td>\n",
       "      <td>mcgkgmin</td>\n",
       "    </tr>\n",
       "    <tr>\n",
       "      <th>4</th>\n",
       "      <td>200030</td>\n",
       "      <td>2150-11-14 11:00:00</td>\n",
       "      <td>2150-11-14 12:00:00</td>\n",
       "      <td>5.0</td>\n",
       "      <td>NaN</td>\n",
       "      <td>None</td>\n",
       "      <td>mcgkgmin</td>\n",
       "    </tr>\n",
       "  </tbody>\n",
       "</table>\n",
       "</div>"
      ],
      "text/plain": [
       "   icustay_id           starttime             endtime  vaso_rate  vaso_amount  \\\n",
       "0      200030 2150-11-13 19:30:00 2150-11-13 20:00:00        8.0          NaN   \n",
       "1      200030 2150-11-13 21:30:00 2150-11-14 00:00:00        5.0          NaN   \n",
       "2      200030 2150-11-14 02:00:00 2150-11-14 03:00:00        5.0          NaN   \n",
       "3      200030 2150-11-14 05:00:00 2150-11-14 08:00:00        5.0          NaN   \n",
       "4      200030 2150-11-14 11:00:00 2150-11-14 12:00:00        5.0          NaN   \n",
       "\n",
       "  amount_uom  rate_uom  \n",
       "0       None  mcgkgmin  \n",
       "1       None  mcgkgmin  \n",
       "2       None  mcgkgmin  \n",
       "3       None  mcgkgmin  \n",
       "4       None  mcgkgmin  "
      ]
     },
     "execution_count": 55,
     "metadata": {},
     "output_type": "execute_result"
    },
    {
     "name": "stdout",
     "output_type": "stream",
     "text": [
      "time: 10.8 ms\n"
     ]
    }
   ],
   "source": [
    "dobutamine_dose_df.head()"
   ]
  },
  {
   "cell_type": "code",
   "execution_count": 58,
   "metadata": {},
   "outputs": [
    {
     "data": {
      "text/plain": [
       "mcgkgmin      3210\n",
       "mcg/kg/min     359\n",
       "Name: rate_uom, dtype: int64"
      ]
     },
     "execution_count": 58,
     "metadata": {},
     "output_type": "execute_result"
    },
    {
     "name": "stdout",
     "output_type": "stream",
     "text": [
      "time: 4.64 ms\n"
     ]
    }
   ],
   "source": [
    "dobutamine_dose_df['rate_uom'].value_counts()"
   ]
  },
  {
   "cell_type": "code",
   "execution_count": null,
   "metadata": {},
   "outputs": [],
   "source": []
  },
  {
   "cell_type": "code",
   "execution_count": 54,
   "metadata": {},
   "outputs": [
    {
     "data": {
      "text/html": [
       "<div>\n",
       "<style scoped>\n",
       "    .dataframe tbody tr th:only-of-type {\n",
       "        vertical-align: middle;\n",
       "    }\n",
       "\n",
       "    .dataframe tbody tr th {\n",
       "        vertical-align: top;\n",
       "    }\n",
       "\n",
       "    .dataframe thead th {\n",
       "        text-align: right;\n",
       "    }\n",
       "</style>\n",
       "<table border=\"1\" class=\"dataframe\">\n",
       "  <thead>\n",
       "    <tr style=\"text-align: right;\">\n",
       "      <th></th>\n",
       "      <th>icustay_id</th>\n",
       "      <th>starttime</th>\n",
       "      <th>endtime</th>\n",
       "      <th>vaso_rate</th>\n",
       "      <th>vaso_amount</th>\n",
       "      <th>amount_uom</th>\n",
       "      <th>rate_uom</th>\n",
       "    </tr>\n",
       "  </thead>\n",
       "  <tbody>\n",
       "    <tr>\n",
       "      <th>3</th>\n",
       "      <td>200063.0</td>\n",
       "      <td>2141-03-21 16:30:00</td>\n",
       "      <td>2141-03-23 06:22:00</td>\n",
       "      <td>2.40</td>\n",
       "      <td>81.399998</td>\n",
       "      <td>units</td>\n",
       "      <td>units/hour</td>\n",
       "    </tr>\n",
       "    <tr>\n",
       "      <th>4</th>\n",
       "      <td>200065.0</td>\n",
       "      <td>2120-03-23 09:00:00</td>\n",
       "      <td>2120-03-23 10:00:00</td>\n",
       "      <td>0.04</td>\n",
       "      <td>NaN</td>\n",
       "      <td>None</td>\n",
       "      <td>Umin</td>\n",
       "    </tr>\n",
       "    <tr>\n",
       "      <th>5</th>\n",
       "      <td>200065.0</td>\n",
       "      <td>2120-03-23 13:30:00</td>\n",
       "      <td>2120-03-23 14:00:00</td>\n",
       "      <td>0.04</td>\n",
       "      <td>NaN</td>\n",
       "      <td>None</td>\n",
       "      <td>Umin</td>\n",
       "    </tr>\n",
       "    <tr>\n",
       "      <th>6</th>\n",
       "      <td>200065.0</td>\n",
       "      <td>2120-03-23 14:30:00</td>\n",
       "      <td>2120-03-23 15:00:00</td>\n",
       "      <td>0.04</td>\n",
       "      <td>NaN</td>\n",
       "      <td>None</td>\n",
       "      <td>Umin</td>\n",
       "    </tr>\n",
       "    <tr>\n",
       "      <th>7</th>\n",
       "      <td>200065.0</td>\n",
       "      <td>2120-03-23 15:30:00</td>\n",
       "      <td>2120-03-23 16:00:00</td>\n",
       "      <td>0.04</td>\n",
       "      <td>NaN</td>\n",
       "      <td>None</td>\n",
       "      <td>Umin</td>\n",
       "    </tr>\n",
       "  </tbody>\n",
       "</table>\n",
       "</div>"
      ],
      "text/plain": [
       "   icustay_id           starttime             endtime  vaso_rate  vaso_amount  \\\n",
       "3    200063.0 2141-03-21 16:30:00 2141-03-23 06:22:00       2.40    81.399998   \n",
       "4    200065.0 2120-03-23 09:00:00 2120-03-23 10:00:00       0.04          NaN   \n",
       "5    200065.0 2120-03-23 13:30:00 2120-03-23 14:00:00       0.04          NaN   \n",
       "6    200065.0 2120-03-23 14:30:00 2120-03-23 15:00:00       0.04          NaN   \n",
       "7    200065.0 2120-03-23 15:30:00 2120-03-23 16:00:00       0.04          NaN   \n",
       "\n",
       "  amount_uom    rate_uom  \n",
       "3      units  units/hour  \n",
       "4       None        Umin  \n",
       "5       None        Umin  \n",
       "6       None        Umin  \n",
       "7       None        Umin  "
      ]
     },
     "execution_count": 54,
     "metadata": {},
     "output_type": "execute_result"
    },
    {
     "name": "stdout",
     "output_type": "stream",
     "text": [
      "time: 9.87 ms\n"
     ]
    }
   ],
   "source": [
    "vasopressin_dose_df.head()"
   ]
  },
  {
   "cell_type": "code",
   "execution_count": 62,
   "metadata": {},
   "outputs": [
    {
     "data": {
      "text/plain": [
       "Umin          9325\n",
       "units/hour    1249\n",
       "Uhr            438\n",
       "Name: rate_uom, dtype: int64"
      ]
     },
     "execution_count": 62,
     "metadata": {},
     "output_type": "execute_result"
    },
    {
     "name": "stdout",
     "output_type": "stream",
     "text": [
      "time: 9.68 ms\n"
     ]
    }
   ],
   "source": [
    "vasopressin_dose_df['rate_uom'].value_counts()"
   ]
  },
  {
   "cell_type": "code",
   "execution_count": null,
   "metadata": {},
   "outputs": [],
   "source": [
    "# #removing units/hour, as these are not appropriate\n",
    "# vasopressin_dose_df= vasopressin_dose_df.loc[~vasopressin_dose_df.loc[:,'rate_uom'].isin(['Uhr','units/hour']),:]"
   ]
  },
  {
   "cell_type": "code",
   "execution_count": 61,
   "metadata": {},
   "outputs": [
    {
     "data": {
      "text/plain": [
       "mcgkgmin      30364\n",
       "mcg/kg/min     7343\n",
       "Name: rate_uom, dtype: int64"
      ]
     },
     "execution_count": 61,
     "metadata": {},
     "output_type": "execute_result"
    },
    {
     "name": "stdout",
     "output_type": "stream",
     "text": [
      "time: 14.9 ms\n"
     ]
    }
   ],
   "source": [
    "phenylephrine_dose_df['rate_uom'].value_counts()"
   ]
  },
  {
   "cell_type": "code",
   "execution_count": 18,
   "metadata": {},
   "outputs": [
    {
     "data": {
      "text/plain": [
       "mcgkgmin      11344\n",
       "mcg/kg/min     1324\n",
       "Name: rate_uom, dtype: int64"
      ]
     },
     "execution_count": 18,
     "metadata": {},
     "output_type": "execute_result"
    },
    {
     "name": "stdout",
     "output_type": "stream",
     "text": [
      "time: 5.11 ms\n"
     ]
    }
   ],
   "source": [
    "#dopamine_dose_df['amount_uom'].value_counts()\n",
    "dopamine_dose_df['rate_uom'].value_counts()"
   ]
  },
  {
   "cell_type": "code",
   "execution_count": 46,
   "metadata": {},
   "outputs": [
    {
     "data": {
      "text/html": [
       "<div>\n",
       "<style scoped>\n",
       "    .dataframe tbody tr th:only-of-type {\n",
       "        vertical-align: middle;\n",
       "    }\n",
       "\n",
       "    .dataframe tbody tr th {\n",
       "        vertical-align: top;\n",
       "    }\n",
       "\n",
       "    .dataframe thead th {\n",
       "        text-align: right;\n",
       "    }\n",
       "</style>\n",
       "<table border=\"1\" class=\"dataframe\">\n",
       "  <thead>\n",
       "    <tr style=\"text-align: right;\">\n",
       "      <th></th>\n",
       "      <th>icustay_id</th>\n",
       "      <th>starttime</th>\n",
       "      <th>endtime</th>\n",
       "      <th>vaso_rate</th>\n",
       "      <th>vaso_amount</th>\n",
       "      <th>amount_uom</th>\n",
       "      <th>rate_uom</th>\n",
       "    </tr>\n",
       "  </thead>\n",
       "  <tbody>\n",
       "    <tr>\n",
       "      <th>1</th>\n",
       "      <td>200290.0</td>\n",
       "      <td>2102-12-24 19:01:00</td>\n",
       "      <td>2102-12-25 02:53:00</td>\n",
       "      <td>0.040000</td>\n",
       "      <td>1.408524</td>\n",
       "      <td>mg</td>\n",
       "      <td>mcg/kg/min</td>\n",
       "    </tr>\n",
       "    <tr>\n",
       "      <th>12</th>\n",
       "      <td>200349.0</td>\n",
       "      <td>2139-06-01 19:35:00</td>\n",
       "      <td>2139-06-02 16:31:00</td>\n",
       "      <td>0.035013</td>\n",
       "      <td>1.998524</td>\n",
       "      <td>mg</td>\n",
       "      <td>mcg/kg/min</td>\n",
       "    </tr>\n",
       "    <tr>\n",
       "      <th>13</th>\n",
       "      <td>200349.0</td>\n",
       "      <td>2139-06-02 16:31:00</td>\n",
       "      <td>2139-06-02 18:10:00</td>\n",
       "      <td>0.012030</td>\n",
       "      <td>0.073958</td>\n",
       "      <td>mg</td>\n",
       "      <td>mcg/kg/min</td>\n",
       "    </tr>\n",
       "    <tr>\n",
       "      <th>34</th>\n",
       "      <td>200719.0</td>\n",
       "      <td>2192-04-24 19:30:00</td>\n",
       "      <td>2192-04-24 20:00:00</td>\n",
       "      <td>0.020000</td>\n",
       "      <td>NaN</td>\n",
       "      <td>None</td>\n",
       "      <td>mcgkgmin</td>\n",
       "    </tr>\n",
       "    <tr>\n",
       "      <th>35</th>\n",
       "      <td>200719.0</td>\n",
       "      <td>2192-04-24 20:05:00</td>\n",
       "      <td>2192-04-24 21:00:00</td>\n",
       "      <td>0.020000</td>\n",
       "      <td>NaN</td>\n",
       "      <td>None</td>\n",
       "      <td>mcgkgmin</td>\n",
       "    </tr>\n",
       "  </tbody>\n",
       "</table>\n",
       "</div>"
      ],
      "text/plain": [
       "    icustay_id           starttime             endtime  vaso_rate  \\\n",
       "1     200290.0 2102-12-24 19:01:00 2102-12-25 02:53:00   0.040000   \n",
       "12    200349.0 2139-06-01 19:35:00 2139-06-02 16:31:00   0.035013   \n",
       "13    200349.0 2139-06-02 16:31:00 2139-06-02 18:10:00   0.012030   \n",
       "34    200719.0 2192-04-24 19:30:00 2192-04-24 20:00:00   0.020000   \n",
       "35    200719.0 2192-04-24 20:05:00 2192-04-24 21:00:00   0.020000   \n",
       "\n",
       "    vaso_amount amount_uom    rate_uom  \n",
       "1      1.408524         mg  mcg/kg/min  \n",
       "12     1.998524         mg  mcg/kg/min  \n",
       "13     0.073958         mg  mcg/kg/min  \n",
       "34          NaN       None    mcgkgmin  \n",
       "35          NaN       None    mcgkgmin  "
      ]
     },
     "execution_count": 46,
     "metadata": {},
     "output_type": "execute_result"
    },
    {
     "name": "stdout",
     "output_type": "stream",
     "text": [
      "time: 16.4 ms\n"
     ]
    }
   ],
   "source": [
    "epi_dose_df.head()"
   ]
  },
  {
   "cell_type": "code",
   "execution_count": 47,
   "metadata": {},
   "outputs": [
    {
     "data": {
      "text/plain": [
       "mcgkgmin      4082\n",
       "mcg/kg/min     644\n",
       "Name: rate_uom, dtype: int64"
      ]
     },
     "execution_count": 47,
     "metadata": {},
     "output_type": "execute_result"
    },
    {
     "name": "stdout",
     "output_type": "stream",
     "text": [
      "time: 14.7 ms\n"
     ]
    }
   ],
   "source": [
    "epi_dose_df['rate_uom'].value_counts()"
   ]
  },
  {
   "cell_type": "code",
   "execution_count": 63,
   "metadata": {},
   "outputs": [
    {
     "name": "stdout",
     "output_type": "stream",
     "text": [
      "time: 632 ms\n"
     ]
    }
   ],
   "source": [
    "#adding an identification label column and merging them into 1 df. \n",
    "epi_dose_df['label']='epinephrine'\n",
    "norepi_dose_df['label']='norepinephrine'\n",
    "dopamine_dose_df['label']='dopamine'\n",
    "dobutamine_dose_df['label']='dobutamine'\n",
    "vasopressin_dose_df['label']='vasopressin'\n",
    "phenylephrine_dose_df['label']='phenylephrine'\n",
    "vaso_dose_df = pd.concat([epi_dose_df, norepi_dose_df, dopamine_dose_df, dobutamine_dose_df, vasopressin_dose_df,phenylephrine_dose_df ])\n",
    "\n",
    "#removing u/hour"
   ]
  },
  {
   "cell_type": "code",
   "execution_count": 64,
   "metadata": {},
   "outputs": [
    {
     "data": {
      "text/html": [
       "<div>\n",
       "<style scoped>\n",
       "    .dataframe tbody tr th:only-of-type {\n",
       "        vertical-align: middle;\n",
       "    }\n",
       "\n",
       "    .dataframe tbody tr th {\n",
       "        vertical-align: top;\n",
       "    }\n",
       "\n",
       "    .dataframe thead th {\n",
       "        text-align: right;\n",
       "    }\n",
       "</style>\n",
       "<table border=\"1\" class=\"dataframe\">\n",
       "  <thead>\n",
       "    <tr style=\"text-align: right;\">\n",
       "      <th></th>\n",
       "      <th>icustay_id</th>\n",
       "      <th>starttime</th>\n",
       "      <th>endtime</th>\n",
       "      <th>vaso_rate</th>\n",
       "      <th>vaso_amount</th>\n",
       "      <th>amount_uom</th>\n",
       "      <th>rate_uom</th>\n",
       "      <th>label</th>\n",
       "    </tr>\n",
       "  </thead>\n",
       "  <tbody>\n",
       "    <tr>\n",
       "      <th>1</th>\n",
       "      <td>200290.0</td>\n",
       "      <td>2102-12-24 19:01:00</td>\n",
       "      <td>2102-12-25 02:53:00</td>\n",
       "      <td>0.040000</td>\n",
       "      <td>1.408524</td>\n",
       "      <td>mg</td>\n",
       "      <td>mcg/kg/min</td>\n",
       "      <td>epinephrine</td>\n",
       "    </tr>\n",
       "    <tr>\n",
       "      <th>12</th>\n",
       "      <td>200349.0</td>\n",
       "      <td>2139-06-01 19:35:00</td>\n",
       "      <td>2139-06-02 16:31:00</td>\n",
       "      <td>0.035013</td>\n",
       "      <td>1.998524</td>\n",
       "      <td>mg</td>\n",
       "      <td>mcg/kg/min</td>\n",
       "      <td>epinephrine</td>\n",
       "    </tr>\n",
       "    <tr>\n",
       "      <th>13</th>\n",
       "      <td>200349.0</td>\n",
       "      <td>2139-06-02 16:31:00</td>\n",
       "      <td>2139-06-02 18:10:00</td>\n",
       "      <td>0.012030</td>\n",
       "      <td>0.073958</td>\n",
       "      <td>mg</td>\n",
       "      <td>mcg/kg/min</td>\n",
       "      <td>epinephrine</td>\n",
       "    </tr>\n",
       "    <tr>\n",
       "      <th>34</th>\n",
       "      <td>200719.0</td>\n",
       "      <td>2192-04-24 19:30:00</td>\n",
       "      <td>2192-04-24 20:00:00</td>\n",
       "      <td>0.020000</td>\n",
       "      <td>NaN</td>\n",
       "      <td>None</td>\n",
       "      <td>mcgkgmin</td>\n",
       "      <td>epinephrine</td>\n",
       "    </tr>\n",
       "    <tr>\n",
       "      <th>35</th>\n",
       "      <td>200719.0</td>\n",
       "      <td>2192-04-24 20:05:00</td>\n",
       "      <td>2192-04-24 21:00:00</td>\n",
       "      <td>0.020000</td>\n",
       "      <td>NaN</td>\n",
       "      <td>None</td>\n",
       "      <td>mcgkgmin</td>\n",
       "      <td>epinephrine</td>\n",
       "    </tr>\n",
       "  </tbody>\n",
       "</table>\n",
       "</div>"
      ],
      "text/plain": [
       "    icustay_id           starttime             endtime  vaso_rate  \\\n",
       "1     200290.0 2102-12-24 19:01:00 2102-12-25 02:53:00   0.040000   \n",
       "12    200349.0 2139-06-01 19:35:00 2139-06-02 16:31:00   0.035013   \n",
       "13    200349.0 2139-06-02 16:31:00 2139-06-02 18:10:00   0.012030   \n",
       "34    200719.0 2192-04-24 19:30:00 2192-04-24 20:00:00   0.020000   \n",
       "35    200719.0 2192-04-24 20:05:00 2192-04-24 21:00:00   0.020000   \n",
       "\n",
       "    vaso_amount amount_uom    rate_uom        label  \n",
       "1      1.408524         mg  mcg/kg/min  epinephrine  \n",
       "12     1.998524         mg  mcg/kg/min  epinephrine  \n",
       "13     0.073958         mg  mcg/kg/min  epinephrine  \n",
       "34          NaN       None    mcgkgmin  epinephrine  \n",
       "35          NaN       None    mcgkgmin  epinephrine  "
      ]
     },
     "execution_count": 64,
     "metadata": {},
     "output_type": "execute_result"
    },
    {
     "name": "stdout",
     "output_type": "stream",
     "text": [
      "time: 12.1 ms\n"
     ]
    }
   ],
   "source": [
    "vaso_dose_df.head()"
   ]
  },
  {
   "cell_type": "code",
   "execution_count": null,
   "metadata": {},
   "outputs": [],
   "source": []
  },
  {
   "cell_type": "markdown",
   "metadata": {},
   "source": [
    "# ventilator settings and categorization"
   ]
  },
  {
   "cell_type": "code",
   "execution_count": 21,
   "metadata": {},
   "outputs": [
    {
     "name": "stdout",
     "output_type": "stream",
     "text": [
      "(786605, 6)\n",
      "time: 3min 17s\n"
     ]
    }
   ],
   "source": [
    "#ventsettings_df = pd.read_csv('/Users/geickelb1/Documents/GitHub/mimiciii-antibiotics-modeling/data/raw/csv/15082018_ventsettings_df.csv', index_col=0)\n",
    "ventsettings_df= clinvar_fxn(\n",
    "    'ventsettings',\n",
    "    '/Users/geickelb1/Documents/GitHub/mimiciii-antibiotics-modeling/data/raw/clinical_var_sql/all/ventsettings.sql'\n",
    ")\n",
    "#going from wide format to long:\n",
    "#pd.melt(ventsettings_df, id_vars=['icustay_id','charttime'])"
   ]
  },
  {
   "cell_type": "code",
   "execution_count": 22,
   "metadata": {},
   "outputs": [
    {
     "name": "stdout",
     "output_type": "stream",
     "text": [
      "time: 89.8 ms\n"
     ]
    }
   ],
   "source": [
    "\n",
    "def vent_categorization(final_pt_df2, ventsettings_df):\n",
    "    \"\"\"\n",
    "    overview: provides 3 variables, one for each 24 hour peroid following first ab administration, that codes vent status during that 24 hr peroid.\n",
    "    ventilation data is based upon the ventsettings.sql file output. \n",
    "       categories: \n",
    "        - Vent- had mech vent within 24hr period\n",
    "        - Oxygen- had only oxygentherapy within 24hr period\n",
    "        - None- had neither within 24hr period.\n",
    "        - Not_coded= data was not present\n",
    "        \n",
    "    input: final cohort dataframe (by icustay_id/hadm_id) annotated with t_0\n",
    "    output: a dataframe with every icustay_id as a row, and a categorization for each of the first 3 days based on ventilation recieved:\n",
    "    \"\"\"\n",
    "    \n",
    "    ventsettings_merge_df= pd.merge(ventsettings_df,\n",
    "                                final_pt_df2[['icustay_id','t_0']],\n",
    "                                left_on='icustay_id',\n",
    "                                right_on= 'icustay_id',\n",
    "                                how='left')\n",
    " \n",
    "    ventsettings_df_3dayannotation= final_pt_df2[['icustay_id','t_0']]\n",
    "    \n",
    "    #origionally coded as: Not_coded as the default. changed to none at Nelson's request\n",
    "    ventsettings_df_3dayannotation['vent_day1']='None' #coding Not_coded as the default. must be sure to code over this to None to ensure I capture everyone\n",
    "    ventsettings_df_3dayannotation['vent_day2']='None' #coding Not_coded as the default. must be sure to code over this to None to ensure I capture everyone\n",
    "    ventsettings_df_3dayannotation['vent_day3']='None' #coding Not_coded as the default. must be sure to code over this to None to ensure I capture everyone\n",
    "    #ventsettings_df_3dayannotation.head()\n",
    "\n",
    "    day1= (\n",
    "        (pd.to_datetime(ventsettings_merge_df['t_0'])-pd.to_datetime(ventsettings_merge_df['charttime']))\n",
    "           .between('00:00:00','23:59:59'))\n",
    "    day2= (\n",
    "        (pd.to_datetime(ventsettings_merge_df['t_0'])-pd.to_datetime(ventsettings_merge_df['charttime']))\n",
    "           .between('24:00:00','47:59:59'))\n",
    "    day3= (\n",
    "        (pd.to_datetime(ventsettings_merge_df['t_0'])-pd.to_datetime(ventsettings_merge_df['charttime']))\n",
    "           .between('48:00:00','71:59:59'))\n",
    "\n",
    "    mech_1= list(ventsettings_merge_df.loc[day1 & ventsettings_merge_df['mechvent']==1 ,'icustay_id'])\n",
    "    mech_2= list(ventsettings_merge_df.loc[day2 & ventsettings_merge_df['mechvent']==1 ,'icustay_id'])\n",
    "    mech_3= list(ventsettings_merge_df.loc[day3 & ventsettings_merge_df['mechvent']==1 ,'icustay_id'])\n",
    "    O2_1= list(ventsettings_merge_df.loc[day1 & ventsettings_merge_df['oxygentherapy']==1 ,'icustay_id'])\n",
    "    O2_2= list(ventsettings_merge_df.loc[day2 & ventsettings_merge_df['oxygentherapy']==1 ,'icustay_id'])\n",
    "    O2_3= list(ventsettings_merge_df.loc[day3 & ventsettings_merge_df['oxygentherapy']==1 ,'icustay_id'])\n",
    "    None_1= list(ventsettings_merge_df[(day1) & (ventsettings_merge_df['mechvent']==0) & (ventsettings_merge_df['oxygentherapy']==0) ]['icustay_id'])\n",
    "    None_2= list(ventsettings_merge_df[(day2) & (ventsettings_merge_df['mechvent']==0) & (ventsettings_merge_df['oxygentherapy']==0) ]['icustay_id'])\n",
    "    None_3= list(ventsettings_merge_df[(day3) & (ventsettings_merge_df['mechvent']==0) & (ventsettings_merge_df['oxygentherapy']==0) ]['icustay_id'])\n",
    "\n",
    "    ventsettings_df_3dayannotation.loc[ventsettings_df_3dayannotation.loc[:,'icustay_id'].isin(mech_1),'vent_day1']='Mech'\n",
    "    ventsettings_df_3dayannotation.loc[ventsettings_df_3dayannotation.loc[:,'icustay_id'].isin(mech_2),'vent_day2']='Mech'\n",
    "    ventsettings_df_3dayannotation.loc[ventsettings_df_3dayannotation.loc[:,'icustay_id'].isin(mech_3),'vent_day3']='Mech'\n",
    "\n",
    "    ventsettings_df_3dayannotation.loc[ventsettings_df_3dayannotation.loc[:,'icustay_id'].isin(O2_1),'vent_day1']='Oxygen'\n",
    "    ventsettings_df_3dayannotation.loc[ventsettings_df_3dayannotation.loc[:,'icustay_id'].isin(O2_2),'vent_day2']='Oxygen'\n",
    "    ventsettings_df_3dayannotation.loc[ventsettings_df_3dayannotation.loc[:,'icustay_id'].isin(O2_3),'vent_day3']='Oxygen'\n",
    "\n",
    "    ventsettings_df_3dayannotation.loc[ventsettings_df_3dayannotation.loc[:,'icustay_id'].isin(None_1),'vent_day1']='None'\n",
    "    ventsettings_df_3dayannotation.loc[ventsettings_df_3dayannotation.loc[:,'icustay_id'].isin(None_2),'vent_day2']='None'\n",
    "    ventsettings_df_3dayannotation.loc[ventsettings_df_3dayannotation.loc[:,'icustay_id'].isin(None_3),'vent_day3']='None'\n",
    "\n",
    "    return(ventsettings_df_3dayannotation)"
   ]
  },
  {
   "cell_type": "code",
   "execution_count": 23,
   "metadata": {},
   "outputs": [
    {
     "name": "stdout",
     "output_type": "stream",
     "text": [
      "time: 143 ms\n"
     ]
    }
   ],
   "source": [
    "#the following code is an alternative method to vent_categorization fxn written above. the output gives the # of vent events in a given timeframe\n",
    "#for each icustay_id\n",
    "def vent_count(final_pt_df2,ventsettings_df):\n",
    "    \"\"\"\n",
    "    overview: quantifies the # of ventilation events related to mechanical ventilation and oxygen therapy for each 24 hr window after first ab dose \n",
    "       categories: \n",
    "        - Vent- had mech vent within 24hr period\n",
    "        - Oxygen- had only oxygentherapy within 24hr period\n",
    "        \n",
    "    input: final cohort dataframe (by icustay_id/hadm_id) annotated with t_0, ventsettings_df\n",
    "    output: a dataframe with every icustay_id as a row, and a count for each of the first 3 days based on ventilation recieved:\n",
    "    \"\"\"\n",
    "    ventsettings_merge_df= pd.merge(ventsettings_df,\n",
    "                                    final_pt_df2[['icustay_id','t_0']],\n",
    "                                    left_on='icustay_id',\n",
    "                                    right_on= 'icustay_id',\n",
    "                                    how='left')\n",
    "\n",
    "    day1= (\n",
    "        (pd.to_datetime(ventsettings_merge_df['t_0'])-pd.to_datetime(ventsettings_merge_df['charttime']))\n",
    "           .between('00:00:00','23:59:59'))\n",
    "    day2= (\n",
    "        (pd.to_datetime(ventsettings_merge_df['t_0'])-pd.to_datetime(ventsettings_merge_df['charttime']))\n",
    "           .between('24:00:00','47:59:59'))\n",
    "    day3= (\n",
    "        (pd.to_datetime(ventsettings_merge_df['t_0'])-pd.to_datetime(ventsettings_merge_df['charttime']))\n",
    "           .between('48:00:00','71:59:59'))\n",
    "\n",
    "\n",
    "    #0-1\n",
    "    icu_O2count1= (\n",
    "        ventsettings_merge_df.loc[day1 & ventsettings_merge_df['oxygentherapy']==1 ,:]\n",
    "                  .groupby('icustay_id')['oxygentherapy']\n",
    "                  .value_counts())\n",
    "    icu_mechcount1= (\n",
    "        ventsettings_merge_df.loc[day1 & ventsettings_merge_df['mechvent']==1 ,:]\n",
    "                .groupby('icustay_id')['mechvent']\n",
    "                .value_counts())\n",
    "\n",
    "    #1-2\n",
    "    icu_O2count2= (\n",
    "        ventsettings_merge_df.loc[day2 & ventsettings_merge_df['oxygentherapy']==1 ,:]\n",
    "                  .groupby('icustay_id')['oxygentherapy']\n",
    "                  .value_counts())\n",
    "\n",
    "    icu_mechcount2= (\n",
    "        ventsettings_merge_df.loc[day2 & ventsettings_merge_df['mechvent']==1 ,:]\n",
    "                .groupby('icustay_id')['mechvent']\n",
    "                .value_counts())\n",
    "\n",
    "    #2-3\n",
    "    icu_O2count3= (\n",
    "        ventsettings_merge_df.loc[day3 & ventsettings_merge_df['oxygentherapy']==1 ,:]\n",
    "                  .groupby('icustay_id')['oxygentherapy']\n",
    "                  .value_counts())\n",
    "\n",
    "    icu_mechcount3= (\n",
    "        ventsettings_merge_df.loc[day3 & ventsettings_merge_df['mechvent']==1 ,:]\n",
    "                .groupby('icustay_id')['mechvent']\n",
    "                .value_counts())\n",
    "\n",
    "    #0-1\n",
    "    icu_O2count_df1= pd.DataFrame(icu_O2count1)\n",
    "    icu_O2count_df1.columns = ['O2_count1']\n",
    "    icu_O2count_df1= icu_O2count_df1.reset_index()\n",
    "\n",
    "    icu_mechcount_df1= pd.DataFrame(icu_mechcount1)\n",
    "    icu_mechcount_df1.columns = ['mech_count1']\n",
    "    icu_mechcount_df1= icu_mechcount_df1.reset_index()\n",
    "\n",
    "    #1-2\n",
    "    icu_O2count_df2= pd.DataFrame(icu_O2count2)\n",
    "    icu_O2count_df2.columns = ['O2_count2']\n",
    "    icu_O2count_df2= icu_O2count_df2.reset_index()\n",
    "\n",
    "    icu_mechcount_df2= pd.DataFrame(icu_mechcount2)\n",
    "    icu_mechcount_df2.columns = ['mech_count2']\n",
    "    icu_mechcount_df2= icu_mechcount_df2.reset_index()\n",
    "\n",
    "    #2-3\n",
    "    icu_O2count_df3= pd.DataFrame(icu_O2count3)\n",
    "    icu_O2count_df3.columns = ['O2_count_3']\n",
    "    icu_O2count_df3= icu_O2count_df3.reset_index()\n",
    "\n",
    "    icu_mechcount_df3= pd.DataFrame(icu_mechcount3)\n",
    "    icu_mechcount_df3.columns = ['mech_count_3']\n",
    "    icu_mechcount_df3= icu_mechcount_df3.reset_index()\n",
    "\n",
    "    #merging all together\n",
    "    icu_vent_status= pd.merge(icu_O2count_df1,icu_O2count_df2, how='outer')\n",
    "    icu_vent_status= pd.merge(icu_vent_status,icu_O2count_df3,  how='outer')\n",
    "    icu_vent_status= pd.merge(icu_vent_status,icu_mechcount_df1,  how='outer')\n",
    "    icu_vent_status= pd.merge(icu_vent_status,icu_mechcount_df2,  how='outer')\n",
    "    icu_vent_status= pd.merge(icu_vent_status,icu_mechcount_df3,  how='outer')\n",
    "    \n",
    "    return(icu_vent_status.drop(['oxygentherapy','mechvent'], axis=1))"
   ]
  },
  {
   "cell_type": "code",
   "execution_count": 24,
   "metadata": {},
   "outputs": [
    {
     "name": "stderr",
     "output_type": "stream",
     "text": [
      "/Users/geickelb1/anaconda/envs/rpy-env/lib/python3.6/site-packages/ipykernel_launcher.py:25: SettingWithCopyWarning: \n",
      "A value is trying to be set on a copy of a slice from a DataFrame.\n",
      "Try using .loc[row_indexer,col_indexer] = value instead\n",
      "\n",
      "See the caveats in the documentation: http://pandas.pydata.org/pandas-docs/stable/indexing.html#indexing-view-versus-copy\n",
      "/Users/geickelb1/anaconda/envs/rpy-env/lib/python3.6/site-packages/ipykernel_launcher.py:26: SettingWithCopyWarning: \n",
      "A value is trying to be set on a copy of a slice from a DataFrame.\n",
      "Try using .loc[row_indexer,col_indexer] = value instead\n",
      "\n",
      "See the caveats in the documentation: http://pandas.pydata.org/pandas-docs/stable/indexing.html#indexing-view-versus-copy\n",
      "/Users/geickelb1/anaconda/envs/rpy-env/lib/python3.6/site-packages/ipykernel_launcher.py:27: SettingWithCopyWarning: \n",
      "A value is trying to be set on a copy of a slice from a DataFrame.\n",
      "Try using .loc[row_indexer,col_indexer] = value instead\n",
      "\n",
      "See the caveats in the documentation: http://pandas.pydata.org/pandas-docs/stable/indexing.html#indexing-view-versus-copy\n",
      "/Users/geickelb1/anaconda/envs/rpy-env/lib/python3.6/site-packages/pandas/core/indexing.py:537: SettingWithCopyWarning: \n",
      "A value is trying to be set on a copy of a slice from a DataFrame.\n",
      "Try using .loc[row_indexer,col_indexer] = value instead\n",
      "\n",
      "See the caveats in the documentation: http://pandas.pydata.org/pandas-docs/stable/indexing.html#indexing-view-versus-copy\n",
      "  self.obj[item] = s\n"
     ]
    },
    {
     "name": "stdout",
     "output_type": "stream",
     "text": [
      "time: 2.18 s\n"
     ]
    }
   ],
   "source": [
    "ventcategory_df = vent_categorization(final_pt_df2, ventsettings_df)\n",
    "ventcategory_df['uom']='category'\n",
    "ventcount_df = vent_count(final_pt_df2,ventsettings_df)"
   ]
  },
  {
   "cell_type": "markdown",
   "metadata": {},
   "source": [
    "# daily SOFA score"
   ]
  },
  {
   "cell_type": "code",
   "execution_count": 123,
   "metadata": {},
   "outputs": [
    {
     "name": "stdout",
     "output_type": "stream",
     "text": [
      "time: 8.46 s\n"
     ]
    }
   ],
   "source": [
    "#Yihangpan wrote a sql script and materialized view \"sofa_pan\" which gives the sofa score for each day in icu for each patient. I now need to use the day # to find the associated t_0 to t_0+72 for each patient. \n",
    "sofa_df= sql_to_df_icu(sql_exe_show('select * from sofa_pan'))\n",
    "sofa_df['icustay_id'].nunique() #15182/15207, pretty close. n=25 icustay id's don't have a sofa score? "
   ]
  },
  {
   "cell_type": "code",
   "execution_count": 215,
   "metadata": {},
   "outputs": [
    {
     "name": "stdout",
     "output_type": "stream",
     "text": [
      "time: 791 ms\n"
     ]
    }
   ],
   "source": [
    "#adding in t_0 & icuadmit date\n",
    "sofa_df_merged= pd.merge(sofa_df, final_pt_df2[['icustay_id','t_0','ICU_admit']], left_on= 'icustay_id', right_on = 'icustay_id', how='left') #n=240317\n",
    "\n",
    "#sofa_df_merged['admit_t0_rounded'] = pd.to_datetime(sofa_df_merged['ICU_admit']).dt.round('1440min')\n",
    "\n",
    "sofa_df_merged['day'] = sofa_df_merged['day']-1\n",
    "sofa_df_merged['approx_charttime']=pd.to_timedelta((sofa_df_merged['day'])*24, unit='h') + pd.to_datetime(sofa_df_merged['ICU_admit'])\n",
    "\n",
    "#rounding down the charttime to the day, so hours and minutes are ignored. \n",
    "sofa_df_merged['floor_charttime'] = sofa_df_merged['approx_charttime'].apply(lambda dt: datetime.datetime(dt.year, dt.month, dt.day, 24*(dt.hour//24))) "
   ]
  },
  {
   "cell_type": "code",
   "execution_count": 216,
   "metadata": {},
   "outputs": [
    {
     "name": "stdout",
     "output_type": "stream",
     "text": [
      "time: 126 ms\n"
     ]
    }
   ],
   "source": [
    "sofa_df_72= sofa_df_merged.loc[\n",
    "    (sofa_df_merged['floor_charttime'].between(\n",
    "        pd.to_datetime(sofa_df_merged['t_0']),\n",
    "        (pd.to_datetime(sofa_df_merged['t_0'])+ pd.to_timedelta(2, unit='d'))\n",
    "    )),:] \n",
    "\n",
    "sofa_df_72= sofa_df_72.drop(54592) #dropping a duplicate row. 294198 had the only instance of 4 sofa score rows, one of which was a duplicate and deleted here.\n",
    "sofa_df_72['icustay_id'].value_counts().describe() \n",
    "\n",
    "#n= 31930 ->37937 going from approx to floor charttime. ie this collapses icu_admit to remove all hour/minute and just display the day, similar to my previous steps. \n",
    "\n",
    "#this dataframe should be approximately all sofa scores for patients between t_0 and t_0+72, plus likely more. \n",
    "\n",
    "# the challenge was that I had to relate day# in sofa_pan to my t_0 date. the day # was based on the days after icu admission, where day1 = the first day (0 to 24 hours post admission). this was changed so day 0= 0 to 24 hours.\n",
    "#To do this, I added day# (where day 0 is the first day) to icu admission date. \n",
    "#I then filtered on only the rows where this icuadmin + day# was between t_0 and t_0 + 72 hours. \n",
    "\n",
    "#since t_0 has only day resolution, and for that I ignored hours and only took the date (rounded down all hours/minutes/seconds). this is similar to how i made the t_0 date. \n",
    "#the problem this creates is that it widens the potential time window, so it theoretically can contain up to 95.99 hours, since hours on day 1 were collapsed to 0. \n"
   ]
  },
  {
   "cell_type": "markdown",
   "metadata": {},
   "source": [
    "# saving as csv"
   ]
  },
  {
   "cell_type": "code",
   "execution_count": 25,
   "metadata": {},
   "outputs": [
    {
     "name": "stdout",
     "output_type": "stream",
     "text": [
      "time: 2min 47s\n"
     ]
    }
   ],
   "source": [
    "date= '27082018'\n",
    "\n",
    "pd.DataFrame(vaso_dose_df).to_csv(\n",
    "    '/Users/geickelb1/Documents/GitHub/mimiciii-antibiotics-modeling/data/raw/csv/%s_vaso_dose_df.csv' %(date))\n",
    "pd.DataFrame(ventsettings_df).to_csv(\n",
    "    '/Users/geickelb1/Documents/GitHub/mimiciii-antibiotics-modeling/data/raw/csv/%s_ventsettings_df.csv' %(date))\n",
    "pd.DataFrame(ventcategory_df).to_csv(\n",
    "    '/Users/geickelb1/Documents/GitHub/mimiciii-antibiotics-modeling/data/raw/csv/%s_ventcategory_df.csv' %(date))\n",
    "pd.DataFrame(ventcount_df).to_csv(\n",
    "    '/Users/geickelb1/Documents/GitHub/mimiciii-antibiotics-modeling/data/raw/csv/%s_ventcount_df.csv' %(date))\n",
    "\n",
    "pd.DataFrame(echodata_df).to_csv(\n",
    "    '/Users/geickelb1/Documents/GitHub/mimiciii-antibiotics-modeling/data/raw/csv/%s_echodata_df.csv' %(date))\n",
    "pd.DataFrame(weightfirstday_df).to_csv(\n",
    "    '/Users/geickelb1/Documents/GitHub/mimiciii-antibiotics-modeling/data/raw/csv/%s_weightfirstday_df.csv' %(date))\n",
    "pd.DataFrame(heightfirstday_df).to_csv(\n",
    "    '/Users/geickelb1/Documents/GitHub/mimiciii-antibiotics-modeling/data/raw/csv/%s_heightfirstday_df.csv' %(date))\n",
    "pd.DataFrame(labs_all_nosummary_df).to_csv(\n",
    "    '/Users/geickelb1/Documents/GitHub/mimiciii-antibiotics-modeling/data/raw/csv/%s_labs_all_nosummary_df.csv' %(date))\n",
    "\n",
    "pd.DataFrame(vitals_all_nosummary_df).to_csv(\n",
    "    '/Users/geickelb1/Documents/GitHub/mimiciii-antibiotics-modeling/data/raw/csv/%s_vitals_all_nosummary_df.csv' %(date))\n",
    "pd.DataFrame(vitals_all_nosummary_nonull).to_csv(\n",
    "    '/Users/geickelb1/Documents/GitHub/mimiciii-antibiotics-modeling/data/raw/csv/%s_vitals_all_nosummary_nonull.csv' %(date)) #this is the more important one\n",
    "\n",
    "# pd.DataFrame(gcsall_df).to_csv(\n",
    "#     '/Users/geickelb1/Documents/GitHub/mimiciii-antibiotics-modeling/data/raw/csv/%s_gcsall_df.csv' %(date))\n",
    "pd.DataFrame(gcs72_df).to_csv(\n",
    "    '/Users/geickelb1/Documents/GitHub/mimiciii-antibiotics-modeling/data/raw/csv/%s_gcs72_df.csv' %(date)) #saving 72hr window here\n",
    "\n",
    "\n",
    "pd.DataFrame(rrt_all_df).to_csv(\n",
    "    '/Users/geickelb1/Documents/GitHub/mimiciii-antibiotics-modeling/data/raw/csv/%s_rrt_all_df.csv' %(date))\n",
    "pd.DataFrame(urine_output_all_df).to_csv(\n",
    "    '/Users/geickelb1/Documents/GitHub/mimiciii-antibiotics-modeling/data/raw/csv/%s_urine_output_all_df.csv' %(date))\n",
    "pd.DataFrame(uti_all_df).to_csv(\n",
    "    '/Users/geickelb1/Documents/GitHub/mimiciii-antibiotics-modeling/data/raw/csv/%s_uti_all_df.csv' %(date))\n",
    "pd.DataFrame(bg_all_nosummary_df).to_csv(\n",
    "    '/Users/geickelb1/Documents/GitHub/mimiciii-antibiotics-modeling/data/raw/csv/%s_bg_all_nosummary_df.csv' %(date))\n",
    "pd.DataFrame(sofa_df_merged).to_csv(\n",
    "    '/Users/geickelb1/Documents/GitHub/mimiciii-antibiotics-modeling/data/raw/csv/%s_sofa_df_merged.csv' %(date))"
   ]
  },
  {
   "cell_type": "code",
   "execution_count": 34,
   "metadata": {},
   "outputs": [
    {
     "name": "stdout",
     "output_type": "stream",
     "text": [
      "time: 16 s\n"
     ]
    }
   ],
   "source": [
    "# pd.DataFrame(bg_all_nosummary_df).to_csv(\n",
    "#     '/Users/geickelb1/Documents/GitHub/mimiciii-antibiotics-modeling/data/raw/csv/%s_bg_all_nosummary_df.csv' %(date))"
   ]
  },
  {
   "cell_type": "code",
   "execution_count": 67,
   "metadata": {},
   "outputs": [
    {
     "name": "stdout",
     "output_type": "stream",
     "text": [
      "time: 927 ms\n"
     ]
    }
   ],
   "source": [
    "# pd.DataFrame(vaso_dose_df).to_csv(\n",
    "#     '/Users/geickelb1/Documents/GitHub/mimiciii-antibiotics-modeling/data/raw/csv/%s_vaso_dose_df.csv' %(date))"
   ]
  },
  {
   "cell_type": "markdown",
   "metadata": {},
   "source": [
    "# 72-hour time window filtering 8/28/18 \n",
    "saving a new version of each clincal variable dataframe that is filtered to only 72 hour window after t_0 for each icustay_id \n",
    "\n",
    "- need to organize this better "
   ]
  },
  {
   "cell_type": "markdown",
   "metadata": {},
   "source": [
    "### reading in data if needed"
   ]
  },
  {
   "cell_type": "code",
   "execution_count": 256,
   "metadata": {},
   "outputs": [
    {
     "name": "stderr",
     "output_type": "stream",
     "text": [
      "/Users/geickelb1/anaconda/envs/rpy-env/lib/python3.6/site-packages/numpy/lib/arraysetops.py:472: FutureWarning: elementwise comparison failed; returning scalar instead, but in the future will perform elementwise comparison\n",
      "  mask |= (ar1 == a)\n"
     ]
    },
    {
     "name": "stdout",
     "output_type": "stream",
     "text": [
      "time: 32.6 s\n"
     ]
    }
   ],
   "source": [
    "# #final_pt_df2 = pd.read_csv('/Users/geickelb1/Documents/GitHub/mimiciii-antibiotics-modeling/data/raw/csv/16082018_final_pt_df2.csv', index_col=0)\n",
    "\n",
    "# #large import of all data \n",
    "\n",
    "# date= '27082018'\n",
    "\n",
    "# vaso_dose_df =pd.read_csv(\n",
    "#     '/Users/geickelb1/Documents/GitHub/mimiciii-antibiotics-modeling/data/raw/csv/%s_vaso_dose_df.csv' %(date), index_col=0)\n",
    "# ventsettings_df=pd.read_csv(\n",
    "#     '/Users/geickelb1/Documents/GitHub/mimiciii-antibiotics-modeling/data/raw/csv/%s_ventsettings_df.csv' %(date), index_col=0)\n",
    "# ventcategory_df=pd.read_csv(\n",
    "#     '/Users/geickelb1/Documents/GitHub/mimiciii-antibiotics-modeling/data/raw/csv/%s_ventcategory_df.csv' %(date), index_col=0)\n",
    "# ventcount_df=pd.read_csv(\n",
    "#     '/Users/geickelb1/Documents/GitHub/mimiciii-antibiotics-modeling/data/raw/csv/%s_ventcount_df.csv' %(date), index_col=0)\n",
    "\n",
    "# echodata_df=pd.read_csv(\n",
    "#     '/Users/geickelb1/Documents/GitHub/mimiciii-antibiotics-modeling/data/raw/csv/%s_echodata_df.csv' %(date), index_col=0)\n",
    "# weightfirstday_df=pd.read_csv(\n",
    "#     '/Users/geickelb1/Documents/GitHub/mimiciii-antibiotics-modeling/data/raw/csv/%s_weightfirstday_df.csv' %(date), index_col=0)\n",
    "# heightfirstday_df=pd.read_csv(\n",
    "#     '/Users/geickelb1/Documents/GitHub/mimiciii-antibiotics-modeling/data/raw/csv/%s_heightfirstday_df.csv' %(date), index_col=0)\n",
    "# labs_all_nosummary_df=pd.read_csv(\n",
    "#     '/Users/geickelb1/Documents/GitHub/mimiciii-antibiotics-modeling/data/raw/csv/%s_labs_all_nosummary_df.csv' %(date), index_col=0)\n",
    "# vitals_all_nosummary_df=pd.read_csv(\n",
    "#     '/Users/geickelb1/Documents/GitHub/mimiciii-antibiotics-modeling/data/raw/csv/%s_vitals_all_nosummary_df.csv' %(date), index_col=0)\n",
    "# gcsall_df=pd.read_csv(\n",
    "#     '/Users/geickelb1/Documents/GitHub/mimiciii-antibiotics-modeling/data/raw/csv/%s_gcsall_df.csv' %(date), index_col=0)\n",
    "# rrt_all_df=pd.read_csv(\n",
    "#     '/Users/geickelb1/Documents/GitHub/mimiciii-antibiotics-modeling/data/raw/csv/%s_rrt_all_df.csv' %(date), index_col=0)\n",
    "# urine_output_all_df=pd.read_csv(\n",
    "#     '/Users/geickelb1/Documents/GitHub/mimiciii-antibiotics-modeling/data/raw/csv/%s_urine_output_all_df.csv' %(date), index_col=0)\n",
    "# uti_all_df=pd.read_csv(\n",
    "#     '/Users/geickelb1/Documents/GitHub/mimiciii-antibiotics-modeling/data/raw/csv/%s_uti_all_df.csv' %(date), index_col=0)\n",
    "# bg_all_nosummary_df=pd.read_csv(\n",
    "#     '/Users/geickelb1/Documents/GitHub/mimiciii-antibiotics-modeling/data/raw/csv/%s_bg_all_nosummary_df.csv' %(date), index_col=0)\n"
   ]
  },
  {
   "cell_type": "code",
   "execution_count": 9,
   "metadata": {},
   "outputs": [
    {
     "name": "stdout",
     "output_type": "stream",
     "text": [
      "time: 12.9 ms\n"
     ]
    }
   ],
   "source": [
    "def hour_72_window(df, final_pt_df2,timevar):\n",
    "    try:\n",
    "        df= pd.merge(df, final_pt_df2[['icustay_id','t_0']], left_on= 'icustay_id', right_on = 'icustay_id') #n=240317\n",
    "        df['delta']= pd.to_datetime(df[timevar]) - pd.to_datetime(df['t_0'])\n",
    "        df_after_t0= df.loc[df.loc[:,'delta']>= pd.Timedelta(days=0),:]\n",
    "        df_after_t0= df_after_t0.loc[df_after_t0.loc[:,'delta']<= pd.Timedelta(days=3),:]\n",
    "    except KeyError or NameError:\n",
    "        df= pd.merge(df, final_pt_df2[['hadm_id','t_0']], left_on= 'hadm_id', right_on = 'hadm_id') #n=240317\n",
    "        df['delta']= pd.to_datetime(df[timevar]) - pd.to_datetime(df['t_0'])\n",
    "        df_after_t0= df.loc[df.loc[:,'delta']>= pd.Timedelta(days=0),:]\n",
    "        df_after_t0= df_after_t0.loc[df_after_t0.loc[:,'delta']<= pd.Timedelta(days=3),:]\n",
    "    return(df_after_t0)"
   ]
  },
  {
   "cell_type": "code",
   "execution_count": 272,
   "metadata": {},
   "outputs": [
    {
     "name": "stdout",
     "output_type": "stream",
     "text": [
      "time: 36.7 s\n"
     ]
    }
   ],
   "source": [
    "###list of data w/ 72 hour adjustments\n",
    "#vaso_dose_df - vaso_dose_72 -\n",
    "#ventsettings_df - ventsettings_72 -\n",
    "#ventcategory_df - ventcategory_df - \n",
    "#ventcount_df - ventcount_df -\n",
    "#echodata_df - echodata_72 -\n",
    "#labs_all_nosummary_df- labs_all_nosummary_72 -\n",
    "#vitals_all_nosummary_df - vitals_all_nosummary_72 -\n",
    "#gcsall_df - Gcs72_df **modified the gcs in python above. within 72 hour window. -\n",
    "#rrt_all_df - rrt_merged_allpt_df *modified the rrt in python above. within 72 hour window.  -\n",
    "#uti_all_df - uti_all_72 -\n",
    "#bg_all_nosummary_df - bg_all_nosummary_72\n",
    "#sofa_df_72 #already within 72hour window\n",
    "\n",
    "#urine_output_all_df - . xxx this also doesn't have times, but this won't be used much so i didn't bother editing.\n",
    "\n",
    "vaso_dose_72= hour_72_window(vaso_dose_df, final_pt_df2, 'starttime')\n",
    "ventsettings_72= hour_72_window(ventsettings_df, final_pt_df2, \"charttime\")\n",
    "echodata_72= hour_72_window(echodata_df, final_pt_df2, 'charttime')\n",
    "labs_all_nosummary_72= hour_72_window(labs_all_nosummary_df, final_pt_df2, \"charttime\")\n",
    "vitals_all_nosummary_72 = hour_72_window(vitals_all_nosummary_df, final_pt_df2, \"charttime\")\n",
    "uti_all_72 = hour_72_window(uti_all_df, final_pt_df2, 'charttime')\n",
    "bg_all_nosummary_72 = hour_72_window(bg_all_nosummary_df, final_pt_df2, 'charttime')"
   ]
  },
  {
   "cell_type": "code",
   "execution_count": 37,
   "metadata": {},
   "outputs": [
    {
     "name": "stdout",
     "output_type": "stream",
     "text": [
      "time: 33.3 s\n"
     ]
    }
   ],
   "source": [
    "bg_all_nosummary_72 = hour_72_window(bg_all_nosummary_df, final_pt_df2, 'charttime')\n",
    "vitals_all_nosummary_72 = hour_72_window(vitals_all_nosummary_df, final_pt_df2, \"charttime\")"
   ]
  },
  {
   "cell_type": "markdown",
   "metadata": {},
   "source": [
    "# filtering to patients with bare minimum vital numbers\n",
    "06.1-QC_and_missingness found that 3% or so of patients don't have baseline vitals counts. this is filtering the patients to only those who have this baseline value.\n",
    "\n",
    "as of 10/12/18, this code has not been implemented in here and is performed after importing. "
   ]
  },
  {
   "cell_type": "code",
   "execution_count": 21,
   "metadata": {},
   "outputs": [
    {
     "name": "stdout",
     "output_type": "stream",
     "text": [
      "time: 5.12 ms\n"
     ]
    }
   ],
   "source": [
    "def df_subset(df):\n",
    "    try:\n",
    "        df = df.loc[df.loc[:,'icustay_id'].isin(icustay_id),:]\n",
    "    except KeyError or NameError:\n",
    "        try:\n",
    "            df = df.loc[df.loc[:,'hadm_id'].isin(hadm_id),:]\n",
    "        except KeyError or NameError:\n",
    "            df = df.loc[df.loc[:,'subject_id'].isin(patients),:]\n",
    "    return(df)"
   ]
  },
  {
   "cell_type": "code",
   "execution_count": 40,
   "metadata": {},
   "outputs": [
    {
     "ename": "NameError",
     "evalue": "name 'ventcategory_df' is not defined",
     "output_type": "error",
     "traceback": [
      "\u001b[0;31m---------------------------------------------------------------------------\u001b[0m",
      "\u001b[0;31mNameError\u001b[0m                                 Traceback (most recent call last)",
      "\u001b[0;32m<ipython-input-40-159804e25ba0>\u001b[0m in \u001b[0;36m<module>\u001b[0;34m()\u001b[0m\n\u001b[1;32m      1\u001b[0m \u001b[0;31m# subsetting each dataframe to only patients in final_patients_df2_v:\u001b[0m\u001b[0;34m\u001b[0m\u001b[0;34m\u001b[0m\u001b[0m\n\u001b[1;32m      2\u001b[0m dataframe_list= [\n\u001b[0;32m----> 3\u001b[0;31m     \u001b[0mventcategory_df\u001b[0m\u001b[0;34m,\u001b[0m \u001b[0mvaso_dose_72\u001b[0m\u001b[0;34m,\u001b[0m \u001b[0mechodata_72\u001b[0m\u001b[0;34m,\u001b[0m\u001b[0;34m\u001b[0m\u001b[0m\n\u001b[0m\u001b[1;32m      4\u001b[0m     \u001b[0mlabs_all_nosummary_72\u001b[0m\u001b[0;34m,\u001b[0m \u001b[0mweightfirstday_df\u001b[0m\u001b[0;34m,\u001b[0m\u001b[0;34m\u001b[0m\u001b[0m\n\u001b[1;32m      5\u001b[0m     \u001b[0mheightfirstday_df\u001b[0m\u001b[0;34m,\u001b[0m \u001b[0mvitals_all_nosummary_72\u001b[0m\u001b[0;34m,\u001b[0m\u001b[0;34m\u001b[0m\u001b[0m\n",
      "\u001b[0;31mNameError\u001b[0m: name 'ventcategory_df' is not defined"
     ]
    },
    {
     "name": "stdout",
     "output_type": "stream",
     "text": [
      "time: 57.4 ms\n"
     ]
    }
   ],
   "source": [
    "# subsetting each dataframe to only patients in final_patients_df2_v:\n",
    "dataframe_list= [\n",
    "    ventcategory_df, vaso_dose_72, echodata_72,\n",
    "    labs_all_nosummary_72, weightfirstday_df,\n",
    "    heightfirstday_df, vitals_all_nosummary_72,\n",
    "    uti_all_72, bg_all_nosummary_72,\n",
    "    rrt_merged_allpt_df, gcs72_df, sofa_df_72\n",
    "]\n",
    "\n",
    "(\n",
    "ventcategory_df, vaso_dose_72, echodata_72,\n",
    "labs_all_nosummary_72, weightfirstday_df,\n",
    "heightfirstday_df, vitals_all_nosummary_72,\n",
    "uti_all_72, bg_all_nosummary_72,\n",
    "rrt_merged_allpt_df, gcs72_df, sofa_df_72\n",
    ") = (df_subset(df) for df in dataframe_list)"
   ]
  },
  {
   "cell_type": "code",
   "execution_count": 274,
   "metadata": {},
   "outputs": [
    {
     "ename": "NameError",
     "evalue": "name 'Gcs72_df' is not defined",
     "output_type": "error",
     "traceback": [
      "\u001b[0;31m---------------------------------------------------------------------------\u001b[0m",
      "\u001b[0;31mNameError\u001b[0m                                 Traceback (most recent call last)",
      "\u001b[0;32m<ipython-input-274-cdbc63866d04>\u001b[0m in \u001b[0;36m<module>\u001b[0;34m()\u001b[0m\n\u001b[1;32m     24\u001b[0m pd.DataFrame(rrt_merged_allpt_df).to_csv(\n\u001b[1;32m     25\u001b[0m     '/Users/geickelb1/Documents/GitHub/mimiciii-antibiotics-modeling/data/raw/csv/72_hr_window/%s_rrt_merged_allpt_df.csv' %(date))\n\u001b[0;32m---> 26\u001b[0;31m pd.DataFrame(Gcs72_df).to_csv(\n\u001b[0m\u001b[1;32m     27\u001b[0m     '/Users/geickelb1/Documents/GitHub/mimiciii-antibiotics-modeling/data/raw/csv/72_hr_window/%s_Gcs72_df.csv' %(date))\n",
      "\u001b[0;31mNameError\u001b[0m: name 'Gcs72_df' is not defined"
     ]
    },
    {
     "name": "stdout",
     "output_type": "stream",
     "text": [
      "time: 2min\n"
     ]
    }
   ],
   "source": [
    "date= '27082018'\n",
    "\n",
    "pd.DataFrame(vaso_dose_72).to_csv(\n",
    "    '/Users/geickelb1/Documents/GitHub/mimiciii-antibiotics-modeling/data/raw/csv/72_hr_window/%s_vaso_dose_72.csv' %(date))\n",
    "pd.DataFrame(ventsettings_72).to_csv(\n",
    "    '/Users/geickelb1/Documents/GitHub/mimiciii-antibiotics-modeling/data/raw/csv/72_hr_window/%s_ventsettings_72.csv' %(date))\n",
    "\n",
    "#vent category and count are already 72hour\n",
    "pd.DataFrame(ventsettings_df).to_csv(\n",
    "    '/Users/geickelb1/Documents/GitHub/mimiciii-antibiotics-modeling/data/raw/csv/%s_ventsettings_df.csv' %(date))\n",
    "pd.DataFrame(ventcategory_df).to_csv(\n",
    "    '/Users/geickelb1/Documents/GitHub/mimiciii-antibiotics-modeling/data/raw/csv/%s_ventcategory_df.csv' %(date))\n",
    "\n",
    "pd.DataFrame(echodata_72).to_csv(\n",
    "    '/Users/geickelb1/Documents/GitHub/mimiciii-antibiotics-modeling/data/raw/csv/72_hr_window/%s_echodata_72.csv' %(date))\n",
    "pd.DataFrame(labs_all_nosummary_72).to_csv(\n",
    "    '/Users/geickelb1/Documents/GitHub/mimiciii-antibiotics-modeling/data/raw/csv/72_hr_window/%s_labs_all_nosummary_72.csv' %(date))\n",
    "\n",
    "#vent category and count are already limited to first day\n",
    "pd.DataFrame(weightfirstday_df).to_csv(\n",
    "    '/Users/geickelb1/Documents/GitHub/mimiciii-antibiotics-modeling/data/raw/csv/72_hr_window/%s_weightfirstday_df.csv' %(date))\n",
    "pd.DataFrame(heightfirstday_df).to_csv(\n",
    "    '/Users/geickelb1/Documents/GitHub/mimiciii-antibiotics-modeling/data/raw/csv/72_hr_window/%s_heightfirstday_df.csv' %(date))\n",
    "\n",
    "pd.DataFrame(vitals_all_nosummary_72).to_csv(\n",
    "    '/Users/geickelb1/Documents/GitHub/mimiciii-antibiotics-modeling/data/raw/csv/72_hr_window/%s_vitals_all_nosummary_72.csv' %(date))\n",
    "pd.DataFrame(uti_all_72).to_csv(\n",
    "    '/Users/geickelb1/Documents/GitHub/mimiciii-antibiotics-modeling/data/raw/csv/72_hr_window/%s_uti_all_72.csv' %(date))\n",
    "pd.DataFrame(bg_all_nosummary_72).to_csv(\n",
    "    '/Users/geickelb1/Documents/GitHub/mimiciii-antibiotics-modeling/data/raw/csv/72_hr_window/%s_bg_all_nosummary_72.csv' %(date))\n",
    "\n",
    "pd.DataFrame(rrt_merged_allpt_df).to_csv(\n",
    "    '/Users/geickelb1/Documents/GitHub/mimiciii-antibiotics-modeling/data/raw/csv/72_hr_window/%s_rrt_merged_allpt_df.csv' %(date))\n",
    "pd.DataFrame(gcs72_df).to_csv(\n",
    "    '/Users/geickelb1/Documents/GitHub/mimiciii-antibiotics-modeling/data/raw/csv/72_hr_window/%s_gcs72_df.csv' %(date))\n",
    "\n",
    "pd.DataFrame(sofa_df_72).to_csv(\n",
    "    '/Users/geickelb1/Documents/GitHub/mimiciii-antibiotics-modeling/data/raw/csv/%s_sofa_df_72.csv' %(date))\n"
   ]
  },
  {
   "cell_type": "code",
   "execution_count": null,
   "metadata": {},
   "outputs": [],
   "source": []
  }
 ],
 "metadata": {
  "kernelspec": {
   "display_name": "Python 3",
   "language": "python",
   "name": "python3"
  },
  "language_info": {
   "codemirror_mode": {
    "name": "ipython",
    "version": 3
   },
   "file_extension": ".py",
   "mimetype": "text/x-python",
   "name": "python",
   "nbconvert_exporter": "python",
   "pygments_lexer": "ipython3",
   "version": "3.6.4"
  }
 },
 "nbformat": 4,
 "nbformat_minor": 2
}
