{
 "cells": [
  {
   "cell_type": "markdown",
   "metadata": {},
   "source": [
    "## clinical variable retrieval codebase.\n",
    "each querey is referencing a sql querey linked in my github for ALL patients in the database, then generating a dataframe, then paring that dataframe down to only the patients/icustay_id in our cohort. "
   ]
  },
  {
   "cell_type": "code",
   "execution_count": 3,
   "metadata": {},
   "outputs": [
    {
     "name": "stdout",
     "output_type": "stream",
     "text": [
      "time: 889 µs\n"
     ]
    }
   ],
   "source": [
    "#7-15-18\n",
    "#the final version of this notebook seeks to accomplish a few tasks:\n",
    "#organize and standardize all sql code so that i am running a .sql file rather than typing sql code into jupyter\n",
    "#change all filepaths to match the github linked directory to ensure better version control\n",
    "#extract all of the structured clinical variables we need for our project"
   ]
  },
  {
   "cell_type": "code",
   "execution_count": 1,
   "metadata": {},
   "outputs": [],
   "source": [
    "import requests\n",
    "import numpy as np\n",
    "import pandas as pd\n",
    "import matplotlib.pyplot as plt\n",
    "import psycopg2\n",
    "import collections\n",
    "import asyncio\n",
    "import getpass\n",
    "import re\n",
    "from datetime import datetime as dt\n",
    "import os,sys,re\n",
    "import urllib3\n",
    "import prettytable\n",
    "from collections import Counter\n",
    "import seaborn as sns\n",
    "import random\n",
    "\n",
    "from sklearn.externals.joblib import Memory\n",
    "memory = Memory(cachedir='/tmp', verbose=0)\n",
    "#@memory.cache above any def fxn.\n",
    "\n",
    "%matplotlib inline\n",
    "plt.style.use('ggplot')\n",
    "\n",
    "from notebook.services.config import ConfigManager\n",
    "cm = ConfigManager()\n",
    "cm.update('livereveal', {\n",
    "        'width': 1024,\n",
    "        'height': 768,\n",
    "        'scroll': True,\n",
    "})\n",
    "\n",
    "%load_ext autotime"
   ]
  },
  {
   "cell_type": "code",
   "execution_count": 2,
   "metadata": {},
   "outputs": [
    {
     "name": "stdout",
     "output_type": "stream",
     "text": [
      "time: 1.67 ms\n"
     ]
    }
   ],
   "source": [
    "from pathlib import Path\n",
    "os.chdir('/Users/geickelb1/Documents/GitHub/mimiciii-antibiotics-modeling') #use to change working directory\n",
    "wd= os.getcwd() #'/Users/geickelb1/Documents/GitHub/mimiciii-antibiotics-modeling'\n"
   ]
  },
  {
   "cell_type": "code",
   "execution_count": 3,
   "metadata": {},
   "outputs": [
    {
     "name": "stdout",
     "output_type": "stream",
     "text": [
      "time: 62.8 ms\n"
     ]
    }
   ],
   "source": [
    "#patients of interest from rotation_cohort_generation\n",
    "\n",
    "final_pt_df2 = pd.read_csv('/Users/geickelb1/Documents/GitHub/mimiciii-antibiotics-modeling/data/raw/csv/25012019_final_pt_PA_df2.csv', index_col=0) #final cohort for PA \n",
    "date='25012019'\n",
    "\n",
    "patients= list(final_pt_df2['subject_id'].unique())\n",
    "hadm_id= list(final_pt_df2['hadm_id'].unique())\n",
    "icustay_id= list(final_pt_df2['icustay_id'].unique())\n",
    "icustay_id= [int(x) for x in icustay_id]"
   ]
  },
  {
   "cell_type": "markdown",
   "metadata": {},
   "source": [
    "## Access MIMIC database and convert it to dataframe in Pandas"
   ]
  },
  {
   "cell_type": "code",
   "execution_count": 43,
   "metadata": {},
   "outputs": [
    {
     "name": "stdin",
     "output_type": "stream",
     "text": [
      "Password: ·····\n"
     ]
    },
    {
     "name": "stdout",
     "output_type": "stream",
     "text": [
      "time: 1.94 s\n"
     ]
    }
   ],
   "source": [
    "import psycopg2\n",
    "conn = psycopg2.connect(dbname=\"mimic\", user=\"student\", host=\"luolabwkstn01.fsm.northwestern.edu\", port=\"5432\",\n",
    "                        password=getpass.getpass(prompt='Password:'.format()))\n",
    "cur=conn.cursor()\n",
    "\n",
    "query_schema = 'SET search_path to ' + \"mimiciii\" + ';'"
   ]
  },
  {
   "cell_type": "code",
   "execution_count": 5,
   "metadata": {},
   "outputs": [
    {
     "name": "stdout",
     "output_type": "stream",
     "text": [
      "time: 47.8 ms\n"
     ]
    }
   ],
   "source": [
    "#input the sql_exe_show object and get dataframe for only patients in patient list out. \n",
    "def sql_exe_show(sql_sentence):\n",
    "    cur.execute(sql_sentence)\n",
    "    rows = cur.fetchall()\n",
    "    col = []\n",
    "    for i in range(len(cur.description)):\n",
    "        col.append(cur.description[i][0])\n",
    "    table = pd.DataFrame(rows,columns=col)\n",
    "    return table\n",
    "\n",
    "def sql_to_df_icu(sql_exe_show_obj):\n",
    "    sql_exe_show_df= pd.DataFrame(data=sql_exe_show_obj)\n",
    "    sql_exe_show_df=sql_exe_show_df[sql_exe_show_df['icustay_id'].isin(icustay_id)]\n",
    "    return sql_exe_show_df\n",
    "\n",
    "def sql_to_df_patients(sql_exe_show_obj):\n",
    "    sql_exe_show_df= pd.DataFrame(data=sql_exe_show_obj)\n",
    "    sql_exe_show_df=sql_exe_show_df[sql_exe_show_df['subject_id'].isin(patients)]\n",
    "    return sql_exe_show_df\n",
    "\n",
    "def sql_to_df_hadm(sql_exe_show_obj):\n",
    "    sql_exe_show_df= pd.DataFrame(data=sql_exe_show_obj)\n",
    "    sql_exe_show_df=sql_exe_show_df[sql_exe_show_df['hadm_id'].isin(hadm_id)]\n",
    "    return sql_exe_show_df\n",
    "\n",
    "def clinvar_fxn(var_name, path):\n",
    "    f= open(path, 'r')\n",
    "    var = f.read()\n",
    "    cur.execute('rollback')\n",
    "    cur.execute(var)\n",
    "    try:\n",
    "        df= sql_to_df_icu(sql_exe_show('select * from %s;' %(var_name)))\n",
    "    except KeyError or NameError:\n",
    "        try:      \n",
    "            df= sql_to_df_hadm(sql_exe_show('select * from %s;' %(var_name)))\n",
    "        except KeyError or NameError:\n",
    "            df= sql_to_df_patients(sql_exe_show('select * from %s;' %(var_name)))\n",
    "\n",
    "    print(df.shape)\n",
    "    return(df)\n"
   ]
  },
  {
   "cell_type": "markdown",
   "metadata": {},
   "source": [
    "# extracting clinical data for our patients"
   ]
  },
  {
   "cell_type": "markdown",
   "metadata": {},
   "source": [
    "## Echodata in Noteevents"
   ]
  },
  {
   "cell_type": "code",
   "execution_count": 6,
   "metadata": {},
   "outputs": [
    {
     "name": "stdout",
     "output_type": "stream",
     "text": [
      "(7450, 18)\n",
      "time: 34.8 s\n"
     ]
    }
   ],
   "source": [
    "echodata_df= clinvar_fxn(\n",
    "    'echodata',\n",
    "    '/Users/geickelb1/Documents/GitHub/mimiciii-antibiotics-modeling/data/raw/clinical_var_sql/all/echodata.sql' \n",
    ")"
   ]
  },
  {
   "cell_type": "markdown",
   "metadata": {},
   "source": [
    "## Weight"
   ]
  },
  {
   "cell_type": "code",
   "execution_count": 7,
   "metadata": {
    "scrolled": true
   },
   "outputs": [
    {
     "name": "stdout",
     "output_type": "stream",
     "text": [
      "(8731, 6)\n",
      "time: 2.01 s\n"
     ]
    }
   ],
   "source": [
    "# -- This query extracts weights for adult ICU patients on their first ICU day.\n",
    "# -- It does *not* use any information after the first ICU day, as weight is\n",
    "# -- sometimes used to monitor fluid balance.\n",
    "\n",
    "weightfirstday_df= clinvar_fxn(\n",
    "    'weightfirstday',\n",
    "    '/Users/geickelb1/Documents/GitHub/mimiciii-antibiotics-modeling/data/raw/clinical_var_sql/all/weightfirstday.sql' \n",
    ")\n",
    "weightfirstday_df['uom']='kg'"
   ]
  },
  {
   "cell_type": "markdown",
   "metadata": {},
   "source": [
    "## Height"
   ]
  },
  {
   "cell_type": "code",
   "execution_count": 8,
   "metadata": {
    "scrolled": true
   },
   "outputs": [
    {
     "name": "stdout",
     "output_type": "stream",
     "text": [
      "(8731, 4)\n",
      "time: 1.31 s\n"
     ]
    }
   ],
   "source": [
    "# -- This query extracts heights for adult ICU patients.\n",
    "# -- It uses all information from the patient's first ICU day.\n",
    "# -- This is done for consistency with other queries - it's not necessarily needed.\n",
    "# -- Height is unlikely to change throughout a patient's stay.\n",
    "heightfirstday_df= clinvar_fxn(\n",
    "    'heightfirstday',\n",
    "    '/Users/geickelb1/Documents/GitHub/mimiciii-antibiotics-modeling/data/raw/clinical_var_sql/all/heightfirstday.sql' \n",
    ")\n",
    "\n",
    "heightfirstday_df['uom']='cm'"
   ]
  },
  {
   "cell_type": "markdown",
   "metadata": {},
   "source": [
    "# Labs"
   ]
  },
  {
   "cell_type": "code",
   "execution_count": 9,
   "metadata": {
    "scrolled": true
   },
   "outputs": [
    {
     "name": "stdout",
     "output_type": "stream",
     "text": [
      "(2231976, 6)\n",
      "time: 4min 54s\n"
     ]
    }
   ],
   "source": [
    "# -- This query pivots lab values for all patients, then filtered to those in my cohort.\n",
    "# -- Have already confirmed that the unit of measurement is always the same: null or the correct unit\n",
    "\n",
    "labs_all_nosummary_df= clinvar_fxn(\n",
    "    'labs_all_nosummary',\n",
    "    '/Users/geickelb1/Documents/GitHub/mimiciii-antibiotics-modeling/data/raw/clinical_var_sql/all/no_summary/labs_all_nosummary.sql' \n",
    ")\n"
   ]
  },
  {
   "cell_type": "code",
   "execution_count": 10,
   "metadata": {},
   "outputs": [
    {
     "name": "stdout",
     "output_type": "stream",
     "text": [
      "time: 8.13 ms\n"
     ]
    }
   ],
   "source": [
    "#importing unit of mesurements:\n",
    "def uom_sql_import(file_path):\n",
    "    if isinstance(file_path, str)== True:\n",
    "        f = open(Path(file_path), 'r')\n",
    "    else:\n",
    "        f = open(Path(str(file_path)), 'r')\n",
    "\n",
    "    SQL = open(file_path,'r').read()\n",
    "    SQL_df= pd.read_sql_query(SQL,conn)   \n",
    "    return(SQL_df)"
   ]
  },
  {
   "cell_type": "code",
   "execution_count": 11,
   "metadata": {},
   "outputs": [
    {
     "name": "stdout",
     "output_type": "stream",
     "text": [
      "time: 22.5 s\n"
     ]
    }
   ],
   "source": [
    "lab_uom= uom_sql_import(Path(wd+'/data/raw/clinical_var_sql/unit_of_mesurement/labs_uom.sql'))\n",
    "labs_all_nosummary_df = pd.merge(labs_all_nosummary_df, lab_uom, left_on='label', right_on='label')"
   ]
  },
  {
   "cell_type": "code",
   "execution_count": 12,
   "metadata": {},
   "outputs": [
    {
     "data": {
      "text/plain": [
       "'/Users/geickelb1/Documents/GitHub/mimiciii-antibiotics-modeling'"
      ]
     },
     "execution_count": 12,
     "metadata": {},
     "output_type": "execute_result"
    },
    {
     "name": "stdout",
     "output_type": "stream",
     "text": [
      "time: 5.45 ms\n"
     ]
    }
   ],
   "source": [
    "wd"
   ]
  },
  {
   "cell_type": "markdown",
   "metadata": {},
   "source": [
    "## Vital Sign"
   ]
  },
  {
   "cell_type": "code",
   "execution_count": 13,
   "metadata": {
    "scrolled": true
   },
   "outputs": [
    {
     "name": "stdout",
     "output_type": "stream",
     "text": [
      "(10389099, 7)\n",
      "time: 23min 12s\n"
     ]
    }
   ],
   "source": [
    "##-- This query pivots the vital signs for the first 24 hours of a patient's stay\n",
    "##-- Vital signs include heart rate, blood pressure, respiration rate, and temperature\n",
    "\n",
    "vitals_all_nosummary_df= clinvar_fxn(\n",
    "    'vitals_all_nosummary',\n",
    "    '/Users/geickelb1/Documents/GitHub/mimiciii-antibiotics-modeling/data/raw/clinical_var_sql/all/no_summary/vitals_all_nosummary.sql' \n",
    ")"
   ]
  },
  {
   "cell_type": "code",
   "execution_count": 14,
   "metadata": {},
   "outputs": [
    {
     "data": {
      "text/html": [
       "<div>\n",
       "<style scoped>\n",
       "    .dataframe tbody tr th:only-of-type {\n",
       "        vertical-align: middle;\n",
       "    }\n",
       "\n",
       "    .dataframe tbody tr th {\n",
       "        vertical-align: top;\n",
       "    }\n",
       "\n",
       "    .dataframe thead th {\n",
       "        text-align: right;\n",
       "    }\n",
       "</style>\n",
       "<table border=\"1\" class=\"dataframe\">\n",
       "  <thead>\n",
       "    <tr style=\"text-align: right;\">\n",
       "      <th></th>\n",
       "      <th>subject_id</th>\n",
       "      <th>hadm_id</th>\n",
       "      <th>icustay_id</th>\n",
       "      <th>charttime</th>\n",
       "      <th>valueuom</th>\n",
       "      <th>vitalid</th>\n",
       "      <th>valuenum</th>\n",
       "    </tr>\n",
       "  </thead>\n",
       "  <tbody>\n",
       "    <tr>\n",
       "      <th>3</th>\n",
       "      <td>9</td>\n",
       "      <td>150750</td>\n",
       "      <td>220597</td>\n",
       "      <td>2149-11-11 00:00:00</td>\n",
       "      <td>mmHg</td>\n",
       "      <td>MeanArtPress</td>\n",
       "      <td>81.0</td>\n",
       "    </tr>\n",
       "    <tr>\n",
       "      <th>4</th>\n",
       "      <td>9</td>\n",
       "      <td>150750</td>\n",
       "      <td>220597</td>\n",
       "      <td>2149-11-11 19:00:00</td>\n",
       "      <td>mmHg</td>\n",
       "      <td>MeanArtPress</td>\n",
       "      <td>72.0</td>\n",
       "    </tr>\n",
       "    <tr>\n",
       "      <th>5</th>\n",
       "      <td>9</td>\n",
       "      <td>150750</td>\n",
       "      <td>220597</td>\n",
       "      <td>2149-11-11 19:45:00</td>\n",
       "      <td>mmHg</td>\n",
       "      <td>MeanArtPress</td>\n",
       "      <td>76.0</td>\n",
       "    </tr>\n",
       "    <tr>\n",
       "      <th>6</th>\n",
       "      <td>9</td>\n",
       "      <td>150750</td>\n",
       "      <td>220597</td>\n",
       "      <td>2149-11-11 20:00:00</td>\n",
       "      <td>mmHg</td>\n",
       "      <td>MeanArtPress</td>\n",
       "      <td>99.0</td>\n",
       "    </tr>\n",
       "    <tr>\n",
       "      <th>17</th>\n",
       "      <td>25</td>\n",
       "      <td>129635</td>\n",
       "      <td>203487</td>\n",
       "      <td>2160-11-02 15:00:00</td>\n",
       "      <td>mmHg</td>\n",
       "      <td>MeanArtPress</td>\n",
       "      <td>82.0</td>\n",
       "    </tr>\n",
       "  </tbody>\n",
       "</table>\n",
       "</div>"
      ],
      "text/plain": [
       "    subject_id  hadm_id  icustay_id           charttime valueuom  \\\n",
       "3            9   150750      220597 2149-11-11 00:00:00     mmHg   \n",
       "4            9   150750      220597 2149-11-11 19:00:00     mmHg   \n",
       "5            9   150750      220597 2149-11-11 19:45:00     mmHg   \n",
       "6            9   150750      220597 2149-11-11 20:00:00     mmHg   \n",
       "17          25   129635      203487 2160-11-02 15:00:00     mmHg   \n",
       "\n",
       "         vitalid  valuenum  \n",
       "3   MeanArtPress      81.0  \n",
       "4   MeanArtPress      72.0  \n",
       "5   MeanArtPress      76.0  \n",
       "6   MeanArtPress      99.0  \n",
       "17  MeanArtPress      82.0  "
      ]
     },
     "execution_count": 14,
     "metadata": {},
     "output_type": "execute_result"
    },
    {
     "name": "stdout",
     "output_type": "stream",
     "text": [
      "time: 1.78 s\n"
     ]
    }
   ],
   "source": [
    "vitals_all_nosummary_df.head()"
   ]
  },
  {
   "cell_type": "code",
   "execution_count": 15,
   "metadata": {},
   "outputs": [
    {
     "data": {
      "text/html": [
       "<div>\n",
       "<style scoped>\n",
       "    .dataframe tbody tr th:only-of-type {\n",
       "        vertical-align: middle;\n",
       "    }\n",
       "\n",
       "    .dataframe tbody tr th {\n",
       "        vertical-align: top;\n",
       "    }\n",
       "\n",
       "    .dataframe thead th {\n",
       "        text-align: right;\n",
       "    }\n",
       "</style>\n",
       "<table border=\"1\" class=\"dataframe\">\n",
       "  <thead>\n",
       "    <tr style=\"text-align: right;\">\n",
       "      <th></th>\n",
       "      <th>subject_id</th>\n",
       "      <th>hadm_id</th>\n",
       "      <th>icustay_id</th>\n",
       "      <th>charttime</th>\n",
       "      <th>valueuom</th>\n",
       "      <th>vitalid</th>\n",
       "      <th>valuenum</th>\n",
       "    </tr>\n",
       "  </thead>\n",
       "  <tbody>\n",
       "    <tr>\n",
       "      <th>3</th>\n",
       "      <td>9</td>\n",
       "      <td>150750</td>\n",
       "      <td>220597</td>\n",
       "      <td>2149-11-11 00:00:00</td>\n",
       "      <td>mmHg</td>\n",
       "      <td>MeanArtPress</td>\n",
       "      <td>81.0</td>\n",
       "    </tr>\n",
       "    <tr>\n",
       "      <th>4</th>\n",
       "      <td>9</td>\n",
       "      <td>150750</td>\n",
       "      <td>220597</td>\n",
       "      <td>2149-11-11 19:00:00</td>\n",
       "      <td>mmHg</td>\n",
       "      <td>MeanArtPress</td>\n",
       "      <td>72.0</td>\n",
       "    </tr>\n",
       "    <tr>\n",
       "      <th>5</th>\n",
       "      <td>9</td>\n",
       "      <td>150750</td>\n",
       "      <td>220597</td>\n",
       "      <td>2149-11-11 19:45:00</td>\n",
       "      <td>mmHg</td>\n",
       "      <td>MeanArtPress</td>\n",
       "      <td>76.0</td>\n",
       "    </tr>\n",
       "    <tr>\n",
       "      <th>6</th>\n",
       "      <td>9</td>\n",
       "      <td>150750</td>\n",
       "      <td>220597</td>\n",
       "      <td>2149-11-11 20:00:00</td>\n",
       "      <td>mmHg</td>\n",
       "      <td>MeanArtPress</td>\n",
       "      <td>99.0</td>\n",
       "    </tr>\n",
       "    <tr>\n",
       "      <th>17</th>\n",
       "      <td>25</td>\n",
       "      <td>129635</td>\n",
       "      <td>203487</td>\n",
       "      <td>2160-11-02 15:00:00</td>\n",
       "      <td>mmHg</td>\n",
       "      <td>MeanArtPress</td>\n",
       "      <td>82.0</td>\n",
       "    </tr>\n",
       "  </tbody>\n",
       "</table>\n",
       "</div>"
      ],
      "text/plain": [
       "    subject_id  hadm_id  icustay_id           charttime valueuom  \\\n",
       "3            9   150750      220597 2149-11-11 00:00:00     mmHg   \n",
       "4            9   150750      220597 2149-11-11 19:00:00     mmHg   \n",
       "5            9   150750      220597 2149-11-11 19:45:00     mmHg   \n",
       "6            9   150750      220597 2149-11-11 20:00:00     mmHg   \n",
       "17          25   129635      203487 2160-11-02 15:00:00     mmHg   \n",
       "\n",
       "         vitalid  valuenum  \n",
       "3   MeanArtPress      81.0  \n",
       "4   MeanArtPress      72.0  \n",
       "5   MeanArtPress      76.0  \n",
       "6   MeanArtPress      99.0  \n",
       "17  MeanArtPress      82.0  "
      ]
     },
     "execution_count": 15,
     "metadata": {},
     "output_type": "execute_result"
    },
    {
     "name": "stdout",
     "output_type": "stream",
     "text": [
      "time: 13.7 ms\n"
     ]
    }
   ],
   "source": [
    "vitals_all_nosummary_df.head()"
   ]
  },
  {
   "cell_type": "code",
   "execution_count": 16,
   "metadata": {},
   "outputs": [
    {
     "name": "stdout",
     "output_type": "stream",
     "text": [
      "time: 12 ms\n"
     ]
    }
   ],
   "source": [
    "# vitals_all_nosummary_df = vitals_all_nosummary_df.rename(index=str, columns={\"valueuom\":\"uom\"}) #change valueom to uom\n",
    "# vitals_all_nosummary_nonull = vitals_all_nosummary_df.loc[vitals_all_nosummary_df['vitalid'].notnull(),:]#.count() #6930 NULL values\n",
    "\n",
    "# vitals_all_nosummary_nonull.loc[vitals_all_nosummary_nonull.loc[:,'uom']=='BPM','uom']='bpm'\n",
    "\n",
    "# #overall the values are extremely similar and are likely the same thing\n",
    "# #i will combine them.\n",
    "# vitals_all_nosummary_nonull.loc[\n",
    "#     (vitals_all_nosummary_nonull['vitalid']=='RespRate') & \n",
    "#     (vitals_all_nosummary_nonull['uom']=='bpm'),'uom']='insp/min'\n",
    "\n",
    "# vitals_all_nosummary_nonull.loc[\n",
    "#     (vitals_all_nosummary_nonull['vitalid']=='TempC') & \n",
    "#     (vitals_all_nosummary_nonull['uom']=='?C'),'uom']='Deg. C'\n",
    "\n",
    "# vitals_all_nosummary_nonull.loc[\n",
    "#     (vitals_all_nosummary_nonull['vitalid']=='TempF') & \n",
    "#     (vitals_all_nosummary_nonull['uom']=='Deg. F'),'uom']='Deg. C'\n",
    "\n",
    "# vitals_all_nosummary_nonull.loc[\n",
    "#     (vitals_all_nosummary_nonull['vitalid']=='TempF') & \n",
    "#     (vitals_all_nosummary_nonull['uom']=='?F'),'uom']='Deg. C'\n",
    "\n",
    "\n",
    "# vitals_all_nosummary_nonull.loc[\n",
    "#     (vitals_all_nosummary_nonull['vitalid']=='TempF'),'vitalid']='TempC'"
   ]
  },
  {
   "cell_type": "markdown",
   "metadata": {},
   "source": [
    "## Glasgow Coma Scale"
   ]
  },
  {
   "cell_type": "code",
   "execution_count": 17,
   "metadata": {
    "scrolled": true
   },
   "outputs": [
    {
     "name": "stdout",
     "output_type": "stream",
     "text": [
      "(8731, 8)\n",
      "time: 1min 38s\n"
     ]
    }
   ],
   "source": [
    "gcsall_df= clinvar_fxn(\n",
    "    'gcsall',\n",
    "    '/Users/geickelb1/Documents/GitHub/mimiciii-antibiotics-modeling/data/raw/clinical_var_sql/all/gcsall.sql' \n",
    ")"
   ]
  },
  {
   "cell_type": "code",
   "execution_count": 18,
   "metadata": {},
   "outputs": [
    {
     "name": "stdout",
     "output_type": "stream",
     "text": [
      "(8731, 9)\n",
      "time: 56.3 s\n"
     ]
    }
   ],
   "source": [
    "#modified on 8/28/18 to have the days annotation.\n",
    "##--8/28/18: added in epoch as days, in order to help determine btwn t_0 and 72 hour for pts.\n",
    "gcsall_days_df= clinvar_fxn(\n",
    "    'gcsall_days',\n",
    "    '/Users/geickelb1/Documents/GitHub/mimiciii-antibiotics-modeling/data/raw/clinical_var_sql/all/gcsall_days.sql' \n",
    ")\n",
    "\n"
   ]
  },
  {
   "cell_type": "code",
   "execution_count": 19,
   "metadata": {},
   "outputs": [
    {
     "name": "stdout",
     "output_type": "stream",
     "text": [
      "time: 38.3 ms\n"
     ]
    }
   ],
   "source": [
    "#need to add in admit time to pts\n",
    "def gcs_72(gcsall_days_df,final_pt_df2):\n",
    "    gcsall_days_df_merge= pd.merge(\n",
    "    gcsall_days_df,\n",
    "    final_pt_df2[['icustay_id','ICU_admit','t_0']],\n",
    "    left_on='icustay_id',\n",
    "    right_on='icustay_id')\n",
    "\n",
    "    gcsall_days_df_merge['admit_plus_day']= (\n",
    "        pd.to_datetime(gcsall_days_df_merge['ICU_admit'])\n",
    "        + pd.to_timedelta(gcsall_days_df_merge['day'], unit='D')\n",
    "    )\n",
    "\n",
    "    gcsall_days_df_merge['delta']= (\n",
    "        pd.to_datetime(gcsall_days_df_merge['admit_plus_day']) - pd.to_datetime(gcsall_days_df_merge['t_0'])\n",
    "    )\n",
    "    gcsall_days_df_merge_72= (\n",
    "        gcsall_days_df_merge.loc[gcsall_days_df_merge.loc[:,'delta']>= pd.Timedelta(days=0),:])\n",
    "    gcsall_days_df_merge_72= (\n",
    "        gcsall_days_df_merge_72.loc[gcsall_days_df_merge_72.loc[:,'delta']<= pd.Timedelta(days=3),:])\n",
    "    return(gcsall_days_df_merge_72)"
   ]
  },
  {
   "cell_type": "code",
   "execution_count": 20,
   "metadata": {},
   "outputs": [
    {
     "name": "stdout",
     "output_type": "stream",
     "text": [
      "time: 753 ms\n"
     ]
    }
   ],
   "source": [
    "gcs72_df = gcs_72(gcsall_days_df,final_pt_df2)\n",
    "\n",
    "gcs72_df['uom']='GCS_score' #adding in uom"
   ]
  },
  {
   "cell_type": "code",
   "execution_count": 21,
   "metadata": {},
   "outputs": [
    {
     "name": "stdout",
     "output_type": "stream",
     "text": [
      "time: 711 µs\n"
     ]
    }
   ],
   "source": [
    "# date= '27082018'\n",
    "\n",
    "# pd.DataFrame(gcs72_df).to_csv(\n",
    "#     '/Users/geickelb1/Documents/GitHub/mimiciii-antibiotics-modeling/data/raw/csv/%s_gcs72_df.csv' %(date))"
   ]
  },
  {
   "cell_type": "markdown",
   "metadata": {},
   "source": [
    "## Renal replacement therapy"
   ]
  },
  {
   "cell_type": "code",
   "execution_count": null,
   "metadata": {},
   "outputs": [],
   "source": []
  },
  {
   "cell_type": "code",
   "execution_count": 22,
   "metadata": {
    "scrolled": true
   },
   "outputs": [
    {
     "name": "stdout",
     "output_type": "stream",
     "text": [
      "time: 677 µs\n"
     ]
    }
   ],
   "source": [
    "# rrt_all_df= clinvar_fxn(\n",
    "#     'rrt_all',\n",
    "#     '/Users/geickelb1/Documents/GitHub/mimiciii-antibiotics-modeling/data/raw/clinical_var_sql/all/rrt_all.sql' \n",
    "# )"
   ]
  },
  {
   "cell_type": "markdown",
   "metadata": {},
   "source": [
    "the sql code for this was not equipped to join all of the charttimes together. so i decided to do it in python below.\n",
    "the rrt_all_df code above was only a 1 or 0 if patient had RRT during their entire icu stay. \n",
    "\n",
    "- step 1: run all sql codes\n",
    "- 2: filter on only the t_0 to t_72 hour rows\n",
    "- 3: filter on the 1223 patients who have a positive value\n",
    "- 4: get the earliest incidence of rrt for each 1223 patients. "
   ]
  },
  {
   "cell_type": "code",
   "execution_count": 23,
   "metadata": {},
   "outputs": [
    {
     "name": "stdout",
     "output_type": "stream",
     "text": [
      "time: 16.3 s\n"
     ]
    }
   ],
   "source": [
    "#mv_ce\n",
    "f = open('/Users/geickelb1/Documents/GitHub/mimiciii-antibiotics-modeling/data/raw/clinical_var_sql/all/no_summary/rtt_mv_ce.sql', 'r')\n",
    "rrtSQL_mv_ce = f.read()\n",
    "rrtSQL_mv_ce_sql = query_schema + rrtSQL_mv_ce.format(tuple(patients))\n",
    "rrtSQL_mv_ce_df=pd.read_sql_query(rrtSQL_mv_ce_sql,conn)            "
   ]
  },
  {
   "cell_type": "code",
   "execution_count": 24,
   "metadata": {},
   "outputs": [
    {
     "name": "stdout",
     "output_type": "stream",
     "text": [
      "time: 26.2 s\n"
     ]
    }
   ],
   "source": [
    "#cv\n",
    "f = open('/Users/geickelb1/Documents/GitHub/mimiciii-antibiotics-modeling/data/raw/clinical_var_sql/all/no_summary/rtt_cv.sql', 'r')\n",
    "rrtSQL_cv = f.read()\n",
    "rrtSQL_cv_sql = query_schema + rrtSQL_cv.format(tuple(patients))\n",
    "rrtSQL_cv_df=pd.read_sql_query(rrtSQL_cv_sql,conn)          "
   ]
  },
  {
   "cell_type": "code",
   "execution_count": 25,
   "metadata": {},
   "outputs": [
    {
     "name": "stdout",
     "output_type": "stream",
     "text": [
      "time: 3.15 s\n"
     ]
    }
   ],
   "source": [
    "#mv_ie\n",
    "f = open('/Users/geickelb1/Documents/GitHub/mimiciii-antibiotics-modeling/data/raw/clinical_var_sql/all/no_summary/rtt_mv_ie.sql', 'r')\n",
    "rrtSQL_mv_ie = f.read()\n",
    "rrtSQL_mv_ie_sql = query_schema + rrtSQL_mv_ie.format(tuple(patients))\n",
    "rrtSQL_mv_ie_df=pd.read_sql_query(rrtSQL_mv_ie_sql,conn)      \n",
    "rrtSQL_mv_ie_df['charttime']= rrtSQL_mv_ie_df['starttime']\n",
    "rrtSQL_mv_ie_df=rrtSQL_mv_ie_df.drop('starttime', axis=1)"
   ]
  },
  {
   "cell_type": "code",
   "execution_count": 26,
   "metadata": {},
   "outputs": [
    {
     "name": "stdout",
     "output_type": "stream",
     "text": [
      "time: 2.03 s\n"
     ]
    }
   ],
   "source": [
    "#mv_de\n",
    "f = open('/Users/geickelb1/Documents/GitHub/mimiciii-antibiotics-modeling/data/raw/clinical_var_sql/all/no_summary/rtt_mv_de.sql', 'r')\n",
    "rrtSQL_mv_de = f.read()\n",
    "rrtSQL_mv_de_sql = query_schema + rrtSQL_mv_de.format(tuple(patients))\n",
    "rrtSQL_mv_de_df=pd.read_sql_query(rrtSQL_mv_de_sql,conn)          "
   ]
  },
  {
   "cell_type": "code",
   "execution_count": 27,
   "metadata": {},
   "outputs": [
    {
     "name": "stdout",
     "output_type": "stream",
     "text": [
      "time: 303 ms\n"
     ]
    }
   ],
   "source": [
    "#mv_pe\n",
    "f = open('/Users/geickelb1/Documents/GitHub/mimiciii-antibiotics-modeling/data/raw/clinical_var_sql/all/no_summary/rtt_mv_pe.sql', 'r')\n",
    "rrtSQL_mv_pe = f.read()\n",
    "rrtSQL_mv_pe_sql = query_schema + rrtSQL_mv_pe.format(tuple(patients))\n",
    "rrtSQL_mv_pe_df=pd.read_sql_query(rrtSQL_mv_pe_sql,conn)          \n",
    "rrtSQL_mv_pe_df['charttime']= rrtSQL_mv_pe_df['starttime']\n",
    "rrtSQL_mv_pe_df=rrtSQL_mv_pe_df.drop('starttime', axis=1)"
   ]
  },
  {
   "cell_type": "code",
   "execution_count": 28,
   "metadata": {},
   "outputs": [
    {
     "name": "stdout",
     "output_type": "stream",
     "text": [
      "time: 6.88 ms\n"
     ]
    }
   ],
   "source": [
    "def hour_72_window_rrt(df, final_pt_df2,timevar):\n",
    "\n",
    "    df= pd.merge(final_pt_df2[['icustay_id','t_0']], df, left_on= 'icustay_id', right_on = 'icustay_id', how='left') #n=240317\n",
    "    df['delta']= pd.to_datetime(df[timevar]) - pd.to_datetime(df['t_0'])\n",
    "    df_after_t0= df.loc[df.loc[:,'delta']>= pd.Timedelta(days=0),:]\n",
    "    df_after_t0= df_after_t0.loc[df_after_t0.loc[:,'delta']<= pd.Timedelta(days=3),:] \n",
    "    #df_after_t0= df_after_t0.loc[df_after_t0.loc[:,'rrt']==1,:].groupby('icustay_id')['charttime'].min()\n",
    "\n",
    "    return(pd.DataFrame(df_after_t0))#.reset_index())"
   ]
  },
  {
   "cell_type": "code",
   "execution_count": 29,
   "metadata": {},
   "outputs": [
    {
     "name": "stdout",
     "output_type": "stream",
     "text": [
      "time: 614 ms\n"
     ]
    }
   ],
   "source": [
    "rrtSQL_mv_ce_pt =hour_72_window_rrt(rrtSQL_mv_ce_df, final_pt_df2, 'charttime')\n",
    "rrtSQL_cv_pt =hour_72_window_rrt(rrtSQL_cv_df, final_pt_df2, 'charttime')\n",
    "rrtSQL_mv_ie_pt =hour_72_window_rrt(rrtSQL_mv_ie_df, final_pt_df2, 'charttime')\n",
    "rrtSQL_mv_de_pt =hour_72_window_rrt(rrtSQL_mv_de_df, final_pt_df2, 'charttime')\n",
    "rrtSQL_mv_pe_pt =hour_72_window_rrt(rrtSQL_mv_pe_df, final_pt_df2, 'charttime')"
   ]
  },
  {
   "cell_type": "code",
   "execution_count": 31,
   "metadata": {},
   "outputs": [
    {
     "name": "stderr",
     "output_type": "stream",
     "text": [
      "/Users/geickelb1/anaconda/envs/rpy-env/lib/python3.6/site-packages/ipykernel_launcher.py:1: FutureWarning: Sorting because non-concatenation axis is not aligned. A future version\n",
      "of pandas will change to not sort by default.\n",
      "\n",
      "To accept the future behavior, pass 'sort=False'.\n",
      "\n",
      "To retain the current behavior and silence the warning, pass 'sort=True'.\n",
      "\n",
      "  \"\"\"Entry point for launching an IPython kernel.\n"
     ]
    },
    {
     "ename": "NameError",
     "evalue": "name 'rrt_merged' is not defined",
     "output_type": "error",
     "traceback": [
      "\u001b[0;31m---------------------------------------------------------------------------\u001b[0m",
      "\u001b[0;31mNameError\u001b[0m                                 Traceback (most recent call last)",
      "\u001b[0;32m<ipython-input-31-5ad43bcff134>\u001b[0m in \u001b[0;36m<module>\u001b[0;34m()\u001b[0m\n\u001b[1;32m      1\u001b[0m \u001b[0mrrt_merged_pt\u001b[0m\u001b[0;34m=\u001b[0m \u001b[0mpd\u001b[0m\u001b[0;34m.\u001b[0m\u001b[0mconcat\u001b[0m\u001b[0;34m(\u001b[0m\u001b[0;34m[\u001b[0m\u001b[0mrrtSQL_mv_ce_pt\u001b[0m\u001b[0;34m,\u001b[0m \u001b[0mrrtSQL_cv_pt\u001b[0m\u001b[0;34m,\u001b[0m \u001b[0mrrtSQL_mv_ie_pt\u001b[0m\u001b[0;34m,\u001b[0m \u001b[0mrrtSQL_mv_de_pt\u001b[0m\u001b[0;34m,\u001b[0m \u001b[0mrrtSQL_mv_pe_pt\u001b[0m\u001b[0;34m]\u001b[0m\u001b[0;34m)\u001b[0m\u001b[0;34m\u001b[0m\u001b[0m\n\u001b[0;32m----> 2\u001b[0;31m \u001b[0mrrt_merged_pt\u001b[0m\u001b[0;34m=\u001b[0m \u001b[0mpd\u001b[0m\u001b[0;34m.\u001b[0m\u001b[0mDataFrame\u001b[0m\u001b[0;34m(\u001b[0m\u001b[0mrrt_merged\u001b[0m\u001b[0;34m.\u001b[0m\u001b[0mloc\u001b[0m\u001b[0;34m[\u001b[0m\u001b[0mrrt_merged\u001b[0m\u001b[0;34m.\u001b[0m\u001b[0mloc\u001b[0m\u001b[0;34m[\u001b[0m\u001b[0;34m:\u001b[0m\u001b[0;34m,\u001b[0m\u001b[0;34m'rrt'\u001b[0m\u001b[0;34m]\u001b[0m\u001b[0;34m==\u001b[0m\u001b[0;36m1\u001b[0m\u001b[0;34m,\u001b[0m\u001b[0;34m:\u001b[0m\u001b[0;34m]\u001b[0m\u001b[0;34m.\u001b[0m\u001b[0mgroupby\u001b[0m\u001b[0;34m(\u001b[0m\u001b[0;34m'icustay_id'\u001b[0m\u001b[0;34m)\u001b[0m\u001b[0;34m[\u001b[0m\u001b[0;34m'charttime'\u001b[0m\u001b[0;34m]\u001b[0m\u001b[0;34m.\u001b[0m\u001b[0mmin\u001b[0m\u001b[0;34m(\u001b[0m\u001b[0;34m)\u001b[0m\u001b[0;34m.\u001b[0m\u001b[0mreset_index\u001b[0m\u001b[0;34m(\u001b[0m\u001b[0;34m)\u001b[0m\u001b[0;34m)\u001b[0m\u001b[0;34m\u001b[0m\u001b[0m\n\u001b[0m\u001b[1;32m      3\u001b[0m \u001b[0mrrt_merged_pt\u001b[0m\u001b[0;34m[\u001b[0m\u001b[0;34m'rrt'\u001b[0m\u001b[0;34m]\u001b[0m\u001b[0;34m=\u001b[0m\u001b[0;36m1\u001b[0m\u001b[0;34m\u001b[0m\u001b[0m\n\u001b[1;32m      4\u001b[0m \u001b[0;34m\u001b[0m\u001b[0m\n\u001b[1;32m      5\u001b[0m \u001b[0mrrt_merged_allpt_df\u001b[0m\u001b[0;34m=\u001b[0m \u001b[0mpd\u001b[0m\u001b[0;34m.\u001b[0m\u001b[0mmerge\u001b[0m\u001b[0;34m(\u001b[0m\u001b[0mfinal_pt_df2\u001b[0m\u001b[0;34m[\u001b[0m\u001b[0;34m[\u001b[0m\u001b[0;34m'icustay_id'\u001b[0m\u001b[0;34m,\u001b[0m\u001b[0;34m't_0'\u001b[0m\u001b[0;34m]\u001b[0m\u001b[0;34m]\u001b[0m\u001b[0;34m,\u001b[0m \u001b[0mrrt_merged_pt\u001b[0m\u001b[0;34m,\u001b[0m \u001b[0mleft_on\u001b[0m\u001b[0;34m=\u001b[0m \u001b[0;34m'icustay_id'\u001b[0m\u001b[0;34m,\u001b[0m \u001b[0mright_on\u001b[0m \u001b[0;34m=\u001b[0m \u001b[0;34m'icustay_id'\u001b[0m\u001b[0;34m,\u001b[0m \u001b[0mhow\u001b[0m\u001b[0;34m=\u001b[0m\u001b[0;34m'left'\u001b[0m\u001b[0;34m)\u001b[0m \u001b[0;31m#n=240317\u001b[0m\u001b[0;34m\u001b[0m\u001b[0m\n",
      "\u001b[0;31mNameError\u001b[0m: name 'rrt_merged' is not defined"
     ]
    },
    {
     "name": "stdout",
     "output_type": "stream",
     "text": [
      "time: 27.5 ms\n"
     ]
    }
   ],
   "source": [
    "rrt_merged_pt= pd.concat([rrtSQL_mv_ce_pt, rrtSQL_cv_pt, rrtSQL_mv_ie_pt, rrtSQL_mv_de_pt, rrtSQL_mv_pe_pt])\n",
    "rrt_merged_pt= pd.DataFrame(rrt_merged.loc[rrt_merged.loc[:,'rrt']==1,:].groupby('icustay_id')['charttime'].min().reset_index())\n",
    "rrt_merged_pt['rrt']=1\n",
    "\n",
    "rrt_merged_allpt_df= pd.merge(final_pt_df2[['icustay_id','t_0']], rrt_merged_pt, left_on= 'icustay_id', right_on = 'icustay_id', how='left') #n=240317\n",
    "rrt_merged_allpt_df=rrt_merged_allpt_df.rename(index=str, columns={\"charttime\":\"first_charttime\"})\n",
    "\n",
    "rrt_merged_allpt_df['uom']='category' #adding a uom category\n",
    "\n",
    "\n",
    "###RRTMERGED NOT WORKING"
   ]
  },
  {
   "cell_type": "code",
   "execution_count": null,
   "metadata": {},
   "outputs": [],
   "source": [
    "rrt_merged_allpt_df_notnull = rrt_merged_allpt_df.loc[rrt_merged_allpt_df['rrt'].notnull(),:]"
   ]
  },
  {
   "cell_type": "code",
   "execution_count": null,
   "metadata": {},
   "outputs": [],
   "source": [
    "#rrt_merged_allpt_df #n=1223 patients with positive rrt. charttime listed in this sheet is the first instance in t_0:t_72"
   ]
  },
  {
   "cell_type": "code",
   "execution_count": null,
   "metadata": {},
   "outputs": [],
   "source": [
    "# date= '27082018'\n",
    "\n",
    "# pd.DataFrame(rrt_merged_allpt_df).to_csv(\n",
    "#     '/Users/geickelb1/Documents/GitHub/mimiciii-antibiotics-modeling/data/raw/csv/%s_rrt_merged_allpt_df.csv' %(date))"
   ]
  },
  {
   "cell_type": "markdown",
   "metadata": {},
   "source": [
    "## Urine Output"
   ]
  },
  {
   "cell_type": "code",
   "execution_count": 34,
   "metadata": {
    "scrolled": true
   },
   "outputs": [
    {
     "name": "stdout",
     "output_type": "stream",
     "text": [
      "(53181, 5)\n",
      "time: 11.2 s\n"
     ]
    }
   ],
   "source": [
    "urine_output_all_df= clinvar_fxn(\n",
    "    'urine_output_all',\n",
    "    '/Users/geickelb1/Documents/GitHub/mimiciii-antibiotics-modeling/data/raw/clinical_var_sql/all/urine_output_all.sql' \n",
    ")"
   ]
  },
  {
   "cell_type": "markdown",
   "metadata": {},
   "source": [
    "# UTI related variables"
   ]
  },
  {
   "cell_type": "code",
   "execution_count": 35,
   "metadata": {},
   "outputs": [
    {
     "name": "stdout",
     "output_type": "stream",
     "text": [
      "(501177, 12)\n",
      "time: 2min 25s\n"
     ]
    }
   ],
   "source": [
    "uti_all_df= clinvar_fxn(\n",
    "    'uti_all',\n",
    "    '/Users/geickelb1/Documents/GitHub/mimiciii-antibiotics-modeling/data/raw/clinical_var_sql/all/uti_all.sql' \n",
    ")"
   ]
  },
  {
   "cell_type": "markdown",
   "metadata": {},
   "source": [
    "## Blood Gas Test"
   ]
  },
  {
   "cell_type": "code",
   "execution_count": 36,
   "metadata": {},
   "outputs": [
    {
     "name": "stdout",
     "output_type": "stream",
     "text": [
      "time: 22.5 ms\n"
     ]
    }
   ],
   "source": [
    "def PaO2(bg_all_nosummary_df):\n",
    "    \"\"\"\n",
    "    overview: replaces the PO2 label with PaO2 on all instances (defined as sharing icustay_id and charttime being equal)\n",
    "        where the specimen label == 'ART'\n",
    "        \n",
    "    input: bloodgas dataframe with values annotated. \n",
    "    output: bloodgas dataframe with values annotated where PO2 label is replaced with PaO2 according to above criteria\n",
    "    \"\"\"\n",
    "    \n",
    "    #making a unique varaible to search for and mark all rows where time and icustay_id has an art flag\n",
    "    bg_all_nosummary_df['unique_var']= bg_all_nosummary_df['icustay_id'].map(str) +  bg_all_nosummary_df['charttime'].map(str)\n",
    "\n",
    "    #making subset dataframe for label == SPECIMEN \n",
    "    bg_all_nosummary_specimen= bg_all_nosummary_df.loc[bg_all_nosummary_df.loc[:,'label']=='SPECIMEN',:]\n",
    "    \n",
    "    #all ART related rows: unique_var for all rows where label== SPECIMEN\n",
    "    bg_all_nosummary_ART = bg_all_nosummary_specimen[bg_all_nosummary_specimen['value']=='ART'] \n",
    "    bg_all_nosummary_ART_list= list(bg_all_nosummary_ART['unique_var'].unique())\n",
    "\n",
    "    #two criteria needed to change the PO2 to PaO2 label.\n",
    "    criteria1=(bg_all_nosummary_df['label'] == 'PO2')\n",
    "    criteria2=(bg_all_nosummary_df['unique_var'].isin(bg_all_nosummary_ART_list))\n",
    "    \n",
    "    #making changes\n",
    "    bg_all_nosummary_df.loc[(criteria2 & criteria1),'label']= 'PaO2'\n",
    "    \n",
    "    return(bg_all_nosummary_df)"
   ]
  },
  {
   "cell_type": "code",
   "execution_count": 37,
   "metadata": {
    "collapsed": true
   },
   "outputs": [
    {
     "name": "stdout",
     "output_type": "stream",
     "text": [
      "(1213548, 8)\n",
      "time: 2min 27s\n"
     ]
    }
   ],
   "source": [
    "bg_all_nosummary_df= clinvar_fxn(\n",
    "    'bg_all_nosummary',\n",
    "    '/Users/geickelb1/Documents/GitHub/mimiciii-antibiotics-modeling/data/raw/clinical_var_sql/all/no_summary/bg_all_nosummary.sql' \n",
    ") \n",
    "bg_all_nosummary_df = PaO2(bg_all_nosummary_df)\n"
   ]
  },
  {
   "cell_type": "code",
   "execution_count": 38,
   "metadata": {},
   "outputs": [
    {
     "data": {
      "text/html": [
       "<div>\n",
       "<style scoped>\n",
       "    .dataframe tbody tr th:only-of-type {\n",
       "        vertical-align: middle;\n",
       "    }\n",
       "\n",
       "    .dataframe tbody tr th {\n",
       "        vertical-align: top;\n",
       "    }\n",
       "\n",
       "    .dataframe thead th {\n",
       "        text-align: right;\n",
       "    }\n",
       "</style>\n",
       "<table border=\"1\" class=\"dataframe\">\n",
       "  <thead>\n",
       "    <tr style=\"text-align: right;\">\n",
       "      <th></th>\n",
       "      <th>subject_id</th>\n",
       "      <th>hadm_id</th>\n",
       "      <th>icustay_id</th>\n",
       "      <th>charttime</th>\n",
       "      <th>label</th>\n",
       "      <th>valuenum</th>\n",
       "      <th>value</th>\n",
       "      <th>valueuom</th>\n",
       "      <th>unique_var</th>\n",
       "    </tr>\n",
       "  </thead>\n",
       "  <tbody>\n",
       "    <tr>\n",
       "      <th>607</th>\n",
       "      <td>9</td>\n",
       "      <td>150750</td>\n",
       "      <td>220597</td>\n",
       "      <td>2149-11-09 17:47:00</td>\n",
       "      <td>BASEEXCESS</td>\n",
       "      <td>1.0</td>\n",
       "      <td>1</td>\n",
       "      <td>mEq/L</td>\n",
       "      <td>2205972149-11-09 17:47:00</td>\n",
       "    </tr>\n",
       "    <tr>\n",
       "      <th>608</th>\n",
       "      <td>9</td>\n",
       "      <td>150750</td>\n",
       "      <td>220597</td>\n",
       "      <td>2149-11-09 17:47:00</td>\n",
       "      <td>CHLORIDE</td>\n",
       "      <td>103.0</td>\n",
       "      <td>103</td>\n",
       "      <td>mEq/L</td>\n",
       "      <td>2205972149-11-09 17:47:00</td>\n",
       "    </tr>\n",
       "    <tr>\n",
       "      <th>609</th>\n",
       "      <td>9</td>\n",
       "      <td>150750</td>\n",
       "      <td>220597</td>\n",
       "      <td>2149-11-09 17:47:00</td>\n",
       "      <td>FIO2</td>\n",
       "      <td>60.0</td>\n",
       "      <td>60</td>\n",
       "      <td>None</td>\n",
       "      <td>2205972149-11-09 17:47:00</td>\n",
       "    </tr>\n",
       "    <tr>\n",
       "      <th>610</th>\n",
       "      <td>9</td>\n",
       "      <td>150750</td>\n",
       "      <td>220597</td>\n",
       "      <td>2149-11-09 17:47:00</td>\n",
       "      <td>GLUCOSE</td>\n",
       "      <td>178.0</td>\n",
       "      <td>178</td>\n",
       "      <td>mg/dL</td>\n",
       "      <td>2205972149-11-09 17:47:00</td>\n",
       "    </tr>\n",
       "    <tr>\n",
       "      <th>611</th>\n",
       "      <td>9</td>\n",
       "      <td>150750</td>\n",
       "      <td>220597</td>\n",
       "      <td>2149-11-09 17:47:00</td>\n",
       "      <td>HEMATOCRIT</td>\n",
       "      <td>42.0</td>\n",
       "      <td>42</td>\n",
       "      <td>%</td>\n",
       "      <td>2205972149-11-09 17:47:00</td>\n",
       "    </tr>\n",
       "  </tbody>\n",
       "</table>\n",
       "</div>"
      ],
      "text/plain": [
       "     subject_id  hadm_id  icustay_id           charttime       label  \\\n",
       "607           9   150750      220597 2149-11-09 17:47:00  BASEEXCESS   \n",
       "608           9   150750      220597 2149-11-09 17:47:00    CHLORIDE   \n",
       "609           9   150750      220597 2149-11-09 17:47:00        FIO2   \n",
       "610           9   150750      220597 2149-11-09 17:47:00     GLUCOSE   \n",
       "611           9   150750      220597 2149-11-09 17:47:00  HEMATOCRIT   \n",
       "\n",
       "     valuenum value valueuom                 unique_var  \n",
       "607       1.0     1    mEq/L  2205972149-11-09 17:47:00  \n",
       "608     103.0   103    mEq/L  2205972149-11-09 17:47:00  \n",
       "609      60.0    60     None  2205972149-11-09 17:47:00  \n",
       "610     178.0   178    mg/dL  2205972149-11-09 17:47:00  \n",
       "611      42.0    42        %  2205972149-11-09 17:47:00  "
      ]
     },
     "execution_count": 38,
     "metadata": {},
     "output_type": "execute_result"
    },
    {
     "name": "stdout",
     "output_type": "stream",
     "text": [
      "time: 13.2 ms\n"
     ]
    }
   ],
   "source": [
    "bg_all_nosummary_df.head()"
   ]
  },
  {
   "cell_type": "markdown",
   "metadata": {},
   "source": [
    "## Vaso_active therapies"
   ]
  },
  {
   "cell_type": "code",
   "execution_count": 42,
   "metadata": {},
   "outputs": [
    {
     "ename": "ProgrammingError",
     "evalue": "relation \"weightdurations\" does not exist\nLINE 34:   left join weightdurations wd\n                     ^\n",
     "output_type": "error",
     "traceback": [
      "\u001b[0;31m---------------------------------------------------------------------------\u001b[0m",
      "\u001b[0;31mProgrammingError\u001b[0m                          Traceback (most recent call last)",
      "\u001b[0;32m<ipython-input-42-af74330a103d>\u001b[0m in \u001b[0;36m<module>\u001b[0;34m()\u001b[0m\n\u001b[1;32m      8\u001b[0m epi_dose_df= clinvar_fxn(\n\u001b[1;32m      9\u001b[0m     \u001b[0;34m'epinephrine_dose'\u001b[0m\u001b[0;34m,\u001b[0m\u001b[0;34m\u001b[0m\u001b[0m\n\u001b[0;32m---> 10\u001b[0;31m     \u001b[0;34m'/Users/geickelb1/Documents/GitHub/mimiciii-antibiotics-modeling/data/raw/clinical_var_sql/epinephrine_dose.sql'\u001b[0m\u001b[0;34m\u001b[0m\u001b[0m\n\u001b[0m\u001b[1;32m     11\u001b[0m )\n\u001b[1;32m     12\u001b[0m \u001b[0;31m#\u001b[0m\u001b[0;34m\u001b[0m\u001b[0;34m\u001b[0m\u001b[0m\n",
      "\u001b[0;32m<ipython-input-5-d2b43eb7e15c>\u001b[0m in \u001b[0;36mclinvar_fxn\u001b[0;34m(var_name, path)\u001b[0m\n\u001b[1;32m     28\u001b[0m     \u001b[0mvar\u001b[0m \u001b[0;34m=\u001b[0m \u001b[0mf\u001b[0m\u001b[0;34m.\u001b[0m\u001b[0mread\u001b[0m\u001b[0;34m(\u001b[0m\u001b[0;34m)\u001b[0m\u001b[0;34m\u001b[0m\u001b[0m\n\u001b[1;32m     29\u001b[0m     \u001b[0mcur\u001b[0m\u001b[0;34m.\u001b[0m\u001b[0mexecute\u001b[0m\u001b[0;34m(\u001b[0m\u001b[0;34m'rollback'\u001b[0m\u001b[0;34m)\u001b[0m\u001b[0;34m\u001b[0m\u001b[0m\n\u001b[0;32m---> 30\u001b[0;31m     \u001b[0mcur\u001b[0m\u001b[0;34m.\u001b[0m\u001b[0mexecute\u001b[0m\u001b[0;34m(\u001b[0m\u001b[0mvar\u001b[0m\u001b[0;34m)\u001b[0m\u001b[0;34m\u001b[0m\u001b[0m\n\u001b[0m\u001b[1;32m     31\u001b[0m     \u001b[0;32mtry\u001b[0m\u001b[0;34m:\u001b[0m\u001b[0;34m\u001b[0m\u001b[0m\n\u001b[1;32m     32\u001b[0m         \u001b[0mdf\u001b[0m\u001b[0;34m=\u001b[0m \u001b[0msql_to_df_icu\u001b[0m\u001b[0;34m(\u001b[0m\u001b[0msql_exe_show\u001b[0m\u001b[0;34m(\u001b[0m\u001b[0;34m'select * from %s;'\u001b[0m \u001b[0;34m%\u001b[0m\u001b[0;34m(\u001b[0m\u001b[0mvar_name\u001b[0m\u001b[0;34m)\u001b[0m\u001b[0;34m)\u001b[0m\u001b[0;34m)\u001b[0m\u001b[0;34m\u001b[0m\u001b[0m\n",
      "\u001b[0;31mProgrammingError\u001b[0m: relation \"weightdurations\" does not exist\nLINE 34:   left join weightdurations wd\n                     ^\n"
     ]
    },
    {
     "name": "stdout",
     "output_type": "stream",
     "text": [
      "time: 49.2 ms\n"
     ]
    }
   ],
   "source": [
    "# 10/12/18 added amountuom as amount_uom, rateuom as rate_uom to many lines of the sql code.\n",
    "\n",
    "###WEIGHT DURATION NOT WORKING\n",
    "weightdurations_df= clinvar_fxn(\n",
    "    'weightdurations',\n",
    "    '/Users/geickelb1/Documents/GitHub/mimiciii-antibiotics-modeling/data/raw/clinical_var_sql/weightdurations.sql'\n",
    ")\n",
    "#\n",
    "epi_dose_df= clinvar_fxn(\n",
    "    'epinephrine_dose',\n",
    "    '/Users/geickelb1/Documents/GitHub/mimiciii-antibiotics-modeling/data/raw/clinical_var_sql/epinephrine_dose.sql'\n",
    ")\n",
    "#\n",
    "norepi_dose_df= clinvar_fxn(\n",
    "    'norepinephrine_dose',\n",
    "    '/Users/geickelb1/Documents/GitHub/mimiciii-antibiotics-modeling/data/raw/clinical_var_sql/norepinephrine_dose.sql'\n",
    ")\n",
    "#\n",
    "dopamine_dose_df= clinvar_fxn(\n",
    "    'dopamine_dose',\n",
    "    '/Users/geickelb1/Documents/GitHub/mimiciii-antibiotics-modeling/data/raw/clinical_var_sql/dopamine_dose.sql'\n",
    ")\n",
    "#\n",
    "dobutamine_dose_df= clinvar_fxn(\n",
    "    'dobutamine_dose',\n",
    "    '/Users/geickelb1/Documents/GitHub/mimiciii-antibiotics-modeling/data/raw/clinical_var_sql/dobutamine_dose.sql'\n",
    ")\n",
    "#\n",
    "vasopressin_dose_df= clinvar_fxn(\n",
    "    'vasopressin_dose',\n",
    "    '/Users/geickelb1/Documents/GitHub/mimiciii-antibiotics-modeling/data/raw/clinical_var_sql/vasopressin_dose.sql'\n",
    ")\n",
    "\n",
    "#removing units/hour, as these are not appropriate\n",
    "vasopressin_dose_df= vasopressin_dose_df.loc[~vasopressin_dose_df.loc[:,'rate_uom'].isin(['Uhr','units/hour']),:]\n",
    "#\n",
    "phenylephrine_dose_df= clinvar_fxn(\n",
    "    'phenylephrine_dose',\n",
    "    '/Users/geickelb1/Documents/GitHub/mimiciii-antibiotics-modeling/data/raw/clinical_var_sql/phenylephrine_dose.sql'\n",
    ")"
   ]
  },
  {
   "cell_type": "markdown",
   "metadata": {},
   "source": [
    "### uom testing"
   ]
  },
  {
   "cell_type": "code",
   "execution_count": null,
   "metadata": {},
   "outputs": [],
   "source": [
    "dopamine_dose_df.head()"
   ]
  },
  {
   "cell_type": "code",
   "execution_count": null,
   "metadata": {},
   "outputs": [],
   "source": [
    "dopamine_dose_df['rate_uom'].value_counts()"
   ]
  },
  {
   "cell_type": "code",
   "execution_count": null,
   "metadata": {},
   "outputs": [],
   "source": [
    "norepi_dose_df.head()"
   ]
  },
  {
   "cell_type": "code",
   "execution_count": null,
   "metadata": {},
   "outputs": [],
   "source": [
    "norepi_dose_df['rate_uom'].value_counts()"
   ]
  },
  {
   "cell_type": "code",
   "execution_count": null,
   "metadata": {},
   "outputs": [],
   "source": []
  },
  {
   "cell_type": "code",
   "execution_count": null,
   "metadata": {},
   "outputs": [],
   "source": [
    "dobutamine_dose_df.head()"
   ]
  },
  {
   "cell_type": "code",
   "execution_count": null,
   "metadata": {},
   "outputs": [],
   "source": [
    "dobutamine_dose_df['rate_uom'].value_counts()"
   ]
  },
  {
   "cell_type": "code",
   "execution_count": null,
   "metadata": {},
   "outputs": [],
   "source": []
  },
  {
   "cell_type": "code",
   "execution_count": null,
   "metadata": {},
   "outputs": [],
   "source": [
    "vasopressin_dose_df.head()"
   ]
  },
  {
   "cell_type": "code",
   "execution_count": null,
   "metadata": {},
   "outputs": [],
   "source": [
    "vasopressin_dose_df['rate_uom'].value_counts()"
   ]
  },
  {
   "cell_type": "code",
   "execution_count": null,
   "metadata": {},
   "outputs": [],
   "source": [
    "# #removing units/hour, as these are not appropriate\n",
    "# vasopressin_dose_df= vasopressin_dose_df.loc[~vasopressin_dose_df.loc[:,'rate_uom'].isin(['Uhr','units/hour']),:]"
   ]
  },
  {
   "cell_type": "code",
   "execution_count": null,
   "metadata": {},
   "outputs": [],
   "source": [
    "phenylephrine_dose_df['rate_uom'].value_counts()"
   ]
  },
  {
   "cell_type": "code",
   "execution_count": null,
   "metadata": {},
   "outputs": [],
   "source": [
    "#dopamine_dose_df['amount_uom'].value_counts()\n",
    "dopamine_dose_df['rate_uom'].value_counts()"
   ]
  },
  {
   "cell_type": "code",
   "execution_count": null,
   "metadata": {},
   "outputs": [],
   "source": [
    "epi_dose_df.head()"
   ]
  },
  {
   "cell_type": "code",
   "execution_count": null,
   "metadata": {},
   "outputs": [],
   "source": [
    "epi_dose_df['rate_uom'].value_counts()"
   ]
  },
  {
   "cell_type": "code",
   "execution_count": null,
   "metadata": {},
   "outputs": [],
   "source": [
    "#adding an identification label column and merging them into 1 df. \n",
    "epi_dose_df['label']='epinephrine'\n",
    "norepi_dose_df['label']='norepinephrine'\n",
    "dopamine_dose_df['label']='dopamine'\n",
    "dobutamine_dose_df['label']='dobutamine'\n",
    "vasopressin_dose_df['label']='vasopressin'\n",
    "phenylephrine_dose_df['label']='phenylephrine'\n",
    "vaso_dose_df = pd.concat([epi_dose_df, norepi_dose_df, dopamine_dose_df, dobutamine_dose_df, vasopressin_dose_df,phenylephrine_dose_df ])\n",
    "\n",
    "#removing u/hour"
   ]
  },
  {
   "cell_type": "code",
   "execution_count": null,
   "metadata": {},
   "outputs": [],
   "source": [
    "vaso_dose_df.head()"
   ]
  },
  {
   "cell_type": "code",
   "execution_count": null,
   "metadata": {},
   "outputs": [],
   "source": []
  },
  {
   "cell_type": "markdown",
   "metadata": {},
   "source": [
    "# ventilator settings and categorization"
   ]
  },
  {
   "cell_type": "code",
   "execution_count": null,
   "metadata": {},
   "outputs": [],
   "source": [
    "#ventsettings_df = pd.read_csv('/Users/geickelb1/Documents/GitHub/mimiciii-antibiotics-modeling/data/raw/csv/15082018_ventsettings_df.csv', index_col=0)\n",
    "ventsettings_df= clinvar_fxn(\n",
    "    'ventsettings',\n",
    "    '/Users/geickelb1/Documents/GitHub/mimiciii-antibiotics-modeling/data/raw/clinical_var_sql/all/ventsettings.sql'\n",
    ")\n",
    "#going from wide format to long:\n",
    "#pd.melt(ventsettings_df, id_vars=['icustay_id','charttime'])"
   ]
  },
  {
   "cell_type": "code",
   "execution_count": null,
   "metadata": {},
   "outputs": [],
   "source": [
    "def vent_categorization(final_pt_df2, ventsettings_df, time_var='t_0'):\n",
    "    \"\"\"\n",
    "    overview: provides 3 variables, one for each 24 hour peroid following first time_var (default is t_0 ), \n",
    "    that codes vent status during that 24 hr peroid.\n",
    "    ventilation data is based upon the ventsettings.sql file output. \n",
    "       categories: \n",
    "        - Vent- had mech vent within 24hr period\n",
    "        - Oxygen- had only oxygentherapy within 24hr period\n",
    "        - None- had neither within 24hr period.\n",
    "        - Not_coded= data was not present\n",
    "        \n",
    "    input: final cohort dataframe (by icustay_id/hadm_id) annotated with t_0\n",
    "    output: a dataframe with every icustay_id as a row, and a categorization for each of the first 3 days based on ventilation recieved:\n",
    "    \"\"\"\n",
    "    \n",
    "    ventsettings_merge_df= pd.merge(ventsettings_df,\n",
    "                                final_pt_df2[['icustay_id',time_var]],\n",
    "                                left_on='icustay_id',\n",
    "                                right_on= 'icustay_id',\n",
    "                                how='left')\n",
    " \n",
    "    ventsettings_df_3dayannotation= final_pt_df2[['icustay_id',time_var]]\n",
    "    \n",
    "    #origionally coded as: Not_coded as the default. changed to none at Nelson's request\n",
    "    ventsettings_df_3dayannotation['vent_day1']='None' #coding Not_coded as the default. must be sure to code over this to None to ensure I capture everyone\n",
    "    ventsettings_df_3dayannotation['vent_day2']='None' #coding Not_coded as the default. must be sure to code over this to None to ensure I capture everyone\n",
    "    ventsettings_df_3dayannotation['vent_day3']='None' #coding Not_coded as the default. must be sure to code over this to None to ensure I capture everyone\n",
    "    #ventsettings_df_3dayannotation.head()\n",
    "\n",
    "    day1= (\n",
    "        (pd.to_datetime(ventsettings_merge_df[time_var])-pd.to_datetime(ventsettings_merge_df['charttime']))\n",
    "           .between('00:00:00','23:59:59'))\n",
    "    day2= (\n",
    "        (pd.to_datetime(ventsettings_merge_df[time_var])-pd.to_datetime(ventsettings_merge_df['charttime']))\n",
    "           .between('24:00:00','47:59:59'))\n",
    "    day3= (\n",
    "        (pd.to_datetime(ventsettings_merge_df[time_var])-pd.to_datetime(ventsettings_merge_df['charttime']))\n",
    "           .between('48:00:00','71:59:59'))\n",
    "\n",
    "    mech_1= list(ventsettings_merge_df.loc[day1 & ventsettings_merge_df['mechvent']==1 ,'icustay_id'])\n",
    "    mech_2= list(ventsettings_merge_df.loc[day2 & ventsettings_merge_df['mechvent']==1 ,'icustay_id'])\n",
    "    mech_3= list(ventsettings_merge_df.loc[day3 & ventsettings_merge_df['mechvent']==1 ,'icustay_id'])\n",
    "    O2_1= list(ventsettings_merge_df.loc[day1 & ventsettings_merge_df['oxygentherapy']==1 ,'icustay_id'])\n",
    "    O2_2= list(ventsettings_merge_df.loc[day2 & ventsettings_merge_df['oxygentherapy']==1 ,'icustay_id'])\n",
    "    O2_3= list(ventsettings_merge_df.loc[day3 & ventsettings_merge_df['oxygentherapy']==1 ,'icustay_id'])\n",
    "    None_1= list(ventsettings_merge_df[(day1) & (ventsettings_merge_df['mechvent']==0) & (ventsettings_merge_df['oxygentherapy']==0) ]['icustay_id'])\n",
    "    None_2= list(ventsettings_merge_df[(day2) & (ventsettings_merge_df['mechvent']==0) & (ventsettings_merge_df['oxygentherapy']==0) ]['icustay_id'])\n",
    "    None_3= list(ventsettings_merge_df[(day3) & (ventsettings_merge_df['mechvent']==0) & (ventsettings_merge_df['oxygentherapy']==0) ]['icustay_id'])\n",
    "\n",
    "    ventsettings_df_3dayannotation.loc[ventsettings_df_3dayannotation.loc[:,'icustay_id'].isin(mech_1),'vent_day1']='Mech'\n",
    "    ventsettings_df_3dayannotation.loc[ventsettings_df_3dayannotation.loc[:,'icustay_id'].isin(mech_2),'vent_day2']='Mech'\n",
    "    ventsettings_df_3dayannotation.loc[ventsettings_df_3dayannotation.loc[:,'icustay_id'].isin(mech_3),'vent_day3']='Mech'\n",
    "\n",
    "    ventsettings_df_3dayannotation.loc[ventsettings_df_3dayannotation.loc[:,'icustay_id'].isin(O2_1),'vent_day1']='Oxygen'\n",
    "    ventsettings_df_3dayannotation.loc[ventsettings_df_3dayannotation.loc[:,'icustay_id'].isin(O2_2),'vent_day2']='Oxygen'\n",
    "    ventsettings_df_3dayannotation.loc[ventsettings_df_3dayannotation.loc[:,'icustay_id'].isin(O2_3),'vent_day3']='Oxygen'\n",
    "\n",
    "    ventsettings_df_3dayannotation.loc[ventsettings_df_3dayannotation.loc[:,'icustay_id'].isin(None_1),'vent_day1']='None'\n",
    "    ventsettings_df_3dayannotation.loc[ventsettings_df_3dayannotation.loc[:,'icustay_id'].isin(None_2),'vent_day2']='None'\n",
    "    ventsettings_df_3dayannotation.loc[ventsettings_df_3dayannotation.loc[:,'icustay_id'].isin(None_3),'vent_day3']='None'\n",
    "\n",
    "    return(ventsettings_df_3dayannotation)"
   ]
  },
  {
   "cell_type": "code",
   "execution_count": null,
   "metadata": {},
   "outputs": [],
   "source": [
    "#the following code is an alternative method to vent_categorization fxn written above. the output gives the # of vent events in a given timeframe\n",
    "#for each icustay_id\n",
    "def vent_count(final_pt_df2,ventsettings_df, time_var='t_0'):\n",
    "    \"\"\"\n",
    "    overview: quantifies the # of ventilation events related to mechanical ventilation and oxygen therapy \n",
    "    for each 24 hr window after time_var (default= first ab dose )\n",
    "       categories: \n",
    "        - Vent- had mech vent within 24hr period\n",
    "        - Oxygen- had only oxygentherapy within 24hr period\n",
    "        \n",
    "    input: final cohort dataframe (by icustay_id/hadm_id) annotated with t_0, ventsettings_df\n",
    "    output: a dataframe with every icustay_id as a row, and a count for each of the first 3 days based on ventilation recieved:\n",
    "    \"\"\"\n",
    "    ventsettings_merge_df= pd.merge(ventsettings_df,\n",
    "                                    final_pt_df2[['icustay_id',time_var]],\n",
    "                                    left_on='icustay_id',\n",
    "                                    right_on= 'icustay_id',\n",
    "                                    how='left')\n",
    "\n",
    "    day1= (\n",
    "        (pd.to_datetime(ventsettings_merge_df[time_var])-pd.to_datetime(ventsettings_merge_df['charttime']))\n",
    "           .between('00:00:00','23:59:59'))\n",
    "    day2= (\n",
    "        (pd.to_datetime(ventsettings_merge_df[time_var])-pd.to_datetime(ventsettings_merge_df['charttime']))\n",
    "           .between('24:00:00','47:59:59'))\n",
    "    day3= (\n",
    "        (pd.to_datetime(ventsettings_merge_df[time_var])-pd.to_datetime(ventsettings_merge_df['charttime']))\n",
    "           .between('48:00:00','71:59:59'))\n",
    "\n",
    "\n",
    "    #0-1\n",
    "    icu_O2count1= (\n",
    "        ventsettings_merge_df.loc[day1 & ventsettings_merge_df['oxygentherapy']==1 ,:]\n",
    "                  .groupby('icustay_id')['oxygentherapy']\n",
    "                  .value_counts())\n",
    "    icu_mechcount1= (\n",
    "        ventsettings_merge_df.loc[day1 & ventsettings_merge_df['mechvent']==1 ,:]\n",
    "                .groupby('icustay_id')['mechvent']\n",
    "                .value_counts())\n",
    "\n",
    "    #1-2\n",
    "    icu_O2count2= (\n",
    "        ventsettings_merge_df.loc[day2 & ventsettings_merge_df['oxygentherapy']==1 ,:]\n",
    "                  .groupby('icustay_id')['oxygentherapy']\n",
    "                  .value_counts())\n",
    "\n",
    "    icu_mechcount2= (\n",
    "        ventsettings_merge_df.loc[day2 & ventsettings_merge_df['mechvent']==1 ,:]\n",
    "                .groupby('icustay_id')['mechvent']\n",
    "                .value_counts())\n",
    "\n",
    "    #2-3\n",
    "    icu_O2count3= (\n",
    "        ventsettings_merge_df.loc[day3 & ventsettings_merge_df['oxygentherapy']==1 ,:]\n",
    "                  .groupby('icustay_id')['oxygentherapy']\n",
    "                  .value_counts())\n",
    "\n",
    "    icu_mechcount3= (\n",
    "        ventsettings_merge_df.loc[day3 & ventsettings_merge_df['mechvent']==1 ,:]\n",
    "                .groupby('icustay_id')['mechvent']\n",
    "                .value_counts())\n",
    "\n",
    "    #0-1\n",
    "    icu_O2count_df1= pd.DataFrame(icu_O2count1)\n",
    "    icu_O2count_df1.columns = ['O2_count1']\n",
    "    icu_O2count_df1= icu_O2count_df1.reset_index()\n",
    "\n",
    "    icu_mechcount_df1= pd.DataFrame(icu_mechcount1)\n",
    "    icu_mechcount_df1.columns = ['mech_count1']\n",
    "    icu_mechcount_df1= icu_mechcount_df1.reset_index()\n",
    "\n",
    "    #1-2\n",
    "    icu_O2count_df2= pd.DataFrame(icu_O2count2)\n",
    "    icu_O2count_df2.columns = ['O2_count2']\n",
    "    icu_O2count_df2= icu_O2count_df2.reset_index()\n",
    "\n",
    "    icu_mechcount_df2= pd.DataFrame(icu_mechcount2)\n",
    "    icu_mechcount_df2.columns = ['mech_count2']\n",
    "    icu_mechcount_df2= icu_mechcount_df2.reset_index()\n",
    "\n",
    "    #2-3\n",
    "    icu_O2count_df3= pd.DataFrame(icu_O2count3)\n",
    "    icu_O2count_df3.columns = ['O2_count_3']\n",
    "    icu_O2count_df3= icu_O2count_df3.reset_index()\n",
    "\n",
    "    icu_mechcount_df3= pd.DataFrame(icu_mechcount3)\n",
    "    icu_mechcount_df3.columns = ['mech_count_3']\n",
    "    icu_mechcount_df3= icu_mechcount_df3.reset_index()\n",
    "\n",
    "    #merging all together\n",
    "    icu_vent_status= pd.merge(icu_O2count_df1,icu_O2count_df2, how='outer')\n",
    "    icu_vent_status= pd.merge(icu_vent_status,icu_O2count_df3,  how='outer')\n",
    "    icu_vent_status= pd.merge(icu_vent_status,icu_mechcount_df1,  how='outer')\n",
    "    icu_vent_status= pd.merge(icu_vent_status,icu_mechcount_df2,  how='outer')\n",
    "    icu_vent_status= pd.merge(icu_vent_status,icu_mechcount_df3,  how='outer')\n",
    "    \n",
    "    return(icu_vent_status.drop(['oxygentherapy','mechvent'], axis=1))"
   ]
  },
  {
   "cell_type": "code",
   "execution_count": null,
   "metadata": {},
   "outputs": [],
   "source": [
    "ventcategory_df = vent_categorization(final_pt_df2, ventsettings_df, time_var='first_pos_else_neg_ssc' )\n",
    "ventcategory_df['uom']='category'\n",
    "ventcount_df = vent_count(final_pt_df2,ventsettings_df, time_var='first_pos_else_neg_ssc')"
   ]
  },
  {
   "cell_type": "code",
   "execution_count": null,
   "metadata": {},
   "outputs": [],
   "source": [
    "ventcategory_df.head()"
   ]
  },
  {
   "cell_type": "markdown",
   "metadata": {},
   "source": [
    "# daily SOFA score"
   ]
  },
  {
   "cell_type": "markdown",
   "metadata": {},
   "source": [
    "# NEED TO RE-ADJUST FOR first_pos_else_neg_ssc"
   ]
  },
  {
   "cell_type": "code",
   "execution_count": null,
   "metadata": {},
   "outputs": [],
   "source": [
    "##FACK, need to change it up to accomidate time windows. need sofascore for 3 days following first culture in ICU\n",
    "\n",
    "### need to find sofa_pan, or daily sofa. "
   ]
  },
  {
   "cell_type": "code",
   "execution_count": null,
   "metadata": {},
   "outputs": [],
   "source": [
    "###requirements for sofa_pan\n",
    "sofa <- scorecalc <- scorecomp <- vaso_cv    <-icu_18\n",
    "                                             <-wt      <-icu_18\n",
    "                                             <-echo2\n",
    "                                          \n",
    "                               <- vaso_mv    <-icu_18\n",
    "                               <- pafi2      <-bloodgas_pan_aterial <- bloodgas_pan  <-icu_18\n",
    "                                             <-ventelurations\n",
    "                               <- vitals_pan <-icu_18\n",
    "                               <- labs_pan   <-icu_18\n",
    "                               <- uo_pan     <-icu_18\n",
    "                               <- gcs_pan    <-icu_18"
   ]
  },
  {
   "cell_type": "code",
   "execution_count": 45,
   "metadata": {},
   "outputs": [
    {
     "ename": "ProgrammingError",
     "evalue": "relation \"scorecalc\" does not exist\nLINE 21: inner join scorecalc s\n                    ^\n",
     "output_type": "error",
     "traceback": [
      "\u001b[0;31m---------------------------------------------------------------------------\u001b[0m",
      "\u001b[0;31mProgrammingError\u001b[0m                          Traceback (most recent call last)",
      "\u001b[0;32m<ipython-input-45-e2327eacbfa3>\u001b[0m in \u001b[0;36m<module>\u001b[0;34m()\u001b[0m\n\u001b[1;32m      1\u001b[0m sofa_pan_df= clinvar_fxn(\n\u001b[1;32m      2\u001b[0m     \u001b[0;34m'sofa_pan'\u001b[0m\u001b[0;34m,\u001b[0m\u001b[0;34m\u001b[0m\u001b[0m\n\u001b[0;32m----> 3\u001b[0;31m     \u001b[0;34m'/Users/geickelb1/Documents/GitHub/mimiciii-antibiotics-modeling/data/raw/clinical_var_sql/all/no_summary/sofa_pan.sql'\u001b[0m\u001b[0;34m\u001b[0m\u001b[0m\n\u001b[0m\u001b[1;32m      4\u001b[0m )\n",
      "\u001b[0;32m<ipython-input-5-d2b43eb7e15c>\u001b[0m in \u001b[0;36mclinvar_fxn\u001b[0;34m(var_name, path)\u001b[0m\n\u001b[1;32m     28\u001b[0m     \u001b[0mvar\u001b[0m \u001b[0;34m=\u001b[0m \u001b[0mf\u001b[0m\u001b[0;34m.\u001b[0m\u001b[0mread\u001b[0m\u001b[0;34m(\u001b[0m\u001b[0;34m)\u001b[0m\u001b[0;34m\u001b[0m\u001b[0m\n\u001b[1;32m     29\u001b[0m     \u001b[0mcur\u001b[0m\u001b[0;34m.\u001b[0m\u001b[0mexecute\u001b[0m\u001b[0;34m(\u001b[0m\u001b[0;34m'rollback'\u001b[0m\u001b[0;34m)\u001b[0m\u001b[0;34m\u001b[0m\u001b[0m\n\u001b[0;32m---> 30\u001b[0;31m     \u001b[0mcur\u001b[0m\u001b[0;34m.\u001b[0m\u001b[0mexecute\u001b[0m\u001b[0;34m(\u001b[0m\u001b[0mvar\u001b[0m\u001b[0;34m)\u001b[0m\u001b[0;34m\u001b[0m\u001b[0m\n\u001b[0m\u001b[1;32m     31\u001b[0m     \u001b[0;32mtry\u001b[0m\u001b[0;34m:\u001b[0m\u001b[0;34m\u001b[0m\u001b[0m\n\u001b[1;32m     32\u001b[0m         \u001b[0mdf\u001b[0m\u001b[0;34m=\u001b[0m \u001b[0msql_to_df_icu\u001b[0m\u001b[0;34m(\u001b[0m\u001b[0msql_exe_show\u001b[0m\u001b[0;34m(\u001b[0m\u001b[0;34m'select * from %s;'\u001b[0m \u001b[0;34m%\u001b[0m\u001b[0;34m(\u001b[0m\u001b[0mvar_name\u001b[0m\u001b[0;34m)\u001b[0m\u001b[0;34m)\u001b[0m\u001b[0;34m)\u001b[0m\u001b[0;34m\u001b[0m\u001b[0m\n",
      "\u001b[0;31mProgrammingError\u001b[0m: relation \"scorecalc\" does not exist\nLINE 21: inner join scorecalc s\n                    ^\n"
     ]
    },
    {
     "name": "stdout",
     "output_type": "stream",
     "text": [
      "time: 52.2 ms\n"
     ]
    }
   ],
   "source": [
    "sofa_pan_df= clinvar_fxn(\n",
    "    'sofa_pan',\n",
    "    '/Users/geickelb1/Documents/GitHub/mimiciii-antibiotics-modeling/data/raw/clinical_var_sql/all/no_summary/sofa_pan.sql' \n",
    ")\n"
   ]
  },
  {
   "cell_type": "code",
   "execution_count": 50,
   "metadata": {},
   "outputs": [
    {
     "ename": "ProgrammingError",
     "evalue": "relation \"sofa_pan\" does not exist\nLINE 1: select * from sofa_pan\n                      ^\n",
     "output_type": "error",
     "traceback": [
      "\u001b[0;31m---------------------------------------------------------------------------\u001b[0m",
      "\u001b[0;31mProgrammingError\u001b[0m                          Traceback (most recent call last)",
      "\u001b[0;32m<ipython-input-50-b20aba97143d>\u001b[0m in \u001b[0;36m<module>\u001b[0;34m()\u001b[0m\n\u001b[1;32m      1\u001b[0m \u001b[0;31m#Yihangpan wrote a sql script and materialized view \"sofa_pan\" which gives the sofa score for each day in icu for each patient.\u001b[0m\u001b[0;34m\u001b[0m\u001b[0;34m\u001b[0m\u001b[0m\n\u001b[1;32m      2\u001b[0m \u001b[0;31m#I now need to use the day # to find the associated t_0 to t_0+72 for each patient.\u001b[0m\u001b[0;34m\u001b[0m\u001b[0;34m\u001b[0m\u001b[0m\n\u001b[0;32m----> 3\u001b[0;31m \u001b[0msofa_df\u001b[0m\u001b[0;34m=\u001b[0m \u001b[0msql_to_df_icu\u001b[0m\u001b[0;34m(\u001b[0m\u001b[0msql_exe_show\u001b[0m\u001b[0;34m(\u001b[0m\u001b[0;34m'select * from sofa_pan'\u001b[0m\u001b[0;34m)\u001b[0m\u001b[0;34m)\u001b[0m\u001b[0;34m\u001b[0m\u001b[0m\n\u001b[0m\u001b[1;32m      4\u001b[0m \u001b[0msofa_df\u001b[0m\u001b[0;34m[\u001b[0m\u001b[0;34m'icustay_id'\u001b[0m\u001b[0;34m]\u001b[0m\u001b[0;34m.\u001b[0m\u001b[0mnunique\u001b[0m\u001b[0;34m(\u001b[0m\u001b[0;34m)\u001b[0m \u001b[0;31m#15182/15207, pretty close. n=25 icustay id's don't have a sofa score?\u001b[0m\u001b[0;34m\u001b[0m\u001b[0m\n",
      "\u001b[0;32m<ipython-input-43-d2b43eb7e15c>\u001b[0m in \u001b[0;36msql_exe_show\u001b[0;34m(sql_sentence)\u001b[0m\n\u001b[1;32m      1\u001b[0m \u001b[0;31m#input the sql_exe_show object and get dataframe for only patients in patient list out.\u001b[0m\u001b[0;34m\u001b[0m\u001b[0;34m\u001b[0m\u001b[0m\n\u001b[1;32m      2\u001b[0m \u001b[0;32mdef\u001b[0m \u001b[0msql_exe_show\u001b[0m\u001b[0;34m(\u001b[0m\u001b[0msql_sentence\u001b[0m\u001b[0;34m)\u001b[0m\u001b[0;34m:\u001b[0m\u001b[0;34m\u001b[0m\u001b[0m\n\u001b[0;32m----> 3\u001b[0;31m     \u001b[0mcur\u001b[0m\u001b[0;34m.\u001b[0m\u001b[0mexecute\u001b[0m\u001b[0;34m(\u001b[0m\u001b[0msql_sentence\u001b[0m\u001b[0;34m)\u001b[0m\u001b[0;34m\u001b[0m\u001b[0m\n\u001b[0m\u001b[1;32m      4\u001b[0m     \u001b[0mrows\u001b[0m \u001b[0;34m=\u001b[0m \u001b[0mcur\u001b[0m\u001b[0;34m.\u001b[0m\u001b[0mfetchall\u001b[0m\u001b[0;34m(\u001b[0m\u001b[0;34m)\u001b[0m\u001b[0;34m\u001b[0m\u001b[0m\n\u001b[1;32m      5\u001b[0m     \u001b[0mcol\u001b[0m \u001b[0;34m=\u001b[0m \u001b[0;34m[\u001b[0m\u001b[0;34m]\u001b[0m\u001b[0;34m\u001b[0m\u001b[0m\n",
      "\u001b[0;31mProgrammingError\u001b[0m: relation \"sofa_pan\" does not exist\nLINE 1: select * from sofa_pan\n                      ^\n"
     ]
    },
    {
     "name": "stdout",
     "output_type": "stream",
     "text": [
      "time: 29.7 ms\n"
     ]
    }
   ],
   "source": [
    "#Yihangpan wrote a sql script and materialized view \"sofa_pan\" which gives the sofa score for each day in icu for each patient. \n",
    "#I now need to use the day # to find the associated t_0 to t_0+72 for each patient. \n",
    "sofa_df= sql_to_df_icu(sql_exe_show('select * from sofa_pan'))\n",
    "sofa_df['icustay_id'].nunique() #15182/15207, pretty close. n=25 icustay id's don't have a sofa score? "
   ]
  },
  {
   "cell_type": "code",
   "execution_count": 48,
   "metadata": {},
   "outputs": [
    {
     "ename": "NameError",
     "evalue": "name 'sofa_df' is not defined",
     "output_type": "error",
     "traceback": [
      "\u001b[0;31m---------------------------------------------------------------------------\u001b[0m",
      "\u001b[0;31mNameError\u001b[0m                                 Traceback (most recent call last)",
      "\u001b[0;32m<ipython-input-48-4f47e253306a>\u001b[0m in \u001b[0;36m<module>\u001b[0;34m()\u001b[0m\n\u001b[1;32m      2\u001b[0m \u001b[0mtime_var\u001b[0m\u001b[0;34m=\u001b[0m \u001b[0;34m'first_pos_else_neg_ssc'\u001b[0m \u001b[0;31m#'t_0'\u001b[0m\u001b[0;34m\u001b[0m\u001b[0m\n\u001b[1;32m      3\u001b[0m \u001b[0;34m\u001b[0m\u001b[0m\n\u001b[0;32m----> 4\u001b[0;31m sofa_df_merged= pd.merge(sofa_df,\n\u001b[0m\u001b[1;32m      5\u001b[0m                          \u001b[0mfinal_pt_df2\u001b[0m\u001b[0;34m[\u001b[0m\u001b[0;34m[\u001b[0m\u001b[0;34m'icustay_id'\u001b[0m\u001b[0;34m,\u001b[0m\u001b[0mtime_var\u001b[0m\u001b[0;34m,\u001b[0m\u001b[0;34m'ICU_admit'\u001b[0m\u001b[0;34m]\u001b[0m\u001b[0;34m]\u001b[0m\u001b[0;34m,\u001b[0m\u001b[0;34m\u001b[0m\u001b[0m\n\u001b[1;32m      6\u001b[0m                          \u001b[0mleft_on\u001b[0m\u001b[0;34m=\u001b[0m \u001b[0;34m'icustay_id'\u001b[0m\u001b[0;34m,\u001b[0m\u001b[0;34m\u001b[0m\u001b[0m\n",
      "\u001b[0;31mNameError\u001b[0m: name 'sofa_df' is not defined"
     ]
    },
    {
     "name": "stdout",
     "output_type": "stream",
     "text": [
      "time: 15.4 ms\n"
     ]
    }
   ],
   "source": [
    "#adding in t_0 & icuadmit date\n",
    "time_var= 'first_pos_else_neg_ssc' #'t_0'\n",
    "\n",
    "sofa_df_merged= pd.merge(sofa_df,\n",
    "                         final_pt_df2[['icustay_id',time_var,'ICU_admit']],\n",
    "                         left_on= 'icustay_id',\n",
    "                         right_on = 'icustay_id',\n",
    "                         how='left') #n=240317\n",
    "\n",
    "#sofa_df_merged['admit_t0_rounded'] = pd.to_datetime(sofa_df_merged['ICU_admit']).dt.round('1440min')\n",
    "\n",
    "sofa_df_merged['day'] = sofa_df_merged['day']-1\n",
    "sofa_df_merged['approx_charttime']=pd.to_timedelta((sofa_df_merged['day'])*24, unit='h') + pd.to_datetime(sofa_df_merged['ICU_admit'])\n",
    "\n",
    "#rounding down the charttime to the day, so hours and minutes are ignored. \n",
    "sofa_df_merged['floor_charttime'] = sofa_df_merged['approx_charttime'].apply(lambda dt: datetime.datetime(dt.year, dt.month, dt.day, 24*(dt.hour//24))) "
   ]
  },
  {
   "cell_type": "code",
   "execution_count": 216,
   "metadata": {},
   "outputs": [
    {
     "name": "stdout",
     "output_type": "stream",
     "text": [
      "time: 126 ms\n"
     ]
    }
   ],
   "source": [
    "sofa_df_72= sofa_df_merged.loc[\n",
    "    (sofa_df_merged['floor_charttime'].between(\n",
    "        pd.to_datetime(sofa_df_merged[time_var]),\n",
    "        (pd.to_datetime(sofa_df_merged[time_var])+ pd.to_timedelta(2, unit='d'))\n",
    "    )),:] \n",
    "\n",
    "#sofa_df_72= sofa_df_72.drop(54592) #dropping a duplicate row. 294198 had the only instance of 4 sofa score rows, one of which was a duplicate and deleted here.\n",
    "sofa_df_72['icustay_id'].value_counts().describe() \n",
    "\n",
    "#n= 31930 ->37937 going from approx to floor charttime. ie this collapses icu_admit to remove all hour/minute and just display the day, similar to my previous steps. \n",
    "\n",
    "#this dataframe should be approximately all sofa scores for patients between t_0 and t_0+72, plus likely more. \n",
    "\n",
    "# the challenge was that I had to relate day# in sofa_pan to my t_0 date. the day # was based on the days after icu admission, where day1 = the first day (0 to 24 hours post admission). this was changed so day 0= 0 to 24 hours.\n",
    "#To do this, I added day# (where day 0 is the first day) to icu admission date. \n",
    "#I then filtered on only the rows where this icuadmin + day# was between t_0 and t_0 + 72 hours. \n",
    "\n",
    "#since t_0 has only day resolution, and for that I ignored hours and only took the date (rounded down all hours/minutes/seconds). this is similar to how i made the t_0 date. \n",
    "#the problem this creates is that it widens the potential time window, so it theoretically can contain up to 95.99 hours, since hours on day 1 were collapsed to 0. \n"
   ]
  },
  {
   "cell_type": "markdown",
   "metadata": {},
   "source": [
    "# saving as csv"
   ]
  },
  {
   "cell_type": "code",
   "execution_count": 51,
   "metadata": {},
   "outputs": [
    {
     "name": "stdout",
     "output_type": "stream",
     "text": [
      "time: 111 ms\n"
     ]
    }
   ],
   "source": [
    "#useful for \n",
    "date= '25012019'\n",
    "\n",
    "pd.DataFrame(ventcategory_df).to_csv(\n",
    "    '/Users/geickelb1/Documents/GitHub/mimiciii-antibiotics-modeling/data/raw/csv/%s_ventcategory_df.csv' %(date))\n",
    "pd.DataFrame(ventcount_df).to_csv(\n",
    "    '/Users/geickelb1/Documents/GitHub/mimiciii-antibiotics-modeling/data/raw/csv/%s_ventcount_df.csv' %(date))"
   ]
  },
  {
   "cell_type": "code",
   "execution_count": 25,
   "metadata": {},
   "outputs": [
    {
     "name": "stdout",
     "output_type": "stream",
     "text": [
      "time: 2min 47s\n"
     ]
    }
   ],
   "source": [
    "date= '27082018'\n",
    "\n",
    "pd.DataFrame(vaso_dose_df).to_csv(\n",
    "    '/Users/geickelb1/Documents/GitHub/mimiciii-antibiotics-modeling/data/raw/csv/%s_vaso_dose_df.csv' %(date))\n",
    "pd.DataFrame(ventsettings_df).to_csv(\n",
    "    '/Users/geickelb1/Documents/GitHub/mimiciii-antibiotics-modeling/data/raw/csv/%s_ventsettings_df.csv' %(date))\n",
    "pd.DataFrame(ventcategory_df).to_csv(\n",
    "    '/Users/geickelb1/Documents/GitHub/mimiciii-antibiotics-modeling/data/raw/csv/%s_ventcategory_df.csv' %(date))\n",
    "pd.DataFrame(ventcount_df).to_csv(\n",
    "    '/Users/geickelb1/Documents/GitHub/mimiciii-antibiotics-modeling/data/raw/csv/%s_ventcount_df.csv' %(date))\n",
    "\n",
    "pd.DataFrame(echodata_df).to_csv(\n",
    "    '/Users/geickelb1/Documents/GitHub/mimiciii-antibiotics-modeling/data/raw/csv/%s_echodata_df.csv' %(date))\n",
    "pd.DataFrame(weightfirstday_df).to_csv(\n",
    "    '/Users/geickelb1/Documents/GitHub/mimiciii-antibiotics-modeling/data/raw/csv/%s_weightfirstday_df.csv' %(date))\n",
    "pd.DataFrame(heightfirstday_df).to_csv(\n",
    "    '/Users/geickelb1/Documents/GitHub/mimiciii-antibiotics-modeling/data/raw/csv/%s_heightfirstday_df.csv' %(date))\n",
    "pd.DataFrame(labs_all_nosummary_df).to_csv(\n",
    "    '/Users/geickelb1/Documents/GitHub/mimiciii-antibiotics-modeling/data/raw/csv/%s_labs_all_nosummary_df.csv' %(date))\n",
    "\n",
    "pd.DataFrame(vitals_all_nosummary_df).to_csv(\n",
    "    '/Users/geickelb1/Documents/GitHub/mimiciii-antibiotics-modeling/data/raw/csv/%s_vitals_all_nosummary_df.csv' %(date))\n",
    "pd.DataFrame(vitals_all_nosummary_nonull).to_csv(\n",
    "    '/Users/geickelb1/Documents/GitHub/mimiciii-antibiotics-modeling/data/raw/csv/%s_vitals_all_nosummary_nonull.csv' %(date)) #this is the more important one\n",
    "\n",
    "# pd.DataFrame(gcsall_df).to_csv(\n",
    "#     '/Users/geickelb1/Documents/GitHub/mimiciii-antibiotics-modeling/data/raw/csv/%s_gcsall_df.csv' %(date))\n",
    "pd.DataFrame(gcs72_df).to_csv(\n",
    "    '/Users/geickelb1/Documents/GitHub/mimiciii-antibiotics-modeling/data/raw/csv/%s_gcs72_df.csv' %(date)) #saving 72hr window here\n",
    "\n",
    "\n",
    "pd.DataFrame(rrt_all_df).to_csv(\n",
    "    '/Users/geickelb1/Documents/GitHub/mimiciii-antibiotics-modeling/data/raw/csv/%s_rrt_all_df.csv' %(date))\n",
    "pd.DataFrame(urine_output_all_df).to_csv(\n",
    "    '/Users/geickelb1/Documents/GitHub/mimiciii-antibiotics-modeling/data/raw/csv/%s_urine_output_all_df.csv' %(date))\n",
    "pd.DataFrame(uti_all_df).to_csv(\n",
    "    '/Users/geickelb1/Documents/GitHub/mimiciii-antibiotics-modeling/data/raw/csv/%s_uti_all_df.csv' %(date))\n",
    "pd.DataFrame(bg_all_nosummary_df).to_csv(\n",
    "    '/Users/geickelb1/Documents/GitHub/mimiciii-antibiotics-modeling/data/raw/csv/%s_bg_all_nosummary_df.csv' %(date))\n",
    "pd.DataFrame(sofa_df_merged).to_csv(\n",
    "    '/Users/geickelb1/Documents/GitHub/mimiciii-antibiotics-modeling/data/raw/csv/%s_sofa_df_merged.csv' %(date))"
   ]
  },
  {
   "cell_type": "code",
   "execution_count": 34,
   "metadata": {},
   "outputs": [
    {
     "name": "stdout",
     "output_type": "stream",
     "text": [
      "time: 16 s\n"
     ]
    }
   ],
   "source": [
    "# pd.DataFrame(bg_all_nosummary_df).to_csv(\n",
    "#     '/Users/geickelb1/Documents/GitHub/mimiciii-antibiotics-modeling/data/raw/csv/%s_bg_all_nosummary_df.csv' %(date))"
   ]
  },
  {
   "cell_type": "code",
   "execution_count": 67,
   "metadata": {},
   "outputs": [
    {
     "name": "stdout",
     "output_type": "stream",
     "text": [
      "time: 927 ms\n"
     ]
    }
   ],
   "source": [
    "# pd.DataFrame(vaso_dose_df).to_csv(\n",
    "#     '/Users/geickelb1/Documents/GitHub/mimiciii-antibiotics-modeling/data/raw/csv/%s_vaso_dose_df.csv' %(date))"
   ]
  },
  {
   "cell_type": "markdown",
   "metadata": {},
   "source": [
    "# 72-hour time window filtering 8/28/18 \n",
    "saving a new version of each clincal variable dataframe that is filtered to only 72 hour window after t_0 for each icustay_id \n",
    "\n",
    "- need to organize this better "
   ]
  },
  {
   "cell_type": "markdown",
   "metadata": {},
   "source": [
    "### reading in data if needed"
   ]
  },
  {
   "cell_type": "code",
   "execution_count": 256,
   "metadata": {},
   "outputs": [
    {
     "name": "stderr",
     "output_type": "stream",
     "text": [
      "/Users/geickelb1/anaconda/envs/rpy-env/lib/python3.6/site-packages/numpy/lib/arraysetops.py:472: FutureWarning: elementwise comparison failed; returning scalar instead, but in the future will perform elementwise comparison\n",
      "  mask |= (ar1 == a)\n"
     ]
    },
    {
     "name": "stdout",
     "output_type": "stream",
     "text": [
      "time: 32.6 s\n"
     ]
    }
   ],
   "source": [
    "# #final_pt_df2 = pd.read_csv('/Users/geickelb1/Documents/GitHub/mimiciii-antibiotics-modeling/data/raw/csv/16082018_final_pt_df2.csv', index_col=0)\n",
    "\n",
    "# #large import of all data \n",
    "\n",
    "# date= '27082018'\n",
    "\n",
    "# vaso_dose_df =pd.read_csv(\n",
    "#     '/Users/geickelb1/Documents/GitHub/mimiciii-antibiotics-modeling/data/raw/csv/%s_vaso_dose_df.csv' %(date), index_col=0)\n",
    "# ventsettings_df=pd.read_csv(\n",
    "#     '/Users/geickelb1/Documents/GitHub/mimiciii-antibiotics-modeling/data/raw/csv/%s_ventsettings_df.csv' %(date), index_col=0)\n",
    "# ventcategory_df=pd.read_csv(\n",
    "#     '/Users/geickelb1/Documents/GitHub/mimiciii-antibiotics-modeling/data/raw/csv/%s_ventcategory_df.csv' %(date), index_col=0)\n",
    "# ventcount_df=pd.read_csv(\n",
    "#     '/Users/geickelb1/Documents/GitHub/mimiciii-antibiotics-modeling/data/raw/csv/%s_ventcount_df.csv' %(date), index_col=0)\n",
    "\n",
    "# echodata_df=pd.read_csv(\n",
    "#     '/Users/geickelb1/Documents/GitHub/mimiciii-antibiotics-modeling/data/raw/csv/%s_echodata_df.csv' %(date), index_col=0)\n",
    "# weightfirstday_df=pd.read_csv(\n",
    "#     '/Users/geickelb1/Documents/GitHub/mimiciii-antibiotics-modeling/data/raw/csv/%s_weightfirstday_df.csv' %(date), index_col=0)\n",
    "# heightfirstday_df=pd.read_csv(\n",
    "#     '/Users/geickelb1/Documents/GitHub/mimiciii-antibiotics-modeling/data/raw/csv/%s_heightfirstday_df.csv' %(date), index_col=0)\n",
    "# labs_all_nosummary_df=pd.read_csv(\n",
    "#     '/Users/geickelb1/Documents/GitHub/mimiciii-antibiotics-modeling/data/raw/csv/%s_labs_all_nosummary_df.csv' %(date), index_col=0)\n",
    "# vitals_all_nosummary_df=pd.read_csv(\n",
    "#     '/Users/geickelb1/Documents/GitHub/mimiciii-antibiotics-modeling/data/raw/csv/%s_vitals_all_nosummary_df.csv' %(date), index_col=0)\n",
    "# gcsall_df=pd.read_csv(\n",
    "#     '/Users/geickelb1/Documents/GitHub/mimiciii-antibiotics-modeling/data/raw/csv/%s_gcsall_df.csv' %(date), index_col=0)\n",
    "# rrt_all_df=pd.read_csv(\n",
    "#     '/Users/geickelb1/Documents/GitHub/mimiciii-antibiotics-modeling/data/raw/csv/%s_rrt_all_df.csv' %(date), index_col=0)\n",
    "# urine_output_all_df=pd.read_csv(\n",
    "#     '/Users/geickelb1/Documents/GitHub/mimiciii-antibiotics-modeling/data/raw/csv/%s_urine_output_all_df.csv' %(date), index_col=0)\n",
    "# uti_all_df=pd.read_csv(\n",
    "#     '/Users/geickelb1/Documents/GitHub/mimiciii-antibiotics-modeling/data/raw/csv/%s_uti_all_df.csv' %(date), index_col=0)\n",
    "# bg_all_nosummary_df=pd.read_csv(\n",
    "#     '/Users/geickelb1/Documents/GitHub/mimiciii-antibiotics-modeling/data/raw/csv/%s_bg_all_nosummary_df.csv' %(date), index_col=0)\n"
   ]
  },
  {
   "cell_type": "code",
   "execution_count": 9,
   "metadata": {},
   "outputs": [
    {
     "name": "stdout",
     "output_type": "stream",
     "text": [
      "time: 12.9 ms\n"
     ]
    }
   ],
   "source": [
    "def hour_72_window(df, final_pt_df2,timevar):\n",
    "    try:\n",
    "        df= pd.merge(df, final_pt_df2[['icustay_id','t_0']], left_on= 'icustay_id', right_on = 'icustay_id') #n=240317\n",
    "        df['delta']= pd.to_datetime(df[timevar]) - pd.to_datetime(df['t_0'])\n",
    "        df_after_t0= df.loc[df.loc[:,'delta']>= pd.Timedelta(days=0),:]\n",
    "        df_after_t0= df_after_t0.loc[df_after_t0.loc[:,'delta']<= pd.Timedelta(days=3),:]\n",
    "    except KeyError or NameError:\n",
    "        df= pd.merge(df, final_pt_df2[['hadm_id','t_0']], left_on= 'hadm_id', right_on = 'hadm_id') #n=240317\n",
    "        df['delta']= pd.to_datetime(df[timevar]) - pd.to_datetime(df['t_0'])\n",
    "        df_after_t0= df.loc[df.loc[:,'delta']>= pd.Timedelta(days=0),:]\n",
    "        df_after_t0= df_after_t0.loc[df_after_t0.loc[:,'delta']<= pd.Timedelta(days=3),:]\n",
    "    return(df_after_t0)"
   ]
  },
  {
   "cell_type": "code",
   "execution_count": 272,
   "metadata": {},
   "outputs": [
    {
     "name": "stdout",
     "output_type": "stream",
     "text": [
      "time: 36.7 s\n"
     ]
    }
   ],
   "source": [
    "###list of data w/ 72 hour adjustments\n",
    "#vaso_dose_df - vaso_dose_72 -\n",
    "#ventsettings_df - ventsettings_72 -\n",
    "#ventcategory_df - ventcategory_df - \n",
    "#ventcount_df - ventcount_df -\n",
    "#echodata_df - echodata_72 -\n",
    "#labs_all_nosummary_df- labs_all_nosummary_72 -\n",
    "#vitals_all_nosummary_df - vitals_all_nosummary_72 -\n",
    "#gcsall_df - Gcs72_df **modified the gcs in python above. within 72 hour window. -\n",
    "#rrt_all_df - rrt_merged_allpt_df *modified the rrt in python above. within 72 hour window.  -\n",
    "#uti_all_df - uti_all_72 -\n",
    "#bg_all_nosummary_df - bg_all_nosummary_72\n",
    "#sofa_df_72 #already within 72hour window\n",
    "\n",
    "#urine_output_all_df - . xxx this also doesn't have times, but this won't be used much so i didn't bother editing.\n",
    "\n",
    "vaso_dose_72= hour_72_window(vaso_dose_df, final_pt_df2, 'starttime')\n",
    "ventsettings_72= hour_72_window(ventsettings_df, final_pt_df2, \"charttime\")\n",
    "echodata_72= hour_72_window(echodata_df, final_pt_df2, 'charttime')\n",
    "labs_all_nosummary_72= hour_72_window(labs_all_nosummary_df, final_pt_df2, \"charttime\")\n",
    "vitals_all_nosummary_72 = hour_72_window(vitals_all_nosummary_df, final_pt_df2, \"charttime\")\n",
    "uti_all_72 = hour_72_window(uti_all_df, final_pt_df2, 'charttime')\n",
    "bg_all_nosummary_72 = hour_72_window(bg_all_nosummary_df, final_pt_df2, 'charttime')"
   ]
  },
  {
   "cell_type": "code",
   "execution_count": 37,
   "metadata": {},
   "outputs": [
    {
     "name": "stdout",
     "output_type": "stream",
     "text": [
      "time: 33.3 s\n"
     ]
    }
   ],
   "source": [
    "bg_all_nosummary_72 = hour_72_window(bg_all_nosummary_df, final_pt_df2, 'charttime')\n",
    "vitals_all_nosummary_72 = hour_72_window(vitals_all_nosummary_df, final_pt_df2, \"charttime\")"
   ]
  },
  {
   "cell_type": "markdown",
   "metadata": {},
   "source": [
    "# filtering to patients with bare minimum vital numbers\n",
    "06.1-QC_and_missingness found that 3% or so of patients don't have baseline vitals counts. this is filtering the patients to only those who have this baseline value.\n",
    "\n",
    "as of 10/12/18, this code has not been implemented in here and is performed after importing. "
   ]
  },
  {
   "cell_type": "code",
   "execution_count": 21,
   "metadata": {},
   "outputs": [
    {
     "name": "stdout",
     "output_type": "stream",
     "text": [
      "time: 5.12 ms\n"
     ]
    }
   ],
   "source": [
    "def df_subset(df):\n",
    "    try:\n",
    "        df = df.loc[df.loc[:,'icustay_id'].isin(icustay_id),:]\n",
    "    except KeyError or NameError:\n",
    "        try:\n",
    "            df = df.loc[df.loc[:,'hadm_id'].isin(hadm_id),:]\n",
    "        except KeyError or NameError:\n",
    "            df = df.loc[df.loc[:,'subject_id'].isin(patients),:]\n",
    "    return(df)"
   ]
  },
  {
   "cell_type": "code",
   "execution_count": 40,
   "metadata": {},
   "outputs": [
    {
     "ename": "NameError",
     "evalue": "name 'ventcategory_df' is not defined",
     "output_type": "error",
     "traceback": [
      "\u001b[0;31m---------------------------------------------------------------------------\u001b[0m",
      "\u001b[0;31mNameError\u001b[0m                                 Traceback (most recent call last)",
      "\u001b[0;32m<ipython-input-40-159804e25ba0>\u001b[0m in \u001b[0;36m<module>\u001b[0;34m()\u001b[0m\n\u001b[1;32m      1\u001b[0m \u001b[0;31m# subsetting each dataframe to only patients in final_patients_df2_v:\u001b[0m\u001b[0;34m\u001b[0m\u001b[0;34m\u001b[0m\u001b[0m\n\u001b[1;32m      2\u001b[0m dataframe_list= [\n\u001b[0;32m----> 3\u001b[0;31m     \u001b[0mventcategory_df\u001b[0m\u001b[0;34m,\u001b[0m \u001b[0mvaso_dose_72\u001b[0m\u001b[0;34m,\u001b[0m \u001b[0mechodata_72\u001b[0m\u001b[0;34m,\u001b[0m\u001b[0;34m\u001b[0m\u001b[0m\n\u001b[0m\u001b[1;32m      4\u001b[0m     \u001b[0mlabs_all_nosummary_72\u001b[0m\u001b[0;34m,\u001b[0m \u001b[0mweightfirstday_df\u001b[0m\u001b[0;34m,\u001b[0m\u001b[0;34m\u001b[0m\u001b[0m\n\u001b[1;32m      5\u001b[0m     \u001b[0mheightfirstday_df\u001b[0m\u001b[0;34m,\u001b[0m \u001b[0mvitals_all_nosummary_72\u001b[0m\u001b[0;34m,\u001b[0m\u001b[0;34m\u001b[0m\u001b[0m\n",
      "\u001b[0;31mNameError\u001b[0m: name 'ventcategory_df' is not defined"
     ]
    },
    {
     "name": "stdout",
     "output_type": "stream",
     "text": [
      "time: 57.4 ms\n"
     ]
    }
   ],
   "source": [
    "# subsetting each dataframe to only patients in final_patients_df2_v:\n",
    "dataframe_list= [\n",
    "    ventcategory_df, vaso_dose_72, echodata_72,\n",
    "    labs_all_nosummary_72, weightfirstday_df,\n",
    "    heightfirstday_df, vitals_all_nosummary_72,\n",
    "    uti_all_72, bg_all_nosummary_72,\n",
    "    rrt_merged_allpt_df, gcs72_df, sofa_df_72\n",
    "]\n",
    "\n",
    "(\n",
    "ventcategory_df, vaso_dose_72, echodata_72,\n",
    "labs_all_nosummary_72, weightfirstday_df,\n",
    "heightfirstday_df, vitals_all_nosummary_72,\n",
    "uti_all_72, bg_all_nosummary_72,\n",
    "rrt_merged_allpt_df, gcs72_df, sofa_df_72\n",
    ") = (df_subset(df) for df in dataframe_list)"
   ]
  },
  {
   "cell_type": "code",
   "execution_count": 274,
   "metadata": {},
   "outputs": [
    {
     "ename": "NameError",
     "evalue": "name 'Gcs72_df' is not defined",
     "output_type": "error",
     "traceback": [
      "\u001b[0;31m---------------------------------------------------------------------------\u001b[0m",
      "\u001b[0;31mNameError\u001b[0m                                 Traceback (most recent call last)",
      "\u001b[0;32m<ipython-input-274-cdbc63866d04>\u001b[0m in \u001b[0;36m<module>\u001b[0;34m()\u001b[0m\n\u001b[1;32m     24\u001b[0m pd.DataFrame(rrt_merged_allpt_df).to_csv(\n\u001b[1;32m     25\u001b[0m     '/Users/geickelb1/Documents/GitHub/mimiciii-antibiotics-modeling/data/raw/csv/72_hr_window/%s_rrt_merged_allpt_df.csv' %(date))\n\u001b[0;32m---> 26\u001b[0;31m pd.DataFrame(Gcs72_df).to_csv(\n\u001b[0m\u001b[1;32m     27\u001b[0m     '/Users/geickelb1/Documents/GitHub/mimiciii-antibiotics-modeling/data/raw/csv/72_hr_window/%s_Gcs72_df.csv' %(date))\n",
      "\u001b[0;31mNameError\u001b[0m: name 'Gcs72_df' is not defined"
     ]
    },
    {
     "name": "stdout",
     "output_type": "stream",
     "text": [
      "time: 2min\n"
     ]
    }
   ],
   "source": [
    "date= '27082018'\n",
    "\n",
    "pd.DataFrame(vaso_dose_72).to_csv(\n",
    "    '/Users/geickelb1/Documents/GitHub/mimiciii-antibiotics-modeling/data/raw/csv/72_hr_window/%s_vaso_dose_72.csv' %(date))\n",
    "pd.DataFrame(ventsettings_72).to_csv(\n",
    "    '/Users/geickelb1/Documents/GitHub/mimiciii-antibiotics-modeling/data/raw/csv/72_hr_window/%s_ventsettings_72.csv' %(date))\n",
    "\n",
    "#vent category and count are already 72hour\n",
    "pd.DataFrame(ventsettings_df).to_csv(\n",
    "    '/Users/geickelb1/Documents/GitHub/mimiciii-antibiotics-modeling/data/raw/csv/%s_ventsettings_df.csv' %(date))\n",
    "pd.DataFrame(ventcategory_df).to_csv(\n",
    "    '/Users/geickelb1/Documents/GitHub/mimiciii-antibiotics-modeling/data/raw/csv/%s_ventcategory_df.csv' %(date))\n",
    "\n",
    "pd.DataFrame(echodata_72).to_csv(\n",
    "    '/Users/geickelb1/Documents/GitHub/mimiciii-antibiotics-modeling/data/raw/csv/72_hr_window/%s_echodata_72.csv' %(date))\n",
    "pd.DataFrame(labs_all_nosummary_72).to_csv(\n",
    "    '/Users/geickelb1/Documents/GitHub/mimiciii-antibiotics-modeling/data/raw/csv/72_hr_window/%s_labs_all_nosummary_72.csv' %(date))\n",
    "\n",
    "#vent category and count are already limited to first day\n",
    "pd.DataFrame(weightfirstday_df).to_csv(\n",
    "    '/Users/geickelb1/Documents/GitHub/mimiciii-antibiotics-modeling/data/raw/csv/72_hr_window/%s_weightfirstday_df.csv' %(date))\n",
    "pd.DataFrame(heightfirstday_df).to_csv(\n",
    "    '/Users/geickelb1/Documents/GitHub/mimiciii-antibiotics-modeling/data/raw/csv/72_hr_window/%s_heightfirstday_df.csv' %(date))\n",
    "\n",
    "pd.DataFrame(vitals_all_nosummary_72).to_csv(\n",
    "    '/Users/geickelb1/Documents/GitHub/mimiciii-antibiotics-modeling/data/raw/csv/72_hr_window/%s_vitals_all_nosummary_72.csv' %(date))\n",
    "pd.DataFrame(uti_all_72).to_csv(\n",
    "    '/Users/geickelb1/Documents/GitHub/mimiciii-antibiotics-modeling/data/raw/csv/72_hr_window/%s_uti_all_72.csv' %(date))\n",
    "pd.DataFrame(bg_all_nosummary_72).to_csv(\n",
    "    '/Users/geickelb1/Documents/GitHub/mimiciii-antibiotics-modeling/data/raw/csv/72_hr_window/%s_bg_all_nosummary_72.csv' %(date))\n",
    "\n",
    "pd.DataFrame(rrt_merged_allpt_df).to_csv(\n",
    "    '/Users/geickelb1/Documents/GitHub/mimiciii-antibiotics-modeling/data/raw/csv/72_hr_window/%s_rrt_merged_allpt_df.csv' %(date))\n",
    "pd.DataFrame(gcs72_df).to_csv(\n",
    "    '/Users/geickelb1/Documents/GitHub/mimiciii-antibiotics-modeling/data/raw/csv/72_hr_window/%s_gcs72_df.csv' %(date))\n",
    "\n",
    "pd.DataFrame(sofa_df_72).to_csv(\n",
    "    '/Users/geickelb1/Documents/GitHub/mimiciii-antibiotics-modeling/data/raw/csv/%s_sofa_df_72.csv' %(date))\n"
   ]
  },
  {
   "cell_type": "code",
   "execution_count": null,
   "metadata": {},
   "outputs": [],
   "source": []
  }
 ],
 "metadata": {
  "kernelspec": {
   "display_name": "Python 3",
   "language": "python",
   "name": "python3"
  },
  "language_info": {
   "codemirror_mode": {
    "name": "ipython",
    "version": 3
   },
   "file_extension": ".py",
   "mimetype": "text/x-python",
   "name": "python",
   "nbconvert_exporter": "python",
   "pygments_lexer": "ipython3",
   "version": "3.6.4"
  }
 },
 "nbformat": 4,
 "nbformat_minor": 2
}
