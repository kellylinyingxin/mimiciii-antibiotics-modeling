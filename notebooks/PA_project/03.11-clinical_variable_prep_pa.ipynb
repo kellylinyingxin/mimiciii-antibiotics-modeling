{
 "cells": [
  {
   "cell_type": "code",
   "execution_count": 1,
   "metadata": {},
   "outputs": [],
   "source": [
    "# designed to be run after 03-clinical_variables_final. this notebook does some data cleaning/processing. run before -___ notebook."
   ]
  },
  {
   "cell_type": "code",
   "execution_count": 2,
   "metadata": {},
   "outputs": [],
   "source": [
    "import pandas as pd\n",
    "import matplotlib.pyplot as plt\n",
    "import os\n",
    "from pathlib import Path\n",
    "import seaborn as sns\n",
    "import numpy as np\n",
    "import glob\n",
    "\n",
    "\n",
    "from sklearn.externals.joblib import Memory\n",
    "memory = Memory(cachedir='/tmp', verbose=0)\n",
    "#@memory.cache above any def fxn.\n",
    "\n",
    "%matplotlib inline\n",
    "plt.style.use('ggplot')\n",
    "\n",
    "from notebook.services.config import ConfigManager\n",
    "cm = ConfigManager()\n",
    "cm.update('livereveal', {\n",
    "        'width': 1024,\n",
    "        'height': 768,\n",
    "        'scroll': True,\n",
    "})\n",
    "\n",
    "%load_ext autotime\n",
    "%reload_ext autotime"
   ]
  },
  {
   "cell_type": "code",
   "execution_count": 3,
   "metadata": {},
   "outputs": [
    {
     "name": "stdout",
     "output_type": "stream",
     "text": [
      "time: 65.6 ms\n"
     ]
    }
   ],
   "source": [
    "#cohort import\n",
    "from pathlib import Path\n",
    "os.chdir('/Users/geickelb1/Documents/GitHub/mimiciii-antibiotics-modeling') #use to change working directory\n",
    "wd= os.getcwd() #'/Users/geickelb1/Documents/GitHub/mimiciii-antibiotics-modeling'\n",
    "\n",
    "date='25012019'\n",
    "final_pt_df2 = pd.read_csv('/Users/geickelb1/Documents/GitHub/mimiciii-antibiotics-modeling/data/raw/csv/25012019_final_pt_df2_v.csv', index_col=0) #final cohort for PA \n",
    "\n",
    "patients= list(final_pt_df2['subject_id'].unique())\n",
    "hadm_id= list(final_pt_df2['hadm_id'].unique())\n",
    "icustay_id= list(final_pt_df2['icustay_id'].unique())\n",
    "icustay_id= [int(x) for x in icustay_id]"
   ]
  },
  {
   "cell_type": "code",
   "execution_count": 4,
   "metadata": {},
   "outputs": [
    {
     "name": "stdin",
     "output_type": "stream",
     "text": [
      "Password: ·····\n"
     ]
    },
    {
     "name": "stdout",
     "output_type": "stream",
     "text": [
      "time: 3.68 s\n"
     ]
    }
   ],
   "source": [
    "#adding this in fow now, will eventually want to switch this to the 03-clinical_variables_final\n",
    "import psycopg2\n",
    "import getpass\n",
    "conn = psycopg2.connect(dbname=\"mimic\", user=\"student\", host=\"luolabwkstn01.fsm.northwestern.edu\", port=\"5432\",\n",
    "                        password=getpass.getpass(prompt='Password:'.format()))\n",
    "cur=conn.cursor()\n",
    "\n",
    "query_schema = 'SET search_path to ' + \"mimiciii\" + ';'"
   ]
  },
  {
   "cell_type": "code",
   "execution_count": 5,
   "metadata": {},
   "outputs": [
    {
     "name": "stdout",
     "output_type": "stream",
     "text": [
      "time: 2.96 ms\n"
     ]
    }
   ],
   "source": [
    "#folder to save files to:\n",
    "save_path= wd+'/data/processed/PA_project'\n",
    "\n",
    "def save_df(df, df_name='default'):\n",
    "    if df_name == 'default':\n",
    "        df_name= \"%s\"%(df)\n",
    "    pd.DataFrame(df).to_csv(Path(save_path+'/%s_%s_prepped.csv' %(date, df_name)))\n",
    "    del(df)"
   ]
  },
  {
   "cell_type": "code",
   "execution_count": 6,
   "metadata": {},
   "outputs": [
    {
     "name": "stdout",
     "output_type": "stream",
     "text": [
      "time: 764 µs\n"
     ]
    }
   ],
   "source": [
    "#time_variable:\n",
    "\n",
    "time_var='first_pos_else_neg_ssc' #for origional project time_var = 't_0', pa_project: 'first_pos_else_neg_ssc'"
   ]
  },
  {
   "cell_type": "code",
   "execution_count": 7,
   "metadata": {},
   "outputs": [
    {
     "data": {
      "text/plain": [
       "['subject_id',\n",
       " 'hadm_id',\n",
       " 't_0_sc',\n",
       " 'icustay_id',\n",
       " 'ab_course',\n",
       " 't_0',\n",
       " 't_end_consec',\n",
       " 'ICU_admit',\n",
       " 'dod_hosp',\n",
       " 'dod_ssn',\n",
       " 'dod_delta',\n",
       " 'org_list',\n",
       " 'spec_type_list',\n",
       " 'Gram_pos',\n",
       " 'first_pos_else_neg_ssc',\n",
       " 'sc_result',\n",
       " 'final_bin']"
      ]
     },
     "execution_count": 7,
     "metadata": {},
     "output_type": "execute_result"
    },
    {
     "name": "stdout",
     "output_type": "stream",
     "text": [
      "time: 2.73 ms\n"
     ]
    }
   ],
   "source": [
    "list(final_pt_df2)"
   ]
  },
  {
   "cell_type": "markdown",
   "metadata": {},
   "source": [
    "# changing my code structure to be a dictionary of dataframes"
   ]
  },
  {
   "cell_type": "code",
   "execution_count": 8,
   "metadata": {},
   "outputs": [
    {
     "name": "stdout",
     "output_type": "stream",
     "text": [
      "time: 2.01 ms\n"
     ]
    }
   ],
   "source": [
    "#importing in all clinical_variable files\n",
    "date= '25012019'\n",
    "os.chdir(r'/Users/geickelb1/Documents/GitHub/mimiciii-antibiotics-modeling/data/raw/csv/PA_project/')\n",
    "allFiles = glob.glob(os.getcwd() + \"/{}_*.csv\".format(date))"
   ]
  },
  {
   "cell_type": "code",
   "execution_count": 9,
   "metadata": {},
   "outputs": [
    {
     "data": {
      "text/plain": [
       "['/Users/geickelb1/Documents/GitHub/mimiciii-antibiotics-modeling/data/raw/csv/PA_project/25012019_ventcategory_df.csv',\n",
       " '/Users/geickelb1/Documents/GitHub/mimiciii-antibiotics-modeling/data/raw/csv/PA_project/25012019_pt_info_df.csv',\n",
       " '/Users/geickelb1/Documents/GitHub/mimiciii-antibiotics-modeling/data/raw/csv/PA_project/25012019_heightfirstday_df.csv',\n",
       " '/Users/geickelb1/Documents/GitHub/mimiciii-antibiotics-modeling/data/raw/csv/PA_project/25012019_sofa_df_72.csv',\n",
       " '/Users/geickelb1/Documents/GitHub/mimiciii-antibiotics-modeling/data/raw/csv/PA_project/25012019_uti_all_72.csv',\n",
       " '/Users/geickelb1/Documents/GitHub/mimiciii-antibiotics-modeling/data/raw/csv/PA_project/25012019_rrt_merged_allpt_df.csv',\n",
       " '/Users/geickelb1/Documents/GitHub/mimiciii-antibiotics-modeling/data/raw/csv/PA_project/25012019_weightfirstday_df.csv',\n",
       " '/Users/geickelb1/Documents/GitHub/mimiciii-antibiotics-modeling/data/raw/csv/PA_project/25012019_vaso_dose_72.csv',\n",
       " '/Users/geickelb1/Documents/GitHub/mimiciii-antibiotics-modeling/data/raw/csv/PA_project/25012019_vitals_all_nosummary_72.csv',\n",
       " '/Users/geickelb1/Documents/GitHub/mimiciii-antibiotics-modeling/data/raw/csv/PA_project/25012019_labs_all_nosummary_72.csv',\n",
       " '/Users/geickelb1/Documents/GitHub/mimiciii-antibiotics-modeling/data/raw/csv/PA_project/25012019_gcs72_df.csv',\n",
       " '/Users/geickelb1/Documents/GitHub/mimiciii-antibiotics-modeling/data/raw/csv/PA_project/25012019_bg_all_nosummary_72.csv',\n",
       " '/Users/geickelb1/Documents/GitHub/mimiciii-antibiotics-modeling/data/raw/csv/PA_project/25012019_ethnicity_df.csv']"
      ]
     },
     "execution_count": 9,
     "metadata": {},
     "output_type": "execute_result"
    },
    {
     "name": "stdout",
     "output_type": "stream",
     "text": [
      "time: 1.86 ms\n"
     ]
    }
   ],
   "source": [
    "allFiles"
   ]
  },
  {
   "cell_type": "code",
   "execution_count": 10,
   "metadata": {},
   "outputs": [
    {
     "name": "stderr",
     "output_type": "stream",
     "text": [
      "/Users/geickelb1/anaconda/envs/rpy-env/lib/python3.6/site-packages/numpy/lib/arraysetops.py:472: FutureWarning: elementwise comparison failed; returning scalar instead, but in the future will perform elementwise comparison\n",
      "  mask |= (ar1 == a)\n"
     ]
    },
    {
     "name": "stdout",
     "output_type": "stream",
     "text": [
      "time: 6.55 s\n"
     ]
    }
   ],
   "source": [
    "#making a dictionary of all my dataframes for easier cycling through\n",
    "\n",
    "df_list=[]\n",
    "for element in allFiles:\n",
    "    df_list.append(element.split('{}_'.format(date))[1].split('.csv')[0]) #making an list of all my dataframes in order they appear in file\n",
    "\n",
    "dfs = {}\n",
    "i=0\n",
    "for name in df_list:\n",
    "    dfs[name] = pd.read_csv(allFiles[i],  index_col=0)\n",
    "    i+=1"
   ]
  },
  {
   "cell_type": "code",
   "execution_count": 11,
   "metadata": {},
   "outputs": [
    {
     "name": "stdout",
     "output_type": "stream",
     "text": [
      "time: 1.11 ms\n"
     ]
    }
   ],
   "source": [
    "# ##dropping hadm_id from all:\n",
    "# list1=[]\n",
    "# for element in df_list:\n",
    "#     if 'hadm_id' in (list(dfs[element])):\n",
    "#         list1.append(element)\n",
    "\n",
    "# for element in list1:\n",
    "#     dfs[element]= dfs[element].drop('hadm_id', axis=1)"
   ]
  },
  {
   "cell_type": "code",
   "execution_count": 12,
   "metadata": {},
   "outputs": [
    {
     "name": "stdout",
     "output_type": "stream",
     "text": [
      "ventcategory_df : ['icustay_id', 'day', 'value', 'uom', 'first_pos_else_neg_ssc']\n",
      "pt_info_df : ['subject_id', 'gender']\n",
      "heightfirstday_df : ['icustay_id', 'height', 'height_chart', 'height_echo', 'uom']\n",
      "sofa_df_72 : ['subject_id', 'hadm_id', 'icustay_id', 'day', 'sofa', 'respiration', 'pao2fio2_vent_min', 'pao2fio2_novent_min', 'coagulation', 'platelet_min', 'liver', 'bilirubin_max', 'cardiovascular', 'rate_dopamine', 'rate_epinephrine', 'rate_norepinephrine', 'rate_dobutamine', 'meanbp_min', 'cns', 'mingcs', 'renal', 'creatinine_max', 'urineoutput', 'first_pos_else_neg_ssc', 'ICU_admit', 'approx_charttime']\n",
      "uti_all_72 : ['subject_id', 'hadm_id', 'itemid', 'charttime', 'value', 'valuenum', 'valueuom', 'label', 'fluid', 'category', 'loinc_code', 'icd9_code', 'first_pos_else_neg_ssc', 'delta']\n",
      "rrt_merged_allpt_df : ['icustay_id', 'first_pos_else_neg_ssc', 'first_charttime', 'rrt', 'uom']\n",
      "weightfirstday_df : ['icustay_id', 'weight', 'weight_admit', 'weight_daily', 'weight_echoinhosp', 'weight_echoprehosp', 'uom']\n",
      "vaso_dose_72 : ['icustay_id', 'starttime', 'endtime', 'vaso_rate', 'vaso_amount', 'amount_uom', 'rate_uom', 'label', 'first_pos_else_neg_ssc', 'delta']\n",
      "vitals_all_nosummary_72 : ['subject_id', 'hadm_id', 'icustay_id', 'charttime', 'valueuom', 'vitalid', 'valuenum', 'first_pos_else_neg_ssc', 'delta']\n",
      "labs_all_nosummary_72 : ['subject_id', 'hadm_id', 'icustay_id', 'charttime', 'label', 'valuenum', 'uom', 'first_pos_else_neg_ssc', 'delta']\n",
      "gcs72_df : ['subject_id', 'hadm_id', 'icustay_id', 'day', 'mingcs', 'gcsmotor', 'gcsverbal', 'gcseyes', 'endotrachflag', 'ICU_admit', 'first_pos_else_neg_ssc', 'approx_charttime', 'admit_plus_day', 'delta', 'uom']\n",
      "bg_all_nosummary_72 : ['subject_id', 'hadm_id', 'icustay_id', 'charttime', 'label', 'valuenum', 'value', 'valueuom', 'unique_var', 'first_pos_else_neg_ssc', 'delta']\n",
      "ethnicity_df : ['subject_id', 'insurance', 'language', 'religion', 'marital_status', 'ethnicity']\n",
      "time: 3.53 ms\n"
     ]
    }
   ],
   "source": [
    "#all of the column names \n",
    "for element in df_list:\n",
    "    print(element,':',list(dfs[element]))"
   ]
  },
  {
   "cell_type": "code",
   "execution_count": null,
   "metadata": {},
   "outputs": [],
   "source": []
  },
  {
   "cell_type": "markdown",
   "metadata": {},
   "source": [
    "#### Note: Nelson has said we do not need to incorporate Echo data, so this has been removed 10/22/18"
   ]
  },
  {
   "cell_type": "code",
   "execution_count": 13,
   "metadata": {},
   "outputs": [
    {
     "name": "stdout",
     "output_type": "stream",
     "text": [
      "time: 7.36 ms\n"
     ]
    }
   ],
   "source": [
    "# #reading in all of my data that is not limited to 72 hour time window between t_0 and t+72\n",
    "# #date= '27082018'  #date of the files i will be importing\n",
    "# date= '25012019'\n",
    "# ventcategory_df=pd.read_csv(Path(\n",
    "#     wd+'/data/raw/csv/%s_ventcategory_df.csv' %(date)), index_col=0)\n",
    "\n",
    "# vaso_dose_72=pd.read_csv(Path(\n",
    "#     wd+'/data/raw/csv/72_hr_window/%s_vaso_dose_72.csv' %(date)), index_col=0)\n",
    "# labs_all_nosummary_72=pd.read_csv(Path(\n",
    "#     wd+'/data/raw/csv/72_hr_window/%s_labs_all_nosummary_72.csv' %(date)), index_col=0)\n",
    "\n",
    "# weightfirstday_df=pd.read_csv(Path(\n",
    "#     wd+'/data/raw/csv/72_hr_window/%s_weightfirstday_df.csv' %(date)), index_col=0)\n",
    "# heightfirstday_df=pd.read_csv(Path(\n",
    "#     wd+'/data/raw/csv/72_hr_window/%s_heightfirstday_df.csv' %(date)), index_col=0)\n",
    "\n",
    "# vitals_all_nosummary_72=pd.read_csv(Path(\n",
    "#     wd+'/data/raw/csv/72_hr_window/%s_vitals_all_nosummary_72.csv' %(date)), index_col=0)\n",
    "\n",
    "# bg_all_nosummary_72=pd.read_csv(Path(\n",
    "#     wd+'/data/raw/csv/72_hr_window/%s_bg_all_nosummary_72.csv' %(date)), index_col=0)\n",
    "\n",
    "\n",
    "# rrt_merged_allpt_df=pd.read_csv(Path(\n",
    "#     wd+'/data/raw/csv/72_hr_window/%s_rrt_merged_allpt_df.csv' %(date)), index_col=0)\n",
    "# gcs72_df=pd.read_csv(Path(\n",
    "#     wd+'/data/raw/csv/72_hr_window/%s_gcs72_df.csv' %(date)), index_col=0)\n",
    "\n",
    "# sofa_df_72=pd.read_csv(Path(\n",
    "#     wd+'/data/raw/csv/%s_sofa_df_72.csv' %(date)), index_col=0)\n",
    "\n",
    "# # echodata_72=pd.read_csv(Path(\n",
    "# #     wd+'/data/raw/csv/72_hr_window/%s_echodata_72.csv' %(date)), index_col=0)\n",
    "# # uti_all_72=pd.read_csv(Path(\n",
    "# #     wd+'/data/raw/csv/72_hr_window/%s_uti_all_72.csv' %(date)), index_col=0)\n"
   ]
  },
  {
   "cell_type": "code",
   "execution_count": 14,
   "metadata": {},
   "outputs": [
    {
     "name": "stdout",
     "output_type": "stream",
     "text": [
      "time: 6.43 ms\n"
     ]
    }
   ],
   "source": [
    "##1-29-19 subseting and time windowed moved to 03.01\n",
    "# def df_subset(df):\n",
    "#     try:\n",
    "#         df = df.loc[df.loc[:,'icustay_id'].isin(icustay_id),:]\n",
    "#     except KeyError or NameError:\n",
    "#         try:\n",
    "#             df = df.loc[df.loc[:,'hadm_id'].isin(hadm_id),:]\n",
    "#         except KeyError or NameError:\n",
    "#             df = df.loc[df.loc[:,'subject_id'].isin(patients),:]\n",
    "#     return(df)\n",
    "\n",
    "# # subsetting each dataframe to only patients in final_patients_df2_v:\n",
    "# dataframe_list= [\n",
    "#     ventcategory_df, vaso_dose_72, #echodata_72,\n",
    "#     labs_all_nosummary_72, weightfirstday_df,\n",
    "#     heightfirstday_df, vitals_all_nosummary_72,\n",
    "#     uti_all_72, bg_all_nosummary_72,\n",
    "#     rrt_merged_allpt_df, gcs72_df, sofa_df_72\n",
    "# ]\n",
    "\n",
    "# (\n",
    "# ventcategory_df, vaso_dose_72, #echodata_72,\n",
    "# labs_all_nosummary_72, weightfirstday_df,\n",
    "# heightfirstday_df, vitals_all_nosummary_72,\n",
    "# uti_all_72, bg_all_nosummary_72,\n",
    "# rrt_merged_allpt_df, gcs72_df, sofa_df_72\n",
    "# ) = (df_subset(df) for df in dataframe_list)"
   ]
  },
  {
   "cell_type": "code",
   "execution_count": 15,
   "metadata": {},
   "outputs": [
    {
     "name": "stdout",
     "output_type": "stream",
     "text": [
      "time: 19.8 ms\n"
     ]
    }
   ],
   "source": [
    "def yn_convert(df, #df in format where each row corresponds to a test, and a patient can have many rows\n",
    "               label_fill, # value that will be filled to na's\n",
    "               pt= final_pt_df2,\n",
    "               time_var='t_0', #\n",
    "               value_fill=0,\n",
    "               delta_fill=pd.to_timedelta('0 days'),\n",
    "               uom_fill='y/n'):\n",
    "\n",
    "    \"\"\"\n",
    "    description: collapses a dataframe where each row corresponds to a test, and a patient can have many rows -> \n",
    "    1 row per patient where value is binary variable yes or no a patient has any value within the timewindow (specified in data collection).\n",
    "    said a different way, for patient this fxn collapses values down to does pt have in time window y/n? \n",
    "    \"\"\"\n",
    "    \n",
    "    yn_df = pd.merge(pt[['icustay_id', time_var]],\n",
    "                      df[['icustay_id','value','label','uom','delta']],\n",
    "                     left_on= 'icustay_id',\n",
    "                     right_on= 'icustay_id',\n",
    "                      how='left') #merging icustay_id with time_var, where value,label,uom, and delta are nan's if no value exists for that icustay\n",
    "\n",
    "    yn_df['value']= yn_df['value'].fillna(value_fill) #converts na to 0 in above na rows.\n",
    "    yn_df.loc[yn_df.loc[:,'value']!=value_fill, 'value']= 1 #squashes all other values into a binary 1 = yes\n",
    "    yn_df['delta']= yn_df['delta'].fillna(delta_fill)\n",
    "    yn_df['delta']= pd.to_timedelta(yn_df['delta']) #filling in the time delta to time =0 for filled rows\n",
    "    yn_df['uom']= yn_df['uom'].fillna(uom_fill)\n",
    "    yn_df.loc[yn_df.loc[:,'uom']!=uom_fill, 'uom']= uom_fill\n",
    "    yn_df['label']= yn_df['label'].fillna(label_fill)\n",
    "    \n",
    "    return(yn_df)"
   ]
  },
  {
   "cell_type": "code",
   "execution_count": 16,
   "metadata": {},
   "outputs": [
    {
     "name": "stdout",
     "output_type": "stream",
     "text": [
      "time: 1.08 ms\n"
     ]
    }
   ],
   "source": [
    "# date that i ran the below code on the files.\n",
    "\n",
    "#date= '14112018'"
   ]
  },
  {
   "cell_type": "markdown",
   "metadata": {},
   "source": [
    "## vaso dose"
   ]
  },
  {
   "cell_type": "code",
   "execution_count": 17,
   "metadata": {},
   "outputs": [
    {
     "name": "stdout",
     "output_type": "stream",
     "text": [
      "time: 24.9 ms\n"
     ]
    }
   ],
   "source": [
    "#vaso_dose_72.head()\n",
    "# vaso_dose_72= vaso_dose_72.rename(\n",
    "#     columns={'starttime':'charttime','label':'vaso_type'})#.drop(labels='endtime', axis=1) \n",
    "#renaming starttime to charttime and dropping endtime\n",
    "\n",
    "dfs['vaso_dose_72']= dfs['vaso_dose_72'].rename(\n",
    "    columns={'starttime':'charttime','label':'vaso_type'})"
   ]
  },
  {
   "cell_type": "code",
   "execution_count": 18,
   "metadata": {},
   "outputs": [
    {
     "data": {
      "text/plain": [
       "26827"
      ]
     },
     "execution_count": 18,
     "metadata": {},
     "output_type": "execute_result"
    },
    {
     "name": "stdout",
     "output_type": "stream",
     "text": [
      "time: 11.7 ms\n"
     ]
    }
   ],
   "source": [
    "len(dfs['vaso_dose_72'])"
   ]
  },
  {
   "cell_type": "code",
   "execution_count": 19,
   "metadata": {},
   "outputs": [
    {
     "data": {
      "text/html": [
       "<div>\n",
       "<style scoped>\n",
       "    .dataframe tbody tr th:only-of-type {\n",
       "        vertical-align: middle;\n",
       "    }\n",
       "\n",
       "    .dataframe tbody tr th {\n",
       "        vertical-align: top;\n",
       "    }\n",
       "\n",
       "    .dataframe thead th {\n",
       "        text-align: right;\n",
       "    }\n",
       "</style>\n",
       "<table border=\"1\" class=\"dataframe\">\n",
       "  <thead>\n",
       "    <tr style=\"text-align: right;\">\n",
       "      <th></th>\n",
       "      <th>icustay_id</th>\n",
       "      <th>charttime</th>\n",
       "      <th>endtime</th>\n",
       "      <th>vaso_rate</th>\n",
       "      <th>vaso_amount</th>\n",
       "      <th>amount_uom</th>\n",
       "      <th>rate_uom</th>\n",
       "      <th>vaso_type</th>\n",
       "      <th>first_pos_else_neg_ssc</th>\n",
       "      <th>delta</th>\n",
       "    </tr>\n",
       "  </thead>\n",
       "  <tbody>\n",
       "    <tr>\n",
       "      <th>2</th>\n",
       "      <td>200290.0</td>\n",
       "      <td>2102-12-26 03:15:00</td>\n",
       "      <td>2102-12-26 04:00:00</td>\n",
       "      <td>0.250072</td>\n",
       "      <td>1.073559</td>\n",
       "      <td>mg</td>\n",
       "      <td>mcg/kg/min</td>\n",
       "      <td>phenylephrine</td>\n",
       "      <td>2102-12-26 18:54:00</td>\n",
       "      <td>-1 days +08:21:00.000000000</td>\n",
       "    </tr>\n",
       "    <tr>\n",
       "      <th>4</th>\n",
       "      <td>200349.0</td>\n",
       "      <td>2139-06-02 16:31:00</td>\n",
       "      <td>2139-06-02 18:10:00</td>\n",
       "      <td>0.012030</td>\n",
       "      <td>0.073958</td>\n",
       "      <td>mg</td>\n",
       "      <td>mcg/kg/min</td>\n",
       "      <td>epinephrine</td>\n",
       "      <td>2139-06-02 19:50:00</td>\n",
       "      <td>-1 days +20:41:00.000000000</td>\n",
       "    </tr>\n",
       "    <tr>\n",
       "      <th>6</th>\n",
       "      <td>200349.0</td>\n",
       "      <td>2139-06-01 23:51:00</td>\n",
       "      <td>2139-06-02 09:05:00</td>\n",
       "      <td>0.404244</td>\n",
       "      <td>3.729939</td>\n",
       "      <td>mg</td>\n",
       "      <td>mcg/kg/min</td>\n",
       "      <td>norepinephrine</td>\n",
       "      <td>2139-06-02 19:50:00</td>\n",
       "      <td>-1 days +04:01:00.000000000</td>\n",
       "    </tr>\n",
       "    <tr>\n",
       "      <th>9</th>\n",
       "      <td>200952.0</td>\n",
       "      <td>2139-09-25 12:00:00</td>\n",
       "      <td>2139-09-25 21:59:00</td>\n",
       "      <td>0.080068</td>\n",
       "      <td>1.962759</td>\n",
       "      <td>mg</td>\n",
       "      <td>mcg/kg/min</td>\n",
       "      <td>epinephrine</td>\n",
       "      <td>2139-09-25 19:43:00</td>\n",
       "      <td>-1 days +16:17:00.000000000</td>\n",
       "    </tr>\n",
       "    <tr>\n",
       "      <th>10</th>\n",
       "      <td>200952.0</td>\n",
       "      <td>2139-09-25 21:59:00</td>\n",
       "      <td>2139-09-26 07:38:00</td>\n",
       "      <td>0.060601</td>\n",
       "      <td>2.000000</td>\n",
       "      <td>mg</td>\n",
       "      <td>mcg/kg/min</td>\n",
       "      <td>epinephrine</td>\n",
       "      <td>2139-09-25 19:43:00</td>\n",
       "      <td>0 days 02:16:00.000000000</td>\n",
       "    </tr>\n",
       "  </tbody>\n",
       "</table>\n",
       "</div>"
      ],
      "text/plain": [
       "    icustay_id            charttime              endtime  vaso_rate  \\\n",
       "2     200290.0  2102-12-26 03:15:00  2102-12-26 04:00:00   0.250072   \n",
       "4     200349.0  2139-06-02 16:31:00  2139-06-02 18:10:00   0.012030   \n",
       "6     200349.0  2139-06-01 23:51:00  2139-06-02 09:05:00   0.404244   \n",
       "9     200952.0  2139-09-25 12:00:00  2139-09-25 21:59:00   0.080068   \n",
       "10    200952.0  2139-09-25 21:59:00  2139-09-26 07:38:00   0.060601   \n",
       "\n",
       "    vaso_amount amount_uom    rate_uom       vaso_type first_pos_else_neg_ssc  \\\n",
       "2      1.073559         mg  mcg/kg/min   phenylephrine    2102-12-26 18:54:00   \n",
       "4      0.073958         mg  mcg/kg/min     epinephrine    2139-06-02 19:50:00   \n",
       "6      3.729939         mg  mcg/kg/min  norepinephrine    2139-06-02 19:50:00   \n",
       "9      1.962759         mg  mcg/kg/min     epinephrine    2139-09-25 19:43:00   \n",
       "10     2.000000         mg  mcg/kg/min     epinephrine    2139-09-25 19:43:00   \n",
       "\n",
       "                          delta  \n",
       "2   -1 days +08:21:00.000000000  \n",
       "4   -1 days +20:41:00.000000000  \n",
       "6   -1 days +04:01:00.000000000  \n",
       "9   -1 days +16:17:00.000000000  \n",
       "10    0 days 02:16:00.000000000  "
      ]
     },
     "execution_count": 19,
     "metadata": {},
     "output_type": "execute_result"
    },
    {
     "name": "stdout",
     "output_type": "stream",
     "text": [
      "time: 16.1 ms\n"
     ]
    }
   ],
   "source": [
    "dfs['vaso_dose_72'].head()"
   ]
  },
  {
   "cell_type": "code",
   "execution_count": 20,
   "metadata": {},
   "outputs": [
    {
     "name": "stdout",
     "output_type": "stream",
     "text": [
      "time: 12.3 ms\n"
     ]
    }
   ],
   "source": [
    "#removing units/hour because that is a different use of vasopressin\n",
    "dfs['vaso_dose_72'] = dfs['vaso_dose_72'].loc[dfs['vaso_dose_72'].loc[:,'rate_uom']!= 'units/hour',:]\n",
    "dfs['vaso_dose_72'] = dfs['vaso_dose_72'].loc[dfs['vaso_dose_72'].loc[:,'rate_uom']!= 'Uhr',:]"
   ]
  },
  {
   "cell_type": "code",
   "execution_count": 21,
   "metadata": {},
   "outputs": [
    {
     "data": {
      "text/plain": [
       "26827"
      ]
     },
     "execution_count": 21,
     "metadata": {},
     "output_type": "execute_result"
    },
    {
     "name": "stdout",
     "output_type": "stream",
     "text": [
      "time: 2.24 ms\n"
     ]
    }
   ],
   "source": [
    "len(dfs['vaso_dose_72'])"
   ]
  },
  {
   "cell_type": "code",
   "execution_count": 22,
   "metadata": {},
   "outputs": [
    {
     "data": {
      "text/plain": [
       "array(['mcg/kg/min', 'mcgkgmin', 'Umin'], dtype=object)"
      ]
     },
     "execution_count": 22,
     "metadata": {},
     "output_type": "execute_result"
    },
    {
     "name": "stdout",
     "output_type": "stream",
     "text": [
      "time: 13 ms\n"
     ]
    }
   ],
   "source": [
    "dfs['vaso_dose_72']['rate_uom'].unique()"
   ]
  },
  {
   "cell_type": "markdown",
   "metadata": {},
   "source": [
    "#### removing outliers/extreme values"
   ]
  },
  {
   "cell_type": "code",
   "execution_count": 23,
   "metadata": {},
   "outputs": [
    {
     "name": "stdout",
     "output_type": "stream",
     "text": [
      "time: 33.5 ms\n"
     ]
    }
   ],
   "source": [
    "# Use transform to add a column back to the orig df from a groupby aggregation, transform returns a Series with its index aligned to the orig df:\n",
    "def vaso_outlier_removal(df):\n",
    "    test_group=(dfs['vaso_dose_72'][['vaso_rate','rate_uom','amount_uom','vaso_type']]#.groupby('vaso_type', as_index=False)\n",
    "         .groupby(['vaso_type','rate_uom'])\n",
    "             )\n",
    "\n",
    "    dfs['vaso_dose_72']['std']=test_group.transform(lambda x : x.std())\n",
    "    dfs['vaso_dose_72']['mean']=test_group.transform(lambda x : x.mean())\n",
    "\n",
    "    normal_high_value= pd.DataFrame({\n",
    "        'vaso_type' : ['dobutamine','dopamine','epinephrine','norepinephrine','vasopressin','phenylephrine'],\n",
    "        'high_value': [40, 20, 0.5, 1, 0.1, 2] #highest values one might expect to see in a clinic, ie above this is likely erroneous\n",
    "    }) #found from literature, see notes\n",
    "\n",
    "    dfs['vaso_dose_72'] = pd.merge(dfs['vaso_dose_72'], normal_high_value, left_on='vaso_type', right_on='vaso_type')\n",
    "\n",
    "    vaso_dose_72_rmout =(dfs['vaso_dose_72'][\n",
    "        ~((dfs['vaso_dose_72']['vaso_rate'] > dfs['vaso_dose_72']['high_value']) & ((dfs['vaso_dose_72']['vaso_rate']-dfs['vaso_dose_72']['mean'])>= (3*dfs['vaso_dose_72']['std'])))\n",
    "        ])\n",
    "    #ie vaso_dose_72_rmout is a dataframe of all rows that excludes rows where vaso rate > literature high value and where vaso_rate >3sd from teh mean\n",
    "    return(vaso_dose_72_rmout)"
   ]
  },
  {
   "cell_type": "code",
   "execution_count": 24,
   "metadata": {},
   "outputs": [
    {
     "name": "stdout",
     "output_type": "stream",
     "text": [
      "time: 87.3 ms\n"
     ]
    }
   ],
   "source": [
    "dfs['vaso_dose_72']= vaso_outlier_removal(dfs['vaso_dose_72'])"
   ]
  },
  {
   "cell_type": "code",
   "execution_count": 25,
   "metadata": {},
   "outputs": [
    {
     "data": {
      "text/plain": [
       "26660"
      ]
     },
     "execution_count": 25,
     "metadata": {},
     "output_type": "execute_result"
    },
    {
     "name": "stdout",
     "output_type": "stream",
     "text": [
      "time: 1.52 ms\n"
     ]
    }
   ],
   "source": [
    "len(dfs['vaso_dose_72']) #26660, down from 26827"
   ]
  },
  {
   "cell_type": "code",
   "execution_count": 26,
   "metadata": {},
   "outputs": [
    {
     "data": {
      "text/plain": [
       "array(['phenylephrine', 'epinephrine', 'norepinephrine', 'vasopressin',\n",
       "       'dopamine', 'dobutamine'], dtype=object)"
      ]
     },
     "execution_count": 26,
     "metadata": {},
     "output_type": "execute_result"
    },
    {
     "name": "stdout",
     "output_type": "stream",
     "text": [
      "time: 2.97 ms\n"
     ]
    }
   ],
   "source": [
    "dfs['vaso_dose_72']['vaso_type'].unique()"
   ]
  },
  {
   "cell_type": "code",
   "execution_count": 27,
   "metadata": {},
   "outputs": [
    {
     "data": {
      "text/plain": [
       "array(['mcg/kg/min', 'mcgkgmin', 'Umin'], dtype=object)"
      ]
     },
     "execution_count": 27,
     "metadata": {},
     "output_type": "execute_result"
    },
    {
     "name": "stdout",
     "output_type": "stream",
     "text": [
      "time: 2.67 ms\n"
     ]
    }
   ],
   "source": [
    "dfs['vaso_dose_72']['rate_uom'].unique()"
   ]
  },
  {
   "cell_type": "code",
   "execution_count": 28,
   "metadata": {},
   "outputs": [
    {
     "name": "stdout",
     "output_type": "stream",
     "text": [
      "time: 26.3 ms\n"
     ]
    }
   ],
   "source": [
    "#standardizing names, dropping unneeded columns for analysis\n",
    "dfs['vaso_dose_72']= dfs['vaso_dose_72'].drop(['vaso_amount', 'amount_uom','std','mean','high_value'], axis=1)\n",
    "dfs['vaso_dose_72']= dfs['vaso_dose_72'].rename(index=str, columns={'vaso_rate': 'value', 'rate_uom':'uom','vaso_type':'label'})"
   ]
  },
  {
   "cell_type": "code",
   "execution_count": 29,
   "metadata": {},
   "outputs": [
    {
     "data": {
      "text/plain": [
       "array(['phenylephrine', 'epinephrine', 'norepinephrine', 'vasopressin',\n",
       "       'dopamine', 'dobutamine'], dtype=object)"
      ]
     },
     "execution_count": 29,
     "metadata": {},
     "output_type": "execute_result"
    },
    {
     "name": "stdout",
     "output_type": "stream",
     "text": [
      "time: 9.33 ms\n"
     ]
    }
   ],
   "source": [
    "dfs['vaso_dose_72']['label'].unique()"
   ]
  },
  {
   "cell_type": "code",
   "execution_count": 30,
   "metadata": {},
   "outputs": [
    {
     "data": {
      "text/html": [
       "<div>\n",
       "<style scoped>\n",
       "    .dataframe tbody tr th:only-of-type {\n",
       "        vertical-align: middle;\n",
       "    }\n",
       "\n",
       "    .dataframe tbody tr th {\n",
       "        vertical-align: top;\n",
       "    }\n",
       "\n",
       "    .dataframe thead th {\n",
       "        text-align: right;\n",
       "    }\n",
       "</style>\n",
       "<table border=\"1\" class=\"dataframe\">\n",
       "  <thead>\n",
       "    <tr style=\"text-align: right;\">\n",
       "      <th></th>\n",
       "      <th>icustay_id</th>\n",
       "      <th>charttime</th>\n",
       "      <th>endtime</th>\n",
       "      <th>value</th>\n",
       "      <th>uom</th>\n",
       "      <th>label</th>\n",
       "      <th>first_pos_else_neg_ssc</th>\n",
       "      <th>delta</th>\n",
       "    </tr>\n",
       "  </thead>\n",
       "  <tbody>\n",
       "    <tr>\n",
       "      <th>0</th>\n",
       "      <td>200290.0</td>\n",
       "      <td>2102-12-26 03:15:00</td>\n",
       "      <td>2102-12-26 04:00:00</td>\n",
       "      <td>0.250072</td>\n",
       "      <td>mcg/kg/min</td>\n",
       "      <td>phenylephrine</td>\n",
       "      <td>2102-12-26 18:54:00</td>\n",
       "      <td>-1 days +08:21:00.000000000</td>\n",
       "    </tr>\n",
       "    <tr>\n",
       "      <th>1</th>\n",
       "      <td>201906.0</td>\n",
       "      <td>2178-12-26 21:10:00</td>\n",
       "      <td>2178-12-27 01:03:00</td>\n",
       "      <td>4.855967</td>\n",
       "      <td>mcg/kg/min</td>\n",
       "      <td>phenylephrine</td>\n",
       "      <td>2178-12-26 05:16:00</td>\n",
       "      <td>0 days 15:54:00.000000000</td>\n",
       "    </tr>\n",
       "    <tr>\n",
       "      <th>2</th>\n",
       "      <td>201906.0</td>\n",
       "      <td>2178-12-27 01:03:00</td>\n",
       "      <td>2178-12-27 03:35:00</td>\n",
       "      <td>4.873294</td>\n",
       "      <td>mcg/kg/min</td>\n",
       "      <td>phenylephrine</td>\n",
       "      <td>2178-12-26 05:16:00</td>\n",
       "      <td>0 days 19:47:00.000000000</td>\n",
       "    </tr>\n",
       "    <tr>\n",
       "      <th>3</th>\n",
       "      <td>201906.0</td>\n",
       "      <td>2178-12-27 03:35:00</td>\n",
       "      <td>2178-12-27 05:59:00</td>\n",
       "      <td>4.855967</td>\n",
       "      <td>mcg/kg/min</td>\n",
       "      <td>phenylephrine</td>\n",
       "      <td>2178-12-26 05:16:00</td>\n",
       "      <td>0 days 22:19:00.000000000</td>\n",
       "    </tr>\n",
       "    <tr>\n",
       "      <th>4</th>\n",
       "      <td>202639.0</td>\n",
       "      <td>2163-04-24 16:00:00</td>\n",
       "      <td>2163-04-24 17:43:00</td>\n",
       "      <td>3.507000</td>\n",
       "      <td>mcg/kg/min</td>\n",
       "      <td>phenylephrine</td>\n",
       "      <td>2163-04-24 02:38:00</td>\n",
       "      <td>0 days 13:22:00.000000000</td>\n",
       "    </tr>\n",
       "  </tbody>\n",
       "</table>\n",
       "</div>"
      ],
      "text/plain": [
       "   icustay_id            charttime              endtime     value         uom  \\\n",
       "0    200290.0  2102-12-26 03:15:00  2102-12-26 04:00:00  0.250072  mcg/kg/min   \n",
       "1    201906.0  2178-12-26 21:10:00  2178-12-27 01:03:00  4.855967  mcg/kg/min   \n",
       "2    201906.0  2178-12-27 01:03:00  2178-12-27 03:35:00  4.873294  mcg/kg/min   \n",
       "3    201906.0  2178-12-27 03:35:00  2178-12-27 05:59:00  4.855967  mcg/kg/min   \n",
       "4    202639.0  2163-04-24 16:00:00  2163-04-24 17:43:00  3.507000  mcg/kg/min   \n",
       "\n",
       "           label first_pos_else_neg_ssc                        delta  \n",
       "0  phenylephrine    2102-12-26 18:54:00  -1 days +08:21:00.000000000  \n",
       "1  phenylephrine    2178-12-26 05:16:00    0 days 15:54:00.000000000  \n",
       "2  phenylephrine    2178-12-26 05:16:00    0 days 19:47:00.000000000  \n",
       "3  phenylephrine    2178-12-26 05:16:00    0 days 22:19:00.000000000  \n",
       "4  phenylephrine    2163-04-24 02:38:00    0 days 13:22:00.000000000  "
      ]
     },
     "execution_count": 30,
     "metadata": {},
     "output_type": "execute_result"
    },
    {
     "name": "stdout",
     "output_type": "stream",
     "text": [
      "time: 25.8 ms\n"
     ]
    }
   ],
   "source": [
    "dfs['vaso_dose_72'].head()"
   ]
  },
  {
   "cell_type": "code",
   "execution_count": 31,
   "metadata": {},
   "outputs": [
    {
     "name": "stdout",
     "output_type": "stream",
     "text": [
      "time: 30.2 ms\n"
     ]
    }
   ],
   "source": [
    "epinephrine_df= dfs['vaso_dose_72'][dfs['vaso_dose_72']['label']=='epinephrine']\n",
    "norepinephrine_df= dfs['vaso_dose_72'][dfs['vaso_dose_72']['label']=='norepinephrine']\n",
    "phenylephrine_df= dfs['vaso_dose_72'][dfs['vaso_dose_72']['label']=='phenylephrine']\n",
    "vasopressin_df= dfs['vaso_dose_72'][dfs['vaso_dose_72']['label']=='vasopressin']\n",
    "dopamine_df= dfs['vaso_dose_72'][dfs['vaso_dose_72']['label']=='dopamine']\n",
    "dobutamine_df= dfs['vaso_dose_72'][dfs['vaso_dose_72']['label']=='dobutamine']\n"
   ]
  },
  {
   "cell_type": "code",
   "execution_count": 32,
   "metadata": {},
   "outputs": [
    {
     "name": "stdout",
     "output_type": "stream",
     "text": [
      "time: 606 ms\n"
     ]
    }
   ],
   "source": [
    "#(could be transfered to a different spdsheet for collapsing values)\n",
    "#y/n convert, seperating out vaso_dose into 6 constitutient dataframes, and for each am collapsing values down to does pt have in time window y/n? \n",
    "\n",
    "epinephrine_df=yn_convert(epinephrine_df, label_fill='epinephrine', pt= final_pt_df2, value_fill=0, delta_fill=0, uom_fill='y/n', time_var='first_pos_else_neg_ssc')\n",
    "norepinephrine_df=yn_convert(norepinephrine_df, label_fill='norepinephrine', pt= final_pt_df2, value_fill=0, delta_fill=0, uom_fill='y/n', time_var='first_pos_else_neg_ssc')\n",
    "phenylephrine_df=yn_convert(phenylephrine_df, label_fill='phenylephrine', pt= final_pt_df2, value_fill=0, delta_fill=0, uom_fill='y/n', time_var='first_pos_else_neg_ssc')\n",
    "vasopressin_df=yn_convert(vasopressin_df, label_fill='vasopressin', pt= final_pt_df2, value_fill=0, delta_fill=0, uom_fill='y/n', time_var='first_pos_else_neg_ssc')\n",
    "dopamine_df=yn_convert(dopamine_df, label_fill='dopamine', pt= final_pt_df2, value_fill=0, delta_fill=0, uom_fill='y/n', time_var='first_pos_else_neg_ssc')\n",
    "dobutamine_df=yn_convert(dobutamine_df, label_fill='dobutamine', pt= final_pt_df2, value_fill=0, delta_fill=0, uom_fill='y/n', time_var='first_pos_else_neg_ssc')\n"
   ]
  },
  {
   "cell_type": "code",
   "execution_count": 33,
   "metadata": {},
   "outputs": [
    {
     "data": {
      "text/plain": [
       "'/Users/geickelb1/Documents/GitHub/mimiciii-antibiotics-modeling/data/processed/PA_project'"
      ]
     },
     "execution_count": 33,
     "metadata": {},
     "output_type": "execute_result"
    },
    {
     "name": "stdout",
     "output_type": "stream",
     "text": [
      "time: 2.29 ms\n"
     ]
    }
   ],
   "source": [
    "save_path"
   ]
  },
  {
   "cell_type": "code",
   "execution_count": 34,
   "metadata": {},
   "outputs": [
    {
     "name": "stdout",
     "output_type": "stream",
     "text": [
      "time: 1.84 s\n"
     ]
    }
   ],
   "source": [
    "pd.DataFrame(epinephrine_df).to_csv(Path(\n",
    "    save_path+ '/%s_epinephrine_prepped.csv' %(date)))\n",
    "del(epinephrine_df)\n",
    "\n",
    "pd.DataFrame(norepinephrine_df).to_csv(Path(\n",
    "    save_path+'/%s_norepinephrine_prepped.csv' %(date)))\n",
    "del(norepinephrine_df)\n",
    "\n",
    "pd.DataFrame(phenylephrine_df).to_csv(Path(\n",
    "    save_path+'/%s_phenylephrine_prepped.csv' %(date)))\n",
    "del(phenylephrine_df)\n",
    "\n",
    "pd.DataFrame(vasopressin_df).to_csv(Path(\n",
    "    save_path+'/%s_vasopressin_prepped.csv' %(date)))\n",
    "del(vasopressin_df)\n",
    "\n",
    "pd.DataFrame(dopamine_df).to_csv(Path(\n",
    "    save_path+'/%s_dopamine_prepped.csv' %(date)))\n",
    "del(dopamine_df)\n",
    "\n",
    "pd.DataFrame(dobutamine_df).to_csv(Path(\n",
    "    save_path+'/%s_dobutamine_prepped.csv' %(date)))\n",
    "del(dobutamine_df)\n",
    "\n",
    "del( dfs['vaso_dose_72'])"
   ]
  },
  {
   "cell_type": "markdown",
   "metadata": {},
   "source": [
    "## vitals -"
   ]
  },
  {
   "cell_type": "code",
   "execution_count": 35,
   "metadata": {},
   "outputs": [
    {
     "data": {
      "text/html": [
       "<div>\n",
       "<style scoped>\n",
       "    .dataframe tbody tr th:only-of-type {\n",
       "        vertical-align: middle;\n",
       "    }\n",
       "\n",
       "    .dataframe tbody tr th {\n",
       "        vertical-align: top;\n",
       "    }\n",
       "\n",
       "    .dataframe thead th {\n",
       "        text-align: right;\n",
       "    }\n",
       "</style>\n",
       "<table border=\"1\" class=\"dataframe\">\n",
       "  <thead>\n",
       "    <tr style=\"text-align: right;\">\n",
       "      <th></th>\n",
       "      <th>subject_id</th>\n",
       "      <th>hadm_id</th>\n",
       "      <th>icustay_id</th>\n",
       "      <th>charttime</th>\n",
       "      <th>valueuom</th>\n",
       "      <th>vitalid</th>\n",
       "      <th>valuenum</th>\n",
       "      <th>first_pos_else_neg_ssc</th>\n",
       "      <th>delta</th>\n",
       "    </tr>\n",
       "  </thead>\n",
       "  <tbody>\n",
       "    <tr>\n",
       "      <th>5</th>\n",
       "      <td>9</td>\n",
       "      <td>150750</td>\n",
       "      <td>220597</td>\n",
       "      <td>2149-11-13 15:20:00</td>\n",
       "      <td>mmHg</td>\n",
       "      <td>MeanArtPress</td>\n",
       "      <td>61.0</td>\n",
       "      <td>2149-11-13 19:30:00</td>\n",
       "      <td>-1 days +19:50:00.000000000</td>\n",
       "    </tr>\n",
       "    <tr>\n",
       "      <th>6</th>\n",
       "      <td>9</td>\n",
       "      <td>150750</td>\n",
       "      <td>220597</td>\n",
       "      <td>2149-11-14 11:00:00</td>\n",
       "      <td>mmHg</td>\n",
       "      <td>MeanArtPress</td>\n",
       "      <td>103.0</td>\n",
       "      <td>2149-11-13 19:30:00</td>\n",
       "      <td>0 days 15:30:00.000000000</td>\n",
       "    </tr>\n",
       "    <tr>\n",
       "      <th>7</th>\n",
       "      <td>9</td>\n",
       "      <td>150750</td>\n",
       "      <td>220597</td>\n",
       "      <td>2149-11-14 12:00:00</td>\n",
       "      <td>mmHg</td>\n",
       "      <td>MeanArtPress</td>\n",
       "      <td>134.0</td>\n",
       "      <td>2149-11-13 19:30:00</td>\n",
       "      <td>0 days 16:30:00.000000000</td>\n",
       "    </tr>\n",
       "    <tr>\n",
       "      <th>12</th>\n",
       "      <td>9</td>\n",
       "      <td>150750</td>\n",
       "      <td>220597</td>\n",
       "      <td>2149-11-13 07:00:00</td>\n",
       "      <td>mmHg</td>\n",
       "      <td>MeanArtPress</td>\n",
       "      <td>85.0</td>\n",
       "      <td>2149-11-13 19:30:00</td>\n",
       "      <td>-1 days +11:30:00.000000000</td>\n",
       "    </tr>\n",
       "    <tr>\n",
       "      <th>13</th>\n",
       "      <td>9</td>\n",
       "      <td>150750</td>\n",
       "      <td>220597</td>\n",
       "      <td>2149-11-14 02:00:00</td>\n",
       "      <td>mmHg</td>\n",
       "      <td>MeanArtPress</td>\n",
       "      <td>96.0</td>\n",
       "      <td>2149-11-13 19:30:00</td>\n",
       "      <td>0 days 06:30:00.000000000</td>\n",
       "    </tr>\n",
       "  </tbody>\n",
       "</table>\n",
       "</div>"
      ],
      "text/plain": [
       "    subject_id  hadm_id  icustay_id            charttime valueuom  \\\n",
       "5            9   150750      220597  2149-11-13 15:20:00     mmHg   \n",
       "6            9   150750      220597  2149-11-14 11:00:00     mmHg   \n",
       "7            9   150750      220597  2149-11-14 12:00:00     mmHg   \n",
       "12           9   150750      220597  2149-11-13 07:00:00     mmHg   \n",
       "13           9   150750      220597  2149-11-14 02:00:00     mmHg   \n",
       "\n",
       "         vitalid  valuenum first_pos_else_neg_ssc                        delta  \n",
       "5   MeanArtPress      61.0    2149-11-13 19:30:00  -1 days +19:50:00.000000000  \n",
       "6   MeanArtPress     103.0    2149-11-13 19:30:00    0 days 15:30:00.000000000  \n",
       "7   MeanArtPress     134.0    2149-11-13 19:30:00    0 days 16:30:00.000000000  \n",
       "12  MeanArtPress      85.0    2149-11-13 19:30:00  -1 days +11:30:00.000000000  \n",
       "13  MeanArtPress      96.0    2149-11-13 19:30:00    0 days 06:30:00.000000000  "
      ]
     },
     "execution_count": 35,
     "metadata": {},
     "output_type": "execute_result"
    },
    {
     "name": "stdout",
     "output_type": "stream",
     "text": [
      "time: 20.6 ms\n"
     ]
    }
   ],
   "source": [
    "dfs['vitals_all_nosummary_72'].head()"
   ]
  },
  {
   "cell_type": "code",
   "execution_count": 36,
   "metadata": {},
   "outputs": [
    {
     "name": "stdout",
     "output_type": "stream",
     "text": [
      "time: 6.41 s\n"
     ]
    }
   ],
   "source": [
    "dfs['vitals_all_nosummary_72'] = dfs['vitals_all_nosummary_72'].rename(index=str, columns={\"valueuom\":\"uom\",\"vitalid\":'label', 'valuenum':'value'}) #change valueom to uom\n",
    "dfs['vitals_all_nosummary_72'] = dfs['vitals_all_nosummary_72'].loc[dfs['vitals_all_nosummary_72']['label'].notnull(),:]#.count() #removing null values\n",
    "\n",
    "dfs['vitals_all_nosummary_72'].loc[dfs['vitals_all_nosummary_72'].loc[:,'uom']=='BPM','uom']='bpm'\n",
    "\n",
    "#overall the values are extremely similar and are likely the same thing\n",
    "#i will combine them.\n",
    "dfs['vitals_all_nosummary_72'].loc[\n",
    "    (dfs['vitals_all_nosummary_72']['label']=='RespRate') & \n",
    "    (dfs['vitals_all_nosummary_72']['uom']=='bpm'),'uom']='insp/min'\n",
    "\n",
    "dfs['vitals_all_nosummary_72'].loc[\n",
    "    (dfs['vitals_all_nosummary_72']['label']=='TempC') & \n",
    "    (dfs['vitals_all_nosummary_72']['uom']=='?C'),'uom']='Deg. C'\n",
    "\n",
    "dfs['vitals_all_nosummary_72'].loc[\n",
    "    (dfs['vitals_all_nosummary_72']['label']=='TempF') & \n",
    "    (dfs['vitals_all_nosummary_72']['uom']=='Deg. F'),'uom']='Deg. C'\n",
    "\n",
    "dfs['vitals_all_nosummary_72'].loc[\n",
    "    (dfs['vitals_all_nosummary_72']['label']=='TempF') & \n",
    "    (dfs['vitals_all_nosummary_72']['uom']=='?F'),'uom']='Deg. C'\n",
    "\n",
    "dfs['vitals_all_nosummary_72'].loc[\n",
    "    (dfs['vitals_all_nosummary_72']['label']=='TempF'),'label']='temperature'\n",
    "\n",
    "dfs['vitals_all_nosummary_72'].loc[\n",
    "    (dfs['vitals_all_nosummary_72']['label']=='TempC'),'label']='temperature'"
   ]
  },
  {
   "cell_type": "markdown",
   "metadata": {},
   "source": [
    "- glucose max\n",
    "- glucose min\n",
    "- diasBP min\n",
    "- heartrate min\n",
    "- meanart pressure min\n",
    "- RespRate min\n",
    "- SYSbp min\n",
    "- TEMPC min"
   ]
  },
  {
   "cell_type": "code",
   "execution_count": 37,
   "metadata": {},
   "outputs": [
    {
     "name": "stdout",
     "output_type": "stream",
     "text": [
      "time: 2.29 ms\n"
     ]
    }
   ],
   "source": [
    "# #writing a function to aggregate for time length\n",
    "\n",
    "# def timewindow_agg(df, label='', roundwindow= '120min', value_col='value', transform_fxn=max):\n",
    "#     df['rounded_time']=pd.to_datetime(df['charttime']).dt.round(roundwindow)\n",
    "#     subset_df=(df.loc[df.loc[:,'label']==label, :])\n",
    "\n",
    "#     #test_df4.groupby(['icustay_id','rounded_time'])['value'].apply(lambda x: max(x)).sort_values() #works!test_df4\n",
    "#     #getting the rows for the max value for each rounded_time. \n",
    "#     idx= subset_df.groupby(['icustay_id','rounded_time'])['value'].transform(transform_fxn) ==subset_df['value']\n",
    "#     (df.loc[df.loc[:,'label']==label, :])= subset_df[idx]\n",
    "#     return(df)"
   ]
  },
  {
   "cell_type": "code",
   "execution_count": 38,
   "metadata": {},
   "outputs": [
    {
     "name": "stdout",
     "output_type": "stream",
     "text": [
      "time: 1.79 s\n"
     ]
    }
   ],
   "source": [
    "#erroneous value cutoff summary\n",
    "## setting a conservative threshold for erroneous values to not skew my data.\n",
    "\n",
    "(dfs['vitals_all_nosummary_72'].loc[(dfs['vitals_all_nosummary_72'].loc[:,'icustay_id']==228393.0) &\n",
    "                         (dfs['vitals_all_nosummary_72'].loc[:,'label']=='Glucose') &\n",
    "                         (dfs['vitals_all_nosummary_72'].loc[:,'value']>99999), 'value'])=np.nan\n",
    "\n",
    "(dfs['vitals_all_nosummary_72'].loc[(dfs['vitals_all_nosummary_72'].loc[:,'label']=='Glucose') &\n",
    "                         (dfs['vitals_all_nosummary_72'].loc[:,'value']>99998), 'value'])=np.nan\n",
    "\n",
    "(dfs['vitals_all_nosummary_72'].loc[(dfs['vitals_all_nosummary_72'].loc[:,'label']=='Glucose') &\n",
    "                         (dfs['vitals_all_nosummary_72'].loc[:,'value']<15), 'value'])=np.nan\n",
    "\n",
    "(dfs['vitals_all_nosummary_72'].loc[(dfs['vitals_all_nosummary_72'].loc[:,'label']=='DiasBP') &\n",
    "                         (dfs['vitals_all_nosummary_72'].loc[:,'value']<15), 'value'])=np.nan\n",
    "\n",
    "(dfs['vitals_all_nosummary_72'].loc[(dfs['vitals_all_nosummary_72'].loc[:,'label']=='HeartRate') &\n",
    "                         (dfs['vitals_all_nosummary_72'].loc[:,'value'].between(1,29)), 'value'])=np.nan\n",
    "\n",
    "(dfs['vitals_all_nosummary_72'].loc[(dfs['vitals_all_nosummary_72'].loc[:,'label']=='RespRate') &\n",
    "                         (dfs['vitals_all_nosummary_72'].loc[:,'value']<4), 'value'])=np.nan\n",
    "\n",
    "(dfs['vitals_all_nosummary_72'].loc[(dfs['vitals_all_nosummary_72'].loc[:,'label']=='SysBP') &\n",
    "                         (dfs['vitals_all_nosummary_72'].loc[:,'value']<40), 'value'])=np.nan\n",
    "\n",
    "(dfs['vitals_all_nosummary_72'].loc[(dfs['vitals_all_nosummary_72'].loc[:,'label']=='TempC') &\n",
    "                         (dfs['vitals_all_nosummary_72'].loc[:,'value']<28), 'value'])=np.nan"
   ]
  },
  {
   "cell_type": "code",
   "execution_count": 39,
   "metadata": {},
   "outputs": [
    {
     "name": "stdout",
     "output_type": "stream",
     "text": [
      "time: 708 ms\n"
     ]
    }
   ],
   "source": [
    "dfs['vitals_all_nosummary_72'] = dfs['vitals_all_nosummary_72'].loc[dfs['vitals_all_nosummary_72']['value'].notnull(),:]#.count() #6930 NULL values\n"
   ]
  },
  {
   "cell_type": "code",
   "execution_count": 40,
   "metadata": {},
   "outputs": [
    {
     "name": "stdout",
     "output_type": "stream",
     "text": [
      "time: 17 s\n"
     ]
    }
   ],
   "source": [
    "# pd.DataFrame(dfs['vitals_all_nosummary_72']).to_csv(Path(\n",
    "#     save_path+'/%s_vitals_prepped.csv' %(date)))\n",
    "# del dfs['vitals_all_nosummary_72']\n",
    "\n",
    "save_df(dfs['vitals_all_nosummary_72'], 'vitals')\n",
    "del(dfs['vitals_all_nosummary_72'])"
   ]
  },
  {
   "cell_type": "markdown",
   "metadata": {},
   "source": [
    "# labs -"
   ]
  },
  {
   "cell_type": "code",
   "execution_count": 41,
   "metadata": {},
   "outputs": [
    {
     "name": "stdout",
     "output_type": "stream",
     "text": [
      "time: 173 ms\n"
     ]
    }
   ],
   "source": [
    "dfs['labs_all_nosummary_72']= dfs['labs_all_nosummary_72'].rename(\n",
    "    columns={'valuenum':'value'}) #changing valuenum to value\n"
   ]
  },
  {
   "cell_type": "code",
   "execution_count": 42,
   "metadata": {},
   "outputs": [
    {
     "data": {
      "text/plain": [
       "label        uom    \n",
       "ALBUMIN      g/dL        6727\n",
       "ANION GAP    mEq/L      28605\n",
       "BANDS        %           2956\n",
       "BICARBONATE  mEq/L      28894\n",
       "BILIRUBIN    mg/dL      10640\n",
       "BUN          mg/dL      29249\n",
       "CHLORIDE     mEq/L      32107\n",
       "CREATININE   mg/dL      29365\n",
       "GLUCOSE      mg/dL      36551\n",
       "HEMATOCRIT   %          35878\n",
       "HEMOGLOBIN   g/dL       30354\n",
       "LACTATE      mmol/L     21292\n",
       "PLATELET     K/uL       27081\n",
       "POTASSIUM    mEq/L      38885\n",
       "PT           SECONDS    20108\n",
       "PTT          sec        20724\n",
       "SODIUM       mEq/L      33210\n",
       "WBC          K/uL       26418\n",
       "Name: uom, dtype: int64"
      ]
     },
     "execution_count": 42,
     "metadata": {},
     "output_type": "execute_result"
    },
    {
     "name": "stdout",
     "output_type": "stream",
     "text": [
      "time: 174 ms\n"
     ]
    }
   ],
   "source": [
    "dfs['labs_all_nosummary_72'].groupby('label')['uom'].value_counts() #looks good"
   ]
  },
  {
   "cell_type": "code",
   "execution_count": 43,
   "metadata": {},
   "outputs": [
    {
     "name": "stdout",
     "output_type": "stream",
     "text": [
      "time: 735 µs\n"
     ]
    }
   ],
   "source": [
    "#outliers"
   ]
  },
  {
   "cell_type": "code",
   "execution_count": 44,
   "metadata": {},
   "outputs": [
    {
     "name": "stdout",
     "output_type": "stream",
     "text": [
      "time: 413 ms\n"
     ]
    }
   ],
   "source": [
    "#summary value removal- was explored and coded adhoc, difficult to automate\n",
    "(dfs['labs_all_nosummary_72'].loc[\n",
    "    (dfs['labs_all_nosummary_72'].loc[:,'icustay_id']==261887) & \n",
    "    (dfs['labs_all_nosummary_72'].loc[:,'label']=='CHLORIDE')\n",
    "    & (dfs['labs_all_nosummary_72'].loc[:,'value']==3.4),'value'])=np.nan\n",
    "\n",
    "(dfs['labs_all_nosummary_72'].loc[\n",
    "    (dfs['labs_all_nosummary_72'].loc[:,'icustay_id']==236290) & \n",
    "    (dfs['labs_all_nosummary_72'].loc[:,'label']=='CHLORIDE')\n",
    "    & (dfs['labs_all_nosummary_72'].loc[:,'value']==11.0),'value'])=np.nan\n",
    "\n",
    "(dfs['labs_all_nosummary_72'].loc[\n",
    "    (dfs['labs_all_nosummary_72'].loc[:,'icustay_id']==292769) & \n",
    "    (dfs['labs_all_nosummary_72'].loc[:,'label']=='INR')\n",
    "    & (dfs['labs_all_nosummary_72'].loc[:,'value']==28.1),'value'])=np.nan\n",
    "\n",
    "(dfs['labs_all_nosummary_72'].loc[\n",
    "    (dfs['labs_all_nosummary_72'].loc[:,'icustay_id']==298457) & \n",
    "    (dfs['labs_all_nosummary_72'].loc[:,'label']=='INR')\n",
    "    & (dfs['labs_all_nosummary_72'].loc[:,'value']==48.8),'value'])=np.nan\n",
    "\n",
    "(dfs['labs_all_nosummary_72'].loc[\n",
    "    (dfs['labs_all_nosummary_72'].loc[:,'icustay_id']==234174) & \n",
    "    (dfs['labs_all_nosummary_72'].loc[:,'label']=='INR')\n",
    "    & (dfs['labs_all_nosummary_72'].loc[:,'value']==48.7),'value'])=np.nan\n",
    "\n",
    "(dfs['labs_all_nosummary_72'].loc[\n",
    "    (dfs['labs_all_nosummary_72'].loc[:,'icustay_id']==290264) & \n",
    "    (dfs['labs_all_nosummary_72'].loc[:,'label']=='INR')\n",
    "    & (dfs['labs_all_nosummary_72'].loc[:,'value']==42.0),'value'])=np.nan\n",
    "\n",
    "(dfs['labs_all_nosummary_72'].loc[\n",
    "    (dfs['labs_all_nosummary_72'].loc[:,'icustay_id']==290264) & \n",
    "    (dfs['labs_all_nosummary_72'].loc[:,'label']=='INR')\n",
    "    & (dfs['labs_all_nosummary_72'].loc[:,'value']==22.8),'value'])=np.nan"
   ]
  },
  {
   "cell_type": "code",
   "execution_count": 45,
   "metadata": {},
   "outputs": [
    {
     "name": "stdout",
     "output_type": "stream",
     "text": [
      "time: 50.1 ms\n"
     ]
    }
   ],
   "source": [
    "dfs['labs_all_nosummary_72']= dfs['labs_all_nosummary_72'].loc[dfs['labs_all_nosummary_72'].loc[:,'value'].notnull(),:] #removing null values\n"
   ]
  },
  {
   "cell_type": "code",
   "execution_count": 46,
   "metadata": {},
   "outputs": [
    {
     "data": {
      "text/html": [
       "<div>\n",
       "<style scoped>\n",
       "    .dataframe tbody tr th:only-of-type {\n",
       "        vertical-align: middle;\n",
       "    }\n",
       "\n",
       "    .dataframe tbody tr th {\n",
       "        vertical-align: top;\n",
       "    }\n",
       "\n",
       "    .dataframe thead th {\n",
       "        text-align: right;\n",
       "    }\n",
       "</style>\n",
       "<table border=\"1\" class=\"dataframe\">\n",
       "  <thead>\n",
       "    <tr style=\"text-align: right;\">\n",
       "      <th></th>\n",
       "      <th>subject_id</th>\n",
       "      <th>hadm_id</th>\n",
       "      <th>icustay_id</th>\n",
       "      <th>charttime</th>\n",
       "      <th>label</th>\n",
       "      <th>value</th>\n",
       "      <th>uom</th>\n",
       "      <th>first_pos_else_neg_ssc</th>\n",
       "      <th>delta</th>\n",
       "    </tr>\n",
       "  </thead>\n",
       "  <tbody>\n",
       "    <tr>\n",
       "      <th>0</th>\n",
       "      <td>9</td>\n",
       "      <td>150750</td>\n",
       "      <td>220597</td>\n",
       "      <td>2149-11-14 07:47:00</td>\n",
       "      <td>SODIUM</td>\n",
       "      <td>137.0</td>\n",
       "      <td>mEq/L</td>\n",
       "      <td>2149-11-13 19:30:00</td>\n",
       "      <td>0 days 12:17:00.000000000</td>\n",
       "    </tr>\n",
       "    <tr>\n",
       "      <th>6</th>\n",
       "      <td>9</td>\n",
       "      <td>150750</td>\n",
       "      <td>220597</td>\n",
       "      <td>2149-11-13 03:20:00</td>\n",
       "      <td>SODIUM</td>\n",
       "      <td>130.0</td>\n",
       "      <td>mEq/L</td>\n",
       "      <td>2149-11-13 19:30:00</td>\n",
       "      <td>-1 days +07:50:00.000000000</td>\n",
       "    </tr>\n",
       "    <tr>\n",
       "      <th>7</th>\n",
       "      <td>9</td>\n",
       "      <td>150750</td>\n",
       "      <td>220597</td>\n",
       "      <td>2149-11-13 16:04:00</td>\n",
       "      <td>SODIUM</td>\n",
       "      <td>129.0</td>\n",
       "      <td>mEq/L</td>\n",
       "      <td>2149-11-13 19:30:00</td>\n",
       "      <td>-1 days +20:34:00.000000000</td>\n",
       "    </tr>\n",
       "    <tr>\n",
       "      <th>8</th>\n",
       "      <td>9</td>\n",
       "      <td>150750</td>\n",
       "      <td>220597</td>\n",
       "      <td>2149-11-13 19:30:00</td>\n",
       "      <td>SODIUM</td>\n",
       "      <td>131.0</td>\n",
       "      <td>mEq/L</td>\n",
       "      <td>2149-11-13 19:30:00</td>\n",
       "      <td>0 days 00:00:00.000000000</td>\n",
       "    </tr>\n",
       "    <tr>\n",
       "      <th>9</th>\n",
       "      <td>9</td>\n",
       "      <td>150750</td>\n",
       "      <td>220597</td>\n",
       "      <td>2149-11-14 01:48:00</td>\n",
       "      <td>SODIUM</td>\n",
       "      <td>133.0</td>\n",
       "      <td>mEq/L</td>\n",
       "      <td>2149-11-13 19:30:00</td>\n",
       "      <td>0 days 06:18:00.000000000</td>\n",
       "    </tr>\n",
       "  </tbody>\n",
       "</table>\n",
       "</div>"
      ],
      "text/plain": [
       "   subject_id  hadm_id  icustay_id            charttime   label  value    uom  \\\n",
       "0           9   150750      220597  2149-11-14 07:47:00  SODIUM  137.0  mEq/L   \n",
       "6           9   150750      220597  2149-11-13 03:20:00  SODIUM  130.0  mEq/L   \n",
       "7           9   150750      220597  2149-11-13 16:04:00  SODIUM  129.0  mEq/L   \n",
       "8           9   150750      220597  2149-11-13 19:30:00  SODIUM  131.0  mEq/L   \n",
       "9           9   150750      220597  2149-11-14 01:48:00  SODIUM  133.0  mEq/L   \n",
       "\n",
       "  first_pos_else_neg_ssc                        delta  \n",
       "0    2149-11-13 19:30:00    0 days 12:17:00.000000000  \n",
       "6    2149-11-13 19:30:00  -1 days +07:50:00.000000000  \n",
       "7    2149-11-13 19:30:00  -1 days +20:34:00.000000000  \n",
       "8    2149-11-13 19:30:00    0 days 00:00:00.000000000  \n",
       "9    2149-11-13 19:30:00    0 days 06:18:00.000000000  "
      ]
     },
     "execution_count": 46,
     "metadata": {},
     "output_type": "execute_result"
    },
    {
     "name": "stdout",
     "output_type": "stream",
     "text": [
      "time: 27.1 ms\n"
     ]
    }
   ],
   "source": [
    "dfs['labs_all_nosummary_72'].head()"
   ]
  },
  {
   "cell_type": "code",
   "execution_count": 47,
   "metadata": {},
   "outputs": [
    {
     "name": "stdout",
     "output_type": "stream",
     "text": [
      "time: 58.6 ms\n"
     ]
    }
   ],
   "source": [
    "#removing unwanted values\n",
    "unwanted_values= ['HEMATOCRIT','ANION GAP','PT','ALBUMIN']\n",
    "dfs['labs_all_nosummary_72']= dfs['labs_all_nosummary_72'].loc[~dfs['labs_all_nosummary_72'].loc[:,'label'].isin(unwanted_values),:]"
   ]
  },
  {
   "cell_type": "code",
   "execution_count": 48,
   "metadata": {},
   "outputs": [
    {
     "name": "stdout",
     "output_type": "stream",
     "text": [
      "time: 2.79 s\n"
     ]
    }
   ],
   "source": [
    "pd.DataFrame(dfs['labs_all_nosummary_72']).to_csv(Path(\n",
    "    save_path+'/%s_labs_prepped.csv' %(date)))\n",
    "del(dfs['labs_all_nosummary_72'])"
   ]
  },
  {
   "cell_type": "markdown",
   "metadata": {},
   "source": [
    "## vent category -"
   ]
  },
  {
   "cell_type": "code",
   "execution_count": 51,
   "metadata": {},
   "outputs": [
    {
     "data": {
      "text/html": [
       "<div>\n",
       "<style scoped>\n",
       "    .dataframe tbody tr th:only-of-type {\n",
       "        vertical-align: middle;\n",
       "    }\n",
       "\n",
       "    .dataframe tbody tr th {\n",
       "        vertical-align: top;\n",
       "    }\n",
       "\n",
       "    .dataframe thead th {\n",
       "        text-align: right;\n",
       "    }\n",
       "</style>\n",
       "<table border=\"1\" class=\"dataframe\">\n",
       "  <thead>\n",
       "    <tr style=\"text-align: right;\">\n",
       "      <th></th>\n",
       "      <th>icustay_id</th>\n",
       "      <th>day</th>\n",
       "      <th>value</th>\n",
       "      <th>uom</th>\n",
       "      <th>first_pos_else_neg_ssc</th>\n",
       "    </tr>\n",
       "  </thead>\n",
       "  <tbody>\n",
       "    <tr>\n",
       "      <th>0</th>\n",
       "      <td>200014.0</td>\n",
       "      <td>-1</td>\n",
       "      <td>Mech</td>\n",
       "      <td>mech/O2/none category</td>\n",
       "      <td>2105-02-17 00:00:00</td>\n",
       "    </tr>\n",
       "    <tr>\n",
       "      <th>1</th>\n",
       "      <td>200014.0</td>\n",
       "      <td>0</td>\n",
       "      <td>Mech</td>\n",
       "      <td>mech/O2/none category</td>\n",
       "      <td>2105-02-17 00:00:00</td>\n",
       "    </tr>\n",
       "    <tr>\n",
       "      <th>2</th>\n",
       "      <td>200019.0</td>\n",
       "      <td>-1</td>\n",
       "      <td>Mech</td>\n",
       "      <td>mech/O2/none category</td>\n",
       "      <td>2178-07-08 21:51:00</td>\n",
       "    </tr>\n",
       "    <tr>\n",
       "      <th>3</th>\n",
       "      <td>200019.0</td>\n",
       "      <td>0</td>\n",
       "      <td>Mech</td>\n",
       "      <td>mech/O2/none category</td>\n",
       "      <td>2178-07-08 21:51:00</td>\n",
       "    </tr>\n",
       "    <tr>\n",
       "      <th>4</th>\n",
       "      <td>200030.0</td>\n",
       "      <td>-1</td>\n",
       "      <td>Oxygen</td>\n",
       "      <td>mech/O2/none category</td>\n",
       "      <td>2150-11-15 02:08:00</td>\n",
       "    </tr>\n",
       "  </tbody>\n",
       "</table>\n",
       "</div>"
      ],
      "text/plain": [
       "   icustay_id  day   value                    uom first_pos_else_neg_ssc\n",
       "0    200014.0   -1    Mech  mech/O2/none category    2105-02-17 00:00:00\n",
       "1    200014.0    0    Mech  mech/O2/none category    2105-02-17 00:00:00\n",
       "2    200019.0   -1    Mech  mech/O2/none category    2178-07-08 21:51:00\n",
       "3    200019.0    0    Mech  mech/O2/none category    2178-07-08 21:51:00\n",
       "4    200030.0   -1  Oxygen  mech/O2/none category    2150-11-15 02:08:00"
      ]
     },
     "execution_count": 51,
     "metadata": {},
     "output_type": "execute_result"
    },
    {
     "name": "stdout",
     "output_type": "stream",
     "text": [
      "time: 8.51 ms\n"
     ]
    }
   ],
   "source": [
    "dfs['ventcategory_df']['uom']='mech/O2/none category'\n",
    "dfs['ventcategory_df'].head()"
   ]
  },
  {
   "cell_type": "code",
   "execution_count": 54,
   "metadata": {},
   "outputs": [
    {
     "name": "stdout",
     "output_type": "stream",
     "text": [
      "time: 12.9 ms\n"
     ]
    }
   ],
   "source": [
    "dfs['ventcategory_df']=dfs['ventcategory_df'].rename(index=str, columns={'day':'delta'})\n",
    "dfs['ventcategory_df']['label']='vent_recieved'\n",
    "dfs['ventcategory_df']['day']=pd.to_timedelta(dfs['ventcategory_df']['day'], unit='d')\n",
    "#dfs['ventcategory_df']= dfs['ventcategory_df'].drop(columns=['day'], axis=1) #removing day column"
   ]
  },
  {
   "cell_type": "code",
   "execution_count": null,
   "metadata": {},
   "outputs": [],
   "source": [
    "# #melting value columns into long format\n",
    "# ventcategory_df= ventcategory_df.melt(\n",
    "#     id_vars=['icustay_id','uom','t_0'],\n",
    "#     var_name='label',\n",
    "#     value_name='value')\n",
    "\n",
    "# #adding a delta column\n",
    "# ventcategory_df['delta']= np.nan\n",
    "# ventcategory_df.loc[ventcategory_df['label']=='vent_day1','delta']= pd.to_timedelta(0,'days')\n",
    "# ventcategory_df.loc[ventcategory_df['label']=='vent_day2','delta']= pd.to_timedelta(1,'days')\n",
    "# ventcategory_df.loc[ventcategory_df['label']=='vent_day3','delta']= pd.to_timedelta(2,'days')"
   ]
  },
  {
   "cell_type": "code",
   "execution_count": null,
   "metadata": {},
   "outputs": [],
   "source": [
    "#collapsing into 1 column for 3 days"
   ]
  },
  {
   "cell_type": "code",
   "execution_count": 63,
   "metadata": {},
   "outputs": [
    {
     "name": "stdout",
     "output_type": "stream",
     "text": [
      "time: 4.1 ms\n"
     ]
    }
   ],
   "source": [
    "def vent_day_collapser(x):\n",
    "    if 'Mech' in list(x.unique()):\n",
    "        x= 'Mech'\n",
    "    elif 'Oxygen' in list(x.unique()):\n",
    "        x= 'Oxygen'\n",
    "    else:\n",
    "        x='None'\n",
    "        \n",
    "    return(x)\n"
   ]
  },
  {
   "cell_type": "code",
   "execution_count": 64,
   "metadata": {},
   "outputs": [
    {
     "name": "stdout",
     "output_type": "stream",
     "text": [
      "time: 8.98 s\n"
     ]
    }
   ],
   "source": [
    "#collapsing all days into the worst day. (could be transfered to a different spdsheet)\n",
    "ventcategory_1day_df= dfs['ventcategory_df']\n",
    "ventcategory_1day_df['value']=ventcategory_1day_df.groupby('icustay_id',as_index=False)['value'].transform(vent_day_collapser)\n",
    "ventcategory_1day_df= ventcategory_1day_df.drop_duplicates(['icustay_id','value']).sort_values('icustay_id') #\n",
    "ventcategory_1day_df= ventcategory_1day_df.loc[ventcategory_1day_df.loc[:,'icustay_id'].isin(icustay_id),:] #had icustay ids not in final cohort, fail safe mesure\n",
    "#ventcategory_1day_df['label']= 'vent_recieved'"
   ]
  },
  {
   "cell_type": "code",
   "execution_count": 65,
   "metadata": {},
   "outputs": [
    {
     "data": {
      "text/html": [
       "<div>\n",
       "<style scoped>\n",
       "    .dataframe tbody tr th:only-of-type {\n",
       "        vertical-align: middle;\n",
       "    }\n",
       "\n",
       "    .dataframe tbody tr th {\n",
       "        vertical-align: top;\n",
       "    }\n",
       "\n",
       "    .dataframe thead th {\n",
       "        text-align: right;\n",
       "    }\n",
       "</style>\n",
       "<table border=\"1\" class=\"dataframe\">\n",
       "  <thead>\n",
       "    <tr style=\"text-align: right;\">\n",
       "      <th></th>\n",
       "      <th>icustay_id</th>\n",
       "      <th>delta</th>\n",
       "      <th>value</th>\n",
       "      <th>uom</th>\n",
       "      <th>first_pos_else_neg_ssc</th>\n",
       "      <th>label</th>\n",
       "    </tr>\n",
       "  </thead>\n",
       "  <tbody>\n",
       "    <tr>\n",
       "      <th>0</th>\n",
       "      <td>200014.0</td>\n",
       "      <td>-1 days</td>\n",
       "      <td>Mech</td>\n",
       "      <td>mech/O2/none category</td>\n",
       "      <td>2105-02-17 00:00:00</td>\n",
       "      <td>vent_recieved</td>\n",
       "    </tr>\n",
       "    <tr>\n",
       "      <th>2</th>\n",
       "      <td>200019.0</td>\n",
       "      <td>-1 days</td>\n",
       "      <td>Mech</td>\n",
       "      <td>mech/O2/none category</td>\n",
       "      <td>2178-07-08 21:51:00</td>\n",
       "      <td>vent_recieved</td>\n",
       "    </tr>\n",
       "    <tr>\n",
       "      <th>4</th>\n",
       "      <td>200030.0</td>\n",
       "      <td>-1 days</td>\n",
       "      <td>Oxygen</td>\n",
       "      <td>mech/O2/none category</td>\n",
       "      <td>2150-11-15 02:08:00</td>\n",
       "      <td>vent_recieved</td>\n",
       "    </tr>\n",
       "    <tr>\n",
       "      <th>6</th>\n",
       "      <td>200033.0</td>\n",
       "      <td>-1 days</td>\n",
       "      <td>Mech</td>\n",
       "      <td>mech/O2/none category</td>\n",
       "      <td>2198-08-11 00:31:00</td>\n",
       "      <td>vent_recieved</td>\n",
       "    </tr>\n",
       "    <tr>\n",
       "      <th>8</th>\n",
       "      <td>200055.0</td>\n",
       "      <td>0 days</td>\n",
       "      <td>None</td>\n",
       "      <td>mech/O2/none category</td>\n",
       "      <td>2179-03-17 12:15:00</td>\n",
       "      <td>vent_recieved</td>\n",
       "    </tr>\n",
       "  </tbody>\n",
       "</table>\n",
       "</div>"
      ],
      "text/plain": [
       "   icustay_id   delta   value                    uom first_pos_else_neg_ssc  \\\n",
       "0    200014.0 -1 days    Mech  mech/O2/none category    2105-02-17 00:00:00   \n",
       "2    200019.0 -1 days    Mech  mech/O2/none category    2178-07-08 21:51:00   \n",
       "4    200030.0 -1 days  Oxygen  mech/O2/none category    2150-11-15 02:08:00   \n",
       "6    200033.0 -1 days    Mech  mech/O2/none category    2198-08-11 00:31:00   \n",
       "8    200055.0  0 days    None  mech/O2/none category    2179-03-17 12:15:00   \n",
       "\n",
       "           label  \n",
       "0  vent_recieved  \n",
       "2  vent_recieved  \n",
       "4  vent_recieved  \n",
       "6  vent_recieved  \n",
       "8  vent_recieved  "
      ]
     },
     "execution_count": 65,
     "metadata": {},
     "output_type": "execute_result"
    },
    {
     "name": "stdout",
     "output_type": "stream",
     "text": [
      "time: 8.9 ms\n"
     ]
    }
   ],
   "source": [
    "ventcategory_1day_df.head()"
   ]
  },
  {
   "cell_type": "code",
   "execution_count": null,
   "metadata": {},
   "outputs": [],
   "source": []
  },
  {
   "cell_type": "code",
   "execution_count": 66,
   "metadata": {},
   "outputs": [
    {
     "name": "stdout",
     "output_type": "stream",
     "text": [
      "time: 151 ms\n"
     ]
    }
   ],
   "source": [
    "pd.DataFrame(ventcategory_1day_df).to_csv(Path(\n",
    "    save_path+'/%s_ventcategory_prepped.csv' %(date)))\n",
    "del(ventcategory_1day_df,dfs['ventcategory_df'] )"
   ]
  },
  {
   "cell_type": "markdown",
   "metadata": {},
   "source": [
    "## weight and height firstday -\n",
    "i explored weightdurations and it had more missing values than weightfirstday, so i will use that. we can revisit this if we need longitudinal weights"
   ]
  },
  {
   "cell_type": "code",
   "execution_count": 67,
   "metadata": {},
   "outputs": [
    {
     "name": "stdout",
     "output_type": "stream",
     "text": [
      "time: 1.19 ms\n"
     ]
    }
   ],
   "source": [
    "dfs['weightfirstday_df']['uom']='kg'"
   ]
  },
  {
   "cell_type": "code",
   "execution_count": 68,
   "metadata": {},
   "outputs": [
    {
     "data": {
      "text/html": [
       "<div>\n",
       "<style scoped>\n",
       "    .dataframe tbody tr th:only-of-type {\n",
       "        vertical-align: middle;\n",
       "    }\n",
       "\n",
       "    .dataframe tbody tr th {\n",
       "        vertical-align: top;\n",
       "    }\n",
       "\n",
       "    .dataframe thead th {\n",
       "        text-align: right;\n",
       "    }\n",
       "</style>\n",
       "<table border=\"1\" class=\"dataframe\">\n",
       "  <thead>\n",
       "    <tr style=\"text-align: right;\">\n",
       "      <th></th>\n",
       "      <th>icustay_id</th>\n",
       "      <th>weight</th>\n",
       "      <th>weight_admit</th>\n",
       "      <th>weight_daily</th>\n",
       "      <th>weight_echoinhosp</th>\n",
       "      <th>weight_echoprehosp</th>\n",
       "      <th>uom</th>\n",
       "    </tr>\n",
       "  </thead>\n",
       "  <tbody>\n",
       "    <tr>\n",
       "      <th>8</th>\n",
       "      <td>200014</td>\n",
       "      <td>62.0</td>\n",
       "      <td>62.000000</td>\n",
       "      <td>NaN</td>\n",
       "      <td>NaN</td>\n",
       "      <td>NaN</td>\n",
       "      <td>kg</td>\n",
       "    </tr>\n",
       "    <tr>\n",
       "      <th>10</th>\n",
       "      <td>200019</td>\n",
       "      <td>65.0</td>\n",
       "      <td>65.000000</td>\n",
       "      <td>NaN</td>\n",
       "      <td>NaN</td>\n",
       "      <td>NaN</td>\n",
       "      <td>kg</td>\n",
       "    </tr>\n",
       "    <tr>\n",
       "      <th>16</th>\n",
       "      <td>200030</td>\n",
       "      <td>113.6</td>\n",
       "      <td>113.599998</td>\n",
       "      <td>113.599998</td>\n",
       "      <td>NaN</td>\n",
       "      <td>NaN</td>\n",
       "      <td>kg</td>\n",
       "    </tr>\n",
       "    <tr>\n",
       "      <th>18</th>\n",
       "      <td>200033</td>\n",
       "      <td>74.0</td>\n",
       "      <td>74.000000</td>\n",
       "      <td>NaN</td>\n",
       "      <td>NaN</td>\n",
       "      <td>NaN</td>\n",
       "      <td>kg</td>\n",
       "    </tr>\n",
       "    <tr>\n",
       "      <th>33</th>\n",
       "      <td>200055</td>\n",
       "      <td>56.0</td>\n",
       "      <td>56.000000</td>\n",
       "      <td>NaN</td>\n",
       "      <td>NaN</td>\n",
       "      <td>NaN</td>\n",
       "      <td>kg</td>\n",
       "    </tr>\n",
       "  </tbody>\n",
       "</table>\n",
       "</div>"
      ],
      "text/plain": [
       "    icustay_id  weight  weight_admit  weight_daily  weight_echoinhosp  \\\n",
       "8       200014    62.0     62.000000           NaN                NaN   \n",
       "10      200019    65.0     65.000000           NaN                NaN   \n",
       "16      200030   113.6    113.599998    113.599998                NaN   \n",
       "18      200033    74.0     74.000000           NaN                NaN   \n",
       "33      200055    56.0     56.000000           NaN                NaN   \n",
       "\n",
       "    weight_echoprehosp uom  \n",
       "8                  NaN  kg  \n",
       "10                 NaN  kg  \n",
       "16                 NaN  kg  \n",
       "18                 NaN  kg  \n",
       "33                 NaN  kg  "
      ]
     },
     "execution_count": 68,
     "metadata": {},
     "output_type": "execute_result"
    },
    {
     "name": "stdout",
     "output_type": "stream",
     "text": [
      "time: 9.46 ms\n"
     ]
    }
   ],
   "source": [
    "dfs['weightfirstday_df'].head()  \n",
    "#weight column is the conglomerate of weight_admin>weight_daily> weight_echoinhosp> weight_echoprehosp"
   ]
  },
  {
   "cell_type": "code",
   "execution_count": 69,
   "metadata": {},
   "outputs": [
    {
     "name": "stdout",
     "output_type": "stream",
     "text": [
      "time: 3.84 ms\n"
     ]
    }
   ],
   "source": [
    "dfs['weightfirstday_df']= dfs['weightfirstday_df'][dfs['weightfirstday_df']['weight'].notnull()]\n",
    "dfs['weightfirstday_df']= dfs['weightfirstday_df'][['icustay_id','weight','uom']]"
   ]
  },
  {
   "cell_type": "code",
   "execution_count": 70,
   "metadata": {},
   "outputs": [
    {
     "name": "stdout",
     "output_type": "stream",
     "text": [
      "time: 63.8 ms\n"
     ]
    }
   ],
   "source": [
    "dfs['weightfirstday_df']['label']= 'weight'\n",
    "dfs['weightfirstday_df']=dfs['weightfirstday_df'].rename(index=str, columns={'weight':'value'})\n",
    "\n",
    "#adding the assumed first day delta column to standardize all columns\n",
    "dfs['weightfirstday_df']['delta']=pd.to_timedelta(0,'days')\n",
    "\n",
    "#adding t_0\n",
    "dfs['weightfirstday_df']= pd.merge(dfs['weightfirstday_df'], final_pt_df2[['icustay_id',time_var]], left_on='icustay_id', right_on='icustay_id')"
   ]
  },
  {
   "cell_type": "code",
   "execution_count": 71,
   "metadata": {},
   "outputs": [
    {
     "name": "stdout",
     "output_type": "stream",
     "text": [
      "time: 159 ms\n"
     ]
    }
   ],
   "source": [
    "pd.DataFrame(dfs['weightfirstday_df']).to_csv(Path(\n",
    "    save_path+'/%s_weight_prepped.csv' %(date)))\n",
    "del(dfs['weightfirstday_df'])"
   ]
  },
  {
   "cell_type": "code",
   "execution_count": 72,
   "metadata": {},
   "outputs": [
    {
     "name": "stdout",
     "output_type": "stream",
     "text": [
      "time: 1.22 ms\n"
     ]
    }
   ],
   "source": [
    "dfs['heightfirstday_df']['uom']='cm'"
   ]
  },
  {
   "cell_type": "code",
   "execution_count": 73,
   "metadata": {},
   "outputs": [
    {
     "name": "stdout",
     "output_type": "stream",
     "text": [
      "time: 3.31 ms\n"
     ]
    }
   ],
   "source": [
    "dfs['heightfirstday_df']= dfs['heightfirstday_df'][dfs['heightfirstday_df']['height'].notnull()]\n",
    "dfs['heightfirstday_df']= dfs['heightfirstday_df'][['icustay_id','height','uom']]"
   ]
  },
  {
   "cell_type": "code",
   "execution_count": 74,
   "metadata": {},
   "outputs": [
    {
     "name": "stdout",
     "output_type": "stream",
     "text": [
      "time: 67.1 ms\n"
     ]
    }
   ],
   "source": [
    "dfs['heightfirstday_df']['label']= 'height'\n",
    "dfs['heightfirstday_df']=dfs['heightfirstday_df'].rename(index=str, columns={'height':'value'})\n",
    "\n",
    "#adding the assumed first day delta column to standardize all columns\n",
    "dfs['heightfirstday_df']['delta']=pd.to_timedelta(0,'days')\n",
    "#adding t_0\n",
    "dfs['heightfirstday_df']= pd.merge(dfs['heightfirstday_df'], final_pt_df2[['icustay_id',time_var]], left_on='icustay_id', right_on='icustay_id')"
   ]
  },
  {
   "cell_type": "code",
   "execution_count": 75,
   "metadata": {},
   "outputs": [
    {
     "name": "stdout",
     "output_type": "stream",
     "text": [
      "time: 120 ms\n"
     ]
    }
   ],
   "source": [
    "pd.DataFrame(dfs['heightfirstday_df']).to_csv(Path(\n",
    "    save_path+'/%s_height_prepped.csv' %(date)))\n",
    "del(dfs['heightfirstday_df'])"
   ]
  },
  {
   "cell_type": "markdown",
   "metadata": {},
   "source": [
    "# UTI"
   ]
  },
  {
   "cell_type": "code",
   "execution_count": 76,
   "metadata": {},
   "outputs": [
    {
     "data": {
      "text/plain": [
       "array(['NEG', 'SM', 'MOD', 'TR', 'POS', 'LG',\n",
       "       'COMPUTER NETWORK FAILURE. TEST NOT RESULTED.', 'SMALL'],\n",
       "      dtype=object)"
      ]
     },
     "execution_count": 76,
     "metadata": {},
     "output_type": "execute_result"
    },
    {
     "name": "stdout",
     "output_type": "stream",
     "text": [
      "time: 13.1 ms\n"
     ]
    }
   ],
   "source": [
    "dfs['uti_all_72']['value'].unique()#seems good #all uti within clinical timewindow"
   ]
  },
  {
   "cell_type": "code",
   "execution_count": 77,
   "metadata": {},
   "outputs": [
    {
     "name": "stdout",
     "output_type": "stream",
     "text": [
      "time: 108 ms\n"
     ]
    }
   ],
   "source": [
    "dfs['uti_all_72']= dfs['uti_all_72'].loc[(dfs['uti_all_72'].loc[:,'value']!='NEG')&\n",
    "               dfs['uti_all_72'].loc[:,'value'].notnull(),:] #filter to only pos rows\n",
    "\n",
    "dfs['uti_all_72']= dfs['uti_all_72'].loc[(dfs['uti_all_72'].loc[:,'value']!='COMPUTER NETWORK FAILURE. TEST NOT RESULTED.')&\n",
    "               dfs['uti_all_72'].loc[:,'value'].notnull(),:] #filter to only pos rows\n",
    "dfs['uti_all_72']= dfs['uti_all_72'].drop_duplicates(subset=['hadm_id','value','charttime'])\n",
    "\n",
    "dfs['uti_all_72'].loc[dfs['uti_all_72'].loc[:,'value'].notnull(),'value']= 1\n",
    "dfs['uti_all_72'].loc[dfs['uti_all_72'].loc[:,'value'].isna(),'value']= 0 "
   ]
  },
  {
   "cell_type": "code",
   "execution_count": 78,
   "metadata": {},
   "outputs": [
    {
     "data": {
      "text/html": [
       "<div>\n",
       "<style scoped>\n",
       "    .dataframe tbody tr th:only-of-type {\n",
       "        vertical-align: middle;\n",
       "    }\n",
       "\n",
       "    .dataframe tbody tr th {\n",
       "        vertical-align: top;\n",
       "    }\n",
       "\n",
       "    .dataframe thead th {\n",
       "        text-align: right;\n",
       "    }\n",
       "</style>\n",
       "<table border=\"1\" class=\"dataframe\">\n",
       "  <thead>\n",
       "    <tr style=\"text-align: right;\">\n",
       "      <th></th>\n",
       "      <th>subject_id</th>\n",
       "      <th>hadm_id</th>\n",
       "      <th>itemid</th>\n",
       "      <th>charttime</th>\n",
       "      <th>value</th>\n",
       "      <th>valuenum</th>\n",
       "      <th>valueuom</th>\n",
       "      <th>label</th>\n",
       "      <th>fluid</th>\n",
       "      <th>category</th>\n",
       "      <th>loinc_code</th>\n",
       "      <th>icd9_code</th>\n",
       "      <th>first_pos_else_neg_ssc</th>\n",
       "      <th>delta</th>\n",
       "    </tr>\n",
       "  </thead>\n",
       "  <tbody>\n",
       "    <tr>\n",
       "      <th>255</th>\n",
       "      <td>186</td>\n",
       "      <td>164405.0</td>\n",
       "      <td>51486</td>\n",
       "      <td>2176-09-27 20:30:00</td>\n",
       "      <td>1</td>\n",
       "      <td>NaN</td>\n",
       "      <td>NaN</td>\n",
       "      <td>Leukocytes</td>\n",
       "      <td>Urine</td>\n",
       "      <td>Hematology</td>\n",
       "      <td>5799-2</td>\n",
       "      <td>4560</td>\n",
       "      <td>2176-09-27 22:24:00</td>\n",
       "      <td>-1 days +22:06:00.000000000</td>\n",
       "    </tr>\n",
       "    <tr>\n",
       "      <th>338</th>\n",
       "      <td>191</td>\n",
       "      <td>136614.0</td>\n",
       "      <td>51486</td>\n",
       "      <td>2196-04-11 17:27:00</td>\n",
       "      <td>1</td>\n",
       "      <td>NaN</td>\n",
       "      <td>NaN</td>\n",
       "      <td>Leukocytes</td>\n",
       "      <td>Urine</td>\n",
       "      <td>Hematology</td>\n",
       "      <td>5799-2</td>\n",
       "      <td>51881</td>\n",
       "      <td>2196-04-12 00:00:00</td>\n",
       "      <td>-1 days +17:27:00.000000000</td>\n",
       "    </tr>\n",
       "    <tr>\n",
       "      <th>353</th>\n",
       "      <td>191</td>\n",
       "      <td>136614.0</td>\n",
       "      <td>51486</td>\n",
       "      <td>2196-04-12 19:15:00</td>\n",
       "      <td>1</td>\n",
       "      <td>NaN</td>\n",
       "      <td>NaN</td>\n",
       "      <td>Leukocytes</td>\n",
       "      <td>Urine</td>\n",
       "      <td>Hematology</td>\n",
       "      <td>5799-2</td>\n",
       "      <td>51881</td>\n",
       "      <td>2196-04-12 00:00:00</td>\n",
       "      <td>0 days 19:15:00.000000000</td>\n",
       "    </tr>\n",
       "    <tr>\n",
       "      <th>911</th>\n",
       "      <td>279</td>\n",
       "      <td>192224.0</td>\n",
       "      <td>51486</td>\n",
       "      <td>2164-06-14 18:00:00</td>\n",
       "      <td>1</td>\n",
       "      <td>NaN</td>\n",
       "      <td>NaN</td>\n",
       "      <td>Leukocytes</td>\n",
       "      <td>Urine</td>\n",
       "      <td>Hematology</td>\n",
       "      <td>5799-2</td>\n",
       "      <td>1561</td>\n",
       "      <td>2164-06-15 07:00:00</td>\n",
       "      <td>-1 days +11:00:00.000000000</td>\n",
       "    </tr>\n",
       "    <tr>\n",
       "      <th>974</th>\n",
       "      <td>339</td>\n",
       "      <td>107660.0</td>\n",
       "      <td>51486</td>\n",
       "      <td>2188-04-12 20:23:00</td>\n",
       "      <td>1</td>\n",
       "      <td>NaN</td>\n",
       "      <td>NaN</td>\n",
       "      <td>Leukocytes</td>\n",
       "      <td>Urine</td>\n",
       "      <td>Hematology</td>\n",
       "      <td>5799-2</td>\n",
       "      <td>5772</td>\n",
       "      <td>2188-04-13 15:22:00</td>\n",
       "      <td>-1 days +05:01:00.000000000</td>\n",
       "    </tr>\n",
       "  </tbody>\n",
       "</table>\n",
       "</div>"
      ],
      "text/plain": [
       "     subject_id   hadm_id  itemid            charttime  value  valuenum  \\\n",
       "255         186  164405.0   51486  2176-09-27 20:30:00      1       NaN   \n",
       "338         191  136614.0   51486  2196-04-11 17:27:00      1       NaN   \n",
       "353         191  136614.0   51486  2196-04-12 19:15:00      1       NaN   \n",
       "911         279  192224.0   51486  2164-06-14 18:00:00      1       NaN   \n",
       "974         339  107660.0   51486  2188-04-12 20:23:00      1       NaN   \n",
       "\n",
       "     valueuom       label  fluid    category loinc_code icd9_code  \\\n",
       "255       NaN  Leukocytes  Urine  Hematology     5799-2      4560   \n",
       "338       NaN  Leukocytes  Urine  Hematology     5799-2     51881   \n",
       "353       NaN  Leukocytes  Urine  Hematology     5799-2     51881   \n",
       "911       NaN  Leukocytes  Urine  Hematology     5799-2      1561   \n",
       "974       NaN  Leukocytes  Urine  Hematology     5799-2      5772   \n",
       "\n",
       "    first_pos_else_neg_ssc                        delta  \n",
       "255    2176-09-27 22:24:00  -1 days +22:06:00.000000000  \n",
       "338    2196-04-12 00:00:00  -1 days +17:27:00.000000000  \n",
       "353    2196-04-12 00:00:00    0 days 19:15:00.000000000  \n",
       "911    2164-06-15 07:00:00  -1 days +11:00:00.000000000  \n",
       "974    2188-04-13 15:22:00  -1 days +05:01:00.000000000  "
      ]
     },
     "execution_count": 78,
     "metadata": {},
     "output_type": "execute_result"
    },
    {
     "name": "stdout",
     "output_type": "stream",
     "text": [
      "time: 13 ms\n"
     ]
    }
   ],
   "source": [
    "dfs['uti_all_72'].head()"
   ]
  },
  {
   "cell_type": "code",
   "execution_count": 79,
   "metadata": {},
   "outputs": [
    {
     "name": "stdout",
     "output_type": "stream",
     "text": [
      "time: 8.25 ms\n"
     ]
    }
   ],
   "source": [
    "# ###coding any positive leukocyte or nitrate between day 1,2 or 3 for all patients. if time granularity is later needed for models, need to revisit this data to get the exact delta value\n",
    "\n",
    "# def uti_categorization(final_pt_df2):\n",
    "    \n",
    "#     nit_df_3dayannotation= final_pt_df2[['subject_id','hadm_id','t_0']]\n",
    "#     nit_df_3dayannotation['uti_day1']='Neg/Not_tested'\n",
    "#     nit_df_3dayannotation['uti_day2']='Neg/Not_tested' \n",
    "#     nit_df_3dayannotation['uti_day3']='Neg/Not_tested' \n",
    "    \n",
    "#     leuk_df_3dayannotation= final_pt_df2[['subject_id','hadm_id','t_0']]\n",
    "#     leuk_df_3dayannotation['uti_day1']='Neg/Not_tested'\n",
    "#     leuk_df_3dayannotation['uti_day2']='Neg/Not_tested' \n",
    "#     leuk_df_3dayannotation['uti_day3']='Neg/Not_tested' \n",
    "\n",
    "#     leuk_pos_1= uti_leuk_pos.loc[uti_leuk_pos['delta'].between('0 days','1 days'),'hadm_id'].tolist()\n",
    "#     leuk_pos_2= uti_leuk_pos.loc[uti_leuk_pos['delta'].between('1 days','2 days'),'hadm_id'].tolist()\n",
    "#     leuk_pos_3= uti_leuk_pos.loc[uti_leuk_pos['delta'].between('2 days','3 days'),'hadm_id'].tolist()\n",
    "    \n",
    "#     nit_pos_1= uti_nit_pos.loc[uti_nit_pos['delta'].between('0 days','1 days'),'hadm_id'].tolist()\n",
    "#     nit_pos_2= uti_nit_pos.loc[uti_nit_pos['delta'].between('1 days','2 days'),'hadm_id'].tolist()\n",
    "#     nit_pos_3= uti_nit_pos.loc[uti_nit_pos['delta'].between('2 days','3 days'),'hadm_id'].tolist()\n",
    "    \n",
    "# #     both_pos_1= list(set(leuk_pos_1) & set(nit_pos_1))\n",
    "# #     both_pos_2= list(set(leuk_pos_2) & set(nit_pos_2))\n",
    "# #     both_pos_3= list(set(leuk_pos_3) & set(nit_pos_3))\n",
    "\n",
    "#     leuk_df_3dayannotation.loc[leuk_df_3dayannotation.loc[:,'hadm_id'].isin(leuk_pos_1),'uti_day1']='pos'\n",
    "#     leuk_df_3dayannotation.loc[leuk_df_3dayannotation.loc[:,'hadm_id'].isin(leuk_pos_2),'uti_day2']='pos'\n",
    "#     leuk_df_3dayannotation.loc[leuk_df_3dayannotation.loc[:,'hadm_id'].isin(leuk_pos_3),'uti_day3']='pos'\n",
    "    \n",
    "#     nit_df_3dayannotation.loc[nit_df_3dayannotation.loc[:,'hadm_id'].isin(nit_pos_1),'uti_day1']='pos'\n",
    "#     nit_df_3dayannotation.loc[nit_df_3dayannotation.loc[:,'hadm_id'].isin(nit_pos_2),'uti_day2']='pos'\n",
    "#     nit_df_3dayannotation.loc[nit_df_3dayannotation.loc[:,'hadm_id'].isin(nit_pos_3),'uti_day3']='pos'\n",
    "    \n",
    "# #     uti_df_3dayannotation.loc[uti_df_3dayannotation.loc[:,'hadm_id'].isin(both_pos_1),'uti_day1']='both_pos'\n",
    "# #     uti_df_3dayannotation.loc[uti_df_3dayannotation.loc[:,'hadm_id'].isin(both_pos_2),'uti_day2']='both_pos'\n",
    "# #     uti_df_3dayannotation.loc[uti_df_3dayannotation.loc[:,'hadm_id'].isin(both_pos_3),'uti_day3']='both_pos'\n",
    "    \n",
    "#     return(leuk_df_3dayannotation, nit_df_3dayannotation)"
   ]
  },
  {
   "cell_type": "code",
   "execution_count": 80,
   "metadata": {},
   "outputs": [
    {
     "name": "stdout",
     "output_type": "stream",
     "text": [
      "time: 788 µs\n"
     ]
    }
   ],
   "source": [
    "#leuk_categorization, nit_categorization= uti_categorization(final_pt_df2)"
   ]
  },
  {
   "cell_type": "code",
   "execution_count": 81,
   "metadata": {},
   "outputs": [
    {
     "name": "stdout",
     "output_type": "stream",
     "text": [
      "time: 55.5 ms\n"
     ]
    }
   ],
   "source": [
    "\n",
    "def uti_categorizer(uti_df):\n",
    "    \"useful to get all rows of days with positive values for patients (if multiple pos in a day there will be only 1 row for that day). ie more longitudinal format \"\n",
    "    \n",
    "    #gives the max pos or neg value per day for \n",
    "    df_timewindow_perday=uti_df.groupby(['hadm_id','delta'], as_index=False)['value'].agg({'value':'max'})  \n",
    "    df_timewindow_perday= pd.merge(df_timewindow_perday,final_pt_df2[['icustay_id','hadm_id', time_var]], left_on='hadm_id', right_on='hadm_id', how='left')\n",
    "    df_timewindow_perday=df_timewindow_perday.sort_values(['hadm_id','value','delta'], ascending=[True,False,True])\n",
    "    return(df_timewindow_perday)\n",
    "\n",
    "def uti_collapser(uti_df, label):\n",
    "    \"collapsing longitudinal data into 1 value. will return pos or neg if patient has a positive uti in their stay. one row per icustay_id\"\n",
    "    \n",
    "    df_timewindow_perday=uti_df.groupby(['hadm_id','delta'], as_index=False)['value'].agg({'value':'max'})\n",
    "    first_pos= df_timewindow_perday.drop_duplicates(['hadm_id'])\n",
    "    collapsed= pd.merge(final_pt_df2[['hadm_id','icustay_id','subject_id', time_var]],first_pos, left_on='hadm_id', right_on='hadm_id', how='left')\n",
    "    \n",
    "    collapsed['value']= collapsed['value'].fillna(0)\n",
    "    collapsed.loc[collapsed.loc[:,'value']==1,'value']= 'pos'\n",
    "    collapsed.loc[collapsed.loc[:,'value']==0,'value']= 'Neg/Not_tested'\n",
    "    \n",
    "    collapsed['delta']= collapsed['delta'].fillna(pd.Timedelta(1, unit='d'))\n",
    "    \n",
    "    collapsed['label']= label\n",
    "    \n",
    "    collapsed['uom']='pos/neg category'\n",
    "    return(collapsed)"
   ]
  },
  {
   "cell_type": "code",
   "execution_count": 82,
   "metadata": {},
   "outputs": [
    {
     "name": "stdout",
     "output_type": "stream",
     "text": [
      "time: 57.7 ms\n"
     ]
    }
   ],
   "source": [
    "uti_nit_pos= dfs['uti_all_72'][dfs['uti_all_72']['label']==\"Nitrite\"]\n",
    "uti_leuk_pos= dfs['uti_all_72'][dfs['uti_all_72']['label']==\"Leukocytes\"]\n",
    "\n",
    "leuk_collapsed= uti_collapser(uti_leuk_pos, 'leukocyte')\n",
    "nit_collapsed= uti_collapser(uti_nit_pos, 'nitrite')\n"
   ]
  },
  {
   "cell_type": "code",
   "execution_count": 83,
   "metadata": {},
   "outputs": [
    {
     "name": "stdout",
     "output_type": "stream",
     "text": [
      "time: 225 ms\n"
     ]
    }
   ],
   "source": [
    "save_df(leuk_collapsed, 'leuk')\n",
    "del(leuk_collapsed)\n",
    "\n",
    "save_df(nit_collapsed, 'nit')\n",
    "del(nit_collapsed)\n",
    "del(dfs['uti_all_72'])"
   ]
  },
  {
   "cell_type": "markdown",
   "metadata": {},
   "source": [
    "# bloodgas"
   ]
  },
  {
   "cell_type": "code",
   "execution_count": 84,
   "metadata": {},
   "outputs": [
    {
     "data": {
      "text/html": [
       "<div>\n",
       "<style scoped>\n",
       "    .dataframe tbody tr th:only-of-type {\n",
       "        vertical-align: middle;\n",
       "    }\n",
       "\n",
       "    .dataframe tbody tr th {\n",
       "        vertical-align: top;\n",
       "    }\n",
       "\n",
       "    .dataframe thead th {\n",
       "        text-align: right;\n",
       "    }\n",
       "</style>\n",
       "<table border=\"1\" class=\"dataframe\">\n",
       "  <thead>\n",
       "    <tr style=\"text-align: right;\">\n",
       "      <th></th>\n",
       "      <th>subject_id</th>\n",
       "      <th>hadm_id</th>\n",
       "      <th>icustay_id</th>\n",
       "      <th>charttime</th>\n",
       "      <th>label</th>\n",
       "      <th>valuenum</th>\n",
       "      <th>value</th>\n",
       "      <th>uom</th>\n",
       "      <th>unique_var</th>\n",
       "      <th>first_pos_else_neg_ssc</th>\n",
       "      <th>delta</th>\n",
       "    </tr>\n",
       "  </thead>\n",
       "  <tbody>\n",
       "    <tr>\n",
       "      <th>82</th>\n",
       "      <td>9</td>\n",
       "      <td>150750</td>\n",
       "      <td>220597</td>\n",
       "      <td>2149-11-13 03:34:00</td>\n",
       "      <td>BASEEXCESS</td>\n",
       "      <td>NaN</td>\n",
       "      <td>-1</td>\n",
       "      <td>mEq/L</td>\n",
       "      <td>2205972149-11-13 03:34:00</td>\n",
       "      <td>2149-11-13 19:30:00</td>\n",
       "      <td>-1 days +08:04:00.000000000</td>\n",
       "    </tr>\n",
       "    <tr>\n",
       "      <th>83</th>\n",
       "      <td>9</td>\n",
       "      <td>150750</td>\n",
       "      <td>220597</td>\n",
       "      <td>2149-11-13 03:34:00</td>\n",
       "      <td>CALCIUM</td>\n",
       "      <td>1.05</td>\n",
       "      <td>1.05</td>\n",
       "      <td>mmol/L</td>\n",
       "      <td>2205972149-11-13 03:34:00</td>\n",
       "      <td>2149-11-13 19:30:00</td>\n",
       "      <td>-1 days +08:04:00.000000000</td>\n",
       "    </tr>\n",
       "    <tr>\n",
       "      <th>84</th>\n",
       "      <td>9</td>\n",
       "      <td>150750</td>\n",
       "      <td>220597</td>\n",
       "      <td>2149-11-13 03:34:00</td>\n",
       "      <td>LACTATE</td>\n",
       "      <td>1.80</td>\n",
       "      <td>1.8</td>\n",
       "      <td>mmol/L</td>\n",
       "      <td>2205972149-11-13 03:34:00</td>\n",
       "      <td>2149-11-13 19:30:00</td>\n",
       "      <td>-1 days +08:04:00.000000000</td>\n",
       "    </tr>\n",
       "    <tr>\n",
       "      <th>85</th>\n",
       "      <td>9</td>\n",
       "      <td>150750</td>\n",
       "      <td>220597</td>\n",
       "      <td>2149-11-13 03:34:00</td>\n",
       "      <td>PCO2</td>\n",
       "      <td>34.00</td>\n",
       "      <td>34</td>\n",
       "      <td>mm Hg</td>\n",
       "      <td>2205972149-11-13 03:34:00</td>\n",
       "      <td>2149-11-13 19:30:00</td>\n",
       "      <td>-1 days +08:04:00.000000000</td>\n",
       "    </tr>\n",
       "    <tr>\n",
       "      <th>86</th>\n",
       "      <td>9</td>\n",
       "      <td>150750</td>\n",
       "      <td>220597</td>\n",
       "      <td>2149-11-13 03:34:00</td>\n",
       "      <td>PH</td>\n",
       "      <td>7.42</td>\n",
       "      <td>7.42</td>\n",
       "      <td>units</td>\n",
       "      <td>2205972149-11-13 03:34:00</td>\n",
       "      <td>2149-11-13 19:30:00</td>\n",
       "      <td>-1 days +08:04:00.000000000</td>\n",
       "    </tr>\n",
       "  </tbody>\n",
       "</table>\n",
       "</div>"
      ],
      "text/plain": [
       "    subject_id  hadm_id  icustay_id            charttime       label  \\\n",
       "82           9   150750      220597  2149-11-13 03:34:00  BASEEXCESS   \n",
       "83           9   150750      220597  2149-11-13 03:34:00     CALCIUM   \n",
       "84           9   150750      220597  2149-11-13 03:34:00     LACTATE   \n",
       "85           9   150750      220597  2149-11-13 03:34:00        PCO2   \n",
       "86           9   150750      220597  2149-11-13 03:34:00          PH   \n",
       "\n",
       "    valuenum value     uom                 unique_var first_pos_else_neg_ssc  \\\n",
       "82       NaN    -1   mEq/L  2205972149-11-13 03:34:00    2149-11-13 19:30:00   \n",
       "83      1.05  1.05  mmol/L  2205972149-11-13 03:34:00    2149-11-13 19:30:00   \n",
       "84      1.80   1.8  mmol/L  2205972149-11-13 03:34:00    2149-11-13 19:30:00   \n",
       "85     34.00    34   mm Hg  2205972149-11-13 03:34:00    2149-11-13 19:30:00   \n",
       "86      7.42  7.42   units  2205972149-11-13 03:34:00    2149-11-13 19:30:00   \n",
       "\n",
       "                          delta  \n",
       "82  -1 days +08:04:00.000000000  \n",
       "83  -1 days +08:04:00.000000000  \n",
       "84  -1 days +08:04:00.000000000  \n",
       "85  -1 days +08:04:00.000000000  \n",
       "86  -1 days +08:04:00.000000000  "
      ]
     },
     "execution_count": 84,
     "metadata": {},
     "output_type": "execute_result"
    },
    {
     "name": "stdout",
     "output_type": "stream",
     "text": [
      "time: 546 ms\n"
     ]
    }
   ],
   "source": [
    "\n",
    "dfs['bg_all_nosummary_72']= dfs['bg_all_nosummary_72'].loc[dfs['bg_all_nosummary_72']['value'].notnull(),:]\n",
    "dfs['bg_all_nosummary_72'] = dfs['bg_all_nosummary_72'].rename(index=str, columns={'valueuom':'uom'})\n",
    "dfs['bg_all_nosummary_72']= dfs['bg_all_nosummary_72'].loc[~(dfs['bg_all_nosummary_72'].loc[:,'value']=='.'),:]\n",
    "\n",
    "#may need to remove outliers, haven't done as of 10/22/18\n",
    "dfs['bg_all_nosummary_72'].head()"
   ]
  },
  {
   "cell_type": "markdown",
   "metadata": {},
   "source": [
    "#### erroneous value removal\n",
    "\n",
    "NOTE: these are hard coded to positioning. if anything in the bg_all_nosummary is changed than these positions need to be updated. "
   ]
  },
  {
   "cell_type": "code",
   "execution_count": 85,
   "metadata": {},
   "outputs": [
    {
     "name": "stdout",
     "output_type": "stream",
     "text": [
      "time: 383 ms\n"
     ]
    }
   ],
   "source": [
    "##calcium\n",
    "#fixing the calcium errors w/o hard coding\n",
    "(dfs['bg_all_nosummary_72'].loc[\n",
    "    (dfs['bg_all_nosummary_72'].loc[:,'icustay_id']==249571) & \n",
    "    (dfs['bg_all_nosummary_72'].loc[:,'label']=='CALCIUM')\n",
    "    & (dfs['bg_all_nosummary_72'].loc[:,'valuenum']==94.00),'valuenum'])=0.94#.where('valuenum'==94.00))\n",
    "\n",
    "(dfs['bg_all_nosummary_72'].loc[\n",
    "    (dfs['bg_all_nosummary_72'].loc[:,'icustay_id']==249571) & \n",
    "    (dfs['bg_all_nosummary_72'].loc[:,'label']=='CALCIUM')\n",
    "    & (dfs['bg_all_nosummary_72'].loc[:,'value']=='094'),'value'])=0.94#.where('valuenum'==94.00))\n",
    "\n",
    "\n",
    "(dfs['bg_all_nosummary_72'].loc[\n",
    "    (dfs['bg_all_nosummary_72'].loc[:,'icustay_id']==219600) & \n",
    "    (dfs['bg_all_nosummary_72'].loc[:,'label']=='CALCIUM')\n",
    "    & (dfs['bg_all_nosummary_72'].loc[:,'valuenum']==97.00),'valuenum'])=0.97#.where('valuenum'==94.00))\n",
    "\n",
    "(dfs['bg_all_nosummary_72'].loc[\n",
    "    (dfs['bg_all_nosummary_72'].loc[:,'icustay_id']==219600) & \n",
    "    (dfs['bg_all_nosummary_72'].loc[:,'label']=='CALCIUM')\n",
    "    & (dfs['bg_all_nosummary_72'].loc[:,'value']=='097'),'value'])=0.97#.where('valuenum'==94.00))\n"
   ]
  },
  {
   "cell_type": "code",
   "execution_count": 86,
   "metadata": {},
   "outputs": [
    {
     "name": "stdout",
     "output_type": "stream",
     "text": [
      "time: 268 ms\n"
     ]
    }
   ],
   "source": [
    "##min chloride\n",
    "#converting it to a null value without hard coding\n",
    "(dfs['bg_all_nosummary_72'].loc[(dfs['bg_all_nosummary_72'].loc[:,'icustay_id']==261887.0) &\n",
    "                         (dfs['bg_all_nosummary_72'].loc[:,'label']=='CHLORIDE') &\n",
    "                         (dfs['bg_all_nosummary_72'].loc[:,'valuenum']==3.4),'value'])=np.nan\n",
    "#converting it to a null value without hard coding\n",
    "(dfs['bg_all_nosummary_72'].loc[(dfs['bg_all_nosummary_72'].loc[:,'icustay_id']==261887.0) &\n",
    "                         (dfs['bg_all_nosummary_72'].loc[:,'label']=='CHLORIDE') &\n",
    "                         (dfs['bg_all_nosummary_72'].loc[:,'valuenum']==3.4),'valuenum'])=np.nan\n",
    "\n",
    "#changing the values without hard coding. \n",
    "(dfs['bg_all_nosummary_72'].loc[(dfs['bg_all_nosummary_72'].loc[:,'icustay_id']==236290.0) &\n",
    "                         (dfs['bg_all_nosummary_72'].loc[:,'label']=='CHLORIDE') &\n",
    "                         (dfs['bg_all_nosummary_72'].loc[:,'valuenum']==11.0),'valuenum'])=np.nan\n",
    "\n",
    "(dfs['bg_all_nosummary_72'].loc[(dfs['bg_all_nosummary_72'].loc[:,'icustay_id']==236290.0) &\n",
    "                         (dfs['bg_all_nosummary_72'].loc[:,'label']=='CHLORIDE') &\n",
    "                         (dfs['bg_all_nosummary_72'].loc[:,'valuenum']==11.0),'value'])=np.nan"
   ]
  },
  {
   "cell_type": "code",
   "execution_count": 87,
   "metadata": {},
   "outputs": [
    {
     "name": "stdout",
     "output_type": "stream",
     "text": [
      "time: 65.7 ms\n"
     ]
    }
   ],
   "source": [
    "#peep changes summary: \n",
    "dfs['bg_all_nosummary_72'].loc[(dfs['bg_all_nosummary_72'].loc[:,'label']=='PEEP')&\n",
    "                        (dfs['bg_all_nosummary_72']['valuenum']>38),'valuenum']=np.nan #remove this or set to 50?"
   ]
  },
  {
   "cell_type": "code",
   "execution_count": 88,
   "metadata": {},
   "outputs": [
    {
     "name": "stdout",
     "output_type": "stream",
     "text": [
      "time: 244 ms\n"
     ]
    }
   ],
   "source": [
    "#temp changes summary:\n",
    "\n",
    "dfs['bg_all_nosummary_72'].loc[(dfs['bg_all_nosummary_72'].loc[:,'label']=='TEMPERATURE')&\n",
    "                        (dfs['bg_all_nosummary_72']['icustay_id']==253821)&\n",
    "                        (dfs['bg_all_nosummary_72']['valuenum']==18.9),\n",
    "                        'value']= np.nan\n",
    "\n",
    "dfs['bg_all_nosummary_72'].loc[(dfs['bg_all_nosummary_72'].loc[:,'label']=='TEMPERATURE')&\n",
    "                        (dfs['bg_all_nosummary_72']['icustay_id']==253821)&\n",
    "                        (dfs['bg_all_nosummary_72']['valuenum']==18.9),\n",
    "                        'valuenum']= np.nan\n",
    "\n",
    "dfs['bg_all_nosummary_72'].loc[(dfs['bg_all_nosummary_72'].loc[:,'label']=='TEMPERATURE')&\n",
    "                        (dfs['bg_all_nosummary_72']['icustay_id']==251788)&\n",
    "                        (dfs['bg_all_nosummary_72']['valuenum']==10.0),\n",
    "                        'value']= np.nan\n",
    "\n",
    "dfs['bg_all_nosummary_72'].loc[(dfs['bg_all_nosummary_72'].loc[:,'label']=='TEMPERATURE')&\n",
    "                        (dfs['bg_all_nosummary_72']['icustay_id']==251788)&\n",
    "                        (dfs['bg_all_nosummary_72']['valuenum']==10.0),\n",
    "                        'valuenum']= np.nan"
   ]
  },
  {
   "cell_type": "code",
   "execution_count": 89,
   "metadata": {},
   "outputs": [
    {
     "name": "stdout",
     "output_type": "stream",
     "text": [
      "time: 317 ms\n"
     ]
    }
   ],
   "source": [
    "#fio2 changes summary:\n",
    "\n",
    "##converting a few values to null, thus removing them from the dataset\n",
    "dfs['bg_all_nosummary_72'].loc[(dfs['bg_all_nosummary_72'].loc[:,'label']=='FIO2') &\n",
    "                        (dfs['bg_all_nosummary_72'].loc[:,'value']=='0'),'value']=np.nan\n",
    "\n",
    "dfs['bg_all_nosummary_72'].loc[(dfs['bg_all_nosummary_72'].loc[:,'label']=='FIO2') &\n",
    "                        (dfs['bg_all_nosummary_72'].loc[:,'value']=='-'),'value']=np.nan\n",
    "\n",
    "\n",
    "##removing all fio2 values between 1-20.9\n",
    "\n",
    "dfs['bg_all_nosummary_72'].loc[(dfs['bg_all_nosummary_72'].loc[:,'label'].isin(['FIO2']))&\n",
    "                        (dfs['bg_all_nosummary_72']['valuenum'].between(1.0,20.9)),'valuenum']=np.nan\n",
    "\n",
    "\n",
    "##values between 0-1 were found to be ratios, not %, so converting these to % \n",
    "\n",
    "dfs['bg_all_nosummary_72'].loc[(dfs['bg_all_nosummary_72'].loc[:,'label'].isin(['FIO2']))&\n",
    "                        (dfs['bg_all_nosummary_72']['valuenum'].between(1.0,20.9)),'valuenum']=np.nan\n",
    "\n",
    "fio2_dec= dfs['bg_all_nosummary_72'].loc[(dfs['bg_all_nosummary_72'].loc[:,'label'].isin(['FIO2']))&\n",
    "                        (dfs['bg_all_nosummary_72']['valuenum'].between(0.0,1.0)),'valuenum']\n",
    "\n",
    "dfs['bg_all_nosummary_72'].loc[(dfs['bg_all_nosummary_72'].loc[:,'label'].isin(['FIO2']))&\n",
    "                        (dfs['bg_all_nosummary_72']['valuenum'].between(0.0,1.0)),'valuenum'] = fio2_dec *100\n",
    "\n",
    "del(fio2_dec)"
   ]
  },
  {
   "cell_type": "markdown",
   "metadata": {},
   "source": [
    "#### removing null values annotated abov"
   ]
  },
  {
   "cell_type": "code",
   "execution_count": 90,
   "metadata": {},
   "outputs": [
    {
     "name": "stdout",
     "output_type": "stream",
     "text": [
      "time: 50.9 ms\n"
     ]
    }
   ],
   "source": [
    "dfs['bg_all_nosummary_72']= dfs['bg_all_nosummary_72'].loc[dfs['bg_all_nosummary_72']['value'].notnull(),:]"
   ]
  },
  {
   "cell_type": "markdown",
   "metadata": {},
   "source": [
    "### splitting specimen out for vent vs non-vent bg data"
   ]
  },
  {
   "cell_type": "code",
   "execution_count": 91,
   "metadata": {},
   "outputs": [
    {
     "name": "stdout",
     "output_type": "stream",
     "text": [
      "time: 456 ms\n"
     ]
    }
   ],
   "source": [
    "#adding specimen tag to filter only arterial samples for vent data. \n",
    "specimen_df= dfs['bg_all_nosummary_72'].loc[dfs['bg_all_nosummary_72'].loc[:,'label']=='SPECIMEN',['unique_var','label','value']]#unique()\n",
    "specimen_df=specimen_df.rename(index=str, columns={'value':'specimen'})\n",
    "specimen_df=specimen_df.loc[specimen_df.loc[:,\"specimen\"]=='ART',:]\n",
    "\n",
    "dfs['bg_all_nosummary_72']= pd.merge(dfs['bg_all_nosummary_72'],specimen_df[['unique_var','specimen']], left_on='unique_var', right_on='unique_var', how='left')\n",
    "bg_ART_nosummary_72=dfs['bg_all_nosummary_72'].loc[dfs['bg_all_nosummary_72'].loc[:,'specimen']=='ART',:]\n",
    "del(specimen_df)"
   ]
  },
  {
   "cell_type": "code",
   "execution_count": 92,
   "metadata": {},
   "outputs": [
    {
     "name": "stdout",
     "output_type": "stream",
     "text": [
      "time: 1.25 ms\n"
     ]
    }
   ],
   "source": [
    "bg_labels=['PH','LACTATE','CALCIUM','TEMPERATURE','POTASSIUM',\n",
    "           'GLUCOSE','HEMOGLOBIN','SODIUM','CHLORIDE','BICARBONATE']\n",
    "bg_vent_labels=['PCO2','PaO2','PO2','FIO2','PEEP','O2FLOW']"
   ]
  },
  {
   "cell_type": "code",
   "execution_count": 93,
   "metadata": {},
   "outputs": [
    {
     "name": "stdout",
     "output_type": "stream",
     "text": [
      "time: 56.1 ms\n"
     ]
    }
   ],
   "source": [
    "#restricting to tests that were chosen to be analysed based on %missingness and clinical relevance\n",
    "dfs['bg_all_nosummary_72']= dfs['bg_all_nosummary_72'].loc[dfs['bg_all_nosummary_72'].loc[:,'label'].isin(bg_labels),:]\n",
    "bg_ART_nosummary_72= bg_ART_nosummary_72.loc[bg_ART_nosummary_72.loc[:,'label'].isin(bg_vent_labels),:]\n"
   ]
  },
  {
   "cell_type": "code",
   "execution_count": 94,
   "metadata": {},
   "outputs": [
    {
     "name": "stdout",
     "output_type": "stream",
     "text": [
      "time: 11.5 ms\n"
     ]
    }
   ],
   "source": [
    "#value = valuenum for all specified bg tests. removing unneeded cols\n",
    "\n",
    "bg_col=['subject_id','hadm_id','icustay_id','charttime','delta',time_var,'label','valuenum','uom']\n",
    "bg_ART_nosummary_72= bg_ART_nosummary_72[bg_col]\n",
    "dfs['bg_all_nosummary_72']= dfs['bg_all_nosummary_72'][bg_col]\n",
    "del(bg_col)"
   ]
  },
  {
   "cell_type": "code",
   "execution_count": 95,
   "metadata": {},
   "outputs": [
    {
     "data": {
      "text/plain": [
       "array(['PCO2', 'PaO2', 'FIO2', 'PEEP', 'O2FLOW'], dtype=object)"
      ]
     },
     "execution_count": 95,
     "metadata": {},
     "output_type": "execute_result"
    },
    {
     "name": "stdout",
     "output_type": "stream",
     "text": [
      "time: 4.75 ms\n"
     ]
    }
   ],
   "source": [
    "bg_ART_nosummary_72['label'].unique()"
   ]
  },
  {
   "cell_type": "code",
   "execution_count": 96,
   "metadata": {},
   "outputs": [
    {
     "name": "stdout",
     "output_type": "stream",
     "text": [
      "time: 88.1 ms\n"
     ]
    }
   ],
   "source": [
    "#converting O2 to y/n\n",
    "o2_flow_df= bg_ART_nosummary_72.loc[bg_ART_nosummary_72.loc[:,'label']=='O2FLOW',:]\n",
    "o2_flow_df=o2_flow_df.rename(index=str, columns={'valuenum':'value'})\n",
    "o2_flow_df= yn_convert(o2_flow_df, label_fill='o2_flow', time_var=time_var)\n",
    "\n",
    "#removing o2_flow from bg_ART\n",
    "bg_ART_nosummary_72= bg_ART_nosummary_72.loc[bg_ART_nosummary_72.loc[:,'label']!='O2FLOW',:]"
   ]
  },
  {
   "cell_type": "code",
   "execution_count": 97,
   "metadata": {},
   "outputs": [
    {
     "name": "stdout",
     "output_type": "stream",
     "text": [
      "time: 12.1 ms\n"
     ]
    }
   ],
   "source": [
    "bg_ART_nosummary_72= bg_ART_nosummary_72.loc[bg_ART_nosummary_72.loc[:,'label']!='PEEP',:]"
   ]
  },
  {
   "cell_type": "markdown",
   "metadata": {},
   "source": [
    "The PaO2/FiO2 ratio should be calculated using values that are recorded either at the same time stamp, or when the FIO2 occurs within 2 hours BEFORE the PaO2, not the other way around.\n",
    "For those with no FiO2 recorded within that time frame, you can assume it’s 0.21 (=21%). The worse ratio will be the lowest PaO2 recorded with FiO2 of 1.0 (=100%). So if that is 12, then it will be 12/1 = 12."
   ]
  },
  {
   "cell_type": "code",
   "execution_count": 98,
   "metadata": {},
   "outputs": [
    {
     "name": "stdout",
     "output_type": "stream",
     "text": [
      "time: 230 ms\n"
     ]
    },
    {
     "name": "stderr",
     "output_type": "stream",
     "text": [
      "/Users/geickelb1/anaconda/envs/rpy-env/lib/python3.6/site-packages/ipykernel_launcher.py:5: SettingWithCopyWarning: \n",
      "A value is trying to be set on a copy of a slice from a DataFrame.\n",
      "Try using .loc[row_indexer,col_indexer] = value instead\n",
      "\n",
      "See the caveats in the documentation: http://pandas.pydata.org/pandas-docs/stable/indexing.html#indexing-view-versus-copy\n",
      "  \"\"\"\n",
      "/Users/geickelb1/anaconda/envs/rpy-env/lib/python3.6/site-packages/ipykernel_launcher.py:6: SettingWithCopyWarning: \n",
      "A value is trying to be set on a copy of a slice from a DataFrame.\n",
      "Try using .loc[row_indexer,col_indexer] = value instead\n",
      "\n",
      "See the caveats in the documentation: http://pandas.pydata.org/pandas-docs/stable/indexing.html#indexing-view-versus-copy\n",
      "  \n",
      "/Users/geickelb1/anaconda/envs/rpy-env/lib/python3.6/site-packages/ipykernel_launcher.py:8: SettingWithCopyWarning: \n",
      "A value is trying to be set on a copy of a slice from a DataFrame.\n",
      "Try using .loc[row_indexer,col_indexer] = value instead\n",
      "\n",
      "See the caveats in the documentation: http://pandas.pydata.org/pandas-docs/stable/indexing.html#indexing-view-versus-copy\n",
      "  \n"
     ]
    }
   ],
   "source": [
    "#need to groupby icustay_id and charttime for both. pan\n",
    "\n",
    "pao2= bg_ART_nosummary_72.loc[bg_ART_nosummary_72.loc[:,'label']=='PaO2',:] #n=41799 non-null\n",
    "fio2= bg_ART_nosummary_72.loc[bg_ART_nosummary_72.loc[:,'label']=='FIO2',:] #n=12311 non-null\n",
    "pao2['delta']=pd.to_timedelta(pao2['delta'])\n",
    "fio2['delta']=pd.to_timedelta(fio2['delta'])\n",
    "#fio2['offset']=fio2['delta'] + pd.to_timedelta(2, unit='h')\n",
    "pao2['offset']=pao2['delta'] - pd.to_timedelta(2, unit='h') #pao2 should have the offset, not fio2\n",
    "#pafi_merge=pd.merge(pao2, fio2[['icustay_id','delta','valuenum','uom']], on=['icustay_id','delta'], how='left')\n",
    "\n",
    "#pafi_merge.loc[pafi_merge.loc[:,'valuenum_y'].notnull(),:] #12310 fio2 values merged over. this is great news, all but 1 have an associated PAO2.\n",
    "#now need to find teh pao2 values without exact match and find the fio2 within 2 hr.\n",
    "#if the row is within 2 hours of another row, merge.\n"
   ]
  },
  {
   "cell_type": "code",
   "execution_count": 99,
   "metadata": {},
   "outputs": [
    {
     "name": "stdout",
     "output_type": "stream",
     "text": [
      "time: 16.6 ms\n"
     ]
    }
   ],
   "source": [
    "#removing pao2 and fio2 from bg_ART_nosummary_72\n",
    "bg_ART_nosummary_72= bg_ART_nosummary_72.loc[bg_ART_nosummary_72.loc[:,'label']!='PaO2',:]\n",
    "bg_ART_nosummary_72= bg_ART_nosummary_72.loc[bg_ART_nosummary_72.loc[:,'label']!='FIO2',:]\n"
   ]
  },
  {
   "cell_type": "code",
   "execution_count": 100,
   "metadata": {},
   "outputs": [
    {
     "name": "stderr",
     "output_type": "stream",
     "text": [
      "/Users/geickelb1/anaconda/envs/rpy-env/lib/python3.6/site-packages/pandasql/sqldf.py:121: UserWarning: the 'timedelta' type is not supported, and will be written as integer values (ns frequency) to the database.\n",
      "  index=not any(name is None for name in df.index.names))  # load index into db if all levels are named\n",
      "/Users/geickelb1/anaconda/envs/rpy-env/lib/python3.6/site-packages/pandasql/sqldf.py:121: UserWarning: the 'timedelta' type is not supported, and will be written as integer values (ns frequency) to the database.\n",
      "  index=not any(name is None for name in df.index.names))  # load index into db if all levels are named\n"
     ]
    },
    {
     "name": "stdout",
     "output_type": "stream",
     "text": [
      "time: 541 ms\n"
     ]
    },
    {
     "name": "stderr",
     "output_type": "stream",
     "text": [
      "/Users/geickelb1/anaconda/envs/rpy-env/lib/python3.6/site-packages/pandasql/sqldf.py:121: UserWarning: the 'timedelta' type is not supported, and will be written as integer values (ns frequency) to the database.\n",
      "  index=not any(name is None for name in df.index.names))  # load index into db if all levels are named\n"
     ]
    }
   ],
   "source": [
    "import pandasql as ps\n",
    "\n",
    "sqlcode = '''\n",
    "SELECT A.*, B.valuenum as valuenum2, B.label as label2, B.charttime as charttime2\n",
    "FROM pao2 as A --grabs from both merged and non-merged as is, or jsut from notmerged if chagned to pao2_notmerged\n",
    "LEFT JOIN fio2 AS B on A.icustay_id = B.icustay_id\n",
    "WHERE B.delta BETWEEN A.offset and A.delta;\n",
    "'''\n",
    "\n",
    "newdf = ps.sqldf(sqlcode,locals())\n",
    "\n",
    "#(test_rows.delta >= fio2.delta and test_rows.delta<= fio2.offset)\n"
   ]
  },
  {
   "cell_type": "code",
   "execution_count": 101,
   "metadata": {},
   "outputs": [
    {
     "name": "stdout",
     "output_type": "stream",
     "text": [
      "time: 20.7 ms\n"
     ]
    }
   ],
   "source": [
    "#newdf #15196\n",
    "#1040 rows from notmerged. \n",
    "#grabes from both\n",
    "newdf['delta']=pd.to_timedelta(newdf['delta'])\n",
    "newdf['offset']=pd.to_timedelta(newdf['delta'])\n",
    "ratio_df= pd.merge(pao2, newdf[['icustay_id','delta','valuenum2', 'charttime2']], on=['icustay_id','delta'], how='left')\n",
    "del(newdf, pao2,fio2)\n"
   ]
  },
  {
   "cell_type": "code",
   "execution_count": 102,
   "metadata": {},
   "outputs": [
    {
     "name": "stdout",
     "output_type": "stream",
     "text": [
      "time: 50.9 ms\n"
     ]
    }
   ],
   "source": [
    "#i merged in all rows that matched the 2hr criteria\n",
    "## For those with no FiO2 recorded within that time frame, you can assume it’s 0.21 (=21%). \n",
    "ratio_df.loc[ratio_df.loc[:,'valuenum2'].isnull(),'valuenum2']= 21\n",
    "ratio_df['ratio']= ratio_df['valuenum']/(ratio_df['valuenum2']/100)\n",
    "ratio_df.loc[ratio_df['charttime2'].isnull(),'charttime2']= ratio_df.loc[ratio_df['charttime2'].isnull(),'charttime']\n",
    "ratio_df['deltadelta']=pd.to_datetime(ratio_df['charttime'])-pd.to_datetime(ratio_df['charttime2'])\n"
   ]
  },
  {
   "cell_type": "code",
   "execution_count": 103,
   "metadata": {},
   "outputs": [
    {
     "data": {
      "text/plain": [
       "count    21064.000000\n",
       "mean       471.736686\n",
       "std        361.486826\n",
       "min         22.000000\n",
       "10%        132.675325\n",
       "25%        240.000000\n",
       "50%        395.238095\n",
       "75%        576.190476\n",
       "99%       1958.904762\n",
       "max       2785.714286\n",
       "Name: ratio, dtype: float64"
      ]
     },
     "execution_count": 103,
     "metadata": {},
     "output_type": "execute_result"
    },
    {
     "name": "stdout",
     "output_type": "stream",
     "text": [
      "time: 9.18 ms\n"
     ]
    }
   ],
   "source": [
    "ratio_df['ratio'].describe(percentiles=[0.1, 0.25, 0.5, 0.75, 0.99])\n"
   ]
  },
  {
   "cell_type": "code",
   "execution_count": 104,
   "metadata": {},
   "outputs": [
    {
     "data": {
      "text/plain": [
       "count    21064.000000\n",
       "mean       130.914071\n",
       "std         77.073531\n",
       "min         11.000000\n",
       "10%         67.000000\n",
       "25%         83.000000\n",
       "50%        109.000000\n",
       "75%        151.000000\n",
       "99%        443.000000\n",
       "max        596.000000\n",
       "Name: valuenum, dtype: float64"
      ]
     },
     "execution_count": 104,
     "metadata": {},
     "output_type": "execute_result"
    },
    {
     "name": "stdout",
     "output_type": "stream",
     "text": [
      "time: 10.7 ms\n"
     ]
    }
   ],
   "source": [
    "ratio_df['valuenum'].describe(percentiles=[0.1, 0.25, 0.5, 0.75, 0.99])\n"
   ]
  },
  {
   "cell_type": "code",
   "execution_count": 105,
   "metadata": {},
   "outputs": [
    {
     "name": "stdout",
     "output_type": "stream",
     "text": [
      "time: 896 µs\n"
     ]
    }
   ],
   "source": [
    "#test_df.sort_values(['icustay_id','delta','deltadelta']).drop_duplicates(['icustay_id','delta','ratio'])"
   ]
  },
  {
   "cell_type": "code",
   "execution_count": 106,
   "metadata": {},
   "outputs": [
    {
     "name": "stdout",
     "output_type": "stream",
     "text": [
      "time: 20.4 ms\n"
     ]
    }
   ],
   "source": [
    "### all of the duplicate PaO2 with different FIo2. if a pao2 value has 2 fio2 values that match the 2 hour window, then the one closest time to the fio2 value is chosen. \n",
    "ratio_df=ratio_df.sort_values(['icustay_id','delta','deltadelta']).drop_duplicates(['icustay_id','delta','ratio'])\n",
    "#43715 ->42455"
   ]
  },
  {
   "cell_type": "code",
   "execution_count": 107,
   "metadata": {},
   "outputs": [
    {
     "data": {
      "text/plain": [
       "count    20359.000000\n",
       "mean       481.392102\n",
       "std        363.193621\n",
       "min         22.000000\n",
       "10%        139.000000\n",
       "25%        252.380952\n",
       "50%        404.000000\n",
       "75%        585.714286\n",
       "99%       1971.428571\n",
       "max       2785.714286\n",
       "Name: ratio, dtype: float64"
      ]
     },
     "execution_count": 107,
     "metadata": {},
     "output_type": "execute_result"
    },
    {
     "name": "stdout",
     "output_type": "stream",
     "text": [
      "time: 28.3 ms\n"
     ]
    }
   ],
   "source": [
    "ratio_df['ratio'].describe(percentiles=[0.1, 0.25, 0.5, 0.75, 0.99])"
   ]
  },
  {
   "cell_type": "code",
   "execution_count": 108,
   "metadata": {},
   "outputs": [
    {
     "data": {
      "text/plain": [
       "count    20359.000000\n",
       "mean       131.209146\n",
       "std         77.223885\n",
       "min         11.000000\n",
       "10%         67.000000\n",
       "25%         83.000000\n",
       "50%        109.000000\n",
       "75%        151.000000\n",
       "99%        443.000000\n",
       "max        596.000000\n",
       "Name: valuenum, dtype: float64"
      ]
     },
     "execution_count": 108,
     "metadata": {},
     "output_type": "execute_result"
    },
    {
     "name": "stdout",
     "output_type": "stream",
     "text": [
      "time: 17.7 ms\n"
     ]
    }
   ],
   "source": [
    "ratio_df['valuenum'].describe(percentiles=[0.1, 0.25, 0.5, 0.75, 0.99])\n"
   ]
  },
  {
   "cell_type": "code",
   "execution_count": 109,
   "metadata": {},
   "outputs": [
    {
     "name": "stdout",
     "output_type": "stream",
     "text": [
      "time: 1.51 ms\n"
     ]
    }
   ],
   "source": [
    "#finding worst value:"
   ]
  },
  {
   "cell_type": "code",
   "execution_count": 110,
   "metadata": {},
   "outputs": [
    {
     "data": {
      "text/html": [
       "<div>\n",
       "<style scoped>\n",
       "    .dataframe tbody tr th:only-of-type {\n",
       "        vertical-align: middle;\n",
       "    }\n",
       "\n",
       "    .dataframe tbody tr th {\n",
       "        vertical-align: top;\n",
       "    }\n",
       "\n",
       "    .dataframe thead th {\n",
       "        text-align: right;\n",
       "    }\n",
       "</style>\n",
       "<table border=\"1\" class=\"dataframe\">\n",
       "  <thead>\n",
       "    <tr style=\"text-align: right;\">\n",
       "      <th></th>\n",
       "      <th>subject_id</th>\n",
       "      <th>hadm_id</th>\n",
       "      <th>icustay_id</th>\n",
       "      <th>charttime</th>\n",
       "      <th>delta</th>\n",
       "      <th>first_pos_else_neg_ssc</th>\n",
       "      <th>label</th>\n",
       "      <th>valuenum</th>\n",
       "      <th>uom</th>\n",
       "      <th>offset</th>\n",
       "      <th>valuenum2</th>\n",
       "      <th>charttime2</th>\n",
       "      <th>ratio</th>\n",
       "      <th>deltadelta</th>\n",
       "    </tr>\n",
       "  </thead>\n",
       "  <tbody>\n",
       "    <tr>\n",
       "      <th>3941</th>\n",
       "      <td>9514</td>\n",
       "      <td>127229</td>\n",
       "      <td>200014</td>\n",
       "      <td>2105-02-17 01:08:00</td>\n",
       "      <td>01:08:00</td>\n",
       "      <td>2105-02-17 00:00:00</td>\n",
       "      <td>PaO2</td>\n",
       "      <td>179.0</td>\n",
       "      <td>mm Hg</td>\n",
       "      <td>-1 days +23:08:00</td>\n",
       "      <td>21.0</td>\n",
       "      <td>2105-02-17 01:08:00</td>\n",
       "      <td>852.380952</td>\n",
       "      <td>00:00:00</td>\n",
       "    </tr>\n",
       "    <tr>\n",
       "      <th>3942</th>\n",
       "      <td>9514</td>\n",
       "      <td>127229</td>\n",
       "      <td>200014</td>\n",
       "      <td>2105-02-17 04:35:00</td>\n",
       "      <td>04:35:00</td>\n",
       "      <td>2105-02-17 00:00:00</td>\n",
       "      <td>PaO2</td>\n",
       "      <td>183.0</td>\n",
       "      <td>mm Hg</td>\n",
       "      <td>02:35:00</td>\n",
       "      <td>21.0</td>\n",
       "      <td>2105-02-17 04:35:00</td>\n",
       "      <td>871.428571</td>\n",
       "      <td>00:00:00</td>\n",
       "    </tr>\n",
       "    <tr>\n",
       "      <th>3943</th>\n",
       "      <td>9514</td>\n",
       "      <td>127229</td>\n",
       "      <td>200014</td>\n",
       "      <td>2105-02-17 11:18:00</td>\n",
       "      <td>11:18:00</td>\n",
       "      <td>2105-02-17 00:00:00</td>\n",
       "      <td>PaO2</td>\n",
       "      <td>142.0</td>\n",
       "      <td>mm Hg</td>\n",
       "      <td>09:18:00</td>\n",
       "      <td>21.0</td>\n",
       "      <td>2105-02-17 11:18:00</td>\n",
       "      <td>676.190476</td>\n",
       "      <td>00:00:00</td>\n",
       "    </tr>\n",
       "    <tr>\n",
       "      <th>3944</th>\n",
       "      <td>9514</td>\n",
       "      <td>127229</td>\n",
       "      <td>200014</td>\n",
       "      <td>2105-02-17 15:28:00</td>\n",
       "      <td>15:28:00</td>\n",
       "      <td>2105-02-17 00:00:00</td>\n",
       "      <td>PaO2</td>\n",
       "      <td>155.0</td>\n",
       "      <td>mm Hg</td>\n",
       "      <td>13:28:00</td>\n",
       "      <td>40.0</td>\n",
       "      <td>2105-02-17 15:28:00</td>\n",
       "      <td>387.500000</td>\n",
       "      <td>00:00:00</td>\n",
       "    </tr>\n",
       "    <tr>\n",
       "      <th>3946</th>\n",
       "      <td>9514</td>\n",
       "      <td>127229</td>\n",
       "      <td>200014</td>\n",
       "      <td>2105-02-17 17:11:00</td>\n",
       "      <td>17:11:00</td>\n",
       "      <td>2105-02-17 00:00:00</td>\n",
       "      <td>PaO2</td>\n",
       "      <td>96.0</td>\n",
       "      <td>mm Hg</td>\n",
       "      <td>15:11:00</td>\n",
       "      <td>28.0</td>\n",
       "      <td>2105-02-17 17:11:00</td>\n",
       "      <td>342.857143</td>\n",
       "      <td>00:00:00</td>\n",
       "    </tr>\n",
       "    <tr>\n",
       "      <th>3945</th>\n",
       "      <td>9514</td>\n",
       "      <td>127229</td>\n",
       "      <td>200014</td>\n",
       "      <td>2105-02-17 17:11:00</td>\n",
       "      <td>17:11:00</td>\n",
       "      <td>2105-02-17 00:00:00</td>\n",
       "      <td>PaO2</td>\n",
       "      <td>96.0</td>\n",
       "      <td>mm Hg</td>\n",
       "      <td>15:11:00</td>\n",
       "      <td>40.0</td>\n",
       "      <td>2105-02-17 15:28:00</td>\n",
       "      <td>240.000000</td>\n",
       "      <td>01:43:00</td>\n",
       "    </tr>\n",
       "    <tr>\n",
       "      <th>3947</th>\n",
       "      <td>9514</td>\n",
       "      <td>127229</td>\n",
       "      <td>200014</td>\n",
       "      <td>2105-02-17 20:53:00</td>\n",
       "      <td>20:53:00</td>\n",
       "      <td>2105-02-17 00:00:00</td>\n",
       "      <td>PaO2</td>\n",
       "      <td>95.0</td>\n",
       "      <td>mm Hg</td>\n",
       "      <td>18:53:00</td>\n",
       "      <td>21.0</td>\n",
       "      <td>2105-02-17 20:53:00</td>\n",
       "      <td>452.380952</td>\n",
       "      <td>00:00:00</td>\n",
       "    </tr>\n",
       "  </tbody>\n",
       "</table>\n",
       "</div>"
      ],
      "text/plain": [
       "      subject_id  hadm_id  icustay_id            charttime    delta  \\\n",
       "3941        9514   127229      200014  2105-02-17 01:08:00 01:08:00   \n",
       "3942        9514   127229      200014  2105-02-17 04:35:00 04:35:00   \n",
       "3943        9514   127229      200014  2105-02-17 11:18:00 11:18:00   \n",
       "3944        9514   127229      200014  2105-02-17 15:28:00 15:28:00   \n",
       "3946        9514   127229      200014  2105-02-17 17:11:00 17:11:00   \n",
       "3945        9514   127229      200014  2105-02-17 17:11:00 17:11:00   \n",
       "3947        9514   127229      200014  2105-02-17 20:53:00 20:53:00   \n",
       "\n",
       "     first_pos_else_neg_ssc label  valuenum    uom            offset  \\\n",
       "3941    2105-02-17 00:00:00  PaO2     179.0  mm Hg -1 days +23:08:00   \n",
       "3942    2105-02-17 00:00:00  PaO2     183.0  mm Hg          02:35:00   \n",
       "3943    2105-02-17 00:00:00  PaO2     142.0  mm Hg          09:18:00   \n",
       "3944    2105-02-17 00:00:00  PaO2     155.0  mm Hg          13:28:00   \n",
       "3946    2105-02-17 00:00:00  PaO2      96.0  mm Hg          15:11:00   \n",
       "3945    2105-02-17 00:00:00  PaO2      96.0  mm Hg          15:11:00   \n",
       "3947    2105-02-17 00:00:00  PaO2      95.0  mm Hg          18:53:00   \n",
       "\n",
       "      valuenum2           charttime2       ratio deltadelta  \n",
       "3941       21.0  2105-02-17 01:08:00  852.380952   00:00:00  \n",
       "3942       21.0  2105-02-17 04:35:00  871.428571   00:00:00  \n",
       "3943       21.0  2105-02-17 11:18:00  676.190476   00:00:00  \n",
       "3944       40.0  2105-02-17 15:28:00  387.500000   00:00:00  \n",
       "3946       28.0  2105-02-17 17:11:00  342.857143   00:00:00  \n",
       "3945       40.0  2105-02-17 15:28:00  240.000000   01:43:00  \n",
       "3947       21.0  2105-02-17 20:53:00  452.380952   00:00:00  "
      ]
     },
     "execution_count": 110,
     "metadata": {},
     "output_type": "execute_result"
    },
    {
     "name": "stdout",
     "output_type": "stream",
     "text": [
      "time: 17.7 ms\n"
     ]
    }
   ],
   "source": [
    "ratio_df[ratio_df['icustay_id']==200014]"
   ]
  },
  {
   "cell_type": "code",
   "execution_count": 111,
   "metadata": {},
   "outputs": [
    {
     "name": "stdout",
     "output_type": "stream",
     "text": [
      "time: 17.3 ms\n"
     ]
    }
   ],
   "source": [
    "# ratio_df.groupby(['icustay_id'], as_index=False)['ratio'].min() #is this what i want for my pao2/fio2 ratio?\n",
    "\n",
    "\n",
    "f = {'ratio': 'min','delta':'first'}\n",
    "ratio_min_df=ratio_df.sort_values(['icustay_id','ratio'],ascending=True).groupby('icustay_id', as_index=False).agg(f)\n",
    "\n",
    "##it's likely that this variable will not explain any additional variation in y than the ventilation category variable we already have. \n",
    "##maybe we can stratify patients with a few categories:\n",
    "\n",
    "##not on vent\n",
    "##being on vent with normal pao2/fio2 ratio\n",
    "## being on vent with low pao2/fio2 ratio"
   ]
  },
  {
   "cell_type": "code",
   "execution_count": 112,
   "metadata": {},
   "outputs": [
    {
     "data": {
      "text/html": [
       "<div>\n",
       "<style scoped>\n",
       "    .dataframe tbody tr th:only-of-type {\n",
       "        vertical-align: middle;\n",
       "    }\n",
       "\n",
       "    .dataframe tbody tr th {\n",
       "        vertical-align: top;\n",
       "    }\n",
       "\n",
       "    .dataframe thead th {\n",
       "        text-align: right;\n",
       "    }\n",
       "</style>\n",
       "<table border=\"1\" class=\"dataframe\">\n",
       "  <thead>\n",
       "    <tr style=\"text-align: right;\">\n",
       "      <th></th>\n",
       "      <th>icustay_id</th>\n",
       "      <th>ratio</th>\n",
       "      <th>delta</th>\n",
       "    </tr>\n",
       "  </thead>\n",
       "  <tbody>\n",
       "    <tr>\n",
       "      <th>0</th>\n",
       "      <td>200014</td>\n",
       "      <td>240.000000</td>\n",
       "      <td>17:11:00</td>\n",
       "    </tr>\n",
       "    <tr>\n",
       "      <th>1</th>\n",
       "      <td>200019</td>\n",
       "      <td>1980.952381</td>\n",
       "      <td>-1 days +12:17:00</td>\n",
       "    </tr>\n",
       "    <tr>\n",
       "      <th>2</th>\n",
       "      <td>200030</td>\n",
       "      <td>428.571429</td>\n",
       "      <td>-1 days +00:49:00</td>\n",
       "    </tr>\n",
       "    <tr>\n",
       "      <th>3</th>\n",
       "      <td>200065</td>\n",
       "      <td>98.000000</td>\n",
       "      <td>08:27:00</td>\n",
       "    </tr>\n",
       "    <tr>\n",
       "      <th>4</th>\n",
       "      <td>200078</td>\n",
       "      <td>140.000000</td>\n",
       "      <td>-1 days +19:08:00</td>\n",
       "    </tr>\n",
       "  </tbody>\n",
       "</table>\n",
       "</div>"
      ],
      "text/plain": [
       "   icustay_id        ratio             delta\n",
       "0      200014   240.000000          17:11:00\n",
       "1      200019  1980.952381 -1 days +12:17:00\n",
       "2      200030   428.571429 -1 days +00:49:00\n",
       "3      200065    98.000000          08:27:00\n",
       "4      200078   140.000000 -1 days +19:08:00"
      ]
     },
     "execution_count": 112,
     "metadata": {},
     "output_type": "execute_result"
    },
    {
     "name": "stdout",
     "output_type": "stream",
     "text": [
      "time: 7.6 ms\n"
     ]
    }
   ],
   "source": [
    "ratio_min_df.head()"
   ]
  },
  {
   "cell_type": "code",
   "execution_count": 113,
   "metadata": {},
   "outputs": [
    {
     "data": {
      "text/html": [
       "<div>\n",
       "<style scoped>\n",
       "    .dataframe tbody tr th:only-of-type {\n",
       "        vertical-align: middle;\n",
       "    }\n",
       "\n",
       "    .dataframe tbody tr th {\n",
       "        vertical-align: top;\n",
       "    }\n",
       "\n",
       "    .dataframe thead th {\n",
       "        text-align: right;\n",
       "    }\n",
       "</style>\n",
       "<table border=\"1\" class=\"dataframe\">\n",
       "  <thead>\n",
       "    <tr style=\"text-align: right;\">\n",
       "      <th></th>\n",
       "      <th>subject_id</th>\n",
       "      <th>hadm_id</th>\n",
       "      <th>t_0_sc</th>\n",
       "      <th>icustay_id</th>\n",
       "      <th>ab_course</th>\n",
       "      <th>t_0</th>\n",
       "      <th>t_end_consec</th>\n",
       "      <th>ICU_admit</th>\n",
       "      <th>dod_hosp</th>\n",
       "      <th>dod_ssn</th>\n",
       "      <th>dod_delta</th>\n",
       "      <th>org_list</th>\n",
       "      <th>spec_type_list</th>\n",
       "      <th>Gram_pos</th>\n",
       "      <th>first_pos_else_neg_ssc</th>\n",
       "      <th>sc_result</th>\n",
       "      <th>final_bin</th>\n",
       "    </tr>\n",
       "  </thead>\n",
       "  <tbody>\n",
       "    <tr>\n",
       "      <th>0</th>\n",
       "      <td>3281</td>\n",
       "      <td>113868</td>\n",
       "      <td>2115-09-14 19:25:00</td>\n",
       "      <td>240363.0</td>\n",
       "      <td>partial</td>\n",
       "      <td>2115-09-14</td>\n",
       "      <td>2115-09-16</td>\n",
       "      <td>2115-09-13 23:16:50</td>\n",
       "      <td>2116-03-06 00:00:00</td>\n",
       "      <td>2116-03-06 00:00:00</td>\n",
       "      <td>0 days 00:00:00.000000000</td>\n",
       "      <td>NaN</td>\n",
       "      <td>NaN</td>\n",
       "      <td>NaN</td>\n",
       "      <td>2115-09-14 19:25:00</td>\n",
       "      <td>negative</td>\n",
       "      <td>C_neg/A_partial</td>\n",
       "    </tr>\n",
       "    <tr>\n",
       "      <th>1</th>\n",
       "      <td>3277</td>\n",
       "      <td>163302</td>\n",
       "      <td>2123-07-24 09:30:00</td>\n",
       "      <td>220265.0</td>\n",
       "      <td>full</td>\n",
       "      <td>2123-07-24</td>\n",
       "      <td>2123-08-06</td>\n",
       "      <td>2123-07-21 13:04:46</td>\n",
       "      <td>NaN</td>\n",
       "      <td>NaN</td>\n",
       "      <td>NaN</td>\n",
       "      <td>NaN</td>\n",
       "      <td>NaN</td>\n",
       "      <td>NaN</td>\n",
       "      <td>2123-07-24 09:30:00</td>\n",
       "      <td>negative</td>\n",
       "      <td>C_neg/A_full</td>\n",
       "    </tr>\n",
       "    <tr>\n",
       "      <th>2</th>\n",
       "      <td>3276</td>\n",
       "      <td>111860</td>\n",
       "      <td>2168-08-31 00:00:00</td>\n",
       "      <td>224362.0</td>\n",
       "      <td>partial</td>\n",
       "      <td>2168-08-30</td>\n",
       "      <td>2168-08-30</td>\n",
       "      <td>2168-08-26 21:21:59</td>\n",
       "      <td>NaN</td>\n",
       "      <td>NaN</td>\n",
       "      <td>NaN</td>\n",
       "      <td>NaN</td>\n",
       "      <td>NaN</td>\n",
       "      <td>NaN</td>\n",
       "      <td>2168-08-31 00:00:00</td>\n",
       "      <td>negative</td>\n",
       "      <td>C_neg/A_partial</td>\n",
       "    </tr>\n",
       "    <tr>\n",
       "      <th>4</th>\n",
       "      <td>3267</td>\n",
       "      <td>134370</td>\n",
       "      <td>2193-08-28 09:30:00</td>\n",
       "      <td>278829.0</td>\n",
       "      <td>full</td>\n",
       "      <td>2193-08-28</td>\n",
       "      <td>2193-08-28</td>\n",
       "      <td>2193-08-26 12:28:29</td>\n",
       "      <td>2193-08-28 00:00:00</td>\n",
       "      <td>2193-08-28 00:00:00</td>\n",
       "      <td>0 days 00:00:00.000000000</td>\n",
       "      <td>NaN</td>\n",
       "      <td>NaN</td>\n",
       "      <td>NaN</td>\n",
       "      <td>2193-08-28 09:30:00</td>\n",
       "      <td>negative</td>\n",
       "      <td>C_neg/A_full</td>\n",
       "    </tr>\n",
       "    <tr>\n",
       "      <th>5</th>\n",
       "      <td>3266</td>\n",
       "      <td>156533</td>\n",
       "      <td>2137-04-03 23:30:00</td>\n",
       "      <td>271485.0</td>\n",
       "      <td>partial</td>\n",
       "      <td>2137-04-04</td>\n",
       "      <td>2137-04-04</td>\n",
       "      <td>2137-03-31 12:04:38</td>\n",
       "      <td>NaN</td>\n",
       "      <td>NaN</td>\n",
       "      <td>NaN</td>\n",
       "      <td>NaN</td>\n",
       "      <td>NaN</td>\n",
       "      <td>NaN</td>\n",
       "      <td>2137-04-03 23:30:00</td>\n",
       "      <td>negative</td>\n",
       "      <td>C_neg/A_partial</td>\n",
       "    </tr>\n",
       "  </tbody>\n",
       "</table>\n",
       "</div>"
      ],
      "text/plain": [
       "   subject_id  hadm_id               t_0_sc  icustay_id ab_course         t_0  \\\n",
       "0        3281   113868  2115-09-14 19:25:00    240363.0   partial  2115-09-14   \n",
       "1        3277   163302  2123-07-24 09:30:00    220265.0      full  2123-07-24   \n",
       "2        3276   111860  2168-08-31 00:00:00    224362.0   partial  2168-08-30   \n",
       "4        3267   134370  2193-08-28 09:30:00    278829.0      full  2193-08-28   \n",
       "5        3266   156533  2137-04-03 23:30:00    271485.0   partial  2137-04-04   \n",
       "\n",
       "  t_end_consec            ICU_admit             dod_hosp              dod_ssn  \\\n",
       "0   2115-09-16  2115-09-13 23:16:50  2116-03-06 00:00:00  2116-03-06 00:00:00   \n",
       "1   2123-08-06  2123-07-21 13:04:46                  NaN                  NaN   \n",
       "2   2168-08-30  2168-08-26 21:21:59                  NaN                  NaN   \n",
       "4   2193-08-28  2193-08-26 12:28:29  2193-08-28 00:00:00  2193-08-28 00:00:00   \n",
       "5   2137-04-04  2137-03-31 12:04:38                  NaN                  NaN   \n",
       "\n",
       "                   dod_delta org_list spec_type_list  Gram_pos  \\\n",
       "0  0 days 00:00:00.000000000      NaN            NaN       NaN   \n",
       "1                        NaN      NaN            NaN       NaN   \n",
       "2                        NaN      NaN            NaN       NaN   \n",
       "4  0 days 00:00:00.000000000      NaN            NaN       NaN   \n",
       "5                        NaN      NaN            NaN       NaN   \n",
       "\n",
       "  first_pos_else_neg_ssc sc_result        final_bin  \n",
       "0    2115-09-14 19:25:00  negative  C_neg/A_partial  \n",
       "1    2123-07-24 09:30:00  negative     C_neg/A_full  \n",
       "2    2168-08-31 00:00:00  negative  C_neg/A_partial  \n",
       "4    2193-08-28 09:30:00  negative     C_neg/A_full  \n",
       "5    2137-04-03 23:30:00  negative  C_neg/A_partial  "
      ]
     },
     "execution_count": 113,
     "metadata": {},
     "output_type": "execute_result"
    },
    {
     "name": "stdout",
     "output_type": "stream",
     "text": [
      "time: 37.9 ms\n"
     ]
    }
   ],
   "source": [
    "final_pt_df2.head()"
   ]
  },
  {
   "cell_type": "code",
   "execution_count": 114,
   "metadata": {},
   "outputs": [
    {
     "data": {
      "text/plain": [
       "3633"
      ]
     },
     "execution_count": 114,
     "metadata": {},
     "output_type": "execute_result"
    },
    {
     "name": "stdout",
     "output_type": "stream",
     "text": [
      "time: 3.38 ms\n"
     ]
    }
   ],
   "source": [
    "len(ratio_min_df)"
   ]
  },
  {
   "cell_type": "code",
   "execution_count": 115,
   "metadata": {},
   "outputs": [
    {
     "name": "stdout",
     "output_type": "stream",
     "text": [
      "time: 21 ms\n"
     ]
    }
   ],
   "source": [
    "ratio_min_df= pd.merge(final_pt_df2[['icustay_id','hadm_id',time_var,]],ratio_min_df, left_on='icustay_id',right_on='icustay_id', how='left')\n",
    "ratio_min_df= ratio_min_df.rename(index=str, columns={'ratio':'value'})\n",
    "\n",
    "ratio_min_df.loc[ratio_min_df.loc[:,'value'].isnull(),'value']=476\n",
    "\n",
    "ratio_min_df['uom']= 'PaO2/FIO2 ratio'\n",
    "ratio_min_df['label']= 'PaO2/FIO2'"
   ]
  },
  {
   "cell_type": "code",
   "execution_count": 116,
   "metadata": {},
   "outputs": [
    {
     "name": "stdout",
     "output_type": "stream",
     "text": [
      "time: 5.47 ms\n"
     ]
    }
   ],
   "source": [
    "ratio_min_df.loc[:,'delta']=ratio_min_df.loc[:,'delta'].fillna(pd.to_timedelta('0 days'))\n"
   ]
  },
  {
   "cell_type": "code",
   "execution_count": 117,
   "metadata": {},
   "outputs": [
    {
     "data": {
      "text/plain": [
       "count    8629.000000\n",
       "mean      405.667593\n",
       "std       170.946185\n",
       "min        22.000000\n",
       "25%       316.000000\n",
       "50%       476.000000\n",
       "75%       476.000000\n",
       "max      2480.952381\n",
       "Name: value, dtype: float64"
      ]
     },
     "execution_count": 117,
     "metadata": {},
     "output_type": "execute_result"
    },
    {
     "name": "stdout",
     "output_type": "stream",
     "text": [
      "time: 6.92 ms\n"
     ]
    }
   ],
   "source": [
    "ratio_min_df['value'].describe()"
   ]
  },
  {
   "cell_type": "code",
   "execution_count": 118,
   "metadata": {},
   "outputs": [
    {
     "name": "stdout",
     "output_type": "stream",
     "text": [
      "time: 1.42 s\n"
     ]
    }
   ],
   "source": [
    "save_df(ratio_min_df,'pafaRatio') # minimum pao2:fio2 ratio during a stay\n",
    "del(ratio_min_df)\n",
    "\n",
    "save_df(dfs['bg_all_nosummary_72'],'bg_all') #all bloodgas\n",
    "del(dfs['bg_all_nosummary_72'])\n",
    "\n",
    "save_df(bg_ART_nosummary_72,'bg_ART') #only ARTERIAL bloodgas\n",
    "del(bg_ART_nosummary_72)\n",
    "\n",
    "save_df(o2_flow_df,'o2_flow') #need to investigate this more\n",
    "del(o2_flow_df)\n"
   ]
  },
  {
   "cell_type": "markdown",
   "metadata": {},
   "source": [
    "# RRT"
   ]
  },
  {
   "cell_type": "code",
   "execution_count": 119,
   "metadata": {},
   "outputs": [
    {
     "name": "stdout",
     "output_type": "stream",
     "text": [
      "time: 23.1 ms\n"
     ]
    }
   ],
   "source": [
    "#removing null values\n",
    "dfs['rrt_merged_allpt_df'] = dfs['rrt_merged_allpt_df'].loc[dfs['rrt_merged_allpt_df']['rrt'].notnull(),:]\n",
    "dfs['rrt_merged_allpt_df']['uom']='category'\n",
    "dfs['rrt_merged_allpt_df']['delta']=pd.to_timedelta(\n",
    "    pd.to_datetime(dfs['rrt_merged_allpt_df']['first_charttime'])-\n",
    "    pd.to_datetime(dfs['rrt_merged_allpt_df'][time_var]),\n",
    "    'days')\n",
    "dfs['rrt_merged_allpt_df']['label']= 'rrt'\n",
    "dfs['rrt_merged_allpt_df']=dfs['rrt_merged_allpt_df'].rename(index=str, columns={'rrt':'value'})"
   ]
  },
  {
   "cell_type": "code",
   "execution_count": 120,
   "metadata": {},
   "outputs": [
    {
     "data": {
      "text/html": [
       "<div>\n",
       "<style scoped>\n",
       "    .dataframe tbody tr th:only-of-type {\n",
       "        vertical-align: middle;\n",
       "    }\n",
       "\n",
       "    .dataframe tbody tr th {\n",
       "        vertical-align: top;\n",
       "    }\n",
       "\n",
       "    .dataframe thead th {\n",
       "        text-align: right;\n",
       "    }\n",
       "</style>\n",
       "<table border=\"1\" class=\"dataframe\">\n",
       "  <thead>\n",
       "    <tr style=\"text-align: right;\">\n",
       "      <th></th>\n",
       "      <th>icustay_id</th>\n",
       "      <th>first_pos_else_neg_ssc</th>\n",
       "      <th>first_charttime</th>\n",
       "      <th>value</th>\n",
       "      <th>uom</th>\n",
       "      <th>delta</th>\n",
       "      <th>label</th>\n",
       "    </tr>\n",
       "  </thead>\n",
       "  <tbody>\n",
       "    <tr>\n",
       "      <th>0</th>\n",
       "      <td>240363.0</td>\n",
       "      <td>2115-09-14 19:25:00</td>\n",
       "      <td>NaN</td>\n",
       "      <td>0.0</td>\n",
       "      <td>category</td>\n",
       "      <td>NaT</td>\n",
       "      <td>rrt</td>\n",
       "    </tr>\n",
       "    <tr>\n",
       "      <th>1</th>\n",
       "      <td>220265.0</td>\n",
       "      <td>2123-07-24 09:30:00</td>\n",
       "      <td>NaN</td>\n",
       "      <td>0.0</td>\n",
       "      <td>category</td>\n",
       "      <td>NaT</td>\n",
       "      <td>rrt</td>\n",
       "    </tr>\n",
       "    <tr>\n",
       "      <th>2</th>\n",
       "      <td>224362.0</td>\n",
       "      <td>2168-08-31 00:00:00</td>\n",
       "      <td>NaN</td>\n",
       "      <td>0.0</td>\n",
       "      <td>category</td>\n",
       "      <td>NaT</td>\n",
       "      <td>rrt</td>\n",
       "    </tr>\n",
       "    <tr>\n",
       "      <th>3</th>\n",
       "      <td>278829.0</td>\n",
       "      <td>2193-08-28 09:30:00</td>\n",
       "      <td>2193-08-27 09:30:00</td>\n",
       "      <td>1.0</td>\n",
       "      <td>category</td>\n",
       "      <td>-1 days</td>\n",
       "      <td>rrt</td>\n",
       "    </tr>\n",
       "    <tr>\n",
       "      <th>4</th>\n",
       "      <td>271485.0</td>\n",
       "      <td>2137-04-03 23:30:00</td>\n",
       "      <td>NaN</td>\n",
       "      <td>0.0</td>\n",
       "      <td>category</td>\n",
       "      <td>NaT</td>\n",
       "      <td>rrt</td>\n",
       "    </tr>\n",
       "  </tbody>\n",
       "</table>\n",
       "</div>"
      ],
      "text/plain": [
       "   icustay_id first_pos_else_neg_ssc      first_charttime  value       uom  \\\n",
       "0    240363.0    2115-09-14 19:25:00                  NaN    0.0  category   \n",
       "1    220265.0    2123-07-24 09:30:00                  NaN    0.0  category   \n",
       "2    224362.0    2168-08-31 00:00:00                  NaN    0.0  category   \n",
       "3    278829.0    2193-08-28 09:30:00  2193-08-27 09:30:00    1.0  category   \n",
       "4    271485.0    2137-04-03 23:30:00                  NaN    0.0  category   \n",
       "\n",
       "    delta label  \n",
       "0     NaT   rrt  \n",
       "1     NaT   rrt  \n",
       "2     NaT   rrt  \n",
       "3 -1 days   rrt  \n",
       "4     NaT   rrt  "
      ]
     },
     "execution_count": 120,
     "metadata": {},
     "output_type": "execute_result"
    },
    {
     "name": "stdout",
     "output_type": "stream",
     "text": [
      "time: 12 ms\n"
     ]
    }
   ],
   "source": [
    "dfs['rrt_merged_allpt_df'].head()"
   ]
  },
  {
   "cell_type": "markdown",
   "metadata": {},
   "source": [
    "### converting to yes/no"
   ]
  },
  {
   "cell_type": "code",
   "execution_count": 121,
   "metadata": {},
   "outputs": [
    {
     "data": {
      "text/html": [
       "<div>\n",
       "<style scoped>\n",
       "    .dataframe tbody tr th:only-of-type {\n",
       "        vertical-align: middle;\n",
       "    }\n",
       "\n",
       "    .dataframe tbody tr th {\n",
       "        vertical-align: top;\n",
       "    }\n",
       "\n",
       "    .dataframe thead th {\n",
       "        text-align: right;\n",
       "    }\n",
       "</style>\n",
       "<table border=\"1\" class=\"dataframe\">\n",
       "  <thead>\n",
       "    <tr style=\"text-align: right;\">\n",
       "      <th></th>\n",
       "      <th>icustay_id</th>\n",
       "      <th>first_pos_else_neg_ssc</th>\n",
       "      <th>first_charttime</th>\n",
       "      <th>value</th>\n",
       "      <th>uom</th>\n",
       "      <th>delta</th>\n",
       "      <th>label</th>\n",
       "    </tr>\n",
       "  </thead>\n",
       "  <tbody>\n",
       "    <tr>\n",
       "      <th>0</th>\n",
       "      <td>240363.0</td>\n",
       "      <td>2115-09-14 19:25:00</td>\n",
       "      <td>NaN</td>\n",
       "      <td>0.0</td>\n",
       "      <td>category</td>\n",
       "      <td>NaT</td>\n",
       "      <td>rrt</td>\n",
       "    </tr>\n",
       "    <tr>\n",
       "      <th>1</th>\n",
       "      <td>220265.0</td>\n",
       "      <td>2123-07-24 09:30:00</td>\n",
       "      <td>NaN</td>\n",
       "      <td>0.0</td>\n",
       "      <td>category</td>\n",
       "      <td>NaT</td>\n",
       "      <td>rrt</td>\n",
       "    </tr>\n",
       "    <tr>\n",
       "      <th>2</th>\n",
       "      <td>224362.0</td>\n",
       "      <td>2168-08-31 00:00:00</td>\n",
       "      <td>NaN</td>\n",
       "      <td>0.0</td>\n",
       "      <td>category</td>\n",
       "      <td>NaT</td>\n",
       "      <td>rrt</td>\n",
       "    </tr>\n",
       "    <tr>\n",
       "      <th>3</th>\n",
       "      <td>278829.0</td>\n",
       "      <td>2193-08-28 09:30:00</td>\n",
       "      <td>2193-08-27 09:30:00</td>\n",
       "      <td>1.0</td>\n",
       "      <td>category</td>\n",
       "      <td>-1 days</td>\n",
       "      <td>rrt</td>\n",
       "    </tr>\n",
       "    <tr>\n",
       "      <th>4</th>\n",
       "      <td>271485.0</td>\n",
       "      <td>2137-04-03 23:30:00</td>\n",
       "      <td>NaN</td>\n",
       "      <td>0.0</td>\n",
       "      <td>category</td>\n",
       "      <td>NaT</td>\n",
       "      <td>rrt</td>\n",
       "    </tr>\n",
       "  </tbody>\n",
       "</table>\n",
       "</div>"
      ],
      "text/plain": [
       "   icustay_id first_pos_else_neg_ssc      first_charttime  value       uom  \\\n",
       "0    240363.0    2115-09-14 19:25:00                  NaN    0.0  category   \n",
       "1    220265.0    2123-07-24 09:30:00                  NaN    0.0  category   \n",
       "2    224362.0    2168-08-31 00:00:00                  NaN    0.0  category   \n",
       "3    278829.0    2193-08-28 09:30:00  2193-08-27 09:30:00    1.0  category   \n",
       "4    271485.0    2137-04-03 23:30:00                  NaN    0.0  category   \n",
       "\n",
       "    delta label  \n",
       "0     NaT   rrt  \n",
       "1     NaT   rrt  \n",
       "2     NaT   rrt  \n",
       "3 -1 days   rrt  \n",
       "4     NaT   rrt  "
      ]
     },
     "execution_count": 121,
     "metadata": {},
     "output_type": "execute_result"
    },
    {
     "name": "stdout",
     "output_type": "stream",
     "text": [
      "time: 9.36 ms\n"
     ]
    }
   ],
   "source": [
    "dfs['rrt_merged_allpt_df'].head()"
   ]
  },
  {
   "cell_type": "code",
   "execution_count": 122,
   "metadata": {},
   "outputs": [
    {
     "data": {
      "text/plain": [
       "8629"
      ]
     },
     "execution_count": 122,
     "metadata": {},
     "output_type": "execute_result"
    },
    {
     "name": "stdout",
     "output_type": "stream",
     "text": [
      "time: 2.44 ms\n"
     ]
    }
   ],
   "source": [
    "dfs['rrt_merged_allpt_df']['icustay_id'].nunique() #"
   ]
  },
  {
   "cell_type": "code",
   "execution_count": 123,
   "metadata": {},
   "outputs": [
    {
     "name": "stdout",
     "output_type": "stream",
     "text": [
      "time: 38.6 ms\n"
     ]
    }
   ],
   "source": [
    "rrt_yn= yn_convert(dfs['rrt_merged_allpt_df'],label_fill='rrt', time_var=time_var)"
   ]
  },
  {
   "cell_type": "code",
   "execution_count": 124,
   "metadata": {},
   "outputs": [
    {
     "name": "stdout",
     "output_type": "stream",
     "text": [
      "time: 199 ms\n"
     ]
    }
   ],
   "source": [
    "save_df(rrt_yn, 'rrt')\n",
    "del(rrt_yn, dfs['rrt_merged_allpt_df'])"
   ]
  },
  {
   "cell_type": "markdown",
   "metadata": {},
   "source": [
    "# GCS_72"
   ]
  },
  {
   "cell_type": "code",
   "execution_count": 125,
   "metadata": {},
   "outputs": [
    {
     "name": "stdout",
     "output_type": "stream",
     "text": [
      "time: 1.35 ms\n"
     ]
    }
   ],
   "source": [
    "dfs['gcs72_df']['uom']='GCS_score'"
   ]
  },
  {
   "cell_type": "code",
   "execution_count": 126,
   "metadata": {},
   "outputs": [
    {
     "data": {
      "text/plain": [
       "['subject_id',\n",
       " 'hadm_id',\n",
       " 'icustay_id',\n",
       " 'day',\n",
       " 'mingcs',\n",
       " 'gcsmotor',\n",
       " 'gcsverbal',\n",
       " 'gcseyes',\n",
       " 'endotrachflag',\n",
       " 'ICU_admit',\n",
       " 'first_pos_else_neg_ssc',\n",
       " 'approx_charttime',\n",
       " 'admit_plus_day',\n",
       " 'delta',\n",
       " 'uom']"
      ]
     },
     "execution_count": 126,
     "metadata": {},
     "output_type": "execute_result"
    },
    {
     "name": "stdout",
     "output_type": "stream",
     "text": [
      "time: 6 ms\n"
     ]
    }
   ],
   "source": [
    "list(dfs['gcs72_df'])"
   ]
  },
  {
   "cell_type": "code",
   "execution_count": 127,
   "metadata": {},
   "outputs": [
    {
     "name": "stdout",
     "output_type": "stream",
     "text": [
      "time: 9.92 ms\n"
     ]
    }
   ],
   "source": [
    "dfs['gcs72_df']['label']= 'mingcs'\n",
    "dfs['gcs72_df']['uom']='gcs_score'\n",
    "dfs['gcs72_df']=dfs['gcs72_df'].rename(index=str, columns={'mingcs':'value'})"
   ]
  },
  {
   "cell_type": "code",
   "execution_count": 128,
   "metadata": {},
   "outputs": [
    {
     "name": "stdout",
     "output_type": "stream",
     "text": [
      "time: 2.2 ms\n"
     ]
    }
   ],
   "source": [
    "dfs['gcs72_df']=dfs['gcs72_df'][['subject_id','hadm_id','icustay_id','delta','label','value',time_var,'uom']]"
   ]
  },
  {
   "cell_type": "code",
   "execution_count": 129,
   "metadata": {},
   "outputs": [
    {
     "name": "stdout",
     "output_type": "stream",
     "text": [
      "time: 17.6 ms\n"
     ]
    }
   ],
   "source": [
    "save_df(dfs['gcs72_df'], 'gcs')\n",
    "del(dfs['gcs72_df'])"
   ]
  },
  {
   "cell_type": "markdown",
   "metadata": {},
   "source": [
    "# SOFA_72\n",
    "i'm going to remove all sofa variables except daily score, as we have other markers for those in our above data\n",
    "i may later use this as qc check.\n",
    "also added delta"
   ]
  },
  {
   "cell_type": "code",
   "execution_count": 130,
   "metadata": {},
   "outputs": [
    {
     "name": "stdout",
     "output_type": "stream",
     "text": [
      "time: 139 ms\n"
     ]
    }
   ],
   "source": [
    "dfs['sofa_df_72']['uom']='daily_sofa_score'\n",
    "\n",
    "#adding day delta column\n",
    "dfs['sofa_df_72']=dfs['sofa_df_72'].sort_values(['hadm_id','day',time_var]) #good\n",
    "dfs['sofa_df_72']['day_rank']=dfs['sofa_df_72'].groupby('icustay_id')['day'].rank()\n",
    "dfs['sofa_df_72']['delta']=pd.to_timedelta((dfs['sofa_df_72']['day_rank']-1), 'days')"
   ]
  },
  {
   "cell_type": "code",
   "execution_count": 131,
   "metadata": {},
   "outputs": [
    {
     "name": "stdout",
     "output_type": "stream",
     "text": [
      "time: 42.4 ms\n"
     ]
    }
   ],
   "source": [
    "dfs['sofa_df_72']['label']= 'daily_sofa'\n",
    "dfs['sofa_df_72']=dfs['sofa_df_72'].rename(index=str, columns={'sofa':'value'})"
   ]
  },
  {
   "cell_type": "code",
   "execution_count": 132,
   "metadata": {},
   "outputs": [
    {
     "name": "stdout",
     "output_type": "stream",
     "text": [
      "time: 4.22 ms\n"
     ]
    }
   ],
   "source": [
    "dfs['sofa_df_72']= dfs['sofa_df_72'][['subject_id','hadm_id','icustay_id','delta','label','value',time_var,'uom']]"
   ]
  },
  {
   "cell_type": "code",
   "execution_count": 133,
   "metadata": {},
   "outputs": [
    {
     "data": {
      "text/html": [
       "<div>\n",
       "<style scoped>\n",
       "    .dataframe tbody tr th:only-of-type {\n",
       "        vertical-align: middle;\n",
       "    }\n",
       "\n",
       "    .dataframe tbody tr th {\n",
       "        vertical-align: top;\n",
       "    }\n",
       "\n",
       "    .dataframe thead th {\n",
       "        text-align: right;\n",
       "    }\n",
       "</style>\n",
       "<table border=\"1\" class=\"dataframe\">\n",
       "  <thead>\n",
       "    <tr style=\"text-align: right;\">\n",
       "      <th></th>\n",
       "      <th>subject_id</th>\n",
       "      <th>hadm_id</th>\n",
       "      <th>icustay_id</th>\n",
       "      <th>delta</th>\n",
       "      <th>label</th>\n",
       "      <th>value</th>\n",
       "      <th>first_pos_else_neg_ssc</th>\n",
       "      <th>uom</th>\n",
       "    </tr>\n",
       "  </thead>\n",
       "  <tbody>\n",
       "    <tr>\n",
       "      <th>38824</th>\n",
       "      <td>54610</td>\n",
       "      <td>100003</td>\n",
       "      <td>209281</td>\n",
       "      <td>0 days</td>\n",
       "      <td>daily_sofa</td>\n",
       "      <td>9</td>\n",
       "      <td>2150-04-17 18:41:00</td>\n",
       "      <td>daily_sofa_score</td>\n",
       "    </tr>\n",
       "    <tr>\n",
       "      <th>38825</th>\n",
       "      <td>54610</td>\n",
       "      <td>100003</td>\n",
       "      <td>209281</td>\n",
       "      <td>1 days</td>\n",
       "      <td>daily_sofa</td>\n",
       "      <td>4</td>\n",
       "      <td>2150-04-17 18:41:00</td>\n",
       "      <td>daily_sofa_score</td>\n",
       "    </tr>\n",
       "    <tr>\n",
       "      <th>7894</th>\n",
       "      <td>9973</td>\n",
       "      <td>100020</td>\n",
       "      <td>282580</td>\n",
       "      <td>0 days</td>\n",
       "      <td>daily_sofa</td>\n",
       "      <td>0</td>\n",
       "      <td>2142-12-02 14:01:00</td>\n",
       "      <td>daily_sofa_score</td>\n",
       "    </tr>\n",
       "    <tr>\n",
       "      <th>36285</th>\n",
       "      <td>48539</td>\n",
       "      <td>100035</td>\n",
       "      <td>245719</td>\n",
       "      <td>0 days</td>\n",
       "      <td>daily_sofa</td>\n",
       "      <td>6</td>\n",
       "      <td>2115-02-22 09:36:00</td>\n",
       "      <td>daily_sofa_score</td>\n",
       "    </tr>\n",
       "    <tr>\n",
       "      <th>36286</th>\n",
       "      <td>48539</td>\n",
       "      <td>100035</td>\n",
       "      <td>245719</td>\n",
       "      <td>1 days</td>\n",
       "      <td>daily_sofa</td>\n",
       "      <td>5</td>\n",
       "      <td>2115-02-22 09:36:00</td>\n",
       "      <td>daily_sofa_score</td>\n",
       "    </tr>\n",
       "  </tbody>\n",
       "</table>\n",
       "</div>"
      ],
      "text/plain": [
       "       subject_id  hadm_id  icustay_id  delta       label  value  \\\n",
       "38824       54610   100003      209281 0 days  daily_sofa      9   \n",
       "38825       54610   100003      209281 1 days  daily_sofa      4   \n",
       "7894         9973   100020      282580 0 days  daily_sofa      0   \n",
       "36285       48539   100035      245719 0 days  daily_sofa      6   \n",
       "36286       48539   100035      245719 1 days  daily_sofa      5   \n",
       "\n",
       "      first_pos_else_neg_ssc               uom  \n",
       "38824    2150-04-17 18:41:00  daily_sofa_score  \n",
       "38825    2150-04-17 18:41:00  daily_sofa_score  \n",
       "7894     2142-12-02 14:01:00  daily_sofa_score  \n",
       "36285    2115-02-22 09:36:00  daily_sofa_score  \n",
       "36286    2115-02-22 09:36:00  daily_sofa_score  "
      ]
     },
     "execution_count": 133,
     "metadata": {},
     "output_type": "execute_result"
    },
    {
     "name": "stdout",
     "output_type": "stream",
     "text": [
      "time: 19.5 ms\n"
     ]
    }
   ],
   "source": [
    "dfs['sofa_df_72'].head()"
   ]
  },
  {
   "cell_type": "code",
   "execution_count": 134,
   "metadata": {},
   "outputs": [
    {
     "name": "stdout",
     "output_type": "stream",
     "text": [
      "time: 557 ms\n"
     ]
    }
   ],
   "source": [
    "save_df(dfs['sofa_df_72'], 'sofa')\n",
    "del(dfs['sofa_df_72'])"
   ]
  },
  {
   "cell_type": "markdown",
   "metadata": {},
   "source": [
    "# patient Demographic variables"
   ]
  },
  {
   "cell_type": "markdown",
   "metadata": {},
   "source": [
    "#admissions\n",
    "INSURANCE\tVARCHAR(255)\n",
    "LANGUAGE\tVARCHAR(10)\n",
    "RELIGION\tVARCHAR(50)\n",
    "MARITAL_STATUS\tVARCHAR(50)\n",
    "ETHNICITY\tVARCHAR(200)\n",
    "\n",
    "patients\n",
    "GENDER\tVARCHAR(5)"
   ]
  },
  {
   "cell_type": "code",
   "execution_count": 135,
   "metadata": {},
   "outputs": [
    {
     "name": "stdout",
     "output_type": "stream",
     "text": [
      "time: 22 ms\n"
     ]
    }
   ],
   "source": [
    "dfs['ethnicity_df']=(dfs['ethnicity_df'].loc[\n",
    "    dfs['ethnicity_df'].loc[:,\"subject_id\"].isin(\n",
    "        final_pt_df2['subject_id'].tolist()),:]).drop_duplicates(['subject_id','ethnicity'])"
   ]
  },
  {
   "cell_type": "code",
   "execution_count": 136,
   "metadata": {},
   "outputs": [
    {
     "name": "stdout",
     "output_type": "stream",
     "text": [
      "time: 13.3 ms\n"
     ]
    }
   ],
   "source": [
    "dfs['ethnicity_df']= dfs['ethnicity_df'][['subject_id','ethnicity']].sort_values('ethnicity', ascending=False).groupby('subject_id', as_index=False).first()\n"
   ]
  },
  {
   "cell_type": "code",
   "execution_count": 137,
   "metadata": {},
   "outputs": [
    {
     "name": "stdout",
     "output_type": "stream",
     "text": [
      "time: 7.37 ms\n"
     ]
    }
   ],
   "source": [
    "dfs['pt_info_df']=(dfs['pt_info_df'].loc[\n",
    "    dfs['pt_info_df'].loc[:,\"subject_id\"].isin(\n",
    "        final_pt_df2['subject_id'].tolist()),:]).drop_duplicates(['subject_id','gender'])"
   ]
  },
  {
   "cell_type": "code",
   "execution_count": 138,
   "metadata": {},
   "outputs": [
    {
     "name": "stdout",
     "output_type": "stream",
     "text": [
      "time: 6.52 ms\n"
     ]
    }
   ],
   "source": [
    "dfs['pt_info_df']= pd.merge(dfs['ethnicity_df'], dfs['pt_info_df'])"
   ]
  },
  {
   "cell_type": "code",
   "execution_count": 139,
   "metadata": {},
   "outputs": [
    {
     "name": "stdout",
     "output_type": "stream",
     "text": [
      "time: 710 µs\n"
     ]
    }
   ],
   "source": [
    "del(dfs['ethnicity_df'])"
   ]
  },
  {
   "cell_type": "code",
   "execution_count": 140,
   "metadata": {},
   "outputs": [
    {
     "name": "stdout",
     "output_type": "stream",
     "text": [
      "time: 260 ms\n"
     ]
    }
   ],
   "source": [
    "# date= '22112018'\n",
    "# pd.DataFrame(pt_age_admin_df).to_csv(Path(\n",
    "#     wd+'/data/processed/%s_pt_age.csv' %(date)))\n",
    "\n",
    "age_df= pd.read_csv(Path(wd+'/data/processed/22112018_pt_age.csv'))\n"
   ]
  },
  {
   "cell_type": "code",
   "execution_count": 141,
   "metadata": {},
   "outputs": [
    {
     "name": "stdout",
     "output_type": "stream",
     "text": [
      "time: 8.37 ms\n"
     ]
    }
   ],
   "source": [
    "age_df=(age_df.loc[\n",
    "    age_df.loc[:,\"hadm_id\"].isin(\n",
    "        hadm_id),:])#.drop_duplicates(['subject_id','gender'])"
   ]
  },
  {
   "cell_type": "code",
   "execution_count": 142,
   "metadata": {},
   "outputs": [
    {
     "name": "stdout",
     "output_type": "stream",
     "text": [
      "time: 29.1 ms\n"
     ]
    }
   ],
   "source": [
    "\n",
    "age_df=pd.merge(age_df, final_pt_df2[['hadm_id','icustay_id',time_var]])\n",
    "age_df=pd.merge(age_df[['subject_id','icustay_id','first_admit_age',time_var]],dfs['pt_info_df'])"
   ]
  },
  {
   "cell_type": "code",
   "execution_count": 143,
   "metadata": {},
   "outputs": [
    {
     "name": "stdout",
     "output_type": "stream",
     "text": [
      "time: 57.4 ms\n"
     ]
    },
    {
     "name": "stderr",
     "output_type": "stream",
     "text": [
      "/Users/geickelb1/anaconda/envs/rpy-env/lib/python3.6/site-packages/ipykernel_launcher.py:1: SettingWithCopyWarning: \n",
      "A value is trying to be set on a copy of a slice from a DataFrame.\n",
      "Try using .loc[row_indexer,col_indexer] = value instead\n",
      "\n",
      "See the caveats in the documentation: http://pandas.pydata.org/pandas-docs/stable/indexing.html#indexing-view-versus-copy\n",
      "  \"\"\"Entry point for launching an IPython kernel.\n"
     ]
    }
   ],
   "source": [
    "age_df[age_df['first_admit_age']>89]['first_admit_age']=90"
   ]
  },
  {
   "cell_type": "code",
   "execution_count": 144,
   "metadata": {},
   "outputs": [
    {
     "name": "stdout",
     "output_type": "stream",
     "text": [
      "time: 13 ms\n"
     ]
    }
   ],
   "source": [
    "age_df=pd.melt(age_df, id_vars=['icustay_id','subject_id',time_var])"
   ]
  },
  {
   "cell_type": "code",
   "execution_count": 145,
   "metadata": {},
   "outputs": [
    {
     "name": "stdout",
     "output_type": "stream",
     "text": [
      "time: 15.2 ms\n"
     ]
    }
   ],
   "source": [
    "age_df=age_df.rename(index=str, columns={'variable':'label'})"
   ]
  },
  {
   "cell_type": "code",
   "execution_count": 146,
   "metadata": {},
   "outputs": [
    {
     "name": "stdout",
     "output_type": "stream",
     "text": [
      "time: 28.1 ms\n"
     ]
    }
   ],
   "source": [
    "age_df['delta']=pd.to_timedelta('0 days')\n",
    "age_df['uom']=\"N/A\"\n",
    "age_df.loc[age_df.loc[:,'label']=='first_admit_age','uom']='years'"
   ]
  },
  {
   "cell_type": "code",
   "execution_count": 147,
   "metadata": {},
   "outputs": [
    {
     "name": "stdout",
     "output_type": "stream",
     "text": [
      "time: 10.1 ms\n"
     ]
    }
   ],
   "source": [
    "age_df= age_df.loc[age_df.loc[:,\"icustay_id\"].isin(icustay_id),:]\n"
   ]
  },
  {
   "cell_type": "code",
   "execution_count": 148,
   "metadata": {},
   "outputs": [
    {
     "data": {
      "text/plain": [
       "array(['first_admit_age', 'ethnicity', 'gender'], dtype=object)"
      ]
     },
     "execution_count": 148,
     "metadata": {},
     "output_type": "execute_result"
    },
    {
     "name": "stdout",
     "output_type": "stream",
     "text": [
      "time: 3.09 ms\n"
     ]
    }
   ],
   "source": [
    "age_df['label'].unique()"
   ]
  },
  {
   "cell_type": "code",
   "execution_count": 149,
   "metadata": {},
   "outputs": [
    {
     "name": "stdout",
     "output_type": "stream",
     "text": [
      "time: 292 ms\n"
     ]
    },
    {
     "name": "stderr",
     "output_type": "stream",
     "text": [
      "/Users/geickelb1/anaconda/envs/rpy-env/lib/python3.6/site-packages/ipykernel_launcher.py:7: UserWarning: This pattern has match groups. To actually get the groups, use str.extract.\n",
      "  import sys\n"
     ]
    }
   ],
   "source": [
    "###using regular expressions to reduce the # of ethinicities\n",
    "\n",
    "age_df.loc[(age_df.loc[:,\"label\"]=='ethnicity') & (age_df.loc[:,\"value\"].str.contains(r'.*?BLACK')),'value']=\"black\"\n",
    "age_df.loc[(age_df.loc[:,\"label\"]=='ethnicity') & (age_df.loc[:,\"value\"].str.contains(r'.*?HISPANIC|PORTUGUESE')),'value']=\"hispanic\"\n",
    "age_df.loc[(age_df.loc[:,\"label\"]=='ethnicity') & (age_df.loc[:,\"value\"].str.contains(r'.*?WHITE')),'value']=\"white/nonhispanic\"\n",
    "age_df.loc[(age_df.loc[:,\"label\"]=='ethnicity') & (age_df.loc[:,\"value\"].str.contains(r'.*?ASIAN')),'value']='asian'\n",
    "age_df.loc[(age_df.loc[:,\"label\"]=='ethnicity') & (age_df.loc[:,\"value\"].str.contains(r'(UNKNOWN|MULTI|UNABLE|DECLINE|OTHER)')),'value']='unknown/other'\n",
    "age_df.loc[(age_df.loc[:,\"label\"]=='ethnicity') & (age_df.loc[:,\"value\"].str.contains(r'[AZ]+')),'value']=\"unknown/other\" #lumping all other low n values into other\n"
   ]
  },
  {
   "cell_type": "code",
   "execution_count": 150,
   "metadata": {},
   "outputs": [
    {
     "data": {
      "text/plain": [
       "white/nonhispanic    6180\n",
       "unknown/other        1023\n",
       "black                 888\n",
       "hispanic              306\n",
       "asian                 232\n",
       "Name: value, dtype: int64"
      ]
     },
     "execution_count": 150,
     "metadata": {},
     "output_type": "execute_result"
    },
    {
     "name": "stdout",
     "output_type": "stream",
     "text": [
      "time: 23.8 ms\n"
     ]
    }
   ],
   "source": [
    "age_df.loc[age_df.loc[:,\"label\"]=='ethnicity','value'].value_counts()"
   ]
  },
  {
   "cell_type": "code",
   "execution_count": 151,
   "metadata": {},
   "outputs": [
    {
     "name": "stdout",
     "output_type": "stream",
     "text": [
      "time: 527 ms\n"
     ]
    }
   ],
   "source": [
    "#date= '22102018'\n",
    "save_df(age_df, 'pt_info')\n",
    "\n",
    "del(age_df,dfs['pt_info_df'] )"
   ]
  },
  {
   "cell_type": "code",
   "execution_count": null,
   "metadata": {},
   "outputs": [],
   "source": []
  }
 ],
 "metadata": {
  "kernelspec": {
   "display_name": "Python 3",
   "language": "python",
   "name": "python3"
  },
  "language_info": {
   "codemirror_mode": {
    "name": "ipython",
    "version": 3
   },
   "file_extension": ".py",
   "mimetype": "text/x-python",
   "name": "python",
   "nbconvert_exporter": "python",
   "pygments_lexer": "ipython3",
   "version": "3.6.4"
  }
 },
 "nbformat": 4,
 "nbformat_minor": 2
}
