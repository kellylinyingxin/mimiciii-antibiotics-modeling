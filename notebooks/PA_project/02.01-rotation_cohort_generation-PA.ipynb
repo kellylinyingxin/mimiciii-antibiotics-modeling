{
 "cells": [
  {
   "cell_type": "markdown",
   "metadata": {
    "slideshow": {
     "slide_type": "slide"
    }
   },
   "source": [
    "# Modeling Antibiotic Responce Through Datamining in the MIMICIII Dataset\n",
    "###Garrett Eickelberg with help from Kishore Anekalla, Yikuan Li, Dr. Yuan Luo, Dr. Nelson Sanchez-Pinto"
   ]
  },
  {
   "cell_type": "markdown",
   "metadata": {},
   "source": [
    "the overarching contents of this notebook will be detailed in my googledoc labnotebook \n",
    "https://docs.google.com/document/d/1bJcv0ZUkjVhFga9ZOLMNV6pXR9jLEMQmPhLS93njrCc/edit#\n",
    "\n",
    "1/21/19\n",
    "the PAII project version of this cohort generation is gearing to get all patients suspected of having a bacteerial infection. for these patients, we want to find all patients who had a positive BLOOD culture atleast (12?) hours after their first antibiotic dose. \n",
    "\n",
    "we will then use data up to 24 hours after this to predict culture results. \n",
    "\n",
    "need to extract organism type, and t_sc_plus24\n"
   ]
  },
  {
   "cell_type": "code",
   "execution_count": 8,
   "metadata": {
    "slideshow": {
     "slide_type": "skip"
    }
   },
   "outputs": [
    {
     "name": "stdout",
     "output_type": "stream",
     "text": [
      "The autotime extension is already loaded. To reload it, use:\n",
      "  %reload_ext autotime\n",
      "time: 27.3 ms\n"
     ]
    },
    {
     "name": "stderr",
     "output_type": "stream",
     "text": [
      "/Users/geickelb1/anaconda/envs/rpy-env/lib/python3.6/site-packages/ipykernel_launcher.py:21: DeprecationWarning: The 'cachedir' parameter has been deprecated in version 0.12 and will be removed in version 0.14.\n",
      "You provided \"cachedir='/tmp'\", use \"location='/tmp'\" instead.\n"
     ]
    }
   ],
   "source": [
    "#libraries\n",
    "import numpy as np\n",
    "import pandas as pd\n",
    "import matplotlib.pyplot as plt\n",
    "import psycopg2\n",
    "import collections\n",
    "import asyncio\n",
    "import getpass\n",
    "import re\n",
    "from datetime import datetime as dt\n",
    "import os,sys,re\n",
    "import urllib3\n",
    "import prettytable\n",
    "from collections import Counter\n",
    "import seaborn as sns\n",
    "import random\n",
    "from datetime import timedelta\n",
    "from pathlib import Path\n",
    "\n",
    "from sklearn.externals.joblib import Memory\n",
    "memory = Memory(cachedir='/tmp', verbose=0)\n",
    "#@memory.cache above any def fxn.\n",
    "\n",
    "%matplotlib inline\n",
    "plt.style.use('ggplot')\n",
    "\n",
    "from notebook.services.config import ConfigManager\n",
    "cm = ConfigManager()\n",
    "cm.update('livereveal', {\n",
    "        'width': 1024,\n",
    "        'height': 768,\n",
    "        'scroll': True,\n",
    "})\n",
    "\n",
    "%load_ext autotime\n",
    "\n",
    "date= '04042019'"
   ]
  },
  {
   "cell_type": "markdown",
   "metadata": {
    "slideshow": {
     "slide_type": "slide"
    }
   },
   "source": [
    "#reserach question:\n",
    "-Can we predict the organism type for pts with positive blood cultures in patients suspected of having an infection with data up to 24 hours after the culture (ie the approximate time we would recieve teh culture result). \n",
    "\n",
    "#cohort criteria:\n",
    "- YES- only adult patients (over 18 yo)  (~n= 38,000 age >18)\n",
    "- with sterile culture \n",
    "- and ab start within the same 24 hours time window.\n",
    "\n",
    "\n",
    "Three subsets:\n",
    "– Started on antibiotics, after 48hrs, negculture, discontinue\t: neg/stop\n",
    "- 48hrs, negculture, but continue full course 7, 10, or 14 days: neg/continue\n",
    "– Positive culture, continue full course.Predict whether kept on antibiotics:\n",
    "\n",
    "    pos/continue\n",
    "    \n",
    "\tInfected with positive culture\n",
    "    \n",
    "\tInfected with negative culture (ie a false positive)\n",
    "    \n",
    "    \n",
    "#components: data cleaning, model building"
   ]
  },
  {
   "cell_type": "code",
   "execution_count": 9,
   "metadata": {
    "slideshow": {
     "slide_type": "skip"
    }
   },
   "outputs": [
    {
     "name": "stdin",
     "output_type": "stream",
     "text": [
      "Password: ·····\n"
     ]
    },
    {
     "name": "stdout",
     "output_type": "stream",
     "text": [
      "time: 3.11 s\n"
     ]
    }
   ],
   "source": [
    "#code used to ping the postgres mimic server. \n",
    "\n",
    "conn = psycopg2.connect(dbname=\"mimic\", user=\"student\", host=\"luolabwkstn01.fsm.northwestern.edu\", port=\"5432\",\n",
    "                        password=getpass.getpass(prompt='Password:'.format()))\n",
    "cur=conn.cursor()\n",
    "\n",
    "query_schema = 'SET search_path to ' + \"mimiciii\" + ';'"
   ]
  },
  {
   "cell_type": "code",
   "execution_count": 10,
   "metadata": {},
   "outputs": [
    {
     "name": "stdout",
     "output_type": "stream",
     "text": [
      "time: 781 ms\n"
     ]
    }
   ],
   "source": [
    "ABrx = pd.read_csv('/Users/geickelb1/Documents/GitHub/mimiciii-antibiotics-modeling/data/raw/csv/02082018_ABrx_updated.csv')\n",
    "\n"
   ]
  },
  {
   "cell_type": "markdown",
   "metadata": {},
   "source": [
    "# generating patient culture/icu/hospital info\n"
   ]
  },
  {
   "cell_type": "markdown",
   "metadata": {},
   "source": [
    "## sterile culture info"
   ]
  },
  {
   "cell_type": "code",
   "execution_count": 11,
   "metadata": {
    "slideshow": {
     "slide_type": "slide"
    }
   },
   "outputs": [
    {
     "name": "stdout",
     "output_type": "stream",
     "text": [
      "time: 6.35 s\n"
     ]
    }
   ],
   "source": [
    "###commented this all out and will try to see what the patient icustay id landscape is like with just using blood cultures\n",
    "#retrieving all patients with sterile culture. this was reverted because the \"suspected infection criteria\" needs to remain the same\n",
    "\n",
    "##changed on 4/16/18 to include all hadm_id\n",
    "sterile_pt_sql = query_schema + \"\"\"\n",
    "SELECT row_id, subject_id, hadm_id, chartdate, charttime, spec_itemid, spec_type_desc, org_name FROM mimiciii.microbiologyevents\n",
    "WHERE NOT lower(spec_type_desc) = 'fluid received in blood culture bottles' AND\n",
    "NOT lower(spec_type_desc) = 'blood bag fluid'\n",
    "AND (lower(spec_type_desc) LIKE '%blood%' \n",
    "OR lower(spec_type_desc) LIKE '%joint%' \n",
    "OR lower(spec_type_desc) LIKE '%urine%' \n",
    "OR lower(spec_type_desc) LIKE  '%csf%'\n",
    "OR lower(spec_type_desc) LIKE '%spinal%'\n",
    "OR lower(spec_type_desc) LIKE '%pleural%'\n",
    "OR lower(spec_type_desc) LIKE '%peritoneal%'\n",
    "OR lower(spec_type_desc) LIKE '%bal%'\n",
    "OR lower(spec_type_desc) LIKE '%bronchoalveolar lavage%')  --bal and bronchoalveolar lavage added 7/16/18\n",
    "\n",
    "group by subject_id, row_id\n",
    "ORDER BY count(subject_id) DESC\n",
    "\"\"\"\n",
    "\n",
    "sterile_pt_df=pd.read_sql_query(sterile_pt_sql,conn) #361711 patients with sterile culture -> 374643 with addn of bal and broncho... 7/16/18\n"
   ]
  },
  {
   "cell_type": "code",
   "execution_count": 12,
   "metadata": {},
   "outputs": [
    {
     "name": "stdout",
     "output_type": "stream",
     "text": [
      "time: 3.17 ms\n"
     ]
    }
   ],
   "source": [
    "# #retrieving all patients with sterile culture\n",
    "\n",
    "# ##changed on 4/16/18 to include all hadm_id\n",
    "# sterile_pt_sql = query_schema + \"\"\"\n",
    "# SELECT row_id, subject_id, hadm_id, chartdate, charttime, spec_itemid, spec_type_desc, org_name \n",
    "# FROM mimiciii.microbiologyevents\n",
    "# WHERE NOT lower(spec_type_desc) like 'fluid received in blood culture bottles' AND\n",
    "# NOT lower(spec_type_desc) like 'blood bag fluid'\n",
    "# AND (lower(spec_type_desc) LIKE '%blood%') \n",
    "# group by subject_id, row_id\n",
    "# ORDER BY count(subject_id) DESC\n",
    "# \"\"\"\n",
    "\n",
    "# sterile_pt_df=pd.read_sql_query(sterile_pt_sql,conn) #361711 patients with sterile culture -> 374643 with addn of bal and broncho... 7/16/18\n",
    "# sterile_pt_df= sterile_pt_df.drop_duplicates(['hadm_id','charttime','spec_type_desc','org_name']) #added 1/21/19 to reduce the redundancy"
   ]
  },
  {
   "cell_type": "code",
   "execution_count": 13,
   "metadata": {},
   "outputs": [
    {
     "name": "stdout",
     "output_type": "stream",
     "text": [
      "time: 1.46 s\n"
     ]
    }
   ],
   "source": [
    "#a more detailed patient/admission/age data query\n",
    "\n",
    "pt_age_admin_sql = query_schema + \"\"\"\n",
    "select p.subject_id, c.hadm_id, c.admittime, c.dischtime, c.admission_location, c.admission_type, p.first_admit_age, p.dob, p.gender from mimiciii.admissions c\n",
    "join (SELECT\n",
    "      p.subject_id, p.dob, p.gender, MIN( ROUND( (cast(admittime as date) - cast(dob as date)) / 365.242,2) )\n",
    "          AS first_admit_age\n",
    "  FROM mimiciii.patients p\n",
    "  INNER JOIN mimiciii.admissions a\n",
    "  ON p.subject_id = a.subject_id\n",
    "  GROUP BY p.subject_id, p.dob, p.gender\n",
    "  ORDER BY p.subject_id) p on c.subject_id = p.subject_id\n",
    "\"\"\"\n",
    "pt_age_admin_df = pd.read_sql_query(pt_age_admin_sql,conn) #38637\n",
    "pt_age_admin_16_df= pt_age_admin_df.loc[pt_age_admin_df.loc[:,'first_admit_age']>16,:]\n",
    "pt_age_admin_16_df = pt_age_admin_16_df.rename(index=str, columns={\"admittime\":'hosp_admit','dischtime':'hosp_disch'})\n",
    "\n",
    "pt_source_sql = query_schema + \"\"\"\n",
    "SELECT subject_id, icustay_id, hadm_id, dbsource, intime, outtime, los, FIRST_WARDID, LAST_WARDID from mimiciii.icustays\n",
    "\"\"\"\n",
    "pt_source_df =pd.read_sql_query(pt_source_sql,conn) #46520 patients total, no ab, culture or age restrict\n",
    "pt_source_df = pt_source_df.rename(index=str, columns={\"intime\":'ICU_admit','outtime':'ICU_disch'})\n",
    "\n",
    "#merging icu info with patient admiin info- has all icustay id's with patient and admission info.\n",
    "pt_icu_hosp_db_16 =pd.merge(pt_age_admin_16_df,pt_source_df.drop(['subject_id'], axis=1), left_on= 'hadm_id', right_on='hadm_id', how = 'right')\n",
    "# len(pt_source_df) #61532\n",
    "# len(pt_age_admin_16_df)#50857\n",
    "# len(pt_icu_hosp_db_16) #61532\n",
    "\n"
   ]
  },
  {
   "cell_type": "code",
   "execution_count": 14,
   "metadata": {},
   "outputs": [
    {
     "ename": "NameError",
     "evalue": "name 'wd' is not defined",
     "output_type": "error",
     "traceback": [
      "\u001b[0;31m---------------------------------------------------------------------------\u001b[0m",
      "\u001b[0;31mNameError\u001b[0m                                 Traceback (most recent call last)",
      "\u001b[0;32m<ipython-input-14-e495b4fd5f18>\u001b[0m in \u001b[0;36m<module>\u001b[0;34m()\u001b[0m\n\u001b[1;32m      8\u001b[0m \u001b[0;31m# date= '22112018'\u001b[0m\u001b[0;34m\u001b[0m\u001b[0;34m\u001b[0m\u001b[0m\n\u001b[1;32m      9\u001b[0m pd.DataFrame(pt_age_admin_df).to_csv(Path(\n\u001b[0;32m---> 10\u001b[0;31m     wd+'/data/processed/%s_pt_age.csv' %(date)))\n\u001b[0m",
      "\u001b[0;31mNameError\u001b[0m: name 'wd' is not defined"
     ]
    },
    {
     "name": "stdout",
     "output_type": "stream",
     "text": [
      "time: 9.63 ms\n"
     ]
    }
   ],
   "source": [
    "# pt_age_admin_df\n",
    "\n",
    "# from pathlib import Path\n",
    "# os.chdir('/Users/geickelb1/Documents/GitHub/mimiciii-antibiotics-modeling') #use to change working directory\n",
    "# wd= os.getcwd() #'/Users/geickelb1/Documents/GitHub/mimiciii-antibiotics-modeling'\n",
    "\n",
    "\n",
    "# date= '22112018'\n",
    "# pd.DataFrame(pt_age_admin_df).to_csv(Path(\n",
    "#     wd+'/data/processed/%s_pt_age.csv' %(date)))"
   ]
  },
  {
   "cell_type": "markdown",
   "metadata": {},
   "source": [
    "### mergeing sterile_pt_df with pt_icu_hosp_db_16\n",
    "   - sterile_all_pt_info:\n",
    "    is all the hospital, icu admission, and patient data for patients >=16yo w/ a sterile site culture.\n",
    "   - merging dfs to concat all the hospital, icu admission, and patient data for patients >=16yo w/ a sterile site culture."
   ]
  },
  {
   "cell_type": "code",
   "execution_count": 15,
   "metadata": {},
   "outputs": [
    {
     "name": "stdout",
     "output_type": "stream",
     "text": [
      "time: 976 ms\n"
     ]
    }
   ],
   "source": [
    "#merging dfs to concat all the hospital, icu admission, and patient data for patients >=16yo w/ a sterile site culture.\n",
    "\n",
    "sterile_all_pt_info= None\n",
    "#filtering and merging patient/hospital/icu admin data for pt>16 yo, with all sterile culture pt.\n",
    "sterile_all_pt_info = pd.merge(\n",
    "    pt_icu_hosp_db_16, sterile_pt_df.drop(['subject_id'], axis=1), \n",
    "    left_on= 'hadm_id', \n",
    "    right_on='hadm_id', \n",
    "    how = 'inner'\n",
    ")\n",
    "\n",
    "#making all sterile culture charttime null rows = to chartdate. \n",
    "sterile_all_pt_info.loc[sterile_all_pt_info.loc[:,'charttime'].isnull(),'charttime'\n",
    "                       ] = sterile_all_pt_info.loc[sterile_all_pt_info.loc[:,'charttime'].isnull(),'chartdate']\n",
    "\n",
    "#removing all null admit ages.\n",
    "sterile_all_pt_info=sterile_all_pt_info[sterile_all_pt_info['first_admit_age'].notnull()] \n",
    "\n",
    "sterile_all_pt_info=sterile_all_pt_info.rename(\n",
    "    index=str, columns={'charttime':'culture_charttime'}) #changing some column names for clarity \n"
   ]
  },
  {
   "cell_type": "code",
   "execution_count": 16,
   "metadata": {},
   "outputs": [
    {
     "name": "stdout",
     "output_type": "stream",
     "text": [
      "440230 35013 38395\n",
      "time: 22.7 ms\n"
     ]
    }
   ],
   "source": [
    "#07/13/18 -> 01/21/19 using just blood cultures\n",
    "print(len(sterile_all_pt_info), #424493 ->237020 rows\n",
    "len(sterile_all_pt_info['hadm_id'].unique()), #34915  -> 28207\n",
    "len(sterile_all_pt_info['icustay_id'].unique()))# 38292 -> 31233  \n",
    "\n",
    "###History:\n",
    "#previously we wanted to only include sterile cultures taken within icu, but we changed our mind on that. \n",
    "#ptinfo_ICUsterile_16 was origionally just in ICU, while sterile_all_pt_info was in and outside icu.\n",
    "#i have sense removed this and adjusted all instances to be sterile_all_pt_info. the code to make this past sheet is below:\n",
    "\n",
    "#removed below lines because we want to include sterile cultures outside of ICU. \n",
    "#annotates the sterile cultures and returns True if it's within the icu time window.\n",
    "##sterile_all_pt_info['sterile_dur_icu']= (sterile_all_pt_info['ICU_disch'] >= sterile_all_pt_info['charttime']) &(sterile_all_pt_info['charttime']>=sterile_all_pt_info['ICU_admit'])\n",
    "#sterile_all_pt_info_icu= sterile_all_pt_info.loc[sterile_all_pt_info.loc[:,'sterile_dur_icu']==True,:]"
   ]
  },
  {
   "cell_type": "code",
   "execution_count": null,
   "metadata": {},
   "outputs": [],
   "source": []
  },
  {
   "cell_type": "markdown",
   "metadata": {},
   "source": [
    "# building patient list from PRESCRIPTION table\n",
    "\n",
    "using the prescription antibiotic list and the list of dates of ssc cultures, building patient list that annotates first ab within 24 hr of sc for each pt. "
   ]
  },
  {
   "cell_type": "code",
   "execution_count": 17,
   "metadata": {},
   "outputs": [
    {
     "name": "stderr",
     "output_type": "stream",
     "text": [
      "/Users/geickelb1/anaconda/envs/rpy-env/lib/python3.6/site-packages/ipykernel_launcher.py:6: SettingWithCopyWarning: \n",
      "A value is trying to be set on a copy of a slice from a DataFrame.\n",
      "Try using .loc[row_indexer,col_indexer] = value instead\n",
      "\n",
      "See the caveats in the documentation: http://pandas.pydata.org/pandas-docs/stable/indexing.html#indexing-view-versus-copy\n",
      "  \n",
      "/Users/geickelb1/anaconda/envs/rpy-env/lib/python3.6/site-packages/ipykernel_launcher.py:7: SettingWithCopyWarning: \n",
      "A value is trying to be set on a copy of a slice from a DataFrame.\n",
      "Try using .loc[row_indexer,col_indexer] = value instead\n",
      "\n",
      "See the caveats in the documentation: http://pandas.pydata.org/pandas-docs/stable/indexing.html#indexing-view-versus-copy\n",
      "  import sys\n"
     ]
    },
    {
     "name": "stdout",
     "output_type": "stream",
     "text": [
      "132317\n",
      "130880 24297 26020 19660\n",
      "time: 670 ms\n"
     ]
    }
   ],
   "source": [
    "sterile_all_pt_info_pt= sterile_all_pt_info.drop_duplicates('icustay_id')#38292 on 07-13-18\n",
    "ABrx_ntnull= ABrx.loc[ABrx.loc[:,\"icustay_id\"].notnull(),:] #removing null icustay_id\n",
    "ABrx_16sterile_ntnul = None\n",
    "\n",
    "#have to convert icustay_id's to numbers to merge\n",
    "sterile_all_pt_info_pt['icustay_id']= pd.to_numeric(sterile_all_pt_info_pt['icustay_id'])\n",
    "ABrx_ntnull['icustay_id']= pd.to_numeric(ABrx_ntnull['icustay_id'])\n",
    "\n",
    "#merging antibiotics table w/ all the hospital, icu admission, and patient data for patients >=16yo w/ a sterile site culture. \n",
    "ABrx_16sterile_ntnul= pd.merge(\n",
    "    ABrx_ntnull,\n",
    "    sterile_all_pt_info_pt.drop(['subject_id','hadm_id','row_id'], axis=1),\n",
    "    left_on= 'icustay_id',\n",
    "    right_on='icustay_id',\n",
    "    how = 'inner')\n",
    "\n",
    "\n",
    "print(len(ABrx_16sterile_ntnul))\n",
    "#added on 4/24/18: there are some erronious rows where start date > enddate. these are being removed. \n",
    "keep_criteria1 = pd.to_datetime(ABrx_16sterile_ntnul['startdate']) <= pd.to_datetime(ABrx_16sterile_ntnul['enddate'])\n",
    "\n",
    "ABrx_16sterile_ntnul= ABrx_16sterile_ntnul[keep_criteria1]\n",
    "\n",
    "print(len(ABrx_16sterile_ntnul), #2521764 rows -> 111796  -> 132083 ->130646 after remove criteria\n",
    "len(ABrx_16sterile_ntnul['hadm_id'].unique()), #26701  -> 17898  -> 24282\n",
    "len(ABrx_16sterile_ntnul['icustay_id'].unique()), # 28429 ->18778 -> 26009\n",
    "len(ABrx_16sterile_ntnul['subject_id'].unique()))# 22035 -> 14903 -> 19638   #final set is after readding back the sterile culture outside of icu stay. \n",
    "#->19790 after remove criteria -> 16512 \n"
   ]
  },
  {
   "cell_type": "code",
   "execution_count": 18,
   "metadata": {},
   "outputs": [
    {
     "name": "stdout",
     "output_type": "stream",
     "text": [
      "Populating the interactive namespace from numpy and matplotlib\n"
     ]
    },
    {
     "name": "stderr",
     "output_type": "stream",
     "text": [
      "/Users/geickelb1/anaconda/envs/rpy-env/lib/python3.6/site-packages/IPython/core/magics/pylab.py:160: UserWarning: pylab import has clobbered these variables: ['random', 'cm']\n",
      "`%matplotlib` prevents importing * from pylab and numpy\n",
      "  \"\\n`%matplotlib` prevents importing * from pylab and numpy\"\n"
     ]
    },
    {
     "data": {
      "text/plain": [
       "<matplotlib.axes._subplots.AxesSubplot at 0x1a29358f98>"
      ]
     },
     "execution_count": 18,
     "metadata": {},
     "output_type": "execute_result"
    },
    {
     "data": {
      "image/png": "[encoded data removed]",
      "text/plain": [
       "<Figure size 720x432 with 1 Axes>"
      ]
     },
     "metadata": {},
     "output_type": "display_data"
    },
    {
     "name": "stdout",
     "output_type": "stream",
     "text": [
      "time: 416 ms\n"
     ]
    }
   ],
   "source": [
    "len(ABrx_ntnull['icustay_id'].unique())\n",
    "\n",
    "%pylab inline\n",
    "pylab.rcParams['figure.figsize'] = (10, 6)\n",
    "ABrx_16sterile_ntnul['first_admit_age'].sort_values(ascending=True).plot.hist(100)"
   ]
  },
  {
   "cell_type": "code",
   "execution_count": 19,
   "metadata": {},
   "outputs": [
    {
     "data": {
      "text/html": [
       "<div>\n",
       "<style scoped>\n",
       "    .dataframe tbody tr th:only-of-type {\n",
       "        vertical-align: middle;\n",
       "    }\n",
       "\n",
       "    .dataframe tbody tr th {\n",
       "        vertical-align: top;\n",
       "    }\n",
       "\n",
       "    .dataframe thead th {\n",
       "        text-align: right;\n",
       "    }\n",
       "</style>\n",
       "<table border=\"1\" class=\"dataframe\">\n",
       "  <thead>\n",
       "    <tr style=\"text-align: right;\">\n",
       "      <th></th>\n",
       "      <th>Unnamed: 0</th>\n",
       "      <th>row_id</th>\n",
       "      <th>subject_id</th>\n",
       "      <th>hadm_id</th>\n",
       "      <th>icustay_id</th>\n",
       "      <th>startdate</th>\n",
       "      <th>enddate</th>\n",
       "      <th>drug_type</th>\n",
       "      <th>drug</th>\n",
       "      <th>drug_name_poe</th>\n",
       "      <th>...</th>\n",
       "      <th>ICU_admit</th>\n",
       "      <th>ICU_disch</th>\n",
       "      <th>los</th>\n",
       "      <th>first_wardid</th>\n",
       "      <th>last_wardid</th>\n",
       "      <th>chartdate</th>\n",
       "      <th>culture_charttime</th>\n",
       "      <th>spec_itemid</th>\n",
       "      <th>spec_type_desc</th>\n",
       "      <th>org_name</th>\n",
       "    </tr>\n",
       "  </thead>\n",
       "  <tbody>\n",
       "    <tr>\n",
       "      <th>0</th>\n",
       "      <td>16</td>\n",
       "      <td>2366833</td>\n",
       "      <td>24915</td>\n",
       "      <td>194424</td>\n",
       "      <td>267059.0</td>\n",
       "      <td>2182-12-10</td>\n",
       "      <td>2182-12-10</td>\n",
       "      <td>MAIN</td>\n",
       "      <td>Daptomycin</td>\n",
       "      <td>NaN</td>\n",
       "      <td>...</td>\n",
       "      <td>2182-11-11 20:02:17</td>\n",
       "      <td>2183-01-15 19:41:21</td>\n",
       "      <td>64.9855</td>\n",
       "      <td>52</td>\n",
       "      <td>52</td>\n",
       "      <td>2182-11-12</td>\n",
       "      <td>2182-11-12 01:50:00</td>\n",
       "      <td>70012</td>\n",
       "      <td>BLOOD CULTURE</td>\n",
       "      <td>None</td>\n",
       "    </tr>\n",
       "    <tr>\n",
       "      <th>1</th>\n",
       "      <td>842</td>\n",
       "      <td>2366088</td>\n",
       "      <td>24915</td>\n",
       "      <td>194424</td>\n",
       "      <td>267059.0</td>\n",
       "      <td>2182-11-29</td>\n",
       "      <td>2182-12-24</td>\n",
       "      <td>MAIN</td>\n",
       "      <td>Imipenem-Cilastatin</td>\n",
       "      <td>NaN</td>\n",
       "      <td>...</td>\n",
       "      <td>2182-11-11 20:02:17</td>\n",
       "      <td>2183-01-15 19:41:21</td>\n",
       "      <td>64.9855</td>\n",
       "      <td>52</td>\n",
       "      <td>52</td>\n",
       "      <td>2182-11-12</td>\n",
       "      <td>2182-11-12 01:50:00</td>\n",
       "      <td>70012</td>\n",
       "      <td>BLOOD CULTURE</td>\n",
       "      <td>None</td>\n",
       "    </tr>\n",
       "    <tr>\n",
       "      <th>2</th>\n",
       "      <td>59177</td>\n",
       "      <td>2366064</td>\n",
       "      <td>24915</td>\n",
       "      <td>194424</td>\n",
       "      <td>267059.0</td>\n",
       "      <td>2182-11-17</td>\n",
       "      <td>2182-11-20</td>\n",
       "      <td>MAIN</td>\n",
       "      <td>Vancomycin HCl</td>\n",
       "      <td>NaN</td>\n",
       "      <td>...</td>\n",
       "      <td>2182-11-11 20:02:17</td>\n",
       "      <td>2183-01-15 19:41:21</td>\n",
       "      <td>64.9855</td>\n",
       "      <td>52</td>\n",
       "      <td>52</td>\n",
       "      <td>2182-11-12</td>\n",
       "      <td>2182-11-12 01:50:00</td>\n",
       "      <td>70012</td>\n",
       "      <td>BLOOD CULTURE</td>\n",
       "      <td>None</td>\n",
       "    </tr>\n",
       "    <tr>\n",
       "      <th>3</th>\n",
       "      <td>59181</td>\n",
       "      <td>2366065</td>\n",
       "      <td>24915</td>\n",
       "      <td>194424</td>\n",
       "      <td>267059.0</td>\n",
       "      <td>2182-11-17</td>\n",
       "      <td>2182-11-29</td>\n",
       "      <td>MAIN</td>\n",
       "      <td>Imipenem-Cilastatin</td>\n",
       "      <td>NaN</td>\n",
       "      <td>...</td>\n",
       "      <td>2182-11-11 20:02:17</td>\n",
       "      <td>2183-01-15 19:41:21</td>\n",
       "      <td>64.9855</td>\n",
       "      <td>52</td>\n",
       "      <td>52</td>\n",
       "      <td>2182-11-12</td>\n",
       "      <td>2182-11-12 01:50:00</td>\n",
       "      <td>70012</td>\n",
       "      <td>BLOOD CULTURE</td>\n",
       "      <td>None</td>\n",
       "    </tr>\n",
       "    <tr>\n",
       "      <th>4</th>\n",
       "      <td>60474</td>\n",
       "      <td>2367574</td>\n",
       "      <td>24915</td>\n",
       "      <td>194424</td>\n",
       "      <td>267059.0</td>\n",
       "      <td>2183-01-12</td>\n",
       "      <td>2183-01-15</td>\n",
       "      <td>MAIN</td>\n",
       "      <td>Levofloxacin</td>\n",
       "      <td>NaN</td>\n",
       "      <td>...</td>\n",
       "      <td>2182-11-11 20:02:17</td>\n",
       "      <td>2183-01-15 19:41:21</td>\n",
       "      <td>64.9855</td>\n",
       "      <td>52</td>\n",
       "      <td>52</td>\n",
       "      <td>2182-11-12</td>\n",
       "      <td>2182-11-12 01:50:00</td>\n",
       "      <td>70012</td>\n",
       "      <td>BLOOD CULTURE</td>\n",
       "      <td>None</td>\n",
       "    </tr>\n",
       "  </tbody>\n",
       "</table>\n",
       "<p>5 rows × 40 columns</p>\n",
       "</div>"
      ],
      "text/plain": [
       "   Unnamed: 0   row_id  subject_id  hadm_id  icustay_id   startdate  \\\n",
       "0          16  2366833       24915   194424    267059.0  2182-12-10   \n",
       "1         842  2366088       24915   194424    267059.0  2182-11-29   \n",
       "2       59177  2366064       24915   194424    267059.0  2182-11-17   \n",
       "3       59181  2366065       24915   194424    267059.0  2182-11-17   \n",
       "4       60474  2367574       24915   194424    267059.0  2183-01-12   \n",
       "\n",
       "      enddate drug_type                 drug drug_name_poe   ...     \\\n",
       "0  2182-12-10      MAIN           Daptomycin           NaN   ...      \n",
       "1  2182-12-24      MAIN  Imipenem-Cilastatin           NaN   ...      \n",
       "2  2182-11-20      MAIN       Vancomycin HCl           NaN   ...      \n",
       "3  2182-11-29      MAIN  Imipenem-Cilastatin           NaN   ...      \n",
       "4  2183-01-15      MAIN         Levofloxacin           NaN   ...      \n",
       "\n",
       "            ICU_admit           ICU_disch      los  first_wardid last_wardid  \\\n",
       "0 2182-11-11 20:02:17 2183-01-15 19:41:21  64.9855            52          52   \n",
       "1 2182-11-11 20:02:17 2183-01-15 19:41:21  64.9855            52          52   \n",
       "2 2182-11-11 20:02:17 2183-01-15 19:41:21  64.9855            52          52   \n",
       "3 2182-11-11 20:02:17 2183-01-15 19:41:21  64.9855            52          52   \n",
       "4 2182-11-11 20:02:17 2183-01-15 19:41:21  64.9855            52          52   \n",
       "\n",
       "   chartdate   culture_charttime spec_itemid spec_type_desc org_name  \n",
       "0 2182-11-12 2182-11-12 01:50:00       70012  BLOOD CULTURE     None  \n",
       "1 2182-11-12 2182-11-12 01:50:00       70012  BLOOD CULTURE     None  \n",
       "2 2182-11-12 2182-11-12 01:50:00       70012  BLOOD CULTURE     None  \n",
       "3 2182-11-12 2182-11-12 01:50:00       70012  BLOOD CULTURE     None  \n",
       "4 2182-11-12 2182-11-12 01:50:00       70012  BLOOD CULTURE     None  \n",
       "\n",
       "[5 rows x 40 columns]"
      ]
     },
     "execution_count": 19,
     "metadata": {},
     "output_type": "execute_result"
    },
    {
     "name": "stdout",
     "output_type": "stream",
     "text": [
      "time: 29.8 ms\n"
     ]
    }
   ],
   "source": [
    "ABrx_16sterile_ntnul.head()"
   ]
  },
  {
   "cell_type": "markdown",
   "metadata": {},
   "source": [
    "### annotating pt who have antibiotics data in cv, mv, or both. "
   ]
  },
  {
   "cell_type": "code",
   "execution_count": 20,
   "metadata": {},
   "outputs": [
    {
     "data": {
      "text/plain": [
       "cv_ab              9658\n",
       "mv_ab              9247\n",
       "cv/mv_ab            683\n",
       "both_marking_ab      72\n",
       "Name: pt_ab_db, dtype: int64"
      ]
     },
     "execution_count": 20,
     "metadata": {},
     "output_type": "execute_result"
    },
    {
     "name": "stdout",
     "output_type": "stream",
     "text": [
      "time: 902 ms\n"
     ]
    }
   ],
   "source": [
    "# updated 4/11/18  \n",
    "cv_pts= ABrx_16sterile_ntnul[ABrx_16sterile_ntnul['dbsource']=='carevue']['subject_id'].unique()\n",
    "mv_pts= ABrx_16sterile_ntnul[ABrx_16sterile_ntnul['dbsource']=='metavision']['subject_id'].unique()\n",
    "\n",
    "both_pts= []\n",
    "for pt in ABrx_16sterile_ntnul[\"subject_id\"].unique():\n",
    "    if pt in cv_pts and pt in mv_pts:\n",
    "        both_pts.append(pt)\n",
    "        \n",
    "#need to annotate in pt_db_association column\n",
    "ABrx_16sterile_ntnul.loc[ABrx_16sterile_ntnul.loc[:,'dbsource']=='carevue','pt_ab_db']='cv_ab' \n",
    "ABrx_16sterile_ntnul.loc[ABrx_16sterile_ntnul.loc[:,'dbsource']=='metavision','pt_ab_db']='mv_ab'\n",
    "ABrx_16sterile_ntnul.loc[ABrx_16sterile_ntnul.loc[:,'dbsource']=='both','pt_ab_db']='both_marking_ab' \n",
    "ABrx_16sterile_ntnul.loc[ABrx_16sterile_ntnul.loc[:,'subject_id'].isin(both_pts),'pt_ab_db']='cv/mv_ab'\n",
    "\n",
    "\n",
    "ABrx_16sterile_ntnul_pts = ABrx_16sterile_ntnul.sort_values('startdate').drop_duplicates('subject_id')\n",
    "ABrx_16sterile_ntnul_pts = ABrx_16sterile_ntnul_pts[['subject_id','Antibiotics','dob','gender','first_admit_age','pt_ab_db']]\n",
    "#pt_ab_age_df = pd.merge(pt_sterile16_list, ABrx_merged_16sterile_ntnul_pts[['subject_id','pt_ab_db']], left_on= 'subject_id', right_on='subject_id',how = 'inner') \n",
    "\n",
    "ABrx_16sterile_ntnul_pts['pt_ab_db'].value_counts() #total: 14903\n",
    "\n",
    "#numbers before regenerating dataset (filtered for only culture dates within icu date windows -> pt has any sterile culture)\n",
    "# cv_ab              10394 -> 9639 -> 9629 -> 8187  for only blood cultures\n",
    "# mv_ab               9993 -> 9243 -> 9228 _> 7681\n",
    "# cv/mv_ab             777 -> 684 -> 682 -> 576\n",
    "# both_marking_ab       72 -> 72 -> 72 -> 68\n",
    "# Name: pt_ab_db, dtype: int64"
   ]
  },
  {
   "cell_type": "markdown",
   "metadata": {},
   "source": [
    "### restricting df rows to only those with 24hr associated AB and SC\n",
    "- marking first ab date within 24hr of sterile site culture\n",
    "- restricting to only rows where the ab's are at or after the first date (first date = first ab is within 24 hour of culture.)\n",
    "- note: the t_end consec is established in the next set to determine consecutive ab days."
   ]
  },
  {
   "cell_type": "code",
   "execution_count": 21,
   "metadata": {},
   "outputs": [
    {
     "name": "stdout",
     "output_type": "stream",
     "text": [
      "time: 67.3 ms\n"
     ]
    }
   ],
   "source": [
    "def AB_SC_associated_time_annotation(ABrx_16sterile_ntnul):\n",
    "    \n",
    "    \"\"\"\n",
    "    fxn: annotates antibiotic dataframe with t_0 and t_end for each patient.\n",
    "    ##t0 is the first ab date in icu associated within 24 hours of sterile site culture\n",
    "    ##t_end is the longest duration ab associated with t0\n",
    "    \n",
    "    input: the merged dataframe consisting of all antibiotic data, hospital, icu admission, and patient data \n",
    "    for patients >=16yo w/ a sterile site culture and no null ICUstay_id's (named ABrx_16sterile_ntnul).\n",
    "    \n",
    "    output: ABrx_16sterile_ntnul annotated with t_0 and t_end for the FIRST instance of an ab being given in the icu \n",
    "    within 24 hours of a sterile site culture. \n",
    "    \"\"\"\n",
    "    \n",
    "    #boolean criteria where delta between the AB startdate and culture_charttime is less than 24hr\n",
    "    lessthan24hr= abs(pd.to_datetime(ABrx_16sterile_ntnul['startdate']) - pd.to_datetime(\n",
    "        ABrx_16sterile_ntnul['culture_charttime'])) <='24:00:00'\n",
    "\n",
    "    #column annotating the delta between the AB startdate and culture_charttime is less than 24hr\n",
    "    ABrx_16sterile_ntnul['ab_culture_delta'] = (\n",
    "        pd.to_datetime(ABrx_16sterile_ntnul['startdate']) \n",
    "        - pd.to_datetime(ABrx_16sterile_ntnul['culture_charttime'])\n",
    "    )\n",
    "\n",
    "    #df of all rows where delta between the AB startdate and culture_charttime is less than 24hr\n",
    "    ABrx_ab24hrdelta= ABrx_16sterile_ntnul.loc[lessthan24hr]\n",
    "    \n",
    "    #annotating t_0: the first ab date in icustay associated within 24 hours of sterile site culture\n",
    "    ABrx_ab24hrdelta['t_0']= ABrx_ab24hrdelta.groupby('icustay_id')['startdate'].transform(lambda x: min(x))\n",
    "\n",
    "    \n",
    "    ABrx_16sterile_ptAB24startdate= ABrx_ab24hrdelta[['icustay_id','t_0']].drop_duplicates('icustay_id')\n",
    "\n",
    "    ABrx_16sterile_ptAB24enddate= ABrx_ab24hrdelta[\n",
    "        ABrx_ab24hrdelta['startdate']==ABrx_ab24hrdelta[\n",
    "            't_0']].sort_values(\n",
    "                ['subject_id','icustay_id','enddate'], ascending=[True,True,False]).drop_duplicates('icustay_id')\n",
    "\n",
    "\n",
    "    #adding t_0 and t_end to ABrx_16sterile_ntnul by merging w/ AB24startdate and enddate above\n",
    "    ABrx_16sterile_ntnul= (\n",
    "        pd.merge(\n",
    "            ABrx_16sterile_ntnul,\n",
    "            ABrx_16sterile_ptAB24startdate,\n",
    "            left_on= 'icustay_id', right_on='icustay_id', how = 'left')\n",
    "    )\n",
    "    ABrx_16sterile_ntnul= (\n",
    "        pd.merge(\n",
    "            ABrx_16sterile_ntnul,\n",
    "            ABrx_16sterile_ptAB24enddate[['icustay_id','enddate']],\n",
    "            left_on= 'icustay_id', right_on='icustay_id', how = 'left')\n",
    "    )\n",
    "    #renaming columns for ease\n",
    "    ABrx_16sterile_ntnul=(\n",
    "        ABrx_16sterile_ntnul.rename(index=str, columns={'enddate_x':'enddate',\"enddate_y\":\"t_end\"})\n",
    "    )\n",
    "    return(ABrx_16sterile_ntnul)\n",
    "\n",
    "\n",
    "def AB_SC_associated_cohort_restriction(ABrx_16sterile_ntnul):\n",
    "    \n",
    "    \"\"\"\n",
    "    fxn: restrict the input dataframe to only rows where the ab's are at or after the first date where an ab is within 24 hour of culture.\n",
    "    \n",
    "    input: the merged dataframe consisting of all antibiotic data, hospital, icu admission, and patient data \n",
    "    for patients >=16yo w/ a sterile site culture and no null ICUstay_id's (named ABrx_16sterile_ntnul).\n",
    "    \n",
    "    output:  ABrx_16sterile_ntnul (updated) annotated with t_0 and t_end for the FIRST instance of an ab being given in the icu \n",
    "    within 24 hours of a sterile site culture.\n",
    "    \n",
    "    ABrx_16sterile_ntnul2 (updated) annotated with t_0 and t_end for the FIRST instance of an ab being given in the icu \n",
    "    within 24 hours of a sterile site culture (same as ntnul above) AND filtered to only rows where the ab's are at or after the first date where an ab is within 24 hour of culture.\n",
    "    this should be df where all ab_icustart dates are greater than or equal to the first 24 hour associated ab start date after icu admission.\n",
    "    \"\"\"\n",
    "    ABrx_16sterile_ntnul = AB_SC_associated_time_annotation(ABrx_16sterile_ntnul)\n",
    "    \n",
    "    ABrx_16sterile_ntnul2=(\n",
    "        ABrx_16sterile_ntnul.loc[\n",
    "            ABrx_16sterile_ntnul['startdate'] >= ABrx_16sterile_ntnul['t_0']]\n",
    "    )\n",
    "    ABrx_16sterile_ntnul2['t_end_consec']=ABrx_16sterile_ntnul2['t_end']\n",
    "    ABrx_16sterile_ntnul2['abduration']= (\n",
    "        pd.to_datetime(ABrx_16sterile_ntnul2['enddate'])\n",
    "        - pd.to_datetime(ABrx_16sterile_ntnul2['startdate'])\n",
    "    )\n",
    "\n",
    "    ABrx_16sterile_ntnul2.sort_values(['subject_id','startdate'])\n",
    "    return(ABrx_16sterile_ntnul, ABrx_16sterile_ntnul2) #this should be df where all ab_icustart dates are greater than or \n",
    "                                  #equal to the first 24 hour associated ab start date after icu admission."
   ]
  },
  {
   "cell_type": "code",
   "execution_count": 22,
   "metadata": {},
   "outputs": [
    {
     "name": "stderr",
     "output_type": "stream",
     "text": [
      "/Users/geickelb1/anaconda/envs/rpy-env/lib/python3.6/site-packages/ipykernel_launcher.py:29: SettingWithCopyWarning: \n",
      "A value is trying to be set on a copy of a slice from a DataFrame.\n",
      "Try using .loc[row_indexer,col_indexer] = value instead\n",
      "\n",
      "See the caveats in the documentation: http://pandas.pydata.org/pandas-docs/stable/indexing.html#indexing-view-versus-copy\n",
      "/Users/geickelb1/anaconda/envs/rpy-env/lib/python3.6/site-packages/ipykernel_launcher.py:81: SettingWithCopyWarning: \n",
      "A value is trying to be set on a copy of a slice from a DataFrame.\n",
      "Try using .loc[row_indexer,col_indexer] = value instead\n",
      "\n",
      "See the caveats in the documentation: http://pandas.pydata.org/pandas-docs/stable/indexing.html#indexing-view-versus-copy\n",
      "/Users/geickelb1/anaconda/envs/rpy-env/lib/python3.6/site-packages/ipykernel_launcher.py:84: SettingWithCopyWarning: \n",
      "A value is trying to be set on a copy of a slice from a DataFrame.\n",
      "Try using .loc[row_indexer,col_indexer] = value instead\n",
      "\n",
      "See the caveats in the documentation: http://pandas.pydata.org/pandas-docs/stable/indexing.html#indexing-view-versus-copy\n"
     ]
    },
    {
     "name": "stdout",
     "output_type": "stream",
     "text": [
      "time: 4.83 s\n"
     ]
    }
   ],
   "source": [
    "ABrx_16sterile_ntnul, ABrx_16sterile_ntnul2= AB_SC_associated_cohort_restriction(ABrx_16sterile_ntnul)"
   ]
  },
  {
   "cell_type": "code",
   "execution_count": 23,
   "metadata": {},
   "outputs": [
    {
     "data": {
      "text/plain": [
       "130880"
      ]
     },
     "execution_count": 23,
     "metadata": {},
     "output_type": "execute_result"
    },
    {
     "name": "stdout",
     "output_type": "stream",
     "text": [
      "time: 2.86 ms\n"
     ]
    }
   ],
   "source": [
    "ABrx_16sterile_ntnul.head()\n",
    "len(ABrx_16sterile_ntnul)"
   ]
  },
  {
   "cell_type": "code",
   "execution_count": 24,
   "metadata": {},
   "outputs": [
    {
     "data": {
      "text/html": [
       "<div>\n",
       "<style scoped>\n",
       "    .dataframe tbody tr th:only-of-type {\n",
       "        vertical-align: middle;\n",
       "    }\n",
       "\n",
       "    .dataframe tbody tr th {\n",
       "        vertical-align: top;\n",
       "    }\n",
       "\n",
       "    .dataframe thead th {\n",
       "        text-align: right;\n",
       "    }\n",
       "</style>\n",
       "<table border=\"1\" class=\"dataframe\">\n",
       "  <thead>\n",
       "    <tr style=\"text-align: right;\">\n",
       "      <th></th>\n",
       "      <th>Unnamed: 0</th>\n",
       "      <th>row_id</th>\n",
       "      <th>subject_id</th>\n",
       "      <th>hadm_id</th>\n",
       "      <th>icustay_id</th>\n",
       "      <th>startdate</th>\n",
       "      <th>enddate</th>\n",
       "      <th>drug_type</th>\n",
       "      <th>drug</th>\n",
       "      <th>drug_name_poe</th>\n",
       "      <th>...</th>\n",
       "      <th>culture_charttime</th>\n",
       "      <th>spec_itemid</th>\n",
       "      <th>spec_type_desc</th>\n",
       "      <th>org_name</th>\n",
       "      <th>pt_ab_db</th>\n",
       "      <th>ab_culture_delta</th>\n",
       "      <th>t_0</th>\n",
       "      <th>t_end</th>\n",
       "      <th>t_end_consec</th>\n",
       "      <th>abduration</th>\n",
       "    </tr>\n",
       "  </thead>\n",
       "  <tbody>\n",
       "    <tr>\n",
       "      <th>0</th>\n",
       "      <td>16</td>\n",
       "      <td>2366833</td>\n",
       "      <td>24915</td>\n",
       "      <td>194424</td>\n",
       "      <td>267059.0</td>\n",
       "      <td>2182-12-10</td>\n",
       "      <td>2182-12-10</td>\n",
       "      <td>MAIN</td>\n",
       "      <td>Daptomycin</td>\n",
       "      <td>NaN</td>\n",
       "      <td>...</td>\n",
       "      <td>2182-11-12 01:50:00</td>\n",
       "      <td>70012</td>\n",
       "      <td>BLOOD CULTURE</td>\n",
       "      <td>None</td>\n",
       "      <td>cv_ab</td>\n",
       "      <td>27 days 22:10:00</td>\n",
       "      <td>2182-11-12</td>\n",
       "      <td>2182-11-26</td>\n",
       "      <td>2182-11-26</td>\n",
       "      <td>0 days</td>\n",
       "    </tr>\n",
       "    <tr>\n",
       "      <th>1</th>\n",
       "      <td>842</td>\n",
       "      <td>2366088</td>\n",
       "      <td>24915</td>\n",
       "      <td>194424</td>\n",
       "      <td>267059.0</td>\n",
       "      <td>2182-11-29</td>\n",
       "      <td>2182-12-24</td>\n",
       "      <td>MAIN</td>\n",
       "      <td>Imipenem-Cilastatin</td>\n",
       "      <td>NaN</td>\n",
       "      <td>...</td>\n",
       "      <td>2182-11-12 01:50:00</td>\n",
       "      <td>70012</td>\n",
       "      <td>BLOOD CULTURE</td>\n",
       "      <td>None</td>\n",
       "      <td>cv_ab</td>\n",
       "      <td>16 days 22:10:00</td>\n",
       "      <td>2182-11-12</td>\n",
       "      <td>2182-11-26</td>\n",
       "      <td>2182-11-26</td>\n",
       "      <td>25 days</td>\n",
       "    </tr>\n",
       "    <tr>\n",
       "      <th>2</th>\n",
       "      <td>59177</td>\n",
       "      <td>2366064</td>\n",
       "      <td>24915</td>\n",
       "      <td>194424</td>\n",
       "      <td>267059.0</td>\n",
       "      <td>2182-11-17</td>\n",
       "      <td>2182-11-20</td>\n",
       "      <td>MAIN</td>\n",
       "      <td>Vancomycin HCl</td>\n",
       "      <td>NaN</td>\n",
       "      <td>...</td>\n",
       "      <td>2182-11-12 01:50:00</td>\n",
       "      <td>70012</td>\n",
       "      <td>BLOOD CULTURE</td>\n",
       "      <td>None</td>\n",
       "      <td>cv_ab</td>\n",
       "      <td>4 days 22:10:00</td>\n",
       "      <td>2182-11-12</td>\n",
       "      <td>2182-11-26</td>\n",
       "      <td>2182-11-26</td>\n",
       "      <td>3 days</td>\n",
       "    </tr>\n",
       "    <tr>\n",
       "      <th>3</th>\n",
       "      <td>59181</td>\n",
       "      <td>2366065</td>\n",
       "      <td>24915</td>\n",
       "      <td>194424</td>\n",
       "      <td>267059.0</td>\n",
       "      <td>2182-11-17</td>\n",
       "      <td>2182-11-29</td>\n",
       "      <td>MAIN</td>\n",
       "      <td>Imipenem-Cilastatin</td>\n",
       "      <td>NaN</td>\n",
       "      <td>...</td>\n",
       "      <td>2182-11-12 01:50:00</td>\n",
       "      <td>70012</td>\n",
       "      <td>BLOOD CULTURE</td>\n",
       "      <td>None</td>\n",
       "      <td>cv_ab</td>\n",
       "      <td>4 days 22:10:00</td>\n",
       "      <td>2182-11-12</td>\n",
       "      <td>2182-11-26</td>\n",
       "      <td>2182-11-26</td>\n",
       "      <td>12 days</td>\n",
       "    </tr>\n",
       "    <tr>\n",
       "      <th>4</th>\n",
       "      <td>60474</td>\n",
       "      <td>2367574</td>\n",
       "      <td>24915</td>\n",
       "      <td>194424</td>\n",
       "      <td>267059.0</td>\n",
       "      <td>2183-01-12</td>\n",
       "      <td>2183-01-15</td>\n",
       "      <td>MAIN</td>\n",
       "      <td>Levofloxacin</td>\n",
       "      <td>NaN</td>\n",
       "      <td>...</td>\n",
       "      <td>2182-11-12 01:50:00</td>\n",
       "      <td>70012</td>\n",
       "      <td>BLOOD CULTURE</td>\n",
       "      <td>None</td>\n",
       "      <td>cv_ab</td>\n",
       "      <td>60 days 22:10:00</td>\n",
       "      <td>2182-11-12</td>\n",
       "      <td>2182-11-26</td>\n",
       "      <td>2182-11-26</td>\n",
       "      <td>3 days</td>\n",
       "    </tr>\n",
       "  </tbody>\n",
       "</table>\n",
       "<p>5 rows × 46 columns</p>\n",
       "</div>"
      ],
      "text/plain": [
       "   Unnamed: 0   row_id  subject_id  hadm_id  icustay_id   startdate  \\\n",
       "0          16  2366833       24915   194424    267059.0  2182-12-10   \n",
       "1         842  2366088       24915   194424    267059.0  2182-11-29   \n",
       "2       59177  2366064       24915   194424    267059.0  2182-11-17   \n",
       "3       59181  2366065       24915   194424    267059.0  2182-11-17   \n",
       "4       60474  2367574       24915   194424    267059.0  2183-01-12   \n",
       "\n",
       "      enddate drug_type                 drug drug_name_poe    ...      \\\n",
       "0  2182-12-10      MAIN           Daptomycin           NaN    ...       \n",
       "1  2182-12-24      MAIN  Imipenem-Cilastatin           NaN    ...       \n",
       "2  2182-11-20      MAIN       Vancomycin HCl           NaN    ...       \n",
       "3  2182-11-29      MAIN  Imipenem-Cilastatin           NaN    ...       \n",
       "4  2183-01-15      MAIN         Levofloxacin           NaN    ...       \n",
       "\n",
       "    culture_charttime spec_itemid  spec_type_desc  org_name pt_ab_db  \\\n",
       "0 2182-11-12 01:50:00       70012   BLOOD CULTURE      None    cv_ab   \n",
       "1 2182-11-12 01:50:00       70012   BLOOD CULTURE      None    cv_ab   \n",
       "2 2182-11-12 01:50:00       70012   BLOOD CULTURE      None    cv_ab   \n",
       "3 2182-11-12 01:50:00       70012   BLOOD CULTURE      None    cv_ab   \n",
       "4 2182-11-12 01:50:00       70012   BLOOD CULTURE      None    cv_ab   \n",
       "\n",
       "  ab_culture_delta         t_0       t_end t_end_consec abduration  \n",
       "0 27 days 22:10:00  2182-11-12  2182-11-26   2182-11-26     0 days  \n",
       "1 16 days 22:10:00  2182-11-12  2182-11-26   2182-11-26    25 days  \n",
       "2  4 days 22:10:00  2182-11-12  2182-11-26   2182-11-26     3 days  \n",
       "3  4 days 22:10:00  2182-11-12  2182-11-26   2182-11-26    12 days  \n",
       "4 60 days 22:10:00  2182-11-12  2182-11-26   2182-11-26     3 days  \n",
       "\n",
       "[5 rows x 46 columns]"
      ]
     },
     "execution_count": 24,
     "metadata": {},
     "output_type": "execute_result"
    },
    {
     "name": "stdout",
     "output_type": "stream",
     "text": [
      "time: 22.2 ms\n"
     ]
    }
   ],
   "source": [
    "len(ABrx_16sterile_ntnul2)\n",
    "ABrx_16sterile_ntnul2.head()"
   ]
  },
  {
   "cell_type": "code",
   "execution_count": 25,
   "metadata": {},
   "outputs": [
    {
     "name": "stdout",
     "output_type": "stream",
     "text": [
      "time: 15.2 ms\n"
     ]
    }
   ],
   "source": [
    "###Algorithm to squash all dates into a timespan that covers the continuous days on any AB starting at the first ab within 24 hour of a sc\n",
    "@memory.cache\n",
    "def update_t_end(t):  \n",
    "    t.loc[\n",
    "        ((pd.to_datetime(t['startdate']) <= pd.to_datetime(t['t_end_consec'])) & (\n",
    "            pd.to_datetime(t['enddate']) >= pd.to_datetime(t['t_end_consec']))),'t_end_consec']= t.loc[\n",
    "        ((pd.to_datetime(t['startdate']) <= pd.to_datetime(t['t_end_consec'])) & (\n",
    "            pd.to_datetime(t['enddate']) >= pd.to_datetime(t['t_end_consec']))),'enddate']\n",
    "    t['t_end_consec']= t.groupby('icustay_id')['t_end_consec'].transform(lambda x: max(x))\n",
    "    t['abduration']= pd.to_datetime(t['t_end_consec'])-pd.to_datetime(t['t_0'])\n",
    "    return(t)\n"
   ]
  },
  {
   "cell_type": "markdown",
   "metadata": {},
   "source": [
    "### Calculate and annotate the total continuous time on ANY antibiotic during each patient’s icu stay"
   ]
  },
  {
   "cell_type": "code",
   "execution_count": null,
   "metadata": {},
   "outputs": [
    {
     "name": "stdout",
     "output_type": "stream",
     "text": [
      "time: 18.2 ms\n"
     ]
    }
   ],
   "source": [
    "def t_end_consec_annotation(ABrx_16sterile_ntnul2):\n",
    "    \"\"\"\n",
    "    input: df, \n",
    "    designed for ABrx_16sterile_ntnul2-this should be df where all ab_icustart dates are greater than or equal to the first 24 hour associated ab start date after icu admission.\n",
    "\n",
    "    output: ABrx_16sterile_ntnul_final: ABrx_16sterile_ntnul2 with t_start and t_end updated. each antibiotic \n",
    "    \n",
    "    ABrx_16sterile_ntnul_finalPT: final by pt spreadsheet where the first ab prescription meeting the 24hr sc window is listed. \n",
    "    said another way, using the prescription antibiotic list and the list of dates of ssc cultures, building patient list that annotates first ab within 24 hr of sc for each pt. \n",
    "    \"\"\"\n",
    "        \n",
    "    important_columns=[\n",
    "        'subject_id',\n",
    "        'icustay_id',\n",
    "        'hadm_id', #added 8/14/18\n",
    "        'drug',\n",
    "        'culture_charttime',\n",
    "        'ab_culture_delta',\n",
    "        'startdate',\n",
    "        'enddate',\n",
    "        't_0',\n",
    "        't_end',\n",
    "        'abduration',\n",
    "        't_end_consec',\n",
    "        'ICU_admit',\n",
    "        'ICU_disch'\n",
    "    ]\n",
    "    ABrx_16sterile_ntnul_final= ABrx_16sterile_ntnul2[important_columns].sort_values( \n",
    "        ['subject_id',\n",
    "         'hadm_id', #added 8/14/18\n",
    "         'icustay_id',\n",
    "         'startdate',\n",
    "         'abduration'], ascending=[True,True, True, False, True])  #added another True 8/14/18\n",
    "    \n",
    "    #updating t_end consec by running my update_t_end algorithm 5 times. \n",
    "    i=1\n",
    "    while i<6:\n",
    "        ABrx_16sterile_ntnul_final= update_t_end(ABrx_16sterile_ntnul_final)\n",
    "        i+=1\n",
    "    \n",
    "    #making a final by pt spreadsheet where the first ab prescription meeting the 24hr sc window is listed\n",
    "    ABrx_16sterile_ntnul_finalPT = ABrx_16sterile_ntnul_final.sort_values(\n",
    "        ['hadm_id','icustay_id','startdate'], ascending=[True,True,True]).drop_duplicates('hadm_id')  #changed subject_id to hadm_id on 8/14/18\n",
    "    ABrx_16sterile_ntnul_finalPT = ABrx_16sterile_ntnul_finalPT.sort_values(\n",
    "        ['hadm_id','icustay_id','startdate'], ascending=[True,True,True]).drop_duplicates('icustay_id')  #changed subject_id to hadm_id on 8/14/18\n",
    "    \n",
    "    return(ABrx_16sterile_ntnul_final, ABrx_16sterile_ntnul_finalPT)\n"
   ]
  },
  {
   "cell_type": "code",
   "execution_count": null,
   "metadata": {},
   "outputs": [
    {
     "name": "stderr",
     "output_type": "stream",
     "text": [
      "/Users/geickelb1/anaconda/envs/rpy-env/lib/python3.6/site-packages/ipykernel_launcher.py:38: UserWarning: Persisting input arguments took 1.76s to run.\n",
      "If this happens often in your code, it can cause performance problems \n",
      "(results will be correct in all cases). \n",
      "The reason for this is probably some large input arguments for a wrapped\n",
      " function (e.g. large strings).\n",
      "THIS IS A JOBLIB ISSUE. If you can, kindly provide the joblib's team with an\n",
      " example so that they can fix the problem.\n"
     ]
    }
   ],
   "source": [
    "ABrx_16sterile_ntnul_final, ABrx_16sterile_ntnul_finalPT= t_end_consec_annotation(ABrx_16sterile_ntnul2)"
   ]
  },
  {
   "cell_type": "code",
   "execution_count": null,
   "metadata": {
    "scrolled": true
   },
   "outputs": [],
   "source": [
    "#all patients with appropriate antibiotic timing in relation to sterile culture. \n",
    "print(ABrx_16sterile_ntnul_finalPT['abduration'].describe())\n",
    "\n",
    "(ABrx_16sterile_ntnul_finalPT['abduration'] / pd.Timedelta(days=1)).hist(bins = 63)#bins=xrange(min(compare_table['date delta']), 120, 1))\n",
    "plt.xlabel(' time on antibiotics (days)')\n",
    "plt.ylabel('# of icustay_ids');\n",
    "\n",
    "print(ABrx_16sterile_ntnul_finalPT.loc[ABrx_16sterile_ntnul_finalPT.loc[:,'abduration']<= pd.Timedelta(days=7),'abduration'].value_counts())\n",
    "print(ABrx_16sterile_ntnul_finalPT.loc[ABrx_16sterile_ntnul_finalPT.loc[:,'abduration']> pd.Timedelta(days=7),'abduration'].value_counts(bins=1))\n",
    "#4/24: n=12613. \n",
    "#7/6/18: n=12611"
   ]
  },
  {
   "cell_type": "code",
   "execution_count": null,
   "metadata": {},
   "outputs": [],
   "source": [
    "#ABrx_16sterile_ntnul_finalPT.head()\n",
    "ABrx_16sterile_ntnul_finalPT.loc[:,'hadm_id'].value_counts().describe()"
   ]
  },
  {
   "cell_type": "code",
   "execution_count": null,
   "metadata": {},
   "outputs": [],
   "source": [
    "ABrx_16sterile_ntnul_finalPT.loc[:,'icustay_id'].value_counts().describe()"
   ]
  },
  {
   "cell_type": "markdown",
   "metadata": {},
   "source": [
    "# adding in DOD\n",
    "we realized later on that we need dod in our spreadsheet. below adds it to our final patient set. "
   ]
  },
  {
   "cell_type": "code",
   "execution_count": null,
   "metadata": {
    "scrolled": true
   },
   "outputs": [],
   "source": [
    "#task 3, dod\n",
    "#issue: there is a differential on 155 ssd's. \n",
    "\n",
    "#(DOD_HOSP) or the social security database (DOD_SSN).\n",
    "\n",
    "\n",
    "list_pt =ABrx_16sterile_ntnul_finalPT['subject_id'].unique()\n",
    "dod_sql = query_schema + \"\"\"\n",
    "SELECT subject_id, DOD_HOSP, DOD_SSN \n",
    "from mimiciii.patients\n",
    "WHERE subject_id in {}\n",
    "\"\"\".format(tuple(list_pt))     \n",
    "dod_df = pd.read_sql_query(dod_sql,conn)\n",
    "\n",
    "dod_df['delta']= dod_df['dod_hosp']- dod_df['dod_ssn']\n",
    "#dod_df.loc[dod_df.loc[:,'delta'].notnull()!=timedelta(days=0),:]\n",
    "\n",
    "dod_df2= dod_df[dod_df['delta'].notnull()]\n",
    "dod_df2.loc[dod_df2.loc[:,'delta']!= timedelta(days=0),:]"
   ]
  },
  {
   "cell_type": "code",
   "execution_count": null,
   "metadata": {},
   "outputs": [],
   "source": [
    "# categorize pt into ab bins"
   ]
  },
  {
   "cell_type": "code",
   "execution_count": null,
   "metadata": {},
   "outputs": [],
   "source": [
    "#task 4, categorize every patient into ab bins\n",
    "# group 1= partial= is antibiotics for 3 days or less\n",
    "# group 2= full= is antibiotics for 5 or more days or died during ab course\n",
    "\n",
    "ABrx_16sterile_ntnul_finalPT = pd.merge(\n",
    "    ABrx_16sterile_ntnul_finalPT,\n",
    "    dod_df[['subject_id','dod_hosp','dod_ssn']],\n",
    "    left_on= 'subject_id',\n",
    "    right_on='subject_id',\n",
    "    how = 'left')\n",
    "\n",
    "ABrx_16sterile_ntnul_finalPT['ab_course']=''\n",
    "\n",
    "ABrx_16sterile_ntnul_finalPT.loc[\n",
    "    ABrx_16sterile_ntnul_finalPT.loc[:,'abduration'] <= pd.Timedelta(days=4),'ab_course']='partial' #days changed from 3 to 4 on 7/16/18 based on Nelson's suggestion\n",
    "\n",
    "ABrx_16sterile_ntnul_finalPT.loc[\n",
    "    ABrx_16sterile_ntnul_finalPT.loc[:,'abduration'] >= pd.Timedelta(days=5),'ab_course']='full'\n",
    "\n",
    "ABrx_16sterile_ntnul_finalPT.loc[\n",
    "    ((pd.to_datetime(ABrx_16sterile_ntnul_finalPT['t_end_consec'])+ pd.DateOffset(1)) \n",
    "     >= pd.to_datetime(ABrx_16sterile_ntnul_finalPT['dod_hosp'])),\n",
    "    'ab_course']='full'\n",
    "\n",
    "ABrx_16sterile_ntnul_finalPT.loc[\n",
    "    ((pd.to_datetime(ABrx_16sterile_ntnul_finalPT['t_end_consec'])+ pd.DateOffset(1)) \n",
    "     >= pd.to_datetime(ABrx_16sterile_ntnul_finalPT['dod_ssn'])),\n",
    "    'ab_course']='full'\n",
    "\n",
    "print(len(\n",
    "    ABrx_16sterile_ntnul_finalPT.loc[\n",
    "        ABrx_16sterile_ntnul_finalPT.loc[:,'ab_course']=='full','subject_id'].unique())) #5485 full patients -> 6188 full on 7/6\n",
    "print(len(\n",
    "    ABrx_16sterile_ntnul_finalPT.loc[\n",
    "        ABrx_16sterile_ntnul_finalPT.loc[:,'ab_course']=='partial','subject_id'].unique())) #5949 partial patients -> 5305 partial on 7/6\n"
   ]
  },
  {
   "cell_type": "code",
   "execution_count": null,
   "metadata": {},
   "outputs": [],
   "source": [
    "print(\n",
    "    ABrx_16sterile_ntnul_finalPT.loc[\n",
    "        ABrx_16sterile_ntnul_finalPT.loc[:,'abduration']<= pd.Timedelta(days=7),'abduration'].value_counts())\n",
    "print(\n",
    "    ABrx_16sterile_ntnul_finalPT.loc[\n",
    "        ABrx_16sterile_ntnul_finalPT.loc[:,'abduration']>= pd.Timedelta(days=8),'abduration'].value_counts(bins=1))"
   ]
  },
  {
   "cell_type": "code",
   "execution_count": null,
   "metadata": {},
   "outputs": [],
   "source": [
    "##not sure the purpose of this:\n",
    "#ABrx_16sterile_ntnul_finalPT.loc[ABrx_16sterile_ntnul_finalPT.loc[:,'abduration']== pd.Timedelta(days=0),:]"
   ]
  },
  {
   "cell_type": "code",
   "execution_count": null,
   "metadata": {},
   "outputs": [],
   "source": [
    "ABrx_16sterile_ntnul_finalPT['icustay_id'].nunique() #x12611 subject id's, x12611 icustay id's ->13763 icustay_id\n",
    "#ABrx_16sterile_ntnul_finalPT['subject_id'].nunique() #11557 subject_id"
   ]
  },
  {
   "cell_type": "markdown",
   "metadata": {},
   "source": [
    "# Extracting BLOOD Culture results\n",
    "### accounting for all sterile cultures taken within 72 hours of the first ab. \n",
    "4/22/18 (overhauled on 1/25/19(\n",
    "\n",
    "we now have a by pt spreadsheet where the first ab prescription meeting the 24hr sc window is listed. these are only for ab's that have a ssc within 24 hours of starting.\n",
    "for each patient we have the ab start date (t_0)  and the end of the consecutive ab time window (t_end)"
   ]
  },
  {
   "cell_type": "code",
   "execution_count": null,
   "metadata": {},
   "outputs": [],
   "source": [
    "def SSC_for_cohort(final_abdata_pt_df=ABrx_16sterile_ntnul_finalPT,\n",
    "                   ssc_sql=sterile_pt_df,\n",
    "                   blood_only=False,\n",
    "                   n_days=3,\n",
    "                   n_day_column='t_0_sc',\n",
    "                   first_ssc_after_ICU=False,\n",
    "                   filter_t0_after_icu=False,\n",
    "                   n_filter_days=4):\n",
    "    \"\"\"\n",
    "    input: ABrx_16sterile_ntnul_finalPT: final by pt spreadsheet where the first ab prescription meeting the 24hr sc window is listed. \n",
    "    said another way, using the prescription antibiotic list and the list of dates of ssc cultures, building patient list that annotates first ab within 24 hr of sc for each pt. \n",
    "    \n",
    "    n_days\n",
    "    sterile_pt_df: the primary sql query df for ssc info from mimic. \n",
    "    \n",
    "    blood_only: option to restrict to only blood cultures\n",
    "    \n",
    "    n_days, n_day_column: origionally the criteria was to find cultures within 3 days window of t_0 and t_0_sc, if any were pos then patient was culture pos, else negative. we can sepcify column and day window if we want to look from ICU_admit instead.\n",
    "    first_ssc_after_ICU: allows option to restrict the culture result output to only those after ICU admission. \n",
    "    \n",
    "    outputs:\n",
    "    \n",
    "        all_cultures_pt_df_ab_cohort: all (neg and pos) culture results for patients meeting criteria\n",
    "        notneg_cultures_pt_df_ab_cohort: just positive culture results for patients meeting criteria\n",
    "        positive_organisms: all positive organisms found in ssc instances between t_0_sc and n_day_column. \n",
    "    \"\"\"\n",
    "    \n",
    "    #option criteria1: to restrict to only blood cultures\n",
    "    if blood_only == True:\n",
    "        ssc_sql=(ssc_sql.loc[ssc_sql.loc[:,'spec_type_desc']\n",
    "                                     .isin([\"BLOOD CULTURE\",\n",
    "                                            'BLOOD CULTURE ( MYCO/F LYTIC BOTTLE)'])\n",
    "                                     ,:])\n",
    "   \n",
    "    ab_cohort_pt_info = final_abdata_pt_df[['hadm_id','culture_charttime','t_0','ICU_admit','dod_ssn']] #culture charttime is the culture recorded as being within 24 hr of t_0\n",
    "    \n",
    "    ##optional criteria2: only patients who started their ab (t_0) within n_filter_days of icu_admit?  -this is to limit to non-2dary infections.\n",
    "    if filter_t0_after_icu == True:\n",
    "        n_filter_days= pd.Timedelta('%s days' %(n_filter_days))\n",
    "        ab_cohort_pt_info['t0_admit_delta']=pd.to_datetime(ab_cohort_pt_info['t_0']) - pd.to_datetime((ab_cohort_pt_info['ICU_admit']))\n",
    "        ab_cohort_pt_info = ab_cohort_pt_info[ab_cohort_pt_info['t0_admit_delta']<= n_filter_days]\n",
    "    \n",
    "    sterile_pt_df_ab_cohort = pd.merge(ssc_sql,\n",
    "                                       ab_cohort_pt_info ,\n",
    "                                       left_on='hadm_id',\n",
    "                                       right_on='hadm_id',\n",
    "                                       how='inner' ) #adding ['hadm_id','culture_charttime','t_0','ICU_admit','dod_ssn'] onto the culture results for all patients\n",
    "    \n",
    "    #making the Null charttime values = to chartdate\n",
    "    cd= sterile_pt_df_ab_cohort.loc[sterile_pt_df_ab_cohort.loc[:,'charttime'].isna(),\"chartdate\"]\n",
    "    sterile_pt_df_ab_cohort.loc[sterile_pt_df_ab_cohort.loc[:,'charttime'].isna(),\"charttime\"]= cd\n",
    "    sterile_pt_df_ab_cohort= sterile_pt_df_ab_cohort.rename(columns={'culture_charttime':'t_0_sc'})\n",
    "    \n",
    "    #ensuring columns are in datetime format\n",
    "    sterile_pt_df_ab_cohort['t_0_sc']= pd.to_datetime(sterile_pt_df_ab_cohort['t_0_sc'])\n",
    "    sterile_pt_df_ab_cohort['charttime']= pd.to_datetime(sterile_pt_df_ab_cohort['charttime'])\n",
    "    sterile_pt_df_ab_cohort['ICU_admit']= pd.to_datetime(sterile_pt_df_ab_cohort['ICU_admit'])\n",
    "    #sterile_pt_df_ab_cohort.groupby('hadm_id')['charttime'].transform(lambda x: min(x))#was used to check that culture_charttime is indeed first sc ab within 24 hr of t_0.\n",
    "    \n",
    "    ####filtering criteria for all SSC results:######\n",
    "    \n",
    "    #optional criteria3: limiting to only rows where ssc was performed after ICU admit.\n",
    "    if first_ssc_after_ICU ==True:        \n",
    "        sterile_pt_df_ab_cohort['ssc_admit_delta']= pd.to_datetime(sterile_pt_df_ab_cohort['charttime']) -pd.to_datetime(sterile_pt_df_ab_cohort['ICU_admit'])\n",
    "        sterile_pt_df_ab_cohort= sterile_pt_df_ab_cohort[sterile_pt_df_ab_cohort['ssc_admit_delta']>pd.Timedelta('0 days')] #only rows where culture occured in icu. \n",
    "    \n",
    "    \n",
    "    #criteria1: only results at or after the first positive within 24 hr of t_0\n",
    "    criteria1= sterile_pt_df_ab_cohort['charttime']>=sterile_pt_df_ab_cohort['t_0_sc'] #t_0_scis the first ssc within 24 hr of t_0\n",
    "    \n",
    "    #criteria2: only results within n_days of n_day_column\n",
    "    t_window= pd.Timedelta('%s days' %(n_days))\n",
    "    criteria2= (sterile_pt_df_ab_cohort['charttime'])<=(sterile_pt_df_ab_cohort[n_day_column]+ t_window) #ensure it's within n_days of n_day_column (default = culture_chartime, but can switch to t_admit)\n",
    "\n",
    "    \n",
    "    all_cultures_pt_df_ab_cohort = sterile_pt_df_ab_cohort[criteria1 & criteria2].drop_duplicates(['hadm_id', 'org_name', 'charttime'])\n",
    "    notneg_cultures_pt_df_ab_cohort= all_cultures_pt_df_ab_cohort[all_cultures_pt_df_ab_cohort['org_name'].notnull()].sort_values(['hadm_id','charttime'], ascending=[True, False]) #16022 rows... 6619 hadm_id\n",
    "    positive_organisms= notneg_cultures_pt_df_ab_cohort['org_name'].value_counts()\n",
    "    \n",
    "    \n",
    "    final_pt_df= all_cultures_pt_df_ab_cohort[['subject_id','hadm_id','t_0_sc']] \n",
    "       \n",
    "    return(all_cultures_pt_df_ab_cohort,notneg_cultures_pt_df_ab_cohort,positive_organisms, final_pt_df)"
   ]
  },
  {
   "cell_type": "code",
   "execution_count": null,
   "metadata": {},
   "outputs": [],
   "source": [
    "# #for origional cohort:\n",
    "\n",
    "# all_cultures_pt_df_ab_cohort, notneg_cultures_pt_df_ab_cohort, positive_organisms, final_pt_df1 = SSC_for_cohort(final_abdata_pt_df=ABrx_16sterile_ntnul_finalPT,\n",
    "#                                                                                                    ssc_sql=sterile_pt_df,\n",
    "#                                                                                                    blood_only=False,\n",
    "#                                                                                                    n_days=3,\n",
    "#                                                                                                   n_day_column='t_0_sc',\n",
    "#                                                                                                   first_ssc_after_ICU=False)"
   ]
  },
  {
   "cell_type": "code",
   "execution_count": null,
   "metadata": {},
   "outputs": [],
   "source": [
    "# #for testing:\n",
    "# all_cultures_pt_df_ab_cohort, notneg_cultures_pt_df_ab_cohort, positive_organisms, final_pt_df1 = SSC_for_cohort(final_abdata_pt_df=ABrx_16sterile_ntnul_finalPT,\n",
    "#                                                                                                    ssc_sql=sterile_pt_df,\n",
    "#                                                                                                    blood_only=False,\n",
    "#                                                                                                    n_days=3,\n",
    "#                                                                                                   n_day_column='t_0_sc',\n",
    "#                                                                                                   first_ssc_after_ICU=True)\n"
   ]
  },
  {
   "cell_type": "code",
   "execution_count": null,
   "metadata": {},
   "outputs": [],
   "source": [
    "#for PAII cohort:\n",
    "all_cultures_pt_df_ab_cohort, notneg_cultures_pt_df_ab_cohort, positive_organisms, final_pt_df1 = SSC_for_cohort(final_abdata_pt_df=ABrx_16sterile_ntnul_finalPT,\n",
    "                                                                                                   ssc_sql=sterile_pt_df,\n",
    "                                                                                                   blood_only=True,\n",
    "                                                                                                   n_days=3,\n",
    "                                                                                                  n_day_column='t_0_sc',\n",
    "                                                                                                  first_ssc_after_ICU=True,\n",
    "                                                                                                  filter_t0_after_icu=True,\n",
    "                                                                                                   n_filter_days=4)"
   ]
  },
  {
   "cell_type": "code",
   "execution_count": null,
   "metadata": {},
   "outputs": [],
   "source": [
    "all_cultures_pt_df_ab_cohort['hadm_id'].nunique() #15203 -> 12388  if we choose only after ICU admit\n",
    "\n",
    "#9129-> 8731 with icu delta filter"
   ]
  },
  {
   "cell_type": "code",
   "execution_count": null,
   "metadata": {},
   "outputs": [],
   "source": []
  },
  {
   "cell_type": "markdown",
   "metadata": {},
   "source": [
    " From what I hear you saying, we could look at the first positive infection culture after the \"suspected infection\" clock starts (t_0) up through 72 hours (t_72). for each patient, we find their positive_ssc_t0 and collect data between t_0 and positive_ssc_t0+72. the idea behind this is that we want to use the data starting from the point in time they are suspected of having an infection (ie when ab start) up through 12 hours after they get their first positive culture taken.  is this correct?\n",
    " \n",
    " * no collect data from culture start to "
   ]
  },
  {
   "cell_type": "code",
   "execution_count": null,
   "metadata": {},
   "outputs": [],
   "source": [
    "#big question to answer, all sterile cultures within 48 hours of what? i am going to set timeframe for each patient: \n",
    "#look at all cultures between the first SC within 24 hour of ab and up to 48 hours after first ab dose in ICU.\n",
    "#this means the max i will cover is 72 hours. "
   ]
  },
  {
   "cell_type": "code",
   "execution_count": null,
   "metadata": {},
   "outputs": [],
   "source": [
    "list(ABrx_16sterile_ntnul)\n",
    "ABrx_16sterile_ntnul['subject_id'].nunique() #19000 ->16512 1/21/19"
   ]
  },
  {
   "cell_type": "code",
   "execution_count": null,
   "metadata": {},
   "outputs": [],
   "source": [
    "###historical record, replaced with SSC_for_cohort. which has more simple and interpretable code. \n",
    "\n",
    "\n",
    "# def pt_sc_results(ABrx_16sterile_ntnul):\n",
    "    \n",
    "#     \"\"\"\n",
    "#     input: ABrx_16sterile_ntnul (updated) annotated with t_0 and t_end for the FIRST instance of an ab being given in the icu \n",
    "#     within 24 hours of a sterile site culture.\n",
    "    \n",
    "#     outputs:\n",
    "    \n",
    "#         patients_sc_dates: \n",
    "#         final_pts_window_sc: all sterile site culture instances between t_0_sc and t_end_sc for patients \n",
    "#         positive_organisms: all positive organisms found in ssc instances between t_0_sc and t_end_sc. \n",
    "#     \"\"\"\n",
    "    \n",
    "\n",
    "#     #filtering to all rows where the patient has a ab and ssc within 24 hr.\n",
    "#     lessthan24hr= abs(pd.to_datetime(ABrx_16sterile_ntnul['startdate']) - pd.to_datetime(\n",
    "#         ABrx_16sterile_ntnul['culture_charttime'])) <='24:00:00'\n",
    "#     ABrx_ab24hrdelta= ABrx_16sterile_ntnul.loc[lessthan24hr]\n",
    "\n",
    "    \n",
    "#     ABrx_ab24hrdelta['t_0_sc']= ABrx_ab24hrdelta.groupby('icustay_id')['culture_charttime'].transform(lambda x: min(x))\n",
    "#     ABrx_ab24hrdelta['t_end_sc']= pd.to_datetime(ABrx_ab24hrdelta['t_0']) + timedelta(days=3)\n",
    "\n",
    "#     #filtering it to only essential info, and only for patients who made it through all other criteria. \n",
    "#     patients_sc_dates= ABrx_ab24hrdelta[['subject_id','icustay_id','hadm_id','t_0_sc','t_end_sc']].drop_duplicates('icustay_id')\n",
    "    \n",
    "#     #filtering to only pt in ABrx_16sterile_ntnul_finalPT\n",
    "#     patients_sc_dates= patients_sc_dates.loc[\n",
    "#         patients_sc_dates.loc[:,'icustay_id'].isin(\n",
    "#             list(ABrx_16sterile_ntnul_finalPT['icustay_id'].unique())),:\n",
    "#     ] \n",
    "\n",
    "#     final_pts_all_sc= sterile_pt_df.loc[sterile_pt_df.loc[:,'hadm_id'].isin(list(patients_sc_dates['hadm_id'].unique())),:] \n",
    "#     final_pts_all_sc= pd.merge(final_pts_all_sc,patients_sc_dates[['hadm_id','t_0_sc','t_end_sc']],\n",
    "#                                left_on= 'hadm_id',\n",
    "#                                right_on='hadm_id',\n",
    "#                                how = 'inner')\n",
    "\n",
    "#     #pd.to_datetime(ABrx_16sterile_ntnul['startdate']) - pd.to_datetime(ABrx_16sterile_ntnul['culture_charttime'])\n",
    "\n",
    "#     #all blood culture instances between t_0_sc and t_end_sc for patients     \n",
    "#     final_pts_window_sc= final_pts_all_sc[(final_pts_all_sc['charttime']>=final_pts_all_sc['t_0_sc']) &\n",
    "#                     (final_pts_all_sc['charttime']<=final_pts_all_sc['t_end_sc']) &\n",
    "#                     final_pts_all_sc['org_name'].notnull()] \n",
    "    \n",
    "#     final_pts_window_sc= final_pts_window_sc.drop_duplicates(['hadm_id', 'org_name', 'charttime'])\n",
    "\n",
    "\n",
    "#     positive_organisms= final_pts_all_sc[(final_pts_all_sc['charttime']>=final_pts_all_sc['t_0_sc']) &\n",
    "#                     (final_pts_all_sc['charttime']<=final_pts_all_sc['t_end_sc']) &\n",
    "#                     final_pts_all_sc['org_name'].notnull()]['org_name'].value_counts()\n",
    "    \n",
    "#     return(patients_sc_dates, final_pts_window_sc, positive_organisms)"
   ]
  },
  {
   "cell_type": "code",
   "execution_count": null,
   "metadata": {},
   "outputs": [],
   "source": [
    "#patients_sc_dates, final_pts_window_sc, positive_organisms = pt_sc_results(ABrx_16sterile_ntnul)"
   ]
  },
  {
   "cell_type": "code",
   "execution_count": null,
   "metadata": {},
   "outputs": [],
   "source": [
    "#final_pts_window_sc #~3000 with only blood, 8582 with all"
   ]
  },
  {
   "cell_type": "code",
   "execution_count": null,
   "metadata": {},
   "outputs": [],
   "source": [
    "# print(final_pts_window_sc['hadm_id'].nunique()) #wow only 2107->2156 hadm_id's within t_0 and t_42->t_72 a positive blood culture?\n",
    "\n",
    "###grr wtf, somehow my n went down to 2074 even after expanding criteria to be t_0 include all sc, and just find positive BLOOD cultures.\n",
    "###how does thsi shit happen?"
   ]
  },
  {
   "cell_type": "code",
   "execution_count": null,
   "metadata": {},
   "outputs": [],
   "source": [
    "#print(len(patients_sc_dates), len(final_pts_window_sc), len(positive_organisms))"
   ]
  },
  {
   "cell_type": "markdown",
   "metadata": {},
   "source": [
    "# SC culture filtering and ab death dose adjust"
   ]
  },
  {
   "cell_type": "markdown",
   "metadata": {},
   "source": [
    "###  import the annotated culture list, exclude the excludes, and get an # of positives for the staphs.\n",
    "\n",
    "08/16/18 qc. after chaning the patient criteira, i found that a lot of patients with multiple icustays now have identical culture results. need to explore where this is occuring.\n",
    "\n",
    "\n"
   ]
  },
  {
   "cell_type": "code",
   "execution_count": null,
   "metadata": {},
   "outputs": [],
   "source": [
    "notneg_cultures_pt_df_ab_cohort.loc[notneg_cultures_pt_df_ab_cohort.loc[:,'hadm_id']==169392, :] #13"
   ]
  },
  {
   "cell_type": "code",
   "execution_count": null,
   "metadata": {},
   "outputs": [],
   "source": [
    "#all sterile site culture instances between t_0_sc and t_end_sc for patients annotated.\n",
    "#need further processing to make a by patient +/- within t_0_sc and t_end_sc call. \n",
    "##details: all staph infections require 2 positive cultures in time window. \n",
    "annotated_sc = pd.read_csv('/Users/geickelb1/Documents/GitHub/mimiciii-antibiotics-modeling/data/processed/positive_organisms_4-24-18_NSPComments.csv')\n",
    "#organisms that grew in sc in our patients. annotation key:\n",
    "#1= eliminate\n",
    "#0= keep\n",
    "#2= requires 2 positives in same patient within the timewindow. \n",
    "notneg_cultures_pt_df_ab_cohort= pd.merge(notneg_cultures_pt_df_ab_cohort,annotated_sc[['org_name','Eliminate']],\n",
    "                              left_on= 'org_name',\n",
    "                              right_on='org_name',\n",
    "                              how = 'left')\n",
    "\n"
   ]
  },
  {
   "cell_type": "code",
   "execution_count": null,
   "metadata": {},
   "outputs": [],
   "source": [
    "#final_pts_window_sc\n",
    "notneg_cultures_pt_df_ab_cohort[notneg_cultures_pt_df_ab_cohort['hadm_id']==112218]\n",
    "\n",
    "# staph_count[staph_count['hadm_id']==112218]\n"
   ]
  },
  {
   "cell_type": "code",
   "execution_count": null,
   "metadata": {},
   "outputs": [],
   "source": [
    "def sc_pos_filter(notneg_cultures_pt_df_ab_cohort):\n",
    "    #coag_neg_staph_counting:\n",
    "    staph_cultures= notneg_cultures_pt_df_ab_cohort.loc[notneg_cultures_pt_df_ab_cohort.loc[:,'Eliminate']==2,:].drop_duplicates(['hadm_id', 'org_name', 'charttime'])\n",
    "\n",
    "    staph_count = staph_cultures.groupby('hadm_id')['hadm_id'].agg([\"count\"]).rename(columns={'count': 'staph_count'})\n",
    "    staph_count= pd.DataFrame(staph_count).reset_index()\n",
    "\n",
    "    merged = pd.merge(\n",
    "        notneg_cultures_pt_df_ab_cohort,\n",
    "        staph_count, #changed  subject_id to hadm_id 08/16/2018\n",
    "        left_on= 'hadm_id', #changed  subject_id to hadm_id 08/16/2018\n",
    "        right_on='hadm_id', #changed  subject_id to hadm_id 08/16/2018\n",
    "        how = 'left')\n",
    "\n",
    "    #combining staph, positive org and neg org criteria to make only positive org list. \n",
    "    criteria1= merged.loc[:,'Eliminate']==0\n",
    "    criteria2= merged.loc[:,'staph_count']>1\n",
    "    merged= merged[criteria1|criteria2] #all unique values betwen the two\n",
    "    merged= merged[merged['Eliminate']!=1] #eliminate =1 means to get rid of culture result, ie likely contamination\n",
    "    #merged\n",
    "    return(merged)\n",
    "\n",
    "pos_cultures_pt_df_ab_cohort = sc_pos_filter(notneg_cultures_pt_df_ab_cohort) #31108 #all pos sc for patients with any positives.\n",
    "pos_cultures_pt_df_ab_cohort= pos_cultures_pt_df_ab_cohort.drop_duplicates(['hadm_id', 'org_name', 'charttime']) #removing duplicates, not sure why dups exist\n",
    "\n",
    "pos_cultures_pt_df_ab_cohort_list= list(pos_cultures_pt_df_ab_cohort['hadm_id'].unique()) #changed to hadm_id 08/16/2018\n"
   ]
  },
  {
   "cell_type": "code",
   "execution_count": null,
   "metadata": {},
   "outputs": [],
   "source": [
    "pos_cultures_pt_df_ab_cohort.sort_values(['hadm_id', 'org_name', 'charttime']).head(10)"
   ]
  },
  {
   "cell_type": "markdown",
   "metadata": {},
   "source": [
    "###  Gram +/- categorization"
   ]
  },
  {
   "cell_type": "code",
   "execution_count": null,
   "metadata": {},
   "outputs": [],
   "source": [
    "###gram_categorizing +/-\n",
    "gram_categorizing= pd.DataFrame(notneg_cultures_pt_df_ab_cohort['org_name'].value_counts().reset_index())\n",
    "date='21012019'\n",
    "pd.DataFrame(gram_categorizing).to_csv(\"/Users/geickelb1/Documents/GitHub/mimiciii-antibiotics-modeling/data/raw/csv/%s_gram_categorizing.csv\" %date) #final cohort database n=11493 subject_id’s (7/6/18)\n"
   ]
  },
  {
   "cell_type": "code",
   "execution_count": null,
   "metadata": {},
   "outputs": [],
   "source": [
    "annotated_gram = pd.read_csv('/Users/geickelb1/Documents/GitHub/mimiciii-antibiotics-modeling/data/processed/21012019_gram_categorizing-nsp.csv')\n",
    "#organisms that grew in sc in our patients. annotation key:\n",
    "#1= gram +\n",
    "#0= gram -\n",
    "#2= mycobacterium or other \n",
    "pos_cultures_pt_df_ab_cohort= pd.merge(pos_cultures_pt_df_ab_cohort,annotated_gram[['org_name','Gram_pos']],\n",
    "                              left_on= 'org_name',\n",
    "                              right_on='org_name',\n",
    "                              how = 'left')\n",
    "\n",
    "#notneg_cultures_pt_df_ab_cohort.drop(i)"
   ]
  },
  {
   "cell_type": "code",
   "execution_count": null,
   "metadata": {},
   "outputs": [],
   "source": [
    "#final_pts_window_pos_sc.loc[final_pts_window_pos_sc.loc[:,'staph_count']>2,:]"
   ]
  },
  {
   "cell_type": "code",
   "execution_count": null,
   "metadata": {},
   "outputs": [],
   "source": [
    "#len(final_pts_window_pos_sc) #removed duplicate ['hadm_id', 'org_name', 'charttime'] =2848"
   ]
  },
  {
   "cell_type": "code",
   "execution_count": null,
   "metadata": {},
   "outputs": [],
   "source": [
    "len(pos_cultures_pt_df_ab_cohort.drop_duplicates(['hadm_id', 'org_name', 'charttime']))"
   ]
  },
  {
   "cell_type": "code",
   "execution_count": null,
   "metadata": {},
   "outputs": [],
   "source": [
    "pos_cultures_pt_df_ab_cohort.groupby('hadm_id')['Gram_pos'].apply(lambda x: min(x)).reset_index()"
   ]
  },
  {
   "cell_type": "markdown",
   "metadata": {},
   "source": [
    "### make list of all patients positive, negative sc cultures"
   ]
  },
  {
   "cell_type": "code",
   "execution_count": null,
   "metadata": {},
   "outputs": [],
   "source": [
    "#5/2/18, makes list of all pos culture result and specimen types for annotation on final df\n",
    "#organism name\n",
    "\n",
    "pos_cultures_pt_df_ab_cohort2 = pos_cultures_pt_df_ab_cohort.groupby('hadm_id')['Gram_pos'].apply(lambda x: min(x)).reset_index()\n",
    "\n",
    "pos_cultures_pt_df_ab_cohort3 = pos_cultures_pt_df_ab_cohort.groupby('hadm_id')['org_name'].apply(', '.join).reset_index() #changed to hadm_id from subject_id 08/16/2018\n",
    "pos_cultures_pt_df_ab_cohort3 = pos_cultures_pt_df_ab_cohort3.rename(index=str, columns={'org_name':'org_list'})\n",
    "\n",
    "#specimen type\n",
    "pos_cultures_pt_df_ab_cohort4 = pos_cultures_pt_df_ab_cohort.groupby('hadm_id')['spec_type_desc'].apply(', '.join).reset_index() #changed to hadm_id from subject_id 08/16/2018\n",
    "pos_cultures_pt_df_ab_cohort4 = pos_cultures_pt_df_ab_cohort4.rename(index=str, columns={'spec_type_desc':'spec_type_list'})\n",
    "\n",
    "#now have a column with all positive culture results and specimen types"
   ]
  },
  {
   "cell_type": "code",
   "execution_count": null,
   "metadata": {},
   "outputs": [],
   "source": [
    "#first dates for positive culture within criteria window, else first culture within criteria window.\n",
    "first_criteria_pos_culture= pos_cultures_pt_df_ab_cohort.groupby('hadm_id')['charttime'].apply(lambda x: min(x)).reset_index()\n",
    "first_criteria_any_culture= all_cultures_pt_df_ab_cohort.groupby('hadm_id')['charttime'].apply(lambda x: min(x)).reset_index()\n",
    "\n",
    "first_criteria_pos_culture= first_criteria_pos_culture.rename(index=str, columns={'charttime':'pos_charttime'})\n",
    "first_criteria_any_culture= pd.merge(first_criteria_any_culture, first_criteria_pos_culture, left_on='hadm_id', right_on='hadm_id', how='left')\n",
    "first_criteria_any_culture['first_pos_else_neg_ssc']= first_criteria_any_culture['pos_charttime']\n",
    "neg_else = first_criteria_any_culture['first_pos_else_neg_ssc'].isnull()\n",
    "first_criteria_any_culture.loc[neg_else, 'first_pos_else_neg_ssc'] = first_criteria_any_culture.loc[neg_else, 'charttime']\n",
    "first_criteria_any_culture=first_criteria_any_culture[['hadm_id','first_pos_else_neg_ssc']]"
   ]
  },
  {
   "cell_type": "markdown",
   "metadata": {},
   "source": [
    "# FINAL cohort generation\n",
    "08/16/18 qc. after chaning the patient criteira, i found that a lot of patients with multiple icustays now have identical culture results. need to explore where this is occuring.\n",
    "\n",
    "1) make final ab categorizations\n",
    "2) make final patient list with ab, sterile site culture results and final binning"
   ]
  },
  {
   "cell_type": "markdown",
   "metadata": {},
   "source": [
    "## this is final patient dataframe with n patients with following criteria:\n",
    "* antibiotic in PRESCRIPTION table within 24 hours of an sterile site culture in MICROBIOLOGYEVENTS table\n",
    "* who are over the age of 16. the culture result (annotated below) and antibiotic course (annotated below) are \n",
    "* also annotated on this. these patients were then categorized into 4 categories:\n",
    " * 'C_neg/A_partial'\n",
    " * 'C_neg/A_full'\n",
    " * 'C_pos/A_full'\n",
    " * 'C_pos/A_partial'\n",
    "#### notes:\n",
    "* 1)i considered any patient who had their last antibiotic date at or after either \n",
    "#hospital or ssn DOD as \"full\" ab course. \n",
    "\n",
    "* 2) i considered any patients who had the listed staph infections positive at \n",
    "#any of their sterile site cultures within the 72hour ab timewindow as a culture 'positive' patients. \n",
    "\n",
    "* 3) time window for positive culture is defined in SSC_for_cohort (default 72hr from t_0_sc)\n",
    "\n",
    "\n",
    "\n",
    "##### pd.DataFrame(final_pt_df2).to_csv('/Users/geickelb1/Documents/GitHub/mimiciii-antibiotics-modeling/data/raw/06072018_final_pt_df2.csv') #date may change"
   ]
  },
  {
   "cell_type": "code",
   "execution_count": null,
   "metadata": {
    "scrolled": true
   },
   "outputs": [],
   "source": [
    "#4/30/18: ASSEMBLING A FINAL PT LIST. \n",
    "#final_pts_window_pos_sc_list= list(final_pts_window_pos_sc['subject_id'].unique())\n",
    "final_pt_df=0\n",
    "final_pt_df = final_pt_df1#all_cultures_pt_df_ab_cohort[['subject_id','hadm_id','t_0_sc']]  #needs icustay_id\n",
    "\n",
    "final_pt_df = pd.merge(\n",
    "    final_pt_df,\n",
    "    ABrx_16sterile_ntnul_finalPT[['hadm_id','icustay_id','ab_course', 't_0','t_end_consec','ICU_admit']], #testing the ICU_admit with this\n",
    "    left_on= 'hadm_id', #changed from subject_id\n",
    "    right_on='hadm_id',\n",
    "    how = 'left')\n",
    "\n",
    "final_pt_df = pd.merge(\n",
    "    final_pt_df,\n",
    "    dod_df2,\n",
    "    left_on= 'subject_id',\n",
    "    right_on='subject_id',\n",
    "    how = 'left')\n",
    "\n",
    "final_pt_df = pd.merge(\n",
    "    final_pt_df,\n",
    "    pos_cultures_pt_df_ab_cohort3,\n",
    "    left_on= 'hadm_id', #changed to hadm_id from subject_id 08/16/18\n",
    "    right_on='hadm_id', #changed to hadm_id from subject_id 08/16/18\n",
    "    how = 'left')\n",
    "\n",
    "final_pt_df = pd.merge(\n",
    "    final_pt_df,\n",
    "    pos_cultures_pt_df_ab_cohort4,\n",
    "    left_on= 'hadm_id', #changed to hadm_id from subject_id 08/16/18\n",
    "    right_on='hadm_id', #changed to hadm_id from subject_id 08/16/18\n",
    "    how = 'left')\n",
    "\n",
    "final_pt_df = pd.merge(\n",
    "    final_pt_df,\n",
    "    pos_cultures_pt_df_ab_cohort2,\n",
    "    left_on= 'hadm_id', #changed to hadm_id from subject_id 08/16/18\n",
    "    right_on='hadm_id', #changed to hadm_id from subject_id 08/16/18\n",
    "    how = 'left')\n",
    "\n",
    "final_pt_df = pd.merge(\n",
    "    final_pt_df,\n",
    "    first_criteria_any_culture,\n",
    "    left_on= 'hadm_id', #changed to hadm_id from subject_id 08/16/18\n",
    "    right_on='hadm_id', #changed to hadm_id from subject_id 08/16/18\n",
    "    how = 'left')\n",
    "\n",
    "final_pt_df= final_pt_df.rename(index=str, columns={'delta':'dod_delta'})\n",
    "final_pt_df['sc_result']=''\n",
    "final_pt_df['final_bin']=''\n",
    "\n",
    "#task 1, marking of all patients positive, negative sc cultures\n",
    "final_pt_df.loc[final_pt_df.loc[:,'hadm_id'].isin(pos_cultures_pt_df_ab_cohort_list),'sc_result']='positive' #changed to hadm_id from subject_id 08/16/18\n",
    "final_pt_df.loc[final_pt_df.loc[:,'sc_result']!='positive','sc_result']='negative'\n",
    "#1 is positive, 0 is negative\n",
    "\n",
    "#FINAL_PT_LIST=list(final_pt_df['subject_id'].unique())\n",
    "final_pt_df.loc[(final_pt_df['ab_course']=='partial') \n",
    "                   & (final_pt_df['sc_result']=='negative'),'final_bin']='C_neg/A_partial'\n",
    "final_pt_df.loc[(final_pt_df['ab_course']=='full') \n",
    "                   & (final_pt_df['sc_result']=='negative'),'final_bin']='C_neg/A_full'\n",
    "final_pt_df.loc[(final_pt_df['ab_course']=='full') \n",
    "                   & (final_pt_df['sc_result']=='positive'),'final_bin']='C_pos/A_full'\n",
    "final_pt_df.loc[(final_pt_df['ab_course']=='partial') \n",
    "                   & (final_pt_df['sc_result']=='positive'),'final_bin']='C_pos/A_partial'\n",
    "\n",
    "#len(list(final_pts_window_pos_sc['subject_id'].unique())) #2630\n",
    "\n",
    "final_pt_df\n",
    "final_pt_df2= final_pt_df.loc[final_pt_df.loc[:,'ab_course']!='',:].drop_duplicates('hadm_id')\n"
   ]
  },
  {
   "cell_type": "code",
   "execution_count": null,
   "metadata": {},
   "outputs": [],
   "source": [
    "final_pt_df2.loc[final_pt_df2.loc[:,'sc_result']=='positive','Gram_pos'].value_counts()"
   ]
  },
  {
   "cell_type": "code",
   "execution_count": null,
   "metadata": {},
   "outputs": [],
   "source": [
    "print(final_pt_df2['icustay_id'].nunique(), final_pt_df2['subject_id'].nunique())"
   ]
  },
  {
   "cell_type": "code",
   "execution_count": null,
   "metadata": {},
   "outputs": [],
   "source": [
    "print(final_pt_df2['final_bin'].value_counts())#11493 "
   ]
  },
  {
   "cell_type": "code",
   "execution_count": null,
   "metadata": {},
   "outputs": [],
   "source": [
    "\n",
    "#4921+3539+481+188\n",
    "#(481+188)/9129 ##7.3%\n",
    "\n",
    "n2= 4688 +3422 + 439+ 182\n",
    "\n",
    "(439+182)/n2 ##7.1%"
   ]
  },
  {
   "cell_type": "code",
   "execution_count": null,
   "metadata": {},
   "outputs": [],
   "source": [
    "final_pt_df2['sc_result'].value_counts() # 8460 669"
   ]
  },
  {
   "cell_type": "code",
   "execution_count": null,
   "metadata": {},
   "outputs": [],
   "source": [
    "final_pt_df2['Gram_pos'].value_counts()"
   ]
  },
  {
   "cell_type": "markdown",
   "metadata": {},
   "source": [
    "#prior to 72 hour change\n",
    "- C_neg/A_full       6489 -> 7041 (all culture for pt, only blood for sc results) / 6000 (all cultures)\n",
    "- C_neg/A_partial    5788 -> 6663 / 5546\n",
    "- C_pos/A_full       1008 -> 1010 / 2127\n",
    "- C_pos/A_partial     478 -> 493 / 1534"
   ]
  },
  {
   "cell_type": "code",
   "execution_count": null,
   "metadata": {},
   "outputs": [],
   "source": [
    "final_pt_df2"
   ]
  },
  {
   "cell_type": "markdown",
   "metadata": {},
   "source": [
    "# assessing t_0, t_0_sc & icuadmit"
   ]
  },
  {
   "cell_type": "code",
   "execution_count": null,
   "metadata": {},
   "outputs": [],
   "source": [
    "# final_pt_df3= final_pt_df2[final_pt_df2['sc_result']=='positive']\n",
    "# final_pt_df3"
   ]
  },
  {
   "cell_type": "code",
   "execution_count": null,
   "metadata": {},
   "outputs": [],
   "source": [
    "# #t_0_sc is the first culture within 24 hours to t_0. how often is this the first positive cultur date?\n",
    "\n",
    "\n",
    "# ###################\n",
    "\n",
    "# #final_pts_window_pos_sc.head()\n",
    "# first_pos_sc= final_pts_window_pos_sc.groupby('hadm_id')['charttime'].agg(['min']).rename(columns={'min': 'first_pos_ssc'}).reset_index()\n",
    "# #pd.Dafirst_pos_sc\n",
    "\n",
    "# test_df= pd.merge(final_pt_df3,first_pos_sc)\n",
    "# #test_df.head()\n",
    "# delta= test_df['first_pos_ssc']-test_df['t_0_sc'] #\n",
    "# delta[delta!='0 days 00:00:00'].describe()\n",
    "# delta.describe()"
   ]
  },
  {
   "cell_type": "code",
   "execution_count": null,
   "metadata": {},
   "outputs": [],
   "source": [
    "# ##good news is first positive ssc is never sooner than t_0_sc.\n",
    "\n",
    "# #looking at all sc chartdates vs t_0 for all pt\n",
    "# #final_pts_window_pos_sc\n",
    "\n",
    "# all_sc_and_t0=pd.merge(final_pts_window_pos_sc,\n",
    "#          ABrx_16sterile_ntnul_finalPT[['hadm_id','ab_course', 't_0','t_end_consec','ICU_admit']],\n",
    "#          left_on='hadm_id',\n",
    "#          right_on='hadm_id',\n",
    "#          how='left')\n",
    "\n",
    "# all_sc_and_t0['sc_t0_delta']= pd.to_datetime(all_sc_and_t0['charttime']) -pd.to_datetime(all_sc_and_t0['t_0'])\n",
    "# all_sc_and_t0['sc_admit_delta']= pd.to_datetime(all_sc_and_t0['charttime']) -pd.to_datetime(all_sc_and_t0['ICU_admit'])\n",
    "# all_sc_and_t0['t_0_admit_delta']= pd.to_datetime(all_sc_and_t0['t_0']) -pd.to_datetime(all_sc_and_t0['ICU_admit'])"
   ]
  },
  {
   "cell_type": "code",
   "execution_count": null,
   "metadata": {},
   "outputs": [],
   "source": [
    "# all_sc_and_t0['sc_admit_delta'].describe(percentiles=[0.25,0.5,0.6,0.75,0.9]) #the time difference between sterile culture and ICU admission time\n",
    "\n",
    "# ##the minimum value on this is perplexing, \n",
    "# ##it suggests the one patient had their first sc positive culture done about 36 hours PRIOR to being admitted to icu.\n"
   ]
  },
  {
   "cell_type": "code",
   "execution_count": null,
   "metadata": {},
   "outputs": [],
   "source": [
    "# #this patient had the longest time between their SC and being admitted to ICU. one of the few cases where sc and t_0 started before ICU admit. \n",
    "# all_sc_and_t0[all_sc_and_t0['sc_admit_delta']=='-2 days +12:47:05'] #hadm_id 154930\n",
    "# all_sc_and_t0[all_sc_and_t0['hadm_id']==154930]"
   ]
  },
  {
   "cell_type": "code",
   "execution_count": null,
   "metadata": {},
   "outputs": [],
   "source": [
    "# #how many cases where sc and t_0 started before ICU admit?\n",
    "# #all_sc_and_t0['t_0_admit_delta']<pd.Timedelta(0)\n",
    "# #all_sc_and_t0[(all_sc_and_t0['sc_admit_delta']<pd.Timedelta(0))]\n",
    "# c1=(all_sc_and_t0['sc_admit_delta']<pd.Timedelta(0))\n",
    "# c2=(all_sc_and_t0['t_0_admit_delta']<pd.Timedelta(0))\n",
    "# all_sc_and_t0[(c1 & c2)]['hadm_id'].nunique()\n",
    "\n",
    "# #322/1503 patients where both sc and t_0 started prior to ICU admission... damn... is this a problem?"
   ]
  },
  {
   "cell_type": "code",
   "execution_count": null,
   "metadata": {},
   "outputs": [],
   "source": [
    "# sterile_all_pt_info[sterile_all_pt_info['hadm_id']==154930].drop_duplicates(['hadm_id','culture_charttime','ICU_admit' ])[[\n",
    "#     'hadm_id','culture_charttime','first_wardid','ICU_admit' ,'hosp_admit', 'admission_location','admission_type',]]"
   ]
  },
  {
   "cell_type": "code",
   "execution_count": null,
   "metadata": {},
   "outputs": [],
   "source": []
  },
  {
   "cell_type": "code",
   "execution_count": null,
   "metadata": {},
   "outputs": [],
   "source": [
    "# all_sc_and_t0['sc_t0_delta'].describe() #about 1/2 of the patients got their bacterial cutlure \n",
    "# ## average is 1.5hours after culture ab were started (but rounding error makes this approx)"
   ]
  },
  {
   "cell_type": "code",
   "execution_count": null,
   "metadata": {},
   "outputs": [],
   "source": [
    "#average time between \n",
    "\n",
    "#all_sc_and_t0['t_0_admit_delta'].describe(percentiles=[0.25, 0.5, 0.75, 0.9]) #the time difference between t_0 and ICU admission time\n",
    "## looks like lowest delta suggests the earliest t_0 occured 12 hours before admission time (though again this is likely lower due to rounding). \n",
    "## average is 10.5 hours after admission ab were started"
   ]
  },
  {
   "cell_type": "markdown",
   "metadata": {},
   "source": [
    "##need to collapse to first positive ssc \n",
    "###NOTE, I WILL NEED TO COME BACK TO THIS IN THE FUTURE TO PRIORITIZE GRAM + IF THERE ARE 2 POSITIVE SSC\n",
    "\n",
    "#### few concerns:\n",
    "* about 1/2 of the patients got their first positive bacterial cutlure performed prior to the t_0 date.\n",
    " * this can be a big deal if it happened too far BEFORE, it could bea big deal\n",
    "* in about 60% of icustay_id's, the sterile culture occured before they were admitted to the ICU. \n",
    "* similarly: 322/1503 patients where both first positive ssc and t_0 (ab start date) occured prior to ICU admission (within 24 hours)... these are likely transfer patients\n",
    " * note: the t_0 date is a date, and not a time, so this limits how accurate we can be about the ab start date comparison. howver admission time and culture time have time resolution.\n",
    "* patients may have more than 1 positive culture within time window, should I prioritize certain ones over others?\n",
    "* some patients may have been transfered in \n"
   ]
  },
  {
   "cell_type": "code",
   "execution_count": null,
   "metadata": {},
   "outputs": [],
   "source": []
  },
  {
   "cell_type": "code",
   "execution_count": null,
   "metadata": {},
   "outputs": [],
   "source": [
    "##looking at first pos sc\n"
   ]
  },
  {
   "cell_type": "code",
   "execution_count": null,
   "metadata": {},
   "outputs": [],
   "source": [
    "# #final_pts_window_pos_sc.head()\n",
    "# first_pos_sc= final_pts_window_pos_sc.groupby('hadm_id')['charttime'].agg(['min']).rename(columns={'min': 'first_pos_ssc'}).reset_index()\n",
    "# #pd.Dafirst_pos_sc\n",
    "\n",
    "# test_df= pd.merge(final_pt_df3,first_pos_sc)\n",
    "# #test_df.head()\n",
    "# delta= test_df['first_pos_ssc']-test_df['t_0_sc'] #\n",
    "# delta[delta!='0 days 00:00:00'].describe()\n",
    "# delta.describe()\n"
   ]
  },
  {
   "cell_type": "code",
   "execution_count": null,
   "metadata": {},
   "outputs": [],
   "source": [
    "# ##all info for first pos ssc\n",
    "\n",
    "# ##need to collapse to first positive ssc \n",
    "# ###NOTE, I WILL NEED TO COME BACK TO THIS IN THE FUTURE TO PRIORITIZE GRAM + IF THERE ARE 2 POSITIVE SSC\n",
    "\n",
    "# ###there's a few concerns: \n",
    "# ###1:\n",
    "# first_sc_and_t0= all_sc_and_t0.groupby('hadm_id', as_index=False)['charttime'].agg(['min']).rename(columns={'min': 'first_pos_ssc'}).reset_index()\n",
    "\n",
    "# first_sc_and_t0 =pd.merge(first_sc_and_t0,\n",
    "#          all_sc_and_t0,\n",
    "#          left_on=['hadm_id','first_pos_ssc'],\n",
    "#          right_on=['hadm_id','charttime'])"
   ]
  },
  {
   "cell_type": "markdown",
   "metadata": {},
   "source": [
    "### stats for first positive ssc"
   ]
  },
  {
   "cell_type": "code",
   "execution_count": null,
   "metadata": {},
   "outputs": [],
   "source": [
    "# ###stats for first positive sc. \n",
    "# first_sc_and_t0['sc_t0_delta'].describe()"
   ]
  },
  {
   "cell_type": "code",
   "execution_count": null,
   "metadata": {},
   "outputs": [],
   "source": [
    "#do i need to grab clinical data in previous project between icu admit and t_0 +72?\n",
    "##no"
   ]
  },
  {
   "cell_type": "code",
   "execution_count": null,
   "metadata": {},
   "outputs": [],
   "source": [
    "# first_sc_and_t0[first_sc_and_t0['t_0_admit_delta']>pd.Timedelta('3 day')] #89"
   ]
  },
  {
   "cell_type": "code",
   "execution_count": null,
   "metadata": {},
   "outputs": [],
   "source": [
    "# ##blood cultures rather than all ssc are for cleaner dataset.\n",
    "\n",
    "# first_sc_and_t0\n",
    "# #look for first positive blood culture AFTER ICU ADMISSION. \n",
    "\n",
    "# all_sc_and_t0_icu=all_sc_and_t0[(all_sc_and_t0['charttime']- all_sc_and_t0['ICU_admit'])>pd.Timedelta('0 day')]\n",
    "# #1700 -> 1116 rows if looking at only positive cultures within ICU. \n",
    "# #find clinical data 12-24 hours after the first positive blood culture in icu. \n",
    "# #need to dig through clinical data and see which variables i may need to extract. \n",
    "# ##find the avg time between icu admit and first positive blood culture in icu being obtained. \n",
    "\n",
    "# (all_sc_and_t0_icu['charttime']- all_sc_and_t0_icu['ICU_admit']).describe()\n",
    "\n",
    "# ##for those who have blood culture obtained, for those who are pos what kind, and if not then -. \n",
    "\n",
    "# ##clinical use case: we know that some ppl have positive infections, \n",
    "# ##and for those who would like to taior their ab to targeted towards type of infection.\n",
    "# ##if they ar epositive, what is the likelyhood of the bacteria being positive?\n",
    "# ## bayesian hierarchial model: first model +/- (multilevel prediction model)\n",
    "# ##second model: for pos gram+ or gram -. \n"
   ]
  },
  {
   "cell_type": "markdown",
   "metadata": {},
   "source": [
    "# cohort generated above\n",
    "\n",
    "dr luo request:\n",
    "\n",
    "It would also be good to add the start and end time for the antibiotics. --DONE\n",
    "\n",
    "\n",
    "Dr. Nelson request:\n",
    "\n",
    " 1)provide an extra column with the DOD. --DONE\n",
    " \n",
    " 2)one with the first positive culture results (the actual value, as in “Enteroccous Faecalis”, etc.) for those with positive cultures, \n",
    " \n",
    " 3)the type of culture (eg. urine, blood, etc.)."
   ]
  },
  {
   "cell_type": "code",
   "execution_count": null,
   "metadata": {},
   "outputs": [],
   "source": [
    "# #5/15/18 to do, regenerate this for our cohort to get count of sterile site cultures. \n",
    "# #breakdown the 1345 pts cultures, \n",
    "# #if a patient has multiple culture types within 24 hr peroid, would be nice to know which are +/-. \n",
    "# #more informative to know if pt was ever pos for bloodculture.\n",
    "\n",
    "# #Look at distribution of all cultures within the 24 hour mark. \n",
    "\n",
    "# %pylab inline\n",
    "# pylab.rcParams['figure.figsize'] = (10, 6)\n",
    "# sterile_test_df.spec_type_desc.value_counts().head(20).sort_values(ascending=True).plot.barh()"
   ]
  },
  {
   "cell_type": "code",
   "execution_count": null,
   "metadata": {},
   "outputs": [],
   "source": [
    "# #sc maths\n",
    "\n",
    "# pa2_final_pt= final_pt_df2[final_pt_df2['sc_result']==\"positive\"]\n",
    "\n",
    "# #need to be sure i have currently listd  the first positive ssc date within t_0 to t_72 window.\n",
    "# ##don't need to collect additional data prior to t_0 for ongoing project. \n",
    "# pa2_final_pt"
   ]
  },
  {
   "cell_type": "code",
   "execution_count": null,
   "metadata": {},
   "outputs": [],
   "source": []
  },
  {
   "cell_type": "code",
   "execution_count": null,
   "metadata": {},
   "outputs": [],
   "source": []
  },
  {
   "cell_type": "code",
   "execution_count": null,
   "metadata": {},
   "outputs": [],
   "source": []
  },
  {
   "cell_type": "markdown",
   "metadata": {},
   "source": [
    "# compiling the dataframes into csv's"
   ]
  },
  {
   "cell_type": "code",
   "execution_count": 123,
   "metadata": {},
   "outputs": [
    {
     "name": "stdout",
     "output_type": "stream",
     "text": [
      "time: 157 ms\n"
     ]
    }
   ],
   "source": [
    "date='25012019'\n",
    "\n",
    "pd.DataFrame(final_pt_df2).to_csv(\"/Users/geickelb1/Documents/GitHub/mimiciii-antibiotics-modeling/data/raw/csv/%s_final_pt_PA_df2.csv\" %date) #final cohort database n=11493 subject_id’s (7/6/18)\n"
   ]
  },
  {
   "cell_type": "markdown",
   "metadata": {},
   "source": [
    "style guide stuff:\n",
    "    \n",
    "79 characters is longest a line should be, this is 79 chars:\n",
    "Address the unique rows issue in the sterile culture. Need to use this to filkter down the staph."
   ]
  },
  {
   "cell_type": "code",
   "execution_count": null,
   "metadata": {},
   "outputs": [],
   "source": [
    "#last instance of ICU_admit time. "
   ]
  },
  {
   "cell_type": "code",
   "execution_count": null,
   "metadata": {},
   "outputs": [],
   "source": [
    "#final_pt_df2"
   ]
  },
  {
   "cell_type": "code",
   "execution_count": null,
   "metadata": {},
   "outputs": [],
   "source": [
    "(pd.to_datetime(final_pt_df2['t_0'])-pd.to_datetime(final_pt_df2['ICU_admit'])).describe()"
   ]
  },
  {
   "cell_type": "markdown",
   "metadata": {},
   "source": [
    "# may need to remove these 5% of patients:\n",
    "these patients are not likely admitted to icu with suspecision of infection, but rather develop it after t_0"
   ]
  },
  {
   "cell_type": "code",
   "execution_count": null,
   "metadata": {},
   "outputs": [],
   "source": [
    "# final_pt_df2['admit_vs_t_0']= (pd.to_datetime(final_pt_df2['t_0'])-pd.to_datetime(final_pt_df2['ICU_admit']))\n",
    "\n",
    "# final_pt_df2[final_pt_df2['admit_vs_t_0']>pd.Timedelta('4 day')]\n",
    "\n",
    "# #535"
   ]
  },
  {
   "cell_type": "code",
   "execution_count": null,
   "metadata": {},
   "outputs": [],
   "source": [
    "# len(final_pt_df2)\n",
    "# 812/15207"
   ]
  },
  {
   "cell_type": "code",
   "execution_count": null,
   "metadata": {},
   "outputs": [],
   "source": [
    "# final_pt_df2['admit_vs_t_0_td']=final_pt_df2['admit_vs_t_0'].astype(np.timedelta64)"
   ]
  },
  {
   "cell_type": "code",
   "execution_count": null,
   "metadata": {},
   "outputs": [],
   "source": [
    "# final_pt_df2.sort_values('admit_vs_t_0_td')\n",
    "\n",
    "# final_pt_df2[final_pt_df2['admit_vs_t_0_td']<-1e+14].sort_values('admit_vs_t_0_td')['subject_id'].nunique() #3519/11488 patients have a delta of greater than 2 days of their icustay\n",
    "\n"
   ]
  },
  {
   "cell_type": "code",
   "execution_count": null,
   "metadata": {},
   "outputs": [],
   "source": []
  }
 ],
 "metadata": {
  "celltoolbar": "Slideshow",
  "kernelspec": {
   "display_name": "Python 3",
   "language": "python",
   "name": "python3"
  },
  "language_info": {
   "codemirror_mode": {
    "name": "ipython",
    "version": 3
   },
   "file_extension": ".py",
   "mimetype": "text/x-python",
   "name": "python",
   "nbconvert_exporter": "python",
   "pygments_lexer": "ipython3",
   "version": "3.6.4"
  }
 },
 "nbformat": 4,
 "nbformat_minor": 2
}
