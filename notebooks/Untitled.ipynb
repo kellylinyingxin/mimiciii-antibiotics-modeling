{
 "cells": [
  {
   "cell_type": "code",
   "execution_count": 3,
   "metadata": {},
   "outputs": [],
   "source": [
    "library(readxl)\n",
    "library(doBy)\n",
    "library(knitr)\n",
    "library(magrittr)\n",
    "library(ggplot2)\n",
    "library(gridExtra)\n",
    "library(dplyr)\n",
    "library(alr4)\n",
    "library(effects)\n",
    "library(GGally)\n",
    "library(lsmeans)\n",
    "library(MASS)\n",
    "library(Rlab)\n",
    "library(BlandAltmanLeh)\n",
    "library(psych)\n",
    "library(plyr)\n",
    "library(biomaRt)\n",
    "library(Biobase)\n",
    "library(reshape2)\n",
    "library(tidyverse)\n",
    "library(mosaic)\n",
    "library(ggpmisc)\n",
    "library(cowplot)\n",
    "library(ggpubr)\n",
    "library(stargazer)\n",
    "options(width = 100)\n"
   ]
  },
  {
   "cell_type": "code",
   "execution_count": 4,
   "metadata": {},
   "outputs": [],
   "source": [
    "\n",
    "###file locations for github\n",
    "\n",
    "final_pt_df2 <- read.csv('/Users/geickelb1/Documents/GitHub/mimiciii-antibiotics-modeling/data/raw/csv/06072018_final_pt_df2.csv', stringsAsFactors=FALSE, fileEncoding=\"latin1\")\n",
    "#vaso_df <- read.csv('/Users/geickelb1/Documents/GitHub/mimiciii-antibiotics-modeling/data/raw/csv/10072018_vaso_all_df.csv', stringsAsFactors=FALSE, fileEncoding=\"latin1\")\n",
    "\n",
    "labs_all48<- read.csv('/Users/geickelb1/Documents/GitHub/mimiciii-antibiotics-modeling/data/wrangled/labs_all48_df.csv', stringsAsFactors=FALSE, fileEncoding=\"latin1\")\n",
    "\n",
    "#bg_all48<- read.csv('/Users/geickelb1/Documents/GitHub/mimiciii-antibiotics-modeling/data/wrangled/labs_all48_df.csv', stringsAsFactors=FALSE, fileEncoding=\"latin1\")\n",
    "\n",
    "#vital_all48<- read.csv('/Users/geickelb1/Documents/GitHub/mimiciii-antibiotics-modeling/data/wrangled/vital_all48_df.csv', stringsAsFactors=FALSE, fileEncoding=\"latin1\")\n",
    "\n"
   ]
  },
  {
   "cell_type": "code",
   "execution_count": null,
   "metadata": {},
   "outputs": [],
   "source": [
    " v<-labs_all48[,c('label','valuenum')\n",
    "\n",
    "a<- ggplot(, aes(x=valuenum)) #+ geom_density()\n",
    "\n",
    "a + facet_wrap(~ label, scales = \"free\") + geom_density(aes(color = label)) # "
   ]
  },
  {
   "cell_type": "code",
   "execution_count": null,
   "metadata": {},
   "outputs": [],
   "source": [
    "tsdata[,c('logreldelta','iecog', 'istage', 'ifemale','age', 'age2','itrt' )]"
   ]
  }
 ],
 "metadata": {
  "kernelspec": {
   "display_name": "R",
   "language": "R",
   "name": "ir"
  },
  "language_info": {
   "codemirror_mode": "r",
   "file_extension": ".r",
   "mimetype": "text/x-r-source",
   "name": "R",
   "pygments_lexer": "r",
   "version": "3.4.3"
  }
 },
 "nbformat": 4,
 "nbformat_minor": 2
}
